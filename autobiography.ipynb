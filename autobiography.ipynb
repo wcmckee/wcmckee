{
 "metadata": {
  "name": "",
  "signature": "sha256:dc2fd0bcc3b97889856073826a8ad97c21080a13e65608037be466dcf31a4877"
 },
 "nbformat": 3,
 "nbformat_minor": 0,
 "worksheets": [
  {
   "cells": [
    {
     "cell_type": "markdown",
     "metadata": {},
     "source": [
      "My name is William Clifford Mckee and this is my autobiography. Written in November 2014.\n",
      "\n",
      "Structure:\n",
      "\n"
     ]
    },
    {
     "cell_type": "markdown",
     "metadata": {},
     "source": [
      "Hello. Testing one two three. \n",
      "Screw you guys. I'm going to bed.\n",
      "\n",
      "History. Mum and Dad\n",
      "\n",
      "\n",
      "One of my early drawing memories was of my friend Wayne. Around age 10. His art was better than mine. I wanted to be better.\n",
      "I can't remember seriously drawing untill after high school.\n",
      "\n",
      "I had a friend at highschool whos artwork I admired. \n",
      "He got in trouble once for drawing nudes.\n",
      "I rembmer being ifn the art room at intermediate. I have better memories of cooking and wood work than art.\n",
      "Paint yourself said the reliever.\n",
      "\n",
      "We had art folder. Kids would cover these black folders in art. I was always embarrassed by the art on mine. I would hide it by carrying the folder so that art was facing the inside. \n",
      "Today I walk around with a visual diary and will let anyone look. \n",
      "I'm always very critical of my art though. \n",
      "\n",
      "\n",
      "I hated using artist models and copy their painting.\n",
      "My painting skills were low - needed to develop drawing and confidence.\n",
      "I am tired.\n",
      "More bad news tonight\n",
      "\n",
      "I had some excellent tutors that helped me develop my painting. Most notable was Gary Freemantle and Roger Key.\n",
      "Gary pushed my abstraction and color \n",
      "\n",
      "Key  pushed obsovational painting and focusing on lights and darks. \n",
      "\n",
      "The classes I did at The Learning Connextion were "
     ]
    }
   ],
   "metadata": {}
  }
 ]
}