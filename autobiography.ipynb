{
 "metadata": {
  "name": "",
  "signature": "sha256:38deb206b2dd3596cc981cd57ce06a90d441fc47800a8a0ab1e4ed6f94c9b2c6"
 },
 "nbformat": 3,
 "nbformat_minor": 0,
 "worksheets": [
  {
   "cells": [
    {
     "cell_type": "markdown",
     "metadata": {},
     "source": [
      "My name is William Clifford Mckee and this is my autobiography. Written in November 2014.\n",
      "\n",
      "Structure:\n",
      "\n"
     ]
    }
   ],
   "metadata": {}
  }
 ]
}