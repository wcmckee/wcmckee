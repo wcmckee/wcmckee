{
 "metadata": {
  "name": "",
  "signature": "sha256:99a9b5e8d15d0f8e6bc95cf741e4da6f12611c26498c61eedc746e5d45261a14"
 },
 "nbformat": 3,
 "nbformat_minor": 0,
 "worksheets": [
  {
   "cells": [
    {
     "cell_type": "markdown",
     "metadata": {},
     "source": [
      "My name is William Clifford Mckee and this is my autobiography. Written in November 2014.\n",
      "\n",
      "Structure:\n",
      "\n"
     ]
    },
    {
     "cell_type": "markdown",
     "metadata": {},
     "source": [
      "Hello. Testing one two three. \n",
      "Screw you guys. I'm going to bed.\n",
      "\n",
      "History. Mum and Dad\n",
      "\n",
      "\n",
      "One of my early drawing memories was of my friend Wayne. Around age 10. His art was better than mine. I wanted to be better.\n",
      "I can't remember seriously drawing untill after high school.\n",
      "\n",
      "I had a friend at highschool whos artwork I admired. \n",
      "He got in trouble once for drawing nudes.\n",
      "I rembmer being ifn the art room at intermediate. I have better memories of cooking and wood work than art.\n",
      "Paint yourself said the reliever.\n",
      "\n",
      "We had art folder. Kids would cover these black folders in art. I was always embarrassed by the art on mine. I would hide it by carrying the folder so that \n",
      "I hated using artist models and copy their painting.\n",
      "My painting skills were low - needed to develop drawing and confidence.\n",
      "I am tired.\n",
      "More bad news tonightm\n"
     ]
    }
   ],
   "metadata": {}
  }
 ]
}