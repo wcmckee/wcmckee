{
 "cells": [
  {
   "cell_type": "markdown",
   "metadata": {},
   "source": [
    "perform ls on directory looking for most recent rst file change. \n",
    "Gets wordcount, most recent word, date and time of this change. \n",
    "\n",
    "Record the wordcount in a json object, compare to older json objects and \n",
    "punish or rewards depending on changes. \n",
    "\n",
    "Tweets during the day of changes. "
   ]
  },
  {
   "cell_type": "code",
   "execution_count": 16,
   "metadata": {
    "collapsed": false
   },
   "outputs": [],
   "source": [
    "import os\n",
    "import glob\n",
    "import getpass\n"
   ]
  },
  {
   "cell_type": "code",
   "execution_count": 2,
   "metadata": {
    "collapsed": false
   },
   "outputs": [],
   "source": [
    "theusr = getpass.getuser()"
   ]
  },
  {
   "cell_type": "code",
   "execution_count": 38,
   "metadata": {
    "collapsed": true
   },
   "outputs": [],
   "source": [
    "def getRecent():\n",
    "    return max(glob.iglob('/home/' + theusr + '/github/writersdenhamilton/posts/*.rst'),\n",
    "                       key=os.path.getctime)\n",
    "\n",
    "def getPaths():\n",
    "    return os.path.basename(newest)\n",
    "\n",
    "def getWords():\n",
    "    with open(getRecent(), 'r', encoding='utf-8') as infile:\n",
    "        return infile.read()\n",
    "\n",
    "def getSplit():\n",
    "    return getWords()"
   ]
  },
  {
   "cell_type": "code",
   "execution_count": 39,
   "metadata": {
    "collapsed": false
   },
   "outputs": [
    {
     "data": {
      "text/plain": [
       "'/home/wcmckee/github/writersdenhamilton/posts/will-tlc.rst'"
      ]
     },
     "execution_count": 39,
     "metadata": {},
     "output_type": "execute_result"
    }
   ],
   "source": [
    "getRecent()"
   ]
  },
  {
   "cell_type": "code",
   "execution_count": 40,
   "metadata": {
    "collapsed": false
   },
   "outputs": [
    {
     "data": {
      "text/plain": [
       "'will-tlc.rst'"
      ]
     },
     "execution_count": 40,
     "metadata": {},
     "output_type": "execute_result"
    }
   ],
   "source": [
    "getPaths()"
   ]
  },
  {
   "cell_type": "code",
   "execution_count": 41,
   "metadata": {
    "collapsed": false
   },
   "outputs": [
    {
     "data": {
      "text/plain": [
       "\"I attended The Learning Connexion between July 2010 and December 2012.\\nMy time was spent drawing/painting on-site, and digital painting/3d modeling and coding off-site.\\nMy favorite classes were Dan Wilkinson, Roger Key, Gary Freemantle and Marc Hill, but I loved any class that offered a life model.  \\nI also spent my time at TLC learning to code in Python. The bus trips in the morning from Newtown to Taita consisted of me typing Python code, and returning home. I was running Ubuntu on my systems.\\nReturning home each night, I would upload the drawings I had produced that day and blog about them. Some nights I reached 2000+ word count. It was mostly self reflection notes about the day and they drawings - talking about all technical aspects of the works - line, tone, areas that could be improved on, \\nI never did computers on-site but taught myself digital painting (GIMP)and 3d modeling (Blender) at home. I wanted to be a concept artist - but I fit into being a technical artist. \\n \\nDrawing, digital painting, writing, game development/publishing, Linux sysadmin, av volunteer at tech conferences and coding (still Python) is \\nmy day to day go to.\\n \\nLinux Debian 8 runs on the majority of machines. Art and games are licensed under a Creative Commons (CC BY 4.0) and code under MIT. I like these licenses as they are the most liberal.\\n\\nI have several sites that I have built over the years - to host content that I have created.\\n\\nArtControl.me: The Art Of William Mckee:\\n\\nArtControl has been around since before I started at TLC. It's used to host my artwork. A mixture of traditional and digital artworks. During my time at TLC it was filled with life drawings. I would get home after a long day of life drawing, upload my drawings and discuss them. The site greatly improved my writing skills. Word Counts skyrocketed - reaching over 2000 words in a evening.\\nNowadays the site doesn't get uploaded as much but I aim to put some digital paintings up now and then. \\n\\n\\nBroBeur Studios:\\n\\t\\nBroBeur Studios is a one man game development and publishing powerhouse. Formed in March 2013 with the goal of taking artwork from artcontrol.me into Video Games. ArtControl had previously done some game development but I wanted an alternative site and identity for the game dev. BroBeur Studios creates games in Unity3d and Python. \\nBroBeur takes many elements from ArtControl but extends them further with 3d, gamedev, and publishing.\\nBroBeur also builds software. Lately I have been working on post production video editing. This is done with Python. \\nOne of my latest scripts opens up a random selection of images from a folder - then blends and mixes them together, and saves the results. Other Python programs I have worked on are web scalping (bbc news, various adult sites, and even the TLC sites). \\nI'm getting it to do a bunch of cool stuff along the way - such as adding black bars to the top and bottom of the screen, text, and buzzy image results. Each time I hit run I have no idea of the results. A surprise each time. \\nIn future I plan on mixing these post production image effects with my video games and work on editing a film/television show.\\nI use GIT for source control and host everything on Github.\\nWorking on a game for a television show or film is also on the list. I've previously worked on a Dune game that was inspired during reading of the book.\\nGame Of Thrones and The Hobbit/LOTR are other IPs that I have explored in Game Design. \\nGames are cross platform - focusing on web, Linux and Android.  \\nSome say my games are not games but more of an art experience. I like to think of them as cinematic adventure games. Largely influenced by game development companies such as  \\nsuch as Telltale (The Walking Dead), Blizzard, Double Fine, and Lucas Arts.\\nI want to make games that feel and play like television shows and movies.\\nA shift has been made away from game development and into software and operating system development. It's an area I'd like to get back into - \\nespecially with the discovery of the game engine Godot. Godot is similar to Unity3d but is crossplatform.\\n\""
      ]
     },
     "execution_count": 41,
     "metadata": {},
     "output_type": "execute_result"
    }
   ],
   "source": [
    "getWords()"
   ]
  },
  {
   "cell_type": "code",
   "execution_count": 37,
   "metadata": {
    "collapsed": false
   },
   "outputs": [
    {
     "data": {
      "text/plain": [
       "\"I attended The Learning Connexion between July 2010 and December 2012.\\nMy time was spent drawing/painting on-site, and digital painting/3d modeling and coding off-site.\\nMy favorite classes were Dan Wilkinson, Roger Key, Gary Freemantle and Marc Hill, but I loved any class that offered a life model.  \\nI also spent my time at TLC learning to code in Python. The bus trips in the morning from Newtown to Taita consisted of me typing Python code, and returning home. I was running Ubuntu on my systems.\\nReturning home each night, I would upload the drawings I had produced that day and blog about them. Some nights I reached 2000+ word count. It was mostly self reflection notes about the day and they drawings - talking about all technical aspects of the works - line, tone, areas that could be improved on, \\nI never did computers on-site but taught myself digital painting (GIMP)and 3d modeling (Blender) at home. I wanted to be a concept artist - but I fit into being a technical artist. \\n \\nDrawing, digital painting, writing, game development/publishing, Linux sysadmin, av volunteer at tech conferences and coding (still Python) is \\nmy day to day go to.\\n \\nLinux Debian 8 runs on the majority of machines. Art and games are licensed under a Creative Commons (CC BY 4.0) and code under MIT. I like these licenses as they are the most liberal.\\n\\nI have several sites that I have built over the years - to host content that I have created.\\n\\nArtControl.me: The Art Of William Mckee:\\n\\nArtControl has been around since before I started at TLC. It's used to host my artwork. A mixture of traditional and digital artworks. During my time at TLC it was filled with life drawings. I would get home after a long day of life drawing, upload my drawings and discuss them. The site greatly improved my writing skills. Word Counts skyrocketed - reaching over 2000 words in a evening.\\nNowadays the site doesn't get uploaded as much but I aim to put some digital paintings up now and then. \\n\\n\\nBroBeur Studios:\\n\\t\\nBroBeur Studios is a one man game development and publishing powerhouse. Formed in March 2013 with the goal of taking artwork from artcontrol.me into Video Games. ArtControl had previously done some game development but I wanted an alternative site and identity for the game dev. BroBeur Studios creates games in Unity3d and Python. \\nBroBeur takes many elements from ArtControl but extends them further with 3d, gamedev, and publishing.\\nBroBeur also builds software. Lately I have been working on post production video editing. This is done with Python. \\nOne of my latest scripts opens up a random selection of images from a folder - then blends and mixes them together, and saves the results. Other Python programs I have worked on are web scalping (bbc news, various adult sites, and even the TLC sites). \\nI'm getting it to do a bunch of cool stuff along the way - such as adding black bars to the top and bottom of the screen, text, and buzzy image results. Each time I hit run I have no idea of the results. A surprise each time. \\nIn future I plan on mixing these post production image effects with my video games and work on editing a film/television show.\\nI use GIT for source control and host everything on Github.\\nWorking on a game for a television show or film is also on the list. I've previously worked on a Dune game that was inspired during reading of the book.\\nGame Of Thrones and The Hobbit/LOTR are other IPs that I have explored in Game Design. \\nGames are cross platform - focusing on web, Linux and Android.  \\nSome say my games are not games but more of an art experience. I like to think of them as cinematic adventure games. Largely influenced by game development companies such as  \\nsuch as Telltale (The Walking Dead), Blizzard, Double Fine, and Lucas Arts.\\nI want to make games that feel and play like television shows and movies.\\nA shift has been made away from game development and into software and operating system development. It's an area I'd like to get back into - \\nespecially with the discovery of the game engine Godot. Godot is similar to Unity3d but is crossplatform.\\n\""
      ]
     },
     "execution_count": 37,
     "metadata": {},
     "output_type": "execute_result"
    }
   ],
   "source": [
    "getSplit()"
   ]
  },
  {
   "cell_type": "code",
   "execution_count": 5,
   "metadata": {
    "collapsed": false
   },
   "outputs": [],
   "source": [
    "newest = max(glob.iglob('/home/' + theusr + '/github/writersdenhamilton/posts/*.rst'),\n",
    "                       key=os.path.getctime)"
   ]
  },
  {
   "cell_type": "code",
   "execution_count": 6,
   "metadata": {
    "collapsed": false
   },
   "outputs": [],
   "source": [
    "filename = os.path.basename(newest)"
   ]
  },
  {
   "cell_type": "code",
   "execution_count": 7,
   "metadata": {
    "collapsed": false
   },
   "outputs": [],
   "source": [
    "opnew = open(newest, 'r')"
   ]
  },
  {
   "cell_type": "code",
   "execution_count": 8,
   "metadata": {
    "collapsed": true
   },
   "outputs": [],
   "source": [
    "newrd = opnew.read()"
   ]
  },
  {
   "cell_type": "code",
   "execution_count": 9,
   "metadata": {
    "collapsed": true
   },
   "outputs": [],
   "source": [
    "opnew.close()"
   ]
  },
  {
   "cell_type": "code",
   "execution_count": 10,
   "metadata": {
    "collapsed": false
   },
   "outputs": [],
   "source": [
    "nerdrep = newrd.replace('\\n', ' ')"
   ]
  },
  {
   "cell_type": "code",
   "execution_count": 11,
   "metadata": {
    "collapsed": false
   },
   "outputs": [],
   "source": [
    "nerdsplit = nerdrep.split()"
   ]
  },
  {
   "cell_type": "code",
   "execution_count": 12,
   "metadata": {
    "collapsed": false
   },
   "outputs": [],
   "source": [
    "latword = nerdsplit[-1]"
   ]
  },
  {
   "cell_type": "code",
   "execution_count": 13,
   "metadata": {
    "collapsed": false
   },
   "outputs": [],
   "source": [
    "wctoday = len(nerdsplit)"
   ]
  },
  {
   "cell_type": "code",
   "execution_count": 14,
   "metadata": {
    "collapsed": false
   },
   "outputs": [
    {
     "name": "stdout",
     "output_type": "stream",
     "text": [
      "Writing: will-tlc.rst recent word: crossplatform.  wc: 718\n"
     ]
    }
   ],
   "source": [
    "print('Writing: ' + filename + ' recent word: ' + latword + '  wc: ' + str(wctoday))"
   ]
  },
  {
   "cell_type": "code",
   "execution_count": null,
   "metadata": {
    "collapsed": true
   },
   "outputs": [],
   "source": []
  }
 ],
 "metadata": {
  "kernelspec": {
   "display_name": "Python 3",
   "language": "python",
   "name": "python3"
  },
  "language_info": {
   "codemirror_mode": {
    "name": "ipython",
    "version": 3
   },
   "file_extension": ".py",
   "mimetype": "text/x-python",
   "name": "python",
   "nbconvert_exporter": "python",
   "pygments_lexer": "ipython3",
   "version": "3.4.2"
  }
 },
 "nbformat": 4,
 "nbformat_minor": 0
}
