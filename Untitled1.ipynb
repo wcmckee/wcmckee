{
 "metadata": {
  "name": "",
  "signature": "sha256:c48a31c7d57654345d76b569e8d7dcf70097f5227c8621cb4c69472f3ed94502"
 },
 "nbformat": 3,
 "nbformat_minor": 0,
 "worksheets": []
}