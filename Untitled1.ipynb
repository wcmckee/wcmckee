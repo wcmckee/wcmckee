{
 "metadata": {
  "name": "",
  "signature": "sha256:92607035d0e385e6b72ffcff918fccf8d8b358d7f6a6b0ce2c8409778d5924fc"
 },
 "nbformat": 3,
 "nbformat_minor": 0,
 "worksheets": [
  {
   "cells": [
    {
     "cell_type": "code",
     "collapsed": false,
     "input": [
      "opfilz = open()"
     ],
     "language": "python",
     "metadata": {},
     "outputs": []
    }
   ],
   "metadata": {}
  }
 ]
}