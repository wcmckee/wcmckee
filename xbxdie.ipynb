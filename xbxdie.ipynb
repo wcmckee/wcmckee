{
 "metadata": {
  "name": "",
  "signature": "sha256:1318f8360e61fd4f3db44ddcec917953b7185468d2cef97e5d322e7ca2034e76"
 },
 "nbformat": 3,
 "nbformat_minor": 0,
 "worksheets": [
  {
   "cells": [
    {
     "cell_type": "code",
     "collapsed": false,
     "input": [
      "import numpy as np\n",
      "import pandas as pd\n",
      "from pandas import *\n",
      "import os\n",
      "#import qgrid\n",
      "randn = np.random.randn"
     ],
     "language": "python",
     "metadata": {},
     "outputs": [],
     "prompt_number": 2
    },
    {
     "cell_type": "raw",
     "metadata": {},
     "source": [
      "What I want to do is open up the data from visignsys into pandas, display the data in rows and collums. \n",
      "Dates with comments along side. The best way to do this is save dicts to files and open them with pandas, creating r n c. \n"
     ]
    },
    {
     "cell_type": "code",
     "collapsed": false,
     "input": [
      "readjson = open('/home/wcmckee/visignsys/index.meta', 'r')"
     ],
     "language": "python",
     "metadata": {},
     "outputs": [],
     "prompt_number": 3
    },
    {
     "cell_type": "code",
     "collapsed": false,
     "input": [
      "checkj = readjson.read()"
     ],
     "language": "python",
     "metadata": {},
     "outputs": [],
     "prompt_number": 4
    },
    {
     "cell_type": "code",
     "collapsed": false,
     "input": [
      "s = Series(checkj)"
     ],
     "language": "python",
     "metadata": {},
     "outputs": [],
     "prompt_number": 5
    },
    {
     "cell_type": "code",
     "collapsed": false,
     "input": [
      "s"
     ],
     "language": "python",
     "metadata": {},
     "outputs": [
      {
       "metadata": {},
       "output_type": "pyout",
       "prompt_number": 6,
       "text": [
        "\"['ESW', 'drinking a beer', '23-Nov-2014', 'William Mckee', '04:31']['checking the signout', '23-Nov-2014', '04:32']\""
       ]
      }
     ],
     "prompt_number": 6
    },
    {
     "cell_type": "code",
     "collapsed": false,
     "input": [
      "finmea = os.listdir('/home/wcmckee/visignsys/posts')"
     ],
     "language": "python",
     "metadata": {},
     "outputs": [],
     "prompt_number": 7
    },
    {
     "cell_type": "code",
     "collapsed": false,
     "input": [
      "finmea"
     ],
     "language": "python",
     "metadata": {},
     "outputs": [
      {
       "metadata": {},
       "output_type": "pyout",
       "prompt_number": 8,
       "text": [
        "['45dffa308b79.meta',\n",
        " '45dffa308b79.html',\n",
        " 'a26f3f49a09c.meta',\n",
        " 'a26f3f49a09c.json']"
       ]
      }
     ],
     "prompt_number": 8
    },
    {
     "cell_type": "code",
     "collapsed": false,
     "input": [
      "medalis = []"
     ],
     "language": "python",
     "metadata": {},
     "outputs": [],
     "prompt_number": 9
    },
    {
     "cell_type": "code",
     "collapsed": false,
     "input": [
      "for finm in finmea:\n",
      "    if '.meta' in finm:\n",
      "        medalis.append(finm)"
     ],
     "language": "python",
     "metadata": {},
     "outputs": [],
     "prompt_number": 10
    },
    {
     "cell_type": "code",
     "collapsed": false,
     "input": [
      "altxt = []"
     ],
     "language": "python",
     "metadata": {},
     "outputs": [],
     "prompt_number": 11
    },
    {
     "cell_type": "code",
     "collapsed": false,
     "input": [
      "for rmad in medalis:\n",
      "    #print rmad\n",
      "    with open('/home/wcmckee/visignsys/posts/' + rmad, 'r') as f:\n",
      "            read_data = f.read()\n",
      "            altxt.append(read_data)"
     ],
     "language": "python",
     "metadata": {},
     "outputs": [],
     "prompt_number": 12
    },
    {
     "cell_type": "code",
     "collapsed": false,
     "input": [
      "checkem = []"
     ],
     "language": "python",
     "metadata": {},
     "outputs": [],
     "prompt_number": 13
    },
    {
     "cell_type": "code",
     "collapsed": false,
     "input": [
      "for alt in altxt:\n",
      "    print alt\n",
      "    checkem.append(Series(alt))"
     ],
     "language": "python",
     "metadata": {},
     "outputs": [
      {
       "output_type": "stream",
       "stream": "stdout",
       "text": [
        "['ESW', 'drinking a beer', '23-Nov-2014', 'William Mckee', '04:31']\n",
        "['ESW', 'drinking a beer', '23-Nov-2014', 'William Mckee', '04:31']['checking the signout', '23-Nov-2014', '04:32']\n"
       ]
      }
     ],
     "prompt_number": 14
    },
    {
     "cell_type": "code",
     "collapsed": false,
     "input": [
      "for chem in checkem:\n",
      "    print chem"
     ],
     "language": "python",
     "metadata": {},
     "outputs": [
      {
       "output_type": "stream",
       "stream": "stdout",
       "text": [
        "['ESW', 'drinking a beer', '23-Nov-2014', 'William Mckee', '04:31']\n",
        "['ESW', 'drinking a beer', '23-Nov-2014', 'William Mckee', '04:31']['checking the signout', '23-Nov-2014', '04:32']\n"
       ]
      }
     ],
     "prompt_number": 15
    },
    {
     "cell_type": "code",
     "collapsed": false,
     "input": [
      "s = Series(altxt)"
     ],
     "language": "python",
     "metadata": {},
     "outputs": [],
     "prompt_number": 16
    },
    {
     "cell_type": "code",
     "collapsed": false,
     "input": [
      "s.all"
     ],
     "language": "python",
     "metadata": {},
     "outputs": [
      {
       "metadata": {},
       "output_type": "pyout",
       "prompt_number": 17,
       "text": [
        "<bound method Series.all of 0    ['ESW', 'drinking a beer', '23-Nov-2014', 'Willia\n",
        "1    ['ESW', 'drinking a beer', '23-Nov-2014', 'Willia>"
       ]
      }
     ],
     "prompt_number": 17
    },
    {
     "cell_type": "code",
     "collapsed": false,
     "input": [
      "s[0]"
     ],
     "language": "python",
     "metadata": {},
     "outputs": [
      {
       "metadata": {},
       "output_type": "pyout",
       "prompt_number": 18,
       "text": [
        "\"['ESW', 'drinking a beer', '23-Nov-2014', 'William Mckee', '04:31']\""
       ]
      }
     ],
     "prompt_number": 18
    },
    {
     "cell_type": "code",
     "collapsed": false,
     "input": [
      "ndf = {}"
     ],
     "language": "python",
     "metadata": {},
     "outputs": [],
     "prompt_number": 19
    },
    {
     "cell_type": "code",
     "collapsed": false,
     "input": [
      "df = DataFrame(s)"
     ],
     "language": "python",
     "metadata": {},
     "outputs": [],
     "prompt_number": 20
    },
    {
     "cell_type": "code",
     "collapsed": false,
     "input": [
      "df"
     ],
     "language": "python",
     "metadata": {},
     "outputs": [
      {
       "html": [
        "<div style=\"max-height:1000px;max-width:1500px;overflow:auto;\">\n",
        "<table border=\"1\">\n",
        "  <thead>\n",
        "    <tr>\n",
        "      <th></th>\n",
        "      <th>0</th>\n",
        "    </tr>\n",
        "  </thead>\n",
        "  <tbody>\n",
        "    <tr>\n",
        "      <td><strong>0</strong></td>\n",
        "      <td> ['ESW', 'drinking a beer', '23-Nov-2014', 'Willia</td>\n",
        "    </tr>\n",
        "    <tr>\n",
        "      <td><strong>1</strong></td>\n",
        "      <td> ['ESW', 'drinking a beer', '23-Nov-2014', 'Willia</td>\n",
        "    </tr>\n",
        "  </tbody>\n",
        "</table>\n",
        "</div>"
       ],
       "metadata": {},
       "output_type": "pyout",
       "prompt_number": 21,
       "text": [
        "                                                   0\n",
        "0  ['ESW', 'drinking a beer', '23-Nov-2014', 'Willia\n",
        "1  ['ESW', 'drinking a beer', '23-Nov-2014', 'Willia"
       ]
      }
     ],
     "prompt_number": 21
    },
    {
     "cell_type": "code",
     "collapsed": false,
     "input": [
      "#qgrid.show_grid"
     ],
     "language": "python",
     "metadata": {},
     "outputs": [],
     "prompt_number": 23
    },
    {
     "cell_type": "code",
     "collapsed": false,
     "input": [
      "medajsn = []"
     ],
     "language": "python",
     "metadata": {},
     "outputs": [],
     "prompt_number": 24
    },
    {
     "cell_type": "code",
     "collapsed": false,
     "input": [
      "for finm in finmea:\n",
      "    if '.json' in finm:\n",
      "        medajsn.append(finm)"
     ],
     "language": "python",
     "metadata": {},
     "outputs": [],
     "prompt_number": 25
    },
    {
     "cell_type": "code",
     "collapsed": false,
     "input": [
      "medajsn"
     ],
     "language": "python",
     "metadata": {},
     "outputs": [
      {
       "metadata": {},
       "output_type": "pyout",
       "prompt_number": 26,
       "text": [
        "['a26f3f49a09c.json']"
       ]
      }
     ],
     "prompt_number": 26
    },
    {
     "cell_type": "code",
     "collapsed": false,
     "input": [
      "remz = []"
     ],
     "language": "python",
     "metadata": {},
     "outputs": [],
     "prompt_number": 27
    },
    {
     "cell_type": "code",
     "collapsed": false,
     "input": [
      "for mjsn in medajsn:\n",
      "    #print rmad\n",
      "    with open('/home/wcmckee/visignsys/posts/' + mjsn, 'r') as f:\n",
      "            read_data = f.read()\n",
      "            remz.append(read_data)"
     ],
     "language": "python",
     "metadata": {},
     "outputs": [],
     "prompt_number": 28
    },
    {
     "cell_type": "code",
     "collapsed": false,
     "input": [
      "remz"
     ],
     "language": "python",
     "metadata": {},
     "outputs": [
      {
       "metadata": {},
       "output_type": "pyout",
       "prompt_number": 29,
       "text": [
        "[\"['ESW', 'drinking a beer', '23-Nov-2014', 'William Mckee', '04:31']['checking the signout', '23-Nov-2014', '04:32']\"]"
       ]
      }
     ],
     "prompt_number": 29
    },
    {
     "cell_type": "code",
     "collapsed": false,
     "input": [
      "import os\n",
      "import time\n",
      "import xlutils\n",
      "import xlwt\n",
      "import xlrd\n",
      "import dominate\n",
      "import sys\n",
      "from dominate.tags import *\n",
      "import json\n",
      "#from sqlalchemy import Column, ForeignKey, Integer, String\n",
      "#from sqlalchemy.ext.declarative import declarative_base\n",
      "#from sqlalchemy.orm import relationship\n",
      "#from sqlalchemy import create_engine\n",
      "\n",
      "# <codecell>\n",
      "\n",
      "lasnam = ('Mckee')\n",
      "firnam = ('William')\n",
      "dopz = ('04/12/1988')\n",
      "mname = ('William Mckee')\n",
      "ename = ('will@artcontrol.me')\n",
      "signin = ('ESW')\n",
      "\n",
      "wb = xlwt.Workbook()\n",
      "ws = wb.add_sheet('visitor sign database')\n",
      "\n",
      "# <codecell>\n",
      "\n",
      "rangen = []\n",
      "\n",
      "# <codecell>\n",
      "\n",
      "for genz in range(8):\n",
      "    #print os.urandom(128).encode('hex')\n",
      "    rangen.append(os.urandom(128).encode('hex'))\n",
      "\n",
      "# <codecell>\n",
      "\n",
      "exran = os.urandom(128).encode('hex')\n",
      "\n",
      "# <codecell>\n",
      "\n",
      "ixran = os.urandom(128).encode('hex')\n",
      "\n",
      "# <codecell>\n",
      "\n",
      "rawdets = ['In-Date', 'In-Time', 'In-Code', 'Name', 'Reason', 'Out-Date', 'Out-Time']\n",
      "\n",
      "# <codecell>\n",
      "\n",
      "numroll = []\n",
      "    #ws.write(0, det, )\n",
      "\n",
      "# <codecell>\n",
      "\n",
      "#for rad in rawdets:\n",
      " #   print rad\n",
      "    #print len(rad)\n",
      "#    print rad.upper()\n",
      "    #range(20)\n",
      "\n",
      "# <codecell>\n",
      "\n",
      "ws.write(0, 0, 'In Date')\n",
      "ws.write(0, 1, 'In Time')\n",
      "ws.write(0, 2, 'In Code')\n",
      "ws.write(0, 3, 'Name')\n",
      "ws.write(0, 4, 'Reason')\n",
      "ws.write(0, 5, 'Out Date')\n",
      "ws.write(0, 6, 'Out Time')\n",
      "ws.write(0, 7, 'Out Code')\n",
      "\n",
      "# <codecell>\n",
      "\n",
      "#strftime is %d (day), \n",
      "\n",
      "ws.write(1, 0, time.strftime(\"%d\" + \"-\" + \"%b\" + \"-\" + \"%Y\"))\n",
      "\n",
      "ws.write(1, 1, time.strftime(\"%H:%M\"))\n",
      "\n",
      "# <codecell>\n",
      "\n",
      "#getname = raw_input('Name: ')\n",
      "#getreason = raw_input('Reason: ')\n",
      "\n",
      "# <codecell>\n",
      "\n",
      "ws.write(1, 2, exran)\n",
      "\n",
      "# <codecell>\n",
      "\n",
      "ws.write(1, 3, mname)\n",
      "\n",
      "# <codecell>\n",
      "\n",
      "ws.write(1, 4, signin)\n",
      "\n",
      "# <codecell>\n",
      "\n",
      "#wb.save('/home/wcmckee/whai/' + xlvs)\n",
      "wb.save('/home/wcmckee/whai/index.xls')\n",
      "\n",
      "# <codecell>\n",
      "\n",
      "usecom = raw_input('Comments: ')\n",
      "\n",
      "# <codecell>\n",
      "\n",
      "wsdict = {mname: rangen[0]}\n",
      "\n",
      "# <codecell>\n",
      "\n",
      "betdict = {'firstname': firnam}\n",
      "\n",
      "# <codecell>\n",
      "\n",
      "dayr = time.strftime(\"%d\" + \"-\" + \"%m\" + \"-\" + \"%Y\")\n",
      "hrmn = time.strftime(\"%H:%M:%S\")\n",
      "\n",
      "# <codecell>\n",
      "\n",
      "betdict.update({'lastname': lasnam})\n",
      "betdict.update({'reason': signin})\n",
      "betdict.update({'signin-comment': usecom})\n",
      "betdict.update({'signin-date': dayr})\n",
      "betdict.update({'signin-hrmin': hrmn})\n",
      "\n",
      "# <codecell>\n",
      "s = Series(betdict)\n",
      "betjsn = json.dumps(betdict)\n",
      "\n",
      "# <codecell>\n",
      "\n",
      "betjsn\n",
      "\n",
      "# <codecell>\n",
      "\n",
      "wsdict.update({time.strftime(\"%d\" + \"-\" + \"%m\" + \"-\" + \"%Y\"): rangen[1]})\n",
      "\n",
      "# <codecell>\n",
      "\n",
      "wsdict.update({ time.strftime(\"%H:%M\"): rangen[2]})\n",
      "\n",
      "# <codecell>\n",
      "\n",
      "wsdict.update({signin: rangen[3]})\n",
      "\n",
      "# <codecell>\n",
      "\n",
      "wsdict.update({usecom: rangen[4]})\n",
      "\n",
      "# <codecell>\n",
      "\n",
      "\n",
      "# <codecell>\n",
      "\n",
      "doc = dominate.document(title='visitor sign sheet')\n",
      "\n",
      "with doc.head:\n",
      "    link(rel='stylesheet', href='style.css')\n",
      "    script(type='text/javascript', src='script.js')\n",
      "\n",
      "with doc:\n",
      "    with div(id='header').add(ol()):\n",
      "        for i in wsdict.keys():\n",
      "            li(a(i))\n",
      "\n",
      "    with div():\n",
      "        attr(cls='body')\n",
      "        p('last updated: ' + time.strftime(\"%H:%M\"))\n",
      "\n",
      "#print doc\n",
      "\n",
      "# <codecell>\n",
      "\n",
      "savindex = open('/home/wcmckee/visignsys/index.html', 'w')\n",
      "\n",
      "# <codecell>\n",
      "\n",
      "savindex.write(str(doc))\n",
      "savindex.close()\n",
      "\n",
      "# <codecell>\n",
      "\n",
      "ixtwe = ixran[0:12]\n",
      "\n",
      "# <codecell>\n",
      "\n",
      "savpos = open('/home/wcmckee/visignsys/posts/' + ixtwe + '.html', 'w')\n",
      "savpos.write(str(doc))\n",
      "savpos.close()\n",
      "\n",
      "# <codecell>\n",
      "\n",
      "savpos = open('/home/wcmckee/visignsys/posts/' + ixtwe + '.meta', 'w')\n",
      "savpos.write(str(wsdict))\n",
      "savpos.close()\n",
      "\n",
      "# <codecell>\n",
      "\n",
      "savpos = open('/home/wcmckee/visignsys/index.meta', 'w')\n",
      "savpos.write(str(wsdict.keys()))\n",
      "savpos.close()\n",
      "\n",
      "# <codecell>\n",
      "\n",
      "savpos = open('/home/wcmckee/visignsys/index.json', 'w')\n",
      "savpos.write(str(betjsn))\n",
      "savpos.close()\n",
      "\n",
      "# <codecell>\n",
      "\n",
      "print 'helli'\n",
      "\n",
      "# <codecell>\n",
      "\n"
     ],
     "language": "python",
     "metadata": {},
     "outputs": [
      {
       "name": "stdout",
       "output_type": "stream",
       "stream": "stdout",
       "text": [
        "Comments: testing new pi\n"
       ]
      },
      {
       "output_type": "stream",
       "stream": "stdout",
       "text": [
        "helli\n"
       ]
      }
     ],
     "prompt_number": 30
    },
    {
     "cell_type": "code",
     "collapsed": false,
     "input": [
      "s"
     ],
     "language": "python",
     "metadata": {},
     "outputs": [
      {
       "metadata": {},
       "output_type": "pyout",
       "prompt_number": 31,
       "text": [
        "firstname                William\n",
        "lastname                   Mckee\n",
        "reason                       ESW\n",
        "signin-comment    testing new pi\n",
        "signin-date           23-11-2014\n",
        "signin-hrmin            08:20:53"
       ]
      }
     ],
     "prompt_number": 31
    },
    {
     "cell_type": "code",
     "collapsed": false,
     "input": [
      "mydef = DataFrame(s)"
     ],
     "language": "python",
     "metadata": {},
     "outputs": [],
     "prompt_number": 32
    },
    {
     "cell_type": "code",
     "collapsed": false,
     "input": [
      "mydef"
     ],
     "language": "python",
     "metadata": {},
     "outputs": [
      {
       "html": [
        "<div style=\"max-height:1000px;max-width:1500px;overflow:auto;\">\n",
        "<table border=\"1\">\n",
        "  <thead>\n",
        "    <tr>\n",
        "      <th></th>\n",
        "      <th>0</th>\n",
        "    </tr>\n",
        "  </thead>\n",
        "  <tbody>\n",
        "    <tr>\n",
        "      <td><strong>firstname</strong></td>\n",
        "      <td>        William</td>\n",
        "    </tr>\n",
        "    <tr>\n",
        "      <td><strong>lastname</strong></td>\n",
        "      <td>          Mckee</td>\n",
        "    </tr>\n",
        "    <tr>\n",
        "      <td><strong>reason</strong></td>\n",
        "      <td>            ESW</td>\n",
        "    </tr>\n",
        "    <tr>\n",
        "      <td><strong>signin-comment</strong></td>\n",
        "      <td> testing new pi</td>\n",
        "    </tr>\n",
        "    <tr>\n",
        "      <td><strong>signin-date</strong></td>\n",
        "      <td>     23-11-2014</td>\n",
        "    </tr>\n",
        "    <tr>\n",
        "      <td><strong>signin-hrmin</strong></td>\n",
        "      <td>       08:20:53</td>\n",
        "    </tr>\n",
        "  </tbody>\n",
        "</table>\n",
        "</div>"
       ],
       "metadata": {},
       "output_type": "pyout",
       "prompt_number": 33,
       "text": [
        "                             0\n",
        "firstname              William\n",
        "lastname                 Mckee\n",
        "reason                     ESW\n",
        "signin-comment  testing new pi\n",
        "signin-date         23-11-2014\n",
        "signin-hrmin          08:20:53"
       ]
      }
     ],
     "prompt_number": 33
    },
    {
     "cell_type": "code",
     "collapsed": false,
     "input": [
      "#groupa = s.groupby(0)"
     ],
     "language": "python",
     "metadata": {},
     "outputs": [],
     "prompt_number": 35
    },
    {
     "cell_type": "code",
     "collapsed": false,
     "input": [
      "urdef = mydef.copy()"
     ],
     "language": "python",
     "metadata": {},
     "outputs": [],
     "prompt_number": 36
    },
    {
     "cell_type": "code",
     "collapsed": false,
     "input": [
      "urdef.to_html()"
     ],
     "language": "python",
     "metadata": {},
     "outputs": [
      {
       "metadata": {},
       "output_type": "pyout",
       "prompt_number": 37,
       "text": [
        "'<table border=\"1\">\\n  <thead>\\n    <tr>\\n      <th></th>\\n      <th>0</th>\\n    </tr>\\n  </thead>\\n  <tbody>\\n    <tr>\\n      <td><strong>firstname</strong></td>\\n      <td>        William</td>\\n    </tr>\\n    <tr>\\n      <td><strong>lastname</strong></td>\\n      <td>          Mckee</td>\\n    </tr>\\n    <tr>\\n      <td><strong>reason</strong></td>\\n      <td>            ESW</td>\\n    </tr>\\n    <tr>\\n      <td><strong>signin-comment</strong></td>\\n      <td> testing new pi</td>\\n    </tr>\\n    <tr>\\n      <td><strong>signin-date</strong></td>\\n      <td>     23-11-2014</td>\\n    </tr>\\n    <tr>\\n      <td><strong>signin-hrmin</strong></td>\\n      <td>       08:20:53</td>\\n    </tr>\\n  </tbody>\\n</table>'"
       ]
      }
     ],
     "prompt_number": 37
    },
    {
     "cell_type": "code",
     "collapsed": false,
     "input": [
      "savindz = open('/home/wcmckee/visignsys/index.html', 'w')\n",
      "savindz.write(urdef.to_html())\n",
      "savindz.close()"
     ],
     "language": "python",
     "metadata": {},
     "outputs": [],
     "prompt_number": 38
    },
    {
     "cell_type": "code",
     "collapsed": false,
     "input": [
      "urdef.append(mydef)"
     ],
     "language": "python",
     "metadata": {},
     "outputs": [
      {
       "html": [
        "<div style=\"max-height:1000px;max-width:1500px;overflow:auto;\">\n",
        "<table border=\"1\">\n",
        "  <thead>\n",
        "    <tr>\n",
        "      <th></th>\n",
        "      <th>0</th>\n",
        "    </tr>\n",
        "  </thead>\n",
        "  <tbody>\n",
        "    <tr>\n",
        "      <td><strong>firstname</strong></td>\n",
        "      <td>        William</td>\n",
        "    </tr>\n",
        "    <tr>\n",
        "      <td><strong>lastname</strong></td>\n",
        "      <td>          Mckee</td>\n",
        "    </tr>\n",
        "    <tr>\n",
        "      <td><strong>reason</strong></td>\n",
        "      <td>            ESW</td>\n",
        "    </tr>\n",
        "    <tr>\n",
        "      <td><strong>signin-comment</strong></td>\n",
        "      <td> testing new pi</td>\n",
        "    </tr>\n",
        "    <tr>\n",
        "      <td><strong>signin-date</strong></td>\n",
        "      <td>     23-11-2014</td>\n",
        "    </tr>\n",
        "    <tr>\n",
        "      <td><strong>signin-hrmin</strong></td>\n",
        "      <td>       08:20:53</td>\n",
        "    </tr>\n",
        "    <tr>\n",
        "      <td><strong>firstname</strong></td>\n",
        "      <td>        William</td>\n",
        "    </tr>\n",
        "    <tr>\n",
        "      <td><strong>lastname</strong></td>\n",
        "      <td>          Mckee</td>\n",
        "    </tr>\n",
        "    <tr>\n",
        "      <td><strong>reason</strong></td>\n",
        "      <td>            ESW</td>\n",
        "    </tr>\n",
        "    <tr>\n",
        "      <td><strong>signin-comment</strong></td>\n",
        "      <td> testing new pi</td>\n",
        "    </tr>\n",
        "    <tr>\n",
        "      <td><strong>signin-date</strong></td>\n",
        "      <td>     23-11-2014</td>\n",
        "    </tr>\n",
        "    <tr>\n",
        "      <td><strong>signin-hrmin</strong></td>\n",
        "      <td>       08:20:53</td>\n",
        "    </tr>\n",
        "  </tbody>\n",
        "</table>\n",
        "</div>"
       ],
       "metadata": {},
       "output_type": "pyout",
       "prompt_number": 39,
       "text": [
        "                             0\n",
        "firstname              William\n",
        "lastname                 Mckee\n",
        "reason                     ESW\n",
        "signin-comment  testing new pi\n",
        "signin-date         23-11-2014\n",
        "signin-hrmin          08:20:53\n",
        "firstname              William\n",
        "lastname                 Mckee\n",
        "reason                     ESW\n",
        "signin-comment  testing new pi\n",
        "signin-date         23-11-2014\n",
        "signin-hrmin          08:20:53"
       ]
      }
     ],
     "prompt_number": 39
    },
    {
     "cell_type": "code",
     "collapsed": false,
     "input": [
      "urdef"
     ],
     "language": "python",
     "metadata": {},
     "outputs": [
      {
       "html": [
        "<div style=\"max-height:1000px;max-width:1500px;overflow:auto;\">\n",
        "<table border=\"1\">\n",
        "  <thead>\n",
        "    <tr>\n",
        "      <th></th>\n",
        "      <th>0</th>\n",
        "    </tr>\n",
        "  </thead>\n",
        "  <tbody>\n",
        "    <tr>\n",
        "      <td><strong>firstname</strong></td>\n",
        "      <td>        William</td>\n",
        "    </tr>\n",
        "    <tr>\n",
        "      <td><strong>lastname</strong></td>\n",
        "      <td>          Mckee</td>\n",
        "    </tr>\n",
        "    <tr>\n",
        "      <td><strong>reason</strong></td>\n",
        "      <td>            ESW</td>\n",
        "    </tr>\n",
        "    <tr>\n",
        "      <td><strong>signin-comment</strong></td>\n",
        "      <td> testing new pi</td>\n",
        "    </tr>\n",
        "    <tr>\n",
        "      <td><strong>signin-date</strong></td>\n",
        "      <td>     23-11-2014</td>\n",
        "    </tr>\n",
        "    <tr>\n",
        "      <td><strong>signin-hrmin</strong></td>\n",
        "      <td>       08:20:53</td>\n",
        "    </tr>\n",
        "  </tbody>\n",
        "</table>\n",
        "</div>"
       ],
       "metadata": {},
       "output_type": "pyout",
       "prompt_number": 40,
       "text": [
        "                             0\n",
        "firstname              William\n",
        "lastname                 Mckee\n",
        "reason                     ESW\n",
        "signin-comment  testing new pi\n",
        "signin-date         23-11-2014\n",
        "signin-hrmin          08:20:53"
       ]
      }
     ],
     "prompt_number": 40
    },
    {
     "cell_type": "code",
     "collapsed": false,
     "input": [
      " time.strftime(\"%d\" + \"-\" + \"%m\" + \"-\" + \"%Y\")"
     ],
     "language": "python",
     "metadata": {},
     "outputs": [
      {
       "metadata": {},
       "output_type": "pyout",
       "prompt_number": 41,
       "text": [
        "'23-11-2014'"
       ]
      }
     ],
     "prompt_number": 41
    },
    {
     "cell_type": "code",
     "collapsed": false,
     "input": [
      "pdran = pd.date_range(start='1-1-2000', end='12/31/2012', freq='B')"
     ],
     "language": "python",
     "metadata": {},
     "outputs": [],
     "prompt_number": 42
    },
    {
     "cell_type": "code",
     "collapsed": false,
     "input": [
      "ser = Series(pdran)"
     ],
     "language": "python",
     "metadata": {},
     "outputs": [],
     "prompt_number": 43
    },
    {
     "cell_type": "code",
     "collapsed": false,
     "input": [
      "ser"
     ],
     "language": "python",
     "metadata": {},
     "outputs": [
      {
       "metadata": {},
       "output_type": "pyout",
       "prompt_number": 44,
       "text": [
        "0    2000-01-03 00:00:00\n",
        "1    2000-01-04 00:00:00\n",
        "2    2000-01-05 00:00:00\n",
        "3    2000-01-06 00:00:00\n",
        "4    2000-01-07 00:00:00\n",
        "5    2000-01-10 00:00:00\n",
        "6    2000-01-11 00:00:00\n",
        "7    2000-01-12 00:00:00\n",
        "8    2000-01-13 00:00:00\n",
        "9    2000-01-14 00:00:00\n",
        "10   2000-01-17 00:00:00\n",
        "11   2000-01-18 00:00:00\n",
        "12   2000-01-19 00:00:00\n",
        "13   2000-01-20 00:00:00\n",
        "14   2000-01-21 00:00:00\n",
        "...\n",
        "3376   2012-12-11 00:00:00\n",
        "3377   2012-12-12 00:00:00\n",
        "3378   2012-12-13 00:00:00\n",
        "3379   2012-12-14 00:00:00\n",
        "3380   2012-12-17 00:00:00\n",
        "3381   2012-12-18 00:00:00\n",
        "3382   2012-12-19 00:00:00\n",
        "3383   2012-12-20 00:00:00\n",
        "3384   2012-12-21 00:00:00\n",
        "3385   2012-12-24 00:00:00\n",
        "3386   2012-12-25 00:00:00\n",
        "3387   2012-12-26 00:00:00\n",
        "3388   2012-12-27 00:00:00\n",
        "3389   2012-12-28 00:00:00\n",
        "3390   2012-12-31 00:00:00\n",
        "Length: 3391"
       ]
      }
     ],
     "prompt_number": 44
    },
    {
     "cell_type": "code",
     "collapsed": false,
     "input": [
      "for i in range(10):\n",
      "    randn()"
     ],
     "language": "python",
     "metadata": {},
     "outputs": [],
     "prompt_number": 45
    },
    {
     "cell_type": "code",
     "collapsed": false,
     "input": [
      "ilisz = []"
     ],
     "language": "python",
     "metadata": {},
     "outputs": [],
     "prompt_number": 46
    },
    {
     "cell_type": "code",
     "collapsed": false,
     "input": [
      "#!/usr/bin/python\n",
      "\n",
      "count = 0\n",
      "while (count < 9):\n",
      "   ilisz.append(randn())\n",
      "   print 'The count is:', count\n",
      "   count = count + 1\n",
      "    \n",
      "\n",
      "print \"Good bye!\""
     ],
     "language": "python",
     "metadata": {},
     "outputs": [
      {
       "output_type": "stream",
       "stream": "stdout",
       "text": [
        "The count is: 0\n",
        "The count is: 1\n",
        "The count is: 2\n",
        "The count is: 3\n",
        "The count is: 4\n",
        "The count is: 5\n",
        "The count is: 6\n",
        "The count is: 7\n",
        "The count is: 8\n",
        "Good bye!\n"
       ]
      }
     ],
     "prompt_number": 50
    },
    {
     "cell_type": "code",
     "collapsed": false,
     "input": [
      "ilisz"
     ],
     "language": "python",
     "metadata": {},
     "outputs": [
      {
       "metadata": {},
       "output_type": "pyout",
       "prompt_number": 51,
       "text": [
        "[0.8316582898275281,\n",
        " -0.7985025558061497,\n",
        " 0.18873689482877654,\n",
        " 0.9284975416286255,\n",
        " 0.0069347772336206,\n",
        " 2.0954405598646337,\n",
        " -2.3517833787539693,\n",
        " -1.1073554763653894,\n",
        " 1.5404645009743885]"
       ]
      }
     ],
     "prompt_number": 51
    }
   ],
   "metadata": {}
  }
 ]
}