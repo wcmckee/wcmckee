{
 "metadata": {
  "name": "",
  "signature": "sha256:b646c6f7e0d816e1c9c4691fba798f1dbc5fc113484cda2c549afe7e6719d5ef"
 },
 "nbformat": 3,
 "nbformat_minor": 0,
 "worksheets": [
  {
   "cells": [
    {
     "cell_type": "code",
     "collapsed": false,
     "input": [
      "import numpy as np\n",
      "import pandas as pd\n",
      "from pandas import *\n",
      "import os\n",
      "#import qgrid\n",
      "randn = np.random.randn"
     ],
     "language": "python",
     "metadata": {},
     "outputs": [],
     "prompt_number": 72
    },
    {
     "cell_type": "raw",
     "metadata": {},
     "source": [
      "What I want to do is open up the data from visignsys into pandas, display the data in rows and collums. \n",
      "Dates with comments along side. The best way to do this is save dicts to files and open them with pandas, creating r n c. \n"
     ]
    },
    {
     "cell_type": "code",
     "collapsed": false,
     "input": [
      "readjson = open('/home/wcmckee/visignsys/index.meta', 'r')"
     ],
     "language": "python",
     "metadata": {},
     "outputs": [],
     "prompt_number": 73
    },
    {
     "cell_type": "code",
     "collapsed": false,
     "input": [
      "checkj = readjson.read()"
     ],
     "language": "python",
     "metadata": {},
     "outputs": [],
     "prompt_number": 74
    },
    {
     "cell_type": "code",
     "collapsed": false,
     "input": [
      "s = Series(checkj)"
     ],
     "language": "python",
     "metadata": {},
     "outputs": [],
     "prompt_number": 75
    },
    {
     "cell_type": "code",
     "collapsed": false,
     "input": [
      "s"
     ],
     "language": "python",
     "metadata": {},
     "outputs": [
      {
       "metadata": {},
       "output_type": "pyout",
       "prompt_number": 76,
       "text": [
        "\"['ESW', 'omg hgi', 'William Mckee', '21:06', '05-12-2014']\""
       ]
      }
     ],
     "prompt_number": 76
    },
    {
     "cell_type": "code",
     "collapsed": false,
     "input": [
      "finmea = os.listdir('/home/wcmckee/visignsys/posts')"
     ],
     "language": "python",
     "metadata": {},
     "outputs": [],
     "prompt_number": 77
    },
    {
     "cell_type": "code",
     "collapsed": false,
     "input": [
      "finmea"
     ],
     "language": "python",
     "metadata": {},
     "outputs": [
      {
       "metadata": {},
       "output_type": "pyout",
       "prompt_number": 78,
       "text": [
        "['a6f8f5b3c65e.meta',\n",
        " '1b040e36e91b.meta',\n",
        " '881d542b9e1f.json',\n",
        " '4d52e9702bf7.json',\n",
        " 'ad6a2cd563fd.meta',\n",
        " '\\x88\\x87%\\xbcW\\n9\\xe8\\xaf\\xea\\xf7t\\xb7\\xfa\\x91\\xda.json',\n",
        " '647205554d9d.meta',\n",
        " '647205554d9d.html',\n",
        " '1b040e36e91b.html',\n",
        " '4d52e9702bf7.meta',\n",
        " 'ad6a2cd563fd.html',\n",
        " '\\x88\\x87%\\xbcW\\n9\\xe8\\xaf\\xea\\xf7t\\xb7\\xfa\\x91\\xda.html',\n",
        " 'dd38ca138059.meta',\n",
        " 'a6f8f5b3c65e.html',\n",
        " '881d542b9e1f.meta',\n",
        " 'dd38ca138059.html']"
       ]
      }
     ],
     "prompt_number": 78
    },
    {
     "cell_type": "code",
     "collapsed": false,
     "input": [
      "medalis = []"
     ],
     "language": "python",
     "metadata": {},
     "outputs": [],
     "prompt_number": 79
    },
    {
     "cell_type": "code",
     "collapsed": false,
     "input": [
      "for finm in finmea:\n",
      "    if '.meta' in finm:\n",
      "        medalis.append(finm)"
     ],
     "language": "python",
     "metadata": {},
     "outputs": [],
     "prompt_number": 80
    },
    {
     "cell_type": "code",
     "collapsed": false,
     "input": [
      "altxt = []"
     ],
     "language": "python",
     "metadata": {},
     "outputs": [],
     "prompt_number": 81
    },
    {
     "cell_type": "code",
     "collapsed": false,
     "input": [
      "for rmad in medalis:\n",
      "    #print rmad\n",
      "    with open('/home/wcmckee/visignsys/posts/' + rmad, 'r') as f:\n",
      "            read_data = f.read()\n",
      "            altxt.append(read_data)"
     ],
     "language": "python",
     "metadata": {},
     "outputs": [],
     "prompt_number": 82
    },
    {
     "cell_type": "code",
     "collapsed": false,
     "input": [
      "checkem = []"
     ],
     "language": "python",
     "metadata": {},
     "outputs": [],
     "prompt_number": 83
    },
    {
     "cell_type": "code",
     "collapsed": false,
     "input": [
      "for alt in altxt:\n",
      "    print alt\n",
      "    checkem.append(Series(alt))"
     ],
     "language": "python",
     "metadata": {},
     "outputs": [
      {
       "output_type": "stream",
       "stream": "stdout",
       "text": [
        "{'ESW': 'fdbc7d89fb4d129301080724766f3eb26a8773a2f5d3d09e29d11bd4a5d3ffbbe879411eab85e730add6396b2570ab2b63ff656cab3c34f948fd1b04790347e3313940b4a982142b46f99b00a9a0f71beaf630d959c2dde64f9f5e5a5fce00eeebc3bd73a0b4123df9c74901a3d67ce046054460d76cb995b0d7fd1ee5894d3a', '': '30d4d55620981108ebffa89b2505d2b935ea3c8e19833fa3caa1fe3223be29fe168860b247cc6fd1c3e16ca75248ba3452fb374c632add75ebcc88943dc700cf47dd968ad14f761a2d355c03fc00dd643a9a04a22ca215b85d74b7db5d8ae5d86d0957ffce0ac7484fbfa33b12aa6d01be12f6ac7362219098c032f91517f5b3', 'William Mckee': 'ffb5d3af1aefadb2e97b2829a9c9acf2d5e39b8d900c5b676d41e7211d86bac0623f13966d5f4f71fb0f67fa161fddff55533e0cc791c51593266e3ddb8616b65d38e7559d221638ced71ecf02ecbbb6742c9c2bfc92c5cf55804b3ea3ea2725fc1ddf2072230adcfa47caf95809ac382bb26c5887719b61bd22c140da917070', '21:06': 'abfb4ef79f050436621446d2d67c455dd71c90e0bdd5f556b54876ed65e8d6024d6b98c030e2730315712a2b571ec7375c6d9953647dfe44330b9f3a6f1be5da9aeffa3124fc65b352053df5a1f19fb4d08bfe1a40ec1f9acc9e4c4b87d8ef2deffe5db0918803cf3a705c702c1b73127a63256f0f8951836faea41fb5032d93', '05-12-2014': '86925f3d4e70a668cf536529961c663b033d3a6b54a945062ad146c5faceb9d749246527fdcec47f2bde963c1d46d060134b4043c2588b7b534c25542df027212f023881eede4871f4d21ef310d099840781b2d5efc268b015d358eeeebc0247d3a40f49ba7e32f137091099954ca5fbd588677260959bfb2cfeb6ae6495a348'}\n",
        "{'ESW': 'acffee8595e361a4f0006062761c0fa2b3314ddfe9109f5afa0d91dc4660af999eb158a317529badff4168236480ebcb6d65f90442e7ed1dbdb73bff6c9dd9bca10e493301ecdcaf5bb813ca6c2153a63b9918fb37e0de2c85d4fb5c41d01bb766b45bed610b41681be9ecb63b1970597716ed032b4e35f37c92251781530057', 'omg hgi': '78ab9b053ec58e451d2c1aa4617ca8661c5b3f5aa812a3c30d5b7cdb8886f0e44add1ffe9f24f541a477fbdf6170c2fa7864e07794a06ad820118df2384d159698a1f77844fc8f4a5dd78da169b22934204f9f032ec42cb49380011be3e8e564aadf87f59fcc5361a20db5e05d5a300be0a4073a4a37aedfecde9abe5ce9223d', 'William Mckee': '9db60512f0e0bed1d072fdb96ce4d59e45aa9e06dfc28c7804419a408406dde8a4800b4ef920f4e7441f4d899a131282261265b04f303b649a4fbb6ab4c41c6c3003a894bc97d9c0e65930cb1a9facc3d181a0ec7f9dc2cffb0590f0904d8468fa798ecb0408f628a2294174bb6099b3d2af9abe1dd2d96b66e15923d2ba8619', '21:06': '2af785b54c9da4c9b6e98a39496cf9b78337929829a500b17a5e8cc72f23cbd11a64af60ae553d9d261f4315d068a2d16711d4e652a8709a07d561151917da15feb6328864218663b38cc54d8fe070708a9d0f9c126ebbb4439bf7b8fb285c9af313ebd50083cc797f210f87eddffea551df272c97f7bf0680697c5c8d419a92', '05-12-2014': '711aa6583f4bbcc590b2ee105811bacc2ec066fca92dac04fbac386e33769171781fa0c22c33e3a4d1b4b0067281d7ce8f7f1d468171a66f208d71c020f55eaec4a934322fab22b555cb8d3035bc97710022bacd4f230e45ecda8070db8eb2a04830f6d7b9147c3c9d5e4738327795aa087184943d72b8b23e994275113b1e19'}\n",
        "['23:17', 'ESW', '04-Dec-2014', 'William Mckee', 'omg today i got this']\n",
        "['ESW', '05-Dec-2014', 'William Mckee', 'testing login', '20:10']\n",
        "['ESW', '05-Dec-2014', 'William Mckee', 'testing login', '20:10']['05-Dec-2014', 'today i was a moe for 5 hours', '20:11']\n",
        "{'ESW': '2bf32a77638f4ed403ef4bb92cd73ca7aa093141a7a5d55e36ae92b6ca439f3abdb8cb2e1275e59ecdd4f319b7a538247b3ddc0b62abee37b735338770ce7782683858445d8012f5e1b1eae87360426987ae5102015e96e49bb8567c1a800c4874c06f122ee32bc27ea3d1d860a0e79e0a9d757501dc0857e28014325bbd0e4f', '': '3b96fa993a0e8ccf74d0deebf6199bff61f5fecb32f8e2c72f031ddb5e115a1821b7e0b7b359637a4fdca64aa5ed4a2904e26cab129cc55c72d10c588d20356ef0270b7f1effd7efa58b385917a2247b6275b302d2bb811f540dcafd86449390215c13e773e577ecc0a9b4ac8dbefb5ec76c2657d2adf699b3195faab05772c9', 'William Mckee': '345f316b50c2b624d06c984cfd1f91129156b190b71c3b05312329ce6a99aa7e85aa0654fb4974231d24c8d3e3b07c3872a93090ce29a948666bb6bb1d2b253f1701f132b78cc87ca832b0a4764b457949de5fe9dc62050e6d8cd2e3487c55388e66b87bd8f2291759a9aa9d0d93d357ed4436922ff7be2c434179ee36f16985', '21:06': 'fce7e1f628f1f1f5499739146c7eedfcd0e21e90c1169f19fef51198fe9e9f8d619f9b38eaa53b21b1b0041adf7dd9164846fea738ff71446ffbd2a1d790ba14d8ba9733bfbe500d43cf4362205786555945ff4675ef8fd93505016283220236d05713855b2606b5b087afb462212a600c5185655c2d56745940a29513247d1f', '05-12-2014': 'b1ef4662d33536a7c6b090c65421f1bcfd00ae1f5daff606a7d21816953311366c917e412de330deabb4f6c42c358ac70fc2d5121e92097e6bc8cef4b1cbc612b06ccf4d712993c6d7af3f483ff861e19fd28697ab16a9f42025681221008e6464928a452f459df0bdfe005bb14592ced431dbcdaee62278e3232b304b6b4b73'}\n",
        "['23:17', 'ESW', '04-Dec-2014', 'William Mckee', 'omg today i got this']['04-Dec-2014', 'signing out chrome', '23:18']\n"
       ]
      }
     ],
     "prompt_number": 84
    },
    {
     "cell_type": "code",
     "collapsed": false,
     "input": [
      "for chem in checkem:\n",
      "    print chem"
     ],
     "language": "python",
     "metadata": {},
     "outputs": [
      {
       "output_type": "stream",
       "stream": "stdout",
       "text": [
        "{'ESW': 'fdbc7d89fb4d129301080724766f3eb26a8773a2f5d3d09e29d11bd4a5d3ffbbe879411eab85e730add6396b2570ab2b63ff656cab3c34f948fd1b04790347e3313940b4a982142b46f99b00a9a0f71beaf630d959c2dde64f9f5e5a5fce00eeebc3bd73a0b4123df9c74901a3d67ce046054460d76cb995b0d7fd1ee5894d3a', '': '30d4d55620981108ebffa89b2505d2b935ea3c8e19833fa3caa1fe3223be29fe168860b247cc6fd1c3e16ca75248ba3452fb374c632add75ebcc88943dc700cf47dd968ad14f761a2d355c03fc00dd643a9a04a22ca215b85d74b7db5d8ae5d86d0957ffce0ac7484fbfa33b12aa6d01be12f6ac7362219098c032f91517f5b3', 'William Mckee': 'ffb5d3af1aefadb2e97b2829a9c9acf2d5e39b8d900c5b676d41e7211d86bac0623f13966d5f4f71fb0f67fa161fddff55533e0cc791c51593266e3ddb8616b65d38e7559d221638ced71ecf02ecbbb6742c9c2bfc92c5cf55804b3ea3ea2725fc1ddf2072230adcfa47caf95809ac382bb26c5887719b61bd22c140da917070', '21:06': 'abfb4ef79f050436621446d2d67c455dd71c90e0bdd5f556b54876ed65e8d6024d6b98c030e2730315712a2b571ec7375c6d9953647dfe44330b9f3a6f1be5da9aeffa3124fc65b352053df5a1f19fb4d08bfe1a40ec1f9acc9e4c4b87d8ef2deffe5db0918803cf3a705c702c1b73127a63256f0f8951836faea41fb5032d93', '05-12-2014': '86925f3d4e70a668cf536529961c663b033d3a6b54a945062ad146c5faceb9d749246527fdcec47f2bde963c1d46d060134b4043c2588b7b534c25542df027212f023881eede4871f4d21ef310d099840781b2d5efc268b015d358eeeebc0247d3a40f49ba7e32f137091099954ca5fbd588677260959bfb2cfeb6ae6495a348'}\n",
        "{'ESW': 'acffee8595e361a4f0006062761c0fa2b3314ddfe9109f5afa0d91dc4660af999eb158a317529badff4168236480ebcb6d65f90442e7ed1dbdb73bff6c9dd9bca10e493301ecdcaf5bb813ca6c2153a63b9918fb37e0de2c85d4fb5c41d01bb766b45bed610b41681be9ecb63b1970597716ed032b4e35f37c92251781530057', 'omg hgi': '78ab9b053ec58e451d2c1aa4617ca8661c5b3f5aa812a3c30d5b7cdb8886f0e44add1ffe9f24f541a477fbdf6170c2fa7864e07794a06ad820118df2384d159698a1f77844fc8f4a5dd78da169b22934204f9f032ec42cb49380011be3e8e564aadf87f59fcc5361a20db5e05d5a300be0a4073a4a37aedfecde9abe5ce9223d', 'William Mckee': '9db60512f0e0bed1d072fdb96ce4d59e45aa9e06dfc28c7804419a408406dde8a4800b4ef920f4e7441f4d899a131282261265b04f303b649a4fbb6ab4c41c6c3003a894bc97d9c0e65930cb1a9facc3d181a0ec7f9dc2cffb0590f0904d8468fa798ecb0408f628a2294174bb6099b3d2af9abe1dd2d96b66e15923d2ba8619', '21:06': '2af785b54c9da4c9b6e98a39496cf9b78337929829a500b17a5e8cc72f23cbd11a64af60ae553d9d261f4315d068a2d16711d4e652a8709a07d561151917da15feb6328864218663b38cc54d8fe070708a9d0f9c126ebbb4439bf7b8fb285c9af313ebd50083cc797f210f87eddffea551df272c97f7bf0680697c5c8d419a92', '05-12-2014': '711aa6583f4bbcc590b2ee105811bacc2ec066fca92dac04fbac386e33769171781fa0c22c33e3a4d1b4b0067281d7ce8f7f1d468171a66f208d71c020f55eaec4a934322fab22b555cb8d3035bc97710022bacd4f230e45ecda8070db8eb2a04830f6d7b9147c3c9d5e4738327795aa087184943d72b8b23e994275113b1e19'}\n",
        "['23:17', 'ESW', '04-Dec-2014', 'William Mckee', 'omg today i got this']\n",
        "['ESW', '05-Dec-2014', 'William Mckee', 'testing login', '20:10']\n",
        "['ESW', '05-Dec-2014', 'William Mckee', 'testing login', '20:10']['05-Dec-2014', 'today i was a moe for 5 hours', '20:11']\n",
        "{'ESW': '2bf32a77638f4ed403ef4bb92cd73ca7aa093141a7a5d55e36ae92b6ca439f3abdb8cb2e1275e59ecdd4f319b7a538247b3ddc0b62abee37b735338770ce7782683858445d8012f5e1b1eae87360426987ae5102015e96e49bb8567c1a800c4874c06f122ee32bc27ea3d1d860a0e79e0a9d757501dc0857e28014325bbd0e4f', '': '3b96fa993a0e8ccf74d0deebf6199bff61f5fecb32f8e2c72f031ddb5e115a1821b7e0b7b359637a4fdca64aa5ed4a2904e26cab129cc55c72d10c588d20356ef0270b7f1effd7efa58b385917a2247b6275b302d2bb811f540dcafd86449390215c13e773e577ecc0a9b4ac8dbefb5ec76c2657d2adf699b3195faab05772c9', 'William Mckee': '345f316b50c2b624d06c984cfd1f91129156b190b71c3b05312329ce6a99aa7e85aa0654fb4974231d24c8d3e3b07c3872a93090ce29a948666bb6bb1d2b253f1701f132b78cc87ca832b0a4764b457949de5fe9dc62050e6d8cd2e3487c55388e66b87bd8f2291759a9aa9d0d93d357ed4436922ff7be2c434179ee36f16985', '21:06': 'fce7e1f628f1f1f5499739146c7eedfcd0e21e90c1169f19fef51198fe9e9f8d619f9b38eaa53b21b1b0041adf7dd9164846fea738ff71446ffbd2a1d790ba14d8ba9733bfbe500d43cf4362205786555945ff4675ef8fd93505016283220236d05713855b2606b5b087afb462212a600c5185655c2d56745940a29513247d1f', '05-12-2014': 'b1ef4662d33536a7c6b090c65421f1bcfd00ae1f5daff606a7d21816953311366c917e412de330deabb4f6c42c358ac70fc2d5121e92097e6bc8cef4b1cbc612b06ccf4d712993c6d7af3f483ff861e19fd28697ab16a9f42025681221008e6464928a452f459df0bdfe005bb14592ced431dbcdaee62278e3232b304b6b4b73'}\n",
        "['23:17', 'ESW', '04-Dec-2014', 'William Mckee', 'omg today i got this']['04-Dec-2014', 'signing out chrome', '23:18']\n"
       ]
      }
     ],
     "prompt_number": 85
    },
    {
     "cell_type": "code",
     "collapsed": false,
     "input": [
      "s = Series(altxt)"
     ],
     "language": "python",
     "metadata": {},
     "outputs": [],
     "prompt_number": 86
    },
    {
     "cell_type": "code",
     "collapsed": false,
     "input": [
      "s.all"
     ],
     "language": "python",
     "metadata": {},
     "outputs": [
      {
       "metadata": {},
       "output_type": "pyout",
       "prompt_number": 87,
       "text": [
        "<bound method Series.all of 0           {'ESW': 'fdbc7d89fb4d129301080724766f3eb26a8773a2f5d3d09e29d11bd4a5d3ffbbe879411eab85e730add6396b2570ab2b63ff656cab3c34f948fd1b04790347e3313940b4a982142b46f99b00a9a0f71beaf630d959c2dde64f9f5e5a5fce00eeebc3bd73a0b4123df9c74901a3d67ce046054460d76cb995b0d7fd1ee5894d3a', '': '30d4d55620981108ebffa89b2505d2b935ea3c8e19833fa3caa1fe3223be29fe168860b247cc6fd1c3e16ca75248ba3452fb374c632add75ebcc88943dc700cf47dd968ad14f761a2d355c03fc00dd643a9a04a22ca215b85d74b7db5d8ae5d86d0957ffce0ac7484fbfa33b12aa6d01be12f6ac7362219098c032f91517f5b3', 'William Mckee': 'ffb5d3af1aefadb2e97b2829a9c9acf2d5e39b8d900c5b676d41e7211d86bac0623f13966d5f4f71fb0f67fa161fddff55533e0cc791c51593266e3ddb8616b65d38e7559d221638ced71ecf02ecbbb6742c9c2bfc92c5cf55804b3ea3ea2725fc1ddf2072230adcfa47caf95809ac382bb26c5887719b61bd22c140da917070', '21:06': 'abfb4ef79f050436621446d2d67c455dd71c90e0bdd5f556b54876ed65e8d6024d6b98c030e2730315712a2b571ec7375c6d9953647dfe44330b9f3a6f1be5da9aeffa3124fc65b352053df5a1f19fb4d08bfe1a40ec1f9acc9e4c4b87d8ef2deffe5db0918803cf3a705c702c1b73127a63256f0f8951836faea41fb5032d93', '05-12-2014': '86925f3d4e70a668cf536529961c663b033d3a6b54a945062ad146c5faceb9d749246527fdcec47f2bde963c1d46d060134b4043c2588b7b534c25542df027212f023881eede4871f4d21ef310d099840781b2d5efc268b015d358eeeebc0247d3a40f49ba7e32f137091099954ca5fbd588677260959bfb2cfeb6ae6495a348'}\n",
        "1    {'ESW': 'acffee8595e361a4f0006062761c0fa2b3314ddfe9109f5afa0d91dc4660af999eb158a317529badff4168236480ebcb6d65f90442e7ed1dbdb73bff6c9dd9bca10e493301ecdcaf5bb813ca6c2153a63b9918fb37e0de2c85d4fb5c41d01bb766b45bed610b41681be9ecb63b1970597716ed032b4e35f37c92251781530057', 'omg hgi': '78ab9b053ec58e451d2c1aa4617ca8661c5b3f5aa812a3c30d5b7cdb8886f0e44add1ffe9f24f541a477fbdf6170c2fa7864e07794a06ad820118df2384d159698a1f77844fc8f4a5dd78da169b22934204f9f032ec42cb49380011be3e8e564aadf87f59fcc5361a20db5e05d5a300be0a4073a4a37aedfecde9abe5ce9223d', 'William Mckee': '9db60512f0e0bed1d072fdb96ce4d59e45aa9e06dfc28c7804419a408406dde8a4800b4ef920f4e7441f4d899a131282261265b04f303b649a4fbb6ab4c41c6c3003a894bc97d9c0e65930cb1a9facc3d181a0ec7f9dc2cffb0590f0904d8468fa798ecb0408f628a2294174bb6099b3d2af9abe1dd2d96b66e15923d2ba8619', '21:06': '2af785b54c9da4c9b6e98a39496cf9b78337929829a500b17a5e8cc72f23cbd11a64af60ae553d9d261f4315d068a2d16711d4e652a8709a07d561151917da15feb6328864218663b38cc54d8fe070708a9d0f9c126ebbb4439bf7b8fb285c9af313ebd50083cc797f210f87eddffea551df272c97f7bf0680697c5c8d419a92', '05-12-2014': '711aa6583f4bbcc590b2ee105811bacc2ec066fca92dac04fbac386e33769171781fa0c22c33e3a4d1b4b0067281d7ce8f7f1d468171a66f208d71c020f55eaec4a934322fab22b555cb8d3035bc97710022bacd4f230e45ecda8070db8eb2a04830f6d7b9147c3c9d5e4738327795aa087184943d72b8b23e994275113b1e19'}\n",
        "2                                                                                                                                                                                                                                                                                                                                                                                                                                                                                                                                                                                                                                                                                                                                                                                                                                                                                                                                                                                                                                                                                                                                                                                                                                                                                                                                          ['23:17', 'ESW', '04-Dec-2014', 'William Mckee', 'omg today i got this']\n",
        "3                                                                                                                                                                                                                                                                                                                                                                                                                                                                                                                                                                                                                                                                                                                                                                                                                                                                                                                                                                                                                                                                                                                                                                                                                                                                                                                                                 ['ESW', '05-Dec-2014', 'William Mckee', 'testing login', '20:10']\n",
        "4                                                                                                                                                                                                                                                                                                                                                                                                                                                                                                                                                                                                                                                                                                                                                                                                                                                                                                                                                                                                                                                                                                                                                                                                                                                                                        ['ESW', '05-Dec-2014', 'William Mckee', 'testing login', '20:10']['05-Dec-2014', 'today i was a moe for 5 hours', '20:11']\n",
        "5           {'ESW': '2bf32a77638f4ed403ef4bb92cd73ca7aa093141a7a5d55e36ae92b6ca439f3abdb8cb2e1275e59ecdd4f319b7a538247b3ddc0b62abee37b735338770ce7782683858445d8012f5e1b1eae87360426987ae5102015e96e49bb8567c1a800c4874c06f122ee32bc27ea3d1d860a0e79e0a9d757501dc0857e28014325bbd0e4f', '': '3b96fa993a0e8ccf74d0deebf6199bff61f5fecb32f8e2c72f031ddb5e115a1821b7e0b7b359637a4fdca64aa5ed4a2904e26cab129cc55c72d10c588d20356ef0270b7f1effd7efa58b385917a2247b6275b302d2bb811f540dcafd86449390215c13e773e577ecc0a9b4ac8dbefb5ec76c2657d2adf699b3195faab05772c9', 'William Mckee': '345f316b50c2b624d06c984cfd1f91129156b190b71c3b05312329ce6a99aa7e85aa0654fb4974231d24c8d3e3b07c3872a93090ce29a948666bb6bb1d2b253f1701f132b78cc87ca832b0a4764b457949de5fe9dc62050e6d8cd2e3487c55388e66b87bd8f2291759a9aa9d0d93d357ed4436922ff7be2c434179ee36f16985', '21:06': 'fce7e1f628f1f1f5499739146c7eedfcd0e21e90c1169f19fef51198fe9e9f8d619f9b38eaa53b21b1b0041adf7dd9164846fea738ff71446ffbd2a1d790ba14d8ba9733bfbe500d43cf4362205786555945ff4675ef8fd93505016283220236d05713855b2606b5b087afb462212a600c5185655c2d56745940a29513247d1f', '05-12-2014': 'b1ef4662d33536a7c6b090c65421f1bcfd00ae1f5daff606a7d21816953311366c917e412de330deabb4f6c42c358ac70fc2d5121e92097e6bc8cef4b1cbc612b06ccf4d712993c6d7af3f483ff861e19fd28697ab16a9f42025681221008e6464928a452f459df0bdfe005bb14592ced431dbcdaee62278e3232b304b6b4b73'}\n",
        "6                                                                                                                                                                                                                                                                                                                                                                                                                                                                                                                                                                                                                                                                                                                                                                                                                                                                                                                                                                                                                                                                                                                                                                                                                                                                                            ['23:17', 'ESW', '04-Dec-2014', 'William Mckee', 'omg today i got this']['04-Dec-2014', 'signing out chrome', '23:18']>"
       ]
      }
     ],
     "prompt_number": 87
    },
    {
     "cell_type": "code",
     "collapsed": false,
     "input": [
      "s[0]"
     ],
     "language": "python",
     "metadata": {},
     "outputs": [
      {
       "metadata": {},
       "output_type": "pyout",
       "prompt_number": 88,
       "text": [
        "\"{'ESW': 'fdbc7d89fb4d129301080724766f3eb26a8773a2f5d3d09e29d11bd4a5d3ffbbe879411eab85e730add6396b2570ab2b63ff656cab3c34f948fd1b04790347e3313940b4a982142b46f99b00a9a0f71beaf630d959c2dde64f9f5e5a5fce00eeebc3bd73a0b4123df9c74901a3d67ce046054460d76cb995b0d7fd1ee5894d3a', '': '30d4d55620981108ebffa89b2505d2b935ea3c8e19833fa3caa1fe3223be29fe168860b247cc6fd1c3e16ca75248ba3452fb374c632add75ebcc88943dc700cf47dd968ad14f761a2d355c03fc00dd643a9a04a22ca215b85d74b7db5d8ae5d86d0957ffce0ac7484fbfa33b12aa6d01be12f6ac7362219098c032f91517f5b3', 'William Mckee': 'ffb5d3af1aefadb2e97b2829a9c9acf2d5e39b8d900c5b676d41e7211d86bac0623f13966d5f4f71fb0f67fa161fddff55533e0cc791c51593266e3ddb8616b65d38e7559d221638ced71ecf02ecbbb6742c9c2bfc92c5cf55804b3ea3ea2725fc1ddf2072230adcfa47caf95809ac382bb26c5887719b61bd22c140da917070', '21:06': 'abfb4ef79f050436621446d2d67c455dd71c90e0bdd5f556b54876ed65e8d6024d6b98c030e2730315712a2b571ec7375c6d9953647dfe44330b9f3a6f1be5da9aeffa3124fc65b352053df5a1f19fb4d08bfe1a40ec1f9acc9e4c4b87d8ef2deffe5db0918803cf3a705c702c1b73127a63256f0f8951836faea41fb5032d93', '05-12-2014': '86925f3d4e70a668cf536529961c663b033d3a6b54a945062ad146c5faceb9d749246527fdcec47f2bde963c1d46d060134b4043c2588b7b534c25542df027212f023881eede4871f4d21ef310d099840781b2d5efc268b015d358eeeebc0247d3a40f49ba7e32f137091099954ca5fbd588677260959bfb2cfeb6ae6495a348'}\""
       ]
      }
     ],
     "prompt_number": 88
    },
    {
     "cell_type": "code",
     "collapsed": false,
     "input": [
      "ndf = {}"
     ],
     "language": "python",
     "metadata": {},
     "outputs": [],
     "prompt_number": 89
    },
    {
     "cell_type": "code",
     "collapsed": false,
     "input": [
      "df = DataFrame(s)"
     ],
     "language": "python",
     "metadata": {},
     "outputs": [],
     "prompt_number": 90
    },
    {
     "cell_type": "code",
     "collapsed": false,
     "input": [
      "df"
     ],
     "language": "python",
     "metadata": {},
     "outputs": [
      {
       "metadata": {},
       "output_type": "pyout",
       "prompt_number": 91,
       "text": [
        "<class 'pandas.core.frame.DataFrame'>\n",
        "Int64Index: 7 entries, 0 to 6\n",
        "Data columns:\n",
        "0    7  non-null values\n",
        "dtypes: object(1)"
       ]
      }
     ],
     "prompt_number": 91
    },
    {
     "cell_type": "code",
     "collapsed": false,
     "input": [
      "#qgrid.show_grid"
     ],
     "language": "python",
     "metadata": {},
     "outputs": [],
     "prompt_number": 92
    },
    {
     "cell_type": "code",
     "collapsed": false,
     "input": [
      "medajsn = []"
     ],
     "language": "python",
     "metadata": {},
     "outputs": [],
     "prompt_number": 93
    },
    {
     "cell_type": "code",
     "collapsed": false,
     "input": [
      "for finm in finmea:\n",
      "    if '.json' in finm:\n",
      "        medajsn.append(finm)"
     ],
     "language": "python",
     "metadata": {},
     "outputs": [],
     "prompt_number": 94
    },
    {
     "cell_type": "code",
     "collapsed": false,
     "input": [
      "medajsn"
     ],
     "language": "python",
     "metadata": {},
     "outputs": [
      {
       "metadata": {},
       "output_type": "pyout",
       "prompt_number": 95,
       "text": [
        "['881d542b9e1f.json',\n",
        " '4d52e9702bf7.json',\n",
        " '\\x88\\x87%\\xbcW\\n9\\xe8\\xaf\\xea\\xf7t\\xb7\\xfa\\x91\\xda.json']"
       ]
      }
     ],
     "prompt_number": 95
    },
    {
     "cell_type": "code",
     "collapsed": false,
     "input": [
      "remz = []"
     ],
     "language": "python",
     "metadata": {},
     "outputs": [],
     "prompt_number": 96
    },
    {
     "cell_type": "code",
     "collapsed": false,
     "input": [
      "for mjsn in medajsn:\n",
      "    #print rmad\n",
      "    with open('/home/wcmckee/visignsys/posts/' + mjsn, 'r') as f:\n",
      "            read_data = f.read()\n",
      "            remz.append(read_data)"
     ],
     "language": "python",
     "metadata": {},
     "outputs": [],
     "prompt_number": 97
    },
    {
     "cell_type": "code",
     "collapsed": false,
     "input": [
      "remz"
     ],
     "language": "python",
     "metadata": {},
     "outputs": [
      {
       "metadata": {},
       "output_type": "pyout",
       "prompt_number": 98,
       "text": [
        "[\"['23:17', 'ESW', '04-Dec-2014', 'William Mckee', 'omg today i got this']['04-Dec-2014', 'signing out chrome', '23:18']\\n\",\n",
        " \"['ESW', '05-Dec-2014', 'William Mckee', 'testing login', '20:10']['05-Dec-2014', 'today i was a moe for 5 hours', '20:11']\",\n",
        " '{\"signin-date\": \"05-Dec-2014\", \"reason\": \"omg\", \"last-name\": \"mckee\", \"signin-hrmin\": \"08:45:43\", \"first-name\": \"will\", \"signin-comment\": \"ertere\"}']"
       ]
      }
     ],
     "prompt_number": 98
    },
    {
     "cell_type": "code",
     "collapsed": false,
     "input": [
      "import os\n",
      "import time\n",
      "import xlutils\n",
      "import xlwt\n",
      "import xlrd\n",
      "import dominate\n",
      "import sys\n",
      "from dominate.tags import *\n",
      "import json\n",
      "#from sqlalchemy import Column, ForeignKey, Integer, String\n",
      "#from sqlalchemy.ext.declarative import declarative_base\n",
      "#from sqlalchemy.orm import relationship\n",
      "#from sqlalchemy import create_engine\n",
      "\n",
      "# <codecell>\n",
      "\n",
      "lasnam = ('Mckee')\n",
      "firnam = ('William')\n",
      "dopz = ('04/12/1988')\n",
      "mname = ('William Mckee')\n",
      "ename = ('will@artcontrol.me')\n",
      "signin = ('ESW')\n",
      "\n",
      "wb = xlwt.Workbook()\n",
      "ws = wb.add_sheet('visitor sign database')\n",
      "\n",
      "# <codecell>\n",
      "\n",
      "rangen = []\n",
      "\n",
      "# <codecell>\n",
      "\n",
      "for genz in range(8):\n",
      "    #print os.urandom(128).encode('hex')\n",
      "    rangen.append(os.urandom(128).encode('hex'))\n",
      "\n",
      "# <codecell>\n",
      "\n",
      "exran = os.urandom(128).encode('hex')\n",
      "\n",
      "# <codecell>\n",
      "\n",
      "ixran = os.urandom(128).encode('hex')\n",
      "\n",
      "# <codecell>\n",
      "\n",
      "rawdets = ['In-Date', 'In-Time', 'In-Code', 'Name', 'Reason', 'Out-Date', 'Out-Time']\n",
      "\n",
      "# <codecell>\n",
      "\n",
      "numroll = []\n",
      "    #ws.write(0, det, )\n",
      "\n",
      "# <codecell>\n",
      "\n",
      "#for rad in rawdets:\n",
      " #   print rad\n",
      "    #print len(rad)\n",
      "#    print rad.upper()\n",
      "    #range(20)\n",
      "\n",
      "# <codecell>\n",
      "\n",
      "ws.write(0, 0, 'In Date')\n",
      "ws.write(0, 1, 'In Time')\n",
      "ws.write(0, 2, 'In Code')\n",
      "ws.write(0, 3, 'Name')\n",
      "ws.write(0, 4, 'Reason')\n",
      "ws.write(0, 5, 'Out Date')\n",
      "ws.write(0, 6, 'Out Time')\n",
      "ws.write(0, 7, 'Out Code')\n",
      "\n",
      "# <codecell>\n",
      "\n",
      "#strftime is %d (day), \n",
      "\n",
      "ws.write(1, 0, time.strftime(\"%d\" + \"-\" + \"%b\" + \"-\" + \"%Y\"))\n",
      "\n",
      "ws.write(1, 1, time.strftime(\"%H:%M\"))\n",
      "\n",
      "# <codecell>\n",
      "\n",
      "#getname = raw_input('Name: ')\n",
      "#getreason = raw_input('Reason: ')\n",
      "\n",
      "# <codecell>\n",
      "\n",
      "ws.write(1, 2, exran)\n",
      "\n",
      "# <codecell>\n",
      "\n",
      "ws.write(1, 3, mname)\n",
      "\n",
      "# <codecell>\n",
      "\n",
      "ws.write(1, 4, signin)\n",
      "\n",
      "# <codecell>\n",
      "\n",
      "#wb.save('/home/wcmckee/whai/' + xlvs)\n",
      "wb.save('/home/wcmckee/whai/index.xls')\n",
      "\n",
      "# <codecell>\n",
      "\n",
      "usecom = raw_input('Comments: ')\n",
      "\n",
      "# <codecell>\n",
      "\n",
      "wsdict = {mname: rangen[0]}\n",
      "\n",
      "# <codecell>\n",
      "\n",
      "betdict = {'firstname': firnam}\n",
      "\n",
      "# <codecell>\n",
      "\n",
      "dayr = time.strftime(\"%d\" + \"-\" + \"%m\" + \"-\" + \"%Y\")\n",
      "hrmn = time.strftime(\"%H:%M:%S\")\n",
      "\n",
      "# <codecell>\n",
      "\n",
      "betdict.update({'lastname': lasnam})\n",
      "betdict.update({'reason': signin})\n",
      "betdict.update({'signin-comment': usecom})\n",
      "betdict.update({'signin-date': dayr})\n",
      "betdict.update({'signin-hrmin': hrmn})\n",
      "\n",
      "# <codecell>\n",
      "s = Series(betdict)\n",
      "betjsn = json.dumps(betdict)\n",
      "\n",
      "# <codecell>\n",
      "\n",
      "betjsn\n",
      "\n",
      "# <codecell>\n",
      "\n",
      "wsdict.update({time.strftime(\"%d\" + \"-\" + \"%m\" + \"-\" + \"%Y\"): rangen[1]})\n",
      "\n",
      "# <codecell>\n",
      "\n",
      "wsdict.update({ time.strftime(\"%H:%M\"): rangen[2]})\n",
      "\n",
      "# <codecell>\n",
      "\n",
      "wsdict.update({signin: rangen[3]})\n",
      "\n",
      "# <codecell>\n",
      "\n",
      "wsdict.update({usecom: rangen[4]})\n",
      "\n",
      "# <codecell>\n",
      "\n",
      "\n",
      "# <codecell>\n",
      "\n",
      "doc = dominate.document(title='visitor sign sheet')\n",
      "\n",
      "with doc.head:\n",
      "    link(rel='stylesheet', href='style.css')\n",
      "    script(type='text/javascript', src='script.js')\n",
      "\n",
      "with doc:\n",
      "    with div(id='header').add(ol()):\n",
      "        for i in wsdict.keys():\n",
      "            li(a(i))\n",
      "\n",
      "    with div():\n",
      "        attr(cls='body')\n",
      "        p('last updated: ' + time.strftime(\"%H:%M\"))\n",
      "\n",
      "#print doc\n",
      "\n",
      "# <codecell>\n",
      "\n",
      "savindex = open('/home/wcmckee/visignsys/index.html', 'w')\n",
      "\n",
      "# <codecell>\n",
      "\n",
      "savindex.write(str(doc))\n",
      "savindex.close()\n",
      "\n",
      "# <codecell>\n",
      "\n",
      "ixtwe = ixran[0:12]\n",
      "\n",
      "# <codecell>\n",
      "\n",
      "savpos = open('/home/wcmckee/visignsys/posts/' + ixtwe + '.html', 'w')\n",
      "savpos.write(str(doc))\n",
      "savpos.close()\n",
      "\n",
      "# <codecell>\n",
      "\n",
      "savpos = open('/home/wcmckee/visignsys/posts/' + ixtwe + '.meta', 'w')\n",
      "savpos.write(str(wsdict))\n",
      "savpos.close()\n",
      "\n",
      "# <codecell>\n",
      "\n",
      "savpos = open('/home/wcmckee/visignsys/index.meta', 'w')\n",
      "savpos.write(str(wsdict.keys()))\n",
      "savpos.close()\n",
      "\n",
      "# <codecell>\n",
      "\n",
      "savpos = open('/home/wcmckee/visignsys/index.json', 'w')\n",
      "savpos.write(str(betjsn))\n",
      "savpos.close()\n",
      "\n",
      "# <codecell>\n",
      "\n",
      "print 'helli'\n",
      "\n",
      "# <codecell>\n",
      "\n"
     ],
     "language": "python",
     "metadata": {},
     "outputs": [
      {
       "name": "stdout",
       "output_type": "stream",
       "stream": "stdout",
       "text": [
        "Comments: testing at fairfield\n"
       ]
      },
      {
       "output_type": "stream",
       "stream": "stdout",
       "text": [
        "helli\n"
       ]
      }
     ],
     "prompt_number": 100
    },
    {
     "cell_type": "code",
     "collapsed": false,
     "input": [
      "s"
     ],
     "language": "python",
     "metadata": {},
     "outputs": [
      {
       "metadata": {},
       "output_type": "pyout",
       "prompt_number": 101,
       "text": [
        "firstname                      William\n",
        "lastname                         Mckee\n",
        "reason                             ESW\n",
        "signin-comment    testing at fairfield\n",
        "signin-date                 06-12-2014\n",
        "signin-hrmin                  11:30:29"
       ]
      }
     ],
     "prompt_number": 101
    },
    {
     "cell_type": "code",
     "collapsed": false,
     "input": [
      "mydef = DataFrame(s)"
     ],
     "language": "python",
     "metadata": {},
     "outputs": [],
     "prompt_number": 102
    },
    {
     "cell_type": "code",
     "collapsed": false,
     "input": [
      "mydef"
     ],
     "language": "python",
     "metadata": {},
     "outputs": [
      {
       "metadata": {},
       "output_type": "pyout",
       "prompt_number": 103,
       "text": [
        "                                   0\n",
        "firstname                    William\n",
        "lastname                       Mckee\n",
        "reason                           ESW\n",
        "signin-comment  testing at fairfield\n",
        "signin-date               06-12-2014\n",
        "signin-hrmin                11:30:29"
       ]
      }
     ],
     "prompt_number": 103
    },
    {
     "cell_type": "code",
     "collapsed": false,
     "input": [
      "#groupa = s.groupby(0)"
     ],
     "language": "python",
     "metadata": {},
     "outputs": [],
     "prompt_number": 104
    },
    {
     "cell_type": "code",
     "collapsed": false,
     "input": [
      "urdef = mydef.copy()"
     ],
     "language": "python",
     "metadata": {},
     "outputs": [],
     "prompt_number": 105
    },
    {
     "cell_type": "code",
     "collapsed": false,
     "input": [
      "urdef.to_html()"
     ],
     "language": "python",
     "metadata": {},
     "outputs": [
      {
       "metadata": {},
       "output_type": "pyout",
       "prompt_number": 109,
       "text": [
        "u'<table border=\"1\">\\n  <thead>\\n    <tr>\\n      <th></th>\\n      <th>0</th>\\n    </tr>\\n    </thead>\\n    <tbody>\\n    <tr>\\n      <td><strong>firstname</strong></td>\\n      <td>              William</td>\\n    </tr>\\n    <tr>\\n      <td><strong>lastname</strong></td>\\n      <td>                Mckee</td>\\n    </tr>\\n    <tr>\\n      <td><strong>reason</strong></td>\\n      <td>                  ESW</td>\\n    </tr>\\n    <tr>\\n      <td><strong>signin-comment</strong></td>\\n      <td> testing at fairfield</td>\\n    </tr>\\n    <tr>\\n      <td><strong>signin-date</strong></td>\\n      <td>           06-12-2014</td>\\n    </tr>\\n    <tr>\\n      <td><strong>signin-hrmin</strong></td>\\n      <td>             11:30:29</td>\\n    </tr>\\n  </tbody>\\n</table>\\n'"
       ]
      }
     ],
     "prompt_number": 109
    },
    {
     "cell_type": "code",
     "collapsed": false,
     "input": [
      "savindz = open('/home/wcmckee/visignsys/index.html', 'w')\n",
      "savindz.write(urdef.to_html())\n",
      "savindz.close()"
     ],
     "language": "python",
     "metadata": {},
     "outputs": [],
     "prompt_number": 110
    },
    {
     "cell_type": "code",
     "collapsed": false,
     "input": [
      "urdef.append(mydef)"
     ],
     "language": "python",
     "metadata": {},
     "outputs": [
      {
       "ename": "Exception",
       "evalue": "Indexes have overlapping values: ['firstname', 'lastname', 'reason', 'signin-comment', 'signin-date', 'signin-hrmin']",
       "output_type": "pyerr",
       "traceback": [
        "\u001b[1;31m---------------------------------------------------------------------------\u001b[0m\n\u001b[1;31mException\u001b[0m                                 Traceback (most recent call last)",
        "\u001b[1;32m<ipython-input-111-7e7aefe200e4>\u001b[0m in \u001b[0;36m<module>\u001b[1;34m()\u001b[0m\n\u001b[1;32m----> 1\u001b[1;33m \u001b[0murdef\u001b[0m\u001b[1;33m.\u001b[0m\u001b[0mappend\u001b[0m\u001b[1;33m(\u001b[0m\u001b[0mmydef\u001b[0m\u001b[1;33m)\u001b[0m\u001b[1;33m\u001b[0m\u001b[0m\n\u001b[0m",
        "\u001b[1;32m/usr/lib/pymodules/python2.7/pandas/core/frame.pyc\u001b[0m in \u001b[0;36mappend\u001b[1;34m(self, other, ignore_index, verify_integrity)\u001b[0m\n\u001b[0;32m   3058\u001b[0m             \u001b[0mto_concat\u001b[0m \u001b[1;33m=\u001b[0m \u001b[1;33m[\u001b[0m\u001b[0mself\u001b[0m\u001b[1;33m,\u001b[0m \u001b[0mother\u001b[0m\u001b[1;33m]\u001b[0m\u001b[1;33m\u001b[0m\u001b[0m\n\u001b[0;32m   3059\u001b[0m         return concat(to_concat, ignore_index=ignore_index,\n\u001b[1;32m-> 3060\u001b[1;33m                       verify_integrity=verify_integrity)\n\u001b[0m\u001b[0;32m   3061\u001b[0m \u001b[1;33m\u001b[0m\u001b[0m\n\u001b[0;32m   3062\u001b[0m     def join(self, other, on=None, how='left', lsuffix='', rsuffix='',\n",
        "\u001b[1;32m/usr/lib/pymodules/python2.7/pandas/tools/merge.pyc\u001b[0m in \u001b[0;36mconcat\u001b[1;34m(objs, axis, join, join_axes, ignore_index, keys, levels, names, verify_integrity)\u001b[0m\n\u001b[0;32m    688\u001b[0m                        \u001b[0mignore_index\u001b[0m\u001b[1;33m=\u001b[0m\u001b[0mignore_index\u001b[0m\u001b[1;33m,\u001b[0m \u001b[0mjoin\u001b[0m\u001b[1;33m=\u001b[0m\u001b[0mjoin\u001b[0m\u001b[1;33m,\u001b[0m\u001b[1;33m\u001b[0m\u001b[0m\n\u001b[0;32m    689\u001b[0m                        \u001b[0mkeys\u001b[0m\u001b[1;33m=\u001b[0m\u001b[0mkeys\u001b[0m\u001b[1;33m,\u001b[0m \u001b[0mlevels\u001b[0m\u001b[1;33m=\u001b[0m\u001b[0mlevels\u001b[0m\u001b[1;33m,\u001b[0m \u001b[0mnames\u001b[0m\u001b[1;33m=\u001b[0m\u001b[0mnames\u001b[0m\u001b[1;33m,\u001b[0m\u001b[1;33m\u001b[0m\u001b[0m\n\u001b[1;32m--> 690\u001b[1;33m                        verify_integrity=verify_integrity)\n\u001b[0m\u001b[0;32m    691\u001b[0m     \u001b[1;32mreturn\u001b[0m \u001b[0mop\u001b[0m\u001b[1;33m.\u001b[0m\u001b[0mget_result\u001b[0m\u001b[1;33m(\u001b[0m\u001b[1;33m)\u001b[0m\u001b[1;33m\u001b[0m\u001b[0m\n\u001b[0;32m    692\u001b[0m \u001b[1;33m\u001b[0m\u001b[0m\n",
        "\u001b[1;32m/usr/lib/pymodules/python2.7/pandas/tools/merge.pyc\u001b[0m in \u001b[0;36m__init__\u001b[1;34m(self, objs, axis, join, join_axes, keys, levels, names, ignore_index, verify_integrity)\u001b[0m\n\u001b[0;32m    747\u001b[0m         \u001b[0mself\u001b[0m\u001b[1;33m.\u001b[0m\u001b[0mverify_integrity\u001b[0m \u001b[1;33m=\u001b[0m \u001b[0mverify_integrity\u001b[0m\u001b[1;33m\u001b[0m\u001b[0m\n\u001b[0;32m    748\u001b[0m \u001b[1;33m\u001b[0m\u001b[0m\n\u001b[1;32m--> 749\u001b[1;33m         \u001b[0mself\u001b[0m\u001b[1;33m.\u001b[0m\u001b[0mnew_axes\u001b[0m \u001b[1;33m=\u001b[0m \u001b[0mself\u001b[0m\u001b[1;33m.\u001b[0m\u001b[0m_get_new_axes\u001b[0m\u001b[1;33m(\u001b[0m\u001b[1;33m)\u001b[0m\u001b[1;33m\u001b[0m\u001b[0m\n\u001b[0m\u001b[0;32m    750\u001b[0m \u001b[1;33m\u001b[0m\u001b[0m\n\u001b[0;32m    751\u001b[0m     \u001b[1;32mdef\u001b[0m \u001b[0mget_result\u001b[0m\u001b[1;33m(\u001b[0m\u001b[0mself\u001b[0m\u001b[1;33m)\u001b[0m\u001b[1;33m:\u001b[0m\u001b[1;33m\u001b[0m\u001b[0m\n",
        "\u001b[1;32m/usr/lib/pymodules/python2.7/pandas/tools/merge.pyc\u001b[0m in \u001b[0;36m_get_new_axes\u001b[1;34m(self)\u001b[0m\n\u001b[0;32m    872\u001b[0m             \u001b[0mconcat_axis\u001b[0m \u001b[1;33m=\u001b[0m \u001b[0mNone\u001b[0m\u001b[1;33m\u001b[0m\u001b[0m\n\u001b[0;32m    873\u001b[0m         \u001b[1;32melse\u001b[0m\u001b[1;33m:\u001b[0m\u001b[1;33m\u001b[0m\u001b[0m\n\u001b[1;32m--> 874\u001b[1;33m             \u001b[0mconcat_axis\u001b[0m \u001b[1;33m=\u001b[0m \u001b[0mself\u001b[0m\u001b[1;33m.\u001b[0m\u001b[0m_get_concat_axis\u001b[0m\u001b[1;33m(\u001b[0m\u001b[1;33m)\u001b[0m\u001b[1;33m\u001b[0m\u001b[0m\n\u001b[0m\u001b[0;32m    875\u001b[0m \u001b[1;33m\u001b[0m\u001b[0m\n\u001b[0;32m    876\u001b[0m         \u001b[0mnew_axes\u001b[0m\u001b[1;33m[\u001b[0m\u001b[0mself\u001b[0m\u001b[1;33m.\u001b[0m\u001b[0maxis\u001b[0m\u001b[1;33m]\u001b[0m \u001b[1;33m=\u001b[0m \u001b[0mconcat_axis\u001b[0m\u001b[1;33m\u001b[0m\u001b[0m\n",
        "\u001b[1;32m/usr/lib/pymodules/python2.7/pandas/tools/merge.pyc\u001b[0m in \u001b[0;36m_get_concat_axis\u001b[1;34m(self)\u001b[0m\n\u001b[0;32m    909\u001b[0m                                                   self.levels, self.names)\n\u001b[0;32m    910\u001b[0m \u001b[1;33m\u001b[0m\u001b[0m\n\u001b[1;32m--> 911\u001b[1;33m         \u001b[0mself\u001b[0m\u001b[1;33m.\u001b[0m\u001b[0m_maybe_check_integrity\u001b[0m\u001b[1;33m(\u001b[0m\u001b[0mconcat_axis\u001b[0m\u001b[1;33m)\u001b[0m\u001b[1;33m\u001b[0m\u001b[0m\n\u001b[0m\u001b[0;32m    912\u001b[0m \u001b[1;33m\u001b[0m\u001b[0m\n\u001b[0;32m    913\u001b[0m         \u001b[1;32mreturn\u001b[0m \u001b[0mconcat_axis\u001b[0m\u001b[1;33m\u001b[0m\u001b[0m\n",
        "\u001b[1;32m/usr/lib/pymodules/python2.7/pandas/tools/merge.pyc\u001b[0m in \u001b[0;36m_maybe_check_integrity\u001b[1;34m(self, concat_index)\u001b[0m\n\u001b[0;32m    918\u001b[0m                 \u001b[0moverlap\u001b[0m \u001b[1;33m=\u001b[0m \u001b[0mconcat_index\u001b[0m\u001b[1;33m.\u001b[0m\u001b[0mget_duplicates\u001b[0m\u001b[1;33m(\u001b[0m\u001b[1;33m)\u001b[0m\u001b[1;33m\u001b[0m\u001b[0m\n\u001b[0;32m    919\u001b[0m                 raise Exception('Indexes have overlapping values: %s'\n\u001b[1;32m--> 920\u001b[1;33m                                 % str(overlap))\n\u001b[0m\u001b[0;32m    921\u001b[0m \u001b[1;33m\u001b[0m\u001b[0m\n\u001b[0;32m    922\u001b[0m \u001b[1;33m\u001b[0m\u001b[0m\n",
        "\u001b[1;31mException\u001b[0m: Indexes have overlapping values: ['firstname', 'lastname', 'reason', 'signin-comment', 'signin-date', 'signin-hrmin']"
       ]
      }
     ],
     "prompt_number": 111
    },
    {
     "cell_type": "code",
     "collapsed": false,
     "input": [
      "urdef"
     ],
     "language": "python",
     "metadata": {},
     "outputs": [
      {
       "metadata": {},
       "output_type": "pyout",
       "prompt_number": 112,
       "text": [
        "                                   0\n",
        "firstname                    William\n",
        "lastname                       Mckee\n",
        "reason                           ESW\n",
        "signin-comment  testing at fairfield\n",
        "signin-date               06-12-2014\n",
        "signin-hrmin                11:30:29"
       ]
      }
     ],
     "prompt_number": 112
    },
    {
     "cell_type": "code",
     "collapsed": false,
     "input": [
      " time.strftime(\"%d\" + \"-\" + \"%m\" + \"-\" + \"%Y\")"
     ],
     "language": "python",
     "metadata": {},
     "outputs": [
      {
       "metadata": {},
       "output_type": "pyout",
       "prompt_number": 113,
       "text": [
        "'06-12-2014'"
       ]
      }
     ],
     "prompt_number": 113
    },
    {
     "cell_type": "code",
     "collapsed": false,
     "input": [
      "pdran = pd.date_range(start='1-1-2000', end='12/31/2012', freq='B')"
     ],
     "language": "python",
     "metadata": {},
     "outputs": [
      {
       "ename": "AttributeError",
       "evalue": "'module' object has no attribute 'date_range'",
       "output_type": "pyerr",
       "traceback": [
        "\u001b[1;31m---------------------------------------------------------------------------\u001b[0m\n\u001b[1;31mAttributeError\u001b[0m                            Traceback (most recent call last)",
        "\u001b[1;32m<ipython-input-114-f2b1d43dbcd9>\u001b[0m in \u001b[0;36m<module>\u001b[1;34m()\u001b[0m\n\u001b[1;32m----> 1\u001b[1;33m \u001b[0mpdran\u001b[0m \u001b[1;33m=\u001b[0m \u001b[0mpd\u001b[0m\u001b[1;33m.\u001b[0m\u001b[0mdate_range\u001b[0m\u001b[1;33m(\u001b[0m\u001b[0mstart\u001b[0m\u001b[1;33m=\u001b[0m\u001b[1;34m'1-1-2000'\u001b[0m\u001b[1;33m,\u001b[0m \u001b[0mend\u001b[0m\u001b[1;33m=\u001b[0m\u001b[1;34m'12/31/2012'\u001b[0m\u001b[1;33m,\u001b[0m \u001b[0mfreq\u001b[0m\u001b[1;33m=\u001b[0m\u001b[1;34m'B'\u001b[0m\u001b[1;33m)\u001b[0m\u001b[1;33m\u001b[0m\u001b[0m\n\u001b[0m",
        "\u001b[1;31mAttributeError\u001b[0m: 'module' object has no attribute 'date_range'"
       ]
      }
     ],
     "prompt_number": 114
    },
    {
     "cell_type": "code",
     "collapsed": false,
     "input": [
      "ser = Series(pdran)"
     ],
     "language": "python",
     "metadata": {},
     "outputs": [
      {
       "ename": "NameError",
       "evalue": "name 'pdran' is not defined",
       "output_type": "pyerr",
       "traceback": [
        "\u001b[1;31m---------------------------------------------------------------------------\u001b[0m\n\u001b[1;31mNameError\u001b[0m                                 Traceback (most recent call last)",
        "\u001b[1;32m<ipython-input-115-a1355fdc40aa>\u001b[0m in \u001b[0;36m<module>\u001b[1;34m()\u001b[0m\n\u001b[1;32m----> 1\u001b[1;33m \u001b[0mser\u001b[0m \u001b[1;33m=\u001b[0m \u001b[0mSeries\u001b[0m\u001b[1;33m(\u001b[0m\u001b[0mpdran\u001b[0m\u001b[1;33m)\u001b[0m\u001b[1;33m\u001b[0m\u001b[0m\n\u001b[0m",
        "\u001b[1;31mNameError\u001b[0m: name 'pdran' is not defined"
       ]
      }
     ],
     "prompt_number": 115
    },
    {
     "cell_type": "code",
     "collapsed": false,
     "input": [
      "ser"
     ],
     "language": "python",
     "metadata": {},
     "outputs": [
      {
       "ename": "NameError",
       "evalue": "name 'ser' is not defined",
       "output_type": "pyerr",
       "traceback": [
        "\u001b[1;31m---------------------------------------------------------------------------\u001b[0m\n\u001b[1;31mNameError\u001b[0m                                 Traceback (most recent call last)",
        "\u001b[1;32m<ipython-input-116-c8ad9212ed37>\u001b[0m in \u001b[0;36m<module>\u001b[1;34m()\u001b[0m\n\u001b[1;32m----> 1\u001b[1;33m \u001b[0mser\u001b[0m\u001b[1;33m\u001b[0m\u001b[0m\n\u001b[0m",
        "\u001b[1;31mNameError\u001b[0m: name 'ser' is not defined"
       ]
      }
     ],
     "prompt_number": 116
    },
    {
     "cell_type": "code",
     "collapsed": false,
     "input": [
      "for i in range(10):\n",
      "    randn()"
     ],
     "language": "python",
     "metadata": {},
     "outputs": [],
     "prompt_number": 117
    },
    {
     "cell_type": "code",
     "collapsed": false,
     "input": [
      "ilisz = []"
     ],
     "language": "python",
     "metadata": {},
     "outputs": [],
     "prompt_number": 118
    },
    {
     "cell_type": "code",
     "collapsed": false,
     "input": [
      "#!/usr/bin/python\n",
      "\n",
      "count = 0\n",
      "while (count < 9):\n",
      "   ilisz.append(randn())\n",
      "   print 'The count is:', count\n",
      "   count = count + 1\n",
      "    \n",
      "\n",
      "print \"Good bye!\""
     ],
     "language": "python",
     "metadata": {},
     "outputs": [
      {
       "output_type": "stream",
       "stream": "stdout",
       "text": [
        "The count is: 0\n",
        "The count is: 1\n",
        "The count is: 2\n",
        "The count is: 3\n",
        "The count is: 4\n",
        "The count is: 5\n",
        "The count is: 6\n",
        "The count is: 7\n",
        "The count is: 8\n",
        "Good bye!\n"
       ]
      }
     ],
     "prompt_number": 119
    },
    {
     "cell_type": "code",
     "collapsed": false,
     "input": [
      "ilisz"
     ],
     "language": "python",
     "metadata": {},
     "outputs": [
      {
       "metadata": {},
       "output_type": "pyout",
       "prompt_number": 120,
       "text": [
        "[-0.24578987584720752,\n",
        " -0.16682170271081356,\n",
        " 1.2341237442988513,\n",
        " -0.6498639324318447,\n",
        " 0.7490666590152846,\n",
        " 0.476015974050909,\n",
        " -2.285626468633527,\n",
        " -0.7362768767220972,\n",
        " 0.015204767392109178]"
       ]
      }
     ],
     "prompt_number": 120
    },
    {
     "cell_type": "code",
     "collapsed": false,
     "input": [
      "ilisz"
     ],
     "language": "python",
     "metadata": {},
     "outputs": [
      {
       "metadata": {},
       "output_type": "pyout",
       "prompt_number": 121,
       "text": [
        "[-0.24578987584720752,\n",
        " -0.16682170271081356,\n",
        " 1.2341237442988513,\n",
        " -0.6498639324318447,\n",
        " 0.7490666590152846,\n",
        " 0.476015974050909,\n",
        " -2.285626468633527,\n",
        " -0.7362768767220972,\n",
        " 0.015204767392109178]"
       ]
      }
     ],
     "prompt_number": 121
    },
    {
     "cell_type": "code",
     "collapsed": false,
     "input": [],
     "language": "python",
     "metadata": {},
     "outputs": [],
     "prompt_number": 121
    },
    {
     "cell_type": "code",
     "collapsed": false,
     "input": [],
     "language": "python",
     "metadata": {},
     "outputs": []
    }
   ],
   "metadata": {}
  }
 ]
}