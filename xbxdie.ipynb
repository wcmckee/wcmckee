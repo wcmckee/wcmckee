{
 "metadata": {
  "name": "",
  "signature": "sha256:48fba7c5549a05a34846060e1900c4f3e655de377104ed1d8d4e66f02c960c6b"
 },
 "nbformat": 3,
 "nbformat_minor": 0,
 "worksheets": [
  {
   "cells": [
    {
     "cell_type": "code",
     "collapsed": false,
     "input": [
      "import numpy as np\n",
      "import pandas as pd\n",
      "from pandas import *\n",
      "import os\n",
      "\n",
      "\n",
      "\n",
      "\n",
      "\n",
      "#import qgrid\n",
      "randn = np.random.randn"
     ],
     "language": "python",
     "metadata": {},
     "outputs": [],
     "prompt_number": 1
    },
    {
     "cell_type": "raw",
     "metadata": {},
     "source": [
      "What I want to do is open up the data from visignsys into pandas, display the data in rows and collums. \n",
      "Dates with comments along side. The best way to do this is save dicts to files and open them with pandas, creating r n c. \n"
     ]
    },
    {
     "cell_type": "code",
     "collapsed": false,
     "input": [
      "readjson = open('/home/wcmckee/visignsys/index.meta', 'r')"
     ],
     "language": "python",
     "metadata": {},
     "outputs": [],
     "prompt_number": 2
    },
    {
     "cell_type": "code",
     "collapsed": false,
     "input": [
      "checkj = readjson.read()"
     ],
     "language": "python",
     "metadata": {},
     "outputs": [],
     "prompt_number": 3
    },
    {
     "cell_type": "code",
     "collapsed": false,
     "input": [
      "s = Series(checkj)"
     ],
     "language": "python",
     "metadata": {},
     "outputs": [],
     "prompt_number": 4
    },
    {
     "cell_type": "code",
     "collapsed": false,
     "input": [
      "s"
     ],
     "language": "python",
     "metadata": {},
     "outputs": [
      {
       "metadata": {},
       "output_type": "pyout",
       "prompt_number": 5,
       "text": [
        "\"['ESW', '05-Dec-2014', 'William Mckee', 'testing login', '20:10']['05-Dec-2014', 'today i was a moe for 5 hours', '20:11']\""
       ]
      }
     ],
     "prompt_number": 5
    },
    {
     "cell_type": "code",
     "collapsed": false,
     "input": [
      "finmea = os.listdir('/home/wcmckee/visignsys/posts')"
     ],
     "language": "python",
     "metadata": {},
     "outputs": [],
     "prompt_number": 6
    },
    {
     "cell_type": "code",
     "collapsed": false,
     "input": [
      "finmea"
     ],
     "language": "python",
     "metadata": {},
     "outputs": [
      {
       "metadata": {},
       "output_type": "pyout",
       "prompt_number": 7,
       "text": [
        "['881d542b9e1f.json',\n",
        " '4d52e9702bf7.json',\n",
        " 'ad6a2cd563fd.meta',\n",
        " '\\x88\\x87%\\xbcW\\n9\\xe8\\xaf\\xea\\xf7t\\xb7\\xfa\\x91\\xda.json',\n",
        " '647205554d9d.meta',\n",
        " '647205554d9d.html',\n",
        " '4d52e9702bf7.meta',\n",
        " 'ad6a2cd563fd.html',\n",
        " '\\x88\\x87%\\xbcW\\n9\\xe8\\xaf\\xea\\xf7t\\xb7\\xfa\\x91\\xda.html',\n",
        " '881d542b9e1f.meta']"
       ]
      }
     ],
     "prompt_number": 7
    },
    {
     "cell_type": "code",
     "collapsed": false,
     "input": [
      "medalis = []"
     ],
     "language": "python",
     "metadata": {},
     "outputs": [],
     "prompt_number": 8
    },
    {
     "cell_type": "code",
     "collapsed": false,
     "input": [
      "for finm in finmea:\n",
      "    if '.meta' in finm:\n",
      "        medalis.append(finm)"
     ],
     "language": "python",
     "metadata": {},
     "outputs": [],
     "prompt_number": 9
    },
    {
     "cell_type": "code",
     "collapsed": false,
     "input": [
      "altxt = []"
     ],
     "language": "python",
     "metadata": {},
     "outputs": [],
     "prompt_number": 10
    },
    {
     "cell_type": "code",
     "collapsed": false,
     "input": [
      "for rmad in medalis:\n",
      "    #print rmad\n",
      "    with open('/home/wcmckee/visignsys/posts/' + rmad, 'r') as f:\n",
      "            read_data = f.read()\n",
      "            altxt.append(read_data)"
     ],
     "language": "python",
     "metadata": {},
     "outputs": [],
     "prompt_number": 11
    },
    {
     "cell_type": "code",
     "collapsed": false,
     "input": [
      "checkem = []"
     ],
     "language": "python",
     "metadata": {},
     "outputs": [],
     "prompt_number": 12
    },
    {
     "cell_type": "code",
     "collapsed": false,
     "input": [
      "for alt in altxt:\n",
      "    print alt\n",
      "    checkem.append(Series(alt))"
     ],
     "language": "python",
     "metadata": {},
     "outputs": [
      {
       "output_type": "stream",
       "stream": "stdout",
       "text": [
        "['23:17', 'ESW', '04-Dec-2014', 'William Mckee', 'omg today i got this']\n",
        "['ESW', '05-Dec-2014', 'William Mckee', 'testing login', '20:10']\n",
        "['ESW', '05-Dec-2014', 'William Mckee', 'testing login', '20:10']['05-Dec-2014', 'today i was a moe for 5 hours', '20:11']\n",
        "['23:17', 'ESW', '04-Dec-2014', 'William Mckee', 'omg today i got this']['04-Dec-2014', 'signing out chrome', '23:18']\n"
       ]
      }
     ],
     "prompt_number": 13
    },
    {
     "cell_type": "code",
     "collapsed": false,
     "input": [
      "for chem in checkem:\n",
      "    print chem"
     ],
     "language": "python",
     "metadata": {},
     "outputs": [
      {
       "output_type": "stream",
       "stream": "stdout",
       "text": [
        "['23:17', 'ESW', '04-Dec-2014', 'William Mckee', 'omg today i got this']\n",
        "['ESW', '05-Dec-2014', 'William Mckee', 'testing login', '20:10']\n",
        "['ESW', '05-Dec-2014', 'William Mckee', 'testing login', '20:10']['05-Dec-2014', 'today i was a moe for 5 hours', '20:11']\n",
        "['23:17', 'ESW', '04-Dec-2014', 'William Mckee', 'omg today i got this']['04-Dec-2014', 'signing out chrome', '23:18']\n"
       ]
      }
     ],
     "prompt_number": 14
    },
    {
     "cell_type": "code",
     "collapsed": false,
     "input": [
      "s = Series(altxt)"
     ],
     "language": "python",
     "metadata": {},
     "outputs": [],
     "prompt_number": 15
    },
    {
     "cell_type": "code",
     "collapsed": false,
     "input": [
      "s.all"
     ],
     "language": "python",
     "metadata": {},
     "outputs": [
      {
       "metadata": {},
       "output_type": "pyout",
       "prompt_number": 16,
       "text": [
        "<bound method Series.all of 0                                                      ['23:17', 'ESW', '04-Dec-2014', 'William Mckee', 'omg today i got this']\n",
        "1                                                             ['ESW', '05-Dec-2014', 'William Mckee', 'testing login', '20:10']\n",
        "2    ['ESW', '05-Dec-2014', 'William Mckee', 'testing login', '20:10']['05-Dec-2014', 'today i was a moe for 5 hours', '20:11']\n",
        "3        ['23:17', 'ESW', '04-Dec-2014', 'William Mckee', 'omg today i got this']['04-Dec-2014', 'signing out chrome', '23:18']>"
       ]
      }
     ],
     "prompt_number": 16
    },
    {
     "cell_type": "code",
     "collapsed": false,
     "input": [
      "s[0]"
     ],
     "language": "python",
     "metadata": {},
     "outputs": [
      {
       "metadata": {},
       "output_type": "pyout",
       "prompt_number": 17,
       "text": [
        "\"['23:17', 'ESW', '04-Dec-2014', 'William Mckee', 'omg today i got this']\""
       ]
      }
     ],
     "prompt_number": 17
    },
    {
     "cell_type": "code",
     "collapsed": false,
     "input": [
      "ndf = {}"
     ],
     "language": "python",
     "metadata": {},
     "outputs": [],
     "prompt_number": 18
    },
    {
     "cell_type": "code",
     "collapsed": false,
     "input": [
      "df = DataFrame(s)"
     ],
     "language": "python",
     "metadata": {},
     "outputs": [],
     "prompt_number": 19
    },
    {
     "cell_type": "code",
     "collapsed": false,
     "input": [
      "df"
     ],
     "language": "python",
     "metadata": {},
     "outputs": [
      {
       "metadata": {},
       "output_type": "pyout",
       "prompt_number": 20,
       "text": [
        "<class 'pandas.core.frame.DataFrame'>\n",
        "Int64Index: 4 entries, 0 to 3\n",
        "Data columns:\n",
        "0    4  non-null values\n",
        "dtypes: object(1)"
       ]
      }
     ],
     "prompt_number": 20
    },
    {
     "cell_type": "code",
     "collapsed": false,
     "input": [
      "#qgrid.show_grid"
     ],
     "language": "python",
     "metadata": {},
     "outputs": [],
     "prompt_number": 21
    },
    {
     "cell_type": "code",
     "collapsed": false,
     "input": [
      "medajsn = []"
     ],
     "language": "python",
     "metadata": {},
     "outputs": [],
     "prompt_number": 22
    },
    {
     "cell_type": "code",
     "collapsed": false,
     "input": [
      "for finm in finmea:\n",
      "    if '.json' in finm:\n",
      "        medajsn.append(finm)"
     ],
     "language": "python",
     "metadata": {},
     "outputs": [],
     "prompt_number": 23
    },
    {
     "cell_type": "code",
     "collapsed": false,
     "input": [
      "medajsn"
     ],
     "language": "python",
     "metadata": {},
     "outputs": [
      {
       "metadata": {},
       "output_type": "pyout",
       "prompt_number": 24,
       "text": [
        "['881d542b9e1f.json',\n",
        " '4d52e9702bf7.json',\n",
        " '\\x88\\x87%\\xbcW\\n9\\xe8\\xaf\\xea\\xf7t\\xb7\\xfa\\x91\\xda.json']"
       ]
      }
     ],
     "prompt_number": 24
    },
    {
     "cell_type": "code",
     "collapsed": false,
     "input": [
      "remz = []"
     ],
     "language": "python",
     "metadata": {},
     "outputs": [],
     "prompt_number": 25
    },
    {
     "cell_type": "code",
     "collapsed": false,
     "input": [
      "for mjsn in medajsn:\n",
      "    #print rmad\n",
      "    with open('/home/wcmckee/visignsys/posts/' + mjsn, 'r') as f:\n",
      "            read_data = f.read()\n",
      "            remz.append(read_data)"
     ],
     "language": "python",
     "metadata": {},
     "outputs": [],
     "prompt_number": 26
    },
    {
     "cell_type": "code",
     "collapsed": false,
     "input": [
      "remz"
     ],
     "language": "python",
     "metadata": {},
     "outputs": [
      {
       "metadata": {},
       "output_type": "pyout",
       "prompt_number": 27,
       "text": [
        "[\"['23:17', 'ESW', '04-Dec-2014', 'William Mckee', 'omg today i got this']['04-Dec-2014', 'signing out chrome', '23:18']\\n\",\n",
        " \"['ESW', '05-Dec-2014', 'William Mckee', 'testing login', '20:10']['05-Dec-2014', 'today i was a moe for 5 hours', '20:11']\",\n",
        " '{\"signin-date\": \"05-Dec-2014\", \"reason\": \"omg\", \"last-name\": \"mckee\", \"signin-hrmin\": \"08:45:43\", \"first-name\": \"will\", \"signin-comment\": \"ertere\"}']"
       ]
      }
     ],
     "prompt_number": 27
    },
    {
     "cell_type": "code",
     "collapsed": false,
     "input": [
      "import os\n",
      "import time\n",
      "import xlutils\n",
      "import xlwt\n",
      "import xlrd\n",
      "import dominate\n",
      "import sys\n",
      "from dominate.tags import *\n",
      "import json\n",
      "#from sqlalchemy import Column, ForeignKey, Integer, String\n",
      "#from sqlalchemy.ext.declarative import declarative_base\n",
      "#from sqlalchemy.orm import relationship\n",
      "#from sqlalchemy import create_engine\n",
      "\n",
      "# <codecell>\n",
      "\n",
      "lasnam = ('Mckee')\n",
      "firnam = ('William')\n",
      "dopz = ('04/12/1988')\n",
      "mname = ('William Mckee')\n",
      "ename = ('will@artcontrol.me')\n",
      "signin = ('ESW')\n",
      "\n",
      "wb = xlwt.Workbook()\n",
      "ws = wb.add_sheet('visitor sign database')\n",
      "\n",
      "# <codecell>\n",
      "\n",
      "rangen = []\n",
      "\n",
      "# <codecell>\n",
      "\n",
      "for genz in range(8):\n",
      "    #print os.urandom(128).encode('hex')\n",
      "    rangen.append(os.urandom(128).encode('hex'))\n",
      "\n",
      "# <codecell>\n",
      "\n",
      "exran = os.urandom(128).encode('hex')\n",
      "\n",
      "# <codecell>\n",
      "\n",
      "ixran = os.urandom(128).encode('hex')\n",
      "\n",
      "# <codecell>\n",
      "\n",
      "rawdets = ['In-Date', 'In-Time', 'In-Code', 'Name', 'Reason', 'Out-Date', 'Out-Time']\n",
      "\n",
      "# <codecell>\n",
      "\n",
      "numroll = []\n",
      "    #ws.write(0, det, )\n",
      "\n",
      "# <codecell>\n",
      "\n",
      "#for rad in rawdets:\n",
      " #   print rad\n",
      "    #print len(rad)\n",
      "#    print rad.upper()\n",
      "    #range(20)\n",
      "\n",
      "# <codecell>\n",
      "\n",
      "ws.write(0, 0, 'In Date')\n",
      "ws.write(0, 1, 'In Time')\n",
      "ws.write(0, 2, 'In Code')\n",
      "ws.write(0, 3, 'Name')\n",
      "ws.write(0, 4, 'Reason')\n",
      "ws.write(0, 5, 'Out Date')\n",
      "ws.write(0, 6, 'Out Time')\n",
      "ws.write(0, 7, 'Out Code')\n",
      "\n",
      "# <codecell>\n",
      "\n",
      "#strftime is %d (day), \n",
      "\n",
      "ws.write(1, 0, time.strftime(\"%d\" + \"-\" + \"%b\" + \"-\" + \"%Y\"))\n",
      "\n",
      "ws.write(1, 1, time.strftime(\"%H:%M\"))\n",
      "\n",
      "# <codecell>\n",
      "\n",
      "#getname = raw_input('Name: ')\n",
      "#getreason = raw_input('Reason: ')\n",
      "\n",
      "# <codecell>\n",
      "\n",
      "ws.write(1, 2, exran)\n",
      "\n",
      "# <codecell>\n",
      "\n",
      "ws.write(1, 3, mname)\n",
      "\n",
      "# <codecell>\n",
      "\n",
      "ws.write(1, 4, signin)\n",
      "\n",
      "# <codecell>\n",
      "\n",
      "#wb.save('/home/wcmckee/whai/' + xlvs)\n",
      "wb.save('/home/wcmckee/whai/index.xls')\n",
      "\n",
      "# <codecell>\n",
      "\n",
      "usecom = raw_input('Comments: ')\n",
      "\n",
      "# <codecell>\n",
      "\n",
      "wsdict = {mname: rangen[0]}\n",
      "\n",
      "# <codecell>\n",
      "\n",
      "betdict = {'firstname': firnam}\n",
      "\n",
      "# <codecell>\n",
      "\n",
      "dayr = time.strftime(\"%d\" + \"-\" + \"%m\" + \"-\" + \"%Y\")\n",
      "hrmn = time.strftime(\"%H:%M:%S\")\n",
      "\n",
      "# <codecell>\n",
      "\n",
      "betdict.update({'lastname': lasnam})\n",
      "betdict.update({'reason': signin})\n",
      "betdict.update({'signin-comment': usecom})\n",
      "betdict.update({'signin-date': dayr})\n",
      "betdict.update({'signin-hrmin': hrmn})\n",
      "\n",
      "# <codecell>\n",
      "s = Series(betdict)\n",
      "betjsn = json.dumps(betdict)\n",
      "\n",
      "# <codecell>\n",
      "\n",
      "betjsn\n",
      "\n",
      "# <codecell>\n",
      "\n",
      "wsdict.update({time.strftime(\"%d\" + \"-\" + \"%m\" + \"-\" + \"%Y\"): rangen[1]})\n",
      "\n",
      "# <codecell>\n",
      "\n",
      "wsdict.update({ time.strftime(\"%H:%M\"): rangen[2]})\n",
      "\n",
      "# <codecell>\n",
      "\n",
      "wsdict.update({signin: rangen[3]})\n",
      "\n",
      "# <codecell>\n",
      "\n",
      "wsdict.update({usecom: rangen[4]})\n",
      "\n",
      "# <codecell>\n",
      "\n",
      "\n",
      "# <codecell>\n",
      "\n",
      "doc = dominate.document(title='visitor sign sheet')\n",
      "\n",
      "with doc.head:\n",
      "    link(rel='stylesheet', href='style.css')\n",
      "    script(type='text/javascript', src='script.js')\n",
      "\n",
      "with doc:\n",
      "    with div(id='header').add(ol()):\n",
      "        for i in wsdict.keys():\n",
      "            li(a(i))\n",
      "\n",
      "    with div():\n",
      "        attr(cls='body')\n",
      "        p('last updated: ' + time.strftime(\"%H:%M\"))\n",
      "\n",
      "#print doc\n",
      "\n",
      "# <codecell>\n",
      "\n",
      "savindex = open('/home/wcmckee/visignsys/index.html', 'w')\n",
      "\n",
      "# <codecell>\n",
      "\n",
      "savindex.write(str(doc))\n",
      "savindex.close()\n",
      "\n",
      "# <codecell>\n",
      "\n",
      "ixtwe = ixran[0:12]\n",
      "\n",
      "# <codecell>\n",
      "\n",
      "savpos = open('/home/wcmckee/visignsys/posts/' + ixtwe + '.html', 'w')\n",
      "savpos.write(str(doc))\n",
      "savpos.close()\n",
      "\n",
      "# <codecell>\n",
      "\n",
      "savpos = open('/home/wcmckee/visignsys/posts/' + ixtwe + '.meta', 'w')\n",
      "savpos.write(str(wsdict))\n",
      "savpos.close()\n",
      "\n",
      "# <codecell>\n",
      "\n",
      "savpos = open('/home/wcmckee/visignsys/index.meta', 'w')\n",
      "savpos.write(str(wsdict.keys()))\n",
      "savpos.close()\n",
      "\n",
      "# <codecell>\n",
      "\n",
      "savpos = open('/home/wcmckee/visignsys/index.json', 'w')\n",
      "savpos.write(str(betjsn))\n",
      "savpos.close()\n",
      "\n",
      "# <codecell>\n",
      "\n",
      "print 'helli'\n",
      "\n",
      "# <codecell>\n",
      "\n"
     ],
     "language": "python",
     "metadata": {},
     "outputs": [
      {
       "name": "stdout",
       "output_type": "stream",
       "stream": "stdout",
       "text": [
        "Comments: omg hgi\n"
       ]
      },
      {
       "output_type": "stream",
       "stream": "stdout",
       "text": [
        "helli\n"
       ]
      }
     ],
     "prompt_number": 33
    },
    {
     "cell_type": "code",
     "collapsed": false,
     "input": [
      "s"
     ],
     "language": "python",
     "metadata": {},
     "outputs": [
      {
       "metadata": {},
       "output_type": "pyout",
       "prompt_number": 34,
       "text": [
        "firstname            William\n",
        "lastname               Mckee\n",
        "reason                   ESW\n",
        "signin-comment       omg hgi\n",
        "signin-date       05-12-2014\n",
        "signin-hrmin        21:06:53"
       ]
      }
     ],
     "prompt_number": 34
    },
    {
     "cell_type": "code",
     "collapsed": false,
     "input": [
      "mydef = DataFrame(s)"
     ],
     "language": "python",
     "metadata": {},
     "outputs": [],
     "prompt_number": 35
    },
    {
     "cell_type": "code",
     "collapsed": false,
     "input": [
      "mydef"
     ],
     "language": "python",
     "metadata": {},
     "outputs": [
      {
       "metadata": {},
       "output_type": "pyout",
       "prompt_number": 36,
       "text": [
        "                         0\n",
        "firstname          William\n",
        "lastname             Mckee\n",
        "reason                 ESW\n",
        "signin-comment     omg hgi\n",
        "signin-date     05-12-2014\n",
        "signin-hrmin      21:06:53"
       ]
      }
     ],
     "prompt_number": 36
    },
    {
     "cell_type": "code",
     "collapsed": false,
     "input": [
      "#groupa = s.groupby(0)"
     ],
     "language": "python",
     "metadata": {},
     "outputs": [],
     "prompt_number": 37
    },
    {
     "cell_type": "code",
     "collapsed": false,
     "input": [
      "urdef = mydef.copy()"
     ],
     "language": "python",
     "metadata": {},
     "outputs": [],
     "prompt_number": 53
    },
    {
     "cell_type": "code",
     "collapsed": false,
     "input": [
      "urdef.to_html()"
     ],
     "language": "python",
     "metadata": {},
     "outputs": [
      {
       "metadata": {},
       "output_type": "pyout",
       "prompt_number": 54,
       "text": [
        "u'<table border=\"1\">\\n  <thead>\\n    <tr>\\n      <th></th>\\n      <th>0</th>\\n    </tr>\\n    </thead>\\n    <tbody>\\n    <tr>\\n      <td><strong>firstname</strong></td>\\n      <td>    William</td>\\n    </tr>\\n    <tr>\\n      <td><strong>lastname</strong></td>\\n      <td>      Mckee</td>\\n    </tr>\\n    <tr>\\n      <td><strong>reason</strong></td>\\n      <td>        ESW</td>\\n    </tr>\\n    <tr>\\n      <td><strong>signin-comment</strong></td>\\n      <td>    omg hgi</td>\\n    </tr>\\n    <tr>\\n      <td><strong>signin-date</strong></td>\\n      <td> 05-12-2014</td>\\n    </tr>\\n    <tr>\\n      <td><strong>signin-hrmin</strong></td>\\n      <td>   21:06:53</td>\\n    </tr>\\n  </tbody>\\n</table>\\n'"
       ]
      }
     ],
     "prompt_number": 54
    },
    {
     "cell_type": "code",
     "collapsed": false,
     "input": [
      "savindz = open('/home/wcmckee/visignsys/index.html', 'w')\n",
      "savindz.write(urdef.to_html())\n",
      "savindz.close()"
     ],
     "language": "python",
     "metadata": {},
     "outputs": [],
     "prompt_number": 55
    },
    {
     "cell_type": "code",
     "collapsed": false,
     "input": [
      "urdef.append(mydef)"
     ],
     "language": "python",
     "metadata": {},
     "outputs": [
      {
       "ename": "Exception",
       "evalue": "Indexes have overlapping values: ['firstname', 'lastname', 'reason', 'signin-comment', 'signin-date', 'signin-hrmin']",
       "output_type": "pyerr",
       "traceback": [
        "\u001b[1;31m---------------------------------------------------------------------------\u001b[0m\n\u001b[1;31mException\u001b[0m                                 Traceback (most recent call last)",
        "\u001b[1;32m<ipython-input-52-7e7aefe200e4>\u001b[0m in \u001b[0;36m<module>\u001b[1;34m()\u001b[0m\n\u001b[1;32m----> 1\u001b[1;33m \u001b[0murdef\u001b[0m\u001b[1;33m.\u001b[0m\u001b[0mappend\u001b[0m\u001b[1;33m(\u001b[0m\u001b[0mmydef\u001b[0m\u001b[1;33m)\u001b[0m\u001b[1;33m\u001b[0m\u001b[0m\n\u001b[0m",
        "\u001b[1;32m/usr/lib/pymodules/python2.7/pandas/core/frame.pyc\u001b[0m in \u001b[0;36mappend\u001b[1;34m(self, other, ignore_index, verify_integrity)\u001b[0m\n\u001b[0;32m   3058\u001b[0m             \u001b[0mto_concat\u001b[0m \u001b[1;33m=\u001b[0m \u001b[1;33m[\u001b[0m\u001b[0mself\u001b[0m\u001b[1;33m,\u001b[0m \u001b[0mother\u001b[0m\u001b[1;33m]\u001b[0m\u001b[1;33m\u001b[0m\u001b[0m\n\u001b[0;32m   3059\u001b[0m         return concat(to_concat, ignore_index=ignore_index,\n\u001b[1;32m-> 3060\u001b[1;33m                       verify_integrity=verify_integrity)\n\u001b[0m\u001b[0;32m   3061\u001b[0m \u001b[1;33m\u001b[0m\u001b[0m\n\u001b[0;32m   3062\u001b[0m     def join(self, other, on=None, how='left', lsuffix='', rsuffix='',\n",
        "\u001b[1;32m/usr/lib/pymodules/python2.7/pandas/tools/merge.pyc\u001b[0m in \u001b[0;36mconcat\u001b[1;34m(objs, axis, join, join_axes, ignore_index, keys, levels, names, verify_integrity)\u001b[0m\n\u001b[0;32m    688\u001b[0m                        \u001b[0mignore_index\u001b[0m\u001b[1;33m=\u001b[0m\u001b[0mignore_index\u001b[0m\u001b[1;33m,\u001b[0m \u001b[0mjoin\u001b[0m\u001b[1;33m=\u001b[0m\u001b[0mjoin\u001b[0m\u001b[1;33m,\u001b[0m\u001b[1;33m\u001b[0m\u001b[0m\n\u001b[0;32m    689\u001b[0m                        \u001b[0mkeys\u001b[0m\u001b[1;33m=\u001b[0m\u001b[0mkeys\u001b[0m\u001b[1;33m,\u001b[0m \u001b[0mlevels\u001b[0m\u001b[1;33m=\u001b[0m\u001b[0mlevels\u001b[0m\u001b[1;33m,\u001b[0m \u001b[0mnames\u001b[0m\u001b[1;33m=\u001b[0m\u001b[0mnames\u001b[0m\u001b[1;33m,\u001b[0m\u001b[1;33m\u001b[0m\u001b[0m\n\u001b[1;32m--> 690\u001b[1;33m                        verify_integrity=verify_integrity)\n\u001b[0m\u001b[0;32m    691\u001b[0m     \u001b[1;32mreturn\u001b[0m \u001b[0mop\u001b[0m\u001b[1;33m.\u001b[0m\u001b[0mget_result\u001b[0m\u001b[1;33m(\u001b[0m\u001b[1;33m)\u001b[0m\u001b[1;33m\u001b[0m\u001b[0m\n\u001b[0;32m    692\u001b[0m \u001b[1;33m\u001b[0m\u001b[0m\n",
        "\u001b[1;32m/usr/lib/pymodules/python2.7/pandas/tools/merge.pyc\u001b[0m in \u001b[0;36m__init__\u001b[1;34m(self, objs, axis, join, join_axes, keys, levels, names, ignore_index, verify_integrity)\u001b[0m\n\u001b[0;32m    747\u001b[0m         \u001b[0mself\u001b[0m\u001b[1;33m.\u001b[0m\u001b[0mverify_integrity\u001b[0m \u001b[1;33m=\u001b[0m \u001b[0mverify_integrity\u001b[0m\u001b[1;33m\u001b[0m\u001b[0m\n\u001b[0;32m    748\u001b[0m \u001b[1;33m\u001b[0m\u001b[0m\n\u001b[1;32m--> 749\u001b[1;33m         \u001b[0mself\u001b[0m\u001b[1;33m.\u001b[0m\u001b[0mnew_axes\u001b[0m \u001b[1;33m=\u001b[0m \u001b[0mself\u001b[0m\u001b[1;33m.\u001b[0m\u001b[0m_get_new_axes\u001b[0m\u001b[1;33m(\u001b[0m\u001b[1;33m)\u001b[0m\u001b[1;33m\u001b[0m\u001b[0m\n\u001b[0m\u001b[0;32m    750\u001b[0m \u001b[1;33m\u001b[0m\u001b[0m\n\u001b[0;32m    751\u001b[0m     \u001b[1;32mdef\u001b[0m \u001b[0mget_result\u001b[0m\u001b[1;33m(\u001b[0m\u001b[0mself\u001b[0m\u001b[1;33m)\u001b[0m\u001b[1;33m:\u001b[0m\u001b[1;33m\u001b[0m\u001b[0m\n",
        "\u001b[1;32m/usr/lib/pymodules/python2.7/pandas/tools/merge.pyc\u001b[0m in \u001b[0;36m_get_new_axes\u001b[1;34m(self)\u001b[0m\n\u001b[0;32m    872\u001b[0m             \u001b[0mconcat_axis\u001b[0m \u001b[1;33m=\u001b[0m \u001b[0mNone\u001b[0m\u001b[1;33m\u001b[0m\u001b[0m\n\u001b[0;32m    873\u001b[0m         \u001b[1;32melse\u001b[0m\u001b[1;33m:\u001b[0m\u001b[1;33m\u001b[0m\u001b[0m\n\u001b[1;32m--> 874\u001b[1;33m             \u001b[0mconcat_axis\u001b[0m \u001b[1;33m=\u001b[0m \u001b[0mself\u001b[0m\u001b[1;33m.\u001b[0m\u001b[0m_get_concat_axis\u001b[0m\u001b[1;33m(\u001b[0m\u001b[1;33m)\u001b[0m\u001b[1;33m\u001b[0m\u001b[0m\n\u001b[0m\u001b[0;32m    875\u001b[0m \u001b[1;33m\u001b[0m\u001b[0m\n\u001b[0;32m    876\u001b[0m         \u001b[0mnew_axes\u001b[0m\u001b[1;33m[\u001b[0m\u001b[0mself\u001b[0m\u001b[1;33m.\u001b[0m\u001b[0maxis\u001b[0m\u001b[1;33m]\u001b[0m \u001b[1;33m=\u001b[0m \u001b[0mconcat_axis\u001b[0m\u001b[1;33m\u001b[0m\u001b[0m\n",
        "\u001b[1;32m/usr/lib/pymodules/python2.7/pandas/tools/merge.pyc\u001b[0m in \u001b[0;36m_get_concat_axis\u001b[1;34m(self)\u001b[0m\n\u001b[0;32m    909\u001b[0m                                                   self.levels, self.names)\n\u001b[0;32m    910\u001b[0m \u001b[1;33m\u001b[0m\u001b[0m\n\u001b[1;32m--> 911\u001b[1;33m         \u001b[0mself\u001b[0m\u001b[1;33m.\u001b[0m\u001b[0m_maybe_check_integrity\u001b[0m\u001b[1;33m(\u001b[0m\u001b[0mconcat_axis\u001b[0m\u001b[1;33m)\u001b[0m\u001b[1;33m\u001b[0m\u001b[0m\n\u001b[0m\u001b[0;32m    912\u001b[0m \u001b[1;33m\u001b[0m\u001b[0m\n\u001b[0;32m    913\u001b[0m         \u001b[1;32mreturn\u001b[0m \u001b[0mconcat_axis\u001b[0m\u001b[1;33m\u001b[0m\u001b[0m\n",
        "\u001b[1;32m/usr/lib/pymodules/python2.7/pandas/tools/merge.pyc\u001b[0m in \u001b[0;36m_maybe_check_integrity\u001b[1;34m(self, concat_index)\u001b[0m\n\u001b[0;32m    918\u001b[0m                 \u001b[0moverlap\u001b[0m \u001b[1;33m=\u001b[0m \u001b[0mconcat_index\u001b[0m\u001b[1;33m.\u001b[0m\u001b[0mget_duplicates\u001b[0m\u001b[1;33m(\u001b[0m\u001b[1;33m)\u001b[0m\u001b[1;33m\u001b[0m\u001b[0m\n\u001b[0;32m    919\u001b[0m                 raise Exception('Indexes have overlapping values: %s'\n\u001b[1;32m--> 920\u001b[1;33m                                 % str(overlap))\n\u001b[0m\u001b[0;32m    921\u001b[0m \u001b[1;33m\u001b[0m\u001b[0m\n\u001b[0;32m    922\u001b[0m \u001b[1;33m\u001b[0m\u001b[0m\n",
        "\u001b[1;31mException\u001b[0m: Indexes have overlapping values: ['firstname', 'lastname', 'reason', 'signin-comment', 'signin-date', 'signin-hrmin']"
       ]
      }
     ],
     "prompt_number": 52
    },
    {
     "cell_type": "code",
     "collapsed": false,
     "input": [
      "urdef"
     ],
     "language": "python",
     "metadata": {},
     "outputs": [
      {
       "metadata": {},
       "output_type": "pyout",
       "prompt_number": 42,
       "text": [
        "                         0\n",
        "firstname          William\n",
        "lastname             Mckee\n",
        "reason                 ESW\n",
        "signin-comment     omg hgi\n",
        "signin-date     05-12-2014\n",
        "signin-hrmin      21:06:53"
       ]
      }
     ],
     "prompt_number": 42
    },
    {
     "cell_type": "code",
     "collapsed": false,
     "input": [
      " time.strftime(\"%d\" + \"-\" + \"%m\" + \"-\" + \"%Y\")"
     ],
     "language": "python",
     "metadata": {},
     "outputs": [
      {
       "metadata": {},
       "output_type": "pyout",
       "prompt_number": 43,
       "text": [
        "'05-12-2014'"
       ]
      }
     ],
     "prompt_number": 43
    },
    {
     "cell_type": "code",
     "collapsed": false,
     "input": [
      "pdran = pd.date_range(start='1-1-2000', end='12/31/2012', freq='B')"
     ],
     "language": "python",
     "metadata": {},
     "outputs": [
      {
       "ename": "AttributeError",
       "evalue": "'module' object has no attribute 'date_range'",
       "output_type": "pyerr",
       "traceback": [
        "\u001b[1;31m---------------------------------------------------------------------------\u001b[0m\n\u001b[1;31mAttributeError\u001b[0m                            Traceback (most recent call last)",
        "\u001b[1;32m<ipython-input-44-f2b1d43dbcd9>\u001b[0m in \u001b[0;36m<module>\u001b[1;34m()\u001b[0m\n\u001b[1;32m----> 1\u001b[1;33m \u001b[0mpdran\u001b[0m \u001b[1;33m=\u001b[0m \u001b[0mpd\u001b[0m\u001b[1;33m.\u001b[0m\u001b[0mdate_range\u001b[0m\u001b[1;33m(\u001b[0m\u001b[0mstart\u001b[0m\u001b[1;33m=\u001b[0m\u001b[1;34m'1-1-2000'\u001b[0m\u001b[1;33m,\u001b[0m \u001b[0mend\u001b[0m\u001b[1;33m=\u001b[0m\u001b[1;34m'12/31/2012'\u001b[0m\u001b[1;33m,\u001b[0m \u001b[0mfreq\u001b[0m\u001b[1;33m=\u001b[0m\u001b[1;34m'B'\u001b[0m\u001b[1;33m)\u001b[0m\u001b[1;33m\u001b[0m\u001b[0m\n\u001b[0m",
        "\u001b[1;31mAttributeError\u001b[0m: 'module' object has no attribute 'date_range'"
       ]
      }
     ],
     "prompt_number": 44
    },
    {
     "cell_type": "code",
     "collapsed": false,
     "input": [
      "ser = Series(pdran)"
     ],
     "language": "python",
     "metadata": {},
     "outputs": [
      {
       "ename": "NameError",
       "evalue": "name 'pdran' is not defined",
       "output_type": "pyerr",
       "traceback": [
        "\u001b[1;31m---------------------------------------------------------------------------\u001b[0m\n\u001b[1;31mNameError\u001b[0m                                 Traceback (most recent call last)",
        "\u001b[1;32m<ipython-input-45-a1355fdc40aa>\u001b[0m in \u001b[0;36m<module>\u001b[1;34m()\u001b[0m\n\u001b[1;32m----> 1\u001b[1;33m \u001b[0mser\u001b[0m \u001b[1;33m=\u001b[0m \u001b[0mSeries\u001b[0m\u001b[1;33m(\u001b[0m\u001b[0mpdran\u001b[0m\u001b[1;33m)\u001b[0m\u001b[1;33m\u001b[0m\u001b[0m\n\u001b[0m",
        "\u001b[1;31mNameError\u001b[0m: name 'pdran' is not defined"
       ]
      }
     ],
     "prompt_number": 45
    },
    {
     "cell_type": "code",
     "collapsed": false,
     "input": [
      "ser"
     ],
     "language": "python",
     "metadata": {},
     "outputs": [
      {
       "ename": "NameError",
       "evalue": "name 'ser' is not defined",
       "output_type": "pyerr",
       "traceback": [
        "\u001b[1;31m---------------------------------------------------------------------------\u001b[0m\n\u001b[1;31mNameError\u001b[0m                                 Traceback (most recent call last)",
        "\u001b[1;32m<ipython-input-46-c8ad9212ed37>\u001b[0m in \u001b[0;36m<module>\u001b[1;34m()\u001b[0m\n\u001b[1;32m----> 1\u001b[1;33m \u001b[0mser\u001b[0m\u001b[1;33m\u001b[0m\u001b[0m\n\u001b[0m",
        "\u001b[1;31mNameError\u001b[0m: name 'ser' is not defined"
       ]
      }
     ],
     "prompt_number": 46
    },
    {
     "cell_type": "code",
     "collapsed": false,
     "input": [
      "for i in range(10):\n",
      "    randn()"
     ],
     "language": "python",
     "metadata": {},
     "outputs": [],
     "prompt_number": 47
    },
    {
     "cell_type": "code",
     "collapsed": false,
     "input": [
      "ilisz = []"
     ],
     "language": "python",
     "metadata": {},
     "outputs": [],
     "prompt_number": 48
    },
    {
     "cell_type": "code",
     "collapsed": false,
     "input": [
      "#!/usr/bin/python\n",
      "\n",
      "count = 0\n",
      "while (count < 9):\n",
      "   ilisz.append(randn())\n",
      "   print 'The count is:', count\n",
      "   count = count + 1\n",
      "    \n",
      "\n",
      "print \"Good bye!\""
     ],
     "language": "python",
     "metadata": {},
     "outputs": [
      {
       "output_type": "stream",
       "stream": "stdout",
       "text": [
        "The count is: 0\n",
        "The count is: 1\n",
        "The count is: 2\n",
        "The count is: 3\n",
        "The count is: 4\n",
        "The count is: 5\n",
        "The count is: 6\n",
        "The count is: 7\n",
        "The count is: 8\n",
        "Good bye!\n"
       ]
      }
     ],
     "prompt_number": 49
    },
    {
     "cell_type": "code",
     "collapsed": false,
     "input": [
      "ilisz"
     ],
     "language": "python",
     "metadata": {},
     "outputs": [
      {
       "metadata": {},
       "output_type": "pyout",
       "prompt_number": 50,
       "text": [
        "[-0.15301212882204926,\n",
        " -1.257738540721271,\n",
        " 1.3736767256170703,\n",
        " -0.194103896704042,\n",
        " -0.6040087694693274,\n",
        " 1.267484087566258,\n",
        " -0.8476368668270341,\n",
        " 0.8044153547957731,\n",
        " -0.42087206503988295]"
       ]
      }
     ],
     "prompt_number": 50
    },
    {
     "cell_type": "code",
     "collapsed": false,
     "input": [
      "ilisz"
     ],
     "language": "python",
     "metadata": {},
     "outputs": [
      {
       "metadata": {},
       "output_type": "pyout",
       "prompt_number": 51,
       "text": [
        "[-0.15301212882204926,\n",
        " -1.257738540721271,\n",
        " 1.3736767256170703,\n",
        " -0.194103896704042,\n",
        " -0.6040087694693274,\n",
        " 1.267484087566258,\n",
        " -0.8476368668270341,\n",
        " 0.8044153547957731,\n",
        " -0.42087206503988295]"
       ]
      }
     ],
     "prompt_number": 51
    },
    {
     "cell_type": "code",
     "collapsed": false,
     "input": [],
     "language": "python",
     "metadata": {},
     "outputs": []
    }
   ],
   "metadata": {}
  }
 ]
}