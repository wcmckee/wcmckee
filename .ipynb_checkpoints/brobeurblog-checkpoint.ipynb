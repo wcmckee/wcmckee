{
 "metadata": {
  "name": "",
  "signature": "sha256:c88e625a71c478eb31fac12b97436889ae2bbdb7234973fe0cd9996dfa108937"
 },
 "nbformat": 3,
 "nbformat_minor": 0,
 "worksheets": [
  {
   "cells": [
    {
     "cell_type": "markdown",
     "metadata": {},
     "source": [
      "BroBeur Studios Blog\n",
      "\n",
      "This is similar to the artcontrolme script but it deals with BroBeur Studios posts\n"
     ]
    },
    {
     "cell_type": "code",
     "collapsed": false,
     "input": [
      "import os"
     ],
     "language": "python",
     "metadata": {},
     "outputs": [],
     "prompt_number": 1
    },
    {
     "cell_type": "code",
     "collapsed": false,
     "input": [
      "bropo = ('/home/wcmckee/brobeur-web/posts')"
     ],
     "language": "python",
     "metadata": {},
     "outputs": [],
     "prompt_number": 2
    },
    {
     "cell_type": "code",
     "collapsed": false,
     "input": [
      "os.chdir(bropo)"
     ],
     "language": "python",
     "metadata": {},
     "outputs": [],
     "prompt_number": 3
    },
    {
     "cell_type": "code",
     "collapsed": false,
     "input": [
      "wplis = []"
     ],
     "language": "python",
     "metadata": {},
     "outputs": [],
     "prompt_number": 4
    },
    {
     "cell_type": "code",
     "collapsed": false,
     "input": [
      "for fil in os.listdir(bropo):\n",
      "    print fil\n",
      "    wplis.append(fil)"
     ],
     "language": "python",
     "metadata": {},
     "outputs": [
      {
       "output_type": "stream",
       "stream": "stdout",
       "text": [
        "155.meta\n",
        "bc-conceptdraw.meta\n",
        "spotwalker-ld48-first-3-hours.meta\n",
        "start-gpcv17-ideas.meta\n",
        "cathern-interface-2.wp\n",
        "birdfice-apk.wp\n",
        "black-cat-fishing-jam.meta\n",
        "404.meta\n",
        "redditgetsdrawn-tiggyvashti7.meta\n",
        "491.meta\n",
        "297.meta\n",
        "shark-nightmare.meta\n",
        "137.meta\n",
        "site-logo-paintings-prodo-git.meta\n",
        "imagamer-ca.wp\n",
        "birdcage-platform-game-0-1-0-2.meta\n",
        "89.meta\n",
        "duck.meta\n",
        "shark-nightmare.wp\n",
        "pari-noon-nightmare.wp\n",
        "suburbnightmare-screenshots.wp\n",
        "party-noon-nightmare-prototype-build.wp\n",
        "prodo-island-project-new.meta\n",
        "136.meta\n",
        "29.meta\n",
        "triger.meta\n",
        "black-bars-and-text-suburb-nightmare.wp\n",
        "sim-prototype-idea-1.meta\n",
        "17.meta\n",
        "hell-earth.wp\n",
        "post-mortem-hell-earth.wp\n",
        "maya-python-and-party-moon-nightmare-screenshots.meta\n",
        "lightout-character-3d-assets.meta\n",
        "cathern-interface.wp\n",
        "triger-molyjam-2013.meta\n",
        "170.wp\n",
        "136.wp\n",
        "154.meta\n",
        "maya-api.wp\n",
        "twitter-notes-on-game-development.meta\n",
        "surreal-warp-nightmare.wp\n",
        "iamagamer-envior-concept-art-plus-model.wp\n",
        "fishing-dream-modding.meta\n",
        "site-logo-paintings-prodo-git.wp\n",
        "155.wp\n",
        "marchadventure.wp\n",
        "auxjan-to-auxjune.wp\n",
        "twitter-notes-on-game-development-2.meta\n",
        "digital-paintings-created-with-sketchbook-and-gimp.meta\n",
        "bc-conceptdraw.wp\n",
        "aux-jan-0-6.meta\n",
        "25.wp\n",
        "166.meta\n",
        "brobeur-studios-prodo-island-game-development-notes.meta\n",
        "514.meta\n",
        "cathern-interface.meta\n",
        "imagamer-ca.meta\n",
        "29.wp\n",
        "prodo-gpc1.wp\n",
        "404.wp\n",
        "prodo-gpc1.meta\n",
        "python-reddit-json.meta\n",
        "pari-noon-nightmare.meta\n",
        "gameboy-jam-warmup-cafrin.wp\n",
        "november-2013-game-dev-meet-up.wp\n",
        "python-reddit-json.wp\n",
        "429.wp\n",
        "aux-jan-game.wp\n",
        "297.wp\n",
        "shark-nightmare-screenshots.meta\n",
        "auxjonem.meta\n",
        "skins-wire-python-image-library.meta\n",
        "brobeur-studios-prodo-island-game-development-notes.wp\n",
        "hell-earth-2.meta\n",
        "90.wp\n",
        "98.meta\n",
        "523.wp\n",
        "17.wp\n",
        "maya-python-classes-development.meta\n",
        "development-slow.wp\n",
        "lightout-character-3d-assets.wp\n",
        "spotwalker-0-1-build.meta\n",
        "98.wp\n",
        "maya-python-classes-development.wp\n",
        "137.wp\n",
        "fishing-dream-modding.wp\n",
        "november-2013-game-dev-meet-up.meta\n",
        "dune-0-1.meta\n",
        "523.meta\n",
        "black-cat-fishing-jam.wp\n",
        "post-mortem-hell-earth.meta\n",
        "7drts-challenge-ideas.meta\n",
        "cathern-interface-2.meta\n",
        "twitter-notes-on-game-development.wp\n",
        "154.wp\n",
        "692.wp\n",
        "25.meta\n",
        "shark-nightmare-screenshots.wp\n",
        "170.meta\n",
        "duck.wp\n",
        "development-slow.meta\n",
        "452.meta\n",
        "7drts-challenge-ideas.wp\n",
        "playformfeb-v1-web.wp\n",
        "9.meta\n",
        "digital-paintings-created-with-sketchbook-and-gimp.wp\n",
        "murder-simulation-2013.meta\n",
        "maya-python-and-party-moon-nightmare-screenshots.wp\n",
        "triger-molyjam-2013.wp\n",
        "redditgetsdrawn-tiggyvashti7.wp\n",
        "black-bars-and-text-suburb-nightmare.meta\n",
        "maya-api.meta\n",
        "aux-jan-0-6.wp\n",
        "party-noon-nightmare-prototype-build.meta\n",
        "auxjonem.wp\n",
        "marchgame-v0-1.wp\n",
        "spotwalker-ld48-first-3-hours.wp\n",
        "suburbnightmare-screenshots.meta\n",
        "hell-earth-2.wp\n",
        "169.meta\n",
        "skins-wire-python-image-library.wp\n",
        "sim-prototype-idea-1.wp\n",
        "start-gpcv17-ideas.wp\n",
        "9.wp\n",
        "491.wp\n",
        "166.wp\n",
        "11.meta\n",
        "triger.wp\n",
        "hell-earth.meta\n",
        "11.wp\n",
        "playformfeb-v1-web.meta\n",
        "429.meta\n",
        "692.meta\n",
        "169.wp\n",
        "aux-jan-game.meta\n",
        "auxjan-to-auxjune.meta\n",
        "90.meta\n",
        "marchadventure.meta\n",
        "twitter-notes-on-game-development-2.wp\n",
        "birdfice-apk.meta\n",
        "marchgame-v0-1.meta\n",
        "murder-simulation-2013.wp\n",
        "dune-0-1.wp\n",
        "birdcage-platform-game-0-1-0-2.wp\n",
        "surreal-warp-nightmare.meta\n",
        "spotwalker-0-1-build.wp\n",
        "prodo-island-project-new.wp\n",
        "gameboy-jam-warmup-cafrin.meta\n",
        "514.wp\n",
        "89.wp\n",
        "iamagamer-envior-concept-art-plus-model.meta\n",
        "452.wp\n"
       ]
      }
     ],
     "prompt_number": 5
    },
    {
     "cell_type": "code",
     "collapsed": false,
     "input": [
      "metlis = []"
     ],
     "language": "python",
     "metadata": {},
     "outputs": [],
     "prompt_number": 6
    },
    {
     "cell_type": "code",
     "collapsed": true,
     "input": [
      "for wp in wplis:\n",
      "    if '.meta' in wp:\n",
      "        metlis.append(wp)"
     ],
     "language": "python",
     "metadata": {},
     "outputs": [],
     "prompt_number": 7
    },
    {
     "cell_type": "code",
     "collapsed": false,
     "input": [
      "alldic = []"
     ],
     "language": "python",
     "metadata": {},
     "outputs": [],
     "prompt_number": 8
    },
    {
     "cell_type": "code",
     "collapsed": false,
     "input": [
      "for mea in metlis:\n",
      "    file = open(mea, 'r')\n",
      "    metaf = file.readlines()\n",
      "    chzdir = {metaf[2]: metaf[1]}#, file.readline()}\n",
      "    print chzdir\n",
      "    alldic.append(chzdir)"
     ],
     "language": "python",
     "metadata": {},
     "outputs": [
      {
       "output_type": "stream",
       "stream": "stdout",
       "text": [
        "{'2013-04-15 02:17:47\\n': '155\\n'}\n",
        "{'2013-08-03 21:49:47\\n': 'bc-conceptdraw\\n'}\n",
        "{'2013-04-27 17:34:34\\n': 'spotwalker-ld48-first-3-hours\\n'}\n",
        "{'2013-04-09 19:02:21\\n': 'start-gpcv17-ideas\\n'}\n",
        "{'2013-05-31 06:43:55\\n': 'black-cat-fishing-jam\\n'}\n",
        "{'2013-07-12 23:21:40\\n': '404\\n'}\n",
        "{'2013-04-04 18:28:40\\n': 'redditgetsdrawn-tiggyvashti7\\n'}\n",
        "{'2013-11-03 15:18:04\\n': '491\\n'}\n",
        "{'2013-06-10 15:14:32\\n': '297\\n'}\n",
        "{'2013-11-04 00:22:06\\n': 'shark-nightmare\\n'}\n",
        "{'2013-04-13 13:32:53\\n': '137\\n'}\n",
        "{'2013-04-14 00:52:51\\n': 'site-logo-paintings-prodo-git\\n'}\n",
        "{'2013-05-06 21:08:12\\n': 'birdcage-platform-game-0-1-0-2\\n'}\n",
        "{'2013-04-08 04:47:20\\n': '89\\n'}\n",
        "{'2013-04-04 16:22:45\\n': 'duck\\n'}\n",
        "{'2013-04-13 10:43:10\\n': 'prodo-island-project-new\\n'}\n",
        "{'2013-04-13 11:55:02\\n': '136\\n'}\n",
        "{'2013-04-02 21:03:56\\n': '29\\n'}\n",
        "{'2013-07-07 03:22:12\\n': 'triger\\n'}\n",
        "{'2013-04-12 21:44:50\\n': 'sim-prototype-idea-1\\n'}\n",
        "{'2013-04-02 18:41:03\\n': '17\\n'}\n",
        "{'2013-11-16 14:08:08\\n': 'maya-python-and-party-moon-nightmare-screenshots\\n'}\n",
        "{'2013-06-09 20:14:49\\n': 'lightout-character-3d-assets\\n'}\n",
        "{'2013-07-07 12:32:10\\n': 'triger-molyjam-2013\\n'}\n",
        "{'2013-04-14 13:06:52\\n': '154\\n'}\n",
        "{'2013-04-04 12:42:21\\n': 'twitter-notes-on-game-development\\n'}\n",
        "{'2013-06-02 06:12:48\\n': 'fishing-dream-modding\\n'}\n",
        "{'2013-04-04 12:42:21\\n': 'twitter-notes-on-game-development-2\\n'}\n",
        "{'2013-04-02 21:33:18\\n': 'digital-paintings-created-with-sketchbook-and-gimp\\n'}\n",
        "{'2013-04-26 12:27:10\\n': 'aux-jan-0-6\\n'}\n",
        "{'2013-04-15 10:34:06\\n': '166\\n'}\n",
        "{'2013-04-11 11:47:49\\n': 'brobeur-studios-prodo-island-game-development-notes\\n'}\n",
        "{'2013-11-11 12:40:56\\n': '514\\n'}\n",
        "{'2013-06-18 13:21:33\\n': 'cathern-interface\\n'}\n",
        "{'2013-07-12 09:23:42\\n': 'imagamer-ca\\n'}\n",
        "{'2013-04-16 18:47:04\\n': 'prodo-gpc1\\n'}\n",
        "{'2013-04-04 10:08:10\\n': 'python-reddit-json\\n'}\n",
        "{'2013-11-10 13:52:42\\n': 'pari-noon-nightmare\\n'}\n",
        "{'2013-11-11 13:53:12\\n': 'shark-nightmare-screenshots\\n'}\n",
        "{'2013-06-24 07:48:18\\n': 'auxjonem\\n'}\n",
        "{'2013-12-10 12:22:59\\n': 'skins-wire-python-image-library\\n'}\n",
        "{'2013-08-12 23:46:19\\n': 'hell-earth-2\\n'}\n",
        "{'2013-04-10 17:51:48\\n': '98\\n'}\n",
        "{'2013-11-17 23:06:53\\n': 'maya-python-classes-development\\n'}\n",
        "{'2013-04-28 02:39:48\\n': 'spotwalker-0-1-build\\n'}\n",
        "{'2013-11-10 09:25:25\\n': 'november-2013-game-dev-meet-up\\n'}\n",
        "{'2013-05-19 14:31:51\\n': 'dune-0-1\\n'}\n",
        "{'2013-11-14 19:52:33\\n': '523\\n'}\n",
        "{'2013-08-20 23:31:23\\n': 'post-mortem-hell-earth\\n'}\n",
        "{'2013-07-17 07:07:19\\n': '7drts-challenge-ideas\\n'}\n",
        "{'2013-06-19 19:11:31\\n': 'cathern-interface-2\\n'}\n",
        "{'2013-04-02 20:23:41\\n': '25\\n'}\n",
        "{'2013-04-16 17:23:59\\n': '170\\n'}\n",
        "{'2013-04-12 21:23:43\\n': 'development-slow\\n'}\n",
        "{'2013-08-12 04:28:38\\n': '452\\n'}\n",
        "{'2013-03-31 21:46:42\\n': '9\\n'}\n",
        "{'2013-08-09 12:33:00\\n': 'murder-simulation-2013\\n'}\n",
        "{'2013-12-11 11:45:42\\n': 'black-bars-and-text-suburb-nightmare\\n'}\n",
        "{'2013-11-16 17:42:27\\n': 'maya-api\\n'}\n",
        "{'2013-11-11 20:01:01\\n': 'party-noon-nightmare-prototype-build\\n'}\n",
        "{'2013-07-14 11:35:39\\n': 'suburbnightmare-screenshots\\n'}\n",
        "{'2013-04-15 10:48:08\\n': '169\\n'}\n",
        "{'2013-04-02 17:52:40\\n': '11\\n'}\n",
        "{'2013-08-12 16:11:58\\n': 'hell-earth\\n'}\n",
        "{'2013-04-07 15:25:17\\n': 'playformfeb-v1-web\\n'}\n",
        "{'2013-07-30 01:49:59\\n': '429\\n'}\n",
        "{'2013-12-17 16:02:50\\n': '692\\n'}\n",
        "{'2013-04-03 07:52:35\\n': 'aux-jan-game\\n'}\n",
        "{'2013-06-23 19:44:59\\n': 'auxjan-to-auxjune\\n'}\n",
        "{'2013-04-09 11:35:20\\n': '90\\n'}\n",
        "{'2013-04-07 01:23:19\\n': 'marchadventure\\n'}\n",
        "{'2013-05-11 20:03:37\\n': 'birdfice-apk\\n'}\n",
        "{'2013-04-03 13:22:37\\n': 'marchgame-v0-1\\n'}\n",
        "{'2013-06-10 21:46:50\\n': 'surreal-warp-nightmare\\n'}\n",
        "{'2013-07-05 04:59:10\\n': 'gameboy-jam-warmup-cafrin\\n'}\n",
        "{'2013-07-12 13:03:18\\n': 'iamagamer-envior-concept-art-plus-model\\n'}\n"
       ]
      }
     ],
     "prompt_number": 9
    },
    {
     "cell_type": "code",
     "collapsed": false,
     "input": [
      "chzdir"
     ],
     "language": "python",
     "metadata": {},
     "outputs": [
      {
       "metadata": {},
       "output_type": "pyout",
       "prompt_number": 10,
       "text": [
        "{'2013-07-12 13:03:18\\n': 'iamagamer-envior-concept-art-plus-model\\n'}"
       ]
      }
     ],
     "prompt_number": 10
    },
    {
     "cell_type": "code",
     "collapsed": false,
     "input": [
      "for al in alldic:\n",
      "    print al"
     ],
     "language": "python",
     "metadata": {},
     "outputs": [
      {
       "output_type": "stream",
       "stream": "stdout",
       "text": [
        "{'2013-04-15 02:17:47\\n': '155\\n'}\n",
        "{'2013-08-03 21:49:47\\n': 'bc-conceptdraw\\n'}\n",
        "{'2013-04-27 17:34:34\\n': 'spotwalker-ld48-first-3-hours\\n'}\n",
        "{'2013-04-09 19:02:21\\n': 'start-gpcv17-ideas\\n'}\n",
        "{'2013-05-31 06:43:55\\n': 'black-cat-fishing-jam\\n'}\n",
        "{'2013-07-12 23:21:40\\n': '404\\n'}\n",
        "{'2013-04-04 18:28:40\\n': 'redditgetsdrawn-tiggyvashti7\\n'}\n",
        "{'2013-11-03 15:18:04\\n': '491\\n'}\n",
        "{'2013-06-10 15:14:32\\n': '297\\n'}\n",
        "{'2013-11-04 00:22:06\\n': 'shark-nightmare\\n'}\n",
        "{'2013-04-13 13:32:53\\n': '137\\n'}\n",
        "{'2013-04-14 00:52:51\\n': 'site-logo-paintings-prodo-git\\n'}\n",
        "{'2013-05-06 21:08:12\\n': 'birdcage-platform-game-0-1-0-2\\n'}\n",
        "{'2013-04-08 04:47:20\\n': '89\\n'}\n",
        "{'2013-04-04 16:22:45\\n': 'duck\\n'}\n",
        "{'2013-04-13 10:43:10\\n': 'prodo-island-project-new\\n'}\n",
        "{'2013-04-13 11:55:02\\n': '136\\n'}\n",
        "{'2013-04-02 21:03:56\\n': '29\\n'}\n",
        "{'2013-07-07 03:22:12\\n': 'triger\\n'}\n",
        "{'2013-04-12 21:44:50\\n': 'sim-prototype-idea-1\\n'}\n",
        "{'2013-04-02 18:41:03\\n': '17\\n'}\n",
        "{'2013-11-16 14:08:08\\n': 'maya-python-and-party-moon-nightmare-screenshots\\n'}\n",
        "{'2013-06-09 20:14:49\\n': 'lightout-character-3d-assets\\n'}\n",
        "{'2013-07-07 12:32:10\\n': 'triger-molyjam-2013\\n'}\n",
        "{'2013-04-14 13:06:52\\n': '154\\n'}\n",
        "{'2013-04-04 12:42:21\\n': 'twitter-notes-on-game-development\\n'}\n",
        "{'2013-06-02 06:12:48\\n': 'fishing-dream-modding\\n'}\n",
        "{'2013-04-04 12:42:21\\n': 'twitter-notes-on-game-development-2\\n'}\n",
        "{'2013-04-02 21:33:18\\n': 'digital-paintings-created-with-sketchbook-and-gimp\\n'}\n",
        "{'2013-04-26 12:27:10\\n': 'aux-jan-0-6\\n'}\n",
        "{'2013-04-15 10:34:06\\n': '166\\n'}\n",
        "{'2013-04-11 11:47:49\\n': 'brobeur-studios-prodo-island-game-development-notes\\n'}\n",
        "{'2013-11-11 12:40:56\\n': '514\\n'}\n",
        "{'2013-06-18 13:21:33\\n': 'cathern-interface\\n'}\n",
        "{'2013-07-12 09:23:42\\n': 'imagamer-ca\\n'}\n",
        "{'2013-04-16 18:47:04\\n': 'prodo-gpc1\\n'}\n",
        "{'2013-04-04 10:08:10\\n': 'python-reddit-json\\n'}\n",
        "{'2013-11-10 13:52:42\\n': 'pari-noon-nightmare\\n'}\n",
        "{'2013-11-11 13:53:12\\n': 'shark-nightmare-screenshots\\n'}\n",
        "{'2013-06-24 07:48:18\\n': 'auxjonem\\n'}\n",
        "{'2013-12-10 12:22:59\\n': 'skins-wire-python-image-library\\n'}\n",
        "{'2013-08-12 23:46:19\\n': 'hell-earth-2\\n'}\n",
        "{'2013-04-10 17:51:48\\n': '98\\n'}\n",
        "{'2013-11-17 23:06:53\\n': 'maya-python-classes-development\\n'}\n",
        "{'2013-04-28 02:39:48\\n': 'spotwalker-0-1-build\\n'}\n",
        "{'2013-11-10 09:25:25\\n': 'november-2013-game-dev-meet-up\\n'}\n",
        "{'2013-05-19 14:31:51\\n': 'dune-0-1\\n'}\n",
        "{'2013-11-14 19:52:33\\n': '523\\n'}\n",
        "{'2013-08-20 23:31:23\\n': 'post-mortem-hell-earth\\n'}\n",
        "{'2013-07-17 07:07:19\\n': '7drts-challenge-ideas\\n'}\n",
        "{'2013-06-19 19:11:31\\n': 'cathern-interface-2\\n'}\n",
        "{'2013-04-02 20:23:41\\n': '25\\n'}\n",
        "{'2013-04-16 17:23:59\\n': '170\\n'}\n",
        "{'2013-04-12 21:23:43\\n': 'development-slow\\n'}\n",
        "{'2013-08-12 04:28:38\\n': '452\\n'}\n",
        "{'2013-03-31 21:46:42\\n': '9\\n'}\n",
        "{'2013-08-09 12:33:00\\n': 'murder-simulation-2013\\n'}\n",
        "{'2013-12-11 11:45:42\\n': 'black-bars-and-text-suburb-nightmare\\n'}\n",
        "{'2013-11-16 17:42:27\\n': 'maya-api\\n'}\n",
        "{'2013-11-11 20:01:01\\n': 'party-noon-nightmare-prototype-build\\n'}\n",
        "{'2013-07-14 11:35:39\\n': 'suburbnightmare-screenshots\\n'}\n",
        "{'2013-04-15 10:48:08\\n': '169\\n'}\n",
        "{'2013-04-02 17:52:40\\n': '11\\n'}\n",
        "{'2013-08-12 16:11:58\\n': 'hell-earth\\n'}\n",
        "{'2013-04-07 15:25:17\\n': 'playformfeb-v1-web\\n'}\n",
        "{'2013-07-30 01:49:59\\n': '429\\n'}\n",
        "{'2013-12-17 16:02:50\\n': '692\\n'}\n",
        "{'2013-04-03 07:52:35\\n': 'aux-jan-game\\n'}\n",
        "{'2013-06-23 19:44:59\\n': 'auxjan-to-auxjune\\n'}\n",
        "{'2013-04-09 11:35:20\\n': '90\\n'}\n",
        "{'2013-04-07 01:23:19\\n': 'marchadventure\\n'}\n",
        "{'2013-05-11 20:03:37\\n': 'birdfice-apk\\n'}\n",
        "{'2013-04-03 13:22:37\\n': 'marchgame-v0-1\\n'}\n",
        "{'2013-06-10 21:46:50\\n': 'surreal-warp-nightmare\\n'}\n",
        "{'2013-07-05 04:59:10\\n': 'gameboy-jam-warmup-cafrin\\n'}\n",
        "{'2013-07-12 13:03:18\\n': 'iamagamer-envior-concept-art-plus-model\\n'}\n"
       ]
      }
     ],
     "prompt_number": 11
    },
    {
     "cell_type": "code",
     "collapsed": false,
     "input": [
      "tiran = len(alldic)"
     ],
     "language": "python",
     "metadata": {},
     "outputs": [],
     "prompt_number": 12
    },
    {
     "cell_type": "code",
     "collapsed": false,
     "input": [
      "import random"
     ],
     "language": "python",
     "metadata": {},
     "outputs": [],
     "prompt_number": 13
    },
    {
     "cell_type": "code",
     "collapsed": false,
     "input": [
      "ranit = random.randint(0, tiran)"
     ],
     "language": "python",
     "metadata": {},
     "outputs": [],
     "prompt_number": 14
    },
    {
     "cell_type": "code",
     "collapsed": false,
     "input": [
      "ranit"
     ],
     "language": "python",
     "metadata": {},
     "outputs": [
      {
       "metadata": {},
       "output_type": "pyout",
       "prompt_number": 15,
       "text": [
        "47"
       ]
      }
     ],
     "prompt_number": 15
    },
    {
     "cell_type": "code",
     "collapsed": false,
     "input": [
      "from random import shuffle\n",
      "x = [[i] for i in alldic\n",
      "random.shuffle(x)"
     ],
     "language": "python",
     "metadata": {},
     "outputs": [
      {
       "ename": "SyntaxError",
       "evalue": "invalid syntax (<ipython-input-16-0416c40c8a4e>, line 3)",
       "output_type": "pyerr",
       "traceback": [
        "\u001b[1;36m  File \u001b[1;32m\"<ipython-input-16-0416c40c8a4e>\"\u001b[1;36m, line \u001b[1;32m3\u001b[0m\n\u001b[1;33m    random.shuffle(x)\u001b[0m\n\u001b[1;37m         ^\u001b[0m\n\u001b[1;31mSyntaxError\u001b[0m\u001b[1;31m:\u001b[0m invalid syntax\n"
       ]
      }
     ],
     "prompt_number": 16
    },
    {
     "cell_type": "code",
     "collapsed": false,
     "input": [
      "from random import shuffle"
     ],
     "language": "python",
     "metadata": {},
     "outputs": [],
     "prompt_number": 17
    },
    {
     "cell_type": "code",
     "collapsed": false,
     "input": [
      "shuffle(alldic)"
     ],
     "language": "python",
     "metadata": {},
     "outputs": [],
     "prompt_number": 18
    },
    {
     "cell_type": "code",
     "collapsed": false,
     "input": [
      "alldic"
     ],
     "language": "python",
     "metadata": {},
     "outputs": [
      {
       "metadata": {},
       "output_type": "pyout",
       "prompt_number": 19,
       "text": [
        "[{'2013-06-09 20:14:49\\n': 'lightout-character-3d-assets\\n'},\n",
        " {'2013-04-15 10:34:06\\n': '166\\n'},\n",
        " {'2013-12-10 12:22:59\\n': 'skins-wire-python-image-library\\n'},\n",
        " {'2013-11-10 13:52:42\\n': 'pari-noon-nightmare\\n'},\n",
        " {'2013-04-10 17:51:48\\n': '98\\n'},\n",
        " {'2013-04-27 17:34:34\\n': 'spotwalker-ld48-first-3-hours\\n'},\n",
        " {'2013-12-11 11:45:42\\n': 'black-bars-and-text-suburb-nightmare\\n'},\n",
        " {'2013-08-12 04:28:38\\n': '452\\n'},\n",
        " {'2013-04-16 18:47:04\\n': 'prodo-gpc1\\n'},\n",
        " {'2013-08-20 23:31:23\\n': 'post-mortem-hell-earth\\n'},\n",
        " {'2013-04-08 04:47:20\\n': '89\\n'},\n",
        " {'2013-08-12 16:11:58\\n': 'hell-earth\\n'},\n",
        " {'2013-11-11 13:53:12\\n': 'shark-nightmare-screenshots\\n'},\n",
        " {'2013-04-02 17:52:40\\n': '11\\n'},\n",
        " {'2013-11-04 00:22:06\\n': 'shark-nightmare\\n'},\n",
        " {'2013-05-31 06:43:55\\n': 'black-cat-fishing-jam\\n'},\n",
        " {'2013-07-07 12:32:10\\n': 'triger-molyjam-2013\\n'},\n",
        " {'2013-05-11 20:03:37\\n': 'birdfice-apk\\n'},\n",
        " {'2013-04-02 21:03:56\\n': '29\\n'},\n",
        " {'2013-11-03 15:18:04\\n': '491\\n'},\n",
        " {'2013-03-31 21:46:42\\n': '9\\n'},\n",
        " {'2013-04-13 13:32:53\\n': '137\\n'},\n",
        " {'2013-04-14 00:52:51\\n': 'site-logo-paintings-prodo-git\\n'},\n",
        " {'2013-04-02 20:23:41\\n': '25\\n'},\n",
        " {'2013-04-04 18:28:40\\n': 'redditgetsdrawn-tiggyvashti7\\n'},\n",
        " {'2013-11-17 23:06:53\\n': 'maya-python-classes-development\\n'},\n",
        " {'2013-04-09 19:02:21\\n': 'start-gpcv17-ideas\\n'},\n",
        " {'2013-04-07 01:23:19\\n': 'marchadventure\\n'},\n",
        " {'2013-11-11 12:40:56\\n': '514\\n'},\n",
        " {'2013-04-04 12:42:21\\n': 'twitter-notes-on-game-development\\n'},\n",
        " {'2013-04-09 11:35:20\\n': '90\\n'},\n",
        " {'2013-07-05 04:59:10\\n': 'gameboy-jam-warmup-cafrin\\n'},\n",
        " {'2013-11-11 20:01:01\\n': 'party-noon-nightmare-prototype-build\\n'},\n",
        " {'2013-04-28 02:39:48\\n': 'spotwalker-0-1-build\\n'},\n",
        " {'2013-04-04 10:08:10\\n': 'python-reddit-json\\n'},\n",
        " {'2013-04-12 21:44:50\\n': 'sim-prototype-idea-1\\n'},\n",
        " {'2013-04-26 12:27:10\\n': 'aux-jan-0-6\\n'},\n",
        " {'2013-08-09 12:33:00\\n': 'murder-simulation-2013\\n'},\n",
        " {'2013-05-06 21:08:12\\n': 'birdcage-platform-game-0-1-0-2\\n'},\n",
        " {'2013-11-10 09:25:25\\n': 'november-2013-game-dev-meet-up\\n'},\n",
        " {'2013-05-19 14:31:51\\n': 'dune-0-1\\n'},\n",
        " {'2013-07-12 09:23:42\\n': 'imagamer-ca\\n'},\n",
        " {'2013-04-04 12:42:21\\n': 'twitter-notes-on-game-development-2\\n'},\n",
        " {'2013-08-12 23:46:19\\n': 'hell-earth-2\\n'},\n",
        " {'2013-04-15 10:48:08\\n': '169\\n'},\n",
        " {'2013-07-07 03:22:12\\n': 'triger\\n'},\n",
        " {'2013-06-19 19:11:31\\n': 'cathern-interface-2\\n'},\n",
        " {'2013-07-30 01:49:59\\n': '429\\n'},\n",
        " {'2013-06-02 06:12:48\\n': 'fishing-dream-modding\\n'},\n",
        " {'2013-04-12 21:23:43\\n': 'development-slow\\n'},\n",
        " {'2013-07-12 23:21:40\\n': '404\\n'},\n",
        " {'2013-12-17 16:02:50\\n': '692\\n'},\n",
        " {'2013-04-02 21:33:18\\n': 'digital-paintings-created-with-sketchbook-and-gimp\\n'},\n",
        " {'2013-04-13 11:55:02\\n': '136\\n'},\n",
        " {'2013-04-03 07:52:35\\n': 'aux-jan-game\\n'},\n",
        " {'2013-06-10 15:14:32\\n': '297\\n'},\n",
        " {'2013-04-13 10:43:10\\n': 'prodo-island-project-new\\n'},\n",
        " {'2013-08-03 21:49:47\\n': 'bc-conceptdraw\\n'},\n",
        " {'2013-04-02 18:41:03\\n': '17\\n'},\n",
        " {'2013-04-16 17:23:59\\n': '170\\n'},\n",
        " {'2013-06-23 19:44:59\\n': 'auxjan-to-auxjune\\n'},\n",
        " {'2013-11-16 14:08:08\\n': 'maya-python-and-party-moon-nightmare-screenshots\\n'},\n",
        " {'2013-04-04 16:22:45\\n': 'duck\\n'},\n",
        " {'2013-06-10 21:46:50\\n': 'surreal-warp-nightmare\\n'},\n",
        " {'2013-06-24 07:48:18\\n': 'auxjonem\\n'},\n",
        " {'2013-04-03 13:22:37\\n': 'marchgame-v0-1\\n'},\n",
        " {'2013-06-18 13:21:33\\n': 'cathern-interface\\n'},\n",
        " {'2013-04-07 15:25:17\\n': 'playformfeb-v1-web\\n'},\n",
        " {'2013-04-14 13:06:52\\n': '154\\n'},\n",
        " {'2013-11-14 19:52:33\\n': '523\\n'},\n",
        " {'2013-11-16 17:42:27\\n': 'maya-api\\n'},\n",
        " {'2013-04-15 02:17:47\\n': '155\\n'},\n",
        " {'2013-07-12 13:03:18\\n': 'iamagamer-envior-concept-art-plus-model\\n'},\n",
        " {'2013-07-17 07:07:19\\n': '7drts-challenge-ideas\\n'},\n",
        " {'2013-07-14 11:35:39\\n': 'suburbnightmare-screenshots\\n'},\n",
        " {'2013-04-11 11:47:49\\n': 'brobeur-studios-prodo-island-game-development-notes\\n'}]"
       ]
      }
     ],
     "prompt_number": 19
    },
    {
     "cell_type": "code",
     "collapsed": false,
     "input": [
      "randiz = alldic[ranit]"
     ],
     "language": "python",
     "metadata": {},
     "outputs": [],
     "prompt_number": 20
    },
    {
     "cell_type": "code",
     "collapsed": false,
     "input": [
      "randiz"
     ],
     "language": "python",
     "metadata": {},
     "outputs": [
      {
       "metadata": {},
       "output_type": "pyout",
       "prompt_number": 21,
       "text": [
        "{'2013-07-30 01:49:59\\n': '429\\n'}"
       ]
      }
     ],
     "prompt_number": 21
    },
    {
     "cell_type": "code",
     "collapsed": false,
     "input": [
      "razdiz = randiz.keys()"
     ],
     "language": "python",
     "metadata": {},
     "outputs": [],
     "prompt_number": 22
    },
    {
     "cell_type": "code",
     "collapsed": false,
     "input": [
      "randaz = randiz.values()"
     ],
     "language": "python",
     "metadata": {},
     "outputs": [],
     "prompt_number": 23
    },
    {
     "cell_type": "code",
     "collapsed": false,
     "input": [
      "for itez in randaz:\n",
      "    print itez + '.wp'\n",
      "    str2 = itez.replace(\"\\n\", \"\")\n",
      "    tafilz = str2 + '.wp'"
     ],
     "language": "python",
     "metadata": {},
     "outputs": [
      {
       "output_type": "stream",
       "stream": "stdout",
       "text": [
        "429\n",
        ".wp\n"
       ]
      }
     ],
     "prompt_number": 24
    },
    {
     "cell_type": "code",
     "collapsed": false,
     "input": [
      "tafilz"
     ],
     "language": "python",
     "metadata": {},
     "outputs": [
      {
       "metadata": {},
       "output_type": "pyout",
       "prompt_number": 25,
       "text": [
        "'429.wp'"
       ]
      }
     ],
     "prompt_number": 25
    },
    {
     "cell_type": "code",
     "collapsed": false,
     "input": [
      "bldat = open((tafilz), 'r')\n"
     ],
     "language": "python",
     "metadata": {},
     "outputs": [],
     "prompt_number": 26
    },
    {
     "cell_type": "code",
     "collapsed": false,
     "input": [
      "blogread = bldat.read()"
     ],
     "language": "python",
     "metadata": {},
     "outputs": [],
     "prompt_number": 27
    },
    {
     "cell_type": "code",
     "collapsed": false,
     "input": [
      "blogwra = blogread.upper()"
     ],
     "language": "python",
     "metadata": {},
     "outputs": [],
     "prompt_number": 28
    },
    {
     "cell_type": "code",
     "collapsed": false,
     "input": [
      "blogstr = str(blogwra)"
     ],
     "language": "python",
     "metadata": {},
     "outputs": [],
     "prompt_number": 29
    },
    {
     "cell_type": "code",
     "collapsed": false,
     "input": [
      "blogstr"
     ],
     "language": "python",
     "metadata": {},
     "outputs": [
      {
       "metadata": {},
       "output_type": "pyout",
       "prompt_number": 30,
       "text": [
        "'<HTML><BODY><A HREF=\"/WP-CONTENT/UPLOADS/2013/07/PATH4754-7.PNG\"><IMG CLASS=\"ALIGNNONE SIZE-FULL WP-IMAGE-430\" ALT=\"PATH4754-7\" SRC=\"/WP-CONTENT/UPLOADS/2013/07/PATH4754-7.PNG\" WIDTH=\"546\" HEIGHT=\"190\"></A><A HREF=\"/WP-CONTENT/UPLOADS/2013/07/PATH4604.PNG\"><IMG SRC=\"/WP-CONTENT/UPLOADS/2013/07/PATH4604.PNG\" ALT=\"PATH4604\" WIDTH=\"301\" HEIGHT=\"152\" CLASS=\"ALIGNNONE SIZE-FULL WP-IMAGE-431\"></A></BODY></HTML>'"
       ]
      }
     ],
     "prompt_number": 30
    },
    {
     "cell_type": "code",
     "collapsed": false,
     "input": [
      "blogread"
     ],
     "language": "python",
     "metadata": {},
     "outputs": [
      {
       "metadata": {},
       "output_type": "pyout",
       "prompt_number": 31,
       "text": [
        "'<html><body><a href=\"/wp-content/uploads/2013/07/path4754-7.png\"><img class=\"alignnone size-full wp-image-430\" alt=\"path4754-7\" src=\"/wp-content/uploads/2013/07/path4754-7.png\" width=\"546\" height=\"190\"></a><a href=\"/wp-content/uploads/2013/07/path4604.png\"><img src=\"/wp-content/uploads/2013/07/path4604.png\" alt=\"path4604\" width=\"301\" height=\"152\" class=\"alignnone size-full wp-image-431\"></a></body></html>'"
       ]
      }
     ],
     "prompt_number": 31
    },
    {
     "cell_type": "code",
     "collapsed": false,
     "input": [
      "from bs4 import BeautifulSoup\n",
      "soup = BeautifulSoup(blogread)\n",
      "\n",
      "print(soup.prettify())"
     ],
     "language": "python",
     "metadata": {},
     "outputs": [
      {
       "output_type": "stream",
       "stream": "stdout",
       "text": [
        "<html>\n",
        " <body>\n",
        "  <a href=\"/wp-content/uploads/2013/07/path4754-7.png\">\n",
        "   <img alt=\"path4754-7\" class=\"alignnone size-full wp-image-430\" height=\"190\" src=\"/wp-content/uploads/2013/07/path4754-7.png\" width=\"546\"/>\n",
        "  </a>\n",
        "  <a href=\"/wp-content/uploads/2013/07/path4604.png\">\n",
        "   <img alt=\"path4604\" class=\"alignnone size-full wp-image-431\" height=\"152\" src=\"/wp-content/uploads/2013/07/path4604.png\" width=\"301\"/>\n",
        "  </a>\n",
        " </body>\n",
        "</html>\n"
       ]
      }
     ],
     "prompt_number": 32
    },
    {
     "cell_type": "code",
     "collapsed": false,
     "input": [
      "import dominate\n",
      "from dominate.tags import *\n",
      "\n",
      "doc = dominate.document(title='BroBeur Blog Post')\n",
      "\n",
      "with doc.head:\n",
      "    link(rel='stylesheet', href='style.css')\n",
      "    script(type='text/javascript', src='script.js')\n",
      "\n",
      "with doc:\n",
      "    with div(id='header').add(ol()):\n",
      "        for i in alldic[1]:\n",
      "            li(a(i.title(), href='/%s.html' % i))\n",
      "\n",
      "    with div():\n",
      "        attr(cls='body')\n",
      "        p(razdiz)\n",
      "        h1(randaz)\n",
      "        p((blogread)\n",
      "\n",
      "print doc"
     ],
     "language": "python",
     "metadata": {},
     "outputs": [
      {
       "ename": "SyntaxError",
       "evalue": "invalid syntax (<ipython-input-33-21b5d7305ac6>, line 21)",
       "output_type": "pyerr",
       "traceback": [
        "\u001b[1;36m  File \u001b[1;32m\"<ipython-input-33-21b5d7305ac6>\"\u001b[1;36m, line \u001b[1;32m21\u001b[0m\n\u001b[1;33m    print doc\u001b[0m\n\u001b[1;37m        ^\u001b[0m\n\u001b[1;31mSyntaxError\u001b[0m\u001b[1;31m:\u001b[0m invalid syntax\n"
       ]
      }
     ],
     "prompt_number": 33
    },
    {
     "cell_type": "code",
     "collapsed": false,
     "input": [
      "os.chdir('/home/wcmckee')"
     ],
     "language": "python",
     "metadata": {},
     "outputs": [],
     "prompt_number": 34
    },
    {
     "cell_type": "code",
     "collapsed": false,
     "input": [
      "os.chdir('brobeur-blog-post/')"
     ],
     "language": "python",
     "metadata": {},
     "outputs": [
      {
       "ename": "OSError",
       "evalue": "[Errno 2] No such file or directory: 'brobeur-blog-post/'",
       "output_type": "pyerr",
       "traceback": [
        "\u001b[1;31m---------------------------------------------------------------------------\u001b[0m\n\u001b[1;31mOSError\u001b[0m                                   Traceback (most recent call last)",
        "\u001b[1;32m<ipython-input-41-52464f4bf714>\u001b[0m in \u001b[0;36m<module>\u001b[1;34m()\u001b[0m\n\u001b[1;32m----> 1\u001b[1;33m \u001b[0mos\u001b[0m\u001b[1;33m.\u001b[0m\u001b[0mchdir\u001b[0m\u001b[1;33m(\u001b[0m\u001b[1;34m'brobeur-blog-post/'\u001b[0m\u001b[1;33m)\u001b[0m\u001b[1;33m\u001b[0m\u001b[0m\n\u001b[0m",
        "\u001b[1;31mOSError\u001b[0m: [Errno 2] No such file or directory: 'brobeur-blog-post/'"
       ]
      }
     ],
     "prompt_number": 41
    },
    {
     "cell_type": "code",
     "collapsed": false,
     "input": [
      "wriind = open('index.html', 'w')"
     ],
     "language": "python",
     "metadata": {},
     "outputs": [],
     "prompt_number": 42
    },
    {
     "cell_type": "code",
     "collapsed": false,
     "input": [
      "wriind.write(str(doc))"
     ],
     "language": "python",
     "metadata": {},
     "outputs": [
      {
       "ename": "NameError",
       "evalue": "name 'doc' is not defined",
       "output_type": "pyerr",
       "traceback": [
        "\u001b[1;31m---------------------------------------------------------------------------\u001b[0m\n\u001b[1;31mNameError\u001b[0m                                 Traceback (most recent call last)",
        "\u001b[1;32m<ipython-input-43-daaee2c4c537>\u001b[0m in \u001b[0;36m<module>\u001b[1;34m()\u001b[0m\n\u001b[1;32m----> 1\u001b[1;33m \u001b[0mwriind\u001b[0m\u001b[1;33m.\u001b[0m\u001b[0mwrite\u001b[0m\u001b[1;33m(\u001b[0m\u001b[0mstr\u001b[0m\u001b[1;33m(\u001b[0m\u001b[0mdoc\u001b[0m\u001b[1;33m)\u001b[0m\u001b[1;33m)\u001b[0m\u001b[1;33m\u001b[0m\u001b[0m\n\u001b[0m",
        "\u001b[1;31mNameError\u001b[0m: name 'doc' is not defined"
       ]
      }
     ],
     "prompt_number": 43
    },
    {
     "cell_type": "code",
     "collapsed": false,
     "input": [
      "wriind.close()"
     ],
     "language": "python",
     "metadata": {},
     "outputs": [],
     "prompt_number": 44
    },
    {
     "cell_type": "code",
     "collapsed": false,
     "input": [
      "cat index.html"
     ],
     "language": "python",
     "metadata": {},
     "outputs": [],
     "prompt_number": 45
    },
    {
     "cell_type": "code",
     "collapsed": false,
     "input": [],
     "language": "python",
     "metadata": {},
     "outputs": []
    }
   ],
   "metadata": {}
  }
 ]
}