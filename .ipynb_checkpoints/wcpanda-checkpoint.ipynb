{
 "metadata": {
  "name": "",
  "signature": "sha256:42644ce6e32d0c012718823d1f6784da2c1e435a37ab8d21e8e08255dc1d4df9"
 },
 "nbformat": 3,
 "nbformat_minor": 0,
 "worksheets": []
}