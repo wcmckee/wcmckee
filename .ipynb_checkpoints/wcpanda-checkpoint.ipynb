{
 "metadata": {
  "name": "",
  "signature": "sha256:cf0f439ebe0bf216d9dce724ed79da0cebac66764057838d171f5a9f0fc04752"
 },
 "nbformat": 3,
 "nbformat_minor": 0,
 "worksheets": [
  {
   "cells": [
    {
     "cell_type": "code",
     "collapsed": false,
     "input": [
      "import numpy as np\n",
      "import pandas as pd\n",
      "import math\n",
      "import usb\n",
      "import os\n",
      "import re\n",
      "import subprocess"
     ],
     "language": "python",
     "metadata": {},
     "outputs": [],
     "prompt_number": 1
    },
    {
     "cell_type": "code",
     "collapsed": false,
     "input": [
      "randn = np.random.randn"
     ],
     "language": "python",
     "metadata": {},
     "outputs": [],
     "prompt_number": 2
    },
    {
     "cell_type": "code",
     "collapsed": false,
     "input": [
      "randn()"
     ],
     "language": "python",
     "metadata": {},
     "outputs": [
      {
       "metadata": {},
       "output_type": "pyout",
       "prompt_number": 3,
       "text": [
        "1.863947995597973"
       ]
      }
     ],
     "prompt_number": 3
    },
    {
     "cell_type": "code",
     "collapsed": false,
     "input": [
      "math.sin(randn())"
     ],
     "language": "python",
     "metadata": {},
     "outputs": [
      {
       "metadata": {},
       "output_type": "pyout",
       "prompt_number": 4,
       "text": [
        "0.667269246853741"
       ]
      }
     ],
     "prompt_number": 4
    },
    {
     "cell_type": "code",
     "collapsed": false,
     "input": [
      "a = np.arange(randn())"
     ],
     "language": "python",
     "metadata": {},
     "outputs": [],
     "prompt_number": 5
    },
    {
     "cell_type": "code",
     "collapsed": false,
     "input": [
      "a"
     ],
     "language": "python",
     "metadata": {},
     "outputs": [
      {
       "metadata": {},
       "output_type": "pyout",
       "prompt_number": 6,
       "text": [
        "array([ 0.,  1.])"
       ]
      }
     ],
     "prompt_number": 6
    },
    {
     "cell_type": "code",
     "collapsed": false,
     "input": [
      "a = np.arange(15).reshape(3,5)"
     ],
     "language": "python",
     "metadata": {},
     "outputs": [],
     "prompt_number": 7
    },
    {
     "cell_type": "code",
     "collapsed": false,
     "input": [
      "a"
     ],
     "language": "python",
     "metadata": {},
     "outputs": [
      {
       "metadata": {},
       "output_type": "pyout",
       "prompt_number": 8,
       "text": [
        "array([[ 0,  1,  2,  3,  4],\n",
        "       [ 5,  6,  7,  8,  9],\n",
        "       [10, 11, 12, 13, 14]])"
       ]
      }
     ],
     "prompt_number": 8
    },
    {
     "cell_type": "code",
     "collapsed": false,
     "input": [
      "opind = open('/home/wcmckee/visignsys/index.meta')"
     ],
     "language": "python",
     "metadata": {},
     "outputs": [],
     "prompt_number": 9
    },
    {
     "cell_type": "code",
     "collapsed": false,
     "input": [
      "doubme = opind.read()"
     ],
     "language": "python",
     "metadata": {},
     "outputs": [],
     "prompt_number": 10
    },
    {
     "cell_type": "code",
     "collapsed": false,
     "input": [
      "(doubme)"
     ],
     "language": "python",
     "metadata": {},
     "outputs": [
      {
       "metadata": {},
       "output_type": "pyout",
       "prompt_number": 11,
       "text": [
        "\"['ESW', 'drinking a beer', '23-Nov-2014', 'William Mckee', '04:31']['checking the signout', '23-Nov-2014', '04:32']\""
       ]
      }
     ],
     "prompt_number": 11
    },
    {
     "cell_type": "code",
     "collapsed": false,
     "input": [
      "for dou in doubme:\n",
      "    print dou"
     ],
     "language": "python",
     "metadata": {},
     "outputs": [
      {
       "output_type": "stream",
       "stream": "stdout",
       "text": [
        "[\n",
        "'\n",
        "E\n",
        "S\n",
        "W\n",
        "'\n",
        ",\n",
        " \n",
        "'\n",
        "d\n",
        "r\n",
        "i\n",
        "n\n",
        "k\n",
        "i\n",
        "n\n",
        "g\n",
        " \n",
        "a\n",
        " \n",
        "b\n",
        "e\n",
        "e\n",
        "r\n",
        "'\n",
        ",\n",
        " \n",
        "'\n",
        "2\n",
        "3\n",
        "-\n",
        "N\n",
        "o\n",
        "v\n",
        "-\n",
        "2\n",
        "0\n",
        "1\n",
        "4\n",
        "'\n",
        ",\n",
        " \n",
        "'\n",
        "W\n",
        "i\n",
        "l\n",
        "l\n",
        "i\n",
        "a\n",
        "m\n",
        " \n",
        "M\n",
        "c\n",
        "k\n",
        "e\n",
        "e\n",
        "'\n",
        ",\n",
        " \n",
        "'\n",
        "0\n",
        "4\n",
        ":\n",
        "3\n",
        "1\n",
        "'\n",
        "]\n",
        "[\n"
       ]
      },
      {
       "output_type": "stream",
       "stream": "stdout",
       "text": [
        "'\n",
        "c\n",
        "h\n",
        "e\n",
        "c\n",
        "k\n",
        "i\n",
        "n\n",
        "g\n",
        " \n",
        "t\n",
        "h\n",
        "e\n",
        " \n",
        "s\n",
        "i\n",
        "g\n",
        "n\n",
        "o\n",
        "u\n",
        "t\n",
        "'\n",
        ",\n",
        " \n",
        "'"
       ]
      },
      {
       "output_type": "stream",
       "stream": "stdout",
       "text": [
        "\n",
        "2\n",
        "3\n",
        "-\n",
        "N\n",
        "o\n",
        "v\n",
        "-\n",
        "2\n",
        "0\n",
        "1\n",
        "4\n",
        "'\n",
        ",\n",
        " \n",
        "'\n",
        "0\n",
        "4\n",
        ":\n",
        "3\n",
        "2\n",
        "'\n",
        "]\n"
       ]
      }
     ],
     "prompt_number": 12
    },
    {
     "cell_type": "code",
     "collapsed": false,
     "input": [
      "dev = usb.core.find()"
     ],
     "language": "python",
     "metadata": {},
     "outputs": [],
     "prompt_number": 17
    },
    {
     "cell_type": "code",
     "collapsed": false,
     "input": [
      "import serial"
     ],
     "language": "python",
     "metadata": {},
     "outputs": [],
     "prompt_number": 19
    },
    {
     "cell_type": "code",
     "collapsed": false,
     "input": [
      "serial.time"
     ],
     "language": "python",
     "metadata": {},
     "outputs": [
      {
       "metadata": {},
       "output_type": "pyout",
       "prompt_number": 20,
       "text": [
        "<module 'time' (built-in)>"
       ]
      }
     ],
     "prompt_number": 20
    },
    {
     "cell_type": "code",
     "collapsed": false,
     "input": [
      "busses = usb.busses()"
     ],
     "language": "python",
     "metadata": {},
     "outputs": [],
     "prompt_number": 21
    },
    {
     "cell_type": "code",
     "collapsed": false,
     "input": [
      "for bus in busses:\n",
      "    print bus"
     ],
     "language": "python",
     "metadata": {},
     "outputs": [
      {
       "output_type": "stream",
       "stream": "stdout",
       "text": [
        "<usb.legacy.Bus object at 0x26b8e50>\n"
       ]
      }
     ],
     "prompt_number": 22
    },
    {
     "cell_type": "code",
     "collapsed": false,
     "input": [
      "for bus in busses:\n",
      "  devices = bus.devices\n",
      "  for dev in devices:\n",
      "    print repr(dev)\n",
      "    print \"Device:\", dev.filename\n",
      "    print \"  idVendor: %d (0x%04x)\" % (dev.idVendor, dev.idVendor)\n",
      "    print \"  idProduct: %d (0x%04x)\" % (dev.idProduct, dev.idProduct)\n",
      "    print \"Manufacturer:\", dev.iManufacturer\n",
      "    print \"Serial:\", dev.iSerialNumber\n",
      "    print \"Product:\", dev.iProduct"
     ],
     "language": "python",
     "metadata": {},
     "outputs": [],
     "prompt_number": 23
    },
    {
     "cell_type": "code",
     "collapsed": false,
     "input": [
      "dev"
     ],
     "language": "python",
     "metadata": {},
     "outputs": [
      {
       "metadata": {},
       "output_type": "pyout",
       "prompt_number": 24,
       "text": [
        "<DEVICE ID 046d:082b on Bus 001 Address 000>"
       ]
      }
     ],
     "prompt_number": 24
    },
    {
     "cell_type": "code",
     "collapsed": false,
     "input": [
      "dev.idProduct"
     ],
     "language": "python",
     "metadata": {},
     "outputs": [
      {
       "metadata": {},
       "output_type": "pyout",
       "prompt_number": 25,
       "text": [
        "2091"
       ]
      }
     ],
     "prompt_number": 25
    },
    {
     "cell_type": "code",
     "collapsed": false,
     "input": [
      "dev.idVendor"
     ],
     "language": "python",
     "metadata": {},
     "outputs": [
      {
       "metadata": {},
       "output_type": "pyout",
       "prompt_number": 26,
       "text": [
        "1133"
       ]
      }
     ],
     "prompt_number": 26
    },
    {
     "cell_type": "code",
     "collapsed": false,
     "input": [
      "dev.iManufacturer"
     ],
     "language": "python",
     "metadata": {},
     "outputs": [
      {
       "metadata": {},
       "output_type": "pyout",
       "prompt_number": 27,
       "text": [
        "1"
       ]
      }
     ],
     "prompt_number": 27
    },
    {
     "cell_type": "code",
     "collapsed": false,
     "input": [
      "dev.iSerialNumber"
     ],
     "language": "python",
     "metadata": {},
     "outputs": [
      {
       "metadata": {},
       "output_type": "pyout",
       "prompt_number": 28,
       "text": [
        "0"
       ]
      }
     ],
     "prompt_number": 28
    },
    {
     "cell_type": "code",
     "collapsed": false,
     "input": [
      "repr(dev)"
     ],
     "language": "python",
     "metadata": {},
     "outputs": [
      {
       "metadata": {},
       "output_type": "pyout",
       "prompt_number": 30,
       "text": [
        "'<DEVICE ID 046d:082b on Bus 001 Address 000>'"
       ]
      }
     ],
     "prompt_number": 30
    },
    {
     "cell_type": "code",
     "collapsed": false,
     "input": [
      "device_re = re.compile(\"Bus\\s+(?P<bus>\\d+)\\s+Device\\s+(?P<device>\\d+).+ID\\s(?P<id>\\w+:\\w+)\\s(?P<tag>.+)$\", re.I)\n",
      "df = subprocess.check_output(\"lsusb\", shell=True)\n",
      "devices = []\n",
      "for i in df.split('\\n'):\n",
      "    if i:\n",
      "        info = device_re.match(i)\n",
      "        if info:\n",
      "            dinfo = info.groupdict()\n",
      "            dinfo['device'] = '/dev/bus/usb/%s/%s' % (dinfo.pop('bus'), dinfo.pop('device'))\n",
      "            devices.append(dinfo)\n",
      "print devices"
     ],
     "language": "python",
     "metadata": {},
     "outputs": [
      {
       "output_type": "stream",
       "stream": "stdout",
       "text": [
        "[{'device': '/dev/bus/usb/001/002', 'tag': 'Standard Microsystems Corp. ', 'id': '0424:9514'}, {'device': '/dev/bus/usb/001/001', 'tag': 'Linux Foundation 2.0 root hub', 'id': '1d6b:0002'}, {'device': '/dev/bus/usb/001/003', 'tag': 'Standard Microsystems Corp. ', 'id': '0424:ec00'}, {'device': '/dev/bus/usb/001/004', 'tag': 'Kingston Technology Company Inc. ', 'id': '13fe:4100'}, {'device': '/dev/bus/usb/001/005', 'tag': 'Genesys Logic, Inc. USB-2.0 4-Port HUB', 'id': '05e3:0608'}, {'device': '/dev/bus/usb/001/006', 'tag': 'Lexar Media, Inc. ', 'id': '05dc:a815'}, {'device': '/dev/bus/usb/001/007', 'tag': 'Logitech, Inc. ', 'id': '046d:082b'}]\n"
       ]
      }
     ],
     "prompt_number": 31
    },
    {
     "cell_type": "code",
     "collapsed": false,
     "input": [
      "devices.sort"
     ],
     "language": "python",
     "metadata": {},
     "outputs": [
      {
       "metadata": {},
       "output_type": "pyout",
       "prompt_number": 32,
       "text": [
        "<function sort>"
       ]
      }
     ],
     "prompt_number": 32
    },
    {
     "cell_type": "code",
     "collapsed": false,
     "input": [
      "susb = pd.Series(devices)"
     ],
     "language": "python",
     "metadata": {},
     "outputs": [],
     "prompt_number": 33
    },
    {
     "cell_type": "code",
     "collapsed": false,
     "input": [
      "df = pd.DataFrame(susb)"
     ],
     "language": "python",
     "metadata": {},
     "outputs": [],
     "prompt_number": 34
    },
    {
     "cell_type": "code",
     "collapsed": false,
     "input": [
      "df"
     ],
     "language": "python",
     "metadata": {},
     "outputs": [
      {
       "html": [
        "<div style=\"max-height:1000px;max-width:1500px;overflow:auto;\">\n",
        "<table border=\"1\">\n",
        "  <thead>\n",
        "    <tr>\n",
        "      <th></th>\n",
        "      <th>0</th>\n",
        "    </tr>\n",
        "  </thead>\n",
        "  <tbody>\n",
        "    <tr>\n",
        "      <td><strong>0</strong></td>\n",
        "      <td> {'device': '/dev/bus/usb/001/002', 'tag': 'Standa</td>\n",
        "    </tr>\n",
        "    <tr>\n",
        "      <td><strong>1</strong></td>\n",
        "      <td> {'device': '/dev/bus/usb/001/001', 'tag': 'Linux </td>\n",
        "    </tr>\n",
        "    <tr>\n",
        "      <td><strong>2</strong></td>\n",
        "      <td> {'device': '/dev/bus/usb/001/003', 'tag': 'Standa</td>\n",
        "    </tr>\n",
        "    <tr>\n",
        "      <td><strong>3</strong></td>\n",
        "      <td> {'device': '/dev/bus/usb/001/004', 'tag': 'Kingst</td>\n",
        "    </tr>\n",
        "    <tr>\n",
        "      <td><strong>4</strong></td>\n",
        "      <td> {'device': '/dev/bus/usb/001/005', 'tag': 'Genesy</td>\n",
        "    </tr>\n",
        "    <tr>\n",
        "      <td><strong>5</strong></td>\n",
        "      <td> {'device': '/dev/bus/usb/001/006', 'tag': 'Lexar </td>\n",
        "    </tr>\n",
        "    <tr>\n",
        "      <td><strong>6</strong></td>\n",
        "      <td> {'device': '/dev/bus/usb/001/007', 'tag': 'Logite</td>\n",
        "    </tr>\n",
        "  </tbody>\n",
        "</table>\n",
        "</div>"
       ],
       "metadata": {},
       "output_type": "pyout",
       "prompt_number": 47,
       "text": [
        "                                                   0\n",
        "0  {'device': '/dev/bus/usb/001/002', 'tag': 'Standa\n",
        "1  {'device': '/dev/bus/usb/001/001', 'tag': 'Linux \n",
        "2  {'device': '/dev/bus/usb/001/003', 'tag': 'Standa\n",
        "3  {'device': '/dev/bus/usb/001/004', 'tag': 'Kingst\n",
        "4  {'device': '/dev/bus/usb/001/005', 'tag': 'Genesy\n",
        "5  {'device': '/dev/bus/usb/001/006', 'tag': 'Lexar \n",
        "6  {'device': '/dev/bus/usb/001/007', 'tag': 'Logite"
       ]
      }
     ],
     "prompt_number": 47
    },
    {
     "cell_type": "code",
     "collapsed": false,
     "input": [
      "for dev in df.values:\n",
      "    for bepb in dev:\n",
      "        #print bepb\n",
      "        print bepb['device']\n",
      "        #s.append(bepb['tag'])\n",
      "        print bepb['tag']\n",
      "        print bepb['id']"
     ],
     "language": "python",
     "metadata": {},
     "outputs": [
      {
       "output_type": "stream",
       "stream": "stdout",
       "text": [
        "/dev/bus/usb/001/002\n",
        "Standard Microsystems Corp. \n",
        "0424:9514\n",
        "/dev/bus/usb/001/001\n",
        "Linux Foundation 2.0 root hub\n",
        "1d6b:0002\n",
        "/dev/bus/usb/001/003\n",
        "Standard Microsystems Corp. \n",
        "0424:ec00\n",
        "/dev/bus/usb/001/004\n",
        "Kingston Technology Company Inc. \n",
        "13fe:4100\n",
        "/dev/bus/usb/001/005\n",
        "Genesys Logic, Inc. USB-2.0 4-Port HUB\n",
        "05e3:0608\n",
        "/dev/bus/usb/001/006\n",
        "Lexar Media, Inc. \n",
        "05dc:a815\n",
        "/dev/bus/usb/001/007\n",
        "Logitech, Inc. \n",
        "046d:082b\n"
       ]
      }
     ],
     "prompt_number": 68
    },
    {
     "cell_type": "code",
     "collapsed": false,
     "input": [],
     "language": "python",
     "metadata": {},
     "outputs": []
    },
    {
     "cell_type": "code",
     "collapsed": false,
     "input": [
      "pd.Series(bepb)"
     ],
     "language": "python",
     "metadata": {},
     "outputs": [
      {
       "metadata": {},
       "output_type": "pyout",
       "prompt_number": 65,
       "text": [
        "device    /dev/bus/usb/001/007\n",
        "id                   046d:082b\n",
        "tag            Logitech, Inc. "
       ]
      }
     ],
     "prompt_number": 65
    },
    {
     "cell_type": "code",
     "collapsed": false,
     "input": [
      "print dev"
     ],
     "language": "python",
     "metadata": {},
     "outputs": []
    },
    {
     "cell_type": "code",
     "collapsed": false,
     "input": [
      "#dev = usb.core.find(idVendor='1d6b:0002')\n",
      "\n",
      "# was it found?\n",
      "#if dev is None:\n",
      "#    raise ValueError('Device not found')"
     ],
     "language": "python",
     "metadata": {},
     "outputs": [
      {
       "ename": "ValueError",
       "evalue": "Device not found",
       "output_type": "pyerr",
       "traceback": [
        "\u001b[1;31m---------------------------------------------------------------------------\u001b[0m\n\u001b[1;31mValueError\u001b[0m                                Traceback (most recent call last)",
        "\u001b[1;32m<ipython-input-36-756f1aa2956b>\u001b[0m in \u001b[0;36m<module>\u001b[1;34m()\u001b[0m\n\u001b[0;32m      3\u001b[0m \u001b[1;31m# was it found?\u001b[0m\u001b[1;33m\u001b[0m\u001b[1;33m\u001b[0m\u001b[0m\n\u001b[0;32m      4\u001b[0m \u001b[1;32mif\u001b[0m \u001b[0mdev\u001b[0m \u001b[1;32mis\u001b[0m \u001b[0mNone\u001b[0m\u001b[1;33m:\u001b[0m\u001b[1;33m\u001b[0m\u001b[0m\n\u001b[1;32m----> 5\u001b[1;33m     \u001b[1;32mraise\u001b[0m \u001b[0mValueError\u001b[0m\u001b[1;33m(\u001b[0m\u001b[1;34m'Device not found'\u001b[0m\u001b[1;33m)\u001b[0m\u001b[1;33m\u001b[0m\u001b[0m\n\u001b[0m",
        "\u001b[1;31mValueError\u001b[0m: Device not found"
       ]
      }
     ],
     "prompt_number": 36
    },
    {
     "cell_type": "code",
     "collapsed": false,
     "input": [
      "os.listdir('/dev/bus/usb/001')"
     ],
     "language": "python",
     "metadata": {},
     "outputs": [
      {
       "metadata": {},
       "output_type": "pyout",
       "prompt_number": 37,
       "text": [
        "['007', '006', '005', '004', '003', '002', '001']"
       ]
      }
     ],
     "prompt_number": 37
    },
    {
     "cell_type": "code",
     "collapsed": false,
     "input": [
      "os.listdir('/dev/input')"
     ],
     "language": "python",
     "metadata": {},
     "outputs": [
      {
       "metadata": {},
       "output_type": "pyout",
       "prompt_number": 38,
       "text": [
        "['by-path', 'by-id', 'event0', 'mice']"
       ]
      }
     ],
     "prompt_number": 38
    },
    {
     "cell_type": "code",
     "collapsed": false,
     "input": [
      "runpan = os.system('python wcpanda.py')"
     ],
     "language": "python",
     "metadata": {},
     "outputs": [],
     "prompt_number": 41
    },
    {
     "cell_type": "code",
     "collapsed": false,
     "input": [
      "runpan"
     ],
     "language": "python",
     "metadata": {},
     "outputs": [
      {
       "metadata": {},
       "output_type": "pyout",
       "prompt_number": 45,
       "text": [
        "512"
       ]
      }
     ],
     "prompt_number": 45
    },
    {
     "cell_type": "code",
     "collapsed": false,
     "input": [
      "runpan.denominator"
     ],
     "language": "python",
     "metadata": {},
     "outputs": [
      {
       "metadata": {},
       "output_type": "pyout",
       "prompt_number": 46,
       "text": [
        "1"
       ]
      }
     ],
     "prompt_number": 46
    },
    {
     "cell_type": "code",
     "collapsed": false,
     "input": [],
     "language": "python",
     "metadata": {},
     "outputs": []
    }
   ],
   "metadata": {}
  }
 ]
}