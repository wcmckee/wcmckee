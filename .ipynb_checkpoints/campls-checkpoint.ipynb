{
 "cells": [
  {
   "cell_type": "markdown",
   "metadata": {},
   "source": [
    "perform ls on directory looking for most recent rst file change. \n",
    "Gets wordcount, most recent word, date and time of this change. \n",
    "\n",
    "Record the wordcount in a json object, compare to older json objects and \n",
    "punish or rewards depending on changes. \n",
    "\n",
    "Tweets during the day of changes. "
   ]
  },
  {
   "cell_type": "code",
   "execution_count": 1,
   "metadata": {
    "collapsed": false
   },
   "outputs": [],
   "source": [
    "import os\n",
    "import glob\n",
    "import getpass\n"
   ]
  },
  {
   "cell_type": "code",
   "execution_count": 2,
   "metadata": {
    "collapsed": false
   },
   "outputs": [],
   "source": [
    "theusr = getpass.getuser()"
   ]
  },
  {
   "cell_type": "code",
   "execution_count": 5,
   "metadata": {
    "collapsed": true
   },
   "outputs": [],
   "source": [
    "def getRecent():\n",
    "    return max(glob.iglob('/home/' + theusr + '/git/writersdenhamilton/posts/*.rst'),\n",
    "                       key=os.path.getctime)\n",
    "\n",
    "def getPaths():\n",
    "    return os.path.basename(newest)\n",
    "\n",
    "def getWords():\n",
    "    with open(getRecent(), 'r', encoding='utf-8') as infile:\n",
    "        return infile.read()\n",
    "\n",
    "def getSplit():\n",
    "    return getWords()"
   ]
  },
  {
   "cell_type": "code",
   "execution_count": 6,
   "metadata": {
    "collapsed": false
   },
   "outputs": [
    {
     "data": {
      "text/plain": [
       "'/home/wcm/git/writersdenhamilton/posts/fallofgiants.rst'"
      ]
     },
     "execution_count": 6,
     "metadata": {},
     "output_type": "execute_result"
    }
   ],
   "source": [
    "getRecent()"
   ]
  },
  {
   "cell_type": "code",
   "execution_count": 7,
   "metadata": {
    "collapsed": false
   },
   "outputs": [
    {
     "ename": "NameError",
     "evalue": "name 'newest' is not defined",
     "output_type": "error",
     "traceback": [
      "\u001b[1;31m---------------------------------------------------------------------------\u001b[0m",
      "\u001b[1;31mNameError\u001b[0m                                 Traceback (most recent call last)",
      "\u001b[1;32m<ipython-input-7-cf2db5925d97>\u001b[0m in \u001b[0;36m<module>\u001b[1;34m()\u001b[0m\n\u001b[1;32m----> 1\u001b[1;33m \u001b[0mgetPaths\u001b[0m\u001b[1;33m(\u001b[0m\u001b[1;33m)\u001b[0m\u001b[1;33m\u001b[0m\u001b[0m\n\u001b[0m",
      "\u001b[1;32m<ipython-input-5-d3ffbbd5f5b3>\u001b[0m in \u001b[0;36mgetPaths\u001b[1;34m()\u001b[0m\n\u001b[0;32m      4\u001b[0m \u001b[1;33m\u001b[0m\u001b[0m\n\u001b[0;32m      5\u001b[0m \u001b[1;32mdef\u001b[0m \u001b[0mgetPaths\u001b[0m\u001b[1;33m(\u001b[0m\u001b[1;33m)\u001b[0m\u001b[1;33m:\u001b[0m\u001b[1;33m\u001b[0m\u001b[0m\n\u001b[1;32m----> 6\u001b[1;33m     \u001b[1;32mreturn\u001b[0m \u001b[0mos\u001b[0m\u001b[1;33m.\u001b[0m\u001b[0mpath\u001b[0m\u001b[1;33m.\u001b[0m\u001b[0mbasename\u001b[0m\u001b[1;33m(\u001b[0m\u001b[0mnewest\u001b[0m\u001b[1;33m)\u001b[0m\u001b[1;33m\u001b[0m\u001b[0m\n\u001b[0m\u001b[0;32m      7\u001b[0m \u001b[1;33m\u001b[0m\u001b[0m\n\u001b[0;32m      8\u001b[0m \u001b[1;32mdef\u001b[0m \u001b[0mgetWords\u001b[0m\u001b[1;33m(\u001b[0m\u001b[1;33m)\u001b[0m\u001b[1;33m:\u001b[0m\u001b[1;33m\u001b[0m\u001b[0m\n",
      "\u001b[1;31mNameError\u001b[0m: name 'newest' is not defined"
     ]
    }
   ],
   "source": [
    "getPaths()"
   ]
  },
  {
   "cell_type": "code",
   "execution_count": 9,
   "metadata": {
    "collapsed": false
   },
   "outputs": [
    {
     "data": {
      "text/plain": [
       "'Fall Of Giants\\n\\nKen Follett\\n\\nBook One of The Century Trilogy\\n\\nCast of Characters \\n\\nAmerican \\n\\nDewar Family\\n\\nSenator Cameron Drwar\\nUrsula Drwar, his wife\\nGus Drwar, their son\\n\\nVyalov Family\\n\\nJosef Vylov, businessman\\nLena Vyalov, his wife\\nOlga Vyalov, their daughter\\n\\nOthers\\n\\nRosa Hellman, journalist\\nChuck Dixon, school friend of Gus\\'s\\nMarga, nightclub singer\\nNick Forman, thief\\nIlya, thug\\nTheo, thug\\nNorman Niall, croked accountant\\nBrian Hall, union leader \\n\\nReal historical characters\\n\\nEnglish and Scottish\\n\\nFitzherbert Family.\\n\\nEarl Fitzherbert, called Fitz\\nPrincess Elizabeta, called Bea, his wife\\nLady Maud Fitzherbert, his sister\\nLady Hermia, called Aunt Herm, their poor aunt\\nThe Duchess of Sussex, their rich aunt\\nGelert, Pyreneam mountain dog\\nGrout, Fitz\\'s butler\\nSanderson, Maud\\'s maid\\n\\nOthers\\n\\nMildred Perkins, Ethel William\\'s lodger\\nBernie Leckwith, secretary of the Aldgate branch of the Interpendent Labour Party\\nBing Westhampton, Gitz\\'s friend \\nMarquis of Lowther, \"Lowthie,\" rejected suitor of Maud\\n\\nAlbert Solman, Fitz\\'s man of business \\nDr. Greenward, volunteer at the baby clinic\\nLord \"Johnny\" Re\\n\\n\\n\\nMany view points, leading up to ww1 and after it. Issue - the length of\\nbook. too big. Could if been cut in half - could of been 2 books. \\n\\nNormally key villan in his book. It isnt key villan. no  cold blooded \\nkillers. Multipy political too much political. woman right to vote,\\n\\nenjoyed characters care about, Billy coal miner from Wales. Innocent young kid,\\nend as ww1 vetrium, political,\\nWW1. honor the history. why it happened, not biast. everyone view point. \\nwell rounded. \\n\\nResearch 20th centry\\n\\nKilled so many each other. Our centry. Where we come from.\\n1911 welsh mining time. quit school to work.\\n\\nwhere author comes from. Grandfather went down the pit - like Billy.\\n\\nsocial divide. money divide. pretend they different. fight, move from \\nclasses, fall in love. Class nation divisions. Two familys \\n\\nSister of Billy, Ethel\\nSister of Fitz, Maud\\n\\nFight for womans rights. Feel deprived. Even upper class was restricted.\\nMaud photo captured being arrested by a police officer.\\n\\n1914, woman 21 not allowed to go anywhere alone. Maud.\\n\\nRole of Woman. Woman fought political battles. Harsh treated by media \\nand police. They won! \\n\\nmen gave in. woman vote over 30, men over 21. lets be pratible. \\npricible. treat equal. split movement.\\n\\nEvents leading up to ww1. How to tell? Maud fall in love with young \\ngerman spy. want to get married. Maud and Walter.\\n\\nRussian - saving to go to America. Fought in ww1 for russia. men of the \\nrevolution.\\nOne living american dream. One a revalution in Russia. Grigori and Lev.\\n\\nGerman invasion of USA. Newspaper. Media quick on haterd on enemys. \\nWanted\\nto whip up. gone to war no prblem. New weapons. machine guns. made \\neverything more terrible. \\n'"
      ]
     },
     "execution_count": 9,
     "metadata": {},
     "output_type": "execute_result"
    }
   ],
   "source": [
    "getWords()"
   ]
  },
  {
   "cell_type": "code",
   "execution_count": 10,
   "metadata": {
    "collapsed": false
   },
   "outputs": [
    {
     "data": {
      "text/plain": [
       "'Fall Of Giants\\n\\nKen Follett\\n\\nBook One of The Century Trilogy\\n\\nCast of Characters \\n\\nAmerican \\n\\nDewar Family\\n\\nSenator Cameron Drwar\\nUrsula Drwar, his wife\\nGus Drwar, their son\\n\\nVyalov Family\\n\\nJosef Vylov, businessman\\nLena Vyalov, his wife\\nOlga Vyalov, their daughter\\n\\nOthers\\n\\nRosa Hellman, journalist\\nChuck Dixon, school friend of Gus\\'s\\nMarga, nightclub singer\\nNick Forman, thief\\nIlya, thug\\nTheo, thug\\nNorman Niall, croked accountant\\nBrian Hall, union leader \\n\\nReal historical characters\\n\\nEnglish and Scottish\\n\\nFitzherbert Family.\\n\\nEarl Fitzherbert, called Fitz\\nPrincess Elizabeta, called Bea, his wife\\nLady Maud Fitzherbert, his sister\\nLady Hermia, called Aunt Herm, their poor aunt\\nThe Duchess of Sussex, their rich aunt\\nGelert, Pyreneam mountain dog\\nGrout, Fitz\\'s butler\\nSanderson, Maud\\'s maid\\n\\nOthers\\n\\nMildred Perkins, Ethel William\\'s lodger\\nBernie Leckwith, secretary of the Aldgate branch of the Interpendent Labour Party\\nBing Westhampton, Gitz\\'s friend \\nMarquis of Lowther, \"Lowthie,\" rejected suitor of Maud\\n\\nAlbert Solman, Fitz\\'s man of business \\nDr. Greenward, volunteer at the baby clinic\\nLord \"Johnny\" Re\\n\\n\\n\\nMany view points, leading up to ww1 and after it. Issue - the length of\\nbook. too big. Could if been cut in half - could of been 2 books. \\n\\nNormally key villan in his book. It isnt key villan. no  cold blooded \\nkillers. Multipy political too much political. woman right to vote,\\n\\nenjoyed characters care about, Billy coal miner from Wales. Innocent young kid,\\nend as ww1 vetrium, political,\\nWW1. honor the history. why it happened, not biast. everyone view point. \\nwell rounded. \\n\\nResearch 20th centry\\n\\nKilled so many each other. Our centry. Where we come from.\\n1911 welsh mining time. quit school to work.\\n\\nwhere author comes from. Grandfather went down the pit - like Billy.\\n\\nsocial divide. money divide. pretend they different. fight, move from \\nclasses, fall in love. Class nation divisions. Two familys \\n\\nSister of Billy, Ethel\\nSister of Fitz, Maud\\n\\nFight for womans rights. Feel deprived. Even upper class was restricted.\\nMaud photo captured being arrested by a police officer.\\n\\n1914, woman 21 not allowed to go anywhere alone. Maud.\\n\\nRole of Woman. Woman fought political battles. Harsh treated by media \\nand police. They won! \\n\\nmen gave in. woman vote over 30, men over 21. lets be pratible. \\npricible. treat equal. split movement.\\n\\nEvents leading up to ww1. How to tell? Maud fall in love with young \\ngerman spy. want to get married. Maud and Walter.\\n\\nRussian - saving to go to America. Fought in ww1 for russia. men of the \\nrevolution.\\nOne living american dream. One a revalution in Russia. Grigori and Lev.\\n\\nGerman invasion of USA. Newspaper. Media quick on haterd on enemys. \\nWanted\\nto whip up. gone to war no prblem. New weapons. machine guns. made \\neverything more terrible. \\n'"
      ]
     },
     "execution_count": 10,
     "metadata": {},
     "output_type": "execute_result"
    }
   ],
   "source": [
    "getSplit()"
   ]
  },
  {
   "cell_type": "code",
   "execution_count": 13,
   "metadata": {
    "collapsed": false
   },
   "outputs": [],
   "source": [
    "newest = max(glob.iglob('/home/' + theusr + '/git/writersdenhamilton/posts/*.rst'),\n",
    "                       key=os.path.getctime)"
   ]
  },
  {
   "cell_type": "code",
   "execution_count": 14,
   "metadata": {
    "collapsed": false
   },
   "outputs": [],
   "source": [
    "filename = os.path.basename(newest)"
   ]
  },
  {
   "cell_type": "code",
   "execution_count": 15,
   "metadata": {
    "collapsed": false
   },
   "outputs": [],
   "source": [
    "opnew = open(newest, 'r')"
   ]
  },
  {
   "cell_type": "code",
   "execution_count": 16,
   "metadata": {
    "collapsed": true
   },
   "outputs": [],
   "source": [
    "newrd = opnew.read()"
   ]
  },
  {
   "cell_type": "code",
   "execution_count": 17,
   "metadata": {
    "collapsed": true
   },
   "outputs": [],
   "source": [
    "opnew.close()"
   ]
  },
  {
   "cell_type": "code",
   "execution_count": 18,
   "metadata": {
    "collapsed": false
   },
   "outputs": [],
   "source": [
    "nerdrep = newrd.replace('\\n', ' ')"
   ]
  },
  {
   "cell_type": "code",
   "execution_count": 19,
   "metadata": {
    "collapsed": false
   },
   "outputs": [],
   "source": [
    "nerdsplit = nerdrep.split()"
   ]
  },
  {
   "cell_type": "code",
   "execution_count": 20,
   "metadata": {
    "collapsed": false
   },
   "outputs": [],
   "source": [
    "latword = nerdsplit[-1]"
   ]
  },
  {
   "cell_type": "code",
   "execution_count": 21,
   "metadata": {
    "collapsed": false
   },
   "outputs": [],
   "source": [
    "wctoday = len(nerdsplit)"
   ]
  },
  {
   "cell_type": "code",
   "execution_count": 22,
   "metadata": {
    "collapsed": false
   },
   "outputs": [
    {
     "name": "stdout",
     "output_type": "stream",
     "text": [
      "Writing: fallofgiants.rst recent word: terrible.  wc: 450\n"
     ]
    }
   ],
   "source": [
    "print('Writing: ' + filename + ' recent word: ' + latword + '  wc: ' + str(wctoday))"
   ]
  },
  {
   "cell_type": "code",
   "execution_count": null,
   "metadata": {
    "collapsed": true
   },
   "outputs": [],
   "source": []
  },
  {
   "cell_type": "code",
   "execution_count": null,
   "metadata": {
    "collapsed": true
   },
   "outputs": [],
   "source": []
  }
 ],
 "metadata": {
  "kernelspec": {
   "display_name": "Python 3",
   "language": "python",
   "name": "python3"
  },
  "language_info": {
   "codemirror_mode": {
    "name": "ipython",
    "version": 3
   },
   "file_extension": ".py",
   "mimetype": "text/x-python",
   "name": "python",
   "nbconvert_exporter": "python",
   "pygments_lexer": "ipython3",
   "version": "3.4.2"
  }
 },
 "nbformat": 4,
 "nbformat_minor": 0
}
