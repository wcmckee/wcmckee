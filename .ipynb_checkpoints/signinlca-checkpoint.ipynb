{
 "metadata": {
  "name": "",
  "signature": "sha256:c354e4ccc3404c64eb74c012ca32704ad080bbfad0a8b266692bf54ed8bfcff1"
 },
 "nbformat": 3,
 "nbformat_minor": 0,
 "worksheets": [
  {
   "cells": [
    {
     "cell_type": "markdown",
     "metadata": {},
     "source": [
      "signinlca\n",
      "\n",
      "script to signin for volunteers at lca2015"
     ]
    },
    {
     "cell_type": "code",
     "collapsed": false,
     "input": [
      "import os\n",
      "import time\n",
      "import json\n",
      "import getpass"
     ],
     "language": "python",
     "metadata": {},
     "outputs": [],
     "prompt_number": 80
    },
    {
     "cell_type": "code",
     "collapsed": false,
     "input": [
      "def returndate():\n",
      "    return time.strftime((\"%d\" + \"-\" + \"%b\" + \"-\" + \"%Y\"))\n",
      "\n",
      "def returntime():\n",
      "    return time.strftime(\"%H:%M:%S\")"
     ],
     "language": "python",
     "metadata": {},
     "outputs": [],
     "prompt_number": 81
    },
    {
     "cell_type": "code",
     "collapsed": false,
     "input": [
      "firnam = raw_input('first name: ')\n",
      "lasnam = raw_input('last name: ')\n",
      "tshir = raw_input('tshirt size: ')\n",
      "cofvol = raw_input('coffee volc: ')\n",
      "comen = raw_input('comments: ')"
     ],
     "language": "python",
     "metadata": {},
     "outputs": [
      {
       "name": "stdout",
       "output_type": "stream",
       "stream": "stdout",
       "text": [
        "first name: william\n"
       ]
      },
      {
       "name": "stdout",
       "output_type": "stream",
       "stream": "stdout",
       "text": [
        "last name: mckee\n"
       ]
      },
      {
       "name": "stdout",
       "output_type": "stream",
       "stream": "stdout",
       "text": [
        "tshirt size: L\n"
       ]
      },
      {
       "name": "stdout",
       "output_type": "stream",
       "stream": "stdout",
       "text": [
        "coffee volc: 4\n"
       ]
      },
      {
       "name": "stdout",
       "output_type": "stream",
       "stream": "stdout",
       "text": [
        "comments: doing av\n"
       ]
      }
     ],
     "prompt_number": 67
    },
    {
     "cell_type": "code",
     "collapsed": false,
     "input": [
      "betdict = dict()"
     ],
     "language": "python",
     "metadata": {},
     "outputs": [],
     "prompt_number": 68
    },
    {
     "cell_type": "code",
     "collapsed": false,
     "input": [
      "betdict.update({'first-name' : firnam})\n",
      "betdict.update({'last-name' : lasnam})\n",
      "betdict.update({'signin-date' : returndate()})\n",
      "betdict.update({'signin-hrmin' : returntime()})\n",
      "betdict.update({'tshirt-size' : tshir})\n",
      "betdict.update({'coffees' : int(cofvol)})\n",
      "betdict.update({'comments:' : comen})"
     ],
     "language": "python",
     "metadata": {},
     "outputs": [],
     "prompt_number": 69
    },
    {
     "cell_type": "code",
     "collapsed": false,
     "input": [
      "betdict"
     ],
     "language": "python",
     "metadata": {},
     "outputs": [
      {
       "metadata": {},
       "output_type": "pyout",
       "prompt_number": 70,
       "text": [
        "{'coffees': 4,\n",
        " 'comments:': 'doing av',\n",
        " 'first-name': 'william',\n",
        " 'last-name': 'mckee',\n",
        " 'signin-date': '13-Jan-2015',\n",
        " 'signin-hrmin': '07:30:32',\n",
        " 'tshirt-size': 'L'}"
       ]
      }
     ],
     "prompt_number": 70
    },
    {
     "cell_type": "code",
     "collapsed": false,
     "input": [
      "convj = json.dumps(betdict)"
     ],
     "language": "python",
     "metadata": {},
     "outputs": [],
     "prompt_number": 71
    },
    {
     "cell_type": "code",
     "collapsed": false,
     "input": [
      "convj"
     ],
     "language": "python",
     "metadata": {},
     "outputs": [
      {
       "metadata": {},
       "output_type": "pyout",
       "prompt_number": 72,
       "text": [
        "'{\"signin-date\": \"13-Jan-2015\", \"comments:\": \"doing av\", \"last-name\": \"mckee\", \"signin-hrmin\": \"07:30:32\", \"coffees\": 4, \"first-name\": \"william\", \"tshirt-size\": \"L\"}'"
       ]
      }
     ],
     "prompt_number": 72
    },
    {
     "cell_type": "code",
     "collapsed": false,
     "input": [
      "puser = getpass.getuser()"
     ],
     "language": "python",
     "metadata": {},
     "outputs": [],
     "prompt_number": 73
    },
    {
     "cell_type": "code",
     "collapsed": false,
     "input": [],
     "language": "python",
     "metadata": {},
     "outputs": [],
     "prompt_number": 73
    },
    {
     "cell_type": "code",
     "collapsed": false,
     "input": [
      "signpath = ('/home/' + puser + '/signinlca')"
     ],
     "language": "python",
     "metadata": {},
     "outputs": [],
     "prompt_number": 74
    },
    {
     "cell_type": "code",
     "collapsed": false,
     "input": [
      "if os.path.isdir(signpath) == True:\n",
      "    print 'Path is there'\n",
      "else:\n",
      "    print 'Path not there'\n",
      "    os.mkdir(signpath)"
     ],
     "language": "python",
     "metadata": {},
     "outputs": [
      {
       "output_type": "stream",
       "stream": "stdout",
       "text": [
        "Path is there\n"
       ]
      }
     ],
     "prompt_number": 75
    },
    {
     "cell_type": "code",
     "collapsed": false,
     "input": [
      "os.chdir(signpath)"
     ],
     "language": "python",
     "metadata": {},
     "outputs": [],
     "prompt_number": 76
    },
    {
     "cell_type": "code",
     "collapsed": false,
     "input": [
      "opday = open(str(returndate()) + '.json', 'a')"
     ],
     "language": "python",
     "metadata": {},
     "outputs": [],
     "prompt_number": 90
    },
    {
     "cell_type": "code",
     "collapsed": false,
     "input": [
      "opday.write(convj)"
     ],
     "language": "python",
     "metadata": {},
     "outputs": [],
     "prompt_number": 89
    },
    {
     "cell_type": "code",
     "collapsed": false,
     "input": [],
     "language": "python",
     "metadata": {},
     "outputs": []
    }
   ],
   "metadata": {}
  }
 ]
}