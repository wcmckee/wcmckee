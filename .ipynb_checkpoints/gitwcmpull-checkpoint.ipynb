{
 "cells": [
  {
   "cell_type": "markdown",
   "metadata": {},
   "source": [
    "gitwcmpull\n",
    "\n",
    "Dealing with git repos. Doing pulls to all repos."
   ]
  },
  {
   "cell_type": "code",
   "execution_count": 39,
   "metadata": {
    "collapsed": false
   },
   "outputs": [],
   "source": [
    "import git\n",
    "import os\n",
    "import github\n",
    "import getpass"
   ]
  },
  {
   "cell_type": "code",
   "execution_count": 10,
   "metadata": {
    "collapsed": false
   },
   "outputs": [],
   "source": [
    "from github import Github"
   ]
  },
  {
   "cell_type": "code",
   "execution_count": 11,
   "metadata": {
    "collapsed": true
   },
   "outputs": [],
   "source": [
    "opz = open('/home/wcmckee/gpas.txt', 'r')\n",
    "gpasz = opz.read()"
   ]
  },
  {
   "cell_type": "code",
   "execution_count": null,
   "metadata": {
    "collapsed": true
   },
   "outputs": [],
   "source": [
    "gusr = raw_input('Enter username: ')\n",
    "gpas = getpass.getpass('Enter Password: ')"
   ]
  },
  {
   "cell_type": "code",
   "execution_count": 18,
   "metadata": {
    "collapsed": false
   },
   "outputs": [],
   "source": [
    "g = Github(gusr, gpas)"
   ]
  },
  {
   "cell_type": "code",
   "execution_count": 25,
   "metadata": {
    "collapsed": true
   },
   "outputs": [],
   "source": [
    "#for grza in g.get_organization("
   ]
  },
  {
   "cell_type": "code",
   "execution_count": 27,
   "metadata": {
    "collapsed": true
   },
   "outputs": [],
   "source": [
    "gilis = []"
   ]
  },
  {
   "cell_type": "code",
   "execution_count": 29,
   "metadata": {
    "collapsed": false
   },
   "outputs": [],
   "source": [
    "for grp in g.get_user().get_repos():\n",
    "    gilis.append(grp.name)"
   ]
  },
  {
   "cell_type": "code",
   "execution_count": 35,
   "metadata": {
    "collapsed": false
   },
   "outputs": [
    {
     "data": {
      "text/plain": [
       "[u'fuzzy-octopus', u'coil', u'crouton', u'cv']"
      ]
     },
     "execution_count": 35,
     "metadata": {},
     "output_type": "execute_result"
    }
   ],
   "source": [
    "#list of repos missing local - perform git pull\n",
    "list(set(gilis) - set(lidirz))"
   ]
  },
  {
   "cell_type": "code",
   "execution_count": null,
   "metadata": {
    "collapsed": true
   },
   "outputs": [],
   "source": []
  },
  {
   "cell_type": "code",
   "execution_count": 2,
   "metadata": {
    "collapsed": true
   },
   "outputs": [],
   "source": [
    "#Test if folder is there and that the origin pull is on github.\n",
    "#If it's not on github, skip.\n",
    "\n",
    "#Two Lists. One is list of repos from github. Other is list of\n",
    "#local folder repos.\n",
    "#Compare items in each list. \n",
    "#lis1 is github\n",
    "#lis2 is local\n",
    "#if 'ipython' is on lis1 but not two, then it performs\n",
    "#git clone on github repo\n",
    "#\n",
    "\n",
    "#If item is on local but not on github\n",
    "#check organision\n",
    "#skip the git pull.\n"
   ]
  },
  {
   "cell_type": "code",
   "execution_count": 23,
   "metadata": {
    "collapsed": false
   },
   "outputs": [],
   "source": [
    "lidirz = os.listdir('/media/removable/USB Drive/wcmckee-git')"
   ]
  },
  {
   "cell_type": "code",
   "execution_count": 37,
   "metadata": {
    "collapsed": false
   },
   "outputs": [],
   "source": [
    "#for lid in lidirz:\n",
    "#    print lid"
   ]
  },
  {
   "cell_type": "code",
   "execution_count": 38,
   "metadata": {
    "collapsed": false
   },
   "outputs": [],
   "source": [
    "#for grp in g.get_user().get_repos():\n",
    "#    print grp.name"
   ]
  },
  {
   "cell_type": "code",
   "execution_count": null,
   "metadata": {
    "collapsed": true
   },
   "outputs": [],
   "source": []
  },
  {
   "cell_type": "code",
   "execution_count": null,
   "metadata": {
    "collapsed": true
   },
   "outputs": [],
   "source": []
  },
  {
   "cell_type": "code",
   "execution_count": 6,
   "metadata": {
    "collapsed": true
   },
   "outputs": [],
   "source": [
    "lismed = os.listdir('/media/removable/USB Drive/wcmckee-git')"
   ]
  },
  {
   "cell_type": "code",
   "execution_count": 36,
   "metadata": {
    "collapsed": false
   },
   "outputs": [
    {
     "data": {
      "text/plain": [
       "['ipython', 'comet_cms']"
      ]
     },
     "execution_count": 36,
     "metadata": {},
     "output_type": "execute_result"
    }
   ],
   "source": [
    "#List of repos missing from github\n",
    "list(set(lidirz) - set(gilis))"
   ]
  },
  {
   "cell_type": "code",
   "execution_count": 33,
   "metadata": {
    "collapsed": false
   },
   "outputs": [
    {
     "data": {
      "text/plain": [
       "['RasPiWrite',\n",
       " 'wcmckee.github.io',\n",
       " 'ggj14',\n",
       " 'flask',\n",
       " '4chan-API',\n",
       " 'BroBeurFishingDream',\n",
       " 'SuburbNightmare',\n",
       " 'pywp-post',\n",
       " 'flask-ghpages-example',\n",
       " 'TPB',\n",
       " 'vagrantboxes-heroku',\n",
       " 'broLove',\n",
       " 'wcmckee-notebook',\n",
       " 'wirepil',\n",
       " 'dockerfiles',\n",
       " 'SketchDaily-GestureDrawing',\n",
       " 'SoundWall',\n",
       " 'te-whare-o-te-ata',\n",
       " 'SortPictures',\n",
       " 'signinlca',\n",
       " 'cobal.eportfolio',\n",
       " 'intro_programming',\n",
       " 'python-guide',\n",
       " 'pyunderdog',\n",
       " 'skins',\n",
       " 'ouya-unity-plugin',\n",
       " 'adypy',\n",
       " 'pybackupz',\n",
       " 'selfspy',\n",
       " 'niketa',\n",
       " 'lcacoffee',\n",
       " 'Projects',\n",
       " 'wcmckee',\n",
       " 'bgj05-hungry',\n",
       " 'BirdCage',\n",
       " 'iamagamer',\n",
       " 'redtube',\n",
       " 'imgur-python',\n",
       " 'paintingautopy',\n",
       " 'brobeur-web',\n",
       " 'molyjam2013',\n",
       " 'prodo-game',\n",
       " 'reddit_bot',\n",
       " 'DeltaBot',\n",
       " 'marshmallow',\n",
       " 'ipython-hydra',\n",
       " 'compohub',\n",
       " 'pyladies',\n",
       " 'python-patterns',\n",
       " 'hackage-server',\n",
       " 'pithos',\n",
       " 'bbc2wp',\n",
       " 'vIPer',\n",
       " 'Triger',\n",
       " 'RedditPress',\n",
       " 'tweepy',\n",
       " 'pytm',\n",
       " 'anim_framework',\n",
       " 'openbay',\n",
       " 'HTML5-Tiny',\n",
       " 'artcontrol-api',\n",
       " 'miniprojects',\n",
       " 'art-lastfm',\n",
       " 'raspi',\n",
       " 'UnityLuaIntegration',\n",
       " 'ipython-docker',\n",
       " 'intercity',\n",
       " 'puphpet',\n",
       " 'DailyProgBot',\n",
       " 'pymel',\n",
       " 'brobeur-static',\n",
       " 'nikola',\n",
       " 'clint',\n",
       " 'bacongamejam05',\n",
       " 'wcmckee.com',\n",
       " 'wcmStringPY',\n",
       " 'RPIO',\n",
       " 'html5lib-python',\n",
       " 'render-useful',\n",
       " 'autopaintpy123',\n",
       " 'python-pandora',\n",
       " 'LD48-Skins',\n",
       " 'hamiltoncomputerclub.org.nz',\n",
       " 'battlenet',\n",
       " 'haskell-learn',\n",
       " 'Minecraft',\n",
       " 'openfaux-server',\n",
       " 'AsylumJamCrushGame',\n",
       " 'xboxdrv',\n",
       " 'massive-wright',\n",
       " 'ihaskell-notebook',\n",
       " 'opencompetencies',\n",
       " 'pyatakl']"
      ]
     },
     "execution_count": 33,
     "metadata": {},
     "output_type": "execute_result"
    }
   ],
   "source": [
    "#Repos that are both on github and local.\n",
    "list(set(gilis).intersection(set(lidirz)))"
   ]
  },
  {
   "cell_type": "code",
   "execution_count": 7,
   "metadata": {
    "collapsed": true
   },
   "outputs": [],
   "source": [
    "#os.chdir('/media/removable/USB Drive/wcmckee-git/' + lism)"
   ]
  },
  {
   "cell_type": "code",
   "execution_count": 9,
   "metadata": {
    "collapsed": true
   },
   "outputs": [],
   "source": [
    "#os.system('git pull')"
   ]
  },
  {
   "cell_type": "code",
   "execution_count": null,
   "metadata": {
    "collapsed": false
   },
   "outputs": [
    {
     "name": "stdout",
     "output_type": "stream",
     "text": [
      "autopaintpy123\n",
      "bacongamejam05\n",
      "battlenet\n",
      "bbc2wp\n",
      "bgj05-hungry\n",
      "BirdCage\n",
      "brobeur-static\n",
      "brobeur-web\n",
      "BroBeurFishingDream\n",
      "broLove\n",
      "clint\n",
      "cobal.eportfolio\n",
      "compohub\n",
      "DailyProgBot\n",
      "DeltaBot\n",
      "dockerfiles\n",
      "flask\n",
      "flask-ghpages-example\n",
      "ggj14\n",
      "hackage-server\n",
      "hamiltoncomputerclub.org.nz\n",
      "haskell-learn\n",
      "HTML5-Tiny\n",
      "html5lib-python\n",
      "iamagamer\n",
      "ihaskell-notebook\n",
      "imgur-python\n",
      "intercity\n",
      "intro_programming\n",
      "ipython"
     ]
    }
   ],
   "source": [
    "for lism in lismed:\n",
    "    print lism\n",
    "    os.chdir('/media/removable/USB Drive/wcmckee-git/' + lism)\n",
    "    os.system('git pull')"
   ]
  },
  {
   "cell_type": "code",
   "execution_count": null,
   "metadata": {
    "collapsed": true
   },
   "outputs": [],
   "source": []
  }
 ],
 "metadata": {
  "kernelspec": {
   "display_name": "Python 2",
   "name": "python2"
  },
  "language_info": {
   "codemirror_mode": {
    "name": "ipython",
    "version": 2
   },
   "file_extension": ".py",
   "mimetype": "text/x-python",
   "name": "python",
   "nbconvert_exporter": "python",
   "pygments_lexer": "ipython2",
   "version": "2.7.8"
  }
 },
 "nbformat": 4,
 "nbformat_minor": 0
}
