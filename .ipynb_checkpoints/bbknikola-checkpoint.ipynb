{
 "cells": [
  {
   "cell_type": "markdown",
   "metadata": {},
   "source": [
    "<h1>BroBeurKids Nikola</h1>\n",
    "\n",
    "This script deals with creating data for BroBeurKids/wcmckee Nikola site.\n",
    "\n",
    "The directory to look at is brobeurkidsdotcom/posts \n",
    "or folder\n",
    "\n",
    "wcmckee.com /posts\n",
    "\n",
    "/github folders are scanned with the input for folders.\n",
    "It's basically a search for notebook, then turn notebook into a blog posts.\n",
    "\n",
    "Arrow is used to generate the date (YR/MONTH/DAY),\n",
    "and time(HR : MIN: SEC)\n",
    "\n",
    "This is where ipynb files are kept. \n",
    "\n",
    "This script generates the .meta files needed. \n",
    "\n",
    "The meta file is called the same as the ipynb.  It also contains the slug and title, and date.\n",
    "The date is collected by looking at the save date of the ipynb.\n",
    "\n"
   ]
  },
  {
   "cell_type": "code",
   "execution_count": 77,
   "metadata": {
    "collapsed": true
   },
   "outputs": [],
   "source": [
    "import os\n",
    "import getpass\n",
    "from walkdir import filtered_walk, dir_paths, all_paths, file_paths\n",
    "import arrow\n",
    "import nikola\n"
   ]
  },
  {
   "cell_type": "code",
   "execution_count": 78,
   "metadata": {
    "collapsed": false
   },
   "outputs": [],
   "source": [
    "raw = arrow.utcnow()"
   ]
  },
  {
   "cell_type": "code",
   "execution_count": 79,
   "metadata": {
    "collapsed": false
   },
   "outputs": [
    {
     "name": "stdout",
     "output_type": "stream",
     "text": [
      "2015-02-19T04:19:28.459217+00:00\n"
     ]
    }
   ],
   "source": [
    "print raw"
   ]
  },
  {
   "cell_type": "code",
   "execution_count": 80,
   "metadata": {
    "collapsed": true
   },
   "outputs": [],
   "source": [
    "\n",
    "def returntime():\n",
    "    return raw.strftime('%H:%M:%S')\n"
   ]
  },
  {
   "cell_type": "code",
   "execution_count": 81,
   "metadata": {
    "collapsed": false
   },
   "outputs": [
    {
     "data": {
      "text/plain": [
       "'04:19:28'"
      ]
     },
     "execution_count": 81,
     "metadata": {},
     "output_type": "execute_result"
    }
   ],
   "source": [
    "returntime()"
   ]
  },
  {
   "cell_type": "code",
   "execution_count": 82,
   "metadata": {
    "collapsed": false
   },
   "outputs": [],
   "source": [
    "yraw = raw.strftime(\"%Y\")\n",
    "mntaw = raw.strftime(\"%m\")\n",
    "dytaw = raw.strftime(\"%d\")\n",
    "#gmtz.strftime(\"%Y\")"
   ]
  },
  {
   "cell_type": "code",
   "execution_count": 83,
   "metadata": {
    "collapsed": true
   },
   "outputs": [],
   "source": [
    "fulda = yraw + '/' + mntaw + '/' + dytaw"
   ]
  },
  {
   "cell_type": "code",
   "execution_count": 84,
   "metadata": {
    "collapsed": false
   },
   "outputs": [],
   "source": [
    "fultim = fulda + ' ' + returntime()"
   ]
  },
  {
   "cell_type": "code",
   "execution_count": 85,
   "metadata": {
    "collapsed": false
   },
   "outputs": [],
   "source": [
    "#fultim"
   ]
  },
  {
   "cell_type": "code",
   "execution_count": 86,
   "metadata": {
    "collapsed": true
   },
   "outputs": [],
   "source": [
    "#gtur = getpass.getuser()"
   ]
  },
  {
   "cell_type": "code",
   "execution_count": 87,
   "metadata": {
    "collapsed": false
   },
   "outputs": [],
   "source": [
    "#lisbbkn = os.listdir('/home/' + gtur + '/brobeurkidsdotcom/posts')"
   ]
  },
  {
   "cell_type": "code",
   "execution_count": 88,
   "metadata": {
    "collapsed": false
   },
   "outputs": [],
   "source": [
    "#lisbbkn"
   ]
  },
  {
   "cell_type": "code",
   "execution_count": 89,
   "metadata": {
    "collapsed": false
   },
   "outputs": [],
   "source": [
    "#for lisb in lisbbkn:\n",
    "#    if '.ipynb' in lisb:\n",
    "#        print lisb  "
   ]
  },
  {
   "cell_type": "code",
   "execution_count": null,
   "metadata": {
    "collapsed": true
   },
   "outputs": [],
   "source": [
    "#Name of notebook you want to turn into a blog\n",
    "#Could check the folder (walkdir) for files not \n",
    "#in the wcmckee.com posts folder.\n",
    "#Tags. Modules used. \n",
    "#Look at the file and extract out modules imported,\n",
    "#using these as tags."
   ]
  },
  {
   "cell_type": "code",
   "execution_count": null,
   "metadata": {
    "collapsed": false
   },
   "outputs": [],
   "source": [
    "nbog = raw_input('Name of notebook to blog: ')"
   ]
  },
  {
   "cell_type": "code",
   "execution_count": 66,
   "metadata": {
    "collapsed": true
   },
   "outputs": [],
   "source": [
    "#Search for blog through folders. "
   ]
  },
  {
   "cell_type": "code",
   "execution_count": 67,
   "metadata": {
    "collapsed": true
   },
   "outputs": [],
   "source": [
    "files = file_paths(filtered_walk('/home/wcmckee/github/', depth=100, included_files=[nbog + '.ipynb']))"
   ]
  },
  {
   "cell_type": "code",
   "execution_count": 68,
   "metadata": {
    "collapsed": false
   },
   "outputs": [
    {
     "name": "stdout",
     "output_type": "stream",
     "text": [
      "<generator object file_paths at 0xb22d03c8>\n"
     ]
    }
   ],
   "source": [
    "#print files"
   ]
  },
  {
   "cell_type": "code",
   "execution_count": 69,
   "metadata": {
    "collapsed": true
   },
   "outputs": [],
   "source": [
    "opblog = ('/home/wcmckee/github/')"
   ]
  },
  {
   "cell_type": "code",
   "execution_count": 74,
   "metadata": {
    "collapsed": true
   },
   "outputs": [],
   "source": [
    "podir = ('/home/wcmckee/github/wcmckee.com/posts/')"
   ]
  },
  {
   "cell_type": "code",
   "execution_count": 75,
   "metadata": {
    "collapsed": false
   },
   "outputs": [
    {
     "data": {
      "text/plain": [
       "'/home/wcmckee/github/wcmckee.com/posts/'"
      ]
     },
     "execution_count": 75,
     "metadata": {},
     "output_type": "execute_result"
    }
   ],
   "source": [
    "podir"
   ]
  },
  {
   "cell_type": "code",
   "execution_count": 70,
   "metadata": {
    "collapsed": false
   },
   "outputs": [
    {
     "name": "stdout",
     "output_type": "stream",
     "text": [
      "/home/wcmckee/github/wcmckee.com/posts/pgguserdel.ipynb\n",
      "/home/wcmckee/github/signinlca/pgguserdel.ipynb\n"
     ]
    }
   ],
   "source": [
    "for fie in files:\n",
    "    #print fie\n",
    "    print fie\n",
    "    os.system('cp ' + fie + ' ' + podir)"
   ]
  },
  {
   "cell_type": "code",
   "execution_count": 71,
   "metadata": {
    "collapsed": true
   },
   "outputs": [],
   "source": [
    "opeza = open(podir + nbog + '.meta', 'w')\n",
    "opeza.write(nbog + '\\n' + nbog + '\\n' + fultim)\n",
    "opeza.close()"
   ]
  },
  {
   "cell_type": "code",
   "execution_count": null,
   "metadata": {
    "collapsed": true
   },
   "outputs": [],
   "source": []
  },
  {
   "cell_type": "code",
   "execution_count": null,
   "metadata": {
    "collapsed": true
   },
   "outputs": [],
   "source": [
    "os.chdir('/home/wcmckee/github/wcmckee.com/')\n",
    "os.system('nikola build')"
   ]
  }
 ],
 "metadata": {
  "kernelspec": {
   "display_name": "Python 2",
   "name": "python2"
  },
  "language_info": {
   "codemirror_mode": {
    "name": "ipython",
    "version": 2
   },
   "file_extension": ".py",
   "mimetype": "text/x-python",
   "name": "python",
   "nbconvert_exporter": "python",
   "pygments_lexer": "ipython2",
   "version": "2.7.8"
  }
 },
 "nbformat": 4,
 "nbformat_minor": 0
}
