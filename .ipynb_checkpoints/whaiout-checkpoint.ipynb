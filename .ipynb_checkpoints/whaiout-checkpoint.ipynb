{
 "metadata": {
  "name": "",
  "signature": "sha256:bb64aacedcbd076f274809d9cfa13f192718b3166a0f4b2daaa5340dcd231825"
 },
 "nbformat": 3,
 "nbformat_minor": 0,
 "worksheets": [
  {
   "cells": [
    {
     "cell_type": "markdown",
     "metadata": {},
     "source": [
      "This is the signout script that opens the xl file and fill in signout info.\n",
      "\n",
      "Opens up list of signin data. This is date of sign in, time, name, and reason.\n",
      "This is .meta. This script appends sign out data. This is signout date, signout time, and comments.\n",
      "\n",
      "8 urandom 128 keys are generated. Used these in saving the achieve, as .html, and .meta files.\n",
      "\n",
      "creates date and time mark and asks for comment"
     ]
    },
    {
     "cell_type": "code",
     "collapsed": false,
     "input": [
      "import xlrd\n",
      "import os\n",
      "import time\n",
      "from xlutils.copy import copy\n",
      "from xlrd import *\n",
      "import dominate"
     ],
     "language": "python",
     "metadata": {},
     "outputs": [],
     "prompt_number": 121
    },
    {
     "cell_type": "code",
     "collapsed": false,
     "input": [
      "wrkbook = xlrd.open_workbook('/home/wcmckee/whai/index.xls')"
     ],
     "language": "python",
     "metadata": {},
     "outputs": [],
     "prompt_number": 122
    },
    {
     "cell_type": "code",
     "collapsed": false,
     "input": [
      "print wrkbook.sheet_names()\n",
      "\n",
      "worksheet = wrkbook.sheet_by_name('visitor sign database')\n",
      "swlis = []\n",
      "num_rows = worksheet.nrows - 1\n",
      "curr_row = -1\n",
      "while curr_row < num_rows:\n",
      "    curr_row += 1\n",
      "    row = worksheet.row(curr_row)\n",
      "    print row\n",
      "    swlis.append(row)"
     ],
     "language": "python",
     "metadata": {},
     "outputs": [
      {
       "output_type": "stream",
       "stream": "stdout",
       "text": [
        "[u'visitor sign database']\n",
        "[text:u'In Date', text:u'In Time', text:u'In Code', text:u'Name', text:u'Reason', text:u'Out Date', text:u'Out Time', text:u'Out Code']\n",
        "[text:u'11-Oct-2014', text:u'06:03', text:u'187ab7de7351e16b1d1d9907831f151b9e9a251ccadc41ec8db1a09e851e9a7d2905169099133130edee273576319c2fe7a63c9f1b184c3779e567cead85c102e52bcc17fb5e92606da640bb14ad5770e6864719a5157b220927edf5c24e3265cc06305fd239510ec775e89c5269d720bcf94d0dc9d6e1353f139151148c4655', text:u'William Mckee', text:u'ESW', empty:'', empty:'', empty:'']\n"
       ]
      }
     ],
     "prompt_number": 123
    },
    {
     "cell_type": "code",
     "collapsed": false,
     "input": [
      "valis = []"
     ],
     "language": "python",
     "metadata": {},
     "outputs": [],
     "prompt_number": 124
    },
    {
     "cell_type": "code",
     "collapsed": false,
     "input": [
      "for swl in swlis[1]:\n",
      "    print swl.value\n",
      "    valis.append(swl.value)"
     ],
     "language": "python",
     "metadata": {},
     "outputs": [
      {
       "output_type": "stream",
       "stream": "stdout",
       "text": [
        "11-Oct-2014\n",
        "06:03\n",
        "187ab7de7351e16b1d1d9907831f151b9e9a251ccadc41ec8db1a09e851e9a7d2905169099133130edee273576319c2fe7a63c9f1b184c3779e567cead85c102e52bcc17fb5e92606da640bb14ad5770e6864719a5157b220927edf5c24e3265cc06305fd239510ec775e89c5269d720bcf94d0dc9d6e1353f139151148c4655\n",
        "William Mckee\n",
        "ESW\n",
        "\n",
        "\n",
        "\n"
       ]
      }
     ],
     "prompt_number": 125
    },
    {
     "cell_type": "code",
     "collapsed": false,
     "input": [
      "valis"
     ],
     "language": "python",
     "metadata": {},
     "outputs": [
      {
       "metadata": {},
       "output_type": "pyout",
       "prompt_number": 126,
       "text": [
        "[u'11-Oct-2014',\n",
        " u'06:03',\n",
        " u'187ab7de7351e16b1d1d9907831f151b9e9a251ccadc41ec8db1a09e851e9a7d2905169099133130edee273576319c2fe7a63c9f1b184c3779e567cead85c102e52bcc17fb5e92606da640bb14ad5770e6864719a5157b220927edf5c24e3265cc06305fd239510ec775e89c5269d720bcf94d0dc9d6e1353f139151148c4655',\n",
        " u'William Mckee',\n",
        " u'ESW',\n",
        " '',\n",
        " '',\n",
        " '']"
       ]
      }
     ],
     "prompt_number": 126
    },
    {
     "cell_type": "code",
     "collapsed": false,
     "input": [
      "tiran = os.urandom(128).encode('hex')\n",
      "reran = os.urandom(128).encode('hex')"
     ],
     "language": "python",
     "metadata": {},
     "outputs": [],
     "prompt_number": 127
    },
    {
     "cell_type": "code",
     "collapsed": false,
     "input": [
      "endate = time.strftime(\"%d\" + \"-\" + \"%b\" + \"-\" + \"%Y\")\n",
      "          \n",
      "entim = time.strftime(\"%H:%M\")"
     ],
     "language": "python",
     "metadata": {},
     "outputs": [],
     "prompt_number": 128
    },
    {
     "cell_type": "code",
     "collapsed": false,
     "input": [
      "signoutdic = {endate: tiran}\n",
      "timoutdic = {entim: reran}"
     ],
     "language": "python",
     "metadata": {},
     "outputs": [],
     "prompt_number": 129
    },
    {
     "cell_type": "code",
     "collapsed": false,
     "input": [
      "signoutdic.update({entim:reran})"
     ],
     "language": "python",
     "metadata": {},
     "outputs": [],
     "prompt_number": 130
    },
    {
     "cell_type": "code",
     "collapsed": false,
     "input": [
      "signkeys = signoutdic.keys()"
     ],
     "language": "python",
     "metadata": {},
     "outputs": [],
     "prompt_number": 131
    },
    {
     "cell_type": "code",
     "collapsed": false,
     "input": [
      "\n",
      "w = copy(open_workbook('/home/wcmckee/whai/index.xls'))\n",
      "w.get_sheet(0).write(1,5, time.strftime(\"%d\" + \"-\" + \"%b\" + \"-\" + \"%Y\"))\n",
      "w.get_sheet(0).write(1,6, time.strftime(\"%H:%M\"))\n",
      "w.get_sheet(0).write(1,7, tiran)\n",
      "\n",
      "w.save('/home/wcmckee/whai/index.xls')"
     ],
     "language": "python",
     "metadata": {},
     "outputs": [],
     "prompt_number": 132
    },
    {
     "cell_type": "code",
     "collapsed": false,
     "input": [
      "indsav = ('/home/wcmckee/whai/index.html')"
     ],
     "language": "python",
     "metadata": {},
     "outputs": [],
     "prompt_number": 133
    },
    {
     "cell_type": "code",
     "collapsed": false,
     "input": [
      "opind = open(indsav, 'w')"
     ],
     "language": "python",
     "metadata": {},
     "outputs": [],
     "prompt_number": 134
    },
    {
     "cell_type": "code",
     "collapsed": false,
     "input": [
      "import dominate\n",
      "from dominate.tags import *\n",
      "\n",
      "doc = dominate.document(title=wrkbook.sheet_names())\n",
      "\n",
      "with doc.head:\n",
      "    link(rel='stylesheet', href='style.css')\n",
      "    script(type='text/javascript', src='script.js')\n",
      "\n",
      "with doc:\n",
      "    with div(id='header').add(ol()):\n",
      "        for i in valis:\n",
      "            li(a(i))\n",
      "\n",
      "    with div():\n",
      "        attr(cls='body')\n",
      "        p('visitor sign database is open source. Visit https://github.com/wcmckee/wcmckee ')\n",
      "\n",
      "print doc"
     ],
     "language": "python",
     "metadata": {},
     "outputs": [
      {
       "output_type": "stream",
       "stream": "stdout",
       "text": [
        "<!DOCTYPE html>\n",
        "<html>\n",
        "  <head>\n",
        "    <title>visitor sign database</title>\n",
        "    <link href=\"style.css\" rel=\"stylesheet\">\n",
        "    <script src=\"script.js\" type=\"text/javascript\"></script>\n",
        "  </head>\n",
        "  <body>\n",
        "    <div id=\"header\">\n",
        "      <ol>\n",
        "        <li>\n",
        "          <a>10-Oct-2014</a>\n",
        "        </li>\n",
        "        <li>\n",
        "          <a>21:44</a>\n",
        "        </li>\n",
        "        <li>\n",
        "          <a>d590ef04f82e687eaf7584ef14c05bc074a99221f6b795d3a832dc0f7804b1f5a8af8978745ba1de227bcff85df4c6281fe6aa805e7e4ca136409ed69bcdb3543add71e1042aee18442cc889b9d2b72745ed5fc32c5288df80b1271c348d7a398b125f93f31ca3843843479b7711d518ed8e51df3f1ad607a1ab501f241ee782</a>\n",
        "        </li>\n",
        "        <li>\n",
        "          <a>William Mckee</a>\n",
        "        </li>\n",
        "        <li>\n",
        "          <a>ESW</a>\n",
        "        </li>\n",
        "        <li>\n",
        "          <a></a>\n",
        "        </li>\n",
        "        <li>\n",
        "          <a></a>\n",
        "        </li>\n",
        "        <li>\n",
        "          <a></a>\n",
        "        </li>\n",
        "      </ol>\n",
        "    </div>\n",
        "    <div class=\"body\">\n",
        "      <p>visitor sign database is open source. Visit https://github.com/wcmckee/wcmckee </p>\n",
        "    </div>\n",
        "  </body>\n",
        "</html>\n"
       ]
      }
     ],
     "prompt_number": 61
    },
    {
     "cell_type": "code",
     "collapsed": false,
     "input": [
      "opind.write(str(doc))\n"
     ],
     "language": "python",
     "metadata": {},
     "outputs": [],
     "prompt_number": 135
    },
    {
     "cell_type": "code",
     "collapsed": false,
     "input": [
      "opind.close()"
     ],
     "language": "python",
     "metadata": {},
     "outputs": [],
     "prompt_number": 136
    },
    {
     "cell_type": "code",
     "collapsed": false,
     "input": [
      "liop = open('/home/wcmckee/visignsys/index.meta', 'a+')\n",
      "liop.write(str(signkeys))\n",
      "liop.close()"
     ],
     "language": "python",
     "metadata": {},
     "outputs": [],
     "prompt_number": 137
    },
    {
     "cell_type": "code",
     "collapsed": false,
     "input": [
      "oplis = open('/home/wcmckee/visignsys/index.meta', 'r')\n",
      "oplsav = oplis.read()\n",
      "oplis.close()"
     ],
     "language": "python",
     "metadata": {},
     "outputs": [],
     "prompt_number": 138
    },
    {
     "cell_type": "code",
     "collapsed": false,
     "input": [
      "trsor = tiran[0:12]"
     ],
     "language": "python",
     "metadata": {},
     "outputs": [],
     "prompt_number": 139
    },
    {
     "cell_type": "code",
     "collapsed": false,
     "input": [
      "trsor"
     ],
     "language": "python",
     "metadata": {},
     "outputs": [
      {
       "metadata": {},
       "output_type": "pyout",
       "prompt_number": 140,
       "text": [
        "'70f8ec461462'"
       ]
      }
     ],
     "prompt_number": 140
    },
    {
     "cell_type": "code",
     "collapsed": false,
     "input": [
      "optrd = open('/home/wcmckee/visignsys/posts/' + trsor + '.meta', 'w')\n",
      "optrd.write(oplsav)\n",
      "optrd.close()"
     ],
     "language": "python",
     "metadata": {},
     "outputs": [],
     "prompt_number": 141
    },
    {
     "cell_type": "code",
     "collapsed": false,
     "input": [
      "oplsav"
     ],
     "language": "python",
     "metadata": {},
     "outputs": [
      {
       "metadata": {},
       "output_type": "pyout",
       "prompt_number": 142,
       "text": [
        "\"['ESW', 'William Mckee', '06:03', '11-Oct-2014']['06:06', '11-Oct-2014']\""
       ]
      }
     ],
     "prompt_number": 142
    }
   ],
   "metadata": {}
  }
 ]
}