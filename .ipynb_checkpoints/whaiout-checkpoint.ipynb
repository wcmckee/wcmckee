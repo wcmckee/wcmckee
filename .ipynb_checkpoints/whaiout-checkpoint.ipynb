{
 "metadata": {
  "name": "",
  "signature": "sha256:2201b4c6c98d2344c7929cce7ec82ae6069b1e57bfd5512d0f0026e2b08440af"
 },
 "nbformat": 3,
 "nbformat_minor": 0,
 "worksheets": [
  {
   "cells": [
    {
     "cell_type": "markdown",
     "metadata": {},
     "source": [
      "This is the signout script that opens the xl file and fill in signout info.\n",
      "\n",
      "Opens up list of signin data. This is date of sign in, time, name, and reason.\n",
      "This is .meta. This script appends sign out data. This is signout date, signout time, and comments.\n",
      "\n",
      "8 urandom 128 keys are generated. Used these in saving the achieve, as .html, and .meta files.\n",
      "\n",
      "creates date and time mark and asks for comment"
     ]
    },
    {
     "cell_type": "code",
     "collapsed": false,
     "input": [
      "import xlrd\n",
      "import os\n",
      "import time\n",
      "from xlutils.copy import copy\n",
      "from xlrd import *\n",
      "import dominate\n",
      "import json"
     ],
     "language": "python",
     "metadata": {},
     "outputs": [],
     "prompt_number": 1
    },
    {
     "cell_type": "code",
     "collapsed": false,
     "input": [
      "wrkbook = xlrd.open_workbook('/home/wcmckee/whai/index.xls')"
     ],
     "language": "python",
     "metadata": {},
     "outputs": [],
     "prompt_number": 2
    },
    {
     "cell_type": "code",
     "collapsed": false,
     "input": [
      "#print wrkbook.sheet_names()\n",
      "\n",
      "worksheet = wrkbook.sheet_by_name('visitor sign database')\n",
      "swlis = []\n",
      "num_rows = worksheet.nrows - 1\n",
      "curr_row = -1\n",
      "while curr_row < num_rows:\n",
      "    curr_row += 1\n",
      "    row = worksheet.row(curr_row)\n",
      "    #print row\n",
      "    swlis.append(row)"
     ],
     "language": "python",
     "metadata": {},
     "outputs": [],
     "prompt_number": 3
    },
    {
     "cell_type": "code",
     "collapsed": false,
     "input": [
      "valis = []"
     ],
     "language": "python",
     "metadata": {},
     "outputs": [],
     "prompt_number": 4
    },
    {
     "cell_type": "code",
     "collapsed": false,
     "input": [
      "for swl in swlis[1]:\n",
      "    print swl.value\n",
      "    valis.append(swl.value)"
     ],
     "language": "python",
     "metadata": {},
     "outputs": [
      {
       "output_type": "stream",
       "stream": "stdout",
       "text": [
        "20-Oct-2014\n",
        "07:15\n",
        "bc157cd38f17cf856e8128f1f66016d226262f014304f678b7ef92de5cdba1199ca0f64eb114ce66502fc7baed9e4dc3e4ee66de8463b71ccbd67d92e5c1576545bbf70e09902b4a50e0a6ea11e1c8437c8e3a8d6ac1b7b0a5c6425b7972f33705914f4ef56176ec9d83158566d96bb4b0c7acd79c17f0b6ec37af470762ff92\n",
        "William Mckee\n",
        "ESW\n",
        "26-Oct-2014\n",
        "10:20\n",
        "d48907cda811d7d3489dc5ca0b15d9c7ca8f83855989535c9091ee23fed50ee62f2a509d62c62aed42202ada424ab63fd338901514ea5f1ccced6f63f3a346bde05a4f6125d93f7b76c246aec55c8c888762795d6bf700d4d9df957d38f93a7ce383452bc493beb43b6060b7c6b07e0e1d4e90a306ed6d44e00e3ddc989a424e\n"
       ]
      }
     ],
     "prompt_number": 5
    },
    {
     "cell_type": "code",
     "collapsed": false,
     "input": [
      "tiran = os.urandom(128).encode('hex')\n",
      "reran = os.urandom(128).encode('hex')\n",
      "comran = os.urandom(128).encode('hex')"
     ],
     "language": "python",
     "metadata": {},
     "outputs": [],
     "prompt_number": 6
    },
    {
     "cell_type": "code",
     "collapsed": false,
     "input": [
      "inpcom = raw_input('comment: ')"
     ],
     "language": "python",
     "metadata": {},
     "outputs": [
      {
       "name": "stdout",
       "output_type": "stream",
       "stream": "stdout",
       "text": [
        "comment: watching Seymour file\n"
       ]
      }
     ],
     "prompt_number": 8
    },
    {
     "cell_type": "code",
     "collapsed": false,
     "input": [
      "endate = time.strftime(\"%d\" + \"-\" + \"%b\" + \"-\" + \"%Y\")\n",
      "          \n",
      "entim = time.strftime(\"%H:%M\")"
     ],
     "language": "python",
     "metadata": {},
     "outputs": [],
     "prompt_number": 9
    },
    {
     "cell_type": "code",
     "collapsed": false,
     "input": [
      "snoutm = {'out-date': endate}\n",
      "snoutm.update({'out-time': entim})\n",
      "snoutm.update({'out-comment': inpcom})"
     ],
     "language": "python",
     "metadata": {},
     "outputs": [],
     "prompt_number": 10
    },
    {
     "cell_type": "code",
     "collapsed": false,
     "input": [
      "signoutdic = {endate: tiran}\n",
      "timoutdic = {entim: reran}"
     ],
     "language": "python",
     "metadata": {},
     "outputs": [],
     "prompt_number": 11
    },
    {
     "cell_type": "code",
     "collapsed": false,
     "input": [
      "signoutdic.update({entim:reran})"
     ],
     "language": "python",
     "metadata": {},
     "outputs": [],
     "prompt_number": 12
    },
    {
     "cell_type": "code",
     "collapsed": false,
     "input": [
      "signoutdic.update({inpcom: comran})"
     ],
     "language": "python",
     "metadata": {},
     "outputs": [],
     "prompt_number": 13
    },
    {
     "cell_type": "code",
     "collapsed": false,
     "input": [
      "signkeys = signoutdic.keys()"
     ],
     "language": "python",
     "metadata": {},
     "outputs": [],
     "prompt_number": 14
    },
    {
     "cell_type": "code",
     "collapsed": false,
     "input": [
      "\n",
      "w = copy(open_workbook('/home/wcmckee/whai/index.xls'))\n",
      "w.get_sheet(0).write(1,5, time.strftime(\"%d\" + \"-\" + \"%b\" + \"-\" + \"%Y\"))\n",
      "w.get_sheet(0).write(1,6, time.strftime(\"%H:%M\"))\n",
      "w.get_sheet(0).write(1,7, tiran)\n",
      "\n",
      "w.save('/home/wcmckee/whai/index.xls')"
     ],
     "language": "python",
     "metadata": {},
     "outputs": [],
     "prompt_number": 15
    },
    {
     "cell_type": "code",
     "collapsed": false,
     "input": [
      "indsav = ('/home/wcmckee/whai/index.html')"
     ],
     "language": "python",
     "metadata": {},
     "outputs": [],
     "prompt_number": 16
    },
    {
     "cell_type": "code",
     "collapsed": false,
     "input": [
      "opind = open(indsav, 'w')"
     ],
     "language": "python",
     "metadata": {},
     "outputs": [],
     "prompt_number": 17
    },
    {
     "cell_type": "code",
     "collapsed": false,
     "input": [
      "import dominate\n",
      "from dominate.tags import *\n",
      "\n",
      "doc = dominate.document(title=wrkbook.sheet_names())\n",
      "\n",
      "with doc.head:\n",
      "    link(rel='stylesheet', href='style.css')\n",
      "    script(type='text/javascript', src='script.js')\n",
      "\n",
      "with doc:\n",
      "    with div(id='header').add(ol()):\n",
      "        for i in valis:\n",
      "            li(a(i))\n",
      "\n",
      "    with div():\n",
      "        attr(cls='body')\n",
      "        p('visitor sign database is open source. Visit https://github.com/wcmckee/wcmckee ')\n",
      "\n",
      "#print doc"
     ],
     "language": "python",
     "metadata": {},
     "outputs": [],
     "prompt_number": 18
    },
    {
     "cell_type": "code",
     "collapsed": false,
     "input": [
      "opind.write(str(doc))\n"
     ],
     "language": "python",
     "metadata": {},
     "outputs": [],
     "prompt_number": 19
    },
    {
     "cell_type": "code",
     "collapsed": false,
     "input": [
      "opind.close()"
     ],
     "language": "python",
     "metadata": {},
     "outputs": [],
     "prompt_number": 20
    },
    {
     "cell_type": "code",
     "collapsed": false,
     "input": [
      "liop = open('/home/wcmckee/visignsys/index.meta', 'a+')\n",
      "liop.write(str(signkeys))\n",
      "liop.close()"
     ],
     "language": "python",
     "metadata": {},
     "outputs": [],
     "prompt_number": 21
    },
    {
     "cell_type": "code",
     "collapsed": false,
     "input": [],
     "language": "python",
     "metadata": {},
     "outputs": [],
     "prompt_number": 21
    },
    {
     "cell_type": "code",
     "collapsed": false,
     "input": [
      "oplis = open('/home/wcmckee/visignsys/index.meta', 'r')\n",
      "oplsav = oplis.read()\n",
      "oplis.close()"
     ],
     "language": "python",
     "metadata": {},
     "outputs": [],
     "prompt_number": 22
    },
    {
     "cell_type": "code",
     "collapsed": false,
     "input": [
      "trsor = tiran[0:12]"
     ],
     "language": "python",
     "metadata": {},
     "outputs": [],
     "prompt_number": 23
    },
    {
     "cell_type": "code",
     "collapsed": false,
     "input": [
      "trsor"
     ],
     "language": "python",
     "metadata": {},
     "outputs": [
      {
       "metadata": {},
       "output_type": "pyout",
       "prompt_number": 24,
       "text": [
        "'488436604567'"
       ]
      }
     ],
     "prompt_number": 24
    },
    {
     "cell_type": "code",
     "collapsed": false,
     "input": [
      "optrd = open('/home/wcmckee/visignsys/posts/' + trsor + '.meta', 'w')\n",
      "optrd.write(oplsav)\n",
      "optrd.close()"
     ],
     "language": "python",
     "metadata": {},
     "outputs": [],
     "prompt_number": 25
    },
    {
     "cell_type": "code",
     "collapsed": false,
     "input": [
      "jsnrd = open('/home/wcmckee/visignsys/posts/' + trsor + '.json', 'w')\n",
      "jsnrd.write(oplsav)\n",
      "jsnrd.close()"
     ],
     "language": "python",
     "metadata": {},
     "outputs": [],
     "prompt_number": 26
    },
    {
     "cell_type": "code",
     "collapsed": false,
     "input": [
      "savpos = open('/home/wcmckee/visignsys/index.json', 'r')\n",
      "signindi = savpos.read()"
     ],
     "language": "python",
     "metadata": {},
     "outputs": [],
     "prompt_number": 27
    },
    {
     "cell_type": "code",
     "collapsed": false,
     "input": [
      "jsnaccept = signindi.replace(\"'\", \"\\\"\")\n",
      "d = json.loads(jsnaccept)"
     ],
     "language": "python",
     "metadata": {},
     "outputs": [],
     "prompt_number": 28
    },
    {
     "cell_type": "code",
     "collapsed": false,
     "input": [
      "snct = dict(d.items() + snoutm.items())"
     ],
     "language": "python",
     "metadata": {},
     "outputs": [],
     "prompt_number": 29
    },
    {
     "cell_type": "code",
     "collapsed": false,
     "input": [
      "savpos.close()"
     ],
     "language": "python",
     "metadata": {},
     "outputs": [],
     "prompt_number": 30
    },
    {
     "cell_type": "code",
     "collapsed": false,
     "input": [
      "os.chdir('/home/wcmckee/visignsys/posts')"
     ],
     "language": "python",
     "metadata": {},
     "outputs": [],
     "prompt_number": 40
    },
    {
     "cell_type": "code",
     "collapsed": false,
     "input": [
      "lismet = os.listdir('/home/wcmckee/visignsys/posts')"
     ],
     "language": "python",
     "metadata": {},
     "outputs": [],
     "prompt_number": 41
    },
    {
     "cell_type": "code",
     "collapsed": false,
     "input": [
      "lismet"
     ],
     "language": "python",
     "metadata": {},
     "outputs": [
      {
       "metadata": {},
       "output_type": "pyout",
       "prompt_number": 42,
       "text": [
        "['df5aed94d944.meta',\n",
        " '5e98dfab4326.json',\n",
        " '8bf3b3c045b2.json',\n",
        " '5e98dfab4326.html',\n",
        " '2ce7b7e78b2d.meta',\n",
        " 'a5fd59588711.html',\n",
        " '8bf3b3c045b2.meta',\n",
        " '4a1d7fbd4af7.html',\n",
        " '81ae6564478e.meta',\n",
        " '1ca6f0c7d074.html',\n",
        " 'be7f3bba40a9.json',\n",
        " '1bca31594654.html',\n",
        " 'be7f3bba40a9.html',\n",
        " '81ae6564478e.json',\n",
        " 'be7f3bba40a9.meta',\n",
        " 'd948bc2cb2d5.meta',\n",
        " '469b6be62e65.json',\n",
        " 'f63a51c5660b.json',\n",
        " 'f63a51c5660b.html',\n",
        " '4a1d7fbd4af7.json',\n",
        " 'd7bfad4d84af.meta',\n",
        " '91ece852eb61.meta',\n",
        " '086ef98a8bea.meta',\n",
        " '231f0cbc6422.html',\n",
        " '1ca6f0c7d074.meta',\n",
        " '5e98dfab4326.meta',\n",
        " '9479b52fcb96.meta',\n",
        " 'a5fd59588711.meta',\n",
        " '6e8165886873.json',\n",
        " '3342b7e37622.json',\n",
        " '231f0cbc6422.meta',\n",
        " '1ca6f0c7d074.json',\n",
        " 'd948bc2cb2d5.html',\n",
        " '4a1d7fbd4af7.meta',\n",
        " '6e8165886873.meta',\n",
        " 'a5fd59588711.json',\n",
        " '6dbfbbb9c12e.html',\n",
        " '81ae6564478e.html',\n",
        " 'd7bfad4d84af.json',\n",
        " '231f0cbc6422.json',\n",
        " 'df5aed94d944.html',\n",
        " '469b6be62e65.meta',\n",
        " '9479b52fcb96.json',\n",
        " 'f63a51c5660b.meta',\n",
        " '2ce7b7e78b2d.json',\n",
        " 'df5aed94d944.json',\n",
        " '3342b7e37622.meta',\n",
        " '1bca31594654.meta',\n",
        " '1bca31594654.json',\n",
        " '6dbfbbb9c12e.meta',\n",
        " '086ef98a8bea.json',\n",
        " 'd948bc2cb2d5.json']"
       ]
      }
     ],
     "prompt_number": 42
    },
    {
     "cell_type": "code",
     "collapsed": false,
     "input": [
      "opjsnz = []"
     ],
     "language": "python",
     "metadata": {},
     "outputs": [],
     "prompt_number": 51
    },
    {
     "cell_type": "code",
     "collapsed": false,
     "input": [
      "for beca in lismet:\n",
      "    if '.json' in beca:\n",
      "        print beca\n",
      "        opjsnz.append(beca)"
     ],
     "language": "python",
     "metadata": {},
     "outputs": [
      {
       "output_type": "stream",
       "stream": "stdout",
       "text": [
        "5e98dfab4326.json\n",
        "8bf3b3c045b2.json\n",
        "be7f3bba40a9.json\n",
        "81ae6564478e.json\n",
        "469b6be62e65.json\n",
        "f63a51c5660b.json\n",
        "4a1d7fbd4af7.json\n",
        "6e8165886873.json\n",
        "3342b7e37622.json\n",
        "1ca6f0c7d074.json\n",
        "a5fd59588711.json\n",
        "d7bfad4d84af.json\n",
        "231f0cbc6422.json\n",
        "9479b52fcb96.json\n",
        "2ce7b7e78b2d.json\n",
        "df5aed94d944.json\n",
        "1bca31594654.json\n",
        "086ef98a8bea.json\n",
        "d948bc2cb2d5.json\n"
       ]
      }
     ],
     "prompt_number": 52
    },
    {
     "cell_type": "code",
     "collapsed": false,
     "input": [
      "optjz = []"
     ],
     "language": "python",
     "metadata": {},
     "outputs": [],
     "prompt_number": 53
    },
    {
     "cell_type": "code",
     "collapsed": false,
     "input": [
      "for opj in opjsnz:\n",
      "    print opj\n",
      "    optjz.append(obj)\n",
      "    "
     ],
     "language": "python",
     "metadata": {},
     "outputs": []
    },
    {
     "cell_type": "code",
     "collapsed": false,
     "input": [
      "opt = open(opj, 'r')"
     ],
     "language": "python",
     "metadata": {},
     "outputs": [],
     "prompt_number": 55
    },
    {
     "cell_type": "code",
     "collapsed": false,
     "input": [
      "thedict = opt.read()"
     ],
     "language": "python",
     "metadata": {},
     "outputs": [],
     "prompt_number": 56
    },
    {
     "cell_type": "code",
     "collapsed": false,
     "input": [
      "thedict"
     ],
     "language": "python",
     "metadata": {},
     "outputs": [
      {
       "metadata": {},
       "output_type": "pyout",
       "prompt_number": 60,
       "text": [
        "'{\"signin hrmin\": \"16:04\", \"reason\": \"ESW\", \"name\": \"William Mckee\", \"signin date\": \"15-Oct-2014\", \"signin comment\": \"looking forward to a fun day\"}'"
       ]
      }
     ],
     "prompt_number": 60
    },
    {
     "cell_type": "raw",
     "metadata": {},
     "source": []
    }
   ],
   "metadata": {}
  }
 ]
}