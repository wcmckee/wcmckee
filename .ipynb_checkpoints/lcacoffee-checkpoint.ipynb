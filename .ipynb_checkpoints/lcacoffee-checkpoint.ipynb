{
 "cells": [
  {
   "cell_type": "markdown",
   "metadata": {},
   "source": [
    "<h1>lcacoffee</h1>\n",
    "\n",
    "script that displays coffees sold by hour at lca2015.\n",
    "Currently it opens a .json file and converts it into a python dict. "
   ]
  },
  {
   "cell_type": "code",
   "execution_count": 40,
   "metadata": {
    "collapsed": false
   },
   "outputs": [],
   "source": [
    "import json\n",
    "import os\n",
    "import pandas"
   ]
  },
  {
   "cell_type": "code",
   "execution_count": 22,
   "metadata": {
    "collapsed": true
   },
   "outputs": [],
   "source": [
    "opcvs = open('/home/wcmckee/Downloads/convertcsv.json', 'r')"
   ]
  },
  {
   "cell_type": "code",
   "execution_count": 23,
   "metadata": {
    "collapsed": false
   },
   "outputs": [],
   "source": [
    "opzrd = opcvs.read()"
   ]
  },
  {
   "cell_type": "code",
   "execution_count": 24,
   "metadata": {
    "collapsed": false
   },
   "outputs": [],
   "source": [
    "jdunp = json.loads(opzrd)"
   ]
  },
  {
   "cell_type": "code",
   "execution_count": 25,
   "metadata": {
    "collapsed": true
   },
   "outputs": [],
   "source": [
    "valia = []"
   ]
  },
  {
   "cell_type": "code",
   "execution_count": 41,
   "metadata": {
    "collapsed": false
   },
   "outputs": [
    {
     "ename": "TypeError",
     "evalue": "Expected String or Unicode",
     "output_type": "error",
     "traceback": [
      "\u001b[1;31m---------------------------------------------------------------------------\u001b[0m",
      "\u001b[1;31mTypeError\u001b[0m                                 Traceback (most recent call last)",
      "\u001b[1;32m<ipython-input-41-c0c64dcef8d2>\u001b[0m in \u001b[0;36m<module>\u001b[1;34m()\u001b[0m\n\u001b[1;32m----> 1\u001b[1;33m \u001b[0mpandas\u001b[0m\u001b[1;33m.\u001b[0m\u001b[0mread_json\u001b[0m\u001b[1;33m(\u001b[0m\u001b[0mjdunp\u001b[0m\u001b[1;33m)\u001b[0m\u001b[1;33m\u001b[0m\u001b[0m\n\u001b[0m",
      "\u001b[1;32m/usr/lib/python2.7/dist-packages/pandas/io/json.pyc\u001b[0m in \u001b[0;36mread_json\u001b[1;34m(path_or_buf, orient, typ, dtype, convert_axes, convert_dates, keep_default_dates, numpy, precise_float, date_unit)\u001b[0m\n\u001b[0;32m    196\u001b[0m         obj = FrameParser(json, orient, dtype, convert_axes, convert_dates,\n\u001b[0;32m    197\u001b[0m                           \u001b[0mkeep_default_dates\u001b[0m\u001b[1;33m,\u001b[0m \u001b[0mnumpy\u001b[0m\u001b[1;33m,\u001b[0m \u001b[0mprecise_float\u001b[0m\u001b[1;33m,\u001b[0m\u001b[1;33m\u001b[0m\u001b[0m\n\u001b[1;32m--> 198\u001b[1;33m                           date_unit).parse()\n\u001b[0m\u001b[0;32m    199\u001b[0m \u001b[1;33m\u001b[0m\u001b[0m\n\u001b[0;32m    200\u001b[0m     \u001b[1;32mif\u001b[0m \u001b[0mtyp\u001b[0m \u001b[1;33m==\u001b[0m \u001b[1;34m'series'\u001b[0m \u001b[1;32mor\u001b[0m \u001b[0mobj\u001b[0m \u001b[1;32mis\u001b[0m \u001b[0mNone\u001b[0m\u001b[1;33m:\u001b[0m\u001b[1;33m\u001b[0m\u001b[0m\n",
      "\u001b[1;32m/usr/lib/python2.7/dist-packages/pandas/io/json.pyc\u001b[0m in \u001b[0;36mparse\u001b[1;34m(self)\u001b[0m\n\u001b[0;32m    264\u001b[0m \u001b[1;33m\u001b[0m\u001b[0m\n\u001b[0;32m    265\u001b[0m         \u001b[1;32melse\u001b[0m\u001b[1;33m:\u001b[0m\u001b[1;33m\u001b[0m\u001b[0m\n\u001b[1;32m--> 266\u001b[1;33m             \u001b[0mself\u001b[0m\u001b[1;33m.\u001b[0m\u001b[0m_parse_no_numpy\u001b[0m\u001b[1;33m(\u001b[0m\u001b[1;33m)\u001b[0m\u001b[1;33m\u001b[0m\u001b[0m\n\u001b[0m\u001b[0;32m    267\u001b[0m \u001b[1;33m\u001b[0m\u001b[0m\n\u001b[0;32m    268\u001b[0m         \u001b[1;32mif\u001b[0m \u001b[0mself\u001b[0m\u001b[1;33m.\u001b[0m\u001b[0mobj\u001b[0m \u001b[1;32mis\u001b[0m \u001b[0mNone\u001b[0m\u001b[1;33m:\u001b[0m\u001b[1;33m\u001b[0m\u001b[0m\n",
      "\u001b[1;32m/usr/lib/python2.7/dist-packages/pandas/io/json.pyc\u001b[0m in \u001b[0;36m_parse_no_numpy\u001b[1;34m(self)\u001b[0m\n\u001b[0;32m    481\u001b[0m         \u001b[1;32mif\u001b[0m \u001b[0morient\u001b[0m \u001b[1;33m==\u001b[0m \u001b[1;34m\"columns\"\u001b[0m\u001b[1;33m:\u001b[0m\u001b[1;33m\u001b[0m\u001b[0m\n\u001b[0;32m    482\u001b[0m             self.obj = DataFrame(\n\u001b[1;32m--> 483\u001b[1;33m                 loads(json, precise_float=self.precise_float), dtype=None)\n\u001b[0m\u001b[0;32m    484\u001b[0m         \u001b[1;32melif\u001b[0m \u001b[0morient\u001b[0m \u001b[1;33m==\u001b[0m \u001b[1;34m\"split\"\u001b[0m\u001b[1;33m:\u001b[0m\u001b[1;33m\u001b[0m\u001b[0m\n\u001b[0;32m    485\u001b[0m             decoded = dict((str(k), v)\n",
      "\u001b[1;31mTypeError\u001b[0m: Expected String or Unicode"
     ]
    }
   ],
   "source": [
    "pandas.read_json(jdunp)"
   ]
  },
  {
   "cell_type": "code",
   "execution_count": 27,
   "metadata": {
    "collapsed": false
   },
   "outputs": [
    {
     "data": {
      "text/plain": [
       "0"
      ]
     },
     "execution_count": 27,
     "metadata": {},
     "output_type": "execute_result"
    }
   ],
   "source": [
    "jdunp.count(int)"
   ]
  },
  {
   "cell_type": "code",
   "execution_count": 47,
   "metadata": {
    "collapsed": false
   },
   "outputs": [
    {
     "data": {
      "text/plain": [
       "7"
      ]
     },
     "execution_count": 47,
     "metadata": {},
     "output_type": "execute_result"
    }
   ],
   "source": [
    "len(jdunp)"
   ]
  },
  {
   "cell_type": "markdown",
   "metadata": {},
   "source": [
    "ok if i cycle through jdunp between 0 and 23 i get the results.\n",
    "\n",
    "cycle through ints but as a string. must add ' '"
   ]
  },
  {
   "cell_type": "code",
   "execution_count": 67,
   "metadata": {
    "collapsed": false
   },
   "outputs": [
    {
     "name": "stdout",
     "output_type": "stream",
     "text": [
      "'0'\n",
      "'1'\n",
      "'2'\n",
      "'3'\n",
      "'4'\n",
      "'5'\n",
      "'6'\n",
      "'7'\n",
      "'8'\n",
      "'9'\n",
      "'10'\n",
      "'11'\n",
      "'12'\n",
      "'13'\n",
      "'14'\n",
      "'15'\n",
      "'16'\n",
      "'17'\n",
      "'18'\n",
      "'19'\n",
      "'20'\n",
      "'21'\n",
      "'22'\n",
      "'23'\n"
     ]
    }
   ],
   "source": [
    "for numtwn in range(0,24):\n",
    "    print \"'\" + str(numtwn) + \"'\""
   ]
  },
  {
   "cell_type": "code",
   "execution_count": 71,
   "metadata": {
    "collapsed": false
   },
   "outputs": [
    {
     "name": "stdout",
     "output_type": "stream",
     "text": [
      "- -\n",
      "- -\n",
      "- -\n",
      "- -\n",
      "- -\n",
      "- -\n",
      "- -\n"
     ]
    }
   ],
   "source": [
    "for jdr in jdunp:\n",
    "    print jdr['0']"
   ]
  },
  {
   "cell_type": "code",
   "execution_count": 74,
   "metadata": {
    "collapsed": false
   },
   "outputs": [
    {
     "name": "stdout",
     "output_type": "stream",
     "text": [
      "'0'\n",
      "'1'\n",
      "'2'\n",
      "'3'\n",
      "'4'\n",
      "'5'\n",
      "'6'\n",
      "'7'\n",
      "'8'\n",
      "'9'\n",
      "'10'\n",
      "'11'\n",
      "'12'\n",
      "'13'\n",
      "'14'\n",
      "'15'\n",
      "'16'\n",
      "'17'\n",
      "'18'\n",
      "'19'\n",
      "'20'\n",
      "'21'\n",
      "'22'\n",
      "'23'\n"
     ]
    }
   ],
   "source": [
    "for numtwn in range(0,24):\n",
    "        print \"'\" + str(numtwn) + \"'\""
   ]
  },
  {
   "cell_type": "code",
   "execution_count": 29,
   "metadata": {
    "collapsed": false
   },
   "outputs": [
    {
     "name": "stdout",
     "output_type": "stream",
     "text": [
      "[u'- -', u'- -', u'- -', u'- -', u'- -', u'- -', u'- -', u'- -', u'- -', u'- -', u'- -', u'- -', u'- -', u'- -', u' 17 Jan 2015', u'', u'Sat', u'- -', u'- -', u'- -', u'- -', u'- -', u'- -', u'- -', u'- -', u'- -', u'- -']\n",
      "[u'- -', u'- -', u'- -', u'- -', u'- -', u'- -', u'- -', u'- -', u'- -', u'- -', u'- -', u'- -', u'- -', u'- -', u' 11 Jan 2015', u'', u'Sun', u'- -', u'- -', u'- -', u'4 (1)', u'0 (9)', u'12 (30)', u'0 (3)', u'8 (9)', u'- -', u'- -']\n",
      "[u'- -', u'- -', u'- -', u'- -', u'- -', u'- -', u'- -', u'- -', u'- -', u'- -', u'12 (21)', u'- -', u'8 (15)', u'104 (128)', u' 16 Jan 2015', u'', u'Fri', u'24 (30)', u'112 (131)', u'- -', u'- -', u'- -', u'- -', u'- -', u'- -', u'- -', u'- -']\n",
      "[u'- -', u'- -', u'- -', u'- -', u'- -', u'- -', u'- -', u'- -', u'- -', u'- -', u'8 (20)', u'- -', u'20 (25)', u'68 (115)', u' 15 Jan 2015', u'', u'Thu', u'40 (40)', u'132 (136)', u'52 (55)', u'36 (50)', u'72 (103)', u'32 (49)', u'- -', u'4 (6)', u'- -', u'- -']\n",
      "[u'- -', u'- -', u'- -', u'- -', u'- -', u'- -', u'- -', u'- -', u'- -', u'- -', u'8 (9)', u'- -', u'40 (31)', u'44 (123)', u' 12 Jan 2015', u'', u'Mon', u'4 (13)', u'20 (118)', u'8 (52)', u'12 (34)', u'12 (46)', u'4 (33)', u'- -', u'0 (1)', u'- -', u'- -']\n",
      "[u'- -', u'- -', u'- -', u'- -', u'- -', u'- -', u'- -', u'- -', u'- -', u'- -', u'4 (17)', u'- -', u'0 (23)', u'24 (109)', u' 13 Jan 2015', u'', u'Tue', u'8 (25)', u'32 (101)', u'12 (55)', u'16 (43)', u'20 (100)', u'12 (43)', u'- -', u'4 (3)', u'- -', u'- -']\n",
      "[u'- -', u'- -', u'- -', u'- -', u'- -', u'- -', u'- -', u'- -', u'- -', u'- -', u'4 (19)', u'- -', u'8 (24)', u'20 (132)', u' 14 Jan 2015', u'', u'Wed', u'12 (39)', u'32 (133)', u'56 (64)', u'16 (36)', u'52 (83)', u'44 (38)', u'- -', u'- -', u'- -', u'- -']\n"
     ]
    }
   ],
   "source": [
    "for dej in jdunp:\n",
    "    print dej.values()\n",
    "    valia.append(dej.values())"
   ]
  },
  {
   "cell_type": "code",
   "execution_count": 30,
   "metadata": {
    "collapsed": false
   },
   "outputs": [],
   "source": [
    "dezrand = len(valia)"
   ]
  },
  {
   "cell_type": "code",
   "execution_count": 31,
   "metadata": {
    "collapsed": true
   },
   "outputs": [],
   "source": [
    "azlis = []"
   ]
  },
  {
   "cell_type": "code",
   "execution_count": 32,
   "metadata": {
    "collapsed": false
   },
   "outputs": [
    {
     "name": "stdout",
     "output_type": "stream",
     "text": [
      "[u'- -', u'- -', u'- -', u'- -', u'- -', u'- -', u'- -', u'- -', u'- -', u'- -', u'- -', u'- -', u'- -', u'- -', u' 17 Jan 2015', u'', u'Sat', u'- -', u'- -', u'- -', u'- -', u'- -', u'- -', u'- -', u'- -', u'- -', u'- -']\n",
      "[u'- -', u'- -', u'- -', u'- -', u'- -', u'- -', u'- -', u'- -', u'- -', u'- -', u'- -', u'- -', u'- -', u'- -', u' 11 Jan 2015', u'', u'Sun', u'- -', u'- -', u'- -', u'4 (1)', u'0 (9)', u'12 (30)', u'0 (3)', u'8 (9)', u'- -', u'- -']\n",
      "[u'- -', u'- -', u'- -', u'- -', u'- -', u'- -', u'- -', u'- -', u'- -', u'- -', u'12 (21)', u'- -', u'8 (15)', u'104 (128)', u' 16 Jan 2015', u'', u'Fri', u'24 (30)', u'112 (131)', u'- -', u'- -', u'- -', u'- -', u'- -', u'- -', u'- -', u'- -']\n",
      "[u'- -', u'- -', u'- -', u'- -', u'- -', u'- -', u'- -', u'- -', u'- -', u'- -', u'8 (20)', u'- -', u'20 (25)', u'68 (115)', u' 15 Jan 2015', u'', u'Thu', u'40 (40)', u'132 (136)', u'52 (55)', u'36 (50)', u'72 (103)', u'32 (49)', u'- -', u'4 (6)', u'- -', u'- -']\n",
      "[u'- -', u'- -', u'- -', u'- -', u'- -', u'- -', u'- -', u'- -', u'- -', u'- -', u'8 (9)', u'- -', u'40 (31)', u'44 (123)', u' 12 Jan 2015', u'', u'Mon', u'4 (13)', u'20 (118)', u'8 (52)', u'12 (34)', u'12 (46)', u'4 (33)', u'- -', u'0 (1)', u'- -', u'- -']\n",
      "[u'- -', u'- -', u'- -', u'- -', u'- -', u'- -', u'- -', u'- -', u'- -', u'- -', u'4 (17)', u'- -', u'0 (23)', u'24 (109)', u' 13 Jan 2015', u'', u'Tue', u'8 (25)', u'32 (101)', u'12 (55)', u'16 (43)', u'20 (100)', u'12 (43)', u'- -', u'4 (3)', u'- -', u'- -']\n",
      "[u'- -', u'- -', u'- -', u'- -', u'- -', u'- -', u'- -', u'- -', u'- -', u'- -', u'4 (19)', u'- -', u'8 (24)', u'20 (132)', u' 14 Jan 2015', u'', u'Wed', u'12 (39)', u'32 (133)', u'56 (64)', u'16 (36)', u'52 (83)', u'44 (38)', u'- -', u'- -', u'- -', u'- -']\n"
     ]
    }
   ],
   "source": [
    "for vals in valia:    \n",
    "    print vals\n",
    "    azlis.append(vals)"
   ]
  },
  {
   "cell_type": "markdown",
   "metadata": {},
   "source": [
    "I need to filter the - - from the results. I really only need the values that have numbers. \n",
    "\n",
    "Take number in brackets away from number not in brackets. \n",
    "The number in brackets is total amount of coffees sold. The number not in brackets is amount of volchers used. \n",
    "The number that I get when i take away is the coffee sold without volchers. \n",
    "\n",
    "New dict that shows only the times that coffee were sold and the amount of coffgfges that were solf. Maybe that would works. "
   ]
  },
  {
   "cell_type": "code",
   "execution_count": 33,
   "metadata": {
    "collapsed": true
   },
   "outputs": [],
   "source": [
    "betra = []"
   ]
  },
  {
   "cell_type": "code",
   "execution_count": 34,
   "metadata": {
    "collapsed": false
   },
   "outputs": [],
   "source": [
    "for azl in azlis:\n",
    "    betra.append(azl)"
   ]
  },
  {
   "cell_type": "code",
   "execution_count": 35,
   "metadata": {
    "collapsed": true
   },
   "outputs": [],
   "source": [
    "anoe = []\n",
    "anez = []"
   ]
  },
  {
   "cell_type": "code",
   "execution_count": 36,
   "metadata": {
    "collapsed": false
   },
   "outputs": [],
   "source": [
    "for betr in betra:\n",
    "    betr.append(anoe)"
   ]
  },
  {
   "cell_type": "code",
   "execution_count": 37,
   "metadata": {
    "collapsed": false
   },
   "outputs": [
    {
     "name": "stdout",
     "output_type": "stream",
     "text": [
      "- -\n",
      "- -\n",
      "- -\n",
      "- -\n",
      "- -\n",
      "- -\n",
      "- -\n",
      "- -\n",
      "- -\n",
      "- -\n",
      "- -\n",
      "- -\n",
      "- -\n",
      "- -\n",
      "- -\n"
     ]
    }
   ],
   "source": [
    "for deta in betr:\n",
    "    #print deta\n",
    "    if '- -' in deta:\n",
    "        print deta\n",
    "    else:\n",
    "        anez.append(deta)"
   ]
  },
  {
   "cell_type": "code",
   "execution_count": 38,
   "metadata": {
    "collapsed": true
   },
   "outputs": [],
   "source": [
    "fdic = []"
   ]
  },
  {
   "cell_type": "code",
   "execution_count": null,
   "metadata": {
    "collapsed": true
   },
   "outputs": [],
   "source": []
  },
  {
   "cell_type": "code",
   "execution_count": 39,
   "metadata": {
    "collapsed": false
   },
   "outputs": [
    {
     "name": "stdout",
     "output_type": "stream",
     "text": [
      "4 (19)\n",
      "8 (24)\n",
      "20 (132)\n",
      " 14 Jan 2015\n",
      "\n",
      "Wed\n",
      "12 (39)\n",
      "32 (133)\n",
      "56 (64)\n",
      "16 (36)\n",
      "52 (83)\n",
      "44 (38)\n",
      "[]\n"
     ]
    }
   ],
   "source": [
    "for resut in anez:\n",
    "    print resut\n",
    "    fdic.append(resut)"
   ]
  },
  {
   "cell_type": "markdown",
   "metadata": {},
   "source": [
    "How come it is only adding the wednesday data in the results. It needs to have all the datas. \n",
    "\n",
    "Needs to take the number in brackets away from the number not in brackets."
   ]
  },
  {
   "cell_type": "code",
   "execution_count": 20,
   "metadata": {
    "collapsed": false
   },
   "outputs": [
    {
     "data": {
      "text/plain": [
       "[u'4 (19)',\n",
       " u'8 (24)',\n",
       " u'20 (132)',\n",
       " u' 14 Jan 2015',\n",
       " u'',\n",
       " u'Wed',\n",
       " u'12 (39)',\n",
       " u'32 (133)',\n",
       " u'56 (64)',\n",
       " u'16 (36)',\n",
       " u'52 (83)',\n",
       " u'44 (38)',\n",
       " []]"
      ]
     },
     "execution_count": 20,
     "metadata": {},
     "output_type": "execute_result"
    }
   ],
   "source": [
    "fdic"
   ]
  },
  {
   "cell_type": "code",
   "execution_count": 84,
   "metadata": {
    "collapsed": true
   },
   "outputs": [],
   "source": []
  },
  {
   "cell_type": "code",
   "execution_count": 84,
   "metadata": {
    "collapsed": true
   },
   "outputs": [],
   "source": []
  },
  {
   "cell_type": "code",
   "execution_count": null,
   "metadata": {
    "collapsed": true
   },
   "outputs": [],
   "source": []
  }
 ],
 "metadata": {
  "kernelspec": {
   "display_name": "Python 2",
   "name": "python2"
  },
  "language_info": {
   "codemirror_mode": {
    "name": "ipython",
    "version": 2
   },
   "file_extension": ".py",
   "mimetype": "text/x-python",
   "name": "python",
   "nbconvert_exporter": "python",
   "pygments_lexer": "ipython2",
   "version": "2.7.6"
  }
 },
 "nbformat": 4,
 "nbformat_minor": 0
}