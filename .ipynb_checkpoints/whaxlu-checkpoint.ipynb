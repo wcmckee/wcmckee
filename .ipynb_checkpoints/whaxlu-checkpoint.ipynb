{
 "metadata": {
  "name": "",
  "signature": "sha256:090f4afa1cab8953b61bce5d48cf4b1b24ae105b072e9f76f2457d456fc9682f"
 },
 "nbformat": 3,
 "nbformat_minor": 0,
 "worksheets": [
  {
   "cells": [
    {
     "cell_type": "markdown",
     "metadata": {},
     "source": [
      "visitor sign system\n",
      "\n",
      "This is a python script used to sign in and signout, keeping track of hours and creating a more automative system.\n",
      "\n",
      "Make sign in and out faster, easier to keep track of.\n",
      "\n",
      "Never forget. \n",
      "\n",
      "Auto roll check. \n",
      "\n",
      "Two random hex codes for security and correct checking. \n",
      "\n",
      "Creates xls file with data: \n",
      "input (or auto) name, reason, auto day/month/year hr/min - of signin.\n",
      "\n",
      "when launched asked if you want to signin or signout. \n",
      "\n",
      "signout - enter code of session you want to signout. "
     ]
    },
    {
     "cell_type": "code",
     "collapsed": false,
     "input": [
      "import os\n",
      "import time\n",
      "import xlutils\n",
      "import xlwt\n",
      "import xlrd\n",
      "import dominate"
     ],
     "language": "python",
     "metadata": {},
     "outputs": [],
     "prompt_number": 491
    },
    {
     "cell_type": "code",
     "collapsed": false,
     "input": [
      "mname = ('William Mckee')\n",
      "ename = ('will@artcontrol.me')\n",
      "signin = ('ESW')"
     ],
     "language": "python",
     "metadata": {},
     "outputs": [],
     "prompt_number": 458
    },
    {
     "cell_type": "code",
     "collapsed": false,
     "input": [
      "import os\n",
      "import sys\n",
      "from sqlalchemy import Column, ForeignKey, Integer, String\n",
      "from sqlalchemy.ext.declarative import declarative_base\n",
      "from sqlalchemy.orm import relationship\n",
      "from sqlalchemy import create_engine\n",
      " \n",
      "Base = declarative_base()\n",
      " \n",
      "class Person(Base):\n",
      "    __tablename__ = 'person'\n",
      "    # Here we define columns for the table person\n",
      "    # Notice that each column is also a normal Python instance attribute.\n",
      "    id = Column(Integer, primary_key=True)\n",
      "    name = Column(String(250), nullable=False)\n",
      " \n",
      "class Address(Base):\n",
      "    __tablename__ = 'address'\n",
      "    # Here we define columns for the table address.\n",
      "    # Notice that each column is also a normal Python instance attribute.\n",
      "    id = Column(Integer, primary_key=True)\n",
      "    datesignin = Column(String(250))\n",
      "    hrminsignin = Column(String(250))\n",
      "    usernamesignin = Column(String(250), nullable=False)\n",
      "    reasonsignin = Column(String(250))\n",
      "    person_id = Column(Integer, ForeignKey('person.id'))\n",
      "    person = relationship(Person)\n",
      " \n",
      "# Create an engine that stores data in the local directory's\n",
      "# sqlalchemy_example.db file.\n",
      "engine = create_engine('sqlite:///sqlalchemy_example.db')\n",
      " \n",
      "# Create a$ll tables in the engine. This is equivalent to \"Create Table\"\n",
      "# statements in raw SQL.\n",
      "Base.metadata.create_all(engine)"
     ],
     "language": "python",
     "metadata": {},
     "outputs": [],
     "prompt_number": 505
    },
    {
     "cell_type": "code",
     "collapsed": false,
     "input": [
      "from sqlalchemy import create_engine\n",
      "from sqlalchemy.orm import sessionmaker\n",
      " \n",
      "#from sqlalchemy_declarative import Address, Base, Person\n",
      " \n",
      "engine = create_engine('sqlite:///sqlalchemy_example.db')\n",
      "# Bind the engine to the metadata of the Base class so that the\n",
      "# declaratives can be accessed through a DBSession instance\n",
      "Base.metadata.bind = engine\n",
      " \n",
      "DBSession = sessionmaker(bind=engine)\n",
      "# A DBSession() instance establishes all conversations with the database\n",
      "# and represents a \"staging zone\" for all the objects loaded into the\n",
      "# database session object. Any change made against the objects in the\n",
      "# session won't be persisted into the database until you call\n",
      "# session.commit(). If you're not happy about the changes, you can\n",
      "# revert all of them back to the last commit by calling\n",
      "# session.rollback()\n",
      "session = DBSession()\n",
      " \n",
      "# Insert a Person in the person table\n",
      "new_person = Person(name='new person')\n",
      "session.add(new_person)\n",
      "session.commit()\n",
      " \n",
      "# Insert an Address in the address table\n",
      "new_address = Address(post_code='00000', person=new_person)\n",
      "session.add(new_address)\n",
      "session.commit()"
     ],
     "language": "python",
     "metadata": {},
     "outputs": [
      {
       "ename": "TypeError",
       "evalue": "'post_code' is an invalid keyword argument for Address",
       "output_type": "pyerr",
       "traceback": [
        "\u001b[1;31m---------------------------------------------------------------------------\u001b[0m\n\u001b[1;31mTypeError\u001b[0m                                 Traceback (most recent call last)",
        "\u001b[1;32m<ipython-input-508-318954ecfa71>\u001b[0m in \u001b[0;36m<module>\u001b[1;34m()\u001b[0m\n\u001b[0;32m     25\u001b[0m \u001b[1;33m\u001b[0m\u001b[0m\n\u001b[0;32m     26\u001b[0m \u001b[1;31m# Insert an Address in the address table\u001b[0m\u001b[1;33m\u001b[0m\u001b[1;33m\u001b[0m\u001b[0m\n\u001b[1;32m---> 27\u001b[1;33m \u001b[0mnew_address\u001b[0m \u001b[1;33m=\u001b[0m \u001b[0mAddress\u001b[0m\u001b[1;33m(\u001b[0m\u001b[0mpost_code\u001b[0m\u001b[1;33m=\u001b[0m\u001b[1;34m'00000'\u001b[0m\u001b[1;33m,\u001b[0m \u001b[0mperson\u001b[0m\u001b[1;33m=\u001b[0m\u001b[0mnew_person\u001b[0m\u001b[1;33m)\u001b[0m\u001b[1;33m\u001b[0m\u001b[0m\n\u001b[0m\u001b[0;32m     28\u001b[0m \u001b[0msession\u001b[0m\u001b[1;33m.\u001b[0m\u001b[0madd\u001b[0m\u001b[1;33m(\u001b[0m\u001b[0mnew_address\u001b[0m\u001b[1;33m)\u001b[0m\u001b[1;33m\u001b[0m\u001b[0m\n\u001b[0;32m     29\u001b[0m \u001b[0msession\u001b[0m\u001b[1;33m.\u001b[0m\u001b[0mcommit\u001b[0m\u001b[1;33m(\u001b[0m\u001b[1;33m)\u001b[0m\u001b[1;33m\u001b[0m\u001b[0m\n",
        "\u001b[1;32m<string>\u001b[0m in \u001b[0;36m__init__\u001b[1;34m(self, **kwargs)\u001b[0m\n",
        "\u001b[1;32m/usr/local/lib/python2.7/dist-packages/sqlalchemy/orm/state.pyc\u001b[0m in \u001b[0;36m_initialize_instance\u001b[1;34m(*mixed, **kwargs)\u001b[0m\n\u001b[0;32m    258\u001b[0m \u001b[1;33m\u001b[0m\u001b[0m\n\u001b[0;32m    259\u001b[0m         \u001b[1;32mtry\u001b[0m\u001b[1;33m:\u001b[0m\u001b[1;33m\u001b[0m\u001b[0m\n\u001b[1;32m--> 260\u001b[1;33m             \u001b[1;32mreturn\u001b[0m \u001b[0mmanager\u001b[0m\u001b[1;33m.\u001b[0m\u001b[0moriginal_init\u001b[0m\u001b[1;33m(\u001b[0m\u001b[1;33m*\u001b[0m\u001b[0mmixed\u001b[0m\u001b[1;33m[\u001b[0m\u001b[1;36m1\u001b[0m\u001b[1;33m:\u001b[0m\u001b[1;33m]\u001b[0m\u001b[1;33m,\u001b[0m \u001b[1;33m**\u001b[0m\u001b[0mkwargs\u001b[0m\u001b[1;33m)\u001b[0m\u001b[1;33m\u001b[0m\u001b[0m\n\u001b[0m\u001b[0;32m    261\u001b[0m         \u001b[1;32mexcept\u001b[0m\u001b[1;33m:\u001b[0m\u001b[1;33m\u001b[0m\u001b[0m\n\u001b[0;32m    262\u001b[0m             \u001b[0mmanager\u001b[0m\u001b[1;33m.\u001b[0m\u001b[0mdispatch\u001b[0m\u001b[1;33m.\u001b[0m\u001b[0minit_failure\u001b[0m\u001b[1;33m(\u001b[0m\u001b[0mself\u001b[0m\u001b[1;33m,\u001b[0m \u001b[0margs\u001b[0m\u001b[1;33m,\u001b[0m \u001b[0mkwargs\u001b[0m\u001b[1;33m)\u001b[0m\u001b[1;33m\u001b[0m\u001b[0m\n",
        "\u001b[1;32m/usr/local/lib/python2.7/dist-packages/sqlalchemy/ext/declarative/base.pyc\u001b[0m in \u001b[0;36m_declarative_constructor\u001b[1;34m(self, **kwargs)\u001b[0m\n\u001b[0;32m    523\u001b[0m             raise TypeError(\n\u001b[0;32m    524\u001b[0m                 \u001b[1;34m\"%r is an invalid keyword argument for %s\"\u001b[0m \u001b[1;33m%\u001b[0m\u001b[1;33m\u001b[0m\u001b[0m\n\u001b[1;32m--> 525\u001b[1;33m                 (k, cls_.__name__))\n\u001b[0m\u001b[0;32m    526\u001b[0m         \u001b[0msetattr\u001b[0m\u001b[1;33m(\u001b[0m\u001b[0mself\u001b[0m\u001b[1;33m,\u001b[0m \u001b[0mk\u001b[0m\u001b[1;33m,\u001b[0m \u001b[0mkwargs\u001b[0m\u001b[1;33m[\u001b[0m\u001b[0mk\u001b[0m\u001b[1;33m]\u001b[0m\u001b[1;33m)\u001b[0m\u001b[1;33m\u001b[0m\u001b[0m\n\u001b[0;32m    527\u001b[0m \u001b[0m_declarative_constructor\u001b[0m\u001b[1;33m.\u001b[0m\u001b[0m__name__\u001b[0m \u001b[1;33m=\u001b[0m \u001b[1;34m'__init__'\u001b[0m\u001b[1;33m\u001b[0m\u001b[0m\n",
        "\u001b[1;31mTypeError\u001b[0m: 'post_code' is an invalid keyword argument for Address"
       ]
      }
     ],
     "prompt_number": 508
    },
    {
     "cell_type": "code",
     "collapsed": false,
     "input": [
      "wrkbook = xlrd.open_workbook('/home/wcmckee/whai/index.xls')"
     ],
     "language": "python",
     "metadata": {},
     "outputs": [],
     "prompt_number": 494
    },
    {
     "cell_type": "code",
     "collapsed": false,
     "input": [
      "print wrkbook.sheet_names()\n",
      "\n",
      "worksheet = wrkbook.sheet_by_name('visitor sign database')\n"
     ],
     "language": "python",
     "metadata": {},
     "outputs": [
      {
       "output_type": "stream",
       "stream": "stdout",
       "text": [
        "[u'visitor sign database']\n"
       ]
      }
     ],
     "prompt_number": 498
    },
    {
     "cell_type": "code",
     "collapsed": false,
     "input": [
      "swlis = []"
     ],
     "language": "python",
     "metadata": {},
     "outputs": [],
     "prompt_number": 500
    },
    {
     "cell_type": "code",
     "collapsed": false,
     "input": [
      "num_rows = worksheet.nrows - 1\n",
      "curr_row = -1\n",
      "while curr_row < num_rows:\n",
      "    curr_row += 1\n",
      "    row = worksheet.row(curr_row)\n",
      "    print row\n",
      "    swlis.append(row)"
     ],
     "language": "python",
     "metadata": {},
     "outputs": [
      {
       "output_type": "stream",
       "stream": "stdout",
       "text": [
        "[text:u'In Date', text:u'In Time', text:u'In Code', text:u'Name', text:u'Reason', text:u'Out Date', text:u'Out Time', text:u'Out Code']\n",
        "[text:u'07-Oct-2014', text:u'22:32', text:u'11c7bef5f12507ce5b687a69101cb7a2041a79797981b05eebfda120101a06680b7759b5fe3ff3150e4987b46b75e51f1884fcaa4273c5cf8f06136568f3db23729706b7a59616a2fea7f8ad67fc57ba7aa8eed4548c9722f4b91ad36977e1edf70157164cfe91cc84d47ab530e32d79b86b8c3e8038b47fbc542a6dea316bba', text:u'wcmckee', text:u'lunch with mother', empty:'', empty:'', empty:'']\n"
       ]
      }
     ],
     "prompt_number": 501
    },
    {
     "cell_type": "code",
     "collapsed": false,
     "input": [
      "swlis[1]"
     ],
     "language": "python",
     "metadata": {},
     "outputs": [
      {
       "metadata": {},
       "output_type": "pyout",
       "prompt_number": 504,
       "text": [
        "[text:u'07-Oct-2014',\n",
        " text:u'22:32',\n",
        " text:u'11c7bef5f12507ce5b687a69101cb7a2041a79797981b05eebfda120101a06680b7759b5fe3ff3150e4987b46b75e51f1884fcaa4273c5cf8f06136568f3db23729706b7a59616a2fea7f8ad67fc57ba7aa8eed4548c9722f4b91ad36977e1edf70157164cfe91cc84d47ab530e32d79b86b8c3e8038b47fbc542a6dea316bba',\n",
        " text:u'wcmckee',\n",
        " text:u'lunch with mother',\n",
        " empty:'',\n",
        " empty:'',\n",
        " empty:'']"
       ]
      }
     ],
     "prompt_number": 504
    },
    {
     "cell_type": "code",
     "collapsed": false,
     "input": [
      "time.strftime(\"%a, %d %b %Y %H:%M: +0000\", time.gmtime())"
     ],
     "language": "python",
     "metadata": {},
     "outputs": [
      {
       "metadata": {},
       "output_type": "pyout",
       "prompt_number": 459,
       "text": [
        "'Tue, 07 Oct 2014 22:32: +0000'"
       ]
      }
     ],
     "prompt_number": 459
    },
    {
     "cell_type": "code",
     "collapsed": false,
     "input": [
      "wb = xlwt.Workbook()\n",
      "ws = wb.add_sheet('visitor sign database')"
     ],
     "language": "python",
     "metadata": {},
     "outputs": [],
     "prompt_number": 460
    },
    {
     "cell_type": "code",
     "collapsed": false,
     "input": [
      "exran = os.urandom(128).encode('hex')"
     ],
     "language": "python",
     "metadata": {},
     "outputs": [],
     "prompt_number": 461
    },
    {
     "cell_type": "code",
     "collapsed": false,
     "input": [
      "ixran = os.urandom(128).encode('hex')"
     ],
     "language": "python",
     "metadata": {},
     "outputs": [],
     "prompt_number": 462
    },
    {
     "cell_type": "code",
     "collapsed": false,
     "input": [
      "rawdets = ['In Date', 'In Time', 'In Code', 'Name', 'Reason', 'Out Date', 'Out Time']"
     ],
     "language": "python",
     "metadata": {},
     "outputs": [],
     "prompt_number": 463
    },
    {
     "cell_type": "code",
     "collapsed": false,
     "input": [
      "numroll = []"
     ],
     "language": "python",
     "metadata": {},
     "outputs": [],
     "prompt_number": 464
    },
    {
     "cell_type": "code",
     "collapsed": false,
     "input": [
      "for det in range(6):\n",
      "    print det\n",
      "    numroll.append(det)\n",
      "    #ws.write(0, det, )"
     ],
     "language": "python",
     "metadata": {},
     "outputs": [
      {
       "output_type": "stream",
       "stream": "stdout",
       "text": [
        "0\n",
        "1\n",
        "2\n",
        "3\n",
        "4\n",
        "5\n"
       ]
      }
     ],
     "prompt_number": 465
    },
    {
     "cell_type": "code",
     "collapsed": false,
     "input": [
      "numroll"
     ],
     "language": "python",
     "metadata": {},
     "outputs": [
      {
       "metadata": {},
       "output_type": "pyout",
       "prompt_number": 466,
       "text": [
        "[0, 1, 2, 3, 4, 5]"
       ]
      }
     ],
     "prompt_number": 466
    },
    {
     "cell_type": "code",
     "collapsed": false,
     "input": [
      "for rad in rawdets:\n",
      "    print rad\n",
      "    #print len(rad)\n",
      "    print rad.upper()\n",
      "    #range(20)"
     ],
     "language": "python",
     "metadata": {},
     "outputs": [
      {
       "output_type": "stream",
       "stream": "stdout",
       "text": [
        "In Date\n",
        "IN DATE\n",
        "In Time\n",
        "IN TIME\n",
        "In Code\n",
        "IN CODE\n",
        "Name\n",
        "NAME\n",
        "Reason\n",
        "REASON\n",
        "Out Date\n",
        "OUT DATE\n",
        "Out Time\n",
        "OUT TIME\n"
       ]
      }
     ],
     "prompt_number": 467
    },
    {
     "cell_type": "code",
     "collapsed": false,
     "input": [
      "ws.write(0, 0, 'In Date')\n",
      "ws.write(0, 1, 'In Time')\n",
      "ws.write(0, 2, 'In Code')\n",
      "ws.write(0, 3, 'Name')\n",
      "ws.write(0, 4, 'Reason')\n",
      "ws.write(0, 5, 'Out Date')\n",
      "ws.write(0, 6, 'Out Time')\n",
      "ws.write(0, 7, 'Out Code')"
     ],
     "language": "python",
     "metadata": {},
     "outputs": [],
     "prompt_number": 468
    },
    {
     "cell_type": "code",
     "collapsed": false,
     "input": [
      "#strftime is %d (day), \n",
      "\n",
      "ws.write(1, 0, time.strftime(\"%d\" + \"-\" + \"%b\" + \"-\" + \"%Y\"))\n",
      "\n",
      "ws.write(1, 1, time.strftime(\"%H:%M\"))"
     ],
     "language": "python",
     "metadata": {},
     "outputs": [],
     "prompt_number": 469
    },
    {
     "cell_type": "code",
     "collapsed": false,
     "input": [
      "getname = raw_input('Name: ')\n",
      "getreason = raw_input('Reason: ')"
     ],
     "language": "python",
     "metadata": {},
     "outputs": [
      {
       "name": "stdout",
       "output_type": "stream",
       "stream": "stdout",
       "text": [
        "Name: wcmckee\n"
       ]
      },
      {
       "name": "stdout",
       "output_type": "stream",
       "stream": "stdout",
       "text": [
        "Reason: lunch with mother\n"
       ]
      }
     ],
     "prompt_number": 471
    },
    {
     "cell_type": "code",
     "collapsed": false,
     "input": [
      "ws.write(1, 2, exran)"
     ],
     "language": "python",
     "metadata": {},
     "outputs": [],
     "prompt_number": 472
    },
    {
     "cell_type": "code",
     "collapsed": false,
     "input": [
      "ws.write(1, 3, getname)"
     ],
     "language": "python",
     "metadata": {},
     "outputs": [],
     "prompt_number": 473
    },
    {
     "cell_type": "code",
     "collapsed": false,
     "input": [
      "ws.write(1, 4, getreason)"
     ],
     "language": "python",
     "metadata": {},
     "outputs": [],
     "prompt_number": 474
    },
    {
     "cell_type": "code",
     "collapsed": false,
     "input": [
      "#wb.save('/home/wcmckee/whai/' + xlvs)\n",
      "wb.save('/home/wcmckee/whai/index.xls')"
     ],
     "language": "python",
     "metadata": {},
     "outputs": [],
     "prompt_number": 483
    },
    {
     "cell_type": "code",
     "collapsed": false,
     "input": [
      "wsdict = {getname: exran}"
     ],
     "language": "python",
     "metadata": {},
     "outputs": [],
     "prompt_number": 484
    },
    {
     "cell_type": "code",
     "collapsed": false,
     "input": [
      "wsdict"
     ],
     "language": "python",
     "metadata": {},
     "outputs": [
      {
       "metadata": {},
       "output_type": "pyout",
       "prompt_number": 485,
       "text": [
        "{'wcmckee': '11c7bef5f12507ce5b687a69101cb7a2041a79797981b05eebfda120101a06680b7759b5fe3ff3150e4987b46b75e51f1884fcaa4273c5cf8f06136568f3db23729706b7a59616a2fea7f8ad67fc57ba7aa8eed4548c9722f4b91ad36977e1edf70157164cfe91cc84d47ab530e32d79b86b8c3e8038b47fbc542a6dea316bba'}"
       ]
      }
     ],
     "prompt_number": 485
    },
    {
     "cell_type": "code",
     "collapsed": false,
     "input": [
      "wsdict.update({time.strftime(\"%d\" + \"-\" + \"%b\" + \"-\" + \"%Y\"): time.strftime(\"%H:%M\")})"
     ],
     "language": "python",
     "metadata": {},
     "outputs": [],
     "prompt_number": 486
    },
    {
     "cell_type": "code",
     "collapsed": false,
     "input": [
      "wsdict.update({getreason: ixran})"
     ],
     "language": "python",
     "metadata": {},
     "outputs": [],
     "prompt_number": 487
    },
    {
     "cell_type": "code",
     "collapsed": false,
     "input": [
      "wsdict"
     ],
     "language": "python",
     "metadata": {},
     "outputs": [
      {
       "metadata": {},
       "output_type": "pyout",
       "prompt_number": 488,
       "text": [
        "{'08-Oct-2014': '05:05',\n",
        " 'lunch with mother': '943b0fb70b4d2c07f27b6eb18394dc05ceebf13621894a23e1ebc0f3b10623b6341330f019926a3d67fdcad8552da3aa4fc02a4e16deae794936ee652aaf39ad9cc84fc395ae53520bca368fd14add940e4a84010bf6fba764708ddb4127af4edc6733f0181963a58246674c857869f6569a2e30532a5ac011b2e27acf0545c0',\n",
        " 'wcmckee': '11c7bef5f12507ce5b687a69101cb7a2041a79797981b05eebfda120101a06680b7759b5fe3ff3150e4987b46b75e51f1884fcaa4273c5cf8f06136568f3db23729706b7a59616a2fea7f8ad67fc57ba7aa8eed4548c9722f4b91ad36977e1edf70157164cfe91cc84d47ab530e32d79b86b8c3e8038b47fbc542a6dea316bba'}"
       ]
      }
     ],
     "prompt_number": 488
    },
    {
     "cell_type": "code",
     "collapsed": false,
     "input": [
      "wsdict.keys()"
     ],
     "language": "python",
     "metadata": {},
     "outputs": [
      {
       "metadata": {},
       "output_type": "pyout",
       "prompt_number": 489,
       "text": [
        "['wcmckee', '08-Oct-2014', 'lunch with mother']"
       ]
      }
     ],
     "prompt_number": 489
    },
    {
     "cell_type": "code",
     "collapsed": false,
     "input": [
      "import dominate\n",
      "from dominate.tags import *\n",
      "\n",
      "doc = dominate.document(title='visitor sign sheet')\n",
      "\n",
      "with doc.head:\n",
      "    link(rel='stylesheet', href='style.css')\n",
      "    script(type='text/javascript', src='script.js')\n",
      "\n",
      "with doc:\n",
      "    with div(id='header').add(ol()):\n",
      "        for i in wsdict.keys():\n",
      "            li(a(i))\n",
      "\n",
      "    with div():\n",
      "        attr(cls='body')\n",
      "        p('last updated: ' + time.strftime(\"%H:%M\"))\n",
      "\n",
      "print doc"
     ],
     "language": "python",
     "metadata": {},
     "outputs": [
      {
       "output_type": "stream",
       "stream": "stdout",
       "text": [
        "<!DOCTYPE html>\n",
        "<html>\n",
        "  <head>\n",
        "    <title>visitor sign sheet</title>\n",
        "    <link href=\"style.css\" rel=\"stylesheet\">\n",
        "    <script src=\"script.js\" type=\"text/javascript\"></script>\n",
        "  </head>\n",
        "  <body>\n",
        "    <div id=\"header\">\n",
        "      <ol>\n",
        "        <li>\n",
        "          <a>wcmckee</a>\n",
        "        </li>\n",
        "        <li>\n",
        "          <a>08-Oct-2014</a>\n",
        "        </li>\n",
        "        <li>\n",
        "          <a>lunch with mother</a>\n",
        "        </li>\n",
        "      </ol>\n",
        "    </div>\n",
        "    <div class=\"body\">\n",
        "      <p>last updated: 05:05</p>\n",
        "    </div>\n",
        "  </body>\n",
        "</html>\n"
       ]
      }
     ],
     "prompt_number": 490
    },
    {
     "cell_type": "code",
     "collapsed": false,
     "input": [],
     "language": "python",
     "metadata": {},
     "outputs": [],
     "prompt_number": 482
    },
    {
     "cell_type": "code",
     "collapsed": false,
     "input": [],
     "language": "python",
     "metadata": {},
     "outputs": [],
     "prompt_number": 482
    },
    {
     "cell_type": "code",
     "collapsed": false,
     "input": [],
     "language": "python",
     "metadata": {},
     "outputs": []
    }
   ],
   "metadata": {}
  }
 ]
}