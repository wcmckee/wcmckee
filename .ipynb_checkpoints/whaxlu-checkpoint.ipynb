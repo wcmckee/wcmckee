{
 "metadata": {
  "name": "",
  "signature": "sha256:05ddee1c82e8e0f2f27867658d2d2295d6bd12110c775463a581ca5a4c0ec696"
 },
 "nbformat": 3,
 "nbformat_minor": 0,
 "worksheets": [
  {
   "cells": [
    {
     "cell_type": "markdown",
     "metadata": {},
     "source": [
      "<h2>visitor sign system</h2>\n",
      "\n",
      "This is a python script used to sign in and signout, keeping track of hours and creating a more automative system.\n",
      "\n",
      "Make sign in and out faster, easier to keep track of.\n",
      "\n",
      "Never forget. \n",
      "\n",
      "Auto roll check. \n",
      "\n",
      "Two random hex codes for security and correct checking. Made use of tthese by using one as file name when saving.\n",
      "\n",
      "Creates xls file with data, also uses sqlalchemy for databases, web server, html page: \n",
      "input (or auto) name, reason, auto day/month/year hr/min - of signin.\n",
      "\n",
      "when launched asked if you want to signin or signout. \n",
      "\n",
      "how i want this to run for william:\n",
      "\n",
      "william arrives into whai. On his phone he runs the signin script. On signing out for the day the script is run onto final part, signout. asks for comment first then records time, and date. \n",
      "\n",
      "comment system. leave comment for staff, parent, tag staff, area, story, parent, child.\n",
      "\n",
      "signout - enter code of session you want to signout. \n",
      "\n",
      "Screw the excel file, im just dealing with index page. i am saving achieve in posts folder under urandom 13 character code. \n"
     ]
    },
    {
     "cell_type": "code",
     "collapsed": false,
     "input": [
      "import os\n",
      "import time\n",
      "import xlutils\n",
      "import xlwt\n",
      "import xlrd\n",
      "import dominate\n",
      "import sys\n",
      "from dominate.tags import *\n",
      "import json\n",
      "#from sqlalchemy import Column, ForeignKey, Integer, String\n",
      "#from sqlalchemy.ext.declarative import declarative_base\n",
      "#from sqlalchemy.orm import relationship\n",
      "#from sqlalchemy import create_engine"
     ],
     "language": "python",
     "metadata": {},
     "outputs": [],
     "prompt_number": 66
    },
    {
     "cell_type": "code",
     "collapsed": false,
     "input": [
      "mname = ('William Mckee')\n",
      "ename = ('will@artcontrol.me')\n",
      "signin = ('ESW')"
     ],
     "language": "python",
     "metadata": {},
     "outputs": [],
     "prompt_number": 67
    },
    {
     "cell_type": "code",
     "collapsed": false,
     "input": [
      "#Base = declarative_base()\n",
      " \n",
      "#class Person(Base):\n",
      "#    __tablename__ = 'person'\n",
      "#    # Here we define columns for the table person\n",
      "#    # Notice that each column is also a normal Python instance attribute.\n",
      "#    id = Column(Integer, primary_key=True)\n",
      "#    name = Column(String(250), nullable=False)\n",
      " \n",
      "#class Address(Base):\n",
      "#    __tablename__ = 'address'\n",
      "#    # Here we define columns for the table address.\n",
      "#    # Notice that each column is also a normal Python instance attribute.\n",
      "#    id = Column(Integer, primary_key=True)\n",
      "#    datesignin = Column(String(250))\n",
      "#    hrminsignin = Column(String(250))\n",
      "#    usernamesignin = Column(String(250), nullable=False)\n",
      "#    reasonsignin = Column(String(250))\n",
      "#    person_id = Column(Integer, ForeignKey('person.id'))\n",
      "#    person = relationship(Person)\n",
      " \n",
      "# Create an engine that stores data in the local directory's\n",
      "# sqlalchemy_example.db file.\n",
      "#engine = create_engine('sqlite:///sqlalchemy_example.db')\n",
      " \n",
      "# Create a$ll tables in the engine. This is equivalent to \"Create Table\"\n",
      "# statements in raw SQL.\n",
      "#Base.metadata.create_all(engine)"
     ],
     "language": "python",
     "metadata": {},
     "outputs": [],
     "prompt_number": 68
    },
    {
     "cell_type": "code",
     "collapsed": false,
     "input": [
      "#from sqlalchemy import create_engine\n",
      "#from sqlalchemy.orm import sessionmaker\n",
      " \n",
      "#from sqlalchemy_declarative import Address, Base, Person\n",
      " \n",
      "#engine = create_engine('sqlite:///sqlalchemy_example.db')\n",
      "# Bind the engine to the metadata of the Base class so that the\n",
      "# declaratives can be accessed through a DBSession instance\n",
      "#Base.metadata.bind = engine\n",
      " \n",
      "#DBSession = sessionmaker(bind=engine)\n",
      "# A DBSession() instance establishes all conversations with the database\n",
      "# and represents a \"staging zone\" for all the objects loaded into the\n",
      "# database session object. Any change made against the objects in the\n",
      "# session won't be persisted into the database until you call\n",
      "# session.commit(). If you're not happy about the changes, you can\n",
      "# revert all of them back to the last commit by calling\n",
      "# session.rollback()\n",
      "#session = DBSession()\n",
      " \n",
      "# Insert a Person in the person table\n",
      "#new_person = Person(name='new person')\n",
      "#session.add(new_person)\n",
      "#session.commit()\n",
      " \n",
      "# Insert an Address in the address table\n",
      "#new_address = Address(post_code='00000', person=new_person)\n",
      "#session.add(new_address)\n",
      "#session.commit()"
     ],
     "language": "python",
     "metadata": {},
     "outputs": [],
     "prompt_number": 69
    },
    {
     "cell_type": "code",
     "collapsed": false,
     "input": [
      "#wrkbook = xlrd.open_workbook('/home/wcmckee/whai/index.xls')"
     ],
     "language": "python",
     "metadata": {},
     "outputs": [],
     "prompt_number": 70
    },
    {
     "cell_type": "code",
     "collapsed": false,
     "input": [
      "#print wrkbook.sheet_names()\n",
      "\n",
      "#worksheet = wrkbook.sheet_by_name('visitor sign database')\n"
     ],
     "language": "python",
     "metadata": {},
     "outputs": [],
     "prompt_number": 71
    },
    {
     "cell_type": "code",
     "collapsed": false,
     "input": [
      "#swlis = []"
     ],
     "language": "python",
     "metadata": {},
     "outputs": [],
     "prompt_number": 72
    },
    {
     "cell_type": "code",
     "collapsed": false,
     "input": [
      "#num_rows = worksheet.nrows - 1\n",
      "#curr_row = -1\n",
      "#while curr_row < num_rows:\n",
      "#    curr_row += 1\n",
      "#    row = worksheet.row(curr_row)\n",
      "#    print row\n",
      "#    swlis.append(row)"
     ],
     "language": "python",
     "metadata": {},
     "outputs": [],
     "prompt_number": 73
    },
    {
     "cell_type": "code",
     "collapsed": false,
     "input": [
      "#valis = []"
     ],
     "language": "python",
     "metadata": {},
     "outputs": [],
     "prompt_number": 74
    },
    {
     "cell_type": "code",
     "collapsed": false,
     "input": [
      "#for swl in swlis[1]:\n",
      "#    print swl.value\n",
      "#    valis.append(swl.value)"
     ],
     "language": "python",
     "metadata": {},
     "outputs": [],
     "prompt_number": 75
    },
    {
     "cell_type": "code",
     "collapsed": false,
     "input": [
      "#valis"
     ],
     "language": "python",
     "metadata": {},
     "outputs": [],
     "prompt_number": 76
    },
    {
     "cell_type": "code",
     "collapsed": false,
     "input": [
      "time.strftime(\"%a, %d %b %Y %H:%M: +0000\", time.gmtime())"
     ],
     "language": "python",
     "metadata": {},
     "outputs": [
      {
       "metadata": {},
       "output_type": "pyout",
       "prompt_number": 77,
       "text": [
        "'Mon, 13 Oct 2014 07:58: +0000'"
       ]
      }
     ],
     "prompt_number": 77
    },
    {
     "cell_type": "code",
     "collapsed": false,
     "input": [
      "wb = xlwt.Workbook()\n",
      "ws = wb.add_sheet('visitor sign database')"
     ],
     "language": "python",
     "metadata": {},
     "outputs": [],
     "prompt_number": 78
    },
    {
     "cell_type": "code",
     "collapsed": false,
     "input": [
      "rangen = []"
     ],
     "language": "python",
     "metadata": {},
     "outputs": [],
     "prompt_number": 79
    },
    {
     "cell_type": "code",
     "collapsed": false,
     "input": [
      "for genz in range(8):\n",
      "    print os.urandom(128).encode('hex')\n",
      "    rangen.append(os.urandom(128).encode('hex'))"
     ],
     "language": "python",
     "metadata": {},
     "outputs": [
      {
       "output_type": "stream",
       "stream": "stdout",
       "text": [
        "616ee92777372c3c77808b43877b3e08c5c585ea951a7d9190979f7033ac478b9660e76a99e59a34a3453a5ce592aa2c8934ddd2d9b4dac6d8f93d242ed48f359e57c923e03b32ffdef98c98eacd30f9a77d373d71719c6fbb8e63fbfe70d5378472ccf801ffe3a0786d1d327cc19b7be942a58f34c80200dca7e644ee1c80b2\n",
        "a6dc68e7bd1372003eb30fc662323e7ce54afac843dc89e1d2f700f59eea845f4d104da2ed06745682bf1aac182eeb09c4ad6214669fcc483cc7aac2722e4936dea522ba13567df11b5c99fb5335a42b46cf13128aa23a7c94f7144b4894b72fb493977bb6ee7218ba5f5b159aa07673b1c3143508e7ed45eb6a582c9a7a82bc\n",
        "b2e2f99c2e56d399694eaeb683aabcae2f814ac92187f12dbcc2f8d8b1efb60e2585d0efdf7ca00e5f25c07b145f149f6cb22ddc70ce7ca8d54cf2f997e1e37d172110dfad3a7181d10497b108b0c498f5bab076969251e9bc5df0e3fd3a34c40005e490bfd6e13661016cbc9f75c9d9b25b0bdb57d371bc5668987f5db323ad\n",
        "d2d0d292092f8c737268e986ddfa3f6cbcb9551d95b6452ecad14b6dd3cbdd3c29144c88cbdbfb5d6934f3b26903ca6856f28c7263f7b8089d2233547d329526407a73366d5d8dd39f2e83216c5c16d0da9e4f634eb1fcf77dbcb4e379b8b67be254f38ef9c31e0590f40559fdf096494064d525c20f2025a3dfd409f8589407\n",
        "dc10de54f2fa4c17ef839fe4f37e455b82629201b40733ca0925087cd718ea9dc492808be317d69c1c6be37b01bae4708edac22ef83b6096b95260551b60d8d62fe0d4fbf0c62e3766a110f9b2e586ec411304f6eb6e9943f767f50c565b852ad36de4e604e547aed16191307d1f1ce4c973f795ea83eb55a7de0226aa383a84\n",
        "3f0bca4860103480cda280b61fbb5ba13d5a5681e9a055ccd51da10eade0c4e45c7bf5b5be2d257da5c9f9baba274d45694505e0815d7dc80f130c16de3b386985603daf7712c692e569f8c8f26ec831e84314c3652d7c9de3b38cd9337fa37c92eb1fb51325df8293b155991c7d76156a5e6a13f6759c6ce698fcb897b6c239\n",
        "2e2d3d43ad100dd695cb006bf6eff0c2ed39b723b01f0518242caa821ee23c4e0b04317363cae6e62bb8d78cdaeb4b4fda0ea44f65a8d88aa4e4bc4440e37d5b0fb9d36e59507627ee2c8f994bb3c3756166123fa0c9e88d9fa3a74fd26bb16f0b0e5f49189da6a32d1d908dd0a8c2e830f333682d4036a14dd59511c92e1260\n",
        "9890649830580e914ae68841fa43534ed2a956caf6902d442aea2690be5c484c876a81a96b5371e41c4c7d67a6c4e055876fb0f31fcc5a9ab6236ba6346382be6d1e41a28efd4fb11cb0db63f3333c03e687d415098e0930d0febfb80a0fd96027e0a9bb8412a4effe87ec1282580b58229e90f5a4bea7148d26f70282ed99f3\n"
       ]
      }
     ],
     "prompt_number": 80
    },
    {
     "cell_type": "code",
     "collapsed": false,
     "input": [
      "rangen"
     ],
     "language": "python",
     "metadata": {},
     "outputs": [
      {
       "metadata": {},
       "output_type": "pyout",
       "prompt_number": 81,
       "text": [
        "['2cb3aba5061a4df3f2044b213c00803cae38ddfe497c1f54e85297274b0153ec0fb4e81394ac54a01adae14c609c5aa43ab228707c647b035351b42a174f30032aefaac95171a3529531c33ec5d8495f433baf9f1513544ef8ca375057c1ad95d88a77c276a3feeb80d1fc60cc2a5ce40e40488b79aa2a9c278a6b49daeaf066',\n",
        " 'b055006afdff1a346e31db74694ddaa5d2badb8c4a5e5cec8833cd1469002cfa58ad8e6bdf6583aa2a4ed92dfaf56c6e64b49aff132a11509a2c446fcb9aa72190c623bf2a1096eda4eb625653772ebf7d752de7584daeaf5c70dacbc066b20160d0e55f3d4f001c200a09ba346fabf25abc0cc8f76a785e4b87c4f0f5287b06',\n",
        " '0520ec87b55b93b348d02d7a2ac1097415d37a6ef21d47235c42ca520d0674bc1fd87a79841d71950e3aca407c964dd99b78219da5a441078acdfae56717729669dcb6d9e742949c44d1dde2d090d706decdc2f61721295f45cc7366e1026ce312ca068cbe45ea670043826f7bea501a99f49898886ca6b8f512126695fdc2a8',\n",
        " '87db533c4aef1b6f978466f982b3941f9a5e471d470578a53a9a673d4fe9800e0897e5f06f68ffae0b68eb63701cdeed398e9ffa438cf367541ad0846cf0cee84bb594f1930b435044092f911079d7117e35a8dd378f3f661cdec9a35937df175b0966110310b0173e15b675b612c9e3fb2cce8f6fb108cc193e3c1603d24b4a',\n",
        " '50b97eff3b76105ae6c90a54c75cd9ebc8f80274541a5708d3cd6c8e8328ac4525481eb53e8f80facf5b9bd14a07e4338fb7e674ce4a1c88067b4e70f51c5e1ce237519e19ba3dd28fb430d011fc25fc76c925bf425824b610976233078ca7ce9a55d018722c264ada166bb1b7ffb7e35dff986b555bd5b3b046064d78f796fa',\n",
        " 'ed2f1d0effa6c6e8d7a369c6f33d25efed71fb706d7ee7b30364f1ed73e0c89d5d2f8c1665435534263eda0f1ae1e20025bba752c1c24f92c74925886592f633db9fb1658e747d168538d92c5cfe873d9eb4393e99b1e74d4cf4d2b297a5bbd12ecbd34d5cf47d5c1f4dfcc36338a60846cc5aee76cb14fdd0727cb47f1a11c9',\n",
        " 'bc3df32232e026bc307d3a176a052ee513e693b88952984d8e682807ce2c30447eb48ef584563b260606b013bc7f8ee96c06552547a4a36cfdd424fd2a272cc243004723a1b15c6aaf13cf38ee277302987930ff39434d5fa35d3ed028b556ad036c1a110c146a1cedba83fda60731da62c3bd93bbb6650b1bdcac8d5d0ac54a',\n",
        " '42ac90adda0dfcb79d22ae488711e7ca07542218df8744faec249643a545ad4e48614b68e21a0583776c85bd1528c4268b1816b665dc6652aca8bf448642daf91d41e00c0ab132808ca564ffe13adf144d75a40c8d8e766469a86b4e6ca9d8de1d2e8bb36b2b171986af9fc06743acb509abda147c26786942979d34dfd7e8d9']"
       ]
      }
     ],
     "prompt_number": 81
    },
    {
     "cell_type": "code",
     "collapsed": false,
     "input": [
      "exran = os.urandom(128).encode('hex')"
     ],
     "language": "python",
     "metadata": {},
     "outputs": [],
     "prompt_number": 82
    },
    {
     "cell_type": "code",
     "collapsed": false,
     "input": [
      "ixran = os.urandom(128).encode('hex')"
     ],
     "language": "python",
     "metadata": {},
     "outputs": [],
     "prompt_number": 83
    },
    {
     "cell_type": "code",
     "collapsed": false,
     "input": [
      "rawdets = ['In Date', 'In Time', 'In Code', 'Name', 'Reason', 'Out Date', 'Out Time']"
     ],
     "language": "python",
     "metadata": {},
     "outputs": [],
     "prompt_number": 84
    },
    {
     "cell_type": "code",
     "collapsed": false,
     "input": [
      "numroll = []"
     ],
     "language": "python",
     "metadata": {},
     "outputs": [],
     "prompt_number": 85
    },
    {
     "cell_type": "code",
     "collapsed": false,
     "input": [
      "for det in range(6):\n",
      "    print det\n",
      "    numroll.append(det)\n",
      "    #ws.write(0, det, )"
     ],
     "language": "python",
     "metadata": {},
     "outputs": [
      {
       "output_type": "stream",
       "stream": "stdout",
       "text": [
        "0\n",
        "1\n",
        "2\n",
        "3\n",
        "4\n",
        "5\n"
       ]
      }
     ],
     "prompt_number": 86
    },
    {
     "cell_type": "code",
     "collapsed": false,
     "input": [
      "for rad in rawdets:\n",
      "    print rad\n",
      "    #print len(rad)\n",
      "    print rad.upper()\n",
      "    #range(20)"
     ],
     "language": "python",
     "metadata": {},
     "outputs": [
      {
       "output_type": "stream",
       "stream": "stdout",
       "text": [
        "In Date\n",
        "IN DATE\n",
        "In Time\n",
        "IN TIME\n",
        "In Code\n",
        "IN CODE\n",
        "Name\n",
        "NAME\n",
        "Reason\n",
        "REASON\n",
        "Out Date\n",
        "OUT DATE\n",
        "Out Time\n",
        "OUT TIME\n"
       ]
      }
     ],
     "prompt_number": 87
    },
    {
     "cell_type": "code",
     "collapsed": false,
     "input": [
      "ws.write(0, 0, 'In Date')\n",
      "ws.write(0, 1, 'In Time')\n",
      "ws.write(0, 2, 'In Code')\n",
      "ws.write(0, 3, 'Name')\n",
      "ws.write(0, 4, 'Reason')\n",
      "ws.write(0, 5, 'Out Date')\n",
      "ws.write(0, 6, 'Out Time')\n",
      "ws.write(0, 7, 'Out Code')"
     ],
     "language": "python",
     "metadata": {},
     "outputs": [],
     "prompt_number": 88
    },
    {
     "cell_type": "code",
     "collapsed": false,
     "input": [
      "#strftime is %d (day), \n",
      "\n",
      "ws.write(1, 0, time.strftime(\"%d\" + \"-\" + \"%b\" + \"-\" + \"%Y\"))\n",
      "\n",
      "ws.write(1, 1, time.strftime(\"%H:%M\"))"
     ],
     "language": "python",
     "metadata": {},
     "outputs": [],
     "prompt_number": 89
    },
    {
     "cell_type": "code",
     "collapsed": false,
     "input": [
      "#getname = raw_input('Name: ')\n",
      "#getreason = raw_input('Reason: ')"
     ],
     "language": "python",
     "metadata": {},
     "outputs": [],
     "prompt_number": 90
    },
    {
     "cell_type": "code",
     "collapsed": false,
     "input": [
      "ws.write(1, 2, exran)"
     ],
     "language": "python",
     "metadata": {},
     "outputs": [],
     "prompt_number": 91
    },
    {
     "cell_type": "code",
     "collapsed": false,
     "input": [
      "ws.write(1, 3, mname)"
     ],
     "language": "python",
     "metadata": {},
     "outputs": [],
     "prompt_number": 92
    },
    {
     "cell_type": "code",
     "collapsed": false,
     "input": [
      "ws.write(1, 4, signin)"
     ],
     "language": "python",
     "metadata": {},
     "outputs": [],
     "prompt_number": 93
    },
    {
     "cell_type": "code",
     "collapsed": false,
     "input": [
      "#wb.save('/home/wcmckee/whai/' + xlvs)\n",
      "wb.save('/home/wcmckee/whai/index.xls')"
     ],
     "language": "python",
     "metadata": {},
     "outputs": [],
     "prompt_number": 94
    },
    {
     "cell_type": "code",
     "collapsed": false,
     "input": [
      "usecom = raw_input('Comments: ')"
     ],
     "language": "python",
     "metadata": {},
     "outputs": [
      {
       "name": "stdout",
       "output_type": "stream",
       "stream": "stdout",
       "text": [
        "Comments: looking forward to a great day\n"
       ]
      }
     ],
     "prompt_number": 96
    },
    {
     "cell_type": "code",
     "collapsed": false,
     "input": [
      "usecom"
     ],
     "language": "python",
     "metadata": {},
     "outputs": [
      {
       "metadata": {},
       "output_type": "pyout",
       "prompt_number": 97,
       "text": [
        "'looking forward to a great day'"
       ]
      }
     ],
     "prompt_number": 97
    },
    {
     "cell_type": "code",
     "collapsed": false,
     "input": [],
     "language": "python",
     "metadata": {},
     "outputs": [],
     "prompt_number": 97
    },
    {
     "cell_type": "code",
     "collapsed": false,
     "input": [
      "wsdict = {mname: rangen[0]}"
     ],
     "language": "python",
     "metadata": {},
     "outputs": [],
     "prompt_number": 105
    },
    {
     "cell_type": "code",
     "collapsed": false,
     "input": [
      "betdict = {'name': mname}"
     ],
     "language": "python",
     "metadata": {},
     "outputs": [],
     "prompt_number": 106
    },
    {
     "cell_type": "code",
     "collapsed": false,
     "input": [
      "wsdict"
     ],
     "language": "python",
     "metadata": {},
     "outputs": [
      {
       "metadata": {},
       "output_type": "pyout",
       "prompt_number": 107,
       "text": [
        "{'William Mckee': '2cb3aba5061a4df3f2044b213c00803cae38ddfe497c1f54e85297274b0153ec0fb4e81394ac54a01adae14c609c5aa43ab228707c647b035351b42a174f30032aefaac95171a3529531c33ec5d8495f433baf9f1513544ef8ca375057c1ad95d88a77c276a3feeb80d1fc60cc2a5ce40e40488b79aa2a9c278a6b49daeaf066'}"
       ]
      }
     ],
     "prompt_number": 107
    },
    {
     "cell_type": "code",
     "collapsed": false,
     "input": [
      "betdict"
     ],
     "language": "python",
     "metadata": {},
     "outputs": [
      {
       "metadata": {},
       "output_type": "pyout",
       "prompt_number": 108,
       "text": [
        "{'name': 'William Mckee'}"
       ]
      }
     ],
     "prompt_number": 108
    },
    {
     "cell_type": "code",
     "collapsed": false,
     "input": [
      "dayr = time.strftime(\"%d\" + \"-\" + \"%b\" + \"-\" + \"%Y\")\n",
      "hrmn = time.strftime(\"%H:%M\")"
     ],
     "language": "python",
     "metadata": {},
     "outputs": [],
     "prompt_number": 109
    },
    {
     "cell_type": "code",
     "collapsed": false,
     "input": [
      "betdict.update({'reason': signin})\n",
      "betdict.update({'signin comment': usecom})\n",
      "betdict.update({'signin date': dayr})\n",
      "betdict.update({'signin hrmin': hrmn})"
     ],
     "language": "python",
     "metadata": {},
     "outputs": [],
     "prompt_number": 110
    },
    {
     "cell_type": "code",
     "collapsed": false,
     "input": [
      "betjsn = json.dumps(betdict)"
     ],
     "language": "python",
     "metadata": {},
     "outputs": [],
     "prompt_number": 113
    },
    {
     "cell_type": "code",
     "collapsed": false,
     "input": [
      "betjsn"
     ],
     "language": "python",
     "metadata": {},
     "outputs": [
      {
       "metadata": {},
       "output_type": "pyout",
       "prompt_number": 114,
       "text": [
        "'{\"signin hrmin\": \"08:03\", \"reason\": \"ESW\", \"name\": \"William Mckee\", \"signin date\": \"13-Oct-2014\", \"signin comment\": \"looking forward to a great day\"}'"
       ]
      }
     ],
     "prompt_number": 114
    },
    {
     "cell_type": "code",
     "collapsed": false,
     "input": [
      "wsdict.update({time.strftime(\"%d\" + \"-\" + \"%b\" + \"-\" + \"%Y\"): rangen[1]})"
     ],
     "language": "python",
     "metadata": {},
     "outputs": [],
     "prompt_number": 40
    },
    {
     "cell_type": "code",
     "collapsed": false,
     "input": [
      "wsdict.update({ time.strftime(\"%H:%M\"): rangen[2]})"
     ],
     "language": "python",
     "metadata": {},
     "outputs": [],
     "prompt_number": 41
    },
    {
     "cell_type": "code",
     "collapsed": false,
     "input": [
      "wsdict.update({signin: rangen[3]})"
     ],
     "language": "python",
     "metadata": {},
     "outputs": [],
     "prompt_number": 42
    },
    {
     "cell_type": "code",
     "collapsed": false,
     "input": [
      "wsdict.update({usecom: rangen[4]})"
     ],
     "language": "python",
     "metadata": {},
     "outputs": [],
     "prompt_number": 43
    },
    {
     "cell_type": "code",
     "collapsed": false,
     "input": [
      "wsdict"
     ],
     "language": "python",
     "metadata": {},
     "outputs": [
      {
       "metadata": {},
       "output_type": "pyout",
       "prompt_number": 44,
       "text": [
        "{'12-Oct-2014': 'f4e59a287ff96af450ec11b7f7fd5a83102ffd184ed22f87f5a815b1c4c2eee801376ede2a6fe783f9232c5a4c241199af66ad03d787111a74b3b4cbb77a043fdb46f2726b2f023fa1645903a443110172206e9e1ebdc6aa71ce2c9404a6fc248d6232ea783069f10e1007b98ddc4eba439fd87bdb9ef68279cbee2ba632fe10',\n",
        " '17:47': '5b385eef6e3d04ebc8a6a25647d138b31ce65699514bd848d3062353ca2e889e015e0bb15daffe250d8002d2c60bf4b67964688557e45477cdd07c5e1a523845c07668d9714c4b6e75996ab56f4bf34a2f20fe79a78b0eccf4447a157acef4b9a27df7dcd3c43639d10ee3f06de7e74b9f922bf2b8563ee07dcb8c8c93f69696',\n",
        " 'ESW': 'd05a4b44bcaea44ace62ea11bd8db5aa0cf738bd33bb58b37a43697bc2462269c02469269cbd78afe87d43bc96ac012845053344be50b99394015f0cc783bcabd436cdacf2d1121b3605cac98eda6f2c06f5321cd9baff6567061850c4f67bb292cefa8a2c9fa1f092062f7e30a55123d35b8a5105398b12613fd2702ad4dc79',\n",
        " 'William Mckee': '2226d323c5c90652e7c70abca2cbe5eb7a74dc1d49780ac8ebb0ff6ec2eeaa8b735c87b50c5ad4c2f0ee4a9852272bace8fef5e87b48c9b16da34d9e61f965c555cbd91063282c4a1afd1d1cfa7f05b99f6653816a13970cb0a57bf87fb1445742d6fa16148cbbed3a26b377fb15bb5154e7218fdf2299e76962419502d04c68',\n",
        " 'it was a good day': '3786d2634c41c4fd17eb0fd90b9587bed82cf3ce850492829e2debf090abce45a076dc15cec6e6541bd486bae9519d5e9f69683ed08f36a79320b74714f372f2e115ea8ef9d0c9ca46ac760cebce5cae254aed2d1346eed2b23074bea4935815424675657592ae357a0e7ab11f8fc45c814a38a79cecd8f8d068722113767f6c'}"
       ]
      }
     ],
     "prompt_number": 44
    },
    {
     "cell_type": "code",
     "collapsed": false,
     "input": [
      "wsdict.keys()"
     ],
     "language": "python",
     "metadata": {},
     "outputs": [
      {
       "metadata": {},
       "output_type": "pyout",
       "prompt_number": 45,
       "text": [
        "['17:47', 'ESW', 'William Mckee', '12-Oct-2014', 'it was a good day']"
       ]
      }
     ],
     "prompt_number": 45
    },
    {
     "cell_type": "code",
     "collapsed": false,
     "input": [],
     "language": "python",
     "metadata": {},
     "outputs": [],
     "prompt_number": 45
    },
    {
     "cell_type": "code",
     "collapsed": false,
     "input": [
      "doc = dominate.document(title='visitor sign sheet')\n",
      "\n",
      "with doc.head:\n",
      "    link(rel='stylesheet', href='style.css')\n",
      "    script(type='text/javascript', src='script.js')\n",
      "\n",
      "with doc:\n",
      "    with div(id='header').add(ol()):\n",
      "        for i in wsdict.keys():\n",
      "            li(a(i))\n",
      "\n",
      "    with div():\n",
      "        attr(cls='body')\n",
      "        p('last updated: ' + time.strftime(\"%H:%M\"))\n",
      "\n",
      "print doc"
     ],
     "language": "python",
     "metadata": {},
     "outputs": [
      {
       "output_type": "stream",
       "stream": "stdout",
       "text": [
        "<!DOCTYPE html>\n",
        "<html>\n",
        "  <head>\n",
        "    <title>visitor sign sheet</title>\n",
        "    <link href=\"style.css\" rel=\"stylesheet\">\n",
        "    <script src=\"script.js\" type=\"text/javascript\"></script>\n",
        "  </head>\n",
        "  <body>\n",
        "    <div id=\"header\">\n",
        "      <ol>\n",
        "        <li>\n",
        "          <a>17:47</a>\n",
        "        </li>\n",
        "        <li>\n",
        "          <a>ESW</a>\n",
        "        </li>\n",
        "        <li>\n",
        "          <a>William Mckee</a>\n",
        "        </li>\n",
        "        <li>\n",
        "          <a>12-Oct-2014</a>\n",
        "        </li>\n",
        "        <li>\n",
        "          <a>it was a good day</a>\n",
        "        </li>\n",
        "      </ol>\n",
        "    </div>\n",
        "    <div class=\"body\">\n",
        "      <p>last updated: 17:48</p>\n",
        "    </div>\n",
        "  </body>\n",
        "</html>\n"
       ]
      }
     ],
     "prompt_number": 46
    },
    {
     "cell_type": "code",
     "collapsed": false,
     "input": [
      "savindex = open('/home/wcmckee/visignsys/index.html', 'w')"
     ],
     "language": "python",
     "metadata": {},
     "outputs": [],
     "prompt_number": 47
    },
    {
     "cell_type": "code",
     "collapsed": false,
     "input": [
      "savindex.name"
     ],
     "language": "python",
     "metadata": {},
     "outputs": [
      {
       "metadata": {},
       "output_type": "pyout",
       "prompt_number": 48,
       "text": [
        "'/home/wcmckee/visignsys/index.html'"
       ]
      }
     ],
     "prompt_number": 48
    },
    {
     "cell_type": "code",
     "collapsed": false,
     "input": [
      "savindex.write(str(doc))\n",
      "savindex.close()"
     ],
     "language": "python",
     "metadata": {},
     "outputs": [],
     "prompt_number": 49
    },
    {
     "cell_type": "code",
     "collapsed": false,
     "input": [
      "ixtwe = ixran[0:12]"
     ],
     "language": "python",
     "metadata": {},
     "outputs": [],
     "prompt_number": 50
    },
    {
     "cell_type": "code",
     "collapsed": false,
     "input": [
      "savpos = open('/home/wcmckee/visignsys/posts/' + ixtwe + '.html', 'w')\n",
      "savpos.write(str(doc))\n",
      "savpos.close()"
     ],
     "language": "python",
     "metadata": {},
     "outputs": [],
     "prompt_number": 51
    },
    {
     "cell_type": "code",
     "collapsed": false,
     "input": [
      "savpos = open('/home/wcmckee/visignsys/posts/' + ixtwe + '.meta', 'w')\n",
      "savpos.write(str(wsdict.keys()))\n",
      "savpos.close()"
     ],
     "language": "python",
     "metadata": {},
     "outputs": [],
     "prompt_number": 52
    },
    {
     "cell_type": "code",
     "collapsed": false,
     "input": [
      "savpos = open('/home/wcmckee/visignsys/index.meta', 'w')\n",
      "savpos.write(str(wsdict.keys()))\n",
      "savpos.close()"
     ],
     "language": "python",
     "metadata": {},
     "outputs": [],
     "prompt_number": 53
    },
    {
     "cell_type": "code",
     "collapsed": false,
     "input": [
      "savpos = open('/home/wcmckee/visignsys/posts/' + ixtwe + '.json', 'w')\n",
      "savpos.write(str(betjsn))\n",
      "savpos.close()"
     ],
     "language": "python",
     "metadata": {},
     "outputs": [],
     "prompt_number": 115
    },
    {
     "cell_type": "code",
     "collapsed": false,
     "input": [],
     "language": "python",
     "metadata": {},
     "outputs": []
    }
   ],
   "metadata": {}
  }
 ]
}