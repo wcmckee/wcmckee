{
 "metadata": {
  "name": "",
  "signature": "sha256:d1ccf0e5519c35d6145810c3fbdc129059304497b9da4e571ca4888d386775e3"
 },
 "nbformat": 3,
 "nbformat_minor": 0,
 "worksheets": [
  {
   "cells": [
    {
     "cell_type": "markdown",
     "metadata": {},
     "source": [
      "<h1>Reddit Gets Drawn Snatch Script</h1>\n",
      "\n",
      "Creates the website redditgetsdrawnrecentreference. It contains the 25 most recent posts on r/redditgetsdrawn. title, image url, and username\n",
      "\n",
      "TODO:\n",
      "Contains artwork replies to each thread\n",
      "\n",
      "This is a Python script that takes data from reddit and posts it to another subreddit. It also creates a html file with the images embed into. The images are the most recent 25 on r/redditgetsdrawn."
     ]
    },
    {
     "cell_type": "markdown",
     "metadata": {},
     "source": [
      "RedditGetsDrawn Snatch\n",
      " \n",
      "This is a Python script that takes data from reddit and posts it to another subreddit. It also creates a html file with the images embed into. The images are the most recent 25 on r/redditgetsdrawn.\n",
      " \n",
      "\n",
      "<markdowncell>\n",
      "\n",
      "TODO\n",
      " \n",
      "submit art to users via website\n",
      " \n",
      "fix image sizes (need to scale down to 550px)\n",
      " \n",
      "Save to server rather than imgur\n",
      " \n",
      "Archieve, snapshots of rgd\n",
      " \n",
      "more artcontrol\n",
      " \n",
      "itwillbemine comments to html - currently being saved in contact \n",
      " \n",
      "work on css, div up page, title, side, body, fo\n",
      "\n",
      "update twitter with ONE IMAGE and announce that the list has been updated.\n",
      " \n",
      "write blog post and submits to artcontroldrawsyou/blog \n",
      " \n",
      "gets sticked post on reddit\n",
      " \n",
      "delete about/contact page and have on all same page. can still have link to blog. \n",
      "about \n",
      "contact etc... along the top.\n",
      "other sections\n",
      " \n",
      "post images to blog for archieve - save body to wcmckee.com/blog - md format?\n",
      " \n",
      "nikola install - build site.\n",
      " \n",
      "cronjob to update site ever ?? hours? 4?\n",
      " \n",
      "photos section: latest 25 photos submitted to redditgetsdrawn.\n",
      "art section: latest 25 art submitted to redditgetsdrawn. "
     ]
    },
    {
     "cell_type": "code",
     "collapsed": false,
     "input": [
      "import os\n",
      "import random\n",
      "import requests\n",
      "from bs4 import BeautifulSoup\n",
      "import re\n",
      "import json\n",
      "import time\n",
      "import praw\n",
      "import dominate\n",
      "from dominate.tags import *\n",
      "from time import gmtime, strftime\n",
      "import nose\n",
      "import unittest\n",
      "\n",
      "# <codecell>"
     ],
     "language": "python",
     "metadata": {},
     "outputs": [],
     "prompt_number": 1
    },
    {
     "cell_type": "code",
     "collapsed": false,
     "input": [
      "chdira = ('/home/wcmckee/artcontroldrawsyou')\n",
      "os.chdir(chdira)"
     ],
     "language": "python",
     "metadata": {},
     "outputs": [],
     "prompt_number": 2
    },
    {
     "cell_type": "code",
     "collapsed": false,
     "input": [
      "r = praw.Reddit(user_agent='rgdsnatch')\n",
      "\n",
      "# <codecell>\n",
      "\n",
      "#r.login('artcontrol', 'taylor123vag!')\n",
      "\n",
      "# <codecell>\n",
      "\n",
      "rd = r.get_subreddit('redditgetsdrawn')\n",
      "\n",
      "# <codecell>\n",
      "\n",
      "subz = rd.get_hot().next()\n",
      "istit = (subz.title)\n",
      "istxt = (subz.selftext_html)\n",
      "istick = (subz.stickied)\n",
      "\n",
      "rdnewz = rd.get_new()\n",
      "\n",
      "rdnew = []"
     ],
     "language": "python",
     "metadata": {},
     "outputs": [],
     "prompt_number": 3
    },
    {
     "cell_type": "code",
     "collapsed": false,
     "input": [
      "reddraw = praw.Reddit(user_agent='rgdsnatch')"
     ],
     "language": "python",
     "metadata": {},
     "outputs": [],
     "prompt_number": 4
    },
    {
     "cell_type": "code",
     "collapsed": false,
     "input": [
      "getrddraw = reddraw.get_subreddit('redditgetsdrawn')"
     ],
     "language": "python",
     "metadata": {},
     "outputs": [],
     "prompt_number": 5
    },
    {
     "cell_type": "code",
     "collapsed": false,
     "input": [
      "subz = getrddraw.get_new()"
     ],
     "language": "python",
     "metadata": {},
     "outputs": [],
     "prompt_number": 6
    },
    {
     "cell_type": "code",
     "collapsed": false,
     "input": [
      "class TestRedditFunction(unittest.TestCase):\n",
      "    \n",
      "    def setUp(self):\n",
      "        self.seq = reddraw.get_subreddit('redditgetsdrawn')\n",
      "        \n",
      "    def testredit(self):\n",
      "        drawnew('redditgetsdrawn') "
     ],
     "language": "python",
     "metadata": {},
     "outputs": [],
     "prompt_number": 7
    },
    {
     "cell_type": "code",
     "collapsed": false,
     "input": [
      "def drawnew(subred):\n",
      "    getrdraw = reddraw.get_subreddit(subred)\n",
      "    return getrdraw"
     ],
     "language": "python",
     "metadata": {},
     "outputs": [],
     "prompt_number": 8
    },
    {
     "cell_type": "code",
     "collapsed": false,
     "input": [
      "rdrws = drawnew('redditgetsdrawn')"
     ],
     "language": "python",
     "metadata": {},
     "outputs": [],
     "prompt_number": 9
    },
    {
     "cell_type": "code",
     "collapsed": false,
     "input": [
      "rtohr = rdrws.get_controversial_from_all()"
     ],
     "language": "python",
     "metadata": {},
     "outputs": [],
     "prompt_number": 10
    },
    {
     "cell_type": "code",
     "collapsed": false,
     "input": [
      "for imgz in rtohr:\n",
      "    #print imgz.selftext\n",
      "    print imgz.num_comments"
     ],
     "language": "python",
     "metadata": {},
     "outputs": [
      {
       "output_type": "stream",
       "stream": "stdout",
       "text": [
        "8\n",
        "33\n",
        "26\n",
        "8\n",
        "71\n",
        "53\n",
        "7\n",
        "23\n",
        "61\n",
        "6\n",
        "20\n",
        "59\n",
        "58\n",
        "5\n",
        "14\n",
        "3\n",
        "7\n",
        "10\n",
        "26\n",
        "56\n",
        "37\n",
        "15\n",
        "2\n",
        "0\n",
        "162\n"
       ]
      }
     ],
     "prompt_number": 11
    },
    {
     "cell_type": "code",
     "collapsed": false,
     "input": [
      "rdnew = []"
     ],
     "language": "python",
     "metadata": {},
     "outputs": [],
     "prompt_number": 12
    },
    {
     "cell_type": "code",
     "collapsed": false,
     "input": [
      "rdnewz = getrddraw.get_new()\n",
      "\n",
      "# <codecell>\n",
      "\n",
      "rdnew = []\n",
      "\n",
      "# <codecell>\n",
      "\n",
      "rdnew\n",
      "\n",
      "# <codecell>\n",
      "\n",
      "for uz in rdnewz:\n",
      "    #print uz\n",
      "    rdnew.append(uz)\n"
     ],
     "language": "python",
     "metadata": {},
     "outputs": [],
     "prompt_number": 13
    },
    {
     "cell_type": "code",
     "collapsed": false,
     "input": [
      "datelis = []\n",
      "refdic = {}\n",
      "rgdef = {'test': 'testvalue'}\n",
      "comdefz = []\n"
     ],
     "language": "python",
     "metadata": {},
     "outputs": []
    },
    {
     "cell_type": "code",
     "collapsed": false,
     "input": [
      "for rdz in rdnew:\n",
      "    print rdz.name\n",
      "    print rdz.title\n",
      "    print rdz.url\n",
      "    print rdz.author\n",
      "    print rdz.secure_media\n",
      "    print rdz.num_comments\n",
      "    print rdz.comments\n",
      "    comdefz.append(rdz.comments)\n",
      "    datelis.append(rdz.title)\n",
      "    datelis.append(rdz.url)\n",
      "    datelis.append(rdz.author)\n",
      "    comdict = {'comtxt':rdz.comments}\n",
      "    rgdef.update({rdz.author: rdz.url})"
     ],
     "language": "python",
     "metadata": {},
     "outputs": [
      {
       "output_type": "stream",
       "stream": "stdout",
       "text": [
        "t3_2mf5gg\n",
        "I'd like your help with part of my wedding gift to my fiance (Our big day is next May)! This is us in the picture!\n",
        "http://imgur.com/BbGEKCV\n",
        "julia702\n",
        "None\n",
        "0\n",
        "[]"
       ]
      },
      {
       "output_type": "stream",
       "stream": "stdout",
       "text": [
        "\n",
        "t3_2mf4yk\n",
        "Could you please draw this picture of me? :)\n",
        "http://imgur.com/kI9aQkn\n",
        "bnnvr\n",
        "None\n",
        "0\n",
        "[]"
       ]
      },
      {
       "output_type": "stream",
       "stream": "stdout",
       "text": [
        "\n",
        "t3_2mf6t5\n",
        "Could you draw me?\n",
        "http://imgur.com/mXyAQKm\n",
        "GuacBlocker\n",
        "None\n",
        "5\n",
        "[<praw.objects.Comment object at 0xf72d30>, <praw.objects.Comment object at 0x1066330>]"
       ]
      },
      {
       "output_type": "stream",
       "stream": "stdout",
       "text": [
        "\n",
        "t3_2mf3nt\n",
        "Can you draw this old family picture of my dad &amp; me for a gift for him? Thank you!\n",
        "http://imgur.com/h4ArlDC\n",
        "sillysoni\n",
        "None\n",
        "0\n",
        "[]"
       ]
      },
      {
       "output_type": "stream",
       "stream": "stdout",
       "text": [
        "\n",
        "t3_2mf0yi\n",
        "My nephew got caught RED-HANDED stealing the cake from the kitchen and made this face...\n",
        "http://m.imgur.com/u5USIRY\n",
        "dcfreewheel\n",
        "None\n",
        "0\n",
        "[]"
       ]
      },
      {
       "output_type": "stream",
       "stream": "stdout",
       "text": [
        "\n",
        "t3_2mf3df\n",
        "Please draw my son as an agent of sheild\n",
        "http://imgur.com/d0azMra\n",
        "annaduck\n",
        "None\n",
        "0\n",
        "[]"
       ]
      },
      {
       "output_type": "stream",
       "stream": "stdout",
       "text": [
        "\n",
        "t3_2mf3c1\n",
        "I'm playing a cartoon in an upcoming play (Lucy from Peanuts as a teenager) - draw me as one?\n",
        "http://m.imgur.com/5M2asUT\n",
        "shandelion\n",
        "None\n",
        "0\n",
        "[]"
       ]
      },
      {
       "output_type": "stream",
       "stream": "stdout",
       "text": [
        "\n",
        "t3_2mf2nh\n",
        "Draw my brothers and I\n",
        "http://imgur.com/a/cSq33\n",
        "extremebiker\n",
        "None\n",
        "1\n",
        "[<praw.objects.Comment object at 0x1066370>]"
       ]
      },
      {
       "output_type": "stream",
       "stream": "stdout",
       "text": [
        "\n",
        "t3_2mf206\n",
        "I would love if someone took the time to draw my favorite photo from my parents' wedding!\n",
        "http://imgur.com/XnLcK6O\n",
        "MCarmichael01\n",
        "None\n",
        "0\n",
        "[]"
       ]
      },
      {
       "output_type": "stream",
       "stream": "stdout",
       "text": [
        "\n",
        "t3_2mf1rb\n",
        "Please recreate this photo of my friend and I at a concert. Cartoon! Watercolor! ANYTHING!\n",
        "http://i.imgur.com/heohzEL.jpg\n",
        "katsuerain\n",
        "None\n",
        "0\n",
        "[]"
       ]
      }
     ]
    },
    {
     "cell_type": "code",
     "collapsed": false,
     "input": [
      "comdict"
     ],
     "language": "python",
     "metadata": {},
     "outputs": []
    },
    {
     "cell_type": "code",
     "collapsed": false,
     "input": [
      "comply = []"
     ],
     "language": "python",
     "metadata": {},
     "outputs": []
    },
    {
     "cell_type": "code",
     "collapsed": false,
     "input": [
      "fddict = {'test': 'test'}"
     ],
     "language": "python",
     "metadata": {},
     "outputs": []
    },
    {
     "cell_type": "code",
     "collapsed": false,
     "input": [
      "for comaq in comdefz:\n",
      "    for fdz in comaq:\n",
      "        print fdz\n",
      "        print fdz.author\n",
      "        print fdz.created_utc\n",
      "        print fdz.replies\n",
      "        fddict.update({fdz.author: fdz.body})\n",
      "        comply.append(fdz.replies)"
     ],
     "language": "python",
     "metadata": {},
     "outputs": []
    },
    {
     "cell_type": "code",
     "collapsed": false,
     "input": [
      "for coaz in comply:\n",
      "    print coaz\n",
      "    for coa in coaz:\n",
      "        print coa.body\n",
      "        print coa.author"
     ],
     "language": "python",
     "metadata": {},
     "outputs": []
    },
    {
     "cell_type": "code",
     "collapsed": false,
     "input": [
      "fddict.keys()"
     ],
     "language": "python",
     "metadata": {},
     "outputs": []
    },
    {
     "cell_type": "code",
     "collapsed": false,
     "input": [
      "def extractlinks(html):\n",
      "    soup = BeautifulSoup(html)\n",
      "    anchors = soup.findAll('a')\n",
      "    links = []\n",
      "    for a in anchors:\n",
      "        links.append(a['href'])\n",
      "    return links"
     ],
     "language": "python",
     "metadata": {},
     "outputs": []
    },
    {
     "cell_type": "code",
     "collapsed": false,
     "input": [
      "cydict = fddict.values()"
     ],
     "language": "python",
     "metadata": {},
     "outputs": []
    },
    {
     "cell_type": "code",
     "collapsed": false,
     "input": [
      "for itz in cydict:\n",
      "    print itz   "
     ],
     "language": "python",
     "metadata": {},
     "outputs": []
    },
    {
     "cell_type": "code",
     "collapsed": false,
     "input": [
      "chedict = {'blah': 'testing'}"
     ],
     "language": "python",
     "metadata": {},
     "outputs": []
    },
    {
     "cell_type": "code",
     "collapsed": false,
     "input": [
      "fixurl = BeautifulSoup(fddict.values())"
     ],
     "language": "python",
     "metadata": {},
     "outputs": []
    },
    {
     "cell_type": "code",
     "collapsed": false,
     "input": [
      "for coma in comdefz:\n",
      "    #print coma\n",
      "    #chedict.update({'first': coma})\n",
      "    for co in coma:\n",
      "        print co\n",
      "        chedict.update({co.author: co.body})"
     ],
     "language": "python",
     "metadata": {},
     "outputs": []
    },
    {
     "cell_type": "code",
     "collapsed": false,
     "input": [
      "chedict"
     ],
     "language": "python",
     "metadata": {},
     "outputs": []
    },
    {
     "cell_type": "code",
     "collapsed": false,
     "input": [
      "jsdum = json.loads(chedict)"
     ],
     "language": "python",
     "metadata": {},
     "outputs": []
    },
    {
     "cell_type": "code",
     "collapsed": false,
     "input": [
      "rcoms = chedict.keys()\n",
      "rvals = chedict.values()\n",
      "imcom = []"
     ],
     "language": "python",
     "metadata": {},
     "outputs": []
    },
    {
     "cell_type": "code",
     "collapsed": false,
     "input": [
      "for rvs in rvals:\n",
      "    print rvs\n",
      "    if '.jpg' or '.png' in rvs:\n",
      "        imcom.append(rvs)\n",
      "        "
     ],
     "language": "python",
     "metadata": {},
     "outputs": []
    },
    {
     "cell_type": "code",
     "collapsed": false,
     "input": [
      "imcom"
     ],
     "language": "python",
     "metadata": {},
     "outputs": []
    },
    {
     "cell_type": "code",
     "collapsed": false,
     "input": [
      "fuldoc = doc.render()"
     ],
     "language": "python",
     "metadata": {},
     "outputs": []
    },
    {
     "cell_type": "code",
     "collapsed": false,
     "input": [],
     "language": "python",
     "metadata": {},
     "outputs": []
    },
    {
     "cell_type": "code",
     "collapsed": false,
     "input": [
      "doc = dominate.document(title='Dominate your HTML')\n",
      "\n",
      "with doc.head:\n",
      "    link(rel='stylesheet', href='style.css')\n",
      "    script(type='text/javascript', src='script.js')\n",
      "\n",
      "with doc:\n",
      "    with div(id='header').add(ol()):\n",
      "        for imz in imcom:\n",
      "            #print imz\n",
      "            p(imz)\n",
      "\n",
      "    #with div():\n",
      "     #   attr(cls='body')\n",
      "     #   p('Lorem ipsum..')\n",
      "\n",
      "#print doc"
     ],
     "language": "python",
     "metadata": {},
     "outputs": []
    },
    {
     "cell_type": "code",
     "collapsed": false,
     "input": [
      "for docin in doc.head.children:\n",
      "    print docin"
     ],
     "language": "python",
     "metadata": {},
     "outputs": []
    },
    {
     "cell_type": "code",
     "collapsed": false,
     "input": [
      "for pain in docin.parent.children:\n",
      "    print pain"
     ],
     "language": "python",
     "metadata": {},
     "outputs": []
    },
    {
     "cell_type": "code",
     "collapsed": false,
     "input": [
      "doc.body.parent.children"
     ],
     "language": "python",
     "metadata": {},
     "outputs": []
    },
    {
     "cell_type": "code",
     "collapsed": false,
     "input": [],
     "language": "python",
     "metadata": {},
     "outputs": []
    },
    {
     "cell_type": "code",
     "collapsed": false,
     "input": [
      "soup = BeautifulSoup(doc)\n",
      "\n",
      "#print(soup.prettify())"
     ],
     "language": "python",
     "metadata": {},
     "outputs": []
    },
    {
     "cell_type": "code",
     "collapsed": false,
     "input": [
      "extractlinks()"
     ],
     "language": "python",
     "metadata": {},
     "outputs": []
    },
    {
     "cell_type": "code",
     "collapsed": false,
     "input": [
      "for imc in imcom:\n",
      "    print imc"
     ],
     "language": "python",
     "metadata": {},
     "outputs": []
    },
    {
     "cell_type": "code",
     "collapsed": false,
     "input": [
      "doc.body"
     ],
     "language": "python",
     "metadata": {},
     "outputs": []
    },
    {
     "cell_type": "code",
     "collapsed": false,
     "input": [],
     "language": "python",
     "metadata": {},
     "outputs": []
    },
    {
     "cell_type": "code",
     "collapsed": false,
     "input": [
      "doc.render()"
     ],
     "language": "python",
     "metadata": {},
     "outputs": []
    },
    {
     "cell_type": "code",
     "collapsed": false,
     "input": [
      "for dicaz in doc.children:\n",
      "    print dicaz"
     ],
     "language": "python",
     "metadata": {},
     "outputs": []
    },
    {
     "cell_type": "code",
     "collapsed": false,
     "input": [],
     "language": "python",
     "metadata": {},
     "outputs": []
    },
    {
     "cell_type": "code",
     "collapsed": false,
     "input": [
      "for imz in imcom:\n",
      "    \n",
      "    print imz"
     ],
     "language": "python",
     "metadata": {},
     "outputs": []
    },
    {
     "cell_type": "code",
     "collapsed": false,
     "input": [
      "for rez in rcoms:\n",
      "    print rez\n",
      "    "
     ],
     "language": "python",
     "metadata": {},
     "outputs": []
    },
    {
     "cell_type": "code",
     "collapsed": false,
     "input": [],
     "language": "python",
     "metadata": {},
     "outputs": []
    },
    {
     "cell_type": "code",
     "collapsed": false,
     "input": [
      "for rgt in rgdef.values():\n",
      "    if '.jpg' in rgt:\n",
      "        print rgt"
     ],
     "language": "python",
     "metadata": {},
     "outputs": []
    },
    {
     "cell_type": "code",
     "collapsed": false,
     "input": [
      "import dominate\n",
      "from dominate.tags import *\n",
      "\n",
      "doc = dominate.document(title='RedditGetsDrawn Recent Reference')\n",
      "\n",
      "with doc.head:\n",
      "    link(rel='stylesheet', href='style.css')\n",
      "    script(type='text/javascript', src='script.js')\n",
      "    \n",
      "    with div():\n",
      "        attr(cls='header')\n",
      "        h1('RedditGetsDrawn Recent Reference')\n",
      "        p('updated ', strftime(\"%a, %d %b %Y %H:%M:%S +0000\", gmtime()))\n",
      "\n",
      "    \n",
      "    \n",
      "\n",
      "with doc:\n",
      "    with div(id='body').add(ol()):\n",
      "        for rdz in rdnew:\n",
      "            h1(rdz.title)\n",
      "            a(rdz.url)\n",
      "            if '.jpg' or '.png' in rdz.url:\n",
      "                print rdz.url\n",
      "                p(img(rdz.url, src='%s' % rdz.url))\n",
      "            #print rdz.url\n",
      "            #if '.jpg' in rdz.url:\n",
      "            #    img(rdz.urlz)\n",
      "            #else:\n",
      "            #    a(rdz.urlz)\n",
      "            p(str(rdz.author))\n",
      "            \n",
      "            #li(img(i.lower(), src='%s' % i))\n",
      "\n",
      "    with div():\n",
      "        attr(cls='body')\n",
      "        p('RGDRecentReference is open source')\n",
      "        a('http://github.com/wcmckee/wcmckee')\n",
      "\n",
      "#print doc"
     ],
     "language": "python",
     "metadata": {},
     "outputs": []
    },
    {
     "cell_type": "code",
     "collapsed": false,
     "input": [
      "rgdir = ('/home/wcmckee/rgdrecentReference/')"
     ],
     "language": "python",
     "metadata": {},
     "outputs": []
    },
    {
     "cell_type": "code",
     "collapsed": false,
     "input": [
      "os.chdir(rgdir)"
     ],
     "language": "python",
     "metadata": {},
     "outputs": []
    },
    {
     "cell_type": "code",
     "collapsed": false,
     "input": [
      "#mkindex = open('index.html', 'w')\n",
      "#mkindex.write(str(doc))\n",
      "#mkindex.close()"
     ],
     "language": "python",
     "metadata": {},
     "outputs": []
    },
    {
     "cell_type": "code",
     "collapsed": false,
     "input": [
      "#print str(doc)"
     ],
     "language": "python",
     "metadata": {},
     "outputs": []
    },
    {
     "cell_type": "code",
     "collapsed": false,
     "input": [
      "print strftime(\"%a, %d %b %Y %H:%M:%S +0000\")"
     ],
     "language": "python",
     "metadata": {},
     "outputs": []
    },
    {
     "cell_type": "code",
     "collapsed": false,
     "input": [
      "savedate = strftime(\"%d\" + \"-\" + \"%M\" + \"-\" + \"%Y\" + \"-\" + \"%H\")"
     ],
     "language": "python",
     "metadata": {},
     "outputs": []
    },
    {
     "cell_type": "code",
     "collapsed": false,
     "input": [
      "savedate"
     ],
     "language": "python",
     "metadata": {},
     "outputs": []
    },
    {
     "cell_type": "code",
     "collapsed": false,
     "input": [
      "deepone = str(savedate + '.md')"
     ],
     "language": "python",
     "metadata": {},
     "outputs": []
    },
    {
     "cell_type": "code",
     "collapsed": false,
     "input": [
      "deepone"
     ],
     "language": "python",
     "metadata": {},
     "outputs": []
    },
    {
     "cell_type": "code",
     "collapsed": false,
     "input": [
      "#os.chdir('/home/wcmckee/brobeur-blog-post/')"
     ],
     "language": "python",
     "metadata": {},
     "outputs": []
    },
    {
     "cell_type": "code",
     "collapsed": false,
     "input": [
      "#brobeind = open('\u00edndex.html', 'r')"
     ],
     "language": "python",
     "metadata": {},
     "outputs": []
    },
    {
     "cell_type": "code",
     "collapsed": false,
     "input": [
      "#brotest = open('\u00edndex.html', 'r')\n",
      "#brotest.read()"
     ],
     "language": "python",
     "metadata": {},
     "outputs": []
    },
    {
     "cell_type": "code",
     "collapsed": false,
     "input": [
      "redposts = ('/home/wcmckee/rgdrecentReference/posts')"
     ],
     "language": "python",
     "metadata": {},
     "outputs": []
    },
    {
     "cell_type": "code",
     "collapsed": false,
     "input": [
      "os.chdir(redposts)"
     ],
     "language": "python",
     "metadata": {},
     "outputs": []
    },
    {
     "cell_type": "code",
     "collapsed": false,
     "input": [
      "time.asctime()"
     ],
     "language": "python",
     "metadata": {},
     "outputs": []
    },
    {
     "cell_type": "code",
     "collapsed": false,
     "input": [
      "savinx = open(str(deepone), 'w')"
     ],
     "language": "python",
     "metadata": {},
     "outputs": []
    },
    {
     "cell_type": "code",
     "collapsed": false,
     "input": [
      "savinx.write(str(rgdef))"
     ],
     "language": "python",
     "metadata": {},
     "outputs": []
    },
    {
     "cell_type": "code",
     "collapsed": false,
     "input": [
      "savinx.close()"
     ],
     "language": "python",
     "metadata": {},
     "outputs": []
    },
    {
     "cell_type": "code",
     "collapsed": false,
     "input": [],
     "language": "python",
     "metadata": {},
     "outputs": []
    },
    {
     "cell_type": "code",
     "collapsed": false,
     "input": [],
     "language": "python",
     "metadata": {},
     "outputs": []
    },
    {
     "cell_type": "code",
     "collapsed": false,
     "input": [],
     "language": "python",
     "metadata": {},
     "outputs": []
    }
   ],
   "metadata": {}
  }
 ]
}