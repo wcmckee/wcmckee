{
 "metadata": {
  "name": "",
<<<<<<< HEAD
  "signature": "sha256:08a498dd3b40e9e1ba35a232d923317c1505aacebf58efa611ee6345b9821816"
=======
  "signature": "sha256:9c16867c69d6370568b3d2cd478284ee08c58853674c2f0744e0c54dd7ee996f"
>>>>>>> cebc23c0078684844ab3b731f413323f7c5b2c4d
 },
 "nbformat": 3,
 "nbformat_minor": 0,
 "worksheets": [
  {
   "cells": [
    {
     "cell_type": "markdown",
     "metadata": {},
     "source": [
      "<h1>Reddit Gets Drawn Snatch Script</h1>\n",
      "\n",
      "Creates the website redditgetsdrawnrecentreference. It contains the 25 most recent posts on r/redditgetsdrawn. title, image url, and username\n",
      "\n",
      "TODO:\n",
      "Contains artwork replies to each thread\n",
      "\n",
      "This is a Python script that takes data from reddit and posts it to another subreddit. It also creates a html file with the images embed into. The images are the most recent 25 on r/redditgetsdrawn."
     ]
    },
    {
     "cell_type": "markdown",
     "metadata": {},
     "source": [
      "RedditGetsDrawn Snatch\n",
      " \n",
      "This is a Python script that takes data from reddit and posts it to another subreddit. It also creates a html file with the images embed into. The images are the most recent 25 on r/redditgetsdrawn.\n",
      " \n",
      "\n",
      "<markdowncell>\n",
      "\n",
      "TODO\n",
      " \n",
      "submit art to users via website\n",
      " \n",
      "fix image sizes (need to scale down to 550px)\n",
      " \n",
      "Save to server rather than imgur\n",
      " \n",
      "Archieve, snapshots of rgd\n",
      " \n",
      "more artcontrol\n",
      " \n",
      "itwillbemine comments to html - currently being saved in contact \n",
      " \n",
      "work on css, div up page, title, side, body, fo\n",
      "\n",
      "update twitter with ONE IMAGE and announce that the list has been updated.\n",
      " \n",
      "write blog post and submits to artcontroldrawsyou/blog \n",
      " \n",
      "gets sticked post on reddit\n",
      " \n",
      "delete about/contact page and have on all same page. can still have link to blog. \n",
      "about \n",
      "contact etc... along the top.\n",
      "other sections\n",
      " \n",
      "post images to blog for archieve - save body to wcmckee.com/blog - md format?\n",
      " \n",
      "nikola install - build site.\n",
      " \n",
      "cronjob to update site ever ?? hours? 4?\n",
      " \n",
      "photos section: latest 25 photos submitted to redditgetsdrawn.\n",
      "art section: latest 25 art submitted to redditgetsdrawn. "
     ]
    },
    {
     "cell_type": "code",
     "collapsed": false,
     "input": [
      "import os\n",
      "import random\n",
      "import requests\n",
      "from bs4 import BeautifulSoup\n",
      "import re\n",
      "import json\n",
      "import time\n",
      "import praw\n",
      "import dominate\n",
      "from dominate.tags import *\n",
      "from time import gmtime, strftime\n",
      "import nose\n",
      "import unittest\n",
      "\n",
      "# <codecell>"
     ],
     "language": "python",
     "metadata": {},
     "outputs": [],
     "prompt_number": 1
    },
    {
     "cell_type": "code",
     "collapsed": false,
     "input": [
      "chdira = ('/home/wcmckee/artcontroldrawsyou')\n",
      "os.chdir(chdira)"
     ],
     "language": "python",
     "metadata": {},
     "outputs": [],
     "prompt_number": 2
    },
    {
     "cell_type": "code",
     "collapsed": false,
     "input": [
      "r = praw.Reddit(user_agent='rgdsnatch')\n",
      "\n",
      "# <codecell>\n",
      "\n",
      "#r.login('artcontrol', 'taylor123vag!')\n",
      "\n",
      "# <codecell>\n",
      "\n",
      "rd = r.get_subreddit('redditgetsdrawn')\n",
      "\n",
      "# <codecell>\n",
      "\n",
      "subz = rd.get_hot().next()\n",
      "istit = (subz.title)\n",
      "istxt = (subz.selftext_html)\n",
      "istick = (subz.stickied)\n",
      "\n",
      "rdnewz = rd.get_new()\n",
      "\n",
      "rdnew = []"
     ],
     "language": "python",
     "metadata": {},
     "outputs": [],
     "prompt_number": 3
    },
    {
     "cell_type": "code",
     "collapsed": false,
     "input": [
      "reddraw = praw.Reddit(user_agent='rgdsnatch')"
     ],
     "language": "python",
     "metadata": {},
     "outputs": [],
     "prompt_number": 4
    },
    {
     "cell_type": "code",
     "collapsed": false,
     "input": [
      "getrddraw = reddraw.get_subreddit('redditgetsdrawn')"
     ],
     "language": "python",
     "metadata": {},
     "outputs": [],
     "prompt_number": 5
    },
    {
     "cell_type": "code",
     "collapsed": false,
     "input": [
      "subz = getrddraw.get_new()"
     ],
     "language": "python",
     "metadata": {},
     "outputs": [],
     "prompt_number": 6
    },
    {
     "cell_type": "code",
     "collapsed": false,
     "input": [
      "class TestRedditFunction(unittest.TestCase):\n",
      "    \n",
      "    def setUp(self):\n",
      "        self.seq = reddraw.get_subreddit('redditgetsdrawn')\n",
      "        \n",
      "    def testredit(self):\n",
      "        drawnew('redditgetsdrawn') "
     ],
     "language": "python",
     "metadata": {},
     "outputs": [],
     "prompt_number": 7
    },
    {
     "cell_type": "code",
     "collapsed": false,
     "input": [
      "def drawnew(subred):\n",
      "    getrdraw = reddraw.get_subreddit(subred)\n",
      "    return getrdraw"
     ],
     "language": "python",
     "metadata": {},
     "outputs": [],
     "prompt_number": 8
    },
    {
     "cell_type": "code",
     "collapsed": false,
     "input": [
      "rdrws = drawnew('redditgetsdrawn')"
     ],
     "language": "python",
     "metadata": {},
     "outputs": [],
     "prompt_number": 9
    },
    {
     "cell_type": "code",
     "collapsed": false,
     "input": [
      "rtohr = rdrws.get_controversial_from_all()"
     ],
     "language": "python",
     "metadata": {},
     "outputs": [],
     "prompt_number": 10
    },
    {
     "cell_type": "code",
     "collapsed": false,
     "input": [
      "for imgz in rtohr:\n",
      "    #print imgz.selftext\n",
      "    print imgz.num_comments"
     ],
     "language": "python",
     "metadata": {},
     "outputs": [],
     "prompt_number": 56
    },
    {
     "cell_type": "code",
     "collapsed": false,
     "input": [
      "rdnew = []"
     ],
     "language": "python",
     "metadata": {},
     "outputs": [],
     "prompt_number": 12
    },
    {
     "cell_type": "code",
     "collapsed": false,
     "input": [
      "rdnewz = getrddraw.get_new()\n",
      "\n",
      "# <codecell>\n",
      "\n",
      "rdnew = []\n",
      "\n",
      "# <codecell>\n",
      "\n",
      "rdnew\n",
      "\n",
      "# <codecell>\n",
      "\n",
      "for uz in rdnewz:\n",
      "    #print uz\n",
      "    rdnew.append(uz)\n"
     ],
     "language": "python",
     "metadata": {},
     "outputs": [],
     "prompt_number": 13
    },
    {
     "cell_type": "code",
     "collapsed": false,
     "input": [
      "datelis = []\n",
      "refdic = {}\n",
      "rgdef = {'test': 'testvalue'}\n",
      "comdefz = []\n"
     ],
     "language": "python",
     "metadata": {},
     "outputs": [],
<<<<<<< HEAD
     "prompt_number": 81
=======
     "prompt_number": 78
>>>>>>> cebc23c0078684844ab3b731f413323f7c5b2c4d
    },
    {
     "cell_type": "code",
     "collapsed": false,
     "input": [
      "for rdz in rdnew:\n",
      "    print rdz.name\n",
      "    print rdz.title\n",
      "    print rdz.url\n",
      "    print rdz.author\n",
      "    print rdz.secure_media\n",
      "    print rdz.num_comments\n",
      "    print rdz.comments\n",
      "    comdefz.append(rdz.comments)\n",
      "    datelis.append(rdz.title)\n",
      "    datelis.append(rdz.url)\n",
      "    datelis.append(rdz.author)\n",
      "    comdict = {'comtxt':rdz.comments}\n",
      "    rgdef.update({rdz.author: rdz.url})"
     ],
     "language": "python",
     "metadata": {},
     "outputs": [
      {
       "output_type": "stream",
       "stream": "stdout",
       "text": [
        "t3_2k6474\n",
        "My daughter and I. I'd be incredibly grateful if someone could draw us!\n",
        "http://imgur.com/sQdKjBW\n",
        "TheKittenButcher\n",
        "None\n",
        "1\n",
        "[<praw.objects.Comment object at 0x2c85070>, <praw.objects.Comment object at 0x2c69c50>]\n",
        "t3_2k60zd\n",
        "Girlfriend sends me a selfie, I wanna 'draw' her a surprise! Thanks!\n",
        "http://i.imgur.com/OD3VgnQ.jpg\n",
        "swifter7067\n",
        "None\n",
        "0\n",
        "[]\n",
        "t3_2k5zz2\n",
        "Colorful cuddles. My two cats snuggled on the couch, Lucy and Jude.\n",
        "http://i.imgur.com/oLlxrDs.jpg\n",
        "curious-soul\n",
        "None\n",
        "0\n",
        "[]\n",
        "t3_2k5zsb\n",
        "me and my buddy getting down... can you draw us up? (corny i know)\n",
        "http://imgur.com/qr9pjmU\n",
        "Born_Illa\n",
        "None\n",
        "0\n",
        "[]\n",
        "t3_2k5za1\n",
        "Anyone fancy drawing my father in one of his rare serious moments?\n",
        "http://imgur.com/jc14NtG\n",
        "thatg33kgirl\n",
        "None\n",
        "0\n",
        "[<praw.objects.Comment object at 0x2c85450>]\n",
        "t3_2k5yv7\n",
        "One of my best and sweetest friend married this weekend. We can't wait to see your art!\n",
        "http://imgur.com/3YZWmEF\n",
        "italoandre\n",
        "None\n",
        "1\n",
        "[<praw.objects.Comment object at 0x2c85530>]\n",
        "t3_2k5ybq\n",
        "Could you draw me and my skateboard?\n",
        "http://imgur.com/6PoDq3W\n",
        "juantron\n",
<<<<<<< HEAD
        "None\n",
        "0\n",
        "[<praw.objects.Comment object at 0x2c854b0>]\n",
        "t3_2k5wdv\n",
        "Could somebody draw me please?\n",
        "http://i.imgur.com/0583b5U.jpg\n",
        "boobiesandbooze\n",
        "None\n",
=======
        "None\n",
        "0\n",
        "[<praw.objects.Comment object at 0x2c854b0>]\n",
        "t3_2k5wdv\n",
        "Could somebody draw me please?\n",
        "http://i.imgur.com/0583b5U.jpg\n",
        "boobiesandbooze\n",
        "None\n",
>>>>>>> cebc23c0078684844ab3b731f413323f7c5b2c4d
        "7\n",
        "[<praw.objects.Comment object at 0x2e2ee90>, <praw.objects.Comment object at 0x2e3b250>, <praw.objects.Comment object at 0x2d44870>, <praw.objects.Comment object at 0x2d44950>]\n",
        "t3_2k5tm2\n",
        "This is one of my favorite photos of me with one of my best friends. Even though it's a bit blurry, I'd love to see some interpretations of it. Any and all styles welcome!\n",
        "http://i.imgur.com/XbO2PMh.jpg\n",
        "Sarahbelle89\n",
        "None\n",
        "0\n",
        "[]\n",
        "t3_2k4mta\n",
        "My brother and his friends from grade school.\n",
        "http://i.imgur.com/cCAC7RZ.jpg\n",
        "TreeMonster\n",
<<<<<<< HEAD
        "None\n",
        "0\n",
        "[]\n",
        "t3_2k575e\n",
        "This is my teeny-tiny class of best friends as Juniors. Now that we're Seniors, I'd love to surprise them with a drawing of our unconventional yearbook portraits! (x-post from r/funny)\n",
        "http://imgur.com/wJdZ8VV\n",
        "sophiebell9\n",
        "None\n",
        "24\n",
        "[<praw.objects.Comment object at 0x2d5c3b0>, <praw.objects.Comment object at 0x2d5c4d0>, <praw.objects.Comment object at 0x2d5cbb0>, <praw.objects.Comment object at 0x2d5cc70>, <praw.objects.Comment object at 0x2e3b9b0>, <praw.objects.Comment object at 0x2d5cc30>]\n",
        "t3_2k5fve\n",
        "Care to draw Me (on left) and my two raving bandit amigos at a dust storm ravaged music festival? Go nuts!\n",
        "http://i.imgur.com/IqN80iJ.jpg\n",
        "RiverHorsez\n",
        "None\n",
        "0\n",
        "[]\n",
        "t3_2k5fzw"
=======
        "None"
>>>>>>> cebc23c0078684844ab3b731f413323f7c5b2c4d
       ]
      },
      {
       "output_type": "stream",
       "stream": "stdout",
       "text": [
        "\n",
<<<<<<< HEAD
        "Anybody kind of to draw this lame picture of me and my girl?\n",
        "http://imgur.com/nsi0K5M\n",
        "Agonzy\n",
        "None\n",
        "0\n",
        "[]\n",
        "t3_2k5g3j\n",
        "BW profile of myself\n",
        "http://i.imgur.com/BPnAvgl.jpg\n",
        "BootieTrap\n",
        "None\n",
        "0\n",
=======
        "0\n",
        "[]\n",
        "t3_2k575e\n",
        "This is my teeny-tiny class of best friends as Juniors. Now that we're Seniors, I'd love to surprise them with a drawing of our unconventional yearbook portraits! (x-post from r/funny)\n",
        "http://imgur.com/wJdZ8VV\n",
        "sophiebell9\n",
        "None\n",
        "24\n",
        "[<praw.objects.Comment object at 0x2d5c3b0>, <praw.objects.Comment object at 0x2d5c4d0>, <praw.objects.Comment object at 0x2d5cbb0>, <praw.objects.Comment object at 0x2d5cc70>, <praw.objects.Comment object at 0x2e3b9b0>, <praw.objects.Comment object at 0x2d5cc30>]\n",
        "t3_2k5fve\n",
        "Care to draw Me (on left) and my two raving bandit amigos at a dust storm ravaged music festival? Go nuts!\n",
        "http://i.imgur.com/IqN80iJ.jpg\n",
        "RiverHorsez\n",
        "None\n",
        "0\n",
        "[]\n",
        "t3_2k5fzw\n",
        "Anybody kind of to draw this lame picture of me and my girl?\n",
        "http://imgur.com/nsi0K5M\n",
        "Agonzy\n",
        "None\n",
        "0\n",
        "[]\n",
        "t3_2k5g3j\n",
        "BW profile of myself\n",
        "http://i.imgur.com/BPnAvgl.jpg\n",
        "BootieTrap\n",
        "None\n",
        "0\n",
>>>>>>> cebc23c0078684844ab3b731f413323f7c5b2c4d
        "[<praw.objects.Comment object at 0x2e3b850>]\n",
        "t3_2k5ih2\n",
        "Hi, can someone draw my friend and his ridiculous hairdo? :)\n",
        "http://imgur.com/bXU0Fpj\n",
        "ecoboy_091702\n",
        "None\n",
        "2\n",
        "[<praw.objects.Comment object at 0x2d44550>]\n",
        "t3_2k4mxq\n",
        "This is my favorite photo of my fiance and I together. I'd love to see what anyone could do with this!\n",
        "http://imgur.com/fLwTIjK\n",
        "amberlylou\n",
        "None\n",
        "1\n",
        "[<praw.objects.Comment object at 0x2e15a50>]\n",
        "t3_2k4o9v\n",
        "I would love to see what Reddit could do with this 1992 photo of my mom and I. I know she would love a drawing of it.\n",
        "http://i.imgur.com/xWQw0YB.png\n",
        "marissanicolee15\n",
        "None\n",
        "0\n",
        "[]\n",
        "t3_2k4rsp\n",
        "Challenge: please draw me with your non-dominant hand.\n",
        "http://i.imgur.com/uO5kNeX.jpg\n",
        "IpNyurButt\n",
        "None\n",
        "5\n",
        "[<praw.objects.Comment object at 0x2e0c7f0>, <praw.objects.Comment object at 0x2e15750>, <praw.objects.Comment object at 0x2c73a70>, <praw.objects.Comment object at 0x2d5cef0>, <praw.objects.Comment object at 0x2d75810>]\n",
        "t3_2k4ulj\n",
        "If anyone has a moment that they could spend drawing my boyfriend and i it would be greatly appreciated\n",
        "http://i.imgur.com/MluD2DA.jpg\n",
        "thatonegirl95\n",
        "None\n",
        "0\n",
        "[]\n",
        "t3_2k4w68\n",
        "Can you please draw me?\n",
        "http://imgur.com/SAKfQfl\n",
        "Z000001\n",
        "None\n",
        "1\n",
        "[<praw.objects.Comment object at 0x2d75b90>]\n",
        "t3_2k4xah\n",
        "This is me at an awesome beach.\n",
        "http://i.imgur.com/4HpGQt7.jpg\n",
        "brunosssaur\n",
<<<<<<< HEAD
        "None\n",
        "5\n",
        "[<praw.objects.Comment object at 0x2d5ce30>, <praw.objects.Comment object at 0x2c69650>, <praw.objects.Comment object at 0x2d75eb0>, <praw.objects.Comment object at 0x2d7aa10>]\n",
        "t3_2k515f\n",
        "I would love to see what reddit can do for this backstage picture of me (sorry it's a bit grainy)\n",
        "http://i.imgur.com/CMgO4YZ.jpg\n",
        "ARYAWILLKILLYOU\n",
        "None\n",
        "9\n",
        "[<praw.objects.Comment object at 0x2e157d0>, <praw.objects.Comment object at 0x2e158f0>, <praw.objects.Comment object at 0x2e2eb50>, <praw.objects.Comment object at 0x2e2ebd0>]\n",
        "t3_2k52op\n",
        "Would love to get our baby #2 drawn! I think it'd make a great framed picture/present for my boyfriend :) If possible, only our kitty and his friend please.\n",
        "http://i.imgur.com/4DfBw2x.jpg\n",
        "candies_sweets_sugar\n",
        "None\n",
=======
        "None\n",
        "5\n",
        "[<praw.objects.Comment object at 0x2d5ce30>, <praw.objects.Comment object at 0x2c69650>, <praw.objects.Comment object at 0x2d75eb0>, <praw.objects.Comment object at 0x2d7aa10>]\n",
        "t3_2k515f\n",
        "I would love to see what reddit can do for this backstage picture of me (sorry it's a bit grainy)\n",
        "http://i.imgur.com/CMgO4YZ.jpg\n",
        "ARYAWILLKILLYOU\n",
        "None\n",
        "9\n",
        "[<praw.objects.Comment object at 0x2e157d0>, <praw.objects.Comment object at 0x2e158f0>, <praw.objects.Comment object at 0x2e2eb50>, <praw.objects.Comment object at 0x2e2ebd0>]\n",
        "t3_2k52op\n",
        "Would love to get our baby #2 drawn! I think it'd make a great framed picture/present for my boyfriend :) If possible, only our kitty and his friend please.\n",
        "http://i.imgur.com/4DfBw2x.jpg\n",
        "candies_sweets_sugar\n",
        "None\n",
>>>>>>> cebc23c0078684844ab3b731f413323f7c5b2c4d
        "0\n",
        "[]\n",
        "t3_2k554o\n",
        "Beautiful, reflecting silhouette picture of my girlfriend. Would love to surprise her to get this picture drawn/painted for her birthday. Ps Reddit rules!\n",
        "http://i.imgur.com/rjE7Bgi.png\n",
        "hamsterdam51\n",
        "None\n",
        "1\n",
        "[<praw.objects.Comment object at 0x2d7aab0>]\n",
        "t3_2k5alg\n",
        "Can you draw me in your best way possible? Thank you!\n",
        "http://imgur.com/eZ9CDeu\n",
        "ulyanaaa\n",
        "None\n",
        "1\n",
        "[<praw.objects.Comment object at 0x2e3bff0>, <praw.objects.Comment object at 0x2c95d10>, <praw.objects.Comment object at 0x2e2ebb0>]\n"
       ]
      }
     ],
<<<<<<< HEAD
     "prompt_number": 82
=======
     "prompt_number": 79
>>>>>>> cebc23c0078684844ab3b731f413323f7c5b2c4d
    },
    {
     "cell_type": "code",
     "collapsed": false,
<<<<<<< HEAD
     "input": [
      "comdict"
     ],
     "language": "python",
     "metadata": {},
     "outputs": [
      {
       "metadata": {},
       "output_type": "pyout",
       "prompt_number": 88,
       "text": [
        "{'comtxt': [<praw.objects.Comment at 0x2e3bff0>,\n",
        "  <praw.objects.Comment at 0x2c95d10>,\n",
        "  <praw.objects.Comment at 0x2e2ebb0>]}"
       ]
      }
     ],
     "prompt_number": 88
=======
     "input": [],
     "language": "python",
     "metadata": {},
     "outputs": []
>>>>>>> cebc23c0078684844ab3b731f413323f7c5b2c4d
    },
    {
     "cell_type": "code",
     "collapsed": false,
     "input": [
      "comply = []"
     ],
     "language": "python",
     "metadata": {},
     "outputs": [],
<<<<<<< HEAD
     "prompt_number": 89
=======
     "prompt_number": 71
>>>>>>> cebc23c0078684844ab3b731f413323f7c5b2c4d
    },
    {
     "cell_type": "code",
     "collapsed": false,
     "input": [
      "for comaq in comdefz:\n",
      "    for fdz in comaq:\n",
      "        print fdz\n",
      "        print fdz.author\n",
      "        print fdz.created_utc\n",
      "        print fdz.replies\n",
<<<<<<< HEAD
      "        fddict = {'comtext': fdz.body}\n",
=======
>>>>>>> cebc23c0078684844ab3b731f413323f7c5b2c4d
      "        comply.append(fdz.replies)"
     ],
     "language": "python",
     "metadata": {},
     "outputs": [
      {
       "output_type": "stream",
       "stream": "stdout",
       "text": [
        "A simple sketch for You. I took the liberties to rotate the image:\n",
        "\n",
        "Prelimina...\n",
        "drawinglearner\n",
        "1414164406.0\n",
        "[<praw.objects.Comment object at 0x2c857d0>]\n",
        "[deleted]\n",
        "None\n",
        "1414134504.0\n",
        "[<praw.objects.Comment object at 0x2c69970>]\n",
        "[image](http://i.imgur.com/EuzkQl8.jpg)\n",
        "patogrande\n",
        "1414166532.0\n",
        "[<praw.objects.Comment object at 0x2e3b0d0>]\n",
        "WIP, she needs a bit more detail still! http://m.imgur.com/r3Ctmdv\n",
        "\n",
        "EDIT: I'm...\n",
        "waffleandbear\n",
        "1414145781.0\n",
        "[<praw.objects.Comment object at 0x2c73d30>]\n",
        "[hmmm](http://i.imgur.com/PFcvXzx.jpg?1)\n",
        "gorfnarb\n",
        "1414153556.0\n",
        "[<praw.objects.Comment object at 0x2e3b2d0>]\n",
        "[Eyes Popping, Hair Blue.](http://i.imgur.com/2AGUsCf.png)\n",
        "LucarioPrime\n",
        "1414140017.0\n",
        "[<praw.objects.Comment object at 0x2e3b170>]\n",
        "I feel more than a little rusty at this, but [here's what I came up with.](ht...\n",
        "llewesdarb\n",
        "1414135686.0\n",
        "[<praw.objects.Comment object at 0x2d444f0>]\n",
        "[Nice username!](http://imgur.com/NmvT10y)\n",
        "\n",
        "Thanks for the picture! I wish I ...\n",
        "LilaSunflower\n",
        "1414137661.0\n",
        "[<praw.objects.Comment object at 0x2d44770>]\n",
        "http://i.imgur.com/sGZ3ueh.jpg\n",
        "Reeceepeeceepoop\n",
        "1414164548.0\n",
        "[<praw.objects.Comment object at 0x2e3b830>]\n",
        "This was really fun! I drew it because it reminds me of my JHS friends :) [he...\n",
        "kelberlee\n",
        "1414125315.0\n",
        "[<praw.objects.Comment object at 0x2d50db0>, <praw.objects.Comment object at 0x2c857f0>, <praw.objects.Comment object at 0x2e2e5b0>, <praw.objects.Comment object at 0x2d50b30>, <praw.objects.Comment object at 0x2d50ff0>, <praw.objects.Comment object at 0x2d50fb0>, <praw.objects.Comment object at 0x2d5c130>, <praw.objects.Comment object at 0x2d50d50>, <praw.objects.Comment object at 0x2d44990>, <praw.objects.Comment object at 0x2d50d30>, <praw.objects.Comment object at 0x2d5c2b0>]\n",
        "[Gave it a shot!](http://turtleturkle.tumblr.com/post/100816814119/this-took-...\n",
        "nugget_meal\n",
        "1414138785.0\n",
        "[<praw.objects.Comment object at 0x2d50790>, <praw.objects.Comment object at 0x2d5c270>, <praw.objects.Comment object at 0x2d5c6b0>]\n",
        "[that was fun](http://i.imgur.com/s5JP44R.png)\n",
        "repbunny\n",
        "1414139428.0\n",
        "[<praw.objects.Comment object at 0x2d5c350>, <praw.objects.Comment object at 0x2d5c8f0>, <praw.objects.Comment object at 0x2d5c850>, <praw.objects.Comment object at 0x2d5c830>, <praw.objects.Comment object at 0x2d5c9b0>, <praw.objects.Comment object at 0x2d5ca10>, <praw.objects.Comment object at 0x2d5cb70>]\n",
        "[deleted]\n",
        "None\n",
<<<<<<< HEAD
        "1414126541.0\n",
=======
        "1414126541.0"
       ]
      },
      {
       "output_type": "stream",
       "stream": "stdout",
       "text": [
        "\n",
>>>>>>> cebc23c0078684844ab3b731f413323f7c5b2c4d
        "[<praw.objects.Comment object at 0x2d5c430>]\n",
        "[deleted]\n",
        "None\n",
        "1414166439.0\n",
        "[<praw.objects.Comment object at 0x2d5ccb0>]\n",
        "[deleted]\n",
<<<<<<< HEAD
        "None"
       ]
      },
      {
       "output_type": "stream",
       "stream": "stdout",
       "text": [
        "\n",
=======
        "None\n",
>>>>>>> cebc23c0078684844ab3b731f413323f7c5b2c4d
        "1414153411.0\n",
        "[<praw.objects.Comment object at 0x2d5cdb0>]\n",
        "http://i.imgur.com/m7JlRum.jpg\n",
        "-lazuli\n",
        "1414166659.0\n",
        "[<praw.objects.Comment object at 0x2d44b50>]\n",
        "First post (hopefully of many) on this sub reddit! Trying to do a bit of a ca...\n",
        "Reeceepeeceepoop\n",
        "1414116331.0\n",
        "[<praw.objects.Comment object at 0x2e15830>]\n",
        "Here you go! [Imgur](http://i.imgur.com/UiNQlUZ.jpg)\n",
        "heretodraw\n",
        "1414128683.0\n",
        "[<praw.objects.Comment object at 0x2e151b0>]\n",
        "Shit is hard, I tried 3 times\n",
        "http://imgur.com/q8urfYn\n",
        "smokeybeard\n",
        "1414124221.0\n",
        "[<praw.objects.Comment object at 0x2c85c50>, <praw.objects.Comment object at 0x24725b0>]\n",
        "Challenge accepted http://imgur.com/E0qqQtd\n",
        "sporkdiddy\n",
        "1414146506.0\n",
        "[]\n",
        "You're so welcome for this interpretation of your face. And by so welcome, I ...\n",
        "waffleandbear\n",
        "1414134633.0\n",
        "[<praw.objects.Comment object at 0x2d5ca50>]\n",
        "Erm, [I'd finished this last night ]( http://i.imgur.com/pU2UeWA.jpg)...and t...\n",
        "czarkohl\n",
        "1414156127.0\n",
        "[<praw.objects.Comment object at 0x2c73570>]\n",
        "[I kind of like this style. I might try it more often](http://i.imgur.com/h38...\n",
        "gorfnarb\n",
        "1414163061.0\n",
        "[<praw.objects.Comment object at 0x2c695d0>]\n",
        "[heres one](http://i.imgur.com/t2pCBqP.jpg)\n",
        "ButterRican\n",
        "1414114981.0\n",
        "[<praw.objects.Comment object at 0x2d7a210>]\n",
        "http://i.imgur.com/D4aQbRK.jpg\n",
        "\n",
        "Edit: Better link that isn't rotated on hover...\n",
        "jellyfish_teeth\n",
        "1414125644.0\n",
        "[<praw.objects.Comment object at 0x2d7a7f0>]\n",
        "http://33.media.tumblr.com/50648d83cf19118dca11a40b090253e9/tumblr_ndxjt0bYQO...\n",
        "TeachersPen\n",
        "1414122490.0\n",
        "[<praw.objects.Comment object at 0x2e15e70>]\n",
        "Also: feel free to create anything you want, for instance a psychedelic backg...\n",
        "brunosssaur\n",
        "1414100718.0\n",
        "[]\n",
        "http://i.imgur.com/Z4UCbRd.jpg Here you go!\n",
        "Reeceepeeceepoop\n",
        "1414178743.0\n",
        "[]\n",
        "[Drapery](http://i.imgur.com/yK4fIc5.jpg)\n",
        "LucarioPrime\n",
        "1414116579.0\n",
        "[<praw.objects.Comment object at 0x2c85330>]\n",
        "[here](http://i.imgur.com/k0McEr0.png) is a close up on the face, and [here](...\n",
        "kelberlee\n",
        "1414126871.0\n",
        "[<praw.objects.Comment object at 0x2c95190>]\n",
        "Managed to get in a quick [sketch](http://i.imgur.com/ErvXjOk.jpg) before wor...\n",
        "Maginnis\n",
        "1414119670.0\n",
        "[<praw.objects.Comment object at 0x2e15dd0>, <praw.objects.Comment object at 0x2c85250>]\n",
        "[Pencil sketch](http://i.imgur.com/XZjWWYe.jpg)\n",
        "Jastyoot\n",
        "1414122307.0\n",
        "[<praw.objects.Comment object at 0x2e2ed30>]\n",
        "[Reflect](http://i.imgur.com/xqCJ8lZ.png)\n",
        "LucarioPrime\n",
        "1414114770.0\n",
        "[]\n",
        "A quick sketch for You:\n",
        "\n",
        "http://i.imgur.com/D3HSlvq.jpg\n",
        "\n",
        "drawinglearner\n",
        "1414119545.0\n",
        "[<praw.objects.Comment object at 0x2e5b230>]\n",
        "[let me know what you think :)](http://imgur.com/854W4Ip)\n",
        "i_draw_u\n",
        "1414155098.0\n",
        "[<praw.objects.Comment object at 0x2e0cf10>]\n",
        "http://i.imgur.com/FnCLV43.jpg\n",
        "Reeceepeeceepoop\n",
        "1414169975.0\n",
<<<<<<< HEAD
        "[]"
       ]
      },
      {
       "output_type": "stream",
       "stream": "stdout",
       "text": [
        "\n"
       ]
      }
     ],
     "prompt_number": 90
=======
        "[]\n"
       ]
      }
     ],
     "prompt_number": 72
>>>>>>> cebc23c0078684844ab3b731f413323f7c5b2c4d
    },
    {
     "cell_type": "code",
     "collapsed": false,
     "input": [
      "for coaz in comply:\n",
      "    print coaz\n",
      "    for coa in coaz:\n",
      "        print coa.body\n",
      "        print coa.author"
     ],
     "language": "python",
     "metadata": {},
     "outputs": [
      {
       "output_type": "stream",
       "stream": "stdout",
       "text": [
        "[<praw.objects.Comment object at 0x2c857d0>]\n",
        "I love this, thank you! I like that background color a lot. \n",
        "TheKittenButcher\n",
        "[<praw.objects.Comment object at 0x2c69970>]\n",
        "Parent comment without art; had to remove it. See sub rules in the sidebar. Thanks.\n",
        "yowtfyo\n",
        "[<praw.objects.Comment object at 0x2e3b0d0>]\n",
        "Very nice! You did a great job capturing his expression.\n",
        "thatg33kgirl\n",
        "[<praw.objects.Comment object at 0x2c73d30>]\n",
        "That is beautiful, thank you! I love how you captured the detail in the background!\n",
        "italoandre\n",
        "[<praw.objects.Comment object at 0x2e3b2d0>]\n",
        "woah thanks a lot mr.gorfnarb\n",
        "juantron\n",
        "[<praw.objects.Comment object at 0x2e3b170>]\n",
        "Love the eyes! awesome! thank you.\n",
        "boobiesandbooze\n",
        "[<praw.objects.Comment object at 0x2d444f0>]\n",
        "OH! I really like that! Thank you! :D\n",
        "\n",
        "edit: love the tumblr post aswell!\n",
        "boobiesandbooze\n",
        "[<praw.objects.Comment object at 0x2d44770>]\n",
        "I really like the style of this! thanks!\n",
        "boobiesandbooze\n",
        "[<praw.objects.Comment object at 0x2e3b830>]\n",
        "ahh that'd be perfect if I had my own cartoon show! I like! thank you :)\n",
        "boobiesandbooze\n",
        "[<praw.objects.Comment object at 0x2d50db0>, <praw.objects.Comment object at 0x2c857f0>, <praw.objects.Comment object at 0x2e2e5b0>, <praw.objects.Comment object at 0x2d50b30>, <praw.objects.Comment object at 0x2d50ff0>, <praw.objects.Comment object at 0x2d50fb0>, <praw.objects.Comment object at 0x2d5c130>, <praw.objects.Comment object at 0x2d50d50>, <praw.objects.Comment object at 0x2d44990>, <praw.objects.Comment object at 0x2d50d30>, <praw.objects.Comment object at 0x2d5c2b0>]\n",
        "Let's take this moment to appreciate the fact you did each and every one of them. I would have died after finishing one. I love the bright, fun colors you chose in contrast with the white figures.\n",
        "marina_bias\n",
        "I feel the joke on the upper middle is missing without the empty third square o: everything else is just spot on! \n",
        "MadameK14\n",
        "This is so amazing! Looking at it is kind of surreal. I know they're gonna love it! :)\n",
        "sophiebell9\n",
        "Nailed it. Great work\n",
        "mjbatt\n",
        "this is so dope\n",
        "\n",
        "MarcRanucc\n",
        "so fun!\n",
        "coolsnail\n",
        "wow i'm diggin your style!\n",
        "seaniquar\n",
        "This is really awesome. \n",
        "mittanvendarnamn\n",
        "Oh, love the colors and style, very nice!\n",
        "fireash\n",
        "This is absolutely incredible. \n",
        "xMartyyy\n",
        "Great drawing, and great photo!\n",
        "surfeurdargent\n",
        "[<praw.objects.Comment object at 0x2d50790>, <praw.objects.Comment object at 0x2d5c270>, <praw.objects.Comment object at 0x2d5c6b0>]\n",
        "It's so cool! Thanks so much for taking the time to do that!\n",
        "sophiebell9\n",
        "ooooh! I like this one! \n",
        "\n",
        "Great job! :D\n",
        "nikkukun\n",
<<<<<<< HEAD
        "Very cool! Did you start with a pencil and then trace over with pen, or did you do it all in pen from the start?\n"
=======
        "Very cool! Did you start with a pencil and then trace over with pen, or did you do it all in pen from the start?\n",
        "fireash\n",
        "[<praw.objects.Comment object at 0x2d5c350>, <praw.objects.Comment object at 0x2d5c8f0>, <praw.objects.Comment object at 0x2d5c850>, <praw.objects.Comment object at 0x2d5c830>, <praw.objects.Comment object at 0x2d5c9b0>, <praw.objects.Comment object at 0x2d5ca10>, <praw.objects.Comment object at 0x2d5cb70>]\n",
        "all those girls got some real gains going on\n",
        "Pureg4sm\n",
        "Every woman is a sailor, and every man is a chick? Love it!\n",
        "cartvader\n",
        "Oh my gosh hahahaha I love it! All my buddies are gonna get a huge kick out of this. Thank you!\n",
        "sophiebell9\n",
        "wow I did not realize that the blank spot could have been the girl in picture 2 lol great job!\n",
        "tehgoodburger\n",
        "It wasn't until this drawing that I realized why there was an empty frame XD\n",
        "Wolvenheart\n",
        "Love the reversal of roles and very unique.  It brightened my day :)\n",
        "fireash"
>>>>>>> cebc23c0078684844ab3b731f413323f7c5b2c4d
       ]
      },
      {
       "output_type": "stream",
       "stream": "stdout",
       "text": [
<<<<<<< HEAD
        "fireash\n",
        "[<praw.objects.Comment object at 0x2d5c350>, <praw.objects.Comment object at 0x2d5c8f0>, <praw.objects.Comment object at 0x2d5c850>, <praw.objects.Comment object at 0x2d5c830>, <praw.objects.Comment object at 0x2d5c9b0>, <praw.objects.Comment object at 0x2d5ca10>, <praw.objects.Comment object at 0x2d5cb70>]\n",
        "all those girls got some real gains going on\n",
        "Pureg4sm\n",
        "Every woman is a sailor, and every man is a chick? Love it!\n",
        "cartvader\n",
        "Oh my gosh hahahaha I love it! All my buddies are gonna get a huge kick out of this. Thank you!\n",
        "sophiebell9\n",
        "wow I did not realize that the blank spot could have been the girl in picture 2 lol great job!\n",
        "tehgoodburger\n",
        "It wasn't until this drawing that I realized why there was an empty frame XD\n",
        "Wolvenheart\n",
        "Love the reversal of roles and very unique.  It brightened my day :)\n",
        "fireash\n",
=======
        "\n",
>>>>>>> cebc23c0078684844ab3b731f413323f7c5b2c4d
        "haha. I really like this one, well done!\n",
        "Scotttish\n",
        "[<praw.objects.Comment object at 0x2d5c430>]\n",
        "Removed for not containing art.\n",
        "heyryaaan\n",
        "[<praw.objects.Comment object at 0x2d5ccb0>]\n",
        "Comment removed because it does not contain art. Please read the rules of the sub before participating.\n",
        "fivepmsomewhere\n",
        "[<praw.objects.Comment object at 0x2d5cdb0>]\n",
        "comment removed because it does not contain art. please read the rules of the sub before participating.\n",
        "fivepmsomewhere\n",
        "[<praw.objects.Comment object at 0x2d44b50>]\n",
        "Wow thanks! That is awesome! =)\n",
        "\n",
        "BootieTrap\n",
        "[<praw.objects.Comment object at 0x2e15830>]\n",
        "Haha. That looks awesome! Can't believe that's your first post. :-) \n",
        "ecoboy_091702\n",
        "[<praw.objects.Comment object at 0x2e151b0>]\n",
        "Oh my goodness! I absolutely LOVE this! Thank you so so much!!!\n",
        "amberlylou\n",
        "[<praw.objects.Comment object at 0x2c85c50>, <praw.objects.Comment object at 0x24725b0>]\n",
        "this was the 2nd try, first one is in garbage \n",
        "http://imgur.com/X0mC3MZ\n",
        "\n",
        "smokeybeard\n",
        "Wow, that's pretty friggin cool! Thanx\n",
        "IpNyurButt\n",
        "[]\n",
        "[<praw.objects.Comment object at 0x2d5ca50>]\n",
        "Lol, niiice! Thanx\n",
        "IpNyurButt\n",
        "[<praw.objects.Comment object at 0x2c73570>]\n",
        "Whoa, awesome for not being your dominant hand! Thanx\n",
        "IpNyurButt\n",
        "[<praw.objects.Comment object at 0x2c695d0>]\n",
        "That wrong hand style lol, thanx\n",
        "IpNyurButt\n",
        "[<praw.objects.Comment object at 0x2d7a210>]\n",
        "Wonderful! Thank you!\n",
        "Z000001\n",
        "[<praw.objects.Comment object at 0x2d7a7f0>]\n",
        "So beautiful and poetic, incredible technique! :) Thank you so much!\n",
        "brunosssaur\n",
        "[<praw.objects.Comment object at 0x2e15e70>]\n",
        "Loved it! Hahaha awesome style :) thanks\n",
        "brunosssaur\n",
        "[]\n",
        "[]\n",
        "[<praw.objects.Comment object at 0x2c85330>]\n",
        "That is so beautiful, I love the way you were able to have the green blend into the black. Thank you so much!\n",
        "ARYAWILLKILLYOU\n",
        "[<praw.objects.Comment object at 0x2c95190>]\n",
        "Your line work is so strong and defined, I love them, thank you for taking the time to do both!\n",
        "ARYAWILLKILLYOU\n",
        "[<praw.objects.Comment object at 0x2e15dd0>, <praw.objects.Comment object at 0x2c85250>]\n",
        "I do- my nose is actually my favorite feature because it's so pronounced and the eyes are gorgeous! Thank you so much!\n",
        "ARYAWILLKILLYOU\n",
        "So good!\n",
        "JetDog\n",
        "[<praw.objects.Comment object at 0x2e2ed30>]\n",
        "Awesome- I love how I look a bit elfish in your sketch. Thank you for spending a bit of time on me!\n",
        "ARYAWILLKILLYOU\n",
        "[]\n",
        "[<praw.objects.Comment object at 0x2e5b230>]\n",
        "I love it!\n",
        "ulyanaaa\n",
        "[<praw.objects.Comment object at 0x2e0cf10>]\n",
        "Thank you very much:)\n",
        "ulyanaaa\n",
        "[]\n"
       ]
      }
     ],
<<<<<<< HEAD
     "prompt_number": 91
    },
    {
     "cell_type": "code",
     "collapsed": false,
     "input": [
      "chedict = {'blah': 'testing'}"
     ],
     "language": "python",
     "metadata": {},
     "outputs": [],
     "prompt_number": 116
=======
     "prompt_number": 77
>>>>>>> cebc23c0078684844ab3b731f413323f7c5b2c4d
    },
    {
     "cell_type": "code",
     "collapsed": false,
     "input": [
      "for coma in comdefz:\n",
<<<<<<< HEAD
      "    #print coma\n",
      "    #chedict.update({'first': coma})\n",
      "    for co in coma:\n",
      "        print co\n",
      "        chedict.update({co.author: co.body})"
     ],
     "language": "python",
     "metadata": {},
     "outputs": [
      {
       "output_type": "stream",
       "stream": "stdout",
       "text": [
        "A simple sketch for You. I took the liberties to rotate the image:\n",
        "\n",
        "Prelimina...\n",
        "[deleted]\n",
        "[image](http://i.imgur.com/EuzkQl8.jpg)\n",
        "WIP, she needs a bit more detail still! http://m.imgur.com/r3Ctmdv\n",
        "\n",
        "EDIT: I'm...\n",
        "[hmmm](http://i.imgur.com/PFcvXzx.jpg?1)\n",
        "[Eyes Popping, Hair Blue.](http://i.imgur.com/2AGUsCf.png)\n",
        "I feel more than a little rusty at this, but [here's what I came up with.](ht...\n",
        "[Nice username!](http://imgur.com/NmvT10y)\n",
        "\n",
        "Thanks for the picture! I wish I ...\n",
        "http://i.imgur.com/sGZ3ueh.jpg\n",
        "This was really fun! I drew it because it reminds me of my JHS friends :) [he...\n",
        "[Gave it a shot!](http://turtleturkle.tumblr.com/post/100816814119/this-took-...\n",
        "[that was fun](http://i.imgur.com/s5JP44R.png)\n",
        "[deleted]\n",
        "[deleted]\n",
        "[deleted]\n",
        "http://i.imgur.com/m7JlRum.jpg\n",
        "First post (hopefully of many) on this sub reddit! Trying to do a bit of a ca...\n",
        "Here you go! [Imgur](http://i.imgur.com/UiNQlUZ.jpg)\n",
        "Shit is hard, I tried 3 times\n",
        "http://imgur.com/q8urfYn\n",
        "Challenge accepted http://imgur.com/E0qqQtd\n",
        "You're so welcome for this interpretation of your face. And by so welcome, I ...\n",
        "Erm, [I'd finished this last night ]( http://i.imgur.com/pU2UeWA.jpg)...and t...\n",
        "[I kind of like this style. I might try it more often](http://i.imgur.com/h38...\n",
        "[heres one](http://i.imgur.com/t2pCBqP.jpg)\n",
        "http://i.imgur.com/D4aQbRK.jpg\n",
        "\n",
        "Edit: Better link that isn't rotated on hover...\n",
        "http://33.media.tumblr.com/50648d83cf19118dca11a40b090253e9/tumblr_ndxjt0bYQO...\n",
        "Also: feel free to create anything you want, for instance a psychedelic backg...\n",
        "http://i.imgur.com/Z4UCbRd.jpg Here you go!\n",
        "[Drapery](http://i.imgur.com/yK4fIc5.jpg)\n",
        "[here](http://i.imgur.com/k0McEr0.png) is a close up on the face, and [here](...\n",
        "Managed to get in a quick [sketch](http://i.imgur.com/ErvXjOk.jpg) before wor...\n",
        "[Pencil sketch](http://i.imgur.com/XZjWWYe.jpg)\n",
        "[Reflect](http://i.imgur.com/xqCJ8lZ.png)\n",
        "A quick sketch for You:\n",
        "\n",
        "http://i.imgur.com/D3HSlvq.jpg\n",
        "\n",
        "[let me know what you think :)](http://imgur.com/854W4Ip)\n",
        "http://i.imgur.com/FnCLV43.jpg\n"
       ]
      }
     ],
     "prompt_number": 117
    },
    {
     "cell_type": "code",
     "collapsed": false,
     "input": [
      "rcoms = chedict.keys()\n",
      "rvals = chedict.values()\n",
      "imcom = []"
     ],
     "language": "python",
     "metadata": {},
     "outputs": [],
     "prompt_number": 128
    },
    {
     "cell_type": "code",
     "collapsed": false,
     "input": [
      "for rvs in rvals:\n",
      "    print rvs\n",
      "    if '.jpg' or '.png' in rvs:\n",
      "        imcom.append(rvs)\n",
      "        "
     ],
     "language": "python",
     "metadata": {},
     "outputs": [
      {
       "output_type": "stream",
       "stream": "stdout",
       "text": [
        "[Nice username!](http://imgur.com/NmvT10y)\n",
        "\n",
        "Thanks for the picture! I wish I could've captured the brilliant color of your hair better.\n",
        "Challenge accepted http://imgur.com/E0qqQtd\n",
        "http://33.media.tumblr.com/50648d83cf19118dca11a40b090253e9/tumblr_ndxjt0bYQO1th94lco1_500.jpg\n",
        "WIP, she needs a bit more detail still! http://m.imgur.com/r3Ctmdv\n",
        "\n",
        "EDIT: I'm going to have to leave it at this otherwise I'm going to keep messing with it indefinitely.. http://m.imgur.com/r9gsLu5\n",
        "Erm, [I'd finished this last night ]( http://i.imgur.com/pU2UeWA.jpg)...and then fell asleep on the sofa.  Anyway, it came out better than I'd anticipated.\n",
        "\n",
        "My right arm has been tight lately so this was a nice reprieve. Also, while my left hand feels normal, the existing tension *feels* like I'd been drawing hours with the right...phantom muscle fatigue?   \n",
        "Managed to get in a quick [sketch](http://i.imgur.com/ErvXjOk.jpg) before work:) Hope you like it!\n",
        "[let me know what you think :)](http://imgur.com/854W4Ip)\n",
        "http://i.imgur.com/sGZ3ueh.jpg\n",
        "First post (hopefully of many) on this sub reddit! Trying to do a bit of a caricature style and think this will be great practice :)\n",
        "\n",
        "http://i.imgur.com/xSLtfIm.jpg\n",
        "\n",
        "[Pencil sketch](http://i.imgur.com/XZjWWYe.jpg)\n",
        "[that was fun](http://i.imgur.com/s5JP44R.png)\n",
        "Here you go! [Imgur](http://i.imgur.com/UiNQlUZ.jpg)\n",
        "[hmmm](http://i.imgur.com/PFcvXzx.jpg?1)\n",
        "[Eyes Popping, Hair Blue.](http://i.imgur.com/2AGUsCf.png)\n",
        "This was really fun! I drew it because it reminds me of my JHS friends :) [here ya go](http://i.imgur.com/ugr1HaW.png) \n",
        "[Gave it a shot!](http://turtleturkle.tumblr.com/post/100816814119/this-took-a-loooooong-time-time-to-go-rest-my)\n",
        "Took a lot longer than expected, haha.\n",
        "Shit is hard, I tried 3 times\n",
        "http://imgur.com/q8urfYn\n",
        "I feel more than a little rusty at this, but [here's what I came up with.](https://31.media.tumblr.com/66f9677e2aaf0490a3ce51c14cbbc5e5/tumblr_ndxu0iiq5v1te85avo1_500.jpg) I hope you like it.\n",
        "\n",
        "^^^[Tumblr](http://heronmarkedblade.tumblr.com)\n",
        "testing\n",
        "[deleted]\n",
        "[heres one](http://i.imgur.com/t2pCBqP.jpg)\n",
        "[Drapery](http://i.imgur.com/yK4fIc5.jpg)\n",
        "[Reflect](http://i.imgur.com/xqCJ8lZ.png)\n",
        "You're so welcome for this interpretation of your face. And by so welcome, I mean I'm sorry. http://m.imgur.com/JOcKsI8\n",
        "[here](http://i.imgur.com/k0McEr0.png) is a close up on the face, and [here](http://i.imgur.com/nJEd1iC.png) I decided to embellish your gown :) hope you like \n",
        "http://i.imgur.com/D4aQbRK.jpg\n",
        "\n",
        "Edit: Better link that isn't rotated on hover-zoom, perhaps.\n",
        "http://i.imgur.com/Z4UCbRd.jpg Here you go!\n",
        "A simple sketch for You. I took the liberties to rotate the image:\n",
        "\n",
        "Preliminary sketch:\n",
        "\n",
        "http://i.imgur.com/KJZsJ0A.jpg\n",
        "\n",
        "Light Color version:\n",
        "\n",
        "http://i.imgur.com/7EYQ1ZN.jpg\n",
        "\n",
        "Regards,\n",
        "http://i.imgur.com/m7JlRum.jpg\n",
        "http://i.imgur.com/FnCLV43.jpg\n",
        "[I kind of like this style. I might try it more often](http://i.imgur.com/h38wgwn.jpg?1)\n",
        "[image](http://i.imgur.com/EuzkQl8.jpg)\n",
        "A quick sketch for You:\n",
        "\n",
        "http://i.imgur.com/D3HSlvq.jpg\n",
        "\n",
        "Also: feel free to create anything you want, for instance a psychedelic background or a crazy caricature. Anything is welcome! \u2665\n"
       ]
      }
     ],
     "prompt_number": 133
    },
    {
     "cell_type": "code",
     "collapsed": false,
     "input": [
      "for imc in imcom:\n",
      "    print imc"
     ],
     "language": "python",
     "metadata": {},
     "outputs": [
      {
       "output_type": "stream",
       "stream": "stdout",
       "text": [
        "[Nice username!](http://imgur.com/NmvT10y)\n",
        "\n",
        "Thanks for the picture! I wish I could've captured the brilliant color of your hair better.\n",
        "Challenge accepted http://imgur.com/E0qqQtd\n",
        "http://33.media.tumblr.com/50648d83cf19118dca11a40b090253e9/tumblr_ndxjt0bYQO1th94lco1_500.jpg\n",
        "WIP, she needs a bit more detail still! http://m.imgur.com/r3Ctmdv\n",
        "\n",
        "EDIT: I'm going to have to leave it at this otherwise I'm going to keep messing with it indefinitely.. http://m.imgur.com/r9gsLu5\n",
        "Erm, [I'd finished this last night ]( http://i.imgur.com/pU2UeWA.jpg)...and then fell asleep on the sofa.  Anyway, it came out better than I'd anticipated.\n",
        "\n",
        "My right arm has been tight lately so this was a nice reprieve. Also, while my left hand feels normal, the existing tension *feels* like I'd been drawing hours with the right...phantom muscle fatigue?   \n",
        "Managed to get in a quick [sketch](http://i.imgur.com/ErvXjOk.jpg) before work:) Hope you like it!\n",
        "[let me know what you think :)](http://imgur.com/854W4Ip)\n",
        "http://i.imgur.com/sGZ3ueh.jpg\n",
        "First post (hopefully of many) on this sub reddit! Trying to do a bit of a caricature style and think this will be great practice :)\n",
        "\n",
        "http://i.imgur.com/xSLtfIm.jpg\n",
        "\n",
        "[Pencil sketch](http://i.imgur.com/XZjWWYe.jpg)\n",
        "[that was fun](http://i.imgur.com/s5JP44R.png)\n",
        "Here you go! [Imgur](http://i.imgur.com/UiNQlUZ.jpg)\n",
        "[hmmm](http://i.imgur.com/PFcvXzx.jpg?1)\n",
        "[Eyes Popping, Hair Blue.](http://i.imgur.com/2AGUsCf.png)\n",
        "This was really fun! I drew it because it reminds me of my JHS friends :) [here ya go](http://i.imgur.com/ugr1HaW.png) \n",
        "[Gave it a shot!](http://turtleturkle.tumblr.com/post/100816814119/this-took-a-loooooong-time-time-to-go-rest-my)\n",
        "Took a lot longer than expected, haha.\n",
        "Shit is hard, I tried 3 times\n",
        "http://imgur.com/q8urfYn\n",
        "I feel more than a little rusty at this, but [here's what I came up with.](https://31.media.tumblr.com/66f9677e2aaf0490a3ce51c14cbbc5e5/tumblr_ndxu0iiq5v1te85avo1_500.jpg) I hope you like it.\n",
        "\n",
        "^^^[Tumblr](http://heronmarkedblade.tumblr.com)\n",
        "testing\n",
        "[deleted]\n",
        "[heres one](http://i.imgur.com/t2pCBqP.jpg)\n",
        "[Drapery](http://i.imgur.com/yK4fIc5.jpg)\n",
        "[Reflect](http://i.imgur.com/xqCJ8lZ.png)\n",
        "You're so welcome for this interpretation of your face. And by so welcome, I mean I'm sorry. http://m.imgur.com/JOcKsI8\n",
        "[here](http://i.imgur.com/k0McEr0.png) is a close up on the face, and [here](http://i.imgur.com/nJEd1iC.png) I decided to embellish your gown :) hope you like \n",
        "http://i.imgur.com/D4aQbRK.jpg\n",
        "\n",
        "Edit: Better link that isn't rotated on hover-zoom, perhaps.\n",
        "http://i.imgur.com/Z4UCbRd.jpg Here you go!\n",
        "A simple sketch for You. I took the liberties to rotate the image:\n",
        "\n",
        "Preliminary sketch:\n",
        "\n",
        "http://i.imgur.com/KJZsJ0A.jpg\n",
        "\n",
        "Light Color version:\n",
        "\n",
        "http://i.imgur.com/7EYQ1ZN.jpg\n",
        "\n",
        "Regards,\n",
        "http://i.imgur.com/m7JlRum.jpg\n",
        "http://i.imgur.com/FnCLV43.jpg\n",
        "[I kind of like this style. I might try it more often](http://i.imgur.com/h38wgwn.jpg?1)\n",
        "[image](http://i.imgur.com/EuzkQl8.jpg)\n",
        "A quick sketch for You:\n",
        "\n",
        "http://i.imgur.com/D3HSlvq.jpg\n",
        "\n",
        "Also: feel free to create anything you want, for instance a psychedelic background or a crazy caricature. Anything is welcome! \u2665\n",
        "[Nice username!](http://imgur.com/NmvT10y)\n",
        "\n",
        "Thanks for the picture! I wish I could've captured the brilliant color of your hair better.\n",
        "Challenge accepted http://imgur.com/E0qqQtd\n",
        "http://33.media.tumblr.com/50648d83cf19118dca11a40b090253e9/tumblr_ndxjt0bYQO1th94lco1_500.jpg\n",
        "WIP, she needs a bit more detail still! http://m.imgur.com/r3Ctmdv\n",
        "\n",
        "EDIT: I'm going to have to leave it at this otherwise I'm going to keep messing with it indefinitely.. http://m.imgur.com/r9gsLu5\n",
        "Erm, [I'd finished this last night ]( http://i.imgur.com/pU2UeWA.jpg)...and then fell asleep on the sofa.  Anyway, it came out better than I'd anticipated.\n",
        "\n",
        "My right arm has been tight lately so this was a nice reprieve. Also, while my left hand feels normal, the existing tension *feels* like I'd been drawing hours with the right...phantom muscle fatigue?   \n",
        "Managed to get in a quick [sketch](http://i.imgur.com/ErvXjOk.jpg) before work:) Hope you like it!\n",
        "[let me know what you think :)](http://imgur.com/854W4Ip)\n",
        "http://i.imgur.com/sGZ3ueh.jpg\n",
        "First post (hopefully of many) on this sub reddit! Trying to do a bit of a caricature style and think this will be great practice :)\n",
        "\n",
        "http://i.imgur.com/xSLtfIm.jpg\n",
        "\n",
        "[Pencil sketch](http://i.imgur.com/XZjWWYe.jpg)\n",
        "[that was fun](http://i.imgur.com/s5JP44R.png)\n",
        "Here you go! [Imgur](http://i.imgur.com/UiNQlUZ.jpg)\n",
        "[hmmm](http://i.imgur.com/PFcvXzx.jpg?1)\n",
        "[Eyes Popping, Hair Blue.](http://i.imgur.com/2AGUsCf.png)\n",
        "This was really fun! I drew it because it reminds me of my JHS friends :) [here ya go](http://i.imgur.com/ugr1HaW.png) \n",
        "[Gave it a shot!](http://turtleturkle.tumblr.com/post/100816814119/this-took-a-loooooong-time-time-to-go-rest-my)\n",
        "Took a lot longer than expected, haha.\n",
        "Shit is hard, I tried 3 times\n",
        "http://imgur.com/q8urfYn\n",
        "I feel more than a little rusty at this, but [here's what I came up with.](https://31.media.tumblr.com/66f9677e2aaf0490a3ce51c14cbbc5e5/tumblr_ndxu0iiq5v1te85avo1_500.jpg) I hope you like it.\n",
        "\n",
        "^^^[Tumblr](http://heronmarkedblade.tumblr.com)\n",
        "testing\n",
        "[deleted]\n",
        "[heres one](http://i.imgur.com/t2pCBqP.jpg)\n",
        "[Drapery](http://i.imgur.com/yK4fIc5.jpg)\n",
        "[Reflect](http://i.imgur.com/xqCJ8lZ.png)\n",
        "You're so welcome for this interpretation of your face. And by so welcome, I mean I'm sorry. http://m.imgur.com/JOcKsI8\n",
        "[here](http://i.imgur.com/k0McEr0.png) is a close up on the face, and [here](http://i.imgur.com/nJEd1iC.png) I decided to embellish your gown :) hope you like \n",
        "http://i.imgur.com/D4aQbRK.jpg\n",
        "\n",
        "Edit: Better link that isn't rotated on hover-zoom, perhaps.\n",
        "http://i.imgur.com/Z4UCbRd.jpg Here you go!\n",
        "A simple sketch for You. I took the liberties to rotate the image:\n",
        "\n",
        "Preliminary sketch:\n",
        "\n",
        "http://i.imgur.com/KJZsJ0A.jpg\n",
        "\n",
        "Light Color version:\n",
        "\n",
        "http://i.imgur.com/7EYQ1ZN.jpg\n",
        "\n",
        "Regards,\n",
        "http://i.imgur.com/m7JlRum.jpg\n",
        "http://i.imgur.com/FnCLV43.jpg\n",
        "[I kind of like this style. I might try it more often](http://i.imgur.com/h38wgwn.jpg?1)\n",
        "[image](http://i.imgur.com/EuzkQl8.jpg)\n",
        "A quick sketch for You:\n",
        "\n",
        "http://i.imgur.com/D3HSlvq.jpg\n",
        "\n",
        "Also: feel free to create anything you want, for instance a psychedelic background or a crazy caricature. Anything is welcome! \u2665\n"
       ]
      }
     ],
     "prompt_number": 161
    },
    {
     "cell_type": "code",
     "collapsed": false,
     "input": [
      "doc = dominate.document(title='Dominate your HTML')\n",
      "\n",
      "with doc.head:\n",
      "    link(rel='stylesheet', href='style.css')\n",
      "    script(type='text/javascript', src='script.js')\n",
      "\n",
      "with doc:\n",
      "    with div(id='header').add(ol()):\n",
      "        for imz in imcom:\n",
      "            #print imz\n",
      "            li(p(str(imz)))\n",
      "\n",
      "    #with div():\n",
      "     #   attr(cls='body')\n",
      "     #   p('Lorem ipsum..')\n",
      "\n",
      "#print doc"
     ],
     "language": "python",
     "metadata": {},
     "outputs": [
      {
       "ename": "UnicodeEncodeError",
       "evalue": "'ascii' codec can't encode character u'\\u2665' in position 127: ordinal not in range(128)",
       "output_type": "pyerr",
       "traceback": [
        "\u001b[1;31m---------------------------------------------------------------------------\u001b[0m\n\u001b[1;31mUnicodeEncodeError\u001b[0m                        Traceback (most recent call last)",
        "\u001b[1;32m<ipython-input-164-3252248d8da3>\u001b[0m in \u001b[0;36m<module>\u001b[1;34m()\u001b[0m\n\u001b[0;32m      9\u001b[0m         \u001b[1;32mfor\u001b[0m \u001b[0mimz\u001b[0m \u001b[1;32min\u001b[0m \u001b[0mimcom\u001b[0m\u001b[1;33m:\u001b[0m\u001b[1;33m\u001b[0m\u001b[0m\n\u001b[0;32m     10\u001b[0m             \u001b[1;31m#print imz\u001b[0m\u001b[1;33m\u001b[0m\u001b[1;33m\u001b[0m\u001b[0m\n\u001b[1;32m---> 11\u001b[1;33m             \u001b[0mli\u001b[0m\u001b[1;33m(\u001b[0m\u001b[0mp\u001b[0m\u001b[1;33m(\u001b[0m\u001b[0mstr\u001b[0m\u001b[1;33m(\u001b[0m\u001b[0mimz\u001b[0m\u001b[1;33m)\u001b[0m\u001b[1;33m)\u001b[0m\u001b[1;33m)\u001b[0m\u001b[1;33m\u001b[0m\u001b[0m\n\u001b[0m\u001b[0;32m     12\u001b[0m \u001b[1;33m\u001b[0m\u001b[0m\n\u001b[0;32m     13\u001b[0m     \u001b[1;31m#with div():\u001b[0m\u001b[1;33m\u001b[0m\u001b[1;33m\u001b[0m\u001b[0m\n",
        "\u001b[1;31mUnicodeEncodeError\u001b[0m: 'ascii' codec can't encode character u'\\u2665' in position 127: ordinal not in range(128)"
       ]
      }
     ],
     "prompt_number": 164
    },
    {
     "cell_type": "code",
     "collapsed": false,
     "input": [
      "for dicaz in doc.children:\n",
      "    print dicaz"
=======
      "    co"
>>>>>>> cebc23c0078684844ab3b731f413323f7c5b2c4d
     ],
     "language": "python",
     "metadata": {},
     "outputs": [
      {
       "output_type": "stream",
       "stream": "stdout",
       "text": [
<<<<<<< HEAD
        "<head>\n",
        "  <title>Dominate your HTML</title>\n",
        "  <link href=\"style.css\" rel=\"stylesheet\">\n",
        "  <script src=\"script.js\" type=\"text/javascript\"></script>\n",
        "</head>\n"
       ]
      },
      {
       "ename": "UnicodeEncodeError",
       "evalue": "'ascii' codec can't encode character u'\\u2665' in position 4439: ordinal not in range(128)",
       "output_type": "pyerr",
       "traceback": [
        "\u001b[1;31m---------------------------------------------------------------------------\u001b[0m\n\u001b[1;31mUnicodeEncodeError\u001b[0m                        Traceback (most recent call last)",
        "\u001b[1;32m<ipython-input-163-451c72b554bd>\u001b[0m in \u001b[0;36m<module>\u001b[1;34m()\u001b[0m\n\u001b[0;32m      1\u001b[0m \u001b[1;32mfor\u001b[0m \u001b[0mdicaz\u001b[0m \u001b[1;32min\u001b[0m \u001b[0mdoc\u001b[0m\u001b[1;33m.\u001b[0m\u001b[0mchildren\u001b[0m\u001b[1;33m:\u001b[0m\u001b[1;33m\u001b[0m\u001b[0m\n\u001b[1;32m----> 2\u001b[1;33m     \u001b[1;32mprint\u001b[0m \u001b[0mdicaz\u001b[0m\u001b[1;33m\u001b[0m\u001b[0m\n\u001b[0m",
        "\u001b[1;31mUnicodeEncodeError\u001b[0m: 'ascii' codec can't encode character u'\\u2665' in position 4439: ordinal not in range(128)"
       ]
      }
     ],
     "prompt_number": 163
=======
        "[<praw.objects.Comment object at 0x2c85070>, <praw.objects.Comment object at 0x2c69c50>]\n",
        "[]\n",
        "[]\n",
        "[]\n",
        "[<praw.objects.Comment object at 0x2c85450>]\n",
        "[<praw.objects.Comment object at 0x2c85530>]\n",
        "[<praw.objects.Comment object at 0x2c854b0>]\n",
        "[<praw.objects.Comment object at 0x2e2ee90>, <praw.objects.Comment object at 0x2e3b250>, <praw.objects.Comment object at 0x2d44870>, <praw.objects.Comment object at 0x2d44950>]\n",
        "[]\n",
        "[]\n",
        "[<praw.objects.Comment object at 0x2d5c3b0>, <praw.objects.Comment object at 0x2d5c4d0>, <praw.objects.Comment object at 0x2d5cbb0>, <praw.objects.Comment object at 0x2d5cc70>, <praw.objects.Comment object at 0x2e3b9b0>, <praw.objects.Comment object at 0x2d5cc30>]\n",
        "[]\n",
        "[]\n",
        "[<praw.objects.Comment object at 0x2e3b850>]\n",
        "[<praw.objects.Comment object at 0x2d44550>]\n",
        "[<praw.objects.Comment object at 0x2e15a50>]\n",
        "[]\n",
        "[<praw.objects.Comment object at 0x2e0c7f0>, <praw.objects.Comment object at 0x2e15750>, <praw.objects.Comment object at 0x2c73a70>, <praw.objects.Comment object at 0x2d5cef0>, <praw.objects.Comment object at 0x2d75810>]\n",
        "[]\n",
        "[<praw.objects.Comment object at 0x2d75b90>]\n",
        "[<praw.objects.Comment object at 0x2d5ce30>, <praw.objects.Comment object at 0x2c69650>, <praw.objects.Comment object at 0x2d75eb0>, <praw.objects.Comment object at 0x2d7aa10>]\n",
        "[<praw.objects.Comment object at 0x2e157d0>, <praw.objects.Comment object at 0x2e158f0>, <praw.objects.Comment object at 0x2e2eb50>, <praw.objects.Comment object at 0x2e2ebd0>]\n",
        "[]\n",
        "[<praw.objects.Comment object at 0x2d7aab0>]\n",
        "[<praw.objects.Comment object at 0x2e3bff0>, <praw.objects.Comment object at 0x2c95d10>, <praw.objects.Comment object at 0x2e2ebb0>]\n"
       ]
      }
     ],
     "prompt_number": 61
>>>>>>> cebc23c0078684844ab3b731f413323f7c5b2c4d
    },
    {
     "cell_type": "code",
     "collapsed": false,
     "input": [
<<<<<<< HEAD
      "for imz in imcom:\n",
      "    \n",
      "    print imz"
=======
      "for rgt in rgdef.values():\n",
      "    if '.jpg' in rgt:\n",
      "        print rgt"
>>>>>>> cebc23c0078684844ab3b731f413323f7c5b2c4d
     ],
     "language": "python",
     "metadata": {},
     "outputs": [
      {
       "output_type": "stream",
       "stream": "stdout",
       "text": [
<<<<<<< HEAD
        "[Nice username!](http://imgur.com/NmvT10y)\n",
        "\n",
        "Thanks for the picture! I wish I could've captured the brilliant color of your hair better.\n",
        "Challenge accepted http://imgur.com/E0qqQtd\n",
        "http://33.media.tumblr.com/50648d83cf19118dca11a40b090253e9/tumblr_ndxjt0bYQO1th94lco1_500.jpg\n",
        "WIP, she needs a bit more detail still! http://m.imgur.com/r3Ctmdv\n",
        "\n",
        "EDIT: I'm going to have to leave it at this otherwise I'm going to keep messing with it indefinitely.. http://m.imgur.com/r9gsLu5\n",
        "Erm, [I'd finished this last night ]( http://i.imgur.com/pU2UeWA.jpg)...and then fell asleep on the sofa.  Anyway, it came out better than I'd anticipated.\n",
        "\n",
        "My right arm has been tight lately so this was a nice reprieve. Also, while my left hand feels normal, the existing tension *feels* like I'd been drawing hours with the right...phantom muscle fatigue?   \n",
        "Managed to get in a quick [sketch](http://i.imgur.com/ErvXjOk.jpg) before work:) Hope you like it!\n",
        "[let me know what you think :)](http://imgur.com/854W4Ip)\n",
        "http://i.imgur.com/sGZ3ueh.jpg\n",
        "First post (hopefully of many) on this sub reddit! Trying to do a bit of a caricature style and think this will be great practice :)\n",
        "\n",
        "http://i.imgur.com/xSLtfIm.jpg\n",
        "\n",
        "[Pencil sketch](http://i.imgur.com/XZjWWYe.jpg)\n",
        "[that was fun](http://i.imgur.com/s5JP44R.png)\n",
        "Here you go! [Imgur](http://i.imgur.com/UiNQlUZ.jpg)\n",
        "[hmmm](http://i.imgur.com/PFcvXzx.jpg?1)\n",
        "[Eyes Popping, Hair Blue.](http://i.imgur.com/2AGUsCf.png)\n",
        "This was really fun! I drew it because it reminds me of my JHS friends :) [here ya go](http://i.imgur.com/ugr1HaW.png) \n",
        "[Gave it a shot!](http://turtleturkle.tumblr.com/post/100816814119/this-took-a-loooooong-time-time-to-go-rest-my)\n",
        "Took a lot longer than expected, haha.\n",
        "Shit is hard, I tried 3 times\n",
        "http://imgur.com/q8urfYn\n",
        "I feel more than a little rusty at this, but [here's what I came up with.](https://31.media.tumblr.com/66f9677e2aaf0490a3ce51c14cbbc5e5/tumblr_ndxu0iiq5v1te85avo1_500.jpg) I hope you like it.\n",
        "\n",
        "^^^[Tumblr](http://heronmarkedblade.tumblr.com)\n",
        "testing\n",
        "[deleted]\n",
        "[heres one](http://i.imgur.com/t2pCBqP.jpg)\n",
        "[Drapery](http://i.imgur.com/yK4fIc5.jpg)\n",
        "[Reflect](http://i.imgur.com/xqCJ8lZ.png)\n",
        "You're so welcome for this interpretation of your face. And by so welcome, I mean I'm sorry. http://m.imgur.com/JOcKsI8\n",
        "[here](http://i.imgur.com/k0McEr0.png) is a close up on the face, and [here](http://i.imgur.com/nJEd1iC.png) I decided to embellish your gown :) hope you like \n",
        "http://i.imgur.com/D4aQbRK.jpg\n",
        "\n",
        "Edit: Better link that isn't rotated on hover-zoom, perhaps.\n",
        "http://i.imgur.com/Z4UCbRd.jpg Here you go!\n",
        "A simple sketch for You. I took the liberties to rotate the image:\n",
        "\n",
        "Preliminary sketch:\n",
        "\n",
        "http://i.imgur.com/KJZsJ0A.jpg\n",
        "\n",
        "Light Color version:\n",
        "\n",
        "http://i.imgur.com/7EYQ1ZN.jpg\n",
        "\n",
        "Regards,\n",
        "http://i.imgur.com/m7JlRum.jpg\n",
        "http://i.imgur.com/FnCLV43.jpg\n",
        "[I kind of like this style. I might try it more often](http://i.imgur.com/h38wgwn.jpg?1)\n",
        "[image](http://i.imgur.com/EuzkQl8.jpg)\n",
        "A quick sketch for You:\n",
        "\n",
        "http://i.imgur.com/D3HSlvq.jpg\n",
        "\n",
        "Also: feel free to create anything you want, for instance a psychedelic background or a crazy caricature. Anything is welcome! \u2665\n",
        "[Nice username!](http://imgur.com/NmvT10y)\n",
        "\n",
        "Thanks for the picture! I wish I could've captured the brilliant color of your hair better.\n",
        "Challenge accepted http://imgur.com/E0qqQtd\n",
        "http://33.media.tumblr.com/50648d83cf19118dca11a40b090253e9/tumblr_ndxjt0bYQO1th94lco1_500.jpg\n",
        "WIP, she needs a bit more detail still! http://m.imgur.com/r3Ctmdv\n",
        "\n",
        "EDIT: I'm going to have to leave it at this otherwise I'm going to keep messing with it indefinitely.. http://m.imgur.com/r9gsLu5\n",
        "Erm, [I'd finished this last night ]( http://i.imgur.com/pU2UeWA.jpg)...and then fell asleep on the sofa.  Anyway, it came out better than I'd anticipated.\n",
        "\n",
        "My right arm has been tight lately so this was a nice reprieve. Also, while my left hand feels normal, the existing tension *feels* like I'd been drawing hours with the right...phantom muscle fatigue?   \n",
        "Managed to get in a quick [sketch](http://i.imgur.com/ErvXjOk.jpg) before work:) Hope you like it!\n",
        "[let me know what you think :)](http://imgur.com/854W4Ip)\n",
        "http://i.imgur.com/sGZ3ueh.jpg\n",
        "First post (hopefully of many) on this sub reddit! Trying to do a bit of a caricature style and think this will be great practice :)\n",
        "\n",
        "http://i.imgur.com/xSLtfIm.jpg\n",
        "\n",
        "[Pencil sketch](http://i.imgur.com/XZjWWYe.jpg)\n",
        "[that was fun](http://i.imgur.com/s5JP44R.png)\n",
        "Here you go! [Imgur](http://i.imgur.com/UiNQlUZ.jpg)\n",
        "[hmmm](http://i.imgur.com/PFcvXzx.jpg?1)\n",
        "[Eyes Popping, Hair Blue.](http://i.imgur.com/2AGUsCf.png)\n",
        "This was really fun! I drew it because it reminds me of my JHS friends :) [here ya go](http://i.imgur.com/ugr1HaW.png) \n",
        "[Gave it a shot!](http://turtleturkle.tumblr.com/post/100816814119/this-took-a-loooooong-time-time-to-go-rest-my)\n",
        "Took a lot longer than expected, haha.\n",
        "Shit is hard, I tried 3 times\n",
        "http://imgur.com/q8urfYn\n",
        "I feel more than a little rusty at this, but [here's what I came up with.](https://31.media.tumblr.com/66f9677e2aaf0490a3ce51c14cbbc5e5/tumblr_ndxu0iiq5v1te85avo1_500.jpg) I hope you like it.\n",
        "\n",
        "^^^[Tumblr](http://heronmarkedblade.tumblr.com)\n",
        "testing\n",
        "[deleted]\n",
        "[heres one](http://i.imgur.com/t2pCBqP.jpg)\n",
        "[Drapery](http://i.imgur.com/yK4fIc5.jpg)\n",
        "[Reflect](http://i.imgur.com/xqCJ8lZ.png)\n",
        "You're so welcome for this interpretation of your face. And by so welcome, I mean I'm sorry. http://m.imgur.com/JOcKsI8\n",
        "[here](http://i.imgur.com/k0McEr0.png) is a close up on the face, and [here](http://i.imgur.com/nJEd1iC.png) I decided to embellish your gown :) hope you like \n",
        "http://i.imgur.com/D4aQbRK.jpg\n",
        "\n",
        "Edit: Better link that isn't rotated on hover-zoom, perhaps.\n",
        "http://i.imgur.com/Z4UCbRd.jpg Here you go!\n",
        "A simple sketch for You. I took the liberties to rotate the image:\n",
        "\n",
        "Preliminary sketch:\n",
        "\n",
        "http://i.imgur.com/KJZsJ0A.jpg\n",
        "\n",
        "Light Color version:\n",
        "\n",
        "http://i.imgur.com/7EYQ1ZN.jpg\n",
        "\n",
        "Regards,\n",
        "http://i.imgur.com/m7JlRum.jpg\n",
        "http://i.imgur.com/FnCLV43.jpg\n",
        "[I kind of like this style. I might try it more often](http://i.imgur.com/h38wgwn.jpg?1)\n",
        "[image](http://i.imgur.com/EuzkQl8.jpg)\n",
        "A quick sketch for You:\n",
        "\n",
        "http://i.imgur.com/D3HSlvq.jpg\n",
        "\n",
        "Also: feel free to create anything you want, for instance a psychedelic background or a crazy caricature. Anything is welcome! \u2665\n"
       ]
      }
     ],
     "prompt_number": 135
    },
    {
     "cell_type": "code",
     "collapsed": false,
     "input": [
      "for rez in rcoms:\n",
      "    print rez\n",
      "    "
     ],
     "language": "python",
     "metadata": {},
     "outputs": [
      {
       "output_type": "stream",
       "stream": "stdout",
       "text": [
        "LilaSunflower\n",
        "sporkdiddy\n",
        "TeachersPen\n",
        "waffleandbear\n",
        "czarkohl\n",
        "Maginnis\n",
        "i_draw_u\n",
        "Reeceepeeceepoop\n",
        "Reeceepeeceepoop\n",
        "Jastyoot\n",
        "repbunny\n",
        "heretodraw\n",
        "gorfnarb\n",
        "LucarioPrime\n",
        "kelberlee\n",
        "nugget_meal\n",
        "smokeybeard\n",
        "llewesdarb\n",
        "blah\n",
        "None\n",
        "ButterRican\n",
        "LucarioPrime\n",
        "LucarioPrime\n",
        "waffleandbear\n",
        "kelberlee\n",
        "jellyfish_teeth\n",
        "Reeceepeeceepoop\n",
        "drawinglearner\n",
        "-lazuli\n",
        "Reeceepeeceepoop\n",
        "gorfnarb\n",
        "patogrande\n",
        "drawinglearner\n",
        "brunosssaur\n"
       ]
      }
     ],
     "prompt_number": 136
    },
    {
     "cell_type": "code",
     "collapsed": false,
     "input": [],
     "language": "python",
     "metadata": {},
     "outputs": []
    },
    {
     "cell_type": "code",
     "collapsed": false,
     "input": [
      "for rgt in rgdef.values():\n",
      "    if '.jpg' in rgt:\n",
      "        print rgt"
     ],
     "language": "python",
     "metadata": {},
     "outputs": [
      {
       "output_type": "stream",
       "stream": "stdout",
       "text": [
        "http://i.imgur.com/4HpGQt7.jpg\n",
        "http://i.imgur.com/4DfBw2x.jpg\n",
        "http://i.imgur.com/0583b5U.jpg\n",
        "http://i.imgur.com/cCAC7RZ.jpg\n",
        "http://i.imgur.com/IqN80iJ.jpg\n",
        "http://i.imgur.com/MluD2DA.jpg\n",
        "http://i.imgur.com/BPnAvgl.jpg\n",
        "http://i.imgur.com/oLlxrDs.jpg\n",
        "http://i.imgur.com/CMgO4YZ.jpg\n",
        "http://i.imgur.com/XbO2PMh.jpg\n",
        "http://i.imgur.com/OD3VgnQ.jpg\n",
        "http://i.imgur.com/uO5kNeX.jpg\n"
       ]
      }
     ],
=======
        "http://i.imgur.com/4HpGQt7.jpg\n",
        "http://i.imgur.com/4DfBw2x.jpg\n",
        "http://i.imgur.com/0583b5U.jpg\n",
        "http://i.imgur.com/cCAC7RZ.jpg\n",
        "http://i.imgur.com/IqN80iJ.jpg\n",
        "http://i.imgur.com/MluD2DA.jpg\n",
        "http://i.imgur.com/BPnAvgl.jpg\n",
        "http://i.imgur.com/oLlxrDs.jpg\n",
        "http://i.imgur.com/CMgO4YZ.jpg\n",
        "http://i.imgur.com/XbO2PMh.jpg\n",
        "http://i.imgur.com/OD3VgnQ.jpg\n",
        "http://i.imgur.com/uO5kNeX.jpg\n"
       ]
      }
     ],
>>>>>>> cebc23c0078684844ab3b731f413323f7c5b2c4d
     "prompt_number": 36
    },
    {
     "cell_type": "code",
     "collapsed": false,
     "input": [
      "import dominate\n",
      "from dominate.tags import *\n",
      "\n",
      "doc = dominate.document(title='RedditGetsDrawn Recent Reference')\n",
      "\n",
      "with doc.head:\n",
      "    link(rel='stylesheet', href='style.css')\n",
      "    script(type='text/javascript', src='script.js')\n",
      "    \n",
      "    with div():\n",
      "        attr(cls='header')\n",
      "        h1('RedditGetsDrawn Recent Reference')\n",
      "        p('updated ', strftime(\"%a, %d %b %Y %H:%M:%S +0000\", gmtime()))\n",
      "\n",
      "    \n",
      "    \n",
      "\n",
      "with doc:\n",
      "    with div(id='body').add(ol()):\n",
      "        for rdz in rdnew:\n",
      "            h1(rdz.title)\n",
      "            a(rdz.url)\n",
      "            if '.jpg' or '.png' in rdz.url:\n",
      "                print rdz.url\n",
      "                p(img(rdz.url, src='%s' % rdz.url))\n",
      "            #print rdz.url\n",
      "            #if '.jpg' in rdz.url:\n",
      "            #    img(rdz.urlz)\n",
      "            #else:\n",
      "            #    a(rdz.urlz)\n",
      "            p(str(rdz.author))\n",
      "            \n",
      "            #li(img(i.lower(), src='%s' % i))\n",
      "\n",
      "    with div():\n",
      "        attr(cls='body')\n",
      "        p('RGDRecentReference is open source')\n",
      "        a('http://github.com/wcmckee/wcmckee')\n",
      "\n",
      "#print doc"
     ],
     "language": "python",
     "metadata": {},
     "outputs": [
      {
       "output_type": "stream",
       "stream": "stdout",
       "text": [
        "http://imgur.com/sQdKjBW\n",
        "http://i.imgur.com/OD3VgnQ.jpg\n",
        "http://i.imgur.com/oLlxrDs.jpg\n",
        "http://imgur.com/qr9pjmU\n",
        "http://imgur.com/jc14NtG\n",
        "http://imgur.com/3YZWmEF\n",
        "http://imgur.com/6PoDq3W\n",
        "http://i.imgur.com/0583b5U.jpg\n",
        "http://i.imgur.com/XbO2PMh.jpg\n",
        "http://i.imgur.com/cCAC7RZ.jpg\n",
        "http://imgur.com/wJdZ8VV\n",
        "http://i.imgur.com/IqN80iJ.jpg\n",
        "http://imgur.com/nsi0K5M\n",
        "http://i.imgur.com/BPnAvgl.jpg\n",
        "http://imgur.com/bXU0Fpj\n",
        "http://imgur.com/fLwTIjK"
       ]
      },
      {
       "output_type": "stream",
       "stream": "stdout",
       "text": [
        "\n",
        "http://i.imgur.com/xWQw0YB.png\n",
        "http://i.imgur.com/uO5kNeX.jpg\n",
        "http://i.imgur.com/MluD2DA.jpg\n",
        "http://imgur.com/SAKfQfl\n",
        "http://i.imgur.com/4HpGQt7.jpg\n",
        "http://i.imgur.com/CMgO4YZ.jpg\n",
        "http://i.imgur.com/4DfBw2x.jpg\n",
        "http://i.imgur.com/rjE7Bgi.png\n",
        "http://imgur.com/eZ9CDeu\n"
       ]
      }
     ],
     "prompt_number": 37
    },
    {
     "cell_type": "code",
     "collapsed": false,
     "input": [
      "rgdir = ('/home/wcmckee/rgdrecentReference/')"
     ],
     "language": "python",
     "metadata": {},
     "outputs": [],
     "prompt_number": 38
    },
    {
     "cell_type": "code",
     "collapsed": false,
     "input": [
      "os.chdir(rgdir)"
     ],
     "language": "python",
     "metadata": {},
     "outputs": [],
     "prompt_number": 39
    },
    {
     "cell_type": "code",
     "collapsed": false,
     "input": [
      "#mkindex = open('index.html', 'w')\n",
      "#mkindex.write(str(doc))\n",
      "#mkindex.close()"
     ],
     "language": "python",
     "metadata": {},
     "outputs": [],
     "prompt_number": 40
    },
    {
     "cell_type": "code",
     "collapsed": false,
     "input": [
      "#print str(doc)"
     ],
     "language": "python",
     "metadata": {},
     "outputs": [],
     "prompt_number": 41
    },
    {
     "cell_type": "code",
     "collapsed": false,
     "input": [
      "print strftime(\"%a, %d %b %Y %H:%M:%S +0000\")"
     ],
     "language": "python",
     "metadata": {},
     "outputs": [
      {
       "output_type": "stream",
       "stream": "stdout",
       "text": [
        "Fri, 24 Oct 2014 10:58:42 +0000\n"
       ]
      }
     ],
     "prompt_number": 42
    },
    {
     "cell_type": "code",
     "collapsed": false,
     "input": [
      "savedate = strftime(\"%d\" + \"-\" + \"%M\" + \"-\" + \"%Y\" + \"-\" + \"%H\")"
     ],
     "language": "python",
     "metadata": {},
     "outputs": [],
     "prompt_number": 43
    },
    {
     "cell_type": "code",
     "collapsed": false,
     "input": [
      "savedate"
     ],
     "language": "python",
     "metadata": {},
     "outputs": [
      {
       "metadata": {},
       "output_type": "pyout",
       "prompt_number": 44,
       "text": [
        "'24-58-2014-10'"
       ]
      }
     ],
     "prompt_number": 44
    },
    {
     "cell_type": "code",
     "collapsed": false,
     "input": [
      "deepone = str(savedate + '.md')"
     ],
     "language": "python",
     "metadata": {},
     "outputs": [],
     "prompt_number": 45
    },
    {
     "cell_type": "code",
     "collapsed": false,
     "input": [
      "deepone"
     ],
     "language": "python",
     "metadata": {},
     "outputs": [
      {
       "metadata": {},
       "output_type": "pyout",
       "prompt_number": 46,
       "text": [
        "'24-58-2014-10.md'"
       ]
      }
     ],
     "prompt_number": 46
    },
    {
     "cell_type": "code",
     "collapsed": false,
     "input": [
      "#os.chdir('/home/wcmckee/brobeur-blog-post/')"
     ],
     "language": "python",
     "metadata": {},
     "outputs": [],
     "prompt_number": 47
    },
    {
     "cell_type": "code",
     "collapsed": false,
     "input": [
      "#brobeind = open('\u00edndex.html', 'r')"
     ],
     "language": "python",
     "metadata": {},
     "outputs": [],
     "prompt_number": 48
    },
    {
     "cell_type": "code",
     "collapsed": false,
     "input": [
      "#brotest = open('\u00edndex.html', 'r')\n",
      "#brotest.read()"
     ],
     "language": "python",
     "metadata": {},
     "outputs": [],
     "prompt_number": 49
    },
    {
     "cell_type": "code",
     "collapsed": false,
     "input": [
      "redposts = ('/home/wcmckee/rgdrecentReference/posts')"
     ],
     "language": "python",
     "metadata": {},
     "outputs": [],
     "prompt_number": 50
    },
    {
     "cell_type": "code",
     "collapsed": false,
     "input": [
      "os.chdir(redposts)"
     ],
     "language": "python",
     "metadata": {},
     "outputs": [],
     "prompt_number": 51
    },
    {
     "cell_type": "code",
     "collapsed": false,
     "input": [
      "time.asctime()"
     ],
     "language": "python",
     "metadata": {},
     "outputs": [
      {
       "metadata": {},
       "output_type": "pyout",
       "prompt_number": 52,
       "text": [
        "'Fri Oct 24 10:58:47 2014'"
       ]
      }
     ],
     "prompt_number": 52
    },
    {
     "cell_type": "code",
     "collapsed": false,
     "input": [
      "savinx = open(str(deepone), 'w')"
     ],
     "language": "python",
     "metadata": {},
     "outputs": [],
     "prompt_number": 53
    },
    {
     "cell_type": "code",
     "collapsed": false,
     "input": [
      "savinx.write(str(rgdef))"
     ],
     "language": "python",
     "metadata": {},
     "outputs": [],
     "prompt_number": 54
    },
    {
     "cell_type": "code",
     "collapsed": false,
     "input": [
      "savinx.close()"
     ],
     "language": "python",
     "metadata": {},
     "outputs": [],
     "prompt_number": 55
    },
    {
     "cell_type": "code",
     "collapsed": false,
     "input": [],
     "language": "python",
     "metadata": {},
     "outputs": [],
     "prompt_number": 317
    },
    {
     "cell_type": "code",
     "collapsed": false,
     "input": [],
     "language": "python",
     "metadata": {},
     "outputs": [],
     "prompt_number": 317
    },
    {
     "cell_type": "code",
     "collapsed": false,
     "input": [],
     "language": "python",
     "metadata": {},
     "outputs": [],
     "prompt_number": 317
    }
   ],
   "metadata": {}
  }
 ]
}