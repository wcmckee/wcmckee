{
 "metadata": {
  "name": "",
  "signature": "sha256:92b5e071373cbfc1efb5c76fcd65a0d0f2da2980ce320258a84c214eda7bbba0"
 },
 "nbformat": 3,
 "nbformat_minor": 0,
 "worksheets": [
  {
   "cells": [
    {
     "cell_type": "markdown",
     "metadata": {},
     "source": [
      "<h1>Reddit Gets Drawn Snatch Script</h1>\n",
      "\n",
      "Creates the website redditgetsdrawnrecentreference. It contains the 25 most recent posts on r/redditgetsdrawn. title, image url, and username\n",
      "\n",
      "TODO:\n",
      "Contains artwork replies to each thread\n",
      "\n",
      "This is a Python script that takes data from reddit and posts it to another subreddit. It also creates a html file with the images embed into. The images are the most recent 25 on r/redditgetsdrawn.\n",
      "\n",
      "The script returns the comments from the most recent 25 posts along with the comments of comments.\n",
      "\n",
      "Pandas is used to append everything into a series and DataFrame. \n",
      "The pandas allows youto easily append these together. \n",
      "\n",
      "get all artwork and append into reference image -> \n",
      "artwork. \n",
      "\n",
      "Generate sites again.\n",
      "\n"
     ]
    },
    {
     "cell_type": "markdown",
     "metadata": {},
     "source": [
      "RedditGetsDrawn Snatch\n",
      " \n",
      "This is a Python script that takes data from reddit and posts it to another subreddit. It also creates a html file with the images embed into. The images are the most recent 25 on r/redditgetsdrawn.\n",
      " \n",
      "\n",
      "<markdowncell>\n",
      "\n",
      "TODO\n",
      " \n",
      "submit art to users via website\n",
      " \n",
      "fix image sizes (need to scale down to 550px)\n",
      " \n",
      "Save to server rather than imgur\n",
      " \n",
      "Archieve, snapshots of rgd\n",
      " \n",
      "more artcontrol\n",
      " \n",
      "itwillbemine comments to html - currently being saved in contact \n",
      " \n",
      "work on css, div up page, title, side, body, fo\n",
      "\n",
      "update twitter with ONE IMAGE and announce that the list has been updated.\n",
      " \n",
      "write blog post and submits to artcontroldrawsyou/blog \n",
      " \n",
      "gets sticked post on reddit\n",
      " \n",
      "delete about/contact page and have on all same page. can still have link to blog. \n",
      "about \n",
      "contact etc... along the top.\n",
      "other sections\n",
      " \n",
      "post images to blog for archieve - save body to wcmckee.com/blog - md format?\n",
      " \n",
      "nikola install - build site.\n",
      " \n",
      "cronjob to update site ever ?? hours? 4?\n",
      " \n",
      "photos section: latest 25 photos submitted to redditgetsdrawn.\n",
      "art section: latest 25 art submitted to redditgetsdrawn. \n",
      "\n",
      "cleanup code \n",
      "\n",
      "import pandas into it and removed things i dont need like dominate"
     ]
    },
    {
     "cell_type": "code",
     "collapsed": false,
     "input": [
      "import os\n",
      "import random\n",
      "import requests\n",
      "from bs4 import BeautifulSoup\n",
      "import re\n",
      "import json\n",
      "import time\n",
      "import praw\n",
      "import dominate\n",
      "from dominate.tags import *\n",
      "from time import gmtime, strftime\n",
      "#import nose\n",
      "#import unittest\n",
      "import numpy as np\n",
      "import pandas as pd\n",
      "from pandas import *"
     ],
     "language": "python",
     "metadata": {},
     "outputs": [],
     "prompt_number": 200
    },
    {
     "cell_type": "code",
     "collapsed": false,
     "input": [
      "chdira = ('/home/wcmckee/artcontroldrawsyou')\n",
      "os.chdir(chdira)"
     ],
     "language": "python",
     "metadata": {},
     "outputs": [],
     "prompt_number": 201
    },
    {
     "cell_type": "code",
     "collapsed": false,
     "input": [
      "r = praw.Reddit(user_agent='rgdsnatch')\n",
      "\n",
      "# <codecell>\n",
      "\n",
      "#r.login('artcontrol', 'taylor123vag!')\n",
      "\n",
      "# <codecell>\n",
      "\n",
      "rd = r.get_subreddit('redditgetsdrawn')\n",
      "\n",
      "# <codecell>\n",
      "\n",
      "subz = rd.get_hot().next()\n",
      "istit = (subz.title)\n",
      "istxt = (subz.selftext_html)\n",
      "istick = (subz.stickied)\n",
      "\n",
      "rdnewz = rd.get_new()\n",
      "\n",
      "rdnew = []"
     ],
     "language": "python",
     "metadata": {},
     "outputs": [],
     "prompt_number": 202
    },
    {
     "cell_type": "code",
     "collapsed": false,
     "input": [
      "reddraw = praw.Reddit(user_agent='rgdsnatch')"
     ],
     "language": "python",
     "metadata": {},
     "outputs": [],
     "prompt_number": 203
    },
    {
     "cell_type": "code",
     "collapsed": false,
     "input": [
      "getrddraw = reddraw.get_subreddit('redditgetsdrawn')"
     ],
     "language": "python",
     "metadata": {},
     "outputs": [],
     "prompt_number": 204
    },
    {
     "cell_type": "code",
     "collapsed": false,
     "input": [
      "decict = dict()"
     ],
     "language": "python",
     "metadata": {},
     "outputs": [],
     "prompt_number": 205
    },
    {
     "cell_type": "code",
     "collapsed": false,
     "input": [
      "subz = getrddraw.get_new()"
     ],
     "language": "python",
     "metadata": {},
     "outputs": [],
     "prompt_number": 206
    },
    {
     "cell_type": "code",
     "collapsed": false,
     "input": [
      "class TestRedditFunction(unittest.TestCase):\n",
      "    \n",
      "    def setUp(self):\n",
      "        self.seq = reddraw.get_subreddit('redditgetsdrawn')\n",
      "        \n",
      "    def testredit(self):\n",
      "        drawnew('redditgetsdrawn') "
     ],
     "language": "python",
     "metadata": {},
     "outputs": [],
     "prompt_number": 207
    },
    {
     "cell_type": "code",
     "collapsed": false,
     "input": [
      "def drawnew(subred):\n",
      "    getrdraw = reddraw.get_subreddit(subred)\n",
      "    return getrdraw\n",
      "\n",
      "def apred(deciz):\n",
      "    \n",
      "    return (deciz)"
     ],
     "language": "python",
     "metadata": {},
     "outputs": [],
     "prompt_number": 208
    },
    {
     "cell_type": "code",
     "collapsed": false,
     "input": [
      "apred('omg')"
     ],
     "language": "python",
     "metadata": {},
     "outputs": [
      {
       "metadata": {},
       "output_type": "pyout",
       "prompt_number": 209,
       "text": [
        "'omg'"
       ]
      }
     ],
     "prompt_number": 209
    },
    {
     "cell_type": "code",
     "collapsed": false,
     "input": [
      "rdrws = drawnew('redditgetsdrawn')"
     ],
     "language": "python",
     "metadata": {},
     "outputs": [],
     "prompt_number": 210
    },
    {
     "cell_type": "code",
     "collapsed": false,
     "input": [
      "rtohr = rdrws.get_controversial_from_all()"
     ],
     "language": "python",
     "metadata": {},
     "outputs": [],
     "prompt_number": 211
    },
    {
     "cell_type": "code",
     "collapsed": false,
     "input": [
      "for imgz in rtohr:\n",
      "    #print imgz.selftext\n",
      "    print imgz.num_comments"
     ],
     "language": "python",
     "metadata": {},
     "outputs": [
      {
       "output_type": "stream",
       "stream": "stdout",
       "text": [
        "6\n",
        "33\n",
        "26\n",
        "8\n",
        "71\n",
        "53\n",
        "7\n",
        "23\n",
        "61\n",
        "6\n",
        "20\n",
        "59\n",
        "58\n",
        "5\n",
        "14\n",
        "3\n",
        "21\n",
        "7\n",
        "10\n",
        "26\n",
        "56\n",
        "37\n",
        "15\n",
        "2\n",
        "0\n"
       ]
      }
     ],
     "prompt_number": 212
    },
    {
     "cell_type": "code",
     "collapsed": false,
     "input": [
      "rdnewz = getrddraw.get_new()\n",
      "\n",
      "# <codecell>\n",
      "\n",
      "rdnew = []\n",
      "\n",
      "# <codecell>\n",
      "\n",
      "rdnew\n",
      "\n",
      "# <codecell>\n",
      "\n",
      "for uz in rdnewz:\n",
      "    #print uz\n",
      "    rdnew.append(uz)\n"
     ],
     "language": "python",
     "metadata": {},
     "outputs": [],
     "prompt_number": 214
    },
    {
     "cell_type": "code",
     "collapsed": false,
     "input": [
      "datelis = []\n",
      "refdic = {}\n",
      "rgdef = dict()\n",
      "comdefz = []\n"
     ],
     "language": "python",
     "metadata": {},
     "outputs": [],
     "prompt_number": 215
    },
    {
     "cell_type": "code",
     "collapsed": false,
     "input": [
      "for rdz in rdnew:\n",
      "    print rdz.name\n",
      "    print rdz.title\n",
      "    print rdz.url\n",
      "    print rdz.author\n",
      "    print rdz.secure_media\n",
      "    print rdz.num_comments\n",
      "    print rdz.comments\n",
      "    comdefz.append(rdz.comments)\n",
      "    datelis.append(rdz.title)\n",
      "    datelis.append(rdz.url)\n",
      "    datelis.append(rdz.author)\n",
      "    comdict = {'comtxt':rdz.comments}\n",
      "    rgdef.update({rdz.author: rdz.url})\n",
      "    pandic = DataFrame(rdz.json_dict)\n",
      "    decict.update({'url':rdz.url})\n",
      "    decict.update({'title':rdz.title})\n",
      "    decict.update({'ups': rdz.ups})\n",
      "    decict.update({'downs': rdz.downs})"
     ],
     "language": "python",
     "metadata": {},
     "outputs": [
      {
       "output_type": "stream",
       "stream": "stdout",
       "text": [
        "t3_2ofert\n",
        "Could someone draw my girlfriend and me?\n",
        "http://i.imgur.com/hUlG5Vc.jpg\n",
        "Girgir55\n",
        "None\n",
        "0\n",
        "[]"
       ]
      },
      {
       "output_type": "stream",
       "stream": "stdout",
       "text": [
        "\n",
        "t3_2ofgfi\n",
        "My favorite woman in the world is my mom. This is a picture of her as a young woman. Could you please draw her?\n",
        "http://imgur.com/cOD4le7\n",
        "Nattyzee3\n",
        "None\n",
        "0\n",
        "[]"
       ]
      },
      {
       "output_type": "stream",
       "stream": "stdout",
       "text": [
        "\n",
        "t3_2oewzr\n",
        "Care to draw us weirdos?\n",
        "http://i.imgur.com/QrMunEg.jpg\n",
        "mischiefismychicken\n",
        "None\n",
        "0\n",
        "[]"
       ]
      },
      {
       "output_type": "stream",
       "stream": "stdout",
       "text": [
        "\n",
        "t3_2of3z3\n",
        "Would anyone like to draw me?\n",
        "http://imgur.com/kbAy4Vw\n",
        "CD5700\n",
        "None\n",
        "2\n",
        "[<praw.objects.Comment object at 0x14f7970>]"
       ]
      },
      {
       "output_type": "stream",
       "stream": "stdout",
       "text": [
        "\n",
        "t3_2of5h8\n",
        "I love this picture of my inlaws, could someone draw it?\n",
        "http://imgur.com/NoSvCbt\n",
        "Sectr9goddess\n",
        "None\n",
        "0\n",
        "[]"
       ]
      },
      {
       "output_type": "stream",
       "stream": "stdout",
       "text": [
        "\n",
        "t3_2of779\n",
        "Me with some lovely flowers\n",
        "http://imgur.com/zkAWMic\n",
        "leannimals\n",
        "None\n",
        "3\n",
        "[<praw.objects.Comment object at 0x14f7a70>, <praw.objects.Comment object at 0x14f7350>]"
       ]
      },
      {
       "output_type": "stream",
       "stream": "stdout",
       "text": [
        "\n",
        "t3_2of9aw\n",
        "Anyone want to draw me as a green witch? :)\n",
        "http://i.imgur.com/eTVYxje.jpg\n",
        "autumnwolfmoon89\n",
        "None\n",
        "0\n",
        "[]"
       ]
      },
      {
       "output_type": "stream",
       "stream": "stdout",
       "text": [
        "\n",
        "t3_2oexll\n",
        "Would love someone to draw my dog.\n",
        "http://i.imgur.com/occiAsF.jpg?1\n",
        "asm1th\n",
        "None\n",
        "1\n",
        "[<praw.objects.Comment object at 0x16f71f0>]"
       ]
      },
      {
       "output_type": "stream",
       "stream": "stdout",
       "text": [
        "\n",
        "t3_2oeu9i\n",
        "Me being a desert fox in the Mojave!\n",
        "http://imgur.com/hWHlxKS\n",
        "arianathefox\n",
        "None\n",
        "2\n",
        "[<praw.objects.Comment object at 0x168bd10>]"
       ]
      },
      {
       "output_type": "stream",
       "stream": "stdout",
       "text": [
        "\n",
        "t3_2oeu4a\n",
        "I got a new haircut - would anyone like to draw me with it?\n",
        "http://imgur.com/a/g8Nx6\n",
        "MrsBoris\n",
        "None\n",
        "6\n",
        "[<praw.objects.Comment object at 0x17304f0>, <praw.objects.Comment object at 0x1699630>]"
       ]
      },
      {
       "output_type": "stream",
       "stream": "stdout",
       "text": [
        "\n",
        "t3_2oet0z\n",
        "My nephews and I in Lake George. It would be so cool to see us drawn somewhere magical.\n",
        "http://m.imgur.com/Is2M1EA\n",
        "kachie1317\n",
        "None\n",
        "0\n",
        "[]"
       ]
      },
      {
       "output_type": "stream",
       "stream": "stdout",
       "text": [
        "\n",
        "t3_2oeqtn\n",
        "I'd love to give my big sister a drawing of us for Christmas! Anyone out there who wants to give iT a try?\n",
        "http://imgur.com/8NdHMRJ\n",
        "SofieBuyse\n",
        "None\n",
        "0\n",
        "[]"
       ]
      },
      {
       "output_type": "stream",
       "stream": "stdout",
       "text": [
        "\n",
        "t3_2oepd8\n",
        "Painting with my dog!\n",
        "http://i.imgur.com/k40b2YB.jpg\n",
        "Taroh\n",
        "None\n",
        "0\n",
        "[]"
       ]
      },
      {
       "output_type": "stream",
       "stream": "stdout",
       "text": [
        "\n",
        "t3_2oeo0c\n",
        "My daughter and her sleeping cousin. Draw their first meeting?!\n",
        "http://imgur.com/dMA1Ns3\n",
        "babydaisy611\n",
        "None\n",
        "0\n",
        "[]"
       ]
      },
      {
       "output_type": "stream",
       "stream": "stdout",
       "text": [
        "\n",
        "t3_2oelz3\n",
        "My Son's first ever baseball game with Daddy.\n",
        "http://imgur.com/ndXEDmE\n",
        "LiamsDaddy\n",
        "None\n",
        "0\n",
        "[]"
       ]
      },
      {
       "output_type": "stream",
       "stream": "stdout",
       "text": [
        "\n",
        "t3_2oeixy\n",
        "Please, draw myself and my girlfriend. Selfie at the beach! Any styles welcome, thanks so much! ;)\n",
        "http://imgur.com/9nplYrE\n",
        "jpesmeraldo\n",
        "None\n",
        "0\n",
        "[]"
       ]
      },
      {
       "output_type": "stream",
       "stream": "stdout",
       "text": [
        "\n",
        "t3_2oei8o\n",
        "My daughter from a fun little photo project we did together :)\n",
        "http://imgur.com/7Q7rjdC\n",
        "Lileaspirals\n",
        "None\n",
        "0\n",
        "[]"
       ]
      },
      {
       "output_type": "stream",
       "stream": "stdout",
       "text": [
        "\n",
        "t3_2oehed\n",
        "Me and my beautiful wife on the happiest day of my life\n",
        "http://imgur.com/3uQgoyL\n",
        "TylerMills\n",
        "None\n",
        "0\n",
        "[]"
       ]
      },
      {
       "output_type": "stream",
       "stream": "stdout",
       "text": [
        "\n",
        "t3_2oegan\n",
        "Anyone want draw my (hopefully) soon to be fiancee from her favorite picture?\n",
        "http://imgur.com/a/fnKuP\n",
        "sirwes\n",
        "None\n",
        "0\n",
        "[]"
       ]
      },
      {
       "output_type": "stream",
       "stream": "stdout",
       "text": [
        "\n",
        "t3_2oef1n\n",
        "Please draw me and my soon to be SO as a surprise for him please?\n",
        "http://imgur.com/a/x5gWO\n",
        "fletchdoll\n",
        "None\n",
        "0\n",
        "[]"
       ]
      },
      {
       "output_type": "stream",
       "stream": "stdout",
       "text": [
        "\n",
        "t3_2oebgk\n",
        "Would love a fun picture of my little boy please.\n",
        "http://imgur.com/M2LjhZ8\n",
        "oldwesty\n",
        "None\n",
        "0\n",
        "[]"
       ]
      },
      {
       "output_type": "stream",
       "stream": "stdout",
       "text": [
        "\n",
        "t3_2oe9hg\n",
        "I was wondering if anyone could draw me? I just linked to the album that I save all my pictures in so you have multiple photo choices. Thanks!\n",
        "http://imgur.com/a/KjDMi\n",
        "blasejade\n",
        "None\n",
        "8\n",
        "[<praw.objects.Comment object at 0x173e310>, <praw.objects.Comment object at 0x16f70d0>, <praw.objects.Comment object at 0x163bb70>]"
       ]
      },
      {
       "output_type": "stream",
       "stream": "stdout",
       "text": [
        "\n",
        "t3_2oe8kl\n",
        "Running out of gift ideas for my boyfriend for Christmas. I'd love to give him a framed drawing of us on halloween for his desk\n",
        "http://imgur.com/cnE21iX\n",
        "jazzillaa\n",
        "None\n",
        "2\n",
        "[<praw.objects.Comment object at 0x17306f0>]"
       ]
      },
      {
       "output_type": "stream",
       "stream": "stdout",
       "text": [
        "\n",
        "t3_2oe876\n",
        "My little man a few months ago. Would love to see any of the talented artists recreate it.\n",
        "http://i.imgur.com/aEDRodb.jpg\n",
        "nickel45\n",
        "None\n",
        "0\n",
        "[]"
       ]
      },
      {
       "output_type": "stream",
       "stream": "stdout",
       "text": [
        "\n",
        "t3_2oe6ml\n",
        "Good afternoon, Reddit artists! Here is me waiting at the doctor's office. All creative styles welcome! :)\n",
        "http://i.imgur.com/eefMUpb.jpg\n",
        "Sarahbelle89\n",
        "None\n",
        "3\n",
        "[<praw.objects.Comment object at 0x1699cd0>, <praw.objects.Comment object at 0x173edf0>]"
       ]
      },
      {
       "output_type": "stream",
       "stream": "stdout",
       "text": [
        "\n"
       ]
      }
     ],
     "prompt_number": 216
    },
    {
     "cell_type": "code",
     "collapsed": false,
     "input": [
      "decict"
     ],
     "language": "python",
     "metadata": {},
     "outputs": [
      {
       "metadata": {},
       "output_type": "pyout",
       "prompt_number": 217,
       "text": [
        "{'downs': 0,\n",
        " 'example': 'wcmckee',\n",
        " 'title': u\"Good afternoon, Reddit artists! Here is me waiting at the doctor's office. All creative styles welcome! :)\",\n",
        " 'ups': 1,\n",
        " 'url': u'http://i.imgur.com/eefMUpb.jpg'}"
       ]
      }
     ],
     "prompt_number": 217
    },
    {
     "cell_type": "code",
     "collapsed": false,
     "input": [
      "pandic"
     ],
     "language": "python",
     "metadata": {},
     "outputs": [
      {
       "metadata": {},
       "output_type": "pyout",
       "prompt_number": 218,
       "text": [
        "Empty DataFrame\n",
        "Columns: array([], dtype=object)\n",
        "Index: array([], dtype=object)"
       ]
      }
     ],
     "prompt_number": 218
    },
    {
     "cell_type": "code",
     "collapsed": false,
     "input": [
      "comdict"
     ],
     "language": "python",
     "metadata": {},
     "outputs": [
      {
       "metadata": {},
       "output_type": "pyout",
       "prompt_number": 219,
       "text": [
        "{'comtxt': [<praw.objects.Comment at 0x1699cd0>,\n",
        "  <praw.objects.Comment at 0x173edf0>]}"
       ]
      }
     ],
     "prompt_number": 219
    },
    {
     "cell_type": "code",
     "collapsed": false,
     "input": [
      "comply = []"
     ],
     "language": "python",
     "metadata": {},
     "outputs": [],
     "prompt_number": 220
    },
    {
     "cell_type": "code",
     "collapsed": false,
     "input": [
      "fddict = dict()"
     ],
     "language": "python",
     "metadata": {},
     "outputs": [],
     "prompt_number": 221
    },
    {
     "cell_type": "code",
     "collapsed": false,
     "input": [
      "for comaq in comdefz:\n",
      "    for fdz in comaq:\n",
      "        print fdz\n",
      "        print fdz.author\n",
      "        print fdz.created_utc\n",
      "        print fdz.replies\n",
      "        fddict.update({'combody': fdz.body})\n",
      "        fddict.update({'comauthor': fdz.author})\n",
      "        fddict.update({'comup': fdz.ups})\n",
      "        fddict.update({'comdown': fdz.downs})\n",
      "        \n",
      "        comply.append(fdz.replies)\n",
      "        decict.update({'created':fdz.created_utc})\n",
      "        decict.update({'author': fdz.author})\n",
      "        decict.update({'body':fdz.body})\n",
      "        decict.update({'replies':fdz.replies})"
     ],
     "language": "python",
     "metadata": {},
     "outputs": [
      {
       "output_type": "stream",
       "stream": "stdout",
       "text": [
        "[Oil on canvas](http://i.imgur.com/ddwDjyc.jpg)\n",
        "seanmillsartist\n",
        "1417844682.0\n",
        "[<praw.objects.Comment object at 0x16f7370>]\n",
        "What a fun sense of scale! I hope you don't mind being a [flower](http://i.im...\n",
        "koscheislittleducky\n",
        "1417843559.0\n",
        "[<praw.objects.Comment object at 0x16e1570>]\n",
        "Awesome pic! When I get home I'll be sure to draw it later :)\n",
        "angryfishtaco\n",
        "1417844631.0\n",
        "[]\n",
        "Something different! http://imgur.com/AydhCrX\n",
        "danceswithshamans\n",
        "1417831727.0\n",
        "[]\n",
        "[Woodburning and gouache](http://i.imgur.com/CyQpYKO.jpg)\n",
        "Katlix\n",
        "1417834244.0\n",
        "[<praw.objects.Comment object at 0x1699ab0>]\n",
        "http://imgur.com/lukCRBH\n",
        "\n",
        "TeachersPen\n",
        "1417835288.0\n",
        "[<praw.objects.Comment object at 0x17304b0>, <praw.objects.Comment object at 0x169f5d0>]\n",
        "http://i.imgur.com/9SXs1JV.png?1\n",
        "\n",
        "I just traced it, I'm trying to learn how t...\n",
        "piranhathon\n",
        "1417831958.0\n",
        "[]\n",
        "[Oil on Canvas](http://i.imgur.com/aqhEneN.jpg?1)\n",
        "\n",
        "[Full Size](http://i.imgur...\n",
        "seanmillsartist\n",
        "1417826522.0\n",
        "[<praw.objects.Comment object at 0x16f73d0>, <praw.objects.Comment object at 0x163b1d0>]\n",
        "I think this one turned out pretty well. Here you go: http://imgur.com/DAFuZI...\n",
        "clsanchez26\n",
        "1417833988.0\n",
        "[]\n",
        "https://i.imgur.com/vZqYg20.jpg\n",
        "bcsketches\n",
        "1417843414.0\n",
        "[]\n",
        "[deleted]\n",
        "None\n",
        "1417826464.0\n",
        "[<praw.objects.Comment object at 0x14f7570>]\n",
        "[mostly ballpoint](http://ugocapetoart.blogspot.com/2014/12/mostly-ballpoint-...\n",
        "ugocapeto\n",
        "1417820228.0\n",
        "[<praw.objects.Comment object at 0x16e1970>]\n",
        "I just got sketchbook for my tablet. I've never used a digital program for dr...\n",
        "danceswithshamans\n",
        "1417824385.0\n",
        "[]\n"
       ]
      }
     ],
     "prompt_number": 222
    },
    {
     "cell_type": "code",
     "collapsed": false,
     "input": [
      "decict"
     ],
     "language": "python",
     "metadata": {},
     "outputs": [
      {
       "metadata": {},
       "output_type": "pyout",
       "prompt_number": 223,
       "text": [
        "{'author': Redditor(user_name='danceswithshamans'),\n",
        " 'body': u\"I just got sketchbook for my tablet. I've never used a digital program for drawing before or used anything but pencils. Came out dif than what I was going for but I'll learn! Lol http://imgur.com/cYEO26e\",\n",
        " 'created': 1417824385.0,\n",
        " 'downs': 0,\n",
        " 'example': 'wcmckee',\n",
        " 'replies': [],\n",
        " 'title': u\"Good afternoon, Reddit artists! Here is me waiting at the doctor's office. All creative styles welcome! :)\",\n",
        " 'ups': 1,\n",
        " 'url': u'http://i.imgur.com/eefMUpb.jpg'}"
       ]
      }
     ],
     "prompt_number": 223
    },
    {
     "cell_type": "code",
     "collapsed": false,
     "input": [
      "fddict"
     ],
     "language": "python",
     "metadata": {},
     "outputs": [
      {
       "metadata": {},
       "output_type": "pyout",
       "prompt_number": 224,
       "text": [
        "{'comauthor': Redditor(user_name='danceswithshamans'),\n",
        " 'combody': u\"I just got sketchbook for my tablet. I've never used a digital program for drawing before or used anything but pencils. Came out dif than what I was going for but I'll learn! Lol http://imgur.com/cYEO26e\",\n",
        " 'comdown': 0,\n",
        " 'comup': 2,\n",
        " 'testblah': 'testblah'}"
       ]
      }
     ],
     "prompt_number": 224
    },
    {
     "cell_type": "code",
     "collapsed": false,
     "input": [
      "qwedict = decict.items() + fddict.items()"
     ],
     "language": "python",
     "metadata": {},
     "outputs": [],
     "prompt_number": 225
    },
    {
     "cell_type": "code",
     "collapsed": false,
     "input": [
      "alldixz = dict()"
     ],
     "language": "python",
     "metadata": {},
     "outputs": [],
     "prompt_number": 262
    },
    {
     "cell_type": "code",
     "collapsed": false,
     "input": [
      "for qwpz in qwedict:\n",
      "    print qwpz\n",
      "    alldixz.update({qwpz: 'test'})"
     ],
     "language": "python",
     "metadata": {},
     "outputs": [
      {
       "output_type": "stream",
       "stream": "stdout",
       "text": [
        "('body', u\"I just got sketchbook for my tablet. I've never used a digital program for drawing before or used anything but pencils. Came out dif than what I was going for but I'll learn! Lol http://imgur.com/cYEO26e\")\n",
        "('author', Redditor(user_name='danceswithshamans'))\n",
        "('title', u\"Good afternoon, Reddit artists! Here is me waiting at the doctor's office. All creative styles welcome! :)\")\n",
        "('url', u'http://i.imgur.com/eefMUpb.jpg')\n",
        "('downs', 0)\n",
        "('created', 1417824385.0)\n",
        "('ups', 1)\n",
        "('replies', [])\n"
       ]
      },
      {
       "ename": "TypeError",
       "evalue": "unhashable type: 'list'",
       "output_type": "pyerr",
       "traceback": [
        "\u001b[1;31m---------------------------------------------------------------------------\u001b[0m\n\u001b[1;31mTypeError\u001b[0m                                 Traceback (most recent call last)",
        "\u001b[1;32m<ipython-input-269-8348bf85f7e4>\u001b[0m in \u001b[0;36m<module>\u001b[1;34m()\u001b[0m\n\u001b[0;32m      1\u001b[0m \u001b[1;32mfor\u001b[0m \u001b[0mqwpz\u001b[0m \u001b[1;32min\u001b[0m \u001b[0mqwedict\u001b[0m\u001b[1;33m:\u001b[0m\u001b[1;33m\u001b[0m\u001b[0m\n\u001b[0;32m      2\u001b[0m     \u001b[1;32mprint\u001b[0m \u001b[0mqwpz\u001b[0m\u001b[1;33m\u001b[0m\u001b[0m\n\u001b[1;32m----> 3\u001b[1;33m     \u001b[0malldixz\u001b[0m\u001b[1;33m.\u001b[0m\u001b[0mupdate\u001b[0m\u001b[1;33m(\u001b[0m\u001b[1;33m{\u001b[0m\u001b[0mqwpz\u001b[0m\u001b[1;33m:\u001b[0m \u001b[1;34m'test'\u001b[0m\u001b[1;33m}\u001b[0m\u001b[1;33m)\u001b[0m\u001b[1;33m\u001b[0m\u001b[0m\n\u001b[0m",
        "\u001b[1;31mTypeError\u001b[0m: unhashable type: 'list'"
       ]
      }
     ],
     "prompt_number": 269
    },
    {
     "cell_type": "code",
     "collapsed": false,
     "input": [
      "alldixz"
     ],
     "language": "python",
     "metadata": {},
     "outputs": [
      {
       "metadata": {},
       "output_type": "pyout",
       "prompt_number": 270,
       "text": [
        "{'test': ('comup', 2),\n",
        " ('author', Redditor(user_name='danceswithshamans')): 'test',\n",
        " ('body',\n",
        "  u\"I just got sketchbook for my tablet. I've never used a digital program for drawing before or used anything but pencils. Came out dif than what I was going for but I'll learn! Lol http://imgur.com/cYEO26e\"): 'test',\n",
        " ('created', 1417824385.0): 'test',\n",
        " ('downs', 0): 'test',\n",
        " ('title',\n",
        "  u\"Good afternoon, Reddit artists! Here is me waiting at the doctor's office. All creative styles welcome! :)\"): 'test',\n",
        " ('ups', 1): 'test',\n",
        " ('url', u'http://i.imgur.com/eefMUpb.jpg'): 'test'}"
       ]
      }
     ],
     "prompt_number": 270
    },
    {
     "cell_type": "code",
     "collapsed": false,
     "input": [
      "qwedict"
     ],
     "language": "python",
     "metadata": {},
     "outputs": [
      {
       "metadata": {},
       "output_type": "pyout",
       "prompt_number": 271,
       "text": [
        "[('body',\n",
        "  u\"I just got sketchbook for my tablet. I've never used a digital program for drawing before or used anything but pencils. Came out dif than what I was going for but I'll learn! Lol http://imgur.com/cYEO26e\"),\n",
        " ('author', Redditor(user_name='danceswithshamans')),\n",
        " ('title',\n",
        "  u\"Good afternoon, Reddit artists! Here is me waiting at the doctor's office. All creative styles welcome! :)\"),\n",
        " ('url', u'http://i.imgur.com/eefMUpb.jpg'),\n",
        " ('downs', 0),\n",
        " ('created', 1417824385.0),\n",
        " ('ups', 1),\n",
        " ('replies', []),\n",
        " ('example', 'wcmckee'),\n",
        " ('testblah', 'testblah'),\n",
        " ('comauthor', Redditor(user_name='danceswithshamans')),\n",
        " ('comdown', 0),\n",
        " ('combody',\n",
        "  u\"I just got sketchbook for my tablet. I've never used a digital program for drawing before or used anything but pencils. Came out dif than what I was going for but I'll learn! Lol http://imgur.com/cYEO26e\"),\n",
        " ('comup', 2)]"
       ]
      }
     ],
     "prompt_number": 271
    },
    {
     "cell_type": "code",
     "collapsed": false,
     "input": [
      "for coaz in comply:\n",
      "    print coaz\n",
      "    for coa in coaz:\n",
      "        print coa.body\n",
      "        print coa.author"
     ],
     "language": "python",
     "metadata": {},
     "outputs": [
      {
       "output_type": "stream",
       "stream": "stdout",
       "text": [
        "[<praw.objects.Comment object at 0x16f7370>]\n",
        "*Holy shit.* I was not expecting someone to actually paint the picture on an actual canvas, and now I'm over the moon. I love the way it was done! THANK YOU so much!\n",
        "CD5700\n",
        "[<praw.objects.Comment object at 0x16e1570>]\n",
        "Wow I don't mind at all! This great thank you !\n",
        "leannimals\n",
        "[]\n",
        "[]\n",
        "[<praw.objects.Comment object at 0x1699ab0>]\n",
        "Wow that is awesome!!\n",
        "Lileaspirals\n",
        "[<praw.objects.Comment object at 0x17304b0>, <praw.objects.Comment object at 0x169f5d0>]\n",
        "WOW.  The shadows are dramatic-love this.\n",
        "Nattyzee3\n",
        "amazing.\n",
        "EmplOTM\n",
        "[]\n",
        "[<praw.objects.Comment object at 0x16f73d0>, <praw.objects.Comment object at 0x163b1d0>]\n",
        "Okay, seriously, how do people come up with that amazing stuff in just a few hours? It takes me an hour just to draw a crappy cartoon stickman from a tutorial on a website for kids.\n",
        "shindyy\n",
        "That looks amazing! How long did it take you?\n",
        "clsanchez26\n",
        "[]\n",
        "[]\n",
        "[<praw.objects.Comment object at 0x14f7570>]\n",
        "Images that are filtered or manipulated are removed. Like yours.\n",
        "ItWillBeMine\n",
        "[<praw.objects.Comment object at 0x16e1970>]\n",
        "Beautiful!\n",
        "Lileaspirals\n",
        "[]\n"
       ]
      }
     ],
     "prompt_number": 227
    },
    {
     "cell_type": "code",
     "collapsed": false,
     "input": [
      "serz = Series(fddict)"
     ],
     "language": "python",
     "metadata": {},
     "outputs": [],
     "prompt_number": 228
    },
    {
     "cell_type": "code",
     "collapsed": false,
     "input": [
      "fddict"
     ],
     "language": "python",
     "metadata": {},
     "outputs": [
      {
       "metadata": {},
       "output_type": "pyout",
       "prompt_number": 229,
       "text": [
        "{'comauthor': Redditor(user_name='danceswithshamans'),\n",
        " 'combody': u\"I just got sketchbook for my tablet. I've never used a digital program for drawing before or used anything but pencils. Came out dif than what I was going for but I'll learn! Lol http://imgur.com/cYEO26e\",\n",
        " 'comdown': 0,\n",
        " 'comup': 2,\n",
        " 'testblah': 'testblah'}"
       ]
      }
     ],
     "prompt_number": 229
    },
    {
     "cell_type": "code",
     "collapsed": false,
     "input": [
      "fddict.keys()"
     ],
     "language": "python",
     "metadata": {},
     "outputs": [
      {
       "metadata": {},
       "output_type": "pyout",
       "prompt_number": 230,
       "text": [
        "['testblah', 'comauthor', 'comdown', 'combody', 'comup']"
       ]
      }
     ],
     "prompt_number": 230
    },
    {
     "cell_type": "code",
     "collapsed": false,
     "input": [
      "def extractlinks(html):\n",
      "    soup = BeautifulSoup(html)\n",
      "    anchors = soup.findAll('a')\n",
      "    links = []\n",
      "    for a in anchors:\n",
      "        links.append(a['href'])\n",
      "    return links"
     ],
     "language": "python",
     "metadata": {},
     "outputs": [],
     "prompt_number": 231
    },
    {
     "cell_type": "code",
     "collapsed": false,
     "input": [
      "cydict = fddict.values()"
     ],
     "language": "python",
     "metadata": {},
     "outputs": [],
     "prompt_number": 232
    },
    {
     "cell_type": "code",
     "collapsed": false,
     "input": [
      "for itz in cydict:\n",
      "    print itz   "
     ],
     "language": "python",
     "metadata": {},
     "outputs": [
      {
       "output_type": "stream",
       "stream": "stdout",
       "text": [
        "testblah\n",
        "danceswithshamans\n",
        "0\n",
        "I just got sketchbook for my tablet. I've never used a digital program for drawing before or used anything but pencils. Came out dif than what I was going for but I'll learn! Lol http://imgur.com/cYEO26e\n",
        "2\n"
       ]
      }
     ],
     "prompt_number": 233
    },
    {
     "cell_type": "code",
     "collapsed": false,
     "input": [
      "chedict = {'blah': 'testing'}"
     ],
     "language": "python",
     "metadata": {},
     "outputs": [],
     "prompt_number": 234
    },
    {
     "cell_type": "code",
     "collapsed": false,
     "input": [
      "#fixurl = BeautifulSoup(fddict.values())"
     ],
     "language": "python",
     "metadata": {},
     "outputs": [],
     "prompt_number": 235
    },
    {
     "cell_type": "code",
     "collapsed": false,
     "input": [
      "for coma in comdefz:\n",
      "    #print coma\n",
      "    #chedict.update({'first': coma})\n",
      "    for co in coma:\n",
      "        print co\n",
      "        chedict.update({co.author: co.body})"
     ],
     "language": "python",
     "metadata": {},
     "outputs": [
      {
       "output_type": "stream",
       "stream": "stdout",
       "text": [
        "[Oil on canvas](http://i.imgur.com/ddwDjyc.jpg)\n",
        "What a fun sense of scale! I hope you don't mind being a [flower](http://i.im...\n",
        "Awesome pic! When I get home I'll be sure to draw it later :)\n",
        "Something different! http://imgur.com/AydhCrX\n",
        "[Woodburning and gouache](http://i.imgur.com/CyQpYKO.jpg)\n",
        "http://imgur.com/lukCRBH\n",
        "\n",
        "http://i.imgur.com/9SXs1JV.png?1\n",
        "\n",
        "I just traced it, I'm trying to learn how t...\n",
        "[Oil on Canvas](http://i.imgur.com/aqhEneN.jpg?1)\n",
        "\n",
        "[Full Size](http://i.imgur...\n",
        "I think this one turned out pretty well. Here you go: http://imgur.com/DAFuZI...\n",
        "https://i.imgur.com/vZqYg20.jpg\n",
        "[deleted]\n",
        "[mostly ballpoint](http://ugocapetoart.blogspot.com/2014/12/mostly-ballpoint-...\n",
        "I just got sketchbook for my tablet. I've never used a digital program for dr...\n"
       ]
      }
     ],
     "prompt_number": 236
    },
    {
     "cell_type": "code",
     "collapsed": false,
     "input": [
      "chedict"
     ],
     "language": "python",
     "metadata": {},
     "outputs": [
      {
       "metadata": {},
       "output_type": "pyout",
       "prompt_number": 237,
       "text": [
        "{Redditor(user_name='clsanchez26'): u'I think this one turned out pretty well. Here you go: http://imgur.com/DAFuZIk :D',\n",
        " Redditor(user_name='seanmillsartist'): u'[Oil on Canvas](http://i.imgur.com/aqhEneN.jpg?1)\\n\\n[Full Size](http://i.imgur.com/bCb9YW9.jpg)',\n",
        " Redditor(user_name='TeachersPen'): u'http://imgur.com/lukCRBH\\n',\n",
        " None: u'[deleted]',\n",
        " Redditor(user_name='angryfishtaco'): u\"Awesome pic! When I get home I'll be sure to draw it later :)\",\n",
        " Redditor(user_name='Katlix'): u'[Woodburning and gouache](http://i.imgur.com/CyQpYKO.jpg)',\n",
        " 'blah': 'testing',\n",
        " Redditor(user_name='danceswithshamans'): u'Something different! http://imgur.com/AydhCrX',\n",
        " Redditor(user_name='seanmillsartist'): u'[Oil on canvas](http://i.imgur.com/ddwDjyc.jpg)',\n",
        " Redditor(user_name='piranhathon'): u\"http://i.imgur.com/9SXs1JV.png?1\\n\\nI just traced it, I'm trying to learn how to use the path tool on photoshop\",\n",
        " Redditor(user_name='ugocapeto'): u'[mostly ballpoint](http://ugocapetoart.blogspot.com/2014/12/mostly-ballpoint-sketch.html)',\n",
        " Redditor(user_name='danceswithshamans'): u\"I just got sketchbook for my tablet. I've never used a digital program for drawing before or used anything but pencils. Came out dif than what I was going for but I'll learn! Lol http://imgur.com/cYEO26e\",\n",
        " Redditor(user_name='koscheislittleducky'): u\"What a fun sense of scale! I hope you don't mind being a [flower](http://i.imgur.com/N9zG55O.jpg) fairy.\",\n",
        " Redditor(user_name='bcsketches'): u'https://i.imgur.com/vZqYg20.jpg'}"
       ]
      }
     ],
     "prompt_number": 237
    },
    {
     "cell_type": "code",
     "collapsed": false,
     "input": [
      "#jsdum = json.loads(chedict)"
     ],
     "language": "python",
     "metadata": {},
     "outputs": [],
     "prompt_number": 238
    },
    {
     "cell_type": "code",
     "collapsed": false,
     "input": [
      "rcoms = chedict.keys()\n",
      "rvals = chedict.values()\n",
      "imcom = []"
     ],
     "language": "python",
     "metadata": {},
     "outputs": [],
     "prompt_number": 239
    },
    {
     "cell_type": "code",
     "collapsed": false,
     "input": [
      "for rvs in rvals:\n",
      "    print rvs\n",
      "    if '.jpg' or '.png' in rvs:\n",
      "        imcom.append(rvs)\n",
      "        "
     ],
     "language": "python",
     "metadata": {},
     "outputs": [
      {
       "output_type": "stream",
       "stream": "stdout",
       "text": [
        "http://imgur.com/lukCRBH\n",
        "\n",
        "I think this one turned out pretty well. Here you go: http://imgur.com/DAFuZIk :D\n",
        "[Oil on Canvas](http://i.imgur.com/aqhEneN.jpg?1)\n",
        "\n",
        "[Full Size](http://i.imgur.com/bCb9YW9.jpg)\n",
        "[deleted]\n",
        "Awesome pic! When I get home I'll be sure to draw it later :)\n",
        "[Woodburning and gouache](http://i.imgur.com/CyQpYKO.jpg)\n",
        "testing\n",
        "Something different! http://imgur.com/AydhCrX\n",
        "[Oil on canvas](http://i.imgur.com/ddwDjyc.jpg)\n",
        "http://i.imgur.com/9SXs1JV.png?1\n",
        "\n",
        "I just traced it, I'm trying to learn how to use the path tool on photoshop\n",
        "[mostly ballpoint](http://ugocapetoart.blogspot.com/2014/12/mostly-ballpoint-sketch.html)\n",
        "I just got sketchbook for my tablet. I've never used a digital program for drawing before or used anything but pencils. Came out dif than what I was going for but I'll learn! Lol http://imgur.com/cYEO26e\n",
        "What a fun sense of scale! I hope you don't mind being a [flower](http://i.imgur.com/N9zG55O.jpg) fairy.\n",
        "https://i.imgur.com/vZqYg20.jpg\n"
       ]
      }
     ],
     "prompt_number": 240
    },
    {
     "cell_type": "code",
     "collapsed": false,
     "input": [
      "imcom"
     ],
     "language": "python",
     "metadata": {},
     "outputs": [
      {
       "metadata": {},
       "output_type": "pyout",
       "prompt_number": 241,
       "text": [
        "[u'http://imgur.com/lukCRBH\\n',\n",
        " u'I think this one turned out pretty well. Here you go: http://imgur.com/DAFuZIk :D',\n",
        " u'[Oil on Canvas](http://i.imgur.com/aqhEneN.jpg?1)\\n\\n[Full Size](http://i.imgur.com/bCb9YW9.jpg)',\n",
        " u'[deleted]',\n",
        " u\"Awesome pic! When I get home I'll be sure to draw it later :)\",\n",
        " u'[Woodburning and gouache](http://i.imgur.com/CyQpYKO.jpg)',\n",
        " 'testing',\n",
        " u'Something different! http://imgur.com/AydhCrX',\n",
        " u'[Oil on canvas](http://i.imgur.com/ddwDjyc.jpg)',\n",
        " u\"http://i.imgur.com/9SXs1JV.png?1\\n\\nI just traced it, I'm trying to learn how to use the path tool on photoshop\",\n",
        " u'[mostly ballpoint](http://ugocapetoart.blogspot.com/2014/12/mostly-ballpoint-sketch.html)',\n",
        " u\"I just got sketchbook for my tablet. I've never used a digital program for drawing before or used anything but pencils. Came out dif than what I was going for but I'll learn! Lol http://imgur.com/cYEO26e\",\n",
        " u\"What a fun sense of scale! I hope you don't mind being a [flower](http://i.imgur.com/N9zG55O.jpg) fairy.\",\n",
        " u'https://i.imgur.com/vZqYg20.jpg']"
       ]
      }
     ],
     "prompt_number": 241
    },
    {
     "cell_type": "code",
     "collapsed": false,
     "input": [
      "#fuldoc = doc.render()"
     ],
     "language": "python",
     "metadata": {},
     "outputs": [],
     "prompt_number": 242
    },
    {
     "cell_type": "code",
     "collapsed": false,
     "input": [],
     "language": "python",
     "metadata": {},
     "outputs": [],
     "prompt_number": 242
    },
    {
     "cell_type": "code",
     "collapsed": false,
     "input": [
      "doc = dominate.document(title='Dominate your HTML')\n",
      "\n",
      "with doc.head:\n",
      "    link(rel='stylesheet', href='style.css')\n",
      "    script(type='text/javascript', src='script.js')\n",
      "\n",
      "with doc:\n",
      "    with div(id='header').add(ol()):\n",
      "        for imz in imcom:\n",
      "            #print imz\n",
      "            p(imz)\n",
      "\n",
      "    #with div():\n",
      "     #   attr(cls='body')\n",
      "     #   p('Lorem ipsum..')\n",
      "\n",
      "#print doc"
     ],
     "language": "python",
     "metadata": {},
     "outputs": [],
     "prompt_number": 243
    },
    {
     "cell_type": "code",
     "collapsed": false,
     "input": [
      "for docin in doc.head.children:\n",
      "    print docin"
     ],
     "language": "python",
     "metadata": {},
     "outputs": [
      {
       "output_type": "stream",
       "stream": "stdout",
       "text": [
        "<title>Dominate your HTML</title>\n",
        "<link href=\"style.css\" rel=\"stylesheet\">\n",
        "<script src=\"script.js\" type=\"text/javascript\"></script>\n"
       ]
      }
     ],
     "prompt_number": 244
    },
    {
     "cell_type": "code",
     "collapsed": false,
     "input": [
      "for pain in docin.parent.children:\n",
      "    print pain"
     ],
     "language": "python",
     "metadata": {},
     "outputs": [
      {
       "output_type": "stream",
       "stream": "stdout",
       "text": [
        "<title>Dominate your HTML</title>\n",
        "<link href=\"style.css\" rel=\"stylesheet\">\n",
        "<script src=\"script.js\" type=\"text/javascript\"></script>\n"
       ]
      }
     ],
     "prompt_number": 245
    },
    {
     "cell_type": "code",
     "collapsed": false,
     "input": [
      "doc.body.parent.children"
     ],
     "language": "python",
     "metadata": {},
     "outputs": [
      {
       "metadata": {},
       "output_type": "pyout",
       "prompt_number": 246,
       "text": [
        "[<dominate.tags.head at 14f44d0: 0 attributes, 3 children>,\n",
        " <dominate.tags.body at 14f4430: 0 attributes, 1 child>]"
       ]
      }
     ],
     "prompt_number": 246
    },
    {
     "cell_type": "code",
     "collapsed": false,
     "input": [],
     "language": "python",
     "metadata": {},
     "outputs": [],
     "prompt_number": 246
    },
    {
     "cell_type": "code",
     "collapsed": false,
     "input": [
      "#soup = BeautifulSoup(doc)\n",
      "\n",
      "#print(soup.prettify())"
     ],
     "language": "python",
     "metadata": {},
     "outputs": [],
     "prompt_number": 247
    },
    {
     "cell_type": "code",
     "collapsed": false,
     "input": [
      "#extractlinks()"
     ],
     "language": "python",
     "metadata": {},
     "outputs": [],
     "prompt_number": 248
    },
    {
     "cell_type": "code",
     "collapsed": false,
     "input": [
      "#for imc in imcom:\n",
      "#    print imc"
     ],
     "language": "python",
     "metadata": {},
     "outputs": [],
     "prompt_number": 249
    },
    {
     "cell_type": "code",
     "collapsed": false,
     "input": [
      "#doc.body"
     ],
     "language": "python",
     "metadata": {},
     "outputs": [],
     "prompt_number": 250
    },
    {
     "cell_type": "code",
     "collapsed": false,
     "input": [],
     "language": "python",
     "metadata": {},
     "outputs": [],
     "prompt_number": 250
    },
    {
     "cell_type": "code",
     "collapsed": false,
     "input": [
      "#doc.render()"
     ],
     "language": "python",
     "metadata": {},
     "outputs": [],
     "prompt_number": 251
    },
    {
     "cell_type": "code",
     "collapsed": false,
     "input": [
      "#for dicaz in doc.children:\n",
      "#    print dicaz"
     ],
     "language": "python",
     "metadata": {},
     "outputs": [],
     "prompt_number": 252
    },
    {
     "cell_type": "code",
     "collapsed": false,
     "input": [],
     "language": "python",
     "metadata": {},
     "outputs": [],
     "prompt_number": 252
    },
    {
     "cell_type": "code",
     "collapsed": false,
     "input": [
      "#for imz in imcom:\n",
      "    \n",
      "#    print imz"
     ],
     "language": "python",
     "metadata": {},
     "outputs": [],
     "prompt_number": 253
    },
    {
     "cell_type": "code",
     "collapsed": false,
     "input": [
      "#for rez in rcoms:\n",
      "#    print rez\n",
      "    "
     ],
     "language": "python",
     "metadata": {},
     "outputs": [],
     "prompt_number": 254
    },
    {
     "cell_type": "code",
     "collapsed": false,
     "input": [],
     "language": "python",
     "metadata": {},
     "outputs": [],
     "prompt_number": 254
    },
    {
     "cell_type": "code",
     "collapsed": false,
     "input": [
      "#for rgt in rgdef.values():\n",
      "#    if '.jpg' in rgt:\n",
      "#        print rgt"
     ],
     "language": "python",
     "metadata": {},
     "outputs": [],
     "prompt_number": 255
    },
    {
     "cell_type": "code",
     "collapsed": false,
     "input": [
      "import dominate\n",
      "from dominate.tags import *\n",
      "\n",
      "doc = dominate.document(title='RedditGetsDrawn Recent Reference')\n",
      "\n",
      "with doc.head:\n",
      "    link(rel='stylesheet', href='style.css')\n",
      "    script(type='text/javascript', src='script.js')\n",
      "    \n",
      "    with div():\n",
      "        attr(cls='header')\n",
      "        h1('RedditGetsDrawn Recent Reference')\n",
      "        p('updated ', strftime(\"%a, %d %b %Y %H:%M:%S +0000\", gmtime()))\n",
      "\n",
      "    \n",
      "    \n",
      "\n",
      "with doc:\n",
      "    with div(id='body').add(ol()):\n",
      "        for rdz in rdnew:\n",
      "            h1(rdz.title)\n",
      "            a(rdz.url)\n",
      "            if '.jpg' or '.png' in rdz.url:\n",
      "                print rdz.url\n",
      "                p(img(rdz.url, src='%s' % rdz.url))\n",
      "            #print rdz.url\n",
      "            #if '.jpg' in rdz.url:\n",
      "            #    img(rdz.urlz)\n",
      "            #else:\n",
      "            #    a(rdz.urlz)\n",
      "            p(str(rdz.author))\n",
      "            \n",
      "            #li(img(i.lower(), src='%s' % i))\n",
      "\n",
      "    with div():\n",
      "        attr(cls='body')\n",
      "        p('RGDRecentReference is open source')\n",
      "        a('http://github.com/wcmckee/wcmckee')\n",
      "\n",
      "#print doc"
     ],
     "language": "python",
     "metadata": {},
     "outputs": [
      {
       "output_type": "stream",
       "stream": "stdout",
       "text": [
        "http://i.imgur.com/hUlG5Vc.jpg\n",
        "http://imgur.com/cOD4le7\n",
        "http://i.imgur.com/QrMunEg.jpg\n",
        "http://imgur.com/kbAy4Vw\n",
        "http://imgur.com/NoSvCbt\n",
        "http://imgur.com/zkAWMic\n",
        "http://i.imgur.com/eTVYxje.jpg\n",
        "http://i.imgur.com/occiAsF.jpg?1\n",
        "http://imgur.com/hWHlxKS\n",
        "http://imgur.com/a/g8Nx6\n",
        "http://m.imgur.com/Is2M1EA\n",
        "http://imgur.com/8NdHMRJ\n",
        "http://i.imgur.com/k40b2YB.jpg\n",
        "http://imgur.com/dMA1Ns3\n",
        "http://imgur.com/ndXEDmE\n",
        "http://imgur.com/9nplYrE\n",
        "http://imgur.com/7Q7rjdC\n",
        "http://imgur.com/3uQgoyL\n",
        "http://imgur.com/a/fnKuP\n",
        "http://imgur.com/a/x5gWO\n",
        "http://imgur.com/M2LjhZ8\n",
        "http://imgur.com/a/KjDMi\n",
        "http://imgur.com/cnE21iX\n",
        "http://i.imgur.com/aEDRodb.jpg\n",
        "http://i.imgur.com/eefMUpb.jpg\n"
       ]
      }
     ],
     "prompt_number": 256
    },
    {
     "cell_type": "code",
     "collapsed": false,
     "input": [
      "rgdir = ('/home/wcmckee/rgdrecentReference/')"
     ],
     "language": "python",
     "metadata": {},
     "outputs": [],
     "prompt_number": 257
    },
    {
     "cell_type": "code",
     "collapsed": false,
     "input": [
      "doc.render()"
     ],
     "language": "python",
     "metadata": {},
     "outputs": [
      {
       "metadata": {},
       "output_type": "pyout",
       "prompt_number": 258,
       "text": [
        "u'<!DOCTYPE html>\\n<html>\\n  <head>\\n    <title>RedditGetsDrawn Recent Reference</title>\\n    <link href=\"style.css\" rel=\"stylesheet\"><script src=\"script.js\" type=\"text/javascript\"></script>\\n    <div class=\"header\">\\n      <h1>RedditGetsDrawn Recent Reference</h1>\\n      <p>updated Sat, 06 Dec 2014 05:56:01 +0000</p>\\n    </div>\\n  </head>\\n  <body>\\n    <div id=\"body\">\\n      <ol>\\n        <h1>Could someone draw my girlfriend and me?</h1>\\n        <a>http://i.imgur.com/hUlG5Vc.jpg</a>\\n        <p>\\n          <img src=\"http://i.imgur.com/hUlG5Vc.jpg\">\\n        </p>\\n        <p>Girgir55</p>\\n        <h1>My favorite woman in the world is my mom. This is a picture of her as a young woman. Could you please draw her?</h1>\\n        <a>http://imgur.com/cOD4le7</a>\\n        <p>\\n          <img src=\"http://imgur.com/cOD4le7\">\\n        </p>\\n        <p>Nattyzee3</p>\\n        <h1>Care to draw us weirdos?</h1>\\n        <a>http://i.imgur.com/QrMunEg.jpg</a>\\n        <p>\\n          <img src=\"http://i.imgur.com/QrMunEg.jpg\">\\n        </p>\\n        <p>mischiefismychicken</p>\\n        <h1>Would anyone like to draw me?</h1>\\n        <a>http://imgur.com/kbAy4Vw</a>\\n        <p>\\n          <img src=\"http://imgur.com/kbAy4Vw\">\\n        </p>\\n        <p>CD5700</p>\\n        <h1>I love this picture of my inlaws, could someone draw it?</h1>\\n        <a>http://imgur.com/NoSvCbt</a>\\n        <p>\\n          <img src=\"http://imgur.com/NoSvCbt\">\\n        </p>\\n        <p>Sectr9goddess</p>\\n        <h1>Me with some lovely flowers</h1>\\n        <a>http://imgur.com/zkAWMic</a>\\n        <p>\\n          <img src=\"http://imgur.com/zkAWMic\">\\n        </p>\\n        <p>leannimals</p>\\n        <h1>Anyone want to draw me as a green witch? :)</h1>\\n        <a>http://i.imgur.com/eTVYxje.jpg</a>\\n        <p>\\n          <img src=\"http://i.imgur.com/eTVYxje.jpg\">\\n        </p>\\n        <p>autumnwolfmoon89</p>\\n        <h1>Would love someone to draw my dog.</h1>\\n        <a>http://i.imgur.com/occiAsF.jpg?1</a>\\n        <p>\\n          <img src=\"http://i.imgur.com/occiAsF.jpg?1\">\\n        </p>\\n        <p>asm1th</p>\\n        <h1>Me being a desert fox in the Mojave!</h1>\\n        <a>http://imgur.com/hWHlxKS</a>\\n        <p>\\n          <img src=\"http://imgur.com/hWHlxKS\">\\n        </p>\\n        <p>arianathefox</p>\\n        <h1>I got a new haircut - would anyone like to draw me with it?</h1>\\n        <a>http://imgur.com/a/g8Nx6</a>\\n        <p>\\n          <img src=\"http://imgur.com/a/g8Nx6\">\\n        </p>\\n        <p>MrsBoris</p>\\n        <h1>My nephews and I in Lake George. It would be so cool to see us drawn somewhere magical.</h1>\\n        <a>http://m.imgur.com/Is2M1EA</a>\\n        <p>\\n          <img src=\"http://m.imgur.com/Is2M1EA\">\\n        </p>\\n        <p>kachie1317</p>\\n        <h1>I\\'d love to give my big sister a drawing of us for Christmas! Anyone out there who wants to give iT a try?</h1>\\n        <a>http://imgur.com/8NdHMRJ</a>\\n        <p>\\n          <img src=\"http://imgur.com/8NdHMRJ\">\\n        </p>\\n        <p>SofieBuyse</p>\\n        <h1>Painting with my dog!</h1>\\n        <a>http://i.imgur.com/k40b2YB.jpg</a>\\n        <p>\\n          <img src=\"http://i.imgur.com/k40b2YB.jpg\">\\n        </p>\\n        <p>Taroh</p>\\n        <h1>My daughter and her sleeping cousin. Draw their first meeting?!</h1>\\n        <a>http://imgur.com/dMA1Ns3</a>\\n        <p>\\n          <img src=\"http://imgur.com/dMA1Ns3\">\\n        </p>\\n        <p>babydaisy611</p>\\n        <h1>My Son\\'s first ever baseball game with Daddy.</h1>\\n        <a>http://imgur.com/ndXEDmE</a>\\n        <p>\\n          <img src=\"http://imgur.com/ndXEDmE\">\\n        </p>\\n        <p>LiamsDaddy</p>\\n        <h1>Please, draw myself and my girlfriend. Selfie at the beach! Any styles welcome, thanks so much! ;)</h1>\\n        <a>http://imgur.com/9nplYrE</a>\\n        <p>\\n          <img src=\"http://imgur.com/9nplYrE\">\\n        </p>\\n        <p>jpesmeraldo</p>\\n        <h1>My daughter from a fun little photo project we did together :)</h1>\\n        <a>http://imgur.com/7Q7rjdC</a>\\n        <p>\\n          <img src=\"http://imgur.com/7Q7rjdC\">\\n        </p>\\n        <p>Lileaspirals</p>\\n        <h1>Me and my beautiful wife on the happiest day of my life</h1>\\n        <a>http://imgur.com/3uQgoyL</a>\\n        <p>\\n          <img src=\"http://imgur.com/3uQgoyL\">\\n        </p>\\n        <p>TylerMills</p>\\n        <h1>Anyone want draw my (hopefully) soon to be fiancee from her favorite picture?</h1>\\n        <a>http://imgur.com/a/fnKuP</a>\\n        <p>\\n          <img src=\"http://imgur.com/a/fnKuP\">\\n        </p>\\n        <p>sirwes</p>\\n        <h1>Please draw me and my soon to be SO as a surprise for him please?</h1>\\n        <a>http://imgur.com/a/x5gWO</a>\\n        <p>\\n          <img src=\"http://imgur.com/a/x5gWO\">\\n        </p>\\n        <p>fletchdoll</p>\\n        <h1>Would love a fun picture of my little boy please.</h1>\\n        <a>http://imgur.com/M2LjhZ8</a>\\n        <p>\\n          <img src=\"http://imgur.com/M2LjhZ8\">\\n        </p>\\n        <p>oldwesty</p>\\n        <h1>I was wondering if anyone could draw me? I just linked to the album that I save all my pictures in so you have multiple photo choices. Thanks!</h1>\\n        <a>http://imgur.com/a/KjDMi</a>\\n        <p>\\n          <img src=\"http://imgur.com/a/KjDMi\">\\n        </p>\\n        <p>blasejade</p>\\n        <h1>Running out of gift ideas for my boyfriend for Christmas. I\\'d love to give him a framed drawing of us on halloween for his desk</h1>\\n        <a>http://imgur.com/cnE21iX</a>\\n        <p>\\n          <img src=\"http://imgur.com/cnE21iX\">\\n        </p>\\n        <p>jazzillaa</p>\\n        <h1>My little man a few months ago. Would love to see any of the talented artists recreate it.</h1>\\n        <a>http://i.imgur.com/aEDRodb.jpg</a>\\n        <p>\\n          <img src=\"http://i.imgur.com/aEDRodb.jpg\">\\n        </p>\\n        <p>nickel45</p>\\n        <h1>Good afternoon, Reddit artists! Here is me waiting at the doctor\\'s office. All creative styles welcome! :)</h1>\\n        <a>http://i.imgur.com/eefMUpb.jpg</a>\\n        <p>\\n          <img src=\"http://i.imgur.com/eefMUpb.jpg\">\\n        </p>\\n        <p>Sarahbelle89</p>\\n      </ol>\\n    </div>\\n    <div class=\"body\">\\n      <p>RGDRecentReference is open source</p>\\n      <a>http://github.com/wcmckee/wcmckee</a>\\n    </div>\\n  </body>\\n</html>'"
       ]
      }
     ],
     "prompt_number": 258
    },
    {
     "cell_type": "code",
     "collapsed": false,
     "input": [
      "os.chdir(rgdir)"
     ],
     "language": "python",
     "metadata": {},
     "outputs": [],
     "prompt_number": 259
    },
    {
     "cell_type": "code",
     "collapsed": false,
     "input": [
      "mkindex = open('index.html', 'w')\n",
      "mkindex.write(str(doc))\n",
      "mkindex.close()"
     ],
     "language": "python",
     "metadata": {},
     "outputs": [],
     "prompt_number": 136
    },
    {
     "cell_type": "code",
     "collapsed": false,
     "input": [
      "#print str(doc)"
     ],
     "language": "python",
     "metadata": {},
     "outputs": [],
     "prompt_number": 137
    },
    {
     "cell_type": "code",
     "collapsed": false,
     "input": [
      "print strftime(\"%a, %d %b %Y %H:%M:%S +0000\")"
     ],
     "language": "python",
     "metadata": {},
     "outputs": [
      {
       "output_type": "stream",
       "stream": "stdout",
       "text": [
        "Sat, 06 Dec 2014 11:35:26 +0000\n"
       ]
      }
     ],
     "prompt_number": 138
    },
    {
     "cell_type": "code",
     "collapsed": false,
     "input": [
      "savedate = strftime(\"%d\" + \"-\" + \"%m\" + \"-\" + \"%Y\" + \"-\" + \"%H\")"
     ],
     "language": "python",
     "metadata": {},
     "outputs": [],
     "prompt_number": 139
    },
    {
     "cell_type": "code",
     "collapsed": false,
     "input": [
      "def timeret():\n",
      "    return strftime(\"%d\" + \"-\" + \"%m\" + \"-\" + \"%Y\" + \"-\" + \"%H\")\n",
      "\n",
      "def givmd():\n",
      "    return str(savedate + '.md')\n",
      "\n",
      "def givdic():\n",
      "    return rgdir.replace('/', '-')"
     ],
     "language": "python",
     "metadata": {},
     "outputs": [],
     "prompt_number": 140
    },
    {
     "cell_type": "code",
     "collapsed": false,
     "input": [
      "givdic()"
     ],
     "language": "python",
     "metadata": {},
     "outputs": [
      {
       "metadata": {},
       "output_type": "pyout",
       "prompt_number": 141,
       "text": [
        "'-home-wcmckee-rgdrecentReference-'"
       ]
      }
     ],
     "prompt_number": 141
    },
    {
     "cell_type": "raw",
     "metadata": {},
     "source": [
      "timeret()"
     ]
    },
    {
     "cell_type": "code",
     "collapsed": false,
     "input": [
      "givmd()"
     ],
     "language": "python",
     "metadata": {},
     "outputs": [
      {
       "metadata": {},
       "output_type": "pyout",
       "prompt_number": 142,
       "text": [
        "'06-12-2014-11.md'"
       ]
      }
     ],
     "prompt_number": 142
    },
    {
     "cell_type": "code",
     "collapsed": false,
     "input": [
      "savedate"
     ],
     "language": "python",
     "metadata": {},
     "outputs": [
      {
       "metadata": {},
       "output_type": "pyout",
       "prompt_number": 143,
       "text": [
        "'06-12-2014-11'"
       ]
      }
     ],
     "prompt_number": 143
    },
    {
     "cell_type": "code",
     "collapsed": false,
     "input": [
      "deepone = str(savedate + '.md')"
     ],
     "language": "python",
     "metadata": {},
     "outputs": [],
     "prompt_number": 144
    },
    {
     "cell_type": "code",
     "collapsed": false,
     "input": [
      "deepone"
     ],
     "language": "python",
     "metadata": {},
     "outputs": [
      {
       "metadata": {},
       "output_type": "pyout",
       "prompt_number": 145,
       "text": [
        "'06-12-2014-11.md'"
       ]
      }
     ],
     "prompt_number": 145
    },
    {
     "cell_type": "code",
     "collapsed": false,
     "input": [
      "#os.chdir('/home/wcmckee/brobeur-blog-post/')"
     ],
     "language": "python",
     "metadata": {},
     "outputs": [],
     "prompt_number": 146
    },
    {
     "cell_type": "code",
     "collapsed": false,
     "input": [
      "#brobeind = open('\u00edndex.html', 'r')"
     ],
     "language": "python",
     "metadata": {},
     "outputs": [],
     "prompt_number": 147
    },
    {
     "cell_type": "code",
     "collapsed": false,
     "input": [
      "#brotest = open('\u00edndex.html', 'r')\n",
      "#brotest.read()"
     ],
     "language": "python",
     "metadata": {},
     "outputs": [],
     "prompt_number": 148
    },
    {
     "cell_type": "code",
     "collapsed": false,
     "input": [
      "redposts = ('/home/wcmckee/rgdrecentReference/posts/pandas')"
     ],
     "language": "python",
     "metadata": {},
     "outputs": [],
     "prompt_number": 149
    },
    {
     "cell_type": "code",
     "collapsed": false,
     "input": [
      "os.chdir(redposts)"
     ],
     "language": "python",
     "metadata": {},
     "outputs": [],
     "prompt_number": 152
    },
    {
     "cell_type": "code",
     "collapsed": false,
     "input": [
      "time.asctime()"
     ],
     "language": "python",
     "metadata": {},
     "outputs": [
      {
       "metadata": {},
       "output_type": "pyout",
       "prompt_number": 153,
       "text": [
        "'Sat Dec  6 11:37:51 2014'"
       ]
      }
     ],
     "prompt_number": 153
    },
    {
     "cell_type": "code",
     "collapsed": false,
     "input": [
      "savinx = open(str(deepone), 'w')"
     ],
     "language": "python",
     "metadata": {},
     "outputs": [],
     "prompt_number": 154
    },
    {
     "cell_type": "code",
     "collapsed": false,
     "input": [
      "savinx.write(str(rgdef))"
     ],
     "language": "python",
     "metadata": {},
     "outputs": [],
     "prompt_number": 155
    },
    {
     "cell_type": "code",
     "collapsed": false,
     "input": [
      "savinx.close()"
     ],
     "language": "python",
     "metadata": {},
     "outputs": [],
     "prompt_number": 156
    },
    {
     "cell_type": "code",
     "collapsed": false,
     "input": [
      "deepone"
     ],
     "language": "python",
     "metadata": {},
     "outputs": [
      {
       "metadata": {},
       "output_type": "pyout",
       "prompt_number": 157,
       "text": [
        "'06-12-2014-11.md'"
       ]
      }
     ],
     "prompt_number": 157
    },
    {
     "cell_type": "code",
     "collapsed": false,
     "input": [
      "decict"
     ],
     "language": "python",
     "metadata": {},
     "outputs": [
      {
       "metadata": {},
       "output_type": "pyout",
       "prompt_number": 158,
       "text": [
        "{'downs': 0,\n",
        " 'example': 'wcmckee',\n",
        " 'title': u'My little sister (glasses) and her wife on their wedding day. Same-sex marriage was finally legalized in our home state!',\n",
        " 'ups': 1,\n",
        " 'url': u'http://imgur.com/khvU7zu'}"
       ]
      }
     ],
     "prompt_number": 158
    },
    {
     "cell_type": "code",
     "collapsed": false,
     "input": [
      "decict.update({'datehour': givmd()})"
     ],
     "language": "python",
     "metadata": {},
     "outputs": [],
     "prompt_number": 159
    },
    {
     "cell_type": "code",
     "collapsed": false,
     "input": [
      "depan = Series(decict)"
     ],
     "language": "python",
     "metadata": {},
     "outputs": [],
     "prompt_number": 160
    },
    {
     "cell_type": "code",
     "collapsed": false,
     "input": [
      "fepan = Series(fddict)"
     ],
     "language": "python",
     "metadata": {},
     "outputs": [],
     "prompt_number": 161
    },
    {
     "cell_type": "code",
     "collapsed": false,
     "input": [
      "mepan = (fepan)+(depan)"
     ],
     "language": "python",
     "metadata": {},
     "outputs": [],
     "prompt_number": 162
    },
    {
     "cell_type": "code",
     "collapsed": false,
     "input": [
      "depan"
     ],
     "language": "python",
     "metadata": {},
     "outputs": [
      {
       "metadata": {},
       "output_type": "pyout",
       "prompt_number": 163,
       "text": [
        "datehour                                                                                                            06-12-2014-11.md\n",
        "downs                                                                                                                              0\n",
        "example                                                                                                                      wcmckee\n",
        "title       My little sister (glasses) and her wife on their wedding day. Same-sex marriage was finally legalized in our home state!\n",
        "ups                                                                                                                                1\n",
        "url                                                                                                         http://imgur.com/khvU7zu"
       ]
      }
     ],
     "prompt_number": 163
    },
    {
     "cell_type": "code",
     "collapsed": false,
     "input": [
      "feram = pd.DataFrame(fepan)"
     ],
     "language": "python",
     "metadata": {},
     "outputs": [],
     "prompt_number": 164
    },
    {
     "cell_type": "code",
     "collapsed": false,
     "input": [
      "fepan"
     ],
     "language": "python",
     "metadata": {},
     "outputs": [
      {
       "metadata": {},
       "output_type": "pyout",
       "prompt_number": 165,
       "text": [
        "testblah    testblah"
       ]
      }
     ],
     "prompt_number": 165
    },
    {
     "cell_type": "code",
     "collapsed": false,
     "input": [
      "feram"
     ],
     "language": "python",
     "metadata": {},
     "outputs": [
      {
       "metadata": {},
       "output_type": "pyout",
       "prompt_number": 166,
       "text": [
        "                 0\n",
        "testblah  testblah"
       ]
      }
     ],
     "prompt_number": 166
    },
    {
     "cell_type": "code",
     "collapsed": false,
     "input": [
      "mepan"
     ],
     "language": "python",
     "metadata": {},
     "outputs": [
      {
       "metadata": {},
       "output_type": "pyout",
       "prompt_number": 167,
       "text": [
        "datehour    None\n",
        "downs       None\n",
        "example     None\n",
        "testblah    None\n",
        "title       None\n",
        "ups         None\n",
        "url         None"
       ]
      }
     ],
     "prompt_number": 167
    },
    {
     "cell_type": "code",
     "collapsed": false,
     "input": [
      "defed = DataFrame(depan)"
     ],
     "language": "python",
     "metadata": {},
     "outputs": [],
     "prompt_number": 168
    },
    {
     "cell_type": "code",
     "collapsed": false,
     "input": [
      "#defed.append(fepan)"
     ],
     "language": "python",
     "metadata": {},
     "outputs": [],
     "prompt_number": 169
    },
    {
     "cell_type": "code",
     "collapsed": false,
     "input": [
      "depan"
     ],
     "language": "python",
     "metadata": {},
     "outputs": [
      {
       "metadata": {},
       "output_type": "pyout",
       "prompt_number": 170,
       "text": [
        "datehour                                                                                                            06-12-2014-11.md\n",
        "downs                                                                                                                              0\n",
        "example                                                                                                                      wcmckee\n",
        "title       My little sister (glasses) and her wife on their wedding day. Same-sex marriage was finally legalized in our home state!\n",
        "ups                                                                                                                                1\n",
        "url                                                                                                         http://imgur.com/khvU7zu"
       ]
      }
     ],
     "prompt_number": 170
    },
    {
     "cell_type": "code",
     "collapsed": false,
     "input": [
      "fepan"
     ],
     "language": "python",
     "metadata": {},
     "outputs": [
      {
       "metadata": {},
       "output_type": "pyout",
       "prompt_number": 171,
       "text": [
        "testblah    testblah"
       ]
      }
     ],
     "prompt_number": 171
    },
    {
     "cell_type": "code",
     "collapsed": false,
     "input": [
      "mergz = depan.append(fepan)"
     ],
     "language": "python",
     "metadata": {},
     "outputs": [],
     "prompt_number": 172
    },
    {
     "cell_type": "code",
     "collapsed": false,
     "input": [
      "mergz"
     ],
     "language": "python",
     "metadata": {},
     "outputs": [
      {
       "metadata": {},
       "output_type": "pyout",
       "prompt_number": 173,
       "text": [
        "datehour                                                                                                            06-12-2014-11.md\n",
        "downs                                                                                                                              0\n",
        "example                                                                                                                      wcmckee\n",
        "title       My little sister (glasses) and her wife on their wedding day. Same-sex marriage was finally legalized in our home state!\n",
        "ups                                                                                                                                1\n",
        "url                                                                                                         http://imgur.com/khvU7zu\n",
        "testblah                                                                                                                    testblah"
       ]
      }
     ],
     "prompt_number": 173
    },
    {
     "cell_type": "code",
     "collapsed": false,
     "input": [],
     "language": "python",
     "metadata": {},
     "outputs": [],
     "prompt_number": 173
    },
    {
     "cell_type": "code",
     "collapsed": false,
     "input": [
      "defed"
     ],
     "language": "python",
     "metadata": {},
     "outputs": [
      {
       "metadata": {},
       "output_type": "pyout",
       "prompt_number": 174,
       "text": [
        "<class 'pandas.core.frame.DataFrame'>\n",
        "Index: 6 entries, datehour to url\n",
        "Data columns:\n",
        "0    6  non-null values\n",
        "dtypes: object(1)"
       ]
      }
     ],
     "prompt_number": 174
    },
    {
     "cell_type": "code",
     "collapsed": false,
     "input": [
      "defhtml = defed.to_html()"
     ],
     "language": "python",
     "metadata": {},
     "outputs": [],
     "prompt_number": 175
    },
    {
     "cell_type": "code",
     "collapsed": false,
     "input": [
      "wrhtm = open('index.html', 'w')\n",
      "wrhtm.write(defhtml)\n",
      "wrhtm.close()"
     ],
     "language": "python",
     "metadata": {},
     "outputs": [],
     "prompt_number": 176
    },
    {
     "cell_type": "code",
     "collapsed": false,
     "input": [],
     "language": "python",
     "metadata": {},
     "outputs": [],
     "prompt_number": 176
    },
    {
     "cell_type": "code",
     "collapsed": false,
     "input": [],
     "language": "python",
     "metadata": {},
     "outputs": [],
     "prompt_number": 176
    },
    {
     "cell_type": "code",
     "collapsed": false,
     "input": [],
     "language": "python",
     "metadata": {},
     "outputs": []
    }
   ],
   "metadata": {}
  }
 ]
}