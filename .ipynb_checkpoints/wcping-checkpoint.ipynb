{
 "metadata": {
  "name": "",
  "signature": "sha256:732e4c26bda098b2c4dbd5937a105ee2ebab3ce98e2bc34e824b3210d58a3bce"
 },
 "nbformat": 3,
 "nbformat_minor": 0,
 "worksheets": []
}