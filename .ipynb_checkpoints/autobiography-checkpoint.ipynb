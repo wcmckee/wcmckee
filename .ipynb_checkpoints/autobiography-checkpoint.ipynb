{
 "metadata": {
  "name": "",
  "signature": "sha256:65486f187dd1b3ebbe4a2cd149c6d696f929eea5443afc2cf53718a109540c0f"
 },
 "nbformat": 3,
 "nbformat_minor": 0,
 "worksheets": [
  {
   "cells": [
    {
     "cell_type": "markdown",
     "metadata": {},
     "source": [
      "My name is William Clifford Mckee and this is my autobiography. Written in November 2014.\n",
      "\n",
      "Structure:\n",
      "\n"
     ]
    },
    {
     "cell_type": "markdown",
     "metadata": {},
     "source": [
      "Hello. Testing one two three. \n",
      "Screw you guys. I'm going to bed.\n",
      "\n",
      "History. Mum and Dad\n",
      "\n",
      "\n",
      "One of my early drawing memories was of my friend Wayne. His art was better than mine. I wanted to be better.\n",
      "I can't remember seriously drawing untill after high school.\n",
      "\n",
      "I had a friend at highschool whos artwork I admired. \n",
      "He got in trouble once for drawing nudes.\n",
      "I rembmer being in the art room at intermediate. I have better memories of cooking and wood work than art.\n",
      "Paint yourself said the reliever.\n",
      "\n",
      "We had art folder. I was always embarrassed by the art on mine.\n",
      "I hated using artist models and copy their painting.\n",
      "My painting skills were low - needed to develop drawing and confidence.\n",
      "I am tired.\n",
      "\n"
     ]
    }
   ],
   "metadata": {}
  }
 ]
}