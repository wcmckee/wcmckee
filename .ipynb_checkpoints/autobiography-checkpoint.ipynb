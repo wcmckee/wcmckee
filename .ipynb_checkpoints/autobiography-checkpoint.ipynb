{
 "metadata": {
  "name": "",
  "signature": "sha256:651c4a272991c0bb55d1a5297f89065dbdb1606eda91ce2bef31f9f8fce5e46c"
 },
 "nbformat": 3,
 "nbformat_minor": 0,
 "worksheets": [
  {
   "cells": [
    {
     "cell_type": "markdown",
     "metadata": {},
     "source": [
      "My name is William Clifford Mckee and this is my autobiography. Written in November 2014.\n",
      "\n",
      "Structure\n",
      "\n"
     ]
    }
   ],
   "metadata": {}
  }
 ]
}