{
 "metadata": {
  "name": "",
  "signature": "sha256:ca6b4c9769d3c38bf8bbc48b13c2fb3fa751963f72da4b823ac188157f9ff8d1"
 },
 "nbformat": 3,
 "nbformat_minor": 0,
 "worksheets": []
}