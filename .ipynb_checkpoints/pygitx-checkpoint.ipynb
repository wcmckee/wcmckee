{
 "metadata": {
  "name": "",
  "signature": "sha256:24fff18b4f3ddc87bc0a37bd118e208ca799a711aea6f8864fe566e5c08d0e42"
 },
 "nbformat": 3,
 "nbformat_minor": 0,
 "worksheets": [
  {
   "cells": [
    {
     "cell_type": "markdown",
     "metadata": {},
     "source": [
      "<h3>pygitx</h3>\n",
      "\n",
      "Python script to download repos from github.\n",
      "It checked localfiles and skips downloading any repos that currently exsist. \n",
      "Perform a git pull for each repo that exsists.\n",
      "\n",
      "Look at the ipython notebook files (ipynb) inside each repo and generate a nikola site with it. \n",
      "Write out .meta files for each notebook. \n",
      "\n",
      "title\n",
      "\n",
      "url-friendly\n",
      "\n",
      "year/month/day hr/min\n",
      "\n",
      "tags: redditgetsdrawn, modules used?\n",
      "\n",
      "cats: lang? doc, novel\n",
      "\n",
      "\n",
      "Site name repo name\n",
      "\n"
     ]
    },
    {
     "cell_type": "code",
     "collapsed": false,
     "input": [
      "from github import Github"
     ],
     "language": "python",
     "metadata": {},
     "outputs": [],
     "prompt_number": 40
    },
    {
     "cell_type": "code",
     "collapsed": false,
     "input": [
      "import os\n",
      "import getpass\n",
      "from git import *\n",
      "import git\n",
      "import datetime"
     ],
     "language": "python",
     "metadata": {},
     "outputs": [],
     "prompt_number": 60
    },
    {
     "cell_type": "code",
     "collapsed": false,
     "input": [
      "p = open('/home/wcmckee/ps.txt', 'r')"
     ],
     "language": "python",
     "metadata": {},
     "outputs": [],
     "prompt_number": 42
    },
    {
     "cell_type": "code",
     "collapsed": false,
     "input": [
      "#str(p.read())"
     ],
     "language": "python",
     "metadata": {},
     "outputs": [],
     "prompt_number": 43
    },
    {
     "cell_type": "code",
     "collapsed": false,
     "input": [
      "pred = str(p.read())"
     ],
     "language": "python",
     "metadata": {},
     "outputs": [],
     "prompt_number": 44
    },
    {
     "cell_type": "code",
     "collapsed": false,
     "input": [
      "pstrip = pred.strip('\\n')"
     ],
     "language": "python",
     "metadata": {},
     "outputs": [],
     "prompt_number": 45
    },
    {
     "cell_type": "code",
     "collapsed": false,
     "input": [
      "g = Github('wcmckee', pstrip)"
     ],
     "language": "python",
     "metadata": {},
     "outputs": [],
     "prompt_number": 46
    },
    {
     "cell_type": "code",
     "collapsed": false,
     "input": [
      "grepo = g.search_users('wcmckee')                                                                                                                                                                                                                                                                                                                                                                                                                                                                                                                                                                                                                                                                                                                                                                                                                                                                                                                                                                                                                                                                                                                                                                                                                                                                                                                                                                                                                                                                                                                                                                                                   "
     ],
     "language": "python",
     "metadata": {},
     "outputs": [],
     "prompt_number": 47
    },
    {
     "cell_type": "code",
     "collapsed": false,
     "input": [
      "repoev = []"
     ],
     "language": "python",
     "metadata": {},
     "outputs": [],
     "prompt_number": 48
    },
    {
     "cell_type": "code",
     "collapsed": false,
     "input": [
      "for gre in grepo:\n",
      "    print gre.repos_url\n",
      "    print gre.get_public_events\n",
      "    print gre.get_repo('wcmckee')\n",
      "    repoev.append(gre.get_repo('wcmckee'))"
     ],
     "language": "python",
     "metadata": {},
     "outputs": [
      {
       "output_type": "stream",
       "stream": "stdout",
       "text": [
        "https://api.github.com/users/wcmckee/repos\n",
        "<bound method NamedUser.get_public_events of <github.NamedUser.NamedUser object at 0xb1ef86f0>>\n",
        "<github.Repository.Repository object at 0xb1ef86d0>"
       ]
      },
      {
       "output_type": "stream",
       "stream": "stdout",
       "text": [
        "\n"
       ]
      }
     ],
     "prompt_number": 49
    },
    {
     "cell_type": "code",
     "collapsed": false,
     "input": [
      "for rep in repoev:\n",
      "    print rep"
     ],
     "language": "python",
     "metadata": {},
     "outputs": [
      {
       "output_type": "stream",
       "stream": "stdout",
       "text": [
        "<github.Repository.Repository object at 0xb237a3f0>\n"
       ]
      }
     ],
     "prompt_number": 50
    },
    {
     "cell_type": "code",
     "collapsed": false,
     "input": [
      "for repoe in repoev:\n",
      "    print repoe"
     ],
     "language": "python",
     "metadata": {},
     "outputs": [
      {
       "output_type": "stream",
       "stream": "stdout",
       "text": [
        "<github.Repository.Repository object at 0xb237a3f0>\n"
       ]
      }
     ],
     "prompt_number": 51
    },
    {
     "cell_type": "code",
     "collapsed": false,
     "input": [
      "print gre.email"
     ],
     "language": "python",
     "metadata": {},
     "outputs": [
      {
       "output_type": "stream",
       "stream": "stdout",
       "text": [
        "will@artcontrol.me\n"
       ]
      }
     ],
     "prompt_number": 52
    },
    {
     "cell_type": "code",
     "collapsed": false,
     "input": [
      "grrep = gre.get_repos()"
     ],
     "language": "python",
     "metadata": {},
     "outputs": [],
     "prompt_number": 53
    },
    {
     "cell_type": "code",
     "collapsed": false,
     "input": [
      "replist =  list(grrep)"
     ],
     "language": "python",
     "metadata": {},
     "outputs": [],
     "prompt_number": 54
    },
    {
     "cell_type": "code",
     "collapsed": false,
     "input": [
      "repolisx = []\n",
      "repocom = []\n",
      "repocont = []"
     ],
     "language": "python",
     "metadata": {},
     "outputs": [],
     "prompt_number": 55
    },
    {
     "cell_type": "code",
     "collapsed": false,
     "input": [
      "ophom = ('/home/wcmckee/ipy/wcmckee-ipython/posts/')"
     ],
     "language": "python",
     "metadata": {},
     "outputs": [],
     "prompt_number": 56
    },
    {
     "cell_type": "code",
     "collapsed": false,
     "input": [
      "os.chdir('/home/wcmckee/ipy/wcmckee-ipython/posts')"
     ],
     "language": "python",
     "metadata": {},
     "outputs": [],
     "prompt_number": 72
    },
    {
     "cell_type": "code",
     "collapsed": false,
     "input": [
      "for repoz in replist:\n",
      "    print repoz.name\n",
      "    with open(str(repoz.name) + '.meta', \"w\") as f:\n",
      "            repna = repoz.name.encode('ascii', 'ignore').decode('ascii')\n",
      "            f.write(repoz.name + '\\n' + repoz.name + '\\n' + str(repoz.updated_at))\n",
      "    #repolisx.append(repoz.name)\n",
      "    print repoz.size\n",
      "    print repoz.updated_at\n",
      "    print repoz.get_contents\n",
      "    repocont.append(repoz.get_contents)\n",
      "  #  repocom.append(repoz.get_commits)"
     ],
     "language": "python",
     "metadata": {},
     "outputs": [
      {
       "output_type": "stream",
       "stream": "stdout",
       "text": [
        "4chan-API\n",
        "239\n",
        "2013-09-24 10:20:16\n",
        "<bound method Repository.get_contents of <github.Repository.Repository object at 0xb1f2ca30>>\n",
        "adypy\n",
        "684\n",
        "2014-06-09 04:52:12\n",
        "<bound method Repository.get_contents of <github.Repository.Repository object at 0xb1f2ca90>>\n",
        "anim_framework\n",
        "260\n",
        "2014-05-07 21:25:20\n",
        "<bound method Repository.get_contents of <github.Repository.Repository object at 0xb1f2cab0>>\n",
        "art-lastfm\n",
        "636\n",
        "2014-01-31 01:21:57\n",
        "<bound method Repository.get_contents of <github.Repository.Repository object at 0xb204ef30>>\n",
        "artcontrol-api\n",
        "2012\n",
        "2014-09-26 09:58:43\n",
        "<bound method Repository.get_contents of <github.Repository.Repository object at 0xb1f85b30>>\n",
        "AsylumJamCrushGame\n",
        "146482\n",
        "2013-10-12 18:40:22\n",
        "<bound method Repository.get_contents of <github.Repository.Repository object at 0xb1f2cb10>>\n",
        "autopaintpy123\n",
        "6176\n",
        "2014-02-07 07:55:31\n",
        "<bound method Repository.get_contents of <github.Repository.Repository object at 0xb1f2cbf0>>\n",
        "bacongamejam05\n",
        "64\n",
        "2013-12-18 14:12:00\n",
        "<bound method Repository.get_contents of <github.Repository.Repository object at 0xb1fd63f0>>\n",
        "battlenet\n",
        "60\n",
        "2013-10-16 14:06:51\n",
        "<bound method Repository.get_contents of <github.Repository.Repository object at 0xb1f2ccb0>>\n",
        "bbc2wp\n",
        "148\n",
        "2014-09-21 18:35:09\n",
        "<bound method Repository.get_contents of <github.Repository.Repository object at 0xb1f2ccf0>>\n",
        "bgj05-hungry\n",
        "11316\n",
        "2014-03-23 21:09:43\n",
        "<bound method Repository.get_contents of <github.Repository.Repository object at 0xb1f2cd50>>\n",
        "BirdCage\n",
        "43209\n",
        "2014-04-13 21:05:50\n",
        "<bound method Repository.get_contents of <github.Repository.Repository object at 0xb1f2cdb0>>\n",
        "brobeur-static\n"
       ]
      },
      {
       "output_type": "stream",
       "stream": "stdout",
       "text": [
        "2896\n",
        "2014-05-05 02:02:45\n",
        "<bound method Repository.get_contents of <github.Repository.Repository object at 0xb1f2ce10>>\n",
        "brobeur-web\n",
        "1798\n",
        "2014-04-29 08:46:54\n",
        "<bound method Repository.get_contents of <github.Repository.Repository object at 0xb1f2ce70>>\n",
        "BroBeurFishingDream\n",
        "5678\n",
        "2014-02-16 19:19:16\n",
        "<bound method Repository.get_contents of <github.Repository.Repository object at 0xb1f2ced0>>\n",
        "broLove\n",
        "108\n",
        "2014-04-22 16:53:58\n",
        "<bound method Repository.get_contents of <github.Repository.Repository object at 0xb1f2cf30>>\n",
        "clint\n",
        "848\n",
        "2013-08-30 11:26:48\n",
        "<bound method Repository.get_contents of <github.Repository.Repository object at 0xb1f2cf90>>\n",
        "cobal.eportfolio\n",
        "1361\n",
        "2013-10-10 06:10:22\n",
        "<bound method Repository.get_contents of <github.Repository.Repository object at 0xb1f2cff0>>\n",
        "compohub\n",
        "5030\n",
        "2014-05-03 11:06:39\n",
        "<bound method Repository.get_contents of <github.Repository.Repository object at 0xb1e38070>>\n",
        "DailyProgBot\n",
        "74\n",
        "2013-08-30 11:26:48\n",
        "<bound method Repository.get_contents of <github.Repository.Repository object at 0xb1e380d0>>\n",
        "DeltaBot\n",
        "170\n",
        "2013-08-30 11:26:48\n",
        "<bound method Repository.get_contents of <github.Repository.Repository object at 0xb1e38130>>\n",
        "dockerfiles\n",
        "10055\n",
        "2014-07-12 19:51:01\n",
        "<bound method Repository.get_contents of <github.Repository.Repository object at 0xb1e38190>>\n",
        "flask\n",
        "9159\n",
        "2013-12-18 05:05:44\n",
        "<bound method Repository.get_contents of <github.Repository.Repository object at 0xb1e381f0>>\n",
        "flask-ghpages-example\n",
        "76\n",
        "2014-07-02 00:14:33\n",
        "<bound method Repository.get_contents of <github.Repository.Repository object at 0xb1e38250>>\n",
        "ggj14\n",
        "50697\n",
        "2014-01-26 02:48:08\n",
        "<bound method Repository.get_contents of <github.Repository.Repository object at 0xb1e382b0>>\n",
        "hackage-server\n",
        "5852\n",
        "2013-09-30 07:50:04\n",
        "<bound method Repository.get_contents of <github.Repository.Repository object at 0xb1e38310>>\n",
        "hamiltoncomputerclub.org.nz\n",
        "536\n",
        "2014-05-13 00:12:55\n",
        "<bound method Repository.get_contents of <github.Repository.Repository object at 0xb1e38370>>\n",
        "haskell-learn\n",
        "132\n",
        "2014-02-05 10:22:41\n",
        "<bound method Repository.get_contents of <github.Repository.Repository object at 0xb1e383d0>>\n",
        "HTML5-Tiny\n",
        "10442\n",
        "2014-05-22 03:16:18\n",
        "<bound method Repository.get_contents of <github.Repository.Repository object at 0xb1e38430>>\n",
        "html5lib-python\n",
        "6911\n",
        "2013-10-15 05:55:33\n",
        "<bound method Repository.get_contents of <github.Repository.Repository object at 0xb1e38490>>\n",
        "iamagamer\n",
        "6755\n",
        "2014-05-29 01:06:20\n",
        "<bound method Repository.get_contents of <github.Repository.Repository object at 0xb1d8f130>>\n",
        "ihaskell-notebook\n",
        "466\n",
        "2013-10-01 22:09:52\n",
        "<bound method Repository.get_contents of <github.Repository.Repository object at 0xb1d8f1d0>>\n",
        "imgur-python\n",
        "220\n",
        "2014-10-07 18:14:23\n",
        "<bound method Repository.get_contents of <github.Repository.Repository object at 0xb1d8f1f0>>\n",
        "intercity\n",
        "716\n",
        "2014-05-12 12:56:13\n",
        "<bound method Repository.get_contents of <github.Repository.Repository object at 0xb1d8f250>>\n",
        "intro_programming\n",
        "8184\n",
        "2013-12-06 05:32:29\n",
        "<bound method Repository.get_contents of <github.Repository.Repository object at 0xb1d8f2b0>>\n",
        "ipython\n",
        "296\n",
        "2013-09-14 13:21:02\n",
        "<bound method Repository.get_contents of <github.Repository.Repository object at 0xb1d8f310>>\n",
        "ipython-docker\n",
        "4172\n",
        "2014-06-10 00:29:33\n",
        "<bound method Repository.get_contents of <github.Repository.Repository object at 0xb1d8f370>>\n",
        "ipython-hydra\n",
        "70\n",
        "2014-07-11 17:19:35\n",
        "<bound method Repository.get_contents of <github.Repository.Repository object at 0xb1d8f3d0>>\n",
        "LD48-Skins\n",
        "152\n",
        "2013-12-19 20:47:10\n",
        "<bound method Repository.get_contents of <github.Repository.Repository object at 0xb1d8f430>>\n",
        "marshmallow\n",
        "422\n",
        "2014-12-29 03:09:27\n",
        "<bound method Repository.get_contents of <github.Repository.Repository object at 0xb1d8f490>>\n",
        "massive-wright\n",
        "112\n",
        "2013-10-29 06:30:14\n",
        "<bound method Repository.get_contents of <github.Repository.Repository object at 0xb1d8f4f0>>\n",
        "Minecraft\n",
        "17273\n",
        "2014-05-06 19:19:03"
       ]
      },
      {
       "output_type": "stream",
       "stream": "stdout",
       "text": [
        "\n",
        "<bound method Repository.get_contents of <github.Repository.Repository object at 0xb1d8f550>>\n",
        "miniprojects\n",
        "87\n",
        "2013-08-30 11:26:46\n",
        "<bound method Repository.get_contents of <github.Repository.Repository object at 0xb1d8f5b0>>\n",
        "molyjam2013\n",
        "27370\n",
        "2013-08-30 11:26:46\n",
        "<bound method Repository.get_contents of <github.Repository.Repository object at 0xb1d8f610>>\n",
        "niketa\n",
        "160\n",
        "2014-06-27 03:18:50\n",
        "<bound method Repository.get_contents of <github.Repository.Repository object at 0xb1d8f670>>\n",
        "openbay\n",
        "11012\n",
        "2014-12-29 04:19:44\n",
        "<bound method Repository.get_contents of <github.Repository.Repository object at 0xb1d8f6d0>>\n",
        "opencompetencies\n",
        "778\n",
        "2013-12-13 00:12:34\n",
        "<bound method Repository.get_contents of <github.Repository.Repository object at 0xb1d8f730>>\n",
        "openfaux-server\n",
        "209\n",
        "2013-12-18 10:19:54\n",
        "<bound method Repository.get_contents of <github.Repository.Repository object at 0xb1d8f790>>\n",
        "ouya-unity-plugin\n",
        "26723\n",
        "2014-09-10 19:08:05\n",
        "<bound method Repository.get_contents of <github.Repository.Repository object at 0xb1d8f7f0>>\n",
        "paintingautopy\n",
        "104\n",
        "2014-02-04 12:01:36\n",
        "<bound method Repository.get_contents of <github.Repository.Repository object at 0xb1d8f850>>\n",
        "pithos\n",
        "880\n",
        "2013-10-06 12:06:46\n",
        "<bound method Repository.get_contents of <github.Repository.Repository object at 0xb1d8f8b0>>\n",
        "prodo-game\n",
        "5208\n",
        "2014-05-05 21:07:36\n",
        "<bound method Repository.get_contents of <github.Repository.Repository object at 0xb1d8f910>>\n",
        "Projects\n",
        "1712\n",
        "2013-08-30 11:26:48\n",
        "<bound method Repository.get_contents of <github.Repository.Repository object at 0xb1d8f970>>\n",
        "puphpet\n",
        "11404\n",
        "2014-07-11 03:36:52\n",
        "<bound method Repository.get_contents of <github.Repository.Repository object at 0xb1d8f9d0>>\n",
        "pyatakl\n",
        "1928\n",
        "2014-06-29 01:24:11\n",
        "<bound method Repository.get_contents of <github.Repository.Repository object at 0xb1d8fa30>>\n",
        "pybackupz\n",
        "196\n",
        "2014-01-30 16:55:31\n",
        "<bound method Repository.get_contents of <github.Repository.Repository object at 0xb1d8fa90>>\n",
        "pyladies\n",
        "5186\n",
        "2014-04-26 22:23:20\n",
        "<bound method Repository.get_contents of <github.Repository.Repository object at 0xb1d8faf0>>\n",
        "pymel\n",
        "175471\n",
        "2013-11-17 11:45:49\n",
        "<bound method Repository.get_contents of <github.Repository.Repository object at 0xb1d8fb50>>\n",
        "python-guide\n",
        "538\n",
        "2013-08-30 11:26:45\n",
        "<bound method Repository.get_contents of <github.Repository.Repository object at 0xb1d8fbb0>>\n",
        "python-pandora\n",
        "120\n",
        "2013-08-30 11:26:48\n",
        "<bound method Repository.get_contents of <github.Repository.Repository object at 0xb1d8fc10>>\n",
        "python-patterns\n",
        "90\n",
        "2013-08-30 11:26:47\n",
        "<bound method Repository.get_contents of <github.Repository.Repository object at 0xb1c7e7f0>>\n",
        "pytm\n",
        "64\n",
        "2013-09-10 03:06:24\n",
        "<bound method Repository.get_contents of <github.Repository.Repository object at 0xb1c7e890>>\n",
        "pyunderdog\n",
        "188\n",
        "2014-02-02 14:35:35\n",
        "<bound method Repository.get_contents of <github.Repository.Repository object at 0xb1c7e8b0>>\n",
        "pywp-post\n",
        "212\n",
        "2014-06-02 07:16:53\n",
        "<bound method Repository.get_contents of <github.Repository.Repository object at 0xb1c7e910>>\n",
        "raspi\n",
        "128\n",
        "2014-01-28 08:29:32\n",
        "<bound method Repository.get_contents of <github.Repository.Repository object at 0xb1c7e970>>\n",
        "RasPiWrite\n",
        "198\n",
        "2014-01-20 18:31:17\n",
        "<bound method Repository.get_contents of <github.Repository.Repository object at 0xb1c7e9d0>>\n",
        "RedditPress\n",
        "356\n",
        "2014-04-22 16:53:58\n",
        "<bound method Repository.get_contents of <github.Repository.Repository object at 0xb1c7ea30>>\n",
        "reddit_bot\n",
        "114\n",
        "2013-08-30 11:26:48\n",
        "<bound method Repository.get_contents of <github.Repository.Repository object at 0xb1c7ea90>>\n",
        "redtube\n",
        "215\n",
        "2014-05-07 20:52:47\n",
        "<bound method Repository.get_contents of <github.Repository.Repository object at 0xb1c7eaf0>>\n",
        "render-useful\n",
        "340\n",
        "2014-11-14 08:56:35\n",
        "<bound method Repository.get_contents of <github.Repository.Repository object at 0xb1c7eb50>>\n",
        "RPIO\n",
        "2471\n",
        "2014-01-28 10:28:53\n",
        "<bound method Repository.get_contents of <github.Repository.Repository object at 0xb1c7ebb0>>\n",
        "selfspy\n",
        "235\n",
        "2014-04-21 10:06:55\n",
        "<bound method Repository.get_contents of <github.Repository.Repository object at 0xb1c7ec10>>\n",
        "SketchDaily-GestureDrawing\n",
        "5077\n",
        "2014-05-22 19:15:06\n",
        "<bound method Repository.get_contents of <github.Repository.Repository object at 0xb1c7ec70>>\n",
        "skins\n",
        "220\n",
        "2014-02-15 12:56:01\n",
        "<bound method Repository.get_contents of <github.Repository.Repository object at 0xb1c7ecd0>>\n",
        "SortPictures\n",
        "140\n",
        "2014-02-12 13:51:53\n",
        "<bound method Repository.get_contents of <github.Repository.Repository object at 0xb1c7ed30>>\n",
        "SoundWall\n",
        "1958\n",
        "2014-05-03 10:38:30\n",
        "<bound method Repository.get_contents of <github.Repository.Repository object at 0xb1c7ed90>>\n",
        "SuburbNightmare\n",
        "64368\n",
        "2014-04-17 06:02:40\n",
        "<bound method Repository.get_contents of <github.Repository.Repository object at 0xb1c7edf0>>\n",
        "te-whare-o-te-ata\n",
        "464\n",
        "2014-06-24 08:34:54\n",
        "<bound method Repository.get_contents of <github.Repository.Repository object at 0xb1c7ee50>>\n",
        "TPB\n",
        "387\n",
        "2013-10-04 11:50:53"
       ]
      },
      {
       "output_type": "stream",
       "stream": "stdout",
       "text": [
        "\n",
        "<bound method Repository.get_contents of <github.Repository.Repository object at 0xb1c7eeb0>>\n",
        "Triger\n",
        "18723\n",
        "2014-02-18 16:10:27\n",
        "<bound method Repository.get_contents of <github.Repository.Repository object at 0xb1c7ef10>>\n",
        "tweepy\n",
        "727\n",
        "2013-08-30 11:26:47\n",
        "<bound method Repository.get_contents of <github.Repository.Repository object at 0xb1c7ef70>>\n",
        "UnityLuaIntegration\n",
        "246\n",
        "2013-08-30 11:26:47\n",
        "<bound method Repository.get_contents of <github.Repository.Repository object at 0xb1c7efd0>>\n",
        "vagrantboxes-heroku\n",
        "2447\n",
        "2014-07-11 13:02:20\n",
        "<bound method Repository.get_contents of <github.Repository.Repository object at 0xb1c01050>>\n",
        "vIPer\n",
        "855\n",
        "2014-05-11 06:17:26\n",
        "<bound method Repository.get_contents of <github.Repository.Repository object at 0xb1c010b0>>\n",
        "wcmckee\n",
        "1608\n",
        "2014-12-21 22:42:13\n",
        "<bound method Repository.get_contents of <github.Repository.Repository object at 0xb1c01110>>\n",
        "wcmckee-notebook\n",
        "29704\n",
        "2014-12-23 23:07:09\n",
        "<bound method Repository.get_contents of <github.Repository.Repository object at 0xb1c01170>>\n",
        "wcmckee.com\n",
        "584\n",
        "2014-05-13 00:30:55\n",
        "<bound method Repository.get_contents of <github.Repository.Repository object at 0xb1c011d0>>\n",
        "wcmckee.github.io\n",
        "140\n",
        "2014-04-27 12:28:03\n",
        "<bound method Repository.get_contents of <github.Repository.Repository object at 0xb1c01230>>\n",
        "wcmStringPY\n",
        "1600\n",
        "2014-02-02 17:24:08\n",
        "<bound method Repository.get_contents of <github.Repository.Repository object at 0xb1c01290>>\n",
        "wirepil\n",
        "2152\n",
        "2014-02-14 10:30:42\n",
        "<bound method Repository.get_contents of <github.Repository.Repository object at 0xb1c012f0>>\n",
        "xboxdrv\n",
        "64\n",
        "2013-10-02 11:22:40\n",
        "<bound method Repository.get_contents of <github.Repository.Repository object at 0xb1c014d0>>\n"
       ]
      }
     ],
     "prompt_number": 79
    },
    {
     "cell_type": "code",
     "collapsed": false,
     "input": [],
     "language": "python",
     "metadata": {},
     "outputs": [],
     "prompt_number": 38
    },
    {
     "cell_type": "code",
     "collapsed": false,
     "input": [
      "for repoc in repocont:\n",
      "    print repoc\n",
      "    "
     ],
     "language": "python",
     "metadata": {},
     "outputs": [
      {
       "output_type": "stream",
       "stream": "stdout",
       "text": [
        "<bound method Repository.get_contents of <github.Repository.Repository object at 0xb2291170>>\n",
        "<bound method Repository.get_contents of <github.Repository.Repository object at 0xb47df8b0>>\n",
        "<bound method Repository.get_contents of <github.Repository.Repository object at 0xb47df210>>\n",
        "<bound method Repository.get_contents of <github.Repository.Repository object at 0xb2291210>>\n",
        "<bound method Repository.get_contents of <github.Repository.Repository object at 0xb2291270>>\n",
        "<bound method Repository.get_contents of <github.Repository.Repository object at 0xb22912d0>>\n",
        "<bound method Repository.get_contents of <github.Repository.Repository object at 0xb2291330>>\n",
        "<bound method Repository.get_contents of <github.Repository.Repository object at 0xb2291390>>\n",
        "<bound method Repository.get_contents of <github.Repository.Repository object at 0xb22913f0>>\n",
        "<bound method Repository.get_contents of <github.Repository.Repository object at 0xb2291450>>\n",
        "<bound method Repository.get_contents of <github.Repository.Repository object at 0xb22914b0>>\n",
        "<bound method Repository.get_contents of <github.Repository.Repository object at 0xb2291510>>\n",
        "<bound method Repository.get_contents of <github.Repository.Repository object at 0xb2291570>>\n",
        "<bound method Repository.get_contents of <github.Repository.Repository object at 0xb22915d0>>\n",
        "<bound method Repository.get_contents of <github.Repository.Repository object at 0xb2291630>>\n",
        "<bound method Repository.get_contents of <github.Repository.Repository object at 0xb2291690>>\n",
        "<bound method Repository.get_contents of <github.Repository.Repository object at 0xb22916f0>>\n",
        "<bound method Repository.get_contents of <github.Repository.Repository object at 0xb2291750>>\n",
        "<bound method Repository.get_contents of <github.Repository.Repository object at 0xb22917b0>>\n",
        "<bound method Repository.get_contents of <github.Repository.Repository object at 0xb2291810>>\n",
        "<bound method Repository.get_contents of <github.Repository.Repository object at 0xb2291870>>\n",
        "<bound method Repository.get_contents of <github.Repository.Repository object at 0xb22918d0>>\n",
        "<bound method Repository.get_contents of <github.Repository.Repository object at 0xb2291930>>\n",
        "<bound method Repository.get_contents of <github.Repository.Repository object at 0xb2291990>>\n",
        "<bound method Repository.get_contents of <github.Repository.Repository object at 0xb22919f0>>\n",
        "<bound method Repository.get_contents of <github.Repository.Repository object at 0xb2291a50>>\n",
        "<bound method Repository.get_contents of <github.Repository.Repository object at 0xb2291ab0>>\n",
        "<bound method Repository.get_contents of <github.Repository.Repository object at 0xb2291b10>>\n",
        "<bound method Repository.get_contents of <github.Repository.Repository object at 0xb2291b70>>\n",
        "<bound method Repository.get_contents of <github.Repository.Repository object at 0xb2291bd0>>\n",
        "<bound method Repository.get_contents of <github.Repository.Repository object at 0xb217f8b0>>\n",
        "<bound method Repository.get_contents of <github.Repository.Repository object at 0xb217f950>>\n",
        "<bound method Repository.get_contents of <github.Repository.Repository object at 0xb217f970>>\n",
        "<bound method Repository.get_contents of <github.Repository.Repository object at 0xb217f9d0>>\n",
        "<bound method Repository.get_contents of <github.Repository.Repository object at 0xb217fa30>>\n",
        "<bound method Repository.get_contents of <github.Repository.Repository object at 0xb217fa90>>\n",
        "<bound method Repository.get_contents of <github.Repository.Repository object at 0xb217faf0>>\n",
        "<bound method Repository.get_contents of <github.Repository.Repository object at 0xb217fb50>>\n",
        "<bound method Repository.get_contents of <github.Repository.Repository object at 0xb217fbb0>>\n",
        "<bound method Repository.get_contents of <github.Repository.Repository object at 0xb217fc10>>\n",
        "<bound method Repository.get_contents of <github.Repository.Repository object at 0xb217fc70>>\n",
        "<bound method Repository.get_contents of <github.Repository.Repository object at 0xb217fcd0>>\n",
        "<bound method Repository.get_contents of <github.Repository.Repository object at 0xb217fd30>>\n",
        "<bound method Repository.get_contents of <github.Repository.Repository object at 0xb217fd90>>\n",
        "<bound method Repository.get_contents of <github.Repository.Repository object at 0xb217fdf0>>\n",
        "<bound method Repository.get_contents of <github.Repository.Repository object at 0xb217fe50>>\n",
        "<bound method Repository.get_contents of <github.Repository.Repository object at 0xb217feb0>>\n",
        "<bound method Repository.get_contents of <github.Repository.Repository object at 0xb217ff10>>\n",
        "<bound method Repository.get_contents of <github.Repository.Repository object at 0xb217ff70>>\n",
        "<bound method Repository.get_contents of <github.Repository.Repository object at 0xb217ffd0>>\n",
        "<bound method Repository.get_contents of <github.Repository.Repository object at 0xb20fc050>>\n",
        "<bound method Repository.get_contents of <github.Repository.Repository object at 0xb20fc0b0>>\n",
        "<bound method Repository.get_contents of <github.Repository.Repository object at 0xb20fc110>>\n",
        "<bound method Repository.get_contents of <github.Repository.Repository object at 0xb20fc170>>\n",
        "<bound method Repository.get_contents of <github.Repository.Repository object at 0xb20fc1d0>>\n",
        "<bound method Repository.get_contents of <github.Repository.Repository object at 0xb20fc230>>\n",
        "<bound method Repository.get_contents of <github.Repository.Repository object at 0xb20fc290>>\n",
        "<bound method Repository.get_contents of <github.Repository.Repository object at 0xb20fc2f0>>\n",
        "<bound method Repository.get_contents of <github.Repository.Repository object at 0xb20fc350>>\n",
        "<bound method Repository.get_contents of <github.Repository.Repository object at 0xb20fc3b0>>\n",
        "<bound method Repository.get_contents of <github.Repository.Repository object at 0xb206ffb0>>\n",
        "<bound method Repository.get_contents of <github.Repository.Repository object at 0xb204e070>>\n",
        "<bound method Repository.get_contents of <github.Repository.Repository object at 0xb204e090>>\n",
        "<bound method Repository.get_contents of <github.Repository.Repository object at 0xb204e0f0>>\n",
        "<bound method Repository.get_contents of <github.Repository.Repository object at 0xb204e150>>\n",
        "<bound method Repository.get_contents of <github.Repository.Repository object at 0xb204e1b0>>\n",
        "<bound method Repository.get_contents of <github.Repository.Repository object at 0xb204e210>>\n",
        "<bound method Repository.get_contents of <github.Repository.Repository object at 0xb204e270>>\n",
        "<bound method Repository.get_contents of <github.Repository.Repository object at 0xb204e2d0>>\n",
        "<bound method Repository.get_contents of <github.Repository.Repository object at 0xb204e330>>\n",
        "<bound method Repository.get_contents of <github.Repository.Repository object at 0xb204e390>>\n",
        "<bound method Repository.get_contents of <github.Repository.Repository object at 0xb204e3f0>>\n",
        "<bound method Repository.get_contents of <github.Repository.Repository object at 0xb204e450>>\n",
        "<bound method Repository.get_contents of <github.Repository.Repository object at 0xb204e4b0>>\n",
        "<bound method Repository.get_contents of <github.Repository.Repository object at 0xb204e510>>\n",
        "<bound method Repository.get_contents of <github.Repository.Repository object at 0xb204e570>>\n",
        "<bound method Repository.get_contents of <github.Repository.Repository object at 0xb204e5d0>>\n",
        "<bound method Repository.get_contents of <github.Repository.Repository object at 0xb204e630>>\n",
        "<bound method Repository.get_contents of <github.Repository.Repository object at 0xb204e690>>\n",
        "<bound method Repository.get_contents of <github.Repository.Repository object at 0xb204e6f0>>\n",
        "<bound method Repository.get_contents of <github.Repository.Repository object at 0xb204e750>>\n",
        "<bound method Repository.get_contents of <github.Repository.Repository object at 0xb204e7b0>>\n",
        "<bound method Repository.get_contents of <github.Repository.Repository object at 0xb204e810>>\n",
        "<bound method Repository.get_contents of <github.Repository.Repository object at 0xb204e870>>\n",
        "<bound method Repository.get_contents of <github.Repository.Repository object at 0xb204e8d0>>\n",
        "<bound method Repository.get_contents of <github.Repository.Repository object at 0xb204e930>>\n",
        "<bound method Repository.get_contents of <github.Repository.Repository object at 0xb204e990>>\n",
        "<bound method Repository.get_contents of <github.Repository.Repository object at 0xb204e9f0>>\n",
        "<bound method Repository.get_contents of <github.Repository.Repository object at 0xb204ea50>>\n",
        "<bound method Repository.get_contents of <github.Repository.Repository object at 0xb204eab0>>\n",
        "<bound method Repository.get_contents of <github.Repository.Repository object at 0xb204edf0>>\n"
       ]
      }
     ],
     "prompt_number": 39
    },
    {
     "cell_type": "code",
     "collapsed": false,
     "input": [
      "#for repz in repocom:\n",
      "#    print repoz.ssh_url"
     ],
     "language": "python",
     "metadata": {},
     "outputs": [],
     "prompt_number": 16
    },
    {
     "cell_type": "code",
     "collapsed": false,
     "input": [
      "for repoit in repolisx:\n",
      "    print repoit"
     ],
     "language": "python",
     "metadata": {},
     "outputs": [
      {
       "output_type": "stream",
       "stream": "stdout",
       "text": [
        "4chan-API\n",
        "adypy\n",
        "anim_framework\n",
        "art-lastfm\n",
        "artcontrol-api\n",
        "AsylumJamCrushGame\n",
        "autopaintpy123\n",
        "bacongamejam05\n",
        "battlenet\n",
        "bbc2wp\n",
        "bgj05-hungry\n",
        "BirdCage\n",
        "brobeur-static\n",
        "brobeur-web\n",
        "BroBeurFishingDream\n",
        "broLove\n",
        "clint\n",
        "cobal.eportfolio\n",
        "compohub\n",
        "DailyProgBot\n",
        "DeltaBot\n",
        "dockerfiles\n",
        "flask\n",
        "flask-ghpages-example\n",
        "ggj14\n",
        "hackage-server\n",
        "hamiltoncomputerclub.org.nz\n",
        "haskell-learn\n",
        "HTML5-Tiny\n",
        "html5lib-python\n",
        "iamagamer\n",
        "ihaskell-notebook\n",
        "imgur-python\n",
        "intercity\n",
        "intro_programming\n",
        "ipython\n",
        "ipython-docker\n",
        "ipython-hydra\n",
        "LD48-Skins\n",
        "marshmallow\n",
        "massive-wright\n",
        "Minecraft\n",
        "miniprojects\n",
        "molyjam2013\n",
        "niketa\n",
        "openbay\n",
        "opencompetencies\n",
        "openfaux-server\n",
        "ouya-unity-plugin\n",
        "paintingautopy\n",
        "pithos\n",
        "prodo-game\n",
        "Projects\n",
        "puphpet\n",
        "pyatakl\n",
        "pybackupz\n",
        "pyladies\n",
        "pymel\n",
        "python-guide\n",
        "python-pandora\n",
        "python-patterns\n",
        "pytm\n",
        "pyunderdog\n",
        "pywp-post\n",
        "raspi\n",
        "RasPiWrite\n",
        "RedditPress\n",
        "reddit_bot\n",
        "redtube\n",
        "render-useful\n",
        "RPIO\n",
        "selfspy\n",
        "SketchDaily-GestureDrawing\n",
        "skins\n",
        "SortPictures\n",
        "SoundWall\n",
        "SuburbNightmare\n",
        "te-whare-o-te-ata\n",
        "TPB\n",
        "Triger\n",
        "tweepy\n",
        "UnityLuaIntegration\n",
        "vagrantboxes-heroku\n",
        "vIPer\n",
        "wcmckee\n",
        "wcmckee-notebook\n",
        "wcmckee.com\n",
        "wcmckee.github.io\n",
        "wcmStringPY\n",
        "wirepil\n",
        "xboxdrv\n"
       ]
      }
     ],
     "prompt_number": 17
    },
    {
     "cell_type": "code",
     "collapsed": false,
     "input": [
      "repolisx"
     ],
     "language": "python",
     "metadata": {},
     "outputs": [
      {
       "metadata": {},
       "output_type": "pyout",
       "prompt_number": 18,
       "text": [
        "[u'4chan-API',\n",
        " u'adypy',\n",
        " u'anim_framework',\n",
        " u'art-lastfm',\n",
        " u'artcontrol-api',\n",
        " u'AsylumJamCrushGame',\n",
        " u'autopaintpy123',\n",
        " u'bacongamejam05',\n",
        " u'battlenet',\n",
        " u'bbc2wp',\n",
        " u'bgj05-hungry',\n",
        " u'BirdCage',\n",
        " u'brobeur-static',\n",
        " u'brobeur-web',\n",
        " u'BroBeurFishingDream',\n",
        " u'broLove',\n",
        " u'clint',\n",
        " u'cobal.eportfolio',\n",
        " u'compohub',\n",
        " u'DailyProgBot',\n",
        " u'DeltaBot',\n",
        " u'dockerfiles',\n",
        " u'flask',\n",
        " u'flask-ghpages-example',\n",
        " u'ggj14',\n",
        " u'hackage-server',\n",
        " u'hamiltoncomputerclub.org.nz',\n",
        " u'haskell-learn',\n",
        " u'HTML5-Tiny',\n",
        " u'html5lib-python',\n",
        " u'iamagamer',\n",
        " u'ihaskell-notebook',\n",
        " u'imgur-python',\n",
        " u'intercity',\n",
        " u'intro_programming',\n",
        " u'ipython',\n",
        " u'ipython-docker',\n",
        " u'ipython-hydra',\n",
        " u'LD48-Skins',\n",
        " u'marshmallow',\n",
        " u'massive-wright',\n",
        " u'Minecraft',\n",
        " u'miniprojects',\n",
        " u'molyjam2013',\n",
        " u'niketa',\n",
        " u'openbay',\n",
        " u'opencompetencies',\n",
        " u'openfaux-server',\n",
        " u'ouya-unity-plugin',\n",
        " u'paintingautopy',\n",
        " u'pithos',\n",
        " u'prodo-game',\n",
        " u'Projects',\n",
        " u'puphpet',\n",
        " u'pyatakl',\n",
        " u'pybackupz',\n",
        " u'pyladies',\n",
        " u'pymel',\n",
        " u'python-guide',\n",
        " u'python-pandora',\n",
        " u'python-patterns',\n",
        " u'pytm',\n",
        " u'pyunderdog',\n",
        " u'pywp-post',\n",
        " u'raspi',\n",
        " u'RasPiWrite',\n",
        " u'RedditPress',\n",
        " u'reddit_bot',\n",
        " u'redtube',\n",
        " u'render-useful',\n",
        " u'RPIO',\n",
        " u'selfspy',\n",
        " u'SketchDaily-GestureDrawing',\n",
        " u'skins',\n",
        " u'SortPictures',\n",
        " u'SoundWall',\n",
        " u'SuburbNightmare',\n",
        " u'te-whare-o-te-ata',\n",
        " u'TPB',\n",
        " u'Triger',\n",
        " u'tweepy',\n",
        " u'UnityLuaIntegration',\n",
        " u'vagrantboxes-heroku',\n",
        " u'vIPer',\n",
        " u'wcmckee',\n",
        " u'wcmckee-notebook',\n",
        " u'wcmckee.com',\n",
        " u'wcmckee.github.io',\n",
        " u'wcmStringPY',\n",
        " u'wirepil',\n",
        " u'xboxdrv']"
       ]
      }
     ],
     "prompt_number": 18
    },
    {
     "cell_type": "code",
     "collapsed": false,
     "input": [
      "homlaz = ('/var/host/media/removable/USB Drive/')"
     ],
     "language": "python",
     "metadata": {},
     "outputs": [],
     "prompt_number": 19
    },
    {
     "cell_type": "code",
     "collapsed": false,
     "input": [
      "#opgitp = open('gitp.txt', 'r')"
     ],
     "language": "python",
     "metadata": {},
     "outputs": [],
     "prompt_number": 20
    },
    {
     "cell_type": "code",
     "collapsed": false,
     "input": [
      "#os.mkdir('wcmckee-git')"
     ],
     "language": "python",
     "metadata": {},
     "outputs": [],
     "prompt_number": 21
    },
    {
     "cell_type": "code",
     "collapsed": false,
     "input": [
      "gitdir = (homlaz + 'wcmckee-git')"
     ],
     "language": "python",
     "metadata": {},
     "outputs": [],
     "prompt_number": 22
    },
    {
     "cell_type": "code",
     "collapsed": false,
     "input": [
      "#_LOKDD"
     ],
     "language": "python",
     "metadata": {},
     "outputs": [],
     "prompt_number": 23
    },
    {
     "cell_type": "code",
     "collapsed": false,
     "input": [
      "#rpa"
     ],
     "language": "python",
     "metadata": {},
     "outputs": [],
     "prompt_number": 24
    },
    {
     "cell_type": "code",
     "collapsed": false,
     "input": [
      "os.chdir(gitdir)"
     ],
     "language": "python",
     "metadata": {},
     "outputs": [],
     "prompt_number": 25
    },
    {
     "cell_type": "code",
     "collapsed": false,
     "input": [
      "dirlis = os.listdir(gitdir)"
     ],
     "language": "python",
     "metadata": {},
     "outputs": [],
     "prompt_number": 26
    },
    {
     "cell_type": "code",
     "collapsed": false,
     "input": [
      "dirme = set(dirlis) - set(repolisx)"
     ],
     "language": "python",
     "metadata": {},
     "outputs": [],
     "prompt_number": 27
    },
    {
     "cell_type": "code",
     "collapsed": false,
     "input": [
      "dirout = set(repolisx) - set(dirlis)"
     ],
     "language": "python",
     "metadata": {},
     "outputs": [],
     "prompt_number": 28
    },
    {
     "cell_type": "code",
     "collapsed": false,
     "input": [
      "for dirz in dirout:\n",
      "    print dirz"
     ],
     "language": "python",
     "metadata": {},
     "outputs": [
      {
       "output_type": "stream",
       "stream": "stdout",
       "text": [
        "RasPiWrite\n",
        "wcmckee.github.io\n",
        "ggj14\n",
        "flask\n",
        "4chan-API\n",
        "BroBeurFishingDream\n",
        "art-lastfm\n",
        "pywp-post\n",
        "flask-ghpages-example\n",
        "TPB\n",
        "autopaintpy123\n",
        "broLove\n",
        "wcmckee-notebook\n",
        "wirepil\n",
        "dockerfiles\n",
        "SketchDaily-GestureDrawing\n",
        "SoundWall\n",
        "te-whare-o-te-ata\n",
        "SortPictures\n",
        "cobal.eportfolio\n",
        "intro_programming\n",
        "python-guide\n",
        "pyunderdog\n",
        "skins\n",
        "ouya-unity-plugin\n",
        "adypy\n",
        "pybackupz\n",
        "selfspy\n",
        "niketa\n",
        "Projects\n",
        "wcmckee\n",
        "bgj05-hungry\n",
        "BirdCage\n",
        "iamagamer\n",
        "ipython\n",
        "redtube\n",
        "imgur-python\n",
        "paintingautopy\n",
        "brobeur-web\n",
        "molyjam2013\n",
        "prodo-game\n",
        "reddit_bot\n",
        "DeltaBot\n",
        "marshmallow\n",
        "ipython-hydra\n",
        "compohub\n",
        "pyladies\n",
        "python-patterns\n",
        "hackage-server\n",
        "pithos\n",
        "bbc2wp\n",
        "vIPer\n",
        "Triger\n",
        "RedditPress\n",
        "tweepy\n",
        "pytm\n",
        "anim_framework\n",
        "openbay\n",
        "HTML5-Tiny\n",
        "artcontrol-api\n",
        "miniprojects\n",
        "SuburbNightmare\n",
        "raspi\n",
        "UnityLuaIntegration\n",
        "ipython-docker\n",
        "intercity\n",
        "puphpet\n",
        "DailyProgBot\n",
        "pymel\n",
        "brobeur-static\n",
        "clint\n",
        "bacongamejam05\n",
        "wcmckee.com\n",
        "wcmStringPY\n",
        "RPIO\n",
        "html5lib-python\n",
        "render-useful\n",
        "vagrantboxes-heroku\n",
        "python-pandora\n",
        "LD48-Skins\n",
        "hamiltoncomputerclub.org.nz\n",
        "battlenet\n",
        "haskell-learn\n",
        "Minecraft\n",
        "openfaux-server\n",
        "AsylumJamCrushGame\n",
        "xboxdrv\n",
        "massive-wright\n",
        "ihaskell-notebook\n",
        "opencompetencies\n",
        "pyatakl\n"
       ]
      }
     ],
     "prompt_number": 29
    },
    {
     "cell_type": "code",
     "collapsed": false,
     "input": [
      "dirme"
     ],
     "language": "python",
     "metadata": {},
     "outputs": [
      {
       "metadata": {},
       "output_type": "pyout",
       "prompt_number": 30,
       "text": [
        "set()"
       ]
      }
     ],
     "prompt_number": 30
    },
    {
     "cell_type": "code",
     "collapsed": false,
     "input": [
      "merglis = set(dirlis) & set(repolisx)"
     ],
     "language": "python",
     "metadata": {},
     "outputs": [],
     "prompt_number": 31
    },
    {
     "cell_type": "code",
     "collapsed": false,
     "input": [
      "pwd"
     ],
     "language": "python",
     "metadata": {},
     "outputs": [
      {
       "metadata": {},
       "output_type": "pyout",
       "prompt_number": 39,
       "text": [
        "u'/var/host/media/removable/USB Drive/wcmckee-git'"
       ]
      }
     ],
     "prompt_number": 39
    },
    {
     "cell_type": "code",
     "collapsed": false,
     "input": [
      "for repoit in repolisx:\n",
      "    print repoit\n",
      "    os.system('git clone https://github.com/wcmckee/' + repoit)\n",
      "    #git.Git().clone('https://github.com/wcmckee/' + repoit)"
     ],
     "language": "python",
     "metadata": {},
     "outputs": [
      {
       "output_type": "stream",
       "stream": "stdout",
       "text": [
        "4chan-API\n",
        "adypy\n",
        "anim_framework"
       ]
      },
      {
       "output_type": "stream",
       "stream": "stdout",
       "text": [
        "\n",
        "art-lastfm\n",
        "artcontrol-api\n",
        "AsylumJamCrushGame\n",
        "autopaintpy123"
       ]
      },
      {
       "output_type": "stream",
       "stream": "stdout",
       "text": [
        "\n",
        "bacongamejam05\n",
        "battlenet\n",
        "bbc2wp\n",
        "bgj05-hungry\n",
        "BirdCage"
       ]
      },
      {
       "output_type": "stream",
       "stream": "stdout",
       "text": [
        "\n",
        "brobeur-static\n",
        "brobeur-web\n",
        "BroBeurFishingDream\n",
        "broLove"
       ]
      },
      {
       "output_type": "stream",
       "stream": "stdout",
       "text": [
        "\n",
        "clint\n",
        "cobal.eportfolio\n",
        "compohub\n",
        "DailyProgBot"
       ]
      },
      {
       "output_type": "stream",
       "stream": "stdout",
       "text": [
        "\n",
        "DeltaBot\n",
        "dockerfiles\n",
        "flask\n",
        "flask-ghpages-example"
       ]
      },
      {
       "output_type": "stream",
       "stream": "stdout",
       "text": [
        "\n",
        "ggj14\n",
        "hackage-server\n",
        "hamiltoncomputerclub.org.nz"
       ]
      },
      {
       "output_type": "stream",
       "stream": "stdout",
       "text": [
        "\n",
        "haskell-learn\n",
        "HTML5-Tiny\n",
        "html5lib-python\n",
        "iamagamer"
       ]
      },
      {
       "output_type": "stream",
       "stream": "stdout",
       "text": [
        "\n",
        "ihaskell-notebook\n",
        "imgur-python\n",
        "intercity\n",
        "intro_programming"
       ]
      },
      {
       "output_type": "stream",
       "stream": "stdout",
       "text": [
        "\n",
        "ipython\n",
        "ipython-docker\n",
        "ipython-hydra\n",
        "LD48-Skins"
       ]
      },
      {
       "output_type": "stream",
       "stream": "stdout",
       "text": [
        "\n",
        "marshmallow\n",
        "massive-wright\n",
        "Minecraft\n",
        "miniprojects"
       ]
      },
      {
       "output_type": "stream",
       "stream": "stdout",
       "text": [
        "\n",
        "molyjam2013\n",
        "niketa\n",
        "openbay\n",
        "opencompetencies"
       ]
      },
      {
       "output_type": "stream",
       "stream": "stdout",
       "text": [
        "\n",
        "openfaux-server\n",
        "ouya-unity-plugin\n",
        "paintingautopy\n",
        "pithos\n",
        "prodo-game"
       ]
      },
      {
       "output_type": "stream",
       "stream": "stdout",
       "text": [
        "\n",
        "Projects\n",
        "puphpet\n",
        "pyatakl\n",
        "pybackupz\n",
        "pyladies"
       ]
      },
      {
       "output_type": "stream",
       "stream": "stdout",
       "text": [
        "\n",
        "pymel\n",
        "python-guide\n",
        "python-pandora\n",
        "python-patterns\n",
        "pytm"
       ]
      },
      {
       "output_type": "stream",
       "stream": "stdout",
       "text": [
        "\n",
        "pyunderdog\n",
        "pywp-post\n",
        "raspi\n",
        "RasPiWrite"
       ]
      },
      {
       "output_type": "stream",
       "stream": "stdout",
       "text": [
        "\n",
        "RedditPress\n",
        "reddit_bot\n",
        "redtube\n",
        "render-useful"
       ]
      },
      {
       "output_type": "stream",
       "stream": "stdout",
       "text": [
        "\n",
        "RPIO\n",
        "selfspy\n",
        "SketchDaily-GestureDrawing\n",
        "skins\n",
        "SortPictures"
       ]
      },
      {
       "output_type": "stream",
       "stream": "stdout",
       "text": [
        "\n",
        "SoundWall\n",
        "SuburbNightmare\n",
        "te-whare-o-te-ata\n",
        "TPB\n",
        "Triger"
       ]
      },
      {
       "output_type": "stream",
       "stream": "stdout",
       "text": [
        "\n",
        "tweepy\n",
        "UnityLuaIntegration\n",
        "vagrantboxes-heroku\n",
        "vIPer"
       ]
      },
      {
       "output_type": "stream",
       "stream": "stdout",
       "text": [
        "\n",
        "wcmckee\n",
        "wcmckee-notebook\n",
        "wcmckee.com\n",
        "wcmckee.github.io\n",
        "wcmStringPY"
       ]
      },
      {
       "output_type": "stream",
       "stream": "stdout",
       "text": [
        "\n",
        "wirepil\n",
        "xboxdrv\n"
       ]
      }
     ],
     "prompt_number": 37
    }
   ],
   "metadata": {}
  }
 ]
}