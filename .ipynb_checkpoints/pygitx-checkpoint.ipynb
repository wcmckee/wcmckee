{
 "metadata": {
  "name": "",
  "signature": "sha256:08d2aa8a4bb279fac5853286da04b046418b51de43256d5649d1ffe8a53894c7"
 },
 "nbformat": 3,
 "nbformat_minor": 0,
 "worksheets": [
  {
   "cells": [
    {
     "cell_type": "markdown",
     "metadata": {},
     "source": [
      "<h3>pygitx</h3>\n",
      "\n",
      "Python script to download repos from github.\n",
      "It checked localfiles and skips downloading any repos that currently exsist. \n",
      "Perform a git pull for each repo that exsists.\n",
      "\n",
      "Look at the ipython notebook files (ipynb) inside each repo and generate a nikola site with it. \n",
      "Write out .meta files for each notebook. \n",
      "\n",
      "title\n",
      "\n",
      "url-friendly\n",
      "\n",
      "year/month/day hr/min\n",
      "\n",
      "tags: redditgetsdrawn, modules used?\n",
      "\n",
      "cats: lang? doc, novel\n",
      "\n",
      "\n",
      "Site name repo name .ipynb/meta\n",
      "\n"
     ]
    },
    {
     "cell_type": "code",
     "collapsed": false,
     "input": [
      "from github import Github"
     ],
     "language": "python",
     "metadata": {},
     "outputs": [],
     "prompt_number": 1
    },
    {
     "cell_type": "code",
     "collapsed": false,
     "input": [
      "import os\n",
      "import getpass\n",
      "from git import *\n",
      "import git\n",
      "import datetime"
     ],
     "language": "python",
     "metadata": {},
     "outputs": [],
     "prompt_number": 27
    },
    {
     "cell_type": "code",
     "collapsed": false,
     "input": [
      "p = open('/home/wcmckee/ps.txt', 'r')"
     ],
     "language": "python",
     "metadata": {},
     "outputs": [],
     "prompt_number": 28
    },
    {
     "cell_type": "code",
     "collapsed": false,
     "input": [
      "usr = open('/home/wcmckee/us.txt', 'r')"
     ],
     "language": "python",
     "metadata": {},
     "outputs": [],
     "prompt_number": 30
    },
    {
     "cell_type": "code",
     "collapsed": false,
     "input": [
      "#str(p.read())"
     ],
     "language": "python",
     "metadata": {},
     "outputs": [],
     "prompt_number": 4
    },
    {
     "cell_type": "code",
     "collapsed": false,
     "input": [
      "usred = str(usr.read())"
     ],
     "language": "python",
     "metadata": {},
     "outputs": [],
     "prompt_number": 31
    },
    {
     "cell_type": "code",
     "collapsed": false,
     "input": [
      "pred = str(p.read())"
     ],
     "language": "python",
     "metadata": {},
     "outputs": [],
     "prompt_number": 32
    },
    {
     "cell_type": "code",
     "collapsed": false,
     "input": [
      "pstrip = pred.strip('\\n')\n",
      "ustrip = usred.strip('\\n')"
     ],
     "language": "python",
     "metadata": {},
     "outputs": [],
     "prompt_number": 33
    },
    {
     "cell_type": "code",
     "collapsed": false,
     "input": [
      "ustrip"
     ],
     "language": "python",
     "metadata": {},
     "outputs": [
      {
       "metadata": {},
       "output_type": "pyout",
       "prompt_number": 60,
       "text": [
        "'wcmckee'"
       ]
      }
     ],
     "prompt_number": 60
    },
    {
     "cell_type": "code",
     "collapsed": false,
     "input": [
      "g = Github(ustrip, pstrip)"
     ],
     "language": "python",
     "metadata": {},
     "outputs": [],
     "prompt_number": 61
    },
    {
     "cell_type": "code",
     "collapsed": false,
     "input": [
      "grepo = g.search_users('wcmckee')                                                                                                                                                                                                                                                                                                                                                                                                                                                                                                                                                                                                                                                                                                                                                                                                                                                                                                                                                                                                                                                                                                                                                                                                                                                                                                                                                                                                                                                                                                                                                                                                   "
     ],
     "language": "python",
     "metadata": {},
     "outputs": [],
     "prompt_number": 65
    },
    {
     "cell_type": "code",
     "collapsed": false,
     "input": [
      "repoev = []"
     ],
     "language": "python",
     "metadata": {},
     "outputs": [],
     "prompt_number": 66
    },
    {
     "cell_type": "code",
     "collapsed": false,
     "input": [],
     "language": "python",
     "metadata": {},
     "outputs": [],
     "prompt_number": 66
    },
    {
     "cell_type": "code",
     "collapsed": false,
     "input": [
      "for gre in grepo:\n",
      "    print gre.repos_url\n",
      "    print gre.get_public_events\n",
      "    print gre.get_repo('wcmckee')\n",
      "    repoev.append(gre.get_repo('wcmckee'))"
     ],
     "language": "python",
     "metadata": {},
     "outputs": [
      {
       "output_type": "stream",
       "stream": "stdout",
       "text": [
        "https://api.github.com/users/wcmckee/repos\n",
        "<bound method NamedUser.get_public_events of <github.NamedUser.NamedUser object at 0xb1f831d0>>\n",
        "<github.Repository.Repository object at 0xb23493d0>"
       ]
      },
      {
       "output_type": "stream",
       "stream": "stdout",
       "text": [
        "\n"
       ]
      }
     ],
     "prompt_number": 67
    },
    {
     "cell_type": "code",
     "collapsed": false,
     "input": [
      "for rep in repoev:\n",
      "    print rep"
     ],
     "language": "python",
     "metadata": {},
     "outputs": [
      {
       "output_type": "stream",
       "stream": "stdout",
       "text": [
        "<github.Repository.Repository object at 0xb1f83b10>\n"
       ]
      }
     ],
     "prompt_number": 68
    },
    {
     "cell_type": "code",
     "collapsed": false,
     "input": [
      "for repoe in repoev:\n",
      "    print repoe"
     ],
     "language": "python",
     "metadata": {},
     "outputs": [
      {
       "output_type": "stream",
       "stream": "stdout",
       "text": [
        "<github.Repository.Repository object at 0xb1f83b10>\n"
       ]
      }
     ],
     "prompt_number": 69
    },
    {
     "cell_type": "code",
     "collapsed": false,
     "input": [
      "print gre.email"
     ],
     "language": "python",
     "metadata": {},
     "outputs": [
      {
       "output_type": "stream",
       "stream": "stdout",
       "text": [
        "will@artcontrol.me\n"
       ]
      }
     ],
     "prompt_number": 70
    },
    {
     "cell_type": "code",
     "collapsed": false,
     "input": [
      "grrep = gre.get_repos()"
     ],
     "language": "python",
     "metadata": {},
     "outputs": [],
     "prompt_number": 71
    },
    {
     "cell_type": "code",
     "collapsed": false,
     "input": [
      "replist =  list(grrep)"
     ],
     "language": "python",
     "metadata": {},
     "outputs": [],
     "prompt_number": 72
    },
    {
     "cell_type": "code",
     "collapsed": false,
     "input": [
      "repolisx = []\n",
      "repocom = []\n",
      "repocont = []"
     ],
     "language": "python",
     "metadata": {},
     "outputs": [],
     "prompt_number": 73
    },
    {
     "cell_type": "code",
     "collapsed": false,
     "input": [
      "ophom = ('/home/wcmckee/ipy/wcmckee-ipython/posts/')"
     ],
     "language": "python",
     "metadata": {},
     "outputs": [],
     "prompt_number": 74
    },
    {
     "cell_type": "code",
     "collapsed": false,
     "input": [
      "os.chdir('/home/wcmckee/ipy/wcmckee-ipython/posts')"
     ],
     "language": "python",
     "metadata": {},
     "outputs": [],
     "prompt_number": 75
    },
    {
     "cell_type": "code",
     "collapsed": false,
     "input": [
      "regecomm = []"
     ],
     "language": "python",
     "metadata": {},
     "outputs": [],
     "prompt_number": 76
    },
    {
     "cell_type": "markdown",
     "metadata": {},
     "source": [
      "I need to lookup each notebook in these repos.\n",
      "Hey why not just do it with looking at the dir that the repos are downloaded to. All repos are downloaded then os.listdir(where they are), filter ipynb. lookup when last modified. save title (remove -), save url-friendly, save last modified. \n",
      "\n",
      "Filename is repo name followed by script name. Two files ipynb/meta.\n",
      "\n",
      "reponame-pyscript.ipynb/meta"
     ]
    },
    {
     "cell_type": "code",
     "collapsed": false,
     "input": [
      "for repoz in replist:\n",
      "    print repoz.name\n",
      "    with open(str(repoz.name) + '.meta', \"w\") as f:\n",
      "            repna = repoz.name.encode('ascii', 'ignore').decode('ascii')\n",
      "            f.write(repoz.name + '\\n' + repoz.name + '\\n' + str(repoz.updated_at))\n",
      "    repolisx.append(repoz.name)\n",
      "    #print repoz.size\n",
      "    print repoz.updated_at\n",
      "    #print repoz.get_contents\n",
      "    #print (repoz.get_commits())\n",
      "    #regecomm.append(repoz.get_commits())\n",
      "    repocont.append(repoz.get_contents)\n",
      "  #  repocom.append(repoz.get_commits)\n",
      "    #print repoz.contents_url\n",
      "    print gre.get_repos()\n",
      "    "
     ],
     "language": "python",
     "metadata": {},
     "outputs": [
      {
       "output_type": "stream",
       "stream": "stdout",
       "text": [
        "4chan-API\n",
        "2013-09-24 10:20:16"
       ]
      },
      {
       "output_type": "stream",
       "stream": "stdout",
       "text": [
        "\n",
        "<github.PaginatedList.PaginatedList instance at 0xb1c31968>\n",
        "adypy\n",
        "2014-06-09 04:52:12"
       ]
      },
      {
       "output_type": "stream",
       "stream": "stdout",
       "text": [
        "\n",
        "<github.PaginatedList.PaginatedList instance at 0xb1f262d8>\n",
        "anim_framework\n",
        "2014-05-07 21:25:20"
       ]
      },
      {
       "output_type": "stream",
       "stream": "stdout",
       "text": [
        "\n",
        "<github.PaginatedList.PaginatedList instance at 0xb1c4e6c0>\n",
        "art-lastfm\n",
        "2014-01-31 01:21:57"
       ]
      },
      {
       "output_type": "stream",
       "stream": "stdout",
       "text": [
        "\n",
        "<github.PaginatedList.PaginatedList instance at 0xb1f262d8>\n",
        "artcontrol-api\n",
        "2014-09-26 09:58:43"
       ]
      },
      {
       "output_type": "stream",
       "stream": "stdout",
       "text": [
        "\n",
        "<github.PaginatedList.PaginatedList instance at 0xb1c4e6c0>\n",
        "AsylumJamCrushGame\n",
        "2013-10-12 18:40:22\n",
        "<github.PaginatedList.PaginatedList instance at 0xb1f262d8>\n",
        "autopaintpy123\n",
        "2014-02-07 07:55:31"
       ]
      },
      {
       "output_type": "stream",
       "stream": "stdout",
       "text": [
        "\n",
        "<github.PaginatedList.PaginatedList instance at 0xb1c4e800>\n",
        "bacongamejam05\n",
        "2013-12-18 14:12:00"
       ]
      },
      {
       "output_type": "stream",
       "stream": "stdout",
       "text": [
        "\n",
        "<github.PaginatedList.PaginatedList instance at 0xb1f262d8>\n",
        "battlenet\n",
        "2013-10-16 14:06:51"
       ]
      },
      {
       "output_type": "stream",
       "stream": "stdout",
       "text": [
        "\n",
        "<github.PaginatedList.PaginatedList instance at 0xb1c4e788>\n",
        "bbc2wp\n",
        "2014-09-21 18:35:09"
       ]
      },
      {
       "output_type": "stream",
       "stream": "stdout",
       "text": [
        "\n",
        "<github.PaginatedList.PaginatedList instance at 0xb1f262d8>\n",
        "bgj05-hungry\n",
        "2014-03-23 21:09:43"
       ]
      },
      {
       "output_type": "stream",
       "stream": "stdout",
       "text": [
        "\n",
        "<github.PaginatedList.PaginatedList instance at 0xb1c4e800>\n",
        "BirdCage\n",
        "2014-04-13 21:05:50"
       ]
      },
      {
       "output_type": "stream",
       "stream": "stdout",
       "text": [
        "\n",
        "<github.PaginatedList.PaginatedList instance at 0xb1c4e788>\n",
        "brobeur-static\n",
        "2014-05-05 02:02:45"
       ]
      },
      {
       "output_type": "stream",
       "stream": "stdout",
       "text": [
        "\n",
        "<github.PaginatedList.PaginatedList instance at 0xb1f262d8>\n",
        "brobeur-web\n",
        "2014-04-29 08:46:54"
       ]
      },
      {
       "output_type": "stream",
       "stream": "stdout",
       "text": [
        "\n",
        "<github.PaginatedList.PaginatedList instance at 0xb4783800>\n",
        "BroBeurFishingDream\n",
        "2014-02-16 19:19:16"
       ]
      },
      {
       "output_type": "stream",
       "stream": "stdout",
       "text": [
        "\n",
        "<github.PaginatedList.PaginatedList instance at 0xb1f262d8>\n",
        "broLove\n",
        "2014-04-22 16:53:58"
       ]
      },
      {
       "output_type": "stream",
       "stream": "stdout",
       "text": [
        "\n",
        "<github.PaginatedList.PaginatedList instance at 0xb1f0a080>\n",
        "clint\n",
        "2013-08-30 11:26:48"
       ]
      },
      {
       "output_type": "stream",
       "stream": "stdout",
       "text": [
        "\n",
        "<github.PaginatedList.PaginatedList instance at 0xb1f262d8>\n",
        "cobal.eportfolio\n",
        "2013-10-10 06:10:22\n",
        "<github.PaginatedList.PaginatedList instance at 0xb1f262d8>\n",
        "compohub\n",
        "2014-05-03 11:06:39"
       ]
      },
      {
       "output_type": "stream",
       "stream": "stdout",
       "text": [
        "\n",
        "<github.PaginatedList.PaginatedList instance at 0xb1f0a170>\n",
        "DailyProgBot\n",
        "2013-08-30 11:26:48"
       ]
      },
      {
       "output_type": "stream",
       "stream": "stdout",
       "text": [
        "\n",
        "<github.PaginatedList.PaginatedList instance at 0xb1f262d8>\n",
        "DeltaBot\n",
        "2013-08-30 11:26:48"
       ]
      },
      {
       "output_type": "stream",
       "stream": "stdout",
       "text": [
        "\n",
        "<github.PaginatedList.PaginatedList instance at 0xb1f0a148>\n",
        "dockerfiles\n",
        "2014-07-12 19:51:01"
       ]
      },
      {
       "output_type": "stream",
       "stream": "stdout",
       "text": [
        "\n",
        "<github.PaginatedList.PaginatedList instance at 0xb1f262d8>\n",
        "flask\n",
        "2013-12-18 05:05:44"
       ]
      },
      {
       "output_type": "stream",
       "stream": "stdout",
       "text": [
        "\n",
        "<github.PaginatedList.PaginatedList instance at 0xb1f262d8>\n",
        "flask-ghpages-example\n",
        "2014-07-02 00:14:33"
       ]
      },
      {
       "output_type": "stream",
       "stream": "stdout",
       "text": [
        "\n",
        "<github.PaginatedList.PaginatedList instance at 0xb1f262d8>\n",
        "ggj14\n",
        "2014-01-26 02:48:08"
       ]
      },
      {
       "output_type": "stream",
       "stream": "stdout",
       "text": [
        "\n",
        "<github.PaginatedList.PaginatedList instance at 0xb1f262d8>\n",
        "hackage-server\n",
        "2013-09-30 07:50:04"
       ]
      },
      {
       "output_type": "stream",
       "stream": "stdout",
       "text": [
        "\n",
        "<github.PaginatedList.PaginatedList instance at 0xb1f0a148>\n",
        "hamiltoncomputerclub.org.nz\n",
        "2014-05-13 00:12:55"
       ]
      },
      {
       "output_type": "stream",
       "stream": "stdout",
       "text": [
        "\n",
        "<github.PaginatedList.PaginatedList instance at 0xb1f262d8>\n",
        "haskell-learn\n",
        "2014-02-05 10:22:41"
       ]
      },
      {
       "output_type": "stream",
       "stream": "stdout",
       "text": [
        "\n",
        "<github.PaginatedList.PaginatedList instance at 0xb1f0a148>\n",
        "HTML5-Tiny\n",
        "2014-05-22 03:16:18"
       ]
      },
      {
       "output_type": "stream",
       "stream": "stdout",
       "text": [
        "\n",
        "<github.PaginatedList.PaginatedList instance at 0xb1f262d8>\n",
        "html5lib-python\n",
        "2013-10-15 05:55:33"
       ]
      },
      {
       "output_type": "stream",
       "stream": "stdout",
       "text": [
        "\n",
        "<github.PaginatedList.PaginatedList instance at 0xb1f262d8>\n",
        "iamagamer\n",
        "2014-05-29 01:06:20"
       ]
      },
      {
       "output_type": "stream",
       "stream": "stdout",
       "text": [
        "\n",
        "<github.PaginatedList.PaginatedList instance at 0xb1f0a170>\n",
        "ihaskell-notebook\n",
        "2013-10-01 22:09:52"
       ]
      },
      {
       "output_type": "stream",
       "stream": "stdout",
       "text": [
        "\n",
        "<github.PaginatedList.PaginatedList instance at 0xb1f262d8>\n",
        "imgur-python\n",
        "2014-10-07 18:14:23"
       ]
      },
      {
       "output_type": "stream",
       "stream": "stdout",
       "text": [
        "\n",
        "<github.PaginatedList.PaginatedList instance at 0xb1f0a148>\n",
        "intercity\n",
        "2014-05-12 12:56:13"
       ]
      },
      {
       "output_type": "stream",
       "stream": "stdout",
       "text": [
        "\n",
        "<github.PaginatedList.PaginatedList instance at 0xb1f0a170>\n",
        "intro_programming\n",
        "2013-12-06 05:32:29\n",
        "<github.PaginatedList.PaginatedList instance at 0xb1f262d8>\n",
        "ipython\n",
        "2013-09-14 13:21:02"
       ]
      },
      {
       "output_type": "stream",
       "stream": "stdout",
       "text": [
        "\n",
        "<github.PaginatedList.PaginatedList instance at 0xb1f0a5f8>\n",
        "ipython-docker\n",
        "2014-06-10 00:29:33"
       ]
      },
      {
       "output_type": "stream",
       "stream": "stdout",
       "text": [
        "\n",
        "<github.PaginatedList.PaginatedList instance at 0xb1f262d8>\n",
        "ipython-hydra\n",
        "2014-07-11 17:19:35"
       ]
      },
      {
       "output_type": "stream",
       "stream": "stdout",
       "text": [
        "\n",
        "<github.PaginatedList.PaginatedList instance at 0xb1f0a5f8>\n",
        "LD48-Skins\n",
        "2013-12-19 20:47:10"
       ]
      },
      {
       "output_type": "stream",
       "stream": "stdout",
       "text": [
        "\n",
        "<github.PaginatedList.PaginatedList instance at 0xb1f262d8>\n",
        "marshmallow\n",
        "2014-12-29 03:09:27"
       ]
      },
      {
       "output_type": "stream",
       "stream": "stdout",
       "text": [
        "\n",
        "<github.PaginatedList.PaginatedList instance at 0xb1f0a5f8>\n",
        "massive-wright\n",
        "2013-10-29 06:30:14"
       ]
      },
      {
       "output_type": "stream",
       "stream": "stdout",
       "text": [
        "\n",
        "<github.PaginatedList.PaginatedList instance at 0xb1f262d8>\n",
        "Minecraft\n",
        "2014-05-06 19:19:03"
       ]
      },
      {
       "output_type": "stream",
       "stream": "stdout",
       "text": [
        "\n",
        "<github.PaginatedList.PaginatedList instance at 0xb1f0a670>\n",
        "miniprojects\n",
        "2013-08-30 11:26:46"
       ]
      },
      {
       "output_type": "stream",
       "stream": "stdout",
       "text": [
        "\n",
        "<github.PaginatedList.PaginatedList instance at 0xb1f262d8>\n",
        "molyjam2013\n",
        "2013-08-30 11:26:46"
       ]
      },
      {
       "output_type": "stream",
       "stream": "stdout",
       "text": [
        "\n",
        "<github.PaginatedList.PaginatedList instance at 0xb1f0a670>\n",
        "niketa\n",
        "2014-06-27 03:18:50"
       ]
      },
      {
       "output_type": "stream",
       "stream": "stdout",
       "text": [
        "\n",
        "<github.PaginatedList.PaginatedList instance at 0xb1f262d8>\n",
        "openbay\n",
        "2014-12-29 04:19:44"
       ]
      },
      {
       "output_type": "stream",
       "stream": "stdout",
       "text": [
        "\n",
        "<github.PaginatedList.PaginatedList instance at 0xb1f0a670>\n",
        "opencompetencies\n",
        "2013-12-13 00:12:34"
       ]
      },
      {
       "output_type": "stream",
       "stream": "stdout",
       "text": [
        "\n",
        "<github.PaginatedList.PaginatedList instance at 0xb1f262d8>\n",
        "openfaux-server\n",
        "2013-12-18 10:19:54"
       ]
      },
      {
       "output_type": "stream",
       "stream": "stdout",
       "text": [
        "\n",
        "<github.PaginatedList.PaginatedList instance at 0xb1f262d8>\n",
        "ouya-unity-plugin\n",
        "2014-09-10 19:08:05"
       ]
      },
      {
       "output_type": "stream",
       "stream": "stdout",
       "text": [
        "\n",
        "<github.PaginatedList.PaginatedList instance at 0xb1f262d8>\n",
        "paintingautopy\n",
        "2014-02-04 12:01:36"
       ]
      },
      {
       "output_type": "stream",
       "stream": "stdout",
       "text": [
        "\n",
        "<github.PaginatedList.PaginatedList instance at 0xb1f0a670>\n",
        "pithos\n",
        "2013-10-06 12:06:46"
       ]
      },
      {
       "output_type": "stream",
       "stream": "stdout",
       "text": [
        "\n",
        "<github.PaginatedList.PaginatedList instance at 0xb1f262d8>\n",
        "prodo-game\n",
        "2014-05-05 21:07:36"
       ]
      },
      {
       "output_type": "stream",
       "stream": "stdout",
       "text": [
        "\n",
        "<github.PaginatedList.PaginatedList instance at 0xb1f0a5f8>\n",
        "Projects\n",
        "2013-08-30 11:26:48"
       ]
      },
      {
       "output_type": "stream",
       "stream": "stdout",
       "text": [
        "\n",
        "<github.PaginatedList.PaginatedList instance at 0xb1f0ab48>\n",
        "puphpet\n",
        "2014-07-11 03:36:52\n",
        "<github.PaginatedList.PaginatedList instance at 0xb1f262d8>\n",
        "pyatakl\n",
        "2014-06-29 01:24:11"
       ]
      },
      {
       "output_type": "stream",
       "stream": "stdout",
       "text": [
        "\n",
        "<github.PaginatedList.PaginatedList instance at 0xb1f0ab48>\n",
        "pybackupz\n",
        "2014-01-30 16:55:31"
       ]
      },
      {
       "output_type": "stream",
       "stream": "stdout",
       "text": [
        "\n",
        "<github.PaginatedList.PaginatedList instance at 0xb1f0aaf8>\n",
        "pyladies\n",
        "2014-04-26 22:23:20"
       ]
      },
      {
       "output_type": "stream",
       "stream": "stdout",
       "text": [
        "\n",
        "<github.PaginatedList.PaginatedList instance at 0xb1f262d8>\n",
        "pymel\n",
        "2013-11-17 11:45:49"
       ]
      },
      {
       "output_type": "stream",
       "stream": "stdout",
       "text": [
        "\n",
        "<github.PaginatedList.PaginatedList instance at 0xb1f262d8>\n",
        "python-guide\n",
        "2013-08-30 11:26:45"
       ]
      },
      {
       "output_type": "stream",
       "stream": "stdout",
       "text": [
        "\n",
        "<github.PaginatedList.PaginatedList instance at 0xb1f0a670>\n",
        "python-pandora\n",
        "2013-08-30 11:26:48"
       ]
      },
      {
       "output_type": "stream",
       "stream": "stdout",
       "text": [
        "\n",
        "<github.PaginatedList.PaginatedList instance at 0xb1f262d8>\n",
        "python-patterns\n",
        "2013-08-30 11:26:47"
       ]
      },
      {
       "output_type": "stream",
       "stream": "stdout",
       "text": [
        "\n",
        "<github.PaginatedList.PaginatedList instance at 0xb1f262d8>\n",
        "pytm\n",
        "2013-09-10 03:06:24"
       ]
      },
      {
       "output_type": "stream",
       "stream": "stdout",
       "text": [
        "\n",
        "<github.PaginatedList.PaginatedList instance at 0xb1f262d8>\n",
        "pyunderdog\n",
        "2014-02-02 14:35:35"
       ]
      },
      {
       "output_type": "stream",
       "stream": "stdout",
       "text": [
        "\n",
        "<github.PaginatedList.PaginatedList instance at 0xb1f0aaf8>\n",
        "pywp-post\n",
        "2014-06-02 07:16:53"
       ]
      },
      {
       "output_type": "stream",
       "stream": "stdout",
       "text": [
        "\n",
        "<github.PaginatedList.PaginatedList instance at 0xb1f0ad00>\n",
        "raspi\n",
        "2014-01-28 08:29:32"
       ]
      },
      {
       "output_type": "stream",
       "stream": "stdout",
       "text": [
        "\n",
        "<github.PaginatedList.PaginatedList instance at 0xb1f262d8>\n",
        "RasPiWrite\n",
        "2014-01-20 18:31:17"
       ]
      },
      {
       "output_type": "stream",
       "stream": "stdout",
       "text": [
        "\n",
        "<github.PaginatedList.PaginatedList instance at 0xb1f0ad50>\n",
        "RedditPress\n",
        "2014-04-22 16:53:58"
       ]
      },
      {
       "output_type": "stream",
       "stream": "stdout",
       "text": [
        "\n",
        "<github.PaginatedList.PaginatedList instance at 0xb1f262d8>\n",
        "reddit_bot\n",
        "2013-08-30 11:26:48"
       ]
      },
      {
       "output_type": "stream",
       "stream": "stdout",
       "text": [
        "\n",
        "<github.PaginatedList.PaginatedList instance at 0xb1f0ad50>\n",
        "redtube\n",
        "2014-05-07 20:52:47"
       ]
      },
      {
       "output_type": "stream",
       "stream": "stdout",
       "text": [
        "\n",
        "<github.PaginatedList.PaginatedList instance at 0xb1f262d8>\n",
        "render-useful\n",
        "2014-11-14 08:56:35"
       ]
      },
      {
       "output_type": "stream",
       "stream": "stdout",
       "text": [
        "\n",
        "<github.PaginatedList.PaginatedList instance at 0xb1f0ad50>\n",
        "RPIO\n",
        "2014-01-28 10:28:53\n",
        "<github.PaginatedList.PaginatedList instance at 0xb1f262d8>\n",
        "selfspy\n",
        "2014-04-21 10:06:55"
       ]
      },
      {
       "output_type": "stream",
       "stream": "stdout",
       "text": [
        "\n",
        "<github.PaginatedList.PaginatedList instance at 0xb1f0ad00>\n",
        "SketchDaily-GestureDrawing\n",
        "2014-05-22 19:15:06"
       ]
      },
      {
       "output_type": "stream",
       "stream": "stdout",
       "text": [
        "\n",
        "<github.PaginatedList.PaginatedList instance at 0xb1f262d8>\n",
        "skins\n",
        "2014-02-15 12:56:01"
       ]
      },
      {
       "output_type": "stream",
       "stream": "stdout",
       "text": [
        "\n",
        "<github.PaginatedList.PaginatedList instance at 0xb1f262d8>\n",
        "SortPictures\n",
        "2014-02-12 13:51:53\n",
        "<github.PaginatedList.PaginatedList instance at 0xb1f0ae68>\n",
        "SoundWall\n",
        "2014-05-03 10:38:30"
       ]
      },
      {
       "output_type": "stream",
       "stream": "stdout",
       "text": [
        "\n",
        "<github.PaginatedList.PaginatedList instance at 0xb1f0ad00>\n",
        "SuburbNightmare\n",
        "2014-04-17 06:02:40\n",
        "<github.PaginatedList.PaginatedList instance at 0xb1f262d8>\n",
        "te-whare-o-te-ata\n",
        "2014-06-24 08:34:54"
       ]
      },
      {
       "output_type": "stream",
       "stream": "stdout",
       "text": [
        "\n",
        "<github.PaginatedList.PaginatedList instance at 0xb1f262d8>\n",
        "TPB\n",
        "2013-10-04 11:50:53"
       ]
      },
      {
       "output_type": "stream",
       "stream": "stdout",
       "text": [
        "\n",
        "<github.PaginatedList.PaginatedList instance at 0xb1f262d8>\n",
        "Triger\n",
        "2014-02-18 16:10:27"
       ]
      },
      {
       "output_type": "stream",
       "stream": "stdout",
       "text": [
        "\n",
        "<github.PaginatedList.PaginatedList instance at 0xb1f262d8>\n",
        "tweepy\n",
        "2013-08-30 11:26:47"
       ]
      },
      {
       "output_type": "stream",
       "stream": "stdout",
       "text": [
        "\n",
        "<github.PaginatedList.PaginatedList instance at 0xb1f262d8>\n",
        "UnityLuaIntegration\n",
        "2013-08-30 11:26:47"
       ]
      },
      {
       "output_type": "stream",
       "stream": "stdout",
       "text": [
        "\n",
        "<github.PaginatedList.PaginatedList instance at 0xb1f262d8>\n",
        "vagrantboxes-heroku\n",
        "2014-07-11 13:02:20"
       ]
      },
      {
       "output_type": "stream",
       "stream": "stdout",
       "text": [
        "\n",
        "<github.PaginatedList.PaginatedList instance at 0xb1f262d8>\n",
        "vIPer\n",
        "2014-05-11 06:17:26"
       ]
      },
      {
       "output_type": "stream",
       "stream": "stdout",
       "text": [
        "\n",
        "<github.PaginatedList.PaginatedList instance at 0xb1f262d8>\n",
        "wcmckee\n",
        "2014-12-21 22:42:13"
       ]
      },
      {
       "output_type": "stream",
       "stream": "stdout",
       "text": [
        "\n",
        "<github.PaginatedList.PaginatedList instance at 0xb1f0f080>\n",
        "wcmckee-notebook\n",
        "2014-12-23 23:07:09"
       ]
      },
      {
       "output_type": "stream",
       "stream": "stdout",
       "text": [
        "\n",
        "<github.PaginatedList.PaginatedList instance at 0xb1f262d8>\n",
        "wcmckee.com\n",
        "2014-05-13 00:30:55\n",
        "<github.PaginatedList.PaginatedList instance at 0xb1f0f030>\n",
        "wcmckee.github.io\n",
        "2014-04-27 12:28:03"
       ]
      },
      {
       "output_type": "stream",
       "stream": "stdout",
       "text": [
        "\n",
        "<github.PaginatedList.PaginatedList instance at 0xb1f262d8>\n",
        "wcmStringPY\n",
        "2014-02-02 17:24:08"
       ]
      },
      {
       "output_type": "stream",
       "stream": "stdout",
       "text": [
        "\n",
        "<github.PaginatedList.PaginatedList instance at 0xb1f0f0f8>\n",
        "wirepil\n",
        "2014-02-14 10:30:42"
       ]
      },
      {
       "output_type": "stream",
       "stream": "stdout",
       "text": [
        "\n",
        "<github.PaginatedList.PaginatedList instance at 0xb1f262d8>\n",
        "xboxdrv\n",
        "2013-10-02 11:22:40"
       ]
      },
      {
       "output_type": "stream",
       "stream": "stdout",
       "text": [
        "\n",
        "<github.PaginatedList.PaginatedList instance at 0xb1f0f0f8>\n"
       ]
      }
     ],
     "prompt_number": 107
    },
    {
     "cell_type": "code",
     "collapsed": false,
     "input": [
      "#for rega in regecomm:\n",
      " #   print rega.get_page[0]"
     ],
     "language": "python",
     "metadata": {},
     "outputs": [],
     "prompt_number": 108
    },
    {
     "cell_type": "code",
     "collapsed": false,
     "input": [
      "for repoc in repocont:\n",
      "    print (repoc)"
     ],
     "language": "python",
     "metadata": {},
     "outputs": [
      {
       "output_type": "stream",
       "stream": "stdout",
       "text": [
        "<bound method Repository.get_contents of <github.Repository.Repository object at 0xb2121550>>\n",
        "<bound method Repository.get_contents of <github.Repository.Repository object at 0xb2121650>>\n",
        "<bound method Repository.get_contents of <github.Repository.Repository object at 0xb2121670>>\n",
        "<bound method Repository.get_contents of <github.Repository.Repository object at 0xb1f83810>>\n",
        "<bound method Repository.get_contents of <github.Repository.Repository object at 0xb2349310>>\n",
        "<bound method Repository.get_contents of <github.Repository.Repository object at 0xb2121750>>\n",
        "<bound method Repository.get_contents of <github.Repository.Repository object at 0xb21216f0>>\n",
        "<bound method Repository.get_contents of <github.Repository.Repository object at 0xb21217b0>>\n",
        "<bound method Repository.get_contents of <github.Repository.Repository object at 0xb2121850>>\n",
        "<bound method Repository.get_contents of <github.Repository.Repository object at 0xb21217f0>>\n",
        "<bound method Repository.get_contents of <github.Repository.Repository object at 0xb2121910>>\n",
        "<bound method Repository.get_contents of <github.Repository.Repository object at 0xb21218b0>>\n",
        "<bound method Repository.get_contents of <github.Repository.Repository object at 0xb21219f0>>\n",
        "<bound method Repository.get_contents of <github.Repository.Repository object at 0xb2121990>>\n",
        "<bound method Repository.get_contents of <github.Repository.Repository object at 0xb2121b10>>\n",
        "<bound method Repository.get_contents of <github.Repository.Repository object at 0xb47920b0>>\n",
        "<bound method Repository.get_contents of <github.Repository.Repository object at 0xb1f83550>>\n",
        "<bound method Repository.get_contents of <github.Repository.Repository object at 0xb1f83ef0>>\n",
        "<bound method Repository.get_contents of <github.Repository.Repository object at 0xb6aefb50>>\n",
        "<bound method Repository.get_contents of <github.Repository.Repository object at 0xb2121b90>>\n",
        "<bound method Repository.get_contents of <github.Repository.Repository object at 0xb2121b30>>\n",
        "<bound method Repository.get_contents of <github.Repository.Repository object at 0xb2121cd0>>\n",
        "<bound method Repository.get_contents of <github.Repository.Repository object at 0xb2121c50>>\n",
        "<bound method Repository.get_contents of <github.Repository.Repository object at 0xb2121d70>>\n",
        "<bound method Repository.get_contents of <github.Repository.Repository object at 0xb1ff4310>>\n",
        "<bound method Repository.get_contents of <github.Repository.Repository object at 0xb1ff4330>>\n",
        "<bound method Repository.get_contents of <github.Repository.Repository object at 0xb1ff43f0>>\n",
        "<bound method Repository.get_contents of <github.Repository.Repository object at 0xb1ff4230>>\n",
        "<bound method Repository.get_contents of <github.Repository.Repository object at 0xb1ff4290>>\n",
        "<bound method Repository.get_contents of <github.Repository.Repository object at 0xb1ff4190>>\n",
        "<bound method Repository.get_contents of <github.Repository.Repository object at 0xb2092550>>\n",
        "<bound method Repository.get_contents of <github.Repository.Repository object at 0xb20925f0>>\n",
        "<bound method Repository.get_contents of <github.Repository.Repository object at 0xb2092610>>\n",
        "<bound method Repository.get_contents of <github.Repository.Repository object at 0xb2092670>>\n",
        "<bound method Repository.get_contents of <github.Repository.Repository object at 0xb20926d0>>\n",
        "<bound method Repository.get_contents of <github.Repository.Repository object at 0xb2092730>>\n",
        "<bound method Repository.get_contents of <github.Repository.Repository object at 0xb2092790>>\n",
        "<bound method Repository.get_contents of <github.Repository.Repository object at 0xb20927f0>>\n",
        "<bound method Repository.get_contents of <github.Repository.Repository object at 0xb2092850>>\n",
        "<bound method Repository.get_contents of <github.Repository.Repository object at 0xb20928b0>>\n",
        "<bound method Repository.get_contents of <github.Repository.Repository object at 0xb2092910>>\n",
        "<bound method Repository.get_contents of <github.Repository.Repository object at 0xb2092970>>\n",
        "<bound method Repository.get_contents of <github.Repository.Repository object at 0xb20929d0>>\n",
        "<bound method Repository.get_contents of <github.Repository.Repository object at 0xb2092a30>>\n",
        "<bound method Repository.get_contents of <github.Repository.Repository object at 0xb2092a90>>\n",
        "<bound method Repository.get_contents of <github.Repository.Repository object at 0xb2092af0>>\n",
        "<bound method Repository.get_contents of <github.Repository.Repository object at 0xb2092b50>>\n",
        "<bound method Repository.get_contents of <github.Repository.Repository object at 0xb2092bb0>>\n",
        "<bound method Repository.get_contents of <github.Repository.Repository object at 0xb2092c10>>\n",
        "<bound method Repository.get_contents of <github.Repository.Repository object at 0xb2092c70>>\n",
        "<bound method Repository.get_contents of <github.Repository.Repository object at 0xb2092cd0>>\n",
        "<bound method Repository.get_contents of <github.Repository.Repository object at 0xb2092d30>>\n",
        "<bound method Repository.get_contents of <github.Repository.Repository object at 0xb2092d90>>\n",
        "<bound method Repository.get_contents of <github.Repository.Repository object at 0xb2092df0>>\n",
        "<bound method Repository.get_contents of <github.Repository.Repository object at 0xb2092e50>>\n",
        "<bound method Repository.get_contents of <github.Repository.Repository object at 0xb2092eb0>>\n",
        "<bound method Repository.get_contents of <github.Repository.Repository object at 0xb2092f10>>\n",
        "<bound method Repository.get_contents of <github.Repository.Repository object at 0xb2092f70>>\n",
        "<bound method Repository.get_contents of <github.Repository.Repository object at 0xb2092fd0>>\n",
        "<bound method Repository.get_contents of <github.Repository.Repository object at 0xb2267050>>\n",
        "<bound method Repository.get_contents of <github.Repository.Repository object at 0xb21c7c10>>\n",
        "<bound method Repository.get_contents of <github.Repository.Repository object at 0xb21c7cb0>>\n",
        "<bound method Repository.get_contents of <github.Repository.Repository object at 0xb21c7cd0>>\n",
        "<bound method Repository.get_contents of <github.Repository.Repository object at 0xb21c7d30>>\n",
        "<bound method Repository.get_contents of <github.Repository.Repository object at 0xb21c7d90>>\n",
        "<bound method Repository.get_contents of <github.Repository.Repository object at 0xb21c7df0>>\n",
        "<bound method Repository.get_contents of <github.Repository.Repository object at 0xb21c7e50>>\n",
        "<bound method Repository.get_contents of <github.Repository.Repository object at 0xb21c7eb0>>\n",
        "<bound method Repository.get_contents of <github.Repository.Repository object at 0xb21c7f10>>\n",
        "<bound method Repository.get_contents of <github.Repository.Repository object at 0xb21c7f70>>\n",
        "<bound method Repository.get_contents of <github.Repository.Repository object at 0xb21c7fd0>>\n",
        "<bound method Repository.get_contents of <github.Repository.Repository object at 0xb1fba050>>\n",
        "<bound method Repository.get_contents of <github.Repository.Repository object at 0xb1fba0b0>>\n",
        "<bound method Repository.get_contents of <github.Repository.Repository object at 0xb1fba110>>\n",
        "<bound method Repository.get_contents of <github.Repository.Repository object at 0xb1fba170>>\n",
        "<bound method Repository.get_contents of <github.Repository.Repository object at 0xb1fba1d0>>\n",
        "<bound method Repository.get_contents of <github.Repository.Repository object at 0xb1fba230>>\n",
        "<bound method Repository.get_contents of <github.Repository.Repository object at 0xb1fba290>>\n",
        "<bound method Repository.get_contents of <github.Repository.Repository object at 0xb1fba2f0>>\n",
        "<bound method Repository.get_contents of <github.Repository.Repository object at 0xb1fba350>>\n",
        "<bound method Repository.get_contents of <github.Repository.Repository object at 0xb1fba3b0>>\n",
        "<bound method Repository.get_contents of <github.Repository.Repository object at 0xb1fba410>>\n",
        "<bound method Repository.get_contents of <github.Repository.Repository object at 0xb1fba470>>\n",
        "<bound method Repository.get_contents of <github.Repository.Repository object at 0xb1fba4d0>>\n",
        "<bound method Repository.get_contents of <github.Repository.Repository object at 0xb1fba530>>\n",
        "<bound method Repository.get_contents of <github.Repository.Repository object at 0xb1fba590>>\n",
        "<bound method Repository.get_contents of <github.Repository.Repository object at 0xb1fba5f0>>\n",
        "<bound method Repository.get_contents of <github.Repository.Repository object at 0xb1fba650>>\n",
        "<bound method Repository.get_contents of <github.Repository.Repository object at 0xb1fba6b0>>\n",
        "<bound method Repository.get_contents of <github.Repository.Repository object at 0xb1fba710>>\n",
        "<bound method Repository.get_contents of <github.Repository.Repository object at 0xb1fba8f0>>\n",
        "<bound method Repository.get_contents of <github.Repository.Repository object at 0xb2121550>>\n",
        "<bound method Repository.get_contents of <github.Repository.Repository object at 0xb2121650>>\n",
        "<bound method Repository.get_contents of <github.Repository.Repository object at 0xb2121670>>\n",
        "<bound method Repository.get_contents of <github.Repository.Repository object at 0xb1f83810>>\n",
        "<bound method Repository.get_contents of <github.Repository.Repository object at 0xb2349310>>\n",
        "<bound method Repository.get_contents of <github.Repository.Repository object at 0xb2121750>>\n",
        "<bound method Repository.get_contents of <github.Repository.Repository object at 0xb21216f0>>\n",
        "<bound method Repository.get_contents of <github.Repository.Repository object at 0xb21217b0>>\n",
        "<bound method Repository.get_contents of <github.Repository.Repository object at 0xb2121850>>\n",
        "<bound method Repository.get_contents of <github.Repository.Repository object at 0xb21217f0>>\n",
        "<bound method Repository.get_contents of <github.Repository.Repository object at 0xb2121910>>\n",
        "<bound method Repository.get_contents of <github.Repository.Repository object at 0xb21218b0>>\n",
        "<bound method Repository.get_contents of <github.Repository.Repository object at 0xb21219f0>>\n",
        "<bound method Repository.get_contents of <github.Repository.Repository object at 0xb2121990>>\n",
        "<bound method Repository.get_contents of <github.Repository.Repository object at 0xb2121b10>>\n",
        "<bound method Repository.get_contents of <github.Repository.Repository object at 0xb47920b0>>\n",
        "<bound method Repository.get_contents of <github.Repository.Repository object at 0xb1f83550>>\n",
        "<bound method Repository.get_contents of <github.Repository.Repository object at 0xb1f83ef0>>\n",
        "<bound method Repository.get_contents of <github.Repository.Repository object at 0xb6aefb50>>\n",
        "<bound method Repository.get_contents of <github.Repository.Repository object at 0xb2121b90>>\n",
        "<bound method Repository.get_contents of <github.Repository.Repository object at 0xb2121b30>>\n",
        "<bound method Repository.get_contents of <github.Repository.Repository object at 0xb2121cd0>>\n",
        "<bound method Repository.get_contents of <github.Repository.Repository object at 0xb2121c50>>\n",
        "<bound method Repository.get_contents of <github.Repository.Repository object at 0xb2121d70>>\n",
        "<bound method Repository.get_contents of <github.Repository.Repository object at 0xb1ff4310>>\n",
        "<bound method Repository.get_contents of <github.Repository.Repository object at 0xb1ff4330>>\n",
        "<bound method Repository.get_contents of <github.Repository.Repository object at 0xb1ff43f0>>\n",
        "<bound method Repository.get_contents of <github.Repository.Repository object at 0xb1ff4230>>\n",
        "<bound method Repository.get_contents of <github.Repository.Repository object at 0xb1ff4290>>\n",
        "<bound method Repository.get_contents of <github.Repository.Repository object at 0xb1ff4190>>\n",
        "<bound method Repository.get_contents of <github.Repository.Repository object at 0xb2092550>>\n",
        "<bound method Repository.get_contents of <github.Repository.Repository object at 0xb20925f0>>\n",
        "<bound method Repository.get_contents of <github.Repository.Repository object at 0xb2092610>>\n",
        "<bound method Repository.get_contents of <github.Repository.Repository object at 0xb2092670>>\n",
        "<bound method Repository.get_contents of <github.Repository.Repository object at 0xb20926d0>>\n",
        "<bound method Repository.get_contents of <github.Repository.Repository object at 0xb2092730>>\n",
        "<bound method Repository.get_contents of <github.Repository.Repository object at 0xb2092790>>\n",
        "<bound method Repository.get_contents of <github.Repository.Repository object at 0xb20927f0>>\n",
        "<bound method Repository.get_contents of <github.Repository.Repository object at 0xb2092850>>\n",
        "<bound method Repository.get_contents of <github.Repository.Repository object at 0xb20928b0>>\n",
        "<bound method Repository.get_contents of <github.Repository.Repository object at 0xb2092910>>\n",
        "<bound method Repository.get_contents of <github.Repository.Repository object at 0xb2092970>>\n",
        "<bound method Repository.get_contents of <github.Repository.Repository object at 0xb20929d0>>\n",
        "<bound method Repository.get_contents of <github.Repository.Repository object at 0xb2092a30>>\n",
        "<bound method Repository.get_contents of <github.Repository.Repository object at 0xb2092a90>>\n",
        "<bound method Repository.get_contents of <github.Repository.Repository object at 0xb2092af0>>\n",
        "<bound method Repository.get_contents of <github.Repository.Repository object at 0xb2092b50>>\n",
        "<bound method Repository.get_contents of <github.Repository.Repository object at 0xb2092bb0>>\n",
        "<bound method Repository.get_contents of <github.Repository.Repository object at 0xb2092c10>>\n",
        "<bound method Repository.get_contents of <github.Repository.Repository object at 0xb2092c70>>\n",
        "<bound method Repository.get_contents of <github.Repository.Repository object at 0xb2092cd0>>\n",
        "<bound method Repository.get_contents of <github.Repository.Repository object at 0xb2092d30>>\n",
        "<bound method Repository.get_contents of <github.Repository.Repository object at 0xb2092d90>>\n",
        "<bound method Repository.get_contents of <github.Repository.Repository object at 0xb2092df0>>\n",
        "<bound method Repository.get_contents of <github.Repository.Repository object at 0xb2092e50>>\n",
        "<bound method Repository.get_contents of <github.Repository.Repository object at 0xb2092eb0>>\n",
        "<bound method Repository.get_contents of <github.Repository.Repository object at 0xb2092f10>>\n",
        "<bound method Repository.get_contents of <github.Repository.Repository object at 0xb2092f70>>\n",
        "<bound method Repository.get_contents of <github.Repository.Repository object at 0xb2092fd0>>\n",
        "<bound method Repository.get_contents of <github.Repository.Repository object at 0xb2267050>>\n",
        "<bound method Repository.get_contents of <github.Repository.Repository object at 0xb21c7c10>>\n",
        "<bound method Repository.get_contents of <github.Repository.Repository object at 0xb21c7cb0>>\n",
        "<bound method Repository.get_contents of <github.Repository.Repository object at 0xb21c7cd0>>\n",
        "<bound method Repository.get_contents of <github.Repository.Repository object at 0xb21c7d30>>\n",
        "<bound method Repository.get_contents of <github.Repository.Repository object at 0xb21c7d90>>\n",
        "<bound method Repository.get_contents of <github.Repository.Repository object at 0xb21c7df0>>\n",
        "<bound method Repository.get_contents of <github.Repository.Repository object at 0xb21c7e50>>\n",
        "<bound method Repository.get_contents of <github.Repository.Repository object at 0xb21c7eb0>>\n",
        "<bound method Repository.get_contents of <github.Repository.Repository object at 0xb21c7f10>>\n",
        "<bound method Repository.get_contents of <github.Repository.Repository object at 0xb21c7f70>>\n",
        "<bound method Repository.get_contents of <github.Repository.Repository object at 0xb21c7fd0>>\n",
        "<bound method Repository.get_contents of <github.Repository.Repository object at 0xb1fba050>>\n",
        "<bound method Repository.get_contents of <github.Repository.Repository object at 0xb1fba0b0>>\n",
        "<bound method Repository.get_contents of <github.Repository.Repository object at 0xb1fba110>>\n",
        "<bound method Repository.get_contents of <github.Repository.Repository object at 0xb1fba170>>\n",
        "<bound method Repository.get_contents of <github.Repository.Repository object at 0xb1fba1d0>>\n",
        "<bound method Repository.get_contents of <github.Repository.Repository object at 0xb1fba230>>\n",
        "<bound method Repository.get_contents of <github.Repository.Repository object at 0xb1fba290>>\n",
        "<bound method Repository.get_contents of <github.Repository.Repository object at 0xb1fba2f0>>\n",
        "<bound method Repository.get_contents of <github.Repository.Repository object at 0xb1fba350>>\n",
        "<bound method Repository.get_contents of <github.Repository.Repository object at 0xb1fba3b0>>\n",
        "<bound method Repository.get_contents of <github.Repository.Repository object at 0xb1fba410>>\n",
        "<bound method Repository.get_contents of <github.Repository.Repository object at 0xb1fba470>>\n",
        "<bound method Repository.get_contents of <github.Repository.Repository object at 0xb1fba4d0>>\n",
        "<bound method Repository.get_contents of <github.Repository.Repository object at 0xb1fba530>>\n",
        "<bound method Repository.get_contents of <github.Repository.Repository object at 0xb1fba590>>\n",
        "<bound method Repository.get_contents of <github.Repository.Repository object at 0xb1fba5f0>>\n",
        "<bound method Repository.get_contents of <github.Repository.Repository object at 0xb1fba650>>\n",
        "<bound method Repository.get_contents of <github.Repository.Repository object at 0xb1fba6b0>>\n",
        "<bound method Repository.get_contents of <github.Repository.Repository object at 0xb1fba710>>\n",
        "<bound method Repository.get_contents of <github.Repository.Repository object at 0xb1fba8f0>>\n"
       ]
      }
     ],
     "prompt_number": 109
    },
    {
     "cell_type": "code",
     "collapsed": false,
     "input": [
      " "
     ],
     "language": "python",
     "metadata": {},
     "outputs": [],
     "prompt_number": 109
    },
    {
     "cell_type": "code",
     "collapsed": false,
     "input": [
      "#for repz in repocom:\n",
      "#    print repoz.ssh_url"
     ],
     "language": "python",
     "metadata": {},
     "outputs": [],
     "prompt_number": 110
    },
    {
     "cell_type": "code",
     "collapsed": false,
     "input": [
      "for repoit in repolisx:\n",
      "    print repoit"
     ],
     "language": "python",
     "metadata": {},
     "outputs": [
      {
       "output_type": "stream",
       "stream": "stdout",
       "text": [
        "4chan-API\n",
        "adypy\n",
        "anim_framework\n",
        "art-lastfm\n",
        "artcontrol-api\n",
        "AsylumJamCrushGame\n",
        "autopaintpy123\n",
        "bacongamejam05\n",
        "battlenet\n",
        "bbc2wp\n",
        "bgj05-hungry\n",
        "BirdCage\n",
        "brobeur-static\n",
        "brobeur-web\n",
        "BroBeurFishingDream\n",
        "broLove\n",
        "clint\n",
        "cobal.eportfolio\n",
        "compohub\n",
        "DailyProgBot\n",
        "DeltaBot\n",
        "dockerfiles\n",
        "flask\n",
        "flask-ghpages-example\n",
        "ggj14\n",
        "hackage-server\n",
        "hamiltoncomputerclub.org.nz\n",
        "haskell-learn\n",
        "HTML5-Tiny\n",
        "html5lib-python\n",
        "iamagamer\n",
        "ihaskell-notebook\n",
        "imgur-python\n",
        "intercity\n",
        "intro_programming\n",
        "ipython\n",
        "ipython-docker\n",
        "ipython-hydra\n",
        "LD48-Skins\n",
        "marshmallow\n",
        "massive-wright\n",
        "Minecraft\n",
        "miniprojects\n",
        "molyjam2013\n",
        "niketa\n",
        "openbay\n",
        "opencompetencies\n",
        "openfaux-server\n",
        "ouya-unity-plugin\n",
        "paintingautopy\n",
        "pithos\n",
        "prodo-game\n",
        "Projects\n",
        "puphpet\n",
        "pyatakl\n",
        "pybackupz\n",
        "pyladies\n",
        "pymel\n",
        "python-guide\n",
        "python-pandora\n",
        "python-patterns\n",
        "pytm\n",
        "pyunderdog\n",
        "pywp-post\n",
        "raspi\n",
        "RasPiWrite\n",
        "RedditPress\n",
        "reddit_bot\n",
        "redtube\n",
        "render-useful\n",
        "RPIO\n",
        "selfspy\n",
        "SketchDaily-GestureDrawing\n",
        "skins\n",
        "SortPictures\n",
        "SoundWall\n",
        "SuburbNightmare\n",
        "te-whare-o-te-ata\n",
        "TPB\n",
        "Triger\n",
        "tweepy\n",
        "UnityLuaIntegration\n",
        "vagrantboxes-heroku\n",
        "vIPer\n",
        "wcmckee\n",
        "wcmckee-notebook\n",
        "wcmckee.com\n",
        "wcmckee.github.io\n",
        "wcmStringPY\n",
        "wirepil\n",
        "xboxdrv\n"
       ]
      }
     ],
     "prompt_number": 111
    },
    {
     "cell_type": "code",
     "collapsed": false,
     "input": [
      "repolisx"
     ],
     "language": "python",
     "metadata": {},
     "outputs": [
      {
       "metadata": {},
       "output_type": "pyout",
       "prompt_number": 112,
       "text": [
        "[u'4chan-API',\n",
        " u'adypy',\n",
        " u'anim_framework',\n",
        " u'art-lastfm',\n",
        " u'artcontrol-api',\n",
        " u'AsylumJamCrushGame',\n",
        " u'autopaintpy123',\n",
        " u'bacongamejam05',\n",
        " u'battlenet',\n",
        " u'bbc2wp',\n",
        " u'bgj05-hungry',\n",
        " u'BirdCage',\n",
        " u'brobeur-static',\n",
        " u'brobeur-web',\n",
        " u'BroBeurFishingDream',\n",
        " u'broLove',\n",
        " u'clint',\n",
        " u'cobal.eportfolio',\n",
        " u'compohub',\n",
        " u'DailyProgBot',\n",
        " u'DeltaBot',\n",
        " u'dockerfiles',\n",
        " u'flask',\n",
        " u'flask-ghpages-example',\n",
        " u'ggj14',\n",
        " u'hackage-server',\n",
        " u'hamiltoncomputerclub.org.nz',\n",
        " u'haskell-learn',\n",
        " u'HTML5-Tiny',\n",
        " u'html5lib-python',\n",
        " u'iamagamer',\n",
        " u'ihaskell-notebook',\n",
        " u'imgur-python',\n",
        " u'intercity',\n",
        " u'intro_programming',\n",
        " u'ipython',\n",
        " u'ipython-docker',\n",
        " u'ipython-hydra',\n",
        " u'LD48-Skins',\n",
        " u'marshmallow',\n",
        " u'massive-wright',\n",
        " u'Minecraft',\n",
        " u'miniprojects',\n",
        " u'molyjam2013',\n",
        " u'niketa',\n",
        " u'openbay',\n",
        " u'opencompetencies',\n",
        " u'openfaux-server',\n",
        " u'ouya-unity-plugin',\n",
        " u'paintingautopy',\n",
        " u'pithos',\n",
        " u'prodo-game',\n",
        " u'Projects',\n",
        " u'puphpet',\n",
        " u'pyatakl',\n",
        " u'pybackupz',\n",
        " u'pyladies',\n",
        " u'pymel',\n",
        " u'python-guide',\n",
        " u'python-pandora',\n",
        " u'python-patterns',\n",
        " u'pytm',\n",
        " u'pyunderdog',\n",
        " u'pywp-post',\n",
        " u'raspi',\n",
        " u'RasPiWrite',\n",
        " u'RedditPress',\n",
        " u'reddit_bot',\n",
        " u'redtube',\n",
        " u'render-useful',\n",
        " u'RPIO',\n",
        " u'selfspy',\n",
        " u'SketchDaily-GestureDrawing',\n",
        " u'skins',\n",
        " u'SortPictures',\n",
        " u'SoundWall',\n",
        " u'SuburbNightmare',\n",
        " u'te-whare-o-te-ata',\n",
        " u'TPB',\n",
        " u'Triger',\n",
        " u'tweepy',\n",
        " u'UnityLuaIntegration',\n",
        " u'vagrantboxes-heroku',\n",
        " u'vIPer',\n",
        " u'wcmckee',\n",
        " u'wcmckee-notebook',\n",
        " u'wcmckee.com',\n",
        " u'wcmckee.github.io',\n",
        " u'wcmStringPY',\n",
        " u'wirepil',\n",
        " u'xboxdrv']"
       ]
      }
     ],
     "prompt_number": 112
    },
    {
     "cell_type": "code",
     "collapsed": false,
     "input": [
      "homlaz = ('/var/host/media/removable/USB Drive/')"
     ],
     "language": "python",
     "metadata": {},
     "outputs": [],
     "prompt_number": 113
    },
    {
     "cell_type": "code",
     "collapsed": false,
     "input": [
      "#opgitp = open('gitp.txt', 'r')"
     ],
     "language": "python",
     "metadata": {},
     "outputs": [],
     "prompt_number": 114
    },
    {
     "cell_type": "code",
     "collapsed": false,
     "input": [
      "#os.mkdir('wcmckee-git')"
     ],
     "language": "python",
     "metadata": {},
     "outputs": [],
     "prompt_number": 115
    },
    {
     "cell_type": "code",
     "collapsed": false,
     "input": [
      "gitdir = (homlaz + 'wcmckee-git')"
     ],
     "language": "python",
     "metadata": {},
     "outputs": [],
     "prompt_number": 116
    },
    {
     "cell_type": "code",
     "collapsed": false,
     "input": [
      "#_LOKDD"
     ],
     "language": "python",
     "metadata": {},
     "outputs": [],
     "prompt_number": 117
    },
    {
     "cell_type": "code",
     "collapsed": false,
     "input": [
      "#rpa"
     ],
     "language": "python",
     "metadata": {},
     "outputs": [],
     "prompt_number": 118
    },
    {
     "cell_type": "code",
     "collapsed": false,
     "input": [
      "os.chdir(gitdir)"
     ],
     "language": "python",
     "metadata": {},
     "outputs": [],
     "prompt_number": 119
    },
    {
     "cell_type": "code",
     "collapsed": false,
     "input": [
      "dirlis = os.listdir(gitdir)"
     ],
     "language": "python",
     "metadata": {},
     "outputs": [],
     "prompt_number": 120
    },
    {
     "cell_type": "code",
     "collapsed": false,
     "input": [
      "dirme = set(dirlis) - set(repolisx)"
     ],
     "language": "python",
     "metadata": {},
     "outputs": [],
     "prompt_number": 121
    },
    {
     "cell_type": "code",
     "collapsed": false,
     "input": [
      "dirout = set(repolisx) - set(dirlis)"
     ],
     "language": "python",
     "metadata": {},
     "outputs": [],
     "prompt_number": 122
    },
    {
     "cell_type": "code",
     "collapsed": false,
     "input": [
      "for dirz in dirout:\n",
      "    print dirz"
     ],
     "language": "python",
     "metadata": {},
     "outputs": [
      {
       "output_type": "stream",
       "stream": "stdout",
       "text": [
        "RasPiWrite\n",
        "wcmckee.github.io\n",
        "ggj14\n",
        "flask\n",
        "4chan-API\n",
        "BroBeurFishingDream\n",
        "art-lastfm\n",
        "pywp-post\n",
        "flask-ghpages-example\n",
        "TPB\n",
        "autopaintpy123\n",
        "broLove\n",
        "wcmckee-notebook\n",
        "wirepil\n",
        "dockerfiles\n",
        "SketchDaily-GestureDrawing\n",
        "SoundWall\n",
        "te-whare-o-te-ata\n",
        "SortPictures\n",
        "cobal.eportfolio\n",
        "intro_programming\n",
        "python-guide\n",
        "pyunderdog\n",
        "skins\n",
        "ouya-unity-plugin\n",
        "adypy\n",
        "pybackupz\n",
        "selfspy\n",
        "niketa\n",
        "Projects\n",
        "wcmckee\n",
        "bgj05-hungry\n",
        "BirdCage\n",
        "iamagamer\n",
        "ipython\n",
        "redtube\n",
        "imgur-python\n",
        "paintingautopy\n",
        "brobeur-web\n",
        "molyjam2013\n",
        "prodo-game\n",
        "reddit_bot\n",
        "DeltaBot\n",
        "marshmallow\n",
        "ipython-hydra\n",
        "compohub\n",
        "pyladies\n",
        "python-patterns\n",
        "hackage-server\n",
        "pithos\n",
        "bbc2wp\n",
        "vIPer\n",
        "Triger\n",
        "RedditPress\n",
        "tweepy\n",
        "pytm\n",
        "anim_framework\n",
        "openbay\n",
        "HTML5-Tiny\n",
        "artcontrol-api\n",
        "miniprojects\n",
        "SuburbNightmare\n",
        "raspi\n",
        "UnityLuaIntegration\n",
        "ipython-docker\n",
        "intercity\n",
        "puphpet\n",
        "DailyProgBot\n",
        "pymel\n",
        "brobeur-static\n",
        "clint\n",
        "bacongamejam05\n",
        "wcmckee.com\n",
        "wcmStringPY\n",
        "RPIO\n",
        "html5lib-python\n",
        "render-useful\n",
        "vagrantboxes-heroku\n",
        "python-pandora\n",
        "LD48-Skins\n",
        "hamiltoncomputerclub.org.nz\n",
        "battlenet\n",
        "haskell-learn\n",
        "Minecraft\n",
        "openfaux-server\n",
        "AsylumJamCrushGame\n",
        "xboxdrv\n",
        "massive-wright\n",
        "ihaskell-notebook\n",
        "opencompetencies\n",
        "pyatakl\n"
       ]
      }
     ],
     "prompt_number": 123
    },
    {
     "cell_type": "code",
     "collapsed": false,
     "input": [
      "dirme"
     ],
     "language": "python",
     "metadata": {},
     "outputs": [
      {
       "metadata": {},
       "output_type": "pyout",
       "prompt_number": 124,
       "text": [
        "{'4chan-API.meta',\n",
        " 'AsylumJamCrushGame.meta',\n",
        " 'BirdCage.meta',\n",
        " 'BroBeurFishingDream.meta',\n",
        " 'DailyProgBot.meta',\n",
        " 'DeltaBot.meta',\n",
        " 'HTML5-Tiny.meta',\n",
        " 'LD48-Skins.meta',\n",
        " 'Minecraft.meta',\n",
        " 'Projects.meta',\n",
        " 'RPIO.meta',\n",
        " 'RasPiWrite.meta',\n",
        " 'RedditPress.meta',\n",
        " 'SketchDaily-GestureDrawing.meta',\n",
        " 'SortPictures.meta',\n",
        " 'SoundWall.meta',\n",
        " 'SuburbNightmare.meta',\n",
        " 'TPB.meta',\n",
        " 'Triger.meta',\n",
        " 'UnityLuaIntegration.meta',\n",
        " 'adypy.meta',\n",
        " 'anim_framework.meta',\n",
        " 'art-lastfm.meta',\n",
        " 'artcontrol-api.meta',\n",
        " 'autopaintpy123.meta',\n",
        " 'bacongamejam05.meta',\n",
        " 'battlenet.meta',\n",
        " 'bbc2wp.meta',\n",
        " 'bgj05-hungry.meta',\n",
        " 'broLove.meta',\n",
        " 'brobeur-static.meta',\n",
        " 'brobeur-web.meta',\n",
        " 'clint.meta',\n",
        " 'cobal.eportfolio.meta',\n",
        " 'compohub.meta',\n",
        " 'dockerfiles.meta',\n",
        " 'flask-ghpages-example.meta',\n",
        " 'flask.meta',\n",
        " 'ggj14.meta',\n",
        " 'hackage-server.meta',\n",
        " 'hamiltoncomputerclub.org.nz.meta',\n",
        " 'haskell-learn.meta',\n",
        " 'html5lib-python.meta',\n",
        " 'iamagamer.meta',\n",
        " 'ihaskell-notebook.meta',\n",
        " 'imgur-python.meta',\n",
        " 'intercity.meta',\n",
        " 'intro_programming.meta',\n",
        " 'ipython-docker.meta',\n",
        " 'ipython-hydra.meta',\n",
        " 'ipython.meta',\n",
        " 'marshmallow.meta',\n",
        " 'massive-wright.meta',\n",
        " 'miniprojects.meta',\n",
        " 'molyjam2013.meta',\n",
        " 'niketa.meta',\n",
        " 'openbay.meta',\n",
        " 'opencompetencies.meta',\n",
        " 'openfaux-server.meta',\n",
        " 'ouya-unity-plugin.meta',\n",
        " 'paintingautopy.meta',\n",
        " 'pithos.meta',\n",
        " 'prodo-game.meta',\n",
        " 'puphpet.meta',\n",
        " 'pyatakl.meta',\n",
        " 'pybackupz.meta',\n",
        " 'pyladies.meta',\n",
        " 'pymel.meta',\n",
        " 'python-guide.meta',\n",
        " 'python-pandora.meta',\n",
        " 'python-patterns.meta',\n",
        " 'pytm.meta',\n",
        " 'pyunderdog.meta',\n",
        " 'pywp-post.meta',\n",
        " 'raspi.meta',\n",
        " 'reddit_bot.meta',\n",
        " 'redtube.meta',\n",
        " 'render-useful.meta',\n",
        " 'selfspy.meta',\n",
        " 'skins.meta',\n",
        " 'te-whare-o-te-ata.meta',\n",
        " 'tweepy.meta',\n",
        " 'vIPer.meta',\n",
        " 'vagrantboxes-heroku.meta',\n",
        " 'wcmStringPY.meta',\n",
        " 'wcmckee-notebook.meta',\n",
        " 'wcmckee.com.meta',\n",
        " 'wcmckee.github.io.meta',\n",
        " 'wcmckee.meta',\n",
        " 'wirepil.meta',\n",
        " 'xboxdrv.meta'}"
       ]
      }
     ],
     "prompt_number": 124
    },
    {
     "cell_type": "code",
     "collapsed": false,
     "input": [
      "merglis = set(dirlis) & set(repolisx)"
     ],
     "language": "python",
     "metadata": {},
     "outputs": [],
     "prompt_number": 125
    },
    {
     "cell_type": "code",
     "collapsed": false,
     "input": [],
     "language": "python",
     "metadata": {},
     "outputs": [],
     "prompt_number": 128
    },
    {
     "cell_type": "code",
     "collapsed": false,
     "input": [
      "repolisx"
     ],
     "language": "python",
     "metadata": {},
     "outputs": [
      {
       "metadata": {},
       "output_type": "pyout",
       "prompt_number": 129,
       "text": [
        "[u'4chan-API',\n",
        " u'adypy',\n",
        " u'anim_framework',\n",
        " u'art-lastfm',\n",
        " u'artcontrol-api',\n",
        " u'AsylumJamCrushGame',\n",
        " u'autopaintpy123',\n",
        " u'bacongamejam05',\n",
        " u'battlenet',\n",
        " u'bbc2wp',\n",
        " u'bgj05-hungry',\n",
        " u'BirdCage',\n",
        " u'brobeur-static',\n",
        " u'brobeur-web',\n",
        " u'BroBeurFishingDream',\n",
        " u'broLove',\n",
        " u'clint',\n",
        " u'cobal.eportfolio',\n",
        " u'compohub',\n",
        " u'DailyProgBot',\n",
        " u'DeltaBot',\n",
        " u'dockerfiles',\n",
        " u'flask',\n",
        " u'flask-ghpages-example',\n",
        " u'ggj14',\n",
        " u'hackage-server',\n",
        " u'hamiltoncomputerclub.org.nz',\n",
        " u'haskell-learn',\n",
        " u'HTML5-Tiny',\n",
        " u'html5lib-python',\n",
        " u'iamagamer',\n",
        " u'ihaskell-notebook',\n",
        " u'imgur-python',\n",
        " u'intercity',\n",
        " u'intro_programming',\n",
        " u'ipython',\n",
        " u'ipython-docker',\n",
        " u'ipython-hydra',\n",
        " u'LD48-Skins',\n",
        " u'marshmallow',\n",
        " u'massive-wright',\n",
        " u'Minecraft',\n",
        " u'miniprojects',\n",
        " u'molyjam2013',\n",
        " u'niketa',\n",
        " u'openbay',\n",
        " u'opencompetencies',\n",
        " u'openfaux-server',\n",
        " u'ouya-unity-plugin',\n",
        " u'paintingautopy',\n",
        " u'pithos',\n",
        " u'prodo-game',\n",
        " u'Projects',\n",
        " u'puphpet',\n",
        " u'pyatakl',\n",
        " u'pybackupz',\n",
        " u'pyladies',\n",
        " u'pymel',\n",
        " u'python-guide',\n",
        " u'python-pandora',\n",
        " u'python-patterns',\n",
        " u'pytm',\n",
        " u'pyunderdog',\n",
        " u'pywp-post',\n",
        " u'raspi',\n",
        " u'RasPiWrite',\n",
        " u'RedditPress',\n",
        " u'reddit_bot',\n",
        " u'redtube',\n",
        " u'render-useful',\n",
        " u'RPIO',\n",
        " u'selfspy',\n",
        " u'SketchDaily-GestureDrawing',\n",
        " u'skins',\n",
        " u'SortPictures',\n",
        " u'SoundWall',\n",
        " u'SuburbNightmare',\n",
        " u'te-whare-o-te-ata',\n",
        " u'TPB',\n",
        " u'Triger',\n",
        " u'tweepy',\n",
        " u'UnityLuaIntegration',\n",
        " u'vagrantboxes-heroku',\n",
        " u'vIPer',\n",
        " u'wcmckee',\n",
        " u'wcmckee-notebook',\n",
        " u'wcmckee.com',\n",
        " u'wcmckee.github.io',\n",
        " u'wcmStringPY',\n",
        " u'wirepil',\n",
        " u'xboxdrv']"
       ]
      }
     ],
     "prompt_number": 129
    },
    {
     "cell_type": "code",
     "collapsed": false,
     "input": [
      "for repoit in repolisx:\n",
      "    print repoit\n",
      "    os.system('git clone https://github.com/wcmckee/' + repoit)\n",
      "    #git.Git().clone('https://github.com/wcmckee/' + repoit)"
     ],
     "language": "python",
     "metadata": {},
     "outputs": [
      {
       "output_type": "stream",
       "stream": "stdout",
       "text": [
        "4chan-API\n",
        "adypy\n",
        "anim_framework"
       ]
      },
      {
       "output_type": "stream",
       "stream": "stdout",
       "text": [
        "\n",
        "art-lastfm\n",
        "artcontrol-api\n",
        "AsylumJamCrushGame"
       ]
      },
      {
       "output_type": "stream",
       "stream": "stdout",
       "text": [
        "\n",
        "autopaintpy123\n",
        "bacongamejam05\n",
        "battlenet\n",
        "bbc2wp"
       ]
      },
      {
       "output_type": "stream",
       "stream": "stdout",
       "text": [
        "\n",
        "bgj05-hungry\n",
        "BirdCage\n",
        "brobeur-static"
       ]
      },
      {
       "output_type": "stream",
       "stream": "stdout",
       "text": [
        "\n",
        "brobeur-web\n",
        "BroBeurFishingDream\n",
        "broLove"
       ]
      },
      {
       "output_type": "stream",
       "stream": "stdout",
       "text": [
        "\n",
        "clint\n",
        "cobal.eportfolio\n",
        "compohub\n",
        "DailyProgBot"
       ]
      },
      {
       "output_type": "stream",
       "stream": "stdout",
       "text": [
        "\n",
        "DeltaBot\n",
        "dockerfiles\n",
        "flask\n",
        "flask-ghpages-example"
       ]
      },
      {
       "output_type": "stream",
       "stream": "stdout",
       "text": [
        "\n",
        "ggj14\n",
        "hackage-server\n",
        "hamiltoncomputerclub.org.nz\n",
        "haskell-learn"
       ]
      },
      {
       "output_type": "stream",
       "stream": "stdout",
       "text": [
        "\n",
        "HTML5-Tiny\n",
        "html5lib-python\n",
        "iamagamer\n",
        "ihaskell-notebook"
       ]
      },
      {
       "output_type": "stream",
       "stream": "stdout",
       "text": [
        "\n",
        "imgur-python\n",
        "intercity\n",
        "intro_programming\n",
        "ipython"
       ]
      },
      {
       "output_type": "stream",
       "stream": "stdout",
       "text": [
        "\n",
        "ipython-docker\n",
        "ipython-hydra\n",
        "LD48-Skins\n",
        "marshmallow"
       ]
      },
      {
       "output_type": "stream",
       "stream": "stdout",
       "text": [
        "\n",
        "massive-wright\n",
        "Minecraft\n",
        "miniprojects"
       ]
      },
      {
       "output_type": "stream",
       "stream": "stdout",
       "text": [
        "\n",
        "molyjam2013\n",
        "niketa\n",
        "openbay\n",
        "opencompetencies"
       ]
      },
      {
       "output_type": "stream",
       "stream": "stdout",
       "text": [
        "\n",
        "openfaux-server\n",
        "ouya-unity-plugin\n",
        "paintingautopy\n",
        "pithos"
       ]
      },
      {
       "output_type": "stream",
       "stream": "stdout",
       "text": [
        "\n",
        "prodo-game\n",
        "Projects\n",
        "puphpet\n",
        "pyatakl"
       ]
      },
      {
       "output_type": "stream",
       "stream": "stdout",
       "text": [
        "\n",
        "pybackupz\n",
        "pyladies\n",
        "pymel\n",
        "python-guide"
       ]
      },
      {
       "output_type": "stream",
       "stream": "stdout",
       "text": [
        "\n",
        "python-pandora\n",
        "python-patterns\n",
        "pytm\n",
        "pyunderdog"
       ]
      },
      {
       "output_type": "stream",
       "stream": "stdout",
       "text": [
        "\n",
        "pywp-post\n",
        "raspi\n",
        "RasPiWrite\n",
        "RedditPress"
       ]
      },
      {
       "output_type": "stream",
       "stream": "stdout",
       "text": [
        "\n",
        "reddit_bot\n",
        "redtube\n",
        "render-useful\n",
        "RPIO"
       ]
      },
      {
       "output_type": "stream",
       "stream": "stdout",
       "text": [
        "\n",
        "selfspy\n",
        "SketchDaily-GestureDrawing\n",
        "skins\n",
        "SortPictures"
       ]
      },
      {
       "output_type": "stream",
       "stream": "stdout",
       "text": [
        "\n",
        "SoundWall\n",
        "SuburbNightmare\n",
        "te-whare-o-te-ata\n",
        "TPB"
       ]
      },
      {
       "output_type": "stream",
       "stream": "stdout",
       "text": [
        "\n",
        "Triger\n",
        "tweepy\n",
        "UnityLuaIntegration\n",
        "vagrantboxes-heroku"
       ]
      },
      {
       "output_type": "stream",
       "stream": "stdout",
       "text": [
        "\n",
        "vIPer\n",
        "wcmckee\n",
        "wcmckee-notebook\n",
        "wcmckee.com"
       ]
      },
      {
       "output_type": "stream",
       "stream": "stdout",
       "text": [
        "\n",
        "wcmckee.github.io\n",
        "wcmStringPY\n",
        "wirepil"
       ]
      },
      {
       "output_type": "stream",
       "stream": "stdout",
       "text": [
        "\n",
        "xboxdrv\n"
       ]
      }
     ],
     "prompt_number": 130
    },
    {
     "cell_type": "code",
     "collapsed": false,
     "input": [
      "pwd"
     ],
     "language": "python",
     "metadata": {},
     "outputs": [
      {
       "metadata": {},
       "output_type": "pyout",
       "prompt_number": 131,
       "text": [
        "u'(unreachable)/wcmckee-git'"
       ]
      }
     ],
     "prompt_number": 131
    },
    {
     "cell_type": "code",
     "collapsed": false,
     "input": [
      "ls"
     ],
     "language": "python",
     "metadata": {},
     "outputs": [],
     "prompt_number": 132
    },
    {
     "cell_type": "code",
     "collapsed": false,
     "input": [],
     "language": "python",
     "metadata": {},
     "outputs": []
    }
   ],
   "metadata": {}
  }
 ]
}