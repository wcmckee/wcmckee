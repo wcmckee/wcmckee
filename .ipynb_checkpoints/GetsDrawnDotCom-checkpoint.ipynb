{
 "metadata": {
  "name": "",
  "signature": "sha256:7e856de96b234caea8baf9e167b2e8cad0e1fed4699218fedc21e6aaff12baad"
 },
 "nbformat": 3,
 "nbformat_minor": 0,
 "worksheets": [
  {
   "cells": [
    {
     "cell_type": "markdown",
     "metadata": {},
     "source": [
      "<h1>GetsDrawn DotCom</h1>"
     ]
    },
    {
     "cell_type": "markdown",
     "metadata": {},
     "source": [
      "This is a python script to generate the website GetsDrawn. It takes data from /r/RedditGetsDrawn and makes something awesome.\n",
      "\n",
      "The script has envolved and been rewritten several times. \n",
      "\n",
      "The first script for rgdsnatch was written after I got banned from posting my artwork on /r/RedditGetsDrawn. The plan was to create a new site that displayed stuff from /r/RedditGetsDrawn. \n",
      "\n",
      "Currently it only displays the most recent 25 items on redditgetsdrawn.\n",
      "\n",
      "This is moving forward from rgdsnatch.py because I am stuck on it.  \n",
      "\n",
      "TODO\n",
      "\n",
      "Fix the links that don't link to png/jpeg and link to webaddress. \n",
      "Needs to get the images that are at that web address and embed them.\n",
      "\n",
      "Display artwork submitted under the images. \n",
      "\n",
      "Upload artwork to user. Sends them a message on redditgetsdrawn with links. \n",
      "\n",
      "More pandas"
     ]
    },
    {
     "cell_type": "code",
     "collapsed": false,
     "input": [
      "import os \n",
      "import requests\n",
      "from bs4 import BeautifulSoup\n",
      "import re\n",
      "import json\n",
      "import time\n",
      "import praw\n",
      "import dominate\n",
      "from dominate.tags import * \n",
      "from time import gmtime, strftime\n",
      "#import nose\n",
      "#import unittest\n",
      "import numpy as np\n",
      "import pandas as pd\n",
      "from pandas import *\n",
      "import pyttsx"
     ],
     "language": "python",
     "metadata": {},
     "outputs": [],
     "prompt_number": 151
    },
    {
     "cell_type": "code",
     "collapsed": false,
     "input": [
      "gtsdrndir = ('/home/wcmckee/getsdrawndotcom')"
     ],
     "language": "python",
     "metadata": {},
     "outputs": [],
     "prompt_number": 128
    },
    {
     "cell_type": "code",
     "collapsed": false,
     "input": [
      "os.chdir(gtsdrndir)"
     ],
     "language": "python",
     "metadata": {},
     "outputs": [],
     "prompt_number": 129
    },
    {
     "cell_type": "code",
     "collapsed": false,
     "input": [
      "r = praw.Reddit(user_agent='getsdrawndotcom')"
     ],
     "language": "python",
     "metadata": {},
     "outputs": [],
     "prompt_number": 130
    },
    {
     "cell_type": "code",
     "collapsed": false,
     "input": [
      "getmin = r.get_redditor('itwillbemine')"
     ],
     "language": "python",
     "metadata": {},
     "outputs": [],
     "prompt_number": 131
    },
    {
     "cell_type": "code",
     "collapsed": false,
     "input": [
      "mincom = getmin.get_comments()"
     ],
     "language": "python",
     "metadata": {},
     "outputs": [],
     "prompt_number": 132
    },
    {
     "cell_type": "code",
     "collapsed": false,
     "input": [
      "shtweet = []"
     ],
     "language": "python",
     "metadata": {},
     "outputs": [],
     "prompt_number": 133
    },
    {
     "cell_type": "code",
     "collapsed": false,
     "input": [
      "for mi in mincom:\n",
      "    print mi\n",
      "    shtweet.append(mi)"
     ],
     "language": "python",
     "metadata": {},
     "outputs": [
      {
       "output_type": "stream",
       "stream": "stdout",
       "text": [
        "Very understandable, it happens! Glad you found this one interesting. :)\n",
        "Whoops! That's a glitch with our bot. My apologies. Your post is visible.\n",
        "You could try again with a photo of her, if you want. That would be allowed.\n",
        "Correct. The only pets you can post in RGD are your own. And please do not tr...\n",
        "You broke our frequent posting rule:\n",
        "\n",
        "http://www.reddit.com/r/redditgetsdrawn...\n",
        "[Canadian apologies? Those are my favorites!](http://i.imgur.com/S7ElA.gif)\n",
        "\n",
        "...\n",
        "We don't allow advertising in this sub, so at the very least, please repost w...\n",
        "Your post was removed for having an unclear title. Please review our sub rules.\n",
        "Your post was removed. Please see our list of approved relationships.\n",
        "Your comment was removed. Please read the rules of the sub before participati...\n",
        "Your comment was removed for not containing art. Please read the rules of the...\n",
        "Your comment was removed for not containing art. Please read the rules of the...\n",
        "[Holy moly! I love it!](http://i.imgur.com/gZSvfCq.jpg)\n",
        "Great job! Per our rules, however, please do not comment on appearance. Thanks!\n",
        "I don't really like that phrase, even in jest.\n",
        "www.imgur.com/7gtttE1\n",
        "\n",
        "\n",
        "Link for the lazy\n",
        "[Yayuss!](http://i.imgur.com/2ePsr2x.gif)\n",
        "[Niiiiice!](http://media.giphy.com/media/EldfH1VJdbrwY/giphy.gif)\n",
        "Welcome to the sub! :)\n",
        "Is this a repost? I feel like I've seen this one before...\n",
        "Long time, no see! Welcome back :)\n",
        "[Yes!](http://i.imgur.com/Wtwou4f.gif) Nice take on it :)\n",
        "Great job! However, please don't comment on appearance, per our rules. Thanks!\n",
        "You were warned.\n",
        "[It's too beautiful](http://i.imgur.com/jDgf3JE.gif)\n"
       ]
      }
     ],
     "prompt_number": 134
    },
    {
     "cell_type": "code",
     "collapsed": false,
     "input": [
      "bodycom = []\n",
      "bodyicv = dict()"
     ],
     "language": "python",
     "metadata": {},
     "outputs": [],
     "prompt_number": 135
    },
    {
     "cell_type": "code",
     "collapsed": false,
     "input": [
      "engine = pyttsx.init()\n",
      "\n",
      "beginz = pyttsx.init()"
     ],
     "language": "python",
     "metadata": {},
     "outputs": [],
     "prompt_number": 157
    },
    {
     "cell_type": "code",
     "collapsed": false,
     "input": [
      "for shtz in shtweet:\n",
      "    print shtz.downs\n",
      "    print shtz.ups\n",
      "    print shtz.body\n",
      "    print shtz.replies\n",
      "    beginz.say(shtz.author)\n",
      "    beginz.say(shtz.body)\n",
      "    engine.runAndWait()\n",
      "    bodycom.append(shtz.body)\n",
      "    #bodyic"
     ],
     "language": "python",
     "metadata": {},
     "outputs": [
      {
       "output_type": "stream",
       "stream": "stdout",
       "text": [
        "0\n",
        "1\n",
        "Very understandable, it happens! Glad you found this one interesting. :)\n",
        "[]\n"
       ]
      },
      {
       "ename": "RuntimeError",
       "evalue": "run loop already started",
       "output_type": "pyerr",
       "traceback": [
        "\u001b[1;31m---------------------------------------------------------------------------\u001b[0m\n\u001b[1;31mRuntimeError\u001b[0m                              Traceback (most recent call last)",
        "\u001b[1;32m<ipython-input-158-4f72e0558aca>\u001b[0m in \u001b[0;36m<module>\u001b[1;34m()\u001b[0m\n\u001b[0;32m      6\u001b[0m     \u001b[0mbeginz\u001b[0m\u001b[1;33m.\u001b[0m\u001b[0msay\u001b[0m\u001b[1;33m(\u001b[0m\u001b[0mshtz\u001b[0m\u001b[1;33m.\u001b[0m\u001b[0mauthor\u001b[0m\u001b[1;33m)\u001b[0m\u001b[1;33m\u001b[0m\u001b[0m\n\u001b[0;32m      7\u001b[0m     \u001b[0mbeginz\u001b[0m\u001b[1;33m.\u001b[0m\u001b[0msay\u001b[0m\u001b[1;33m(\u001b[0m\u001b[0mshtz\u001b[0m\u001b[1;33m.\u001b[0m\u001b[0mbody\u001b[0m\u001b[1;33m)\u001b[0m\u001b[1;33m\u001b[0m\u001b[0m\n\u001b[1;32m----> 8\u001b[1;33m     \u001b[0mengine\u001b[0m\u001b[1;33m.\u001b[0m\u001b[0mrunAndWait\u001b[0m\u001b[1;33m(\u001b[0m\u001b[1;33m)\u001b[0m\u001b[1;33m\u001b[0m\u001b[0m\n\u001b[0m\u001b[0;32m      9\u001b[0m     \u001b[0mbodycom\u001b[0m\u001b[1;33m.\u001b[0m\u001b[0mappend\u001b[0m\u001b[1;33m(\u001b[0m\u001b[0mshtz\u001b[0m\u001b[1;33m.\u001b[0m\u001b[0mbody\u001b[0m\u001b[1;33m)\u001b[0m\u001b[1;33m\u001b[0m\u001b[0m\n\u001b[0;32m     10\u001b[0m     \u001b[1;31m#bodyic\u001b[0m\u001b[1;33m\u001b[0m\u001b[1;33m\u001b[0m\u001b[0m\n",
        "\u001b[1;32m/usr/local/lib/python2.7/dist-packages/pyttsx/engine.pyc\u001b[0m in \u001b[0;36mrunAndWait\u001b[1;34m(self)\u001b[0m\n\u001b[0;32m    176\u001b[0m         '''\n\u001b[0;32m    177\u001b[0m         \u001b[1;32mif\u001b[0m \u001b[0mself\u001b[0m\u001b[1;33m.\u001b[0m\u001b[0m_inLoop\u001b[0m\u001b[1;33m:\u001b[0m\u001b[1;33m\u001b[0m\u001b[0m\n\u001b[1;32m--> 178\u001b[1;33m             \u001b[1;32mraise\u001b[0m \u001b[0mRuntimeError\u001b[0m\u001b[1;33m(\u001b[0m\u001b[1;34m'run loop already started'\u001b[0m\u001b[1;33m)\u001b[0m\u001b[1;33m\u001b[0m\u001b[0m\n\u001b[0m\u001b[0;32m    179\u001b[0m         \u001b[0mself\u001b[0m\u001b[1;33m.\u001b[0m\u001b[0m_inLoop\u001b[0m \u001b[1;33m=\u001b[0m \u001b[0mTrue\u001b[0m\u001b[1;33m\u001b[0m\u001b[0m\n\u001b[0;32m    180\u001b[0m         \u001b[0mself\u001b[0m\u001b[1;33m.\u001b[0m\u001b[0m_driverLoop\u001b[0m \u001b[1;33m=\u001b[0m \u001b[0mTrue\u001b[0m\u001b[1;33m\u001b[0m\u001b[0m\n",
        "\u001b[1;31mRuntimeError\u001b[0m: run loop already started"
       ]
      }
     ],
     "prompt_number": 158
    },
    {
     "cell_type": "code",
     "collapsed": false,
     "input": [
      "engine = pyttsx.init()\n",
      "voices = engine.getProperty('voices')\n",
      "for voice in voices:\n",
      "   engine.setProperty('voice', voice.id)\n",
      "   engine.say('The quick brown fox jumped over the lazy dog.')\n",
      "engine.runAndWait()\n"
     ],
     "language": "python",
     "metadata": {},
     "outputs": [
      {
       "ename": "RuntimeError",
       "evalue": "run loop already started",
       "output_type": "pyerr",
       "traceback": [
        "\u001b[1;31m---------------------------------------------------------------------------\u001b[0m\n\u001b[1;31mRuntimeError\u001b[0m                              Traceback (most recent call last)",
        "\u001b[1;32m<ipython-input-156-b48c7cef244b>\u001b[0m in \u001b[0;36m<module>\u001b[1;34m()\u001b[0m\n\u001b[0;32m      4\u001b[0m    \u001b[0mengine\u001b[0m\u001b[1;33m.\u001b[0m\u001b[0msetProperty\u001b[0m\u001b[1;33m(\u001b[0m\u001b[1;34m'voice'\u001b[0m\u001b[1;33m,\u001b[0m \u001b[0mvoice\u001b[0m\u001b[1;33m.\u001b[0m\u001b[0mid\u001b[0m\u001b[1;33m)\u001b[0m\u001b[1;33m\u001b[0m\u001b[0m\n\u001b[0;32m      5\u001b[0m    \u001b[0mengine\u001b[0m\u001b[1;33m.\u001b[0m\u001b[0msay\u001b[0m\u001b[1;33m(\u001b[0m\u001b[1;34m'The quick brown fox jumped over the lazy dog.'\u001b[0m\u001b[1;33m)\u001b[0m\u001b[1;33m\u001b[0m\u001b[0m\n\u001b[1;32m----> 6\u001b[1;33m \u001b[0mengine\u001b[0m\u001b[1;33m.\u001b[0m\u001b[0mrunAndWait\u001b[0m\u001b[1;33m(\u001b[0m\u001b[1;33m)\u001b[0m\u001b[1;33m\u001b[0m\u001b[0m\n\u001b[0m",
        "\u001b[1;32m/usr/local/lib/python2.7/dist-packages/pyttsx/engine.pyc\u001b[0m in \u001b[0;36mrunAndWait\u001b[1;34m(self)\u001b[0m\n\u001b[0;32m    176\u001b[0m         '''\n\u001b[0;32m    177\u001b[0m         \u001b[1;32mif\u001b[0m \u001b[0mself\u001b[0m\u001b[1;33m.\u001b[0m\u001b[0m_inLoop\u001b[0m\u001b[1;33m:\u001b[0m\u001b[1;33m\u001b[0m\u001b[0m\n\u001b[1;32m--> 178\u001b[1;33m             \u001b[1;32mraise\u001b[0m \u001b[0mRuntimeError\u001b[0m\u001b[1;33m(\u001b[0m\u001b[1;34m'run loop already started'\u001b[0m\u001b[1;33m)\u001b[0m\u001b[1;33m\u001b[0m\u001b[0m\n\u001b[0m\u001b[0;32m    179\u001b[0m         \u001b[0mself\u001b[0m\u001b[1;33m.\u001b[0m\u001b[0m_inLoop\u001b[0m \u001b[1;33m=\u001b[0m \u001b[0mTrue\u001b[0m\u001b[1;33m\u001b[0m\u001b[0m\n\u001b[0;32m    180\u001b[0m         \u001b[0mself\u001b[0m\u001b[1;33m.\u001b[0m\u001b[0m_driverLoop\u001b[0m \u001b[1;33m=\u001b[0m \u001b[0mTrue\u001b[0m\u001b[1;33m\u001b[0m\u001b[0m\n",
        "\u001b[1;31mRuntimeError\u001b[0m: run loop already started"
       ]
      }
     ],
     "prompt_number": 156
    },
    {
     "cell_type": "code",
     "collapsed": false,
     "input": [
      "bodycom "
     ],
     "language": "python",
     "metadata": {},
     "outputs": [
      {
       "metadata": {},
       "output_type": "pyout",
       "prompt_number": 137,
       "text": [
        "[u'Very understandable, it happens! Glad you found this one interesting. :)',\n",
        " u\"Whoops! That's a glitch with our bot. My apologies. Your post is visible.\",\n",
        " u'You could try again with a photo of her, if you want. That would be allowed.',\n",
        " u'Correct. The only pets you can post in RGD are your own. And please do not try to repost this from \"her\" account, we are unfortunately very aware of that trick.',\n",
        " u'You broke our frequent posting rule:\\n\\nhttp://www.reddit.com/r/redditgetsdrawn/comments/2oan1f/me_and_a_friend_had_a_cheesy_cliche_christmas/\\n\\nPost removed.\\n\\nWhen this post is 3 days old MINIMUM, you may post again with a new photo.',\n",
        " u\"[Canadian apologies? Those are my favorites!](http://i.imgur.com/S7ElA.gif)\\n\\nOn a serious note, if removing hate speech makes me a fascist, then I guess I'm just the best type of fascist ever. ;)\",\n",
        " u\"We don't allow advertising in this sub, so at the very least, please repost without specifically naming the event.\",\n",
        " u'Your post was removed for having an unclear title. Please review our sub rules.',\n",
        " u'Your post was removed. Please see our list of approved relationships.',\n",
        " u'Your comment was removed. Please read the rules of the sub before participating, and do not comment on appearance in this sub. Thanks!',\n",
        " u'Your comment was removed for not containing art. Please read the rules of the sub before participating.',\n",
        " u'Your comment was removed for not containing art. Please read the rules of the sub before participating.',\n",
        " u'[Holy moly! I love it!](http://i.imgur.com/gZSvfCq.jpg)',\n",
        " u'Great job! Per our rules, however, please do not comment on appearance. Thanks!',\n",
        " u\"I don't really like that phrase, even in jest.\",\n",
        " u'www.imgur.com/7gtttE1\\n\\n\\nLink for the lazy',\n",
        " u'[Yayuss!](http://i.imgur.com/2ePsr2x.gif)',\n",
        " u'[Niiiiice!](http://media.giphy.com/media/EldfH1VJdbrwY/giphy.gif)',\n",
        " u'Welcome to the sub! :)',\n",
        " u\"Is this a repost? I feel like I've seen this one before...\",\n",
        " u'Long time, no see! Welcome back :)',\n",
        " u'[Yes!](http://i.imgur.com/Wtwou4f.gif) Nice take on it :)',\n",
        " u\"Great job! However, please don't comment on appearance, per our rules. Thanks!\",\n",
        " u'You were warned.',\n",
        " u\"[It's too beautiful](http://i.imgur.com/jDgf3JE.gif)\"]"
       ]
      }
     ],
     "prompt_number": 137
    },
    {
     "cell_type": "code",
     "collapsed": false,
     "input": [
      "getnewr = r.get_subreddit('redditgetsdrawn')"
     ],
     "language": "python",
     "metadata": {},
     "outputs": [],
     "prompt_number": 138
    },
    {
     "cell_type": "code",
     "collapsed": false,
     "input": [
      "rdnew = getnewr.get_new()"
     ],
     "language": "python",
     "metadata": {},
     "outputs": [],
     "prompt_number": 139
    },
    {
     "cell_type": "code",
     "collapsed": false,
     "input": [
      "lisrgc = []"
     ],
     "language": "python",
     "metadata": {},
     "outputs": [],
     "prompt_number": 140
    },
    {
     "cell_type": "code",
     "collapsed": false,
     "input": [
      "for uz in rdnew:\n",
      "    #print uz\n",
      "    lisrgc.append(uz)"
     ],
     "language": "python",
     "metadata": {},
     "outputs": [],
     "prompt_number": 141
    },
    {
     "cell_type": "code",
     "collapsed": false,
     "input": [
      "gtdrndic = dict()"
     ],
     "language": "python",
     "metadata": {},
     "outputs": [],
     "prompt_number": 142
    },
    {
     "cell_type": "code",
     "collapsed": false,
     "input": [
      "for lisr in lisrgc:\n",
      "    print lisr.url\n",
      "    print lisr.title\n",
      "    print lisr.author\n",
      "    print lisr.comments\n",
      "    gtdrndic.update({'title': lisr.title})"
     ],
     "language": "python",
     "metadata": {},
     "outputs": [
      {
       "output_type": "stream",
       "stream": "stdout",
       "text": [
        "http://imgur.com/N8OwGPl\n",
        "Trying to surprise my sister on her upcoming birthday. A painting or sketch from you guys will be very helpful.\n",
        "biswassumit25\n",
        "[]"
       ]
      },
      {
       "output_type": "stream",
       "stream": "stdout",
       "text": [
        "\n",
        "http://imgur.com/SInkvrl\n",
        "Can anyone draw me? (Berlin, Dec 2013)\n",
        "Se7ensenn\n",
        "[]"
       ]
      },
      {
       "output_type": "stream",
       "stream": "stdout",
       "text": [
        "\n",
        "http://i.imgur.com/jXSGbgX.jpg\n",
        "My friend loves, never had a profile photo of herself. Do you see where this is going?\n",
        "Kiwironic\n",
        "[]"
       ]
      },
      {
       "output_type": "stream",
       "stream": "stdout",
       "text": [
        "\n",
        "http://i.imgur.com/geeE19F.jpg\n",
        "My friends are getting married today. Anyone care to draw them for me?\n",
        "bingle44\n",
        "[]"
       ]
      },
      {
       "output_type": "stream",
       "stream": "stdout",
       "text": [
        "\n",
        "http://i.imgur.com/DEEdXNX.jpg\n",
        "Can you please draw us as santa and santa's little helper? Thanks.\n",
        "lephong\n",
        "[]"
       ]
      },
      {
       "output_type": "stream",
       "stream": "stdout",
       "text": [
        "\n",
        "http://imgur.com/teR2vyD\n",
        "Please draw or paint my boy smiling in the grass!\n",
        "arsonista\n",
        "[]"
       ]
      },
      {
       "output_type": "stream",
       "stream": "stdout",
       "text": [
        "\n",
        "http://imgur.com/a/btDfC\n",
        "I took some photos of my daughter and husband :)\n",
        "Ivytortoise\n",
        "[]"
       ]
      },
      {
       "output_type": "stream",
       "stream": "stdout",
       "text": [
        "\n",
        "http://i.imgur.com/eIaGRDF.jpg\n",
        "My wife graduates this December, we would love to see your take on her graduation photos.\n",
        "ceis_r\n",
        "[]"
       ]
      },
      {
       "output_type": "stream",
       "stream": "stdout",
       "text": [
        "\n",
        "http://i.imgur.com/ggMY36r.jpg?1\n",
        "I would love to give my fiancee a drawn picture of us for Hanukah this year!\n",
        "Olive24\n",
        "[]"
       ]
      },
      {
       "output_type": "stream",
       "stream": "stdout",
       "text": [
        "\n",
        "http://imgur.com/irvn39x\n",
        "Would anyone be interested in drawing my cosplay of me as Casey Jones from TMNT?\n",
        "toe_fur\n",
        "[]"
       ]
      },
      {
       "output_type": "stream",
       "stream": "stdout",
       "text": [
        "\n",
        "http://i.imgur.com/8IjR2yx.jpg\n",
        "This is my mother and my sister. Id love a drawing to give them for christmas\n",
        "Drshibby\n",
        "[]"
       ]
      },
      {
       "output_type": "stream",
       "stream": "stdout",
       "text": [
        "\n",
        "http://imgur.com/5udr40H\n",
        "Could anyone draw my GF and I at the Ren-Fair? Feel free to leave out the cups, alter the background, or use any medium you like!\n",
        "MarqanimousAnonymou\n",
        "[]"
       ]
      },
      {
       "output_type": "stream",
       "stream": "stdout",
       "text": [
        "\n",
        "http://imgur.com/2JyIffC\n",
        "My husband loves reddit. Please do us the honor of turning us into art as a surprise for him!\n",
        "mayhapsindeed14\n",
        "[]"
       ]
      },
      {
       "output_type": "stream",
       "stream": "stdout",
       "text": [
        "\n",
        "http://imgur.com/e4iAzsS\n",
        "Sister and I at cousin's wedding. Please draw us cos she looks really nice in this one and I wanna show her what reddit can do!\n",
        "harisshahzad98\n",
        "[]"
       ]
      },
      {
       "output_type": "stream",
       "stream": "stdout",
       "text": [
        "\n",
        "http://i.imgur.com/u4oapNP.jpg\n",
        "I'm a tallship sailor. Would anyone like to draw me?\n",
        "TheGrimHero\n",
        "[<praw.objects.Comment object at 0x1d01250>]"
       ]
      },
      {
       "output_type": "stream",
       "stream": "stdout",
       "text": [
        "\n",
        "http://i.imgur.com/nGVxPzi.jpg\n",
        "Photo of my 4 month old kitten Pablo the day we got him. If anyone could draw this, I would greatly appreciate it! :)\n",
        "FiFibonacci\n",
        "[]"
       ]
      },
      {
       "output_type": "stream",
       "stream": "stdout",
       "text": [
        "\n",
        "http://i.imgur.com/BWcxSD0.jpg\n",
        "Will someone draw my little Lyla? Thank you thank you!\n",
        "cillabilla17\n",
        "[]"
       ]
      },
      {
       "output_type": "stream",
       "stream": "stdout",
       "text": [
        "\n",
        "http://imgur.com/6AFFS76\n",
        "Anyone care to draw this photo of me at my last mud race? One of the most fun events I have participated in!\n",
        "DCsoimpossible98\n",
        "[<praw.objects.Comment object at 0x1d01890>]"
       ]
      },
      {
       "output_type": "stream",
       "stream": "stdout",
       "text": [
        "\n",
        "http://imgur.com/EKIyzw3\n",
        "Hello RGD I love all the work here and would love it if you could draw my son\n",
        "Mrappleton1\n",
        "[]"
       ]
      },
      {
       "output_type": "stream",
       "stream": "stdout",
       "text": [
        "\n",
        "http://i.imgur.com/dJwwJr9.jpg\n",
        "Want to draw me riding a penguin?\n",
        "asjruk\n",
        "[]"
       ]
      },
      {
       "output_type": "stream",
       "stream": "stdout",
       "text": [
        "\n",
        "http://i.imgur.com/HXh53ra.jpg\n",
        "My man and pup. Anyone up for it? Thought bubbles for pup's expression would be hilarious.\n",
        "RileyByrdie\n",
        "[]"
       ]
      },
      {
       "output_type": "stream",
       "stream": "stdout",
       "text": [
        "\n",
        "http://i.imgur.com/VBn1AkP.jpg\n",
        "Since it's a common theme here, here's a cute picture of me and my secondth fianc\u00e9. She loves art and would be electric if she got a drawing.\n",
        "acoustic_rights\n",
        "[]"
       ]
      },
      {
       "output_type": "stream",
       "stream": "stdout",
       "text": [
        "\n",
        "http://imgur.com/VfhuoO3\n",
        "Can you please draw this picture from the night my girlfriend and I met? It's been 2 years and I think it would make a perfect gift :)\n",
        "orb1t\n",
        "[]"
       ]
      },
      {
       "output_type": "stream",
       "stream": "stdout",
       "text": [
        "\n",
        "http://i.imgur.com/712b79K.png\n",
        "Anyone interested in portraying my mother and me?\n",
        "HAIYAWATHA\n",
        "[]"
       ]
      },
      {
       "output_type": "stream",
       "stream": "stdout",
       "text": [
        "\n",
        "http://i.imgur.com/ctotDuF.jpg?1\n",
        "will you draw or paint me ?\n",
        "jassper202\n",
        "[<praw.objects.Comment object at 0x1d0d8d0>]"
       ]
      },
      {
       "output_type": "stream",
       "stream": "stdout",
       "text": [
        "\n"
       ]
      }
     ],
     "prompt_number": 143
    },
    {
     "cell_type": "code",
     "collapsed": false,
     "input": [
      "opsinz = open('/home/wcmckee/visignsys/index.meta', 'r')\n",
      "panz = opsinz.read()"
     ],
     "language": "python",
     "metadata": {},
     "outputs": [],
     "prompt_number": 144
    },
    {
     "cell_type": "code",
     "collapsed": false,
     "input": [
      "#panz()"
     ],
     "language": "python",
     "metadata": {},
     "outputs": [],
     "prompt_number": 145
    },
    {
     "cell_type": "code",
     "collapsed": false,
     "input": [
      "doc = dominate.document(title='GetsDrawn')\n",
      "\n",
      "with doc.head:\n",
      "    link(rel='stylesheet', href='style.css')\n",
      "    script(type='text/javascript', src='script.js')\n",
      "    \n",
      "    with div():\n",
      "        attr(cls='header')\n",
      "        h1('GetsDrawn')\n",
      "        p(img('imgs/getsdrawn-bw.png', src='imgs/getsdrawn-bw.png'))\n",
      "        p('Updated ', strftime(\"%a, %d %b %Y %H:%M:%S +0000\", gmtime()))\n",
      "        p(panz)\n",
      "        p(bodycom)\n",
      "    \n",
      "    \n",
      "\n",
      "with doc:\n",
      "    with div(id='body').add(ol()):\n",
      "        for rdz in lisrgc:\n",
      "            h1(rdz.title)\n",
      "            #a(rdz.url)\n",
      "            if '.jpg' or '.png' in rdz.url:\n",
      "                #print rdz.url\n",
      "                p(img(rdz.url, src='%s' % rdz.url))\n",
      "            #print rdz.url\n",
      "            #if '.jpg' in rdz.url:\n",
      "            #    img(rdz.urlz)\n",
      "            #else:\n",
      "            #    a(rdz.urlz)\n",
      "            p(str(rdz.author))\n",
      "            \n",
      "            #li(img(i.lower(), src='%s' % i))\n",
      "\n",
      "    with div():\n",
      "        attr(cls='body')\n",
      "        p('GetsDrawn is open source')\n",
      "        a('http://github.com/wcmckee/wcmckee')\n",
      "\n",
      "#print doc"
     ],
     "language": "python",
     "metadata": {},
     "outputs": [],
     "prompt_number": 146
    },
    {
     "cell_type": "code",
     "collapsed": false,
     "input": [
      "gtdrndic"
     ],
     "language": "python",
     "metadata": {},
     "outputs": [
      {
       "metadata": {},
       "output_type": "pyout",
       "prompt_number": 147,
       "text": [
        "{'title': u'will you draw or paint me ?'}"
       ]
      }
     ],
     "prompt_number": 147
    },
    {
     "cell_type": "code",
     "collapsed": false,
     "input": [
      "doc.render()"
     ],
     "language": "python",
     "metadata": {},
     "outputs": [
      {
       "metadata": {},
       "output_type": "pyout",
       "prompt_number": 148,
       "text": [
        "u'<!DOCTYPE html>\\n<html>\\n  <head>\\n    <title>GetsDrawn</title>\\n    <link href=\"style.css\" rel=\"stylesheet\"><script src=\"script.js\" type=\"text/javascript\"></script>\\n    <div class=\"header\">\\n      <h1>GetsDrawn</h1>\\n      <p>\\n        <img src=\"imgs/getsdrawn-bw.png\">\\n      </p>\\n      <p>Updated Sat, 06 Dec 2014 22:56:00 +0000</p>\\n      <p>[\\'02-Dec-2014\\', \\'ESW\\', \\'William Mckee\\', \\'15:09\\', \\'sunny and mum is back\\'][\\'02-Dec-2014\\', \\'build wire dibo\\', \\'17:41\\']</p>\\n      <p>Very understandable, it happens! Glad you found this one interesting. :)Whoops! That\\'s a glitch with our bot. My apologies. Your post is visible.You could try again with a photo of her, if you want. That would be allowed.Correct. The only pets you can post in RGD are your own. And please do not try to repost this from &quot;her&quot; account, we are unfortunately very aware of that trick.You broke our frequent posting rule:\\n\\nhttp://www.reddit.com/r/redditgetsdrawn/comments/2oan1f/me_and_a_friend_had_a_cheesy_cliche_christmas/\\n\\nPost removed.\\n\\nWhen this post is 3 days old MINIMUM, you may post again with a new photo.[Canadian apologies? Those are my favorites!](http://i.imgur.com/S7ElA.gif)\\n\\nOn a serious note, if removing hate speech makes me a fascist, then I guess I\\'m just the best type of fascist ever. ;)We don\\'t allow advertising in this sub, so at the very least, please repost without specifically naming the event.Your post was removed for having an unclear title. Please review our sub rules.Your post was removed. Please see our list of approved relationships.Your comment was removed. Please read the rules of the sub before participating, and do not comment on appearance in this sub. Thanks!Your comment was removed for not containing art. Please read the rules of the sub before participating.Your comment was removed for not containing art. Please read the rules of the sub before participating.[Holy moly! I love it!](http://i.imgur.com/gZSvfCq.jpg)Great job! Per our rules, however, please do not comment on appearance. Thanks!I don\\'t really like that phrase, even in jest.www.imgur.com/7gtttE1\\n\\n\\nLink for the lazy[Yayuss!](http://i.imgur.com/2ePsr2x.gif)[Niiiiice!](http://media.giphy.com/media/EldfH1VJdbrwY/giphy.gif)Welcome to the sub! :)Is this a repost? I feel like I\\'ve seen this one before...Long time, no see! Welcome back :)[Yes!](http://i.imgur.com/Wtwou4f.gif) Nice take on it :)Great job! However, please don\\'t comment on appearance, per our rules. Thanks!You were warned.[It\\'s too beautiful](http://i.imgur.com/jDgf3JE.gif)</p>\\n    </div>\\n  </head>\\n  <body>\\n    <div id=\"body\">\\n      <ol>\\n        <h1>Trying to surprise my sister on her upcoming birthday. A painting or sketch from you guys will be very helpful.</h1>\\n        <p>\\n          <img src=\"http://imgur.com/N8OwGPl\">\\n        </p>\\n        <p>biswassumit25</p>\\n        <h1>Can anyone draw me? (Berlin, Dec 2013)</h1>\\n        <p>\\n          <img src=\"http://imgur.com/SInkvrl\">\\n        </p>\\n        <p>Se7ensenn</p>\\n        <h1>My friend loves, never had a profile photo of herself. Do you see where this is going?</h1>\\n        <p>\\n          <img src=\"http://i.imgur.com/jXSGbgX.jpg\">\\n        </p>\\n        <p>Kiwironic</p>\\n        <h1>My friends are getting married today. Anyone care to draw them for me?</h1>\\n        <p>\\n          <img src=\"http://i.imgur.com/geeE19F.jpg\">\\n        </p>\\n        <p>bingle44</p>\\n        <h1>Can you please draw us as santa and santa\\'s little helper? Thanks.</h1>\\n        <p>\\n          <img src=\"http://i.imgur.com/DEEdXNX.jpg\">\\n        </p>\\n        <p>lephong</p>\\n        <h1>Please draw or paint my boy smiling in the grass!</h1>\\n        <p>\\n          <img src=\"http://imgur.com/teR2vyD\">\\n        </p>\\n        <p>arsonista</p>\\n        <h1>I took some photos of my daughter and husband :)</h1>\\n        <p>\\n          <img src=\"http://imgur.com/a/btDfC\">\\n        </p>\\n        <p>Ivytortoise</p>\\n        <h1>My wife graduates this December, we would love to see your take on her graduation photos.</h1>\\n        <p>\\n          <img src=\"http://i.imgur.com/eIaGRDF.jpg\">\\n        </p>\\n        <p>ceis_r</p>\\n        <h1>I would love to give my fiancee a drawn picture of us for Hanukah this year!</h1>\\n        <p>\\n          <img src=\"http://i.imgur.com/ggMY36r.jpg?1\">\\n        </p>\\n        <p>Olive24</p>\\n        <h1>Would anyone be interested in drawing my cosplay of me as Casey Jones from TMNT?</h1>\\n        <p>\\n          <img src=\"http://imgur.com/irvn39x\">\\n        </p>\\n        <p>toe_fur</p>\\n        <h1>This is my mother and my sister. Id love a drawing to give them for christmas</h1>\\n        <p>\\n          <img src=\"http://i.imgur.com/8IjR2yx.jpg\">\\n        </p>\\n        <p>Drshibby</p>\\n        <h1>Could anyone draw my GF and I at the Ren-Fair? Feel free to leave out the cups, alter the background, or use any medium you like!</h1>\\n        <p>\\n          <img src=\"http://imgur.com/5udr40H\">\\n        </p>\\n        <p>MarqanimousAnonymou</p>\\n        <h1>My husband loves reddit. Please do us the honor of turning us into art as a surprise for him!</h1>\\n        <p>\\n          <img src=\"http://imgur.com/2JyIffC\">\\n        </p>\\n        <p>mayhapsindeed14</p>\\n        <h1>Sister and I at cousin\\'s wedding. Please draw us cos she looks really nice in this one and I wanna show her what reddit can do!</h1>\\n        <p>\\n          <img src=\"http://imgur.com/e4iAzsS\">\\n        </p>\\n        <p>harisshahzad98</p>\\n        <h1>I\\'m a tallship sailor. Would anyone like to draw me?</h1>\\n        <p>\\n          <img src=\"http://i.imgur.com/u4oapNP.jpg\">\\n        </p>\\n        <p>TheGrimHero</p>\\n        <h1>Photo of my 4 month old kitten Pablo the day we got him. If anyone could draw this, I would greatly appreciate it! :)</h1>\\n        <p>\\n          <img src=\"http://i.imgur.com/nGVxPzi.jpg\">\\n        </p>\\n        <p>FiFibonacci</p>\\n        <h1>Will someone draw my little Lyla? Thank you thank you!</h1>\\n        <p>\\n          <img src=\"http://i.imgur.com/BWcxSD0.jpg\">\\n        </p>\\n        <p>cillabilla17</p>\\n        <h1>Anyone care to draw this photo of me at my last mud race? One of the most fun events I have participated in!</h1>\\n        <p>\\n          <img src=\"http://imgur.com/6AFFS76\">\\n        </p>\\n        <p>DCsoimpossible98</p>\\n        <h1>Hello RGD I love all the work here and would love it if you could draw my son</h1>\\n        <p>\\n          <img src=\"http://imgur.com/EKIyzw3\">\\n        </p>\\n        <p>Mrappleton1</p>\\n        <h1>Want to draw me riding a penguin?</h1>\\n        <p>\\n          <img src=\"http://i.imgur.com/dJwwJr9.jpg\">\\n        </p>\\n        <p>asjruk</p>\\n        <h1>My man and pup. Anyone up for it? Thought bubbles for pup\\'s expression would be hilarious.</h1>\\n        <p>\\n          <img src=\"http://i.imgur.com/HXh53ra.jpg\">\\n        </p>\\n        <p>RileyByrdie</p>\\n        <h1>Since it\\'s a common theme here, here\\'s a cute picture of me and my secondth fianc\\xe9. She loves art and would be electric if she got a drawing.</h1>\\n        <p>\\n          <img src=\"http://i.imgur.com/VBn1AkP.jpg\">\\n        </p>\\n        <p>acoustic_rights</p>\\n        <h1>Can you please draw this picture from the night my girlfriend and I met? It\\'s been 2 years and I think it would make a perfect gift :)</h1>\\n        <p>\\n          <img src=\"http://imgur.com/VfhuoO3\">\\n        </p>\\n        <p>orb1t</p>\\n        <h1>Anyone interested in portraying my mother and me?</h1>\\n        <p>\\n          <img src=\"http://i.imgur.com/712b79K.png\">\\n        </p>\\n        <p>HAIYAWATHA</p>\\n        <h1>will you draw or paint me ?</h1>\\n        <p>\\n          <img src=\"http://i.imgur.com/ctotDuF.jpg?1\">\\n        </p>\\n        <p>jassper202</p>\\n      </ol>\\n    </div>\\n    <div class=\"body\">\\n      <p>GetsDrawn is open source</p>\\n      <a>http://github.com/wcmckee/wcmckee</a>\\n    </div>\\n  </body>\\n</html>'"
       ]
      }
     ],
     "prompt_number": 148
    },
    {
     "cell_type": "code",
     "collapsed": false,
     "input": [
      "indfil = ('/home/wcmckee/getsdrawndotcom/index.html')"
     ],
     "language": "python",
     "metadata": {},
     "outputs": [],
     "prompt_number": 149
    },
    {
     "cell_type": "code",
     "collapsed": false,
     "input": [
      "mkind = open(indfil, 'w')\n",
      "mkind.write(str(doc))\n",
      "mkind.close()"
     ],
     "language": "python",
     "metadata": {},
     "outputs": [
      {
       "ename": "UnicodeEncodeError",
       "evalue": "'ascii' codec can't encode character u'\\xe9' in position 5445: ordinal not in range(128)",
       "output_type": "pyerr",
       "traceback": [
        "\u001b[1;31m---------------------------------------------------------------------------\u001b[0m\n\u001b[1;31mUnicodeEncodeError\u001b[0m                        Traceback (most recent call last)",
        "\u001b[1;32m<ipython-input-126-0fbb1899da62>\u001b[0m in \u001b[0;36m<module>\u001b[1;34m()\u001b[0m\n\u001b[0;32m      1\u001b[0m \u001b[0mmkind\u001b[0m \u001b[1;33m=\u001b[0m \u001b[0mopen\u001b[0m\u001b[1;33m(\u001b[0m\u001b[0mindfil\u001b[0m\u001b[1;33m,\u001b[0m \u001b[1;34m'w'\u001b[0m\u001b[1;33m)\u001b[0m\u001b[1;33m\u001b[0m\u001b[0m\n\u001b[1;32m----> 2\u001b[1;33m \u001b[0mmkind\u001b[0m\u001b[1;33m.\u001b[0m\u001b[0mwrite\u001b[0m\u001b[1;33m(\u001b[0m\u001b[0mstr\u001b[0m\u001b[1;33m(\u001b[0m\u001b[0mdoc\u001b[0m\u001b[1;33m)\u001b[0m\u001b[1;33m)\u001b[0m\u001b[1;33m\u001b[0m\u001b[0m\n\u001b[0m\u001b[0;32m      3\u001b[0m \u001b[0mmkind\u001b[0m\u001b[1;33m.\u001b[0m\u001b[0mclose\u001b[0m\u001b[1;33m(\u001b[0m\u001b[1;33m)\u001b[0m\u001b[1;33m\u001b[0m\u001b[0m\n",
        "\u001b[1;31mUnicodeEncodeError\u001b[0m: 'ascii' codec can't encode character u'\\xe9' in position 5445: ordinal not in range(128)"
       ]
      }
     ],
     "prompt_number": 126
    },
    {
     "cell_type": "code",
     "collapsed": false,
     "input": [
      "#os.system('scp -r /home/wcmckee/getsdrawndotcom/ wcmckee@getsdrawn.com:/home/wcmckee/getsdrawndotcom')"
     ],
     "language": "python",
     "metadata": {},
     "outputs": [],
     "prompt_number": 119
    },
    {
     "cell_type": "code",
     "collapsed": false,
     "input": [
      "os.system('scp -r /home/wcmckee/getsdrawndotcom/index.html wcmckee@getsdrawn.com:/home/wcmckee/getsdrawndotcom/index.html')"
     ],
     "language": "python",
     "metadata": {},
     "outputs": [
      {
       "metadata": {},
       "output_type": "pyout",
       "prompt_number": 120,
       "text": [
        "0"
       ]
      }
     ],
     "prompt_number": 120
    },
    {
     "cell_type": "code",
     "collapsed": false,
     "input": [
      "os.system('scp -r /home/wcmckee/getsdrawndotcom/style.css wcmckee@getsdrawn.com:/home/wcmckee/getsdrawndotcom/style.css')"
     ],
     "language": "python",
     "metadata": {},
     "outputs": []
    },
    {
     "cell_type": "code",
     "collapsed": false,
     "input": [],
     "language": "python",
     "metadata": {},
     "outputs": []
    }
   ],
   "metadata": {}
  }
 ]
}