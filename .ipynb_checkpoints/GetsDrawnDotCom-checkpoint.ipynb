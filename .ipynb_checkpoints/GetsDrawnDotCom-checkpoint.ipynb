{
 "metadata": {
  "name": "",
  "signature": "sha256:28054488313db94f484d286a53bcb1d4a65ae209b0addffc0c960f8bafd1771e"
 },
 "nbformat": 3,
 "nbformat_minor": 0,
 "worksheets": [
  {
   "cells": [
    {
     "cell_type": "markdown",
     "metadata": {},
     "source": [
      "<h1>GetsDrawn DotCom</h1>"
     ]
    },
    {
     "cell_type": "markdown",
     "metadata": {},
     "source": [
      "This is a python script to generate the website GetsDrawn. It takes data from RedditGetsDrawn and makes something awesome.\n",
      "\n",
      "The script has envolved and been rewritten several times. "
     ]
    },
    {
     "cell_type": "code",
     "collapsed": false,
     "input": [
      "import os \n",
      "import requests\n",
      "from bs4 import BeautifulSoup\n",
      "import re\n",
      "import json\n",
      "import time\n",
      "import praw\n",
      "import dominate\n",
      "from dominate.tags import * \n",
      "from time import gmtime, strftime\n",
      "#import nose\n",
      "#import unittest\n",
      "import numpy as np\n",
      "import pandas as pd\n",
      "from pandas import *"
     ],
     "language": "python",
     "metadata": {},
     "outputs": [],
     "prompt_number": 151
    },
    {
     "cell_type": "code",
     "collapsed": false,
     "input": [
      "gtsdrndir = ('/home/wcmckee/getsdrawndotcom')"
     ],
     "language": "python",
     "metadata": {},
     "outputs": [],
     "prompt_number": 152
    },
    {
     "cell_type": "code",
     "collapsed": false,
     "input": [
      "os.chdir(gtsdrndir)"
     ],
     "language": "python",
     "metadata": {},
     "outputs": [],
     "prompt_number": 153
    },
    {
     "cell_type": "code",
     "collapsed": false,
     "input": [
      "r = praw.Reddit(user_agent='getsdrawndotcom')"
     ],
     "language": "python",
     "metadata": {},
     "outputs": [],
     "prompt_number": 154
    },
    {
     "cell_type": "code",
     "collapsed": false,
     "input": [
      "getmin = r.get_redditor('itwillbemine')"
     ],
     "language": "python",
     "metadata": {},
     "outputs": [],
     "prompt_number": 155
    },
    {
     "cell_type": "code",
     "collapsed": false,
     "input": [
      "mincom = getmin.get_comments()"
     ],
     "language": "python",
     "metadata": {},
     "outputs": [],
     "prompt_number": 156
    },
    {
     "cell_type": "code",
     "collapsed": false,
     "input": [
      "shtweet = []"
     ],
     "language": "python",
     "metadata": {},
     "outputs": [],
     "prompt_number": 157
    },
    {
     "cell_type": "code",
     "collapsed": false,
     "input": [
      "for mi in mincom:\n",
      "    print mi\n",
      "    shtweet.append(mi)"
     ],
     "language": "python",
     "metadata": {},
     "outputs": [
      {
       "output_type": "stream",
       "stream": "stdout",
       "text": [
        "I'm aware of its use on Reddit. I always find it to be insulting.\n",
        "\n",
        "Subtext: Y...\n",
        "Posting, deleting, and reposting would normally earn you a ban from me:\n",
        "\n",
        "http...\n",
        "Hee hee, poooor wembly! :D\n",
        "No need, if I wanted them gone, I would have removed them. Just letting you k...\n",
        "Ugh. Thank you.\n",
        "You broke our frequent posting rule:\n",
        "\n",
        "http://www.reddit.com/r/redditgetsdrawn...\n",
        "Post removed. The only pets you can post are your own. Please read our rules.\n",
        "Please repost without the \"I see your.....and raise you.....\"\n",
        "\n",
        "No need to ins...\n",
        "Thank you! :)\n",
        "Your comment was removed for breaking our rule about appearance. As that is y...\n",
        "Images that are filtered or manipulated are removed. Like yours.\n",
        "Nice job, good for you :)\n",
        "This has been reported as a repost. If it is, I'll be back and your post will...\n",
        "Your comment was removed. Please read the rules of the sub before participating.\n",
        "Post removed. You can use RGD art to decorate your credit card.\n",
        "You have artists to thank. O_O\n",
        "Welcome to the sub! :)\n",
        "Wonderful job! However, per our rules, please do not comment on appearance. T...\n",
        "You have artists to thank. O_O\n",
        "Holy moly :D\n",
        "This subreddit is indeed okay with pixel work. :)\n",
        "[No.](http://i.imgur.com/RyPJujS.gif)\n",
        "\n",
        "Please let me know if you'd like me to...\n",
        "You post photos of this person a lot - at least five different times. She's r...\n",
        "Yay, good to see you!\n",
        "Goodness!\n"
       ]
      }
     ],
     "prompt_number": 158
    },
    {
     "cell_type": "code",
     "collapsed": false,
     "input": [
      "bodycom = []"
     ],
     "language": "python",
     "metadata": {},
     "outputs": [],
     "prompt_number": 170
    },
    {
     "cell_type": "code",
     "collapsed": false,
     "input": [
      "for shtz in shtweet:\n",
      "    print shtz.downs\n",
      "    print shtz.ups\n",
      "    print shtz.body\n",
      "    print shtz.replies\n",
      "    bodycom.append(shtz.body)"
     ],
     "language": "python",
     "metadata": {},
     "outputs": [
      {
       "output_type": "stream",
       "stream": "stdout",
       "text": [
        "0\n",
        "1\n",
        "I'm aware of its use on Reddit. I always find it to be insulting.\n",
        "\n",
        "Subtext: Your post was okay. Mine is better. My post is better than yours. I am now going to call your post out specifically, in front of everyone, as being \"less than.\"\n",
        "\n",
        "Please just change the title, like I asked. Thank you.\n",
        "[]\n",
        "0\n",
        "1\n",
        "Posting, deleting, and reposting would normally earn you a ban from me:\n",
        "\n",
        "http://www.reddit.com/r/redditgetsdrawn/comments/2nwr0e/in_the_spirit_of_christmas_hoping_i_can_get_some/\n",
        "\n",
        "However, I'm trying to get my ban number down this month, so consider this a warning to read and follow our rules. ;) Aaaaand your post was removed.\n",
        "[]\n",
        "0\n",
        "1\n",
        "Hee hee, poooor wembly! :D\n",
        "[]\n",
        "0\n",
        "1\n",
        "No need, if I wanted them gone, I would have removed them. Just letting you know for future reference.\n",
        "[]\n",
        "0\n",
        "1\n",
        "Ugh. Thank you.\n",
        "[]\n",
        "0\n",
        "1\n",
        "You broke our frequent posting rule:\n",
        "\n",
        "http://www.reddit.com/r/redditgetsdrawn/comments/2nzd0u/id_love_to_get_a_drawing_of_one_of_my_favourite/\n",
        "\n",
        "Post removed.\n",
        "[]\n",
        "0\n",
        "1\n",
        "Post removed. The only pets you can post are your own. Please read our rules.\n",
        "[]\n",
        "0\n",
        "1\n",
        "Please repost without the \"I see your.....and raise you.....\"\n",
        "\n",
        "No need to insult the other submitter. Just make it clear in your next title that this is your uncle. Thanks.\n",
        "[<praw.objects.Comment object at 0x1f93230>]\n",
        "0\n",
        "1\n",
        "Thank you! :)\n",
        "[]\n",
        "0\n",
        "2\n",
        "Your comment was removed for breaking our rule about appearance. As that is your second warning, I would give our rules page a good long read before participating further:\n",
        "\n",
        "www.reddit.com/r/redditgetsdrawn/wiki\n",
        "[]\n",
        "0\n",
        "1\n",
        "Images that are filtered or manipulated are removed. Like yours.\n",
        "[]\n",
        "0\n",
        "1\n",
        "Nice job, good for you :)\n",
        "[]\n",
        "0\n",
        "1\n",
        "This has been reported as a repost. If it is, I'll be back and your post will be removed.\n",
        "[]\n",
        "0\n",
        "1\n",
        "Your comment was removed. Please read the rules of the sub before participating.\n",
        "[]\n",
        "0\n",
        "1\n",
        "Post removed. You can use RGD art to decorate your credit card.\n",
        "[]\n",
        "0\n",
        "1\n",
        "You have artists to thank. O_O\n",
        "[]\n",
        "0\n",
        "1\n",
        "Welcome to the sub! :)\n",
        "[]\n",
        "0\n",
        "1\n",
        "Wonderful job! However, per our rules, please do not comment on appearance. Thank you!\n",
        "[<praw.objects.Comment object at 0x1339050>]\n",
        "0\n",
        "1\n",
        "You have artists to thank. O_O\n",
        "[]\n",
        "0\n",
        "1\n",
        "Holy moly :D\n",
        "[]\n",
        "0\n",
        "1\n",
        "This subreddit is indeed okay with pixel work. :)\n",
        "[]\n",
        "0\n",
        "1\n",
        "[No.](http://i.imgur.com/RyPJujS.gif)\n",
        "\n",
        "Please let me know if you'd like me to turn your comment removal into a ban.\n",
        "[]\n",
        "0\n",
        "2\n",
        "You post photos of this person a lot - at least five different times. She's received lots of art before:\n",
        "\n",
        "http://www.reddit.com/r/redditgetsdrawn/comments/22yh2o/id_love_to_see_an_artistic_interpretation_of_an/\n",
        "\n",
        "and more recently here:\n",
        "\n",
        "http://www.reddit.com/r/redditgetsdrawn/comments/2nc72u/im_putting_together_an_album_of_drawn_pictures/\n",
        "\n",
        "It's not against the rules, but I do think it's strange that you're submitting this person over and over to RGD, even after receiving art for her.\n",
        "\n",
        "[]\n",
        "0\n",
        "1\n",
        "Yay, good to see you!\n",
        "[]\n",
        "0\n",
        "1\n",
        "Goodness!\n",
        "[]\n"
       ]
      }
     ],
     "prompt_number": 171
    },
    {
     "cell_type": "code",
     "collapsed": false,
     "input": [
      "bodycom"
     ],
     "language": "python",
     "metadata": {},
     "outputs": [
      {
       "metadata": {},
       "output_type": "pyout",
       "prompt_number": 172,
       "text": [
        "[u'I\\'m aware of its use on Reddit. I always find it to be insulting.\\n\\nSubtext: Your post was okay. Mine is better. My post is better than yours. I am now going to call your post out specifically, in front of everyone, as being \"less than.\"\\n\\nPlease just change the title, like I asked. Thank you.',\n",
        " u\"Posting, deleting, and reposting would normally earn you a ban from me:\\n\\nhttp://www.reddit.com/r/redditgetsdrawn/comments/2nwr0e/in_the_spirit_of_christmas_hoping_i_can_get_some/\\n\\nHowever, I'm trying to get my ban number down this month, so consider this a warning to read and follow our rules. ;) Aaaaand your post was removed.\",\n",
        " u'Hee hee, poooor wembly! :D',\n",
        " u'No need, if I wanted them gone, I would have removed them. Just letting you know for future reference.',\n",
        " u'Ugh. Thank you.',\n",
        " u'You broke our frequent posting rule:\\n\\nhttp://www.reddit.com/r/redditgetsdrawn/comments/2nzd0u/id_love_to_get_a_drawing_of_one_of_my_favourite/\\n\\nPost removed.',\n",
        " u'Post removed. The only pets you can post are your own. Please read our rules.',\n",
        " u'Please repost without the \"I see your.....and raise you.....\"\\n\\nNo need to insult the other submitter. Just make it clear in your next title that this is your uncle. Thanks.',\n",
        " u'Thank you! :)',\n",
        " u'Your comment was removed for breaking our rule about appearance. As that is your second warning, I would give our rules page a good long read before participating further:\\n\\nwww.reddit.com/r/redditgetsdrawn/wiki',\n",
        " u'Images that are filtered or manipulated are removed. Like yours.',\n",
        " u'Nice job, good for you :)',\n",
        " u\"This has been reported as a repost. If it is, I'll be back and your post will be removed.\",\n",
        " u'Your comment was removed. Please read the rules of the sub before participating.',\n",
        " u'Post removed. You can use RGD art to decorate your credit card.',\n",
        " u'You have artists to thank. O_O',\n",
        " u'Welcome to the sub! :)',\n",
        " u'Wonderful job! However, per our rules, please do not comment on appearance. Thank you!',\n",
        " u'You have artists to thank. O_O',\n",
        " u'Holy moly :D',\n",
        " u'This subreddit is indeed okay with pixel work. :)',\n",
        " u\"[No.](http://i.imgur.com/RyPJujS.gif)\\n\\nPlease let me know if you'd like me to turn your comment removal into a ban.\",\n",
        " u\"You post photos of this person a lot - at least five different times. She's received lots of art before:\\n\\nhttp://www.reddit.com/r/redditgetsdrawn/comments/22yh2o/id_love_to_see_an_artistic_interpretation_of_an/\\n\\nand more recently here:\\n\\nhttp://www.reddit.com/r/redditgetsdrawn/comments/2nc72u/im_putting_together_an_album_of_drawn_pictures/\\n\\nIt's not against the rules, but I do think it's strange that you're submitting this person over and over to RGD, even after receiving art for her.\\n\",\n",
        " u'Yay, good to see you!',\n",
        " u'Goodness!']"
       ]
      }
     ],
     "prompt_number": 172
    },
    {
     "cell_type": "code",
     "collapsed": false,
     "input": [
      "getnewr = r.get_subreddit('redditgetsdrawn')"
     ],
     "language": "python",
     "metadata": {},
     "outputs": [],
     "prompt_number": 160
    },
    {
     "cell_type": "code",
     "collapsed": false,
     "input": [
      "rdnew = getnewr.get_new()"
     ],
     "language": "python",
     "metadata": {},
     "outputs": [],
     "prompt_number": 161
    },
    {
     "cell_type": "code",
     "collapsed": false,
     "input": [
      "lisrgc = []"
     ],
     "language": "python",
     "metadata": {},
     "outputs": [],
     "prompt_number": 162
    },
    {
     "cell_type": "code",
     "collapsed": false,
     "input": [
      "for uz in rdnew:\n",
      "    #print uz\n",
      "    lisrgc.append(uz)"
     ],
     "language": "python",
     "metadata": {},
     "outputs": [],
     "prompt_number": 163
    },
    {
     "cell_type": "code",
     "collapsed": false,
     "input": [
      "gtdrndic = dict()"
     ],
     "language": "python",
     "metadata": {},
     "outputs": [],
     "prompt_number": 164
    },
    {
     "cell_type": "code",
     "collapsed": false,
     "input": [
      "for lisr in lisrgc:\n",
      "    print lisr.url\n",
      "    print lisr.title\n",
      "    print lisr.author\n",
      "    print lisr.comments\n",
      "    gtdrndic.update({'title': lisr.title})"
     ],
     "language": "python",
     "metadata": {},
     "outputs": [
      {
       "output_type": "stream",
       "stream": "stdout",
       "text": [
        "http://i.imgur.com/hUlG5Vc.jpg\n",
        "Could someone draw my girlfriend and me?\n",
        "Girgir55\n",
        "[]"
       ]
      },
      {
       "output_type": "stream",
       "stream": "stdout",
       "text": [
        "\n",
        "http://imgur.com/cOD4le7\n",
        "My favorite woman in the world is my mom. This is a picture of her as a young woman. Could you please draw her?\n",
        "Nattyzee3\n",
        "[]"
       ]
      },
      {
       "output_type": "stream",
       "stream": "stdout",
       "text": [
        "\n",
        "http://i.imgur.com/QrMunEg.jpg\n",
        "Care to draw us weirdos?\n",
        "mischiefismychicken\n",
        "[]"
       ]
      },
      {
       "output_type": "stream",
       "stream": "stdout",
       "text": [
        "\n",
        "http://imgur.com/kbAy4Vw\n",
        "Would anyone like to draw me?\n",
        "CD5700\n",
        "[]"
       ]
      },
      {
       "output_type": "stream",
       "stream": "stdout",
       "text": [
        "\n",
        "http://imgur.com/NoSvCbt\n",
        "I love this picture of my inlaws, could someone draw it?\n",
        "Sectr9goddess\n",
        "[]"
       ]
      },
      {
       "output_type": "stream",
       "stream": "stdout",
       "text": [
        "\n",
        "http://imgur.com/zkAWMic\n",
        "Me with some lovely flowers\n",
        "leannimals\n",
        "[]"
       ]
      },
      {
       "output_type": "stream",
       "stream": "stdout",
       "text": [
        "\n",
        "http://i.imgur.com/eTVYxje.jpg\n",
        "Anyone want to draw me as a green witch? :)\n",
        "autumnwolfmoon89\n",
        "[]"
       ]
      },
      {
       "output_type": "stream",
       "stream": "stdout",
       "text": [
        "\n",
        "http://i.imgur.com/occiAsF.jpg?1\n",
        "Would love someone to draw my dog.\n",
        "asm1th\n",
        "[<praw.objects.Comment object at 0x21268b0>]"
       ]
      },
      {
       "output_type": "stream",
       "stream": "stdout",
       "text": [
        "\n",
        "http://imgur.com/hWHlxKS\n",
        "Me being a desert fox in the Mojave!\n",
        "arianathefox\n",
        "[<praw.objects.Comment object at 0x202f130>]"
       ]
      },
      {
       "output_type": "stream",
       "stream": "stdout",
       "text": [
        "\n",
        "http://imgur.com/a/g8Nx6\n",
        "I got a new haircut - would anyone like to draw me with it?\n",
        "MrsBoris\n",
        "[<praw.objects.Comment object at 0x1fa1eb0>, <praw.objects.Comment object at 0x1e53c30>]"
       ]
      },
      {
       "output_type": "stream",
       "stream": "stdout",
       "text": [
        "\n",
        "http://m.imgur.com/Is2M1EA\n",
        "My nephews and I in Lake George. It would be so cool to see us drawn somewhere magical.\n",
        "kachie1317\n",
        "[]"
       ]
      },
      {
       "output_type": "stream",
       "stream": "stdout",
       "text": [
        "\n",
        "http://imgur.com/8NdHMRJ\n",
        "I'd love to give my big sister a drawing of us for Christmas! Anyone out there who wants to give iT a try?\n",
        "SofieBuyse\n",
        "[]"
       ]
      },
      {
       "output_type": "stream",
       "stream": "stdout",
       "text": [
        "\n",
        "http://i.imgur.com/k40b2YB.jpg\n",
        "Painting with my dog!\n",
        "Taroh\n",
        "[]"
       ]
      },
      {
       "output_type": "stream",
       "stream": "stdout",
       "text": [
        "\n",
        "http://imgur.com/dMA1Ns3\n",
        "My daughter and her sleeping cousin. Draw their first meeting?!\n",
        "babydaisy611\n",
        "[]"
       ]
      },
      {
       "output_type": "stream",
       "stream": "stdout",
       "text": [
        "\n",
        "http://imgur.com/ndXEDmE\n",
        "My Son's first ever baseball game with Daddy.\n",
        "LiamsDaddy\n",
        "[]"
       ]
      },
      {
       "output_type": "stream",
       "stream": "stdout",
       "text": [
        "\n",
        "http://imgur.com/9nplYrE\n",
        "Please, draw myself and my girlfriend. Selfie at the beach! Any styles welcome, thanks so much! ;)\n",
        "jpesmeraldo\n",
        "[]"
       ]
      },
      {
       "output_type": "stream",
       "stream": "stdout",
       "text": [
        "\n",
        "http://imgur.com/7Q7rjdC\n",
        "My daughter from a fun little photo project we did together :)\n",
        "Lileaspirals\n",
        "[]"
       ]
      },
      {
       "output_type": "stream",
       "stream": "stdout",
       "text": [
        "\n",
        "http://imgur.com/3uQgoyL\n",
        "Me and my beautiful wife on the happiest day of my life\n",
        "TylerMills\n",
        "[]"
       ]
      },
      {
       "output_type": "stream",
       "stream": "stdout",
       "text": [
        "\n",
        "http://imgur.com/a/fnKuP\n",
        "Anyone want draw my (hopefully) soon to be fiancee from her favorite picture?\n",
        "sirwes\n",
        "[]"
       ]
      },
      {
       "output_type": "stream",
       "stream": "stdout",
       "text": [
        "\n",
        "http://imgur.com/a/x5gWO\n",
        "Please draw me and my soon to be SO as a surprise for him please?\n",
        "fletchdoll\n",
        "[]"
       ]
      },
      {
       "output_type": "stream",
       "stream": "stdout",
       "text": [
        "\n",
        "http://imgur.com/M2LjhZ8\n",
        "Would love a fun picture of my little boy please.\n",
        "oldwesty\n",
        "[]"
       ]
      },
      {
       "output_type": "stream",
       "stream": "stdout",
       "text": [
        "\n",
        "http://imgur.com/a/KjDMi\n",
        "I was wondering if anyone could draw me? I just linked to the album that I save all my pictures in so you have multiple photo choices. Thanks!\n",
        "blasejade\n",
        "[<praw.objects.Comment object at 0x2123750>, <praw.objects.Comment object at 0x1fa1df0>, <praw.objects.Comment object at 0x1fa1330>]"
       ]
      },
      {
       "output_type": "stream",
       "stream": "stdout",
       "text": [
        "\n",
        "http://imgur.com/cnE21iX\n",
        "Running out of gift ideas for my boyfriend for Christmas. I'd love to give him a framed drawing of us on halloween for his desk\n",
        "jazzillaa\n",
        "[<praw.objects.Comment object at 0x1feb090>]"
       ]
      },
      {
       "output_type": "stream",
       "stream": "stdout",
       "text": [
        "\n",
        "http://i.imgur.com/aEDRodb.jpg\n",
        "My little man a few months ago. Would love to see any of the talented artists recreate it.\n",
        "nickel45\n",
        "[]"
       ]
      },
      {
       "output_type": "stream",
       "stream": "stdout",
       "text": [
        "\n",
        "http://i.imgur.com/eefMUpb.jpg\n",
        "Good afternoon, Reddit artists! Here is me waiting at the doctor's office. All creative styles welcome! :)\n",
        "Sarahbelle89\n",
        "[<praw.objects.Comment object at 0x203f050>, <praw.objects.Comment object at 0x1fa1410>]"
       ]
      },
      {
       "output_type": "stream",
       "stream": "stdout",
       "text": [
        "\n"
       ]
      }
     ],
     "prompt_number": 165
    },
    {
     "cell_type": "code",
     "collapsed": false,
     "input": [
      "opsinz = open('/home/wcmckee/visignsys/index.meta', 'r')\n",
      "panz = opsinz.read()"
     ],
     "language": "python",
     "metadata": {},
     "outputs": [],
     "prompt_number": 166
    },
    {
     "cell_type": "code",
     "collapsed": false,
     "input": [
      "panz()"
     ],
     "language": "python",
     "metadata": {},
     "outputs": [
      {
       "ename": "TypeError",
       "evalue": "'str' object is not callable",
       "output_type": "pyerr",
       "traceback": [
        "\u001b[1;31m---------------------------------------------------------------------------\u001b[0m\n\u001b[1;31mTypeError\u001b[0m                                 Traceback (most recent call last)",
        "\u001b[1;32m<ipython-input-167-5adf893c95df>\u001b[0m in \u001b[0;36m<module>\u001b[1;34m()\u001b[0m\n\u001b[1;32m----> 1\u001b[1;33m \u001b[0mpanz\u001b[0m\u001b[1;33m(\u001b[0m\u001b[1;33m)\u001b[0m\u001b[1;33m\u001b[0m\u001b[0m\n\u001b[0m",
        "\u001b[1;31mTypeError\u001b[0m: 'str' object is not callable"
       ]
      }
     ],
     "prompt_number": 167
    },
    {
     "cell_type": "code",
     "collapsed": false,
     "input": [
      "doc = dominate.document(title='GetsDrawn')\n",
      "\n",
      "with doc.head:\n",
      "    link(rel='stylesheet', href='style.css')\n",
      "    script(type='text/javascript', src='script.js')\n",
      "    \n",
      "    with div():\n",
      "        attr(cls='header')\n",
      "        h1('GetsDrawn')\n",
      "        p(img('imgs/getsdrawn-bw.png', src='imgs/getsdrawn-bw.png'))\n",
      "        p('Updated ', strftime(\"%a, %d %b %Y %H:%M:%S +0000\", gmtime()))\n",
      "        p(panz)\n",
      "        p(bodycom)\n",
      "    \n",
      "    \n",
      "\n",
      "with doc:\n",
      "    with div(id='body').add(ol()):\n",
      "        for rdz in lisrgc:\n",
      "            h1(rdz.title)\n",
      "            #a(rdz.url)\n",
      "            if '.jpg' or '.png' in rdz.url:\n",
      "                #print rdz.url\n",
      "                p(img(rdz.url, src='%s' % rdz.url))\n",
      "            #print rdz.url\n",
      "            #if '.jpg' in rdz.url:\n",
      "            #    img(rdz.urlz)\n",
      "            #else:\n",
      "            #    a(rdz.urlz)\n",
      "            p(str(rdz.author))\n",
      "            \n",
      "            #li(img(i.lower(), src='%s' % i))\n",
      "\n",
      "    with div():\n",
      "        attr(cls='body')\n",
      "        p('GetsDrawn is open source')\n",
      "        a('http://github.com/wcmckee/wcmckee')\n",
      "\n",
      "#print doc"
     ],
     "language": "python",
     "metadata": {},
     "outputs": [],
     "prompt_number": 179
    },
    {
     "cell_type": "code",
     "collapsed": false,
     "input": [
      "gtdrndic"
     ],
     "language": "python",
     "metadata": {},
     "outputs": [
      {
       "metadata": {},
       "output_type": "pyout",
       "prompt_number": 180,
       "text": [
        "{'title': u\"Good afternoon, Reddit artists! Here is me waiting at the doctor's office. All creative styles welcome! :)\"}"
       ]
      }
     ],
     "prompt_number": 180
    },
    {
     "cell_type": "code",
     "collapsed": false,
     "input": [
      "doc.render()"
     ],
     "language": "python",
     "metadata": {},
     "outputs": [
      {
       "metadata": {},
       "output_type": "pyout",
       "prompt_number": 181,
       "text": [
        "u'<!DOCTYPE html>\\n<html>\\n  <head>\\n    <title>GetsDrawn</title>\\n    <link href=\"style.css\" rel=\"stylesheet\"><script src=\"script.js\" type=\"text/javascript\"></script>\\n    <div class=\"header\">\\n      <h1>GetsDrawn</h1>\\n      <p>\\n        <img src=\"imgs/getsdrawn-bw.png\">\\n      </p>\\n      <p>Updated Sat, 06 Dec 2014 05:36:19 +0000</p>\\n      <p>[\\'11:30\\', \\'ESW\\', \\'William Mckee\\', \\'06-12-2014\\', \\'testing at fairfield\\']</p>\\n      <p>I\\'m aware of its use on Reddit. I always find it to be insulting.\\n\\nSubtext: Your post was okay. Mine is better. My post is better than yours. I am now going to call your post out specifically, in front of everyone, as being &quot;less than.&quot;\\n\\nPlease just change the title, like I asked. Thank you.Posting, deleting, and reposting would normally earn you a ban from me:\\n\\nhttp://www.reddit.com/r/redditgetsdrawn/comments/2nwr0e/in_the_spirit_of_christmas_hoping_i_can_get_some/\\n\\nHowever, I\\'m trying to get my ban number down this month, so consider this a warning to read and follow our rules. ;) Aaaaand your post was removed.Hee hee, poooor wembly! :DNo need, if I wanted them gone, I would have removed them. Just letting you know for future reference.Ugh. Thank you.You broke our frequent posting rule:\\n\\nhttp://www.reddit.com/r/redditgetsdrawn/comments/2nzd0u/id_love_to_get_a_drawing_of_one_of_my_favourite/\\n\\nPost removed.Post removed. The only pets you can post are your own. Please read our rules.Please repost without the &quot;I see your.....and raise you.....&quot;\\n\\nNo need to insult the other submitter. Just make it clear in your next title that this is your uncle. Thanks.Thank you! :)Your comment was removed for breaking our rule about appearance. As that is your second warning, I would give our rules page a good long read before participating further:\\n\\nwww.reddit.com/r/redditgetsdrawn/wikiImages that are filtered or manipulated are removed. Like yours.Nice job, good for you :)This has been reported as a repost. If it is, I\\'ll be back and your post will be removed.Your comment was removed. Please read the rules of the sub before participating.Post removed. You can use RGD art to decorate your credit card.You have artists to thank. O_OWelcome to the sub! :)Wonderful job! However, per our rules, please do not comment on appearance. Thank you!You have artists to thank. O_OHoly moly :DThis subreddit is indeed okay with pixel work. :)[No.](http://i.imgur.com/RyPJujS.gif)\\n\\nPlease let me know if you\\'d like me to turn your comment removal into a ban.You post photos of this person a lot - at least five different times. She\\'s received lots of art before:\\n\\nhttp://www.reddit.com/r/redditgetsdrawn/comments/22yh2o/id_love_to_see_an_artistic_interpretation_of_an/\\n\\nand more recently here:\\n\\nhttp://www.reddit.com/r/redditgetsdrawn/comments/2nc72u/im_putting_together_an_album_of_drawn_pictures/\\n\\nIt\\'s not against the rules, but I do think it\\'s strange that you\\'re submitting this person over and over to RGD, even after receiving art for her.\\nYay, good to see you!Goodness!</p>\\n    </div>\\n  </head>\\n  <body>\\n    <div id=\"body\">\\n      <ol>\\n        <h1>Could someone draw my girlfriend and me?</h1>\\n        <p>\\n          <img src=\"http://i.imgur.com/hUlG5Vc.jpg\">\\n        </p>\\n        <p>Girgir55</p>\\n        <h1>My favorite woman in the world is my mom. This is a picture of her as a young woman. Could you please draw her?</h1>\\n        <p>\\n          <img src=\"http://imgur.com/cOD4le7\">\\n        </p>\\n        <p>Nattyzee3</p>\\n        <h1>Care to draw us weirdos?</h1>\\n        <p>\\n          <img src=\"http://i.imgur.com/QrMunEg.jpg\">\\n        </p>\\n        <p>mischiefismychicken</p>\\n        <h1>Would anyone like to draw me?</h1>\\n        <p>\\n          <img src=\"http://imgur.com/kbAy4Vw\">\\n        </p>\\n        <p>CD5700</p>\\n        <h1>I love this picture of my inlaws, could someone draw it?</h1>\\n        <p>\\n          <img src=\"http://imgur.com/NoSvCbt\">\\n        </p>\\n        <p>Sectr9goddess</p>\\n        <h1>Me with some lovely flowers</h1>\\n        <p>\\n          <img src=\"http://imgur.com/zkAWMic\">\\n        </p>\\n        <p>leannimals</p>\\n        <h1>Anyone want to draw me as a green witch? :)</h1>\\n        <p>\\n          <img src=\"http://i.imgur.com/eTVYxje.jpg\">\\n        </p>\\n        <p>autumnwolfmoon89</p>\\n        <h1>Would love someone to draw my dog.</h1>\\n        <p>\\n          <img src=\"http://i.imgur.com/occiAsF.jpg?1\">\\n        </p>\\n        <p>asm1th</p>\\n        <h1>Me being a desert fox in the Mojave!</h1>\\n        <p>\\n          <img src=\"http://imgur.com/hWHlxKS\">\\n        </p>\\n        <p>arianathefox</p>\\n        <h1>I got a new haircut - would anyone like to draw me with it?</h1>\\n        <p>\\n          <img src=\"http://imgur.com/a/g8Nx6\">\\n        </p>\\n        <p>MrsBoris</p>\\n        <h1>My nephews and I in Lake George. It would be so cool to see us drawn somewhere magical.</h1>\\n        <p>\\n          <img src=\"http://m.imgur.com/Is2M1EA\">\\n        </p>\\n        <p>kachie1317</p>\\n        <h1>I\\'d love to give my big sister a drawing of us for Christmas! Anyone out there who wants to give iT a try?</h1>\\n        <p>\\n          <img src=\"http://imgur.com/8NdHMRJ\">\\n        </p>\\n        <p>SofieBuyse</p>\\n        <h1>Painting with my dog!</h1>\\n        <p>\\n          <img src=\"http://i.imgur.com/k40b2YB.jpg\">\\n        </p>\\n        <p>Taroh</p>\\n        <h1>My daughter and her sleeping cousin. Draw their first meeting?!</h1>\\n        <p>\\n          <img src=\"http://imgur.com/dMA1Ns3\">\\n        </p>\\n        <p>babydaisy611</p>\\n        <h1>My Son\\'s first ever baseball game with Daddy.</h1>\\n        <p>\\n          <img src=\"http://imgur.com/ndXEDmE\">\\n        </p>\\n        <p>LiamsDaddy</p>\\n        <h1>Please, draw myself and my girlfriend. Selfie at the beach! Any styles welcome, thanks so much! ;)</h1>\\n        <p>\\n          <img src=\"http://imgur.com/9nplYrE\">\\n        </p>\\n        <p>jpesmeraldo</p>\\n        <h1>My daughter from a fun little photo project we did together :)</h1>\\n        <p>\\n          <img src=\"http://imgur.com/7Q7rjdC\">\\n        </p>\\n        <p>Lileaspirals</p>\\n        <h1>Me and my beautiful wife on the happiest day of my life</h1>\\n        <p>\\n          <img src=\"http://imgur.com/3uQgoyL\">\\n        </p>\\n        <p>TylerMills</p>\\n        <h1>Anyone want draw my (hopefully) soon to be fiancee from her favorite picture?</h1>\\n        <p>\\n          <img src=\"http://imgur.com/a/fnKuP\">\\n        </p>\\n        <p>sirwes</p>\\n        <h1>Please draw me and my soon to be SO as a surprise for him please?</h1>\\n        <p>\\n          <img src=\"http://imgur.com/a/x5gWO\">\\n        </p>\\n        <p>fletchdoll</p>\\n        <h1>Would love a fun picture of my little boy please.</h1>\\n        <p>\\n          <img src=\"http://imgur.com/M2LjhZ8\">\\n        </p>\\n        <p>oldwesty</p>\\n        <h1>I was wondering if anyone could draw me? I just linked to the album that I save all my pictures in so you have multiple photo choices. Thanks!</h1>\\n        <p>\\n          <img src=\"http://imgur.com/a/KjDMi\">\\n        </p>\\n        <p>blasejade</p>\\n        <h1>Running out of gift ideas for my boyfriend for Christmas. I\\'d love to give him a framed drawing of us on halloween for his desk</h1>\\n        <p>\\n          <img src=\"http://imgur.com/cnE21iX\">\\n        </p>\\n        <p>jazzillaa</p>\\n        <h1>My little man a few months ago. Would love to see any of the talented artists recreate it.</h1>\\n        <p>\\n          <img src=\"http://i.imgur.com/aEDRodb.jpg\">\\n        </p>\\n        <p>nickel45</p>\\n        <h1>Good afternoon, Reddit artists! Here is me waiting at the doctor\\'s office. All creative styles welcome! :)</h1>\\n        <p>\\n          <img src=\"http://i.imgur.com/eefMUpb.jpg\">\\n        </p>\\n        <p>Sarahbelle89</p>\\n      </ol>\\n    </div>\\n    <div class=\"body\">\\n      <p>GetsDrawn is open source</p>\\n      <a>http://github.com/wcmckee/wcmckee</a>\\n    </div>\\n  </body>\\n</html>'"
       ]
      }
     ],
     "prompt_number": 181
    },
    {
     "cell_type": "code",
     "collapsed": false,
     "input": [
      "indfil = ('/home/wcmckee/getsdrawndotcom/index.html')"
     ],
     "language": "python",
     "metadata": {},
     "outputs": [],
     "prompt_number": 182
    },
    {
     "cell_type": "code",
     "collapsed": false,
     "input": [
      "mkind = open(indfil, 'w')\n",
      "mkind.write(str(doc))\n",
      "mkind.close()"
     ],
     "language": "python",
     "metadata": {},
     "outputs": [],
     "prompt_number": 183
    },
    {
     "cell_type": "code",
     "collapsed": false,
     "input": [
      "#os.system('scp -r /home/wcmckee/getsdrawndotcom/ wcmckee@getsdrawn.com:/home/wcmckee/getsdrawndotcom')"
     ],
     "language": "python",
     "metadata": {},
     "outputs": [],
     "prompt_number": 184
    },
    {
     "cell_type": "code",
     "collapsed": false,
     "input": [
      "os.system('scp -r /home/wcmckee/getsdrawndotcom/index.html wcmckee@getsdrawn.com:/home/wcmckee/getsdrawndotcom/index.html')"
     ],
     "language": "python",
     "metadata": {},
     "outputs": [
      {
       "metadata": {},
       "output_type": "pyout",
       "prompt_number": 185,
       "text": [
        "0"
       ]
      }
     ],
     "prompt_number": 185
    },
    {
     "cell_type": "code",
     "collapsed": false,
     "input": [
      "os.system('scp -r /home/wcmckee/getsdrawndotcom/style.css wcmckee@getsdrawn.com:/home/wcmckee/getsdrawndotcom/style.css')"
     ],
     "language": "python",
     "metadata": {},
     "outputs": []
    },
    {
     "cell_type": "code",
     "collapsed": false,
     "input": [],
     "language": "python",
     "metadata": {},
     "outputs": []
    }
   ],
   "metadata": {}
  }
 ]
}