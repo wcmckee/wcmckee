{
 "metadata": {
  "name": "",
  "signature": "sha256:b93b245e7a2fab3cdd5646d9c39e3bc49f687ef0d4328d49319999ea57db1bd8"
 },
 "nbformat": 3,
 "nbformat_minor": 0,
 "worksheets": []
}