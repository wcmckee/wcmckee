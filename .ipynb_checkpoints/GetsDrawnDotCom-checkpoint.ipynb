{
 "metadata": {
  "name": "",
  "signature": "sha256:cd7d78a752194a52a770fbe60dc264e8dcbaa6b433685f88324eb52a33d1cc18"
 },
 "nbformat": 3,
 "nbformat_minor": 0,
 "worksheets": [
  {
   "cells": [
    {
     "cell_type": "markdown",
     "metadata": {},
     "source": [
      "<h1>GetsDrawn DotCom</h1>"
     ]
    },
    {
     "cell_type": "markdown",
     "metadata": {},
     "source": [
      "This is a python script to generate the website GetsDrawn. It takes data from /r/RedditGetsDrawn and makes something awesome.\n",
      "\n",
      "The script has envolved and been rewritten several times. \n",
      "\n",
      "The first script for rgdsnatch was written after I got banned from posting my artwork on /r/RedditGetsDrawn. The plan was to create a new site that displayed stuff from /r/RedditGetsDrawn. \n",
      "\n",
      "Currently it only displays the most recent 25 items on redditgetsdrawn.\n",
      "\n",
      "This is moving forward from rgdsnatch.py because I am stuck on it.  \n",
      "\n",
      "TODO\n",
      "\n",
      "Fix the links that don't link to png/jpeg and link to webaddress. \n",
      "Needs to get the images that are at that web address and embed them.\n",
      "\n",
      "Display artwork submitted under the images. \n",
      "\n",
      "Upload artwork to user. Sends them a message on redditgetsdrawn with links. \n",
      "\n",
      "More pandas\n",
      "\n",
      "\n",
      "Currently saves username-line-bw-colour.png to imgs folder. Instead get it to save to imgs/year/month/day/usernames.png.\n",
      "Script checks the year/month/day and if folder isnt created, it creates it. If folder is there, exit. \n",
      "Maybe get the reference image and save it with the line/bw/color.pngs\n"
     ]
    },
    {
     "cell_type": "code",
     "collapsed": false,
     "input": [
      "import os \n",
      "import requests\n",
      "from bs4 import BeautifulSoup\n",
      "import re\n",
      "import json\n",
      "import time\n",
      "import praw\n",
      "import dominate\n",
      "from dominate.tags import * \n",
      "from time import gmtime, strftime\n",
      "#import nose\n",
      "#import unittest\n",
      "import numpy as np\n",
      "import pandas as pd\n",
      "from pandas import *\n",
      "from PIL import Image\n",
      "from pprint import pprint\n",
      "#import pyttsx"
     ],
     "language": "python",
     "metadata": {},
     "outputs": [],
     "prompt_number": 158
    },
    {
     "cell_type": "code",
     "collapsed": false,
     "input": [
      "gtsdrndir = ('/home/wcmckee/getsdrawndotcom')"
     ],
     "language": "python",
     "metadata": {},
     "outputs": [],
     "prompt_number": 159
    },
    {
     "cell_type": "code",
     "collapsed": false,
     "input": [
      "os.chdir(gtsdrndir)"
     ],
     "language": "python",
     "metadata": {},
     "outputs": [],
     "prompt_number": 160
    },
    {
     "cell_type": "code",
     "collapsed": false,
     "input": [
      "r = praw.Reddit(user_agent='getsdrawndotcom')"
     ],
     "language": "python",
     "metadata": {},
     "outputs": [],
     "prompt_number": 161
    },
    {
     "cell_type": "code",
     "collapsed": false,
     "input": [
      "#getmin = r.get_redditor('itwillbemine')"
     ],
     "language": "python",
     "metadata": {},
     "outputs": [],
     "prompt_number": 162
    },
    {
     "cell_type": "code",
     "collapsed": false,
     "input": [
      "#mincom = getmin.get_comments()"
     ],
     "language": "python",
     "metadata": {},
     "outputs": [],
     "prompt_number": 163
    },
    {
     "cell_type": "code",
     "collapsed": false,
     "input": [
      "#engine = pyttsx.init()\n",
      "\n",
      "#engine.say('The quick brown fox jumped over the lazy dog.')\n",
      "#engine.runAndWait()"
     ],
     "language": "python",
     "metadata": {},
     "outputs": [],
     "prompt_number": 164
    },
    {
     "cell_type": "code",
     "collapsed": false,
     "input": [
      "#shtweet = []"
     ],
     "language": "python",
     "metadata": {},
     "outputs": [],
     "prompt_number": 165
    },
    {
     "cell_type": "code",
     "collapsed": false,
     "input": [
      "#for mi in mincom:\n",
      "#    print mi\n",
      "#    shtweet.append(mi)"
     ],
     "language": "python",
     "metadata": {},
     "outputs": [],
     "prompt_number": 166
    },
    {
     "cell_type": "code",
     "collapsed": false,
     "input": [
      "bodycom = []\n",
      "bodyicv = dict()"
     ],
     "language": "python",
     "metadata": {},
     "outputs": [],
     "prompt_number": 167
    },
    {
     "cell_type": "code",
     "collapsed": false,
     "input": [
      "#beginz = pyttsx.init()"
     ],
     "language": "python",
     "metadata": {},
     "outputs": [],
     "prompt_number": 168
    },
    {
     "cell_type": "code",
     "collapsed": false,
     "input": [
      "#for shtz in shtweet:\n",
      "#    print shtz.downs\n",
      "#    print shtz.ups\n",
      "#    print shtz.body\n",
      "#    print shtz.replies\n",
      "    #beginz.say(shtz.author)\n",
      "    #beginz.say(shtz.body)\n",
      "    #beginz.runAndWait()\n",
      "    \n",
      "#    bodycom.append(shtz.body)\n",
      "    #bodyic"
     ],
     "language": "python",
     "metadata": {},
     "outputs": [],
     "prompt_number": 169
    },
    {
     "cell_type": "code",
     "collapsed": false,
     "input": [
      "#bodycom "
     ],
     "language": "python",
     "metadata": {},
     "outputs": [],
     "prompt_number": 170
    },
    {
     "cell_type": "code",
     "collapsed": false,
     "input": [
      "getnewr = r.get_subreddit('redditgetsdrawn')"
     ],
     "language": "python",
     "metadata": {},
     "outputs": [],
     "prompt_number": 171
    },
    {
     "cell_type": "code",
     "collapsed": false,
     "input": [
      "rdnew = getnewr.get_new()"
     ],
     "language": "python",
     "metadata": {},
     "outputs": [],
     "prompt_number": 172
    },
    {
     "cell_type": "code",
     "collapsed": false,
     "input": [
      "lisrgc = []\n",
      "lisauth = []"
     ],
     "language": "python",
     "metadata": {},
     "outputs": [],
     "prompt_number": 173
    },
    {
     "cell_type": "code",
     "collapsed": false,
     "input": [
      "for uz in rdnew:\n",
      "    #print uz\n",
      "    lisrgc.append(uz)"
     ],
     "language": "python",
     "metadata": {},
     "outputs": [],
     "prompt_number": 174
    },
    {
     "cell_type": "code",
     "collapsed": false,
     "input": [
      "gtdrndic = dict()"
     ],
     "language": "python",
     "metadata": {},
     "outputs": [],
     "prompt_number": 175
    },
    {
     "cell_type": "code",
     "collapsed": false,
     "input": [
      "imgdir = ('/home/wcmckee/getsdrawndotcom/imgs')"
     ],
     "language": "python",
     "metadata": {},
     "outputs": [],
     "prompt_number": 176
    },
    {
     "cell_type": "code",
     "collapsed": false,
     "input": [
      "artlist = os.listdir(imgdir)"
     ],
     "language": "python",
     "metadata": {},
     "outputs": [],
     "prompt_number": 177
    },
    {
     "cell_type": "code",
     "collapsed": false,
     "input": [
      "from time import time"
     ],
     "language": "python",
     "metadata": {},
     "outputs": [],
     "prompt_number": 178
    },
    {
     "cell_type": "code",
     "collapsed": false,
     "input": [
      "yearz = strftime(\"%y\", gmtime())\n",
      "monthz = strftime(\"%m\", gmtime())\n",
      "dayz = strftime(\"%d\", gmtime())\n",
      "\n",
      "\n",
      "#strftime(\"%y %m %d\", gmtime())\n",
      "\n"
     ],
     "language": "python",
     "metadata": {},
     "outputs": [],
     "prompt_number": 179
    },
    {
     "cell_type": "code",
     "collapsed": false,
     "input": [
      "imgzdir = ('/home/wcmckee/getsdrawndotcom/imgs/')\n",
      "yrzpat = (imgzdir + yearz)\n",
      "monzpath = (yrzpat + '/' + monthz)\n",
      "dayzpath = (monzpath + '/' + dayz)"
     ],
     "language": "python",
     "metadata": {},
     "outputs": [],
     "prompt_number": 180
    },
    {
     "cell_type": "code",
     "collapsed": false,
     "input": [
      "if os.path.isdir(imgzdir + yearz) == True:\n",
      "    print 'its true'\n",
      "else:\n",
      "    print 'its false'\n",
      "    os.mkdir(imgzdir + yearz)"
     ],
     "language": "python",
     "metadata": {},
     "outputs": [
      {
       "output_type": "stream",
       "stream": "stdout",
       "text": [
        "its true\n"
       ]
      }
     ],
     "prompt_number": 181
    },
    {
     "cell_type": "code",
     "collapsed": false,
     "input": [
      "if os.path.isdir(monzpath) == True:\n",
      "    print 'its true'\n",
      "else:\n",
      "    print 'its false'\n",
      "    os.mkdir(monzpath)\n",
      "\n",
      "#os.mkdir(monzpath)"
     ],
     "language": "python",
     "metadata": {},
     "outputs": [
      {
       "output_type": "stream",
       "stream": "stdout",
       "text": [
        "its true\n"
       ]
      }
     ],
     "prompt_number": 182
    },
    {
     "cell_type": "code",
     "collapsed": false,
     "input": [
      "if os.path.isdir(dayzpath) == True:\n",
      "    print 'its true'\n",
      "else:\n",
      "    print 'its false'\n",
      "    os.mkdir(dayzpath)\n",
      "\n",
      "#os.mkdir(dayzpath)"
     ],
     "language": "python",
     "metadata": {},
     "outputs": [
      {
       "output_type": "stream",
       "stream": "stdout",
       "text": [
        "its true\n"
       ]
      }
     ],
     "prompt_number": 183
    },
    {
     "cell_type": "code",
     "collapsed": false,
     "input": [
      "artlist"
     ],
     "language": "python",
     "metadata": {},
     "outputs": [
      {
       "metadata": {},
       "output_type": "pyout",
       "prompt_number": 184,
       "text": [
        "['ravensymoneislife-line.png',\n",
        " 'RunOttawa613-bw.png',\n",
        " 'fuzz_e_bear-colour.png',\n",
        " 'fuzz_e_bear-bw.png',\n",
        " 'iloveariiii-line.png',\n",
        " 'plainclotheswoman-bw.png',\n",
        " 'alikonagurl83-line.png',\n",
        " 'starienite-colour.png',\n",
        " 'neszero-line.png',\n",
        " 'OrangeCloud-line.png',\n",
        " 'JEWPACOLYPSE-line.png',\n",
        " 'OhGollyG-line.png',\n",
        " 'JoisofLife-bw.png',\n",
        " 'alikonagurl83-colour.png',\n",
        " 'DemTurtlesCom-line.png',\n",
        " 'ravensymoneislife-bw.png',\n",
        " 'sirenmika-bw.png',\n",
        " 'lordneojoker-bw.png',\n",
        " 'Quackattackaggie-bw.png',\n",
        " 'youwinabagel-line.png',\n",
        " 'iloveariiii-bw.png',\n",
        " 'THORGNASH-bw.png',\n",
        " 'Salerno1717-bw.png',\n",
        " 'shripityshripit-bw.png',\n",
        " 'ofalco-colour.png',\n",
        " 'youwinabagel-colour.png',\n",
        " 'Imbie81-colour.png',\n",
        " 'Se7enOne-line.png',\n",
        " 'youwinabagel-bw.png',\n",
        " 'JEWPACOLYPSE-colour.png',\n",
        " 'seahorseVT-bw.png',\n",
        " 'celest123-line.png',\n",
        " 'The_Beaner-bw.png',\n",
        " 'arequest554-line.png',\n",
        " 'MrsEvil-bw.png',\n",
        " 'GymIsFun-bw.png',\n",
        " 'TD2705-colour.png',\n",
        " 'iamwolf777-line.png',\n",
        " 'RunOttawa613-colour.png',\n",
        " 'uhhhname-bw.png',\n",
        " 'RunOttawa613-line.png',\n",
        " 'sirenmika-colour.png',\n",
        " 'ghoztcum-line.png',\n",
        " 'labatomi-bw.png',\n",
        " 'OhGollyG-colour.png',\n",
        " 'lordneojoker-colour.png',\n",
        " 'shripityshripit-line.png',\n",
        " 'GymIsFun-line.png',\n",
        " 'BonAnchovy-bw.png',\n",
        " 'labatomi-line.png',\n",
        " 'ofalco-line.png',\n",
        " 'neszero-bw.png',\n",
        " 'BonAnchovy-colour.png',\n",
        " 'THORGNASH-line.png',\n",
        " 'Mailing_a_Bear-colour.png',\n",
        " 'REALchampagnePAPI-colour.png',\n",
        " 'REALchampagnePAPI-bw.png',\n",
        " 'JEWPACOLYPSE-bw.png',\n",
        " 'bulgarianutter-colour.png',\n",
        " 'plainclotheswoman-colour.png',\n",
        " 'GymIsFun-colour.png',\n",
        " 'LongDistanceGuyy-line.png',\n",
        " 'CapDance-bw.png',\n",
        " 'iloveariiii-colour.png',\n",
        " 'ravensymoneislife-colour.png',\n",
        " 'OhLydia-colour.png',\n",
        " 'OrangeCloud-bw.png',\n",
        " 'crayolalightblue-bw.png',\n",
        " '_jazmin-bw.png',\n",
        " 'DemTurtlesCom-bw.png',\n",
        " 'BeyondMars-colour.png',\n",
        " 'crayolalightblue-colour.png',\n",
        " 'uhhhname-line.png',\n",
        " 'The_Beaner-line.png',\n",
        " 'MrsEvil-line.png',\n",
        " 'crayolalightblue-line.png',\n",
        " 'CapDance-colour.png',\n",
        " 'JoisofLife-colour.png',\n",
        " 'BeyondMars-bw.png',\n",
        " 'Mailing_a_Bear-bw.png',\n",
        " 'THORGNASH-colour.png',\n",
        " 'MrsEvil-colour.png',\n",
        " 'iamwolf777-bw.png',\n",
        " '14',\n",
        " 'ofalco-bw.png',\n",
        " 'jerrytt-bw.png',\n",
        " 'OhGollyG-bw.png',\n",
        " 'Imbie81-bw.png',\n",
        " 'fuzz_e_bear-line.png',\n",
        " 'arequest554-bw.png',\n",
        " 'Se7enOne-colour.png',\n",
        " 'iamwolf777-colour.png',\n",
        " '12',\n",
        " 'Quackattackaggie-line.png',\n",
        " 'Jasperthecat77-bw.png',\n",
        " 'OhLydia-bw.png',\n",
        " 'Se7enOne-bw.png',\n",
        " 'sirenmika-line.png',\n",
        " 'lordneojoker-line.png',\n",
        " 'LongDistanceGuyy-colour.png',\n",
        " 'jerrytt-colour.png',\n",
        " 'Dreababii-bw.png',\n",
        " 'BeyondMars-line.png',\n",
        " 'ghoztcum-bw.png',\n",
        " 'uhhhname-colour.png',\n",
        " '_jazmin-colour.png',\n",
        " 'alikonagurl83-bw.png',\n",
        " 'AdamBarnhouse-colour.png',\n",
        " 'Quackattackaggie-colour.png',\n",
        " 'Jasperthecat77-line.png',\n",
        " 'The_Beaner-colour.png',\n",
        " 'starienite-line.png',\n",
        " 'jerrytt-line.png',\n",
        " 'Salerno1717-colour.png',\n",
        " 'Salerno1717-line.png',\n",
        " 'Dreababii-line.png',\n",
        " 'LongDistanceGuyy-bw.png',\n",
        " 'seahorseVT-line.png',\n",
        " 'OhLydia-line.png',\n",
        " 'AdamBarnhouse-bw.png',\n",
        " 'Dreababii-colour.png',\n",
        " 'celest123-bw.png',\n",
        " 'labatomi-colour.png',\n",
        " 'starienite-bw.png',\n",
        " 'OrangeCloud-colour.png',\n",
        " 'ghoztcum-colour.png',\n",
        " 'neszero-colour.png',\n",
        " 'REALchampagnePAPI-line.png',\n",
        " 'DemTurtlesCom-colour.png',\n",
        " 'BonAnchovy-line.png',\n",
        " 'bulgarianutter-line.png',\n",
        " 'TD2705-line.png',\n",
        " 'Jasperthecat77-colour.png',\n",
        " 'Imbie81-line.png',\n",
        " 'CapDance-line.png',\n",
        " 'seahorseVT-colour.png',\n",
        " 'JoisofLife-line.png',\n",
        " 'plainclotheswoman-line.png',\n",
        " '_jazmin-line.png',\n",
        " 'Mailing_a_Bear-line.png',\n",
        " 'TD2705-bw.png',\n",
        " 'arequest554-colour.png',\n",
        " 'shripityshripit-colour.png',\n",
        " 'bulgarianutter-bw.png',\n",
        " 'celest123-colour.png',\n",
        " 'AdamBarnhouse-line.png']"
       ]
      }
     ],
     "prompt_number": 184
    },
    {
     "cell_type": "code",
     "collapsed": false,
     "input": [
      "httpad = ('http://getsdrawn.com/imgs')"
     ],
     "language": "python",
     "metadata": {},
     "outputs": [],
     "prompt_number": 185
    },
    {
     "cell_type": "code",
     "collapsed": false,
     "input": [
      "#im = Image.new(\"RGB\", (512, 512), \"white\")\n",
      "#im.save(file + \".thumbnail\", \"JPEG\")"
     ],
     "language": "python",
     "metadata": {},
     "outputs": [],
     "prompt_number": 186
    },
    {
     "cell_type": "code",
     "collapsed": false,
     "input": [
      "for lisr in lisrgc:\n",
      "    gtdrndic.update({'title': lisr.title})\n",
      "    lisauth.append(str(lisr.author))\n"
     ],
     "language": "python",
     "metadata": {},
     "outputs": [],
     "prompt_number": 187
    },
    {
     "cell_type": "code",
     "collapsed": false,
     "input": [
      "os.chdir(dayzpath)"
     ],
     "language": "python",
     "metadata": {},
     "outputs": [],
     "prompt_number": 188
    },
    {
     "cell_type": "code",
     "collapsed": false,
     "input": [
      "os.listdir(dayzpath)"
     ],
     "language": "python",
     "metadata": {},
     "outputs": [
      {
       "metadata": {},
       "output_type": "pyout",
       "prompt_number": 192,
       "text": [
        "['jenniferjulieann-bw.png',\n",
        " 'Kmo78-colour.png',\n",
        " 'DeuceIsWild-bw.png',\n",
        " 'rj198706-bw.png',\n",
        " 'DisfunkyMonkey-line.png',\n",
        " 'Bdubsss-line.png',\n",
        " 'gowronatemybaby7-bw.png',\n",
        " 'Billy_Chaos-bw.png',\n",
        " 'tejaa-colour.png',\n",
        " 'gowronatemybaby7-colour.png',\n",
        " 'Nicole12493-bw.png',\n",
        " 'BigFatG-line.png',\n",
        " 'lockandkey23-line.png',\n",
        " 'BigFatG-colour.png',\n",
        " 'Billy_Chaos-line.png',\n",
        " 'gvallance-bw.png',\n",
        " 'butchyjohnson-bw.png',\n",
        " 'MadSteel-colour.png',\n",
        " 'BigFatG-bw.png',\n",
        " 'briba-bw.png',\n",
        " 'dr0ffig-colour.png',\n",
        " 'MadSteel-line.png',\n",
        " 'gvallance-colour.png',\n",
        " 'paulccole-line.png',\n",
        " 'rj198706-colour.png',\n",
        " 'dr0ffig-line.png',\n",
        " 'MadSteel-bw.png',\n",
        " 'paulccole-bw.png',\n",
        " 'davidisabeersnob-colour.png',\n",
        " 'CaptainReallyNigga-colour.png',\n",
        " 'tejaa-bw.png',\n",
        " 'DisfunkyMonkey-bw.png',\n",
        " 'Bdubsss-colour.png',\n",
        " 'tildeathdowe-line.png',\n",
        " 'gvallance-line.png',\n",
        " 'tejaa-line.png',\n",
        " 'rj198706-line.png',\n",
        " 'Nicole12493-line.png',\n",
        " 'dr0ffig-bw.png',\n",
        " 'DeuceIsWild-line.png',\n",
        " 'BKLC-line.png',\n",
        " 'alexdagreat15-bw.png',\n",
        " 'briba-line.png',\n",
        " 'alexdagreat15-line.png',\n",
        " 'BKLC-colour.png',\n",
        " 'butchyjohnson-colour.png',\n",
        " 'gowronatemybaby7-line.png',\n",
        " 'davidisabeersnob-bw.png',\n",
        " 'lockandkey23-colour.png',\n",
        " 'tildeathdowe-colour.png',\n",
        " 'Kmo78-line.png',\n",
        " 'Billy_Chaos-colour.png',\n",
        " 'davidisabeersnob-line.png',\n",
        " 'Nicole12493-colour.png',\n",
        " 'DeuceIsWild-colour.png',\n",
        " 'CaptainReallyNigga-bw.png',\n",
        " 'Bdubsss-bw.png',\n",
        " 'lockandkey23-bw.png',\n",
        " 'RileyByrdie-colour.png',\n",
        " 'tildeathdowe-bw.png',\n",
        " 'PetrichorEnigma-bw.png',\n",
        " 'BKLC-bw.png',\n",
        " 'jenniferjulieann-colour.png',\n",
        " 'butchyjohnson-line.png',\n",
        " 'PetrichorEnigma-line.png',\n",
        " 'RileyByrdie-bw.png',\n",
        " 'CaptainReallyNigga-line.png',\n",
        " 'jenniferjulieann-line.png',\n",
        " 'alexdagreat15-colour.png',\n",
        " 'Kmo78-bw.png',\n",
        " 'DisfunkyMonkey-colour.png',\n",
        " 'paulccole-colour.png',\n",
        " 'PetrichorEnigma-colour.png',\n",
        " 'briba-colour.png',\n",
        " 'RileyByrdie-line.png']"
       ]
      }
     ],
     "prompt_number": 192
    },
    {
     "cell_type": "code",
     "collapsed": false,
     "input": [
      "for lisa in lisauth:\n",
      "    #print lisa + '-line.png'\n",
      "    im = Image.new(\"RGB\", (512, 512), \"white\")\n",
      "    im.save(lisa + '-line.png')\n",
      "    im = Image.new(\"RGB\", (512, 512), \"white\")\n",
      "    im.save(lisa + '-bw.png')\n",
      "\n",
      "    #print lisa + '-bw.png'\n",
      "    im = Image.new(\"RGB\", (512, 512), \"white\")\n",
      "    im.save(lisa + '-colour.png')\n",
      "\n",
      "    #print lisa + '-colour.png'"
     ],
     "language": "python",
     "metadata": {},
     "outputs": [],
     "prompt_number": 190
    },
    {
     "cell_type": "code",
     "collapsed": false,
     "input": [
      "os.listdir('/home/wcmckee/getsdrawndotcom/imgs')"
     ],
     "language": "python",
     "metadata": {},
     "outputs": [
      {
       "metadata": {},
       "output_type": "pyout",
       "prompt_number": 191,
       "text": [
        "['ravensymoneislife-line.png',\n",
        " 'RunOttawa613-bw.png',\n",
        " 'fuzz_e_bear-colour.png',\n",
        " 'fuzz_e_bear-bw.png',\n",
        " 'iloveariiii-line.png',\n",
        " 'plainclotheswoman-bw.png',\n",
        " 'alikonagurl83-line.png',\n",
        " 'starienite-colour.png',\n",
        " 'neszero-line.png',\n",
        " 'OrangeCloud-line.png',\n",
        " 'JEWPACOLYPSE-line.png',\n",
        " 'OhGollyG-line.png',\n",
        " 'JoisofLife-bw.png',\n",
        " 'alikonagurl83-colour.png',\n",
        " 'DemTurtlesCom-line.png',\n",
        " 'ravensymoneislife-bw.png',\n",
        " 'sirenmika-bw.png',\n",
        " 'lordneojoker-bw.png',\n",
        " 'Quackattackaggie-bw.png',\n",
        " 'youwinabagel-line.png',\n",
        " 'iloveariiii-bw.png',\n",
        " 'THORGNASH-bw.png',\n",
        " 'Salerno1717-bw.png',\n",
        " 'shripityshripit-bw.png',\n",
        " 'ofalco-colour.png',\n",
        " 'youwinabagel-colour.png',\n",
        " 'Imbie81-colour.png',\n",
        " 'Se7enOne-line.png',\n",
        " 'youwinabagel-bw.png',\n",
        " 'JEWPACOLYPSE-colour.png',\n",
        " 'seahorseVT-bw.png',\n",
        " 'celest123-line.png',\n",
        " 'The_Beaner-bw.png',\n",
        " 'arequest554-line.png',\n",
        " 'MrsEvil-bw.png',\n",
        " 'GymIsFun-bw.png',\n",
        " 'TD2705-colour.png',\n",
        " 'iamwolf777-line.png',\n",
        " 'RunOttawa613-colour.png',\n",
        " 'uhhhname-bw.png',\n",
        " 'RunOttawa613-line.png',\n",
        " 'sirenmika-colour.png',\n",
        " 'ghoztcum-line.png',\n",
        " 'labatomi-bw.png',\n",
        " 'OhGollyG-colour.png',\n",
        " 'lordneojoker-colour.png',\n",
        " 'shripityshripit-line.png',\n",
        " 'GymIsFun-line.png',\n",
        " 'BonAnchovy-bw.png',\n",
        " 'labatomi-line.png',\n",
        " 'ofalco-line.png',\n",
        " 'neszero-bw.png',\n",
        " 'BonAnchovy-colour.png',\n",
        " 'THORGNASH-line.png',\n",
        " 'Mailing_a_Bear-colour.png',\n",
        " 'REALchampagnePAPI-colour.png',\n",
        " 'REALchampagnePAPI-bw.png',\n",
        " 'JEWPACOLYPSE-bw.png',\n",
        " 'bulgarianutter-colour.png',\n",
        " 'plainclotheswoman-colour.png',\n",
        " 'GymIsFun-colour.png',\n",
        " 'LongDistanceGuyy-line.png',\n",
        " 'CapDance-bw.png',\n",
        " 'iloveariiii-colour.png',\n",
        " 'ravensymoneislife-colour.png',\n",
        " 'OhLydia-colour.png',\n",
        " 'OrangeCloud-bw.png',\n",
        " 'crayolalightblue-bw.png',\n",
        " '_jazmin-bw.png',\n",
        " 'DemTurtlesCom-bw.png',\n",
        " 'BeyondMars-colour.png',\n",
        " 'crayolalightblue-colour.png',\n",
        " 'uhhhname-line.png',\n",
        " 'The_Beaner-line.png',\n",
        " 'MrsEvil-line.png',\n",
        " 'crayolalightblue-line.png',\n",
        " 'CapDance-colour.png',\n",
        " 'JoisofLife-colour.png',\n",
        " 'BeyondMars-bw.png',\n",
        " 'Mailing_a_Bear-bw.png',\n",
        " 'THORGNASH-colour.png',\n",
        " 'MrsEvil-colour.png',\n",
        " 'iamwolf777-bw.png',\n",
        " '14',\n",
        " 'ofalco-bw.png',\n",
        " 'jerrytt-bw.png',\n",
        " 'OhGollyG-bw.png',\n",
        " 'Imbie81-bw.png',\n",
        " 'fuzz_e_bear-line.png',\n",
        " 'arequest554-bw.png',\n",
        " 'Se7enOne-colour.png',\n",
        " 'iamwolf777-colour.png',\n",
        " '12',\n",
        " 'Quackattackaggie-line.png',\n",
        " 'Jasperthecat77-bw.png',\n",
        " 'OhLydia-bw.png',\n",
        " 'Se7enOne-bw.png',\n",
        " 'sirenmika-line.png',\n",
        " 'lordneojoker-line.png',\n",
        " 'LongDistanceGuyy-colour.png',\n",
        " 'jerrytt-colour.png',\n",
        " 'Dreababii-bw.png',\n",
        " 'BeyondMars-line.png',\n",
        " 'ghoztcum-bw.png',\n",
        " 'uhhhname-colour.png',\n",
        " '_jazmin-colour.png',\n",
        " 'alikonagurl83-bw.png',\n",
        " 'AdamBarnhouse-colour.png',\n",
        " 'Quackattackaggie-colour.png',\n",
        " 'Jasperthecat77-line.png',\n",
        " 'The_Beaner-colour.png',\n",
        " 'starienite-line.png',\n",
        " 'jerrytt-line.png',\n",
        " 'Salerno1717-colour.png',\n",
        " 'Salerno1717-line.png',\n",
        " 'Dreababii-line.png',\n",
        " 'LongDistanceGuyy-bw.png',\n",
        " 'seahorseVT-line.png',\n",
        " 'OhLydia-line.png',\n",
        " 'AdamBarnhouse-bw.png',\n",
        " 'Dreababii-colour.png',\n",
        " 'celest123-bw.png',\n",
        " 'labatomi-colour.png',\n",
        " 'starienite-bw.png',\n",
        " 'OrangeCloud-colour.png',\n",
        " 'ghoztcum-colour.png',\n",
        " 'neszero-colour.png',\n",
        " 'REALchampagnePAPI-line.png',\n",
        " 'DemTurtlesCom-colour.png',\n",
        " 'BonAnchovy-line.png',\n",
        " 'bulgarianutter-line.png',\n",
        " 'TD2705-line.png',\n",
        " 'Jasperthecat77-colour.png',\n",
        " 'Imbie81-line.png',\n",
        " 'CapDance-line.png',\n",
        " 'seahorseVT-colour.png',\n",
        " 'JoisofLife-line.png',\n",
        " 'plainclotheswoman-line.png',\n",
        " '_jazmin-line.png',\n",
        " 'Mailing_a_Bear-line.png',\n",
        " 'TD2705-bw.png',\n",
        " 'arequest554-colour.png',\n",
        " 'shripityshripit-colour.png',\n",
        " 'bulgarianutter-bw.png',\n",
        " 'celest123-colour.png',\n",
        " 'AdamBarnhouse-line.png']"
       ]
      }
     ],
     "prompt_number": 191
    },
    {
     "cell_type": "code",
     "collapsed": false,
     "input": [
      "lisauth"
     ],
     "language": "python",
     "metadata": {},
     "outputs": [
      {
       "metadata": {},
       "output_type": "pyout",
       "prompt_number": 72,
       "text": [
        "['GymIsFun',\n",
        " 'iamwolf777',\n",
        " 'OhGollyG',\n",
        " 'celest123',\n",
        " 'OhLydia',\n",
        " 'sirenmika',\n",
        " 'DemTurtlesCom',\n",
        " 'bulgarianutter',\n",
        " 'ravensymoneislife',\n",
        " 'jerrytt',\n",
        " 'Imbie81',\n",
        " 'alikonagurl83',\n",
        " 'arequest554',\n",
        " 'ofalco',\n",
        " 'OrangeCloud',\n",
        " 'iloveariiii',\n",
        " 'REALchampagnePAPI',\n",
        " 'ghoztcum',\n",
        " 'lordneojoker',\n",
        " 'Mailing_a_Bear',\n",
        " 'CapDance',\n",
        " 'fuzz_e_bear',\n",
        " 'Se7enOne',\n",
        " 'Jasperthecat77',\n",
        " 'BeyondMars']"
       ]
      }
     ],
     "prompt_number": 72
    },
    {
     "cell_type": "markdown",
     "metadata": {},
     "source": [
      "I want to save the list of usernames that submit images as png files in a dir. \n",
      "Currently when I call the list of authors it returns Redditor(user_name='theusername'). I want to return 'theusername'.\n",
      "Once this is resolved I can add '-line.png' '-bw.png' '-colour.png' to each folder. "
     ]
    },
    {
     "cell_type": "code",
     "collapsed": false,
     "input": [
      "lisr.author"
     ],
     "language": "python",
     "metadata": {},
     "outputs": [
      {
       "metadata": {},
       "output_type": "pyout",
       "prompt_number": 73,
       "text": [
        "Redditor(user_name='BeyondMars')"
       ]
      }
     ],
     "prompt_number": 73
    },
    {
     "cell_type": "code",
     "collapsed": false,
     "input": [
      "namlis = []"
     ],
     "language": "python",
     "metadata": {},
     "outputs": [],
     "prompt_number": 74
    },
    {
     "cell_type": "code",
     "collapsed": false,
     "input": [
      "opsinz = open('/home/wcmckee/visignsys/index.meta', 'r')\n",
      "panz = opsinz.read()"
     ],
     "language": "python",
     "metadata": {},
     "outputs": [],
     "prompt_number": 75
    },
    {
     "cell_type": "code",
     "collapsed": false,
     "input": [
      "#panz()\n",
      "for rdz in lisrgc:\n",
      "            (rdz.title)\n",
      "            #a(rdz.url)\n",
      "            if 'http://i.imgur.com' in rdz.url:\n",
      "                #print rdz.url\n",
      "                print (rdz.url)           "
     ],
     "language": "python",
     "metadata": {},
     "outputs": [
      {
       "output_type": "stream",
       "stream": "stdout",
       "text": [
        "http://i.imgur.com/NpwCNKt.jpg\n",
        "http://i.imgur.com/Hvr3rxM.jpg\n",
        "http://i.imgur.com/2KDM8rP.jpg\n",
        "http://i.imgur.com/uHxnHr2.jpg\n",
        "http://i.imgur.com/7RGCqGt.jpg\n",
        "http://i.imgur.com/CyGWm7m.jpg\n",
        "http://i.imgur.com/fzuJYZz.jpg\n",
        "http://i.imgur.com/6eVOGRH.jpg\n",
        "http://i.imgur.com/NUsy52B.jpg\n",
        "http://i.imgur.com/HSqfYLN.jpg\n",
        "http://i.imgur.com/4HXH8un.jpg\n",
        "http://i.imgur.com/NpfZc0P.jpg\n",
        "http://i.imgur.com/cfH5ZDo.jpg\n",
        "http://i.imgur.com/LHmOiA4.jpg\n",
        "http://i.imgur.com/1OaDPQB.jpg\n"
       ]
      }
     ],
     "prompt_number": 198
    },
    {
     "cell_type": "code",
     "collapsed": false,
     "input": [
      "doc = dominate.document(title='GetsDrawn')\n",
      "\n",
      "with doc.head:\n",
      "    link(rel='stylesheet', href='style.css')\n",
      "    script(type='text/javascript', src='script.js')\n",
      "    \n",
      "    with div():\n",
      "        attr(cls='header')\n",
      "        h1('GetsDrawn')\n",
      "        p(img('imgs/getsdrawn-bw.png', src='imgs/getsdrawn-bw.png'))\n",
      "        p('Updated ', strftime(\"%a, %d %b %Y %H:%M:%S +0000\", gmtime()))\n",
      "        p(panz)\n",
      "        p(bodycom)\n",
      "    \n",
      "    \n",
      "\n",
      "with doc:\n",
      "    with div(id='body').add(ol()):\n",
      "        for rdz in lisrgc:\n",
      "            h1(rdz.title)\n",
      "            #a(rdz.url)\n",
      "            if 'http://i.imgur.com' in rdz.url:\n",
      "                #print rdz.url\n",
      "                p(img(rdz.url, src='%s' % rdz.url))\n",
      "                \n",
      "            #print rdz.url\n",
      "            #if '.jpg' in rdz.url:\n",
      "            #    img(rdz.urlz)\n",
      "            #else:\n",
      "            #    a(rdz.urlz)\n",
      "            h1(str(rdz.author))\n",
      "            \n",
      "            #li(img(i.lower(), src='%s' % i))\n",
      "\n",
      "    with div():\n",
      "        attr(cls='body')\n",
      "        p('GetsDrawn is open source')\n",
      "        a('https://github.com/wcmckee/wcmckee')\n",
      "        a('https://reddit.com/r/redditgetsdrawn')\n",
      "\n",
      "#print doc"
     ],
     "language": "python",
     "metadata": {},
     "outputs": [],
     "prompt_number": 77
    },
    {
     "cell_type": "code",
     "collapsed": false,
     "input": [
      "gtdrndic"
     ],
     "language": "python",
     "metadata": {},
     "outputs": [
      {
       "metadata": {},
       "output_type": "pyout",
       "prompt_number": 37,
       "text": [
        "{}"
       ]
      }
     ],
     "prompt_number": 37
    },
    {
     "cell_type": "code",
     "collapsed": false,
     "input": [
      "docre = doc.render()"
     ],
     "language": "python",
     "metadata": {},
     "outputs": [],
     "prompt_number": 264
    },
    {
     "cell_type": "code",
     "collapsed": false,
     "input": [
      "#s = docre.decode('ascii', 'ignore')"
     ],
     "language": "python",
     "metadata": {},
     "outputs": [],
     "prompt_number": 265
    },
    {
     "cell_type": "code",
     "collapsed": false,
     "input": [
      "yourstring = docre.encode('ascii', 'ignore').decode('ascii')"
     ],
     "language": "python",
     "metadata": {},
     "outputs": [],
     "prompt_number": 266
    },
    {
     "cell_type": "code",
     "collapsed": false,
     "input": [
      "indfil = ('/home/wcmckee/getsdrawndotcom/index.html')"
     ],
     "language": "python",
     "metadata": {},
     "outputs": [],
     "prompt_number": 267
    },
    {
     "cell_type": "code",
     "collapsed": false,
     "input": [
      "mkind = open(indfil, 'w')\n",
      "mkind.write(yourstring)\n",
      "mkind.close()"
     ],
     "language": "python",
     "metadata": {},
     "outputs": [],
     "prompt_number": 268
    },
    {
     "cell_type": "code",
     "collapsed": false,
     "input": [
      "#os.system('scp -r /home/wcmckee/getsdrawndotcom/ wcmckee@getsdrawn.com:/home/wcmckee/getsdrawndotcom')"
     ],
     "language": "python",
     "metadata": {},
     "outputs": [],
     "prompt_number": 269
    },
    {
     "cell_type": "code",
     "collapsed": false,
     "input": [
      "os.system('scp -r /home/wcmckee/getsdrawndotcom/index.html wcmckee@getsdrawn.com:/home/wcmckee/getsdrawndotcom/index.html')"
     ],
     "language": "python",
     "metadata": {},
     "outputs": [
      {
       "metadata": {},
       "output_type": "pyout",
       "prompt_number": 270,
       "text": [
        "0"
       ]
      }
     ],
     "prompt_number": 270
    },
    {
     "cell_type": "code",
     "collapsed": false,
     "input": [
      "os.system('scp -r /home/wcmckee/getsdrawndotcom/style.css wcmckee@getsdrawn.com:/home/wcmckee/getsdrawndotcom/style.css')"
     ],
     "language": "python",
     "metadata": {},
     "outputs": [
      {
       "metadata": {},
       "output_type": "pyout",
       "prompt_number": 91,
       "text": [
        "256"
       ]
      }
     ],
     "prompt_number": 91
    },
    {
     "cell_type": "code",
     "collapsed": false,
     "input": [],
     "language": "python",
     "metadata": {},
     "outputs": [],
     "prompt_number": 91
    },
    {
     "cell_type": "code",
     "collapsed": false,
     "input": [],
     "language": "python",
     "metadata": {},
     "outputs": []
    }
   ],
   "metadata": {}
  }
 ]
}