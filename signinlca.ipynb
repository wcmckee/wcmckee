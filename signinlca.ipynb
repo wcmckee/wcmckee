{
 "metadata": {
  "name": "",
  "signature": "sha256:2e281bb93451c9544dfb5eaa24f94981dd093f7ce14201e4424c6cb3d68de86a"
 },
 "nbformat": 3,
 "nbformat_minor": 0,
 "worksheets": [
  {
   "cells": [
    {
     "cell_type": "markdown",
     "metadata": {},
     "source": [
      "signinlca\n",
      "\n",
      "script to signin for volunteers at lca2015"
     ]
    },
    {
     "cell_type": "code",
     "collapsed": false,
     "input": [
      "import os\n",
      "import time\n",
      "import json\n",
      "import getpass"
     ],
     "language": "python",
     "metadata": {},
     "outputs": []
    },
    {
     "cell_type": "code",
     "collapsed": false,
     "input": [
      "def returndate():\n",
      "    return time.strftime((\"%d\" + \"-\" + \"%b\" + \"-\" + \"%Y\"))\n",
      "\n",
      "def returntime():\n",
      "    return time.strftime(\"%H:%M:%S\")"
     ],
     "language": "python",
     "metadata": {},
     "outputs": []
    },
    {
     "cell_type": "code",
     "collapsed": false,
     "input": [
      "firnam = raw_input('first name: ')\n",
      "lasnam = raw_input('last name: ')\n",
      "tshir = raw_input('tshirt size: ')\n",
      "cofvol = raw_input('coffee volc: ')\n",
      "comen = raw_input('comments: ')"
     ],
     "language": "python",
     "metadata": {},
     "outputs": []
    },
    {
     "cell_type": "code",
     "collapsed": false,
     "input": [
      "betdict = dict()"
     ],
     "language": "python",
     "metadata": {},
     "outputs": [],
     "prompt_number": 94
    },
    {
     "cell_type": "code",
     "collapsed": false,
     "input": [
      "betdict.update({'first-name' : firnam})\n",
      "betdict.update({'last-name' : lasnam})\n",
      "betdict.update({'signin-date' : returndate()})\n",
      "betdict.update({'signin-hrmin' : returntime()})\n",
      "betdict.update({'tshirt-size' : tshir})\n",
      "betdict.update({'coffees' : int(cofvol)})\n",
      "betdict.update({'comments:' : comen})"
     ],
     "language": "python",
     "metadata": {},
     "outputs": [],
     "prompt_number": 95
    },
    {
     "cell_type": "code",
     "collapsed": false,
     "input": [
      "betdict"
     ],
     "language": "python",
     "metadata": {},
     "outputs": [
      {
       "metadata": {},
       "output_type": "pyout",
       "prompt_number": 96,
       "text": [
        "{'coffees': 4,\n",
        " 'comments:': 'doing av',\n",
        " 'first-name': 'william',\n",
        " 'last-name': 'mckee',\n",
        " 'signin-date': '13-Jan-2015',\n",
        " 'signin-hrmin': '09:03:43',\n",
        " 'tshirt-size': 'L'}"
       ]
      }
     ],
     "prompt_number": 96
    },
    {
     "cell_type": "code",
     "collapsed": false,
     "input": [
      "convj = json.dumps(betdict)"
     ],
     "language": "python",
     "metadata": {},
     "outputs": [],
     "prompt_number": 97
    },
    {
     "cell_type": "code",
     "collapsed": false,
     "input": [
      "convj"
     ],
     "language": "python",
     "metadata": {},
     "outputs": [
      {
       "metadata": {},
       "output_type": "pyout",
       "prompt_number": 98,
       "text": [
        "'{\"signin-date\": \"13-Jan-2015\", \"comments:\": \"doing av\", \"last-name\": \"mckee\", \"signin-hrmin\": \"09:03:43\", \"coffees\": 4, \"first-name\": \"william\", \"tshirt-size\": \"L\"}'"
       ]
      }
     ],
     "prompt_number": 98
    },
    {
     "cell_type": "code",
     "collapsed": false,
     "input": [
      "puser = getpass.getuser()"
     ],
     "language": "python",
     "metadata": {},
     "outputs": [],
     "prompt_number": 99
    },
    {
     "cell_type": "code",
     "collapsed": false,
     "input": [],
     "language": "python",
     "metadata": {},
     "outputs": [],
     "prompt_number": 99
    },
    {
     "cell_type": "code",
     "collapsed": false,
     "input": [
      "signpath = ('/home/' + puser + '/signinlca')"
     ],
     "language": "python",
     "metadata": {},
     "outputs": [],
     "prompt_number": 100
    },
    {
     "cell_type": "code",
     "collapsed": false,
     "input": [
      "if os.path.isdir(signpath) == True:\n",
      "    print 'Path is there'\n",
      "else:\n",
      "    print 'Path not there'\n",
      "    os.mkdir(signpath)"
     ],
     "language": "python",
     "metadata": {},
     "outputs": [
      {
       "output_type": "stream",
       "stream": "stdout",
       "text": [
        "Path is there\n"
       ]
      }
     ],
     "prompt_number": 101
    },
    {
     "cell_type": "code",
     "collapsed": false,
     "input": [
      "os.chdir(signpath)"
     ],
     "language": "python",
     "metadata": {},
     "outputs": [],
     "prompt_number": 102
    },
    {
     "cell_type": "code",
     "collapsed": false,
     "input": [
      "opday = open(str(firnam + lasnam) + '.json', 'a')"
     ],
     "language": "python",
     "metadata": {},
     "outputs": [],
     "prompt_number": 103
    },
    {
     "cell_type": "code",
     "collapsed": false,
     "input": [
      "opday.write(convj)"
     ],
     "language": "python",
     "metadata": {},
     "outputs": [],
     "prompt_number": 105
    },
    {
     "cell_type": "code",
     "collapsed": false,
     "input": [],
     "language": "python",
     "metadata": {},
     "outputs": []
    }
   ],
   "metadata": {}
  }
 ]
}