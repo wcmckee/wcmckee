{
 "cells": [
  {
   "cell_type": "markdown",
   "metadata": {},
   "source": [
    "fuuslack\n",
    "\n",
    "useless crap slack stuff.\n",
    "\n",
    "Send messages to both Slack and Twitter. \n",
    "\n",
    "Would like to add messages i reply and responces but don't want\n",
    "to get in trouble with organisers. "
   ]
  },
  {
   "cell_type": "code",
   "execution_count": 6,
   "metadata": {
    "collapsed": true
   },
   "outputs": [],
   "source": [
    "import slacker\n",
    "\n",
    "from TwitterFollowBot import TwitterBot"
   ]
  },
  {
   "cell_type": "code",
   "execution_count": 7,
   "metadata": {
    "collapsed": false
   },
   "outputs": [
    {
     "name": "stderr",
     "output_type": "stream",
     "text": [
      "Warning: Your Twitter follower sync files are more than a day old. It is highly recommended that you sync them by calling sync_follows() before continuing.\n"
     ]
    }
   ],
   "source": [
    "my_bot = TwitterBot('/home/wcmckee/Downloads/wcmtwit/config.txt')"
   ]
  },
  {
   "cell_type": "code",
   "execution_count": 9,
   "metadata": {
    "collapsed": true
   },
   "outputs": [],
   "source": [
    "opslkey = open('/home/wcmckee/Downloads/slacker.txt', 'r')"
   ]
  },
  {
   "cell_type": "code",
   "execution_count": 10,
   "metadata": {
    "collapsed": true
   },
   "outputs": [],
   "source": [
    "rdops = opslkey.read()"
   ]
  },
  {
   "cell_type": "code",
   "execution_count": 11,
   "metadata": {
    "collapsed": false
   },
   "outputs": [],
   "source": [
    "stslack = rdops.strip('\\n')"
   ]
  },
  {
   "cell_type": "code",
   "execution_count": 12,
   "metadata": {
    "collapsed": false
   },
   "outputs": [],
   "source": [
    "slack = slacker.Slacker(stslack)\n",
    "\n",
    "# Send a message to #general channel\n",
    "\n",
    "# Get users list\n",
    "response = slack.users.list()\n",
    "users = response.body['members']"
   ]
  },
  {
   "cell_type": "code",
   "execution_count": 13,
   "metadata": {
    "collapsed": false
   },
   "outputs": [],
   "source": [
    "lusr = len(users)"
   ]
  },
  {
   "cell_type": "code",
   "execution_count": 14,
   "metadata": {
    "collapsed": false
   },
   "outputs": [
    {
     "data": {
      "text/plain": [
       "38"
      ]
     },
     "execution_count": 14,
     "metadata": {},
     "output_type": "execute_result"
    }
   ],
   "source": [
    "lusr"
   ]
  },
  {
   "cell_type": "code",
   "execution_count": 15,
   "metadata": {
    "collapsed": false
   },
   "outputs": [],
   "source": [
    "slms = slack.search.messages('irc')"
   ]
  },
  {
   "cell_type": "code",
   "execution_count": 16,
   "metadata": {
    "collapsed": true
   },
   "outputs": [],
   "source": [
    "matlens = len(slms.body['messages']['matches'])"
   ]
  },
  {
   "cell_type": "code",
   "execution_count": 17,
   "metadata": {
    "collapsed": false
   },
   "outputs": [
    {
     "data": {
      "text/plain": [
       "16"
      ]
     },
     "execution_count": 17,
     "metadata": {},
     "output_type": "execute_result"
    }
   ],
   "source": [
    "matlens"
   ]
  },
  {
   "cell_type": "code",
   "execution_count": 18,
   "metadata": {
    "collapsed": false
   },
   "outputs": [
    {
     "name": "stdout",
     "output_type": "stream",
     "text": [
      "0\n",
      "is everywhere\n",
      "kathyreid\n",
      "I thought it was one of those split brain things like IRC\n",
      "brong\n",
      "one kathyreid doesn't know what the other one knows\n",
      "brong\n",
      "1\n",
      "it's an interesting mix, I must say\n",
      "dtbell91\n",
      "A brief comment on security of gateways to xmpp and irc.\n",
      "Irc supports ssl so the server to\n",
      "dns\n",
      "johndalton: but can you speak fluent RFC 7162?\n",
      "brong\n",
      "2\n",
      "kicks <@U0JT16M63|dtbell91> from the channel\n",
      "mattcen\n",
      "fine, I'll go back to IRC. they didn't kick me :stuck_out_tongue:\n",
      "dtbell91\n",
      "to be fair, there ~is~ a sign on your back…\n",
      "itgrrl\n",
      "3\n",
      "I think it’s not the worst thing to let the Slack and IRC groups self-form. People might f\n",
      "tennessee\n",
      "well currently the IRC channel is 90% complaints about the slack UX :stuck_out_tongue:\n",
      "gm\n",
      "And the slack channel is comments about IRC and IRC/XMPP client integration.\n",
      "mattcen\n",
      "4\n",
      "For now, I'm not enabling it.\n",
      "itgrrl\n",
      "i’m surprised that slack even allows plaintext IRC connections...\n",
      "gm\n",
      "<@U0JT16M63>: I'm still upset that the rego wouldn't let me have my favourite shell set as PowerShell.\n",
      "ctudball\n",
      "5\n",
      "<@U0JT16M63>: Yes. I don't understand the security implications of either yet.\n",
      "itgrrl\n",
      "gateway sounds like it allows one person to connect over another technology (XMPP or IRC) \n",
      "dtbell91\n",
      "dtbell91: Yes, two different thing.\n",
      "evmcl\n",
      "6\n",
      "I'm sure others see the inability to do those things in IRC as a feature.  :-)  We all hav\n",
      "itgrrl\n",
      "Would it be possible to turn the IRC gateway on, if it isn’t already? :simple_smile:\n",
      "parisba\n",
      "I like to use Slack from my IRC client (and disregard all the arguments :wink:\n",
      "parisba\n",
      "7\n",
      "Probably on Facebook  ;-)\n",
      "itgrrl\n",
      "<@U0B0TGGS2>: Sorry, I was referring to the IRC gateway to access Slack (instead of the XM\n",
      "evmcl\n",
      "I hope this works, I do enjoy using Slack personally ¯\\_(ツ)_/¯\n",
      "dtbell91\n",
      "8\n",
      "<@U0K0K1RMX>: I have no involvement in the running of the IRC channel so can't comment on \n",
      "itgrrl\n",
      "heh, just checked the wiki… apparently we have a facebook page? and nobody complained abou\n",
      "gm\n",
      "<@U0K0JM96V>: lol\n",
      "itgrrl\n",
      "9\n",
      "as for the specific complaints about “it’s not FOSS”, i think the wider community’s views \n",
      "gm\n",
      "Okay, fair enough. I assume that's the same for the IRC gateway, which would have been my \n",
      "evmcl\n",
      "<@U0K0JM96V>: I don't really buy it when ppl make that argument—the 'conversation' and info is already split between IRC\n",
      "itgrrl\n",
      "10\n",
      "hello!\n",
      "msmarymac\n",
      "re the IRC bridging above, it might be worth discussing\n",
      "gm\n",
      "Hey <@U0B0TGGS2>, thanks for setting this up. Any chance of turning on the XMPP gateway? Then I could use Pidgin which h\n",
      "evmcl\n",
      "11\n",
      "Hi all!\n",
      "<@U0B0TGGS2>, thanks for the invite!\n",
      "a.kuplev\n",
      "croy: a bouncer is basically something that you leave logged in to IRC permanently, even w\n",
      "yjmbo\n",
      "oh right\n",
      "croy\n",
      "12\n",
      "reads the email thread... hah\n",
      "brong\n",
      "FastMail moved from IRC to slack recently (we still run some ops stuff in IRC, so I have t\n",
      "brong\n",
      "followed by a decent mobile experience that doesn't fricking ding every time you change networks like andchat used to\n",
      "brong\n",
      "13\n",
      "it's worth reminding everyone, just because this isn't an 'official' conference Slack, the\n",
      "dtbell91\n",
      "much the same as it applies on IRC, Twitter, email, etc when in relation to conference eve\n",
      "dtbell91\n",
      "Yes, thanks David. Good reminder.\n",
      "itgrrl\n",
      "14\n",
      "<@U0B0TGGS2>: and/or slackin for auto-inviting people? <https://github.com/rauchg/slackin>\n",
      "glasnt\n",
      "I'll take a look at slackin when I get a chance. Not sure IRC mirroring is a good idea in \n",
      "itgrrl\n",
      "of course VLine do free travel when I take annual leave... after all the complaining and \"feedback\" I've provided them o\n",
      "dtbell91\n",
      "15\n",
      "w00t!\n",
      "itgrrl\n",
      "I don’t know why I prefer Slack to IRC, but I just do.\n",
      "tennessee\n",
      "I think I’m going to be arriving midway through Monday, trying to work out if it makes sense to arrive midway through a \n",
      "tennessee\n"
     ]
    }
   ],
   "source": [
    "for mlen in range(0, matlens):\n",
    "    print(mlen)\n",
    "    print((slms.body['messages']['matches'][mlen]['previous']['text'][0:90]))\n",
    "    print((slms.body['messages']['matches'][mlen]['previous']['username']))\n",
    "    #Got in trouble for tweeting others slack messages so disabling this and just \n",
    "    #using \n",
    "    #input to send messages to both slack and twitter. \n",
    "    #my_bot.send_tweet(slms.body['messages']['matches'][mlen]['previous']['username'] + ': ' + (slms.body['messages']['matches'][mlen]['previous']['text'][0:90]) + ' #lca2016')\n",
    "\n",
    "    print((slms.body['messages']['matches'][mlen]['text'][0:90]))\n",
    "    print((slms.body['messages']['matches'][mlen]['username']))\n",
    "\n",
    "\n",
    "\n",
    "    print((slms.body['messages']['matches'][mlen]['next']['text'][0:120]))\n",
    "    print((slms.body['messages']['matches'][mlen]['next']['username']))\n",
    "    #my_bot.send_tweet((slms.body['messages']['matches'][mlen]['username']) + ': ' + )"
   ]
  },
  {
   "cell_type": "code",
   "execution_count": 172,
   "metadata": {
    "collapsed": false
   },
   "outputs": [
    {
     "data": {
      "text/plain": [
       "\"followed by a decent mobile experience that doesn't fricking ding every time you change networks like andchat used to\""
      ]
     },
     "execution_count": 172,
     "metadata": {},
     "output_type": "execute_result"
    }
   ],
   "source": [
    "(slms.body['messages']['matches'][0]['next']['text'])"
   ]
  },
  {
   "cell_type": "code",
   "execution_count": 173,
   "metadata": {
    "collapsed": false
   },
   "outputs": [],
   "source": [
    "schli = slack.channels.list()"
   ]
  },
  {
   "cell_type": "code",
   "execution_count": 174,
   "metadata": {
    "collapsed": false
   },
   "outputs": [
    {
     "name": "stdout",
     "output_type": "stream",
     "text": [
      "0\n",
      "_newbies\n",
      "1\n",
      "bofs\n",
      "2\n",
      "general\n",
      "3\n",
      "random\n",
      "4\n",
      "transport\n"
     ]
    }
   ],
   "source": [
    "for slchan in range(0, len(schli.body['channels'])):\n",
    "    print(slchan)\n",
    "    print(schli.body['channels'][slchan]['name'])"
   ]
  },
  {
   "cell_type": "code",
   "execution_count": 22,
   "metadata": {
    "collapsed": false
   },
   "outputs": [
    {
     "name": "stdout",
     "output_type": "stream",
     "text": [
      "What to post: Hopefully this is sent to both slack and twitter.\n"
     ]
    }
   ],
   "source": [
    "poswhat = input('What to post: ')"
   ]
  },
  {
   "cell_type": "code",
   "execution_count": 23,
   "metadata": {
    "collapsed": false
   },
   "outputs": [
    {
     "data": {
      "text/plain": [
       "<slacker.Response at 0xb20321d0>"
      ]
     },
     "execution_count": 23,
     "metadata": {},
     "output_type": "execute_result"
    }
   ],
   "source": [
    "slack.chat.post_message('#general', poswhat, as_user=True)"
   ]
  },
  {
   "cell_type": "code",
   "execution_count": 24,
   "metadata": {
    "collapsed": false
   },
   "outputs": [
    {
     "data": {
      "text/plain": [
       "{'contributors': None,\n",
       " 'coordinates': None,\n",
       " 'created_at': 'Thu Jan 21 11:58:19 +0000 2016',\n",
       " 'entities': {'hashtags': [{'indices': [50, 56], 'text': 'lca16'}],\n",
       "  'symbols': [],\n",
       "  'urls': [],\n",
       "  'user_mentions': []},\n",
       " 'favorite_count': 0,\n",
       " 'favorited': False,\n",
       " 'geo': None,\n",
       " 'id': 690141371856982016,\n",
       " 'id_str': '690141371856982016',\n",
       " 'in_reply_to_screen_name': None,\n",
       " 'in_reply_to_status_id': None,\n",
       " 'in_reply_to_status_id_str': None,\n",
       " 'in_reply_to_user_id': None,\n",
       " 'in_reply_to_user_id_str': None,\n",
       " 'is_quote_status': False,\n",
       " 'lang': 'en',\n",
       " 'place': None,\n",
       " 'retweet_count': 0,\n",
       " 'retweeted': False,\n",
       " 'source': '<a href=\"http://wcmckee.com\" rel=\"nofollow\">wcmtwet</a>',\n",
       " 'text': 'Hopefully this is sent to both slack and twitter. #lca16',\n",
       " 'truncated': False,\n",
       " 'user': {'contributors_enabled': False,\n",
       "  'created_at': 'Sat Sep 20 08:09:39 +0000 2014',\n",
       "  'default_profile': False,\n",
       "  'default_profile_image': False,\n",
       "  'description': 'Open Source Python Software/Web Development. AV volunteer at tech confs, and writer.',\n",
       "  'entities': {'description': {'urls': []},\n",
       "   'url': {'urls': [{'display_url': 'wcmckee.com',\n",
       "      'expanded_url': 'http://wcmckee.com',\n",
       "      'indices': [0, 23],\n",
       "      'url': 'https://t.co/KQYI4xVTZd'}]}},\n",
       "  'favourites_count': 3512,\n",
       "  'follow_request_sent': False,\n",
       "  'followers_count': 936,\n",
       "  'following': False,\n",
       "  'friends_count': 872,\n",
       "  'geo_enabled': True,\n",
       "  'has_extended_profile': True,\n",
       "  'id': 2821347210,\n",
       "  'id_str': '2821347210',\n",
       "  'is_translation_enabled': False,\n",
       "  'is_translator': False,\n",
       "  'lang': 'en',\n",
       "  'listed_count': 772,\n",
       "  'location': 'Hamilton City, New Zealand',\n",
       "  'name': 'wcmckee',\n",
       "  'notifications': False,\n",
       "  'profile_background_color': '000000',\n",
       "  'profile_background_image_url': 'http://abs.twimg.com/images/themes/theme1/bg.png',\n",
       "  'profile_background_image_url_https': 'https://abs.twimg.com/images/themes/theme1/bg.png',\n",
       "  'profile_background_tile': False,\n",
       "  'profile_banner_url': 'https://pbs.twimg.com/profile_banners/2821347210/1442397712',\n",
       "  'profile_image_url': 'http://pbs.twimg.com/profile_images/621211385746161664/tGchJstD_normal.jpg',\n",
       "  'profile_image_url_https': 'https://pbs.twimg.com/profile_images/621211385746161664/tGchJstD_normal.jpg',\n",
       "  'profile_link_color': 'FFCC4D',\n",
       "  'profile_sidebar_border_color': '000000',\n",
       "  'profile_sidebar_fill_color': '000000',\n",
       "  'profile_text_color': '000000',\n",
       "  'profile_use_background_image': False,\n",
       "  'protected': False,\n",
       "  'screen_name': 'wcmckeedotcom',\n",
       "  'statuses_count': 23260,\n",
       "  'time_zone': 'Wellington',\n",
       "  'url': 'https://t.co/KQYI4xVTZd',\n",
       "  'utc_offset': 46800,\n",
       "  'verified': False}}"
      ]
     },
     "execution_count": 24,
     "metadata": {},
     "output_type": "execute_result"
    }
   ],
   "source": [
    "my_bot.send_tweet(poswhat + ' #lca16')"
   ]
  },
  {
   "cell_type": "code",
   "execution_count": 20,
   "metadata": {
    "collapsed": true
   },
   "outputs": [],
   "source": [
    "bable = list()"
   ]
  },
  {
   "cell_type": "code",
   "execution_count": 21,
   "metadata": {
    "collapsed": false
   },
   "outputs": [
    {
     "name": "stdout",
     "output_type": "stream",
     "text": [
      "https://avatars.slack-edge.com/2016-01-20/19003659841_f95d1b6f3dff50169a90_512.jpg\n",
      "a.kuplevakhskyi@gmail.com\n",
      "https://avatars.slack-edge.com/2016-01-21/19058785521_a82263078e4d05afb430_512.jpg\n",
      "bianca.rachel.gibson@gmail.com\n",
      "https://secure.gravatar.com/avatar/c55ece7022f0678e7b270ec72115b394.jpg?s=512&d=https%3A%2F%2Fslack.global.ssl.fastly.net%2F7fa9%2Fimg%2Favatars%2Fava_0018-512.png\n",
      "brong@fastmail.fm\n",
      "https://secure.gravatar.com/avatar/0898bb664197d0f27e15f5677a183de7.jpg?s=512&d=https%3A%2F%2Fslack.global.ssl.fastly.net%2F7fa9%2Fimg%2Favatars%2Fava_0005-512.png\n",
      "clinton.roy@gmail.com\n",
      "https://avatars.slack-edge.com/2016-01-21/19009504787_923c45d9c1c8c775b12b_512.jpg\n",
      "ctudball@outlook.com\n",
      "https://secure.gravatar.com/avatar/09c86209032a041e6a8876efd19e5c53.jpg?s=512&d=https%3A%2F%2Fslack.global.ssl.fastly.net%2F7fa9%2Fimg%2Favatars%2Fava_0015-512.png\n",
      "dns@dns.id.au\n",
      "https://avatars.slack-edge.com/2016-01-20/18918598214_292d9a25364a800d25d4_512.png\n",
      "josh.deprez@gmail.com\n",
      "https://secure.gravatar.com/avatar/6fcfb3c47252c48534456ada1c6cd798.jpg?s=512&d=https%3A%2F%2Fslack.global.ssl.fastly.net%2F7fa9%2Fimg%2Favatars%2Fava_0000-512.png\n",
      "david@bell.id.au\n",
      "https://secure.gravatar.com/avatar/523f0a6236486659d5691e6cf55dbdd2.jpg?s=512&d=https%3A%2F%2Fslack.global.ssl.fastly.net%2F7fa9%2Fimg%2Favatars%2Fava_0003-512.png\n",
      "duncan@cartesive.com\n",
      "https://secure.gravatar.com/avatar/7991c862063b042c670c1e7f9cdaa33b.jpg?s=512&d=https%3A%2F%2Fslack.global.ssl.fastly.net%2F7fa9%2Fimg%2Favatars%2Fava_0024-512.png\n",
      "aaron.cossey@gmail.com\n",
      "https://secure.gravatar.com/avatar/7914813af5f894a484607de9353ada50.jpg?s=512&d=https%3A%2F%2Fslack.global.ssl.fastly.net%2F7fa9%2Fimg%2Favatars%2Fava_0026-512.png\n",
      "russell@coker.com.au\n",
      "https://secure.gravatar.com/avatar/d0d0f1d5d369cae884facc3a91c8397b.jpg?s=512&d=https%3A%2F%2Fslack.global.ssl.fastly.net%2F7fa9%2Fimg%2Favatars%2Fava_0021-512.png\n",
      "evan.mclean@gmail.com\n",
      "https://secure.gravatar.com/avatar/fb3e2d1700bfe111088261ed1613315d.jpg?s=512&d=https%3A%2F%2Fslack.global.ssl.fastly.net%2F7fa9%2Fimg%2Favatars%2Fava_0010-512.png\n",
      "katie@glasnt.com\n",
      "https://secure.gravatar.com/avatar/b5ce4c7d01e08fd8c67ef06fc36ca373.jpg?s=512&d=https%3A%2F%2Fslack.global.ssl.fastly.net%2F7fa9%2Fimg%2Favatars%2Fava_0011-512.png\n",
      "gm@stackunderflow.com\n",
      "https://secure.gravatar.com/avatar/e901bb9fff9169e1f9d39e8d122df88c.jpg?s=512&d=https%3A%2F%2Fslack.global.ssl.fastly.net%2F7fa9%2Fimg%2Favatars%2Fava_0001-512.png\n",
      "hello@gracenolan.me\n",
      "https://avatars.slack-edge.com/2016-01-19/18842490740_72d125951c23973c0e5f_512.png\n",
      "jessica@itgrrl.com\n",
      "https://secure.gravatar.com/avatar/ba7f7e742544bd86e4d4229c795ff10d.jpg?s=512&d=https%3A%2F%2Fslack.global.ssl.fastly.net%2F7fa9%2Fimg%2Favatars%2Fava_0019-512.png\n",
      "jaq@spacepants.org\n",
      "https://secure.gravatar.com/avatar/ffb76266798b0dfdac6dd87c08184abf.jpg?s=512&d=https%3A%2F%2Fslack.global.ssl.fastly.net%2F7fa9%2Fimg%2Favatars%2Fava_0018-512.png\n",
      "jim.mussared@gmail.com\n",
      "https://avatars.slack-edge.com/2016-01-21/19012121604_00da20ba5460bda6df13_512.jpg\n",
      "john@johndalton.info\n",
      "https://secure.gravatar.com/avatar/b762bbffdc4bdfc513db67faf8e29238.jpg?s=512&d=https%3A%2F%2Fslack.global.ssl.fastly.net%2F7fa9%2Fimg%2Favatars%2Fava_0013-512.png\n",
      "kathy@kathyreid.id.au\n",
      "https://secure.gravatar.com/avatar/afc3df58d0c37628607c2fa931e7f494.jpg?s=512&d=https%3A%2F%2Fslack.global.ssl.fastly.net%2F7fa9%2Fimg%2Favatars%2Fava_0001-512.png\n",
      "mattcen+slack@gmail.com\n",
      "https://secure.gravatar.com/avatar/e068274e8885aabf7709dcb2f3e664fc.jpg?s=512&d=https%3A%2F%2Fslack.global.ssl.fastly.net%2F7fa9%2Fimg%2Favatars%2Fava_0007-512.png\n",
      "s.germaine@gmail.com\n",
      "https://secure.gravatar.com/avatar/64cd862810ca25d85d2d0e7bdb2e0d40.jpg?s=512&d=https%3A%2F%2Fslack.global.ssl.fastly.net%2F7fa9%2Fimg%2Favatars%2Fava_0010-512.png\n",
      "nathans@debian.org\n",
      "https://secure.gravatar.com/avatar/b51d6fa042e820ae461f101240131d52.jpg?s=512&d=https%3A%2F%2Fslack.global.ssl.fastly.net%2F7fa9%2Fimg%2Favatars%2Fava_0008-512.png\n",
      "paris@secretlab.com.au\n",
      "https://secure.gravatar.com/avatar/caec636f2e446e41b6b5ea1f90c50c5e.jpg?s=512&d=https%3A%2F%2Fslack.global.ssl.fastly.net%2F7fa9%2Fimg%2Favatars%2Fava_0023-512.png\n",
      "peter.hall@rea-group.com\n",
      "https://secure.gravatar.com/avatar/a75b7220716460110323d937c2b1268c.jpg?s=512&d=https%3A%2F%2Fslack.global.ssl.fastly.net%2F7fa9%2Fimg%2Favatars%2Fava_0016-512.png\n",
      "peter.j.birch@gmail.com\n",
      "https://secure.gravatar.com/avatar/87989164279f9cb290bb566a148031e2.jpg?s=512&d=https%3A%2F%2Fslack.global.ssl.fastly.net%2F7fa9%2Fimg%2Favatars%2Fava_0020-512.png\n",
      "peter@rimuhosting.com\n",
      "https://secure.gravatar.com/avatar/601eab03b06d6e61307eaaa05b85ebc4.jpg?s=512&d=https%3A%2F%2Fslack.global.ssl.fastly.net%2F7fa9%2Fimg%2Favatars%2Fava_0016-512.png\n",
      "rsuehle@redhat.com\n",
      "https://secure.gravatar.com/avatar/5f89a3f20b85dca902b44576c6e4d8cf.jpg?s=512&d=https%3A%2F%2Fslack.global.ssl.fastly.net%2F7fa9%2Fimg%2Favatars%2Fava_0002-512.png\n",
      "shay.telfer@gmail.com\n",
      "https://secure.gravatar.com/avatar/7ebbe4c40be4b3d176262dede5a0f081.jpg?s=512&d=https%3A%2F%2Fslack.global.ssl.fastly.net%2F7fa9%2Fimg%2Favatars%2Fava_0026-512.png\n",
      "steve@refactor.com.au\n",
      "https://avatars.slack-edge.com/2016-01-20/18954889746_6912c89e343f781cc34e_512.jpg\n",
      "roachish@gmail.com\n",
      "https://secure.gravatar.com/avatar/114cd3ae25342c42c09510c0ef20ae32.jpg?s=512&d=https%3A%2F%2Fslack.global.ssl.fastly.net%2F7fa9%2Fimg%2Favatars%2Fava_0012-512.png\n",
      "techman83@gmail.com\n",
      "https://secure.gravatar.com/avatar/2e9eeb7dfaabc7f517e9f4cb049e38ea.jpg?s=512&d=https%3A%2F%2Fslack.global.ssl.fastly.net%2F7fa9%2Fimg%2Favatars%2Fava_0000-512.png\n",
      "tleeuwenburg@gmail.com\n",
      "https://secure.gravatar.com/avatar/5febb9309c995d994ddb6f7a88689a56.jpg?s=512&d=https%3A%2F%2Fslack.global.ssl.fastly.net%2F7fa9%2Fimg%2Favatars%2Fava_0004-512.png\n",
      "todthomson@me.com\n",
      "https://secure.gravatar.com/avatar/d77037a59943b777e059845272b9a123.jpg?s=512&d=https%3A%2F%2Fslack.global.ssl.fastly.net%2F7fa9%2Fimg%2Favatars%2Fava_0017-512.png\n",
      "tserong@suse.com\n",
      "https://secure.gravatar.com/avatar/5e2931ce807064cea9fc263f5346ad86.jpg?s=512&d=https%3A%2F%2Fslack.global.ssl.fastly.net%2F7fa9%2Fimg%2Favatars%2Fava_0022-512.png\n",
      "hammersmake@gmail.com\n",
      "https://secure.gravatar.com/avatar/685df76ebeb6c0d61ff5e0284830f691.jpg?s=512&d=https%3A%2F%2Fslack.global.ssl.fastly.net%2F7fa9%2Fimg%2Favatars%2Fava_0003-512.png\n",
      "jim@gonzul.net\n",
      "https://slack.global.ssl.fastly.net/7fa9/img/slackbot_512.png\n",
      "None\n"
     ]
    }
   ],
   "source": [
    "for lu in range(0, lusr):\n",
    "    #print(users[lu]['profile']['first_name'])\n",
    "    #print(users[lu]['profile']['last_name'])\n",
    "    print(users[lu]['profile']['image_512'])\n",
    "\n",
    "    print(users[lu]['profile']['email'])\n",
    "    bable.append(users[lu]['profile']['email'])"
   ]
  },
  {
   "cell_type": "code",
   "execution_count": null,
   "metadata": {
    "collapsed": true
   },
   "outputs": [],
   "source": []
  }
 ],
 "metadata": {
  "kernelspec": {
   "display_name": "Python 3",
   "language": "python",
   "name": "python3"
  },
  "language_info": {
   "codemirror_mode": {
    "name": "ipython",
    "version": 3
   },
   "file_extension": ".py",
   "mimetype": "text/x-python",
   "name": "python",
   "nbconvert_exporter": "python",
   "pygments_lexer": "ipython3",
   "version": "3.4.2"
  }
 },
 "nbformat": 4,
 "nbformat_minor": 0
}
