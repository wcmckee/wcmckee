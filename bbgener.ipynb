{
 "cells": [
  {
   "cell_type": "markdown",
   "metadata": {},
   "source": [
    "BroBeur Studios\n",
    "Web Site.\n",
    "\n",
    "All content on one page. Use # to nav between \n",
    "\n",
    "Render latest post from posts folder here. \n",
    "\n",
    "\n",
    "\n",
    "Avable for hirBroBeur Studios was founded in 2013 by William Mckee. It acted as an extension his his 2d art site - artcontrol.me: The Art Of William Mckee. The major goal of BroBeur Studios is to build open source video games.\n",
    "During 2013 BroBeur Studios partook in many game jams - releasing the results on BroBeur.com.\n",
    "Development slowed in 2014, but still released two games. \n",
    "\n",
    "Games are released with source under a MIT licence/Creative Commons BY. \n",
    "\n",
    "Games are developed either solo or in a small team. \n",
    "\n",
    "Twitter @brobeur\n",
    "e. Concept Art, 3d, Game Design.\n",
    "\n",
    "Games. Sort games by platform. Android, Windows, Mac, Linux.\n",
    "\n",
    "About. \n",
    "\n",
    "BroBeur Studios was founded in 2013 by William Mckee. It acted as an extension his his 2d art site - artcontrol.me: The Art Of William Mckee. The major goal of BroBeur Studios is to build open source video games.\n",
    "During 2013 BroBeur Studios partook in many game jams - releasing the results on BroBeur.com.\n",
    "Development slowed in 2014, but still released two games. \n",
    "\n",
    "Games are released with source under a MIT licence/Creative Commons BY. \n",
    "\n",
    "Games are developed either solo or in a small team. \n",
    "\n",
    "Twitter @brobeur\n",
    "\n",
    "Random Image of The Day from GetsDrawnDotCom\n",
    "\n",
    "\n",
    "\n",
    "Majority of games created were for game jams.\n",
    "\n",
    "\n"
   ]
  },
  {
   "cell_type": "code",
   "execution_count": 1408,
   "metadata": {
    "collapsed": false
   },
   "outputs": [],
   "source": [
    "import dominate\n",
    "from dominate.tags import *\n",
    "from time import gmtime, strftime\n",
    "import getpass\n",
    "import random\n",
    "import bs4\n",
    "import os"
   ]
  },
  {
   "cell_type": "code",
   "execution_count": 1409,
   "metadata": {
    "collapsed": true
   },
   "outputs": [],
   "source": [
    "getusr = getpass.getuser()"
   ]
  },
  {
   "cell_type": "code",
   "execution_count": 1410,
   "metadata": {
    "collapsed": true
   },
   "outputs": [],
   "source": [
    "bbdir = ('/var/host/media/removable/lemonyellow/bb')"
   ]
  },
  {
   "cell_type": "code",
   "execution_count": 1411,
   "metadata": {
    "collapsed": true
   },
   "outputs": [],
   "source": [
    "logzdir = (bbdir + '/imgs/logo/')"
   ]
  },
  {
   "cell_type": "code",
   "execution_count": 1412,
   "metadata": {
    "collapsed": true
   },
   "outputs": [],
   "source": [
    "bbposts = (bbdir + '/posts/')"
   ]
  },
  {
   "cell_type": "code",
   "execution_count": 1413,
   "metadata": {
    "collapsed": false
   },
   "outputs": [],
   "source": [
    "gamdir = bbdir + '/games/'"
   ]
  },
  {
   "cell_type": "code",
   "execution_count": 1414,
   "metadata": {
    "collapsed": true
   },
   "outputs": [],
   "source": [
    "artctrlf = (bbdir + '/artctrl')"
   ]
  },
  {
   "cell_type": "code",
   "execution_count": 1415,
   "metadata": {
    "collapsed": true
   },
   "outputs": [],
   "source": [
    "artctrlew = (artctrlf + '/logo')"
   ]
  },
  {
   "cell_type": "code",
   "execution_count": 1415,
   "metadata": {
    "collapsed": true
   },
   "outputs": [],
   "source": []
  },
  {
   "cell_type": "code",
   "execution_count": 1416,
   "metadata": {
    "collapsed": true
   },
   "outputs": [],
   "source": [
    "brobem = ('/var/host/media/removable/lemonyellow/brobeur/')"
   ]
  },
  {
   "cell_type": "code",
   "execution_count": 1417,
   "metadata": {
    "collapsed": true
   },
   "outputs": [],
   "source": [
    "allposts = os.listdir(bbposts)"
   ]
  },
  {
   "cell_type": "code",
   "execution_count": 1418,
   "metadata": {
    "collapsed": true
   },
   "outputs": [],
   "source": [
    "bbscreen = (bbdir + '/imgs/screenshot')"
   ]
  },
  {
   "cell_type": "code",
   "execution_count": 1419,
   "metadata": {
    "collapsed": true
   },
   "outputs": [],
   "source": [
    "allscreen = os.listdir(bbscreen)"
   ]
  },
  {
   "cell_type": "code",
   "execution_count": 1420,
   "metadata": {
    "collapsed": true
   },
   "outputs": [],
   "source": [
    "ranscreen = random.choice(allscreen)"
   ]
  },
  {
   "cell_type": "code",
   "execution_count": 1421,
   "metadata": {
    "collapsed": true
   },
   "outputs": [],
   "source": [
    "fixscrn = ('/imgs/screenshot/' + ranscreen)"
   ]
  },
  {
   "cell_type": "code",
   "execution_count": 1422,
   "metadata": {
    "collapsed": true
   },
   "outputs": [],
   "source": [
    "screedir = (bbscreen + '/' + ranscreen)"
   ]
  },
  {
   "cell_type": "code",
   "execution_count": 1423,
   "metadata": {
    "collapsed": true
   },
   "outputs": [],
   "source": [
    "apos = []"
   ]
  },
  {
   "cell_type": "code",
   "execution_count": 1424,
   "metadata": {
    "collapsed": false
   },
   "outputs": [],
   "source": [
    "for metz in allposts:\n",
    "    if '.wp' in metz:\n",
    "        #print metz\n",
    "        apos.append(metz)"
   ]
  },
  {
   "cell_type": "code",
   "execution_count": 1425,
   "metadata": {
    "collapsed": false
   },
   "outputs": [],
   "source": [
    "ranposz = random.choice(apos)"
   ]
  },
  {
   "cell_type": "code",
   "execution_count": 1426,
   "metadata": {
    "collapsed": false
   },
   "outputs": [],
   "source": [
    "ranmeta = ranposz[:-3] +'.meta'"
   ]
  },
  {
   "cell_type": "code",
   "execution_count": 1427,
   "metadata": {
    "collapsed": false
   },
   "outputs": [],
   "source": [
    "opmeta = open(bbposts + '/' + ranmeta, 'r')\n",
    "\n",
    "oprdz = opmeta.readlines()"
   ]
  },
  {
   "cell_type": "code",
   "execution_count": 1428,
   "metadata": {
    "collapsed": false
   },
   "outputs": [],
   "source": [
    "tagz = oprdz[3].replace('\\n', '')"
   ]
  },
  {
   "cell_type": "code",
   "execution_count": 1429,
   "metadata": {
    "collapsed": false
   },
   "outputs": [],
   "source": [
    "timz = oprdz[2].replace('\\n', '')"
   ]
  },
  {
   "cell_type": "code",
   "execution_count": 1429,
   "metadata": {
    "collapsed": true
   },
   "outputs": [],
   "source": []
  },
  {
   "cell_type": "code",
   "execution_count": 1429,
   "metadata": {
    "collapsed": true
   },
   "outputs": [],
   "source": []
  },
  {
   "cell_type": "code",
   "execution_count": 1429,
   "metadata": {
    "collapsed": true
   },
   "outputs": [],
   "source": []
  },
  {
   "cell_type": "code",
   "execution_count": 1430,
   "metadata": {
    "collapsed": true
   },
   "outputs": [],
   "source": [
    "oprzb = open(bbposts + '/' + ranposz, 'r')\n",
    "\n",
    "rdopz = oprzb.read()"
   ]
  },
  {
   "cell_type": "code",
   "execution_count": 1431,
   "metadata": {
    "collapsed": false
   },
   "outputs": [],
   "source": [
    "bs = bs4.BeautifulSoup(rdopz)"
   ]
  },
  {
   "cell_type": "code",
   "execution_count": 1432,
   "metadata": {
    "collapsed": false
   },
   "outputs": [],
   "source": [
    "bslinkz = bs.find_all('a')"
   ]
  },
  {
   "cell_type": "code",
   "execution_count": 1433,
   "metadata": {
    "collapsed": false
   },
   "outputs": [
    {
     "data": {
      "text/plain": [
       "[<a href=\"/wp-content/uploads/2013/07/wpid-Screenshot_2013-07-14-06-52-20.png\"><img alt=\"image\" class=\"alignnone size-full\" src=\"/wp-content/uploads/2013/07/wpid-Screenshot_2013-07-14-06-52-20.png\" title=\"Screenshot_2013-07-14-06-52-20.png\"/></a>,\n",
       " <a href=\"/wp-content/uploads/2013/07/wpid-Screenshot_2013-07-14-06-51-44.png\"><img alt=\"image\" class=\"alignnone size-full\" src=\"/wp-content/uploads/2013/07/wpid-Screenshot_2013-07-14-06-51-44.png\" title=\"Screenshot_2013-07-14-06-51-44.png\"/></a>,\n",
       " <a href=\"/wp-content/uploads/2013/07/wpid-Screenshot_2013-07-14-06-43-50.png\"><img alt=\"image\" class=\"alignnone size-full\" src=\"/wp-content/uploads/2013/07/wpid-Screenshot_2013-07-14-06-43-50.png\" title=\"Screenshot_2013-07-14-06-43-50.png\"/></a>,\n",
       " <a href=\"/wp-content/uploads/2013/07/wpid-Screenshot_2013-07-14-06-43-44.png\"><img alt=\"image\" class=\"alignnone size-full\" src=\"/wp-content/uploads/2013/07/wpid-Screenshot_2013-07-14-06-43-44.png\" title=\"Screenshot_2013-07-14-06-43-44.png\"/></a>,\n",
       " <a href=\"/wp-content/uploads/2013/07/wpid-Screenshot_2013-07-14-06-51-49.png\"><img alt=\"image\" class=\"alignnone size-full\" src=\"/wp-content/uploads/2013/07/wpid-Screenshot_2013-07-14-06-51-49.png\" title=\"Screenshot_2013-07-14-06-51-49.png\"/></a>]"
      ]
     },
     "execution_count": 1433,
     "metadata": {},
     "output_type": "execute_result"
    }
   ],
   "source": [
    "bslinkz"
   ]
  },
  {
   "cell_type": "code",
   "execution_count": 1434,
   "metadata": {
    "collapsed": false
   },
   "outputs": [],
   "source": [
    "bslran = random.choice(bslinkz)"
   ]
  },
  {
   "cell_type": "code",
   "execution_count": 1435,
   "metadata": {
    "collapsed": true
   },
   "outputs": [],
   "source": [
    "bslstr = str(bslran)"
   ]
  },
  {
   "cell_type": "code",
   "execution_count": 1436,
   "metadata": {
    "collapsed": true
   },
   "outputs": [],
   "source": [
    "linkf = bs4.BeautifulSoup(bslstr)"
   ]
  },
  {
   "cell_type": "code",
   "execution_count": 1437,
   "metadata": {
    "collapsed": true
   },
   "outputs": [],
   "source": [
    "#sort list of date time from newest to oldest. "
   ]
  },
  {
   "cell_type": "code",
   "execution_count": 1438,
   "metadata": {
    "collapsed": false
   },
   "outputs": [
    {
     "data": {
      "text/plain": [
       "\"for mea in allposts:\\n    if '.meta' in mea:\\n        file = open(bbposts + mea, 'r')\\n        metaf = file.readlines()\\n        apdid.update({metaf[2].rstrip(): metaf[1].rstrip()})#, file.readline()}\\n        #apdid.update({'title': metaf[1].rstrip()})\\n        #apdid.update({'date': metaf[2].rstrip()})\\n        #apdid.update({'tags': metaf[3].rstrip()})\\n        #print chzdir\\n        #alldic.append(chzdir)\\n        file.close()\\n        print apdid.keys()\\n        filis.append(apdid.keys())\""
      ]
     },
     "execution_count": 1438,
     "metadata": {},
     "output_type": "execute_result"
    }
   ],
   "source": [
    "'''for mea in allposts:\n",
    "    if '.meta' in mea:\n",
    "        file = open(bbposts + mea, 'r')\n",
    "        metaf = file.readlines()\n",
    "        apdid.update({metaf[2].rstrip(): metaf[1].rstrip()})#, file.readline()}\n",
    "        #apdid.update({'title': metaf[1].rstrip()})\n",
    "        #apdid.update({'date': metaf[2].rstrip()})\n",
    "        #apdid.update({'tags': metaf[3].rstrip()})\n",
    "        #print chzdir\n",
    "        #alldic.append(chzdir)\n",
    "        file.close()\n",
    "        print apdid.keys()\n",
    "        filis.append(apdid.keys())'''"
   ]
  },
  {
   "cell_type": "code",
   "execution_count": 1439,
   "metadata": {
    "collapsed": false
   },
   "outputs": [],
   "source": [
    "bstxt = bs.text.replace('\\n', '')"
   ]
  },
  {
   "cell_type": "code",
   "execution_count": 1440,
   "metadata": {
    "collapsed": false
   },
   "outputs": [],
   "source": [
    "logolis = os.listdir(logzdir)"
   ]
  },
  {
   "cell_type": "code",
   "execution_count": 1441,
   "metadata": {
    "collapsed": true
   },
   "outputs": [],
   "source": [
    "ranlogz = random.choice(logolis)"
   ]
  },
  {
   "cell_type": "code",
   "execution_count": 1442,
   "metadata": {
    "collapsed": false
   },
   "outputs": [],
   "source": [
    "opmdz = open(bbdir + '/md/about.md', 'r')"
   ]
  },
  {
   "cell_type": "code",
   "execution_count": 1443,
   "metadata": {
    "collapsed": true
   },
   "outputs": [],
   "source": [
    "mdlis = opmdz.readlines()"
   ]
  },
  {
   "cell_type": "code",
   "execution_count": 1444,
   "metadata": {
    "collapsed": false
   },
   "outputs": [
    {
     "name": "stdout",
     "output_type": "stream",
     "text": [
      "\n",
      "\n",
      "BroBeur Studios was founded in 2013 by William Mckee. It acts as an extension to\n",
      "\n",
      "his 2d art site - artcontrol.me: The Art Of William Mckee. The major goal of \n",
      "\n",
      "BroBeur Studios is to build open source video games.\n",
      "\n",
      "During 2013 BroBeur Studios partook in many game jams - releasing the results \n",
      "\n",
      "on BroBeur.com.\n",
      "\n",
      "\n",
      "\n",
      "Development slowed in 2014, but still released two games. \n",
      "\n",
      "\n",
      "\n",
      "Games are released with source under a MIT licence. \n",
      "\n",
      "\n",
      "\n",
      "Games are developed either solo or in a small team. \n",
      "\n",
      "\n",
      "\n",
      "Twitter @brobeur\n",
      "\n",
      "\n",
      "\n"
     ]
    }
   ],
   "source": [
    "for mdl in mdlis:\n",
    "    print mdl"
   ]
  },
  {
   "cell_type": "code",
   "execution_count": 1445,
   "metadata": {
    "collapsed": false
   },
   "outputs": [],
   "source": [
    "aboutmd = opmdz.read().replace('\\n', '')"
   ]
  },
  {
   "cell_type": "code",
   "execution_count": 1446,
   "metadata": {
    "collapsed": false
   },
   "outputs": [],
   "source": [
    "rawp = ranposz.replace('.wp', '')"
   ]
  },
  {
   "cell_type": "code",
   "execution_count": 1447,
   "metadata": {
    "collapsed": false
   },
   "outputs": [],
   "source": [
    "brolisd = os.listdir(gamdir)"
   ]
  },
  {
   "cell_type": "code",
   "execution_count": 1448,
   "metadata": {
    "collapsed": false
   },
   "outputs": [
    {
     "name": "stdout",
     "output_type": "stream",
     "text": [
      "AUXjune2.apk\n",
      "AUXjone.apk\n",
      "AUXjune.apk\n",
      "CATHERN2.apk\n",
      "Quaylin2.apk\n",
      "SurrealWarpNightmare.apk\n",
      "amandawar.apk\n",
      "bC-two-three.apk\n",
      "birdfice.apk\n",
      "murdersim.apk\n",
      "sharkNightmare.apk\n",
      "partynoonnightmare.apk\n",
      "sharknightmare1.apk\n",
      "thehobbit.apk\n",
      "trollrunnexus.apk\n",
      "suburbnightmare2.apk\n",
      "suburbnightmare.apk\n"
     ]
    }
   ],
   "source": [
    "for broa in brolisd:\n",
    "    if '.apk' in broa:\n",
    "        #android apk\n",
    "        print broa"
   ]
  },
  {
   "cell_type": "code",
   "execution_count": 1449,
   "metadata": {
    "collapsed": false
   },
   "outputs": [
    {
     "name": "stdout",
     "output_type": "stream",
     "text": [
      "BirdCage-0-1-WINDOWS.rar\n",
      "BirdCage-0-2-WINDOWS.rar\n",
      "BroBeurFishingDream-windows.rar\n",
      "Brobeur-Dune-0-1-WINDOWS.rar\n",
      "BulletControl-Linux.rar\n",
      "BulletControl-osx.rar\n",
      "BulletControl-win32.rar\n",
      "SpotWalker-0-1-WINDOWS.rar\n",
      "TrigerFinal-linux.rar\n",
      "TrigerFinal-mac.rar\n",
      "TrigerFinal-win32.rar\n",
      "bc-fish-0-1-windows.rar\n",
      "cafrin.rar\n",
      "lightsout.rar\n",
      "lightsout2.rar\n",
      "lightsout3.rar\n",
      "prodo-island-0-3.rar\n"
     ]
    }
   ],
   "source": [
    "for broz in brolisd:\n",
    "    if '.rar' in broz:\n",
    "        #mix of windows/linux/osx native.\n",
    "        print broz"
   ]
  },
  {
   "cell_type": "code",
   "execution_count": 1450,
   "metadata": {
    "collapsed": false
   },
   "outputs": [
    {
     "name": "stdout",
     "output_type": "stream",
     "text": [
      "BirdCage-0-1.html\n",
      "BirdCage-0-2.html\n",
      "CVipynb.html\n",
      "CharMove.html\n",
      "Dune-0-1.html\n",
      "Prodo-Island-0-1.html\n",
      "SpotWalker-0-1.html\n",
      "aux-jan-0-6.html\n",
      "bulletcontrol.html\n",
      "game.html\n",
      "game2.html\n",
      "game3.html\n",
      "hellearth.html\n",
      "murdersim.html\n",
      "partynoonnightmare.html\n",
      "playform-feb-1.html\n",
      "playformFeb-1.html\n",
      "playformFeb-2.html\n",
      "prodo-island-0-2.html\n",
      "prodo-island-0-3.html\n",
      "readme.html\n",
      "screenshots.html\n",
      "sharknightmare.html\n",
      "suburbnightmare2.html\n",
      "triger-final.html\n",
      "welcome.html\n",
      "trollrunnexus.html\n",
      "imagamer.html\n",
      "suburbnightmare.html\n"
     ]
    }
   ],
   "source": [
    "for brol in brolisd:\n",
    "    if '.html' in brol:\n",
    "        #unity3d web browser games\n",
    "        print brol"
   ]
  },
  {
   "cell_type": "code",
   "execution_count": 1451,
   "metadata": {
    "collapsed": true
   },
   "outputs": [],
   "source": [
    "#Embed artctrl logo under game lists. use artctrl folder to \n",
    "#embed stuff from artcontrol into bb."
   ]
  },
  {
   "cell_type": "code",
   "execution_count": 1452,
   "metadata": {
    "collapsed": false
   },
   "outputs": [],
   "source": [
    "artctrlloglis = os.listdir(artctrlew)"
   ]
  },
  {
   "cell_type": "code",
   "execution_count": 1453,
   "metadata": {
    "collapsed": true
   },
   "outputs": [],
   "source": [
    "ranarclogis = random.choice(artctrlloglis)"
   ]
  },
  {
   "cell_type": "code",
   "execution_count": 1454,
   "metadata": {
    "collapsed": false
   },
   "outputs": [
    {
     "data": {
      "text/plain": [
       "'artctrl-logo.png'"
      ]
     },
     "execution_count": 1454,
     "metadata": {},
     "output_type": "execute_result"
    }
   ],
   "source": [
    "ranarclogis"
   ]
  },
  {
   "cell_type": "code",
   "execution_count": 1455,
   "metadata": {
    "collapsed": true
   },
   "outputs": [],
   "source": [
    "navitems = ['home', 'blog', 'games', 'artcontrol', 'getsdrawn']"
   ]
  },
  {
   "cell_type": "code",
   "execution_count": 1456,
   "metadata": {
    "collapsed": false
   },
   "outputs": [
    {
     "data": {
      "text/plain": [
       "'/var/host/media/removable/lemonyellow/bb/imgs/screenshot/hell2.png'"
      ]
     },
     "execution_count": 1456,
     "metadata": {},
     "output_type": "execute_result"
    }
   ],
   "source": [
    "screedir"
   ]
  },
  {
   "cell_type": "code",
   "execution_count": 1457,
   "metadata": {
    "collapsed": false
   },
   "outputs": [],
   "source": [
    "doc = dominate.document(title='BroBeur Studios')\n",
    "\n",
    "with doc.head:\n",
    "    link(rel='stylesheet', href='style.css')\n",
    "    script(type='text/javascript', src='script.js')\n",
    "    \n",
    "    with div(id=\"home\"):\n",
    "        p('BroBeur Studios')\n",
    "        for navi in navitems:\n",
    "            with div(cls = 'nav-item', id= 'nav-' + navi):\n",
    "                a(navi, href = ('#' + navi))\n",
    "                \n",
    "        p(' ')\n",
    "            \n",
    "        p(a(' BroBeur Twitter ', href = 'http://twitter.com/brobeur', src = 'http://twitter.com/brobeur')) \n",
    "\n",
    "        p(img('imgs/logo/' + ranlogz, src='imgs/logo/' + ranlogz))\n",
    "        p('Updated ', strftime(\"%a, %d %b %Y %H:%M:%S +0000\", gmtime()))\n",
    "        #p(panz)\n",
    "                \n",
    "        for mdl in mdlis:\n",
    "            p(mdl)\n",
    "            \n",
    "\n",
    "        #p(bodycom)\n",
    "        p(img(fixscrn, src= fixscrn))\n",
    "                        \n",
    "            \n",
    "        \n",
    "\n",
    "with doc:\n",
    "        #for rdz in lisrgc:\n",
    "            #h1(rdz.title)\n",
    "            #a(rdz.url)\n",
    "            #if 'http://i.imgur.com' in rdz.url:\n",
    "                #print rdz.url\n",
    "            #   p(img(rdz.url, src='%s' % rdz.url))\n",
    "                \n",
    "            #print rdz.url\n",
    "            #if '.jpg' in rdz.url:\n",
    "            #    img(rdz.urlz)\n",
    "            #else:\n",
    "            #    a(rdz.urlz)\n",
    "            #h1(str(rdz.author))\n",
    "            \n",
    "            #li(img(i.lower(), src='%s' % i))\n",
    "    #with div():\n",
    "        #attr(cls='about', id='about')\n",
    "        #h3('About BroBeur Studios')\n",
    "        #p(aboutmd)\n",
    "\n",
    "    with div():\n",
    "        attr(cls='blog', id='blog')\n",
    "        h3('BroBeur Studios Random Blog Post')\n",
    "        p(rawp)\n",
    "        p(timz)\n",
    "        p(tagz)\n",
    "        p(bstxt)\n",
    "        #p(bslstr)\n",
    "        p(img(bslran['href'], width=\"480\", height=\"320\", src = bslran['href']))\n",
    "        \n",
    "    with div():\n",
    "        attr(cls='games', id='games')\n",
    "        h3('Open Source Games')\n",
    "        \n",
    "        h3('Android')\n",
    "        for broa in brolisd:\n",
    "            if '.apk' in broa:\n",
    "            #android apk\n",
    "                p(p(a(broa, href= '/games/' + broa)))\n",
    "                \n",
    "        h3('Unity Webplayer')\n",
    "        for brol in brolisd:\n",
    "            if '.html' in brol:\n",
    "                #unity3d web browser games\n",
    "                p(p(a(brol, href = '/games/' + brol)))\n",
    "                \n",
    "        h3('Desktop')\n",
    "        for broz in brolisd:\n",
    "            if '.rar' in broz:\n",
    "                #mix of windows/linux/osx native.\n",
    "                p(p(a(broz, href = '/games/' + broz)))\n",
    "                #p(broz)\n",
    "\n",
    "                \n",
    "    with div():\n",
    "        attr(cls='artcontrol', id='artcontrol')\n",
    "        h3('artcontrol')\n",
    "        \n",
    "        #p(img('imgs/logo/' + ranlogz, src='imgs/logo/' + ranlogz))\n",
    "\n",
    "        p(img('/artctrl/logo/artctrl-logo.png', src = '/artctrl/logo/artctrl-logo.png', href = 'http://artcontrol.me'))\n",
    "        \n",
    "        p('A preview of ArtControl: The Art Of WCMCKEE')\n",
    "        \n",
    "        p(p(a('Visit ArtControl: The Art Of WCMCKEE', href='http://artcontrol.me/')))\n",
    "\n",
    "        p(img('artctrl/artctrlpers.png', src = 'artctrl/artctrlpers.png')) \n",
    "        \n",
    "        \n",
    "    with div():\n",
    "        attr(cls='GetsDrawn', id='getsdrawn')\n",
    "        h3('GetsDrawn')\n",
    "        \n",
    "        p('A preview of GetsDrawn')\n",
    "\n",
    "        \n",
    "        \n",
    "        #List of published games on google play store.\n",
    "        #link to their github.\n",
    "        #Download apk/linux/web embed\n",
    "    \n",
    "#print doc"
   ]
  },
  {
   "cell_type": "code",
   "execution_count": 1458,
   "metadata": {
    "collapsed": true
   },
   "outputs": [],
   "source": [
    "indfil = (bbdir + '/index.html')"
   ]
  },
  {
   "cell_type": "code",
   "execution_count": 1459,
   "metadata": {
    "collapsed": true
   },
   "outputs": [],
   "source": [
    "docre = doc.render()\n",
    "\n",
    "yourstring = docre.encode('ascii', 'ignore').decode('ascii')\n",
    "\n",
    "mkind = open(indfil, 'w')\n",
    "mkind.write(yourstring)\n",
    "mkind.close()"
   ]
  },
  {
   "cell_type": "code",
   "execution_count": 1459,
   "metadata": {
    "collapsed": true
   },
   "outputs": [],
   "source": []
  },
  {
   "cell_type": "code",
   "execution_count": 1459,
   "metadata": {
    "collapsed": true
   },
   "outputs": [],
   "source": []
  },
  {
   "cell_type": "code",
   "execution_count": 1459,
   "metadata": {
    "collapsed": true
   },
   "outputs": [],
   "source": []
  },
  {
   "cell_type": "code",
   "execution_count": 1459,
   "metadata": {
    "collapsed": true
   },
   "outputs": [],
   "source": []
  },
  {
   "cell_type": "code",
   "execution_count": 1459,
   "metadata": {
    "collapsed": true
   },
   "outputs": [],
   "source": []
  }
 ],
 "metadata": {
  "kernelspec": {
   "display_name": "Python 2",
   "name": "python2"
  },
  "language_info": {
   "codemirror_mode": {
    "name": "ipython",
    "version": 2
   },
   "file_extension": ".py",
   "mimetype": "text/x-python",
   "name": "python",
   "nbconvert_exporter": "python",
   "pygments_lexer": "ipython2",
   "version": "2.7.9"
  }
 },
 "nbformat": 4,
 "nbformat_minor": 0
}
