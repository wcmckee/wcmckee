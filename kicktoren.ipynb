{
 "cells": [
  {
   "cell_type": "code",
   "execution_count": 1,
   "metadata": {
    "collapsed": false
   },
   "outputs": [
    {
     "ename": "ImportError",
     "evalue": "No module named 'ktorrent'",
     "output_type": "error",
     "traceback": [
      "\u001b[1;31m---------------------------------------------------------------------------\u001b[0m",
      "\u001b[1;31mImportError\u001b[0m                               Traceback (most recent call last)",
      "\u001b[1;32m<ipython-input-1-557383ebda4a>\u001b[0m in \u001b[0;36m<module>\u001b[1;34m()\u001b[0m\n\u001b[1;32m----> 1\u001b[1;33m \u001b[1;32mimport\u001b[0m \u001b[0mktorrent\u001b[0m\u001b[1;33m\u001b[0m\u001b[0m\n\u001b[0m",
      "\u001b[1;31mImportError\u001b[0m: No module named 'ktorrent'"
     ]
    }
   ],
   "source": [
    "import ktorrent"
   ]
  },
  {
   "cell_type": "code",
   "execution_count": 4,
   "metadata": {
    "collapsed": true
   },
   "outputs": [],
   "source": [
    "tor_search = ktorrent.search(search='debian')\n"
   ]
  },
  {
   "cell_type": "code",
   "execution_count": 12,
   "metadata": {
    "collapsed": false
   },
   "outputs": [
    {
     "name": "stdout",
     "output_type": "stream",
     "text": [
      "Search torrent: ubuntu\n"
     ]
    }
   ],
   "source": [
    "seaterm = input('Search torrent: ')"
   ]
  },
  {
   "cell_type": "code",
   "execution_count": null,
   "metadata": {
    "collapsed": true
   },
   "outputs": [],
   "source": []
  },
  {
   "cell_type": "code",
   "execution_count": 15,
   "metadata": {
    "collapsed": true
   },
   "outputs": [],
   "source": [
    "search = ktorrent.search(search= seaterm, field='seed', sorder='desc', page='1')"
   ]
  },
  {
   "cell_type": "code",
   "execution_count": 16,
   "metadata": {
    "collapsed": false
   },
   "outputs": [
    {
     "data": {
      "text/plain": [
       "'{\"info\": {\"pageCurrent\": 1, \"pageResult\": 25, \"pageTotal\": \"64\"}, \"torrent\": [{\"age\": \"2 months\", \"category\": \"Applications > Linux\", \"files\": \"1\", \"leech\": \"10\", \"link\": \"http://torcache.net/torrent/3F19B149F53A50E14FC0B79926A391896EABAB6F.torrent?title=[kat.cr]ubuntu.15.10.desktop.64.bit\", \"magnet\": \"magnet:?xt=urn:btih:3F19B149F53A50E14FC0B79926A391896EABAB6F&dn=ubuntu+15+10+desktop+64+bit&tr=udp%3A%2F%2Ftracker.publicbt.com%2Fannounce&tr=udp%3A%2F%2Fglotorrents.pw%3A6969%2Fannounce\", \"name\": \"Ubuntu 15.10 Desktop (64-bit)\", \"seed\": \"86\", \"size\": \"1.1 GB\", \"verified\": \"0\"}, {\"age\": \"1 year\", \"category\": \"Applications > Linux\", \"files\": \"1\", \"leech\": \"4\", \"link\": \"http://torcache.net/torrent/B415C913643E5FF49FE37D304BBB5E6E11AD5101.torrent?title=[kat.cr]ubuntu.14.10.desktop.64bit.iso\", \"magnet\": \"magnet:?xt=urn:btih:B415C913643E5FF49FE37D304BBB5E6E11AD5101&dn=ubuntu+14+10+desktop+64bit+iso&tr=udp%3A%2F%2Ftracker.publicbt.com%2Fannounce&tr=udp%3A%2F%2Fglotorrents.pw%3A6969%2Fannounce\", \"name\": \"Ubuntu 14.10 Desktop 64bit ISO\", \"seed\": \"72\", \"size\": \"1.08 GB\", \"verified\": \"0\"}, {\"age\": \"5 months\", \"category\": \"Applications > Linux\", \"files\": \"1\", \"leech\": \"0\", \"link\": \"http://torcache.net/torrent/35E45E7A699CA5A29BB5525CFA53BC593775A76E.torrent?title=[kat.cr]ubuntu.mate.14.04.2.lts.desktop.i386.iso\", \"magnet\": \"magnet:?xt=urn:btih:35E45E7A699CA5A29BB5525CFA53BC593775A76E&dn=ubuntu+mate+14+04+2+lts+desktop+i386+iso&tr=udp%3A%2F%2Ftracker.publicbt.com%2Fannounce&tr=udp%3A%2F%2Fglotorrents.pw%3A6969%2Fannounce\", \"name\": \"ubuntu mate 14.04.2 LTS desktop i386.iso\", \"seed\": \"38\", \"size\": \"1.05 GB\", \"verified\": \"0\"}, {\"age\": \"2 months\", \"category\": \"Applications > Linux\", \"files\": \"1\", \"leech\": \"6\", \"link\": \"http://torcache.net/torrent/268A4EF6845C1553D4328B3606C59F56372FCE64.torrent?title=[kat.cr]ubuntu.15.10.desktop.32.bit\", \"magnet\": \"magnet:?xt=urn:btih:268A4EF6845C1553D4328B3606C59F56372FCE64&dn=ubuntu+15+10+desktop+32+bit&tr=udp%3A%2F%2Ftracker.publicbt.com%2Fannounce&tr=udp%3A%2F%2Fglotorrents.pw%3A6969%2Fannounce\", \"name\": \"Ubuntu 15.10 Desktop (32-bit)\", \"seed\": \"31\", \"size\": \"1.14 GB\", \"verified\": \"0\"}, {\"age\": \"2 years\", \"category\": \"Books > Programming\", \"files\": \"6\", \"leech\": \"2\", \"link\": \"http://torcache.net/torrent/D2AA08AB08325A1D9B62EA9EB7F4585148101A00.torrent?title=[kat.cr]ubuntu.linux.toolbox.1000.commands.for.ubuntu.and.debian.power.users.by.christopher.negus\", \"magnet\": \"magnet:?xt=urn:btih:D2AA08AB08325A1D9B62EA9EB7F4585148101A00&dn=ubuntu+linux+toolbox+1000+commands+for+ubuntu+and+debian+power+users+by+christopher+negus&tr=udp%3A%2F%2Ftracker.publicbt.com%2Fannounce&tr=udp%3A%2F%2Fglotorrents.pw%3A6969%2Fannounce\", \"name\": \"Ubuntu Linux Toolbox 1000+ Commands for Ubuntu and Debian Power Users by Christopher Negus\", \"seed\": \"30\", \"size\": \"2.49 MB\", \"verified\": \"0\"}, {\"age\": \"1 day\", \"category\": \"Books\", \"files\": \"1\", \"leech\": \"1\", \"link\": \"http://torcache.net/torrent/64770FE7B2CE3250798BB620BAA196B5D2AD1BFF.torrent?title=[kat.cr]negus.c.linux.biblia.ubuntu.fedora.debian.i.15.innych.rar.pdf.polish\", \"magnet\": \"magnet:?xt=urn:btih:64770FE7B2CE3250798BB620BAA196B5D2AD1BFF&dn=negus+c+linux+biblia+ubuntu+fedora+debian+i+15+innych+rar+pdf+polish&tr=udp%3A%2F%2Ftracker.publicbt.com%2Fannounce&tr=udp%3A%2F%2Fglotorrents.pw%3A6969%2Fannounce\", \"name\": \"Negus C. - Linux. Biblia. Ubuntu, Fedora, Debian i 15 innych [RAR->PDF] [POLISH]\", \"seed\": \"28\", \"size\": \"18.47 MB\", \"verified\": \"0\"}, {\"age\": \"1 year\", \"category\": \"Applications > Linux\", \"files\": \"1\", \"leech\": \"3\", \"link\": \"http://torcache.net/torrent/1619ECC9373C3639F4EE3E261638F29B33A6CBD6.torrent?title=[kat.cr]ubuntu.14.10.desktop.32bit.iso\", \"magnet\": \"magnet:?xt=urn:btih:1619ECC9373C3639F4EE3E261638F29B33A6CBD6&dn=ubuntu+14+10+desktop+32bit+iso&tr=udp%3A%2F%2Ftracker.publicbt.com%2Fannounce&tr=udp%3A%2F%2Fglotorrents.pw%3A6969%2Fannounce\", \"name\": \"Ubuntu 14.10 Desktop 32bit ISO\", \"seed\": \"25\", \"size\": \"1.11 GB\", \"verified\": \"0\"}, {\"age\": \"1 year\", \"category\": \"Applications > Linux\", \"files\": \"1\", \"leech\": \"3\", \"link\": \"http://torcache.net/torrent/4D753474429D817B80FF9E0C441CA660EC5D2450.torrent?title=[kat.cr]ubuntu.14.04.lts.desktop.64bit.iso\", \"magnet\": \"magnet:?xt=urn:btih:4D753474429D817B80FF9E0C441CA660EC5D2450&dn=ubuntu+14+04+lts+desktop+64bit+iso&tr=udp%3A%2F%2Ftracker.publicbt.com%2Fannounce&tr=udp%3A%2F%2Fglotorrents.pw%3A6969%2Fannounce\", \"name\": \"Ubuntu 14.04 LTS Desktop 64bit ISO\", \"seed\": \"24\", \"size\": \"964 MB\", \"verified\": \"0\"}, {\"age\": \"2 months\", \"category\": \"Applications > Linux\", \"files\": \"1\", \"leech\": \"2\", \"link\": \"http://torcache.net/torrent/AE3FA25614B753118931373F8FEAE64F3C75F5CD.torrent?title=[kat.cr]ubuntu.15.10.server.64.bit\", \"magnet\": \"magnet:?xt=urn:btih:AE3FA25614B753118931373F8FEAE64F3C75F5CD&dn=ubuntu+15+10+server+64+bit&tr=udp%3A%2F%2Ftracker.publicbt.com%2Fannounce&tr=udp%3A%2F%2Fglotorrents.pw%3A6969%2Fannounce\", \"name\": \"Ubuntu 15.10 Server (64-bit)\", \"seed\": \"23\", \"size\": \"632 MB\", \"verified\": \"0\"}, {\"age\": \"1 year\", \"category\": \"Books > Academic\", \"files\": \"1\", \"leech\": \"1\", \"link\": \"http://torcache.net/torrent/D297C0C2C18AFD613BD1E7C28B83FDD003E38C86.torrent?title=[kat.cr]the.official.ubuntu.server.book.3rd.edition.2013.pdf\", \"magnet\": \"magnet:?xt=urn:btih:D297C0C2C18AFD613BD1E7C28B83FDD003E38C86&dn=the+official+ubuntu+server+book+3rd+edition+2013+pdf&tr=udp%3A%2F%2Ftracker.publicbt.com%2Fannounce&tr=udp%3A%2F%2Fglotorrents.pw%3A6969%2Fannounce\", \"name\": \"The Official Ubuntu Server Book 3rd Edition(2013)pdf\", \"seed\": \"20\", \"size\": \"19.32 MB\", \"verified\": \"0\"}, {\"age\": \"6 months\", \"category\": \"Books > Academic\", \"files\": \"2\", \"leech\": \"0\", \"link\": \"http://torcache.net/torrent/D4262109DD29B1D4F4DF2316FDEA667516A91730.torrent?title=[kat.cr]official.ubuntu.book.8th.edition.prentice.2015.epub.golu\", \"magnet\": \"magnet:?xt=urn:btih:D4262109DD29B1D4F4DF2316FDEA667516A91730&dn=official+ubuntu+book+8th+edition+prentice+2015+epub+golu&tr=udp%3A%2F%2Ftracker.publicbt.com%2Fannounce&tr=udp%3A%2F%2Fglotorrents.pw%3A6969%2Fannounce\", \"name\": \"Official Ubuntu Book (8th Edition) - Prentice (2015) EPUB - GOLU\", \"seed\": \"20\", \"size\": \"6.79 MB\", \"verified\": \"0\"}, {\"age\": \"1 year\", \"category\": \"Other > Tutorials\", \"files\": \"92\", \"leech\": \"3\", \"link\": \"http://torcache.net/torrent/7C7DCA2AC0D7D5C3526FB21FD52B260E6967719E.torrent?title=[kat.cr]infiniteskills.learning.ubuntu.linux\", \"magnet\": \"magnet:?xt=urn:btih:7C7DCA2AC0D7D5C3526FB21FD52B260E6967719E&dn=infiniteskills+learning+ubuntu+linux&tr=udp%3A%2F%2Ftracker.publicbt.com%2Fannounce&tr=udp%3A%2F%2Fglotorrents.pw%3A6969%2Fannounce\", \"name\": \"Infiniteskills - Learning Ubuntu Linux\", \"seed\": \"19\", \"size\": \"810.69 MB\", \"verified\": \"0\"}, {\"age\": \"3 years\", \"category\": \"Applications > Linux\", \"files\": \"1\", \"leech\": \"0\", \"link\": \"http://torcache.net/torrent/49FBD26322960D982DA855C54E36DF19AD3113B8.torrent?title=[kat.cr]ubuntu.12.04.desktop.i386.iso\", \"magnet\": \"magnet:?xt=urn:btih:49FBD26322960D982DA855C54E36DF19AD3113B8&dn=ubuntu+12+04+desktop+i386+iso&tr=udp%3A%2F%2Ftracker.publicbt.com%2Fannounce&tr=udp%3A%2F%2Fglotorrents.pw%3A6969%2Fannounce\", \"name\": \"ubuntu 12 04 desktop i386 iso\", \"seed\": \"18\", \"size\": \"701.29 MB\", \"verified\": \"0\"}, {\"age\": \"2 months\", \"category\": \"Books > Magazines\", \"files\": \"1\", \"leech\": \"1\", \"link\": \"http://torcache.net/torrent/0210D89E2FA4E9A4AA415FFECEC13414E5BFE285.torrent?title=[kat.cr]linux.format.build.the.best.ubuntu.media.centre.november.2015.cpul\", \"magnet\": \"magnet:?xt=urn:btih:0210D89E2FA4E9A4AA415FFECEC13414E5BFE285&dn=linux+format+build+the+best+ubuntu+media+centre+november+2015+cpul&tr=udp%3A%2F%2Ftracker.publicbt.com%2Fannounce&tr=udp%3A%2F%2Fglotorrents.pw%3A6969%2Fannounce\", \"name\": \"Linux Format - Build The Best Ubuntu Media Centre (November 2015) [CPUL]\", \"seed\": \"18\", \"size\": \"30.69 MB\", \"verified\": \"0\"}, {\"age\": \"1 year\", \"category\": \"Applications > Linux\", \"files\": \"1\", \"leech\": \"2\", \"link\": \"http://torcache.net/torrent/7A1073BC39E6B0B01E3730227B8FFEA6AEAC5D59.torrent?title=[kat.cr]ubuntu.14.04.lts.trusty.tahr.desktop.32bit.iso\", \"magnet\": \"magnet:?xt=urn:btih:7A1073BC39E6B0B01E3730227B8FFEA6AEAC5D59&dn=ubuntu+14+04+lts+trusty+tahr+desktop+32bit+iso&tr=udp%3A%2F%2Ftracker.publicbt.com%2Fannounce&tr=udp%3A%2F%2Fglotorrents.pw%3A6969%2Fannounce\", \"name\": \"Ubuntu 14.04 LTS Trusty Tahr desktop 32bit ISO\", \"seed\": \"17\", \"size\": \"970 MB\", \"verified\": \"0\"}, {\"age\": \"2 weeks\", \"category\": \"Books > Magazines\", \"files\": \"1\", \"leech\": \"0\", \"link\": \"http://torcache.net/torrent/1C8581E2491F3078D27209268CB2FBE016EA8DE3.torrent?title=[kat.cr]linux.format.new.ubuntu.december.2015.cpul\", \"magnet\": \"magnet:?xt=urn:btih:1C8581E2491F3078D27209268CB2FBE016EA8DE3&dn=linux+format+new+ubuntu+december+2015+cpul&tr=udp%3A%2F%2Ftracker.publicbt.com%2Fannounce&tr=udp%3A%2F%2Fglotorrents.pw%3A6969%2Fannounce\", \"name\": \"Linux Format - New Ubuntu! (December 2015) [CPUL]\", \"seed\": \"16\", \"size\": \"16.42 MB\", \"verified\": \"0\"}, {\"age\": \"1 month\", \"category\": \"Books > Programming\", \"files\": \"1\", \"leech\": \"1\", \"link\": \"http://torcache.net/torrent/BFE0F947FAF031D7A77E0F582365F0AB4E4E3323.torrent?title=[kat.cr]ubuntu.linux.toolbox.1000.commands.for.ubuntu.and.debian.power.users.2nd.edition.true.pdf.by.christopher.negus.pradyutvam2.cpul.wiley.pdf.latest\", \"magnet\": \"magnet:?xt=urn:btih:BFE0F947FAF031D7A77E0F582365F0AB4E4E3323&dn=ubuntu+linux+toolbox+1000+commands+for+ubuntu+and+debian+power+users+2nd+edition+true+pdf+by+christopher+negus+pradyutvam2+cpul+wiley+pdf+latest&tr=udp%3A%2F%2Ftracker.publicbt.com%2Fannounce&tr=udp%3A%2F%2Fglotorrents.pw%3A6969%2Fannounce\", \"name\": \"Ubuntu Linux Toolbox: 1000+ Commands for Ubuntu and Debian Power Users [2nd Edition](TRUE PDF) by Christopher Negus(pradyutvam2)[cpul](wiley).pdf{LATEST}\", \"seed\": \"14\", \"size\": \"4.85 MB\", \"verified\": \"0\"}, {\"age\": \"2 months\", \"category\": \"Applications > Linux\", \"files\": \"1\", \"leech\": \"2\", \"link\": \"http://torcache.net/torrent/45C2E143BC1B37138DD8B3A11F31C9D86DB4BFF1.torrent?title=[kat.cr]ubuntu.15.10.server.32.bit\", \"magnet\": \"magnet:?xt=urn:btih:45C2E143BC1B37138DD8B3A11F31C9D86DB4BFF1&dn=ubuntu+15+10+server+32+bit&tr=udp%3A%2F%2Ftracker.publicbt.com%2Fannounce&tr=udp%3A%2F%2Fglotorrents.pw%3A6969%2Fannounce\", \"name\": \"Ubuntu 15.10 Server (32-bit)\", \"seed\": \"12\", \"size\": \"628 MB\", \"verified\": \"0\"}, {\"age\": \"1 year\", \"category\": \"Applications > Linux\", \"files\": \"1\", \"leech\": \"0\", \"link\": \"http://torcache.net/torrent/CB84CCC10F296DF72D6C40BA7A07C178A4323A14.torrent?title=[kat.cr]ubuntu.14.04.1.desktop.amd64.iso\", \"magnet\": \"magnet:?xt=urn:btih:CB84CCC10F296DF72D6C40BA7A07C178A4323A14&dn=ubuntu+14+04+1+desktop+amd64+iso&tr=udp%3A%2F%2Ftracker.publicbt.com%2Fannounce&tr=udp%3A%2F%2Fglotorrents.pw%3A6969%2Fannounce\", \"name\": \"ubuntu 14 04 1 desktop amd64 iso\", \"seed\": \"11\", \"size\": \"981 MB\", \"verified\": \"0\"}, {\"age\": \"1 year\", \"category\": \"Applications > Windows\", \"files\": \"2\", \"leech\": \"3\", \"link\": \"http://torcache.net/torrent/C8A4D40C0BD5E2333B2FF7280FA79C6A90EEEE37.torrent?title=[kat.cr]ubuntu.businesspack.14.04.i386.amd64\", \"magnet\": \"magnet:?xt=urn:btih:C8A4D40C0BD5E2333B2FF7280FA79C6A90EEEE37&dn=ubuntu+businesspack+14+04+i386+amd64&tr=udp%3A%2F%2Ftracker.publicbt.com%2Fannounce&tr=udp%3A%2F%2Fglotorrents.pw%3A6969%2Fannounce\", \"name\": \"Ubuntu BusinessPack 14.04 [i386 + amd64]\", \"seed\": \"11\", \"size\": \"4.54 GB\", \"verified\": \"0\"}, {\"age\": \"5 years\", \"category\": \"Applications > Linux\", \"files\": \"1\", \"leech\": \"4\", \"link\": \"http://torcache.net/torrent/574034E0EC52BA3BF08B5C58AB4A5DEE0627FA89.torrent?title=[kat.cr]ubuntu.desktop.10.04.i386.lucid.lynx\", \"magnet\": \"magnet:?xt=urn:btih:574034e0ec52ba3bf08b5c58ab4a5dee0627fa89&dn=ubuntu+desktop+10+04+i386+lucid+lynx&tr=udp%3A%2F%2Ftracker.publicbt.com%2Fannounce&tr=udp%3A%2F%2Fglotorrents.pw%3A6969%2Fannounce\", \"name\": \"Ubuntu Desktop 10.04 i386 Lucid Lynx\", \"seed\": \"10\", \"size\": \"699.44 MB\", \"verified\": \"0\"}, {\"age\": \"5 months\", \"category\": \"Applications > Linux\", \"files\": \"1\", \"leech\": \"0\", \"link\": \"http://torcache.net/torrent/F84B7654D35AA190A4C8BEA3B64A92805641C961.torrent?title=[kat.cr]ubuntu.mate.14.04.2.lts.desktop.amd64.iso\", \"magnet\": \"magnet:?xt=urn:btih:F84B7654D35AA190A4C8BEA3B64A92805641C961&dn=ubuntu+mate+14+04+2+lts+desktop+amd64+iso&tr=udp%3A%2F%2Ftracker.publicbt.com%2Fannounce&tr=udp%3A%2F%2Fglotorrents.pw%3A6969%2Fannounce\", \"name\": \"ubuntu mate 14.04.2 LTS desktop amd64.iso\", \"seed\": \"10\", \"size\": \"1.05 GB\", \"verified\": \"0\"}, {\"age\": \"1 month\", \"category\": \"Applications > Linux\", \"files\": \"3\", \"leech\": \"2\", \"link\": \"http://torcache.net/torrent/F477DD57AA7C074FA7CC3743ABC3B4054F26C84E.torrent?title=[kat.cr]ubuntuwin.mate.15.04.amd64.iso.ita.tntvillage\", \"magnet\": \"magnet:?xt=urn:btih:F477DD57AA7C074FA7CC3743ABC3B4054F26C84E&dn=ubuntuwin+mate+15+04+amd64+iso+ita+tntvillage&tr=udp%3A%2F%2Ftracker.publicbt.com%2Fannounce&tr=udp%3A%2F%2Fglotorrents.pw%3A6969%2Fannounce\", \"name\": \"UbuntuWin-Mate 15.04 amd64, [Iso - Ita] [TNTVillage]\", \"seed\": \"10\", \"size\": \"1.56 GB\", \"verified\": \"0\"}, {\"age\": \"3 years\", \"category\": \"Applications > Linux\", \"files\": \"1\", \"leech\": \"1\", \"link\": \"http://torcache.net/torrent/BBB6DB69965AF769F664B6636E7914F8735141B3.torrent?title=[kat.cr]ubuntu.12.04.lts.i386.precise.pangolin\", \"magnet\": \"magnet:?xt=urn:btih:BBB6DB69965AF769F664B6636E7914F8735141B3&dn=ubuntu+12+04+lts+i386+precise+pangolin&tr=udp%3A%2F%2Ftracker.publicbt.com%2Fannounce&tr=udp%3A%2F%2Fglotorrents.pw%3A6969%2Fannounce\", \"name\": \"Ubuntu 12.04 LTS i386 Precise Pangolin\", \"seed\": \"9\", \"size\": \"701.29 MB\", \"verified\": \"0\"}, {\"age\": \"8 months\", \"category\": \"Books > Magazines\", \"files\": \"1\", \"leech\": \"0\", \"link\": \"http://torcache.net/torrent/6E0D29C5A3BCAC1E77E9075D699BCDA032E252E7.torrent?title=[kat.cr]ubuntu.facile.marzo.2015.pdf.ita.tntvillage\", \"magnet\": \"magnet:?xt=urn:btih:6E0D29C5A3BCAC1E77E9075D699BCDA032E252E7&dn=ubuntu+facile+marzo+2015+pdf+ita+tntvillage&tr=udp%3A%2F%2Ftracker.publicbt.com%2Fannounce&tr=udp%3A%2F%2Fglotorrents.pw%3A6969%2Fannounce\", \"name\": \"Ubuntu Facile - Marzo 2015, [Pdf - Ita] [TNTVillage]\", \"seed\": \"9\", \"size\": \"11.22 MB\", \"verified\": \"0\"}]}'"
      ]
     },
     "execution_count": 16,
     "metadata": {},
     "output_type": "execute_result"
    }
   ],
   "source": [
    "search"
   ]
  },
  {
   "cell_type": "code",
   "execution_count": null,
   "metadata": {
    "collapsed": true
   },
   "outputs": [],
   "source": []
  },
  {
   "cell_type": "code",
   "execution_count": 5,
   "metadata": {
    "collapsed": false
   },
   "outputs": [
    {
     "data": {
      "text/plain": [
       "'{\"info\": {\"pageCurrent\": 1, \"pageResult\": 25, \"pageTotal\": \"21\"}, \"torrent\": [{\"age\": \"1 day\", \"category\": \"Books\", \"files\": \"1\", \"leech\": \"1\", \"link\": \"http://torcache.net/torrent/64770FE7B2CE3250798BB620BAA196B5D2AD1BFF.torrent?title=[kat.cr]negus.c.linux.biblia.ubuntu.fedora.debian.i.15.innych.rar.pdf.polish\", \"magnet\": \"magnet:?xt=urn:btih:64770FE7B2CE3250798BB620BAA196B5D2AD1BFF&dn=negus+c+linux+biblia+ubuntu+fedora+debian+i+15+innych+rar+pdf+polish&tr=udp%3A%2F%2Ftracker.publicbt.com%2Fannounce&tr=udp%3A%2F%2Fglotorrents.pw%3A6969%2Fannounce\", \"name\": \"Negus C. - Linux. Biblia. Ubuntu, Fedora, Debian i 15 innych [RAR->PDF] [POLISH]\", \"seed\": \"28\", \"size\": \"18.47 MB\", \"verified\": \"0\"}, {\"age\": \"1 month\", \"category\": \"Books > Programming\", \"files\": \"1\", \"leech\": \"1\", \"link\": \"http://torcache.net/torrent/BFE0F947FAF031D7A77E0F582365F0AB4E4E3323.torrent?title=[kat.cr]ubuntu.linux.toolbox.1000.commands.for.ubuntu.and.debian.power.users.2nd.edition.true.pdf.by.christopher.negus.pradyutvam2.cpul.wiley.pdf.latest\", \"magnet\": \"magnet:?xt=urn:btih:BFE0F947FAF031D7A77E0F582365F0AB4E4E3323&dn=ubuntu+linux+toolbox+1000+commands+for+ubuntu+and+debian+power+users+2nd+edition+true+pdf+by+christopher+negus+pradyutvam2+cpul+wiley+pdf+latest&tr=udp%3A%2F%2Ftracker.publicbt.com%2Fannounce&tr=udp%3A%2F%2Fglotorrents.pw%3A6969%2Fannounce\", \"name\": \"Ubuntu Linux Toolbox: 1000+ Commands for Ubuntu and Debian Power Users [2nd Edition](TRUE PDF) by Christopher Negus(pradyutvam2)[cpul](wiley).pdf{LATEST}\", \"seed\": \"14\", \"size\": \"4.85 MB\", \"verified\": \"0\"}, {\"age\": \"2 months\", \"category\": \"Applications > Linux\", \"files\": \"1\", \"leech\": \"0\", \"link\": \"http://torcache.net/torrent/3B5CA898D57294218F4F2210CABFC44FB1DDEEBB.torrent?title=[kat.cr]debian.6.0.7.amd64.netinst.zip\", \"magnet\": \"magnet:?xt=urn:btih:3B5CA898D57294218F4F2210CABFC44FB1DDEEBB&dn=debian+6+0+7+amd64+netinst+zip&tr=udp%3A%2F%2Ftracker.publicbt.com%2Fannounce&tr=udp%3A%2F%2Fglotorrents.pw%3A6969%2Fannounce\", \"name\": \"debian 6 0 7 amd64 netinst zip\", \"seed\": \"0\", \"size\": \"168 MB\", \"verified\": \"0\"}, {\"age\": \"2 months\", \"category\": \"Applications > Linux\", \"files\": \"14\", \"leech\": \"0\", \"link\": \"http://torcache.net/torrent/5168150B8E5C1713D30225C07E725AAA8801E471.torrent?title=[kat.cr]installed.debian.32bit.with.gnome.for.vmware\", \"magnet\": \"magnet:?xt=urn:btih:5168150B8E5C1713D30225C07E725AAA8801E471&dn=installed+debian+32bit+with+gnome+for+vmware&tr=udp%3A%2F%2Ftracker.publicbt.com%2Fannounce&tr=udp%3A%2F%2Fglotorrents.pw%3A6969%2Fannounce\", \"name\": \"Installed Debian 32bit with gnome for VmWare\", \"seed\": \"0\", \"size\": \"5.4 GB\", \"verified\": \"0\"}, {\"age\": \"3 months\", \"category\": \"Applications > Linux\", \"files\": \"1\", \"leech\": \"1\", \"link\": \"http://torcache.net/torrent/15CD85C6E3E0F16E53024C4258E5055CE3A2BB1A.torrent?title=[kat.cr]debian.update.8.2.0.i386.dvd.2.iso\", \"magnet\": \"magnet:?xt=urn:btih:15CD85C6E3E0F16E53024C4258E5055CE3A2BB1A&dn=debian+update+8+2+0+i386+dvd+2+iso&tr=udp%3A%2F%2Ftracker.publicbt.com%2Fannounce&tr=udp%3A%2F%2Fglotorrents.pw%3A6969%2Fannounce\", \"name\": \"debian update 8 2 0 i386 DVD 2 iso\", \"seed\": \"2\", \"size\": \"1.11 GB\", \"verified\": \"0\"}, {\"age\": \"3 months\", \"category\": \"Applications > Linux\", \"files\": \"1\", \"leech\": \"1\", \"link\": \"http://torcache.net/torrent/2F38A3EAA87C7A9E6A11FB5FCE7C5D31243FDD5D.torrent?title=[kat.cr]debian.update.8.2.0.i386.dvd.1.iso\", \"magnet\": \"magnet:?xt=urn:btih:2F38A3EAA87C7A9E6A11FB5FCE7C5D31243FDD5D&dn=debian+update+8+2+0+i386+dvd+1+iso&tr=udp%3A%2F%2Ftracker.publicbt.com%2Fannounce&tr=udp%3A%2F%2Fglotorrents.pw%3A6969%2Fannounce\", \"name\": \"debian update 8 2 0 i386 DVD 1 iso\", \"seed\": \"2\", \"size\": \"4.2 GB\", \"verified\": \"0\"}, {\"age\": \"3 months\", \"category\": \"Applications > Linux\", \"files\": \"1\", \"leech\": \"0\", \"link\": \"http://torcache.net/torrent/007A26BAD9D6E0A9142E42BAF14966227D02972B.torrent?title=[kat.cr]debian.update.8.2.0.amd64.dvd.2.iso\", \"magnet\": \"magnet:?xt=urn:btih:007A26BAD9D6E0A9142E42BAF14966227D02972B&dn=debian+update+8+2+0+amd64+dvd+2+iso&tr=udp%3A%2F%2Ftracker.publicbt.com%2Fannounce&tr=udp%3A%2F%2Fglotorrents.pw%3A6969%2Fannounce\", \"name\": \"debian update 8 2 0 amd64 DVD 2 iso\", \"seed\": \"2\", \"size\": \"1.09 GB\", \"verified\": \"0\"}, {\"age\": \"3 months\", \"category\": \"Applications > Linux\", \"files\": \"1\", \"leech\": \"0\", \"link\": \"http://torcache.net/torrent/FB77C39F2F2658460C3473F3D47938A7A30BB713.torrent?title=[kat.cr]debian.update.8.2.0.amd64.dvd.1.iso\", \"magnet\": \"magnet:?xt=urn:btih:FB77C39F2F2658460C3473F3D47938A7A30BB713&dn=debian+update+8+2+0+amd64+dvd+1+iso&tr=udp%3A%2F%2Ftracker.publicbt.com%2Fannounce&tr=udp%3A%2F%2Fglotorrents.pw%3A6969%2Fannounce\", \"name\": \"debian update 8 2 0 amd64 DVD 1 iso\", \"seed\": \"2\", \"size\": \"4.2 GB\", \"verified\": \"0\"}, {\"age\": \"3 months\", \"category\": \"Applications > Linux\", \"files\": \"1\", \"leech\": \"0\", \"link\": \"http://torcache.net/torrent/19BCC83361D6827CDB8EB11C8814FAC5066175C0.torrent?title=[kat.cr]debian.live.8.2.0.i386.xfce.desktop.iso\", \"magnet\": \"magnet:?xt=urn:btih:19BCC83361D6827CDB8EB11C8814FAC5066175C0&dn=debian+live+8+2+0+i386+xfce+desktop+iso&tr=udp%3A%2F%2Ftracker.publicbt.com%2Fannounce&tr=udp%3A%2F%2Fglotorrents.pw%3A6969%2Fannounce\", \"name\": \"debian live 8 2 0 i386 xfce desktop iso\", \"seed\": \"4\", \"size\": \"1.06 GB\", \"verified\": \"0\"}, {\"age\": \"3 months\", \"category\": \"Applications > Linux\", \"files\": \"1\", \"leech\": \"0\", \"link\": \"http://torcache.net/torrent/A021A104F6CB1CCB76A8E7FAC155A259F932D2A7.torrent?title=[kat.cr]debian.live.8.2.0.i386.standard.iso\", \"magnet\": \"magnet:?xt=urn:btih:A021A104F6CB1CCB76A8E7FAC155A259F932D2A7&dn=debian+live+8+2+0+i386+standard+iso&tr=udp%3A%2F%2Ftracker.publicbt.com%2Fannounce&tr=udp%3A%2F%2Fglotorrents.pw%3A6969%2Fannounce\", \"name\": \"debian live 8 2 0 i386 standard iso\", \"seed\": \"2\", \"size\": \"522 MB\", \"verified\": \"0\"}, {\"age\": \"3 months\", \"category\": \"Applications > Linux\", \"files\": \"1\", \"leech\": \"0\", \"link\": \"http://torcache.net/torrent/0D374F6D82EF9399570E3F9A0D7B74BDD7E90374.torrent?title=[kat.cr]debian.live.8.2.0.i386.mate.desktop.iso\", \"magnet\": \"magnet:?xt=urn:btih:0D374F6D82EF9399570E3F9A0D7B74BDD7E90374&dn=debian+live+8+2+0+i386+mate+desktop+iso&tr=udp%3A%2F%2Ftracker.publicbt.com%2Fannounce&tr=udp%3A%2F%2Fglotorrents.pw%3A6969%2Fannounce\", \"name\": \"debian live 8 2 0 i386 mate desktop iso\", \"seed\": \"2\", \"size\": \"1.1 GB\", \"verified\": \"0\"}, {\"age\": \"3 months\", \"category\": \"Applications > Linux\", \"files\": \"1\", \"leech\": \"0\", \"link\": \"http://torcache.net/torrent/550C6FC56845321383421A3DDC9687589A22C1F8.torrent?title=[kat.cr]debian.live.8.2.0.i386.lxde.desktop.iso\", \"magnet\": \"magnet:?xt=urn:btih:550C6FC56845321383421A3DDC9687589A22C1F8&dn=debian+live+8+2+0+i386+lxde+desktop+iso&tr=udp%3A%2F%2Ftracker.publicbt.com%2Fannounce&tr=udp%3A%2F%2Fglotorrents.pw%3A6969%2Fannounce\", \"name\": \"debian live 8 2 0 i386 lxde desktop iso\", \"seed\": \"2\", \"size\": \"1.07 GB\", \"verified\": \"0\"}, {\"age\": \"3 months\", \"category\": \"Applications > Linux\", \"files\": \"1\", \"leech\": \"0\", \"link\": \"http://torcache.net/torrent/E78E656AB17A1B79EB438E0905C1C7338F3B2E61.torrent?title=[kat.cr]debian.live.8.2.0.i386.kde.desktop.iso\", \"magnet\": \"magnet:?xt=urn:btih:E78E656AB17A1B79EB438E0905C1C7338F3B2E61&dn=debian+live+8+2+0+i386+kde+desktop+iso&tr=udp%3A%2F%2Ftracker.publicbt.com%2Fannounce&tr=udp%3A%2F%2Fglotorrents.pw%3A6969%2Fannounce\", \"name\": \"debian live 8 2 0 i386 kde desktop iso\", \"seed\": \"2\", \"size\": \"1.33 GB\", \"verified\": \"0\"}, {\"age\": \"3 months\", \"category\": \"Applications > Linux\", \"files\": \"1\", \"leech\": \"0\", \"link\": \"http://torcache.net/torrent/D7FBA88057B75BDE2F42A6C361C84CE535088A11.torrent?title=[kat.cr]debian.live.8.2.0.i386.gnome.desktop.iso\", \"magnet\": \"magnet:?xt=urn:btih:D7FBA88057B75BDE2F42A6C361C84CE535088A11&dn=debian+live+8+2+0+i386+gnome+desktop+iso&tr=udp%3A%2F%2Ftracker.publicbt.com%2Fannounce&tr=udp%3A%2F%2Fglotorrents.pw%3A6969%2Fannounce\", \"name\": \"debian live 8 2 0 i386 gnome desktop iso\", \"seed\": \"2\", \"size\": \"1.43 GB\", \"verified\": \"0\"}, {\"age\": \"3 months\", \"category\": \"Applications > Linux\", \"files\": \"1\", \"leech\": \"0\", \"link\": \"http://torcache.net/torrent/8C161CFB80E9273486C764722043585680CD8899.torrent?title=[kat.cr]debian.live.8.2.0.i386.cinnamon.desktop.iso\", \"magnet\": \"magnet:?xt=urn:btih:8C161CFB80E9273486C764722043585680CD8899&dn=debian+live+8+2+0+i386+cinnamon+desktop+iso&tr=udp%3A%2F%2Ftracker.publicbt.com%2Fannounce&tr=udp%3A%2F%2Fglotorrents.pw%3A6969%2Fannounce\", \"name\": \"debian live 8 2 0 i386 cinnamon desktop iso\", \"seed\": \"2\", \"size\": \"1.22 GB\", \"verified\": \"0\"}, {\"age\": \"3 months\", \"category\": \"Applications > Linux\", \"files\": \"1\", \"leech\": \"0\", \"link\": \"http://torcache.net/torrent/8532F825E249E6D27831626B7220B96C1B6AA6FF.torrent?title=[kat.cr]debian.live.8.2.0.amd64.xfce.desktop.iso\", \"magnet\": \"magnet:?xt=urn:btih:8532F825E249E6D27831626B7220B96C1B6AA6FF&dn=debian+live+8+2+0+amd64+xfce+desktop+iso&tr=udp%3A%2F%2Ftracker.publicbt.com%2Fannounce&tr=udp%3A%2F%2Fglotorrents.pw%3A6969%2Fannounce\", \"name\": \"debian live 8 2 0 amd64 xfce desktop iso\", \"seed\": \"3\", \"size\": \"950 MB\", \"verified\": \"0\"}, {\"age\": \"3 months\", \"category\": \"Applications > Linux\", \"files\": \"1\", \"leech\": \"1\", \"link\": \"http://torcache.net/torrent/9B72AD2C10B778994217A688F1735B7A6434FBB0.torrent?title=[kat.cr]debian.live.8.2.0.amd64.standard.iso\", \"magnet\": \"magnet:?xt=urn:btih:9B72AD2C10B778994217A688F1735B7A6434FBB0&dn=debian+live+8+2+0+amd64+standard+iso&tr=udp%3A%2F%2Ftracker.publicbt.com%2Fannounce&tr=udp%3A%2F%2Fglotorrents.pw%3A6969%2Fannounce\", \"name\": \"debian live 8 2 0 amd64 standard iso\", \"seed\": \"4\", \"size\": \"416 MB\", \"verified\": \"0\"}, {\"age\": \"3 months\", \"category\": \"Applications > Linux\", \"files\": \"1\", \"leech\": \"1\", \"link\": \"http://torcache.net/torrent/0B877F7A57C4A1DB6F3712AD18574B34172A5F1F.torrent?title=[kat.cr]debian.live.8.2.0.amd64.mate.desktop.iso\", \"magnet\": \"magnet:?xt=urn:btih:0B877F7A57C4A1DB6F3712AD18574B34172A5F1F&dn=debian+live+8+2+0+amd64+mate+desktop+iso&tr=udp%3A%2F%2Ftracker.publicbt.com%2Fannounce&tr=udp%3A%2F%2Fglotorrents.pw%3A6969%2Fannounce\", \"name\": \"debian live 8 2 0 amd64 mate desktop iso\", \"seed\": \"3\", \"size\": \"992 MB\", \"verified\": \"0\"}, {\"age\": \"3 months\", \"category\": \"Applications > Linux\", \"files\": \"1\", \"leech\": \"0\", \"link\": \"http://torcache.net/torrent/C232DCC9E95278F5E54A23A9127221A8894A426D.torrent?title=[kat.cr]debian.live.8.2.0.amd64.lxde.desktop.iso\", \"magnet\": \"magnet:?xt=urn:btih:C232DCC9E95278F5E54A23A9127221A8894A426D&dn=debian+live+8+2+0+amd64+lxde+desktop+iso&tr=udp%3A%2F%2Ftracker.publicbt.com%2Fannounce&tr=udp%3A%2F%2Fglotorrents.pw%3A6969%2Fannounce\", \"name\": \"debian live 8 2 0 amd64 lxde desktop iso\", \"seed\": \"2\", \"size\": \"957 MB\", \"verified\": \"0\"}, {\"age\": \"3 months\", \"category\": \"Applications > Linux\", \"files\": \"1\", \"leech\": \"0\", \"link\": \"http://torcache.net/torrent/2ABFD2E865B9DE3F30CE28914293F50ACB9F21C4.torrent?title=[kat.cr]debian.live.8.2.0.amd64.kde.desktop.iso\", \"magnet\": \"magnet:?xt=urn:btih:2ABFD2E865B9DE3F30CE28914293F50ACB9F21C4&dn=debian+live+8+2+0+amd64+kde+desktop+iso&tr=udp%3A%2F%2Ftracker.publicbt.com%2Fannounce&tr=udp%3A%2F%2Fglotorrents.pw%3A6969%2Fannounce\", \"name\": \"debian live 8 2 0 amd64 kde desktop iso\", \"seed\": \"2\", \"size\": \"1.19 GB\", \"verified\": \"0\"}, {\"age\": \"3 months\", \"category\": \"Applications > Linux\", \"files\": \"1\", \"leech\": \"0\", \"link\": \"http://torcache.net/torrent/832427A09F6F82542406DD5D7FC7F57203A208D2.torrent?title=[kat.cr]debian.live.8.2.0.amd64.gnome.desktop.iso\", \"magnet\": \"magnet:?xt=urn:btih:832427A09F6F82542406DD5D7FC7F57203A208D2&dn=debian+live+8+2+0+amd64+gnome+desktop+iso&tr=udp%3A%2F%2Ftracker.publicbt.com%2Fannounce&tr=udp%3A%2F%2Fglotorrents.pw%3A6969%2Fannounce\", \"name\": \"debian live 8 2 0 amd64 gnome desktop iso\", \"seed\": \"5\", \"size\": \"1.29 GB\", \"verified\": \"0\"}, {\"age\": \"3 months\", \"category\": \"Applications > Linux\", \"files\": \"1\", \"leech\": \"0\", \"link\": \"http://torcache.net/torrent/ECC052B493A30DBAA2A06D70FCE8FD78D1DA4A21.torrent?title=[kat.cr]debian.live.8.2.0.amd64.cinnamon.desktop.iso\", \"magnet\": \"magnet:?xt=urn:btih:ECC052B493A30DBAA2A06D70FCE8FD78D1DA4A21&dn=debian+live+8+2+0+amd64+cinnamon+desktop+iso&tr=udp%3A%2F%2Ftracker.publicbt.com%2Fannounce&tr=udp%3A%2F%2Fglotorrents.pw%3A6969%2Fannounce\", \"name\": \"debian live 8 2 0 amd64 cinnamon desktop iso\", \"seed\": \"3\", \"size\": \"1.09 GB\", \"verified\": \"0\"}, {\"age\": \"3 months\", \"category\": \"Applications > Linux\", \"files\": \"1\", \"leech\": \"0\", \"link\": \"http://torcache.net/torrent/C3E36BB32D7B8F1B89DCB003575F89EC859CF198.torrent?title=[kat.cr]debian.8.2.0.amd64.netinst.iso\", \"magnet\": \"magnet:?xt=urn:btih:C3E36BB32D7B8F1B89DCB003575F89EC859CF198&dn=debian+8+2+0+amd64+netinst+iso&tr=udp%3A%2F%2Ftracker.publicbt.com%2Fannounce&tr=udp%3A%2F%2Fglotorrents.pw%3A6969%2Fannounce\", \"name\": \"debian 8 2 0 amd64 netinst iso\", \"seed\": \"4\", \"size\": \"247 MB\", \"verified\": \"0\"}, {\"age\": \"3 months\", \"category\": \"Applications > Linux\", \"files\": \"1\", \"leech\": \"3\", \"link\": \"http://torcache.net/torrent/CD8158937344B2A066446BED7E7A0C45214F1245.torrent?title=[kat.cr]debian.8.2.0.amd64.dvd.1.iso\", \"magnet\": \"magnet:?xt=urn:btih:CD8158937344B2A066446BED7E7A0C45214F1245&dn=debian+8+2+0+amd64+dvd+1+iso&tr=udp%3A%2F%2Ftracker.publicbt.com%2Fannounce&tr=udp%3A%2F%2Fglotorrents.pw%3A6969%2Fannounce\", \"name\": \"debian 8 2 0 amd64 DVD 1 iso\", \"seed\": \"19\", \"size\": \"3.72 GB\", \"verified\": \"0\"}, {\"age\": \"3 months\", \"category\": \"Applications > Linux\", \"files\": \"1\", \"leech\": \"0\", \"link\": \"http://torcache.net/torrent/F1D0D24C903D1D37E705F66F70B712302625772A.torrent?title=[kat.cr]debian.8.2.0.i386.netinst.iso\", \"magnet\": \"magnet:?xt=urn:btih:F1D0D24C903D1D37E705F66F70B712302625772A&dn=debian+8+2+0+i386+netinst+iso&tr=udp%3A%2F%2Ftracker.publicbt.com%2Fannounce&tr=udp%3A%2F%2Fglotorrents.pw%3A6969%2Fannounce\", \"name\": \"debian 8 2 0 i386 netinst iso\", \"seed\": \"4\", \"size\": \"315 MB\", \"verified\": \"0\"}]}'"
      ]
     },
     "execution_count": 5,
     "metadata": {},
     "output_type": "execute_result"
    }
   ],
   "source": [
    "tor_search"
   ]
  },
  {
   "cell_type": "code",
   "execution_count": null,
   "metadata": {
    "collapsed": true
   },
   "outputs": [],
   "source": [
    "import libtorrent as lt import time   \n",
    "\n",
    "TorrentFilePath = \"/home/dan/torrentfiles/\" + str(time.time()) + \n",
    "\"/\" TorrentFilePath2 = \"/home/dan/torrentfiles/\" + str(time.time()) + \n",
    "\"/\" + str(time.time()) + \".torrent\" \n",
    "\n",
    "ses = lt.session() \n",
    "#ses.listen_on(6881, 6891) \n",
    "\n",
    "params = { 'save_path': TorrentFilePath, 'duplicate_is_error': True} \n",
    "\n",
    "link =  \"magnet:?xt=urn:btih:599e3fb0433505f27d35efbe398225869a2a89a9&dn=ubuntu-10.04.4-server-i386.iso&tr=udp%3A%2F%2Ftracker.openbittorrent.\n",
    "        com%3A80&tr=udp%3A%2F%2Ftracker.publicbt.com%3A80&tr=udp%3A%2F%2F\n",
    "        tracker.ccc.de%3A80\" \n",
    "        \n",
    "handle = lt.add_magnet_uri(ses, link, params)\n",
    "# ses.start_dht() \n",
    "\n",
    "print 'saving torrent file here : ' + TorrentFilePath2 + \" ...\" \n",
    "\n",
    "while (not handle.has_metadata()): time.sleep(.1)   \n",
    "    torinfo = handle.get_torrent_info()   \n",
    "            fs = lt.file_storage() for file in torinfo.files(): \n",
    "                fs.add_file(file) torfile = lt.create_torrent(fs) \n",
    "                torfile.set_comment(torinfo.comment()) \n",
    "                torfile.set_creator(torinfo.creator())   \n",
    "                f = open(TorrentFilePath2 + \"torrentfile.torrent\", \"wb\") \n",
    "                f.write(lt.bencode(torfile.generate())) f.close() print \n",
    "                'saved and closing...'   - See more at: \n",
    "                    http://dan.folkes.me/2012/04/19/converting-a-magnet-\n",
    "                        link-into-a-torrent/#sthash.CIvLpljl.dpuf"
   ]
  }
 ],
 "metadata": {
  "kernelspec": {
   "display_name": "Python 3",
   "language": "python",
   "name": "python3"
  },
  "language_info": {
   "codemirror_mode": {
    "name": "ipython",
    "version": 3
   },
   "file_extension": ".py",
   "mimetype": "text/x-python",
   "name": "python",
   "nbconvert_exporter": "python",
   "pygments_lexer": "ipython3",
   "version": "3.4.2"
  }
 },
 "nbformat": 4,
 "nbformat_minor": 0
}
