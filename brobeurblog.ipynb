{
 "metadata": {
  "name": "",
  "signature": "sha256:e9839008627d392ce3b18642c9805150887c7dcc802ea28147dfd2c2c2442ae2"
 },
 "nbformat": 3,
 "nbformat_minor": 0,
 "worksheets": [
  {
   "cells": [
    {
     "cell_type": "markdown",
     "metadata": {},
     "source": [
      "BroBeur Studios Blog\n",
      "\n",
      "This is similar to the artcontrolme script but it deals with BroBeur Studios posts\n"
     ]
    },
    {
     "cell_type": "code",
     "collapsed": false,
     "input": [
      "import os"
     ],
     "language": "python",
     "metadata": {},
     "outputs": [],
     "prompt_number": 122
    },
    {
     "cell_type": "code",
     "collapsed": false,
     "input": [],
     "language": "python",
     "metadata": {},
     "outputs": [
      {
       "metadata": {},
       "output_type": "pyout",
       "prompt_number": 123,
       "text": [
        "u'/user_home/w_willartcontrolme/brobeur-web/posts'"
       ]
      }
     ],
     "prompt_number": 123
    },
    {
     "cell_type": "code",
     "collapsed": false,
     "input": [
      "bropo = ('/user_home/w_willartcontrolme/brobeur-web/posts')"
     ],
     "language": "python",
     "metadata": {},
     "outputs": [],
     "prompt_number": 124
    },
    {
     "cell_type": "code",
     "collapsed": false,
     "input": [
      "os.chdir(bropo)"
     ],
     "language": "python",
     "metadata": {},
     "outputs": [],
     "prompt_number": 125
    },
    {
     "cell_type": "code",
     "collapsed": false,
     "input": [
      "wplis = []"
     ],
     "language": "python",
     "metadata": {},
     "outputs": [],
     "prompt_number": 126
    },
    {
     "cell_type": "code",
     "collapsed": false,
     "input": [
      "for fil in os.listdir(bropo):\n",
      "    print fil\n",
      "    wplis.append(fil)"
     ],
     "language": "python",
     "metadata": {},
     "outputs": [
      {
       "output_type": "stream",
       "stream": "stdout",
       "text": [
        "spotwalker-ld48-first-3-hours.meta\n",
        "murder-simulation-2013.wp\n",
        "297.meta\n",
        "136.wp\n",
        "marchadventure.meta\n",
        "fishing-dream-modding.wp\n",
        "twitter-notes-on-game-development.wp\n",
        "november-2013-game-dev-meet-up.meta\n",
        "155.wp\n",
        "python-reddit-json.meta\n",
        "9.meta\n",
        "shark-nightmare.wp\n",
        "brobeur-studios-prodo-island-game-development-notes.wp\n",
        "169.meta\n",
        "auxjonem.wp\n",
        "cathern-interface.wp\n",
        "11.wp\n",
        "gameboy-jam-warmup-cafrin.meta\n",
        "cathern-interface-2.wp\n",
        "429.wp\n",
        "136.meta\n",
        "imagamer-ca.wp\n",
        "site-logo-paintings-prodo-git.meta\n",
        "duck.wp\n",
        "17.wp\n",
        "25.meta\n",
        "98.wp\n",
        "playformfeb-v1-web.wp\n",
        "bc-conceptdraw.wp\n",
        "iamagamer-envior-concept-art-plus-model.wp\n",
        "marchadventure.wp\n",
        "154.wp\n",
        "cathern-interface-2.meta\n",
        "692.wp\n",
        "29.wp\n",
        "90.meta\n",
        "404.meta\n",
        "twitter-notes-on-game-development-2.wp\n",
        "491.meta\n",
        "auxjonem.meta\n",
        "429.meta\n",
        "692.meta\n",
        "maya-python-classes-development.wp\n",
        "post-mortem-hell-earth.meta\n",
        "murder-simulation-2013.meta\n",
        "523.meta\n",
        "404.wp\n",
        "90.wp\n",
        "birdcage-platform-game-0-1-0-2.meta\n",
        "25.wp\n",
        "skins-wire-python-image-library.meta\n",
        "sim-prototype-idea-1.wp\n",
        "twitter-notes-on-game-development-2.meta\n",
        "maya-api.meta\n",
        "post-mortem-hell-earth.wp\n",
        "hell-earth.meta\n",
        "november-2013-game-dev-meet-up.wp\n",
        "aux-jan-game.meta\n",
        "prodo-gpc1.wp\n",
        "python-reddit-json.wp\n",
        "party-noon-nightmare-prototype-build.wp\n",
        "triger.wp\n",
        "29.meta\n",
        "brobeur-studios-prodo-island-game-development-notes.meta\n",
        "iamagamer-envior-concept-art-plus-model.meta\n",
        "137.wp\n",
        "surreal-warp-nightmare.meta\n",
        "start-gpcv17-ideas.wp\n",
        "452.meta\n",
        "297.wp\n",
        "137.meta\n",
        "twitter-notes-on-game-development.meta\n",
        "sim-prototype-idea-1.meta\n",
        "imagamer-ca.meta\n",
        "prodo-island-project-new.meta\n",
        "gameboy-jam-warmup-cafrin.wp\n",
        "523.wp\n",
        "black-cat-fishing-jam.wp\n",
        "party-noon-nightmare-prototype-build.meta\n",
        "black-cat-fishing-jam.meta\n",
        "development-slow.meta\n",
        "site-logo-paintings-prodo-git.wp\n",
        "skins-wire-python-image-library.wp\n",
        "aux-jan-0-6.wp\n",
        "491.wp\n",
        "black-bars-and-text-suburb-nightmare.wp\n",
        "17.meta\n",
        "fishing-dream-modding.meta\n",
        "maya-api.wp\n",
        "7drts-challenge-ideas.wp\n",
        "154.meta\n",
        "cathern-interface.meta\n",
        "9.wp\n",
        "marchgame-v0-1.wp\n",
        "shark-nightmare-screenshots.meta\n",
        "lightout-character-3d-assets.meta\n",
        "pari-noon-nightmare.wp\n",
        "development-slow.wp\n",
        "birdfice-apk.meta\n",
        "spotwalker-0-1-build.wp\n",
        "11.meta\n",
        "bc-conceptdraw.meta\n",
        "aux-jan-0-6.meta\n",
        "triger.meta\n",
        "spotwalker-0-1-build.meta\n",
        "digital-paintings-created-with-sketchbook-and-gimp.meta\n",
        "lightout-character-3d-assets.wp\n",
        "hell-earth.wp\n",
        "redditgetsdrawn-tiggyvashti7.meta\n",
        "170.wp\n",
        "155.meta\n",
        "98.meta\n",
        "suburbnightmare-screenshots.meta\n",
        "maya-python-classes-development.meta\n",
        "maya-python-and-party-moon-nightmare-screenshots.meta\n",
        "auxjan-to-auxjune.meta\n",
        "shark-nightmare.meta\n",
        "suburbnightmare-screenshots.wp\n",
        "hell-earth-2.wp\n",
        "169.wp\n",
        "514.meta\n",
        "89.meta\n",
        "birdcage-platform-game-0-1-0-2.wp\n",
        "start-gpcv17-ideas.meta\n",
        "duck.meta\n",
        "hell-earth-2.meta\n",
        "166.meta\n",
        "auxjan-to-auxjune.wp\n",
        "pari-noon-nightmare.meta\n",
        "7drts-challenge-ideas.meta\n",
        "prodo-island-project-new.wp\n",
        "digital-paintings-created-with-sketchbook-and-gimp.wp\n",
        "170.meta\n",
        "shark-nightmare-screenshots.wp\n",
        "dune-0-1.meta\n",
        "dune-0-1.wp\n",
        "166.wp\n",
        "triger-molyjam-2013.meta\n",
        "black-bars-and-text-suburb-nightmare.meta\n",
        "maya-python-and-party-moon-nightmare-screenshots.wp\n",
        "prodo-gpc1.meta\n",
        "playformfeb-v1-web.meta\n",
        "marchgame-v0-1.meta\n",
        "triger-molyjam-2013.wp\n",
        "514.wp\n",
        "redditgetsdrawn-tiggyvashti7.wp\n",
        "89.wp\n",
        "surreal-warp-nightmare.wp\n",
        "spotwalker-ld48-first-3-hours.wp\n",
        "aux-jan-game.wp\n",
        "452.wp\n",
        "birdfice-apk.wp\n"
       ]
      }
     ],
     "prompt_number": 127
    },
    {
     "cell_type": "code",
     "collapsed": false,
     "input": [
      "metlis = []"
     ],
     "language": "python",
     "metadata": {},
     "outputs": [],
     "prompt_number": 128
    },
    {
     "cell_type": "code",
     "collapsed": true,
     "input": [
      "for wp in wplis:\n",
      "    if '.meta' in wp:\n",
      "        metlis.append(wp)"
     ],
     "language": "python",
     "metadata": {},
     "outputs": [],
     "prompt_number": 129
    },
    {
     "cell_type": "code",
     "collapsed": false,
     "input": [
      "alldic = []"
     ],
     "language": "python",
     "metadata": {},
     "outputs": [],
     "prompt_number": 130
    },
    {
     "cell_type": "code",
     "collapsed": false,
     "input": [
      "for mea in metlis:\n",
      "    file = open(mea, 'r')\n",
      "    metaf = file.readlines()\n",
      "    chzdir = {metaf[2]: metaf[1]}#, file.readline()}\n",
      "    print chzdir\n",
      "    alldic.append(chzdir)"
     ],
     "language": "python",
     "metadata": {},
     "outputs": [
      {
       "output_type": "stream",
       "stream": "stdout",
       "text": [
        "{'2013-04-27 17:34:34\\n': 'spotwalker-ld48-first-3-hours\\n'}\n",
        "{'2013-06-10 15:14:32\\n': '297\\n'}\n",
        "{'2013-04-07 01:23:19\\n': 'marchadventure\\n'}\n",
        "{'2013-11-10 09:25:25\\n': 'november-2013-game-dev-meet-up\\n'}\n",
        "{'2013-04-04 10:08:10\\n': 'python-reddit-json\\n'}\n",
        "{'2013-03-31 21:46:42\\n': '9\\n'}\n",
        "{'2013-04-15 10:48:08\\n': '169\\n'}\n",
        "{'2013-07-05 04:59:10\\n': 'gameboy-jam-warmup-cafrin\\n'}\n",
        "{'2013-04-13 11:55:02\\n': '136\\n'}\n",
        "{'2013-04-14 00:52:51\\n': 'site-logo-paintings-prodo-git\\n'}\n",
        "{'2013-04-02 20:23:41\\n': '25\\n'}\n",
        "{'2013-06-19 19:11:31\\n': 'cathern-interface-2\\n'}\n",
        "{'2013-04-09 11:35:20\\n': '90\\n'}\n",
        "{'2013-07-12 23:21:40\\n': '404\\n'}\n",
        "{'2013-11-03 15:18:04\\n': '491\\n'}\n",
        "{'2013-06-24 07:48:18\\n': 'auxjonem\\n'}\n",
        "{'2013-07-30 01:49:59\\n': '429\\n'}\n",
        "{'2013-12-17 16:02:50\\n': '692\\n'}\n",
        "{'2013-08-20 23:31:23\\n': 'post-mortem-hell-earth\\n'}\n",
        "{'2013-08-09 12:33:00\\n': 'murder-simulation-2013\\n'}\n",
        "{'2013-11-14 19:52:33\\n': '523\\n'}\n",
        "{'2013-05-06 21:08:12\\n': 'birdcage-platform-game-0-1-0-2\\n'}\n",
        "{'2013-12-10 12:22:59\\n': 'skins-wire-python-image-library\\n'}\n",
        "{'2013-04-04 12:42:21\\n': 'twitter-notes-on-game-development-2\\n'}\n",
        "{'2013-11-16 17:42:27\\n': 'maya-api\\n'}\n",
        "{'2013-08-12 16:11:58\\n': 'hell-earth\\n'}\n",
        "{'2013-04-03 07:52:35\\n': 'aux-jan-game\\n'}\n",
        "{'2013-04-02 21:03:56\\n': '29\\n'}\n",
        "{'2013-04-11 11:47:49\\n': 'brobeur-studios-prodo-island-game-development-notes\\n'}\n",
        "{'2013-07-12 13:03:18\\n': 'iamagamer-envior-concept-art-plus-model\\n'}\n",
        "{'2013-06-10 21:46:50\\n': 'surreal-warp-nightmare\\n'}\n",
        "{'2013-08-12 04:28:38\\n': '452\\n'}\n",
        "{'2013-04-13 13:32:53\\n': '137\\n'}\n",
        "{'2013-04-04 12:42:21\\n': 'twitter-notes-on-game-development\\n'}\n",
        "{'2013-04-12 21:44:50\\n': 'sim-prototype-idea-1\\n'}\n",
        "{'2013-07-12 09:23:42\\n': 'imagamer-ca\\n'}\n",
        "{'2013-04-13 10:43:10\\n': 'prodo-island-project-new\\n'}\n",
        "{'2013-11-11 20:01:01\\n': 'party-noon-nightmare-prototype-build\\n'}\n",
        "{'2013-05-31 06:43:55\\n': 'black-cat-fishing-jam\\n'}\n",
        "{'2013-04-12 21:23:43\\n': 'development-slow\\n'}\n",
        "{'2013-04-02 18:41:03\\n': '17\\n'}\n",
        "{'2013-06-02 06:12:48\\n': 'fishing-dream-modding\\n'}\n",
        "{'2013-04-14 13:06:52\\n': '154\\n'}\n",
        "{'2013-06-18 13:21:33\\n': 'cathern-interface\\n'}\n",
        "{'2013-11-11 13:53:12\\n': 'shark-nightmare-screenshots\\n'}\n",
        "{'2013-06-09 20:14:49\\n': 'lightout-character-3d-assets\\n'}\n",
        "{'2013-05-11 20:03:37\\n': 'birdfice-apk\\n'}\n",
        "{'2013-04-02 17:52:40\\n': '11\\n'}\n",
        "{'2013-08-03 21:49:47\\n': 'bc-conceptdraw\\n'}\n",
        "{'2013-04-26 12:27:10\\n': 'aux-jan-0-6\\n'}\n",
        "{'2013-07-07 03:22:12\\n': 'triger\\n'}\n",
        "{'2013-04-28 02:39:48\\n': 'spotwalker-0-1-build\\n'}\n",
        "{'2013-04-02 21:33:18\\n': 'digital-paintings-created-with-sketchbook-and-gimp\\n'}\n",
        "{'2013-04-04 18:28:40\\n': 'redditgetsdrawn-tiggyvashti7\\n'}\n",
        "{'2013-04-15 02:17:47\\n': '155\\n'}\n",
        "{'2013-04-10 17:51:48\\n': '98\\n'}\n",
        "{'2013-07-14 11:35:39\\n': 'suburbnightmare-screenshots\\n'}\n",
        "{'2013-11-17 23:06:53\\n': 'maya-python-classes-development\\n'}\n",
        "{'2013-11-16 14:08:08\\n': 'maya-python-and-party-moon-nightmare-screenshots\\n'}\n",
        "{'2013-06-23 19:44:59\\n': 'auxjan-to-auxjune\\n'}\n",
        "{'2013-11-04 00:22:06\\n': 'shark-nightmare\\n'}\n",
        "{'2013-11-11 12:40:56\\n': '514\\n'}\n",
        "{'2013-04-08 04:47:20\\n': '89\\n'}\n",
        "{'2013-04-09 19:02:21\\n': 'start-gpcv17-ideas\\n'}\n",
        "{'2013-04-04 16:22:45\\n': 'duck\\n'}\n",
        "{'2013-08-12 23:46:19\\n': 'hell-earth-2\\n'}\n",
        "{'2013-04-15 10:34:06\\n': '166\\n'}\n",
        "{'2013-11-10 13:52:42\\n': 'pari-noon-nightmare\\n'}\n",
        "{'2013-07-17 07:07:19\\n': '7drts-challenge-ideas\\n'}"
       ]
      },
      {
       "output_type": "stream",
       "stream": "stdout",
       "text": [
        "\n",
        "{'2013-04-16 17:23:59\\n': '170\\n'}\n",
        "{'2013-05-19 14:31:51\\n': 'dune-0-1\\n'}\n",
        "{'2013-07-07 12:32:10\\n': 'triger-molyjam-2013\\n'}\n",
        "{'2013-12-11 11:45:42\\n': 'black-bars-and-text-suburb-nightmare\\n'}\n",
        "{'2013-04-16 18:47:04\\n': 'prodo-gpc1\\n'}\n",
        "{'2013-04-07 15:25:17\\n': 'playformfeb-v1-web\\n'}\n",
        "{'2013-04-03 13:22:37\\n': 'marchgame-v0-1\\n'}\n"
       ]
      }
     ],
     "prompt_number": 131
    },
    {
     "cell_type": "code",
     "collapsed": false,
     "input": [
      "chzdir"
     ],
     "language": "python",
     "metadata": {},
     "outputs": [
      {
       "metadata": {},
       "output_type": "pyout",
       "prompt_number": 132,
       "text": [
        "{'2013-04-03 13:22:37\\n': 'marchgame-v0-1\\n'}"
       ]
      }
     ],
     "prompt_number": 132
    },
    {
     "cell_type": "code",
     "collapsed": false,
     "input": [
      "for al in alldic:\n",
      "    print al"
     ],
     "language": "python",
     "metadata": {},
     "outputs": [
      {
       "output_type": "stream",
       "stream": "stdout",
       "text": [
        "{'2013-04-27 17:34:34\\n': 'spotwalker-ld48-first-3-hours\\n'}\n",
        "{'2013-06-10 15:14:32\\n': '297\\n'}\n",
        "{'2013-04-07 01:23:19\\n': 'marchadventure\\n'}\n",
        "{'2013-11-10 09:25:25\\n': 'november-2013-game-dev-meet-up\\n'}\n",
        "{'2013-04-04 10:08:10\\n': 'python-reddit-json\\n'}\n",
        "{'2013-03-31 21:46:42\\n': '9\\n'}\n",
        "{'2013-04-15 10:48:08\\n': '169\\n'}\n",
        "{'2013-07-05 04:59:10\\n': 'gameboy-jam-warmup-cafrin\\n'}\n",
        "{'2013-04-13 11:55:02\\n': '136\\n'}\n",
        "{'2013-04-14 00:52:51\\n': 'site-logo-paintings-prodo-git\\n'}\n",
        "{'2013-04-02 20:23:41\\n': '25\\n'}\n",
        "{'2013-06-19 19:11:31\\n': 'cathern-interface-2\\n'}\n",
        "{'2013-04-09 11:35:20\\n': '90\\n'}\n",
        "{'2013-07-12 23:21:40\\n': '404\\n'}\n",
        "{'2013-11-03 15:18:04\\n': '491\\n'}\n",
        "{'2013-06-24 07:48:18\\n': 'auxjonem\\n'}\n",
        "{'2013-07-30 01:49:59\\n': '429\\n'}\n",
        "{'2013-12-17 16:02:50\\n': '692\\n'}\n",
        "{'2013-08-20 23:31:23\\n': 'post-mortem-hell-earth\\n'}\n",
        "{'2013-08-09 12:33:00\\n': 'murder-simulation-2013\\n'}\n",
        "{'2013-11-14 19:52:33\\n': '523\\n'}\n",
        "{'2013-05-06 21:08:12\\n': 'birdcage-platform-game-0-1-0-2\\n'}\n",
        "{'2013-12-10 12:22:59\\n': 'skins-wire-python-image-library\\n'}\n",
        "{'2013-04-04 12:42:21\\n': 'twitter-notes-on-game-development-2\\n'}\n",
        "{'2013-11-16 17:42:27\\n': 'maya-api\\n'}\n",
        "{'2013-08-12 16:11:58\\n': 'hell-earth\\n'}\n",
        "{'2013-04-03 07:52:35\\n': 'aux-jan-game\\n'}\n",
        "{'2013-04-02 21:03:56\\n': '29\\n'}\n",
        "{'2013-04-11 11:47:49\\n': 'brobeur-studios-prodo-island-game-development-notes\\n'}\n",
        "{'2013-07-12 13:03:18\\n': 'iamagamer-envior-concept-art-plus-model\\n'}\n",
        "{'2013-06-10 21:46:50\\n': 'surreal-warp-nightmare\\n'}\n",
        "{'2013-08-12 04:28:38\\n': '452\\n'}\n",
        "{'2013-04-13 13:32:53\\n': '137\\n'}\n",
        "{'2013-04-04 12:42:21\\n': 'twitter-notes-on-game-development\\n'}\n",
        "{'2013-04-12 21:44:50\\n': 'sim-prototype-idea-1\\n'}\n",
        "{'2013-07-12 09:23:42\\n': 'imagamer-ca\\n'}\n",
        "{'2013-04-13 10:43:10\\n': 'prodo-island-project-new\\n'}\n",
        "{'2013-11-11 20:01:01\\n': 'party-noon-nightmare-prototype-build\\n'}\n",
        "{'2013-05-31 06:43:55\\n': 'black-cat-fishing-jam\\n'}\n",
        "{'2013-04-12 21:23:43\\n': 'development-slow\\n'}\n",
        "{'2013-04-02 18:41:03\\n': '17\\n'}\n",
        "{'2013-06-02 06:12:48\\n': 'fishing-dream-modding\\n'}\n",
        "{'2013-04-14 13:06:52\\n': '154\\n'}\n",
        "{'2013-06-18 13:21:33\\n': 'cathern-interface\\n'}\n",
        "{'2013-11-11 13:53:12\\n': 'shark-nightmare-screenshots\\n'}\n",
        "{'2013-06-09 20:14:49\\n': 'lightout-character-3d-assets\\n'}\n",
        "{'2013-05-11 20:03:37\\n': 'birdfice-apk\\n'}\n",
        "{'2013-04-02 17:52:40\\n': '11\\n'}\n",
        "{'2013-08-03 21:49:47\\n': 'bc-conceptdraw\\n'}\n",
        "{'2013-04-26 12:27:10\\n': 'aux-jan-0-6\\n'}\n",
        "{'2013-07-07 03:22:12\\n': 'triger\\n'}\n",
        "{'2013-04-28 02:39:48\\n': 'spotwalker-0-1-build\\n'}\n",
        "{'2013-04-02 21:33:18\\n': 'digital-paintings-created-with-sketchbook-and-gimp\\n'}\n",
        "{'2013-04-04 18:28:40\\n': 'redditgetsdrawn-tiggyvashti7\\n'}\n",
        "{'2013-04-15 02:17:47\\n': '155\\n'}\n",
        "{'2013-04-10 17:51:48\\n': '98\\n'}\n",
        "{'2013-07-14 11:35:39\\n': 'suburbnightmare-screenshots\\n'}\n",
        "{'2013-11-17 23:06:53\\n': 'maya-python-classes-development\\n'}\n",
        "{'2013-11-16 14:08:08\\n': 'maya-python-and-party-moon-nightmare-screenshots\\n'}\n",
        "{'2013-06-23 19:44:59\\n': 'auxjan-to-auxjune\\n'}\n",
        "{'2013-11-04 00:22:06\\n': 'shark-nightmare\\n'}\n",
        "{'2013-11-11 12:40:56\\n': '514\\n'}\n",
        "{'2013-04-08 04:47:20\\n': '89\\n'}\n",
        "{'2013-04-09 19:02:21\\n': 'start-gpcv17-ideas\\n'}\n",
        "{'2013-04-04 16:22:45\\n': 'duck\\n'}\n",
        "{'2013-08-12 23:46:19\\n': 'hell-earth-2\\n'}\n",
        "{'2013-04-15 10:34:06\\n': '166\\n'}\n",
        "{'2013-11-10 13:52:42\\n': 'pari-noon-nightmare\\n'}\n",
        "{'2013-07-17 07:07:19\\n': '7drts-challenge-ideas\\n'}\n",
        "{'2013-04-16 17:23:59\\n': '170\\n'}\n",
        "{'2013-05-19 14:31:51\\n': 'dune-0-1\\n'}\n",
        "{'2013-07-07 12:32:10\\n': 'triger-molyjam-2013\\n'}\n",
        "{'2013-12-11 11:45:42\\n': 'black-bars-and-text-suburb-nightmare\\n'}\n",
        "{'2013-04-16 18:47:04\\n': 'prodo-gpc1\\n'}\n",
        "{'2013-04-07 15:25:17\\n': 'playformfeb-v1-web\\n'}\n",
        "{'2013-04-03 13:22:37\\n': 'marchgame-v0-1\\n'}\n"
       ]
      }
     ],
     "prompt_number": 133
    },
    {
     "cell_type": "code",
     "collapsed": false,
     "input": [
      "tiran = len(alldic)"
     ],
     "language": "python",
     "metadata": {},
     "outputs": [],
     "prompt_number": 134
    },
    {
     "cell_type": "code",
     "collapsed": false,
     "input": [
      "import random"
     ],
     "language": "python",
     "metadata": {},
     "outputs": [],
     "prompt_number": 135
    },
    {
     "cell_type": "code",
     "collapsed": false,
     "input": [
      "ranit = random.randint(0, tiran)"
     ],
     "language": "python",
     "metadata": {},
     "outputs": [],
     "prompt_number": 136
    },
    {
     "cell_type": "code",
     "collapsed": false,
     "input": [
      "ranit"
     ],
     "language": "python",
     "metadata": {},
     "outputs": [
      {
       "metadata": {},
       "output_type": "pyout",
       "prompt_number": 137,
       "text": [
        "8"
       ]
      }
     ],
     "prompt_number": 137
    },
    {
     "cell_type": "code",
     "collapsed": false,
     "input": [
      "from random import shuffle"
     ],
     "language": "python",
     "metadata": {},
     "outputs": [],
     "prompt_number": 138
    },
    {
     "cell_type": "code",
     "collapsed": false,
     "input": [
      "shuffle(alldic)"
     ],
     "language": "python",
     "metadata": {},
     "outputs": [],
     "prompt_number": 139
    },
    {
     "cell_type": "code",
     "collapsed": false,
     "input": [
      "alldic"
     ],
     "language": "python",
     "metadata": {},
     "outputs": [
      {
       "metadata": {},
       "output_type": "pyout",
       "prompt_number": 140,
       "text": [
        "[{'2013-04-27 17:34:34\\n': 'spotwalker-ld48-first-3-hours\\n'},\n",
        " {'2013-11-11 13:53:12\\n': 'shark-nightmare-screenshots\\n'},\n",
        " {'2013-11-14 19:52:33\\n': '523\\n'},\n",
        " {'2013-12-11 11:45:42\\n': 'black-bars-and-text-suburb-nightmare\\n'},\n",
        " {'2013-04-04 12:42:21\\n': 'twitter-notes-on-game-development\\n'},\n",
        " {'2013-06-09 20:14:49\\n': 'lightout-character-3d-assets\\n'},\n",
        " {'2013-11-10 13:52:42\\n': 'pari-noon-nightmare\\n'},\n",
        " {'2013-04-16 17:23:59\\n': '170\\n'},\n",
        " {'2013-04-07 01:23:19\\n': 'marchadventure\\n'},\n",
        " {'2013-06-02 06:12:48\\n': 'fishing-dream-modding\\n'},\n",
        " {'2013-04-26 12:27:10\\n': 'aux-jan-0-6\\n'},\n",
        " {'2013-07-17 07:07:19\\n': '7drts-challenge-ideas\\n'},\n",
        " {'2013-04-13 13:32:53\\n': '137\\n'},\n",
        " {'2013-06-18 13:21:33\\n': 'cathern-interface\\n'},\n",
        " {'2013-04-28 02:39:48\\n': 'spotwalker-0-1-build\\n'},\n",
        " {'2013-04-12 21:23:43\\n': 'development-slow\\n'},\n",
        " {'2013-04-02 21:33:18\\n': 'digital-paintings-created-with-sketchbook-and-gimp\\n'},\n",
        " {'2013-11-17 23:06:53\\n': 'maya-python-classes-development\\n'},\n",
        " {'2013-11-03 15:18:04\\n': '491\\n'},\n",
        " {'2013-04-03 07:52:35\\n': 'aux-jan-game\\n'},\n",
        " {'2013-07-12 23:21:40\\n': '404\\n'},\n",
        " {'2013-07-05 04:59:10\\n': 'gameboy-jam-warmup-cafrin\\n'},\n",
        " {'2013-08-12 04:28:38\\n': '452\\n'},\n",
        " {'2013-11-04 00:22:06\\n': 'shark-nightmare\\n'},\n",
        " {'2013-04-09 19:02:21\\n': 'start-gpcv17-ideas\\n'},\n",
        " {'2013-07-14 11:35:39\\n': 'suburbnightmare-screenshots\\n'},\n",
        " {'2013-11-10 09:25:25\\n': 'november-2013-game-dev-meet-up\\n'},\n",
        " {'2013-07-12 09:23:42\\n': 'imagamer-ca\\n'},\n",
        " {'2013-04-02 20:23:41\\n': '25\\n'},\n",
        " {'2013-05-11 20:03:37\\n': 'birdfice-apk\\n'},\n",
        " {'2013-08-20 23:31:23\\n': 'post-mortem-hell-earth\\n'},\n",
        " {'2013-07-12 13:03:18\\n': 'iamagamer-envior-concept-art-plus-model\\n'},\n",
        " {'2013-04-11 11:47:49\\n': 'brobeur-studios-prodo-island-game-development-notes\\n'},\n",
        " {'2013-04-04 12:42:21\\n': 'twitter-notes-on-game-development-2\\n'},\n",
        " {'2013-04-10 17:51:48\\n': '98\\n'},\n",
        " {'2013-08-12 16:11:58\\n': 'hell-earth\\n'},\n",
        " {'2013-04-13 10:43:10\\n': 'prodo-island-project-new\\n'},\n",
        " {'2013-11-16 14:08:08\\n': 'maya-python-and-party-moon-nightmare-screenshots\\n'},\n",
        " {'2013-06-10 15:14:32\\n': '297\\n'},\n",
        " {'2013-04-15 10:48:08\\n': '169\\n'},\n",
        " {'2013-11-16 17:42:27\\n': 'maya-api\\n'},\n",
        " {'2013-06-19 19:11:31\\n': 'cathern-interface-2\\n'},\n",
        " {'2013-04-09 11:35:20\\n': '90\\n'},\n",
        " {'2013-04-15 02:17:47\\n': '155\\n'},\n",
        " {'2013-05-31 06:43:55\\n': 'black-cat-fishing-jam\\n'},\n",
        " {'2013-04-07 15:25:17\\n': 'playformfeb-v1-web\\n'},\n",
        " {'2013-11-11 20:01:01\\n': 'party-noon-nightmare-prototype-build\\n'},\n",
        " {'2013-05-19 14:31:51\\n': 'dune-0-1\\n'},\n",
        " {'2013-12-17 16:02:50\\n': '692\\n'},\n",
        " {'2013-07-07 03:22:12\\n': 'triger\\n'},\n",
        " {'2013-05-06 21:08:12\\n': 'birdcage-platform-game-0-1-0-2\\n'},\n",
        " {'2013-06-24 07:48:18\\n': 'auxjonem\\n'},\n",
        " {'2013-04-02 18:41:03\\n': '17\\n'},\n",
        " {'2013-04-04 16:22:45\\n': 'duck\\n'},\n",
        " {'2013-04-15 10:34:06\\n': '166\\n'},\n",
        " {'2013-07-30 01:49:59\\n': '429\\n'},\n",
        " {'2013-04-14 00:52:51\\n': 'site-logo-paintings-prodo-git\\n'},\n",
        " {'2013-06-23 19:44:59\\n': 'auxjan-to-auxjune\\n'},\n",
        " {'2013-04-16 18:47:04\\n': 'prodo-gpc1\\n'},\n",
        " {'2013-04-04 18:28:40\\n': 'redditgetsdrawn-tiggyvashti7\\n'},\n",
        " {'2013-04-03 13:22:37\\n': 'marchgame-v0-1\\n'},\n",
        " {'2013-03-31 21:46:42\\n': '9\\n'},\n",
        " {'2013-11-11 12:40:56\\n': '514\\n'},\n",
        " {'2013-04-02 17:52:40\\n': '11\\n'},\n",
        " {'2013-12-10 12:22:59\\n': 'skins-wire-python-image-library\\n'},\n",
        " {'2013-04-14 13:06:52\\n': '154\\n'},\n",
        " {'2013-04-08 04:47:20\\n': '89\\n'},\n",
        " {'2013-04-13 11:55:02\\n': '136\\n'},\n",
        " {'2013-07-07 12:32:10\\n': 'triger-molyjam-2013\\n'},\n",
        " {'2013-04-02 21:03:56\\n': '29\\n'},\n",
        " {'2013-08-09 12:33:00\\n': 'murder-simulation-2013\\n'},\n",
        " {'2013-08-03 21:49:47\\n': 'bc-conceptdraw\\n'},\n",
        " {'2013-08-12 23:46:19\\n': 'hell-earth-2\\n'},\n",
        " {'2013-04-04 10:08:10\\n': 'python-reddit-json\\n'},\n",
        " {'2013-04-12 21:44:50\\n': 'sim-prototype-idea-1\\n'},\n",
        " {'2013-06-10 21:46:50\\n': 'surreal-warp-nightmare\\n'}]"
       ]
      }
     ],
     "prompt_number": 140
    },
    {
     "cell_type": "code",
     "collapsed": false,
     "input": [
      "randiz = alldic[ranit]"
     ],
     "language": "python",
     "metadata": {},
     "outputs": [],
     "prompt_number": 141
    },
    {
     "cell_type": "code",
     "collapsed": false,
     "input": [
      "randiz"
     ],
     "language": "python",
     "metadata": {},
     "outputs": [
      {
       "metadata": {},
       "output_type": "pyout",
       "prompt_number": 142,
       "text": [
        "{'2013-04-07 01:23:19\\n': 'marchadventure\\n'}"
       ]
      }
     ],
     "prompt_number": 142
    },
    {
     "cell_type": "code",
     "collapsed": false,
     "input": [
      "razdiz = randiz.keys()"
     ],
     "language": "python",
     "metadata": {},
     "outputs": [],
     "prompt_number": 143
    },
    {
     "cell_type": "code",
     "collapsed": false,
     "input": [
      "randaz = randiz.values()"
     ],
     "language": "python",
     "metadata": {},
     "outputs": [],
     "prompt_number": 144
    },
    {
     "cell_type": "code",
     "collapsed": false,
     "input": [
      "for itez in randaz:\n",
      "    print itez + '.wp'\n",
      "    str2 = itez.replace(\"\\n\", \"\")\n",
      "    tafilz = str2 + '.wp'"
     ],
     "language": "python",
     "metadata": {},
     "outputs": [
      {
       "output_type": "stream",
       "stream": "stdout",
       "text": [
        "marchadventure\n",
        ".wp\n"
       ]
      }
     ],
     "prompt_number": 145
    },
    {
     "cell_type": "code",
     "collapsed": false,
     "input": [
      "tafilz"
     ],
     "language": "python",
     "metadata": {},
     "outputs": [
      {
       "metadata": {},
       "output_type": "pyout",
       "prompt_number": 146,
       "text": [
        "'marchadventure.wp'"
       ]
      }
     ],
     "prompt_number": 146
    },
    {
     "cell_type": "code",
     "collapsed": false,
     "input": [
      "bldat = open((tafilz), 'r')\n"
     ],
     "language": "python",
     "metadata": {},
     "outputs": [],
     "prompt_number": 147
    },
    {
     "cell_type": "code",
     "collapsed": false,
     "input": [
      "blogread = bldat.read()"
     ],
     "language": "python",
     "metadata": {},
     "outputs": [],
     "prompt_number": 148
    },
    {
     "cell_type": "code",
     "collapsed": false,
     "input": [
      "blogwra = blogread.upper()"
     ],
     "language": "python",
     "metadata": {},
     "outputs": [],
     "prompt_number": 149
    },
    {
     "cell_type": "code",
     "collapsed": false,
     "input": [
      "blogstr = str(blogwra)"
     ],
     "language": "python",
     "metadata": {},
     "outputs": [],
     "prompt_number": 150
    },
    {
     "cell_type": "code",
     "collapsed": false,
     "input": [
      "blogstr"
     ],
     "language": "python",
     "metadata": {},
     "outputs": [
      {
       "metadata": {},
       "output_type": "pyout",
       "prompt_number": 151,
       "text": [
        "'<HTML><BODY><P>I WAS JUST WONDERING HOW YOU GO TO BED AND I HAVE TO BE ABLE THE SAME TIME AND I AM A LITTLE BIT ABOUT THE LATE DELAY AND IN MY LIFE VIEW IS THE A THE BEST TO FIRST THING TIME IN MY THE MY LIFE SAME IS A LITTLE GOOD WHILE MORE THAN ABOUT A ONE DAY WAY A A FEW YEARS AGO I HAD HAVE A GOOD ONE F A IDEA DAY TO AND DAY GET FRO OF A BACK INJURY UP TO YOU BY THE CALL OF A THE A GOOD DAY FOR A ME A TO BE THE SAME TIME AND I EFFORT WILL NOT ONLY THAT IT BUT WOULD I NOT BE THE FIRST PLACE TO STAY AT THE TIME TO DO IT ALL OUT AND ABOUT A MONTH YEAR WEEK OF SCHOOL WORK FOR THEIR FIRST HOME BUYERS ARE GRANT ME TO DO WITH A THE BIT OF TIME TO DO WITH A FEW YEARS WEEKS AND AGO I HAVE HAD HAVE LAST THE OF A MY NEW PHONE KE</P></BODY></HTML>'"
       ]
      }
     ],
     "prompt_number": 151
    },
    {
     "cell_type": "code",
     "collapsed": false,
     "input": [
      "blogread"
     ],
     "language": "python",
     "metadata": {},
     "outputs": [
      {
       "metadata": {},
       "output_type": "pyout",
       "prompt_number": 152,
       "text": [
        "'<html><body><p>I was just wondering how you go to bed and I have to be able the same time and I am a little bit about the late delay and in my life view is the a the best to first thing time in my the my life same is a little good while more than about a one day way a a few years ago I had have a good one f a idea day to and day get fro of a back injury up to you by the call of a the a good day for a me a to be the same time and I effort will not only that it but would I not be the first place to stay at the time to do it all out and about a month year week of school work for their first home buyers are grant me to do with a the bit of time to do with a few years weeks and ago I have had have last the of a my new phone ke</p></body></html>'"
       ]
      }
     ],
     "prompt_number": 152
    },
    {
     "cell_type": "code",
     "collapsed": false,
     "input": [
      "from bs4 import BeautifulSoup\n",
      "soup = BeautifulSoup(blogread)\n",
      "\n",
      "print(soup.prettify())"
     ],
     "language": "python",
     "metadata": {},
     "outputs": [
      {
       "output_type": "stream",
       "stream": "stdout",
       "text": [
        "<html>\n",
        " <body>\n",
        "  <p>\n",
        "   I was just wondering how you go to bed and I have to be able the same time and I am a little bit about the late delay and in my life view is the a the best to first thing time in my the my life same is a little good while more than about a one day way a a few years ago I had have a good one f a idea day to and day get fro of a back injury up to you by the call of a the a good day for a me a to be the same time and I effort will not only that it but would I not be the first place to stay at the time to do it all out and about a month year week of school work for their first home buyers are grant me to do with a the bit of time to do with a few years weeks and ago I have had have last the of a my new phone ke\n",
        "  </p>\n",
        " </body>\n",
        "</html>\n"
       ]
      }
     ],
     "prompt_number": 153
    },
    {
     "cell_type": "code",
     "collapsed": false,
     "input": [
      "soup.findAll('html')"
     ],
     "language": "python",
     "metadata": {},
     "outputs": [
      {
       "metadata": {},
       "output_type": "pyout",
       "prompt_number": 154,
       "text": [
        "[<html><body><p>I was just wondering how you go to bed and I have to be able the same time and I am a little bit about the late delay and in my life view is the a the best to first thing time in my the my life same is a little good while more than about a one day way a a few years ago I had have a good one f a idea day to and day get fro of a back injury up to you by the call of a the a good day for a me a to be the same time and I effort will not only that it but would I not be the first place to stay at the time to do it all out and about a month year week of school work for their first home buyers are grant me to do with a the bit of time to do with a few years weeks and ago I have had have last the of a my new phone ke</p></body></html>]"
       ]
      }
     ],
     "prompt_number": 154
    },
    {
     "cell_type": "code",
     "collapsed": false,
     "input": [
      "import dominate\n",
      "from dominate.tags import *\n",
      "\n",
      "doc = dominate.document(title='BroBeur Blog Post')\n",
      "\n",
      "with doc.head:\n",
      "    link(rel='stylesheet', href='style.css')\n",
      "    script(type='text/javascript', src='script.js')\n",
      "\n",
      "with doc:\n",
      "    with div(id='header').add(ol()):\n",
      "        for i in alldic[1]:\n",
      "            li(a(i.title(), href='/%s.html' % i))\n",
      "\n",
      "    with div():\n",
      "        attr(cls='body')\n",
      "        p(razdiz)\n",
      "        h1(randaz)\n",
      "        p(blogread)\n",
      "\n",
      "print doc"
     ],
     "language": "python",
     "metadata": {},
     "outputs": [
      {
       "output_type": "stream",
       "stream": "stdout",
       "text": [
        "<!DOCTYPE html>\n",
        "<html>\n",
        "  <head>\n",
        "    <title>BroBeur Blog Post</title>\n",
        "    <link href=\"style.css\" rel=\"stylesheet\">\n",
        "    <script src=\"script.js\" type=\"text/javascript\"></script>\n",
        "  </head>\n",
        "  <body>\n",
        "    <div id=\"header\">\n",
        "      <ol>\n",
        "        <li>\n",
        "          <a href=\"/2013-11-11 13:53:12\n",
        ".html\">2013-11-11 13:53:12\n",
        "</a>\n",
        "        </li>\n",
        "      </ol>\n",
        "    </div>\n",
        "    <div class=\"body\">\n",
        "      <p>2013-04-07 01:23:19\n",
        "</p>\n",
        "      <h1>marchadventure\n",
        "</h1>\n",
        "      <p>&lt;html&gt;&lt;body&gt;&lt;p&gt;I was just wondering how you go to bed and I have to be able the same time and I am a little bit about the late delay and in my life view is the a the best to first thing time in my the my life same is a little good while more than about a one day way a a few years ago I had have a good one f a idea day to and day get fro of a back injury up to you by the call of a the a good day for a me a to be the same time and I effort will not only that it but would I not be the first place to stay at the time to do it all out and about a month year week of school work for their first home buyers are grant me to do with a the bit of time to do with a few years weeks and ago I have had have last the of a my new phone ke&lt;/p&gt;&lt;/body&gt;&lt;/html&gt;</p>\n",
        "    </div>\n",
        "  </body>\n",
        "</html>\n"
       ]
      }
     ],
     "prompt_number": 155
    },
    {
     "cell_type": "code",
     "collapsed": false,
     "input": [
      "brobeurpost = ('/user_home/w_willartcontrolme/brobeurpost')"
     ],
     "language": "python",
     "metadata": {},
     "outputs": [],
     "prompt_number": 159
    },
    {
     "cell_type": "code",
     "collapsed": false,
     "input": [
      "os.chdir(brobeurpost)"
     ],
     "language": "python",
     "metadata": {},
     "outputs": [],
     "prompt_number": 161
    },
    {
     "cell_type": "code",
     "collapsed": false,
     "input": [
      "wriind = open('index.html', 'w')"
     ],
     "language": "python",
     "metadata": {},
     "outputs": [],
     "prompt_number": 162
    },
    {
     "cell_type": "code",
     "collapsed": false,
     "input": [
      "wriind.write(str(doc))"
     ],
     "language": "python",
     "metadata": {},
     "outputs": [],
     "prompt_number": 163
    },
    {
     "cell_type": "code",
     "collapsed": false,
     "input": [
      "wriind.close()"
     ],
     "language": "python",
     "metadata": {},
     "outputs": [],
     "prompt_number": 164
    },
    {
     "cell_type": "code",
     "collapsed": false,
     "input": [],
     "language": "python",
     "metadata": {},
     "outputs": []
    }
   ],
   "metadata": {}
  }
 ]
}