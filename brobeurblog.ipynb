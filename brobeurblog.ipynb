{
 "metadata": {
  "name": "",
  "signature": "sha256:64a1b00e69c1ac36419f9e12f58bf96985910d8b5b87e9d3f75a3e76d4e99197"
 },
 "nbformat": 3,
 "nbformat_minor": 0,
 "worksheets": [
  {
   "cells": [
    {
     "cell_type": "markdown",
     "metadata": {},
     "source": [
      "BroBeur Studios Blog\n",
      "\n",
      "This is similar to the artcontrolme script but it deals with BroBeur Studios posts\n"
     ]
    },
    {
     "cell_type": "code",
     "collapsed": false,
     "input": [
      "import random"
     ],
     "language": "python",
     "metadata": {},
     "outputs": [],
     "prompt_number": 1
    },
    {
     "cell_type": "code",
     "collapsed": false,
     "input": [
      "import os"
     ],
     "language": "python",
     "metadata": {},
     "outputs": [],
     "prompt_number": 2
    },
    {
     "cell_type": "code",
     "collapsed": false,
     "input": [
      "bropo = ('/home/wcmckee/brobeur-web/posts')"
     ],
     "language": "python",
     "metadata": {},
     "outputs": [],
     "prompt_number": 3
    },
    {
     "cell_type": "code",
     "collapsed": false,
     "input": [
      "os.chdir(bropo)"
     ],
     "language": "python",
     "metadata": {},
     "outputs": [],
     "prompt_number": 4
    },
    {
     "cell_type": "code",
     "collapsed": false,
     "input": [
      "wplis = []"
     ],
     "language": "python",
     "metadata": {},
     "outputs": [],
     "prompt_number": 5
    },
    {
     "cell_type": "code",
     "collapsed": false,
     "input": [
      "for fil in os.listdir(bropo):\n",
      "    print fil\n",
      "    wplis.append(fil)"
     ],
     "language": "python",
     "metadata": {},
     "outputs": [
      {
       "output_type": "stream",
       "stream": "stdout",
       "text": [
        "bc-conceptdraw.meta\n",
        "89.wp\n",
        "birdcage-platform-game-0-1-0-2.wp\n",
        "digital-paintings-created-with-sketchbook-and-gimp.meta\n",
        "pari-noon-nightmare.meta\n",
        "triger-molyjam-2013.meta\n",
        "169.meta\n",
        "prodo-gpc1.wp\n",
        "hell-earth.meta\n",
        "start-gpcv17-ideas.meta\n",
        "suburbnightmare-screenshots.wp\n",
        "surreal-warp-nightmare.meta\n",
        "digital-paintings-created-with-sketchbook-and-gimp.wp\n",
        "prodo-gpc1.meta\n",
        "155.meta\n",
        "shark-nightmare.meta\n",
        "155.wp\n",
        "site-logo-paintings-prodo-git.wp\n",
        "136.wp\n",
        "post-mortem-hell-earth.meta\n",
        "aux-jan-0-6.meta\n",
        "surreal-warp-nightmare.wp\n",
        "aux-jan-game.meta\n",
        "maya-api.meta\n",
        "python-reddit-json.meta\n",
        "17.meta\n",
        "marchadventure.wp\n",
        "party-noon-nightmare-prototype-build.wp\n",
        "90.wp\n",
        "black-bars-and-text-suburb-nightmare.wp\n",
        "136.meta\n",
        "start-gpcv17-ideas.wp\n",
        "november-2013-game-dev-meet-up.meta\n",
        "playformfeb-v1-web.meta\n",
        "auxjan-to-auxjune.meta\n",
        "python-reddit-json.wp\n",
        "murder-simulation-2013.meta\n",
        "7drts-challenge-ideas.wp\n",
        "29.wp\n",
        "7drts-challenge-ideas.meta\n",
        "sim-prototype-idea-1.wp\n",
        "692.meta\n",
        "redditgetsdrawn-tiggyvashti7.wp\n",
        "duck.meta\n",
        "514.wp\n",
        "twitter-notes-on-game-development.wp\n",
        "site-logo-paintings-prodo-git.meta\n",
        "523.wp\n",
        "birdfice-apk.wp\n",
        "25.meta\n",
        "pari-noon-nightmare.wp\n",
        "98.wp\n",
        "triger.meta\n",
        "spotwalker-ld48-first-3-hours.meta\n",
        "692.wp\n",
        "maya-api.wp\n",
        "gameboy-jam-warmup-cafrin.wp\n",
        "fishing-dream-modding.meta\n",
        "fishing-dream-modding.wp\n",
        "491.meta\n",
        "auxjonem.wp\n",
        "twitter-notes-on-game-development-2.wp\n",
        "169.wp\n",
        "404.wp"
       ]
      },
      {
       "output_type": "stream",
       "stream": "stdout",
       "text": [
        "\n",
        "birdcage-platform-game-0-1-0-2.meta\n",
        "november-2013-game-dev-meet-up.wp\n",
        "marchadventure.meta\n",
        "development-slow.meta\n",
        "twitter-notes-on-game-development-2.meta\n",
        "11.wp\n",
        "166.wp\n",
        "166.meta\n",
        "shark-nightmare.wp\n",
        "hell-earth.wp\n",
        "imagamer-ca.wp\n",
        "429.meta\n",
        "birdfice-apk.meta\n",
        "cathern-interface-2.meta\n",
        "137.wp\n",
        "prodo-island-project-new.meta\n",
        "cathern-interface.wp\n",
        "shark-nightmare-screenshots.meta\n",
        "maya-python-classes-development.meta\n",
        "297.meta\n",
        "hell-earth-2.meta\n",
        "prodo-island-project-new.wp\n",
        "429.wp\n",
        "skins-wire-python-image-library.wp\n",
        "auxjonem.meta\n",
        "hell-earth-2.wp\n",
        "black-bars-and-text-suburb-nightmare.meta\n",
        "triger.wp\n",
        "170.wp\n",
        "brobeur-studios-prodo-island-game-development-notes.wp\n",
        "523.meta\n",
        "spotwalker-0-1-build.meta\n",
        "dune-0-1.meta\n",
        "dune-0-1.wp\n",
        "aux-jan-0-6.wp\n",
        "gameboy-jam-warmup-cafrin.meta\n",
        "spotwalker-ld48-first-3-hours.wp\n",
        "491.wp\n",
        "auxjan-to-auxjune.wp\n",
        "sim-prototype-idea-1.meta\n",
        "suburbnightmare-screenshots.meta\n",
        "post-mortem-hell-earth.wp\n",
        "imagamer-ca.meta\n",
        "cathern-interface-2.wp\n",
        "170.meta\n",
        "lightout-character-3d-assets.wp\n",
        "party-noon-nightmare-prototype-build.meta\n",
        "black-cat-fishing-jam.meta\n",
        "452.wp\n",
        "154.meta\n",
        "297.wp\n",
        "154.wp\n",
        "lightout-character-3d-assets.meta\n",
        "11.meta\n",
        "9.meta\n",
        "marchgame-v0-1.meta\n",
        "shark-nightmare-screenshots.wp\n",
        "29.meta\n",
        "black-cat-fishing-jam.wp\n",
        "iamagamer-envior-concept-art-plus-model.meta\n",
        "maya-python-and-party-moon-nightmare-screenshots.wp\n",
        "452.meta\n",
        "514.meta\n",
        "9.wp\n",
        "bc-conceptdraw.wp\n",
        "25.wp\n",
        "murder-simulation-2013.wp\n",
        "404.meta\n",
        "maya-python-classes-development.wp\n",
        "90.meta\n",
        "playformfeb-v1-web.wp\n",
        "brobeur-studios-prodo-island-game-development-notes.meta\n",
        "137.meta\n",
        "twitter-notes-on-game-development.meta\n",
        "development-slow.wp\n",
        "marchgame-v0-1.wp\n",
        "17.wp\n",
        "cathern-interface.meta\n",
        "aux-jan-game.wp\n",
        "89.meta\n",
        "duck.wp\n",
        "redditgetsdrawn-tiggyvashti7.meta\n",
        "98.meta\n",
        "iamagamer-envior-concept-art-plus-model.wp\n",
        "triger-molyjam-2013.wp\n",
        "spotwalker-0-1-build.wp\n",
        "maya-python-and-party-moon-nightmare-screenshots.meta\n",
        "skins-wire-python-image-library.meta\n"
       ]
      }
     ],
     "prompt_number": 6
    },
    {
     "cell_type": "code",
     "collapsed": false,
     "input": [
      "metlis = []"
     ],
     "language": "python",
     "metadata": {},
     "outputs": [],
     "prompt_number": 34
    },
    {
     "cell_type": "code",
     "collapsed": true,
     "input": [
      "for wp in wplis:\n",
      "    if '.meta' in wp:\n",
      "        metlis.append(wp)"
     ],
     "language": "python",
     "metadata": {},
     "outputs": [],
     "prompt_number": 35
    },
    {
     "cell_type": "code",
     "collapsed": false,
     "input": [
      "alldic = []"
     ],
     "language": "python",
     "metadata": {},
     "outputs": [],
     "prompt_number": 36
    },
    {
     "cell_type": "code",
     "collapsed": false,
     "input": [
      "for mea in metlis:\n",
      "    file = open(mea, 'r')\n",
      "    metaf = file.readlines()\n",
      "    chzdir = ({'name': metaf[0]})#, file.readline()}\n",
      "    chzdir.update({'title': metaf[1]})\n",
      "    chzdir.update({'date': metaf[2]})\n",
      "    chzdir.update({'tags': metaf[3]})\n",
      "    print chzdir\n",
      "    alldic.append(chzdir)"
     ],
     "language": "python",
     "metadata": {},
     "outputs": [
      {
       "output_type": "stream",
       "stream": "stdout",
       "text": [
        "{'date': '2013-08-03 21:49:47\\n', 'tags': '7dFPS,7hFPS,bullet control,concept,pencil\\n', 'name': 'Bullet Control - concept pencil drawings\\n', 'title': 'bc-conceptdraw\\n'}\n",
        "{'date': '2013-04-02 21:33:18\\n', 'tags': '\\n', 'name': 'Digital Paintings created with SketchBook and GIMP\\n', 'title': 'digital-paintings-created-with-sketchbook-and-gimp\\n'}\n",
        "{'date': '2013-11-10 13:52:42\\n', 'tags': '3d,indiejolt,maya,model\\n', 'name': 'Pari Noon Nightmare\\n', 'title': 'pari-noon-nightmare\\n'}\n",
        "{'date': '2013-07-07 12:32:10\\n', 'tags': 'adventure,gamejam,gamejam,molyjam,unity\\n', 'name': 'Triger MolyJam 2013 \\n', 'title': 'triger-molyjam-2013\\n'}\n",
        "{'date': '2013-04-15 10:48:08\\n', 'tags': 'draft,write\\n', 'name': 'HTML5 Game\\n', 'title': '169\\n'}\n",
        "{'date': '2013-08-12 16:11:58\\n', 'tags': '7dFPS,adventure,fps,unity\\n', 'name': 'Hell Earth\\n', 'title': 'hell-earth\\n'}\n",
        "{'date': '2013-04-09 19:02:21\\n', 'tags': '#GPCv17,draw,idea,prodotype,sketch\\n', 'name': 'Start #GPCv17 ideas\\n', 'title': 'start-gpcv17-ideas\\n'}\n",
        "{'date': '2013-06-10 21:46:50\\n', 'tags': '2d,bacongamejam,runner,sidescroller\\n', 'name': 'Surreal Warp Nightmare\\n', 'title': 'surreal-warp-nightmare\\n'}\n",
        "{'date': '2013-04-16 18:47:04\\n', 'tags': 'write,Write\\n', 'name': 'Prodo Island GPC17\\n', 'title': 'prodo-gpc1\\n'}\n",
        "{'date': '2013-04-15 02:17:47\\n', 'tags': 'draft,write\\n', 'name': 'HTML5\\n', 'title': '155\\n'}\n",
        "{'date': '2013-11-04 00:22:06\\n', 'tags': 'cinematic adventure,unity,write\\n', 'name': 'Shark Nightmare\\n', 'title': 'shark-nightmare\\n'}\n",
        "{'date': '2013-08-20 23:31:23\\n', 'tags': '7dFPS,write\\n', 'name': 'Post mortem: Hell Earth\\n', 'title': 'post-mortem-hell-earth\\n'}\n",
        "{'date': '2013-04-26 12:27:10\\n', 'tags': 'aux-jan,blender,model,unity\\n', 'name': 'Aux-Jan 0.6\\n', 'title': 'aux-jan-0-6\\n'}\n",
        "{'date': '2013-04-03 07:52:35\\n', 'tags': '3d,aux-jan,logo,pc,screenshot\\n', 'name': 'Aux-Jan Game\\n', 'title': 'aux-jan-game\\n'}\n",
        "{'date': '2013-11-16 17:42:27\\n', 'tags': 'api,maya,maya,python\\n', 'name': 'maya api \\n', 'title': 'maya-api\\n'}\n",
        "{'date': '2013-04-04 10:08:10\\n', 'tags': 'Game,portrait,redditgetsdrawn\\n', 'name': 'RedditGetsDrawn - Sagahurtig\\n', 'title': 'python-reddit-json\\n'}\n",
        "{'date': '2013-04-02 18:41:03\\n', 'tags': 'draft\\n', 'name': 'Basic HTML5 Game\\n', 'title': '17\\n'}\n",
        "{'date': '2013-04-13 11:55:02\\n', 'tags': 'draft,write\\n', 'name': 'None\\n', 'title': '136\\n'}\n",
        "{'date': '2013-11-10 09:25:25\\n', 'tags': 'auckland,meetup\\n', 'name': 'November 2013 game dev meet up\\n', 'title': 'november-2013-game-dev-meet-up\\n'}\n",
        "{'date': '2013-04-07 15:25:17\\n', 'tags': 'Game,platformer,unity,web\\n', 'name': 'PlayformFeb v1 Web\\n', 'title': 'playformfeb-v1-web\\n'}\n",
        "{'date': '2013-06-23 19:44:59\\n', 'tags': 'Android,aux-jan,platform\\n', 'name': 'AUXjan to AUXjune\\n', 'title': 'auxjan-to-auxjune\\n'}\n",
        "{'date': '2013-08-09 12:33:00\\n', 'tags': 'gamejam,unity\\n', 'name': 'Murder Simulation 2013\\n', 'title': 'murder-simulation-2013\\n'}\n",
        "{'date': '2013-07-17 07:07:19\\n', 'tags': '7dRTS,concept art,ideas\\n', 'name': '7dRTS challenge ideas\\n', 'title': '7drts-challenge-ideas\\n'}\n",
        "{'date': '2013-12-17 16:02:50\\n', 'tags': 'draft,write\\n', 'name': 'None\\n', 'title': '692\\n'}"
       ]
      },
      {
       "output_type": "stream",
       "stream": "stdout",
       "text": [
        "\n",
        "{'date': '2013-04-04 16:22:45\\n', 'tags': 'Python\\n', 'name': 'Duck\\n', 'title': 'duck\\n'}\n",
        "{'date': '2013-04-14 00:52:51\\n', 'tags': '#GPCv17,graphics\\n', 'name': 'Site logo paintings + Prodo GIT\\n', 'title': 'site-logo-paintings-prodo-git\\n'}\n",
        "{'date': '2013-04-02 20:23:41\\n', 'tags': 'draft\\n', 'name': 'None\\n', 'title': '25\\n'}\n",
        "{'date': '2013-07-07 03:22:12\\n', 'tags': 'unity,write\\n', 'name': 'Triger\\n', 'title': 'triger\\n'}\n",
        "{'date': '2013-04-27 17:34:34\\n', 'tags': '3d,ld48,screenshots,SpotWalker\\n', 'name': 'SpotWalker LD48: First 3 hours\\n', 'title': 'spotwalker-ld48-first-3-hours\\n'}\n",
        "{'date': '2013-06-02 06:12:48\\n', 'tags': 'fish,fish,mod,unity\\n', 'name': 'Fishing Dream Modding\\n', 'title': 'fishing-dream-modding\\n'}\n",
        "{'date': '2013-11-03 15:18:04\\n', 'tags': 'draft,write\\n', 'name': 'shark Nightmare\\n', 'title': '491\\n'}\n",
        "{'date': '2013-05-06 21:08:12\\n', 'tags': 'BirdCage,Game,platform,unity\\n', 'name': 'BirdCage Platform Game 0.1 0.2\\n', 'title': 'birdcage-platform-game-0-1-0-2\\n'}\n",
        "{'date': '2013-04-07 01:23:19\\n', 'tags': 'write,Write\\n', 'name': 'MarchAdventure\\n', 'title': 'marchadventure\\n'}\n",
        "{'date': '2013-04-12 21:23:43\\n', 'tags': 'Thought,write\\n', 'name': 'Development slow\\n', 'title': 'development-slow\\n'}\n",
        "{'date': '2013-04-04 12:42:21\\n', 'tags': 'quote,write,Write\\n', 'name': 'Twitter notes on game development\\n', 'title': 'twitter-notes-on-game-development-2\\n'}\n",
        "{'date': '2013-04-15 10:34:06\\n', 'tags': 'draft,write\\n', 'name': 'brobeur\\n', 'title': '166\\n'}\n",
        "{'date': '2013-07-30 01:49:59\\n', 'tags': 'draft,write\\n', 'name': 'logo\\n', 'title': '429\\n'}\n",
        "{'date': '2013-05-11 20:03:37\\n', 'tags': 'Android,BirdCage,unity\\n', 'name': 'birdfice.apk\\n', 'title': 'birdfice-apk\\n'}\n",
        "{'date': '2013-06-19 19:11:31\\n', 'tags': 'Android,cathern,Game,ui\\n', 'name': 'Cathern interface 2\\n', 'title': 'cathern-interface-2\\n'}\n",
        "{'date': '2013-04-13 10:43:10\\n', 'tags': '#GPCv17,development,Prodo,Prototype\\n', 'name': 'Prodo Island Project new\\n', 'title': 'prodo-island-project-new\\n'}\n",
        "{'date': '2013-11-11 13:53:12\\n', 'tags': 'gamejam,ludum dare,screenshot,shark nightmare,sharkjam\\n', 'name': 'Shark Nightmare - screenshots\\n', 'title': 'shark-nightmare-screenshots\\n'}\n",
        "{'date': '2013-11-17 23:06:53\\n', 'tags': 'api,maya,python\\n', 'name': 'Maya Python - Classes development\\n', 'title': 'maya-python-classes-development\\n'}\n",
        "{'date': '2013-06-10 15:14:32\\n', 'tags': 'draft,write\\n', 'name': 'None\\n', 'title': '297\\n'}\n",
        "{'date': '2013-08-12 23:46:19\\n', 'tags': '7dFPS,adventure,unity\\n', 'name': 'Hell Earth - 0.5 Halfway gatekeeper\\n', 'title': 'hell-earth-2\\n'}\n",
        "{'date': '2013-06-24 07:48:18\\n', 'tags': 'Android,aux-jan,Catherine,orthographic,platform\\n', 'name': 'AUXjonem\\n', 'title': 'auxjonem\\n'}\n",
        "{'date': '2013-12-11 11:45:42\\n', 'tags': 'code,film,python,suburbnightmare\\n', 'name': 'Black Bars and Text: Suburb Nightmare\\n', 'title': 'black-bars-and-text-suburb-nightmare\\n'}\n",
        "{'date': '2013-11-14 19:52:33\\n', 'tags': 'draft,write\\n', 'name': 'Tlc\\n', 'title': '523\\n'}\n",
        "{'date': '2013-04-28 02:39:48\\n', 'tags': 'download,exe,first person,ld48,minimal,SpotWalker\\n', 'name': 'SpotWalker 0.1 Build\\n', 'title': 'spotwalker-0-1-build\\n'}\n",
        "{'date': '2013-05-19 14:31:51\\n', 'tags': 'Dune,game,github,unity,web,windows\\n', 'name': 'Dune-0-1\\n', 'title': 'dune-0-1\\n'}\n",
        "{'date': '2013-07-05 04:59:10\\n', 'tags': '2d,Catherine,gameboy,platformer,python\\n', 'name': 'Gameboy Jam - Warmup Cafrin\\n', 'title': 'gameboy-jam-warmup-cafrin\\n'}\n",
        "{'date': '2013-04-12 21:44:50\\n', 'tags': 'ideas,mechanics,resources\\n', 'name': 'Sim prototype idea #1\\n', 'title': 'sim-prototype-idea-1\\n'}\n",
        "{'date': '2013-07-14 11:35:39\\n', 'tags': 'adventure,gamejam,mobile,post jam,screenshots,suburb nightmare\\n', 'name': 'SuburbNightmare screenshots\\n', 'title': 'suburbnightmare-screenshots\\n'}"
       ]
      },
      {
       "output_type": "stream",
       "stream": "stdout",
       "text": [
        "\n",
        "{'date': '2013-07-12 09:23:42\\n', 'tags': 'action,collaboration,concept art,gamejam,melanie,unity\\n', 'name': 'imagamer concept art - camera setup\\n', 'title': 'imagamer-ca\\n'}\n",
        "{'date': '2013-04-16 17:23:59\\n', 'tags': 'draft,write\\n', 'name': 'Game.html\\n', 'title': '170\\n'}\n",
        "{'date': '2013-11-11 20:01:01\\n', 'tags': 'gamejam,gamejolt,screnshot,unity\\n', 'name': 'Party Noon Nightmare - Prototype build\\n', 'title': 'party-noon-nightmare-prototype-build\\n'}\n",
        "{'date': '2013-05-31 06:43:55\\n', 'tags': '2d scroll,3d,first person,fish,platformer\\n', 'name': 'Black Cat Fishing Jam\\n', 'title': 'black-cat-fishing-jam\\n'}\n",
        "{'date': '2013-04-14 13:06:52\\n', 'tags': 'draft,write\\n', 'name': 'None\\n', 'title': '154\\n'}\n",
        "{'date': '2013-06-09 20:14:49\\n', 'tags': '3d,bacongamjam,blender,character,LightsOut,reddit,screenshot\\n', 'name': 'LightOut - Character 3d assets\\n', 'title': 'lightout-character-3d-assets\\n'}\n",
        "{'date': '2013-04-02 17:52:40\\n', 'tags': 'draft\\n', 'name': 'None\\n', 'title': '11\\n'}\n",
        "{'date': '2013-03-31 21:46:42\\n', 'tags': 'draft\\n', 'name': 'Biop sshock\\n', 'title': '9\\n'}\n",
        "{'date': '2013-04-03 13:22:37\\n', 'tags': '2d,3d,character,Game,movement,platformer,unity\\n', 'name': 'MarchGame v0.1\\n', 'title': 'marchgame-v0-1\\n'}\n",
        "{'date': '2013-04-02 21:03:56\\n', 'tags': 'draft\\n', 'name': 'None\\n', 'title': '29\\n'}\n",
        "{'date': '2013-07-12 13:03:18\\n', 'tags': '3d,concept art,gamejam,iamagamer,unity\\n', 'name': 'iamagamer - envior concept art plus model\\n', 'title': 'iamagamer-envior-concept-art-plus-model\\n'}\n",
        "{'date': '2013-08-12 04:28:38\\n', 'tags': 'draft,write\\n', 'name': 'Hell Earth\\n', 'title': '452\\n'}\n",
        "{'date': '2013-11-11 12:40:56\\n', 'tags': 'draft,write\\n', 'name': 'Party noon nightmare - pencil concepts\\n', 'title': '514\\n'}\n",
        "{'date': '2013-07-12 23:21:40\\n', 'tags': 'draft,write\\n', 'name': 'girl\\n', 'title': '404\\n'}\n",
        "{'date': '2013-04-09 11:35:20\\n', 'tags': 'draft,Evoland,rpg,write\\n', 'name': 'Eovland\\n', 'title': '90\\n'}\n",
        "{'date': '2013-04-11 11:47:49\\n', 'tags': '#GPCv17,#GPCv17,Game,gamejam,prodoIsland,unity,Write\\n', 'name': 'BroBeur Studios: Prodo Island Game Development Notes\\n', 'title': 'brobeur-studios-prodo-island-game-development-notes\\n'}\n",
        "{'date': '2013-04-13 13:32:53\\n', 'tags': 'draft,write\\n', 'name': 'None\\n', 'title': '137\\n'}\n",
        "{'date': '2013-04-04 12:42:21\\n', 'tags': 'quote,write,Write\\n', 'name': 'Twitter notes on game development\\n', 'title': 'twitter-notes-on-game-development\\n'}\n",
        "{'date': '2013-06-18 13:21:33\\n', 'tags': 'Catherine,Game,UK,unity\\n', 'name': 'Cathern interface\\n', 'title': 'cathern-interface\\n'}\n",
        "{'date': '2013-04-08 04:47:20\\n', 'tags': 'draft,write\\n', 'name': 'raiden legacy review\\n', 'title': '89\\n'}\n",
        "{'date': '2013-04-04 18:28:40\\n', 'tags': 'Python,reddit,redditgetsdrawn\\n', 'name': 'RedditGetsDrawn - tiggyvashti7\\n', 'title': 'redditgetsdrawn-tiggyvashti7\\n'}\n",
        "{'date': '2013-04-10 17:51:48\\n', 'tags': 'draft,Pronto,write,Write\\n', 'name': 'Prodo Prodo  Island - notes day one\\n', 'title': '98\\n'}\n",
        "{'date': '2013-11-16 14:08:08\\n', 'tags': 'code,game jam,maya,python\\n', 'name': 'Maya Python and Party Moon Nightmare Screenshots\\n', 'title': 'maya-python-and-party-moon-nightmare-screenshots\\n'}\n",
        "{'date': '2013-12-10 12:22:59\\n', 'tags': 'code,image,PIL,Python,skins\\n', 'name': 'Skins Wire: Python Image Library\\n', 'title': 'skins-wire-python-image-library\\n'}\n"
       ]
      }
     ],
     "prompt_number": 79
    },
    {
     "cell_type": "code",
     "collapsed": false,
     "input": [
      "alldic"
     ],
     "language": "python",
     "metadata": {},
     "outputs": [
      {
       "metadata": {},
       "output_type": "pyout",
       "prompt_number": 38,
       "text": [
        "[{'2013-08-03 21:49:47\\n': 'bc-conceptdraw\\n'},\n",
        " {'2013-04-02 21:33:18\\n': 'digital-paintings-created-with-sketchbook-and-gimp\\n'},\n",
        " {'2013-11-10 13:52:42\\n': 'pari-noon-nightmare\\n'},\n",
        " {'2013-07-07 12:32:10\\n': 'triger-molyjam-2013\\n'},\n",
        " {'2013-04-15 10:48:08\\n': '169\\n'},\n",
        " {'2013-08-12 16:11:58\\n': 'hell-earth\\n'},\n",
        " {'2013-04-09 19:02:21\\n': 'start-gpcv17-ideas\\n'},\n",
        " {'2013-06-10 21:46:50\\n': 'surreal-warp-nightmare\\n'},\n",
        " {'2013-04-16 18:47:04\\n': 'prodo-gpc1\\n'},\n",
        " {'2013-04-15 02:17:47\\n': '155\\n'},\n",
        " {'2013-11-04 00:22:06\\n': 'shark-nightmare\\n'},\n",
        " {'2013-08-20 23:31:23\\n': 'post-mortem-hell-earth\\n'},\n",
        " {'2013-04-26 12:27:10\\n': 'aux-jan-0-6\\n'},\n",
        " {'2013-04-03 07:52:35\\n': 'aux-jan-game\\n'},\n",
        " {'2013-11-16 17:42:27\\n': 'maya-api\\n'},\n",
        " {'2013-04-04 10:08:10\\n': 'python-reddit-json\\n'},\n",
        " {'2013-04-02 18:41:03\\n': '17\\n'},\n",
        " {'2013-04-13 11:55:02\\n': '136\\n'},\n",
        " {'2013-11-10 09:25:25\\n': 'november-2013-game-dev-meet-up\\n'},\n",
        " {'2013-04-07 15:25:17\\n': 'playformfeb-v1-web\\n'},\n",
        " {'2013-06-23 19:44:59\\n': 'auxjan-to-auxjune\\n'},\n",
        " {'2013-08-09 12:33:00\\n': 'murder-simulation-2013\\n'},\n",
        " {'2013-07-17 07:07:19\\n': '7drts-challenge-ideas\\n'},\n",
        " {'2013-12-17 16:02:50\\n': '692\\n'},\n",
        " {'2013-04-04 16:22:45\\n': 'duck\\n'},\n",
        " {'2013-04-14 00:52:51\\n': 'site-logo-paintings-prodo-git\\n'},\n",
        " {'2013-04-02 20:23:41\\n': '25\\n'},\n",
        " {'2013-07-07 03:22:12\\n': 'triger\\n'},\n",
        " {'2013-04-27 17:34:34\\n': 'spotwalker-ld48-first-3-hours\\n'},\n",
        " {'2013-06-02 06:12:48\\n': 'fishing-dream-modding\\n'},\n",
        " {'2013-11-03 15:18:04\\n': '491\\n'},\n",
        " {'2013-05-06 21:08:12\\n': 'birdcage-platform-game-0-1-0-2\\n'},\n",
        " {'2013-04-07 01:23:19\\n': 'marchadventure\\n'},\n",
        " {'2013-04-12 21:23:43\\n': 'development-slow\\n'},\n",
        " {'2013-04-04 12:42:21\\n': 'twitter-notes-on-game-development-2\\n'},\n",
        " {'2013-04-15 10:34:06\\n': '166\\n'},\n",
        " {'2013-07-30 01:49:59\\n': '429\\n'},\n",
        " {'2013-05-11 20:03:37\\n': 'birdfice-apk\\n'},\n",
        " {'2013-06-19 19:11:31\\n': 'cathern-interface-2\\n'},\n",
        " {'2013-04-13 10:43:10\\n': 'prodo-island-project-new\\n'},\n",
        " {'2013-11-11 13:53:12\\n': 'shark-nightmare-screenshots\\n'},\n",
        " {'2013-11-17 23:06:53\\n': 'maya-python-classes-development\\n'},\n",
        " {'2013-06-10 15:14:32\\n': '297\\n'},\n",
        " {'2013-08-12 23:46:19\\n': 'hell-earth-2\\n'},\n",
        " {'2013-06-24 07:48:18\\n': 'auxjonem\\n'},\n",
        " {'2013-12-11 11:45:42\\n': 'black-bars-and-text-suburb-nightmare\\n'},\n",
        " {'2013-11-14 19:52:33\\n': '523\\n'},\n",
        " {'2013-04-28 02:39:48\\n': 'spotwalker-0-1-build\\n'},\n",
        " {'2013-05-19 14:31:51\\n': 'dune-0-1\\n'},\n",
        " {'2013-07-05 04:59:10\\n': 'gameboy-jam-warmup-cafrin\\n'},\n",
        " {'2013-04-12 21:44:50\\n': 'sim-prototype-idea-1\\n'},\n",
        " {'2013-07-14 11:35:39\\n': 'suburbnightmare-screenshots\\n'},\n",
        " {'2013-07-12 09:23:42\\n': 'imagamer-ca\\n'},\n",
        " {'2013-04-16 17:23:59\\n': '170\\n'},\n",
        " {'2013-11-11 20:01:01\\n': 'party-noon-nightmare-prototype-build\\n'},\n",
        " {'2013-05-31 06:43:55\\n': 'black-cat-fishing-jam\\n'},\n",
        " {'2013-04-14 13:06:52\\n': '154\\n'},\n",
        " {'2013-06-09 20:14:49\\n': 'lightout-character-3d-assets\\n'},\n",
        " {'2013-04-02 17:52:40\\n': '11\\n'},\n",
        " {'2013-03-31 21:46:42\\n': '9\\n'},\n",
        " {'2013-04-03 13:22:37\\n': 'marchgame-v0-1\\n'},\n",
        " {'2013-04-02 21:03:56\\n': '29\\n'},\n",
        " {'2013-07-12 13:03:18\\n': 'iamagamer-envior-concept-art-plus-model\\n'},\n",
        " {'2013-08-12 04:28:38\\n': '452\\n'},\n",
        " {'2013-11-11 12:40:56\\n': '514\\n'},\n",
        " {'2013-07-12 23:21:40\\n': '404\\n'},\n",
        " {'2013-04-09 11:35:20\\n': '90\\n'},\n",
        " {'2013-04-11 11:47:49\\n': 'brobeur-studios-prodo-island-game-development-notes\\n'},\n",
        " {'2013-04-13 13:32:53\\n': '137\\n'},\n",
        " {'2013-04-04 12:42:21\\n': 'twitter-notes-on-game-development\\n'},\n",
        " {'2013-06-18 13:21:33\\n': 'cathern-interface\\n'},\n",
        " {'2013-04-08 04:47:20\\n': '89\\n'},\n",
        " {'2013-04-04 18:28:40\\n': 'redditgetsdrawn-tiggyvashti7\\n'},\n",
        " {'2013-04-10 17:51:48\\n': '98\\n'},\n",
        " {'2013-11-16 14:08:08\\n': 'maya-python-and-party-moon-nightmare-screenshots\\n'},\n",
        " {'2013-12-10 12:22:59\\n': 'skins-wire-python-image-library\\n'}]"
       ]
      }
     ],
     "prompt_number": 38
    },
    {
     "cell_type": "code",
     "collapsed": false,
     "input": [
      "chzdir"
     ],
     "language": "python",
     "metadata": {},
     "outputs": [
      {
       "metadata": {},
       "output_type": "pyout",
       "prompt_number": 39,
       "text": [
        "{'2013-12-10 12:22:59\\n': 'skins-wire-python-image-library\\n'}"
       ]
      }
     ],
     "prompt_number": 39
    },
    {
     "cell_type": "code",
     "collapsed": false,
     "input": [
      "for al in alldic:\n",
      "    print al"
     ],
     "language": "python",
     "metadata": {},
     "outputs": [
      {
       "output_type": "stream",
       "stream": "stdout",
       "text": [
        "{'2013-08-03 21:49:47\\n': 'bc-conceptdraw\\n'}\n",
        "{'2013-04-02 21:33:18\\n': 'digital-paintings-created-with-sketchbook-and-gimp\\n'}\n",
        "{'2013-11-10 13:52:42\\n': 'pari-noon-nightmare\\n'}\n",
        "{'2013-07-07 12:32:10\\n': 'triger-molyjam-2013\\n'}\n",
        "{'2013-04-15 10:48:08\\n': '169\\n'}\n",
        "{'2013-08-12 16:11:58\\n': 'hell-earth\\n'}\n",
        "{'2013-04-09 19:02:21\\n': 'start-gpcv17-ideas\\n'}\n",
        "{'2013-06-10 21:46:50\\n': 'surreal-warp-nightmare\\n'}\n",
        "{'2013-04-16 18:47:04\\n': 'prodo-gpc1\\n'}\n",
        "{'2013-04-15 02:17:47\\n': '155\\n'}\n",
        "{'2013-11-04 00:22:06\\n': 'shark-nightmare\\n'}\n",
        "{'2013-08-20 23:31:23\\n': 'post-mortem-hell-earth\\n'}\n",
        "{'2013-04-26 12:27:10\\n': 'aux-jan-0-6\\n'}\n",
        "{'2013-04-03 07:52:35\\n': 'aux-jan-game\\n'}\n",
        "{'2013-11-16 17:42:27\\n': 'maya-api\\n'}\n",
        "{'2013-04-04 10:08:10\\n': 'python-reddit-json\\n'}\n",
        "{'2013-04-02 18:41:03\\n': '17\\n'}\n",
        "{'2013-04-13 11:55:02\\n': '136\\n'}\n",
        "{'2013-11-10 09:25:25\\n': 'november-2013-game-dev-meet-up\\n'}\n",
        "{'2013-04-07 15:25:17\\n': 'playformfeb-v1-web\\n'}\n",
        "{'2013-06-23 19:44:59\\n': 'auxjan-to-auxjune\\n'}\n",
        "{'2013-08-09 12:33:00\\n': 'murder-simulation-2013\\n'}\n",
        "{'2013-07-17 07:07:19\\n': '7drts-challenge-ideas\\n'}\n",
        "{'2013-12-17 16:02:50\\n': '692\\n'}\n",
        "{'2013-04-04 16:22:45\\n': 'duck\\n'}\n",
        "{'2013-04-14 00:52:51\\n': 'site-logo-paintings-prodo-git\\n'}\n",
        "{'2013-04-02 20:23:41\\n': '25\\n'}\n",
        "{'2013-07-07 03:22:12\\n': 'triger\\n'}\n",
        "{'2013-04-27 17:34:34\\n': 'spotwalker-ld48-first-3-hours\\n'}\n",
        "{'2013-06-02 06:12:48\\n': 'fishing-dream-modding\\n'}\n",
        "{'2013-11-03 15:18:04\\n': '491\\n'}\n",
        "{'2013-05-06 21:08:12\\n': 'birdcage-platform-game-0-1-0-2\\n'}\n",
        "{'2013-04-07 01:23:19\\n': 'marchadventure\\n'}\n",
        "{'2013-04-12 21:23:43\\n': 'development-slow\\n'}\n",
        "{'2013-04-04 12:42:21\\n': 'twitter-notes-on-game-development-2\\n'}\n",
        "{'2013-04-15 10:34:06\\n': '166\\n'}\n",
        "{'2013-07-30 01:49:59\\n': '429\\n'}\n",
        "{'2013-05-11 20:03:37\\n': 'birdfice-apk\\n'}\n",
        "{'2013-06-19 19:11:31\\n': 'cathern-interface-2\\n'}\n",
        "{'2013-04-13 10:43:10\\n': 'prodo-island-project-new\\n'}\n",
        "{'2013-11-11 13:53:12\\n': 'shark-nightmare-screenshots\\n'}\n",
        "{'2013-11-17 23:06:53\\n': 'maya-python-classes-development\\n'}\n",
        "{'2013-06-10 15:14:32\\n': '297\\n'}\n",
        "{'2013-08-12 23:46:19\\n': 'hell-earth-2\\n'}\n",
        "{'2013-06-24 07:48:18\\n': 'auxjonem\\n'}\n",
        "{'2013-12-11 11:45:42\\n': 'black-bars-and-text-suburb-nightmare\\n'}\n",
        "{'2013-11-14 19:52:33\\n': '523\\n'}\n",
        "{'2013-04-28 02:39:48\\n': 'spotwalker-0-1-build\\n'}\n",
        "{'2013-05-19 14:31:51\\n': 'dune-0-1\\n'}\n",
        "{'2013-07-05 04:59:10\\n': 'gameboy-jam-warmup-cafrin\\n'}\n",
        "{'2013-04-12 21:44:50\\n': 'sim-prototype-idea-1\\n'}\n",
        "{'2013-07-14 11:35:39\\n': 'suburbnightmare-screenshots\\n'}\n",
        "{'2013-07-12 09:23:42\\n': 'imagamer-ca\\n'}\n",
        "{'2013-04-16 17:23:59\\n': '170\\n'}\n",
        "{'2013-11-11 20:01:01\\n': 'party-noon-nightmare-prototype-build\\n'}\n",
        "{'2013-05-31 06:43:55\\n': 'black-cat-fishing-jam\\n'}\n",
        "{'2013-04-14 13:06:52\\n': '154\\n'}\n",
        "{'2013-06-09 20:14:49\\n': 'lightout-character-3d-assets\\n'}\n"
       ]
      },
      {
       "output_type": "stream",
       "stream": "stdout",
       "text": [
        "{'2013-04-02 17:52:40\\n': '11\\n'}\n",
        "{'2013-03-31 21:46:42\\n': '9\\n'}\n",
        "{'2013-04-03 13:22:37\\n': 'marchgame-v0-1\\n'}\n",
        "{'2013-04-02 21:03:56\\n': '29\\n'}\n",
        "{'2013-07-12 13:03:18\\n': 'iamagamer-envior-concept-art-plus-model\\n'}\n",
        "{'2013-08-12 04:28:38\\n': '452\\n'}\n",
        "{'2013-11-11 12:40:56\\n': '514\\n'}\n",
        "{'2013-07-12 23:21:40\\n': '404\\n'}\n",
        "{'2013-04-09 11:35:20\\n': '90\\n'}\n",
        "{'2013-04-11 11:47:49\\n': 'brobeur-studios-prodo-island-game-development-notes\\n'}\n",
        "{'2013-04-13 13:32:53\\n': '137\\n'}\n",
        "{'2013-04-04 12:42:21\\n': 'twitter-notes-on-game-development\\n'}\n",
        "{'2013-06-18 13:21:33\\n': 'cathern-interface\\n'}\n",
        "{'2013-04-08 04:47:20\\n': '89\\n'}\n",
        "{'2013-04-04 18:28:40\\n': 'redditgetsdrawn-tiggyvashti7\\n'}\n",
        "{'2013-04-10 17:51:48\\n': '98\\n'}\n",
        "{'2013-11-16 14:08:08\\n': 'maya-python-and-party-moon-nightmare-screenshots\\n'}\n",
        "{'2013-12-10 12:22:59\\n': 'skins-wire-python-image-library\\n'}\n"
       ]
      }
     ],
     "prompt_number": 40
    },
    {
     "cell_type": "code",
     "collapsed": false,
     "input": [
      "tiran = len(alldic)"
     ],
     "language": "python",
     "metadata": {},
     "outputs": [],
     "prompt_number": 41
    },
    {
     "cell_type": "code",
     "collapsed": false,
     "input": [
      "ranit = random.randint(0, tiran)"
     ],
     "language": "python",
     "metadata": {},
     "outputs": [],
     "prompt_number": 42
    },
    {
     "cell_type": "code",
     "collapsed": false,
     "input": [
      "ranit"
     ],
     "language": "python",
     "metadata": {},
     "outputs": [
      {
       "metadata": {},
       "output_type": "pyout",
       "prompt_number": 43,
       "text": [
        "50"
       ]
      }
     ],
     "prompt_number": 43
    },
    {
     "cell_type": "code",
     "collapsed": false,
     "input": [
      "#from random import shuffle\n",
      "#x = [[i] for i in alldic:\n",
      "#    random.shuffle(x)"
     ],
     "language": "python",
     "metadata": {},
     "outputs": [],
     "prompt_number": 44
    },
    {
     "cell_type": "code",
     "collapsed": false,
     "input": [
      "from random import shuffle"
     ],
     "language": "python",
     "metadata": {},
     "outputs": [],
     "prompt_number": 45
    },
    {
     "cell_type": "code",
     "collapsed": false,
     "input": [
      "shuffle(alldic)"
     ],
     "language": "python",
     "metadata": {},
     "outputs": [],
     "prompt_number": 46
    },
    {
     "cell_type": "code",
     "collapsed": false,
     "input": [
      "alldic"
     ],
     "language": "python",
     "metadata": {},
     "outputs": [
      {
       "metadata": {},
       "output_type": "pyout",
       "prompt_number": 47,
       "text": [
        "[{'2013-04-07 15:25:17\\n': 'playformfeb-v1-web\\n'},\n",
        " {'2013-06-23 19:44:59\\n': 'auxjan-to-auxjune\\n'},\n",
        " {'2013-11-11 20:01:01\\n': 'party-noon-nightmare-prototype-build\\n'},\n",
        " {'2013-07-07 03:22:12\\n': 'triger\\n'},\n",
        " {'2013-11-16 14:08:08\\n': 'maya-python-and-party-moon-nightmare-screenshots\\n'},\n",
        " {'2013-06-10 21:46:50\\n': 'surreal-warp-nightmare\\n'},\n",
        " {'2013-08-12 23:46:19\\n': 'hell-earth-2\\n'},\n",
        " {'2013-06-24 07:48:18\\n': 'auxjonem\\n'},\n",
        " {'2013-08-09 12:33:00\\n': 'murder-simulation-2013\\n'},\n",
        " {'2013-04-03 07:52:35\\n': 'aux-jan-game\\n'},\n",
        " {'2013-05-31 06:43:55\\n': 'black-cat-fishing-jam\\n'},\n",
        " {'2013-07-12 09:23:42\\n': 'imagamer-ca\\n'},\n",
        " {'2013-07-14 11:35:39\\n': 'suburbnightmare-screenshots\\n'},\n",
        " {'2013-06-18 13:21:33\\n': 'cathern-interface\\n'},\n",
        " {'2013-04-13 11:55:02\\n': '136\\n'},\n",
        " {'2013-08-20 23:31:23\\n': 'post-mortem-hell-earth\\n'},\n",
        " {'2013-04-04 12:42:21\\n': 'twitter-notes-on-game-development-2\\n'},\n",
        " {'2013-04-02 21:03:56\\n': '29\\n'},\n",
        " {'2013-08-12 16:11:58\\n': 'hell-earth\\n'},\n",
        " {'2013-06-19 19:11:31\\n': 'cathern-interface-2\\n'},\n",
        " {'2013-04-10 17:51:48\\n': '98\\n'},\n",
        " {'2013-04-27 17:34:34\\n': 'spotwalker-ld48-first-3-hours\\n'},\n",
        " {'2013-07-17 07:07:19\\n': '7drts-challenge-ideas\\n'},\n",
        " {'2013-12-17 16:02:50\\n': '692\\n'},\n",
        " {'2013-04-15 10:48:08\\n': '169\\n'},\n",
        " {'2013-11-17 23:06:53\\n': 'maya-python-classes-development\\n'},\n",
        " {'2013-05-06 21:08:12\\n': 'birdcage-platform-game-0-1-0-2\\n'},\n",
        " {'2013-04-09 11:35:20\\n': '90\\n'},\n",
        " {'2013-04-04 18:28:40\\n': 'redditgetsdrawn-tiggyvashti7\\n'},\n",
        " {'2013-05-19 14:31:51\\n': 'dune-0-1\\n'},\n",
        " {'2013-04-12 21:23:43\\n': 'development-slow\\n'},\n",
        " {'2013-04-04 12:42:21\\n': 'twitter-notes-on-game-development\\n'},\n",
        " {'2013-04-26 12:27:10\\n': 'aux-jan-0-6\\n'},\n",
        " {'2013-11-10 09:25:25\\n': 'november-2013-game-dev-meet-up\\n'},\n",
        " {'2013-11-16 17:42:27\\n': 'maya-api\\n'},\n",
        " {'2013-07-12 13:03:18\\n': 'iamagamer-envior-concept-art-plus-model\\n'},\n",
        " {'2013-06-02 06:12:48\\n': 'fishing-dream-modding\\n'},\n",
        " {'2013-07-12 23:21:40\\n': '404\\n'},\n",
        " {'2013-04-12 21:44:50\\n': 'sim-prototype-idea-1\\n'},\n",
        " {'2013-07-05 04:59:10\\n': 'gameboy-jam-warmup-cafrin\\n'},\n",
        " {'2013-04-04 10:08:10\\n': 'python-reddit-json\\n'},\n",
        " {'2013-04-04 16:22:45\\n': 'duck\\n'},\n",
        " {'2013-06-10 15:14:32\\n': '297\\n'},\n",
        " {'2013-06-09 20:14:49\\n': 'lightout-character-3d-assets\\n'},\n",
        " {'2013-04-02 21:33:18\\n': 'digital-paintings-created-with-sketchbook-and-gimp\\n'},\n",
        " {'2013-11-03 15:18:04\\n': '491\\n'},\n",
        " {'2013-04-03 13:22:37\\n': 'marchgame-v0-1\\n'},\n",
        " {'2013-04-02 18:41:03\\n': '17\\n'},\n",
        " {'2013-08-12 04:28:38\\n': '452\\n'},\n",
        " {'2013-04-07 01:23:19\\n': 'marchadventure\\n'},\n",
        " {'2013-04-14 00:52:51\\n': 'site-logo-paintings-prodo-git\\n'},\n",
        " {'2013-11-11 12:40:56\\n': '514\\n'},\n",
        " {'2013-04-11 11:47:49\\n': 'brobeur-studios-prodo-island-game-development-notes\\n'},\n",
        " {'2013-04-13 10:43:10\\n': 'prodo-island-project-new\\n'},\n",
        " {'2013-07-30 01:49:59\\n': '429\\n'},\n",
        " {'2013-12-11 11:45:42\\n': 'black-bars-and-text-suburb-nightmare\\n'},\n",
        " {'2013-11-14 19:52:33\\n': '523\\n'},\n",
        " {'2013-08-03 21:49:47\\n': 'bc-conceptdraw\\n'},\n",
        " {'2013-05-11 20:03:37\\n': 'birdfice-apk\\n'},\n",
        " {'2013-03-31 21:46:42\\n': '9\\n'},\n",
        " {'2013-04-16 17:23:59\\n': '170\\n'},\n",
        " {'2013-04-02 20:23:41\\n': '25\\n'},\n",
        " {'2013-04-02 17:52:40\\n': '11\\n'},\n",
        " {'2013-12-10 12:22:59\\n': 'skins-wire-python-image-library\\n'},\n",
        " {'2013-04-15 10:34:06\\n': '166\\n'},\n",
        " {'2013-04-08 04:47:20\\n': '89\\n'},\n",
        " {'2013-07-07 12:32:10\\n': 'triger-molyjam-2013\\n'},\n",
        " {'2013-04-16 18:47:04\\n': 'prodo-gpc1\\n'},\n",
        " {'2013-04-28 02:39:48\\n': 'spotwalker-0-1-build\\n'},\n",
        " {'2013-04-09 19:02:21\\n': 'start-gpcv17-ideas\\n'},\n",
        " {'2013-04-13 13:32:53\\n': '137\\n'},\n",
        " {'2013-04-14 13:06:52\\n': '154\\n'},\n",
        " {'2013-11-10 13:52:42\\n': 'pari-noon-nightmare\\n'},\n",
        " {'2013-04-15 02:17:47\\n': '155\\n'},\n",
        " {'2013-11-04 00:22:06\\n': 'shark-nightmare\\n'},\n",
        " {'2013-11-11 13:53:12\\n': 'shark-nightmare-screenshots\\n'}]"
       ]
      }
     ],
     "prompt_number": 47
    },
    {
     "cell_type": "code",
     "collapsed": false,
     "input": [
      "randiz = alldic[ranit]"
     ],
     "language": "python",
     "metadata": {},
     "outputs": [],
     "prompt_number": 48
    },
    {
     "cell_type": "code",
     "collapsed": false,
     "input": [
      "randiz"
     ],
     "language": "python",
     "metadata": {},
     "outputs": [
      {
       "metadata": {},
       "output_type": "pyout",
       "prompt_number": 49,
       "text": [
        "{'2013-04-14 00:52:51\\n': 'site-logo-paintings-prodo-git\\n'}"
       ]
      }
     ],
     "prompt_number": 49
    },
    {
     "cell_type": "code",
     "collapsed": false,
     "input": [
      "razdiz = randiz.keys()"
     ],
     "language": "python",
     "metadata": {},
     "outputs": [],
     "prompt_number": 50
    },
    {
     "cell_type": "code",
     "collapsed": false,
     "input": [
      "razdiz"
     ],
     "language": "python",
     "metadata": {},
     "outputs": [
      {
       "metadata": {},
       "output_type": "pyout",
       "prompt_number": 72,
       "text": [
        "['2013-04-14 00:52:51\\n']"
       ]
      }
     ],
     "prompt_number": 72
    },
    {
     "cell_type": "code",
     "collapsed": false,
     "input": [
      "randaz = randiz.values()"
     ],
     "language": "python",
     "metadata": {},
     "outputs": [],
     "prompt_number": 51
    },
    {
     "cell_type": "code",
     "collapsed": false,
     "input": [
      "for itez in randaz:\n",
      "    print itez + '.wp'\n",
      "    str2 = itez.replace(\"\\n\", \"\")\n",
      "    tafilz = str2 + '.wp'"
     ],
     "language": "python",
     "metadata": {},
     "outputs": [
      {
       "output_type": "stream",
       "stream": "stdout",
       "text": [
        "site-logo-paintings-prodo-git\n",
        ".wp\n"
       ]
      }
     ],
     "prompt_number": 52
    },
    {
     "cell_type": "code",
     "collapsed": false,
     "input": [
      "tafilz"
     ],
     "language": "python",
     "metadata": {},
     "outputs": [
      {
       "metadata": {},
       "output_type": "pyout",
       "prompt_number": 53,
       "text": [
        "'site-logo-paintings-prodo-git.wp'"
       ]
      }
     ],
     "prompt_number": 53
    },
    {
     "cell_type": "code",
     "collapsed": false,
     "input": [
      "bldat = open((tafilz), 'r')\n"
     ],
     "language": "python",
     "metadata": {},
     "outputs": [],
     "prompt_number": 54
    },
    {
     "cell_type": "code",
     "collapsed": false,
     "input": [
      "blogread = bldat.read()"
     ],
     "language": "python",
     "metadata": {},
     "outputs": [],
     "prompt_number": 55
    },
    {
     "cell_type": "code",
     "collapsed": false,
     "input": [
      "blogwra = blogread.upper()"
     ],
     "language": "python",
     "metadata": {},
     "outputs": [],
     "prompt_number": 56
    },
    {
     "cell_type": "code",
     "collapsed": false,
     "input": [
      "blogstr = str(blogwra)"
     ],
     "language": "python",
     "metadata": {},
     "outputs": [],
     "prompt_number": 57
    },
    {
     "cell_type": "code",
     "collapsed": false,
     "input": [
      "blogstr"
     ],
     "language": "python",
     "metadata": {},
     "outputs": [
      {
       "metadata": {},
       "output_type": "pyout",
       "prompt_number": 58,
       "text": [
        "'<HTML><BODY><P>BEFORE I GO TO BED HERES A BLOG POST.\\nWHAT DID I DEVELOP TODAY?\\n\\nWELL THIS MORNING I WOKE UP EARLY AND MANAGED TO GET GIT WORKING. THAT\\'S RIGHT, GITS WORKING WITH MY UNITY PROJECT. I\\'VE MADE THREE COMMITS TO IT SO FAR.\\n\\nTHIS IS A NEW PROJECT - IT WAS GREAT TO START FRESH AND IMPORT IN ASSETS I NEED, REMOVE EVERYTHING I DON\\'T. <A HREF=\"HTTPS://GITHUB.COM/ARTCTRL/APRILGAME/COMMITS?AUTHOR=ARTCTRL\">CHECK OUT THE PROJECT ON GITHUB</A>\\n\\n\\n\\nHERE\\'S A FEW SCREENSHOTS FROM UNITY OF THE TWO SCENES I MADE TODAY.\\n\\n\\n\\nI<A HREF=\"/WP-CONTENT/UPLOADS/2013/04/10.PNG\"><IMG CLASS=\"ALIGNNONE SIZE-MEDIUM WP-IMAGE-146\" ALT=\"10\" SRC=\"/WP-CONTENT/UPLOADS/2013/04/10-300X173.PNG\" WIDTH=\"590\" HEIGHT=\"340\"></A><A HREF=\"/WP-CONTENT/UPLOADS/2013/04/11.PNG\"><IMG CLASS=\"ALIGNNONE SIZE-MEDIUM WP-IMAGE-147\" ALT=\"11\" SRC=\"/WP-CONTENT/UPLOADS/2013/04/11-300X173.PNG\" WIDTH=\"588\" HEIGHT=\"338\"></A>\\n\\n\\n\\n\\xc2\\xa0\\n\\n\\n\\nI\\'VE ALSO BEEN BUSY TODAY WORKING LOGOS FOR THE SITE. THIS INVOLVED A LITTLE DIGITAL PAINTING. MY INTOUS5 TABLET IS CURRENTLY BROKEN SO I\\'VE HAD TO USE MY OLD ONE. WHICH ISN\\'T AS GOOD, BUT BETTER THAN THE MOUSE. ANYWAY, HERE\\'S THE IMAGE:\\n\\n\\n\\n<A HREF=\"/WP-CONTENT/UPLOADS/2013/04/BROBEURLOGO6.PNG\"><IMG CLASS=\"ALIGNNONE SIZE-MEDIUM WP-IMAGE-143\" ALT=\"BROBEURLOGO6\" SRC=\"/WP-CONTENT/UPLOADS/2013/04/BROBEURLOGO6-297X300.PNG\" WIDTH=\"297\" HEIGHT=\"300\"></A><A HREF=\"/WP-CONTENT/UPLOADS/2013/04/BROBEURLOGO3.PNG\"><IMG CLASS=\"ALIGNNONE SIZE-MEDIUM WP-IMAGE-144\" ALT=\"BROBEURLOGO3\" SRC=\"/WP-CONTENT/UPLOADS/2013/04/BROBEURLOGO3-300X69.PNG\" WIDTH=\"300\" HEIGHT=\"69\"></A>\\xc2\\xa0 <A HREF=\"/WP-CONTENT/UPLOADS/2013/04/BROBEURLOGO-2.PNG\"><IMG CLASS=\"ALIGNNONE SIZE-MEDIUM WP-IMAGE-139\" ALT=\"BROBEURLOGO-2\" SRC=\"/WP-CONTENT/UPLOADS/2013/04/BROBEURLOGO-2.PNG\" WIDTH=\"247\" HEIGHT=\"167\"></A> <A HREF=\"/WP-CONTENT/UPLOADS/2013/04/BROBEURLOGO2.PNG\"><IMG CLASS=\"ALIGNNONE SIZE-FULL WP-IMAGE-138\" ALT=\"BROBEURLOGO2\" SRC=\"/WP-CONTENT/UPLOADS/2013/04/BROBEURLOGO2.PNG\" WIDTH=\"234\" HEIGHT=\"60\"></A>\\n\\n\\n\\n\\xc2\\xa0\\n\\n\\n\\n\\xc2\\xa0</P></BODY></HTML>'"
       ]
      }
     ],
     "prompt_number": 58
    },
    {
     "cell_type": "code",
     "collapsed": false,
     "input": [
      "blogread"
     ],
     "language": "python",
     "metadata": {},
     "outputs": [
      {
       "metadata": {},
       "output_type": "pyout",
       "prompt_number": 59,
       "text": [
        "'<html><body><p>BEFORE I go to bed heres a blog post.\\nWhat did I develop today?\\n\\nWell this morning I woke up early and managed to get GIT working. That\\'s right, GITs working with my Unity project. I\\'ve made three commits to it so far.\\n\\nThis is a new project - It was great to start fresh and import in assets I need, remove everything I don\\'t. <a href=\"https://github.com/artctrl/AprilGame/commits?author=artctrl\">Check out the project on Github</a>\\n\\n\\n\\nHere\\'s a few screenshots from Unity of the two scenes I made today.\\n\\n\\n\\nI<a href=\"/wp-content/uploads/2013/04/10.png\"><img class=\"alignnone size-medium wp-image-146\" alt=\"10\" src=\"/wp-content/uploads/2013/04/10-300x173.png\" width=\"590\" height=\"340\"></a><a href=\"/wp-content/uploads/2013/04/11.png\"><img class=\"alignnone size-medium wp-image-147\" alt=\"11\" src=\"/wp-content/uploads/2013/04/11-300x173.png\" width=\"588\" height=\"338\"></a>\\n\\n\\n\\n\\xc2\\xa0\\n\\n\\n\\nI\\'ve also been busy today working logos for the site. This involved a little digital painting. My Intous5 tablet is currently broken so I\\'ve had to use my old one. Which isn\\'t as good, but better than the mouse. Anyway, Here\\'s the image:\\n\\n\\n\\n<a href=\"/wp-content/uploads/2013/04/brobeurlogo6.png\"><img class=\"alignnone size-medium wp-image-143\" alt=\"brobeurlogo6\" src=\"/wp-content/uploads/2013/04/brobeurlogo6-297x300.png\" width=\"297\" height=\"300\"></a><a href=\"/wp-content/uploads/2013/04/brobeurlogo3.png\"><img class=\"alignnone size-medium wp-image-144\" alt=\"brobeurlogo3\" src=\"/wp-content/uploads/2013/04/brobeurlogo3-300x69.png\" width=\"300\" height=\"69\"></a>\\xc2\\xa0 <a href=\"/wp-content/uploads/2013/04/brobeurlogo-2.png\"><img class=\"alignnone size-medium wp-image-139\" alt=\"brobeurlogo-2\" src=\"/wp-content/uploads/2013/04/brobeurlogo-2.png\" width=\"247\" height=\"167\"></a> <a href=\"/wp-content/uploads/2013/04/brobeurlogo2.png\"><img class=\"alignnone size-full wp-image-138\" alt=\"brobeurlogo2\" src=\"/wp-content/uploads/2013/04/brobeurlogo2.png\" width=\"234\" height=\"60\"></a>\\n\\n\\n\\n\\xc2\\xa0\\n\\n\\n\\n\\xc2\\xa0</p></body></html>'"
       ]
      }
     ],
     "prompt_number": 59
    },
    {
     "cell_type": "code",
     "collapsed": false,
     "input": [
      "ixran = os.urandom(128).encode('hex')"
     ],
     "language": "python",
     "metadata": {},
     "outputs": [],
     "prompt_number": 60
    },
    {
     "cell_type": "code",
     "collapsed": false,
     "input": [
      "randiz.update({blogread: ixran})"
     ],
     "language": "python",
     "metadata": {},
     "outputs": [],
     "prompt_number": 61
    },
    {
     "cell_type": "code",
     "collapsed": false,
     "input": [
      "randiz"
     ],
     "language": "python",
     "metadata": {},
     "outputs": [
      {
       "metadata": {},
       "output_type": "pyout",
       "prompt_number": 62,
       "text": [
        "{'2013-04-14 00:52:51\\n': 'site-logo-paintings-prodo-git\\n',\n",
        " '<html><body><p>BEFORE I go to bed heres a blog post.\\nWhat did I develop today?\\n\\nWell this morning I woke up early and managed to get GIT working. That\\'s right, GITs working with my Unity project. I\\'ve made three commits to it so far.\\n\\nThis is a new project - It was great to start fresh and import in assets I need, remove everything I don\\'t. <a href=\"https://github.com/artctrl/AprilGame/commits?author=artctrl\">Check out the project on Github</a>\\n\\n\\n\\nHere\\'s a few screenshots from Unity of the two scenes I made today.\\n\\n\\n\\nI<a href=\"/wp-content/uploads/2013/04/10.png\"><img class=\"alignnone size-medium wp-image-146\" alt=\"10\" src=\"/wp-content/uploads/2013/04/10-300x173.png\" width=\"590\" height=\"340\"></a><a href=\"/wp-content/uploads/2013/04/11.png\"><img class=\"alignnone size-medium wp-image-147\" alt=\"11\" src=\"/wp-content/uploads/2013/04/11-300x173.png\" width=\"588\" height=\"338\"></a>\\n\\n\\n\\n\\xc2\\xa0\\n\\n\\n\\nI\\'ve also been busy today working logos for the site. This involved a little digital painting. My Intous5 tablet is currently broken so I\\'ve had to use my old one. Which isn\\'t as good, but better than the mouse. Anyway, Here\\'s the image:\\n\\n\\n\\n<a href=\"/wp-content/uploads/2013/04/brobeurlogo6.png\"><img class=\"alignnone size-medium wp-image-143\" alt=\"brobeurlogo6\" src=\"/wp-content/uploads/2013/04/brobeurlogo6-297x300.png\" width=\"297\" height=\"300\"></a><a href=\"/wp-content/uploads/2013/04/brobeurlogo3.png\"><img class=\"alignnone size-medium wp-image-144\" alt=\"brobeurlogo3\" src=\"/wp-content/uploads/2013/04/brobeurlogo3-300x69.png\" width=\"300\" height=\"69\"></a>\\xc2\\xa0 <a href=\"/wp-content/uploads/2013/04/brobeurlogo-2.png\"><img class=\"alignnone size-medium wp-image-139\" alt=\"brobeurlogo-2\" src=\"/wp-content/uploads/2013/04/brobeurlogo-2.png\" width=\"247\" height=\"167\"></a> <a href=\"/wp-content/uploads/2013/04/brobeurlogo2.png\"><img class=\"alignnone size-full wp-image-138\" alt=\"brobeurlogo2\" src=\"/wp-content/uploads/2013/04/brobeurlogo2.png\" width=\"234\" height=\"60\"></a>\\n\\n\\n\\n\\xc2\\xa0\\n\\n\\n\\n\\xc2\\xa0</p></body></html>': '89d34aa4db1c013bd5f195abf67c17d6bdeedf0647e699818b6f39ad480b4a17cd29fcbc93a460ecd06fd88aea9ac8a086acea566bc7e24da4b94b45a74c2bca948c0a97e3bfa4cdb0c1c0876d77ad29653f56572622629e8708b728bc938df679e6ce6e0a790adde28bc6953ad7dcf3c5fa85d0b614c4c3ade7eabec62ea33a'}"
       ]
      }
     ],
     "prompt_number": 62
    },
    {
     "cell_type": "code",
     "collapsed": false,
     "input": [
      "from bs4 import BeautifulSoup\n",
      "soup = BeautifulSoup(blogread)\n",
      "\n",
      "print(soup.prettify())"
     ],
     "language": "python",
     "metadata": {},
     "outputs": [
      {
       "output_type": "stream",
       "stream": "stdout",
       "text": [
        "<html>\n",
        " <body>\n",
        "  <p>\n",
        "   BEFORE I go to bed heres a blog post.\n",
        "What did I develop today?\n",
        "\n",
        "Well this morning I woke up early and managed to get GIT working. That's right, GITs working with my Unity project. I've made three commits to it so far.\n",
        "\n",
        "This is a new project - It was great to start fresh and import in assets I need, remove everything I don't.\n",
        "   <a href=\"https://github.com/artctrl/AprilGame/commits?author=artctrl\">\n",
        "    Check out the project on Github\n",
        "   </a>\n",
        "   Here's a few screenshots from Unity of the two scenes I made today.\n",
        "\n",
        "\n",
        "\n",
        "I\n",
        "   <a href=\"/wp-content/uploads/2013/04/10.png\">\n",
        "    <img alt=\"10\" class=\"alignnone size-medium wp-image-146\" height=\"340\" src=\"/wp-content/uploads/2013/04/10-300x173.png\" width=\"590\"/>\n",
        "   </a>\n",
        "   <a href=\"/wp-content/uploads/2013/04/11.png\">\n",
        "    <img alt=\"11\" class=\"alignnone size-medium wp-image-147\" height=\"338\" src=\"/wp-content/uploads/2013/04/11-300x173.png\" width=\"588\"/>\n",
        "   </a>\n",
        "   I've also been busy today working logos for the site. This involved a little digital painting. My Intous5 tablet is currently broken so I've had to use my old one. Which isn't as good, but better than the mouse. Anyway, Here's the image:\n",
        "   <a href=\"/wp-content/uploads/2013/04/brobeurlogo6.png\">\n",
        "    <img alt=\"brobeurlogo6\" class=\"alignnone size-medium wp-image-143\" height=\"300\" src=\"/wp-content/uploads/2013/04/brobeurlogo6-297x300.png\" width=\"297\"/>\n",
        "   </a>\n",
        "   <a href=\"/wp-content/uploads/2013/04/brobeurlogo3.png\">\n",
        "    <img alt=\"brobeurlogo3\" class=\"alignnone size-medium wp-image-144\" height=\"69\" src=\"/wp-content/uploads/2013/04/brobeurlogo3-300x69.png\" width=\"300\"/>\n",
        "   </a>\n",
        "   <a href=\"/wp-content/uploads/2013/04/brobeurlogo-2.png\">\n",
        "    <img alt=\"brobeurlogo-2\" class=\"alignnone size-medium wp-image-139\" height=\"167\" src=\"/wp-content/uploads/2013/04/brobeurlogo-2.png\" width=\"247\"/>\n",
        "   </a>\n",
        "   <a href=\"/wp-content/uploads/2013/04/brobeurlogo2.png\">\n",
        "    <img alt=\"brobeurlogo2\" class=\"alignnone size-full wp-image-138\" height=\"60\" src=\"/wp-content/uploads/2013/04/brobeurlogo2.png\" width=\"234\"/>\n",
        "   </a>\n",
        "  </p>\n",
        " </body>\n",
        "</html>\n"
       ]
      }
     ],
     "prompt_number": 63
    },
    {
     "cell_type": "code",
     "collapsed": false,
     "input": [
      "soup.findAll('html')"
     ],
     "language": "python",
     "metadata": {},
     "outputs": [
      {
       "metadata": {},
       "output_type": "pyout",
       "prompt_number": 64,
       "text": [
        "[<html><body><p>BEFORE I go to bed heres a blog post.\n",
        " What did I develop today?\n",
        " \n",
        " Well this morning I woke up early and managed to get GIT working. That's right, GITs working with my Unity project. I've made three commits to it so far.\n",
        " \n",
        " This is a new project - It was great to start fresh and import in assets I need, remove everything I don't. <a href=\"https://github.com/artctrl/AprilGame/commits?author=artctrl\">Check out the project on Github</a>\n",
        " \n",
        " \n",
        " \n",
        " Here's a few screenshots from Unity of the two scenes I made today.\n",
        " \n",
        " \n",
        " \n",
        " I<a href=\"/wp-content/uploads/2013/04/10.png\"><img alt=\"10\" class=\"alignnone size-medium wp-image-146\" height=\"340\" src=\"/wp-content/uploads/2013/04/10-300x173.png\" width=\"590\"/></a><a href=\"/wp-content/uploads/2013/04/11.png\"><img alt=\"11\" class=\"alignnone size-medium wp-image-147\" height=\"338\" src=\"/wp-content/uploads/2013/04/11-300x173.png\" width=\"588\"/></a>\n",
        " \n",
        " \n",
        " \n",
        " \u00a0\n",
        " \n",
        " \n",
        " \n",
        " I've also been busy today working logos for the site. This involved a little digital painting. My Intous5 tablet is currently broken so I've had to use my old one. Which isn't as good, but better than the mouse. Anyway, Here's the image:\n",
        " \n",
        " \n",
        " \n",
        " <a href=\"/wp-content/uploads/2013/04/brobeurlogo6.png\"><img alt=\"brobeurlogo6\" class=\"alignnone size-medium wp-image-143\" height=\"300\" src=\"/wp-content/uploads/2013/04/brobeurlogo6-297x300.png\" width=\"297\"/></a><a href=\"/wp-content/uploads/2013/04/brobeurlogo3.png\"><img alt=\"brobeurlogo3\" class=\"alignnone size-medium wp-image-144\" height=\"69\" src=\"/wp-content/uploads/2013/04/brobeurlogo3-300x69.png\" width=\"300\"/></a>\u00a0 <a href=\"/wp-content/uploads/2013/04/brobeurlogo-2.png\"><img alt=\"brobeurlogo-2\" class=\"alignnone size-medium wp-image-139\" height=\"167\" src=\"/wp-content/uploads/2013/04/brobeurlogo-2.png\" width=\"247\"/></a> <a href=\"/wp-content/uploads/2013/04/brobeurlogo2.png\"><img alt=\"brobeurlogo2\" class=\"alignnone size-full wp-image-138\" height=\"60\" src=\"/wp-content/uploads/2013/04/brobeurlogo2.png\" width=\"234\"/></a>\n",
        " \n",
        " \n",
        " \n",
        " \u00a0\n",
        " \n",
        " \n",
        " \n",
        " \u00a0</p></body></html>]"
       ]
      }
     ],
     "prompt_number": 64
    },
    {
     "cell_type": "code",
     "collapsed": false,
     "input": [
      "import dominate\n",
      "from dominate.tags import *\n",
      "\n",
      "doc = dominate.document(title='BroBeur Blog Post')\n",
      "\n",
      "with doc.head:\n",
      "    link(rel='stylesheet', href='style.css')\n",
      "    script(type='text/javascript', src='script.js')\n",
      "\n",
      "with doc:\n",
      "    with div(id='header').add(ol()):\n",
      "        for i in alldic[1]:\n",
      "            li(a(i.title(), href='/%s.html' % i))\n",
      "\n",
      "    with div():\n",
      "        attr(cls='body')\n",
      "        p(razdiz)\n",
      "        h1(randaz)\n",
      "        p(blogread)\n",
      "\n",
      "#print doc"
     ],
     "language": "python",
     "metadata": {},
     "outputs": [],
     "prompt_number": 68
    },
    {
     "cell_type": "code",
     "collapsed": false,
     "input": [
      "brobeurblogpz = ('/home/wcmckee/brobeur-blog-post')"
     ],
     "language": "python",
     "metadata": {},
     "outputs": []
    },
    {
     "cell_type": "code",
     "collapsed": false,
     "input": [
      "os.chdir(brobeurblogpz)"
     ],
     "language": "python",
     "metadata": {},
     "outputs": []
    },
    {
     "cell_type": "code",
     "collapsed": false,
     "input": [
      "#wriind = open('index.html', 'w')"
     ],
     "language": "python",
     "metadata": {},
     "outputs": [],
     "prompt_number": 69
    },
    {
     "cell_type": "code",
     "collapsed": false,
     "input": [
      "#wriind.write(str(doc))"
     ],
     "language": "python",
     "metadata": {},
     "outputs": [],
     "prompt_number": 70
    },
    {
     "cell_type": "code",
     "collapsed": false,
     "input": [
      "#wriind.close()"
     ],
     "language": "python",
     "metadata": {},
     "outputs": [],
     "prompt_number": 71
    },
    {
     "cell_type": "code",
     "collapsed": false,
     "input": [],
     "language": "python",
     "metadata": {},
     "outputs": []
    }
   ],
   "metadata": {}
  }
 ]
}