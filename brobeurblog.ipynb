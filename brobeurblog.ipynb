{
 "metadata": {
  "name": "",
  "signature": "sha256:c7d51c1dee118cc937e8500f06877eb40bc1d5a73c2cf5c623c4241cede19b29"
 },
 "nbformat": 3,
 "nbformat_minor": 0,
 "worksheets": [
  {
   "cells": [
    {
     "cell_type": "markdown",
     "metadata": {},
     "source": [
      "BroBeur Studios Blog\n",
      "\n",
      "This is similar to the artcontrolme script but it deals with BroBeur Studios posts\n"
     ]
    },
    {
     "cell_type": "code",
     "collapsed": false,
     "input": [
      "import random"
     ],
     "language": "python",
     "metadata": {},
     "outputs": [],
     "prompt_number": 39
    },
    {
     "cell_type": "code",
     "collapsed": false,
     "input": [
      "import os"
     ],
     "language": "python",
     "metadata": {},
     "outputs": [],
     "prompt_number": 40
    },
    {
     "cell_type": "code",
     "collapsed": false,
     "input": [
      "bropo = ('/home/wcmckee/brobeur-web/posts')"
     ],
     "language": "python",
     "metadata": {},
     "outputs": [],
     "prompt_number": 41
    },
    {
     "cell_type": "code",
     "collapsed": false,
     "input": [
      "os.chdir(bropo)"
     ],
     "language": "python",
     "metadata": {},
     "outputs": [],
     "prompt_number": 42
    },
    {
     "cell_type": "code",
     "collapsed": false,
     "input": [
      "wplis = []"
     ],
     "language": "python",
     "metadata": {},
     "outputs": [],
     "prompt_number": 43
    },
    {
     "cell_type": "code",
     "collapsed": false,
     "input": [
      "for fil in os.listdir(bropo):\n",
      "    print fil\n",
      "    wplis.append(fil)"
     ],
     "language": "python",
     "metadata": {},
     "outputs": [
      {
       "output_type": "stream",
       "stream": "stdout",
       "text": [
        "bc-conceptdraw.meta\n",
        "89.wp\n",
        "birdcage-platform-game-0-1-0-2.wp\n",
        "digital-paintings-created-with-sketchbook-and-gimp.meta\n",
        "pari-noon-nightmare.meta\n",
        "triger-molyjam-2013.meta\n",
        "169.meta\n",
        "prodo-gpc1.wp\n",
        "hell-earth.meta\n",
        "start-gpcv17-ideas.meta\n",
        "suburbnightmare-screenshots.wp\n",
        "surreal-warp-nightmare.meta\n",
        "digital-paintings-created-with-sketchbook-and-gimp.wp\n",
        "prodo-gpc1.meta\n",
        "155.meta\n",
        "shark-nightmare.meta\n",
        "155.wp\n",
        "site-logo-paintings-prodo-git.wp\n",
        "136.wp\n",
        "post-mortem-hell-earth.meta\n",
        "aux-jan-0-6.meta\n",
        "surreal-warp-nightmare.wp\n",
        "aux-jan-game.meta\n",
        "maya-api.meta\n",
        "python-reddit-json.meta\n",
        "17.meta\n",
        "marchadventure.wp\n",
        "party-noon-nightmare-prototype-build.wp\n",
        "90.wp\n",
        "black-bars-and-text-suburb-nightmare.wp\n",
        "136.meta\n",
        "start-gpcv17-ideas.wp\n",
        "november-2013-game-dev-meet-up.meta\n",
        "playformfeb-v1-web.meta\n",
        "auxjan-to-auxjune.meta\n",
        "python-reddit-json.wp\n",
        "murder-simulation-2013.meta\n",
        "7drts-challenge-ideas.wp\n",
        "29.wp\n",
        "7drts-challenge-ideas.meta\n",
        "sim-prototype-idea-1.wp\n",
        "692.meta\n",
        "redditgetsdrawn-tiggyvashti7.wp\n",
        "duck.meta\n",
        "514.wp\n",
        "twitter-notes-on-game-development.wp\n",
        "site-logo-paintings-prodo-git.meta\n",
        "523.wp\n",
        "birdfice-apk.wp\n",
        "25.meta\n",
        "pari-noon-nightmare.wp\n",
        "98.wp\n",
        "triger.meta\n",
        "spotwalker-ld48-first-3-hours.meta\n",
        "692.wp\n",
        "maya-api.wp\n",
        "gameboy-jam-warmup-cafrin.wp\n",
        "fishing-dream-modding.meta\n",
        "fishing-dream-modding.wp\n",
        "491.meta\n",
        "auxjonem.wp\n",
        "twitter-notes-on-game-development-2.wp\n",
        "169.wp\n",
        "404.wp\n",
        "birdcage-platform-game-0-1-0-2.meta\n",
        "november-2013-game-dev-meet-up.wp\n",
        "marchadventure.meta\n",
        "development-slow.meta\n",
        "twitter-notes-on-game-development-2.meta\n",
        "11.wp\n",
        "166.wp\n",
        "166.meta\n",
        "shark-nightmare.wp\n",
        "hell-earth.wp\n",
        "imagamer-ca.wp\n",
        "429.meta\n",
        "birdfice-apk.meta\n",
        "cathern-interface-2.meta\n",
        "137.wp\n",
        "prodo-island-project-new.meta\n",
        "cathern-interface.wp\n",
        "shark-nightmare-screenshots.meta\n",
        "maya-python-classes-development.meta\n",
        "297.meta\n",
        "hell-earth-2.meta\n",
        "prodo-island-project-new.wp\n",
        "429.wp\n",
        "skins-wire-python-image-library.wp\n",
        "auxjonem.meta\n",
        "hell-earth-2.wp\n",
        "black-bars-and-text-suburb-nightmare.meta\n",
        "triger.wp\n",
        "170.wp\n",
        "brobeur-studios-prodo-island-game-development-notes.wp\n",
        "523.meta\n",
        "spotwalker-0-1-build.meta"
       ]
      },
      {
       "output_type": "stream",
       "stream": "stdout",
       "text": [
        "\n",
        "dune-0-1.meta\n",
        "dune-0-1.wp\n",
        "aux-jan-0-6.wp\n",
        "gameboy-jam-warmup-cafrin.meta\n",
        "spotwalker-ld48-first-3-hours.wp\n",
        "491.wp\n",
        "auxjan-to-auxjune.wp\n",
        "sim-prototype-idea-1.meta\n",
        "suburbnightmare-screenshots.meta\n",
        "post-mortem-hell-earth.wp\n",
        "imagamer-ca.meta\n",
        "cathern-interface-2.wp\n",
        "170.meta\n",
        "lightout-character-3d-assets.wp\n",
        "party-noon-nightmare-prototype-build.meta\n",
        "black-cat-fishing-jam.meta\n",
        "452.wp\n",
        "154.meta\n",
        "297.wp\n",
        "154.wp\n",
        "lightout-character-3d-assets.meta\n",
        "11.meta\n",
        "9.meta\n",
        "marchgame-v0-1.meta\n",
        "shark-nightmare-screenshots.wp\n",
        "29.meta\n",
        "black-cat-fishing-jam.wp\n",
        "iamagamer-envior-concept-art-plus-model.meta\n",
        "maya-python-and-party-moon-nightmare-screenshots.wp\n",
        "452.meta\n",
        "514.meta\n",
        "9.wp\n",
        "bc-conceptdraw.wp\n",
        "25.wp\n",
        "murder-simulation-2013.wp\n",
        "404.meta\n",
        "maya-python-classes-development.wp\n",
        "90.meta\n",
        "playformfeb-v1-web.wp\n",
        "brobeur-studios-prodo-island-game-development-notes.meta\n",
        "137.meta\n",
        "twitter-notes-on-game-development.meta\n",
        "development-slow.wp\n",
        "marchgame-v0-1.wp\n",
        "17.wp\n",
        "cathern-interface.meta\n",
        "aux-jan-game.wp\n",
        "89.meta\n",
        "duck.wp\n",
        "redditgetsdrawn-tiggyvashti7.meta\n",
        "98.meta\n",
        "iamagamer-envior-concept-art-plus-model.wp\n",
        "triger-molyjam-2013.wp\n",
        "spotwalker-0-1-build.wp\n",
        "maya-python-and-party-moon-nightmare-screenshots.meta\n",
        "skins-wire-python-image-library.meta\n"
       ]
      }
     ],
     "prompt_number": 44
    },
    {
     "cell_type": "code",
     "collapsed": false,
     "input": [
      "metlis = []"
     ],
     "language": "python",
     "metadata": {},
     "outputs": [],
     "prompt_number": 45
    },
    {
     "cell_type": "code",
     "collapsed": true,
     "input": [
      "for wp in wplis:\n",
      "    if '.meta' in wp:\n",
      "        metlis.append(wp)"
     ],
     "language": "python",
     "metadata": {},
     "outputs": [],
     "prompt_number": 46
    },
    {
     "cell_type": "code",
     "collapsed": false,
     "input": [
      "alldic = []"
     ],
     "language": "python",
     "metadata": {},
     "outputs": [],
     "prompt_number": 47
    },
    {
     "cell_type": "code",
     "collapsed": false,
     "input": [
      "for mea in metlis:\n",
      "    file = open(mea, 'r')\n",
      "    metaf = file.readlines()\n",
      "    chzdir = {metaf[2]: metaf[1]}#, file.readline()}\n",
      "    print chzdir\n",
      "    alldic.append(chzdir)"
     ],
     "language": "python",
     "metadata": {},
     "outputs": [
      {
       "output_type": "stream",
       "stream": "stdout",
       "text": [
        "{'2013-08-03 21:49:47\\n': 'bc-conceptdraw\\n'}\n",
        "{'2013-04-02 21:33:18\\n': 'digital-paintings-created-with-sketchbook-and-gimp\\n'}\n",
        "{'2013-11-10 13:52:42\\n': 'pari-noon-nightmare\\n'}\n",
        "{'2013-07-07 12:32:10\\n': 'triger-molyjam-2013\\n'}\n",
        "{'2013-04-15 10:48:08\\n': '169\\n'}\n",
        "{'2013-08-12 16:11:58\\n': 'hell-earth\\n'}\n",
        "{'2013-04-09 19:02:21\\n': 'start-gpcv17-ideas\\n'}\n",
        "{'2013-06-10 21:46:50\\n': 'surreal-warp-nightmare\\n'}\n",
        "{'2013-04-16 18:47:04\\n': 'prodo-gpc1\\n'}\n",
        "{'2013-04-15 02:17:47\\n': '155\\n'}\n",
        "{'2013-11-04 00:22:06\\n': 'shark-nightmare\\n'}\n",
        "{'2013-08-20 23:31:23\\n': 'post-mortem-hell-earth\\n'}\n",
        "{'2013-04-26 12:27:10\\n': 'aux-jan-0-6\\n'}\n",
        "{'2013-04-03 07:52:35\\n': 'aux-jan-game\\n'}\n",
        "{'2013-11-16 17:42:27\\n': 'maya-api\\n'}\n",
        "{'2013-04-04 10:08:10\\n': 'python-reddit-json\\n'}\n",
        "{'2013-04-02 18:41:03\\n': '17\\n'}\n",
        "{'2013-04-13 11:55:02\\n': '136\\n'}\n",
        "{'2013-11-10 09:25:25\\n': 'november-2013-game-dev-meet-up\\n'}"
       ]
      },
      {
       "output_type": "stream",
       "stream": "stdout",
       "text": [
        "\n",
        "{'2013-04-07 15:25:17\\n': 'playformfeb-v1-web\\n'}\n",
        "{'2013-06-23 19:44:59\\n': 'auxjan-to-auxjune\\n'}\n",
        "{'2013-08-09 12:33:00\\n': 'murder-simulation-2013\\n'}\n",
        "{'2013-07-17 07:07:19\\n': '7drts-challenge-ideas\\n'}\n",
        "{'2013-12-17 16:02:50\\n': '692\\n'}\n",
        "{'2013-04-04 16:22:45\\n': 'duck\\n'}\n",
        "{'2013-04-14 00:52:51\\n': 'site-logo-paintings-prodo-git\\n'}\n",
        "{'2013-04-02 20:23:41\\n': '25\\n'}\n",
        "{'2013-07-07 03:22:12\\n': 'triger\\n'}\n",
        "{'2013-04-27 17:34:34\\n': 'spotwalker-ld48-first-3-hours\\n'}\n",
        "{'2013-06-02 06:12:48\\n': 'fishing-dream-modding\\n'}\n",
        "{'2013-11-03 15:18:04\\n': '491\\n'}\n",
        "{'2013-05-06 21:08:12\\n': 'birdcage-platform-game-0-1-0-2\\n'}\n",
        "{'2013-04-07 01:23:19\\n': 'marchadventure\\n'}\n",
        "{'2013-04-12 21:23:43\\n': 'development-slow\\n'}\n",
        "{'2013-04-04 12:42:21\\n': 'twitter-notes-on-game-development-2\\n'}\n",
        "{'2013-04-15 10:34:06\\n': '166\\n'}\n",
        "{'2013-07-30 01:49:59\\n': '429\\n'}\n",
        "{'2013-05-11 20:03:37\\n': 'birdfice-apk\\n'}\n",
        "{'2013-06-19 19:11:31\\n': 'cathern-interface-2\\n'}\n",
        "{'2013-04-13 10:43:10\\n': 'prodo-island-project-new\\n'}\n",
        "{'2013-11-11 13:53:12\\n': 'shark-nightmare-screenshots\\n'}"
       ]
      },
      {
       "output_type": "stream",
       "stream": "stdout",
       "text": [
        "\n",
        "{'2013-11-17 23:06:53\\n': 'maya-python-classes-development\\n'}\n",
        "{'2013-06-10 15:14:32\\n': '297\\n'}\n",
        "{'2013-08-12 23:46:19\\n': 'hell-earth-2\\n'}\n",
        "{'2013-06-24 07:48:18\\n': 'auxjonem\\n'}\n",
        "{'2013-12-11 11:45:42\\n': 'black-bars-and-text-suburb-nightmare\\n'}\n",
        "{'2013-11-14 19:52:33\\n': '523\\n'}\n",
        "{'2013-04-28 02:39:48\\n': 'spotwalker-0-1-build\\n'}\n",
        "{'2013-05-19 14:31:51\\n': 'dune-0-1\\n'}\n",
        "{'2013-07-05 04:59:10\\n': 'gameboy-jam-warmup-cafrin\\n'}\n",
        "{'2013-04-12 21:44:50\\n': 'sim-prototype-idea-1\\n'}\n",
        "{'2013-07-14 11:35:39\\n': 'suburbnightmare-screenshots\\n'}\n",
        "{'2013-07-12 09:23:42\\n': 'imagamer-ca\\n'}\n",
        "{'2013-04-16 17:23:59\\n': '170\\n'}\n",
        "{'2013-11-11 20:01:01\\n': 'party-noon-nightmare-prototype-build\\n'}\n",
        "{'2013-05-31 06:43:55\\n': 'black-cat-fishing-jam\\n'}\n",
        "{'2013-04-14 13:06:52\\n': '154\\n'}\n",
        "{'2013-06-09 20:14:49\\n': 'lightout-character-3d-assets\\n'}\n",
        "{'2013-04-02 17:52:40\\n': '11\\n'}\n",
        "{'2013-03-31 21:46:42\\n': '9\\n'}\n",
        "{'2013-04-03 13:22:37\\n': 'marchgame-v0-1\\n'}\n",
        "{'2013-04-02 21:03:56\\n': '29\\n'}\n",
        "{'2013-07-12 13:03:18\\n': 'iamagamer-envior-concept-art-plus-model\\n'}"
       ]
      },
      {
       "output_type": "stream",
       "stream": "stdout",
       "text": [
        "\n",
        "{'2013-08-12 04:28:38\\n': '452\\n'}\n",
        "{'2013-11-11 12:40:56\\n': '514\\n'}\n",
        "{'2013-07-12 23:21:40\\n': '404\\n'}\n",
        "{'2013-04-09 11:35:20\\n': '90\\n'}\n",
        "{'2013-04-11 11:47:49\\n': 'brobeur-studios-prodo-island-game-development-notes\\n'}\n",
        "{'2013-04-13 13:32:53\\n': '137\\n'}\n",
        "{'2013-04-04 12:42:21\\n': 'twitter-notes-on-game-development\\n'}\n",
        "{'2013-06-18 13:21:33\\n': 'cathern-interface\\n'}\n",
        "{'2013-04-08 04:47:20\\n': '89\\n'}\n",
        "{'2013-04-04 18:28:40\\n': 'redditgetsdrawn-tiggyvashti7\\n'}\n",
        "{'2013-04-10 17:51:48\\n': '98\\n'}\n",
        "{'2013-11-16 14:08:08\\n': 'maya-python-and-party-moon-nightmare-screenshots\\n'}\n",
        "{'2013-12-10 12:22:59\\n': 'skins-wire-python-image-library\\n'}\n"
       ]
      }
     ],
     "prompt_number": 48
    },
    {
     "cell_type": "code",
     "collapsed": false,
     "input": [
      "chzdir"
     ],
     "language": "python",
     "metadata": {},
     "outputs": [
      {
       "metadata": {},
       "output_type": "pyout",
       "prompt_number": 49,
       "text": [
        "{'2013-12-10 12:22:59\\n': 'skins-wire-python-image-library\\n'}"
       ]
      }
     ],
     "prompt_number": 49
    },
    {
     "cell_type": "code",
     "collapsed": false,
     "input": [
      "for al in alldic:\n",
      "    print al"
     ],
     "language": "python",
     "metadata": {},
     "outputs": [
      {
       "output_type": "stream",
       "stream": "stdout",
       "text": [
        "{'2013-08-03 21:49:47\\n': 'bc-conceptdraw\\n'}\n",
        "{'2013-04-02 21:33:18\\n': 'digital-paintings-created-with-sketchbook-and-gimp\\n'}\n",
        "{'2013-11-10 13:52:42\\n': 'pari-noon-nightmare\\n'}\n",
        "{'2013-07-07 12:32:10\\n': 'triger-molyjam-2013\\n'}\n",
        "{'2013-04-15 10:48:08\\n': '169\\n'}\n",
        "{'2013-08-12 16:11:58\\n': 'hell-earth\\n'}\n",
        "{'2013-04-09 19:02:21\\n': 'start-gpcv17-ideas\\n'}\n",
        "{'2013-06-10 21:46:50\\n': 'surreal-warp-nightmare\\n'}\n",
        "{'2013-04-16 18:47:04\\n': 'prodo-gpc1\\n'}\n",
        "{'2013-04-15 02:17:47\\n': '155\\n'}\n",
        "{'2013-11-04 00:22:06\\n': 'shark-nightmare\\n'}\n",
        "{'2013-08-20 23:31:23\\n': 'post-mortem-hell-earth\\n'}\n",
        "{'2013-04-26 12:27:10\\n': 'aux-jan-0-6\\n'}\n",
        "{'2013-04-03 07:52:35\\n': 'aux-jan-game\\n'}\n",
        "{'2013-11-16 17:42:27\\n': 'maya-api\\n'}\n",
        "{'2013-04-04 10:08:10\\n': 'python-reddit-json\\n'}\n",
        "{'2013-04-02 18:41:03\\n': '17\\n'}\n",
        "{'2013-04-13 11:55:02\\n': '136\\n'}\n",
        "{'2013-11-10 09:25:25\\n': 'november-2013-game-dev-meet-up\\n'}\n",
        "{'2013-04-07 15:25:17\\n': 'playformfeb-v1-web\\n'}\n",
        "{'2013-06-23 19:44:59\\n': 'auxjan-to-auxjune\\n'}\n",
        "{'2013-08-09 12:33:00\\n': 'murder-simulation-2013\\n'}\n",
        "{'2013-07-17 07:07:19\\n': '7drts-challenge-ideas\\n'}\n",
        "{'2013-12-17 16:02:50\\n': '692\\n'}\n",
        "{'2013-04-04 16:22:45\\n': 'duck\\n'}\n",
        "{'2013-04-14 00:52:51\\n': 'site-logo-paintings-prodo-git\\n'}\n",
        "{'2013-04-02 20:23:41\\n': '25\\n'}\n",
        "{'2013-07-07 03:22:12\\n': 'triger\\n'}\n",
        "{'2013-04-27 17:34:34\\n': 'spotwalker-ld48-first-3-hours\\n'}\n",
        "{'2013-06-02 06:12:48\\n': 'fishing-dream-modding\\n'}\n",
        "{'2013-11-03 15:18:04\\n': '491\\n'}\n",
        "{'2013-05-06 21:08:12\\n': 'birdcage-platform-game-0-1-0-2\\n'}\n",
        "{'2013-04-07 01:23:19\\n': 'marchadventure\\n'}\n",
        "{'2013-04-12 21:23:43\\n': 'development-slow\\n'}\n",
        "{'2013-04-04 12:42:21\\n': 'twitter-notes-on-game-development-2\\n'}\n",
        "{'2013-04-15 10:34:06\\n': '166\\n'}\n",
        "{'2013-07-30 01:49:59\\n': '429\\n'}\n",
        "{'2013-05-11 20:03:37\\n': 'birdfice-apk\\n'}\n",
        "{'2013-06-19 19:11:31\\n': 'cathern-interface-2\\n'}\n",
        "{'2013-04-13 10:43:10\\n': 'prodo-island-project-new\\n'}\n",
        "{'2013-11-11 13:53:12\\n': 'shark-nightmare-screenshots\\n'}\n",
        "{'2013-11-17 23:06:53\\n': 'maya-python-classes-development\\n'}\n",
        "{'2013-06-10 15:14:32\\n': '297\\n'}\n",
        "{'2013-08-12 23:46:19\\n': 'hell-earth-2\\n'}\n",
        "{'2013-06-24 07:48:18\\n': 'auxjonem\\n'}\n",
        "{'2013-12-11 11:45:42\\n': 'black-bars-and-text-suburb-nightmare\\n'}\n",
        "{'2013-11-14 19:52:33\\n': '523\\n'}\n",
        "{'2013-04-28 02:39:48\\n': 'spotwalker-0-1-build\\n'}\n",
        "{'2013-05-19 14:31:51\\n': 'dune-0-1\\n'}\n",
        "{'2013-07-05 04:59:10\\n': 'gameboy-jam-warmup-cafrin\\n'}\n",
        "{'2013-04-12 21:44:50\\n': 'sim-prototype-idea-1\\n'}\n",
        "{'2013-07-14 11:35:39\\n': 'suburbnightmare-screenshots\\n'}\n",
        "{'2013-07-12 09:23:42\\n': 'imagamer-ca\\n'}\n",
        "{'2013-04-16 17:23:59\\n': '170\\n'}\n",
        "{'2013-11-11 20:01:01\\n': 'party-noon-nightmare-prototype-build\\n'}\n"
       ]
      },
      {
       "output_type": "stream",
       "stream": "stdout",
       "text": [
        "{'2013-05-31 06:43:55\\n': 'black-cat-fishing-jam\\n'}\n",
        "{'2013-04-14 13:06:52\\n': '154\\n'}\n",
        "{'2013-06-09 20:14:49\\n': 'lightout-character-3d-assets\\n'}\n",
        "{'2013-04-02 17:52:40\\n': '11\\n'}\n",
        "{'2013-03-31 21:46:42\\n': '9\\n'}\n",
        "{'2013-04-03 13:22:37\\n': 'marchgame-v0-1\\n'}\n",
        "{'2013-04-02 21:03:56\\n': '29\\n'}\n",
        "{'2013-07-12 13:03:18\\n': 'iamagamer-envior-concept-art-plus-model\\n'}\n",
        "{'2013-08-12 04:28:38\\n': '452\\n'}\n",
        "{'2013-11-11 12:40:56\\n': '514\\n'}\n",
        "{'2013-07-12 23:21:40\\n': '404\\n'}\n",
        "{'2013-04-09 11:35:20\\n': '90\\n'}\n",
        "{'2013-04-11 11:47:49\\n': 'brobeur-studios-prodo-island-game-development-notes\\n'}\n",
        "{'2013-04-13 13:32:53\\n': '137\\n'}\n",
        "{'2013-04-04 12:42:21\\n': 'twitter-notes-on-game-development\\n'}\n",
        "{'2013-06-18 13:21:33\\n': 'cathern-interface\\n'}\n",
        "{'2013-04-08 04:47:20\\n': '89\\n'}\n",
        "{'2013-04-04 18:28:40\\n': 'redditgetsdrawn-tiggyvashti7\\n'}\n",
        "{'2013-04-10 17:51:48\\n': '98\\n'}\n",
        "{'2013-11-16 14:08:08\\n': 'maya-python-and-party-moon-nightmare-screenshots\\n'}\n",
        "{'2013-12-10 12:22:59\\n': 'skins-wire-python-image-library\\n'}\n"
       ]
      }
     ],
     "prompt_number": 50
    },
    {
     "cell_type": "code",
     "collapsed": false,
     "input": [
      "tiran = len(alldic)"
     ],
     "language": "python",
     "metadata": {},
     "outputs": [],
     "prompt_number": 51
    },
    {
     "cell_type": "code",
     "collapsed": false,
     "input": [
      "ranit = random.randint(0, tiran)"
     ],
     "language": "python",
     "metadata": {},
     "outputs": [],
     "prompt_number": 52
    },
    {
     "cell_type": "code",
     "collapsed": false,
     "input": [
      "ranit"
     ],
     "language": "python",
     "metadata": {},
     "outputs": [
      {
       "metadata": {},
       "output_type": "pyout",
       "prompt_number": 53,
       "text": [
        "4"
       ]
      }
     ],
     "prompt_number": 53
    },
    {
     "cell_type": "code",
     "collapsed": false,
     "input": [
      "#from random import shuffle\n",
      "#x = [[i] for i in alldic:\n",
      "#    random.shuffle(x)"
     ],
     "language": "python",
     "metadata": {},
     "outputs": [],
     "prompt_number": 54
    },
    {
     "cell_type": "code",
     "collapsed": false,
     "input": [
      "from random import shuffle"
     ],
     "language": "python",
     "metadata": {},
     "outputs": [],
     "prompt_number": 55
    },
    {
     "cell_type": "code",
     "collapsed": false,
     "input": [
      "shuffle(alldic)"
     ],
     "language": "python",
     "metadata": {},
     "outputs": [],
     "prompt_number": 56
    },
    {
     "cell_type": "code",
     "collapsed": false,
     "input": [
      "alldic"
     ],
     "language": "python",
     "metadata": {},
     "outputs": [
      {
       "metadata": {},
       "output_type": "pyout",
       "prompt_number": 57,
       "text": [
        "[{'2013-12-17 16:02:50\\n': '692\\n'},\n",
        " {'2013-04-04 12:42:21\\n': 'twitter-notes-on-game-development\\n'},\n",
        " {'2013-06-02 06:12:48\\n': 'fishing-dream-modding\\n'},\n",
        " {'2013-04-27 17:34:34\\n': 'spotwalker-ld48-first-3-hours\\n'},\n",
        " {'2013-04-02 21:03:56\\n': '29\\n'},\n",
        " {'2013-06-23 19:44:59\\n': 'auxjan-to-auxjune\\n'},\n",
        " {'2013-07-17 07:07:19\\n': '7drts-challenge-ideas\\n'},\n",
        " {'2013-06-19 19:11:31\\n': 'cathern-interface-2\\n'},\n",
        " {'2013-04-04 18:28:40\\n': 'redditgetsdrawn-tiggyvashti7\\n'},\n",
        " {'2013-12-10 12:22:59\\n': 'skins-wire-python-image-library\\n'},\n",
        " {'2013-04-08 04:47:20\\n': '89\\n'},\n",
        " {'2013-04-16 17:23:59\\n': '170\\n'},\n",
        " {'2013-04-04 10:08:10\\n': 'python-reddit-json\\n'},\n",
        " {'2013-04-02 21:33:18\\n': 'digital-paintings-created-with-sketchbook-and-gimp\\n'},\n",
        " {'2013-04-04 16:22:45\\n': 'duck\\n'},\n",
        " {'2013-06-18 13:21:33\\n': 'cathern-interface\\n'},\n",
        " {'2013-05-19 14:31:51\\n': 'dune-0-1\\n'},\n",
        " {'2013-07-07 12:32:10\\n': 'triger-molyjam-2013\\n'},\n",
        " {'2013-08-03 21:49:47\\n': 'bc-conceptdraw\\n'},\n",
        " {'2013-03-31 21:46:42\\n': '9\\n'},\n",
        " {'2013-04-09 19:02:21\\n': 'start-gpcv17-ideas\\n'},\n",
        " {'2013-05-31 06:43:55\\n': 'black-cat-fishing-jam\\n'},\n",
        " {'2013-11-16 14:08:08\\n': 'maya-python-and-party-moon-nightmare-screenshots\\n'},\n",
        " {'2013-08-09 12:33:00\\n': 'murder-simulation-2013\\n'},\n",
        " {'2013-04-15 10:34:06\\n': '166\\n'},\n",
        " {'2013-04-11 11:47:49\\n': 'brobeur-studios-prodo-island-game-development-notes\\n'},\n",
        " {'2013-04-15 02:17:47\\n': '155\\n'},\n",
        " {'2013-04-07 01:23:19\\n': 'marchadventure\\n'},\n",
        " {'2013-04-13 13:32:53\\n': '137\\n'},\n",
        " {'2013-04-03 13:22:37\\n': 'marchgame-v0-1\\n'},\n",
        " {'2013-04-13 10:43:10\\n': 'prodo-island-project-new\\n'},\n",
        " {'2013-11-11 12:40:56\\n': '514\\n'},\n",
        " {'2013-11-10 09:25:25\\n': 'november-2013-game-dev-meet-up\\n'},\n",
        " {'2013-04-02 17:52:40\\n': '11\\n'},\n",
        " {'2013-04-03 07:52:35\\n': 'aux-jan-game\\n'},\n",
        " {'2013-07-05 04:59:10\\n': 'gameboy-jam-warmup-cafrin\\n'},\n",
        " {'2013-06-24 07:48:18\\n': 'auxjonem\\n'},\n",
        " {'2013-04-12 21:44:50\\n': 'sim-prototype-idea-1\\n'},\n",
        " {'2013-07-30 01:49:59\\n': '429\\n'},\n",
        " {'2013-04-13 11:55:02\\n': '136\\n'},\n",
        " {'2013-04-28 02:39:48\\n': 'spotwalker-0-1-build\\n'},\n",
        " {'2013-11-03 15:18:04\\n': '491\\n'},\n",
        " {'2013-04-12 21:23:43\\n': 'development-slow\\n'},\n",
        " {'2013-11-14 19:52:33\\n': '523\\n'},\n",
        " {'2013-08-20 23:31:23\\n': 'post-mortem-hell-earth\\n'},\n",
        " {'2013-11-04 00:22:06\\n': 'shark-nightmare\\n'},\n",
        " {'2013-04-02 20:23:41\\n': '25\\n'},\n",
        " {'2013-04-09 11:35:20\\n': '90\\n'},\n",
        " {'2013-04-04 12:42:21\\n': 'twitter-notes-on-game-development-2\\n'},\n",
        " {'2013-11-11 13:53:12\\n': 'shark-nightmare-screenshots\\n'},\n",
        " {'2013-04-26 12:27:10\\n': 'aux-jan-0-6\\n'},\n",
        " {'2013-08-12 04:28:38\\n': '452\\n'},\n",
        " {'2013-11-16 17:42:27\\n': 'maya-api\\n'},\n",
        " {'2013-07-07 03:22:12\\n': 'triger\\n'},\n",
        " {'2013-06-10 15:14:32\\n': '297\\n'},\n",
        " {'2013-05-11 20:03:37\\n': 'birdfice-apk\\n'},\n",
        " {'2013-05-06 21:08:12\\n': 'birdcage-platform-game-0-1-0-2\\n'},\n",
        " {'2013-04-02 18:41:03\\n': '17\\n'},\n",
        " {'2013-07-12 13:03:18\\n': 'iamagamer-envior-concept-art-plus-model\\n'},\n",
        " {'2013-04-14 13:06:52\\n': '154\\n'},\n",
        " {'2013-11-10 13:52:42\\n': 'pari-noon-nightmare\\n'},\n",
        " {'2013-12-11 11:45:42\\n': 'black-bars-and-text-suburb-nightmare\\n'},\n",
        " {'2013-06-09 20:14:49\\n': 'lightout-character-3d-assets\\n'},\n",
        " {'2013-11-11 20:01:01\\n': 'party-noon-nightmare-prototype-build\\n'},\n",
        " {'2013-04-10 17:51:48\\n': '98\\n'},\n",
        " {'2013-04-07 15:25:17\\n': 'playformfeb-v1-web\\n'},\n",
        " {'2013-07-14 11:35:39\\n': 'suburbnightmare-screenshots\\n'},\n",
        " {'2013-11-17 23:06:53\\n': 'maya-python-classes-development\\n'},\n",
        " {'2013-08-12 16:11:58\\n': 'hell-earth\\n'},\n",
        " {'2013-04-16 18:47:04\\n': 'prodo-gpc1\\n'},\n",
        " {'2013-07-12 09:23:42\\n': 'imagamer-ca\\n'},\n",
        " {'2013-04-15 10:48:08\\n': '169\\n'},\n",
        " {'2013-07-12 23:21:40\\n': '404\\n'},\n",
        " {'2013-08-12 23:46:19\\n': 'hell-earth-2\\n'},\n",
        " {'2013-06-10 21:46:50\\n': 'surreal-warp-nightmare\\n'},\n",
        " {'2013-04-14 00:52:51\\n': 'site-logo-paintings-prodo-git\\n'}]"
       ]
      }
     ],
     "prompt_number": 57
    },
    {
     "cell_type": "code",
     "collapsed": false,
     "input": [
      "randiz = alldic[ranit]"
     ],
     "language": "python",
     "metadata": {},
     "outputs": [],
     "prompt_number": 58
    },
    {
     "cell_type": "code",
     "collapsed": false,
     "input": [
      "randiz"
     ],
     "language": "python",
     "metadata": {},
     "outputs": [
      {
       "metadata": {},
       "output_type": "pyout",
       "prompt_number": 59,
       "text": [
        "{'2013-04-02 21:03:56\\n': '29\\n'}"
       ]
      }
     ],
     "prompt_number": 59
    },
    {
     "cell_type": "code",
     "collapsed": false,
     "input": [
      "razdiz = randiz.keys()"
     ],
     "language": "python",
     "metadata": {},
     "outputs": [],
     "prompt_number": 60
    },
    {
     "cell_type": "code",
     "collapsed": false,
     "input": [
      "randaz = randiz.values()"
     ],
     "language": "python",
     "metadata": {},
     "outputs": [],
     "prompt_number": 61
    },
    {
     "cell_type": "code",
     "collapsed": false,
     "input": [
      "for itez in randaz:\n",
      "    print itez + '.wp'\n",
      "    str2 = itez.replace(\"\\n\", \"\")\n",
      "    tafilz = str2 + '.wp'"
     ],
     "language": "python",
     "metadata": {},
     "outputs": [
      {
       "output_type": "stream",
       "stream": "stdout",
       "text": [
        "29\n",
        ".wp\n"
       ]
      }
     ],
     "prompt_number": 62
    },
    {
     "cell_type": "code",
     "collapsed": false,
     "input": [
      "tafilz"
     ],
     "language": "python",
     "metadata": {},
     "outputs": [
      {
       "metadata": {},
       "output_type": "pyout",
       "prompt_number": 63,
       "text": [
        "'29.wp'"
       ]
      }
     ],
     "prompt_number": 63
    },
    {
     "cell_type": "code",
     "collapsed": false,
     "input": [
      "bldat = open((tafilz), 'r')\n"
     ],
     "language": "python",
     "metadata": {},
     "outputs": [],
     "prompt_number": 64
    },
    {
     "cell_type": "code",
     "collapsed": false,
     "input": [
      "blogread = bldat.read()"
     ],
     "language": "python",
     "metadata": {},
     "outputs": [],
     "prompt_number": 65
    },
    {
     "cell_type": "code",
     "collapsed": false,
     "input": [
      "blogwra = blogread.upper()"
     ],
     "language": "python",
     "metadata": {},
     "outputs": [],
     "prompt_number": 66
    },
    {
     "cell_type": "code",
     "collapsed": false,
     "input": [
      "blogstr = str(blogwra)"
     ],
     "language": "python",
     "metadata": {},
     "outputs": [],
     "prompt_number": 67
    },
    {
     "cell_type": "code",
     "collapsed": false,
     "input": [
      "blogstr"
     ],
     "language": "python",
     "metadata": {},
     "outputs": [
      {
       "metadata": {},
       "output_type": "pyout",
       "prompt_number": 68,
       "text": [
        "'<HTML>\\n\\n<BODY>\\n\\n\\n\\n<CANVAS ID=\"MYCANVAS\" WIDTH=\"512\" HEIGHT=\"48\" STYLE=\"BORDER:1PX SOLID #C3C3C3;\">\\n\\nYOUR BROWSER DOES NOT SUPPORT THE HTML5 CANVAS TAG.\\n\\n</CANVAS>\\n\\n<TEXTAREA ROWS=\"1\" COLS=\"34\">\\n\\n-&GT; -&GT; -&GT; BROBEUR STUDIOS \\n\\n\\n\\nCONTEXT.DRAWIMAGE(IMG_ELEM, DX, DY);\\n\\n<SCRIPT>\\n\\n\\n\\nVAR C=DOCUMENT.GETELEMENTBYID(\"MYCANVAS\");\\n\\nVAR CTX=C.GETCONTEXT(\"2D\");\\n\\nCTX.FILLSTYLE=\"#B3DF2A\";\\n\\nCTX.FILLRECT(50,5,256,40);\\n\\nVAR CTD=C.GETCONTEXT(\"2D\");\\n\\nCTD.FILLSTYLE=\"#111111\";\\n\\nCTD.FILLRECT(128,10,48,24);\\n\\n\\n\\n\\n\\n</SCRIPT>\\n\\n<VIDEO WIDTH=\"512\" HEIGHT=\"512\" CONTROLS>\\n  <SOURCE SRC=\"MOVIE.MP4\" TYPE=\"VIDEO/MP4\">\\n  <SOURCE SRC=\"MOVIE.OGG\" TYPE=\"VIDEO/OGG\">\\nYOUR BROWSER DOES NOT SUPPORT THE VIDEO TAG.\\n\\n</SOURCE></SOURCE></VIDEO> \\n\\n</TEXTAREA></BODY>\\n\\n</HTML>'"
       ]
      }
     ],
     "prompt_number": 68
    },
    {
     "cell_type": "code",
     "collapsed": false,
     "input": [
      "blogread"
     ],
     "language": "python",
     "metadata": {},
     "outputs": [
      {
       "metadata": {},
       "output_type": "pyout",
       "prompt_number": 69,
       "text": [
        "'<html>\\n\\n<body>\\n\\n\\n\\n<canvas id=\"myCanvas\" width=\"512\" height=\"48\" style=\"border:1px solid #c3c3c3;\">\\n\\nYour browser does not support the HTML5 canvas tag.\\n\\n</canvas>\\n\\n<textarea rows=\"1\" cols=\"34\">\\n\\n-&gt; -&gt; -&gt; BroBeur Studios \\n\\n\\n\\ncontext.drawImage(img_elem, dx, dy);\\n\\n<script>\\n\\n\\n\\nvar c=document.getElementById(\"myCanvas\");\\n\\nvar ctx=c.getContext(\"2d\");\\n\\nctx.fillStyle=\"#b3df2a\";\\n\\nctx.fillRect(50,5,256,40);\\n\\nvar ctd=c.getContext(\"2d\");\\n\\nctd.fillStyle=\"#111111\";\\n\\nctd.fillRect(128,10,48,24);\\n\\n\\n\\n\\n\\n</script>\\n\\n<video width=\"512\" height=\"512\" controls>\\n  <source src=\"movie.mp4\" type=\"video/mp4\">\\n  <source src=\"movie.ogg\" type=\"video/ogg\">\\nYour browser does not support the video tag.\\n\\n</source></source></video> \\n\\n</textarea></body>\\n\\n</html>'"
       ]
      }
     ],
     "prompt_number": 69
    },
    {
     "cell_type": "code",
     "collapsed": false,
     "input": [
      "ixran = os.urandom(128).encode('hex')"
     ],
     "language": "python",
     "metadata": {},
     "outputs": [],
     "prompt_number": 70
    },
    {
     "cell_type": "code",
     "collapsed": false,
     "input": [
      "randiz.update({blogread: ixran})"
     ],
     "language": "python",
     "metadata": {},
     "outputs": [],
     "prompt_number": 71
    },
    {
     "cell_type": "code",
     "collapsed": false,
     "input": [
      "randiz"
     ],
     "language": "python",
     "metadata": {},
     "outputs": [
      {
       "metadata": {},
       "output_type": "pyout",
       "prompt_number": 72,
       "text": [
        "{'2013-04-02 21:03:56\\n': '29\\n',\n",
        " '<html>\\n\\n<body>\\n\\n\\n\\n<canvas id=\"myCanvas\" width=\"512\" height=\"48\" style=\"border:1px solid #c3c3c3;\">\\n\\nYour browser does not support the HTML5 canvas tag.\\n\\n</canvas>\\n\\n<textarea rows=\"1\" cols=\"34\">\\n\\n-&gt; -&gt; -&gt; BroBeur Studios \\n\\n\\n\\ncontext.drawImage(img_elem, dx, dy);\\n\\n<script>\\n\\n\\n\\nvar c=document.getElementById(\"myCanvas\");\\n\\nvar ctx=c.getContext(\"2d\");\\n\\nctx.fillStyle=\"#b3df2a\";\\n\\nctx.fillRect(50,5,256,40);\\n\\nvar ctd=c.getContext(\"2d\");\\n\\nctd.fillStyle=\"#111111\";\\n\\nctd.fillRect(128,10,48,24);\\n\\n\\n\\n\\n\\n</script>\\n\\n<video width=\"512\" height=\"512\" controls>\\n  <source src=\"movie.mp4\" type=\"video/mp4\">\\n  <source src=\"movie.ogg\" type=\"video/ogg\">\\nYour browser does not support the video tag.\\n\\n</source></source></video> \\n\\n</textarea></body>\\n\\n</html>': 'ce6c4ced141e82974ec7a8b5d91bc0bc179f63184af60f8ebbbd49482a8c12a978767ce4ec48fd603031a6dd9eb9ecd512176ba34e05010452b557117c0be032288c41d423d2996c1a1265e13dc59a3998de575be60425a2f6cc95c53f31613dd927936b62e0ad8a79637e0eef302f8f88ebaf46c0f4870a33ed94e676d3b03a'}"
       ]
      }
     ],
     "prompt_number": 72
    },
    {
     "cell_type": "code",
     "collapsed": false,
     "input": [
      "from bs4 import BeautifulSoup\n",
      "soup = BeautifulSoup(blogread)\n",
      "\n",
      "print(soup.prettify())"
     ],
     "language": "python",
     "metadata": {},
     "outputs": [
      {
       "output_type": "stream",
       "stream": "stdout",
       "text": [
        "<html>\n",
        " <body>\n",
        "  <canvas height=\"48\" id=\"myCanvas\" style=\"border:1px solid #c3c3c3;\" width=\"512\">\n",
        "   Your browser does not support the HTML5 canvas tag.\n",
        "  </canvas>\n",
        "  <textarea cols=\"34\" rows=\"1\">\n",
        "   -&gt; -&gt; -&gt; BroBeur Studios \n",
        "\n",
        "\n",
        "\n",
        "context.drawImage(img_elem, dx, dy);\n",
        "   <script>\n",
        "    var c=document.getElementById(\"myCanvas\");\n",
        "\n",
        "var ctx=c.getContext(\"2d\");\n",
        "\n",
        "ctx.fillStyle=\"#b3df2a\";\n",
        "\n",
        "ctx.fillRect(50,5,256,40);\n",
        "\n",
        "var ctd=c.getContext(\"2d\");\n",
        "\n",
        "ctd.fillStyle=\"#111111\";\n",
        "\n",
        "ctd.fillRect(128,10,48,24);\n",
        "   </script>\n",
        "   <video controls=\"\" height=\"512\" width=\"512\">\n",
        "    <source src=\"movie.mp4\" type=\"video/mp4\">\n",
        "     <source src=\"movie.ogg\" type=\"video/ogg\">\n",
        "      Your browser does not support the video tag.\n",
        "     </source>\n",
        "    </source>\n",
        "   </video>\n",
        "  </textarea>\n",
        " </body>\n",
        "</html>\n"
       ]
      }
     ],
     "prompt_number": 73
    },
    {
     "cell_type": "code",
     "collapsed": false,
     "input": [
      "soup.findAll('html')"
     ],
     "language": "python",
     "metadata": {},
     "outputs": [
      {
       "metadata": {},
       "output_type": "pyout",
       "prompt_number": 74,
       "text": [
        "[<html>\n",
        " <body>\n",
        " <canvas height=\"48\" id=\"myCanvas\" style=\"border:1px solid #c3c3c3;\" width=\"512\">\n",
        " \n",
        " Your browser does not support the HTML5 canvas tag.\n",
        " \n",
        " </canvas>\n",
        " <textarea cols=\"34\" rows=\"1\">\n",
        " \n",
        " -&gt; -&gt; -&gt; BroBeur Studios \n",
        " \n",
        " \n",
        " \n",
        " context.drawImage(img_elem, dx, dy);\n",
        " \n",
        " <script>\n",
        " \n",
        " \n",
        " \n",
        " var c=document.getElementById(\"myCanvas\");\n",
        " \n",
        " var ctx=c.getContext(\"2d\");\n",
        " \n",
        " ctx.fillStyle=\"#b3df2a\";\n",
        " \n",
        " ctx.fillRect(50,5,256,40);\n",
        " \n",
        " var ctd=c.getContext(\"2d\");\n",
        " \n",
        " ctd.fillStyle=\"#111111\";\n",
        " \n",
        " ctd.fillRect(128,10,48,24);\n",
        " \n",
        " \n",
        " \n",
        " \n",
        " \n",
        " </script>\n",
        " \n",
        " <video controls=\"\" height=\"512\" width=\"512\">\n",
        "   <source src=\"movie.mp4\" type=\"video/mp4\">\n",
        "   <source src=\"movie.ogg\" type=\"video/ogg\">\n",
        " Your browser does not support the video tag.\n",
        " \n",
        " </source></source></video> \n",
        " \n",
        " </textarea></body>\n",
        " </html>]"
       ]
      }
     ],
     "prompt_number": 74
    },
    {
     "cell_type": "code",
     "collapsed": false,
     "input": [
      "import dominate\n",
      "from dominate.tags import *\n",
      "\n",
      "doc = dominate.document(title='BroBeur Blog Post')\n",
      "\n",
      "with doc.head:\n",
      "    link(rel='stylesheet', href='style.css')\n",
      "    script(type='text/javascript', src='script.js')\n",
      "\n",
      "with doc:\n",
      "    with div(id='header').add(ol()):\n",
      "        for i in alldic[1]:\n",
      "            li(a(i.title(), href='/%s.html' % i))\n",
      "\n",
      "    with div():\n",
      "        attr(cls='body')\n",
      "        p(razdiz)\n",
      "        h1(randaz)\n",
      "        p(blogread)\n",
      "\n",
      "print doc"
     ],
     "language": "python",
     "metadata": {},
     "outputs": [
      {
       "output_type": "stream",
       "stream": "stdout",
       "text": [
        "<!DOCTYPE html>\n",
        "<html>\n",
        "  <head>\n",
        "    <title>BroBeur Blog Post</title>\n",
        "    <link href=\"style.css\" rel=\"stylesheet\">\n",
        "    <script src=\"script.js\" type=\"text/javascript\"></script>\n",
        "  </head>\n",
        "  <body>\n",
        "    <div id=\"header\">\n",
        "      <ol>\n",
        "        <li>\n",
        "          <a href=\"/2013-04-04 12:42:21\n",
        ".html\">2013-04-04 12:42:21\n",
        "</a>\n",
        "        </li>\n",
        "      </ol>\n",
        "    </div>\n",
        "    <div class=\"body\">\n",
        "      <p>2013-04-02 21:03:56\n",
        "</p>\n",
        "      <h1>29\n",
        "</h1>\n",
        "      <p>&lt;html&gt;\n",
        "\n",
        "&lt;body&gt;\n",
        "\n",
        "\n",
        "\n",
        "&lt;canvas id=&quot;myCanvas&quot; width=&quot;512&quot; height=&quot;48&quot; style=&quot;border:1px solid #c3c3c3;&quot;&gt;\n",
        "\n",
        "Your browser does not support the HTML5 canvas tag.\n",
        "\n",
        "&lt;/canvas&gt;\n",
        "\n",
        "&lt;textarea rows=&quot;1&quot; cols=&quot;34&quot;&gt;\n",
        "\n",
        "-&amp;gt; -&amp;gt; -&amp;gt; BroBeur Studios \n",
        "\n",
        "\n",
        "\n",
        "context.drawImage(img_elem, dx, dy);\n",
        "\n",
        "&lt;script&gt;\n",
        "\n",
        "\n",
        "\n",
        "var c=document.getElementById(&quot;myCanvas&quot;);\n",
        "\n",
        "var ctx=c.getContext(&quot;2d&quot;);\n",
        "\n",
        "ctx.fillStyle=&quot;#b3df2a&quot;;\n",
        "\n",
        "ctx.fillRect(50,5,256,40);\n",
        "\n",
        "var ctd=c.getContext(&quot;2d&quot;);\n",
        "\n",
        "ctd.fillStyle=&quot;#111111&quot;;\n",
        "\n",
        "ctd.fillRect(128,10,48,24);\n",
        "\n",
        "\n",
        "\n",
        "\n",
        "\n",
        "&lt;/script&gt;\n",
        "\n",
        "&lt;video width=&quot;512&quot; height=&quot;512&quot; controls&gt;\n",
        "  &lt;source src=&quot;movie.mp4&quot; type=&quot;video/mp4&quot;&gt;\n",
        "  &lt;source src=&quot;movie.ogg&quot; type=&quot;video/ogg&quot;&gt;\n",
        "Your browser does not support the video tag.\n",
        "\n",
        "&lt;/source&gt;&lt;/source&gt;&lt;/video&gt; \n",
        "\n",
        "&lt;/textarea&gt;&lt;/body&gt;\n",
        "\n",
        "&lt;/html&gt;</p>\n",
        "    </div>\n",
        "  </body>\n",
        "</html>\n"
       ]
      }
     ],
     "prompt_number": 75
    },
    {
     "cell_type": "code",
     "collapsed": false,
     "input": [
      "brobeurblogpz = ('/home/wcmckee/brobeur-blog-post')"
     ],
     "language": "python",
     "metadata": {},
     "outputs": [],
     "prompt_number": 76
    },
    {
     "cell_type": "code",
     "collapsed": false,
     "input": [
      "os.chdir(brobeurblogpz)"
     ],
     "language": "python",
     "metadata": {},
     "outputs": [],
     "prompt_number": 77
    },
    {
     "cell_type": "code",
     "collapsed": false,
     "input": [
      "wriind = open('index.html', 'w')"
     ],
     "language": "python",
     "metadata": {},
     "outputs": [],
     "prompt_number": 78
    },
    {
     "cell_type": "code",
     "collapsed": false,
     "input": [
      "wriind.write(str(doc))"
     ],
     "language": "python",
     "metadata": {},
     "outputs": [],
     "prompt_number": 79
    },
    {
     "cell_type": "code",
     "collapsed": false,
     "input": [
      "wriind.close()"
     ],
     "language": "python",
     "metadata": {},
     "outputs": [],
     "prompt_number": 80
    },
    {
     "cell_type": "code",
     "collapsed": false,
     "input": [],
     "language": "python",
     "metadata": {},
     "outputs": []
    }
   ],
   "metadata": {}
  }
 ]
}