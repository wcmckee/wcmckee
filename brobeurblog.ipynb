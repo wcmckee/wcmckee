{
 "metadata": {
  "name": "",
  "signature": "sha256:e8eb1afaafb5440ab84c5f221523185471869526053bc4f1662575eb3a52186a"
 },
 "nbformat": 3,
 "nbformat_minor": 0,
 "worksheets": [
  {
   "cells": [
    {
     "cell_type": "markdown",
     "metadata": {},
     "source": [
      "BroBeur Studios Blog\n",
      "\n",
      "This is similar to the artcontrolme script but it deals with BroBeur Studios posts\n"
     ]
    },
    {
     "cell_type": "code",
     "collapsed": false,
     "input": [
      "import os"
     ],
     "language": "python",
     "metadata": {},
     "outputs": [],
     "prompt_number": 346
    },
    {
     "cell_type": "code",
     "collapsed": false,
     "input": [
      "bropo = ('/home/wcmckee/brobeur-web/posts')"
     ],
     "language": "python",
     "metadata": {},
     "outputs": [],
     "prompt_number": 347
    },
    {
     "cell_type": "code",
     "collapsed": false,
     "input": [
      "os.chdir(bropo)"
     ],
     "language": "python",
     "metadata": {},
     "outputs": [],
     "prompt_number": 348
    },
    {
     "cell_type": "code",
     "collapsed": false,
     "input": [
      "wplis = []"
     ],
     "language": "python",
     "metadata": {},
     "outputs": [],
     "prompt_number": 349
    },
    {
     "cell_type": "code",
     "collapsed": false,
     "input": [
      "for fil in os.listdir(bropo):\n",
      "    print fil\n",
      "    wplis.append(fil)"
     ],
     "language": "python",
     "metadata": {},
     "outputs": [
      {
       "output_type": "stream",
       "stream": "stdout",
       "text": [
        "155.meta\n",
        "bc-conceptdraw.meta\n",
        "spotwalker-ld48-first-3-hours.meta\n",
        "start-gpcv17-ideas.meta\n",
        "cathern-interface-2.wp\n",
        "birdfice-apk.wp\n",
        "black-cat-fishing-jam.meta\n",
        "404.meta\n",
        "redditgetsdrawn-tiggyvashti7.meta\n",
        "491.meta\n",
        "297.meta\n",
        "shark-nightmare.meta\n",
        "137.meta\n",
        "site-logo-paintings-prodo-git.meta\n",
        "imagamer-ca.wp\n",
        "birdcage-platform-game-0-1-0-2.meta\n",
        "89.meta\n",
        "duck.meta\n",
        "shark-nightmare.wp\n",
        "pari-noon-nightmare.wp\n",
        "suburbnightmare-screenshots.wp\n",
        "party-noon-nightmare-prototype-build.wp\n",
        "prodo-island-project-new.meta\n",
        "136.meta\n",
        "29.meta\n",
        "triger.meta\n",
        "black-bars-and-text-suburb-nightmare.wp\n",
        "sim-prototype-idea-1.meta\n",
        "17.meta\n",
        "hell-earth.wp\n",
        "post-mortem-hell-earth.wp\n",
        "maya-python-and-party-moon-nightmare-screenshots.meta\n",
        "lightout-character-3d-assets.meta\n",
        "cathern-interface.wp\n",
        "triger-molyjam-2013.meta\n",
        "170.wp\n",
        "136.wp\n",
        "154.meta\n",
        "maya-api.wp\n",
        "twitter-notes-on-game-development.meta\n",
        "surreal-warp-nightmare.wp\n",
        "iamagamer-envior-concept-art-plus-model.wp\n",
        "fishing-dream-modding.meta\n",
        "site-logo-paintings-prodo-git.wp\n",
        "155.wp\n",
        "marchadventure.wp\n",
        "auxjan-to-auxjune.wp\n",
        "twitter-notes-on-game-development-2.meta\n",
        "digital-paintings-created-with-sketchbook-and-gimp.meta\n",
        "bc-conceptdraw.wp\n",
        "aux-jan-0-6.meta\n",
        "25.wp\n",
        "166.meta\n",
        "brobeur-studios-prodo-island-game-development-notes.meta\n",
        "514.meta\n",
        "cathern-interface.meta\n",
        "imagamer-ca.meta\n",
        "29.wp\n",
        "prodo-gpc1.wp\n",
        "404.wp\n",
        "prodo-gpc1.meta\n",
        "python-reddit-json.meta\n",
        "pari-noon-nightmare.meta\n",
        "gameboy-jam-warmup-cafrin.wp\n",
        "november-2013-game-dev-meet-up.wp\n",
        "python-reddit-json.wp\n",
        "429.wp\n",
        "aux-jan-game.wp\n",
        "297.wp\n",
        "shark-nightmare-screenshots.meta\n",
        "auxjonem.meta\n",
        "skins-wire-python-image-library.meta\n",
        "brobeur-studios-prodo-island-game-development-notes.wp\n",
        "hell-earth-2.meta\n",
        "90.wp\n",
        "98.meta\n",
        "523.wp\n",
        "17.wp\n",
        "maya-python-classes-development.meta\n",
        "development-slow.wp\n",
        "lightout-character-3d-assets.wp\n",
        "spotwalker-0-1-build.meta\n",
        "98.wp\n",
        "maya-python-classes-development.wp\n",
        "137.wp\n",
        "fishing-dream-modding.wp\n",
        "november-2013-game-dev-meet-up.meta\n",
        "dune-0-1.meta\n",
        "523.meta\n",
        "black-cat-fishing-jam.wp\n",
        "post-mortem-hell-earth.meta\n",
        "7drts-challenge-ideas.meta\n",
        "cathern-interface-2.meta\n",
        "twitter-notes-on-game-development.wp\n",
        "154.wp\n",
        "692.wp\n",
        "25.meta\n",
        "shark-nightmare-screenshots.wp\n",
        "170.meta\n",
        "duck.wp\n",
        "development-slow.meta\n",
        "452.meta\n",
        "7drts-challenge-ideas.wp\n",
        "playformfeb-v1-web.wp\n",
        "9.meta\n",
        "digital-paintings-created-with-sketchbook-and-gimp.wp\n",
        "murder-simulation-2013.meta\n",
        "maya-python-and-party-moon-nightmare-screenshots.wp\n",
        "triger-molyjam-2013.wp\n",
        "redditgetsdrawn-tiggyvashti7.wp\n",
        "black-bars-and-text-suburb-nightmare.meta\n",
        "maya-api.meta\n",
        "aux-jan-0-6.wp\n",
        "party-noon-nightmare-prototype-build.meta\n",
        "auxjonem.wp\n",
        "marchgame-v0-1.wp\n",
        "spotwalker-ld48-first-3-hours.wp\n",
        "suburbnightmare-screenshots.meta\n",
        "hell-earth-2.wp\n",
        "169.meta\n",
        "skins-wire-python-image-library.wp\n",
        "sim-prototype-idea-1.wp\n",
        "start-gpcv17-ideas.wp\n",
        "9.wp\n",
        "491.wp\n",
        "166.wp\n",
        "11.meta\n",
        "triger.wp\n",
        "hell-earth.meta\n",
        "11.wp\n",
        "playformfeb-v1-web.meta\n",
        "429.meta\n",
        "692.meta\n",
        "169.wp\n",
        "aux-jan-game.meta\n",
        "auxjan-to-auxjune.meta\n",
        "90.meta\n",
        "marchadventure.meta\n",
        "twitter-notes-on-game-development-2.wp\n",
        "birdfice-apk.meta\n",
        "marchgame-v0-1.meta\n",
        "murder-simulation-2013.wp\n",
        "dune-0-1.wp\n",
        "birdcage-platform-game-0-1-0-2.wp\n",
        "surreal-warp-nightmare.meta\n",
        "spotwalker-0-1-build.wp\n",
        "prodo-island-project-new.wp\n",
        "gameboy-jam-warmup-cafrin.meta\n",
        "514.wp\n",
        "89.wp\n",
        "iamagamer-envior-concept-art-plus-model.meta\n",
        "452.wp\n"
       ]
      }
     ],
     "prompt_number": 350
    },
    {
     "cell_type": "code",
     "collapsed": false,
     "input": [
      "metlis = []"
     ],
     "language": "python",
     "metadata": {},
     "outputs": [],
     "prompt_number": 351
    },
    {
     "cell_type": "code",
     "collapsed": true,
     "input": [
      "for wp in wplis:\n",
      "    if '.meta' in wp:\n",
      "        metlis.append(wp)"
     ],
     "language": "python",
     "metadata": {},
     "outputs": [],
     "prompt_number": 352
    },
    {
     "cell_type": "code",
     "collapsed": false,
     "input": [
      "alldic = []"
     ],
     "language": "python",
     "metadata": {},
     "outputs": [],
     "prompt_number": 353
    },
    {
     "cell_type": "code",
     "collapsed": false,
     "input": [
      "for mea in metlis:\n",
      "    file = open(mea, 'r')\n",
      "    metaf = file.readlines()\n",
      "    chzdir = {metaf[2]: metaf[1]}#, file.readline()}\n",
      "    print chzdir\n",
      "    alldic.append(chzdir)"
     ],
     "language": "python",
     "metadata": {},
     "outputs": [
      {
       "output_type": "stream",
       "stream": "stdout",
       "text": [
        "{'2013-04-15 02:17:47\\n': '155\\n'}\n",
        "{'2013-08-03 21:49:47\\n': 'bc-conceptdraw\\n'}\n",
        "{'2013-04-27 17:34:34\\n': 'spotwalker-ld48-first-3-hours\\n'}\n",
        "{'2013-04-09 19:02:21\\n': 'start-gpcv17-ideas\\n'}\n",
        "{'2013-05-31 06:43:55\\n': 'black-cat-fishing-jam\\n'}\n",
        "{'2013-07-12 23:21:40\\n': '404\\n'}\n",
        "{'2013-04-04 18:28:40\\n': 'redditgetsdrawn-tiggyvashti7\\n'}\n",
        "{'2013-11-03 15:18:04\\n': '491\\n'}\n",
        "{'2013-06-10 15:14:32\\n': '297\\n'}\n",
        "{'2013-11-04 00:22:06\\n': 'shark-nightmare\\n'}\n",
        "{'2013-04-13 13:32:53\\n': '137\\n'}\n",
        "{'2013-04-14 00:52:51\\n': 'site-logo-paintings-prodo-git\\n'}\n",
        "{'2013-05-06 21:08:12\\n': 'birdcage-platform-game-0-1-0-2\\n'}\n",
        "{'2013-04-08 04:47:20\\n': '89\\n'}\n",
        "{'2013-04-04 16:22:45\\n': 'duck\\n'}\n",
        "{'2013-04-13 10:43:10\\n': 'prodo-island-project-new\\n'}\n",
        "{'2013-04-13 11:55:02\\n': '136\\n'}\n",
        "{'2013-04-02 21:03:56\\n': '29\\n'}\n",
        "{'2013-07-07 03:22:12\\n': 'triger\\n'}\n",
        "{'2013-04-12 21:44:50\\n': 'sim-prototype-idea-1\\n'}\n",
        "{'2013-04-02 18:41:03\\n': '17\\n'}\n",
        "{'2013-11-16 14:08:08\\n': 'maya-python-and-party-moon-nightmare-screenshots\\n'}\n",
        "{'2013-06-09 20:14:49\\n': 'lightout-character-3d-assets\\n'}\n",
        "{'2013-07-07 12:32:10\\n': 'triger-molyjam-2013\\n'}\n",
        "{'2013-04-14 13:06:52\\n': '154\\n'}\n",
        "{'2013-04-04 12:42:21\\n': 'twitter-notes-on-game-development\\n'}\n",
        "{'2013-06-02 06:12:48\\n': 'fishing-dream-modding\\n'}\n",
        "{'2013-04-04 12:42:21\\n': 'twitter-notes-on-game-development-2\\n'}\n",
        "{'2013-04-02 21:33:18\\n': 'digital-paintings-created-with-sketchbook-and-gimp\\n'}\n",
        "{'2013-04-26 12:27:10\\n': 'aux-jan-0-6\\n'}\n",
        "{'2013-04-15 10:34:06\\n': '166\\n'}\n",
        "{'2013-04-11 11:47:49\\n': 'brobeur-studios-prodo-island-game-development-notes\\n'}\n",
        "{'2013-11-11 12:40:56\\n': '514\\n'}\n",
        "{'2013-06-18 13:21:33\\n': 'cathern-interface\\n'}\n",
        "{'2013-07-12 09:23:42\\n': 'imagamer-ca\\n'}\n",
        "{'2013-04-16 18:47:04\\n': 'prodo-gpc1\\n'}\n",
        "{'2013-04-04 10:08:10\\n': 'python-reddit-json\\n'}\n",
        "{'2013-11-10 13:52:42\\n': 'pari-noon-nightmare\\n'}\n",
        "{'2013-11-11 13:53:12\\n': 'shark-nightmare-screenshots\\n'}\n",
        "{'2013-06-24 07:48:18\\n': 'auxjonem\\n'}\n",
        "{'2013-12-10 12:22:59\\n': 'skins-wire-python-image-library\\n'}\n",
        "{'2013-08-12 23:46:19\\n': 'hell-earth-2\\n'}\n",
        "{'2013-04-10 17:51:48\\n': '98\\n'}\n",
        "{'2013-11-17 23:06:53\\n': 'maya-python-classes-development\\n'}\n",
        "{'2013-04-28 02:39:48\\n': 'spotwalker-0-1-build\\n'}\n",
        "{'2013-11-10 09:25:25\\n': 'november-2013-game-dev-meet-up\\n'}\n",
        "{'2013-05-19 14:31:51\\n': 'dune-0-1\\n'}\n",
        "{'2013-11-14 19:52:33\\n': '523\\n'}\n",
        "{'2013-08-20 23:31:23\\n': 'post-mortem-hell-earth\\n'}\n",
        "{'2013-07-17 07:07:19\\n': '7drts-challenge-ideas\\n'}\n",
        "{'2013-06-19 19:11:31\\n': 'cathern-interface-2\\n'}\n",
        "{'2013-04-02 20:23:41\\n': '25\\n'}\n",
        "{'2013-04-16 17:23:59\\n': '170\\n'}\n",
        "{'2013-04-12 21:23:43\\n': 'development-slow\\n'}\n",
        "{'2013-08-12 04:28:38\\n': '452\\n'}\n",
        "{'2013-03-31 21:46:42\\n': '9\\n'}\n",
        "{'2013-08-09 12:33:00\\n': 'murder-simulation-2013\\n'}\n",
        "{'2013-12-11 11:45:42\\n': 'black-bars-and-text-suburb-nightmare\\n'}\n",
        "{'2013-11-16 17:42:27\\n': 'maya-api\\n'}\n",
        "{'2013-11-11 20:01:01\\n': 'party-noon-nightmare-prototype-build\\n'}\n",
        "{'2013-07-14 11:35:39\\n': 'suburbnightmare-screenshots\\n'}\n",
        "{'2013-04-15 10:48:08\\n': '169\\n'}\n",
        "{'2013-04-02 17:52:40\\n': '11\\n'}\n",
        "{'2013-08-12 16:11:58\\n': 'hell-earth\\n'}\n",
        "{'2013-04-07 15:25:17\\n': 'playformfeb-v1-web\\n'}\n",
        "{'2013-07-30 01:49:59\\n': '429\\n'}\n",
        "{'2013-12-17 16:02:50\\n': '692\\n'}\n",
        "{'2013-04-03 07:52:35\\n': 'aux-jan-game\\n'}\n",
        "{'2013-06-23 19:44:59\\n': 'auxjan-to-auxjune\\n'}\n",
        "{'2013-04-09 11:35:20\\n': '90\\n'}\n",
        "{'2013-04-07 01:23:19\\n': 'marchadventure\\n'}\n",
        "{'2013-05-11 20:03:37\\n': 'birdfice-apk\\n'}\n",
        "{'2013-04-03 13:22:37\\n': 'marchgame-v0-1\\n'}\n",
        "{'2013-06-10 21:46:50\\n': 'surreal-warp-nightmare\\n'}\n",
        "{'2013-07-05 04:59:10\\n': 'gameboy-jam-warmup-cafrin\\n'}\n",
        "{'2013-07-12 13:03:18\\n': 'iamagamer-envior-concept-art-plus-model\\n'}\n"
       ]
      }
     ],
     "prompt_number": 354
    },
    {
     "cell_type": "code",
     "collapsed": false,
     "input": [
      "chzdir"
     ],
     "language": "python",
     "metadata": {},
     "outputs": [
      {
       "metadata": {},
       "output_type": "pyout",
       "prompt_number": 355,
       "text": [
        "{'2013-07-12 13:03:18\\n': 'iamagamer-envior-concept-art-plus-model\\n'}"
       ]
      }
     ],
     "prompt_number": 355
    },
    {
     "cell_type": "code",
     "collapsed": false,
     "input": [
      "for al in alldic:\n",
      "    print al"
     ],
     "language": "python",
     "metadata": {},
     "outputs": [
      {
       "output_type": "stream",
       "stream": "stdout",
       "text": [
        "{'2013-04-15 02:17:47\\n': '155\\n'}\n",
        "{'2013-08-03 21:49:47\\n': 'bc-conceptdraw\\n'}\n",
        "{'2013-04-27 17:34:34\\n': 'spotwalker-ld48-first-3-hours\\n'}\n",
        "{'2013-04-09 19:02:21\\n': 'start-gpcv17-ideas\\n'}\n",
        "{'2013-05-31 06:43:55\\n': 'black-cat-fishing-jam\\n'}\n",
        "{'2013-07-12 23:21:40\\n': '404\\n'}\n",
        "{'2013-04-04 18:28:40\\n': 'redditgetsdrawn-tiggyvashti7\\n'}\n",
        "{'2013-11-03 15:18:04\\n': '491\\n'}\n",
        "{'2013-06-10 15:14:32\\n': '297\\n'}\n",
        "{'2013-11-04 00:22:06\\n': 'shark-nightmare\\n'}\n",
        "{'2013-04-13 13:32:53\\n': '137\\n'}\n",
        "{'2013-04-14 00:52:51\\n': 'site-logo-paintings-prodo-git\\n'}\n",
        "{'2013-05-06 21:08:12\\n': 'birdcage-platform-game-0-1-0-2\\n'}\n",
        "{'2013-04-08 04:47:20\\n': '89\\n'}\n",
        "{'2013-04-04 16:22:45\\n': 'duck\\n'}\n",
        "{'2013-04-13 10:43:10\\n': 'prodo-island-project-new\\n'}\n",
        "{'2013-04-13 11:55:02\\n': '136\\n'}\n",
        "{'2013-04-02 21:03:56\\n': '29\\n'}\n",
        "{'2013-07-07 03:22:12\\n': 'triger\\n'}\n",
        "{'2013-04-12 21:44:50\\n': 'sim-prototype-idea-1\\n'}\n",
        "{'2013-04-02 18:41:03\\n': '17\\n'}\n",
        "{'2013-11-16 14:08:08\\n': 'maya-python-and-party-moon-nightmare-screenshots\\n'}\n",
        "{'2013-06-09 20:14:49\\n': 'lightout-character-3d-assets\\n'}\n",
        "{'2013-07-07 12:32:10\\n': 'triger-molyjam-2013\\n'}\n",
        "{'2013-04-14 13:06:52\\n': '154\\n'}\n",
        "{'2013-04-04 12:42:21\\n': 'twitter-notes-on-game-development\\n'}\n",
        "{'2013-06-02 06:12:48\\n': 'fishing-dream-modding\\n'}\n",
        "{'2013-04-04 12:42:21\\n': 'twitter-notes-on-game-development-2\\n'}\n",
        "{'2013-04-02 21:33:18\\n': 'digital-paintings-created-with-sketchbook-and-gimp\\n'}\n",
        "{'2013-04-26 12:27:10\\n': 'aux-jan-0-6\\n'}\n",
        "{'2013-04-15 10:34:06\\n': '166\\n'}\n",
        "{'2013-04-11 11:47:49\\n': 'brobeur-studios-prodo-island-game-development-notes\\n'}\n",
        "{'2013-11-11 12:40:56\\n': '514\\n'}\n",
        "{'2013-06-18 13:21:33\\n': 'cathern-interface\\n'}\n",
        "{'2013-07-12 09:23:42\\n': 'imagamer-ca\\n'}\n",
        "{'2013-04-16 18:47:04\\n': 'prodo-gpc1\\n'}\n",
        "{'2013-04-04 10:08:10\\n': 'python-reddit-json\\n'}\n",
        "{'2013-11-10 13:52:42\\n': 'pari-noon-nightmare\\n'}\n",
        "{'2013-11-11 13:53:12\\n': 'shark-nightmare-screenshots\\n'}\n",
        "{'2013-06-24 07:48:18\\n': 'auxjonem\\n'}\n",
        "{'2013-12-10 12:22:59\\n': 'skins-wire-python-image-library\\n'}\n",
        "{'2013-08-12 23:46:19\\n': 'hell-earth-2\\n'}\n",
        "{'2013-04-10 17:51:48\\n': '98\\n'}\n",
        "{'2013-11-17 23:06:53\\n': 'maya-python-classes-development\\n'}\n",
        "{'2013-04-28 02:39:48\\n': 'spotwalker-0-1-build\\n'}\n",
        "{'2013-11-10 09:25:25\\n': 'november-2013-game-dev-meet-up\\n'}\n",
        "{'2013-05-19 14:31:51\\n': 'dune-0-1\\n'}\n",
        "{'2013-11-14 19:52:33\\n': '523\\n'}\n",
        "{'2013-08-20 23:31:23\\n': 'post-mortem-hell-earth\\n'}\n",
        "{'2013-07-17 07:07:19\\n': '7drts-challenge-ideas\\n'}\n",
        "{'2013-06-19 19:11:31\\n': 'cathern-interface-2\\n'}\n",
        "{'2013-04-02 20:23:41\\n': '25\\n'}\n",
        "{'2013-04-16 17:23:59\\n': '170\\n'}\n",
        "{'2013-04-12 21:23:43\\n': 'development-slow\\n'}\n",
        "{'2013-08-12 04:28:38\\n': '452\\n'}\n",
        "{'2013-03-31 21:46:42\\n': '9\\n'}\n",
        "{'2013-08-09 12:33:00\\n': 'murder-simulation-2013\\n'}\n",
        "{'2013-12-11 11:45:42\\n': 'black-bars-and-text-suburb-nightmare\\n'}\n",
        "{'2013-11-16 17:42:27\\n': 'maya-api\\n'}\n",
        "{'2013-11-11 20:01:01\\n': 'party-noon-nightmare-prototype-build\\n'}\n",
        "{'2013-07-14 11:35:39\\n': 'suburbnightmare-screenshots\\n'}\n",
        "{'2013-04-15 10:48:08\\n': '169\\n'}\n",
        "{'2013-04-02 17:52:40\\n': '11\\n'}\n",
        "{'2013-08-12 16:11:58\\n': 'hell-earth\\n'}\n",
        "{'2013-04-07 15:25:17\\n': 'playformfeb-v1-web\\n'}\n",
        "{'2013-07-30 01:49:59\\n': '429\\n'}\n",
        "{'2013-12-17 16:02:50\\n': '692\\n'}\n",
        "{'2013-04-03 07:52:35\\n': 'aux-jan-game\\n'}\n",
        "{'2013-06-23 19:44:59\\n': 'auxjan-to-auxjune\\n'}\n",
        "{'2013-04-09 11:35:20\\n': '90\\n'}\n",
        "{'2013-04-07 01:23:19\\n': 'marchadventure\\n'}\n",
        "{'2013-05-11 20:03:37\\n': 'birdfice-apk\\n'}\n",
        "{'2013-04-03 13:22:37\\n': 'marchgame-v0-1\\n'}\n",
        "{'2013-06-10 21:46:50\\n': 'surreal-warp-nightmare\\n'}\n",
        "{'2013-07-05 04:59:10\\n': 'gameboy-jam-warmup-cafrin\\n'}\n",
        "{'2013-07-12 13:03:18\\n': 'iamagamer-envior-concept-art-plus-model\\n'}\n"
       ]
      }
     ],
     "prompt_number": 356
    },
    {
     "cell_type": "code",
     "collapsed": false,
     "input": [
      "tiran = len(alldic)"
     ],
     "language": "python",
     "metadata": {},
     "outputs": [],
     "prompt_number": 357
    },
    {
     "cell_type": "code",
     "collapsed": false,
     "input": [
      "import random"
     ],
     "language": "python",
     "metadata": {},
     "outputs": [],
     "prompt_number": 358
    },
    {
     "cell_type": "code",
     "collapsed": false,
     "input": [
      "ranit = random.randint(0, tiran)"
     ],
     "language": "python",
     "metadata": {},
     "outputs": [],
     "prompt_number": 359
    },
    {
     "cell_type": "code",
     "collapsed": false,
     "input": [
      "ranit"
     ],
     "language": "python",
     "metadata": {},
     "outputs": [
      {
       "metadata": {},
       "output_type": "pyout",
       "prompt_number": 360,
       "text": [
        "28"
       ]
      }
     ],
     "prompt_number": 360
    },
    {
     "cell_type": "code",
     "collapsed": false,
     "input": [
      "from random import shuffle\n",
      "x = [[i] for i in alldic\n",
      "random.shuffle(x)"
     ],
     "language": "python",
     "metadata": {},
     "outputs": [
      {
       "ename": "SyntaxError",
       "evalue": "invalid syntax (<ipython-input-361-0416c40c8a4e>, line 3)",
       "output_type": "pyerr",
       "traceback": [
        "\u001b[1;36m  File \u001b[1;32m\"<ipython-input-361-0416c40c8a4e>\"\u001b[1;36m, line \u001b[1;32m3\u001b[0m\n\u001b[1;33m    random.shuffle(x)\u001b[0m\n\u001b[1;37m         ^\u001b[0m\n\u001b[1;31mSyntaxError\u001b[0m\u001b[1;31m:\u001b[0m invalid syntax\n"
       ]
      }
     ],
     "prompt_number": 361
    },
    {
     "cell_type": "code",
     "collapsed": false,
     "input": [
      "from random import shuffle"
     ],
     "language": "python",
     "metadata": {},
     "outputs": [],
     "prompt_number": 362
    },
    {
     "cell_type": "code",
     "collapsed": false,
     "input": [
      "shuffle(alldic)"
     ],
     "language": "python",
     "metadata": {},
     "outputs": [],
     "prompt_number": 363
    },
    {
     "cell_type": "code",
     "collapsed": false,
     "input": [
      "alldic"
     ],
     "language": "python",
     "metadata": {},
     "outputs": [
      {
       "metadata": {},
       "output_type": "pyout",
       "prompt_number": 364,
       "text": [
        "[{'2013-11-10 13:52:42\\n': 'pari-noon-nightmare\\n'},\n",
        " {'2013-04-04 12:42:21\\n': 'twitter-notes-on-game-development-2\\n'},\n",
        " {'2013-06-10 15:14:32\\n': '297\\n'},\n",
        " {'2013-04-15 02:17:47\\n': '155\\n'},\n",
        " {'2013-06-02 06:12:48\\n': 'fishing-dream-modding\\n'},\n",
        " {'2013-11-11 12:40:56\\n': '514\\n'},\n",
        " {'2013-07-14 11:35:39\\n': 'suburbnightmare-screenshots\\n'},\n",
        " {'2013-07-07 03:22:12\\n': 'triger\\n'},\n",
        " {'2013-04-02 17:52:40\\n': '11\\n'},\n",
        " {'2013-04-15 10:48:08\\n': '169\\n'},\n",
        " {'2013-04-27 17:34:34\\n': 'spotwalker-ld48-first-3-hours\\n'},\n",
        " {'2013-07-05 04:59:10\\n': 'gameboy-jam-warmup-cafrin\\n'},\n",
        " {'2013-08-20 23:31:23\\n': 'post-mortem-hell-earth\\n'},\n",
        " {'2013-04-07 15:25:17\\n': 'playformfeb-v1-web\\n'},\n",
        " {'2013-07-30 01:49:59\\n': '429\\n'},\n",
        " {'2013-04-09 11:35:20\\n': '90\\n'},\n",
        " {'2013-06-19 19:11:31\\n': 'cathern-interface-2\\n'},\n",
        " {'2013-06-09 20:14:49\\n': 'lightout-character-3d-assets\\n'},\n",
        " {'2013-11-10 09:25:25\\n': 'november-2013-game-dev-meet-up\\n'},\n",
        " {'2013-04-02 21:33:18\\n': 'digital-paintings-created-with-sketchbook-and-gimp\\n'},\n",
        " {'2013-04-08 04:47:20\\n': '89\\n'},\n",
        " {'2013-04-12 21:23:43\\n': 'development-slow\\n'},\n",
        " {'2013-11-11 13:53:12\\n': 'shark-nightmare-screenshots\\n'},\n",
        " {'2013-04-04 18:28:40\\n': 'redditgetsdrawn-tiggyvashti7\\n'},\n",
        " {'2013-11-04 00:22:06\\n': 'shark-nightmare\\n'},\n",
        " {'2013-05-06 21:08:12\\n': 'birdcage-platform-game-0-1-0-2\\n'},\n",
        " {'2013-07-17 07:07:19\\n': '7drts-challenge-ideas\\n'},\n",
        " {'2013-08-03 21:49:47\\n': 'bc-conceptdraw\\n'},\n",
        " {'2013-11-16 17:42:27\\n': 'maya-api\\n'},\n",
        " {'2013-07-12 23:21:40\\n': '404\\n'},\n",
        " {'2013-04-14 00:52:51\\n': 'site-logo-paintings-prodo-git\\n'},\n",
        " {'2013-03-31 21:46:42\\n': '9\\n'},\n",
        " {'2013-04-09 19:02:21\\n': 'start-gpcv17-ideas\\n'},\n",
        " {'2013-08-12 23:46:19\\n': 'hell-earth-2\\n'},\n",
        " {'2013-04-16 17:23:59\\n': '170\\n'},\n",
        " {'2013-08-09 12:33:00\\n': 'murder-simulation-2013\\n'},\n",
        " {'2013-04-02 20:23:41\\n': '25\\n'},\n",
        " {'2013-04-26 12:27:10\\n': 'aux-jan-0-6\\n'},\n",
        " {'2013-07-07 12:32:10\\n': 'triger-molyjam-2013\\n'},\n",
        " {'2013-05-31 06:43:55\\n': 'black-cat-fishing-jam\\n'},\n",
        " {'2013-04-10 17:51:48\\n': '98\\n'},\n",
        " {'2013-12-17 16:02:50\\n': '692\\n'},\n",
        " {'2013-06-24 07:48:18\\n': 'auxjonem\\n'},\n",
        " {'2013-06-18 13:21:33\\n': 'cathern-interface\\n'},\n",
        " {'2013-12-10 12:22:59\\n': 'skins-wire-python-image-library\\n'},\n",
        " {'2013-04-28 02:39:48\\n': 'spotwalker-0-1-build\\n'},\n",
        " {'2013-06-10 21:46:50\\n': 'surreal-warp-nightmare\\n'},\n",
        " {'2013-04-14 13:06:52\\n': '154\\n'},\n",
        " {'2013-11-17 23:06:53\\n': 'maya-python-classes-development\\n'},\n",
        " {'2013-04-02 21:03:56\\n': '29\\n'},\n",
        " {'2013-07-12 13:03:18\\n': 'iamagamer-envior-concept-art-plus-model\\n'},\n",
        " {'2013-11-11 20:01:01\\n': 'party-noon-nightmare-prototype-build\\n'},\n",
        " {'2013-04-04 10:08:10\\n': 'python-reddit-json\\n'},\n",
        " {'2013-07-12 09:23:42\\n': 'imagamer-ca\\n'},\n",
        " {'2013-04-03 13:22:37\\n': 'marchgame-v0-1\\n'},\n",
        " {'2013-05-19 14:31:51\\n': 'dune-0-1\\n'},\n",
        " {'2013-05-11 20:03:37\\n': 'birdfice-apk\\n'},\n",
        " {'2013-04-13 13:32:53\\n': '137\\n'},\n",
        " {'2013-04-07 01:23:19\\n': 'marchadventure\\n'},\n",
        " {'2013-04-04 16:22:45\\n': 'duck\\n'},\n",
        " {'2013-04-02 18:41:03\\n': '17\\n'},\n",
        " {'2013-11-14 19:52:33\\n': '523\\n'},\n",
        " {'2013-04-12 21:44:50\\n': 'sim-prototype-idea-1\\n'},\n",
        " {'2013-04-04 12:42:21\\n': 'twitter-notes-on-game-development\\n'},\n",
        " {'2013-12-11 11:45:42\\n': 'black-bars-and-text-suburb-nightmare\\n'},\n",
        " {'2013-04-13 11:55:02\\n': '136\\n'},\n",
        " {'2013-08-12 16:11:58\\n': 'hell-earth\\n'},\n",
        " {'2013-04-11 11:47:49\\n': 'brobeur-studios-prodo-island-game-development-notes\\n'},\n",
        " {'2013-11-03 15:18:04\\n': '491\\n'},\n",
        " {'2013-06-23 19:44:59\\n': 'auxjan-to-auxjune\\n'},\n",
        " {'2013-04-15 10:34:06\\n': '166\\n'},\n",
        " {'2013-04-03 07:52:35\\n': 'aux-jan-game\\n'},\n",
        " {'2013-04-16 18:47:04\\n': 'prodo-gpc1\\n'},\n",
        " {'2013-08-12 04:28:38\\n': '452\\n'},\n",
        " {'2013-11-16 14:08:08\\n': 'maya-python-and-party-moon-nightmare-screenshots\\n'},\n",
        " {'2013-04-13 10:43:10\\n': 'prodo-island-project-new\\n'}]"
       ]
      }
     ],
     "prompt_number": 364
    },
    {
     "cell_type": "code",
     "collapsed": false,
     "input": [
      "randiz = alldic[ranit]"
     ],
     "language": "python",
     "metadata": {},
     "outputs": [],
     "prompt_number": 365
    },
    {
     "cell_type": "code",
     "collapsed": false,
     "input": [
      "randiz"
     ],
     "language": "python",
     "metadata": {},
     "outputs": [
      {
       "metadata": {},
       "output_type": "pyout",
       "prompt_number": 366,
       "text": [
        "{'2013-11-16 17:42:27\\n': 'maya-api\\n'}"
       ]
      }
     ],
     "prompt_number": 366
    },
    {
     "cell_type": "code",
     "collapsed": false,
     "input": [
      "razdiz = randiz.keys()"
     ],
     "language": "python",
     "metadata": {},
     "outputs": [],
     "prompt_number": 367
    },
    {
     "cell_type": "code",
     "collapsed": false,
     "input": [
      "randaz = randiz.values()"
     ],
     "language": "python",
     "metadata": {},
     "outputs": [],
     "prompt_number": 368
    },
    {
     "cell_type": "code",
     "collapsed": false,
     "input": [
      "for itez in randaz:\n",
      "    print itez + '.wp'\n",
      "    str2 = itez.replace(\"\\n\", \"\")\n",
      "    tafilz = str2 + '.wp'"
     ],
     "language": "python",
     "metadata": {},
     "outputs": [
      {
       "output_type": "stream",
       "stream": "stdout",
       "text": [
        "maya-api\n",
        ".wp\n"
       ]
      }
     ],
     "prompt_number": 369
    },
    {
     "cell_type": "code",
     "collapsed": false,
     "input": [
      "tafilz"
     ],
     "language": "python",
     "metadata": {},
     "outputs": [
      {
       "metadata": {},
       "output_type": "pyout",
       "prompt_number": 370,
       "text": [
        "'maya-api.wp'"
       ]
      }
     ],
     "prompt_number": 370
    },
    {
     "cell_type": "code",
     "collapsed": false,
     "input": [
      "bldat = open((tafilz), 'r')\n"
     ],
     "language": "python",
     "metadata": {},
     "outputs": [],
     "prompt_number": 371
    },
    {
     "cell_type": "code",
     "collapsed": false,
     "input": [
      "blogread = bldat.read()"
     ],
     "language": "python",
     "metadata": {},
     "outputs": [],
     "prompt_number": 372
    },
    {
     "cell_type": "code",
     "collapsed": false,
     "input": [
      "blogwra = blogread.upper()"
     ],
     "language": "python",
     "metadata": {},
     "outputs": [],
     "prompt_number": 373
    },
    {
     "cell_type": "code",
     "collapsed": false,
     "input": [
      "blogstr = str(blogwra)"
     ],
     "language": "python",
     "metadata": {},
     "outputs": [],
     "prompt_number": 374
    },
    {
     "cell_type": "code",
     "collapsed": false,
     "input": [
      "blogstr"
     ],
     "language": "python",
     "metadata": {},
     "outputs": [
      {
       "metadata": {},
       "output_type": "pyout",
       "prompt_number": 375,
       "text": [
        "'<HTML><BODY><P>[PRETTIFY=PYTHON]\\nIMPORT MAYA.CMDS AS CMDS\\n\\nCMD.FILES(F=TRUE, NEW=TRUE)\\n\\n# ERROR: LINE 1: NAMEERROR: FILE <MAYA CONSOLE> LINE 1: NAME \\'CMD\\' IS NOT DEFINED # \\n\\nCMDS.FILES(F=TRUE, NEW=TRUE)\\n\\n# ERROR: LINE 1: ATTRIBUTEERROR: FILE <MAYA CONSOLE> LINE 1: \\'MODULE\\' OBJECT HAS NO ATTRIBUTE \\'FILES\\' # \\n\\nCMDS.FILE(F=TRUE, NEW=TRUE)\\n\\n# RESULT: UNTITLED # \\n\\nWINDOW = CMDS.WINDOW()\\n\\nCMDS.PANELAYOUT()\\n\\n# RESULT: WINDOW1|PANELAYOUT3 # \\n\\nCMDS.MODELPANEL()\\n\\n# RESULT: MODELPANEL5 # \\n\\nCMDS.SHOWWINDOW(WINDOW)\\n\\nIMPORT NUMPY\\n\\n# ERROR: LINE 1: IMPORTERROR: FILE <MAYA CONSOLE> LINE 1: NO MODULE NAMED NUMPY # \\n\\nIMPORT MATH\\n\\nHELP MATH()\\n\\n# ERROR: LINE 1: INVALID SYNTAX # \\n\\nHELP(\\'MATH\\')\\n\\nHELP ON BUILT-IN MODULE MATH:\\n\\n\\n\\nNAME\\n    MATH\\n\\n\\nFILE\\n    (BUILT-IN)\\n\\n\\nDESCRIPTION\\n    THIS MODULE IS ALWAYS AVAILABLE.  IT PROVIDES ACCESS TO THE\\n    MATHEMATICAL FUNCTIONS DEFINED BY THE C STANDARD.\\n\\n\\nFUNCTIONS\\n    ACOS(...)\\n        ACOS(X)\\n        \\n        RETURN THE ARC COSINE (MEASURED IN RADIANS) OF X.\\n    \\n    ACOSH(...)\\n        ACOSH(X)\\n        \\n        RETURN THE HYPERBOLIC ARC COSINE (MEASURED IN RADIANS) OF X.\\n    \\n    ASIN(...)\\n        ASIN(X)\\n        \\n        RETURN THE ARC SINE (MEASURED IN RADIANS) OF X.\\n    \\n    ASINH(...)\\n        ASINH(X)\\n        \\n        RETURN THE HYPERBOLIC ARC SINE (MEASURED IN RADIANS) OF X.\\n    \\n    ATAN(...)\\n        ATAN(X)\\n        \\n        RETURN THE ARC TANGENT (MEASURED IN RADIANS) OF X.\\n    \\n    ATAN2(...)\\n        ATAN2(Y, X)\\n        \\n        RETURN THE ARC TANGENT (MEASURED IN RADIANS) OF Y/X.\\n        UNLIKE ATAN(Y/X), THE SIGNS OF BOTH X AND Y ARE CONSIDERED.\\n    \\n    ATANH(...)\\n        ATANH(X)\\n        \\n        RETURN THE HYPERBOLIC ARC TANGENT (MEASURED IN RADIANS) OF X.\\n    \\n    CEIL(...)\\n        CEIL(X)\\n        \\n        RETURN THE CEILING OF X AS A FLOAT.\\n        THIS IS THE SMALLEST INTEGRAL VALUE &GT;= X.\\n    \\n    COPYSIGN(...)\\n        COPYSIGN(X, Y)\\n        \\n        RETURN X WITH THE SIGN OF Y.\\n    \\n    COS(...)\\n        COS(X)\\n        \\n        RETURN THE COSINE OF X (MEASURED IN RADIANS).\\n    \\n    COSH(...)\\n        COSH(X)\\n        \\n        RETURN THE HYPERBOLIC COSINE OF X.\\n    \\n    DEGREES(...)\\n        DEGREES(X)\\n        \\n        CONVERT ANGLE X FROM RADIANS TO DEGREES.\\n    \\n    ERF(...)\\n        ERF(X)\\n        \\n        ERROR FUNCTION AT X.\\n    \\n    ERFC(...)\\n        ERFC(X)\\n        \\n        COMPLEMENTARY ERROR FUNCTION AT X.\\n    \\n    EXP(...)\\n        EXP(X)\\n        \\n        RETURN E RAISED TO THE POWER OF X.\\n    \\n    EXPM1(...)\\n        EXPM1(X)\\n        \\n        RETURN EXP(X)-1.\\n        THIS FUNCTION AVOIDS THE LOSS OF PRECISION INVOLVED IN THE DIRECT EVALUATION OF EXP(X)-1 FOR SMALL X.\\n    \\n    FABS(...)\\n        FABS(X)\\n        \\n        RETURN THE ABSOLUTE VALUE OF THE FLOAT X.\\n    \\n    FACTORIAL(...)\\n        FACTORIAL(X) -&GT; INTEGRAL\\n        \\n        FIND X!. RAISE A VALUEERROR IF X IS NEGATIVE OR NON-INTEGRAL.\\n    \\n    FLOOR(...)\\n        FLOOR(X)\\n        \\n        RETURN THE FLOOR OF X AS A FLOAT.\\n        THIS IS THE LARGEST INTEGRAL VALUE  BOOL\\n        \\n        CHECK IF FLOAT X IS INFINITE (POSITIVE OR NEGATIVE).\\n    \\n    ISNAN(...)\\n        ISNAN(X) -&GT; BOOL\\n        \\n        CHECK IF FLOAT X IS NOT A NUMBER (NAN).\\n    \\n    LDEXP(...)\\n        LDEXP(X, I)\\n        \\n        RETURN X * (2**I).\\n    \\n    LGAMMA(...)\\n        LGAMMA(X)\\n        \\n        NATURAL LOGARITHM OF ABSOLUTE VALUE OF GAMMA FUNCTION AT X.\\n    \\n    LOG(...)\\n        LOG(X[, BASE])\\n        \\n        RETURN THE LOGARITHM OF X TO THE GIVEN BASE.\\n        IF THE BASE NOT SPECIFIED, RETURNS THE NATURAL LOGARITHM (BASE E) OF X.\\n    \\n    LOG10(...)\\n        LOG10(X)\\n        \\n        RETURN THE BASE 10 LOGARITHM OF X.\\n    \\n    LOG1P(...)\\n        LOG1P(X)\\n        \\n        RETURN THE NATURAL LOGARITHM OF 1+X (BASE E).\\n        THE RESULT IS COMPUTED IN A WAY WHICH IS ACCURATE FOR X NEAR ZERO.\\n    \\n    MODF(...)\\n        MODF(X)\\n        \\n        RETURN THE FRACTIONAL AND INTEGER PARTS OF X.  BOTH RESULTS CARRY THE SIGN\\n        OF X AND ARE FLOATS.\\n    \\n    POW(...)\\n        POW(X, Y)\\n        \\n        RETURN X**Y (X TO THE POWER OF Y).\\n    \\n    RADIANS(...)\\n        RADIANS(X)\\n        \\n        CONVERT ANGLE X FROM DEGREES TO RADIANS.\\n    \\n    SIN(...)\\n        SIN(X)\\n        \\n        RETURN THE SINE OF X (MEASURED IN RADIANS).\\n    \\n    SINH(...)\\n        SINH(X)\\n        \\n        RETURN THE HYPERBOLIC SINE OF X.\\n    \\n    SQRT(...)\\n        SQRT(X)\\n        \\n        RETURN THE SQUARE ROOT OF X.\\n    \\n    TAN(...)\\n        TAN(X)\\n        \\n        RETURN THE TANGENT OF X (MEASURED IN RADIANS).\\n    \\n    TANH(...)\\n        TANH(X)\\n        \\n        RETURN THE HYPERBOLIC TANGENT OF X.\\n    \\n    TRUNC(...)\\n        TRUNC(X:REAL) -&GT; INTEGRAL\\n        \\n        TRUNCATES X TO THE NEAREST INTEGRAL TOWARD 0. USES THE __TRUNC__ MAGIC METHOD.\\n\\n\\nDATA\\n    E = 2.718281828459045\\n    PI = 3.141592653589793\\n\\n\\n\\n\\nIMPORT RANDOM\\n\\nRAND = RANDOM.RANDINT(1,20)\\n\\nCOD = MATH.ACOS(RAND)\\n\\n# ERROR: LINE 1: VALUEERROR: FILE <MAYA CONSOLE> LINE 3: MATH DOMAIN ERROR # \\n\\nIMPORT RANDOM\\n\\nRAND = RANDOM.RANDINT(1,20)\\n\\n\\n\\nCOD = MATH.ACOS(RAND)\\n\\n# ERROR: LINE 1: VALUEERROR: FILE <MAYA CONSOLE> LINE 1: MATH DOMAIN ERROR # \\n\\nIMPORT MATH\\n\\nCOD = MATH.ACOS(RAND)\\n\\n# ERROR: LINE 1: VALUEERROR: FILE <MAYA CONSOLE> LINE 2: MATH DOMAIN ERROR # \\n\\nRAND = RANDOM.RANDINT(1,20)\\n\\nCOD = MATH.ACOS(RAND)\\n\\n# ERROR: LINE 1: VALUEERROR: FILE <MAYA CONSOLE> LINE 2: MATH DOMAIN ERROR # \\n\\nX = CMDS.POLYCUBE()\\n\\nPRINT X\\n\\n[U\\'PCUBE1\\', U\\'POLYCUBE1\\']\\n\\nX.TRANSLATE(1.0,RAND,0.0,0.0)\\n\\n# ERROR: LINE 1: ATTRIBUTEERROR: FILE <MAYA CONSOLE> LINE 1: \\'LIST\\' OBJECT HAS NO ATTRIBUTE \\'TRANSLATE\\' # \\n\\nHELP(\\'X\\')\\n\\nNO PYTHON DOCUMENTATION FOUND FOR \\'X\\'\\n\\n\\n\\nRUN = RANDOM.RANDINT(1,10)\\n\\nCMDS.POLYCREATEFACET( P=[(0, RUN, 0), (0, -2, RUN), (RUN, -2, 0), (RUN, 2, 0)] )\\n\\nCMDS.POLYPLANE( N=\\xe2\\x80\\x99PLG\\xe2\\x80\\x99, W=10, H=10 )\\n\\n\\n\\n# ERROR: LINE 1: INVALID SYNTAX # \\n\\nCMDS.MOVE( 0, 0, 10, R=TRUE )\\n\\nCMDS.MOVE( 0, 0, -10, R=TRUE )\\n\\nCMDS.POLYCUT( \\xe2\\x80\\x98PCYLA.F[0:59]\\xe2\\x80\\x98, CD=\\xe2\\x80\\x99Y\\', CH=1 )\\n\\n# ERROR: LINE 1: INVALID SYNTAX # \\n\\nCMDS.POLYCUT()\\n\\n# RESULT: [U\\'POLYCUT1\\'] # \\n\\nX = 1 \\n\\nIF X = &GT; 10:    \\n    CMDS.POLYCUT()\\n    X + 1\\n# ERROR: LINE 1: INVALID SYNTAX # \\n\\nX = 1 \\n\\nIF X =&GT; 10:    \\n    CMDS.POLYCUT()\\n    X + 1\\n# ERROR: LINE 1: INVALID SYNTAX # \\n\\nX = 1 \\n\\nIF X =&GT; 10:\\n    CMDS.POLYCUT()\\n    X + 1\\n# ERROR: LINE 1: INVALID SYNTAX # \\n\\nVAR1 = 100\\n\\nIF VAR1:\\n    PRINT(\\'TESTING123\\')\\n    PRINT VAR1\\nELSE:\\n    PRINT(\\'NO\\') \\nTESTING123\\n\\n100\\n\\nIF X = 20:\\n    PRINT(\\'HELLO\\')\\n    X + 1\\n# ERROR: LINE 1: INVALID SYNTAX # \\n\\nIF X = 20:\\n    PRINT(\\'HELLO\\')\\nX + 1\\n\\n# ERROR: LINE 1: INVALID SYNTAX # \\n\\nIF X = 20:\\n    PRINT(\\'HELLO\\')\\n    X + 1\\nELSE:\\n    BREAK\\n# ERROR: LINE 1: INVALID SYNTAX # \\n\\nX=1\\n\\nIF X = 20:\\n    PRINT(\\'HELLO\\')\\n    X + 1\\nELSE:\\n    BREAK\\n# ERROR: LINE 1: INVALID SYNTAX # \\n\\nX=1\\n\\nIF X &GT;= 20:\\n    PRINT(\\'HELLO\\')\\n    X + 1\\nELSE:\\n    BREAK\\n# ERROR: LINE 1: \\'BREAK\\' OUTSIDE LOOP # \\n\\nIF X &GT;= 20:\\n    PRINT(\\'HELLO\\')\\n    X + 1\\nIF X &GT;= 20:\\n    PRINT(\\'HELLO\\')\\n    X + 1\\n\\n\\nDEF TOGVIS(OBJ):\\n    CMDS.SETATTR (OBJ+\\'.VISIBILITY\\',\\n    NOT CMDS.GETATTR(OBJ+\\'.VISIBILITY\\'))\\n    TOGGLEVISIBILITY(\\'PCUBE1\\')\\nPRINT TOGVIS\\n\\n<FUNCTION TOGVIS AT>\\n\\nTOGVIS\\n\\n# RESULT: <FUNCTION TOGVIS AT> # \\n\\nFOR N IN RANGE(2,10):\\n    FOR X IN RANGE(2,N):\\n        IF N % X == 0:\\n            PRINT N, \\'EQUALS\\', X\\', \\'*\\', N/X\\n            BREAK\\n    ELSE:\\n        PRINT N, \\'IS A PRIME NUMBER\\'\\n# ERROR: LINE 1: INVALID SYNTAX # \\n\\nFOR N IN RANGE(2,10):\\n    FOR X IN RANGE(2,N):\\n        IF N % X == 0:\\n            PRINT N, \\'EQUALS\\', \\'X\\', \\'*\\', N/X\\n            BREAK\\n    ELSE:\\n        PRINT N, \\'IS A PRIME NUMBER\\'\\n2 IS A PRIME NUMBER\\n\\n3 IS A PRIME NUMBER\\n\\n4 EQUALS X * 2\\n\\n5 IS A PRIME NUMBER\\n\\n6 EQUALS X * 3\\n\\n7 IS A PRIME NUMBER\\n\\n8 EQUALS X * 4\\n\\n9 EQUALS X * 3\\n\\nTESTE = RAW_INPUT(\\'NAME\\')\\n\\n\\n\\nCMDS.GROUP(EM=TRUE,NAME=TESTE)\\n\\nNAMEDEF DOLT():\\n    CMDS.GROUP(EM=TRUE,NAME=(CMDS.TEXTFIELD(\\'USERINPUT\\',Q=TRUE,\\n    TX=TRUE)))\\n    \\n    CMDS.WINDOW()\\n    \\n    CMDS.COLUMNLAYOUT(ADJ=TRUE)\\n    CMDS.TEXTFIELD(\\'USERINPUT\\')\\n    CMDS.BUTTON(L=\\'GROUP\\',C=\\'DOLT()\\')\\n    CMDS.SHOWWINDOW\\nDOLT\\n\\n# RESULT: <FUNCTION DOLT AT> # \\n\\nPRINT DOLT()\\n\\n# ERROR: LINE 1: RUNTIMEERROR: FILE <MAYA CONSOLE> LINE 3: OBJECT \\'USERINPUT\\' NOT FOUND. # \\n\\nDEF CREATEMATERIAL(NAME,COLOR,TYPE):\\n    CMDS.SETS(RENDERABLE=TRUE, NOSURFACESHADER=TRUE,\\n    EMPTY=TRUE, NAME=NAME + \\'SG\\')\\n    \\n    CMDS.SHADINGNODE(TYPE, ASSHADER=TRUE, NAME=NAME)\\n    \\n    CMDS.SETATTR(NAME+\\'.COLOR\\',COLOR[0],COLOR[1],COLOR[2],\\n    TYPE=\\'DOUBLE3\\')\\n    CMDS.CONNECTATTR(NAME+\\'.OUTCOLOR\\',\\n    NAME+\\'SG.SURFACESHADER\\')\\nDEF ASSIGNMATERIAL(NAME,OBJECT):\\n    CMDS.SETS(OBJECT,EDIT=TRUE, FORCEELEMENT=NAME+\\'SG\\')\\nDEF CREATECUBE():\\n    CMDS.POLYCUBE()\\nCREATECUBE()\\n\\nCMDS.POLYBEVEL\\n\\n# RESULT: <BUILT-IN METHOD POLYBEVEL OF MODULE OBJECT AT> # \\n\\nCMDS.SPLIT()\\n\\n# ERROR: LINE 1: ATTRIBUTEERROR: FILE <MAYA CONSOLE> LINE 1: \\'MODULE\\' OBJECT HAS NO ATTRIBUTE \\'SPLIT\\' # \\n\\nCMDS.POLYSPLIT()\\n\\n# ERROR: LINE 1: RUNTIMEERROR: FILE <MAYA CONSOLE> LINE 1: NEED AT LEAST ONE \"-EP\" OR \"-IP\" FLAG (EDGE SPLIT POINT). # \\n\\nCMDS.POLYAPPEND( A=[0, (5, -5, 0)] )\\n\\n\\n\\n# WARNING: CAN\\'T PERFORM POLYAPPEND1 ON SELECTION # \\n\\n# RESULT: [U\\'POLYAPPEND1\\'] # \\n\\nCMDS.POLYAPPEND( A=[0, (5, 5, 0)] )\\n\\n\\n\\n# WARNING: CAN\\'T PERFORM POLYAPPEND2 ON SELECTION # \\n\\n# RESULT: [U\\'POLYAPPEND2\\'] # \\n\\nCMDS.SCALE( 2, 2, 2 )\\n\\nS = LAMBDA X,Y: X-Y\\n\\nPRINT S\\n\\n<FUNCTION> AT 0X0000000034B175F8&GT;\\n\\nPRINT S(RAN,10)\\n\\n# ERROR: LINE 1: NAMEERROR: FILE <MAYA CONSOLE> LINE 1: NAME \\'RAN\\' IS NOT DEFINED # \\n\\nPRINT S(22,10)\\n\\n12\\n\\nCMDS.POLYPLANE( SX=3, SY=3 )\\n\\n# RESULT: [U\\'PPLANE1\\', U\\'POLYPLANE1\\'] # \\n\\nRANX = RANDOM.RANDINT(3,6)\\n\\nCMDS.POLYPLANE( SX=RANX, SY=3 )\\n\\nCMDS.POLYEXTRUDEFACET()\\n\\n# RESULT: [U\\'POLYEXTRUDEFACE1\\'] # \\n\\nCMDS.POLYEXTRUDEFACET()\\n\\nCMDS.MOVE(0,4,0)\\n\\nDEF EXTRUDENOW:\\n    CMDS.POYEXTRUDEFACET()\\n    CMDS.MOVE(0,2,0)\\n# ERROR: LINE 1: INVALID SYNTAX # \\n\\nDEF EXTRUDENOW:\\n    CMDS.POYEXTRUDEFACET()\\n    CMDS.MOVE(0,2,0)\\n# ERROR: LINE 1: INVALID SYNTAX # \\n\\nDEF EXTRUDENOW:\\n    CMDS.POLYEXTRUDEFACET()\\n    CMDS.MOVE(0,2,0)\\n# ERROR: LINE 1: INVALID SYNTAX # \\n\\nDEF EXTRUDENOW():\\n    CMDS.POLYEXTRUDEFACET()\\n    CMDS.MOVE(0,2,0)\\nEXTRUDENOW()\\n\\n# ERROR: LINE 1: NAMEERROR: FILE <MAYA CONSOLE> LINE 1: NAME \\'EXTRUDENOW\\' IS NOT DEFINED # \\n\\nEXTRUDENOW()\\n\\nCMDS..TRANSLATE(1.0,2.5,0.0,0.0)\\n\\n# ERROR: LINE 1: INVALID SYNTAX # \\n\\nCMDS.TRANSLATE(1.0,2.5,0.0,0.0)\\n\\n# ERROR: LINE 1: ATTRIBUTEERROR: FILE <MAYA CONSOLE> LINE 1: \\'MODULE\\' OBJECT HAS NO ATTRIBUTE \\'TRANSLATE\\' # \\n\\nIMPORT JSON\\n\\nHELP(\\'JSON\\')\\n\\nHELP ON PACKAGE JSON:\\n\\n\\n\\nNAME\\n    JSON\\n\\n\\nFILE\\n    C:\\\\PYTHON27\\\\LIB\\\\JSON\\\\__INIT__.PY\\n\\n\\nDESCRIPTION\\n    JSON (JAVASCRIPT OBJECT NOTATION) <HTTP:> IS A SUBSET OF\\n    JAVASCRIPT SYNTAX (ECMA-262 3RD EDITION) USED AS A LIGHTWEIGHT DATA\\n    INTERCHANGE FORMAT.\\n    \\n    :MOD:`JSON` EXPOSES AN API FAMILIAR TO USERS OF THE STANDARD LIBRARY\\n    :MOD:`MARSHAL` AND :MOD:`PICKLE` MODULES. IT IS THE EXTERNALLY MAINTAINED\\n    VERSION OF THE :MOD:`JSON` LIBRARY CONTAINED IN PYTHON 2.6, BUT MAINTAINS\\n    COMPATIBILITY WITH PYTHON 2.4 AND PYTHON 2.5 AND (CURRENTLY) HAS\\n    SIGNIFICANT PERFORMANCE ADVANTAGES, EVEN WITHOUT USING THE OPTIONAL C\\n    EXTENSION FOR SPEEDUPS.\\n    \\n    ENCODING BASIC PYTHON OBJECT HIERARCHIES::\\n    \\n        &GT;&GT;&GT; IMPORT JSON\\n        &GT;&GT;&GT; JSON.DUMPS([\\'FOO\\', {\\'BAR\\': (\\'BAZ\\', NONE, 1.0, 2)}])\\n        \\'[\"FOO\", {\"BAR\": [\"BAZ\", NULL, 1.0, 2]}]\\'\\n        &GT;&GT;&GT; PRINT JSON.DUMPS(\"\\\\\"FOO\\\\BAR\")\\n        \"\\\\\"FOO\\\\BAR\"\\n        &GT;&GT;&GT; PRINT JSON.DUMPS(U\\'\\\\U1234\\')\\n        \"\\\\U1234\"\\n        &GT;&GT;&GT; PRINT JSON.DUMPS(\\'\\\\\\\\\\')\\n        \"\\\\\\\\\"\\n        &GT;&GT;&GT; PRINT JSON.DUMPS({\"C\": 0, \"B\": 0, \"A\": 0}, SORT_KEYS=TRUE)\\n        {\"A\": 0, \"B\": 0, \"C\": 0}\\n        &GT;&GT;&GT; FROM STRINGIO IMPORT STRINGIO\\n        &GT;&GT;&GT; IO = STRINGIO()\\n        &GT;&GT;&GT; JSON.DUMP([\\'STREAMING API\\'], IO)\\n        &GT;&GT;&GT; IO.GETVALUE()\\n        \\'[\"STREAMING API\"]\\'\\n    \\n    COMPACT ENCODING::\\n    \\n        &GT;&GT;&GT; IMPORT JSON\\n        &GT;&GT;&GT; JSON.DUMPS([1,2,3,{\\'4\\': 5, \\'6\\': 7}], SEPARATORS=(\\',\\',\\':\\'))\\n        \\'[1,2,3,{\"4\":5,\"6\":7}]\\'\\n    \\n    PRETTY PRINTING::\\n    \\n        &GT;&GT;&GT; IMPORT JSON\\n        &GT;&GT;&GT; S = JSON.DUMPS({\\'4\\': 5, \\'6\\': 7}, SORT_KEYS=TRUE, INDENT=4)\\n        &GT;&GT;&GT; PRINT \\'\\\\N\\'.JOIN([L.RSTRIP() FOR L IN  S.SPLITLINES()])\\n        {\\n            \"4\": 5,\\n            \"6\": 7\\n        }\\n    \\n    DECODING JSON::\\n    \\n        &GT;&GT;&GT; IMPORT JSON\\n        &GT;&GT;&GT; OBJ = [U\\'FOO\\', {U\\'BAR\\': [U\\'BAZ\\', NONE, 1.0, 2]}]\\n        &GT;&GT;&GT; JSON.LOADS(\\'[\"FOO\", {\"BAR\":[\"BAZ\", NULL, 1.0, 2]}]\\') == OBJ\\n        TRUE\\n        &GT;&GT;&GT; JSON.LOADS(\\'\"\\\\\\\\\"FOO\\\\\\\\BAR\"\\') == U\\'\"FOO\\\\X08AR\\'\\n        TRUE\\n        &GT;&GT;&GT; FROM STRINGIO IMPORT STRINGIO\\n        &GT;&GT;&GT; IO = STRINGIO(\\'[\"STREAMING API\"]\\')\\n        &GT;&GT;&GT; JSON.LOAD(IO)[0] == \\'STREAMING API\\'\\n        TRUE\\n    \\n    SPECIALIZING JSON OBJECT DECODING::\\n    \\n        &GT;&GT;&GT; IMPORT JSON\\n        &GT;&GT;&GT; DEF AS_COMPLEX(DCT):\\n        ...     IF \\'__COMPLEX__\\' IN DCT:\\n        ...         RETURN COMPLEX(DCT[\\'REAL\\'], DCT[\\'IMAG\\'])\\n        ...     RETURN DCT\\n        ...\\n        &GT;&GT;&GT; JSON.LOADS(\\'{\"__COMPLEX__\": TRUE, \"REAL\": 1, \"IMAG\": 2}\\',\\n        ...     OBJECT_HOOK=AS_COMPLEX)\\n        (1+2J)\\n        &GT;&GT;&GT; FROM DECIMAL IMPORT DECIMAL\\n        &GT;&GT;&GT; JSON.LOADS(\\'1.1\\', PARSE_FLOAT=DECIMAL) == DECIMAL(\\'1.1\\')\\n        TRUE\\n    \\n    SPECIALIZING JSON OBJECT ENCODING::\\n    \\n        &GT;&GT;&GT; IMPORT JSON\\n        &GT;&GT;&GT; DEF ENCODE_COMPLEX(OBJ):\\n        ...     IF ISINSTANCE(OBJ, COMPLEX):\\n        ...         RETURN [OBJ.REAL, OBJ.IMAG]\\n        ...     RAISE TYPEERROR(REPR(O) + \" IS NOT JSON SERIALIZABLE\")\\n        ...\\n        &GT;&GT;&GT; JSON.DUMPS(2 + 1J, DEFAULT=ENCODE_COMPLEX)\\n        \\'[2.0, 1.0]\\'\\n        &GT;&GT;&GT; JSON.JSONENCODER(DEFAULT=ENCODE_COMPLEX).ENCODE(2 + 1J)\\n        \\'[2.0, 1.0]\\'\\n        &GT;&GT;&GT; \\'\\'.JOIN(JSON.JSONENCODER(DEFAULT=ENCODE_COMPLEX).ITERENCODE(2 + 1J))\\n        \\'[2.0, 1.0]\\'\\n    \\n    \\n    USING JSON.TOOL FROM THE SHELL TO VALIDATE AND PRETTY-PRINT::\\n    \\n        $ ECHO \\'{\"JSON\":\"OBJ\"}\\' | PYTHON -M JSON.TOOL\\n        {\\n            \"JSON\": \"OBJ\"\\n        }\\n        $ ECHO \\'{ 1.2:3.4}\\' | PYTHON -M JSON.TOOL\\n        EXPECTING PROPERTY NAME: LINE 1 COLUMN 2 (CHAR 2)\\n\\n\\nPACKAGE CONTENTS\\n    DECODER\\n    ENCODER\\n    SCANNER\\n    TESTS (PACKAGE)\\n    TOOL\\n\\n\\nCLASSES\\n    __BUILTIN__.OBJECT\\n        JSON.DECODER.JSONDECODER\\n        JSON.ENCODER.JSONENCODER\\n    \\n    CLASS JSONDECODER(__BUILTIN__.OBJECT)\\n     |  SIMPLE JSON <HTTP:> DECODER\\n     |  \\n     |  PERFORMS THE FOLLOWING TRANSLATIONS IN DECODING BY DEFAULT:\\n     |  \\n     |  +---------------+-------------------+\\n     |  | JSON          | PYTHON            |\\n     |  +===============+===================+\\n     |  | OBJECT        | DICT              |\\n     |  +---------------+-------------------+\\n     |  | ARRAY         | LIST              |\\n     |  +---------------+-------------------+\\n     |  | STRING        | UNICODE           |\\n     |  +---------------+-------------------+\\n     |  | NUMBER (INT)  | INT, LONG         |\\n     |  +---------------+-------------------+\\n     |  | NUMBER (REAL) | FLOAT             |\\n     |  +---------------+-------------------+\\n     |  | TRUE          | TRUE              |\\n     |  +---------------+-------------------+\\n     |  | FALSE         | FALSE             |\\n     |  +---------------+-------------------+\\n     |  | NULL          | NONE              |\\n     |  +---------------+-------------------+\\n     |  \\n     |  IT ALSO UNDERSTANDS ``NAN``, ``INFINITY``, AND ``-INFINITY`` AS\\n     |  THEIR CORRESPONDING ``FLOAT`` VALUES, WHICH IS OUTSIDE THE JSON SPEC.\\n     |  \\n     |  METHODS DEFINED HERE:\\n     |  \\n     |  __INIT__(SELF, ENCODING=NONE, OBJECT_HOOK=NONE, PARSE_FLOAT=NONE, PARSE_INT=NONE, PARSE_CONSTANT=NONE, STRICT=TRUE, OBJECT_PAIRS_HOOK=NONE)\\n     |      ``ENCODING`` DETERMINES THE ENCODING USED TO INTERPRET ANY ``STR``\\n     |      OBJECTS DECODED BY THIS INSTANCE (UTF-8 BY DEFAULT).  IT HAS NO\\n     |      EFFECT WHEN DECODING ``UNICODE`` OBJECTS.\\n     |      \\n     |      NOTE THAT CURRENTLY ONLY ENCODINGS THAT ARE A SUPERSET OF ASCII WORK,\\n     |      STRINGS OF OTHER ENCODINGS SHOULD BE PASSED IN AS ``UNICODE``.\\n     |      \\n     |      ``OBJECT_HOOK``, IF SPECIFIED, WILL BE CALLED WITH THE RESULT\\n     |      OF EVERY JSON OBJECT DECODED AND ITS RETURN VALUE WILL BE USED IN\\n     |      PLACE OF THE GIVEN ``DICT``.  THIS CAN BE USED TO PROVIDE CUSTOM\\n     |      DESERIALIZATIONS (E.G. TO SUPPORT JSON-RPC CLASS HINTING).\\n     |      \\n     |      ``OBJECT_PAIRS_HOOK``, IF SPECIFIED WILL BE CALLED WITH THE RESULT OF\\n     |      EVERY JSON OBJECT DECODED WITH AN ORDERED LIST OF PAIRS.  THE RETURN\\n     |      VALUE OF ``OBJECT_PAIRS_HOOK`` WILL BE USED INSTEAD OF THE ``DICT``.\\n     |      THIS FEATURE CAN BE USED TO IMPLEMENT CUSTOM DECODERS THAT RELY ON THE\\n     |      ORDER THAT THE KEY AND VALUE PAIRS ARE DECODED (FOR EXAMPLE,\\n     |      COLLECTIONS.ORDEREDDICT WILL REMEMBER THE ORDER OF INSERTION). IF\\n     |      ``OBJECT_HOOK`` IS ALSO DEFINED, THE ``OBJECT_PAIRS_HOOK`` TAKES\\n     |      PRIORITY.\\n     |      \\n     |      ``PARSE_FLOAT``, IF SPECIFIED, WILL BE CALLED WITH THE STRING\\n     |      OF EVERY JSON FLOAT TO BE DECODED. BY DEFAULT THIS IS EQUIVALENT TO\\n     |      FLOAT(NUM_STR). THIS CAN BE USED TO USE ANOTHER DATATYPE OR PARSER\\n     |      FOR JSON FLOATS (E.G. DECIMAL.DECIMAL).\\n     |      \\n     |      ``PARSE_INT``, IF SPECIFIED, WILL BE CALLED WITH THE STRING\\n     |      OF EVERY JSON INT TO BE DECODED. BY DEFAULT THIS IS EQUIVALENT TO\\n     |      INT(NUM_STR). THIS CAN BE USED TO USE ANOTHER DATATYPE OR PARSER\\n     |      FOR JSON INTEGERS (E.G. FLOAT).\\n     |      \\n     |      ``PARSE_CONSTANT``, IF SPECIFIED, WILL BE CALLED WITH ONE OF THE\\n     |      FOLLOWING STRINGS: -INFINITY, INFINITY, NAN.\\n     |      THIS CAN BE USED TO RAISE AN EXCEPTION IF INVALID JSON NUMBERS\\n     |      ARE ENCOUNTERED.\\n     |      \\n     |      IF ``STRICT`` IS FALSE (TRUE IS THE DEFAULT), THEN CONTROL\\n     |      CHARACTERS WILL BE ALLOWED INSIDE STRINGS.  CONTROL CHARACTERS IN\\n     |      THIS CONTEXT ARE THOSE WITH CHARACTER CODES IN THE 0-31 RANGE,\\n     |      INCLUDING ``\\'\\\\T\\'`` (TAB), ``\\'\\\\N\\'``, ``\\'\\\\R\\'`` AND ``\\'\\\\0\\'``.\\n     |  \\n     |  DECODE(SELF, S, _W=<BUILT-IN METHOD MATCH OF _SRE.SRE_PATTERN OBJECT>)\\n     |      RETURN THE PYTHON REPRESENTATION OF ``S`` (A ``STR`` OR ``UNICODE``\\n     |      INSTANCE CONTAINING A JSON DOCUMENT)\\n     |  \\n     |  RAW_DECODE(SELF, S, IDX=0)\\n     |      DECODE A JSON DOCUMENT FROM ``S`` (A ``STR`` OR ``UNICODE``\\n     |      BEGINNING WITH A JSON DOCUMENT) AND RETURN A 2-TUPLE OF THE PYTHON\\n     |      REPRESENTATION AND THE INDEX IN ``S`` WHERE THE DOCUMENT ENDED.\\n     |      \\n     |      THIS CAN BE USED TO DECODE A JSON DOCUMENT FROM A STRING THAT MAY\\n     |      HAVE EXTRANEOUS DATA AT THE END.\\n     |  \\n     |  ----------------------------------------------------------------------\\n     |  DATA DESCRIPTORS DEFINED HERE:\\n     |  \\n     |  __DICT__\\n     |      DICTIONARY FOR INSTANCE VARIABLES (IF DEFINED)\\n     |  \\n     |  __WEAKREF__\\n     |      LIST OF WEAK REFERENCES TO THE OBJECT (IF DEFINED)\\n    \\n    CLASS JSONENCODER(__BUILTIN__.OBJECT)\\n     |  EXTENSIBLE JSON <HTTP:> ENCODER FOR PYTHON DATA STRUCTURES.\\n     |  \\n     |  SUPPORTS THE FOLLOWING OBJECTS AND TYPES BY DEFAULT:\\n     |  \\n     |  +-------------------+---------------+\\n     |  | PYTHON            | JSON          |\\n     |  +===================+===============+\\n     |  | DICT              | OBJECT        |\\n     |  +-------------------+---------------+\\n     |  | LIST, TUPLE       | ARRAY         |\\n     |  +-------------------+---------------+\\n     |  | STR, UNICODE      | STRING        |\\n     |  +-------------------+---------------+\\n     |  | INT, LONG, FLOAT  | NUMBER        |\\n     |  +-------------------+---------------+\\n     |  | TRUE              | TRUE          |\\n     |  +-------------------+---------------+\\n     |  | FALSE             | FALSE         |\\n     |  +-------------------+---------------+\\n     |  | NONE              | NULL          |\\n     |  +-------------------+---------------+\\n     |  \\n     |  TO EXTEND THIS TO RECOGNIZE OTHER OBJECTS, SUBCLASS AND IMPLEMENT A\\n     |  ``.DEFAULT()`` METHOD WITH ANOTHER METHOD THAT RETURNS A SERIALIZABLE\\n     |  OBJECT FOR ``O`` IF POSSIBLE, OTHERWISE IT SHOULD CALL THE SUPERCLASS\\n     |  IMPLEMENTATION (TO RAISE ``TYPEERROR``).\\n     |  \\n     |  METHODS DEFINED HERE:\\n     |  \\n     |  __INIT__(SELF, SKIPKEYS=FALSE, ENSURE_ASCII=TRUE, CHECK_CIRCULAR=TRUE, ALLOW_NAN=TRUE, SORT_KEYS=FALSE, INDENT=NONE, SEPARATORS=NONE, ENCODING=\\'UTF-8\\', DEFAULT=NONE)\\n     |      CONSTRUCTOR FOR JSONENCODER, WITH SENSIBLE DEFAULTS.\\n     |      \\n     |      IF SKIPKEYS IS FALSE, THEN IT IS A TYPEERROR TO ATTEMPT\\n     |      ENCODING OF KEYS THAT ARE NOT STR, INT, LONG, FLOAT OR NONE.  IF\\n     |      SKIPKEYS IS TRUE, SUCH ITEMS ARE SIMPLY SKIPPED.\\n     |      \\n     |      IF ENSURE_ASCII IS TRUE, THE OUTPUT IS GUARANTEED TO BE STR\\n     |      OBJECTS WITH ALL INCOMING UNICODE CHARACTERS ESCAPED.  IF\\n     |      ENSURE_ASCII IS FALSE, THE OUTPUT WILL BE UNICODE OBJECT.\\n     |      \\n     |      IF CHECK_CIRCULAR IS TRUE, THEN LISTS, DICTS, AND CUSTOM ENCODED\\n     |      OBJECTS WILL BE CHECKED FOR CIRCULAR REFERENCES DURING ENCODING TO\\n     |      PREVENT AN INFINITE RECURSION (WHICH WOULD CAUSE AN OVERFLOWERROR).\\n     |      OTHERWISE, NO SUCH CHECK TAKES PLACE.\\n     |      \\n     |      IF ALLOW_NAN IS TRUE, THEN NAN, INFINITY, AND -INFINITY WILL BE\\n     |      ENCODED AS SUCH.  THIS BEHAVIOR IS NOT JSON SPECIFICATION COMPLIANT,\\n     |      BUT IS CONSISTENT WITH MOST JAVASCRIPT BASED ENCODERS AND DECODERS.\\n     |      OTHERWISE, IT WILL BE A VALUEERROR TO ENCODE SUCH FLOATS.\\n     |      \\n     |      IF SORT_KEYS IS TRUE, THEN THE OUTPUT OF DICTIONARIES WILL BE\\n     |      SORTED BY KEY; THIS IS USEFUL FOR REGRESSION TESTS TO ENSURE\\n     |      THAT JSON SERIALIZATIONS CAN BE COMPARED ON A DAY-TO-DAY BASIS.\\n     |      \\n     |      IF INDENT IS A NON-NEGATIVE INTEGER, THEN JSON ARRAY\\n     |      ELEMENTS AND OBJECT MEMBERS WILL BE PRETTY-PRINTED WITH THAT\\n     |      INDENT LEVEL.  AN INDENT LEVEL OF 0 WILL ONLY INSERT NEWLINES.\\n     |      NONE IS THE MOST COMPACT REPRESENTATION.\\n     |      \\n     |      IF SPECIFIED, SEPARATORS SHOULD BE A (ITEM_SEPARATOR, KEY_SEPARATOR)\\n     |      TUPLE.  THE DEFAULT IS (\\', \\', \\': \\').  TO GET THE MOST COMPACT JSON\\n     |      REPRESENTATION YOU SHOULD SPECIFY (\\',\\', \\':\\') TO ELIMINATE WHITESPACE.\\n     |      \\n     |      IF SPECIFIED, DEFAULT IS A FUNCTION THAT GETS CALLED FOR OBJECTS\\n     |      THAT CAN\\'T OTHERWISE BE SERIALIZED.  IT SHOULD RETURN A JSON ENCODABLE\\n     |      VERSION OF THE OBJECT OR RAISE A ``TYPEERROR``.\\n     |      \\n     |      IF ENCODING IS NOT NONE, THEN ALL INPUT STRINGS WILL BE\\n     |      TRANSFORMED INTO UNICODE USING THAT ENCODING PRIOR TO JSON-ENCODING.\\n     |      THE DEFAULT IS UTF-8.\\n     |  \\n     |  DEFAULT(SELF, O)\\n     |      IMPLEMENT THIS METHOD IN A SUBCLASS SUCH THAT IT RETURNS\\n     |      A SERIALIZABLE OBJECT FOR ``O``, OR CALLS THE BASE IMPLEMENTATION\\n     |      (TO RAISE A ``TYPEERROR``).\\n     |      \\n     |      FOR EXAMPLE, TO SUPPORT ARBITRARY ITERATORS, YOU COULD\\n     |      IMPLEMENT DEFAULT LIKE THIS::\\n     |      \\n     |          DEF DEFAULT(SELF, O):\\n     |              TRY:\\n     |                  ITERABLE = ITER(O)\\n     |              EXCEPT TYPEERROR:\\n     |                  PASS\\n     |              ELSE:\\n     |                  RETURN LIST(ITERABLE)\\n     |              RETURN JSONENCODER.DEFAULT(SELF, O)\\n     |  \\n     |  ENCODE(SELF, O)\\n     |      RETURN A JSON STRING REPRESENTATION OF A PYTHON DATA STRUCTURE.\\n     |      \\n     |      &GT;&GT;&GT; JSONENCODER().ENCODE({\"FOO\": [\"BAR\", \"BAZ\"]})\\n     |      \\'{\"FOO\": [\"BAR\", \"BAZ\"]}\\'\\n     |  \\n     |  ITERENCODE(SELF, O, _ONE_SHOT=FALSE)\\n     |      ENCODE THE GIVEN OBJECT AND YIELD EACH STRING\\n     |      REPRESENTATION AS AVAILABLE.\\n     |      \\n     |      FOR EXAMPLE::\\n     |      \\n     |          FOR CHUNK IN JSONENCODER().ITERENCODE(BIGOBJECT):\\n     |              MYSOCKET.WRITE(CHUNK)\\n     |  \\n     |  ----------------------------------------------------------------------\\n     |  DATA DESCRIPTORS DEFINED HERE:\\n     |  \\n     |  __DICT__\\n     |      DICTIONARY FOR INSTANCE VARIABLES (IF DEFINED)\\n     |  \\n     |  __WEAKREF__\\n     |      LIST OF WEAK REFERENCES TO THE OBJECT (IF DEFINED)\\n     |  \\n     |  ----------------------------------------------------------------------\\n     |  DATA AND OTHER ATTRIBUTES DEFINED HERE:\\n     |  \\n     |  ITEM_SEPARATOR = \\', \\'\\n     |  \\n     |  KEY_SEPARATOR = \\': \\'\\n\\n\\nFUNCTIONS\\n    DUMP(OBJ, FP, SKIPKEYS=FALSE, ENSURE_ASCII=TRUE, CHECK_CIRCULAR=TRUE, ALLOW_NAN=TRUE, CLS=NONE, INDENT=NONE, SEPARATORS=NONE, ENCODING=\\'UTF-8\\', DEFAULT=NONE, **KW)\\n        SERIALIZE ``OBJ`` AS A JSON FORMATTED STREAM TO ``FP`` (A\\n        ``.WRITE()``-SUPPORTING FILE-LIKE OBJECT).\\n        \\n        IF ``SKIPKEYS`` IS TRUE THEN ``DICT`` KEYS THAT ARE NOT BASIC TYPES\\n        (``STR``, ``UNICODE``, ``INT``, ``LONG``, ``FLOAT``, ``BOOL``, ``NONE``)\\n        WILL BE SKIPPED INSTEAD OF RAISING A ``TYPEERROR``.\\n        \\n        IF ``ENSURE_ASCII`` IS FALSE, THEN THE SOME CHUNKS WRITTEN TO ``FP``\\n        MAY BE ``UNICODE`` INSTANCES, SUBJECT TO NORMAL PYTHON ``STR`` TO\\n        ``UNICODE`` COERCION RULES. UNLESS ``FP.WRITE()`` EXPLICITLY\\n        UNDERSTANDS ``UNICODE`` (AS IN ``CODECS.GETWRITER()``) THIS IS LIKELY\\n        TO CAUSE AN ERROR.\\n        \\n        IF ``CHECK_CIRCULAR`` IS FALSE, THEN THE CIRCULAR REFERENCE CHECK\\n        FOR CONTAINER TYPES WILL BE SKIPPED AND A CIRCULAR REFERENCE WILL\\n        RESULT IN AN ``OVERFLOWERROR`` (OR WORSE).\\n        \\n        IF ``ALLOW_NAN`` IS FALSE, THEN IT WILL BE A ``VALUEERROR`` TO\\n        SERIALIZE OUT OF RANGE ``FLOAT`` VALUES (``NAN``, ``INF``, ``-INF``)\\n        IN STRICT COMPLIANCE OF THE JSON SPECIFICATION, INSTEAD OF USING THE\\n        JAVASCRIPT EQUIVALENTS (``NAN``, ``INFINITY``, ``-INFINITY``).\\n        \\n        IF ``INDENT`` IS A NON-NEGATIVE INTEGER, THEN JSON ARRAY ELEMENTS AND\\n        OBJECT MEMBERS WILL BE PRETTY-PRINTED WITH THAT INDENT LEVEL. AN INDENT\\n        LEVEL OF 0 WILL ONLY INSERT NEWLINES. ``NONE`` IS THE MOST COMPACT\\n        REPRESENTATION.\\n        \\n        IF ``SEPARATORS`` IS AN ``(ITEM_SEPARATOR, DICT_SEPARATOR)`` TUPLE\\n        THEN IT WILL BE USED INSTEAD OF THE DEFAULT ``(\\', \\', \\': \\')`` SEPARATORS.\\n        ``(\\',\\', \\':\\')`` IS THE MOST COMPACT JSON REPRESENTATION.\\n        \\n        ``ENCODING`` IS THE CHARACTER ENCODING FOR STR INSTANCES, DEFAULT IS UTF-8.\\n        \\n        ``DEFAULT(OBJ)`` IS A FUNCTION THAT SHOULD RETURN A SERIALIZABLE VERSION\\n        OF OBJ OR RAISE TYPEERROR. THE DEFAULT SIMPLY RAISES TYPEERROR.\\n        \\n        TO USE A CUSTOM ``JSONENCODER`` SUBCLASS (E.G. ONE THAT OVERRIDES THE\\n        ``.DEFAULT()`` METHOD TO SERIALIZE ADDITIONAL TYPES), SPECIFY IT WITH\\n        THE ``CLS`` KWARG; OTHERWISE ``JSONENCODER`` IS USED.\\n    \\n    DUMPS(OBJ, SKIPKEYS=FALSE, ENSURE_ASCII=TRUE, CHECK_CIRCULAR=TRUE, ALLOW_NAN=TRUE, CLS=NONE, INDENT=NONE, SEPARATORS=NONE, ENCODING=\\'UTF-8\\', DEFAULT=NONE, **KW)\\n        SERIALIZE ``OBJ`` TO A JSON FORMATTED ``STR``.\\n        \\n        IF ``SKIPKEYS`` IS FALSE THEN ``DICT`` KEYS THAT ARE NOT BASIC TYPES\\n        (``STR``, ``UNICODE``, ``INT``, ``LONG``, ``FLOAT``, ``BOOL``, ``NONE``)\\n        WILL BE SKIPPED INSTEAD OF RAISING A ``TYPEERROR``.\\n        \\n        IF ``ENSURE_ASCII`` IS FALSE, THEN THE RETURN VALUE WILL BE A\\n        ``UNICODE`` INSTANCE SUBJECT TO NORMAL PYTHON ``STR`` TO ``UNICODE``\\n        COERCION RULES INSTEAD OF BEING ESCAPED TO AN ASCII ``STR``.\\n        \\n        IF ``CHECK_CIRCULAR`` IS FALSE, THEN THE CIRCULAR REFERENCE CHECK\\n        FOR CONTAINER TYPES WILL BE SKIPPED AND A CIRCULAR REFERENCE WILL\\n        RESULT IN AN ``OVERFLOWERROR`` (OR WORSE).\\n        \\n        IF ``ALLOW_NAN`` IS FALSE, THEN IT WILL BE A ``VALUEERROR`` TO\\n        SERIALIZE OUT OF RANGE ``FLOAT`` VALUES (``NAN``, ``INF``, ``-INF``) IN\\n        STRICT COMPLIANCE OF THE JSON SPECIFICATION, INSTEAD OF USING THE\\n        JAVASCRIPT EQUIVALENTS (``NAN``, ``INFINITY``, ``-INFINITY``).\\n        \\n        IF ``INDENT`` IS A NON-NEGATIVE INTEGER, THEN JSON ARRAY ELEMENTS AND\\n        OBJECT MEMBERS WILL BE PRETTY-PRINTED WITH THAT INDENT LEVEL. AN INDENT\\n        LEVEL OF 0 WILL ONLY INSERT NEWLINES. ``NONE`` IS THE MOST COMPACT\\n        REPRESENTATION.\\n        \\n        IF ``SEPARATORS`` IS AN ``(ITEM_SEPARATOR, DICT_SEPARATOR)`` TUPLE\\n        THEN IT WILL BE USED INSTEAD OF THE DEFAULT ``(\\', \\', \\': \\')`` SEPARATORS.\\n        ``(\\',\\', \\':\\')`` IS THE MOST COMPACT JSON REPRESENTATION.\\n        \\n        ``ENCODING`` IS THE CHARACTER ENCODING FOR STR INSTANCES, DEFAULT IS UTF-8.\\n        \\n        ``DEFAULT(OBJ)`` IS A FUNCTION THAT SHOULD RETURN A SERIALIZABLE VERSION\\n        OF OBJ OR RAISE TYPEERROR. THE DEFAULT SIMPLY RAISES TYPEERROR.\\n        \\n        TO USE A CUSTOM ``JSONENCODER`` SUBCLASS (E.G. ONE THAT OVERRIDES THE\\n        ``.DEFAULT()`` METHOD TO SERIALIZE ADDITIONAL TYPES), SPECIFY IT WITH\\n        THE ``CLS`` KWARG; OTHERWISE ``JSONENCODER`` IS USED.\\n    \\n    LOAD(FP, ENCODING=NONE, CLS=NONE, OBJECT_HOOK=NONE, PARSE_FLOAT=NONE, PARSE_INT=NONE, PARSE_CONSTANT=NONE, OBJECT_PAIRS_HOOK=NONE, **KW)\\n        DESERIALIZE ``FP`` (A ``.READ()``-SUPPORTING FILE-LIKE OBJECT CONTAINING\\n        A JSON DOCUMENT) TO A PYTHON OBJECT.\\n        \\n        IF THE CONTENTS OF ``FP`` IS ENCODED WITH AN ASCII BASED ENCODING OTHER\\n        THAN UTF-8 (E.G. LATIN-1), THEN AN APPROPRIATE ``ENCODING`` NAME MUST\\n        BE SPECIFIED. ENCODINGS THAT ARE NOT ASCII BASED (SUCH AS UCS-2) ARE\\n        NOT ALLOWED, AND SHOULD BE WRAPPED WITH\\n        ``CODECS.GETREADER(FP)(ENCODING)``, OR SIMPLY DECODED TO A ``UNICODE``\\n        OBJECT AND PASSED TO ``LOADS()``\\n        \\n        ``OBJECT_HOOK`` IS AN OPTIONAL FUNCTION THAT WILL BE CALLED WITH THE\\n        RESULT OF ANY OBJECT LITERAL DECODE (A ``DICT``). THE RETURN VALUE OF\\n        ``OBJECT_HOOK`` WILL BE USED INSTEAD OF THE ``DICT``. THIS FEATURE\\n        CAN BE USED TO IMPLEMENT CUSTOM DECODERS (E.G. JSON-RPC CLASS HINTING).\\n        \\n        ``OBJECT_PAIRS_HOOK`` IS AN OPTIONAL FUNCTION THAT WILL BE CALLED WITH THE\\n        RESULT OF ANY OBJECT LITERAL DECODED WITH AN ORDERED LIST OF PAIRS.  THE\\n        RETURN VALUE OF ``OBJECT_PAIRS_HOOK`` WILL BE USED INSTEAD OF THE ``DICT``.\\n        THIS FEATURE CAN BE USED TO IMPLEMENT CUSTOM DECODERS THAT RELY ON THE\\n        ORDER THAT THE KEY AND VALUE PAIRS ARE DECODED (FOR EXAMPLE,\\n        COLLECTIONS.ORDEREDDICT WILL REMEMBER THE ORDER OF INSERTION). IF\\n        ``OBJECT_HOOK`` IS ALSO DEFINED, THE ``OBJECT_PAIRS_HOOK`` TAKES PRIORITY.\\n        \\n        TO USE A CUSTOM ``JSONDECODER`` SUBCLASS, SPECIFY IT WITH THE ``CLS``\\n        KWARG; OTHERWISE ``JSONDECODER`` IS USED.\\n    \\n    LOADS(S, ENCODING=NONE, CLS=NONE, OBJECT_HOOK=NONE, PARSE_FLOAT=NONE, PARSE_INT=NONE, PARSE_CONSTANT=NONE, OBJECT_PAIRS_HOOK=NONE, **KW)\\n        DESERIALIZE ``S`` (A ``STR`` OR ``UNICODE`` INSTANCE CONTAINING A JSON\\n        DOCUMENT) TO A PYTHON OBJECT.\\n        \\n        IF ``S`` IS A ``STR`` INSTANCE AND IS ENCODED WITH AN ASCII BASED ENCODING\\n        OTHER THAN UTF-8 (E.G. LATIN-1) THEN AN APPROPRIATE ``ENCODING`` NAME\\n        MUST BE SPECIFIED. ENCODINGS THAT ARE NOT ASCII BASED (SUCH AS UCS-2)\\n        ARE NOT ALLOWED AND SHOULD BE DECODED TO ``UNICODE`` FIRST.\\n        \\n        ``OBJECT_HOOK`` IS AN OPTIONAL FUNCTION THAT WILL BE CALLED WITH THE\\n        RESULT OF ANY OBJECT LITERAL DECODE (A ``DICT``). THE RETURN VALUE OF\\n        ``OBJECT_HOOK`` WILL BE USED INSTEAD OF THE ``DICT``. THIS FEATURE\\n        CAN BE USED TO IMPLEMENT CUSTOM DECODERS (E.G. JSON-RPC CLASS HINTING).\\n        \\n        ``OBJECT_PAIRS_HOOK`` IS AN OPTIONAL FUNCTION THAT WILL BE CALLED WITH THE\\n        RESULT OF ANY OBJECT LITERAL DECODED WITH AN ORDERED LIST OF PAIRS.  THE\\n        RETURN VALUE OF ``OBJECT_PAIRS_HOOK`` WILL BE USED INSTEAD OF THE ``DICT``.\\n        THIS FEATURE CAN BE USED TO IMPLEMENT CUSTOM DECODERS THAT RELY ON THE\\n        ORDER THAT THE KEY AND VALUE PAIRS ARE DECODED (FOR EXAMPLE,\\n        COLLECTIONS.ORDEREDDICT WILL REMEMBER THE ORDER OF INSERTION). IF\\n        ``OBJECT_HOOK`` IS ALSO DEFINED, THE ``OBJECT_PAIRS_HOOK`` TAKES PRIORITY.\\n        \\n        ``PARSE_FLOAT``, IF SPECIFIED, WILL BE CALLED WITH THE STRING\\n        OF EVERY JSON FLOAT TO BE DECODED. BY DEFAULT THIS IS EQUIVALENT TO\\n        FLOAT(NUM_STR). THIS CAN BE USED TO USE ANOTHER DATATYPE OR PARSER\\n        FOR JSON FLOATS (E.G. DECIMAL.DECIMAL).\\n        \\n        ``PARSE_INT``, IF SPECIFIED, WILL BE CALLED WITH THE STRING\\n        OF EVERY JSON INT TO BE DECODED. BY DEFAULT THIS IS EQUIVALENT TO\\n        INT(NUM_STR). THIS CAN BE USED TO USE ANOTHER DATATYPE OR PARSER\\n        FOR JSON INTEGERS (E.G. FLOAT).\\n        \\n        ``PARSE_CONSTANT``, IF SPECIFIED, WILL BE CALLED WITH ONE OF THE\\n        FOLLOWING STRINGS: -INFINITY, INFINITY, NAN, NULL, TRUE, FALSE.\\n        THIS CAN BE USED TO RAISE AN EXCEPTION IF INVALID JSON NUMBERS\\n        ARE ENCOUNTERED.\\n        \\n        TO USE A CUSTOM ``JSONDECODER`` SUBCLASS, SPECIFY IT WITH THE ``CLS``\\n        KWARG; OTHERWISE ``JSONDECODER`` IS USED.\\n\\n\\nDATA\\n    __ALL__ = [\\'DUMP\\', \\'DUMPS\\', \\'LOAD\\', \\'LOADS\\', \\'JSONDECODER\\', \\'JSONENCOD...\\n    __AUTHOR__ = \\'BOB IPPOLITO <BOB>\\'\\n    __VERSION__ = \\'2.0.9\\'\\n\\n\\nVERSION\\n    2.0.9\\n\\n\\nAUTHOR\\n    BOB IPPOLITO <BOB>\\n\\n\\n\\n\\nIMPORT REQUESTS\\n\\n# ERROR: LINE 1: IMPORTERROR: FILE <MAYA CONSOLE> LINE 1: NO MODULE NAMED REQUESTS # \\n\\nIMPORT URLLIB2\\n\\n# ERROR: LINE 1: IMPORTERROR: FILE C:\\\\PYTHON27\\\\LIB\\\\SOCKET.PY LINE 47: DLL LOAD FAILED: %1 IS NOT A VALID WIN32 APPLICATION. # \\n\\nIMPORT URLLIB\\n\\n# ERROR: LINE 1: IMPORTERROR: FILE C:\\\\PYTHON27\\\\LIB\\\\SOCKET.PY LINE 47: DLL LOAD FAILED: %1 IS NOT A VALID WIN32 APPLICATION. # \\n\\nCMDS.POLYCREATEFACET( P=[(0, 0, 0), (10, 0, 0), (10, 10, 0), (0, 10, 0)] )\\n\\n# RESULT: [U\\'POLYSURFACE2\\', U\\'POLYCREATEFACE2\\'] # \\n\\nCMDS.POLYSPLIT(3,3,3)\\n\\n# ERROR: LINE 1: VALUEERROR: FILE <MAYA CONSOLE> LINE 1: NO OBJECT MATCHES NAME: 3 # \\n\\nCMDS.POLYSPLIT()\\n\\n# ERROR: LINE 1: RUNTIMEERROR: FILE <MAYA CONSOLE> LINE 1: NEED AT LEAST ONE \"-EP\" OR \"-IP\" FLAG (EDGE SPLIT POINT). # \\n\\nCMDS.POLYSPLIT()\\n\\n# ERROR: LINE 1: RUNTIMEERROR: FILE <MAYA CONSOLE> LINE 1: NEED AT LEAST ONE \"-EP\" OR \"-IP\" FLAG (EDGE SPLIT POINT). # \\n\\nCMDS.POLYCREATEFACET( P=[(0, 2, 0), (0, -2, 0), (4, -2, 0), (4, 2, 0)] )\\n\\nCMDS.POLYSPLIT( IP=[(2, 0.1), (3, 0.5), (0, 2, -1, 0.0), (0, 0.9)] )\\n\\n\\n\\nLISX = []\\n\\nFOR I IN RANGE (10):\\n    LISX.APPEND(RANDOM.RANDRANGE(1,101,1))\\n    PRINT LISX\\n[21]\\n\\n[21, 84]\\n\\n[21, 84, 11]\\n\\n[21, 84, 11, 99]\\n\\n[21, 84, 11, 99, 7]\\n\\n[21, 84, 11, 99, 7, 31]\\n\\n[21, 84, 11, 99, 7, 31, 59]\\n\\n[21, 84, 11, 99, 7, 31, 59, 5]\\n\\n[21, 84, 11, 99, 7, 31, 59, 5, 22]\\n\\n[21, 84, 11, 99, 7, 31, 59, 5, 22, 79]\\n\\nLISX = []\\n\\nFOR I IN RANGE (10):\\n    LISX.APPEND(RANDOM.RANDRANGE(1,101,1))\\nPRINT LISX\\n\\n[80, 85, 86, 89, 45, 60, 55, 39, 54, 96]\\n\\nSHULISX = RANDOM.SHUFFLE(LISX)\\n\\nPRINT SHULISX\\n\\nNONE\\n\\nPRINT LISX\\n\\n[54, 89, 55, 85, 39, 80, 60, 86, 45, 96]\\n\\nRANDOM.SHUFFLE(LISX)\\n\\nPRINT RANDOM.SHUFFLE(LISX)\\n\\nNONE\\n\\nLISX = []\\n\\nFOR I IN RANGE (10):\\n    LISX.APPEND(RANDOM.RANDRANGE(1,101,1))\\n    RANDOM.SHUFFLE(LISX)\\nPRINT LISX\\n\\n[9, 5, 45, 52, 9, 21, 8, 43, 32, 93]\\n\\nCMDS.POLYCUBE(5,5,5)\\n\\n# ERROR: LINE 1: VALUEERROR: FILE <MAYA CONSOLE> LINE 1: NO OBJECT MATCHES NAME: 5 # \\n\\nCMDS.POLYCUBE()\\n\\n# RESULT: [U\\'PCUBE3\\', U\\'POLYCUBE3\\'] # \\n\\nHELP(\\'CMDS\\')\\n\\nNO PYTHON DOCUMENTATION FOUND FOR \\'CMDS\\'\\n\\n\\n\\nIMPORT PIP\\n\\n# ERROR: LINE 1: IMPORTERROR: FILE <MAYA CONSOLE> LINE 1: NO MODULE NAMED PIP # \\n\\nPYTHON\\n\\n# ERROR: LINE 1: NAMEERROR: FILE <MAYA CONSOLE> LINE 1: NAME \\'PYTHON\\' IS NOT DEFINED # \\n\\nIMPORT SYS\\n\\nIMPORT MAYA.OPENMAYA AS OPENMAYA\\n\\nIMPORT MAYA.OPENMAYAPX AS OPENMAYAPX\\n\\n# ERROR: LINE 1: IMPORTERROR: FILE <MAYA CONSOLE> LINE 2: NO MODULE NAMED OPENMAYAPX # \\n\\nIMPORT MAYA.OPENMAYA AS OPENMAYA\\n\\n\\n\\nIMPORT MAYA.OPENMAYAMPX AS OPENMAYAMPX\\n\\n\\n\\nKPLUGINCMDNAME = \"SPHELLOWORLD\"\\n\\n\\n\\nCLASS SCRIPTEDCOMMAND(OPENMAYAMPX.MPXCOMMAND):\\n    DEF __INIT__(SELF):\\n        OPENMAYAMPX.MPXCOMMAND.__INIT__(SELF)\\n\\n    # INVOKED WHEN THE COMMAND IS RUN.\\n    DEF DOIT(SELF,ARGLIST):\\n        PRINT \"HELLO WORLD!\"\\n\\n\\n# CREATOR\\n\\nDEF CMDCREATOR():\\n    RETURN OPENMAYAMPX.ASMPXPTR( SCRIPTEDCOMMAND() )\\n\\n\\n# INITIALIZE THE SCRIPT PLUG-IN\\n\\nDEF INITIALIZEPLUGIN(MOBJECT):\\n    MPLUGIN = OPENMAYAMPX.MFNPLUGIN(MOBJECT)\\n    TRY:\\n        MPLUGIN.REGISTERCOMMAND( KPLUGINCMDNAME, CMDCREATOR )\\n    EXCEPT:\\n        SYS.STDERR.WRITE( \"FAILED TO REGISTER COMMAND: %S\\\\N\" % KPLUGINCMDNAME )\\n        RAISE\\n\\n\\n# UNINITIALIZE THE SCRIPT PLUG-IN\\n\\nDEF UNINITIALIZEPLUGIN(MOBJECT):\\n    MPLUGIN = OPENMAYAMPX.MFNPLUGIN(MOBJECT)\\n    TRY:\\n        MPLUGIN.DEREGISTERCOMMAND( KPLUGINCMDNAME )\\n    EXCEPT:\\n        SYS.STDERR.WRITE( \"FAILED TO UNREGISTER COMMAND: %S\\\\N\" % KPLUGINCMDNAME )\\n(U\"C:/USERS/LUKE/DOCUMENTS/MAYA/2014-X64/PREFS/SCRIPTEDITORTEMP/MYFIRSTPLUGIN.PY\").REPLACE(\"\\\\\\\\\",\"/\");\\n\\n# RESULT: C:/USERS/LUKE/DOCUMENTS/MAYA/2014-X64/PREFS/SCRIPTEDITORTEMP/MYFIRSTPLUGIN.PY # \\n\\n(U\"C:/PROGRAM FILES/AUTODESK/MAYA2014/BIN/PLUG-INS/ABCEXPORT.MLL\").REPLACE(\"\\\\\\\\\",\"/\");\\n\\n# RESULT: C:/PROGRAM FILES/AUTODESK/MAYA2014/BIN/PLUG-INS/ABCEXPORT.MLL # \\n\\n(U\"C:/PROGRAM FILES/AUTODESK/MAYA2014/BIN/PLUG-INS/ABCIMPORT.MLL\").REPLACE(\"\\\\\\\\\",\"/\");\\n\\n# RESULT: C:/PROGRAM FILES/AUTODESK/MAYA2014/BIN/PLUG-INS/ABCIMPORT.MLL # \\n\\n(U\"C:/PROGRAM FILES/AUTODESK/MAYA2014/BIN/PLUG-INS/ARUBATESSELLATOR.MLL\").REPLACE(\"\\\\\\\\\",\"/\");\\n\\n# RESULT: C:/PROGRAM FILES/AUTODESK/MAYA2014/BIN/PLUG-INS/ARUBATESSELLATOR.MLL # \\n\\n(U\"C:/PROGRAM FILES/AUTODESK/MAYA2014/BIN/PLUG-INS/AUTODESKPACKETFILE.MLL\").REPLACE(\"\\\\\\\\\",\"/\");\\n\\n# RESULT: C:/PROGRAM FILES/AUTODESK/MAYA2014/BIN/PLUG-INS/AUTODESKPACKETFILE.MLL # \\n\\n(U\"C:/PROGRAM FILES/AUTODESK/MAYA2014/BIN/PLUG-INS/DIRECTCONNECT.MLL\").REPLACE(\"\\\\\\\\\",\"/\");\\n\\n# RESULT: C:/PROGRAM FILES/AUTODESK/MAYA2014/BIN/PLUG-INS/DIRECTCONNECT.MLL # \\n\\n(U\"C:/PROGRAM FILES/AUTODESK/MAYA2014/BIN/PLUG-INS/FUR.MLL\").REPLACE(\"\\\\\\\\\",\"/\");\\n\\n# RESULT: C:/PROGRAM FILES/AUTODESK/MAYA2014/BIN/PLUG-INS/FUR.MLL # \\n\\n(U\"C:/PROGRAM FILES/AUTODESK/MAYA2014/BIN/PLUG-INS/MAYAMUSCLE.MLL\").REPLACE(\"\\\\\\\\\",\"/\");\\n\\n# RESULT: C:/PROGRAM FILES/AUTODESK/MAYA2014/BIN/PLUG-INS/MAYAMUSCLE.MLL # \\n\\n(U\"C:/PROGRAM FILES/AUTODESK/MAYA2014/BIN/PLUG-INS/ONECLICK.MLL\").REPLACE(\"\\\\\\\\\",\"/\");\\n\\n# RESULT: C:/PROGRAM FILES/AUTODESK/MAYA2014/BIN/PLUG-INS/ONECLICK.MLL # \\n\\n(U\"C:/PROGRAM FILES/AUTODESK/MAYA2014/BIN/PLUG-INS/OPENEXRLOADER.MLL\").REPLACE(\"\\\\\\\\\",\"/\");\\n\\n# RESULT: C:/PROGRAM FILES/AUTODESK/MAYA2014/BIN/PLUG-INS/OPENEXRLOADER.MLL # \\n\\n(U\"C:/PROGRAM FILES/AUTODESK/MAYA2014/BIN/PLUG-INS/TURTLE.MLL\").REPLACE(\"\\\\\\\\\",\"/\");\\n\\n# RESULT: C:/PROGRAM FILES/AUTODESK/MAYA2014/BIN/PLUG-INS/TURTLE.MLL # \\n\\n(U\"C:/PROGRAM FILES/AUTODESK/MAYA2014/BIN/PLUG-INS/VECTORRENDER.MLL\").REPLACE(\"\\\\\\\\\",\"/\");\\n\\n# RESULT: C:/PROGRAM FILES/AUTODESK/MAYA2014/BIN/PLUG-INS/VECTORRENDER.MLL # \\n\\n(U\"C:/PROGRAM FILES/AUTODESK/MAYA2014/BIN/PLUG-INS/ANIMIMPORTEXPORT.MLL\").REPLACE(\"\\\\\\\\\",\"/\");\\n\\n# RESULT: C:/PROGRAM FILES/AUTODESK/MAYA2014/BIN/PLUG-INS/ANIMIMPORTEXPORT.MLL # \\n\\n(U\"C:/PROGRAM FILES/AUTODESK/MAYA2014/BIN/PLUG-INS/ATOMIMPORTEXPORT.MLL\").REPLACE(\"\\\\\\\\\",\"/\");\\n\\n# RESULT: C:/PROGRAM FILES/AUTODESK/MAYA2014/BIN/PLUG-INS/ATOMIMPORTEXPORT.MLL # \\n\\n(U\"C:/PROGRAM FILES/AUTODESK/MAYA2014/BIN/PLUG-INS/AUTOLOADER.MLL\").REPLACE(\"\\\\\\\\\",\"/\");\\n\\n# RESULT: C:/PROGRAM FILES/AUTODESK/MAYA2014/BIN/PLUG-INS/AUTOLOADER.MLL # \\n\\n(U\"C:/PROGRAM FILES/AUTODESK/MAYA2014/BIN/PLUG-INS/BULLET.MLL\").REPLACE(\"\\\\\\\\\",\"/\");\\n\\n# RESULT: C:/PROGRAM FILES/AUTODESK/MAYA2014/BIN/PLUG-INS/BULLET.MLL # \\n\\n(U\"C:/PROGRAM FILES/AUTODESK/MAYA2014/BIN/PLUG-INS/CGFXSHADER.MLL\").REPLACE(\"\\\\\\\\\",\"/\");\\n\\n# RESULT: C:/PROGRAM FILES/AUTODESK/MAYA2014/BIN/PLUG-INS/CGFXSHADER.MLL # \\n\\n(U\"C:/PROGRAM FILES/AUTODESK/MAYA2014/BIN/PLUG-INS/CLEANPERFACEASSIGNMENT.MLL\").REPLACE(\"\\\\\\\\\",\"/\");\\n\\n# RESULT: C:/PROGRAM FILES/AUTODESK/MAYA2014/BIN/PLUG-INS/CLEANPERFACEASSIGNMENT.MLL # \\n\\n(U\"C:/PROGRAM FILES/AUTODESK/MAYA2014/BIN/PLUG-INS/CLEARCOAT.MLL\").REPLACE(\"\\\\\\\\\",\"/\");\\n\\n# RESULT: C:/PROGRAM FILES/AUTODESK/MAYA2014/BIN/PLUG-INS/CLEARCOAT.MLL # \\n\\n(U\"C:/PROGRAM FILES/AUTODESK/MAYA2014/BIN/PLUG-INS/DDSFLOATREADER.MLL\").REPLACE(\"\\\\\\\\\",\"/\");\\n\\n# RESULT: C:/PROGRAM FILES/AUTODESK/MAYA2014/BIN/PLUG-INS/DDSFLOATREADER.MLL # \\n\\n(U\"C:/PROGRAM FILES/AUTODESK/MAYA2014/BIN/PLUG-INS/DGPROFILER.MLL\").REPLACE(\"\\\\\\\\\",\"/\");\\n\\n# RESULT: C:/PROGRAM FILES/AUTODESK/MAYA2014/BIN/PLUG-INS/DGPROFILER.MLL # \\n\\n(U\"C:/PROGRAM FILES/AUTODESK/MAYA2014/BIN/PLUG-INS/DX11SHADER.MLL\").REPLACE(\"\\\\\\\\\",\"/\");\\n\\n# RESULT: C:/PROGRAM FILES/AUTODESK/MAYA2014/BIN/PLUG-INS/DX11SHADER.MLL # \\n\\n(U\"C:/PROGRAM FILES/AUTODESK/MAYA2014/BIN/PLUG-INS/FBXMAYA.MLL\").REPLACE(\"\\\\\\\\\",\"/\");\\n\\n# RESULT: C:/PROGRAM FILES/AUTODESK/MAYA2014/BIN/PLUG-INS/FBXMAYA.MLL # \\n\\n(U\"C:/PROGRAM FILES/AUTODESK/MAYA2014/BIN/PLUG-INS/FLTTRANSLATOR.MLL\").REPLACE(\"\\\\\\\\\",\"/\");\\n\\n# RESULT: C:/PROGRAM FILES/AUTODESK/MAYA2014/BIN/PLUG-INS/FLTTRANSLATOR.MLL # \\n\\n(U\"C:/PROGRAM FILES/AUTODESK/MAYA2014/BIN/PLUG-INS/GE2EXPORT.MLL\").REPLACE(\"\\\\\\\\\",\"/\");\\n\\n# RESULT: C:/PROGRAM FILES/AUTODESK/MAYA2014/BIN/PLUG-INS/GE2EXPORT.MLL # \\n\\n(U\"C:/PROGRAM FILES/AUTODESK/MAYA2014/BIN/PLUG-INS/GPUCACHE.MLL\").REPLACE(\"\\\\\\\\\",\"/\");\\n\\n# RESULT: C:/PROGRAM FILES/AUTODESK/MAYA2014/BIN/PLUG-INS/GPUCACHE.MLL # \\n\\n(U\"C:/PROGRAM FILES/AUTODESK/MAYA2014/BIN/PLUG-INS/HLSLSHADER.MLL\").REPLACE(\"\\\\\\\\\",\"/\");\\n\\n# RESULT: C:/PROGRAM FILES/AUTODESK/MAYA2014/BIN/PLUG-INS/HLSLSHADER.MLL # \\n\\n(U\"C:/PROGRAM FILES/AUTODESK/MAYA2014/BIN/PLUG-INS/IK2BSOLVER.MLL\").REPLACE(\"\\\\\\\\\",\"/\");\\n\\n# RESULT: C:/PROGRAM FILES/AUTODESK/MAYA2014/BIN/PLUG-INS/IK2BSOLVER.MLL # \\n\\n(U\"C:/PROGRAM FILES/AUTODESK/MAYA2014/BIN/PLUG-INS/IKSPRINGSOLVER.MLL\").REPLACE(\"\\\\\\\\\",\"/\");\\n\\n# RESULT: C:/PROGRAM FILES/AUTODESK/MAYA2014/BIN/PLUG-INS/IKSPRINGSOLVER.MLL # \\n\\n(U\"C:/PROGRAM FILES/AUTODESK/MAYA2014/BIN/PLUG-INS/MATRIXNODES.MLL\").REPLACE(\"\\\\\\\\\",\"/\");\\n\\n# RESULT: C:/PROGRAM FILES/AUTODESK/MAYA2014/BIN/PLUG-INS/MATRIXNODES.MLL # \\n\\n(U\"C:/PROGRAM FILES/AUTODESK/MAYA2014/BIN/PLUG-INS/MAYACHARACTERIZATION.MLL\").REPLACE(\"\\\\\\\\\",\"/\");\\n\\n# RESULT: C:/PROGRAM FILES/AUTODESK/MAYA2014/BIN/PLUG-INS/MAYACHARACTERIZATION.MLL # \\n\\n(U\"C:/PROGRAM FILES/AUTODESK/MAYA2014/BIN/PLUG-INS/MAYAHIK.MLL\").REPLACE(\"\\\\\\\\\",\"/\");\\n\\n# RESULT: C:/PROGRAM FILES/AUTODESK/MAYA2014/BIN/PLUG-INS/MAYAHIK.MLL # \\n\\n(U\"C:/PROGRAM FILES/AUTODESK/MAYA2014/BIN/PLUG-INS/MELPROFILER.MLL\").REPLACE(\"\\\\\\\\\",\"/\");\\n\\n# RESULT: C:/PROGRAM FILES/AUTODESK/MAYA2014/BIN/PLUG-INS/MELPROFILER.MLL # \\n\\n(U\"C:/PROGRAM FILES/AUTODESK/MAYA2014/BIN/PLUG-INS/MODELINGTOOLKIT.MLL\").REPLACE(\"\\\\\\\\\",\"/\");\\n\\n# RESULT: C:/PROGRAM FILES/AUTODESK/MAYA2014/BIN/PLUG-INS/MODELINGTOOLKIT.MLL # \\n\\n(U\"C:/PROGRAM FILES/AUTODESK/MAYA2014/BIN/PLUG-INS/NEARESTPOINTONMESH.MLL\").REPLACE(\"\\\\\\\\\",\"/\");\\n\\n# RESULT: C:/PROGRAM FILES/AUTODESK/MAYA2014/BIN/PLUG-INS/NEARESTPOINTONMESH.MLL # \\n\\n(U\"C:/PROGRAM FILES/AUTODESK/MAYA2014/BIN/PLUG-INS/OBJEXPORT.MLL\").REPLACE(\"\\\\\\\\\",\"/\");\\n\\n# RESULT: C:/PROGRAM FILES/AUTODESK/MAYA2014/BIN/PLUG-INS/OBJEXPORT.MLL # \\n\\n(U\"C:/PROGRAM FILES/AUTODESK/MAYA2014/BIN/PLUG-INS/OPENINVENTOR.MLL\").REPLACE(\"\\\\\\\\\",\"/\");\\n\\n# RESULT: C:/PROGRAM FILES/AUTODESK/MAYA2014/BIN/PLUG-INS/OPENINVENTOR.MLL # \\n\\n(U\"C:/PROGRAM FILES/AUTODESK/MAYA2014/BIN/PLUG-INS/QUATNODES.MLL\").REPLACE(\"\\\\\\\\\",\"/\");\\n\\n# RESULT: C:/PROGRAM FILES/AUTODESK/MAYA2014/BIN/PLUG-INS/QUATNODES.MLL # \\n\\n(U\"C:/PROGRAM FILES/AUTODESK/MAYA2014/BIN/PLUG-INS/RETARGETERNODES.PY\").REPLACE(\"\\\\\\\\\",\"/\");\\n\\n# RESULT: C:/PROGRAM FILES/AUTODESK/MAYA2014/BIN/PLUG-INS/RETARGETERNODES.PY # \\n\\n(U\"C:/PROGRAM FILES/AUTODESK/MAYA2014/BIN/PLUG-INS/ROTATEHELPER.MLL\").REPLACE(\"\\\\\\\\\",\"/\");\\n\\n# RESULT: C:/PROGRAM FILES/AUTODESK/MAYA2014/BIN/PLUG-INS/ROTATEHELPER.MLL # \\n\\n(U\"C:/PROGRAM FILES/AUTODESK/MAYA2014/BIN/PLUG-INS/RTGEXPORT.MLL\").REPLACE(\"\\\\\\\\\",\"/\");\\n\\n# RESULT: C:/PROGRAM FILES/AUTODESK/MAYA2014/BIN/PLUG-INS/RTGEXPORT.MLL # \\n\\n(U\"C:/PROGRAM FILES/AUTODESK/MAYA2014/BIN/PLUG-INS/SCENEASSEMBLY.MLL\").REPLACE(\"\\\\\\\\\",\"/\");\\n\\n# RESULT: C:/PROGRAM FILES/AUTODESK/MAYA2014/BIN/PLUG-INS/SCENEASSEMBLY.MLL # \\n\\n(U\"C:/PROGRAM FILES/AUTODESK/MAYA2014/BIN/PLUG-INS/STEREOCAMERA.MLL\").REPLACE(\"\\\\\\\\\",\"/\");\\n\\n# RESULT: C:/PROGRAM FILES/AUTODESK/MAYA2014/BIN/PLUG-INS/STEREOCAMERA.MLL # \\n\\n(U\"C:/PROGRAM FILES/AUTODESK/MAYA2014/BIN/PLUG-INS/STUDIOIMPORT.MLL\").REPLACE(\"\\\\\\\\\",\"/\");\\n\\n# RESULT: C:/PROGRAM FILES/AUTODESK/MAYA2014/BIN/PLUG-INS/STUDIOIMPORT.MLL # \\n\\n(U\"C:/PROGRAM FILES/AUTODESK/MAYA2014/BIN/PLUG-INS/TESTEXAMPLES.NLL.DLL\").REPLACE(\"\\\\\\\\\",\"/\");\\n\\n# RESULT: C:/PROGRAM FILES/AUTODESK/MAYA2014/BIN/PLUG-INS/TESTEXAMPLES.NLL.DLL # \\n\\n(U\"C:/PROGRAM FILES/AUTODESK/MAYA2014/BIN/PLUG-INS/TIFFFLOATREADER.MLL\").REPLACE(\"\\\\\\\\\",\"/\");\\n\\n# RESULT: C:/PROGRAM FILES/AUTODESK/MAYA2014/BIN/PLUG-INS/TIFFFLOATREADER.MLL # \\n\\n(U\"C:/PROGRAM FILES/AUTODESK/MAYA2014/BIN/PLUG-INS/VRML2EXPORT.MLL\").REPLACE(\"\\\\\\\\\",\"/\");\\n\\n# RESULT: C:/PROGRAM FILES/AUTODESK/MAYA2014/BIN/PLUG-INS/VRML2EXPORT.MLL # \\n\\n(U\"C:/PROGRAM FILES/AUTODESK/MENTALRAYFORMAYA2014/PLUG-INS/MAYATOMR.MLL\").REPLACE(\"\\\\\\\\\",\"/\");\\n\\n# RESULT: C:/PROGRAM FILES/AUTODESK/MENTALRAYFORMAYA2014/PLUG-INS/MAYATOMR.MLL # \\n\\n(U\"C:/PROGRAM FILES/AUTODESK/MAYA2014/SUBSTANCE/PLUG-INS/SUBSTANCE.MLL\").REPLACE(\"\\\\\\\\\",\"/\");\\n\\n# RESULT: C:/PROGRAM FILES/AUTODESK/MAYA2014/SUBSTANCE/PLUG-INS/SUBSTANCE.MLL # \\n\\nCMDS.POLYCUBE()\\n\\n# RESULT: [U\\'PCUBE4\\', U\\'POLYCUBE4\\'] # \\n\\nCMDS.SELECT(\\'PCUBE4.E[0,31]\\')\\n\\nCMDS.POLYSPLITRING(SMA=180, WT=0.2)\\n\\n# ERROR: LINE 1: TYPEERROR: FILE <MAYA CONSOLE> LINE 1: OBJECT PCUBE4.E[0,31] IS INVALID # \\n\\nCMDS.SELECT(\\'PCUBE4.E[0,31]\\')\\n\\n# ERROR: LINE 1: TYPEERROR: FILE <MAYA CONSOLE> LINE 1: OBJECT PCUBE4.E[0,31] IS INVALID # \\n\\nCMDS.SELECT(\\'PCUBE1.E[0:3]\\')\\n\\n\\n\\nCMDS.POLYSPLITRING( SMA=180, WT=0.2)\\n\\n\\n\\n# RESULT: [U\\'POLYSPLITRING1\\'] # \\n\\nSPIRAN = RANDOM.CHOICE(LISX)\\n\\nCMDS.POLYSPLITRING( SMA=180, WT=0.2)\\n\\n\\n\\n# WARNING: CAN\\'T PERFORM POLYSPLITRING2 ON SELECTION # \\n\\nCMDS.SELECT(\\'PCUBE4.E[0,3]\\')\\n\\n\\n\\n# ERROR: LINE 1: TYPEERROR: FILE <MAYA CONSOLE> LINE 1: OBJECT PCUBE4.E[0,3] IS INVALID # \\n\\nCMDS.POLYSPLITRING( SMA=180, WT=0.2)\\n\\n# WARNING: CAN\\'T PERFORM POLYSPLITRING3 ON SELECTION # \\n\\n# RESULT: [U\\'POLYSPLITRING3\\'] # \\n\\nCMDS.POLYCUBE( N=\\'PLG\\', W=5, H=5, D=5 )\\n\\n\\n\\n# RESULT: [U\\'PLG\\', U\\'POLYCUBE5\\'] # \\n\\nCMDS.SCALE( 2, 2, 2 )\\n\\n\\n\\nCMDS.SELECT( \\'PLG\\' )\\n\\n\\n\\nCMDS.POLYOPTIONS( AO=TRUE, DV=\\'TRUE\\' )\\n\\n\\n\\n# ERROR: LINE 1: TYPEERROR: FILE <MAYA CONSOLE> LINE 1: INVALID ARGUMENTS FOR FLAG \\'DV\\'.  EXPECTED INT, GOT STR # \\n\\nCMDS.POLYSUBDIVIDEEDGE( DV=4 )\\n\\n\\n\\n# RESULT: [U\\'POLYSUBDEDGE1\\'] # \\n\\nCMDS.POLYSUBDIVIDEEDGE( DV=4, S=1.5 )\\n\\n\\n\\n# RESULT: [U\\'POLYSUBDEDGE2\\'] # \\n\\nCMDS.POLYSUBDIVIDEEDGE( DV=4, S=2, WS=TRUE )\\n\\n\\n\\n# ERROR: LINE 1: TYPEERROR: FILE <MAYA CONSOLE> LINE 1: ERROR RETRIEVING DEFAULT ARGUMENTS # \\n\\nCMDS.POLYSUBDIVIDEEDGE( DV=4, S=2, WS=TRUE )\\n\\n\\n\\n# RESULT: [U\\'POLYSUBDEDGE3\\'] # \\n\\nCMDS.POLYPLANE( NAME=\\'P\\', CH=FALSE )\\n\\n# RESULT: [U\\'P\\'] # \\n\\nCMDS.SELECT(N=\\'P\\')\\n\\n# ERROR: LINE 1: TYPEERROR: FILE <MAYA CONSOLE> LINE 1: INVALID FLAG \\'N\\' # \\n\\nCMDS.SELECT(\\'P\\')\\n\\nCMDS.SELECT(\\'P\\')\\n\\nCMDS.SELECT(\\'P\\')\\n\\nCMDS.DATASTRUCTURE( FORMAT=\\'RAW\\', ASSTRING=\\'NAME=IDSTRUCT:INT32=ID\\' )\\n\\n\\n\\n# RESULT: IDSTRUCT # \\n\\nCMDS.DATASTRUCTURE( FORMAT=\\'RAW\\', ASSTRING=\\'NAME=OFFSTRUCT:FLOAT=OFFSET\\' )\\n\\n\\n\\n# RESULT: OFFSTRUCT # \\n\\nCMDS.DATASTRUCTURE( FORMAT=\\'RAW\\', ASSTRING=\\'NAME=ORGSTRUCT:FLOAT[3]=ORIGIN POINT\\' )\\n\\n\\n\\n# RESULT: ORGSTRUCT # \\n\\nCMDS.ADDMETADATA( QUERY=TRUE, CHANNELTYPE=TRUE )\\n\\n\\n\\n# WARNING: THE \\'CHANNELTYPE\\' FLAG IS OBSOLETE. USE \\'CHANNELNAME\\' INSTEAD. # \\n\\n# ERROR: LINE 1: RUNTIMEERROR: FILE <MAYA CONSOLE> LINE 1: QUERY MODE ONLY WORKS WITH EXACTLY ONE NODE SELECTED OR USING THE \\'SCENE\\' FLAG. # \\n\\nCMDS.SELECT(\\'P\\')\\n\\nCMDS.ADDMETADATA( QUERY=TRUE, CHANNELTYPE=TRUE )\\n\\n\\n\\n# WARNING: THE \\'CHANNELTYPE\\' FLAG IS OBSOLETE. USE \\'CHANNELNAME\\' INSTEAD. # \\n\\nCMDS.ADDMETADATA( QUERY=TRUE, CHANNELNAME=TRUE )\\n\\n\\n\\nCMDS.ADDMETADATA( CHANNELTYPE=\\'VERTEX\\', STREAMNAME=\\'OFFSTREAM\\', QUERY=TRUE, STRUCTURE=TRUE )\\n\\n\\n\\n# WARNING: THE \\'CHANNELTYPE\\' FLAG IS OBSOLETE. USE \\'CHANNELNAME\\' INSTEAD. # \\n\\nCMDS.ADDMETADATA( CHANNELNAME=\\'VERTEX\\', STREAMNAME=\\'OFFSTREAM\\', QUERY=TRUE, STRUCTURE=TRUE )\\n\\n\\n\\nCMDS.ADDMETADATA( CHANNELTYPE=\\'VERTEX\\', QUERY=TRUE, STREAMNAME=TRUE )\\n\\n\\n\\n# WARNING: THE \\'CHANNELTYPE\\' FLAG IS OBSOLETE. USE \\'CHANNELNAME\\' INSTEAD. # \\n\\nCMDS.ADDMETADATA( QUERY=TRUE, STREAMNAME=TRUE )\\n\\n\\n\\nFOR STREAM IN STREAMS:\\n\\tINDEXTYPE = CMDS.ADDMETADATA( CHANNELTYPE=\\'VERTEX\\', STREAMNAME=STREAM, QUERY=TRUE, INDEXTYPE=TRUE )[0]\\n\\tPRINT \\'INDEX TYPE ON %S IS %S\\' % (STREAM, INDEXTYPE)\\n# ERROR: LINE 1: NAMEERROR: FILE <MAYA CONSOLE> LINE 1: NAME \\'STREAMS\\' IS NOT DEFINED # \\n\\nSTREAMS = CMDS.ADDMETADATA( CHANNELTYPE=\\'VERTEX\\', QUERY=TRUE, STREAMNAME=TRUE )\\n\\n\\n\\n# WARNING: THE \\'CHANNELTYPE\\' FLAG IS OBSOLETE. USE \\'CHANNELNAME\\' INSTEAD. # \\n\\nFOR STREAM IN STREAMS:\\n\\tINDEXTYPE = CMDS.ADDMETADATA( CHANNELTYPE=\\'VERTEX\\', STREAMNAME=STREAM, QUERY=TRUE, INDEXTYPE=TRUE )[0]\\n\\tPRINT \\'INDEX TYPE ON %S IS %S\\' % (STREAM, INDEXTYPE)\\n\\t\\n# ERROR: LINE 1: TYPEERROR: FILE <MAYA CONSOLE> LINE 1: \\'NONETYPE\\' OBJECT IS NOT ITERABLE # \\n\\nCMDS.POLYCREATEFACET( P=[(0, 0, 0), (10, 0, 0), (10, 10, 0), (0, 10, 0)] )\\n\\n\\n\\n# RESULT: [U\\'POLYSURFACE4\\', U\\'POLYCREATEFACE4\\'] # \\n\\nCMDS.SELECT(\\'POLYSURFACE4\\')\\n\\nCMDS.POLYAPPEND(A=[0,(5,-5,0])\\n\\n# ERROR: LINE 1: INVALID SYNTAX # \\n\\nCMDS.POLYAPPEND( A=[0, (5, -5, 0)] )\\n\\n\\n\\n# WARNING: CAN\\'T PERFORM POLYAPPEND3 ON SELECTION # \\n\\n# RESULT: [U\\'POLYAPPEND3\\'] # \\n\\nCURRENTPANEL = CMDS.GETPANEL(WITHFOCUS= TRUE)\\n\\nIF CURRENTPANEL != \\'\\':\\n\\tCMDS.MODELEDITOR(CURRENTPANEL, EDIT=TRUE, DA=\\'SMOOTHSHADED\\', DL=\\'DEFAULT\\')\\nCMDS.POLYSPHERE(N= \\'PLG\\', SX= 15, SY= 10 )\\n\\n# ERROR: LINE 1: RUNTIMEERROR: FILE <MAYA CONSOLE> LINE 3: MODELEDITOR: OBJECT \\'SCRIPTEDITORPANEL1\\' NOT FOUND. # \\n\\nCMDS.POLYPLANE( SX=3, SY=3, NAME=\\'POLYPLANE\\' )\\n\\n\\n\\n# RESULT: [U\\'POLYPLANE\\', U\\'POLYPLANE3\\'] # \\n\\nCMDS.SELECT(\\'POLYPLANE\\')\\n\\nCMDS.POLYEVALUATE( \\'POLYPLANE\\', VERTEX=TRUE )\\n\\n\\n\\n# RESULT: 16 # \\n\\n(U\"C:/USERS/LUKE/DOCUMENTS/MAYA/PROJECTS/DEFAULT/SCENES/PYTHON.MB\").REPLACE(\"\\\\\\\\\",\"/\");\\n\\n# RESULT: C:/USERS/LUKE/DOCUMENTS/MAYA/PROJECTS/DEFAULT/SCENES/PYTHON.MB # \\n\\n(U\"C:/USERS/LUKE/DOCUMENTS/MAYA/PROJECTS/DEFAULT/SCENES/PYTHON.MB\").REPLACE(\"\\\\\\\\\",\"/\");\\n\\n# RESULT: C:/USERS/LUKE/DOCUMENTS/MAYA/PROJECTS/DEFAULT/SCENES/PYTHON.MB # \\n\\n(U\"C:/USERS/LUKE/DOCUMENTS/MAYA/PROJECTS/DEFAULT/SCENES/PYTHON.MB\").REPLACE(\"\\\\\\\\\",\"/\");\\n\\n# RESULT: C:/USERS/LUKE/DOCUMENTS/MAYA/PROJECTS/DEFAULT/SCENES/PYTHON.MB # \\n\\nCMDS.POLYCUBE()\\n\\n# RESULT: [U\\'PCUBE5\\', U\\'POLYCUBE6\\'] # \\n\\nCMDS.SELECT(\\'PCUBE1.E[0:3]\\')\\n\\n\\n\\nCMDS.POLYSPLITRING( SMA=180, WT=0.2)\\n\\n\\n\\n# RESULT: [U\\'POLYSPLITRING4\\'] # \\n\\nCMDS.SELECT(\\'PCUBE1.E[1:2]\\')\\n\\n\\n\\nCMDS.POLYSPLITRING( SMA=180, WT=0.2)\\n\\n\\n\\n# WARNING: CAN\\'T PERFORM POLYSPLITRING5 ON SELECTION # \\n\\n# RESULT: [U\\'POLYSPLITRING5\\'] # \\n\\nLENCUBE = LEN(LISX)\\n\\nPRINT LENCUBE\\n\\n10\\n\\nRANNUMZ = RANDOM.RANDINT(0,LENCUBE)\\n\\nPRINT RANNUMZ\\n\\n3\\n\\nRANCUCA = LEN(\\'PCUBE1\\')\\n\\nPRINT RANCUCA\\n\\n6\\n\\nRANFINAL = RANDOM.RANDINT(0, RANCUCA)\\n\\nPRINT RANFINAL\\n\\n6\\n\\nCMDS.SELECT(\\'PCUBE1.E[RANNUMZ:RANFINAL]\\')\\n\\n\\n\\n# ERROR: LINE 1: TYPEERROR: FILE <MAYA CONSOLE> LINE 1: OBJECT PCUBE1.E[RANNUMZ:RANFINAL] IS INVALID # \\n\\nCMDS.SELECT(\\'PCUBE1.E[0:RANFINAL]\\')\\n\\n\\n\\n# ERROR: LINE 1: TYPEERROR: FILE <MAYA CONSOLE> LINE 1: OBJECT PCUBE1.E[0:RANFINAL] IS INVALID # \\n\\nCMDS.SELECT(\\'PCUBE1.E[0:1\\')\\n\\n\\n\\n# ERROR: LINE 1: TYPEERROR: FILE <MAYA CONSOLE> LINE 1: OBJECT PCUBE1.E[0:1 IS INVALID # \\n\\nCMDS.SELECT(\\'PCUBE1.E[0:1]\\')\\n\\n\\n\\nCMDS.POLYSPLITRING( SMA=180, WT=0.2)\\n\\n\\n\\n# RESULT: [U\\'POLYSPLITRING6\\'] # \\n\\nCMDS.POLYCUBE()\\n\\n\\n\\n# RESULT: [U\\'PCUBE6\\', U\\'POLYCUBE7\\'] # \\n\\nCMDS.SELECT(\\'PCUBE6.E[0:3]\\')\\n\\n\\n\\nIMPORT MATH\\n\\nSELEMATH = MATH.PI\\n\\nPRINT SELEMATH\\n\\n3.14159265359\\n\\nSHOCUA = RANFINAL - SELEMATH\\n\\nPRINT SHOCUA\\n\\n2.85840734641\\n\\nCMDS.SELECT(\\'PCUBE6.E[SHOCUA:3]\\')\\n\\n\\n\\n# ERROR: LINE 1: TYPEERROR: FILE <MAYA CONSOLE> LINE 1: OBJECT PCUBE6.E[SHOCUA:3] IS INVALID # \\n\\nCMDS.SELECT(\\'PCUBE6.E[SHOCUA:3]\\')\\n\\n\\n\\n# ERROR: LINE 1: TYPEERROR: FILE <MAYA CONSOLE> LINE 1: OBJECT PCUBE6.E[SHOCUA:3] IS INVALID # \\n\\nCMDS.SELECT(\\'PCUBE6.E[0:3]\\')\\n\\n\\n\\nCMDS.POLYSPLITRING( SMA=90, WT=0.8)\\n\\n\\n\\n# RESULT: [U\\'POLYSPLITRING7\\'] # \\n\\nCMDS.POLYSPLITRING( SMA=180, WT=0.6)\\n\\n\\n\\n# WARNING: CAN\\'T PERFORM POLYSPLITRING8 ON SELECTION # \\n\\n# RESULT: [U\\'POLYSPLITRING8\\'] # \\n\\nCMDS.SELECT(\\'PCUBE6.E[0:3]\\')\\n\\n\\n\\nCMDS.POLYSPLITRING( SMA=180, WT=0.6)\\n\\n# RESULT: [U\\'POLYSPLITRING9\\'] # \\n\\nCMDS.SELECT(\\'PCUBE6.E[0:3]\\')\\n\\n\\n\\nCMDS.POLYSPLITRING( SMA=60, WT=0.4)\\n\\n\\n\\n# RESULT: [U\\'POLYSPLITRING10\\'] # \\n\\nCMDS.SELECT(\\'PCUBE6.E[0:2]\\')\\n\\n\\n\\nCMDS.POLYSPLITRING( SMA=60, WT=0.4)\\n\\n\\n\\n# RESULT: [U\\'POLYSPLITRING11\\'] # \\n\\nIMPORT TIME\\n\\nPRINT (\\'HELLO\\')\\n\\nTIME.SLEEP(5)\\n\\nPRINT (\\'WORLD\\')\\n\\nHELLO\\n\\nWORLD\\n\\nX = 0\\n\\n\\n\\nIF X = 10:\\n    PRINT (\\'I AM 10\\')\\nELSE:\\n    PRINT (\\'I AM NOT 10\\')\\n    X + 1\\n# ERROR: LINE 1: INVALID SYNTAX # \\n\\nX = 0\\n\\nIF X = 10:\\n    PRINT (\\'I AM 10\\')\\n# ERROR: LINE 1: INVALID SYNTAX # \\n\\nIF X = 10:\\n    PRINT (\\'I AM 10\\')\\n# ERROR: LINE 1: INVALID SYNTAX # \\n\\nIF X == 10:\\n    PRINT (\\'I AM 10\\')\\nCMDS.SELECT(\\'PCUBE1.E[4:6]\\')\\n\\n\\n\\n0.\\n\\n# RESULT: 0.0 # \\n\\nCMDS.POLYSPLITRING( SMA=90, WT=0.2)\\n\\n\\n\\n# RESULT: [U\\'POLYSPLITRING12\\'] # \\n\\nCMDS.SELECT(\\'PCUBE1.E[4:6]\\')\\n\\n\\n\\nCMDS.POLYSPLITRING( SMA=180, WT=0.6)\\n\\n\\n\\n# WARNING: CAN\\'T PERFORM POLYSPLITRING13 ON SELECTION # \\n\\n# RESULT: [U\\'POLYSPLITRING13\\'] # \\n\\nCMDS.POLYCYLINDER( R=1, H=2, SX=20, SY=1, SZ=1, AX=(0, 1, 0), CUV=1, CH=1, NAME=\\'PCYLA\\' )\\n\\n\\n\\n# RESULT: [U\\'PCYLA\\', U\\'POLYCYLINDER1\\'] # \\n\\nCMDS.SELECT(\\'PCYLA\\')\\n\\nCMDS.SELECT(\\'PCYLA\\')\\n\\nCMDS.POLYCUT( \\'PCYLA.F[0:59]\\', CD=\\'Y\\', CH=1 )\\n\\n\\n\\n# RESULT: [U\\'POLYCUT2\\'] # \\n\\nCMDS.SELECT( CL=TRUE )\\n\\n\\n\\nCMDS.POLYCYLINDER( R=1, H=2, SX=20, SY=1, SZ=1, AX=(0, 1, 0), CUV=1, CH=1, NAME=\\'PCYLB\\' )\\n\\n\\n\\n# RESULT: [U\\'PCYLB\\', U\\'POLYCYLINDER2\\'] # \\n\\nCMDS.MOVE( 3, 0, 0, R=TRUE )\\n\\n\\n\\nCMDS.POLYCUT( \\'PCYLB.F[0:59]\\', CD=\\'Y\\', DF=1, CH=1 )\\n\\n\\n\\n# RESULT: [U\\'POLYCUT3\\'] # \\n\\nCMDS.POLYCYLINDER( R=1, H=2, SX=4, SY=1, SZ=1, AX=(0, 1, 0), CUV=1, CH=1, NAME=\\'PCYLB\\' )\\n\\n\\n\\n# RESULT: [U\\'PCYLB1\\', U\\'POLYCYLINDER3\\'] # \\n\\nCMDS.POLYCUT( \\'PCYLB.F[0:30]\\', CD=\\'Y\\', DF=1, CH=1 )\\n\\n\\n\\n# RESULT: [U\\'POLYCUT4\\'] # \\n\\nCMDS.POLYCUT( \\'PCYLB1.F[0:20]\\', CD=\\'Y\\', DF=1, CH=1 )\\n\\n\\n\\n# RESULT: [U\\'POLYCUT5\\'] # \\n\\nCMDS.POLYCUT( \\'PCYLB1.F[-10:0]\\', CD=\\'Y\\', DF=1, CH=1 )\\n\\n\\n\\n# RESULT: [U\\'POLYCUT6\\'] # \\n\\nCMDS.POLYCUT( \\'PCYLB1.F[0:10]\\', CD=\\'X\\', DF=1, CH=1 )\\n\\n\\n\\n# RESULT: [U\\'POLYCUT6\\'] # \\n\\nCMDS.POLYCUT( \\'PCYLB1.F[0:20]\\', CD=\\'Z\\', DF=1, CH=1 )\\n\\n\\n\\n# RESULT: [U\\'POLYCUT6\\'] # \\n\\nCMDS.POLYCUT( \\'PCYLB1.F[5:10]\\', CD=\\'Z\\', DF=1, CH=1 )\\n\\n\\n\\n# RESULT: [U\\'POLYCUT6\\'] # \\n\\nCMDS.POLYCREASE( VALUE=0.9 )\\n\\n# ERROR: LINE 1: RUNTIMEERROR: FILE <MAYA CONSOLE> LINE 1: MAYA COMMAND ERROR # \\n\\nCMDS.POLYCREASE( VALUE=0.9 )\\n\\nCMDS.POLYPLANE( N=\\'PLG\\', W=5, H=5 )\\n\\n# RESULT: [U\\'PLG1\\', U\\'POLYPLANE4\\'] # \\n\\nCMDS.DELETE( \\'PLG.F[20:29]\\' )\\n\\n\\n\\nCMDS.POLYPLANE( N=\\'PLG\\', W=5, H=5 )\\n\\n\\n\\n# RESULT: [U\\'PLG2\\', U\\'POLYPLANE5\\'] # \\n\\nCMDS.DELETE( \\'PLG2.F[20:29]\\' )\\n\\n\\n\\nCMDS.POLYSELECT( \\'PLG\\', EDGERING=1 )\\n\\n\\n\\n# RESULT: [1, 229] # \\n\\nCMDS.POLYSELECT(\\'PCUBE1\\', EDGERING=[0,50])\\n\\n\\n\\n# RESULT: [0] # \\n\\nCMDS.POLYSELECT( \\'PLG\\', TOGGLE=TRUE, EDGERINGPATH=(1, 10) )\\n\\n\\n\\nCMDS.POLYSELECT( \\'PLG\\', TOGGLE=TRUE, EDGERINGPATH=(1, 10) )\\n\\n\\n\\nCMDS.POLYSELECT( \\'PPLANE1\\', SHORTESTEDGEPATH=(10, 100) )\\n\\n\\n\\n# ERROR: LINE 1: INPUT VERTICES ARE NOT PRESENT ON THE POLYGONAL OBJECT. # \\n\\nCMDS.POLYSELECT( \\'PLC\\', SHORTESTEDGEPATH=(10, 100) )\\n\\n\\n\\n# ERROR: LINE 1: VALUEERROR: FILE <MAYA CONSOLE> LINE 1: NO OBJECT MATCHES NAME: PLC # \\n\\nCMDS.POLYSELECT( \\'PLG\\', SHORTESTEDGEPATH=(10, 100) )\\n\\n\\n\\n# RESULT: [151, 213, 150, 46, 47, 10, 52, 53, 54, 55, 0, 12, 13] # \\n\\nCMDS.POLYPLANE( N=\\'PLG1\\', SX=5, SY=5, W=5, H=5 )\\n\\n\\n\\n# RESULT: [U\\'PLG3\\', U\\'POLYPLANE6\\'] # \\n\\nCMDS.SELECT(\\'PLG3\\')\\n\\nCMDS.MOVE(3,3,3)\\n\\nCMDS.POLYMOVEVERTEX( \\'PLG1.VTX[7]\\', \\'PLG1.VTX[10]\\', \\'PLG1.VTX[25]\\', \\'PLG1.VTX[28]\\', LTZ=1 )\\n\\n\\n\\n# RESULT: [U\\'POLYMOVEVERTEX1\\'] # \\n\\nCMDS.POLYTRIANGULATE( \\'PLG1.F[0:1]\\', \\'PLG1.F[5:6]\\', \\'PLG1.F[3:4]\\', \\'PLG1.F[8:9]\\', \\'PLG1.F[15:16]\\', \\'PLG1.F[20:21]\\', \\'PLG1.F[18:19]\\', \\'PLG1.F[23:24]\\' )\\n\\n\\n\\n# RESULT: [U\\'POLYTRIANGULATE1\\'] # \\n\\nCMDS.POLYTRIANGULATE( \\'PLG1.F[0:50]\\', \\'PLG1.F[5:50]\\', \\'PLG1.F[3:50]\\', \\'PLG1.F[8:50]\\', \\'PLG1.F[15:50]\\', \\'PLG1.F[20:50]\\', \\'PLG1.F[18:50]\\', \\'PLG1.F[23:50]\\' )\\n\\n\\n\\n# RESULT: [U\\'POLYTRIANGULATE2\\'] # \\n\\nCMDS.POLYTRIANGULATE()\\n\\n\\n\\n# RESULT: [U\\'POLYTRIANGULATE3\\'] # \\n\\nCMDS.POLYBOOLOP()\\n\\n# ERROR: LINE 1: TYPEERROR: FILE <MAYA CONSOLE> LINE 1: ERROR RETRIEVING DEFAULT ARGUMENTS # \\n\\nCMDS.POLYBOOLOP(OP=1, N=\\'RESULT1\\' )\\n\\n# ERROR: LINE 1: TYPEERROR: FILE <MAYA CONSOLE> LINE 1: ERROR RETRIEVING DEFAULT ARGUMENTS # \\n\\nCMDS.POLYPLANE( N=\\'PLG\\', W=10, H=10 )\\n\\n\\n\\n# RESULT: [U\\'PLG4\\', U\\'POLYPLANE7\\'] # \\n\\nCMDS.POLYCHIPOFF( \\'PLG.F[71:72]\\', \\'PLG.F[81:82]\\', DUP=TRUE, LTZ=1 )\\n\\n\\n\\n# RESULT: [U\\'POLYCHIPOFF1\\'] # \\n\\nCMDS.POLYCHIPOFF( \\'PLG.F[11:12]\\', \\'PLG.F[21:22]\\', DUP=FALSE, TY=1 )\\n\\n\\n\\n# RESULT: [U\\'POLYCHIPOFF2\\'] # \\n\\nCMDS.POLYCHIPOFF( \\'PLG.F[15:16]\\', \\'PLG.F[23:24]\\', DUP=FALSE, KFT=FALSE, LS=(.5, .5, 0) )\\n\\n\\n\\n# RESULT: [U\\'POLYCHIPOFF3\\'] # \\n\\nCMDS.POLYCHIPOFF( \\'PLG.F[0:74]\\', \\'PLG.F[0:84]\\', DUP=FALSE, KFT=TRUE, LS=(.5, .5, 0) )\\n\\n\\n\\n# RESULT: [U\\'POLYCHIPOFF4\\'] # \\n\\nCMDS.POLYCLIPBOARD( COPY=TRUE, UV=TRUE, COLOR=TRUE, SHADER=TRUE )\\n\\n\\n\\n# WARNING: INCORRECT NUMBER OF ITEMS SELECTED. CAN ONLY COPY ATTRIBUTES FROM ONE FACE COMPONENT ITEM TO THE CLIPBOARD. # \\n\\n# ERROR: LINE 1: RUNTIMEERROR: FILE <MAYA CONSOLE> LINE 1: MAYA COMMAND ERROR # \\n\\nCMDS.POLYCLIPBOARD()\\n\\n\\n\\n# WARNING: NO ACTION SPECIFIED TO PERFORM WITH THE CLIPBOARD. # \\n\\n# ERROR: LINE 1: RUNTIMEERROR: FILE <MAYA CONSOLE> LINE 1: MAYA COMMAND ERROR # \\n\\nCMDS.POLYCLIPBOARD(COPY=TRUE)\\n\\n\\n\\n# WARNING: NO ATTRIBUTES SPECIFIED FOR CLIPBOARD OPERATION. # \\n\\n# ERROR: LINE 1: RUNTIMEERROR: FILE <MAYA CONSOLE> LINE 1: MAYA COMMAND ERROR # \\n\\nCMDS.SELECT( \\'PLG1.E[26]\\', \\'PLG1.E[28]\\', \\'PLG1.E[30]\\', \\'PLG1.E[32]\\', \\'PLG1.E[34]\\', \\'PLG1.E[36]\\', \\'PLG1.E[38]\\', \\'PLG1.E[47]\\', \\'PLG1.E[49]\\', \\'PLG1.E[51]\\', \\'PLG1.E[53]\\', \\'PLG1.E[55]\\', \\'PLG1.E[57]\\', \\'PLG1.E[59]\\' )\\n\\n\\n\\n\\n\\nCMDS.POLYCUT(CD=\\'Y\\', CH=1 )\\n\\n\\n\\n# RESULT: [U\\'POLYCUT7\\'] # \\n\\nCMDS.POLYCUT(CD=\\'Y\\', CH=1 )\\n\\n\\n\\n# RESULT: [U\\'POLYCUT8\\'] # \\n\\nCMDS.POLYCUT( \\'PCYLA.F[0:59]\\', CD=\\'Z\\', CH=1 )\\n\\n\\n\\n# RESULT: [U\\'POLYCUT9\\'] # \\n\\nCMDS.POLYCUT( \\'PCYLA.F[0:59]\\', CD=\\'Z\\', CH=1 )\\n\\n\\n\\n# RESULT: [U\\'POLYCUT10\\'] # \\n\\nCMDS.SELECT(\\'PCYLA\\')\\n\\n\\n\\nCMDS.SELECT(\\'PCYLA\\')\\n\\n\\n\\nCMDS.POLYDUPLICATEEDGE(OF=0.5)\\n\\n# RESULT: [U\\'POLYDUPLICATEEDGE1\\'] # \\n\\nCMDS.POLYDUPLICATEANDCONNECT\\n\\n# RESULT: <BUILT-IN METHOD POLYDUPLICATEANDCONNECT OF MODULE OBJECT AT> # \\n\\nCMDS.POLYDUPLICATEANDCONNECT()\\n\\n# RESULT: [U\\'PCYLA1\\'] # \\n\\nCMDS.POLYDUPLICATEEDGE()\\n\\n# RESULT: [U\\'POLYDUPLICATEEDGE2\\'] # \\n\\nCMDS.POLYDUPLICATEEDGE(E[0,10], OF=0.8)\\n\\n# ERROR: LINE 1: NAMEERROR: FILE <MAYA CONSOLE> LINE 1: NAME \\'E\\' IS NOT DEFINED # \\n\\nCMDS.SELECT(\\'PCYLA\\')\\n\\nCMDS.SELECT(\\'PCYLA1\\')\\n\\nCMDS.POLYEXTRUDEFACET(KFT=FALSE, LTZ=2, LS=(.5, .5, 0) )\\n\\n\\n\\n# RESULT: [U\\'POLYEXTRUDEFACE5\\'] # \\n\\nCMDS.POLYEXTRUDEFACET(KFT=FALSE, LTZ=.3, LS=(.2, .2, 0) )\\n\\n# RESULT: [U\\'POLYEXTRUDEFACE6\\'] # \\n\\nCMDS.POLYEXTRUDEFACET(KFT=FALSE, LTZ=.8, LS=(.5, .5, 0) )\\n\\n\\n\\n# RESULT: [U\\'POLYEXTRUDEFACE7\\'] # \\n\\nE, LTZ=.3, LS=(.2\\n\\n# ERROR: LINE 1: INVALID SYNTAX # \\n\\nEFACET(KFT\\n\\n# ERROR: LINE 1: INVALID SYNTAX # \\n\\nCMDS.POLYEXTRUDEFACET(KFT=FALSE, LTZ=.3, LS=(.2, .2, 0) )\\n\\n\\n\\n# RESULT: [U\\'POLYEXTRUDEFACE9\\'] # \\n\\nCMDS.POLYEXTRUDEFACET(KFT=FALSE, LTZ=.8, LS=(.2, .2, 0) )\\n\\n\\n\\n# RESULT: [U\\'POLYEXTRUDEFACE10\\'] # \\n\\nCMDS.POLYEXTRUDEFACET(KFT=FALSE, LTZ=.5, LS=(.2, .2, 0) )\\n\\n\\n\\n# RESULT: [U\\'POLYEXTRUDEFACE10\\'] # \\n\\nCMDS.POLYEXTRUDEFACET(KFT=FALSE, LTZ=.9, LS=(5, .5, 3) )\\n\\n\\n\\n# RESULT: [U\\'POLYEXTRUDEFACE10\\'] # \\n\\n3\\n\\n# RESULT: 3 # \\n\\nCMDS.POLYEXTRUDEFACET(KFT=FALSE, LTZ=.8, LS=(.2, .2, 0) )\\n\\n\\n\\n# RESULT: [U\\'POLYEXTRUDEFACE11\\'] # \\n\\nCMDS.POLYEXTRUDEFACET(KFT=FALSE, LTZ=.3, LS=(.2, .2, 0) )\\n\\n\\n\\n# RESULT: [U\\'POLYEXTRUDEFACE12\\'] # \\n\\nCMDS.POLYTRIANGULATE()\\n\\n# RESULT: [U\\'POLYTRIANGULATE4\\'] # \\n\\nCMDS.SCALE(0,5,0)\\n\\nCMDS.SCALE(0.5,0,0)\\n\\nCMDS.SCALE(50,20,10)\\n\\n\\n\\nCMDS.SCALE(10,5,10)\\n\\n\\n\\nCMDS.SCALE(1,1,1)\\n\\n\\n\\nCMDS.SCALE(1,2,1)\\n\\n\\n\\nCMDS.SCALE(2,1,1)\\n\\n\\n\\nCMDS.SCALE(1,1,2)\\n\\n\\n\\nCMDS.SCALE(1,1,5)\\n\\n\\n\\nCMDS.SCALE(5,1,1)\\n\\n\\n\\nCMDS.SCALE(5,5,1)\\n\\n\\n\\nCMDS.SCALE(1,5,2)\\n\\n\\n\\nCMDS.POLYSELECT(EDGEBORDER)\\n\\n# ERROR: LINE 1: NAMEERROR: FILE <MAYA CONSOLE> LINE 1: NAME \\'EDGEBORDER\\' IS NOT DEFINED # \\n\\nCMDS.POLYSELECT(EDGEBORDER=[0,3])\\n\\nCMDS.POLYSELECT(EDGERING=1)\\n\\n# RESULT: [1, 38, 42, 8, 16, 19, 11, 58, 54, 3, 22, 26, 1] # \\n\\nCMDS.POLYEXTRUDEEDGE(CH=1, KFT=0, PVX=-5.5, PVY=0.0, PVZ=6.0 )\\n\\n\\n\\n# RESULT: [U\\'POLYEXTRUDEEDGE3\\'] # \\n\\nCMDS.MOVE(0, 0, -5, R=TRUE)\\n\\n\\n\\nCAMERANAME = CMDS.CAMERA()\\n\\n\\n\\nCAMERASHAPE = CAMERANAME[1]\\n\\nFOCALLENGTH = CMDS.CAMERA(CAMERASHAPE, Q=TRUE, FL=TRUE)\\n\\n\\n\\nCMDS.CAMERA( CAMERASHAPE, E=TRUE, FF=\\'OVERSCAN\\' )\\n\\n\\n\\nCMDS.CAMERA(CAMERASHAPE, ROTATION=[90,0,0])\\n\\n# ERROR: LINE 1: RUNTIMEERROR: FILE <MAYA CONSOLE> LINE 1: TOO MANY OBJECTS OR VALUES. # \\n\\nCMDS.CAMERA(CAMERASHAPE, ROTATION=90,0,0)\\n\\n# ERROR: LINE 1: NON-KEYWORD ARG AFTER KEYWORD ARG # \\n\\nCMDS.CAMERA(CAMERASHAPE, ROTATION=90)\\n\\n# ERROR: LINE 1: TYPEERROR: FILE <MAYA CONSOLE> LINE 1: INVALID ARGUMENTS FOR FLAG \\'ROTATION\\'.  EXPECTED ( ANGLE, ANGLE, ANGLE ), GOT INT # \\n\\nCMDS.CAMERA(CAMERASHAPE, SHUTTERANGLE=90)\\n\\n# ERROR: LINE 1: RUNTIMEERROR: FILE <MAYA CONSOLE> LINE 1: TOO MANY OBJECTS OR VALUES. # \\n\\nCMDS.CAMERA(SHUTTERANGLE=90)\\n\\n# RESULT: [U\\'CAMERA2\\', U\\'CAMERASHAPE2\\'] # \\n\\nIMPORT MENTALRAY.TEXTUREFILECONVERSIONUTILS\\n\\nHOMENAME = CMDS.CAMERAVIEW(CAMERA=\\'PERSP\\')\\n\\n\\n\\nCMDS.CAMERAVIEW( HOMENAME, E=TRUE, CAMERA=\\'PERSP\\', AB=TRUE )\\n\\n\\n\\nCMDS.DOLLY( \\'PERSP\\', DISTANCE=-30 )\\n\\n\\n\\nCMDS.PANZOOM( \\'PERSP\\', R=0.6 )\\n\\nCMDS.CAMERAVIEW( PANZOOMBOOKMARK, E=TRUE, CAMERA=\\'PERSP\\', SC=TRUE )\\n\\n\\n\\n# ERROR: LINE 1: NAMEERROR: FILE <MAYA CONSOLE> LINE 1: NAME \\'PANZOOMBOOKMARK\\' IS NOT DEFINED # \\n\\nCMDS.CAMERAVIEW( PANZOOMBOOKMARK, E=TRUE, CAMERA=\\'PERSP\\', SC=TRUE )\\n\\n\\n\\n# ERROR: LINE 1: NAMEERROR: FILE <MAYA CONSOLE> LINE 1: NAME \\'PANZOOMBOOKMARK\\' IS NOT DEFINED # \\n\\nCMDS.CAMERAVIEW( CAMERA=\\'PERSP\\', NAME=\\'ZOOM\\', AB=TRUE )\\n\\n\\n\\n# RESULT: ZOOM # \\n\\nCMDS.CAMERAVIEW( HOMENAME, E=TRUE, CAMERA=\\'PERSP\\', SC=TRUE )\\n\\n\\n\\nCMDS.DOLLY( \\'PERSP\\', DISTANCE=-30 )\\n\\n\\n\\nCMDS.DOLLY( \\'PERSP\\', DISTANCE=30 )\\n\\n\\n\\nCMDS.ROLL( \\'PERSP\\', ABS=TRUE, D=0 )\\n\\n\\n\\nCMDS.ROLL( \\'PERSP\\', D=90 )\\n\\n\\n\\nCMDS.SETKEYFRAME()\\n\\n# ERROR: LINE 1: TYPEERROR: FILE <MAYA CONSOLE> LINE 1: ERROR RETRIEVING DEFAULT ARGUMENTS # \\n\\nCMDS.SETKEYFRAME()\\n\\n# RESULT: 10 # \\n\\nCMDS.CURRENTTIME( QUERY=TRUE )\\n\\n\\n\\n# RESULT: 1.0 # \\n\\nCMDS.CURRENTTIME( 32, EDIT=TRUE )\\n\\n\\n\\n# RESULT: 32.0 # \\n\\nCMDS.MOVE(0,5,0)\\n\\nCMDS.SETKEYFRAME()\\n\\n\\n\\n# RESULT: 10 # \\n\\nCMDS.CURRENTTIME( 32*2, EDIT=TRUE )\\n\\n# RESULT: 64.0 # \\n\\nCMDS.CURRENTTIME( 0, EDIT=TRUE )\\n\\n# RESULT: 0.0 # \\n\\nCMDS.COPYKEY()\\n\\n# RESULT: 10 # \\n\\nCMDS.CURRENTTIME( 64, EDIT=TRUE )\\n\\n\\n\\n# RESULT: 64.0 # \\n\\nCMDS.PASTEKEY()\\n\\n\\n\\n# RESULT: 10 # \\n\\nCMDS.CURRENTTIME( 1, EDIT=TRUE )\\n\\n# RESULT: 1.0 # \\n\\nCMDS.COPYKEY()\\n\\n# RESULT: 10 # \\n\\nCMDS.CURRENTTIME( 64, EDIT=TRUE )\\n\\n\\n\\n# RESULT: 64.0 # \\n\\nCMDS.PASTEKEY()\\n\\n# ERROR: LINE 1: TYPEERROR: FILE <MAYA CONSOLE> LINE 1: ERROR RETRIEVING DEFAULT ARGUMENTS # \\n\\nIMPORT TIME\\n\\nCMDS.RECORDDEVICE( DEVICE=\\'CLOCK\\', DURATION=30 )\\n\\n# ERROR: LINE 1: RUNTIMEERROR: FILE C:\\\\PROGRAM FILES\\\\AUTODESK\\\\MAYA2014\\\\PYTHON\\\\LIB\\\\SITE-PACKAGES\\\\MAYA\\\\APP\\\\COMMANDS.PY LINE 19: NO SUCH DEVICE: CLOCK # \\n\\nCMDS.APPLYTAKE()\\n\\n# ERROR: LINE 1: RUNTIMEERROR: FILE <MAYA CONSOLE> LINE 1: NO DEVICES WITH RECORDED TAKES WERE FOUND. # \\n\\nCMDS.JOINT( P=(0, 0, 0) )\\n\\n# RESULT: JOINT1 # \\n\\nCMDS.JOINT( P=(0, 4, 0)  )\\n\\n\\n\\n# RESULT: JOINT2 # \\n\\nCMDS.JOINT( \\'JOINT1\\', E=TRUE, ZSO=TRUE, OJ=\\'XYZ\\' )\\n\\n\\n\\nCMDS.JOINT( P=(0, 8, -1) )\\n\\n\\n\\n# RESULT: JOINT3 # \\n\\nCMDS.JOINT( \\'JOINT2\\', E=TRUE, ZSO=TRUE, OJ=\\'XYZ\\' )\\n\\n\\n\\nCMDS.JOINT( LZ=(\\'-90DEG\\', \\'90DEG\\'), P=(0, 8, 4) )\\n\\n\\n\\n# RESULT: JOINT4 # \\n\\nCMDS.JOINT( EDIT=TRUE, LZ=(\\'-90DEG\\', \\'90DEG\\'), LSZ=FALSE )\\n\\n\\n\\nCMDS.CURRENTTIME( 0 )\\n\\nCMDS.SETKEYFRAME( \\'JOINT3.RX\\' )\\n\\nCMDS.CURRENTTIME( 10 )\\n\\nCMDS.SETKEYFRAME( \\'JOINT3.RX\\', V=90 )\\n\\nCMDS.CURRENTTIME( 20 )\\n\\nCMDS.SETKEYFRAME( \\'JOINT3.RX\\', V=0 )\\n\\nCMDS.CLIP( \\'ARM\\', STARTTIME=0, ENDTIME=20, NAME=\\'HANDWAVE\\' )\\n\\n\\n\\n# ERROR: LINE 1: VALUEERROR: FILE <MAYA CONSOLE> LINE 1: NO OBJECT MATCHES NAME: ARM # \\n\\nCMDS.CLIP(STARTTIME=0, ENDTIME=20, NAME=\\'HANDWAVE\\' )\\n\\n\\n\\n# ERROR: LINE 1: RUNTIMEERROR: FILE <MAYA CONSOLE> LINE 1: MUST SELECT A SINGLE CHARACTER OR A CLIP LIBRARY. # \\n\\nCMDS.CHARACTER( NAME=\\'ARM\\' )\\n\\n\\n\\n# RESULT: ARM # \\n\\nCMDS.CLIP( \\'ARM\\', STARTTIME=0, ENDTIME=20, NAME=\\'HANDWAVE\\' )\\n\\n\\n\\n# ERROR: LINE 1: RUNTIMEERROR: FILE <MAYA CONSOLE> LINE 1: NO CLIP CREATED SINCE CHARACTER HAS NO KEYS. # \\n\\n\\n\\nCMDS.SELECT( \\'JOINT3\\', R=TRUE )\\n\\nCMDS.CURRENTTIME( 0 )\\n\\nCMDS.SETKEYFRAME( \\'JOINT3.RX\\' )\\n\\nCMDS.CURRENTTIME( 10 )\\n\\nCMDS.SETKEYFRAME( \\'JOINT3.RX\\', V=90 )\\n\\nCMDS.CURRENTTIME( 20 )\\n\\nCMDS.SETKEYFRAME( \\'JOINT3.RX\\', V=0 )\\n\\nCMDS.CLIP( \\'ARM\\', STARTTIME=0, ENDTIME=20, NAME=\\'HANDWAVE\\' )\\n\\n\\n\\n# ERROR: LINE 1: RUNTIMEERROR: FILE <MAYA CONSOLE> LINE 1: NO CLIP CREATED SINCE CHARACTER HAS NO KEYS. # \\n\\nCMDS.PLAY( FORWARD=TRUE )\\n\\n\\n\\n# PRESS THE ESC KEY TO STOP PLAYBACK. # \\n\\nCMDS.PLAY( STATE=FALSE )\\n\\nCMDS.SELECT(\\'CAMERASHAPE\\')\\n\\n# ERROR: LINE 1: VALUEERROR: FILE <MAYA CONSOLE> LINE 1: NO OBJECT MATCHES NAME: CAMERASHAPE # \\n\\nCAMERANAME = CMDS.CAMERA()\\n\\n\\n\\nCAMERASHAPE = CAMERANAME[1]\\n\\n\\n\\nCMDS.MOVE(1,0,1)\\n\\nCMDS.SETKEYFRAME()\\n\\n# RESULT: 18 # \\n\\nLIGHT = CMDS.AMBIENTLIGHT(INTENSITY=0.8)\\n\\nCMDS.AMBIENTLIGHT( LIGHT, E=TRUE, INTENSITY=0.5 )\\n\\n\\n\\n# RESULT:  # \\n\\nIMPORT MENTALRAY.TEXTUREFILECONVERSIONUTILS\\n\\nIMPORT MENTALRAY.TEXTUREFILECONVERSIONUTILS\\n\\n[/PRETTIFY]</MAYA></MAYA></MAYA></MAYA></MAYA></MAYA></MAYA></MAYA></MAYA></MAYA></MAYA></MAYA></MAYA></MAYA></MAYA></BUILT-IN></MAYA></MAYA></MAYA></MAYA></MAYA></MAYA></MAYA></MAYA></MAYA></MAYA></MAYA></MAYA></MAYA></MAYA></MAYA></MAYA></MAYA></MAYA></MAYA></MAYA></MAYA></MAYA></MAYA></MAYA></MAYA></MAYA></MAYA></MAYA></MAYA></MAYA></BOB></BOB></HTTP:></BUILT-IN></HTTP:></HTTP:></MAYA></MAYA></MAYA></FUNCTION></MAYA></MAYA></BUILT-IN></MAYA></FUNCTION></FUNCTION></FUNCTION></MAYA></MAYA></MAYA></MAYA></MAYA></MAYA></MAYA></MAYA></P></BODY></HTML>'"
       ]
      }
     ],
     "prompt_number": 375
    },
    {
     "cell_type": "code",
     "collapsed": false,
     "input": [
      "blogread"
     ],
     "language": "python",
     "metadata": {},
     "outputs": [
      {
       "metadata": {},
       "output_type": "pyout",
       "prompt_number": 376,
       "text": [
        "'<html><body><p>[prettify=python]\\nimport maya.cmds as cmds\\n\\ncmd.files(f=True, new=True)\\n\\n# Error: line 1: NameError: file <maya console> line 1: name \\'cmd\\' is not defined # \\n\\ncmds.files(f=True, new=True)\\n\\n# Error: line 1: AttributeError: file <maya console> line 1: \\'module\\' object has no attribute \\'files\\' # \\n\\ncmds.file(f=True, new=True)\\n\\n# Result: untitled # \\n\\nwindow = cmds.window()\\n\\ncmds.paneLayout()\\n\\n# Result: window1|paneLayout3 # \\n\\ncmds.modelPanel()\\n\\n# Result: modelPanel5 # \\n\\ncmds.showWindow(window)\\n\\nimport numpy\\n\\n# Error: line 1: ImportError: file <maya console> line 1: No module named numpy # \\n\\nimport math\\n\\nhelp math()\\n\\n# Error: line 1: invalid syntax # \\n\\nhelp(\\'math\\')\\n\\nHelp on built-in module math:\\n\\n\\n\\nNAME\\n    math\\n\\n\\nFILE\\n    (built-in)\\n\\n\\nDESCRIPTION\\n    This module is always available.  It provides access to the\\n    mathematical functions defined by the C standard.\\n\\n\\nFUNCTIONS\\n    acos(...)\\n        acos(x)\\n        \\n        Return the arc cosine (measured in radians) of x.\\n    \\n    acosh(...)\\n        acosh(x)\\n        \\n        Return the hyperbolic arc cosine (measured in radians) of x.\\n    \\n    asin(...)\\n        asin(x)\\n        \\n        Return the arc sine (measured in radians) of x.\\n    \\n    asinh(...)\\n        asinh(x)\\n        \\n        Return the hyperbolic arc sine (measured in radians) of x.\\n    \\n    atan(...)\\n        atan(x)\\n        \\n        Return the arc tangent (measured in radians) of x.\\n    \\n    atan2(...)\\n        atan2(y, x)\\n        \\n        Return the arc tangent (measured in radians) of y/x.\\n        Unlike atan(y/x), the signs of both x and y are considered.\\n    \\n    atanh(...)\\n        atanh(x)\\n        \\n        Return the hyperbolic arc tangent (measured in radians) of x.\\n    \\n    ceil(...)\\n        ceil(x)\\n        \\n        Return the ceiling of x as a float.\\n        This is the smallest integral value &gt;= x.\\n    \\n    copysign(...)\\n        copysign(x, y)\\n        \\n        Return x with the sign of y.\\n    \\n    cos(...)\\n        cos(x)\\n        \\n        Return the cosine of x (measured in radians).\\n    \\n    cosh(...)\\n        cosh(x)\\n        \\n        Return the hyperbolic cosine of x.\\n    \\n    degrees(...)\\n        degrees(x)\\n        \\n        Convert angle x from radians to degrees.\\n    \\n    erf(...)\\n        erf(x)\\n        \\n        Error function at x.\\n    \\n    erfc(...)\\n        erfc(x)\\n        \\n        Complementary error function at x.\\n    \\n    exp(...)\\n        exp(x)\\n        \\n        Return e raised to the power of x.\\n    \\n    expm1(...)\\n        expm1(x)\\n        \\n        Return exp(x)-1.\\n        This function avoids the loss of precision involved in the direct evaluation of exp(x)-1 for small x.\\n    \\n    fabs(...)\\n        fabs(x)\\n        \\n        Return the absolute value of the float x.\\n    \\n    factorial(...)\\n        factorial(x) -&gt; Integral\\n        \\n        Find x!. Raise a ValueError if x is negative or non-integral.\\n    \\n    floor(...)\\n        floor(x)\\n        \\n        Return the floor of x as a float.\\n        This is the largest integral value  bool\\n        \\n        Check if float x is infinite (positive or negative).\\n    \\n    isnan(...)\\n        isnan(x) -&gt; bool\\n        \\n        Check if float x is not a number (NaN).\\n    \\n    ldexp(...)\\n        ldexp(x, i)\\n        \\n        Return x * (2**i).\\n    \\n    lgamma(...)\\n        lgamma(x)\\n        \\n        Natural logarithm of absolute value of Gamma function at x.\\n    \\n    log(...)\\n        log(x[, base])\\n        \\n        Return the logarithm of x to the given base.\\n        If the base not specified, returns the natural logarithm (base e) of x.\\n    \\n    log10(...)\\n        log10(x)\\n        \\n        Return the base 10 logarithm of x.\\n    \\n    log1p(...)\\n        log1p(x)\\n        \\n        Return the natural logarithm of 1+x (base e).\\n        The result is computed in a way which is accurate for x near zero.\\n    \\n    modf(...)\\n        modf(x)\\n        \\n        Return the fractional and integer parts of x.  Both results carry the sign\\n        of x and are floats.\\n    \\n    pow(...)\\n        pow(x, y)\\n        \\n        Return x**y (x to the power of y).\\n    \\n    radians(...)\\n        radians(x)\\n        \\n        Convert angle x from degrees to radians.\\n    \\n    sin(...)\\n        sin(x)\\n        \\n        Return the sine of x (measured in radians).\\n    \\n    sinh(...)\\n        sinh(x)\\n        \\n        Return the hyperbolic sine of x.\\n    \\n    sqrt(...)\\n        sqrt(x)\\n        \\n        Return the square root of x.\\n    \\n    tan(...)\\n        tan(x)\\n        \\n        Return the tangent of x (measured in radians).\\n    \\n    tanh(...)\\n        tanh(x)\\n        \\n        Return the hyperbolic tangent of x.\\n    \\n    trunc(...)\\n        trunc(x:Real) -&gt; Integral\\n        \\n        Truncates x to the nearest Integral toward 0. Uses the __trunc__ magic method.\\n\\n\\nDATA\\n    e = 2.718281828459045\\n    pi = 3.141592653589793\\n\\n\\n\\n\\nimport random\\n\\nrand = random.randint(1,20)\\n\\ncod = math.acos(rand)\\n\\n# Error: line 1: ValueError: file <maya console> line 3: math domain error # \\n\\nimport random\\n\\nrand = random.randint(1,20)\\n\\n\\n\\ncod = math.acos(rand)\\n\\n# Error: line 1: ValueError: file <maya console> line 1: math domain error # \\n\\nimport math\\n\\ncod = math.acos(rand)\\n\\n# Error: line 1: ValueError: file <maya console> line 2: math domain error # \\n\\nrand = random.randint(1,20)\\n\\ncod = math.acos(rand)\\n\\n# Error: line 1: ValueError: file <maya console> line 2: math domain error # \\n\\nx = cmds.polyCube()\\n\\nprint x\\n\\n[u\\'pCube1\\', u\\'polyCube1\\']\\n\\nx.translate(1.0,rand,0.0,0.0)\\n\\n# Error: line 1: AttributeError: file <maya console> line 1: \\'list\\' object has no attribute \\'translate\\' # \\n\\nhelp(\\'x\\')\\n\\nno Python documentation found for \\'x\\'\\n\\n\\n\\nrun = random.randint(1,10)\\n\\ncmds.polyCreateFacet( p=[(0, run, 0), (0, -2, run), (run, -2, 0), (run, 2, 0)] )\\n\\ncmds.polyPlane( n=\\xe2\\x80\\x99plg\\xe2\\x80\\x99, w=10, h=10 )\\n\\n\\n\\n# Error: line 1: invalid syntax # \\n\\ncmds.move( 0, 0, 10, r=True )\\n\\ncmds.move( 0, 0, -10, r=True )\\n\\ncmds.polyCut( \\xe2\\x80\\x98pCylA.f[0:59]\\xe2\\x80\\x98, cd=\\xe2\\x80\\x99Y\\', ch=1 )\\n\\n# Error: line 1: invalid syntax # \\n\\ncmds.polyCut()\\n\\n# Result: [u\\'polyCut1\\'] # \\n\\nx = 1 \\n\\nif x = &gt; 10:    \\n    cmds.polyCut()\\n    x + 1\\n# Error: line 1: invalid syntax # \\n\\nx = 1 \\n\\nif x =&gt; 10:    \\n    cmds.polyCut()\\n    x + 1\\n# Error: line 1: invalid syntax # \\n\\nx = 1 \\n\\nif x =&gt; 10:\\n    cmds.polyCut()\\n    x + 1\\n# Error: line 1: invalid syntax # \\n\\nvar1 = 100\\n\\nif var1:\\n    print(\\'testing123\\')\\n    print var1\\nelse:\\n    print(\\'no\\') \\ntesting123\\n\\n100\\n\\nif x = 20:\\n    print(\\'hello\\')\\n    x + 1\\n# Error: line 1: invalid syntax # \\n\\nif x = 20:\\n    print(\\'hello\\')\\nx + 1\\n\\n# Error: line 1: invalid syntax # \\n\\nif x = 20:\\n    print(\\'hello\\')\\n    x + 1\\nelse:\\n    break\\n# Error: line 1: invalid syntax # \\n\\nx=1\\n\\nif x = 20:\\n    print(\\'hello\\')\\n    x + 1\\nelse:\\n    break\\n# Error: line 1: invalid syntax # \\n\\nx=1\\n\\nif x &gt;= 20:\\n    print(\\'hello\\')\\n    x + 1\\nelse:\\n    break\\n# Error: line 1: \\'break\\' outside loop # \\n\\nif x &gt;= 20:\\n    print(\\'hello\\')\\n    x + 1\\nif x &gt;= 20:\\n    print(\\'hello\\')\\n    x + 1\\n\\n\\ndef togVis(obj):\\n    cmds.setAttr (obj+\\'.visibility\\',\\n    not cmds.getAttr(obj+\\'.visibility\\'))\\n    toggleVisibility(\\'pCube1\\')\\nprint togVis\\n\\n<function togvis at>\\n\\ntogVis\\n\\n# Result: <function togvis at> # \\n\\nfor n in range(2,10):\\n    for x in range(2,n):\\n        if n % x == 0:\\n            print n, \\'equals\\', x\\', \\'*\\', n/x\\n            break\\n    else:\\n        print n, \\'is a prime number\\'\\n# Error: line 1: invalid syntax # \\n\\nfor n in range(2,10):\\n    for x in range(2,n):\\n        if n % x == 0:\\n            print n, \\'equals\\', \\'x\\', \\'*\\', n/x\\n            break\\n    else:\\n        print n, \\'is a prime number\\'\\n2 is a prime number\\n\\n3 is a prime number\\n\\n4 equals x * 2\\n\\n5 is a prime number\\n\\n6 equals x * 3\\n\\n7 is a prime number\\n\\n8 equals x * 4\\n\\n9 equals x * 3\\n\\nteste = raw_input(\\'name\\')\\n\\n\\n\\ncmds.group(em=True,name=teste)\\n\\nnamedef dolt():\\n    cmds.group(em=True,name=(cmds.textField(\\'userInput\\',q=True,\\n    tx=True)))\\n    \\n    cmds.window()\\n    \\n    cmds.columnLayout(adj=True)\\n    cmds.textField(\\'userinput\\')\\n    cmds.button(l=\\'group\\',c=\\'dolt()\\')\\n    cmds.showWindow\\ndolt\\n\\n# Result: <function dolt at> # \\n\\nprint dolt()\\n\\n# Error: line 1: RuntimeError: file <maya console> line 3: Object \\'userInput\\' not found. # \\n\\ndef createMaterial(name,color,type):\\n    cmds.sets(renderable=True, noSurfaceShader=True,\\n    empty=True, name=name + \\'SG\\')\\n    \\n    cmds.shadingNode(type, asShader=True, name=name)\\n    \\n    cmds.setAttr(name+\\'.color\\',color[0],color[1],color[2],\\n    type=\\'double3\\')\\n    cmds.connectAttr(name+\\'.outColor\\',\\n    name+\\'SG.surfaceShader\\')\\ndef assignMaterial(name,object):\\n    cmds.sets(object,edit=True, forceElement=name+\\'SG\\')\\ndef createCube():\\n    cmds.polyCube()\\ncreateCube()\\n\\ncmds.polyBevel\\n\\n# Result: <built-in method polybevel of module object at> # \\n\\ncmds.split()\\n\\n# Error: line 1: AttributeError: file <maya console> line 1: \\'module\\' object has no attribute \\'split\\' # \\n\\ncmds.polySplit()\\n\\n# Error: line 1: RuntimeError: file <maya console> line 1: Need at least one \"-ep\" or \"-ip\" flag (edge split point). # \\n\\ncmds.polyAppend( a=[0, (5, -5, 0)] )\\n\\n\\n\\n# Warning: Can\\'t perform polyAppend1 on selection # \\n\\n# Result: [u\\'polyAppend1\\'] # \\n\\ncmds.polyAppend( a=[0, (5, 5, 0)] )\\n\\n\\n\\n# Warning: Can\\'t perform polyAppend2 on selection # \\n\\n# Result: [u\\'polyAppend2\\'] # \\n\\ncmds.scale( 2, 2, 2 )\\n\\ns = lambda x,y: x-y\\n\\nprint s\\n\\n<function> at 0x0000000034B175F8&gt;\\n\\nprint s(ran,10)\\n\\n# Error: line 1: NameError: file <maya console> line 1: name \\'ran\\' is not defined # \\n\\nprint s(22,10)\\n\\n12\\n\\ncmds.polyPlane( sx=3, sy=3 )\\n\\n# Result: [u\\'pPlane1\\', u\\'polyPlane1\\'] # \\n\\nranx = random.randint(3,6)\\n\\ncmds.polyPlane( sx=ranx, sy=3 )\\n\\ncmds.polyExtrudeFacet()\\n\\n# Result: [u\\'polyExtrudeFace1\\'] # \\n\\ncmds.polyExtrudeFacet()\\n\\ncmds.move(0,4,0)\\n\\ndef extrudenow:\\n    cmds.poyExtrudeFacet()\\n    cmds.move(0,2,0)\\n# Error: line 1: invalid syntax # \\n\\ndef extrudenow:\\n    cmds.poyExtrudeFacet()\\n    cmds.move(0,2,0)\\n# Error: line 1: invalid syntax # \\n\\ndef extrudenow:\\n    cmds.polyExtrudeFacet()\\n    cmds.move(0,2,0)\\n# Error: line 1: invalid syntax # \\n\\ndef extrudenow():\\n    cmds.polyExtrudeFacet()\\n    cmds.move(0,2,0)\\nextrudeNow()\\n\\n# Error: line 1: NameError: file <maya console> line 1: name \\'extrudeNow\\' is not defined # \\n\\nextrudenow()\\n\\ncmds..translate(1.0,2.5,0.0,0.0)\\n\\n# Error: line 1: invalid syntax # \\n\\ncmds.translate(1.0,2.5,0.0,0.0)\\n\\n# Error: line 1: AttributeError: file <maya console> line 1: \\'module\\' object has no attribute \\'translate\\' # \\n\\nimport json\\n\\nhelp(\\'json\\')\\n\\nHelp on package json:\\n\\n\\n\\nNAME\\n    json\\n\\n\\nFILE\\n    c:\\\\python27\\\\lib\\\\json\\\\__init__.py\\n\\n\\nDESCRIPTION\\n    JSON (JavaScript Object Notation) <http:> is a subset of\\n    JavaScript syntax (ECMA-262 3rd edition) used as a lightweight data\\n    interchange format.\\n    \\n    :mod:`json` exposes an API familiar to users of the standard library\\n    :mod:`marshal` and :mod:`pickle` modules. It is the externally maintained\\n    version of the :mod:`json` library contained in Python 2.6, but maintains\\n    compatibility with Python 2.4 and Python 2.5 and (currently) has\\n    significant performance advantages, even without using the optional C\\n    extension for speedups.\\n    \\n    Encoding basic Python object hierarchies::\\n    \\n        &gt;&gt;&gt; import json\\n        &gt;&gt;&gt; json.dumps([\\'foo\\', {\\'bar\\': (\\'baz\\', None, 1.0, 2)}])\\n        \\'[\"foo\", {\"bar\": [\"baz\", null, 1.0, 2]}]\\'\\n        &gt;&gt;&gt; print json.dumps(\"\\\\\"foo\\\\bar\")\\n        \"\\\\\"foo\\\\bar\"\\n        &gt;&gt;&gt; print json.dumps(u\\'\\\\u1234\\')\\n        \"\\\\u1234\"\\n        &gt;&gt;&gt; print json.dumps(\\'\\\\\\\\\\')\\n        \"\\\\\\\\\"\\n        &gt;&gt;&gt; print json.dumps({\"c\": 0, \"b\": 0, \"a\": 0}, sort_keys=True)\\n        {\"a\": 0, \"b\": 0, \"c\": 0}\\n        &gt;&gt;&gt; from StringIO import StringIO\\n        &gt;&gt;&gt; io = StringIO()\\n        &gt;&gt;&gt; json.dump([\\'streaming API\\'], io)\\n        &gt;&gt;&gt; io.getvalue()\\n        \\'[\"streaming API\"]\\'\\n    \\n    Compact encoding::\\n    \\n        &gt;&gt;&gt; import json\\n        &gt;&gt;&gt; json.dumps([1,2,3,{\\'4\\': 5, \\'6\\': 7}], separators=(\\',\\',\\':\\'))\\n        \\'[1,2,3,{\"4\":5,\"6\":7}]\\'\\n    \\n    Pretty printing::\\n    \\n        &gt;&gt;&gt; import json\\n        &gt;&gt;&gt; s = json.dumps({\\'4\\': 5, \\'6\\': 7}, sort_keys=True, indent=4)\\n        &gt;&gt;&gt; print \\'\\\\n\\'.join([l.rstrip() for l in  s.splitlines()])\\n        {\\n            \"4\": 5,\\n            \"6\": 7\\n        }\\n    \\n    Decoding JSON::\\n    \\n        &gt;&gt;&gt; import json\\n        &gt;&gt;&gt; obj = [u\\'foo\\', {u\\'bar\\': [u\\'baz\\', None, 1.0, 2]}]\\n        &gt;&gt;&gt; json.loads(\\'[\"foo\", {\"bar\":[\"baz\", null, 1.0, 2]}]\\') == obj\\n        True\\n        &gt;&gt;&gt; json.loads(\\'\"\\\\\\\\\"foo\\\\\\\\bar\"\\') == u\\'\"foo\\\\x08ar\\'\\n        True\\n        &gt;&gt;&gt; from StringIO import StringIO\\n        &gt;&gt;&gt; io = StringIO(\\'[\"streaming API\"]\\')\\n        &gt;&gt;&gt; json.load(io)[0] == \\'streaming API\\'\\n        True\\n    \\n    Specializing JSON object decoding::\\n    \\n        &gt;&gt;&gt; import json\\n        &gt;&gt;&gt; def as_complex(dct):\\n        ...     if \\'__complex__\\' in dct:\\n        ...         return complex(dct[\\'real\\'], dct[\\'imag\\'])\\n        ...     return dct\\n        ...\\n        &gt;&gt;&gt; json.loads(\\'{\"__complex__\": true, \"real\": 1, \"imag\": 2}\\',\\n        ...     object_hook=as_complex)\\n        (1+2j)\\n        &gt;&gt;&gt; from decimal import Decimal\\n        &gt;&gt;&gt; json.loads(\\'1.1\\', parse_float=Decimal) == Decimal(\\'1.1\\')\\n        True\\n    \\n    Specializing JSON object encoding::\\n    \\n        &gt;&gt;&gt; import json\\n        &gt;&gt;&gt; def encode_complex(obj):\\n        ...     if isinstance(obj, complex):\\n        ...         return [obj.real, obj.imag]\\n        ...     raise TypeError(repr(o) + \" is not JSON serializable\")\\n        ...\\n        &gt;&gt;&gt; json.dumps(2 + 1j, default=encode_complex)\\n        \\'[2.0, 1.0]\\'\\n        &gt;&gt;&gt; json.JSONEncoder(default=encode_complex).encode(2 + 1j)\\n        \\'[2.0, 1.0]\\'\\n        &gt;&gt;&gt; \\'\\'.join(json.JSONEncoder(default=encode_complex).iterencode(2 + 1j))\\n        \\'[2.0, 1.0]\\'\\n    \\n    \\n    Using json.tool from the shell to validate and pretty-print::\\n    \\n        $ echo \\'{\"json\":\"obj\"}\\' | python -m json.tool\\n        {\\n            \"json\": \"obj\"\\n        }\\n        $ echo \\'{ 1.2:3.4}\\' | python -m json.tool\\n        Expecting property name: line 1 column 2 (char 2)\\n\\n\\nPACKAGE CONTENTS\\n    decoder\\n    encoder\\n    scanner\\n    tests (package)\\n    tool\\n\\n\\nCLASSES\\n    __builtin__.object\\n        json.decoder.JSONDecoder\\n        json.encoder.JSONEncoder\\n    \\n    class JSONDecoder(__builtin__.object)\\n     |  Simple JSON <http:> decoder\\n     |  \\n     |  Performs the following translations in decoding by default:\\n     |  \\n     |  +---------------+-------------------+\\n     |  | JSON          | Python            |\\n     |  +===============+===================+\\n     |  | object        | dict              |\\n     |  +---------------+-------------------+\\n     |  | array         | list              |\\n     |  +---------------+-------------------+\\n     |  | string        | unicode           |\\n     |  +---------------+-------------------+\\n     |  | number (int)  | int, long         |\\n     |  +---------------+-------------------+\\n     |  | number (real) | float             |\\n     |  +---------------+-------------------+\\n     |  | true          | True              |\\n     |  +---------------+-------------------+\\n     |  | false         | False             |\\n     |  +---------------+-------------------+\\n     |  | null          | None              |\\n     |  +---------------+-------------------+\\n     |  \\n     |  It also understands ``NaN``, ``Infinity``, and ``-Infinity`` as\\n     |  their corresponding ``float`` values, which is outside the JSON spec.\\n     |  \\n     |  Methods defined here:\\n     |  \\n     |  __init__(self, encoding=None, object_hook=None, parse_float=None, parse_int=None, parse_constant=None, strict=True, object_pairs_hook=None)\\n     |      ``encoding`` determines the encoding used to interpret any ``str``\\n     |      objects decoded by this instance (utf-8 by default).  It has no\\n     |      effect when decoding ``unicode`` objects.\\n     |      \\n     |      Note that currently only encodings that are a superset of ASCII work,\\n     |      strings of other encodings should be passed in as ``unicode``.\\n     |      \\n     |      ``object_hook``, if specified, will be called with the result\\n     |      of every JSON object decoded and its return value will be used in\\n     |      place of the given ``dict``.  This can be used to provide custom\\n     |      deserializations (e.g. to support JSON-RPC class hinting).\\n     |      \\n     |      ``object_pairs_hook``, if specified will be called with the result of\\n     |      every JSON object decoded with an ordered list of pairs.  The return\\n     |      value of ``object_pairs_hook`` will be used instead of the ``dict``.\\n     |      This feature can be used to implement custom decoders that rely on the\\n     |      order that the key and value pairs are decoded (for example,\\n     |      collections.OrderedDict will remember the order of insertion). If\\n     |      ``object_hook`` is also defined, the ``object_pairs_hook`` takes\\n     |      priority.\\n     |      \\n     |      ``parse_float``, if specified, will be called with the string\\n     |      of every JSON float to be decoded. By default this is equivalent to\\n     |      float(num_str). This can be used to use another datatype or parser\\n     |      for JSON floats (e.g. decimal.Decimal).\\n     |      \\n     |      ``parse_int``, if specified, will be called with the string\\n     |      of every JSON int to be decoded. By default this is equivalent to\\n     |      int(num_str). This can be used to use another datatype or parser\\n     |      for JSON integers (e.g. float).\\n     |      \\n     |      ``parse_constant``, if specified, will be called with one of the\\n     |      following strings: -Infinity, Infinity, NaN.\\n     |      This can be used to raise an exception if invalid JSON numbers\\n     |      are encountered.\\n     |      \\n     |      If ``strict`` is false (true is the default), then control\\n     |      characters will be allowed inside strings.  Control characters in\\n     |      this context are those with character codes in the 0-31 range,\\n     |      including ``\\'\\\\t\\'`` (tab), ``\\'\\\\n\\'``, ``\\'\\\\r\\'`` and ``\\'\\\\0\\'``.\\n     |  \\n     |  decode(self, s, _w=<built-in method match of _sre.sre_pattern object>)\\n     |      Return the Python representation of ``s`` (a ``str`` or ``unicode``\\n     |      instance containing a JSON document)\\n     |  \\n     |  raw_decode(self, s, idx=0)\\n     |      Decode a JSON document from ``s`` (a ``str`` or ``unicode``\\n     |      beginning with a JSON document) and return a 2-tuple of the Python\\n     |      representation and the index in ``s`` where the document ended.\\n     |      \\n     |      This can be used to decode a JSON document from a string that may\\n     |      have extraneous data at the end.\\n     |  \\n     |  ----------------------------------------------------------------------\\n     |  Data descriptors defined here:\\n     |  \\n     |  __dict__\\n     |      dictionary for instance variables (if defined)\\n     |  \\n     |  __weakref__\\n     |      list of weak references to the object (if defined)\\n    \\n    class JSONEncoder(__builtin__.object)\\n     |  Extensible JSON <http:> encoder for Python data structures.\\n     |  \\n     |  Supports the following objects and types by default:\\n     |  \\n     |  +-------------------+---------------+\\n     |  | Python            | JSON          |\\n     |  +===================+===============+\\n     |  | dict              | object        |\\n     |  +-------------------+---------------+\\n     |  | list, tuple       | array         |\\n     |  +-------------------+---------------+\\n     |  | str, unicode      | string        |\\n     |  +-------------------+---------------+\\n     |  | int, long, float  | number        |\\n     |  +-------------------+---------------+\\n     |  | True              | true          |\\n     |  +-------------------+---------------+\\n     |  | False             | false         |\\n     |  +-------------------+---------------+\\n     |  | None              | null          |\\n     |  +-------------------+---------------+\\n     |  \\n     |  To extend this to recognize other objects, subclass and implement a\\n     |  ``.default()`` method with another method that returns a serializable\\n     |  object for ``o`` if possible, otherwise it should call the superclass\\n     |  implementation (to raise ``TypeError``).\\n     |  \\n     |  Methods defined here:\\n     |  \\n     |  __init__(self, skipkeys=False, ensure_ascii=True, check_circular=True, allow_nan=True, sort_keys=False, indent=None, separators=None, encoding=\\'utf-8\\', default=None)\\n     |      Constructor for JSONEncoder, with sensible defaults.\\n     |      \\n     |      If skipkeys is false, then it is a TypeError to attempt\\n     |      encoding of keys that are not str, int, long, float or None.  If\\n     |      skipkeys is True, such items are simply skipped.\\n     |      \\n     |      If ensure_ascii is true, the output is guaranteed to be str\\n     |      objects with all incoming unicode characters escaped.  If\\n     |      ensure_ascii is false, the output will be unicode object.\\n     |      \\n     |      If check_circular is true, then lists, dicts, and custom encoded\\n     |      objects will be checked for circular references during encoding to\\n     |      prevent an infinite recursion (which would cause an OverflowError).\\n     |      Otherwise, no such check takes place.\\n     |      \\n     |      If allow_nan is true, then NaN, Infinity, and -Infinity will be\\n     |      encoded as such.  This behavior is not JSON specification compliant,\\n     |      but is consistent with most JavaScript based encoders and decoders.\\n     |      Otherwise, it will be a ValueError to encode such floats.\\n     |      \\n     |      If sort_keys is true, then the output of dictionaries will be\\n     |      sorted by key; this is useful for regression tests to ensure\\n     |      that JSON serializations can be compared on a day-to-day basis.\\n     |      \\n     |      If indent is a non-negative integer, then JSON array\\n     |      elements and object members will be pretty-printed with that\\n     |      indent level.  An indent level of 0 will only insert newlines.\\n     |      None is the most compact representation.\\n     |      \\n     |      If specified, separators should be a (item_separator, key_separator)\\n     |      tuple.  The default is (\\', \\', \\': \\').  To get the most compact JSON\\n     |      representation you should specify (\\',\\', \\':\\') to eliminate whitespace.\\n     |      \\n     |      If specified, default is a function that gets called for objects\\n     |      that can\\'t otherwise be serialized.  It should return a JSON encodable\\n     |      version of the object or raise a ``TypeError``.\\n     |      \\n     |      If encoding is not None, then all input strings will be\\n     |      transformed into unicode using that encoding prior to JSON-encoding.\\n     |      The default is UTF-8.\\n     |  \\n     |  default(self, o)\\n     |      Implement this method in a subclass such that it returns\\n     |      a serializable object for ``o``, or calls the base implementation\\n     |      (to raise a ``TypeError``).\\n     |      \\n     |      For example, to support arbitrary iterators, you could\\n     |      implement default like this::\\n     |      \\n     |          def default(self, o):\\n     |              try:\\n     |                  iterable = iter(o)\\n     |              except TypeError:\\n     |                  pass\\n     |              else:\\n     |                  return list(iterable)\\n     |              return JSONEncoder.default(self, o)\\n     |  \\n     |  encode(self, o)\\n     |      Return a JSON string representation of a Python data structure.\\n     |      \\n     |      &gt;&gt;&gt; JSONEncoder().encode({\"foo\": [\"bar\", \"baz\"]})\\n     |      \\'{\"foo\": [\"bar\", \"baz\"]}\\'\\n     |  \\n     |  iterencode(self, o, _one_shot=False)\\n     |      Encode the given object and yield each string\\n     |      representation as available.\\n     |      \\n     |      For example::\\n     |      \\n     |          for chunk in JSONEncoder().iterencode(bigobject):\\n     |              mysocket.write(chunk)\\n     |  \\n     |  ----------------------------------------------------------------------\\n     |  Data descriptors defined here:\\n     |  \\n     |  __dict__\\n     |      dictionary for instance variables (if defined)\\n     |  \\n     |  __weakref__\\n     |      list of weak references to the object (if defined)\\n     |  \\n     |  ----------------------------------------------------------------------\\n     |  Data and other attributes defined here:\\n     |  \\n     |  item_separator = \\', \\'\\n     |  \\n     |  key_separator = \\': \\'\\n\\n\\nFUNCTIONS\\n    dump(obj, fp, skipkeys=False, ensure_ascii=True, check_circular=True, allow_nan=True, cls=None, indent=None, separators=None, encoding=\\'utf-8\\', default=None, **kw)\\n        Serialize ``obj`` as a JSON formatted stream to ``fp`` (a\\n        ``.write()``-supporting file-like object).\\n        \\n        If ``skipkeys`` is true then ``dict`` keys that are not basic types\\n        (``str``, ``unicode``, ``int``, ``long``, ``float``, ``bool``, ``None``)\\n        will be skipped instead of raising a ``TypeError``.\\n        \\n        If ``ensure_ascii`` is false, then the some chunks written to ``fp``\\n        may be ``unicode`` instances, subject to normal Python ``str`` to\\n        ``unicode`` coercion rules. Unless ``fp.write()`` explicitly\\n        understands ``unicode`` (as in ``codecs.getwriter()``) this is likely\\n        to cause an error.\\n        \\n        If ``check_circular`` is false, then the circular reference check\\n        for container types will be skipped and a circular reference will\\n        result in an ``OverflowError`` (or worse).\\n        \\n        If ``allow_nan`` is false, then it will be a ``ValueError`` to\\n        serialize out of range ``float`` values (``nan``, ``inf``, ``-inf``)\\n        in strict compliance of the JSON specification, instead of using the\\n        JavaScript equivalents (``NaN``, ``Infinity``, ``-Infinity``).\\n        \\n        If ``indent`` is a non-negative integer, then JSON array elements and\\n        object members will be pretty-printed with that indent level. An indent\\n        level of 0 will only insert newlines. ``None`` is the most compact\\n        representation.\\n        \\n        If ``separators`` is an ``(item_separator, dict_separator)`` tuple\\n        then it will be used instead of the default ``(\\', \\', \\': \\')`` separators.\\n        ``(\\',\\', \\':\\')`` is the most compact JSON representation.\\n        \\n        ``encoding`` is the character encoding for str instances, default is UTF-8.\\n        \\n        ``default(obj)`` is a function that should return a serializable version\\n        of obj or raise TypeError. The default simply raises TypeError.\\n        \\n        To use a custom ``JSONEncoder`` subclass (e.g. one that overrides the\\n        ``.default()`` method to serialize additional types), specify it with\\n        the ``cls`` kwarg; otherwise ``JSONEncoder`` is used.\\n    \\n    dumps(obj, skipkeys=False, ensure_ascii=True, check_circular=True, allow_nan=True, cls=None, indent=None, separators=None, encoding=\\'utf-8\\', default=None, **kw)\\n        Serialize ``obj`` to a JSON formatted ``str``.\\n        \\n        If ``skipkeys`` is false then ``dict`` keys that are not basic types\\n        (``str``, ``unicode``, ``int``, ``long``, ``float``, ``bool``, ``None``)\\n        will be skipped instead of raising a ``TypeError``.\\n        \\n        If ``ensure_ascii`` is false, then the return value will be a\\n        ``unicode`` instance subject to normal Python ``str`` to ``unicode``\\n        coercion rules instead of being escaped to an ASCII ``str``.\\n        \\n        If ``check_circular`` is false, then the circular reference check\\n        for container types will be skipped and a circular reference will\\n        result in an ``OverflowError`` (or worse).\\n        \\n        If ``allow_nan`` is false, then it will be a ``ValueError`` to\\n        serialize out of range ``float`` values (``nan``, ``inf``, ``-inf``) in\\n        strict compliance of the JSON specification, instead of using the\\n        JavaScript equivalents (``NaN``, ``Infinity``, ``-Infinity``).\\n        \\n        If ``indent`` is a non-negative integer, then JSON array elements and\\n        object members will be pretty-printed with that indent level. An indent\\n        level of 0 will only insert newlines. ``None`` is the most compact\\n        representation.\\n        \\n        If ``separators`` is an ``(item_separator, dict_separator)`` tuple\\n        then it will be used instead of the default ``(\\', \\', \\': \\')`` separators.\\n        ``(\\',\\', \\':\\')`` is the most compact JSON representation.\\n        \\n        ``encoding`` is the character encoding for str instances, default is UTF-8.\\n        \\n        ``default(obj)`` is a function that should return a serializable version\\n        of obj or raise TypeError. The default simply raises TypeError.\\n        \\n        To use a custom ``JSONEncoder`` subclass (e.g. one that overrides the\\n        ``.default()`` method to serialize additional types), specify it with\\n        the ``cls`` kwarg; otherwise ``JSONEncoder`` is used.\\n    \\n    load(fp, encoding=None, cls=None, object_hook=None, parse_float=None, parse_int=None, parse_constant=None, object_pairs_hook=None, **kw)\\n        Deserialize ``fp`` (a ``.read()``-supporting file-like object containing\\n        a JSON document) to a Python object.\\n        \\n        If the contents of ``fp`` is encoded with an ASCII based encoding other\\n        than utf-8 (e.g. latin-1), then an appropriate ``encoding`` name must\\n        be specified. Encodings that are not ASCII based (such as UCS-2) are\\n        not allowed, and should be wrapped with\\n        ``codecs.getreader(fp)(encoding)``, or simply decoded to a ``unicode``\\n        object and passed to ``loads()``\\n        \\n        ``object_hook`` is an optional function that will be called with the\\n        result of any object literal decode (a ``dict``). The return value of\\n        ``object_hook`` will be used instead of the ``dict``. This feature\\n        can be used to implement custom decoders (e.g. JSON-RPC class hinting).\\n        \\n        ``object_pairs_hook`` is an optional function that will be called with the\\n        result of any object literal decoded with an ordered list of pairs.  The\\n        return value of ``object_pairs_hook`` will be used instead of the ``dict``.\\n        This feature can be used to implement custom decoders that rely on the\\n        order that the key and value pairs are decoded (for example,\\n        collections.OrderedDict will remember the order of insertion). If\\n        ``object_hook`` is also defined, the ``object_pairs_hook`` takes priority.\\n        \\n        To use a custom ``JSONDecoder`` subclass, specify it with the ``cls``\\n        kwarg; otherwise ``JSONDecoder`` is used.\\n    \\n    loads(s, encoding=None, cls=None, object_hook=None, parse_float=None, parse_int=None, parse_constant=None, object_pairs_hook=None, **kw)\\n        Deserialize ``s`` (a ``str`` or ``unicode`` instance containing a JSON\\n        document) to a Python object.\\n        \\n        If ``s`` is a ``str`` instance and is encoded with an ASCII based encoding\\n        other than utf-8 (e.g. latin-1) then an appropriate ``encoding`` name\\n        must be specified. Encodings that are not ASCII based (such as UCS-2)\\n        are not allowed and should be decoded to ``unicode`` first.\\n        \\n        ``object_hook`` is an optional function that will be called with the\\n        result of any object literal decode (a ``dict``). The return value of\\n        ``object_hook`` will be used instead of the ``dict``. This feature\\n        can be used to implement custom decoders (e.g. JSON-RPC class hinting).\\n        \\n        ``object_pairs_hook`` is an optional function that will be called with the\\n        result of any object literal decoded with an ordered list of pairs.  The\\n        return value of ``object_pairs_hook`` will be used instead of the ``dict``.\\n        This feature can be used to implement custom decoders that rely on the\\n        order that the key and value pairs are decoded (for example,\\n        collections.OrderedDict will remember the order of insertion). If\\n        ``object_hook`` is also defined, the ``object_pairs_hook`` takes priority.\\n        \\n        ``parse_float``, if specified, will be called with the string\\n        of every JSON float to be decoded. By default this is equivalent to\\n        float(num_str). This can be used to use another datatype or parser\\n        for JSON floats (e.g. decimal.Decimal).\\n        \\n        ``parse_int``, if specified, will be called with the string\\n        of every JSON int to be decoded. By default this is equivalent to\\n        int(num_str). This can be used to use another datatype or parser\\n        for JSON integers (e.g. float).\\n        \\n        ``parse_constant``, if specified, will be called with one of the\\n        following strings: -Infinity, Infinity, NaN, null, true, false.\\n        This can be used to raise an exception if invalid JSON numbers\\n        are encountered.\\n        \\n        To use a custom ``JSONDecoder`` subclass, specify it with the ``cls``\\n        kwarg; otherwise ``JSONDecoder`` is used.\\n\\n\\nDATA\\n    __all__ = [\\'dump\\', \\'dumps\\', \\'load\\', \\'loads\\', \\'JSONDecoder\\', \\'JSONEncod...\\n    __author__ = \\'Bob Ippolito <bob>\\'\\n    __version__ = \\'2.0.9\\'\\n\\n\\nVERSION\\n    2.0.9\\n\\n\\nAUTHOR\\n    Bob Ippolito <bob>\\n\\n\\n\\n\\nimport requests\\n\\n# Error: line 1: ImportError: file <maya console> line 1: No module named requests # \\n\\nimport urllib2\\n\\n# Error: line 1: ImportError: file C:\\\\Python27\\\\Lib\\\\socket.py line 47: DLL load failed: %1 is not a valid Win32 application. # \\n\\nimport urllib\\n\\n# Error: line 1: ImportError: file C:\\\\Python27\\\\Lib\\\\socket.py line 47: DLL load failed: %1 is not a valid Win32 application. # \\n\\ncmds.polyCreateFacet( p=[(0, 0, 0), (10, 0, 0), (10, 10, 0), (0, 10, 0)] )\\n\\n# Result: [u\\'polySurface2\\', u\\'polyCreateFace2\\'] # \\n\\ncmds.polySplit(3,3,3)\\n\\n# Error: line 1: ValueError: file <maya console> line 1: No object matches name: 3 # \\n\\ncmds.polySplit()\\n\\n# Error: line 1: RuntimeError: file <maya console> line 1: Need at least one \"-ep\" or \"-ip\" flag (edge split point). # \\n\\ncmds.polySplit()\\n\\n# Error: line 1: RuntimeError: file <maya console> line 1: Need at least one \"-ep\" or \"-ip\" flag (edge split point). # \\n\\ncmds.polyCreateFacet( p=[(0, 2, 0), (0, -2, 0), (4, -2, 0), (4, 2, 0)] )\\n\\ncmds.polySplit( ip=[(2, 0.1), (3, 0.5), (0, 2, -1, 0.0), (0, 0.9)] )\\n\\n\\n\\nlisx = []\\n\\nfor i in range (10):\\n    lisx.append(random.randrange(1,101,1))\\n    print lisx\\n[21]\\n\\n[21, 84]\\n\\n[21, 84, 11]\\n\\n[21, 84, 11, 99]\\n\\n[21, 84, 11, 99, 7]\\n\\n[21, 84, 11, 99, 7, 31]\\n\\n[21, 84, 11, 99, 7, 31, 59]\\n\\n[21, 84, 11, 99, 7, 31, 59, 5]\\n\\n[21, 84, 11, 99, 7, 31, 59, 5, 22]\\n\\n[21, 84, 11, 99, 7, 31, 59, 5, 22, 79]\\n\\nlisx = []\\n\\nfor i in range (10):\\n    lisx.append(random.randrange(1,101,1))\\nprint lisx\\n\\n[80, 85, 86, 89, 45, 60, 55, 39, 54, 96]\\n\\nshuLisx = random.shuffle(lisx)\\n\\nprint shuLisx\\n\\nNone\\n\\nprint lisx\\n\\n[54, 89, 55, 85, 39, 80, 60, 86, 45, 96]\\n\\nrandom.shuffle(lisx)\\n\\nprint random.shuffle(lisx)\\n\\nNone\\n\\nlisx = []\\n\\nfor i in range (10):\\n    lisx.append(random.randrange(1,101,1))\\n    random.shuffle(lisx)\\nprint lisx\\n\\n[9, 5, 45, 52, 9, 21, 8, 43, 32, 93]\\n\\ncmds.polyCube(5,5,5)\\n\\n# Error: line 1: ValueError: file <maya console> line 1: No object matches name: 5 # \\n\\ncmds.polyCube()\\n\\n# Result: [u\\'pCube3\\', u\\'polyCube3\\'] # \\n\\nhelp(\\'cmds\\')\\n\\nno Python documentation found for \\'cmds\\'\\n\\n\\n\\nimport pip\\n\\n# Error: line 1: ImportError: file <maya console> line 1: No module named pip # \\n\\npython\\n\\n# Error: line 1: NameError: file <maya console> line 1: name \\'python\\' is not defined # \\n\\nimport sys\\n\\nimport maya.OpenMaya as OpenMaya\\n\\nimport maya.OpenMayaPx as OpenMayaPx\\n\\n# Error: line 1: ImportError: file <maya console> line 2: No module named OpenMayaPx # \\n\\nimport maya.OpenMaya as OpenMaya\\n\\n\\n\\nimport maya.OpenMayaMPx as OpenMayaMPx\\n\\n\\n\\nkPluginCmdName = \"spHelloWorld\"\\n\\n\\n\\nclass scriptedCommand(OpenMayaMPx.MPxCommand):\\n    def __init__(self):\\n        OpenMayaMPx.MPxCommand.__init__(self)\\n\\n    # Invoked when the command is run.\\n    def doIt(self,argList):\\n        print \"Hello World!\"\\n\\n\\n# Creator\\n\\ndef cmdCreator():\\n    return OpenMayaMPx.asMPxPtr( scriptedCommand() )\\n\\n\\n# Initialize the script plug-in\\n\\ndef initializePlugin(mobject):\\n    mplugin = OpenMayaMPx.MFnPlugin(mobject)\\n    try:\\n        mplugin.registerCommand( kPluginCmdName, cmdCreator )\\n    except:\\n        sys.stderr.write( \"Failed to register command: %s\\\\n\" % kPluginCmdName )\\n        raise\\n\\n\\n# Uninitialize the script plug-in\\n\\ndef uninitializePlugin(mobject):\\n    mplugin = OpenMayaMPx.MFnPlugin(mobject)\\n    try:\\n        mplugin.deregisterCommand( kPluginCmdName )\\n    except:\\n        sys.stderr.write( \"Failed to unregister command: %s\\\\n\" % kPluginCmdName )\\n(u\"C:/Users/Luke/Documents/maya/2014-x64/prefs/scriptEditorTemp/myFirstPlugin.py\").replace(\"\\\\\\\\\",\"/\");\\n\\n# Result: C:/Users/Luke/Documents/maya/2014-x64/prefs/scriptEditorTemp/myFirstPlugin.py # \\n\\n(u\"C:/Program Files/Autodesk/Maya2014/bin/plug-ins/AbcExport.mll\").replace(\"\\\\\\\\\",\"/\");\\n\\n# Result: C:/Program Files/Autodesk/Maya2014/bin/plug-ins/AbcExport.mll # \\n\\n(u\"C:/Program Files/Autodesk/Maya2014/bin/plug-ins/AbcImport.mll\").replace(\"\\\\\\\\\",\"/\");\\n\\n# Result: C:/Program Files/Autodesk/Maya2014/bin/plug-ins/AbcImport.mll # \\n\\n(u\"C:/Program Files/Autodesk/Maya2014/bin/plug-ins/ArubaTessellator.mll\").replace(\"\\\\\\\\\",\"/\");\\n\\n# Result: C:/Program Files/Autodesk/Maya2014/bin/plug-ins/ArubaTessellator.mll # \\n\\n(u\"C:/Program Files/Autodesk/Maya2014/bin/plug-ins/AutodeskPacketFile.mll\").replace(\"\\\\\\\\\",\"/\");\\n\\n# Result: C:/Program Files/Autodesk/Maya2014/bin/plug-ins/AutodeskPacketFile.mll # \\n\\n(u\"C:/Program Files/Autodesk/Maya2014/bin/plug-ins/DirectConnect.mll\").replace(\"\\\\\\\\\",\"/\");\\n\\n# Result: C:/Program Files/Autodesk/Maya2014/bin/plug-ins/DirectConnect.mll # \\n\\n(u\"C:/Program Files/Autodesk/Maya2014/bin/plug-ins/Fur.mll\").replace(\"\\\\\\\\\",\"/\");\\n\\n# Result: C:/Program Files/Autodesk/Maya2014/bin/plug-ins/Fur.mll # \\n\\n(u\"C:/Program Files/Autodesk/Maya2014/bin/plug-ins/MayaMuscle.mll\").replace(\"\\\\\\\\\",\"/\");\\n\\n# Result: C:/Program Files/Autodesk/Maya2014/bin/plug-ins/MayaMuscle.mll # \\n\\n(u\"C:/Program Files/Autodesk/Maya2014/bin/plug-ins/OneClick.mll\").replace(\"\\\\\\\\\",\"/\");\\n\\n# Result: C:/Program Files/Autodesk/Maya2014/bin/plug-ins/OneClick.mll # \\n\\n(u\"C:/Program Files/Autodesk/Maya2014/bin/plug-ins/OpenEXRLoader.mll\").replace(\"\\\\\\\\\",\"/\");\\n\\n# Result: C:/Program Files/Autodesk/Maya2014/bin/plug-ins/OpenEXRLoader.mll # \\n\\n(u\"C:/Program Files/Autodesk/Maya2014/bin/plug-ins/Turtle.mll\").replace(\"\\\\\\\\\",\"/\");\\n\\n# Result: C:/Program Files/Autodesk/Maya2014/bin/plug-ins/Turtle.mll # \\n\\n(u\"C:/Program Files/Autodesk/Maya2014/bin/plug-ins/VectorRender.mll\").replace(\"\\\\\\\\\",\"/\");\\n\\n# Result: C:/Program Files/Autodesk/Maya2014/bin/plug-ins/VectorRender.mll # \\n\\n(u\"C:/Program Files/Autodesk/Maya2014/bin/plug-ins/animImportExport.mll\").replace(\"\\\\\\\\\",\"/\");\\n\\n# Result: C:/Program Files/Autodesk/Maya2014/bin/plug-ins/animImportExport.mll # \\n\\n(u\"C:/Program Files/Autodesk/Maya2014/bin/plug-ins/atomImportExport.mll\").replace(\"\\\\\\\\\",\"/\");\\n\\n# Result: C:/Program Files/Autodesk/Maya2014/bin/plug-ins/atomImportExport.mll # \\n\\n(u\"C:/Program Files/Autodesk/Maya2014/bin/plug-ins/autoLoader.mll\").replace(\"\\\\\\\\\",\"/\");\\n\\n# Result: C:/Program Files/Autodesk/Maya2014/bin/plug-ins/autoLoader.mll # \\n\\n(u\"C:/Program Files/Autodesk/Maya2014/bin/plug-ins/bullet.mll\").replace(\"\\\\\\\\\",\"/\");\\n\\n# Result: C:/Program Files/Autodesk/Maya2014/bin/plug-ins/bullet.mll # \\n\\n(u\"C:/Program Files/Autodesk/Maya2014/bin/plug-ins/cgfxShader.mll\").replace(\"\\\\\\\\\",\"/\");\\n\\n# Result: C:/Program Files/Autodesk/Maya2014/bin/plug-ins/cgfxShader.mll # \\n\\n(u\"C:/Program Files/Autodesk/Maya2014/bin/plug-ins/cleanPerFaceAssignment.mll\").replace(\"\\\\\\\\\",\"/\");\\n\\n# Result: C:/Program Files/Autodesk/Maya2014/bin/plug-ins/cleanPerFaceAssignment.mll # \\n\\n(u\"C:/Program Files/Autodesk/Maya2014/bin/plug-ins/clearcoat.mll\").replace(\"\\\\\\\\\",\"/\");\\n\\n# Result: C:/Program Files/Autodesk/Maya2014/bin/plug-ins/clearcoat.mll # \\n\\n(u\"C:/Program Files/Autodesk/Maya2014/bin/plug-ins/ddsFloatReader.mll\").replace(\"\\\\\\\\\",\"/\");\\n\\n# Result: C:/Program Files/Autodesk/Maya2014/bin/plug-ins/ddsFloatReader.mll # \\n\\n(u\"C:/Program Files/Autodesk/Maya2014/bin/plug-ins/dgProfiler.mll\").replace(\"\\\\\\\\\",\"/\");\\n\\n# Result: C:/Program Files/Autodesk/Maya2014/bin/plug-ins/dgProfiler.mll # \\n\\n(u\"C:/Program Files/Autodesk/Maya2014/bin/plug-ins/dx11Shader.mll\").replace(\"\\\\\\\\\",\"/\");\\n\\n# Result: C:/Program Files/Autodesk/Maya2014/bin/plug-ins/dx11Shader.mll # \\n\\n(u\"C:/Program Files/Autodesk/Maya2014/bin/plug-ins/fbxmaya.mll\").replace(\"\\\\\\\\\",\"/\");\\n\\n# Result: C:/Program Files/Autodesk/Maya2014/bin/plug-ins/fbxmaya.mll # \\n\\n(u\"C:/Program Files/Autodesk/Maya2014/bin/plug-ins/fltTranslator.mll\").replace(\"\\\\\\\\\",\"/\");\\n\\n# Result: C:/Program Files/Autodesk/Maya2014/bin/plug-ins/fltTranslator.mll # \\n\\n(u\"C:/Program Files/Autodesk/Maya2014/bin/plug-ins/ge2Export.mll\").replace(\"\\\\\\\\\",\"/\");\\n\\n# Result: C:/Program Files/Autodesk/Maya2014/bin/plug-ins/ge2Export.mll # \\n\\n(u\"C:/Program Files/Autodesk/Maya2014/bin/plug-ins/gpuCache.mll\").replace(\"\\\\\\\\\",\"/\");\\n\\n# Result: C:/Program Files/Autodesk/Maya2014/bin/plug-ins/gpuCache.mll # \\n\\n(u\"C:/Program Files/Autodesk/Maya2014/bin/plug-ins/hlslShader.mll\").replace(\"\\\\\\\\\",\"/\");\\n\\n# Result: C:/Program Files/Autodesk/Maya2014/bin/plug-ins/hlslShader.mll # \\n\\n(u\"C:/Program Files/Autodesk/Maya2014/bin/plug-ins/ik2Bsolver.mll\").replace(\"\\\\\\\\\",\"/\");\\n\\n# Result: C:/Program Files/Autodesk/Maya2014/bin/plug-ins/ik2Bsolver.mll # \\n\\n(u\"C:/Program Files/Autodesk/Maya2014/bin/plug-ins/ikSpringSolver.mll\").replace(\"\\\\\\\\\",\"/\");\\n\\n# Result: C:/Program Files/Autodesk/Maya2014/bin/plug-ins/ikSpringSolver.mll # \\n\\n(u\"C:/Program Files/Autodesk/Maya2014/bin/plug-ins/matrixNodes.mll\").replace(\"\\\\\\\\\",\"/\");\\n\\n# Result: C:/Program Files/Autodesk/Maya2014/bin/plug-ins/matrixNodes.mll # \\n\\n(u\"C:/Program Files/Autodesk/Maya2014/bin/plug-ins/mayaCharacterization.mll\").replace(\"\\\\\\\\\",\"/\");\\n\\n# Result: C:/Program Files/Autodesk/Maya2014/bin/plug-ins/mayaCharacterization.mll # \\n\\n(u\"C:/Program Files/Autodesk/Maya2014/bin/plug-ins/mayaHIK.mll\").replace(\"\\\\\\\\\",\"/\");\\n\\n# Result: C:/Program Files/Autodesk/Maya2014/bin/plug-ins/mayaHIK.mll # \\n\\n(u\"C:/Program Files/Autodesk/Maya2014/bin/plug-ins/melProfiler.mll\").replace(\"\\\\\\\\\",\"/\");\\n\\n# Result: C:/Program Files/Autodesk/Maya2014/bin/plug-ins/melProfiler.mll # \\n\\n(u\"C:/Program Files/Autodesk/Maya2014/bin/plug-ins/modelingToolkit.mll\").replace(\"\\\\\\\\\",\"/\");\\n\\n# Result: C:/Program Files/Autodesk/Maya2014/bin/plug-ins/modelingToolkit.mll # \\n\\n(u\"C:/Program Files/Autodesk/Maya2014/bin/plug-ins/nearestPointOnMesh.mll\").replace(\"\\\\\\\\\",\"/\");\\n\\n# Result: C:/Program Files/Autodesk/Maya2014/bin/plug-ins/nearestPointOnMesh.mll # \\n\\n(u\"C:/Program Files/Autodesk/Maya2014/bin/plug-ins/objExport.mll\").replace(\"\\\\\\\\\",\"/\");\\n\\n# Result: C:/Program Files/Autodesk/Maya2014/bin/plug-ins/objExport.mll # \\n\\n(u\"C:/Program Files/Autodesk/Maya2014/bin/plug-ins/openInventor.mll\").replace(\"\\\\\\\\\",\"/\");\\n\\n# Result: C:/Program Files/Autodesk/Maya2014/bin/plug-ins/openInventor.mll # \\n\\n(u\"C:/Program Files/Autodesk/Maya2014/bin/plug-ins/quatNodes.mll\").replace(\"\\\\\\\\\",\"/\");\\n\\n# Result: C:/Program Files/Autodesk/Maya2014/bin/plug-ins/quatNodes.mll # \\n\\n(u\"C:/Program Files/Autodesk/Maya2014/bin/plug-ins/retargeterNodes.py\").replace(\"\\\\\\\\\",\"/\");\\n\\n# Result: C:/Program Files/Autodesk/Maya2014/bin/plug-ins/retargeterNodes.py # \\n\\n(u\"C:/Program Files/Autodesk/Maya2014/bin/plug-ins/rotateHelper.mll\").replace(\"\\\\\\\\\",\"/\");\\n\\n# Result: C:/Program Files/Autodesk/Maya2014/bin/plug-ins/rotateHelper.mll # \\n\\n(u\"C:/Program Files/Autodesk/Maya2014/bin/plug-ins/rtgExport.mll\").replace(\"\\\\\\\\\",\"/\");\\n\\n# Result: C:/Program Files/Autodesk/Maya2014/bin/plug-ins/rtgExport.mll # \\n\\n(u\"C:/Program Files/Autodesk/Maya2014/bin/plug-ins/sceneAssembly.mll\").replace(\"\\\\\\\\\",\"/\");\\n\\n# Result: C:/Program Files/Autodesk/Maya2014/bin/plug-ins/sceneAssembly.mll # \\n\\n(u\"C:/Program Files/Autodesk/Maya2014/bin/plug-ins/stereoCamera.mll\").replace(\"\\\\\\\\\",\"/\");\\n\\n# Result: C:/Program Files/Autodesk/Maya2014/bin/plug-ins/stereoCamera.mll # \\n\\n(u\"C:/Program Files/Autodesk/Maya2014/bin/plug-ins/studioImport.mll\").replace(\"\\\\\\\\\",\"/\");\\n\\n# Result: C:/Program Files/Autodesk/Maya2014/bin/plug-ins/studioImport.mll # \\n\\n(u\"C:/Program Files/Autodesk/Maya2014/bin/plug-ins/testExamples.nll.dll\").replace(\"\\\\\\\\\",\"/\");\\n\\n# Result: C:/Program Files/Autodesk/Maya2014/bin/plug-ins/testExamples.nll.dll # \\n\\n(u\"C:/Program Files/Autodesk/Maya2014/bin/plug-ins/tiffFloatReader.mll\").replace(\"\\\\\\\\\",\"/\");\\n\\n# Result: C:/Program Files/Autodesk/Maya2014/bin/plug-ins/tiffFloatReader.mll # \\n\\n(u\"C:/Program Files/Autodesk/Maya2014/bin/plug-ins/vrml2Export.mll\").replace(\"\\\\\\\\\",\"/\");\\n\\n# Result: C:/Program Files/Autodesk/Maya2014/bin/plug-ins/vrml2Export.mll # \\n\\n(u\"C:/Program Files/Autodesk/mentalrayForMaya2014/plug-ins/Mayatomr.mll\").replace(\"\\\\\\\\\",\"/\");\\n\\n# Result: C:/Program Files/Autodesk/mentalrayForMaya2014/plug-ins/Mayatomr.mll # \\n\\n(u\"C:/Program Files/Autodesk/Maya2014/substance/plug-ins/Substance.mll\").replace(\"\\\\\\\\\",\"/\");\\n\\n# Result: C:/Program Files/Autodesk/Maya2014/substance/plug-ins/Substance.mll # \\n\\ncmds.polyCube()\\n\\n# Result: [u\\'pCube4\\', u\\'polyCube4\\'] # \\n\\ncmds.select(\\'pCube4.e[0,31]\\')\\n\\ncmds.polySplitRing(sma=180, wt=0.2)\\n\\n# Error: line 1: TypeError: file <maya console> line 1: Object pCube4.e[0,31] is invalid # \\n\\ncmds.select(\\'pCube4.e[0,31]\\')\\n\\n# Error: line 1: TypeError: file <maya console> line 1: Object pCube4.e[0,31] is invalid # \\n\\ncmds.select(\\'pCube1.e[0:3]\\')\\n\\n\\n\\ncmds.polySplitRing( sma=180, wt=0.2)\\n\\n\\n\\n# Result: [u\\'polySplitRing1\\'] # \\n\\nspiRan = random.choice(lisx)\\n\\ncmds.polySplitRing( sma=180, wt=0.2)\\n\\n\\n\\n# Warning: Can\\'t perform polySplitRing2 on selection # \\n\\ncmds.select(\\'pCube4.e[0,3]\\')\\n\\n\\n\\n# Error: line 1: TypeError: file <maya console> line 1: Object pCube4.e[0,3] is invalid # \\n\\ncmds.polySplitRing( sma=180, wt=0.2)\\n\\n# Warning: Can\\'t perform polySplitRing3 on selection # \\n\\n# Result: [u\\'polySplitRing3\\'] # \\n\\ncmds.polyCube( n=\\'plg\\', w=5, h=5, d=5 )\\n\\n\\n\\n# Result: [u\\'plg\\', u\\'polyCube5\\'] # \\n\\ncmds.scale( 2, 2, 2 )\\n\\n\\n\\ncmds.select( \\'plg\\' )\\n\\n\\n\\ncmds.polyOptions( ao=True, dv=\\'true\\' )\\n\\n\\n\\n# Error: line 1: TypeError: file <maya console> line 1: Invalid arguments for flag \\'dv\\'.  Expected int, got str # \\n\\ncmds.polySubdivideEdge( dv=4 )\\n\\n\\n\\n# Result: [u\\'polySubdEdge1\\'] # \\n\\ncmds.polySubdivideEdge( dv=4, s=1.5 )\\n\\n\\n\\n# Result: [u\\'polySubdEdge2\\'] # \\n\\ncmds.polySubdivideEdge( dv=4, s=2, ws=True )\\n\\n\\n\\n# Error: line 1: TypeError: file <maya console> line 1: Error retrieving default arguments # \\n\\ncmds.polySubdivideEdge( dv=4, s=2, ws=True )\\n\\n\\n\\n# Result: [u\\'polySubdEdge3\\'] # \\n\\ncmds.polyPlane( name=\\'p\\', ch=False )\\n\\n# Result: [u\\'p\\'] # \\n\\ncmds.select(n=\\'p\\')\\n\\n# Error: line 1: TypeError: file <maya console> line 1: Invalid flag \\'n\\' # \\n\\ncmds.select(\\'p\\')\\n\\ncmds.select(\\'p\\')\\n\\ncmds.select(\\'p\\')\\n\\ncmds.dataStructure( format=\\'raw\\', asString=\\'name=IdStruct:int32=ID\\' )\\n\\n\\n\\n# Result: IdStruct # \\n\\ncmds.dataStructure( format=\\'raw\\', asString=\\'name=OffStruct:float=Offset\\' )\\n\\n\\n\\n# Result: OffStruct # \\n\\ncmds.dataStructure( format=\\'raw\\', asString=\\'name=OrgStruct:float[3]=Origin Point\\' )\\n\\n\\n\\n# Result: OrgStruct # \\n\\ncmds.addMetadata( query=True, channelType=True )\\n\\n\\n\\n# Warning: The \\'channelType\\' flag is obsolete. Use \\'channelName\\' instead. # \\n\\n# Error: line 1: RuntimeError: file <maya console> line 1: Query mode only works with exactly one node selected or using the \\'scene\\' flag. # \\n\\ncmds.select(\\'p\\')\\n\\ncmds.addMetadata( query=True, channelType=True )\\n\\n\\n\\n# Warning: The \\'channelType\\' flag is obsolete. Use \\'channelName\\' instead. # \\n\\ncmds.addMetadata( query=True, channelName=True )\\n\\n\\n\\ncmds.addMetadata( channelType=\\'vertex\\', streamName=\\'OffStream\\', query=True, structure=True )\\n\\n\\n\\n# Warning: The \\'channelType\\' flag is obsolete. Use \\'channelName\\' instead. # \\n\\ncmds.addMetadata( channelName=\\'vertex\\', streamName=\\'OffStream\\', query=True, structure=True )\\n\\n\\n\\ncmds.addMetadata( channelType=\\'vertex\\', query=True, streamName=True )\\n\\n\\n\\n# Warning: The \\'channelType\\' flag is obsolete. Use \\'channelName\\' instead. # \\n\\ncmds.addMetadata( query=True, streamName=True )\\n\\n\\n\\nfor stream in streams:\\n\\tindexType = cmds.addMetadata( channelType=\\'vertex\\', streamName=stream, query=True, indexType=True )[0]\\n\\tprint \\'Index type on %s is %s\\' % (stream, indexType)\\n# Error: line 1: NameError: file <maya console> line 1: name \\'streams\\' is not defined # \\n\\nstreams = cmds.addMetadata( channelType=\\'vertex\\', query=True, streamName=True )\\n\\n\\n\\n# Warning: The \\'channelType\\' flag is obsolete. Use \\'channelName\\' instead. # \\n\\nfor stream in streams:\\n\\tindexType = cmds.addMetadata( channelType=\\'vertex\\', streamName=stream, query=True, indexType=True )[0]\\n\\tprint \\'Index type on %s is %s\\' % (stream, indexType)\\n\\t\\n# Error: line 1: TypeError: file <maya console> line 1: \\'NoneType\\' object is not iterable # \\n\\ncmds.polyCreateFacet( p=[(0, 0, 0), (10, 0, 0), (10, 10, 0), (0, 10, 0)] )\\n\\n\\n\\n# Result: [u\\'polySurface4\\', u\\'polyCreateFace4\\'] # \\n\\ncmds.select(\\'polySurface4\\')\\n\\ncmds.polyAppend(a=[0,(5,-5,0])\\n\\n# Error: line 1: invalid syntax # \\n\\ncmds.polyAppend( a=[0, (5, -5, 0)] )\\n\\n\\n\\n# Warning: Can\\'t perform polyAppend3 on selection # \\n\\n# Result: [u\\'polyAppend3\\'] # \\n\\ncurrentPanel = cmds.getPanel(withFocus= True)\\n\\nif currentPanel != \\'\\':\\n\\tcmds.modelEditor(currentPanel, edit=True, da=\\'smoothShaded\\', dl=\\'default\\')\\ncmds.polySphere(n= \\'plg\\', sx= 15, sy= 10 )\\n\\n# Error: line 1: RuntimeError: file <maya console> line 3: modelEditor: Object \\'scriptEditorPanel1\\' not found. # \\n\\ncmds.polyPlane( sx=3, sy=3, name=\\'polyPlane\\' )\\n\\n\\n\\n# Result: [u\\'polyPlane\\', u\\'polyPlane3\\'] # \\n\\ncmds.select(\\'polyPlane\\')\\n\\ncmds.polyEvaluate( \\'polyPlane\\', vertex=True )\\n\\n\\n\\n# Result: 16 # \\n\\n(u\"C:/Users/Luke/Documents/maya/projects/default/scenes/python.mb\").replace(\"\\\\\\\\\",\"/\");\\n\\n# Result: C:/Users/Luke/Documents/maya/projects/default/scenes/python.mb # \\n\\n(u\"C:/Users/Luke/Documents/maya/projects/default/scenes/python.mb\").replace(\"\\\\\\\\\",\"/\");\\n\\n# Result: C:/Users/Luke/Documents/maya/projects/default/scenes/python.mb # \\n\\n(u\"C:/Users/Luke/Documents/maya/projects/default/scenes/python.mb\").replace(\"\\\\\\\\\",\"/\");\\n\\n# Result: C:/Users/Luke/Documents/maya/projects/default/scenes/python.mb # \\n\\ncmds.polyCube()\\n\\n# Result: [u\\'pCube5\\', u\\'polyCube6\\'] # \\n\\ncmds.select(\\'pCube1.e[0:3]\\')\\n\\n\\n\\ncmds.polySplitRing( sma=180, wt=0.2)\\n\\n\\n\\n# Result: [u\\'polySplitRing4\\'] # \\n\\ncmds.select(\\'pCube1.e[1:2]\\')\\n\\n\\n\\ncmds.polySplitRing( sma=180, wt=0.2)\\n\\n\\n\\n# Warning: Can\\'t perform polySplitRing5 on selection # \\n\\n# Result: [u\\'polySplitRing5\\'] # \\n\\nlenCube = len(lisx)\\n\\nprint lenCube\\n\\n10\\n\\nranNumz = random.randint(0,lenCube)\\n\\nprint ranNumz\\n\\n3\\n\\nranCuca = len(\\'pCube1\\')\\n\\nprint ranCuca\\n\\n6\\n\\nranFinal = random.randint(0, ranCuca)\\n\\nprint ranFinal\\n\\n6\\n\\ncmds.select(\\'pCube1.e[ranNumz:ranFinal]\\')\\n\\n\\n\\n# Error: line 1: TypeError: file <maya console> line 1: Object pCube1.e[ranNumz:ranFinal] is invalid # \\n\\ncmds.select(\\'pCube1.e[0:ranFinal]\\')\\n\\n\\n\\n# Error: line 1: TypeError: file <maya console> line 1: Object pCube1.e[0:ranFinal] is invalid # \\n\\ncmds.select(\\'pCube1.e[0:1\\')\\n\\n\\n\\n# Error: line 1: TypeError: file <maya console> line 1: Object pCube1.e[0:1 is invalid # \\n\\ncmds.select(\\'pCube1.e[0:1]\\')\\n\\n\\n\\ncmds.polySplitRing( sma=180, wt=0.2)\\n\\n\\n\\n# Result: [u\\'polySplitRing6\\'] # \\n\\ncmds.polyCube()\\n\\n\\n\\n# Result: [u\\'pCube6\\', u\\'polyCube7\\'] # \\n\\ncmds.select(\\'pCube6.e[0:3]\\')\\n\\n\\n\\nimport math\\n\\nseleMath = math.pi\\n\\nprint seleMath\\n\\n3.14159265359\\n\\nshoCua = ranFinal - seleMath\\n\\nprint shoCua\\n\\n2.85840734641\\n\\ncmds.select(\\'pCube6.e[shoCua:3]\\')\\n\\n\\n\\n# Error: line 1: TypeError: file <maya console> line 1: Object pCube6.e[shoCua:3] is invalid # \\n\\ncmds.select(\\'pCube6.e[shoCua:3]\\')\\n\\n\\n\\n# Error: line 1: TypeError: file <maya console> line 1: Object pCube6.e[shoCua:3] is invalid # \\n\\ncmds.select(\\'pCube6.e[0:3]\\')\\n\\n\\n\\ncmds.polySplitRing( sma=90, wt=0.8)\\n\\n\\n\\n# Result: [u\\'polySplitRing7\\'] # \\n\\ncmds.polySplitRing( sma=180, wt=0.6)\\n\\n\\n\\n# Warning: Can\\'t perform polySplitRing8 on selection # \\n\\n# Result: [u\\'polySplitRing8\\'] # \\n\\ncmds.select(\\'pCube6.e[0:3]\\')\\n\\n\\n\\ncmds.polySplitRing( sma=180, wt=0.6)\\n\\n# Result: [u\\'polySplitRing9\\'] # \\n\\ncmds.select(\\'pCube6.e[0:3]\\')\\n\\n\\n\\ncmds.polySplitRing( sma=60, wt=0.4)\\n\\n\\n\\n# Result: [u\\'polySplitRing10\\'] # \\n\\ncmds.select(\\'pCube6.e[0:2]\\')\\n\\n\\n\\ncmds.polySplitRing( sma=60, wt=0.4)\\n\\n\\n\\n# Result: [u\\'polySplitRing11\\'] # \\n\\nimport time\\n\\nprint (\\'hello\\')\\n\\ntime.sleep(5)\\n\\nprint (\\'world\\')\\n\\nhello\\n\\nworld\\n\\nx = 0\\n\\n\\n\\nif x = 10:\\n    print (\\'I am 10\\')\\nelse:\\n    print (\\'I am not 10\\')\\n    x + 1\\n# Error: line 1: invalid syntax # \\n\\nx = 0\\n\\nif x = 10:\\n    print (\\'I am 10\\')\\n# Error: line 1: invalid syntax # \\n\\nif x = 10:\\n    print (\\'I am 10\\')\\n# Error: line 1: invalid syntax # \\n\\nif x == 10:\\n    print (\\'I am 10\\')\\ncmds.select(\\'pCube1.e[4:6]\\')\\n\\n\\n\\n0.\\n\\n# Result: 0.0 # \\n\\ncmds.polySplitRing( sma=90, wt=0.2)\\n\\n\\n\\n# Result: [u\\'polySplitRing12\\'] # \\n\\ncmds.select(\\'pCube1.e[4:6]\\')\\n\\n\\n\\ncmds.polySplitRing( sma=180, wt=0.6)\\n\\n\\n\\n# Warning: Can\\'t perform polySplitRing13 on selection # \\n\\n# Result: [u\\'polySplitRing13\\'] # \\n\\ncmds.polyCylinder( r=1, h=2, sx=20, sy=1, sz=1, ax=(0, 1, 0), cuv=1, ch=1, name=\\'pCylA\\' )\\n\\n\\n\\n# Result: [u\\'pCylA\\', u\\'polyCylinder1\\'] # \\n\\ncmds.select(\\'pCylA\\')\\n\\ncmds.select(\\'pCylA\\')\\n\\ncmds.polyCut( \\'pCylA.f[0:59]\\', cd=\\'Y\\', ch=1 )\\n\\n\\n\\n# Result: [u\\'polyCut2\\'] # \\n\\ncmds.select( cl=True )\\n\\n\\n\\ncmds.polyCylinder( r=1, h=2, sx=20, sy=1, sz=1, ax=(0, 1, 0), cuv=1, ch=1, name=\\'pCylB\\' )\\n\\n\\n\\n# Result: [u\\'pCylB\\', u\\'polyCylinder2\\'] # \\n\\ncmds.move( 3, 0, 0, r=True )\\n\\n\\n\\ncmds.polyCut( \\'pCylB.f[0:59]\\', cd=\\'Y\\', df=1, ch=1 )\\n\\n\\n\\n# Result: [u\\'polyCut3\\'] # \\n\\ncmds.polyCylinder( r=1, h=2, sx=4, sy=1, sz=1, ax=(0, 1, 0), cuv=1, ch=1, name=\\'pCylB\\' )\\n\\n\\n\\n# Result: [u\\'pCylB1\\', u\\'polyCylinder3\\'] # \\n\\ncmds.polyCut( \\'pCylB.f[0:30]\\', cd=\\'Y\\', df=1, ch=1 )\\n\\n\\n\\n# Result: [u\\'polyCut4\\'] # \\n\\ncmds.polyCut( \\'pCylB1.f[0:20]\\', cd=\\'Y\\', df=1, ch=1 )\\n\\n\\n\\n# Result: [u\\'polyCut5\\'] # \\n\\ncmds.polyCut( \\'pCylB1.f[-10:0]\\', cd=\\'Y\\', df=1, ch=1 )\\n\\n\\n\\n# Result: [u\\'polyCut6\\'] # \\n\\ncmds.polyCut( \\'pCylB1.f[0:10]\\', cd=\\'X\\', df=1, ch=1 )\\n\\n\\n\\n# Result: [u\\'polyCut6\\'] # \\n\\ncmds.polyCut( \\'pCylB1.f[0:20]\\', cd=\\'Z\\', df=1, ch=1 )\\n\\n\\n\\n# Result: [u\\'polyCut6\\'] # \\n\\ncmds.polyCut( \\'pCylB1.f[5:10]\\', cd=\\'Z\\', df=1, ch=1 )\\n\\n\\n\\n# Result: [u\\'polyCut6\\'] # \\n\\ncmds.polyCrease( value=0.9 )\\n\\n# Error: line 1: RuntimeError: file <maya console> line 1: Maya command error # \\n\\ncmds.polyCrease( value=0.9 )\\n\\ncmds.polyPlane( n=\\'plg\\', w=5, h=5 )\\n\\n# Result: [u\\'plg1\\', u\\'polyPlane4\\'] # \\n\\ncmds.delete( \\'plg.f[20:29]\\' )\\n\\n\\n\\ncmds.polyPlane( n=\\'plg\\', w=5, h=5 )\\n\\n\\n\\n# Result: [u\\'plg2\\', u\\'polyPlane5\\'] # \\n\\ncmds.delete( \\'plg2.f[20:29]\\' )\\n\\n\\n\\ncmds.polySelect( \\'plg\\', edgeRing=1 )\\n\\n\\n\\n# Result: [1, 229] # \\n\\ncmds.polySelect(\\'pCube1\\', edgeRing=[0,50])\\n\\n\\n\\n# Result: [0] # \\n\\ncmds.polySelect( \\'plg\\', toggle=True, edgeRingPath=(1, 10) )\\n\\n\\n\\ncmds.polySelect( \\'plg\\', toggle=True, edgeRingPath=(1, 10) )\\n\\n\\n\\ncmds.polySelect( \\'pPlane1\\', shortestEdgePath=(10, 100) )\\n\\n\\n\\n# Error: line 1: Input vertices are not present on the polygonal object. # \\n\\ncmds.polySelect( \\'plc\\', shortestEdgePath=(10, 100) )\\n\\n\\n\\n# Error: line 1: ValueError: file <maya console> line 1: No object matches name: plc # \\n\\ncmds.polySelect( \\'plg\\', shortestEdgePath=(10, 100) )\\n\\n\\n\\n# Result: [151, 213, 150, 46, 47, 10, 52, 53, 54, 55, 0, 12, 13] # \\n\\ncmds.polyPlane( n=\\'plg1\\', sx=5, sy=5, w=5, h=5 )\\n\\n\\n\\n# Result: [u\\'plg3\\', u\\'polyPlane6\\'] # \\n\\ncmds.select(\\'plg3\\')\\n\\ncmds.move(3,3,3)\\n\\ncmds.polyMoveVertex( \\'plg1.vtx[7]\\', \\'plg1.vtx[10]\\', \\'plg1.vtx[25]\\', \\'plg1.vtx[28]\\', ltz=1 )\\n\\n\\n\\n# Result: [u\\'polyMoveVertex1\\'] # \\n\\ncmds.polyTriangulate( \\'plg1.f[0:1]\\', \\'plg1.f[5:6]\\', \\'plg1.f[3:4]\\', \\'plg1.f[8:9]\\', \\'plg1.f[15:16]\\', \\'plg1.f[20:21]\\', \\'plg1.f[18:19]\\', \\'plg1.f[23:24]\\' )\\n\\n\\n\\n# Result: [u\\'polyTriangulate1\\'] # \\n\\ncmds.polyTriangulate( \\'plg1.f[0:50]\\', \\'plg1.f[5:50]\\', \\'plg1.f[3:50]\\', \\'plg1.f[8:50]\\', \\'plg1.f[15:50]\\', \\'plg1.f[20:50]\\', \\'plg1.f[18:50]\\', \\'plg1.f[23:50]\\' )\\n\\n\\n\\n# Result: [u\\'polyTriangulate2\\'] # \\n\\ncmds.polyTriangulate()\\n\\n\\n\\n# Result: [u\\'polyTriangulate3\\'] # \\n\\ncmds.polyBoolOp()\\n\\n# Error: line 1: TypeError: file <maya console> line 1: Error retrieving default arguments # \\n\\ncmds.polyBoolOp(op=1, n=\\'result1\\' )\\n\\n# Error: line 1: TypeError: file <maya console> line 1: Error retrieving default arguments # \\n\\ncmds.polyPlane( n=\\'plg\\', w=10, h=10 )\\n\\n\\n\\n# Result: [u\\'plg4\\', u\\'polyPlane7\\'] # \\n\\ncmds.polyChipOff( \\'plg.f[71:72]\\', \\'plg.f[81:82]\\', dup=True, ltz=1 )\\n\\n\\n\\n# Result: [u\\'polyChipOff1\\'] # \\n\\ncmds.polyChipOff( \\'plg.f[11:12]\\', \\'plg.f[21:22]\\', dup=False, ty=1 )\\n\\n\\n\\n# Result: [u\\'polyChipOff2\\'] # \\n\\ncmds.polyChipOff( \\'plg.f[15:16]\\', \\'plg.f[23:24]\\', dup=False, kft=False, ls=(.5, .5, 0) )\\n\\n\\n\\n# Result: [u\\'polyChipOff3\\'] # \\n\\ncmds.polyChipOff( \\'plg.f[0:74]\\', \\'plg.f[0:84]\\', dup=False, kft=True, ls=(.5, .5, 0) )\\n\\n\\n\\n# Result: [u\\'polyChipOff4\\'] # \\n\\ncmds.polyClipboard( copy=True, uv=True, color=True, shader=True )\\n\\n\\n\\n# Warning: Incorrect number of items selected. Can only copy attributes from one face component item to the clipboard. # \\n\\n# Error: line 1: RuntimeError: file <maya console> line 1: Maya command error # \\n\\ncmds.polyClipboard()\\n\\n\\n\\n# Warning: No action specified to perform with the clipboard. # \\n\\n# Error: line 1: RuntimeError: file <maya console> line 1: Maya command error # \\n\\ncmds.polyClipboard(copy=True)\\n\\n\\n\\n# Warning: No attributes specified for clipboard operation. # \\n\\n# Error: line 1: RuntimeError: file <maya console> line 1: Maya command error # \\n\\ncmds.select( \\'plg1.e[26]\\', \\'plg1.e[28]\\', \\'plg1.e[30]\\', \\'plg1.e[32]\\', \\'plg1.e[34]\\', \\'plg1.e[36]\\', \\'plg1.e[38]\\', \\'plg1.e[47]\\', \\'plg1.e[49]\\', \\'plg1.e[51]\\', \\'plg1.e[53]\\', \\'plg1.e[55]\\', \\'plg1.e[57]\\', \\'plg1.e[59]\\' )\\n\\n\\n\\n\\n\\ncmds.polyCut(cd=\\'Y\\', ch=1 )\\n\\n\\n\\n# Result: [u\\'polyCut7\\'] # \\n\\ncmds.polyCut(cd=\\'Y\\', ch=1 )\\n\\n\\n\\n# Result: [u\\'polyCut8\\'] # \\n\\ncmds.polyCut( \\'pCylA.f[0:59]\\', cd=\\'Z\\', ch=1 )\\n\\n\\n\\n# Result: [u\\'polyCut9\\'] # \\n\\ncmds.polyCut( \\'pCylA.f[0:59]\\', cd=\\'Z\\', ch=1 )\\n\\n\\n\\n# Result: [u\\'polyCut10\\'] # \\n\\ncmds.select(\\'pCylA\\')\\n\\n\\n\\ncmds.select(\\'pCylA\\')\\n\\n\\n\\ncmds.polyDuplicateEdge(of=0.5)\\n\\n# Result: [u\\'polyDuplicateEdge1\\'] # \\n\\ncmds.polyDuplicateAndConnect\\n\\n# Result: <built-in method polyduplicateandconnect of module object at> # \\n\\ncmds.polyDuplicateAndConnect()\\n\\n# Result: [u\\'pCylA1\\'] # \\n\\ncmds.polyDuplicateEdge()\\n\\n# Result: [u\\'polyDuplicateEdge2\\'] # \\n\\ncmds.polyDuplicateEdge(e[0,10], of=0.8)\\n\\n# Error: line 1: NameError: file <maya console> line 1: name \\'e\\' is not defined # \\n\\ncmds.select(\\'pCylA\\')\\n\\ncmds.select(\\'pCylA1\\')\\n\\ncmds.polyExtrudeFacet(kft=False, ltz=2, ls=(.5, .5, 0) )\\n\\n\\n\\n# Result: [u\\'polyExtrudeFace5\\'] # \\n\\ncmds.polyExtrudeFacet(kft=False, ltz=.3, ls=(.2, .2, 0) )\\n\\n# Result: [u\\'polyExtrudeFace6\\'] # \\n\\ncmds.polyExtrudeFacet(kft=False, ltz=.8, ls=(.5, .5, 0) )\\n\\n\\n\\n# Result: [u\\'polyExtrudeFace7\\'] # \\n\\ne, ltz=.3, ls=(.2\\n\\n# Error: line 1: invalid syntax # \\n\\neFacet(kft\\n\\n# Error: line 1: invalid syntax # \\n\\ncmds.polyExtrudeFacet(kft=False, ltz=.3, ls=(.2, .2, 0) )\\n\\n\\n\\n# Result: [u\\'polyExtrudeFace9\\'] # \\n\\ncmds.polyExtrudeFacet(kft=False, ltz=.8, ls=(.2, .2, 0) )\\n\\n\\n\\n# Result: [u\\'polyExtrudeFace10\\'] # \\n\\ncmds.polyExtrudeFacet(kft=False, ltz=.5, ls=(.2, .2, 0) )\\n\\n\\n\\n# Result: [u\\'polyExtrudeFace10\\'] # \\n\\ncmds.polyExtrudeFacet(kft=False, ltz=.9, ls=(5, .5, 3) )\\n\\n\\n\\n# Result: [u\\'polyExtrudeFace10\\'] # \\n\\n3\\n\\n# Result: 3 # \\n\\ncmds.polyExtrudeFacet(kft=False, ltz=.8, ls=(.2, .2, 0) )\\n\\n\\n\\n# Result: [u\\'polyExtrudeFace11\\'] # \\n\\ncmds.polyExtrudeFacet(kft=False, ltz=.3, ls=(.2, .2, 0) )\\n\\n\\n\\n# Result: [u\\'polyExtrudeFace12\\'] # \\n\\ncmds.polyTriangulate()\\n\\n# Result: [u\\'polyTriangulate4\\'] # \\n\\ncmds.scale(0,5,0)\\n\\ncmds.scale(0.5,0,0)\\n\\ncmds.scale(50,20,10)\\n\\n\\n\\ncmds.scale(10,5,10)\\n\\n\\n\\ncmds.scale(1,1,1)\\n\\n\\n\\ncmds.scale(1,2,1)\\n\\n\\n\\ncmds.scale(2,1,1)\\n\\n\\n\\ncmds.scale(1,1,2)\\n\\n\\n\\ncmds.scale(1,1,5)\\n\\n\\n\\ncmds.scale(5,1,1)\\n\\n\\n\\ncmds.scale(5,5,1)\\n\\n\\n\\ncmds.scale(1,5,2)\\n\\n\\n\\ncmds.polySelect(edgeBorder)\\n\\n# Error: line 1: NameError: file <maya console> line 1: name \\'edgeBorder\\' is not defined # \\n\\ncmds.polySelect(edgeBorder=[0,3])\\n\\ncmds.polySelect(edgeRing=1)\\n\\n# Result: [1, 38, 42, 8, 16, 19, 11, 58, 54, 3, 22, 26, 1] # \\n\\ncmds.polyExtrudeEdge(ch=1, kft=0, pvx=-5.5, pvy=0.0, pvz=6.0 )\\n\\n\\n\\n# Result: [u\\'polyExtrudeEdge3\\'] # \\n\\ncmds.move(0, 0, -5, r=True)\\n\\n\\n\\ncameraName = cmds.camera()\\n\\n\\n\\ncameraShape = cameraName[1]\\n\\nfocalLength = cmds.camera(cameraShape, q=True, fl=True)\\n\\n\\n\\ncmds.camera( cameraShape, e=True, ff=\\'overscan\\' )\\n\\n\\n\\ncmds.camera(cameraShape, rotation=[90,0,0])\\n\\n# Error: line 1: RuntimeError: file <maya console> line 1: Too many objects or values. # \\n\\ncmds.camera(cameraShape, rotation=90,0,0)\\n\\n# Error: line 1: non-keyword arg after keyword arg # \\n\\ncmds.camera(cameraShape, rotation=90)\\n\\n# Error: line 1: TypeError: file <maya console> line 1: Invalid arguments for flag \\'rotation\\'.  Expected ( angle, angle, angle ), got int # \\n\\ncmds.camera(cameraShape, shutterAngle=90)\\n\\n# Error: line 1: RuntimeError: file <maya console> line 1: Too many objects or values. # \\n\\ncmds.camera(shutterAngle=90)\\n\\n# Result: [u\\'camera2\\', u\\'cameraShape2\\'] # \\n\\nimport mentalray.textureFileConversionUtils\\n\\nhomeName = cmds.cameraView(camera=\\'persp\\')\\n\\n\\n\\ncmds.cameraView( homeName, e=True, camera=\\'persp\\', ab=True )\\n\\n\\n\\ncmds.dolly( \\'persp\\', distance=-30 )\\n\\n\\n\\ncmds.panZoom( \\'persp\\', r=0.6 )\\n\\ncmds.cameraView( panZoomBookmark, e=True, camera=\\'persp\\', sc=True )\\n\\n\\n\\n# Error: line 1: NameError: file <maya console> line 1: name \\'panZoomBookmark\\' is not defined # \\n\\ncmds.cameraView( panZoomBookmark, e=True, camera=\\'persp\\', sc=True )\\n\\n\\n\\n# Error: line 1: NameError: file <maya console> line 1: name \\'panZoomBookmark\\' is not defined # \\n\\ncmds.cameraView( camera=\\'persp\\', name=\\'zoom\\', ab=True )\\n\\n\\n\\n# Result: zoom # \\n\\ncmds.cameraView( homeName, e=True, camera=\\'persp\\', sc=True )\\n\\n\\n\\ncmds.dolly( \\'persp\\', distance=-30 )\\n\\n\\n\\ncmds.dolly( \\'persp\\', distance=30 )\\n\\n\\n\\ncmds.roll( \\'persp\\', abs=True, d=0 )\\n\\n\\n\\ncmds.roll( \\'persp\\', d=90 )\\n\\n\\n\\ncmds.setKeyframe()\\n\\n# Error: line 1: TypeError: file <maya console> line 1: Error retrieving default arguments # \\n\\ncmds.setKeyframe()\\n\\n# Result: 10 # \\n\\ncmds.currentTime( query=True )\\n\\n\\n\\n# Result: 1.0 # \\n\\ncmds.currentTime( 32, edit=True )\\n\\n\\n\\n# Result: 32.0 # \\n\\ncmds.move(0,5,0)\\n\\ncmds.setKeyframe()\\n\\n\\n\\n# Result: 10 # \\n\\ncmds.currentTime( 32*2, edit=True )\\n\\n# Result: 64.0 # \\n\\ncmds.currentTime( 0, edit=True )\\n\\n# Result: 0.0 # \\n\\ncmds.copyKey()\\n\\n# Result: 10 # \\n\\ncmds.currentTime( 64, edit=True )\\n\\n\\n\\n# Result: 64.0 # \\n\\ncmds.pasteKey()\\n\\n\\n\\n# Result: 10 # \\n\\ncmds.currentTime( 1, edit=True )\\n\\n# Result: 1.0 # \\n\\ncmds.copyKey()\\n\\n# Result: 10 # \\n\\ncmds.currentTime( 64, edit=True )\\n\\n\\n\\n# Result: 64.0 # \\n\\ncmds.pasteKey()\\n\\n# Error: line 1: TypeError: file <maya console> line 1: Error retrieving default arguments # \\n\\nimport time\\n\\ncmds.recordDevice( device=\\'clock\\', duration=30 )\\n\\n# Error: line 1: RuntimeError: file C:\\\\Program Files\\\\Autodesk\\\\Maya2014\\\\Python\\\\lib\\\\site-packages\\\\maya\\\\app\\\\commands.py line 19: No such device: clock # \\n\\ncmds.applyTake()\\n\\n# Error: line 1: RuntimeError: file <maya console> line 1: No devices with recorded takes were found. # \\n\\ncmds.joint( p=(0, 0, 0) )\\n\\n# Result: joint1 # \\n\\ncmds.joint( p=(0, 4, 0)  )\\n\\n\\n\\n# Result: joint2 # \\n\\ncmds.joint( \\'joint1\\', e=True, zso=True, oj=\\'xyz\\' )\\n\\n\\n\\ncmds.joint( p=(0, 8, -1) )\\n\\n\\n\\n# Result: joint3 # \\n\\ncmds.joint( \\'joint2\\', e=True, zso=True, oj=\\'xyz\\' )\\n\\n\\n\\ncmds.joint( lz=(\\'-90deg\\', \\'90deg\\'), p=(0, 8, 4) )\\n\\n\\n\\n# Result: joint4 # \\n\\ncmds.joint( edit=True, lz=(\\'-90deg\\', \\'90deg\\'), lsz=False )\\n\\n\\n\\ncmds.currentTime( 0 )\\n\\ncmds.setKeyframe( \\'joint3.rx\\' )\\n\\ncmds.currentTime( 10 )\\n\\ncmds.setKeyframe( \\'joint3.rx\\', v=90 )\\n\\ncmds.currentTime( 20 )\\n\\ncmds.setKeyframe( \\'joint3.rx\\', v=0 )\\n\\ncmds.clip( \\'arm\\', startTime=0, endTime=20, name=\\'handWave\\' )\\n\\n\\n\\n# Error: line 1: ValueError: file <maya console> line 1: No object matches name: arm # \\n\\ncmds.clip(startTime=0, endTime=20, name=\\'handWave\\' )\\n\\n\\n\\n# Error: line 1: RuntimeError: file <maya console> line 1: Must select a single character or a clip library. # \\n\\ncmds.character( name=\\'arm\\' )\\n\\n\\n\\n# Result: arm # \\n\\ncmds.clip( \\'arm\\', startTime=0, endTime=20, name=\\'handWave\\' )\\n\\n\\n\\n# Error: line 1: RuntimeError: file <maya console> line 1: No clip created since character has no keys. # \\n\\n\\n\\ncmds.select( \\'joint3\\', r=True )\\n\\ncmds.currentTime( 0 )\\n\\ncmds.setKeyframe( \\'joint3.rx\\' )\\n\\ncmds.currentTime( 10 )\\n\\ncmds.setKeyframe( \\'joint3.rx\\', v=90 )\\n\\ncmds.currentTime( 20 )\\n\\ncmds.setKeyframe( \\'joint3.rx\\', v=0 )\\n\\ncmds.clip( \\'arm\\', startTime=0, endTime=20, name=\\'handWave\\' )\\n\\n\\n\\n# Error: line 1: RuntimeError: file <maya console> line 1: No clip created since character has no keys. # \\n\\ncmds.play( forward=True )\\n\\n\\n\\n# Press the ESC key to stop playback. # \\n\\ncmds.play( state=False )\\n\\ncmds.select(\\'cameraShape\\')\\n\\n# Error: line 1: ValueError: file <maya console> line 1: No object matches name: cameraShape # \\n\\ncameraName = cmds.camera()\\n\\n\\n\\ncameraShape = cameraName[1]\\n\\n\\n\\ncmds.move(1,0,1)\\n\\ncmds.setKeyframe()\\n\\n# Result: 18 # \\n\\nlight = cmds.ambientLight(intensity=0.8)\\n\\ncmds.ambientLight( light, e=True, intensity=0.5 )\\n\\n\\n\\n# Result:  # \\n\\nimport mentalray.textureFileConversionUtils\\n\\nimport mentalray.textureFileConversionUtils\\n\\n[/prettify]</maya></maya></maya></maya></maya></maya></maya></maya></maya></maya></maya></maya></maya></maya></maya></built-in></maya></maya></maya></maya></maya></maya></maya></maya></maya></maya></maya></maya></maya></maya></maya></maya></maya></maya></maya></maya></maya></maya></maya></maya></maya></maya></maya></maya></maya></maya></bob></bob></http:></built-in></http:></http:></maya></maya></maya></function></maya></maya></built-in></maya></function></function></function></maya></maya></maya></maya></maya></maya></maya></maya></p></body></html>'"
       ]
      }
     ],
     "prompt_number": 376
    },
    {
     "cell_type": "code",
     "collapsed": false,
     "input": [
      "from bs4 import BeautifulSoup\n",
      "soup = BeautifulSoup(blogread)\n",
      "\n",
      "print(soup.prettify())"
     ],
     "language": "python",
     "metadata": {},
     "outputs": []
    },
    {
     "cell_type": "code",
     "collapsed": false,
     "input": [
      "import dominate\n",
      "from dominate.tags import *\n",
      "\n",
      "doc = dominate.document(title='BroBeur Blog Post')\n",
      "\n",
      "with doc.head:\n",
      "    link(rel='stylesheet', href='style.css')\n",
      "    script(type='text/javascript', src='script.js')\n",
      "\n",
      "with doc:\n",
      "    with div(id='header').add(ol()):\n",
      "        for i in alldic[1]:\n",
      "            li(a(i.title(), href='/%s.html' % i))\n",
      "\n",
      "    with div():\n",
      "        attr(cls='body')\n",
      "        p(razdiz)\n",
      "        h1(randaz)\n",
      "        p((blogread)\n",
      "\n",
      "print doc"
     ],
     "language": "python",
     "metadata": {},
     "outputs": [
      {
       "output_type": "stream",
       "stream": "stdout",
       "text": [
        "<!DOCTYPE html>\n",
        "<html>\n",
        "  <head>\n",
        "    <title>BroBeur Blog Post</title>\n",
        "    <link href=\"style.css\" rel=\"stylesheet\">\n",
        "    <script src=\"script.js\" type=\"text/javascript\"></script>\n",
        "  </head>\n",
        "  <body>\n",
        "    <div id=\"header\">\n",
        "      <ol>\n",
        "        <li>\n",
        "          <a href=\"/2013-06-19 19:11:31\n",
        ".html\">2013-06-19 19:11:31\n",
        "</a>\n",
        "        </li>\n",
        "      </ol>\n",
        "    </div>\n",
        "    <div class=\"body\">\n",
        "      <p>2013-04-26 12:27:10\n",
        "</p>\n",
        "      <h1>aux-jan-0-6\n",
        "</h1>\n",
        "      <p></p>\n",
        "    </div>\n",
        "  </body>\n",
        "</html>\n"
       ]
      }
     ],
     "prompt_number": 319
    },
    {
     "cell_type": "code",
     "collapsed": false,
     "input": [
      "os.chdir('/home/wcmckee')"
     ],
     "language": "python",
     "metadata": {},
     "outputs": [],
     "prompt_number": 293
    },
    {
     "cell_type": "code",
     "collapsed": false,
     "input": [
      "os.mkdir('brobeur-blog-post')"
     ],
     "language": "python",
     "metadata": {},
     "outputs": [
      {
       "ename": "OSError",
       "evalue": "[Errno 17] File exists: 'brobeur-blog-post'",
       "output_type": "pyerr",
       "traceback": [
        "\u001b[1;31m---------------------------------------------------------------------------\u001b[0m\n\u001b[1;31mOSError\u001b[0m                                   Traceback (most recent call last)",
        "\u001b[1;32m<ipython-input-160-6fa66c934a7d>\u001b[0m in \u001b[0;36m<module>\u001b[1;34m()\u001b[0m\n\u001b[1;32m----> 1\u001b[1;33m \u001b[0mos\u001b[0m\u001b[1;33m.\u001b[0m\u001b[0mmkdir\u001b[0m\u001b[1;33m(\u001b[0m\u001b[1;34m'brobeur-blog-post'\u001b[0m\u001b[1;33m)\u001b[0m\u001b[1;33m\u001b[0m\u001b[0m\n\u001b[0m",
        "\u001b[1;31mOSError\u001b[0m: [Errno 17] File exists: 'brobeur-blog-post'"
       ]
      }
     ],
     "prompt_number": 160
    },
    {
     "cell_type": "code",
     "collapsed": false,
     "input": [
      "os.chdir('brobeur-blog-post/')"
     ],
     "language": "python",
     "metadata": {},
     "outputs": [],
     "prompt_number": 135
    },
    {
     "cell_type": "code",
     "collapsed": false,
     "input": [
      "wriind = open('index.html', 'w')"
     ],
     "language": "python",
     "metadata": {},
     "outputs": [],
     "prompt_number": 137
    },
    {
     "cell_type": "code",
     "collapsed": false,
     "input": [
      "wriind.write(str(doc))"
     ],
     "language": "python",
     "metadata": {},
     "outputs": [],
     "prompt_number": 140
    },
    {
     "cell_type": "code",
     "collapsed": false,
     "input": [
      "wriind.close()"
     ],
     "language": "python",
     "metadata": {},
     "outputs": [],
     "prompt_number": 141
    },
    {
     "cell_type": "code",
     "collapsed": false,
     "input": [
      "cat index.html"
     ],
     "language": "python",
     "metadata": {},
     "outputs": [
      {
       "output_type": "stream",
       "stream": "stdout",
       "text": [
        "<!DOCTYPE html>\r\n",
        "<html>\r\n",
        "  <head>\r\n",
        "    <title>BroBeur Blog Post</title>\r\n",
        "    <link href=\"style.css\" rel=\"stylesheet\">\r\n",
        "    <script src=\"script.js\" type=\"text/javascript\"></script>\r\n",
        "  </head>\r\n",
        "  <body>\r\n",
        "    <div id=\"header\">\r\n",
        "      <ol>\r\n",
        "        <li>\r\n",
        "          <a href=\"/2013-06-02 06:12:48\r\n",
        ".html\">2013-06-02 06:12:48\r\n",
        "</a>\r\n",
        "        </li>\r\n",
        "      </ol>\r\n",
        "    </div>\r\n",
        "    <div class=\"body\">\r\n",
        "      <p>2013-07-12 13:03:18\r\n",
        "</p>\r\n",
        "      <h1>iamagamer-envior-concept-art-plus-model\r\n",
        "</h1>\r\n",
        "    </div>\r\n",
        "  </body>\r\n",
        "</html>"
       ]
      }
     ],
     "prompt_number": 142
    },
    {
     "cell_type": "code",
     "collapsed": false,
     "input": [],
     "language": "python",
     "metadata": {},
     "outputs": []
    }
   ],
   "metadata": {}
  }
 ]
}