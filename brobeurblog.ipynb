{
 "metadata": {
  "name": "",
  "signature": "sha256:c524ecafd50d2d56354895f5e8a13e90e977001828caf4989a371304690af7f9"
 },
 "nbformat": 3,
 "nbformat_minor": 0,
 "worksheets": [
  {
   "cells": [
    {
     "cell_type": "markdown",
     "metadata": {},
     "source": [
      "BroBeur Studios Blog\n",
      "\n",
      "This is similar to the artcontrolme script but it deals with BroBeur Studios posts.\n",
      "It takes a folder of .meta and .wp/md/html and mashes it together as a json object. \n",
      "It also outputs a html file with a random post, and all posts."
     ]
    },
    {
     "cell_type": "markdown",
     "metadata": {},
     "source": [
      "TODO\n",
      "\n",
      "deal with images.\n",
      "need bigger hard drive on local dev system (currently pi running debian)\n",
      "\n",
      "combine brobeur, artcontrolme, and freshfigure.me/art into one site. Do this by merging all posts and images. \n",
      "\n"
     ]
    },
    {
     "cell_type": "code",
     "collapsed": false,
     "input": [
      "import dominate\n",
      "from dominate.tags import *\n",
      "import random\n",
      "import os\n",
      "import json"
     ],
     "language": "python",
     "metadata": {},
     "outputs": [],
     "prompt_number": 322
    },
    {
     "cell_type": "code",
     "collapsed": false,
     "input": [],
     "language": "python",
     "metadata": {},
     "outputs": [],
     "prompt_number": 322
    },
    {
     "cell_type": "code",
     "collapsed": false,
     "input": [
      "bropo = ('/home/wcmckee/brobeur-web/posts')"
     ],
     "language": "python",
     "metadata": {},
     "outputs": [],
     "prompt_number": 323
    },
    {
     "cell_type": "code",
     "collapsed": false,
     "input": [
      "os.chdir(bropo)"
     ],
     "language": "python",
     "metadata": {},
     "outputs": [],
     "prompt_number": 324
    },
    {
     "cell_type": "code",
     "collapsed": false,
     "input": [
      "wplis = []"
     ],
     "language": "python",
     "metadata": {},
     "outputs": [],
     "prompt_number": 325
    },
    {
     "cell_type": "code",
     "collapsed": false,
     "input": [
      "for fil in os.listdir(bropo):\n",
      "    print fil\n",
      "    wplis.append(fil)"
     ],
     "language": "python",
     "metadata": {},
     "outputs": [
      {
       "output_type": "stream",
       "stream": "stdout",
       "text": [
        "bc-conceptdraw.meta\n",
        "89.wp\n",
        "birdcage-platform-game-0-1-0-2.wp\n",
        "digital-paintings-created-with-sketchbook-and-gimp.meta\n",
        "pari-noon-nightmare.meta\n",
        "triger-molyjam-2013.meta\n",
        "169.meta\n",
        "prodo-gpc1.wp\n",
        "hell-earth.meta\n",
        "start-gpcv17-ideas.meta\n",
        "suburbnightmare-screenshots.wp\n",
        "surreal-warp-nightmare.meta\n",
        "digital-paintings-created-with-sketchbook-and-gimp.wp\n",
        "prodo-gpc1.meta\n",
        "155.meta\n",
        "shark-nightmare.meta\n",
        "155.wp\n",
        "site-logo-paintings-prodo-git.wp\n",
        "136.wp\n",
        "post-mortem-hell-earth.meta\n",
        "aux-jan-0-6.meta\n",
        "surreal-warp-nightmare.wp\n",
        "aux-jan-game.meta\n",
        "maya-api.meta\n",
        "python-reddit-json.meta\n",
        "17.meta\n",
        "marchadventure.wp\n",
        "party-noon-nightmare-prototype-build.wp\n",
        "90.wp\n",
        "black-bars-and-text-suburb-nightmare.wp\n",
        "136.meta\n",
        "start-gpcv17-ideas.wp\n",
        "november-2013-game-dev-meet-up.meta\n",
        "playformfeb-v1-web.meta\n",
        "auxjan-to-auxjune.meta\n",
        "python-reddit-json.wp\n",
        "murder-simulation-2013.meta\n",
        "7drts-challenge-ideas.wp\n",
        "29.wp\n",
        "7drts-challenge-ideas.meta\n",
        "sim-prototype-idea-1.wp\n",
        "692.meta\n",
        "redditgetsdrawn-tiggyvashti7.wp\n",
        "duck.meta\n",
        "514.wp\n",
        "twitter-notes-on-game-development.wp\n",
        "site-logo-paintings-prodo-git.meta\n",
        "523.wp\n",
        "birdfice-apk.wp\n",
        "25.meta\n",
        "pari-noon-nightmare.wp\n",
        "98.wp\n",
        "triger.meta\n",
        "spotwalker-ld48-first-3-hours.meta\n",
        "692.wp\n",
        "maya-api.wp\n",
        "gameboy-jam-warmup-cafrin.wp\n",
        "fishing-dream-modding.meta\n",
        "fishing-dream-modding.wp\n",
        "491.meta\n",
        "auxjonem.wp\n",
        "twitter-notes-on-game-development-2.wp\n",
        "169.wp\n",
        "404.wp\n",
        "birdcage-platform-game-0-1-0-2.meta\n",
        "november-2013-game-dev-meet-up.wp\n",
        "marchadventure.meta\n",
        "development-slow.meta\n",
        "twitter-notes-on-game-development-2.meta\n",
        "11.wp\n"
       ]
      },
      {
       "output_type": "stream",
       "stream": "stdout",
       "text": [
        "166.wp\n",
        "166.meta\n",
        "shark-nightmare.wp\n",
        "hell-earth.wp\n",
        "imagamer-ca.wp\n",
        "429.meta\n",
        "birdfice-apk.meta\n",
        "cathern-interface-2.meta\n",
        "137.wp\n",
        "prodo-island-project-new.meta\n",
        "index.html\n",
        "cathern-interface.wp\n",
        "shark-nightmare-screenshots.meta\n",
        "maya-python-classes-development.meta\n",
        "297.meta\n",
        "hell-earth-2.meta\n",
        "prodo-island-project-new.wp\n",
        "429.wp\n",
        "skins-wire-python-image-library.wp\n",
        "auxjonem.meta\n",
        "hell-earth-2.wp\n",
        "black-bars-and-text-suburb-nightmare.meta\n",
        "triger.wp\n",
        "170.wp\n",
        "brobeur-studios-prodo-island-game-development-notes.wp\n",
        "523.meta\n",
        "spotwalker-0-1-build.meta\n",
        "dune-0-1.meta\n",
        "dune-0-1.wp\n",
        "aux-jan-0-6.wp\n",
        "gameboy-jam-warmup-cafrin.meta\n",
        "spotwalker-ld48-first-3-hours.wp\n",
        "491.wp\n",
        "auxjan-to-auxjune.wp\n",
        "sim-prototype-idea-1.meta\n",
        "suburbnightmare-screenshots.meta\n",
        "post-mortem-hell-earth.wp\n",
        "imagamer-ca.meta\n",
        "cathern-interface-2.wp\n",
        "170.meta\n",
        "lightout-character-3d-assets.wp\n",
        "party-noon-nightmare-prototype-build.meta\n",
        "black-cat-fishing-jam.meta\n",
        "452.wp\n",
        "154.meta\n",
        "297.wp\n",
        "index.json\n",
        "154.wp\n",
        "lightout-character-3d-assets.meta\n",
        "11.meta\n",
        "9.meta\n",
        "marchgame-v0-1.meta\n",
        "shark-nightmare-screenshots.wp\n",
        "29.meta\n",
        "black-cat-fishing-jam.wp\n",
        "iamagamer-envior-concept-art-plus-model.meta\n",
        "maya-python-and-party-moon-nightmare-screenshots.wp\n",
        "452.meta\n",
        "514.meta\n",
        "9.wp\n",
        "bc-conceptdraw.wp\n",
        "25.wp\n",
        "murder-simulation-2013.wp\n",
        "404.meta\n",
        "maya-python-classes-development.wp\n",
        "90.meta\n",
        "playformfeb-v1-web.wp\n",
        "brobeur-studios-prodo-island-game-development-notes.meta\n",
        "137.meta\n",
        "twitter-notes-on-game-development.meta\n",
        "development-slow.wp\n",
        "marchgame-v0-1.wp\n",
        "17.wp\n",
        "cathern-interface.meta\n",
        "aux-jan-game.wp\n",
        "89.meta\n",
        "duck.wp\n",
        "redditgetsdrawn-tiggyvashti7.meta\n",
        "98.meta\n",
        "iamagamer-envior-concept-art-plus-model.wp\n",
        "triger-molyjam-2013.wp\n",
        "spotwalker-0-1-build.wp\n",
        "maya-python-and-party-moon-nightmare-screenshots.meta\n",
        "skins-wire-python-image-library.meta\n"
       ]
      }
     ],
     "prompt_number": 326
    },
    {
     "cell_type": "code",
     "collapsed": false,
     "input": [
      "metlis = []"
     ],
     "language": "python",
     "metadata": {},
     "outputs": [],
     "prompt_number": 327
    },
    {
     "cell_type": "code",
     "collapsed": true,
     "input": [
      "for wp in wplis:\n",
      "    if '.meta' in wp:\n",
      "        metlis.append(wp)"
     ],
     "language": "python",
     "metadata": {},
     "outputs": [],
     "prompt_number": 328
    },
    {
     "cell_type": "code",
     "collapsed": false,
     "input": [
      "alldic = []"
     ],
     "language": "python",
     "metadata": {},
     "outputs": [],
     "prompt_number": 329
    },
    {
     "cell_type": "code",
     "collapsed": false,
     "input": [
      "for mea in metlis:\n",
      "    file = open(mea, 'r')\n",
      "    metaf = file.readlines()\n",
      "    chzdir = ({'name': metaf[0]})#, file.readline()}\n",
      "    chzdir.update({'title': metaf[1]})\n",
      "    chzdir.update({'date': metaf[2]})\n",
      "    chzdir.update({'tags': metaf[3]})\n",
      "    print chzdir\n",
      "    alldic.append(chzdir)"
     ],
     "language": "python",
     "metadata": {},
     "outputs": [
      {
       "output_type": "stream",
       "stream": "stdout",
       "text": [
        "{'date': '2013-08-03 21:49:47\\n', 'tags': '7dFPS,7hFPS,bullet control,concept,pencil\\n', 'name': 'Bullet Control - concept pencil drawings\\n', 'title': 'bc-conceptdraw\\n'}\n",
        "{'date': '2013-04-02 21:33:18\\n', 'tags': '\\n', 'name': 'Digital Paintings created with SketchBook and GIMP\\n', 'title': 'digital-paintings-created-with-sketchbook-and-gimp\\n'}\n",
        "{'date': '2013-11-10 13:52:42\\n', 'tags': '3d,indiejolt,maya,model\\n', 'name': 'Pari Noon Nightmare\\n', 'title': 'pari-noon-nightmare\\n'}\n",
        "{'date': '2013-07-07 12:32:10\\n', 'tags': 'adventure,gamejam,gamejam,molyjam,unity\\n', 'name': 'Triger MolyJam 2013 \\n', 'title': 'triger-molyjam-2013\\n'}\n",
        "{'date': '2013-04-15 10:48:08\\n', 'tags': 'draft,write\\n', 'name': 'HTML5 Game\\n', 'title': '169\\n'}\n",
        "{'date': '2013-08-12 16:11:58\\n', 'tags': '7dFPS,adventure,fps,unity\\n', 'name': 'Hell Earth\\n', 'title': 'hell-earth\\n'}\n",
        "{'date': '2013-04-09 19:02:21\\n', 'tags': '#GPCv17,draw,idea,prodotype,sketch\\n', 'name': 'Start #GPCv17 ideas\\n', 'title': 'start-gpcv17-ideas\\n'}\n",
        "{'date': '2013-06-10 21:46:50\\n', 'tags': '2d,bacongamejam,runner,sidescroller\\n', 'name': 'Surreal Warp Nightmare\\n', 'title': 'surreal-warp-nightmare\\n'}\n",
        "{'date': '2013-04-16 18:47:04\\n', 'tags': 'write,Write\\n', 'name': 'Prodo Island GPC17\\n', 'title': 'prodo-gpc1\\n'}\n",
        "{'date': '2013-04-15 02:17:47\\n', 'tags': 'draft,write\\n', 'name': 'HTML5\\n', 'title': '155\\n'}\n",
        "{'date': '2013-11-04 00:22:06\\n', 'tags': 'cinematic adventure,unity,write\\n', 'name': 'Shark Nightmare\\n', 'title': 'shark-nightmare\\n'}\n",
        "{'date': '2013-08-20 23:31:23\\n', 'tags': '7dFPS,write\\n', 'name': 'Post mortem: Hell Earth\\n', 'title': 'post-mortem-hell-earth\\n'}\n",
        "{'date': '2013-04-26 12:27:10\\n', 'tags': 'aux-jan,blender,model,unity\\n', 'name': 'Aux-Jan 0.6\\n', 'title': 'aux-jan-0-6\\n'}\n",
        "{'date': '2013-04-03 07:52:35\\n', 'tags': '3d,aux-jan,logo,pc,screenshot\\n', 'name': 'Aux-Jan Game\\n', 'title': 'aux-jan-game\\n'}\n",
        "{'date': '2013-11-16 17:42:27\\n', 'tags': 'api,maya,maya,python\\n', 'name': 'maya api \\n', 'title': 'maya-api\\n'}\n",
        "{'date': '2013-04-04 10:08:10\\n', 'tags': 'Game,portrait,redditgetsdrawn\\n', 'name': 'RedditGetsDrawn - Sagahurtig\\n', 'title': 'python-reddit-json\\n'}\n",
        "{'date': '2013-04-02 18:41:03\\n', 'tags': 'draft\\n', 'name': 'Basic HTML5 Game\\n', 'title': '17\\n'}\n",
        "{'date': '2013-04-13 11:55:02\\n', 'tags': 'draft,write\\n', 'name': 'None\\n', 'title': '136\\n'}\n",
        "{'date': '2013-11-10 09:25:25\\n', 'tags': 'auckland,meetup\\n', 'name': 'November 2013 game dev meet up\\n', 'title': 'november-2013-game-dev-meet-up\\n'}\n",
        "{'date': '2013-04-07 15:25:17\\n', 'tags': 'Game,platformer,unity,web\\n', 'name': 'PlayformFeb v1 Web\\n', 'title': 'playformfeb-v1-web\\n'}\n",
        "{'date': '2013-06-23 19:44:59\\n', 'tags': 'Android,aux-jan,platform\\n', 'name': 'AUXjan to AUXjune\\n', 'title': 'auxjan-to-auxjune\\n'}\n",
        "{'date': '2013-08-09 12:33:00\\n', 'tags': 'gamejam,unity\\n', 'name': 'Murder Simulation 2013\\n', 'title': 'murder-simulation-2013\\n'}\n",
        "{'date': '2013-07-17 07:07:19\\n', 'tags': '7dRTS,concept art,ideas\\n', 'name': '7dRTS challenge ideas\\n', 'title': '7drts-challenge-ideas\\n'}\n",
        "{'date': '2013-12-17 16:02:50\\n', 'tags': 'draft,write\\n', 'name': 'None\\n', 'title': '692\\n'}\n",
        "{'date': '2013-04-04 16:22:45\\n', 'tags': 'Python\\n', 'name': 'Duck\\n', 'title': 'duck\\n'}\n",
        "{'date': '2013-04-14 00:52:51\\n', 'tags': '#GPCv17,graphics\\n', 'name': 'Site logo paintings + Prodo GIT\\n', 'title': 'site-logo-paintings-prodo-git\\n'}\n",
        "{'date': '2013-04-02 20:23:41\\n', 'tags': 'draft\\n', 'name': 'None\\n', 'title': '25\\n'}\n",
        "{'date': '2013-07-07 03:22:12\\n', 'tags': 'unity,write\\n', 'name': 'Triger\\n', 'title': 'triger\\n'}\n",
        "{'date': '2013-04-27 17:34:34\\n', 'tags': '3d,ld48,screenshots,SpotWalker\\n', 'name': 'SpotWalker LD48: First 3 hours\\n', 'title': 'spotwalker-ld48-first-3-hours\\n'}\n",
        "{'date': '2013-06-02 06:12:48\\n', 'tags': 'fish,fish,mod,unity\\n', 'name': 'Fishing Dream Modding\\n', 'title': 'fishing-dream-modding\\n'}\n",
        "{'date': '2013-11-03 15:18:04\\n', 'tags': 'draft,write\\n', 'name': 'shark Nightmare\\n', 'title': '491\\n'}\n",
        "{'date': '2013-05-06 21:08:12\\n', 'tags': 'BirdCage,Game,platform,unity\\n', 'name': 'BirdCage Platform Game 0.1 0.2\\n', 'title': 'birdcage-platform-game-0-1-0-2\\n'}\n",
        "{'date': '2013-04-07 01:23:19\\n', 'tags': 'write,Write\\n', 'name': 'MarchAdventure\\n', 'title': 'marchadventure\\n'}"
       ]
      },
      {
       "output_type": "stream",
       "stream": "stdout",
       "text": [
        "\n",
        "{'date': '2013-04-12 21:23:43\\n', 'tags': 'Thought,write\\n', 'name': 'Development slow\\n', 'title': 'development-slow\\n'}\n",
        "{'date': '2013-04-04 12:42:21\\n', 'tags': 'quote,write,Write\\n', 'name': 'Twitter notes on game development\\n', 'title': 'twitter-notes-on-game-development-2\\n'}\n",
        "{'date': '2013-04-15 10:34:06\\n', 'tags': 'draft,write\\n', 'name': 'brobeur\\n', 'title': '166\\n'}\n",
        "{'date': '2013-07-30 01:49:59\\n', 'tags': 'draft,write\\n', 'name': 'logo\\n', 'title': '429\\n'}\n",
        "{'date': '2013-05-11 20:03:37\\n', 'tags': 'Android,BirdCage,unity\\n', 'name': 'birdfice.apk\\n', 'title': 'birdfice-apk\\n'}\n",
        "{'date': '2013-06-19 19:11:31\\n', 'tags': 'Android,cathern,Game,ui\\n', 'name': 'Cathern interface 2\\n', 'title': 'cathern-interface-2\\n'}\n",
        "{'date': '2013-04-13 10:43:10\\n', 'tags': '#GPCv17,development,Prodo,Prototype\\n', 'name': 'Prodo Island Project new\\n', 'title': 'prodo-island-project-new\\n'}\n",
        "{'date': '2013-11-11 13:53:12\\n', 'tags': 'gamejam,ludum dare,screenshot,shark nightmare,sharkjam\\n', 'name': 'Shark Nightmare - screenshots\\n', 'title': 'shark-nightmare-screenshots\\n'}\n",
        "{'date': '2013-11-17 23:06:53\\n', 'tags': 'api,maya,python\\n', 'name': 'Maya Python - Classes development\\n', 'title': 'maya-python-classes-development\\n'}\n",
        "{'date': '2013-06-10 15:14:32\\n', 'tags': 'draft,write\\n', 'name': 'None\\n', 'title': '297\\n'}\n",
        "{'date': '2013-08-12 23:46:19\\n', 'tags': '7dFPS,adventure,unity\\n', 'name': 'Hell Earth - 0.5 Halfway gatekeeper\\n', 'title': 'hell-earth-2\\n'}\n",
        "{'date': '2013-06-24 07:48:18\\n', 'tags': 'Android,aux-jan,Catherine,orthographic,platform\\n', 'name': 'AUXjonem\\n', 'title': 'auxjonem\\n'}\n",
        "{'date': '2013-12-11 11:45:42\\n', 'tags': 'code,film,python,suburbnightmare\\n', 'name': 'Black Bars and Text: Suburb Nightmare\\n', 'title': 'black-bars-and-text-suburb-nightmare\\n'}\n",
        "{'date': '2013-11-14 19:52:33\\n', 'tags': 'draft,write\\n', 'name': 'Tlc\\n', 'title': '523\\n'}\n",
        "{'date': '2013-04-28 02:39:48\\n', 'tags': 'download,exe,first person,ld48,minimal,SpotWalker\\n', 'name': 'SpotWalker 0.1 Build\\n', 'title': 'spotwalker-0-1-build\\n'}\n",
        "{'date': '2013-05-19 14:31:51\\n', 'tags': 'Dune,game,github,unity,web,windows\\n', 'name': 'Dune-0-1\\n', 'title': 'dune-0-1\\n'}\n",
        "{'date': '2013-07-05 04:59:10\\n', 'tags': '2d,Catherine,gameboy,platformer,python\\n', 'name': 'Gameboy Jam - Warmup Cafrin\\n', 'title': 'gameboy-jam-warmup-cafrin\\n'}\n",
        "{'date': '2013-04-12 21:44:50\\n', 'tags': 'ideas,mechanics,resources\\n', 'name': 'Sim prototype idea #1\\n', 'title': 'sim-prototype-idea-1\\n'}\n",
        "{'date': '2013-07-14 11:35:39\\n', 'tags': 'adventure,gamejam,mobile,post jam,screenshots,suburb nightmare\\n', 'name': 'SuburbNightmare screenshots\\n', 'title': 'suburbnightmare-screenshots\\n'}\n",
        "{'date': '2013-07-12 09:23:42\\n', 'tags': 'action,collaboration,concept art,gamejam,melanie,unity\\n', 'name': 'imagamer concept art - camera setup\\n', 'title': 'imagamer-ca\\n'}\n",
        "{'date': '2013-04-16 17:23:59\\n', 'tags': 'draft,write\\n', 'name': 'Game.html\\n', 'title': '170\\n'}\n",
        "{'date': '2013-11-11 20:01:01\\n', 'tags': 'gamejam,gamejolt,screnshot,unity\\n', 'name': 'Party Noon Nightmare - Prototype build\\n', 'title': 'party-noon-nightmare-prototype-build\\n'}\n",
        "{'date': '2013-05-31 06:43:55\\n', 'tags': '2d scroll,3d,first person,fish,platformer\\n', 'name': 'Black Cat Fishing Jam\\n', 'title': 'black-cat-fishing-jam\\n'}\n",
        "{'date': '2013-04-14 13:06:52\\n', 'tags': 'draft,write\\n', 'name': 'None\\n', 'title': '154\\n'}\n",
        "{'date': '2013-06-09 20:14:49\\n', 'tags': '3d,bacongamjam,blender,character,LightsOut,reddit,screenshot\\n', 'name': 'LightOut - Character 3d assets\\n', 'title': 'lightout-character-3d-assets\\n'}\n",
        "{'date': '2013-04-02 17:52:40\\n', 'tags': 'draft\\n', 'name': 'None\\n', 'title': '11\\n'}\n",
        "{'date': '2013-03-31 21:46:42\\n', 'tags': 'draft\\n', 'name': 'Biop sshock\\n', 'title': '9\\n'}\n",
        "{'date': '2013-04-03 13:22:37\\n', 'tags': '2d,3d,character,Game,movement,platformer,unity\\n', 'name': 'MarchGame v0.1\\n', 'title': 'marchgame-v0-1\\n'}\n",
        "{'date': '2013-04-02 21:03:56\\n', 'tags': 'draft\\n', 'name': 'None\\n', 'title': '29\\n'}\n",
        "{'date': '2013-07-12 13:03:18\\n', 'tags': '3d,concept art,gamejam,iamagamer,unity\\n', 'name': 'iamagamer - envior concept art plus model\\n', 'title': 'iamagamer-envior-concept-art-plus-model\\n'}\n",
        "{'date': '2013-08-12 04:28:38\\n', 'tags': 'draft,write\\n', 'name': 'Hell Earth\\n', 'title': '452\\n'}\n",
        "{'date': '2013-11-11 12:40:56\\n', 'tags': 'draft,write\\n', 'name': 'Party noon nightmare - pencil concepts\\n', 'title': '514\\n'}\n",
        "{'date': '2013-07-12 23:21:40\\n', 'tags': 'draft,write\\n', 'name': 'girl\\n', 'title': '404\\n'}\n",
        "{'date': '2013-04-09 11:35:20\\n', 'tags': 'draft,Evoland,rpg,write\\n', 'name': 'Eovland\\n', 'title': '90\\n'}\n",
        "{'date': '2013-04-11 11:47:49\\n', 'tags': '#GPCv17,#GPCv17,Game,gamejam,prodoIsland,unity,Write\\n', 'name': 'BroBeur Studios: Prodo Island Game Development Notes\\n', 'title': 'brobeur-studios-prodo-island-game-development-notes\\n'}\n",
        "{'date': '2013-04-13 13:32:53\\n', 'tags': 'draft,write\\n', 'name': 'None\\n', 'title': '137\\n'}\n",
        "{'date': '2013-04-04 12:42:21\\n', 'tags': 'quote,write,Write\\n', 'name': 'Twitter notes on game development\\n', 'title': 'twitter-notes-on-game-development\\n'}\n",
        "{'date': '2013-06-18 13:21:33\\n', 'tags': 'Catherine,Game,UK,unity\\n', 'name': 'Cathern interface\\n', 'title': 'cathern-interface\\n'}"
       ]
      },
      {
       "output_type": "stream",
       "stream": "stdout",
       "text": [
        "\n",
        "{'date': '2013-04-08 04:47:20\\n', 'tags': 'draft,write\\n', 'name': 'raiden legacy review\\n', 'title': '89\\n'}\n",
        "{'date': '2013-04-04 18:28:40\\n', 'tags': 'Python,reddit,redditgetsdrawn\\n', 'name': 'RedditGetsDrawn - tiggyvashti7\\n', 'title': 'redditgetsdrawn-tiggyvashti7\\n'}\n",
        "{'date': '2013-04-10 17:51:48\\n', 'tags': 'draft,Pronto,write,Write\\n', 'name': 'Prodo Prodo  Island - notes day one\\n', 'title': '98\\n'}\n",
        "{'date': '2013-11-16 14:08:08\\n', 'tags': 'code,game jam,maya,python\\n', 'name': 'Maya Python and Party Moon Nightmare Screenshots\\n', 'title': 'maya-python-and-party-moon-nightmare-screenshots\\n'}\n",
        "{'date': '2013-12-10 12:22:59\\n', 'tags': 'code,image,PIL,Python,skins\\n', 'name': 'Skins Wire: Python Image Library\\n', 'title': 'skins-wire-python-image-library\\n'}\n"
       ]
      }
     ],
     "prompt_number": 330
    },
    {
     "cell_type": "code",
     "collapsed": false,
     "input": [
      "alldic"
     ],
     "language": "python",
     "metadata": {},
     "outputs": [
      {
       "metadata": {},
       "output_type": "pyout",
       "prompt_number": 331,
       "text": [
        "[{'date': '2013-08-03 21:49:47\\n',\n",
        "  'name': 'Bullet Control - concept pencil drawings\\n',\n",
        "  'tags': '7dFPS,7hFPS,bullet control,concept,pencil\\n',\n",
        "  'title': 'bc-conceptdraw\\n'},\n",
        " {'date': '2013-04-02 21:33:18\\n',\n",
        "  'name': 'Digital Paintings created with SketchBook and GIMP\\n',\n",
        "  'tags': '\\n',\n",
        "  'title': 'digital-paintings-created-with-sketchbook-and-gimp\\n'},\n",
        " {'date': '2013-11-10 13:52:42\\n',\n",
        "  'name': 'Pari Noon Nightmare\\n',\n",
        "  'tags': '3d,indiejolt,maya,model\\n',\n",
        "  'title': 'pari-noon-nightmare\\n'},\n",
        " {'date': '2013-07-07 12:32:10\\n',\n",
        "  'name': 'Triger MolyJam 2013 \\n',\n",
        "  'tags': 'adventure,gamejam,gamejam,molyjam,unity\\n',\n",
        "  'title': 'triger-molyjam-2013\\n'},\n",
        " {'date': '2013-04-15 10:48:08\\n',\n",
        "  'name': 'HTML5 Game\\n',\n",
        "  'tags': 'draft,write\\n',\n",
        "  'title': '169\\n'},\n",
        " {'date': '2013-08-12 16:11:58\\n',\n",
        "  'name': 'Hell Earth\\n',\n",
        "  'tags': '7dFPS,adventure,fps,unity\\n',\n",
        "  'title': 'hell-earth\\n'},\n",
        " {'date': '2013-04-09 19:02:21\\n',\n",
        "  'name': 'Start #GPCv17 ideas\\n',\n",
        "  'tags': '#GPCv17,draw,idea,prodotype,sketch\\n',\n",
        "  'title': 'start-gpcv17-ideas\\n'},\n",
        " {'date': '2013-06-10 21:46:50\\n',\n",
        "  'name': 'Surreal Warp Nightmare\\n',\n",
        "  'tags': '2d,bacongamejam,runner,sidescroller\\n',\n",
        "  'title': 'surreal-warp-nightmare\\n'},\n",
        " {'date': '2013-04-16 18:47:04\\n',\n",
        "  'name': 'Prodo Island GPC17\\n',\n",
        "  'tags': 'write,Write\\n',\n",
        "  'title': 'prodo-gpc1\\n'},\n",
        " {'date': '2013-04-15 02:17:47\\n',\n",
        "  'name': 'HTML5\\n',\n",
        "  'tags': 'draft,write\\n',\n",
        "  'title': '155\\n'},\n",
        " {'date': '2013-11-04 00:22:06\\n',\n",
        "  'name': 'Shark Nightmare\\n',\n",
        "  'tags': 'cinematic adventure,unity,write\\n',\n",
        "  'title': 'shark-nightmare\\n'},\n",
        " {'date': '2013-08-20 23:31:23\\n',\n",
        "  'name': 'Post mortem: Hell Earth\\n',\n",
        "  'tags': '7dFPS,write\\n',\n",
        "  'title': 'post-mortem-hell-earth\\n'},\n",
        " {'date': '2013-04-26 12:27:10\\n',\n",
        "  'name': 'Aux-Jan 0.6\\n',\n",
        "  'tags': 'aux-jan,blender,model,unity\\n',\n",
        "  'title': 'aux-jan-0-6\\n'},\n",
        " {'date': '2013-04-03 07:52:35\\n',\n",
        "  'name': 'Aux-Jan Game\\n',\n",
        "  'tags': '3d,aux-jan,logo,pc,screenshot\\n',\n",
        "  'title': 'aux-jan-game\\n'},\n",
        " {'date': '2013-11-16 17:42:27\\n',\n",
        "  'name': 'maya api \\n',\n",
        "  'tags': 'api,maya,maya,python\\n',\n",
        "  'title': 'maya-api\\n'},\n",
        " {'date': '2013-04-04 10:08:10\\n',\n",
        "  'name': 'RedditGetsDrawn - Sagahurtig\\n',\n",
        "  'tags': 'Game,portrait,redditgetsdrawn\\n',\n",
        "  'title': 'python-reddit-json\\n'},\n",
        " {'date': '2013-04-02 18:41:03\\n',\n",
        "  'name': 'Basic HTML5 Game\\n',\n",
        "  'tags': 'draft\\n',\n",
        "  'title': '17\\n'},\n",
        " {'date': '2013-04-13 11:55:02\\n',\n",
        "  'name': 'None\\n',\n",
        "  'tags': 'draft,write\\n',\n",
        "  'title': '136\\n'},\n",
        " {'date': '2013-11-10 09:25:25\\n',\n",
        "  'name': 'November 2013 game dev meet up\\n',\n",
        "  'tags': 'auckland,meetup\\n',\n",
        "  'title': 'november-2013-game-dev-meet-up\\n'},\n",
        " {'date': '2013-04-07 15:25:17\\n',\n",
        "  'name': 'PlayformFeb v1 Web\\n',\n",
        "  'tags': 'Game,platformer,unity,web\\n',\n",
        "  'title': 'playformfeb-v1-web\\n'},\n",
        " {'date': '2013-06-23 19:44:59\\n',\n",
        "  'name': 'AUXjan to AUXjune\\n',\n",
        "  'tags': 'Android,aux-jan,platform\\n',\n",
        "  'title': 'auxjan-to-auxjune\\n'},\n",
        " {'date': '2013-08-09 12:33:00\\n',\n",
        "  'name': 'Murder Simulation 2013\\n',\n",
        "  'tags': 'gamejam,unity\\n',\n",
        "  'title': 'murder-simulation-2013\\n'},\n",
        " {'date': '2013-07-17 07:07:19\\n',\n",
        "  'name': '7dRTS challenge ideas\\n',\n",
        "  'tags': '7dRTS,concept art,ideas\\n',\n",
        "  'title': '7drts-challenge-ideas\\n'},\n",
        " {'date': '2013-12-17 16:02:50\\n',\n",
        "  'name': 'None\\n',\n",
        "  'tags': 'draft,write\\n',\n",
        "  'title': '692\\n'},\n",
        " {'date': '2013-04-04 16:22:45\\n',\n",
        "  'name': 'Duck\\n',\n",
        "  'tags': 'Python\\n',\n",
        "  'title': 'duck\\n'},\n",
        " {'date': '2013-04-14 00:52:51\\n',\n",
        "  'name': 'Site logo paintings + Prodo GIT\\n',\n",
        "  'tags': '#GPCv17,graphics\\n',\n",
        "  'title': 'site-logo-paintings-prodo-git\\n'},\n",
        " {'date': '2013-04-02 20:23:41\\n',\n",
        "  'name': 'None\\n',\n",
        "  'tags': 'draft\\n',\n",
        "  'title': '25\\n'},\n",
        " {'date': '2013-07-07 03:22:12\\n',\n",
        "  'name': 'Triger\\n',\n",
        "  'tags': 'unity,write\\n',\n",
        "  'title': 'triger\\n'},\n",
        " {'date': '2013-04-27 17:34:34\\n',\n",
        "  'name': 'SpotWalker LD48: First 3 hours\\n',\n",
        "  'tags': '3d,ld48,screenshots,SpotWalker\\n',\n",
        "  'title': 'spotwalker-ld48-first-3-hours\\n'},\n",
        " {'date': '2013-06-02 06:12:48\\n',\n",
        "  'name': 'Fishing Dream Modding\\n',\n",
        "  'tags': 'fish,fish,mod,unity\\n',\n",
        "  'title': 'fishing-dream-modding\\n'},\n",
        " {'date': '2013-11-03 15:18:04\\n',\n",
        "  'name': 'shark Nightmare\\n',\n",
        "  'tags': 'draft,write\\n',\n",
        "  'title': '491\\n'},\n",
        " {'date': '2013-05-06 21:08:12\\n',\n",
        "  'name': 'BirdCage Platform Game 0.1 0.2\\n',\n",
        "  'tags': 'BirdCage,Game,platform,unity\\n',\n",
        "  'title': 'birdcage-platform-game-0-1-0-2\\n'},\n",
        " {'date': '2013-04-07 01:23:19\\n',\n",
        "  'name': 'MarchAdventure\\n',\n",
        "  'tags': 'write,Write\\n',\n",
        "  'title': 'marchadventure\\n'},\n",
        " {'date': '2013-04-12 21:23:43\\n',\n",
        "  'name': 'Development slow\\n',\n",
        "  'tags': 'Thought,write\\n',\n",
        "  'title': 'development-slow\\n'},\n",
        " {'date': '2013-04-04 12:42:21\\n',\n",
        "  'name': 'Twitter notes on game development\\n',\n",
        "  'tags': 'quote,write,Write\\n',\n",
        "  'title': 'twitter-notes-on-game-development-2\\n'},\n",
        " {'date': '2013-04-15 10:34:06\\n',\n",
        "  'name': 'brobeur\\n',\n",
        "  'tags': 'draft,write\\n',\n",
        "  'title': '166\\n'},\n",
        " {'date': '2013-07-30 01:49:59\\n',\n",
        "  'name': 'logo\\n',\n",
        "  'tags': 'draft,write\\n',\n",
        "  'title': '429\\n'},\n",
        " {'date': '2013-05-11 20:03:37\\n',\n",
        "  'name': 'birdfice.apk\\n',\n",
        "  'tags': 'Android,BirdCage,unity\\n',\n",
        "  'title': 'birdfice-apk\\n'},\n",
        " {'date': '2013-06-19 19:11:31\\n',\n",
        "  'name': 'Cathern interface 2\\n',\n",
        "  'tags': 'Android,cathern,Game,ui\\n',\n",
        "  'title': 'cathern-interface-2\\n'},\n",
        " {'date': '2013-04-13 10:43:10\\n',\n",
        "  'name': 'Prodo Island Project new\\n',\n",
        "  'tags': '#GPCv17,development,Prodo,Prototype\\n',\n",
        "  'title': 'prodo-island-project-new\\n'},\n",
        " {'date': '2013-11-11 13:53:12\\n',\n",
        "  'name': 'Shark Nightmare - screenshots\\n',\n",
        "  'tags': 'gamejam,ludum dare,screenshot,shark nightmare,sharkjam\\n',\n",
        "  'title': 'shark-nightmare-screenshots\\n'},\n",
        " {'date': '2013-11-17 23:06:53\\n',\n",
        "  'name': 'Maya Python - Classes development\\n',\n",
        "  'tags': 'api,maya,python\\n',\n",
        "  'title': 'maya-python-classes-development\\n'},\n",
        " {'date': '2013-06-10 15:14:32\\n',\n",
        "  'name': 'None\\n',\n",
        "  'tags': 'draft,write\\n',\n",
        "  'title': '297\\n'},\n",
        " {'date': '2013-08-12 23:46:19\\n',\n",
        "  'name': 'Hell Earth - 0.5 Halfway gatekeeper\\n',\n",
        "  'tags': '7dFPS,adventure,unity\\n',\n",
        "  'title': 'hell-earth-2\\n'},\n",
        " {'date': '2013-06-24 07:48:18\\n',\n",
        "  'name': 'AUXjonem\\n',\n",
        "  'tags': 'Android,aux-jan,Catherine,orthographic,platform\\n',\n",
        "  'title': 'auxjonem\\n'},\n",
        " {'date': '2013-12-11 11:45:42\\n',\n",
        "  'name': 'Black Bars and Text: Suburb Nightmare\\n',\n",
        "  'tags': 'code,film,python,suburbnightmare\\n',\n",
        "  'title': 'black-bars-and-text-suburb-nightmare\\n'},\n",
        " {'date': '2013-11-14 19:52:33\\n',\n",
        "  'name': 'Tlc\\n',\n",
        "  'tags': 'draft,write\\n',\n",
        "  'title': '523\\n'},\n",
        " {'date': '2013-04-28 02:39:48\\n',\n",
        "  'name': 'SpotWalker 0.1 Build\\n',\n",
        "  'tags': 'download,exe,first person,ld48,minimal,SpotWalker\\n',\n",
        "  'title': 'spotwalker-0-1-build\\n'},\n",
        " {'date': '2013-05-19 14:31:51\\n',\n",
        "  'name': 'Dune-0-1\\n',\n",
        "  'tags': 'Dune,game,github,unity,web,windows\\n',\n",
        "  'title': 'dune-0-1\\n'},\n",
        " {'date': '2013-07-05 04:59:10\\n',\n",
        "  'name': 'Gameboy Jam - Warmup Cafrin\\n',\n",
        "  'tags': '2d,Catherine,gameboy,platformer,python\\n',\n",
        "  'title': 'gameboy-jam-warmup-cafrin\\n'},\n",
        " {'date': '2013-04-12 21:44:50\\n',\n",
        "  'name': 'Sim prototype idea #1\\n',\n",
        "  'tags': 'ideas,mechanics,resources\\n',\n",
        "  'title': 'sim-prototype-idea-1\\n'},\n",
        " {'date': '2013-07-14 11:35:39\\n',\n",
        "  'name': 'SuburbNightmare screenshots\\n',\n",
        "  'tags': 'adventure,gamejam,mobile,post jam,screenshots,suburb nightmare\\n',\n",
        "  'title': 'suburbnightmare-screenshots\\n'},\n",
        " {'date': '2013-07-12 09:23:42\\n',\n",
        "  'name': 'imagamer concept art - camera setup\\n',\n",
        "  'tags': 'action,collaboration,concept art,gamejam,melanie,unity\\n',\n",
        "  'title': 'imagamer-ca\\n'},\n",
        " {'date': '2013-04-16 17:23:59\\n',\n",
        "  'name': 'Game.html\\n',\n",
        "  'tags': 'draft,write\\n',\n",
        "  'title': '170\\n'},\n",
        " {'date': '2013-11-11 20:01:01\\n',\n",
        "  'name': 'Party Noon Nightmare - Prototype build\\n',\n",
        "  'tags': 'gamejam,gamejolt,screnshot,unity\\n',\n",
        "  'title': 'party-noon-nightmare-prototype-build\\n'},\n",
        " {'date': '2013-05-31 06:43:55\\n',\n",
        "  'name': 'Black Cat Fishing Jam\\n',\n",
        "  'tags': '2d scroll,3d,first person,fish,platformer\\n',\n",
        "  'title': 'black-cat-fishing-jam\\n'},\n",
        " {'date': '2013-04-14 13:06:52\\n',\n",
        "  'name': 'None\\n',\n",
        "  'tags': 'draft,write\\n',\n",
        "  'title': '154\\n'},\n",
        " {'date': '2013-06-09 20:14:49\\n',\n",
        "  'name': 'LightOut - Character 3d assets\\n',\n",
        "  'tags': '3d,bacongamjam,blender,character,LightsOut,reddit,screenshot\\n',\n",
        "  'title': 'lightout-character-3d-assets\\n'},\n",
        " {'date': '2013-04-02 17:52:40\\n',\n",
        "  'name': 'None\\n',\n",
        "  'tags': 'draft\\n',\n",
        "  'title': '11\\n'},\n",
        " {'date': '2013-03-31 21:46:42\\n',\n",
        "  'name': 'Biop sshock\\n',\n",
        "  'tags': 'draft\\n',\n",
        "  'title': '9\\n'},\n",
        " {'date': '2013-04-03 13:22:37\\n',\n",
        "  'name': 'MarchGame v0.1\\n',\n",
        "  'tags': '2d,3d,character,Game,movement,platformer,unity\\n',\n",
        "  'title': 'marchgame-v0-1\\n'},\n",
        " {'date': '2013-04-02 21:03:56\\n',\n",
        "  'name': 'None\\n',\n",
        "  'tags': 'draft\\n',\n",
        "  'title': '29\\n'},\n",
        " {'date': '2013-07-12 13:03:18\\n',\n",
        "  'name': 'iamagamer - envior concept art plus model\\n',\n",
        "  'tags': '3d,concept art,gamejam,iamagamer,unity\\n',\n",
        "  'title': 'iamagamer-envior-concept-art-plus-model\\n'},\n",
        " {'date': '2013-08-12 04:28:38\\n',\n",
        "  'name': 'Hell Earth\\n',\n",
        "  'tags': 'draft,write\\n',\n",
        "  'title': '452\\n'},\n",
        " {'date': '2013-11-11 12:40:56\\n',\n",
        "  'name': 'Party noon nightmare - pencil concepts\\n',\n",
        "  'tags': 'draft,write\\n',\n",
        "  'title': '514\\n'},\n",
        " {'date': '2013-07-12 23:21:40\\n',\n",
        "  'name': 'girl\\n',\n",
        "  'tags': 'draft,write\\n',\n",
        "  'title': '404\\n'},\n",
        " {'date': '2013-04-09 11:35:20\\n',\n",
        "  'name': 'Eovland\\n',\n",
        "  'tags': 'draft,Evoland,rpg,write\\n',\n",
        "  'title': '90\\n'},\n",
        " {'date': '2013-04-11 11:47:49\\n',\n",
        "  'name': 'BroBeur Studios: Prodo Island Game Development Notes\\n',\n",
        "  'tags': '#GPCv17,#GPCv17,Game,gamejam,prodoIsland,unity,Write\\n',\n",
        "  'title': 'brobeur-studios-prodo-island-game-development-notes\\n'},\n",
        " {'date': '2013-04-13 13:32:53\\n',\n",
        "  'name': 'None\\n',\n",
        "  'tags': 'draft,write\\n',\n",
        "  'title': '137\\n'},\n",
        " {'date': '2013-04-04 12:42:21\\n',\n",
        "  'name': 'Twitter notes on game development\\n',\n",
        "  'tags': 'quote,write,Write\\n',\n",
        "  'title': 'twitter-notes-on-game-development\\n'},\n",
        " {'date': '2013-06-18 13:21:33\\n',\n",
        "  'name': 'Cathern interface\\n',\n",
        "  'tags': 'Catherine,Game,UK,unity\\n',\n",
        "  'title': 'cathern-interface\\n'},\n",
        " {'date': '2013-04-08 04:47:20\\n',\n",
        "  'name': 'raiden legacy review\\n',\n",
        "  'tags': 'draft,write\\n',\n",
        "  'title': '89\\n'},\n",
        " {'date': '2013-04-04 18:28:40\\n',\n",
        "  'name': 'RedditGetsDrawn - tiggyvashti7\\n',\n",
        "  'tags': 'Python,reddit,redditgetsdrawn\\n',\n",
        "  'title': 'redditgetsdrawn-tiggyvashti7\\n'},\n",
        " {'date': '2013-04-10 17:51:48\\n',\n",
        "  'name': 'Prodo Prodo  Island - notes day one\\n',\n",
        "  'tags': 'draft,Pronto,write,Write\\n',\n",
        "  'title': '98\\n'},\n",
        " {'date': '2013-11-16 14:08:08\\n',\n",
        "  'name': 'Maya Python and Party Moon Nightmare Screenshots\\n',\n",
        "  'tags': 'code,game jam,maya,python\\n',\n",
        "  'title': 'maya-python-and-party-moon-nightmare-screenshots\\n'},\n",
        " {'date': '2013-12-10 12:22:59\\n',\n",
        "  'name': 'Skins Wire: Python Image Library\\n',\n",
        "  'tags': 'code,image,PIL,Python,skins\\n',\n",
        "  'title': 'skins-wire-python-image-library\\n'}]"
       ]
      }
     ],
     "prompt_number": 331
    },
    {
     "cell_type": "code",
     "collapsed": false,
     "input": [
      "for cha in chzdir:\n",
      "    print cha"
     ],
     "language": "python",
     "metadata": {},
     "outputs": [
      {
       "output_type": "stream",
       "stream": "stdout",
       "text": [
        "date\n",
        "tags\n",
        "name\n",
        "title\n"
       ]
      }
     ],
     "prompt_number": 332
    },
    {
     "cell_type": "code",
     "collapsed": false,
     "input": [
      "chzdir"
     ],
     "language": "python",
     "metadata": {},
     "outputs": [
      {
       "metadata": {},
       "output_type": "pyout",
       "prompt_number": 333,
       "text": [
        "{'date': '2013-12-10 12:22:59\\n',\n",
        " 'name': 'Skins Wire: Python Image Library\\n',\n",
        " 'tags': 'code,image,PIL,Python,skins\\n',\n",
        " 'title': 'skins-wire-python-image-library\\n'}"
       ]
      }
     ],
     "prompt_number": 333
    },
    {
     "cell_type": "code",
     "collapsed": false,
     "input": [
      "for al in alldic:\n",
      "    print al"
     ],
     "language": "python",
     "metadata": {},
     "outputs": [
      {
       "output_type": "stream",
       "stream": "stdout",
       "text": [
        "{'date': '2013-08-03 21:49:47\\n', 'tags': '7dFPS,7hFPS,bullet control,concept,pencil\\n', 'name': 'Bullet Control - concept pencil drawings\\n', 'title': 'bc-conceptdraw\\n'}\n",
        "{'date': '2013-04-02 21:33:18\\n', 'tags': '\\n', 'name': 'Digital Paintings created with SketchBook and GIMP\\n', 'title': 'digital-paintings-created-with-sketchbook-and-gimp\\n'}\n",
        "{'date': '2013-11-10 13:52:42\\n', 'tags': '3d,indiejolt,maya,model\\n', 'name': 'Pari Noon Nightmare\\n', 'title': 'pari-noon-nightmare\\n'}\n",
        "{'date': '2013-07-07 12:32:10\\n', 'tags': 'adventure,gamejam,gamejam,molyjam,unity\\n', 'name': 'Triger MolyJam 2013 \\n', 'title': 'triger-molyjam-2013\\n'}\n",
        "{'date': '2013-04-15 10:48:08\\n', 'tags': 'draft,write\\n', 'name': 'HTML5 Game\\n', 'title': '169\\n'}\n",
        "{'date': '2013-08-12 16:11:58\\n', 'tags': '7dFPS,adventure,fps,unity\\n', 'name': 'Hell Earth\\n', 'title': 'hell-earth\\n'}\n",
        "{'date': '2013-04-09 19:02:21\\n', 'tags': '#GPCv17,draw,idea,prodotype,sketch\\n', 'name': 'Start #GPCv17 ideas\\n', 'title': 'start-gpcv17-ideas\\n'}\n",
        "{'date': '2013-06-10 21:46:50\\n', 'tags': '2d,bacongamejam,runner,sidescroller\\n', 'name': 'Surreal Warp Nightmare\\n', 'title': 'surreal-warp-nightmare\\n'}\n",
        "{'date': '2013-04-16 18:47:04\\n', 'tags': 'write,Write\\n', 'name': 'Prodo Island GPC17\\n', 'title': 'prodo-gpc1\\n'}\n",
        "{'date': '2013-04-15 02:17:47\\n', 'tags': 'draft,write\\n', 'name': 'HTML5\\n', 'title': '155\\n'}\n",
        "{'date': '2013-11-04 00:22:06\\n', 'tags': 'cinematic adventure,unity,write\\n', 'name': 'Shark Nightmare\\n', 'title': 'shark-nightmare\\n'}\n",
        "{'date': '2013-08-20 23:31:23\\n', 'tags': '7dFPS,write\\n', 'name': 'Post mortem: Hell Earth\\n', 'title': 'post-mortem-hell-earth\\n'}\n",
        "{'date': '2013-04-26 12:27:10\\n', 'tags': 'aux-jan,blender,model,unity\\n', 'name': 'Aux-Jan 0.6\\n', 'title': 'aux-jan-0-6\\n'}\n",
        "{'date': '2013-04-03 07:52:35\\n', 'tags': '3d,aux-jan,logo,pc,screenshot\\n', 'name': 'Aux-Jan Game\\n', 'title': 'aux-jan-game\\n'}\n",
        "{'date': '2013-11-16 17:42:27\\n', 'tags': 'api,maya,maya,python\\n', 'name': 'maya api \\n', 'title': 'maya-api\\n'}\n",
        "{'date': '2013-04-04 10:08:10\\n', 'tags': 'Game,portrait,redditgetsdrawn\\n', 'name': 'RedditGetsDrawn - Sagahurtig\\n', 'title': 'python-reddit-json\\n'}\n",
        "{'date': '2013-04-02 18:41:03\\n', 'tags': 'draft\\n', 'name': 'Basic HTML5 Game\\n', 'title': '17\\n'}\n",
        "{'date': '2013-04-13 11:55:02\\n', 'tags': 'draft,write\\n', 'name': 'None\\n', 'title': '136\\n'}\n",
        "{'date': '2013-11-10 09:25:25\\n', 'tags': 'auckland,meetup\\n', 'name': 'November 2013 game dev meet up\\n', 'title': 'november-2013-game-dev-meet-up\\n'}\n",
        "{'date': '2013-04-07 15:25:17\\n', 'tags': 'Game,platformer,unity,web\\n', 'name': 'PlayformFeb v1 Web\\n', 'title': 'playformfeb-v1-web\\n'}\n",
        "{'date': '2013-06-23 19:44:59\\n', 'tags': 'Android,aux-jan,platform\\n', 'name': 'AUXjan to AUXjune\\n', 'title': 'auxjan-to-auxjune\\n'}\n",
        "{'date': '2013-08-09 12:33:00\\n', 'tags': 'gamejam,unity\\n', 'name': 'Murder Simulation 2013\\n', 'title': 'murder-simulation-2013\\n'}\n",
        "{'date': '2013-07-17 07:07:19\\n', 'tags': '7dRTS,concept art,ideas\\n', 'name': '7dRTS challenge ideas\\n', 'title': '7drts-challenge-ideas\\n'}\n",
        "{'date': '2013-12-17 16:02:50\\n', 'tags': 'draft,write\\n', 'name': 'None\\n', 'title': '692\\n'}\n",
        "{'date': '2013-04-04 16:22:45\\n', 'tags': 'Python\\n', 'name': 'Duck\\n', 'title': 'duck\\n'}\n",
        "{'date': '2013-04-14 00:52:51\\n', 'tags': '#GPCv17,graphics\\n', 'name': 'Site logo paintings + Prodo GIT\\n', 'title': 'site-logo-paintings-prodo-git\\n'}\n",
        "{'date': '2013-04-02 20:23:41\\n', 'tags': 'draft\\n', 'name': 'None\\n', 'title': '25\\n'}\n",
        "{'date': '2013-07-07 03:22:12\\n', 'tags': 'unity,write\\n', 'name': 'Triger\\n', 'title': 'triger\\n'}\n",
        "{'date': '2013-04-27 17:34:34\\n', 'tags': '3d,ld48,screenshots,SpotWalker\\n', 'name': 'SpotWalker LD48: First 3 hours\\n', 'title': 'spotwalker-ld48-first-3-hours\\n'}\n",
        "{'date': '2013-06-02 06:12:48\\n', 'tags': 'fish,fish,mod,unity\\n', 'name': 'Fishing Dream Modding\\n', 'title': 'fishing-dream-modding\\n'}\n",
        "{'date': '2013-11-03 15:18:04\\n', 'tags': 'draft,write\\n', 'name': 'shark Nightmare\\n', 'title': '491\\n'}\n",
        "{'date': '2013-05-06 21:08:12\\n', 'tags': 'BirdCage,Game,platform,unity\\n', 'name': 'BirdCage Platform Game 0.1 0.2\\n', 'title': 'birdcage-platform-game-0-1-0-2\\n'}\n",
        "{'date': '2013-04-07 01:23:19\\n', 'tags': 'write,Write\\n', 'name': 'MarchAdventure\\n', 'title': 'marchadventure\\n'}\n",
        "{'date': '2013-04-12 21:23:43\\n', 'tags': 'Thought,write\\n', 'name': 'Development slow\\n', 'title': 'development-slow\\n'}\n",
        "{'date': '2013-04-04 12:42:21\\n', 'tags': 'quote,write,Write\\n', 'name': 'Twitter notes on game development\\n', 'title': 'twitter-notes-on-game-development-2\\n'}\n",
        "{'date': '2013-04-15 10:34:06\\n', 'tags': 'draft,write\\n', 'name': 'brobeur\\n', 'title': '166\\n'}\n",
        "{'date': '2013-07-30 01:49:59\\n', 'tags': 'draft,write\\n', 'name': 'logo\\n', 'title': '429\\n'}\n",
        "{'date': '2013-05-11 20:03:37\\n', 'tags': 'Android,BirdCage,unity\\n', 'name': 'birdfice.apk\\n', 'title': 'birdfice-apk\\n'}\n",
        "{'date': '2013-06-19 19:11:31\\n', 'tags': 'Android,cathern,Game,ui\\n', 'name': 'Cathern interface 2\\n', 'title': 'cathern-interface-2\\n'}\n",
        "{'date': '2013-04-13 10:43:10\\n', 'tags': '#GPCv17,development,Prodo,Prototype\\n', 'name': 'Prodo Island Project new\\n', 'title': 'prodo-island-project-new\\n'}\n",
        "{'date': '2013-11-11 13:53:12\\n', 'tags': 'gamejam,ludum dare,screenshot,shark nightmare,sharkjam\\n', 'name': 'Shark Nightmare - screenshots\\n', 'title': 'shark-nightmare-screenshots\\n'}\n",
        "{'date': '2013-11-17 23:06:53\\n', 'tags': 'api,maya,python\\n', 'name': 'Maya Python - Classes development\\n', 'title': 'maya-python-classes-development\\n'}\n",
        "{'date': '2013-06-10 15:14:32\\n', 'tags': 'draft,write\\n', 'name': 'None\\n', 'title': '297\\n'}\n",
        "{'date': '2013-08-12 23:46:19\\n', 'tags': '7dFPS,adventure,unity\\n', 'name': 'Hell Earth - 0.5 Halfway gatekeeper\\n', 'title': 'hell-earth-2\\n'}\n",
        "{'date': '2013-06-24 07:48:18\\n', 'tags': 'Android,aux-jan,Catherine,orthographic,platform\\n', 'name': 'AUXjonem\\n', 'title': 'auxjonem\\n'}\n",
        "{'date': '2013-12-11 11:45:42\\n', 'tags': 'code,film,python,suburbnightmare\\n', 'name': 'Black Bars and Text: Suburb Nightmare\\n', 'title': 'black-bars-and-text-suburb-nightmare\\n'}\n"
       ]
      },
      {
       "output_type": "stream",
       "stream": "stdout",
       "text": [
        "{'date': '2013-11-14 19:52:33\\n', 'tags': 'draft,write\\n', 'name': 'Tlc\\n', 'title': '523\\n'}\n",
        "{'date': '2013-04-28 02:39:48\\n', 'tags': 'download,exe,first person,ld48,minimal,SpotWalker\\n', 'name': 'SpotWalker 0.1 Build\\n', 'title': 'spotwalker-0-1-build\\n'}\n",
        "{'date': '2013-05-19 14:31:51\\n', 'tags': 'Dune,game,github,unity,web,windows\\n', 'name': 'Dune-0-1\\n', 'title': 'dune-0-1\\n'}\n",
        "{'date': '2013-07-05 04:59:10\\n', 'tags': '2d,Catherine,gameboy,platformer,python\\n', 'name': 'Gameboy Jam - Warmup Cafrin\\n', 'title': 'gameboy-jam-warmup-cafrin\\n'}\n",
        "{'date': '2013-04-12 21:44:50\\n', 'tags': 'ideas,mechanics,resources\\n', 'name': 'Sim prototype idea #1\\n', 'title': 'sim-prototype-idea-1\\n'}\n",
        "{'date': '2013-07-14 11:35:39\\n', 'tags': 'adventure,gamejam,mobile,post jam,screenshots,suburb nightmare\\n', 'name': 'SuburbNightmare screenshots\\n', 'title': 'suburbnightmare-screenshots\\n'}\n",
        "{'date': '2013-07-12 09:23:42\\n', 'tags': 'action,collaboration,concept art,gamejam,melanie,unity\\n', 'name': 'imagamer concept art - camera setup\\n', 'title': 'imagamer-ca\\n'}\n",
        "{'date': '2013-04-16 17:23:59\\n', 'tags': 'draft,write\\n', 'name': 'Game.html\\n', 'title': '170\\n'}\n",
        "{'date': '2013-11-11 20:01:01\\n', 'tags': 'gamejam,gamejolt,screnshot,unity\\n', 'name': 'Party Noon Nightmare - Prototype build\\n', 'title': 'party-noon-nightmare-prototype-build\\n'}\n",
        "{'date': '2013-05-31 06:43:55\\n', 'tags': '2d scroll,3d,first person,fish,platformer\\n', 'name': 'Black Cat Fishing Jam\\n', 'title': 'black-cat-fishing-jam\\n'}\n",
        "{'date': '2013-04-14 13:06:52\\n', 'tags': 'draft,write\\n', 'name': 'None\\n', 'title': '154\\n'}\n",
        "{'date': '2013-06-09 20:14:49\\n', 'tags': '3d,bacongamjam,blender,character,LightsOut,reddit,screenshot\\n', 'name': 'LightOut - Character 3d assets\\n', 'title': 'lightout-character-3d-assets\\n'}\n",
        "{'date': '2013-04-02 17:52:40\\n', 'tags': 'draft\\n', 'name': 'None\\n', 'title': '11\\n'}\n",
        "{'date': '2013-03-31 21:46:42\\n', 'tags': 'draft\\n', 'name': 'Biop sshock\\n', 'title': '9\\n'}\n",
        "{'date': '2013-04-03 13:22:37\\n', 'tags': '2d,3d,character,Game,movement,platformer,unity\\n', 'name': 'MarchGame v0.1\\n', 'title': 'marchgame-v0-1\\n'}\n",
        "{'date': '2013-04-02 21:03:56\\n', 'tags': 'draft\\n', 'name': 'None\\n', 'title': '29\\n'}\n",
        "{'date': '2013-07-12 13:03:18\\n', 'tags': '3d,concept art,gamejam,iamagamer,unity\\n', 'name': 'iamagamer - envior concept art plus model\\n', 'title': 'iamagamer-envior-concept-art-plus-model\\n'}\n",
        "{'date': '2013-08-12 04:28:38\\n', 'tags': 'draft,write\\n', 'name': 'Hell Earth\\n', 'title': '452\\n'}\n",
        "{'date': '2013-11-11 12:40:56\\n', 'tags': 'draft,write\\n', 'name': 'Party noon nightmare - pencil concepts\\n', 'title': '514\\n'}\n",
        "{'date': '2013-07-12 23:21:40\\n', 'tags': 'draft,write\\n', 'name': 'girl\\n', 'title': '404\\n'}\n",
        "{'date': '2013-04-09 11:35:20\\n', 'tags': 'draft,Evoland,rpg,write\\n', 'name': 'Eovland\\n', 'title': '90\\n'}\n",
        "{'date': '2013-04-11 11:47:49\\n', 'tags': '#GPCv17,#GPCv17,Game,gamejam,prodoIsland,unity,Write\\n', 'name': 'BroBeur Studios: Prodo Island Game Development Notes\\n', 'title': 'brobeur-studios-prodo-island-game-development-notes\\n'}\n",
        "{'date': '2013-04-13 13:32:53\\n', 'tags': 'draft,write\\n', 'name': 'None\\n', 'title': '137\\n'}\n",
        "{'date': '2013-04-04 12:42:21\\n', 'tags': 'quote,write,Write\\n', 'name': 'Twitter notes on game development\\n', 'title': 'twitter-notes-on-game-development\\n'}\n",
        "{'date': '2013-06-18 13:21:33\\n', 'tags': 'Catherine,Game,UK,unity\\n', 'name': 'Cathern interface\\n', 'title': 'cathern-interface\\n'}\n",
        "{'date': '2013-04-08 04:47:20\\n', 'tags': 'draft,write\\n', 'name': 'raiden legacy review\\n', 'title': '89\\n'}\n",
        "{'date': '2013-04-04 18:28:40\\n', 'tags': 'Python,reddit,redditgetsdrawn\\n', 'name': 'RedditGetsDrawn - tiggyvashti7\\n', 'title': 'redditgetsdrawn-tiggyvashti7\\n'}\n",
        "{'date': '2013-04-10 17:51:48\\n', 'tags': 'draft,Pronto,write,Write\\n', 'name': 'Prodo Prodo  Island - notes day one\\n', 'title': '98\\n'}\n",
        "{'date': '2013-11-16 14:08:08\\n', 'tags': 'code,game jam,maya,python\\n', 'name': 'Maya Python and Party Moon Nightmare Screenshots\\n', 'title': 'maya-python-and-party-moon-nightmare-screenshots\\n'}\n",
        "{'date': '2013-12-10 12:22:59\\n', 'tags': 'code,image,PIL,Python,skins\\n', 'name': 'Skins Wire: Python Image Library\\n', 'title': 'skins-wire-python-image-library\\n'}\n"
       ]
      }
     ],
     "prompt_number": 334
    },
    {
     "cell_type": "code",
     "collapsed": false,
     "input": [
      "tiran = len(alldic)"
     ],
     "language": "python",
     "metadata": {},
     "outputs": [],
     "prompt_number": 335
    },
    {
     "cell_type": "code",
     "collapsed": false,
     "input": [
      "ranit = random.randint(0, tiran)"
     ],
     "language": "python",
     "metadata": {},
     "outputs": [],
     "prompt_number": 336
    },
    {
     "cell_type": "code",
     "collapsed": false,
     "input": [
      "ranit"
     ],
     "language": "python",
     "metadata": {},
     "outputs": [
      {
       "metadata": {},
       "output_type": "pyout",
       "prompt_number": 337,
       "text": [
        "26"
       ]
      }
     ],
     "prompt_number": 337
    },
    {
     "cell_type": "code",
     "collapsed": false,
     "input": [
      "#from random import shuffle\n",
      "#x = [[i] for i in alldic:\n",
      "#    random.shuffle(x)"
     ],
     "language": "python",
     "metadata": {},
     "outputs": [],
     "prompt_number": 338
    },
    {
     "cell_type": "code",
     "collapsed": false,
     "input": [
      "from random import shuffle"
     ],
     "language": "python",
     "metadata": {},
     "outputs": [],
     "prompt_number": 339
    },
    {
     "cell_type": "code",
     "collapsed": false,
     "input": [
      "shuffle(alldic)"
     ],
     "language": "python",
     "metadata": {},
     "outputs": [],
     "prompt_number": 340
    },
    {
     "cell_type": "code",
     "collapsed": false,
     "input": [
      "alldic"
     ],
     "language": "python",
     "metadata": {},
     "outputs": [
      {
       "metadata": {},
       "output_type": "pyout",
       "prompt_number": 341,
       "text": [
        "[{'date': '2013-04-02 17:52:40\\n',\n",
        "  'name': 'None\\n',\n",
        "  'tags': 'draft\\n',\n",
        "  'title': '11\\n'},\n",
        " {'date': '2013-04-12 21:44:50\\n',\n",
        "  'name': 'Sim prototype idea #1\\n',\n",
        "  'tags': 'ideas,mechanics,resources\\n',\n",
        "  'title': 'sim-prototype-idea-1\\n'},\n",
        " {'date': '2013-11-11 13:53:12\\n',\n",
        "  'name': 'Shark Nightmare - screenshots\\n',\n",
        "  'tags': 'gamejam,ludum dare,screenshot,shark nightmare,sharkjam\\n',\n",
        "  'title': 'shark-nightmare-screenshots\\n'},\n",
        " {'date': '2013-07-12 23:21:40\\n',\n",
        "  'name': 'girl\\n',\n",
        "  'tags': 'draft,write\\n',\n",
        "  'title': '404\\n'},\n",
        " {'date': '2013-03-31 21:46:42\\n',\n",
        "  'name': 'Biop sshock\\n',\n",
        "  'tags': 'draft\\n',\n",
        "  'title': '9\\n'},\n",
        " {'date': '2013-11-11 12:40:56\\n',\n",
        "  'name': 'Party noon nightmare - pencil concepts\\n',\n",
        "  'tags': 'draft,write\\n',\n",
        "  'title': '514\\n'},\n",
        " {'date': '2013-07-05 04:59:10\\n',\n",
        "  'name': 'Gameboy Jam - Warmup Cafrin\\n',\n",
        "  'tags': '2d,Catherine,gameboy,platformer,python\\n',\n",
        "  'title': 'gameboy-jam-warmup-cafrin\\n'},\n",
        " {'date': '2013-04-16 17:23:59\\n',\n",
        "  'name': 'Game.html\\n',\n",
        "  'tags': 'draft,write\\n',\n",
        "  'title': '170\\n'},\n",
        " {'date': '2013-04-13 11:55:02\\n',\n",
        "  'name': 'None\\n',\n",
        "  'tags': 'draft,write\\n',\n",
        "  'title': '136\\n'},\n",
        " {'date': '2013-11-10 09:25:25\\n',\n",
        "  'name': 'November 2013 game dev meet up\\n',\n",
        "  'tags': 'auckland,meetup\\n',\n",
        "  'title': 'november-2013-game-dev-meet-up\\n'},\n",
        " {'date': '2013-04-15 10:34:06\\n',\n",
        "  'name': 'brobeur\\n',\n",
        "  'tags': 'draft,write\\n',\n",
        "  'title': '166\\n'},\n",
        " {'date': '2013-05-06 21:08:12\\n',\n",
        "  'name': 'BirdCage Platform Game 0.1 0.2\\n',\n",
        "  'tags': 'BirdCage,Game,platform,unity\\n',\n",
        "  'title': 'birdcage-platform-game-0-1-0-2\\n'},\n",
        " {'date': '2013-05-31 06:43:55\\n',\n",
        "  'name': 'Black Cat Fishing Jam\\n',\n",
        "  'tags': '2d scroll,3d,first person,fish,platformer\\n',\n",
        "  'title': 'black-cat-fishing-jam\\n'},\n",
        " {'date': '2013-07-30 01:49:59\\n',\n",
        "  'name': 'logo\\n',\n",
        "  'tags': 'draft,write\\n',\n",
        "  'title': '429\\n'},\n",
        " {'date': '2013-04-13 10:43:10\\n',\n",
        "  'name': 'Prodo Island Project new\\n',\n",
        "  'tags': '#GPCv17,development,Prodo,Prototype\\n',\n",
        "  'title': 'prodo-island-project-new\\n'},\n",
        " {'date': '2013-11-16 17:42:27\\n',\n",
        "  'name': 'maya api \\n',\n",
        "  'tags': 'api,maya,maya,python\\n',\n",
        "  'title': 'maya-api\\n'},\n",
        " {'date': '2013-04-07 15:25:17\\n',\n",
        "  'name': 'PlayformFeb v1 Web\\n',\n",
        "  'tags': 'Game,platformer,unity,web\\n',\n",
        "  'title': 'playformfeb-v1-web\\n'},\n",
        " {'date': '2013-04-09 11:35:20\\n',\n",
        "  'name': 'Eovland\\n',\n",
        "  'tags': 'draft,Evoland,rpg,write\\n',\n",
        "  'title': '90\\n'},\n",
        " {'date': '2013-07-17 07:07:19\\n',\n",
        "  'name': '7dRTS challenge ideas\\n',\n",
        "  'tags': '7dRTS,concept art,ideas\\n',\n",
        "  'title': '7drts-challenge-ideas\\n'},\n",
        " {'date': '2013-04-28 02:39:48\\n',\n",
        "  'name': 'SpotWalker 0.1 Build\\n',\n",
        "  'tags': 'download,exe,first person,ld48,minimal,SpotWalker\\n',\n",
        "  'title': 'spotwalker-0-1-build\\n'},\n",
        " {'date': '2013-11-10 13:52:42\\n',\n",
        "  'name': 'Pari Noon Nightmare\\n',\n",
        "  'tags': '3d,indiejolt,maya,model\\n',\n",
        "  'title': 'pari-noon-nightmare\\n'},\n",
        " {'date': '2013-04-14 00:52:51\\n',\n",
        "  'name': 'Site logo paintings + Prodo GIT\\n',\n",
        "  'tags': '#GPCv17,graphics\\n',\n",
        "  'title': 'site-logo-paintings-prodo-git\\n'},\n",
        " {'date': '2013-12-11 11:45:42\\n',\n",
        "  'name': 'Black Bars and Text: Suburb Nightmare\\n',\n",
        "  'tags': 'code,film,python,suburbnightmare\\n',\n",
        "  'title': 'black-bars-and-text-suburb-nightmare\\n'},\n",
        " {'date': '2013-07-07 12:32:10\\n',\n",
        "  'name': 'Triger MolyJam 2013 \\n',\n",
        "  'tags': 'adventure,gamejam,gamejam,molyjam,unity\\n',\n",
        "  'title': 'triger-molyjam-2013\\n'},\n",
        " {'date': '2013-05-19 14:31:51\\n',\n",
        "  'name': 'Dune-0-1\\n',\n",
        "  'tags': 'Dune,game,github,unity,web,windows\\n',\n",
        "  'title': 'dune-0-1\\n'},\n",
        " {'date': '2013-04-04 10:08:10\\n',\n",
        "  'name': 'RedditGetsDrawn - Sagahurtig\\n',\n",
        "  'tags': 'Game,portrait,redditgetsdrawn\\n',\n",
        "  'title': 'python-reddit-json\\n'},\n",
        " {'date': '2013-04-15 02:17:47\\n',\n",
        "  'name': 'HTML5\\n',\n",
        "  'tags': 'draft,write\\n',\n",
        "  'title': '155\\n'},\n",
        " {'date': '2013-06-19 19:11:31\\n',\n",
        "  'name': 'Cathern interface 2\\n',\n",
        "  'tags': 'Android,cathern,Game,ui\\n',\n",
        "  'title': 'cathern-interface-2\\n'},\n",
        " {'date': '2013-04-09 19:02:21\\n',\n",
        "  'name': 'Start #GPCv17 ideas\\n',\n",
        "  'tags': '#GPCv17,draw,idea,prodotype,sketch\\n',\n",
        "  'title': 'start-gpcv17-ideas\\n'},\n",
        " {'date': '2013-11-04 00:22:06\\n',\n",
        "  'name': 'Shark Nightmare\\n',\n",
        "  'tags': 'cinematic adventure,unity,write\\n',\n",
        "  'title': 'shark-nightmare\\n'},\n",
        " {'date': '2013-08-20 23:31:23\\n',\n",
        "  'name': 'Post mortem: Hell Earth\\n',\n",
        "  'tags': '7dFPS,write\\n',\n",
        "  'title': 'post-mortem-hell-earth\\n'},\n",
        " {'date': '2013-04-04 16:22:45\\n',\n",
        "  'name': 'Duck\\n',\n",
        "  'tags': 'Python\\n',\n",
        "  'title': 'duck\\n'},\n",
        " {'date': '2013-07-14 11:35:39\\n',\n",
        "  'name': 'SuburbNightmare screenshots\\n',\n",
        "  'tags': 'adventure,gamejam,mobile,post jam,screenshots,suburb nightmare\\n',\n",
        "  'title': 'suburbnightmare-screenshots\\n'},\n",
        " {'date': '2013-06-10 21:46:50\\n',\n",
        "  'name': 'Surreal Warp Nightmare\\n',\n",
        "  'tags': '2d,bacongamejam,runner,sidescroller\\n',\n",
        "  'title': 'surreal-warp-nightmare\\n'},\n",
        " {'date': '2013-04-03 07:52:35\\n',\n",
        "  'name': 'Aux-Jan Game\\n',\n",
        "  'tags': '3d,aux-jan,logo,pc,screenshot\\n',\n",
        "  'title': 'aux-jan-game\\n'},\n",
        " {'date': '2013-08-12 04:28:38\\n',\n",
        "  'name': 'Hell Earth\\n',\n",
        "  'tags': 'draft,write\\n',\n",
        "  'title': '452\\n'},\n",
        " {'date': '2013-04-27 17:34:34\\n',\n",
        "  'name': 'SpotWalker LD48: First 3 hours\\n',\n",
        "  'tags': '3d,ld48,screenshots,SpotWalker\\n',\n",
        "  'title': 'spotwalker-ld48-first-3-hours\\n'},\n",
        " {'date': '2013-04-26 12:27:10\\n',\n",
        "  'name': 'Aux-Jan 0.6\\n',\n",
        "  'tags': 'aux-jan,blender,model,unity\\n',\n",
        "  'title': 'aux-jan-0-6\\n'},\n",
        " {'date': '2013-04-02 18:41:03\\n',\n",
        "  'name': 'Basic HTML5 Game\\n',\n",
        "  'tags': 'draft\\n',\n",
        "  'title': '17\\n'},\n",
        " {'date': '2013-11-17 23:06:53\\n',\n",
        "  'name': 'Maya Python - Classes development\\n',\n",
        "  'tags': 'api,maya,python\\n',\n",
        "  'title': 'maya-python-classes-development\\n'},\n",
        " {'date': '2013-07-07 03:22:12\\n',\n",
        "  'name': 'Triger\\n',\n",
        "  'tags': 'unity,write\\n',\n",
        "  'title': 'triger\\n'},\n",
        " {'date': '2013-06-24 07:48:18\\n',\n",
        "  'name': 'AUXjonem\\n',\n",
        "  'tags': 'Android,aux-jan,Catherine,orthographic,platform\\n',\n",
        "  'title': 'auxjonem\\n'},\n",
        " {'date': '2013-12-17 16:02:50\\n',\n",
        "  'name': 'None\\n',\n",
        "  'tags': 'draft,write\\n',\n",
        "  'title': '692\\n'},\n",
        " {'date': '2013-05-11 20:03:37\\n',\n",
        "  'name': 'birdfice.apk\\n',\n",
        "  'tags': 'Android,BirdCage,unity\\n',\n",
        "  'title': 'birdfice-apk\\n'},\n",
        " {'date': '2013-07-12 13:03:18\\n',\n",
        "  'name': 'iamagamer - envior concept art plus model\\n',\n",
        "  'tags': '3d,concept art,gamejam,iamagamer,unity\\n',\n",
        "  'title': 'iamagamer-envior-concept-art-plus-model\\n'},\n",
        " {'date': '2013-08-12 23:46:19\\n',\n",
        "  'name': 'Hell Earth - 0.5 Halfway gatekeeper\\n',\n",
        "  'tags': '7dFPS,adventure,unity\\n',\n",
        "  'title': 'hell-earth-2\\n'},\n",
        " {'date': '2013-04-03 13:22:37\\n',\n",
        "  'name': 'MarchGame v0.1\\n',\n",
        "  'tags': '2d,3d,character,Game,movement,platformer,unity\\n',\n",
        "  'title': 'marchgame-v0-1\\n'},\n",
        " {'date': '2013-04-08 04:47:20\\n',\n",
        "  'name': 'raiden legacy review\\n',\n",
        "  'tags': 'draft,write\\n',\n",
        "  'title': '89\\n'},\n",
        " {'date': '2013-04-10 17:51:48\\n',\n",
        "  'name': 'Prodo Prodo  Island - notes day one\\n',\n",
        "  'tags': 'draft,Pronto,write,Write\\n',\n",
        "  'title': '98\\n'},\n",
        " {'date': '2013-08-09 12:33:00\\n',\n",
        "  'name': 'Murder Simulation 2013\\n',\n",
        "  'tags': 'gamejam,unity\\n',\n",
        "  'title': 'murder-simulation-2013\\n'},\n",
        " {'date': '2013-11-03 15:18:04\\n',\n",
        "  'name': 'shark Nightmare\\n',\n",
        "  'tags': 'draft,write\\n',\n",
        "  'title': '491\\n'},\n",
        " {'date': '2013-06-02 06:12:48\\n',\n",
        "  'name': 'Fishing Dream Modding\\n',\n",
        "  'tags': 'fish,fish,mod,unity\\n',\n",
        "  'title': 'fishing-dream-modding\\n'},\n",
        " {'date': '2013-04-07 01:23:19\\n',\n",
        "  'name': 'MarchAdventure\\n',\n",
        "  'tags': 'write,Write\\n',\n",
        "  'title': 'marchadventure\\n'},\n",
        " {'date': '2013-11-11 20:01:01\\n',\n",
        "  'name': 'Party Noon Nightmare - Prototype build\\n',\n",
        "  'tags': 'gamejam,gamejolt,screnshot,unity\\n',\n",
        "  'title': 'party-noon-nightmare-prototype-build\\n'},\n",
        " {'date': '2013-04-02 20:23:41\\n',\n",
        "  'name': 'None\\n',\n",
        "  'tags': 'draft\\n',\n",
        "  'title': '25\\n'},\n",
        " {'date': '2013-04-02 21:33:18\\n',\n",
        "  'name': 'Digital Paintings created with SketchBook and GIMP\\n',\n",
        "  'tags': '\\n',\n",
        "  'title': 'digital-paintings-created-with-sketchbook-and-gimp\\n'},\n",
        " {'date': '2013-04-13 13:32:53\\n',\n",
        "  'name': 'None\\n',\n",
        "  'tags': 'draft,write\\n',\n",
        "  'title': '137\\n'},\n",
        " {'date': '2013-06-10 15:14:32\\n',\n",
        "  'name': 'None\\n',\n",
        "  'tags': 'draft,write\\n',\n",
        "  'title': '297\\n'},\n",
        " {'date': '2013-06-23 19:44:59\\n',\n",
        "  'name': 'AUXjan to AUXjune\\n',\n",
        "  'tags': 'Android,aux-jan,platform\\n',\n",
        "  'title': 'auxjan-to-auxjune\\n'},\n",
        " {'date': '2013-04-04 12:42:21\\n',\n",
        "  'name': 'Twitter notes on game development\\n',\n",
        "  'tags': 'quote,write,Write\\n',\n",
        "  'title': 'twitter-notes-on-game-development-2\\n'},\n",
        " {'date': '2013-04-04 12:42:21\\n',\n",
        "  'name': 'Twitter notes on game development\\n',\n",
        "  'tags': 'quote,write,Write\\n',\n",
        "  'title': 'twitter-notes-on-game-development\\n'},\n",
        " {'date': '2013-11-16 14:08:08\\n',\n",
        "  'name': 'Maya Python and Party Moon Nightmare Screenshots\\n',\n",
        "  'tags': 'code,game jam,maya,python\\n',\n",
        "  'title': 'maya-python-and-party-moon-nightmare-screenshots\\n'},\n",
        " {'date': '2013-04-02 21:03:56\\n',\n",
        "  'name': 'None\\n',\n",
        "  'tags': 'draft\\n',\n",
        "  'title': '29\\n'},\n",
        " {'date': '2013-08-12 16:11:58\\n',\n",
        "  'name': 'Hell Earth\\n',\n",
        "  'tags': '7dFPS,adventure,fps,unity\\n',\n",
        "  'title': 'hell-earth\\n'},\n",
        " {'date': '2013-04-11 11:47:49\\n',\n",
        "  'name': 'BroBeur Studios: Prodo Island Game Development Notes\\n',\n",
        "  'tags': '#GPCv17,#GPCv17,Game,gamejam,prodoIsland,unity,Write\\n',\n",
        "  'title': 'brobeur-studios-prodo-island-game-development-notes\\n'},\n",
        " {'date': '2013-12-10 12:22:59\\n',\n",
        "  'name': 'Skins Wire: Python Image Library\\n',\n",
        "  'tags': 'code,image,PIL,Python,skins\\n',\n",
        "  'title': 'skins-wire-python-image-library\\n'},\n",
        " {'date': '2013-08-03 21:49:47\\n',\n",
        "  'name': 'Bullet Control - concept pencil drawings\\n',\n",
        "  'tags': '7dFPS,7hFPS,bullet control,concept,pencil\\n',\n",
        "  'title': 'bc-conceptdraw\\n'},\n",
        " {'date': '2013-04-14 13:06:52\\n',\n",
        "  'name': 'None\\n',\n",
        "  'tags': 'draft,write\\n',\n",
        "  'title': '154\\n'},\n",
        " {'date': '2013-04-04 18:28:40\\n',\n",
        "  'name': 'RedditGetsDrawn - tiggyvashti7\\n',\n",
        "  'tags': 'Python,reddit,redditgetsdrawn\\n',\n",
        "  'title': 'redditgetsdrawn-tiggyvashti7\\n'},\n",
        " {'date': '2013-04-12 21:23:43\\n',\n",
        "  'name': 'Development slow\\n',\n",
        "  'tags': 'Thought,write\\n',\n",
        "  'title': 'development-slow\\n'},\n",
        " {'date': '2013-06-09 20:14:49\\n',\n",
        "  'name': 'LightOut - Character 3d assets\\n',\n",
        "  'tags': '3d,bacongamjam,blender,character,LightsOut,reddit,screenshot\\n',\n",
        "  'title': 'lightout-character-3d-assets\\n'},\n",
        " {'date': '2013-07-12 09:23:42\\n',\n",
        "  'name': 'imagamer concept art - camera setup\\n',\n",
        "  'tags': 'action,collaboration,concept art,gamejam,melanie,unity\\n',\n",
        "  'title': 'imagamer-ca\\n'},\n",
        " {'date': '2013-04-15 10:48:08\\n',\n",
        "  'name': 'HTML5 Game\\n',\n",
        "  'tags': 'draft,write\\n',\n",
        "  'title': '169\\n'},\n",
        " {'date': '2013-04-16 18:47:04\\n',\n",
        "  'name': 'Prodo Island GPC17\\n',\n",
        "  'tags': 'write,Write\\n',\n",
        "  'title': 'prodo-gpc1\\n'},\n",
        " {'date': '2013-06-18 13:21:33\\n',\n",
        "  'name': 'Cathern interface\\n',\n",
        "  'tags': 'Catherine,Game,UK,unity\\n',\n",
        "  'title': 'cathern-interface\\n'},\n",
        " {'date': '2013-11-14 19:52:33\\n',\n",
        "  'name': 'Tlc\\n',\n",
        "  'tags': 'draft,write\\n',\n",
        "  'title': '523\\n'}]"
       ]
      }
     ],
     "prompt_number": 341
    },
    {
     "cell_type": "code",
     "collapsed": false,
     "input": [
      "betjsn = json.dumps(alldic)"
     ],
     "language": "python",
     "metadata": {},
     "outputs": [],
     "prompt_number": 342
    },
    {
     "cell_type": "code",
     "collapsed": false,
     "input": [
      "betjsn"
     ],
     "language": "python",
     "metadata": {},
     "outputs": [
      {
       "metadata": {},
       "output_type": "pyout",
       "prompt_number": 343,
       "text": [
        "'[{\"date\": \"2013-04-02 17:52:40\\\\n\", \"tags\": \"draft\\\\n\", \"name\": \"None\\\\n\", \"title\": \"11\\\\n\"}, {\"date\": \"2013-04-12 21:44:50\\\\n\", \"tags\": \"ideas,mechanics,resources\\\\n\", \"name\": \"Sim prototype idea #1\\\\n\", \"title\": \"sim-prototype-idea-1\\\\n\"}, {\"date\": \"2013-11-11 13:53:12\\\\n\", \"tags\": \"gamejam,ludum dare,screenshot,shark nightmare,sharkjam\\\\n\", \"name\": \"Shark Nightmare - screenshots\\\\n\", \"title\": \"shark-nightmare-screenshots\\\\n\"}, {\"date\": \"2013-07-12 23:21:40\\\\n\", \"tags\": \"draft,write\\\\n\", \"name\": \"girl\\\\n\", \"title\": \"404\\\\n\"}, {\"date\": \"2013-03-31 21:46:42\\\\n\", \"tags\": \"draft\\\\n\", \"name\": \"Biop sshock\\\\n\", \"title\": \"9\\\\n\"}, {\"date\": \"2013-11-11 12:40:56\\\\n\", \"tags\": \"draft,write\\\\n\", \"name\": \"Party noon nightmare - pencil concepts\\\\n\", \"title\": \"514\\\\n\"}, {\"date\": \"2013-07-05 04:59:10\\\\n\", \"tags\": \"2d,Catherine,gameboy,platformer,python\\\\n\", \"name\": \"Gameboy Jam - Warmup Cafrin\\\\n\", \"title\": \"gameboy-jam-warmup-cafrin\\\\n\"}, {\"date\": \"2013-04-16 17:23:59\\\\n\", \"tags\": \"draft,write\\\\n\", \"name\": \"Game.html\\\\n\", \"title\": \"170\\\\n\"}, {\"date\": \"2013-04-13 11:55:02\\\\n\", \"tags\": \"draft,write\\\\n\", \"name\": \"None\\\\n\", \"title\": \"136\\\\n\"}, {\"date\": \"2013-11-10 09:25:25\\\\n\", \"tags\": \"auckland,meetup\\\\n\", \"name\": \"November 2013 game dev meet up\\\\n\", \"title\": \"november-2013-game-dev-meet-up\\\\n\"}, {\"date\": \"2013-04-15 10:34:06\\\\n\", \"tags\": \"draft,write\\\\n\", \"name\": \"brobeur\\\\n\", \"title\": \"166\\\\n\"}, {\"date\": \"2013-05-06 21:08:12\\\\n\", \"tags\": \"BirdCage,Game,platform,unity\\\\n\", \"name\": \"BirdCage Platform Game 0.1 0.2\\\\n\", \"title\": \"birdcage-platform-game-0-1-0-2\\\\n\"}, {\"date\": \"2013-05-31 06:43:55\\\\n\", \"tags\": \"2d scroll,3d,first person,fish,platformer\\\\n\", \"name\": \"Black Cat Fishing Jam\\\\n\", \"title\": \"black-cat-fishing-jam\\\\n\"}, {\"date\": \"2013-07-30 01:49:59\\\\n\", \"tags\": \"draft,write\\\\n\", \"name\": \"logo\\\\n\", \"title\": \"429\\\\n\"}, {\"date\": \"2013-04-13 10:43:10\\\\n\", \"tags\": \"#GPCv17,development,Prodo,Prototype\\\\n\", \"name\": \"Prodo Island Project new\\\\n\", \"title\": \"prodo-island-project-new\\\\n\"}, {\"date\": \"2013-11-16 17:42:27\\\\n\", \"tags\": \"api,maya,maya,python\\\\n\", \"name\": \"maya api \\\\n\", \"title\": \"maya-api\\\\n\"}, {\"date\": \"2013-04-07 15:25:17\\\\n\", \"tags\": \"Game,platformer,unity,web\\\\n\", \"name\": \"PlayformFeb v1 Web\\\\n\", \"title\": \"playformfeb-v1-web\\\\n\"}, {\"date\": \"2013-04-09 11:35:20\\\\n\", \"tags\": \"draft,Evoland,rpg,write\\\\n\", \"name\": \"Eovland\\\\n\", \"title\": \"90\\\\n\"}, {\"date\": \"2013-07-17 07:07:19\\\\n\", \"tags\": \"7dRTS,concept art,ideas\\\\n\", \"name\": \"7dRTS challenge ideas\\\\n\", \"title\": \"7drts-challenge-ideas\\\\n\"}, {\"date\": \"2013-04-28 02:39:48\\\\n\", \"tags\": \"download,exe,first person,ld48,minimal,SpotWalker\\\\n\", \"name\": \"SpotWalker 0.1 Build\\\\n\", \"title\": \"spotwalker-0-1-build\\\\n\"}, {\"date\": \"2013-11-10 13:52:42\\\\n\", \"tags\": \"3d,indiejolt,maya,model\\\\n\", \"name\": \"Pari Noon Nightmare\\\\n\", \"title\": \"pari-noon-nightmare\\\\n\"}, {\"date\": \"2013-04-14 00:52:51\\\\n\", \"tags\": \"#GPCv17,graphics\\\\n\", \"name\": \"Site logo paintings + Prodo GIT\\\\n\", \"title\": \"site-logo-paintings-prodo-git\\\\n\"}, {\"date\": \"2013-12-11 11:45:42\\\\n\", \"tags\": \"code,film,python,suburbnightmare\\\\n\", \"name\": \"Black Bars and Text: Suburb Nightmare\\\\n\", \"title\": \"black-bars-and-text-suburb-nightmare\\\\n\"}, {\"date\": \"2013-07-07 12:32:10\\\\n\", \"tags\": \"adventure,gamejam,gamejam,molyjam,unity\\\\n\", \"name\": \"Triger MolyJam 2013 \\\\n\", \"title\": \"triger-molyjam-2013\\\\n\"}, {\"date\": \"2013-05-19 14:31:51\\\\n\", \"tags\": \"Dune,game,github,unity,web,windows\\\\n\", \"name\": \"Dune-0-1\\\\n\", \"title\": \"dune-0-1\\\\n\"}, {\"date\": \"2013-04-04 10:08:10\\\\n\", \"tags\": \"Game,portrait,redditgetsdrawn\\\\n\", \"name\": \"RedditGetsDrawn - Sagahurtig\\\\n\", \"title\": \"python-reddit-json\\\\n\"}, {\"date\": \"2013-04-15 02:17:47\\\\n\", \"tags\": \"draft,write\\\\n\", \"name\": \"HTML5\\\\n\", \"title\": \"155\\\\n\"}, {\"date\": \"2013-06-19 19:11:31\\\\n\", \"tags\": \"Android,cathern,Game,ui\\\\n\", \"name\": \"Cathern interface 2\\\\n\", \"title\": \"cathern-interface-2\\\\n\"}, {\"date\": \"2013-04-09 19:02:21\\\\n\", \"tags\": \"#GPCv17,draw,idea,prodotype,sketch\\\\n\", \"name\": \"Start #GPCv17 ideas\\\\n\", \"title\": \"start-gpcv17-ideas\\\\n\"}, {\"date\": \"2013-11-04 00:22:06\\\\n\", \"tags\": \"cinematic adventure,unity,write\\\\n\", \"name\": \"Shark Nightmare\\\\n\", \"title\": \"shark-nightmare\\\\n\"}, {\"date\": \"2013-08-20 23:31:23\\\\n\", \"tags\": \"7dFPS,write\\\\n\", \"name\": \"Post mortem: Hell Earth\\\\n\", \"title\": \"post-mortem-hell-earth\\\\n\"}, {\"date\": \"2013-04-04 16:22:45\\\\n\", \"tags\": \"Python\\\\n\", \"name\": \"Duck\\\\n\", \"title\": \"duck\\\\n\"}, {\"date\": \"2013-07-14 11:35:39\\\\n\", \"tags\": \"adventure,gamejam,mobile,post jam,screenshots,suburb nightmare\\\\n\", \"name\": \"SuburbNightmare screenshots\\\\n\", \"title\": \"suburbnightmare-screenshots\\\\n\"}, {\"date\": \"2013-06-10 21:46:50\\\\n\", \"tags\": \"2d,bacongamejam,runner,sidescroller\\\\n\", \"name\": \"Surreal Warp Nightmare\\\\n\", \"title\": \"surreal-warp-nightmare\\\\n\"}, {\"date\": \"2013-04-03 07:52:35\\\\n\", \"tags\": \"3d,aux-jan,logo,pc,screenshot\\\\n\", \"name\": \"Aux-Jan Game\\\\n\", \"title\": \"aux-jan-game\\\\n\"}, {\"date\": \"2013-08-12 04:28:38\\\\n\", \"tags\": \"draft,write\\\\n\", \"name\": \"Hell Earth\\\\n\", \"title\": \"452\\\\n\"}, {\"date\": \"2013-04-27 17:34:34\\\\n\", \"tags\": \"3d,ld48,screenshots,SpotWalker\\\\n\", \"name\": \"SpotWalker LD48: First 3 hours\\\\n\", \"title\": \"spotwalker-ld48-first-3-hours\\\\n\"}, {\"date\": \"2013-04-26 12:27:10\\\\n\", \"tags\": \"aux-jan,blender,model,unity\\\\n\", \"name\": \"Aux-Jan 0.6\\\\n\", \"title\": \"aux-jan-0-6\\\\n\"}, {\"date\": \"2013-04-02 18:41:03\\\\n\", \"tags\": \"draft\\\\n\", \"name\": \"Basic HTML5 Game\\\\n\", \"title\": \"17\\\\n\"}, {\"date\": \"2013-11-17 23:06:53\\\\n\", \"tags\": \"api,maya,python\\\\n\", \"name\": \"Maya Python - Classes development\\\\n\", \"title\": \"maya-python-classes-development\\\\n\"}, {\"date\": \"2013-07-07 03:22:12\\\\n\", \"tags\": \"unity,write\\\\n\", \"name\": \"Triger\\\\n\", \"title\": \"triger\\\\n\"}, {\"date\": \"2013-06-24 07:48:18\\\\n\", \"tags\": \"Android,aux-jan,Catherine,orthographic,platform\\\\n\", \"name\": \"AUXjonem\\\\n\", \"title\": \"auxjonem\\\\n\"}, {\"date\": \"2013-12-17 16:02:50\\\\n\", \"tags\": \"draft,write\\\\n\", \"name\": \"None\\\\n\", \"title\": \"692\\\\n\"}, {\"date\": \"2013-05-11 20:03:37\\\\n\", \"tags\": \"Android,BirdCage,unity\\\\n\", \"name\": \"birdfice.apk\\\\n\", \"title\": \"birdfice-apk\\\\n\"}, {\"date\": \"2013-07-12 13:03:18\\\\n\", \"tags\": \"3d,concept art,gamejam,iamagamer,unity\\\\n\", \"name\": \"iamagamer - envior concept art plus model\\\\n\", \"title\": \"iamagamer-envior-concept-art-plus-model\\\\n\"}, {\"date\": \"2013-08-12 23:46:19\\\\n\", \"tags\": \"7dFPS,adventure,unity\\\\n\", \"name\": \"Hell Earth - 0.5 Halfway gatekeeper\\\\n\", \"title\": \"hell-earth-2\\\\n\"}, {\"date\": \"2013-04-03 13:22:37\\\\n\", \"tags\": \"2d,3d,character,Game,movement,platformer,unity\\\\n\", \"name\": \"MarchGame v0.1\\\\n\", \"title\": \"marchgame-v0-1\\\\n\"}, {\"date\": \"2013-04-08 04:47:20\\\\n\", \"tags\": \"draft,write\\\\n\", \"name\": \"raiden legacy review\\\\n\", \"title\": \"89\\\\n\"}, {\"date\": \"2013-04-10 17:51:48\\\\n\", \"tags\": \"draft,Pronto,write,Write\\\\n\", \"name\": \"Prodo Prodo  Island - notes day one\\\\n\", \"title\": \"98\\\\n\"}, {\"date\": \"2013-08-09 12:33:00\\\\n\", \"tags\": \"gamejam,unity\\\\n\", \"name\": \"Murder Simulation 2013\\\\n\", \"title\": \"murder-simulation-2013\\\\n\"}, {\"date\": \"2013-11-03 15:18:04\\\\n\", \"tags\": \"draft,write\\\\n\", \"name\": \"shark Nightmare\\\\n\", \"title\": \"491\\\\n\"}, {\"date\": \"2013-06-02 06:12:48\\\\n\", \"tags\": \"fish,fish,mod,unity\\\\n\", \"name\": \"Fishing Dream Modding\\\\n\", \"title\": \"fishing-dream-modding\\\\n\"}, {\"date\": \"2013-04-07 01:23:19\\\\n\", \"tags\": \"write,Write\\\\n\", \"name\": \"MarchAdventure\\\\n\", \"title\": \"marchadventure\\\\n\"}, {\"date\": \"2013-11-11 20:01:01\\\\n\", \"tags\": \"gamejam,gamejolt,screnshot,unity\\\\n\", \"name\": \"Party Noon Nightmare - Prototype build\\\\n\", \"title\": \"party-noon-nightmare-prototype-build\\\\n\"}, {\"date\": \"2013-04-02 20:23:41\\\\n\", \"tags\": \"draft\\\\n\", \"name\": \"None\\\\n\", \"title\": \"25\\\\n\"}, {\"date\": \"2013-04-02 21:33:18\\\\n\", \"tags\": \"\\\\n\", \"name\": \"Digital Paintings created with SketchBook and GIMP\\\\n\", \"title\": \"digital-paintings-created-with-sketchbook-and-gimp\\\\n\"}, {\"date\": \"2013-04-13 13:32:53\\\\n\", \"tags\": \"draft,write\\\\n\", \"name\": \"None\\\\n\", \"title\": \"137\\\\n\"}, {\"date\": \"2013-06-10 15:14:32\\\\n\", \"tags\": \"draft,write\\\\n\", \"name\": \"None\\\\n\", \"title\": \"297\\\\n\"}, {\"date\": \"2013-06-23 19:44:59\\\\n\", \"tags\": \"Android,aux-jan,platform\\\\n\", \"name\": \"AUXjan to AUXjune\\\\n\", \"title\": \"auxjan-to-auxjune\\\\n\"}, {\"date\": \"2013-04-04 12:42:21\\\\n\", \"tags\": \"quote,write,Write\\\\n\", \"name\": \"Twitter notes on game development\\\\n\", \"title\": \"twitter-notes-on-game-development-2\\\\n\"}, {\"date\": \"2013-04-04 12:42:21\\\\n\", \"tags\": \"quote,write,Write\\\\n\", \"name\": \"Twitter notes on game development\\\\n\", \"title\": \"twitter-notes-on-game-development\\\\n\"}, {\"date\": \"2013-11-16 14:08:08\\\\n\", \"tags\": \"code,game jam,maya,python\\\\n\", \"name\": \"Maya Python and Party Moon Nightmare Screenshots\\\\n\", \"title\": \"maya-python-and-party-moon-nightmare-screenshots\\\\n\"}, {\"date\": \"2013-04-02 21:03:56\\\\n\", \"tags\": \"draft\\\\n\", \"name\": \"None\\\\n\", \"title\": \"29\\\\n\"}, {\"date\": \"2013-08-12 16:11:58\\\\n\", \"tags\": \"7dFPS,adventure,fps,unity\\\\n\", \"name\": \"Hell Earth\\\\n\", \"title\": \"hell-earth\\\\n\"}, {\"date\": \"2013-04-11 11:47:49\\\\n\", \"tags\": \"#GPCv17,#GPCv17,Game,gamejam,prodoIsland,unity,Write\\\\n\", \"name\": \"BroBeur Studios: Prodo Island Game Development Notes\\\\n\", \"title\": \"brobeur-studios-prodo-island-game-development-notes\\\\n\"}, {\"date\": \"2013-12-10 12:22:59\\\\n\", \"tags\": \"code,image,PIL,Python,skins\\\\n\", \"name\": \"Skins Wire: Python Image Library\\\\n\", \"title\": \"skins-wire-python-image-library\\\\n\"}, {\"date\": \"2013-08-03 21:49:47\\\\n\", \"tags\": \"7dFPS,7hFPS,bullet control,concept,pencil\\\\n\", \"name\": \"Bullet Control - concept pencil drawings\\\\n\", \"title\": \"bc-conceptdraw\\\\n\"}, {\"date\": \"2013-04-14 13:06:52\\\\n\", \"tags\": \"draft,write\\\\n\", \"name\": \"None\\\\n\", \"title\": \"154\\\\n\"}, {\"date\": \"2013-04-04 18:28:40\\\\n\", \"tags\": \"Python,reddit,redditgetsdrawn\\\\n\", \"name\": \"RedditGetsDrawn - tiggyvashti7\\\\n\", \"title\": \"redditgetsdrawn-tiggyvashti7\\\\n\"}, {\"date\": \"2013-04-12 21:23:43\\\\n\", \"tags\": \"Thought,write\\\\n\", \"name\": \"Development slow\\\\n\", \"title\": \"development-slow\\\\n\"}, {\"date\": \"2013-06-09 20:14:49\\\\n\", \"tags\": \"3d,bacongamjam,blender,character,LightsOut,reddit,screenshot\\\\n\", \"name\": \"LightOut - Character 3d assets\\\\n\", \"title\": \"lightout-character-3d-assets\\\\n\"}, {\"date\": \"2013-07-12 09:23:42\\\\n\", \"tags\": \"action,collaboration,concept art,gamejam,melanie,unity\\\\n\", \"name\": \"imagamer concept art - camera setup\\\\n\", \"title\": \"imagamer-ca\\\\n\"}, {\"date\": \"2013-04-15 10:48:08\\\\n\", \"tags\": \"draft,write\\\\n\", \"name\": \"HTML5 Game\\\\n\", \"title\": \"169\\\\n\"}, {\"date\": \"2013-04-16 18:47:04\\\\n\", \"tags\": \"write,Write\\\\n\", \"name\": \"Prodo Island GPC17\\\\n\", \"title\": \"prodo-gpc1\\\\n\"}, {\"date\": \"2013-06-18 13:21:33\\\\n\", \"tags\": \"Catherine,Game,UK,unity\\\\n\", \"name\": \"Cathern interface\\\\n\", \"title\": \"cathern-interface\\\\n\"}, {\"date\": \"2013-11-14 19:52:33\\\\n\", \"tags\": \"draft,write\\\\n\", \"name\": \"Tlc\\\\n\", \"title\": \"523\\\\n\"}]'"
       ]
      }
     ],
     "prompt_number": 343
    },
    {
     "cell_type": "code",
     "collapsed": false,
     "input": [
      "randiz = alldic[ranit]"
     ],
     "language": "python",
     "metadata": {},
     "outputs": [],
     "prompt_number": 344
    },
    {
     "cell_type": "code",
     "collapsed": false,
     "input": [
      "randiz"
     ],
     "language": "python",
     "metadata": {},
     "outputs": [
      {
       "metadata": {},
       "output_type": "pyout",
       "prompt_number": 345,
       "text": [
        "{'date': '2013-04-15 02:17:47\\n',\n",
        " 'name': 'HTML5\\n',\n",
        " 'tags': 'draft,write\\n',\n",
        " 'title': '155\\n'}"
       ]
      }
     ],
     "prompt_number": 345
    },
    {
     "cell_type": "code",
     "collapsed": false,
     "input": [
      "razdiz = randiz.values()"
     ],
     "language": "python",
     "metadata": {},
     "outputs": [],
     "prompt_number": 346
    },
    {
     "cell_type": "code",
     "collapsed": false,
     "input": [
      "razdiz"
     ],
     "language": "python",
     "metadata": {},
     "outputs": [
      {
       "metadata": {},
       "output_type": "pyout",
       "prompt_number": 347,
       "text": [
        "['2013-04-15 02:17:47\\n', 'draft,write\\n', 'HTML5\\n', '155\\n']"
       ]
      }
     ],
     "prompt_number": 347
    },
    {
     "cell_type": "code",
     "collapsed": false,
     "input": [
      "randaz = randiz.values()"
     ],
     "language": "python",
     "metadata": {},
     "outputs": [],
     "prompt_number": 348
    },
    {
     "cell_type": "code",
     "collapsed": false,
     "input": [
      "for itez in randaz:\n",
      "    print itez + '.wp'\n",
      "    str2 = itez.replace(\"\\n\", \"\")\n",
      "    tafilz = str2 + '.wp'"
     ],
     "language": "python",
     "metadata": {},
     "outputs": [
      {
       "output_type": "stream",
       "stream": "stdout",
       "text": [
        "2013-04-15 02:17:47\n",
        ".wp\n",
        "draft,write\n",
        ".wp\n",
        "HTML5\n",
        ".wp\n",
        "155\n",
        ".wp\n"
       ]
      }
     ],
     "prompt_number": 349
    },
    {
     "cell_type": "code",
     "collapsed": false,
     "input": [
      "tafilz"
     ],
     "language": "python",
     "metadata": {},
     "outputs": [
      {
       "metadata": {},
       "output_type": "pyout",
       "prompt_number": 350,
       "text": [
        "'155.wp'"
       ]
      }
     ],
     "prompt_number": 350
    },
    {
     "cell_type": "code",
     "collapsed": false,
     "input": [
      "bldat = open((tafilz), 'r')\n"
     ],
     "language": "python",
     "metadata": {},
     "outputs": [],
     "prompt_number": 351
    },
    {
     "cell_type": "code",
     "collapsed": false,
     "input": [
      "blogread = bldat.read()"
     ],
     "language": "python",
     "metadata": {},
     "outputs": [],
     "prompt_number": 352
    },
    {
     "cell_type": "code",
     "collapsed": false,
     "input": [
      "blogwra = blogread.upper()"
     ],
     "language": "python",
     "metadata": {},
     "outputs": [],
     "prompt_number": 353
    },
    {
     "cell_type": "code",
     "collapsed": false,
     "input": [
      "blogstr = str(blogwra)"
     ],
     "language": "python",
     "metadata": {},
     "outputs": [],
     "prompt_number": 354
    },
    {
     "cell_type": "code",
     "collapsed": false,
     "input": [
      "blogstr"
     ],
     "language": "python",
     "metadata": {},
     "outputs": [
      {
       "metadata": {},
       "output_type": "pyout",
       "prompt_number": 355,
       "text": [
        "'<HTML><BODY><P>TEST123<CANVAS STYLE=\"BORDER: 1PX SOLID #C3C3C3;\" WIDTH=\"128\" HEIGHT=\"32\"> YOUR BROWSER DOES NOT SUPPORT THE HTML5 CANVAS TAG.</CANVAS>\\n\\n\\n<SCRIPT TYPE=\"TEXT/JAVASCRIPT\">// <![CDATA[\\n\\nVAR C=DOCUMENT.GETELEMENTBYID(\"MYCANVAS\"); VAR CTX=C.GETCONTEXT(\"2D\"); CTX.FILLSTYLE=\"#536188\"; CTX.FILLRECT(0,0,128,12); VAR CTX=C.GETCONTEXT(\"2D\"); CTX.FILLSTYLE=\"#181032\"; CTX.FILLRECT(0,15,128,103); VAR CTX=C.GETCONTEXT(\"2D\"); CTX.FILLSTYLE=\"#67151B\"; CTX.FILLRECT(0,10,64,2); VAR CTX=C.GETCONTEXT(\"2D\"); CTX.FILLSTYLE=\"#67151B\"; CTX.FILLRECT(64,8,64,4); VAR CTX=C.GETCONTEXT(\"2D\"); CTX.FILLSTYLE=\"#67151B\"; CTX.FILLRECT(100,12,5,6); VAR CTX=C.GETCONTEXT(\"2D\"); CTX.FILLSTYLE=\"#1C212E\"; CTX.FILLRECT(0,12,128,3); VAR CTX=C.GETCONTEXT(\"2D\"); CTX.FILLSTYLE=\"#BFA954\"; CTX.FILLRECT(5,5,5,5); VAR CTX=C.GETCONTEXT(\"2D\"); CTX.FILLSTYLE=\"#BFA954\"; CTX.FILLRECT(15,3,5,5); VAR CTX=C.GETCONTEXT(\"2D\"); CTX.FILLSTYLE=\"#C8D991\"; CTX.FILLRECT(0,15,128,8);\\n\\n// ]]></SCRIPT></P></BODY></HTML>'"
       ]
      }
     ],
     "prompt_number": 355
    },
    {
     "cell_type": "code",
     "collapsed": false,
     "input": [
      "blogread"
     ],
     "language": "python",
     "metadata": {},
     "outputs": [
      {
       "metadata": {},
       "output_type": "pyout",
       "prompt_number": 356,
       "text": [
        "'<html><body><p>test123<canvas style=\"border: 1px solid #c3c3c3;\" width=\"128\" height=\"32\"> Your browser does not support the HTML5 canvas tag.</canvas>\\n\\n\\n<script type=\"text/javascript\">// <![CDATA[\\n\\nvar c=document.getElementById(\"myCanvas\"); var ctx=c.getContext(\"2d\"); ctx.fillStyle=\"#536188\"; ctx.fillRect(0,0,128,12); var ctx=c.getContext(\"2d\"); ctx.fillStyle=\"#181032\"; ctx.fillRect(0,15,128,103); var ctx=c.getContext(\"2d\"); ctx.fillStyle=\"#67151b\"; ctx.fillRect(0,10,64,2); var ctx=c.getContext(\"2d\"); ctx.fillStyle=\"#67151b\"; ctx.fillRect(64,8,64,4); var ctx=c.getContext(\"2d\"); ctx.fillStyle=\"#67151b\"; ctx.fillRect(100,12,5,6); var ctx=c.getContext(\"2d\"); ctx.fillStyle=\"#1c212e\"; ctx.fillRect(0,12,128,3); var ctx=c.getContext(\"2d\"); ctx.fillStyle=\"#bfa954\"; ctx.fillRect(5,5,5,5); var ctx=c.getContext(\"2d\"); ctx.fillStyle=\"#bfa954\"; ctx.fillRect(15,3,5,5); var ctx=c.getContext(\"2d\"); ctx.fillStyle=\"#c8d991\"; ctx.fillRect(0,15,128,8);\\n\\n// ]]></script></p></body></html>'"
       ]
      }
     ],
     "prompt_number": 356
    },
    {
     "cell_type": "code",
     "collapsed": false,
     "input": [
      "ixran = os.urandom(128).encode('hex')"
     ],
     "language": "python",
     "metadata": {},
     "outputs": [],
     "prompt_number": 357
    },
    {
     "cell_type": "code",
     "collapsed": false,
     "input": [
      "randiz"
     ],
     "language": "python",
     "metadata": {},
     "outputs": [
      {
       "metadata": {},
       "output_type": "pyout",
       "prompt_number": 358,
       "text": [
        "{'date': '2013-04-15 02:17:47\\n',\n",
        " 'name': 'HTML5\\n',\n",
        " 'tags': 'draft,write\\n',\n",
        " 'title': '155\\n'}"
       ]
      }
     ],
     "prompt_number": 358
    },
    {
     "cell_type": "code",
     "collapsed": false,
     "input": [
      "randiz.update({'text': blogread})"
     ],
     "language": "python",
     "metadata": {},
     "outputs": [],
     "prompt_number": 359
    },
    {
     "cell_type": "code",
     "collapsed": false,
     "input": [
      "randiz['title']"
     ],
     "language": "python",
     "metadata": {},
     "outputs": [
      {
       "metadata": {},
       "output_type": "pyout",
       "prompt_number": 360,
       "text": [
        "'155\\n'"
       ]
      }
     ],
     "prompt_number": 360
    },
    {
     "cell_type": "code",
     "collapsed": false,
     "input": [
      "lendiz = len(randiz)"
     ],
     "language": "python",
     "metadata": {},
     "outputs": [],
     "prompt_number": 361
    },
    {
     "cell_type": "code",
     "collapsed": false,
     "input": [
      "def bugsearch():\n",
      "    for bugz in range(lendiz):\n",
      "        return (randiz[bugz])"
     ],
     "language": "python",
     "metadata": {},
     "outputs": [],
     "prompt_number": 362
    },
    {
     "cell_type": "code",
     "collapsed": false,
     "input": [
      "bugsearch()"
     ],
     "language": "python",
     "metadata": {},
     "outputs": [
      {
       "ename": "KeyError",
       "evalue": "0",
       "output_type": "pyerr",
       "traceback": [
        "\u001b[1;31m---------------------------------------------------------------------------\u001b[0m\n\u001b[1;31mKeyError\u001b[0m                                  Traceback (most recent call last)",
        "\u001b[1;32m<ipython-input-363-a1740e1d46ed>\u001b[0m in \u001b[0;36m<module>\u001b[1;34m()\u001b[0m\n\u001b[1;32m----> 1\u001b[1;33m \u001b[0mbugsearch\u001b[0m\u001b[1;33m(\u001b[0m\u001b[1;33m)\u001b[0m\u001b[1;33m\u001b[0m\u001b[0m\n\u001b[0m",
        "\u001b[1;32m<ipython-input-362-e04bce0690ee>\u001b[0m in \u001b[0;36mbugsearch\u001b[1;34m()\u001b[0m\n\u001b[0;32m      1\u001b[0m \u001b[1;32mdef\u001b[0m \u001b[0mbugsearch\u001b[0m\u001b[1;33m(\u001b[0m\u001b[1;33m)\u001b[0m\u001b[1;33m:\u001b[0m\u001b[1;33m\u001b[0m\u001b[0m\n\u001b[0;32m      2\u001b[0m     \u001b[1;32mfor\u001b[0m \u001b[0mbugz\u001b[0m \u001b[1;32min\u001b[0m \u001b[0mrange\u001b[0m\u001b[1;33m(\u001b[0m\u001b[0mlendiz\u001b[0m\u001b[1;33m)\u001b[0m\u001b[1;33m:\u001b[0m\u001b[1;33m\u001b[0m\u001b[0m\n\u001b[1;32m----> 3\u001b[1;33m         \u001b[1;32mreturn\u001b[0m \u001b[1;33m(\u001b[0m\u001b[0mrandiz\u001b[0m\u001b[1;33m[\u001b[0m\u001b[0mbugz\u001b[0m\u001b[1;33m]\u001b[0m\u001b[1;33m)\u001b[0m\u001b[1;33m\u001b[0m\u001b[0m\n\u001b[0m",
        "\u001b[1;31mKeyError\u001b[0m: 0"
       ]
      }
     ],
     "prompt_number": 363
    },
    {
     "cell_type": "code",
     "collapsed": false,
     "input": [
      "for ranv in randiz.values():\n",
      "    print ranv"
     ],
     "language": "python",
     "metadata": {},
     "outputs": [
      {
       "output_type": "stream",
       "stream": "stdout",
       "text": [
        "2013-04-15 02:17:47\n",
        "\n",
        "<html><body><p>test123<canvas style=\"border: 1px solid #c3c3c3;\" width=\"128\" height=\"32\"> Your browser does not support the HTML5 canvas tag.</canvas>\n",
        "\n",
        "\n",
        "<script type=\"text/javascript\">// <![CDATA[\n",
        "\n",
        "var c=document.getElementById(\"myCanvas\"); var ctx=c.getContext(\"2d\"); ctx.fillStyle=\"#536188\"; ctx.fillRect(0,0,128,12); var ctx=c.getContext(\"2d\"); ctx.fillStyle=\"#181032\"; ctx.fillRect(0,15,128,103); var ctx=c.getContext(\"2d\"); ctx.fillStyle=\"#67151b\"; ctx.fillRect(0,10,64,2); var ctx=c.getContext(\"2d\"); ctx.fillStyle=\"#67151b\"; ctx.fillRect(64,8,64,4); var ctx=c.getContext(\"2d\"); ctx.fillStyle=\"#67151b\"; ctx.fillRect(100,12,5,6); var ctx=c.getContext(\"2d\"); ctx.fillStyle=\"#1c212e\"; ctx.fillRect(0,12,128,3); var ctx=c.getContext(\"2d\"); ctx.fillStyle=\"#bfa954\"; ctx.fillRect(5,5,5,5); var ctx=c.getContext(\"2d\"); ctx.fillStyle=\"#bfa954\"; ctx.fillRect(15,3,5,5); var ctx=c.getContext(\"2d\"); ctx.fillStyle=\"#c8d991\"; ctx.fillRect(0,15,128,8);\n",
        "\n",
        "// ]]></script></p></body></html>\n",
        "draft,write\n",
        "\n",
        "HTML5\n",
        "\n",
        "155\n",
        "\n"
       ]
      }
     ],
     "prompt_number": 364
    },
    {
     "cell_type": "code",
     "collapsed": false,
     "input": [
      "from bs4 import BeautifulSoup\n",
      "soup = BeautifulSoup(blogread)\n",
      "\n",
      "print(soup.prettify())"
     ],
     "language": "python",
     "metadata": {},
     "outputs": [
      {
       "output_type": "stream",
       "stream": "stdout",
       "text": [
        "<html>\n",
        " <body>\n",
        "  <p>\n",
        "   test123\n",
        "   <canvas height=\"32\" style=\"border: 1px solid #c3c3c3;\" width=\"128\">\n",
        "    Your browser does not support the HTML5 canvas tag.\n",
        "   </canvas>\n",
        "   <script type=\"text/javascript\">\n",
        "    // <![CDATA[\n",
        "\n",
        "var c=document.getElementById(\"myCanvas\"); var ctx=c.getContext(\"2d\"); ctx.fillStyle=\"#536188\"; ctx.fillRect(0,0,128,12); var ctx=c.getContext(\"2d\"); ctx.fillStyle=\"#181032\"; ctx.fillRect(0,15,128,103); var ctx=c.getContext(\"2d\"); ctx.fillStyle=\"#67151b\"; ctx.fillRect(0,10,64,2); var ctx=c.getContext(\"2d\"); ctx.fillStyle=\"#67151b\"; ctx.fillRect(64,8,64,4); var ctx=c.getContext(\"2d\"); ctx.fillStyle=\"#67151b\"; ctx.fillRect(100,12,5,6); var ctx=c.getContext(\"2d\"); ctx.fillStyle=\"#1c212e\"; ctx.fillRect(0,12,128,3); var ctx=c.getContext(\"2d\"); ctx.fillStyle=\"#bfa954\"; ctx.fillRect(5,5,5,5); var ctx=c.getContext(\"2d\"); ctx.fillStyle=\"#bfa954\"; ctx.fillRect(15,3,5,5); var ctx=c.getContext(\"2d\"); ctx.fillStyle=\"#c8d991\"; ctx.fillRect(0,15,128,8);\n",
        "\n",
        "// ]]>\n",
        "   </script>\n",
        "  </p>\n",
        " </body>\n",
        "</html>\n"
       ]
      }
     ],
     "prompt_number": 365
    },
    {
     "cell_type": "code",
     "collapsed": false,
     "input": [
      "soup.findAll('html')"
     ],
     "language": "python",
     "metadata": {},
     "outputs": [
      {
       "metadata": {},
       "output_type": "pyout",
       "prompt_number": 366,
       "text": [
        "[<html><body><p>test123<canvas height=\"32\" style=\"border: 1px solid #c3c3c3;\" width=\"128\"> Your browser does not support the HTML5 canvas tag.</canvas>\n",
        " <script type=\"text/javascript\">// <![CDATA[\n",
        " \n",
        " var c=document.getElementById(\"myCanvas\"); var ctx=c.getContext(\"2d\"); ctx.fillStyle=\"#536188\"; ctx.fillRect(0,0,128,12); var ctx=c.getContext(\"2d\"); ctx.fillStyle=\"#181032\"; ctx.fillRect(0,15,128,103); var ctx=c.getContext(\"2d\"); ctx.fillStyle=\"#67151b\"; ctx.fillRect(0,10,64,2); var ctx=c.getContext(\"2d\"); ctx.fillStyle=\"#67151b\"; ctx.fillRect(64,8,64,4); var ctx=c.getContext(\"2d\"); ctx.fillStyle=\"#67151b\"; ctx.fillRect(100,12,5,6); var ctx=c.getContext(\"2d\"); ctx.fillStyle=\"#1c212e\"; ctx.fillRect(0,12,128,3); var ctx=c.getContext(\"2d\"); ctx.fillStyle=\"#bfa954\"; ctx.fillRect(5,5,5,5); var ctx=c.getContext(\"2d\"); ctx.fillStyle=\"#bfa954\"; ctx.fillRect(15,3,5,5); var ctx=c.getContext(\"2d\"); ctx.fillStyle=\"#c8d991\"; ctx.fillRect(0,15,128,8);\n",
        " \n",
        " // ]]></script></p></body></html>]"
       ]
      }
     ],
     "prompt_number": 366
    },
    {
     "cell_type": "code",
     "collapsed": false,
     "input": [
      "doc = dominate.document(title='BroBeur Blog Post')\n",
      "\n",
      "with doc.head:\n",
      "    link(rel='stylesheet', href='style.css')\n",
      "    script(type='text/javascript', src='script.js')\n",
      "\n",
      "with doc:\n",
      "    with div(id='header').add(ol()):\n",
      "        for i in alldic[1]:\n",
      "            li(a(i.title(), href='/%s.html' % i))\n",
      "\n",
      "    with div():\n",
      "        attr(cls='body')\n",
      "        p(razdiz)\n",
      "        h1(randaz)\n",
      "        p(blogread)\n",
      "\n",
      "#print doc"
     ],
     "language": "python",
     "metadata": {},
     "outputs": [],
     "prompt_number": 367
    },
    {
     "cell_type": "code",
     "collapsed": false,
     "input": [
      "brobeurblogpz = ('/home/wcmckee/brobeur-blog-post')"
     ],
     "language": "python",
     "metadata": {},
     "outputs": [],
     "prompt_number": 368
    },
    {
     "cell_type": "code",
     "collapsed": false,
     "input": [
      "os.chdir(brobeurblogpz)"
     ],
     "language": "python",
     "metadata": {},
     "outputs": [],
     "prompt_number": 369
    },
    {
     "cell_type": "code",
     "collapsed": false,
     "input": [
      "wriind = open('index.html', 'w')"
     ],
     "language": "python",
     "metadata": {},
     "outputs": [],
     "prompt_number": 370
    },
    {
     "cell_type": "code",
     "collapsed": false,
     "input": [
      "jsnd = open('index.json', 'w')\n",
      "\n",
      "jsnd.write(str(betjsn))"
     ],
     "language": "python",
     "metadata": {},
     "outputs": [],
     "prompt_number": 371
    },
    {
     "cell_type": "code",
     "collapsed": false,
     "input": [
      "jsnd.close()"
     ],
     "language": "python",
     "metadata": {},
     "outputs": [],
     "prompt_number": 372
    },
    {
     "cell_type": "code",
     "collapsed": false,
     "input": [
      "wriind.write(str(doc))"
     ],
     "language": "python",
     "metadata": {},
     "outputs": [],
     "prompt_number": 373
    },
    {
     "cell_type": "code",
     "collapsed": false,
     "input": [
      "wriind.close()"
     ],
     "language": "python",
     "metadata": {},
     "outputs": [],
     "prompt_number": 374
    },
    {
     "cell_type": "code",
     "collapsed": false,
     "input": [],
     "language": "python",
     "metadata": {},
     "outputs": []
    }
   ],
   "metadata": {}
  }
 ]
}