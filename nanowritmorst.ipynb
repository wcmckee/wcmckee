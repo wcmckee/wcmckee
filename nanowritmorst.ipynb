{
 "cells": [
  {
   "cell_type": "markdown",
   "metadata": {
    "collapsed": false
   },
   "source": [
    "NaNoWritMoRST\n",
    "\n",
    "Script to generate RST file daily novel writing"
   ]
  },
  {
   "cell_type": "code",
   "execution_count": 129,
   "metadata": {
    "collapsed": true
   },
   "outputs": [],
   "source": [
    "from collections import Counter\n",
    "import xmltodict\n",
    "import os"
   ]
  },
  {
   "cell_type": "code",
   "execution_count": 130,
   "metadata": {
    "collapsed": false
   },
   "outputs": [],
   "source": [
    "#for filera in range(1,28):\n",
    "    #print (filera)\n",
    "    \n",
    "    #use open() for opening file.\n",
    "    #Always use `with` statement as it'll automatically close the file for you.\n",
    "    #with open(r'/home/wcmckee/Downloads/writersden/posts/nanowrimo15-day' + str(filera) + '.rst') as f:\n",
    "        #create a list of all words fetched from the file using a list comprehension\n",
    "        #words = [word for line in f for word in line.split()]\n",
    "        #print (\"The total word count is:\", len(words))\n",
    "        #now use collections.Counter\n",
    "        #c = Counter(words)\n",
    "        #for word, count in c.most_common():\n",
    "           #print (word, count)"
   ]
  },
  {
   "cell_type": "code",
   "execution_count": 131,
   "metadata": {
    "collapsed": false
   },
   "outputs": [
    {
     "data": {
      "text/plain": [
       "'\\nfile=open(\"/home/wcmckee/Downloads/wdm-site/posts/nanowrimo15-day28.rst\",\"r+\")\\nwordcount={}\\nfor word in file.read().split():\\n    if word not in wordcount:\\n        wordcount[word] = 1\\n    else:\\n        wordcount[word] += 1\\nfor k,v in wordcount.items():\\n    print(k, v)\\n    #content = v.decode(\\'utf-8\\')\\n'"
      ]
     },
     "execution_count": 131,
     "metadata": {},
     "output_type": "execute_result"
    }
   ],
   "source": [
    "'''\n",
    "file=open(\"/home/wcmckee/Downloads/wdm-site/posts/nanowrimo15-day28.rst\",\"r+\")\n",
    "wordcount={}\n",
    "for word in file.read().split():\n",
    "    if word not in wordcount:\n",
    "        wordcount[word] = 1\n",
    "    else:\n",
    "        wordcount[word] += 1\n",
    "for k,v in wordcount.items():\n",
    "    print(k, v)\n",
    "    #content = v.decode('utf-8')\n",
    "'''"
   ]
  },
  {
   "cell_type": "code",
   "execution_count": 132,
   "metadata": {
    "collapsed": true
   },
   "outputs": [],
   "source": [
    "dayil = dict()"
   ]
  },
  {
   "cell_type": "code",
   "execution_count": 133,
   "metadata": {
    "collapsed": true
   },
   "outputs": [],
   "source": [
    "wcdic = dict()"
   ]
  },
  {
   "cell_type": "code",
   "execution_count": 134,
   "metadata": {
    "collapsed": true
   },
   "outputs": [],
   "source": [
    "alwords = dict()"
   ]
  },
  {
   "cell_type": "code",
   "execution_count": 135,
   "metadata": {
    "collapsed": false,
    "scrolled": false
   },
   "outputs": [
    {
     "name": "stdout",
     "output_type": "stream",
     "text": [
      "The total word count is: 1446\n",
      "the 104\n",
      "to 58\n",
      "was 34\n",
      "a 29\n",
      "and 23\n",
      "Sarah 23\n",
      "on 22\n",
      "her 21\n",
      "of 18\n",
      "had 18\n",
      "it 16\n",
      "The 16\n",
      "in 14\n",
      "She 13\n",
      "that 12\n",
      "is 12\n",
      "from 12\n",
      "for 11\n",
      "as 11\n",
      "with 10\n",
      "It 10\n",
      "Antony 10\n",
      "6b345 9\n",
      "towards 9\n",
      "be 9\n",
      "she 9\n",
      "system 8\n",
      "ArtControl 8\n",
      "transport 8\n",
      "would 8\n",
      "into 8\n",
      "This 7\n",
      "moon 7\n",
      "Earth. 6\n",
      "been 6\n",
      "Pi 6\n",
      "transport. 6\n",
      "over 6\n",
      "this 6\n",
      "moving 5\n",
      "started 5\n",
      "back 5\n",
      "human 5\n",
      "were 5\n",
      "pod 5\n",
      "pod. 5\n",
      "you 5\n",
      "moved 5\n",
      "they 5\n",
      "some 5\n",
      "Earth 5\n",
      "reached 5\n",
      "Raspberry 4\n",
      "crater. 4\n",
      "there 4\n",
      "its 4\n",
      "took 4\n",
      "by 4\n",
      "monitor 4\n",
      "will 4\n",
      "code 4\n",
      "belt 4\n",
      "power 4\n",
      "he 4\n",
      "up 4\n",
      "out 4\n",
      "- 4\n",
      "but 4\n",
      "return 4\n",
      "He 4\n",
      "control 4\n",
      "prototype 4\n",
      "take 4\n",
      "loaded 3\n",
      "replied. 3\n",
      "where 3\n",
      "York 3\n",
      "given 3\n",
      "attached 3\n",
      "asked 3\n",
      "computer 3\n",
      "not 3\n",
      "like 3\n",
      "evidence 3\n",
      "bass 3\n",
      "AI 3\n",
      "able 3\n",
      "New 3\n",
      "'Sarah, 3\n",
      "so 3\n",
      "voice 3\n",
      "his 3\n",
      "designed 3\n",
      "before 3\n",
      "watched 3\n",
      "6b345. 3\n",
      "camo 3\n",
      "metal 3\n",
      "running 3\n",
      "at 3\n",
      "mission 3\n",
      "switched 3\n",
      "get 3\n",
      "Sarah. 3\n",
      "front 3\n",
      "They 2\n",
      "heading 2\n",
      "sound 2\n",
      "may 2\n",
      "you', 2\n",
      "humans 2\n",
      "'We 2\n",
      "something 2\n",
      "climbed 2\n",
      "have 2\n",
      "cut 2\n",
      "arm 2\n",
      "particle 2\n",
      "Once 2\n",
      "once 2\n",
      "replied 2\n",
      "see 2\n",
      "someone 2\n",
      "parts 2\n",
      "could 2\n",
      "'I 2\n",
      "looked 2\n",
      "controlled 2\n",
      "A 2\n",
      "develop 2\n",
      "5 2\n",
      "seemed 2\n",
      "must 2\n",
      "database 2\n",
      "just 2\n",
      "getting 2\n",
      "status 2\n",
      "being 2\n",
      "notice 2\n",
      "down 2\n",
      "during 2\n",
      "can 2\n",
      "noodles 2\n",
      "area 2\n",
      "thought 2\n",
      "server 2\n",
      "gathered 2\n",
      "till 2\n",
      "move 2\n",
      "turned 2\n",
      "ship 2\n",
      "around 2\n",
      "machines 2\n",
      "opened 2\n",
      "an 2\n",
      "began 2\n",
      "crater 2\n",
      "happened 2\n",
      "off 2\n",
      "control', 2\n",
      "contact 2\n",
      "what 2\n",
      "several 2\n",
      "bag. 2\n",
      "control. 2\n",
      "good 2\n",
      "moon. 2\n",
      "buggy. 2\n",
      "spoke. 2\n",
      "headset. 2\n",
      "ear. 2\n",
      "two 2\n",
      "machine 2\n",
      "table 2\n",
      "wouldn't 2\n",
      "uploaded 2\n",
      "traveling 2\n",
      "exited 2\n",
      "if 2\n",
      "never 2\n",
      "reaching 2\n",
      "make 1\n",
      "here, 1\n",
      "figure 1\n",
      "retrieve 1\n",
      "other 1\n",
      "knowing 1\n",
      "pod, 1\n",
      "base 1\n",
      "going 1\n",
      "server. 1\n",
      "preserved 1\n",
      "'Sarah', 1\n",
      "buggy 1\n",
      "working 1\n",
      "same 1\n",
      "sitting. 1\n",
      "horror 1\n",
      "ex-wife. 1\n",
      "onions. 1\n",
      "though 1\n",
      "knife 1\n",
      "Attended 1\n",
      "bent 1\n",
      "texture 1\n",
      "crew 1\n",
      "Scraps 1\n",
      "finally 1\n",
      "quite 1\n",
      "cause 1\n",
      "or 1\n",
      "place 1\n",
      "'fried 1\n",
      "deeper 1\n",
      "destination 1\n",
      "still, 1\n",
      "four 1\n",
      "signals 1\n",
      "operating 1\n",
      "metal? 1\n",
      "mainly 1\n",
      "writing 1\n",
      "find 1\n",
      "pulled 1\n",
      "mistakes 1\n",
      "preserve 1\n",
      "devastating. 1\n",
      "'hmm 1\n",
      "showed. 1\n",
      "headless. 1\n",
      "end 1\n",
      "similar 1\n",
      "hopefully 1\n",
      "old, 1\n",
      "whatever 1\n",
      "noodles'. 1\n",
      "small 1\n",
      "'confirm, 1\n",
      "eye. 1\n",
      "closer. 1\n",
      "'You 1\n",
      "happened. 1\n",
      "rocky 1\n",
      "process 1\n",
      "past 1\n",
      "accident 1\n",
      "headset', 1\n",
      "transport'. 1\n",
      "continued 1\n",
      "split, 1\n",
      "State 1\n",
      "gravity 1\n",
      "sharp 1\n",
      "room. 1\n",
      "pad 1\n",
      "After 1\n",
      "evidence. 1\n",
      "run 1\n",
      "'auto 1\n",
      "remarried 1\n",
      "capabilities. 1\n",
      "Mars 1\n",
      "like?', 1\n",
      "When 1\n",
      "now 1\n",
      "relax. 1\n",
      "wife's 1\n",
      "seat. 1\n",
      "blasted. 1\n",
      "mistake. 1\n",
      "seconds. 1\n",
      "functions 1\n",
      "opposite 1\n",
      "herself. 1\n",
      "pantry 1\n",
      "job 1\n",
      "way 1\n",
      "Clarkson, 1\n",
      "set 1\n",
      "remotely 1\n",
      "analyze 1\n",
      "noticed 1\n",
      "toughest 1\n",
      "curled 1\n",
      "position, 1\n",
      "ended. 1\n",
      "case 1\n",
      "2021 1\n",
      "pen. 1\n",
      "Sarah', 1\n",
      "reach 1\n",
      "trip 1\n",
      "down. 1\n",
      "allow 1\n",
      "standing 1\n",
      "made 1\n",
      "4 1\n",
      "Bios 1\n",
      "School 1\n",
      "death 1\n",
      "3km 1\n",
      "done 1\n",
      "headed 1\n",
      "transmit, 1\n",
      "paint 1\n",
      "invisible 1\n",
      "blood 1\n",
      "seat 1\n",
      "camera 1\n",
      "display. 1\n",
      "walk 1\n",
      "To 1\n",
      "issues 1\n",
      "jug 1\n",
      "hungry 1\n",
      "forward. 1\n",
      "taken 1\n",
      "asked. 1\n",
      "lifted 1\n",
      "wasn't 1\n",
      "capsule. 1\n",
      "stopped 1\n",
      "noodles. 1\n",
      "planet 1\n",
      "'System 1\n",
      "sent 1\n",
      "Estimated 1\n",
      "inside 1\n",
      "cubard. 1\n",
      "December 1\n",
      "sure 1\n",
      "'Everything 1\n",
      "rinsing 1\n",
      "work. 1\n",
      "single 1\n",
      "'Fried 1\n",
      "hide 1\n",
      "onion', 1\n",
      "cabinet. 1\n",
      "couldn't 1\n",
      "software 1\n",
      "I 1\n",
      "NASA 1\n",
      "remember 1\n",
      "remarked 1\n",
      "5:32am 1\n",
      "'Roger 1\n",
      "planning 1\n",
      "boiling 1\n",
      "toward 1\n",
      "deciding 1\n",
      "lying 1\n",
      "off, 1\n",
      "What 1\n",
      "carry 1\n",
      "modified 1\n",
      "radio 1\n",
      "personal. 1\n",
      "Clarkson. 1\n",
      "American', 1\n",
      "'Where 1\n",
      "meet 1\n",
      "noticed. 1\n",
      "fine, 1\n",
      "hundred 1\n",
      "document 1\n",
      "private 1\n",
      "contracted 1\n",
      "steel 1\n",
      "booted 1\n",
      "17, 1\n",
      "mechanical 1\n",
      "all 1\n",
      "years. 1\n",
      "came 1\n",
      "terrible 1\n",
      "All 1\n",
      "technology. 1\n",
      "zip 1\n",
      "Shortly 1\n",
      "make. 1\n",
      "blasted 1\n",
      "strange, 1\n",
      "switch 1\n",
      "assist 1\n",
      "'Yes 1\n",
      "who 1\n",
      "we 1\n",
      "crazy 1\n",
      "conditions 1\n",
      "graphics. 1\n",
      "off. 1\n",
      "entered 1\n",
      "happening 1\n",
      "out. 1\n",
      "equipped 1\n",
      "report. 1\n",
      "body. 1\n",
      "nothing 1\n",
      "life 1\n",
      "it. 1\n",
      "strapped 1\n",
      "'Take 1\n",
      "Control, 1\n",
      "GPS 1\n",
      "remarked. 1\n",
      "mission. 1\n",
      "style 1\n",
      "hired 1\n",
      "craters 1\n",
      "Japanese 1\n",
      "away. 1\n",
      "dispatched 1\n",
      "detail', 1\n",
      "large 1\n",
      "moons 1\n",
      "mic. 1\n",
      "\"I'm 1\n",
      "arrive: 1\n",
      "option 1\n",
      "your 1\n",
      "please'. 1\n",
      "stepped 1\n",
      "twenty 1\n",
      "arrived 1\n",
      "steeped 1\n",
      "more 1\n",
      "booted. 1\n",
      "key 1\n",
      "unstopped 1\n",
      "around. 1\n",
      "explosion. 1\n",
      "connected 1\n",
      "failed. 1\n",
      "There 1\n",
      "creating 1\n",
      "machine. 1\n",
      "specialist 1\n",
      "years 1\n",
      "content 1\n",
      "'Born 1\n",
      "displayed. 1\n",
      "deleted. 1\n",
      "placed 1\n",
      "'Sarah 1\n",
      "site. 1\n",
      "transport, 1\n",
      "begin', 1\n",
      "rendered 1\n",
      "my 1\n",
      "need 1\n",
      "Antony's 1\n",
      "nuclear 1\n",
      "Humans 1\n",
      "exploring 1\n",
      "unbuckled 1\n",
      "important. 1\n",
      "passed 1\n",
      "System 1\n",
      "starving, 1\n",
      "45 1\n",
      "In 1\n",
      "are 1\n",
      "hooked 1\n",
      "seat', 1\n",
      "fit 1\n",
      "replied, 1\n",
      "lines. 1\n",
      "hours', 1\n",
      "update 1\n",
      "ships 1\n",
      "University 1\n",
      "developer.' 1\n",
      "held 1\n",
      "detailed 1\n",
      "man 1\n",
      "feel 1\n",
      "landed 1\n",
      "fried 1\n",
      "behind 1\n",
      "showered, 1\n",
      "him 1\n",
      "object 1\n",
      "'Thank 1\n",
      "light 1\n",
      "herself, 1\n",
      "Antony. 1\n",
      "Scientists 1\n",
      "'Cut 1\n",
      "inventory 1\n",
      "Maybe 1\n",
      "Something 1\n",
      "did 1\n",
      "suspected 1\n",
      "shutdown 1\n",
      "lost 1\n",
      "cube 1\n",
      "anything 1\n",
      "explain 1\n",
      "kernel 1\n",
      "events 1\n",
      "Noodles 1\n",
      "him. 1\n",
      "after 1\n",
      "dinner 1\n",
      "hacker 1\n",
      "itself. 1\n",
      "original 1\n",
      "15th 1\n",
      "only 1\n",
      "bench 1\n",
      "atmosphere. 1\n",
      "to. 1\n",
      "science 1\n",
      "Artcontrol. 1\n",
      "location. 1\n",
      "humankind. 1\n",
      "studied 1\n",
      "wife 1\n",
      "am 1\n",
      "ages 1\n",
      "enough 1\n",
      "talk', 1\n",
      "27 1\n",
      "Destination 1\n",
      "earth. 1\n",
      "gathered. 1\n",
      "exiting 1\n",
      "board. 1\n",
      "We 1\n",
      "on. 1\n",
      "suit 1\n",
      "needed 1\n",
      "eyes 1\n",
      "ever 1\n",
      "focused 1\n",
      "clothes 1\n",
      "connect 1\n",
      "door 1\n",
      "spotted 1\n",
      "pods 1\n",
      "fine', 1\n",
      "Mary 1\n",
      "instead 1\n",
      "risk 1\n",
      "up. 1\n",
      "Danny 1\n",
      "radio-signal 1\n",
      "this. 1\n",
      "strange 1\n",
      "started', 1\n",
      "activated 1\n",
      "across 1\n",
      "speed 1\n",
      "stood 1\n",
      "transmission 1\n",
      "still 1\n",
      "dangerous 1\n",
      "time 1\n",
      "information. 1\n",
      "which 1\n",
      "ArtControl. 1\n",
      "recover 1\n",
      "their 1\n",
      "herself 1\n",
      "heard 1\n",
      "just, 1\n",
      "backup 1\n",
      "loaded, 1\n",
      "hungry, 1\n",
      "'More 1\n",
      "Currently 1\n",
      "belonged 1\n",
      "then', 1\n",
      "head 1\n",
      "perfect 1\n",
      "distance 1\n",
      "allowed 1\n",
      "care 1\n",
      "recent 1\n",
      "As 1\n",
      "cook. 1\n",
      "pod\". 1\n",
      "mess. 1\n",
      "that, 1\n",
      "support 1\n",
      "shred 1\n",
      "gotten 1\n",
      "20 1\n",
      "slow 1\n",
      "used 1\n",
      "let 1\n",
      "door. 1\n",
      "closes 1\n",
      "surface. 1\n",
      "problem?', 1\n",
      "depree 1\n",
      "last 1\n",
      "meters 1\n",
      "chairs. 1\n",
      "sort 1\n",
      "out'. 1\n",
      "choice. 1\n",
      "supply 1\n",
      "update' 1\n",
      "alien 1\n",
      "effects 1\n"
     ]
    }
   ],
   "source": [
    "def main():\n",
    "    #use open() for opening file.\n",
    "    #Always use `with` statement as it'll automatically close the file for you.\n",
    "    with open(r'/home/wcmckee/Downloads/writersden/posts/nanowrimo15-day2.rst') as f:\n",
    "        #create a list of all words fetched from the file using a list comprehension\n",
    "        words = [word for line in f for word in line.split()]\n",
    "        print (\"The total word count is:\", len(words))\n",
    "        wcdic.update({'wordcount' : len(words)})\n",
    "        alwords.update({'test':words})\n",
    "        #now use collections.Counter\n",
    "        c = Counter(words)\n",
    "        for word, count in c.most_common():\n",
    "           print (word, count)\n",
    "           dayil.update({word : count})\n",
    "main()"
   ]
  },
  {
   "cell_type": "code",
   "execution_count": 136,
   "metadata": {
    "collapsed": false
   },
   "outputs": [
    {
     "data": {
      "text/plain": [
       "{'wordcount': 1446}"
      ]
     },
     "execution_count": 136,
     "metadata": {},
     "output_type": "execute_result"
    }
   ],
   "source": [
    "wcdic"
   ]
  },
  {
   "cell_type": "markdown",
   "metadata": {},
   "source": [
    "aspell check"
   ]
  },
  {
   "cell_type": "code",
   "execution_count": 137,
   "metadata": {
    "collapsed": false
   },
   "outputs": [],
   "source": [
    "makedailthi = os.listdir('/home/wcmckee/Downloads/writersdenhamilton/posts/')"
   ]
  },
  {
   "cell_type": "code",
   "execution_count": 138,
   "metadata": {
    "collapsed": true
   },
   "outputs": [],
   "source": [
    "import arrow"
   ]
  },
  {
   "cell_type": "code",
   "execution_count": 139,
   "metadata": {
    "collapsed": true
   },
   "outputs": [],
   "source": [
    "artim = arrow.now()"
   ]
  },
  {
   "cell_type": "code",
   "execution_count": 140,
   "metadata": {
    "collapsed": false
   },
   "outputs": [
    {
     "data": {
      "text/plain": [
       "'01'"
      ]
     },
     "execution_count": 140,
     "metadata": {},
     "output_type": "execute_result"
    }
   ],
   "source": [
    "artim.strftime('%d')"
   ]
  },
  {
   "cell_type": "code",
   "execution_count": 141,
   "metadata": {
    "collapsed": true
   },
   "outputs": [],
   "source": [
    "daiyrst = artim.strftime('%d')\n",
    "\n",
    "yrrst = artim.strftime('%y')"
   ]
  },
  {
   "cell_type": "code",
   "execution_count": 142,
   "metadata": {
    "collapsed": false
   },
   "outputs": [
    {
     "data": {
      "text/plain": [
       "'15'"
      ]
     },
     "execution_count": 142,
     "metadata": {},
     "output_type": "execute_result"
    }
   ],
   "source": [
    "yrrst"
   ]
  },
  {
   "cell_type": "code",
   "execution_count": 143,
   "metadata": {
    "collapsed": false
   },
   "outputs": [],
   "source": [
    "fulrst = daiyrst"
   ]
  },
  {
   "cell_type": "code",
   "execution_count": 144,
   "metadata": {
    "collapsed": false
   },
   "outputs": [],
   "source": [
    "for maked in makedailthi:\n",
    "    #print(maked)\n",
    "    if ('nanowrimo') in makedailthi:\n",
    "        print(maked)"
   ]
  },
  {
   "cell_type": "code",
   "execution_count": 145,
   "metadata": {
    "collapsed": false
   },
   "outputs": [],
   "source": [
    "if ('nanwri' in makedailthi):\n",
    "    print (makedailthi)"
   ]
  },
  {
   "cell_type": "code",
   "execution_count": 146,
   "metadata": {
    "collapsed": false
   },
   "outputs": [
    {
     "name": "stdout",
     "output_type": "stream",
     "text": [
      "1\n"
     ]
    }
   ],
   "source": [
    "for its in range(1, int(daiyrst) + 1):\n",
    "    print(its)"
   ]
  },
  {
   "cell_type": "markdown",
   "metadata": {},
   "source": [
    "Swap this around - number of words as key and word as value"
   ]
  },
  {
   "cell_type": "code",
   "execution_count": 147,
   "metadata": {
    "collapsed": false
   },
   "outputs": [
    {
     "name": "stdout",
     "output_type": "stream",
     "text": [
      "capabilities\n",
      "surface\n",
      "pod\n",
      "body\n",
      "like?'\n",
      "crater\n",
      "'Sarah'\n",
      "ex-wife\n",
      "onions\n",
      "replied\n",
      "hours'\n",
      "it\n",
      "fine'\n",
      "chairs\n",
      "happened\n",
      "devastating\n",
      "showed\n",
      "headless\n",
      "replied\n",
      "old\n",
      "'confirm\n",
      "eye\n",
      "closer\n",
      "transport'\n",
      "room\n",
      "evidence\n",
      "here\n",
      "relax\n",
      "seat\n",
      "mistake\n",
      "choice\n",
      "split\n",
      "Clarkson\n",
      "atmosphere\n",
      "position\n",
      "ended\n",
      "Sarah'\n",
      "mission\n",
      "down\n",
      "display\n",
      "forward\n",
      "6b345\n",
      "Earth\n",
      "bag\n",
      "spoke\n",
      "noodles\n",
      "headset'\n",
      "cubard\n",
      "noodles'\n",
      "work\n",
      "onion'\n",
      "pod\n",
      "cabinet\n",
      "off\n",
      "Clarkson\n",
      "personal\n",
      "American'\n",
      "noticed\n",
      "years\n",
      "technology\n",
      "make\n",
      "strange\n",
      "hungry\n",
      "graphics\n",
      "him\n",
      "booted\n",
      "report\n",
      "server\n",
      "Control\n",
      "blasted\n",
      "remarked\n",
      "away\n",
      "detail'\n",
      "Artcontrol\n",
      "mic\n",
      "please'\n",
      "'Sarah\n",
      "off\n",
      "around\n",
      "failed\n",
      "machine\n",
      "displayed\n",
      "deleted\n",
      "site\n",
      "transport\n",
      "started'\n",
      "important\n",
      "starving\n",
      "seat'\n",
      "lines\n",
      "transport\n",
      "developer'\n",
      "still\n",
      "showered\n",
      "this\n",
      "begin'\n",
      "asked\n",
      "herself\n",
      "Antony\n",
      "control'\n",
      "pen\n",
      "itself\n",
      "capsule\n",
      "to\n",
      "fine\n",
      "location\n",
      "humankind\n",
      "control\n",
      "talk'\n",
      "sitting\n",
      "earth\n",
      "door\n",
      "board\n",
      "on\n",
      "herself\n",
      "problem?'\n",
      "moon\n",
      "up\n",
      "buggy\n",
      "out'\n",
      "headset\n",
      "information\n",
      "ArtControl\n",
      "ear\n",
      "just\n",
      "loaded\n",
      "then'\n",
      "you'\n",
      "Sarah\n",
      "explosion\n",
      "cook\n",
      "mess\n",
      "that\n",
      "transmit\n",
      "pod\"\n",
      "gathered\n",
      "seconds\n",
      "out\n",
      "17\n"
     ]
    }
   ],
   "source": [
    "for dakey in dayil.keys():\n",
    "    if ',' in dakey: \n",
    "        print(dakey.replace(',', ''))\n",
    "    elif '.' in dakey:\n",
    "        print(dakey.replace('.', ''))"
   ]
  },
  {
   "cell_type": "markdown",
   "metadata": {},
   "source": [
    "How many single words in the file? \n",
    "\n",
    "Script to edit. Find and replace certain words/pharses.\n",
    "\n",
    "Keylog whatever you type\n",
    "\n",
    "Report generatored at midnight that summery of days writing."
   ]
  },
  {
   "cell_type": "code",
   "execution_count": 148,
   "metadata": {
    "collapsed": true
   },
   "outputs": [],
   "source": [
    "plusonev = list()"
   ]
  },
  {
   "cell_type": "code",
   "execution_count": 149,
   "metadata": {
    "collapsed": true
   },
   "outputs": [],
   "source": [
    "isonep = list()"
   ]
  },
  {
   "cell_type": "code",
   "execution_count": 150,
   "metadata": {
    "collapsed": false
   },
   "outputs": [
    {
     "name": "stdout",
     "output_type": "stream",
     "text": [
      "2\n",
      "2\n",
      "2\n",
      "4\n",
      "2\n",
      "4\n",
      "7\n",
      "5\n",
      "3\n",
      "5\n",
      "4\n",
      "11\n",
      "2\n",
      "13\n",
      "8\n",
      "12\n",
      "4\n",
      "2\n",
      "18\n",
      "3\n",
      "3\n",
      "16\n",
      "3\n",
      "2\n",
      "10\n",
      "4\n",
      "2\n",
      "2\n",
      "4\n",
      "2\n",
      "8\n",
      "3\n",
      "14\n",
      "3\n",
      "3\n",
      "18\n",
      "23\n",
      "2\n",
      "3\n",
      "3\n",
      "2\n",
      "5\n",
      "2\n",
      "2\n",
      "2\n",
      "3\n",
      "2\n",
      "16\n",
      "2\n",
      "5\n",
      "5\n",
      "2\n",
      "3\n",
      "29\n",
      "2\n",
      "2\n",
      "2\n",
      "10\n",
      "3\n",
      "9\n",
      "6\n",
      "2\n",
      "2\n",
      "5\n",
      "4\n",
      "23\n",
      "2\n",
      "2\n",
      "3\n",
      "2\n",
      "5\n",
      "3\n",
      "4\n",
      "2\n",
      "3\n",
      "8\n",
      "21\n",
      "2\n",
      "2\n",
      "8\n",
      "2\n",
      "2\n",
      "58\n",
      "2\n",
      "4\n",
      "4\n",
      "2\n",
      "6\n",
      "2\n",
      "8\n",
      "2\n",
      "4\n",
      "34\n",
      "2\n",
      "4\n",
      "4\n",
      "2\n",
      "2\n",
      "2\n",
      "6\n",
      "2\n",
      "2\n",
      "9\n",
      "7\n",
      "10\n",
      "104\n",
      "3\n",
      "3\n",
      "9\n",
      "2\n",
      "5\n",
      "12\n",
      "2\n",
      "2\n",
      "2\n",
      "2\n",
      "2\n",
      "2\n",
      "3\n",
      "2\n",
      "2\n",
      "6\n",
      "3\n",
      "4\n",
      "3\n",
      "2\n",
      "3\n",
      "3\n",
      "2\n",
      "3\n",
      "2\n",
      "5\n",
      "6\n",
      "3\n",
      "2\n",
      "2\n",
      "5\n",
      "2\n",
      "4\n",
      "4\n",
      "3\n",
      "9\n",
      "2\n",
      "2\n",
      "5\n",
      "3\n",
      "3\n",
      "3\n",
      "2\n",
      "12\n",
      "11\n",
      "2\n",
      "2\n",
      "3\n",
      "2\n",
      "4\n",
      "2\n",
      "2\n",
      "4\n",
      "3\n",
      "4\n",
      "2\n",
      "2\n",
      "2\n",
      "3\n",
      "3\n",
      "5\n",
      "2\n",
      "2\n",
      "2\n",
      "2\n",
      "2\n",
      "4\n",
      "2\n",
      "22\n",
      "4\n",
      "2\n",
      "2\n",
      "2\n",
      "5\n",
      "6\n"
     ]
    }
   ],
   "source": [
    "for dayi in dayil.values():\n",
    "    if dayi > 1:\n",
    "        print(dayi)\n",
    "        plusonev.append(dayi)\n",
    "    elif dayi < 2:\n",
    "        isonep.append(dayi)"
   ]
  },
  {
   "cell_type": "markdown",
   "metadata": {},
   "source": [
    "get the difference between two len"
   ]
  },
  {
   "cell_type": "code",
   "execution_count": 151,
   "metadata": {
    "collapsed": false
   },
   "outputs": [
    {
     "data": {
      "text/plain": [
       "426"
      ]
     },
     "execution_count": 151,
     "metadata": {},
     "output_type": "execute_result"
    }
   ],
   "source": [
    "len(isonep)"
   ]
  },
  {
   "cell_type": "code",
   "execution_count": 152,
   "metadata": {
    "collapsed": false
   },
   "outputs": [
    {
     "data": {
      "text/plain": [
       "181"
      ]
     },
     "execution_count": 152,
     "metadata": {},
     "output_type": "execute_result"
    }
   ],
   "source": [
    "len(plusonev)"
   ]
  },
  {
   "cell_type": "code",
   "execution_count": 157,
   "metadata": {
    "collapsed": false
   },
   "outputs": [
    {
     "data": {
      "text/plain": [
       "426"
      ]
     },
     "execution_count": 157,
     "metadata": {},
     "output_type": "execute_result"
    }
   ],
   "source": [
    "sum(isonep)"
   ]
  },
  {
   "cell_type": "code",
   "execution_count": 158,
   "metadata": {
    "collapsed": false
   },
   "outputs": [
    {
     "data": {
      "text/plain": [
       "1020"
      ]
     },
     "execution_count": 158,
     "metadata": {},
     "output_type": "execute_result"
    }
   ],
   "source": [
    "sum(plusonev)"
   ]
  },
  {
   "cell_type": "code",
   "execution_count": 159,
   "metadata": {
    "collapsed": false
   },
   "outputs": [
    {
     "data": {
      "text/plain": [
       "1446"
      ]
     },
     "execution_count": 159,
     "metadata": {},
     "output_type": "execute_result"
    }
   ],
   "source": [
    "sum(isonep) + sum(plusonev)"
   ]
  },
  {
   "cell_type": "code",
   "execution_count": 153,
   "metadata": {
    "collapsed": false
   },
   "outputs": [
    {
     "data": {
      "text/plain": [
       "['nanowrimo15-day2.rst',\n",
       " 'nanowrimo15-day8.meta',\n",
       " 'nanowrimo15-day3.meta',\n",
       " 'nanowrimo15-day1.meta',\n",
       " 'nanowrimo15-day2.meta',\n",
       " 'nanowrimo15-day10.meta',\n",
       " 'nanowrimo15-day3.rst',\n",
       " 'nanowrimo15-day8.rst',\n",
       " 'nanowrimo15-day5.rst',\n",
       " 'nanowrimo15-day6.rst',\n",
       " 'nanowrimo15-day4.meta',\n",
       " 'nanowrimo15-day9.rst',\n",
       " 'nanowrimo15-day9.meta',\n",
       " 'creativecommons.meta',\n",
       " 'prenano.meta',\n",
       " 'spikeinfosec.rst',\n",
       " 'nanowrimo15-day7.rst',\n",
       " 'nanowrimo15-day26.rst',\n",
       " 'nanowrimo15-day5.meta',\n",
       " 'nanowrimo15-day11.rst',\n",
       " 'prenano.rst',\n",
       " 'sherlock.rst',\n",
       " 'nanowrimo15-day4.rst',\n",
       " 'nanowrimo15-day1.rst',\n",
       " 'nanowrimo15-day7.meta',\n",
       " 'spikeinfosec.meta',\n",
       " 'nanowrimo15-day10.rst',\n",
       " 'creativecommons.rst',\n",
       " 'nanowrimo15-day6.meta',\n",
       " 'sherlock.meta',\n",
       " 'pinanowwrimo15-day14.rst']"
      ]
     },
     "execution_count": 153,
     "metadata": {},
     "output_type": "execute_result"
    }
   ],
   "source": [
    "makedailthi"
   ]
  },
  {
   "cell_type": "code",
   "execution_count": 154,
   "metadata": {
    "collapsed": true
   },
   "outputs": [],
   "source": [
    "import requests\n",
    "import xmltodict"
   ]
  },
  {
   "cell_type": "code",
   "execution_count": 155,
   "metadata": {
    "collapsed": false
   },
   "outputs": [
    {
     "ename": "ConnectionError",
     "evalue": "('Connection aborted.', gaierror(-2, 'Name or service not known'))",
     "output_type": "error",
     "traceback": [
      "\u001b[1;31m---------------------------------------------------------------------------\u001b[0m",
      "\u001b[1;31mgaierror\u001b[0m                                  Traceback (most recent call last)",
      "\u001b[1;32m/usr/lib/python3/dist-packages/urllib3/connectionpool.py\u001b[0m in \u001b[0;36murlopen\u001b[1;34m(self, method, url, body, headers, retries, redirect, assert_same_host, timeout, pool_timeout, release_conn, **response_kw)\u001b[0m\n\u001b[0;32m    515\u001b[0m                                                   \u001b[0mtimeout\u001b[0m\u001b[1;33m=\u001b[0m\u001b[0mtimeout\u001b[0m\u001b[1;33m,\u001b[0m\u001b[1;33m\u001b[0m\u001b[0m\n\u001b[1;32m--> 516\u001b[1;33m                                                   body=body, headers=headers)\n\u001b[0m\u001b[0;32m    517\u001b[0m \u001b[1;33m\u001b[0m\u001b[0m\n",
      "\u001b[1;32m/usr/lib/python3/dist-packages/urllib3/connectionpool.py\u001b[0m in \u001b[0;36m_make_request\u001b[1;34m(self, conn, method, url, timeout, **httplib_request_kw)\u001b[0m\n\u001b[0;32m    307\u001b[0m         \u001b[1;31m# urllib3.request. It also calls makefile (recv) on the socket.\u001b[0m\u001b[1;33m\u001b[0m\u001b[1;33m\u001b[0m\u001b[0m\n\u001b[1;32m--> 308\u001b[1;33m         \u001b[0mconn\u001b[0m\u001b[1;33m.\u001b[0m\u001b[0mrequest\u001b[0m\u001b[1;33m(\u001b[0m\u001b[0mmethod\u001b[0m\u001b[1;33m,\u001b[0m \u001b[0murl\u001b[0m\u001b[1;33m,\u001b[0m \u001b[1;33m**\u001b[0m\u001b[0mhttplib_request_kw\u001b[0m\u001b[1;33m)\u001b[0m\u001b[1;33m\u001b[0m\u001b[0m\n\u001b[0m\u001b[0;32m    309\u001b[0m \u001b[1;33m\u001b[0m\u001b[0m\n",
      "\u001b[1;32m/usr/lib/python3.4/http/client.py\u001b[0m in \u001b[0;36mrequest\u001b[1;34m(self, method, url, body, headers)\u001b[0m\n\u001b[0;32m   1089\u001b[0m         \u001b[1;34m\"\"\"Send a complete request to the server.\"\"\"\u001b[0m\u001b[1;33m\u001b[0m\u001b[0m\n\u001b[1;32m-> 1090\u001b[1;33m         \u001b[0mself\u001b[0m\u001b[1;33m.\u001b[0m\u001b[0m_send_request\u001b[0m\u001b[1;33m(\u001b[0m\u001b[0mmethod\u001b[0m\u001b[1;33m,\u001b[0m \u001b[0murl\u001b[0m\u001b[1;33m,\u001b[0m \u001b[0mbody\u001b[0m\u001b[1;33m,\u001b[0m \u001b[0mheaders\u001b[0m\u001b[1;33m)\u001b[0m\u001b[1;33m\u001b[0m\u001b[0m\n\u001b[0m\u001b[0;32m   1091\u001b[0m \u001b[1;33m\u001b[0m\u001b[0m\n",
      "\u001b[1;32m/usr/lib/python3.4/http/client.py\u001b[0m in \u001b[0;36m_send_request\u001b[1;34m(self, method, url, body, headers)\u001b[0m\n\u001b[0;32m   1127\u001b[0m             \u001b[0mbody\u001b[0m \u001b[1;33m=\u001b[0m \u001b[0mbody\u001b[0m\u001b[1;33m.\u001b[0m\u001b[0mencode\u001b[0m\u001b[1;33m(\u001b[0m\u001b[1;34m'iso-8859-1'\u001b[0m\u001b[1;33m)\u001b[0m\u001b[1;33m\u001b[0m\u001b[0m\n\u001b[1;32m-> 1128\u001b[1;33m         \u001b[0mself\u001b[0m\u001b[1;33m.\u001b[0m\u001b[0mendheaders\u001b[0m\u001b[1;33m(\u001b[0m\u001b[0mbody\u001b[0m\u001b[1;33m)\u001b[0m\u001b[1;33m\u001b[0m\u001b[0m\n\u001b[0m\u001b[0;32m   1129\u001b[0m \u001b[1;33m\u001b[0m\u001b[0m\n",
      "\u001b[1;32m/usr/lib/python3.4/http/client.py\u001b[0m in \u001b[0;36mendheaders\u001b[1;34m(self, message_body)\u001b[0m\n\u001b[0;32m   1085\u001b[0m             \u001b[1;32mraise\u001b[0m \u001b[0mCannotSendHeader\u001b[0m\u001b[1;33m(\u001b[0m\u001b[1;33m)\u001b[0m\u001b[1;33m\u001b[0m\u001b[0m\n\u001b[1;32m-> 1086\u001b[1;33m         \u001b[0mself\u001b[0m\u001b[1;33m.\u001b[0m\u001b[0m_send_output\u001b[0m\u001b[1;33m(\u001b[0m\u001b[0mmessage_body\u001b[0m\u001b[1;33m)\u001b[0m\u001b[1;33m\u001b[0m\u001b[0m\n\u001b[0m\u001b[0;32m   1087\u001b[0m \u001b[1;33m\u001b[0m\u001b[0m\n",
      "\u001b[1;32m/usr/lib/python3.4/http/client.py\u001b[0m in \u001b[0;36m_send_output\u001b[1;34m(self, message_body)\u001b[0m\n\u001b[0;32m    923\u001b[0m             \u001b[0mmessage_body\u001b[0m \u001b[1;33m=\u001b[0m \u001b[1;32mNone\u001b[0m\u001b[1;33m\u001b[0m\u001b[0m\n\u001b[1;32m--> 924\u001b[1;33m         \u001b[0mself\u001b[0m\u001b[1;33m.\u001b[0m\u001b[0msend\u001b[0m\u001b[1;33m(\u001b[0m\u001b[0mmsg\u001b[0m\u001b[1;33m)\u001b[0m\u001b[1;33m\u001b[0m\u001b[0m\n\u001b[0m\u001b[0;32m    925\u001b[0m         \u001b[1;32mif\u001b[0m \u001b[0mmessage_body\u001b[0m \u001b[1;32mis\u001b[0m \u001b[1;32mnot\u001b[0m \u001b[1;32mNone\u001b[0m\u001b[1;33m:\u001b[0m\u001b[1;33m\u001b[0m\u001b[0m\n",
      "\u001b[1;32m/usr/lib/python3.4/http/client.py\u001b[0m in \u001b[0;36msend\u001b[1;34m(self, data)\u001b[0m\n\u001b[0;32m    858\u001b[0m             \u001b[1;32mif\u001b[0m \u001b[0mself\u001b[0m\u001b[1;33m.\u001b[0m\u001b[0mauto_open\u001b[0m\u001b[1;33m:\u001b[0m\u001b[1;33m\u001b[0m\u001b[0m\n\u001b[1;32m--> 859\u001b[1;33m                 \u001b[0mself\u001b[0m\u001b[1;33m.\u001b[0m\u001b[0mconnect\u001b[0m\u001b[1;33m(\u001b[0m\u001b[1;33m)\u001b[0m\u001b[1;33m\u001b[0m\u001b[0m\n\u001b[0m\u001b[0;32m    860\u001b[0m             \u001b[1;32melse\u001b[0m\u001b[1;33m:\u001b[0m\u001b[1;33m\u001b[0m\u001b[0m\n",
      "\u001b[1;32m/usr/lib/python3/dist-packages/urllib3/connection.py\u001b[0m in \u001b[0;36mconnect\u001b[1;34m(self)\u001b[0m\n\u001b[0;32m    153\u001b[0m     \u001b[1;32mdef\u001b[0m \u001b[0mconnect\u001b[0m\u001b[1;33m(\u001b[0m\u001b[0mself\u001b[0m\u001b[1;33m)\u001b[0m\u001b[1;33m:\u001b[0m\u001b[1;33m\u001b[0m\u001b[0m\n\u001b[1;32m--> 154\u001b[1;33m         \u001b[0mconn\u001b[0m \u001b[1;33m=\u001b[0m \u001b[0mself\u001b[0m\u001b[1;33m.\u001b[0m\u001b[0m_new_conn\u001b[0m\u001b[1;33m(\u001b[0m\u001b[1;33m)\u001b[0m\u001b[1;33m\u001b[0m\u001b[0m\n\u001b[0m\u001b[0;32m    155\u001b[0m         \u001b[0mself\u001b[0m\u001b[1;33m.\u001b[0m\u001b[0m_prepare_conn\u001b[0m\u001b[1;33m(\u001b[0m\u001b[0mconn\u001b[0m\u001b[1;33m)\u001b[0m\u001b[1;33m\u001b[0m\u001b[0m\n",
      "\u001b[1;32m/usr/lib/python3/dist-packages/urllib3/connection.py\u001b[0m in \u001b[0;36m_new_conn\u001b[1;34m(self)\u001b[0m\n\u001b[0;32m    132\u001b[0m             conn = connection.create_connection(\n\u001b[1;32m--> 133\u001b[1;33m                 (self.host, self.port), self.timeout, **extra_kw)\n\u001b[0m\u001b[0;32m    134\u001b[0m \u001b[1;33m\u001b[0m\u001b[0m\n",
      "\u001b[1;32m/usr/lib/python3/dist-packages/urllib3/util/connection.py\u001b[0m in \u001b[0;36mcreate_connection\u001b[1;34m(address, timeout, source_address, socket_options)\u001b[0m\n\u001b[0;32m     63\u001b[0m     \u001b[0merr\u001b[0m \u001b[1;33m=\u001b[0m \u001b[1;32mNone\u001b[0m\u001b[1;33m\u001b[0m\u001b[0m\n\u001b[1;32m---> 64\u001b[1;33m     \u001b[1;32mfor\u001b[0m \u001b[0mres\u001b[0m \u001b[1;32min\u001b[0m \u001b[0msocket\u001b[0m\u001b[1;33m.\u001b[0m\u001b[0mgetaddrinfo\u001b[0m\u001b[1;33m(\u001b[0m\u001b[0mhost\u001b[0m\u001b[1;33m,\u001b[0m \u001b[0mport\u001b[0m\u001b[1;33m,\u001b[0m \u001b[1;36m0\u001b[0m\u001b[1;33m,\u001b[0m \u001b[0msocket\u001b[0m\u001b[1;33m.\u001b[0m\u001b[0mSOCK_STREAM\u001b[0m\u001b[1;33m)\u001b[0m\u001b[1;33m:\u001b[0m\u001b[1;33m\u001b[0m\u001b[0m\n\u001b[0m\u001b[0;32m     65\u001b[0m         \u001b[0maf\u001b[0m\u001b[1;33m,\u001b[0m \u001b[0msocktype\u001b[0m\u001b[1;33m,\u001b[0m \u001b[0mproto\u001b[0m\u001b[1;33m,\u001b[0m \u001b[0mcanonname\u001b[0m\u001b[1;33m,\u001b[0m \u001b[0msa\u001b[0m \u001b[1;33m=\u001b[0m \u001b[0mres\u001b[0m\u001b[1;33m\u001b[0m\u001b[0m\n",
      "\u001b[1;32m/usr/lib/python3.4/socket.py\u001b[0m in \u001b[0;36mgetaddrinfo\u001b[1;34m(host, port, family, type, proto, flags)\u001b[0m\n\u001b[0;32m    529\u001b[0m     \u001b[0maddrlist\u001b[0m \u001b[1;33m=\u001b[0m \u001b[1;33m[\u001b[0m\u001b[1;33m]\u001b[0m\u001b[1;33m\u001b[0m\u001b[0m\n\u001b[1;32m--> 530\u001b[1;33m     \u001b[1;32mfor\u001b[0m \u001b[0mres\u001b[0m \u001b[1;32min\u001b[0m \u001b[0m_socket\u001b[0m\u001b[1;33m.\u001b[0m\u001b[0mgetaddrinfo\u001b[0m\u001b[1;33m(\u001b[0m\u001b[0mhost\u001b[0m\u001b[1;33m,\u001b[0m \u001b[0mport\u001b[0m\u001b[1;33m,\u001b[0m \u001b[0mfamily\u001b[0m\u001b[1;33m,\u001b[0m \u001b[0mtype\u001b[0m\u001b[1;33m,\u001b[0m \u001b[0mproto\u001b[0m\u001b[1;33m,\u001b[0m \u001b[0mflags\u001b[0m\u001b[1;33m)\u001b[0m\u001b[1;33m:\u001b[0m\u001b[1;33m\u001b[0m\u001b[0m\n\u001b[0m\u001b[0;32m    531\u001b[0m         \u001b[0maf\u001b[0m\u001b[1;33m,\u001b[0m \u001b[0msocktype\u001b[0m\u001b[1;33m,\u001b[0m \u001b[0mproto\u001b[0m\u001b[1;33m,\u001b[0m \u001b[0mcanonname\u001b[0m\u001b[1;33m,\u001b[0m \u001b[0msa\u001b[0m \u001b[1;33m=\u001b[0m \u001b[0mres\u001b[0m\u001b[1;33m\u001b[0m\u001b[0m\n",
      "\u001b[1;31mgaierror\u001b[0m: [Errno -2] Name or service not known",
      "\nDuring handling of the above exception, another exception occurred:\n",
      "\u001b[1;31mProtocolError\u001b[0m                             Traceback (most recent call last)",
      "\u001b[1;32m/usr/lib/python3/dist-packages/requests/adapters.py\u001b[0m in \u001b[0;36msend\u001b[1;34m(self, request, stream, timeout, verify, cert, proxies)\u001b[0m\n\u001b[0;32m    361\u001b[0m                     \u001b[0mretries\u001b[0m\u001b[1;33m=\u001b[0m\u001b[0mRetry\u001b[0m\u001b[1;33m(\u001b[0m\u001b[0mself\u001b[0m\u001b[1;33m.\u001b[0m\u001b[0mmax_retries\u001b[0m\u001b[1;33m,\u001b[0m \u001b[0mread\u001b[0m\u001b[1;33m=\u001b[0m\u001b[1;32mFalse\u001b[0m\u001b[1;33m)\u001b[0m\u001b[1;33m,\u001b[0m\u001b[1;33m\u001b[0m\u001b[0m\n\u001b[1;32m--> 362\u001b[1;33m                     \u001b[0mtimeout\u001b[0m\u001b[1;33m=\u001b[0m\u001b[0mtimeout\u001b[0m\u001b[1;33m\u001b[0m\u001b[0m\n\u001b[0m\u001b[0;32m    363\u001b[0m                 )\n",
      "\u001b[1;32m/usr/lib/python3/dist-packages/urllib3/connectionpool.py\u001b[0m in \u001b[0;36murlopen\u001b[1;34m(self, method, url, body, headers, retries, redirect, assert_same_host, timeout, pool_timeout, release_conn, **response_kw)\u001b[0m\n\u001b[0;32m    558\u001b[0m             retries = retries.increment(method, url, error=e,\n\u001b[1;32m--> 559\u001b[1;33m                                         _pool=self, _stacktrace=stacktrace)\n\u001b[0m\u001b[0;32m    560\u001b[0m             \u001b[0mretries\u001b[0m\u001b[1;33m.\u001b[0m\u001b[0msleep\u001b[0m\u001b[1;33m(\u001b[0m\u001b[1;33m)\u001b[0m\u001b[1;33m\u001b[0m\u001b[0m\n",
      "\u001b[1;32m/usr/lib/python3/dist-packages/urllib3/util/retry.py\u001b[0m in \u001b[0;36mincrement\u001b[1;34m(self, method, url, response, error, _pool, _stacktrace)\u001b[0m\n\u001b[0;32m    244\u001b[0m             \u001b[1;32mif\u001b[0m \u001b[0mread\u001b[0m \u001b[1;32mis\u001b[0m \u001b[1;32mFalse\u001b[0m\u001b[1;33m:\u001b[0m\u001b[1;33m\u001b[0m\u001b[0m\n\u001b[1;32m--> 245\u001b[1;33m                 \u001b[1;32mraise\u001b[0m \u001b[0msix\u001b[0m\u001b[1;33m.\u001b[0m\u001b[0mreraise\u001b[0m\u001b[1;33m(\u001b[0m\u001b[0mtype\u001b[0m\u001b[1;33m(\u001b[0m\u001b[0merror\u001b[0m\u001b[1;33m)\u001b[0m\u001b[1;33m,\u001b[0m \u001b[0merror\u001b[0m\u001b[1;33m,\u001b[0m \u001b[0m_stacktrace\u001b[0m\u001b[1;33m)\u001b[0m\u001b[1;33m\u001b[0m\u001b[0m\n\u001b[0m\u001b[0;32m    246\u001b[0m             \u001b[1;32melif\u001b[0m \u001b[0mread\u001b[0m \u001b[1;32mis\u001b[0m \u001b[1;32mnot\u001b[0m \u001b[1;32mNone\u001b[0m\u001b[1;33m:\u001b[0m\u001b[1;33m\u001b[0m\u001b[0m\n",
      "\u001b[1;32m/usr/lib/python3/dist-packages/six.py\u001b[0m in \u001b[0;36mreraise\u001b[1;34m(tp, value, tb)\u001b[0m\n\u001b[0;32m    623\u001b[0m         \u001b[1;32mif\u001b[0m \u001b[0mvalue\u001b[0m\u001b[1;33m.\u001b[0m\u001b[0m__traceback__\u001b[0m \u001b[1;32mis\u001b[0m \u001b[1;32mnot\u001b[0m \u001b[0mtb\u001b[0m\u001b[1;33m:\u001b[0m\u001b[1;33m\u001b[0m\u001b[0m\n\u001b[1;32m--> 624\u001b[1;33m             \u001b[1;32mraise\u001b[0m \u001b[0mvalue\u001b[0m\u001b[1;33m.\u001b[0m\u001b[0mwith_traceback\u001b[0m\u001b[1;33m(\u001b[0m\u001b[0mtb\u001b[0m\u001b[1;33m)\u001b[0m\u001b[1;33m\u001b[0m\u001b[0m\n\u001b[0m\u001b[0;32m    625\u001b[0m         \u001b[1;32mraise\u001b[0m \u001b[0mvalue\u001b[0m\u001b[1;33m\u001b[0m\u001b[0m\n",
      "\u001b[1;32m/usr/lib/python3/dist-packages/urllib3/connectionpool.py\u001b[0m in \u001b[0;36murlopen\u001b[1;34m(self, method, url, body, headers, retries, redirect, assert_same_host, timeout, pool_timeout, release_conn, **response_kw)\u001b[0m\n\u001b[0;32m    515\u001b[0m                                                   \u001b[0mtimeout\u001b[0m\u001b[1;33m=\u001b[0m\u001b[0mtimeout\u001b[0m\u001b[1;33m,\u001b[0m\u001b[1;33m\u001b[0m\u001b[0m\n\u001b[1;32m--> 516\u001b[1;33m                                                   body=body, headers=headers)\n\u001b[0m\u001b[0;32m    517\u001b[0m \u001b[1;33m\u001b[0m\u001b[0m\n",
      "\u001b[1;32m/usr/lib/python3/dist-packages/urllib3/connectionpool.py\u001b[0m in \u001b[0;36m_make_request\u001b[1;34m(self, conn, method, url, timeout, **httplib_request_kw)\u001b[0m\n\u001b[0;32m    307\u001b[0m         \u001b[1;31m# urllib3.request. It also calls makefile (recv) on the socket.\u001b[0m\u001b[1;33m\u001b[0m\u001b[1;33m\u001b[0m\u001b[0m\n\u001b[1;32m--> 308\u001b[1;33m         \u001b[0mconn\u001b[0m\u001b[1;33m.\u001b[0m\u001b[0mrequest\u001b[0m\u001b[1;33m(\u001b[0m\u001b[0mmethod\u001b[0m\u001b[1;33m,\u001b[0m \u001b[0murl\u001b[0m\u001b[1;33m,\u001b[0m \u001b[1;33m**\u001b[0m\u001b[0mhttplib_request_kw\u001b[0m\u001b[1;33m)\u001b[0m\u001b[1;33m\u001b[0m\u001b[0m\n\u001b[0m\u001b[0;32m    309\u001b[0m \u001b[1;33m\u001b[0m\u001b[0m\n",
      "\u001b[1;32m/usr/lib/python3.4/http/client.py\u001b[0m in \u001b[0;36mrequest\u001b[1;34m(self, method, url, body, headers)\u001b[0m\n\u001b[0;32m   1089\u001b[0m         \u001b[1;34m\"\"\"Send a complete request to the server.\"\"\"\u001b[0m\u001b[1;33m\u001b[0m\u001b[0m\n\u001b[1;32m-> 1090\u001b[1;33m         \u001b[0mself\u001b[0m\u001b[1;33m.\u001b[0m\u001b[0m_send_request\u001b[0m\u001b[1;33m(\u001b[0m\u001b[0mmethod\u001b[0m\u001b[1;33m,\u001b[0m \u001b[0murl\u001b[0m\u001b[1;33m,\u001b[0m \u001b[0mbody\u001b[0m\u001b[1;33m,\u001b[0m \u001b[0mheaders\u001b[0m\u001b[1;33m)\u001b[0m\u001b[1;33m\u001b[0m\u001b[0m\n\u001b[0m\u001b[0;32m   1091\u001b[0m \u001b[1;33m\u001b[0m\u001b[0m\n",
      "\u001b[1;32m/usr/lib/python3.4/http/client.py\u001b[0m in \u001b[0;36m_send_request\u001b[1;34m(self, method, url, body, headers)\u001b[0m\n\u001b[0;32m   1127\u001b[0m             \u001b[0mbody\u001b[0m \u001b[1;33m=\u001b[0m \u001b[0mbody\u001b[0m\u001b[1;33m.\u001b[0m\u001b[0mencode\u001b[0m\u001b[1;33m(\u001b[0m\u001b[1;34m'iso-8859-1'\u001b[0m\u001b[1;33m)\u001b[0m\u001b[1;33m\u001b[0m\u001b[0m\n\u001b[1;32m-> 1128\u001b[1;33m         \u001b[0mself\u001b[0m\u001b[1;33m.\u001b[0m\u001b[0mendheaders\u001b[0m\u001b[1;33m(\u001b[0m\u001b[0mbody\u001b[0m\u001b[1;33m)\u001b[0m\u001b[1;33m\u001b[0m\u001b[0m\n\u001b[0m\u001b[0;32m   1129\u001b[0m \u001b[1;33m\u001b[0m\u001b[0m\n",
      "\u001b[1;32m/usr/lib/python3.4/http/client.py\u001b[0m in \u001b[0;36mendheaders\u001b[1;34m(self, message_body)\u001b[0m\n\u001b[0;32m   1085\u001b[0m             \u001b[1;32mraise\u001b[0m \u001b[0mCannotSendHeader\u001b[0m\u001b[1;33m(\u001b[0m\u001b[1;33m)\u001b[0m\u001b[1;33m\u001b[0m\u001b[0m\n\u001b[1;32m-> 1086\u001b[1;33m         \u001b[0mself\u001b[0m\u001b[1;33m.\u001b[0m\u001b[0m_send_output\u001b[0m\u001b[1;33m(\u001b[0m\u001b[0mmessage_body\u001b[0m\u001b[1;33m)\u001b[0m\u001b[1;33m\u001b[0m\u001b[0m\n\u001b[0m\u001b[0;32m   1087\u001b[0m \u001b[1;33m\u001b[0m\u001b[0m\n",
      "\u001b[1;32m/usr/lib/python3.4/http/client.py\u001b[0m in \u001b[0;36m_send_output\u001b[1;34m(self, message_body)\u001b[0m\n\u001b[0;32m    923\u001b[0m             \u001b[0mmessage_body\u001b[0m \u001b[1;33m=\u001b[0m \u001b[1;32mNone\u001b[0m\u001b[1;33m\u001b[0m\u001b[0m\n\u001b[1;32m--> 924\u001b[1;33m         \u001b[0mself\u001b[0m\u001b[1;33m.\u001b[0m\u001b[0msend\u001b[0m\u001b[1;33m(\u001b[0m\u001b[0mmsg\u001b[0m\u001b[1;33m)\u001b[0m\u001b[1;33m\u001b[0m\u001b[0m\n\u001b[0m\u001b[0;32m    925\u001b[0m         \u001b[1;32mif\u001b[0m \u001b[0mmessage_body\u001b[0m \u001b[1;32mis\u001b[0m \u001b[1;32mnot\u001b[0m \u001b[1;32mNone\u001b[0m\u001b[1;33m:\u001b[0m\u001b[1;33m\u001b[0m\u001b[0m\n",
      "\u001b[1;32m/usr/lib/python3.4/http/client.py\u001b[0m in \u001b[0;36msend\u001b[1;34m(self, data)\u001b[0m\n\u001b[0;32m    858\u001b[0m             \u001b[1;32mif\u001b[0m \u001b[0mself\u001b[0m\u001b[1;33m.\u001b[0m\u001b[0mauto_open\u001b[0m\u001b[1;33m:\u001b[0m\u001b[1;33m\u001b[0m\u001b[0m\n\u001b[1;32m--> 859\u001b[1;33m                 \u001b[0mself\u001b[0m\u001b[1;33m.\u001b[0m\u001b[0mconnect\u001b[0m\u001b[1;33m(\u001b[0m\u001b[1;33m)\u001b[0m\u001b[1;33m\u001b[0m\u001b[0m\n\u001b[0m\u001b[0;32m    860\u001b[0m             \u001b[1;32melse\u001b[0m\u001b[1;33m:\u001b[0m\u001b[1;33m\u001b[0m\u001b[0m\n",
      "\u001b[1;32m/usr/lib/python3/dist-packages/urllib3/connection.py\u001b[0m in \u001b[0;36mconnect\u001b[1;34m(self)\u001b[0m\n\u001b[0;32m    153\u001b[0m     \u001b[1;32mdef\u001b[0m \u001b[0mconnect\u001b[0m\u001b[1;33m(\u001b[0m\u001b[0mself\u001b[0m\u001b[1;33m)\u001b[0m\u001b[1;33m:\u001b[0m\u001b[1;33m\u001b[0m\u001b[0m\n\u001b[1;32m--> 154\u001b[1;33m         \u001b[0mconn\u001b[0m \u001b[1;33m=\u001b[0m \u001b[0mself\u001b[0m\u001b[1;33m.\u001b[0m\u001b[0m_new_conn\u001b[0m\u001b[1;33m(\u001b[0m\u001b[1;33m)\u001b[0m\u001b[1;33m\u001b[0m\u001b[0m\n\u001b[0m\u001b[0;32m    155\u001b[0m         \u001b[0mself\u001b[0m\u001b[1;33m.\u001b[0m\u001b[0m_prepare_conn\u001b[0m\u001b[1;33m(\u001b[0m\u001b[0mconn\u001b[0m\u001b[1;33m)\u001b[0m\u001b[1;33m\u001b[0m\u001b[0m\n",
      "\u001b[1;32m/usr/lib/python3/dist-packages/urllib3/connection.py\u001b[0m in \u001b[0;36m_new_conn\u001b[1;34m(self)\u001b[0m\n\u001b[0;32m    132\u001b[0m             conn = connection.create_connection(\n\u001b[1;32m--> 133\u001b[1;33m                 (self.host, self.port), self.timeout, **extra_kw)\n\u001b[0m\u001b[0;32m    134\u001b[0m \u001b[1;33m\u001b[0m\u001b[0m\n",
      "\u001b[1;32m/usr/lib/python3/dist-packages/urllib3/util/connection.py\u001b[0m in \u001b[0;36mcreate_connection\u001b[1;34m(address, timeout, source_address, socket_options)\u001b[0m\n\u001b[0;32m     63\u001b[0m     \u001b[0merr\u001b[0m \u001b[1;33m=\u001b[0m \u001b[1;32mNone\u001b[0m\u001b[1;33m\u001b[0m\u001b[0m\n\u001b[1;32m---> 64\u001b[1;33m     \u001b[1;32mfor\u001b[0m \u001b[0mres\u001b[0m \u001b[1;32min\u001b[0m \u001b[0msocket\u001b[0m\u001b[1;33m.\u001b[0m\u001b[0mgetaddrinfo\u001b[0m\u001b[1;33m(\u001b[0m\u001b[0mhost\u001b[0m\u001b[1;33m,\u001b[0m \u001b[0mport\u001b[0m\u001b[1;33m,\u001b[0m \u001b[1;36m0\u001b[0m\u001b[1;33m,\u001b[0m \u001b[0msocket\u001b[0m\u001b[1;33m.\u001b[0m\u001b[0mSOCK_STREAM\u001b[0m\u001b[1;33m)\u001b[0m\u001b[1;33m:\u001b[0m\u001b[1;33m\u001b[0m\u001b[0m\n\u001b[0m\u001b[0;32m     65\u001b[0m         \u001b[0maf\u001b[0m\u001b[1;33m,\u001b[0m \u001b[0msocktype\u001b[0m\u001b[1;33m,\u001b[0m \u001b[0mproto\u001b[0m\u001b[1;33m,\u001b[0m \u001b[0mcanonname\u001b[0m\u001b[1;33m,\u001b[0m \u001b[0msa\u001b[0m \u001b[1;33m=\u001b[0m \u001b[0mres\u001b[0m\u001b[1;33m\u001b[0m\u001b[0m\n",
      "\u001b[1;32m/usr/lib/python3.4/socket.py\u001b[0m in \u001b[0;36mgetaddrinfo\u001b[1;34m(host, port, family, type, proto, flags)\u001b[0m\n\u001b[0;32m    529\u001b[0m     \u001b[0maddrlist\u001b[0m \u001b[1;33m=\u001b[0m \u001b[1;33m[\u001b[0m\u001b[1;33m]\u001b[0m\u001b[1;33m\u001b[0m\u001b[0m\n\u001b[1;32m--> 530\u001b[1;33m     \u001b[1;32mfor\u001b[0m \u001b[0mres\u001b[0m \u001b[1;32min\u001b[0m \u001b[0m_socket\u001b[0m\u001b[1;33m.\u001b[0m\u001b[0mgetaddrinfo\u001b[0m\u001b[1;33m(\u001b[0m\u001b[0mhost\u001b[0m\u001b[1;33m,\u001b[0m \u001b[0mport\u001b[0m\u001b[1;33m,\u001b[0m \u001b[0mfamily\u001b[0m\u001b[1;33m,\u001b[0m \u001b[0mtype\u001b[0m\u001b[1;33m,\u001b[0m \u001b[0mproto\u001b[0m\u001b[1;33m,\u001b[0m \u001b[0mflags\u001b[0m\u001b[1;33m)\u001b[0m\u001b[1;33m:\u001b[0m\u001b[1;33m\u001b[0m\u001b[0m\n\u001b[0m\u001b[0;32m    531\u001b[0m         \u001b[0maf\u001b[0m\u001b[1;33m,\u001b[0m \u001b[0msocktype\u001b[0m\u001b[1;33m,\u001b[0m \u001b[0mproto\u001b[0m\u001b[1;33m,\u001b[0m \u001b[0mcanonname\u001b[0m\u001b[1;33m,\u001b[0m \u001b[0msa\u001b[0m \u001b[1;33m=\u001b[0m \u001b[0mres\u001b[0m\u001b[1;33m\u001b[0m\u001b[0m\n",
      "\u001b[1;31mProtocolError\u001b[0m: ('Connection aborted.', gaierror(-2, 'Name or service not known'))",
      "\nDuring handling of the above exception, another exception occurred:\n",
      "\u001b[1;31mConnectionError\u001b[0m                           Traceback (most recent call last)",
      "\u001b[1;32m<ipython-input-155-d59d0326a1d2>\u001b[0m in \u001b[0;36m<module>\u001b[1;34m()\u001b[0m\n\u001b[1;32m----> 1\u001b[1;33m \u001b[0mreqartc\u001b[0m \u001b[1;33m=\u001b[0m \u001b[0mrequests\u001b[0m\u001b[1;33m.\u001b[0m\u001b[0mget\u001b[0m\u001b[1;33m(\u001b[0m\u001b[1;34m'http://nanowrimo.org/wordcount_api/wchistory/artctrl'\u001b[0m\u001b[1;33m)\u001b[0m\u001b[1;33m\u001b[0m\u001b[0m\n\u001b[0m",
      "\u001b[1;32m/usr/lib/python3/dist-packages/requests/api.py\u001b[0m in \u001b[0;36mget\u001b[1;34m(url, **kwargs)\u001b[0m\n\u001b[0;32m     58\u001b[0m \u001b[1;33m\u001b[0m\u001b[0m\n\u001b[0;32m     59\u001b[0m     \u001b[0mkwargs\u001b[0m\u001b[1;33m.\u001b[0m\u001b[0msetdefault\u001b[0m\u001b[1;33m(\u001b[0m\u001b[1;34m'allow_redirects'\u001b[0m\u001b[1;33m,\u001b[0m \u001b[1;32mTrue\u001b[0m\u001b[1;33m)\u001b[0m\u001b[1;33m\u001b[0m\u001b[0m\n\u001b[1;32m---> 60\u001b[1;33m     \u001b[1;32mreturn\u001b[0m \u001b[0mrequest\u001b[0m\u001b[1;33m(\u001b[0m\u001b[1;34m'get'\u001b[0m\u001b[1;33m,\u001b[0m \u001b[0murl\u001b[0m\u001b[1;33m,\u001b[0m \u001b[1;33m**\u001b[0m\u001b[0mkwargs\u001b[0m\u001b[1;33m)\u001b[0m\u001b[1;33m\u001b[0m\u001b[0m\n\u001b[0m\u001b[0;32m     61\u001b[0m \u001b[1;33m\u001b[0m\u001b[0m\n\u001b[0;32m     62\u001b[0m \u001b[1;33m\u001b[0m\u001b[0m\n",
      "\u001b[1;32m/usr/lib/python3/dist-packages/requests/api.py\u001b[0m in \u001b[0;36mrequest\u001b[1;34m(method, url, **kwargs)\u001b[0m\n\u001b[0;32m     47\u001b[0m \u001b[1;33m\u001b[0m\u001b[0m\n\u001b[0;32m     48\u001b[0m     \u001b[0msession\u001b[0m \u001b[1;33m=\u001b[0m \u001b[0msessions\u001b[0m\u001b[1;33m.\u001b[0m\u001b[0mSession\u001b[0m\u001b[1;33m(\u001b[0m\u001b[1;33m)\u001b[0m\u001b[1;33m\u001b[0m\u001b[0m\n\u001b[1;32m---> 49\u001b[1;33m     \u001b[1;32mreturn\u001b[0m \u001b[0msession\u001b[0m\u001b[1;33m.\u001b[0m\u001b[0mrequest\u001b[0m\u001b[1;33m(\u001b[0m\u001b[0mmethod\u001b[0m\u001b[1;33m=\u001b[0m\u001b[0mmethod\u001b[0m\u001b[1;33m,\u001b[0m \u001b[0murl\u001b[0m\u001b[1;33m=\u001b[0m\u001b[0murl\u001b[0m\u001b[1;33m,\u001b[0m \u001b[1;33m**\u001b[0m\u001b[0mkwargs\u001b[0m\u001b[1;33m)\u001b[0m\u001b[1;33m\u001b[0m\u001b[0m\n\u001b[0m\u001b[0;32m     50\u001b[0m \u001b[1;33m\u001b[0m\u001b[0m\n\u001b[0;32m     51\u001b[0m \u001b[1;33m\u001b[0m\u001b[0m\n",
      "\u001b[1;32m/usr/lib/python3/dist-packages/requests/sessions.py\u001b[0m in \u001b[0;36mrequest\u001b[1;34m(self, method, url, params, data, headers, cookies, files, auth, timeout, allow_redirects, proxies, hooks, stream, verify, cert, json)\u001b[0m\n\u001b[0;32m    455\u001b[0m         }\n\u001b[0;32m    456\u001b[0m         \u001b[0msend_kwargs\u001b[0m\u001b[1;33m.\u001b[0m\u001b[0mupdate\u001b[0m\u001b[1;33m(\u001b[0m\u001b[0msettings\u001b[0m\u001b[1;33m)\u001b[0m\u001b[1;33m\u001b[0m\u001b[0m\n\u001b[1;32m--> 457\u001b[1;33m         \u001b[0mresp\u001b[0m \u001b[1;33m=\u001b[0m \u001b[0mself\u001b[0m\u001b[1;33m.\u001b[0m\u001b[0msend\u001b[0m\u001b[1;33m(\u001b[0m\u001b[0mprep\u001b[0m\u001b[1;33m,\u001b[0m \u001b[1;33m**\u001b[0m\u001b[0msend_kwargs\u001b[0m\u001b[1;33m)\u001b[0m\u001b[1;33m\u001b[0m\u001b[0m\n\u001b[0m\u001b[0;32m    458\u001b[0m \u001b[1;33m\u001b[0m\u001b[0m\n\u001b[0;32m    459\u001b[0m         \u001b[1;32mreturn\u001b[0m \u001b[0mresp\u001b[0m\u001b[1;33m\u001b[0m\u001b[0m\n",
      "\u001b[1;32m/usr/lib/python3/dist-packages/requests/sessions.py\u001b[0m in \u001b[0;36msend\u001b[1;34m(self, request, **kwargs)\u001b[0m\n\u001b[0;32m    567\u001b[0m \u001b[1;33m\u001b[0m\u001b[0m\n\u001b[0;32m    568\u001b[0m         \u001b[1;31m# Send the request\u001b[0m\u001b[1;33m\u001b[0m\u001b[1;33m\u001b[0m\u001b[0m\n\u001b[1;32m--> 569\u001b[1;33m         \u001b[0mr\u001b[0m \u001b[1;33m=\u001b[0m \u001b[0madapter\u001b[0m\u001b[1;33m.\u001b[0m\u001b[0msend\u001b[0m\u001b[1;33m(\u001b[0m\u001b[0mrequest\u001b[0m\u001b[1;33m,\u001b[0m \u001b[1;33m**\u001b[0m\u001b[0mkwargs\u001b[0m\u001b[1;33m)\u001b[0m\u001b[1;33m\u001b[0m\u001b[0m\n\u001b[0m\u001b[0;32m    570\u001b[0m \u001b[1;33m\u001b[0m\u001b[0m\n\u001b[0;32m    571\u001b[0m         \u001b[1;31m# Total elapsed time of the request (approximately)\u001b[0m\u001b[1;33m\u001b[0m\u001b[1;33m\u001b[0m\u001b[0m\n",
      "\u001b[1;32m/usr/lib/python3/dist-packages/requests/adapters.py\u001b[0m in \u001b[0;36msend\u001b[1;34m(self, request, stream, timeout, verify, cert, proxies)\u001b[0m\n\u001b[0;32m    405\u001b[0m \u001b[1;33m\u001b[0m\u001b[0m\n\u001b[0;32m    406\u001b[0m         \u001b[1;32mexcept\u001b[0m \u001b[1;33m(\u001b[0m\u001b[0mProtocolError\u001b[0m\u001b[1;33m,\u001b[0m \u001b[0msocket\u001b[0m\u001b[1;33m.\u001b[0m\u001b[0merror\u001b[0m\u001b[1;33m)\u001b[0m \u001b[1;32mas\u001b[0m \u001b[0merr\u001b[0m\u001b[1;33m:\u001b[0m\u001b[1;33m\u001b[0m\u001b[0m\n\u001b[1;32m--> 407\u001b[1;33m             \u001b[1;32mraise\u001b[0m \u001b[0mConnectionError\u001b[0m\u001b[1;33m(\u001b[0m\u001b[0merr\u001b[0m\u001b[1;33m,\u001b[0m \u001b[0mrequest\u001b[0m\u001b[1;33m=\u001b[0m\u001b[0mrequest\u001b[0m\u001b[1;33m)\u001b[0m\u001b[1;33m\u001b[0m\u001b[0m\n\u001b[0m\u001b[0;32m    408\u001b[0m \u001b[1;33m\u001b[0m\u001b[0m\n\u001b[0;32m    409\u001b[0m         \u001b[1;32mexcept\u001b[0m \u001b[0mMaxRetryError\u001b[0m \u001b[1;32mas\u001b[0m \u001b[0me\u001b[0m\u001b[1;33m:\u001b[0m\u001b[1;33m\u001b[0m\u001b[0m\n",
      "\u001b[1;31mConnectionError\u001b[0m: ('Connection aborted.', gaierror(-2, 'Name or service not known'))"
     ]
    }
   ],
   "source": [
    "reqartc = requests.get('http://nanowrimo.org/wordcount_api/wchistory/artctrl')"
   ]
  },
  {
   "cell_type": "code",
   "execution_count": 156,
   "metadata": {
    "collapsed": false
   },
   "outputs": [
    {
     "ename": "NameError",
     "evalue": "name 'reqartc' is not defined",
     "output_type": "error",
     "traceback": [
      "\u001b[1;31m---------------------------------------------------------------------------\u001b[0m",
      "\u001b[1;31mNameError\u001b[0m                                 Traceback (most recent call last)",
      "\u001b[1;32m<ipython-input-156-c6ec92487e65>\u001b[0m in \u001b[0;36m<module>\u001b[1;34m()\u001b[0m\n\u001b[1;32m----> 1\u001b[1;33m \u001b[0mreqtx\u001b[0m \u001b[1;33m=\u001b[0m \u001b[0mreqartc\u001b[0m\u001b[1;33m.\u001b[0m\u001b[0mtext\u001b[0m\u001b[1;33m\u001b[0m\u001b[0m\n\u001b[0m",
      "\u001b[1;31mNameError\u001b[0m: name 'reqartc' is not defined"
     ]
    }
   ],
   "source": [
    "reqtx = reqartc.text"
   ]
  },
  {
   "cell_type": "code",
   "execution_count": 119,
   "metadata": {
    "collapsed": false
   },
   "outputs": [
    {
     "ename": "NameError",
     "evalue": "name 'reqtx' is not defined",
     "output_type": "error",
     "traceback": [
      "\u001b[1;31m---------------------------------------------------------------------------\u001b[0m",
      "\u001b[1;31mNameError\u001b[0m                                 Traceback (most recent call last)",
      "\u001b[1;32m<ipython-input-119-3cca75893cd5>\u001b[0m in \u001b[0;36m<module>\u001b[1;34m()\u001b[0m\n\u001b[1;32m----> 1\u001b[1;33m \u001b[0mtxmls\u001b[0m \u001b[1;33m=\u001b[0m \u001b[0mxmltodict\u001b[0m\u001b[1;33m.\u001b[0m\u001b[0mparse\u001b[0m\u001b[1;33m(\u001b[0m\u001b[0mreqtx\u001b[0m\u001b[1;33m)\u001b[0m\u001b[1;33m\u001b[0m\u001b[0m\n\u001b[0m",
      "\u001b[1;31mNameError\u001b[0m: name 'reqtx' is not defined"
     ]
    }
   ],
   "source": [
    "txmls = xmltodict.parse(reqtx)"
   ]
  },
  {
   "cell_type": "code",
   "execution_count": 120,
   "metadata": {
    "collapsed": false
   },
   "outputs": [
    {
     "ename": "NameError",
     "evalue": "name 'txmls' is not defined",
     "output_type": "error",
     "traceback": [
      "\u001b[1;31m---------------------------------------------------------------------------\u001b[0m",
      "\u001b[1;31mNameError\u001b[0m                                 Traceback (most recent call last)",
      "\u001b[1;32m<ipython-input-120-8214d1e743a8>\u001b[0m in \u001b[0;36m<module>\u001b[1;34m()\u001b[0m\n\u001b[1;32m----> 1\u001b[1;33m \u001b[0mtxkeys\u001b[0m \u001b[1;33m=\u001b[0m \u001b[0mtxmls\u001b[0m\u001b[1;33m.\u001b[0m\u001b[0mkeys\u001b[0m\u001b[1;33m(\u001b[0m\u001b[1;33m)\u001b[0m\u001b[1;33m\u001b[0m\u001b[0m\n\u001b[0m",
      "\u001b[1;31mNameError\u001b[0m: name 'txmls' is not defined"
     ]
    }
   ],
   "source": [
    "txkeys = txmls.keys()"
   ]
  },
  {
   "cell_type": "code",
   "execution_count": 121,
   "metadata": {
    "collapsed": false
   },
   "outputs": [
    {
     "ename": "NameError",
     "evalue": "name 'txmls' is not defined",
     "output_type": "error",
     "traceback": [
      "\u001b[1;31m---------------------------------------------------------------------------\u001b[0m",
      "\u001b[1;31mNameError\u001b[0m                                 Traceback (most recent call last)",
      "\u001b[1;32m<ipython-input-121-4d0304b9fdf3>\u001b[0m in \u001b[0;36m<module>\u001b[1;34m()\u001b[0m\n\u001b[1;32m----> 1\u001b[1;33m \u001b[0mtxmls\u001b[0m\u001b[1;33m[\u001b[0m\u001b[1;34m'wchistory'\u001b[0m\u001b[1;33m]\u001b[0m\u001b[1;33m[\u001b[0m\u001b[1;34m'wordcounts'\u001b[0m\u001b[1;33m]\u001b[0m\u001b[1;33m[\u001b[0m\u001b[1;34m'wcentry'\u001b[0m\u001b[1;33m]\u001b[0m\u001b[1;33m[\u001b[0m\u001b[1;36m0\u001b[0m\u001b[1;33m]\u001b[0m\u001b[1;33m\u001b[0m\u001b[0m\n\u001b[0m",
      "\u001b[1;31mNameError\u001b[0m: name 'txmls' is not defined"
     ]
    }
   ],
   "source": [
    "txmls['wchistory']['wordcounts']['wcentry'][0]"
   ]
  },
  {
   "cell_type": "code",
   "execution_count": 122,
   "metadata": {
    "collapsed": false
   },
   "outputs": [
    {
     "ename": "NameError",
     "evalue": "name 'txmls' is not defined",
     "output_type": "error",
     "traceback": [
      "\u001b[1;31m---------------------------------------------------------------------------\u001b[0m",
      "\u001b[1;31mNameError\u001b[0m                                 Traceback (most recent call last)",
      "\u001b[1;32m<ipython-input-122-5ba22a1359c9>\u001b[0m in \u001b[0;36m<module>\u001b[1;34m()\u001b[0m\n\u001b[1;32m----> 1\u001b[1;33m \u001b[0mlentxm\u001b[0m \u001b[1;33m=\u001b[0m \u001b[0mlen\u001b[0m\u001b[1;33m(\u001b[0m\u001b[0mtxmls\u001b[0m\u001b[1;33m[\u001b[0m\u001b[1;34m'wchistory'\u001b[0m\u001b[1;33m]\u001b[0m\u001b[1;33m[\u001b[0m\u001b[1;34m'wordcounts'\u001b[0m\u001b[1;33m]\u001b[0m\u001b[1;33m[\u001b[0m\u001b[1;34m'wcentry'\u001b[0m\u001b[1;33m]\u001b[0m\u001b[1;33m)\u001b[0m\u001b[1;33m\u001b[0m\u001b[0m\n\u001b[0m",
      "\u001b[1;31mNameError\u001b[0m: name 'txmls' is not defined"
     ]
    }
   ],
   "source": [
    "lentxm = len(txmls['wchistory']['wordcounts']['wcentry'])"
   ]
  },
  {
   "cell_type": "code",
   "execution_count": 123,
   "metadata": {
    "collapsed": true
   },
   "outputs": [],
   "source": [
    "wclis = list()"
   ]
  },
  {
   "cell_type": "code",
   "execution_count": 124,
   "metadata": {
    "collapsed": false
   },
   "outputs": [
    {
     "ename": "NameError",
     "evalue": "name 'lentxm' is not defined",
     "output_type": "error",
     "traceback": [
      "\u001b[1;31m---------------------------------------------------------------------------\u001b[0m",
      "\u001b[1;31mNameError\u001b[0m                                 Traceback (most recent call last)",
      "\u001b[1;32m<ipython-input-124-d9cf705540ca>\u001b[0m in \u001b[0;36m<module>\u001b[1;34m()\u001b[0m\n\u001b[1;32m----> 1\u001b[1;33m \u001b[1;32mfor\u001b[0m \u001b[0mlent\u001b[0m \u001b[1;32min\u001b[0m \u001b[0mrange\u001b[0m\u001b[1;33m(\u001b[0m\u001b[0mlentxm\u001b[0m\u001b[1;33m)\u001b[0m\u001b[1;33m:\u001b[0m\u001b[1;33m\u001b[0m\u001b[0m\n\u001b[0m\u001b[0;32m      2\u001b[0m     \u001b[0mprint\u001b[0m\u001b[1;33m(\u001b[0m\u001b[0mtxmls\u001b[0m\u001b[1;33m[\u001b[0m\u001b[1;34m'wchistory'\u001b[0m\u001b[1;33m]\u001b[0m\u001b[1;33m[\u001b[0m\u001b[1;34m'wordcounts'\u001b[0m\u001b[1;33m]\u001b[0m\u001b[1;33m[\u001b[0m\u001b[1;34m'wcentry'\u001b[0m\u001b[1;33m]\u001b[0m\u001b[1;33m[\u001b[0m\u001b[0mlent\u001b[0m\u001b[1;33m]\u001b[0m\u001b[1;33m[\u001b[0m\u001b[1;34m'wc'\u001b[0m\u001b[1;33m]\u001b[0m\u001b[1;33m)\u001b[0m\u001b[1;33m\u001b[0m\u001b[0m\n\u001b[0;32m      3\u001b[0m     \u001b[0mwclis\u001b[0m\u001b[1;33m.\u001b[0m\u001b[0mappend\u001b[0m\u001b[1;33m(\u001b[0m\u001b[0mint\u001b[0m\u001b[1;33m(\u001b[0m\u001b[0mtxmls\u001b[0m\u001b[1;33m[\u001b[0m\u001b[1;34m'wchistory'\u001b[0m\u001b[1;33m]\u001b[0m\u001b[1;33m[\u001b[0m\u001b[1;34m'wordcounts'\u001b[0m\u001b[1;33m]\u001b[0m\u001b[1;33m[\u001b[0m\u001b[1;34m'wcentry'\u001b[0m\u001b[1;33m]\u001b[0m\u001b[1;33m[\u001b[0m\u001b[0mlent\u001b[0m\u001b[1;33m]\u001b[0m\u001b[1;33m[\u001b[0m\u001b[1;34m'wc'\u001b[0m\u001b[1;33m]\u001b[0m\u001b[1;33m)\u001b[0m\u001b[1;33m)\u001b[0m\u001b[1;33m\u001b[0m\u001b[0m\n",
      "\u001b[1;31mNameError\u001b[0m: name 'lentxm' is not defined"
     ]
    }
   ],
   "source": [
    "for lent in range(lentxm):\n",
    "    print(txmls['wchistory']['wordcounts']['wcentry'][lent]['wc'])\n",
    "    wclis.append(int(txmls['wchistory']['wordcounts']['wcentry'][lent]['wc']))"
   ]
  },
  {
   "cell_type": "code",
   "execution_count": 125,
   "metadata": {
    "collapsed": false
   },
   "outputs": [
    {
     "data": {
      "text/plain": [
       "0"
      ]
     },
     "execution_count": 125,
     "metadata": {},
     "output_type": "execute_result"
    }
   ],
   "source": [
    "len(wclis)"
   ]
  },
  {
   "cell_type": "code",
   "execution_count": 127,
   "metadata": {
    "collapsed": false
   },
   "outputs": [
    {
     "data": {
      "text/plain": [
       "0"
      ]
     },
     "execution_count": 127,
     "metadata": {},
     "output_type": "execute_result"
    }
   ],
   "source": [
    "sum(wclis)"
   ]
  },
  {
   "cell_type": "code",
   "execution_count": 128,
   "metadata": {
    "collapsed": false
   },
   "outputs": [
    {
     "ename": "NameError",
     "evalue": "name 'txmls' is not defined",
     "output_type": "error",
     "traceback": [
      "\u001b[1;31m---------------------------------------------------------------------------\u001b[0m",
      "\u001b[1;31mNameError\u001b[0m                                 Traceback (most recent call last)",
      "\u001b[1;32m<ipython-input-128-e88f19267188>\u001b[0m in \u001b[0;36m<module>\u001b[1;34m()\u001b[0m\n\u001b[1;32m----> 1\u001b[1;33m \u001b[0mtxmls\u001b[0m\u001b[1;33m.\u001b[0m\u001b[0mvalues\u001b[0m\u001b[1;33m(\u001b[0m\u001b[1;33m)\u001b[0m\u001b[1;33m\u001b[0m\u001b[0m\n\u001b[0m",
      "\u001b[1;31mNameError\u001b[0m: name 'txmls' is not defined"
     ]
    }
   ],
   "source": [
    "txmls.values()"
   ]
  },
  {
   "cell_type": "code",
   "execution_count": null,
   "metadata": {
    "collapsed": true
   },
   "outputs": [],
   "source": []
  }
 ],
 "metadata": {
  "kernelspec": {
   "display_name": "Python 3",
   "language": "python",
   "name": "python3"
  },
  "language_info": {
   "codemirror_mode": {
    "name": "ipython",
    "version": 3
   },
   "file_extension": ".py",
   "mimetype": "text/x-python",
   "name": "python",
   "nbconvert_exporter": "python",
   "pygments_lexer": "ipython3",
   "version": "3.4.2"
  }
 },
 "nbformat": 4,
 "nbformat_minor": 0
}
