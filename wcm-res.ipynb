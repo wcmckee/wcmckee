{
 "cells": [
  {
   "cell_type": "code",
   "execution_count": 50,
   "metadata": {
    "collapsed": false
   },
   "outputs": [
    {
     "name": "stdout",
     "output_type": "stream",
     "text": [
      "{'res10%': '', 'res1%': '9.53', 'res5%': ''}\n"
     ]
    },
    {
     "data": {
      "text/plain": [
       "'\\nE96 = open(\"res1%\", \"r\").read().splitlines()\\nE12= open(\"res10%\", \"r\").read().splitlines()\\nE24 = open(\"res5%\", \"r\").read().splitlines()\\n#These are opened multiply times, maybe use a loop in order to open all files \\n#in a folder and read it. These filenames are slightly confusing and might be \\n#better to be called something.txt. Avoid the numbers and caps in the variable,\\n#maybe resone.txt, resten.txt, resfive.txt for the file names)?\\n\\n\\nE12 = [float(i) for i in E12] #10%\\nE96 = [float(i) for i in E96] #1%\\nE24 = [float(i) for i in E24] #5%\\n\\n#Again repeating self with the only changes being the variable that is being \\n#ilitrated over.\\n\\ntol = {\\'E12\\': E12, \\'E96\\' : E96, \\'E24\\' : E24}\\n\\n#Created a dict. Maybe this could be created and appended when the data is first\\n#opened. \\n\\ninp = input(\"Please enter a resistor series you would like to view.\\nYou many choes from E12, E24 or E96\\n\")\\nprint (tol[inp])\\n\\n#Neat input. What about testing this input and extending it further - program \\n#chooses a random resistor series to view or cycles though an example.\\n\\nfor exp in range(7):\\n    print()\\n    for res in tol[inp]:\\n        val=round((res)*10**exp,1)\\n        if val < 10:\\n            print (str(val).replace(\\'.\\', \\'R\\'), end=\"  \")\\n        elif val < 100:\\n            print (str(val).replace(\\'.0\\', \\'R\\'), end=\"  \")\\n        elif val < 1000:\\n            print (str(val).replace(\\'.0\\', \\'R\\'), end=\" \")\\n        elif val < 10000:\\n            val = (list(str(val)))\\n            val[2] = val[1]\\n            val[1] = \\'K\\'\\n            del val[3:6]\\n            print(\\'\\'.join(val), end=\"  \")\\n        elif val < 100000:\\n            val = (list(str(val)))\\n            val[3] = val[2]\\n            val[2] = \\'K\\'\\n            del val[3:7]\\n            print(\\'\\'.join(val), end=\"  \")\\n        elif val < 1000000:\\n            val = (list(str(val)))\\n            val[3] = val[2]\\n            val[3] = \\'K\\'\\n            del val[4:8]\\n            print(\\'\\'.join(val), end=\" \")\\n        elif val < 10000000:\\n            val = (list(str(val)))\\n            val[2] = val[1]\\n            val[1] = \\'M\\'\\n            del val[3:9]\\n            print(\\'\\'.join(val), end=\"  \")\\n'"
      ]
     },
     "execution_count": 50,
     "metadata": {},
     "output_type": "execute_result"
    }
   ],
   "source": [
    "#!/usr/bin/python3\n",
    "import math\n",
    "import os \n",
    "import getpass\n",
    "import json\n",
    "\n",
    "getusr = getpass.getuser()\n",
    "\n",
    "resdict = {}\n",
    "\n",
    "for filename in os.listdir('/home/{}/wcm-res/data/'.format(getusr)):\n",
    "   # do your stuff\n",
    "    with open('/home/{}/wcm-res/data/{}'.format(getusr, filename), 'r') as reone:\n",
    "        for i in (reone.read().splitlines()):\n",
    "            resdict.update({filename : i})\n",
    "            #I want to append the filename and data into a dict\n",
    "            #Example: {'res1%' : 2.3, 5.2, 5.1, 6.2, 'res10%' : 7.64, 2.34}\n",
    "            #The filename needs to be the key and the data read from the \n",
    "\n",
    "print(resdict)\n",
    "'''\n",
    "E96 = open(\"res1%\", \"r\").read().splitlines()\n",
    "E12= open(\"res10%\", \"r\").read().splitlines()\n",
    "E24 = open(\"res5%\", \"r\").read().splitlines()\n",
    "#These are opened multiply times, maybe use a loop in order to open all files \n",
    "#in a folder and read it. These filenames are slightly confusing and might be \n",
    "#better to be called something.txt. Avoid the numbers and caps in the variable,\n",
    "#maybe resone.txt, resten.txt, resfive.txt for the file names)?\n",
    "\n",
    "\n",
    "E12 = [float(i) for i in E12] #10%\n",
    "E96 = [float(i) for i in E96] #1%\n",
    "E24 = [float(i) for i in E24] #5%\n",
    "\n",
    "#Again repeating self with the only changes being the variable that is being \n",
    "#ilitrated over.\n",
    "\n",
    "tol = {'E12': E12, 'E96' : E96, 'E24' : E24}\n",
    "\n",
    "#Created a dict. Maybe this could be created and appended when the data is first\n",
    "#opened. \n",
    "\n",
    "inp = input(\"Please enter a resistor series you would like to view.\\nYou many choes from E12, E24 or E96\\n\")\n",
    "print (tol[inp])\n",
    "\n",
    "#Neat input. What about testing this input and extending it further - program \n",
    "#chooses a random resistor series to view or cycles though an example.\n",
    "\n",
    "for exp in range(7):\n",
    "    print()\n",
    "    for res in tol[inp]:\n",
    "        val=round((res)*10**exp,1)\n",
    "        if val < 10:\n",
    "            print (str(val).replace('.', 'R'), end=\"  \")\n",
    "        elif val < 100:\n",
    "            print (str(val).replace('.0', 'R'), end=\"  \")\n",
    "        elif val < 1000:\n",
    "            print (str(val).replace('.0', 'R'), end=\" \")\n",
    "        elif val < 10000:\n",
    "            val = (list(str(val)))\n",
    "            val[2] = val[1]\n",
    "            val[1] = 'K'\n",
    "            del val[3:6]\n",
    "            print(''.join(val), end=\"  \")\n",
    "        elif val < 100000:\n",
    "            val = (list(str(val)))\n",
    "            val[3] = val[2]\n",
    "            val[2] = 'K'\n",
    "            del val[3:7]\n",
    "            print(''.join(val), end=\"  \")\n",
    "        elif val < 1000000:\n",
    "            val = (list(str(val)))\n",
    "            val[3] = val[2]\n",
    "            val[3] = 'K'\n",
    "            del val[4:8]\n",
    "            print(''.join(val), end=\" \")\n",
    "        elif val < 10000000:\n",
    "            val = (list(str(val)))\n",
    "            val[2] = val[1]\n",
    "            val[1] = 'M'\n",
    "            del val[3:9]\n",
    "            print(''.join(val), end=\"  \")\n",
    "'''\n",
    "#Instead of just printing output what about saving the output as a json file, \n",
    "#or maybe saving the data as a json file and write a program that parses that \n",
    "#json file. \n"
   ]
  },
  {
   "cell_type": "code",
   "execution_count": 4,
   "metadata": {
    "collapsed": false
   },
   "outputs": [],
   "source": [
    "#!/usr/bin/python3\n",
    "import math\n",
    "import os \n",
    "import getpass\n",
    "\n",
    "getusr = getpass.getuser()\n",
    "\n",
    "resdict = {}\n"
   ]
  },
  {
   "cell_type": "code",
   "execution_count": 3,
   "metadata": {
    "collapsed": false
   },
   "outputs": [
    {
     "name": "stdout",
     "output_type": "stream",
     "text": [
      "{'res10%': '', 'res1%': '9.53', 'res5%': ''}\n"
     ]
    }
   ],
   "source": [
    "for filename in os.listdir('/home/{}/wcm-res/data/'.format(getusr)):\n",
    "   # do your stuff\n",
    "    with open('/home/{}/wcm-res/data/{}'.format(getusr, filename), 'r') as reone:\n",
    "        for i in (reone.read().splitlines()):\n",
    "            resdict.update({filename : i})\n",
    "            #I want to append the filename and data into a dict\n",
    "            #Example: {'res1%' : 2.3, 5.2, 5.1, 6.2, 'res10%' : 7.64, 2.34}\n",
    "            #The filename needs to be the key and the data read from the \n",
    "\n",
    "print(resdict)"
   ]
  },
  {
   "cell_type": "code",
   "execution_count": 8,
   "metadata": {
    "collapsed": false
   },
   "outputs": [
    {
     "name": "stdout",
     "output_type": "stream",
     "text": [
      "res10%\n",
      "res5%\n",
      "res1%\n"
     ]
    }
   ],
   "source": [
    "for filename in os.listdir('/home/{}/wcm-res/data/'.format(getusr)):\n",
    "    print(filename)"
   ]
  },
  {
   "cell_type": "code",
   "execution_count": 36,
   "metadata": {
    "collapsed": true
   },
   "outputs": [],
   "source": [
    "reslist = []"
   ]
  },
  {
   "cell_type": "code",
   "execution_count": null,
   "metadata": {
    "collapsed": true
   },
   "outputs": [],
   "source": [
    "\n",
    "\n",
    "with open('names.txt', 'r') as f:\n",
    "    myNames = [line.strip() for line in reone]"
   ]
  },
  {
   "cell_type": "code",
   "execution_count": 62,
   "metadata": {
    "collapsed": true
   },
   "outputs": [],
   "source": [
    "findict = {}\n",
    "fname = []"
   ]
  },
  {
   "cell_type": "code",
   "execution_count": 63,
   "metadata": {
    "collapsed": false
   },
   "outputs": [
    {
     "name": "stdout",
     "output_type": "stream",
     "text": [
      "res10%\n",
      "['1.0', '1.5', '2.2', '3.3', '4.7', '6.8', '', '']\n",
      "res5%\n",
      "['1.0', '1.1', '1.2', '1.3', '1.5', '1.6', '1.8', '2.0', '2.2', '2.4', '2.7', '3.0', '3.3', '3.6', '3.9', '4.3', '4.7', '5.1', '5.6', '6.2', '6.8', '7.5', '8.2', '9.1', '']\n",
      "res1%\n",
      "['1.00', '1.05', '1.10', '1.15', '1.21', '1.27', '1.33', '1.40', '1.47', '1.54', '1.62', '1.69', '1.78', '1.87', '1.96', '2.05', '2.15', '2.26', '2.37', '2.49', '2.61', '2.74', '2.87', '3.01', '3.16', '3.32', '3.48', '3.65', '3.83', '4.02', '4.22', '4.42', '4.64', '4.87', '5.11', '5.36', '5.62', '5.90', '6.19', '6.49', '6.81', '7.15', '7.50', '7.87', '8.25', '8.66', '9.09', '9.53']\n"
     ]
    }
   ],
   "source": [
    "for filename in os.listdir('/home/{}/wcm-res/data/'.format(getusr)):\n",
    "   # do your stuff\n",
    "    with open('/home/{}/wcm-res/data/{}'.format(getusr, filename), 'r') as reone:\n",
    "        myNames = [line.strip() for line in reone]\n",
    "        findict.update({filename : myNames})\n",
    "        print(filename)\n",
    "        fname.append(filename)\n",
    "        print(myNames)\n"
   ]
  },
  {
   "cell_type": "code",
   "execution_count": 52,
   "metadata": {
    "collapsed": false
   },
   "outputs": [
    {
     "data": {
      "text/plain": [
       "'{\"res10%\": [\"1.0\", \"1.5\", \"2.2\", \"3.3\", \"4.7\", \"6.8\", \"\", \"\"], \"res1%\": [\"1.00\", \"1.05\", \"1.10\", \"1.15\", \"1.21\", \"1.27\", \"1.33\", \"1.40\", \"1.47\", \"1.54\", \"1.62\", \"1.69\", \"1.78\", \"1.87\", \"1.96\", \"2.05\", \"2.15\", \"2.26\", \"2.37\", \"2.49\", \"2.61\", \"2.74\", \"2.87\", \"3.01\", \"3.16\", \"3.32\", \"3.48\", \"3.65\", \"3.83\", \"4.02\", \"4.22\", \"4.42\", \"4.64\", \"4.87\", \"5.11\", \"5.36\", \"5.62\", \"5.90\", \"6.19\", \"6.49\", \"6.81\", \"7.15\", \"7.50\", \"7.87\", \"8.25\", \"8.66\", \"9.09\", \"9.53\"], \"res5%\": [\"1.0\", \"1.1\", \"1.2\", \"1.3\", \"1.5\", \"1.6\", \"1.8\", \"2.0\", \"2.2\", \"2.4\", \"2.7\", \"3.0\", \"3.3\", \"3.6\", \"3.9\", \"4.3\", \"4.7\", \"5.1\", \"5.6\", \"6.2\", \"6.8\", \"7.5\", \"8.2\", \"9.1\", \"\"]}'"
      ]
     },
     "execution_count": 52,
     "metadata": {},
     "output_type": "execute_result"
    }
   ],
   "source": [
    "json.dumps(findict)"
   ]
  },
  {
   "cell_type": "code",
   "execution_count": 65,
   "metadata": {
    "collapsed": false
   },
   "outputs": [
    {
     "name": "stdout",
     "output_type": "stream",
     "text": [
      "res10%\n",
      "res5%\n",
      "res1%\n"
     ]
    }
   ],
   "source": [
    "for fn in fname:\n",
    "    print(fn)"
   ]
  },
  {
   "cell_type": "code",
   "execution_count": 66,
   "metadata": {
    "collapsed": false
   },
   "outputs": [
    {
     "ename": "IndentationError",
     "evalue": "expected an indented block (<ipython-input-66-8d4742cd5f12>, line 4)",
     "output_type": "error",
     "traceback": [
      "\u001b[1;36m  File \u001b[1;32m\"<ipython-input-66-8d4742cd5f12>\"\u001b[1;36m, line \u001b[1;32m4\u001b[0m\n\u001b[1;33m    inp = input(\"Please enter a resistor series file you would like to view.\\nChoices from {}\".format(fname))\u001b[0m\n\u001b[1;37m      ^\u001b[0m\n\u001b[1;31mIndentationError\u001b[0m\u001b[1;31m:\u001b[0m expected an indented block\n"
     ]
    }
   ],
   "source": [
    "for filename in os.listdir('/home/{}/wcm-res/data/'.format(getusr)):\n",
    "    \n",
    "    \n",
    "inp = input(\"Please enter a resistor series file you would like to view.\\nChoices from {}\".format(fname))\n",
    "print (tol[inp])"
   ]
  },
  {
   "cell_type": "code",
   "execution_count": null,
   "metadata": {
    "collapsed": true
   },
   "outputs": [],
   "source": [
    "\n",
    "\n",
    "#Neat input. What about testing this input and extending it further - program \n",
    "#chooses a random resistor series to view or cycles though an example.\n",
    "\n",
    "for exp in range(7):\n",
    "    print()\n",
    "    for res in tol[inp]:\n",
    "        val=round((res)*10**exp,1)\n",
    "        if val < 10:\n",
    "            print (str(val).replace('.', 'R'), end=\"  \")\n",
    "        elif val < 100:\n",
    "            print (str(val).replace('.0', 'R'), end=\"  \")\n",
    "        elif val < 1000:\n",
    "            print (str(val).replace('.0', 'R'), end=\" \")\n",
    "        elif val < 10000:\n",
    "            val = (list(str(val)))\n",
    "            val[2] = val[1]\n",
    "            val[1] = 'K'\n",
    "            del val[3:6]\n",
    "            print(''.join(val), end=\"  \")\n",
    "        elif val < 100000:\n",
    "            val = (list(str(val)))\n",
    "            val[3] = val[2]\n",
    "            val[2] = 'K'\n",
    "            del val[3:7]\n",
    "            print(''.join(val), end=\"  \")\n",
    "        elif val < 1000000:\n",
    "            val = (list(str(val)))\n",
    "            val[3] = val[2]\n",
    "            val[3] = 'K'\n",
    "            del val[4:8]\n",
    "            print(''.join(val), end=\" \")\n",
    "        elif val < 10000000:\n",
    "            val = (list(str(val)))\n",
    "            val[2] = val[1]\n",
    "            val[1] = 'M'\n",
    "            del val[3:9]\n",
    "            print(''.join(val), end=\"  \")\n",
    "'''\n",
    "#Instead of just printing output what about saving the output as a json file, \n",
    "#or maybe saving the data as a json file and write a program that parses that \n",
    "#json file. \n"
   ]
  },
  {
   "cell_type": "code",
   "execution_count": 56,
   "metadata": {
    "collapsed": false
   },
   "outputs": [
    {
     "name": "stdout",
     "output_type": "stream",
     "text": [
      "1.0\n",
      "1.05\n",
      "1.1\n",
      "1.15\n",
      "1.21\n",
      "1.27\n",
      "1.33\n",
      "1.4\n",
      "1.47\n",
      "1.54\n",
      "1.62\n",
      "1.69\n",
      "1.78\n",
      "1.87\n",
      "1.96\n",
      "2.05\n",
      "2.15\n",
      "2.26\n",
      "2.37\n",
      "2.49\n",
      "2.61\n",
      "2.74\n",
      "2.87\n",
      "3.01\n",
      "3.16\n",
      "3.32\n",
      "3.48\n",
      "3.65\n",
      "3.83\n",
      "4.02\n",
      "4.22\n",
      "4.42\n",
      "4.64\n",
      "4.87\n",
      "5.11\n",
      "5.36\n",
      "5.62\n",
      "5.9\n",
      "6.19\n",
      "6.49\n",
      "6.81\n",
      "7.15\n",
      "7.5\n",
      "7.87\n",
      "8.25\n",
      "8.66\n",
      "9.09\n",
      "9.53\n"
     ]
    }
   ],
   "source": [
    "for fd in findict['res1%']:\n",
    "    print(float(fd))"
   ]
  },
  {
   "cell_type": "code",
   "execution_count": 43,
   "metadata": {
    "collapsed": false
   },
   "outputs": [
    {
     "data": {
      "text/plain": [
       "['1.00',\n",
       " '1.05',\n",
       " '1.10',\n",
       " '1.15',\n",
       " '1.21',\n",
       " '1.27',\n",
       " '1.33',\n",
       " '1.40',\n",
       " '1.47',\n",
       " '1.54',\n",
       " '1.62',\n",
       " '1.69',\n",
       " '1.78',\n",
       " '1.87',\n",
       " '1.96',\n",
       " '2.05',\n",
       " '2.15',\n",
       " '2.26',\n",
       " '2.37',\n",
       " '2.49',\n",
       " '2.61',\n",
       " '2.74',\n",
       " '2.87',\n",
       " '3.01',\n",
       " '3.16',\n",
       " '3.32',\n",
       " '3.48',\n",
       " '3.65',\n",
       " '3.83',\n",
       " '4.02',\n",
       " '4.22',\n",
       " '4.42',\n",
       " '4.64',\n",
       " '4.87',\n",
       " '5.11',\n",
       " '5.36',\n",
       " '5.62',\n",
       " '5.90',\n",
       " '6.19',\n",
       " '6.49',\n",
       " '6.81',\n",
       " '7.15',\n",
       " '7.50',\n",
       " '7.87',\n",
       " '8.25',\n",
       " '8.66',\n",
       " '9.09',\n",
       " '9.53']"
      ]
     },
     "execution_count": 43,
     "metadata": {},
     "output_type": "execute_result"
    }
   ],
   "source": [
    "myNames"
   ]
  },
  {
   "cell_type": "code",
   "execution_count": null,
   "metadata": {
    "collapsed": true
   },
   "outputs": [],
   "source": []
  },
  {
   "cell_type": "code",
   "execution_count": null,
   "metadata": {
    "collapsed": true
   },
   "outputs": [],
   "source": []
  },
  {
   "cell_type": "code",
   "execution_count": 29,
   "metadata": {
    "collapsed": true
   },
   "outputs": [],
   "source": [
    "resdict = {}"
   ]
  },
  {
   "cell_type": "code",
   "execution_count": 37,
   "metadata": {
    "collapsed": false
   },
   "outputs": [
    {
     "name": "stdout",
     "output_type": "stream",
     "text": [
      "1.0\n",
      "1.5\n",
      "2.2\n",
      "3.3\n",
      "4.7\n",
      "6.8\n",
      "error\n",
      "error\n",
      "1.0\n",
      "1.1\n",
      "1.2\n",
      "1.3\n",
      "1.5\n",
      "1.6\n",
      "1.8\n",
      "2.0\n",
      "2.2\n",
      "2.4\n",
      "2.7\n",
      "3.0\n",
      "3.3\n",
      "3.6\n",
      "3.9\n",
      "4.3\n",
      "4.7\n",
      "5.1\n",
      "5.6\n",
      "6.2\n",
      "6.8\n",
      "7.5\n",
      "8.2\n",
      "9.1\n",
      "error\n",
      "1.0\n",
      "1.05\n",
      "1.1\n",
      "1.15\n",
      "1.21\n",
      "1.27\n",
      "1.33\n",
      "1.4\n",
      "1.47\n",
      "1.54\n",
      "1.62\n",
      "1.69\n",
      "1.78\n",
      "1.87\n",
      "1.96\n",
      "2.05\n",
      "2.15\n",
      "2.26\n",
      "2.37\n",
      "2.49\n",
      "2.61\n",
      "2.74\n",
      "2.87\n",
      "3.01\n",
      "3.16\n",
      "3.32\n",
      "3.48\n",
      "3.65\n",
      "3.83\n",
      "4.02\n",
      "4.22\n",
      "4.42\n",
      "4.64\n",
      "4.87\n",
      "5.11\n",
      "5.36\n",
      "5.62\n",
      "5.9\n",
      "6.19\n",
      "6.49\n",
      "6.81\n",
      "7.15\n",
      "7.5\n",
      "7.87\n",
      "8.25\n",
      "8.66\n",
      "9.09\n",
      "9.53\n"
     ]
    }
   ],
   "source": [
    "for filename in os.listdir('/home/{}/wcm-res/data/'.format(getusr)):\n",
    "   # do your stuff\n",
    "    with open('/home/{}/wcm-res/data/{}'.format(getusr, filename), 'r') as reone:\n",
    "        for i in (reone.read().splitlines()):\n",
    "            try:\n",
    "                print(float(i))\n",
    "                reslist.append(float(i))\n",
    "                resdict.update({filename : i})\n",
    "                #Currently it is only updated the value with the first value of the file - it needs to update with all the\n",
    "                #values. How do I do this? The way it is currently done is convert the values into a list then append the\n",
    "                #values to a dict. \n",
    "                #Now it is making a list but it is appending \n",
    "            \n",
    "            except ValueError:\n",
    "                print (\"error\")"
   ]
  },
  {
   "cell_type": "code",
   "execution_count": 38,
   "metadata": {
    "collapsed": false
   },
   "outputs": [
    {
     "data": {
      "text/plain": [
       "[1.0,\n",
       " 1.5,\n",
       " 2.2,\n",
       " 3.3,\n",
       " 4.7,\n",
       " 6.8,\n",
       " 1.0,\n",
       " 1.1,\n",
       " 1.2,\n",
       " 1.3,\n",
       " 1.5,\n",
       " 1.6,\n",
       " 1.8,\n",
       " 2.0,\n",
       " 2.2,\n",
       " 2.4,\n",
       " 2.7,\n",
       " 3.0,\n",
       " 3.3,\n",
       " 3.6,\n",
       " 3.9,\n",
       " 4.3,\n",
       " 4.7,\n",
       " 5.1,\n",
       " 5.6,\n",
       " 6.2,\n",
       " 6.8,\n",
       " 7.5,\n",
       " 8.2,\n",
       " 9.1,\n",
       " 1.0,\n",
       " 1.05,\n",
       " 1.1,\n",
       " 1.15,\n",
       " 1.21,\n",
       " 1.27,\n",
       " 1.33,\n",
       " 1.4,\n",
       " 1.47,\n",
       " 1.54,\n",
       " 1.62,\n",
       " 1.69,\n",
       " 1.78,\n",
       " 1.87,\n",
       " 1.96,\n",
       " 2.05,\n",
       " 2.15,\n",
       " 2.26,\n",
       " 2.37,\n",
       " 2.49,\n",
       " 2.61,\n",
       " 2.74,\n",
       " 2.87,\n",
       " 3.01,\n",
       " 3.16,\n",
       " 3.32,\n",
       " 3.48,\n",
       " 3.65,\n",
       " 3.83,\n",
       " 4.02,\n",
       " 4.22,\n",
       " 4.42,\n",
       " 4.64,\n",
       " 4.87,\n",
       " 5.11,\n",
       " 5.36,\n",
       " 5.62,\n",
       " 5.9,\n",
       " 6.19,\n",
       " 6.49,\n",
       " 6.81,\n",
       " 7.15,\n",
       " 7.5,\n",
       " 7.87,\n",
       " 8.25,\n",
       " 8.66,\n",
       " 9.09,\n",
       " 9.53]"
      ]
     },
     "execution_count": 38,
     "metadata": {},
     "output_type": "execute_result"
    }
   ],
   "source": [
    "reslist"
   ]
  },
  {
   "cell_type": "code",
   "execution_count": 35,
   "metadata": {
    "collapsed": false
   },
   "outputs": [
    {
     "data": {
      "text/plain": [
       "{'res1%': '9.53', 'res10%': '6.8', 'res5%': '9.1'}"
      ]
     },
     "execution_count": 35,
     "metadata": {},
     "output_type": "execute_result"
    }
   ],
   "source": [
    "resdict"
   ]
  },
  {
   "cell_type": "code",
   "execution_count": null,
   "metadata": {
    "collapsed": true
   },
   "outputs": [],
   "source": []
  },
  {
   "cell_type": "code",
   "execution_count": null,
   "metadata": {
    "collapsed": true
   },
   "outputs": [],
   "source": []
  }
 ],
 "metadata": {
  "kernelspec": {
   "display_name": "Python 3",
   "language": "python",
   "name": "python3"
  },
  "language_info": {
   "codemirror_mode": {
    "name": "ipython",
    "version": 3
   },
   "file_extension": ".py",
   "mimetype": "text/x-python",
   "name": "python",
   "nbconvert_exporter": "python",
   "pygments_lexer": "ipython3",
   "version": "3.5.1+"
  }
 },
 "nbformat": 4,
 "nbformat_minor": 0
}
