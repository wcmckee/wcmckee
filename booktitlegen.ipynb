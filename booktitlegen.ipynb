{
 "cells": [
  {
   "cell_type": "code",
   "execution_count": 188,
   "metadata": {
    "collapsed": true
   },
   "outputs": [],
   "source": [
    "import random\n",
    "#import math\n",
    "\n",
    "import requests \n",
    "import bs4\n",
    "\n",
    "import arrow"
   ]
  },
  {
   "cell_type": "code",
   "execution_count": 173,
   "metadata": {
    "collapsed": true
   },
   "outputs": [],
   "source": [
    "import getpass"
   ]
  },
  {
   "cell_type": "code",
   "execution_count": 189,
   "metadata": {
    "collapsed": true
   },
   "outputs": [],
   "source": [
    "raw = arrow.now()\n",
    "\n",
    "yraw = raw.strftime(\"%Y\")\n",
    "mntaw = raw.strftime(\"%m\")\n",
    "dytaw = raw.strftime(\"%d\")\n",
    "\n",
    "fulda = yraw + '/' + mntaw + '/' + dytaw\n",
    "\n",
    "fultim = fulda + ' ' + raw.strftime('%H:%M:%S')\n",
    "\n",
    "arnow = arrow.now()\n",
    "\n",
    "curyr = arnow.strftime('%Y')\n",
    "\n",
    "curmon = arnow.strftime('%m')\n",
    "\n",
    "curday = arnow.strftime('%d')"
   ]
  },
  {
   "cell_type": "code",
   "execution_count": 174,
   "metadata": {
    "collapsed": true
   },
   "outputs": [],
   "source": [
    "myusr = getpass.getuser()"
   ]
  },
  {
   "cell_type": "code",
   "execution_count": 181,
   "metadata": {
    "collapsed": true
   },
   "outputs": [],
   "source": [
    "nikpos = '/home/{}/writersdenhamilton/posts/'.format(myusr)"
   ]
  },
  {
   "cell_type": "code",
   "execution_count": 144,
   "metadata": {
    "collapsed": false
   },
   "outputs": [],
   "source": [
    "nountlist = [\"Dream\",\"Dreamer\",\"Dreams\",\"Waves\", \n",
    "\"Sword\",\"Kiss\",\"Sex\",\"Lover\", \n",
    "\"Slave\",\"Slaves\",\"Pleasure\",\"Servant\", \n",
    "\"Servants\",\"Snake\",\"Soul\",\"Touch\", \n",
    "\"Men\",\"Women\",\"Gift\",\"Scent\", \n",
    "\"Ice\",\"Snow\",\"Night\",\"Silk\",\"Secret\",\"Secrets\", \n",
    "\"Game\",\"Fire\",\"Flame\",\"Flames\", \n",
    "\"Husband\",\"Wife\",\"Man\",\"Woman\",\"Boy\",\"Girl\", \n",
    "\"Truth\",\"Edge\",\"Boyfriend\",\"Girlfriend\", \n",
    "\"Body\",\"Captive\",\"Male\",\"Wave\",\"Predator\", \n",
    "\"Female\",\"Healer\",\"Trainer\",\"Teacher\", \n",
    "\"Hunter\",\"Obsession\",\"Hustler\",\"Consort\", \n",
    "\"Dream\", \"Dreamer\", \"Dreams\",\"Rainbow\", \n",
    "\"Dreaming\",\"Flight\",\"Flying\",\"Soaring\", \n",
    "\"Wings\",\"Mist\",\"Sky\",\"Wind\", \n",
    "\"Winter\",\"Misty\",\"River\",\"Door\", \n",
    "\"Gate\",\"Cloud\",\"Fairy\",\"Dragon\", \n",
    "\"End\",\"Blade\",\"Beginning\",\"Tale\", \n",
    "\"Tales\",\"Emperor\",\"Prince\",\"Princess\", \n",
    "\"Willow\",\"Birch\",\"Petals\",\"Destiny\", \n",
    "\"Theft\",\"Thief\",\"Legend\",\"Prophecy\", \n",
    "\"Spark\",\"Sparks\",\"Stream\",\"Streams\",\"Waves\", \n",
    "\"Sword\",\"Darkness\",\"Swords\",\"Silence\",\"Kiss\", \n",
    "\"Butterfly\",\"Shadow\",\"Ring\",\"Rings\",\"Emerald\", \n",
    "\"Storm\",\"Storms\",\"Mists\",\"World\",\"Worlds\", \n",
    "\"Alien\",\"Lord\",\"Lords\",\"Ship\",\"Ships\",\"Star\", \n",
    "\"Stars\",\"Force\",\"Visions\",\"Vision\",\"Magic\", \n",
    "\"Wizards\",\"Wizard\",\"Heart\",\"Heat\",\"Twins\", \n",
    "\"Twilight\",\"Moon\",\"Moons\",\"Planet\",\"Shores\", \n",
    "\"Pirates\",\"Courage\",\"Time\",\"Academy\", \n",
    "\"School\",\"Rose\",\"Roses\",\"Stone\",\"Stones\", \n",
    "\"Sorcerer\",\"Shard\",\"Shards\",\"Slave\",\"Slaves\", \n",
    "\"Servant\",\"Servants\",\"Serpent\",\"Serpents\", \n",
    "\"Snake\",\"Soul\",\"Souls\",\"Savior\",\"Spirit\", \n",
    "\"Spirits\",\"Voyage\",\"Voyages\",\"Voyager\",\"Voyagers\", \n",
    "\"Return\",\"Legacy\",\"Birth\",\"Healer\",\"Healing\", \n",
    "\"Year\",\"Years\",\"Death\",\"Dying\",\"Luck\",\"Elves\", \n",
    "\"Tears\",\"Touch\",\"Son\",\"Sons\",\"Child\",\"Children\", \n",
    "\"Illusion\",\"Sliver\",\"Destruction\",\"Crying\",\"Weeping\", \n",
    "\"Gift\",\"Word\",\"Words\",\"Thought\",\"Thoughts\",\"Scent\", \n",
    "\"Ice\",\"Snow\",\"Night\",\"Silk\",\"Guardian\",\"Angel\", \n",
    "\"Angels\",\"Secret\",\"Secrets\",\"Search\",\"Eye\",\"Eyes\", \n",
    "\"Danger\",\"Game\",\"Fire\",\"Flame\",\"Flames\",\"Bride\", \n",
    "\"Husband\",\"Wife\",\"Time\",\"Flower\",\"Flowers\", \n",
    "\"Light\",\"Lights\",\"Door\",\"Doors\",\"Window\",\"Windows\", \n",
    "\"Bridge\",\"Bridges\",\"Ashes\",\"Memory\",\"Thorn\", \n",
    "\"Thorns\",\"Name\",\"Names\",\"Future\",\"Past\", \n",
    "\"History\",\"Something\",\"Nothing\",\"Someone\", \n",
    "\"Nobody\",\"Person\",\"Man\",\"Woman\",\"Boy\",\"Girl\", \n",
    "\"Way\",\"Mage\",\"Witch\",\"Witches\",\"Lover\", \n",
    "\"Tower\",\"Valley\",\"Abyss\",\"Hunter\", \n",
    "\"Truth\",\"Edge\", \"Dream\",\"Dreamer\",\"Dreams\",\"Waves\", \n",
    "\"Kiss\",\"Sex\",\"Lover\", \n",
    "\"Slave\",\"Slaves\",\"Pleasure\",\"Servant\", \n",
    "\"Servants\",\"Snake\",\"Soul\",\"Touch\", \n",
    "\"Men\",\"Women\",\"Gift\",\"Scent\", \n",
    "\"Ice\",\"Snow\",\"Night\",\"Silk\",\"Secret\",\"Secrets\", \n",
    "\"Game\",\"Fire\",\"Flame\",\"Flames\", \n",
    "\"Husband\",\"Wife\",\"Man\",\"Woman\",\"Boy\",\"Girl\", \n",
    "\"Truth\",\"Edge\",\"Boyfriend\",\"Girlfriend\", \n",
    "\"Body\",\"Captive\",\"Male\",\"Wave\",\n",
    "\"Female\",\"Healer\",\"Trainer\",\"Teacher\", \n",
    "\"Hunter\",\"Obsession\",\"Hustler\",\"Consort\", \n",
    "\"Dream\", \"Dreamer\", \"Dreams\",\"Rainbow\", \n",
    "\"Dreaming\",\"Flight\",\"Flying\",\"Soaring\", \n",
    "\"Wings\",\"Mist\",\"Sky\",\"Wind\", \n",
    "\"Winter\",\"Misty\",\"River\",\"Door\", \n",
    "\"Gate\",\"Cloud\",\n",
    "\"End\",\"Beginning\",\"Tale\", \n",
    "\"Tales\",\"Prince\",\"Princess\", \n",
    "\"Willow\",\"Birch\",\"Petals\", \n",
    "\"Spark\",\"Sparks\",\"Stream\",\"Streams\",\"Waves\", \n",
    "\"Kiss\", \n",
    "\"Butterfly\",\"Shadow\",\"Ring\",\"Rings\",\"Emerald\", \n",
    "\"Storm\",\"Storms\",\"Mists\", \n",
    "\"School\",\"Rose\",\"Roses\",\"Stone\",\"Stones\", \n",
    "\"Tears\",\"Touch\",\"Son\",\"Sons\",\"Child\",\"Children\", \n",
    "\"Gift\",\"Word\",\"Words\",\"Thought\",\"Thoughts\",\"Scent\", \n",
    "\"Ice\",\"Snow\",\"Night\",\"Silk\",\"Guardian\",\"Angel\", \n",
    "\"Angels\",\"Secret\",\"Secrets\",\"Search\",\"Eye\",\"Eyes\", \n",
    "\"Danger\",\"Game\",\"Fire\",\"Flame\",\"Flames\",\"Bride\", \n",
    "\"Husband\",\"Wife\",\"Time\",\"Flower\",\"Flowers\", \n",
    "\"Light\",\"Lights\",\"Door\",\"Doors\",\"Window\",\"Windows\", \n",
    "\"Bridge\",\"Bridges\",\"Ashes\",\"Memory\",\"Thorn\", \n",
    "\"Thorns\",\"Name\",\"Names\",\"Past\", \n",
    "\"History\",\"Something\",\"Nothing\",\"Someone\", \n",
    "\"Nobody\",\"Person\",\"Man\",\"Woman\",\"Boy\",\"Girl\", \n",
    "\"Way\",\"Mage\",\"Lover\", \n",
    "\"Tower\",\"Valley\",\"Abyss\",\"Hunter\", \n",
    "\"Truth\",\"Edge\"]\n",
    "\n",
    "adjectivelist =  [\"Lost\",\"Only\",\"Last\",\"First\", \n",
    "\"Third\",\"Sacred\",\"Bold\",\"Lovely\", \n",
    "\"Final\",\"Missing\",\"Shadowy\",\"Seventh\", \n",
    "\"Dwindling\",\"Missing\",\"Absent\", \n",
    "\"Vacant\",\"Cold\",\"Hot\",\"Burning\",\"Forgotten\", \n",
    "\"Weeping\",\"Dying\",\"Lonely\",\"Silent\", \n",
    "\"Laughing\",\"Whispering\",\"Forgotten\",\"Smooth\", \n",
    "\"Silken\",\"Rough\",\"Frozen\",\"Wild\", \n",
    "\"Trembling\",\"Fallen\",\"Ragged\",\"Broken\", \n",
    "\"Cracked\",\"Splintered\",\"Slithering\",\"Silky\", \n",
    "\"Wet\",\"Magnificent\",\"Luscious\",\"Swollen\", \n",
    "\"Erect\",\"Bare\",\"Naked\",\"Stripped\", \n",
    "\"Captured\",\"Stolen\",\"Sucking\",\"Licking\", \n",
    "\"Growing\",\"Kissing\",\"Green\",\"Red\",\"Blue\", \n",
    "\"Azure\",\"Rising\",\"Falling\",\"Elemental\", \n",
    "\"Bound\",\"Prized\",\"Obsessed\",\"Unwilling\", \n",
    "\"Hard\",\"Eager\",\"Ravaged\",\"Sleeping\", \n",
    "\"Wanton\",\"Professional\",\"Willing\",\"Devoted\", \n",
    "\"Misty\",\"Lost\",\"Only\",\"Last\",\"First\", \n",
    "\"Final\",\"Missing\",\"Shadowy\",\"Seventh\", \n",
    "\"Dark\",\"Darkest\",\"Silver\",\"Silvery\",\"Living\", \n",
    "\"Black\",\"White\",\"Hidden\",\"Entwined\",\"Invisible\", \n",
    "\"Next\",\"Seventh\",\"Red\",\"Green\",\"Blue\", \n",
    "\"Purple\",\"Grey\",\"Bloody\",\"Emerald\",\"Diamond\", \n",
    "\"Frozen\",\"Sharp\",\"Delicious\",\"Dangerous\", \n",
    "\"Deep\",\"Twinkling\",\"Dwindling\",\"Missing\",\"Absent\", \n",
    "\"Vacant\",\"Cold\",\"Hot\",\"Burning\",\"Forgotten\", \n",
    "\"Some\",\"No\",\"All\",\"Every\",\"Each\",\"Which\",\"What\", \n",
    "\"Playful\",\"Silent\",\"Weeping\",\"Dying\",\"Lonely\",\"Silent\", \n",
    "\"Laughing\",\"Whispering\",\"Forgotten\",\"Smooth\",\"Silken\", \n",
    "\"Rough\",\"Frozen\",\"Wild\",\"Trembling\",\"Fallen\", \n",
    "\"Ragged\",\"Broken\",\"Cracked\",\"Splintered\",\n",
    "\"Lost\",\"Only\",\"Last\",\"First\", \n",
    "\"Third\",\"Sacred\",\"Bold\",\"Lovely\", \n",
    "\"Final\",\"Missing\",\"Shadowy\",\"Seventh\", \n",
    "\"Dwindling\",\"Missing\",\"Absent\", \n",
    "\"Vacant\",\"Cold\",\"Hot\",\"Burning\",\"Forgotten\", \n",
    "\"Weeping\",\"Dying\",\"Lonely\",\"Silent\", \n",
    "\"Laughing\",\"Whispering\",\"Forgotten\",\"Smooth\", \n",
    "\"Silken\",\"Rough\",\"Frozen\",\"Wild\", \n",
    "\"Trembling\",\"Fallen\",\"Ragged\",\"Broken\", \n",
    "\"Cracked\",\"Splintered\",\"Slithering\",\"Silky\", \n",
    "\"Wet\",\"Magnificent\",\"Luscious\",\"Swollen\", \n",
    "\"Erect\",\"Bare\",\"Naked\",\"Stripped\", \n",
    "\"Captured\",\"Stolen\",\"Sucking\",\"Licking\", \n",
    "\"Growing\",\"Kissing\",\"Green\",\"Red\",\"Blue\", \n",
    "\"Azure\",\"Rising\",\"Falling\",\"Elemental\", \n",
    "\"Bound\",\"Prized\",\"Obsessed\",\"Unwilling\", \n",
    "\"Hard\",\"Eager\",\"Ravaged\",\"Sleeping\", \n",
    "\"Wanton\",\"Professional\",\"Willing\",\"Devoted\", \n",
    "\"Misty\",\"Lost\",\"Only\",\"Last\",\"First\", \n",
    "\"Final\",\"Missing\",\"Shadowy\",\"Seventh\", \n",
    "\"Dark\",\"Darkest\",\"Silver\",\"Silvery\",\"Living\", \n",
    "\"Black\",\"White\",\"Hidden\",\"Entwined\",\"Invisible\", \n",
    "\"Next\",\"Seventh\",\"Red\",\"Green\",\"Blue\", \n",
    "\"Purple\",\"Grey\",\"Bloody\",\"Emerald\",\"Diamond\", \n",
    "\"Frozen\",\"Sharp\",\"Delicious\",\"Dangerous\", \n",
    "\"Deep\",\"Twinkling\",\"Dwindling\",\"Missing\",\"Absent\", \n",
    "\"Vacant\",\"Cold\",\"Hot\",\"Burning\",\"Forgotten\", \n",
    "\"Some\",\"No\",\"All\",\"Every\",\"Each\",\"Which\",\"What\", \n",
    "\"Playful\",\"Silent\",\"Weeping\",\"Dying\",\"Lonely\",\"Silent\", \n",
    "\"Laughing\",\"Whispering\",\"Forgotten\",\"Smooth\",\"Silken\", \n",
    "\"Rough\",\"Frozen\",\"Wild\",\"Trembling\",\"Fallen\", \n",
    "\"Ragged\",\"Broken\",\"Cracked\",\"Splintered\" ]\n",
    "  \n"
   ]
  },
  {
   "cell_type": "code",
   "execution_count": 145,
   "metadata": {
    "collapsed": true
   },
   "outputs": [],
   "source": [
    "reqadv = requests.get('http://donjon.bin.sh/fantasy/adventure/')"
   ]
  },
  {
   "cell_type": "code",
   "execution_count": 146,
   "metadata": {
    "collapsed": false
   },
   "outputs": [],
   "source": [
    "bsadv = bs4.BeautifulSoup(reqadv.text)"
   ]
  },
  {
   "cell_type": "code",
   "execution_count": null,
   "metadata": {
    "collapsed": true
   },
   "outputs": [],
   "source": []
  },
  {
   "cell_type": "code",
   "execution_count": 147,
   "metadata": {
    "collapsed": false
   },
   "outputs": [],
   "source": [
    "adsee = bsadv.findAll(id=\"adventure\")"
   ]
  },
  {
   "cell_type": "code",
   "execution_count": 148,
   "metadata": {
    "collapsed": true
   },
   "outputs": [],
   "source": [
    "themlist = list()"
   ]
  },
  {
   "cell_type": "code",
   "execution_count": 149,
   "metadata": {
    "collapsed": true
   },
   "outputs": [],
   "source": [
    "shorting = list()"
   ]
  },
  {
   "cell_type": "code",
   "execution_count": 150,
   "metadata": {
    "collapsed": false
   },
   "outputs": [
    {
     "name": "stdout",
     "output_type": "stream",
     "text": [
      "Horror\n",
      "Gain Money\n",
      "Old Enemy\n",
      "A-B-C Quest\n",
      "Scattered Duels\n",
      "Cosmopolitan City\n",
      "Temple/Church\n",
      "Classic Dungeon\n",
      "Conqueror\n",
      "Inquisitor\n",
      "Avenger\n",
      "Obsequious Merchant\n",
      "Beast Amok\n",
      "Mean Drunk\n",
      "Stampede\n",
      "Horseback\n",
      "Totem Animal\n",
      "Love\n",
      "Omnipresent Observer\n",
      "Respect Quandry\n",
      "False Path to the Artifact\n",
      "Mission is a Ruse\n"
     ]
    }
   ],
   "source": [
    "for ads in adsee:\n",
    "    #print(ads.findAll('td'))\n",
    "    #themlist.append(ads.findAll('td'))\n",
    "    #print(ads.findAll('b'))\n",
    "    for adb in ads.findAll('b'):\n",
    "        #for theml in themlist:\n",
    "            #print(theml)\n",
    "        print(adb.text)\n",
    "        shorting.append(adb.text)\n",
    "    #shor"
   ]
  },
  {
   "cell_type": "code",
   "execution_count": 151,
   "metadata": {
    "collapsed": false
   },
   "outputs": [
    {
     "data": {
      "text/plain": [
       "['Horror',\n",
       " 'Gain Money',\n",
       " 'Old Enemy',\n",
       " 'A-B-C Quest',\n",
       " 'Scattered Duels',\n",
       " 'Cosmopolitan City',\n",
       " 'Temple/Church',\n",
       " 'Classic Dungeon',\n",
       " 'Conqueror',\n",
       " 'Inquisitor',\n",
       " 'Avenger',\n",
       " 'Obsequious Merchant',\n",
       " 'Beast Amok',\n",
       " 'Mean Drunk',\n",
       " 'Stampede',\n",
       " 'Horseback',\n",
       " 'Totem Animal',\n",
       " 'Love',\n",
       " 'Omnipresent Observer',\n",
       " 'Respect Quandry',\n",
       " 'False Path to the Artifact',\n",
       " 'Mission is a Ruse']"
      ]
     },
     "execution_count": 151,
     "metadata": {},
     "output_type": "execute_result"
    }
   ],
   "source": [
    "shorting"
   ]
  },
  {
   "cell_type": "code",
   "execution_count": 152,
   "metadata": {
    "collapsed": false
   },
   "outputs": [
    {
     "data": {
      "text/plain": [
       "96"
      ]
     },
     "execution_count": 152,
     "metadata": {},
     "output_type": "execute_result"
    }
   ],
   "source": [
    "random.randint(1, 103)"
   ]
  },
  {
   "cell_type": "code",
   "execution_count": 153,
   "metadata": {
    "collapsed": false
   },
   "outputs": [
    {
     "data": {
      "text/plain": [
       "2"
      ]
     },
     "execution_count": 153,
     "metadata": {},
     "output_type": "execute_result"
    }
   ],
   "source": [
    "random.randint(0, 500)"
   ]
  },
  {
   "cell_type": "code",
   "execution_count": 154,
   "metadata": {
    "collapsed": false
   },
   "outputs": [],
   "source": [
    "unisex_name = ['Sam','Bob','Morgan','Jamie', 'Jody','Robin','Alex','Lee','Ash']\n",
    "\n",
    "physical = ['short','tall','strong','weak',\t'muscular','puny','ugly','hot','sexy','fat',\n",
    "'thin','slim','curvy','slender','handsome','stunning','beautiful','pale','hairy','bald','porky','podgy',\n",
    "'grubby', 'scruffy', 'smart', 'flabby']\n",
    "\n",
    "species =['werewolf','vampire','mermaid','wizard', 'angel','demon','alien','ghost','loch ness monster','phantom cat',\n",
    "'goblin','pixie','unicorn','yeti','gremlin','zombie','dragon','serpent','fairy','elf','god','fallen angel',\n",
    "'gargoyle', 'siren', 'shape shifter', 'yeti']\n",
    "\n",
    "accident=['drunk driving','sausage','flying','boating',\t'catapulting','hit and run','apocalyptic','magic','golfing',\n",
    "'polo','motor','unfortunate','bear baiting','crocodile taming','safari','bungee jumping','dancing','pointless','fang',\n",
    "'skating','biking']\n",
    "\n",
    "vulnerable = ['old lady',\n",
    "'chicken',\n",
    "'baby',\n",
    "'toddler',\n",
    "'old man',\n",
    "'kitten',\n",
    "'puppy',\n",
    "'blind person',\n",
    "'deaf person',\n",
    "'injured bird',\n",
    "'disabled person',\n",
    "'baby bird',\n",
    "'owl']\n",
    "\n",
    "role = ['Mummy', 'Daddy', 'Doctor', 'Dentist', 'Sis', 'Bro',\n",
    "'Teacher', 'Headmaster', 'Honey', 'Darling', 'Dear', 'Mother', 'Mum', 'Father', 'Dad', 'Nan', 'Grandma', 'Grandpa', \n",
    "        'Auntie', 'Uncle']\n",
    "\n",
    "pos_character =['gentle', 'thoughtful', 'modest', 'adorable', 'brave', 'helpful','loving', 'special', 'hopeful', \n",
    "                'optimistic', 'charming','kind', 'grateful', 'gracious', 'delightful', 'patient','generous', \n",
    "                'energetic', 'down to earth', 'admirable', 'friendly','smart', 'considerate','noble', 'articulate', \n",
    "                'caring','intuitive', 'sympathetic','clever', 'daring', 'courageous','hilarious', 'understanding', \n",
    "                'incredible','funny', 'popular', 'virtuous', 'lovable', 'remarkable', 'cute', 'sweet', 'splendid',\n",
    "                'stable', 'witty', 'admirable', 'giving', 'intelligent', 'brave', 'bold']\n",
    "\n",
    "neg_character = ['greedy','callous','selfish','spiteful','mean','cowardly','stupid', 'spiteful', 'scheming','wild',\n",
    "                 'tactless','peculiar','creepy','sinister', 'arrogant', 'proud', 'ruthless', 'cold-blooded', 'smelly', \n",
    "                 'vile', 'snotty', 'hungry', 'predatory', 'malicious', 'deranged', 'snooty', 'violent', 'cowardly', \n",
    "                 'brutal', 'controlling', 'clumsy', 'forgetful', 'thoughtless', 'stingy', 'rude', 'tight-fisted']\n",
    "          \n",
    "phys_adj = ['sloppy','slimy','spiky','greasy','ginger','brunette','brown', 'blonde', 'red','tall','short','fat','squat',\n",
    "          'chubby', 'skinny', 'pointy', 'scrawny', 'wobbly', 'wide', 'vast', 'solid', 'fragile', 'fluffy', 'hairy', \n",
    "          'grubby', 'dirty', 'moist', 'ugly', 'pretty', 'charming', 'handsome', 'beautiful', 'sticky', 'curvaceous', \n",
    "          'curvy', 'ample', 'ruddy']"
   ]
  },
  {
   "cell_type": "code",
   "execution_count": 155,
   "metadata": {
    "collapsed": true
   },
   "outputs": [],
   "source": [
    "jobsjobs = [\"Corporate\",\"Data Broker\",\"Driver\",\"Hacker\",\"Mechanic\",\"Media\",\"Mercenary\",\"Paramedic\",\"Smuggler\",\"Technician\"]"
   ]
  },
  {
   "cell_type": "code",
   "execution_count": 156,
   "metadata": {
    "collapsed": false
   },
   "outputs": [],
   "source": [
    "pertype = [\"Modern Male\",\"Modern Female\",\"Chinese Male\",\"Chinese Female\",\"Japanese Male\",\"Japanese Female\", \n",
    "           \"Russian Male\",\"Russian Female\",\"Netrunner\"]"
   ]
  },
  {
   "cell_type": "code",
   "execution_count": 157,
   "metadata": {
    "collapsed": true
   },
   "outputs": [],
   "source": [
    "worlds = [\"Mortal World\", \"Abyss Astral Sea\", \"Elemental Chaos\", \"Feywild\", \"Nine Hells\", \"Shadowfell\"]"
   ]
  },
  {
   "cell_type": "code",
   "execution_count": 158,
   "metadata": {
    "collapsed": false
   },
   "outputs": [],
   "source": [
    "terrain = [\"Aquatic\",\"Desert\",\"Forest\",\"Hill\",\"Marsh\",\"Mountain\",\"Plain\",\"Underground\"]"
   ]
  },
  {
   "cell_type": "code",
   "execution_count": 159,
   "metadata": {
    "collapsed": true
   },
   "outputs": [],
   "source": [
    "AnyClass = [\"Engineer\", \"Explorer\", \"Mercenary\", \"Paramedic\", \"Pilot\", \"Rogue\", \"Scientist\", \"Smuggler\", \"Technician\"]"
   ]
  },
  {
   "cell_type": "code",
   "execution_count": 160,
   "metadata": {
    "collapsed": false
   },
   "outputs": [
    {
     "data": {
      "text/plain": [
       "['Engineer',\n",
       " 'Explorer',\n",
       " 'Mercenary',\n",
       " 'Paramedic',\n",
       " 'Pilot',\n",
       " 'Rogue',\n",
       " 'Scientist',\n",
       " 'Smuggler',\n",
       " 'Technician']"
      ]
     },
     "execution_count": 160,
     "metadata": {},
     "output_type": "execute_result"
    }
   ],
   "source": [
    "AnyClass"
   ]
  },
  {
   "cell_type": "code",
   "execution_count": 161,
   "metadata": {
    "collapsed": true
   },
   "outputs": [],
   "source": [
    "plotidea = list()"
   ]
  },
  {
   "cell_type": "code",
   "execution_count": 162,
   "metadata": {
    "collapsed": true
   },
   "outputs": [],
   "source": [
    "for skipid in range(10):\n",
    "    uniname = random.choice(unisex_name)\n",
    "    spec = random.choice(species)\n",
    "\n",
    "    accid = random.choice(vulnerable)\n",
    "\n",
    "    rol = random.choice(role)\n",
    "\n",
    "    poschar = random.choice(pos_character)\n",
    "\n",
    "    negchar = random.choice(neg_character)\n",
    "\n",
    "    physad = random.choice(phys_adj)\n",
    "\n",
    "    jobjo = random.choice(jobsjobs)\n",
    "\n",
    "    pert = random.choice(pertype)\n",
    "    ranwor = random.choice(worlds)\n",
    "    \n",
    "    tera = random.choice(terrain)\n",
    "    \n",
    "    clcla = random.choice(AnyClass)\n",
    "    \n",
    "    plotidea.append(rol + ' ' + uniname + ', ' + spec + ', ' +clcla + ', ' + accid + ', ' + poschar + ', ' + negchar + ', ' + physad + ', ' + \n",
    "       jobjo + ', ' + pert + ', ' + ranwor + ', ' + tera)"
   ]
  },
  {
   "cell_type": "code",
   "execution_count": 163,
   "metadata": {
    "collapsed": true
   },
   "outputs": [],
   "source": [
    "noveldict = dict()"
   ]
  },
  {
   "cell_type": "code",
   "execution_count": null,
   "metadata": {
    "collapsed": true
   },
   "outputs": [],
   "source": []
  },
  {
   "cell_type": "code",
   "execution_count": 164,
   "metadata": {
    "collapsed": false
   },
   "outputs": [
    {
     "name": "stdout",
     "output_type": "stream",
     "text": [
      "Auntie Jamie, unicorn, Smuggler, injured bird, courageous, malicious, fat, Mechanic, Modern Female, Nine Hells, Aquatic\n",
      "Mummy Lee, dragon, Smuggler, deaf person, intuitive, clumsy, pointy, Data Broker, Chinese Male, Elemental Chaos, Plain\n",
      "Mummy Sam, wizard, Scientist, blind person, virtuous, controlling, moist, Paramedic, Netrunner, Elemental Chaos, Desert\n",
      "Mum Lee, alien, Technician, chicken, sweet, sinister, grubby, Corporate, Chinese Male, Shadowfell, Aquatic\n",
      "Dear Alex, alien, Scientist, injured bird, special, scheming, brown, Smuggler, Chinese Female, Shadowfell, Aquatic\n",
      "Bro Morgan, pixie, Rogue, toddler, caring, thoughtless, solid, Mechanic, Chinese Male, Feywild, Hill\n",
      "Bro Morgan, demon, Paramedic, toddler, splendid, smelly, dirty, Mechanic, Chinese Male, Mortal World, Hill\n",
      "Mum Sam, goblin, Smuggler, deaf person, lovable, rude, wobbly, Media, Modern Male, Nine Hells, Mountain\n",
      "Grandpa Bob, demon, Explorer, deaf person, patient, scheming, handsome, Media, Chinese Female, Elemental Chaos, Mountain\n",
      "Dentist Morgan, vampire, Explorer, toddler, generous, forgetful, fluffy, Smuggler, Modern Female, Abyss Astral Sea, Marsh\n"
     ]
    }
   ],
   "source": [
    "for plotc in plotidea:\n",
    "    print (plotc)"
   ]
  },
  {
   "cell_type": "code",
   "execution_count": 165,
   "metadata": {
    "collapsed": false
   },
   "outputs": [
    {
     "data": {
      "text/plain": [
       "['Horror',\n",
       " 'Gain Money',\n",
       " 'Old Enemy',\n",
       " 'A-B-C Quest',\n",
       " 'Scattered Duels',\n",
       " 'Cosmopolitan City',\n",
       " 'Temple/Church',\n",
       " 'Classic Dungeon',\n",
       " 'Conqueror',\n",
       " 'Inquisitor',\n",
       " 'Avenger',\n",
       " 'Obsequious Merchant',\n",
       " 'Beast Amok',\n",
       " 'Mean Drunk',\n",
       " 'Stampede',\n",
       " 'Horseback',\n",
       " 'Totem Animal',\n",
       " 'Love',\n",
       " 'Omnipresent Observer',\n",
       " 'Respect Quandry',\n",
       " 'False Path to the Artifact',\n",
       " 'Mission is a Ruse']"
      ]
     },
     "execution_count": 165,
     "metadata": {},
     "output_type": "execute_result"
    }
   ],
   "source": [
    "shorting"
   ]
  },
  {
   "cell_type": "code",
   "execution_count": 166,
   "metadata": {
    "collapsed": true
   },
   "outputs": [],
   "source": [
    "uniname = random.choice(unisex_name)\n",
    "spec = random.choice(species)\n",
    "\n",
    "accid = random.choice(vulnerable)\n",
    "\n",
    "rol = random.choice(role)\n",
    "\n",
    "poschar = random.choice(pos_character)\n",
    "\n",
    "negchar = random.choice(neg_character)\n",
    "\n",
    "physad = random.choice(phys_adj)\n",
    "\n",
    "jobjo = random.choice(jobsjobs)\n",
    "\n",
    "pert = random.choice(pertype)\n",
    "ranwor = random.choice(worlds)"
   ]
  },
  {
   "cell_type": "code",
   "execution_count": 167,
   "metadata": {
    "collapsed": false
   },
   "outputs": [
    {
     "name": "stdout",
     "output_type": "stream",
     "text": [
      "Grandma Robin, zombie, puppy, considerate, predatory, ugly, Media, Japanese Male, Mortal World\n"
     ]
    }
   ],
   "source": [
    "print (rol + ' ' + uniname + ', ' + spec + ', ' + accid + ', ' + poschar + ', ' + negchar + ', ' + physad + ', ' + \n",
    "       jobjo + ', ' + pert + ', ' + ranwor)"
   ]
  },
  {
   "cell_type": "code",
   "execution_count": 169,
   "metadata": {
    "collapsed": false
   },
   "outputs": [],
   "source": [
    "ranoun = random.choice(nountlist)"
   ]
  },
  {
   "cell_type": "code",
   "execution_count": 170,
   "metadata": {
    "collapsed": true
   },
   "outputs": [],
   "source": [
    "adnoun = random.choice(adjectivelist)"
   ]
  },
  {
   "cell_type": "code",
   "execution_count": 176,
   "metadata": {
    "collapsed": false
   },
   "outputs": [],
   "source": [
    "booktit = ranoun + ' ' + adnoun"
   ]
  },
  {
   "cell_type": "code",
   "execution_count": 178,
   "metadata": {
    "collapsed": false
   },
   "outputs": [],
   "source": [
    "booknos = booktit.replace(' ', '-')"
   ]
  },
  {
   "cell_type": "code",
   "execution_count": 179,
   "metadata": {
    "collapsed": false
   },
   "outputs": [
    {
     "data": {
      "text/plain": [
       "'Roses-Entwined'"
      ]
     },
     "execution_count": 179,
     "metadata": {},
     "output_type": "execute_result"
    }
   ],
   "source": [
    "booknos"
   ]
  },
  {
   "cell_type": "code",
   "execution_count": 190,
   "metadata": {
    "collapsed": false
   },
   "outputs": [
    {
     "name": "stdout",
     "output_type": "stream",
     "text": [
      "Auntie Jamie, unicorn, Smuggler, injured bird, courageous, malicious, fat, Mechanic, Modern Female, Nine Hells, Aquatic\n",
      "Mummy Lee, dragon, Smuggler, deaf person, intuitive, clumsy, pointy, Data Broker, Chinese Male, Elemental Chaos, Plain\n",
      "Mummy Sam, wizard, Scientist, blind person, virtuous, controlling, moist, Paramedic, Netrunner, Elemental Chaos, Desert\n",
      "Mum Lee, alien, Technician, chicken, sweet, sinister, grubby, Corporate, Chinese Male, Shadowfell, Aquatic\n",
      "Dear Alex, alien, Scientist, injured bird, special, scheming, brown, Smuggler, Chinese Female, Shadowfell, Aquatic\n",
      "Bro Morgan, pixie, Rogue, toddler, caring, thoughtless, solid, Mechanic, Chinese Male, Feywild, Hill\n",
      "Bro Morgan, demon, Paramedic, toddler, splendid, smelly, dirty, Mechanic, Chinese Male, Mortal World, Hill\n",
      "Mum Sam, goblin, Smuggler, deaf person, lovable, rude, wobbly, Media, Modern Male, Nine Hells, Mountain\n",
      "Grandpa Bob, demon, Explorer, deaf person, patient, scheming, handsome, Media, Chinese Female, Elemental Chaos, Mountain\n",
      "Dentist Morgan, vampire, Explorer, toddler, generous, forgetful, fluffy, Smuggler, Modern Female, Abyss Astral Sea, Marsh\n"
     ]
    }
   ],
   "source": [
    "with open(nikpos + booknos + '.rst', 'w') as mok:\n",
    "    for plotc in plotidea:\n",
    "        print (plotc)\n",
    "        mok.write(plotc + '\\n\\n')\n",
    "    \n",
    "    for sho in shorting:\n",
    "        mok.write(sho + '\\n\\n')\n",
    "        \n",
    "        \n",
    "with open(nikpos + booknos + '.meta', 'w') as dok:\n",
    "        dok.write('.. title: {} \\n.. slug: {} \\n.. date: {} \\n.. author: {}'.format(booktit, booknos, fultim, myusr))\n",
    "        \n",
    "        "
   ]
  },
  {
   "cell_type": "code",
   "execution_count": null,
   "metadata": {
    "collapsed": true
   },
   "outputs": [],
   "source": []
  }
 ],
 "metadata": {
  "kernelspec": {
   "display_name": "Python 3",
   "language": "python",
   "name": "python3"
  },
  "language_info": {
   "codemirror_mode": {
    "name": "ipython",
    "version": 3
   },
   "file_extension": ".py",
   "mimetype": "text/x-python",
   "name": "python",
   "nbconvert_exporter": "python",
   "pygments_lexer": "ipython3",
   "version": "3.4.2"
  }
 },
 "nbformat": 4,
 "nbformat_minor": 0
}
