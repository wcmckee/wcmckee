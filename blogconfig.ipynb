{
 "cells": [
  {
   "cell_type": "markdown",
   "metadata": {},
   "source": [
<<<<<<< HEAD
    "create blog config file. json file that contains the path of the current blog to update. script to add multiy blogs and switch and choose which ones are updated.\n",
    "\n",
    "Licence post under certain creaitve commons licence."
=======
    "script to create config file for nikola to read when it is creating a new post for artctrl"
>>>>>>> d8aa60f0cd44d57795ef218187167a6a17be80ee
   ]
  },
  {
   "cell_type": "code",
<<<<<<< HEAD
   "execution_count": 51,
=======
   "execution_count": 5,
>>>>>>> d8aa60f0cd44d57795ef218187167a6a17be80ee
   "metadata": {
    "collapsed": true
   },
   "outputs": [],
   "source": [
<<<<<<< HEAD
    "import getpass \n",
    "import os\n",
    "import json\n"
=======
    "import configparser\n",
    "import getpass"
>>>>>>> d8aa60f0cd44d57795ef218187167a6a17be80ee
   ]
  },
  {
   "cell_type": "code",
<<<<<<< HEAD
   "execution_count": 52,
=======
   "execution_count": 6,
>>>>>>> d8aa60f0cd44d57795ef218187167a6a17be80ee
   "metadata": {
    "collapsed": true
   },
   "outputs": [],
   "source": [
    "myusr = getpass.getuser()"
   ]
  },
  {
   "cell_type": "code",
<<<<<<< HEAD
   "execution_count": 53,
=======
   "execution_count": 7,
>>>>>>> d8aa60f0cd44d57795ef218187167a6a17be80ee
   "metadata": {
    "collapsed": false
   },
   "outputs": [
    {
<<<<<<< HEAD
     "name": "stdout",
     "output_type": "stream",
     "text": [
      "Name of the blog to add: artctrl-alt\n"
     ]
    }
   ],
   "source": [
    "nameofblog = input('Name of the blog to add: ')"
   ]
  },
  {
   "cell_type": "code",
   "execution_count": 54,
   "metadata": {
    "collapsed": false
   },
   "outputs": [
    {
     "name": "stdout",
     "output_type": "stream",
     "text": [
      "Home path? y/N: N\n"
     ]
    }
   ],
   "source": [
    "homepat = input('Home path? y/N: ')"
=======
     "data": {
      "text/plain": [
       "'wcm'"
      ]
     },
     "execution_count": 7,
     "metadata": {},
     "output_type": "execute_result"
    }
   ],
   "source": [
    "myusr"
>>>>>>> d8aa60f0cd44d57795ef218187167a6a17be80ee
   ]
  },
  {
   "cell_type": "code",
   "execution_count": null,
   "metadata": {
    "collapsed": true
   },
   "outputs": [],
   "source": []
  },
  {
   "cell_type": "code",
<<<<<<< HEAD
   "execution_count": 55,
   "metadata": {
    "collapsed": false
   },
   "outputs": [],
   "source": [
    "if 'y' in homepat:\n",
    "    \n",
    "    blogadded = '/home/{}/{}'.format(myusr, nameofblog)\n",
    "    print(os.listdir(blogadded))\n",
    "    print(os.listdir(blogadded + '/posts/'))\n",
    "else:\n",
    "    blogadded = '/media/{}/53F3-EF67/{}'.format(myusr, nameofblog)\n",
    "    os.listdir(blogadded)\n",
    "    "
   ]
  },
  {
   "cell_type": "code",
   "execution_count": 56,
   "metadata": {
    "collapsed": false
   },
   "outputs": [
    {
     "data": {
      "text/plain": [
       "'/media/pi/53F3-EF67/artctrl-alt'"
      ]
     },
     "execution_count": 56,
     "metadata": {},
     "output_type": "execute_result"
    }
   ],
   "source": [
    "blogadded"
   ]
  },
  {
   "cell_type": "code",
   "execution_count": 57,
=======
   "execution_count": null,
>>>>>>> d8aa60f0cd44d57795ef218187167a6a17be80ee
   "metadata": {
    "collapsed": true
   },
   "outputs": [],
   "source": [
<<<<<<< HEAD
    "blogdict = dict()"
=======
    "cfgfile = "
>>>>>>> d8aa60f0cd44d57795ef218187167a6a17be80ee
   ]
  },
  {
   "cell_type": "code",
<<<<<<< HEAD
   "execution_count": 58,
=======
   "execution_count": 8,
>>>>>>> d8aa60f0cd44d57795ef218187167a6a17be80ee
   "metadata": {
    "collapsed": true
   },
   "outputs": [],
   "source": [
<<<<<<< HEAD
    "blogdict.update({'blogdir' : blogadded})"
=======
    "#with open('/home/{}/nikolaconfig.ini'.format(myusr, 'w') as cfgfile:\n",
    "#          cfgfile.write()"
>>>>>>> d8aa60f0cd44d57795ef218187167a6a17be80ee
   ]
  },
  {
   "cell_type": "code",
<<<<<<< HEAD
   "execution_count": 59,
=======
   "execution_count": 13,
>>>>>>> d8aa60f0cd44d57795ef218187167a6a17be80ee
   "metadata": {
    "collapsed": false
   },
   "outputs": [],
   "source": [
<<<<<<< HEAD
    "indjs = json.dumps(blogdict)"
=======
    "cfgfile = open('/home/{}/nikolaconfig.ini'.format(myusr), 'w')\n",
    "Config = configparser.ConfigParser()\n",
    "\n",
    "Config.add_section('dir')\n",
    "Config.set('dir','usb', myusr)\n",
    "Config.write(cfgfile)\n",
    "cfgfile.close()"
>>>>>>> d8aa60f0cd44d57795ef218187167a6a17be80ee
   ]
  },
  {
   "cell_type": "code",
<<<<<<< HEAD
   "execution_count": 60,
=======
   "execution_count": 14,
>>>>>>> d8aa60f0cd44d57795ef218187167a6a17be80ee
   "metadata": {
    "collapsed": false
   },
   "outputs": [
    {
<<<<<<< HEAD
     "data": {
      "text/plain": [
       "'{\"blogdir\": \"/media/pi/53F3-EF67/artctrl-alt\"}'"
      ]
     },
     "execution_count": 60,
     "metadata": {},
     "output_type": "execute_result"
    }
   ],
   "source": [
    "indjs"
=======
     "name": "stdout",
     "output_type": "stream",
     "text": [
      "[Person]\r\n",
      "name = wcm\r\n",
      "\r\n"
     ]
    }
   ],
   "source": [
    "cat /home/wcm/nikolaconfig.ini"
>>>>>>> d8aa60f0cd44d57795ef218187167a6a17be80ee
   ]
  },
  {
   "cell_type": "code",
<<<<<<< HEAD
   "execution_count": 61,
   "metadata": {
    "collapsed": false
   },
   "outputs": [],
   "source": [
    "with open('/home/{}/blogdir.json'.format(myusr), 'w') as blogd:\n",
    "    blogd.write(indjs)"
   ]
  },
  {
   "cell_type": "code",
   "execution_count": null,
   "metadata": {
    "collapsed": true
   },
   "outputs": [],
   "source": []
  },
  {
   "cell_type": "code",
=======
>>>>>>> d8aa60f0cd44d57795ef218187167a6a17be80ee
   "execution_count": null,
   "metadata": {
    "collapsed": true
   },
   "outputs": [],
   "source": []
  }
 ],
 "metadata": {
  "kernelspec": {
   "display_name": "Python 3",
   "language": "python",
   "name": "python3"
  },
  "language_info": {
   "codemirror_mode": {
    "name": "ipython",
    "version": 3
   },
   "file_extension": ".py",
   "mimetype": "text/x-python",
   "name": "python",
   "nbconvert_exporter": "python",
   "pygments_lexer": "ipython3",
   "version": "3.4.2"
  }
 },
 "nbformat": 4,
 "nbformat_minor": 0
}
