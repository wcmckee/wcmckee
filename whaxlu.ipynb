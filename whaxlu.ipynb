{
 "metadata": {
  "name": "",
  "signature": "sha256:0dc12fb552e36e22b24d590a3e98f7137caba080c4d2d492db3ff7304f5241bb"
 },
 "nbformat": 3,
 "nbformat_minor": 0,
 "worksheets": [
  {
   "cells": [
    {
     "cell_type": "markdown",
     "metadata": {},
     "source": [
      "<h2>visitor sign system</h2>\n",
      "\n",
      "This is a python script used to sign in and signout, keeping track of hours and creating a more automative system.\n",
      "\n",
      "Make sign in and out faster, easier to keep track of.\n",
      "\n",
      "Never forget. \n",
      "\n",
      "Auto roll check. \n",
      "\n",
      "Two random hex codes for security and correct checking. Made use of tthese by using one as file name when saving.\n",
      "\n",
      "Creates xls file with data, also uses sqlalchemy for databases, web server, html page: \n",
      "input (or auto) name, reason, auto day/month/year hr/min - of signin.\n",
      "\n",
      "when launched asked if you want to signin or signout. \n",
      "\n",
      "how i want this to run for william:\n",
      "\n",
      "william arrives into whai. On his phone he runs the signin script. On signing out for the day the script is run onto final part, signout. asks for comment first then records time, and date. \n",
      "\n",
      "comment system. leave comment for staff, parent, tag staff, area, story, parent, child.\n",
      "\n",
      "signout - enter code of session you want to signout. \n",
      "\n",
      "Screw the excel file, im just dealing with index page. i am saving achieve in posts folder under urandom 13 character code. \n"
     ]
    },
    {
     "cell_type": "code",
     "collapsed": false,
     "input": [
      "import os\n",
      "import time\n",
      "import xlutils\n",
      "import xlwt\n",
      "import xlrd\n",
      "import dominate\n",
      "import sys\n",
      "from dominate.tags import *\n",
      "#from sqlalchemy import Column, ForeignKey, Integer, String\n",
      "#from sqlalchemy.ext.declarative import declarative_base\n",
      "#from sqlalchemy.orm import relationship\n",
      "#from sqlalchemy import create_engine"
     ],
     "language": "python",
     "metadata": {},
     "outputs": [],
     "prompt_number": 6
    },
    {
     "cell_type": "code",
     "collapsed": false,
     "input": [
      "mname = ('William Mckee')\n",
      "ename = ('will@artcontrol.me')\n",
      "signin = ('ESW')"
     ],
     "language": "python",
     "metadata": {},
     "outputs": [],
     "prompt_number": 7
    },
    {
     "cell_type": "code",
     "collapsed": false,
     "input": [
      "#Base = declarative_base()\n",
      " \n",
      "#class Person(Base):\n",
      "#    __tablename__ = 'person'\n",
      "#    # Here we define columns for the table person\n",
      "#    # Notice that each column is also a normal Python instance attribute.\n",
      "#    id = Column(Integer, primary_key=True)\n",
      "#    name = Column(String(250), nullable=False)\n",
      " \n",
      "#class Address(Base):\n",
      "#    __tablename__ = 'address'\n",
      "#    # Here we define columns for the table address.\n",
      "#    # Notice that each column is also a normal Python instance attribute.\n",
      "#    id = Column(Integer, primary_key=True)\n",
      "#    datesignin = Column(String(250))\n",
      "#    hrminsignin = Column(String(250))\n",
      "#    usernamesignin = Column(String(250), nullable=False)\n",
      "#    reasonsignin = Column(String(250))\n",
      "#    person_id = Column(Integer, ForeignKey('person.id'))\n",
      "#    person = relationship(Person)\n",
      " \n",
      "# Create an engine that stores data in the local directory's\n",
      "# sqlalchemy_example.db file.\n",
      "#engine = create_engine('sqlite:///sqlalchemy_example.db')\n",
      " \n",
      "# Create a$ll tables in the engine. This is equivalent to \"Create Table\"\n",
      "# statements in raw SQL.\n",
      "#Base.metadata.create_all(engine)"
     ],
     "language": "python",
     "metadata": {},
     "outputs": [],
     "prompt_number": 8
    },
    {
     "cell_type": "code",
     "collapsed": false,
     "input": [
      "#from sqlalchemy import create_engine\n",
      "#from sqlalchemy.orm import sessionmaker\n",
      " \n",
      "#from sqlalchemy_declarative import Address, Base, Person\n",
      " \n",
      "#engine = create_engine('sqlite:///sqlalchemy_example.db')\n",
      "# Bind the engine to the metadata of the Base class so that the\n",
      "# declaratives can be accessed through a DBSession instance\n",
      "#Base.metadata.bind = engine\n",
      " \n",
      "#DBSession = sessionmaker(bind=engine)\n",
      "# A DBSession() instance establishes all conversations with the database\n",
      "# and represents a \"staging zone\" for all the objects loaded into the\n",
      "# database session object. Any change made against the objects in the\n",
      "# session won't be persisted into the database until you call\n",
      "# session.commit(). If you're not happy about the changes, you can\n",
      "# revert all of them back to the last commit by calling\n",
      "# session.rollback()\n",
      "#session = DBSession()\n",
      " \n",
      "# Insert a Person in the person table\n",
      "#new_person = Person(name='new person')\n",
      "#session.add(new_person)\n",
      "#session.commit()\n",
      " \n",
      "# Insert an Address in the address table\n",
      "#new_address = Address(post_code='00000', person=new_person)\n",
      "#session.add(new_address)\n",
      "#session.commit()"
     ],
     "language": "python",
     "metadata": {},
     "outputs": [],
     "prompt_number": 9
    },
    {
     "cell_type": "code",
     "collapsed": false,
     "input": [
      "#wrkbook = xlrd.open_workbook('/home/wcmckee/whai/index.xls')"
     ],
     "language": "python",
     "metadata": {},
     "outputs": [],
     "prompt_number": 10
    },
    {
     "cell_type": "code",
     "collapsed": false,
     "input": [
      "#print wrkbook.sheet_names()\n",
      "\n",
      "#worksheet = wrkbook.sheet_by_name('visitor sign database')\n"
     ],
     "language": "python",
     "metadata": {},
     "outputs": [],
     "prompt_number": 11
    },
    {
     "cell_type": "code",
     "collapsed": false,
     "input": [
      "#swlis = []"
     ],
     "language": "python",
     "metadata": {},
     "outputs": [],
     "prompt_number": 12
    },
    {
     "cell_type": "code",
     "collapsed": false,
     "input": [
      "#num_rows = worksheet.nrows - 1\n",
      "#curr_row = -1\n",
      "#while curr_row < num_rows:\n",
      "#    curr_row += 1\n",
      "#    row = worksheet.row(curr_row)\n",
      "#    print row\n",
      "#    swlis.append(row)"
     ],
     "language": "python",
     "metadata": {},
     "outputs": [],
     "prompt_number": 13
    },
    {
     "cell_type": "code",
     "collapsed": false,
     "input": [
      "#valis = []"
     ],
     "language": "python",
     "metadata": {},
     "outputs": [],
     "prompt_number": 14
    },
    {
     "cell_type": "code",
     "collapsed": false,
     "input": [
      "#for swl in swlis[1]:\n",
      "#    print swl.value\n",
      "#    valis.append(swl.value)"
     ],
     "language": "python",
     "metadata": {},
     "outputs": [],
     "prompt_number": 15
    },
    {
     "cell_type": "code",
     "collapsed": false,
     "input": [
      "#valis"
     ],
     "language": "python",
     "metadata": {},
     "outputs": [],
     "prompt_number": 16
    },
    {
     "cell_type": "code",
     "collapsed": false,
     "input": [
      "time.strftime(\"%a, %d %b %Y %H:%M: +0000\", time.gmtime())"
     ],
     "language": "python",
     "metadata": {},
     "outputs": [
      {
       "metadata": {},
       "output_type": "pyout",
       "prompt_number": 17,
       "text": [
        "'Sun, 12 Oct 2014 17:47: +0000'"
       ]
      }
     ],
     "prompt_number": 17
    },
    {
     "cell_type": "code",
     "collapsed": false,
     "input": [
      "wb = xlwt.Workbook()\n",
      "ws = wb.add_sheet('visitor sign database')"
     ],
     "language": "python",
     "metadata": {},
     "outputs": [],
     "prompt_number": 18
    },
    {
     "cell_type": "code",
     "collapsed": false,
     "input": [
      "rangen = []"
     ],
     "language": "python",
     "metadata": {},
     "outputs": [],
     "prompt_number": 19
    },
    {
     "cell_type": "code",
     "collapsed": false,
     "input": [
      "for genz in range(8):\n",
      "    print os.urandom(128).encode('hex')\n",
      "    rangen.append(os.urandom(128).encode('hex'))"
     ],
     "language": "python",
     "metadata": {},
     "outputs": [
      {
       "output_type": "stream",
       "stream": "stdout",
       "text": [
        "98342e1996015164ce19573fef2116413d8e4e22287ab92757f58c14215c418fb5424ffed07cd4b36c73fc3e2014f70bfed4e3d22f0a78f3d7d9da94a63a02a4c0eac642bac04f638c2c2b7f24114b6a2ebdc1bcd16d70f1d4814a4fe5c69755668ab5c956d1e5d7df54e4ef6fdd96a537f82e21bd0934e4f620200bab16cd4a\n",
        "72a707300534a10dd559f5a45471fb064d55fd4dbb63904ecf25b0e76f7bde67f9dd43b1f24513635a757fecfe9783c32e7f1725e266a77c1ecf0b9ab4f81a5273fd08fc7bd5d9d8fea5ab72d4504dea0e1ddb56cc9b8634b7ff1375e3629968717d6201a02101f9b8a1f26a4e70e6257ed7b50c1e9346074bc3fe042cc2eb65\n",
        "a728b16985c08b24678c957f2d86952b409bdfe87239208c6703986a9cf95e33621729ac975ae6a6cb31715f2a55e6a521196002d0a11b7149c2591c00a5b5f6067d41cccec02d3ca60230aecb7a31571c63b13c3ce1ebda30c38b9f9ef4e108a8a98deb18eac95da757d5dec4d137f284693d06829a3853d8673ec0290f2226\n",
        "ea511efab154866da6666ffa18dd08862c8a2b9697e758f44855348c3c28dd101e26a70a46b2bbfc24212170979bd465b7d27491bbda7bd712387658a88b5de622ad5a906bdca252466ec1c920c2d772393ce6927fb04d439dad65e9eca03e4e825ac75013c44d354758be8ce6a9b0d5613321e5040fb890f1fff731a24b4a3c\n",
        "de861b26115add3f6bea182f064b39e317613b7967c84f85b8774bfbf92afa556c64063aba1b433dbba0c6cd72669c82730bb4005ec2c9058f2ad1bf09b161b59b09985f9cafd6044520154e711118bd15bf026349252c52fd319b48f228d5a3a567dc52ce003113ff7e1190c35bbe11ee3fdb4c996cf9bb812e990a8af282ec\n",
        "e234676835caac04e99ec29bf63072b285bf4dce698085773de4f2438dd86d81499042940caf9673c9e04c3a3c92eb1cbb524d63aac269c2b26da85070d18e0e6ce60f29a76e37f7c73eaaad0f25514fd341a59292e9a482b249cd45b42bcdff162b4fe0dec115fdaab7b0c91632320172fad6d19abd571a61ed701b41f36c1f\n",
        "814a76ce3109cd8d398828725b44714553c16d62c38c331f9c4f679a64ff37c28f0487c9c8c086673ac67bee9b93e0232a3e8e102075edba80d67ed0209791ad60f86126704341809b3d66473dfb49ae157af00112272c0c99c38859bd7132eee8313ff89737aa6f145a5a525f01791f7fef737890cc89f814e922900660779d\n",
        "3fd4e64a42fb085a8e1cfdfa4fb1437c069a378bf1f43ea7c0f70717bae5b5ba93534a301ee440794e66c98c6aefe2934c90b73b5ec728d413684c0c49d6d309012fc1a0df523aa3877e5a19bd3fa9ef79a20bb755bb07dcdd69c0c50ddfffde46bc3b3ca2bfe1047285184659a1d19648d0c5518bb2c0afec636636eaf96beb\n"
       ]
      }
     ],
     "prompt_number": 20
    },
    {
     "cell_type": "code",
     "collapsed": false,
     "input": [
      "rangen"
     ],
     "language": "python",
     "metadata": {},
     "outputs": [
      {
       "metadata": {},
       "output_type": "pyout",
       "prompt_number": 21,
       "text": [
        "['2226d323c5c90652e7c70abca2cbe5eb7a74dc1d49780ac8ebb0ff6ec2eeaa8b735c87b50c5ad4c2f0ee4a9852272bace8fef5e87b48c9b16da34d9e61f965c555cbd91063282c4a1afd1d1cfa7f05b99f6653816a13970cb0a57bf87fb1445742d6fa16148cbbed3a26b377fb15bb5154e7218fdf2299e76962419502d04c68',\n",
        " 'f4e59a287ff96af450ec11b7f7fd5a83102ffd184ed22f87f5a815b1c4c2eee801376ede2a6fe783f9232c5a4c241199af66ad03d787111a74b3b4cbb77a043fdb46f2726b2f023fa1645903a443110172206e9e1ebdc6aa71ce2c9404a6fc248d6232ea783069f10e1007b98ddc4eba439fd87bdb9ef68279cbee2ba632fe10',\n",
        " '5b385eef6e3d04ebc8a6a25647d138b31ce65699514bd848d3062353ca2e889e015e0bb15daffe250d8002d2c60bf4b67964688557e45477cdd07c5e1a523845c07668d9714c4b6e75996ab56f4bf34a2f20fe79a78b0eccf4447a157acef4b9a27df7dcd3c43639d10ee3f06de7e74b9f922bf2b8563ee07dcb8c8c93f69696',\n",
        " 'd05a4b44bcaea44ace62ea11bd8db5aa0cf738bd33bb58b37a43697bc2462269c02469269cbd78afe87d43bc96ac012845053344be50b99394015f0cc783bcabd436cdacf2d1121b3605cac98eda6f2c06f5321cd9baff6567061850c4f67bb292cefa8a2c9fa1f092062f7e30a55123d35b8a5105398b12613fd2702ad4dc79',\n",
        " '3786d2634c41c4fd17eb0fd90b9587bed82cf3ce850492829e2debf090abce45a076dc15cec6e6541bd486bae9519d5e9f69683ed08f36a79320b74714f372f2e115ea8ef9d0c9ca46ac760cebce5cae254aed2d1346eed2b23074bea4935815424675657592ae357a0e7ab11f8fc45c814a38a79cecd8f8d068722113767f6c',\n",
        " 'e57e4483d87d30cd35745a47bf424234c0b480c18c96328d95b9908d4c2e0f1cb31e6e31bb253e2e9719d1b6282f57deb99446042bc8021045d8b0bab43ffbd61fe6b9e30b305c8be4bde413b752d8bb4803f70de450c1e86148736a4b551203f4cc772c8455783c7e93c87b7994d03d9dd8ade4190f20320daff00e642013e5',\n",
        " '8cc931576522ed6f34247075970826c34089300e42e1dc64cee2906b469d4f99033298e41783f0564e1f9b18b5c174b968f6b60237abda7cf66c5a9808190ea1450a346446e796d63fdf8a695560ae54830634d0602222797336b90f702610c8e9010c8e83ff191c702aa88f7aa07dd0c6c230100ba9e64bcbbca1837b3c127c',\n",
        " 'eb17dc4309d9b5fc52178803499eed159e06ba787283180020038a2aa594ad09576070ff06d0c244664946dd0d0771de7c9185c9a155ffa01ae18c6fde9582c9d289773ff36fdf6c8d04faa294fc713f1d05386261b1e25dff7db713287c73d39cc2753cb2a75b65f446f1e03f4c4dc14e0be5addc894593c76b53655a50244f']"
       ]
      }
     ],
     "prompt_number": 21
    },
    {
     "cell_type": "code",
     "collapsed": false,
     "input": [
      "exran = os.urandom(128).encode('hex')"
     ],
     "language": "python",
     "metadata": {},
     "outputs": [],
     "prompt_number": 22
    },
    {
     "cell_type": "code",
     "collapsed": false,
     "input": [
      "ixran = os.urandom(128).encode('hex')"
     ],
     "language": "python",
     "metadata": {},
     "outputs": [],
     "prompt_number": 23
    },
    {
     "cell_type": "code",
     "collapsed": false,
     "input": [
      "rawdets = ['In Date', 'In Time', 'In Code', 'Name', 'Reason', 'Out Date', 'Out Time']"
     ],
     "language": "python",
     "metadata": {},
     "outputs": [],
     "prompt_number": 24
    },
    {
     "cell_type": "code",
     "collapsed": false,
     "input": [
      "numroll = []"
     ],
     "language": "python",
     "metadata": {},
     "outputs": [],
     "prompt_number": 25
    },
    {
     "cell_type": "code",
     "collapsed": false,
     "input": [
      "for det in range(6):\n",
      "    print det\n",
      "    numroll.append(det)\n",
      "    #ws.write(0, det, )"
     ],
     "language": "python",
     "metadata": {},
     "outputs": [
      {
       "output_type": "stream",
       "stream": "stdout",
       "text": [
        "0\n",
        "1\n",
        "2\n",
        "3\n",
        "4\n",
        "5\n"
       ]
      }
     ],
     "prompt_number": 26
    },
    {
     "cell_type": "code",
     "collapsed": false,
     "input": [
      "for rad in rawdets:\n",
      "    print rad\n",
      "    #print len(rad)\n",
      "    print rad.upper()\n",
      "    #range(20)"
     ],
     "language": "python",
     "metadata": {},
     "outputs": [
      {
       "output_type": "stream",
       "stream": "stdout",
       "text": [
        "In Date\n",
        "IN DATE\n",
        "In Time\n",
        "IN TIME\n",
        "In Code\n",
        "IN CODE\n",
        "Name\n",
        "NAME\n",
        "Reason\n",
        "REASON\n",
        "Out Date\n",
        "OUT DATE\n",
        "Out Time\n",
        "OUT TIME\n"
       ]
      }
     ],
     "prompt_number": 27
    },
    {
     "cell_type": "code",
     "collapsed": false,
     "input": [
      "ws.write(0, 0, 'In Date')\n",
      "ws.write(0, 1, 'In Time')\n",
      "ws.write(0, 2, 'In Code')\n",
      "ws.write(0, 3, 'Name')\n",
      "ws.write(0, 4, 'Reason')\n",
      "ws.write(0, 5, 'Out Date')\n",
      "ws.write(0, 6, 'Out Time')\n",
      "ws.write(0, 7, 'Out Code')"
     ],
     "language": "python",
     "metadata": {},
     "outputs": [],
     "prompt_number": 28
    },
    {
     "cell_type": "code",
     "collapsed": false,
     "input": [
      "#strftime is %d (day), \n",
      "\n",
      "ws.write(1, 0, time.strftime(\"%d\" + \"-\" + \"%b\" + \"-\" + \"%Y\"))\n",
      "\n",
      "ws.write(1, 1, time.strftime(\"%H:%M\"))"
     ],
     "language": "python",
     "metadata": {},
     "outputs": [],
     "prompt_number": 29
    },
    {
     "cell_type": "code",
     "collapsed": false,
     "input": [
      "#getname = raw_input('Name: ')\n",
      "#getreason = raw_input('Reason: ')"
     ],
     "language": "python",
     "metadata": {},
     "outputs": [],
     "prompt_number": 30
    },
    {
     "cell_type": "code",
     "collapsed": false,
     "input": [
      "ws.write(1, 2, exran)"
     ],
     "language": "python",
     "metadata": {},
     "outputs": [],
     "prompt_number": 31
    },
    {
     "cell_type": "code",
     "collapsed": false,
     "input": [
      "ws.write(1, 3, mname)"
     ],
     "language": "python",
     "metadata": {},
     "outputs": [],
     "prompt_number": 32
    },
    {
     "cell_type": "code",
     "collapsed": false,
     "input": [
      "ws.write(1, 4, signin)"
     ],
     "language": "python",
     "metadata": {},
     "outputs": [],
     "prompt_number": 33
    },
    {
     "cell_type": "code",
     "collapsed": false,
     "input": [
      "#wb.save('/home/wcmckee/whai/' + xlvs)\n",
      "wb.save('/home/wcmckee/whai/index.xls')"
     ],
     "language": "python",
     "metadata": {},
     "outputs": [],
     "prompt_number": 34
    },
    {
     "cell_type": "code",
     "collapsed": false,
     "input": [
      "usecom = raw_input('Comments: ')"
     ],
     "language": "python",
     "metadata": {},
     "outputs": [
      {
       "name": "stdout",
       "output_type": "stream",
       "stream": "stdout",
       "text": [
        "Comments: it was a good day\n"
       ]
      }
     ],
     "prompt_number": 36
    },
    {
     "cell_type": "code",
     "collapsed": false,
     "input": [
      "usecom"
     ],
     "language": "python",
     "metadata": {},
     "outputs": [
      {
       "metadata": {},
       "output_type": "pyout",
       "prompt_number": 37,
       "text": [
        "'it was a good day'"
       ]
      }
     ],
     "prompt_number": 37
    },
    {
     "cell_type": "code",
     "collapsed": false,
     "input": [],
     "language": "python",
     "metadata": {},
     "outputs": [],
     "prompt_number": 37
    },
    {
     "cell_type": "code",
     "collapsed": false,
     "input": [
      "wsdict = {mname: rangen[0]}"
     ],
     "language": "python",
     "metadata": {},
     "outputs": [],
     "prompt_number": 38
    },
    {
     "cell_type": "code",
     "collapsed": false,
     "input": [],
     "language": "python",
     "metadata": {},
     "outputs": [],
     "prompt_number": 38
    },
    {
     "cell_type": "code",
     "collapsed": false,
     "input": [
      "wsdict"
     ],
     "language": "python",
     "metadata": {},
     "outputs": [
      {
       "metadata": {},
       "output_type": "pyout",
       "prompt_number": 39,
       "text": [
        "{'William Mckee': '2226d323c5c90652e7c70abca2cbe5eb7a74dc1d49780ac8ebb0ff6ec2eeaa8b735c87b50c5ad4c2f0ee4a9852272bace8fef5e87b48c9b16da34d9e61f965c555cbd91063282c4a1afd1d1cfa7f05b99f6653816a13970cb0a57bf87fb1445742d6fa16148cbbed3a26b377fb15bb5154e7218fdf2299e76962419502d04c68'}"
       ]
      }
     ],
     "prompt_number": 39
    },
    {
     "cell_type": "code",
     "collapsed": false,
     "input": [
      "wsdict.update({time.strftime(\"%d\" + \"-\" + \"%b\" + \"-\" + \"%Y\"): rangen[1]})"
     ],
     "language": "python",
     "metadata": {},
     "outputs": [],
     "prompt_number": 40
    },
    {
     "cell_type": "code",
     "collapsed": false,
     "input": [
      "wsdict.update({ time.strftime(\"%H:%M\"): rangen[2]})"
     ],
     "language": "python",
     "metadata": {},
     "outputs": [],
     "prompt_number": 41
    },
    {
     "cell_type": "code",
     "collapsed": false,
     "input": [
      "wsdict.update({signin: rangen[3]})"
     ],
     "language": "python",
     "metadata": {},
     "outputs": [],
     "prompt_number": 42
    },
    {
     "cell_type": "code",
     "collapsed": false,
     "input": [
      "wsdict.update({usecom: rangen[4]})"
     ],
     "language": "python",
     "metadata": {},
     "outputs": [],
     "prompt_number": 43
    },
    {
     "cell_type": "code",
     "collapsed": false,
     "input": [
      "wsdict"
     ],
     "language": "python",
     "metadata": {},
     "outputs": [
      {
       "metadata": {},
       "output_type": "pyout",
       "prompt_number": 44,
       "text": [
        "{'12-Oct-2014': 'f4e59a287ff96af450ec11b7f7fd5a83102ffd184ed22f87f5a815b1c4c2eee801376ede2a6fe783f9232c5a4c241199af66ad03d787111a74b3b4cbb77a043fdb46f2726b2f023fa1645903a443110172206e9e1ebdc6aa71ce2c9404a6fc248d6232ea783069f10e1007b98ddc4eba439fd87bdb9ef68279cbee2ba632fe10',\n",
        " '17:47': '5b385eef6e3d04ebc8a6a25647d138b31ce65699514bd848d3062353ca2e889e015e0bb15daffe250d8002d2c60bf4b67964688557e45477cdd07c5e1a523845c07668d9714c4b6e75996ab56f4bf34a2f20fe79a78b0eccf4447a157acef4b9a27df7dcd3c43639d10ee3f06de7e74b9f922bf2b8563ee07dcb8c8c93f69696',\n",
        " 'ESW': 'd05a4b44bcaea44ace62ea11bd8db5aa0cf738bd33bb58b37a43697bc2462269c02469269cbd78afe87d43bc96ac012845053344be50b99394015f0cc783bcabd436cdacf2d1121b3605cac98eda6f2c06f5321cd9baff6567061850c4f67bb292cefa8a2c9fa1f092062f7e30a55123d35b8a5105398b12613fd2702ad4dc79',\n",
        " 'William Mckee': '2226d323c5c90652e7c70abca2cbe5eb7a74dc1d49780ac8ebb0ff6ec2eeaa8b735c87b50c5ad4c2f0ee4a9852272bace8fef5e87b48c9b16da34d9e61f965c555cbd91063282c4a1afd1d1cfa7f05b99f6653816a13970cb0a57bf87fb1445742d6fa16148cbbed3a26b377fb15bb5154e7218fdf2299e76962419502d04c68',\n",
        " 'it was a good day': '3786d2634c41c4fd17eb0fd90b9587bed82cf3ce850492829e2debf090abce45a076dc15cec6e6541bd486bae9519d5e9f69683ed08f36a79320b74714f372f2e115ea8ef9d0c9ca46ac760cebce5cae254aed2d1346eed2b23074bea4935815424675657592ae357a0e7ab11f8fc45c814a38a79cecd8f8d068722113767f6c'}"
       ]
      }
     ],
     "prompt_number": 44
    },
    {
     "cell_type": "code",
     "collapsed": false,
     "input": [
      "wsdict.keys()"
     ],
     "language": "python",
     "metadata": {},
     "outputs": [
      {
       "metadata": {},
       "output_type": "pyout",
       "prompt_number": 45,
       "text": [
        "['17:47', 'ESW', 'William Mckee', '12-Oct-2014', 'it was a good day']"
       ]
      }
     ],
     "prompt_number": 45
    },
    {
     "cell_type": "code",
     "collapsed": false,
     "input": [],
     "language": "python",
     "metadata": {},
     "outputs": [],
     "prompt_number": 45
    },
    {
     "cell_type": "code",
     "collapsed": false,
     "input": [
      "doc = dominate.document(title='visitor sign sheet')\n",
      "\n",
      "with doc.head:\n",
      "    link(rel='stylesheet', href='style.css')\n",
      "    script(type='text/javascript', src='script.js')\n",
      "\n",
      "with doc:\n",
      "    with div(id='header').add(ol()):\n",
      "        for i in wsdict.keys():\n",
      "            li(a(i))\n",
      "\n",
      "    with div():\n",
      "        attr(cls='body')\n",
      "        p('last updated: ' + time.strftime(\"%H:%M\"))\n",
      "\n",
      "print doc"
     ],
     "language": "python",
     "metadata": {},
     "outputs": [
      {
       "output_type": "stream",
       "stream": "stdout",
       "text": [
        "<!DOCTYPE html>\n",
        "<html>\n",
        "  <head>\n",
        "    <title>visitor sign sheet</title>\n",
        "    <link href=\"style.css\" rel=\"stylesheet\">\n",
        "    <script src=\"script.js\" type=\"text/javascript\"></script>\n",
        "  </head>\n",
        "  <body>\n",
        "    <div id=\"header\">\n",
        "      <ol>\n",
        "        <li>\n",
        "          <a>17:47</a>\n",
        "        </li>\n",
        "        <li>\n",
        "          <a>ESW</a>\n",
        "        </li>\n",
        "        <li>\n",
        "          <a>William Mckee</a>\n",
        "        </li>\n",
        "        <li>\n",
        "          <a>12-Oct-2014</a>\n",
        "        </li>\n",
        "        <li>\n",
        "          <a>it was a good day</a>\n",
        "        </li>\n",
        "      </ol>\n",
        "    </div>\n",
        "    <div class=\"body\">\n",
        "      <p>last updated: 17:48</p>\n",
        "    </div>\n",
        "  </body>\n",
        "</html>\n"
       ]
      }
     ],
     "prompt_number": 46
    },
    {
     "cell_type": "code",
     "collapsed": false,
     "input": [
      "savindex = open('/home/wcmckee/visignsys/index.html', 'w')"
     ],
     "language": "python",
     "metadata": {},
     "outputs": [],
     "prompt_number": 47
    },
    {
     "cell_type": "code",
     "collapsed": false,
     "input": [
      "savindex.name"
     ],
     "language": "python",
     "metadata": {},
     "outputs": [
      {
       "metadata": {},
       "output_type": "pyout",
       "prompt_number": 48,
       "text": [
        "'/home/wcmckee/visignsys/index.html'"
       ]
      }
     ],
     "prompt_number": 48
    },
    {
     "cell_type": "code",
     "collapsed": false,
     "input": [
      "savindex.write(str(doc))\n",
      "savindex.close()"
     ],
     "language": "python",
     "metadata": {},
     "outputs": [],
     "prompt_number": 49
    },
    {
     "cell_type": "code",
     "collapsed": false,
     "input": [
      "ixtwe = ixran[0:12]"
     ],
     "language": "python",
     "metadata": {},
     "outputs": [],
     "prompt_number": 50
    },
    {
     "cell_type": "code",
     "collapsed": false,
     "input": [
      "savpos = open('/home/wcmckee/visignsys/posts/' + ixtwe + '.html', 'w')\n",
      "savpos.write(str(doc))\n",
      "savpos.close()"
     ],
     "language": "python",
     "metadata": {},
     "outputs": [],
     "prompt_number": 51
    },
    {
     "cell_type": "code",
     "collapsed": false,
     "input": [
      "savpos = open('/home/wcmckee/visignsys/posts/' + ixtwe + '.meta', 'w')\n",
      "savpos.write(str(wsdict.keys()))\n",
      "savpos.close()"
     ],
     "language": "python",
     "metadata": {},
     "outputs": [],
     "prompt_number": 52
    },
    {
     "cell_type": "code",
     "collapsed": false,
     "input": [
      "savpos = open('/home/wcmckee/visignsys/index.meta', 'w')\n",
      "savpos.write(str(wsdict.keys()))\n",
      "savpos.close()"
     ],
     "language": "python",
     "metadata": {},
     "outputs": [],
     "prompt_number": 53
    },
    {
     "cell_type": "code",
     "collapsed": false,
     "input": [],
     "language": "python",
     "metadata": {},
     "outputs": [],
     "prompt_number": 837
    },
    {
     "cell_type": "code",
     "collapsed": false,
     "input": [],
     "language": "python",
     "metadata": {},
     "outputs": []
    }
   ],
   "metadata": {}
  }
 ]
}