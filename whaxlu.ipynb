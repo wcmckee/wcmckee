{
 "metadata": {
  "name": "",
  "signature": "sha256:56fd38ddd45a2fc8b3a6bb065ebb4c90c4a5e42953edab32daed20513c087ce5"
 },
 "nbformat": 3,
 "nbformat_minor": 0,
 "worksheets": [
  {
   "cells": [
    {
     "cell_type": "markdown",
     "metadata": {},
     "source": [
      "<h2>visitor sign system</h2>\n",
      "\n",
      "This is a python script used to sign in and signout, keeping track of hours and creating a more automative system.\n",
      "\n",
      "Make sign in and out faster, easier to keep track of.\n",
      "\n",
      "Never forget. \n",
      "\n",
      "Auto roll check. \n",
      "\n",
      "Two random hex codes for security and correct checking. Made use of tthese by using one as file name when saving.\n",
      "\n",
      "Creates xls file with data, also uses sqlalchemy for databases, web server, html page: \n",
      "input (or auto) name, reason, auto day/month/year hr/min - of signin.\n",
      "\n",
      "when launched asked if you want to signin or signout. \n",
      "\n",
      "how i want this to run for william:\n",
      "\n",
      "william arrives into whai. On his phone he runs the signin script. On signing out for the day the script is run onto final part, signout. asks for comment first then records time, and date. \n",
      "\n",
      "comment system. leave comment for staff, parent, tag staff, area, story, parent, child.\n",
      "\n",
      "signout - enter code of session you want to signout. \n",
      "\n",
      "Screw the excel file, im just dealing with index page. i am saving achieve in posts folder under urandom 13 character code. \n"
     ]
    },
    {
     "cell_type": "code",
     "collapsed": false,
     "input": [
      "import os\n",
      "import time\n",
      "import xlutils\n",
      "import xlwt\n",
      "import xlrd\n",
      "import dominate\n",
      "import sys\n",
      "from dominate.tags import *\n",
      "#from sqlalchemy import Column, ForeignKey, Integer, String\n",
      "#from sqlalchemy.ext.declarative import declarative_base\n",
      "#from sqlalchemy.orm import relationship\n",
      "#from sqlalchemy import create_engine"
     ],
     "language": "python",
     "metadata": {},
     "outputs": [],
     "prompt_number": 639
    },
    {
     "cell_type": "code",
     "collapsed": false,
     "input": [
      "mname = ('William Mckee')\n",
      "ename = ('will@artcontrol.me')\n",
      "signin = ('ESW')"
     ],
     "language": "python",
     "metadata": {},
     "outputs": [],
     "prompt_number": 640
    },
    {
     "cell_type": "code",
     "collapsed": false,
     "input": [
      "#Base = declarative_base()\n",
      " \n",
      "#class Person(Base):\n",
      "#    __tablename__ = 'person'\n",
      "#    # Here we define columns for the table person\n",
      "#    # Notice that each column is also a normal Python instance attribute.\n",
      "#    id = Column(Integer, primary_key=True)\n",
      "#    name = Column(String(250), nullable=False)\n",
      " \n",
      "#class Address(Base):\n",
      "#    __tablename__ = 'address'\n",
      "#    # Here we define columns for the table address.\n",
      "#    # Notice that each column is also a normal Python instance attribute.\n",
      "#    id = Column(Integer, primary_key=True)\n",
      "#    datesignin = Column(String(250))\n",
      "#    hrminsignin = Column(String(250))\n",
      "#    usernamesignin = Column(String(250), nullable=False)\n",
      "#    reasonsignin = Column(String(250))\n",
      "#    person_id = Column(Integer, ForeignKey('person.id'))\n",
      "#    person = relationship(Person)\n",
      " \n",
      "# Create an engine that stores data in the local directory's\n",
      "# sqlalchemy_example.db file.\n",
      "#engine = create_engine('sqlite:///sqlalchemy_example.db')\n",
      " \n",
      "# Create a$ll tables in the engine. This is equivalent to \"Create Table\"\n",
      "# statements in raw SQL.\n",
      "#Base.metadata.create_all(engine)"
     ],
     "language": "python",
     "metadata": {},
     "outputs": [],
     "prompt_number": 641
    },
    {
     "cell_type": "code",
     "collapsed": false,
     "input": [
      "#from sqlalchemy import create_engine\n",
      "#from sqlalchemy.orm import sessionmaker\n",
      " \n",
      "#from sqlalchemy_declarative import Address, Base, Person\n",
      " \n",
      "#engine = create_engine('sqlite:///sqlalchemy_example.db')\n",
      "# Bind the engine to the metadata of the Base class so that the\n",
      "# declaratives can be accessed through a DBSession instance\n",
      "#Base.metadata.bind = engine\n",
      " \n",
      "#DBSession = sessionmaker(bind=engine)\n",
      "# A DBSession() instance establishes all conversations with the database\n",
      "# and represents a \"staging zone\" for all the objects loaded into the\n",
      "# database session object. Any change made against the objects in the\n",
      "# session won't be persisted into the database until you call\n",
      "# session.commit(). If you're not happy about the changes, you can\n",
      "# revert all of them back to the last commit by calling\n",
      "# session.rollback()\n",
      "#session = DBSession()\n",
      " \n",
      "# Insert a Person in the person table\n",
      "#new_person = Person(name='new person')\n",
      "#session.add(new_person)\n",
      "#session.commit()\n",
      " \n",
      "# Insert an Address in the address table\n",
      "#new_address = Address(post_code='00000', person=new_person)\n",
      "#session.add(new_address)\n",
      "#session.commit()"
     ],
     "language": "python",
     "metadata": {},
     "outputs": [],
     "prompt_number": 642
    },
    {
     "cell_type": "code",
     "collapsed": false,
     "input": [
      "#wrkbook = xlrd.open_workbook('/home/wcmckee/whai/index.xls')"
     ],
     "language": "python",
     "metadata": {},
     "outputs": [],
     "prompt_number": 643
    },
    {
     "cell_type": "code",
     "collapsed": false,
     "input": [
      "#print wrkbook.sheet_names()\n",
      "\n",
      "#worksheet = wrkbook.sheet_by_name('visitor sign database')\n"
     ],
     "language": "python",
     "metadata": {},
     "outputs": [],
     "prompt_number": 644
    },
    {
     "cell_type": "code",
     "collapsed": false,
     "input": [
      "#swlis = []"
     ],
     "language": "python",
     "metadata": {},
     "outputs": [],
     "prompt_number": 645
    },
    {
     "cell_type": "code",
     "collapsed": false,
     "input": [
      "#num_rows = worksheet.nrows - 1\n",
      "#curr_row = -1\n",
      "#while curr_row < num_rows:\n",
      "#    curr_row += 1\n",
      "#    row = worksheet.row(curr_row)\n",
      "#    print row\n",
      "#    swlis.append(row)"
     ],
     "language": "python",
     "metadata": {},
     "outputs": [],
     "prompt_number": 646
    },
    {
     "cell_type": "code",
     "collapsed": false,
     "input": [
      "#valis = []"
     ],
     "language": "python",
     "metadata": {},
     "outputs": [],
     "prompt_number": 647
    },
    {
     "cell_type": "code",
     "collapsed": false,
     "input": [
      "#for swl in swlis[1]:\n",
      "#    print swl.value\n",
      "#    valis.append(swl.value)"
     ],
     "language": "python",
     "metadata": {},
     "outputs": [],
     "prompt_number": 648
    },
    {
     "cell_type": "code",
     "collapsed": false,
     "input": [
      "#valis"
     ],
     "language": "python",
     "metadata": {},
     "outputs": [],
     "prompt_number": 649
    },
    {
     "cell_type": "code",
     "collapsed": false,
     "input": [
      "time.strftime(\"%a, %d %b %Y %H:%M: +0000\", time.gmtime())"
     ],
     "language": "python",
     "metadata": {},
     "outputs": [
      {
       "metadata": {},
       "output_type": "pyout",
       "prompt_number": 650,
       "text": [
        "'Fri, 10 Oct 2014 09:04: +0000'"
       ]
      }
     ],
     "prompt_number": 650
    },
    {
     "cell_type": "code",
     "collapsed": false,
     "input": [
      "wb = xlwt.Workbook()\n",
      "ws = wb.add_sheet('visitor sign database')"
     ],
     "language": "python",
     "metadata": {},
     "outputs": [],
     "prompt_number": 651
    },
    {
     "cell_type": "code",
     "collapsed": false,
     "input": [
      "rangen = []"
     ],
     "language": "python",
     "metadata": {},
     "outputs": [],
     "prompt_number": 687
    },
    {
     "cell_type": "code",
     "collapsed": false,
     "input": [
      "for genz in range(8):\n",
      "    print os.urandom(128).encode('hex')\n",
      "    rangen.append(os.urandom(128).encode('hex'))"
     ],
     "language": "python",
     "metadata": {},
     "outputs": [
      {
       "output_type": "stream",
       "stream": "stdout",
       "text": [
        "98fc0c4eddb9e244365b28dd8fe84f2317d8f3154d70805344ffc93af1edbfc8213abcd0bd8548076c1d0c2e780fe5835eec4ea6d45e0b4c17828ba6afaae78828c0cee8a9c2ee6d7a1f7da718158ed567fe95ec7f6d8be3ad799f62e3384e320be86d328c7cdce415dbb28b4aaa958205a12dd62f8cd35969754d1bc0939d2d\n",
        "11ec7e58808ecc59612dacfd876c1650bfb7df2f9650fd0a4cb809dfeaaf70e82a53caa9523b022c2337983c7396b599d97fde9eced05b04c4e6adb20c8ad7a629ea27dfceb744d65ab45e7da7fe963d1486c51ddf62aadc86cecd89a2750fe5f4573c5459efdb09022e2a6fdf56c6bdce0ff30678807d1803100425f9fa2748\n",
        "e0836ec55366270f8482617e187bcf21c848d36e6b4bdeff068154b7f17a53baa60e89811f15ef667bf251afb4e33b3be0240b7ec1ab67217d98ae65fe893eee6f8d809f248f5f38c8f76c1dc5c5fed319d68499bf78366f2a8b323d16462c79f9261fcbd4dfa986d5fe190925d0e51aaed5a16e443dc76d1f4a813adfd59035\n",
        "8405c4c907b62adc7f53c6aa17b4d22800e8453d59c0fb6771b963a68ed3c884101c1a424829c95202739328d1471e115e7c6e226cc7af7707416a3b00a0ae2c15059632f1d88b1c59b38d329033f26c92161f256cec75cb7d769e9246aea7d7425f39afe257535b6593b5f4580b6ef38f883162cb514001bb8b23133b6c0a63\n",
        "95cdaf8de99eb97224834e3f34da8336b9d5353d8972edb5f08829378dbd788253c0a0dd344e6fe0020d4c93fca1b48020aa2c22aa886e128b697bf5ba8e3ffabdcaf0507ce4d23b3984d9c5e356144db8632d82b33cce2987a5c1f209b82fdaf861248b5e3103bb378da7d477663dbed9d22dc4697735240104d2f1bb194403\n",
        "34cdbbd0965d741e10e06e9ac91164c2cf01424334d594eda177e50c7b74f425f1b868a2ca1a26b1933fe27a8e129d7823dc6157dc6d1e5b695c5747da144c7e1a223d7cf9639125979a7893ff64cab716277b3f46fa9835578f840850354fd5865f88eb12d3713c29dcdbb939dee4d83005ac5be7bfe9fa9a5382ef94df5b5f\n",
        "0a8ea1c69d8ffbb8130a07123208e7d32785178bd9ed1081ee561f892e7c4fba597585e32747bf6a698eabcc0660665d7d284e9c2c369222776bfbc5901a2ac66fee11e84c30ae0f6c0312cdd36aa50cf6a469982834ac66af5164a48bfa6604dfa37546585b8129c13ff5238c65324d0865cf45af27b3098eb198f7e7581c0f\n",
        "264167f582507d8f2ac93099080c2f36892c828e3fb5dbc6681c65025d19483e4433568183f4783ef4d5218650caed06f3cb42748d9d3c3232653f216246c239199566ebf03287de42512c7331f4f32af354ece27fc4995d3a4404f2a9f4ddbc39e493f1132c498a76f6e519ed11580428b80f2b29e7eb9c7a76ce59564f1f7a\n"
       ]
      }
     ],
     "prompt_number": 688
    },
    {
     "cell_type": "code",
     "collapsed": false,
     "input": [
      "rangen"
     ],
     "language": "python",
     "metadata": {},
     "outputs": [
      {
       "metadata": {},
       "output_type": "pyout",
       "prompt_number": 689,
       "text": [
        "['e0014e66272affb64b4b4304bf0664475dfa5be5c3df758d5b0ca57648fa789217b12b46a50bf49cb7900bc149f33e0eae0e2323c9aeb7eec85f21b5eb8b20d3c04ab869e8d437b0997b5400418b75148a5dd9bc26a1c589c70208f2e4210d2ad67514f4d57add573a8cd7bebb0b75d1ecc3d9a16566e18643574784de15e5e0',\n",
        " '8d2d7bf5d74a625433de30b94d9678d9017225b57d562d020702d5da0da35291bb2e3626bed07af71d5eea023c3533d1983948ce31955a5bf1f6bdd6d18761f5268e06c33b6fe4007747b4717dfea2d8ccf89ba8b9ee86be15cad4a647316abb85fc6ef661a44f8715e80659c5af5bd4cf072b26ff474f493af4b7aa06567b34',\n",
        " 'f68fc5f8a0b9d170c2ce9d99985be74a3ec599723372a11aee1980dc4fe5abbbd4beb13f9a2e95fedb643eb5d2ff94c4e2700690ef594a2cd8c51b28ea6478a888db5f4dd29bbde38e49950e00f83e435c6ba264729a95fff9f1fe6e22b88b88ebae1a895be606dc3e49a4b9ab38524d52cc4d8f04a8468bca76224cc2e94da1',\n",
        " 'ca1e1a4b1e6546062c550b91903bd498aa4cf0b9d104f4e888012c09bf7aaf95bdb8cf9651304f3763b0892ef74df9c04d9f018846e1962adc75298291d6a17b611d946c71e3127029ba02c5a0d1557b23e664122ef19e7178390fd7d6fcd12cb864ec037eadbe08f09f70dcaa14ff37c3352c30375836319dfcfb8a9e8989f2',\n",
        " '27378e39e5f776442897fa22b747ce9eb9b27861cf3d9ddef1c0dd16e3694fcea591332af7916fd3e07bd7ffdf355a2ac51085f8e7cea8fa025387d8330d2061bb696cfd4c45d4632da28eeb2fb10aeb9946227e283f0f8038853cdf4285f6c648830018084f9b17b127bcc0fdcb80dd5edc4601bea09150610fd3d06cd0ec35',\n",
        " '1a9fef2f7c48973257f427605c299a0e0766d94f2a04d924d5cbcc3a35e52ea11ab5de7e0932b661065c07d42ac9b8c05e2cb520cfa1a218be1795ee5990d584b1ba888d3735778fd307cd400710ad4958e4284e9d25ce75e1a861d69115955b299361ee0fb109f2efb2ca5bc901a0dbe93b672e19b0db16df711241cfc7ceff',\n",
        " '03bc28949f561dabc5ad8014022be02b55937fe594aa9d66c4ec412f878f5df5069fa37316d59de4a191ca22f594898637c15fcd10c0be926d4c3fb8f193098c562b40f6d08748dd0a054fafab1be7b50c13fa8e6fcc72ee307a29d05d368095f3ce3a670ba6de1f42a091a1bfde3462cae88661c8561d91de7240058863f37a',\n",
        " '0f097b2a9cd1e45bc7d39793512c12a55393aa3d3a31de7c5d13745caa927d99ba6433a2dbf1fc48d30c040796c4fff8980a6d8ff53a3d03516654356e6f5b59b4c0d9535d73a940985394718e930b2aadde9b69212d401c7572c139132ced31f1bccdd98f6b388a505e0aeecf8facdd25d27e3cf4043034d13f6c1c03654c2b']"
       ]
      }
     ],
     "prompt_number": 689
    },
    {
     "cell_type": "code",
     "collapsed": false,
     "input": [
      "exran = os.urandom(128).encode('hex')"
     ],
     "language": "python",
     "metadata": {},
     "outputs": [],
     "prompt_number": 652
    },
    {
     "cell_type": "code",
     "collapsed": false,
     "input": [
      "ixran = os.urandom(128).encode('hex')"
     ],
     "language": "python",
     "metadata": {},
     "outputs": [],
     "prompt_number": 653
    },
    {
     "cell_type": "code",
     "collapsed": false,
     "input": [
      "rawdets = ['In Date', 'In Time', 'In Code', 'Name', 'Reason', 'Out Date', 'Out Time']"
     ],
     "language": "python",
     "metadata": {},
     "outputs": [],
     "prompt_number": 654
    },
    {
     "cell_type": "code",
     "collapsed": false,
     "input": [
      "numroll = []"
     ],
     "language": "python",
     "metadata": {},
     "outputs": [],
     "prompt_number": 655
    },
    {
     "cell_type": "code",
     "collapsed": false,
     "input": [
      "for det in range(6):\n",
      "    print det\n",
      "    numroll.append(det)\n",
      "    #ws.write(0, det, )"
     ],
     "language": "python",
     "metadata": {},
     "outputs": [
      {
       "output_type": "stream",
       "stream": "stdout",
       "text": [
        "0\n",
        "1\n",
        "2\n",
        "3\n",
        "4\n",
        "5\n"
       ]
      }
     ],
     "prompt_number": 656
    },
    {
     "cell_type": "code",
     "collapsed": false,
     "input": [
      "numroll"
     ],
     "language": "python",
     "metadata": {},
     "outputs": [
      {
       "metadata": {},
       "output_type": "pyout",
       "prompt_number": 657,
       "text": [
        "[0, 1, 2, 3, 4, 5]"
       ]
      }
     ],
     "prompt_number": 657
    },
    {
     "cell_type": "code",
     "collapsed": false,
     "input": [
      "for rad in rawdets:\n",
      "    print rad\n",
      "    #print len(rad)\n",
      "    print rad.upper()\n",
      "    #range(20)"
     ],
     "language": "python",
     "metadata": {},
     "outputs": [
      {
       "output_type": "stream",
       "stream": "stdout",
       "text": [
        "In Date\n",
        "IN DATE\n",
        "In Time\n",
        "IN TIME\n",
        "In Code\n",
        "IN CODE\n",
        "Name\n",
        "NAME\n",
        "Reason\n",
        "REASON\n",
        "Out Date\n",
        "OUT DATE\n",
        "Out Time\n",
        "OUT TIME\n"
       ]
      }
     ],
     "prompt_number": 658
    },
    {
     "cell_type": "code",
     "collapsed": false,
     "input": [
      "ws.write(0, 0, 'In Date')\n",
      "ws.write(0, 1, 'In Time')\n",
      "ws.write(0, 2, 'In Code')\n",
      "ws.write(0, 3, 'Name')\n",
      "ws.write(0, 4, 'Reason')\n",
      "ws.write(0, 5, 'Out Date')\n",
      "ws.write(0, 6, 'Out Time')\n",
      "ws.write(0, 7, 'Out Code')"
     ],
     "language": "python",
     "metadata": {},
     "outputs": [],
     "prompt_number": 659
    },
    {
     "cell_type": "code",
     "collapsed": false,
     "input": [
      "#strftime is %d (day), \n",
      "\n",
      "ws.write(1, 0, time.strftime(\"%d\" + \"-\" + \"%b\" + \"-\" + \"%Y\"))\n",
      "\n",
      "ws.write(1, 1, time.strftime(\"%H:%M\"))"
     ],
     "language": "python",
     "metadata": {},
     "outputs": [],
     "prompt_number": 660
    },
    {
     "cell_type": "code",
     "collapsed": false,
     "input": [
      "#getname = raw_input('Name: ')\n",
      "#getreason = raw_input('Reason: ')"
     ],
     "language": "python",
     "metadata": {},
     "outputs": [
      {
       "name": "stdout",
       "output_type": "stream",
       "stream": "stdout",
       "text": [
        "Name: wcmckee\n"
       ]
      },
      {
       "name": "stdout",
       "output_type": "stream",
       "stream": "stdout",
       "text": [
        "Reason: esw\n"
       ]
      }
     ],
     "prompt_number": 661
    },
    {
     "cell_type": "code",
     "collapsed": false,
     "input": [
      "ws.write(1, 2, exran)"
     ],
     "language": "python",
     "metadata": {},
     "outputs": [],
     "prompt_number": 662
    },
    {
     "cell_type": "code",
     "collapsed": false,
     "input": [
      "ws.write(1, 3, mname)"
     ],
     "language": "python",
     "metadata": {},
     "outputs": [],
     "prompt_number": 663
    },
    {
     "cell_type": "code",
     "collapsed": false,
     "input": [
      "ws.write(1, 4, signin)"
     ],
     "language": "python",
     "metadata": {},
     "outputs": [],
     "prompt_number": 664
    },
    {
     "cell_type": "code",
     "collapsed": false,
     "input": [
      "#wb.save('/home/wcmckee/whai/' + xlvs)\n",
      "wb.save('/home/wcmckee/whai/index.xls')"
     ],
     "language": "python",
     "metadata": {},
     "outputs": [],
     "prompt_number": 665
    },
    {
     "cell_type": "code",
     "collapsed": false,
     "input": [],
     "language": "python",
     "metadata": {},
     "outputs": [],
     "prompt_number": 691
    },
    {
     "cell_type": "code",
     "collapsed": false,
     "input": [
      "wsdict = {mname: rangen[0]}"
     ],
     "language": "python",
     "metadata": {},
     "outputs": [],
     "prompt_number": 692
    },
    {
     "cell_type": "code",
     "collapsed": false,
     "input": [
      "wsdict"
     ],
     "language": "python",
     "metadata": {},
     "outputs": [
      {
       "metadata": {},
       "output_type": "pyout",
       "prompt_number": 693,
       "text": [
        "{'William Mckee': 'e0014e66272affb64b4b4304bf0664475dfa5be5c3df758d5b0ca57648fa789217b12b46a50bf49cb7900bc149f33e0eae0e2323c9aeb7eec85f21b5eb8b20d3c04ab869e8d437b0997b5400418b75148a5dd9bc26a1c589c70208f2e4210d2ad67514f4d57add573a8cd7bebb0b75d1ecc3d9a16566e18643574784de15e5e0'}"
       ]
      }
     ],
     "prompt_number": 693
    },
    {
     "cell_type": "code",
     "collapsed": false,
     "input": [
      "wsdict.update({time.strftime(\"%d\" + \"-\" + \"%b\" + \"-\" + \"%Y\"): rangen[1]})"
     ],
     "language": "python",
     "metadata": {},
     "outputs": [],
     "prompt_number": 694
    },
    {
     "cell_type": "code",
     "collapsed": false,
     "input": [
      "wsdict.update({ time.strftime(\"%H:%M\"): rangen[2]})"
     ],
     "language": "python",
     "metadata": {},
     "outputs": [],
     "prompt_number": 695
    },
    {
     "cell_type": "code",
     "collapsed": false,
     "input": [
      "wsdict.update({signin: rangen[3]})"
     ],
     "language": "python",
     "metadata": {},
     "outputs": [],
     "prompt_number": 696
    },
    {
     "cell_type": "code",
     "collapsed": false,
     "input": [
      "wsdict"
     ],
     "language": "python",
     "metadata": {},
     "outputs": [
      {
       "metadata": {},
       "output_type": "pyout",
       "prompt_number": 697,
       "text": [
        "{'10-Oct-2014': '8d2d7bf5d74a625433de30b94d9678d9017225b57d562d020702d5da0da35291bb2e3626bed07af71d5eea023c3533d1983948ce31955a5bf1f6bdd6d18761f5268e06c33b6fe4007747b4717dfea2d8ccf89ba8b9ee86be15cad4a647316abb85fc6ef661a44f8715e80659c5af5bd4cf072b26ff474f493af4b7aa06567b34',\n",
        " '19:20': 'f68fc5f8a0b9d170c2ce9d99985be74a3ec599723372a11aee1980dc4fe5abbbd4beb13f9a2e95fedb643eb5d2ff94c4e2700690ef594a2cd8c51b28ea6478a888db5f4dd29bbde38e49950e00f83e435c6ba264729a95fff9f1fe6e22b88b88ebae1a895be606dc3e49a4b9ab38524d52cc4d8f04a8468bca76224cc2e94da1',\n",
        " 'ESW': 'ca1e1a4b1e6546062c550b91903bd498aa4cf0b9d104f4e888012c09bf7aaf95bdb8cf9651304f3763b0892ef74df9c04d9f018846e1962adc75298291d6a17b611d946c71e3127029ba02c5a0d1557b23e664122ef19e7178390fd7d6fcd12cb864ec037eadbe08f09f70dcaa14ff37c3352c30375836319dfcfb8a9e8989f2',\n",
        " 'William Mckee': 'e0014e66272affb64b4b4304bf0664475dfa5be5c3df758d5b0ca57648fa789217b12b46a50bf49cb7900bc149f33e0eae0e2323c9aeb7eec85f21b5eb8b20d3c04ab869e8d437b0997b5400418b75148a5dd9bc26a1c589c70208f2e4210d2ad67514f4d57add573a8cd7bebb0b75d1ecc3d9a16566e18643574784de15e5e0'}"
       ]
      }
     ],
     "prompt_number": 697
    },
    {
     "cell_type": "code",
     "collapsed": false,
     "input": [
      "wsdict.keys()"
     ],
     "language": "python",
     "metadata": {},
     "outputs": [
      {
       "metadata": {},
       "output_type": "pyout",
       "prompt_number": 698,
       "text": [
        "['ESW', '10-Oct-2014', 'William Mckee', '19:20']"
       ]
      }
     ],
     "prompt_number": 698
    },
    {
     "cell_type": "code",
     "collapsed": false,
     "input": [
      "doc = dominate.document(title='visitor sign sheet')\n",
      "\n",
      "with doc.head:\n",
      "    link(rel='stylesheet', href='style.css')\n",
      "    script(type='text/javascript', src='script.js')\n",
      "\n",
      "with doc:\n",
      "    with div(id='header').add(ol()):\n",
      "        for i in wsdict.keys():\n",
      "            li(a(i))\n",
      "\n",
      "    with div():\n",
      "        attr(cls='body')\n",
      "        p('last updated: ' + time.strftime(\"%H:%M\"))\n",
      "\n",
      "print doc"
     ],
     "language": "python",
     "metadata": {},
     "outputs": [
      {
       "output_type": "stream",
       "stream": "stdout",
       "text": [
        "<!DOCTYPE html>\n",
        "<html>\n",
        "  <head>\n",
        "    <title>visitor sign sheet</title>\n",
        "    <link href=\"style.css\" rel=\"stylesheet\">\n",
        "    <script src=\"script.js\" type=\"text/javascript\"></script>\n",
        "  </head>\n",
        "  <body>\n",
        "    <div id=\"header\">\n",
        "      <ol>\n",
        "        <li>\n",
        "          <a>ESW</a>\n",
        "        </li>\n",
        "        <li>\n",
        "          <a>10-Oct-2014</a>\n",
        "        </li>\n",
        "        <li>\n",
        "          <a>William Mckee</a>\n",
        "        </li>\n",
        "        <li>\n",
        "          <a>19:20</a>\n",
        "        </li>\n",
        "      </ol>\n",
        "    </div>\n",
        "    <div class=\"body\">\n",
        "      <p>last updated: 19:21</p>\n",
        "    </div>\n",
        "  </body>\n",
        "</html>\n"
       ]
      }
     ],
     "prompt_number": 699
    },
    {
     "cell_type": "code",
     "collapsed": false,
     "input": [
      "savindex = open('/home/wcmckee/visignsys/index.html', 'w')"
     ],
     "language": "python",
     "metadata": {},
     "outputs": [],
     "prompt_number": 674
    },
    {
     "cell_type": "code",
     "collapsed": false,
     "input": [
      "savindex.name"
     ],
     "language": "python",
     "metadata": {},
     "outputs": [
      {
       "metadata": {},
       "output_type": "pyout",
       "prompt_number": 675,
       "text": [
        "'/home/wcmckee/visignsys/index.html'"
       ]
      }
     ],
     "prompt_number": 675
    },
    {
     "cell_type": "code",
     "collapsed": false,
     "input": [
      "savindex.write(str(doc))\n",
      "savindex.close()"
     ],
     "language": "python",
     "metadata": {},
     "outputs": [],
     "prompt_number": 678
    },
    {
     "cell_type": "code",
     "collapsed": false,
     "input": [
      "ixtwe = ixran[0:12]"
     ],
     "language": "python",
     "metadata": {},
     "outputs": [],
     "prompt_number": 682
    },
    {
     "cell_type": "code",
     "collapsed": false,
     "input": [
      "savpos = open('/home/wcmckee/visignsys/posts/' + ixtwe + '.html', 'w')\n",
      "savpos.write(str(doc))\n",
      "savpos.close()"
     ],
     "language": "python",
     "metadata": {},
     "outputs": [],
     "prompt_number": 684
    },
    {
     "cell_type": "code",
     "collapsed": false,
     "input": [],
     "language": "python",
     "metadata": {},
     "outputs": []
    }
   ],
   "metadata": {}
  }
 ]
}