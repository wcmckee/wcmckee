{
 "metadata": {
  "name": "",
  "signature": "sha256:45a8bdf85db7eb8c0218b026e960a22166426a79ee9434f2211adbc855439efd"
 },
 "nbformat": 3,
 "nbformat_minor": 0,
 "worksheets": [
  {
   "cells": [
    {
     "cell_type": "markdown",
     "metadata": {},
     "source": [
      "<h2>visitor sign system</h2>\n",
      "\n",
      "This is a python script used to sign in and signout, keeping track of hours and creating a more automative system.\n",
      "\n",
      "Make sign in and out faster, easier to keep track of.\n",
      "\n",
      "Never forget. \n",
      "\n",
      "Auto roll check. \n",
      "\n",
      "Two random hex codes for security and correct checking. Made use of tthese by using one as file name when saving.\n",
      "\n",
      "Creates xls file with data, also uses sqlalchemy for databases, web server, html page: \n",
      "input (or auto) name, reason, auto day/month/year hr/min - of signin.\n",
      "\n",
      "when launched asked if you want to signin or signout. \n",
      "\n",
      "how i want this to run for william:\n",
      "\n",
      "william arrives into whai. On his phone he runs the signin script. On signing out for the day the script is run onto final part, signout. asks for comment first then records time, and date. \n",
      "\n",
      "comment system. leave comment for staff, parent, tag staff, area, story, parent, child.\n",
      "\n",
      "signout - enter code of session you want to signout. \n",
      "\n",
      "Screw the excel file, im just dealing with index page. i am saving achieve in posts folder under urandom 13 character code. \n"
     ]
    },
    {
     "cell_type": "code",
     "collapsed": false,
     "input": [
      "import os\n",
      "import time\n",
      "import xlutils\n",
      "import xlwt\n",
      "import xlrd\n",
      "import dominate\n",
      "import sys\n",
      "from dominate.tags import *\n",
      "#from sqlalchemy import Column, ForeignKey, Integer, String\n",
      "#from sqlalchemy.ext.declarative import declarative_base\n",
      "#from sqlalchemy.orm import relationship\n",
      "#from sqlalchemy import create_engine"
     ],
     "language": "python",
     "metadata": {},
     "outputs": [],
     "prompt_number": 794
    },
    {
     "cell_type": "code",
     "collapsed": false,
     "input": [
      "mname = ('William Mckee')\n",
      "ename = ('will@artcontrol.me')\n",
      "signin = ('ESW')"
     ],
     "language": "python",
     "metadata": {},
     "outputs": [],
     "prompt_number": 795
    },
    {
     "cell_type": "code",
     "collapsed": false,
     "input": [
      "#Base = declarative_base()\n",
      " \n",
      "#class Person(Base):\n",
      "#    __tablename__ = 'person'\n",
      "#    # Here we define columns for the table person\n",
      "#    # Notice that each column is also a normal Python instance attribute.\n",
      "#    id = Column(Integer, primary_key=True)\n",
      "#    name = Column(String(250), nullable=False)\n",
      " \n",
      "#class Address(Base):\n",
      "#    __tablename__ = 'address'\n",
      "#    # Here we define columns for the table address.\n",
      "#    # Notice that each column is also a normal Python instance attribute.\n",
      "#    id = Column(Integer, primary_key=True)\n",
      "#    datesignin = Column(String(250))\n",
      "#    hrminsignin = Column(String(250))\n",
      "#    usernamesignin = Column(String(250), nullable=False)\n",
      "#    reasonsignin = Column(String(250))\n",
      "#    person_id = Column(Integer, ForeignKey('person.id'))\n",
      "#    person = relationship(Person)\n",
      " \n",
      "# Create an engine that stores data in the local directory's\n",
      "# sqlalchemy_example.db file.\n",
      "#engine = create_engine('sqlite:///sqlalchemy_example.db')\n",
      " \n",
      "# Create a$ll tables in the engine. This is equivalent to \"Create Table\"\n",
      "# statements in raw SQL.\n",
      "#Base.metadata.create_all(engine)"
     ],
     "language": "python",
     "metadata": {},
     "outputs": [],
     "prompt_number": 796
    },
    {
     "cell_type": "code",
     "collapsed": false,
     "input": [
      "#from sqlalchemy import create_engine\n",
      "#from sqlalchemy.orm import sessionmaker\n",
      " \n",
      "#from sqlalchemy_declarative import Address, Base, Person\n",
      " \n",
      "#engine = create_engine('sqlite:///sqlalchemy_example.db')\n",
      "# Bind the engine to the metadata of the Base class so that the\n",
      "# declaratives can be accessed through a DBSession instance\n",
      "#Base.metadata.bind = engine\n",
      " \n",
      "#DBSession = sessionmaker(bind=engine)\n",
      "# A DBSession() instance establishes all conversations with the database\n",
      "# and represents a \"staging zone\" for all the objects loaded into the\n",
      "# database session object. Any change made against the objects in the\n",
      "# session won't be persisted into the database until you call\n",
      "# session.commit(). If you're not happy about the changes, you can\n",
      "# revert all of them back to the last commit by calling\n",
      "# session.rollback()\n",
      "#session = DBSession()\n",
      " \n",
      "# Insert a Person in the person table\n",
      "#new_person = Person(name='new person')\n",
      "#session.add(new_person)\n",
      "#session.commit()\n",
      " \n",
      "# Insert an Address in the address table\n",
      "#new_address = Address(post_code='00000', person=new_person)\n",
      "#session.add(new_address)\n",
      "#session.commit()"
     ],
     "language": "python",
     "metadata": {},
     "outputs": [],
     "prompt_number": 797
    },
    {
     "cell_type": "code",
     "collapsed": false,
     "input": [
      "#wrkbook = xlrd.open_workbook('/home/wcmckee/whai/index.xls')"
     ],
     "language": "python",
     "metadata": {},
     "outputs": [],
     "prompt_number": 798
    },
    {
     "cell_type": "code",
     "collapsed": false,
     "input": [
      "#print wrkbook.sheet_names()\n",
      "\n",
      "#worksheet = wrkbook.sheet_by_name('visitor sign database')\n"
     ],
     "language": "python",
     "metadata": {},
     "outputs": [],
     "prompt_number": 799
    },
    {
     "cell_type": "code",
     "collapsed": false,
     "input": [
      "#swlis = []"
     ],
     "language": "python",
     "metadata": {},
     "outputs": [],
     "prompt_number": 800
    },
    {
     "cell_type": "code",
     "collapsed": false,
     "input": [
      "#num_rows = worksheet.nrows - 1\n",
      "#curr_row = -1\n",
      "#while curr_row < num_rows:\n",
      "#    curr_row += 1\n",
      "#    row = worksheet.row(curr_row)\n",
      "#    print row\n",
      "#    swlis.append(row)"
     ],
     "language": "python",
     "metadata": {},
     "outputs": [],
     "prompt_number": 801
    },
    {
     "cell_type": "code",
     "collapsed": false,
     "input": [
      "#valis = []"
     ],
     "language": "python",
     "metadata": {},
     "outputs": [],
     "prompt_number": 802
    },
    {
     "cell_type": "code",
     "collapsed": false,
     "input": [
      "#for swl in swlis[1]:\n",
      "#    print swl.value\n",
      "#    valis.append(swl.value)"
     ],
     "language": "python",
     "metadata": {},
     "outputs": [],
     "prompt_number": 803
    },
    {
     "cell_type": "code",
     "collapsed": false,
     "input": [
      "#valis"
     ],
     "language": "python",
     "metadata": {},
     "outputs": [],
     "prompt_number": 804
    },
    {
     "cell_type": "code",
     "collapsed": false,
     "input": [
      "time.strftime(\"%a, %d %b %Y %H:%M: +0000\", time.gmtime())"
     ],
     "language": "python",
     "metadata": {},
     "outputs": [
      {
       "metadata": {},
       "output_type": "pyout",
       "prompt_number": 805,
       "text": [
        "'Sat, 11 Oct 2014 21:43: +0000'"
       ]
      }
     ],
     "prompt_number": 805
    },
    {
     "cell_type": "code",
     "collapsed": false,
     "input": [
      "wb = xlwt.Workbook()\n",
      "ws = wb.add_sheet('visitor sign database')"
     ],
     "language": "python",
     "metadata": {},
     "outputs": [],
     "prompt_number": 806
    },
    {
     "cell_type": "code",
     "collapsed": false,
     "input": [
      "rangen = []"
     ],
     "language": "python",
     "metadata": {},
     "outputs": [],
     "prompt_number": 807
    },
    {
     "cell_type": "code",
     "collapsed": false,
     "input": [
      "for genz in range(8):\n",
      "    print os.urandom(128).encode('hex')\n",
      "    rangen.append(os.urandom(128).encode('hex'))"
     ],
     "language": "python",
     "metadata": {},
     "outputs": [
      {
       "output_type": "stream",
       "stream": "stdout",
       "text": [
        "f79ee357587886c978f6d68bb1f2c05d18d3fa84cc832045bdb019222faedd8863121bea2072a019206561745896b83e1e36f64534064a9c7dcbdcb08fb48af6bdb887b85783f2f296f4ffa585926b5b05527cf802737298ad06d6a898b7cff16e16c625ba6e5371d4a0a3dd0321bb9f5cad0956260fc371862d98fb0dc38567\n",
        "2632c48d05ecbd274c90cc3a9837e34454e4a85b5cf53acd3908ee276cca0583e90788ebae742b7e136a65f5bf955720b8de84de4869d8723497a14778c9c92e2bf1e746f1b1dd4b097f797ff71fb070bd0a51cc80f2e7afa4ad12bc559a8a6f38bac01cfe7d60aa2d166af66f017e153570f4c949f7a804337efcf425a9b618\n",
        "0a4b10ca57d9aab383234a3ad911c0d205d6439865311ae1d3194d1bacdcd4712f375285d84f64969264a5f7fe34a21be042f27bf8aa04f501823c0bb35a71a07c0e1838e197fcf3e3cd3cdba6f2ac1709dc030254721cc0fb2106a0afff46c213746d03861fd2b4428bff620c3cec2ddff27af8b4305ff27dab4cb7cdab54c0\n",
        "1dc6a008f366334a049ed93559feae06532b61e79208a5a3231795a1482a41c07e4c6da989df3144d97de903c69ab4ac53e83b6fa2e3d510af99312b611c55664a4678fc5f835e34b032fda7dd27bfb954c3cc278eff8fead6e32d68bb4e29571506dca1534440a462da6fd217f7378ed182ff691d4f98f6613f748e4c9db9e6\n",
        "99b0a6139f85d0b5215df5107e7ee5afecd30500b32daa134179e69f90221a6dc2e43ff73d22b2ed74f29998073435caafdd2e13f0e674fe226e7880bc8ce8cd614fb7b6994ce659d72884afbe421361b7e7138409b08081ddb1065626fdcfa0efe3722e7fa25f6e74029acb9b36d5db41a3f44ac115166f02419adec4711e36\n",
        "2f61f7231f07e11bfbfae8b22d4eb3340dd64f9e5165f665053c3370753a5ae2822b8fed71ce447da888f7cbc95f1bfe19f6f5a59b969e68303dbee4bf3dd642d5ca0a6c183238da9be169fc4083cc4cee0f8bed7ffe34fc6c57b8bd3432b0fbdf6af313e5cd997eeb784bb56277e7bf74a72b02f2b82476fb06813d3a1f3451\n",
        "bf69149c27dec3750ae939d982407137313c29226401a4b8a6fafcbb906fa1e7af7b9625f720720f990b29eb00e6d76ced95a07c30a1c2646edade36ac997a99ebfde5a925ba7a0466f296ecfc8af712b1aacfcab5f27b7a0a7d09b342de2fbf22041753683d81b534d085a19bd3b9a9b14da92dfcc731508f02176568abb2ef\n",
        "dc4b37efc107b4b7fe77d161c36babb5f558ae081cdf460a27c810a91de46a415aee4ae196e8b52b58087fa77746569abd905e1bed59cfd97304eb1349786156ba08753631f2d8f15f589147bb847d38fe4946665a03f1c4590af1ae982b958504877e4fea5253ab111f651d9d0cf4cc5fcc317bf801453a5837c0714328d74d\n"
       ]
      }
     ],
     "prompt_number": 808
    },
    {
     "cell_type": "code",
     "collapsed": false,
     "input": [
      "rangen"
     ],
     "language": "python",
     "metadata": {},
     "outputs": [
      {
       "metadata": {},
       "output_type": "pyout",
       "prompt_number": 809,
       "text": [
        "['95966e4780abdece6669b4befacd473ad164e69804cac5bf8465ecbd2400d1210cc6d9a78e23748e5c1a57951d5da47b8cd3d9c69f81184522309908b4945c63762f3557c055bd08210dad4d93c420510dff8f67dbcca9f0e9b3999046b65a32d9a88f8d6a2a5c798af7b977e6ec3a4ac8d9e4c5556b9cc00e4167799e547385',\n",
        " '224885a9707ccb76d75864c23aeaeaecb9d5243a4745dd3b2730041407c92a770d29c05d9344eefc87ab4e4f8013f883a11e8fd10a02c73ce19b95b30de8c4d70ef231a2ae30d74347d468c581423181a15621267fc6f78d4f983972c4361ec9f75b1fc7ffd04e8fd5f09fb8613d3e6f0ea1a351f4c2500fd9da6edf2b6dcbe2',\n",
        " 'fc5cac012a319bb514b24902c01cf950db12df1a083ff0848fa3c2569dbe346050a83fd9022d86a9d87c444f12a76081a73ae02d5aaa0d17dd671d7727694f5be1be44ac4c15baf6812c392007f9bc2e2028ec74f06eff1776eefbaee1fd60f20cb8e67614ea8d124ada0206e9098498e3ab640b54d8c0df11ad1a30a6f74d73',\n",
        " '7f9eacde74fc43ccb5d2eeaaaa6214d465fd781500238ebff18b2373b8ffef6cbf94d7a6a23a6c220a0bdf85429f51a809e12753497d5742f3f1196071b7adc507f51e92498c664cea2d7d0470d2ae49301d81fa3410022ce9f5cf386ba597f2f1ae96bb839a835d6f02b66e73b724b44b5cf530606a84bcf496408ee9941c81',\n",
        " 'e6b3c6be1491f8461ccafd67a1ea5eb657a7767bfaf84192b3977464d911bb6e6572ad35952d485ba6c6dbe81b2d0fba810d30967fdbeaa77797d73fe78d89b8cfe02d1b21f252f48e2831cf1d134fca944c2841305c2124533a8964d97d03fdfa1d6e6a7adeab3c45a75d7cce0816c453535840621f84c8dadc2c82a200c884',\n",
        " '568032ef9ed8bc37d3f48714865ae4e149f9cfe1d0904f481585f4d9fd31ce8849fdd569ea8c892a0be38f7fce7434d9337a65a0d54616680cd77866a8811944196aac447cb07954f324e93d092996cad8643fd7fafef8554f8e723edbdc8efb10c97e9de02b266611ade52f5ddb896493ac73753796d5f7fff86be1c92b55de',\n",
        " '3f8651a08b57e166cf83241fa0c23c3772922e5a1622d086e6a9b1b8e45eb68be3719635bb1495e93710e5e8d760eeef4a25ecb4b9c5a262533d21849497232e5bc07d3db9a15fa69b757973616b364a2d030a2ce382016542ca6a45d5cff5a89ce1604281987baee907570350480996f3c934454e9fb8394bc951642c400a2b',\n",
        " '17d4be2fcb520461682e0fabebe103157adf6602741a99ab7de404499dfe802f83590cf52361c60d8387d1065a1fe3d80efac2f9abedb19bfeb28d1a59b56e235f70ba74e8cdddbed66c1beaf41464e2cf43daa88e3e44e1bfeeea509a52237216a71a7aae52064432d3caef196642ad75feba4a3a5b62ca82d1310baef8784d']"
       ]
      }
     ],
     "prompt_number": 809
    },
    {
     "cell_type": "code",
     "collapsed": false,
     "input": [
      "exran = os.urandom(128).encode('hex')"
     ],
     "language": "python",
     "metadata": {},
     "outputs": [],
     "prompt_number": 810
    },
    {
     "cell_type": "code",
     "collapsed": false,
     "input": [
      "ixran = os.urandom(128).encode('hex')"
     ],
     "language": "python",
     "metadata": {},
     "outputs": [],
     "prompt_number": 811
    },
    {
     "cell_type": "code",
     "collapsed": false,
     "input": [
      "rawdets = ['In Date', 'In Time', 'In Code', 'Name', 'Reason', 'Out Date', 'Out Time']"
     ],
     "language": "python",
     "metadata": {},
     "outputs": [],
     "prompt_number": 812
    },
    {
     "cell_type": "code",
     "collapsed": false,
     "input": [
      "numroll = []"
     ],
     "language": "python",
     "metadata": {},
     "outputs": [],
     "prompt_number": 813
    },
    {
     "cell_type": "code",
     "collapsed": false,
     "input": [
      "for det in range(6):\n",
      "    print det\n",
      "    numroll.append(det)\n",
      "    #ws.write(0, det, )"
     ],
     "language": "python",
     "metadata": {},
     "outputs": [
      {
       "output_type": "stream",
       "stream": "stdout",
       "text": [
        "0\n",
        "1\n",
        "2\n",
        "3\n",
        "4\n",
        "5\n"
       ]
      }
     ],
     "prompt_number": 814
    },
    {
     "cell_type": "code",
     "collapsed": false,
     "input": [
      "for rad in rawdets:\n",
      "    print rad\n",
      "    #print len(rad)\n",
      "    print rad.upper()\n",
      "    #range(20)"
     ],
     "language": "python",
     "metadata": {},
     "outputs": [
      {
       "output_type": "stream",
       "stream": "stdout",
       "text": [
        "In Date\n",
        "IN DATE\n",
        "In Time\n",
        "IN TIME\n",
        "In Code\n",
        "IN CODE\n",
        "Name\n",
        "NAME\n",
        "Reason\n",
        "REASON\n",
        "Out Date\n",
        "OUT DATE\n",
        "Out Time\n",
        "OUT TIME\n"
       ]
      }
     ],
     "prompt_number": 815
    },
    {
     "cell_type": "code",
     "collapsed": false,
     "input": [
      "ws.write(0, 0, 'In Date')\n",
      "ws.write(0, 1, 'In Time')\n",
      "ws.write(0, 2, 'In Code')\n",
      "ws.write(0, 3, 'Name')\n",
      "ws.write(0, 4, 'Reason')\n",
      "ws.write(0, 5, 'Out Date')\n",
      "ws.write(0, 6, 'Out Time')\n",
      "ws.write(0, 7, 'Out Code')"
     ],
     "language": "python",
     "metadata": {},
     "outputs": [],
     "prompt_number": 816
    },
    {
     "cell_type": "code",
     "collapsed": false,
     "input": [
      "#strftime is %d (day), \n",
      "\n",
      "ws.write(1, 0, time.strftime(\"%d\" + \"-\" + \"%b\" + \"-\" + \"%Y\"))\n",
      "\n",
      "ws.write(1, 1, time.strftime(\"%H:%M\"))"
     ],
     "language": "python",
     "metadata": {},
     "outputs": [],
     "prompt_number": 817
    },
    {
     "cell_type": "code",
     "collapsed": false,
     "input": [
      "#getname = raw_input('Name: ')\n",
      "#getreason = raw_input('Reason: ')"
     ],
     "language": "python",
     "metadata": {},
     "outputs": [],
     "prompt_number": 818
    },
    {
     "cell_type": "code",
     "collapsed": false,
     "input": [
      "ws.write(1, 2, exran)"
     ],
     "language": "python",
     "metadata": {},
     "outputs": [],
     "prompt_number": 819
    },
    {
     "cell_type": "code",
     "collapsed": false,
     "input": [
      "ws.write(1, 3, mname)"
     ],
     "language": "python",
     "metadata": {},
     "outputs": [],
     "prompt_number": 820
    },
    {
     "cell_type": "code",
     "collapsed": false,
     "input": [
      "ws.write(1, 4, signin)"
     ],
     "language": "python",
     "metadata": {},
     "outputs": [],
     "prompt_number": 821
    },
    {
     "cell_type": "code",
     "collapsed": false,
     "input": [
      "#wb.save('/home/wcmckee/whai/' + xlvs)\n",
      "wb.save('/home/wcmckee/whai/index.xls')"
     ],
     "language": "python",
     "metadata": {},
     "outputs": [],
     "prompt_number": 822
    },
    {
     "cell_type": "code",
     "collapsed": false,
     "input": [],
     "language": "python",
     "metadata": {},
     "outputs": [],
     "prompt_number": 822
    },
    {
     "cell_type": "code",
     "collapsed": false,
     "input": [
      "wsdict = {mname: rangen[0]}"
     ],
     "language": "python",
     "metadata": {},
     "outputs": [],
     "prompt_number": 823
    },
    {
     "cell_type": "code",
     "collapsed": false,
     "input": [
      "wsdict"
     ],
     "language": "python",
     "metadata": {},
     "outputs": [
      {
       "metadata": {},
       "output_type": "pyout",
       "prompt_number": 824,
       "text": [
        "{'William Mckee': '95966e4780abdece6669b4befacd473ad164e69804cac5bf8465ecbd2400d1210cc6d9a78e23748e5c1a57951d5da47b8cd3d9c69f81184522309908b4945c63762f3557c055bd08210dad4d93c420510dff8f67dbcca9f0e9b3999046b65a32d9a88f8d6a2a5c798af7b977e6ec3a4ac8d9e4c5556b9cc00e4167799e547385'}"
       ]
      }
     ],
     "prompt_number": 824
    },
    {
     "cell_type": "code",
     "collapsed": false,
     "input": [
      "wsdict.update({time.strftime(\"%d\" + \"-\" + \"%b\" + \"-\" + \"%Y\"): rangen[1]})"
     ],
     "language": "python",
     "metadata": {},
     "outputs": [],
     "prompt_number": 825
    },
    {
     "cell_type": "code",
     "collapsed": false,
     "input": [
      "wsdict.update({ time.strftime(\"%H:%M\"): rangen[2]})"
     ],
     "language": "python",
     "metadata": {},
     "outputs": [],
     "prompt_number": 826
    },
    {
     "cell_type": "code",
     "collapsed": false,
     "input": [
      "wsdict.update({signin: rangen[3]})"
     ],
     "language": "python",
     "metadata": {},
     "outputs": [],
     "prompt_number": 827
    },
    {
     "cell_type": "code",
     "collapsed": false,
     "input": [
      "wsdict"
     ],
     "language": "python",
     "metadata": {},
     "outputs": [
      {
       "metadata": {},
       "output_type": "pyout",
       "prompt_number": 828,
       "text": [
        "{'11-Oct-2014': '224885a9707ccb76d75864c23aeaeaecb9d5243a4745dd3b2730041407c92a770d29c05d9344eefc87ab4e4f8013f883a11e8fd10a02c73ce19b95b30de8c4d70ef231a2ae30d74347d468c581423181a15621267fc6f78d4f983972c4361ec9f75b1fc7ffd04e8fd5f09fb8613d3e6f0ea1a351f4c2500fd9da6edf2b6dcbe2',\n",
        " '21:43': 'fc5cac012a319bb514b24902c01cf950db12df1a083ff0848fa3c2569dbe346050a83fd9022d86a9d87c444f12a76081a73ae02d5aaa0d17dd671d7727694f5be1be44ac4c15baf6812c392007f9bc2e2028ec74f06eff1776eefbaee1fd60f20cb8e67614ea8d124ada0206e9098498e3ab640b54d8c0df11ad1a30a6f74d73',\n",
        " 'ESW': '7f9eacde74fc43ccb5d2eeaaaa6214d465fd781500238ebff18b2373b8ffef6cbf94d7a6a23a6c220a0bdf85429f51a809e12753497d5742f3f1196071b7adc507f51e92498c664cea2d7d0470d2ae49301d81fa3410022ce9f5cf386ba597f2f1ae96bb839a835d6f02b66e73b724b44b5cf530606a84bcf496408ee9941c81',\n",
        " 'William Mckee': '95966e4780abdece6669b4befacd473ad164e69804cac5bf8465ecbd2400d1210cc6d9a78e23748e5c1a57951d5da47b8cd3d9c69f81184522309908b4945c63762f3557c055bd08210dad4d93c420510dff8f67dbcca9f0e9b3999046b65a32d9a88f8d6a2a5c798af7b977e6ec3a4ac8d9e4c5556b9cc00e4167799e547385'}"
       ]
      }
     ],
     "prompt_number": 828
    },
    {
     "cell_type": "code",
     "collapsed": false,
     "input": [
      "wsdict.keys()"
     ],
     "language": "python",
     "metadata": {},
     "outputs": [
      {
       "metadata": {},
       "output_type": "pyout",
       "prompt_number": 829,
       "text": [
        "['ESW', 'William Mckee', '21:43', '11-Oct-2014']"
       ]
      }
     ],
     "prompt_number": 829
    },
    {
     "cell_type": "code",
     "collapsed": false,
     "input": [],
     "language": "python",
     "metadata": {},
     "outputs": [],
     "prompt_number": 829
    },
    {
     "cell_type": "code",
     "collapsed": false,
     "input": [
      "doc = dominate.document(title='visitor sign sheet')\n",
      "\n",
      "with doc.head:\n",
      "    link(rel='stylesheet', href='style.css')\n",
      "    script(type='text/javascript', src='script.js')\n",
      "\n",
      "with doc:\n",
      "    with div(id='header').add(ol()):\n",
      "        for i in wsdict.keys():\n",
      "            li(a(i))\n",
      "\n",
      "    with div():\n",
      "        attr(cls='body')\n",
      "        p('last updated: ' + time.strftime(\"%H:%M\"))\n",
      "\n",
      "print doc"
     ],
     "language": "python",
     "metadata": {},
     "outputs": [
      {
       "output_type": "stream",
       "stream": "stdout",
       "text": [
        "<!DOCTYPE html>\n",
        "<html>\n",
        "  <head>\n",
        "    <title>visitor sign sheet</title>\n",
        "    <link href=\"style.css\" rel=\"stylesheet\">\n",
        "    <script src=\"script.js\" type=\"text/javascript\"></script>\n",
        "  </head>\n",
        "  <body>\n",
        "    <div id=\"header\">\n",
        "      <ol>\n",
        "        <li>\n",
        "          <a>ESW</a>\n",
        "        </li>\n",
        "        <li>\n",
        "          <a>William Mckee</a>\n",
        "        </li>\n",
        "        <li>\n",
        "          <a>21:43</a>\n",
        "        </li>\n",
        "        <li>\n",
        "          <a>11-Oct-2014</a>\n",
        "        </li>\n",
        "      </ol>\n",
        "    </div>\n",
        "    <div class=\"body\">\n",
        "      <p>last updated: 21:43</p>\n",
        "    </div>\n",
        "  </body>\n",
        "</html>\n"
       ]
      }
     ],
     "prompt_number": 830
    },
    {
     "cell_type": "code",
     "collapsed": false,
     "input": [
      "savindex = open('/home/wcmckee/visignsys/index.html', 'w')"
     ],
     "language": "python",
     "metadata": {},
     "outputs": [],
     "prompt_number": 831
    },
    {
     "cell_type": "code",
     "collapsed": false,
     "input": [
      "savindex.name"
     ],
     "language": "python",
     "metadata": {},
     "outputs": [
      {
       "metadata": {},
       "output_type": "pyout",
       "prompt_number": 832,
       "text": [
        "'/home/wcmckee/visignsys/index.html'"
       ]
      }
     ],
     "prompt_number": 832
    },
    {
     "cell_type": "code",
     "collapsed": false,
     "input": [
      "savindex.write(str(doc))\n",
      "savindex.close()"
     ],
     "language": "python",
     "metadata": {},
     "outputs": [],
     "prompt_number": 833
    },
    {
     "cell_type": "code",
     "collapsed": false,
     "input": [
      "ixtwe = ixran[0:12]"
     ],
     "language": "python",
     "metadata": {},
     "outputs": [],
     "prompt_number": 834
    },
    {
     "cell_type": "code",
     "collapsed": false,
     "input": [
      "savpos = open('/home/wcmckee/visignsys/posts/' + ixtwe + '.html', 'w')\n",
      "savpos.write(str(doc))\n",
      "savpos.close()"
     ],
     "language": "python",
     "metadata": {},
     "outputs": [],
     "prompt_number": 835
    },
    {
     "cell_type": "code",
     "collapsed": false,
     "input": [
      "savpos = open('/home/wcmckee/visignsys/posts/' + ixtwe + '.meta', 'w')\n",
      "savpos.write(str(wsdict.keys()))\n",
      "savpos.close()"
     ],
     "language": "python",
     "metadata": {},
     "outputs": [],
     "prompt_number": 836
    },
    {
     "cell_type": "code",
     "collapsed": false,
     "input": [
      "savpos = open('/home/wcmckee/visignsys/index.meta', 'w')\n",
      "savpos.write(str(wsdict.keys()))\n",
      "savpos.close()"
     ],
     "language": "python",
     "metadata": {},
     "outputs": [],
     "prompt_number": 837
    },
    {
     "cell_type": "code",
     "collapsed": false,
     "input": [],
     "language": "python",
     "metadata": {},
     "outputs": [],
     "prompt_number": 837
    },
    {
     "cell_type": "code",
     "collapsed": false,
     "input": [],
     "language": "python",
     "metadata": {},
     "outputs": []
    }
   ],
   "metadata": {}
  }
 ]
}