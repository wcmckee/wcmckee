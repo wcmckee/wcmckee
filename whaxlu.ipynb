{
 "metadata": {
  "name": "",
  "signature": "sha256:e584b0b9ed1ea2e299152f9d5a549d6dae41e89aac9d27378fa12b3945ed2573"
 },
 "nbformat": 3,
 "nbformat_minor": 0,
 "worksheets": [
  {
   "cells": [
    {
     "cell_type": "markdown",
     "metadata": {},
     "source": [
      "<h2>visitor sign system</h2>\n",
      "\n",
      "This is a python script used to sign in and signout, keeping track of hours and creating a more automative system.\n",
      "\n",
      "Make sign in and out faster, easier to keep track of.\n",
      "\n",
      "Never forget. \n",
      "\n",
      "Auto roll check. \n",
      "\n",
      "Two random hex codes for security and correct checking. \n",
      "\n",
      "Creates xls file with data, also uses sqlalchemy for databases, web server: \n",
      "input (or auto) name, reason, auto day/month/year hr/min - of signin.\n",
      "\n",
      "when launched asked if you want to signin or signout. \n",
      "\n",
      "how i want this to run for william:\n",
      "\n",
      "william arrives into whai. On his phone he runs the signin script. On signing out for the day the script is run onto final part, signout. asks for comment first then records time, and date. \n",
      "\n",
      "comment system. leave comment for staff, parent, tag staff, area, story, parent, child.\n",
      "\n",
      "signout - enter code of session you want to signout. "
     ]
    },
    {
     "cell_type": "code",
     "collapsed": false,
     "input": [
      "import os\n",
      "import time\n",
      "import xlutils\n",
      "import xlwt\n",
      "import xlrd\n",
      "import dominate\n",
      "import sys\n",
      "#from sqlalchemy import Column, ForeignKey, Integer, String\n",
      "#from sqlalchemy.ext.declarative import declarative_base\n",
      "#from sqlalchemy.orm import relationship\n",
      "#from sqlalchemy import create_engine"
     ],
     "language": "python",
     "metadata": {},
     "outputs": [],
     "prompt_number": 562
    },
    {
     "cell_type": "code",
     "collapsed": false,
     "input": [
      "mname = ('William Mckee')\n",
      "ename = ('will@artcontrol.me')\n",
      "signin = ('ESW')"
     ],
     "language": "python",
     "metadata": {},
     "outputs": [],
     "prompt_number": 563
    },
    {
     "cell_type": "code",
     "collapsed": false,
     "input": [
      "#Base = declarative_base()\n",
      " \n",
      "#class Person(Base):\n",
      "#    __tablename__ = 'person'\n",
      "#    # Here we define columns for the table person\n",
      "#    # Notice that each column is also a normal Python instance attribute.\n",
      "#    id = Column(Integer, primary_key=True)\n",
      "#    name = Column(String(250), nullable=False)\n",
      " \n",
      "#class Address(Base):\n",
      "#    __tablename__ = 'address'\n",
      "#    # Here we define columns for the table address.\n",
      "#    # Notice that each column is also a normal Python instance attribute.\n",
      "#    id = Column(Integer, primary_key=True)\n",
      "#    datesignin = Column(String(250))\n",
      "#    hrminsignin = Column(String(250))\n",
      "#    usernamesignin = Column(String(250), nullable=False)\n",
      "#    reasonsignin = Column(String(250))\n",
      "#    person_id = Column(Integer, ForeignKey('person.id'))\n",
      "#    person = relationship(Person)\n",
      " \n",
      "# Create an engine that stores data in the local directory's\n",
      "# sqlalchemy_example.db file.\n",
      "#engine = create_engine('sqlite:///sqlalchemy_example.db')\n",
      " \n",
      "# Create a$ll tables in the engine. This is equivalent to \"Create Table\"\n",
      "# statements in raw SQL.\n",
      "#Base.metadata.create_all(engine)"
     ],
     "language": "python",
     "metadata": {},
     "outputs": [],
     "prompt_number": 564
    },
    {
     "cell_type": "code",
     "collapsed": false,
     "input": [
      "#from sqlalchemy import create_engine\n",
      "#from sqlalchemy.orm import sessionmaker\n",
      " \n",
      "#from sqlalchemy_declarative import Address, Base, Person\n",
      " \n",
      "#engine = create_engine('sqlite:///sqlalchemy_example.db')\n",
      "# Bind the engine to the metadata of the Base class so that the\n",
      "# declaratives can be accessed through a DBSession instance\n",
      "#Base.metadata.bind = engine\n",
      " \n",
      "#DBSession = sessionmaker(bind=engine)\n",
      "# A DBSession() instance establishes all conversations with the database\n",
      "# and represents a \"staging zone\" for all the objects loaded into the\n",
      "# database session object. Any change made against the objects in the\n",
      "# session won't be persisted into the database until you call\n",
      "# session.commit(). If you're not happy about the changes, you can\n",
      "# revert all of them back to the last commit by calling\n",
      "# session.rollback()\n",
      "#session = DBSession()\n",
      " \n",
      "# Insert a Person in the person table\n",
      "#new_person = Person(name='new person')\n",
      "#session.add(new_person)\n",
      "#session.commit()\n",
      " \n",
      "# Insert an Address in the address table\n",
      "#new_address = Address(post_code='00000', person=new_person)\n",
      "#session.add(new_address)\n",
      "#session.commit()"
     ],
     "language": "python",
     "metadata": {},
     "outputs": [],
     "prompt_number": 565
    },
    {
     "cell_type": "code",
     "collapsed": false,
     "input": [
      "wrkbook = xlrd.open_workbook('/home/wcmckee/whai/index.xls')"
     ],
     "language": "python",
     "metadata": {},
     "outputs": [],
     "prompt_number": 566
    },
    {
     "cell_type": "code",
     "collapsed": false,
     "input": [
      "print wrkbook.sheet_names()\n",
      "\n",
      "worksheet = wrkbook.sheet_by_name('visitor sign database')\n"
     ],
     "language": "python",
     "metadata": {},
     "outputs": [
      {
       "output_type": "stream",
       "stream": "stdout",
       "text": [
        "[u'visitor sign database']\n"
       ]
      }
     ],
     "prompt_number": 567
    },
    {
     "cell_type": "code",
     "collapsed": false,
     "input": [
      "swlis = []"
     ],
     "language": "python",
     "metadata": {},
     "outputs": [],
     "prompt_number": 568
    },
    {
     "cell_type": "code",
     "collapsed": false,
     "input": [
      "num_rows = worksheet.nrows - 1\n",
      "curr_row = -1\n",
      "while curr_row < num_rows:\n",
      "    curr_row += 1\n",
      "    row = worksheet.row(curr_row)\n",
      "    print row\n",
      "    swlis.append(row)"
     ],
     "language": "python",
     "metadata": {},
     "outputs": [
      {
       "output_type": "stream",
       "stream": "stdout",
       "text": [
        "[text:u'In Date', text:u'In Time', text:u'In Code', text:u'Name', text:u'Reason', text:u'Out Date', text:u'Out Time', text:u'Out Code']\n",
        "[text:u'08-Oct-2014', text:u'06:06', text:u'd53c1a079821e777e7375580b6d0855446f1aa024bd75b35cd66cb81a4dbed98d63e058b28cce0a462da07ec478e42e91ac0e27820dffca21d2f652630f633c535aa9bd88836d31e5e8c62adff7e9a450d996fdbf8077c35885f68f45f98cfc19810f8656cffc75cb9af1c51f4a98481d3595eb0b25a662f6f6b52928a9c3975', text:u'william mckee', text:u'esw', empty:'', empty:'', empty:'']\n"
       ]
      }
     ],
     "prompt_number": 569
    },
    {
     "cell_type": "code",
     "collapsed": false,
     "input": [
      "valis = []"
     ],
     "language": "python",
     "metadata": {},
     "outputs": [],
     "prompt_number": 600
    },
    {
     "cell_type": "code",
     "collapsed": false,
     "input": [
      "for swl in swlis[1]:\n",
      "    print swl.value\n",
      "    valis.append(swl.value)"
     ],
     "language": "python",
     "metadata": {},
     "outputs": [
      {
       "output_type": "stream",
       "stream": "stdout",
       "text": [
        "08-Oct-2014\n",
        "06:06\n",
        "d53c1a079821e777e7375580b6d0855446f1aa024bd75b35cd66cb81a4dbed98d63e058b28cce0a462da07ec478e42e91ac0e27820dffca21d2f652630f633c535aa9bd88836d31e5e8c62adff7e9a450d996fdbf8077c35885f68f45f98cfc19810f8656cffc75cb9af1c51f4a98481d3595eb0b25a662f6f6b52928a9c3975\n",
        "william mckee\n",
        "esw\n",
        "\n",
        "\n",
        "\n"
       ]
      }
     ],
     "prompt_number": 601
    },
    {
     "cell_type": "code",
     "collapsed": false,
     "input": [
      "valis"
     ],
     "language": "python",
     "metadata": {},
     "outputs": [
      {
       "metadata": {},
       "output_type": "pyout",
       "prompt_number": 602,
       "text": [
        "[u'08-Oct-2014',\n",
        " u'06:06',\n",
        " u'd53c1a079821e777e7375580b6d0855446f1aa024bd75b35cd66cb81a4dbed98d63e058b28cce0a462da07ec478e42e91ac0e27820dffca21d2f652630f633c535aa9bd88836d31e5e8c62adff7e9a450d996fdbf8077c35885f68f45f98cfc19810f8656cffc75cb9af1c51f4a98481d3595eb0b25a662f6f6b52928a9c3975',\n",
        " u'william mckee',\n",
        " u'esw',\n",
        " '',\n",
        " '',\n",
        " '']"
       ]
      }
     ],
     "prompt_number": 602
    },
    {
     "cell_type": "code",
     "collapsed": false,
     "input": [
      "time.strftime(\"%a, %d %b %Y %H:%M: +0000\", time.gmtime())"
     ],
     "language": "python",
     "metadata": {},
     "outputs": [
      {
       "metadata": {},
       "output_type": "pyout",
       "prompt_number": 571,
       "text": [
        "'Thu, 09 Oct 2014 05:18: +0000'"
       ]
      }
     ],
     "prompt_number": 571
    },
    {
     "cell_type": "code",
     "collapsed": false,
     "input": [
      "wb = xlwt.Workbook()\n",
      "ws = wb.add_sheet('visitor sign database')"
     ],
     "language": "python",
     "metadata": {},
     "outputs": [],
     "prompt_number": 572
    },
    {
     "cell_type": "code",
     "collapsed": false,
     "input": [
      "exran = os.urandom(128).encode('hex')"
     ],
     "language": "python",
     "metadata": {},
     "outputs": [],
     "prompt_number": 573
    },
    {
     "cell_type": "code",
     "collapsed": false,
     "input": [
      "ixran = os.urandom(128).encode('hex')"
     ],
     "language": "python",
     "metadata": {},
     "outputs": [],
     "prompt_number": 574
    },
    {
     "cell_type": "code",
     "collapsed": false,
     "input": [
      "rawdets = ['In Date', 'In Time', 'In Code', 'Name', 'Reason', 'Out Date', 'Out Time']"
     ],
     "language": "python",
     "metadata": {},
     "outputs": [],
     "prompt_number": 575
    },
    {
     "cell_type": "code",
     "collapsed": false,
     "input": [
      "numroll = []"
     ],
     "language": "python",
     "metadata": {},
     "outputs": [],
     "prompt_number": 576
    },
    {
     "cell_type": "code",
     "collapsed": false,
     "input": [
      "for det in range(6):\n",
      "    print det\n",
      "    numroll.append(det)\n",
      "    #ws.write(0, det, )"
     ],
     "language": "python",
     "metadata": {},
     "outputs": [
      {
       "output_type": "stream",
       "stream": "stdout",
       "text": [
        "0\n",
        "1\n",
        "2\n",
        "3\n",
        "4\n",
        "5\n"
       ]
      }
     ],
     "prompt_number": 577
    },
    {
     "cell_type": "code",
     "collapsed": false,
     "input": [
      "numroll"
     ],
     "language": "python",
     "metadata": {},
     "outputs": [
      {
       "metadata": {},
       "output_type": "pyout",
       "prompt_number": 578,
       "text": [
        "[0, 1, 2, 3, 4, 5]"
       ]
      }
     ],
     "prompt_number": 578
    },
    {
     "cell_type": "code",
     "collapsed": false,
     "input": [
      "for rad in rawdets:\n",
      "    print rad\n",
      "    #print len(rad)\n",
      "    print rad.upper()\n",
      "    #range(20)"
     ],
     "language": "python",
     "metadata": {},
     "outputs": [
      {
       "output_type": "stream",
       "stream": "stdout",
       "text": [
        "In Date\n",
        "IN DATE\n",
        "In Time\n",
        "IN TIME\n",
        "In Code\n",
        "IN CODE\n",
        "Name\n",
        "NAME\n",
        "Reason\n",
        "REASON\n",
        "Out Date\n",
        "OUT DATE\n",
        "Out Time\n",
        "OUT TIME\n"
       ]
      }
     ],
     "prompt_number": 579
    },
    {
     "cell_type": "code",
     "collapsed": false,
     "input": [
      "ws.write(0, 0, 'In Date')\n",
      "ws.write(0, 1, 'In Time')\n",
      "ws.write(0, 2, 'In Code')\n",
      "ws.write(0, 3, 'Name')\n",
      "ws.write(0, 4, 'Reason')\n",
      "ws.write(0, 5, 'Out Date')\n",
      "ws.write(0, 6, 'Out Time')\n",
      "ws.write(0, 7, 'Out Code')"
     ],
     "language": "python",
     "metadata": {},
     "outputs": [],
     "prompt_number": 580
    },
    {
     "cell_type": "code",
     "collapsed": false,
     "input": [
      "#strftime is %d (day), \n",
      "\n",
      "ws.write(1, 0, time.strftime(\"%d\" + \"-\" + \"%b\" + \"-\" + \"%Y\"))\n",
      "\n",
      "ws.write(1, 1, time.strftime(\"%H:%M\"))"
     ],
     "language": "python",
     "metadata": {},
     "outputs": [],
     "prompt_number": 581
    },
    {
     "cell_type": "code",
     "collapsed": false,
     "input": [
      "getname = raw_input('Name: ')\n",
      "getreason = raw_input('Reason: ')"
     ],
     "language": "python",
     "metadata": {},
     "outputs": [
      {
       "name": "stdout",
       "output_type": "stream",
       "stream": "stdout",
       "text": [
        "Name: william clifford mckee\n"
       ]
      },
      {
       "name": "stdout",
       "output_type": "stream",
       "stream": "stdout",
       "text": [
        "Reason: esw\n"
       ]
      }
     ],
     "prompt_number": 583
    },
    {
     "cell_type": "code",
     "collapsed": false,
     "input": [
      "ws.write(1, 2, exran)"
     ],
     "language": "python",
     "metadata": {},
     "outputs": [],
     "prompt_number": 584
    },
    {
     "cell_type": "code",
     "collapsed": false,
     "input": [
      "ws.write(1, 3, getname)"
     ],
     "language": "python",
     "metadata": {},
     "outputs": [],
     "prompt_number": 585
    },
    {
     "cell_type": "code",
     "collapsed": false,
     "input": [
      "ws.write(1, 4, getreason)"
     ],
     "language": "python",
     "metadata": {},
     "outputs": [],
     "prompt_number": 586
    },
    {
     "cell_type": "code",
     "collapsed": false,
     "input": [
      "#wb.save('/home/wcmckee/whai/' + xlvs)\n",
      "wb.save('/home/wcmckee/whai/index.xls')"
     ],
     "language": "python",
     "metadata": {},
     "outputs": [],
     "prompt_number": 589
    },
    {
     "cell_type": "code",
     "collapsed": false,
     "input": [
      "wsdict = {getname: exran}"
     ],
     "language": "python",
     "metadata": {},
     "outputs": [],
     "prompt_number": 590
    },
    {
     "cell_type": "code",
     "collapsed": false,
     "input": [
      "wsdict"
     ],
     "language": "python",
     "metadata": {},
     "outputs": [
      {
       "metadata": {},
       "output_type": "pyout",
       "prompt_number": 591,
       "text": [
        "{'william clifford mckee': '8f4dc416d7f78051a618f0c0a86c7d580b558ef3237deb3d3d4e75e6cb2b85c0cacdbfc793d86f9ed88ece0f721fe0e650cf95831f83eb67c07e72b0a381e4795c9d4c69073d620b96bb20925cdd5dde45e6099a28f85742e0ea99a8a40a2950c076ee5a4c8c3a9a35e7bc1a7972c11794018642a1e1af13fb8ce77e83f56ce8'}"
       ]
      }
     ],
     "prompt_number": 591
    },
    {
     "cell_type": "code",
     "collapsed": false,
     "input": [
      "wsdict.update({time.strftime(\"%d\" + \"-\" + \"%b\" + \"-\" + \"%Y\"): time.strftime(\"%H:%M\")})"
     ],
     "language": "python",
     "metadata": {},
     "outputs": [],
     "prompt_number": 592
    },
    {
     "cell_type": "code",
     "collapsed": false,
     "input": [
      "wsdict.update({getreason: ixran})"
     ],
     "language": "python",
     "metadata": {},
     "outputs": [],
     "prompt_number": 593
    },
    {
     "cell_type": "code",
     "collapsed": false,
     "input": [
      "wsdict"
     ],
     "language": "python",
     "metadata": {},
     "outputs": [
      {
       "metadata": {},
       "output_type": "pyout",
       "prompt_number": 594,
       "text": [
        "{'09-Oct-2014': '05:20',\n",
        " 'esw': '16bc6286a34823fa1194b944c0468075e1f8dccdbec787ba6f923462904aa86b45107dba4fcf60a1c6632cd25320aaddd78fa18f52b904a40fdb7d831977f49e03bf68360d1c507f1705bf85f39fdaf9c26e3628fe67cc6fa92fcf7945ab4ce7adc49c42de3ae899a24ff941baea8de256d8dd75b90b00e538829a6034ebf85c',\n",
        " 'william clifford mckee': '8f4dc416d7f78051a618f0c0a86c7d580b558ef3237deb3d3d4e75e6cb2b85c0cacdbfc793d86f9ed88ece0f721fe0e650cf95831f83eb67c07e72b0a381e4795c9d4c69073d620b96bb20925cdd5dde45e6099a28f85742e0ea99a8a40a2950c076ee5a4c8c3a9a35e7bc1a7972c11794018642a1e1af13fb8ce77e83f56ce8'}"
       ]
      }
     ],
     "prompt_number": 594
    },
    {
     "cell_type": "code",
     "collapsed": false,
     "input": [
      "wsdict.keys()"
     ],
     "language": "python",
     "metadata": {},
     "outputs": [
      {
       "metadata": {},
       "output_type": "pyout",
       "prompt_number": 595,
       "text": [
        "['esw', '09-Oct-2014', 'william clifford mckee']"
       ]
      }
     ],
     "prompt_number": 595
    },
    {
     "cell_type": "code",
     "collapsed": false,
     "input": [
      "import dominate\n",
      "from dominate.tags import *\n",
      "\n",
      "doc = dominate.document(title='visitor sign sheet')\n",
      "\n",
      "with doc.head:\n",
      "    link(rel='stylesheet', href='style.css')\n",
      "    script(type='text/javascript', src='script.js')\n",
      "\n",
      "with doc:\n",
      "    with div(id='header').add(ol()):\n",
      "        for i in wsdict.keys():\n",
      "            li(a(i))\n",
      "\n",
      "    with div():\n",
      "        attr(cls='body')\n",
      "        p('last updated: ' + time.strftime(\"%H:%M\"))\n",
      "\n",
      "print doc"
     ],
     "language": "python",
     "metadata": {},
     "outputs": [
      {
       "output_type": "stream",
       "stream": "stdout",
       "text": [
        "<!DOCTYPE html>\n",
        "<html>\n",
        "  <head>\n",
        "    <title>visitor sign sheet</title>\n",
        "    <link href=\"style.css\" rel=\"stylesheet\">\n",
        "    <script src=\"script.js\" type=\"text/javascript\"></script>\n",
        "  </head>\n",
        "  <body>\n",
        "    <div id=\"header\">\n",
        "      <ol>\n",
        "        <li>\n",
        "          <a>esw</a>\n",
        "        </li>\n",
        "        <li>\n",
        "          <a>09-Oct-2014</a>\n",
        "        </li>\n",
        "        <li>\n",
        "          <a>william clifford mckee</a>\n",
        "        </li>\n",
        "      </ol>\n",
        "    </div>\n",
        "    <div class=\"body\">\n",
        "      <p>last updated: 05:20</p>\n",
        "    </div>\n",
        "  </body>\n",
        "</html>\n"
       ]
      }
     ],
     "prompt_number": 596
    },
    {
     "cell_type": "code",
     "collapsed": false,
     "input": [],
     "language": "python",
     "metadata": {},
     "outputs": [],
     "prompt_number": 540
    },
    {
     "cell_type": "code",
     "collapsed": false,
     "input": [],
     "language": "python",
     "metadata": {},
     "outputs": [],
     "prompt_number": 482
    },
    {
     "cell_type": "code",
     "collapsed": false,
     "input": [],
     "language": "python",
     "metadata": {},
     "outputs": []
    }
   ],
   "metadata": {}
  }
 ]
}