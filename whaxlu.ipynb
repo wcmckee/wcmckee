{
 "metadata": {
  "name": "",
  "signature": "sha256:83450f14d9af3aeb20fce9719607dc7c991cb1a0bcf30b62f3a6f57c60ffe677"
 },
 "nbformat": 3,
 "nbformat_minor": 0,
 "worksheets": [
  {
   "cells": [
    {
     "cell_type": "markdown",
     "metadata": {},
     "source": [
      "<h2>visitor sign system</h2>\n",
      "\n",
      "This is a python script used to sign in and signout, keeping track of hours and creating a more automative system.\n",
      "\n",
      "Make sign in and out faster, easier to keep track of.\n",
      "\n",
      "Never forget. \n",
      "\n",
      "Auto roll check. \n",
      "\n",
      "Two random hex codes for security and correct checking. Made use of tthese by using one as file name when saving.\n",
      "\n",
      "Creates xls file with data, also uses sqlalchemy for databases, web server, html page: \n",
      "input (or auto) name, reason, auto day/month/year hr/min - of signin.\n",
      "\n",
      "when launched asked if you want to signin or signout. \n",
      "\n",
      "how i want this to run for william:\n",
      "\n",
      "william arrives into whai. On his phone he runs the signin script. On signing out for the day the script is run onto final part, signout. asks for comment first then records time, and date. \n",
      "\n",
      "comment system. leave comment for staff, parent, tag staff, area, story, parent, child.\n",
      "\n",
      "signout - enter code of session you want to signout. \n",
      "\n",
      "Screw the excel file, im just dealing with index page. i am saving achieve in posts folder under urandom 13 character code. \n"
     ]
    },
    {
     "cell_type": "code",
     "collapsed": false,
     "input": [
      "import os\n",
      "import time\n",
      "import xlutils\n",
      "import xlwt\n",
      "import xlrd\n",
      "import dominate\n",
      "import sys\n",
      "from dominate.tags import *\n",
      "#from sqlalchemy import Column, ForeignKey, Integer, String\n",
      "#from sqlalchemy.ext.declarative import declarative_base\n",
      "#from sqlalchemy.orm import relationship\n",
      "#from sqlalchemy import create_engine"
     ],
     "language": "python",
     "metadata": {},
     "outputs": [],
     "prompt_number": 748
    },
    {
     "cell_type": "code",
     "collapsed": false,
     "input": [
      "mname = ('William Mckee')\n",
      "ename = ('will@artcontrol.me')\n",
      "signin = ('ESW')"
     ],
     "language": "python",
     "metadata": {},
     "outputs": [],
     "prompt_number": 749
    },
    {
     "cell_type": "code",
     "collapsed": false,
     "input": [
      "#Base = declarative_base()\n",
      " \n",
      "#class Person(Base):\n",
      "#    __tablename__ = 'person'\n",
      "#    # Here we define columns for the table person\n",
      "#    # Notice that each column is also a normal Python instance attribute.\n",
      "#    id = Column(Integer, primary_key=True)\n",
      "#    name = Column(String(250), nullable=False)\n",
      " \n",
      "#class Address(Base):\n",
      "#    __tablename__ = 'address'\n",
      "#    # Here we define columns for the table address.\n",
      "#    # Notice that each column is also a normal Python instance attribute.\n",
      "#    id = Column(Integer, primary_key=True)\n",
      "#    datesignin = Column(String(250))\n",
      "#    hrminsignin = Column(String(250))\n",
      "#    usernamesignin = Column(String(250), nullable=False)\n",
      "#    reasonsignin = Column(String(250))\n",
      "#    person_id = Column(Integer, ForeignKey('person.id'))\n",
      "#    person = relationship(Person)\n",
      " \n",
      "# Create an engine that stores data in the local directory's\n",
      "# sqlalchemy_example.db file.\n",
      "#engine = create_engine('sqlite:///sqlalchemy_example.db')\n",
      " \n",
      "# Create a$ll tables in the engine. This is equivalent to \"Create Table\"\n",
      "# statements in raw SQL.\n",
      "#Base.metadata.create_all(engine)"
     ],
     "language": "python",
     "metadata": {},
     "outputs": [],
     "prompt_number": 750
    },
    {
     "cell_type": "code",
     "collapsed": false,
     "input": [
      "#from sqlalchemy import create_engine\n",
      "#from sqlalchemy.orm import sessionmaker\n",
      " \n",
      "#from sqlalchemy_declarative import Address, Base, Person\n",
      " \n",
      "#engine = create_engine('sqlite:///sqlalchemy_example.db')\n",
      "# Bind the engine to the metadata of the Base class so that the\n",
      "# declaratives can be accessed through a DBSession instance\n",
      "#Base.metadata.bind = engine\n",
      " \n",
      "#DBSession = sessionmaker(bind=engine)\n",
      "# A DBSession() instance establishes all conversations with the database\n",
      "# and represents a \"staging zone\" for all the objects loaded into the\n",
      "# database session object. Any change made against the objects in the\n",
      "# session won't be persisted into the database until you call\n",
      "# session.commit(). If you're not happy about the changes, you can\n",
      "# revert all of them back to the last commit by calling\n",
      "# session.rollback()\n",
      "#session = DBSession()\n",
      " \n",
      "# Insert a Person in the person table\n",
      "#new_person = Person(name='new person')\n",
      "#session.add(new_person)\n",
      "#session.commit()\n",
      " \n",
      "# Insert an Address in the address table\n",
      "#new_address = Address(post_code='00000', person=new_person)\n",
      "#session.add(new_address)\n",
      "#session.commit()"
     ],
     "language": "python",
     "metadata": {},
     "outputs": [],
     "prompt_number": 751
    },
    {
     "cell_type": "code",
     "collapsed": false,
     "input": [
      "#wrkbook = xlrd.open_workbook('/home/wcmckee/whai/index.xls')"
     ],
     "language": "python",
     "metadata": {},
     "outputs": [],
     "prompt_number": 752
    },
    {
     "cell_type": "code",
     "collapsed": false,
     "input": [
      "#print wrkbook.sheet_names()\n",
      "\n",
      "#worksheet = wrkbook.sheet_by_name('visitor sign database')\n"
     ],
     "language": "python",
     "metadata": {},
     "outputs": [],
     "prompt_number": 753
    },
    {
     "cell_type": "code",
     "collapsed": false,
     "input": [
      "#swlis = []"
     ],
     "language": "python",
     "metadata": {},
     "outputs": [],
     "prompt_number": 754
    },
    {
     "cell_type": "code",
     "collapsed": false,
     "input": [
      "#num_rows = worksheet.nrows - 1\n",
      "#curr_row = -1\n",
      "#while curr_row < num_rows:\n",
      "#    curr_row += 1\n",
      "#    row = worksheet.row(curr_row)\n",
      "#    print row\n",
      "#    swlis.append(row)"
     ],
     "language": "python",
     "metadata": {},
     "outputs": [],
     "prompt_number": 755
    },
    {
     "cell_type": "code",
     "collapsed": false,
     "input": [
      "#valis = []"
     ],
     "language": "python",
     "metadata": {},
     "outputs": [],
     "prompt_number": 756
    },
    {
     "cell_type": "code",
     "collapsed": false,
     "input": [
      "#for swl in swlis[1]:\n",
      "#    print swl.value\n",
      "#    valis.append(swl.value)"
     ],
     "language": "python",
     "metadata": {},
     "outputs": [],
     "prompt_number": 757
    },
    {
     "cell_type": "code",
     "collapsed": false,
     "input": [
      "#valis"
     ],
     "language": "python",
     "metadata": {},
     "outputs": [],
     "prompt_number": 758
    },
    {
     "cell_type": "code",
     "collapsed": false,
     "input": [
      "time.strftime(\"%a, %d %b %Y %H:%M: +0000\", time.gmtime())"
     ],
     "language": "python",
     "metadata": {},
     "outputs": [
      {
       "metadata": {},
       "output_type": "pyout",
       "prompt_number": 759,
       "text": [
        "'Sat, 11 Oct 2014 06:03: +0000'"
       ]
      }
     ],
     "prompt_number": 759
    },
    {
     "cell_type": "code",
     "collapsed": false,
     "input": [
      "wb = xlwt.Workbook()\n",
      "ws = wb.add_sheet('visitor sign database')"
     ],
     "language": "python",
     "metadata": {},
     "outputs": [],
     "prompt_number": 760
    },
    {
     "cell_type": "code",
     "collapsed": false,
     "input": [
      "rangen = []"
     ],
     "language": "python",
     "metadata": {},
     "outputs": [],
     "prompt_number": 761
    },
    {
     "cell_type": "code",
     "collapsed": false,
     "input": [
      "for genz in range(8):\n",
      "    print os.urandom(128).encode('hex')\n",
      "    rangen.append(os.urandom(128).encode('hex'))"
     ],
     "language": "python",
     "metadata": {},
     "outputs": [
      {
       "output_type": "stream",
       "stream": "stdout",
       "text": [
        "2288db0482a2f50d5c602433056ad2ffcb82a0c3bf78dda308af7bb7c659d89388eec6ea1613226fe7e6182d0df46c99dd490533ea4d8738ae1281184bafc09ebc7fb7c0289a75a06be9fb918002219c76b0bb21c683e7abc2bf4e6517c3c7260f5f1d85daa1bf1cfacb084bfe7402f7076a79a535b3b6c9bbc9b929f6d2c819\n",
        "40968d3039c9d3864ee74efdd864cbac003b0a6c28fce70ae0799175b697aadcce682a01c5d14dff2a70f3a978e332b4b384649bf6715db78951f73a9bbc39ae9eaf47b4d9d224fab258c76d96b04be3d1bc08230982b42515003063d9b8842759a3e771feec1d9329f0d0b20d731a6d4e7b7609846c4f83588a664740887af4\n",
        "e8cfdb8f4d5c15dce13b5a765cd7407200d083d56cd8eb1e2dfdddf6ad31f70b91e5abcf17092ba1316d6e0591c16718956dc96bf701e7d9921c0e751536e974cea66b285805ecb365fa85ad7e5c45f935fa63704ab9875d695f3fe771738d8dbf21b262dabae2296d50cbbcde9452cbf9a4fdaeef824401197c3e44a4064454\n",
        "1194f0f8f98b64b02f66801a540d1ff2099467f84c2f68d456bd0491e2e002f796a3f11e17fe70a3d59d6a94f09b6d6300dcb2d692fc7f7fdc171631560a0b5d1d6c10d655628a9f6c1c08de283d4eb17a3d14e492307a1a010b8c4bef4094f9710c6e523ba3c99ae0c1f23bd2545f6385fae66fa0373d980863293fa576091a\n",
        "663f23fa2e102a88d467fcf31805feb5de7761c056998e256019edb23a6b13a9d57196750cb572f0792c1c541f6b0bd22c15f3b429a7b8516059dd836d9b4551cf22615701dd023e80fabf493da93f897fa82f790cd10e735502d99723e33dbb83feb76f8c273270c49def50d6477b4d282e95cf119d426f46bb47e3bfa29d57\n",
        "9b529f3aac9c3a1e6317a280e9580315dd2125f5852a9aad7526b48e08fd520c9cd3620961e54b979f9054eb0b97c2fced388eed1e56cc7efc69019c0ec6c14f733fe1364164016868ca1df6db4c57379e5cccedd954ee897adb96565f2a202bd59f979b3e3a5d90740e1d67094a85a9f81c07120767a1d0bc472b4a3a4bb779\n",
        "2d64622906cd12d69c0c9e658616f0bc1131fd544d7474f34741ffedce63a35490e21dbd4ed1c601e333178f3dc618c8fefe98a256f58d65d55c8b3ced12a8f9de206efef70ac9b51819edf4f9fa20776fea6e9751bdce14c161d20ef62e15bfb473339bd91b36068f563abc82eaa124831a53b12a471c789be6e17340a40e85\n",
        "22e59bd8492da631d327b47ff7cb2fead520ca5e2bbed590bd38a61f8c6a4d52128df0163a8fa1fec804a0fc403ffd52c640b3ed9aef458117063d6efe3e0c25e3c287b092b91be2186bbf5063092bf12adde1d985624ccf96771ee1d2ce4f2324459ffe5061dc4685934588cace81db4c36655b0d1076e10bfeae37867ee90d\n"
       ]
      }
     ],
     "prompt_number": 762
    },
    {
     "cell_type": "code",
     "collapsed": false,
     "input": [
      "rangen"
     ],
     "language": "python",
     "metadata": {},
     "outputs": [
      {
       "metadata": {},
       "output_type": "pyout",
       "prompt_number": 763,
       "text": [
        "['0e35657fe227b99789d68dbd34f32cb5b6662852d01ea8baaf88121b0e2f8eb472ea176399424a2605eeaaee649fcf749c45c6c27c9bc4e90bb33234c7d65ce919140ece309aa0884546063e984594fc33a39bb418e730a4b8041f00316229e7e78d615ae0c5043aa521f26ebbe32f020ab65a827eb979f7905959cc2615496d',\n",
        " 'f58cce38dc42ed90cd56e08da10ac2174105538a8a6038fc109b0f9075cc188d00bf60fe30e2b7ecdae4a7de05e5a4d265ff724b7114a7977d6a9076b56dff4c96228bda0c361528c6e9506cf008fce849eb1e755b0087123b12c236e002e552a4159a2f46bb5b8a9ef083226626d3d890dbf40a582a80ad3342133131829860',\n",
        " '5508d5d5c592f70c4d8d7133ccd8005ddf394b847ed78c85efd335fdfb0b7e49a1783df58347450029a4b3a3d6fb161f00010ba9af257a0060c62bb8249cf3117ee98822e97b1bdace412e1f660e2f0b2408ef0c93c6810503b0c2ebc7628bd4e4c736f7a7f49c8d8e229d95805c0705be8e2e245e3ed9c7da5952d00099b54b',\n",
        " '4d7da37e96015a0027315c18f09e19296d51665eef544df5a2c48f68ccf8eaa6d0c164efa60002a205147af639974087663d2fc67b52dd7fb59e51e972ad51d71a7523df12656ea3a528efd00bf00c26dd958e355c1bf8bf59baf681545d12fd4de84548bd7157bbc987ab5f9b5cbeaad90c92e64f30f77e3427137a6747e57c',\n",
        " '05c8b9a2181151a3ab39b69ee1fb66cb6aacee4b3829c671683a79363f6cecf16d39abbb53444163a7040a47d5cb5f7352e68eff79f3d6ecbea04891248aacc1f17c1e3a8b25fa05c8efc447446b4d496d7458c9cd704e81b9f89904ab9c05d12617ee6f8ded35c5e8705a75defad8a75e2e0f5088da64fa46da5ec4e789b564',\n",
        " 'a3aea6d17670034be0281df59b43263c56869c9fdc6756a316fb385bcf922e32df986bf793ab812c0410159ecbb8460a2f68a45fc036f67992de89e8e418f6b1f5590e9f0fdf1e8a909198d8695e33dd28c21ccad82d8d7c6fcef41e9b20c13fba072ec828d9bac49076efca75f24e82d53768a90da680a62992d47b28a77c74',\n",
        " '2081cb9b0f7b39075bb57b46ceb49fbd452ee1978d5de1c61aa9424495eedae69ce54b4731f7e18cf0de443a490950ac654a0fb549b43ac123c601fb90e41f9f7cc6fc26da3b24aaa0d366ee1145952c307c8c8db1e12d90f30623680e39fd5ae54149b2b1c94cc6cf8bb3542f3a85ceef78957410e0c05046a85f25c847348b',\n",
        " '10dae2e2c070596781edd3fa3180395f94e94907706a985a26cb2937d6462b1302d694d3caee3e00d806304db5ca0837d4c3c74db153fe82deee50a59ad5e78caf620ce69c35c10380e9f8ba87d09caffc67e42559ac124cbf7624ffc433abd8b580659558a9f6849f62f2e321efb4e8bbd3d1959968c02c9cd864d442004f7c']"
       ]
      }
     ],
     "prompt_number": 763
    },
    {
     "cell_type": "code",
     "collapsed": false,
     "input": [
      "exran = os.urandom(128).encode('hex')"
     ],
     "language": "python",
     "metadata": {},
     "outputs": [],
     "prompt_number": 764
    },
    {
     "cell_type": "code",
     "collapsed": false,
     "input": [
      "ixran = os.urandom(128).encode('hex')"
     ],
     "language": "python",
     "metadata": {},
     "outputs": [],
     "prompt_number": 765
    },
    {
     "cell_type": "code",
     "collapsed": false,
     "input": [
      "rawdets = ['In Date', 'In Time', 'In Code', 'Name', 'Reason', 'Out Date', 'Out Time']"
     ],
     "language": "python",
     "metadata": {},
     "outputs": [],
     "prompt_number": 766
    },
    {
     "cell_type": "code",
     "collapsed": false,
     "input": [
      "numroll = []"
     ],
     "language": "python",
     "metadata": {},
     "outputs": [],
     "prompt_number": 767
    },
    {
     "cell_type": "code",
     "collapsed": false,
     "input": [
      "for det in range(6):\n",
      "    print det\n",
      "    numroll.append(det)\n",
      "    #ws.write(0, det, )"
     ],
     "language": "python",
     "metadata": {},
     "outputs": [
      {
       "output_type": "stream",
       "stream": "stdout",
       "text": [
        "0\n",
        "1\n",
        "2\n",
        "3\n",
        "4\n",
        "5\n"
       ]
      }
     ],
     "prompt_number": 768
    },
    {
     "cell_type": "code",
     "collapsed": false,
     "input": [
      "for rad in rawdets:\n",
      "    print rad\n",
      "    #print len(rad)\n",
      "    print rad.upper()\n",
      "    #range(20)"
     ],
     "language": "python",
     "metadata": {},
     "outputs": [
      {
       "output_type": "stream",
       "stream": "stdout",
       "text": [
        "In Date\n",
        "IN DATE\n",
        "In Time\n",
        "IN TIME\n",
        "In Code\n",
        "IN CODE\n",
        "Name\n",
        "NAME\n",
        "Reason\n",
        "REASON\n",
        "Out Date\n",
        "OUT DATE\n",
        "Out Time\n",
        "OUT TIME\n"
       ]
      }
     ],
     "prompt_number": 769
    },
    {
     "cell_type": "code",
     "collapsed": false,
     "input": [
      "ws.write(0, 0, 'In Date')\n",
      "ws.write(0, 1, 'In Time')\n",
      "ws.write(0, 2, 'In Code')\n",
      "ws.write(0, 3, 'Name')\n",
      "ws.write(0, 4, 'Reason')\n",
      "ws.write(0, 5, 'Out Date')\n",
      "ws.write(0, 6, 'Out Time')\n",
      "ws.write(0, 7, 'Out Code')"
     ],
     "language": "python",
     "metadata": {},
     "outputs": [],
     "prompt_number": 770
    },
    {
     "cell_type": "code",
     "collapsed": false,
     "input": [
      "#strftime is %d (day), \n",
      "\n",
      "ws.write(1, 0, time.strftime(\"%d\" + \"-\" + \"%b\" + \"-\" + \"%Y\"))\n",
      "\n",
      "ws.write(1, 1, time.strftime(\"%H:%M\"))"
     ],
     "language": "python",
     "metadata": {},
     "outputs": [],
     "prompt_number": 771
    },
    {
     "cell_type": "code",
     "collapsed": false,
     "input": [
      "#getname = raw_input('Name: ')\n",
      "#getreason = raw_input('Reason: ')"
     ],
     "language": "python",
     "metadata": {},
     "outputs": [],
     "prompt_number": 772
    },
    {
     "cell_type": "code",
     "collapsed": false,
     "input": [
      "ws.write(1, 2, exran)"
     ],
     "language": "python",
     "metadata": {},
     "outputs": [],
     "prompt_number": 773
    },
    {
     "cell_type": "code",
     "collapsed": false,
     "input": [
      "ws.write(1, 3, mname)"
     ],
     "language": "python",
     "metadata": {},
     "outputs": [],
     "prompt_number": 774
    },
    {
     "cell_type": "code",
     "collapsed": false,
     "input": [
      "ws.write(1, 4, signin)"
     ],
     "language": "python",
     "metadata": {},
     "outputs": [],
     "prompt_number": 775
    },
    {
     "cell_type": "code",
     "collapsed": false,
     "input": [
      "#wb.save('/home/wcmckee/whai/' + xlvs)\n",
      "wb.save('/home/wcmckee/whai/index.xls')"
     ],
     "language": "python",
     "metadata": {},
     "outputs": [],
     "prompt_number": 776
    },
    {
     "cell_type": "code",
     "collapsed": false,
     "input": [],
     "language": "python",
     "metadata": {},
     "outputs": [],
     "prompt_number": 776
    },
    {
     "cell_type": "code",
     "collapsed": false,
     "input": [
      "wsdict = {mname: rangen[0]}"
     ],
     "language": "python",
     "metadata": {},
     "outputs": [],
     "prompt_number": 777
    },
    {
     "cell_type": "code",
     "collapsed": false,
     "input": [
      "wsdict"
     ],
     "language": "python",
     "metadata": {},
     "outputs": [
      {
       "metadata": {},
       "output_type": "pyout",
       "prompt_number": 778,
       "text": [
        "{'William Mckee': '0e35657fe227b99789d68dbd34f32cb5b6662852d01ea8baaf88121b0e2f8eb472ea176399424a2605eeaaee649fcf749c45c6c27c9bc4e90bb33234c7d65ce919140ece309aa0884546063e984594fc33a39bb418e730a4b8041f00316229e7e78d615ae0c5043aa521f26ebbe32f020ab65a827eb979f7905959cc2615496d'}"
       ]
      }
     ],
     "prompt_number": 778
    },
    {
     "cell_type": "code",
     "collapsed": false,
     "input": [
      "wsdict.update({time.strftime(\"%d\" + \"-\" + \"%b\" + \"-\" + \"%Y\"): rangen[1]})"
     ],
     "language": "python",
     "metadata": {},
     "outputs": [],
     "prompt_number": 779
    },
    {
     "cell_type": "code",
     "collapsed": false,
     "input": [
      "wsdict.update({ time.strftime(\"%H:%M\"): rangen[2]})"
     ],
     "language": "python",
     "metadata": {},
     "outputs": [],
     "prompt_number": 780
    },
    {
     "cell_type": "code",
     "collapsed": false,
     "input": [
      "wsdict.update({signin: rangen[3]})"
     ],
     "language": "python",
     "metadata": {},
     "outputs": [],
     "prompt_number": 781
    },
    {
     "cell_type": "code",
     "collapsed": false,
     "input": [
      "wsdict"
     ],
     "language": "python",
     "metadata": {},
     "outputs": [
      {
       "metadata": {},
       "output_type": "pyout",
       "prompt_number": 782,
       "text": [
        "{'06:03': '5508d5d5c592f70c4d8d7133ccd8005ddf394b847ed78c85efd335fdfb0b7e49a1783df58347450029a4b3a3d6fb161f00010ba9af257a0060c62bb8249cf3117ee98822e97b1bdace412e1f660e2f0b2408ef0c93c6810503b0c2ebc7628bd4e4c736f7a7f49c8d8e229d95805c0705be8e2e245e3ed9c7da5952d00099b54b',\n",
        " '11-Oct-2014': 'f58cce38dc42ed90cd56e08da10ac2174105538a8a6038fc109b0f9075cc188d00bf60fe30e2b7ecdae4a7de05e5a4d265ff724b7114a7977d6a9076b56dff4c96228bda0c361528c6e9506cf008fce849eb1e755b0087123b12c236e002e552a4159a2f46bb5b8a9ef083226626d3d890dbf40a582a80ad3342133131829860',\n",
        " 'ESW': '4d7da37e96015a0027315c18f09e19296d51665eef544df5a2c48f68ccf8eaa6d0c164efa60002a205147af639974087663d2fc67b52dd7fb59e51e972ad51d71a7523df12656ea3a528efd00bf00c26dd958e355c1bf8bf59baf681545d12fd4de84548bd7157bbc987ab5f9b5cbeaad90c92e64f30f77e3427137a6747e57c',\n",
        " 'William Mckee': '0e35657fe227b99789d68dbd34f32cb5b6662852d01ea8baaf88121b0e2f8eb472ea176399424a2605eeaaee649fcf749c45c6c27c9bc4e90bb33234c7d65ce919140ece309aa0884546063e984594fc33a39bb418e730a4b8041f00316229e7e78d615ae0c5043aa521f26ebbe32f020ab65a827eb979f7905959cc2615496d'}"
       ]
      }
     ],
     "prompt_number": 782
    },
    {
     "cell_type": "code",
     "collapsed": false,
     "input": [
      "wsdict.keys()"
     ],
     "language": "python",
     "metadata": {},
     "outputs": [
      {
       "metadata": {},
       "output_type": "pyout",
       "prompt_number": 783,
       "text": [
        "['ESW', 'William Mckee', '06:03', '11-Oct-2014']"
       ]
      }
     ],
     "prompt_number": 783
    },
    {
     "cell_type": "code",
     "collapsed": false,
     "input": [],
     "language": "python",
     "metadata": {},
     "outputs": [],
     "prompt_number": 783
    },
    {
     "cell_type": "code",
     "collapsed": false,
     "input": [
      "doc = dominate.document(title='visitor sign sheet')\n",
      "\n",
      "with doc.head:\n",
      "    link(rel='stylesheet', href='style.css')\n",
      "    script(type='text/javascript', src='script.js')\n",
      "\n",
      "with doc:\n",
      "    with div(id='header').add(ol()):\n",
      "        for i in wsdict.keys():\n",
      "            li(a(i))\n",
      "\n",
      "    with div():\n",
      "        attr(cls='body')\n",
      "        p('last updated: ' + time.strftime(\"%H:%M\"))\n",
      "\n",
      "print doc"
     ],
     "language": "python",
     "metadata": {},
     "outputs": [
      {
       "output_type": "stream",
       "stream": "stdout",
       "text": [
        "<!DOCTYPE html>\n",
        "<html>\n",
        "  <head>\n",
        "    <title>visitor sign sheet</title>\n",
        "    <link href=\"style.css\" rel=\"stylesheet\">\n",
        "    <script src=\"script.js\" type=\"text/javascript\"></script>\n",
        "  </head>\n",
        "  <body>\n",
        "    <div id=\"header\">\n",
        "      <ol>\n",
        "        <li>\n",
        "          <a>ESW</a>\n",
        "        </li>\n",
        "        <li>\n",
        "          <a>William Mckee</a>\n",
        "        </li>\n",
        "        <li>\n",
        "          <a>06:03</a>\n",
        "        </li>\n",
        "        <li>\n",
        "          <a>11-Oct-2014</a>\n",
        "        </li>\n",
        "      </ol>\n",
        "    </div>\n",
        "    <div class=\"body\">\n",
        "      <p>last updated: 06:03</p>\n",
        "    </div>\n",
        "  </body>\n",
        "</html>\n"
       ]
      }
     ],
     "prompt_number": 784
    },
    {
     "cell_type": "code",
     "collapsed": false,
     "input": [
      "savindex = open('/home/wcmckee/visignsys/index.html', 'w')"
     ],
     "language": "python",
     "metadata": {},
     "outputs": [],
     "prompt_number": 785
    },
    {
     "cell_type": "code",
     "collapsed": false,
     "input": [
      "savindex.name"
     ],
     "language": "python",
     "metadata": {},
     "outputs": [
      {
       "metadata": {},
       "output_type": "pyout",
       "prompt_number": 786,
       "text": [
        "'/home/wcmckee/visignsys/index.html'"
       ]
      }
     ],
     "prompt_number": 786
    },
    {
     "cell_type": "code",
     "collapsed": false,
     "input": [
      "savindex.write(str(doc))\n",
      "savindex.close()"
     ],
     "language": "python",
     "metadata": {},
     "outputs": [],
     "prompt_number": 787
    },
    {
     "cell_type": "code",
     "collapsed": false,
     "input": [
      "ixtwe = ixran[0:12]"
     ],
     "language": "python",
     "metadata": {},
     "outputs": [],
     "prompt_number": 788
    },
    {
     "cell_type": "code",
     "collapsed": false,
     "input": [
      "savpos = open('/home/wcmckee/visignsys/posts/' + ixtwe + '.html', 'w')\n",
      "savpos.write(str(doc))\n",
      "savpos.close()"
     ],
     "language": "python",
     "metadata": {},
     "outputs": [],
     "prompt_number": 789
    },
    {
     "cell_type": "code",
     "collapsed": false,
     "input": [
      "savpos = open('/home/wcmckee/visignsys/posts/' + ixtwe + '.meta', 'w')\n",
      "savpos.write(str(wsdict.keys()))\n",
      "savpos.close()"
     ],
     "language": "python",
     "metadata": {},
     "outputs": [],
     "prompt_number": 790
    },
    {
     "cell_type": "code",
     "collapsed": false,
     "input": [
      "ls /home/wcmckee/visignsys/posts"
     ],
     "language": "python",
     "metadata": {},
     "outputs": [
      {
       "output_type": "stream",
       "stream": "stdout",
       "text": [
        "24d6f56f4561.meta  9aa37d4edca3.meta\r\n",
        "78d1ae5f6578       c3481f156d62.html\r\n",
        "78d1ae5f6578.html  c3481f156d62.meta\r\n",
        "9aa37d4edca3.html\r\n"
       ]
      }
     ],
     "prompt_number": 791
    },
    {
     "cell_type": "code",
     "collapsed": false,
     "input": [
      "cat /home/wcmckee/visignsys/index.meta"
     ],
     "language": "python",
     "metadata": {},
     "outputs": [
      {
       "output_type": "stream",
       "stream": "stdout",
       "text": [
        "['ESW', '10-Oct-2014', '21:44', 'William Mckee']{'10-Oct-2014': '22:03'}['11-Oct-2014', '04:48']"
       ]
      }
     ],
     "prompt_number": 792
    },
    {
     "cell_type": "code",
     "collapsed": false,
     "input": [
      "savpos = open('/home/wcmckee/visignsys/index.meta', 'w')\n",
      "savpos.write(str(wsdict.keys()))\n",
      "savpos.close()"
     ],
     "language": "python",
     "metadata": {},
     "outputs": [],
     "prompt_number": 793
    },
    {
     "cell_type": "code",
     "collapsed": false,
     "input": [],
     "language": "python",
     "metadata": {},
     "outputs": []
    }
   ],
   "metadata": {}
  }
 ]
}