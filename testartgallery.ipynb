{
 "cells": [
  {
   "cell_type": "code",
   "execution_count": 11,
   "metadata": {
    "collapsed": false
   },
   "outputs": [],
   "source": [
    "import artcgallery\n",
    "import nose\n",
    "import arrow\n",
    "import os\n",
    "import getpass\n",
    "import nikola\n",
    "import random"
   ]
  },
  {
   "cell_type": "code",
   "execution_count": null,
   "metadata": {
    "collapsed": true
   },
   "outputs": [],
   "source": []
  },
  {
   "cell_type": "code",
   "execution_count": 2,
   "metadata": {
    "collapsed": false
   },
   "outputs": [],
   "source": [
    "#nikola.plugin_categories.Command"
   ]
  },
  {
   "cell_type": "code",
   "execution_count": 3,
   "metadata": {
    "collapsed": true
   },
   "outputs": [],
   "source": [
    "#from nikola.plugin_categories import Command\n"
   ]
  },
  {
   "cell_type": "code",
   "execution_count": 4,
   "metadata": {
    "collapsed": false
   },
   "outputs": [],
   "source": [
    "#class CommandLicence(Command):\n",
    "#    name = (\"licence\")\n",
    "#    doc_usage = \"[options]\"\n",
    "    \n",
    "#    cmd_options = (\n",
    "#        {\n",
    "#            'name' : 'licence',\n",
    "#            'short' : 'l',\n",
    "#            'long' : 'licence',\n",
    "#            'type' : str,\n",
    "#            'default' : 'ccby',\n",
    "#            'help' : 'Licence for sit (default: ccby)',\n",
    "#        }\n",
    "#    )\n",
    "#    \n",
    "#    def _execute(self, options, args):\n",
    "        \n",
    "    "
   ]
  },
  {
   "cell_type": "markdown",
   "metadata": {},
   "source": [
    "Tests for creating a blog post for artctrl artworks. \n",
    "\n",
    "Ideas on what needs testing:\n",
    "\n",
    "Check that directory exists and if not make directory.\n",
    "\n",
    "Test making new md file in posts folder\n",
    "\n",
    "Test making new meta file in posts folder\n",
    "\n",
    "Test copy of png files to galleries folder\n",
    "\n",
    "Test writing sorted images from the daily gallery folder to md \n",
    "folder.\n",
    "\n",
    "Test writing of meta files "
   ]
  },
  {
   "cell_type": "code",
   "execution_count": 5,
   "metadata": {
    "collapsed": false
   },
   "outputs": [],
   "source": [
    "timenow = arrow.now()"
   ]
  },
  {
   "cell_type": "code",
   "execution_count": 6,
   "metadata": {
    "collapsed": true
   },
   "outputs": [],
   "source": [
    "myusr = getpass.getuser()"
   ]
  },
  {
   "cell_type": "code",
   "execution_count": 7,
   "metadata": {
    "collapsed": true
   },
   "outputs": [],
   "source": [
    "artgfil = '/home/{}/artcontrolme'.format(myusr)"
   ]
  },
  {
   "cell_type": "code",
   "execution_count": 8,
   "metadata": {
    "collapsed": true
   },
   "outputs": [],
   "source": [
    "timyr = timenow.strftime('y')"
   ]
  },
  {
   "cell_type": "code",
   "execution_count": 9,
   "metadata": {
    "collapsed": false
   },
   "outputs": [
    {
     "data": {
      "text/plain": [
       "'/home/wcm/git/wcmckee'"
      ]
     },
     "execution_count": 9,
     "metadata": {},
     "output_type": "execute_result"
    }
   ],
   "source": [
    "os.getcwd()"
   ]
  },
  {
   "cell_type": "code",
   "execution_count": 12,
   "metadata": {
    "collapsed": true
   },
   "outputs": [],
   "source": [
    "#numbguess = 0 "
   ]
  },
  {
   "cell_type": "code",
   "execution_count": null,
   "metadata": {
    "collapsed": true
   },
   "outputs": [],
   "source": []
  },
  {
   "cell_type": "code",
   "execution_count": 14,
   "metadata": {
    "collapsed": false
   },
   "outputs": [],
   "source": [
    "#def testday():\n",
    "#    assert artcgallery.DayStuff.getDay() == timenow.strftime('%d')\n",
    "    \n",
    "#def testpath():\n",
    "#    assert os.path.exists(artcgallery.DayStuff.galdayPath())\n",
    "    \n",
    "#def testgalpath():\n",
    "#    assert os.path.exists(artcgallery.DayStuff.galyrPath())\n",
    "    \n",
    "#def testdaypath():\n",
    "#    assert os.path.exists(artcgallery.DayStuff.galdayPath())\n",
    "    \n",
    "def testwotyr():\n",
    "    assert timenow.strftime('%y') == '16'\n",
    "    \n",
    "def testartcontrolpath():\n",
    "    if os.path.exists(artgfil):\n",
    "        pass   \n",
    "    \n",
    "def testpostpath():\n",
    "    if os.path.exists('{}/posts'.format(artgfil)):\n",
    "                      pass\n",
    "        \n",
    "def testgalpath():\n",
    "    if os.path.exists('{}/galleries'.format(artgfil)):\n",
    "        pass\n",
    "\n",
    "def testyrpath():\n",
    "    if os.path.exists('{}/galleries/{}'.format(artgfil, timyr)):\n",
    "        pass\n",
    "    \n",
    "def testpathfol():\n",
    "    if os.path.exists('{}/posts/'.format(artgfil)):\n",
    "        pass\n",
    "\n",
    "def testrand():\n",
    "    assert random.randint(0,9) == 0\n",
    "    \n",
    "    \n",
    "#def testposfo():\n",
    "    #with open('{}/posts/fooblog.rst'.format(artgfil, 'r')) as foo:\n",
    "        #pass\n",
    "        \n",
    "#def testwritefil():\n",
    "#    if not os.path.exists('{}/posts/fooblog.rst'.format(artgfil, 'r')) as foo:\n",
    "#        with open('{}/posts/fooblog.rst', 'w') as fh:\n",
    "#            fh.write('a new test')\n",
    "\n",
    "\n",
    "#def testopefil():\n",
    "#    try:\n",
    "#        with open('{}/posts/')"
   ]
  },
  {
   "cell_type": "code",
   "execution_count": null,
   "metadata": {
    "collapsed": true
   },
   "outputs": [],
   "source": []
  },
  {
   "cell_type": "code",
   "execution_count": null,
   "metadata": {
    "collapsed": true
   },
   "outputs": [],
   "source": []
  },
  {
   "cell_type": "code",
   "execution_count": null,
   "metadata": {
    "collapsed": true
   },
   "outputs": [],
   "source": []
  },
  {
   "cell_type": "code",
   "execution_count": null,
   "metadata": {
    "collapsed": true
   },
   "outputs": [],
   "source": []
  }
 ],
 "metadata": {
  "kernelspec": {
   "display_name": "Python 3",
   "language": "python",
   "name": "python3"
  },
  "language_info": {
   "codemirror_mode": {
    "name": "ipython",
    "version": 3
   },
   "file_extension": ".py",
   "mimetype": "text/x-python",
   "name": "python",
   "nbconvert_exporter": "python",
   "pygments_lexer": "ipython3",
   "version": "3.4.2"
  }
 },
 "nbformat": 4,
 "nbformat_minor": 0
}
