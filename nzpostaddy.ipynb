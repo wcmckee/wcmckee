{
 "cells": [
  {
   "cell_type": "markdown",
   "metadata": {},
   "source": [
    "<h3>nzpostaddy</h3>\n",
    "\n",
    "yay maps, something I haven't really used before. Good to try something new. \n",
    "\n",
    "Using some demo examples from nz post. Examples are printed below. \n",
    "\n",
    "script to search for addresses.\n",
    "\n",
    "Gets address from nzpost then displays static map from mapquestapi.\n",
    "\n",
    "Lookup lat long against high speed internet access.\n",
    "\n",
    "Create svg files from address and save to folder and add to json object.\n",
    "\n",
    "Check for pizza delievery options. People need pizza right?\n",
    "\n",
    "Is this house on the market.\n",
    "\n",
    "Scan for open wireless networks.\n",
    "\n",
    "Convert full country name to country code\n",
    "\n",
    "Give unique code to street that can be looked up \n",
    "\n",
    "What schools are in the area? \n"
   ]
  },
  {
   "cell_type": "code",
   "execution_count": 302,
   "metadata": {
    "collapsed": false
   },
   "outputs": [],
   "source": [
    "import json\n",
    "import shutil\n",
    "import requests\n",
    "import svgwrite\n",
    "import arrow\n",
    "\n"
   ]
  },
  {
   "cell_type": "code",
   "execution_count": null,
   "metadata": {
    "collapsed": true
   },
   "outputs": [],
   "source": []
  },
  {
   "cell_type": "code",
   "execution_count": 207,
   "metadata": {
    "collapsed": true
   },
   "outputs": [],
   "source": [
    "opjsres = open('/home/wcmckee/github/nzpostad.json', 'r')"
   ]
  },
  {
   "cell_type": "code",
   "execution_count": 208,
   "metadata": {
    "collapsed": false
   },
   "outputs": [],
   "source": [
    "opjrd = opjsres.read()"
   ]
  },
  {
   "cell_type": "code",
   "execution_count": 209,
   "metadata": {
    "collapsed": false
   },
   "outputs": [],
   "source": [
    "nzpod = json.loads(opjrd)"
   ]
  },
  {
   "cell_type": "code",
   "execution_count": 210,
   "metadata": {
    "collapsed": false
   },
   "outputs": [
    {
     "data": {
      "text/plain": [
       "{'addresses': [{'address_id': '196111',\n",
       "   'dpid': '754977',\n",
       "   'full_address': '19 Queen Alexandra Street, Lansdowne, Masterton 5810'},\n",
       "  {'address_id': '197147',\n",
       "   'dpid': '750361',\n",
       "   'full_address': '23 Queen Alexandra Street, Lansdowne, Masterton 5810'},\n",
       "  {'address_id': '195925',\n",
       "   'dpid': '751485',\n",
       "   'full_address': '7A Queen Alexandra Street, Lansdowne, Masterton 5810'},\n",
       "  {'address_id': '198893',\n",
       "   'dpid': '747422',\n",
       "   'full_address': '8 Queen Alexandra Street, Lansdowne, Masterton 5810'},\n",
       "  {'address_id': '195986',\n",
       "   'dpid': '754969',\n",
       "   'full_address': '9A Queen Alexandra Street, Lansdowne, Masterton 5810'}],\n",
       " 'success': True}"
      ]
     },
     "execution_count": 210,
     "metadata": {},
     "output_type": "execute_result"
    }
   ],
   "source": [
    "nzpod"
   ]
  },
  {
   "cell_type": "code",
   "execution_count": 211,
   "metadata": {
    "collapsed": true
   },
   "outputs": [],
   "source": [
    "nzpaddy = nzpod['addresses']"
   ]
  },
  {
   "cell_type": "code",
   "execution_count": 212,
   "metadata": {
    "collapsed": false
   },
   "outputs": [],
   "source": [
    "nzplen = len(nzpod['addresses'])"
   ]
  },
  {
   "cell_type": "code",
   "execution_count": 213,
   "metadata": {
    "collapsed": false
   },
   "outputs": [
    {
     "data": {
      "text/plain": [
       "5"
      ]
     },
     "execution_count": 213,
     "metadata": {},
     "output_type": "execute_result"
    }
   ],
   "source": [
    "nzplen"
   ]
  },
  {
   "cell_type": "code",
   "execution_count": 214,
   "metadata": {
    "collapsed": true
   },
   "outputs": [],
   "source": [
    "streetstc = list()"
   ]
  },
  {
   "cell_type": "code",
   "execution_count": 215,
   "metadata": {
    "collapsed": true
   },
   "outputs": [],
   "source": [
    "stbla = list()"
   ]
  },
  {
   "cell_type": "code",
   "execution_count": 216,
   "metadata": {
    "collapsed": false
   },
   "outputs": [],
   "source": [
    "for nzp in range(0, nzplen):\n",
    "    nzitm = (nzpaddy[nzp])\n",
    "    streetstc.append(nzitm['full_address'])\n",
    "    \n",
    "    "
   ]
  },
  {
   "cell_type": "code",
   "execution_count": 217,
   "metadata": {
    "collapsed": false
   },
   "outputs": [],
   "source": [
    "for sts in streetstc:\n",
    "    stbla.append(sts.split(','))"
   ]
  },
  {
   "cell_type": "code",
   "execution_count": 218,
   "metadata": {
    "collapsed": false
   },
   "outputs": [
    {
     "name": "stdout",
     "output_type": "stream",
     "text": [
      "19 Queen Alexandra Street\n",
      " Lansdowne\n",
      " Masterton 5810\n",
      "23 Queen Alexandra Street\n",
      " Lansdowne\n",
      " Masterton 5810\n",
      "7A Queen Alexandra Street\n",
      " Lansdowne\n",
      " Masterton 5810\n",
      "8 Queen Alexandra Street\n",
      " Lansdowne\n",
      " Masterton 5810\n",
      "9A Queen Alexandra Street\n",
      " Lansdowne\n",
      " Masterton 5810\n"
     ]
    }
   ],
   "source": [
    "for stb in stbla:\n",
    "    for st in stb:\n",
    "        print(st)"
   ]
  },
  {
   "cell_type": "code",
   "execution_count": 219,
   "metadata": {
    "collapsed": false
   },
   "outputs": [
    {
     "data": {
      "text/plain": [
       "'19 Queen Alexandra Street'"
      ]
     },
     "execution_count": 219,
     "metadata": {},
     "output_type": "execute_result"
    }
   ],
   "source": [
    "stbla[0][0]"
   ]
  },
  {
   "cell_type": "code",
   "execution_count": 220,
   "metadata": {
    "collapsed": false
   },
   "outputs": [
    {
     "data": {
      "text/plain": [
       "' Lansdowne'"
      ]
     },
     "execution_count": 220,
     "metadata": {},
     "output_type": "execute_result"
    }
   ],
   "source": [
    "stbla[0][1]"
   ]
  },
  {
   "cell_type": "code",
   "execution_count": 221,
   "metadata": {
    "collapsed": false
   },
   "outputs": [
    {
     "data": {
      "text/plain": [
       "' Masterton 5810'"
      ]
     },
     "execution_count": 221,
     "metadata": {},
     "output_type": "execute_result"
    }
   ],
   "source": [
    "stbla[0][2]"
   ]
  },
  {
   "cell_type": "code",
   "execution_count": 222,
   "metadata": {
    "collapsed": true
   },
   "outputs": [],
   "source": [
    "opsuccessad = open('/home/wcmckee/github/nzpostsuccess.json', 'r')"
   ]
  },
  {
   "cell_type": "code",
   "execution_count": 223,
   "metadata": {
    "collapsed": true
   },
   "outputs": [],
   "source": [
    "opsucrd = opsuccessad.read()"
   ]
  },
  {
   "cell_type": "code",
   "execution_count": 224,
   "metadata": {
    "collapsed": false
   },
   "outputs": [],
   "source": [
    "opjslo = json.loads(opsucrd)"
   ]
  },
  {
   "cell_type": "code",
   "execution_count": 225,
   "metadata": {
    "collapsed": false
   },
   "outputs": [
    {
     "data": {
      "text/plain": [
       "{'address': {'city': 'Dunedin',\n",
       "  'country': 'New Zealand',\n",
       "  'depot_name': 'Dunedin Depot',\n",
       "  'is_rural_delivery': False,\n",
       "  'latitude': -45.9041,\n",
       "  'longitude': 170.552,\n",
       "  'postcode': '9013',\n",
       "  'run_number': 'DCP025  ',\n",
       "  'street': 'Oregon',\n",
       "  'street_number': 71,\n",
       "  'street_type': 'Street',\n",
       "  'suburb': 'Ocean Grove'},\n",
       " 'message_id': '618a5799-85e3-4559-8a62-280f231a26b3',\n",
       " 'success': True}"
      ]
     },
     "execution_count": 225,
     "metadata": {},
     "output_type": "execute_result"
    }
   ],
   "source": [
    "opjslo"
   ]
  },
  {
   "cell_type": "code",
   "execution_count": 226,
   "metadata": {
    "collapsed": false
   },
   "outputs": [],
   "source": [
    "opja = opjslo['address']"
   ]
  },
  {
   "cell_type": "code",
   "execution_count": 227,
   "metadata": {
    "collapsed": false
   },
   "outputs": [
    {
     "data": {
      "text/plain": [
       "71"
      ]
     },
     "execution_count": 227,
     "metadata": {},
     "output_type": "execute_result"
    }
   ],
   "source": [
    "opja['street_number']"
   ]
  },
  {
   "cell_type": "code",
   "execution_count": 228,
   "metadata": {
    "collapsed": false
   },
   "outputs": [
    {
     "data": {
      "text/plain": [
       "'Oregon'"
      ]
     },
     "execution_count": 228,
     "metadata": {},
     "output_type": "execute_result"
    }
   ],
   "source": [
    "opja['street']"
   ]
  },
  {
   "cell_type": "code",
   "execution_count": 229,
   "metadata": {
    "collapsed": false
   },
   "outputs": [
    {
     "data": {
      "text/plain": [
       "'Street'"
      ]
     },
     "execution_count": 229,
     "metadata": {},
     "output_type": "execute_result"
    }
   ],
   "source": [
    "opja['street_type']"
   ]
  },
  {
   "cell_type": "code",
   "execution_count": 230,
   "metadata": {
    "collapsed": false
   },
   "outputs": [
    {
     "data": {
      "text/plain": [
       "'Ocean Grove'"
      ]
     },
     "execution_count": 230,
     "metadata": {},
     "output_type": "execute_result"
    }
   ],
   "source": [
    "opja['suburb']"
   ]
  },
  {
   "cell_type": "code",
   "execution_count": 231,
   "metadata": {
    "collapsed": false
   },
   "outputs": [],
   "source": [
    "adcit = opja['city']"
   ]
  },
  {
   "cell_type": "code",
   "execution_count": 232,
   "metadata": {
    "collapsed": false
   },
   "outputs": [
    {
     "data": {
      "text/plain": [
       "'9013'"
      ]
     },
     "execution_count": 232,
     "metadata": {},
     "output_type": "execute_result"
    }
   ],
   "source": [
    "opja['postcode']"
   ]
  },
  {
   "cell_type": "code",
   "execution_count": 233,
   "metadata": {
    "collapsed": false
   },
   "outputs": [
    {
     "data": {
      "text/plain": [
       "'Dunedin'"
      ]
     },
     "execution_count": 233,
     "metadata": {},
     "output_type": "execute_result"
    }
   ],
   "source": [
    "adcit"
   ]
  },
  {
   "cell_type": "code",
   "execution_count": 234,
   "metadata": {
    "collapsed": false
   },
   "outputs": [
    {
     "data": {
      "text/plain": [
       "'New Zealand'"
      ]
     },
     "execution_count": 234,
     "metadata": {},
     "output_type": "execute_result"
    }
   ],
   "source": [
    "opja['country']"
   ]
  },
  {
   "cell_type": "code",
   "execution_count": 235,
   "metadata": {
    "collapsed": false
   },
   "outputs": [],
   "source": [
    "fulladdress = (str(opja['street_number']) + ' ' + opja['street'] +  ' ' + opja['street_type'] +', ' + opja['suburb'] + ', ' + adcit + ' ' + str(opja['postcode']) + ', ' + opja['country'])"
   ]
  },
  {
   "cell_type": "code",
   "execution_count": 236,
   "metadata": {
    "collapsed": false
   },
   "outputs": [
    {
     "data": {
      "text/plain": [
       "'71 Oregon Street, Ocean Grove, Dunedin 9013, New Zealand'"
      ]
     },
     "execution_count": 236,
     "metadata": {},
     "output_type": "execute_result"
    }
   ],
   "source": [
    "fulladdress"
   ]
  },
  {
   "cell_type": "code",
   "execution_count": 237,
   "metadata": {
    "collapsed": false
   },
   "outputs": [
    {
     "data": {
      "text/plain": [
       "'Dunedin Depot'"
      ]
     },
     "execution_count": 237,
     "metadata": {},
     "output_type": "execute_result"
    }
   ],
   "source": [
    "opja['depot_name']"
   ]
  },
  {
   "cell_type": "code",
   "execution_count": 238,
   "metadata": {
    "collapsed": true
   },
   "outputs": [],
   "source": [
    "latad = opja['latitude']"
   ]
  },
  {
   "cell_type": "code",
   "execution_count": 239,
   "metadata": {
    "collapsed": true
   },
   "outputs": [],
   "source": [
    "longad = opja['longitude']"
   ]
  },
  {
   "cell_type": "code",
   "execution_count": 240,
   "metadata": {
    "collapsed": false
   },
   "outputs": [
    {
     "data": {
      "text/plain": [
       "-45.9041"
      ]
     },
     "execution_count": 240,
     "metadata": {},
     "output_type": "execute_result"
    }
   ],
   "source": [
    "latad"
   ]
  },
  {
   "cell_type": "code",
   "execution_count": 241,
   "metadata": {
    "collapsed": false
   },
   "outputs": [
    {
     "data": {
      "text/plain": [
       "170.552"
      ]
     },
     "execution_count": 241,
     "metadata": {},
     "output_type": "execute_result"
    }
   ],
   "source": [
    "longad"
   ]
  },
  {
   "cell_type": "code",
   "execution_count": 242,
   "metadata": {
    "collapsed": true
   },
   "outputs": [],
   "source": [
    "mapk = open('/home/wcmckee/github/mapkey.txt', 'r')"
   ]
  },
  {
   "cell_type": "code",
   "execution_count": 243,
   "metadata": {
    "collapsed": true
   },
   "outputs": [],
   "source": [
    "mapkrd = mapk.read()"
   ]
  },
  {
   "cell_type": "code",
   "execution_count": 244,
   "metadata": {
    "collapsed": false
   },
   "outputs": [],
   "source": [
    "reqimg = 'http://www.mapquestapi.com/staticmap/v4/getmap?key=' + mapkrd + '&size=400,200&zoom=10&center=' + str(latad) + ',' + str(longad) "
   ]
  },
  {
   "cell_type": "code",
   "execution_count": 245,
   "metadata": {
    "collapsed": false
   },
   "outputs": [],
   "source": [
    "rmnz = reqimg.replace('\\n', '')"
   ]
  },
  {
   "cell_type": "code",
   "execution_count": 246,
   "metadata": {
    "collapsed": true
   },
   "outputs": [],
   "source": [
    "fuladrm = fulladdress.replace(', ', '')"
   ]
  },
  {
   "cell_type": "code",
   "execution_count": 247,
   "metadata": {
    "collapsed": false
   },
   "outputs": [],
   "source": [
    "fulrmno = fuladrm.replace(' ', '')"
   ]
  },
  {
   "cell_type": "code",
   "execution_count": 248,
   "metadata": {
    "collapsed": false
   },
   "outputs": [
    {
     "data": {
      "text/plain": [
       "'71OregonStreetOceanGroveDunedin9013NewZealand'"
      ]
     },
     "execution_count": 248,
     "metadata": {},
     "output_type": "execute_result"
    }
   ],
   "source": [
    "fulrmno"
   ]
  },
  {
   "cell_type": "code",
   "execution_count": 249,
   "metadata": {
    "collapsed": true
   },
   "outputs": [],
   "source": [
    "mapdir = '/home/wcmckee/nzpost/maps/'"
   ]
  },
  {
   "cell_type": "code",
   "execution_count": 250,
   "metadata": {
    "collapsed": true
   },
   "outputs": [],
   "source": [
    "addysvg = '/home/wcmckee/nzpost/addysvg/'"
   ]
  },
  {
   "cell_type": "code",
   "execution_count": 251,
   "metadata": {
    "collapsed": true
   },
   "outputs": [],
   "source": [
    "opserv = open('/home/wcmckee/github/nzpostoption.json', 'r')"
   ]
  },
  {
   "cell_type": "code",
   "execution_count": 252,
   "metadata": {
    "collapsed": false
   },
   "outputs": [],
   "source": [
    "optprd = opserv.read()"
   ]
  },
  {
   "cell_type": "code",
   "execution_count": 253,
   "metadata": {
    "collapsed": false
   },
   "outputs": [],
   "source": [
    "weighrate = json.loads(optprd)"
   ]
  },
  {
   "cell_type": "code",
   "execution_count": 254,
   "metadata": {
    "collapsed": true
   },
   "outputs": [],
   "source": [
    "lenweigh = len(weighrate)"
   ]
  },
  {
   "cell_type": "code",
   "execution_count": 255,
   "metadata": {
    "collapsed": false
   },
   "outputs": [
    {
     "data": {
      "text/plain": [
       "4"
      ]
     },
     "execution_count": 255,
     "metadata": {},
     "output_type": "execute_result"
    }
   ],
   "source": [
    "lenweigh"
   ]
  },
  {
   "cell_type": "code",
   "execution_count": 256,
   "metadata": {
    "collapsed": false
   },
   "outputs": [
    {
     "name": "stdout",
     "output_type": "stream",
     "text": [
      "16.31\n",
      "30.32\n"
     ]
    },
    {
     "ename": "IndexError",
     "evalue": "list index out of range",
     "output_type": "error",
     "traceback": [
      "\u001b[1;31m---------------------------------------------------------------------------\u001b[0m",
      "\u001b[1;31mIndexError\u001b[0m                                Traceback (most recent call last)",
      "\u001b[1;32m<ipython-input-256-9cbe19e3e5b4>\u001b[0m in \u001b[0;36m<module>\u001b[1;34m()\u001b[0m\n\u001b[0;32m      1\u001b[0m \u001b[1;32mfor\u001b[0m \u001b[0mlenwe\u001b[0m \u001b[1;32min\u001b[0m \u001b[0mrange\u001b[0m\u001b[1;33m(\u001b[0m\u001b[1;36m0\u001b[0m\u001b[1;33m,\u001b[0m \u001b[0mlenweigh\u001b[0m\u001b[1;33m)\u001b[0m\u001b[1;33m:\u001b[0m\u001b[1;33m\u001b[0m\u001b[0m\n\u001b[1;32m----> 2\u001b[1;33m     \u001b[0mprint\u001b[0m\u001b[1;33m(\u001b[0m\u001b[0mweighrate\u001b[0m\u001b[1;33m[\u001b[0m\u001b[1;34m'services'\u001b[0m\u001b[1;33m]\u001b[0m\u001b[1;33m[\u001b[0m\u001b[0mlenwe\u001b[0m\u001b[1;33m]\u001b[0m\u001b[1;33m[\u001b[0m\u001b[1;34m'price_excluding_gst'\u001b[0m\u001b[1;33m]\u001b[0m\u001b[1;33m)\u001b[0m\u001b[1;33m\u001b[0m\u001b[0m\n\u001b[0m",
      "\u001b[1;31mIndexError\u001b[0m: list index out of range"
     ]
    }
   ],
   "source": [
    "for lenwe in range(0, lenweigh):\n",
    "    print(weighrate['services'][lenwe]['price_excluding_gst'])"
   ]
  },
  {
   "cell_type": "code",
   "execution_count": null,
   "metadata": {
    "collapsed": true
   },
   "outputs": [],
   "source": []
  },
  {
   "cell_type": "code",
   "execution_count": null,
   "metadata": {
    "collapsed": true
   },
   "outputs": [],
   "source": []
  },
  {
   "cell_type": "code",
   "execution_count": 257,
   "metadata": {
    "collapsed": false
   },
   "outputs": [
    {
     "data": {
      "text/plain": [
       "'CourierPost'"
      ]
     },
     "execution_count": 257,
     "metadata": {},
     "output_type": "execute_result"
    }
   ],
   "source": [
    "weighrate['services'][0]['carrier']"
   ]
  },
  {
   "cell_type": "code",
   "execution_count": 258,
   "metadata": {
    "collapsed": false
   },
   "outputs": [
    {
     "data": {
      "text/plain": [
       "18.76"
      ]
     },
     "execution_count": 258,
     "metadata": {},
     "output_type": "execute_result"
    }
   ],
   "source": [
    "weighrate['services'][0]['price_including_gst']\n"
   ]
  },
  {
   "cell_type": "code",
   "execution_count": 259,
   "metadata": {
    "collapsed": false
   },
   "outputs": [
    {
     "data": {
      "text/plain": [
       "16.31"
      ]
     },
     "execution_count": 259,
     "metadata": {},
     "output_type": "execute_result"
    }
   ],
   "source": [
    "weighrate['services'][0]['price_excluding_gst']"
   ]
  },
  {
   "cell_type": "code",
   "execution_count": 260,
   "metadata": {
    "collapsed": false
   },
   "outputs": [],
   "source": [
    "weighaddon = weighrate['services'][0]['addons']"
   ]
  },
  {
   "cell_type": "code",
   "execution_count": 261,
   "metadata": {
    "collapsed": false
   },
   "outputs": [],
   "source": [
    "lenweia = len(weighaddon)"
   ]
  },
  {
   "cell_type": "code",
   "execution_count": 262,
   "metadata": {
    "collapsed": false
   },
   "outputs": [
    {
     "data": {
      "text/plain": [
       "2"
      ]
     },
     "execution_count": 262,
     "metadata": {},
     "output_type": "execute_result"
    }
   ],
   "source": [
    "lenweia"
   ]
  },
  {
   "cell_type": "code",
   "execution_count": 263,
   "metadata": {
    "collapsed": false
   },
   "outputs": [
    {
     "name": "stdout",
     "output_type": "stream",
     "text": [
      "{'price_including_gst': 0.32, 'mandatory': False, 'price_excluding_gst': 0.28, 'description': 'CP Online Sig Rq', 'addon_code': 'CPSR'}\n",
      "{'price_including_gst': 0, 'mandatory': True, 'price_excluding_gst': 0, 'description': 'CP Online Rural Delivery', 'addon_code': 'CPOLRD'}\n"
     ]
    }
   ],
   "source": [
    "for lenwa in range(0, lenweia):\n",
    "    print (weighaddon[lenwa])"
   ]
  },
  {
   "cell_type": "code",
   "execution_count": 264,
   "metadata": {
    "collapsed": true
   },
   "outputs": [],
   "source": [
    "foxaddon = list()"
   ]
  },
  {
   "cell_type": "code",
   "execution_count": 265,
   "metadata": {
    "collapsed": false
   },
   "outputs": [],
   "source": [
    "for lenwa in range(0, lenweia):\n",
    "    weaddonco = (weighaddon[lenwa]['addon_code'])\n",
    "    weaddondescp = (weighaddon[lenwa]['description'])\n",
    "    weighaddongst =  (weighaddon[lenwa]['price_including_gst'])\n",
    "    weighmantor = (weighaddon[lenwa]['mandatory'])\n",
    "    myflis = (weaddonco + ', ' + weaddondescp + ', ' + str(weighmantor) + ', ' + str(weighaddongst))\n",
    "    foxaddon.append(myflis)\n"
   ]
  },
  {
   "cell_type": "code",
   "execution_count": 266,
   "metadata": {
    "collapsed": false
   },
   "outputs": [
    {
     "data": {
      "text/plain": [
       "['CPSR, CP Online Sig Rq, False, 0.32',\n",
       " 'CPOLRD, CP Online Rural Delivery, True, 0']"
      ]
     },
     "execution_count": 266,
     "metadata": {},
     "output_type": "execute_result"
    }
   ],
   "source": [
    "foxaddon"
   ]
  },
  {
   "cell_type": "code",
   "execution_count": 267,
   "metadata": {
    "collapsed": false
   },
   "outputs": [],
   "source": [
    "weighcarry = weighrate['services'][0]['carrier']"
   ]
  },
  {
   "cell_type": "code",
   "execution_count": 268,
   "metadata": {
    "collapsed": false
   },
   "outputs": [
    {
     "data": {
      "text/plain": [
       "'CourierPost'"
      ]
     },
     "execution_count": 268,
     "metadata": {},
     "output_type": "execute_result"
    }
   ],
   "source": [
    "weighcarry"
   ]
  },
  {
   "cell_type": "code",
   "execution_count": 269,
   "metadata": {
    "collapsed": true
   },
   "outputs": [],
   "source": [
    "lengoxa = len(foxaddon)"
   ]
  },
  {
   "cell_type": "code",
   "execution_count": null,
   "metadata": {
    "collapsed": true
   },
   "outputs": [],
   "source": []
  },
  {
   "cell_type": "code",
   "execution_count": 270,
   "metadata": {
    "collapsed": false
   },
   "outputs": [],
   "source": [
    "derbdict = dict()"
   ]
  },
  {
   "cell_type": "code",
   "execution_count": 271,
   "metadata": {
    "collapsed": false
   },
   "outputs": [
    {
     "name": "stdout",
     "output_type": "stream",
     "text": [
      "0\n",
      "1\n"
     ]
    }
   ],
   "source": [
    "for dezba in range(lengoxa):\n",
    "    print (dezba)\n",
    "    for dez in foxaddon:\n",
    "        derbdict.update({dezbd : dez})"
   ]
  },
  {
   "cell_type": "code",
   "execution_count": 272,
   "metadata": {
    "collapsed": false
   },
   "outputs": [
    {
     "data": {
      "text/plain": [
       "['CPSR, CP Online Sig Rq, False, 0.32',\n",
       " 'CPOLRD, CP Online Rural Delivery, True, 0']"
      ]
     },
     "execution_count": 272,
     "metadata": {},
     "output_type": "execute_result"
    }
   ],
   "source": [
    "foxaddon"
   ]
  },
  {
   "cell_type": "code",
   "execution_count": 275,
   "metadata": {
    "collapsed": false
   },
   "outputs": [
    {
     "name": "stdout",
     "output_type": "stream",
     "text": [
      "0\n",
      "1\n",
      "0\n",
      "1\n"
     ]
    }
   ],
   "source": [
    "for dez in foxaddon:\n",
    "    for dezba in range(lengoxa):\n",
    "        print (dezba)\n",
    "        derbdict.update({dezba : dez})"
   ]
  },
  {
   "cell_type": "code",
   "execution_count": null,
   "metadata": {
    "collapsed": true
   },
   "outputs": [],
   "source": []
  },
  {
   "cell_type": "code",
   "execution_count": 276,
   "metadata": {
    "collapsed": false
   },
   "outputs": [
    {
     "data": {
      "text/plain": [
       "{0: 'CPOLRD, CP Online Rural Delivery, True, 0',\n",
       " 1: 'CPOLRD, CP Online Rural Delivery, True, 0'}"
      ]
     },
     "execution_count": 276,
     "metadata": {},
     "output_type": "execute_result"
    }
   ],
   "source": [
    "derbdict"
   ]
  },
  {
   "cell_type": "code",
   "execution_count": 277,
   "metadata": {
    "collapsed": false
   },
   "outputs": [
    {
     "data": {
      "text/plain": [
       "'CPOLRD, CP Online Rural Delivery, True, 0'"
      ]
     },
     "execution_count": 277,
     "metadata": {},
     "output_type": "execute_result"
    }
   ],
   "source": [
    "myflis"
   ]
  },
  {
   "cell_type": "code",
   "execution_count": 278,
   "metadata": {
    "collapsed": false
   },
   "outputs": [
    {
     "data": {
      "text/plain": [
       "{'addons': [{'addon_code': 'CPSR',\n",
       "   'description': 'CP Online Sig Rq',\n",
       "   'mandatory': False,\n",
       "   'price_excluding_gst': 0.28,\n",
       "   'price_including_gst': 0.32},\n",
       "  {'addon_code': 'CPOLRD',\n",
       "   'description': 'CP Online Rural Delivery',\n",
       "   'mandatory': True,\n",
       "   'price_excluding_gst': 0,\n",
       "   'price_including_gst': 0}],\n",
       " 'carrier': 'CourierPost',\n",
       " 'description': 'CP Online Economy',\n",
       " 'estimated_delivery_time': None,\n",
       " 'price_excluding_gst': 16.31,\n",
       " 'price_including_gst': 18.76,\n",
       " 'service_code': 'CPOLE',\n",
       " 'signature_included': False,\n",
       " 'tracking_included': True}"
      ]
     },
     "execution_count": 278,
     "metadata": {},
     "output_type": "execute_result"
    }
   ],
   "source": [
    "weighrate['services'][0]"
   ]
  },
  {
   "cell_type": "code",
   "execution_count": 290,
   "metadata": {
    "collapsed": false
   },
   "outputs": [],
   "source": [
    "oppizza = open('/home/wcmckee/github/pizzadelivpost.json', 'r')"
   ]
  },
  {
   "cell_type": "code",
   "execution_count": null,
   "metadata": {
    "collapsed": true
   },
   "outputs": [],
   "source": []
  },
  {
   "cell_type": "code",
   "execution_count": null,
   "metadata": {
    "collapsed": true
   },
   "outputs": [],
   "source": []
  },
  {
   "cell_type": "code",
   "execution_count": 291,
   "metadata": {
    "collapsed": false
   },
   "outputs": [],
   "source": [
    "pizrd = oppizza.read()"
   ]
  },
  {
   "cell_type": "code",
   "execution_count": 303,
   "metadata": {
    "collapsed": true
   },
   "outputs": [],
   "source": [
    "nowtime = arrow.now()"
   ]
  },
  {
   "cell_type": "code",
   "execution_count": 305,
   "metadata": {
    "collapsed": false
   },
   "outputs": [
    {
     "data": {
      "text/plain": [
       "'2015-10-23 13:20:04.592816+13:00'"
      ]
     },
     "execution_count": 305,
     "metadata": {},
     "output_type": "execute_result"
    }
   ],
   "source": [
    "str(nowtime.datetime)"
   ]
  },
  {
   "cell_type": "code",
   "execution_count": null,
   "metadata": {
    "collapsed": true
   },
   "outputs": [],
   "source": []
  },
  {
   "cell_type": "code",
   "execution_count": 306,
   "metadata": {
    "collapsed": true
   },
   "outputs": [],
   "source": [
    "adval = dict({'address': fulladdress, 'datetime' : str(nowtime.datetime)})"
   ]
  },
  {
   "cell_type": "code",
   "execution_count": 307,
   "metadata": {
    "collapsed": false
   },
   "outputs": [
    {
     "data": {
      "text/plain": [
       "{'address': '71 Oregon Street, Ocean Grove, Dunedin 9013, New Zealand',\n",
       " 'datetime': '2015-10-23 13:20:04.592816+13:00'}"
      ]
     },
     "execution_count": 307,
     "metadata": {},
     "output_type": "execute_result"
    }
   ],
   "source": [
    "adval"
   ]
  },
  {
   "cell_type": "code",
   "execution_count": null,
   "metadata": {
    "collapsed": true
   },
   "outputs": [],
   "source": []
  },
  {
   "cell_type": "code",
   "execution_count": null,
   "metadata": {
    "collapsed": true
   },
   "outputs": [],
   "source": []
  },
  {
   "cell_type": "code",
   "execution_count": null,
   "metadata": {
    "collapsed": true
   },
   "outputs": [],
   "source": []
  },
  {
   "cell_type": "code",
   "execution_count": 301,
   "metadata": {
    "collapsed": false
   },
   "outputs": [
    {
     "data": {
      "text/plain": [
       "[{'collectionId': '9ef2a17d-bd70-328d-7ab4-ff404f411a27',\n",
       "  'data': [{'key': 'accountID', 'type': 'text', 'value': 'phimc2api'},\n",
       "   {'key': 'accountPW', 'type': 'text', 'value': 'fs112358'},\n",
       "   {'key': 'version', 'type': 'text', 'value': '2.0'},\n",
       "   {'key': 'appsource', 'type': 'text', 'value': 'Android'},\n",
       "   {'key': 'appversion', 'type': 'text', 'value': '2.1.2'},\n",
       "   {'key': 'request', 'type': 'text', 'value': 'HTMLOrder'},\n",
       "   {'key': 'data',\n",
       "    'type': 'text',\n",
       "    'value': '{\"sessionToken\":\"zDmPoTjzLOd8E8YYLxsFy0MPwQE7LKo19FmFxyZDQFSRRzfRd1LE48xCCj5k3PwC\",\"unitID\":\"029704\",\"occasion\":\"C\",\"location_index\":-1,\"action\":\"start\"}'}],\n",
       "  'dataMode': 'urlencoded',\n",
       "  'description': '',\n",
       "  'headers': '',\n",
       "  'id': '2b852493-f523-f119-b22e-66189f55d09c',\n",
       "  'method': 'POST',\n",
       "  'name': 'getHtmlOrder',\n",
       "  'time': 1433811561494,\n",
       "  'timestamp': 0,\n",
       "  'url': 'https://quikorder.pizzahut.com/phorders3/service.php',\n",
       "  'version': 2},\n",
       " {'collectionId': '9ef2a17d-bd70-328d-7ab4-ff404f411a27',\n",
       "  'data': [{'key': 'accountID', 'type': 'text', 'value': 'phimc2api'},\n",
       "   {'key': 'accountPW', 'type': 'text', 'value': 'fs112358'},\n",
       "   {'key': 'version', 'type': 'text', 'value': '2.0'},\n",
       "   {'key': 'appsource', 'type': 'text', 'value': 'Android'},\n",
       "   {'key': 'appversion', 'type': 'text', 'value': '2.1.2'},\n",
       "   {'key': 'request', 'type': 'text', 'value': 'FindNearByAddress'},\n",
       "   {'key': 'data', 'type': 'text', 'value': '{\"customer_zip\": \"32820\"}'}],\n",
       "  'dataMode': 'urlencoded',\n",
       "  'description': '',\n",
       "  'headers': '',\n",
       "  'id': '5fc79717-503b-c4eb-f50c-c954bd82313f',\n",
       "  'method': 'POST',\n",
       "  'name': 'findNearbyAddress',\n",
       "  'responses': [],\n",
       "  'timestamp': 0,\n",
       "  'url': 'https://quikorder.pizzahut.com/phorders3/service.php',\n",
       "  'version': 2},\n",
       " {'collectionId': '9ef2a17d-bd70-328d-7ab4-ff404f411a27',\n",
       "  'data': [{'key': 'accountID', 'type': 'text', 'value': 'phimc2api'},\n",
       "   {'key': 'accountPW', 'type': 'text', 'value': 'fs112358'},\n",
       "   {'key': 'version', 'type': 'text', 'value': '2.0'},\n",
       "   {'key': 'appsource', 'type': 'text', 'value': 'Android'},\n",
       "   {'key': 'appversion', 'type': 'text', 'value': '2.1.2'},\n",
       "   {'key': 'request', 'type': 'text', 'value': 'GenerateTempAccount'},\n",
       "   {'key': 'data',\n",
       "    'type': 'text',\n",
       "    'value': '{\"address\":{\"street_address\":\"16873 E. Colonial Dr.\",\"apartment\":\"\",\"city\":\"Orlando\",\"state\":\"FL\",\"zip\":\"32820\"}}'}],\n",
       "  'dataMode': 'urlencoded',\n",
       "  'description': '',\n",
       "  'headers': '',\n",
       "  'id': '7a719f0b-7a69-7adf-e77f-545f7a824712',\n",
       "  'method': 'POST',\n",
       "  'name': 'generateTempAccount',\n",
       "  'time': 1433809230725,\n",
       "  'timestamp': 0,\n",
       "  'url': 'https://quikorder.pizzahut.com/phorders3/service.php',\n",
       "  'version': 2},\n",
       " {'collectionId': '9ef2a17d-bd70-328d-7ab4-ff404f411a27',\n",
       "  'data': [{'key': 'accountID', 'type': 'text', 'value': 'phimc2api'},\n",
       "   {'key': 'accountPW', 'type': 'text', 'value': 'fs112358'},\n",
       "   {'key': 'version', 'type': 'text', 'value': '2.0'},\n",
       "   {'key': 'appsource', 'type': 'text', 'value': 'Android'},\n",
       "   {'key': 'appversion', 'type': 'text', 'value': '2.1.2'},\n",
       "   {'key': 'request', 'type': 'text', 'value': 'GetMenuItems'},\n",
       "   {'key': 'data',\n",
       "    'type': 'text',\n",
       "    'value': '{\"unitID\":\"997\",\"occasion\":\"D\",\"section\":\"category\",\"subsection\":\"APICAROUSEL\"}'}],\n",
       "  'dataMode': 'urlencoded',\n",
       "  'description': '',\n",
       "  'headers': '',\n",
       "  'id': '97358452-70d5-dded-48e0-cd4e9f90285b',\n",
       "  'method': 'POST',\n",
       "  'name': 'getCarouselItems',\n",
       "  'time': 1433040064599,\n",
       "  'timestamp': 0,\n",
       "  'url': 'https://quikorder.pizzahut.com/phorders3/service.php',\n",
       "  'version': 2}]"
      ]
     },
     "execution_count": 301,
     "metadata": {},
     "output_type": "execute_result"
    }
   ],
   "source": [
    "json.loads(pizrd)['requests']"
   ]
  },
  {
   "cell_type": "code",
   "execution_count": null,
   "metadata": {
    "collapsed": true
   },
   "outputs": [],
   "source": []
  },
  {
   "cell_type": "code",
   "execution_count": null,
   "metadata": {
    "collapsed": true
   },
   "outputs": [],
   "source": []
  },
  {
   "cell_type": "code",
   "execution_count": null,
   "metadata": {
    "collapsed": true
   },
   "outputs": [],
   "source": []
  },
  {
   "cell_type": "code",
   "execution_count": null,
   "metadata": {
    "collapsed": true
   },
   "outputs": [],
   "source": []
  },
  {
   "cell_type": "code",
   "execution_count": 279,
   "metadata": {
    "collapsed": true
   },
   "outputs": [],
   "source": [
    "response = requests.get(rmnz, stream=True)\n",
    "with open(mapdir + fulrmno + '.png', 'wb') as out_file:\n",
    "    shutil.copyfileobj(response.raw, out_file)\n",
    "del response"
   ]
  },
  {
   "cell_type": "code",
   "execution_count": 280,
   "metadata": {
    "collapsed": false
   },
   "outputs": [],
   "source": [
    "dwg = svgwrite.Drawing(addysvg + fulrmno)\n",
    "dwg.add(dwg.text(adcit, insert=(0, 0.2), fill='black'))\n",
    "dwg.save()"
   ]
  },
  {
   "cell_type": "code",
   "execution_count": 281,
   "metadata": {
    "collapsed": false
   },
   "outputs": [],
   "source": [
    "opjsf = dict({'FullAddress' : fulladdress, 'AddressMap' : mapdir + fulrmno + '.png', 'AddressLong' : latad, 'AddressLat' : longad, 'AddressText' : addysvg + fulrmno + '.svg'})"
   ]
  },
  {
   "cell_type": "code",
   "execution_count": 282,
   "metadata": {
    "collapsed": false
   },
   "outputs": [
    {
     "data": {
      "text/plain": [
       "{'AddressLat': 170.552,\n",
       " 'AddressLong': -45.9041,\n",
       " 'AddressMap': '/home/wcmckee/nzpost/maps/71OregonStreetOceanGroveDunedin9013NewZealand.png',\n",
       " 'AddressText': '/home/wcmckee/nzpost/addysvg/71OregonStreetOceanGroveDunedin9013NewZealand.svg',\n",
       " 'FullAddress': '71 Oregon Street, Ocean Grove, Dunedin 9013, New Zealand'}"
      ]
     },
     "execution_count": 282,
     "metadata": {},
     "output_type": "execute_result"
    }
   ],
   "source": [
    "opjsf"
   ]
  },
  {
   "cell_type": "code",
   "execution_count": null,
   "metadata": {
    "collapsed": true
   },
   "outputs": [],
   "source": []
  }
 ],
 "metadata": {
  "kernelspec": {
   "display_name": "Python 3",
   "language": "python",
   "name": "python3"
  },
  "language_info": {
   "codemirror_mode": {
    "name": "ipython",
    "version": 3
   },
   "file_extension": ".py",
   "mimetype": "text/x-python",
   "name": "python",
   "nbconvert_exporter": "python",
   "pygments_lexer": "ipython3",
   "version": "3.4.2"
  }
 },
 "nbformat": 4,
 "nbformat_minor": 0
}
