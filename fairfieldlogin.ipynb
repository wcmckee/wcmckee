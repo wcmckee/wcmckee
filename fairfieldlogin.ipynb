{
 "metadata": {
  "name": "",
  "signature": "sha256:6868507a96143c60b95d839e73f0eb4f1433e8b62f9991b26eaee67c3009e4c3"
 },
 "nbformat": 3,
 "nbformat_minor": 0,
 "worksheets": [
  {
   "cells": [
    {
     "cell_type": "markdown",
     "metadata": {},
     "source": [
      "<h1>Fairfield Login</h1>\n",
      "\n",
      "This is a script that deals with managing a internet cafe.\n",
      "\n",
      "I need to make it easy to create users, assign time to users, remove time, ban users, reset passwords, give time to a group of users (users who read, help garden etc.\n",
      "\n",
      "Manages when computers are turned on and off.\n",
      "Computers turn on at 7:50am everymorning and perform a update, sync from origin.\n",
      "Allows Public login, allowed to login as users.\n",
      "At 2.25 computers reset and public is disabled. \n",
      "\n",
      "Give 45 mins to everybody. Add for bonus.\n",
      "\n"
     ]
    },
    {
     "cell_type": "code",
     "collapsed": false,
     "input": [
      "import os"
     ],
     "language": "python",
     "metadata": {},
     "outputs": [],
     "prompt_number": 1
    },
    {
     "cell_type": "code",
     "collapsed": false,
     "input": [
      "os.getuid()"
     ],
     "language": "python",
     "metadata": {},
     "outputs": [
      {
       "metadata": {},
       "output_type": "pyout",
       "prompt_number": 2,
       "text": [
        "1000"
       ]
      }
     ],
     "prompt_number": 2
    },
    {
     "cell_type": "code",
     "collapsed": false,
     "input": [
      "os.getgroups()"
     ],
     "language": "python",
     "metadata": {},
     "outputs": [
      {
       "metadata": {},
       "output_type": "pyout",
       "prompt_number": 3,
       "text": [
        "[27, 28, 85, 220, 1000]"
       ]
      }
     ],
     "prompt_number": 3
    },
    {
     "cell_type": "code",
     "collapsed": false,
     "input": [
      "os.system('rsync -azP /home/wcmckee/motion/ wcmckee@getsdrawn.com:/home/wcmckee/motion/')"
     ],
     "language": "python",
     "metadata": {},
     "outputs": [
      {
       "metadata": {},
       "output_type": "pyout",
       "prompt_number": 4,
       "text": [
        "0"
       ]
      }
     ],
     "prompt_number": 4
    },
    {
     "cell_type": "code",
     "collapsed": false,
     "input": [
      "opfair = os.listdir('/home/wcmckee/fairfieldcode/posts')"
     ],
     "language": "python",
     "metadata": {},
     "outputs": [],
     "prompt_number": 6
    },
    {
     "cell_type": "code",
     "collapsed": false,
     "input": [
      "namfil = []"
     ],
     "language": "python",
     "metadata": {},
     "outputs": [],
     "prompt_number": 9
    },
    {
     "cell_type": "code",
     "collapsed": false,
     "input": [
      "opfair"
     ],
     "language": "python",
     "metadata": {},
     "outputs": [
      {
       "metadata": {},
       "output_type": "pyout",
       "prompt_number": 15,
       "text": [
        "['Untitled3.ipynb',\n",
        " 'PeterW.ipynb',\n",
        " 'lorence example.ipynb',\n",
        " 'izaeus.ipynb',\n",
        " 'ldo.ipynb',\n",
        " 'Untitled1.ipynb',\n",
        " 'Untitled5.ipynb',\n",
        " 'Untitled0.ipynb',\n",
        " 'StephM.ipynb',\n",
        " 'Tony.ipynb',\n",
        " 'korrin99.ipynb',\n",
        " 'ian-Copy0.ipynb',\n",
        " 'test.ipynb',\n",
        " 'chanceis.ipynb',\n",
        " 'sue.ipynb',\n",
        " 'lance.ipynb',\n",
        " 'pyexcel.ipynb',\n",
        " 'Readme.ipynb',\n",
        " 'Dele.ipynb',\n",
        " 'John T.ipynb',\n",
        " 'Untitled6.ipynb',\n",
        " 'adon.ipynb',\n",
        " 'lexxuse.ipynb',\n",
        " 'william.ipynb',\n",
        " 'Alex B.ipynb',\n",
        " 'adon909.ipynb',\n",
        " 'toara.ipynb',\n",
        " 'ocean connor.ipynb',\n",
        " 'Alex .ipynb',\n",
        " 'hamcomp.ipynb',\n",
        " 'Danny.ipynb',\n",
        " 'TK Hello World.ipynb',\n",
        " 'korrin990.ipynb',\n",
        " 'Sione.ipynb',\n",
        " 'helloworld.ipynb',\n",
        " 'korrin.ipynb',\n",
        " 'FRANKEY JOE.ipynb',\n",
        " 'learnpy.ipynb',\n",
        " 'aries.ipynb',\n",
        " 'ian.ipynb',\n",
        " 'Aruna.ipynb',\n",
        " 'Bruce.ipynb']"
       ]
      }
     ],
     "prompt_number": 15
    },
    {
     "cell_type": "markdown",
     "metadata": {},
     "source": [
      "If space in the filename then change to - for url-friendly."
     ]
    },
    {
     "cell_type": "code",
     "collapsed": false,
     "input": [
      "opsrip = []"
     ],
     "language": "python",
     "metadata": {},
     "outputs": [],
     "prompt_number": 16
    },
    {
     "cell_type": "code",
     "collapsed": false,
     "input": [
      "for opfa in opfair:\n",
      "    print opfa.strip('.ipynb')\n",
      "    opsrip.append(opfa.strip('.ipynb'))\n",
      "   # if (' ') in opfa.strip('.ipynb'):\n",
      "    #    print opfa.strip('.ipython')"
     ],
     "language": "python",
     "metadata": {},
     "outputs": [
      {
       "output_type": "stream",
       "stream": "stdout",
       "text": [
        "Untitled3\n",
        "PeterW\n",
        "lorence example\n",
        "zaeus\n",
        "ldo\n",
        "Untitled1\n",
        "Untitled5\n",
        "Untitled0\n",
        "StephM\n",
        "To\n",
        "korrin99\n",
        "an-Copy0\n",
        "test\n",
        "chanceis\n",
        "sue\n",
        "lance\n",
        "excel\n",
        "Readme\n",
        "Dele\n",
        "John T\n",
        "Untitled6\n",
        "ado\n",
        "lexxuse\n",
        "william\n",
        "Alex B\n",
        "adon909\n",
        "toara\n",
        "ocean connor\n",
        "Alex \n",
        "hamcom\n",
        "Da\n",
        "TK Hello World\n",
        "korrin990\n",
        "Sione\n",
        "helloworld\n",
        "korr\n",
        "FRANKEY JOE\n",
        "lear\n",
        "aries\n",
        "a\n",
        "Aruna\n",
        "Bruce\n"
       ]
      }
     ],
     "prompt_number": 17
    },
    {
     "cell_type": "code",
     "collapsed": false,
     "input": [
      "os.chdir('/home/wcmckee/fairfieldcode/posts/')"
     ],
     "language": "python",
     "metadata": {},
     "outputs": [],
     "prompt_number": 21
    },
    {
     "cell_type": "code",
     "collapsed": false,
     "input": [
      "import time"
     ],
     "language": "python",
     "metadata": {},
     "outputs": [],
     "prompt_number": 24
    },
    {
     "cell_type": "code",
     "collapsed": false,
     "input": [
      "time.gmtime()"
     ],
     "language": "python",
     "metadata": {},
     "outputs": [
      {
       "metadata": {},
       "output_type": "pyout",
       "prompt_number": 25,
       "text": [
        "time.struct_time(tm_year=2015, tm_mon=1, tm_mday=7, tm_hour=3, tm_min=49, tm_sec=19, tm_wday=2, tm_yday=7, tm_isdst=0)"
       ]
      }
     ],
     "prompt_number": 25
    },
    {
     "cell_type": "code",
     "collapsed": false,
     "input": [
      "for opfilz in opsrip:\n",
      "    print opfilz\n",
      "    with open(str(opfilz) + '.meta', \"w\") as f:\n",
      "            rstrin = opfilz.encode('ascii', 'ignore').decode('ascii')\n",
      "            #print matdict\n",
      "            #metadict = dict()\n",
      "            #for lisz in lisrgc:\n",
      "            #    metadict.update({'up': lisz.ups})\n",
      "            #    metadict.update({'down': lisz.downs})\n",
      "            #    metadict.update({'title': lisz.title})\n",
      "            #    metadict.update({'created': lisz.created})\n",
      "            f.write(rstrin + '\\n' + "
     ],
     "language": "python",
     "metadata": {},
     "outputs": [
      {
       "output_type": "stream",
       "stream": "stdout",
       "text": [
        "Untitled3\n",
        "PeterW\n",
        "lorence example\n",
        "zaeus\n",
        "ldo\n",
        "Untitled1\n",
        "Untitled5\n",
        "Untitled0\n",
        "StephM\n",
        "To\n",
        "korrin99\n",
        "an-Copy0\n",
        "test\n",
        "chanceis\n",
        "sue\n",
        "lance\n",
        "excel\n",
        "Readme\n",
        "Dele\n",
        "John T\n",
        "Untitled6\n",
        "ado\n",
        "lexxuse\n",
        "william\n",
        "Alex B\n",
        "adon909\n",
        "toara"
       ]
      },
      {
       "output_type": "stream",
       "stream": "stdout",
       "text": [
        "\n",
        "ocean connor\n",
        "Alex \n",
        "hamcom\n",
        "Da\n",
        "TK Hello World\n",
        "korrin990\n",
        "Sione\n",
        "helloworld\n",
        "korr\n",
        "FRANKEY JOE\n",
        "lear\n",
        "aries\n",
        "a\n",
        "Aruna\n",
        "Bruce\n"
       ]
      }
     ],
     "prompt_number": 22
    },
    {
     "cell_type": "code",
     "collapsed": false,
     "input": [],
     "language": "python",
     "metadata": {},
     "outputs": []
    },
    {
     "cell_type": "code",
     "collapsed": false,
     "input": [
      "opsrip"
     ],
     "language": "python",
     "metadata": {},
     "outputs": [
      {
       "metadata": {},
       "output_type": "pyout",
       "prompt_number": 18,
       "text": [
        "['Untitled3',\n",
        " 'PeterW',\n",
        " 'lorence example',\n",
        " 'zaeus',\n",
        " 'ldo',\n",
        " 'Untitled1',\n",
        " 'Untitled5',\n",
        " 'Untitled0',\n",
        " 'StephM',\n",
        " 'To',\n",
        " 'korrin99',\n",
        " 'an-Copy0',\n",
        " 'test',\n",
        " 'chanceis',\n",
        " 'sue',\n",
        " 'lance',\n",
        " 'excel',\n",
        " 'Readme',\n",
        " 'Dele',\n",
        " 'John T',\n",
        " 'Untitled6',\n",
        " 'ado',\n",
        " 'lexxuse',\n",
        " 'william',\n",
        " 'Alex B',\n",
        " 'adon909',\n",
        " 'toara',\n",
        " 'ocean connor',\n",
        " 'Alex ',\n",
        " 'hamcom',\n",
        " 'Da',\n",
        " 'TK Hello World',\n",
        " 'korrin990',\n",
        " 'Sione',\n",
        " 'helloworld',\n",
        " 'korr',\n",
        " 'FRANKEY JOE',\n",
        " 'lear',\n",
        " 'aries',\n",
        " 'a',\n",
        " 'Aruna',\n",
        " 'Bruce']"
       ]
      }
     ],
     "prompt_number": 18
    },
    {
     "cell_type": "code",
     "collapsed": false,
     "input": [],
     "language": "python",
     "metadata": {},
     "outputs": []
    }
   ],
   "metadata": {}
  }
 ]
}