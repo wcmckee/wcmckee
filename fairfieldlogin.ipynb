{
 "metadata": {
  "name": "",
  "signature": "sha256:0d62e825a631ad9b0750cf63f7fac4d49dbecf873ae68b44b19e5a1f18443f4e"
 },
 "nbformat": 3,
 "nbformat_minor": 0,
 "worksheets": [
  {
   "cells": [
    {
     "cell_type": "markdown",
     "metadata": {},
     "source": [
      "<h1>Fairfield Login</h1>\n",
      "\n",
      "This is a script that deals with managing a internet cafe.\n",
      "\n",
      "I need to make it easy to create users, assign time to users, remove time, ban users, reset passwords, give time to a group of users (users who read, help garden etc.\n",
      "\n",
      "Manages when computers are turned on and off.\n",
      "Computers turn on at 7:50am everymorning and perform a update, sync from origin.\n",
      "Allows Public login, allowed to login as users.\n",
      "At 2.25 computers reset and public is disabled. \n",
      "\n",
      "Give 45 mins to everybody. Add for bonus.\n",
      "\n"
     ]
    },
    {
     "cell_type": "code",
     "collapsed": false,
     "input": [],
     "language": "python",
     "metadata": {},
     "outputs": []
    }
   ],
   "metadata": {}
  }
 ]
}