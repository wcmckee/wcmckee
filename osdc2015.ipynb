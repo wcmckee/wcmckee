{
 "cells": [
  {
   "cell_type": "markdown",
   "metadata": {},
   "source": [
    "Open Source Developers Conf 2015\n",
    "\n",
    "Script to parse Conference Schedule.\n",
    "\n"
   ]
  },
  {
   "cell_type": "code",
   "execution_count": 6,
   "metadata": {
    "collapsed": true
   },
   "outputs": [],
   "source": [
    "import requests\n",
    "import bs4"
   ]
  },
  {
   "cell_type": "code",
   "execution_count": null,
   "metadata": {
    "collapsed": true
   },
   "outputs": [],
   "source": []
  },
  {
   "cell_type": "code",
   "execution_count": 9,
   "metadata": {
    "collapsed": true
   },
   "outputs": [],
   "source": [
    "reqconf = requests.get('https://2015.osdc.com.au/schedule/')"
   ]
  },
  {
   "cell_type": "code",
   "execution_count": 10,
   "metadata": {
    "collapsed": false
   },
   "outputs": [
    {
     "name": "stderr",
     "output_type": "stream",
     "text": [
      "/usr/local/lib/python3.4/dist-packages/bs4/__init__.py:166: UserWarning: No parser was explicitly specified, so I'm using the best available HTML parser for this system (\"lxml\"). This usually isn't a problem, but if you run this code on another system, or in a different virtual environment, it may use a different parser and behave differently.\n",
      "\n",
      "To get rid of this warning, change this:\n",
      "\n",
      " BeautifulSoup([your markup])\n",
      "\n",
      "to this:\n",
      "\n",
      " BeautifulSoup([your markup], \"lxml\")\n",
      "\n",
      "  markup_type=markup_type))\n"
     ]
    }
   ],
   "source": [
    "bsre = bs4.BeautifulSoup(reqconf.text)"
   ]
  },
  {
   "cell_type": "code",
   "execution_count": 13,
   "metadata": {
    "collapsed": false
   },
   "outputs": [],
   "source": [
    "spre = bsre.findAll('span')"
   ]
  },
  {
   "cell_type": "code",
   "execution_count": 18,
   "metadata": {
    "collapsed": true
   },
   "outputs": [],
   "source": [
    "listalk = list()"
   ]
  },
  {
   "cell_type": "code",
   "execution_count": null,
   "metadata": {
    "collapsed": true
   },
   "outputs": [],
   "source": []
  },
  {
   "cell_type": "code",
   "execution_count": 19,
   "metadata": {
    "collapsed": false
   },
   "outputs": [
    {
     "name": "stdout",
     "output_type": "stream",
     "text": [
      "Toggle navigation\n",
      "\n",
      "\n",
      "\n",
      "\n",
      "Going Viral for Fun, not Profit\n",
      "\n",
      "\n",
      "                                    Ben Dechrai\n",
      "                                \n",
      "\n",
      "Open Source Vocational Engineering with High Performance Computing\n",
      "\n",
      "\n",
      "                                    Lev Lafayette\n",
      "                                \n",
      "\n",
      "Inkscape for Absolute Beginners\n",
      "\n",
      "\n",
      "                                    Donna Benjamin\n",
      "                                \n",
      "\n",
      "Network Insecurity, a love story\n",
      "\n",
      "\n",
      "                                    Julien Goodwin\n",
      "                                \n",
      "\n",
      "Teaching and learning, what I learned from a year of mentoring at UTS\n",
      "\n",
      "\n",
      "                                    Jack Skinner\n",
      "                                \n",
      "\n",
      "Javascript is Awe-ful\n",
      "\n",
      "\n",
      "                                    Katie McLaughlin\n",
      "                                \n",
      "\n",
      "eLearning and IoT\n",
      "\n",
      "\n",
      "                                    Kenneth Scott Huntley\n",
      "                                \n",
      "\n",
      "SubPos - A \"Dataless\" Wi-Fi Positioning System\n",
      "\n",
      "\n",
      "                                    Blair Wyatt\n",
      "                                \n",
      "\n",
      "Crash-safe Replication with MariaDB and MySQL Global Transaction ID.\n",
      "\n",
      "\n",
      "                                    Peter Lock\n",
      "                                \n",
      "\n",
      "Using FOSS for proposing improved public transport plans in Australian cities\n",
      "\n",
      "\n",
      "                                    Patrick Sunter\n",
      "                                \n",
      "\n",
      "Disrupting the Classroom, in a Good Way\n",
      "\n",
      "\n",
      "                                    Arjen Lentz\n",
      "                                \n",
      "\n",
      "Intro to OpenStreetMap\n",
      "\n",
      "\n",
      "                                    Matthew Cengia\n",
      "                                \n",
      "\n",
      "Skulling Around: Hands-on History\n",
      "\n",
      "\n",
      "                                    Claire Reeler\n",
      "                                \n",
      "\n",
      "Keynote: Climbing the Garden Wall – An Educator's Odyssey in Second Life and OpenSim\n",
      "\n",
      "\n",
      "                                    Mark Elwell\n",
      "                                \n",
      "\n",
      "How Can I contribute to Mozilla\n",
      "\n",
      "\n",
      "                                    Anup Allamsetty\n",
      "                                \n",
      "\n",
      "Lunchbox Window Manager\n",
      "\n",
      "\n",
      "                                    Alysander Stanley\n",
      "                                \n",
      "\n",
      "Hack the Planet - A practical guide to web application vulnerabilities\n",
      "\n",
      "\n",
      "                                    Katie McLaughlin\n",
      "                                \n",
      "\n",
      "Get your A-Game On! Levelling up your Open Source Career\n",
      "\n",
      "\n",
      "                                    Kathy Reid\n",
      "                                \n",
      "\n",
      "To the moon: FOSS lessons from building the Comprehensive Kerbal Archive Network\n",
      "\n",
      "\n",
      "                                    Paul '@pjf' Fenwick\n",
      "                                \n",
      "\n",
      "HTTP By The Numbers!\n",
      "\n",
      "\n",
      "                                    Christopher Neugebauer\n",
      "                                \n",
      "\n",
      "How to Stop Lying, and Track What Matters\n",
      "\n",
      "\n",
      "                                    Casey West\n",
      "                                \n",
      "\n",
      "Create customized map layers with TileMill\n",
      "\n",
      "\n",
      "                                    Matthew Cengia\n",
      "                                \n",
      "\n",
      "Talking with Leviathans: interfacing Open Source to SAP\n",
      "\n",
      "\n",
      "                                    Nick Moore\n",
      "                                \n",
      "\n",
      "EasyCount, freedom of information and openness\n",
      "\n",
      "\n",
      "                                    Michael Cordover\n",
      "                                \n",
      "\n",
      "Opportunities in Openness. Driving positive change in local communities.\n",
      "\n",
      "\n",
      "                                    Richard Tubb\n",
      "                                \n",
      "\n",
      "Daily fun with containers; A live demo\n",
      "\n",
      "\n",
      "                                    Sven Dowideit\n",
      "                                \n",
      "\n",
      "Much MIDI stuff - and its Lessons\n",
      "\n",
      "\n",
      "                                    Peter Billam\n",
      "                                \n",
      "\n",
      "Identity Management with FreeIPA\n",
      "\n",
      "\n",
      "                                    Fraser Tweedale\n",
      "                                \n",
      "\n",
      "Debugging: how to survive potential assassination\n",
      "\n",
      "\n",
      "                                    Paul Wayper\n",
      "                                \n",
      "\n",
      "The Great Escape : Tunnelling your way to freedom with SSH\n",
      "\n",
      "\n",
      "                                    John Dalton\n",
      "                                \n",
      "\n",
      "Catmandu and Elasticsearch: making search current\n",
      "\n",
      "\n",
      "                                    Robin Sheat\n",
      "                                \n",
      "\n",
      "Impressive Slideshow without Presentation Software\n",
      "\n",
      "\n",
      "                                    Kazuaki Maeda\n",
      "                                \n",
      "\n",
      "Submitting your Android app to F-Droid\n",
      "\n",
      "\n",
      "                                    Peter Serwylo\n",
      "                                \n",
      "\n",
      "4 Raspberry Pi + 1 MySQL Cluster. Really?\n",
      "\n",
      "\n",
      "                                    Ronen Baram\n",
      "                                \n",
      "\n",
      "Open Source in government: lessons from the community\n",
      "\n",
      "\n",
      "                                    Pia Waugh\n",
      "                                \n"
     ]
    }
   ],
   "source": [
    "for spr in spre:\n",
    "    print (spr.text)\n",
    "    listalk.append(spr.text)"
   ]
  },
  {
   "cell_type": "code",
   "execution_count": 22,
   "metadata": {
    "collapsed": false
   },
   "outputs": [],
   "source": [
    "lisfix =listalk[1:]"
   ]
  },
  {
   "cell_type": "code",
   "execution_count": 35,
   "metadata": {
    "collapsed": true
   },
   "outputs": [],
   "source": [
    "firzlis = list()"
   ]
  },
  {
   "cell_type": "code",
   "execution_count": null,
   "metadata": {
    "collapsed": true
   },
   "outputs": [],
   "source": []
  },
  {
   "cell_type": "code",
   "execution_count": 36,
   "metadata": {
    "collapsed": false
   },
   "outputs": [],
   "source": [
    "for li in lisfix:\n",
    "    lireps = li.replace('  ', '')\n",
    "    liqwe = lireps.replace('\\n', '')\n",
    "    firzlis.append(liqwe)"
   ]
  },
  {
   "cell_type": "code",
   "execution_count": null,
   "metadata": {
    "collapsed": true
   },
   "outputs": [],
   "source": []
  },
  {
   "cell_type": "code",
   "execution_count": null,
   "metadata": {
    "collapsed": true
   },
   "outputs": [],
   "source": []
  },
  {
   "cell_type": "code",
   "execution_count": 39,
   "metadata": {
    "collapsed": false
   },
   "outputs": [
    {
     "name": "stdout",
     "output_type": "stream",
     "text": [
      "\n",
      "\n",
      "\n",
      "Going Viral for Fun, not Profit\n",
      "Ben Dechrai\n",
      "Open Source Vocational Engineering with High Performance Computing\n",
      "Lev Lafayette\n",
      "Inkscape for Absolute Beginners\n",
      "Donna Benjamin\n",
      "Network Insecurity, a love story\n",
      "Julien Goodwin\n",
      "Teaching and learning, what I learned from a year of mentoring at UTS\n",
      "Jack Skinner\n",
      "Javascript is Awe-ful\n",
      "Katie McLaughlin\n",
      "eLearning and IoT\n",
      "Kenneth Scott Huntley\n",
      "SubPos - A \"Dataless\" Wi-Fi Positioning System\n",
      "Blair Wyatt\n",
      "Crash-safe Replication with MariaDB and MySQL Global Transaction ID.\n",
      "Peter Lock\n",
      "Using FOSS for proposing improved public transport plans in Australian cities\n",
      "Patrick Sunter\n",
      "Disrupting the Classroom, in a Good Way\n",
      "Arjen Lentz\n",
      "Intro to OpenStreetMap\n",
      "Matthew Cengia\n",
      "Skulling Around: Hands-on History\n",
      "Claire Reeler\n",
      "Keynote: Climbing the Garden Wall – An Educator's Odyssey in Second Life and OpenSim\n",
      "Mark Elwell\n",
      "How Can I contribute to Mozilla\n",
      "Anup Allamsetty\n",
      "Lunchbox Window Manager\n",
      "Alysander Stanley\n",
      "Hack the Planet - A practical guide to web application vulnerabilities\n",
      "Katie McLaughlin\n",
      "Get your A-Game On! Levelling up your Open Source Career\n",
      "Kathy Reid\n",
      "To the moon: FOSS lessons from building the Comprehensive Kerbal Archive Network\n",
      "Paul '@pjf' Fenwick\n",
      "HTTP By The Numbers!\n",
      "Christopher Neugebauer\n",
      "How to Stop Lying, and Track What Matters\n",
      "Casey West\n",
      "Create customized map layers with TileMill\n",
      "Matthew Cengia\n",
      "Talking with Leviathans: interfacing Open Source to SAP\n",
      "Nick Moore\n",
      "EasyCount, freedom of information and openness\n",
      "Michael Cordover\n",
      "Opportunities in Openness. Driving positive change in local communities.\n",
      "Richard Tubb\n",
      "Daily fun with containers; A live demo\n",
      "Sven Dowideit\n",
      "Much MIDI stuff - and its Lessons\n",
      "Peter Billam\n",
      "Identity Management with FreeIPA\n",
      "Fraser Tweedale\n",
      "Debugging: how to survive potential assassination\n",
      "Paul Wayper\n",
      "The Great Escape : Tunnelling your way to freedom with SSH\n",
      "John Dalton\n",
      "Catmandu and Elasticsearch: making search current\n",
      "Robin Sheat\n",
      "Impressive Slideshow without Presentation Software\n",
      "Kazuaki Maeda\n",
      "Submitting your Android app to F-Droid\n",
      "Peter Serwylo\n",
      "4 Raspberry Pi + 1 MySQL Cluster. Really?\n",
      "Ronen Baram\n",
      "Open Source in government: lessons from the community\n",
      "Pia Waugh\n"
     ]
    }
   ],
   "source": [
    "for firz in firzlis:\n",
    "    print (firz)"
   ]
  },
  {
   "cell_type": "code",
   "execution_count": null,
   "metadata": {
    "collapsed": true
   },
   "outputs": [],
   "source": []
  },
  {
   "cell_type": "code",
   "execution_count": null,
   "metadata": {
    "collapsed": true
   },
   "outputs": [],
   "source": []
  },
  {
   "cell_type": "code",
   "execution_count": null,
   "metadata": {
    "collapsed": true
   },
   "outputs": [],
   "source": []
  },
  {
   "cell_type": "code",
   "execution_count": null,
   "metadata": {
    "collapsed": true
   },
   "outputs": [],
   "source": []
  },
  {
   "cell_type": "code",
   "execution_count": null,
   "metadata": {
    "collapsed": true
   },
   "outputs": [],
   "source": []
  },
  {
   "cell_type": "code",
   "execution_count": null,
   "metadata": {
    "collapsed": true
   },
   "outputs": [],
   "source": []
  },
  {
   "cell_type": "code",
   "execution_count": null,
   "metadata": {
    "collapsed": true
   },
   "outputs": [],
   "source": []
  },
  {
   "cell_type": "code",
   "execution_count": null,
   "metadata": {
    "collapsed": true
   },
   "outputs": [],
   "source": []
  },
  {
   "cell_type": "code",
   "execution_count": null,
   "metadata": {
    "collapsed": true
   },
   "outputs": [],
   "source": []
  },
  {
   "cell_type": "code",
   "execution_count": null,
   "metadata": {
    "collapsed": true
   },
   "outputs": [],
   "source": []
  },
  {
   "cell_type": "code",
   "execution_count": null,
   "metadata": {
    "collapsed": true
   },
   "outputs": [],
   "source": []
  },
  {
   "cell_type": "code",
   "execution_count": null,
   "metadata": {
    "collapsed": true
   },
   "outputs": [],
   "source": []
  }
 ],
 "metadata": {
  "kernelspec": {
   "display_name": "Python 3",
   "language": "python",
   "name": "python3"
  },
  "language_info": {
   "codemirror_mode": {
    "name": "ipython",
    "version": 3
   },
   "file_extension": ".py",
   "mimetype": "text/x-python",
   "name": "python",
   "nbconvert_exporter": "python",
   "pygments_lexer": "ipython3",
   "version": "3.4.2"
  }
 },
 "nbformat": 4,
 "nbformat_minor": 0
}
