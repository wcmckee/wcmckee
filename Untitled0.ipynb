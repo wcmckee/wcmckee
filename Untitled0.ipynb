{
 "metadata": {
  "name": "",
  "signature": "sha256:ace2fc785ad9e5698a90fe9ca257d1dc4842f4bdb9ab0cd1baafbaa71ca213e0"
 },
 "nbformat": 3,
 "nbformat_minor": 0,
 "worksheets": [
  {
   "cells": [
    {
     "cell_type": "code",
     "collapsed": false,
     "input": [
      "import numpy as np\n",
      "import pandas as pd"
     ],
     "language": "python",
     "metadata": {},
     "outputs": [
      {
       "ename": "ImportError",
       "evalue": "No module named pandas",
       "output_type": "pyerr",
       "traceback": [
        "\u001b[1;31m---------------------------------------------------------------------------\u001b[0m\n\u001b[1;31mImportError\u001b[0m                               Traceback (most recent call last)",
        "\u001b[1;32m<ipython-input-4-fa44af558781>\u001b[0m in \u001b[0;36m<module>\u001b[1;34m()\u001b[0m\n\u001b[0;32m      1\u001b[0m \u001b[1;32mimport\u001b[0m \u001b[0mnumpy\u001b[0m \u001b[1;32mas\u001b[0m \u001b[0mnp\u001b[0m\u001b[1;33m\u001b[0m\u001b[0m\n\u001b[1;32m----> 2\u001b[1;33m \u001b[1;32mimport\u001b[0m \u001b[0mpandas\u001b[0m \u001b[1;32mas\u001b[0m \u001b[0mpd\u001b[0m\u001b[1;33m\u001b[0m\u001b[0m\n\u001b[0m",
        "\u001b[1;31mImportError\u001b[0m: No module named pandas"
       ]
      }
     ],
     "prompt_number": 4
    },
    {
     "cell_type": "code",
     "collapsed": false,
     "input": [
      "randn = np.random.randn"
     ],
     "language": "python",
     "metadata": {},
     "outputs": [],
     "prompt_number": 2
    },
    {
     "cell_type": "code",
     "collapsed": false,
     "input": [
      "randn()"
     ],
     "language": "python",
     "metadata": {},
     "outputs": [
      {
       "metadata": {},
       "output_type": "pyout",
       "prompt_number": 16,
       "text": [
        "-1.2995164622081463"
       ]
      }
     ],
     "prompt_number": 16
    },
    {
     "cell_type": "code",
     "collapsed": false,
     "input": [
      "a = np.arange(15).reshape(3,5)"
     ],
     "language": "python",
     "metadata": {},
     "outputs": [],
     "prompt_number": 17
    },
    {
     "cell_type": "code",
     "collapsed": false,
     "input": [
      "a"
     ],
     "language": "python",
     "metadata": {},
     "outputs": [
      {
       "metadata": {},
       "output_type": "pyout",
       "prompt_number": 18,
       "text": [
        "array([[ 0,  1,  2,  3,  4],\n",
        "       [ 5,  6,  7,  8,  9],\n",
        "       [10, 11, 12, 13, 14]])"
       ]
      }
     ],
     "prompt_number": 18
    },
    {
     "cell_type": "code",
     "collapsed": false,
     "input": [
      "opind = open('/home/wcmckee/visignsys/index.meta')"
     ],
     "language": "python",
     "metadata": {},
     "outputs": [],
     "prompt_number": 23
    },
    {
     "cell_type": "code",
     "collapsed": false,
     "input": [
      "doubme = opind.read()"
     ],
     "language": "python",
     "metadata": {},
     "outputs": [],
     "prompt_number": 24
    },
    {
     "cell_type": "code",
     "collapsed": false,
     "input": [
      "(doubme)"
     ],
     "language": "python",
     "metadata": {},
     "outputs": [
      {
       "metadata": {},
       "output_type": "pyout",
       "prompt_number": 28,
       "text": [
        "\"['17:47', 'ESW', 'William Mckee', '12-Oct-2014', 'it was a good day']['17:59', '12-Oct-2014']['17:59', 'fun day', '12-Oct-2014']\""
       ]
      }
     ],
     "prompt_number": 28
    },
    {
     "cell_type": "code",
     "collapsed": false,
     "input": [
      "for dou in doubme:\n",
      "    print dou"
     ],
     "language": "python",
     "metadata": {},
     "outputs": [
      {
       "output_type": "stream",
       "stream": "stdout",
       "text": [
        "[\n",
        "'\n",
        "1\n",
        "7\n",
        ":\n",
        "4\n",
        "7\n",
        "'\n",
        ",\n",
        " \n",
        "'\n",
        "E\n",
        "S\n",
        "W\n",
        "'\n",
        ",\n",
        " \n",
        "'\n",
        "W\n",
        "i\n",
        "l\n",
        "l\n",
        "i\n",
        "a\n",
        "m\n",
        " \n",
        "M\n",
        "c\n",
        "k\n",
        "e\n",
        "e\n",
        "'\n",
        ",\n",
        " \n",
        "'\n",
        "1\n",
        "2\n",
        "-\n",
        "O\n",
        "c\n",
        "t\n",
        "-\n",
        "2\n",
        "0\n",
        "1\n",
        "4\n"
       ]
      },
      {
       "output_type": "stream",
       "stream": "stdout",
       "text": [
        "'\n",
        ",\n",
        " \n",
        "'\n",
        "i\n",
        "t\n",
        " \n",
        "w\n",
        "a\n",
        "s\n",
        " \n",
        "a\n",
        " \n",
        "g\n",
        "o\n",
        "o\n",
        "d\n",
        " \n",
        "d\n",
        "a\n",
        "y\n",
        "'\n",
        "]\n",
        "[\n",
        "'\n",
        "1\n",
        "7\n",
        ":\n",
        "5\n",
        "9\n",
        "'\n",
        ",\n",
        " \n",
        "'\n",
        "1\n",
        "2\n",
        "-\n",
        "O\n",
        "c\n",
        "t\n",
        "-\n",
        "2\n",
        "0\n",
        "1\n",
        "4\n",
        "'\n",
        "]\n",
        "[\n",
        "'\n",
        "1\n",
        "7\n",
        ":\n",
        "5\n",
        "9\n",
        "'\n",
        ",\n",
        " \n",
        "'\n",
        "f\n",
        "u\n",
        "n\n",
        " \n",
        "d\n",
        "a\n",
        "y\n",
        "'\n",
        ",\n",
        " \n",
        "'\n",
        "1\n",
        "2\n",
        "-\n",
        "O\n"
       ]
      },
      {
       "output_type": "stream",
       "stream": "stdout",
       "text": [
        "c\n",
        "t\n",
        "-\n",
        "2\n",
        "0\n",
        "1\n",
        "4\n",
        "'\n",
        "]\n"
       ]
      }
     ],
     "prompt_number": 29
    },
    {
     "cell_type": "code",
     "collapsed": false,
     "input": [],
     "language": "python",
     "metadata": {},
     "outputs": []
    }
   ],
   "metadata": {}
  }
 ]
}