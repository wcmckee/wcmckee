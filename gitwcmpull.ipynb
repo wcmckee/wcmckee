{
 "cells": [
  {
   "cell_type": "markdown",
   "metadata": {},
   "source": [
    "gitwcmpull\n",
    "\n",
    "Dealing with git repos. Doing pulls to all repos."
   ]
  },
  {
   "cell_type": "code",
   "execution_count": 40,
   "metadata": {
    "collapsed": false
   },
   "outputs": [],
   "source": [
    "import git\n",
    "import os\n",
    "import github\n",
    "import getpass"
   ]
  },
  {
   "cell_type": "code",
   "execution_count": 41,
   "metadata": {
    "collapsed": false
   },
   "outputs": [],
   "source": [
    "from github import Github"
   ]
  },
  {
   "cell_type": "code",
   "execution_count": 43,
   "metadata": {
    "collapsed": false
   },
   "outputs": [
    {
     "name": "stdout",
     "output_type": "stream",
     "text": [
      "Enter username: wcmckee\n",
      "Enter Password: ········\n"
     ]
    }
   ],
   "source": [
    "gusr = raw_input('Enter username: ')\n",
    "gpas = getpass.getpass('Enter Password: ')"
   ]
  },
  {
   "cell_type": "code",
   "execution_count": 44,
   "metadata": {
    "collapsed": false
   },
   "outputs": [],
   "source": [
    "g = Github(gusr, gpas)"
   ]
  },
  {
   "cell_type": "code",
   "execution_count": 45,
   "metadata": {
    "collapsed": true
   },
   "outputs": [],
   "source": [
    "#for grza in g.get_organization("
   ]
  },
  {
   "cell_type": "code",
   "execution_count": 46,
   "metadata": {
    "collapsed": true
   },
   "outputs": [],
   "source": [
    "gilis = []"
   ]
  },
  {
   "cell_type": "code",
   "execution_count": 47,
   "metadata": {
    "collapsed": false
   },
   "outputs": [],
   "source": [
    "for grp in g.get_user().get_repos():\n",
    "    gilis.append(grp.name)"
   ]
  },
  {
   "cell_type": "code",
   "execution_count": null,
   "metadata": {
    "collapsed": true
   },
   "outputs": [],
   "source": []
  },
  {
   "cell_type": "code",
   "execution_count": 2,
   "metadata": {
    "collapsed": true
   },
   "outputs": [],
   "source": [
    "#Test if folder is there and that the origin pull is on github.\n",
    "#If it's not on github, skip.\n",
    "\n",
    "#Two Lists. One is list of repos from github. Other is list of\n",
    "#local folder repos.\n",
    "#Compare items in each list. \n",
    "#lis1 is github\n",
    "#lis2 is local\n",
    "#if 'ipython' is on lis1 but not two, then it performs\n",
    "#git clone on github repo\n",
    "#\n",
    "\n",
    "#If item is on local but not on github\n",
    "#check organision\n",
    "#skip the git pull.\n"
   ]
  },
  {
   "cell_type": "code",
   "execution_count": 23,
   "metadata": {
    "collapsed": false
   },
   "outputs": [],
   "source": [
    "lidirz = os.listdir('/media/removable/USB Drive/wcmckee-git')"
   ]
  },
  {
   "cell_type": "code",
   "execution_count": 37,
   "metadata": {
    "collapsed": false
   },
   "outputs": [],
   "source": [
    "#for lid in lidirz:\n",
    "#    print lid"
   ]
  },
  {
   "cell_type": "code",
   "execution_count": 38,
   "metadata": {
    "collapsed": false
   },
   "outputs": [],
   "source": [
    "#for grp in g.get_user().get_repos():\n",
    "#    print grp.name"
   ]
  },
  {
   "cell_type": "code",
   "execution_count": null,
   "metadata": {
    "collapsed": true
   },
   "outputs": [],
   "source": []
  },
  {
   "cell_type": "code",
   "execution_count": 6,
   "metadata": {
    "collapsed": true
   },
   "outputs": [],
   "source": [
    "lismed = os.listdir('/media/removable/USB Drive/wcmckee-git')"
   ]
  },
  {
   "cell_type": "code",
   "execution_count": 36,
   "metadata": {
    "collapsed": false
   },
   "outputs": [
    {
     "data": {
      "text/plain": [
       "['ipython', 'comet_cms']"
      ]
     },
     "execution_count": 36,
     "metadata": {},
     "output_type": "execute_result"
    }
   ],
   "source": [
    "#List of repos missing from github\n",
    "list(set(lidirz) - set(gilis))"
   ]
  },
  {
   "cell_type": "code",
   "execution_count": 48,
   "metadata": {
    "collapsed": false
   },
   "outputs": [
    {
     "data": {
      "text/plain": [
       "[u'fuzzy-octopus', u'coil', u'crouton', u'cv']"
      ]
     },
     "execution_count": 48,
     "metadata": {},
     "output_type": "execute_result"
    }
   ],
   "source": [
    "#list of repos missing local - perform git pull\n",
    "list(set(gilis) - set(lidirz))"
   ]
  },
  {
   "cell_type": "code",
   "execution_count": 49,
   "metadata": {
    "collapsed": false
   },
   "outputs": [],
   "source": [
    "#Repos that are both on github and local.\n",
    "remlis = list(set(gilis).intersection(set(lidirz)))"
   ]
  },
  {
   "cell_type": "code",
   "execution_count": 7,
   "metadata": {
    "collapsed": true
   },
   "outputs": [],
   "source": [
    "#os.chdir('/media/removable/USB Drive/wcmckee-git/' + lism)"
   ]
  },
  {
   "cell_type": "code",
   "execution_count": 9,
   "metadata": {
    "collapsed": true
   },
   "outputs": [],
   "source": [
    "#os.system('git pull')"
   ]
  },
  {
   "cell_type": "code",
   "execution_count": null,
   "metadata": {
    "collapsed": false
   },
   "outputs": [
    {
     "name": "stdout",
     "output_type": "stream",
     "text": [
      "autopaintpy123\n",
      "bacongamejam05\n",
      "battlenet\n",
      "bbc2wp\n",
      "bgj05-hungry\n",
      "BirdCage\n",
      "brobeur-static\n",
      "brobeur-web\n",
      "BroBeurFishingDream\n",
      "broLove\n",
      "clint\n",
      "cobal.eportfolio\n",
      "compohub\n",
      "DailyProgBot\n",
      "DeltaBot\n",
      "dockerfiles\n",
      "flask\n",
      "flask-ghpages-example\n",
      "ggj14\n",
      "hackage-server\n",
      "hamiltoncomputerclub.org.nz\n",
      "haskell-learn\n",
      "HTML5-Tiny\n",
      "html5lib-python\n",
      "iamagamer\n",
      "ihaskell-notebook\n",
      "imgur-python\n",
      "intercity\n",
      "intro_programming\n",
      "ipython"
     ]
    }
   ],
   "source": [
    "for lism in lismed:\n",
    "    print lism\n",
    "    os.chdir('/media/removable/USB Drive/wcmckee-git/' + lism)\n",
    "    os.system('git pull')"
   ]
  },
  {
   "cell_type": "code",
   "execution_count": null,
   "metadata": {
    "collapsed": true
   },
   "outputs": [],
   "source": []
  }
 ],
 "metadata": {
  "kernelspec": {
   "display_name": "Python 2",
   "name": "python2"
  },
  "language_info": {
   "codemirror_mode": {
    "name": "ipython",
    "version": 2
   },
   "file_extension": ".py",
   "mimetype": "text/x-python",
   "name": "python",
   "nbconvert_exporter": "python",
   "pygments_lexer": "ipython2",
   "version": "2.7.8"
  }
 },
 "nbformat": 4,
 "nbformat_minor": 0
}
