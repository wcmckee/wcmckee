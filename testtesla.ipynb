{
 "cells": [
  {
   "cell_type": "code",
   "execution_count": 329,
   "metadata": {
    "collapsed": false
   },
   "outputs": [],
   "source": [
    "import json\n",
    "import nose\n",
    "from cryptography.fernet import Fernet\n",
    "import getpass\n",
    "import pandas"
   ]
  },
  {
   "cell_type": "code",
   "execution_count": null,
   "metadata": {
    "collapsed": true
   },
   "outputs": [],
   "source": [
    "pandas.DataFrame()"
   ]
  },
  {
   "cell_type": "code",
   "execution_count": 49,
   "metadata": {
    "collapsed": false
   },
   "outputs": [
    {
     "name": "stdout",
     "output_type": "stream",
     "text": [
      "········\n"
     ]
    },
    {
     "data": {
      "text/plain": [
       "'1234'"
      ]
     },
     "execution_count": 49,
     "metadata": {},
     "output_type": "execute_result"
    }
   ],
   "source": [
    "getpass.getpass()"
   ]
  },
  {
   "cell_type": "code",
   "execution_count": 534,
   "metadata": {
    "collapsed": true
   },
   "outputs": [],
   "source": [
    "myusr = getpass.getuser()"
   ]
  },
  {
   "cell_type": "code",
   "execution_count": null,
   "metadata": {
    "collapsed": true
   },
   "outputs": [],
   "source": []
  },
  {
   "cell_type": "code",
   "execution_count": null,
   "metadata": {
    "collapsed": true
   },
   "outputs": [],
   "source": []
  },
  {
   "cell_type": "code",
   "execution_count": 50,
   "metadata": {
    "collapsed": false
   },
   "outputs": [
    {
     "name": "stdout",
     "output_type": "stream",
     "text": [
      "PASSWORD ········\n"
     ]
    }
   ],
   "source": [
    "tespas = getpass.getpass('PASSWORD ')"
   ]
  },
  {
   "cell_type": "code",
   "execution_count": 51,
   "metadata": {
    "collapsed": false
   },
   "outputs": [
    {
     "data": {
      "text/plain": [
       "'testblah'"
      ]
     },
     "execution_count": 51,
     "metadata": {},
     "output_type": "execute_result"
    }
   ],
   "source": [
    "tespas"
   ]
  },
  {
   "cell_type": "code",
   "execution_count": null,
   "metadata": {
    "collapsed": true
   },
   "outputs": [],
   "source": []
  },
  {
   "cell_type": "code",
   "execution_count": 52,
   "metadata": {
    "collapsed": false
   },
   "outputs": [],
   "source": [
    "mydict = ({ \"response\": { \"df\": False, \"dr\": False, \"pf\": False, \"pr\": False, \"ft\": False, \"rt\": False, \"car_verson\": \"1.19.42\", \"locked\": True, \"sun_roof_installed\": False, \"sun_roof_state\": \"unknown\", \"sun_roof_percent_open\": 0, \"dark_rims\": False, \"wheel_type\": \"Base19\", \"has_spoiler\": False, \"roof_color\": \"Colored\", \"perf_config\": \"Base\" } })"
   ]
  },
  {
   "cell_type": "code",
   "execution_count": 53,
   "metadata": {
    "collapsed": false
   },
   "outputs": [
    {
     "data": {
      "text/plain": [
       "'testblah'"
      ]
     },
     "execution_count": 53,
     "metadata": {},
     "output_type": "execute_result"
    }
   ],
   "source": [
    "tespas"
   ]
  },
  {
   "cell_type": "code",
   "execution_count": 330,
   "metadata": {
    "collapsed": false
   },
   "outputs": [
    {
     "data": {
      "text/html": [
       "<div style=\"max-height:1000px;max-width:1500px;overflow:auto;\">\n",
       "<table border=\"1\" class=\"dataframe\">\n",
       "  <thead>\n",
       "    <tr style=\"text-align: right;\">\n",
       "      <th></th>\n",
       "      <th>response</th>\n",
       "    </tr>\n",
       "  </thead>\n",
       "  <tbody>\n",
       "    <tr>\n",
       "      <th>car_verson</th>\n",
       "      <td> 1.19.42</td>\n",
       "    </tr>\n",
       "    <tr>\n",
       "      <th>dark_rims</th>\n",
       "      <td>   False</td>\n",
       "    </tr>\n",
       "    <tr>\n",
       "      <th>df</th>\n",
       "      <td>   False</td>\n",
       "    </tr>\n",
       "    <tr>\n",
       "      <th>dr</th>\n",
       "      <td>   False</td>\n",
       "    </tr>\n",
       "    <tr>\n",
       "      <th>ft</th>\n",
       "      <td>   False</td>\n",
       "    </tr>\n",
       "    <tr>\n",
       "      <th>has_spoiler</th>\n",
       "      <td>   False</td>\n",
       "    </tr>\n",
       "    <tr>\n",
       "      <th>locked</th>\n",
       "      <td>    True</td>\n",
       "    </tr>\n",
       "    <tr>\n",
       "      <th>perf_config</th>\n",
       "      <td>    Base</td>\n",
       "    </tr>\n",
       "    <tr>\n",
       "      <th>pf</th>\n",
       "      <td>   False</td>\n",
       "    </tr>\n",
       "    <tr>\n",
       "      <th>pr</th>\n",
       "      <td>   False</td>\n",
       "    </tr>\n",
       "    <tr>\n",
       "      <th>roof_color</th>\n",
       "      <td> Colored</td>\n",
       "    </tr>\n",
       "    <tr>\n",
       "      <th>rt</th>\n",
       "      <td>   False</td>\n",
       "    </tr>\n",
       "    <tr>\n",
       "      <th>sun_roof_installed</th>\n",
       "      <td>   False</td>\n",
       "    </tr>\n",
       "    <tr>\n",
       "      <th>sun_roof_percent_open</th>\n",
       "      <td>       0</td>\n",
       "    </tr>\n",
       "    <tr>\n",
       "      <th>sun_roof_state</th>\n",
       "      <td> unknown</td>\n",
       "    </tr>\n",
       "    <tr>\n",
       "      <th>wheel_type</th>\n",
       "      <td>  Base19</td>\n",
       "    </tr>\n",
       "  </tbody>\n",
       "</table>\n",
       "</div>"
      ],
      "text/plain": [
       "                      response\n",
       "car_verson             1.19.42\n",
       "dark_rims                False\n",
       "df                       False\n",
       "dr                       False\n",
       "ft                       False\n",
       "has_spoiler              False\n",
       "locked                    True\n",
       "perf_config               Base\n",
       "pf                       False\n",
       "pr                       False\n",
       "roof_color             Colored\n",
       "rt                       False\n",
       "sun_roof_installed       False\n",
       "sun_roof_percent_open        0\n",
       "sun_roof_state         unknown\n",
       "wheel_type              Base19"
      ]
     },
     "execution_count": 330,
     "metadata": {},
     "output_type": "execute_result"
    }
   ],
   "source": [
    "pandas.DataFrame(mydict)"
   ]
  },
  {
   "cell_type": "code",
   "execution_count": null,
   "metadata": {
    "collapsed": true
   },
   "outputs": [],
   "source": [
    "pandas.read_html"
   ]
  },
  {
   "cell_type": "code",
   "execution_count": 54,
   "metadata": {
    "collapsed": false
   },
   "outputs": [
    {
     "ename": "TypeError",
     "evalue": "string argument without an encoding",
     "output_type": "error",
     "traceback": [
      "\u001b[1;31m---------------------------------------------------------------------------\u001b[0m",
      "\u001b[1;31mTypeError\u001b[0m                                 Traceback (most recent call last)",
      "\u001b[1;32m<ipython-input-54-0345dd1d0c9e>\u001b[0m in \u001b[0;36m<module>\u001b[1;34m()\u001b[0m\n\u001b[1;32m----> 1\u001b[1;33m \u001b[0mbytes\u001b[0m\u001b[1;33m(\u001b[0m\u001b[0mtespas\u001b[0m\u001b[1;33m)\u001b[0m\u001b[1;33m\u001b[0m\u001b[0m\n\u001b[0m",
      "\u001b[1;31mTypeError\u001b[0m: string argument without an encoding"
     ]
    }
   ],
   "source": [
    "bytes(tespas)"
   ]
  },
  {
   "cell_type": "code",
   "execution_count": 553,
   "metadata": {
    "collapsed": false
   },
   "outputs": [
    {
     "data": {
      "text/plain": [
       "'qwer'"
      ]
     },
     "execution_count": 553,
     "metadata": {},
     "output_type": "execute_result"
    }
   ],
   "source": [
    "passwrdz"
   ]
  },
  {
   "cell_type": "code",
   "execution_count": 555,
   "metadata": {
    "collapsed": false
   },
   "outputs": [
    {
     "ename": "TypeError",
     "evalue": "string argument without an encoding",
     "output_type": "error",
     "traceback": [
      "\u001b[1;31m---------------------------------------------------------------------------\u001b[0m",
      "\u001b[1;31mTypeError\u001b[0m                                 Traceback (most recent call last)",
      "\u001b[1;32m<ipython-input-555-7402c0f373fa>\u001b[0m in \u001b[0;36m<module>\u001b[1;34m()\u001b[0m\n\u001b[1;32m----> 1\u001b[1;33m \u001b[0mbytes\u001b[0m\u001b[1;33m(\u001b[0m\u001b[0mpasswrdz\u001b[0m\u001b[1;33m)\u001b[0m\u001b[1;33m\u001b[0m\u001b[0m\n\u001b[0m",
      "\u001b[1;31mTypeError\u001b[0m: string argument without an encoding"
     ]
    }
   ],
   "source": [
    "bytes(passwrdz)"
   ]
  },
  {
   "cell_type": "code",
   "execution_count": null,
   "metadata": {
    "collapsed": true
   },
   "outputs": [],
   "source": []
  },
  {
   "cell_type": "code",
   "execution_count": null,
   "metadata": {
    "collapsed": true
   },
   "outputs": [],
   "source": []
  },
  {
   "cell_type": "code",
   "execution_count": 552,
   "metadata": {
    "collapsed": false
   },
   "outputs": [
    {
     "name": "stdout",
     "output_type": "stream",
     "text": [
      "b'gAAAAABX8hbEOH7D3P7Hp7lABeiluJ3b87eOVkdcsTw_qsnj9SX-4S6gUn6DCkqw0tYVKmCQ4N2S0qNnlJc0_jhob-QGiuXDsw=='\n"
     ]
    },
    {
     "data": {
      "text/plain": [
       "b'straz'"
      ]
     },
     "execution_count": 552,
     "metadata": {},
     "output_type": "execute_result"
    }
   ],
   "source": [
    "key = Fernet.generate_key()\n",
    "\n",
    "f = Fernet(key)\n",
    "token = f.encrypt(b'straz')\n",
    "print(token)\n",
    "'...'\n",
    "f.decrypt(token)"
   ]
  },
  {
   "cell_type": "code",
   "execution_count": 56,
   "metadata": {
    "collapsed": false
   },
   "outputs": [
    {
     "data": {
      "text/plain": [
       "b'_6f0rWWrb4q-sqhLyMO_H_VUffWbJ9vrooVGLwX8wYw='"
      ]
     },
     "execution_count": 56,
     "metadata": {},
     "output_type": "execute_result"
    }
   ],
   "source": [
    "key"
   ]
  },
  {
   "cell_type": "code",
   "execution_count": 57,
   "metadata": {
    "collapsed": true
   },
   "outputs": [],
   "source": [
    "tesveh = 'https://owner-api.teslamotors.com/api/1/vehicles/1/command/remote_start_drive?password='"
   ]
  },
  {
   "cell_type": "code",
   "execution_count": 58,
   "metadata": {
    "collapsed": false
   },
   "outputs": [
    {
     "data": {
      "text/plain": [
       "'https://owner-api.teslamotors.com/api/1/vehicles/1/command/remote_start_drive?password='"
      ]
     },
     "execution_count": 58,
     "metadata": {},
     "output_type": "execute_result"
    }
   ],
   "source": [
    "tesveh"
   ]
  },
  {
   "cell_type": "code",
   "execution_count": null,
   "metadata": {
    "collapsed": true
   },
   "outputs": [],
   "source": []
  },
  {
   "cell_type": "code",
   "execution_count": 59,
   "metadata": {
    "collapsed": false
   },
   "outputs": [
    {
     "ename": "SyntaxError",
     "evalue": "Missing parentheses in call to 'print' (<ipython-input-59-e1f8d6fef694>, line 9)",
     "output_type": "error",
     "traceback": [
      "\u001b[1;36m  File \u001b[1;32m\"<ipython-input-59-e1f8d6fef694>\"\u001b[1;36m, line \u001b[1;32m9\u001b[0m\n\u001b[1;33m    print response_body\u001b[0m\n\u001b[1;37m                      ^\u001b[0m\n\u001b[1;31mSyntaxError\u001b[0m\u001b[1;31m:\u001b[0m Missing parentheses in call to 'print'\n"
     ]
    }
   ],
   "source": [
    "from urllib2 import Request, urlopen\n",
    "\n",
    "headers = {\n",
    "  'Authorization': 'Bearer {access_token}'\n",
    "}\n",
    "request = Request('https://owner-api.teslamotors.com/api/1/vehicles/1/command/remote_start_drive?password=edisonsux', headers=headers)\n",
    "\n",
    "response_body = urlopen(request).read()\n",
    "print response_body"
   ]
  },
  {
   "cell_type": "code",
   "execution_count": null,
   "metadata": {
    "collapsed": true
   },
   "outputs": [],
   "source": []
  },
  {
   "cell_type": "code",
   "execution_count": 60,
   "metadata": {
    "collapsed": false
   },
   "outputs": [],
   "source": [
    "doorquen = (mydict['response']['df'], mydict['response']['dr'], mydict['response']['pf'], mydict['response']['pr'])"
   ]
  },
  {
   "cell_type": "code",
   "execution_count": 61,
   "metadata": {
    "collapsed": false
   },
   "outputs": [
    {
     "data": {
      "text/plain": [
       "(False, False, False, False)"
      ]
     },
     "execution_count": 61,
     "metadata": {},
     "output_type": "execute_result"
    }
   ],
   "source": [
    "doorquen"
   ]
  },
  {
   "cell_type": "code",
   "execution_count": 546,
   "metadata": {
    "collapsed": false
   },
   "outputs": [
    {
     "data": {
      "text/plain": [
       "b'_6f0rWWrb4q-sqhLyMO_H_VUffWbJ9vrooVGLwX8wYw='"
      ]
     },
     "execution_count": 546,
     "metadata": {},
     "output_type": "execute_result"
    }
   ],
   "source": [
    "key"
   ]
  },
  {
   "cell_type": "code",
   "execution_count": 550,
   "metadata": {
    "collapsed": false
   },
   "outputs": [
    {
     "ename": "NameError",
     "evalue": "name 'b' is not defined",
     "output_type": "error",
     "traceback": [
      "\u001b[1;31m---------------------------------------------------------------------------\u001b[0m",
      "\u001b[1;31mNameError\u001b[0m                                 Traceback (most recent call last)",
      "\u001b[1;32m<ipython-input-550-70af2497084c>\u001b[0m in \u001b[0;36m<module>\u001b[1;34m()\u001b[0m\n\u001b[1;32m----> 1\u001b[1;33m \u001b[0mf\u001b[0m\u001b[1;33m.\u001b[0m\u001b[0mencrypt\u001b[0m\u001b[1;33m(\u001b[0m\u001b[0mbytes\u001b[0m\u001b[1;33m(\u001b[0m\u001b[0mb\u001b[0m\u001b[1;33m(\u001b[0m\u001b[0mpasswrdz\u001b[0m\u001b[1;33m)\u001b[0m\u001b[1;33m)\u001b[0m\u001b[1;33m)\u001b[0m\u001b[1;33m\u001b[0m\u001b[0m\n\u001b[0m",
      "\u001b[1;31mNameError\u001b[0m: name 'b' is not defined"
     ]
    }
   ],
   "source": [
    "f.encrypt(bytes(b + ' + passwrdz + '))"
   ]
  },
  {
   "cell_type": "code",
   "execution_count": null,
   "metadata": {
    "collapsed": true
   },
   "outputs": [],
   "source": []
  },
  {
   "cell_type": "code",
   "execution_count": 62,
   "metadata": {
    "collapsed": true
   },
   "outputs": [],
   "source": [
    "keyencr = f.encrypt(key)"
   ]
  },
  {
   "cell_type": "code",
   "execution_count": 63,
   "metadata": {
    "collapsed": false
   },
   "outputs": [
    {
     "data": {
      "text/plain": [
       "b'gAAAAABX8DtbzHXTSFfmhBbMBj3CW59lJJsGaApt5tpmao4dLQLSDP4ZKnOW3N0pJzIIqqNZjo3D7dhwIBzgMwdLFuFcWgsX3axBfIZCUgawwSdNNbiiyIj3jwgyVqQjA4i1NP5Rq1NW'"
      ]
     },
     "execution_count": 63,
     "metadata": {},
     "output_type": "execute_result"
    }
   ],
   "source": [
    "keyencr"
   ]
  },
  {
   "cell_type": "code",
   "execution_count": 64,
   "metadata": {
    "collapsed": false
   },
   "outputs": [
    {
     "ename": "InvalidToken",
     "evalue": "",
     "output_type": "error",
     "traceback": [
      "\u001b[1;31m---------------------------------------------------------------------------\u001b[0m",
      "\u001b[1;31mInvalidSignature\u001b[0m                          Traceback (most recent call last)",
      "\u001b[1;32m/usr/lib/python3/dist-packages/cryptography/fernet.py\u001b[0m in \u001b[0;36mdecrypt\u001b[1;34m(self, token, ttl)\u001b[0m\n\u001b[0;32m    107\u001b[0m         \u001b[1;32mtry\u001b[0m\u001b[1;33m:\u001b[0m\u001b[1;33m\u001b[0m\u001b[0m\n\u001b[1;32m--> 108\u001b[1;33m             \u001b[0mh\u001b[0m\u001b[1;33m.\u001b[0m\u001b[0mverify\u001b[0m\u001b[1;33m(\u001b[0m\u001b[0mdata\u001b[0m\u001b[1;33m[\u001b[0m\u001b[1;33m-\u001b[0m\u001b[1;36m32\u001b[0m\u001b[1;33m:\u001b[0m\u001b[1;33m]\u001b[0m\u001b[1;33m)\u001b[0m\u001b[1;33m\u001b[0m\u001b[0m\n\u001b[0m\u001b[0;32m    109\u001b[0m         \u001b[1;32mexcept\u001b[0m \u001b[0mInvalidSignature\u001b[0m\u001b[1;33m:\u001b[0m\u001b[1;33m\u001b[0m\u001b[0m\n",
      "\u001b[1;32m/usr/lib/python3/dist-packages/cryptography/hazmat/primitives/hmac.py\u001b[0m in \u001b[0;36mverify\u001b[1;34m(self, signature)\u001b[0m\n\u001b[0;32m     72\u001b[0m         \u001b[1;32mif\u001b[0m \u001b[1;32mnot\u001b[0m \u001b[0mconstant_time\u001b[0m\u001b[1;33m.\u001b[0m\u001b[0mbytes_eq\u001b[0m\u001b[1;33m(\u001b[0m\u001b[0mdigest\u001b[0m\u001b[1;33m,\u001b[0m \u001b[0msignature\u001b[0m\u001b[1;33m)\u001b[0m\u001b[1;33m:\u001b[0m\u001b[1;33m\u001b[0m\u001b[0m\n\u001b[1;32m---> 73\u001b[1;33m             \u001b[1;32mraise\u001b[0m \u001b[0mInvalidSignature\u001b[0m\u001b[1;33m(\u001b[0m\u001b[1;34m\"Signature did not match digest.\"\u001b[0m\u001b[1;33m)\u001b[0m\u001b[1;33m\u001b[0m\u001b[0m\n\u001b[0m",
      "\u001b[1;31mInvalidSignature\u001b[0m: Signature did not match digest.",
      "\nDuring handling of the above exception, another exception occurred:\n",
      "\u001b[1;31mInvalidToken\u001b[0m                              Traceback (most recent call last)",
      "\u001b[1;32m<ipython-input-64-29f923c05c26>\u001b[0m in \u001b[0;36m<module>\u001b[1;34m()\u001b[0m\n\u001b[1;32m----> 1\u001b[1;33m \u001b[0mf\u001b[0m\u001b[1;33m.\u001b[0m\u001b[0mdecrypt\u001b[0m\u001b[1;33m(\u001b[0m\u001b[0mtoken\u001b[0m\u001b[1;33m)\u001b[0m\u001b[1;33m\u001b[0m\u001b[0m\n\u001b[0m",
      "\u001b[1;32m/usr/lib/python3/dist-packages/cryptography/fernet.py\u001b[0m in \u001b[0;36mdecrypt\u001b[1;34m(self, token, ttl)\u001b[0m\n\u001b[0;32m    108\u001b[0m             \u001b[0mh\u001b[0m\u001b[1;33m.\u001b[0m\u001b[0mverify\u001b[0m\u001b[1;33m(\u001b[0m\u001b[0mdata\u001b[0m\u001b[1;33m[\u001b[0m\u001b[1;33m-\u001b[0m\u001b[1;36m32\u001b[0m\u001b[1;33m:\u001b[0m\u001b[1;33m]\u001b[0m\u001b[1;33m)\u001b[0m\u001b[1;33m\u001b[0m\u001b[0m\n\u001b[0;32m    109\u001b[0m         \u001b[1;32mexcept\u001b[0m \u001b[0mInvalidSignature\u001b[0m\u001b[1;33m:\u001b[0m\u001b[1;33m\u001b[0m\u001b[0m\n\u001b[1;32m--> 110\u001b[1;33m             \u001b[1;32mraise\u001b[0m \u001b[0mInvalidToken\u001b[0m\u001b[1;33m\u001b[0m\u001b[0m\n\u001b[0m\u001b[0;32m    111\u001b[0m \u001b[1;33m\u001b[0m\u001b[0m\n\u001b[0;32m    112\u001b[0m         \u001b[0miv\u001b[0m \u001b[1;33m=\u001b[0m \u001b[0mdata\u001b[0m\u001b[1;33m[\u001b[0m\u001b[1;36m9\u001b[0m\u001b[1;33m:\u001b[0m\u001b[1;36m25\u001b[0m\u001b[1;33m]\u001b[0m\u001b[1;33m\u001b[0m\u001b[0m\n",
      "\u001b[1;31mInvalidToken\u001b[0m: "
     ]
    }
   ],
   "source": [
    "f.decrypt(token)"
   ]
  },
  {
   "cell_type": "markdown",
   "metadata": {},
   "source": [
    "Control Tesla Cars \n",
    "\n",
    "Test setting temp based on local weather.\n",
    "\n",
    "driver_temp=\n",
    "\n",
    "passenger_temp=\n",
    "\n",
    "This is a delivery system. replace buses in cities with electrical cars. These cars run the same route as buses. \n",
    "\n",
    "\n",
    "Going to change the radio \n",
    "\n",
    "More indepth Tesla car stats. Returns the Raspberry Pi media system onboard that is used to stream media to the car. Pluhs in to the cars stero. Allows passangers in the bar to reclievve calls. Broadcast wifi. Each car has its own router that it uses to comm with the outside world. Canera t oo report how everything is goiing. If things are wrong realtime images of what is happening. The ability to for remote login and control. HAM Radio broadcast. Each car is broadcasting a media center that offers storage space and media. You are able to connect to any of these Tesla cars and access the services they offer. If for some reason they are not to total standards then you can retry. \n",
    "\n",
    "Nux the \n",
    "\n",
    "Switch between low and high heat. \n",
    "\n",
    "passanger temp\n",
    "\n",
    "config file with times to auto start the car. driverless commands. sync to meetup and drive to where the meetups are happening\n",
    "\n",
    "\n",
    "{\n",
    "  \"response\": {\n",
    "    \"inside_temp\": 17.0,          // degC inside car\n",
    "    \"outside_temp\": 9.5,          // degC outside car or null\n",
    "    \"driver_temp_setting\": 22.6,  // degC of driver temperature setpoint\n",
    "    \"passenger_temp_setting\": 22.6, // degC of passenger temperature setpoint\n",
    "    \"is_auto_conditioning_on\": false, // apparently even if on\n",
    "    \"is_front_defroster_on\": null, // null or boolean as integer?\n",
    "    \"is_rear_defroster_on\": false,\n",
    "    \"fan_status\": 0               // fan speed 0-6 or null\n",
    "  }\n",
    "}"
   ]
  },
  {
   "cell_type": "code",
   "execution_count": 345,
   "metadata": {
    "collapsed": true
   },
   "outputs": [],
   "source": [
    "TESLACONFIG = ('TESLA CONTROL BRUM BRUM')"
   ]
  },
  {
   "cell_type": "code",
   "execution_count": 346,
   "metadata": {
    "collapsed": false
   },
   "outputs": [
    {
     "name": "stdout",
     "output_type": "stream",
     "text": [
      "TESLA CONTROL BRUM BRUM\n"
     ]
    }
   ],
   "source": [
    "print(TESLACONFIG)"
   ]
  },
  {
   "cell_type": "code",
   "execution_count": null,
   "metadata": {
    "collapsed": true
   },
   "outputs": [],
   "source": []
  },
  {
   "cell_type": "code",
   "execution_count": 347,
   "metadata": {
    "collapsed": false
   },
   "outputs": [
    {
     "name": "stdout",
     "output_type": "stream",
     "text": [
      "PASSWORD ENTER ········\n",
      "AMERICAN SETTINGS Y/n Y\n",
      "DRIVER LOW TEMP SET AS: 12\n",
      "DRIVER HIGH TEMP SET AS: 23\n",
      "PASS LOW TEMP SET AS: 15\n",
      "PASS HIGH TEMP SET AS: 28\n",
      "OPEN DRIVERS DOOR Y/n Y\n",
      "UNLOCK CAR Y/n Y\n",
      "VALET MODE Y/n Y\n",
      "4 PIN NUMBER: ········\n"
     ]
    }
   ],
   "source": [
    "passwrdz = getpass.getpass(\"PASSWORD ENTER \")\n",
    "\n",
    "askmileorkilo = input('AMERICAN SETTINGS Y/n ')\n",
    "\n",
    "setlowtemp = input('DRIVER LOW TEMP SET AS: ')\n",
    "\n",
    "sethightemp = input('DRIVER HIGH TEMP SET AS: ')\n",
    "\n",
    "\n",
    "setpasslow = input('PASS LOW TEMP SET AS: ')\n",
    "\n",
    "setpashight = input('PASS HIGH TEMP SET AS: ')\n",
    "\n",
    "openDriversDoor = input('OPEN DRIVERS DOOR Y/n ')\n",
    "\n",
    "unlockcar = input('UNLOCK CAR Y/n ')\n",
    "\n",
    "valetmode = input('VALET MODE Y/n ')\n",
    "\n",
    "valetpass = getpass.getpass('4 PIN NUMBER: ')\n"
   ]
  },
  {
   "cell_type": "code",
   "execution_count": 348,
   "metadata": {
    "collapsed": false
   },
   "outputs": [
    {
     "data": {
      "text/plain": [
       "'qwer'"
      ]
     },
     "execution_count": 348,
     "metadata": {},
     "output_type": "execute_result"
    }
   ],
   "source": [
    "passwrdz"
   ]
  },
  {
   "cell_type": "code",
   "execution_count": 349,
   "metadata": {
    "collapsed": false
   },
   "outputs": [],
   "source": [
    "valint = int(valetpass)"
   ]
  },
  {
   "cell_type": "code",
   "execution_count": 350,
   "metadata": {
    "collapsed": false
   },
   "outputs": [
    {
     "name": "stdout",
     "output_type": "stream",
     "text": [
      "Current from -1 to 1: .5\n"
     ]
    }
   ],
   "source": [
    "SETCURRENTZ = input('Current from -1 to 1: ')"
   ]
  },
  {
   "cell_type": "code",
   "execution_count": 351,
   "metadata": {
    "collapsed": false
   },
   "outputs": [],
   "source": [
    "flsecur = float(SETCURRENTZ)"
   ]
  },
  {
   "cell_type": "code",
   "execution_count": 352,
   "metadata": {
    "collapsed": false
   },
   "outputs": [
    {
     "data": {
      "text/plain": [
       "0.5"
      ]
     },
     "execution_count": 352,
     "metadata": {},
     "output_type": "execute_result"
    }
   ],
   "source": [
    "flsecur"
   ]
  },
  {
   "cell_type": "code",
   "execution_count": null,
   "metadata": {
    "collapsed": true
   },
   "outputs": [],
   "source": []
  },
  {
   "cell_type": "code",
   "execution_count": 353,
   "metadata": {
    "collapsed": false
   },
   "outputs": [
    {
     "ename": "ValueError",
     "evalue": "invalid literal for int() with base 10: '.5'",
     "output_type": "error",
     "traceback": [
      "\u001b[1;31m---------------------------------------------------------------------------\u001b[0m",
      "\u001b[1;31mValueError\u001b[0m                                Traceback (most recent call last)",
      "\u001b[1;32m<ipython-input-353-8e461e16f3a4>\u001b[0m in \u001b[0;36m<module>\u001b[1;34m()\u001b[0m\n\u001b[1;32m----> 1\u001b[1;33m \u001b[0mint\u001b[0m\u001b[1;33m(\u001b[0m\u001b[0mSETCURRENTZ\u001b[0m\u001b[1;33m)\u001b[0m\u001b[1;33m\u001b[0m\u001b[0m\n\u001b[0m",
      "\u001b[1;31mValueError\u001b[0m: invalid literal for int() with base 10: '.5'"
     ]
    }
   ],
   "source": [
    "int(SETCURRENTZ)"
   ]
  },
  {
   "cell_type": "code",
   "execution_count": null,
   "metadata": {
    "collapsed": true
   },
   "outputs": [],
   "source": []
  },
  {
   "cell_type": "code",
   "execution_count": null,
   "metadata": {
    "collapsed": true
   },
   "outputs": [],
   "source": []
  },
  {
   "cell_type": "code",
   "execution_count": 542,
   "metadata": {
    "collapsed": false
   },
   "outputs": [
    {
     "ename": "TypeError",
     "evalue": "string argument without an encoding",
     "output_type": "error",
     "traceback": [
      "\u001b[1;31m---------------------------------------------------------------------------\u001b[0m",
      "\u001b[1;31mTypeError\u001b[0m                                 Traceback (most recent call last)",
      "\u001b[1;32m<ipython-input-542-7402c0f373fa>\u001b[0m in \u001b[0;36m<module>\u001b[1;34m()\u001b[0m\n\u001b[1;32m----> 1\u001b[1;33m \u001b[0mbytes\u001b[0m\u001b[1;33m(\u001b[0m\u001b[0mpasswrdz\u001b[0m\u001b[1;33m)\u001b[0m\u001b[1;33m\u001b[0m\u001b[0m\n\u001b[0m",
      "\u001b[1;31mTypeError\u001b[0m: string argument without an encoding"
     ]
    }
   ],
   "source": [
    "bytes(passwrdz)"
   ]
  },
  {
   "cell_type": "code",
   "execution_count": 543,
   "metadata": {
    "collapsed": true
   },
   "outputs": [],
   "source": [
    "import cryptography"
   ]
  },
  {
   "cell_type": "code",
   "execution_count": 545,
   "metadata": {
    "collapsed": false
   },
   "outputs": [
    {
     "ename": "TypeError",
     "evalue": "'module' object is not callable",
     "output_type": "error",
     "traceback": [
      "\u001b[1;31m---------------------------------------------------------------------------\u001b[0m",
      "\u001b[1;31mTypeError\u001b[0m                                 Traceback (most recent call last)",
      "\u001b[1;32m<ipython-input-545-784b777cfd32>\u001b[0m in \u001b[0;36m<module>\u001b[1;34m()\u001b[0m\n\u001b[1;32m----> 1\u001b[1;33m \u001b[0mfercypo\u001b[0m \u001b[1;33m=\u001b[0m \u001b[0mcryptography\u001b[0m\u001b[1;33m.\u001b[0m\u001b[0mfernet\u001b[0m\u001b[1;33m(\u001b[0m\u001b[1;33m)\u001b[0m\u001b[1;33m\u001b[0m\u001b[0m\n\u001b[0m",
      "\u001b[1;31mTypeError\u001b[0m: 'module' object is not callable"
     ]
    }
   ],
   "source": [
    "fercypo = cryptography.fernet()"
   ]
  },
  {
   "cell_type": "code",
   "execution_count": null,
   "metadata": {
    "collapsed": true
   },
   "outputs": [],
   "source": []
  },
  {
   "cell_type": "code",
   "execution_count": null,
   "metadata": {
    "collapsed": true
   },
   "outputs": [],
   "source": []
  },
  {
   "cell_type": "markdown",
   "metadata": {},
   "source": [
    "{\n",
    "        \"portal_url\": \"https://owner-api.teslamotors.com/api/1/vehicles/\",\n",
    "        \"stream_url\": \"https://streaming.vn.teslamotors.com/stream/\",\n",
    "        \"username\": \"yourMyTeslaLogin@email.com\",\n",
    "        \"password\": \"yourPassword\",\n",
    "        \"output_file\": \"stream_output.txt\"\n",
    "}"
   ]
  },
  {
   "cell_type": "code",
   "execution_count": 540,
   "metadata": {
    "collapsed": false
   },
   "outputs": [
    {
     "ename": "TypeError",
     "evalue": "string argument without an encoding",
     "output_type": "error",
     "traceback": [
      "\u001b[1;31m---------------------------------------------------------------------------\u001b[0m",
      "\u001b[1;31mTypeError\u001b[0m                                 Traceback (most recent call last)",
      "\u001b[1;32m<ipython-input-540-7402c0f373fa>\u001b[0m in \u001b[0;36m<module>\u001b[1;34m()\u001b[0m\n\u001b[1;32m----> 1\u001b[1;33m \u001b[0mbytes\u001b[0m\u001b[1;33m(\u001b[0m\u001b[0mpasswrdz\u001b[0m\u001b[1;33m)\u001b[0m\u001b[1;33m\u001b[0m\u001b[0m\n\u001b[0m",
      "\u001b[1;31mTypeError\u001b[0m: string argument without an encoding"
     ]
    }
   ],
   "source": [
    "bytes(passwrdz)"
   ]
  },
  {
   "cell_type": "code",
   "execution_count": null,
   "metadata": {
    "collapsed": true
   },
   "outputs": [],
   "source": []
  },
  {
   "cell_type": "code",
   "execution_count": 354,
   "metadata": {
    "collapsed": false
   },
   "outputs": [
    {
     "data": {
      "text/plain": [
       "b'\\x00\\x00\\x00\\x00\\x00\\x00\\x00\\x00\\x00\\x00\\x00\\x00\\x00\\x00\\x00\\x00\\x00\\x00\\x00\\x00\\x00\\x00\\x00\\x00\\x00\\x00\\x00\\x00\\x00\\x00\\x00\\x00\\x00\\x00\\x00\\x00\\x00\\x00\\x00\\x00\\x00\\x00\\x00\\x00\\x00\\x00\\x00\\x00\\x00\\x00\\x00\\x00\\x00\\x00\\x00\\x00\\x00\\x00\\x00\\x00\\x00\\x00\\x00\\x00\\x00\\x00\\x00\\x00\\x00\\x00\\x00\\x00\\x00\\x00\\x00\\x00\\x00\\x00\\x00\\x00\\x00\\x00\\x00\\x00\\x00\\x00\\x00\\x00\\x00\\x00\\x00\\x00\\x00\\x00\\x00\\x00\\x00\\x00\\x00\\x00\\x00\\x00\\x00\\x00\\x00\\x00\\x00\\x00\\x00\\x00\\x00\\x00\\x00\\x00\\x00\\x00\\x00\\x00\\x00\\x00\\x00\\x00\\x00\\x00\\x00\\x00\\x00\\x00\\x00\\x00\\x00\\x00\\x00\\x00\\x00\\x00\\x00\\x00\\x00\\x00\\x00\\x00\\x00\\x00\\x00\\x00\\x00\\x00\\x00\\x00\\x00\\x00\\x00\\x00\\x00\\x00\\x00\\x00\\x00\\x00\\x00\\x00\\x00\\x00\\x00\\x00\\x00\\x00\\x00\\x00\\x00\\x00\\x00\\x00\\x00\\x00\\x00\\x00\\x00\\x00\\x00\\x00\\x00\\x00\\x00\\x00\\x00\\x00\\x00\\x00\\x00\\x00\\x00\\x00\\x00\\x00\\x00\\x00\\x00\\x00\\x00\\x00\\x00\\x00\\x00\\x00\\x00\\x00\\x00\\x00\\x00\\x00\\x00\\x00\\x00\\x00\\x00\\x00\\x00\\x00\\x00\\x00\\x00\\x00\\x00\\x00\\x00\\x00\\x00\\x00\\x00\\x00\\x00\\x00\\x00\\x00\\x00\\x00\\x00\\x00\\x00\\x00\\x00\\x00\\x00\\x00\\x00\\x00\\x00\\x00\\x00\\x00\\x00\\x00\\x00\\x00\\x00\\x00\\x00\\x00\\x00\\x00\\x00\\x00\\x00\\x00\\x00\\x00\\x00\\x00\\x00\\x00\\x00\\x00\\x00\\x00\\x00\\x00\\x00\\x00\\x00\\x00\\x00\\x00\\x00\\x00\\x00\\x00\\x00\\x00\\x00\\x00\\x00\\x00\\x00\\x00\\x00\\x00\\x00\\x00\\x00\\x00\\x00\\x00\\x00\\x00\\x00\\x00\\x00\\x00\\x00\\x00\\x00\\x00\\x00\\x00\\x00\\x00\\x00\\x00\\x00\\x00\\x00\\x00\\x00\\x00\\x00\\x00\\x00\\x00\\x00\\x00\\x00\\x00\\x00\\x00\\x00\\x00\\x00\\x00\\x00\\x00\\x00\\x00\\x00\\x00\\x00\\x00\\x00\\x00\\x00\\x00\\x00\\x00\\x00\\x00\\x00\\x00\\x00\\x00\\x00\\x00\\x00\\x00\\x00\\x00\\x00\\x00\\x00\\x00\\x00\\x00\\x00\\x00\\x00\\x00\\x00\\x00\\x00\\x00\\x00\\x00\\x00\\x00\\x00\\x00\\x00\\x00\\x00\\x00\\x00\\x00\\x00\\x00\\x00\\x00\\x00\\x00\\x00\\x00\\x00\\x00\\x00\\x00\\x00\\x00\\x00\\x00\\x00\\x00\\x00\\x00\\x00\\x00\\x00\\x00\\x00\\x00\\x00\\x00\\x00\\x00\\x00\\x00\\x00\\x00\\x00\\x00\\x00\\x00\\x00\\x00\\x00\\x00\\x00\\x00\\x00\\x00\\x00\\x00\\x00\\x00\\x00\\x00\\x00\\x00\\x00\\x00\\x00\\x00\\x00\\x00\\x00\\x00\\x00\\x00\\x00\\x00\\x00\\x00\\x00\\x00\\x00\\x00\\x00\\x00\\x00\\x00\\x00\\x00\\x00\\x00\\x00\\x00\\x00\\x00\\x00\\x00\\x00\\x00\\x00\\x00\\x00\\x00\\x00\\x00\\x00\\x00\\x00\\x00\\x00\\x00\\x00\\x00\\x00\\x00\\x00\\x00\\x00\\x00\\x00\\x00\\x00\\x00\\x00\\x00\\x00\\x00\\x00\\x00\\x00\\x00\\x00\\x00\\x00\\x00\\x00\\x00\\x00\\x00\\x00\\x00\\x00\\x00\\x00\\x00\\x00\\x00\\x00\\x00\\x00\\x00\\x00\\x00\\x00\\x00\\x00\\x00\\x00\\x00\\x00\\x00\\x00\\x00\\x00\\x00\\x00\\x00\\x00\\x00\\x00\\x00\\x00\\x00\\x00\\x00\\x00\\x00\\x00\\x00\\x00\\x00\\x00\\x00\\x00\\x00\\x00\\x00\\x00\\x00\\x00\\x00\\x00\\x00\\x00\\x00\\x00\\x00\\x00\\x00\\x00\\x00\\x00\\x00\\x00\\x00\\x00\\x00\\x00\\x00\\x00\\x00\\x00\\x00\\x00\\x00\\x00\\x00\\x00\\x00\\x00\\x00\\x00\\x00\\x00\\x00\\x00\\x00\\x00\\x00\\x00\\x00\\x00\\x00\\x00\\x00\\x00\\x00\\x00\\x00\\x00\\x00\\x00\\x00\\x00\\x00\\x00\\x00\\x00\\x00\\x00\\x00\\x00\\x00\\x00\\x00\\x00\\x00\\x00\\x00\\x00\\x00\\x00\\x00\\x00\\x00\\x00\\x00\\x00\\x00\\x00\\x00\\x00\\x00\\x00\\x00\\x00\\x00\\x00\\x00\\x00\\x00\\x00\\x00\\x00\\x00\\x00\\x00\\x00\\x00\\x00\\x00\\x00\\x00\\x00\\x00\\x00\\x00\\x00\\x00\\x00\\x00\\x00\\x00\\x00\\x00\\x00\\x00\\x00\\x00\\x00\\x00\\x00\\x00\\x00\\x00\\x00\\x00\\x00\\x00\\x00\\x00\\x00\\x00\\x00\\x00\\x00\\x00\\x00\\x00\\x00\\x00\\x00\\x00\\x00\\x00\\x00\\x00\\x00\\x00\\x00\\x00\\x00\\x00\\x00\\x00\\x00\\x00\\x00\\x00\\x00\\x00\\x00\\x00\\x00\\x00\\x00\\x00\\x00\\x00\\x00\\x00\\x00\\x00\\x00\\x00\\x00\\x00\\x00\\x00\\x00\\x00\\x00\\x00\\x00\\x00\\x00\\x00\\x00\\x00\\x00\\x00\\x00\\x00\\x00\\x00\\x00\\x00\\x00\\x00\\x00\\x00\\x00\\x00\\x00\\x00\\x00\\x00\\x00\\x00\\x00\\x00\\x00\\x00\\x00\\x00\\x00\\x00\\x00\\x00\\x00\\x00\\x00\\x00\\x00\\x00\\x00\\x00\\x00\\x00\\x00\\x00\\x00\\x00\\x00\\x00\\x00\\x00\\x00\\x00\\x00\\x00\\x00\\x00\\x00\\x00\\x00\\x00\\x00\\x00\\x00\\x00\\x00\\x00\\x00\\x00\\x00\\x00\\x00\\x00\\x00\\x00\\x00\\x00\\x00\\x00\\x00\\x00\\x00\\x00\\x00\\x00\\x00\\x00\\x00\\x00\\x00\\x00\\x00\\x00\\x00\\x00\\x00\\x00\\x00\\x00\\x00\\x00\\x00\\x00\\x00\\x00\\x00\\x00\\x00\\x00\\x00\\x00\\x00\\x00\\x00\\x00\\x00\\x00\\x00\\x00\\x00\\x00\\x00\\x00\\x00\\x00\\x00\\x00\\x00\\x00\\x00\\x00\\x00\\x00\\x00\\x00\\x00\\x00\\x00\\x00\\x00\\x00\\x00\\x00\\x00\\x00\\x00\\x00\\x00\\x00\\x00\\x00\\x00\\x00\\x00\\x00\\x00\\x00\\x00\\x00\\x00\\x00\\x00\\x00\\x00\\x00\\x00\\x00\\x00\\x00\\x00\\x00\\x00\\x00\\x00\\x00\\x00\\x00\\x00\\x00\\x00\\x00\\x00\\x00\\x00\\x00\\x00\\x00\\x00\\x00\\x00\\x00\\x00\\x00\\x00\\x00\\x00\\x00\\x00\\x00\\x00\\x00\\x00\\x00\\x00\\x00\\x00\\x00\\x00\\x00\\x00\\x00\\x00\\x00\\x00\\x00\\x00\\x00\\x00\\x00\\x00\\x00\\x00\\x00\\x00\\x00\\x00\\x00\\x00\\x00\\x00\\x00\\x00\\x00\\x00\\x00\\x00\\x00\\x00\\x00\\x00\\x00\\x00\\x00\\x00\\x00\\x00\\x00\\x00\\x00\\x00\\x00\\x00\\x00\\x00\\x00\\x00\\x00\\x00\\x00\\x00\\x00\\x00\\x00\\x00\\x00\\x00\\x00\\x00\\x00\\x00\\x00\\x00\\x00\\x00\\x00\\x00\\x00\\x00\\x00\\x00\\x00\\x00\\x00\\x00\\x00\\x00\\x00\\x00\\x00\\x00\\x00\\x00\\x00\\x00\\x00\\x00\\x00\\x00\\x00\\x00\\x00\\x00\\x00\\x00\\x00\\x00\\x00\\x00\\x00\\x00\\x00\\x00\\x00\\x00\\x00\\x00\\x00\\x00\\x00\\x00\\x00\\x00\\x00\\x00\\x00\\x00\\x00\\x00\\x00\\x00\\x00\\x00\\x00\\x00\\x00\\x00\\x00\\x00\\x00\\x00\\x00\\x00\\x00\\x00\\x00\\x00\\x00\\x00\\x00\\x00\\x00\\x00\\x00\\x00\\x00\\x00\\x00\\x00\\x00\\x00\\x00\\x00\\x00\\x00\\x00\\x00\\x00\\x00\\x00\\x00\\x00\\x00\\x00\\x00\\x00\\x00\\x00\\x00\\x00\\x00\\x00\\x00\\x00\\x00\\x00\\x00\\x00\\x00\\x00\\x00\\x00\\x00\\x00\\x00\\x00\\x00\\x00\\x00\\x00\\x00\\x00\\x00\\x00\\x00\\x00\\x00\\x00\\x00\\x00\\x00\\x00\\x00\\x00\\x00\\x00\\x00\\x00\\x00\\x00\\x00\\x00\\x00\\x00\\x00\\x00\\x00\\x00\\x00\\x00\\x00\\x00\\x00\\x00\\x00\\x00\\x00\\x00\\x00\\x00\\x00\\x00\\x00\\x00\\x00\\x00\\x00\\x00\\x00\\x00\\x00\\x00\\x00\\x00\\x00\\x00\\x00\\x00\\x00\\x00\\x00\\x00\\x00\\x00\\x00\\x00\\x00\\x00\\x00\\x00\\x00\\x00\\x00\\x00\\x00\\x00\\x00\\x00'"
      ]
     },
     "execution_count": 354,
     "metadata": {},
     "output_type": "execute_result"
    }
   ],
   "source": [
    "bytes(valint)"
   ]
  },
  {
   "cell_type": "code",
   "execution_count": 355,
   "metadata": {
    "collapsed": false
   },
   "outputs": [
    {
     "data": {
      "text/plain": [
       "b'h0ewmJ2G-zH6NQYJ0Apbuc9BN7XHIZKYQxlN9MOLTF0='"
      ]
     },
     "execution_count": 355,
     "metadata": {},
     "output_type": "execute_result"
    }
   ],
   "source": [
    "f.generate_key()"
   ]
  },
  {
   "cell_type": "code",
   "execution_count": 356,
   "metadata": {
    "collapsed": false
   },
   "outputs": [
    {
     "ename": "TypeError",
     "evalue": "string argument without an encoding",
     "output_type": "error",
     "traceback": [
      "\u001b[1;31m---------------------------------------------------------------------------\u001b[0m",
      "\u001b[1;31mTypeError\u001b[0m                                 Traceback (most recent call last)",
      "\u001b[1;32m<ipython-input-356-dd24d348d65f>\u001b[0m in \u001b[0;36m<module>\u001b[1;34m()\u001b[0m\n\u001b[1;32m----> 1\u001b[1;33m \u001b[0mtokche\u001b[0m \u001b[1;33m=\u001b[0m \u001b[0mf\u001b[0m\u001b[1;33m.\u001b[0m\u001b[0mencrypt\u001b[0m\u001b[1;33m(\u001b[0m\u001b[0mbytes\u001b[0m\u001b[1;33m(\u001b[0m\u001b[0mstr\u001b[0m\u001b[1;33m(\u001b[0m\u001b[0mpasswrdz\u001b[0m\u001b[1;33m)\u001b[0m\u001b[1;33m)\u001b[0m\u001b[1;33m)\u001b[0m\u001b[1;33m\u001b[0m\u001b[0m\n\u001b[0m",
      "\u001b[1;31mTypeError\u001b[0m: string argument without an encoding"
     ]
    }
   ],
   "source": [
    "tokche = f.encrypt(bytes(str(passwrdz)))"
   ]
  },
  {
   "cell_type": "code",
   "execution_count": null,
   "metadata": {
    "collapsed": true
   },
   "outputs": [],
   "source": []
  },
  {
   "cell_type": "code",
   "execution_count": null,
   "metadata": {
    "collapsed": true
   },
   "outputs": [],
   "source": []
  },
  {
   "cell_type": "code",
   "execution_count": null,
   "metadata": {
    "collapsed": true
   },
   "outputs": [],
   "source": []
  },
  {
   "cell_type": "code",
   "execution_count": 357,
   "metadata": {
    "collapsed": false
   },
   "outputs": [],
   "source": [
    "token = f.encrypt(bytes(valint))"
   ]
  },
  {
   "cell_type": "code",
   "execution_count": 358,
   "metadata": {
    "collapsed": false
   },
   "outputs": [
    {
     "name": "stdout",
     "output_type": "stream",
     "text": [
      "b'gAAAAABX8g776pl3DwBC6LFMCp32Q3NA9ow2uZhv-aYSrdheRuztAaWFGYsY3ybs6DolWliBp7CFYIY_Cgh7bWBXLhcxT4fEzrgwa1h-YnrAcUQmbWy-_ZfG_O9dY7mvC6qVItesoOw9wrqm3CazaIzACBIkzQ465duWedgIRgeR0HUpBvqjrtaNPDmKupbrMPPyi-A3zcq7EyRZOOfV2QXbT7La0CfAl51bvXGTWDxoqHuLyTEdecTNYWssWbj-B5bum74QNjrsC5UkVh12hgHyEEKLxv7TzZ-u3gbhjc0FddlfBYofi6XFAOoZfUxTiZgnqrpTJe5FkZqcj6pLl7R704VSXgkyxsNAgC1WId437xcYHdFKntA5UqYWjqMCGHboBEG4iNpmfkH90Hb1d1psUKvMV3MoeH4IidNGO2CYJIfh5mcI432WmjdstC8g4s2R3Lfu9QofniBfHD2rvwWrCiofla_bo7CUKbxFvog2ZtbF0Ee5533gF85bzVyJg9SuYnUfJ9Rem9i5Jy1t4IAtjHDEBoYpMsiujPp833IG4Tmn4Nigc5eIBX_rVCogY3BcX3_xpn9YmdfW8oNT0FYHz9dRPxejCqlwjXynOnE_4YZnK1a3CfsFcwLIYcNSiNXVnq5bVTvkfJEGwUWv1bCh1izLqKfb60o4CG9ETWJzMFbCN4mbgjaUmp8_bMI78--EFRSYx4rbR3a8Om7u5Hx5pZWMjsCn4WS5yEV99zivwSAyIEs0QHLEM78-Dvgwe36xEsOBVvMSTV8ZkDi3JJ7IFV3i51AgZTM70Kw1fAFMO09qhCFQ5k1Imt5dtZAneeOTegcqRv2YXOCzy5CzPN211S4PB7lDl8i6c5o2b8rB_XUKM-b0OJbTF_Iw3l7u5liV41Yu5wwYGTH613SUEGdhU6tEtruflX_RUZZiKPVq7eUbNDVPBXEwM-0XIFb01K_tbJwARiIwYf3iG-FfI6TiclflfnWNEY0Ou-Bm6R1bvAM6Psch8Ql10s420uGXSvnDrwQTDGfQcImDTDu1uMIYDsqy2x8uf8FNWY6-kFscwjL00qCJvS6TarUJ6Cskq1GTOwBE2JaoH5KuMWOmWGOI13nAqicF19M1-yDo_z10nNmsnRFDlmBVzlmpJpMQICeJT5g1r6T5Rrq-AihbypUR26YSu2gk2wEffq4YGHVRkmLlKAO092dp1nK1Vdd-oBIZgzs5WEKYztXOnM3k4uTbMhNAtRGB5Da-EAunuRM7JFqgzx4GHsLKjj3aVu1w4mS6-8ozmNEQGGPGzruG4kqsJoesdATSnKuAaw4IsiweI-a2vYmVeXYqDsF-0GCx_uvbGCxbePwL-IRqZ7JMDyJWvLwc2nEyNM-reskV4REmywgOX-vCQflCdF5PaRL41F6sH_z2kx9RSFbxnoOiCoj_Bky2ZnAcQlfLJG7vaHSF9FWqg7w0LGpP29Z3ZvOFdjdEQ80Hy6_zMaBQE1lIdNe_sjdVLNY-frqu6c-gojzEYacvAWKBhWbeFYs1qqWJThQR9GkUnuqB3hDHPD7ClqzINbh3pFztV17v8D7xWkulOQwtAPXsN6-TnQ3hAxP6sHK395TDMmf6Zdq51GITlYZN1OqJDz9hGcigEerPpilsD6CLcXJpH_9HMYCu7VJZeMbnZUyOxuig3DlTfuJbxSed27KCL8ukwSHcnQXuCQAWJRnTx8kNHaMC6z1JQuxkqUmCmdC1xIdj'\n"
     ]
    }
   ],
   "source": [
    "print(token)"
   ]
  },
  {
   "cell_type": "code",
   "execution_count": 359,
   "metadata": {
    "collapsed": false
   },
   "outputs": [
    {
     "data": {
      "text/plain": [
       "b'\\x00\\x00\\x00\\x00\\x00\\x00\\x00\\x00\\x00\\x00\\x00\\x00\\x00\\x00\\x00\\x00\\x00\\x00\\x00\\x00\\x00\\x00\\x00\\x00\\x00\\x00\\x00\\x00\\x00\\x00\\x00\\x00\\x00\\x00\\x00\\x00\\x00\\x00\\x00\\x00\\x00\\x00\\x00\\x00\\x00\\x00\\x00\\x00\\x00\\x00\\x00\\x00\\x00\\x00\\x00\\x00\\x00\\x00\\x00\\x00\\x00\\x00\\x00\\x00\\x00\\x00\\x00\\x00\\x00\\x00\\x00\\x00\\x00\\x00\\x00\\x00\\x00\\x00\\x00\\x00\\x00\\x00\\x00\\x00\\x00\\x00\\x00\\x00\\x00\\x00\\x00\\x00\\x00\\x00\\x00\\x00\\x00\\x00\\x00\\x00\\x00\\x00\\x00\\x00\\x00\\x00\\x00\\x00\\x00\\x00\\x00\\x00\\x00\\x00\\x00\\x00\\x00\\x00\\x00\\x00\\x00\\x00\\x00\\x00\\x00\\x00\\x00\\x00\\x00\\x00\\x00\\x00\\x00\\x00\\x00\\x00\\x00\\x00\\x00\\x00\\x00\\x00\\x00\\x00\\x00\\x00\\x00\\x00\\x00\\x00\\x00\\x00\\x00\\x00\\x00\\x00\\x00\\x00\\x00\\x00\\x00\\x00\\x00\\x00\\x00\\x00\\x00\\x00\\x00\\x00\\x00\\x00\\x00\\x00\\x00\\x00\\x00\\x00\\x00\\x00\\x00\\x00\\x00\\x00\\x00\\x00\\x00\\x00\\x00\\x00\\x00\\x00\\x00\\x00\\x00\\x00\\x00\\x00\\x00\\x00\\x00\\x00\\x00\\x00\\x00\\x00\\x00\\x00\\x00\\x00\\x00\\x00\\x00\\x00\\x00\\x00\\x00\\x00\\x00\\x00\\x00\\x00\\x00\\x00\\x00\\x00\\x00\\x00\\x00\\x00\\x00\\x00\\x00\\x00\\x00\\x00\\x00\\x00\\x00\\x00\\x00\\x00\\x00\\x00\\x00\\x00\\x00\\x00\\x00\\x00\\x00\\x00\\x00\\x00\\x00\\x00\\x00\\x00\\x00\\x00\\x00\\x00\\x00\\x00\\x00\\x00\\x00\\x00\\x00\\x00\\x00\\x00\\x00\\x00\\x00\\x00\\x00\\x00\\x00\\x00\\x00\\x00\\x00\\x00\\x00\\x00\\x00\\x00\\x00\\x00\\x00\\x00\\x00\\x00\\x00\\x00\\x00\\x00\\x00\\x00\\x00\\x00\\x00\\x00\\x00\\x00\\x00\\x00\\x00\\x00\\x00\\x00\\x00\\x00\\x00\\x00\\x00\\x00\\x00\\x00\\x00\\x00\\x00\\x00\\x00\\x00\\x00\\x00\\x00\\x00\\x00\\x00\\x00\\x00\\x00\\x00\\x00\\x00\\x00\\x00\\x00\\x00\\x00\\x00\\x00\\x00\\x00\\x00\\x00\\x00\\x00\\x00\\x00\\x00\\x00\\x00\\x00\\x00\\x00\\x00\\x00\\x00\\x00\\x00\\x00\\x00\\x00\\x00\\x00\\x00\\x00\\x00\\x00\\x00\\x00\\x00\\x00\\x00\\x00\\x00\\x00\\x00\\x00\\x00\\x00\\x00\\x00\\x00\\x00\\x00\\x00\\x00\\x00\\x00\\x00\\x00\\x00\\x00\\x00\\x00\\x00\\x00\\x00\\x00\\x00\\x00\\x00\\x00\\x00\\x00\\x00\\x00\\x00\\x00\\x00\\x00\\x00\\x00\\x00\\x00\\x00\\x00\\x00\\x00\\x00\\x00\\x00\\x00\\x00\\x00\\x00\\x00\\x00\\x00\\x00\\x00\\x00\\x00\\x00\\x00\\x00\\x00\\x00\\x00\\x00\\x00\\x00\\x00\\x00\\x00\\x00\\x00\\x00\\x00\\x00\\x00\\x00\\x00\\x00\\x00\\x00\\x00\\x00\\x00\\x00\\x00\\x00\\x00\\x00\\x00\\x00\\x00\\x00\\x00\\x00\\x00\\x00\\x00\\x00\\x00\\x00\\x00\\x00\\x00\\x00\\x00\\x00\\x00\\x00\\x00\\x00\\x00\\x00\\x00\\x00\\x00\\x00\\x00\\x00\\x00\\x00\\x00\\x00\\x00\\x00\\x00\\x00\\x00\\x00\\x00\\x00\\x00\\x00\\x00\\x00\\x00\\x00\\x00\\x00\\x00\\x00\\x00\\x00\\x00\\x00\\x00\\x00\\x00\\x00\\x00\\x00\\x00\\x00\\x00\\x00\\x00\\x00\\x00\\x00\\x00\\x00\\x00\\x00\\x00\\x00\\x00\\x00\\x00\\x00\\x00\\x00\\x00\\x00\\x00\\x00\\x00\\x00\\x00\\x00\\x00\\x00\\x00\\x00\\x00\\x00\\x00\\x00\\x00\\x00\\x00\\x00\\x00\\x00\\x00\\x00\\x00\\x00\\x00\\x00\\x00\\x00\\x00\\x00\\x00\\x00\\x00\\x00\\x00\\x00\\x00\\x00\\x00\\x00\\x00\\x00\\x00\\x00\\x00\\x00\\x00\\x00\\x00\\x00\\x00\\x00\\x00\\x00\\x00\\x00\\x00\\x00\\x00\\x00\\x00\\x00\\x00\\x00\\x00\\x00\\x00\\x00\\x00\\x00\\x00\\x00\\x00\\x00\\x00\\x00\\x00\\x00\\x00\\x00\\x00\\x00\\x00\\x00\\x00\\x00\\x00\\x00\\x00\\x00\\x00\\x00\\x00\\x00\\x00\\x00\\x00\\x00\\x00\\x00\\x00\\x00\\x00\\x00\\x00\\x00\\x00\\x00\\x00\\x00\\x00\\x00\\x00\\x00\\x00\\x00\\x00\\x00\\x00\\x00\\x00\\x00\\x00\\x00\\x00\\x00\\x00\\x00\\x00\\x00\\x00\\x00\\x00\\x00\\x00\\x00\\x00\\x00\\x00\\x00\\x00\\x00\\x00\\x00\\x00\\x00\\x00\\x00\\x00\\x00\\x00\\x00\\x00\\x00\\x00\\x00\\x00\\x00\\x00\\x00\\x00\\x00\\x00\\x00\\x00\\x00\\x00\\x00\\x00\\x00\\x00\\x00\\x00\\x00\\x00\\x00\\x00\\x00\\x00\\x00\\x00\\x00\\x00\\x00\\x00\\x00\\x00\\x00\\x00\\x00\\x00\\x00\\x00\\x00\\x00\\x00\\x00\\x00\\x00\\x00\\x00\\x00\\x00\\x00\\x00\\x00\\x00\\x00\\x00\\x00\\x00\\x00\\x00\\x00\\x00\\x00\\x00\\x00\\x00\\x00\\x00\\x00\\x00\\x00\\x00\\x00\\x00\\x00\\x00\\x00\\x00\\x00\\x00\\x00\\x00\\x00\\x00\\x00\\x00\\x00\\x00\\x00\\x00\\x00\\x00\\x00\\x00\\x00\\x00\\x00\\x00\\x00\\x00\\x00\\x00\\x00\\x00\\x00\\x00\\x00\\x00\\x00\\x00\\x00\\x00\\x00\\x00\\x00\\x00\\x00\\x00\\x00\\x00\\x00\\x00\\x00\\x00\\x00\\x00\\x00\\x00\\x00\\x00\\x00\\x00\\x00\\x00\\x00\\x00\\x00\\x00\\x00\\x00\\x00\\x00\\x00\\x00\\x00\\x00\\x00\\x00\\x00\\x00\\x00\\x00\\x00\\x00\\x00\\x00\\x00\\x00\\x00\\x00\\x00\\x00\\x00\\x00\\x00\\x00\\x00\\x00\\x00\\x00\\x00\\x00\\x00\\x00\\x00\\x00\\x00\\x00\\x00\\x00\\x00\\x00\\x00\\x00\\x00\\x00\\x00\\x00\\x00\\x00\\x00\\x00\\x00\\x00\\x00\\x00\\x00\\x00\\x00\\x00\\x00\\x00\\x00\\x00\\x00\\x00\\x00\\x00\\x00\\x00\\x00\\x00\\x00\\x00\\x00\\x00\\x00\\x00\\x00\\x00\\x00\\x00\\x00\\x00\\x00\\x00\\x00\\x00\\x00\\x00\\x00\\x00\\x00\\x00\\x00\\x00\\x00\\x00\\x00\\x00\\x00\\x00\\x00\\x00\\x00\\x00\\x00\\x00\\x00\\x00\\x00\\x00\\x00\\x00\\x00\\x00\\x00\\x00\\x00\\x00\\x00\\x00\\x00\\x00\\x00\\x00\\x00\\x00\\x00\\x00\\x00\\x00\\x00\\x00\\x00\\x00\\x00\\x00\\x00\\x00\\x00\\x00\\x00\\x00\\x00\\x00\\x00\\x00\\x00\\x00\\x00\\x00\\x00\\x00\\x00\\x00\\x00\\x00\\x00\\x00\\x00\\x00\\x00\\x00\\x00\\x00\\x00\\x00\\x00\\x00\\x00\\x00\\x00\\x00\\x00\\x00\\x00\\x00\\x00\\x00\\x00\\x00\\x00\\x00\\x00\\x00\\x00\\x00\\x00\\x00\\x00\\x00\\x00\\x00\\x00\\x00\\x00\\x00\\x00\\x00\\x00\\x00\\x00\\x00\\x00\\x00\\x00\\x00\\x00\\x00\\x00\\x00\\x00\\x00\\x00\\x00\\x00\\x00\\x00\\x00\\x00\\x00\\x00\\x00\\x00\\x00\\x00\\x00\\x00\\x00\\x00\\x00\\x00\\x00\\x00\\x00\\x00\\x00\\x00\\x00\\x00\\x00\\x00\\x00\\x00\\x00\\x00\\x00\\x00\\x00\\x00\\x00\\x00\\x00\\x00\\x00\\x00\\x00\\x00\\x00\\x00\\x00\\x00\\x00\\x00\\x00\\x00\\x00\\x00\\x00\\x00\\x00\\x00\\x00\\x00\\x00\\x00\\x00\\x00\\x00\\x00\\x00\\x00\\x00\\x00\\x00\\x00\\x00\\x00\\x00\\x00\\x00\\x00\\x00\\x00\\x00\\x00\\x00\\x00\\x00\\x00\\x00\\x00\\x00\\x00\\x00\\x00\\x00\\x00\\x00\\x00\\x00\\x00\\x00\\x00\\x00\\x00\\x00\\x00\\x00\\x00\\x00\\x00\\x00\\x00\\x00\\x00\\x00\\x00\\x00\\x00\\x00\\x00\\x00\\x00\\x00\\x00\\x00\\x00\\x00\\x00\\x00\\x00\\x00\\x00\\x00\\x00\\x00\\x00\\x00\\x00\\x00\\x00\\x00\\x00\\x00\\x00\\x00\\x00\\x00\\x00\\x00\\x00\\x00\\x00\\x00\\x00\\x00\\x00\\x00\\x00\\x00\\x00\\x00\\x00\\x00\\x00\\x00\\x00\\x00\\x00\\x00\\x00\\x00\\x00\\x00\\x00\\x00'"
      ]
     },
     "execution_count": 359,
     "metadata": {},
     "output_type": "execute_result"
    }
   ],
   "source": [
    "f.decrypt(token)"
   ]
  },
  {
   "cell_type": "code",
   "execution_count": 360,
   "metadata": {
    "collapsed": false
   },
   "outputs": [
    {
     "data": {
      "text/plain": [
       "0"
      ]
     },
     "execution_count": 360,
     "metadata": {},
     "output_type": "execute_result"
    }
   ],
   "source": [
    "int.from_bytes((f.decrypt(token)), byteorder='big')"
   ]
  },
  {
   "cell_type": "code",
   "execution_count": null,
   "metadata": {
    "collapsed": true
   },
   "outputs": [],
   "source": []
  },
  {
   "cell_type": "code",
   "execution_count": 361,
   "metadata": {
    "collapsed": false
   },
   "outputs": [],
   "source": [
    "byedecrpt = (f.decrypt(token))"
   ]
  },
  {
   "cell_type": "code",
   "execution_count": 362,
   "metadata": {
    "collapsed": false
   },
   "outputs": [
    {
     "data": {
      "text/plain": [
       "0"
      ]
     },
     "execution_count": 362,
     "metadata": {},
     "output_type": "execute_result"
    }
   ],
   "source": [
    "int.from_bytes((byedecrpt), byteorder='big')"
   ]
  },
  {
   "cell_type": "code",
   "execution_count": null,
   "metadata": {
    "collapsed": true
   },
   "outputs": [],
   "source": []
  },
  {
   "cell_type": "code",
   "execution_count": null,
   "metadata": {
    "collapsed": true
   },
   "outputs": [],
   "source": []
  },
  {
   "cell_type": "code",
   "execution_count": null,
   "metadata": {
    "collapsed": true
   },
   "outputs": [],
   "source": []
  },
  {
   "cell_type": "code",
   "execution_count": null,
   "metadata": {
    "collapsed": true
   },
   "outputs": [],
   "source": []
  },
  {
   "cell_type": "code",
   "execution_count": null,
   "metadata": {
    "collapsed": true
   },
   "outputs": [],
   "source": []
  },
  {
   "cell_type": "code",
   "execution_count": 363,
   "metadata": {
    "collapsed": false
   },
   "outputs": [
    {
     "ename": "TypeError",
     "evalue": "string argument without an encoding",
     "output_type": "error",
     "traceback": [
      "\u001b[1;31m---------------------------------------------------------------------------\u001b[0m",
      "\u001b[1;31mTypeError\u001b[0m                                 Traceback (most recent call last)",
      "\u001b[1;32m<ipython-input-363-d00029b507db>\u001b[0m in \u001b[0;36m<module>\u001b[1;34m()\u001b[0m\n\u001b[1;32m----> 1\u001b[1;33m \u001b[0mbytes\u001b[0m\u001b[1;33m(\u001b[0m\u001b[0mstr\u001b[0m\u001b[1;33m(\u001b[0m\u001b[0mvaletmode\u001b[0m\u001b[1;33m)\u001b[0m\u001b[1;33m)\u001b[0m\u001b[1;33m\u001b[0m\u001b[0m\n\u001b[0m",
      "\u001b[1;31mTypeError\u001b[0m: string argument without an encoding"
     ]
    }
   ],
   "source": [
    "bytes(str(valetmode))"
   ]
  },
  {
   "cell_type": "code",
   "execution_count": null,
   "metadata": {
    "collapsed": true
   },
   "outputs": [],
   "source": []
  },
  {
   "cell_type": "code",
   "execution_count": null,
   "metadata": {
    "collapsed": true
   },
   "outputs": [],
   "source": []
  },
  {
   "cell_type": "code",
   "execution_count": null,
   "metadata": {
    "collapsed": true
   },
   "outputs": [],
   "source": []
  },
  {
   "cell_type": "code",
   "execution_count": null,
   "metadata": {
    "collapsed": true
   },
   "outputs": [],
   "source": []
  },
  {
   "cell_type": "code",
   "execution_count": 364,
   "metadata": {
    "collapsed": false
   },
   "outputs": [],
   "source": [
    "if 'n' in valetmode:\n",
    "    valeton = False\n",
    "elif 'Y' in valetmode:\n",
    "    valeton = True\n",
    "    "
   ]
  },
  {
   "cell_type": "code",
   "execution_count": 365,
   "metadata": {
    "collapsed": false
   },
   "outputs": [
    {
     "ename": "SyntaxError",
     "evalue": "invalid syntax (<ipython-input-365-bd328d28e51e>, line 1)",
     "output_type": "error",
     "traceback": [
      "\u001b[1;36m  File \u001b[1;32m\"<ipython-input-365-bd328d28e51e>\"\u001b[1;36m, line \u001b[1;32m1\u001b[0m\n\u001b[1;33m    inpuvalp =\u001b[0m\n\u001b[1;37m               ^\u001b[0m\n\u001b[1;31mSyntaxError\u001b[0m\u001b[1;31m:\u001b[0m invalid syntax\n"
     ]
    }
   ],
   "source": [
    "inpuvalp = "
   ]
  },
  {
   "cell_type": "code",
   "execution_count": null,
   "metadata": {
    "collapsed": true
   },
   "outputs": [],
   "source": []
  },
  {
   "cell_type": "code",
   "execution_count": 366,
   "metadata": {
    "collapsed": true
   },
   "outputs": [],
   "source": [
    "if 'n' in askmileorkilo:\n",
    "    miletru = False\n",
    "elif 'Y' in askmileorkilo:\n",
    "    miletru = True"
   ]
  },
  {
   "cell_type": "code",
   "execution_count": 367,
   "metadata": {
    "collapsed": false
   },
   "outputs": [
    {
     "data": {
      "text/plain": [
       "'Y'"
      ]
     },
     "execution_count": 367,
     "metadata": {},
     "output_type": "execute_result"
    }
   ],
   "source": [
    "askmileorkilo"
   ]
  },
  {
   "cell_type": "code",
   "execution_count": 368,
   "metadata": {
    "collapsed": false
   },
   "outputs": [
    {
     "data": {
      "text/plain": [
       "True"
      ]
     },
     "execution_count": 368,
     "metadata": {},
     "output_type": "execute_result"
    }
   ],
   "source": [
    "miletru"
   ]
  },
  {
   "cell_type": "code",
   "execution_count": 369,
   "metadata": {
    "collapsed": false
   },
   "outputs": [],
   "source": [
    "if miletru == True:\n",
    "    guidisuni = \"mi/hr\"\n",
    "elif miletru == False:\n",
    "    guidisuni = \"km/hr\""
   ]
  },
  {
   "cell_type": "code",
   "execution_count": 370,
   "metadata": {
    "collapsed": false
   },
   "outputs": [
    {
     "data": {
      "text/plain": [
       "'mi/hr'"
      ]
     },
     "execution_count": 370,
     "metadata": {},
     "output_type": "execute_result"
    }
   ],
   "source": [
    "guidisuni"
   ]
  },
  {
   "cell_type": "code",
   "execution_count": null,
   "metadata": {
    "collapsed": true
   },
   "outputs": [],
   "source": []
  },
  {
   "cell_type": "code",
   "execution_count": 371,
   "metadata": {
    "collapsed": true
   },
   "outputs": [],
   "source": [
    "if 'n' in unlockcar:\n",
    "    opddor = False\n",
    "elif 'Y' in unlockcar:\n",
    "    opddor = True"
   ]
  },
  {
   "cell_type": "code",
   "execution_count": 372,
   "metadata": {
    "collapsed": false
   },
   "outputs": [
    {
     "data": {
      "text/plain": [
       "True"
      ]
     },
     "execution_count": 372,
     "metadata": {},
     "output_type": "execute_result"
    }
   ],
   "source": [
    "opddor"
   ]
  },
  {
   "cell_type": "code",
   "execution_count": 373,
   "metadata": {
    "collapsed": false
   },
   "outputs": [],
   "source": [
    "if 'n' in openDriversDoor:\n",
    "    opddor = False\n",
    "    \n",
    "elif 'Y' in openDriversDoor:\n",
    "    opddor = True\n",
    "    \n",
    "    "
   ]
  },
  {
   "cell_type": "code",
   "execution_count": 374,
   "metadata": {
    "collapsed": false
   },
   "outputs": [
    {
     "data": {
      "text/plain": [
       "True"
      ]
     },
     "execution_count": 374,
     "metadata": {},
     "output_type": "execute_result"
    }
   ],
   "source": [
    "opddor"
   ]
  },
  {
   "cell_type": "code",
   "execution_count": null,
   "metadata": {
    "collapsed": true
   },
   "outputs": [],
   "source": []
  },
  {
   "cell_type": "code",
   "execution_count": null,
   "metadata": {
    "collapsed": true
   },
   "outputs": [],
   "source": []
  },
  {
   "cell_type": "code",
   "execution_count": 375,
   "metadata": {
    "collapsed": true
   },
   "outputs": [],
   "source": [
    "import configparser"
   ]
  },
  {
   "cell_type": "code",
   "execution_count": 376,
   "metadata": {
    "collapsed": false
   },
   "outputs": [],
   "source": [
    "dfstat = (mydict['response']['df'])"
   ]
  },
  {
   "cell_type": "code",
   "execution_count": 377,
   "metadata": {
    "collapsed": false
   },
   "outputs": [],
   "source": [
    "pfstat = (mydict['response']['pf'])"
   ]
  },
  {
   "cell_type": "code",
   "execution_count": 378,
   "metadata": {
    "collapsed": false
   },
   "outputs": [],
   "source": [
    "prstat = (mydict['response']['pr'])"
   ]
  },
  {
   "cell_type": "code",
   "execution_count": 379,
   "metadata": {
    "collapsed": true
   },
   "outputs": [],
   "source": [
    "drstat = (mydict['response']['dr'])"
   ]
  },
  {
   "cell_type": "code",
   "execution_count": 380,
   "metadata": {
    "collapsed": false
   },
   "outputs": [
    {
     "data": {
      "text/plain": [
       "False"
      ]
     },
     "execution_count": 380,
     "metadata": {},
     "output_type": "execute_result"
    }
   ],
   "source": [
    "drstat"
   ]
  },
  {
   "cell_type": "code",
   "execution_count": 381,
   "metadata": {
    "collapsed": false
   },
   "outputs": [
    {
     "data": {
      "text/plain": [
       "False"
      ]
     },
     "execution_count": 381,
     "metadata": {},
     "output_type": "execute_result"
    }
   ],
   "source": [
    "prstat"
   ]
  },
  {
   "cell_type": "code",
   "execution_count": 382,
   "metadata": {
    "collapsed": false
   },
   "outputs": [
    {
     "data": {
      "text/plain": [
       "False"
      ]
     },
     "execution_count": 382,
     "metadata": {},
     "output_type": "execute_result"
    }
   ],
   "source": [
    "dfstat"
   ]
  },
  {
   "cell_type": "code",
   "execution_count": 383,
   "metadata": {
    "collapsed": false
   },
   "outputs": [
    {
     "data": {
      "text/plain": [
       "False"
      ]
     },
     "execution_count": 383,
     "metadata": {},
     "output_type": "execute_result"
    }
   ],
   "source": [
    "pfstat"
   ]
  },
  {
   "cell_type": "code",
   "execution_count": 384,
   "metadata": {
    "collapsed": true
   },
   "outputs": [],
   "source": [
    "import arrow"
   ]
  },
  {
   "cell_type": "code",
   "execution_count": 385,
   "metadata": {
    "collapsed": true
   },
   "outputs": [],
   "source": [
    "timnow = arrow.now()"
   ]
  },
  {
   "cell_type": "code",
   "execution_count": 386,
   "metadata": {
    "collapsed": false
   },
   "outputs": [
    {
     "name": "stdout",
     "output_type": "stream",
     "text": [
      "2016-10-03 20:55:59.946712+13:00\n"
     ]
    }
   ],
   "source": [
    "print(timnow.datetime)"
   ]
  },
  {
   "cell_type": "code",
   "execution_count": 387,
   "metadata": {
    "collapsed": false
   },
   "outputs": [
    {
     "data": {
      "text/plain": [
       "'2016-10-03T20:55:59.946712+13:00'"
      ]
     },
     "execution_count": 387,
     "metadata": {},
     "output_type": "execute_result"
    }
   ],
   "source": [
    "timnow.for_json()"
   ]
  },
  {
   "cell_type": "code",
   "execution_count": 388,
   "metadata": {
    "collapsed": false
   },
   "outputs": [
    {
     "data": {
      "text/plain": [
       "1"
      ]
     },
     "execution_count": 388,
     "metadata": {},
     "output_type": "execute_result"
    }
   ],
   "source": [
    "timnow.isoweekday()"
   ]
  },
  {
   "cell_type": "code",
   "execution_count": 389,
   "metadata": {
    "collapsed": false
   },
   "outputs": [
    {
     "data": {
      "text/plain": [
       "'just now'"
      ]
     },
     "execution_count": 389,
     "metadata": {},
     "output_type": "execute_result"
    }
   ],
   "source": [
    "timnow.humanize()"
   ]
  },
  {
   "cell_type": "code",
   "execution_count": 390,
   "metadata": {
    "collapsed": false
   },
   "outputs": [
    {
     "data": {
      "text/plain": [
       "1"
      ]
     },
     "execution_count": 390,
     "metadata": {},
     "output_type": "execute_result"
    }
   ],
   "source": [
    "timnow.isoweekday()"
   ]
  },
  {
   "cell_type": "code",
   "execution_count": 391,
   "metadata": {
    "collapsed": false
   },
   "outputs": [
    {
     "data": {
      "text/plain": [
       "(2016, 40, 1)"
      ]
     },
     "execution_count": 391,
     "metadata": {},
     "output_type": "execute_result"
    }
   ],
   "source": [
    "timnow.isocalendar()"
   ]
  },
  {
   "cell_type": "code",
   "execution_count": 392,
   "metadata": {
    "collapsed": false
   },
   "outputs": [
    {
     "data": {
      "text/plain": [
       "<bound method Arrow.ceil of <Arrow [2016-10-03T20:55:59.946712+13:00]>>"
      ]
     },
     "execution_count": 392,
     "metadata": {},
     "output_type": "execute_result"
    }
   ],
   "source": [
    "timnow.ceil"
   ]
  },
  {
   "cell_type": "code",
   "execution_count": 393,
   "metadata": {
    "collapsed": false
   },
   "outputs": [
    {
     "data": {
      "text/plain": [
       "<Arrow [2016-10-03T20:55:59.946712+13:00]>"
      ]
     },
     "execution_count": 393,
     "metadata": {},
     "output_type": "execute_result"
    }
   ],
   "source": [
    "timnow.clone()"
   ]
  },
  {
   "cell_type": "code",
   "execution_count": 394,
   "metadata": {
    "collapsed": false
   },
   "outputs": [
    {
     "data": {
      "text/plain": [
       "datetime.date(2016, 10, 3)"
      ]
     },
     "execution_count": 394,
     "metadata": {},
     "output_type": "execute_result"
    }
   ],
   "source": [
    "timnow.date()"
   ]
  },
  {
   "cell_type": "code",
   "execution_count": 395,
   "metadata": {
    "collapsed": false
   },
   "outputs": [
    {
     "data": {
      "text/plain": [
       "'2016-10-03 20:55:59+13:00'"
      ]
     },
     "execution_count": 395,
     "metadata": {},
     "output_type": "execute_result"
    }
   ],
   "source": [
    "timnow.format()"
   ]
  },
  {
   "cell_type": "code",
   "execution_count": 396,
   "metadata": {
    "collapsed": false
   },
   "outputs": [
    {
     "data": {
      "text/plain": [
       "<bound method Arrow.floor of <Arrow [2016-10-03T20:55:59.946712+13:00]>>"
      ]
     },
     "execution_count": 396,
     "metadata": {},
     "output_type": "execute_result"
    }
   ],
   "source": [
    "timnow.floor"
   ]
  },
  {
   "cell_type": "code",
   "execution_count": 397,
   "metadata": {
    "collapsed": false
   },
   "outputs": [
    {
     "data": {
      "text/plain": [
       "1475481359.946712"
      ]
     },
     "execution_count": 397,
     "metadata": {},
     "output_type": "execute_result"
    }
   ],
   "source": [
    "timnow.float_timestamp"
   ]
  },
  {
   "cell_type": "code",
   "execution_count": 398,
   "metadata": {
    "collapsed": false
   },
   "outputs": [],
   "source": [
    "timz = timnow.for_json()"
   ]
  },
  {
   "cell_type": "code",
   "execution_count": 399,
   "metadata": {
    "collapsed": false
   },
   "outputs": [
    {
     "data": {
      "text/plain": [
       "'2016-10-03T20:55:59.946712+13:00'"
      ]
     },
     "execution_count": 399,
     "metadata": {},
     "output_type": "execute_result"
    }
   ],
   "source": [
    "timz"
   ]
  },
  {
   "cell_type": "code",
   "execution_count": 400,
   "metadata": {
    "collapsed": false
   },
   "outputs": [
    {
     "name": "stdout",
     "output_type": "stream",
     "text": [
      "2016-10-03T20:55:59.946712+13:00\n"
     ]
    }
   ],
   "source": [
    "print(timz)"
   ]
  },
  {
   "cell_type": "code",
   "execution_count": 401,
   "metadata": {
    "collapsed": false
   },
   "outputs": [
    {
     "data": {
      "text/plain": [
       "'2016-10-03T20:55:59.946712+13:00'"
      ]
     },
     "execution_count": 401,
     "metadata": {},
     "output_type": "execute_result"
    }
   ],
   "source": [
    "timz.upper()"
   ]
  },
  {
   "cell_type": "code",
   "execution_count": 402,
   "metadata": {
    "collapsed": false
   },
   "outputs": [
    {
     "data": {
      "text/plain": [
       "['2016-10-03T20:55:59', '946712+13:00']"
      ]
     },
     "execution_count": 402,
     "metadata": {},
     "output_type": "execute_result"
    }
   ],
   "source": [
    "timz.split('-' and ':' and '.')"
   ]
  },
  {
   "cell_type": "code",
   "execution_count": 403,
   "metadata": {
    "collapsed": false
   },
   "outputs": [
    {
     "name": "stdout",
     "output_type": "stream",
     "text": [
      "2016-10-03T20:55:59.946712+13:00\n"
     ]
    }
   ],
   "source": [
    "print(timnow)"
   ]
  },
  {
   "cell_type": "code",
   "execution_count": 404,
   "metadata": {
    "collapsed": false
   },
   "outputs": [
    {
     "ename": "SyntaxError",
     "evalue": "invalid syntax (<ipython-input-404-024bf0bece45>, line 1)",
     "output_type": "error",
     "traceback": [
      "\u001b[1;36m  File \u001b[1;32m\"<ipython-input-404-024bf0bece45>\"\u001b[1;36m, line \u001b[1;32m1\u001b[0m\n\u001b[1;33m    os.\u001b[0m\n\u001b[1;37m       ^\u001b[0m\n\u001b[1;31mSyntaxError\u001b[0m\u001b[1;31m:\u001b[0m invalid syntax\n"
     ]
    }
   ],
   "source": [
    "os."
   ]
  },
  {
   "cell_type": "code",
   "execution_count": null,
   "metadata": {
    "collapsed": true
   },
   "outputs": [],
   "source": []
  },
  {
   "cell_type": "code",
   "execution_count": null,
   "metadata": {
    "collapsed": true
   },
   "outputs": [],
   "source": []
  },
  {
   "cell_type": "code",
   "execution_count": null,
   "metadata": {
    "collapsed": true
   },
   "outputs": [],
   "source": []
  },
  {
   "cell_type": "code",
   "execution_count": null,
   "metadata": {
    "collapsed": true
   },
   "outputs": [],
   "source": []
  },
  {
   "cell_type": "code",
   "execution_count": null,
   "metadata": {
    "collapsed": true
   },
   "outputs": [],
   "source": []
  },
  {
   "cell_type": "code",
   "execution_count": null,
   "metadata": {
    "collapsed": true
   },
   "outputs": [],
   "source": []
  },
  {
   "cell_type": "code",
   "execution_count": null,
   "metadata": {
    "collapsed": true
   },
   "outputs": [],
   "source": []
  },
  {
   "cell_type": "code",
   "execution_count": null,
   "metadata": {
    "collapsed": true
   },
   "outputs": [],
   "source": []
  },
  {
   "cell_type": "code",
   "execution_count": 405,
   "metadata": {
    "collapsed": false
   },
   "outputs": [],
   "source": [
    "timutc = timnow.utcnow()"
   ]
  },
  {
   "cell_type": "code",
   "execution_count": null,
   "metadata": {
    "collapsed": true
   },
   "outputs": [],
   "source": []
  },
  {
   "cell_type": "code",
   "execution_count": 406,
   "metadata": {
    "collapsed": false
   },
   "outputs": [
    {
     "data": {
      "text/plain": [
       "0"
      ]
     },
     "execution_count": 406,
     "metadata": {},
     "output_type": "execute_result"
    }
   ],
   "source": [
    "timnow.weekday()"
   ]
  },
  {
   "cell_type": "code",
   "execution_count": 407,
   "metadata": {
    "collapsed": false
   },
   "outputs": [
    {
     "data": {
      "text/plain": [
       "datetime.timedelta(0, 3600)"
      ]
     },
     "execution_count": 407,
     "metadata": {},
     "output_type": "execute_result"
    }
   ],
   "source": [
    "timnow.dst()"
   ]
  },
  {
   "cell_type": "code",
   "execution_count": 408,
   "metadata": {
    "collapsed": false
   },
   "outputs": [
    {
     "data": {
      "text/plain": [
       "'Mon Oct  3 20:55:59 2016'"
      ]
     },
     "execution_count": 408,
     "metadata": {},
     "output_type": "execute_result"
    }
   ],
   "source": [
    "timnow.ctime()"
   ]
  },
  {
   "cell_type": "code",
   "execution_count": 409,
   "metadata": {
    "collapsed": false
   },
   "outputs": [
    {
     "ename": "SyntaxError",
     "evalue": "invalid syntax (<ipython-input-409-d48a75e61081>, line 1)",
     "output_type": "error",
     "traceback": [
      "\u001b[1;36m  File \u001b[1;32m\"<ipython-input-409-d48a75e61081>\"\u001b[1;36m, line \u001b[1;32m1\u001b[0m\n\u001b[1;33m    timnow.\u001b[0m\n\u001b[1;37m           ^\u001b[0m\n\u001b[1;31mSyntaxError\u001b[0m\u001b[1;31m:\u001b[0m invalid syntax\n"
     ]
    }
   ],
   "source": [
    "timnow."
   ]
  },
  {
   "cell_type": "code",
   "execution_count": 410,
   "metadata": {
    "collapsed": false
   },
   "outputs": [
    {
     "data": {
      "text/plain": [
       "<function arrow.util._total_seconds_27>"
      ]
     },
     "execution_count": 410,
     "metadata": {},
     "output_type": "execute_result"
    }
   ],
   "source": [
    "arrow.util.total_seconds"
   ]
  },
  {
   "cell_type": "code",
   "execution_count": 411,
   "metadata": {
    "collapsed": false
   },
   "outputs": [
    {
     "data": {
      "text/plain": [
       "<function arrow.api.factory>"
      ]
     },
     "execution_count": 411,
     "metadata": {},
     "output_type": "execute_result"
    }
   ],
   "source": [
    "arrow.api.factory"
   ]
  },
  {
   "cell_type": "code",
   "execution_count": 412,
   "metadata": {
    "collapsed": false
   },
   "outputs": [],
   "source": [
    "artz = arrow.factory.tzinfo(timutc)"
   ]
  },
  {
   "cell_type": "code",
   "execution_count": 413,
   "metadata": {
    "collapsed": false
   },
   "outputs": [
    {
     "ename": "NotImplementedError",
     "evalue": "a tzinfo subclass must implement dst()",
     "output_type": "error",
     "traceback": [
      "\u001b[1;31m---------------------------------------------------------------------------\u001b[0m",
      "\u001b[1;31mNotImplementedError\u001b[0m                       Traceback (most recent call last)",
      "\u001b[1;32m<ipython-input-413-12f07c6bc883>\u001b[0m in \u001b[0;36m<module>\u001b[1;34m()\u001b[0m\n\u001b[1;32m----> 1\u001b[1;33m \u001b[0martz\u001b[0m\u001b[1;33m.\u001b[0m\u001b[0mdst\u001b[0m\u001b[1;33m(\u001b[0m\u001b[0mtimutc\u001b[0m\u001b[1;33m)\u001b[0m\u001b[1;33m\u001b[0m\u001b[0m\n\u001b[0m",
      "\u001b[1;31mNotImplementedError\u001b[0m: a tzinfo subclass must implement dst()"
     ]
    }
   ],
   "source": [
    "artz.dst(timutc)"
   ]
  },
  {
   "cell_type": "code",
   "execution_count": 414,
   "metadata": {
    "collapsed": false
   },
   "outputs": [],
   "source": [
    "calcsee= arrow.locales.calendar.HTMLCalendar()"
   ]
  },
  {
   "cell_type": "code",
   "execution_count": 415,
   "metadata": {
    "collapsed": false
   },
   "outputs": [
    {
     "data": {
      "text/plain": [
       "'<table border=\"0\" cellpadding=\"0\" cellspacing=\"0\" class=\"month\">\\n<tr><th colspan=\"7\" class=\"month\">May 2016</th></tr>\\n<tr><th class=\"mon\">Mon</th><th class=\"tue\">Tue</th><th class=\"wed\">Wed</th><th class=\"thu\">Thu</th><th class=\"fri\">Fri</th><th class=\"sat\">Sat</th><th class=\"sun\">Sun</th></tr>\\n<tr><td class=\"noday\">&nbsp;</td><td class=\"noday\">&nbsp;</td><td class=\"noday\">&nbsp;</td><td class=\"noday\">&nbsp;</td><td class=\"noday\">&nbsp;</td><td class=\"noday\">&nbsp;</td><td class=\"sun\">1</td></tr>\\n<tr><td class=\"mon\">2</td><td class=\"tue\">3</td><td class=\"wed\">4</td><td class=\"thu\">5</td><td class=\"fri\">6</td><td class=\"sat\">7</td><td class=\"sun\">8</td></tr>\\n<tr><td class=\"mon\">9</td><td class=\"tue\">10</td><td class=\"wed\">11</td><td class=\"thu\">12</td><td class=\"fri\">13</td><td class=\"sat\">14</td><td class=\"sun\">15</td></tr>\\n<tr><td class=\"mon\">16</td><td class=\"tue\">17</td><td class=\"wed\">18</td><td class=\"thu\">19</td><td class=\"fri\">20</td><td class=\"sat\">21</td><td class=\"sun\">22</td></tr>\\n<tr><td class=\"mon\">23</td><td class=\"tue\">24</td><td class=\"wed\">25</td><td class=\"thu\">26</td><td class=\"fri\">27</td><td class=\"sat\">28</td><td class=\"sun\">29</td></tr>\\n<tr><td class=\"mon\">30</td><td class=\"tue\">31</td><td class=\"noday\">&nbsp;</td><td class=\"noday\">&nbsp;</td><td class=\"noday\">&nbsp;</td><td class=\"noday\">&nbsp;</td><td class=\"noday\">&nbsp;</td></tr>\\n</table>\\n'"
      ]
     },
     "execution_count": 415,
     "metadata": {},
     "output_type": "execute_result"
    }
   ],
   "source": [
    "calcsee.formatmonth(2016, 5)"
   ]
  },
  {
   "cell_type": "code",
   "execution_count": 416,
   "metadata": {
    "collapsed": false
   },
   "outputs": [],
   "source": [
    "arnow = arrow.now()"
   ]
  },
  {
   "cell_type": "code",
   "execution_count": 417,
   "metadata": {
    "collapsed": false
   },
   "outputs": [],
   "source": [
    "dayweekz = arnow.weekday()"
   ]
  },
  {
   "cell_type": "code",
   "execution_count": 418,
   "metadata": {
    "collapsed": false
   },
   "outputs": [
    {
     "data": {
      "text/plain": [
       "0"
      ]
     },
     "execution_count": 418,
     "metadata": {},
     "output_type": "execute_result"
    }
   ],
   "source": [
    "dayweekz"
   ]
  },
  {
   "cell_type": "code",
   "execution_count": null,
   "metadata": {
    "collapsed": true
   },
   "outputs": [],
   "source": []
  },
  {
   "cell_type": "code",
   "execution_count": 419,
   "metadata": {
    "collapsed": false
   },
   "outputs": [
    {
     "data": {
      "text/plain": [
       "0"
      ]
     },
     "execution_count": 419,
     "metadata": {},
     "output_type": "execute_result"
    }
   ],
   "source": [
    "calcsee.getfirstweekday()"
   ]
  },
  {
   "cell_type": "code",
   "execution_count": 420,
   "metadata": {
    "collapsed": false
   },
   "outputs": [
    {
     "data": {
      "text/plain": [
       "0"
      ]
     },
     "execution_count": 420,
     "metadata": {},
     "output_type": "execute_result"
    }
   ],
   "source": [
    "calcsee.getfirstweekday()"
   ]
  },
  {
   "cell_type": "code",
   "execution_count": 421,
   "metadata": {
    "collapsed": false
   },
   "outputs": [
    {
     "ename": "TypeError",
     "evalue": "list indices must be integers, not str",
     "output_type": "error",
     "traceback": [
      "\u001b[1;31m---------------------------------------------------------------------------\u001b[0m",
      "\u001b[1;31mTypeError\u001b[0m                                 Traceback (most recent call last)",
      "\u001b[1;32m<ipython-input-421-8bddf0d3b8ae>\u001b[0m in \u001b[0;36m<module>\u001b[1;34m()\u001b[0m\n\u001b[1;32m----> 1\u001b[1;33m \u001b[0mcalcsee\u001b[0m\u001b[1;33m.\u001b[0m\u001b[0mformatmonth\u001b[0m\u001b[1;33m(\u001b[0m\u001b[1;34m'2015'\u001b[0m\u001b[1;33m,\u001b[0m \u001b[1;34m'5'\u001b[0m\u001b[1;33m)\u001b[0m\u001b[1;33m\u001b[0m\u001b[0m\n\u001b[0m",
      "\u001b[1;32m/usr/lib/python3.4/calendar.py\u001b[0m in \u001b[0;36mformatmonth\u001b[1;34m(self, theyear, themonth, withyear)\u001b[0m\n\u001b[0;32m    429\u001b[0m         \u001b[0ma\u001b[0m\u001b[1;33m(\u001b[0m\u001b[1;34m'<table border=\"0\" cellpadding=\"0\" cellspacing=\"0\" class=\"month\">'\u001b[0m\u001b[1;33m)\u001b[0m\u001b[1;33m\u001b[0m\u001b[0m\n\u001b[0;32m    430\u001b[0m         \u001b[0ma\u001b[0m\u001b[1;33m(\u001b[0m\u001b[1;34m'\\n'\u001b[0m\u001b[1;33m)\u001b[0m\u001b[1;33m\u001b[0m\u001b[0m\n\u001b[1;32m--> 431\u001b[1;33m         \u001b[0ma\u001b[0m\u001b[1;33m(\u001b[0m\u001b[0mself\u001b[0m\u001b[1;33m.\u001b[0m\u001b[0mformatmonthname\u001b[0m\u001b[1;33m(\u001b[0m\u001b[0mtheyear\u001b[0m\u001b[1;33m,\u001b[0m \u001b[0mthemonth\u001b[0m\u001b[1;33m,\u001b[0m \u001b[0mwithyear\u001b[0m\u001b[1;33m=\u001b[0m\u001b[0mwithyear\u001b[0m\u001b[1;33m)\u001b[0m\u001b[1;33m)\u001b[0m\u001b[1;33m\u001b[0m\u001b[0m\n\u001b[0m\u001b[0;32m    432\u001b[0m         \u001b[0ma\u001b[0m\u001b[1;33m(\u001b[0m\u001b[1;34m'\\n'\u001b[0m\u001b[1;33m)\u001b[0m\u001b[1;33m\u001b[0m\u001b[0m\n\u001b[0;32m    433\u001b[0m         \u001b[0ma\u001b[0m\u001b[1;33m(\u001b[0m\u001b[0mself\u001b[0m\u001b[1;33m.\u001b[0m\u001b[0mformatweekheader\u001b[0m\u001b[1;33m(\u001b[0m\u001b[1;33m)\u001b[0m\u001b[1;33m)\u001b[0m\u001b[1;33m\u001b[0m\u001b[0m\n",
      "\u001b[1;32m/usr/lib/python3.4/calendar.py\u001b[0m in \u001b[0;36mformatmonthname\u001b[1;34m(self, theyear, themonth, withyear)\u001b[0m\n\u001b[0;32m    416\u001b[0m         \"\"\"\n\u001b[0;32m    417\u001b[0m         \u001b[1;32mif\u001b[0m \u001b[0mwithyear\u001b[0m\u001b[1;33m:\u001b[0m\u001b[1;33m\u001b[0m\u001b[0m\n\u001b[1;32m--> 418\u001b[1;33m             \u001b[0ms\u001b[0m \u001b[1;33m=\u001b[0m \u001b[1;34m'%s %s'\u001b[0m \u001b[1;33m%\u001b[0m \u001b[1;33m(\u001b[0m\u001b[0mmonth_name\u001b[0m\u001b[1;33m[\u001b[0m\u001b[0mthemonth\u001b[0m\u001b[1;33m]\u001b[0m\u001b[1;33m,\u001b[0m \u001b[0mtheyear\u001b[0m\u001b[1;33m)\u001b[0m\u001b[1;33m\u001b[0m\u001b[0m\n\u001b[0m\u001b[0;32m    419\u001b[0m         \u001b[1;32melse\u001b[0m\u001b[1;33m:\u001b[0m\u001b[1;33m\u001b[0m\u001b[0m\n\u001b[0;32m    420\u001b[0m             \u001b[0ms\u001b[0m \u001b[1;33m=\u001b[0m \u001b[1;34m'%s'\u001b[0m \u001b[1;33m%\u001b[0m \u001b[0mmonth_name\u001b[0m\u001b[1;33m[\u001b[0m\u001b[0mthemonth\u001b[0m\u001b[1;33m]\u001b[0m\u001b[1;33m\u001b[0m\u001b[0m\n",
      "\u001b[1;32m/usr/lib/python3.4/calendar.py\u001b[0m in \u001b[0;36m__getitem__\u001b[1;34m(self, i)\u001b[0m\n\u001b[0;32m     54\u001b[0m \u001b[1;33m\u001b[0m\u001b[0m\n\u001b[0;32m     55\u001b[0m     \u001b[1;32mdef\u001b[0m \u001b[0m__getitem__\u001b[0m\u001b[1;33m(\u001b[0m\u001b[0mself\u001b[0m\u001b[1;33m,\u001b[0m \u001b[0mi\u001b[0m\u001b[1;33m)\u001b[0m\u001b[1;33m:\u001b[0m\u001b[1;33m\u001b[0m\u001b[0m\n\u001b[1;32m---> 56\u001b[1;33m         \u001b[0mfuncs\u001b[0m \u001b[1;33m=\u001b[0m \u001b[0mself\u001b[0m\u001b[1;33m.\u001b[0m\u001b[0m_months\u001b[0m\u001b[1;33m[\u001b[0m\u001b[0mi\u001b[0m\u001b[1;33m]\u001b[0m\u001b[1;33m\u001b[0m\u001b[0m\n\u001b[0m\u001b[0;32m     57\u001b[0m         \u001b[1;32mif\u001b[0m \u001b[0misinstance\u001b[0m\u001b[1;33m(\u001b[0m\u001b[0mi\u001b[0m\u001b[1;33m,\u001b[0m \u001b[0mslice\u001b[0m\u001b[1;33m)\u001b[0m\u001b[1;33m:\u001b[0m\u001b[1;33m\u001b[0m\u001b[0m\n\u001b[0;32m     58\u001b[0m             \u001b[1;32mreturn\u001b[0m \u001b[1;33m[\u001b[0m\u001b[0mf\u001b[0m\u001b[1;33m(\u001b[0m\u001b[0mself\u001b[0m\u001b[1;33m.\u001b[0m\u001b[0mformat\u001b[0m\u001b[1;33m)\u001b[0m \u001b[1;32mfor\u001b[0m \u001b[0mf\u001b[0m \u001b[1;32min\u001b[0m \u001b[0mfuncs\u001b[0m\u001b[1;33m]\u001b[0m\u001b[1;33m\u001b[0m\u001b[0m\n",
      "\u001b[1;31mTypeError\u001b[0m: list indices must be integers, not str"
     ]
    }
   ],
   "source": [
    "calcsee.formatmonth('2015', '5')"
   ]
  },
  {
   "cell_type": "code",
   "execution_count": 467,
   "metadata": {
    "collapsed": false
   },
   "outputs": [
    {
     "data": {
      "text/plain": [
       "<generator object itermonthdates at 0xad58ddf0>"
      ]
     },
     "execution_count": 467,
     "metadata": {},
     "output_type": "execute_result"
    }
   ],
   "source": [
    "calcsee.itermonthdates(2016, 5)"
   ]
  },
  {
   "cell_type": "code",
   "execution_count": 468,
   "metadata": {
    "collapsed": false
   },
   "outputs": [
    {
     "data": {
      "text/plain": [
       "<bound method HTMLCalendar.formatweek of <calendar.HTMLCalendar object at 0xad5873d0>>"
      ]
     },
     "execution_count": 468,
     "metadata": {},
     "output_type": "execute_result"
    }
   ],
   "source": [
    "calcsee.formatweek"
   ]
  },
  {
   "cell_type": "code",
   "execution_count": 469,
   "metadata": {
    "collapsed": false
   },
   "outputs": [
    {
     "data": {
      "text/plain": [
       "'56'"
      ]
     },
     "execution_count": 469,
     "metadata": {},
     "output_type": "execute_result"
    }
   ],
   "source": [
    "arnow.strftime('%M')"
   ]
  },
  {
   "cell_type": "code",
   "execution_count": 470,
   "metadata": {
    "collapsed": false
   },
   "outputs": [
    {
     "data": {
      "text/plain": [
       "'10'"
      ]
     },
     "execution_count": 470,
     "metadata": {},
     "output_type": "execute_result"
    }
   ],
   "source": [
    "arnow.strftime('%m')"
   ]
  },
  {
   "cell_type": "code",
   "execution_count": 471,
   "metadata": {
    "collapsed": false
   },
   "outputs": [
    {
     "data": {
      "text/plain": [
       "'2016 10'"
      ]
     },
     "execution_count": 471,
     "metadata": {},
     "output_type": "execute_result"
    }
   ],
   "source": [
    "arnow.strftime('%Y %m')"
   ]
  },
  {
   "cell_type": "code",
   "execution_count": null,
   "metadata": {
    "collapsed": true
   },
   "outputs": [],
   "source": []
  },
  {
   "cell_type": "code",
   "execution_count": 472,
   "metadata": {
    "collapsed": false
   },
   "outputs": [],
   "source": [
    "yrints = int(arnow.strftime('%Y'))"
   ]
  },
  {
   "cell_type": "code",
   "execution_count": 473,
   "metadata": {
    "collapsed": false
   },
   "outputs": [
    {
     "data": {
      "text/plain": [
       "2016"
      ]
     },
     "execution_count": 473,
     "metadata": {},
     "output_type": "execute_result"
    }
   ],
   "source": [
    "yrints"
   ]
  },
  {
   "cell_type": "code",
   "execution_count": 474,
   "metadata": {
    "collapsed": false
   },
   "outputs": [],
   "source": [
    "mondayfor = int(arnow.strftime('%m'))"
   ]
  },
  {
   "cell_type": "code",
   "execution_count": 475,
   "metadata": {
    "collapsed": false
   },
   "outputs": [
    {
     "data": {
      "text/plain": [
       "10"
      ]
     },
     "execution_count": 475,
     "metadata": {},
     "output_type": "execute_result"
    }
   ],
   "source": [
    "mondayfor"
   ]
  },
  {
   "cell_type": "code",
   "execution_count": 476,
   "metadata": {
    "collapsed": true
   },
   "outputs": [],
   "source": [
    "daydatye = int(arnow.strftime('%d'))"
   ]
  },
  {
   "cell_type": "code",
   "execution_count": 477,
   "metadata": {
    "collapsed": false
   },
   "outputs": [
    {
     "data": {
      "text/plain": [
       "3"
      ]
     },
     "execution_count": 477,
     "metadata": {},
     "output_type": "execute_result"
    }
   ],
   "source": [
    "daydatye"
   ]
  },
  {
   "cell_type": "code",
   "execution_count": null,
   "metadata": {
    "collapsed": true
   },
   "outputs": [],
   "source": []
  },
  {
   "cell_type": "code",
   "execution_count": null,
   "metadata": {
    "collapsed": true
   },
   "outputs": [],
   "source": []
  },
  {
   "cell_type": "code",
   "execution_count": 478,
   "metadata": {
    "collapsed": false
   },
   "outputs": [
    {
     "data": {
      "text/plain": [
       "'<td class=\"tue\">2016</td>'"
      ]
     },
     "execution_count": 478,
     "metadata": {},
     "output_type": "execute_result"
    }
   ],
   "source": [
    "calcsee.formatday(2016, 1)"
   ]
  },
  {
   "cell_type": "code",
   "execution_count": 479,
   "metadata": {
    "collapsed": false
   },
   "outputs": [
    {
     "data": {
      "text/plain": [
       "'<td class=\"thu\">10</td>'"
      ]
     },
     "execution_count": 479,
     "metadata": {},
     "output_type": "execute_result"
    }
   ],
   "source": [
    "calcsee.formatday(mondayfor, daydatye)"
   ]
  },
  {
   "cell_type": "code",
   "execution_count": null,
   "metadata": {
    "collapsed": true
   },
   "outputs": [],
   "source": []
  },
  {
   "cell_type": "code",
   "execution_count": 480,
   "metadata": {
    "collapsed": false
   },
   "outputs": [],
   "source": [
    "panread = pandas.read_html(calcsee.formatmonth(yrints, mondayfor))"
   ]
  },
  {
   "cell_type": "code",
   "execution_count": 481,
   "metadata": {
    "collapsed": false
   },
   "outputs": [
    {
     "data": {
      "text/html": [
       "<div style=\"max-height:1000px;max-width:1500px;overflow:auto;\">\n",
       "<table border=\"1\" class=\"dataframe\">\n",
       "  <thead>\n",
       "    <tr style=\"text-align: right;\">\n",
       "      <th></th>\n",
       "      <th>0</th>\n",
       "      <th>1</th>\n",
       "      <th>2</th>\n",
       "      <th>3</th>\n",
       "      <th>4</th>\n",
       "      <th>5</th>\n",
       "      <th>6</th>\n",
       "    </tr>\n",
       "  </thead>\n",
       "  <tbody>\n",
       "    <tr>\n",
       "      <th>0</th>\n",
       "      <td>2016-10-03</td>\n",
       "      <td>       NaT</td>\n",
       "      <td>       NaT</td>\n",
       "      <td>       NaT</td>\n",
       "      <td>       NaT</td>\n",
       "      <td>       NaT</td>\n",
       "      <td>       NaT</td>\n",
       "    </tr>\n",
       "    <tr>\n",
       "      <th>1</th>\n",
       "      <td>2016-10-03</td>\n",
       "      <td>2016-10-04</td>\n",
       "      <td>2016-10-05</td>\n",
       "      <td>2016-10-06</td>\n",
       "      <td>2016-10-07</td>\n",
       "      <td>2016-10-08</td>\n",
       "      <td>2016-10-09</td>\n",
       "    </tr>\n",
       "    <tr>\n",
       "      <th>2</th>\n",
       "      <td>       NaT</td>\n",
       "      <td>       NaT</td>\n",
       "      <td>       NaT</td>\n",
       "      <td>       NaT</td>\n",
       "      <td>       NaT</td>\n",
       "      <td>       NaT</td>\n",
       "      <td>       NaT</td>\n",
       "    </tr>\n",
       "    <tr>\n",
       "      <th>3</th>\n",
       "      <td>       NaT</td>\n",
       "      <td>       NaT</td>\n",
       "      <td>       NaT</td>\n",
       "      <td>       NaT</td>\n",
       "      <td>       NaT</td>\n",
       "      <td>       NaT</td>\n",
       "      <td>       NaT</td>\n",
       "    </tr>\n",
       "    <tr>\n",
       "      <th>4</th>\n",
       "      <td>       NaT</td>\n",
       "      <td>       NaT</td>\n",
       "      <td>       NaT</td>\n",
       "      <td>       NaT</td>\n",
       "      <td>       NaT</td>\n",
       "      <td>       NaT</td>\n",
       "      <td>       NaT</td>\n",
       "    </tr>\n",
       "    <tr>\n",
       "      <th>5</th>\n",
       "      <td>       NaT</td>\n",
       "      <td>       NaT</td>\n",
       "      <td>       NaT</td>\n",
       "      <td>       NaT</td>\n",
       "      <td>       NaT</td>\n",
       "      <td>       NaT</td>\n",
       "      <td>       NaT</td>\n",
       "    </tr>\n",
       "    <tr>\n",
       "      <th>6</th>\n",
       "      <td>       NaT</td>\n",
       "      <td>       NaT</td>\n",
       "      <td>       NaT</td>\n",
       "      <td>       NaT</td>\n",
       "      <td>       NaT</td>\n",
       "      <td>       NaT</td>\n",
       "      <td>       NaT</td>\n",
       "    </tr>\n",
       "    <tr>\n",
       "      <th>7</th>\n",
       "      <td>       NaT</td>\n",
       "      <td>       NaT</td>\n",
       "      <td>       NaT</td>\n",
       "      <td>       NaT</td>\n",
       "      <td>       NaT</td>\n",
       "      <td>       NaT</td>\n",
       "      <td>       NaT</td>\n",
       "    </tr>\n",
       "  </tbody>\n",
       "</table>\n",
       "</div>"
      ],
      "text/plain": [
       "           0          1          2          3          4          5          6\n",
       "0 2016-10-03        NaT        NaT        NaT        NaT        NaT        NaT\n",
       "1 2016-10-03 2016-10-04 2016-10-05 2016-10-06 2016-10-07 2016-10-08 2016-10-09\n",
       "2        NaT        NaT        NaT        NaT        NaT        NaT        NaT\n",
       "3        NaT        NaT        NaT        NaT        NaT        NaT        NaT\n",
       "4        NaT        NaT        NaT        NaT        NaT        NaT        NaT\n",
       "5        NaT        NaT        NaT        NaT        NaT        NaT        NaT\n",
       "6        NaT        NaT        NaT        NaT        NaT        NaT        NaT\n",
       "7        NaT        NaT        NaT        NaT        NaT        NaT        NaT"
      ]
     },
     "execution_count": 481,
     "metadata": {},
     "output_type": "execute_result"
    }
   ],
   "source": [
    "panread[0]"
   ]
  },
  {
   "cell_type": "code",
   "execution_count": null,
   "metadata": {
    "collapsed": true
   },
   "outputs": [],
   "source": []
  },
  {
   "cell_type": "code",
   "execution_count": null,
   "metadata": {
    "collapsed": true
   },
   "outputs": [],
   "source": []
  },
  {
   "cell_type": "code",
   "execution_count": null,
   "metadata": {
    "collapsed": true
   },
   "outputs": [],
   "source": []
  },
  {
   "cell_type": "code",
   "execution_count": 482,
   "metadata": {
    "collapsed": false
   },
   "outputs": [
    {
     "data": {
      "text/plain": [
       "'<table border=\"0\" cellpadding=\"0\" cellspacing=\"0\" class=\"month\">\\n<tr><th colspan=\"7\" class=\"month\">October 2016</th></tr>\\n<tr><th class=\"mon\">Mon</th><th class=\"tue\">Tue</th><th class=\"wed\">Wed</th><th class=\"thu\">Thu</th><th class=\"fri\">Fri</th><th class=\"sat\">Sat</th><th class=\"sun\">Sun</th></tr>\\n<tr><td class=\"noday\">&nbsp;</td><td class=\"noday\">&nbsp;</td><td class=\"noday\">&nbsp;</td><td class=\"noday\">&nbsp;</td><td class=\"noday\">&nbsp;</td><td class=\"sat\">1</td><td class=\"sun\">2</td></tr>\\n<tr><td class=\"mon\">3</td><td class=\"tue\">4</td><td class=\"wed\">5</td><td class=\"thu\">6</td><td class=\"fri\">7</td><td class=\"sat\">8</td><td class=\"sun\">9</td></tr>\\n<tr><td class=\"mon\">10</td><td class=\"tue\">11</td><td class=\"wed\">12</td><td class=\"thu\">13</td><td class=\"fri\">14</td><td class=\"sat\">15</td><td class=\"sun\">16</td></tr>\\n<tr><td class=\"mon\">17</td><td class=\"tue\">18</td><td class=\"wed\">19</td><td class=\"thu\">20</td><td class=\"fri\">21</td><td class=\"sat\">22</td><td class=\"sun\">23</td></tr>\\n<tr><td class=\"mon\">24</td><td class=\"tue\">25</td><td class=\"wed\">26</td><td class=\"thu\">27</td><td class=\"fri\">28</td><td class=\"sat\">29</td><td class=\"sun\">30</td></tr>\\n<tr><td class=\"mon\">31</td><td class=\"noday\">&nbsp;</td><td class=\"noday\">&nbsp;</td><td class=\"noday\">&nbsp;</td><td class=\"noday\">&nbsp;</td><td class=\"noday\">&nbsp;</td><td class=\"noday\">&nbsp;</td></tr>\\n</table>\\n'"
      ]
     },
     "execution_count": 482,
     "metadata": {},
     "output_type": "execute_result"
    }
   ],
   "source": [
    "calcsee.formatmonth(yrints, mondayfor)"
   ]
  },
  {
   "cell_type": "code",
   "execution_count": null,
   "metadata": {
    "collapsed": true
   },
   "outputs": [],
   "source": []
  },
  {
   "cell_type": "code",
   "execution_count": null,
   "metadata": {
    "collapsed": true
   },
   "outputs": [],
   "source": []
  },
  {
   "cell_type": "code",
   "execution_count": null,
   "metadata": {
    "collapsed": true
   },
   "outputs": [],
   "source": []
  },
  {
   "cell_type": "code",
   "execution_count": null,
   "metadata": {
    "collapsed": true
   },
   "outputs": [],
   "source": []
  },
  {
   "cell_type": "code",
   "execution_count": null,
   "metadata": {
    "collapsed": true
   },
   "outputs": [],
   "source": []
  },
  {
   "cell_type": "code",
   "execution_count": null,
   "metadata": {
    "collapsed": true
   },
   "outputs": [],
   "source": []
  },
  {
   "cell_type": "code",
   "execution_count": null,
   "metadata": {
    "collapsed": true
   },
   "outputs": [],
   "source": []
  },
  {
   "cell_type": "code",
   "execution_count": 483,
   "metadata": {
    "collapsed": false
   },
   "outputs": [
    {
     "ename": "TypeError",
     "evalue": "formatmonth() missing 2 required positional arguments: 'theyear' and 'themonth'",
     "output_type": "error",
     "traceback": [
      "\u001b[1;31m---------------------------------------------------------------------------\u001b[0m",
      "\u001b[1;31mTypeError\u001b[0m                                 Traceback (most recent call last)",
      "\u001b[1;32m<ipython-input-483-a795f5d86da1>\u001b[0m in \u001b[0;36m<module>\u001b[1;34m()\u001b[0m\n\u001b[1;32m----> 1\u001b[1;33m \u001b[0mcalcsee\u001b[0m\u001b[1;33m.\u001b[0m\u001b[0mformatmonth\u001b[0m\u001b[1;33m(\u001b[0m\u001b[1;33m)\u001b[0m\u001b[1;33m\u001b[0m\u001b[0m\n\u001b[0m",
      "\u001b[1;31mTypeError\u001b[0m: formatmonth() missing 2 required positional arguments: 'theyear' and 'themonth'"
     ]
    }
   ],
   "source": [
    "calcsee.formatmonth()"
   ]
  },
  {
   "cell_type": "code",
   "execution_count": 484,
   "metadata": {
    "collapsed": false
   },
   "outputs": [
    {
     "data": {
      "text/plain": [
       "'<table border=\"0\" cellpadding=\"0\" cellspacing=\"0\" class=\"year\">\\n<tr><th colspan=\"3\" class=\"year\">2016</th></tr><tr><td><table border=\"0\" cellpadding=\"0\" cellspacing=\"0\" class=\"month\">\\n<tr><th colspan=\"7\" class=\"month\">January</th></tr>\\n<tr><th class=\"mon\">Mon</th><th class=\"tue\">Tue</th><th class=\"wed\">Wed</th><th class=\"thu\">Thu</th><th class=\"fri\">Fri</th><th class=\"sat\">Sat</th><th class=\"sun\">Sun</th></tr>\\n<tr><td class=\"noday\">&nbsp;</td><td class=\"noday\">&nbsp;</td><td class=\"noday\">&nbsp;</td><td class=\"noday\">&nbsp;</td><td class=\"fri\">1</td><td class=\"sat\">2</td><td class=\"sun\">3</td></tr>\\n<tr><td class=\"mon\">4</td><td class=\"tue\">5</td><td class=\"wed\">6</td><td class=\"thu\">7</td><td class=\"fri\">8</td><td class=\"sat\">9</td><td class=\"sun\">10</td></tr>\\n<tr><td class=\"mon\">11</td><td class=\"tue\">12</td><td class=\"wed\">13</td><td class=\"thu\">14</td><td class=\"fri\">15</td><td class=\"sat\">16</td><td class=\"sun\">17</td></tr>\\n<tr><td class=\"mon\">18</td><td class=\"tue\">19</td><td class=\"wed\">20</td><td class=\"thu\">21</td><td class=\"fri\">22</td><td class=\"sat\">23</td><td class=\"sun\">24</td></tr>\\n<tr><td class=\"mon\">25</td><td class=\"tue\">26</td><td class=\"wed\">27</td><td class=\"thu\">28</td><td class=\"fri\">29</td><td class=\"sat\">30</td><td class=\"sun\">31</td></tr>\\n</table>\\n</td><td><table border=\"0\" cellpadding=\"0\" cellspacing=\"0\" class=\"month\">\\n<tr><th colspan=\"7\" class=\"month\">February</th></tr>\\n<tr><th class=\"mon\">Mon</th><th class=\"tue\">Tue</th><th class=\"wed\">Wed</th><th class=\"thu\">Thu</th><th class=\"fri\">Fri</th><th class=\"sat\">Sat</th><th class=\"sun\">Sun</th></tr>\\n<tr><td class=\"mon\">1</td><td class=\"tue\">2</td><td class=\"wed\">3</td><td class=\"thu\">4</td><td class=\"fri\">5</td><td class=\"sat\">6</td><td class=\"sun\">7</td></tr>\\n<tr><td class=\"mon\">8</td><td class=\"tue\">9</td><td class=\"wed\">10</td><td class=\"thu\">11</td><td class=\"fri\">12</td><td class=\"sat\">13</td><td class=\"sun\">14</td></tr>\\n<tr><td class=\"mon\">15</td><td class=\"tue\">16</td><td class=\"wed\">17</td><td class=\"thu\">18</td><td class=\"fri\">19</td><td class=\"sat\">20</td><td class=\"sun\">21</td></tr>\\n<tr><td class=\"mon\">22</td><td class=\"tue\">23</td><td class=\"wed\">24</td><td class=\"thu\">25</td><td class=\"fri\">26</td><td class=\"sat\">27</td><td class=\"sun\">28</td></tr>\\n<tr><td class=\"mon\">29</td><td class=\"noday\">&nbsp;</td><td class=\"noday\">&nbsp;</td><td class=\"noday\">&nbsp;</td><td class=\"noday\">&nbsp;</td><td class=\"noday\">&nbsp;</td><td class=\"noday\">&nbsp;</td></tr>\\n</table>\\n</td><td><table border=\"0\" cellpadding=\"0\" cellspacing=\"0\" class=\"month\">\\n<tr><th colspan=\"7\" class=\"month\">March</th></tr>\\n<tr><th class=\"mon\">Mon</th><th class=\"tue\">Tue</th><th class=\"wed\">Wed</th><th class=\"thu\">Thu</th><th class=\"fri\">Fri</th><th class=\"sat\">Sat</th><th class=\"sun\">Sun</th></tr>\\n<tr><td class=\"noday\">&nbsp;</td><td class=\"tue\">1</td><td class=\"wed\">2</td><td class=\"thu\">3</td><td class=\"fri\">4</td><td class=\"sat\">5</td><td class=\"sun\">6</td></tr>\\n<tr><td class=\"mon\">7</td><td class=\"tue\">8</td><td class=\"wed\">9</td><td class=\"thu\">10</td><td class=\"fri\">11</td><td class=\"sat\">12</td><td class=\"sun\">13</td></tr>\\n<tr><td class=\"mon\">14</td><td class=\"tue\">15</td><td class=\"wed\">16</td><td class=\"thu\">17</td><td class=\"fri\">18</td><td class=\"sat\">19</td><td class=\"sun\">20</td></tr>\\n<tr><td class=\"mon\">21</td><td class=\"tue\">22</td><td class=\"wed\">23</td><td class=\"thu\">24</td><td class=\"fri\">25</td><td class=\"sat\">26</td><td class=\"sun\">27</td></tr>\\n<tr><td class=\"mon\">28</td><td class=\"tue\">29</td><td class=\"wed\">30</td><td class=\"thu\">31</td><td class=\"noday\">&nbsp;</td><td class=\"noday\">&nbsp;</td><td class=\"noday\">&nbsp;</td></tr>\\n</table>\\n</td></tr><tr><td><table border=\"0\" cellpadding=\"0\" cellspacing=\"0\" class=\"month\">\\n<tr><th colspan=\"7\" class=\"month\">April</th></tr>\\n<tr><th class=\"mon\">Mon</th><th class=\"tue\">Tue</th><th class=\"wed\">Wed</th><th class=\"thu\">Thu</th><th class=\"fri\">Fri</th><th class=\"sat\">Sat</th><th class=\"sun\">Sun</th></tr>\\n<tr><td class=\"noday\">&nbsp;</td><td class=\"noday\">&nbsp;</td><td class=\"noday\">&nbsp;</td><td class=\"noday\">&nbsp;</td><td class=\"fri\">1</td><td class=\"sat\">2</td><td class=\"sun\">3</td></tr>\\n<tr><td class=\"mon\">4</td><td class=\"tue\">5</td><td class=\"wed\">6</td><td class=\"thu\">7</td><td class=\"fri\">8</td><td class=\"sat\">9</td><td class=\"sun\">10</td></tr>\\n<tr><td class=\"mon\">11</td><td class=\"tue\">12</td><td class=\"wed\">13</td><td class=\"thu\">14</td><td class=\"fri\">15</td><td class=\"sat\">16</td><td class=\"sun\">17</td></tr>\\n<tr><td class=\"mon\">18</td><td class=\"tue\">19</td><td class=\"wed\">20</td><td class=\"thu\">21</td><td class=\"fri\">22</td><td class=\"sat\">23</td><td class=\"sun\">24</td></tr>\\n<tr><td class=\"mon\">25</td><td class=\"tue\">26</td><td class=\"wed\">27</td><td class=\"thu\">28</td><td class=\"fri\">29</td><td class=\"sat\">30</td><td class=\"noday\">&nbsp;</td></tr>\\n</table>\\n</td><td><table border=\"0\" cellpadding=\"0\" cellspacing=\"0\" class=\"month\">\\n<tr><th colspan=\"7\" class=\"month\">May</th></tr>\\n<tr><th class=\"mon\">Mon</th><th class=\"tue\">Tue</th><th class=\"wed\">Wed</th><th class=\"thu\">Thu</th><th class=\"fri\">Fri</th><th class=\"sat\">Sat</th><th class=\"sun\">Sun</th></tr>\\n<tr><td class=\"noday\">&nbsp;</td><td class=\"noday\">&nbsp;</td><td class=\"noday\">&nbsp;</td><td class=\"noday\">&nbsp;</td><td class=\"noday\">&nbsp;</td><td class=\"noday\">&nbsp;</td><td class=\"sun\">1</td></tr>\\n<tr><td class=\"mon\">2</td><td class=\"tue\">3</td><td class=\"wed\">4</td><td class=\"thu\">5</td><td class=\"fri\">6</td><td class=\"sat\">7</td><td class=\"sun\">8</td></tr>\\n<tr><td class=\"mon\">9</td><td class=\"tue\">10</td><td class=\"wed\">11</td><td class=\"thu\">12</td><td class=\"fri\">13</td><td class=\"sat\">14</td><td class=\"sun\">15</td></tr>\\n<tr><td class=\"mon\">16</td><td class=\"tue\">17</td><td class=\"wed\">18</td><td class=\"thu\">19</td><td class=\"fri\">20</td><td class=\"sat\">21</td><td class=\"sun\">22</td></tr>\\n<tr><td class=\"mon\">23</td><td class=\"tue\">24</td><td class=\"wed\">25</td><td class=\"thu\">26</td><td class=\"fri\">27</td><td class=\"sat\">28</td><td class=\"sun\">29</td></tr>\\n<tr><td class=\"mon\">30</td><td class=\"tue\">31</td><td class=\"noday\">&nbsp;</td><td class=\"noday\">&nbsp;</td><td class=\"noday\">&nbsp;</td><td class=\"noday\">&nbsp;</td><td class=\"noday\">&nbsp;</td></tr>\\n</table>\\n</td><td><table border=\"0\" cellpadding=\"0\" cellspacing=\"0\" class=\"month\">\\n<tr><th colspan=\"7\" class=\"month\">June</th></tr>\\n<tr><th class=\"mon\">Mon</th><th class=\"tue\">Tue</th><th class=\"wed\">Wed</th><th class=\"thu\">Thu</th><th class=\"fri\">Fri</th><th class=\"sat\">Sat</th><th class=\"sun\">Sun</th></tr>\\n<tr><td class=\"noday\">&nbsp;</td><td class=\"noday\">&nbsp;</td><td class=\"wed\">1</td><td class=\"thu\">2</td><td class=\"fri\">3</td><td class=\"sat\">4</td><td class=\"sun\">5</td></tr>\\n<tr><td class=\"mon\">6</td><td class=\"tue\">7</td><td class=\"wed\">8</td><td class=\"thu\">9</td><td class=\"fri\">10</td><td class=\"sat\">11</td><td class=\"sun\">12</td></tr>\\n<tr><td class=\"mon\">13</td><td class=\"tue\">14</td><td class=\"wed\">15</td><td class=\"thu\">16</td><td class=\"fri\">17</td><td class=\"sat\">18</td><td class=\"sun\">19</td></tr>\\n<tr><td class=\"mon\">20</td><td class=\"tue\">21</td><td class=\"wed\">22</td><td class=\"thu\">23</td><td class=\"fri\">24</td><td class=\"sat\">25</td><td class=\"sun\">26</td></tr>\\n<tr><td class=\"mon\">27</td><td class=\"tue\">28</td><td class=\"wed\">29</td><td class=\"thu\">30</td><td class=\"noday\">&nbsp;</td><td class=\"noday\">&nbsp;</td><td class=\"noday\">&nbsp;</td></tr>\\n</table>\\n</td></tr><tr><td><table border=\"0\" cellpadding=\"0\" cellspacing=\"0\" class=\"month\">\\n<tr><th colspan=\"7\" class=\"month\">July</th></tr>\\n<tr><th class=\"mon\">Mon</th><th class=\"tue\">Tue</th><th class=\"wed\">Wed</th><th class=\"thu\">Thu</th><th class=\"fri\">Fri</th><th class=\"sat\">Sat</th><th class=\"sun\">Sun</th></tr>\\n<tr><td class=\"noday\">&nbsp;</td><td class=\"noday\">&nbsp;</td><td class=\"noday\">&nbsp;</td><td class=\"noday\">&nbsp;</td><td class=\"fri\">1</td><td class=\"sat\">2</td><td class=\"sun\">3</td></tr>\\n<tr><td class=\"mon\">4</td><td class=\"tue\">5</td><td class=\"wed\">6</td><td class=\"thu\">7</td><td class=\"fri\">8</td><td class=\"sat\">9</td><td class=\"sun\">10</td></tr>\\n<tr><td class=\"mon\">11</td><td class=\"tue\">12</td><td class=\"wed\">13</td><td class=\"thu\">14</td><td class=\"fri\">15</td><td class=\"sat\">16</td><td class=\"sun\">17</td></tr>\\n<tr><td class=\"mon\">18</td><td class=\"tue\">19</td><td class=\"wed\">20</td><td class=\"thu\">21</td><td class=\"fri\">22</td><td class=\"sat\">23</td><td class=\"sun\">24</td></tr>\\n<tr><td class=\"mon\">25</td><td class=\"tue\">26</td><td class=\"wed\">27</td><td class=\"thu\">28</td><td class=\"fri\">29</td><td class=\"sat\">30</td><td class=\"sun\">31</td></tr>\\n</table>\\n</td><td><table border=\"0\" cellpadding=\"0\" cellspacing=\"0\" class=\"month\">\\n<tr><th colspan=\"7\" class=\"month\">August</th></tr>\\n<tr><th class=\"mon\">Mon</th><th class=\"tue\">Tue</th><th class=\"wed\">Wed</th><th class=\"thu\">Thu</th><th class=\"fri\">Fri</th><th class=\"sat\">Sat</th><th class=\"sun\">Sun</th></tr>\\n<tr><td class=\"mon\">1</td><td class=\"tue\">2</td><td class=\"wed\">3</td><td class=\"thu\">4</td><td class=\"fri\">5</td><td class=\"sat\">6</td><td class=\"sun\">7</td></tr>\\n<tr><td class=\"mon\">8</td><td class=\"tue\">9</td><td class=\"wed\">10</td><td class=\"thu\">11</td><td class=\"fri\">12</td><td class=\"sat\">13</td><td class=\"sun\">14</td></tr>\\n<tr><td class=\"mon\">15</td><td class=\"tue\">16</td><td class=\"wed\">17</td><td class=\"thu\">18</td><td class=\"fri\">19</td><td class=\"sat\">20</td><td class=\"sun\">21</td></tr>\\n<tr><td class=\"mon\">22</td><td class=\"tue\">23</td><td class=\"wed\">24</td><td class=\"thu\">25</td><td class=\"fri\">26</td><td class=\"sat\">27</td><td class=\"sun\">28</td></tr>\\n<tr><td class=\"mon\">29</td><td class=\"tue\">30</td><td class=\"wed\">31</td><td class=\"noday\">&nbsp;</td><td class=\"noday\">&nbsp;</td><td class=\"noday\">&nbsp;</td><td class=\"noday\">&nbsp;</td></tr>\\n</table>\\n</td><td><table border=\"0\" cellpadding=\"0\" cellspacing=\"0\" class=\"month\">\\n<tr><th colspan=\"7\" class=\"month\">September</th></tr>\\n<tr><th class=\"mon\">Mon</th><th class=\"tue\">Tue</th><th class=\"wed\">Wed</th><th class=\"thu\">Thu</th><th class=\"fri\">Fri</th><th class=\"sat\">Sat</th><th class=\"sun\">Sun</th></tr>\\n<tr><td class=\"noday\">&nbsp;</td><td class=\"noday\">&nbsp;</td><td class=\"noday\">&nbsp;</td><td class=\"thu\">1</td><td class=\"fri\">2</td><td class=\"sat\">3</td><td class=\"sun\">4</td></tr>\\n<tr><td class=\"mon\">5</td><td class=\"tue\">6</td><td class=\"wed\">7</td><td class=\"thu\">8</td><td class=\"fri\">9</td><td class=\"sat\">10</td><td class=\"sun\">11</td></tr>\\n<tr><td class=\"mon\">12</td><td class=\"tue\">13</td><td class=\"wed\">14</td><td class=\"thu\">15</td><td class=\"fri\">16</td><td class=\"sat\">17</td><td class=\"sun\">18</td></tr>\\n<tr><td class=\"mon\">19</td><td class=\"tue\">20</td><td class=\"wed\">21</td><td class=\"thu\">22</td><td class=\"fri\">23</td><td class=\"sat\">24</td><td class=\"sun\">25</td></tr>\\n<tr><td class=\"mon\">26</td><td class=\"tue\">27</td><td class=\"wed\">28</td><td class=\"thu\">29</td><td class=\"fri\">30</td><td class=\"noday\">&nbsp;</td><td class=\"noday\">&nbsp;</td></tr>\\n</table>\\n</td></tr><tr><td><table border=\"0\" cellpadding=\"0\" cellspacing=\"0\" class=\"month\">\\n<tr><th colspan=\"7\" class=\"month\">October</th></tr>\\n<tr><th class=\"mon\">Mon</th><th class=\"tue\">Tue</th><th class=\"wed\">Wed</th><th class=\"thu\">Thu</th><th class=\"fri\">Fri</th><th class=\"sat\">Sat</th><th class=\"sun\">Sun</th></tr>\\n<tr><td class=\"noday\">&nbsp;</td><td class=\"noday\">&nbsp;</td><td class=\"noday\">&nbsp;</td><td class=\"noday\">&nbsp;</td><td class=\"noday\">&nbsp;</td><td class=\"sat\">1</td><td class=\"sun\">2</td></tr>\\n<tr><td class=\"mon\">3</td><td class=\"tue\">4</td><td class=\"wed\">5</td><td class=\"thu\">6</td><td class=\"fri\">7</td><td class=\"sat\">8</td><td class=\"sun\">9</td></tr>\\n<tr><td class=\"mon\">10</td><td class=\"tue\">11</td><td class=\"wed\">12</td><td class=\"thu\">13</td><td class=\"fri\">14</td><td class=\"sat\">15</td><td class=\"sun\">16</td></tr>\\n<tr><td class=\"mon\">17</td><td class=\"tue\">18</td><td class=\"wed\">19</td><td class=\"thu\">20</td><td class=\"fri\">21</td><td class=\"sat\">22</td><td class=\"sun\">23</td></tr>\\n<tr><td class=\"mon\">24</td><td class=\"tue\">25</td><td class=\"wed\">26</td><td class=\"thu\">27</td><td class=\"fri\">28</td><td class=\"sat\">29</td><td class=\"sun\">30</td></tr>\\n<tr><td class=\"mon\">31</td><td class=\"noday\">&nbsp;</td><td class=\"noday\">&nbsp;</td><td class=\"noday\">&nbsp;</td><td class=\"noday\">&nbsp;</td><td class=\"noday\">&nbsp;</td><td class=\"noday\">&nbsp;</td></tr>\\n</table>\\n</td><td><table border=\"0\" cellpadding=\"0\" cellspacing=\"0\" class=\"month\">\\n<tr><th colspan=\"7\" class=\"month\">November</th></tr>\\n<tr><th class=\"mon\">Mon</th><th class=\"tue\">Tue</th><th class=\"wed\">Wed</th><th class=\"thu\">Thu</th><th class=\"fri\">Fri</th><th class=\"sat\">Sat</th><th class=\"sun\">Sun</th></tr>\\n<tr><td class=\"noday\">&nbsp;</td><td class=\"tue\">1</td><td class=\"wed\">2</td><td class=\"thu\">3</td><td class=\"fri\">4</td><td class=\"sat\">5</td><td class=\"sun\">6</td></tr>\\n<tr><td class=\"mon\">7</td><td class=\"tue\">8</td><td class=\"wed\">9</td><td class=\"thu\">10</td><td class=\"fri\">11</td><td class=\"sat\">12</td><td class=\"sun\">13</td></tr>\\n<tr><td class=\"mon\">14</td><td class=\"tue\">15</td><td class=\"wed\">16</td><td class=\"thu\">17</td><td class=\"fri\">18</td><td class=\"sat\">19</td><td class=\"sun\">20</td></tr>\\n<tr><td class=\"mon\">21</td><td class=\"tue\">22</td><td class=\"wed\">23</td><td class=\"thu\">24</td><td class=\"fri\">25</td><td class=\"sat\">26</td><td class=\"sun\">27</td></tr>\\n<tr><td class=\"mon\">28</td><td class=\"tue\">29</td><td class=\"wed\">30</td><td class=\"noday\">&nbsp;</td><td class=\"noday\">&nbsp;</td><td class=\"noday\">&nbsp;</td><td class=\"noday\">&nbsp;</td></tr>\\n</table>\\n</td><td><table border=\"0\" cellpadding=\"0\" cellspacing=\"0\" class=\"month\">\\n<tr><th colspan=\"7\" class=\"month\">December</th></tr>\\n<tr><th class=\"mon\">Mon</th><th class=\"tue\">Tue</th><th class=\"wed\">Wed</th><th class=\"thu\">Thu</th><th class=\"fri\">Fri</th><th class=\"sat\">Sat</th><th class=\"sun\">Sun</th></tr>\\n<tr><td class=\"noday\">&nbsp;</td><td class=\"noday\">&nbsp;</td><td class=\"noday\">&nbsp;</td><td class=\"thu\">1</td><td class=\"fri\">2</td><td class=\"sat\">3</td><td class=\"sun\">4</td></tr>\\n<tr><td class=\"mon\">5</td><td class=\"tue\">6</td><td class=\"wed\">7</td><td class=\"thu\">8</td><td class=\"fri\">9</td><td class=\"sat\">10</td><td class=\"sun\">11</td></tr>\\n<tr><td class=\"mon\">12</td><td class=\"tue\">13</td><td class=\"wed\">14</td><td class=\"thu\">15</td><td class=\"fri\">16</td><td class=\"sat\">17</td><td class=\"sun\">18</td></tr>\\n<tr><td class=\"mon\">19</td><td class=\"tue\">20</td><td class=\"wed\">21</td><td class=\"thu\">22</td><td class=\"fri\">23</td><td class=\"sat\">24</td><td class=\"sun\">25</td></tr>\\n<tr><td class=\"mon\">26</td><td class=\"tue\">27</td><td class=\"wed\">28</td><td class=\"thu\">29</td><td class=\"fri\">30</td><td class=\"sat\">31</td><td class=\"noday\">&nbsp;</td></tr>\\n</table>\\n</td></tr></table>'"
      ]
     },
     "execution_count": 484,
     "metadata": {},
     "output_type": "execute_result"
    }
   ],
   "source": [
    "calcsee.formatyear(int(yrints))"
   ]
  },
  {
   "cell_type": "code",
   "execution_count": 485,
   "metadata": {
    "collapsed": true
   },
   "outputs": [],
   "source": [
    "import os"
   ]
  },
  {
   "cell_type": "code",
   "execution_count": 486,
   "metadata": {
    "collapsed": false
   },
   "outputs": [
    {
     "ename": "SyntaxError",
     "evalue": "invalid syntax (<ipython-input-486-024bf0bece45>, line 1)",
     "output_type": "error",
     "traceback": [
      "\u001b[1;36m  File \u001b[1;32m\"<ipython-input-486-024bf0bece45>\"\u001b[1;36m, line \u001b[1;32m1\u001b[0m\n\u001b[1;33m    os.\u001b[0m\n\u001b[1;37m       ^\u001b[0m\n\u001b[1;31mSyntaxError\u001b[0m\u001b[1;31m:\u001b[0m invalid syntax\n"
     ]
    }
   ],
   "source": [
    "os."
   ]
  },
  {
   "cell_type": "code",
   "execution_count": 487,
   "metadata": {
    "collapsed": true
   },
   "outputs": [],
   "source": [
    "import sys"
   ]
  },
  {
   "cell_type": "code",
   "execution_count": 488,
   "metadata": {
    "collapsed": false
   },
   "outputs": [
    {
     "data": {
      "text/plain": [
       "['',\n",
       " '/usr/local/lib/python3.4/dist-packages/pyandoc-0.0.1-py3.4.egg',\n",
       " '/usr/lib/python3.4',\n",
       " '/usr/lib/python3.4/plat-arm-linux-gnueabihf',\n",
       " '/usr/lib/python3.4/lib-dynload',\n",
       " '/usr/local/lib/python3.4/dist-packages',\n",
       " '/usr/lib/python3/dist-packages',\n",
       " '/usr/local/lib/python3.4/dist-packages/IPython/extensions',\n",
       " '/home/wcm/.ipython']"
      ]
     },
     "execution_count": 488,
     "metadata": {},
     "output_type": "execute_result"
    }
   ],
   "source": [
    "sys.path"
   ]
  },
  {
   "cell_type": "code",
   "execution_count": 489,
   "metadata": {
    "collapsed": false
   },
   "outputs": [
    {
     "data": {
      "text/plain": [
       "'3.4.2 (default, Oct  8 2014, 14:38:51) \\n[GCC 4.9.1]'"
      ]
     },
     "execution_count": 489,
     "metadata": {},
     "output_type": "execute_result"
    }
   ],
   "source": [
    "sys.version"
   ]
  },
  {
   "cell_type": "code",
   "execution_count": 490,
   "metadata": {
    "collapsed": false
   },
   "outputs": [
    {
     "data": {
      "text/plain": [
       "sys.hash_info(width=32, modulus=2147483647, inf=314159, nan=0, imag=1000003, algorithm='siphash24', hash_bits=64, seed_bits=128, cutoff=0)"
      ]
     },
     "execution_count": 490,
     "metadata": {},
     "output_type": "execute_result"
    }
   ],
   "source": [
    "sys.hash_info"
   ]
  },
  {
   "cell_type": "code",
   "execution_count": 491,
   "metadata": {
    "collapsed": false
   },
   "outputs": [],
   "source": [
    "sys.getprofile()"
   ]
  },
  {
   "cell_type": "code",
   "execution_count": 492,
   "metadata": {
    "collapsed": false
   },
   "outputs": [
    {
     "data": {
      "text/plain": [
       "sys.hash_info(width=32, modulus=2147483647, inf=314159, nan=0, imag=1000003, algorithm='siphash24', hash_bits=64, seed_bits=128, cutoff=0)"
      ]
     },
     "execution_count": 492,
     "metadata": {},
     "output_type": "execute_result"
    }
   ],
   "source": [
    "sys.hash_info"
   ]
  },
  {
   "cell_type": "code",
   "execution_count": 493,
   "metadata": {
    "collapsed": false
   },
   "outputs": [
    {
     "data": {
      "text/plain": [
       "{'IPython': <module 'IPython' from '/usr/local/lib/python3.4/dist-packages/IPython/__init__.py'>,\n",
       " 'IPython.core': <module 'IPython.core' from '/usr/local/lib/python3.4/dist-packages/IPython/core/__init__.py'>,\n",
       " 'IPython.core.alias': <module 'IPython.core.alias' from '/usr/local/lib/python3.4/dist-packages/IPython/core/alias.py'>,\n",
       " 'IPython.core.application': <module 'IPython.core.application' from '/usr/local/lib/python3.4/dist-packages/IPython/core/application.py'>,\n",
       " 'IPython.core.autocall': <module 'IPython.core.autocall' from '/usr/local/lib/python3.4/dist-packages/IPython/core/autocall.py'>,\n",
       " 'IPython.core.builtin_trap': <module 'IPython.core.builtin_trap' from '/usr/local/lib/python3.4/dist-packages/IPython/core/builtin_trap.py'>,\n",
       " 'IPython.core.compilerop': <module 'IPython.core.compilerop' from '/usr/local/lib/python3.4/dist-packages/IPython/core/compilerop.py'>,\n",
       " 'IPython.core.completer': <module 'IPython.core.completer' from '/usr/local/lib/python3.4/dist-packages/IPython/core/completer.py'>,\n",
       " 'IPython.core.completerlib': <module 'IPython.core.completerlib' from '/usr/local/lib/python3.4/dist-packages/IPython/core/completerlib.py'>,\n",
       " 'IPython.core.crashhandler': <module 'IPython.core.crashhandler' from '/usr/local/lib/python3.4/dist-packages/IPython/core/crashhandler.py'>,\n",
       " 'IPython.core.debugger': <module 'IPython.core.debugger' from '/usr/local/lib/python3.4/dist-packages/IPython/core/debugger.py'>,\n",
       " 'IPython.core.display': <module 'IPython.core.display' from '/usr/local/lib/python3.4/dist-packages/IPython/core/display.py'>,\n",
       " 'IPython.core.display_trap': <module 'IPython.core.display_trap' from '/usr/local/lib/python3.4/dist-packages/IPython/core/display_trap.py'>,\n",
       " 'IPython.core.displayhook': <module 'IPython.core.displayhook' from '/usr/local/lib/python3.4/dist-packages/IPython/core/displayhook.py'>,\n",
       " 'IPython.core.displaypub': <module 'IPython.core.displaypub' from '/usr/local/lib/python3.4/dist-packages/IPython/core/displaypub.py'>,\n",
       " 'IPython.core.error': <module 'IPython.core.error' from '/usr/local/lib/python3.4/dist-packages/IPython/core/error.py'>,\n",
       " 'IPython.core.events': <module 'IPython.core.events' from '/usr/local/lib/python3.4/dist-packages/IPython/core/events.py'>,\n",
       " 'IPython.core.excolors': <module 'IPython.core.excolors' from '/usr/local/lib/python3.4/dist-packages/IPython/core/excolors.py'>,\n",
       " 'IPython.core.extensions': <module 'IPython.core.extensions' from '/usr/local/lib/python3.4/dist-packages/IPython/core/extensions.py'>,\n",
       " 'IPython.core.formatters': <module 'IPython.core.formatters' from '/usr/local/lib/python3.4/dist-packages/IPython/core/formatters.py'>,\n",
       " 'IPython.core.getipython': <module 'IPython.core.getipython' from '/usr/local/lib/python3.4/dist-packages/IPython/core/getipython.py'>,\n",
       " 'IPython.core.history': <module 'IPython.core.history' from '/usr/local/lib/python3.4/dist-packages/IPython/core/history.py'>,\n",
       " 'IPython.core.hooks': <module 'IPython.core.hooks' from '/usr/local/lib/python3.4/dist-packages/IPython/core/hooks.py'>,\n",
       " 'IPython.core.inputsplitter': <module 'IPython.core.inputsplitter' from '/usr/local/lib/python3.4/dist-packages/IPython/core/inputsplitter.py'>,\n",
       " 'IPython.core.inputtransformer': <module 'IPython.core.inputtransformer' from '/usr/local/lib/python3.4/dist-packages/IPython/core/inputtransformer.py'>,\n",
       " 'IPython.core.interactiveshell': <module 'IPython.core.interactiveshell' from '/usr/local/lib/python3.4/dist-packages/IPython/core/interactiveshell.py'>,\n",
       " 'IPython.core.latex_symbols': <module 'IPython.core.latex_symbols' from '/usr/local/lib/python3.4/dist-packages/IPython/core/latex_symbols.py'>,\n",
       " 'IPython.core.logger': <module 'IPython.core.logger' from '/usr/local/lib/python3.4/dist-packages/IPython/core/logger.py'>,\n",
       " 'IPython.core.macro': <module 'IPython.core.macro' from '/usr/local/lib/python3.4/dist-packages/IPython/core/macro.py'>,\n",
       " 'IPython.core.magic': <module 'IPython.core.magic' from '/usr/local/lib/python3.4/dist-packages/IPython/core/magic.py'>,\n",
       " 'IPython.core.magic_arguments': <module 'IPython.core.magic_arguments' from '/usr/local/lib/python3.4/dist-packages/IPython/core/magic_arguments.py'>,\n",
       " 'IPython.core.magics': <module 'IPython.core.magics' from '/usr/local/lib/python3.4/dist-packages/IPython/core/magics/__init__.py'>,\n",
       " 'IPython.core.magics.auto': <module 'IPython.core.magics.auto' from '/usr/local/lib/python3.4/dist-packages/IPython/core/magics/auto.py'>,\n",
       " 'IPython.core.magics.basic': <module 'IPython.core.magics.basic' from '/usr/local/lib/python3.4/dist-packages/IPython/core/magics/basic.py'>,\n",
       " 'IPython.core.magics.code': <module 'IPython.core.magics.code' from '/usr/local/lib/python3.4/dist-packages/IPython/core/magics/code.py'>,\n",
       " 'IPython.core.magics.config': <module 'IPython.core.magics.config' from '/usr/local/lib/python3.4/dist-packages/IPython/core/magics/config.py'>,\n",
       " 'IPython.core.magics.deprecated': <module 'IPython.core.magics.deprecated' from '/usr/local/lib/python3.4/dist-packages/IPython/core/magics/deprecated.py'>,\n",
       " 'IPython.core.magics.display': <module 'IPython.core.magics.display' from '/usr/local/lib/python3.4/dist-packages/IPython/core/magics/display.py'>,\n",
       " 'IPython.core.magics.execution': <module 'IPython.core.magics.execution' from '/usr/local/lib/python3.4/dist-packages/IPython/core/magics/execution.py'>,\n",
       " 'IPython.core.magics.extension': <module 'IPython.core.magics.extension' from '/usr/local/lib/python3.4/dist-packages/IPython/core/magics/extension.py'>,\n",
       " 'IPython.core.magics.history': <module 'IPython.core.magics.history' from '/usr/local/lib/python3.4/dist-packages/IPython/core/magics/history.py'>,\n",
       " 'IPython.core.magics.logging': <module 'IPython.core.magics.logging' from '/usr/local/lib/python3.4/dist-packages/IPython/core/magics/logging.py'>,\n",
       " 'IPython.core.magics.namespace': <module 'IPython.core.magics.namespace' from '/usr/local/lib/python3.4/dist-packages/IPython/core/magics/namespace.py'>,\n",
       " 'IPython.core.magics.osm': <module 'IPython.core.magics.osm' from '/usr/local/lib/python3.4/dist-packages/IPython/core/magics/osm.py'>,\n",
       " 'IPython.core.magics.pylab': <module 'IPython.core.magics.pylab' from '/usr/local/lib/python3.4/dist-packages/IPython/core/magics/pylab.py'>,\n",
       " 'IPython.core.magics.script': <module 'IPython.core.magics.script' from '/usr/local/lib/python3.4/dist-packages/IPython/core/magics/script.py'>,\n",
       " 'IPython.core.oinspect': <module 'IPython.core.oinspect' from '/usr/local/lib/python3.4/dist-packages/IPython/core/oinspect.py'>,\n",
       " 'IPython.core.page': <module 'IPython.core.page' from '/usr/local/lib/python3.4/dist-packages/IPython/core/page.py'>,\n",
       " 'IPython.core.payload': <module 'IPython.core.payload' from '/usr/local/lib/python3.4/dist-packages/IPython/core/payload.py'>,\n",
       " 'IPython.core.payloadpage': <module 'IPython.core.payloadpage' from '/usr/local/lib/python3.4/dist-packages/IPython/core/payloadpage.py'>,\n",
       " 'IPython.core.prefilter': <module 'IPython.core.prefilter' from '/usr/local/lib/python3.4/dist-packages/IPython/core/prefilter.py'>,\n",
       " 'IPython.core.profiledir': <module 'IPython.core.profiledir' from '/usr/local/lib/python3.4/dist-packages/IPython/core/profiledir.py'>,\n",
       " 'IPython.core.prompts': <module 'IPython.core.prompts' from '/usr/local/lib/python3.4/dist-packages/IPython/core/prompts.py'>,\n",
       " 'IPython.core.pylabtools': <module 'IPython.core.pylabtools' from '/usr/local/lib/python3.4/dist-packages/IPython/core/pylabtools.py'>,\n",
       " 'IPython.core.release': <module 'IPython.core.release' from '/usr/local/lib/python3.4/dist-packages/IPython/core/release.py'>,\n",
       " 'IPython.core.shadowns': <module 'IPython.core.shadowns' from '/usr/local/lib/python3.4/dist-packages/IPython/core/shadowns.py'>,\n",
       " 'IPython.core.shellapp': <module 'IPython.core.shellapp' from '/usr/local/lib/python3.4/dist-packages/IPython/core/shellapp.py'>,\n",
       " 'IPython.core.splitinput': <module 'IPython.core.splitinput' from '/usr/local/lib/python3.4/dist-packages/IPython/core/splitinput.py'>,\n",
       " 'IPython.core.ultratb': <module 'IPython.core.ultratb' from '/usr/local/lib/python3.4/dist-packages/IPython/core/ultratb.py'>,\n",
       " 'IPython.core.usage': <module 'IPython.core.usage' from '/usr/local/lib/python3.4/dist-packages/IPython/core/usage.py'>,\n",
       " 'IPython.display': <module 'IPython.display' from '/usr/local/lib/python3.4/dist-packages/IPython/display.py'>,\n",
       " 'IPython.extensions': <module 'IPython.extensions' from '/usr/local/lib/python3.4/dist-packages/IPython/extensions/__init__.py'>,\n",
       " 'IPython.extensions.storemagic': <module 'IPython.extensions.storemagic' from '/usr/local/lib/python3.4/dist-packages/IPython/extensions/storemagic.py'>,\n",
       " 'IPython.lib': <module 'IPython.lib' from '/usr/local/lib/python3.4/dist-packages/IPython/lib/__init__.py'>,\n",
       " 'IPython.lib.backgroundjobs': <module 'IPython.lib.backgroundjobs' from '/usr/local/lib/python3.4/dist-packages/IPython/lib/backgroundjobs.py'>,\n",
       " 'IPython.lib.clipboard': <module 'IPython.lib.clipboard' from '/usr/local/lib/python3.4/dist-packages/IPython/lib/clipboard.py'>,\n",
       " 'IPython.lib.deepreload': <module 'IPython.lib.deepreload' from '/usr/local/lib/python3.4/dist-packages/IPython/lib/deepreload.py'>,\n",
       " 'IPython.lib.display': <module 'IPython.lib.display' from '/usr/local/lib/python3.4/dist-packages/IPython/lib/display.py'>,\n",
       " 'IPython.lib.inputhook': <module 'IPython.lib.inputhook' from '/usr/local/lib/python3.4/dist-packages/IPython/lib/inputhook.py'>,\n",
       " 'IPython.lib.pretty': <module 'IPython.lib.pretty' from '/usr/local/lib/python3.4/dist-packages/IPython/lib/pretty.py'>,\n",
       " 'IPython.lib.security': <module 'IPython.lib.security' from '/usr/local/lib/python3.4/dist-packages/IPython/lib/security.py'>,\n",
       " 'IPython.paths': <module 'IPython.paths' from '/usr/local/lib/python3.4/dist-packages/IPython/paths.py'>,\n",
       " 'IPython.terminal': <module 'IPython.terminal' from '/usr/local/lib/python3.4/dist-packages/IPython/terminal/__init__.py'>,\n",
       " 'IPython.terminal.embed': <module 'IPython.terminal.embed' from '/usr/local/lib/python3.4/dist-packages/IPython/terminal/embed.py'>,\n",
       " 'IPython.terminal.interactiveshell': <module 'IPython.terminal.interactiveshell' from '/usr/local/lib/python3.4/dist-packages/IPython/terminal/interactiveshell.py'>,\n",
       " 'IPython.terminal.ipapp': <module 'IPython.terminal.ipapp' from '/usr/local/lib/python3.4/dist-packages/IPython/terminal/ipapp.py'>,\n",
       " 'IPython.testing': <module 'IPython.testing' from '/usr/local/lib/python3.4/dist-packages/IPython/testing/__init__.py'>,\n",
       " 'IPython.testing.skipdoctest': <module 'IPython.testing.skipdoctest' from '/usr/local/lib/python3.4/dist-packages/IPython/testing/skipdoctest.py'>,\n",
       " 'IPython.utils': <module 'IPython.utils' from '/usr/local/lib/python3.4/dist-packages/IPython/utils/__init__.py'>,\n",
       " 'IPython.utils.PyColorize': <module 'IPython.utils.PyColorize' from '/usr/local/lib/python3.4/dist-packages/IPython/utils/PyColorize.py'>,\n",
       " 'IPython.utils._process_common': <module 'IPython.utils._process_common' from '/usr/local/lib/python3.4/dist-packages/IPython/utils/_process_common.py'>,\n",
       " 'IPython.utils._process_posix': <module 'IPython.utils._process_posix' from '/usr/local/lib/python3.4/dist-packages/IPython/utils/_process_posix.py'>,\n",
       " 'IPython.utils._sysinfo': <module 'IPython.utils._sysinfo' from '/usr/local/lib/python3.4/dist-packages/IPython/utils/_sysinfo.py'>,\n",
       " 'IPython.utils._tokenize_py3': <module 'IPython.utils._tokenize_py3' from '/usr/local/lib/python3.4/dist-packages/IPython/utils/_tokenize_py3.py'>,\n",
       " 'IPython.utils.capture': <module 'IPython.utils.capture' from '/usr/local/lib/python3.4/dist-packages/IPython/utils/capture.py'>,\n",
       " 'IPython.utils.coloransi': <module 'IPython.utils.coloransi' from '/usr/local/lib/python3.4/dist-packages/IPython/utils/coloransi.py'>,\n",
       " 'IPython.utils.contexts': <module 'IPython.utils.contexts' from '/usr/local/lib/python3.4/dist-packages/IPython/utils/contexts.py'>,\n",
       " 'IPython.utils.data': <module 'IPython.utils.data' from '/usr/local/lib/python3.4/dist-packages/IPython/utils/data.py'>,\n",
       " 'IPython.utils.decorators': <module 'IPython.utils.decorators' from '/usr/local/lib/python3.4/dist-packages/IPython/utils/decorators.py'>,\n",
       " 'IPython.utils.dir2': <module 'IPython.utils.dir2' from '/usr/local/lib/python3.4/dist-packages/IPython/utils/dir2.py'>,\n",
       " 'IPython.utils.encoding': <module 'IPython.utils.encoding' from '/usr/local/lib/python3.4/dist-packages/IPython/utils/encoding.py'>,\n",
       " 'IPython.utils.frame': <module 'IPython.utils.frame' from '/usr/local/lib/python3.4/dist-packages/IPython/utils/frame.py'>,\n",
       " 'IPython.utils.generics': <module 'IPython.utils.generics' from '/usr/local/lib/python3.4/dist-packages/IPython/utils/generics.py'>,\n",
       " 'IPython.utils.importstring': <module 'IPython.utils.importstring' from '/usr/local/lib/python3.4/dist-packages/IPython/utils/importstring.py'>,\n",
       " 'IPython.utils.io': <module 'IPython.utils.io' from '/usr/local/lib/python3.4/dist-packages/IPython/utils/io.py'>,\n",
       " 'IPython.utils.ipstruct': <module 'IPython.utils.ipstruct' from '/usr/local/lib/python3.4/dist-packages/IPython/utils/ipstruct.py'>,\n",
       " 'IPython.utils.module_paths': <module 'IPython.utils.module_paths' from '/usr/local/lib/python3.4/dist-packages/IPython/utils/module_paths.py'>,\n",
       " 'IPython.utils.openpy': <module 'IPython.utils.openpy' from '/usr/local/lib/python3.4/dist-packages/IPython/utils/openpy.py'>,\n",
       " 'IPython.utils.path': <module 'IPython.utils.path' from '/usr/local/lib/python3.4/dist-packages/IPython/utils/path.py'>,\n",
       " 'IPython.utils.process': <module 'IPython.utils.process' from '/usr/local/lib/python3.4/dist-packages/IPython/utils/process.py'>,\n",
       " 'IPython.utils.py3compat': <module 'IPython.utils.py3compat' from '/usr/local/lib/python3.4/dist-packages/IPython/utils/py3compat.py'>,\n",
       " 'IPython.utils.sentinel': <module 'IPython.utils.sentinel' from '/usr/local/lib/python3.4/dist-packages/IPython/utils/sentinel.py'>,\n",
       " 'IPython.utils.signatures': <module 'IPython.utils.signatures' from '/usr/local/lib/python3.4/dist-packages/IPython/utils/signatures.py'>,\n",
       " 'IPython.utils.strdispatch': <module 'IPython.utils.strdispatch' from '/usr/local/lib/python3.4/dist-packages/IPython/utils/strdispatch.py'>,\n",
       " 'IPython.utils.sysinfo': <module 'IPython.utils.sysinfo' from '/usr/local/lib/python3.4/dist-packages/IPython/utils/sysinfo.py'>,\n",
       " 'IPython.utils.syspathcontext': <module 'IPython.utils.syspathcontext' from '/usr/local/lib/python3.4/dist-packages/IPython/utils/syspathcontext.py'>,\n",
       " 'IPython.utils.terminal': <module 'IPython.utils.terminal' from '/usr/local/lib/python3.4/dist-packages/IPython/utils/terminal.py'>,\n",
       " 'IPython.utils.text': <module 'IPython.utils.text' from '/usr/local/lib/python3.4/dist-packages/IPython/utils/text.py'>,\n",
       " 'IPython.utils.timing': <module 'IPython.utils.timing' from '/usr/local/lib/python3.4/dist-packages/IPython/utils/timing.py'>,\n",
       " 'IPython.utils.tokenize2': <module 'IPython.utils.tokenize2' from '/usr/local/lib/python3.4/dist-packages/IPython/utils/tokenize2.py'>,\n",
       " 'IPython.utils.tokenutil': <module 'IPython.utils.tokenutil' from '/usr/local/lib/python3.4/dist-packages/IPython/utils/tokenutil.py'>,\n",
       " 'IPython.utils.ulinecache': <module 'IPython.utils.ulinecache' from '/usr/local/lib/python3.4/dist-packages/IPython/utils/ulinecache.py'>,\n",
       " 'IPython.utils.warn': <module 'IPython.utils.warn' from '/usr/local/lib/python3.4/dist-packages/IPython/utils/warn.py'>,\n",
       " 'IPython.utils.wildcard': <module 'IPython.utils.wildcard' from '/usr/local/lib/python3.4/dist-packages/IPython/utils/wildcard.py'>,\n",
       " '_Cryptography_cffi_3dc5d345x2bad1bae': <module '_Cryptography_cffi_3dc5d345x2bad1bae' from '/usr/lib/python3/dist-packages/cryptography/_Cryptography_cffi_3dc5d345x2bad1bae.cpython-34m-arm-linux-gnueabihf.so'>,\n",
       " '_Cryptography_cffi_7ab3712bx4f158fee': <module '_Cryptography_cffi_7ab3712bx4f158fee' from '/usr/lib/python3/dist-packages/cryptography/_Cryptography_cffi_7ab3712bx4f158fee.cpython-34m-arm-linux-gnueabihf.so'>,\n",
       " '_Cryptography_cffi_dd416c1exc1767c5a': <module '_Cryptography_cffi_dd416c1exc1767c5a' from '/usr/lib/python3/dist-packages/cryptography/_Cryptography_cffi_dd416c1exc1767c5a.cpython-34m-arm-linux-gnueabihf.so'>,\n",
       " '__future__': <module '__future__' from '/usr/lib/python3.4/__future__.py'>,\n",
       " '__main__': <module '__main__'>,\n",
       " '__mp_main__': <module 'ipykernel.__main__' from '/usr/local/lib/python3.4/dist-packages/ipykernel/__main__.py'>,\n",
       " '_ast': <module '_ast' (built-in)>,\n",
       " '_bisect': <module '_bisect' (built-in)>,\n",
       " '_bootlocale': <module '_bootlocale' from '/usr/lib/python3.4/_bootlocale.py'>,\n",
       " '_bz2': <module '_bz2' from '/usr/lib/python3.4/lib-dynload/_bz2.cpython-34m-arm-linux-gnueabihf.so'>,\n",
       " '_cffi_backend': <module '_cffi_backend' from '/usr/lib/python3/dist-packages/_cffi_backend.cpython-34m-arm-linux-gnueabihf.so'>,\n",
       " '_codecs': <module '_codecs' (built-in)>,\n",
       " '_collections': <module '_collections' (built-in)>,\n",
       " '_collections_abc': <module '_collections_abc' from '/usr/lib/python3.4/_collections_abc.py'>,\n",
       " '_compat_pickle': <module '_compat_pickle' from '/usr/lib/python3.4/_compat_pickle.py'>,\n",
       " '_csv': <module '_csv' from '/usr/lib/python3.4/lib-dynload/_csv.cpython-34m-arm-linux-gnueabihf.so'>,\n",
       " '_ctypes': <module '_ctypes' from '/usr/lib/python3.4/lib-dynload/_ctypes.cpython-34m-arm-linux-gnueabihf.so'>,\n",
       " '_curses': <module '_curses' from '/usr/lib/python3.4/lib-dynload/_curses.cpython-34m-arm-linux-gnueabihf.so'>,\n",
       " '_cython_0_20_2': <module '_cython_0_20_2'>,\n",
       " '_cython_0_21': <module '_cython_0_21'>,\n",
       " '_datetime': <module '_datetime' (built-in)>,\n",
       " '_decimal': <module '_decimal' from '/usr/lib/python3.4/lib-dynload/_decimal.cpython-34m-arm-linux-gnueabihf.so'>,\n",
       " '_elementtree': <module '_elementtree' (built-in)>,\n",
       " '_frozen_importlib': <module 'importlib._bootstrap' (frozen)>,\n",
       " '_functools': <module '_functools' (built-in)>,\n",
       " '_hashlib': <module '_hashlib' from '/usr/lib/python3.4/lib-dynload/_hashlib.cpython-34m-arm-linux-gnueabihf.so'>,\n",
       " '_heapq': <module '_heapq' (built-in)>,\n",
       " '_imp': <module '_imp' (built-in)>,\n",
       " '_io': <module 'io' (built-in)>,\n",
       " '_json': <module '_json' from '/usr/lib/python3.4/lib-dynload/_json.cpython-34m-arm-linux-gnueabihf.so'>,\n",
       " '_locale': <module '_locale' (built-in)>,\n",
       " '_lsprof': <module '_lsprof' from '/usr/lib/python3.4/lib-dynload/_lsprof.cpython-34m-arm-linux-gnueabihf.so'>,\n",
       " '_lzma': <module '_lzma' from '/usr/lib/python3.4/lib-dynload/_lzma.cpython-34m-arm-linux-gnueabihf.so'>,\n",
       " '_markupbase': <module '_markupbase' from '/usr/lib/python3.4/_markupbase.py'>,\n",
       " '_multiprocessing': <module '_multiprocessing' from '/usr/lib/python3.4/lib-dynload/_multiprocessing.cpython-34m-arm-linux-gnueabihf.so'>,\n",
       " '_opcode': <module '_opcode' from '/usr/lib/python3.4/lib-dynload/_opcode.cpython-34m-arm-linux-gnueabihf.so'>,\n",
       " '_operator': <module '_operator' (built-in)>,\n",
       " '_pickle': <module '_pickle' (built-in)>,\n",
       " '_posixsubprocess': <module '_posixsubprocess' (built-in)>,\n",
       " '_random': <module '_random' (built-in)>,\n",
       " '_sitebuiltins': <module '_sitebuiltins' from '/usr/lib/python3.4/_sitebuiltins.py'>,\n",
       " '_socket': <module '_socket' (built-in)>,\n",
       " '_sqlite3': <module '_sqlite3' from '/usr/lib/python3.4/lib-dynload/_sqlite3.cpython-34m-arm-linux-gnueabihf.so'>,\n",
       " '_sre': <module '_sre' (built-in)>,\n",
       " '_ssl': <module '_ssl' from '/usr/lib/python3.4/lib-dynload/_ssl.cpython-34m-arm-linux-gnueabihf.so'>,\n",
       " '_stat': <module '_stat' (built-in)>,\n",
       " '_string': <module '_string' (built-in)>,\n",
       " '_strptime': <module '_strptime' from '/usr/lib/python3.4/_strptime.py'>,\n",
       " '_struct': <module '_struct' (built-in)>,\n",
       " '_sysconfigdata': <module '_sysconfigdata' from '/usr/lib/python3.4/_sysconfigdata.py'>,\n",
       " '_sysconfigdata_m': <module '_sysconfigdata_m' from '/usr/lib/python3.4/plat-arm-linux-gnueabihf/_sysconfigdata_m.py'>,\n",
       " '_thread': <module '_thread' (built-in)>,\n",
       " '_warnings': <module '_warnings' (built-in)>,\n",
       " '_weakref': <module '_weakref' (built-in)>,\n",
       " '_weakrefset': <module '_weakrefset' from '/usr/lib/python3.4/_weakrefset.py'>,\n",
       " 'abc': <module 'abc' from '/usr/lib/python3.4/abc.py'>,\n",
       " 'argparse': <module 'argparse' from '/usr/lib/python3.4/argparse.py'>,\n",
       " 'array': <module 'array' (built-in)>,\n",
       " 'arrow': <module 'arrow' from '/usr/local/lib/python3.4/dist-packages/arrow/__init__.py'>,\n",
       " 'arrow.api': <module 'arrow.api' from '/usr/local/lib/python3.4/dist-packages/arrow/api.py'>,\n",
       " 'arrow.arrow': <module 'arrow.arrow' from '/usr/local/lib/python3.4/dist-packages/arrow/arrow.py'>,\n",
       " 'arrow.factory': <module 'arrow.factory' from '/usr/local/lib/python3.4/dist-packages/arrow/factory.py'>,\n",
       " 'arrow.formatter': <module 'arrow.formatter' from '/usr/local/lib/python3.4/dist-packages/arrow/formatter.py'>,\n",
       " 'arrow.locales': <module 'arrow.locales' from '/usr/local/lib/python3.4/dist-packages/arrow/locales.py'>,\n",
       " 'arrow.parser': <module 'arrow.parser' from '/usr/local/lib/python3.4/dist-packages/arrow/parser.py'>,\n",
       " 'arrow.util': <module 'arrow.util' from '/usr/local/lib/python3.4/dist-packages/arrow/util.py'>,\n",
       " 'ast': <module 'ast' from '/usr/lib/python3.4/ast.py'>,\n",
       " 'atexit': <module 'atexit' (built-in)>,\n",
       " 'backports': <module 'backports'>,\n",
       " 'base64': <module 'base64' from '/usr/lib/python3.4/base64.py'>,\n",
       " 'bdb': <module 'bdb' from '/usr/lib/python3.4/bdb.py'>,\n",
       " 'binascii': <module 'binascii' (built-in)>,\n",
       " 'bisect': <module 'bisect' from '/usr/lib/python3.4/bisect.py'>,\n",
       " 'bs4': <module 'bs4' from '/usr/lib/python3/dist-packages/bs4/__init__.py'>,\n",
       " 'bs4.builder': <module 'bs4.builder' from '/usr/lib/python3/dist-packages/bs4/builder/__init__.py'>,\n",
       " 'bs4.builder._html5lib': <module 'bs4.builder._html5lib' from '/usr/lib/python3/dist-packages/bs4/builder/_html5lib.py'>,\n",
       " 'bs4.builder._htmlparser': <module 'bs4.builder._htmlparser' from '/usr/lib/python3/dist-packages/bs4/builder/_htmlparser.py'>,\n",
       " 'bs4.builder._lxml': <module 'bs4.builder._lxml' from '/usr/lib/python3/dist-packages/bs4/builder/_lxml.py'>,\n",
       " 'bs4.dammit': <module 'bs4.dammit' from '/usr/lib/python3/dist-packages/bs4/dammit.py'>,\n",
       " 'bs4.element': <module 'bs4.element' from '/usr/lib/python3/dist-packages/bs4/element.py'>,\n",
       " 'builtins': <module 'builtins' (built-in)>,\n",
       " 'bz2': <module 'bz2' from '/usr/lib/python3.4/bz2.py'>,\n",
       " 'cProfile': <module 'cProfile' from '/usr/lib/python3.4/cProfile.py'>,\n",
       " 'calendar': <module 'calendar' from '/usr/lib/python3.4/calendar.py'>,\n",
       " 'cffi': <module 'cffi' from '/usr/lib/python3/dist-packages/cffi/__init__.py'>,\n",
       " 'cffi.api': <module 'cffi.api' from '/usr/lib/python3/dist-packages/cffi/api.py'>,\n",
       " 'cffi.commontypes': <module 'cffi.commontypes' from '/usr/lib/python3/dist-packages/cffi/commontypes.py'>,\n",
       " 'cffi.cparser': <module 'cffi.cparser' from '/usr/lib/python3/dist-packages/cffi/cparser.py'>,\n",
       " 'cffi.ffiplatform': <module 'cffi.ffiplatform' from '/usr/lib/python3/dist-packages/cffi/ffiplatform.py'>,\n",
       " 'cffi.gc_weakref': <module 'cffi.gc_weakref' from '/usr/lib/python3/dist-packages/cffi/gc_weakref.py'>,\n",
       " 'cffi.lock': <module 'cffi.lock' from '/usr/lib/python3/dist-packages/cffi/lock.py'>,\n",
       " 'cffi.model': <module 'cffi.model' from '/usr/lib/python3/dist-packages/cffi/model.py'>,\n",
       " 'cffi.vengine_cpy': <module 'cffi.vengine_cpy' from '/usr/lib/python3/dist-packages/cffi/vengine_cpy.py'>,\n",
       " 'cffi.verifier': <module 'cffi.verifier' from '/usr/lib/python3/dist-packages/cffi/verifier.py'>,\n",
       " 'chardet': <module 'chardet' from '/usr/lib/python3/dist-packages/chardet/__init__.py'>,\n",
       " 'cmd': <module 'cmd' from '/usr/lib/python3.4/cmd.py'>,\n",
       " 'code': <module 'code' from '/usr/lib/python3.4/code.py'>,\n",
       " 'codecs': <module 'codecs' from '/usr/lib/python3.4/codecs.py'>,\n",
       " 'codeop': <module 'codeop' from '/usr/lib/python3.4/codeop.py'>,\n",
       " 'collections': <module 'collections' from '/usr/lib/python3.4/collections/__init__.py'>,\n",
       " 'collections.abc': <module 'collections.abc' from '/usr/lib/python3.4/collections/abc.py'>,\n",
       " 'concurrent': <module 'concurrent' from '/usr/lib/python3.4/concurrent/__init__.py'>,\n",
       " 'concurrent.futures': <module 'concurrent.futures' from '/usr/lib/python3.4/concurrent/futures/__init__.py'>,\n",
       " 'concurrent.futures._base': <module 'concurrent.futures._base' from '/usr/lib/python3.4/concurrent/futures/_base.py'>,\n",
       " 'concurrent.futures.process': <module 'concurrent.futures.process' from '/usr/lib/python3.4/concurrent/futures/process.py'>,\n",
       " 'concurrent.futures.thread': <module 'concurrent.futures.thread' from '/usr/lib/python3.4/concurrent/futures/thread.py'>,\n",
       " 'configparser': <module 'configparser' from '/usr/lib/python3.4/configparser.py'>,\n",
       " 'contextlib': <module 'contextlib' from '/usr/lib/python3.4/contextlib.py'>,\n",
       " 'copy': <module 'copy' from '/usr/lib/python3.4/copy.py'>,\n",
       " 'copyreg': <module 'copyreg' from '/usr/lib/python3.4/copyreg.py'>,\n",
       " 'cryptography': <module 'cryptography' from '/usr/lib/python3/dist-packages/cryptography/__init__.py'>,\n",
       " 'cryptography.__about__': <module 'cryptography.__about__' from '/usr/lib/python3/dist-packages/cryptography/__about__.py'>,\n",
       " 'cryptography.exceptions': <module 'cryptography.exceptions' from '/usr/lib/python3/dist-packages/cryptography/exceptions.py'>,\n",
       " 'cryptography.fernet': <module 'cryptography.fernet' from '/usr/lib/python3/dist-packages/cryptography/fernet.py'>,\n",
       " 'cryptography.hazmat': <module 'cryptography.hazmat' from '/usr/lib/python3/dist-packages/cryptography/hazmat/__init__.py'>,\n",
       " 'cryptography.hazmat.backends': <module 'cryptography.hazmat.backends' from '/usr/lib/python3/dist-packages/cryptography/hazmat/backends/__init__.py'>,\n",
       " 'cryptography.hazmat.backends.interfaces': <module 'cryptography.hazmat.backends.interfaces' from '/usr/lib/python3/dist-packages/cryptography/hazmat/backends/interfaces.py'>,\n",
       " 'cryptography.hazmat.backends.multibackend': <module 'cryptography.hazmat.backends.multibackend' from '/usr/lib/python3/dist-packages/cryptography/hazmat/backends/multibackend.py'>,\n",
       " 'cryptography.hazmat.backends.openssl': <module 'cryptography.hazmat.backends.openssl' from '/usr/lib/python3/dist-packages/cryptography/hazmat/backends/openssl/__init__.py'>,\n",
       " 'cryptography.hazmat.backends.openssl.backend': <module 'cryptography.hazmat.backends.openssl.backend' from '/usr/lib/python3/dist-packages/cryptography/hazmat/backends/openssl/backend.py'>,\n",
       " 'cryptography.hazmat.backends.openssl.ciphers': <module 'cryptography.hazmat.backends.openssl.ciphers' from '/usr/lib/python3/dist-packages/cryptography/hazmat/backends/openssl/ciphers.py'>,\n",
       " 'cryptography.hazmat.backends.openssl.cmac': <module 'cryptography.hazmat.backends.openssl.cmac' from '/usr/lib/python3/dist-packages/cryptography/hazmat/backends/openssl/cmac.py'>,\n",
       " 'cryptography.hazmat.backends.openssl.dsa': <module 'cryptography.hazmat.backends.openssl.dsa' from '/usr/lib/python3/dist-packages/cryptography/hazmat/backends/openssl/dsa.py'>,\n",
       " 'cryptography.hazmat.backends.openssl.ec': <module 'cryptography.hazmat.backends.openssl.ec' from '/usr/lib/python3/dist-packages/cryptography/hazmat/backends/openssl/ec.py'>,\n",
       " 'cryptography.hazmat.backends.openssl.hashes': <module 'cryptography.hazmat.backends.openssl.hashes' from '/usr/lib/python3/dist-packages/cryptography/hazmat/backends/openssl/hashes.py'>,\n",
       " 'cryptography.hazmat.backends.openssl.hmac': <module 'cryptography.hazmat.backends.openssl.hmac' from '/usr/lib/python3/dist-packages/cryptography/hazmat/backends/openssl/hmac.py'>,\n",
       " 'cryptography.hazmat.backends.openssl.rsa': <module 'cryptography.hazmat.backends.openssl.rsa' from '/usr/lib/python3/dist-packages/cryptography/hazmat/backends/openssl/rsa.py'>,\n",
       " 'cryptography.hazmat.backends.openssl.utils': <module 'cryptography.hazmat.backends.openssl.utils' from '/usr/lib/python3/dist-packages/cryptography/hazmat/backends/openssl/utils.py'>,\n",
       " 'cryptography.hazmat.bindings': <module 'cryptography.hazmat.bindings' from '/usr/lib/python3/dist-packages/cryptography/hazmat/bindings/__init__.py'>,\n",
       " 'cryptography.hazmat.bindings.openssl': <module 'cryptography.hazmat.bindings.openssl' from '/usr/lib/python3/dist-packages/cryptography/hazmat/bindings/openssl/__init__.py'>,\n",
       " 'cryptography.hazmat.bindings.openssl.aes': <module 'cryptography.hazmat.bindings.openssl.aes' from '/usr/lib/python3/dist-packages/cryptography/hazmat/bindings/openssl/aes.py'>,\n",
       " 'cryptography.hazmat.bindings.openssl.asn1': <module 'cryptography.hazmat.bindings.openssl.asn1' from '/usr/lib/python3/dist-packages/cryptography/hazmat/bindings/openssl/asn1.py'>,\n",
       " 'cryptography.hazmat.bindings.openssl.bignum': <module 'cryptography.hazmat.bindings.openssl.bignum' from '/usr/lib/python3/dist-packages/cryptography/hazmat/bindings/openssl/bignum.py'>,\n",
       " 'cryptography.hazmat.bindings.openssl.binding': <module 'cryptography.hazmat.bindings.openssl.binding' from '/usr/lib/python3/dist-packages/cryptography/hazmat/bindings/openssl/binding.py'>,\n",
       " 'cryptography.hazmat.bindings.openssl.bio': <module 'cryptography.hazmat.bindings.openssl.bio' from '/usr/lib/python3/dist-packages/cryptography/hazmat/bindings/openssl/bio.py'>,\n",
       " 'cryptography.hazmat.bindings.openssl.cmac': <module 'cryptography.hazmat.bindings.openssl.cmac' from '/usr/lib/python3/dist-packages/cryptography/hazmat/bindings/openssl/cmac.py'>,\n",
       " 'cryptography.hazmat.bindings.openssl.cms': <module 'cryptography.hazmat.bindings.openssl.cms' from '/usr/lib/python3/dist-packages/cryptography/hazmat/bindings/openssl/cms.py'>,\n",
       " 'cryptography.hazmat.bindings.openssl.conf': <module 'cryptography.hazmat.bindings.openssl.conf' from '/usr/lib/python3/dist-packages/cryptography/hazmat/bindings/openssl/conf.py'>,\n",
       " 'cryptography.hazmat.bindings.openssl.crypto': <module 'cryptography.hazmat.bindings.openssl.crypto' from '/usr/lib/python3/dist-packages/cryptography/hazmat/bindings/openssl/crypto.py'>,\n",
       " 'cryptography.hazmat.bindings.openssl.dh': <module 'cryptography.hazmat.bindings.openssl.dh' from '/usr/lib/python3/dist-packages/cryptography/hazmat/bindings/openssl/dh.py'>,\n",
       " 'cryptography.hazmat.bindings.openssl.dsa': <module 'cryptography.hazmat.bindings.openssl.dsa' from '/usr/lib/python3/dist-packages/cryptography/hazmat/bindings/openssl/dsa.py'>,\n",
       " 'cryptography.hazmat.bindings.openssl.ec': <module 'cryptography.hazmat.bindings.openssl.ec' from '/usr/lib/python3/dist-packages/cryptography/hazmat/bindings/openssl/ec.py'>,\n",
       " 'cryptography.hazmat.bindings.openssl.ecdh': <module 'cryptography.hazmat.bindings.openssl.ecdh' from '/usr/lib/python3/dist-packages/cryptography/hazmat/bindings/openssl/ecdh.py'>,\n",
       " 'cryptography.hazmat.bindings.openssl.ecdsa': <module 'cryptography.hazmat.bindings.openssl.ecdsa' from '/usr/lib/python3/dist-packages/cryptography/hazmat/bindings/openssl/ecdsa.py'>,\n",
       " 'cryptography.hazmat.bindings.openssl.engine': <module 'cryptography.hazmat.bindings.openssl.engine' from '/usr/lib/python3/dist-packages/cryptography/hazmat/bindings/openssl/engine.py'>,\n",
       " 'cryptography.hazmat.bindings.openssl.err': <module 'cryptography.hazmat.bindings.openssl.err' from '/usr/lib/python3/dist-packages/cryptography/hazmat/bindings/openssl/err.py'>,\n",
       " 'cryptography.hazmat.bindings.openssl.evp': <module 'cryptography.hazmat.bindings.openssl.evp' from '/usr/lib/python3/dist-packages/cryptography/hazmat/bindings/openssl/evp.py'>,\n",
       " 'cryptography.hazmat.bindings.openssl.hmac': <module 'cryptography.hazmat.bindings.openssl.hmac' from '/usr/lib/python3/dist-packages/cryptography/hazmat/bindings/openssl/hmac.py'>,\n",
       " 'cryptography.hazmat.bindings.openssl.nid': <module 'cryptography.hazmat.bindings.openssl.nid' from '/usr/lib/python3/dist-packages/cryptography/hazmat/bindings/openssl/nid.py'>,\n",
       " 'cryptography.hazmat.bindings.openssl.objects': <module 'cryptography.hazmat.bindings.openssl.objects' from '/usr/lib/python3/dist-packages/cryptography/hazmat/bindings/openssl/objects.py'>,\n",
       " 'cryptography.hazmat.bindings.openssl.opensslv': <module 'cryptography.hazmat.bindings.openssl.opensslv' from '/usr/lib/python3/dist-packages/cryptography/hazmat/bindings/openssl/opensslv.py'>,\n",
       " 'cryptography.hazmat.bindings.openssl.osrandom_engine': <module 'cryptography.hazmat.bindings.openssl.osrandom_engine' from '/usr/lib/python3/dist-packages/cryptography/hazmat/bindings/openssl/osrandom_engine.py'>,\n",
       " 'cryptography.hazmat.bindings.openssl.pem': <module 'cryptography.hazmat.bindings.openssl.pem' from '/usr/lib/python3/dist-packages/cryptography/hazmat/bindings/openssl/pem.py'>,\n",
       " 'cryptography.hazmat.bindings.openssl.pkcs12': <module 'cryptography.hazmat.bindings.openssl.pkcs12' from '/usr/lib/python3/dist-packages/cryptography/hazmat/bindings/openssl/pkcs12.py'>,\n",
       " 'cryptography.hazmat.bindings.openssl.pkcs7': <module 'cryptography.hazmat.bindings.openssl.pkcs7' from '/usr/lib/python3/dist-packages/cryptography/hazmat/bindings/openssl/pkcs7.py'>,\n",
       " 'cryptography.hazmat.bindings.openssl.rand': <module 'cryptography.hazmat.bindings.openssl.rand' from '/usr/lib/python3/dist-packages/cryptography/hazmat/bindings/openssl/rand.py'>,\n",
       " 'cryptography.hazmat.bindings.openssl.rsa': <module 'cryptography.hazmat.bindings.openssl.rsa' from '/usr/lib/python3/dist-packages/cryptography/hazmat/bindings/openssl/rsa.py'>,\n",
       " 'cryptography.hazmat.bindings.openssl.ssl': <module 'cryptography.hazmat.bindings.openssl.ssl' from '/usr/lib/python3/dist-packages/cryptography/hazmat/bindings/openssl/ssl.py'>,\n",
       " 'cryptography.hazmat.bindings.openssl.x509': <module 'cryptography.hazmat.bindings.openssl.x509' from '/usr/lib/python3/dist-packages/cryptography/hazmat/bindings/openssl/x509.py'>,\n",
       " 'cryptography.hazmat.bindings.openssl.x509_vfy': <module 'cryptography.hazmat.bindings.openssl.x509_vfy' from '/usr/lib/python3/dist-packages/cryptography/hazmat/bindings/openssl/x509_vfy.py'>,\n",
       " 'cryptography.hazmat.bindings.openssl.x509name': <module 'cryptography.hazmat.bindings.openssl.x509name' from '/usr/lib/python3/dist-packages/cryptography/hazmat/bindings/openssl/x509name.py'>,\n",
       " 'cryptography.hazmat.bindings.openssl.x509v3': <module 'cryptography.hazmat.bindings.openssl.x509v3' from '/usr/lib/python3/dist-packages/cryptography/hazmat/bindings/openssl/x509v3.py'>,\n",
       " 'cryptography.hazmat.bindings.utils': <module 'cryptography.hazmat.bindings.utils' from '/usr/lib/python3/dist-packages/cryptography/hazmat/bindings/utils.py'>,\n",
       " 'cryptography.hazmat.primitives': <module 'cryptography.hazmat.primitives' from '/usr/lib/python3/dist-packages/cryptography/hazmat/primitives/__init__.py'>,\n",
       " 'cryptography.hazmat.primitives.asymmetric': <module 'cryptography.hazmat.primitives.asymmetric' from '/usr/lib/python3/dist-packages/cryptography/hazmat/primitives/asymmetric/__init__.py'>,\n",
       " 'cryptography.hazmat.primitives.asymmetric.dsa': <module 'cryptography.hazmat.primitives.asymmetric.dsa' from '/usr/lib/python3/dist-packages/cryptography/hazmat/primitives/asymmetric/dsa.py'>,\n",
       " 'cryptography.hazmat.primitives.asymmetric.ec': <module 'cryptography.hazmat.primitives.asymmetric.ec' from '/usr/lib/python3/dist-packages/cryptography/hazmat/primitives/asymmetric/ec.py'>,\n",
       " 'cryptography.hazmat.primitives.asymmetric.padding': <module 'cryptography.hazmat.primitives.asymmetric.padding' from '/usr/lib/python3/dist-packages/cryptography/hazmat/primitives/asymmetric/padding.py'>,\n",
       " 'cryptography.hazmat.primitives.asymmetric.rsa': <module 'cryptography.hazmat.primitives.asymmetric.rsa' from '/usr/lib/python3/dist-packages/cryptography/hazmat/primitives/asymmetric/rsa.py'>,\n",
       " 'cryptography.hazmat.primitives.ciphers': <module 'cryptography.hazmat.primitives.ciphers' from '/usr/lib/python3/dist-packages/cryptography/hazmat/primitives/ciphers/__init__.py'>,\n",
       " 'cryptography.hazmat.primitives.ciphers.algorithms': <module 'cryptography.hazmat.primitives.ciphers.algorithms' from '/usr/lib/python3/dist-packages/cryptography/hazmat/primitives/ciphers/algorithms.py'>,\n",
       " 'cryptography.hazmat.primitives.ciphers.base': <module 'cryptography.hazmat.primitives.ciphers.base' from '/usr/lib/python3/dist-packages/cryptography/hazmat/primitives/ciphers/base.py'>,\n",
       " 'cryptography.hazmat.primitives.ciphers.modes': <module 'cryptography.hazmat.primitives.ciphers.modes' from '/usr/lib/python3/dist-packages/cryptography/hazmat/primitives/ciphers/modes.py'>,\n",
       " 'cryptography.hazmat.primitives.constant_time': <module 'cryptography.hazmat.primitives.constant_time' from '/usr/lib/python3/dist-packages/cryptography/hazmat/primitives/constant_time.py'>,\n",
       " 'cryptography.hazmat.primitives.hashes': <module 'cryptography.hazmat.primitives.hashes' from '/usr/lib/python3/dist-packages/cryptography/hazmat/primitives/hashes.py'>,\n",
       " 'cryptography.hazmat.primitives.hmac': <module 'cryptography.hazmat.primitives.hmac' from '/usr/lib/python3/dist-packages/cryptography/hazmat/primitives/hmac.py'>,\n",
       " 'cryptography.hazmat.primitives.interfaces': <module 'cryptography.hazmat.primitives.interfaces' from '/usr/lib/python3/dist-packages/cryptography/hazmat/primitives/interfaces.py'>,\n",
       " 'cryptography.hazmat.primitives.padding': <module 'cryptography.hazmat.primitives.padding' from '/usr/lib/python3/dist-packages/cryptography/hazmat/primitives/padding.py'>,\n",
       " 'cryptography.utils': <module 'cryptography.utils' from '/usr/lib/python3/dist-packages/cryptography/utils.py'>,\n",
       " 'csv': <module 'csv' from '/usr/lib/python3.4/csv.py'>,\n",
       " 'ctypes': <module 'ctypes' from '/usr/lib/python3.4/ctypes/__init__.py'>,\n",
       " 'ctypes._endian': <module 'ctypes._endian' from '/usr/lib/python3.4/ctypes/_endian.py'>,\n",
       " 'ctypes.util': <module 'ctypes.util' from '/usr/lib/python3.4/ctypes/util.py'>,\n",
       " 'curses': <module 'curses' from '/usr/lib/python3.4/curses/__init__.py'>,\n",
       " 'datetime': <module 'datetime' from '/usr/lib/python3.4/datetime.py'>,\n",
       " 'dateutil': <module 'dateutil' from '/usr/local/lib/python3.4/dist-packages/dateutil/__init__.py'>,\n",
       " 'dateutil.easter': <module 'dateutil.easter' from '/usr/local/lib/python3.4/dist-packages/dateutil/easter.py'>,\n",
       " 'dateutil.parser': <module 'dateutil.parser' from '/usr/local/lib/python3.4/dist-packages/dateutil/parser.py'>,\n",
       " 'dateutil.relativedelta': <module 'dateutil.relativedelta' from '/usr/local/lib/python3.4/dist-packages/dateutil/relativedelta.py'>,\n",
       " 'dateutil.rrule': <module 'dateutil.rrule' from '/usr/local/lib/python3.4/dist-packages/dateutil/rrule.py'>,\n",
       " 'dateutil.tz': <module 'dateutil.tz' from '/usr/local/lib/python3.4/dist-packages/dateutil/tz.py'>,\n",
       " 'decimal': <module 'decimal' from '/usr/lib/python3.4/decimal.py'>,\n",
       " 'decorator': <module 'decorator' from '/usr/local/lib/python3.4/dist-packages/decorator.py'>,\n",
       " 'difflib': <module 'difflib' from '/usr/lib/python3.4/difflib.py'>,\n",
       " 'dis': <module 'dis' from '/usr/lib/python3.4/dis.py'>,\n",
       " 'distutils': <module 'distutils' from '/usr/lib/python3.4/distutils/__init__.py'>,\n",
       " 'distutils.errors': <module 'distutils.errors' from '/usr/lib/python3.4/distutils/errors.py'>,\n",
       " 'distutils.sysconfig': <module 'distutils.sysconfig' from '/usr/lib/python3.4/distutils/sysconfig.py'>,\n",
       " 'distutils.version': <module 'distutils.version' from '/usr/lib/python3.4/distutils/version.py'>,\n",
       " 'email': <module 'email' from '/usr/lib/python3.4/email/__init__.py'>,\n",
       " 'email._encoded_words': <module 'email._encoded_words' from '/usr/lib/python3.4/email/_encoded_words.py'>,\n",
       " 'email._parseaddr': <module 'email._parseaddr' from '/usr/lib/python3.4/email/_parseaddr.py'>,\n",
       " 'email._policybase': <module 'email._policybase' from '/usr/lib/python3.4/email/_policybase.py'>,\n",
       " 'email.base64mime': <module 'email.base64mime' from '/usr/lib/python3.4/email/base64mime.py'>,\n",
       " 'email.charset': <module 'email.charset' from '/usr/lib/python3.4/email/charset.py'>,\n",
       " 'email.encoders': <module 'email.encoders' from '/usr/lib/python3.4/email/encoders.py'>,\n",
       " 'email.errors': <module 'email.errors' from '/usr/lib/python3.4/email/errors.py'>,\n",
       " 'email.feedparser': <module 'email.feedparser' from '/usr/lib/python3.4/email/feedparser.py'>,\n",
       " 'email.header': <module 'email.header' from '/usr/lib/python3.4/email/header.py'>,\n",
       " 'email.iterators': <module 'email.iterators' from '/usr/lib/python3.4/email/iterators.py'>,\n",
       " 'email.message': <module 'email.message' from '/usr/lib/python3.4/email/message.py'>,\n",
       " 'email.parser': <module 'email.parser' from '/usr/lib/python3.4/email/parser.py'>,\n",
       " 'email.quoprimime': <module 'email.quoprimime' from '/usr/lib/python3.4/email/quoprimime.py'>,\n",
       " 'email.utils': <module 'email.utils' from '/usr/lib/python3.4/email/utils.py'>,\n",
       " 'encodings': <module 'encodings' from '/usr/lib/python3.4/encodings/__init__.py'>,\n",
       " 'encodings.aliases': <module 'encodings.aliases' from '/usr/lib/python3.4/encodings/aliases.py'>,\n",
       " 'encodings.ascii': <module 'encodings.ascii' from '/usr/lib/python3.4/encodings/ascii.py'>,\n",
       " 'encodings.cp437': <module 'encodings.cp437' from '/usr/lib/python3.4/encodings/cp437.py'>,\n",
       " 'encodings.latin_1': <module 'encodings.latin_1' from '/usr/lib/python3.4/encodings/latin_1.py'>,\n",
       " 'encodings.utf_8': <module 'encodings.utf_8' from '/usr/lib/python3.4/encodings/utf_8.py'>,\n",
       " 'enum': <module 'enum' from '/usr/lib/python3.4/enum.py'>,\n",
       " 'errno': <module 'errno' (built-in)>,\n",
       " 'faulthandler': <module 'faulthandler' (built-in)>,\n",
       " 'fcntl': <module 'fcntl' (built-in)>,\n",
       " 'fnmatch': <module 'fnmatch' from '/usr/lib/python3.4/fnmatch.py'>,\n",
       " 'fractions': <module 'fractions' from '/usr/lib/python3.4/fractions.py'>,\n",
       " 'functools': <module 'functools' from '/usr/lib/python3.4/functools.py'>,\n",
       " 'gc': <module 'gc' (built-in)>,\n",
       " 'genericpath': <module 'genericpath' from '/usr/lib/python3.4/genericpath.py'>,\n",
       " 'getopt': <module 'getopt' from '/usr/lib/python3.4/getopt.py'>,\n",
       " 'getpass': <module 'getpass' from '/usr/lib/python3.4/getpass.py'>,\n",
       " 'gettext': <module 'gettext' from '/usr/lib/python3.4/gettext.py'>,\n",
       " 'glob': <module 'glob' from '/usr/lib/python3.4/glob.py'>,\n",
       " 'grp': <module 'grp' (built-in)>,\n",
       " 'gzip': <module 'gzip' from '/usr/lib/python3.4/gzip.py'>,\n",
       " 'hashlib': <module 'hashlib' from '/usr/lib/python3.4/hashlib.py'>,\n",
       " 'heapq': <module 'heapq' from '/usr/lib/python3.4/heapq.py'>,\n",
       " 'hmac': <module 'hmac' from '/usr/lib/python3.4/hmac.py'>,\n",
       " 'html': <module 'html' from '/usr/lib/python3.4/html/__init__.py'>,\n",
       " 'html.entities': <module 'html.entities' from '/usr/lib/python3.4/html/entities.py'>,\n",
       " 'html.parser': <module 'html.parser' from '/usr/lib/python3.4/html/parser.py'>,\n",
       " 'html5lib': <module 'html5lib' from '/usr/lib/python3/dist-packages/html5lib/__init__.py'>,\n",
       " 'html5lib.constants': <module 'html5lib.constants' from '/usr/lib/python3/dist-packages/html5lib/constants.py'>,\n",
       " 'html5lib.html5parser': <module 'html5lib.html5parser' from '/usr/lib/python3/dist-packages/html5lib/html5parser.py'>,\n",
       " 'html5lib.inputstream': <module 'html5lib.inputstream' from '/usr/lib/python3/dist-packages/html5lib/inputstream.py'>,\n",
       " 'html5lib.serializer': <module 'html5lib.serializer' from '/usr/lib/python3/dist-packages/html5lib/serializer/__init__.py'>,\n",
       " 'html5lib.serializer.htmlserializer': <module 'html5lib.serializer.htmlserializer' from '/usr/lib/python3/dist-packages/html5lib/serializer/htmlserializer.py'>,\n",
       " 'html5lib.tokenizer': <module 'html5lib.tokenizer' from '/usr/lib/python3/dist-packages/html5lib/tokenizer.py'>,\n",
       " 'html5lib.treebuilders': <module 'html5lib.treebuilders' from '/usr/lib/python3/dist-packages/html5lib/treebuilders/__init__.py'>,\n",
       " 'html5lib.treebuilders._base': <module 'html5lib.treebuilders._base' from '/usr/lib/python3/dist-packages/html5lib/treebuilders/_base.py'>,\n",
       " 'html5lib.treewalkers': <module 'html5lib.treewalkers' from '/usr/lib/python3/dist-packages/html5lib/treewalkers/__init__.py'>,\n",
       " 'html5lib.trie': <module 'html5lib.trie' from '/usr/lib/python3/dist-packages/html5lib/trie/__init__.py'>,\n",
       " 'html5lib.trie._base': <module 'html5lib.trie._base' from '/usr/lib/python3/dist-packages/html5lib/trie/_base.py'>,\n",
       " 'html5lib.trie.py': <module 'html5lib.trie.py' from '/usr/lib/python3/dist-packages/html5lib/trie/py.py'>,\n",
       " 'html5lib.utils': <module 'html5lib.utils' from '/usr/lib/python3/dist-packages/html5lib/utils.py'>,\n",
       " 'http': <module 'http' from '/usr/lib/python3.4/http/__init__.py'>,\n",
       " 'http.client': <module 'http.client' from '/usr/lib/python3.4/http/client.py'>,\n",
       " 'imp': <module 'imp' from '/usr/lib/python3.4/imp.py'>,\n",
       " 'importlib': <module 'importlib' from '/usr/lib/python3.4/importlib/__init__.py'>,\n",
       " 'importlib._bootstrap': <module 'importlib._bootstrap' (frozen)>,\n",
       " 'importlib.machinery': <module 'importlib.machinery' from '/usr/lib/python3.4/importlib/machinery.py'>,\n",
       " 'importlib.util': <module 'importlib.util' from '/usr/lib/python3.4/importlib/util.py'>,\n",
       " 'inspect': <module 'inspect' from '/usr/lib/python3.4/inspect.py'>,\n",
       " 'io': <module 'io' from '/usr/lib/python3.4/io.py'>,\n",
       " 'ipykernel': <module 'ipykernel' from '/usr/local/lib/python3.4/dist-packages/ipykernel/__init__.py'>,\n",
       " 'ipykernel._version': <module 'ipykernel._version' from '/usr/local/lib/python3.4/dist-packages/ipykernel/_version.py'>,\n",
       " 'ipykernel.codeutil': <module 'ipykernel.codeutil' from '/usr/local/lib/python3.4/dist-packages/ipykernel/codeutil.py'>,\n",
       " 'ipykernel.comm': <module 'ipykernel.comm' from '/usr/local/lib/python3.4/dist-packages/ipykernel/comm/__init__.py'>,\n",
       " 'ipykernel.comm.comm': <module 'ipykernel.comm.comm' from '/usr/local/lib/python3.4/dist-packages/ipykernel/comm/comm.py'>,\n",
       " 'ipykernel.comm.manager': <module 'ipykernel.comm.manager' from '/usr/local/lib/python3.4/dist-packages/ipykernel/comm/manager.py'>,\n",
       " 'ipykernel.connect': <module 'ipykernel.connect' from '/usr/local/lib/python3.4/dist-packages/ipykernel/connect.py'>,\n",
       " 'ipykernel.datapub': <module 'ipykernel.datapub' from '/usr/local/lib/python3.4/dist-packages/ipykernel/datapub.py'>,\n",
       " 'ipykernel.displayhook': <module 'ipykernel.displayhook' from '/usr/local/lib/python3.4/dist-packages/ipykernel/displayhook.py'>,\n",
       " 'ipykernel.heartbeat': <module 'ipykernel.heartbeat' from '/usr/local/lib/python3.4/dist-packages/ipykernel/heartbeat.py'>,\n",
       " 'ipykernel.iostream': <module 'ipykernel.iostream' from '/usr/local/lib/python3.4/dist-packages/ipykernel/iostream.py'>,\n",
       " 'ipykernel.ipkernel': <module 'ipykernel.ipkernel' from '/usr/local/lib/python3.4/dist-packages/ipykernel/ipkernel.py'>,\n",
       " 'ipykernel.jsonutil': <module 'ipykernel.jsonutil' from '/usr/local/lib/python3.4/dist-packages/ipykernel/jsonutil.py'>,\n",
       " 'ipykernel.kernelapp': <module 'ipykernel.kernelapp' from '/usr/local/lib/python3.4/dist-packages/ipykernel/kernelapp.py'>,\n",
       " 'ipykernel.kernelbase': <module 'ipykernel.kernelbase' from '/usr/local/lib/python3.4/dist-packages/ipykernel/kernelbase.py'>,\n",
       " 'ipykernel.parentpoller': <module 'ipykernel.parentpoller' from '/usr/local/lib/python3.4/dist-packages/ipykernel/parentpoller.py'>,\n",
       " 'ipykernel.pickleutil': <module 'ipykernel.pickleutil' from '/usr/local/lib/python3.4/dist-packages/ipykernel/pickleutil.py'>,\n",
       " 'ipykernel.serialize': <module 'ipykernel.serialize' from '/usr/local/lib/python3.4/dist-packages/ipykernel/serialize.py'>,\n",
       " 'ipykernel.zmqshell': <module 'ipykernel.zmqshell' from '/usr/local/lib/python3.4/dist-packages/ipykernel/zmqshell.py'>,\n",
       " 'ipython_genutils': <module 'ipython_genutils' from '/usr/local/lib/python3.4/dist-packages/ipython_genutils/__init__.py'>,\n",
       " 'ipython_genutils._version': <module 'ipython_genutils._version' from '/usr/local/lib/python3.4/dist-packages/ipython_genutils/_version.py'>,\n",
       " 'ipython_genutils.encoding': <module 'ipython_genutils.encoding' from '/usr/local/lib/python3.4/dist-packages/ipython_genutils/encoding.py'>,\n",
       " 'ipython_genutils.importstring': <module 'ipython_genutils.importstring' from '/usr/local/lib/python3.4/dist-packages/ipython_genutils/importstring.py'>,\n",
       " 'ipython_genutils.path': <module 'ipython_genutils.path' from '/usr/local/lib/python3.4/dist-packages/ipython_genutils/path.py'>,\n",
       " 'ipython_genutils.py3compat': <module 'ipython_genutils.py3compat' from '/usr/local/lib/python3.4/dist-packages/ipython_genutils/py3compat.py'>,\n",
       " 'ipython_genutils.text': <module 'ipython_genutils.text' from '/usr/local/lib/python3.4/dist-packages/ipython_genutils/text.py'>,\n",
       " 'ipywidgets': <module 'ipywidgets' from '/usr/local/lib/python3.4/dist-packages/ipywidgets/__init__.py'>,\n",
       " 'ipywidgets._version': <module 'ipywidgets._version' from '/usr/local/lib/python3.4/dist-packages/ipywidgets/_version.py'>,\n",
       " 'ipywidgets.widgets': <module 'ipywidgets.widgets' from '/usr/local/lib/python3.4/dist-packages/ipywidgets/widgets/__init__.py'>,\n",
       " 'ipywidgets.widgets.eventful': <module 'ipywidgets.widgets.eventful' from '/usr/local/lib/python3.4/dist-packages/ipywidgets/widgets/eventful.py'>,\n",
       " 'ipywidgets.widgets.interaction': <module 'ipywidgets.widgets.interaction' from '/usr/local/lib/python3.4/dist-packages/ipywidgets/widgets/interaction.py'>,\n",
       " 'ipywidgets.widgets.trait_types': <module 'ipywidgets.widgets.trait_types' from '/usr/local/lib/python3.4/dist-packages/ipywidgets/widgets/trait_types.py'>,\n",
       " 'ipywidgets.widgets.widget': <module 'ipywidgets.widgets.widget' from '/usr/local/lib/python3.4/dist-packages/ipywidgets/widgets/widget.py'>,\n",
       " 'ipywidgets.widgets.widget_bool': <module 'ipywidgets.widgets.widget_bool' from '/usr/local/lib/python3.4/dist-packages/ipywidgets/widgets/widget_bool.py'>,\n",
       " 'ipywidgets.widgets.widget_box': <module 'ipywidgets.widgets.widget_box' from '/usr/local/lib/python3.4/dist-packages/ipywidgets/widgets/widget_box.py'>,\n",
       " 'ipywidgets.widgets.widget_button': <module 'ipywidgets.widgets.widget_button' from '/usr/local/lib/python3.4/dist-packages/ipywidgets/widgets/widget_button.py'>,\n",
       " 'ipywidgets.widgets.widget_color': <module 'ipywidgets.widgets.widget_color' from '/usr/local/lib/python3.4/dist-packages/ipywidgets/widgets/widget_color.py'>,\n",
       " 'ipywidgets.widgets.widget_controller': <module 'ipywidgets.widgets.widget_controller' from '/usr/local/lib/python3.4/dist-packages/ipywidgets/widgets/widget_controller.py'>,\n",
       " 'ipywidgets.widgets.widget_float': <module 'ipywidgets.widgets.widget_float' from '/usr/local/lib/python3.4/dist-packages/ipywidgets/widgets/widget_float.py'>,\n",
       " 'ipywidgets.widgets.widget_image': <module 'ipywidgets.widgets.widget_image' from '/usr/local/lib/python3.4/dist-packages/ipywidgets/widgets/widget_image.py'>,\n",
       " 'ipywidgets.widgets.widget_int': <module 'ipywidgets.widgets.widget_int' from '/usr/local/lib/python3.4/dist-packages/ipywidgets/widgets/widget_int.py'>,\n",
       " 'ipywidgets.widgets.widget_link': <module 'ipywidgets.widgets.widget_link' from '/usr/local/lib/python3.4/dist-packages/ipywidgets/widgets/widget_link.py'>,\n",
       " 'ipywidgets.widgets.widget_output': <module 'ipywidgets.widgets.widget_output' from '/usr/local/lib/python3.4/dist-packages/ipywidgets/widgets/widget_output.py'>,\n",
       " 'ipywidgets.widgets.widget_selection': <module 'ipywidgets.widgets.widget_selection' from '/usr/local/lib/python3.4/dist-packages/ipywidgets/widgets/widget_selection.py'>,\n",
       " 'ipywidgets.widgets.widget_selectioncontainer': <module 'ipywidgets.widgets.widget_selectioncontainer' from '/usr/local/lib/python3.4/dist-packages/ipywidgets/widgets/widget_selectioncontainer.py'>,\n",
       " 'ipywidgets.widgets.widget_string': <module 'ipywidgets.widgets.widget_string' from '/usr/local/lib/python3.4/dist-packages/ipywidgets/widgets/widget_string.py'>,\n",
       " 'itertools': <module 'itertools' (built-in)>,\n",
       " 'json': <module 'json' from '/usr/lib/python3.4/json/__init__.py'>,\n",
       " 'json.decoder': <module 'json.decoder' from '/usr/lib/python3.4/json/decoder.py'>,\n",
       " 'json.encoder': <module 'json.encoder' from '/usr/lib/python3.4/json/encoder.py'>,\n",
       " 'json.scanner': <module 'json.scanner' from '/usr/lib/python3.4/json/scanner.py'>,\n",
       " 'jupyter_client': <module 'jupyter_client' from '/usr/local/lib/python3.4/dist-packages/jupyter_client/__init__.py'>,\n",
       " 'jupyter_client._version': <module 'jupyter_client._version' from '/usr/local/lib/python3.4/dist-packages/jupyter_client/_version.py'>,\n",
       " 'jupyter_client.adapter': <module 'jupyter_client.adapter' from '/usr/local/lib/python3.4/dist-packages/jupyter_client/adapter.py'>,\n",
       " 'jupyter_client.blocking': <module 'jupyter_client.blocking' from '/usr/local/lib/python3.4/dist-packages/jupyter_client/blocking/__init__.py'>,\n",
       " 'jupyter_client.blocking.channels': <module 'jupyter_client.blocking.channels' from '/usr/local/lib/python3.4/dist-packages/jupyter_client/blocking/channels.py'>,\n",
       " 'jupyter_client.blocking.client': <module 'jupyter_client.blocking.client' from '/usr/local/lib/python3.4/dist-packages/jupyter_client/blocking/client.py'>,\n",
       " 'jupyter_client.channels': <module 'jupyter_client.channels' from '/usr/local/lib/python3.4/dist-packages/jupyter_client/channels.py'>,\n",
       " 'jupyter_client.channelsabc': <module 'jupyter_client.channelsabc' from '/usr/local/lib/python3.4/dist-packages/jupyter_client/channelsabc.py'>,\n",
       " 'jupyter_client.client': <module 'jupyter_client.client' from '/usr/local/lib/python3.4/dist-packages/jupyter_client/client.py'>,\n",
       " 'jupyter_client.clientabc': <module 'jupyter_client.clientabc' from '/usr/local/lib/python3.4/dist-packages/jupyter_client/clientabc.py'>,\n",
       " 'jupyter_client.connect': <module 'jupyter_client.connect' from '/usr/local/lib/python3.4/dist-packages/jupyter_client/connect.py'>,\n",
       " 'jupyter_client.jsonutil': <module 'jupyter_client.jsonutil' from '/usr/local/lib/python3.4/dist-packages/jupyter_client/jsonutil.py'>,\n",
       " 'jupyter_client.kernelspec': <module 'jupyter_client.kernelspec' from '/usr/local/lib/python3.4/dist-packages/jupyter_client/kernelspec.py'>,\n",
       " 'jupyter_client.launcher': <module 'jupyter_client.launcher' from '/usr/local/lib/python3.4/dist-packages/jupyter_client/launcher.py'>,\n",
       " 'jupyter_client.localinterfaces': <module 'jupyter_client.localinterfaces' from '/usr/local/lib/python3.4/dist-packages/jupyter_client/localinterfaces.py'>,\n",
       " 'jupyter_client.manager': <module 'jupyter_client.manager' from '/usr/local/lib/python3.4/dist-packages/jupyter_client/manager.py'>,\n",
       " 'jupyter_client.managerabc': <module 'jupyter_client.managerabc' from '/usr/local/lib/python3.4/dist-packages/jupyter_client/managerabc.py'>,\n",
       " 'jupyter_client.multikernelmanager': <module 'jupyter_client.multikernelmanager' from '/usr/local/lib/python3.4/dist-packages/jupyter_client/multikernelmanager.py'>,\n",
       " 'jupyter_client.session': <module 'jupyter_client.session' from '/usr/local/lib/python3.4/dist-packages/jupyter_client/session.py'>,\n",
       " 'jupyter_core': <module 'jupyter_core' from '/usr/local/lib/python3.4/dist-packages/jupyter_core/__init__.py'>,\n",
       " 'jupyter_core.paths': <module 'jupyter_core.paths' from '/usr/local/lib/python3.4/dist-packages/jupyter_core/paths.py'>,\n",
       " 'jupyter_core.version': <module 'jupyter_core.version' from '/usr/local/lib/python3.4/dist-packages/jupyter_core/version.py'>,\n",
       " 'keyword': <module 'keyword' from '/usr/lib/python3.4/keyword.py'>,\n",
       " 'linecache': <module 'linecache' from '/usr/lib/python3.4/linecache.py'>,\n",
       " 'locale': <module 'locale' from '/usr/lib/python3.4/locale.py'>,\n",
       " 'logging': <module 'logging' from '/usr/lib/python3.4/logging/__init__.py'>,\n",
       " 'logging.handlers': <module 'logging.handlers' from '/usr/lib/python3.4/logging/handlers.py'>,\n",
       " 'lxml': <module 'lxml' from '/usr/lib/python3/dist-packages/lxml/__init__.py'>,\n",
       " 'lxml._elementpath': <module 'lxml._elementpath' from '/usr/lib/python3/dist-packages/lxml/_elementpath.py'>,\n",
       " 'lxml.etree': <module 'lxml.etree' from '/usr/lib/python3/dist-packages/lxml/etree.cpython-34m-arm-linux-gnueabihf.so'>,\n",
       " 'lxml.html': <module 'lxml.html' from '/usr/lib/python3/dist-packages/lxml/html/__init__.py'>,\n",
       " 'lxml.html._setmixin': <module 'lxml.html._setmixin' from '/usr/lib/python3/dist-packages/lxml/html/_setmixin.py'>,\n",
       " 'lxml.html.defs': <module 'lxml.html.defs' from '/usr/lib/python3/dist-packages/lxml/html/defs.py'>,\n",
       " 'lzma': <module 'lzma' from '/usr/lib/python3.4/lzma.py'>,\n",
       " 'marshal': <module 'marshal' (built-in)>,\n",
       " 'math': <module 'math' (built-in)>,\n",
       " 'matplotlib': <module 'matplotlib' from '/usr/lib/python3/dist-packages/matplotlib/__init__.py'>,\n",
       " 'matplotlib._path': <module 'matplotlib._path' from '/usr/lib/python3/dist-packages/matplotlib/_path.cpython-34m-arm-linux-gnueabihf.so'>,\n",
       " 'matplotlib.cbook': <module 'matplotlib.cbook' from '/usr/lib/python3/dist-packages/matplotlib/cbook.py'>,\n",
       " 'matplotlib.colors': <module 'matplotlib.colors' from '/usr/lib/python3/dist-packages/matplotlib/colors.py'>,\n",
       " 'matplotlib.compat': <module 'matplotlib.compat' from '/usr/lib/python3/dist-packages/matplotlib/compat/__init__.py'>,\n",
       " 'matplotlib.compat.subprocess': <module 'matplotlib.compat.subprocess' from '/usr/lib/python3/dist-packages/matplotlib/compat/subprocess.py'>,\n",
       " 'matplotlib.dates': <module 'matplotlib.dates' from '/usr/lib/python3/dist-packages/matplotlib/dates.py'>,\n",
       " 'matplotlib.fontconfig_pattern': <module 'matplotlib.fontconfig_pattern' from '/usr/lib/python3/dist-packages/matplotlib/fontconfig_pattern.py'>,\n",
       " 'matplotlib.path': <module 'matplotlib.path' from '/usr/lib/python3/dist-packages/matplotlib/path.py'>,\n",
       " 'matplotlib.rcsetup': <module 'matplotlib.rcsetup' from '/usr/lib/python3/dist-packages/matplotlib/rcsetup.py'>,\n",
       " 'matplotlib.ticker': <module 'matplotlib.ticker' from '/usr/lib/python3/dist-packages/matplotlib/ticker.py'>,\n",
       " 'matplotlib.transforms': <module 'matplotlib.transforms' from '/usr/lib/python3/dist-packages/matplotlib/transforms.py'>,\n",
       " 'matplotlib.units': <module 'matplotlib.units' from '/usr/lib/python3/dist-packages/matplotlib/units.py'>,\n",
       " 'mimetypes': <module 'mimetypes' from '/usr/lib/python3.4/mimetypes.py'>,\n",
       " 'mtrand': <module 'numpy.random.mtrand' from '/usr/lib/python3/dist-packages/numpy/random/mtrand.cpython-34m-arm-linux-gnueabihf.so'>,\n",
       " 'multiprocessing': <module 'multiprocessing' from '/usr/lib/python3.4/multiprocessing/__init__.py'>,\n",
       " 'multiprocessing.connection': <module 'multiprocessing.connection' from '/usr/lib/python3.4/multiprocessing/connection.py'>,\n",
       " 'multiprocessing.context': <module 'multiprocessing.context' from '/usr/lib/python3.4/multiprocessing/context.py'>,\n",
       " 'multiprocessing.process': <module 'multiprocessing.process' from '/usr/lib/python3.4/multiprocessing/process.py'>,\n",
       " 'multiprocessing.reduction': <module 'multiprocessing.reduction' from '/usr/lib/python3.4/multiprocessing/reduction.py'>,\n",
       " 'multiprocessing.util': <module 'multiprocessing.util' from '/usr/lib/python3.4/multiprocessing/util.py'>,\n",
       " 'nose': <module 'nose' from '/usr/local/lib/python3.4/dist-packages/nose/__init__.py'>,\n",
       " 'nose.case': <module 'nose.case' from '/usr/local/lib/python3.4/dist-packages/nose/case.py'>,\n",
       " 'nose.config': <module 'nose.config' from '/usr/local/lib/python3.4/dist-packages/nose/config.py'>,\n",
       " 'nose.core': <module 'nose.core' from '/usr/local/lib/python3.4/dist-packages/nose/core.py'>,\n",
       " 'nose.exc': <module 'nose.exc' from '/usr/local/lib/python3.4/dist-packages/nose/exc.py'>,\n",
       " 'nose.failure': <module 'nose.failure' from '/usr/local/lib/python3.4/dist-packages/nose/failure.py'>,\n",
       " 'nose.importer': <module 'nose.importer' from '/usr/local/lib/python3.4/dist-packages/nose/importer.py'>,\n",
       " 'nose.loader': <module 'nose.loader' from '/usr/local/lib/python3.4/dist-packages/nose/loader.py'>,\n",
       " 'nose.plugins': <module 'nose.plugins' from '/usr/local/lib/python3.4/dist-packages/nose/plugins/__init__.py'>,\n",
       " 'nose.plugins.base': <module 'nose.plugins.base' from '/usr/local/lib/python3.4/dist-packages/nose/plugins/base.py'>,\n",
       " 'nose.plugins.deprecated': <module 'nose.plugins.deprecated' from '/usr/local/lib/python3.4/dist-packages/nose/plugins/deprecated.py'>,\n",
       " 'nose.plugins.errorclass': <module 'nose.plugins.errorclass' from '/usr/local/lib/python3.4/dist-packages/nose/plugins/errorclass.py'>,\n",
       " 'nose.plugins.manager': <module 'nose.plugins.manager' from '/usr/local/lib/python3.4/dist-packages/nose/plugins/manager.py'>,\n",
       " 'nose.plugins.plugintest': <module 'nose.plugins.plugintest' from '/usr/local/lib/python3.4/dist-packages/nose/plugins/plugintest.py'>,\n",
       " 'nose.plugins.skip': <module 'nose.plugins.skip' from '/usr/local/lib/python3.4/dist-packages/nose/plugins/skip.py'>,\n",
       " 'nose.proxy': <module 'nose.proxy' from '/usr/local/lib/python3.4/dist-packages/nose/proxy.py'>,\n",
       " 'nose.pyversion': <module 'nose.pyversion' from '/usr/local/lib/python3.4/dist-packages/nose/pyversion.py'>,\n",
       " 'nose.result': <module 'nose.result' from '/usr/local/lib/python3.4/dist-packages/nose/result.py'>,\n",
       " 'nose.selector': <module 'nose.selector' from '/usr/local/lib/python3.4/dist-packages/nose/selector.py'>,\n",
       " 'nose.suite': <module 'nose.suite' from '/usr/local/lib/python3.4/dist-packages/nose/suite.py'>,\n",
       " 'nose.tools': <module 'nose.tools' from '/usr/local/lib/python3.4/dist-packages/nose/tools/__init__.py'>,\n",
       " 'nose.tools.nontrivial': <module 'nose.tools.nontrivial' from '/usr/local/lib/python3.4/dist-packages/nose/tools/nontrivial.py'>,\n",
       " 'nose.tools.trivial': <module 'nose.tools.trivial' from '/usr/local/lib/python3.4/dist-packages/nose/tools/trivial.py'>,\n",
       " 'nose.util': <module 'nose.util' from '/usr/local/lib/python3.4/dist-packages/nose/util.py'>,\n",
       " 'ntpath': <module 'ntpath' from '/usr/lib/python3.4/ntpath.py'>,\n",
       " 'numbers': <module 'numbers' from '/usr/lib/python3.4/numbers.py'>,\n",
       " 'numexpr': <module 'numexpr' from '/usr/lib/python3/dist-packages/numexpr/__init__.py'>,\n",
       " 'numexpr.__config__': <module 'numexpr.__config__' from '/usr/lib/python3/dist-packages/numexpr/__config__.py'>,\n",
       " 'numexpr.cpuinfo': <module 'numexpr.cpuinfo' from '/usr/lib/python3/dist-packages/numexpr/cpuinfo.py'>,\n",
       " 'numexpr.expressions': <module 'numexpr.expressions' from '/usr/lib/python3/dist-packages/numexpr/expressions.py'>,\n",
       " 'numexpr.interpreter': <module 'numexpr.interpreter' from '/usr/lib/python3/dist-packages/numexpr/interpreter.cpython-34m-arm-linux-gnueabihf.so'>,\n",
       " 'numexpr.necompiler': <module 'numexpr.necompiler' from '/usr/lib/python3/dist-packages/numexpr/necompiler.py'>,\n",
       " 'numexpr.tests': <module 'numexpr.tests' from '/usr/lib/python3/dist-packages/numexpr/tests/__init__.py'>,\n",
       " 'numexpr.tests.test_numexpr': <module 'numexpr.tests.test_numexpr' from '/usr/lib/python3/dist-packages/numexpr/tests/test_numexpr.py'>,\n",
       " 'numexpr.utils': <module 'numexpr.utils' from '/usr/lib/python3/dist-packages/numexpr/utils.py'>,\n",
       " 'numexpr.version': <module 'numexpr.version' from '/usr/lib/python3/dist-packages/numexpr/version.py'>,\n",
       " 'numpy': <module 'numpy' from '/usr/lib/python3/dist-packages/numpy/__init__.py'>,\n",
       " 'numpy.__config__': <module 'numpy.__config__' from '/usr/lib/python3/dist-packages/numpy/__config__.py'>,\n",
       " 'numpy._import_tools': <module 'numpy._import_tools' from '/usr/lib/python3/dist-packages/numpy/_import_tools.py'>,\n",
       " 'numpy.add_newdocs': <module 'numpy.add_newdocs' from '/usr/lib/python3/dist-packages/numpy/add_newdocs.py'>,\n",
       " 'numpy.compat': <module 'numpy.compat' from '/usr/lib/python3/dist-packages/numpy/compat/__init__.py'>,\n",
       " 'numpy.compat._inspect': <module 'numpy.compat._inspect' from '/usr/lib/python3/dist-packages/numpy/compat/_inspect.py'>,\n",
       " 'numpy.compat.py3k': <module 'numpy.compat.py3k' from '/usr/lib/python3/dist-packages/numpy/compat/py3k.py'>,\n",
       " 'numpy.core': <module 'numpy.core' from '/usr/lib/python3/dist-packages/numpy/core/__init__.py'>,\n",
       " 'numpy.core._dotblas': <module 'numpy.core._dotblas' from '/usr/lib/python3/dist-packages/numpy/core/_dotblas.cpython-34m-arm-linux-gnueabihf.so'>,\n",
       " 'numpy.core._internal': <module 'numpy.core._internal' from '/usr/lib/python3/dist-packages/numpy/core/_internal.py'>,\n",
       " 'numpy.core._methods': <module 'numpy.core._methods' from '/usr/lib/python3/dist-packages/numpy/core/_methods.py'>,\n",
       " 'numpy.core.arrayprint': <module 'numpy.core.arrayprint' from '/usr/lib/python3/dist-packages/numpy/core/arrayprint.py'>,\n",
       " 'numpy.core.defchararray': <module 'numpy.core.defchararray' from '/usr/lib/python3/dist-packages/numpy/core/defchararray.py'>,\n",
       " 'numpy.core.fromnumeric': <module 'numpy.core.fromnumeric' from '/usr/lib/python3/dist-packages/numpy/core/fromnumeric.py'>,\n",
       " 'numpy.core.function_base': <module 'numpy.core.function_base' from '/usr/lib/python3/dist-packages/numpy/core/function_base.py'>,\n",
       " 'numpy.core.getlimits': <module 'numpy.core.getlimits' from '/usr/lib/python3/dist-packages/numpy/core/getlimits.py'>,\n",
       " 'numpy.core.info': <module 'numpy.core.info' from '/usr/lib/python3/dist-packages/numpy/core/info.py'>,\n",
       " 'numpy.core.machar': <module 'numpy.core.machar' from '/usr/lib/python3/dist-packages/numpy/core/machar.py'>,\n",
       " 'numpy.core.memmap': <module 'numpy.core.memmap' from '/usr/lib/python3/dist-packages/numpy/core/memmap.py'>,\n",
       " 'numpy.core.multiarray': <module 'numpy.core.multiarray' from '/usr/lib/python3/dist-packages/numpy/core/multiarray.cpython-34m-arm-linux-gnueabihf.so'>,\n",
       " 'numpy.core.numeric': <module 'numpy.core.numeric' from '/usr/lib/python3/dist-packages/numpy/core/numeric.py'>,\n",
       " 'numpy.core.numerictypes': <module 'numpy.core.numerictypes' from '/usr/lib/python3/dist-packages/numpy/core/numerictypes.py'>,\n",
       " 'numpy.core.records': <module 'numpy.core.records' from '/usr/lib/python3/dist-packages/numpy/core/records.py'>,\n",
       " 'numpy.core.scalarmath': <module 'numpy.core.scalarmath' from '/usr/lib/python3/dist-packages/numpy/core/scalarmath.cpython-34m-arm-linux-gnueabihf.so'>,\n",
       " 'numpy.core.shape_base': <module 'numpy.core.shape_base' from '/usr/lib/python3/dist-packages/numpy/core/shape_base.py'>,\n",
       " 'numpy.core.umath': <module 'numpy.core.umath' from '/usr/lib/python3/dist-packages/numpy/core/umath.cpython-34m-arm-linux-gnueabihf.so'>,\n",
       " 'numpy.ctypeslib': <module 'numpy.ctypeslib' from '/usr/lib/python3/dist-packages/numpy/ctypeslib.py'>,\n",
       " 'numpy.fft': <module 'numpy.fft' from '/usr/lib/python3/dist-packages/numpy/fft/__init__.py'>,\n",
       " 'numpy.fft.fftpack': <module 'numpy.fft.fftpack' from '/usr/lib/python3/dist-packages/numpy/fft/fftpack.py'>,\n",
       " 'numpy.fft.fftpack_lite': <module 'numpy.fft.fftpack_lite' from '/usr/lib/python3/dist-packages/numpy/fft/fftpack_lite.cpython-34m-arm-linux-gnueabihf.so'>,\n",
       " 'numpy.fft.helper': <module 'numpy.fft.helper' from '/usr/lib/python3/dist-packages/numpy/fft/helper.py'>,\n",
       " 'numpy.fft.info': <module 'numpy.fft.info' from '/usr/lib/python3/dist-packages/numpy/fft/info.py'>,\n",
       " 'numpy.lib': <module 'numpy.lib' from '/usr/lib/python3/dist-packages/numpy/lib/__init__.py'>,\n",
       " 'numpy.lib._compiled_base': <module 'numpy.lib._compiled_base' from '/usr/lib/python3/dist-packages/numpy/lib/_compiled_base.cpython-34m-arm-linux-gnueabihf.so'>,\n",
       " 'numpy.lib._datasource': <module 'numpy.lib._datasource' from '/usr/lib/python3/dist-packages/numpy/lib/_datasource.py'>,\n",
       " 'numpy.lib._iotools': <module 'numpy.lib._iotools' from '/usr/lib/python3/dist-packages/numpy/lib/_iotools.py'>,\n",
       " 'numpy.lib.arraypad': <module 'numpy.lib.arraypad' from '/usr/lib/python3/dist-packages/numpy/lib/arraypad.py'>,\n",
       " 'numpy.lib.arraysetops': <module 'numpy.lib.arraysetops' from '/usr/lib/python3/dist-packages/numpy/lib/arraysetops.py'>,\n",
       " 'numpy.lib.arrayterator': <module 'numpy.lib.arrayterator' from '/usr/lib/python3/dist-packages/numpy/lib/arrayterator.py'>,\n",
       " 'numpy.lib.financial': <module 'numpy.lib.financial' from '/usr/lib/python3/dist-packages/numpy/lib/financial.py'>,\n",
       " 'numpy.lib.format': <module 'numpy.lib.format' from '/usr/lib/python3/dist-packages/numpy/lib/format.py'>,\n",
       " 'numpy.lib.function_base': <module 'numpy.lib.function_base' from '/usr/lib/python3/dist-packages/numpy/lib/function_base.py'>,\n",
       " 'numpy.lib.index_tricks': <module 'numpy.lib.index_tricks' from '/usr/lib/python3/dist-packages/numpy/lib/index_tricks.py'>,\n",
       " 'numpy.lib.info': <module 'numpy.lib.info' from '/usr/lib/python3/dist-packages/numpy/lib/info.py'>,\n",
       " 'numpy.lib.nanfunctions': <module 'numpy.lib.nanfunctions' from '/usr/lib/python3/dist-packages/numpy/lib/nanfunctions.py'>,\n",
       " 'numpy.lib.npyio': <module 'numpy.lib.npyio' from '/usr/lib/python3/dist-packages/numpy/lib/npyio.py'>,\n",
       " 'numpy.lib.polynomial': <module 'numpy.lib.polynomial' from '/usr/lib/python3/dist-packages/numpy/lib/polynomial.py'>,\n",
       " 'numpy.lib.scimath': <module 'numpy.lib.scimath' from '/usr/lib/python3/dist-packages/numpy/lib/scimath.py'>,\n",
       " 'numpy.lib.shape_base': <module 'numpy.lib.shape_base' from '/usr/lib/python3/dist-packages/numpy/lib/shape_base.py'>,\n",
       " 'numpy.lib.stride_tricks': <module 'numpy.lib.stride_tricks' from '/usr/lib/python3/dist-packages/numpy/lib/stride_tricks.py'>,\n",
       " 'numpy.lib.twodim_base': <module 'numpy.lib.twodim_base' from '/usr/lib/python3/dist-packages/numpy/lib/twodim_base.py'>,\n",
       " 'numpy.lib.type_check': <module 'numpy.lib.type_check' from '/usr/lib/python3/dist-packages/numpy/lib/type_check.py'>,\n",
       " 'numpy.lib.ufunclike': <module 'numpy.lib.ufunclike' from '/usr/lib/python3/dist-packages/numpy/lib/ufunclike.py'>,\n",
       " 'numpy.lib.utils': <module 'numpy.lib.utils' from '/usr/lib/python3/dist-packages/numpy/lib/utils.py'>,\n",
       " 'numpy.linalg': <module 'numpy.linalg' from '/usr/lib/python3/dist-packages/numpy/linalg/__init__.py'>,\n",
       " 'numpy.linalg._umath_linalg': <module 'numpy.linalg._umath_linalg' from '/usr/lib/python3/dist-packages/numpy/linalg/_umath_linalg.cpython-34m-arm-linux-gnueabihf.so'>,\n",
       " 'numpy.linalg.info': <module 'numpy.linalg.info' from '/usr/lib/python3/dist-packages/numpy/linalg/info.py'>,\n",
       " 'numpy.linalg.lapack_lite': <module 'numpy.linalg.lapack_lite' from '/usr/lib/python3/dist-packages/numpy/linalg/lapack_lite.cpython-34m-arm-linux-gnueabihf.so'>,\n",
       " 'numpy.linalg.linalg': <module 'numpy.linalg.linalg' from '/usr/lib/python3/dist-packages/numpy/linalg/linalg.py'>,\n",
       " 'numpy.ma': <module 'numpy.ma' from '/usr/lib/python3/dist-packages/numpy/ma/__init__.py'>,\n",
       " 'numpy.ma.core': <module 'numpy.ma.core' from '/usr/lib/python3/dist-packages/numpy/ma/core.py'>,\n",
       " 'numpy.ma.extras': <module 'numpy.ma.extras' from '/usr/lib/python3/dist-packages/numpy/ma/extras.py'>,\n",
       " 'numpy.matrixlib': <module 'numpy.matrixlib' from '/usr/lib/python3/dist-packages/numpy/matrixlib/__init__.py'>,\n",
       " 'numpy.matrixlib.defmatrix': <module 'numpy.matrixlib.defmatrix' from '/usr/lib/python3/dist-packages/numpy/matrixlib/defmatrix.py'>,\n",
       " 'numpy.polynomial': <module 'numpy.polynomial' from '/usr/lib/python3/dist-packages/numpy/polynomial/__init__.py'>,\n",
       " 'numpy.polynomial.chebyshev': <module 'numpy.polynomial.chebyshev' from '/usr/lib/python3/dist-packages/numpy/polynomial/chebyshev.py'>,\n",
       " 'numpy.polynomial.hermite': <module 'numpy.polynomial.hermite' from '/usr/lib/python3/dist-packages/numpy/polynomial/hermite.py'>,\n",
       " 'numpy.polynomial.hermite_e': <module 'numpy.polynomial.hermite_e' from '/usr/lib/python3/dist-packages/numpy/polynomial/hermite_e.py'>,\n",
       " 'numpy.polynomial.laguerre': <module 'numpy.polynomial.laguerre' from '/usr/lib/python3/dist-packages/numpy/polynomial/laguerre.py'>,\n",
       " 'numpy.polynomial.legendre': <module 'numpy.polynomial.legendre' from '/usr/lib/python3/dist-packages/numpy/polynomial/legendre.py'>,\n",
       " 'numpy.polynomial.polynomial': <module 'numpy.polynomial.polynomial' from '/usr/lib/python3/dist-packages/numpy/polynomial/polynomial.py'>,\n",
       " 'numpy.polynomial.polytemplate': <module 'numpy.polynomial.polytemplate' from '/usr/lib/python3/dist-packages/numpy/polynomial/polytemplate.py'>,\n",
       " 'numpy.polynomial.polyutils': <module 'numpy.polynomial.polyutils' from '/usr/lib/python3/dist-packages/numpy/polynomial/polyutils.py'>,\n",
       " 'numpy.random': <module 'numpy.random' from '/usr/lib/python3/dist-packages/numpy/random/__init__.py'>,\n",
       " 'numpy.random.info': <module 'numpy.random.info' from '/usr/lib/python3/dist-packages/numpy/random/info.py'>,\n",
       " 'numpy.random.mtrand': <module 'numpy.random.mtrand' from '/usr/lib/python3/dist-packages/numpy/random/mtrand.cpython-34m-arm-linux-gnueabihf.so'>,\n",
       " 'numpy.testing': <module 'numpy.testing' from '/usr/lib/python3/dist-packages/numpy/testing/__init__.py'>,\n",
       " 'numpy.testing.decorators': <module 'numpy.testing.decorators' from '/usr/lib/python3/dist-packages/numpy/testing/decorators.py'>,\n",
       " 'numpy.testing.nosetester': <module 'numpy.testing.nosetester' from '/usr/lib/python3/dist-packages/numpy/testing/nosetester.py'>,\n",
       " 'numpy.testing.numpytest': <module 'numpy.testing.numpytest' from '/usr/lib/python3/dist-packages/numpy/testing/numpytest.py'>,\n",
       " 'numpy.testing.utils': <module 'numpy.testing.utils' from '/usr/lib/python3/dist-packages/numpy/testing/utils.py'>,\n",
       " 'numpy.version': <module 'numpy.version' from '/usr/lib/python3/dist-packages/numpy/version.py'>,\n",
       " 'opcode': <module 'opcode' from '/usr/lib/python3.4/opcode.py'>,\n",
       " 'operator': <module 'operator' from '/usr/lib/python3.4/operator.py'>,\n",
       " 'optparse': <module 'optparse' from '/usr/lib/python3.4/optparse.py'>,\n",
       " 'os': <module 'os' from '/usr/lib/python3.4/os.py'>,\n",
       " 'os.path': <module 'posixpath' from '/usr/lib/python3.4/posixpath.py'>,\n",
       " 'pandas': <module 'pandas' from '/usr/lib/python3/dist-packages/pandas/__init__.py'>,\n",
       " 'pandas._sparse': <module 'pandas._sparse' from '/usr/lib/python3/dist-packages/pandas/_sparse.cpython-34m-arm-linux-gnueabihf.so'>,\n",
       " 'pandas._testing': <module 'pandas._testing' from '/usr/lib/python3/dist-packages/pandas/_testing.cpython-34m-arm-linux-gnueabihf.so'>,\n",
       " 'pandas.algos': <module 'pandas.algos' from '/usr/lib/python3/dist-packages/pandas/algos.cpython-34m-arm-linux-gnueabihf.so'>,\n",
       " 'pandas.compat': <module 'pandas.compat' from '/usr/lib/python3/dist-packages/pandas/compat/__init__.py'>,\n",
       " 'pandas.compat.chainmap': <module 'pandas.compat.chainmap' from '/usr/lib/python3/dist-packages/pandas/compat/chainmap.py'>,\n",
       " 'pandas.compat.openpyxl_compat': <module 'pandas.compat.openpyxl_compat' from '/usr/lib/python3/dist-packages/pandas/compat/openpyxl_compat.py'>,\n",
       " 'pandas.compat.pickle_compat': <module 'pandas.compat.pickle_compat' from '/usr/lib/python3/dist-packages/pandas/compat/pickle_compat.py'>,\n",
       " 'pandas.computation': <module 'pandas.computation' from '/usr/lib/python3/dist-packages/pandas/computation/__init__.py'>,\n",
       " 'pandas.computation.align': <module 'pandas.computation.align' from '/usr/lib/python3/dist-packages/pandas/computation/align.py'>,\n",
       " 'pandas.computation.api': <module 'pandas.computation.api' from '/usr/lib/python3/dist-packages/pandas/computation/api.py'>,\n",
       " 'pandas.computation.common': <module 'pandas.computation.common' from '/usr/lib/python3/dist-packages/pandas/computation/common.py'>,\n",
       " 'pandas.computation.engines': <module 'pandas.computation.engines' from '/usr/lib/python3/dist-packages/pandas/computation/engines.py'>,\n",
       " 'pandas.computation.eval': <module 'pandas.computation.eval' from '/usr/lib/python3/dist-packages/pandas/computation/eval.py'>,\n",
       " 'pandas.computation.expr': <module 'pandas.computation.expr' from '/usr/lib/python3/dist-packages/pandas/computation/expr.py'>,\n",
       " 'pandas.computation.expressions': <module 'pandas.computation.expressions' from '/usr/lib/python3/dist-packages/pandas/computation/expressions.py'>,\n",
       " 'pandas.computation.ops': <module 'pandas.computation.ops' from '/usr/lib/python3/dist-packages/pandas/computation/ops.py'>,\n",
       " 'pandas.computation.pytables': <module 'pandas.computation.pytables' from '/usr/lib/python3/dist-packages/pandas/computation/pytables.py'>,\n",
       " 'pandas.computation.scope': <module 'pandas.computation.scope' from '/usr/lib/python3/dist-packages/pandas/computation/scope.py'>,\n",
       " 'pandas.core': <module 'pandas.core' from '/usr/lib/python3/dist-packages/pandas/core/__init__.py'>,\n",
       " 'pandas.core.algorithms': <module 'pandas.core.algorithms' from '/usr/lib/python3/dist-packages/pandas/core/algorithms.py'>,\n",
       " 'pandas.core.api': <module 'pandas.core.api' from '/usr/lib/python3/dist-packages/pandas/core/api.py'>,\n",
       " 'pandas.core.array': <module 'pandas.core.array' from '/usr/lib/python3/dist-packages/pandas/core/array.py'>,\n",
       " 'pandas.core.base': <module 'pandas.core.base' from '/usr/lib/python3/dist-packages/pandas/core/base.py'>,\n",
       " 'pandas.core.categorical': <module 'pandas.core.categorical' from '/usr/lib/python3/dist-packages/pandas/core/categorical.py'>,\n",
       " 'pandas.core.common': <module 'pandas.core.common' from '/usr/lib/python3/dist-packages/pandas/core/common.py'>,\n",
       " 'pandas.core.config': <module 'pandas.core.config' from '/usr/lib/python3/dist-packages/pandas/core/config.py'>,\n",
       " 'pandas.core.config_init': <module 'pandas.core.config_init' from '/usr/lib/python3/dist-packages/pandas/core/config_init.py'>,\n",
       " 'pandas.core.datetools': <module 'pandas.core.datetools' from '/usr/lib/python3/dist-packages/pandas/core/datetools.py'>,\n",
       " 'pandas.core.format': <module 'pandas.core.format' from '/usr/lib/python3/dist-packages/pandas/core/format.py'>,\n",
       " 'pandas.core.frame': <module 'pandas.core.frame' from '/usr/lib/python3/dist-packages/pandas/core/frame.py'>,\n",
       " 'pandas.core.generic': <module 'pandas.core.generic' from '/usr/lib/python3/dist-packages/pandas/core/generic.py'>,\n",
       " 'pandas.core.groupby': <module 'pandas.core.groupby' from '/usr/lib/python3/dist-packages/pandas/core/groupby.py'>,\n",
       " 'pandas.core.index': <module 'pandas.core.index' from '/usr/lib/python3/dist-packages/pandas/core/index.py'>,\n",
       " 'pandas.core.indexing': <module 'pandas.core.indexing' from '/usr/lib/python3/dist-packages/pandas/core/indexing.py'>,\n",
       " 'pandas.core.internals': <module 'pandas.core.internals' from '/usr/lib/python3/dist-packages/pandas/core/internals.py'>,\n",
       " 'pandas.core.nanops': <module 'pandas.core.nanops' from '/usr/lib/python3/dist-packages/pandas/core/nanops.py'>,\n",
       " 'pandas.core.ops': <module 'pandas.core.ops' from '/usr/lib/python3/dist-packages/pandas/core/ops.py'>,\n",
       " 'pandas.core.panel': <module 'pandas.core.panel' from '/usr/lib/python3/dist-packages/pandas/core/panel.py'>,\n",
       " 'pandas.core.panel4d': <module 'pandas.core.panel4d' from '/usr/lib/python3/dist-packages/pandas/core/panel4d.py'>,\n",
       " 'pandas.core.panelnd': <module 'pandas.core.panelnd' from '/usr/lib/python3/dist-packages/pandas/core/panelnd.py'>,\n",
       " 'pandas.core.reshape': <module 'pandas.core.reshape' from '/usr/lib/python3/dist-packages/pandas/core/reshape.py'>,\n",
       " 'pandas.core.series': <module 'pandas.core.series' from '/usr/lib/python3/dist-packages/pandas/core/series.py'>,\n",
       " 'pandas.core.sparse': <module 'pandas.core.sparse' from '/usr/lib/python3/dist-packages/pandas/core/sparse.py'>,\n",
       " 'pandas.hashtable': <module 'pandas.hashtable' from '/usr/lib/python3/dist-packages/pandas/hashtable.cpython-34m-arm-linux-gnueabihf.so'>,\n",
       " 'pandas.index': <module 'pandas.index' from '/usr/lib/python3/dist-packages/pandas/index.cpython-34m-arm-linux-gnueabihf.so'>,\n",
       " 'pandas.info': <module 'pandas.info' from '/usr/lib/python3/dist-packages/pandas/info.py'>,\n",
       " 'pandas.io': <module 'pandas.io' from '/usr/lib/python3/dist-packages/pandas/io/__init__.py'>,\n",
       " 'pandas.io.api': <module 'pandas.io.api' from '/usr/lib/python3/dist-packages/pandas/io/api.py'>,\n",
       " 'pandas.io.clipboard': <module 'pandas.io.clipboard' from '/usr/lib/python3/dist-packages/pandas/io/clipboard.py'>,\n",
       " 'pandas.io.common': <module 'pandas.io.common' from '/usr/lib/python3/dist-packages/pandas/io/common.py'>,\n",
       " 'pandas.io.date_converters': <module 'pandas.io.date_converters' from '/usr/lib/python3/dist-packages/pandas/io/date_converters.py'>,\n",
       " 'pandas.io.excel': <module 'pandas.io.excel' from '/usr/lib/python3/dist-packages/pandas/io/excel.py'>,\n",
       " 'pandas.io.gbq': <module 'pandas.io.gbq' from '/usr/lib/python3/dist-packages/pandas/io/gbq.py'>,\n",
       " 'pandas.io.html': <module 'pandas.io.html' from '/usr/lib/python3/dist-packages/pandas/io/html.py'>,\n",
       " 'pandas.io.json': <module 'pandas.io.json' from '/usr/lib/python3/dist-packages/pandas/io/json.py'>,\n",
       " 'pandas.io.packers': <module 'pandas.io.packers' from '/usr/lib/python3/dist-packages/pandas/io/packers.py'>,\n",
       " 'pandas.io.parsers': <module 'pandas.io.parsers' from '/usr/lib/python3/dist-packages/pandas/io/parsers.py'>,\n",
       " 'pandas.io.pickle': <module 'pandas.io.pickle' from '/usr/lib/python3/dist-packages/pandas/io/pickle.py'>,\n",
       " 'pandas.io.pytables': <module 'pandas.io.pytables' from '/usr/lib/python3/dist-packages/pandas/io/pytables.py'>,\n",
       " 'pandas.io.sql': <module 'pandas.io.sql' from '/usr/lib/python3/dist-packages/pandas/io/sql.py'>,\n",
       " 'pandas.io.stata': <module 'pandas.io.stata' from '/usr/lib/python3/dist-packages/pandas/io/stata.py'>,\n",
       " 'pandas.json': <module 'pandas.json' from '/usr/lib/python3/dist-packages/pandas/json.cpython-34m-arm-linux-gnueabihf.so'>,\n",
       " 'pandas.lib': <module 'pandas.lib' from '/usr/lib/python3/dist-packages/pandas/lib.cpython-34m-arm-linux-gnueabihf.so'>,\n",
       " 'pandas.msgpack': <module 'pandas.msgpack' from '/usr/lib/python3/dist-packages/pandas/msgpack.cpython-34m-arm-linux-gnueabihf.so'>,\n",
       " 'pandas.parser': <module 'pandas.parser' from '/usr/lib/python3/dist-packages/pandas/parser.cpython-34m-arm-linux-gnueabihf.so'>,\n",
       " 'pandas.sparse': <module 'pandas.sparse' from '/usr/lib/python3/dist-packages/pandas/sparse/__init__.py'>,\n",
       " 'pandas.sparse.api': <module 'pandas.sparse.api' from '/usr/lib/python3/dist-packages/pandas/sparse/api.py'>,\n",
       " 'pandas.sparse.array': <module 'pandas.sparse.array' from '/usr/lib/python3/dist-packages/pandas/sparse/array.py'>,\n",
       " 'pandas.sparse.frame': <module 'pandas.sparse.frame' from '/usr/lib/python3/dist-packages/pandas/sparse/frame.py'>,\n",
       " 'pandas.sparse.list': <module 'pandas.sparse.list' from '/usr/lib/python3/dist-packages/pandas/sparse/list.py'>,\n",
       " 'pandas.sparse.panel': <module 'pandas.sparse.panel' from '/usr/lib/python3/dist-packages/pandas/sparse/panel.py'>,\n",
       " 'pandas.sparse.series': <module 'pandas.sparse.series' from '/usr/lib/python3/dist-packages/pandas/sparse/series.py'>,\n",
       " 'pandas.stats': <module 'pandas.stats' from '/usr/lib/python3/dist-packages/pandas/stats/__init__.py'>,\n",
       " 'pandas.stats.api': <module 'pandas.stats.api' from '/usr/lib/python3/dist-packages/pandas/stats/api.py'>,\n",
       " 'pandas.stats.common': <module 'pandas.stats.common' from '/usr/lib/python3/dist-packages/pandas/stats/common.py'>,\n",
       " 'pandas.stats.fama_macbeth': <module 'pandas.stats.fama_macbeth' from '/usr/lib/python3/dist-packages/pandas/stats/fama_macbeth.py'>,\n",
       " 'pandas.stats.interface': <module 'pandas.stats.interface' from '/usr/lib/python3/dist-packages/pandas/stats/interface.py'>,\n",
       " 'pandas.stats.math': <module 'pandas.stats.math' from '/usr/lib/python3/dist-packages/pandas/stats/math.py'>,\n",
       " 'pandas.stats.moments': <module 'pandas.stats.moments' from '/usr/lib/python3/dist-packages/pandas/stats/moments.py'>,\n",
       " 'pandas.stats.ols': <module 'pandas.stats.ols' from '/usr/lib/python3/dist-packages/pandas/stats/ols.py'>,\n",
       " 'pandas.stats.plm': <module 'pandas.stats.plm' from '/usr/lib/python3/dist-packages/pandas/stats/plm.py'>,\n",
       " 'pandas.tools': <module 'pandas.tools' from '/usr/lib/python3/dist-packages/pandas/tools/__init__.py'>,\n",
       " 'pandas.tools.describe': <module 'pandas.tools.describe' from '/usr/lib/python3/dist-packages/pandas/tools/describe.py'>,\n",
       " 'pandas.tools.merge': <module 'pandas.tools.merge' from '/usr/lib/python3/dist-packages/pandas/tools/merge.py'>,\n",
       " 'pandas.tools.pivot': <module 'pandas.tools.pivot' from '/usr/lib/python3/dist-packages/pandas/tools/pivot.py'>,\n",
       " 'pandas.tools.plotting': <module 'pandas.tools.plotting' from '/usr/lib/python3/dist-packages/pandas/tools/plotting.py'>,\n",
       " 'pandas.tools.tile': <module 'pandas.tools.tile' from '/usr/lib/python3/dist-packages/pandas/tools/tile.py'>,\n",
       " 'pandas.tools.util': <module 'pandas.tools.util' from '/usr/lib/python3/dist-packages/pandas/tools/util.py'>,\n",
       " 'pandas.tseries': <module 'pandas.tseries' from '/usr/lib/python3/dist-packages/pandas/tseries/__init__.py'>,\n",
       " 'pandas.tseries.api': <module 'pandas.tseries.api' from '/usr/lib/python3/dist-packages/pandas/tseries/api.py'>,\n",
       " 'pandas.tseries.converter': <module 'pandas.tseries.converter' from '/usr/lib/python3/dist-packages/pandas/tseries/converter.py'>,\n",
       " 'pandas.tseries.frequencies': <module 'pandas.tseries.frequencies' from '/usr/lib/python3/dist-packages/pandas/tseries/frequencies.py'>,\n",
       " 'pandas.tseries.index': <module 'pandas.tseries.index' from '/usr/lib/python3/dist-packages/pandas/tseries/index.py'>,\n",
       " 'pandas.tseries.offsets': <module 'pandas.tseries.offsets' from '/usr/lib/python3/dist-packages/pandas/tseries/offsets.py'>,\n",
       " 'pandas.tseries.period': <module 'pandas.tseries.period' from '/usr/lib/python3/dist-packages/pandas/tseries/period.py'>,\n",
       " 'pandas.tseries.resample': <module 'pandas.tseries.resample' from '/usr/lib/python3/dist-packages/pandas/tseries/resample.py'>,\n",
       " 'pandas.tseries.timedeltas': <module 'pandas.tseries.timedeltas' from '/usr/lib/python3/dist-packages/pandas/tseries/timedeltas.py'>,\n",
       " 'pandas.tseries.tools': <module 'pandas.tseries.tools' from '/usr/lib/python3/dist-packages/pandas/tseries/tools.py'>,\n",
       " 'pandas.tslib': <module 'pandas.tslib' from '/usr/lib/python3/dist-packages/pandas/tslib.cpython-34m-arm-linux-gnueabihf.so'>,\n",
       " 'pandas.util': <module 'pandas.util' from '/usr/lib/python3/dist-packages/pandas/util/__init__.py'>,\n",
       " 'pandas.util.decorators': <module 'pandas.util.decorators' from '/usr/lib/python3/dist-packages/pandas/util/decorators.py'>,\n",
       " 'pandas.util.print_versions': <module 'pandas.util.print_versions' from '/usr/lib/python3/dist-packages/pandas/util/print_versions.py'>,\n",
       " 'pandas.util.terminal': <module 'pandas.util.terminal' from '/usr/lib/python3/dist-packages/pandas/util/terminal.py'>,\n",
       " 'pandas.util.testing': <module 'pandas.util.testing' from '/usr/lib/python3/dist-packages/pandas/util/testing.py'>,\n",
       " 'pandas.version': <module 'pandas.version' from '/usr/lib/python3/dist-packages/pandas/version.py'>,\n",
       " 'pathlib': <module 'pathlib' from '/usr/lib/python3.4/pathlib.py'>,\n",
       " 'pdb': <module 'pdb' from '/usr/lib/python3.4/pdb.py'>,\n",
       " 'pexpect': <module 'pexpect' from '/usr/local/lib/python3.4/dist-packages/pexpect/__init__.py'>,\n",
       " 'pexpect.exceptions': <module 'pexpect.exceptions' from '/usr/local/lib/python3.4/dist-packages/pexpect/exceptions.py'>,\n",
       " 'pexpect.expect': <module 'pexpect.expect' from '/usr/local/lib/python3.4/dist-packages/pexpect/expect.py'>,\n",
       " 'pexpect.pty_spawn': <module 'pexpect.pty_spawn' from '/usr/local/lib/python3.4/dist-packages/pexpect/pty_spawn.py'>,\n",
       " 'pexpect.run': <module 'pexpect.run' from '/usr/local/lib/python3.4/dist-packages/pexpect/run.py'>,\n",
       " 'pexpect.spawnbase': <module 'pexpect.spawnbase' from '/usr/local/lib/python3.4/dist-packages/pexpect/spawnbase.py'>,\n",
       " 'pexpect.utils': <module 'pexpect.utils' from '/usr/local/lib/python3.4/dist-packages/pexpect/utils.py'>,\n",
       " 'pickle': <module 'pickle' from '/usr/lib/python3.4/pickle.py'>,\n",
       " 'pickleshare': <module 'pickleshare' from '/usr/local/lib/python3.4/dist-packages/pickleshare.py'>,\n",
       " 'pkg_resources': <module 'pkg_resources' from '/usr/local/lib/python3.4/dist-packages/pkg_resources/__init__.py'>,\n",
       " 'pkg_resources._vendor': <module 'pkg_resources._vendor' from '/usr/local/lib/python3.4/dist-packages/pkg_resources/_vendor/__init__.py'>,\n",
       " 'pkg_resources._vendor.packaging.__about__': <module 'pkg_resources._vendor.packaging.__about__' from '/usr/local/lib/python3.4/dist-packages/pkg_resources/_vendor/packaging/__about__.py'>,\n",
       " 'pkg_resources._vendor.six': <module 'pkg_resources._vendor.six' from '/usr/local/lib/python3.4/dist-packages/pkg_resources/_vendor/six.py'>,\n",
       " 'pkg_resources._vendor.six.moves': <module 'pkg_resources._vendor.six.moves' (<pkg_resources._vendor.six._SixMetaPathImporter object at 0xb19dc490>)>,\n",
       " 'pkg_resources.extern': <module 'pkg_resources.extern' from '/usr/local/lib/python3.4/dist-packages/pkg_resources/extern/__init__.py'>,\n",
       " 'pkg_resources.extern.packaging': <module 'pkg_resources._vendor.packaging' from '/usr/local/lib/python3.4/dist-packages/pkg_resources/_vendor/packaging/__init__.py'>,\n",
       " 'pkg_resources.extern.packaging._compat': <module 'pkg_resources.extern.packaging._compat' from '/usr/local/lib/python3.4/dist-packages/pkg_resources/_vendor/packaging/_compat.py'>,\n",
       " 'pkg_resources.extern.packaging._structures': <module 'pkg_resources.extern.packaging._structures' from '/usr/local/lib/python3.4/dist-packages/pkg_resources/_vendor/packaging/_structures.py'>,\n",
       " 'pkg_resources.extern.packaging.markers': <module 'pkg_resources.extern.packaging.markers' from '/usr/local/lib/python3.4/dist-packages/pkg_resources/_vendor/packaging/markers.py'>,\n",
       " 'pkg_resources.extern.packaging.requirements': <module 'pkg_resources.extern.packaging.requirements' from '/usr/local/lib/python3.4/dist-packages/pkg_resources/_vendor/packaging/requirements.py'>,\n",
       " 'pkg_resources.extern.packaging.specifiers': <module 'pkg_resources.extern.packaging.specifiers' from '/usr/local/lib/python3.4/dist-packages/pkg_resources/_vendor/packaging/specifiers.py'>,\n",
       " 'pkg_resources.extern.packaging.version': <module 'pkg_resources.extern.packaging.version' from '/usr/local/lib/python3.4/dist-packages/pkg_resources/_vendor/packaging/version.py'>,\n",
       " 'pkg_resources.extern.pyparsing': <module 'pkg_resources._vendor.pyparsing' from '/usr/local/lib/python3.4/dist-packages/pkg_resources/_vendor/pyparsing.py'>,\n",
       " 'pkg_resources.extern.six': <module 'pkg_resources._vendor.six' from '/usr/local/lib/python3.4/dist-packages/pkg_resources/_vendor/six.py'>,\n",
       " 'pkg_resources.extern.six.moves': <module 'pkg_resources._vendor.six.moves' (<pkg_resources._vendor.six._SixMetaPathImporter object at 0xb19dc490>)>,\n",
       " 'pkg_resources.extern.six.moves.urllib': <module 'pkg_resources._vendor.six.moves.urllib' (<pkg_resources._vendor.six._SixMetaPathImporter object at 0xb19dc490>)>,\n",
       " 'pkgutil': <module 'pkgutil' from '/usr/lib/python3.4/pkgutil.py'>,\n",
       " 'platform': <module 'platform' from '/usr/lib/python3.4/platform.py'>,\n",
       " 'plistlib': <module 'plistlib' from '/usr/lib/python3.4/plistlib.py'>,\n",
       " 'ply': <module 'ply' from '/usr/lib/python3/dist-packages/ply/__init__.py'>,\n",
       " 'ply.lex': <module 'ply.lex' from '/usr/lib/python3/dist-packages/ply/lex.py'>,\n",
       " 'ply.yacc': <module 'ply.yacc' from '/usr/lib/python3/dist-packages/ply/yacc.py'>,\n",
       " 'posix': <module 'posix' (built-in)>,\n",
       " 'posixpath': <module 'posixpath' from '/usr/lib/python3.4/posixpath.py'>,\n",
       " 'pprint': <module 'pprint' from '/usr/lib/python3.4/pprint.py'>,\n",
       " 'profile': <module 'profile' from '/usr/lib/python3.4/profile.py'>,\n",
       " 'pstats': <module 'pstats' from '/usr/lib/python3.4/pstats.py'>,\n",
       " 'pty': <module 'pty' from '/usr/lib/python3.4/pty.py'>,\n",
       " 'ptyprocess': <module 'ptyprocess' from '/usr/local/lib/python3.4/dist-packages/ptyprocess/__init__.py'>,\n",
       " 'ptyprocess.ptyprocess': <module 'ptyprocess.ptyprocess' from '/usr/local/lib/python3.4/dist-packages/ptyprocess/ptyprocess.py'>,\n",
       " 'ptyprocess.util': <module 'ptyprocess.util' from '/usr/local/lib/python3.4/dist-packages/ptyprocess/util.py'>,\n",
       " 'pwd': <module 'pwd' (built-in)>,\n",
       " 'pycparser': <module 'pycparser' from '/usr/lib/python3/dist-packages/pycparser/__init__.py'>,\n",
       " 'pycparser.ast_transforms': <module 'pycparser.ast_transforms' from '/usr/lib/python3/dist-packages/pycparser/ast_transforms.py'>,\n",
       " 'pycparser.c_ast': <module 'pycparser.c_ast' from '/usr/lib/python3/dist-packages/pycparser/c_ast.py'>,\n",
       " 'pycparser.c_lexer': <module 'pycparser.c_lexer' from '/usr/lib/python3/dist-packages/pycparser/c_lexer.py'>,\n",
       " 'pycparser.c_parser': <module 'pycparser.c_parser' from '/usr/lib/python3/dist-packages/pycparser/c_parser.py'>,\n",
       " 'pycparser.lextab': <module 'pycparser.lextab' from '/usr/lib/python3/dist-packages/pycparser/lextab.py'>,\n",
       " 'pycparser.plyparser': <module 'pycparser.plyparser' from '/usr/lib/python3/dist-packages/pycparser/plyparser.py'>,\n",
       " 'pycparser.yacctab': <module 'pycparser.yacctab' from '/usr/lib/python3/dist-packages/pycparser/yacctab.py'>,\n",
       " 'pydoc': <module 'pydoc' from '/usr/lib/python3.4/pydoc.py'>,\n",
       " 'pyexpat': <module 'pyexpat' (built-in)>,\n",
       " 'pyexpat.errors': <module 'pyexpat.errors'>,\n",
       " 'pyexpat.model': <module 'pyexpat.model'>,\n",
       " 'pyparsing': <module 'pyparsing' from '/usr/lib/python3/dist-packages/pyparsing.py'>,\n",
       " 'pytz': <module 'pytz' from '/usr/local/lib/python3.4/dist-packages/pytz/__init__.py'>,\n",
       " 'pytz.exceptions': <module 'pytz.exceptions' from '/usr/local/lib/python3.4/dist-packages/pytz/exceptions.py'>,\n",
       " 'pytz.lazy': <module 'pytz.lazy' from '/usr/local/lib/python3.4/dist-packages/pytz/lazy.py'>,\n",
       " 'pytz.tzfile': <module 'pytz.tzfile' from '/usr/local/lib/python3.4/dist-packages/pytz/tzfile.py'>,\n",
       " 'pytz.tzinfo': <module 'pytz.tzinfo' from '/usr/local/lib/python3.4/dist-packages/pytz/tzinfo.py'>,\n",
       " 'queue': <module 'queue' from '/usr/lib/python3.4/queue.py'>,\n",
       " 'quopri': <module 'quopri' from '/usr/lib/python3.4/quopri.py'>,\n",
       " 'random': <module 'random' from '/usr/lib/python3.4/random.py'>,\n",
       " 're': <module 're' from '/usr/lib/python3.4/re.py'>,\n",
       " 'reprlib': <module 'reprlib' from '/usr/lib/python3.4/reprlib.py'>,\n",
       " 'resource': <module 'resource' from '/usr/lib/python3.4/lib-dynload/resource.cpython-34m-arm-linux-gnueabihf.so'>,\n",
       " 'runpy': <module 'runpy' from '/usr/lib/python3.4/runpy.py'>,\n",
       " 'select': <module 'select' (built-in)>,\n",
       " 'selectors': <module 'selectors' from '/usr/lib/python3.4/selectors.py'>,\n",
       " 'shlex': <module 'shlex' from '/usr/lib/python3.4/shlex.py'>,\n",
       " 'shutil': <module 'shutil' from '/usr/lib/python3.4/shutil.py'>,\n",
       " 'signal': <module 'signal' (built-in)>,\n",
       " 'simplegeneric': <module 'simplegeneric' from '/usr/local/lib/python3.4/dist-packages/simplegeneric.py'>,\n",
       " 'site': <module 'site' from '/usr/lib/python3.4/site.py'>,\n",
       " 'sitecustomize': <module 'sitecustomize' from '/usr/lib/python3.4/sitecustomize.py'>,\n",
       " 'six': <module 'six' from '/usr/local/lib/python3.4/dist-packages/six.py'>,\n",
       " 'six.moves': <module 'six.moves' (<six._SixMetaPathImporter object at 0xb1933270>)>,\n",
       " 'socket': <module 'socket' from '/usr/lib/python3.4/socket.py'>,\n",
       " 'sqlite3': <module 'sqlite3' from '/usr/lib/python3.4/sqlite3/__init__.py'>,\n",
       " 'sqlite3.dbapi2': <module 'sqlite3.dbapi2' from '/usr/lib/python3.4/sqlite3/dbapi2.py'>,\n",
       " 'sre_compile': <module 'sre_compile' from '/usr/lib/python3.4/sre_compile.py'>,\n",
       " 'sre_constants': <module 'sre_constants' from '/usr/lib/python3.4/sre_constants.py'>,\n",
       " 'sre_parse': <module 'sre_parse' from '/usr/lib/python3.4/sre_parse.py'>,\n",
       " 'ssl': <module 'ssl' from '/usr/lib/python3.4/ssl.py'>,\n",
       " 'stat': <module 'stat' from '/usr/lib/python3.4/stat.py'>,\n",
       " 'storemagic': <module 'storemagic' from '/usr/local/lib/python3.4/dist-packages/IPython/extensions/storemagic.py'>,\n",
       " 'string': <module 'string' from '/usr/lib/python3.4/string.py'>,\n",
       " 'struct': <module 'struct' from '/usr/lib/python3.4/struct.py'>,\n",
       " 'subprocess': <module 'subprocess' from '/usr/lib/python3.4/subprocess.py'>,\n",
       " 'sys': <module 'sys' (built-in)>,\n",
       " 'sysconfig': <module 'sysconfig' from '/usr/lib/python3.4/sysconfig.py'>,\n",
       " 'tarfile': <module 'tarfile' from '/usr/lib/python3.4/tarfile.py'>,\n",
       " 'tempfile': <module 'tempfile' from '/usr/lib/python3.4/tempfile.py'>,\n",
       " 'termios': <module 'termios' from '/usr/lib/python3.4/lib-dynload/termios.cpython-34m-arm-linux-gnueabihf.so'>,\n",
       " 'textwrap': <module 'textwrap' from '/usr/lib/python3.4/textwrap.py'>,\n",
       " 'threading': <module 'threading' from '/usr/lib/python3.4/threading.py'>,\n",
       " 'time': <module 'time' (built-in)>,\n",
       " 'timeit': <module 'timeit' from '/usr/lib/python3.4/timeit.py'>,\n",
       " 'token': <module 'token' from '/usr/lib/python3.4/token.py'>,\n",
       " 'tokenize': <module 'tokenize' from '/usr/lib/python3.4/tokenize.py'>,\n",
       " 'tornado': <module 'tornado' from '/usr/local/lib/python3.4/dist-packages/tornado/__init__.py'>,\n",
       " 'tornado.concurrent': <module 'tornado.concurrent' from '/usr/local/lib/python3.4/dist-packages/tornado/concurrent.py'>,\n",
       " 'tornado.escape': <module 'tornado.escape' from '/usr/local/lib/python3.4/dist-packages/tornado/escape.py'>,\n",
       " 'tornado.ioloop': <module 'tornado.ioloop' from '/usr/local/lib/python3.4/dist-packages/tornado/ioloop.py'>,\n",
       " 'tornado.log': <module 'tornado.log' from '/usr/local/lib/python3.4/dist-packages/tornado/log.py'>,\n",
       " 'tornado.platform': <module 'tornado.platform' from '/usr/local/lib/python3.4/dist-packages/tornado/platform/__init__.py'>,\n",
       " 'tornado.platform.auto': <module 'tornado.platform.auto' from '/usr/local/lib/python3.4/dist-packages/tornado/platform/auto.py'>,\n",
       " 'tornado.platform.interface': <module 'tornado.platform.interface' from '/usr/local/lib/python3.4/dist-packages/tornado/platform/interface.py'>,\n",
       " 'tornado.platform.posix': <module 'tornado.platform.posix' from '/usr/local/lib/python3.4/dist-packages/tornado/platform/posix.py'>,\n",
       " 'tornado.speedups': <module 'tornado.speedups' from '/usr/local/lib/python3.4/dist-packages/tornado/speedups.cpython-34m.so'>,\n",
       " 'tornado.stack_context': <module 'tornado.stack_context' from '/usr/local/lib/python3.4/dist-packages/tornado/stack_context.py'>,\n",
       " 'tornado.util': <module 'tornado.util' from '/usr/local/lib/python3.4/dist-packages/tornado/util.py'>,\n",
       " 'traceback': <module 'traceback' from '/usr/lib/python3.4/traceback.py'>,\n",
       " 'traitlets': <module 'traitlets' from '/usr/local/lib/python3.4/dist-packages/traitlets/__init__.py'>,\n",
       " 'traitlets._version': <module 'traitlets._version' from '/usr/local/lib/python3.4/dist-packages/traitlets/_version.py'>,\n",
       " 'traitlets.config': <module 'traitlets.config' from '/usr/local/lib/python3.4/dist-packages/traitlets/config/__init__.py'>,\n",
       " 'traitlets.config.application': <module 'traitlets.config.application' from '/usr/local/lib/python3.4/dist-packages/traitlets/config/application.py'>,\n",
       " 'traitlets.config.configurable': <module 'traitlets.config.configurable' from '/usr/local/lib/python3.4/dist-packages/traitlets/config/configurable.py'>,\n",
       " 'traitlets.config.loader': <module 'traitlets.config.loader' from '/usr/local/lib/python3.4/dist-packages/traitlets/config/loader.py'>,\n",
       " 'traitlets.log': <module 'traitlets.log' from '/usr/local/lib/python3.4/dist-packages/traitlets/log.py'>,\n",
       " 'traitlets.traitlets': <module 'traitlets.traitlets' from '/usr/local/lib/python3.4/dist-packages/traitlets/traitlets.py'>,\n",
       " 'traitlets.utils': <module 'traitlets.utils' from '/usr/local/lib/python3.4/dist-packages/traitlets/utils/__init__.py'>,\n",
       " 'traitlets.utils.getargspec': <module 'traitlets.utils.getargspec' from '/usr/local/lib/python3.4/dist-packages/traitlets/utils/getargspec.py'>,\n",
       " 'traitlets.utils.importstring': <module 'traitlets.utils.importstring' from '/usr/local/lib/python3.4/dist-packages/traitlets/utils/importstring.py'>,\n",
       " 'traitlets.utils.sentinel': <module 'traitlets.utils.sentinel' from '/usr/local/lib/python3.4/dist-packages/traitlets/utils/sentinel.py'>,\n",
       " 'tty': <module 'tty' from '/usr/lib/python3.4/tty.py'>,\n",
       " 'types': <module 'types' from '/usr/lib/python3.4/types.py'>,\n",
       " 'unicodedata': <module 'unicodedata' (built-in)>,\n",
       " 'unittest': <module 'unittest' from '/usr/lib/python3.4/unittest/__init__.py'>,\n",
       " 'unittest.case': <module 'unittest.case' from '/usr/lib/python3.4/unittest/case.py'>,\n",
       " 'unittest.loader': <module 'unittest.loader' from '/usr/lib/python3.4/unittest/loader.py'>,\n",
       " 'unittest.main': <module 'unittest.main' from '/usr/lib/python3.4/unittest/main.py'>,\n",
       " 'unittest.result': <module 'unittest.result' from '/usr/lib/python3.4/unittest/result.py'>,\n",
       " 'unittest.runner': <module 'unittest.runner' from '/usr/lib/python3.4/unittest/runner.py'>,\n",
       " 'unittest.signals': <module 'unittest.signals' from '/usr/lib/python3.4/unittest/signals.py'>,\n",
       " 'unittest.suite': <module 'unittest.suite' from '/usr/lib/python3.4/unittest/suite.py'>,\n",
       " 'unittest.util': <module 'unittest.util' from '/usr/lib/python3.4/unittest/util.py'>,\n",
       " 'urllib': <module 'urllib' from '/usr/lib/python3.4/urllib/__init__.py'>,\n",
       " 'urllib.error': <module 'urllib.error' from '/usr/lib/python3.4/urllib/error.py'>,\n",
       " 'urllib.parse': <module 'urllib.parse' from '/usr/lib/python3.4/urllib/parse.py'>,\n",
       " 'urllib.request': <module 'urllib.request' from '/usr/lib/python3.4/urllib/request.py'>,\n",
       " 'urllib.response': <module 'urllib.response' from '/usr/lib/python3.4/urllib/response.py'>,\n",
       " 'uu': <module 'uu' from '/usr/lib/python3.4/uu.py'>,\n",
       " 'uuid': <module 'uuid' from '/usr/lib/python3.4/uuid.py'>,\n",
       " 'warnings': <module 'warnings' from '/usr/lib/python3.4/warnings.py'>,\n",
       " 'weakref': <module 'weakref' from '/usr/lib/python3.4/weakref.py'>,\n",
       " 'xml': <module 'xml' from '/usr/lib/python3.4/xml/__init__.py'>,\n",
       " 'xml.etree': <module 'xml.etree' from '/usr/lib/python3.4/xml/etree/__init__.py'>,\n",
       " 'xml.etree.ElementPath': <module 'xml.etree.ElementPath' from '/usr/lib/python3.4/xml/etree/ElementPath.py'>,\n",
       " 'xml.etree.ElementTree': <module 'xml.etree.ElementTree' from '/usr/lib/python3.4/xml/etree/ElementTree.py'>,\n",
       " 'xml.etree.cElementTree': <module 'xml.etree.cElementTree' from '/usr/lib/python3.4/xml/etree/cElementTree.py'>,\n",
       " 'xml.parsers': <module 'xml.parsers' from '/usr/lib/python3.4/xml/parsers/__init__.py'>,\n",
       " 'xml.parsers.expat': <module 'xml.parsers.expat' from '/usr/lib/python3.4/xml/parsers/expat.py'>,\n",
       " 'xml.parsers.expat.errors': <module 'pyexpat.errors'>,\n",
       " 'xml.parsers.expat.model': <module 'pyexpat.model'>,\n",
       " 'xml.sax': <module 'xml.sax' from '/usr/lib/python3.4/xml/sax/__init__.py'>,\n",
       " 'xml.sax._exceptions': <module 'xml.sax._exceptions' from '/usr/lib/python3.4/xml/sax/_exceptions.py'>,\n",
       " 'xml.sax.handler': <module 'xml.sax.handler' from '/usr/lib/python3.4/xml/sax/handler.py'>,\n",
       " 'xml.sax.saxutils': <module 'xml.sax.saxutils' from '/usr/lib/python3.4/xml/sax/saxutils.py'>,\n",
       " 'xml.sax.xmlreader': <module 'xml.sax.xmlreader' from '/usr/lib/python3.4/xml/sax/xmlreader.py'>,\n",
       " 'zipfile': <module 'zipfile' from '/usr/lib/python3.4/zipfile.py'>,\n",
       " 'zipimport': <module 'zipimport' (built-in)>,\n",
       " 'zlib': <module 'zlib' (built-in)>,\n",
       " 'zmq': <module 'zmq' from '/usr/local/lib/python3.4/dist-packages/zmq/__init__.py'>,\n",
       " 'zmq.backend': <module 'zmq.backend' from '/usr/local/lib/python3.4/dist-packages/zmq/backend/__init__.py'>,\n",
       " 'zmq.backend.cython': <module 'zmq.backend.cython' from '/usr/local/lib/python3.4/dist-packages/zmq/backend/cython/__init__.py'>,\n",
       " 'zmq.backend.cython._device': <module 'zmq.backend.cython._device' from '/usr/local/lib/python3.4/dist-packages/zmq/backend/cython/_device.cpython-34m.so'>,\n",
       " 'zmq.backend.cython._poll': <module 'zmq.backend.cython._poll' from '/usr/local/lib/python3.4/dist-packages/zmq/backend/cython/_poll.cpython-34m.so'>,\n",
       " 'zmq.backend.cython._version': <module 'zmq.backend.cython._version' from '/usr/local/lib/python3.4/dist-packages/zmq/backend/cython/_version.cpython-34m.so'>,\n",
       " 'zmq.backend.cython.constants': <module 'zmq.backend.cython.constants' from '/usr/local/lib/python3.4/dist-packages/zmq/backend/cython/constants.cpython-34m.so'>,\n",
       " 'zmq.backend.cython.context': <module 'zmq.backend.cython.context' from '/usr/local/lib/python3.4/dist-packages/zmq/backend/cython/context.cpython-34m.so'>,\n",
       " 'zmq.backend.cython.error': <module 'zmq.backend.cython.error' from '/usr/local/lib/python3.4/dist-packages/zmq/backend/cython/error.cpython-34m.so'>,\n",
       " 'zmq.backend.cython.message': <module 'zmq.backend.cython.message' from '/usr/local/lib/python3.4/dist-packages/zmq/backend/cython/message.cpython-34m.so'>,\n",
       " 'zmq.backend.cython.socket': <module 'zmq.backend.cython.socket' from '/usr/local/lib/python3.4/dist-packages/zmq/backend/cython/socket.cpython-34m.so'>,\n",
       " 'zmq.backend.cython.utils': <module 'zmq.backend.cython.utils' from '/usr/local/lib/python3.4/dist-packages/zmq/backend/cython/utils.cpython-34m.so'>,\n",
       " 'zmq.backend.select': <module 'zmq.backend.select' from '/usr/local/lib/python3.4/dist-packages/zmq/backend/select.py'>,\n",
       " 'zmq.error': <module 'zmq.error' from '/usr/local/lib/python3.4/dist-packages/zmq/error.py'>,\n",
       " 'zmq.eventloop': <module 'zmq.eventloop' from '/usr/local/lib/python3.4/dist-packages/zmq/eventloop/__init__.py'>,\n",
       " 'zmq.eventloop.ioloop': <module 'zmq.eventloop.ioloop' from '/usr/local/lib/python3.4/dist-packages/zmq/eventloop/ioloop.py'>,\n",
       " 'zmq.eventloop.zmqstream': <module 'zmq.eventloop.zmqstream' from '/usr/local/lib/python3.4/dist-packages/zmq/eventloop/zmqstream.py'>,\n",
       " 'zmq.sugar': <module 'zmq.sugar' from '/usr/local/lib/python3.4/dist-packages/zmq/sugar/__init__.py'>,\n",
       " 'zmq.sugar.attrsettr': <module 'zmq.sugar.attrsettr' from '/usr/local/lib/python3.4/dist-packages/zmq/sugar/attrsettr.py'>,\n",
       " 'zmq.sugar.constants': <module 'zmq.sugar.constants' from '/usr/local/lib/python3.4/dist-packages/zmq/sugar/constants.py'>,\n",
       " 'zmq.sugar.context': <module 'zmq.sugar.context' from '/usr/local/lib/python3.4/dist-packages/zmq/sugar/context.py'>,\n",
       " 'zmq.sugar.frame': <module 'zmq.sugar.frame' from '/usr/local/lib/python3.4/dist-packages/zmq/sugar/frame.py'>,\n",
       " 'zmq.sugar.poll': <module 'zmq.sugar.poll' from '/usr/local/lib/python3.4/dist-packages/zmq/sugar/poll.py'>,\n",
       " 'zmq.sugar.socket': <module 'zmq.sugar.socket' from '/usr/local/lib/python3.4/dist-packages/zmq/sugar/socket.py'>,\n",
       " 'zmq.sugar.tracker': <module 'zmq.sugar.tracker' from '/usr/local/lib/python3.4/dist-packages/zmq/sugar/tracker.py'>,\n",
       " 'zmq.sugar.version': <module 'zmq.sugar.version' from '/usr/local/lib/python3.4/dist-packages/zmq/sugar/version.py'>,\n",
       " 'zmq.utils': <module 'zmq.utils' from '/usr/local/lib/python3.4/dist-packages/zmq/utils/__init__.py'>,\n",
       " 'zmq.utils.constant_names': <module 'zmq.utils.constant_names' from '/usr/local/lib/python3.4/dist-packages/zmq/utils/constant_names.py'>,\n",
       " 'zmq.utils.garbage': <module 'zmq.utils.garbage' from '/usr/local/lib/python3.4/dist-packages/zmq/utils/garbage.py'>,\n",
       " 'zmq.utils.jsonapi': <module 'zmq.utils.jsonapi' from '/usr/local/lib/python3.4/dist-packages/zmq/utils/jsonapi.py'>,\n",
       " 'zmq.utils.strtypes': <module 'zmq.utils.strtypes' from '/usr/local/lib/python3.4/dist-packages/zmq/utils/strtypes.py'>}"
      ]
     },
     "execution_count": 493,
     "metadata": {},
     "output_type": "execute_result"
    }
   ],
   "source": [
    "sys.modules"
   ]
  },
  {
   "cell_type": "code",
   "execution_count": 494,
   "metadata": {
    "collapsed": false
   },
   "outputs": [
    {
     "ename": "TypeError",
     "evalue": "formatmonth() missing 1 required positional argument: 'themonth'",
     "output_type": "error",
     "traceback": [
      "\u001b[1;31m---------------------------------------------------------------------------\u001b[0m",
      "\u001b[1;31mTypeError\u001b[0m                                 Traceback (most recent call last)",
      "\u001b[1;32m<ipython-input-494-0979c381d393>\u001b[0m in \u001b[0;36m<module>\u001b[1;34m()\u001b[0m\n\u001b[1;32m----> 1\u001b[1;33m \u001b[0mcalcsee\u001b[0m\u001b[1;33m.\u001b[0m\u001b[0mformatmonth\u001b[0m\u001b[1;33m(\u001b[0m\u001b[0marnow\u001b[0m\u001b[1;33m.\u001b[0m\u001b[0mstrftime\u001b[0m\u001b[1;33m(\u001b[0m\u001b[1;34m'%m %Y'\u001b[0m\u001b[1;33m)\u001b[0m\u001b[1;33m)\u001b[0m\u001b[1;33m\u001b[0m\u001b[0m\n\u001b[0m",
      "\u001b[1;31mTypeError\u001b[0m: formatmonth() missing 1 required positional argument: 'themonth'"
     ]
    }
   ],
   "source": [
    "calcsee.formatmonth(arnow.strftime('%m %Y'))"
   ]
  },
  {
   "cell_type": "code",
   "execution_count": 495,
   "metadata": {
    "collapsed": false
   },
   "outputs": [
    {
     "ename": "TypeError",
     "evalue": "formatday() missing 1 required positional argument: 'weekday'",
     "output_type": "error",
     "traceback": [
      "\u001b[1;31m---------------------------------------------------------------------------\u001b[0m",
      "\u001b[1;31mTypeError\u001b[0m                                 Traceback (most recent call last)",
      "\u001b[1;32m<ipython-input-495-6e71071f313a>\u001b[0m in \u001b[0;36m<module>\u001b[1;34m()\u001b[0m\n\u001b[1;32m----> 1\u001b[1;33m \u001b[0mcalcsee\u001b[0m\u001b[1;33m.\u001b[0m\u001b[0mformatday\u001b[0m\u001b[1;33m(\u001b[0m\u001b[0marnow\u001b[0m\u001b[1;33m.\u001b[0m\u001b[0mweekday\u001b[0m\u001b[1;33m(\u001b[0m\u001b[1;33m)\u001b[0m\u001b[1;33m)\u001b[0m\u001b[1;33m\u001b[0m\u001b[0m\n\u001b[0m",
      "\u001b[1;31mTypeError\u001b[0m: formatday() missing 1 required positional argument: 'weekday'"
     ]
    }
   ],
   "source": [
    "calcsee.formatday(arnow.weekday())"
   ]
  },
  {
   "cell_type": "code",
   "execution_count": 496,
   "metadata": {
    "collapsed": true
   },
   "outputs": [],
   "source": [
    "import random"
   ]
  },
  {
   "cell_type": "code",
   "execution_count": null,
   "metadata": {
    "collapsed": true
   },
   "outputs": [],
   "source": []
  },
  {
   "cell_type": "code",
   "execution_count": 497,
   "metadata": {
    "collapsed": false
   },
   "outputs": [],
   "source": [
    "calcday = calcsee.cssclasses"
   ]
  },
  {
   "cell_type": "code",
   "execution_count": 498,
   "metadata": {
    "collapsed": false
   },
   "outputs": [
    {
     "data": {
      "text/plain": [
       "['mon', 'tue', 'wed', 'thu', 'fri', 'sat', 'sun']"
      ]
     },
     "execution_count": 498,
     "metadata": {},
     "output_type": "execute_result"
    }
   ],
   "source": [
    "calcday"
   ]
  },
  {
   "cell_type": "code",
   "execution_count": 499,
   "metadata": {
    "collapsed": true
   },
   "outputs": [],
   "source": [
    "calcfulday = ['Monday', 'Tuesday', 'Wednesday', 'Thursday', 'Friday', 'Saturday', 'Sunday']"
   ]
  },
  {
   "cell_type": "code",
   "execution_count": 500,
   "metadata": {
    "collapsed": false
   },
   "outputs": [
    {
     "data": {
      "text/plain": [
       "7"
      ]
     },
     "execution_count": 500,
     "metadata": {},
     "output_type": "execute_result"
    }
   ],
   "source": [
    "len(calcfulday)"
   ]
  },
  {
   "cell_type": "code",
   "execution_count": null,
   "metadata": {
    "collapsed": true
   },
   "outputs": [],
   "source": []
  },
  {
   "cell_type": "code",
   "execution_count": 501,
   "metadata": {
    "collapsed": false
   },
   "outputs": [
    {
     "data": {
      "text/plain": [
       "'Friday'"
      ]
     },
     "execution_count": 501,
     "metadata": {},
     "output_type": "execute_result"
    }
   ],
   "source": [
    "random.choice(calcfulday)"
   ]
  },
  {
   "cell_type": "code",
   "execution_count": 502,
   "metadata": {
    "collapsed": false
   },
   "outputs": [
    {
     "data": {
      "text/plain": [
       "0"
      ]
     },
     "execution_count": 502,
     "metadata": {},
     "output_type": "execute_result"
    }
   ],
   "source": [
    "dayweekz"
   ]
  },
  {
   "cell_type": "code",
   "execution_count": 503,
   "metadata": {
    "collapsed": false
   },
   "outputs": [
    {
     "data": {
      "text/plain": [
       "'Monday'"
      ]
     },
     "execution_count": 503,
     "metadata": {},
     "output_type": "execute_result"
    }
   ],
   "source": [
    "calcfulday[dayweekz]"
   ]
  },
  {
   "cell_type": "code",
   "execution_count": null,
   "metadata": {
    "collapsed": true
   },
   "outputs": [],
   "source": []
  },
  {
   "cell_type": "code",
   "execution_count": 504,
   "metadata": {
    "collapsed": false
   },
   "outputs": [
    {
     "name": "stdout",
     "output_type": "stream",
     "text": [
      "mon\n"
     ]
    }
   ],
   "source": [
    "print(calcday[dayweekz])"
   ]
  },
  {
   "cell_type": "code",
   "execution_count": 505,
   "metadata": {
    "collapsed": false
   },
   "outputs": [
    {
     "ename": "TypeError",
     "evalue": "list indices must be integers, not list",
     "output_type": "error",
     "traceback": [
      "\u001b[1;31m---------------------------------------------------------------------------\u001b[0m",
      "\u001b[1;31mTypeError\u001b[0m                                 Traceback (most recent call last)",
      "\u001b[1;32m<ipython-input-505-fb1697102380>\u001b[0m in \u001b[0;36m<module>\u001b[1;34m()\u001b[0m\n\u001b[1;32m----> 1\u001b[1;33m \u001b[0mprint\u001b[0m\u001b[1;33m(\u001b[0m\u001b[0mcalcday\u001b[0m\u001b[1;33m[\u001b[0m\u001b[0mcalcfulday\u001b[0m\u001b[1;33m]\u001b[0m\u001b[1;33m)\u001b[0m\u001b[1;33m\u001b[0m\u001b[0m\n\u001b[0m",
      "\u001b[1;31mTypeError\u001b[0m: list indices must be integers, not list"
     ]
    }
   ],
   "source": [
    "print(calcday[calcfulday])"
   ]
  },
  {
   "cell_type": "code",
   "execution_count": null,
   "metadata": {
    "collapsed": true
   },
   "outputs": [],
   "source": []
  },
  {
   "cell_type": "code",
   "execution_count": null,
   "metadata": {
    "collapsed": true
   },
   "outputs": [],
   "source": []
  },
  {
   "cell_type": "code",
   "execution_count": 506,
   "metadata": {
    "collapsed": false
   },
   "outputs": [
    {
     "data": {
      "text/plain": [
       "'sun'"
      ]
     },
     "execution_count": 506,
     "metadata": {},
     "output_type": "execute_result"
    }
   ],
   "source": [
    "random.choice(calcday)"
   ]
  },
  {
   "cell_type": "code",
   "execution_count": null,
   "metadata": {
    "collapsed": true
   },
   "outputs": [],
   "source": []
  },
  {
   "cell_type": "code",
   "execution_count": 507,
   "metadata": {
    "collapsed": false
   },
   "outputs": [
    {
     "data": {
      "text/plain": [
       "0"
      ]
     },
     "execution_count": 507,
     "metadata": {},
     "output_type": "execute_result"
    }
   ],
   "source": [
    "calcsee.firstweekday"
   ]
  },
  {
   "cell_type": "code",
   "execution_count": 508,
   "metadata": {
    "collapsed": false
   },
   "outputs": [
    {
     "data": {
      "text/plain": [
       "<bound method HTMLCalendar.formatday of <calendar.HTMLCalendar object at 0xad5873d0>>"
      ]
     },
     "execution_count": 508,
     "metadata": {},
     "output_type": "execute_result"
    }
   ],
   "source": [
    "calcsee.formatday"
   ]
  },
  {
   "cell_type": "code",
   "execution_count": 509,
   "metadata": {
    "collapsed": false
   },
   "outputs": [
    {
     "data": {
      "text/plain": [
       "<bound method HTMLCalendar.formatmonth of <calendar.HTMLCalendar object at 0xad5873d0>>"
      ]
     },
     "execution_count": 509,
     "metadata": {},
     "output_type": "execute_result"
    }
   ],
   "source": [
    "calcsee.formatmonth"
   ]
  },
  {
   "cell_type": "code",
   "execution_count": 510,
   "metadata": {
    "collapsed": false
   },
   "outputs": [
    {
     "ename": "SyntaxError",
     "evalue": "invalid syntax (<ipython-input-510-511f2c07e020>, line 1)",
     "output_type": "error",
     "traceback": [
      "\u001b[1;36m  File \u001b[1;32m\"<ipython-input-510-511f2c07e020>\"\u001b[1;36m, line \u001b[1;32m1\u001b[0m\n\u001b[1;33m    calcsee.\u001b[0m\n\u001b[1;37m            ^\u001b[0m\n\u001b[1;31mSyntaxError\u001b[0m\u001b[1;31m:\u001b[0m invalid syntax\n"
     ]
    }
   ],
   "source": [
    "calcsee."
   ]
  },
  {
   "cell_type": "code",
   "execution_count": null,
   "metadata": {
    "collapsed": true
   },
   "outputs": [],
   "source": []
  },
  {
   "cell_type": "code",
   "execution_count": null,
   "metadata": {
    "collapsed": true
   },
   "outputs": [],
   "source": []
  },
  {
   "cell_type": "code",
   "execution_count": null,
   "metadata": {
    "collapsed": true
   },
   "outputs": [],
   "source": []
  },
  {
   "cell_type": "code",
   "execution_count": null,
   "metadata": {
    "collapsed": true
   },
   "outputs": [],
   "source": []
  },
  {
   "cell_type": "code",
   "execution_count": null,
   "metadata": {
    "collapsed": true
   },
   "outputs": [],
   "source": []
  },
  {
   "cell_type": "code",
   "execution_count": null,
   "metadata": {
    "collapsed": true
   },
   "outputs": [],
   "source": []
  },
  {
   "cell_type": "code",
   "execution_count": null,
   "metadata": {
    "collapsed": true
   },
   "outputs": [],
   "source": []
  },
  {
   "cell_type": "code",
   "execution_count": 537,
   "metadata": {
    "collapsed": false
   },
   "outputs": [
    {
     "data": {
      "text/plain": [
       "'qwer'"
      ]
     },
     "execution_count": 537,
     "metadata": {},
     "output_type": "execute_result"
    }
   ],
   "source": [
    "passwrdz"
   ]
  },
  {
   "cell_type": "code",
   "execution_count": null,
   "metadata": {
    "collapsed": true
   },
   "outputs": [],
   "source": [
    "f.encrypt"
   ]
  },
  {
   "cell_type": "code",
   "execution_count": 539,
   "metadata": {
    "collapsed": false
   },
   "outputs": [
    {
     "ename": "TypeError",
     "evalue": "data must be bytes.",
     "output_type": "error",
     "traceback": [
      "\u001b[1;31m---------------------------------------------------------------------------\u001b[0m",
      "\u001b[1;31mTypeError\u001b[0m                                 Traceback (most recent call last)",
      "\u001b[1;32m<ipython-input-539-6d6ff1800471>\u001b[0m in \u001b[0;36m<module>\u001b[1;34m()\u001b[0m\n\u001b[1;32m----> 1\u001b[1;33m \u001b[0mtoken\u001b[0m \u001b[1;33m=\u001b[0m \u001b[0mf\u001b[0m\u001b[1;33m.\u001b[0m\u001b[0mencrypt\u001b[0m\u001b[1;33m(\u001b[0m\u001b[0mpasswrdz\u001b[0m\u001b[1;33m)\u001b[0m\u001b[1;33m\u001b[0m\u001b[0m\n\u001b[0m",
      "\u001b[1;32m/usr/lib/python3/dist-packages/cryptography/fernet.py\u001b[0m in \u001b[0;36mencrypt\u001b[1;34m(self, data)\u001b[0m\n\u001b[0;32m     58\u001b[0m         \u001b[0mcurrent_time\u001b[0m \u001b[1;33m=\u001b[0m \u001b[0mint\u001b[0m\u001b[1;33m(\u001b[0m\u001b[0mtime\u001b[0m\u001b[1;33m.\u001b[0m\u001b[0mtime\u001b[0m\u001b[1;33m(\u001b[0m\u001b[1;33m)\u001b[0m\u001b[1;33m)\u001b[0m\u001b[1;33m\u001b[0m\u001b[0m\n\u001b[0;32m     59\u001b[0m         \u001b[0miv\u001b[0m \u001b[1;33m=\u001b[0m \u001b[0mos\u001b[0m\u001b[1;33m.\u001b[0m\u001b[0murandom\u001b[0m\u001b[1;33m(\u001b[0m\u001b[1;36m16\u001b[0m\u001b[1;33m)\u001b[0m\u001b[1;33m\u001b[0m\u001b[0m\n\u001b[1;32m---> 60\u001b[1;33m         \u001b[1;32mreturn\u001b[0m \u001b[0mself\u001b[0m\u001b[1;33m.\u001b[0m\u001b[0m_encrypt_from_parts\u001b[0m\u001b[1;33m(\u001b[0m\u001b[0mdata\u001b[0m\u001b[1;33m,\u001b[0m \u001b[0mcurrent_time\u001b[0m\u001b[1;33m,\u001b[0m \u001b[0miv\u001b[0m\u001b[1;33m)\u001b[0m\u001b[1;33m\u001b[0m\u001b[0m\n\u001b[0m\u001b[0;32m     61\u001b[0m \u001b[1;33m\u001b[0m\u001b[0m\n\u001b[0;32m     62\u001b[0m     \u001b[1;32mdef\u001b[0m \u001b[0m_encrypt_from_parts\u001b[0m\u001b[1;33m(\u001b[0m\u001b[0mself\u001b[0m\u001b[1;33m,\u001b[0m \u001b[0mdata\u001b[0m\u001b[1;33m,\u001b[0m \u001b[0mcurrent_time\u001b[0m\u001b[1;33m,\u001b[0m \u001b[0miv\u001b[0m\u001b[1;33m)\u001b[0m\u001b[1;33m:\u001b[0m\u001b[1;33m\u001b[0m\u001b[0m\n",
      "\u001b[1;32m/usr/lib/python3/dist-packages/cryptography/fernet.py\u001b[0m in \u001b[0;36m_encrypt_from_parts\u001b[1;34m(self, data, current_time, iv)\u001b[0m\n\u001b[0;32m     62\u001b[0m     \u001b[1;32mdef\u001b[0m \u001b[0m_encrypt_from_parts\u001b[0m\u001b[1;33m(\u001b[0m\u001b[0mself\u001b[0m\u001b[1;33m,\u001b[0m \u001b[0mdata\u001b[0m\u001b[1;33m,\u001b[0m \u001b[0mcurrent_time\u001b[0m\u001b[1;33m,\u001b[0m \u001b[0miv\u001b[0m\u001b[1;33m)\u001b[0m\u001b[1;33m:\u001b[0m\u001b[1;33m\u001b[0m\u001b[0m\n\u001b[0;32m     63\u001b[0m         \u001b[1;32mif\u001b[0m \u001b[1;32mnot\u001b[0m \u001b[0misinstance\u001b[0m\u001b[1;33m(\u001b[0m\u001b[0mdata\u001b[0m\u001b[1;33m,\u001b[0m \u001b[0mbytes\u001b[0m\u001b[1;33m)\u001b[0m\u001b[1;33m:\u001b[0m\u001b[1;33m\u001b[0m\u001b[0m\n\u001b[1;32m---> 64\u001b[1;33m             \u001b[1;32mraise\u001b[0m \u001b[0mTypeError\u001b[0m\u001b[1;33m(\u001b[0m\u001b[1;34m\"data must be bytes.\"\u001b[0m\u001b[1;33m)\u001b[0m\u001b[1;33m\u001b[0m\u001b[0m\n\u001b[0m\u001b[0;32m     65\u001b[0m \u001b[1;33m\u001b[0m\u001b[0m\n\u001b[0;32m     66\u001b[0m         \u001b[0mpadder\u001b[0m \u001b[1;33m=\u001b[0m \u001b[0mpadding\u001b[0m\u001b[1;33m.\u001b[0m\u001b[0mPKCS7\u001b[0m\u001b[1;33m(\u001b[0m\u001b[0malgorithms\u001b[0m\u001b[1;33m.\u001b[0m\u001b[0mAES\u001b[0m\u001b[1;33m.\u001b[0m\u001b[0mblock_size\u001b[0m\u001b[1;33m)\u001b[0m\u001b[1;33m.\u001b[0m\u001b[0mpadder\u001b[0m\u001b[1;33m(\u001b[0m\u001b[1;33m)\u001b[0m\u001b[1;33m\u001b[0m\u001b[0m\n",
      "\u001b[1;31mTypeError\u001b[0m: data must be bytes."
     ]
    }
   ],
   "source": [
    "token = f.encrypt(passwrdz)"
   ]
  },
  {
   "cell_type": "code",
   "execution_count": null,
   "metadata": {
    "collapsed": true
   },
   "outputs": [],
   "source": []
  },
  {
   "cell_type": "code",
   "execution_count": null,
   "metadata": {
    "collapsed": true
   },
   "outputs": [],
   "source": []
  },
  {
   "cell_type": "code",
   "execution_count": null,
   "metadata": {
    "collapsed": true
   },
   "outputs": [],
   "source": []
  },
  {
   "cell_type": "code",
   "execution_count": 536,
   "metadata": {
    "collapsed": false
   },
   "outputs": [],
   "source": [
    "#import ConfigParser\n",
    "\n",
    "config = configparser.RawConfigParser()\n",
    "\n",
    "# When adding sections or items, add them in the reverse order of\n",
    "# how you want them to be displayed in the actual file.\n",
    "# In addition, please note that using RawConfigParser's and the raw\n",
    "# mode of ConfigParser's respective set functions, you can assign\n",
    "# non-string values to keys internally, but will receive an error\n",
    "# when attempting to write to a file or when you get it in non-raw\n",
    "# mode. SafeConfigParser does not allow such assignments to take place.\n",
    "\n",
    "config.add_section('userinfo')\n",
    "config.set('userinfo', 'username', myusr)\n",
    "\n",
    "config.set('userinfo', 'password', passwrdz)\n",
    "config.add_section('tempsetting')\n",
    "config.set('tempsetting', 'drivertemphigh', sethightemp)\n",
    "config.set('tempsetting', 'drivertemplow', setlowtemp)\n",
    "config.set('tempsetting', 'passtemphigh', sethightemp)\n",
    "config.set('tempsetting', 'passtemplow', setlowtemp)\n",
    "\n",
    "\n",
    "config.add_section('dooropenstatus')\n",
    "\n",
    "#config.set('doorstatus', 'drifronop', )\n",
    "config.set('dooropenstatus', 'driversfront', dfstat)\n",
    "\n",
    "config.set('dooropenstatus', 'passfront', pfstat)\n",
    "\n",
    "config.set('dooropenstatus', 'passrear', prstat)\n",
    "\n",
    "config.set('dooropenstatus', 'driversrear', drstat)\n",
    "\n",
    "config.add_section('doorlockstatus')\n",
    "\n",
    "config.set('doorlockstatus', 'driversfont', opddor)\n",
    "\n",
    "config.set('doorlockstatus', 'passfront', opddor)\n",
    "\n",
    "config.set('doorlockstatus', 'passrear', opddor)\n",
    "\n",
    "config.set('doorlockstatus', 'driverrear', opddor)\n",
    "\n",
    "config.add_section('chargestatus')\n",
    "\n",
    "config.set('chargestatus', 'charging', 'complete')\n",
    "\n",
    "config.set('chargestatus', \"battcurrent\", flsecur)\n",
    "\n",
    "config.set('chargestatus', 'chargvolt', 2.5)\n",
    "\n",
    "config.set('chargestatus', 'timecharge', 60)\n",
    "#config.set('charges')\n",
    "\n",
    "#Set Valet Mode\n",
    "config.add_section('valetmode')\n",
    "\n",
    "config.set('valetmode', 'valeton', valeton)\n",
    "\n",
    "config.set('valetmode', 'timenow', (timnow))\n",
    "\n",
    "config.set('valetmode', 'traveltime', 40)\n",
    "\n",
    "config.set('valetmode', 'dayname', calcfulday[dayweekz])\n",
    "\n",
    "config.set('valetmode', 'timehuman', timnow.humanize())\n",
    "\n",
    "#config.set('templow', 'an_int', setlowtemp)\n",
    "#config.set('drivefront', 'an_int', '3')\n",
    "#config.set('passfront', 'baz', 'fun')\n",
    "#config.set('passback', 'bar', 'Python')\n",
    "#config.set('driveback', 'foo', '%(bar)s is %(baz)s!')\n",
    "\n",
    "# Writing our configuration file to 'example.cfg'\n",
    "with open('tesla.cfg', 'w') as configfile:\n",
    "    config.write(configfile)\n"
   ]
  },
  {
   "cell_type": "code",
   "execution_count": null,
   "metadata": {
    "collapsed": true
   },
   "outputs": [],
   "source": []
  },
  {
   "cell_type": "code",
   "execution_count": 535,
   "metadata": {
    "collapsed": false
   },
   "outputs": [
    {
     "data": {
      "text/plain": [
       "'wcm'"
      ]
     },
     "execution_count": 535,
     "metadata": {},
     "output_type": "execute_result"
    }
   ],
   "source": [
    "myusr"
   ]
  },
  {
   "cell_type": "code",
   "execution_count": null,
   "metadata": {
    "collapsed": true
   },
   "outputs": [],
   "source": []
  },
  {
   "cell_type": "code",
   "execution_count": null,
   "metadata": {
    "collapsed": true
   },
   "outputs": [],
   "source": []
  },
  {
   "cell_type": "code",
   "execution_count": null,
   "metadata": {
    "collapsed": true
   },
   "outputs": [],
   "source": []
  },
  {
   "cell_type": "code",
   "execution_count": null,
   "metadata": {
    "collapsed": true
   },
   "outputs": [],
   "source": []
  },
  {
   "cell_type": "code",
   "execution_count": null,
   "metadata": {
    "collapsed": true
   },
   "outputs": [],
   "source": []
  },
  {
   "cell_type": "code",
   "execution_count": null,
   "metadata": {
    "collapsed": true
   },
   "outputs": [],
   "source": []
  },
  {
   "cell_type": "code",
   "execution_count": null,
   "metadata": {
    "collapsed": true
   },
   "outputs": [],
   "source": []
  },
  {
   "cell_type": "code",
   "execution_count": null,
   "metadata": {
    "collapsed": true
   },
   "outputs": [],
   "source": []
  },
  {
   "cell_type": "code",
   "execution_count": null,
   "metadata": {
    "collapsed": true
   },
   "outputs": [],
   "source": []
  },
  {
   "cell_type": "code",
   "execution_count": 512,
   "metadata": {
    "collapsed": false
   },
   "outputs": [],
   "source": [
    "crea = config.read"
   ]
  },
  {
   "cell_type": "code",
   "execution_count": 513,
   "metadata": {
    "collapsed": false
   },
   "outputs": [
    {
     "name": "stdout",
     "output_type": "stream",
     "text": [
      "[]\n"
     ]
    }
   ],
   "source": [
    "with open('tesla.cfg', 'r') as configfile:\n",
    "    print(config.read(configfile))"
   ]
  },
  {
   "cell_type": "code",
   "execution_count": 514,
   "metadata": {
    "collapsed": false
   },
   "outputs": [],
   "source": [
    "temphi = 32\n",
    "templo = 17\n",
    "\n",
    "tempstr = (\"{'temphi' :  \" + str(temphi) + '}')"
   ]
  },
  {
   "cell_type": "code",
   "execution_count": 515,
   "metadata": {
    "collapsed": true
   },
   "outputs": [],
   "source": [
    "templow = (\"{'templow' :  \" + str(templo) + '}')"
   ]
  },
  {
   "cell_type": "code",
   "execution_count": 516,
   "metadata": {
    "collapsed": false
   },
   "outputs": [
    {
     "data": {
      "text/plain": [
       "\"{'templow' :  17}\""
      ]
     },
     "execution_count": 516,
     "metadata": {},
     "output_type": "execute_result"
    }
   ],
   "source": [
    "templow"
   ]
  },
  {
   "cell_type": "markdown",
   "metadata": {
    "collapsed": false
   },
   "source": [
    "\n",
    "{\n",
    "  \"response\": {\n",
    "    \"gui_distance_units\": \"mi/hr\",\n",
    "    \"gui_temperature_units\": \"F\",\n",
    "    \"gui_charge_rate_units\": \"mi/hr\",\n",
    "    \"gui_24_hour_time\": false,\n",
    "    \"gui_range_display\": \"Rated\"\n",
    "  }\n",
    "}tempstr"
   ]
  },
  {
   "cell_type": "markdown",
   "metadata": {
    "collapsed": false
   },
   "source": [
    "\n",
    "\n",
    "{ \"response\": { \"charging_state\": \"Complete\", // \"Charging\", ?? \"charge_to_max_range\": false, // current std/max-range setting \"max_range_charge_counter\": 0, \"fast_charger_present\": false, // connected to Supercharger? \"battery_range\": 239.02, // rated miles \"est_battery_range\": 155.79, // range estimated from recent driving \"ideal_battery_range\": 275.09, // ideal miles \"battery_level\": 91, // integer charge percentage \"battery_current\": -0.6, // current flowing into battery \"charge_starting_range\": null, \"charge_starting_soc\": null, \"charger_voltage\": 0, // only has value while charging \"charger_pilot_current\": 40, // max current allowed by charger & adapter \"charger_actual_current\": 0, // current actually being drawn \"charger_power\": 0, // kW (rounded down) of charger \"time_to_full_charge\": null, // valid only while charging \"charge_rate\": -1.0, // float mi/hr charging or -1 if not charging \"charge_port_door_open\": true } }"
   ]
  },
  {
   "cell_type": "markdown",
   "metadata": {
    "collapsed": true
   },
   "source": [
    "https://owner-api.teslamotors.com/api/1/vehicles/1/command/set_temps?driver_temp=23.7&passenger_temp=18.1\n",
    "    \n",
    "Returns the current temperature and climate control state.\n",
    "\n",
    "var TEMP_HI = 32;\n",
    "var TEMP_LO = 17;\n",
    "function set_temperature( params, cb ) {\n",
    "    var dtemp = params.dtemp;\n",
    "    var ptemp = params.ptemp;\n",
    "    var vid = params.id;\n",
    "    var error = false;\n",
    "    \n",
    "    //var temp_str = \"\";\n",
    "    if ( dtemp !== undefined && dtemp <= TEMP_HI && dtemp >= TEMP_LO) {\n",
    "        //temp_str = 'driver_temp=' + dtemp; // change from string to JSON form data\n",
    "    } else {\n",
    "        error = true;\n",
    "    }\n",
    "    // if no passenger temp is passed, the driver temp is also used as the passenger temp\n",
    "    if ( ptemp !== undefined && ptemp <= TEMP_HI && ptemp >= TEMP_LO) {\n",
    "        //temp_str = temp_str +'&passenger_temp=' + ptemp; // change from string to JSON form data\n",
    "    } else if ( ptemp === undefined ) {\n",
    "        ptemp = dtemp;\n",
    "    } else {\n",
    "        error = true;\n",
    "    }\n",
    "    if (!error) {\n",
    "        request( {\n",
    "            method: 'POST',\n",
    "            url: portal + '/vehicles/' + vid + '/command/set_temps',\n",
    "            gzip: true,\n",
    "            headers: http_header,\n",
    "            form: {\n",
    "                \"driver_temp\" : dtemp.toString(),\n",
    "                \"passenger_temp\" : ptemp.toString(),\n",
    "            }\n",
    "        }, function (error, response, body) { \n",
    "            if ((!!error) || (response.statusCode !== 200)) return report(error, response, body, cb);\n",
    "            try {\n",
    "                var data = JSON.parse(body); \n",
    "                if (typeof cb == 'function') return cb( data.response );  \n",
    "                else return true;\n",
    "            } catch (err) {\n",
    "                return report2('set_temps', body, cb);\n",
    "            }\n",
    "        });\n",
    "    } else {\n",
    "        if (typeof cb == 'function') return cb( new Error('Invalid temperature setting (' + dtemp + 'C), Passenger (' + ptemp + 'C)'));  \n",
    "        else return false;\n",
    "    }\n",
    "\n",
    "}\n",
    "exports.set_temperature = set_temperature;\n",
    "exports.TEMP_HI = TEMP_HI;\n",
    "exports.TEMP_LO = TEMP_LO;\n",
    "\n",
    "{\n",
    "  \"response\": {\n",
    "    \"df\": false,                  // driver's side front door open\n",
    "    \"dr\": false,                  // driver's side rear door open\n",
    "    \"pf\": false,                  // passenger's side front door open\n",
    "    \"pr\": false,                  // passenger's side rear door open\n",
    "    \"ft\": false,                  // front trunk is open\n",
    "    \"rt\": false,                  // rear trunk is open\n",
    "    \"car_verson\": \"1.19.42\",      // car firmware version\n",
    "    \"locked\": true,               // car is locked\n",
    "    \"sun_roof_installed\": false,  // panoramic roof is installed\n",
    "    \"sun_roof_state\": \"unknown\",\n",
    "    \"sun_roof_percent_open\": 0,   // null if not installed\n",
    "    \"dark_rims\": false,           // gray rims installed\n",
    "    \"wheel_type\": \"Base19\",       // wheel type installed\n",
    "    \"has_spoiler\": false,         // spoiler is installed\n",
    "    \"roof_color\": \"Colored\",      // \"None\" for panoramic roof\n",
    "    \"perf_config\": \"Base\"\n",
    "  }\n",
    "}\n",
    "\n",
    "{\n",
    "  \"response\": {\n",
    "    \"charging_state\": \"Complete\",  // \"Charging\", ??\n",
    "    \"charge_to_max_range\": false,  // current std/max-range setting\n",
    "    \"max_range_charge_counter\": 0,\n",
    "    \"fast_charger_present\": false, // connected to Supercharger?\n",
    "    \"battery_range\": 239.02,       // rated miles\n",
    "    \"est_battery_range\": 155.79,   // range estimated from recent driving\n",
    "    \"ideal_battery_range\": 275.09, // ideal miles\n",
    "    \"battery_level\": 91,           // integer charge percentage\n",
    "    \"battery_current\": -0.6,       // current flowing into battery\n",
    "    \"charge_starting_range\": null,\n",
    "    \"charge_starting_soc\": null,\n",
    "    \"charger_voltage\": 0,          // only has value while charging\n",
    "    \"charger_pilot_current\": 40,   // max current allowed by charger & adapter\n",
    "    \"charger_actual_current\": 0,   // current actually being drawn\n",
    "    \"charger_power\": 0,            // kW (rounded down) of charger\n",
    "    \"time_to_full_charge\": null,   // valid only while charging\n",
    "    \"charge_rate\": -1.0,           // float mi/hr charging or -1 if not charging\n",
    "    \"charge_port_door_open\": true\n",
    "  }\n",
    "}\n",
    "\n",
    "More car info\n",
    "\n",
    "What music is being played.\n",
    "\n",
    "Is my car unlocked? Unlock when device within certain distance.\n",
    "\n",
    "Checks that all the doors are shut\n",
    "\n",
    "https://owner-api.teslamotors.com/api/1/vehicles/vehicle_id/command/door_unlock\n",
    "\n",
    "https://owner-api.teslamotors.com/api/1/vehicles/vehicle_id/command/door_lock"
   ]
  },
  {
   "cell_type": "code",
   "execution_count": null,
   "metadata": {
    "collapsed": true
   },
   "outputs": [],
   "source": []
  },
  {
   "cell_type": "code",
   "execution_count": null,
   "metadata": {
    "collapsed": true
   },
   "outputs": [],
   "source": []
  },
  {
   "cell_type": "code",
   "execution_count": null,
   "metadata": {
    "collapsed": true
   },
   "outputs": [],
   "source": []
  },
  {
   "cell_type": "code",
   "execution_count": 517,
   "metadata": {
    "collapsed": false
   },
   "outputs": [],
   "source": [
    "for doorq in doorquen:\n",
    "    if doorq == True:\n",
    "        print('Warning Door Open')"
   ]
  },
  {
   "cell_type": "code",
   "execution_count": 518,
   "metadata": {
    "collapsed": false
   },
   "outputs": [
    {
     "name": "stdout",
     "output_type": "stream",
     "text": [
      "Warning Door Close\n",
      "Warning Door Close\n",
      "Warning Door Close\n",
      "Warning Door Close\n"
     ]
    }
   ],
   "source": [
    "for doorq in doorquen:\n",
    "    #print(doorq)\n",
    "    if doorq == False:\n",
    "        #for inz in range():\n",
    "        print('Warning Door Close')"
   ]
  },
  {
   "cell_type": "code",
   "execution_count": null,
   "metadata": {
    "collapsed": true
   },
   "outputs": [],
   "source": []
  },
  {
   "cell_type": "code",
   "execution_count": 519,
   "metadata": {
    "collapsed": false
   },
   "outputs": [
    {
     "data": {
      "text/plain": [
       "False"
      ]
     },
     "execution_count": 519,
     "metadata": {},
     "output_type": "execute_result"
    }
   ],
   "source": [
    "mydict['response']['dr']"
   ]
  },
  {
   "cell_type": "code",
   "execution_count": 520,
   "metadata": {
    "collapsed": false
   },
   "outputs": [
    {
     "data": {
      "text/plain": [
       "False"
      ]
     },
     "execution_count": 520,
     "metadata": {},
     "output_type": "execute_result"
    }
   ],
   "source": [
    "mydict['response']['pf']"
   ]
  },
  {
   "cell_type": "code",
   "execution_count": 521,
   "metadata": {
    "collapsed": false
   },
   "outputs": [
    {
     "data": {
      "text/plain": [
       "False"
      ]
     },
     "execution_count": 521,
     "metadata": {},
     "output_type": "execute_result"
    }
   ],
   "source": [
    "mydict['response']['pr']"
   ]
  },
  {
   "cell_type": "code",
   "execution_count": 522,
   "metadata": {
    "collapsed": false
   },
   "outputs": [
    {
     "ename": "SyntaxError",
     "evalue": "invalid syntax (<ipython-input-522-2a61b65b88f3>, line 1)",
     "output_type": "error",
     "traceback": [
      "\u001b[1;36m  File \u001b[1;32m\"<ipython-input-522-2a61b65b88f3>\"\u001b[1;36m, line \u001b[1;32m1\u001b[0m\n\u001b[1;33m    if True in\u001b[0m\n\u001b[1;37m               ^\u001b[0m\n\u001b[1;31mSyntaxError\u001b[0m\u001b[1;31m:\u001b[0m invalid syntax\n"
     ]
    }
   ],
   "source": [
    "if True in "
   ]
  },
  {
   "cell_type": "code",
   "execution_count": 523,
   "metadata": {
    "collapsed": false
   },
   "outputs": [],
   "source": [
    "def testdoorlock():\n",
    "    assert mydict['response']['locked'] == 'True'\n",
    "    \n",
    "def testdoorunlock():\n",
    "    assert mydict['response']['locked'] == 'False'\n"
   ]
  },
  {
   "cell_type": "code",
   "execution_count": null,
   "metadata": {
    "collapsed": false
   },
   "outputs": [],
   "source": []
  },
  {
   "cell_type": "code",
   "execution_count": 524,
   "metadata": {
    "collapsed": false
   },
   "outputs": [
    {
     "data": {
      "text/plain": [
       "True"
      ]
     },
     "execution_count": 524,
     "metadata": {},
     "output_type": "execute_result"
    }
   ],
   "source": [
    "mydict['response']['locked']"
   ]
  },
  {
   "cell_type": "code",
   "execution_count": 525,
   "metadata": {
    "collapsed": false
   },
   "outputs": [
    {
     "data": {
      "text/plain": [
       "False"
      ]
     },
     "execution_count": 525,
     "metadata": {},
     "output_type": "execute_result"
    }
   ],
   "source": [
    "mydict['response']['df']"
   ]
  },
  {
   "cell_type": "code",
   "execution_count": null,
   "metadata": {
    "collapsed": true
   },
   "outputs": [],
   "source": []
  },
  {
   "cell_type": "code",
   "execution_count": 526,
   "metadata": {
    "collapsed": false
   },
   "outputs": [
    {
     "data": {
      "text/plain": [
       "False"
      ]
     },
     "execution_count": 526,
     "metadata": {},
     "output_type": "execute_result"
    }
   ],
   "source": [
    "mydict['response']['dr']"
   ]
  },
  {
   "cell_type": "code",
   "execution_count": 527,
   "metadata": {
    "collapsed": false
   },
   "outputs": [
    {
     "data": {
      "text/plain": [
       "False"
      ]
     },
     "execution_count": 527,
     "metadata": {},
     "output_type": "execute_result"
    }
   ],
   "source": [
    "mydict['response']['pf']"
   ]
  },
  {
   "cell_type": "code",
   "execution_count": 528,
   "metadata": {
    "collapsed": false
   },
   "outputs": [
    {
     "data": {
      "text/plain": [
       "False"
      ]
     },
     "execution_count": 528,
     "metadata": {},
     "output_type": "execute_result"
    }
   ],
   "source": [
    "mydict['response']['pr']"
   ]
  },
  {
   "cell_type": "code",
   "execution_count": 529,
   "metadata": {
    "collapsed": true
   },
   "outputs": [],
   "source": [
    "vechj = open('/home/wcm/git/vech.json', 'r')"
   ]
  },
  {
   "cell_type": "code",
   "execution_count": 530,
   "metadata": {
    "collapsed": true
   },
   "outputs": [],
   "source": [
    "rdvechj = vechj.read()"
   ]
  },
  {
   "cell_type": "code",
   "execution_count": 531,
   "metadata": {
    "collapsed": false
   },
   "outputs": [
    {
     "data": {
      "text/plain": [
       "'{\\n  \"response\": [\\n    {\\n      \"color\": null,\\n      \"display_name\": null,\\n      \"id\": 321,\\n      \"option_codes\": \"MS01,RENA,TM00,DRLH,PF00,BT85,PBCW,RFPO,WT19,IBMB,IDPB,TR00,SU01,SC01,TP01,AU01,CH00,HP00,PA00,PS00,AD02,X020,X025,X001,X003,X007,X011,X013\",\\n      \"user_id\": 123,\\n      \"vehicle_id\": 1234567890,\\n      \"vin\": \"5YJSA1CN5CFP01657\",\\n      \"tokens\": [\\n        \"x\",\\n        \"x\"\\n      ],\\n      \"state\": \"online\"\\n    }\\n  ],\\n  \"count\": 1\\n}\\n'"
      ]
     },
     "execution_count": 531,
     "metadata": {},
     "output_type": "execute_result"
    }
   ],
   "source": [
    "rdvechj"
   ]
  },
  {
   "cell_type": "code",
   "execution_count": 532,
   "metadata": {
    "collapsed": false
   },
   "outputs": [
    {
     "data": {
      "text/plain": [
       "{'count': 1,\n",
       " 'response': [{'color': None,\n",
       "   'display_name': None,\n",
       "   'id': 321,\n",
       "   'option_codes': 'MS01,RENA,TM00,DRLH,PF00,BT85,PBCW,RFPO,WT19,IBMB,IDPB,TR00,SU01,SC01,TP01,AU01,CH00,HP00,PA00,PS00,AD02,X020,X025,X001,X003,X007,X011,X013',\n",
       "   'state': 'online',\n",
       "   'tokens': ['x', 'x'],\n",
       "   'user_id': 123,\n",
       "   'vehicle_id': 1234567890,\n",
       "   'vin': '5YJSA1CN5CFP01657'}]}"
      ]
     },
     "execution_count": 532,
     "metadata": {},
     "output_type": "execute_result"
    }
   ],
   "source": [
    "json.loads(rdvechj)"
   ]
  },
  {
   "cell_type": "code",
   "execution_count": 533,
   "metadata": {
    "collapsed": false
   },
   "outputs": [
    {
     "data": {
      "text/plain": [
       "'wcm'"
      ]
     },
     "execution_count": 533,
     "metadata": {},
     "output_type": "execute_result"
    }
   ],
   "source": [
    "myusr = getpass.getuser()"
   ]
  },
  {
   "cell_type": "code",
   "execution_count": null,
   "metadata": {
    "collapsed": true
   },
   "outputs": [],
   "source": []
  },
  {
   "cell_type": "code",
   "execution_count": null,
   "metadata": {
    "collapsed": true
   },
   "outputs": [],
   "source": []
  },
  {
   "cell_type": "code",
   "execution_count": null,
   "metadata": {
    "collapsed": true
   },
   "outputs": [],
   "source": []
  }
 ],
 "metadata": {
  "kernelspec": {
   "display_name": "Python 3",
   "language": "python",
   "name": "python3"
  },
  "language_info": {
   "codemirror_mode": {
    "name": "ipython",
    "version": 3
   },
   "file_extension": ".py",
   "mimetype": "text/x-python",
   "name": "python",
   "nbconvert_exporter": "python",
   "pygments_lexer": "ipython3",
   "version": "3.4.2"
  }
 },
 "nbformat": 4,
 "nbformat_minor": 0
}
