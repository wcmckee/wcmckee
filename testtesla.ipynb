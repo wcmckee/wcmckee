{
 "cells": [
  {
   "cell_type": "code",
   "execution_count": null,
   "metadata": {
    "collapsed": false
   },
   "outputs": [],
   "source": [
    "import json\n",
    "import nose\n",
    "from cryptography.fernet import Fernet\n",
    "import getpass\n",
    "import pandas"
   ]
  },
  {
   "cell_type": "code",
   "execution_count": null,
   "metadata": {
    "collapsed": false
   },
   "outputs": [],
   "source": [
    "pandas.DataFrame()"
   ]
  },
  {
   "cell_type": "code",
   "execution_count": null,
   "metadata": {
    "collapsed": false
   },
   "outputs": [],
   "source": [
    "getpass.getpass()"
   ]
  },
  {
   "cell_type": "code",
   "execution_count": null,
   "metadata": {
    "collapsed": true
   },
   "outputs": [],
   "source": [
    "myusr = getpass.getuser()"
   ]
  },
  {
   "cell_type": "code",
   "execution_count": null,
   "metadata": {
    "collapsed": true
   },
   "outputs": [],
   "source": []
  },
  {
   "cell_type": "code",
   "execution_count": null,
   "metadata": {
    "collapsed": true
   },
   "outputs": [],
   "source": []
  },
  {
   "cell_type": "code",
   "execution_count": null,
   "metadata": {
    "collapsed": false
   },
   "outputs": [],
   "source": [
    "tespas = getpass.getpass('PASSWORD ')"
   ]
  },
  {
   "cell_type": "code",
   "execution_count": null,
   "metadata": {
    "collapsed": false
   },
   "outputs": [],
   "source": [
    "tespas"
   ]
  },
  {
   "cell_type": "code",
   "execution_count": null,
   "metadata": {
    "collapsed": true
   },
   "outputs": [],
   "source": []
  },
  {
   "cell_type": "code",
   "execution_count": null,
   "metadata": {
    "collapsed": false
   },
   "outputs": [],
   "source": [
    "mydict = ({ \"response\": { \"df\": False, \"dr\": False, \"pf\": False, \"pr\": False, \"ft\": False, \"rt\": False, \"car_verson\": \"1.19.42\", \"locked\": True, \"sun_roof_installed\": False, \"sun_roof_state\": \"unknown\", \"sun_roof_percent_open\": 0, \"dark_rims\": False, \"wheel_type\": \"Base19\", \"has_spoiler\": False, \"roof_color\": \"Colored\", \"perf_config\": \"Base\" } })"
   ]
  },
  {
   "cell_type": "code",
   "execution_count": null,
   "metadata": {
    "collapsed": false
   },
   "outputs": [],
   "source": [
    "tespas"
   ]
  },
  {
   "cell_type": "code",
   "execution_count": null,
   "metadata": {
    "collapsed": false
   },
   "outputs": [],
   "source": [
    "pandas.DataFrame(mydict)"
   ]
  },
  {
   "cell_type": "code",
   "execution_count": null,
   "metadata": {
    "collapsed": false
   },
   "outputs": [],
   "source": [
    "pandas.read_html"
   ]
  },
  {
   "cell_type": "code",
   "execution_count": null,
   "metadata": {
    "collapsed": false
   },
   "outputs": [],
   "source": [
    "bytes(tespas)"
   ]
  },
  {
   "cell_type": "code",
   "execution_count": null,
   "metadata": {
    "collapsed": false
   },
   "outputs": [],
   "source": [
    "passwrdz"
   ]
  },
  {
   "cell_type": "code",
   "execution_count": null,
   "metadata": {
    "collapsed": false
   },
   "outputs": [],
   "source": [
    "bytes(passwrdz)"
   ]
  },
  {
   "cell_type": "code",
   "execution_count": null,
   "metadata": {
    "collapsed": true
   },
   "outputs": [],
   "source": []
  },
  {
   "cell_type": "code",
   "execution_count": null,
   "metadata": {
    "collapsed": true
   },
   "outputs": [],
   "source": []
  },
  {
   "cell_type": "code",
   "execution_count": null,
   "metadata": {
    "collapsed": false
   },
   "outputs": [],
   "source": [
    "key = Fernet.generate_key()\n",
    "\n",
    "f = Fernet(key)\n",
    "token = f.encrypt(b'straz')\n",
    "print(token)\n",
    "'...'\n",
    "f.decrypt(token)"
   ]
  },
  {
   "cell_type": "code",
   "execution_count": null,
   "metadata": {
    "collapsed": false
   },
   "outputs": [],
   "source": [
    "key"
   ]
  },
  {
   "cell_type": "code",
   "execution_count": null,
   "metadata": {
    "collapsed": true
   },
   "outputs": [],
   "source": [
    "tesveh = 'https://owner-api.teslamotors.com/api/1/vehicles/1/command/remote_start_drive?password='"
   ]
  },
  {
   "cell_type": "code",
   "execution_count": null,
   "metadata": {
    "collapsed": false
   },
   "outputs": [],
   "source": [
    "tesveh"
   ]
  },
  {
   "cell_type": "code",
   "execution_count": null,
   "metadata": {
    "collapsed": true
   },
   "outputs": [],
   "source": []
  },
  {
   "cell_type": "code",
   "execution_count": null,
   "metadata": {
    "collapsed": false
   },
   "outputs": [],
   "source": [
    "from urllib2 import Request, urlopen\n",
    "\n",
    "headers = {\n",
    "  'Authorization': 'Bearer {access_token}'\n",
    "}\n",
    "request = Request('https://owner-api.teslamotors.com/api/1/vehicles/1/command/remote_start_drive?password=edisonsux', headers=headers)\n",
    "\n",
    "response_body = urlopen(request).read()\n",
    "print response_body"
   ]
  },
  {
   "cell_type": "code",
   "execution_count": null,
   "metadata": {
    "collapsed": true
   },
   "outputs": [],
   "source": []
  },
  {
   "cell_type": "code",
   "execution_count": null,
   "metadata": {
    "collapsed": false
   },
   "outputs": [],
   "source": [
    "doorquen = (mydict['response']['df'], mydict['response']['dr'], mydict['response']['pf'], mydict['response']['pr'])"
   ]
  },
  {
   "cell_type": "code",
   "execution_count": null,
   "metadata": {
    "collapsed": false
   },
   "outputs": [],
   "source": [
    "doorquen"
   ]
  },
  {
   "cell_type": "code",
   "execution_count": null,
   "metadata": {
    "collapsed": false
   },
   "outputs": [],
   "source": [
    "key"
   ]
  },
  {
   "cell_type": "code",
   "execution_count": null,
   "metadata": {
    "collapsed": false
   },
   "outputs": [],
   "source": [
    "f.encrypt(bytes(b + ' + passwrdz + '))"
   ]
  },
  {
   "cell_type": "code",
   "execution_count": null,
   "metadata": {
    "collapsed": true
   },
   "outputs": [],
   "source": []
  },
  {
   "cell_type": "code",
   "execution_count": null,
   "metadata": {
    "collapsed": false
   },
   "outputs": [],
   "source": [
    "keyencr = f.encrypt(key)"
   ]
  },
  {
   "cell_type": "code",
   "execution_count": null,
   "metadata": {
    "collapsed": false
   },
   "outputs": [],
   "source": [
    "keyencr"
   ]
  },
  {
   "cell_type": "code",
   "execution_count": null,
   "metadata": {
    "collapsed": false
   },
   "outputs": [],
   "source": [
    "f.decrypt(token)"
   ]
  },
  {
   "cell_type": "markdown",
   "metadata": {},
   "source": [
    "Control Tesla Cars \n",
    "\n",
    "Test setting temp based on local weather.\n",
    "\n",
    "driver_temp=\n",
    "\n",
    "passenger_temp=\n",
    "\n",
    "This is a delivery system. replace buses in cities with electrical cars. These cars run the same route as buses. \n",
    "\n",
    "\n",
    "Going to change the radio \n",
    "\n",
    "More indepth Tesla car stats. Returns the Raspberry Pi media system onboard that is used to stream media to the car. Pluhs in to the cars stero. Allows passangers in the bar to reclievve calls. Broadcast wifi. Each car has its own router that it uses to comm with the outside world. Canera t oo report how everything is goiing. If things are wrong realtime images of what is happening. The ability to for remote login and control. HAM Radio broadcast. Each car is broadcasting a media center that offers storage space and media. You are able to connect to any of these Tesla cars and access the services they offer. If for some reason they are not to total standards then you can retry. \n",
    "\n",
    "Nux the \n",
    "\n",
    "Switch between low and high heat. \n",
    "\n",
    "passanger temp\n",
    "\n",
    "config file with times to auto start the car. driverless commands. sync to meetup and drive to where the meetups are happening\n",
    "\n",
    "\n",
    "{\n",
    "  \"response\": {\n",
    "    \"inside_temp\": 17.0,          // degC inside car\n",
    "    \"outside_temp\": 9.5,          // degC outside car or null\n",
    "    \"driver_temp_setting\": 22.6,  // degC of driver temperature setpoint\n",
    "    \"passenger_temp_setting\": 22.6, // degC of passenger temperature setpoint\n",
    "    \"is_auto_conditioning_on\": false, // apparently even if on\n",
    "    \"is_front_defroster_on\": null, // null or boolean as integer?\n",
    "    \"is_rear_defroster_on\": false,\n",
    "    \"fan_status\": 0               // fan speed 0-6 or null\n",
    "  }\n",
    "}"
   ]
  },
  {
   "cell_type": "code",
   "execution_count": null,
   "metadata": {
    "collapsed": true
   },
   "outputs": [],
   "source": [
    "TESLACONFIG = ('TESLA CONTROL BRUM BRUM')"
   ]
  },
  {
   "cell_type": "code",
   "execution_count": null,
   "metadata": {
    "collapsed": false
   },
   "outputs": [],
   "source": [
    "print(TESLACONFIG)"
   ]
  },
  {
   "cell_type": "code",
   "execution_count": null,
   "metadata": {
    "collapsed": true
   },
   "outputs": [],
   "source": []
  },
  {
   "cell_type": "code",
   "execution_count": null,
   "metadata": {
    "collapsed": false
   },
   "outputs": [],
   "source": [
    "passwrdz = getpass.getpass(\"PASSWORD ENTER \")\n",
    "\n",
    "askmileorkilo = input('AMERICAN SETTINGS Y/n ')\n",
    "\n",
    "setlowtemp = input('DRIVER LOW TEMP SET AS: ')\n",
    "\n",
    "sethightemp = input('DRIVER HIGH TEMP SET AS: ')\n",
    "\n",
    "\n",
    "setpasslow = input('PASS LOW TEMP SET AS: ')\n",
    "\n",
    "setpashight = input('PASS HIGH TEMP SET AS: ')\n",
    "\n",
    "openDriversDoor = input('OPEN DRIVERS DOOR Y/n ')\n",
    "\n",
    "unlockcar = input('UNLOCK CAR Y/n ')\n",
    "\n",
    "valetmode = input('VALET MODE Y/n ')\n",
    "\n",
    "valetpass = getpass.getpass('4 PIN NUMBER: ')\n"
   ]
  },
  {
   "cell_type": "code",
   "execution_count": null,
   "metadata": {
    "collapsed": false
   },
   "outputs": [],
   "source": [
    "passwrdz"
   ]
  },
  {
   "cell_type": "code",
   "execution_count": null,
   "metadata": {
    "collapsed": false
   },
   "outputs": [],
   "source": [
    "valint = int(valetpass)"
   ]
  },
  {
   "cell_type": "code",
   "execution_count": null,
   "metadata": {
    "collapsed": false
   },
   "outputs": [],
   "source": [
    "SETCURRENTZ = input('Current from -1 to 1: ')"
   ]
  },
  {
   "cell_type": "code",
   "execution_count": null,
   "metadata": {
    "collapsed": false
   },
   "outputs": [],
   "source": [
    "flsecur = float(SETCURRENTZ)"
   ]
  },
  {
   "cell_type": "code",
   "execution_count": null,
   "metadata": {
    "collapsed": false
   },
   "outputs": [],
   "source": [
    "flsecur"
   ]
  },
  {
   "cell_type": "code",
   "execution_count": null,
   "metadata": {
    "collapsed": true
   },
   "outputs": [],
   "source": []
  },
  {
   "cell_type": "code",
   "execution_count": null,
   "metadata": {
    "collapsed": false
   },
   "outputs": [],
   "source": [
    "int(SETCURRENTZ)"
   ]
  },
  {
   "cell_type": "code",
   "execution_count": null,
   "metadata": {
    "collapsed": true
   },
   "outputs": [],
   "source": []
  },
  {
   "cell_type": "code",
   "execution_count": null,
   "metadata": {
    "collapsed": true
   },
   "outputs": [],
   "source": []
  },
  {
   "cell_type": "code",
   "execution_count": null,
   "metadata": {
    "collapsed": false
   },
   "outputs": [],
   "source": [
    "bytes(passwrdz)"
   ]
  },
  {
   "cell_type": "code",
   "execution_count": null,
   "metadata": {
    "collapsed": true
   },
   "outputs": [],
   "source": [
    "import cryptography"
   ]
  },
  {
   "cell_type": "code",
   "execution_count": null,
   "metadata": {
    "collapsed": false
   },
   "outputs": [],
   "source": [
    "fercypo = cryptography.fernet()"
   ]
  },
  {
   "cell_type": "code",
   "execution_count": null,
   "metadata": {
    "collapsed": true
   },
   "outputs": [],
   "source": []
  },
  {
   "cell_type": "code",
   "execution_count": null,
   "metadata": {
    "collapsed": true
   },
   "outputs": [],
   "source": []
  },
  {
   "cell_type": "markdown",
   "metadata": {},
   "source": [
    "{\n",
    "        \"portal_url\": \"https://owner-api.teslamotors.com/api/1/vehicles/\",\n",
    "        \"stream_url\": \"https://streaming.vn.teslamotors.com/stream/\",\n",
    "        \"username\": \"yourMyTeslaLogin@email.com\",\n",
    "        \"password\": \"yourPassword\",\n",
    "        \"output_file\": \"stream_output.txt\"\n",
    "}"
   ]
  },
  {
   "cell_type": "code",
   "execution_count": null,
   "metadata": {
    "collapsed": false
   },
   "outputs": [],
   "source": [
    "bytes(passwrdz)"
   ]
  },
  {
   "cell_type": "code",
   "execution_count": null,
   "metadata": {
    "collapsed": true
   },
   "outputs": [],
   "source": []
  },
  {
   "cell_type": "code",
   "execution_count": null,
   "metadata": {
    "collapsed": false
   },
   "outputs": [],
   "source": [
    "bytes(valint)"
   ]
  },
  {
   "cell_type": "code",
   "execution_count": null,
   "metadata": {
    "collapsed": false
   },
   "outputs": [],
   "source": [
    "f.generate_key()"
   ]
  },
  {
   "cell_type": "code",
   "execution_count": null,
   "metadata": {
    "collapsed": false
   },
   "outputs": [],
   "source": [
    "tokche = f.encrypt(bytes(str(passwrdz)))"
   ]
  },
  {
   "cell_type": "code",
   "execution_count": null,
   "metadata": {
    "collapsed": true
   },
   "outputs": [],
   "source": []
  },
  {
   "cell_type": "code",
   "execution_count": null,
   "metadata": {
    "collapsed": true
   },
   "outputs": [],
   "source": []
  },
  {
   "cell_type": "code",
   "execution_count": null,
   "metadata": {
    "collapsed": true
   },
   "outputs": [],
   "source": []
  },
  {
   "cell_type": "code",
   "execution_count": null,
   "metadata": {
    "collapsed": false
   },
   "outputs": [],
   "source": [
    "token = f.encrypt(bytes(valint))"
   ]
  },
  {
   "cell_type": "code",
   "execution_count": null,
   "metadata": {
    "collapsed": false
   },
   "outputs": [],
   "source": [
    "print(token)"
   ]
  },
  {
   "cell_type": "code",
   "execution_count": null,
   "metadata": {
    "collapsed": false
   },
   "outputs": [],
   "source": [
    "f.decrypt(token)"
   ]
  },
  {
   "cell_type": "code",
   "execution_count": null,
   "metadata": {
    "collapsed": false
   },
   "outputs": [],
   "source": [
    "int.from_bytes((f.decrypt(token)), byteorder='big')"
   ]
  },
  {
   "cell_type": "code",
   "execution_count": null,
   "metadata": {
    "collapsed": true
   },
   "outputs": [],
   "source": []
  },
  {
   "cell_type": "code",
   "execution_count": null,
   "metadata": {
    "collapsed": false
   },
   "outputs": [],
   "source": [
    "byedecrpt = (f.decrypt(token))"
   ]
  },
  {
   "cell_type": "code",
   "execution_count": null,
   "metadata": {
    "collapsed": false
   },
   "outputs": [],
   "source": [
    "int.from_bytes((byedecrpt), byteorder='big')"
   ]
  },
  {
   "cell_type": "code",
   "execution_count": null,
   "metadata": {
    "collapsed": true
   },
   "outputs": [],
   "source": []
  },
  {
   "cell_type": "code",
   "execution_count": null,
   "metadata": {
    "collapsed": true
   },
   "outputs": [],
   "source": []
  },
  {
   "cell_type": "code",
   "execution_count": null,
   "metadata": {
    "collapsed": true
   },
   "outputs": [],
   "source": []
  },
  {
   "cell_type": "code",
   "execution_count": null,
   "metadata": {
    "collapsed": true
   },
   "outputs": [],
   "source": []
  },
  {
   "cell_type": "code",
   "execution_count": null,
   "metadata": {
    "collapsed": true
   },
   "outputs": [],
   "source": []
  },
  {
   "cell_type": "code",
   "execution_count": null,
   "metadata": {
    "collapsed": false
   },
   "outputs": [],
   "source": [
    "bytes(str(valetmode))"
   ]
  },
  {
   "cell_type": "code",
   "execution_count": null,
   "metadata": {
    "collapsed": true
   },
   "outputs": [],
   "source": []
  },
  {
   "cell_type": "code",
   "execution_count": null,
   "metadata": {
    "collapsed": true
   },
   "outputs": [],
   "source": []
  },
  {
   "cell_type": "code",
   "execution_count": null,
   "metadata": {
    "collapsed": true
   },
   "outputs": [],
   "source": []
  },
  {
   "cell_type": "code",
   "execution_count": null,
   "metadata": {
    "collapsed": true
   },
   "outputs": [],
   "source": []
  },
  {
   "cell_type": "code",
   "execution_count": null,
   "metadata": {
    "collapsed": false
   },
   "outputs": [],
   "source": [
    "if 'n' in valetmode:\n",
    "    valeton = False\n",
    "elif 'Y' in valetmode:\n",
    "    valeton = True\n",
    "    "
   ]
  },
  {
   "cell_type": "code",
   "execution_count": null,
   "metadata": {
    "collapsed": false
   },
   "outputs": [],
   "source": [
    "inpuvalp = "
   ]
  },
  {
   "cell_type": "code",
   "execution_count": null,
   "metadata": {
    "collapsed": true
   },
   "outputs": [],
   "source": []
  },
  {
   "cell_type": "code",
   "execution_count": null,
   "metadata": {
    "collapsed": true
   },
   "outputs": [],
   "source": [
    "if 'n' in askmileorkilo:\n",
    "    miletru = False\n",
    "elif 'Y' in askmileorkilo:\n",
    "    miletru = True"
   ]
  },
  {
   "cell_type": "code",
   "execution_count": null,
   "metadata": {
    "collapsed": false
   },
   "outputs": [],
   "source": [
    "askmileorkilo"
   ]
  },
  {
   "cell_type": "code",
   "execution_count": null,
   "metadata": {
    "collapsed": false
   },
   "outputs": [],
   "source": [
    "miletru"
   ]
  },
  {
   "cell_type": "code",
   "execution_count": null,
   "metadata": {
    "collapsed": false
   },
   "outputs": [],
   "source": [
    "if miletru == True:\n",
    "    guidisuni = \"mi/hr\"\n",
    "elif miletru == False:\n",
    "    guidisuni = \"km/hr\""
   ]
  },
  {
   "cell_type": "code",
   "execution_count": null,
   "metadata": {
    "collapsed": false
   },
   "outputs": [],
   "source": [
    "guidisuni"
   ]
  },
  {
   "cell_type": "code",
   "execution_count": null,
   "metadata": {
    "collapsed": true
   },
   "outputs": [],
   "source": []
  },
  {
   "cell_type": "code",
   "execution_count": null,
   "metadata": {
    "collapsed": true
   },
   "outputs": [],
   "source": [
    "if 'n' in unlockcar:\n",
    "    opddor = False\n",
    "elif 'Y' in unlockcar:\n",
    "    opddor = True"
   ]
  },
  {
   "cell_type": "code",
   "execution_count": null,
   "metadata": {
    "collapsed": false
   },
   "outputs": [],
   "source": [
    "opddor"
   ]
  },
  {
   "cell_type": "code",
   "execution_count": null,
   "metadata": {
    "collapsed": false
   },
   "outputs": [],
   "source": [
    "if 'n' in openDriversDoor:\n",
    "    opddor = False\n",
    "    \n",
    "elif 'Y' in openDriversDoor:\n",
    "    opddor = True\n",
    "    \n",
    "    "
   ]
  },
  {
   "cell_type": "code",
   "execution_count": null,
   "metadata": {
    "collapsed": false
   },
   "outputs": [],
   "source": [
    "opddor"
   ]
  },
  {
   "cell_type": "code",
   "execution_count": null,
   "metadata": {
    "collapsed": true
   },
   "outputs": [],
   "source": []
  },
  {
   "cell_type": "code",
   "execution_count": null,
   "metadata": {
    "collapsed": true
   },
   "outputs": [],
   "source": []
  },
  {
   "cell_type": "code",
   "execution_count": null,
   "metadata": {
    "collapsed": true
   },
   "outputs": [],
   "source": [
    "import configparser"
   ]
  },
  {
   "cell_type": "code",
   "execution_count": null,
   "metadata": {
    "collapsed": false
   },
   "outputs": [],
   "source": [
    "dfstat = (mydict['response']['df'])"
   ]
  },
  {
   "cell_type": "code",
   "execution_count": null,
   "metadata": {
    "collapsed": false
   },
   "outputs": [],
   "source": [
    "pfstat = (mydict['response']['pf'])"
   ]
  },
  {
   "cell_type": "code",
   "execution_count": null,
   "metadata": {
    "collapsed": false
   },
   "outputs": [],
   "source": [
    "prstat = (mydict['response']['pr'])"
   ]
  },
  {
   "cell_type": "code",
   "execution_count": null,
   "metadata": {
    "collapsed": true
   },
   "outputs": [],
   "source": [
    "drstat = (mydict['response']['dr'])"
   ]
  },
  {
   "cell_type": "code",
   "execution_count": null,
   "metadata": {
    "collapsed": false
   },
   "outputs": [],
   "source": [
    "drstat"
   ]
  },
  {
   "cell_type": "code",
   "execution_count": null,
   "metadata": {
    "collapsed": false
   },
   "outputs": [],
   "source": [
    "prstat"
   ]
  },
  {
   "cell_type": "code",
   "execution_count": null,
   "metadata": {
    "collapsed": false
   },
   "outputs": [],
   "source": [
    "dfstat"
   ]
  },
  {
   "cell_type": "code",
   "execution_count": null,
   "metadata": {
    "collapsed": false
   },
   "outputs": [],
   "source": [
    "pfstat"
   ]
  },
  {
   "cell_type": "code",
   "execution_count": null,
   "metadata": {
    "collapsed": true
   },
   "outputs": [],
   "source": [
    "import arrow"
   ]
  },
  {
   "cell_type": "code",
   "execution_count": null,
   "metadata": {
    "collapsed": true
   },
   "outputs": [],
   "source": [
    "timnow = arrow.now()"
   ]
  },
  {
   "cell_type": "code",
   "execution_count": null,
   "metadata": {
    "collapsed": false
   },
   "outputs": [],
   "source": [
    "print(timnow.datetime)"
   ]
  },
  {
   "cell_type": "code",
   "execution_count": null,
   "metadata": {
    "collapsed": false
   },
   "outputs": [],
   "source": [
    "timnow.for_json()"
   ]
  },
  {
   "cell_type": "code",
   "execution_count": null,
   "metadata": {
    "collapsed": false
   },
   "outputs": [],
   "source": [
    "timnow.isoweekday()"
   ]
  },
  {
   "cell_type": "code",
   "execution_count": null,
   "metadata": {
    "collapsed": false
   },
   "outputs": [],
   "source": [
    "timnow.humanize()"
   ]
  },
  {
   "cell_type": "code",
   "execution_count": null,
   "metadata": {
    "collapsed": false
   },
   "outputs": [],
   "source": [
    "timnow.isoweekday()"
   ]
  },
  {
   "cell_type": "code",
   "execution_count": null,
   "metadata": {
    "collapsed": false
   },
   "outputs": [],
   "source": [
    "timnow.isocalendar()"
   ]
  },
  {
   "cell_type": "code",
   "execution_count": null,
   "metadata": {
    "collapsed": false
   },
   "outputs": [],
   "source": [
    "timnow.ceil"
   ]
  },
  {
   "cell_type": "code",
   "execution_count": null,
   "metadata": {
    "collapsed": false
   },
   "outputs": [],
   "source": [
    "timnow.clone()"
   ]
  },
  {
   "cell_type": "code",
   "execution_count": null,
   "metadata": {
    "collapsed": false
   },
   "outputs": [],
   "source": [
    "timnow.date()"
   ]
  },
  {
   "cell_type": "code",
   "execution_count": null,
   "metadata": {
    "collapsed": false
   },
   "outputs": [],
   "source": [
    "timnow.format()"
   ]
  },
  {
   "cell_type": "code",
   "execution_count": null,
   "metadata": {
    "collapsed": false
   },
   "outputs": [],
   "source": [
    "timnow.floor"
   ]
  },
  {
   "cell_type": "code",
   "execution_count": null,
   "metadata": {
    "collapsed": false
   },
   "outputs": [],
   "source": [
    "timnow.float_timestamp"
   ]
  },
  {
   "cell_type": "code",
   "execution_count": null,
   "metadata": {
    "collapsed": false
   },
   "outputs": [],
   "source": [
    "timz = timnow.for_json()"
   ]
  },
  {
   "cell_type": "code",
   "execution_count": null,
   "metadata": {
    "collapsed": false
   },
   "outputs": [],
   "source": [
    "timz"
   ]
  },
  {
   "cell_type": "code",
   "execution_count": null,
   "metadata": {
    "collapsed": false
   },
   "outputs": [],
   "source": [
    "print(timz)"
   ]
  },
  {
   "cell_type": "code",
   "execution_count": null,
   "metadata": {
    "collapsed": false
   },
   "outputs": [],
   "source": [
    "timz.upper()"
   ]
  },
  {
   "cell_type": "code",
   "execution_count": null,
   "metadata": {
    "collapsed": false
   },
   "outputs": [],
   "source": [
    "timz.split('-' and ':' and '.')"
   ]
  },
  {
   "cell_type": "code",
   "execution_count": null,
   "metadata": {
    "collapsed": false
   },
   "outputs": [],
   "source": [
    "print(timnow)"
   ]
  },
  {
   "cell_type": "code",
   "execution_count": null,
   "metadata": {
    "collapsed": false
   },
   "outputs": [],
   "source": [
    "os."
   ]
  },
  {
   "cell_type": "code",
   "execution_count": null,
   "metadata": {
    "collapsed": true
   },
   "outputs": [],
   "source": []
  },
  {
   "cell_type": "code",
   "execution_count": null,
   "metadata": {
    "collapsed": true
   },
   "outputs": [],
   "source": []
  },
  {
   "cell_type": "code",
   "execution_count": null,
   "metadata": {
    "collapsed": true
   },
   "outputs": [],
   "source": []
  },
  {
   "cell_type": "code",
   "execution_count": null,
   "metadata": {
    "collapsed": true
   },
   "outputs": [],
   "source": []
  },
  {
   "cell_type": "code",
   "execution_count": null,
   "metadata": {
    "collapsed": true
   },
   "outputs": [],
   "source": []
  },
  {
   "cell_type": "code",
   "execution_count": null,
   "metadata": {
    "collapsed": true
   },
   "outputs": [],
   "source": []
  },
  {
   "cell_type": "code",
   "execution_count": null,
   "metadata": {
    "collapsed": true
   },
   "outputs": [],
   "source": []
  },
  {
   "cell_type": "code",
   "execution_count": null,
   "metadata": {
    "collapsed": true
   },
   "outputs": [],
   "source": []
  },
  {
   "cell_type": "code",
   "execution_count": null,
   "metadata": {
    "collapsed": false
   },
   "outputs": [],
   "source": [
    "timutc = timnow.utcnow()"
   ]
  },
  {
   "cell_type": "code",
   "execution_count": null,
   "metadata": {
    "collapsed": true
   },
   "outputs": [],
   "source": []
  },
  {
   "cell_type": "code",
   "execution_count": null,
   "metadata": {
    "collapsed": false
   },
   "outputs": [],
   "source": [
    "timnow.weekday()"
   ]
  },
  {
   "cell_type": "code",
   "execution_count": null,
   "metadata": {
    "collapsed": false
   },
   "outputs": [],
   "source": [
    "timnow.dst()"
   ]
  },
  {
   "cell_type": "code",
   "execution_count": null,
   "metadata": {
    "collapsed": false
   },
   "outputs": [],
   "source": [
    "timnow.ctime()"
   ]
  },
  {
   "cell_type": "code",
   "execution_count": null,
   "metadata": {
    "collapsed": false
   },
   "outputs": [],
   "source": [
    "timnow."
   ]
  },
  {
   "cell_type": "code",
   "execution_count": null,
   "metadata": {
    "collapsed": false
   },
   "outputs": [],
   "source": [
    "arrow.util.total_seconds"
   ]
  },
  {
   "cell_type": "code",
   "execution_count": null,
   "metadata": {
    "collapsed": false
   },
   "outputs": [],
   "source": [
    "arrow.api.factory"
   ]
  },
  {
   "cell_type": "code",
   "execution_count": null,
   "metadata": {
    "collapsed": false
   },
   "outputs": [],
   "source": [
    "artz = arrow.factory.tzinfo(timutc)"
   ]
  },
  {
   "cell_type": "code",
   "execution_count": null,
   "metadata": {
    "collapsed": false
   },
   "outputs": [],
   "source": [
    "artz.dst(timutc)"
   ]
  },
  {
   "cell_type": "code",
   "execution_count": null,
   "metadata": {
    "collapsed": false
   },
   "outputs": [],
   "source": [
    "calcsee= arrow.locales.calendar.HTMLCalendar()"
   ]
  },
  {
   "cell_type": "code",
   "execution_count": null,
   "metadata": {
    "collapsed": false
   },
   "outputs": [],
   "source": [
    "calcsee.formatmonth(2016, 5)"
   ]
  },
  {
   "cell_type": "code",
   "execution_count": null,
   "metadata": {
    "collapsed": false
   },
   "outputs": [],
   "source": [
    "arnow = arrow.now()"
   ]
  },
  {
   "cell_type": "code",
   "execution_count": null,
   "metadata": {
    "collapsed": false
   },
   "outputs": [],
   "source": [
    "dayweekz = arnow.weekday()"
   ]
  },
  {
   "cell_type": "code",
   "execution_count": null,
   "metadata": {
    "collapsed": false
   },
   "outputs": [],
   "source": [
    "dayweekz"
   ]
  },
  {
   "cell_type": "code",
   "execution_count": null,
   "metadata": {
    "collapsed": true
   },
   "outputs": [],
   "source": []
  },
  {
   "cell_type": "code",
   "execution_count": null,
   "metadata": {
    "collapsed": false
   },
   "outputs": [],
   "source": [
    "calcsee.getfirstweekday()"
   ]
  },
  {
   "cell_type": "code",
   "execution_count": null,
   "metadata": {
    "collapsed": false
   },
   "outputs": [],
   "source": [
    "calcsee.getfirstweekday()"
   ]
  },
  {
   "cell_type": "code",
   "execution_count": null,
   "metadata": {
    "collapsed": false
   },
   "outputs": [],
   "source": [
    "calcsee.formatmonth('2015', '5')"
   ]
  },
  {
   "cell_type": "code",
   "execution_count": null,
   "metadata": {
    "collapsed": false
   },
   "outputs": [],
   "source": [
    "calcsee.itermonthdates(2016, 5)"
   ]
  },
  {
   "cell_type": "code",
   "execution_count": null,
   "metadata": {
    "collapsed": false
   },
   "outputs": [],
   "source": [
    "calcsee.formatweek"
   ]
  },
  {
   "cell_type": "code",
   "execution_count": null,
   "metadata": {
    "collapsed": false
   },
   "outputs": [],
   "source": [
    "arnow.strftime('%M')"
   ]
  },
  {
   "cell_type": "code",
   "execution_count": null,
   "metadata": {
    "collapsed": false
   },
   "outputs": [],
   "source": [
    "arnow.strftime('%m')"
   ]
  },
  {
   "cell_type": "code",
   "execution_count": null,
   "metadata": {
    "collapsed": false
   },
   "outputs": [],
   "source": [
    "arnow.strftime('%Y %m')"
   ]
  },
  {
   "cell_type": "code",
   "execution_count": null,
   "metadata": {
    "collapsed": true
   },
   "outputs": [],
   "source": []
  },
  {
   "cell_type": "code",
   "execution_count": null,
   "metadata": {
    "collapsed": false
   },
   "outputs": [],
   "source": [
    "yrints = int(arnow.strftime('%Y'))"
   ]
  },
  {
   "cell_type": "code",
   "execution_count": null,
   "metadata": {
    "collapsed": false
   },
   "outputs": [],
   "source": [
    "yrints"
   ]
  },
  {
   "cell_type": "code",
   "execution_count": null,
   "metadata": {
    "collapsed": false
   },
   "outputs": [],
   "source": [
    "mondayfor = int(arnow.strftime('%m'))"
   ]
  },
  {
   "cell_type": "code",
   "execution_count": null,
   "metadata": {
    "collapsed": false
   },
   "outputs": [],
   "source": [
    "mondayfor"
   ]
  },
  {
   "cell_type": "code",
   "execution_count": null,
   "metadata": {
    "collapsed": true
   },
   "outputs": [],
   "source": [
    "daydatye = int(arnow.strftime('%d'))"
   ]
  },
  {
   "cell_type": "code",
   "execution_count": null,
   "metadata": {
    "collapsed": false
   },
   "outputs": [],
   "source": [
    "daydatye"
   ]
  },
  {
   "cell_type": "code",
   "execution_count": null,
   "metadata": {
    "collapsed": true
   },
   "outputs": [],
   "source": []
  },
  {
   "cell_type": "code",
   "execution_count": null,
   "metadata": {
    "collapsed": true
   },
   "outputs": [],
   "source": []
  },
  {
   "cell_type": "code",
   "execution_count": null,
   "metadata": {
    "collapsed": false
   },
   "outputs": [],
   "source": [
    "calcsee.formatday(2016, 1)"
   ]
  },
  {
   "cell_type": "code",
   "execution_count": null,
   "metadata": {
    "collapsed": false
   },
   "outputs": [],
   "source": [
    "calcsee.formatday(mondayfor, daydatye)"
   ]
  },
  {
   "cell_type": "code",
   "execution_count": null,
   "metadata": {
    "collapsed": true
   },
   "outputs": [],
   "source": []
  },
  {
   "cell_type": "code",
   "execution_count": null,
   "metadata": {
    "collapsed": false
   },
   "outputs": [],
   "source": [
    "panread = pandas.read_html(calcsee.formatmonth(yrints, mondayfor))"
   ]
  },
  {
   "cell_type": "code",
   "execution_count": null,
   "metadata": {
    "collapsed": false
   },
   "outputs": [],
   "source": [
    "panread[0]"
   ]
  },
  {
   "cell_type": "code",
   "execution_count": null,
   "metadata": {
    "collapsed": true
   },
   "outputs": [],
   "source": []
  },
  {
   "cell_type": "code",
   "execution_count": null,
   "metadata": {
    "collapsed": true
   },
   "outputs": [],
   "source": []
  },
  {
   "cell_type": "code",
   "execution_count": null,
   "metadata": {
    "collapsed": true
   },
   "outputs": [],
   "source": []
  },
  {
   "cell_type": "code",
   "execution_count": null,
   "metadata": {
    "collapsed": false
   },
   "outputs": [],
   "source": [
    "calcsee.formatmonth(yrints, mondayfor)"
   ]
  },
  {
   "cell_type": "code",
   "execution_count": null,
   "metadata": {
    "collapsed": false
   },
   "outputs": [],
   "source": [
    "calcsee.formatmonth()"
   ]
  },
  {
   "cell_type": "code",
   "execution_count": null,
   "metadata": {
    "collapsed": false
   },
   "outputs": [],
   "source": [
    "calcsee.formatyear(int(yrints))"
   ]
  },
  {
   "cell_type": "code",
   "execution_count": null,
   "metadata": {
    "collapsed": true
   },
   "outputs": [],
   "source": [
    "import os"
   ]
  },
  {
   "cell_type": "code",
   "execution_count": null,
   "metadata": {
    "collapsed": true
   },
   "outputs": [],
   "source": [
    "import random"
   ]
  },
  {
   "cell_type": "code",
   "execution_count": null,
   "metadata": {
    "collapsed": true
   },
   "outputs": [],
   "source": []
  },
  {
   "cell_type": "code",
   "execution_count": null,
   "metadata": {
    "collapsed": false
   },
   "outputs": [],
   "source": [
    "calcday = calcsee.cssclasses"
   ]
  },
  {
   "cell_type": "code",
   "execution_count": null,
   "metadata": {
    "collapsed": false
   },
   "outputs": [],
   "source": [
    "calcday"
   ]
  },
  {
   "cell_type": "code",
   "execution_count": null,
   "metadata": {
    "collapsed": true
   },
   "outputs": [],
   "source": [
    "calcfulday = ['Monday', 'Tuesday', 'Wednesday', 'Thursday', 'Friday', 'Saturday', 'Sunday']"
   ]
  },
  {
   "cell_type": "code",
   "execution_count": null,
   "metadata": {
    "collapsed": false
   },
   "outputs": [],
   "source": [
    "len(calcfulday)"
   ]
  },
  {
   "cell_type": "code",
   "execution_count": null,
   "metadata": {
    "collapsed": true
   },
   "outputs": [],
   "source": []
  },
  {
   "cell_type": "code",
   "execution_count": null,
   "metadata": {
    "collapsed": false
   },
   "outputs": [],
   "source": [
    "random.choice(calcfulday)"
   ]
  },
  {
   "cell_type": "code",
   "execution_count": null,
   "metadata": {
    "collapsed": false
   },
   "outputs": [],
   "source": [
    "dayweekz"
   ]
  },
  {
   "cell_type": "code",
   "execution_count": null,
   "metadata": {
    "collapsed": false
   },
   "outputs": [],
   "source": [
    "calcfulday[dayweekz]"
   ]
  },
  {
   "cell_type": "code",
   "execution_count": null,
   "metadata": {
    "collapsed": true
   },
   "outputs": [],
   "source": []
  },
  {
   "cell_type": "code",
   "execution_count": null,
   "metadata": {
    "collapsed": false
   },
   "outputs": [],
   "source": [
    "print(calcday[dayweekz])"
   ]
  },
  {
   "cell_type": "code",
   "execution_count": null,
   "metadata": {
    "collapsed": false
   },
   "outputs": [],
   "source": [
    "print(calcday[calcfulday])"
   ]
  },
  {
   "cell_type": "code",
   "execution_count": null,
   "metadata": {
    "collapsed": true
   },
   "outputs": [],
   "source": []
  },
  {
   "cell_type": "code",
   "execution_count": null,
   "metadata": {
    "collapsed": true
   },
   "outputs": [],
   "source": []
  },
  {
   "cell_type": "code",
   "execution_count": null,
   "metadata": {
    "collapsed": false
   },
   "outputs": [],
   "source": [
    "random.choice(calcday)"
   ]
  },
  {
   "cell_type": "code",
   "execution_count": null,
   "metadata": {
    "collapsed": true
   },
   "outputs": [],
   "source": []
  },
  {
   "cell_type": "code",
   "execution_count": null,
   "metadata": {
    "collapsed": false
   },
   "outputs": [],
   "source": [
    "calcsee.firstweekday"
   ]
  },
  {
   "cell_type": "code",
   "execution_count": null,
   "metadata": {
    "collapsed": false
   },
   "outputs": [],
   "source": [
    "calcsee.formatday"
   ]
  },
  {
   "cell_type": "code",
   "execution_count": null,
   "metadata": {
    "collapsed": false
   },
   "outputs": [],
   "source": [
    "calcsee.formatmonth"
   ]
  },
  {
   "cell_type": "code",
   "execution_count": null,
   "metadata": {
    "collapsed": false
   },
   "outputs": [],
   "source": [
    "calcsee."
   ]
  },
  {
   "cell_type": "code",
   "execution_count": null,
   "metadata": {
    "collapsed": false
   },
   "outputs": [],
   "source": [
    "passwrdz"
   ]
  },
  {
   "cell_type": "code",
   "execution_count": null,
   "metadata": {
    "collapsed": false
   },
   "outputs": [],
   "source": [
    "f.encrypt"
   ]
  },
  {
   "cell_type": "code",
   "execution_count": null,
   "metadata": {
    "collapsed": false
   },
   "outputs": [],
   "source": [
    "token = f.encrypt(passwrdz)"
   ]
  },
  {
   "cell_type": "code",
   "execution_count": null,
   "metadata": {
    "collapsed": true
   },
   "outputs": [],
   "source": [
    "import hashlib"
   ]
  },
  {
   "cell_type": "code",
   "execution_count": null,
   "metadata": {
    "collapsed": false
   },
   "outputs": [],
   "source": [
    "print(hashlib.algorithms_available)\n",
    "print(hashlib.algorithms_guaranteed)"
   ]
  },
  {
   "cell_type": "code",
   "execution_count": null,
   "metadata": {
    "collapsed": false
   },
   "outputs": [],
   "source": [
    "#mystring = input('Enter String to hash: ')\n",
    "# Assumes the default UTF-8\n",
    "hash_object = hashlib.sha512(passwrdz.encode())\n",
    "print(hash_object.hexdigest())"
   ]
  },
  {
   "cell_type": "code",
   "execution_count": null,
   "metadata": {
    "collapsed": false
   },
   "outputs": [],
   "source": [
    "print(hash_object.name)"
   ]
  },
  {
   "cell_type": "code",
   "execution_count": null,
   "metadata": {
    "collapsed": false
   },
   "outputs": [],
   "source": [
    "print(hash_object.block_size)"
   ]
  },
  {
   "cell_type": "code",
   "execution_count": null,
   "metadata": {
    "collapsed": true
   },
   "outputs": [],
   "source": [
    "import subprocess"
   ]
  },
  {
   "cell_type": "code",
   "execution_count": null,
   "metadata": {
    "collapsed": false
   },
   "outputs": [],
   "source": [
    "tempchec = subprocess.check_output([\"/opt/vc/bin/vcgencmd\", \"measure_temp\"])"
   ]
  },
  {
   "cell_type": "code",
   "execution_count": null,
   "metadata": {
    "collapsed": false
   },
   "outputs": [],
   "source": [
    "print(float(tempchec.split(‘=’)[1][:-3]))"
   ]
  },
  {
   "cell_type": "code",
   "execution_count": null,
   "metadata": {
    "collapsed": false
   },
   "outputs": [],
   "source": [
    "tempchec"
   ]
  },
  {
   "cell_type": "code",
   "execution_count": null,
   "metadata": {
    "collapsed": true
   },
   "outputs": [],
   "source": []
  },
  {
   "cell_type": "code",
   "execution_count": null,
   "metadata": {
    "collapsed": true
   },
   "outputs": [],
   "source": []
  },
  {
   "cell_type": "code",
   "execution_count": null,
   "metadata": {
    "collapsed": true
   },
   "outputs": [],
   "source": []
  },
  {
   "cell_type": "code",
   "execution_count": null,
   "metadata": {
    "collapsed": true
   },
   "outputs": [],
   "source": []
  },
  {
   "cell_type": "code",
   "execution_count": null,
   "metadata": {
    "collapsed": true
   },
   "outputs": [],
   "source": [
    "subprocess.check_output(o)"
   ]
  },
  {
   "cell_type": "code",
   "execution_count": null,
   "metadata": {
    "collapsed": false
   },
   "outputs": [],
   "source": [
    "s = subprocess.check_output([“/opt/vc/bin/vcgencmd”,”measure_temp”])\n",
    "print(float(s.split(‘=’)[1][:-3]))"
   ]
  },
  {
   "cell_type": "code",
   "execution_count": null,
   "metadata": {
    "collapsed": false
   },
   "outputs": [],
   "source": [
    "import socket\n",
    "socket.gethostbyname(socket.gethostname())"
   ]
  },
  {
   "cell_type": "code",
   "execution_count": null,
   "metadata": {
    "collapsed": false
   },
   "outputs": [],
   "source": [
    "socket.gethostname()"
   ]
  },
  {
   "cell_type": "code",
   "execution_count": null,
   "metadata": {
    "collapsed": true
   },
   "outputs": [],
   "source": [
    "import socket\n",
    "\n",
    "s = socket.socket(socket.AF_INET, socket.SOCK_DGRAM)\n",
    "s.connect(('8.8.8.8', 0))  # connecting to a UDP address doesn't send packets\n",
    "local_ip_address = s.getsockname()[0]"
   ]
  },
  {
   "cell_type": "code",
   "execution_count": null,
   "metadata": {
    "collapsed": false
   },
   "outputs": [],
   "source": [
    "local_ip_address"
   ]
  },
  {
   "cell_type": "code",
   "execution_count": null,
   "metadata": {
    "collapsed": false
   },
   "outputs": [],
   "source": [
    "s.getsockname()"
   ]
  },
  {
   "cell_type": "code",
   "execution_count": null,
   "metadata": {
    "collapsed": true
   },
   "outputs": [],
   "source": []
  },
  {
   "cell_type": "code",
   "execution_count": null,
   "metadata": {
    "collapsed": false
   },
   "outputs": [],
   "source": [
    "socket.gethostbyaddr(socket.gethostname())"
   ]
  },
  {
   "cell_type": "code",
   "execution_count": null,
   "metadata": {
    "collapsed": false
   },
   "outputs": [],
   "source": [
    "socket.getnameinfo()"
   ]
  },
  {
   "cell_type": "code",
   "execution_count": null,
   "metadata": {
    "collapsed": false
   },
   "outputs": [],
   "source": [
    "socket.getaddrinfo()"
   ]
  },
  {
   "cell_type": "code",
   "execution_count": null,
   "metadata": {
    "collapsed": false
   },
   "outputs": [],
   "source": [
    "socket.getaddrinfo"
   ]
  },
  {
   "cell_type": "code",
   "execution_count": null,
   "metadata": {
    "collapsed": false
   },
   "outputs": [],
   "source": [
    "subup = subprocess.check_output(['uptime'])"
   ]
  },
  {
   "cell_type": "code",
   "execution_count": null,
   "metadata": {
    "collapsed": false
   },
   "outputs": [],
   "source": [
    "loaspli = subup.split('load average: ')"
   ]
  },
  {
   "cell_type": "code",
   "execution_count": null,
   "metadata": {
    "collapsed": true
   },
   "outputs": [],
   "source": []
  },
  {
   "cell_type": "code",
   "execution_count": null,
   "metadata": {
    "collapsed": false
   },
   "outputs": [],
   "source": [
    "import os\n",
    "import subprocess\n",
    "\n",
    "BAT_PATH = \"/proc/acpi/battery/BAT%d\"\n",
    "\n",
    "\n",
    "def get_full_charge(batt_path):\n",
    "    \"\"\"Get the max capacity of the battery\n",
    "\n",
    "    :param batt_path: The dir path to the battery (acpi) processes\n",
    "    :type batt_path: string\n",
    "    :returns: The max capacity of the battery\n",
    "    :rtype: int\n",
    "    \"\"\"\n",
    "    p1 = subprocess.Popen([\"grep\",\n",
    "                            \"last full capacity\",\n",
    "                            batt_path + \"/info\"],\n",
    "                         stdout=subprocess.PIPE)\n",
    "    p2 = subprocess.Popen([\"awk\",\n",
    "                            \"{print $4}\"],\n",
    "                            stdin=p1.stdout,\n",
    "                            stdout=subprocess.PIPE)\n",
    "    p1.stdout.close()\n",
    "    return int(p2.communicate()[0])\n",
    "\n",
    "\n",
    "def get_current_charge(batt_path):\n",
    "    \"\"\"Get the current capacity of the battery\n",
    "\n",
    "    :param batt_path: The dir path to the battery (acpi) processes\n",
    "    :type batt_path: string\n",
    "    :returns: The current capacity of the battery\n",
    "    :rtype: int\n",
    "    \"\"\"\n",
    "    p1 = subprocess.Popen([\"grep\",\n",
    "                            \"remaining capacity\",\n",
    "                            batt_path + \"/state\"],\n",
    "                         stdout=subprocess.PIPE)\n",
    "    p2 = subprocess.Popen([\"awk\",\n",
    "                            \"{print $3}\"],\n",
    "                            stdin=p1.stdout,\n",
    "                            stdout=subprocess.PIPE)\n",
    "    p1.stdout.close()\n",
    "    return int(p2.communicate()[0])\n",
    "\n",
    "\n",
    "def guess_battery_path():\n",
    "    \"\"\"Gets the path of the battery (BAT0, BAT1...)\n",
    "\n",
    "    :returns: The path to the battery acpi process information\n",
    "    :rtype: string\n",
    "    \"\"\"\n",
    "    i = 0\n",
    "    while True:\n",
    "        if os.path.exists(BAT_PATH % i):\n",
    "            return BAT_PATH % i\n",
    "        i += 1\n",
    "\n",
    "\n",
    "def is_plugged(batt_path):\n",
    "    \"\"\"Returns a flag saying if the battery is plugged in or not\n",
    "\n",
    "    :param batt_path: The dir path to the battery (acpi) processes\n",
    "    :type batt_path: string\n",
    "    :returns: A flag, true is plugged, false unplugged\n",
    "    :rtype: bool\n",
    "    \"\"\"\n",
    "    p = subprocess.Popen([\"grep\",\n",
    "                            \"charging state\",\n",
    "                            batt_path + \"/state\"],\n",
    "                         stdout=subprocess.PIPE)\n",
    "    return \"discharging\" not in p.communicate()[0]\n",
    "\n",
    "\n",
    "def get_battery_percent(batt_path):\n",
    "    \"\"\"Calculates the percent of the battery based on the different data of\n",
    "    the battery processes\n",
    "\n",
    "    :param batt_path: The dir path to the battery (acpi) processes\n",
    "    :type batt_path: string\n",
    "    :returns: The percent translation of the battery total and current capacity\n",
    "    :rtype: int\n",
    "    \"\"\"\n",
    "\n",
    "    return get_current_charge(batt_path) * 100 / get_full_charge(batt_path)\n",
    "\n",
    "\n",
    "def main():\n",
    "    path = guess_battery_path()\n",
    "    print(\"Current battery percent: %d\" % get_battery_percent(path))\n",
    "    print(\"Plugged in\" if is_plugged(path) else \"Not plugged in\")\n",
    "\n",
    "if __name__ == \"__main__\":\n",
    "    main()\n"
   ]
  },
  {
   "cell_type": "code",
   "execution_count": null,
   "metadata": {
    "collapsed": true
   },
   "outputs": [],
   "source": [
    " s = subprocess.check_output([“uptime”])\n",
    "    load_split = s.split(‘load average: ‘)\n",
    "    load_five = float(load_split[1].split(‘,’)[1])\n",
    "    up = load_split[0]\n",
    "    up_pos = up.rfind(‘,’,0,len(up)-4)\n",
    "    up = up[:up_pos].split(‘up ‘)[1]\n",
    "    return ( up , load_five )"
   ]
  },
  {
   "cell_type": "code",
   "execution_count": null,
   "metadata": {
    "collapsed": true
   },
   "outputs": [],
   "source": [
    "import subprocess\n",
    "import os\n",
    "    \n",
    "def get_ram():\n",
    "    “Returns a tuple (total ram, available ram) in megabytes. See www.linuxatemyram.com”\n",
    "    try:\n",
    "        s = subprocess.check_output([“free”,”-m”])\n",
    "        lines = s.split(‘\\n’)\n",
    "        return ( int(lines[1].split()[1]), int(lines[2].split()[3]) )\n",
    "    except:\n",
    "        return 0def get_process_count():\n",
    "        “Returns the number of processes”\n",
    "    try:\n",
    "        s = subprocess.check_output([“ps”,”-e”])\n",
    "        return len(s.split(‘\\n’))\n",
    "    except:\n",
    "        return 0def get_up_stats():\n",
    "    “Returns a tuple (uptime, 5 min load average)”\n",
    "    try:\n",
    "    s = subprocess.check_output([“uptime”])\n",
    "    load_split = s.split(‘load average: ‘)\n",
    "    load_five = float(load_split[1].split(‘,’)[1])\n",
    "    up = load_split[0]\n",
    "    up_pos = up.rfind(‘,’,0,len(up)-4)\n",
    "    up = up[:up_pos].split(‘up ‘)[1]\n",
    "    return ( up , load_five )\n",
    "    except:\n",
    "    return ( ” , 0 )def get_connections():\n",
    "    “Returns the number of network connections”\n",
    "    try:\n",
    "    s = subprocess.check_output([“netstat”,”-tun”])\n",
    "    return len([x for x in s.split() if x == ‘ESTABLISHED’])\n",
    "    except:\n",
    "    return 0def get_temperature():\n",
    "    “Returns the temperature in degrees C”\n",
    "    try:\n",
    "    s = subprocess.check_output([“/opt/vc/bin/vcgencmd”,”measure_temp”])\n",
    "    return float(s.split(‘=’)[1][:-3])\n",
    "    except:\n",
    "    return 0def get_ipaddress():\n",
    "    “Returns the current IP address”\n",
    "    arg=’ip route list’\n",
    "    p=subprocess.Popen(arg,shell=True,stdout=subprocess.PIPE)\n",
    "    data = p.communicate()\n",
    "    split_data = data[0].split()\n",
    "    ipaddr = split_data[split_data.index(‘src’)+1]\n",
    "    return ipaddr\n",
    "\n",
    "    def get_cpu_speed():\n",
    "    “Returns the current CPU speed”\n",
    "    f = os.popen(‘/opt/vc/bin/vcgencmd get_config arm_freq’)\n",
    "    cpu = f.read()\n",
    "    return cpu\n",
    "\n",
    "    print ‘Free RAM: ‘+str(get_ram()[1])+’ (‘+str(get_ram()[0])+’)’\n",
    "    print ‘Nr. of processes: ‘+str(get_process_count())\n",
    "    print ‘Up time: ‘+get_up_stats()[0]\n",
    "    print ‘Nr. of connections: ‘+str(get_connections())\n",
    "    print ‘Temperature in C: ‘ +str(get_temperature())\n",
    "    print ‘IP-address: ‘+get_ipaddress()\n",
    "    print ‘CPU speed: ‘+str(get_cpu_speed())\n",
    "\n"
   ]
  },
  {
   "cell_type": "code",
   "execution_count": null,
   "metadata": {
    "collapsed": false
   },
   "outputs": [],
   "source": [
    "#import ConfigParser\n",
    "\n",
    "config = configparser.RawConfigParser()\n",
    "\n",
    "# When adding sections or items, add them in the reverse order of\n",
    "# how you want them to be displayed in the actual file.\n",
    "# In addition, please note that using RawConfigParser's and the raw\n",
    "# mode of ConfigParser's respective set functions, you can assign\n",
    "# non-string values to keys internally, but will receive an error\n",
    "# when attempting to write to a file or when you get it in non-raw\n",
    "# mode. SafeConfigParser does not allow such assignments to take place.\n",
    "\n",
    "config.add_section('userinfo')\n",
    "config.set('userinfo', 'username', myusr)\n",
    "\n",
    "config.set('userinfo', 'password', (hash_object.hexdigest()))\n",
    "config.add_section('tempsetting')\n",
    "config.set('tempsetting', 'drivertemphigh', sethightemp)\n",
    "config.set('tempsetting', 'drivertemplow', setlowtemp)\n",
    "config.set('tempsetting', 'passtemphigh', sethightemp)\n",
    "config.set('tempsetting', 'passtemplow', setlowtemp)\n",
    "\n",
    "\n",
    "config.add_section('dooropenstatus')\n",
    "\n",
    "#config.set('doorstatus', 'drifronop', )\n",
    "config.set('dooropenstatus', 'driversfront', dfstat)\n",
    "\n",
    "config.set('dooropenstatus', 'passfront', pfstat)\n",
    "\n",
    "config.set('dooropenstatus', 'passrear', prstat)\n",
    "\n",
    "config.set('dooropenstatus', 'driversrear', drstat)\n",
    "\n",
    "config.add_section('doorlockstatus')\n",
    "\n",
    "config.set('doorlockstatus', 'driversfont', opddor)\n",
    "\n",
    "config.set('doorlockstatus', 'passfront', opddor)\n",
    "\n",
    "config.set('doorlockstatus', 'passrear', opddor)\n",
    "\n",
    "config.set('doorlockstatus', 'driverrear', opddor)\n",
    "\n",
    "config.add_section('chargestatus')\n",
    "\n",
    "config.set('chargestatus', 'charging', 'complete')\n",
    "\n",
    "config.set('chargestatus', \"battcurrent\", flsecur)\n",
    "\n",
    "config.set('chargestatus', 'chargvolt', 2.5)\n",
    "\n",
    "config.set('chargestatus', 'timecharge', 60)\n",
    "#config.set('charges')\n",
    "\n",
    "#Set Valet Mode\n",
    "config.add_section('valetmode')\n",
    "\n",
    "config.set('valetmode', 'valeton', valeton)\n",
    "\n",
    "config.set('valetmode', 'timenow', (timnow))\n",
    "\n",
    "config.set('valetmode', 'traveltime', 40)\n",
    "\n",
    "config.set('valetmode', 'dayname', calcfulday[dayweekz])\n",
    "\n",
    "config.set('valetmode', 'timehuman', timnow.humanize())\n",
    "\n",
    "#config.set('templow', 'an_int', setlowtemp)\n",
    "#config.set('drivefront', 'an_int', '3')\n",
    "#config.set('passfront', 'baz', 'fun')\n",
    "#config.set('passback', 'bar', 'Python')\n",
    "#config.set('driveback', 'foo', '%(bar)s is %(baz)s!')\n",
    "\n",
    "# Writing our configuration file to 'example.cfg'\n",
    "with open('tesla.cfg', 'w') as configfile:\n",
    "    config.write(configfile)\n"
   ]
  },
  {
   "cell_type": "code",
   "execution_count": null,
   "metadata": {
    "collapsed": true
   },
   "outputs": [],
   "source": []
  },
  {
   "cell_type": "code",
   "execution_count": null,
   "metadata": {
    "collapsed": false
   },
   "outputs": [],
   "source": [
    "myusr"
   ]
  },
  {
   "cell_type": "code",
   "execution_count": null,
   "metadata": {
    "collapsed": true
   },
   "outputs": [],
   "source": []
  },
  {
   "cell_type": "code",
   "execution_count": null,
   "metadata": {
    "collapsed": true
   },
   "outputs": [],
   "source": []
  },
  {
   "cell_type": "code",
   "execution_count": null,
   "metadata": {
    "collapsed": true
   },
   "outputs": [],
   "source": []
  },
  {
   "cell_type": "code",
   "execution_count": null,
   "metadata": {
    "collapsed": true
   },
   "outputs": [],
   "source": []
  },
  {
   "cell_type": "code",
   "execution_count": null,
   "metadata": {
    "collapsed": true
   },
   "outputs": [],
   "source": []
  },
  {
   "cell_type": "code",
   "execution_count": null,
   "metadata": {
    "collapsed": true
   },
   "outputs": [],
   "source": []
  },
  {
   "cell_type": "code",
   "execution_count": null,
   "metadata": {
    "collapsed": true
   },
   "outputs": [],
   "source": []
  },
  {
   "cell_type": "code",
   "execution_count": null,
   "metadata": {
    "collapsed": true
   },
   "outputs": [],
   "source": []
  },
  {
   "cell_type": "code",
   "execution_count": null,
   "metadata": {
    "collapsed": true
   },
   "outputs": [],
   "source": []
  },
  {
   "cell_type": "code",
   "execution_count": null,
   "metadata": {
    "collapsed": false
   },
   "outputs": [],
   "source": [
    "crea = config.read"
   ]
  },
  {
   "cell_type": "code",
   "execution_count": null,
   "metadata": {
    "collapsed": false
   },
   "outputs": [],
   "source": [
    "with open('tesla.cfg', 'r') as configfile:\n",
    "    print(config.read(configfile))"
   ]
  },
  {
   "cell_type": "code",
   "execution_count": null,
   "metadata": {
    "collapsed": false
   },
   "outputs": [],
   "source": [
    "temphi = 32\n",
    "templo = 17\n",
    "\n",
    "tempstr = (\"{'temphi' :  \" + str(temphi) + '}')"
   ]
  },
  {
   "cell_type": "code",
   "execution_count": null,
   "metadata": {
    "collapsed": true
   },
   "outputs": [],
   "source": [
    "templow = (\"{'templow' :  \" + str(templo) + '}')"
   ]
  },
  {
   "cell_type": "code",
   "execution_count": null,
   "metadata": {
    "collapsed": false
   },
   "outputs": [],
   "source": [
    "templow"
   ]
  },
  {
   "cell_type": "markdown",
   "metadata": {
    "collapsed": false
   },
   "source": [
    "\n",
    "{\n",
    "  \"response\": {\n",
    "    \"gui_distance_units\": \"mi/hr\",\n",
    "    \"gui_temperature_units\": \"F\",\n",
    "    \"gui_charge_rate_units\": \"mi/hr\",\n",
    "    \"gui_24_hour_time\": false,\n",
    "    \"gui_range_display\": \"Rated\"\n",
    "  }\n",
    "}tempstr"
   ]
  },
  {
   "cell_type": "markdown",
   "metadata": {
    "collapsed": false
   },
   "source": [
    "\n",
    "\n",
    "{ \"response\": { \"charging_state\": \"Complete\", // \"Charging\", ?? \"charge_to_max_range\": false, // current std/max-range setting \"max_range_charge_counter\": 0, \"fast_charger_present\": false, // connected to Supercharger? \"battery_range\": 239.02, // rated miles \"est_battery_range\": 155.79, // range estimated from recent driving \"ideal_battery_range\": 275.09, // ideal miles \"battery_level\": 91, // integer charge percentage \"battery_current\": -0.6, // current flowing into battery \"charge_starting_range\": null, \"charge_starting_soc\": null, \"charger_voltage\": 0, // only has value while charging \"charger_pilot_current\": 40, // max current allowed by charger & adapter \"charger_actual_current\": 0, // current actually being drawn \"charger_power\": 0, // kW (rounded down) of charger \"time_to_full_charge\": null, // valid only while charging \"charge_rate\": -1.0, // float mi/hr charging or -1 if not charging \"charge_port_door_open\": true } }"
   ]
  },
  {
   "cell_type": "markdown",
   "metadata": {
    "collapsed": true
   },
   "source": [
    "https://owner-api.teslamotors.com/api/1/vehicles/1/command/set_temps?driver_temp=23.7&passenger_temp=18.1\n",
    "    \n",
    "Returns the current temperature and climate control state.\n",
    "\n",
    "var TEMP_HI = 32;\n",
    "var TEMP_LO = 17;\n",
    "function set_temperature( params, cb ) {\n",
    "    var dtemp = params.dtemp;\n",
    "    var ptemp = params.ptemp;\n",
    "    var vid = params.id;\n",
    "    var error = false;\n",
    "    \n",
    "    //var temp_str = \"\";\n",
    "    if ( dtemp !== undefined && dtemp <= TEMP_HI && dtemp >= TEMP_LO) {\n",
    "        //temp_str = 'driver_temp=' + dtemp; // change from string to JSON form data\n",
    "    } else {\n",
    "        error = true;\n",
    "    }\n",
    "    // if no passenger temp is passed, the driver temp is also used as the passenger temp\n",
    "    if ( ptemp !== undefined && ptemp <= TEMP_HI && ptemp >= TEMP_LO) {\n",
    "        //temp_str = temp_str +'&passenger_temp=' + ptemp; // change from string to JSON form data\n",
    "    } else if ( ptemp === undefined ) {\n",
    "        ptemp = dtemp;\n",
    "    } else {\n",
    "        error = true;\n",
    "    }\n",
    "    if (!error) {\n",
    "        request( {\n",
    "            method: 'POST',\n",
    "            url: portal + '/vehicles/' + vid + '/command/set_temps',\n",
    "            gzip: true,\n",
    "            headers: http_header,\n",
    "            form: {\n",
    "                \"driver_temp\" : dtemp.toString(),\n",
    "                \"passenger_temp\" : ptemp.toString(),\n",
    "            }\n",
    "        }, function (error, response, body) { \n",
    "            if ((!!error) || (response.statusCode !== 200)) return report(error, response, body, cb);\n",
    "            try {\n",
    "                var data = JSON.parse(body); \n",
    "                if (typeof cb == 'function') return cb( data.response );  \n",
    "                else return true;\n",
    "            } catch (err) {\n",
    "                return report2('set_temps', body, cb);\n",
    "            }\n",
    "        });\n",
    "    } else {\n",
    "        if (typeof cb == 'function') return cb( new Error('Invalid temperature setting (' + dtemp + 'C), Passenger (' + ptemp + 'C)'));  \n",
    "        else return false;\n",
    "    }\n",
    "\n",
    "}\n",
    "exports.set_temperature = set_temperature;\n",
    "exports.TEMP_HI = TEMP_HI;\n",
    "exports.TEMP_LO = TEMP_LO;\n",
    "\n",
    "{\n",
    "  \"response\": {\n",
    "    \"df\": false,                  // driver's side front door open\n",
    "    \"dr\": false,                  // driver's side rear door open\n",
    "    \"pf\": false,                  // passenger's side front door open\n",
    "    \"pr\": false,                  // passenger's side rear door open\n",
    "    \"ft\": false,                  // front trunk is open\n",
    "    \"rt\": false,                  // rear trunk is open\n",
    "    \"car_verson\": \"1.19.42\",      // car firmware version\n",
    "    \"locked\": true,               // car is locked\n",
    "    \"sun_roof_installed\": false,  // panoramic roof is installed\n",
    "    \"sun_roof_state\": \"unknown\",\n",
    "    \"sun_roof_percent_open\": 0,   // null if not installed\n",
    "    \"dark_rims\": false,           // gray rims installed\n",
    "    \"wheel_type\": \"Base19\",       // wheel type installed\n",
    "    \"has_spoiler\": false,         // spoiler is installed\n",
    "    \"roof_color\": \"Colored\",      // \"None\" for panoramic roof\n",
    "    \"perf_config\": \"Base\"\n",
    "  }\n",
    "}\n",
    "\n",
    "{\n",
    "  \"response\": {\n",
    "    \"charging_state\": \"Complete\",  // \"Charging\", ??\n",
    "    \"charge_to_max_range\": false,  // current std/max-range setting\n",
    "    \"max_range_charge_counter\": 0,\n",
    "    \"fast_charger_present\": false, // connected to Supercharger?\n",
    "    \"battery_range\": 239.02,       // rated miles\n",
    "    \"est_battery_range\": 155.79,   // range estimated from recent driving\n",
    "    \"ideal_battery_range\": 275.09, // ideal miles\n",
    "    \"battery_level\": 91,           // integer charge percentage\n",
    "    \"battery_current\": -0.6,       // current flowing into battery\n",
    "    \"charge_starting_range\": null,\n",
    "    \"charge_starting_soc\": null,\n",
    "    \"charger_voltage\": 0,          // only has value while charging\n",
    "    \"charger_pilot_current\": 40,   // max current allowed by charger & adapter\n",
    "    \"charger_actual_current\": 0,   // current actually being drawn\n",
    "    \"charger_power\": 0,            // kW (rounded down) of charger\n",
    "    \"time_to_full_charge\": null,   // valid only while charging\n",
    "    \"charge_rate\": -1.0,           // float mi/hr charging or -1 if not charging\n",
    "    \"charge_port_door_open\": true\n",
    "  }\n",
    "}\n",
    "\n",
    "More car info\n",
    "\n",
    "What music is being played.\n",
    "\n",
    "Is my car unlocked? Unlock when device within certain distance.\n",
    "\n",
    "Checks that all the doors are shut\n",
    "\n",
    "https://owner-api.teslamotors.com/api/1/vehicles/vehicle_id/command/door_unlock\n",
    "\n",
    "https://owner-api.teslamotors.com/api/1/vehicles/vehicle_id/command/door_lock"
   ]
  },
  {
   "cell_type": "code",
   "execution_count": null,
   "metadata": {
    "collapsed": true
   },
   "outputs": [],
   "source": []
  },
  {
   "cell_type": "code",
   "execution_count": null,
   "metadata": {
    "collapsed": true
   },
   "outputs": [],
   "source": []
  },
  {
   "cell_type": "code",
   "execution_count": null,
   "metadata": {
    "collapsed": true
   },
   "outputs": [],
   "source": []
  },
  {
   "cell_type": "code",
   "execution_count": null,
   "metadata": {
    "collapsed": false
   },
   "outputs": [],
   "source": [
    "for doorq in doorquen:\n",
    "    if doorq == True:\n",
    "        print('Warning Door Open')"
   ]
  },
  {
   "cell_type": "code",
   "execution_count": null,
   "metadata": {
    "collapsed": false
   },
   "outputs": [],
   "source": [
    "for doorq in doorquen:\n",
    "    #print(doorq)\n",
    "    if doorq == False:\n",
    "        #for inz in range():\n",
    "        print('Warning Door Close')"
   ]
  },
  {
   "cell_type": "code",
   "execution_count": null,
   "metadata": {
    "collapsed": true
   },
   "outputs": [],
   "source": []
  },
  {
   "cell_type": "code",
   "execution_count": null,
   "metadata": {
    "collapsed": false
   },
   "outputs": [],
   "source": [
    "mydict['response']['dr']"
   ]
  },
  {
   "cell_type": "code",
   "execution_count": null,
   "metadata": {
    "collapsed": false
   },
   "outputs": [],
   "source": [
    "mydict['response']['pf']"
   ]
  },
  {
   "cell_type": "code",
   "execution_count": null,
   "metadata": {
    "collapsed": false
   },
   "outputs": [],
   "source": [
    "mydict['response']['pr']"
   ]
  },
  {
   "cell_type": "code",
   "execution_count": null,
   "metadata": {
    "collapsed": false
   },
   "outputs": [],
   "source": [
    "if True in "
   ]
  },
  {
   "cell_type": "code",
   "execution_count": null,
   "metadata": {
    "collapsed": false
   },
   "outputs": [],
   "source": [
    "def testdoorlock():\n",
    "    assert mydict['response']['locked'] == 'True'\n",
    "    \n",
    "def testdoorunlock():\n",
    "    assert mydict['response']['locked'] == 'False'\n"
   ]
  },
  {
   "cell_type": "code",
   "execution_count": null,
   "metadata": {
    "collapsed": false
   },
   "outputs": [],
   "source": []
  },
  {
   "cell_type": "code",
   "execution_count": null,
   "metadata": {
    "collapsed": false
   },
   "outputs": [],
   "source": [
    "mydict['response']['locked']"
   ]
  },
  {
   "cell_type": "code",
   "execution_count": null,
   "metadata": {
    "collapsed": false
   },
   "outputs": [],
   "source": [
    "mydict['response']['df']"
   ]
  },
  {
   "cell_type": "code",
   "execution_count": null,
   "metadata": {
    "collapsed": true
   },
   "outputs": [],
   "source": []
  },
  {
   "cell_type": "code",
   "execution_count": null,
   "metadata": {
    "collapsed": false
   },
   "outputs": [],
   "source": [
    "mydict['response']['dr']"
   ]
  },
  {
   "cell_type": "code",
   "execution_count": null,
   "metadata": {
    "collapsed": false
   },
   "outputs": [],
   "source": [
    "mydict['response']['pf']"
   ]
  },
  {
   "cell_type": "code",
   "execution_count": null,
   "metadata": {
    "collapsed": false
   },
   "outputs": [],
   "source": [
    "mydict['response']['pr']"
   ]
  },
  {
   "cell_type": "code",
   "execution_count": null,
   "metadata": {
    "collapsed": true
   },
   "outputs": [],
   "source": [
    "vechj = open('/home/wcm/git/vech.json', 'r')"
   ]
  },
  {
   "cell_type": "code",
   "execution_count": null,
   "metadata": {
    "collapsed": true
   },
   "outputs": [],
   "source": [
    "rdvechj = vechj.read()"
   ]
  },
  {
   "cell_type": "code",
   "execution_count": null,
   "metadata": {
    "collapsed": false
   },
   "outputs": [],
   "source": [
    "rdvechj"
   ]
  },
  {
   "cell_type": "code",
   "execution_count": null,
   "metadata": {
    "collapsed": false
   },
   "outputs": [],
   "source": [
    "json.loads(rdvechj)"
   ]
  },
  {
   "cell_type": "code",
   "execution_count": null,
   "metadata": {
    "collapsed": false
   },
   "outputs": [],
   "source": [
    "myusr = getpass.getuser()"
   ]
  },
  {
   "cell_type": "code",
   "execution_count": null,
   "metadata": {
    "collapsed": true
   },
   "outputs": [],
   "source": []
  },
  {
   "cell_type": "code",
   "execution_count": null,
   "metadata": {
    "collapsed": true
   },
   "outputs": [],
   "source": []
  },
  {
   "cell_type": "code",
   "execution_count": null,
   "metadata": {
    "collapsed": true
   },
   "outputs": [],
   "source": []
  }
 ],
 "metadata": {
  "kernelspec": {
   "display_name": "Python 3",
   "language": "python",
   "name": "python3"
  }
 },
 "nbformat": 4,
 "nbformat_minor": 0
}
