{
 "metadata": {
  "name": "",
  "signature": "sha256:26d51b42213c32a12f76ca857fd333bdc36105aafd3611fb558102abc4a99fa6"
 },
 "nbformat": 3,
 "nbformat_minor": 0,
 "worksheets": [
  {
   "cells": [
    {
     "cell_type": "markdown",
     "metadata": {},
     "source": [
      "Visitor Sign System\n",
      "\n",
      "This script was created as an altenative to a printed spreadsheet that you use a physical pen to write - date, name, reason, time in, time out. \n",
      "There is a comment book that this could be used to replace also. \n",
      "Currently people write comments in pen on lined refil. Comments \n",
      "The script is basic. It saves the time, date, name, reason, and added in comments as an html page and json object. Archieve of past logins are saved.\n",
      "It is split into two scripts. The first wain or whaxlu is used for the login. \n",
      "The second script is whaiout which is the logout script. It takes the output of wain or whaxlu and appends logout data - time, date, and comment."
     ]
    },
    {
     "cell_type": "markdown",
     "metadata": {},
     "source": [
      "Currently I use the script to sign in and out at a early learning centre that I am employed to work 2 hours a day, 5 days a week. \n",
      "It could be applied in any area where you want to keep a record of time, comments, \n",
      "\n",
      "Similarity to twitter. \n",
      "\n",
      "Avatars\n",
      "\n",
      "Mention, taging, hashtags\n",
      "\n",
      "There is often a line around the sign in/out book.\n",
      "\n",
      "Generates summery\n",
      "\n"
     ]
    },
    {
     "cell_type": "markdown",
     "metadata": {},
     "source": [
      "The site was live. It was running on a simple python web server but it worked. The script was exacuted by the Raspberry Pi B+ computer running Debian. Red pixels appeared on the screen, or #543243 if you want to be fussy. \n",
      "Luck had nothing to do with it. Testing was the key.\n",
      "\n",
      "The text had rendered. \n",
      "\n",
      "1. Alfred Bunnings\n",
      "2. 09:00\n",
      "3. 01/Nov/2014\n",
      "4. InfoSec\n",
      "5. everything seems fine\n",
      "\n",
      "Charlie MacDonald sat at his desk steering at the monitor. \n",
      "'Alfred Bunnings, who is this guy?', he thought to himself. 'Jones, get over here and check this for me', Charlie yelled out to his Assistent.\n",
      "'Coming Sir!', a voice sharply replied. \n",
      "Into Charlies office walked Jones. Tall, 6 foot 3. Dark Brown hair, curly and down to his shoulders. On this day his hair was tied up, usually he left it down but today was special.\n",
      "'What's up sir', Jones asked, squinting at the monitor. \n",
      "'Take a look for yourself', replied Charlie as he stood up. \n",
      "Jones took a seat at Charlies computer station. Charlie paced up and down his office.\n",
      "'Sir, I've seen nothing like this before. What the hell is going on?', Jones asked Charlie.\n",
      "Standing still Charlie spoke:\n",
      "'It's a god damn nightmare that is, this Alfred character has breached the networks. We need to find them.'\n",
      "\n",
      "Alfred sat on the bus. The same seat he had every day. The bus was old, 50 years old and rust was pealing rom the rail. At least the button still works. He was on his way to visit an old friend, he hasn't seen in five years. Normally lfred drives his car but today was different. He felt like relaxing on the buss.\n",
      "His Dell laptop sat on his lap. The desktop enviorment was KDE, running Debian. He dudn't have much running. Two web browser windows, a terminal, and Pithos. On the left split was his IPython Notebook (running locallly), on the right split documation web page that he is following. The terminal window was behind the web page window. A TMUX session was running. The was split into three windows.  Inside the sessoion was The IPython Notebook Kernal running on port 80. One the second window - Motion. This is used to capture save mpeg files from the Dell laptop camera. \n",
      "\n",
      "The Streets were playing on Pithos. Stay Positive. Pithos is a desktop client for Pandora Radio.\n",
      "\n",
      "SPIKE INFOSEC\n",
      "\n",
      "The banner read. Alfred stood looking up above him. The skyscraper went on for miles. Squinting he could see the peak.\n",
      "\n",
      "Today he was here for a job interview. Two days ago he had been sent a message that a position had came up and the company was interested in hiring him. \n",
      "\n",
      "The automate doors opened as he approched them. Inside stood three security guards and a metal detotor. \n",
      "'Name and reason/person visit', one of the guards asked him. \n",
      "'Alfred Bunnings, I'm here for a job interview with Janet Pears'.\n",
      "The guard typed characters into the computer.\n",
      "'Alright, that seems fine sir', the guard replied'. 'Please make your way down the hall and take the second right on your left'.\n",
      "'Thank you', Afred said as he begain walking down the hallway. \n",
      "\n",
      "Everything was white. The ground, ceiling and floor. He passed the first turn off on the left and kept walking. He reached the second turn and turned left. \n",
      "\n",
      "The colour scheme changed, colours filled the walls. Character and Landscapes scatted the walls. It was painted with a dark naples yellow, red, and a light blue. The backgrounds were blue and the characters and foreground landscapes were yellow and red. \n",
      "\n",
      "Alfred admired the walls as he contined walking down the hallway. At the end of the hallway was a foylor with several desks setup with computers. A woman sat at the further one typing. \n",
      "She looked up and smiled at Alfred.\n",
      "'You must be Alfred', she exampled. \n",
      "Alfred approched her desk and held out he hand to shake it.\n",
      "'I'm Janet', she said - shaking his hand. 'Take a seat Alfred'. \n",
      "\n",
      "\n",
      "\n",
      "\n",
      "\n",
      "\n",
      "\n",
      "\n",
      "\n",
      "\n",
      "                                                                                                                                                                                                                                                                                                                                                                                                                                                                                                                                                      "
     ]
    },
    {
     "cell_type": "markdown",
     "metadata": {},
     "source": []
    },
    {
     "cell_type": "markdown",
     "metadata": {},
     "source": [
      "TODO\n",
      "\n",
      "html page of page 100 logins/logouts - append all json as one html\n",
      "\n",
      "graph of weekly/day hours and how they change.\n",
      "\n",
      "work out time between login and logout.\n",
      "\n",
      "question that you comment on that includes the sketch daily reddit gets drawn. \n",
      "\n",
      "fake name encription for kids/everyone?\n",
      "Take a name and turn into into a new name, run a script again to turn it back\n",
      "\n",
      "records time when child eats/drinks\n",
      "\n",
      "Sig for parents when signing in/out kids\n",
      "\n",
      "txt/email alerts to parents on changes to kids signin/out\n",
      "\n",
      "If someone doesnt signin/signout before certain time - alert\n",
      "\n",
      "import pandas. Need to free up space on raspberry pi\n",
      "\n",
      "Filter - new/popular comments, people, signins, signouts,  \n",
      "\n",
      "Date 01 November 2014\n",
      "\n",
      "0000\n",
      "\n",
      "Daily Rosted/Working chart. \n",
      "Spread sheet - names colum, time rows.\n",
      "\n",
      "example:\n",
      "     | Dino1 | Dino2 | Dino3 |\n",
      "\n",
      "0700 | signin + comment!\n",
      "\n",
      "0701 | signout + comment!\n",
      "\n",
      "so on..\n",
      "\n",
      "Live updates of the floor. \n",
      "Inside, Outside, Inside Float, Outside Float, General Float.\n",
      "Tagging. Tag people for breaks. \n",
      "eg - you are busy with a project, but need a break/lunch. Someone tags you and takes over at area. You go for break/lunch. When you return, tag back and carry on.\n",
      "The person that was just taged back moves onto the next person to tag for break/lunch.\n",
      "This person cycles through a group of people.\n",
      "\n",
      "Live updates of child location.\n",
      "gps info of each area of centre and count how many children are there. \n",
      "\n",
      "Panic Button. Signal to call for assistence, part-tag, allow for image/sound record. \n",
      "\n"
     ]
    },
    {
     "cell_type": "code",
     "collapsed": false,
     "input": [
      "valname = ('lasnam', 'signin', 'usercom', 'dayr', 'htmn')"
     ],
     "language": "python",
     "metadata": {},
     "outputs": [],
     "prompt_number": 23
    },
    {
     "cell_type": "code",
     "collapsed": false,
     "input": [],
     "language": "python",
     "metadata": {},
     "outputs": []
    },
    {
     "cell_type": "code",
     "collapsed": false,
     "input": [
      "for itzval in valname:\n",
      "    print itzval"
     ],
     "language": "python",
     "metadata": {},
     "outputs": [
      {
       "output_type": "stream",
       "stream": "stdout",
       "text": [
        "lasnam\n",
        "signin\n",
        "usercom\n",
        "dayr\n",
        "htmn\n"
       ]
      }
     ],
     "prompt_number": 25
    },
    {
     "cell_type": "markdown",
     "metadata": {},
     "source": [
      "This function creates a dict, another updates it. \n",
      "Function is working to create it but update is coming back with error.\n",
      "\n",
      "How do I refer to the created dict as the one to update?"
     ]
    },
    {
     "cell_type": "code",
     "collapsed": false,
     "input": [
      "def dictcreate(keyval, firnam):\n",
      "    return dict({keyval: firnam})\n",
      "\n",
      "def updatedict(keyvalz, othnam):\n",
      "    return dictcreate.update({keyvalz: othnam})"
     ],
     "language": "python",
     "metadata": {},
     "outputs": [],
     "prompt_number": 42
    },
    {
     "cell_type": "code",
     "collapsed": false,
     "input": [
      "dictcreate('name', 'wcm')\n",
      "#updatedict()"
     ],
     "language": "python",
     "metadata": {},
     "outputs": [
      {
       "metadata": {},
       "output_type": "pyout",
       "prompt_number": 43,
       "text": [
        "{'name': 'wcm'}"
       ]
      }
     ],
     "prompt_number": 43
    },
    {
     "cell_type": "code",
     "collapsed": false,
     "input": [
      "updatedict('checking', 'this works')"
     ],
     "language": "python",
     "metadata": {},
     "outputs": [
      {
       "ename": "AttributeError",
       "evalue": "'function' object has no attribute 'update'",
       "output_type": "pyerr",
       "traceback": [
        "\u001b[1;31m---------------------------------------------------------------------------\u001b[0m\n\u001b[1;31mAttributeError\u001b[0m                            Traceback (most recent call last)",
        "\u001b[1;32m<ipython-input-44-0ba9826db05a>\u001b[0m in \u001b[0;36m<module>\u001b[1;34m()\u001b[0m\n\u001b[1;32m----> 1\u001b[1;33m \u001b[0mupdatedict\u001b[0m\u001b[1;33m(\u001b[0m\u001b[1;34m'checking'\u001b[0m\u001b[1;33m,\u001b[0m \u001b[1;34m'this works'\u001b[0m\u001b[1;33m)\u001b[0m\u001b[1;33m\u001b[0m\u001b[0m\n\u001b[0m",
        "\u001b[1;32m<ipython-input-42-7446d7aca857>\u001b[0m in \u001b[0;36mupdatedict\u001b[1;34m(keyvalz, othnam)\u001b[0m\n\u001b[0;32m      3\u001b[0m \u001b[1;33m\u001b[0m\u001b[0m\n\u001b[0;32m      4\u001b[0m \u001b[1;32mdef\u001b[0m \u001b[0mupdatedict\u001b[0m\u001b[1;33m(\u001b[0m\u001b[0mkeyvalz\u001b[0m\u001b[1;33m,\u001b[0m \u001b[0mothnam\u001b[0m\u001b[1;33m)\u001b[0m\u001b[1;33m:\u001b[0m\u001b[1;33m\u001b[0m\u001b[0m\n\u001b[1;32m----> 5\u001b[1;33m     \u001b[1;32mreturn\u001b[0m \u001b[0mdictcreate\u001b[0m\u001b[1;33m.\u001b[0m\u001b[0mupdate\u001b[0m\u001b[1;33m(\u001b[0m\u001b[1;33m{\u001b[0m\u001b[0mkeyvalz\u001b[0m\u001b[1;33m:\u001b[0m \u001b[0mothnam\u001b[0m\u001b[1;33m}\u001b[0m\u001b[1;33m)\u001b[0m\u001b[1;33m\u001b[0m\u001b[0m\n\u001b[0m",
        "\u001b[1;31mAttributeError\u001b[0m: 'function' object has no attribute 'update'"
       ]
      }
     ],
     "prompt_number": 44
    },
    {
     "cell_type": "code",
     "collapsed": false,
     "input": [
      "for itz in updatedict():\n",
      "    print itz"
     ],
     "language": "python",
     "metadata": {},
     "outputs": [
      {
       "output_type": "stream",
       "stream": "stdout",
       "text": [
        "l\n",
        "a\n",
        "s\n",
        "n\n",
        "a\n",
        "m\n"
       ]
      }
     ],
     "prompt_number": 30
    },
    {
     "cell_type": "code",
     "collapsed": false,
     "input": [
      "# -*- coding: utf-8 -*-\n",
      "# <nbformat>3.0</nbformat>\n",
      "\n",
      "# <markdowncell>\n",
      "\n",
      "# <h2>visitor sign system</h2>\n",
      "# \n",
      "# This is a python script used to sign in and signout, keeping track of hours and creating a more automative system.\n",
      "# \n",
      "# Make sign in and out faster, easier to keep track of.\n",
      "# \n",
      "# Never forget. \n",
      "# \n",
      "# Auto roll check. \n",
      "# \n",
      "# Two random hex codes for security and correct checking. Made use of tthese by using one as file name when saving.\n",
      "# \n",
      "# Creates xls file with data, also uses sqlalchemy for databases, web server, html page: \n",
      "# input (or auto) name, reason, auto day/month/year hr/min - of signin.\n",
      "# \n",
      "# when launched asked if you want to signin or signout. \n",
      "# \n",
      "# how i want this to run for william:\n",
      "# \n",
      "# william arrives into whai. On his phone he runs the signin script. On signing out for the day the script is run onto final part, signout. asks for comment first then records time, and date. \n",
      "# \n",
      "# comment system. leave comment for staff, parent, tag staff, area, story, parent, child.\n",
      "# \n",
      "# signout - enter code of session you want to signout. \n",
      "# \n",
      "# Screw the excel file, im just dealing with index page. i am saving achieve in posts folder under urandom 13 character code. \n",
      "\n",
      "# <codecell>\n",
      "\n",
      "import os\n",
      "import time\n",
      "import dominate\n",
      "import sys\n",
      "from dominate.tags import *\n",
      "import json\n",
      "\n",
      "lasnam = raw_input('Last Name: ')\n",
      "firnam = raw_input('First Name: ')\n",
      "dopz = raw_input('dob: ')\n",
      "mname = ('William Mckee')\n",
      "ename = raw_input('Email: ')\n",
      "signin = raw_input('Reason: ')\n",
      "\n",
      "numroll = []\n",
      "\n",
      "# <codecell>\n",
      "\n",
      "for det in range(6):\n",
      "    #print det\n",
      "    numroll.append(det)\n",
      "\n",
      "usecom = raw_input('Comments: ')\n",
      "\n",
      "\n",
      "\n",
      "betdict = {'first': firnam}\n",
      "\n",
      "# <codecell>\n",
      "\n",
      "dayr = time.strftime(\"%d\" + \"-\" + \"%b\" + \"-\" + \"%Y\")\n",
      "hrmn = time.strftime(\"%H:%M:%S\")\n",
      "\n",
      "# <codecell>\n",
      "\n",
      "betdict.update({'lastname': lasnam})\n",
      "betdict.update({'reason': signin})\n",
      "betdict.update({'signin-comment': usecom})\n",
      "betdict.update({'signin-date': dayr})\n",
      "betdict.update({'signin-hrmin': hrmn})\n",
      "\n",
      "# <codecell>\n",
      "\n",
      "betjsn = json.dumps(betdict)\n",
      "\n",
      "# <codecell>\n",
      "\n",
      "betjsn\n",
      "\n",
      "\n",
      "doc = dominate.document(title='Visitor Sign Sheet')\n",
      "\n",
      "with doc.head:\n",
      "    link(rel='stylesheet', href='style.css')\n",
      "    script(type='text/javascript', src='script.js')\n",
      "\n",
      "with doc:\n",
      "    with div(id='header').add(ol()):\n",
      "        h1('Visitor Sign Sheet')\n",
      "        for i in betdict.values():\n",
      "            li(a(i))\n",
      "\n",
      "    with div():\n",
      "        attr(cls='body')\n",
      "        p('last updated: ' + time.strftime(\"%H:%M\"))\n",
      "        p('Visitor Sign Sheet is open source')\n",
      "        a('http://github.com/wcmckee/wcmckee', href='https://github.com/wcmckee/wcmckee')\n",
      "\n",
      "#print doc\n",
      "\n",
      "# <codecell>\n",
      "\n",
      "savindex = open('/home/wcmckee/visignsys/index.html', 'w')\n",
      "\n",
      "# <codecell>\n",
      "\n",
      "savindex.write(str(doc))\n",
      "savindex.close()\n",
      "\n",
      "# <codecell>\n",
      "ixran = os.urandom(16)\n",
      "ixtwe = ixran[0:16]\n",
      "\n",
      "# <codecell>\n",
      "\n",
      "savpos = open('/home/wcmckee/visignsys/posts/' + ixtwe + '.html', 'w')\n",
      "savpos.write(str(doc))\n",
      "savpos.close()\n",
      "\n",
      "# <codecell>\n",
      "\n",
      "savpos = open('/home/wcmckee/visignsys/posts/' + ixtwe + '.json', 'w')\n",
      "savpos.write(str(betjsn))\n",
      "savpos.close()\n",
      "\n",
      "# <codecell>\n",
      "\n",
      "#savpos = open('/home/wcmckee/visignsys/index.meta', 'w')\n",
      "#savpos.write(str(wsdict.keys()))\n",
      "#savpos.close()\n",
      "\n",
      "# <codecell>\n",
      "\n",
      "savpos = open('/home/wcmckee/visignsys/index.json', 'a')\n",
      "savpos.write(str(betjsn))\n",
      "savpos.close()\n",
      "\n",
      "print ('sign in complete')\n"
     ],
     "language": "python",
     "metadata": {},
     "outputs": [
      {
       "name": "stdout",
       "output_type": "stream",
       "stream": "stdout",
       "text": [
        "Last Name: mckee\n"
       ]
      },
      {
       "name": "stdout",
       "output_type": "stream",
       "stream": "stdout",
       "text": [
        "First Name: william\n"
       ]
      },
      {
       "name": "stdout",
       "output_type": "stream",
       "stream": "stdout",
       "text": [
        "dob: 04121988\n"
       ]
      },
      {
       "name": "stdout",
       "output_type": "stream",
       "stream": "stdout",
       "text": [
        "Email: will@artcontrol.me\n"
       ]
      },
      {
       "name": "stdout",
       "output_type": "stream",
       "stream": "stdout",
       "text": [
        "Reason: esw\n"
       ]
      },
      {
       "name": "stdout",
       "output_type": "stream",
       "stream": "stdout",
       "text": [
        "Comments: its a nice day\n"
       ]
      },
      {
       "output_type": "stream",
       "stream": "stdout",
       "text": [
        "sign in complete\n"
       ]
      }
     ],
     "prompt_number": 1
    },
    {
     "cell_type": "code",
     "collapsed": false,
     "input": [
      "cat index.json"
     ],
     "language": "python",
     "metadata": {},
     "outputs": [
      {
       "output_type": "stream",
       "stream": "stdout",
       "text": [
        "{\"signin-date\": \"31-Oct-2014\", \"reason\": \"eswz\", \"firstname\": \"william\", \"signin-hrmin\": \"07:46:56\", \"lastname\": \"mckee\", \"signin-comment\": \"today is going to be awesome\"}{\"signin-date\": \"31-Oct-2014\", \"reason\": \"esw\", \"firstname\": \"William\", \"signin-hrmin\": \"07:49:46\", \"lastname\": \"Mckee\", \"signin-comment\": \"today will be great\"}{\"signin-date\": \"31-Oct-2014\", \"reason\": \"esw\", \"firstname\": \"will\", \"signin-hrmin\": \"08:41:29\", \"lastname\": \"mckee\", \"signin-comment\": \"omg im in guys\"}{\"firstname\": \"this\", \"signin-comment \": \"comp123\", \"lastname \": \"does\", \"reason \": \"rsw\", \"signin-hrmin \": \"08:43:29\", \"signin-date \": \"31-Oct-2014\"}{\"signin-date\": \"31-Oct-2014\", \"reason\": \"omg esw\", \"signin-hrmin\": \"08:45:49\", \"lastname\": \"mckee\", \"signin-comment\": \"this was awesome\", \"first\": \"william\"}{\"signin-date\": \"31-Oct-2014\", \"reason\": \"omg testz\", \"signin-hrmin\": \"08:47:36\", \"lastname\": \"mckee\", \"signin-comment\": \"this is not a test!\", \"first\": \"will\"}{\"signin-date\": \"02-Nov-2014\", \"reason\": \"esw\", \"signin-hrmin\": \"07:30:38\", \"lastname\": \"mckee\", \"signin-comment\": \"its a nice day\", \"first\": \"william\"}"
       ]
      }
     ],
     "prompt_number": 7
    },
    {
     "cell_type": "code",
     "collapsed": false,
     "input": [
      "opind = open('/home/wcmckee/visignsys/index.json', 'r')\n",
      "opred = opind.read()"
     ],
     "language": "python",
     "metadata": {},
     "outputs": [],
     "prompt_number": 8
    },
    {
     "cell_type": "code",
     "collapsed": false,
     "input": [
      "opred"
     ],
     "language": "python",
     "metadata": {},
     "outputs": [
      {
       "metadata": {},
       "output_type": "pyout",
       "prompt_number": 12,
       "text": [
        "'{\"signin-date\": \"31-Oct-2014\", \"reason\": \"eswz\", \"firstname\": \"william\", \"signin-hrmin\": \"07:46:56\", \"lastname\": \"mckee\", \"signin-comment\": \"today is going to be awesome\"}{\"signin-date\": \"31-Oct-2014\", \"reason\": \"esw\", \"firstname\": \"William\", \"signin-hrmin\": \"07:49:46\", \"lastname\": \"Mckee\", \"signin-comment\": \"today will be great\"}{\"signin-date\": \"31-Oct-2014\", \"reason\": \"esw\", \"firstname\": \"will\", \"signin-hrmin\": \"08:41:29\", \"lastname\": \"mckee\", \"signin-comment\": \"omg im in guys\"}{\"firstname\": \"this\", \"signin-comment \": \"comp123\", \"lastname \": \"does\", \"reason \": \"rsw\", \"signin-hrmin \": \"08:43:29\", \"signin-date \": \"31-Oct-2014\"}{\"signin-date\": \"31-Oct-2014\", \"reason\": \"omg esw\", \"signin-hrmin\": \"08:45:49\", \"lastname\": \"mckee\", \"signin-comment\": \"this was awesome\", \"first\": \"william\"}{\"signin-date\": \"31-Oct-2014\", \"reason\": \"omg testz\", \"signin-hrmin\": \"08:47:36\", \"lastname\": \"mckee\", \"signin-comment\": \"this is not a test!\", \"first\": \"will\"}{\"signin-date\": \"02-Nov-2014\", \"reason\": \"esw\", \"signin-hrmin\": \"07:30:38\", \"lastname\": \"mckee\", \"signin-comment\": \"its a nice day\", \"first\": \"william\"}'"
       ]
      }
     ],
     "prompt_number": 12
    },
    {
     "cell_type": "code",
     "collapsed": false,
     "input": [
      "opjsnd = json.dumps(opred)"
     ],
     "language": "python",
     "metadata": {},
     "outputs": [],
     "prompt_number": 15
    },
    {
     "cell_type": "code",
     "collapsed": false,
     "input": [
      "opjsnd"
     ],
     "language": "python",
     "metadata": {},
     "outputs": [
      {
       "metadata": {},
       "output_type": "pyout",
       "prompt_number": 17,
       "text": [
        "'\"{\\\\\"signin-date\\\\\": \\\\\"31-Oct-2014\\\\\", \\\\\"reason\\\\\": \\\\\"eswz\\\\\", \\\\\"firstname\\\\\": \\\\\"william\\\\\", \\\\\"signin-hrmin\\\\\": \\\\\"07:46:56\\\\\", \\\\\"lastname\\\\\": \\\\\"mckee\\\\\", \\\\\"signin-comment\\\\\": \\\\\"today is going to be awesome\\\\\"}{\\\\\"signin-date\\\\\": \\\\\"31-Oct-2014\\\\\", \\\\\"reason\\\\\": \\\\\"esw\\\\\", \\\\\"firstname\\\\\": \\\\\"William\\\\\", \\\\\"signin-hrmin\\\\\": \\\\\"07:49:46\\\\\", \\\\\"lastname\\\\\": \\\\\"Mckee\\\\\", \\\\\"signin-comment\\\\\": \\\\\"today will be great\\\\\"}{\\\\\"signin-date\\\\\": \\\\\"31-Oct-2014\\\\\", \\\\\"reason\\\\\": \\\\\"esw\\\\\", \\\\\"firstname\\\\\": \\\\\"will\\\\\", \\\\\"signin-hrmin\\\\\": \\\\\"08:41:29\\\\\", \\\\\"lastname\\\\\": \\\\\"mckee\\\\\", \\\\\"signin-comment\\\\\": \\\\\"omg im in guys\\\\\"}{\\\\\"firstname\\\\\": \\\\\"this\\\\\", \\\\\"signin-comment \\\\\": \\\\\"comp123\\\\\", \\\\\"lastname \\\\\": \\\\\"does\\\\\", \\\\\"reason \\\\\": \\\\\"rsw\\\\\", \\\\\"signin-hrmin \\\\\": \\\\\"08:43:29\\\\\", \\\\\"signin-date \\\\\": \\\\\"31-Oct-2014\\\\\"}{\\\\\"signin-date\\\\\": \\\\\"31-Oct-2014\\\\\", \\\\\"reason\\\\\": \\\\\"omg esw\\\\\", \\\\\"signin-hrmin\\\\\": \\\\\"08:45:49\\\\\", \\\\\"lastname\\\\\": \\\\\"mckee\\\\\", \\\\\"signin-comment\\\\\": \\\\\"this was awesome\\\\\", \\\\\"first\\\\\": \\\\\"william\\\\\"}{\\\\\"signin-date\\\\\": \\\\\"31-Oct-2014\\\\\", \\\\\"reason\\\\\": \\\\\"omg testz\\\\\", \\\\\"signin-hrmin\\\\\": \\\\\"08:47:36\\\\\", \\\\\"lastname\\\\\": \\\\\"mckee\\\\\", \\\\\"signin-comment\\\\\": \\\\\"this is not a test!\\\\\", \\\\\"first\\\\\": \\\\\"will\\\\\"}{\\\\\"signin-date\\\\\": \\\\\"02-Nov-2014\\\\\", \\\\\"reason\\\\\": \\\\\"esw\\\\\", \\\\\"signin-hrmin\\\\\": \\\\\"07:30:38\\\\\", \\\\\"lastname\\\\\": \\\\\"mckee\\\\\", \\\\\"signin-comment\\\\\": \\\\\"its a nice day\\\\\", \\\\\"first\\\\\": \\\\\"william\\\\\"}\"'"
       ]
      }
     ],
     "prompt_number": 17
    },
    {
     "cell_type": "code",
     "collapsed": false,
     "input": [],
     "language": "python",
     "metadata": {},
     "outputs": []
    }
   ],
   "metadata": {}
  }
 ]
}