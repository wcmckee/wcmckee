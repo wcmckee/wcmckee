{
 "metadata": {
  "name": "",
  "signature": "sha256:a2423fda77a5ac2d638325899b77802510e158bf7cb0a3241fd5411ae4e1b1b1"
 },
 "nbformat": 3,
 "nbformat_minor": 0,
 "worksheets": [
  {
   "cells": [
    {
     "cell_type": "code",
     "collapsed": false,
     "input": [
      "import os\n",
      "import time\n",
      "import dominate\n",
      "import sys\n",
      "from dominate.tags import *\n",
      "import json"
     ],
     "language": "python",
     "metadata": {},
     "outputs": [],
     "prompt_number": 125
    },
    {
     "cell_type": "markdown",
     "metadata": {},
     "source": [
      "Visitor Sign System\n",
      "\n",
      "This script was created as an altenative to a printed spreadsheet that you use a physical pen to write - date, name, reason, time in, time out. \n",
      "There is a comment book that this could be used to replace also. \n",
      "Currently people write comments in pen on lined refil. Comments \n",
      "The script is basic. It saves the time, date, name, reason, and added in comments as an html page and json object. Archieve of past logins are saved.\n",
      "It is split into two scripts. The first wain or whaxlu is used for the login. \n",
      "The second script is whaiout which is the logout script. It takes the output of wain or whaxlu and appends logout data - time, date, and comment."
     ]
    },
    {
     "cell_type": "markdown",
     "metadata": {},
     "source": [
      "Currently I use the script to sign in and out at a early learning centre that I am employed to work 2 hours a day, 5 days a week. \n",
      "It could be applied in any area where you want to keep a record of time, comments, \n",
      "\n",
      "Similarity to twitter. \n",
      "\n",
      "Avatars\n",
      "\n",
      "Mention, taging, hashtags\n",
      "\n",
      "There is often a line around the sign in/out book.\n",
      "\n",
      "Generates summery\n",
      "\n"
     ]
    },
    {
     "cell_type": "markdown",
     "metadata": {},
     "source": [
      "The site was live. It was running on a simple python web server but it worked. The script was exacuted by the Raspberry Pi B+ computer running Debian. Red pixels appeared on the screen, or #543243 if you want to be fussy. \n",
      "Luck had nothing to do with it. Testing was the key.\n",
      "\n",
      "The text had rendered. \n",
      "\n",
      "1. Alfred Bunnings\n",
      "2. 09:00\n",
      "3. 01/Nov/2014\n",
      "4. InfoSec\n",
      "5. everything seems fine\n",
      "\n",
      "Charlie MacDonald sat at his desk steering at the monitor. \n",
      "'Alfred Bunnings, who is this guy?', he thought to himself. 'Jones, get over here and see this', Charlie yelled out to his Assistent.\n",
      "'Coming Sir!', a voice sharply replied. \n",
      "Into Charlies office walked Jones. Tall, 6 foot 3. Dark Brown hair, curly and down to his shoulders. On this day his hair was tied up, usually he left it down but today was special.\n",
      "'What's up sir', Jones asked, squinting at the monitor. \n",
      "'Take a look for yourself', replied Charlie as he stood up. \n",
      "Jones took a seat at Charlies computer station. Charlie paced up and down his office.\n",
      "'Sir, I've seen nothing like this before. What the hell is going on?', Jones asked Charlie.\n",
      "Standing still Charlie spoke:\n",
      "'It's a god damn nightmare that is, this Alfred character has breached the networks. We need to find them.'\n",
      "\n",
      "Alfred sat on the bus. The same seat he had every day. The bus was old, 50 years old and rust was pealing rom the rail. At least the button still works. He was on his way to visit an old friend, he hasn't seen in five years. Normally lfred drives his car but today was different. He felt like relaxing on the buss.\n",
      "His Dell laptop sat on his lap. The desktop enviorment was KDE, running Debian. He dudn't have much running. Two web browser windows, a terminal, and Pithos. On the left split was his IPython Notebook (running locallly), on the right split documation web page that he is following. The terminal window was behind the web page window. A TMUX session was running. The was split into three windows.  Inside the sessoion was The IPython Notebook Kernal running on port 80. One the second window - Motion. This is used to capture save mpeg files from the Dell laptop camera. \n",
      "\n",
      "The Streets were playing on Pithos. Stay Positive. Pithos is a desktop client for Pandora Radio.\n",
      "\n",
      "SPIKE INFOSEC\n",
      "\n",
      "The sign read. Alfred stood looking up above him. The skyscraper went on for miles. Squinting he could see the peak.\n",
      "\n",
      "Today he was here for a job interview. Two days ago he had been sent a message that a position had came up and the company was interested in hiring him. \n",
      "\n",
      "The automate doors opened as he approched them. Inside stood three security guards and a metal detotor. \n",
      "'Name and reason/person visit', one of the guards asked him. \n",
      "'Alfred Bunnings, I'm here for a job interview with Janet Pears'.\n",
      "The guard typed characters into the comput\n",
      "'Alright, that seems fine sir', the guard replied'. 'Please make your way down the hall and take the second right on your left'.\n",
      "'Thank you', Afred said as he begain walking down the hallway. \n",
      "\n",
      "Everything was white. The ground, ceiling and floor. He passed the first turn off on the left and kept walking. He reached the second turn and turned left. \n",
      "\n",
      "The colour scheme changed, colours filled the walls. Character and Landscapes scatted the walls. It was painted with a dark naples yellow, red, and a light blue. The backgrounds were blue and the characters and foreground landscapes were yellow and red. \n",
      "\n",
      "Alfred admired the walls as he contined walking down the hallway. At the end of the hallway was a foylor with several desks setup with computers. A woman sat at the further one typing. \n",
      "The foylar was plainer than the hallway. Art murels still scatted the area, but they were less freuent. The are had a light blue background, with yellow and red character and landscape artwork. \n",
      "She looked up and smiled at Alfred.\n",
      "'You must be Alfred', she exampled. \n",
      "Alfred approched her desk and held out he hand to shake it.\n",
      "'I'm Janet', she said - shaking his hand. 'Take a seat Alfred'. \n",
      "\n",
      "Alfred looked back at the sign on the building.\n",
      "\n",
      "SPIKE INFOSEC\n",
      "\n",
      "Twenty years he had worked there. Today he was moving on, had sold his shares of the company.\n",
      "He approched the doors. They opened automatitly. \n",
      "Three security guards stood there. All with very serious looks on their faces. Unlike the day he walked into the building for a job interview the guards were humanoild shaped robots. The guard looked and sounded like the same security guards on that first day. Under their fake human skin was just metal and wires.  \n",
      "'Morning fellas', Alfred said as he flashed his ID badge and walked down the corodilol. \n",
      "The corodor was still completely white, like the first time he entered the building. \n",
      "He walked down the hallway. Passing the first door on the left, and turning left at the second turn. \n",
      "The murals had changed. The colour scheme had stayed the same but the images had changed. Alfred had contrubited several times to the repainting of the murals. It was a annual event, each year five people are awarded with the job of recreating the murals. \n",
      "He wondered down the colourful hallway. During his third year working for Spike Infosec he won along with four other people - Noel Locksmart, Elizebeth Goodwill, Trist Gardens, and Ali Turbon. Individially they started by working on sketches. \n",
      "He reached the foylor - desks with computers scatted the foylor. This was the main room where people worked. It was an open space, and the desks had wheels on so they were able to be moved around the building freely. There were several breakoff rooms where smaller groups could go to work.\n",
      "\n",
      "Alfred scanned the room. People filled the desks. Sitting or standing they typed. \n",
      "'Today is special', a familar voice for Alfred sounds from behind a monitor.\n",
      "Janets face poped out, with a smile. \n",
      "'Goodmorning Janet', Alfred smiled.\n",
      "Janet rose from her chair.\n",
      "'Time for a coffee I believe', she said.\n",
      "Janet hadn't aged a day csince Alfred met her. She had long straiht brunette hair. Light complection skin, with frekles covering her face. She wore skinny horozonal glasses that had a light blue tint. On this day she wore a long silky dress. Her black leather jacket was spread out over the back of her computer chair. \n",
      "On her desk sat three wireless 22 inch monitors. \n",
      "\n",
      "The ground that Janet walked on was rough. Stones cut into her barefeet. The sun blinded her view, she held her arm above her eyes. Attempting to block out the rays. \n",
      "A figure amurged in the distance.. Squinting she made haste towards the figure. As she drew closer she noticed the figure was a copy of herself. A clone. \n",
      "'You must be Janet', Janet exampled.\n",
      "\n",
      "The number generater returned Noel Locksmart, Elizebeth Goodwill, Trist Gardens, and Ali Turbon. They were inserted into the text in order. Identitys were created. Credit Cards were the main source. Creating a fake identity and building up depit, and not paying it back. \n",
      "Janet scanned the card. Elizebeth Goodwill it the name on the license read. Born 06/11/2014. Spike Infosec: Help Desk 4. The photo was of a straight hair brunete in her early 20s, with frekles covering her face, petite.\n",
      "The room reveled a server room with walkways. \n",
      "Goodwill plugged the patch cable from the Vodafone router. Connected on the otherside was a Raspberry Pi. A green and yellow light turned on by the ethernet port. It had a network. For development and testing Elizebeth perfered to use her own network connection. \n",
      "Truck skretched to a halt on the street. Three toots. Both truck doors opened and two men leaped out. They begain walking towards the propatery at the end of the street. \n",
      "Goodwill could hear several people moving about outside. \n",
      "The drone showed three people exiting the truck. Two men and a woman. As they scretched to a halt outside the house of Elizebeth Goodwill, was in fact Janet lived there. It was a setup. The house was trapped so that when they entered - they were never going to leave again. \n",
      "Thirty years Noel Locksmart had been a prisnor in the house. He will never forget the night. It was just a standard robbery. Locksmart had recieved word of a computer scientice by the name of Elizebeth Goodwill that had developed software that allowed the replaying of events in the past. The system was complex but started with just one script when Goodwill was just six years old. It was a login and logout script. The first script was the login script. This created a JSON object that included firstname, lastname, date (04/Nov/2014), time (hr:min), reason, and comment. The logout script added to the JSON object logout date, time, and comment. She wrote the script in the programming language Python. Her father  -  Charlie MacDonald had taught her from an early age the basics of programming. She enjoyed it so carried on. At a four year old she was involved in setting up a programming club for children. This idea spread to other towns, cities, and countries. \n",
      "\n",
      "Ali Turbon wislied as he mixed the Indian spice together. Pandora radio was playing from his bluetooth speaker. It was on the family dinner table. Next to the speaker was a nonbranded laptop running Fedora. KDE was the desktop enviorment. Firefox was open with a IPython Notebook on the screen. This window was on the left side of the monitor. On the right top side of the monitor a television show played. It was   George Benson played. 'Onions are ready to go, confirm? Y/n', a device in Turbon's left chefs jacket beeped. Turbon reached for his phone and hit enter. Three claws reached inside the cubord and picked up an onion each. The bench was a woodern bench. The claws dropped the onions on the bench then went back to the cubard to collect more onions. Several more trips back and forward then the claws switched into the next phase - cutting of the onion. The onions were lined up perfectly on the bench. Three rows, five collums. Fifteen onions. Chef knives snapped out of the claws of the device and started to cut up the onions. Each onion was cut in half, then quarters, and finally sliced. The onions were scopped up and droped into a pan of oil to fry. Once the onions were a lovely gold color they were tiped into a slow cooker. \n",
      "'Carrots are ready to go, confirm? Y/n', the device The claws grabbed a orange carrot and dropped it on the bench. The same amount of carrots were used as onions. The knives cut the carrots by a slice lengthways in half, then quarters, and finally slicing. Scopped up by the claws they are dropped in a pan to be fried with oil. Once goldern the carrots are tipped into the slow cooker. Fifteen cups of soft chickpeas are tipped into the pan of oil and fried. They are tipped into the slow cooker. Fifteen medium sized tomatoes travel through the room, being griped by the claw. They are crushed and tipped into the slowcooker.  \n",
      "Five tea spoons of Indian spice mix is tipped into the slowcooker. \n",
      "'Coconuts are ready to go, confirm? Y/n', beeped the device in Turbons hand. Enter was hit. The claws moved towards the cubard to retreave the coconuts. Seven medium sized ripe coconuts are dropped on the woodern bench. The knife snaps out of the claw and cuts the coconut clean in half. The claw snaps the knife away and revieles a sharp scoop. The white coconut insides are cut, scooped and tiped into the slowcooker.\n",
      "'Item ready to cook. Is there anything else?', the device spoke. \n",
      "The voice was that of Trist Gardens. Her voice was sharp and clear. She spoke with confidence and joy. \n",
      "'Fifteen garlic and salt', Turbon requested.\n",
      "'Garlic are ready to go, confirm Y/n', the device beeped. Turbon slammed the enter key. The claws moved to the cubards and dragged out fifteen cloves of garlic. The knives snapped out and sliced it up finely. Garlic was scooped up and tipped into the slow cooker. \n",
      "'Salt is ready to go, conf', before the device had finished beeping Tubon hit the enter key. Salt was tipped into the slow cooker. \n",
      "'Item read to cook. Is there anything else?', Gardens voice asked. \n",
      "'Confirm', Turbon confirmed. \n",
      "The claws began mixxing the slowcooker mixture together. Turbon had a late order for a chickpea curry that he was putting though last mintute. \n",
      "It was a Sunday night and he had a client that wanted a Chickpea Curry for lunch on Monday despritly. Normally he charges extra for weekend food orders but this night he made an exception. This client was special and he knew business would be better in the future because of it. \n",
      "A raspberry Pi and Audino powered his commucial resturont cooking device. His cellphone was connected to the raspberry pi computer that was connected to the Audino. The laptop was his portable devlopment machine. \n",
      "Turbon pressed a button a door opened. Server room with racks of servers running. small selfdriving cars moved up and down the hallway. The cars were careful to avoid Turbon as he walled down the hallway. He nodded at each car as they passed by. \n",
      "The cars had no wheels and moved along the ground by twisting. They moved along with the awkward twist movement. Rubberlike commpletion. Majority of the cars were a yellow and red colour scheme. Several had grayscale colour scheme and traveled in groups of three to five. The grayscale moved slower than the colour scheme and was quick to move out the way when one was heading towards them.\n",
      "Turbons reached a door. It was a large door, double his height. He banged at the door three times.\n",
      "The device in his pocket beeped, 'door status: open'.\n",
      "Turbon turned the handle and opened the door. He stepped into the room. Mid gray covered the room. A dark shape sat in the corner, reading a newspaper. \n",
      "Turbon paused as his eyes noticed the black shape. he was pulled closer and began walking towards the shape. He stood in front of the shape.\n",
      "'Chickpea Curry is ready to go, confirm Y/n', Turbons spoke. \n",
      "A page of the newspaper was flicked over. Turbon waited, frozen.\n",
      "'Confirm', a sound came from the black shape. The voice was that of Trist Gardens. She still continued to read the newspaper. \n",
      "Turbons dropped sixteen bags of curries. In each bag were 5 trays of curry. Eighty trays of curry in total. Every tray of curry also came with a tray of rice. Turbon dropped another sixteen bags. In each of these bags were 5 trays of rice.\n",
      "'Enjoy your curry', Turbons said. \n",
      "'Thank you', the voice of Gardens replied. \n",
      "The dark shape placed the newspaper beside them and stood up. They took the bags of curries and slowly walked towards the door with a large green exit sign at the end of the far wall. \n",
      "Turbons stood frozen untill he heard the exit door close behind the figure. He let out a sigh of relief.\n",
      "'That went better than expected', Alfred spoke. \n",
      "'Certainly sir, that was much calmer than last time', the voice of Gardens replied. \n",
      "Turbons had to be careful of these anonous bots that were being created. Last time he did an order of curries the bot attacked him and this lab. He had yet to figure out who sent the attack bot but had captured it for tests. He had increased secutiry in order to protect himself and business. \n",
      "Anon Bots that enter the building are now scanned with anti-malware software to test if it had code to attack. Turbons created a white list of bots that he allows to enter. Some of these do have attack code on their system but Turbons trusted the owner that they would not attack. \n",
      "'Why would people want to attack a kitchen?', was the thought going through his brain. \n",
      "\n",
      "The door slammed behind the dark shaped as it entered the building. Three security guards stood in front. He moved forward ignoring the guards. They said nothing and didn't move. \n",
      "The alarm went off as the dark shape passed through the dectoror. A guard hit a switch and the alarm stopped. \n",
      "The dark shape moved down the hallway reaching the second door on the left. It turned left. As it passed, the artwork on the walls turned from a bright primary colour scheme to a grayscale, black and white scheme. The Dark Shape left a bitter taste in the air. \n",
      "It reached the foylor. Desks weree empty. It began to wislle as it walked around the desks. The Dark Spaes head darted back and forward between desks, looking for something.\n",
      "It's head stopped moving - staring at an item on a desk it moved closer. An item sparkled from the desk.\n",
      "The black shape reached out and picked up the item and placed it inside their pocket. \n",
      "It turned around and walked out of the building. \n",
      "Shortly after The Dark Shape left the building, it explodes. \n",
      "\n",
      "Fire engine roars down the road towards the building on fire. The Dark Shape walks down the country side as the engine passes him. Corn fields populate the farm land here. Flying drones fly above the corn - monitoring. The Dark Shape smiles as thir bare feet crunch on the grass. It feels better than the cloth feeing the building had. The Dark Shape turned and watch dark clouds of smoke emurging into the sky. \n",
      "\n",
      "The engine arrived at the building. Much of the building was englufed in flame but the fighters would do their best to save it. Humanolid Robot jumped out of the fire engine and entered the building to check for human that may be still in the building.\n",
      "Two of the bots forced the front door open and entered the building. \n",
      "Three security guards stood there englufed in flames. They just beeped gibbish as the firefighters soaked them in anti flame powdered. The flames died down. \n",
      "The fighters contained down the hallway, spraying the ani flame powder as they moved.\n",
      "One fighter opened the first door on the left. He entered a large foylor area. Desktop with computers on were englufed in flames. The fighter began to spray the powder at the computer. \n",
      "He noticed a humon figure in the room. It was sitting in the far corner sitting at the desk typing on a keyboard.\n",
      "'Must be a bot, can't be human', the fighter thought to himself. He moved closed to the humanold typing. \n",
      "The fact it didn't stopped typing is strange. Usually an emergeny mode activates when the bots are in danger. The activates a call to authorities and begins a self-repair task.\n",
      "The fighter sprayed the bot with anti flame powder. It contined to  type.  \n",
      "\n",
      "Charlie MacDonald. Rest in Peace. The grave stone read. Born 24 October 2014. Died 12 December 2093. Trist Gardens stood over the grave. Tears flowing from her eyes. It had been two months since MacDonald passed away. She had worked with him for fifteen years at Spike InfoSec. Together they worked on a automatic cooking device. It was used in billions of home and businesses around the world. Spike InfoSec realeased blueprints of the device so anyone with a 3d printer can just print the device. \n",
      "\n",
      "Drone hovered by MacDonalds head. The claw was attached to a woodern board. MacDonald placed a onion on the board. \n",
      "'Cut', he spoke clearly. \n",
      "'Confirm', the device beeped back.\n",
      "A knive snapped out of the claw and sliced the onion in half. \n",
      "A smile rose on MacDonalds face. \n",
      "'Jones, get over here and see this'. The door opened and Jones walked towards MacDonald. \n",
      "'What is it sir?', Jones asked.\n",
      "'Watch this Jones', MacDonald said as he placed a onion on the woodern board.\n",
      "'Cut', he spoke once again. \n",
      "'Confirm', the device deeped back. \n",
      "The knife snapped out. The onion was sliced clean in half.\n",
      "'wonderful work sir', Jones smiled. \n",
      "'Kill Jones', MacDonald spoke, his eyes fixed on Jones. \n",
      "The knife snapped out of the claw and started  traveling towards Jones. \n",
      "Jones terrified started moving backwards towards the door. He turned and began running towards the door. \n",
      "The knife traveled faster through the air.\n",
      "A cracking sound shoock the room as the knife impayed the brain of Jones. His head was attached to the door. Part of the knife was impayed into the door. It was a instant death. MacDonald didn't have a choice. He was on orders from Trist Gardens. If he didn't follow through and kill his assistant his whole families lives were in danger. \n",
      "'Clean this up', MacDonald spoke as he walked out of his office. \n",
      "He stood in the foylor. Light blue covered the area. MacDonald could see Janet in distance. She was interviewing a new comer. Alfred Bunnings his name was. MacDonald watched as Janet and Alfred shook hands and took a seat.\n",
      "'He looks like a good test subject', MacDonad spoke. \n",
      "'Test subject: Alfred Bunnings', the device beeped back. \n",
      "'Confirm', MacDonald confirmed.\n",
      "MacDonald continued to watch Janet and Alfred as they talked. \n",
      "'So tell me about yourself', Janet had the first question.\n",
      "MacDonald had known Janet since she was a toddler. He would push her on the swings in the local park. MacDonalds daughter Elizebeth Goodwill would also be swinging. \n",
      "The Black Cat sat and watched the swings, following the figures in the seats as they moved backwards and forward. \n",
      "'Black',  a voice behind called and The Black Cat twisted around.\n",
      "The Black Cat  moved towards the voice. A dark black shape stood in the distance pouring fresh meat into the cats contaiiner.\n",
      "'Thanks ma'am', The Black Cat spoke, he began eating the meat. \n",
      "The Black Cat was a prototype for the humonald bot. It was used for testing. Under the fake fur and skin was metal and wires. A raspberry Pi computer inside the model with a cell phone and audino connected to that. \n",
      "Human like personioltys were added to the computer. \n",
      "The speech \n",
      "The park ranger - Alfred Bunnings had created this one. He had printed the parts and soultered the robot together. Installing the software was easy - it was all in the software store. Bunnings also worked on scripts for Black. Today he was testing a script that made the robot smell and taste food. As people were pushing their children on the swing he ordered for a humonald robot to activate in the park and send off a signal to attract Black back.\n",
      "This script could be used in many areas but Bunnings was developing it so he could find lost or stolen robots. \n",
      "Many times people come into the Park and walk away with a robot. Sometimes I don't relize it. They thing they have made a new friend but really it's a computer belonging to the park. The Park gets an alert that a bot has entered an unauthorised area and sends back gps data. \n",
      "The Park gives the person a friendly phone call or email and offers to either pick the robot up or let the person return the robot themselves. As long as the robot is returned the Park is not worried. Once the robot is returned it's rebooted in order to clear memories of leaving the park. The Park does not want robots remembering what is outside The Park as it causes more robots wanting to leave the park. Rebooting them isn't a problem but there is better work that the staff could be working on - such as new features. \n",
      "Black purred as he ate the fresh meat from his bowl.\n",
      "The little girl on the swing with straight brunette hair hoped off the swing and ran toward Black. He purred louder as the girl - Elizebeth Goodwill patted Black. The adult continued to push the other child - a girl with blonde hair and a darker completion than Goodwill.\n",
      "The Farm had rows of vegetables growing. On the pathway around the veges walked humonald robots working on the garden. \n",
      "Bunnings walked past the onion gardens. He smiled at the group of humanold robots in suits discussing the Onion garden. \n",
      "'We need to speed haviousting up by 150% in the next three weeks', Bunnings overheard them as he walked past. \n",
      "The Onion Gardens were thriving. A cold and wet June month meant rain every day. The claw pulled the onion and dropped it into the crate with the rest of the onions that had been havested. \n",
      "The Claw moved fast, pulling another onion out of the ground in less than two seconds. \n",
      "Bunnings whisiled a tune as he walked past the Onion Gardens. Harvesting was excellent with the onions this year. They were experiencing a demand in onions and had increased the amount of The Claw that worked on the gardens. \n",
      "Bunnings entereded the carrot gardens. These parsely like vegetables added sweetness to the companies curries. Bunnings watched a The Claw plucked the carrots from the ground and dropped them in large containers. The next step for the carrots was washing, then it entered the kitchen.\n",
      "Bunnings entereed the tomatoe gardens. Rich red tomatoes grew on the stalk. In this garden the company used humonald robots as a majority over the claw. The humonalds were given custom arms that allows for careful picking of the tomatoes. The tomatoes were dropped into containers where they were washed and moved into the kitchen. \n",
      "The herb gardens were next. Here coroondir and other herbs were grown for the Indian Spice Mix. \n",
      "\n",
      " He had plans to create his own Infomation Security company.                                               "
     ]
    },
    {
     "cell_type": "markdown",
     "metadata": {},
     "source": [
      "TODO\n",
      "\n",
      "html page of page 100 logins/logouts - append all json as one html\n",
      "\n",
      "graph of weekly/day hours and how they change.\n",
      "\n",
      "work out time between login and logout.\n",
      "\n",
      "question that you comment on that includes the sketch daily reddit gets drawn. \n",
      "\n",
      "fake name encription for kids/everyone?\n",
      "Take a name and turn into into a new name, run a script again to turn it back\n",
      "\n",
      "records time when child eats/drinks\n",
      "\n",
      "Sig for parents when signing in/out kids\n",
      "\n",
      "txt/email alerts to parents on changes to kids signin/out\n",
      "\n",
      "If someone doesnt signin/signout before certain time - alert\n",
      "\n",
      "import pandas. Need to free up space on raspberry pi\n",
      "\n",
      "Filter - new/popular comments, people, signins, signouts,  \n",
      "\n",
      "Date 01 November 2014\n",
      "\n",
      "0000\n",
      "\n",
      "Daily Rosted/Working chart. \n",
      "Spread sheet - names colum, time rows.\n",
      "\n",
      "example:\n",
      "     | Dino1 | Dino2 | Dino3 |\n",
      "\n",
      "0700 | signin + comment!\n",
      "\n",
      "0701 | signout + comment!\n",
      "\n",
      "so on..\n",
      "\n",
      "Live updates of the floor. \n",
      "Inside, Outside, Inside Float, Outside Float, General Float.\n",
      "Tagging. Tag people for breaks. \n",
      "eg - you are busy with a project, but need a break/lunch. Someone tags you and takes over at area. You go for break/lunch. When you return, tag back and carry on.\n",
      "The person that was just taged back moves onto the next person to tag for break/lunch.\n",
      "This person cycles through a group of people.\n",
      "\n",
      "Live updates of child location.\n",
      "gps info of each area of centre and count how many children are there. \n",
      "\n",
      "Panic Button. Signal to call for assistence, part-tag, allow for image/sound record. \n",
      "\n"
     ]
    },
    {
     "cell_type": "code",
     "collapsed": false,
     "input": [
      "valname = ('lasnam', 'signin', 'usercom', 'dayr', 'htmn')"
     ],
     "language": "python",
     "metadata": {},
     "outputs": [],
     "prompt_number": 126
    },
    {
     "cell_type": "code",
     "collapsed": false,
     "input": [],
     "language": "python",
     "metadata": {},
     "outputs": [],
     "prompt_number": 126
    },
    {
     "cell_type": "code",
     "collapsed": false,
     "input": [
      "for itzval in valname:\n",
      "    print itzval"
     ],
     "language": "python",
     "metadata": {},
     "outputs": [
      {
       "output_type": "stream",
       "stream": "stdout",
       "text": [
        "lasnam\n",
        "signin\n",
        "usercom\n",
        "dayr\n",
        "htmn\n"
       ]
      }
     ],
     "prompt_number": 127
    },
    {
     "cell_type": "markdown",
     "metadata": {},
     "source": [
      "This function creates a dict, another updates it. \n",
      "Function is working to create it but update is coming back with error.\n",
      "\n",
      "How do I refer to the created dict as the one to update?"
     ]
    },
    {
     "cell_type": "code",
     "collapsed": false,
     "input": [
      "class DictNows():\n",
      "\n",
      "    def dictcreate(keyval, firnam):\n",
      "        return dict({keyval: firnam})\n",
      "\n",
      "    def updatedict(keyvalz, othnam):\n",
      "        return dictcreate.update({keyvalz: othnam})"
     ],
     "language": "python",
     "metadata": {},
     "outputs": [],
     "prompt_number": 128
    },
    {
     "cell_type": "code",
     "collapsed": false,
     "input": [
      "#checkdict = dictcreate('check', 'this')"
     ],
     "language": "python",
     "metadata": {},
     "outputs": [],
     "prompt_number": 129
    },
    {
     "cell_type": "code",
     "collapsed": false,
     "input": [
      "#checkdict"
     ],
     "language": "python",
     "metadata": {},
     "outputs": [
      {
       "metadata": {},
       "output_type": "pyout",
       "prompt_number": 130,
       "text": [
        "{'check': 'this'}"
       ]
      }
     ],
     "prompt_number": 130
    },
    {
     "cell_type": "code",
     "collapsed": false,
     "input": [
      "def dictcreate(keyval, firnam):\n",
      "    return dict({keyval: firnam})\n",
      "\n",
      "#def updatedict(keyvalz, othnam):\n",
      "#    return checkdict.update({keyvalz: othnam})\n",
      "\n",
      "def returndate():\n",
      "    return time.strftime((\"%d\" + \"-\" + \"%b\" + \"-\" + \"%Y\"))\n",
      "\n",
      "def returntime():\n",
      "    return time.strftime(\"%H:%M:%S\")\n",
      "\n",
      "def returan():\n",
      "    return os.urandom(16)\n",
      "\n",
      "#def blahblah():\n",
      "    #open('/home/wcmckee/visignsys/posts/' + ixtwe + '.html', 'w')\n",
      "    #savpos.write(str(doc))\n",
      "    #savpos.close()\n",
      "    \n",
      "    \n"
     ],
     "language": "python",
     "metadata": {},
     "outputs": [],
     "prompt_number": 131
    },
    {
     "cell_type": "code",
     "collapsed": false,
     "input": [],
     "language": "python",
     "metadata": {},
     "outputs": [],
     "prompt_number": 131
    },
    {
     "cell_type": "code",
     "collapsed": false,
     "input": [
      "#updatedict('omg', 'not again')"
     ],
     "language": "python",
     "metadata": {},
     "outputs": [],
     "prompt_number": 132
    },
    {
     "cell_type": "code",
     "collapsed": false,
     "input": [
      "returan()"
     ],
     "language": "python",
     "metadata": {},
     "outputs": [
      {
       "metadata": {},
       "output_type": "pyout",
       "prompt_number": 133,
       "text": [
        "'\\xd1n\\xd4S\\xc1`\\xe1\\\\|\\xa9OTN6\\t\\xf5'"
       ]
      }
     ],
     "prompt_number": 133
    },
    {
     "cell_type": "code",
     "collapsed": false,
     "input": [
      "returntime()"
     ],
     "language": "python",
     "metadata": {},
     "outputs": [
      {
       "metadata": {},
       "output_type": "pyout",
       "prompt_number": 134,
       "text": [
        "'02:34:32'"
       ]
      }
     ],
     "prompt_number": 134
    },
    {
     "cell_type": "markdown",
     "metadata": {},
     "source": [
      "DictNows.dictcreate('check')"
     ]
    },
    {
     "cell_type": "code",
     "collapsed": false,
     "input": [
      "dictcreate('name', 'wcm')\n",
      "#updatedict()"
     ],
     "language": "python",
     "metadata": {},
     "outputs": [
      {
       "metadata": {},
       "output_type": "pyout",
       "prompt_number": 135,
       "text": [
        "{'name': 'wcm'}"
       ]
      }
     ],
     "prompt_number": 135
    },
    {
     "cell_type": "code",
     "collapsed": false,
     "input": [
      "#updatedict('checking', 'this works')"
     ],
     "language": "python",
     "metadata": {},
     "outputs": [],
     "prompt_number": 136
    },
    {
     "cell_type": "code",
     "collapsed": false,
     "input": [
      "lasnam = raw_input('Last Name: ')\n",
      "firnam = raw_input('First Name: ')\n",
      "dopz = raw_input('dob: ')\n",
      "mname = ('William Mckee')\n",
      "ename = raw_input('Email: ')\n",
      "signin = raw_input('Reason: ')\n",
      "usecom = raw_input('Comments: ')\n"
     ],
     "language": "python",
     "metadata": {},
     "outputs": [
      {
       "name": "stdout",
       "output_type": "stream",
       "stream": "stdout",
       "text": [
        "Last Name: mckee\n"
       ]
      },
      {
       "name": "stdout",
       "output_type": "stream",
       "stream": "stdout",
       "text": [
        "First Name: will\n"
       ]
      },
      {
       "name": "stdout",
       "output_type": "stream",
       "stream": "stdout",
       "text": [
        "dob: 04121988\n"
       ]
      },
      {
       "name": "stdout",
       "output_type": "stream",
       "stream": "stdout",
       "text": [
        "Email: test@test.me\n"
       ]
      },
      {
       "name": "stdout",
       "output_type": "stream",
       "stream": "stdout",
       "text": [
        "Reason: esw\n"
       ]
      },
      {
       "name": "stdout",
       "output_type": "stream",
       "stream": "stdout",
       "text": [
        "Comments: omg hi guys\n"
       ]
      },
      {
       "metadata": {},
       "output_type": "pyout",
       "prompt_number": 148,
       "text": [
        "'{\"first\": \"wiala\"}'"
       ]
      }
     ],
     "prompt_number": 148
    },
    {
     "cell_type": "code",
     "collapsed": false,
     "input": [
      "#bitdict = "
     ],
     "language": "python",
     "metadata": {},
     "outputs": [],
     "prompt_number": 154
    },
    {
     "cell_type": "code",
     "collapsed": false,
     "input": [
      "betdict = {'first-name': firnam}\n"
     ],
     "language": "python",
     "metadata": {},
     "outputs": [],
     "prompt_number": 147
    },
    {
     "cell_type": "code",
     "collapsed": false,
     "input": [
      "#betdict.update({'lastname': lasnam})"
     ],
     "language": "python",
     "metadata": {},
     "outputs": [],
     "prompt_number": 145
    },
    {
     "cell_type": "code",
     "collapsed": false,
     "input": [
      "dayr = time.strftime(\"%d\" + \"-\" + \"%b\" + \"-\" + \"%Y\")\n",
      "hrmn = time.strftime(\"%H:%M:%S\")\n",
      "\n",
      "# <codecell>\n",
      "\n",
      "betdict.update({'last-name': lasnam})\n",
      "betdict.update({'reason': signin})\n",
      "betdict.update({'signin-comment': usecom})\n",
      "betdict.update({'signin-date': dayr})\n",
      "betdict.update({'signin-hrmin': hrmn})"
     ],
     "language": "python",
     "metadata": {},
     "outputs": [],
     "prompt_number": 151
    },
    {
     "cell_type": "code",
     "collapsed": false,
     "input": [
      "betdict"
     ],
     "language": "python",
     "metadata": {},
     "outputs": [
      {
       "metadata": {},
       "output_type": "pyout",
       "prompt_number": 153,
       "text": [
        "{'first': 'wiala',\n",
        " 'lastname': 'mckee',\n",
        " 'reason': 'esw',\n",
        " 'signin-comment': 'omg hi guys',\n",
        " 'signin-date': '07-Nov-2014',\n",
        " 'signin-hrmin': '02:45:25'}"
       ]
      }
     ],
     "prompt_number": 153
    },
    {
     "cell_type": "code",
     "collapsed": false,
     "input": [
      "betjsn = json.dumps(betdict)\n",
      "betjsn"
     ],
     "language": "python",
     "metadata": {},
     "outputs": [
      {
       "metadata": {},
       "output_type": "pyout",
       "prompt_number": 155,
       "text": [
        "'{\"signin-date\": \"07-Nov-2014\", \"reason\": \"esw\", \"signin-hrmin\": \"02:45:25\", \"lastname\": \"mckee\", \"signin-comment\": \"omg hi guys\", \"first\": \"wiala\"}'"
       ]
      }
     ],
     "prompt_number": 155
    },
    {
     "cell_type": "code",
     "collapsed": false,
     "input": [
      "#for itz in updatedict():\n",
      "#    print itz"
     ],
     "language": "python",
     "metadata": {},
     "outputs": [
      {
       "ename": "TypeError",
       "evalue": "updatedict() takes exactly 2 arguments (0 given)",
       "output_type": "pyerr",
       "traceback": [
        "\u001b[1;31m---------------------------------------------------------------------------\u001b[0m\n\u001b[1;31mTypeError\u001b[0m                                 Traceback (most recent call last)",
        "\u001b[1;32m<ipython-input-139-852f2b6c8c0a>\u001b[0m in \u001b[0;36m<module>\u001b[1;34m()\u001b[0m\n\u001b[1;32m----> 1\u001b[1;33m \u001b[1;32mfor\u001b[0m \u001b[0mitz\u001b[0m \u001b[1;32min\u001b[0m \u001b[0mupdatedict\u001b[0m\u001b[1;33m(\u001b[0m\u001b[1;33m)\u001b[0m\u001b[1;33m:\u001b[0m\u001b[1;33m\u001b[0m\u001b[0m\n\u001b[0m\u001b[0;32m      2\u001b[0m     \u001b[1;32mprint\u001b[0m \u001b[0mitz\u001b[0m\u001b[1;33m\u001b[0m\u001b[0m\n",
        "\u001b[1;31mTypeError\u001b[0m: updatedict() takes exactly 2 arguments (0 given)"
       ]
      }
     ],
     "prompt_number": 139
    },
    {
     "cell_type": "code",
     "collapsed": false,
     "input": [
      "opind = open('/home/wcmckee/visignsys/index.json', 'r')\n",
      "opred = opind.read()"
     ],
     "language": "python",
     "metadata": {},
     "outputs": []
    },
    {
     "cell_type": "code",
     "collapsed": false,
     "input": [
      "opred"
     ],
     "language": "python",
     "metadata": {},
     "outputs": [
      {
       "metadata": {},
       "output_type": "pyout",
       "prompt_number": 140,
       "text": [
        "'{\"signin-date\": \"31-Oct-2014\", \"reason\": \"eswz\", \"firstname\": \"william\", \"signin-hrmin\": \"07:46:56\", \"lastname\": \"mckee\", \"signin-comment\": \"today is going to be awesome\"}{\"signin-date\": \"31-Oct-2014\", \"reason\": \"esw\", \"firstname\": \"William\", \"signin-hrmin\": \"07:49:46\", \"lastname\": \"Mckee\", \"signin-comment\": \"today will be great\"}{\"signin-date\": \"31-Oct-2014\", \"reason\": \"esw\", \"firstname\": \"will\", \"signin-hrmin\": \"08:41:29\", \"lastname\": \"mckee\", \"signin-comment\": \"omg im in guys\"}{\"firstname\": \"this\", \"signin-comment \": \"comp123\", \"lastname \": \"does\", \"reason \": \"rsw\", \"signin-hrmin \": \"08:43:29\", \"signin-date \": \"31-Oct-2014\"}{\"signin-date\": \"31-Oct-2014\", \"reason\": \"omg esw\", \"signin-hrmin\": \"08:45:49\", \"lastname\": \"mckee\", \"signin-comment\": \"this was awesome\", \"first\": \"william\"}{\"signin-date\": \"31-Oct-2014\", \"reason\": \"omg testz\", \"signin-hrmin\": \"08:47:36\", \"lastname\": \"mckee\", \"signin-comment\": \"this is not a test!\", \"first\": \"will\"}{\"signin-date\": \"02-Nov-2014\", \"reason\": \"esw\", \"signin-hrmin\": \"07:30:38\", \"lastname\": \"mckee\", \"signin-comment\": \"its a nice day\", \"first\": \"william\"}'"
       ]
      }
     ],
     "prompt_number": 140
    },
    {
     "cell_type": "code",
     "collapsed": false,
     "input": [
      "opjsnd = json.dumps(opred)"
     ],
     "language": "python",
     "metadata": {},
     "outputs": [],
     "prompt_number": 141
    },
    {
     "cell_type": "code",
     "collapsed": false,
     "input": [
      "str(opjsnd)"
     ],
     "language": "python",
     "metadata": {},
     "outputs": [
      {
       "metadata": {},
       "output_type": "pyout",
       "prompt_number": 142,
       "text": [
        "'\"{\\\\\"signin-date\\\\\": \\\\\"31-Oct-2014\\\\\", \\\\\"reason\\\\\": \\\\\"eswz\\\\\", \\\\\"firstname\\\\\": \\\\\"william\\\\\", \\\\\"signin-hrmin\\\\\": \\\\\"07:46:56\\\\\", \\\\\"lastname\\\\\": \\\\\"mckee\\\\\", \\\\\"signin-comment\\\\\": \\\\\"today is going to be awesome\\\\\"}{\\\\\"signin-date\\\\\": \\\\\"31-Oct-2014\\\\\", \\\\\"reason\\\\\": \\\\\"esw\\\\\", \\\\\"firstname\\\\\": \\\\\"William\\\\\", \\\\\"signin-hrmin\\\\\": \\\\\"07:49:46\\\\\", \\\\\"lastname\\\\\": \\\\\"Mckee\\\\\", \\\\\"signin-comment\\\\\": \\\\\"today will be great\\\\\"}{\\\\\"signin-date\\\\\": \\\\\"31-Oct-2014\\\\\", \\\\\"reason\\\\\": \\\\\"esw\\\\\", \\\\\"firstname\\\\\": \\\\\"will\\\\\", \\\\\"signin-hrmin\\\\\": \\\\\"08:41:29\\\\\", \\\\\"lastname\\\\\": \\\\\"mckee\\\\\", \\\\\"signin-comment\\\\\": \\\\\"omg im in guys\\\\\"}{\\\\\"firstname\\\\\": \\\\\"this\\\\\", \\\\\"signin-comment \\\\\": \\\\\"comp123\\\\\", \\\\\"lastname \\\\\": \\\\\"does\\\\\", \\\\\"reason \\\\\": \\\\\"rsw\\\\\", \\\\\"signin-hrmin \\\\\": \\\\\"08:43:29\\\\\", \\\\\"signin-date \\\\\": \\\\\"31-Oct-2014\\\\\"}{\\\\\"signin-date\\\\\": \\\\\"31-Oct-2014\\\\\", \\\\\"reason\\\\\": \\\\\"omg esw\\\\\", \\\\\"signin-hrmin\\\\\": \\\\\"08:45:49\\\\\", \\\\\"lastname\\\\\": \\\\\"mckee\\\\\", \\\\\"signin-comment\\\\\": \\\\\"this was awesome\\\\\", \\\\\"first\\\\\": \\\\\"william\\\\\"}{\\\\\"signin-date\\\\\": \\\\\"31-Oct-2014\\\\\", \\\\\"reason\\\\\": \\\\\"omg testz\\\\\", \\\\\"signin-hrmin\\\\\": \\\\\"08:47:36\\\\\", \\\\\"lastname\\\\\": \\\\\"mckee\\\\\", \\\\\"signin-comment\\\\\": \\\\\"this is not a test!\\\\\", \\\\\"first\\\\\": \\\\\"will\\\\\"}{\\\\\"signin-date\\\\\": \\\\\"02-Nov-2014\\\\\", \\\\\"reason\\\\\": \\\\\"esw\\\\\", \\\\\"signin-hrmin\\\\\": \\\\\"07:30:38\\\\\", \\\\\"lastname\\\\\": \\\\\"mckee\\\\\", \\\\\"signin-comment\\\\\": \\\\\"its a nice day\\\\\", \\\\\"first\\\\\": \\\\\"william\\\\\"}\"'"
       ]
      }
     ],
     "prompt_number": 142
    },
    {
     "cell_type": "code",
     "collapsed": false,
     "input": [],
     "language": "python",
     "metadata": {},
     "outputs": [],
     "prompt_number": 142
    },
    {
     "cell_type": "code",
     "collapsed": false,
     "input": [
      "#json.load(opred)"
     ],
     "language": "python",
     "metadata": {},
     "outputs": [
      {
       "ename": "AttributeError",
       "evalue": "'str' object has no attribute 'read'",
       "output_type": "pyerr",
       "traceback": [
        "\u001b[1;31m---------------------------------------------------------------------------\u001b[0m\n\u001b[1;31mAttributeError\u001b[0m                            Traceback (most recent call last)",
        "\u001b[1;32m<ipython-input-143-48142663e8e9>\u001b[0m in \u001b[0;36m<module>\u001b[1;34m()\u001b[0m\n\u001b[1;32m----> 1\u001b[1;33m \u001b[0mjson\u001b[0m\u001b[1;33m.\u001b[0m\u001b[0mload\u001b[0m\u001b[1;33m(\u001b[0m\u001b[0mopred\u001b[0m\u001b[1;33m)\u001b[0m\u001b[1;33m\u001b[0m\u001b[0m\n\u001b[0m",
        "\u001b[1;32m/usr/lib/python2.7/json/__init__.pyc\u001b[0m in \u001b[0;36mload\u001b[1;34m(fp, encoding, cls, object_hook, parse_float, parse_int, parse_constant, object_pairs_hook, **kw)\u001b[0m\n\u001b[0;32m    272\u001b[0m \u001b[1;33m\u001b[0m\u001b[0m\n\u001b[0;32m    273\u001b[0m     \"\"\"\n\u001b[1;32m--> 274\u001b[1;33m     return loads(fp.read(),\n\u001b[0m\u001b[0;32m    275\u001b[0m         \u001b[0mencoding\u001b[0m\u001b[1;33m=\u001b[0m\u001b[0mencoding\u001b[0m\u001b[1;33m,\u001b[0m \u001b[0mcls\u001b[0m\u001b[1;33m=\u001b[0m\u001b[0mcls\u001b[0m\u001b[1;33m,\u001b[0m \u001b[0mobject_hook\u001b[0m\u001b[1;33m=\u001b[0m\u001b[0mobject_hook\u001b[0m\u001b[1;33m,\u001b[0m\u001b[1;33m\u001b[0m\u001b[0m\n\u001b[0;32m    276\u001b[0m         \u001b[0mparse_float\u001b[0m\u001b[1;33m=\u001b[0m\u001b[0mparse_float\u001b[0m\u001b[1;33m,\u001b[0m \u001b[0mparse_int\u001b[0m\u001b[1;33m=\u001b[0m\u001b[0mparse_int\u001b[0m\u001b[1;33m,\u001b[0m\u001b[1;33m\u001b[0m\u001b[0m\n",
        "\u001b[1;31mAttributeError\u001b[0m: 'str' object has no attribute 'read'"
       ]
      }
     ],
     "prompt_number": 143
    },
    {
     "cell_type": "code",
     "collapsed": false,
     "input": [],
     "language": "python",
     "metadata": {},
     "outputs": []
    },
    {
     "cell_type": "code",
     "collapsed": false,
     "input": [
      "# -*- coding: utf-8 -*-\n",
      "# <nbformat>3.0</nbformat>\n",
      "\n",
      "# <markdowncell>\n",
      "\n",
      "# <h2>visitor sign system</h2>\n",
      "# \n",
      "# This is a python script used to sign in and signout, keeping track of hours and creating a more automative system.\n",
      "# \n",
      "# Make sign in and out faster, easier to keep track of.\n",
      "# \n",
      "# Never forget. \n",
      "# \n",
      "# Auto roll check. \n",
      "# \n",
      "# Two random hex codes for security and correct checking. Made use of tthese by using one as file name when saving.\n",
      "# \n",
      "# Creates xls file with data, also uses sqlalchemy for databases, web server, html page: \n",
      "# input (or auto) name, reason, auto day/month/year hr/min - of signin.\n",
      "# \n",
      "# when launched asked if you want to signin or signout. \n",
      "# \n",
      "# how i want this to run for william:\n",
      "# \n",
      "# william arrives into whai. On his phone he runs the signin script. On signing out for the day the script is run onto final part, signout. asks for comment first then records time, and date. \n",
      "# \n",
      "# comment system. leave comment for staff, parent, tag staff, area, story, parent, child.\n",
      "# \n",
      "# signout - enter code of session you want to signout. \n",
      "# \n",
      "# Screw the excel file, im just dealing with index page. i am saving achieve in posts folder under urandom 13 character code. \n",
      "\n",
      "# <codecell>\n",
      "\n",
      "doc = dominate.document(title='Visitor Sign Sheet')\n",
      "\n",
      "with doc.head:\n",
      "    link(rel='stylesheet', href='style.css')\n",
      "    script(type='text/javascript', src='script.js')\n",
      "\n",
      "with doc:\n",
      "    with div(id='header').add(ol()):\n",
      "        h1('Visitor Sign Sheet')\n",
      "        for i in betdict.values():\n",
      "            li(a(i))\n",
      "\n",
      "    with div():\n",
      "        attr(cls='body')\n",
      "        p(opred)\n",
      "        p('last updated: ' + time.strftime(\"%H:%M\"))\n",
      "        p('Visitor Sign Sheet is open source')\n",
      "        a('http://github.com/wcmckee/wcmckee', href='https://github.com/wcmckee/wcmckee')\n",
      "\n",
      "#print doc\n",
      "\n",
      "# <codecell>\n",
      "\n",
      "savindex = open('/home/wcmckee/visignsys/index.html', 'w')\n",
      "\n",
      "# <codecell>\n",
      "\n",
      "savindex.write(str(doc))\n",
      "savindex.close()\n",
      "\n",
      "# <codecell>\n",
      "ixran = os.urandom(16)\n",
      "ixtwe = ixran[0:16]\n",
      "\n",
      "# <codecell>\n",
      "\n",
      "savpos = open('/home/wcmckee/visignsys/posts/' + ixtwe + '.html', 'w')\n",
      "savpos.write(str(doc))\n",
      "savpos.close()\n",
      "\n",
      "# <codecell>\n",
      "\n",
      "savpos = open('/home/wcmckee/visignsys/posts/' + ixtwe + '.json', 'w')\n",
      "savpos.write(str(betjsn))\n",
      "savpos.close()\n",
      "\n",
      "# <codecell>\n",
      "\n",
      "#savpos = open('/home/wcmckee/visignsys/index.meta', 'w')\n",
      "#savpos.write(str(wsdict.keys()))\n",
      "#savpos.close()\n",
      "\n",
      "# <codecell>\n",
      "\n",
      "savpos = open('/home/wcmckee/visignsys/index.json', 'a')\n",
      "savpos.write(str(betjsn))\n",
      "savpos.close()\n",
      "\n",
      "print ('sign in complete')\n"
     ],
     "language": "python",
     "metadata": {},
     "outputs": [
      {
       "name": "stdout",
       "output_type": "stream",
       "stream": "stdout",
       "text": [
        "Last Name: mcgree\n"
       ]
      },
      {
       "name": "stdout",
       "output_type": "stream",
       "stream": "stdout",
       "text": [
        "First Name: wiala\n"
       ]
      },
      {
       "name": "stdout",
       "output_type": "stream",
       "stream": "stdout",
       "text": [
        "dob: 04/12/1988\n"
       ]
      },
      {
       "name": "stdout",
       "output_type": "stream",
       "stream": "stdout",
       "text": [
        "Email: will@artcontrol.me\n"
       ]
      },
      {
       "name": "stdout",
       "output_type": "stream",
       "stream": "stdout",
       "text": [
        "Reason: esw\n"
       ]
      },
      {
       "name": "stdout",
       "output_type": "stream",
       "stream": "stdout",
       "text": [
        "Comments: hello there\n"
       ]
      },
      {
       "output_type": "stream",
       "stream": "stdout",
       "text": [
        "sign in complete\n"
       ]
      }
     ],
     "prompt_number": 144
    },
    {
     "cell_type": "code",
     "collapsed": false,
     "input": [],
     "language": "python",
     "metadata": {},
     "outputs": []
    }
   ],
   "metadata": {}
  }
 ]
}