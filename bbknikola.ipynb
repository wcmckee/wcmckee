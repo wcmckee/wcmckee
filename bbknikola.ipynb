{
 "cells": [
  {
   "cell_type": "markdown",
   "metadata": {
    "collapsed": true
   },
   "source": [
    "##### <h1>BroBeurKids Nikola</h1>\n",
    "\n",
    "This script deals with creating data for BroBeurKids/wcmckee Nikola site.\n",
    "\n",
    "The directory to look at is brobeurkidsdotcom/posts \n",
    "or folder\n",
    "\n",
    "wcmckee.com /posts\n",
    "\n",
    "/github folders are scanned with the input for folders.\n",
    "It's basically a search for notebook, then turn notebook into a blog posts.\n",
    "\n",
    "Arrow is used to generate the date (YR/MONTH/DAY),\n",
    "and time(HR : MIN: SEC)\n",
    "\n",
    "This is where ipynb files are kept. \n",
    "\n",
    "This script generates the .meta files needed. \n",
    "\n",
    "The meta file is called the same as the ipynb.  It also contains the slug and title, and date.\n",
    "The date is collected by looking at the save date of the ipynb.\n",
    "\n",
    "Create preconfig files. A posts folder that one item is published.\n",
    "Depending on prepost folder deturms the post folder it's moved to. \n",
    "Sequale and post certain times a day. "
   ]
  },
  {
   "cell_type": "markdown",
   "metadata": {},
   "source": [
    "This script creates a blog post and saves it in posts folder along with the .meta file for it. \n",
    "Config file for the script. Specify a list of blog names. \n",
    "Reads a json file that contains: blog name (school name), author (input username), twitter config dir, domain name (school name - space and crap),\n",
    "\n",
    "Do login/logout via blog post. \n",
    "\n",
    "Title should accept spaces - slug should be edited to remove space and replace with -"
   ]
  },
  {
   "cell_type": "code",
   "execution_count": 1,
   "metadata": {
    "collapsed": false
   },
   "outputs": [],
   "source": [
    "import os\n",
    "import getpass\n",
    "from walkdir import filtered_walk, dir_paths, all_paths, file_paths\n",
    "import arrow\n",
    "#import nikola\n",
    "#from TwitterFollowBot import TwitterBot"
   ]
  },
  {
   "cell_type": "code",
   "execution_count": 135,
   "metadata": {
    "collapsed": false
   },
   "outputs": [],
   "source": [
    "raw = arrow.now()"
   ]
  },
  {
   "cell_type": "code",
   "execution_count": 136,
   "metadata": {
    "collapsed": true
   },
   "outputs": [],
   "source": [
    "def returntime():\n",
    "    return raw.strftime('%H:%M:%S')\n"
   ]
  },
  {
   "cell_type": "code",
   "execution_count": 137,
   "metadata": {
    "collapsed": false
   },
   "outputs": [],
   "source": [
    "yraw = raw.strftime(\"%Y\")\n",
    "mntaw = raw.strftime(\"%m\")\n",
    "dytaw = raw.strftime(\"%d\")\n",
    "#gmtz.strftime(\"%Y\")"
   ]
  },
  {
   "cell_type": "code",
   "execution_count": 138,
   "metadata": {
    "collapsed": true
   },
   "outputs": [],
   "source": [
    "fulda = yraw + '/' + mntaw + '/' + dytaw"
   ]
  },
  {
   "cell_type": "code",
   "execution_count": 139,
   "metadata": {
    "collapsed": false
   },
   "outputs": [],
   "source": [
    "fultim = fulda + ' ' + returntime()"
   ]
  },
  {
   "cell_type": "code",
   "execution_count": 140,
   "metadata": {
    "collapsed": false
   },
   "outputs": [],
   "source": [
    "datim = str(raw.datetime)"
   ]
  },
  {
   "cell_type": "code",
   "execution_count": 146,
   "metadata": {
    "collapsed": false
   },
   "outputs": [
    {
     "data": {
      "text/plain": [
       "'2015/10/09 13:28:13'"
      ]
     },
     "execution_count": 146,
     "metadata": {},
     "output_type": "execute_result"
    }
   ],
   "source": [
    "fultim"
   ]
  },
  {
   "cell_type": "code",
   "execution_count": null,
   "metadata": {
    "collapsed": true
   },
   "outputs": [],
   "source": []
  },
  {
   "cell_type": "code",
   "execution_count": null,
   "metadata": {
    "collapsed": true
   },
   "outputs": [],
   "source": []
  },
  {
   "cell_type": "code",
   "execution_count": 7,
   "metadata": {
    "collapsed": false
   },
   "outputs": [],
   "source": [
    "#fultim"
   ]
  },
  {
   "cell_type": "code",
   "execution_count": 8,
   "metadata": {
    "collapsed": true
   },
   "outputs": [],
   "source": [
    "#gtur = getpass.getuser()"
   ]
  },
  {
   "cell_type": "code",
   "execution_count": 9,
   "metadata": {
    "collapsed": false
   },
   "outputs": [],
   "source": [
    "#lisbbkn = os.listdir('/home/' + gtur + '/brobeurkidsdotcom/posts')"
   ]
  },
  {
   "cell_type": "code",
   "execution_count": 10,
   "metadata": {
    "collapsed": false
   },
   "outputs": [],
   "source": [
    "#lisbbkn"
   ]
  },
  {
   "cell_type": "code",
   "execution_count": 11,
   "metadata": {
    "collapsed": false
   },
   "outputs": [],
   "source": [
    "#for lisb in lisbbkn:\n",
    "#    if '.ipynb' in lisb:\n",
    "#        print lisb  "
   ]
  },
  {
   "cell_type": "code",
   "execution_count": 12,
   "metadata": {
    "collapsed": true
   },
   "outputs": [],
   "source": [
    "#Name of notebook you want to turn into a blog\n",
    "#Could check the folder (walkdir) for files not \n",
    "#in the wcmckee.com posts folder.\n",
    "#Tags. Modules used. \n",
    "#Look at the file and extract out modules imported,\n",
    "#using these as tags."
   ]
  },
  {
   "cell_type": "code",
   "execution_count": 83,
   "metadata": {
    "collapsed": false
   },
   "outputs": [
    {
     "name": "stdout",
     "output_type": "stream",
     "text": [
      "blog dir: /home/wcmckee/writersdenhamilton/\n"
     ]
    }
   ],
   "source": [
    "podir = input('blog dir: ')"
   ]
  },
  {
   "cell_type": "code",
   "execution_count": 84,
   "metadata": {
    "collapsed": false
   },
   "outputs": [
    {
     "name": "stdout",
     "output_type": "stream",
     "text": [
      "Name of file to blog: sherlock\n"
     ]
    }
   ],
   "source": [
    "nbog = input('Name of file to blog: ')"
   ]
  },
  {
   "cell_type": "code",
   "execution_count": 85,
   "metadata": {
    "collapsed": false
   },
   "outputs": [
    {
     "name": "stdout",
     "output_type": "stream",
     "text": [
      "Extension of file to blog: .rst\n"
     ]
    }
   ],
   "source": [
    "etnam = input('Extension of file to blog: ')"
   ]
  },
  {
   "cell_type": "code",
   "execution_count": 86,
   "metadata": {
    "collapsed": false
   },
   "outputs": [
    {
     "name": "stdout",
     "output_type": "stream",
     "text": [
      "post tags: notes\n"
     ]
    }
   ],
   "source": [
    "tagmak = input('post tags: ')"
   ]
  },
  {
   "cell_type": "code",
   "execution_count": 87,
   "metadata": {
    "collapsed": false
   },
   "outputs": [
    {
     "name": "stdout",
     "output_type": "stream",
     "text": [
      "post author: wcmckee\n"
     ]
    }
   ],
   "source": [
    "catmak = input('post author: ')"
   ]
  },
  {
   "cell_type": "code",
   "execution_count": 149,
   "metadata": {
    "collapsed": false
   },
   "outputs": [],
   "source": [
    "rstme = ('.. title: ' + nbog + ' \\n' + '.. slug: ' + nbog + ' \\n' + '.. date: ' + fultim + ' \\n' + '.. author: ' + catmak)"
   ]
  },
  {
   "cell_type": "code",
   "execution_count": null,
   "metadata": {
    "collapsed": true
   },
   "outputs": [],
   "source": []
  },
  {
   "cell_type": "code",
   "execution_count": 89,
   "metadata": {
    "collapsed": false
   },
   "outputs": [],
   "source": [
    "#pear = input('path to search: ')"
   ]
  },
  {
   "cell_type": "code",
   "execution_count": 90,
   "metadata": {
    "collapsed": true
   },
   "outputs": [],
   "source": [
    "jsve = dict()"
   ]
  },
  {
   "cell_type": "code",
   "execution_count": 91,
   "metadata": {
    "collapsed": false
   },
   "outputs": [
    {
     "data": {
      "text/plain": [
       "'sherlock.rst'"
      ]
     },
     "execution_count": 91,
     "metadata": {},
     "output_type": "execute_result"
    }
   ],
   "source": [
    "nbog + etnam"
   ]
  },
  {
   "cell_type": "code",
   "execution_count": 92,
   "metadata": {
    "collapsed": false
   },
   "outputs": [
    {
     "name": "stdout",
     "output_type": "stream",
     "text": [
      "Write content? y/N \n",
      "path to search: y/N\n",
      "path of file: /home/wcmckee/bbpost/\n"
     ]
    }
   ],
   "source": [
    "#Write the blog post\n",
    "#Ask to write content or publish \n",
    "writecont = input('Write content? y/N ')\n",
    "if 'y' in writecont:\n",
    "    contenmak = input('content: ')\n",
    "\n",
    "else:\n",
    "    #search or manually locate fil.\n",
    "    pear = input('path to search: y/N')\n",
    "    if 'y' in pear:\n",
    "        files = file_paths(filtered_walk(pear, depth=100, included_files=[nbog + etnam]))\n",
    "        for fil in files:\n",
    "            print (fil)\n",
    "            jsve.update({'filefound' : fil})\n",
    "    else:\n",
    "        patlim = input('path of file: ')\n",
    "        jsve.update({'filefound' : patlim + nbog + etnam})\n"
   ]
  },
  {
   "cell_type": "code",
   "execution_count": 93,
   "metadata": {
    "collapsed": false
   },
   "outputs": [],
   "source": [
    "#fil"
   ]
  },
  {
   "cell_type": "code",
   "execution_count": 94,
   "metadata": {
    "collapsed": true
   },
   "outputs": [],
   "source": [
    "#add extra tags in "
   ]
  },
  {
   "cell_type": "code",
   "execution_count": 95,
   "metadata": {
    "collapsed": false
   },
   "outputs": [
    {
     "data": {
      "text/plain": [
       "{'filefound': '/home/wcmckee/bbpost/sherlock.rst'}"
      ]
     },
     "execution_count": 95,
     "metadata": {},
     "output_type": "execute_result"
    }
   ],
   "source": [
    "jsve"
   ]
  },
  {
   "cell_type": "code",
   "execution_count": 96,
   "metadata": {
    "collapsed": false
   },
   "outputs": [],
   "source": [
    "#lastbit = contenmak[:50]"
   ]
  },
  {
   "cell_type": "code",
   "execution_count": 97,
   "metadata": {
    "collapsed": false
   },
   "outputs": [],
   "source": [
    "#contenmak[-50:]"
   ]
  },
  {
   "cell_type": "code",
   "execution_count": 98,
   "metadata": {
    "collapsed": false
   },
   "outputs": [],
   "source": [
    "#sampb = lastbit + '... ' + contenmak[-50:]"
   ]
  },
  {
   "cell_type": "code",
   "execution_count": 99,
   "metadata": {
    "collapsed": false
   },
   "outputs": [],
   "source": [
    "#sampb"
   ]
  },
  {
   "cell_type": "code",
   "execution_count": null,
   "metadata": {
    "collapsed": true
   },
   "outputs": [],
   "source": []
  },
  {
   "cell_type": "code",
   "execution_count": 100,
   "metadata": {
    "collapsed": false
   },
   "outputs": [],
   "source": [
    "#savewhere = input('dir to save post: ')"
   ]
  },
  {
   "cell_type": "code",
   "execution_count": 101,
   "metadata": {
    "collapsed": false
   },
   "outputs": [],
   "source": [
    "my_list = tagmak.split(\",\")"
   ]
  },
  {
   "cell_type": "code",
   "execution_count": 102,
   "metadata": {
    "collapsed": false
   },
   "outputs": [
    {
     "data": {
      "text/plain": [
       "['notes']"
      ]
     },
     "execution_count": 102,
     "metadata": {},
     "output_type": "execute_result"
    }
   ],
   "source": [
    "my_list"
   ]
  },
  {
   "cell_type": "code",
   "execution_count": 103,
   "metadata": {
    "collapsed": true
   },
   "outputs": [],
   "source": [
    "hashtag = list()"
   ]
  },
  {
   "cell_type": "code",
   "execution_count": 104,
   "metadata": {
    "collapsed": false
   },
   "outputs": [],
   "source": [
    "for myl in my_list:\n",
    "    #print ('#' + myl.replace(' ', ''))\n",
    "    hashtag.append(('#' + myl.replace(' ', '')))"
   ]
  },
  {
   "cell_type": "code",
   "execution_count": 105,
   "metadata": {
    "collapsed": false
   },
   "outputs": [],
   "source": [
    "#bro_bot = TwitterBot('/home/wcmckee/wcmnot/wcmckee-notebook/config.txt')\n",
    "#bro_ot = TwitterBot(podir + '/config.txt')"
   ]
  },
  {
   "cell_type": "code",
   "execution_count": 106,
   "metadata": {
    "collapsed": false
   },
   "outputs": [],
   "source": [
    "#for has in hashtag:\n",
    "#    print (has)\n",
    "#    bro_bot.auto_follow(has, count=1)"
   ]
  },
  {
   "cell_type": "code",
   "execution_count": 107,
   "metadata": {
    "collapsed": true
   },
   "outputs": [],
   "source": [
    "endstring = ''\n",
    "for s in hashtag:\n",
    "    endstring += s + ' '\n",
    "\n"
   ]
  },
  {
   "cell_type": "code",
   "execution_count": 108,
   "metadata": {
    "collapsed": false
   },
   "outputs": [
    {
     "data": {
      "text/plain": [
       "'#notes '"
      ]
     },
     "execution_count": 108,
     "metadata": {},
     "output_type": "execute_result"
    }
   ],
   "source": [
    "endstring"
   ]
  },
  {
   "cell_type": "code",
   "execution_count": null,
   "metadata": {
    "collapsed": true
   },
   "outputs": [],
   "source": []
  },
  {
   "cell_type": "code",
   "execution_count": 109,
   "metadata": {
    "collapsed": false
   },
   "outputs": [],
   "source": [
    "jsve.update({'filename' : nbog + etnam, 'tags' : tagmak, 'datetime' : datim})"
   ]
  },
  {
   "cell_type": "code",
   "execution_count": 110,
   "metadata": {
    "collapsed": true
   },
   "outputs": [],
   "source": [
    "#jsve.update({})"
   ]
  },
  {
   "cell_type": "code",
   "execution_count": 111,
   "metadata": {
    "collapsed": false
   },
   "outputs": [
    {
     "data": {
      "text/plain": [
       "{'datetime': '2015-10-09 00:07:13.070409+00:00',\n",
       " 'filefound': '/home/wcmckee/bbpost/sherlock.rst',\n",
       " 'filename': 'sherlock.rst',\n",
       " 'tags': 'notes'}"
      ]
     },
     "execution_count": 111,
     "metadata": {},
     "output_type": "execute_result"
    }
   ],
   "source": [
    "jsve"
   ]
  },
  {
   "cell_type": "code",
   "execution_count": 112,
   "metadata": {
    "collapsed": true
   },
   "outputs": [],
   "source": [
    "#Search for blog through folders. "
   ]
  },
  {
   "cell_type": "code",
   "execution_count": 113,
   "metadata": {
    "collapsed": true
   },
   "outputs": [],
   "source": [
    "#files = file_paths(filtered_walk(pear, depth=100, included_files=[nbog + etnam]))"
   ]
  },
  {
   "cell_type": "code",
   "execution_count": 114,
   "metadata": {
    "collapsed": false
   },
   "outputs": [],
   "source": [
    "#print files"
   ]
  },
  {
   "cell_type": "code",
   "execution_count": 115,
   "metadata": {
    "collapsed": false
   },
   "outputs": [],
   "source": [
    "#for fil in files:\n",
    "#    print (fil)\n",
    "#    jsve.update({'filefound' : fil})"
   ]
  },
  {
   "cell_type": "code",
   "execution_count": 116,
   "metadata": {
    "collapsed": false
   },
   "outputs": [],
   "source": [
    "#jsve['filefound']"
   ]
  },
  {
   "cell_type": "code",
   "execution_count": 117,
   "metadata": {
    "collapsed": true
   },
   "outputs": [],
   "source": [
    "#opblog = ('/home/wcmckee/github/')"
   ]
  },
  {
   "cell_type": "code",
   "execution_count": 118,
   "metadata": {
    "collapsed": true
   },
   "outputs": [],
   "source": [
    "#podir = ('/home/wcmckee/github/wcmckee.com/posts/')"
   ]
  },
  {
   "cell_type": "code",
   "execution_count": 119,
   "metadata": {
    "collapsed": false
   },
   "outputs": [],
   "source": [
    "jsve.update({'blogdir' : podir})"
   ]
  },
  {
   "cell_type": "code",
   "execution_count": 120,
   "metadata": {
    "collapsed": true
   },
   "outputs": [],
   "source": [
    "postsdir = podir + ('/posts/' )"
   ]
  },
  {
   "cell_type": "code",
   "execution_count": 121,
   "metadata": {
    "collapsed": false
   },
   "outputs": [],
   "source": [
    "#os.system('cp ' + jsve['filefound'] + ' ' + postsdir)"
   ]
  },
  {
   "cell_type": "code",
   "execution_count": 122,
   "metadata": {
    "collapsed": false
   },
   "outputs": [],
   "source": [
    "#for fie in files:\n",
    "    #print fie\n",
    "    #print (fie)\n",
    "    #print ('Copy ' + fie + ' to ' + postsdir)\n",
    "    #os.system('cp ' + fie + ' ' + postsdir)"
   ]
  },
  {
   "cell_type": "code",
   "execution_count": 123,
   "metadata": {
    "collapsed": false
   },
   "outputs": [
    {
     "data": {
      "text/plain": [
       "{'blogdir': '/home/wcmckee/writersdenhamilton/',\n",
       " 'datetime': '2015-10-09 00:07:13.070409+00:00',\n",
       " 'filefound': '/home/wcmckee/bbpost/sherlock.rst',\n",
       " 'filename': 'sherlock.rst',\n",
       " 'tags': 'notes'}"
      ]
     },
     "execution_count": 123,
     "metadata": {},
     "output_type": "execute_result"
    }
   ],
   "source": [
    "jsve"
   ]
  },
  {
   "cell_type": "code",
   "execution_count": null,
   "metadata": {
    "collapsed": true
   },
   "outputs": [],
   "source": []
  },
  {
   "cell_type": "code",
   "execution_count": 124,
   "metadata": {
    "collapsed": false
   },
   "outputs": [
    {
     "data": {
      "text/plain": [
       "0"
      ]
     },
     "execution_count": 124,
     "metadata": {},
     "output_type": "execute_result"
    }
   ],
   "source": [
    "os.system('cp ' + jsve['filefound'] + ' ' + postsdir)"
   ]
  },
  {
   "cell_type": "code",
   "execution_count": 125,
   "metadata": {
    "collapsed": false
   },
   "outputs": [],
   "source": [
    "if 'y' in writecont:\n",
    "    oprst = open(podir + '/posts/' + nbog + etnam, 'w')\n",
    "    oprst.write(contenmak)\n",
    "    oprst.close()\n",
    "else:\n",
    "    os.system('cp ' + jsve['filefound'] + ' ' + postsdir)"
   ]
  },
  {
   "cell_type": "code",
   "execution_count": 150,
   "metadata": {
    "collapsed": false
   },
   "outputs": [],
   "source": [
    "opeza = open(podir + '/posts/' + nbog + '.meta', 'w')\n",
    "opeza.write(rstme)\n",
    "\n",
    "opeza.close()"
   ]
  },
  {
   "cell_type": "code",
   "execution_count": 127,
   "metadata": {
    "collapsed": false
   },
   "outputs": [],
   "source": [
    "#print (podir + '/posts/' + nbog + '.meta')"
   ]
  },
  {
   "cell_type": "code",
   "execution_count": 128,
   "metadata": {
    "collapsed": false
   },
   "outputs": [],
   "source": [
    "#os.chdir(podir)\n",
    "#os.system('nikola build')"
   ]
  },
  {
   "cell_type": "code",
   "execution_count": 129,
   "metadata": {
    "collapsed": false
   },
   "outputs": [],
   "source": [
    "#os.system('rsync -azP ' + postsdir + ' ' + 'wcmckee@brobeur.com:/home/wcmckee/bb/blog/posts')"
   ]
  },
  {
   "cell_type": "code",
   "execution_count": 130,
   "metadata": {
    "collapsed": false
   },
   "outputs": [],
   "source": [
    "#bro_bot.search_tweets(ndstring)"
   ]
  },
  {
   "cell_type": "code",
   "execution_count": 131,
   "metadata": {
    "collapsed": false
   },
   "outputs": [],
   "source": [
    "#bro_bot.send_tweet(nbog + ' ' + endstring + ' http://brobeur.com/blog/output/posts/' + nbog + '.html')"
   ]
  },
  {
   "cell_type": "code",
   "execution_count": null,
   "metadata": {
    "collapsed": true
   },
   "outputs": [],
   "source": []
  },
  {
   "cell_type": "code",
   "execution_count": null,
   "metadata": {
    "collapsed": true
   },
   "outputs": [],
   "source": []
  },
  {
   "cell_type": "code",
   "execution_count": null,
   "metadata": {
    "collapsed": true
   },
   "outputs": [],
   "source": []
  }
 ],
 "metadata": {
  "kernelspec": {
   "display_name": "Python 3",
   "language": "python",
   "name": "python3"
  },
  "language_info": {
   "codemirror_mode": {
    "name": "ipython",
    "version": 3
   },
   "file_extension": ".py",
   "mimetype": "text/x-python",
   "name": "python",
   "nbconvert_exporter": "python",
   "pygments_lexer": "ipython3",
   "version": "3.4.2"
  }
 },
 "nbformat": 4,
 "nbformat_minor": 0
}
