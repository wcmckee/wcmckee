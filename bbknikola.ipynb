{
 "cells": [
  {
   "cell_type": "markdown",
   "metadata": {},
   "source": [
    "<h1>BroBeurKids Nikola</h1>\n",
    "\n",
    "This script deals with creating data for BroBeurKids/wcmckee Nikola site.\n",
    "\n",
    "The directory to look at is brobeurkidsdotcom/posts \n",
    "or folder\n",
    "\n",
    "wcmckee.com /posts\n",
    "\n",
    "/github folders are scanned with the input for folders.\n",
    "It's basically a search for notebook, then turn notebook into a blog posts.\n",
    "\n",
    "Arrow is used to generate the date (YR/MONTH/DAY),\n",
    "and time(HR : MIN: SEC)\n",
    "\n",
    "This is where ipynb files are kept. \n",
    "\n",
    "This script generates the .meta files needed. \n",
    "\n",
    "The meta file is called the same as the ipynb.  It also contains the slug and title, and date.\n",
    "The date is collected by looking at the save date of the ipynb.\n",
    "\n"
   ]
  },
  {
   "cell_type": "code",
   "execution_count": 29,
   "metadata": {
    "collapsed": false
   },
   "outputs": [],
   "source": [
    "import os\n",
    "import getpass\n",
    "from walkdir import filtered_walk, dir_paths, all_paths, file_paths\n",
    "import arrow\n",
    "#import nikola\n"
   ]
  },
  {
   "cell_type": "code",
   "execution_count": 30,
   "metadata": {
    "collapsed": false
   },
   "outputs": [],
   "source": [
    "raw = arrow.utcnow()"
   ]
  },
  {
   "cell_type": "code",
   "execution_count": 31,
   "metadata": {
    "collapsed": true
   },
   "outputs": [],
   "source": [
    "def returntime():\n",
    "    return raw.strftime('%H:%M:%S')\n"
   ]
  },
  {
   "cell_type": "code",
   "execution_count": 32,
   "metadata": {
    "collapsed": false
   },
   "outputs": [
    {
     "data": {
      "text/plain": [
       "'01:55:39'"
      ]
     },
     "execution_count": 32,
     "metadata": {},
     "output_type": "execute_result"
    }
   ],
   "source": [
    "returntime()"
   ]
  },
  {
   "cell_type": "code",
   "execution_count": 33,
   "metadata": {
    "collapsed": false
   },
   "outputs": [],
   "source": [
    "yraw = raw.strftime(\"%Y\")\n",
    "mntaw = raw.strftime(\"%m\")\n",
    "dytaw = raw.strftime(\"%d\")\n",
    "#gmtz.strftime(\"%Y\")"
   ]
  },
  {
   "cell_type": "code",
   "execution_count": 34,
   "metadata": {
    "collapsed": true
   },
   "outputs": [],
   "source": [
    "fulda = yraw + '/' + mntaw + '/' + dytaw"
   ]
  },
  {
   "cell_type": "code",
   "execution_count": 35,
   "metadata": {
    "collapsed": false
   },
   "outputs": [],
   "source": [
    "fultim = fulda + ' ' + returntime()"
   ]
  },
  {
   "cell_type": "code",
   "execution_count": 36,
   "metadata": {
    "collapsed": false
   },
   "outputs": [],
   "source": [
    "#fultim"
   ]
  },
  {
   "cell_type": "code",
   "execution_count": 37,
   "metadata": {
    "collapsed": true
   },
   "outputs": [],
   "source": [
    "#gtur = getpass.getuser()"
   ]
  },
  {
   "cell_type": "code",
   "execution_count": 38,
   "metadata": {
    "collapsed": false
   },
   "outputs": [],
   "source": [
    "#lisbbkn = os.listdir('/home/' + gtur + '/brobeurkidsdotcom/posts')"
   ]
  },
  {
   "cell_type": "code",
   "execution_count": 39,
   "metadata": {
    "collapsed": false
   },
   "outputs": [],
   "source": [
    "#lisbbkn"
   ]
  },
  {
   "cell_type": "code",
   "execution_count": 40,
   "metadata": {
    "collapsed": false
   },
   "outputs": [],
   "source": [
    "#for lisb in lisbbkn:\n",
    "#    if '.ipynb' in lisb:\n",
    "#        print lisb  "
   ]
  },
  {
   "cell_type": "code",
   "execution_count": 41,
   "metadata": {
    "collapsed": true
   },
   "outputs": [],
   "source": [
    "#Name of notebook you want to turn into a blog\n",
    "#Could check the folder (walkdir) for files not \n",
    "#in the wcmckee.com posts folder.\n",
    "#Tags. Modules used. \n",
    "#Look at the file and extract out modules imported,\n",
    "#using these as tags."
   ]
  },
  {
   "cell_type": "code",
   "execution_count": 42,
   "metadata": {
    "collapsed": false
   },
   "outputs": [
    {
     "name": "stdout",
     "output_type": "stream",
     "text": [
      "Name of file to blog: ld33\n"
     ]
    }
   ],
   "source": [
    "nbog = input('Name of file to blog: ')"
   ]
  },
  {
   "cell_type": "code",
   "execution_count": 43,
   "metadata": {
    "collapsed": false
   },
   "outputs": [
    {
     "name": "stdout",
     "output_type": "stream",
     "text": [
      "Extension of file to blog: .rst\n"
     ]
    }
   ],
   "source": [
    "etnam = input('Extension of file to blog: ')"
   ]
  },
  {
   "cell_type": "code",
   "execution_count": 44,
   "metadata": {
    "collapsed": false
   },
   "outputs": [
    {
     "name": "stdout",
     "output_type": "stream",
     "text": [
      "post tags: ld33, ldjam, gamejam\n"
     ]
    }
   ],
   "source": [
    "tagmak = input('post tags: ')"
   ]
  },
  {
   "cell_type": "code",
   "execution_count": 45,
   "metadata": {
    "collapsed": false
   },
   "outputs": [
    {
     "name": "stdout",
     "output_type": "stream",
     "text": [
      "path to search: /home/wcmckee\n"
     ]
    }
   ],
   "source": [
    "pear = input('path to search: ')"
   ]
  },
  {
   "cell_type": "code",
   "execution_count": null,
   "metadata": {
    "collapsed": true
   },
   "outputs": [],
   "source": []
  },
  {
   "cell_type": "code",
   "execution_count": 18,
   "metadata": {
    "collapsed": true
   },
   "outputs": [],
   "source": [
    "#Search for blog through folders. "
   ]
  },
  {
   "cell_type": "code",
   "execution_count": 46,
   "metadata": {
    "collapsed": true
   },
   "outputs": [],
   "source": [
    "files = file_paths(filtered_walk(pear, depth=100, included_files=[nbog + etnam]))"
   ]
  },
  {
   "cell_type": "code",
   "execution_count": 47,
   "metadata": {
    "collapsed": false
   },
   "outputs": [],
   "source": [
    "#print files"
   ]
  },
  {
   "cell_type": "code",
   "execution_count": 48,
   "metadata": {
    "collapsed": true
   },
   "outputs": [],
   "source": [
    "opblog = ('/home/wcmckee/github/')"
   ]
  },
  {
   "cell_type": "code",
   "execution_count": 49,
   "metadata": {
    "collapsed": true
   },
   "outputs": [],
   "source": [
    "#podir = ('/home/wcmckee/github/wcmckee.com/posts/')"
   ]
  },
  {
   "cell_type": "code",
   "execution_count": 50,
   "metadata": {
    "collapsed": false
   },
   "outputs": [
    {
     "name": "stdout",
     "output_type": "stream",
     "text": [
      "blog dir: /home/wcmckee/github/brobeurdotcom\n"
     ]
    }
   ],
   "source": [
    "podir = input('blog dir: ')"
   ]
  },
  {
   "cell_type": "code",
   "execution_count": 55,
   "metadata": {
    "collapsed": true
   },
   "outputs": [],
   "source": [
    "postsdir = podir + ('/posts/' )"
   ]
  },
  {
   "cell_type": "code",
   "execution_count": null,
   "metadata": {
    "collapsed": true
   },
   "outputs": [],
   "source": []
  },
  {
   "cell_type": "code",
   "execution_count": 56,
   "metadata": {
    "collapsed": false
   },
   "outputs": [],
   "source": [
    "for fie in files:\n",
    "    #print fie\n",
    "    print (fie)\n",
    "    print ('Copy ' + fie ' to ' + postsdir)\n",
    "    os.system('cp ' + fie + ' ' + postsdir)"
   ]
  },
  {
   "cell_type": "code",
   "execution_count": 57,
   "metadata": {
    "collapsed": true
   },
   "outputs": [],
   "source": [
    "opeza = open(podir + nbog + '.meta', 'w')\n",
    "opeza.write(nbog + '\\n' + nbog + '\\n' + fultim + '\\n' + tagmak)\n",
    "opeza.close()"
   ]
  },
  {
   "cell_type": "code",
   "execution_count": null,
   "metadata": {
    "collapsed": true
   },
   "outputs": [],
   "source": []
  },
  {
   "cell_type": "code",
   "execution_count": 58,
   "metadata": {
    "collapsed": false
   },
   "outputs": [
    {
     "data": {
      "text/plain": [
       "0"
      ]
     },
     "execution_count": 58,
     "metadata": {},
     "output_type": "execute_result"
    }
   ],
   "source": [
    "os.chdir(podir)\n",
    "os.system('nikola build')"
   ]
  },
  {
   "cell_type": "code",
   "execution_count": null,
   "metadata": {
    "collapsed": true
   },
   "outputs": [],
   "source": []
  }
 ],
 "metadata": {
  "kernelspec": {
   "display_name": "Python 3",
   "language": "python",
   "name": "python3"
  },
  "language_info": {
   "codemirror_mode": {
    "name": "ipython",
    "version": 3
   },
   "file_extension": ".py",
   "mimetype": "text/x-python",
   "name": "python",
   "nbconvert_exporter": "python",
   "pygments_lexer": "ipython3",
   "version": "3.4.2"
  }
 },
 "nbformat": 4,
 "nbformat_minor": 0
}
