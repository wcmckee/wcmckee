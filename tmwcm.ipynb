{
 "cells": [
  {
   "cell_type": "markdown",
   "metadata": {},
   "source": [
    "Notebook to explore the TradeMe api"
   ]
  },
  {
   "cell_type": "code",
   "execution_count": 13,
   "metadata": {
    "collapsed": true
   },
   "outputs": [],
   "source": [
    "#!/usr/bin/python\n",
    "\n",
    "#import urllib2\n",
    "#from urllib import urlencode\n",
    "import requests\n",
    "import json\n",
    "import datetime\n",
    "import re\n",
    "\n",
    "\n",
    "class Api(object):\n",
    "    '''A trademe api'''\n",
    "    prod_url = 'http://api.trademe.co.nz/v1/'\n",
    "    sandbox_url = 'http://api.tmsandbox.co.nz/v1/'\n",
    "\n",
    "    def  __init__(self, test=True):\n",
    "        if test is True:\n",
    "            self.base_url = self.sandbox_url\n",
    "        else:\n",
    "            self.base_url = self.prod_url\n",
    "\n",
    "    def get(self, path, query=None):\n",
    "        self.query = \"\"\n",
    "        if query is not None:\n",
    "            self.query = \"?\" + (query)\n",
    "        url = self.base_url + path + self.query\n",
    "        r = requests.get(url)\n",
    "        try:\n",
    "            response = requests.get(r)\n",
    "\n",
    "            # DEBUG: uncomment to print the full url requested\n",
    "            #print response.geturl()\n",
    "\n",
    "        except urllib2.URLError, e:\n",
    "            if hasattr(e, 'reason'):\n",
    "                # URLError exceptions such as network or connection errors\n",
    "                #print 'We failed to reach a server.'\n",
    "                print 'Reason: ', e.reason\n",
    "            elif hasattr(e, 'code'):\n",
    "                # HTTPError exceptions such as 404 page not found\n",
    "                #print 'The server couldn\\'t fulfill the request.'\n",
    "                print 'Error code: ', e.code\n",
    "            raise\n",
    "        else:\n",
    "            return response\n",
    "\n",
    "    def search(self, query=None, file_format=\"json\"):\n",
    "        response = self.get(\"Search/General.\" + file_format, query)\n",
    "        return response.read()\n",
    "\n",
    "    def search_motors_used(self, query=None,\n",
    "                           file_format=\"json\"):\n",
    "        path = \"Search/Motors/Used.\" + file_format\n",
    "        response = self.get(path, query)\n",
    "        return response.read()\n",
    "\n",
    "    def categories(self, category=None, region=None,\n",
    "                   with_counts=False, file_format=\"json\"):\n",
    "        if category is None:\n",
    "            response = self.get(\"Categories.\" + file_format)\n",
    "        else:\n",
    "            path = \"Categories/\" + category + \".\" + file_format\n",
    "            if with_counts is False:\n",
    "                response = self.get(path)\n",
    "            else:\n",
    "                if region is None:\n",
    "                    response = self.get(path, {\"with_counts\": with_counts})\n",
    "                else:\n",
    "                    response = self.get(path, {\"region\": region, \"with_counts\": with_counts})\n",
    "\n",
    "        return response.read()\n",
    "\n",
    "    def categories_updated(self):\n",
    "        ''' Takes a response like {\"LastUpdated\":\"\\/Date(1337834025323)\\/\"} and returns a datetime object'''\n",
    "        def as_datetime(dct):\n",
    "            if 'LastUpdated' in dct:\n",
    "                m = re.search('\\d{10}', dct[\"LastUpdated\"])\n",
    "                timestamp = int(m.group(0))\n",
    "                return datetime.datetime.fromtimestamp(timestamp)\n",
    "            return dct\n",
    "\n",
    "        path = \"Categories/lastupdated.json\"\n",
    "        try:\n",
    "            response = self.get(path)\n",
    "            last_updated = json.load(response, object_hook=as_datetime)\n",
    "        except:\n",
    "            print \"Exception getting last updated - using epoch\"\n",
    "            last_updated = datetime.datetime(1970, 1, 1)\n",
    "        return last_updated\n",
    "\n",
    "    def latest(self, page=None, region=None, rows=None, file_format=\"json\"):\n",
    "        path = \"Listings/Latest.\" + file_format\n",
    "        query = {}\n",
    "        if page is not None:\n",
    "            query[\"page\"] = page\n",
    "\n",
    "        if region is not None:\n",
    "            query[\"region\"] = region\n",
    "\n",
    "        if rows is not None:\n",
    "            query[\"rows\"] = rows\n",
    "\n",
    "        if not query:\n",
    "            query = None\n",
    "\n",
    "        response = self.get(path, query)\n",
    "        return response.read()\n"
   ]
  },
  {
   "cell_type": "code",
   "execution_count": 14,
   "metadata": {
    "collapsed": false
   },
   "outputs": [
    {
     "data": {
      "text/plain": [
       "<unbound method Api.latest>"
      ]
     },
     "execution_count": 14,
     "metadata": {},
     "output_type": "execute_result"
    }
   ],
   "source": [
    "Api.latest"
   ]
  },
  {
   "cell_type": "code",
   "execution_count": 15,
   "metadata": {
    "collapsed": false
   },
   "outputs": [
    {
     "ename": "TypeError",
     "evalue": "unbound method search() must be called with Api instance as first argument (got str instance instead)",
     "output_type": "error",
     "traceback": [
      "\u001b[1;31m---------------------------------------------------------------------------\u001b[0m",
      "\u001b[1;31mTypeError\u001b[0m                                 Traceback (most recent call last)",
      "\u001b[1;32m<ipython-input-15-ab98906349a5>\u001b[0m in \u001b[0;36m<module>\u001b[1;34m()\u001b[0m\n\u001b[1;32m----> 1\u001b[1;33m \u001b[0mApi\u001b[0m\u001b[1;33m.\u001b[0m\u001b[0msearch\u001b[0m\u001b[1;33m(\u001b[0m\u001b[1;34m'raspberry'\u001b[0m\u001b[1;33m)\u001b[0m\u001b[1;33m\u001b[0m\u001b[0m\n\u001b[0m",
      "\u001b[1;31mTypeError\u001b[0m: unbound method search() must be called with Api instance as first argument (got str instance instead)"
     ]
    }
   ],
   "source": [
    "Api.search('raspberry')"
   ]
  },
  {
   "cell_type": "code",
   "execution_count": 19,
   "metadata": {
    "collapsed": false
   },
   "outputs": [
    {
     "ename": "TypeError",
     "evalue": "unbound method get() must be called with Api instance as first argument (got nothing instead)",
     "output_type": "error",
     "traceback": [
      "\u001b[1;31m---------------------------------------------------------------------------\u001b[0m",
      "\u001b[1;31mTypeError\u001b[0m                                 Traceback (most recent call last)",
      "\u001b[1;32m<ipython-input-19-823f414157c9>\u001b[0m in \u001b[0;36m<module>\u001b[1;34m()\u001b[0m\n\u001b[1;32m----> 1\u001b[1;33m \u001b[0mtrap\u001b[0m \u001b[1;33m=\u001b[0m \u001b[0mApi\u001b[0m\u001b[1;33m.\u001b[0m\u001b[0mget\u001b[0m\u001b[1;33m(\u001b[0m\u001b[1;33m)\u001b[0m\u001b[1;33m\u001b[0m\u001b[0m\n\u001b[0m",
      "\u001b[1;31mTypeError\u001b[0m: unbound method get() must be called with Api instance as first argument (got nothing instead)"
     ]
    }
   ],
   "source": [
    "trap = Api.get()"
   ]
  },
  {
   "cell_type": "code",
   "execution_count": null,
   "metadata": {
    "collapsed": true
   },
   "outputs": [],
   "source": []
  }
 ],
 "metadata": {
  "kernelspec": {
   "display_name": "Python 2",
   "name": "python2"
  },
  "language_info": {
   "codemirror_mode": {
    "name": "ipython",
    "version": 2
   },
   "file_extension": ".py",
   "mimetype": "text/x-python",
   "name": "python",
   "nbconvert_exporter": "python",
   "pygments_lexer": "ipython2",
   "version": "2.7.8"
  }
 },
 "nbformat": 4,
 "nbformat_minor": 0
}
