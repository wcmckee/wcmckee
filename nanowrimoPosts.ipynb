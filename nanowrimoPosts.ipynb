{
 "cells": [
  {
   "cell_type": "markdown",
   "metadata": {},
   "source": [
    "nanowrite blog post gener\n",
    "\n",
    "script to create blog posts templates november for nano write.\n",
    "\n",
    "Creates 30 posts. One for each day of the month.\n",
    "\n",
    "rst files + meta\n",
    "\n",
    "Save type as you type it to json file that has time stamp attached to it. \n",
    "\n",
    "rst name is nanowrimo (year) day (day) "
   ]
  },
  {
   "cell_type": "code",
   "execution_count": 3,
   "metadata": {
    "collapsed": true
   },
   "outputs": [],
   "source": [
    "import os"
   ]
  },
  {
   "cell_type": "code",
   "execution_count": 4,
   "metadata": {
    "collapsed": false
   },
   "outputs": [
    {
     "name": "stdout",
     "output_type": "stream",
     "text": [
      "nanowrimo15day1\n",
      "nanowrimo15day2\n",
      "nanowrimo15day3\n",
      "nanowrimo15day4\n",
      "nanowrimo15day5\n",
      "nanowrimo15day6\n",
      "nanowrimo15day7\n",
      "nanowrimo15day8\n",
      "nanowrimo15day9\n",
      "nanowrimo15day10\n",
      "nanowrimo15day11\n",
      "nanowrimo15day12\n",
      "nanowrimo15day13\n",
      "nanowrimo15day14\n",
      "nanowrimo15day15\n",
      "nanowrimo15day16\n",
      "nanowrimo15day17\n",
      "nanowrimo15day18\n",
      "nanowrimo15day19\n",
      "nanowrimo15day20\n",
      "nanowrimo15day21\n",
      "nanowrimo15day22\n",
      "nanowrimo15day23\n",
      "nanowrimo15day24\n",
      "nanowrimo15day25\n",
      "nanowrimo15day26\n",
      "nanowrimo15day27\n",
      "nanowrimo15day28\n",
      "nanowrimo15day29\n",
      "nanowrimo15day30\n"
     ]
    }
   ],
   "source": [
    "for novran in range(1,31):\n",
    "    print ('nanowrimo15day' + str(novran))"
   ]
  },
  {
   "cell_type": "code",
   "execution_count": 22,
   "metadata": {
    "collapsed": false
   },
   "outputs": [
    {
     "name": "stdout",
     "output_type": "stream",
     "text": [
      "1\n",
      "2\n",
      "3\n",
      "4\n",
      "5\n",
      "6\n",
      "7\n",
      "8\n",
      "9\n",
      "10\n",
      "11\n",
      "12\n",
      "13\n",
      "14\n",
      "15\n",
      "16\n",
      "17\n",
      "18\n",
      "19\n",
      "20\n",
      "21\n",
      "22\n",
      "23\n",
      "24\n",
      "25\n",
      "26\n",
      "27\n",
      "28\n",
      "29\n",
      "30\n"
     ]
    }
   ],
   "source": [
    "for worcu in range(1,31):\n",
    "    print(worcu)\n",
    "    os.system('wc -w /home/wcmckee/Downloads/writersden/posts/nanowrimo15-day' + str(worcu) + '.rst > /home/wcmckee/nano/' + str(worcu))"
   ]
  },
  {
   "cell_type": "code",
   "execution_count": 23,
   "metadata": {
    "collapsed": true
   },
   "outputs": [],
   "source": [
    "mylisit = list()"
   ]
  },
  {
   "cell_type": "code",
   "execution_count": null,
   "metadata": {
    "collapsed": true
   },
   "outputs": [],
   "source": []
  },
  {
   "cell_type": "code",
   "execution_count": 25,
   "metadata": {
    "collapsed": false
   },
   "outputs": [],
   "source": [
    "for worcu in range(1,31):\n",
    "    opfilz = open('/home/wcmckee/nano/' + str(worcu), 'r')\n",
    "    mylisit.append((opfilz.read()))\n",
    "    opfilz.close()"
   ]
  },
  {
   "cell_type": "code",
   "execution_count": 30,
   "metadata": {
    "collapsed": true
   },
   "outputs": [],
   "source": [
    "bahg = list()"
   ]
  },
  {
   "cell_type": "code",
   "execution_count": 40,
   "metadata": {
    "collapsed": true
   },
   "outputs": [],
   "source": [
    "behp = list()"
   ]
  },
  {
   "cell_type": "code",
   "execution_count": null,
   "metadata": {
    "collapsed": true
   },
   "outputs": [],
   "source": []
  },
  {
   "cell_type": "code",
   "execution_count": 43,
   "metadata": {
    "collapsed": false
   },
   "outputs": [
    {
     "name": "stdout",
     "output_type": "stream",
     "text": [
      "2905, /hom\n",
      "1446, /hom\n",
      "1739, /hom\n",
      "2186, /hom\n",
      "1791, /hom\n",
      "1808, /hom\n",
      "2940, /hom\n",
      "1684, /hom\n",
      "1676, /hom\n",
      "1459, /hom\n",
      "1126, /hom\n",
      "1791, /hom\n",
      "1685, /hom\n",
      "1195, /hom\n",
      "2199, /hom\n",
      "985, /home\n",
      "1674, /hom\n",
      "1714, /hom\n",
      "1765, /hom\n",
      "1667, /hom\n",
      "742, /home\n",
      "2294, /hom\n",
      "1992, /hom\n",
      "2689, /hom\n",
      "2606, /hom\n",
      "1904, /hom\n",
      "2436, /hom\n",
      "2950, /hom\n",
      "1, /home/w\n",
      "1, /home/w\n"
     ]
    }
   ],
   "source": [
    "for bah in bahg:\n",
    "    print(bah[0:10])\n",
    "    behp.append(bah[0:10])"
   ]
  },
  {
   "cell_type": "code",
   "execution_count": 49,
   "metadata": {
    "collapsed": false
   },
   "outputs": [
    {
     "name": "stdout",
     "output_type": "stream",
     "text": [
      "2905, /hom\n",
      "1446, /hom\n",
      "1739, /hom\n",
      "2186, /hom\n",
      "1791, /hom\n",
      "1808, /hom\n",
      "2940, /hom\n",
      "1684, /hom\n",
      "1676, /hom\n",
      "1459, /hom\n",
      "1126, /hom\n",
      "1791, /hom\n",
      "1685, /hom\n",
      "1195, /hom\n",
      "2199, /hom\n",
      "985, /home\n",
      "1674, /hom\n",
      "1714, /hom\n",
      "1765, /hom\n",
      "1667, /hom\n",
      "742, /home\n",
      "2294, /hom\n",
      "1992, /hom\n",
      "2689, /hom\n",
      "2606, /hom\n",
      "1904, /hom\n",
      "2436, /hom\n",
      "2950, /hom\n",
      "1, /home/w\n",
      "1, /home/w\n"
     ]
    }
   ],
   "source": [
    "for beh in behp:\n",
    "    print(beh)"
   ]
  },
  {
   "cell_type": "code",
   "execution_count": null,
   "metadata": {
    "collapsed": true
   },
   "outputs": [],
   "source": []
  },
  {
   "cell_type": "code",
   "execution_count": null,
   "metadata": {
    "collapsed": true
   },
   "outputs": [],
   "source": []
  },
  {
   "cell_type": "code",
   "execution_count": null,
   "metadata": {
    "collapsed": true
   },
   "outputs": [],
   "source": []
  },
  {
   "cell_type": "code",
   "execution_count": null,
   "metadata": {
    "collapsed": true
   },
   "outputs": [],
   "source": []
  },
  {
   "cell_type": "code",
   "execution_count": null,
   "metadata": {
    "collapsed": true
   },
   "outputs": [],
   "source": []
  },
  {
   "cell_type": "code",
   "execution_count": null,
   "metadata": {
    "collapsed": true
   },
   "outputs": [],
   "source": []
  },
  {
   "cell_type": "code",
   "execution_count": null,
   "metadata": {
    "collapsed": true
   },
   "outputs": [],
   "source": []
  },
  {
   "cell_type": "code",
   "execution_count": null,
   "metadata": {
    "collapsed": true
   },
   "outputs": [],
   "source": []
  },
  {
   "cell_type": "code",
   "execution_count": null,
   "metadata": {
    "collapsed": true
   },
   "outputs": [],
   "source": []
  },
  {
   "cell_type": "code",
   "execution_count": null,
   "metadata": {
    "collapsed": true
   },
   "outputs": [],
   "source": []
  },
  {
   "cell_type": "code",
   "execution_count": null,
   "metadata": {
    "collapsed": true
   },
   "outputs": [],
   "source": []
  },
  {
   "cell_type": "code",
   "execution_count": null,
   "metadata": {
    "collapsed": true
   },
   "outputs": [],
   "source": []
  },
  {
   "cell_type": "code",
   "execution_count": 31,
   "metadata": {
    "collapsed": false
   },
   "outputs": [
    {
     "name": "stdout",
     "output_type": "stream",
     "text": [
      "2905, /home/wcmckee/Downloads/writersden/posts/nanowrimo15-day1.rst\n",
      "\n",
      "1446, /home/wcmckee/Downloads/writersden/posts/nanowrimo15-day2.rst\n",
      "\n",
      "1739, /home/wcmckee/Downloads/writersden/posts/nanowrimo15-day3.rst\n",
      "\n",
      "2186, /home/wcmckee/Downloads/writersden/posts/nanowrimo15-day4.rst\n",
      "\n",
      "1791, /home/wcmckee/Downloads/writersden/posts/nanowrimo15-day5.rst\n",
      "\n",
      "1808, /home/wcmckee/Downloads/writersden/posts/nanowrimo15-day6.rst\n",
      "\n",
      "2940, /home/wcmckee/Downloads/writersden/posts/nanowrimo15-day7.rst\n",
      "\n",
      "1684, /home/wcmckee/Downloads/writersden/posts/nanowrimo15-day8.rst\n",
      "\n",
      "1676, /home/wcmckee/Downloads/writersden/posts/nanowrimo15-day9.rst\n",
      "\n",
      "1459, /home/wcmckee/Downloads/writersden/posts/nanowrimo15-day10.rst\n",
      "\n",
      "1126, /home/wcmckee/Downloads/writersden/posts/nanowrimo15-day11.rst\n",
      "\n",
      "1791, /home/wcmckee/Downloads/writersden/posts/nanowrimo15-day12.rst\n",
      "\n",
      "1685, /home/wcmckee/Downloads/writersden/posts/nanowrimo15-day13.rst\n",
      "\n",
      "1195, /home/wcmckee/Downloads/writersden/posts/nanowrimo15-day14.rst\n",
      "\n",
      "2199, /home/wcmckee/Downloads/writersden/posts/nanowrimo15-day15.rst\n",
      "\n",
      "985, /home/wcmckee/Downloads/writersden/posts/nanowrimo15-day16.rst\n",
      "\n",
      "1674, /home/wcmckee/Downloads/writersden/posts/nanowrimo15-day17.rst\n",
      "\n",
      "1714, /home/wcmckee/Downloads/writersden/posts/nanowrimo15-day18.rst\n",
      "\n",
      "1765, /home/wcmckee/Downloads/writersden/posts/nanowrimo15-day19.rst\n",
      "\n",
      "1667, /home/wcmckee/Downloads/writersden/posts/nanowrimo15-day20.rst\n",
      "\n",
      "742, /home/wcmckee/Downloads/writersden/posts/nanowrimo15-day21.rst\n",
      "\n",
      "2294, /home/wcmckee/Downloads/writersden/posts/nanowrimo15-day22.rst\n",
      "\n",
      "1992, /home/wcmckee/Downloads/writersden/posts/nanowrimo15-day23.rst\n",
      "\n",
      "2689, /home/wcmckee/Downloads/writersden/posts/nanowrimo15-day24.rst\n",
      "\n",
      "2606, /home/wcmckee/Downloads/writersden/posts/nanowrimo15-day25.rst\n",
      "\n",
      "1904, /home/wcmckee/Downloads/writersden/posts/nanowrimo15-day26.rst\n",
      "\n",
      "2436, /home/wcmckee/Downloads/writersden/posts/nanowrimo15-day27.rst\n",
      "\n",
      "2950, /home/wcmckee/Downloads/writersden/posts/nanowrimo15-day28.rst\n",
      "\n",
      "1, /home/wcmckee/Downloads/writersden/posts/nanowrimo15-day29.rst\n",
      "\n",
      "1, /home/wcmckee/Downloads/writersden/posts/nanowrimo15-day30.rst\n",
      "\n"
     ]
    }
   ],
   "source": [
    "for myli in mylisit:\n",
    "    print(myli.replace(' ', ', '))\n",
    "    bahg.append(myli.replace(' ', ', '))"
   ]
  },
  {
   "cell_type": "code",
   "execution_count": null,
   "metadata": {
    "collapsed": true
   },
   "outputs": [],
   "source": []
  },
  {
   "cell_type": "code",
   "execution_count": null,
   "metadata": {
    "collapsed": true
   },
   "outputs": [],
   "source": []
  },
  {
   "cell_type": "code",
   "execution_count": null,
   "metadata": {
    "collapsed": true
   },
   "outputs": [],
   "source": []
  },
  {
   "cell_type": "code",
   "execution_count": null,
   "metadata": {
    "collapsed": true
   },
   "outputs": [],
   "source": []
  },
  {
   "cell_type": "code",
   "execution_count": null,
   "metadata": {
    "collapsed": true
   },
   "outputs": [],
   "source": []
  },
  {
   "cell_type": "code",
   "execution_count": null,
   "metadata": {
    "collapsed": true
   },
   "outputs": [],
   "source": []
  },
  {
   "cell_type": "code",
   "execution_count": null,
   "metadata": {
    "collapsed": true
   },
   "outputs": [],
   "source": []
  },
  {
   "cell_type": "code",
   "execution_count": null,
   "metadata": {
    "collapsed": true
   },
   "outputs": [],
   "source": []
  },
  {
   "cell_type": "code",
   "execution_count": null,
   "metadata": {
    "collapsed": true
   },
   "outputs": [],
   "source": []
  },
  {
   "cell_type": "code",
   "execution_count": null,
   "metadata": {
    "collapsed": true
   },
   "outputs": [],
   "source": []
  },
  {
   "cell_type": "code",
   "execution_count": 5,
   "metadata": {
    "collapsed": false
   },
   "outputs": [
    {
     "data": {
      "text/plain": [
       "0"
      ]
     },
     "execution_count": 5,
     "metadata": {},
     "output_type": "execute_result"
    }
   ],
   "source": [
    "os.system('wc -w /home/wcmckee/Downloads/writersden/posts/nanowrimo15-day*.rst')"
   ]
  },
  {
   "cell_type": "code",
   "execution_count": null,
   "metadata": {
    "collapsed": true
   },
   "outputs": [],
   "source": []
  },
  {
   "cell_type": "code",
   "execution_count": null,
   "metadata": {
    "collapsed": true
   },
   "outputs": [],
   "source": []
  }
 ],
 "metadata": {
  "kernelspec": {
   "display_name": "Python 3",
   "language": "python",
   "name": "python3"
  },
  "language_info": {
   "codemirror_mode": {
    "name": "ipython",
    "version": 3
   },
   "file_extension": ".py",
   "mimetype": "text/x-python",
   "name": "python",
   "nbconvert_exporter": "python",
   "pygments_lexer": "ipython3",
   "version": "3.4.2"
  }
 },
 "nbformat": 4,
 "nbformat_minor": 0
}
