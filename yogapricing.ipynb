{
 "cells": [
  {
   "cell_type": "markdown",
   "metadata": {},
   "source": [
    "Yoga Pricing\n",
    "\n",
    "This creates yoga pricing. \n",
    "\n",
    "Take this into my type coffee sell thing."
   ]
  },
  {
   "cell_type": "code",
   "execution_count": 47,
   "metadata": {
    "collapsed": true
   },
   "outputs": [],
   "source": [
    "import pandas"
   ]
  },
  {
   "cell_type": "code",
   "execution_count": 48,
   "metadata": {
    "collapsed": false
   },
   "outputs": [],
   "source": [
    "imporpric = pandas.read_csv('/home/wcmckee/yoga.csv', index_col=0)"
   ]
  },
  {
   "cell_type": "code",
   "execution_count": 56,
   "metadata": {
    "collapsed": false
   },
   "outputs": [],
   "source": [
    "impor = imporpric.to_html"
   ]
  },
  {
   "cell_type": "code",
   "execution_count": null,
   "metadata": {
    "collapsed": true
   },
   "outputs": [],
   "source": []
  },
  {
   "cell_type": "code",
   "execution_count": 60,
   "metadata": {
    "collapsed": false
   },
   "outputs": [],
   "source": [
    "pricelis = impor()"
   ]
  },
  {
   "cell_type": "code",
   "execution_count": 65,
   "metadata": {
    "collapsed": false
   },
   "outputs": [
    {
     "data": {
      "text/plain": [
       "'<table border=\"1\" class=\"dataframe\">\\n  <thead>\\n    <tr style=\"text-align: right;\">\\n      <th></th>\\n      <th>Price</th>\\n      <th>Classes</th>\\n    </tr>\\n    <tr>\\n      <th>Type</th>\\n      <th></th>\\n      <th></th>\\n    </tr>\\n  </thead>\\n  <tbody>\\n    <tr>\\n      <th>Casual</th>\\n      <td>    $15.00</td>\\n      <td>         1</td>\\n    </tr>\\n    <tr>\\n      <th>Class Card</th>\\n      <td>   $120.00</td>\\n      <td>        10</td>\\n    </tr>\\n    <tr>\\n      <th>Class Card</th>\\n      <td>   $200.00</td>\\n      <td>        20</td>\\n    </tr>\\n    <tr>\\n      <th>Class Card</th>\\n      <td>   $500.00</td>\\n      <td>        50</td>\\n    </tr>\\n    <tr>\\n      <th>Annual Unlimited Yoga </th>\\n      <td> $1,399.00</td>\\n      <td> unlimited</td>\\n    </tr>\\n    <tr>\\n      <th>3 x per week</th>\\n      <td>     $8.95</td>\\n      <td>         3</td>\\n    </tr>\\n    <tr>\\n      <th>6 Monthy Unlimited</th>\\n      <td>   $799.00</td>\\n      <td> unlimited</td>\\n    </tr>\\n    <tr>\\n      <th>3x per week</th>\\n      <td>    $11.00</td>\\n      <td>         3</td>\\n    </tr>\\n    <tr>\\n      <th>Private Sessions 90 mins</th>\\n      <td>   $125.00</td>\\n      <td>         1</td>\\n    </tr>\\n    <tr>\\n      <th>Beginner Course 4 sessions</th>\\n      <td>    $80.00</td>\\n      <td>         4</td>\\n    </tr>\\n    <tr>\\n      <th>Continuous Yoga </th>\\n      <td>   $110.00</td>\\n      <td> unlimited</td>\\n    </tr>\\n    <tr>\\n      <th>Pregnancy Yoga 6 Week Program</th>\\n      <td>   $120.00</td>\\n      <td> unlimited</td>\\n    </tr>\\n  </tbody>\\n</table>'"
      ]
     },
     "execution_count": 65,
     "metadata": {},
     "output_type": "execute_result"
    }
   ],
   "source": [
    "pricelis"
   ]
  },
  {
   "cell_type": "code",
   "execution_count": 61,
   "metadata": {
    "collapsed": true
   },
   "outputs": [],
   "source": [
    "oppric = open('/home/wcmckee/github/cv/price.html', 'w')"
   ]
  },
  {
   "cell_type": "code",
   "execution_count": 63,
   "metadata": {
    "collapsed": false
   },
   "outputs": [
    {
     "data": {
      "text/plain": [
       "1502"
      ]
     },
     "execution_count": 63,
     "metadata": {},
     "output_type": "execute_result"
    }
   ],
   "source": [
    "oppric.write(pricelis)"
   ]
  },
  {
   "cell_type": "code",
   "execution_count": 64,
   "metadata": {
    "collapsed": true
   },
   "outputs": [],
   "source": [
    "oppric.close()"
   ]
  }
 ],
 "metadata": {
  "kernelspec": {
   "display_name": "Python 3",
   "language": "python",
   "name": "python3"
  },
  "language_info": {
   "codemirror_mode": {
    "name": "ipython",
    "version": 3
   },
   "file_extension": ".py",
   "mimetype": "text/x-python",
   "name": "python",
   "nbconvert_exporter": "python",
   "pygments_lexer": "ipython3",
   "version": "3.4.2"
  }
 },
 "nbformat": 4,
 "nbformat_minor": 0
}
