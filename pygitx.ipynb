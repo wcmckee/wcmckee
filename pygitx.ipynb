{
 "metadata": {
  "name": "",
  "signature": "sha256:c4d2ee4c9c924cb8d9899cb46d0b5a990c33c3f9acdfd880ce8b9a221333e329"
 },
 "nbformat": 3,
 "nbformat_minor": 0,
 "worksheets": [
  {
   "cells": [
    {
     "cell_type": "markdown",
     "metadata": {},
     "source": [
      "<h3>pygitx</h3>\n",
      "\n",
      "Python script to download repos from github.\n",
      "It checked localfiles and skips downloading any repos that currently exsist. \n",
      "Perform a git pull for each repo that exsists.\n",
      "\n",
      "Look at the ipython notebook files (ipynb) inside each repo and generate a nikola site with it. \n",
      "Write out .meta files for each notebook. \n",
      "\n",
      "title\n",
      "\n",
      "url-friendly\n",
      "\n",
      "year/month/day hr/min\n",
      "\n",
      "tags: redditgetsdrawn, modules used?\n",
      "\n",
      "cats: lang? doc, novel\n",
      "\n",
      "\n",
      "Site name repo name\n",
      "\n"
     ]
    },
    {
     "cell_type": "code",
     "collapsed": false,
     "input": [
      "from github import Github"
     ],
     "language": "python",
     "metadata": {},
     "outputs": [],
     "prompt_number": 40
    },
    {
     "cell_type": "code",
     "collapsed": false,
     "input": [
      "import os\n",
      "import getpass\n",
      "from git import *\n",
      "import git\n",
      "import datetime"
     ],
     "language": "python",
     "metadata": {},
     "outputs": [],
     "prompt_number": 60
    },
    {
     "cell_type": "code",
     "collapsed": false,
     "input": [
      "p = open('/home/wcmckee/ps.txt', 'r')"
     ],
     "language": "python",
     "metadata": {},
     "outputs": [],
     "prompt_number": 42
    },
    {
     "cell_type": "code",
     "collapsed": false,
     "input": [
      "#str(p.read())"
     ],
     "language": "python",
     "metadata": {},
     "outputs": [],
     "prompt_number": 43
    },
    {
     "cell_type": "code",
     "collapsed": false,
     "input": [
      "pred = str(p.read())"
     ],
     "language": "python",
     "metadata": {},
     "outputs": [],
     "prompt_number": 44
    },
    {
     "cell_type": "code",
     "collapsed": false,
     "input": [
      "pstrip = pred.strip('\\n')"
     ],
     "language": "python",
     "metadata": {},
     "outputs": [],
     "prompt_number": 45
    },
    {
     "cell_type": "code",
     "collapsed": false,
     "input": [
      "g = Github('wcmckee', pstrip)"
     ],
     "language": "python",
     "metadata": {},
     "outputs": [],
     "prompt_number": 46
    },
    {
     "cell_type": "code",
     "collapsed": false,
     "input": [
      "grepo = g.search_users('wcmckee')                                                                                                                                                                                                                                                                                                                                                                                                                                                                                                                                                                                                                                                                                                                                                                                                                                                                                                                                                                                                                                                                                                                                                                                                                                                                                                                                                                                                                                                                                                                                                                                                   "
     ],
     "language": "python",
     "metadata": {},
     "outputs": [],
     "prompt_number": 47
    },
    {
     "cell_type": "code",
     "collapsed": false,
     "input": [
      "repoev = []"
     ],
     "language": "python",
     "metadata": {},
     "outputs": [],
     "prompt_number": 48
    },
    {
     "cell_type": "code",
     "collapsed": false,
     "input": [
      "for gre in grepo:\n",
      "    print gre.repos_url\n",
      "    print gre.get_public_events\n",
      "    print gre.get_repo('wcmckee')\n",
      "    repoev.append(gre.get_repo('wcmckee'))"
     ],
     "language": "python",
     "metadata": {},
     "outputs": [
      {
       "output_type": "stream",
       "stream": "stdout",
       "text": [
        "https://api.github.com/users/wcmckee/repos\n",
        "<bound method NamedUser.get_public_events of <github.NamedUser.NamedUser object at 0xb1ef86f0>>\n",
        "<github.Repository.Repository object at 0xb1ef86d0>"
       ]
      },
      {
       "output_type": "stream",
       "stream": "stdout",
       "text": [
        "\n"
       ]
      }
     ],
     "prompt_number": 49
    },
    {
     "cell_type": "code",
     "collapsed": false,
     "input": [
      "for rep in repoev:\n",
      "    print rep"
     ],
     "language": "python",
     "metadata": {},
     "outputs": [
      {
       "output_type": "stream",
       "stream": "stdout",
       "text": [
        "<github.Repository.Repository object at 0xb237a3f0>\n"
       ]
      }
     ],
     "prompt_number": 50
    },
    {
     "cell_type": "code",
     "collapsed": false,
     "input": [
      "for repoe in repoev:\n",
      "    print repoe"
     ],
     "language": "python",
     "metadata": {},
     "outputs": [
      {
       "output_type": "stream",
       "stream": "stdout",
       "text": [
        "<github.Repository.Repository object at 0xb237a3f0>\n"
       ]
      }
     ],
     "prompt_number": 51
    },
    {
     "cell_type": "code",
     "collapsed": false,
     "input": [
      "print gre.email"
     ],
     "language": "python",
     "metadata": {},
     "outputs": [
      {
       "output_type": "stream",
       "stream": "stdout",
       "text": [
        "will@artcontrol.me\n"
       ]
      }
     ],
     "prompt_number": 52
    },
    {
     "cell_type": "code",
     "collapsed": false,
     "input": [
      "grrep = gre.get_repos()"
     ],
     "language": "python",
     "metadata": {},
     "outputs": [],
     "prompt_number": 53
    },
    {
     "cell_type": "code",
     "collapsed": false,
     "input": [
      "replist =  list(grrep)"
     ],
     "language": "python",
     "metadata": {},
     "outputs": [],
     "prompt_number": 54
    },
    {
     "cell_type": "code",
     "collapsed": false,
     "input": [
      "repolisx = []\n",
      "repocom = []\n",
      "repocont = []"
     ],
     "language": "python",
     "metadata": {},
     "outputs": [],
     "prompt_number": 55
    },
    {
     "cell_type": "code",
     "collapsed": false,
     "input": [
      "ophom = ('/home/wcmckee/ipy/wcmckee-ipython/posts/')"
     ],
     "language": "python",
     "metadata": {},
     "outputs": [],
     "prompt_number": 56
    },
    {
     "cell_type": "code",
     "collapsed": false,
     "input": [
      "os.chdir('/home/wcmckee/ipy/wcmckee-ipython/posts')"
     ],
     "language": "python",
     "metadata": {},
     "outputs": [],
     "prompt_number": 72
    },
    {
     "cell_type": "code",
     "collapsed": false,
     "input": [
      "for repoz in replist:\n",
      "    print repoz.name\n",
      "    with open(str(repoz.name) + '.meta', \"w\") as f:\n",
      "            repna = repoz.name.encode('ascii', 'ignore').decode('ascii')\n",
      "            f.write(repoz.name + '\\n' + repoz.name + '\\n' + str(repoz.updated_at))\n",
      "    #repolisx.append(repoz.name)\n",
      "    #print repoz.size\n",
      "    print repoz.updated_at\n",
      "    #print repoz.get_contents\n",
      "    print (repoz.get_commits())\n",
      "    repocont.append(repoz.get_contents)\n",
      "  #  repocom.append(repoz.get_commits)"
     ],
     "language": "python",
     "metadata": {},
     "outputs": [
      {
       "output_type": "stream",
       "stream": "stdout",
       "text": [
        "4chan-API\n",
        "2013-09-24 10:20:16\n",
        "<github.PaginatedList.PaginatedList instance at 0xb1bd7a08>\n",
        "adypy\n",
        "2014-06-09 04:52:12\n",
        "<github.PaginatedList.PaginatedList instance at 0xb1bd7968>\n",
        "anim_framework\n",
        "2014-05-07 21:25:20\n",
        "<github.PaginatedList.PaginatedList instance at 0xb1bd7a80>\n",
        "art-lastfm\n",
        "2014-01-31 01:21:57\n",
        "<github.PaginatedList.PaginatedList instance at 0xb1bd7ad0>\n",
        "artcontrol-api\n",
        "2014-09-26 09:58:43\n",
        "<github.PaginatedList.PaginatedList instance at 0xb1bd7b20>\n",
        "AsylumJamCrushGame\n",
        "2013-10-12 18:40:22\n",
        "<github.PaginatedList.PaginatedList instance at 0xb1bd7a58>\n",
        "autopaintpy123\n",
        "2014-02-07 07:55:31\n",
        "<github.PaginatedList.PaginatedList instance at 0xb1bd7bc0>\n",
        "bacongamejam05\n",
        "2013-12-18 14:12:00\n",
        "<github.PaginatedList.PaginatedList instance at 0xb1bd7c10>\n",
        "battlenet\n",
        "2013-10-16 14:06:51\n",
        "<github.PaginatedList.PaginatedList instance at 0xb1bd7c88>\n",
        "bbc2wp\n",
        "2014-09-21 18:35:09\n",
        "<github.PaginatedList.PaginatedList instance at 0xb1bd7940>\n",
        "bgj05-hungry\n",
        "2014-03-23 21:09:43\n",
        "<github.PaginatedList.PaginatedList instance at 0xb1bd7d00>\n",
        "BirdCage\n",
        "2014-04-13 21:05:50\n",
        "<github.PaginatedList.PaginatedList instance at 0xb1bd7d78>\n",
        "brobeur-static\n",
        "2014-05-05 02:02:45\n",
        "<github.PaginatedList.PaginatedList instance at 0xb1bd7cd8>\n",
        "brobeur-web\n",
        "2014-04-29 08:46:54\n",
        "<github.PaginatedList.PaginatedList instance at 0xb1bd7df0>\n",
        "BroBeurFishingDream\n",
        "2014-02-16 19:19:16\n",
        "<github.PaginatedList.PaginatedList instance at 0xb1bd7d50>\n",
        "broLove\n",
        "2014-04-22 16:53:58\n",
        "<github.PaginatedList.PaginatedList instance at 0xb1bd7e90>\n",
        "clint\n",
        "2013-08-30 11:26:48\n",
        "<github.PaginatedList.PaginatedList instance at 0xb1bd7ee0>\n",
        "cobal.eportfolio\n",
        "2013-10-10 06:10:22\n",
        "<github.PaginatedList.PaginatedList instance at 0xb1bd7ee0>\n",
        "compohub\n",
        "2014-05-03 11:06:39\n",
        "<github.PaginatedList.PaginatedList instance at 0xb1bd7f80>\n",
        "DailyProgBot\n",
        "2013-08-30 11:26:48\n",
        "<github.PaginatedList.PaginatedList instance at 0xb1bd7ee0>\n",
        "DeltaBot\n",
        "2013-08-30 11:26:48\n",
        "<github.PaginatedList.PaginatedList instance at 0xb1bd8058>\n",
        "dockerfiles\n",
        "2014-07-12 19:51:01\n",
        "<github.PaginatedList.PaginatedList instance at 0xb1bd7f30>\n",
        "flask\n",
        "2013-12-18 05:05:44\n",
        "<github.PaginatedList.PaginatedList instance at 0xb1bd8030>\n",
        "flask-ghpages-example\n",
        "2014-07-02 00:14:33\n",
        "<github.PaginatedList.PaginatedList instance at 0xb1bd80f8>\n",
        "ggj14\n",
        "2014-01-26 02:48:08\n",
        "<github.PaginatedList.PaginatedList instance at 0xb1bd8148>\n",
        "hackage-server\n",
        "2013-09-30 07:50:04\n",
        "<github.PaginatedList.PaginatedList instance at 0xb1bd81c0>\n",
        "hamiltoncomputerclub.org.nz\n",
        "2014-05-13 00:12:55\n",
        "<github.PaginatedList.PaginatedList instance at 0xb1bd8198>\n",
        "haskell-learn\n",
        "2014-02-05 10:22:41\n",
        "<github.PaginatedList.PaginatedList instance at 0xb1bd8260>\n",
        "HTML5-Tiny\n",
        "2014-05-22 03:16:18\n",
        "<github.PaginatedList.PaginatedList instance at 0xb1bd82b0>\n",
        "html5lib-python\n",
        "2013-10-15 05:55:33\n",
        "<github.PaginatedList.PaginatedList instance at 0xb1bd8030>\n",
        "iamagamer\n",
        "2014-05-29 01:06:20\n",
        "<github.PaginatedList.PaginatedList instance at 0xb1bd8378>\n",
        "ihaskell-notebook\n",
        "2013-10-01 22:09:52\n",
        "<github.PaginatedList.PaginatedList instance at 0xb1bd8238>\n",
        "imgur-python\n",
        "2014-10-07 18:14:23\n",
        "<github.PaginatedList.PaginatedList instance at 0xb1bd83f0>\n",
        "intercity\n",
        "2014-05-12 12:56:13\n",
        "<github.PaginatedList.PaginatedList instance at 0xb1bd8440>\n",
        "intro_programming\n",
        "2013-12-06 05:32:29\n",
        "<github.PaginatedList.PaginatedList instance at 0xb1bd8418>\n",
        "ipython\n",
        "2013-09-14 13:21:02\n",
        "<github.PaginatedList.PaginatedList instance at 0xb1bd83c8>\n",
        "ipython-docker\n",
        "2014-06-10 00:29:33\n",
        "<github.PaginatedList.PaginatedList instance at 0xb1bd8328>\n",
        "ipython-hydra\n",
        "2014-07-11 17:19:35\n",
        "<github.PaginatedList.PaginatedList instance at 0xb1bd8468>\n",
        "LD48-Skins\n",
        "2013-12-19 20:47:10\n",
        "<github.PaginatedList.PaginatedList instance at 0xb1bd8490>\n",
        "marshmallow\n",
        "2014-12-29 03:09:27\n",
        "<github.PaginatedList.PaginatedList instance at 0xb1bd84b8>\n",
        "massive-wright\n",
        "2013-10-29 06:30:14\n",
        "<github.PaginatedList.PaginatedList instance at 0xb1bd84e0>\n",
        "Minecraft\n",
        "2014-05-06 19:19:03\n",
        "<github.PaginatedList.PaginatedList instance at 0xb1bd8580>\n",
        "miniprojects\n",
        "2013-08-30 11:26:46\n",
        "<github.PaginatedList.PaginatedList instance at 0xb1bd8558>\n",
        "molyjam2013\n",
        "2013-08-30 11:26:46\n",
        "<github.PaginatedList.PaginatedList instance at 0xb1bd8530>\n",
        "niketa\n",
        "2014-06-27 03:18:50\n",
        "<github.PaginatedList.PaginatedList instance at 0xb1bd85d0>\n",
        "openbay\n",
        "2014-12-29 04:19:44\n",
        "<github.PaginatedList.PaginatedList instance at 0xb1bd85f8>\n",
        "opencompetencies\n",
        "2013-12-13 00:12:34\n",
        "<github.PaginatedList.PaginatedList instance at 0xb1bd8620>\n",
        "openfaux-server\n",
        "2013-12-18 10:19:54\n",
        "<github.PaginatedList.PaginatedList instance at 0xb1bd85a8>\n",
        "ouya-unity-plugin\n",
        "2014-09-10 19:08:05\n",
        "<github.PaginatedList.PaginatedList instance at 0xb1bd8508>\n",
        "paintingautopy\n",
        "2014-02-04 12:01:36\n",
        "<github.PaginatedList.PaginatedList instance at 0xb1bd8698>\n",
        "pithos\n",
        "2013-10-06 12:06:46\n",
        "<github.PaginatedList.PaginatedList instance at 0xb1bd86c0>\n",
        "prodo-game\n",
        "2014-05-05 21:07:36\n",
        "<github.PaginatedList.PaginatedList instance at 0xb1bd86e8>\n",
        "Projects\n",
        "2013-08-30 11:26:48\n",
        "<github.PaginatedList.PaginatedList instance at 0xb1bd8738>\n",
        "puphpet\n",
        "2014-07-11 03:36:52\n",
        "<github.PaginatedList.PaginatedList instance at 0xb1bd8710>\n",
        "pyatakl\n",
        "2014-06-29 01:24:11\n",
        "<github.PaginatedList.PaginatedList instance at 0xb1bd8648>\n",
        "pybackupz\n",
        "2014-01-30 16:55:31\n",
        "<github.PaginatedList.PaginatedList instance at 0xb1bd87b0>\n",
        "pyladies\n",
        "2014-04-26 22:23:20\n",
        "<github.PaginatedList.PaginatedList instance at 0xb1bd8760>\n",
        "pymel\n",
        "2013-11-17 11:45:49\n",
        "<github.PaginatedList.PaginatedList instance at 0xb1bd87d8>\n",
        "python-guide\n",
        "2013-08-30 11:26:45\n",
        "<github.PaginatedList.PaginatedList instance at 0xb1bd8670>\n",
        "python-pandora\n",
        "2013-08-30 11:26:48\n",
        "<github.PaginatedList.PaginatedList instance at 0xb1bd8788>\n",
        "python-patterns\n",
        "2013-08-30 11:26:47\n",
        "<github.PaginatedList.PaginatedList instance at 0xb1bd8850>\n",
        "pytm\n",
        "2013-09-10 03:06:24\n",
        "<github.PaginatedList.PaginatedList instance at 0xb1bd8828>\n",
        "pyunderdog\n",
        "2014-02-02 14:35:35\n",
        "<github.PaginatedList.PaginatedList instance at 0xb1bd88a0>\n",
        "pywp-post\n",
        "2014-06-02 07:16:53\n",
        "<github.PaginatedList.PaginatedList instance at 0xb1bd88f0>\n",
        "raspi\n",
        "2014-01-28 08:29:32\n",
        "<github.PaginatedList.PaginatedList instance at 0xb1bd88c8>\n",
        "RasPiWrite\n",
        "2014-01-20 18:31:17\n",
        "<github.PaginatedList.PaginatedList instance at 0xb1bd8800>\n",
        "RedditPress\n",
        "2014-04-22 16:53:58"
       ]
      },
      {
       "output_type": "stream",
       "stream": "stdout",
       "text": [
        "\n",
        "<github.PaginatedList.PaginatedList instance at 0xb1bd8918>\n",
        "reddit_bot\n",
        "2013-08-30 11:26:48\n",
        "<github.PaginatedList.PaginatedList instance at 0xb1bd8990>\n",
        "redtube\n",
        "2014-05-07 20:52:47\n",
        "<github.PaginatedList.PaginatedList instance at 0xb1bd8940>\n",
        "render-useful\n",
        "2014-11-14 08:56:35\n",
        "<github.PaginatedList.PaginatedList instance at 0xb1bd8918>\n",
        "RPIO\n",
        "2014-01-28 10:28:53\n",
        "<github.PaginatedList.PaginatedList instance at 0xb1bd89b8>\n",
        "selfspy\n",
        "2014-04-21 10:06:55\n",
        "<github.PaginatedList.PaginatedList instance at 0xb1bd89e0>\n",
        "SketchDaily-GestureDrawing\n",
        "2014-05-22 19:15:06\n",
        "<github.PaginatedList.PaginatedList instance at 0xb1bd8a08>\n",
        "skins\n",
        "2014-02-15 12:56:01\n",
        "<github.PaginatedList.PaginatedList instance at 0xb1bd8878>\n",
        "SortPictures\n",
        "2014-02-12 13:51:53\n",
        "<github.PaginatedList.PaginatedList instance at 0xb1bd8a58>\n",
        "SoundWall\n",
        "2014-05-03 10:38:30\n",
        "<github.PaginatedList.PaginatedList instance at 0xb1bd8aa8>\n",
        "SuburbNightmare\n",
        "2014-04-17 06:02:40\n",
        "<github.PaginatedList.PaginatedList instance at 0xb1bd8a80>\n",
        "te-whare-o-te-ata\n",
        "2014-06-24 08:34:54\n",
        "<github.PaginatedList.PaginatedList instance at 0xb1bd8a30>\n",
        "TPB\n",
        "2013-10-04 11:50:53\n",
        "<github.PaginatedList.PaginatedList instance at 0xb1bd8968>\n",
        "Triger\n",
        "2014-02-18 16:10:27\n",
        "<github.PaginatedList.PaginatedList instance at 0xb1bd8ad0>\n",
        "tweepy\n",
        "2013-08-30 11:26:47\n",
        "<github.PaginatedList.PaginatedList instance at 0xb1bd8af8>"
       ]
      },
      {
       "output_type": "stream",
       "stream": "stdout",
       "text": [
        "\n",
        "UnityLuaIntegration\n",
        "2013-08-30 11:26:47\n",
        "<github.PaginatedList.PaginatedList instance at 0xb1bd8bc0>\n",
        "vagrantboxes-heroku\n",
        "2014-07-11 13:02:20\n",
        "<github.PaginatedList.PaginatedList instance at 0xb1bd8b48>\n",
        "vIPer\n",
        "2014-05-11 06:17:26\n",
        "<github.PaginatedList.PaginatedList instance at 0xb1bd8b98>\n",
        "wcmckee\n",
        "2014-12-21 22:42:13\n",
        "<github.PaginatedList.PaginatedList instance at 0xb1bd8be8>\n",
        "wcmckee-notebook\n",
        "2014-12-23 23:07:09\n",
        "<github.PaginatedList.PaginatedList instance at 0xb1bd8c10>\n",
        "wcmckee.com\n",
        "2014-05-13 00:30:55\n",
        "<github.PaginatedList.PaginatedList instance at 0xb1bd8c38>\n",
        "wcmckee.github.io\n",
        "2014-04-27 12:28:03\n",
        "<github.PaginatedList.PaginatedList instance at 0xb1bd8c60>\n",
        "wcmStringPY\n",
        "2014-02-02 17:24:08\n",
        "<github.PaginatedList.PaginatedList instance at 0xb1bd8c88>\n",
        "wirepil\n",
        "2014-02-14 10:30:42\n",
        "<github.PaginatedList.PaginatedList instance at 0xb1bd8b20>\n",
        "xboxdrv\n",
        "2013-10-02 11:22:40\n",
        "<github.PaginatedList.PaginatedList instance at 0xb1bd8b70>\n"
       ]
      }
     ],
     "prompt_number": 82
    },
    {
     "cell_type": "code",
     "collapsed": false,
     "input": [],
     "language": "python",
     "metadata": {},
     "outputs": [],
     "prompt_number": 38
    },
    {
     "cell_type": "code",
     "collapsed": false,
     "input": [
      "for repoc in repocont:\n",
      "    print repoc\n",
      "    gre.get_repo()\n",
      "    "
     ],
     "language": "python",
     "metadata": {},
     "outputs": [
      {
       "output_type": "stream",
       "stream": "stdout",
       "text": [
        "<bound method Repository.get_contents of <github.Repository.Repository object at 0xb1f2ca30>>\n"
       ]
      },
      {
       "ename": "AssertionError",
       "evalue": "<bound method Repository.get_contents of <github.Repository.Repository object at 0xb1f2ca30>>",
       "output_type": "pyerr",
       "traceback": [
        "\u001b[1;31m---------------------------------------------------------------------------\u001b[0m\n\u001b[1;31mAssertionError\u001b[0m                            Traceback (most recent call last)",
        "\u001b[1;32m<ipython-input-80-90c1945107e7>\u001b[0m in \u001b[0;36m<module>\u001b[1;34m()\u001b[0m\n\u001b[0;32m      1\u001b[0m \u001b[1;32mfor\u001b[0m \u001b[0mrepoc\u001b[0m \u001b[1;32min\u001b[0m \u001b[0mrepocont\u001b[0m\u001b[1;33m:\u001b[0m\u001b[1;33m\u001b[0m\u001b[0m\n\u001b[0;32m      2\u001b[0m     \u001b[1;32mprint\u001b[0m \u001b[0mrepoc\u001b[0m\u001b[1;33m\u001b[0m\u001b[0m\n\u001b[1;32m----> 3\u001b[1;33m     \u001b[0mgre\u001b[0m\u001b[1;33m.\u001b[0m\u001b[0mget_repo\u001b[0m\u001b[1;33m(\u001b[0m\u001b[0mrepoc\u001b[0m\u001b[1;33m)\u001b[0m\u001b[1;33m\u001b[0m\u001b[0m\n\u001b[0m\u001b[0;32m      4\u001b[0m \u001b[1;33m\u001b[0m\u001b[0m\n",
        "\u001b[1;32m/usr/local/lib/python2.7/dist-packages/github/NamedUser.pyc\u001b[0m in \u001b[0;36mget_repo\u001b[1;34m(self, name)\u001b[0m\n\u001b[0;32m    444\u001b[0m         \u001b[1;33m:\u001b[0m\u001b[0mrtype\u001b[0m\u001b[1;33m:\u001b[0m \u001b[1;33m:\u001b[0m\u001b[1;32mclass\u001b[0m\u001b[1;33m:\u001b[0m\u001b[1;33m`\u001b[0m\u001b[0mgithub\u001b[0m\u001b[1;33m.\u001b[0m\u001b[0mRepository\u001b[0m\u001b[1;33m.\u001b[0m\u001b[0mRepository\u001b[0m\u001b[1;33m`\u001b[0m\u001b[1;33m\u001b[0m\u001b[0m\n\u001b[0;32m    445\u001b[0m         \"\"\"\n\u001b[1;32m--> 446\u001b[1;33m         \u001b[1;32massert\u001b[0m \u001b[0misinstance\u001b[0m\u001b[1;33m(\u001b[0m\u001b[0mname\u001b[0m\u001b[1;33m,\u001b[0m \u001b[1;33m(\u001b[0m\u001b[0mstr\u001b[0m\u001b[1;33m,\u001b[0m \u001b[0municode\u001b[0m\u001b[1;33m)\u001b[0m\u001b[1;33m)\u001b[0m\u001b[1;33m,\u001b[0m \u001b[0mname\u001b[0m\u001b[1;33m\u001b[0m\u001b[0m\n\u001b[0m\u001b[0;32m    447\u001b[0m         headers, data = self._requester.requestJsonAndCheck(\n\u001b[0;32m    448\u001b[0m             \u001b[1;34m\"GET\"\u001b[0m\u001b[1;33m,\u001b[0m\u001b[1;33m\u001b[0m\u001b[0m\n",
        "\u001b[1;31mAssertionError\u001b[0m: <bound method Repository.get_contents of <github.Repository.Repository object at 0xb1f2ca30>>"
       ]
      }
     ],
     "prompt_number": 80
    },
    {
     "cell_type": "code",
     "collapsed": false,
     "input": [
      "#for repz in repocom:\n",
      "#    print repoz.ssh_url"
     ],
     "language": "python",
     "metadata": {},
     "outputs": [],
     "prompt_number": 16
    },
    {
     "cell_type": "code",
     "collapsed": false,
     "input": [
      "for repoit in repolisx:\n",
      "    print repoit"
     ],
     "language": "python",
     "metadata": {},
     "outputs": [
      {
       "output_type": "stream",
       "stream": "stdout",
       "text": [
        "4chan-API\n",
        "adypy\n",
        "anim_framework\n",
        "art-lastfm\n",
        "artcontrol-api\n",
        "AsylumJamCrushGame\n",
        "autopaintpy123\n",
        "bacongamejam05\n",
        "battlenet\n",
        "bbc2wp\n",
        "bgj05-hungry\n",
        "BirdCage\n",
        "brobeur-static\n",
        "brobeur-web\n",
        "BroBeurFishingDream\n",
        "broLove\n",
        "clint\n",
        "cobal.eportfolio\n",
        "compohub\n",
        "DailyProgBot\n",
        "DeltaBot\n",
        "dockerfiles\n",
        "flask\n",
        "flask-ghpages-example\n",
        "ggj14\n",
        "hackage-server\n",
        "hamiltoncomputerclub.org.nz\n",
        "haskell-learn\n",
        "HTML5-Tiny\n",
        "html5lib-python\n",
        "iamagamer\n",
        "ihaskell-notebook\n",
        "imgur-python\n",
        "intercity\n",
        "intro_programming\n",
        "ipython\n",
        "ipython-docker\n",
        "ipython-hydra\n",
        "LD48-Skins\n",
        "marshmallow\n",
        "massive-wright\n",
        "Minecraft\n",
        "miniprojects\n",
        "molyjam2013\n",
        "niketa\n",
        "openbay\n",
        "opencompetencies\n",
        "openfaux-server\n",
        "ouya-unity-plugin\n",
        "paintingautopy\n",
        "pithos\n",
        "prodo-game\n",
        "Projects\n",
        "puphpet\n",
        "pyatakl\n",
        "pybackupz\n",
        "pyladies\n",
        "pymel\n",
        "python-guide\n",
        "python-pandora\n",
        "python-patterns\n",
        "pytm\n",
        "pyunderdog\n",
        "pywp-post\n",
        "raspi\n",
        "RasPiWrite\n",
        "RedditPress\n",
        "reddit_bot\n",
        "redtube\n",
        "render-useful\n",
        "RPIO\n",
        "selfspy\n",
        "SketchDaily-GestureDrawing\n",
        "skins\n",
        "SortPictures\n",
        "SoundWall\n",
        "SuburbNightmare\n",
        "te-whare-o-te-ata\n",
        "TPB\n",
        "Triger\n",
        "tweepy\n",
        "UnityLuaIntegration\n",
        "vagrantboxes-heroku\n",
        "vIPer\n",
        "wcmckee\n",
        "wcmckee-notebook\n",
        "wcmckee.com\n",
        "wcmckee.github.io\n",
        "wcmStringPY\n",
        "wirepil\n",
        "xboxdrv\n"
       ]
      }
     ],
     "prompt_number": 17
    },
    {
     "cell_type": "code",
     "collapsed": false,
     "input": [
      "repolisx"
     ],
     "language": "python",
     "metadata": {},
     "outputs": [
      {
       "metadata": {},
       "output_type": "pyout",
       "prompt_number": 18,
       "text": [
        "[u'4chan-API',\n",
        " u'adypy',\n",
        " u'anim_framework',\n",
        " u'art-lastfm',\n",
        " u'artcontrol-api',\n",
        " u'AsylumJamCrushGame',\n",
        " u'autopaintpy123',\n",
        " u'bacongamejam05',\n",
        " u'battlenet',\n",
        " u'bbc2wp',\n",
        " u'bgj05-hungry',\n",
        " u'BirdCage',\n",
        " u'brobeur-static',\n",
        " u'brobeur-web',\n",
        " u'BroBeurFishingDream',\n",
        " u'broLove',\n",
        " u'clint',\n",
        " u'cobal.eportfolio',\n",
        " u'compohub',\n",
        " u'DailyProgBot',\n",
        " u'DeltaBot',\n",
        " u'dockerfiles',\n",
        " u'flask',\n",
        " u'flask-ghpages-example',\n",
        " u'ggj14',\n",
        " u'hackage-server',\n",
        " u'hamiltoncomputerclub.org.nz',\n",
        " u'haskell-learn',\n",
        " u'HTML5-Tiny',\n",
        " u'html5lib-python',\n",
        " u'iamagamer',\n",
        " u'ihaskell-notebook',\n",
        " u'imgur-python',\n",
        " u'intercity',\n",
        " u'intro_programming',\n",
        " u'ipython',\n",
        " u'ipython-docker',\n",
        " u'ipython-hydra',\n",
        " u'LD48-Skins',\n",
        " u'marshmallow',\n",
        " u'massive-wright',\n",
        " u'Minecraft',\n",
        " u'miniprojects',\n",
        " u'molyjam2013',\n",
        " u'niketa',\n",
        " u'openbay',\n",
        " u'opencompetencies',\n",
        " u'openfaux-server',\n",
        " u'ouya-unity-plugin',\n",
        " u'paintingautopy',\n",
        " u'pithos',\n",
        " u'prodo-game',\n",
        " u'Projects',\n",
        " u'puphpet',\n",
        " u'pyatakl',\n",
        " u'pybackupz',\n",
        " u'pyladies',\n",
        " u'pymel',\n",
        " u'python-guide',\n",
        " u'python-pandora',\n",
        " u'python-patterns',\n",
        " u'pytm',\n",
        " u'pyunderdog',\n",
        " u'pywp-post',\n",
        " u'raspi',\n",
        " u'RasPiWrite',\n",
        " u'RedditPress',\n",
        " u'reddit_bot',\n",
        " u'redtube',\n",
        " u'render-useful',\n",
        " u'RPIO',\n",
        " u'selfspy',\n",
        " u'SketchDaily-GestureDrawing',\n",
        " u'skins',\n",
        " u'SortPictures',\n",
        " u'SoundWall',\n",
        " u'SuburbNightmare',\n",
        " u'te-whare-o-te-ata',\n",
        " u'TPB',\n",
        " u'Triger',\n",
        " u'tweepy',\n",
        " u'UnityLuaIntegration',\n",
        " u'vagrantboxes-heroku',\n",
        " u'vIPer',\n",
        " u'wcmckee',\n",
        " u'wcmckee-notebook',\n",
        " u'wcmckee.com',\n",
        " u'wcmckee.github.io',\n",
        " u'wcmStringPY',\n",
        " u'wirepil',\n",
        " u'xboxdrv']"
       ]
      }
     ],
     "prompt_number": 18
    },
    {
     "cell_type": "code",
     "collapsed": false,
     "input": [
      "homlaz = ('/var/host/media/removable/USB Drive/')"
     ],
     "language": "python",
     "metadata": {},
     "outputs": [],
     "prompt_number": 19
    },
    {
     "cell_type": "code",
     "collapsed": false,
     "input": [
      "#opgitp = open('gitp.txt', 'r')"
     ],
     "language": "python",
     "metadata": {},
     "outputs": [],
     "prompt_number": 20
    },
    {
     "cell_type": "code",
     "collapsed": false,
     "input": [
      "#os.mkdir('wcmckee-git')"
     ],
     "language": "python",
     "metadata": {},
     "outputs": [],
     "prompt_number": 21
    },
    {
     "cell_type": "code",
     "collapsed": false,
     "input": [
      "gitdir = (homlaz + 'wcmckee-git')"
     ],
     "language": "python",
     "metadata": {},
     "outputs": [],
     "prompt_number": 22
    },
    {
     "cell_type": "code",
     "collapsed": false,
     "input": [
      "#_LOKDD"
     ],
     "language": "python",
     "metadata": {},
     "outputs": [],
     "prompt_number": 23
    },
    {
     "cell_type": "code",
     "collapsed": false,
     "input": [
      "#rpa"
     ],
     "language": "python",
     "metadata": {},
     "outputs": [],
     "prompt_number": 24
    },
    {
     "cell_type": "code",
     "collapsed": false,
     "input": [
      "os.chdir(gitdir)"
     ],
     "language": "python",
     "metadata": {},
     "outputs": [],
     "prompt_number": 25
    },
    {
     "cell_type": "code",
     "collapsed": false,
     "input": [
      "dirlis = os.listdir(gitdir)"
     ],
     "language": "python",
     "metadata": {},
     "outputs": [],
     "prompt_number": 26
    },
    {
     "cell_type": "code",
     "collapsed": false,
     "input": [
      "dirme = set(dirlis) - set(repolisx)"
     ],
     "language": "python",
     "metadata": {},
     "outputs": [],
     "prompt_number": 27
    },
    {
     "cell_type": "code",
     "collapsed": false,
     "input": [
      "dirout = set(repolisx) - set(dirlis)"
     ],
     "language": "python",
     "metadata": {},
     "outputs": [],
     "prompt_number": 28
    },
    {
     "cell_type": "code",
     "collapsed": false,
     "input": [
      "for dirz in dirout:\n",
      "    print dirz"
     ],
     "language": "python",
     "metadata": {},
     "outputs": [
      {
       "output_type": "stream",
       "stream": "stdout",
       "text": [
        "RasPiWrite\n",
        "wcmckee.github.io\n",
        "ggj14\n",
        "flask\n",
        "4chan-API\n",
        "BroBeurFishingDream\n",
        "art-lastfm\n",
        "pywp-post\n",
        "flask-ghpages-example\n",
        "TPB\n",
        "autopaintpy123\n",
        "broLove\n",
        "wcmckee-notebook\n",
        "wirepil\n",
        "dockerfiles\n",
        "SketchDaily-GestureDrawing\n",
        "SoundWall\n",
        "te-whare-o-te-ata\n",
        "SortPictures\n",
        "cobal.eportfolio\n",
        "intro_programming\n",
        "python-guide\n",
        "pyunderdog\n",
        "skins\n",
        "ouya-unity-plugin\n",
        "adypy\n",
        "pybackupz\n",
        "selfspy\n",
        "niketa\n",
        "Projects\n",
        "wcmckee\n",
        "bgj05-hungry\n",
        "BirdCage\n",
        "iamagamer\n",
        "ipython\n",
        "redtube\n",
        "imgur-python\n",
        "paintingautopy\n",
        "brobeur-web\n",
        "molyjam2013\n",
        "prodo-game\n",
        "reddit_bot\n",
        "DeltaBot\n",
        "marshmallow\n",
        "ipython-hydra\n",
        "compohub\n",
        "pyladies\n",
        "python-patterns\n",
        "hackage-server\n",
        "pithos\n",
        "bbc2wp\n",
        "vIPer\n",
        "Triger\n",
        "RedditPress\n",
        "tweepy\n",
        "pytm\n",
        "anim_framework\n",
        "openbay\n",
        "HTML5-Tiny\n",
        "artcontrol-api\n",
        "miniprojects\n",
        "SuburbNightmare\n",
        "raspi\n",
        "UnityLuaIntegration\n",
        "ipython-docker\n",
        "intercity\n",
        "puphpet\n",
        "DailyProgBot\n",
        "pymel\n",
        "brobeur-static\n",
        "clint\n",
        "bacongamejam05\n",
        "wcmckee.com\n",
        "wcmStringPY\n",
        "RPIO\n",
        "html5lib-python\n",
        "render-useful\n",
        "vagrantboxes-heroku\n",
        "python-pandora\n",
        "LD48-Skins\n",
        "hamiltoncomputerclub.org.nz\n",
        "battlenet\n",
        "haskell-learn\n",
        "Minecraft\n",
        "openfaux-server\n",
        "AsylumJamCrushGame\n",
        "xboxdrv\n",
        "massive-wright\n",
        "ihaskell-notebook\n",
        "opencompetencies\n",
        "pyatakl\n"
       ]
      }
     ],
     "prompt_number": 29
    },
    {
     "cell_type": "code",
     "collapsed": false,
     "input": [
      "dirme"
     ],
     "language": "python",
     "metadata": {},
     "outputs": [
      {
       "metadata": {},
       "output_type": "pyout",
       "prompt_number": 30,
       "text": [
        "set()"
       ]
      }
     ],
     "prompt_number": 30
    },
    {
     "cell_type": "code",
     "collapsed": false,
     "input": [
      "merglis = set(dirlis) & set(repolisx)"
     ],
     "language": "python",
     "metadata": {},
     "outputs": [],
     "prompt_number": 31
    },
    {
     "cell_type": "code",
     "collapsed": false,
     "input": [
      "pwd"
     ],
     "language": "python",
     "metadata": {},
     "outputs": [
      {
       "metadata": {},
       "output_type": "pyout",
       "prompt_number": 39,
       "text": [
        "u'/var/host/media/removable/USB Drive/wcmckee-git'"
       ]
      }
     ],
     "prompt_number": 39
    },
    {
     "cell_type": "code",
     "collapsed": false,
     "input": [
      "for repoit in repolisx:\n",
      "    print repoit\n",
      "    os.system('git clone https://github.com/wcmckee/' + repoit)\n",
      "    #git.Git().clone('https://github.com/wcmckee/' + repoit)"
     ],
     "language": "python",
     "metadata": {},
     "outputs": [
      {
       "output_type": "stream",
       "stream": "stdout",
       "text": [
        "4chan-API\n",
        "adypy\n",
        "anim_framework"
       ]
      },
      {
       "output_type": "stream",
       "stream": "stdout",
       "text": [
        "\n",
        "art-lastfm\n",
        "artcontrol-api\n",
        "AsylumJamCrushGame\n",
        "autopaintpy123"
       ]
      },
      {
       "output_type": "stream",
       "stream": "stdout",
       "text": [
        "\n",
        "bacongamejam05\n",
        "battlenet\n",
        "bbc2wp\n",
        "bgj05-hungry\n",
        "BirdCage"
       ]
      },
      {
       "output_type": "stream",
       "stream": "stdout",
       "text": [
        "\n",
        "brobeur-static\n",
        "brobeur-web\n",
        "BroBeurFishingDream\n",
        "broLove"
       ]
      },
      {
       "output_type": "stream",
       "stream": "stdout",
       "text": [
        "\n",
        "clint\n",
        "cobal.eportfolio\n",
        "compohub\n",
        "DailyProgBot"
       ]
      },
      {
       "output_type": "stream",
       "stream": "stdout",
       "text": [
        "\n",
        "DeltaBot\n",
        "dockerfiles\n",
        "flask\n",
        "flask-ghpages-example"
       ]
      },
      {
       "output_type": "stream",
       "stream": "stdout",
       "text": [
        "\n",
        "ggj14\n",
        "hackage-server\n",
        "hamiltoncomputerclub.org.nz"
       ]
      },
      {
       "output_type": "stream",
       "stream": "stdout",
       "text": [
        "\n",
        "haskell-learn\n",
        "HTML5-Tiny\n",
        "html5lib-python\n",
        "iamagamer"
       ]
      },
      {
       "output_type": "stream",
       "stream": "stdout",
       "text": [
        "\n",
        "ihaskell-notebook\n",
        "imgur-python\n",
        "intercity\n",
        "intro_programming"
       ]
      },
      {
       "output_type": "stream",
       "stream": "stdout",
       "text": [
        "\n",
        "ipython\n",
        "ipython-docker\n",
        "ipython-hydra\n",
        "LD48-Skins"
       ]
      },
      {
       "output_type": "stream",
       "stream": "stdout",
       "text": [
        "\n",
        "marshmallow\n",
        "massive-wright\n",
        "Minecraft\n",
        "miniprojects"
       ]
      },
      {
       "output_type": "stream",
       "stream": "stdout",
       "text": [
        "\n",
        "molyjam2013\n",
        "niketa\n",
        "openbay\n",
        "opencompetencies"
       ]
      },
      {
       "output_type": "stream",
       "stream": "stdout",
       "text": [
        "\n",
        "openfaux-server\n",
        "ouya-unity-plugin\n",
        "paintingautopy\n",
        "pithos\n",
        "prodo-game"
       ]
      },
      {
       "output_type": "stream",
       "stream": "stdout",
       "text": [
        "\n",
        "Projects\n",
        "puphpet\n",
        "pyatakl\n",
        "pybackupz\n",
        "pyladies"
       ]
      },
      {
       "output_type": "stream",
       "stream": "stdout",
       "text": [
        "\n",
        "pymel\n",
        "python-guide\n",
        "python-pandora\n",
        "python-patterns\n",
        "pytm"
       ]
      },
      {
       "output_type": "stream",
       "stream": "stdout",
       "text": [
        "\n",
        "pyunderdog\n",
        "pywp-post\n",
        "raspi\n",
        "RasPiWrite"
       ]
      },
      {
       "output_type": "stream",
       "stream": "stdout",
       "text": [
        "\n",
        "RedditPress\n",
        "reddit_bot\n",
        "redtube\n",
        "render-useful"
       ]
      },
      {
       "output_type": "stream",
       "stream": "stdout",
       "text": [
        "\n",
        "RPIO\n",
        "selfspy\n",
        "SketchDaily-GestureDrawing\n",
        "skins\n",
        "SortPictures"
       ]
      },
      {
       "output_type": "stream",
       "stream": "stdout",
       "text": [
        "\n",
        "SoundWall\n",
        "SuburbNightmare\n",
        "te-whare-o-te-ata\n",
        "TPB\n",
        "Triger"
       ]
      },
      {
       "output_type": "stream",
       "stream": "stdout",
       "text": [
        "\n",
        "tweepy\n",
        "UnityLuaIntegration\n",
        "vagrantboxes-heroku\n",
        "vIPer"
       ]
      },
      {
       "output_type": "stream",
       "stream": "stdout",
       "text": [
        "\n",
        "wcmckee\n",
        "wcmckee-notebook\n",
        "wcmckee.com\n",
        "wcmckee.github.io\n",
        "wcmStringPY"
       ]
      },
      {
       "output_type": "stream",
       "stream": "stdout",
       "text": [
        "\n",
        "wirepil\n",
        "xboxdrv\n"
       ]
      }
     ],
     "prompt_number": 37
    }
   ],
   "metadata": {}
  }
 ]
}