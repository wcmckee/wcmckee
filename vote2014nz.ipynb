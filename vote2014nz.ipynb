{
 "metadata": {
  "name": "",
  "signature": "sha256:55aae881ad4bc61ff593c384e4e1a24c4ced523496dca69fb1647e0240da4516"
 },
 "nbformat": 3,
 "nbformat_minor": 0,
 "worksheets": [
  {
   "cells": [
    {
     "cell_type": "markdown",
     "metadata": {},
     "source": [
      "<h1>vote2014nz</h1>\n",
      "\n",
      "Python script to get data on Election 2014 New Zealand Results\n",
      "\n"
     ]
    },
    {
     "cell_type": "markdown",
     "metadata": {},
     "source": [
      "TODO"
     ]
    },
    {
     "cell_type": "code",
     "collapsed": false,
     "input": [
      "import requests\n",
      "from bs4 import BeautifulSoup\n",
      "import dominate\n"
     ],
     "language": "python",
     "metadata": {},
     "outputs": [],
     "prompt_number": 127
    },
    {
     "cell_type": "code",
     "collapsed": false,
     "input": [
      "elecreq = ('http://www.electionresults.govt.nz/partystatus.html')"
     ],
     "language": "python",
     "metadata": {},
     "outputs": [],
     "prompt_number": 128
    },
    {
     "cell_type": "code",
     "collapsed": false,
     "input": [
      "elecreq.upper()"
     ],
     "language": "python",
     "metadata": {},
     "outputs": [
      {
       "metadata": {},
       "output_type": "pyout",
       "prompt_number": 129,
       "text": [
        "'HTTP://WWW.ELECTIONRESULTS.GOVT.NZ/PARTYSTATUS.HTML'"
       ]
      }
     ],
     "prompt_number": 129
    },
    {
     "cell_type": "code",
     "collapsed": false,
     "input": [
      "elecaz = requests.get(elecreq)"
     ],
     "language": "python",
     "metadata": {},
     "outputs": [],
     "prompt_number": 130
    },
    {
     "cell_type": "code",
     "collapsed": false,
     "input": [
      "eletextg = elecaz.text"
     ],
     "language": "python",
     "metadata": {},
     "outputs": [],
     "prompt_number": 131
    },
    {
     "cell_type": "code",
     "collapsed": false,
     "input": [
      "soup.find_all('a')"
     ],
     "language": "python",
     "metadata": {},
     "outputs": [
      {
       "metadata": {},
       "output_type": "pyout",
       "prompt_number": 132,
       "text": [
        "[<a href=\"index.html\">HOME</a>,\n",
        " <a href=\"partystatus.html\">OVERALL\u00a0STATUS</a>,\n",
        " <a href=\"electoratestatus.html\">ELECTORATE\u00a0STATUS</a>,\n",
        " <a href=\"electorateindex.html\">ELECTORATE DETAILS</a>,\n",
        " <a href=\"partystatus-early.html\">ADVANCE\u00a0VOTES</a>]"
       ]
      }
     ],
     "prompt_number": 132
    },
    {
     "cell_type": "code",
     "collapsed": false,
     "input": [
      "mydivs = soup.findAll(\"tr\", { \"class\" : \"hhevy\" })\n",
      "\n",
      "devsa = soup.findAll(\"td\", { \"class\" : \"orhdg\"})"
     ],
     "language": "python",
     "metadata": {},
     "outputs": [],
     "prompt_number": 133
    },
    {
     "cell_type": "code",
     "collapsed": false,
     "input": [
      "votelis = []"
     ],
     "language": "python",
     "metadata": {},
     "outputs": [],
     "prompt_number": 134
    },
    {
     "cell_type": "code",
     "collapsed": false,
     "input": [
      "for divs in mydivs:\n",
      "    print divs.findAll('th')\n",
      "    #votelis.append(divs.findALL('th'))\n",
      "    print divs.findNext('td')\n",
      "    #votelis.append(divs.findNext('td'))\n",
      "    #print divs.findNext('tr')\n",
      "    "
     ],
     "language": "python",
     "metadata": {},
     "outputs": [
      {
       "output_type": "stream",
       "stream": "stdout",
       "text": [
        "[<th>National Party</th>]\n",
        "<td align=\"right\">1,010,464</td>\n",
        "[<th>Green Party</th>]\n",
        "<td align=\"right\">210,764</td>\n",
        "[<th>M\u00c4\u0081ori Party</th>]\n",
        "<td align=\"right\">27,074</td>\n",
        "[<th>United Future</th>]\n",
        "<td align=\"right\">4,533</td>\n",
        "[<th>Internet MANA</th>]\n",
        "<td align=\"right\">26,539</td>\n",
        "[<th>Ban1080</th>]\n",
        "<td align=\"right\">4,368</td>\n",
        "[<th>The Civilian Party</th>]\n",
        "<td align=\"right\">906</td>\n",
        "[<th>Focus New Zealand</th>]\n",
        "<td align=\"right\">677</td>\n"
       ]
      }
     ],
     "prompt_number": 135
    },
    {
     "cell_type": "code",
     "collapsed": false,
     "input": [
      "for devz in devsa:\n",
      "    print(devz)\n",
      "    votelis.append(devz)"
     ],
     "language": "python",
     "metadata": {},
     "outputs": [
      {
       "output_type": "stream",
       "stream": "stdout",
       "text": [
        "<td class=\"orhdg\" colspan=\"6\" height=\"10\">\u00a0</td>\n",
        "<td class=\"orhdg\" colspan=\"5\">7,198 of 7,198 (100.0%)</td>\n",
        "<td class=\"orhdg\" colspan=\"5\">2,112,522</td>\n",
        "<td class=\"orhdg\" colspan=\"5\">  254,630</td>\n",
        "<td class=\"orhdg\" colspan=\"5\">    1,385</td>\n"
       ]
      }
     ],
     "prompt_number": 136
    },
    {
     "cell_type": "code",
     "collapsed": false,
     "input": [
      "votelis"
     ],
     "language": "python",
     "metadata": {},
     "outputs": [
      {
       "metadata": {},
       "output_type": "pyout",
       "prompt_number": 137,
       "text": [
        "[<td class=\"orhdg\" colspan=\"6\" height=\"10\">\u00a0</td>,\n",
        " <td class=\"orhdg\" colspan=\"5\">7,198 of 7,198 (100.0%)</td>,\n",
        " <td class=\"orhdg\" colspan=\"5\">2,112,522</td>,\n",
        " <td class=\"orhdg\" colspan=\"5\">  254,630</td>,\n",
        " <td class=\"orhdg\" colspan=\"5\">    1,385</td>]"
       ]
      }
     ],
     "prompt_number": 137
    },
    {
     "cell_type": "code",
     "collapsed": false,
     "input": [
      "votezcont = []"
     ],
     "language": "python",
     "metadata": {},
     "outputs": [],
     "prompt_number": 138
    },
    {
     "cell_type": "code",
     "collapsed": false,
     "input": [
      "for votez in votelis:\n",
      "    print votez.contents\n",
      "    votezcont.append(votez.contents)"
     ],
     "language": "python",
     "metadata": {},
     "outputs": [
      {
       "output_type": "stream",
       "stream": "stdout",
       "text": [
        "[u'\\xa0']\n",
        "[u'7,198 of 7,198 (100.0%)']\n",
        "[u'2,112,522']\n",
        "[u'  254,630']\n",
        "[u'    1,385']\n"
       ]
      }
     ],
     "prompt_number": 139
    },
    {
     "cell_type": "code",
     "collapsed": false,
     "input": [
      "for numz in votezcont:\n",
      "    print numz"
     ],
     "language": "python",
     "metadata": {},
     "outputs": [
      {
       "output_type": "stream",
       "stream": "stdout",
       "text": [
        "[u'\\xa0']\n",
        "[u'7,198 of 7,198 (100.0%)']\n",
        "[u'2,112,522']\n",
        "[u'  254,630']\n",
        "[u'    1,385']\n"
       ]
      }
     ],
     "prompt_number": 140
    },
    {
     "cell_type": "code",
     "collapsed": false,
     "input": [
      "votez\n",
      "    "
     ],
     "language": "python",
     "metadata": {},
     "outputs": [
      {
       "metadata": {},
       "output_type": "pyout",
       "prompt_number": 141,
       "text": [
        "<td class=\"orhdg\" colspan=\"5\">    1,385</td>"
       ]
      }
     ],
     "prompt_number": 141
    },
    {
     "cell_type": "code",
     "collapsed": false,
     "input": [
      "soup.find_all('tr')"
     ],
     "language": "python",
     "metadata": {},
     "outputs": [
      {
       "metadata": {},
       "output_type": "pyout",
       "prompt_number": 142,
       "text": [
        "[<tr class=\"menu\"><td align=\"right\" class=\"menu\" colspan=\"2\" valign=\"bottom\"><a href=\"index.html\">HOME</a>\u00a0| <a href=\"partystatus.html\">OVERALL\u00a0STATUS</a>\u00a0| <a href=\"electoratestatus.html\">ELECTORATE\u00a0STATUS</a>\u00a0| <a href=\"electorateindex.html\">ELECTORATE DETAILS</a>\u00a0| <a href=\"partystatus-early.html\">ADVANCE\u00a0VOTES</a>\u00a0</td><td align=\"right\" class=\"menu\" valign=\"bottom\" width=\"7%\"><img alt=\"oMan.jpg\" height=\"37\" src=\"img/oMan.jpg\" width=\"59\"/></td></tr>,\n",
        " <tr class=\"menu\">\n",
        " <td align=\"left\" class=\"bannerbar\" height=\"73\" rowspan=\"3\"><img alt=\"Elections Logo\" src=\"/img/eclogo.gif\" style=\"width:150px; height:73px; align:left; padding-left:10px; padding-top:1px; padding-bottom:2px;\"/></td><td class=\"bannerbar\" height=\"42\"></td></tr>,\n",
        " <tr class=\"menu\"><td class=\"bannerbar\" height=\"10\"></td></tr>,\n",
        " <tr class=\"menu\"><td class=\"bannerbar\" height=\"21\"></td></tr>,\n",
        " <tr><td align=\"center\"><h3>Election Results -- Overall Status</h3>\n",
        " </td></tr>,\n",
        " <tr><td align=\"center\"><span class=\"topmsg\"></span></td></tr>,\n",
        " <tr><td height=\"10\">\u00a0</td></tr>,\n",
        " <tr><td style=\"padding:5px;\"><table align=\"center\" border=\"0\" cellpadding=\"3\" cellspacing=\"0\" class=\"eledata\"><tr><td class=\"orhdg\" colspan=\"6\" height=\"10\">\u00a0</td></tr>\n",
        " <tr><th class=\"orhdg\">Results Counted:</th><td class=\"orhdg\" colspan=\"5\">7,198 of 7,198 (100.0%)</td></tr>\n",
        " <tr><th class=\"orhdg\">Total Votes Counted:</th><td class=\"orhdg\" colspan=\"5\">2,112,522</td></tr>\n",
        " <tr><th class=\"orhdg\">Special Votes:</th><td class=\"orhdg\" colspan=\"5\">  254,630</td></tr>\n",
        " <tr><th class=\"orhdg\">Less than 6 votes taken in Voting Places:</th><td class=\"orhdg\" colspan=\"5\">    1,385</td></tr>\n",
        " <tr class=\"headrowR\"><th class=\"headrowL\">Party</th><th class=\"headrowR\">Party<br/>Votes</th><th class=\"headrowR\">%<br/>Votes</th><th class=\"headrowR\">Electorate<br/>Seats</th><th class=\"headrowR\">List<br/>Seats</th><th class=\"headrowR\">Total<br/>Seats</th></tr>\n",
        " <tr class=\"hhevy\"><th>National Party</th><td align=\"right\">1,010,464</td><td align=\"right\"> 48.06</td><td align=\"right\">41</td><td align=\"right\">20</td><td align=\"right\">61</td></tr>\n",
        " <tr class=\"hlite\"><th>Labour Party</th><td align=\"right\">519,146</td><td align=\"right\"> 24.69</td><td align=\"right\">27</td><td align=\"right\">5</td><td align=\"right\">32</td></tr>\n",
        " <tr class=\"hhevy\"><th>Green Party</th><td align=\"right\">210,764</td><td align=\"right\"> 10.02</td><td align=\"right\">0</td><td align=\"right\">13</td><td align=\"right\">13</td></tr>\n",
        " <tr class=\"hlite\"><th>New Zealand First Party</th><td align=\"right\">186,031</td><td align=\"right\">  8.85</td><td align=\"right\">0</td><td align=\"right\">11</td><td align=\"right\">11</td></tr>\n",
        " <tr class=\"hhevy\"><th>M\u00c4\u0081ori Party</th><td align=\"right\">27,074</td><td align=\"right\">  1.29</td><td align=\"right\">1</td><td align=\"right\">1</td><td align=\"right\">2</td></tr>\n",
        " <tr class=\"hlite\"><th>ACT New Zealand</th><td align=\"right\">14,510</td><td align=\"right\">  0.69</td><td align=\"right\">1</td><td align=\"right\">0</td><td align=\"right\">1</td></tr>\n",
        " <tr class=\"hhevy\"><th>United Future</th><td align=\"right\">4,533</td><td align=\"right\">  0.22</td><td align=\"right\">1</td><td align=\"right\">0</td><td align=\"right\">1</td></tr>\n",
        " <tr class=\"hlite\"><th>Conservative</th><td align=\"right\">86,616</td><td align=\"right\">  4.12</td><td align=\"right\">0</td><td align=\"right\">0</td><td align=\"right\">0</td></tr>\n",
        " <tr class=\"hhevy\"><th>Internet MANA</th><td align=\"right\">26,539</td><td align=\"right\">  1.26</td><td align=\"right\">0</td><td align=\"right\">0</td><td align=\"right\">0</td></tr>\n",
        " <tr class=\"hlite\"><th>Aotearoa Legalise Cannabis Party</th><td align=\"right\">8,539</td><td align=\"right\">  0.41</td><td align=\"right\">0</td><td align=\"right\">0</td><td align=\"right\">0</td></tr>\n",
        " <tr class=\"hhevy\"><th>Ban1080</th><td align=\"right\">4,368</td><td align=\"right\">  0.21</td><td align=\"right\">0</td><td align=\"right\">0</td><td align=\"right\">0</td></tr>\n",
        " <tr class=\"hlite\"><th>Democrats for Social Credit</th><td align=\"right\">1,609</td><td align=\"right\">  0.08</td><td align=\"right\">0</td><td align=\"right\">0</td><td align=\"right\">0</td></tr>\n",
        " <tr class=\"hhevy\"><th>The Civilian Party</th><td align=\"right\">906</td><td align=\"right\">  0.04</td><td align=\"right\">0</td><td align=\"right\">0</td><td align=\"right\">0</td></tr>\n",
        " <tr class=\"hlite\"><th>NZ Independent Coalition</th><td align=\"right\">895</td><td align=\"right\">  0.04</td><td align=\"right\">0</td><td align=\"right\">0</td><td align=\"right\">0</td></tr>\n",
        " <tr class=\"hhevy\"><th>Focus New Zealand</th><td align=\"right\">677</td><td align=\"right\">  0.03</td><td align=\"right\">0</td><td align=\"right\">0</td><td align=\"right\">0</td></tr>\n",
        " <tr><td colspan=\"3\">\u00a0</td><td align=\"right\" class=\"totals\">71</td><td align=\"right\" class=\"totals\">50</td><td align=\"right\" class=\"totals\">121</td>\n",
        " </tr>\n",
        " </table>\n",
        " </td></tr>,\n",
        " <tr><td class=\"orhdg\" colspan=\"6\" height=\"10\">\u00a0</td></tr>,\n",
        " <tr><th class=\"orhdg\">Results Counted:</th><td class=\"orhdg\" colspan=\"5\">7,198 of 7,198 (100.0%)</td></tr>,\n",
        " <tr><th class=\"orhdg\">Total Votes Counted:</th><td class=\"orhdg\" colspan=\"5\">2,112,522</td></tr>,\n",
        " <tr><th class=\"orhdg\">Special Votes:</th><td class=\"orhdg\" colspan=\"5\">  254,630</td></tr>,\n",
        " <tr><th class=\"orhdg\">Less than 6 votes taken in Voting Places:</th><td class=\"orhdg\" colspan=\"5\">    1,385</td></tr>,\n",
        " <tr class=\"headrowR\"><th class=\"headrowL\">Party</th><th class=\"headrowR\">Party<br/>Votes</th><th class=\"headrowR\">%<br/>Votes</th><th class=\"headrowR\">Electorate<br/>Seats</th><th class=\"headrowR\">List<br/>Seats</th><th class=\"headrowR\">Total<br/>Seats</th></tr>,\n",
        " <tr class=\"hhevy\"><th>National Party</th><td align=\"right\">1,010,464</td><td align=\"right\"> 48.06</td><td align=\"right\">41</td><td align=\"right\">20</td><td align=\"right\">61</td></tr>,\n",
        " <tr class=\"hlite\"><th>Labour Party</th><td align=\"right\">519,146</td><td align=\"right\"> 24.69</td><td align=\"right\">27</td><td align=\"right\">5</td><td align=\"right\">32</td></tr>,\n",
        " <tr class=\"hhevy\"><th>Green Party</th><td align=\"right\">210,764</td><td align=\"right\"> 10.02</td><td align=\"right\">0</td><td align=\"right\">13</td><td align=\"right\">13</td></tr>,\n",
        " <tr class=\"hlite\"><th>New Zealand First Party</th><td align=\"right\">186,031</td><td align=\"right\">  8.85</td><td align=\"right\">0</td><td align=\"right\">11</td><td align=\"right\">11</td></tr>,\n",
        " <tr class=\"hhevy\"><th>M\u00c4\u0081ori Party</th><td align=\"right\">27,074</td><td align=\"right\">  1.29</td><td align=\"right\">1</td><td align=\"right\">1</td><td align=\"right\">2</td></tr>,\n",
        " <tr class=\"hlite\"><th>ACT New Zealand</th><td align=\"right\">14,510</td><td align=\"right\">  0.69</td><td align=\"right\">1</td><td align=\"right\">0</td><td align=\"right\">1</td></tr>,\n",
        " <tr class=\"hhevy\"><th>United Future</th><td align=\"right\">4,533</td><td align=\"right\">  0.22</td><td align=\"right\">1</td><td align=\"right\">0</td><td align=\"right\">1</td></tr>,\n",
        " <tr class=\"hlite\"><th>Conservative</th><td align=\"right\">86,616</td><td align=\"right\">  4.12</td><td align=\"right\">0</td><td align=\"right\">0</td><td align=\"right\">0</td></tr>,\n",
        " <tr class=\"hhevy\"><th>Internet MANA</th><td align=\"right\">26,539</td><td align=\"right\">  1.26</td><td align=\"right\">0</td><td align=\"right\">0</td><td align=\"right\">0</td></tr>,\n",
        " <tr class=\"hlite\"><th>Aotearoa Legalise Cannabis Party</th><td align=\"right\">8,539</td><td align=\"right\">  0.41</td><td align=\"right\">0</td><td align=\"right\">0</td><td align=\"right\">0</td></tr>,\n",
        " <tr class=\"hhevy\"><th>Ban1080</th><td align=\"right\">4,368</td><td align=\"right\">  0.21</td><td align=\"right\">0</td><td align=\"right\">0</td><td align=\"right\">0</td></tr>,\n",
        " <tr class=\"hlite\"><th>Democrats for Social Credit</th><td align=\"right\">1,609</td><td align=\"right\">  0.08</td><td align=\"right\">0</td><td align=\"right\">0</td><td align=\"right\">0</td></tr>,\n",
        " <tr class=\"hhevy\"><th>The Civilian Party</th><td align=\"right\">906</td><td align=\"right\">  0.04</td><td align=\"right\">0</td><td align=\"right\">0</td><td align=\"right\">0</td></tr>,\n",
        " <tr class=\"hlite\"><th>NZ Independent Coalition</th><td align=\"right\">895</td><td align=\"right\">  0.04</td><td align=\"right\">0</td><td align=\"right\">0</td><td align=\"right\">0</td></tr>,\n",
        " <tr class=\"hhevy\"><th>Focus New Zealand</th><td align=\"right\">677</td><td align=\"right\">  0.03</td><td align=\"right\">0</td><td align=\"right\">0</td><td align=\"right\">0</td></tr>,\n",
        " <tr><td colspan=\"3\">\u00a0</td><td align=\"right\" class=\"totals\">71</td><td align=\"right\" class=\"totals\">50</td><td align=\"right\" class=\"totals\">121</td>\n",
        " </tr>,\n",
        " <tr><td class=\"refrmsg\">Updated  1:10 am on 21/09/2014</td></tr>,\n",
        " <tr><td align=\"center\" class=\"bannerbar\" height=\"25\" style=\"vertical-align:middle;text-align:center\">\u00a0</td></tr>,\n",
        " <tr class=\"menu\"><td style=\"text-align:center;padding-top:5px;padding-bottom:5px;\"></td><td></td></tr>,\n",
        " <tr><td><p class=\"copyr\">Copyright \u00a92014 New Zealand Electoral Commission, Wellington<br/>All Rights Reserved</p><p class=\"copyr\">The results shown are preliminary and may change when the official<br/>count (including special votes) is completed.</p></td></tr>]"
       ]
      }
     ],
     "prompt_number": 142
    },
    {
     "cell_type": "code",
     "collapsed": false,
     "input": [
      "soup = BeautifulSoup(eletextg)\n",
      "print(soup.prettify())"
     ],
     "language": "python",
     "metadata": {},
     "outputs": [
      {
       "output_type": "stream",
       "stream": "stdout",
       "text": [
        "<!DOCTYPE HTML PUBLIC \"-//IETF//DTD HTML 2.0//EN\">\n",
        "<html>\n",
        " <head>\n",
        "  <title>\n",
        "   404 Not Found\n",
        "  </title>\n",
        " </head>\n",
        " <body>\n",
        "  <h1>\n",
        "   Not Found\n",
        "  </h1>\n",
        "  <p>\n",
        "   The requested URL /partystatus.html was not found on this server.\n",
        "  </p>\n",
        " </body>\n",
        "</html>\n",
        "\n"
       ]
      }
     ],
     "prompt_number": 143
    },
    {
     "cell_type": "code",
     "collapsed": false,
     "input": [],
     "language": "python",
     "metadata": {},
     "outputs": [],
     "prompt_number": 143
    },
    {
     "cell_type": "code",
     "collapsed": false,
     "input": [],
     "language": "python",
     "metadata": {},
     "outputs": [],
     "prompt_number": 143
    },
    {
     "cell_type": "code",
     "collapsed": false,
     "input": [],
     "language": "python",
     "metadata": {},
     "outputs": [],
     "prompt_number": 143
    },
    {
     "cell_type": "code",
     "collapsed": false,
     "input": [],
     "language": "python",
     "metadata": {},
     "outputs": []
    }
   ],
   "metadata": {}
  }
 ]
}