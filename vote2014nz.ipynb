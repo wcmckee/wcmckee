{
 "metadata": {
  "name": "",
  "signature": "sha256:fe5ee1dd6dcdae6e2e2e390c1c23097586d4b0e80a61e8cd3b337467d1717e85"
 },
 "nbformat": 3,
 "nbformat_minor": 0,
 "worksheets": [
  {
   "cells": [
    {
     "cell_type": "markdown",
     "metadata": {},
     "source": [
      "<h1>vote2014nz</h1>\n",
      "\n",
      "Python script to get data on Election 2014 New Zealand Results\n",
      "\n"
     ]
    },
    {
     "cell_type": "markdown",
     "metadata": {},
     "source": [
      "TODO"
     ]
    },
    {
     "cell_type": "code",
     "collapsed": false,
     "input": [
      "import requests\n",
      "from bs4 import BeautifulSoup\n",
      "import dominate\n"
     ],
     "language": "python",
     "metadata": {},
     "outputs": []
    },
    {
     "cell_type": "code",
     "collapsed": false,
     "input": [
      "elecreq = ('http://www.electionresults.govt.nz/electionresults_2014/partystatus.html')"
     ],
     "language": "python",
     "metadata": {},
     "outputs": [],
     "prompt_number": 25
    },
    {
     "cell_type": "code",
     "collapsed": false,
     "input": [
      "elecreq.upper()"
     ],
     "language": "python",
     "metadata": {},
     "outputs": [
      {
       "metadata": {},
       "output_type": "pyout",
       "prompt_number": 26,
       "text": [
        "'HTTP://WWW.ELECTIONRESULTS.GOVT.NZ/ELECTIONRESULTS_2014/PARTYSTATUS.HTML'"
       ]
      }
     ],
     "prompt_number": 26
    },
    {
     "cell_type": "code",
     "collapsed": false,
     "input": [
      "elecaz = requests.get(elecreq)"
     ],
     "language": "python",
     "metadata": {},
     "outputs": [],
     "prompt_number": 27
    },
    {
     "cell_type": "code",
     "collapsed": false,
     "input": [
      "eletextg = elecaz.text"
     ],
     "language": "python",
     "metadata": {},
     "outputs": [],
     "prompt_number": 28
    },
    {
     "cell_type": "code",
     "collapsed": false,
     "input": [
      "eletextg"
     ],
     "language": "python",
     "metadata": {},
     "outputs": [
      {
       "metadata": {},
       "output_type": "pyout",
       "prompt_number": 29,
       "text": [
        "u'<!DOCTYPE HTML PUBLIC \"-//W3C//DTD HTML 4.01 Transitional//EN\">\\n<html>\\n<head>\\n<title>Election Results -- Overall Status</title>\\n<meta http-equiv=\"Content-Type\" content=\"text/html; charset=utf-8\">\\n<meta name=\"generator\" content=\"Catalyst IT gen-web-ovstatus-index.p\">\\n<meta name=\"author\" content=\"New Zealand Electoral Commission\">\\n<link rel=\"stylesheet\" href=\"public.css\" type=\"text/css\">\\n</head>\\n<body>\\n<table cellSpacing=\"0\" cellPadding=\"0\" width=\"100%\" border=\"0\" bgcolor=\"#FF850C\">\\n<tr class=\"menu\"><td valign=\"bottom\" align=\"right\" colspan=\"2\" class=\"menu\"><a href=\"index.html\">HOME</a>&nbsp;| <a href=\"partystatus.html\">OVERALL&nbsp;STATUS</a>&nbsp;| <a href=\"electoratestatus.html\">ELECTORATE&nbsp;STATUS</a>&nbsp;| <a href=\"electorateindex.html\">ELECTORATE DETAILS</a>&nbsp;| <a href=\"partystatus-early.html\">ADVANCE&nbsp;VOTES</a>&nbsp;</td><td width=\"7%\" class=\"menu\" align=\"right\" valign=\"bottom\"><img src=\"img/oMan.jpg\" width=\"59\" height=\"37\" alt=\"oMan.jpg\"></td></tr>\\n<tr class=\"menu\">\\n<td class=\"bannerbar\" height=\"73\" rowspan=\"3\" align=\"left\"><img src=\"/img/eclogo.gif\" alt=\"Elections Logo\" style=\"width:150px; height:73px; align:left; padding-left:10px; padding-top:1px; padding-bottom:2px;\"></td><td class=\"bannerbar\" height=\"42\"></td></tr>\\n<tr class=\"menu\"><td height=\"10\" class=\"bannerbar\"></td></tr>\\n<tr class=\"menu\"><td height=\"21\" class=\"bannerbar\"></td></tr>\\n</table>\\n<table border=\"0\" cellpadding=\"0\" cellspacing=\"0\" width=\"70%\" align=\"center\">\\n<tr><td align=\"center\"><h3>Election Results -- Overall Status</h3>\\n</td></tr>\\n<tr><td align=\"center\"><span class=\"topmsg\"></span></td></tr>\\n<tr><td height=\"10\">&nbsp;</td></tr>\\n</table>\\n<table class=\"maintable\" border=\"1\" cellpadding=\"1\" cellspacing=\"0\" align=\"center\"><tr><td style=\"padding:5px;\"><table class=\"eledata\" border=\"0\" cellpadding=\"3\" cellspacing=\"0\" align=\"center\"><tr><td colspan=\"6\" height=\"10\" class=\"orhdg\">&nbsp;</td></tr>\\n<tr><th class=\"orhdg\">Results Counted:</th><td class=\"orhdg\" colspan=\"5\">7,198 of 7,198 (100.0%)</td></tr>\\n<tr><th class=\"orhdg\">Total Votes Counted:</th><td class=\"orhdg\" colspan=\"5\">2,112,522</td></tr>\\n<tr><th class=\"orhdg\">Special Votes:</th><td class=\"orhdg\" colspan=\"5\">  254,630</td></tr>\\n<tr><th class=\"orhdg\">Less than 6 votes taken in Voting Places:</th><td class=\"orhdg\" colspan=\"5\">    1,385</td></tr>\\n<tr class=\"headrowR\"><th class=\"headrowL\">Party</th><th class=\"headrowR\">Party<br>Votes</th><th class=\"headrowR\">%<br>Votes</th><th class=\"headrowR\">Electorate<br>Seats</th><th class=\"headrowR\">List<br>Seats</th><th class=\"headrowR\">Total<br>Seats</th></tr>\\n<tr class=\"hhevy\"><th>National Party</th><td align=\"right\">1,010,464</td><td align=\"right\"> 48.06</td><td align=\"right\">41</td><td align=\"right\">20</td><td align=\"right\">61</td></tr>\\n<tr class=\"hlite\"><th>Labour Party</th><td align=\"right\">519,146</td><td align=\"right\"> 24.69</td><td align=\"right\">27</td><td align=\"right\">5</td><td align=\"right\">32</td></tr>\\n<tr class=\"hhevy\"><th>Green Party</th><td align=\"right\">210,764</td><td align=\"right\"> 10.02</td><td align=\"right\">0</td><td align=\"right\">13</td><td align=\"right\">13</td></tr>\\n<tr class=\"hlite\"><th>New Zealand First Party</th><td align=\"right\">186,031</td><td align=\"right\">  8.85</td><td align=\"right\">0</td><td align=\"right\">11</td><td align=\"right\">11</td></tr>\\n<tr class=\"hhevy\"><th>M\\xc4\\x81ori Party</th><td align=\"right\">27,074</td><td align=\"right\">  1.29</td><td align=\"right\">1</td><td align=\"right\">1</td><td align=\"right\">2</td></tr>\\n<tr class=\"hlite\"><th>ACT New Zealand</th><td align=\"right\">14,510</td><td align=\"right\">  0.69</td><td align=\"right\">1</td><td align=\"right\">0</td><td align=\"right\">1</td></tr>\\n<tr class=\"hhevy\"><th>United Future</th><td align=\"right\">4,533</td><td align=\"right\">  0.22</td><td align=\"right\">1</td><td align=\"right\">0</td><td align=\"right\">1</td></tr>\\n<tr class=\"hlite\"><th>Conservative</th><td align=\"right\">86,616</td><td align=\"right\">  4.12</td><td align=\"right\">0</td><td align=\"right\">0</td><td align=\"right\">0</td></tr>\\n<tr class=\"hhevy\"><th>Internet MANA</th><td align=\"right\">26,539</td><td align=\"right\">  1.26</td><td align=\"right\">0</td><td align=\"right\">0</td><td align=\"right\">0</td></tr>\\n<tr class=\"hlite\"><th>Aotearoa Legalise Cannabis Party</th><td align=\"right\">8,539</td><td align=\"right\">  0.41</td><td align=\"right\">0</td><td align=\"right\">0</td><td align=\"right\">0</td></tr>\\n<tr class=\"hhevy\"><th>Ban1080</th><td align=\"right\">4,368</td><td align=\"right\">  0.21</td><td align=\"right\">0</td><td align=\"right\">0</td><td align=\"right\">0</td></tr>\\n<tr class=\"hlite\"><th>Democrats for Social Credit</th><td align=\"right\">1,609</td><td align=\"right\">  0.08</td><td align=\"right\">0</td><td align=\"right\">0</td><td align=\"right\">0</td></tr>\\n<tr class=\"hhevy\"><th>The Civilian Party</th><td align=\"right\">906</td><td align=\"right\">  0.04</td><td align=\"right\">0</td><td align=\"right\">0</td><td align=\"right\">0</td></tr>\\n<tr class=\"hlite\"><th>NZ Independent Coalition</th><td align=\"right\">895</td><td align=\"right\">  0.04</td><td align=\"right\">0</td><td align=\"right\">0</td><td align=\"right\">0</td></tr>\\n<tr class=\"hhevy\"><th>Focus New Zealand</th><td align=\"right\">677</td><td align=\"right\">  0.03</td><td align=\"right\">0</td><td align=\"right\">0</td><td align=\"right\">0</td></tr>\\n<tr><td colspan=\"3\">&nbsp;</td><td class=\"totals\" align=\"right\">71</td><td class=\"totals\" align=\"right\">50</td><td class=\"totals\" align=\"right\">121</td>\\n</tr>\\n</table>\\n</td></tr></table><table border=\"0\" cellspacing=\"0\" cellpadding=\"0\" width=\"100%\"><tr><td class=\"refrmsg\">Updated  1:10 am on 21/09/2014</td></tr>\\n<tr><td align=\"center\" class=\"bannerbar\" style=\"vertical-align:middle;text-align:center\" height=\"25\">&nbsp;</td></tr>\\n<tr class=\"menu\"><td style=\"text-align:center;padding-top:5px;padding-bottom:5px;\"><td></tr>\\n<tr><td><p class=\"copyr\">Copyright &copy;2014 New Zealand Electoral Commission, Wellington<br>All Rights Reserved</p><p class=\"copyr\">The results shown are preliminary and may change when the official<br>count (including special votes) is completed.</p></td></tr>\\n</table></body>\\n</html>\\n'"
       ]
      }
     ],
     "prompt_number": 29
    },
    {
     "cell_type": "code",
     "collapsed": false,
     "input": [
      "soup = BeautifulSoup(eletextg)\n",
      "print(soup.prettify())"
     ],
     "language": "python",
     "metadata": {},
     "outputs": [
      {
       "output_type": "stream",
       "stream": "stdout",
       "text": [
        "<!DOCTYPE HTML PUBLIC \"-//W3C//DTD HTML 4.01 Transitional//EN\">\n",
        "<html>\n",
        " <head>\n",
        "  <title>\n",
        "   Election Results -- Overall Status\n",
        "  </title>\n",
        "  <meta content=\"text/html; charset=utf-8\" http-equiv=\"Content-Type\"/>\n",
        "  <meta content=\"Catalyst IT gen-web-ovstatus-index.p\" name=\"generator\"/>\n",
        "  <meta content=\"New Zealand Electoral Commission\" name=\"author\"/>\n",
        "  <link href=\"public.css\" rel=\"stylesheet\" type=\"text/css\"/>\n",
        " </head>\n",
        " <body>\n",
        "  <table bgcolor=\"#FF850C\" border=\"0\" cellpadding=\"0\" cellspacing=\"0\" width=\"100%\">\n",
        "   <tr class=\"menu\">\n",
        "    <td align=\"right\" class=\"menu\" colspan=\"2\" valign=\"bottom\">\n",
        "     <a href=\"index.html\">\n",
        "      HOME\n",
        "     </a>\n",
        "     |\n",
        "     <a href=\"partystatus.html\">\n",
        "      OVERALL\u00a0STATUS\n",
        "     </a>\n",
        "     |\n",
        "     <a href=\"electoratestatus.html\">\n",
        "      ELECTORATE\u00a0STATUS\n",
        "     </a>\n",
        "     |\n",
        "     <a href=\"electorateindex.html\">\n",
        "      ELECTORATE DETAILS\n",
        "     </a>\n",
        "     |\n",
        "     <a href=\"partystatus-early.html\">\n",
        "      ADVANCE\u00a0VOTES\n",
        "     </a>\n",
        "    </td>\n",
        "    <td align=\"right\" class=\"menu\" valign=\"bottom\" width=\"7%\">\n",
        "     <img alt=\"oMan.jpg\" height=\"37\" src=\"img/oMan.jpg\" width=\"59\"/>\n",
        "    </td>\n",
        "   </tr>\n",
        "   <tr class=\"menu\">\n",
        "    <td align=\"left\" class=\"bannerbar\" height=\"73\" rowspan=\"3\">\n",
        "     <img alt=\"Elections Logo\" src=\"/img/eclogo.gif\" style=\"width:150px; height:73px; align:left; padding-left:10px; padding-top:1px; padding-bottom:2px;\"/>\n",
        "    </td>\n",
        "    <td class=\"bannerbar\" height=\"42\">\n",
        "    </td>\n",
        "   </tr>\n",
        "   <tr class=\"menu\">\n",
        "    <td class=\"bannerbar\" height=\"10\">\n",
        "    </td>\n",
        "   </tr>\n",
        "   <tr class=\"menu\">\n",
        "    <td class=\"bannerbar\" height=\"21\">\n",
        "    </td>\n",
        "   </tr>\n",
        "  </table>\n",
        "  <table align=\"center\" border=\"0\" cellpadding=\"0\" cellspacing=\"0\" width=\"70%\">\n",
        "   <tr>\n",
        "    <td align=\"center\">\n",
        "     <h3>\n",
        "      Election Results -- Overall Status\n",
        "     </h3>\n",
        "    </td>\n",
        "   </tr>\n",
        "   <tr>\n",
        "    <td align=\"center\">\n",
        "     <span class=\"topmsg\">\n",
        "     </span>\n",
        "    </td>\n",
        "   </tr>\n",
        "   <tr>\n",
        "    <td height=\"10\">\n",
        "    </td>\n",
        "   </tr>\n",
        "  </table>\n",
        "  <table align=\"center\" border=\"1\" cellpadding=\"1\" cellspacing=\"0\" class=\"maintable\">\n",
        "   <tr>\n",
        "    <td style=\"padding:5px;\">\n",
        "     <table align=\"center\" border=\"0\" cellpadding=\"3\" cellspacing=\"0\" class=\"eledata\">\n",
        "      <tr>\n",
        "       <td class=\"orhdg\" colspan=\"6\" height=\"10\">\n",
        "       </td>\n",
        "      </tr>\n",
        "      <tr>\n",
        "       <th class=\"orhdg\">\n",
        "        Results Counted:\n",
        "       </th>\n",
        "       <td class=\"orhdg\" colspan=\"5\">\n",
        "        7,198 of 7,198 (100.0%)\n",
        "       </td>\n",
        "      </tr>\n",
        "      <tr>\n",
        "       <th class=\"orhdg\">\n",
        "        Total Votes Counted:\n",
        "       </th>\n",
        "       <td class=\"orhdg\" colspan=\"5\">\n",
        "        2,112,522\n",
        "       </td>\n",
        "      </tr>\n",
        "      <tr>\n",
        "       <th class=\"orhdg\">\n",
        "        Special Votes:\n",
        "       </th>\n",
        "       <td class=\"orhdg\" colspan=\"5\">\n",
        "        254,630\n",
        "       </td>\n",
        "      </tr>\n",
        "      <tr>\n",
        "       <th class=\"orhdg\">\n",
        "        Less than 6 votes taken in Voting Places:\n",
        "       </th>\n",
        "       <td class=\"orhdg\" colspan=\"5\">\n",
        "        1,385\n",
        "       </td>\n",
        "      </tr>\n",
        "      <tr class=\"headrowR\">\n",
        "       <th class=\"headrowL\">\n",
        "        Party\n",
        "       </th>\n",
        "       <th class=\"headrowR\">\n",
        "        Party\n",
        "        <br/>\n",
        "        Votes\n",
        "       </th>\n",
        "       <th class=\"headrowR\">\n",
        "        %\n",
        "        <br/>\n",
        "        Votes\n",
        "       </th>\n",
        "       <th class=\"headrowR\">\n",
        "        Electorate\n",
        "        <br/>\n",
        "        Seats\n",
        "       </th>\n",
        "       <th class=\"headrowR\">\n",
        "        List\n",
        "        <br/>\n",
        "        Seats\n",
        "       </th>\n",
        "       <th class=\"headrowR\">\n",
        "        Total\n",
        "        <br/>\n",
        "        Seats\n",
        "       </th>\n",
        "      </tr>\n",
        "      <tr class=\"hhevy\">\n",
        "       <th>\n",
        "        National Party\n",
        "       </th>\n",
        "       <td align=\"right\">\n",
        "        1,010,464\n",
        "       </td>\n",
        "       <td align=\"right\">\n",
        "        48.06\n",
        "       </td>\n",
        "       <td align=\"right\">\n",
        "        41\n",
        "       </td>\n",
        "       <td align=\"right\">\n",
        "        20\n",
        "       </td>\n",
        "       <td align=\"right\">\n",
        "        61\n",
        "       </td>\n",
        "      </tr>\n",
        "      <tr class=\"hlite\">\n",
        "       <th>\n",
        "        Labour Party\n",
        "       </th>\n",
        "       <td align=\"right\">\n",
        "        519,146\n",
        "       </td>\n",
        "       <td align=\"right\">\n",
        "        24.69\n",
        "       </td>\n",
        "       <td align=\"right\">\n",
        "        27\n",
        "       </td>\n",
        "       <td align=\"right\">\n",
        "        5\n",
        "       </td>\n",
        "       <td align=\"right\">\n",
        "        32\n",
        "       </td>\n",
        "      </tr>\n",
        "      <tr class=\"hhevy\">\n",
        "       <th>\n",
        "        Green Party\n",
        "       </th>\n",
        "       <td align=\"right\">\n",
        "        210,764\n",
        "       </td>\n",
        "       <td align=\"right\">\n",
        "        10.02\n",
        "       </td>\n",
        "       <td align=\"right\">\n",
        "        0\n",
        "       </td>\n",
        "       <td align=\"right\">\n",
        "        13\n",
        "       </td>\n",
        "       <td align=\"right\">\n",
        "        13\n",
        "       </td>\n",
        "      </tr>\n",
        "      <tr class=\"hlite\">\n",
        "       <th>\n",
        "        New Zealand First Party\n",
        "       </th>\n",
        "       <td align=\"right\">\n",
        "        186,031\n",
        "       </td>\n",
        "       <td align=\"right\">\n",
        "        8.85\n",
        "       </td>\n",
        "       <td align=\"right\">\n",
        "        0\n",
        "       </td>\n",
        "       <td align=\"right\">\n",
        "        11\n",
        "       </td>\n",
        "       <td align=\"right\">\n",
        "        11\n",
        "       </td>\n",
        "      </tr>\n",
        "      <tr class=\"hhevy\">\n",
        "       <th>\n",
        "        M\u00c4\u0081ori Party\n",
        "       </th>\n",
        "       <td align=\"right\">\n",
        "        27,074\n",
        "       </td>\n",
        "       <td align=\"right\">\n",
        "        1.29\n",
        "       </td>\n",
        "       <td align=\"right\">\n",
        "        1\n",
        "       </td>\n",
        "       <td align=\"right\">\n",
        "        1\n",
        "       </td>\n",
        "       <td align=\"right\">\n",
        "        2\n",
        "       </td>\n",
        "      </tr>\n",
        "      <tr class=\"hlite\">\n",
        "       <th>\n",
        "        ACT New Zealand\n",
        "       </th>\n",
        "       <td align=\"right\">\n",
        "        14,510\n",
        "       </td>\n",
        "       <td align=\"right\">\n",
        "        0.69\n",
        "       </td>\n",
        "       <td align=\"right\">\n",
        "        1\n",
        "       </td>\n",
        "       <td align=\"right\">\n",
        "        0\n",
        "       </td>\n",
        "       <td align=\"right\">\n",
        "        1\n",
        "       </td>\n",
        "      </tr>\n",
        "      <tr class=\"hhevy\">\n",
        "       <th>\n",
        "        United Future\n",
        "       </th>\n",
        "       <td align=\"right\">\n",
        "        4,533\n",
        "       </td>\n",
        "       <td align=\"right\">\n",
        "        0.22\n",
        "       </td>\n",
        "       <td align=\"right\">\n",
        "        1\n",
        "       </td>\n",
        "       <td align=\"right\">\n",
        "        0\n",
        "       </td>\n",
        "       <td align=\"right\">\n",
        "        1\n",
        "       </td>\n",
        "      </tr>\n",
        "      <tr class=\"hlite\">\n",
        "       <th>\n",
        "        Conservative\n",
        "       </th>\n",
        "       <td align=\"right\">\n",
        "        86,616\n",
        "       </td>\n",
        "       <td align=\"right\">\n",
        "        4.12\n",
        "       </td>\n",
        "       <td align=\"right\">\n",
        "        0\n",
        "       </td>\n",
        "       <td align=\"right\">\n",
        "        0\n",
        "       </td>\n",
        "       <td align=\"right\">\n",
        "        0\n",
        "       </td>\n",
        "      </tr>\n",
        "      <tr class=\"hhevy\">\n",
        "       <th>\n",
        "        Internet MANA\n",
        "       </th>\n",
        "       <td align=\"right\">\n",
        "        26,539\n",
        "       </td>\n",
        "       <td align=\"right\">\n",
        "        1.26\n",
        "       </td>\n",
        "       <td align=\"right\">\n",
        "        0\n",
        "       </td>\n",
        "       <td align=\"right\">\n",
        "        0\n",
        "       </td>\n",
        "       <td align=\"right\">\n",
        "        0\n",
        "       </td>\n",
        "      </tr>\n",
        "      <tr class=\"hlite\">\n",
        "       <th>\n",
        "        Aotearoa Legalise Cannabis Party\n",
        "       </th>\n",
        "       <td align=\"right\">\n",
        "        8,539\n",
        "       </td>\n",
        "       <td align=\"right\">\n",
        "        0.41\n",
        "       </td>\n",
        "       <td align=\"right\">\n",
        "        0\n",
        "       </td>\n",
        "       <td align=\"right\">\n",
        "        0\n",
        "       </td>\n",
        "       <td align=\"right\">\n",
        "        0\n",
        "       </td>\n",
        "      </tr>\n",
        "      <tr class=\"hhevy\">\n",
        "       <th>\n",
        "        Ban1080\n",
        "       </th>\n",
        "       <td align=\"right\">\n",
        "        4,368\n",
        "       </td>\n",
        "       <td align=\"right\">\n",
        "        0.21\n",
        "       </td>\n",
        "       <td align=\"right\">\n",
        "        0\n",
        "       </td>\n",
        "       <td align=\"right\">\n",
        "        0\n",
        "       </td>\n",
        "       <td align=\"right\">\n",
        "        0\n",
        "       </td>\n",
        "      </tr>\n",
        "      <tr class=\"hlite\">\n",
        "       <th>\n",
        "        Democrats for Social Credit\n",
        "       </th>\n",
        "       <td align=\"right\">\n",
        "        1,609\n",
        "       </td>\n",
        "       <td align=\"right\">\n",
        "        0.08\n",
        "       </td>\n",
        "       <td align=\"right\">\n",
        "        0\n",
        "       </td>\n",
        "       <td align=\"right\">\n",
        "        0\n",
        "       </td>\n",
        "       <td align=\"right\">\n",
        "        0\n",
        "       </td>\n",
        "      </tr>\n",
        "      <tr class=\"hhevy\">\n",
        "       <th>\n",
        "        The Civilian Party\n",
        "       </th>\n",
        "       <td align=\"right\">\n",
        "        906\n",
        "       </td>\n",
        "       <td align=\"right\">\n",
        "        0.04\n",
        "       </td>\n",
        "       <td align=\"right\">\n",
        "        0\n",
        "       </td>\n",
        "       <td align=\"right\">\n",
        "        0\n",
        "       </td>\n",
        "       <td align=\"right\">\n",
        "        0\n",
        "       </td>\n",
        "      </tr>\n",
        "      <tr class=\"hlite\">\n",
        "       <th>\n",
        "        NZ Independent Coalition\n",
        "       </th>\n",
        "       <td align=\"right\">\n",
        "        895\n",
        "       </td>\n",
        "       <td align=\"right\">\n",
        "        0.04\n",
        "       </td>\n",
        "       <td align=\"right\">\n",
        "        0\n",
        "       </td>\n",
        "       <td align=\"right\">\n",
        "        0\n",
        "       </td>\n",
        "       <td align=\"right\">\n",
        "        0\n",
        "       </td>\n",
        "      </tr>\n",
        "      <tr class=\"hhevy\">\n",
        "       <th>\n",
        "        Focus New Zealand\n",
        "       </th>\n",
        "       <td align=\"right\">\n",
        "        677\n",
        "       </td>\n",
        "       <td align=\"right\">\n",
        "        0.03\n",
        "       </td>\n",
        "       <td align=\"right\">\n",
        "        0\n",
        "       </td>\n",
        "       <td align=\"right\">\n",
        "        0\n",
        "       </td>\n",
        "       <td align=\"right\">\n",
        "        0\n",
        "       </td>\n",
        "      </tr>\n",
        "      <tr>\n",
        "       <td colspan=\"3\">\n",
        "       </td>\n",
        "       <td align=\"right\" class=\"totals\">\n",
        "        71\n",
        "       </td>\n",
        "       <td align=\"right\" class=\"totals\">\n",
        "        50\n",
        "       </td>\n",
        "       <td align=\"right\" class=\"totals\">\n",
        "        121\n",
        "       </td>\n",
        "      </tr>\n",
        "     </table>\n",
        "    </td>\n",
        "   </tr>\n",
        "  </table>\n",
        "  <table border=\"0\" cellpadding=\"0\" cellspacing=\"0\" width=\"100%\">\n",
        "   <tr>\n",
        "    <td class=\"refrmsg\">\n",
        "     Updated  1:10 am on 21/09/2014\n",
        "    </td>\n",
        "   </tr>\n",
        "   <tr>\n",
        "    <td align=\"center\" class=\"bannerbar\" height=\"25\" style=\"vertical-align:middle;text-align:center\">\n",
        "    </td>\n",
        "   </tr>\n",
        "   <tr class=\"menu\">\n",
        "    <td style=\"text-align:center;padding-top:5px;padding-bottom:5px;\">\n",
        "    </td>\n",
        "    <td>\n",
        "    </td>\n",
        "   </tr>\n",
        "   <tr>\n",
        "    <td>\n",
        "     <p class=\"copyr\">\n",
        "      Copyright \u00a92014 New Zealand Electoral Commission, Wellington\n",
        "      <br/>\n",
        "      All Rights Reserved\n",
        "     </p>\n",
        "     <p class=\"copyr\">\n",
        "      The results shown are preliminary and may change when the official\n",
        "      <br/>\n",
        "      count (including special votes) is completed.\n",
        "     </p>\n",
        "    </td>\n",
        "   </tr>\n",
        "  </table>\n",
        " </body>\n",
        "</html>\n",
        "\n"
       ]
      }
     ],
     "prompt_number": 30
    },
    {
     "cell_type": "code",
     "collapsed": false,
     "input": [
      "soup.find_all('a')"
     ],
     "language": "python",
     "metadata": {},
     "outputs": [
      {
       "metadata": {},
       "output_type": "pyout",
       "prompt_number": 31,
       "text": [
        "[<a href=\"index.html\">HOME</a>,\n",
        " <a href=\"partystatus.html\">OVERALL\u00a0STATUS</a>,\n",
        " <a href=\"electoratestatus.html\">ELECTORATE\u00a0STATUS</a>,\n",
        " <a href=\"electorateindex.html\">ELECTORATE DETAILS</a>,\n",
        " <a href=\"partystatus-early.html\">ADVANCE\u00a0VOTES</a>]"
       ]
      }
     ],
     "prompt_number": 31
    },
    {
     "cell_type": "code",
     "collapsed": false,
     "input": [
      "mydivs = soup.findAll(\"tr\", { \"class\" : \"hhevy\" })\n",
      "\n",
      "devsa = soup.findAll(\"td\", { \"class\" : \"orhdg\"})"
     ],
     "language": "python",
     "metadata": {},
     "outputs": [],
     "prompt_number": 32
    },
    {
     "cell_type": "code",
     "collapsed": false,
     "input": [
      "votelis = []"
     ],
     "language": "python",
     "metadata": {},
     "outputs": [],
     "prompt_number": 33
    },
    {
     "cell_type": "code",
     "collapsed": false,
     "input": [
      "divlist = []\n",
      "\n",
      "for divs in mydivs:\n",
      "    print divs.findAll('th')\n",
      "    divlist.append(divs.findAll('th'))\n",
      "    #votelis.append(divs.findALL('th'))\n",
      "    print divs.findNext('td')\n",
      "    divlist.append(divs.findNext('td'))\n",
      "                   \n",
      "    #votelis.append(divs.findNext('td'))\n",
      "    #print divs.findNext('tr')\n",
      "    "
     ],
     "language": "python",
     "metadata": {},
     "outputs": [
      {
       "output_type": "stream",
       "stream": "stdout",
       "text": [
        "[<th>National Party</th>]\n",
        "<td align=\"right\">1,010,464</td>\n",
        "[<th>Green Party</th>]\n",
        "<td align=\"right\">210,764</td>\n",
        "[<th>M\u00c4\u0081ori Party</th>]\n",
        "<td align=\"right\">27,074</td>\n",
        "[<th>United Future</th>]\n",
        "<td align=\"right\">4,533</td>\n",
        "[<th>Internet MANA</th>]\n",
        "<td align=\"right\">26,539</td>\n",
        "[<th>Ban1080</th>]\n",
        "<td align=\"right\">4,368</td>\n",
        "[<th>The Civilian Party</th>]\n",
        "<td align=\"right\">906</td>\n",
        "[<th>Focus New Zealand</th>]\n",
        "<td align=\"right\">677</td>\n"
       ]
      }
     ],
     "prompt_number": 53
    },
    {
     "cell_type": "code",
     "collapsed": false,
     "input": [
      "for devz in devsa:\n",
      "    print(devz)\n",
      "    votelis.append(devz)"
     ],
     "language": "python",
     "metadata": {},
     "outputs": [
      {
       "output_type": "stream",
       "stream": "stdout",
       "text": [
        "<td class=\"orhdg\" colspan=\"6\" height=\"10\">\u00a0</td>\n",
        "<td class=\"orhdg\" colspan=\"5\">7,198 of 7,198 (100.0%)</td>\n",
        "<td class=\"orhdg\" colspan=\"5\">2,112,522</td>\n",
        "<td class=\"orhdg\" colspan=\"5\">  254,630</td>\n",
        "<td class=\"orhdg\" colspan=\"5\">    1,385</td>\n"
       ]
      }
     ],
     "prompt_number": 35
    },
    {
     "cell_type": "code",
     "collapsed": false,
     "input": [
      "votelis"
     ],
     "language": "python",
     "metadata": {},
     "outputs": [
      {
       "metadata": {},
       "output_type": "pyout",
       "prompt_number": 36,
       "text": [
        "[<td class=\"orhdg\" colspan=\"6\" height=\"10\">\u00a0</td>,\n",
        " <td class=\"orhdg\" colspan=\"5\">7,198 of 7,198 (100.0%)</td>,\n",
        " <td class=\"orhdg\" colspan=\"5\">2,112,522</td>,\n",
        " <td class=\"orhdg\" colspan=\"5\">  254,630</td>,\n",
        " <td class=\"orhdg\" colspan=\"5\">    1,385</td>]"
       ]
      }
     ],
     "prompt_number": 36
    },
    {
     "cell_type": "code",
     "collapsed": false,
     "input": [
      "votezcont = []"
     ],
     "language": "python",
     "metadata": {},
     "outputs": [],
     "prompt_number": 37
    },
    {
     "cell_type": "code",
     "collapsed": false,
     "input": [
      "for votez in votelis:\n",
      "    print votez.contents\n",
      "    votezcont.append(votez.contents)"
     ],
     "language": "python",
     "metadata": {},
     "outputs": [
      {
       "output_type": "stream",
       "stream": "stdout",
       "text": [
        "[u'\\xa0']\n",
        "[u'7,198 of 7,198 (100.0%)']\n",
        "[u'2,112,522']\n",
        "[u'  254,630']\n",
        "[u'    1,385']\n"
       ]
      }
     ],
     "prompt_number": 38
    },
    {
     "cell_type": "code",
     "collapsed": false,
     "input": [
      "for numz in votezcont:\n",
      "    print(numz)"
     ],
     "language": "python",
     "metadata": {},
     "outputs": [
      {
       "output_type": "stream",
       "stream": "stdout",
       "text": [
        "[u'\\xa0']\n",
        "[u'7,198 of 7,198 (100.0%)']\n",
        "[u'2,112,522']\n",
        "[u'  254,630']\n",
        "[u'    1,385']\n"
       ]
      }
     ],
     "prompt_number": 39
    },
    {
     "cell_type": "code",
     "collapsed": false,
     "input": [
      "votaz = votez.getText()"
     ],
     "language": "python",
     "metadata": {},
     "outputs": [],
     "prompt_number": 40
    },
    {
     "cell_type": "code",
     "collapsed": false,
     "input": [
      "numadd = []"
     ],
     "language": "python",
     "metadata": {},
     "outputs": [],
     "prompt_number": 41
    },
    {
     "cell_type": "code",
     "collapsed": false,
     "input": [
      "for lets in votaz:\n",
      "        print lets\n",
      "        numadd.append(lets)"
     ],
     "language": "python",
     "metadata": {},
     "outputs": [
      {
       "output_type": "stream",
       "stream": "stdout",
       "text": [
        " \n",
        " \n",
        " \n",
        " \n",
        "1\n",
        ",\n",
        "3\n",
        "8\n",
        "5\n"
       ]
      }
     ],
     "prompt_number": 42
    },
    {
     "cell_type": "code",
     "collapsed": false,
     "input": [
      "for numza in numadd:\n",
      "    print numza"
     ],
     "language": "python",
     "metadata": {},
     "outputs": [
      {
       "output_type": "stream",
       "stream": "stdout",
       "text": [
        " \n",
        " \n",
        " \n",
        " \n",
        "1\n",
        ",\n",
        "3\n",
        "8\n",
        "5\n"
       ]
      }
     ],
     "prompt_number": 43
    },
    {
     "cell_type": "code",
     "collapsed": false,
     "input": [
      "for numz in numadd:\n",
      "    if int in numz:\n",
      "        print numz"
     ],
     "language": "python",
     "metadata": {},
     "outputs": [
      {
       "ename": "TypeError",
       "evalue": "coercing to Unicode: need string or buffer, type found",
       "output_type": "pyerr",
       "traceback": [
        "\u001b[1;31m---------------------------------------------------------------------------\u001b[0m\n\u001b[1;31mTypeError\u001b[0m                                 Traceback (most recent call last)",
        "\u001b[1;32m<ipython-input-44-4a071c9bca0a>\u001b[0m in \u001b[0;36m<module>\u001b[1;34m()\u001b[0m\n\u001b[0;32m      1\u001b[0m \u001b[1;32mfor\u001b[0m \u001b[0mnumz\u001b[0m \u001b[1;32min\u001b[0m \u001b[0mnumadd\u001b[0m\u001b[1;33m:\u001b[0m\u001b[1;33m\u001b[0m\u001b[0m\n\u001b[1;32m----> 2\u001b[1;33m     \u001b[1;32mif\u001b[0m \u001b[0mint\u001b[0m \u001b[1;32min\u001b[0m \u001b[0mnumz\u001b[0m\u001b[1;33m:\u001b[0m\u001b[1;33m\u001b[0m\u001b[0m\n\u001b[0m\u001b[0;32m      3\u001b[0m         \u001b[1;32mprint\u001b[0m \u001b[0mnumz\u001b[0m\u001b[1;33m\u001b[0m\u001b[0m\n",
        "\u001b[1;31mTypeError\u001b[0m: coercing to Unicode: need string or buffer, type found"
       ]
      }
     ],
     "prompt_number": 44
    },
    {
     "cell_type": "code",
     "collapsed": false,
     "input": [
      "soup.find_all('tr')"
     ],
     "language": "python",
     "metadata": {},
     "outputs": [
      {
       "metadata": {},
       "output_type": "pyout",
       "prompt_number": 45,
       "text": [
        "[<tr class=\"menu\"><td align=\"right\" class=\"menu\" colspan=\"2\" valign=\"bottom\"><a href=\"index.html\">HOME</a>\u00a0| <a href=\"partystatus.html\">OVERALL\u00a0STATUS</a>\u00a0| <a href=\"electoratestatus.html\">ELECTORATE\u00a0STATUS</a>\u00a0| <a href=\"electorateindex.html\">ELECTORATE DETAILS</a>\u00a0| <a href=\"partystatus-early.html\">ADVANCE\u00a0VOTES</a>\u00a0</td><td align=\"right\" class=\"menu\" valign=\"bottom\" width=\"7%\"><img alt=\"oMan.jpg\" height=\"37\" src=\"img/oMan.jpg\" width=\"59\"/></td></tr>,\n",
        " <tr class=\"menu\">\n",
        " <td align=\"left\" class=\"bannerbar\" height=\"73\" rowspan=\"3\"><img alt=\"Elections Logo\" src=\"/img/eclogo.gif\" style=\"width:150px; height:73px; align:left; padding-left:10px; padding-top:1px; padding-bottom:2px;\"/></td><td class=\"bannerbar\" height=\"42\"></td></tr>,\n",
        " <tr class=\"menu\"><td class=\"bannerbar\" height=\"10\"></td></tr>,\n",
        " <tr class=\"menu\"><td class=\"bannerbar\" height=\"21\"></td></tr>,\n",
        " <tr><td align=\"center\"><h3>Election Results -- Overall Status</h3>\n",
        " </td></tr>,\n",
        " <tr><td align=\"center\"><span class=\"topmsg\"></span></td></tr>,\n",
        " <tr><td height=\"10\">\u00a0</td></tr>,\n",
        " <tr><td style=\"padding:5px;\"><table align=\"center\" border=\"0\" cellpadding=\"3\" cellspacing=\"0\" class=\"eledata\"><tr><td class=\"orhdg\" colspan=\"6\" height=\"10\">\u00a0</td></tr>\n",
        " <tr><th class=\"orhdg\">Results Counted:</th><td class=\"orhdg\" colspan=\"5\">7,198 of 7,198 (100.0%)</td></tr>\n",
        " <tr><th class=\"orhdg\">Total Votes Counted:</th><td class=\"orhdg\" colspan=\"5\">2,112,522</td></tr>\n",
        " <tr><th class=\"orhdg\">Special Votes:</th><td class=\"orhdg\" colspan=\"5\">  254,630</td></tr>\n",
        " <tr><th class=\"orhdg\">Less than 6 votes taken in Voting Places:</th><td class=\"orhdg\" colspan=\"5\">    1,385</td></tr>\n",
        " <tr class=\"headrowR\"><th class=\"headrowL\">Party</th><th class=\"headrowR\">Party<br/>Votes</th><th class=\"headrowR\">%<br/>Votes</th><th class=\"headrowR\">Electorate<br/>Seats</th><th class=\"headrowR\">List<br/>Seats</th><th class=\"headrowR\">Total<br/>Seats</th></tr>\n",
        " <tr class=\"hhevy\"><th>National Party</th><td align=\"right\">1,010,464</td><td align=\"right\"> 48.06</td><td align=\"right\">41</td><td align=\"right\">20</td><td align=\"right\">61</td></tr>\n",
        " <tr class=\"hlite\"><th>Labour Party</th><td align=\"right\">519,146</td><td align=\"right\"> 24.69</td><td align=\"right\">27</td><td align=\"right\">5</td><td align=\"right\">32</td></tr>\n",
        " <tr class=\"hhevy\"><th>Green Party</th><td align=\"right\">210,764</td><td align=\"right\"> 10.02</td><td align=\"right\">0</td><td align=\"right\">13</td><td align=\"right\">13</td></tr>\n",
        " <tr class=\"hlite\"><th>New Zealand First Party</th><td align=\"right\">186,031</td><td align=\"right\">  8.85</td><td align=\"right\">0</td><td align=\"right\">11</td><td align=\"right\">11</td></tr>\n",
        " <tr class=\"hhevy\"><th>M\u00c4\u0081ori Party</th><td align=\"right\">27,074</td><td align=\"right\">  1.29</td><td align=\"right\">1</td><td align=\"right\">1</td><td align=\"right\">2</td></tr>\n",
        " <tr class=\"hlite\"><th>ACT New Zealand</th><td align=\"right\">14,510</td><td align=\"right\">  0.69</td><td align=\"right\">1</td><td align=\"right\">0</td><td align=\"right\">1</td></tr>\n",
        " <tr class=\"hhevy\"><th>United Future</th><td align=\"right\">4,533</td><td align=\"right\">  0.22</td><td align=\"right\">1</td><td align=\"right\">0</td><td align=\"right\">1</td></tr>\n",
        " <tr class=\"hlite\"><th>Conservative</th><td align=\"right\">86,616</td><td align=\"right\">  4.12</td><td align=\"right\">0</td><td align=\"right\">0</td><td align=\"right\">0</td></tr>\n",
        " <tr class=\"hhevy\"><th>Internet MANA</th><td align=\"right\">26,539</td><td align=\"right\">  1.26</td><td align=\"right\">0</td><td align=\"right\">0</td><td align=\"right\">0</td></tr>\n",
        " <tr class=\"hlite\"><th>Aotearoa Legalise Cannabis Party</th><td align=\"right\">8,539</td><td align=\"right\">  0.41</td><td align=\"right\">0</td><td align=\"right\">0</td><td align=\"right\">0</td></tr>\n",
        " <tr class=\"hhevy\"><th>Ban1080</th><td align=\"right\">4,368</td><td align=\"right\">  0.21</td><td align=\"right\">0</td><td align=\"right\">0</td><td align=\"right\">0</td></tr>\n",
        " <tr class=\"hlite\"><th>Democrats for Social Credit</th><td align=\"right\">1,609</td><td align=\"right\">  0.08</td><td align=\"right\">0</td><td align=\"right\">0</td><td align=\"right\">0</td></tr>\n",
        " <tr class=\"hhevy\"><th>The Civilian Party</th><td align=\"right\">906</td><td align=\"right\">  0.04</td><td align=\"right\">0</td><td align=\"right\">0</td><td align=\"right\">0</td></tr>\n",
        " <tr class=\"hlite\"><th>NZ Independent Coalition</th><td align=\"right\">895</td><td align=\"right\">  0.04</td><td align=\"right\">0</td><td align=\"right\">0</td><td align=\"right\">0</td></tr>\n",
        " <tr class=\"hhevy\"><th>Focus New Zealand</th><td align=\"right\">677</td><td align=\"right\">  0.03</td><td align=\"right\">0</td><td align=\"right\">0</td><td align=\"right\">0</td></tr>\n",
        " <tr><td colspan=\"3\">\u00a0</td><td align=\"right\" class=\"totals\">71</td><td align=\"right\" class=\"totals\">50</td><td align=\"right\" class=\"totals\">121</td>\n",
        " </tr>\n",
        " </table>\n",
        " </td></tr>,\n",
        " <tr><td class=\"orhdg\" colspan=\"6\" height=\"10\">\u00a0</td></tr>,\n",
        " <tr><th class=\"orhdg\">Results Counted:</th><td class=\"orhdg\" colspan=\"5\">7,198 of 7,198 (100.0%)</td></tr>,\n",
        " <tr><th class=\"orhdg\">Total Votes Counted:</th><td class=\"orhdg\" colspan=\"5\">2,112,522</td></tr>,\n",
        " <tr><th class=\"orhdg\">Special Votes:</th><td class=\"orhdg\" colspan=\"5\">  254,630</td></tr>,\n",
        " <tr><th class=\"orhdg\">Less than 6 votes taken in Voting Places:</th><td class=\"orhdg\" colspan=\"5\">    1,385</td></tr>,\n",
        " <tr class=\"headrowR\"><th class=\"headrowL\">Party</th><th class=\"headrowR\">Party<br/>Votes</th><th class=\"headrowR\">%<br/>Votes</th><th class=\"headrowR\">Electorate<br/>Seats</th><th class=\"headrowR\">List<br/>Seats</th><th class=\"headrowR\">Total<br/>Seats</th></tr>,\n",
        " <tr class=\"hhevy\"><th>National Party</th><td align=\"right\">1,010,464</td><td align=\"right\"> 48.06</td><td align=\"right\">41</td><td align=\"right\">20</td><td align=\"right\">61</td></tr>,\n",
        " <tr class=\"hlite\"><th>Labour Party</th><td align=\"right\">519,146</td><td align=\"right\"> 24.69</td><td align=\"right\">27</td><td align=\"right\">5</td><td align=\"right\">32</td></tr>,\n",
        " <tr class=\"hhevy\"><th>Green Party</th><td align=\"right\">210,764</td><td align=\"right\"> 10.02</td><td align=\"right\">0</td><td align=\"right\">13</td><td align=\"right\">13</td></tr>,\n",
        " <tr class=\"hlite\"><th>New Zealand First Party</th><td align=\"right\">186,031</td><td align=\"right\">  8.85</td><td align=\"right\">0</td><td align=\"right\">11</td><td align=\"right\">11</td></tr>,\n",
        " <tr class=\"hhevy\"><th>M\u00c4\u0081ori Party</th><td align=\"right\">27,074</td><td align=\"right\">  1.29</td><td align=\"right\">1</td><td align=\"right\">1</td><td align=\"right\">2</td></tr>,\n",
        " <tr class=\"hlite\"><th>ACT New Zealand</th><td align=\"right\">14,510</td><td align=\"right\">  0.69</td><td align=\"right\">1</td><td align=\"right\">0</td><td align=\"right\">1</td></tr>,\n",
        " <tr class=\"hhevy\"><th>United Future</th><td align=\"right\">4,533</td><td align=\"right\">  0.22</td><td align=\"right\">1</td><td align=\"right\">0</td><td align=\"right\">1</td></tr>,\n",
        " <tr class=\"hlite\"><th>Conservative</th><td align=\"right\">86,616</td><td align=\"right\">  4.12</td><td align=\"right\">0</td><td align=\"right\">0</td><td align=\"right\">0</td></tr>,\n",
        " <tr class=\"hhevy\"><th>Internet MANA</th><td align=\"right\">26,539</td><td align=\"right\">  1.26</td><td align=\"right\">0</td><td align=\"right\">0</td><td align=\"right\">0</td></tr>,\n",
        " <tr class=\"hlite\"><th>Aotearoa Legalise Cannabis Party</th><td align=\"right\">8,539</td><td align=\"right\">  0.41</td><td align=\"right\">0</td><td align=\"right\">0</td><td align=\"right\">0</td></tr>,\n",
        " <tr class=\"hhevy\"><th>Ban1080</th><td align=\"right\">4,368</td><td align=\"right\">  0.21</td><td align=\"right\">0</td><td align=\"right\">0</td><td align=\"right\">0</td></tr>,\n",
        " <tr class=\"hlite\"><th>Democrats for Social Credit</th><td align=\"right\">1,609</td><td align=\"right\">  0.08</td><td align=\"right\">0</td><td align=\"right\">0</td><td align=\"right\">0</td></tr>,\n",
        " <tr class=\"hhevy\"><th>The Civilian Party</th><td align=\"right\">906</td><td align=\"right\">  0.04</td><td align=\"right\">0</td><td align=\"right\">0</td><td align=\"right\">0</td></tr>,\n",
        " <tr class=\"hlite\"><th>NZ Independent Coalition</th><td align=\"right\">895</td><td align=\"right\">  0.04</td><td align=\"right\">0</td><td align=\"right\">0</td><td align=\"right\">0</td></tr>,\n",
        " <tr class=\"hhevy\"><th>Focus New Zealand</th><td align=\"right\">677</td><td align=\"right\">  0.03</td><td align=\"right\">0</td><td align=\"right\">0</td><td align=\"right\">0</td></tr>,\n",
        " <tr><td colspan=\"3\">\u00a0</td><td align=\"right\" class=\"totals\">71</td><td align=\"right\" class=\"totals\">50</td><td align=\"right\" class=\"totals\">121</td>\n",
        " </tr>,\n",
        " <tr><td class=\"refrmsg\">Updated  1:10 am on 21/09/2014</td></tr>,\n",
        " <tr><td align=\"center\" class=\"bannerbar\" height=\"25\" style=\"vertical-align:middle;text-align:center\">\u00a0</td></tr>,\n",
        " <tr class=\"menu\"><td style=\"text-align:center;padding-top:5px;padding-bottom:5px;\"></td><td></td></tr>,\n",
        " <tr><td><p class=\"copyr\">Copyright \u00a92014 New Zealand Electoral Commission, Wellington<br/>All Rights Reserved</p><p class=\"copyr\">The results shown are preliminary and may change when the official<br/>count (including special votes) is completed.</p></td></tr>]"
       ]
      }
     ],
     "prompt_number": 45
    },
    {
     "cell_type": "code",
     "collapsed": false,
     "input": [
      "X"
     ],
     "language": "python",
     "metadata": {},
     "outputs": [
      {
       "ename": "NameError",
       "evalue": "name 'X' is not defined",
       "output_type": "pyerr",
       "traceback": [
        "\u001b[1;31m---------------------------------------------------------------------------\u001b[0m\n\u001b[1;31mNameError\u001b[0m                                 Traceback (most recent call last)",
        "\u001b[1;32m<ipython-input-46-253bcac7dd80>\u001b[0m in \u001b[0;36m<module>\u001b[1;34m()\u001b[0m\n\u001b[1;32m----> 1\u001b[1;33m \u001b[0mX\u001b[0m\u001b[1;33m\u001b[0m\u001b[0m\n\u001b[0m",
        "\u001b[1;31mNameError\u001b[0m: name 'X' is not defined"
       ]
      }
     ],
     "prompt_number": 46
    },
    {
     "cell_type": "code",
     "collapsed": false,
     "input": [
      "TODO:\n",
      "    "
     ],
     "language": "python",
     "metadata": {},
     "outputs": [
      {
       "ename": "SyntaxError",
       "evalue": "invalid syntax (<ipython-input-47-a919f35cdeff>, line 1)",
       "output_type": "pyerr",
       "traceback": [
        "\u001b[1;36m  File \u001b[1;32m\"<ipython-input-47-a919f35cdeff>\"\u001b[1;36m, line \u001b[1;32m1\u001b[0m\n\u001b[1;33m    TODO:\u001b[0m\n\u001b[1;37m        ^\u001b[0m\n\u001b[1;31mSyntaxError\u001b[0m\u001b[1;31m:\u001b[0m invalid syntax\n"
       ]
      }
     ],
     "prompt_number": 47
    },
    {
     "cell_type": "code",
     "collapsed": false,
     "input": [],
     "language": "python",
     "metadata": {},
     "outputs": [],
     "prompt_number": 47
    },
    {
     "cell_type": "code",
     "collapsed": false,
     "input": [],
     "language": "python",
     "metadata": {},
     "outputs": [],
     "prompt_number": 47
    },
    {
     "cell_type": "code",
     "collapsed": false,
     "input": [
      "for divs in mydivs:\n",
      "    print divs.findAll[('tr')"
     ],
     "language": "python",
     "metadata": {},
     "outputs": [
      {
       "ename": "SyntaxError",
       "evalue": "invalid syntax (<ipython-input-49-36651929cc2c>, line 2)",
       "output_type": "pyerr",
       "traceback": [
        "\u001b[1;36m  File \u001b[1;32m\"<ipython-input-49-36651929cc2c>\"\u001b[1;36m, line \u001b[1;32m2\u001b[0m\n\u001b[1;33m    print divs.findAll[('tr')\u001b[0m\n\u001b[1;37m                             ^\u001b[0m\n\u001b[1;31mSyntaxError\u001b[0m\u001b[1;31m:\u001b[0m invalid syntax\n"
       ]
      }
     ],
     "prompt_number": 49
    },
    {
     "cell_type": "code",
     "collapsed": false,
     "input": [
      "for divs in mydivs:\n",
      "    print divs.find_next('tr')"
     ],
     "language": "python",
     "metadata": {},
     "outputs": [
      {
       "output_type": "stream",
       "stream": "stdout",
       "text": [
        "<tr class=\"hlite\"><th>Labour Party</th><td align=\"right\">519,146</td><td align=\"right\"> 24.69</td><td align=\"right\">27</td><td align=\"right\">5</td><td align=\"right\">32</td></tr>\n",
        "<tr class=\"hlite\"><th>New Zealand First Party</th><td align=\"right\">186,031</td><td align=\"right\">  8.85</td><td align=\"right\">0</td><td align=\"right\">11</td><td align=\"right\">11</td></tr>\n",
        "<tr class=\"hlite\"><th>ACT New Zealand</th><td align=\"right\">14,510</td><td align=\"right\">  0.69</td><td align=\"right\">1</td><td align=\"right\">0</td><td align=\"right\">1</td></tr>\n",
        "<tr class=\"hlite\"><th>Conservative</th><td align=\"right\">86,616</td><td align=\"right\">  4.12</td><td align=\"right\">0</td><td align=\"right\">0</td><td align=\"right\">0</td></tr>\n",
        "<tr class=\"hlite\"><th>Aotearoa Legalise Cannabis Party</th><td align=\"right\">8,539</td><td align=\"right\">  0.41</td><td align=\"right\">0</td><td align=\"right\">0</td><td align=\"right\">0</td></tr>\n",
        "<tr class=\"hlite\"><th>Democrats for Social Credit</th><td align=\"right\">1,609</td><td align=\"right\">  0.08</td><td align=\"right\">0</td><td align=\"right\">0</td><td align=\"right\">0</td></tr>\n",
        "<tr class=\"hlite\"><th>NZ Independent Coalition</th><td align=\"right\">895</td><td align=\"right\">  0.04</td><td align=\"right\">0</td><td align=\"right\">0</td><td align=\"right\">0</td></tr>\n",
        "<tr><td colspan=\"3\">\u00a0</td><td align=\"right\" class=\"totals\">71</td><td align=\"right\" class=\"totals\">50</td><td align=\"right\" class=\"totals\">121</td>\n",
        "</tr>\n"
       ]
      }
     ],
     "prompt_number": 50
    },
    {
     "cell_type": "code",
     "collapsed": false,
     "input": [
      "divlist"
     ],
     "language": "python",
     "metadata": {},
     "outputs": [
      {
       "metadata": {},
       "output_type": "pyout",
       "prompt_number": 54,
       "text": [
        "[[<th>National Party</th>],\n",
        " <td align=\"right\">1,010,464</td>,\n",
        " [<th>Green Party</th>],\n",
        " <td align=\"right\">210,764</td>,\n",
        " [<th>M\u00c4\u0081ori Party</th>],\n",
        " <td align=\"right\">27,074</td>,\n",
        " [<th>United Future</th>],\n",
        " <td align=\"right\">4,533</td>,\n",
        " [<th>Internet MANA</th>],\n",
        " <td align=\"right\">26,539</td>,\n",
        " [<th>Ban1080</th>],\n",
        " <td align=\"right\">4,368</td>,\n",
        " [<th>The Civilian Party</th>],\n",
        " <td align=\"right\">906</td>,\n",
        " [<th>Focus New Zealand</th>],\n",
        " <td align=\"right\">677</td>]"
       ]
      }
     ],
     "prompt_number": 54
    },
    {
     "cell_type": "code",
     "collapsed": false,
     "input": [],
     "language": "python",
     "metadata": {},
     "outputs": []
    }
   ],
   "metadata": {}
  }
 ]
}