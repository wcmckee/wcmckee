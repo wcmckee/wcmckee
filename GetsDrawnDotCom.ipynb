{
 "metadata": {
  "name": "",
  "signature": "sha256:06e1e4f0cae901acb84a61376a46785ae1ec98f84b5a8eace56af5cc1ad8b73d"
 },
 "nbformat": 3,
 "nbformat_minor": 0,
 "worksheets": [
  {
   "cells": [
    {
     "cell_type": "markdown",
     "metadata": {},
     "source": [
      "<h1>GetsDrawn DotCom</h1>"
     ]
    },
    {
     "cell_type": "code",
     "collapsed": false,
     "input": [],
     "language": "python",
     "metadata": {},
     "outputs": []
    },
    {
     "cell_type": "code",
     "collapsed": false,
     "input": [],
     "language": "python",
     "metadata": {},
     "outputs": []
    },
    {
     "cell_type": "code",
     "collapsed": false,
     "input": [],
     "language": "python",
     "metadata": {},
     "outputs": []
    },
    {
     "cell_type": "code",
     "collapsed": false,
     "input": [],
     "language": "python",
     "metadata": {},
     "outputs": []
    },
    {
     "cell_type": "markdown",
     "metadata": {},
     "source": [
      "This is a python script to generate the website GetsDrawn. It takes data from /r/RedditGetsDrawn and makes something awesome.\n",
      "\n",
      "The script has envolved and been rewritten several times. \n",
      "\n",
      "The first script for rgdsnatch was written after I got banned from posting my artwork on /r/RedditGetsDrawn. The plan was to create a new site that displayed stuff from /r/RedditGetsDrawn. \n",
      "\n",
      "Currently it only displays the most recent 25 items on redditgetsdrawn.\n",
      "\n",
      "This is moving forward from rgdsnatch.py because I am stuck on it.  \n",
      "\n",
      "TODO\n",
      "\n",
      "Fix the links that don't link to png/jpeg and link to webaddress. \n",
      "Needs to get the images that are at that web address and embed them.\n",
      "\n",
      "Display artwork submitted under the images. \n",
      "\n",
      "Upload artwork to user. Sends them a message on redditgetsdrawn with links. \n",
      "\n",
      "More pandas"
     ]
    },
    {
     "cell_type": "code",
     "collapsed": false,
     "input": [
      "import os \n",
      "import requests\n",
      "from bs4 import BeautifulSoup\n",
      "import re\n",
      "import json\n",
      "import time\n",
      "import praw\n",
      "import dominate\n",
      "from dominate.tags import * \n",
      "from time import gmtime, strftime\n",
      "#import nose\n",
      "#import unittest\n",
      "import numpy as np\n",
      "import pandas as pd\n",
      "from pandas import *\n",
      "#import pyttsx"
     ],
     "language": "python",
     "metadata": {},
     "outputs": [],
     "prompt_number": 70
    },
    {
     "cell_type": "code",
     "collapsed": false,
     "input": [
      "gtsdrndir = ('/home/wcmckee/getsdrawndotcom')"
     ],
     "language": "python",
     "metadata": {},
     "outputs": [],
     "prompt_number": 71
    },
    {
     "cell_type": "code",
     "collapsed": false,
     "input": [
      "os.chdir(gtsdrndir)"
     ],
     "language": "python",
     "metadata": {},
     "outputs": [],
     "prompt_number": 72
    },
    {
     "cell_type": "code",
     "collapsed": false,
     "input": [
      "r = praw.Reddit(user_agent='getsdrawndotcom')"
     ],
     "language": "python",
     "metadata": {},
     "outputs": [],
     "prompt_number": 73
    },
    {
     "cell_type": "code",
     "collapsed": false,
     "input": [
      "#getmin = r.get_redditor('itwillbemine')"
     ],
     "language": "python",
     "metadata": {},
     "outputs": [],
     "prompt_number": 74
    },
    {
     "cell_type": "code",
     "collapsed": false,
     "input": [
      "#mincom = getmin.get_comments()"
     ],
     "language": "python",
     "metadata": {},
     "outputs": [],
     "prompt_number": 75
    },
    {
     "cell_type": "code",
     "collapsed": false,
     "input": [
      "#engine = pyttsx.init()\n",
      "\n",
      "#engine.say('The quick brown fox jumped over the lazy dog.')\n",
      "#engine.runAndWait()"
     ],
     "language": "python",
     "metadata": {},
     "outputs": [],
     "prompt_number": 76
    },
    {
     "cell_type": "code",
     "collapsed": false,
     "input": [
      "#shtweet = []"
     ],
     "language": "python",
     "metadata": {},
     "outputs": [],
     "prompt_number": 77
    },
    {
     "cell_type": "code",
     "collapsed": false,
     "input": [
      "#for mi in mincom:\n",
      "#    print mi\n",
      "#    shtweet.append(mi)"
     ],
     "language": "python",
     "metadata": {},
     "outputs": [],
     "prompt_number": 78
    },
    {
     "cell_type": "code",
     "collapsed": false,
     "input": [
      "bodycom = []\n",
      "bodyicv = dict()"
     ],
     "language": "python",
     "metadata": {},
     "outputs": [],
     "prompt_number": 79
    },
    {
     "cell_type": "code",
     "collapsed": false,
     "input": [
      "#beginz = pyttsx.init()"
     ],
     "language": "python",
     "metadata": {},
     "outputs": [],
     "prompt_number": 80
    },
    {
     "cell_type": "code",
     "collapsed": false,
     "input": [
      "#for shtz in shtweet:\n",
      "#    print shtz.downs\n",
      "#    print shtz.ups\n",
      "#    print shtz.body\n",
      "#    print shtz.replies\n",
      "    #beginz.say(shtz.author)\n",
      "    #beginz.say(shtz.body)\n",
      "    #beginz.runAndWait()\n",
      "    \n",
      "#    bodycom.append(shtz.body)\n",
      "    #bodyic"
     ],
     "language": "python",
     "metadata": {},
     "outputs": [],
     "prompt_number": 81
    },
    {
     "cell_type": "code",
     "collapsed": false,
     "input": [
      "#bodycom "
     ],
     "language": "python",
     "metadata": {},
     "outputs": [],
     "prompt_number": 82
    },
    {
     "cell_type": "code",
     "collapsed": false,
     "input": [
      "getnewr = r.get_subreddit('redditgetsdrawn')"
     ],
     "language": "python",
     "metadata": {},
     "outputs": [],
     "prompt_number": 83
    },
    {
     "cell_type": "code",
     "collapsed": false,
     "input": [
      "rdnew = getnewr.get_new()"
     ],
     "language": "python",
     "metadata": {},
     "outputs": [],
     "prompt_number": 84
    },
    {
     "cell_type": "code",
     "collapsed": false,
     "input": [
      "lisrgc = []"
     ],
     "language": "python",
     "metadata": {},
     "outputs": [],
     "prompt_number": 85
    },
    {
     "cell_type": "code",
     "collapsed": false,
     "input": [
      "for uz in rdnew:\n",
      "    #print uz\n",
      "    lisrgc.append(uz)"
     ],
     "language": "python",
     "metadata": {},
     "outputs": [],
     "prompt_number": 86
    },
    {
     "cell_type": "code",
     "collapsed": false,
     "input": [
      "gtdrndic = dict()"
     ],
     "language": "python",
     "metadata": {},
     "outputs": [],
     "prompt_number": 87
    },
    {
     "cell_type": "code",
     "collapsed": false,
     "input": [
      "for lisr in lisrgc:\n",
      "    #print lisr.url\n",
      "    #print lisr.title\n",
      "    #print lisr.author\n",
      "    #print lisr.comments\n",
      "    gtdrndic.update({'title': lisr.title})\n",
      "    print lisr.json_dict\n",
      "    "
     ],
     "language": "python",
     "metadata": {},
     "outputs": [
      {
       "output_type": "stream",
       "stream": "stdout",
       "text": [
        "None\n",
        "None\n",
        "None\n",
        "None\n",
        "None\n",
        "None\n",
        "None\n",
        "None\n",
        "None\n",
        "None\n",
        "None\n",
        "None\n",
        "None\n",
        "None\n",
        "None\n",
        "None\n",
        "None\n",
        "None\n",
        "None\n",
        "None\n",
        "None\n",
        "None\n",
        "None\n",
        "None\n",
        "None\n"
       ]
      }
     ],
     "prompt_number": 88
    },
    {
     "cell_type": "code",
     "collapsed": false,
     "input": [
      "opsinz = open('/home/wcmckee/visignsys/index.meta', 'r')\n",
      "panz = opsinz.read()"
     ],
     "language": "python",
     "metadata": {},
     "outputs": [],
     "prompt_number": 89
    },
    {
     "cell_type": "code",
     "collapsed": false,
     "input": [
      "#panz()"
     ],
     "language": "python",
     "metadata": {},
     "outputs": [],
     "prompt_number": 90
    },
    {
     "cell_type": "code",
     "collapsed": false,
     "input": [
      "doc = dominate.document(title='GetsDrawn')\n",
      "\n",
      "with doc.head:\n",
      "    link(rel='stylesheet', href='style.css')\n",
      "    script(type='text/javascript', src='script.js')\n",
      "    \n",
      "    with div():\n",
      "        attr(cls='header')\n",
      "        h1('GetsDrawn')\n",
      "        p(img('imgs/getsdrawn-bw.png', src='imgs/getsdrawn-bw.png'))\n",
      "        p('Updated ', strftime(\"%a, %d %b %Y %H:%M:%S +0000\", gmtime()))\n",
      "        p(panz)\n",
      "        p(bodycom)\n",
      "    \n",
      "    \n",
      "\n",
      "with doc:\n",
      "    with div(id='body').add(ol()):\n",
      "        for rdz in lisrgc:\n",
      "            h1(rdz.title)\n",
      "            #a(rdz.url)\n",
      "            if '.jpg' or '.png' in rdz.url:\n",
      "                #print rdz.url\n",
      "                p(img(rdz.url, src='%s' % rdz.url))\n",
      "                \n",
      "            #print rdz.url\n",
      "            #if '.jpg' in rdz.url:\n",
      "            #    img(rdz.urlz)\n",
      "            #else:\n",
      "            #    a(rdz.urlz)\n",
      "            p(str(rdz.author))\n",
      "            \n",
      "            #li(img(i.lower(), src='%s' % i))\n",
      "\n",
      "    with div():\n",
      "        attr(cls='body')\n",
      "        p('GetsDrawn is open source')\n",
      "        a('http://github.com/wcmckee/wcmckee')\n",
      "\n",
      "#print doc"
     ],
     "language": "python",
     "metadata": {},
     "outputs": [],
     "prompt_number": 91
    },
    {
     "cell_type": "code",
     "collapsed": false,
     "input": [
      "gtdrndic"
     ],
     "language": "python",
     "metadata": {},
     "outputs": [
      {
       "metadata": {},
       "output_type": "pyout",
       "prompt_number": 92,
       "text": [
        "{'title': u'Can you draw me while performing? :) (not band or professional-related)'}"
       ]
      }
     ],
     "prompt_number": 92
    },
    {
     "cell_type": "code",
     "collapsed": false,
     "input": [
      "doc.render()"
     ],
     "language": "python",
     "metadata": {},
     "outputs": [
      {
       "metadata": {},
       "output_type": "pyout",
       "prompt_number": 93,
       "text": [
        "u'<!DOCTYPE html>\\n<html>\\n  <head>\\n    <title>GetsDrawn</title>\\n    <link href=\"style.css\" rel=\"stylesheet\"><script src=\"script.js\" type=\"text/javascript\"></script>\\n    <div class=\"header\">\\n      <h1>GetsDrawn</h1>\\n      <p>\\n        <img src=\"imgs/getsdrawn-bw.png\">\\n      </p>\\n      <p>Updated Sat, 13 Dec 2014 10:35:42 +0000</p>\\n      <p>[\\'02-Dec-2014\\', \\'ESW\\', \\'William Mckee\\', \\'15:09\\', \\'sunny and mum is back\\'][\\'02-Dec-2014\\', \\'build wire dibo\\', \\'17:41\\']</p>\\n      <p></p>\\n    </div>\\n  </head>\\n  <body>\\n    <div id=\"body\">\\n      <ol>\\n        <h1>This is my lion man, Leo! I\\'d love if someone took the time to draw my best friend here.</h1>\\n        <p>\\n          <img src=\"http://i.imgur.com/KtmkMtk.jpg\">\\n        </p>\\n        <p>PraiseTalos</p>\\n        <h1>Anyone fancy drawing me as Misty? Feel free to throw a few Pokemon in there too!</h1>\\n        <p>\\n          <img src=\"https://imgur.com/RVQIQdR\">\\n        </p>\\n        <p>chinese-hamster</p>\\n        <h1>Can you draw my dog? Thanks!</h1>\\n        <p>\\n          <img src=\"http://imgur.com/SSQ0uzz\">\\n        </p>\\n        <p>Jjgama</p>\\n        <h1>Draw me?</h1>\\n        <p>\\n          <img src=\"http://i.imgur.com/532MfuG.jpg\">\\n        </p>\\n        <p>maxfortitude</p>\\n        <h1>A picture of my families dog, Baby</h1>\\n        <p>\\n          <img src=\"http://i.imgur.com/4wy9WUZ.jpg\">\\n        </p>\\n        <p>BioWave74</p>\\n        <h1>Please draw my son riding in a swing for the first time :-)</h1>\\n        <p>\\n          <img src=\"http://imgur.com/IECBl1j\">\\n        </p>\\n        <p>Spico0804</p>\\n        <h1>He surprised me with his talents and later became my husband. Still is.</h1>\\n        <p>\\n          <img src=\"http://imgur.com/vxVbw0D\">\\n        </p>\\n        <p>kerlypso</p>\\n        <h1>My nephew was very excited to build Legos with auntie! Would anyone care to capture his vivid expression?</h1>\\n        <p>\\n          <img src=\"http://i.imgur.com/Gb8eTe4.jpg\">\\n        </p>\\n        <p>SpaceFeline</p>\\n        <h1>Can someone draw me and my family?</h1>\\n        <p>\\n          <img src=\"http://imgur.com/ACs8dlq\">\\n        </p>\\n        <p>Steel_Web</p>\\n        <h1>My girlfriend and I would love if you could draw this photo of us at formal.</h1>\\n        <p>\\n          <img src=\"http://i.imgur.com/RFADIjw.jpg\">\\n        </p>\\n        <p>TheBeachWhale</p>\\n        <h1>I\\'m playing around with whether or not I should be growing facial hair</h1>\\n        <p>\\n          <img src=\"http://imgur.com/bsb40tb\">\\n        </p>\\n        <p>tsenaku</p>\\n        <h1>This picture captures our relationship perfectly. I\\'d love to get it drawn for her!</h1>\\n        <p>\\n          <img src=\"http://imgur.com/Gz8wNar\">\\n        </p>\\n        <p>illadelphquarterlife</p>\\n        <h1>Would you care to animate my boyfriend and I?</h1>\\n        <p>\\n          <img src=\"http://imgur.com/a/DZXCc\">\\n        </p>\\n        <p>BossyBlossom</p>\\n        <h1>Picture of my friend &amp;amp; I from prom, use any type of art to recreate this &amp;amp; I will love you forever</h1>\\n        <p>\\n          <img src=\"http://i.imgur.com/uFPKwLf.jpg\">\\n        </p>\\n        <p>UhOhitsBroken</p>\\n        <h1>A dear friend and colleague. Award-winning concert pianist. Anyone want to draw him? Thank you.</h1>\\n        <p>\\n          <img src=\"http://i.imgur.com/sp2gfaK.jpg\">\\n        </p>\\n        <p>HornedFrogPride</p>\\n        <h1>My sister, her husband, and their new puppy visited Santa!</h1>\\n        <p>\\n          <img src=\"http://i.imgur.com/kwCVaHd.jpg\">\\n        </p>\\n        <p>Verittan</p>\\n        <h1>Hi, RGD! Here\\'s a photo of my face - care to draw me?</h1>\\n        <p>\\n          <img src=\"http://i.imgur.com/9Fj2FFR.jpg\">\\n        </p>\\n        <p>kkasket</p>\\n        <h1>My aunt and uncle in the 1960s. I\\'d love to be able to surprise my mom with some art depicting her siblings!</h1>\\n        <p>\\n          <img src=\"http://imgur.com/6mAxfkN.jpg\">\\n        </p>\\n        <p>ms_anne_thropy</p>\\n        <h1>Would you please draw my children playing around Christmas tree for me?</h1>\\n        <p>\\n          <img src=\"http://i.imgur.com/wlFwPPr.jpg\">\\n        </p>\\n        <p>waldenjrs</p>\\n        <h1>I would LOVE to get some help having my friends picture drawn before her wedding!!!! Can someone draw her? She is the one holding the turtle with dreads and terrified look!!!</h1>\\n        <p>\\n          <img src=\"http://i.imgur.com/1yMIGhe.jpg\">\\n        </p>\\n        <p>Jenkma1988</p>\\n        <h1>Anyone care to take a shot at my two favorite people? (My brother and my girlfriend)</h1>\\n        <p>\\n          <img src=\"http://i.imgur.com/8htEOS4.jpg\">\\n        </p>\\n        <p>toohighh</p>\\n        <h1>My best friend and I ~1998, can someone please draw us for a Christmas gift? :)</h1>\\n        <p>\\n          <img src=\"http://imgur.com/SkwODew\">\\n        </p>\\n        <p>samwichsam</p>\\n        <h1>My favorite recent picture of my purple hair. Anyone want to draw me?</h1>\\n        <p>\\n          <img src=\"http://imgur.com/IraYfSd\">\\n        </p>\\n        <p>Vaughnicorn</p>\\n        <h1>I\\'d love to surprise my sister with a print of her and her boyfriend for Christmas!</h1>\\n        <p>\\n          <img src=\"http://imgur.com/vsUFY5a\">\\n        </p>\\n        <p>esiedub</p>\\n        <h1>Can you draw me while performing? :) (not band or professional-related)</h1>\\n        <p>\\n          <img src=\"http://i.imgur.com/BgZXwfj.jpg\">\\n        </p>\\n        <p>va1a</p>\\n      </ol>\\n    </div>\\n    <div class=\"body\">\\n      <p>GetsDrawn is open source</p>\\n      <a>http://github.com/wcmckee/wcmckee</a>\\n    </div>\\n  </body>\\n</html>'"
       ]
      }
     ],
     "prompt_number": 93
    },
    {
     "cell_type": "code",
     "collapsed": false,
     "input": [
      "indfil = ('/home/wcmckee/getsdrawndotcom/index.html')"
     ],
     "language": "python",
     "metadata": {},
     "outputs": [],
     "prompt_number": 94
    },
    {
     "cell_type": "code",
     "collapsed": false,
     "input": [
      "mkind = open(indfil, 'w')\n",
      "mkind.write(str(doc))\n",
      "mkind.close()"
     ],
     "language": "python",
     "metadata": {},
     "outputs": [],
     "prompt_number": 95
    },
    {
     "cell_type": "code",
     "collapsed": false,
     "input": [
      "#os.system('scp -r /home/wcmckee/getsdrawndotcom/ wcmckee@getsdrawn.com:/home/wcmckee/getsdrawndotcom')"
     ],
     "language": "python",
     "metadata": {},
     "outputs": [],
     "prompt_number": 96
    },
    {
     "cell_type": "code",
     "collapsed": false,
     "input": [
      "os.system('scp -r /home/wcmckee/getsdrawndotcom/index.html wcmckee@getsdrawn.com:/home/wcmckee/getsdrawndotcom/index.html')"
     ],
     "language": "python",
     "metadata": {},
     "outputs": [
      {
       "metadata": {},
       "output_type": "pyout",
       "prompt_number": 97,
       "text": [
        "0"
       ]
      }
     ],
     "prompt_number": 97
    },
    {
     "cell_type": "code",
     "collapsed": false,
     "input": [
      "os.system('scp -r /home/wcmckee/getsdrawndotcom/style.css wcmckee@getsdrawn.com:/home/wcmckee/getsdrawndotcom/style.css')"
     ],
     "language": "python",
     "metadata": {},
     "outputs": []
    },
    {
     "cell_type": "code",
     "collapsed": false,
     "input": [],
     "language": "python",
     "metadata": {},
     "outputs": []
    }
   ],
   "metadata": {}
  }
 ]
}