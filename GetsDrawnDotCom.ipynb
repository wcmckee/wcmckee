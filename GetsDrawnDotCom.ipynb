{
 "metadata": {
  "name": "",
  "signature": "sha256:19209bbf0fab1603ac493897aee37d31b8436c83a531e0240dc3c812a6f43191"
 },
 "nbformat": 3,
 "nbformat_minor": 0,
 "worksheets": [
  {
   "cells": [
    {
     "cell_type": "markdown",
     "metadata": {},
     "source": [
      "<h1>GetsDrawn DotCom</h1>"
     ]
    },
    {
     "cell_type": "markdown",
     "metadata": {},
     "source": [
      "This is a python script to generate the website GetsDrawn. It takes data from /r/RedditGetsDrawn and makes something awesome.\n",
      "\n",
      "The script has envolved and been rewritten several times. \n",
      "\n",
      "The first script for rgdsnatch was written after I got banned from posting my artwork on /r/RedditGetsDrawn. The plan was to create a new site that displayed stuff from /r/RedditGetsDrawn. \n",
      "\n",
      "Currently it only displays the most recent 25 items on redditgetsdrawn.\n",
      "\n",
      "This is moving forward from rgdsnatch.py because I am stuck on it.  \n",
      "\n",
      "TODO\n",
      "\n",
      "Fix the links that don't link to png/jpeg and link to webaddress. \n",
      "Needs to get the images that are at that web address and embed them.\n",
      "\n",
      "Display artwork submitted under the images. \n",
      "\n",
      "Upload artwork to user. Sends them a message on redditgetsdrawn with links. \n",
      "\n",
      "More pandas"
     ]
    },
    {
     "cell_type": "code",
     "collapsed": false,
     "input": [
      "import os \n",
      "import requests\n",
      "from bs4 import BeautifulSoup\n",
      "import re\n",
      "import json\n",
      "import time\n",
      "import praw\n",
      "import dominate\n",
      "from dominate.tags import * \n",
      "from time import gmtime, strftime\n",
      "#import nose\n",
      "#import unittest\n",
      "import numpy as np\n",
      "import pandas as pd\n",
      "from pandas import *\n",
      "from PIL import Image\n",
      "from pprint import pprint\n",
      "#import pyttsx"
     ],
     "language": "python",
     "metadata": {},
     "outputs": [],
     "prompt_number": 154
    },
    {
     "cell_type": "code",
     "collapsed": false,
     "input": [
      "gtsdrndir = ('/home/wcmckee/getsdrawndotcom')"
     ],
     "language": "python",
     "metadata": {},
     "outputs": [],
     "prompt_number": 155
    },
    {
     "cell_type": "code",
     "collapsed": false,
     "input": [
      "os.chdir(gtsdrndir)"
     ],
     "language": "python",
     "metadata": {},
     "outputs": [],
     "prompt_number": 156
    },
    {
     "cell_type": "code",
     "collapsed": false,
     "input": [
      "r = praw.Reddit(user_agent='getsdrawndotcom')"
     ],
     "language": "python",
     "metadata": {},
     "outputs": [],
     "prompt_number": 157
    },
    {
     "cell_type": "code",
     "collapsed": false,
     "input": [
      "#getmin = r.get_redditor('itwillbemine')"
     ],
     "language": "python",
     "metadata": {},
     "outputs": [],
     "prompt_number": 158
    },
    {
     "cell_type": "code",
     "collapsed": false,
     "input": [
      "#mincom = getmin.get_comments()"
     ],
     "language": "python",
     "metadata": {},
     "outputs": [],
     "prompt_number": 159
    },
    {
     "cell_type": "code",
     "collapsed": false,
     "input": [
      "#engine = pyttsx.init()\n",
      "\n",
      "#engine.say('The quick brown fox jumped over the lazy dog.')\n",
      "#engine.runAndWait()"
     ],
     "language": "python",
     "metadata": {},
     "outputs": [],
     "prompt_number": 160
    },
    {
     "cell_type": "code",
     "collapsed": false,
     "input": [
      "#shtweet = []"
     ],
     "language": "python",
     "metadata": {},
     "outputs": [],
     "prompt_number": 161
    },
    {
     "cell_type": "code",
     "collapsed": false,
     "input": [
      "#for mi in mincom:\n",
      "#    print mi\n",
      "#    shtweet.append(mi)"
     ],
     "language": "python",
     "metadata": {},
     "outputs": [],
     "prompt_number": 162
    },
    {
     "cell_type": "code",
     "collapsed": false,
     "input": [
      "bodycom = []\n",
      "bodyicv = dict()"
     ],
     "language": "python",
     "metadata": {},
     "outputs": [],
     "prompt_number": 163
    },
    {
     "cell_type": "code",
     "collapsed": false,
     "input": [
      "#beginz = pyttsx.init()"
     ],
     "language": "python",
     "metadata": {},
     "outputs": [],
     "prompt_number": 164
    },
    {
     "cell_type": "code",
     "collapsed": false,
     "input": [
      "#for shtz in shtweet:\n",
      "#    print shtz.downs\n",
      "#    print shtz.ups\n",
      "#    print shtz.body\n",
      "#    print shtz.replies\n",
      "    #beginz.say(shtz.author)\n",
      "    #beginz.say(shtz.body)\n",
      "    #beginz.runAndWait()\n",
      "    \n",
      "#    bodycom.append(shtz.body)\n",
      "    #bodyic"
     ],
     "language": "python",
     "metadata": {},
     "outputs": [],
     "prompt_number": 165
    },
    {
     "cell_type": "code",
     "collapsed": false,
     "input": [
      "#bodycom "
     ],
     "language": "python",
     "metadata": {},
     "outputs": [],
     "prompt_number": 196
    },
    {
     "cell_type": "code",
     "collapsed": false,
     "input": [
      "getnewr = r.get_subreddit('redditgetsdrawn')"
     ],
     "language": "python",
     "metadata": {},
     "outputs": [],
     "prompt_number": 197
    },
    {
     "cell_type": "code",
     "collapsed": false,
     "input": [
      "rdnew = getnewr.get_new()"
     ],
     "language": "python",
     "metadata": {},
     "outputs": [],
     "prompt_number": 198
    },
    {
     "cell_type": "code",
     "collapsed": false,
     "input": [
      "lisrgc = []\n",
      "lisauth = []"
     ],
     "language": "python",
     "metadata": {},
     "outputs": [],
     "prompt_number": 199
    },
    {
     "cell_type": "code",
     "collapsed": false,
     "input": [
      "for uz in rdnew:\n",
      "    #print uz\n",
      "    lisrgc.append(uz)"
     ],
     "language": "python",
     "metadata": {},
     "outputs": [],
     "prompt_number": 200
    },
    {
     "cell_type": "code",
     "collapsed": false,
     "input": [
      "gtdrndic = dict()"
     ],
     "language": "python",
     "metadata": {},
     "outputs": [],
     "prompt_number": 201
    },
    {
     "cell_type": "code",
     "collapsed": false,
     "input": [
      "imgdir = ('/home/wcmckee/getsdrawndotcom/imgs')"
     ],
     "language": "python",
     "metadata": {},
     "outputs": [],
     "prompt_number": 224
    },
    {
     "cell_type": "code",
     "collapsed": false,
     "input": [
      "os.chdir(imgdir)"
     ],
     "language": "python",
     "metadata": {},
     "outputs": [],
     "prompt_number": 226
    },
    {
     "cell_type": "code",
     "collapsed": false,
     "input": [
      "#im = Image.new(\"RGB\", (512, 512), \"white\")\n",
      "#im.save(file + \".thumbnail\", \"JPEG\")"
     ],
     "language": "python",
     "metadata": {},
     "outputs": [],
     "prompt_number": 204
    },
    {
     "cell_type": "code",
     "collapsed": false,
     "input": [
      "for lisr in lisrgc:\n",
      "    gtdrndic.update({'title': lisr.title})\n",
      "    lisauth.append(str(lisr.author))\n"
     ],
     "language": "python",
     "metadata": {},
     "outputs": [],
     "prompt_number": 212
    },
    {
     "cell_type": "code",
     "collapsed": false,
     "input": [
      "ls"
     ],
     "language": "python",
     "metadata": {},
     "outputs": [
      {
       "output_type": "stream",
       "stream": "stdout",
       "text": [
        "\u001b[0m\u001b[01;35mAdamBarnhouse-bw.png\u001b[0m         \u001b[01;35mneszero-line.png\u001b[0m"
       ]
      },
      {
       "output_type": "stream",
       "stream": "stdout",
       "text": [
        "\r\n",
        "\u001b[01;35mAdamBarnhouse-colour.png\u001b[0m     \u001b[01;35mplainclotheswoman-bw.png\u001b[0m\r\n",
        "\u001b[01;35mAdamBarnhouse-line.png\u001b[0m       \u001b[01;35mplainclotheswoman-colour.png\u001b[0m\r\n",
        "\u001b[01;35mBeyondMars-bw.png\u001b[0m            \u001b[01;35mplainclotheswoman-line.png\u001b[0m\r\n",
        "\u001b[01;35mBeyondMars-colour.png\u001b[0m        \u001b[01;35mQuackattackaggie-bw.png\u001b[0m\r\n",
        "\u001b[01;35mBeyondMars-line.png\u001b[0m          \u001b[01;35mQuackattackaggie-colour.png\u001b[0m\r\n",
        "\u001b[01;35mBonAnchovy-bw.png\u001b[0m            \u001b[01;35mQuackattackaggie-line.png\u001b[0m\r\n",
        "\u001b[01;35mBonAnchovy-colour.png\u001b[0m        \u001b[01;35mRunOttawa613-bw.png\u001b[0m\r\n",
        "\u001b[01;35mBonAnchovy-line.png\u001b[0m          \u001b[01;35mRunOttawa613-colour.png\u001b[0m\r\n",
        "\u001b[01;35mcrayolalightblue-bw.png\u001b[0m      \u001b[01;35mRunOttawa613-line.png\u001b[0m\r\n",
        "\u001b[01;35mcrayolalightblue-colour.png\u001b[0m  \u001b[01;35mSalerno1717-bw.png\u001b[0m\r\n",
        "\u001b[01;35mcrayolalightblue-line.png\u001b[0m    \u001b[01;35mSalerno1717-colour.png\u001b[0m\r\n",
        "\u001b[01;35mDreababii-bw.png\u001b[0m             \u001b[01;35mSalerno1717-line.png\u001b[0m\r\n",
        "\u001b[01;35mDreababii-colour.png\u001b[0m         \u001b[01;35mseahorseVT-bw.png\u001b[0m\r\n",
        "\u001b[01;35mDreababii-line.png\u001b[0m           \u001b[01;35mseahorseVT-colour.png\u001b[0m\r\n",
        "\u001b[01;35mJasperthecat77-bw.png\u001b[0m        \u001b[01;35mseahorseVT-line.png\u001b[0m\r\n",
        "\u001b[01;35mJasperthecat77-colour.png\u001b[0m    \u001b[01;35mshripityshripit-bw.png\u001b[0m\r\n",
        "\u001b[01;35mJasperthecat77-line.png\u001b[0m      \u001b[01;35mshripityshripit-colour.png\u001b[0m\r\n",
        "\u001b[01;35m_jazmin-bw.png\u001b[0m               \u001b[01;35mshripityshripit-line.png\u001b[0m\r\n",
        "\u001b[01;35m_jazmin-colour.png\u001b[0m           \u001b[01;35mstarienite-bw.png\u001b[0m\r\n",
        "\u001b[01;35m_jazmin-line.png\u001b[0m             \u001b[01;35mstarienite-colour.png\u001b[0m\r\n",
        "\u001b[01;35mJEWPACOLYPSE-bw.png\u001b[0m          \u001b[01;35mstarienite-line.png\u001b[0m\r\n",
        "\u001b[01;35mJEWPACOLYPSE-colour.png\u001b[0m      \u001b[01;35mTD2705-bw.png\u001b[0m\r\n",
        "\u001b[01;35mJEWPACOLYPSE-line.png\u001b[0m        \u001b[01;35mTD2705-colour.png\u001b[0m\r\n",
        "\u001b[01;35mJoisofLife-bw.png\u001b[0m            \u001b[01;35mTD2705-line.png\u001b[0m\r\n",
        "\u001b[01;35mJoisofLife-colour.png\u001b[0m        \u001b[01;35mThe_Beaner-bw.png\u001b[0m\r\n",
        "\u001b[01;35mJoisofLife-line.png\u001b[0m          \u001b[01;35mThe_Beaner-colour.png\u001b[0m\r\n",
        "\u001b[01;35mlabatomi-bw.png\u001b[0m              \u001b[01;35mThe_Beaner-line.png\u001b[0m\r\n",
        "\u001b[01;35mlabatomi-colour.png\u001b[0m          \u001b[01;35mTHORGNASH-bw.png\u001b[0m\r\n",
        "\u001b[01;35mlabatomi-line.png\u001b[0m            \u001b[01;35mTHORGNASH-colour.png\u001b[0m\r\n",
        "\u001b[01;35mLongDistanceGuyy-bw.png\u001b[0m      \u001b[01;35mTHORGNASH-line.png\u001b[0m\r\n",
        "\u001b[01;35mLongDistanceGuyy-colour.png\u001b[0m  \u001b[01;35muhhhname-bw.png\u001b[0m\r\n",
        "\u001b[01;35mLongDistanceGuyy-line.png\u001b[0m    \u001b[01;35muhhhname-colour.png\u001b[0m\r\n",
        "\u001b[01;35mMrsEvil-bw.png\u001b[0m               \u001b[01;35muhhhname-line.png\u001b[0m\r\n",
        "\u001b[01;35mMrsEvil-colour.png\u001b[0m           \u001b[01;35myouwinabagel-bw.png\u001b[0m\r\n",
        "\u001b[01;35mMrsEvil-line.png\u001b[0m             \u001b[01;35myouwinabagel-colour.png\u001b[0m\r\n",
        "\u001b[01;35mneszero-bw.png\u001b[0m               \u001b[01;35myouwinabagel-line.png\u001b[0m\r\n",
        "\u001b[01;35mneszero-colour.png\u001b[0m\r\n"
       ]
      }
     ],
     "prompt_number": 230
    },
    {
     "cell_type": "code",
     "collapsed": false,
     "input": [
      "for lisa in lisauth:\n",
      "    print lisa + '-line.png'\n",
      "    im = Image.new(\"RGB\", (512, 512), \"white\")\n",
      "    im.save(lisa + '-line.png')\n",
      "    im = Image.new(\"RGB\", (512, 512), \"white\")\n",
      "    im.save(lisa + '-bw.png')\n",
      "\n",
      "    print lisa + '-bw.png'\n",
      "    im = Image.new(\"RGB\", (512, 512), \"white\")\n",
      "    im.save(lisa + '-colour.png')\n",
      "\n",
      "    print lisa + '-colour.png'"
     ],
     "language": "python",
     "metadata": {},
     "outputs": [
      {
       "output_type": "stream",
       "stream": "stdout",
       "text": [
        "Jasperthecat77-line.png\n",
        "Jasperthecat77-bw.png"
       ]
      },
      {
       "output_type": "stream",
       "stream": "stdout",
       "text": [
        "\n",
        "Jasperthecat77-colour.png\n",
        "BeyondMars-line.png\n",
        "BeyondMars-bw.png"
       ]
      },
      {
       "output_type": "stream",
       "stream": "stdout",
       "text": [
        "\n",
        "BeyondMars-colour.png\n",
        "plainclotheswoman-line.png\n",
        "plainclotheswoman-bw.png"
       ]
      },
      {
       "output_type": "stream",
       "stream": "stdout",
       "text": [
        "\n",
        "plainclotheswoman-colour.png\n",
        "Quackattackaggie-line.png\n",
        "Quackattackaggie-bw.png"
       ]
      },
      {
       "output_type": "stream",
       "stream": "stdout",
       "text": [
        "\n",
        "Quackattackaggie-colour.png\n",
        "JEWPACOLYPSE-line.png\n",
        "JEWPACOLYPSE-bw.png"
       ]
      },
      {
       "output_type": "stream",
       "stream": "stdout",
       "text": [
        "\n",
        "JEWPACOLYPSE-colour.png\n",
        "Dreababii-line.png\n",
        "Dreababii-bw.png"
       ]
      },
      {
       "output_type": "stream",
       "stream": "stdout",
       "text": [
        "\n",
        "Dreababii-colour.png\n",
        "_jazmin-line.png\n",
        "_jazmin-bw.png"
       ]
      },
      {
       "output_type": "stream",
       "stream": "stdout",
       "text": [
        "\n",
        "_jazmin-colour.png\n",
        "crayolalightblue-line.png\n",
        "crayolalightblue-bw.png"
       ]
      },
      {
       "output_type": "stream",
       "stream": "stdout",
       "text": [
        "\n",
        "crayolalightblue-colour.png\n",
        "BonAnchovy-line.png\n",
        "BonAnchovy-bw.png"
       ]
      },
      {
       "output_type": "stream",
       "stream": "stdout",
       "text": [
        "\n",
        "BonAnchovy-colour.png\n",
        "uhhhname-line.png\n",
        "uhhhname-bw.png"
       ]
      },
      {
       "output_type": "stream",
       "stream": "stdout",
       "text": [
        "\n",
        "uhhhname-colour.png\n",
        "starienite-line.png\n",
        "starienite-bw.png"
       ]
      },
      {
       "output_type": "stream",
       "stream": "stdout",
       "text": [
        "\n",
        "starienite-colour.png\n",
        "AdamBarnhouse-line.png\n",
        "AdamBarnhouse-bw.png"
       ]
      },
      {
       "output_type": "stream",
       "stream": "stdout",
       "text": [
        "\n",
        "AdamBarnhouse-colour.png\n",
        "shripityshripit-line.png\n",
        "shripityshripit-bw.png"
       ]
      },
      {
       "output_type": "stream",
       "stream": "stdout",
       "text": [
        "\n",
        "shripityshripit-colour.png\n",
        "TD2705-line.png\n",
        "TD2705-bw.png"
       ]
      },
      {
       "output_type": "stream",
       "stream": "stdout",
       "text": [
        "\n",
        "TD2705-colour.png\n",
        "RunOttawa613-line.png\n",
        "RunOttawa613-bw.png"
       ]
      },
      {
       "output_type": "stream",
       "stream": "stdout",
       "text": [
        "\n",
        "RunOttawa613-colour.png\n",
        "labatomi-line.png\n",
        "labatomi-bw.png"
       ]
      },
      {
       "output_type": "stream",
       "stream": "stdout",
       "text": [
        "\n",
        "labatomi-colour.png\n",
        "youwinabagel-line.png\n",
        "youwinabagel-bw.png"
       ]
      },
      {
       "output_type": "stream",
       "stream": "stdout",
       "text": [
        "\n",
        "youwinabagel-colour.png\n",
        "THORGNASH-line.png\n",
        "THORGNASH-bw.png"
       ]
      },
      {
       "output_type": "stream",
       "stream": "stdout",
       "text": [
        "\n",
        "THORGNASH-colour.png\n",
        "neszero-line.png\n",
        "neszero-bw.png"
       ]
      },
      {
       "output_type": "stream",
       "stream": "stdout",
       "text": [
        "\n",
        "neszero-colour.png\n",
        "Salerno1717-line.png\n",
        "Salerno1717-bw.png"
       ]
      },
      {
       "output_type": "stream",
       "stream": "stdout",
       "text": [
        "\n",
        "Salerno1717-colour.png\n",
        "LongDistanceGuyy-line.png\n",
        "LongDistanceGuyy-bw.png"
       ]
      },
      {
       "output_type": "stream",
       "stream": "stdout",
       "text": [
        "\n",
        "LongDistanceGuyy-colour.png\n",
        "seahorseVT-line.png\n",
        "seahorseVT-bw.png"
       ]
      },
      {
       "output_type": "stream",
       "stream": "stdout",
       "text": [
        "\n",
        "seahorseVT-colour.png\n",
        "The_Beaner-line.png\n",
        "The_Beaner-bw.png"
       ]
      },
      {
       "output_type": "stream",
       "stream": "stdout",
       "text": [
        "\n",
        "The_Beaner-colour.png\n",
        "JoisofLife-line.png\n",
        "JoisofLife-bw.png"
       ]
      },
      {
       "output_type": "stream",
       "stream": "stdout",
       "text": [
        "\n",
        "JoisofLife-colour.png\n",
        "MrsEvil-line.png\n",
        "MrsEvil-bw.png"
       ]
      },
      {
       "output_type": "stream",
       "stream": "stdout",
       "text": [
        "\n",
        "MrsEvil-colour.png\n"
       ]
      }
     ],
     "prompt_number": 229
    },
    {
     "cell_type": "markdown",
     "metadata": {},
     "source": [
      "I want to save the list of usernames that submit images as png files in a dir. \n",
      "Currently when I call the list of authors it returns Redditor(user_name='theusername'). I want to return 'theusername'.\n",
      "Once this is resolved I can add '-line.png' '-bw.png' '-colour.png' to each folder. "
     ]
    },
    {
     "cell_type": "code",
     "collapsed": false,
     "input": [
      "lisr.author"
     ],
     "language": "python",
     "metadata": {},
     "outputs": [
      {
       "metadata": {},
       "output_type": "pyout",
       "prompt_number": 190,
       "text": [
        "Redditor(user_name='MrsEvil')"
       ]
      }
     ],
     "prompt_number": 190
    },
    {
     "cell_type": "code",
     "collapsed": false,
     "input": [
      "namlis = []"
     ],
     "language": "python",
     "metadata": {},
     "outputs": [],
     "prompt_number": 175
    },
    {
     "cell_type": "code",
     "collapsed": false,
     "input": [
      "opsinz = open('/home/wcmckee/visignsys/index.meta', 'r')\n",
      "panz = opsinz.read()"
     ],
     "language": "python",
     "metadata": {},
     "outputs": [],
     "prompt_number": 101
    },
    {
     "cell_type": "code",
     "collapsed": false,
     "input": [
      "#panz()"
     ],
     "language": "python",
     "metadata": {},
     "outputs": [],
     "prompt_number": 21
    },
    {
     "cell_type": "code",
     "collapsed": false,
     "input": [
      "doc = dominate.document(title='GetsDrawn')\n",
      "\n",
      "with doc.head:\n",
      "    link(rel='stylesheet', href='style.css')\n",
      "    script(type='text/javascript', src='script.js')\n",
      "    \n",
      "    with div():\n",
      "        attr(cls='header')\n",
      "        h1('GetsDrawn')\n",
      "        p(img('imgs/getsdrawn-bw.png', src='imgs/getsdrawn-bw.png'))\n",
      "        p('Updated ', strftime(\"%a, %d %b %Y %H:%M:%S +0000\", gmtime()))\n",
      "        p(panz)\n",
      "        p(bodycom)\n",
      "    \n",
      "    \n",
      "\n",
      "with doc:\n",
      "    with div(id='body').add(ol()):\n",
      "        for rdz in lisrgc:\n",
      "            h1(rdz.title)\n",
      "            #a(rdz.url)\n",
      "            if '.jpg' or '.png' in rdz.url:\n",
      "                #print rdz.url\n",
      "                p(img(rdz.url, src='%s' % rdz.url))\n",
      "                \n",
      "            #print rdz.url\n",
      "            #if '.jpg' in rdz.url:\n",
      "            #    img(rdz.urlz)\n",
      "            #else:\n",
      "            #    a(rdz.urlz)\n",
      "            p(str(rdz.author))\n",
      "            \n",
      "            #li(img(i.lower(), src='%s' % i))\n",
      "\n",
      "    with div():\n",
      "        attr(cls='body')\n",
      "        p('GetsDrawn is open source')\n",
      "        a('http://github.com/wcmckee/wcmckee')\n",
      "\n",
      "#print doc"
     ],
     "language": "python",
     "metadata": {},
     "outputs": [],
     "prompt_number": 22
    },
    {
     "cell_type": "code",
     "collapsed": false,
     "input": [
      "gtdrndic"
     ],
     "language": "python",
     "metadata": {},
     "outputs": [
      {
       "metadata": {},
       "output_type": "pyout",
       "prompt_number": 23,
       "text": [
        "{'title': u'Can anyone draw this picture of me when I was a nerdy hippie child of the 90s?'}"
       ]
      }
     ],
     "prompt_number": 23
    },
    {
     "cell_type": "code",
     "collapsed": false,
     "input": [
      "docre = doc.render()"
     ],
     "language": "python",
     "metadata": {},
     "outputs": [],
     "prompt_number": 24
    },
    {
     "cell_type": "code",
     "collapsed": false,
     "input": [
      "#s = docre.decode('ascii', 'ignore')"
     ],
     "language": "python",
     "metadata": {},
     "outputs": [],
     "prompt_number": 25
    },
    {
     "cell_type": "code",
     "collapsed": false,
     "input": [
      "yourstring = docre.encode('ascii', 'ignore').decode('ascii')"
     ],
     "language": "python",
     "metadata": {},
     "outputs": [],
     "prompt_number": 26
    },
    {
     "cell_type": "code",
     "collapsed": false,
     "input": [
      "indfil = ('/home/wcmckee/getsdrawndotcom/index.html')"
     ],
     "language": "python",
     "metadata": {},
     "outputs": [],
     "prompt_number": 27
    },
    {
     "cell_type": "code",
     "collapsed": false,
     "input": [
      "mkind = open(indfil, 'w')\n",
      "mkind.write(yourstring)\n",
      "mkind.close()"
     ],
     "language": "python",
     "metadata": {},
     "outputs": [],
     "prompt_number": 28
    },
    {
     "cell_type": "code",
     "collapsed": false,
     "input": [
      "#os.system('scp -r /home/wcmckee/getsdrawndotcom/ wcmckee@getsdrawn.com:/home/wcmckee/getsdrawndotcom')"
     ],
     "language": "python",
     "metadata": {},
     "outputs": [],
     "prompt_number": 29
    },
    {
     "cell_type": "code",
     "collapsed": false,
     "input": [
      "os.system('scp -r /home/wcmckee/getsdrawndotcom/index.html wcmckee@getsdrawn.com:/home/wcmckee/getsdrawndotcom/index.html')"
     ],
     "language": "python",
     "metadata": {},
     "outputs": [
      {
       "metadata": {},
       "output_type": "pyout",
       "prompt_number": 30,
       "text": [
        "0"
       ]
      }
     ],
     "prompt_number": 30
    },
    {
     "cell_type": "code",
     "collapsed": false,
     "input": [
      "os.system('scp -r /home/wcmckee/getsdrawndotcom/style.css wcmckee@getsdrawn.com:/home/wcmckee/getsdrawndotcom/style.css')"
     ],
     "language": "python",
     "metadata": {},
     "outputs": [
      {
       "metadata": {},
       "output_type": "pyout",
       "prompt_number": 91,
       "text": [
        "256"
       ]
      }
     ],
     "prompt_number": 91
    },
    {
     "cell_type": "code",
     "collapsed": false,
     "input": [],
     "language": "python",
     "metadata": {},
     "outputs": [],
     "prompt_number": 91
    },
    {
     "cell_type": "code",
     "collapsed": false,
     "input": [],
     "language": "python",
     "metadata": {},
     "outputs": []
    }
   ],
   "metadata": {}
  }
 ]
}