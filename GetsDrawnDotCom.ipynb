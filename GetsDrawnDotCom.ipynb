{
 "metadata": {
  "name": "",
  "signature": "sha256:75748fdbf0b9f34883efc134403132e1550705a0208e844fc4260237e9bce5f2"
 },
 "nbformat": 3,
 "nbformat_minor": 0,
 "worksheets": [
  {
   "cells": [
    {
     "cell_type": "markdown",
     "metadata": {},
     "source": [
      "<h1>GetsDrawn DotCom</h1>"
     ]
    },
    {
     "cell_type": "markdown",
     "metadata": {},
     "source": [
      "This is a python script to generate the website GetsDrawn. It takes data from /r/RedditGetsDrawn and makes something awesome.\n",
      "\n",
      "The script has envolved and been rewritten several times. \n",
      "\n",
      "The first script for rgdsnatch was written after I got banned from posting my artwork on /r/RedditGetsDrawn. The plan was to create a new site that displayed stuff from /r/RedditGetsDrawn. \n",
      "\n",
      "Currently it only displays the most recent 25 items on redditgetsdrawn.\n",
      "\n",
      "This is moving forward from rgdsnatch.py because I am stuck on it.  \n",
      "\n",
      "TODO\n",
      "\n",
      "Fix the links that don't link to png/jpeg and link to webaddress. \n",
      "Needs to get the images that are at that web address and embed them.\n",
      "\n",
      "Display artwork submitted under the images. \n",
      "\n",
      "Upload artwork to user. Sends them a message on redditgetsdrawn with links. \n",
      "\n",
      "More pandas"
     ]
    },
    {
     "cell_type": "code",
     "collapsed": false,
     "input": [
      "import os \n",
      "import requests\n",
      "from bs4 import BeautifulSoup\n",
      "import re\n",
      "import json\n",
      "import time\n",
      "import praw\n",
      "import dominate\n",
      "from dominate.tags import * \n",
      "from time import gmtime, strftime\n",
      "#import nose\n",
      "#import unittest\n",
      "import numpy as np\n",
      "import pandas as pd\n",
      "from pandas import *\n",
      "#import pyttsx"
     ],
     "language": "python",
     "metadata": {},
     "outputs": [],
     "prompt_number": 1
    },
    {
     "cell_type": "code",
     "collapsed": false,
     "input": [
      "gtsdrndir = ('/home/wcmckee/getsdrawndotcom')"
     ],
     "language": "python",
     "metadata": {},
     "outputs": [],
     "prompt_number": 2
    },
    {
     "cell_type": "code",
     "collapsed": false,
     "input": [
      "os.chdir(gtsdrndir)"
     ],
     "language": "python",
     "metadata": {},
     "outputs": [],
     "prompt_number": 3
    },
    {
     "cell_type": "code",
     "collapsed": false,
     "input": [
      "r = praw.Reddit(user_agent='getsdrawndotcom')"
     ],
     "language": "python",
     "metadata": {},
     "outputs": [],
     "prompt_number": 4
    },
    {
     "cell_type": "code",
     "collapsed": false,
     "input": [
      "getmin = r.get_redditor('itwillbemine')"
     ],
     "language": "python",
     "metadata": {},
     "outputs": [],
     "prompt_number": 5
    },
    {
     "cell_type": "code",
     "collapsed": false,
     "input": [
      "mincom = getmin.get_comments()"
     ],
     "language": "python",
     "metadata": {},
     "outputs": [],
     "prompt_number": 6
    },
    {
     "cell_type": "code",
     "collapsed": false,
     "input": [
      "#engine = pyttsx.init()\n",
      "\n",
      "#engine.say('The quick brown fox jumped over the lazy dog.')\n",
      "#engine.runAndWait()"
     ],
     "language": "python",
     "metadata": {},
     "outputs": [],
     "prompt_number": 7
    },
    {
     "cell_type": "code",
     "collapsed": false,
     "input": [
      "shtweet = []"
     ],
     "language": "python",
     "metadata": {},
     "outputs": [],
     "prompt_number": 8
    },
    {
     "cell_type": "code",
     "collapsed": false,
     "input": [
      "for mi in mincom:\n",
      "    print mi\n",
      "    shtweet.append(mi)"
     ],
     "language": "python",
     "metadata": {},
     "outputs": [
      {
       "output_type": "stream",
       "stream": "stdout",
       "text": [
        "No, that's sub rules.\n",
        "Will do - but first, please change the 'had to do' to 'did.'\n",
        "Your comments were removed. Please read the rules of the sub before participa...\n",
        "Please use a different photo as your post; this one can appear insensitive to...\n",
        "Nope, all of this is clearly written in our rules; please review.\n",
        "Posting, deleting, and reposting is enough to earn you a ban:\n",
        "\n",
        "http://www.red...\n",
        "Please repost without mentioning that you never see each other.\n",
        "Advertising isn't allowed in this sub, so your post was removed.\n",
        "Please repost without identifying Peter Norman. We don't allow names in this ...\n",
        "Please repost without the past tense.\n",
        "Please repost without mentioning that it's your only photo.\n",
        "Perfect, thank you for clarifying!\n",
        "Your post breaks multiple rules and was removed, starting with an unclear title.\n",
        "Posts pertaining to illness or injury are removed. Please review our rules.\n",
        "Please repost without mentioning that he's moved long-distance. \n",
        "You're not allowed to give names in this sub, so your post was removed.\n",
        "This is a repost and you broke our frequent posting rule as well. Post removed.\n",
        "Added the NSFW tag due to your second photo. Please leave this tag yourself n...\n",
        "Post removed. Please see our list of approved relationships.\n",
        "Post removed; please see our list of approved relationships.\n",
        "Added NSFW because of your topboob. Please add this tag yourself next time if...\n",
        "Reposts aren't allowed. Post removed.\n",
        "This sub isn't for making fun of people. Post removed. Also, didn't I just se...\n",
        "Posts pertaining to illness or injury are removed, so please repost a photo w...\n",
        "&gt; I shouldn't point details that I especially like about a drawing?\n",
        "\n",
        "No, y...\n"
       ]
      }
     ],
     "prompt_number": 9
    },
    {
     "cell_type": "code",
     "collapsed": false,
     "input": [
      "bodycom = []\n",
      "bodyicv = dict()"
     ],
     "language": "python",
     "metadata": {},
     "outputs": [],
     "prompt_number": 10
    },
    {
     "cell_type": "code",
     "collapsed": false,
     "input": [
      "#beginz = pyttsx.init()"
     ],
     "language": "python",
     "metadata": {},
     "outputs": [],
     "prompt_number": 11
    },
    {
     "cell_type": "code",
     "collapsed": false,
     "input": [
      "for shtz in shtweet:\n",
      "    print shtz.downs\n",
      "    print shtz.ups\n",
      "    print shtz.body\n",
      "    print shtz.replies\n",
      "    #beginz.say(shtz.author)\n",
      "    #beginz.say(shtz.body)\n",
      "    #beginz.runAndWait()\n",
      "    \n",
      "    bodycom.append(shtz.body)\n",
      "    #bodyic"
     ],
     "language": "python",
     "metadata": {},
     "outputs": [
      {
       "output_type": "stream",
       "stream": "stdout",
       "text": [
        "0\n",
        "1\n",
        "No, that's sub rules.\n",
        "[]"
       ]
      },
      {
       "output_type": "stream",
       "stream": "stdout",
       "text": [
        "\n",
        "0\n",
        "2\n",
        "Will do - but first, please change the 'had to do' to 'did.'\n",
        "[<praw.objects.Comment object at 0x1aba830>]"
       ]
      },
      {
       "output_type": "stream",
       "stream": "stdout",
       "text": [
        "\n",
        "0\n",
        "1\n",
        "Your comments were removed. Please read the rules of the sub before participating.\n",
        "[]"
       ]
      },
      {
       "output_type": "stream",
       "stream": "stdout",
       "text": [
        "\n",
        "0\n",
        "1\n",
        "Please use a different photo as your post; this one can appear insensitive to our LBQT population and supporters. Thanks.\n",
        "[<praw.objects.Comment object at 0x1abaef0>]"
       ]
      },
      {
       "output_type": "stream",
       "stream": "stdout",
       "text": [
        "\n",
        "0\n",
        "1\n",
        "Nope, all of this is clearly written in our rules; please review.\n",
        "[]"
       ]
      },
      {
       "output_type": "stream",
       "stream": "stdout",
       "text": [
        "\n",
        "0\n",
        "1\n",
        "Posting, deleting, and reposting is enough to earn you a ban:\n",
        "\n",
        "http://www.reddit.com/r/redditgetsdrawn/comments/2ovyxq/pictures_from_a_few_of_my_wife_and_my_first_dates/\n",
        "\n",
        "I suggest you read our rules thoroughly before participating again.\n",
        "[<praw.objects.Comment object at 0x1b4e1d0>]"
       ]
      },
      {
       "output_type": "stream",
       "stream": "stdout",
       "text": [
        "\n",
        "0\n",
        "1\n",
        "Please repost without mentioning that you never see each other.\n",
        "[]"
       ]
      },
      {
       "output_type": "stream",
       "stream": "stdout",
       "text": [
        "\n",
        "0\n",
        "1\n",
        "Advertising isn't allowed in this sub, so your post was removed.\n",
        "[]"
       ]
      },
      {
       "output_type": "stream",
       "stream": "stdout",
       "text": [
        "\n",
        "0\n",
        "1\n",
        "Please repost without identifying Peter Norman. We don't allow names in this sub.\n",
        "[]"
       ]
      },
      {
       "output_type": "stream",
       "stream": "stdout",
       "text": [
        "\n",
        "0\n",
        "1\n",
        "Please repost without the past tense.\n",
        "[]"
       ]
      },
      {
       "output_type": "stream",
       "stream": "stdout",
       "text": [
        "\n",
        "0\n",
        "1\n",
        "Please repost without mentioning that it's your only photo.\n",
        "[]"
       ]
      },
      {
       "output_type": "stream",
       "stream": "stdout",
       "text": [
        "\n",
        "0\n",
        "1\n",
        "Perfect, thank you for clarifying!\n",
        "[]"
       ]
      },
      {
       "output_type": "stream",
       "stream": "stdout",
       "text": [
        "\n",
        "0\n",
        "1\n",
        "Your post breaks multiple rules and was removed, starting with an unclear title.\n",
        "[]"
       ]
      },
      {
       "output_type": "stream",
       "stream": "stdout",
       "text": [
        "\n",
        "0\n",
        "1\n",
        "Posts pertaining to illness or injury are removed. Please review our rules.\n",
        "[]"
       ]
      },
      {
       "output_type": "stream",
       "stream": "stdout",
       "text": [
        "\n",
        "0\n",
        "1\n",
        "Please repost without mentioning that he's moved long-distance. \n",
        "[]"
       ]
      },
      {
       "output_type": "stream",
       "stream": "stdout",
       "text": [
        "\n",
        "0\n",
        "1\n",
        "You're not allowed to give names in this sub, so your post was removed.\n",
        "[]"
       ]
      },
      {
       "output_type": "stream",
       "stream": "stdout",
       "text": [
        "\n",
        "0\n",
        "1\n",
        "This is a repost and you broke our frequent posting rule as well. Post removed.\n",
        "[]"
       ]
      },
      {
       "output_type": "stream",
       "stream": "stdout",
       "text": [
        "\n",
        "0\n",
        "1\n",
        "Added the NSFW tag due to your second photo. Please leave this tag yourself next time. Thanks!\n",
        "[<praw.objects.Comment object at 0x1ab2710>]"
       ]
      },
      {
       "output_type": "stream",
       "stream": "stdout",
       "text": [
        "\n",
        "0\n",
        "1\n",
        "Post removed. Please see our list of approved relationships.\n",
        "[<praw.objects.Comment object at 0x1ba2b90>]"
       ]
      },
      {
       "output_type": "stream",
       "stream": "stdout",
       "text": [
        "\n",
        "0\n",
        "1\n",
        "Post removed; please see our list of approved relationships.\n",
        "[]"
       ]
      },
      {
       "output_type": "stream",
       "stream": "stdout",
       "text": [
        "\n",
        "0\n",
        "2\n",
        "Added NSFW because of your topboob. Please add this tag yourself next time if relevant. Thanks!\n",
        "[]"
       ]
      },
      {
       "output_type": "stream",
       "stream": "stdout",
       "text": [
        "\n",
        "0\n",
        "1\n",
        "Reposts aren't allowed. Post removed.\n",
        "[]"
       ]
      },
      {
       "output_type": "stream",
       "stream": "stdout",
       "text": [
        "\n",
        "0\n",
        "1\n",
        "This sub isn't for making fun of people. Post removed. Also, didn't I just see your face in a different post? See our rules, please.\n",
        "[<praw.objects.Comment object at 0x1bbb090>]"
       ]
      },
      {
       "output_type": "stream",
       "stream": "stdout",
       "text": [
        "\n",
        "0\n",
        "1\n",
        "Posts pertaining to illness or injury are removed, so please repost a photo without the blind dog.\n",
        "[<praw.objects.Comment object at 0x1ba2e90>]"
       ]
      },
      {
       "output_type": "stream",
       "stream": "stdout",
       "text": [
        "\n",
        "0\n",
        "1\n",
        "&gt; I shouldn't point details that I especially like about a drawing?\n",
        "\n",
        "No, you should definitely point out details you especially like. I would avoid comments that have a sentiment like \"Thanks for giving him/her freckles that aren't there,\" and other comments of that nature that sound more like veiled criticism.\n",
        "[<praw.objects.Comment object at 0x1b454f0>]"
       ]
      },
      {
       "output_type": "stream",
       "stream": "stdout",
       "text": [
        "\n"
       ]
      }
     ],
     "prompt_number": 12
    },
    {
     "cell_type": "code",
     "collapsed": false,
     "input": [
      "bodycom "
     ],
     "language": "python",
     "metadata": {},
     "outputs": [
      {
       "metadata": {},
       "output_type": "pyout",
       "prompt_number": 13,
       "text": [
        "[u\"No, that's sub rules.\",\n",
        " u\"Will do - but first, please change the 'had to do' to 'did.'\",\n",
        " u'Your comments were removed. Please read the rules of the sub before participating.',\n",
        " u'Please use a different photo as your post; this one can appear insensitive to our LBQT population and supporters. Thanks.',\n",
        " u'Nope, all of this is clearly written in our rules; please review.',\n",
        " u'Posting, deleting, and reposting is enough to earn you a ban:\\n\\nhttp://www.reddit.com/r/redditgetsdrawn/comments/2ovyxq/pictures_from_a_few_of_my_wife_and_my_first_dates/\\n\\nI suggest you read our rules thoroughly before participating again.',\n",
        " u'Please repost without mentioning that you never see each other.',\n",
        " u\"Advertising isn't allowed in this sub, so your post was removed.\",\n",
        " u\"Please repost without identifying Peter Norman. We don't allow names in this sub.\",\n",
        " u'Please repost without the past tense.',\n",
        " u\"Please repost without mentioning that it's your only photo.\",\n",
        " u'Perfect, thank you for clarifying!',\n",
        " u'Your post breaks multiple rules and was removed, starting with an unclear title.',\n",
        " u'Posts pertaining to illness or injury are removed. Please review our rules.',\n",
        " u\"Please repost without mentioning that he's moved long-distance. \",\n",
        " u\"You're not allowed to give names in this sub, so your post was removed.\",\n",
        " u'This is a repost and you broke our frequent posting rule as well. Post removed.',\n",
        " u'Added the NSFW tag due to your second photo. Please leave this tag yourself next time. Thanks!',\n",
        " u'Post removed. Please see our list of approved relationships.',\n",
        " u'Post removed; please see our list of approved relationships.',\n",
        " u'Added NSFW because of your topboob. Please add this tag yourself next time if relevant. Thanks!',\n",
        " u\"Reposts aren't allowed. Post removed.\",\n",
        " u\"This sub isn't for making fun of people. Post removed. Also, didn't I just see your face in a different post? See our rules, please.\",\n",
        " u'Posts pertaining to illness or injury are removed, so please repost a photo without the blind dog.',\n",
        " u'&gt; I shouldn\\'t point details that I especially like about a drawing?\\n\\nNo, you should definitely point out details you especially like. I would avoid comments that have a sentiment like \"Thanks for giving him/her freckles that aren\\'t there,\" and other comments of that nature that sound more like veiled criticism.']"
       ]
      }
     ],
     "prompt_number": 13
    },
    {
     "cell_type": "code",
     "collapsed": false,
     "input": [
      "getnewr = r.get_subreddit('redditgetsdrawn')"
     ],
     "language": "python",
     "metadata": {},
     "outputs": [],
     "prompt_number": 14
    },
    {
     "cell_type": "code",
     "collapsed": false,
     "input": [
      "rdnew = getnewr.get_new()"
     ],
     "language": "python",
     "metadata": {},
     "outputs": [],
     "prompt_number": 15
    },
    {
     "cell_type": "code",
     "collapsed": false,
     "input": [
      "lisrgc = []"
     ],
     "language": "python",
     "metadata": {},
     "outputs": [],
     "prompt_number": 16
    },
    {
     "cell_type": "code",
     "collapsed": false,
     "input": [
      "for uz in rdnew:\n",
      "    #print uz\n",
      "    lisrgc.append(uz)"
     ],
     "language": "python",
     "metadata": {},
     "outputs": [],
     "prompt_number": 17
    },
    {
     "cell_type": "code",
     "collapsed": false,
     "input": [
      "gtdrndic = dict()"
     ],
     "language": "python",
     "metadata": {},
     "outputs": [],
     "prompt_number": 18
    },
    {
     "cell_type": "code",
     "collapsed": false,
     "input": [
      "for lisr in lisrgc:\n",
      "    print lisr.url\n",
      "    print lisr.title\n",
      "    print lisr.author\n",
      "    print lisr.comments\n",
      "    gtdrndic.update({'title': lisr.title})"
     ],
     "language": "python",
     "metadata": {},
     "outputs": [
      {
       "output_type": "stream",
       "stream": "stdout",
       "text": [
        "http://imgur.com/hfAicMu\n",
        "Could you draw me please: )\n",
        "airforce34\n",
        "[]"
       ]
      },
      {
       "output_type": "stream",
       "stream": "stdout",
       "text": [
        "\n",
        "http://imgur.com/wHG6k3p\n",
        "Draw my son stepping across these logs?\n",
        "nyrhtak01\n",
        "[]"
       ]
      },
      {
       "output_type": "stream",
       "stream": "stdout",
       "text": [
        "\n",
        "http://imgur.com/wMueN7X\n",
        "My daughter and her cousin at my sister's wedding.\n",
        "ifdorightnocandefend\n",
        "[]"
       ]
      },
      {
       "output_type": "stream",
       "stream": "stdout",
       "text": [
        "\n",
        "http://imgur.com/iEIgDKG\n",
        "2 of my friends and I (in the middle) at our bowling league. No epic story, just bowling.\n",
        "oomishday3\n",
        "[]"
       ]
      },
      {
       "output_type": "stream",
       "stream": "stdout",
       "text": [
        "\n",
        "http://imgur.com/62T3Pir\n",
        "Draw my girlfriend at her birthday dinner :)\n",
        "aolivo\n",
        "[]"
       ]
      },
      {
       "output_type": "stream",
       "stream": "stdout",
       "text": [
        "\n",
        "http://i.imgur.com/8PKr3jy.png\n",
        "My dad and I :)\n",
        "nlbroussard\n",
        "[]"
       ]
      },
      {
       "output_type": "stream",
       "stream": "stdout",
       "text": [
        "\n",
        "http://imgur.com/kxIOUta\n",
        "Would someone mind drawing this photo of my father and I dancing?\n",
        "FractalEffect\n",
        "[]"
       ]
      },
      {
       "output_type": "stream",
       "stream": "stdout",
       "text": [
        "\n",
        "http://i.imgur.com/a7YKjZB.jpg\n",
        "Me and my best friend over 7 years\n",
        "taylerkiz\n",
        "[]"
       ]
      },
      {
       "output_type": "stream",
       "stream": "stdout",
       "text": [
        "\n",
        "http://i.imgur.com/IfaQKfG.jpg\n",
        "This is my beautiful fianc\u00e9! Lets see what you can do! Psst, it's a surprise :)\n",
        "paradiddle65\n",
        "[]"
       ]
      },
      {
       "output_type": "stream",
       "stream": "stdout",
       "text": [
        "\n",
        "http://i.imgur.com/rKfTgg5.jpg?1\n",
        "Anyone mind drawing my a cappella group? This is my favorite part where we do a kick line. :)\n",
        "Niksmart1a\n",
        "[]"
       ]
      },
      {
       "output_type": "stream",
       "stream": "stdout",
       "text": [
        "\n",
        "http://i.imgur.com/4MZ87yG.jpg\n",
        "My uncle and members of the 1968 Australian Olympic Men's Track team in Mexico City. Would be pretty awesome if someone could draw this.\n",
        "BenZino21\n",
        "[]"
       ]
      },
      {
       "output_type": "stream",
       "stream": "stdout",
       "text": [
        "\n",
        "http://i.imgur.com/yEkXj72.jpg\n",
        "Part of a series where we invoke deities and present as them. This year I did Cross Gendered. This is me as \"Fortuna\"\n",
        "Dusty_Dionne\n",
        "[<praw.objects.Comment object at 0x1bbbb30>]"
       ]
      },
      {
       "output_type": "stream",
       "stream": "stdout",
       "text": [
        "\n",
        "http://imgur.com/1WFzJyo\n",
        "I'm watching a stream.\n",
        "RavenAngelov\n",
        "[]"
       ]
      },
      {
       "output_type": "stream",
       "stream": "stdout",
       "text": [
        "\n",
        "http://imgur.com/njtiD55\n",
        "My friend wanted me to see if you guys would draw him. Here's my favorite picture of him.\n",
        "Louibob118\n",
        "[]"
       ]
      },
      {
       "output_type": "stream",
       "stream": "stdout",
       "text": [
        "\n",
        "http://i.imgur.com/5KxOTMm.jpg\n",
        "Me and my favorite hat!\n",
        "zgurl517\n",
        "[]"
       ]
      },
      {
       "output_type": "stream",
       "stream": "stdout",
       "text": [
        "\n",
        "http://imgur.com/xJ9DvSO\n",
        "Can you please draw my beautiful girlfriend of almost a year? ( she's the one on the left)\n",
        "sparkrivet\n",
        "[]"
       ]
      },
      {
       "output_type": "stream",
       "stream": "stdout",
       "text": [
        "\n",
        "http://imgur.com/BMFOeWW\n",
        "Could someone please draw me!?\n",
        "Mfatima20\n",
        "[]"
       ]
      },
      {
       "output_type": "stream",
       "stream": "stdout",
       "text": [
        "\n",
        "http://imgur.com/Q5WuskA\n",
        "Art of my cat gives me all the feels. If anyone wanted to draw my Desmond, you'd make my day!\n",
        "ilmazziere\n",
        "[<praw.objects.Comment object at 0x1bbb8f0>]"
       ]
      },
      {
       "output_type": "stream",
       "stream": "stdout",
       "text": [
        "\n",
        "http://i.imgur.com/z6GB7aV.jpg\n",
        "Could you draw me ? Staring at the Himalayas. :)\n",
        "fenix_mallu\n",
        "[]"
       ]
      },
      {
       "output_type": "stream",
       "stream": "stdout",
       "text": [
        "\n",
        "http://i.imgur.com/xLIjUbB.jpg\n",
        "Can anyone draw my pup Hunter?\n",
        "armedredneck\n",
        "[]"
       ]
      },
      {
       "output_type": "stream",
       "stream": "stdout",
       "text": [
        "\n",
        "http://imgur.com/u1k3IpN\n",
        "My wife, first child, and I on our wedding day\n",
        "matthew-wilson\n",
        "[]"
       ]
      },
      {
       "output_type": "stream",
       "stream": "stdout",
       "text": [
        "\n",
        "http://i.imgur.com/qtFkycq.png\n",
        "Could someone draw my awesome dog and her piglet?!\n",
        "Katykins27\n",
        "[]"
       ]
      },
      {
       "output_type": "stream",
       "stream": "stdout",
       "text": [
        "\n",
        "http://imgur.com/aWoNfaQ\n",
        "Can you draw my sister and I from our first day of school?\n",
        "kitschychemist\n",
        "[]"
       ]
      },
      {
       "output_type": "stream",
       "stream": "stdout",
       "text": [
        "\n",
        "http://imgur.com/TtdFL4i\n",
        "My niece enjoying her meal. Could someone please draw her?\n",
        "intended_moose\n",
        "[]"
       ]
      },
      {
       "output_type": "stream",
       "stream": "stdout",
       "text": [
        "\n",
        "http://i.imgur.com/v0Bb0U9.jpg\n",
        "Would you draw a stranger? - Here's a pic of me :3\n",
        "amechichi\n",
        "[<praw.objects.Comment object at 0x1bbb650>, <praw.objects.Comment object at 0x1b63f90>, <praw.objects.Comment object at 0x1b5ae10>]"
       ]
      },
      {
       "output_type": "stream",
       "stream": "stdout",
       "text": [
        "\n"
       ]
      }
     ],
     "prompt_number": 19
    },
    {
     "cell_type": "code",
     "collapsed": false,
     "input": [
      "opsinz = open('/home/wcmckee/visignsys/index.meta', 'r')\n",
      "panz = opsinz.read()"
     ],
     "language": "python",
     "metadata": {},
     "outputs": [],
     "prompt_number": 20
    },
    {
     "cell_type": "code",
     "collapsed": false,
     "input": [
      "#panz()"
     ],
     "language": "python",
     "metadata": {},
     "outputs": [],
     "prompt_number": 21
    },
    {
     "cell_type": "code",
     "collapsed": false,
     "input": [
      "doc = dominate.document(title='GetsDrawn')\n",
      "\n",
      "with doc.head:\n",
      "    link(rel='stylesheet', href='style.css')\n",
      "    script(type='text/javascript', src='script.js')\n",
      "    \n",
      "    with div():\n",
      "        attr(cls='header')\n",
      "        h1('GetsDrawn')\n",
      "        p(img('imgs/getsdrawn-bw.png', src='imgs/getsdrawn-bw.png'))\n",
      "        p('Updated ', strftime(\"%a, %d %b %Y %H:%M:%S +0000\", gmtime()))\n",
      "        p(panz)\n",
      "        p(bodycom)\n",
      "    \n",
      "    \n",
      "\n",
      "with doc:\n",
      "    with div(id='body').add(ol()):\n",
      "        for rdz in lisrgc:\n",
      "            h1(rdz.title)\n",
      "            #a(rdz.url)\n",
      "            if '.jpg' or '.png' in rdz.url:\n",
      "                #print rdz.url\n",
      "                p(img(rdz.url, src='%s' % rdz.url))\n",
      "                \n",
      "            #print rdz.url\n",
      "            #if '.jpg' in rdz.url:\n",
      "            #    img(rdz.urlz)\n",
      "            #else:\n",
      "            #    a(rdz.urlz)\n",
      "            p(str(rdz.author))\n",
      "            \n",
      "            #li(img(i.lower(), src='%s' % i))\n",
      "\n",
      "    with div():\n",
      "        attr(cls='body')\n",
      "        p('GetsDrawn is open source')\n",
      "        a('http://github.com/wcmckee/wcmckee')\n",
      "\n",
      "#print doc"
     ],
     "language": "python",
     "metadata": {},
     "outputs": [],
     "prompt_number": 22
    },
    {
     "cell_type": "code",
     "collapsed": false,
     "input": [
      "gtdrndic"
     ],
     "language": "python",
     "metadata": {},
     "outputs": [
      {
       "metadata": {},
       "output_type": "pyout",
       "prompt_number": 23,
       "text": [
        "{'title': u\"Would you draw a stranger? - Here's a pic of me :3\"}"
       ]
      }
     ],
     "prompt_number": 23
    },
    {
     "cell_type": "code",
     "collapsed": false,
     "input": [
      "doc.render()"
     ],
     "language": "python",
     "metadata": {},
     "outputs": [
      {
       "metadata": {},
       "output_type": "pyout",
       "prompt_number": 24,
       "text": [
        "u'<!DOCTYPE html>\\n<html>\\n  <head>\\n    <title>GetsDrawn</title>\\n    <link href=\"style.css\" rel=\"stylesheet\"><script src=\"script.js\" type=\"text/javascript\"></script>\\n    <div class=\"header\">\\n      <h1>GetsDrawn</h1>\\n      <p>\\n        <img src=\"imgs/getsdrawn-bw.png\">\\n      </p>\\n      <p>Updated Thu, 11 Dec 2014 07:23:21 +0000</p>\\n      <p>[\\'02-Dec-2014\\', \\'ESW\\', \\'William Mckee\\', \\'15:09\\', \\'sunny and mum is back\\'][\\'02-Dec-2014\\', \\'build wire dibo\\', \\'17:41\\']</p>\\n      <p>No, that\\'s sub rules.Will do - but first, please change the \\'had to do\\' to \\'did.\\'Your comments were removed. Please read the rules of the sub before participating.Please use a different photo as your post; this one can appear insensitive to our LBQT population and supporters. Thanks.Nope, all of this is clearly written in our rules; please review.Posting, deleting, and reposting is enough to earn you a ban:\\n\\nhttp://www.reddit.com/r/redditgetsdrawn/comments/2ovyxq/pictures_from_a_few_of_my_wife_and_my_first_dates/\\n\\nI suggest you read our rules thoroughly before participating again.Please repost without mentioning that you never see each other.Advertising isn\\'t allowed in this sub, so your post was removed.Please repost without identifying Peter Norman. We don\\'t allow names in this sub.Please repost without the past tense.Please repost without mentioning that it\\'s your only photo.Perfect, thank you for clarifying!Your post breaks multiple rules and was removed, starting with an unclear title.Posts pertaining to illness or injury are removed. Please review our rules.Please repost without mentioning that he\\'s moved long-distance. You\\'re not allowed to give names in this sub, so your post was removed.This is a repost and you broke our frequent posting rule as well. Post removed.Added the NSFW tag due to your second photo. Please leave this tag yourself next time. Thanks!Post removed. Please see our list of approved relationships.Post removed; please see our list of approved relationships.Added NSFW because of your topboob. Please add this tag yourself next time if relevant. Thanks!Reposts aren\\'t allowed. Post removed.This sub isn\\'t for making fun of people. Post removed. Also, didn\\'t I just see your face in a different post? See our rules, please.Posts pertaining to illness or injury are removed, so please repost a photo without the blind dog.&amp;gt; I shouldn\\'t point details that I especially like about a drawing?\\n\\nNo, you should definitely point out details you especially like. I would avoid comments that have a sentiment like &quot;Thanks for giving him/her freckles that aren\\'t there,&quot; and other comments of that nature that sound more like veiled criticism.</p>\\n    </div>\\n  </head>\\n  <body>\\n    <div id=\"body\">\\n      <ol>\\n        <h1>Could you draw me please: )</h1>\\n        <p>\\n          <img src=\"http://imgur.com/hfAicMu\">\\n        </p>\\n        <p>airforce34</p>\\n        <h1>Draw my son stepping across these logs?</h1>\\n        <p>\\n          <img src=\"http://imgur.com/wHG6k3p\">\\n        </p>\\n        <p>nyrhtak01</p>\\n        <h1>My daughter and her cousin at my sister\\'s wedding.</h1>\\n        <p>\\n          <img src=\"http://imgur.com/wMueN7X\">\\n        </p>\\n        <p>ifdorightnocandefend</p>\\n        <h1>2 of my friends and I (in the middle) at our bowling league. No epic story, just bowling.</h1>\\n        <p>\\n          <img src=\"http://imgur.com/iEIgDKG\">\\n        </p>\\n        <p>oomishday3</p>\\n        <h1>Draw my girlfriend at her birthday dinner :)</h1>\\n        <p>\\n          <img src=\"http://imgur.com/62T3Pir\">\\n        </p>\\n        <p>aolivo</p>\\n        <h1>My dad and I :)</h1>\\n        <p>\\n          <img src=\"http://i.imgur.com/8PKr3jy.png\">\\n        </p>\\n        <p>nlbroussard</p>\\n        <h1>Would someone mind drawing this photo of my father and I dancing?</h1>\\n        <p>\\n          <img src=\"http://imgur.com/kxIOUta\">\\n        </p>\\n        <p>FractalEffect</p>\\n        <h1>Me and my best friend over 7 years</h1>\\n        <p>\\n          <img src=\"http://i.imgur.com/a7YKjZB.jpg\">\\n        </p>\\n        <p>taylerkiz</p>\\n        <h1>This is my beautiful fianc\\xe9! Lets see what you can do! Psst, it\\'s a surprise :)</h1>\\n        <p>\\n          <img src=\"http://i.imgur.com/IfaQKfG.jpg\">\\n        </p>\\n        <p>paradiddle65</p>\\n        <h1>Anyone mind drawing my a cappella group? This is my favorite part where we do a kick line. :)</h1>\\n        <p>\\n          <img src=\"http://i.imgur.com/rKfTgg5.jpg?1\">\\n        </p>\\n        <p>Niksmart1a</p>\\n        <h1>My uncle and members of the 1968 Australian Olympic Men\\'s Track team in Mexico City. Would be pretty awesome if someone could draw this.</h1>\\n        <p>\\n          <img src=\"http://i.imgur.com/4MZ87yG.jpg\">\\n        </p>\\n        <p>BenZino21</p>\\n        <h1>Part of a series where we invoke deities and present as them. This year I did Cross Gendered. This is me as &quot;Fortuna&quot;</h1>\\n        <p>\\n          <img src=\"http://i.imgur.com/yEkXj72.jpg\">\\n        </p>\\n        <p>Dusty_Dionne</p>\\n        <h1>I\\'m watching a stream.</h1>\\n        <p>\\n          <img src=\"http://imgur.com/1WFzJyo\">\\n        </p>\\n        <p>RavenAngelov</p>\\n        <h1>My friend wanted me to see if you guys would draw him. Here\\'s my favorite picture of him.</h1>\\n        <p>\\n          <img src=\"http://imgur.com/njtiD55\">\\n        </p>\\n        <p>Louibob118</p>\\n        <h1>Me and my favorite hat!</h1>\\n        <p>\\n          <img src=\"http://i.imgur.com/5KxOTMm.jpg\">\\n        </p>\\n        <p>zgurl517</p>\\n        <h1>Can you please draw my beautiful girlfriend of almost a year? ( she\\'s the one on the left)</h1>\\n        <p>\\n          <img src=\"http://imgur.com/xJ9DvSO\">\\n        </p>\\n        <p>sparkrivet</p>\\n        <h1>Could someone please draw me!?</h1>\\n        <p>\\n          <img src=\"http://imgur.com/BMFOeWW\">\\n        </p>\\n        <p>Mfatima20</p>\\n        <h1>Art of my cat gives me all the feels. If anyone wanted to draw my Desmond, you\\'d make my day!</h1>\\n        <p>\\n          <img src=\"http://imgur.com/Q5WuskA\">\\n        </p>\\n        <p>ilmazziere</p>\\n        <h1>Could you draw me ? Staring at the Himalayas. :)</h1>\\n        <p>\\n          <img src=\"http://i.imgur.com/z6GB7aV.jpg\">\\n        </p>\\n        <p>fenix_mallu</p>\\n        <h1>Can anyone draw my pup Hunter?</h1>\\n        <p>\\n          <img src=\"http://i.imgur.com/xLIjUbB.jpg\">\\n        </p>\\n        <p>armedredneck</p>\\n        <h1>My wife, first child, and I on our wedding day</h1>\\n        <p>\\n          <img src=\"http://imgur.com/u1k3IpN\">\\n        </p>\\n        <p>matthew-wilson</p>\\n        <h1>Could someone draw my awesome dog and her piglet?!</h1>\\n        <p>\\n          <img src=\"http://i.imgur.com/qtFkycq.png\">\\n        </p>\\n        <p>Katykins27</p>\\n        <h1>Can you draw my sister and I from our first day of school?</h1>\\n        <p>\\n          <img src=\"http://imgur.com/aWoNfaQ\">\\n        </p>\\n        <p>kitschychemist</p>\\n        <h1>My niece enjoying her meal. Could someone please draw her?</h1>\\n        <p>\\n          <img src=\"http://imgur.com/TtdFL4i\">\\n        </p>\\n        <p>intended_moose</p>\\n        <h1>Would you draw a stranger? - Here\\'s a pic of me :3</h1>\\n        <p>\\n          <img src=\"http://i.imgur.com/v0Bb0U9.jpg\">\\n        </p>\\n        <p>amechichi</p>\\n      </ol>\\n    </div>\\n    <div class=\"body\">\\n      <p>GetsDrawn is open source</p>\\n      <a>http://github.com/wcmckee/wcmckee</a>\\n    </div>\\n  </body>\\n</html>'"
       ]
      }
     ],
     "prompt_number": 24
    },
    {
     "cell_type": "code",
     "collapsed": false,
     "input": [
      "indfil = ('/home/wcmckee/getsdrawndotcom/index.html')"
     ],
     "language": "python",
     "metadata": {},
     "outputs": [],
     "prompt_number": 25
    },
    {
     "cell_type": "code",
     "collapsed": false,
     "input": [
      "mkind = open(indfil, 'w')\n",
      "mkind.write(str(doc))\n",
      "mkind.close()"
     ],
     "language": "python",
     "metadata": {},
     "outputs": [
      {
       "ename": "UnicodeEncodeError",
       "evalue": "'ascii' codec can't encode character u'\\xe9' in position 4081: ordinal not in range(128)",
       "output_type": "pyerr",
       "traceback": [
        "\u001b[1;31m---------------------------------------------------------------------------\u001b[0m\n\u001b[1;31mUnicodeEncodeError\u001b[0m                        Traceback (most recent call last)",
        "\u001b[1;32m<ipython-input-27-0fbb1899da62>\u001b[0m in \u001b[0;36m<module>\u001b[1;34m()\u001b[0m\n\u001b[0;32m      1\u001b[0m \u001b[0mmkind\u001b[0m \u001b[1;33m=\u001b[0m \u001b[0mopen\u001b[0m\u001b[1;33m(\u001b[0m\u001b[0mindfil\u001b[0m\u001b[1;33m,\u001b[0m \u001b[1;34m'w'\u001b[0m\u001b[1;33m)\u001b[0m\u001b[1;33m\u001b[0m\u001b[0m\n\u001b[1;32m----> 2\u001b[1;33m \u001b[0mmkind\u001b[0m\u001b[1;33m.\u001b[0m\u001b[0mwrite\u001b[0m\u001b[1;33m(\u001b[0m\u001b[0mstr\u001b[0m\u001b[1;33m(\u001b[0m\u001b[0mdoc\u001b[0m\u001b[1;33m)\u001b[0m\u001b[1;33m)\u001b[0m\u001b[1;33m\u001b[0m\u001b[0m\n\u001b[0m\u001b[0;32m      3\u001b[0m \u001b[0mmkind\u001b[0m\u001b[1;33m.\u001b[0m\u001b[0mclose\u001b[0m\u001b[1;33m(\u001b[0m\u001b[1;33m)\u001b[0m\u001b[1;33m\u001b[0m\u001b[0m\n",
        "\u001b[1;31mUnicodeEncodeError\u001b[0m: 'ascii' codec can't encode character u'\\xe9' in position 4081: ordinal not in range(128)"
       ]
      }
     ],
     "prompt_number": 27
    },
    {
     "cell_type": "code",
     "collapsed": false,
     "input": [
      "#os.system('scp -r /home/wcmckee/getsdrawndotcom/ wcmckee@getsdrawn.com:/home/wcmckee/getsdrawndotcom')"
     ],
     "language": "python",
     "metadata": {},
     "outputs": []
    },
    {
     "cell_type": "code",
     "collapsed": false,
     "input": [
      "os.system('scp -r /home/wcmckee/getsdrawndotcom/index.html wcmckee@getsdrawn.com:/home/wcmckee/getsdrawndotcom/index.html')"
     ],
     "language": "python",
     "metadata": {},
     "outputs": []
    },
    {
     "cell_type": "code",
     "collapsed": false,
     "input": [
      "os.system('scp -r /home/wcmckee/getsdrawndotcom/style.css wcmckee@getsdrawn.com:/home/wcmckee/getsdrawndotcom/style.css')"
     ],
     "language": "python",
     "metadata": {},
     "outputs": []
    },
    {
     "cell_type": "code",
     "collapsed": false,
     "input": [],
     "language": "python",
     "metadata": {},
     "outputs": []
    }
   ],
   "metadata": {}
  }
 ]
}