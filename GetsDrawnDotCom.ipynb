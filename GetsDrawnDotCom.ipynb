{
 "metadata": {
  "name": "",
  "signature": "sha256:c4589ee4329302de994ed3a637c00d48faf108cb884b2e84167a3c4ee86647d4"
 },
 "nbformat": 3,
 "nbformat_minor": 0,
 "worksheets": [
  {
   "cells": [
    {
     "cell_type": "markdown",
     "metadata": {},
     "source": [
      "<h1>GetsDrawn DotCom</h1>"
     ]
    },
    {
     "cell_type": "markdown",
     "metadata": {},
     "source": [
      "This is a python script to generate the website GetsDrawn. It takes data from /r/RedditGetsDrawn and makes something awesome.\n",
      "\n",
      "The script has envolved and been rewritten several times. \n",
      "\n",
      "The first script for rgdsnatch was written after I got banned from posting my artwork on /r/RedditGetsDrawn. The plan was to create a new site that displayed stuff from /r/RedditGetsDrawn. \n",
      "\n",
      "Currently it only displays the most recent 25 items on redditgetsdrawn.\n",
      "\n",
      "This is moving forward from rgdsnatch.py because I am stuck on it.  \n",
      "\n",
      "TODO\n",
      "\n",
      "Fix the links that don't link to png/jpeg and link to webaddress. \n",
      "Needs to get the images that are at that web address and embed them.\n",
      "\n",
      "Display artwork submitted under the images. \n",
      "\n",
      "Upload artwork to user. Sends them a message on redditgetsdrawn with links. \n",
      "\n",
      "More pandas"
     ]
    },
    {
     "cell_type": "code",
     "collapsed": false,
     "input": [
      "import os \n",
      "import requests\n",
      "from bs4 import BeautifulSoup\n",
      "import re\n",
      "import json\n",
      "import time\n",
      "import praw\n",
      "import dominate\n",
      "from dominate.tags import * \n",
      "from time import gmtime, strftime\n",
      "#import nose\n",
      "#import unittest\n",
      "import numpy as np\n",
      "import pandas as pd\n",
      "from pandas import *\n",
      "#import pyttsx"
     ],
     "language": "python",
     "metadata": {},
     "outputs": [],
     "prompt_number": 2
    },
    {
     "cell_type": "code",
     "collapsed": false,
     "input": [
      "gtsdrndir = ('/home/wcmckee/getsdrawndotcom')"
     ],
     "language": "python",
     "metadata": {},
     "outputs": [],
     "prompt_number": 3
    },
    {
     "cell_type": "code",
     "collapsed": false,
     "input": [
      "os.chdir(gtsdrndir)"
     ],
     "language": "python",
     "metadata": {},
     "outputs": [],
     "prompt_number": 4
    },
    {
     "cell_type": "code",
     "collapsed": false,
     "input": [
      "r = praw.Reddit(user_agent='getsdrawndotcom')"
     ],
     "language": "python",
     "metadata": {},
     "outputs": [],
     "prompt_number": 5
    },
    {
     "cell_type": "code",
     "collapsed": false,
     "input": [
      "#getmin = r.get_redditor('itwillbemine')"
     ],
     "language": "python",
     "metadata": {},
     "outputs": [],
     "prompt_number": 6
    },
    {
     "cell_type": "code",
     "collapsed": false,
     "input": [
      "#mincom = getmin.get_comments()"
     ],
     "language": "python",
     "metadata": {},
     "outputs": [],
     "prompt_number": 7
    },
    {
     "cell_type": "code",
     "collapsed": false,
     "input": [
      "#engine = pyttsx.init()\n",
      "\n",
      "#engine.say('The quick brown fox jumped over the lazy dog.')\n",
      "#engine.runAndWait()"
     ],
     "language": "python",
     "metadata": {},
     "outputs": [],
     "prompt_number": 8
    },
    {
     "cell_type": "code",
     "collapsed": false,
     "input": [
      "#shtweet = []"
     ],
     "language": "python",
     "metadata": {},
     "outputs": [],
     "prompt_number": 9
    },
    {
     "cell_type": "code",
     "collapsed": false,
     "input": [
      "#for mi in mincom:\n",
      "#    print mi\n",
      "#    shtweet.append(mi)"
     ],
     "language": "python",
     "metadata": {},
     "outputs": [],
     "prompt_number": 10
    },
    {
     "cell_type": "code",
     "collapsed": false,
     "input": [
      "bodycom = []\n",
      "bodyicv = dict()"
     ],
     "language": "python",
     "metadata": {},
     "outputs": [],
     "prompt_number": 11
    },
    {
     "cell_type": "code",
     "collapsed": false,
     "input": [
      "#beginz = pyttsx.init()"
     ],
     "language": "python",
     "metadata": {},
     "outputs": [],
     "prompt_number": 12
    },
    {
     "cell_type": "code",
     "collapsed": false,
     "input": [
      "#for shtz in shtweet:\n",
      "#    print shtz.downs\n",
      "#    print shtz.ups\n",
      "#    print shtz.body\n",
      "#    print shtz.replies\n",
      "    #beginz.say(shtz.author)\n",
      "    #beginz.say(shtz.body)\n",
      "    #beginz.runAndWait()\n",
      "    \n",
      "#    bodycom.append(shtz.body)\n",
      "    #bodyic"
     ],
     "language": "python",
     "metadata": {},
     "outputs": [],
     "prompt_number": 13
    },
    {
     "cell_type": "code",
     "collapsed": false,
     "input": [
      "#bodycom "
     ],
     "language": "python",
     "metadata": {},
     "outputs": [],
     "prompt_number": 14
    },
    {
     "cell_type": "code",
     "collapsed": false,
     "input": [
      "getnewr = r.get_subreddit('redditgetsdrawn')"
     ],
     "language": "python",
     "metadata": {},
     "outputs": [],
     "prompt_number": 15
    },
    {
     "cell_type": "code",
     "collapsed": false,
     "input": [
      "rdnew = getnewr.get_new()"
     ],
     "language": "python",
     "metadata": {},
     "outputs": [],
     "prompt_number": 16
    },
    {
     "cell_type": "code",
     "collapsed": false,
     "input": [
      "lisrgc = []"
     ],
     "language": "python",
     "metadata": {},
     "outputs": [],
     "prompt_number": 17
    },
    {
     "cell_type": "code",
     "collapsed": false,
     "input": [
      "for uz in rdnew:\n",
      "    #print uz\n",
      "    lisrgc.append(uz)"
     ],
     "language": "python",
     "metadata": {},
     "outputs": [],
     "prompt_number": 18
    },
    {
     "cell_type": "code",
     "collapsed": false,
     "input": [
      "gtdrndic = dict()"
     ],
     "language": "python",
     "metadata": {},
     "outputs": [],
     "prompt_number": 19
    },
    {
     "cell_type": "code",
     "collapsed": false,
     "input": [
      "for lisr in lisrgc:\n",
      "    #print lisr.url\n",
      "    #print lisr.title\n",
      "    #print lisr.author\n",
      "    #print lisr.comments\n",
      "    gtdrndic.update({'title': lisr.title})\n",
      "    print lisr.json_dict\n",
      "    "
     ],
     "language": "python",
     "metadata": {},
     "outputs": [
      {
       "output_type": "stream",
       "stream": "stdout",
       "text": [
        "None\n",
        "None\n",
        "None\n",
        "None\n",
        "None\n",
        "None\n",
        "None\n",
        "None\n",
        "None\n",
        "None\n",
        "None\n",
        "None\n",
        "None\n",
        "None\n",
        "None\n",
        "None\n",
        "None\n",
        "None\n",
        "None\n",
        "None\n",
        "None\n",
        "None\n",
        "None\n",
        "None\n",
        "None\n"
       ]
      }
     ],
     "prompt_number": 20
    },
    {
     "cell_type": "code",
     "collapsed": false,
     "input": [
      "opsinz = open('/home/wcmckee/visignsys/index.meta', 'r')\n",
      "panz = opsinz.read()"
     ],
     "language": "python",
     "metadata": {},
     "outputs": [],
     "prompt_number": 21
    },
    {
     "cell_type": "code",
     "collapsed": false,
     "input": [
      "#panz()"
     ],
     "language": "python",
     "metadata": {},
     "outputs": [],
     "prompt_number": 22
    },
    {
     "cell_type": "code",
     "collapsed": false,
     "input": [
      "doc = dominate.document(title='GetsDrawn')\n",
      "\n",
      "with doc.head:\n",
      "    link(rel='stylesheet', href='style.css')\n",
      "    script(type='text/javascript', src='script.js')\n",
      "    \n",
      "    with div():\n",
      "        attr(cls='header')\n",
      "        h1('GetsDrawn')\n",
      "        p(img('imgs/getsdrawn-bw.png', src='imgs/getsdrawn-bw.png'))\n",
      "        p('Updated ', strftime(\"%a, %d %b %Y %H:%M:%S +0000\", gmtime()))\n",
      "        p(panz)\n",
      "        p(bodycom)\n",
      "    \n",
      "    \n",
      "\n",
      "with doc:\n",
      "    with div(id='body').add(ol()):\n",
      "        for rdz in lisrgc:\n",
      "            h1(rdz.title)\n",
      "            #a(rdz.url)\n",
      "            if '.jpg' or '.png' in rdz.url:\n",
      "                #print rdz.url\n",
      "                p(img(rdz.url, src='%s' % rdz.url))\n",
      "                \n",
      "            #print rdz.url\n",
      "            #if '.jpg' in rdz.url:\n",
      "            #    img(rdz.urlz)\n",
      "            #else:\n",
      "            #    a(rdz.urlz)\n",
      "            p(str(rdz.author))\n",
      "            \n",
      "            #li(img(i.lower(), src='%s' % i))\n",
      "\n",
      "    with div():\n",
      "        attr(cls='body')\n",
      "        p('GetsDrawn is open source')\n",
      "        a('http://github.com/wcmckee/wcmckee')\n",
      "\n",
      "#print doc"
     ],
     "language": "python",
     "metadata": {},
     "outputs": [],
     "prompt_number": 23
    },
    {
     "cell_type": "code",
     "collapsed": false,
     "input": [
      "gtdrndic"
     ],
     "language": "python",
     "metadata": {},
     "outputs": [
      {
       "metadata": {},
       "output_type": "pyout",
       "prompt_number": 24,
       "text": [
        "{'title': u'My husband and I dressed up as naughty elves on the shelf for the annual Christmas parade. We ran around tossing snowman poop (marshmallows) and spraying silly string - the kids loved it!'}"
       ]
      }
     ],
     "prompt_number": 24
    },
    {
     "cell_type": "code",
     "collapsed": false,
     "input": [
      "docre = doc.render()"
     ],
     "language": "python",
     "metadata": {},
     "outputs": [],
     "prompt_number": 30
    },
    {
     "cell_type": "code",
     "collapsed": false,
     "input": [
      "s = docre.decode('ascii', 'ignore')"
     ],
     "language": "python",
     "metadata": {},
     "outputs": [
      {
       "ename": "UnicodeEncodeError",
       "evalue": "'ascii' codec can't encode character u'\\xe9' in position 2143: ordinal not in range(128)",
       "output_type": "pyerr",
       "traceback": [
        "\u001b[1;31m---------------------------------------------------------------------------\u001b[0m\n\u001b[1;31mUnicodeEncodeError\u001b[0m                        Traceback (most recent call last)",
        "\u001b[1;32m<ipython-input-31-a321f1883ad7>\u001b[0m in \u001b[0;36m<module>\u001b[1;34m()\u001b[0m\n\u001b[1;32m----> 1\u001b[1;33m \u001b[0ms\u001b[0m \u001b[1;33m=\u001b[0m \u001b[0mdocre\u001b[0m\u001b[1;33m.\u001b[0m\u001b[0mdecode\u001b[0m\u001b[1;33m(\u001b[0m\u001b[1;34m'ascii'\u001b[0m\u001b[1;33m,\u001b[0m \u001b[1;34m'ignore'\u001b[0m\u001b[1;33m)\u001b[0m\u001b[1;33m\u001b[0m\u001b[0m\n\u001b[0m",
        "\u001b[1;31mUnicodeEncodeError\u001b[0m: 'ascii' codec can't encode character u'\\xe9' in position 2143: ordinal not in range(128)"
       ]
      }
     ],
     "prompt_number": 31
    },
    {
     "cell_type": "code",
     "collapsed": false,
     "input": [
      "yourstring = docre.encode('ascii', 'ignore').decode('ascii')"
     ],
     "language": "python",
     "metadata": {},
     "outputs": [],
     "prompt_number": 33
    },
    {
     "cell_type": "code",
     "collapsed": false,
     "input": [
      "indfil = ('/home/wcmckee/getsdrawndotcom/index.html')"
     ],
     "language": "python",
     "metadata": {},
     "outputs": [],
     "prompt_number": 34
    },
    {
     "cell_type": "code",
     "collapsed": false,
     "input": [
      "mkind = open(indfil, 'w')\n",
      "mkind.write(yourstring)\n",
      "mkind.close()"
     ],
     "language": "python",
     "metadata": {},
     "outputs": [],
     "prompt_number": 35
    },
    {
     "cell_type": "code",
     "collapsed": false,
     "input": [
      "#os.system('scp -r /home/wcmckee/getsdrawndotcom/ wcmckee@getsdrawn.com:/home/wcmckee/getsdrawndotcom')"
     ],
     "language": "python",
     "metadata": {},
     "outputs": [],
     "prompt_number": 36
    },
    {
     "cell_type": "code",
     "collapsed": false,
     "input": [
      "os.system('scp -r /home/wcmckee/getsdrawndotcom/index.html wcmckee@getsdrawn.com:/home/wcmckee/getsdrawndotcom/index.html')"
     ],
     "language": "python",
     "metadata": {},
     "outputs": []
    },
    {
     "cell_type": "code",
     "collapsed": false,
     "input": [
      "os.system('scp -r /home/wcmckee/getsdrawndotcom/style.css wcmckee@getsdrawn.com:/home/wcmckee/getsdrawndotcom/style.css')"
     ],
     "language": "python",
     "metadata": {},
     "outputs": []
    },
    {
     "cell_type": "code",
     "collapsed": false,
     "input": [],
     "language": "python",
     "metadata": {},
     "outputs": []
    }
   ],
   "metadata": {}
  }
 ]
}