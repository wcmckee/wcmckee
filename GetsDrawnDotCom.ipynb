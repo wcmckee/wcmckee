{
 "metadata": {
  "name": "",
  "signature": "sha256:de64c33ef963b8228b2387493826eb36293950067fda5a97609a8d914f42da45"
 },
 "nbformat": 3,
 "nbformat_minor": 0,
 "worksheets": [
  {
   "cells": [
    {
     "cell_type": "markdown",
     "metadata": {},
     "source": [
      "<h1>GetsDrawn DotCom</h1>"
     ]
    },
    {
     "cell_type": "markdown",
     "metadata": {},
     "source": [
      "This is a python script to generate the website GetsDrawn. It takes data from RedditGetsDrawn and makes something awesome.\n",
      "\n",
      "The script has envolved and been rewritten several times. "
     ]
    },
    {
     "cell_type": "code",
     "collapsed": false,
     "input": [
      "import os \n",
      "import requests\n",
      "from bs4 import BeautifulSoup\n",
      "import re\n",
      "import json\n",
      "import time\n",
      "import praw\n",
      "import dominate\n",
      "from dominate.tags import * \n",
      "from time import gmtime, strftime\n",
      "#import nose\n",
      "#import unittest\n",
      "import numpy as np\n",
      "import pandas as pd\n",
      "from pandas import *"
     ],
     "language": "python",
     "metadata": {},
     "outputs": [],
     "prompt_number": 2
    },
    {
     "cell_type": "code",
     "collapsed": false,
     "input": [
      "gtsdrndir = ('/home/wcmckee/getsdrawndotcom')"
     ],
     "language": "python",
     "metadata": {},
     "outputs": [],
     "prompt_number": 3
    },
    {
     "cell_type": "code",
     "collapsed": false,
     "input": [
      "os.chdir(gtsdrndir)"
     ],
     "language": "python",
     "metadata": {},
     "outputs": [],
     "prompt_number": 4
    },
    {
     "cell_type": "code",
     "collapsed": false,
     "input": [
      "r = praw.Reddit(user_agent='getsdrawndotcom')"
     ],
     "language": "python",
     "metadata": {},
     "outputs": [],
     "prompt_number": 5
    },
    {
     "cell_type": "code",
     "collapsed": false,
     "input": [
      "getnewr = r.get_subreddit('redditgetsdrawn')"
     ],
     "language": "python",
     "metadata": {},
     "outputs": [],
     "prompt_number": 6
    },
    {
     "cell_type": "code",
     "collapsed": false,
     "input": [
      "rdnew = getnewr.get_new()"
     ],
     "language": "python",
     "metadata": {},
     "outputs": [],
     "prompt_number": 13
    },
    {
     "cell_type": "code",
     "collapsed": false,
     "input": [
      "lisrgc = []"
     ],
     "language": "python",
     "metadata": {},
     "outputs": [],
     "prompt_number": 14
    },
    {
     "cell_type": "code",
     "collapsed": false,
     "input": [
      "for uz in rdnew:\n",
      "    print uz\n",
      "    lisrgc.append(uz)"
     ],
     "language": "python",
     "metadata": {},
     "outputs": [
      {
       "output_type": "stream",
       "stream": "stdout",
       "text": [
        "0 :: My daughter and her sleeping cousin. Draw their first meeting?!\n",
        "0 :: My Son's first ever baseball game with Daddy.\n",
        "0 :: Please, draw myself and my girlfriend. Selfie at the beach! Any styles w...\n",
        "3 :: My daughter from a fun little photo project we did together :)\n",
        "0 :: Me and my beautiful wife on the happiest day of my life\n",
        "0 :: Anyone want draw my (hopefully) soon to be fiancee from her favorite pic...\n",
        "0 :: Please draw me and my soon to be SO as a surprise for him please?\n",
        "1 :: Would love a fun picture of my little boy please.\n",
        "2 :: I was wondering if anyone could draw me? I just linked to the album that...\n",
        "2 :: Running out of gift ideas for my boyfriend for Christmas. I'd love to gi...\n",
        "1 :: My little man a few months ago. Would love to see any of the talented ar...\n",
        "2 :: Good afternoon, Reddit artists! Here is me waiting at the doctor's offic...\n",
        "1 :: My beautiful daughter.\n",
        "3 :: Please draw my friend with her pet praying mantis!\n",
        "1 :: Could someone draw my dogs for me? Thanks! :)\n",
        "1 :: Would you draw us? (my husband &amp; me)\n",
        "1 :: Hey redditgetsdrawn! Can you please draw me and my dad? Here are some ph...\n",
        "3 :: Can somebody draw my ballerina girlfriend showing off how flexible she is?\n",
        "1 :: Would someone please be so kind to draw my baby girl? Many thanks in adv...\n",
        "2 :: My girlfriend looking good in her regional dress. It would be great if a...\n",
        "2 :: [Album] I would love a drawing of my friend for her Birthday!\n",
        "1 :: Pirates ahoy! My stepdaughter with her funny fancy dress waiting for som...\n",
        "1 :: My kids in disguise\n",
        "1 :: Would anyone like to draw/paint/render/whatever this pic of me and a mas...\n",
        "2 :: Anyone want to draw Paula Scholes and I? Thanks!\n"
       ]
      }
     ],
     "prompt_number": 15
    },
    {
     "cell_type": "code",
     "collapsed": false,
     "input": [
      "for lizq in lisrgc:\n",
      "    print lizq"
     ],
     "language": "python",
     "metadata": {},
     "outputs": [
      {
       "output_type": "stream",
       "stream": "stdout",
       "text": [
        "0 :: My daughter and her sleeping cousin. Draw their first meeting?!\n",
        "0 :: My Son's first ever baseball game with Daddy.\n",
        "0 :: Please, draw myself and my girlfriend. Selfie at the beach! Any styles w...\n",
        "3 :: My daughter from a fun little photo project we did together :)\n",
        "0 :: Me and my beautiful wife on the happiest day of my life\n",
        "0 :: Anyone want draw my (hopefully) soon to be fiancee from her favorite pic...\n",
        "0 :: Please draw me and my soon to be SO as a surprise for him please?\n",
        "1 :: Would love a fun picture of my little boy please.\n",
        "2 :: I was wondering if anyone could draw me? I just linked to the album that...\n",
        "2 :: Running out of gift ideas for my boyfriend for Christmas. I'd love to gi...\n",
        "1 :: My little man a few months ago. Would love to see any of the talented ar...\n",
        "2 :: Good afternoon, Reddit artists! Here is me waiting at the doctor's offic...\n",
        "1 :: My beautiful daughter.\n",
        "3 :: Please draw my friend with her pet praying mantis!\n",
        "1 :: Could someone draw my dogs for me? Thanks! :)\n",
        "1 :: Would you draw us? (my husband &amp; me)\n",
        "1 :: Hey redditgetsdrawn! Can you please draw me and my dad? Here are some ph...\n",
        "3 :: Can somebody draw my ballerina girlfriend showing off how flexible she is?\n",
        "1 :: Would someone please be so kind to draw my baby girl? Many thanks in adv...\n",
        "2 :: My girlfriend looking good in her regional dress. It would be great if a...\n",
        "2 :: [Album] I would love a drawing of my friend for her Birthday!\n",
        "1 :: Pirates ahoy! My stepdaughter with her funny fancy dress waiting for som...\n",
        "1 :: My kids in disguise\n",
        "1 :: Would anyone like to draw/paint/render/whatever this pic of me and a mas...\n",
        "2 :: Anyone want to draw Paula Scholes and I? Thanks!\n"
       ]
      }
     ],
     "prompt_number": 17
    },
    {
     "cell_type": "code",
     "collapsed": false,
     "input": [
      "gtdrndic = dict()"
     ],
     "language": "python",
     "metadata": {},
     "outputs": [],
     "prompt_number": 7
    },
    {
     "cell_type": "code",
     "collapsed": false,
     "input": [
      "for lisr in lisrgc:\n",
      "    print lisr.url\n",
      "    print lisr.title\n",
      "    print lisr.author\n",
      "    print lisr.comments\n",
      "    gtdrndic.update({'title': lisr.title})"
     ],
     "language": "python",
     "metadata": {},
     "outputs": [
      {
       "output_type": "stream",
       "stream": "stdout",
       "text": [
        "http://imgur.com/dMA1Ns3\n",
        "My daughter and her sleeping cousin. Draw their first meeting?!\n",
        "babydaisy611\n",
        "[]\n",
        "http://imgur.com/ndXEDmE\n",
        "My Son's first ever baseball game with Daddy.\n",
        "LiamsDaddy\n",
        "[]\n",
        "http://imgur.com/9nplYrE\n",
        "Please, draw myself and my girlfriend. Selfie at the beach! Any styles welcome, thanks so much! ;)\n",
        "jpesmeraldo\n",
        "[]\n",
        "http://imgur.com/7Q7rjdC\n",
        "My daughter from a fun little photo project we did together :)\n",
        "Lileaspirals\n",
        "[]\n",
        "http://imgur.com/3uQgoyL\n",
        "Me and my beautiful wife on the happiest day of my life\n",
        "TylerMills\n",
        "[]\n",
        "http://imgur.com/a/fnKuP\n",
        "Anyone want draw my (hopefully) soon to be fiancee from her favorite picture?\n",
        "sirwes\n",
        "[]\n",
        "http://imgur.com/a/x5gWO\n",
        "Please draw me and my soon to be SO as a surprise for him please?\n",
        "fletchdoll\n",
        "[]\n",
        "http://imgur.com/M2LjhZ8\n",
        "Would love a fun picture of my little boy please.\n",
        "oldwesty\n",
        "[]\n",
        "http://imgur.com/a/KjDMi\n",
        "I was wondering if anyone could draw me? I just linked to the album that I save all my pictures in so you have multiple photo choices. Thanks!\n",
        "blasejade\n",
        "[]\n",
        "http://imgur.com/cnE21iX\n",
        "Running out of gift ideas for my boyfriend for Christmas. I'd love to give him a framed drawing of us on halloween for his desk\n",
        "jazzillaa\n",
        "[]\n",
        "http://i.imgur.com/aEDRodb.jpg\n",
        "My little man a few months ago. Would love to see any of the talented artists recreate it.\n",
        "nickel45\n",
        "[]\n",
        "http://i.imgur.com/eefMUpb.jpg\n",
        "Good afternoon, Reddit artists! Here is me waiting at the doctor's office. All creative styles welcome! :)\n",
        "Sarahbelle89\n",
        "[<praw.objects.Comment object at 0x1f49ed0>]\n",
        "http://i.imgur.com/FBE0Ai4.jpg\n",
        "My beautiful daughter.\n",
        "countrockulot\n",
        "[]\n",
        "http://imgur.com/a/Mu2BT\n",
        "Please draw my friend with her pet praying mantis!\n",
        "martythemantis\n",
        "[]\n",
        "http://imgur.com/VJSevtA\n",
        "Could someone draw my dogs for me? Thanks! :)\n",
        "desertdogs\n",
        "[]\n",
        "http://imgur.com/a/DJ28E\n",
        "Would you draw us? (my husband &amp; me)\n",
        "blueharbor\n",
        "[]\n",
        "http://imgur.com/a/AatYX\n",
        "Hey redditgetsdrawn! Can you please draw me and my dad? Here are some photos to choose from :)\n",
        "Selfsweden\n",
        "[]\n",
        "http://imgur.com/McgulWu\n",
        "Can somebody draw my ballerina girlfriend showing off how flexible she is?\n",
        "late-night-throwaway\n",
        "[]\n",
        "http://i.imgur.com/xQcRKA1.jpg\n",
        "Would someone please be so kind to draw my baby girl? Many thanks in advance as well!\n",
        "Jersey4ever12\n",
        "[]\n",
        "http://imgur.com/7Beh2zG\n",
        "My girlfriend looking good in her regional dress. It would be great if anyone could draw her in these beautiful colours.\n",
        "kesos23\n",
        "[]\n",
        "http://imgur.com/a/urwBg\n",
        "[Album] I would love a drawing of my friend for her Birthday!\n",
        "tjej\n",
        "[]\n",
        "http://imgur.com/XjmyCOO\n",
        "Pirates ahoy! My stepdaughter with her funny fancy dress waiting for someone to draw her. Thank you!\n",
        "sesica\n",
        "[]\n",
        "http://i.imgur.com/i5w3FBm.jpg\n",
        "My kids in disguise\n",
        "mojoman666\n",
        "[]\n",
        "http://i.imgur.com/55MmnIQ.jpg\n",
        "Would anyone like to draw/paint/render/whatever this pic of me and a mask I made? :)\n",
        "TheMothFlock\n",
        "[]\n",
        "http://imgur.com/9HWg1ua\n",
        "Anyone want to draw Paula Scholes and I? Thanks!\n",
        "SirLaxersBiggestFan\n",
        "[]\n"
       ]
      }
     ],
     "prompt_number": 25
    },
    {
     "cell_type": "code",
     "collapsed": false,
     "input": [
      "gtdrndic"
     ],
     "language": "python",
     "metadata": {},
     "outputs": [
      {
       "metadata": {},
       "output_type": "pyout",
       "prompt_number": 26,
       "text": [
        "{'title': u'Anyone want to draw Paula Scholes and I? Thanks!'}"
       ]
      }
     ],
     "prompt_number": 26
    },
    {
     "cell_type": "code",
     "collapsed": false,
     "input": [],
     "language": "python",
     "metadata": {},
     "outputs": []
    }
   ],
   "metadata": {}
  }
 ]
}