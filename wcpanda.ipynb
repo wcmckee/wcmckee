{
 "cells": [
  {
   "cell_type": "code",
   "execution_count": null,
   "metadata": {
    "collapsed": false
   },
   "outputs": [],
   "source": [
    "import numpy as np\n",
    "import pandas as pd\n",
    "import math\n",
    "import usb\n",
    "import os\n",
    "import re\n",
    "import subprocess\n",
    "import email\n",
    "import smtplib"
   ]
  },
  {
   "cell_type": "markdown",
   "metadata": {},
   "source": [
    "This is a python script that performs a lsusb and ping systems, emailing off the results.\n",
    "\n",
    "TODO\n",
    "\n",
    "Alert if any changes to devices or ping. \n",
    "Generate email that contains - lsusb - ping - recent music played - video snapshots\n",
    "\n",
    "Altenative logins to password - something kids can remember and use.\n",
    "\n",
    "Sign in/Sing Out script \n",
    "generate reports of end of week/month\n",
    "\n"
   ]
  },
  {
   "cell_type": "code",
   "execution_count": 28,
   "metadata": {
    "collapsed": false
   },
   "outputs": [],
   "source": [
    "randn = np.random.randn"
   ]
  },
  {
   "cell_type": "code",
   "execution_count": 29,
   "metadata": {
    "collapsed": false
   },
   "outputs": [
    {
     "data": {
      "text/plain": [
       "0.5410987534786378"
      ]
     },
     "execution_count": 29,
     "metadata": {},
     "output_type": "execute_result"
    }
   ],
   "source": [
    "randn()"
   ]
  },
  {
   "cell_type": "code",
   "execution_count": 30,
   "metadata": {
    "collapsed": false
   },
   "outputs": [
    {
     "data": {
      "text/plain": [
       "0.05064428342420347"
      ]
     },
     "execution_count": 30,
     "metadata": {},
     "output_type": "execute_result"
    }
   ],
   "source": [
    "math.sin(randn())"
   ]
  },
  {
   "cell_type": "code",
   "execution_count": 31,
   "metadata": {
    "collapsed": false
   },
   "outputs": [],
   "source": [
    "a = np.arange(randn())"
   ]
  },
  {
   "cell_type": "code",
   "execution_count": 32,
   "metadata": {
    "collapsed": false
   },
   "outputs": [
    {
     "data": {
      "text/plain": [
       "array([], dtype=float64)"
      ]
     },
     "execution_count": 32,
     "metadata": {},
     "output_type": "execute_result"
    }
   ],
   "source": [
    "a"
   ]
  },
  {
   "cell_type": "code",
   "execution_count": 33,
   "metadata": {
    "collapsed": false
   },
   "outputs": [],
   "source": [
    "a = np.arange(15).reshape(3,5)"
   ]
  },
  {
   "cell_type": "code",
   "execution_count": 34,
   "metadata": {
    "collapsed": false
   },
   "outputs": [
    {
     "data": {
      "text/plain": [
       "array([[ 0,  1,  2,  3,  4],\n",
       "       [ 5,  6,  7,  8,  9],\n",
       "       [10, 11, 12, 13, 14]])"
      ]
     },
     "execution_count": 34,
     "metadata": {},
     "output_type": "execute_result"
    }
   ],
   "source": [
    "a"
   ]
  },
  {
   "cell_type": "code",
   "execution_count": 35,
   "metadata": {
    "collapsed": false
   },
   "outputs": [],
   "source": [
    "opind = open('/home/wcmckee/visignsys/index.meta')"
   ]
  },
  {
   "cell_type": "code",
   "execution_count": 36,
   "metadata": {
    "collapsed": false
   },
   "outputs": [],
   "source": [
    "doubme = opind.read()"
   ]
  },
  {
   "cell_type": "code",
   "execution_count": 37,
   "metadata": {
    "collapsed": false
   },
   "outputs": [
    {
     "data": {
      "text/plain": [
       "\"['ESW', '18:14', 'William Mckee', 'testing locally', '07-Jan-2015']\""
      ]
     },
     "execution_count": 37,
     "metadata": {},
     "output_type": "execute_result"
    }
   ],
   "source": [
    "(doubme)"
   ]
  },
  {
   "cell_type": "code",
   "execution_count": 38,
   "metadata": {
    "collapsed": false
   },
   "outputs": [
    {
     "name": "stdout",
     "output_type": "stream",
     "text": [
      "[\n",
      "'\n",
      "E\n",
      "S\n",
      "W\n",
      "'\n",
      ",\n",
      " \n",
      "'\n",
      "1\n",
      "8\n",
      ":\n",
      "1\n",
      "4\n",
      "'\n",
      ",\n",
      " \n",
      "'\n",
      "W\n",
      "i\n",
      "l\n",
      "l\n",
      "i\n",
      "a\n",
      "m\n",
      " \n",
      "M\n",
      "c\n",
      "k\n",
      "e\n",
      "e\n",
      "'\n",
      ",\n",
      " \n",
      "'\n",
      "t\n",
      "e\n",
      "s\n",
      "t\n",
      "i\n",
      "n\n",
      "g\n",
      " \n",
      "l\n",
      "o\n",
      "c\n",
      "a\n",
      "l\n",
      "l\n",
      "y\n",
      "'\n",
      ",\n",
      " \n",
      "'\n",
      "0\n",
      "7\n",
      "-\n",
      "J\n",
      "a\n",
      "n\n",
      "-\n",
      "2\n",
      "0\n",
      "1\n",
      "5\n",
      "'\n",
      "]\n"
     ]
    }
   ],
   "source": [
    "for dou in doubme:\n",
    "    print dou"
   ]
  },
  {
   "cell_type": "code",
   "execution_count": 41,
   "metadata": {
    "collapsed": false
   },
   "outputs": [
    {
     "ename": "NameError",
     "evalue": "name 'usb' is not defined",
     "output_type": "error",
     "traceback": [
      "\u001b[1;31m---------------------------------------------------------------------------\u001b[0m\n\u001b[1;31mNameError\u001b[0m                                 Traceback (most recent call last)",
      "\u001b[1;32m<ipython-input-41-b3aa8b97e4c6>\u001b[0m in \u001b[0;36m<module>\u001b[1;34m()\u001b[0m\n\u001b[1;32m----> 1\u001b[1;33m \u001b[0mdev\u001b[0m \u001b[1;33m=\u001b[0m \u001b[0musb\u001b[0m\u001b[1;33m.\u001b[0m\u001b[0mcore\u001b[0m\u001b[1;33m.\u001b[0m\u001b[0mfind\u001b[0m\u001b[1;33m(\u001b[0m\u001b[1;33m)\u001b[0m\u001b[1;33m\u001b[0m\u001b[0m\n\u001b[0m",
      "\u001b[1;31mNameError\u001b[0m: name 'usb' is not defined"
     ]
    }
   ],
   "source": [
    "dev = usb.core.find()"
   ]
  },
  {
   "cell_type": "code",
   "execution_count": 40,
   "metadata": {
    "collapsed": false
   },
   "outputs": [],
   "source": [
    "#import pyttsx"
   ]
  },
  {
   "cell_type": "code",
   "execution_count": 15,
   "metadata": {
    "collapsed": false
   },
   "outputs": [],
   "source": [
    "#engine = pyttsx.init()\n",
    "\n",
    "#engine.say('The quick brown fox jumped over the lazy dog.')\n",
    "#engine.runAndWait()"
   ]
  },
  {
   "cell_type": "code",
   "execution_count": 16,
   "metadata": {
    "collapsed": false
   },
   "outputs": [],
   "source": [
    "#import serial"
   ]
  },
  {
   "cell_type": "code",
   "execution_count": 17,
   "metadata": {
    "collapsed": false
   },
   "outputs": [],
   "source": [
    "#serial.time"
   ]
  },
  {
   "cell_type": "code",
   "execution_count": 19,
   "metadata": {
    "collapsed": false
   },
   "outputs": [],
   "source": [
    "#busses = usb.busses()"
   ]
  },
  {
   "cell_type": "code",
   "execution_count": 20,
   "metadata": {
    "collapsed": false
   },
   "outputs": [],
   "source": [
    "#for bus in busses:\n",
    "#    print bus"
   ]
  },
  {
   "cell_type": "code",
   "execution_count": 21,
   "metadata": {
    "collapsed": false
   },
   "outputs": [],
   "source": [
    "#for bus in busses:\n",
    "#  devices = bus.devices\n",
    "#  for dev in devices:\n",
    "#    print repr(dev)\n",
    "#    print \"Device:\", dev.filename\n",
    "#    print \"  idVendor: %d (0x%04x)\" % (dev.idVendor, dev.idVendor)\n",
    "#    print \"  idProduct: %d (0x%04x)\" % (dev.idProduct, dev.idProduct)\n",
    "#    print \"Manufacturer:\", dev.iManufacturer\n",
    "#    print \"Serial:\", dev.iSerialNumber\n",
    "#    print \"Product:\", dev.iProduct"
   ]
  },
  {
   "cell_type": "code",
   "execution_count": 23,
   "metadata": {
    "collapsed": false
   },
   "outputs": [],
   "source": [
    "#dev"
   ]
  },
  {
   "cell_type": "code",
   "execution_count": 24,
   "metadata": {
    "collapsed": false
   },
   "outputs": [],
   "source": [
    "#dev.idProduct"
   ]
  },
  {
   "cell_type": "code",
   "execution_count": 25,
   "metadata": {
    "collapsed": false
   },
   "outputs": [
    {
     "ename": "NameError",
     "evalue": "name 'dev' is not defined",
     "output_type": "error",
     "traceback": [
      "\u001b[1;31m---------------------------------------------------------------------------\u001b[0m\n\u001b[1;31mNameError\u001b[0m                                 Traceback (most recent call last)",
      "\u001b[1;32m<ipython-input-25-f32fc261c73c>\u001b[0m in \u001b[0;36m<module>\u001b[1;34m()\u001b[0m\n\u001b[1;32m----> 1\u001b[1;33m \u001b[0mdev\u001b[0m\u001b[1;33m.\u001b[0m\u001b[0midVendor\u001b[0m\u001b[1;33m\u001b[0m\u001b[0m\n\u001b[0m",
      "\u001b[1;31mNameError\u001b[0m: name 'dev' is not defined"
     ]
    }
   ],
   "source": [
    "#dev.idVendor"
   ]
  },
  {
   "cell_type": "code",
   "execution_count": 25,
   "metadata": {
    "collapsed": false
   },
   "outputs": [],
   "source": [
    "#dev.iManufacturer"
   ]
  },
  {
   "cell_type": "code",
   "execution_count": 26,
   "metadata": {
    "collapsed": false
   },
   "outputs": [],
   "source": [
    "#dev.iSerialNumber"
   ]
  },
  {
   "cell_type": "code",
   "execution_count": 28,
   "metadata": {
    "collapsed": false
   },
   "outputs": [
    {
     "ename": "NameError",
     "evalue": "name 'dev' is not defined",
     "output_type": "error",
     "traceback": [
      "\u001b[1;31m---------------------------------------------------------------------------\u001b[0m\n\u001b[1;31mNameError\u001b[0m                                 Traceback (most recent call last)",
      "\u001b[1;32m<ipython-input-28-9309342b34fb>\u001b[0m in \u001b[0;36m<module>\u001b[1;34m()\u001b[0m\n\u001b[1;32m----> 1\u001b[1;33m \u001b[0mrepr\u001b[0m\u001b[1;33m(\u001b[0m\u001b[0mdev\u001b[0m\u001b[1;33m)\u001b[0m\u001b[1;33m\u001b[0m\u001b[0m\n\u001b[0m",
      "\u001b[1;31mNameError\u001b[0m: name 'dev' is not defined"
     ]
    }
   ],
   "source": [
    "#repr(dev)"
   ]
  },
  {
   "cell_type": "code",
   "execution_count": 29,
   "metadata": {
    "collapsed": false
   },
   "outputs": [
    {
     "ename": "CalledProcessError",
     "evalue": "Command 'lsusb' returned non-zero exit status 127",
     "output_type": "error",
     "traceback": [
      "\u001b[1;31m---------------------------------------------------------------------------\u001b[0m\n\u001b[1;31mCalledProcessError\u001b[0m                        Traceback (most recent call last)",
      "\u001b[1;32m<ipython-input-29-b22464671b27>\u001b[0m in \u001b[0;36m<module>\u001b[1;34m()\u001b[0m\n\u001b[0;32m      1\u001b[0m \u001b[0mdevice_re\u001b[0m \u001b[1;33m=\u001b[0m \u001b[0mre\u001b[0m\u001b[1;33m.\u001b[0m\u001b[0mcompile\u001b[0m\u001b[1;33m(\u001b[0m\u001b[1;34m\"Bus\\s+(?P<bus>\\d+)\\s+Device\\s+(?P<device>\\d+).+ID\\s(?P<id>\\w+:\\w+)\\s(?P<tag>.+)$\"\u001b[0m\u001b[1;33m,\u001b[0m \u001b[0mre\u001b[0m\u001b[1;33m.\u001b[0m\u001b[0mI\u001b[0m\u001b[1;33m)\u001b[0m\u001b[1;33m\u001b[0m\u001b[0m\n\u001b[1;32m----> 2\u001b[1;33m \u001b[0mdf\u001b[0m \u001b[1;33m=\u001b[0m \u001b[0msubprocess\u001b[0m\u001b[1;33m.\u001b[0m\u001b[0mcheck_output\u001b[0m\u001b[1;33m(\u001b[0m\u001b[1;34m\"lsusb\"\u001b[0m\u001b[1;33m,\u001b[0m \u001b[0mshell\u001b[0m\u001b[1;33m=\u001b[0m\u001b[0mTrue\u001b[0m\u001b[1;33m)\u001b[0m\u001b[1;33m\u001b[0m\u001b[0m\n\u001b[0m\u001b[0;32m      3\u001b[0m \u001b[0mdevices\u001b[0m \u001b[1;33m=\u001b[0m \u001b[1;33m[\u001b[0m\u001b[1;33m]\u001b[0m\u001b[1;33m\u001b[0m\u001b[0m\n\u001b[0;32m      4\u001b[0m \u001b[1;32mfor\u001b[0m \u001b[0mi\u001b[0m \u001b[1;32min\u001b[0m \u001b[0mdf\u001b[0m\u001b[1;33m.\u001b[0m\u001b[0msplit\u001b[0m\u001b[1;33m(\u001b[0m\u001b[1;34m'\\n'\u001b[0m\u001b[1;33m)\u001b[0m\u001b[1;33m:\u001b[0m\u001b[1;33m\u001b[0m\u001b[0m\n\u001b[0;32m      5\u001b[0m     \u001b[1;32mif\u001b[0m \u001b[0mi\u001b[0m\u001b[1;33m:\u001b[0m\u001b[1;33m\u001b[0m\u001b[0m\n",
      "\u001b[1;32m/usr/lib/python2.7/subprocess.pyc\u001b[0m in \u001b[0;36mcheck_output\u001b[1;34m(*popenargs, **kwargs)\u001b[0m\n\u001b[0;32m    542\u001b[0m         \u001b[1;32mif\u001b[0m \u001b[0mcmd\u001b[0m \u001b[1;32mis\u001b[0m \u001b[0mNone\u001b[0m\u001b[1;33m:\u001b[0m\u001b[1;33m\u001b[0m\u001b[0m\n\u001b[0;32m    543\u001b[0m             \u001b[0mcmd\u001b[0m \u001b[1;33m=\u001b[0m \u001b[0mpopenargs\u001b[0m\u001b[1;33m[\u001b[0m\u001b[1;36m0\u001b[0m\u001b[1;33m]\u001b[0m\u001b[1;33m\u001b[0m\u001b[0m\n\u001b[1;32m--> 544\u001b[1;33m         \u001b[1;32mraise\u001b[0m \u001b[0mCalledProcessError\u001b[0m\u001b[1;33m(\u001b[0m\u001b[0mretcode\u001b[0m\u001b[1;33m,\u001b[0m \u001b[0mcmd\u001b[0m\u001b[1;33m,\u001b[0m \u001b[0moutput\u001b[0m\u001b[1;33m=\u001b[0m\u001b[0moutput\u001b[0m\u001b[1;33m)\u001b[0m\u001b[1;33m\u001b[0m\u001b[0m\n\u001b[0m\u001b[0;32m    545\u001b[0m     \u001b[1;32mreturn\u001b[0m \u001b[0moutput\u001b[0m\u001b[1;33m\u001b[0m\u001b[0m\n\u001b[0;32m    546\u001b[0m \u001b[1;33m\u001b[0m\u001b[0m\n",
      "\u001b[1;31mCalledProcessError\u001b[0m: Command 'lsusb' returned non-zero exit status 127"
     ]
    }
   ],
   "source": [
    "#device_re = re.compile(\"Bus\\s+(?P<bus>\\d+)\\s+Device\\s+(?P<device>\\d+).+ID\\s(?P<id>\\w+:\\w+)\\s(?P<tag>.+)$\", re.I)\n",
    "#df = subprocess.check_output(\"lsusb\", shell=True)\n",
    "#devices = []\n",
    "#for i in df.split('\\n'):\n",
    "#    if i:\n",
    "#        info = device_re.match(i)\n",
    "#        if info:\n",
    "#            dinfo = info.groupdict()\n",
    "#            dinfo['device'] = '/dev/bus/usb/%s/%s' % (dinfo.pop('bus'), dinfo.pop('device'))\n",
    "#            devices.append(dinfo)\n",
    "#print devices"
   ]
  },
  {
   "cell_type": "code",
   "execution_count": 30,
   "metadata": {
    "collapsed": false
   },
   "outputs": [
    {
     "ename": "NameError",
     "evalue": "name 'devices' is not defined",
     "output_type": "error",
     "traceback": [
      "\u001b[1;31m---------------------------------------------------------------------------\u001b[0m\n\u001b[1;31mNameError\u001b[0m                                 Traceback (most recent call last)",
      "\u001b[1;32m<ipython-input-30-3beff1e9fcb9>\u001b[0m in \u001b[0;36m<module>\u001b[1;34m()\u001b[0m\n\u001b[1;32m----> 1\u001b[1;33m \u001b[0mledec\u001b[0m \u001b[1;33m=\u001b[0m \u001b[0mlen\u001b[0m\u001b[1;33m(\u001b[0m\u001b[0mdevices\u001b[0m\u001b[1;33m)\u001b[0m\u001b[1;33m\u001b[0m\u001b[0m\n\u001b[0m",
      "\u001b[1;31mNameError\u001b[0m: name 'devices' is not defined"
     ]
    }
   ],
   "source": [
    "ledec = len(devices)"
   ]
  },
  {
   "cell_type": "code",
   "execution_count": 31,
   "metadata": {
    "collapsed": false
   },
   "outputs": [
    {
     "ename": "NameError",
     "evalue": "name 'devices' is not defined",
     "output_type": "error",
     "traceback": [
      "\u001b[1;31m---------------------------------------------------------------------------\u001b[0m\n\u001b[1;31mNameError\u001b[0m                                 Traceback (most recent call last)",
      "\u001b[1;32m<ipython-input-31-50dfd57bc797>\u001b[0m in \u001b[0;36m<module>\u001b[1;34m()\u001b[0m\n\u001b[1;32m----> 1\u001b[1;33m \u001b[1;32mfor\u001b[0m \u001b[0mdevz\u001b[0m \u001b[1;32min\u001b[0m \u001b[0mdevices\u001b[0m\u001b[1;33m[\u001b[0m\u001b[1;36m0\u001b[0m\u001b[1;33m]\u001b[0m\u001b[1;33m:\u001b[0m\u001b[1;33m\u001b[0m\u001b[0m\n\u001b[0m\u001b[0;32m      2\u001b[0m     \u001b[1;31m#print devz\u001b[0m\u001b[1;33m\u001b[0m\u001b[1;33m\u001b[0m\u001b[0m\n\u001b[0;32m      3\u001b[0m     \u001b[1;32mprint\u001b[0m \u001b[0mdevices\u001b[0m\u001b[1;33m[\u001b[0m\u001b[1;36m0\u001b[0m\u001b[1;33m]\u001b[0m\u001b[1;33m[\u001b[0m\u001b[0mdevz\u001b[0m\u001b[1;33m]\u001b[0m\u001b[1;33m\u001b[0m\u001b[0m\n",
      "\u001b[1;31mNameError\u001b[0m: name 'devices' is not defined"
     ]
    }
   ],
   "source": [
    "for devz in devices[0]:\n",
    "    #print devz\n",
    "    print devices[0][devz]"
   ]
  },
  {
   "cell_type": "code",
   "execution_count": 32,
   "metadata": {
    "collapsed": false
   },
   "outputs": [],
   "source": [
    "#tesz = pd.DataFrame('test')"
   ]
  },
  {
   "cell_type": "code",
   "execution_count": 33,
   "metadata": {
    "collapsed": false
   },
   "outputs": [],
   "source": [
    "namdev = ({})"
   ]
  },
  {
   "cell_type": "code",
   "execution_count": 34,
   "metadata": {
    "collapsed": false
   },
   "outputs": [
    {
     "ename": "NameError",
     "evalue": "name 'devices' is not defined",
     "output_type": "error",
     "traceback": [
      "\u001b[1;31m---------------------------------------------------------------------------\u001b[0m\n\u001b[1;31mNameError\u001b[0m                                 Traceback (most recent call last)",
      "\u001b[1;32m<ipython-input-34-c0fa8ad9fed6>\u001b[0m in \u001b[0;36m<module>\u001b[1;34m()\u001b[0m\n\u001b[1;32m----> 1\u001b[1;33m \u001b[1;32mfor\u001b[0m \u001b[0mdevi\u001b[0m \u001b[1;32min\u001b[0m \u001b[0mdevices\u001b[0m\u001b[1;33m:\u001b[0m\u001b[1;33m\u001b[0m\u001b[0m\n\u001b[0m\u001b[0;32m      2\u001b[0m     \u001b[1;32mprint\u001b[0m \u001b[0mdevi\u001b[0m\u001b[1;33m[\u001b[0m\u001b[1;34m'tag'\u001b[0m\u001b[1;33m]\u001b[0m\u001b[1;33m\u001b[0m\u001b[0m\n\u001b[0;32m      3\u001b[0m     \u001b[0mnamdev\u001b[0m\u001b[1;33m.\u001b[0m\u001b[0mupdate\u001b[0m\u001b[1;33m(\u001b[0m\u001b[1;33m{\u001b[0m\u001b[0mdevi\u001b[0m\u001b[1;33m[\u001b[0m\u001b[1;34m'tag'\u001b[0m\u001b[1;33m]\u001b[0m\u001b[1;33m:\u001b[0m\u001b[0mdevi\u001b[0m\u001b[1;33m[\u001b[0m\u001b[1;34m'id'\u001b[0m\u001b[1;33m]\u001b[0m\u001b[1;33m}\u001b[0m\u001b[1;33m)\u001b[0m\u001b[1;33m\u001b[0m\u001b[0m\n",
      "\u001b[1;31mNameError\u001b[0m: name 'devices' is not defined"
     ]
    }
   ],
   "source": [
    "for devi in devices:\n",
    "    print devi['tag']\n",
    "    namdev.update({devi['tag']:devi['id']})"
   ]
  },
  {
   "cell_type": "code",
   "execution_count": 35,
   "metadata": {
    "collapsed": false
   },
   "outputs": [
    {
     "data": {
      "text/plain": [
       "{}"
      ]
     },
     "execution_count": 35,
     "metadata": {},
     "output_type": "execute_result"
    }
   ],
   "source": [
    "namdev"
   ]
  },
  {
   "cell_type": "code",
   "execution_count": 36,
   "metadata": {
    "collapsed": false
   },
   "outputs": [
    {
     "ename": "NameError",
     "evalue": "name 'devices' is not defined",
     "output_type": "error",
     "traceback": [
      "\u001b[1;31m---------------------------------------------------------------------------\u001b[0m\n\u001b[1;31mNameError\u001b[0m                                 Traceback (most recent call last)",
      "\u001b[1;32m<ipython-input-36-d62acfcd1e42>\u001b[0m in \u001b[0;36m<module>\u001b[1;34m()\u001b[0m\n\u001b[1;32m----> 1\u001b[1;33m \u001b[0mdevices\u001b[0m\u001b[1;33m[\u001b[0m\u001b[1;36m0\u001b[0m\u001b[1;33m]\u001b[0m\u001b[1;33m\u001b[0m\u001b[0m\n\u001b[0m",
      "\u001b[1;31mNameError\u001b[0m: name 'devices' is not defined"
     ]
    }
   ],
   "source": [
    "devices[0]"
   ]
  },
  {
   "cell_type": "code",
   "execution_count": 33,
   "metadata": {
    "collapsed": false
   },
   "outputs": [],
   "source": [
    "susb = pd.Series(namdev)"
   ]
  },
  {
   "cell_type": "code",
   "execution_count": 34,
   "metadata": {
    "collapsed": false
   },
   "outputs": [],
   "source": [
    "usbdf = pd.DataFrame(susb)"
   ]
  },
  {
   "cell_type": "code",
   "execution_count": 35,
   "metadata": {
    "collapsed": false
   },
   "outputs": [
    {
     "data": {
      "text/html": [
       "<div style=\"max-height:1000px;max-width:1500px;overflow:auto;\">\n",
       "<table border=\"1\">\n",
       "  <thead>\n",
       "    <tr>\n",
       "      <th></th>\n",
       "      <th>0</th>\n",
       "    </tr>\n",
       "  </thead>\n",
       "  <tbody>\n",
       "    <tr>\n",
       "      <td><strong>Genesys Logic, Inc. USB-2.0 4-Port HUB</strong></td>\n",
       "      <td> 05e3:0608</td>\n",
       "    </tr>\n",
       "    <tr>\n",
       "      <td><strong>Lexar Media, Inc. </strong></td>\n",
       "      <td> 05dc:a815</td>\n",
       "    </tr>\n",
       "    <tr>\n",
       "      <td><strong>Linux Foundation 2.0 root hub</strong></td>\n",
       "      <td> 1d6b:0002</td>\n",
       "    </tr>\n",
       "    <tr>\n",
       "      <td><strong>Microsoft Corp. Wired Keyboard 600</strong></td>\n",
       "      <td> 045e:0750</td>\n",
       "    </tr>\n",
       "    <tr>\n",
       "      <td><strong>Standard Microsystems Corp. </strong></td>\n",
       "      <td> 0424:ec00</td>\n",
       "    </tr>\n",
       "  </tbody>\n",
       "</table>\n",
       "</div>"
      ],
      "text/plain": [
       "                                                0\n",
       "Genesys Logic, Inc. USB-2.0 4-Port HUB  05e3:0608\n",
       "Lexar Media, Inc.                       05dc:a815\n",
       "Linux Foundation 2.0 root hub           1d6b:0002\n",
       "Microsoft Corp. Wired Keyboard 600      045e:0750\n",
       "Standard Microsystems Corp.             0424:ec00"
      ]
     },
     "execution_count": 35,
     "metadata": {},
     "output_type": "execute_result"
    }
   ],
   "source": [
    "usbdf"
   ]
  },
  {
   "cell_type": "code",
   "execution_count": 36,
   "metadata": {
    "collapsed": false
   },
   "outputs": [],
   "source": [
    "#for dev in df.values:\n",
    "#    for bepb in dev:\n",
    "        #print bepb\n",
    "#        print bepb['device']\n",
    "        #s.append(bepb['tag'])\n",
    "#        print bepb['tag']\n",
    "#        print bepb['id']"
   ]
  },
  {
   "cell_type": "code",
   "execution_count": 37,
   "metadata": {
    "collapsed": false
   },
   "outputs": [
    {
     "data": {
      "text/plain": [
       "\"[{'device': '/dev/bus/usb/001/002', 'tag': 'Standard Microsystems Corp. ', 'id': '0424:9514'}, {'device': '/dev/bus/usb/001/001', 'tag': 'Linux Foundation 2.0 root hub', 'id': '1d6b:0002'}, {'device': '/dev/bus/usb/001/003', 'tag': 'Standard Microsystems Corp. ', 'id': '0424:ec00'}, {'device': '/dev/bus/usb/001/004', 'tag': 'Genesys Logic, Inc. USB-2.0 4-Port HUB', 'id': '05e3:0608'}, {'device': '/dev/bus/usb/001/005', 'tag': 'Microsoft Corp. Wired Keyboard 600', 'id': '045e:0750'}, {'device': '/dev/bus/usb/001/006', 'tag': 'Lexar Media, Inc. ', 'id': '05dc:a815'}]\""
      ]
     },
     "execution_count": 37,
     "metadata": {},
     "output_type": "execute_result"
    }
   ],
   "source": [
    "str(devices)"
   ]
  },
  {
   "cell_type": "code",
   "execution_count": 38,
   "metadata": {
    "collapsed": false
   },
   "outputs": [],
   "source": [
    "usbhtml = usbdf.to_html()\n",
    "ps = open('/etc/motion/ps', 'r')\n",
    "passW = ps.readline()"
   ]
  },
  {
   "cell_type": "code",
   "execution_count": 39,
   "metadata": {
    "collapsed": false
   },
   "outputs": [
    {
     "data": {
      "text/plain": [
       "{}"
      ]
     },
     "execution_count": 39,
     "metadata": {},
     "output_type": "execute_result"
    }
   ],
   "source": [
    "fromz = 'brobeurstudios@gmail.com'  \n",
    "toz = 'will@artcontrol.me'  \n",
    "msg = str(devices)\n",
    "\n",
    "# Credentials (if needed)  \n",
    "username = 'brobeurstudios@gmail.com'\n",
    "password = passW   \n",
    "# The actual mail send  \n",
    "server = smtplib.SMTP('smtp.gmail.com:587')  \n",
    "server.starttls()  \n",
    "server.login(username,password)  \n",
    "server.sendmail(fromz, toz, msg)  "
   ]
  },
  {
   "cell_type": "code",
   "execution_count": 40,
   "metadata": {
    "collapsed": false
   },
   "outputs": [],
   "source": [
    "#dev = usb.core.find(idVendor='1d6b:0002')\n",
    "\n",
    "# was it found?\n",
    "#if dev is None:\n",
    "#    raise ValueError('Device not found')"
   ]
  },
  {
   "cell_type": "code",
   "execution_count": 41,
   "metadata": {
    "collapsed": false
   },
   "outputs": [],
   "source": [
    "usbus = os.listdir('/home/wcmckee')"
   ]
  },
  {
   "cell_type": "code",
   "execution_count": 42,
   "metadata": {
    "collapsed": false
   },
   "outputs": [],
   "source": [
    "chelis = []"
   ]
  },
  {
   "cell_type": "code",
   "execution_count": 91,
   "metadata": {
    "collapsed": false
   },
   "outputs": [
    {
     "name": "stdout",
     "output_type": "stream",
     "text": [
      ".bashrc\n",
      ".bash_logout\n",
      "Desktop\n",
      "build\n",
      ".xsession-errors\n",
      ".local\n",
      "wcmckee-notebook\n",
      "whai\n",
      "posts\n",
      ".ssh\n",
      ".gitconfig\n",
      ".gvfs\n",
      "motsav\n",
      ".pulse\n",
      ".profile\n",
      ".Xauthority\n",
      ".bash_history\n",
      "pistore.desktop\n",
      ".cache\n",
      "wcmckee\n",
      "visignsys\n",
      "test.txt\n",
      "Camera\n",
      ".ipython\n",
      ".pulse-cookie\n",
      ".matplotlib\n",
      ".config\n",
      ".dbus\n",
      "rgdrecentReference\n",
      "artcontroldrawsyou\n",
      ".thumbnails\n"
     ]
    }
   ],
   "source": [
    "for usbz in usbus:\n",
    "    #chelis.append(os.listdir(usbz))\n",
    "    print usbz"
   ]
  },
  {
   "cell_type": "code",
   "execution_count": null,
   "metadata": {
    "collapsed": false
   },
   "outputs": [],
   "source": []
  },
  {
   "cell_type": "code",
   "execution_count": null,
   "metadata": {
    "collapsed": false
   },
   "outputs": [],
   "source": []
  },
  {
   "cell_type": "code",
   "execution_count": null,
   "metadata": {
    "collapsed": false
   },
   "outputs": [],
   "source": [
    "os.listdir('/dev/input')"
   ]
  },
  {
   "cell_type": "code",
   "execution_count": 44,
   "metadata": {
    "collapsed": false
   },
   "outputs": [],
   "source": [
    "#runpan = os.system('python wcpanda.py')"
   ]
  },
  {
   "cell_type": "code",
   "execution_count": 45,
   "metadata": {
    "collapsed": false
   },
   "outputs": [],
   "source": [
    "#runpan"
   ]
  },
  {
   "cell_type": "code",
   "execution_count": 48,
   "metadata": {
    "collapsed": false
   },
   "outputs": [],
   "source": [
    "#runpan.denominator"
   ]
  },
  {
   "cell_type": "code",
   "execution_count": 62,
   "metadata": {
    "collapsed": false
   },
   "outputs": [],
   "source": [
    "camjpg = os.listdir('/home/wcmckee/')"
   ]
  },
  {
   "cell_type": "code",
   "execution_count": 63,
   "metadata": {
    "collapsed": false
   },
   "outputs": [
    {
     "name": "stdout",
     "output_type": "stream",
     "text": [
      ".bashrc\n",
      ".bash_logout\n",
      "Desktop\n",
      "build\n",
      ".xsession-errors\n",
      ".local\n",
      "wcmckee-notebook\n",
      "whai\n",
      "posts\n",
      ".ssh\n",
      ".gitconfig\n",
      ".gvfs\n",
      "motsav\n",
      ".pulse\n",
      ".profile\n",
      ".Xauthority\n",
      ".bash_history\n",
      "pistore.desktop\n",
      ".cache\n",
      "wcmckee\n",
      "visignsys\n",
      "test.txt\n",
      "Camera\n",
      ".ipython\n",
      ".pulse-cookie\n",
      ".matplotlib\n",
      ".config\n",
      ".dbus\n",
      "rgdrecentReference\n",
      "artcontroldrawsyou\n",
      ".thumbnails\n"
     ]
    }
   ],
   "source": [
    "for cjp in camjpg:\n",
    "    print cjp\n",
    "    "
   ]
  },
  {
   "cell_type": "code",
   "execution_count": 64,
   "metadata": {
    "collapsed": false
   },
   "outputs": [],
   "source": [
    "jpser = pd.Series(camjpg)"
   ]
  },
  {
   "cell_type": "code",
   "execution_count": 65,
   "metadata": {
    "collapsed": false
   },
   "outputs": [
    {
     "data": {
      "text/plain": [
       "0                .bashrc\n",
       "1           .bash_logout\n",
       "2                Desktop\n",
       "3                  build\n",
       "4       .xsession-errors\n",
       "5                 .local\n",
       "6       wcmckee-notebook\n",
       "7                   whai\n",
       "8                  posts\n",
       "9                   .ssh\n",
       "10            .gitconfig\n",
       "11                 .gvfs\n",
       "12                motsav\n",
       "13                .pulse\n",
       "14              .profile\n",
       "15           .Xauthority\n",
       "16         .bash_history\n",
       "17       pistore.desktop\n",
       "18                .cache\n",
       "19               wcmckee\n",
       "20             visignsys\n",
       "21              test.txt\n",
       "22                Camera\n",
       "23              .ipython\n",
       "24         .pulse-cookie\n",
       "25           .matplotlib\n",
       "26               .config\n",
       "27                 .dbus\n",
       "28    rgdrecentReference\n",
       "29    artcontroldrawsyou\n",
       "30           .thumbnails"
      ]
     },
     "execution_count": 65,
     "metadata": {},
     "output_type": "execute_result"
    }
   ],
   "source": [
    "jpser"
   ]
  },
  {
   "cell_type": "code",
   "execution_count": 66,
   "metadata": {
    "collapsed": false
   },
   "outputs": [],
   "source": [
    "df = pd.DataFrame(jpser)"
   ]
  },
  {
   "cell_type": "code",
   "execution_count": 92,
   "metadata": {
    "collapsed": false
   },
   "outputs": [
    {
     "data": {
      "text/html": [
       "<div style=\"max-height:1000px;max-width:1500px;overflow:auto;\">\n",
       "<table border=\"1\">\n",
       "  <thead>\n",
       "    <tr>\n",
       "      <th></th>\n",
       "      <th>0</th>\n",
       "    </tr>\n",
       "  </thead>\n",
       "  <tbody>\n",
       "    <tr>\n",
       "      <td><strong>0</strong></td>\n",
       "      <td>            .bashrc</td>\n",
       "    </tr>\n",
       "    <tr>\n",
       "      <td><strong>1</strong></td>\n",
       "      <td>       .bash_logout</td>\n",
       "    </tr>\n",
       "    <tr>\n",
       "      <td><strong>2</strong></td>\n",
       "      <td>            Desktop</td>\n",
       "    </tr>\n",
       "    <tr>\n",
       "      <td><strong>3</strong></td>\n",
       "      <td>              build</td>\n",
       "    </tr>\n",
       "    <tr>\n",
       "      <td><strong>4</strong></td>\n",
       "      <td>   .xsession-errors</td>\n",
       "    </tr>\n",
       "    <tr>\n",
       "      <td><strong>5</strong></td>\n",
       "      <td>             .local</td>\n",
       "    </tr>\n",
       "    <tr>\n",
       "      <td><strong>6</strong></td>\n",
       "      <td>   wcmckee-notebook</td>\n",
       "    </tr>\n",
       "    <tr>\n",
       "      <td><strong>7</strong></td>\n",
       "      <td>               whai</td>\n",
       "    </tr>\n",
       "    <tr>\n",
       "      <td><strong>8</strong></td>\n",
       "      <td>              posts</td>\n",
       "    </tr>\n",
       "    <tr>\n",
       "      <td><strong>9</strong></td>\n",
       "      <td>               .ssh</td>\n",
       "    </tr>\n",
       "    <tr>\n",
       "      <td><strong>10</strong></td>\n",
       "      <td>         .gitconfig</td>\n",
       "    </tr>\n",
       "    <tr>\n",
       "      <td><strong>11</strong></td>\n",
       "      <td>              .gvfs</td>\n",
       "    </tr>\n",
       "    <tr>\n",
       "      <td><strong>12</strong></td>\n",
       "      <td>             motsav</td>\n",
       "    </tr>\n",
       "    <tr>\n",
       "      <td><strong>13</strong></td>\n",
       "      <td>             .pulse</td>\n",
       "    </tr>\n",
       "    <tr>\n",
       "      <td><strong>14</strong></td>\n",
       "      <td>           .profile</td>\n",
       "    </tr>\n",
       "    <tr>\n",
       "      <td><strong>15</strong></td>\n",
       "      <td>        .Xauthority</td>\n",
       "    </tr>\n",
       "    <tr>\n",
       "      <td><strong>16</strong></td>\n",
       "      <td>      .bash_history</td>\n",
       "    </tr>\n",
       "    <tr>\n",
       "      <td><strong>17</strong></td>\n",
       "      <td>    pistore.desktop</td>\n",
       "    </tr>\n",
       "    <tr>\n",
       "      <td><strong>18</strong></td>\n",
       "      <td>             .cache</td>\n",
       "    </tr>\n",
       "    <tr>\n",
       "      <td><strong>19</strong></td>\n",
       "      <td>            wcmckee</td>\n",
       "    </tr>\n",
       "    <tr>\n",
       "      <td><strong>20</strong></td>\n",
       "      <td>          visignsys</td>\n",
       "    </tr>\n",
       "    <tr>\n",
       "      <td><strong>21</strong></td>\n",
       "      <td>           test.txt</td>\n",
       "    </tr>\n",
       "    <tr>\n",
       "      <td><strong>22</strong></td>\n",
       "      <td>             Camera</td>\n",
       "    </tr>\n",
       "    <tr>\n",
       "      <td><strong>23</strong></td>\n",
       "      <td>           .ipython</td>\n",
       "    </tr>\n",
       "    <tr>\n",
       "      <td><strong>24</strong></td>\n",
       "      <td>      .pulse-cookie</td>\n",
       "    </tr>\n",
       "    <tr>\n",
       "      <td><strong>25</strong></td>\n",
       "      <td>        .matplotlib</td>\n",
       "    </tr>\n",
       "    <tr>\n",
       "      <td><strong>26</strong></td>\n",
       "      <td>            .config</td>\n",
       "    </tr>\n",
       "    <tr>\n",
       "      <td><strong>27</strong></td>\n",
       "      <td>              .dbus</td>\n",
       "    </tr>\n",
       "    <tr>\n",
       "      <td><strong>28</strong></td>\n",
       "      <td> rgdrecentReference</td>\n",
       "    </tr>\n",
       "    <tr>\n",
       "      <td><strong>29</strong></td>\n",
       "      <td> artcontroldrawsyou</td>\n",
       "    </tr>\n",
       "    <tr>\n",
       "      <td><strong>30</strong></td>\n",
       "      <td>        .thumbnails</td>\n",
       "    </tr>\n",
       "  </tbody>\n",
       "</table>\n",
       "</div>"
      ],
      "text/plain": [
       "                     0\n",
       "0              .bashrc\n",
       "1         .bash_logout\n",
       "2              Desktop\n",
       "3                build\n",
       "4     .xsession-errors\n",
       "5               .local\n",
       "6     wcmckee-notebook\n",
       "7                 whai\n",
       "8                posts\n",
       "9                 .ssh\n",
       "10          .gitconfig\n",
       "11               .gvfs\n",
       "12              motsav\n",
       "13              .pulse\n",
       "14            .profile\n",
       "15         .Xauthority\n",
       "16       .bash_history\n",
       "17     pistore.desktop\n",
       "18              .cache\n",
       "19             wcmckee\n",
       "20           visignsys\n",
       "21            test.txt\n",
       "22              Camera\n",
       "23            .ipython\n",
       "24       .pulse-cookie\n",
       "25         .matplotlib\n",
       "26             .config\n",
       "27               .dbus\n",
       "28  rgdrecentReference\n",
       "29  artcontroldrawsyou\n",
       "30         .thumbnails"
      ]
     },
     "execution_count": 92,
     "metadata": {},
     "output_type": "execute_result"
    }
   ],
   "source": [
    "df"
   ]
  },
  {
   "cell_type": "code",
   "execution_count": 77,
   "metadata": {
    "collapsed": false
   },
   "outputs": [],
   "source": [
    "lslit = []"
   ]
  },
  {
   "cell_type": "code",
   "execution_count": 82,
   "metadata": {
    "collapsed": false
   },
   "outputs": [
    {
     "name": "stdout",
     "output_type": "stream",
     "text": [
      "[.bashrc]\n",
      "[.bash_logout]\n",
      "[Desktop]\n",
      "[build]\n",
      "[.xsession-errors]\n",
      "[.local]\n",
      "[wcmckee-notebook]\n",
      "[whai]\n",
      "[posts]\n",
      "[.ssh]\n",
      "[.gitconfig]\n",
      "[.gvfs]\n",
      "[motsav]\n",
      "[.pulse]\n",
      "[.profile]\n",
      "[.Xauthority]\n",
      "[.bash_history]\n",
      "[pistore.desktop]\n",
      "[.cache]\n",
      "[wcmckee]\n",
      "[visignsys]\n",
      "[test.txt]\n",
      "[Camera]\n",
      "[.ipython]\n",
      "[.pulse-cookie]\n",
      "[.matplotlib]\n",
      "[.config]\n",
      "[.dbus]\n",
      "[rgdrecentReference]\n",
      "[artcontroldrawsyou]\n",
      "[.thumbnails]\n"
     ]
    }
   ],
   "source": [
    "for fgvsl in df.values:\n",
    "    print fgvsl\n",
    "    #str(os.listdir(fgvsl))"
   ]
  },
  {
   "cell_type": "code",
   "execution_count": 83,
   "metadata": {
    "collapsed": false
   },
   "outputs": [
    {
     "data": {
      "text/plain": [
       "<bound method DataFrame.sort of                      0\n",
       "0              .bashrc\n",
       "1         .bash_logout\n",
       "2              Desktop\n",
       "3                build\n",
       "4     .xsession-errors\n",
       "5               .local\n",
       "6     wcmckee-notebook\n",
       "7                 whai\n",
       "8                posts\n",
       "9                 .ssh\n",
       "10          .gitconfig\n",
       "11               .gvfs\n",
       "12              motsav\n",
       "13              .pulse\n",
       "14            .profile\n",
       "15         .Xauthority\n",
       "16       .bash_history\n",
       "17     pistore.desktop\n",
       "18              .cache\n",
       "19             wcmckee\n",
       "20           visignsys\n",
       "21            test.txt\n",
       "22              Camera\n",
       "23            .ipython\n",
       "24       .pulse-cookie\n",
       "25         .matplotlib\n",
       "26             .config\n",
       "27               .dbus\n",
       "28  rgdrecentReference\n",
       "29  artcontroldrawsyou\n",
       "30         .thumbnails>"
      ]
     },
     "execution_count": 83,
     "metadata": {},
     "output_type": "execute_result"
    }
   ],
   "source": [
    "df.sort"
   ]
  },
  {
   "cell_type": "code",
   "execution_count": 84,
   "metadata": {
    "collapsed": false
   },
   "outputs": [
    {
     "data": {
      "text/plain": [
       "'<table border=\"1\">\\n  <thead>\\n    <tr>\\n      <th></th>\\n      <th>0</th>\\n    </tr>\\n  </thead>\\n  <tbody>\\n    <tr>\\n      <td><strong>0</strong></td>\\n      <td>            .bashrc</td>\\n    </tr>\\n    <tr>\\n      <td><strong>1</strong></td>\\n      <td>       .bash_logout</td>\\n    </tr>\\n    <tr>\\n      <td><strong>2</strong></td>\\n      <td>            Desktop</td>\\n    </tr>\\n    <tr>\\n      <td><strong>3</strong></td>\\n      <td>              build</td>\\n    </tr>\\n    <tr>\\n      <td><strong>4</strong></td>\\n      <td>   .xsession-errors</td>\\n    </tr>\\n    <tr>\\n      <td><strong>5</strong></td>\\n      <td>             .local</td>\\n    </tr>\\n    <tr>\\n      <td><strong>6</strong></td>\\n      <td>   wcmckee-notebook</td>\\n    </tr>\\n    <tr>\\n      <td><strong>7</strong></td>\\n      <td>               whai</td>\\n    </tr>\\n    <tr>\\n      <td><strong>8</strong></td>\\n      <td>              posts</td>\\n    </tr>\\n    <tr>\\n      <td><strong>9</strong></td>\\n      <td>               .ssh</td>\\n    </tr>\\n    <tr>\\n      <td><strong>10</strong></td>\\n      <td>         .gitconfig</td>\\n    </tr>\\n    <tr>\\n      <td><strong>11</strong></td>\\n      <td>              .gvfs</td>\\n    </tr>\\n    <tr>\\n      <td><strong>12</strong></td>\\n      <td>             motsav</td>\\n    </tr>\\n    <tr>\\n      <td><strong>13</strong></td>\\n      <td>             .pulse</td>\\n    </tr>\\n    <tr>\\n      <td><strong>14</strong></td>\\n      <td>           .profile</td>\\n    </tr>\\n    <tr>\\n      <td><strong>15</strong></td>\\n      <td>        .Xauthority</td>\\n    </tr>\\n    <tr>\\n      <td><strong>16</strong></td>\\n      <td>      .bash_history</td>\\n    </tr>\\n    <tr>\\n      <td><strong>17</strong></td>\\n      <td>    pistore.desktop</td>\\n    </tr>\\n    <tr>\\n      <td><strong>18</strong></td>\\n      <td>             .cache</td>\\n    </tr>\\n    <tr>\\n      <td><strong>19</strong></td>\\n      <td>            wcmckee</td>\\n    </tr>\\n    <tr>\\n      <td><strong>20</strong></td>\\n      <td>          visignsys</td>\\n    </tr>\\n    <tr>\\n      <td><strong>21</strong></td>\\n      <td>           test.txt</td>\\n    </tr>\\n    <tr>\\n      <td><strong>22</strong></td>\\n      <td>             Camera</td>\\n    </tr>\\n    <tr>\\n      <td><strong>23</strong></td>\\n      <td>           .ipython</td>\\n    </tr>\\n    <tr>\\n      <td><strong>24</strong></td>\\n      <td>      .pulse-cookie</td>\\n    </tr>\\n    <tr>\\n      <td><strong>25</strong></td>\\n      <td>        .matplotlib</td>\\n    </tr>\\n    <tr>\\n      <td><strong>26</strong></td>\\n      <td>            .config</td>\\n    </tr>\\n    <tr>\\n      <td><strong>27</strong></td>\\n      <td>              .dbus</td>\\n    </tr>\\n    <tr>\\n      <td><strong>28</strong></td>\\n      <td> rgdrecentReference</td>\\n    </tr>\\n    <tr>\\n      <td><strong>29</strong></td>\\n      <td> artcontroldrawsyou</td>\\n    </tr>\\n    <tr>\\n      <td><strong>30</strong></td>\\n      <td>        .thumbnails</td>\\n    </tr>\\n  </tbody>\\n</table>'"
      ]
     },
     "execution_count": 84,
     "metadata": {},
     "output_type": "execute_result"
    }
   ],
   "source": [
    "df.to_html()"
   ]
  },
  {
   "cell_type": "code",
   "execution_count": 85,
   "metadata": {
    "collapsed": false
   },
   "outputs": [
    {
     "data": {
      "text/plain": [
       "<bound method DataFrame.merge of                      0\n",
       "0              .bashrc\n",
       "1         .bash_logout\n",
       "2              Desktop\n",
       "3                build\n",
       "4     .xsession-errors\n",
       "5               .local\n",
       "6     wcmckee-notebook\n",
       "7                 whai\n",
       "8                posts\n",
       "9                 .ssh\n",
       "10          .gitconfig\n",
       "11               .gvfs\n",
       "12              motsav\n",
       "13              .pulse\n",
       "14            .profile\n",
       "15         .Xauthority\n",
       "16       .bash_history\n",
       "17     pistore.desktop\n",
       "18              .cache\n",
       "19             wcmckee\n",
       "20           visignsys\n",
       "21            test.txt\n",
       "22              Camera\n",
       "23            .ipython\n",
       "24       .pulse-cookie\n",
       "25         .matplotlib\n",
       "26             .config\n",
       "27               .dbus\n",
       "28  rgdrecentReference\n",
       "29  artcontroldrawsyou\n",
       "30         .thumbnails>"
      ]
     },
     "execution_count": 85,
     "metadata": {},
     "output_type": "execute_result"
    }
   ],
   "source": [
    "df.merge"
   ]
  },
  {
   "cell_type": "code",
   "execution_count": 92,
   "metadata": {
    "collapsed": false
   },
   "outputs": [],
   "source": []
  },
  {
   "cell_type": "code",
   "execution_count": 86,
   "metadata": {
    "collapsed": false
   },
   "outputs": [
    {
     "data": {
      "text/html": [
       "<div style=\"max-height:1000px;max-width:1500px;overflow:auto;\">\n",
       "<table border=\"1\">\n",
       "  <thead>\n",
       "    <tr>\n",
       "      <th></th>\n",
       "      <th>0</th>\n",
       "    </tr>\n",
       "  </thead>\n",
       "  <tbody>\n",
       "    <tr>\n",
       "      <td><strong>26</strong></td>\n",
       "      <td>            .config</td>\n",
       "    </tr>\n",
       "    <tr>\n",
       "      <td><strong>27</strong></td>\n",
       "      <td>              .dbus</td>\n",
       "    </tr>\n",
       "    <tr>\n",
       "      <td><strong>28</strong></td>\n",
       "      <td> rgdrecentReference</td>\n",
       "    </tr>\n",
       "    <tr>\n",
       "      <td><strong>29</strong></td>\n",
       "      <td> artcontroldrawsyou</td>\n",
       "    </tr>\n",
       "    <tr>\n",
       "      <td><strong>30</strong></td>\n",
       "      <td>        .thumbnails</td>\n",
       "    </tr>\n",
       "  </tbody>\n",
       "</table>\n",
       "</div>"
      ],
      "text/plain": [
       "                     0\n",
       "26             .config\n",
       "27               .dbus\n",
       "28  rgdrecentReference\n",
       "29  artcontroldrawsyou\n",
       "30         .thumbnails"
      ]
     },
     "execution_count": 86,
     "metadata": {},
     "output_type": "execute_result"
    }
   ],
   "source": [
    "df.tail()"
   ]
  },
  {
   "cell_type": "code",
   "execution_count": 87,
   "metadata": {
    "collapsed": false
   },
   "outputs": [],
   "source": [
    "savmo = open('/home/wcmckee/motsav/index.html', 'w')\n",
    "savmo.write(str(df.to_html()))"
   ]
  },
  {
   "cell_type": "code",
   "execution_count": 88,
   "metadata": {
    "collapsed": false
   },
   "outputs": [],
   "source": [
    "savmo.close()"
   ]
  },
  {
   "cell_type": "code",
   "execution_count": 37,
   "metadata": {
    "collapsed": false
   },
   "outputs": [
    {
     "ename": "IOError",
     "evalue": "[Errno 2] No such file or directory: '/home/wcmckee/motsav/index.html'",
     "output_type": "error",
     "traceback": [
      "\u001b[1;31m---------------------------------------------------------------------------\u001b[0m\n\u001b[1;31mIOError\u001b[0m                                   Traceback (most recent call last)",
      "\u001b[1;32m<ipython-input-37-16590fc0c4fc>\u001b[0m in \u001b[0;36m<module>\u001b[1;34m()\u001b[0m\n\u001b[1;32m----> 1\u001b[1;33m \u001b[0mopmo\u001b[0m \u001b[1;33m=\u001b[0m \u001b[0mopen\u001b[0m\u001b[1;33m(\u001b[0m\u001b[1;34m'/home/wcmckee/motsav/index.html'\u001b[0m\u001b[1;33m,\u001b[0m \u001b[1;34m'r'\u001b[0m\u001b[1;33m)\u001b[0m\u001b[1;33m\u001b[0m\u001b[0m\n\u001b[0m",
      "\u001b[1;31mIOError\u001b[0m: [Errno 2] No such file or directory: '/home/wcmckee/motsav/index.html'"
     ]
    }
   ],
   "source": [
    "opmo = open('/home/wcmckee/motsav/index.html', 'r')"
   ]
  },
  {
   "cell_type": "code",
   "execution_count": 90,
   "metadata": {
    "collapsed": false
   },
   "outputs": [
    {
     "data": {
      "text/plain": [
       "'<table border=\"1\">\\n  <thead>\\n    <tr>\\n      <th></th>\\n      <th>0</th>\\n    </tr>\\n  </thead>\\n  <tbody>\\n    <tr>\\n      <td><strong>0</strong></td>\\n      <td>            .bashrc</td>\\n    </tr>\\n    <tr>\\n      <td><strong>1</strong></td>\\n      <td>       .bash_logout</td>\\n    </tr>\\n    <tr>\\n      <td><strong>2</strong></td>\\n      <td>            Desktop</td>\\n    </tr>\\n    <tr>\\n      <td><strong>3</strong></td>\\n      <td>              build</td>\\n    </tr>\\n    <tr>\\n      <td><strong>4</strong></td>\\n      <td>   .xsession-errors</td>\\n    </tr>\\n    <tr>\\n      <td><strong>5</strong></td>\\n      <td>             .local</td>\\n    </tr>\\n    <tr>\\n      <td><strong>6</strong></td>\\n      <td>   wcmckee-notebook</td>\\n    </tr>\\n    <tr>\\n      <td><strong>7</strong></td>\\n      <td>               whai</td>\\n    </tr>\\n    <tr>\\n      <td><strong>8</strong></td>\\n      <td>              posts</td>\\n    </tr>\\n    <tr>\\n      <td><strong>9</strong></td>\\n      <td>               .ssh</td>\\n    </tr>\\n    <tr>\\n      <td><strong>10</strong></td>\\n      <td>         .gitconfig</td>\\n    </tr>\\n    <tr>\\n      <td><strong>11</strong></td>\\n      <td>              .gvfs</td>\\n    </tr>\\n    <tr>\\n      <td><strong>12</strong></td>\\n      <td>             motsav</td>\\n    </tr>\\n    <tr>\\n      <td><strong>13</strong></td>\\n      <td>             .pulse</td>\\n    </tr>\\n    <tr>\\n      <td><strong>14</strong></td>\\n      <td>           .profile</td>\\n    </tr>\\n    <tr>\\n      <td><strong>15</strong></td>\\n      <td>        .Xauthority</td>\\n    </tr>\\n    <tr>\\n      <td><strong>16</strong></td>\\n      <td>      .bash_history</td>\\n    </tr>\\n    <tr>\\n      <td><strong>17</strong></td>\\n      <td>    pistore.desktop</td>\\n    </tr>\\n    <tr>\\n      <td><strong>18</strong></td>\\n      <td>             .cache</td>\\n    </tr>\\n    <tr>\\n      <td><strong>19</strong></td>\\n      <td>            wcmckee</td>\\n    </tr>\\n    <tr>\\n      <td><strong>20</strong></td>\\n      <td>          visignsys</td>\\n    </tr>\\n    <tr>\\n      <td><strong>21</strong></td>\\n      <td>           test.txt</td>\\n    </tr>\\n    <tr>\\n      <td><strong>22</strong></td>\\n      <td>             Camera</td>\\n    </tr>\\n    <tr>\\n      <td><strong>23</strong></td>\\n      <td>           .ipython</td>\\n    </tr>\\n    <tr>\\n      <td><strong>24</strong></td>\\n      <td>      .pulse-cookie</td>\\n    </tr>\\n    <tr>\\n      <td><strong>25</strong></td>\\n      <td>        .matplotlib</td>\\n    </tr>\\n    <tr>\\n      <td><strong>26</strong></td>\\n      <td>            .config</td>\\n    </tr>\\n    <tr>\\n      <td><strong>27</strong></td>\\n      <td>              .dbus</td>\\n    </tr>\\n    <tr>\\n      <td><strong>28</strong></td>\\n      <td> rgdrecentReference</td>\\n    </tr>\\n    <tr>\\n      <td><strong>29</strong></td>\\n      <td> artcontroldrawsyou</td>\\n    </tr>\\n    <tr>\\n      <td><strong>30</strong></td>\\n      <td>        .thumbnails</td>\\n    </tr>\\n  </tbody>\\n</table>'"
      ]
     },
     "execution_count": 90,
     "metadata": {},
     "output_type": "execute_result"
    }
   ],
   "source": [
    "opmo.read()"
   ]
  },
  {
   "cell_type": "code",
   "execution_count": 90,
   "metadata": {
    "collapsed": false
   },
   "outputs": [],
   "source": []
  },
  {
   "cell_type": "code",
   "execution_count": null,
   "metadata": {
    "collapsed": false
   },
   "outputs": [],
   "source": []
  },
  {
   "cell_type": "code",
   "execution_count": null,
   "metadata": {
    "collapsed": false
   },
   "outputs": [],
   "source": []
  }
 ],
 "metadata": {
  "kernelspec": {
   "display_name": "Python 2",
   "name": "python2"
  }
 },
 "nbformat": 4,
 "nbformat_minor": 0
}
