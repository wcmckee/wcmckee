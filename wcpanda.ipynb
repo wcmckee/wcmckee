{
 "metadata": {
  "name": "",
  "signature": "sha256:5cf195f19e166e38f11dc809f168d21394ff4c3c895ecd2f4732a5e93c866f2c"
 },
 "nbformat": 3,
 "nbformat_minor": 0,
 "worksheets": [
  {
   "cells": [
    {
     "cell_type": "code",
     "collapsed": false,
     "input": [
      "import numpy as np\n",
      "import pandas as pd\n",
      "import math\n",
      "#import usb\n",
      "import os\n",
      "import re\n",
      "import subprocess\n",
      "import email\n",
      "import smtplib"
     ],
     "language": "python",
     "metadata": {},
     "outputs": [],
     "prompt_number": 1
    },
    {
     "cell_type": "markdown",
     "metadata": {},
     "source": [
      "This is a python script that performs a lsusb and ping systems, emailing off the results.\n",
      "\n",
      "TODO\n",
      "\n",
      "Alert if any changes to devices or ping. \n",
      "Generate email that contains - lsusb - ping - recent music played - video snapshots\n",
      "\n",
      "Altenative logins to password - something kids can remember and use.\n",
      "\n",
      "Sign in/Sing Out script \n",
      "generate reports of end of week/month\n",
      "\n"
     ]
    },
    {
     "cell_type": "code",
     "collapsed": false,
     "input": [
      "randn = np.random.randn"
     ],
     "language": "python",
     "metadata": {},
     "outputs": [],
     "prompt_number": 2
    },
    {
     "cell_type": "code",
     "collapsed": false,
     "input": [
      "randn()"
     ],
     "language": "python",
     "metadata": {},
     "outputs": [
      {
       "metadata": {},
       "output_type": "pyout",
       "prompt_number": 3,
       "text": [
        "-0.4945779207227632"
       ]
      }
     ],
     "prompt_number": 3
    },
    {
     "cell_type": "code",
     "collapsed": false,
     "input": [
      "math.sin(randn())"
     ],
     "language": "python",
     "metadata": {},
     "outputs": [
      {
       "metadata": {},
       "output_type": "pyout",
       "prompt_number": 4,
       "text": [
        "0.03530693006123431"
       ]
      }
     ],
     "prompt_number": 4
    },
    {
     "cell_type": "code",
     "collapsed": false,
     "input": [
      "a = np.arange(randn())"
     ],
     "language": "python",
     "metadata": {},
     "outputs": [],
     "prompt_number": 5
    },
    {
     "cell_type": "code",
     "collapsed": false,
     "input": [
      "a"
     ],
     "language": "python",
     "metadata": {},
     "outputs": [
      {
       "metadata": {},
       "output_type": "pyout",
       "prompt_number": 6,
       "text": [
        "array([ 0.])"
       ]
      }
     ],
     "prompt_number": 6
    },
    {
     "cell_type": "code",
     "collapsed": false,
     "input": [
      "a = np.arange(15).reshape(3,5)"
     ],
     "language": "python",
     "metadata": {},
     "outputs": [],
     "prompt_number": 7
    },
    {
     "cell_type": "code",
     "collapsed": false,
     "input": [
      "a"
     ],
     "language": "python",
     "metadata": {},
     "outputs": [
      {
       "metadata": {},
       "output_type": "pyout",
       "prompt_number": 8,
       "text": [
        "array([[ 0,  1,  2,  3,  4],\n",
        "       [ 5,  6,  7,  8,  9],\n",
        "       [10, 11, 12, 13, 14]])"
       ]
      }
     ],
     "prompt_number": 8
    },
    {
     "cell_type": "code",
     "collapsed": false,
     "input": [
      "opind = open('/home/wcmckee/visignsys/index.meta')"
     ],
     "language": "python",
     "metadata": {},
     "outputs": [],
     "prompt_number": 9
    },
    {
     "cell_type": "code",
     "collapsed": false,
     "input": [
      "doubme = opind.read()"
     ],
     "language": "python",
     "metadata": {},
     "outputs": [],
     "prompt_number": 10
    },
    {
     "cell_type": "code",
     "collapsed": false,
     "input": [
      "(doubme)"
     ],
     "language": "python",
     "metadata": {},
     "outputs": [
      {
       "metadata": {},
       "output_type": "pyout",
       "prompt_number": 11,
       "text": [
        "\"['02-Dec-2014', 'ESW', 'William Mckee', '15:09', 'sunny and mum is back']['02-Dec-2014', 'build wire dibo', '17:41']\""
       ]
      }
     ],
     "prompt_number": 11
    },
    {
     "cell_type": "code",
     "collapsed": false,
     "input": [
      "for dou in doubme:\n",
      "    print dou"
     ],
     "language": "python",
     "metadata": {},
     "outputs": [
      {
       "output_type": "stream",
       "stream": "stdout",
       "text": [
        "[\n",
        "'\n",
        "0\n",
        "2\n",
        "-\n",
        "D\n",
        "e\n",
        "c\n",
        "-\n",
        "2\n",
        "0\n",
        "1\n",
        "4\n",
        "'\n",
        ",\n",
        " \n",
        "'\n",
        "E\n",
        "S\n",
        "W\n",
        "'\n",
        ",\n",
        " \n",
        "'\n",
        "W\n",
        "i\n",
        "l\n",
        "l\n",
        "i\n",
        "a\n",
        "m\n",
        " \n",
        "M\n",
        "c\n",
        "k\n",
        "e\n",
        "e\n",
        "'\n",
        ",\n",
        " \n",
        "'\n",
        "1\n",
        "5\n",
        ":\n",
        "0\n",
        "9\n",
        "'\n",
        ",\n",
        " \n",
        "'\n",
        "s\n",
        "u\n",
        "n\n",
        "n\n",
        "y\n",
        " \n",
        "a\n",
        "n\n",
        "d\n",
        " \n",
        "m\n",
        "u\n",
        "m\n",
        " \n",
        "i\n",
        "s\n",
        " \n",
        "b\n",
        "a\n",
        "c\n",
        "k\n",
        "'\n",
        "]\n",
        "[\n",
        "'\n",
        "0\n",
        "2\n",
        "-\n",
        "D\n",
        "e\n",
        "c\n",
        "-\n",
        "2\n",
        "0\n",
        "1\n",
        "4\n",
        "'\n",
        ",\n",
        " \n",
        "'\n",
        "b\n",
        "u\n",
        "i\n",
        "l\n",
        "d\n",
        " \n",
        "w\n",
        "i\n",
        "r\n",
        "e\n",
        " \n",
        "d\n",
        "i\n",
        "b\n",
        "o\n",
        "'\n",
        ",\n",
        " \n",
        "'\n",
        "1\n",
        "7\n",
        ":\n",
        "4\n",
        "1\n",
        "'\n",
        "]\n"
       ]
      }
     ],
     "prompt_number": 12
    },
    {
     "cell_type": "code",
     "collapsed": false,
     "input": [
      "#dev = usb.core.find()"
     ],
     "language": "python",
     "metadata": {},
     "outputs": [],
     "prompt_number": 13
    },
    {
     "cell_type": "code",
     "collapsed": false,
     "input": [
      "#import pyttsx"
     ],
     "language": "python",
     "metadata": {},
     "outputs": [],
     "prompt_number": 14
    },
    {
     "cell_type": "code",
     "collapsed": false,
     "input": [
      "#engine = pyttsx.init()\n",
      "\n",
      "#engine.say('The quick brown fox jumped over the lazy dog.')\n",
      "#engine.runAndWait()"
     ],
     "language": "python",
     "metadata": {},
     "outputs": [],
     "prompt_number": 15
    },
    {
     "cell_type": "code",
     "collapsed": false,
     "input": [
      "#import serial"
     ],
     "language": "python",
     "metadata": {},
     "outputs": [],
     "prompt_number": 17
    },
    {
     "cell_type": "code",
     "collapsed": false,
     "input": [
      "#serial.time"
     ],
     "language": "python",
     "metadata": {},
     "outputs": [],
     "prompt_number": 18
    },
    {
     "cell_type": "code",
     "collapsed": false,
     "input": [
      "busses = usb.busses()"
     ],
     "language": "python",
     "metadata": {},
     "outputs": [
      {
       "ename": "NameError",
       "evalue": "name 'usb' is not defined",
       "output_type": "pyerr",
       "traceback": [
        "\u001b[1;31m---------------------------------------------------------------------------\u001b[0m\n\u001b[1;31mNameError\u001b[0m                                 Traceback (most recent call last)",
        "\u001b[1;32m<ipython-input-20-a5c7e51db938>\u001b[0m in \u001b[0;36m<module>\u001b[1;34m()\u001b[0m\n\u001b[1;32m----> 1\u001b[1;33m \u001b[0mbusses\u001b[0m \u001b[1;33m=\u001b[0m \u001b[0musb\u001b[0m\u001b[1;33m.\u001b[0m\u001b[0mbusses\u001b[0m\u001b[1;33m(\u001b[0m\u001b[1;33m)\u001b[0m\u001b[1;33m\u001b[0m\u001b[0m\n\u001b[0m",
        "\u001b[1;31mNameError\u001b[0m: name 'usb' is not defined"
       ]
      }
     ],
     "prompt_number": 20
    },
    {
     "cell_type": "code",
     "collapsed": false,
     "input": [
      "for bus in busses:\n",
      "    print bus"
     ],
     "language": "python",
     "metadata": {},
     "outputs": [
      {
       "ename": "NameError",
       "evalue": "name 'busses' is not defined",
       "output_type": "pyerr",
       "traceback": [
        "\u001b[1;31m---------------------------------------------------------------------------\u001b[0m\n\u001b[1;31mNameError\u001b[0m                                 Traceback (most recent call last)",
        "\u001b[1;32m<ipython-input-21-bd8a70c620a6>\u001b[0m in \u001b[0;36m<module>\u001b[1;34m()\u001b[0m\n\u001b[1;32m----> 1\u001b[1;33m \u001b[1;32mfor\u001b[0m \u001b[0mbus\u001b[0m \u001b[1;32min\u001b[0m \u001b[0mbusses\u001b[0m\u001b[1;33m:\u001b[0m\u001b[1;33m\u001b[0m\u001b[0m\n\u001b[0m\u001b[0;32m      2\u001b[0m     \u001b[1;32mprint\u001b[0m \u001b[0mbus\u001b[0m\u001b[1;33m\u001b[0m\u001b[0m\n",
        "\u001b[1;31mNameError\u001b[0m: name 'busses' is not defined"
       ]
      }
     ],
     "prompt_number": 21
    },
    {
     "cell_type": "code",
     "collapsed": false,
     "input": [
      "for bus in busses:\n",
      "  devices = bus.devices\n",
      "  for dev in devices:\n",
      "    print repr(dev)\n",
      "    print \"Device:\", dev.filename\n",
      "    print \"  idVendor: %d (0x%04x)\" % (dev.idVendor, dev.idVendor)\n",
      "    print \"  idProduct: %d (0x%04x)\" % (dev.idProduct, dev.idProduct)\n",
      "    print \"Manufacturer:\", dev.iManufacturer\n",
      "    print \"Serial:\", dev.iSerialNumber\n",
      "    print \"Product:\", dev.iProduct"
     ],
     "language": "python",
     "metadata": {},
     "outputs": [
      {
       "ename": "NameError",
       "evalue": "name 'busses' is not defined",
       "output_type": "pyerr",
       "traceback": [
        "\u001b[1;31m---------------------------------------------------------------------------\u001b[0m\n\u001b[1;31mNameError\u001b[0m                                 Traceback (most recent call last)",
        "\u001b[1;32m<ipython-input-22-6786af971ef0>\u001b[0m in \u001b[0;36m<module>\u001b[1;34m()\u001b[0m\n\u001b[1;32m----> 1\u001b[1;33m \u001b[1;32mfor\u001b[0m \u001b[0mbus\u001b[0m \u001b[1;32min\u001b[0m \u001b[0mbusses\u001b[0m\u001b[1;33m:\u001b[0m\u001b[1;33m\u001b[0m\u001b[0m\n\u001b[0m\u001b[0;32m      2\u001b[0m   \u001b[0mdevices\u001b[0m \u001b[1;33m=\u001b[0m \u001b[0mbus\u001b[0m\u001b[1;33m.\u001b[0m\u001b[0mdevices\u001b[0m\u001b[1;33m\u001b[0m\u001b[0m\n\u001b[0;32m      3\u001b[0m   \u001b[1;32mfor\u001b[0m \u001b[0mdev\u001b[0m \u001b[1;32min\u001b[0m \u001b[0mdevices\u001b[0m\u001b[1;33m:\u001b[0m\u001b[1;33m\u001b[0m\u001b[0m\n\u001b[0;32m      4\u001b[0m     \u001b[1;32mprint\u001b[0m \u001b[0mrepr\u001b[0m\u001b[1;33m(\u001b[0m\u001b[0mdev\u001b[0m\u001b[1;33m)\u001b[0m\u001b[1;33m\u001b[0m\u001b[0m\n\u001b[0;32m      5\u001b[0m     \u001b[1;32mprint\u001b[0m \u001b[1;34m\"Device:\"\u001b[0m\u001b[1;33m,\u001b[0m \u001b[0mdev\u001b[0m\u001b[1;33m.\u001b[0m\u001b[0mfilename\u001b[0m\u001b[1;33m\u001b[0m\u001b[0m\n",
        "\u001b[1;31mNameError\u001b[0m: name 'busses' is not defined"
       ]
      }
     ],
     "prompt_number": 22
    },
    {
     "cell_type": "code",
     "collapsed": false,
     "input": [
      "dev"
     ],
     "language": "python",
     "metadata": {},
     "outputs": [
      {
       "ename": "NameError",
       "evalue": "name 'dev' is not defined",
       "output_type": "pyerr",
       "traceback": [
        "\u001b[1;31m---------------------------------------------------------------------------\u001b[0m\n\u001b[1;31mNameError\u001b[0m                                 Traceback (most recent call last)",
        "\u001b[1;32m<ipython-input-23-8eec1e97ac60>\u001b[0m in \u001b[0;36m<module>\u001b[1;34m()\u001b[0m\n\u001b[1;32m----> 1\u001b[1;33m \u001b[0mdev\u001b[0m\u001b[1;33m\u001b[0m\u001b[0m\n\u001b[0m",
        "\u001b[1;31mNameError\u001b[0m: name 'dev' is not defined"
       ]
      }
     ],
     "prompt_number": 23
    },
    {
     "cell_type": "code",
     "collapsed": false,
     "input": [
      "dev.idProduct"
     ],
     "language": "python",
     "metadata": {},
     "outputs": [
      {
       "ename": "NameError",
       "evalue": "name 'dev' is not defined",
       "output_type": "pyerr",
       "traceback": [
        "\u001b[1;31m---------------------------------------------------------------------------\u001b[0m\n\u001b[1;31mNameError\u001b[0m                                 Traceback (most recent call last)",
        "\u001b[1;32m<ipython-input-24-9c1dccf553fb>\u001b[0m in \u001b[0;36m<module>\u001b[1;34m()\u001b[0m\n\u001b[1;32m----> 1\u001b[1;33m \u001b[0mdev\u001b[0m\u001b[1;33m.\u001b[0m\u001b[0midProduct\u001b[0m\u001b[1;33m\u001b[0m\u001b[0m\n\u001b[0m",
        "\u001b[1;31mNameError\u001b[0m: name 'dev' is not defined"
       ]
      }
     ],
     "prompt_number": 24
    },
    {
     "cell_type": "code",
     "collapsed": false,
     "input": [
      "dev.idVendor"
     ],
     "language": "python",
     "metadata": {},
     "outputs": [
      {
       "ename": "NameError",
       "evalue": "name 'dev' is not defined",
       "output_type": "pyerr",
       "traceback": [
        "\u001b[1;31m---------------------------------------------------------------------------\u001b[0m\n\u001b[1;31mNameError\u001b[0m                                 Traceback (most recent call last)",
        "\u001b[1;32m<ipython-input-25-f32fc261c73c>\u001b[0m in \u001b[0;36m<module>\u001b[1;34m()\u001b[0m\n\u001b[1;32m----> 1\u001b[1;33m \u001b[0mdev\u001b[0m\u001b[1;33m.\u001b[0m\u001b[0midVendor\u001b[0m\u001b[1;33m\u001b[0m\u001b[0m\n\u001b[0m",
        "\u001b[1;31mNameError\u001b[0m: name 'dev' is not defined"
       ]
      }
     ],
     "prompt_number": 25
    },
    {
     "cell_type": "code",
     "collapsed": false,
     "input": [
      "dev.iManufacturer"
     ],
     "language": "python",
     "metadata": {},
     "outputs": [
      {
       "ename": "NameError",
       "evalue": "name 'dev' is not defined",
       "output_type": "pyerr",
       "traceback": [
        "\u001b[1;31m---------------------------------------------------------------------------\u001b[0m\n\u001b[1;31mNameError\u001b[0m                                 Traceback (most recent call last)",
        "\u001b[1;32m<ipython-input-26-fe2293c371c7>\u001b[0m in \u001b[0;36m<module>\u001b[1;34m()\u001b[0m\n\u001b[1;32m----> 1\u001b[1;33m \u001b[0mdev\u001b[0m\u001b[1;33m.\u001b[0m\u001b[0miManufacturer\u001b[0m\u001b[1;33m\u001b[0m\u001b[0m\n\u001b[0m",
        "\u001b[1;31mNameError\u001b[0m: name 'dev' is not defined"
       ]
      }
     ],
     "prompt_number": 26
    },
    {
     "cell_type": "code",
     "collapsed": false,
     "input": [
      "dev.iSerialNumber"
     ],
     "language": "python",
     "metadata": {},
     "outputs": [
      {
       "ename": "NameError",
       "evalue": "name 'dev' is not defined",
       "output_type": "pyerr",
       "traceback": [
        "\u001b[1;31m---------------------------------------------------------------------------\u001b[0m\n\u001b[1;31mNameError\u001b[0m                                 Traceback (most recent call last)",
        "\u001b[1;32m<ipython-input-27-781840b70217>\u001b[0m in \u001b[0;36m<module>\u001b[1;34m()\u001b[0m\n\u001b[1;32m----> 1\u001b[1;33m \u001b[0mdev\u001b[0m\u001b[1;33m.\u001b[0m\u001b[0miSerialNumber\u001b[0m\u001b[1;33m\u001b[0m\u001b[0m\n\u001b[0m",
        "\u001b[1;31mNameError\u001b[0m: name 'dev' is not defined"
       ]
      }
     ],
     "prompt_number": 27
    },
    {
     "cell_type": "code",
     "collapsed": false,
     "input": [
      "repr(dev)"
     ],
     "language": "python",
     "metadata": {},
     "outputs": [
      {
       "ename": "NameError",
       "evalue": "name 'dev' is not defined",
       "output_type": "pyerr",
       "traceback": [
        "\u001b[1;31m---------------------------------------------------------------------------\u001b[0m\n\u001b[1;31mNameError\u001b[0m                                 Traceback (most recent call last)",
        "\u001b[1;32m<ipython-input-28-9309342b34fb>\u001b[0m in \u001b[0;36m<module>\u001b[1;34m()\u001b[0m\n\u001b[1;32m----> 1\u001b[1;33m \u001b[0mrepr\u001b[0m\u001b[1;33m(\u001b[0m\u001b[0mdev\u001b[0m\u001b[1;33m)\u001b[0m\u001b[1;33m\u001b[0m\u001b[0m\n\u001b[0m",
        "\u001b[1;31mNameError\u001b[0m: name 'dev' is not defined"
       ]
      }
     ],
     "prompt_number": 28
    },
    {
     "cell_type": "code",
     "collapsed": false,
     "input": [
      "device_re = re.compile(\"Bus\\s+(?P<bus>\\d+)\\s+Device\\s+(?P<device>\\d+).+ID\\s(?P<id>\\w+:\\w+)\\s(?P<tag>.+)$\", re.I)\n",
      "df = subprocess.check_output(\"lsusb\", shell=True)\n",
      "devices = []\n",
      "for i in df.split('\\n'):\n",
      "    if i:\n",
      "        info = device_re.match(i)\n",
      "        if info:\n",
      "            dinfo = info.groupdict()\n",
      "            dinfo['device'] = '/dev/bus/usb/%s/%s' % (dinfo.pop('bus'), dinfo.pop('device'))\n",
      "            devices.append(dinfo)\n",
      "print devices"
     ],
     "language": "python",
     "metadata": {},
     "outputs": [
      {
       "ename": "CalledProcessError",
       "evalue": "Command 'lsusb' returned non-zero exit status 127",
       "output_type": "pyerr",
       "traceback": [
        "\u001b[1;31m---------------------------------------------------------------------------\u001b[0m\n\u001b[1;31mCalledProcessError\u001b[0m                        Traceback (most recent call last)",
        "\u001b[1;32m<ipython-input-29-b22464671b27>\u001b[0m in \u001b[0;36m<module>\u001b[1;34m()\u001b[0m\n\u001b[0;32m      1\u001b[0m \u001b[0mdevice_re\u001b[0m \u001b[1;33m=\u001b[0m \u001b[0mre\u001b[0m\u001b[1;33m.\u001b[0m\u001b[0mcompile\u001b[0m\u001b[1;33m(\u001b[0m\u001b[1;34m\"Bus\\s+(?P<bus>\\d+)\\s+Device\\s+(?P<device>\\d+).+ID\\s(?P<id>\\w+:\\w+)\\s(?P<tag>.+)$\"\u001b[0m\u001b[1;33m,\u001b[0m \u001b[0mre\u001b[0m\u001b[1;33m.\u001b[0m\u001b[0mI\u001b[0m\u001b[1;33m)\u001b[0m\u001b[1;33m\u001b[0m\u001b[0m\n\u001b[1;32m----> 2\u001b[1;33m \u001b[0mdf\u001b[0m \u001b[1;33m=\u001b[0m \u001b[0msubprocess\u001b[0m\u001b[1;33m.\u001b[0m\u001b[0mcheck_output\u001b[0m\u001b[1;33m(\u001b[0m\u001b[1;34m\"lsusb\"\u001b[0m\u001b[1;33m,\u001b[0m \u001b[0mshell\u001b[0m\u001b[1;33m=\u001b[0m\u001b[0mTrue\u001b[0m\u001b[1;33m)\u001b[0m\u001b[1;33m\u001b[0m\u001b[0m\n\u001b[0m\u001b[0;32m      3\u001b[0m \u001b[0mdevices\u001b[0m \u001b[1;33m=\u001b[0m \u001b[1;33m[\u001b[0m\u001b[1;33m]\u001b[0m\u001b[1;33m\u001b[0m\u001b[0m\n\u001b[0;32m      4\u001b[0m \u001b[1;32mfor\u001b[0m \u001b[0mi\u001b[0m \u001b[1;32min\u001b[0m \u001b[0mdf\u001b[0m\u001b[1;33m.\u001b[0m\u001b[0msplit\u001b[0m\u001b[1;33m(\u001b[0m\u001b[1;34m'\\n'\u001b[0m\u001b[1;33m)\u001b[0m\u001b[1;33m:\u001b[0m\u001b[1;33m\u001b[0m\u001b[0m\n\u001b[0;32m      5\u001b[0m     \u001b[1;32mif\u001b[0m \u001b[0mi\u001b[0m\u001b[1;33m:\u001b[0m\u001b[1;33m\u001b[0m\u001b[0m\n",
        "\u001b[1;32m/usr/lib/python2.7/subprocess.pyc\u001b[0m in \u001b[0;36mcheck_output\u001b[1;34m(*popenargs, **kwargs)\u001b[0m\n\u001b[0;32m    542\u001b[0m         \u001b[1;32mif\u001b[0m \u001b[0mcmd\u001b[0m \u001b[1;32mis\u001b[0m \u001b[0mNone\u001b[0m\u001b[1;33m:\u001b[0m\u001b[1;33m\u001b[0m\u001b[0m\n\u001b[0;32m    543\u001b[0m             \u001b[0mcmd\u001b[0m \u001b[1;33m=\u001b[0m \u001b[0mpopenargs\u001b[0m\u001b[1;33m[\u001b[0m\u001b[1;36m0\u001b[0m\u001b[1;33m]\u001b[0m\u001b[1;33m\u001b[0m\u001b[0m\n\u001b[1;32m--> 544\u001b[1;33m         \u001b[1;32mraise\u001b[0m \u001b[0mCalledProcessError\u001b[0m\u001b[1;33m(\u001b[0m\u001b[0mretcode\u001b[0m\u001b[1;33m,\u001b[0m \u001b[0mcmd\u001b[0m\u001b[1;33m,\u001b[0m \u001b[0moutput\u001b[0m\u001b[1;33m=\u001b[0m\u001b[0moutput\u001b[0m\u001b[1;33m)\u001b[0m\u001b[1;33m\u001b[0m\u001b[0m\n\u001b[0m\u001b[0;32m    545\u001b[0m     \u001b[1;32mreturn\u001b[0m \u001b[0moutput\u001b[0m\u001b[1;33m\u001b[0m\u001b[0m\n\u001b[0;32m    546\u001b[0m \u001b[1;33m\u001b[0m\u001b[0m\n",
        "\u001b[1;31mCalledProcessError\u001b[0m: Command 'lsusb' returned non-zero exit status 127"
       ]
      }
     ],
     "prompt_number": 29
    },
    {
     "cell_type": "code",
     "collapsed": false,
     "input": [
      "ledec = len(devices)"
     ],
     "language": "python",
     "metadata": {},
     "outputs": [
      {
       "ename": "NameError",
       "evalue": "name 'devices' is not defined",
       "output_type": "pyerr",
       "traceback": [
        "\u001b[1;31m---------------------------------------------------------------------------\u001b[0m\n\u001b[1;31mNameError\u001b[0m                                 Traceback (most recent call last)",
        "\u001b[1;32m<ipython-input-30-3beff1e9fcb9>\u001b[0m in \u001b[0;36m<module>\u001b[1;34m()\u001b[0m\n\u001b[1;32m----> 1\u001b[1;33m \u001b[0mledec\u001b[0m \u001b[1;33m=\u001b[0m \u001b[0mlen\u001b[0m\u001b[1;33m(\u001b[0m\u001b[0mdevices\u001b[0m\u001b[1;33m)\u001b[0m\u001b[1;33m\u001b[0m\u001b[0m\n\u001b[0m",
        "\u001b[1;31mNameError\u001b[0m: name 'devices' is not defined"
       ]
      }
     ],
     "prompt_number": 30
    },
    {
     "cell_type": "code",
     "collapsed": false,
     "input": [
      "for devz in devices[0]:\n",
      "    #print devz\n",
      "    print devices[0][devz]"
     ],
     "language": "python",
     "metadata": {},
     "outputs": [
      {
       "ename": "NameError",
       "evalue": "name 'devices' is not defined",
       "output_type": "pyerr",
       "traceback": [
        "\u001b[1;31m---------------------------------------------------------------------------\u001b[0m\n\u001b[1;31mNameError\u001b[0m                                 Traceback (most recent call last)",
        "\u001b[1;32m<ipython-input-31-50dfd57bc797>\u001b[0m in \u001b[0;36m<module>\u001b[1;34m()\u001b[0m\n\u001b[1;32m----> 1\u001b[1;33m \u001b[1;32mfor\u001b[0m \u001b[0mdevz\u001b[0m \u001b[1;32min\u001b[0m \u001b[0mdevices\u001b[0m\u001b[1;33m[\u001b[0m\u001b[1;36m0\u001b[0m\u001b[1;33m]\u001b[0m\u001b[1;33m:\u001b[0m\u001b[1;33m\u001b[0m\u001b[0m\n\u001b[0m\u001b[0;32m      2\u001b[0m     \u001b[1;31m#print devz\u001b[0m\u001b[1;33m\u001b[0m\u001b[1;33m\u001b[0m\u001b[0m\n\u001b[0;32m      3\u001b[0m     \u001b[1;32mprint\u001b[0m \u001b[0mdevices\u001b[0m\u001b[1;33m[\u001b[0m\u001b[1;36m0\u001b[0m\u001b[1;33m]\u001b[0m\u001b[1;33m[\u001b[0m\u001b[0mdevz\u001b[0m\u001b[1;33m]\u001b[0m\u001b[1;33m\u001b[0m\u001b[0m\n",
        "\u001b[1;31mNameError\u001b[0m: name 'devices' is not defined"
       ]
      }
     ],
     "prompt_number": 31
    },
    {
     "cell_type": "code",
     "collapsed": false,
     "input": [
      "#tesz = pd.DataFrame('test')"
     ],
     "language": "python",
     "metadata": {},
     "outputs": [],
     "prompt_number": 32
    },
    {
     "cell_type": "code",
     "collapsed": false,
     "input": [
      "namdev = ({})"
     ],
     "language": "python",
     "metadata": {},
     "outputs": [],
     "prompt_number": 33
    },
    {
     "cell_type": "code",
     "collapsed": false,
     "input": [
      "for devi in devices:\n",
      "    print devi['tag']\n",
      "    namdev.update({devi['tag']:devi['id']})"
     ],
     "language": "python",
     "metadata": {},
     "outputs": [
      {
       "ename": "NameError",
       "evalue": "name 'devices' is not defined",
       "output_type": "pyerr",
       "traceback": [
        "\u001b[1;31m---------------------------------------------------------------------------\u001b[0m\n\u001b[1;31mNameError\u001b[0m                                 Traceback (most recent call last)",
        "\u001b[1;32m<ipython-input-34-c0fa8ad9fed6>\u001b[0m in \u001b[0;36m<module>\u001b[1;34m()\u001b[0m\n\u001b[1;32m----> 1\u001b[1;33m \u001b[1;32mfor\u001b[0m \u001b[0mdevi\u001b[0m \u001b[1;32min\u001b[0m \u001b[0mdevices\u001b[0m\u001b[1;33m:\u001b[0m\u001b[1;33m\u001b[0m\u001b[0m\n\u001b[0m\u001b[0;32m      2\u001b[0m     \u001b[1;32mprint\u001b[0m \u001b[0mdevi\u001b[0m\u001b[1;33m[\u001b[0m\u001b[1;34m'tag'\u001b[0m\u001b[1;33m]\u001b[0m\u001b[1;33m\u001b[0m\u001b[0m\n\u001b[0;32m      3\u001b[0m     \u001b[0mnamdev\u001b[0m\u001b[1;33m.\u001b[0m\u001b[0mupdate\u001b[0m\u001b[1;33m(\u001b[0m\u001b[1;33m{\u001b[0m\u001b[0mdevi\u001b[0m\u001b[1;33m[\u001b[0m\u001b[1;34m'tag'\u001b[0m\u001b[1;33m]\u001b[0m\u001b[1;33m:\u001b[0m\u001b[0mdevi\u001b[0m\u001b[1;33m[\u001b[0m\u001b[1;34m'id'\u001b[0m\u001b[1;33m]\u001b[0m\u001b[1;33m}\u001b[0m\u001b[1;33m)\u001b[0m\u001b[1;33m\u001b[0m\u001b[0m\n",
        "\u001b[1;31mNameError\u001b[0m: name 'devices' is not defined"
       ]
      }
     ],
     "prompt_number": 34
    },
    {
     "cell_type": "code",
     "collapsed": false,
     "input": [
      "namdev"
     ],
     "language": "python",
     "metadata": {},
     "outputs": [
      {
       "metadata": {},
       "output_type": "pyout",
       "prompt_number": 35,
       "text": [
        "{}"
       ]
      }
     ],
     "prompt_number": 35
    },
    {
     "cell_type": "code",
     "collapsed": false,
     "input": [
      "devices[0]"
     ],
     "language": "python",
     "metadata": {},
     "outputs": [
      {
       "ename": "NameError",
       "evalue": "name 'devices' is not defined",
       "output_type": "pyerr",
       "traceback": [
        "\u001b[1;31m---------------------------------------------------------------------------\u001b[0m\n\u001b[1;31mNameError\u001b[0m                                 Traceback (most recent call last)",
        "\u001b[1;32m<ipython-input-36-d62acfcd1e42>\u001b[0m in \u001b[0;36m<module>\u001b[1;34m()\u001b[0m\n\u001b[1;32m----> 1\u001b[1;33m \u001b[0mdevices\u001b[0m\u001b[1;33m[\u001b[0m\u001b[1;36m0\u001b[0m\u001b[1;33m]\u001b[0m\u001b[1;33m\u001b[0m\u001b[0m\n\u001b[0m",
        "\u001b[1;31mNameError\u001b[0m: name 'devices' is not defined"
       ]
      }
     ],
     "prompt_number": 36
    },
    {
     "cell_type": "code",
     "collapsed": false,
     "input": [
      "susb = pd.Series(namdev)"
     ],
     "language": "python",
     "metadata": {},
     "outputs": [],
     "prompt_number": 33
    },
    {
     "cell_type": "code",
     "collapsed": false,
     "input": [
      "usbdf = pd.DataFrame(susb)"
     ],
     "language": "python",
     "metadata": {},
     "outputs": [],
     "prompt_number": 34
    },
    {
     "cell_type": "code",
     "collapsed": false,
     "input": [
      "usbdf"
     ],
     "language": "python",
     "metadata": {},
     "outputs": [
      {
       "html": [
        "<div style=\"max-height:1000px;max-width:1500px;overflow:auto;\">\n",
        "<table border=\"1\">\n",
        "  <thead>\n",
        "    <tr>\n",
        "      <th></th>\n",
        "      <th>0</th>\n",
        "    </tr>\n",
        "  </thead>\n",
        "  <tbody>\n",
        "    <tr>\n",
        "      <td><strong>Genesys Logic, Inc. USB-2.0 4-Port HUB</strong></td>\n",
        "      <td> 05e3:0608</td>\n",
        "    </tr>\n",
        "    <tr>\n",
        "      <td><strong>Lexar Media, Inc. </strong></td>\n",
        "      <td> 05dc:a815</td>\n",
        "    </tr>\n",
        "    <tr>\n",
        "      <td><strong>Linux Foundation 2.0 root hub</strong></td>\n",
        "      <td> 1d6b:0002</td>\n",
        "    </tr>\n",
        "    <tr>\n",
        "      <td><strong>Microsoft Corp. Wired Keyboard 600</strong></td>\n",
        "      <td> 045e:0750</td>\n",
        "    </tr>\n",
        "    <tr>\n",
        "      <td><strong>Standard Microsystems Corp. </strong></td>\n",
        "      <td> 0424:ec00</td>\n",
        "    </tr>\n",
        "  </tbody>\n",
        "</table>\n",
        "</div>"
       ],
       "metadata": {},
       "output_type": "pyout",
       "prompt_number": 35,
       "text": [
        "                                                0\n",
        "Genesys Logic, Inc. USB-2.0 4-Port HUB  05e3:0608\n",
        "Lexar Media, Inc.                       05dc:a815\n",
        "Linux Foundation 2.0 root hub           1d6b:0002\n",
        "Microsoft Corp. Wired Keyboard 600      045e:0750\n",
        "Standard Microsystems Corp.             0424:ec00"
       ]
      }
     ],
     "prompt_number": 35
    },
    {
     "cell_type": "code",
     "collapsed": false,
     "input": [
      "#for dev in df.values:\n",
      "#    for bepb in dev:\n",
      "        #print bepb\n",
      "#        print bepb['device']\n",
      "        #s.append(bepb['tag'])\n",
      "#        print bepb['tag']\n",
      "#        print bepb['id']"
     ],
     "language": "python",
     "metadata": {},
     "outputs": [],
     "prompt_number": 36
    },
    {
     "cell_type": "code",
     "collapsed": false,
     "input": [
      "str(devices)"
     ],
     "language": "python",
     "metadata": {},
     "outputs": [
      {
       "metadata": {},
       "output_type": "pyout",
       "prompt_number": 37,
       "text": [
        "\"[{'device': '/dev/bus/usb/001/002', 'tag': 'Standard Microsystems Corp. ', 'id': '0424:9514'}, {'device': '/dev/bus/usb/001/001', 'tag': 'Linux Foundation 2.0 root hub', 'id': '1d6b:0002'}, {'device': '/dev/bus/usb/001/003', 'tag': 'Standard Microsystems Corp. ', 'id': '0424:ec00'}, {'device': '/dev/bus/usb/001/004', 'tag': 'Genesys Logic, Inc. USB-2.0 4-Port HUB', 'id': '05e3:0608'}, {'device': '/dev/bus/usb/001/005', 'tag': 'Microsoft Corp. Wired Keyboard 600', 'id': '045e:0750'}, {'device': '/dev/bus/usb/001/006', 'tag': 'Lexar Media, Inc. ', 'id': '05dc:a815'}]\""
       ]
      }
     ],
     "prompt_number": 37
    },
    {
     "cell_type": "code",
     "collapsed": false,
     "input": [
      "usbhtml = usbdf.to_html()\n",
      "ps = open('/etc/motion/ps', 'r')\n",
      "passW = ps.readline()"
     ],
     "language": "python",
     "metadata": {},
     "outputs": [],
     "prompt_number": 38
    },
    {
     "cell_type": "code",
     "collapsed": false,
     "input": [
      "fromz = 'brobeurstudios@gmail.com'  \n",
      "toz = 'will@artcontrol.me'  \n",
      "msg = str(devices)\n",
      "\n",
      "# Credentials (if needed)  \n",
      "username = 'brobeurstudios@gmail.com'\n",
      "password = passW   \n",
      "# The actual mail send  \n",
      "server = smtplib.SMTP('smtp.gmail.com:587')  \n",
      "server.starttls()  \n",
      "server.login(username,password)  \n",
      "server.sendmail(fromz, toz, msg)  "
     ],
     "language": "python",
     "metadata": {},
     "outputs": [
      {
       "metadata": {},
       "output_type": "pyout",
       "prompt_number": 39,
       "text": [
        "{}"
       ]
      }
     ],
     "prompt_number": 39
    },
    {
     "cell_type": "code",
     "collapsed": false,
     "input": [
      "#dev = usb.core.find(idVendor='1d6b:0002')\n",
      "\n",
      "# was it found?\n",
      "#if dev is None:\n",
      "#    raise ValueError('Device not found')"
     ],
     "language": "python",
     "metadata": {},
     "outputs": [],
     "prompt_number": 40
    },
    {
     "cell_type": "code",
     "collapsed": false,
     "input": [
      "usbus = os.listdir('/home/wcmckee')"
     ],
     "language": "python",
     "metadata": {},
     "outputs": [],
     "prompt_number": 41
    },
    {
     "cell_type": "code",
     "collapsed": false,
     "input": [
      "chelis = []"
     ],
     "language": "python",
     "metadata": {},
     "outputs": [],
     "prompt_number": 42
    },
    {
     "cell_type": "code",
     "collapsed": false,
     "input": [
      "for usbz in usbus:\n",
      "    #chelis.append(os.listdir(usbz))\n",
      "    print usbz"
     ],
     "language": "python",
     "metadata": {},
     "outputs": [
      {
       "output_type": "stream",
       "stream": "stdout",
       "text": [
        ".bashrc\n",
        ".bash_logout\n",
        "Desktop\n",
        "build\n",
        ".xsession-errors\n",
        ".local\n",
        "wcmckee-notebook\n",
        "whai\n",
        "posts\n",
        ".ssh\n",
        ".gitconfig\n",
        ".gvfs\n",
        "motsav\n",
        ".pulse\n",
        ".profile\n",
        ".Xauthority\n",
        ".bash_history\n",
        "pistore.desktop\n",
        ".cache\n",
        "wcmckee\n",
        "visignsys\n",
        "test.txt\n",
        "Camera\n",
        ".ipython\n",
        ".pulse-cookie\n",
        ".matplotlib\n",
        ".config\n",
        ".dbus\n",
        "rgdrecentReference\n",
        "artcontroldrawsyou\n",
        ".thumbnails\n"
       ]
      }
     ],
     "prompt_number": 91
    },
    {
     "cell_type": "code",
     "collapsed": false,
     "input": [],
     "language": "python",
     "metadata": {},
     "outputs": []
    },
    {
     "cell_type": "code",
     "collapsed": false,
     "input": [],
     "language": "python",
     "metadata": {},
     "outputs": []
    },
    {
     "cell_type": "code",
     "collapsed": false,
     "input": [
      "os.listdir('/dev/input')"
     ],
     "language": "python",
     "metadata": {},
     "outputs": []
    },
    {
     "cell_type": "code",
     "collapsed": false,
     "input": [
      "#runpan = os.system('python wcpanda.py')"
     ],
     "language": "python",
     "metadata": {},
     "outputs": [],
     "prompt_number": 44
    },
    {
     "cell_type": "code",
     "collapsed": false,
     "input": [
      "#runpan"
     ],
     "language": "python",
     "metadata": {},
     "outputs": [],
     "prompt_number": 45
    },
    {
     "cell_type": "code",
     "collapsed": false,
     "input": [
      "#runpan.denominator"
     ],
     "language": "python",
     "metadata": {},
     "outputs": [],
     "prompt_number": 48
    },
    {
     "cell_type": "code",
     "collapsed": false,
     "input": [
      "camjpg = os.listdir('/home/wcmckee/')"
     ],
     "language": "python",
     "metadata": {},
     "outputs": [],
     "prompt_number": 62
    },
    {
     "cell_type": "code",
     "collapsed": false,
     "input": [
      "for cjp in camjpg:\n",
      "    print cjp\n",
      "    "
     ],
     "language": "python",
     "metadata": {},
     "outputs": [
      {
       "output_type": "stream",
       "stream": "stdout",
       "text": [
        ".bashrc\n",
        ".bash_logout\n",
        "Desktop\n",
        "build\n",
        ".xsession-errors\n",
        ".local\n",
        "wcmckee-notebook\n",
        "whai\n",
        "posts\n",
        ".ssh\n",
        ".gitconfig\n",
        ".gvfs\n",
        "motsav\n",
        ".pulse\n",
        ".profile\n",
        ".Xauthority\n",
        ".bash_history\n",
        "pistore.desktop\n",
        ".cache\n",
        "wcmckee\n",
        "visignsys\n",
        "test.txt\n",
        "Camera\n",
        ".ipython\n",
        ".pulse-cookie\n",
        ".matplotlib\n",
        ".config\n",
        ".dbus\n",
        "rgdrecentReference\n",
        "artcontroldrawsyou\n",
        ".thumbnails\n"
       ]
      }
     ],
     "prompt_number": 63
    },
    {
     "cell_type": "code",
     "collapsed": false,
     "input": [
      "jpser = pd.Series(camjpg)"
     ],
     "language": "python",
     "metadata": {},
     "outputs": [],
     "prompt_number": 64
    },
    {
     "cell_type": "code",
     "collapsed": false,
     "input": [
      "jpser"
     ],
     "language": "python",
     "metadata": {},
     "outputs": [
      {
       "metadata": {},
       "output_type": "pyout",
       "prompt_number": 65,
       "text": [
        "0                .bashrc\n",
        "1           .bash_logout\n",
        "2                Desktop\n",
        "3                  build\n",
        "4       .xsession-errors\n",
        "5                 .local\n",
        "6       wcmckee-notebook\n",
        "7                   whai\n",
        "8                  posts\n",
        "9                   .ssh\n",
        "10            .gitconfig\n",
        "11                 .gvfs\n",
        "12                motsav\n",
        "13                .pulse\n",
        "14              .profile\n",
        "15           .Xauthority\n",
        "16         .bash_history\n",
        "17       pistore.desktop\n",
        "18                .cache\n",
        "19               wcmckee\n",
        "20             visignsys\n",
        "21              test.txt\n",
        "22                Camera\n",
        "23              .ipython\n",
        "24         .pulse-cookie\n",
        "25           .matplotlib\n",
        "26               .config\n",
        "27                 .dbus\n",
        "28    rgdrecentReference\n",
        "29    artcontroldrawsyou\n",
        "30           .thumbnails"
       ]
      }
     ],
     "prompt_number": 65
    },
    {
     "cell_type": "code",
     "collapsed": false,
     "input": [
      "df = pd.DataFrame(jpser)"
     ],
     "language": "python",
     "metadata": {},
     "outputs": [],
     "prompt_number": 66
    },
    {
     "cell_type": "code",
     "collapsed": false,
     "input": [
      "df"
     ],
     "language": "python",
     "metadata": {},
     "outputs": [
      {
       "html": [
        "<div style=\"max-height:1000px;max-width:1500px;overflow:auto;\">\n",
        "<table border=\"1\">\n",
        "  <thead>\n",
        "    <tr>\n",
        "      <th></th>\n",
        "      <th>0</th>\n",
        "    </tr>\n",
        "  </thead>\n",
        "  <tbody>\n",
        "    <tr>\n",
        "      <td><strong>0</strong></td>\n",
        "      <td>            .bashrc</td>\n",
        "    </tr>\n",
        "    <tr>\n",
        "      <td><strong>1</strong></td>\n",
        "      <td>       .bash_logout</td>\n",
        "    </tr>\n",
        "    <tr>\n",
        "      <td><strong>2</strong></td>\n",
        "      <td>            Desktop</td>\n",
        "    </tr>\n",
        "    <tr>\n",
        "      <td><strong>3</strong></td>\n",
        "      <td>              build</td>\n",
        "    </tr>\n",
        "    <tr>\n",
        "      <td><strong>4</strong></td>\n",
        "      <td>   .xsession-errors</td>\n",
        "    </tr>\n",
        "    <tr>\n",
        "      <td><strong>5</strong></td>\n",
        "      <td>             .local</td>\n",
        "    </tr>\n",
        "    <tr>\n",
        "      <td><strong>6</strong></td>\n",
        "      <td>   wcmckee-notebook</td>\n",
        "    </tr>\n",
        "    <tr>\n",
        "      <td><strong>7</strong></td>\n",
        "      <td>               whai</td>\n",
        "    </tr>\n",
        "    <tr>\n",
        "      <td><strong>8</strong></td>\n",
        "      <td>              posts</td>\n",
        "    </tr>\n",
        "    <tr>\n",
        "      <td><strong>9</strong></td>\n",
        "      <td>               .ssh</td>\n",
        "    </tr>\n",
        "    <tr>\n",
        "      <td><strong>10</strong></td>\n",
        "      <td>         .gitconfig</td>\n",
        "    </tr>\n",
        "    <tr>\n",
        "      <td><strong>11</strong></td>\n",
        "      <td>              .gvfs</td>\n",
        "    </tr>\n",
        "    <tr>\n",
        "      <td><strong>12</strong></td>\n",
        "      <td>             motsav</td>\n",
        "    </tr>\n",
        "    <tr>\n",
        "      <td><strong>13</strong></td>\n",
        "      <td>             .pulse</td>\n",
        "    </tr>\n",
        "    <tr>\n",
        "      <td><strong>14</strong></td>\n",
        "      <td>           .profile</td>\n",
        "    </tr>\n",
        "    <tr>\n",
        "      <td><strong>15</strong></td>\n",
        "      <td>        .Xauthority</td>\n",
        "    </tr>\n",
        "    <tr>\n",
        "      <td><strong>16</strong></td>\n",
        "      <td>      .bash_history</td>\n",
        "    </tr>\n",
        "    <tr>\n",
        "      <td><strong>17</strong></td>\n",
        "      <td>    pistore.desktop</td>\n",
        "    </tr>\n",
        "    <tr>\n",
        "      <td><strong>18</strong></td>\n",
        "      <td>             .cache</td>\n",
        "    </tr>\n",
        "    <tr>\n",
        "      <td><strong>19</strong></td>\n",
        "      <td>            wcmckee</td>\n",
        "    </tr>\n",
        "    <tr>\n",
        "      <td><strong>20</strong></td>\n",
        "      <td>          visignsys</td>\n",
        "    </tr>\n",
        "    <tr>\n",
        "      <td><strong>21</strong></td>\n",
        "      <td>           test.txt</td>\n",
        "    </tr>\n",
        "    <tr>\n",
        "      <td><strong>22</strong></td>\n",
        "      <td>             Camera</td>\n",
        "    </tr>\n",
        "    <tr>\n",
        "      <td><strong>23</strong></td>\n",
        "      <td>           .ipython</td>\n",
        "    </tr>\n",
        "    <tr>\n",
        "      <td><strong>24</strong></td>\n",
        "      <td>      .pulse-cookie</td>\n",
        "    </tr>\n",
        "    <tr>\n",
        "      <td><strong>25</strong></td>\n",
        "      <td>        .matplotlib</td>\n",
        "    </tr>\n",
        "    <tr>\n",
        "      <td><strong>26</strong></td>\n",
        "      <td>            .config</td>\n",
        "    </tr>\n",
        "    <tr>\n",
        "      <td><strong>27</strong></td>\n",
        "      <td>              .dbus</td>\n",
        "    </tr>\n",
        "    <tr>\n",
        "      <td><strong>28</strong></td>\n",
        "      <td> rgdrecentReference</td>\n",
        "    </tr>\n",
        "    <tr>\n",
        "      <td><strong>29</strong></td>\n",
        "      <td> artcontroldrawsyou</td>\n",
        "    </tr>\n",
        "    <tr>\n",
        "      <td><strong>30</strong></td>\n",
        "      <td>        .thumbnails</td>\n",
        "    </tr>\n",
        "  </tbody>\n",
        "</table>\n",
        "</div>"
       ],
       "metadata": {},
       "output_type": "pyout",
       "prompt_number": 92,
       "text": [
        "                     0\n",
        "0              .bashrc\n",
        "1         .bash_logout\n",
        "2              Desktop\n",
        "3                build\n",
        "4     .xsession-errors\n",
        "5               .local\n",
        "6     wcmckee-notebook\n",
        "7                 whai\n",
        "8                posts\n",
        "9                 .ssh\n",
        "10          .gitconfig\n",
        "11               .gvfs\n",
        "12              motsav\n",
        "13              .pulse\n",
        "14            .profile\n",
        "15         .Xauthority\n",
        "16       .bash_history\n",
        "17     pistore.desktop\n",
        "18              .cache\n",
        "19             wcmckee\n",
        "20           visignsys\n",
        "21            test.txt\n",
        "22              Camera\n",
        "23            .ipython\n",
        "24       .pulse-cookie\n",
        "25         .matplotlib\n",
        "26             .config\n",
        "27               .dbus\n",
        "28  rgdrecentReference\n",
        "29  artcontroldrawsyou\n",
        "30         .thumbnails"
       ]
      }
     ],
     "prompt_number": 92
    },
    {
     "cell_type": "code",
     "collapsed": false,
     "input": [
      "lslit = []"
     ],
     "language": "python",
     "metadata": {},
     "outputs": [],
     "prompt_number": 77
    },
    {
     "cell_type": "code",
     "collapsed": false,
     "input": [
      "for fgvsl in df.values:\n",
      "    print fgvsl\n",
      "    #str(os.listdir(fgvsl))"
     ],
     "language": "python",
     "metadata": {},
     "outputs": [
      {
       "output_type": "stream",
       "stream": "stdout",
       "text": [
        "[.bashrc]\n",
        "[.bash_logout]\n",
        "[Desktop]\n",
        "[build]\n",
        "[.xsession-errors]\n",
        "[.local]\n",
        "[wcmckee-notebook]\n",
        "[whai]\n",
        "[posts]\n",
        "[.ssh]\n",
        "[.gitconfig]\n",
        "[.gvfs]\n",
        "[motsav]\n",
        "[.pulse]\n",
        "[.profile]\n",
        "[.Xauthority]\n",
        "[.bash_history]\n",
        "[pistore.desktop]\n",
        "[.cache]\n",
        "[wcmckee]\n",
        "[visignsys]\n",
        "[test.txt]\n",
        "[Camera]\n",
        "[.ipython]\n",
        "[.pulse-cookie]\n",
        "[.matplotlib]\n",
        "[.config]\n",
        "[.dbus]\n",
        "[rgdrecentReference]\n",
        "[artcontroldrawsyou]\n",
        "[.thumbnails]\n"
       ]
      }
     ],
     "prompt_number": 82
    },
    {
     "cell_type": "code",
     "collapsed": false,
     "input": [
      "df.sort"
     ],
     "language": "python",
     "metadata": {},
     "outputs": [
      {
       "metadata": {},
       "output_type": "pyout",
       "prompt_number": 83,
       "text": [
        "<bound method DataFrame.sort of                      0\n",
        "0              .bashrc\n",
        "1         .bash_logout\n",
        "2              Desktop\n",
        "3                build\n",
        "4     .xsession-errors\n",
        "5               .local\n",
        "6     wcmckee-notebook\n",
        "7                 whai\n",
        "8                posts\n",
        "9                 .ssh\n",
        "10          .gitconfig\n",
        "11               .gvfs\n",
        "12              motsav\n",
        "13              .pulse\n",
        "14            .profile\n",
        "15         .Xauthority\n",
        "16       .bash_history\n",
        "17     pistore.desktop\n",
        "18              .cache\n",
        "19             wcmckee\n",
        "20           visignsys\n",
        "21            test.txt\n",
        "22              Camera\n",
        "23            .ipython\n",
        "24       .pulse-cookie\n",
        "25         .matplotlib\n",
        "26             .config\n",
        "27               .dbus\n",
        "28  rgdrecentReference\n",
        "29  artcontroldrawsyou\n",
        "30         .thumbnails>"
       ]
      }
     ],
     "prompt_number": 83
    },
    {
     "cell_type": "code",
     "collapsed": false,
     "input": [
      "df.to_html()"
     ],
     "language": "python",
     "metadata": {},
     "outputs": [
      {
       "metadata": {},
       "output_type": "pyout",
       "prompt_number": 84,
       "text": [
        "'<table border=\"1\">\\n  <thead>\\n    <tr>\\n      <th></th>\\n      <th>0</th>\\n    </tr>\\n  </thead>\\n  <tbody>\\n    <tr>\\n      <td><strong>0</strong></td>\\n      <td>            .bashrc</td>\\n    </tr>\\n    <tr>\\n      <td><strong>1</strong></td>\\n      <td>       .bash_logout</td>\\n    </tr>\\n    <tr>\\n      <td><strong>2</strong></td>\\n      <td>            Desktop</td>\\n    </tr>\\n    <tr>\\n      <td><strong>3</strong></td>\\n      <td>              build</td>\\n    </tr>\\n    <tr>\\n      <td><strong>4</strong></td>\\n      <td>   .xsession-errors</td>\\n    </tr>\\n    <tr>\\n      <td><strong>5</strong></td>\\n      <td>             .local</td>\\n    </tr>\\n    <tr>\\n      <td><strong>6</strong></td>\\n      <td>   wcmckee-notebook</td>\\n    </tr>\\n    <tr>\\n      <td><strong>7</strong></td>\\n      <td>               whai</td>\\n    </tr>\\n    <tr>\\n      <td><strong>8</strong></td>\\n      <td>              posts</td>\\n    </tr>\\n    <tr>\\n      <td><strong>9</strong></td>\\n      <td>               .ssh</td>\\n    </tr>\\n    <tr>\\n      <td><strong>10</strong></td>\\n      <td>         .gitconfig</td>\\n    </tr>\\n    <tr>\\n      <td><strong>11</strong></td>\\n      <td>              .gvfs</td>\\n    </tr>\\n    <tr>\\n      <td><strong>12</strong></td>\\n      <td>             motsav</td>\\n    </tr>\\n    <tr>\\n      <td><strong>13</strong></td>\\n      <td>             .pulse</td>\\n    </tr>\\n    <tr>\\n      <td><strong>14</strong></td>\\n      <td>           .profile</td>\\n    </tr>\\n    <tr>\\n      <td><strong>15</strong></td>\\n      <td>        .Xauthority</td>\\n    </tr>\\n    <tr>\\n      <td><strong>16</strong></td>\\n      <td>      .bash_history</td>\\n    </tr>\\n    <tr>\\n      <td><strong>17</strong></td>\\n      <td>    pistore.desktop</td>\\n    </tr>\\n    <tr>\\n      <td><strong>18</strong></td>\\n      <td>             .cache</td>\\n    </tr>\\n    <tr>\\n      <td><strong>19</strong></td>\\n      <td>            wcmckee</td>\\n    </tr>\\n    <tr>\\n      <td><strong>20</strong></td>\\n      <td>          visignsys</td>\\n    </tr>\\n    <tr>\\n      <td><strong>21</strong></td>\\n      <td>           test.txt</td>\\n    </tr>\\n    <tr>\\n      <td><strong>22</strong></td>\\n      <td>             Camera</td>\\n    </tr>\\n    <tr>\\n      <td><strong>23</strong></td>\\n      <td>           .ipython</td>\\n    </tr>\\n    <tr>\\n      <td><strong>24</strong></td>\\n      <td>      .pulse-cookie</td>\\n    </tr>\\n    <tr>\\n      <td><strong>25</strong></td>\\n      <td>        .matplotlib</td>\\n    </tr>\\n    <tr>\\n      <td><strong>26</strong></td>\\n      <td>            .config</td>\\n    </tr>\\n    <tr>\\n      <td><strong>27</strong></td>\\n      <td>              .dbus</td>\\n    </tr>\\n    <tr>\\n      <td><strong>28</strong></td>\\n      <td> rgdrecentReference</td>\\n    </tr>\\n    <tr>\\n      <td><strong>29</strong></td>\\n      <td> artcontroldrawsyou</td>\\n    </tr>\\n    <tr>\\n      <td><strong>30</strong></td>\\n      <td>        .thumbnails</td>\\n    </tr>\\n  </tbody>\\n</table>'"
       ]
      }
     ],
     "prompt_number": 84
    },
    {
     "cell_type": "code",
     "collapsed": false,
     "input": [
      "df.merge"
     ],
     "language": "python",
     "metadata": {},
     "outputs": [
      {
       "metadata": {},
       "output_type": "pyout",
       "prompt_number": 85,
       "text": [
        "<bound method DataFrame.merge of                      0\n",
        "0              .bashrc\n",
        "1         .bash_logout\n",
        "2              Desktop\n",
        "3                build\n",
        "4     .xsession-errors\n",
        "5               .local\n",
        "6     wcmckee-notebook\n",
        "7                 whai\n",
        "8                posts\n",
        "9                 .ssh\n",
        "10          .gitconfig\n",
        "11               .gvfs\n",
        "12              motsav\n",
        "13              .pulse\n",
        "14            .profile\n",
        "15         .Xauthority\n",
        "16       .bash_history\n",
        "17     pistore.desktop\n",
        "18              .cache\n",
        "19             wcmckee\n",
        "20           visignsys\n",
        "21            test.txt\n",
        "22              Camera\n",
        "23            .ipython\n",
        "24       .pulse-cookie\n",
        "25         .matplotlib\n",
        "26             .config\n",
        "27               .dbus\n",
        "28  rgdrecentReference\n",
        "29  artcontroldrawsyou\n",
        "30         .thumbnails>"
       ]
      }
     ],
     "prompt_number": 85
    },
    {
     "cell_type": "code",
     "collapsed": false,
     "input": [],
     "language": "python",
     "metadata": {},
     "outputs": [],
     "prompt_number": 92
    },
    {
     "cell_type": "code",
     "collapsed": false,
     "input": [
      "df.tail()"
     ],
     "language": "python",
     "metadata": {},
     "outputs": [
      {
       "html": [
        "<div style=\"max-height:1000px;max-width:1500px;overflow:auto;\">\n",
        "<table border=\"1\">\n",
        "  <thead>\n",
        "    <tr>\n",
        "      <th></th>\n",
        "      <th>0</th>\n",
        "    </tr>\n",
        "  </thead>\n",
        "  <tbody>\n",
        "    <tr>\n",
        "      <td><strong>26</strong></td>\n",
        "      <td>            .config</td>\n",
        "    </tr>\n",
        "    <tr>\n",
        "      <td><strong>27</strong></td>\n",
        "      <td>              .dbus</td>\n",
        "    </tr>\n",
        "    <tr>\n",
        "      <td><strong>28</strong></td>\n",
        "      <td> rgdrecentReference</td>\n",
        "    </tr>\n",
        "    <tr>\n",
        "      <td><strong>29</strong></td>\n",
        "      <td> artcontroldrawsyou</td>\n",
        "    </tr>\n",
        "    <tr>\n",
        "      <td><strong>30</strong></td>\n",
        "      <td>        .thumbnails</td>\n",
        "    </tr>\n",
        "  </tbody>\n",
        "</table>\n",
        "</div>"
       ],
       "metadata": {},
       "output_type": "pyout",
       "prompt_number": 86,
       "text": [
        "                     0\n",
        "26             .config\n",
        "27               .dbus\n",
        "28  rgdrecentReference\n",
        "29  artcontroldrawsyou\n",
        "30         .thumbnails"
       ]
      }
     ],
     "prompt_number": 86
    },
    {
     "cell_type": "code",
     "collapsed": false,
     "input": [
      "savmo = open('/home/wcmckee/motsav/index.html', 'w')\n",
      "savmo.write(str(df.to_html()))"
     ],
     "language": "python",
     "metadata": {},
     "outputs": [],
     "prompt_number": 87
    },
    {
     "cell_type": "code",
     "collapsed": false,
     "input": [
      "savmo.close()"
     ],
     "language": "python",
     "metadata": {},
     "outputs": [],
     "prompt_number": 88
    },
    {
     "cell_type": "code",
     "collapsed": false,
     "input": [
      "opmo = open('/home/wcmckee/motsav/index.html', 'r')"
     ],
     "language": "python",
     "metadata": {},
     "outputs": [
      {
       "ename": "IOError",
       "evalue": "[Errno 2] No such file or directory: '/home/wcmckee/motsav/index.html'",
       "output_type": "pyerr",
       "traceback": [
        "\u001b[1;31m---------------------------------------------------------------------------\u001b[0m\n\u001b[1;31mIOError\u001b[0m                                   Traceback (most recent call last)",
        "\u001b[1;32m<ipython-input-37-16590fc0c4fc>\u001b[0m in \u001b[0;36m<module>\u001b[1;34m()\u001b[0m\n\u001b[1;32m----> 1\u001b[1;33m \u001b[0mopmo\u001b[0m \u001b[1;33m=\u001b[0m \u001b[0mopen\u001b[0m\u001b[1;33m(\u001b[0m\u001b[1;34m'/home/wcmckee/motsav/index.html'\u001b[0m\u001b[1;33m,\u001b[0m \u001b[1;34m'r'\u001b[0m\u001b[1;33m)\u001b[0m\u001b[1;33m\u001b[0m\u001b[0m\n\u001b[0m",
        "\u001b[1;31mIOError\u001b[0m: [Errno 2] No such file or directory: '/home/wcmckee/motsav/index.html'"
       ]
      }
     ],
     "prompt_number": 37
    },
    {
     "cell_type": "code",
     "collapsed": false,
     "input": [
      "opmo.read()"
     ],
     "language": "python",
     "metadata": {},
     "outputs": [
      {
       "metadata": {},
       "output_type": "pyout",
       "prompt_number": 90,
       "text": [
        "'<table border=\"1\">\\n  <thead>\\n    <tr>\\n      <th></th>\\n      <th>0</th>\\n    </tr>\\n  </thead>\\n  <tbody>\\n    <tr>\\n      <td><strong>0</strong></td>\\n      <td>            .bashrc</td>\\n    </tr>\\n    <tr>\\n      <td><strong>1</strong></td>\\n      <td>       .bash_logout</td>\\n    </tr>\\n    <tr>\\n      <td><strong>2</strong></td>\\n      <td>            Desktop</td>\\n    </tr>\\n    <tr>\\n      <td><strong>3</strong></td>\\n      <td>              build</td>\\n    </tr>\\n    <tr>\\n      <td><strong>4</strong></td>\\n      <td>   .xsession-errors</td>\\n    </tr>\\n    <tr>\\n      <td><strong>5</strong></td>\\n      <td>             .local</td>\\n    </tr>\\n    <tr>\\n      <td><strong>6</strong></td>\\n      <td>   wcmckee-notebook</td>\\n    </tr>\\n    <tr>\\n      <td><strong>7</strong></td>\\n      <td>               whai</td>\\n    </tr>\\n    <tr>\\n      <td><strong>8</strong></td>\\n      <td>              posts</td>\\n    </tr>\\n    <tr>\\n      <td><strong>9</strong></td>\\n      <td>               .ssh</td>\\n    </tr>\\n    <tr>\\n      <td><strong>10</strong></td>\\n      <td>         .gitconfig</td>\\n    </tr>\\n    <tr>\\n      <td><strong>11</strong></td>\\n      <td>              .gvfs</td>\\n    </tr>\\n    <tr>\\n      <td><strong>12</strong></td>\\n      <td>             motsav</td>\\n    </tr>\\n    <tr>\\n      <td><strong>13</strong></td>\\n      <td>             .pulse</td>\\n    </tr>\\n    <tr>\\n      <td><strong>14</strong></td>\\n      <td>           .profile</td>\\n    </tr>\\n    <tr>\\n      <td><strong>15</strong></td>\\n      <td>        .Xauthority</td>\\n    </tr>\\n    <tr>\\n      <td><strong>16</strong></td>\\n      <td>      .bash_history</td>\\n    </tr>\\n    <tr>\\n      <td><strong>17</strong></td>\\n      <td>    pistore.desktop</td>\\n    </tr>\\n    <tr>\\n      <td><strong>18</strong></td>\\n      <td>             .cache</td>\\n    </tr>\\n    <tr>\\n      <td><strong>19</strong></td>\\n      <td>            wcmckee</td>\\n    </tr>\\n    <tr>\\n      <td><strong>20</strong></td>\\n      <td>          visignsys</td>\\n    </tr>\\n    <tr>\\n      <td><strong>21</strong></td>\\n      <td>           test.txt</td>\\n    </tr>\\n    <tr>\\n      <td><strong>22</strong></td>\\n      <td>             Camera</td>\\n    </tr>\\n    <tr>\\n      <td><strong>23</strong></td>\\n      <td>           .ipython</td>\\n    </tr>\\n    <tr>\\n      <td><strong>24</strong></td>\\n      <td>      .pulse-cookie</td>\\n    </tr>\\n    <tr>\\n      <td><strong>25</strong></td>\\n      <td>        .matplotlib</td>\\n    </tr>\\n    <tr>\\n      <td><strong>26</strong></td>\\n      <td>            .config</td>\\n    </tr>\\n    <tr>\\n      <td><strong>27</strong></td>\\n      <td>              .dbus</td>\\n    </tr>\\n    <tr>\\n      <td><strong>28</strong></td>\\n      <td> rgdrecentReference</td>\\n    </tr>\\n    <tr>\\n      <td><strong>29</strong></td>\\n      <td> artcontroldrawsyou</td>\\n    </tr>\\n    <tr>\\n      <td><strong>30</strong></td>\\n      <td>        .thumbnails</td>\\n    </tr>\\n  </tbody>\\n</table>'"
       ]
      }
     ],
     "prompt_number": 90
    },
    {
     "cell_type": "code",
     "collapsed": false,
     "input": [],
     "language": "python",
     "metadata": {},
     "outputs": [],
     "prompt_number": 90
    },
    {
     "cell_type": "code",
     "collapsed": false,
     "input": [],
     "language": "python",
     "metadata": {},
     "outputs": []
    },
    {
     "cell_type": "code",
     "collapsed": false,
     "input": [],
     "language": "python",
     "metadata": {},
     "outputs": []
    }
   ],
   "metadata": {}
  }
 ]
}