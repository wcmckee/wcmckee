{
 "cells": [
  {
   "cell_type": "markdown",
   "metadata": {},
   "source": [
    "wcm pokmon\n",
    "\n",
    "script to explore the pokemon api and get gifs. "
   ]
  },
  {
   "cell_type": "code",
   "execution_count": 1,
   "metadata": {
    "collapsed": false
   },
   "outputs": [],
   "source": [
    "import requests\n",
    "import json\n",
    "import shutil"
   ]
  },
  {
   "cell_type": "code",
   "execution_count": null,
   "metadata": {
    "collapsed": true
   },
   "outputs": [],
   "source": []
  },
  {
   "cell_type": "code",
   "execution_count": null,
   "metadata": {
    "collapsed": true
   },
   "outputs": [],
   "source": []
  },
  {
   "cell_type": "code",
   "execution_count": 2,
   "metadata": {
    "collapsed": true
   },
   "outputs": [],
   "source": [
    "reqg = requests.get('http://pokeapi.co/api/v1/pokedex/1/')"
   ]
  },
  {
   "cell_type": "code",
   "execution_count": 3,
   "metadata": {
    "collapsed": false
   },
   "outputs": [],
   "source": [
    "retxt = reqg.text"
   ]
  },
  {
   "cell_type": "code",
   "execution_count": 4,
   "metadata": {
    "collapsed": false
   },
   "outputs": [],
   "source": [
    "pokload = json.loads(retxt)"
   ]
  },
  {
   "cell_type": "code",
   "execution_count": 5,
   "metadata": {
    "collapsed": false
   },
   "outputs": [],
   "source": [
    "allpok = len(pokload['pokemon'])"
   ]
  },
  {
   "cell_type": "code",
   "execution_count": 6,
   "metadata": {
    "collapsed": false
   },
   "outputs": [
    {
     "name": "stdout",
     "output_type": "stream",
     "text": [
      "{'name': 'houndour', 'resource_uri': 'api/v1/pokemon/228/'}\n"
     ]
    }
   ],
   "source": [
    "print(pokload['pokemon'][200])"
   ]
  },
  {
   "cell_type": "code",
   "execution_count": null,
   "metadata": {
    "collapsed": true
   },
   "outputs": [],
   "source": []
  },
  {
   "cell_type": "code",
   "execution_count": 7,
   "metadata": {
    "collapsed": false
   },
   "outputs": [
    {
     "data": {
      "text/plain": [
       "778"
      ]
     },
     "execution_count": 7,
     "metadata": {},
     "output_type": "execute_result"
    }
   ],
   "source": [
    "allpok"
   ]
  },
  {
   "cell_type": "code",
   "execution_count": null,
   "metadata": {
    "collapsed": true
   },
   "outputs": [],
   "source": []
  },
  {
   "cell_type": "code",
   "execution_count": null,
   "metadata": {
    "collapsed": true
   },
   "outputs": [],
   "source": [
    "opwritj = requests.get('http://api.giphy.com/v1/gifs/search?q=' + (pokload['pokemon'][alpo]['name']) + '&api_key=dc6zaTOxFJmzC')"
   ]
  },
  {
   "cell_type": "code",
   "execution_count": null,
   "metadata": {
    "collapsed": false
   },
   "outputs": [
    {
     "name": "stdout",
     "output_type": "stream",
     "text": [
      "rattata\n",
      "http://media1.giphy.com/media/vXkfATtZmC26Q/giphy.gif\n",
      "http://media0.giphy.com/media/IrMkKlhZy4hri/giphy.gif\n",
      "http://media4.giphy.com/media/jeWqeTeBS03WE/giphy.gif\n",
      "http://media3.giphy.com/media/NN4fvJBKKvrnq/giphy.gif\n",
      "http://media2.giphy.com/media/A3LyV2yV5r5cI/giphy.gif\n",
      "http://media1.giphy.com/media/6obZXFnopj9vy/giphy.gif\n",
      "http://media4.giphy.com/media/CZgC0EiQhwiM8/giphy.gif\n",
      "http://media2.giphy.com/media/10oCqxckv42wlq/giphy.gif\n",
      "http://media4.giphy.com/media/OZnzDqIzdduuY/giphy.gif\n",
      "charmander\n",
      "http://media2.giphy.com/media/PiiQ5B1XxxiX6/giphy.gif\n",
      "http://media3.giphy.com/media/V4sY8JCTxGyaI/giphy.gif\n",
      "http://media1.giphy.com/media/fJXClS1SskWPu/giphy.gif\n",
      "http://media2.giphy.com/media/11agp3tD5MPgnC/giphy.gif"
     ]
    }
   ],
   "source": [
    "for alpo in range(allpok):\n",
    "    print(pokload['pokemon'][alpo]['name'])\n",
    "    opwritj = requests.get('http://api.giphy.com/v1/gifs/search?q=' + (pokload['pokemon'][alpo]['name']) + '&api_key=dc6zaTOxFJmzC')\n",
    "    wrijrd = opwritj.text\n",
    "    jswri = json.loads(wrijrd)\n",
    "    jswln = len(jswri['data'])\n",
    "    for jsw in range(0, jswln):\n",
    "        if '.gif' in jswri['data'][jsw]['images']['downsized']['url']:\n",
    "            print(jswri['data'][jsw]['images']['downsized']['url'])\n",
    "            response = requests.get((jswri['data'][jsw]['images']['downsized']['url']), stream=True)\n",
    "            with open('/home/wcmckee/Downloads/gify/' + (pokload['pokemon'][alpo]['name']) + str(jsw) + '.gif', 'wb') as out_file:\n",
    "                shutil.copyfileobj(response.raw, out_file)\n",
    "                del response"
   ]
  }
 ],
 "metadata": {
  "kernelspec": {
   "display_name": "Python 3",
   "language": "python",
   "name": "python3"
  },
  "language_info": {
   "codemirror_mode": {
    "name": "ipython",
    "version": 3
   },
   "file_extension": ".py",
   "mimetype": "text/x-python",
   "name": "python",
   "nbconvert_exporter": "python",
   "pygments_lexer": "ipython3",
   "version": "3.4.2"
  }
 },
 "nbformat": 4,
 "nbformat_minor": 0
}
