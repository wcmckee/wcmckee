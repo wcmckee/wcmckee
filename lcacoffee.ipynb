{
 "cells": [
  {
   "cell_type": "markdown",
   "metadata": {},
   "source": [
    "<h1>lcacoffee</h1>\n",
    "\n",
    "script that displays coffees sold by hour at lca2015.\n",
    "Currently it opens a .json file and converts it into a python dict. "
   ]
  },
  {
   "cell_type": "code",
   "execution_count": 1,
   "metadata": {
    "collapsed": false
   },
   "outputs": [],
   "source": [
    "import json\n",
    "import os\n",
    "import pandas"
   ]
  },
  {
   "cell_type": "code",
   "execution_count": 2,
   "metadata": {
    "collapsed": true
   },
   "outputs": [],
   "source": [
    "opcvs = open('/home/wcmckee/Downloads/convertcsv.json', 'r')"
   ]
  },
  {
   "cell_type": "code",
   "execution_count": 3,
   "metadata": {
    "collapsed": false
   },
   "outputs": [],
   "source": [
    "opzrd = opcvs.read()"
   ]
  },
  {
   "cell_type": "code",
   "execution_count": 4,
   "metadata": {
    "collapsed": false
   },
   "outputs": [],
   "source": [
    "jdunp = json.loads(opzrd)"
   ]
  },
  {
   "cell_type": "code",
   "execution_count": 5,
   "metadata": {
    "collapsed": true
   },
   "outputs": [],
   "source": [
    "valia = []"
   ]
  },
  {
   "cell_type": "code",
   "execution_count": 7,
   "metadata": {
    "collapsed": false
   },
   "outputs": [],
   "source": [
    "#pandas.read_json(jdunp)"
   ]
  },
  {
   "cell_type": "code",
   "execution_count": 8,
   "metadata": {
    "collapsed": false
   },
   "outputs": [
    {
     "data": {
      "text/plain": [
       "0"
      ]
     },
     "execution_count": 8,
     "metadata": {},
     "output_type": "execute_result"
    }
   ],
   "source": [
    "jdunp.count(int)"
   ]
  },
  {
   "cell_type": "code",
   "execution_count": 9,
   "metadata": {
    "collapsed": false
   },
   "outputs": [
    {
     "data": {
      "text/plain": [
       "7"
      ]
     },
     "execution_count": 9,
     "metadata": {},
     "output_type": "execute_result"
    }
   ],
   "source": [
    "len(jdunp)"
   ]
  },
  {
   "cell_type": "markdown",
   "metadata": {},
   "source": [
    "ok if i cycle through jdunp between 0 and 23 i get the results.\n",
    "\n",
    "cycle through ints but as a string. must add ' '"
   ]
  },
  {
   "cell_type": "code",
   "execution_count": 10,
   "metadata": {
    "collapsed": false
   },
   "outputs": [
    {
     "name": "stdout",
     "output_type": "stream",
     "text": [
      "'0'\n",
      "'1'\n",
      "'2'\n",
      "'3'\n",
      "'4'\n",
      "'5'\n",
      "'6'\n",
      "'7'\n",
      "'8'\n",
      "'9'\n",
      "'10'\n",
      "'11'\n",
      "'12'\n",
      "'13'\n",
      "'14'\n",
      "'15'\n",
      "'16'\n",
      "'17'\n",
      "'18'\n",
      "'19'\n",
      "'20'\n",
      "'21'\n",
      "'22'\n",
      "'23'\n"
     ]
    }
   ],
   "source": [
    "for numtwn in range(0,24):\n",
    "    print \"'\" + str(numtwn) + \"'\""
   ]
  },
  {
   "cell_type": "code",
   "execution_count": 11,
   "metadata": {
    "collapsed": false
   },
   "outputs": [
    {
     "name": "stdout",
     "output_type": "stream",
     "text": [
      "- -\n",
      "- -\n",
      "- -\n",
      "- -\n",
      "- -\n",
      "- -\n",
      "- -\n"
     ]
    }
   ],
   "source": [
    "for jdr in jdunp:\n",
    "    print jdr['0']"
   ]
  },
  {
   "cell_type": "code",
   "execution_count": 12,
   "metadata": {
    "collapsed": false
   },
   "outputs": [
    {
     "name": "stdout",
     "output_type": "stream",
     "text": [
      "'0'\n",
      "'1'\n",
      "'2'\n",
      "'3'\n",
      "'4'\n",
      "'5'\n",
      "'6'\n",
      "'7'\n",
      "'8'\n",
      "'9'\n",
      "'10'\n",
      "'11'\n",
      "'12'\n",
      "'13'\n",
      "'14'\n",
      "'15'\n",
      "'16'\n",
      "'17'\n",
      "'18'\n",
      "'19'\n",
      "'20'\n",
      "'21'\n",
      "'22'\n",
      "'23'\n"
     ]
    }
   ],
   "source": [
    "for numtwn in range(0,24):\n",
    "        print \"'\" + str(numtwn) + \"'\""
   ]
  },
  {
   "cell_type": "code",
   "execution_count": 13,
   "metadata": {
    "collapsed": false
   },
   "outputs": [
    {
     "name": "stdout",
     "output_type": "stream",
     "text": [
      "[u'- -', u'- -', u'- -', u'- -', u'- -', u'- -', u'- -', u'- -', u'- -', u'- -', u'- -', u'- -', u'- -', u'- -', u' 11 Jan 2015', u'', u'Sun', u'- -', u'- -', u'- -', u'4 (1)', u'0 (9)', u'12 (30)', u'0 (3)', u'8 (9)', u'- -', u'- -']\n",
      "[u'- -', u'- -', u'- -', u'- -', u'- -', u'- -', u'- -', u'- -', u'- -', u'- -', u'8 (9)', u'- -', u'40 (31)', u'44 (123)', u' 12 Jan 2015', u'', u'Mon', u'4 (13)', u'20 (118)', u'8 (52)', u'12 (34)', u'12 (46)', u'4 (33)', u'- -', u'0 (1)', u'- -', u'- -']\n",
      "[u'- -', u'- -', u'- -', u'- -', u'- -', u'- -', u'- -', u'- -', u'- -', u'- -', u'4 (17)', u'- -', u'0 (23)', u'24 (109)', u' 13 Jan 2015', u'', u'Tue', u'8 (25)', u'32 (101)', u'12 (55)', u'16 (43)', u'20 (100)', u'12 (43)', u'- -', u'4 (3)', u'- -', u'- -']\n",
      "[u'- -', u'- -', u'- -', u'- -', u'- -', u'- -', u'- -', u'- -', u'- -', u'- -', u'4 (19)', u'- -', u'8 (24)', u'20 (132)', u' 14 Jan 2015', u'', u'Wed', u'12 (39)', u'32 (133)', u'56 (64)', u'16 (36)', u'52 (83)', u'44 (38)', u'- -', u'- -', u'- -', u'- -']\n",
      "[u'- -', u'- -', u'- -', u'- -', u'- -', u'- -', u'- -', u'- -', u'- -', u'- -', u'8 (20)', u'- -', u'20 (25)', u'68 (115)', u' 15 Jan 2015', u'', u'Thu', u'40 (40)', u'132 (136)', u'52 (55)', u'36 (50)', u'72 (103)', u'32 (49)', u'- -', u'4 (6)', u'- -', u'- -']\n",
      "[u'- -', u'- -', u'- -', u'- -', u'- -', u'- -', u'- -', u'- -', u'- -', u'- -', u'12 (21)', u'- -', u'8 (15)', u'104 (128)', u' 16 Jan 2015', u'', u'Fri', u'24 (30)', u'112 (131)', u'- -', u'- -', u'- -', u'- -', u'- -', u'- -', u'- -', u'- -']\n",
      "[u'- -', u'- -', u'- -', u'- -', u'- -', u'- -', u'- -', u'- -', u'- -', u'- -', u'- -', u'- -', u'- -', u'- -', u' 17 Jan 2015', u'', u'Sat', u'- -', u'- -', u'- -', u'- -', u'- -', u'- -', u'- -', u'- -', u'- -', u'- -']\n"
     ]
    }
   ],
   "source": [
    "for dej in jdunp:\n",
    "    print dej.values()\n",
    "    valia.append(dej.values())"
   ]
  },
  {
   "cell_type": "code",
   "execution_count": 13,
   "metadata": {
    "collapsed": true
   },
   "outputs": [],
   "source": []
  },
  {
   "cell_type": "code",
   "execution_count": 14,
   "metadata": {
    "collapsed": false
   },
   "outputs": [],
   "source": [
    "dezrand = len(valia)"
   ]
  },
  {
   "cell_type": "code",
   "execution_count": 15,
   "metadata": {
    "collapsed": true
   },
   "outputs": [],
   "source": [
    "azlis = []"
   ]
  },
  {
   "cell_type": "code",
   "execution_count": 16,
   "metadata": {
    "collapsed": false
   },
   "outputs": [
    {
     "name": "stdout",
     "output_type": "stream",
     "text": [
      "[u'- -', u'- -', u'- -', u'- -', u'- -', u'- -', u'- -', u'- -', u'- -', u'- -', u'- -', u'- -', u'- -', u'- -', u' 11 Jan 2015', u'', u'Sun', u'- -', u'- -', u'- -', u'4 (1)', u'0 (9)', u'12 (30)', u'0 (3)', u'8 (9)', u'- -', u'- -']\n",
      "[u'- -', u'- -', u'- -', u'- -', u'- -', u'- -', u'- -', u'- -', u'- -', u'- -', u'8 (9)', u'- -', u'40 (31)', u'44 (123)', u' 12 Jan 2015', u'', u'Mon', u'4 (13)', u'20 (118)', u'8 (52)', u'12 (34)', u'12 (46)', u'4 (33)', u'- -', u'0 (1)', u'- -', u'- -']\n",
      "[u'- -', u'- -', u'- -', u'- -', u'- -', u'- -', u'- -', u'- -', u'- -', u'- -', u'4 (17)', u'- -', u'0 (23)', u'24 (109)', u' 13 Jan 2015', u'', u'Tue', u'8 (25)', u'32 (101)', u'12 (55)', u'16 (43)', u'20 (100)', u'12 (43)', u'- -', u'4 (3)', u'- -', u'- -']\n",
      "[u'- -', u'- -', u'- -', u'- -', u'- -', u'- -', u'- -', u'- -', u'- -', u'- -', u'4 (19)', u'- -', u'8 (24)', u'20 (132)', u' 14 Jan 2015', u'', u'Wed', u'12 (39)', u'32 (133)', u'56 (64)', u'16 (36)', u'52 (83)', u'44 (38)', u'- -', u'- -', u'- -', u'- -']\n",
      "[u'- -', u'- -', u'- -', u'- -', u'- -', u'- -', u'- -', u'- -', u'- -', u'- -', u'8 (20)', u'- -', u'20 (25)', u'68 (115)', u' 15 Jan 2015', u'', u'Thu', u'40 (40)', u'132 (136)', u'52 (55)', u'36 (50)', u'72 (103)', u'32 (49)', u'- -', u'4 (6)', u'- -', u'- -']\n",
      "[u'- -', u'- -', u'- -', u'- -', u'- -', u'- -', u'- -', u'- -', u'- -', u'- -', u'12 (21)', u'- -', u'8 (15)', u'104 (128)', u' 16 Jan 2015', u'', u'Fri', u'24 (30)', u'112 (131)', u'- -', u'- -', u'- -', u'- -', u'- -', u'- -', u'- -', u'- -']\n",
      "[u'- -', u'- -', u'- -', u'- -', u'- -', u'- -', u'- -', u'- -', u'- -', u'- -', u'- -', u'- -', u'- -', u'- -', u' 17 Jan 2015', u'', u'Sat', u'- -', u'- -', u'- -', u'- -', u'- -', u'- -', u'- -', u'- -', u'- -', u'- -']\n"
     ]
    }
   ],
   "source": [
    "for vals in valia:    \n",
    "    print vals\n",
    "    azlis.append(vals)"
   ]
  },
  {
   "cell_type": "markdown",
   "metadata": {},
   "source": [
    "I need to filter the - - from the results. I really only need the values that have numbers. \n",
    "\n",
    "Take number in brackets away from number not in brackets. \n",
    "The number in brackets is total amount of coffees sold. The number not in brackets is amount of volchers used. \n",
    "The number that I get when i take away is the coffee sold without volchers. \n",
    "\n",
    "New dict that shows only the times that coffee were sold and the amount of coffgfges that were solf. Maybe that would works. "
   ]
  },
  {
   "cell_type": "code",
   "execution_count": 17,
   "metadata": {
    "collapsed": true
   },
   "outputs": [],
   "source": [
    "betra = []"
   ]
  },
  {
   "cell_type": "code",
   "execution_count": 18,
   "metadata": {
    "collapsed": false
   },
   "outputs": [],
   "source": [
    "for azl in azlis:\n",
    "    betra.append(azl)"
   ]
  },
  {
   "cell_type": "code",
   "execution_count": 19,
   "metadata": {
    "collapsed": true
   },
   "outputs": [],
   "source": [
    "anoe = []\n",
    "anez = []"
   ]
  },
  {
   "cell_type": "code",
   "execution_count": 20,
   "metadata": {
    "collapsed": false
   },
   "outputs": [],
   "source": [
    "for betr in betra:\n",
    "    betr.append(anoe)"
   ]
  },
  {
   "cell_type": "code",
   "execution_count": 21,
   "metadata": {
    "collapsed": false
   },
   "outputs": [
    {
     "name": "stdout",
     "output_type": "stream",
     "text": [
      "- -\n",
      "- -\n",
      "- -\n",
      "- -\n",
      "- -\n",
      "- -\n",
      "- -\n",
      "- -\n",
      "- -\n",
      "- -\n",
      "- -\n",
      "- -\n",
      "- -\n",
      "- -\n",
      "- -\n",
      "- -\n",
      "- -\n",
      "- -\n",
      "- -\n",
      "- -\n",
      "- -\n",
      "- -\n",
      "- -\n",
      "- -\n"
     ]
    }
   ],
   "source": [
    "for deta in betr:\n",
    "    #print deta\n",
    "    if '- -' in deta:\n",
    "        print deta\n",
    "    else:\n",
    "        anez.append(deta)"
   ]
  },
  {
   "cell_type": "code",
   "execution_count": 22,
   "metadata": {
    "collapsed": true
   },
   "outputs": [],
   "source": [
    "fdic = []"
   ]
  },
  {
   "cell_type": "code",
   "execution_count": 22,
   "metadata": {
    "collapsed": true
   },
   "outputs": [],
   "source": []
  },
  {
   "cell_type": "code",
   "execution_count": 23,
   "metadata": {
    "collapsed": false
   },
   "outputs": [
    {
     "name": "stdout",
     "output_type": "stream",
     "text": [
      " 17 Jan 2015\n",
      "\n",
      "Sat\n",
      "[]\n"
     ]
    }
   ],
   "source": [
    "for resut in anez:\n",
    "    print resut\n",
    "    fdic.append(resut)"
   ]
  },
  {
   "cell_type": "markdown",
   "metadata": {},
   "source": [
    "How come it is only adding the wednesday data in the results. It needs to have all the datas. \n",
    "\n",
    "Needs to take the number in brackets away from the number not in brackets."
   ]
  },
  {
   "cell_type": "code",
   "execution_count": 24,
   "metadata": {
    "collapsed": false
   },
   "outputs": [
    {
     "data": {
      "text/plain": [
       "[u' 17 Jan 2015', u'', u'Sat', []]"
      ]
     },
     "execution_count": 24,
     "metadata": {},
     "output_type": "execute_result"
    }
   ],
   "source": [
    "fdic"
   ]
  },
  {
   "cell_type": "code",
   "execution_count": 24,
   "metadata": {
    "collapsed": true
   },
   "outputs": [],
   "source": []
  },
  {
   "cell_type": "code",
   "execution_count": 24,
   "metadata": {
    "collapsed": true
   },
   "outputs": [],
   "source": []
  },
  {
   "cell_type": "code",
   "execution_count": null,
   "metadata": {
    "collapsed": true
   },
   "outputs": [],
   "source": []
  }
 ],
 "metadata": {
  "kernelspec": {
   "display_name": "Python 2",
   "name": "python2"
  },
  "language_info": {
   "codemirror_mode": {
    "name": "ipython",
    "version": 2
   },
   "file_extension": ".py",
   "mimetype": "text/x-python",
   "name": "python",
   "nbconvert_exporter": "python",
   "pygments_lexer": "ipython2",
   "version": "2.7.6"
  }
 },
 "nbformat": 4,
 "nbformat_minor": 0
}