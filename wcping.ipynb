{
 "metadata": {
  "name": "",
  "signature": "sha256:3cdef10808b9813506856816bc391f41ebf85dc74c2e219f61037a2a41074fe8"
 },
 "nbformat": 3,
 "nbformat_minor": 0,
 "worksheets": [
  {
   "cells": [
    {
     "cell_type": "code",
     "collapsed": false,
     "input": [
      "import pyping\n",
      "import nmap\n",
      "import dominate\n",
      "from dominate.tags import *\n",
      "import paramiko\n",
      "import base64"
     ],
     "language": "python",
     "metadata": {},
     "outputs": [],
     "prompt_number": 102
    },
    {
     "cell_type": "code",
     "collapsed": false,
     "input": [
      "nm = nmap.PortScanner()"
     ],
     "language": "python",
     "metadata": {},
     "outputs": [],
     "prompt_number": 94
    },
    {
     "cell_type": "code",
     "collapsed": false,
     "input": [
      "allscan = nm.scan('192.168.1.*')"
     ],
     "language": "python",
     "metadata": {},
     "outputs": [],
     "prompt_number": 95
    },
    {
     "cell_type": "code",
     "collapsed": false,
     "input": [
      "allhosts = nm.all_hosts()"
     ],
     "language": "python",
     "metadata": {},
     "outputs": [],
     "prompt_number": 96
    },
    {
     "cell_type": "code",
     "collapsed": false,
     "input": [
      "pinglis = []\n",
      "nplis = []"
     ],
     "language": "python",
     "metadata": {},
     "outputs": [],
     "prompt_number": 97
    },
    {
     "cell_type": "code",
     "collapsed": false,
     "input": [
      "for hosts in allhosts:\n",
      "    print(hosts)\n",
      "    pinglis.append(pyping.ping(hosts))"
     ],
     "language": "python",
     "metadata": {},
     "outputs": [
      {
       "output_type": "stream",
       "stream": "stdout",
       "text": [
        "192.168.1.1\n",
        "192.168.1.11"
       ]
      },
      {
       "output_type": "stream",
       "stream": "stdout",
       "text": [
        "\n",
        "192.168.1.3"
       ]
      },
      {
       "output_type": "stream",
       "stream": "stdout",
       "text": [
        "\n",
        "192.168.1.6"
       ]
      },
      {
       "output_type": "stream",
       "stream": "stdout",
       "text": [
        "\n"
       ]
      }
     ],
     "prompt_number": 98
    },
    {
     "cell_type": "code",
     "collapsed": false,
     "input": [
      "for pls in pinglis:\n",
      "    print pls.output[0]\n",
      "    nplis.append(pls.output[0])"
     ],
     "language": "python",
     "metadata": {},
     "outputs": [
      {
       "output_type": "stream",
       "stream": "stdout",
       "text": [
        "\n",
        "PYTHON-PING 192.168.1.1 (192.168.1.1): 55 data bytes\n",
        "\n",
        "PYTHON-PING 192.168.1.11 (192.168.1.11): 55 data bytes\n",
        "\n",
        "PYTHON-PING 192.168.1.3 (192.168.1.3): 55 data bytes\n",
        "\n",
        "PYTHON-PING 192.168.1.6 (192.168.1.6): 55 data bytes\n"
       ]
      }
     ],
     "prompt_number": 99
    },
    {
     "cell_type": "code",
     "collapsed": false,
     "input": [
      "nplis"
     ],
     "language": "python",
     "metadata": {},
     "outputs": [
      {
       "metadata": {},
       "output_type": "pyout",
       "prompt_number": 100,
       "text": [
        "[u'\\nPYTHON-PING 192.168.1.1 (192.168.1.1): 55 data bytes',\n",
        " u'\\nPYTHON-PING 192.168.1.11 (192.168.1.11): 55 data bytes',\n",
        " u'\\nPYTHON-PING 192.168.1.3 (192.168.1.3): 55 data bytes',\n",
        " u'\\nPYTHON-PING 192.168.1.6 (192.168.1.6): 55 data bytes']"
       ]
      }
     ],
     "prompt_number": 100
    },
    {
     "cell_type": "code",
     "collapsed": false,
     "input": [
      "nmapdoc = dominate.document(title='nmap scan')"
     ],
     "language": "python",
     "metadata": {},
     "outputs": [],
     "prompt_number": 89
    },
    {
     "cell_type": "code",
     "collapsed": false,
     "input": [
      "doc = dominate.document(title='nmap ping')\n",
      "\n",
      "with doc.head:\n",
      "    link(rel='stylesheet', href='style.css')\n",
      "    script(type='text/javascript', src='script.js')\n",
      "\n",
      "with doc:\n",
      "    #with div(id='header').add(ol()):\n",
      "    #    for i in pinglis:\n",
      "    #        li(a(i(), href='/%s.html' % i))\n",
      "\n",
      "    with div():\n",
      "        attr(cls='body')\n",
      "        p(nplis)\n",
      "\n",
      "print doc"
     ],
     "language": "python",
     "metadata": {},
     "outputs": [
      {
       "output_type": "stream",
       "stream": "stdout",
       "text": [
        "<!DOCTYPE html>\n",
        "<html>\n",
        "  <head>\n",
        "    <title>nmap ping</title>\n",
        "    <link href=\"style.css\" rel=\"stylesheet\">\n",
        "    <script src=\"script.js\" type=\"text/javascript\"></script>\n",
        "  </head>\n",
        "  <body>\n",
        "    <div class=\"body\">\n",
        "      <p>\n",
        "PYTHON-PING 192.168.1.1 (192.168.1.1): 55 data bytes\n",
        "PYTHON-PING 192.168.1.11 (192.168.1.11): 55 data bytes\n",
        "PYTHON-PING 192.168.1.2 (192.168.1.2): 55 data bytes\n",
        "PYTHON-PING 192.168.1.3 (192.168.1.3): 55 data bytes\n",
        "PYTHON-PING 192.168.1.6 (192.168.1.6): 55 data bytes\n",
        "      </p>\n",
        "    </div>\n",
        "  </body>\n",
        "</html>\n"
       ]
      }
     ],
     "prompt_number": 91
    },
    {
     "cell_type": "code",
     "collapsed": false,
     "input": [
      "key = paramiko.RSAKey(data=base64.decodestring('AAA...'))"
     ],
     "language": "python",
     "metadata": {},
     "outputs": [
      {
       "ename": "Error",
       "evalue": "Incorrect padding",
       "output_type": "pyerr",
       "traceback": [
        "\u001b[1;31m---------------------------------------------------------------------------\u001b[0m\n\u001b[1;31mError\u001b[0m                                     Traceback (most recent call last)",
        "\u001b[1;32m<ipython-input-103-469024d16871>\u001b[0m in \u001b[0;36m<module>\u001b[1;34m()\u001b[0m\n\u001b[1;32m----> 1\u001b[1;33m \u001b[0mkey\u001b[0m \u001b[1;33m=\u001b[0m \u001b[0mparamiko\u001b[0m\u001b[1;33m.\u001b[0m\u001b[0mRSAKey\u001b[0m\u001b[1;33m(\u001b[0m\u001b[0mdata\u001b[0m\u001b[1;33m=\u001b[0m\u001b[0mbase64\u001b[0m\u001b[1;33m.\u001b[0m\u001b[0mdecodestring\u001b[0m\u001b[1;33m(\u001b[0m\u001b[1;34m'AAA...'\u001b[0m\u001b[1;33m)\u001b[0m\u001b[1;33m)\u001b[0m\u001b[1;33m\u001b[0m\u001b[0m\n\u001b[0m",
        "\u001b[1;32m/usr/lib/python2.7/base64.pyc\u001b[0m in \u001b[0;36mdecodestring\u001b[1;34m(s)\u001b[0m\n\u001b[0;32m    319\u001b[0m \u001b[1;32mdef\u001b[0m \u001b[0mdecodestring\u001b[0m\u001b[1;33m(\u001b[0m\u001b[0ms\u001b[0m\u001b[1;33m)\u001b[0m\u001b[1;33m:\u001b[0m\u001b[1;33m\u001b[0m\u001b[0m\n\u001b[0;32m    320\u001b[0m     \u001b[1;34m\"\"\"Decode a string.\"\"\"\u001b[0m\u001b[1;33m\u001b[0m\u001b[0m\n\u001b[1;32m--> 321\u001b[1;33m     \u001b[1;32mreturn\u001b[0m \u001b[0mbinascii\u001b[0m\u001b[1;33m.\u001b[0m\u001b[0ma2b_base64\u001b[0m\u001b[1;33m(\u001b[0m\u001b[0ms\u001b[0m\u001b[1;33m)\u001b[0m\u001b[1;33m\u001b[0m\u001b[0m\n\u001b[0m\u001b[0;32m    322\u001b[0m \u001b[1;33m\u001b[0m\u001b[0m\n\u001b[0;32m    323\u001b[0m \u001b[1;33m\u001b[0m\u001b[0m\n",
        "\u001b[1;31mError\u001b[0m: Incorrect padding"
       ]
      }
     ],
     "prompt_number": 103
    },
    {
     "cell_type": "code",
     "collapsed": false,
     "input": [
      "key = paramiko.RSAKey(data=base64.decodestring('AAA...'))\n"
     ],
     "language": "python",
     "metadata": {},
     "outputs": [
      {
       "ename": "Error",
       "evalue": "Incorrect padding",
       "output_type": "pyerr",
       "traceback": [
        "\u001b[1;31m---------------------------------------------------------------------------\u001b[0m\n\u001b[1;31mError\u001b[0m                                     Traceback (most recent call last)",
        "\u001b[1;32m<ipython-input-104-469024d16871>\u001b[0m in \u001b[0;36m<module>\u001b[1;34m()\u001b[0m\n\u001b[1;32m----> 1\u001b[1;33m \u001b[0mkey\u001b[0m \u001b[1;33m=\u001b[0m \u001b[0mparamiko\u001b[0m\u001b[1;33m.\u001b[0m\u001b[0mRSAKey\u001b[0m\u001b[1;33m(\u001b[0m\u001b[0mdata\u001b[0m\u001b[1;33m=\u001b[0m\u001b[0mbase64\u001b[0m\u001b[1;33m.\u001b[0m\u001b[0mdecodestring\u001b[0m\u001b[1;33m(\u001b[0m\u001b[1;34m'AAA...'\u001b[0m\u001b[1;33m)\u001b[0m\u001b[1;33m)\u001b[0m\u001b[1;33m\u001b[0m\u001b[0m\n\u001b[0m",
        "\u001b[1;32m/usr/lib/python2.7/base64.pyc\u001b[0m in \u001b[0;36mdecodestring\u001b[1;34m(s)\u001b[0m\n\u001b[0;32m    319\u001b[0m \u001b[1;32mdef\u001b[0m \u001b[0mdecodestring\u001b[0m\u001b[1;33m(\u001b[0m\u001b[0ms\u001b[0m\u001b[1;33m)\u001b[0m\u001b[1;33m:\u001b[0m\u001b[1;33m\u001b[0m\u001b[0m\n\u001b[0;32m    320\u001b[0m     \u001b[1;34m\"\"\"Decode a string.\"\"\"\u001b[0m\u001b[1;33m\u001b[0m\u001b[0m\n\u001b[1;32m--> 321\u001b[1;33m     \u001b[1;32mreturn\u001b[0m \u001b[0mbinascii\u001b[0m\u001b[1;33m.\u001b[0m\u001b[0ma2b_base64\u001b[0m\u001b[1;33m(\u001b[0m\u001b[0ms\u001b[0m\u001b[1;33m)\u001b[0m\u001b[1;33m\u001b[0m\u001b[0m\n\u001b[0m\u001b[0;32m    322\u001b[0m \u001b[1;33m\u001b[0m\u001b[0m\n\u001b[0;32m    323\u001b[0m \u001b[1;33m\u001b[0m\u001b[0m\n",
        "\u001b[1;31mError\u001b[0m: Incorrect padding"
       ]
      }
     ],
     "prompt_number": 104
    },
    {
     "cell_type": "code",
     "collapsed": false,
     "input": [
      "client = paramiko.SSHClient()"
     ],
     "language": "python",
     "metadata": {},
     "outputs": [],
     "prompt_number": 105
    },
    {
     "cell_type": "code",
     "collapsed": false,
     "input": [
      "clientkey = client.get_host_keys()"
     ],
     "language": "python",
     "metadata": {},
     "outputs": [],
     "prompt_number": 107
    },
    {
     "cell_type": "code",
     "collapsed": false,
     "input": [
      "clientkey"
     ],
     "language": "python",
     "metadata": {},
     "outputs": [
      {
       "metadata": {},
       "output_type": "pyout",
       "prompt_number": 110,
       "text": [
        "<paramiko.hostkeys.HostKeys at 0x2584f50>"
       ]
      }
     ],
     "prompt_number": 110
    },
    {
     "cell_type": "code",
     "collapsed": false,
     "input": [
      "client.connect('192.168.1.6', username='deb', password='deb')"
     ],
     "language": "python",
     "metadata": {},
     "outputs": [
      {
       "ename": "SSHException",
       "evalue": "Server '192.168.1.6' not found in known_hosts",
       "output_type": "pyerr",
       "traceback": [
        "\u001b[1;31m---------------------------------------------------------------------------\u001b[0m\n\u001b[1;31mSSHException\u001b[0m                              Traceback (most recent call last)",
        "\u001b[1;32m<ipython-input-114-bae6c0cb7787>\u001b[0m in \u001b[0;36m<module>\u001b[1;34m()\u001b[0m\n\u001b[1;32m----> 1\u001b[1;33m \u001b[0mclient\u001b[0m\u001b[1;33m.\u001b[0m\u001b[0mconnect\u001b[0m\u001b[1;33m(\u001b[0m\u001b[1;34m'192.168.1.6'\u001b[0m\u001b[1;33m,\u001b[0m \u001b[0musername\u001b[0m\u001b[1;33m=\u001b[0m\u001b[1;34m'deb'\u001b[0m\u001b[1;33m,\u001b[0m \u001b[0mpassword\u001b[0m\u001b[1;33m=\u001b[0m\u001b[1;34m'deb'\u001b[0m\u001b[1;33m)\u001b[0m\u001b[1;33m\u001b[0m\u001b[0m\n\u001b[0m",
        "\u001b[1;32m/usr/local/lib/python2.7/dist-packages/paramiko/client.pyc\u001b[0m in \u001b[0;36mconnect\u001b[1;34m(self, hostname, port, username, password, pkey, key_filename, timeout, allow_agent, look_for_keys, compress, sock, gss_auth, gss_kex, gss_deleg_creds, gss_host, banner_timeout)\u001b[0m\n\u001b[0;32m    286\u001b[0m                 \u001b[1;31m# will raise exception if the key is rejected; let that fall out\u001b[0m\u001b[1;33m\u001b[0m\u001b[1;33m\u001b[0m\u001b[0m\n\u001b[0;32m    287\u001b[0m                 self._policy.missing_host_key(self, server_hostkey_name,\n\u001b[1;32m--> 288\u001b[1;33m                                               server_key)\n\u001b[0m\u001b[0;32m    289\u001b[0m                 \u001b[1;31m# if the callback returns, assume the key is ok\u001b[0m\u001b[1;33m\u001b[0m\u001b[1;33m\u001b[0m\u001b[0m\n\u001b[0;32m    290\u001b[0m                 \u001b[0mour_server_key\u001b[0m \u001b[1;33m=\u001b[0m \u001b[0mserver_key\u001b[0m\u001b[1;33m\u001b[0m\u001b[0m\n",
        "\u001b[1;32m/usr/local/lib/python2.7/dist-packages/paramiko/client.pyc\u001b[0m in \u001b[0;36mmissing_host_key\u001b[1;34m(self, client, hostname, key)\u001b[0m\n\u001b[0;32m    568\u001b[0m         client._log(DEBUG, 'Rejecting %s host key for %s: %s' %\n\u001b[0;32m    569\u001b[0m                     (key.get_name(), hostname, hexlify(key.get_fingerprint())))\n\u001b[1;32m--> 570\u001b[1;33m         \u001b[1;32mraise\u001b[0m \u001b[0mSSHException\u001b[0m\u001b[1;33m(\u001b[0m\u001b[1;34m'Server %r not found in known_hosts'\u001b[0m \u001b[1;33m%\u001b[0m \u001b[0mhostname\u001b[0m\u001b[1;33m)\u001b[0m\u001b[1;33m\u001b[0m\u001b[0m\n\u001b[0m\u001b[0;32m    571\u001b[0m \u001b[1;33m\u001b[0m\u001b[0m\n\u001b[0;32m    572\u001b[0m \u001b[1;33m\u001b[0m\u001b[0m\n",
        "\u001b[1;31mSSHException\u001b[0m: Server '192.168.1.6' not found in known_hosts"
       ]
      }
     ],
     "prompt_number": 114
    },
    {
     "cell_type": "raw",
     "metadata": {},
     "source": []
    }
   ],
   "metadata": {}
  }
 ]
}