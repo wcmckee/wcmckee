{
 "metadata": {
  "name": "",
  "signature": "sha256:49bb912b244a9bf6c9f2a85a20eefe571e3d3ccd6986a7938867bea73848ed10"
 },
 "nbformat": 3,
 "nbformat_minor": 0,
 "worksheets": [
  {
   "cells": [
    {
     "cell_type": "code",
     "collapsed": false,
     "input": [
      "import pyping\n",
      "import nmap\n",
      "import dominate\n",
      "from dominate.tags import *\n",
      "import paramiko"
     ],
     "language": "python",
     "metadata": {},
     "outputs": [
      {
       "ename": "ImportError",
       "evalue": "No module named paramiko",
       "output_type": "pyerr",
       "traceback": [
        "\u001b[1;31m---------------------------------------------------------------------------\u001b[0m\n\u001b[1;31mImportError\u001b[0m                               Traceback (most recent call last)",
        "\u001b[1;32m<ipython-input-92-102aab4e6ef9>\u001b[0m in \u001b[0;36m<module>\u001b[1;34m()\u001b[0m\n\u001b[0;32m      3\u001b[0m \u001b[1;32mimport\u001b[0m \u001b[0mdominate\u001b[0m\u001b[1;33m\u001b[0m\u001b[0m\n\u001b[0;32m      4\u001b[0m \u001b[1;32mfrom\u001b[0m \u001b[0mdominate\u001b[0m\u001b[1;33m.\u001b[0m\u001b[0mtags\u001b[0m \u001b[1;32mimport\u001b[0m \u001b[1;33m*\u001b[0m\u001b[1;33m\u001b[0m\u001b[0m\n\u001b[1;32m----> 5\u001b[1;33m \u001b[1;32mimport\u001b[0m \u001b[0mparamiko\u001b[0m\u001b[1;33m\u001b[0m\u001b[0m\n\u001b[0m",
        "\u001b[1;31mImportError\u001b[0m: No module named paramiko"
       ]
      }
     ],
     "prompt_number": 92
    },
    {
     "cell_type": "code",
     "collapsed": false,
     "input": [
      "nm = nmap.PortScanner()"
     ],
     "language": "python",
     "metadata": {},
     "outputs": [],
     "prompt_number": 82
    },
    {
     "cell_type": "code",
     "collapsed": false,
     "input": [
      "allscan = nm.scan('192.168.1.*')"
     ],
     "language": "python",
     "metadata": {},
     "outputs": [],
     "prompt_number": 83
    },
    {
     "cell_type": "code",
     "collapsed": false,
     "input": [
      "allhosts = nm.all_hosts()"
     ],
     "language": "python",
     "metadata": {},
     "outputs": [],
     "prompt_number": 84
    },
    {
     "cell_type": "code",
     "collapsed": false,
     "input": [
      "pinglis = []\n",
      "nplis = []"
     ],
     "language": "python",
     "metadata": {},
     "outputs": [],
     "prompt_number": 85
    },
    {
     "cell_type": "code",
     "collapsed": false,
     "input": [
      "for hosts in allhosts:\n",
      "    print(hosts)\n",
      "    pinglis.append(pyping.ping(hosts))"
     ],
     "language": "python",
     "metadata": {},
     "outputs": [
      {
       "output_type": "stream",
       "stream": "stdout",
       "text": [
        "192.168.1.1\n",
        "192.168.1.11"
       ]
      },
      {
       "output_type": "stream",
       "stream": "stdout",
       "text": [
        "\n",
        "192.168.1.2"
       ]
      },
      {
       "output_type": "stream",
       "stream": "stdout",
       "text": [
        "\n",
        "192.168.1.3"
       ]
      },
      {
       "output_type": "stream",
       "stream": "stdout",
       "text": [
        "\n",
        "192.168.1.6"
       ]
      },
      {
       "output_type": "stream",
       "stream": "stdout",
       "text": [
        "\n"
       ]
      }
     ],
     "prompt_number": 86
    },
    {
     "cell_type": "code",
     "collapsed": false,
     "input": [
      "for pls in pinglis:\n",
      "    print pls.output[0]\n",
      "    nplis.append(pls.output[0])"
     ],
     "language": "python",
     "metadata": {},
     "outputs": [
      {
       "output_type": "stream",
       "stream": "stdout",
       "text": [
        "\n",
        "PYTHON-PING 192.168.1.1 (192.168.1.1): 55 data bytes\n",
        "\n",
        "PYTHON-PING 192.168.1.11 (192.168.1.11): 55 data bytes\n",
        "\n",
        "PYTHON-PING 192.168.1.2 (192.168.1.2): 55 data bytes\n",
        "\n",
        "PYTHON-PING 192.168.1.3 (192.168.1.3): 55 data bytes\n",
        "\n",
        "PYTHON-PING 192.168.1.6 (192.168.1.6): 55 data bytes\n"
       ]
      }
     ],
     "prompt_number": 87
    },
    {
     "cell_type": "code",
     "collapsed": false,
     "input": [
      "nplis"
     ],
     "language": "python",
     "metadata": {},
     "outputs": [
      {
       "metadata": {},
       "output_type": "pyout",
       "prompt_number": 88,
       "text": [
        "[u'\\nPYTHON-PING 192.168.1.1 (192.168.1.1): 55 data bytes',\n",
        " u'\\nPYTHON-PING 192.168.1.11 (192.168.1.11): 55 data bytes',\n",
        " u'\\nPYTHON-PING 192.168.1.2 (192.168.1.2): 55 data bytes',\n",
        " u'\\nPYTHON-PING 192.168.1.3 (192.168.1.3): 55 data bytes',\n",
        " u'\\nPYTHON-PING 192.168.1.6 (192.168.1.6): 55 data bytes']"
       ]
      }
     ],
     "prompt_number": 88
    },
    {
     "cell_type": "code",
     "collapsed": false,
     "input": [
      "nmapdoc = dominate.document(title='nmap scan')"
     ],
     "language": "python",
     "metadata": {},
     "outputs": [],
     "prompt_number": 89
    },
    {
     "cell_type": "code",
     "collapsed": false,
     "input": [
      "doc = dominate.document(title='nmap ping')\n",
      "\n",
      "with doc.head:\n",
      "    link(rel='stylesheet', href='style.css')\n",
      "    script(type='text/javascript', src='script.js')\n",
      "\n",
      "with doc:\n",
      "    #with div(id='header').add(ol()):\n",
      "    #    for i in pinglis:\n",
      "    #        li(a(i(), href='/%s.html' % i))\n",
      "\n",
      "    with div():\n",
      "        attr(cls='body')\n",
      "        p(nplis)\n",
      "\n",
      "print doc"
     ],
     "language": "python",
     "metadata": {},
     "outputs": [
      {
       "output_type": "stream",
       "stream": "stdout",
       "text": [
        "<!DOCTYPE html>\n",
        "<html>\n",
        "  <head>\n",
        "    <title>nmap ping</title>\n",
        "    <link href=\"style.css\" rel=\"stylesheet\">\n",
        "    <script src=\"script.js\" type=\"text/javascript\"></script>\n",
        "  </head>\n",
        "  <body>\n",
        "    <div class=\"body\">\n",
        "      <p>\n",
        "PYTHON-PING 192.168.1.1 (192.168.1.1): 55 data bytes\n",
        "PYTHON-PING 192.168.1.11 (192.168.1.11): 55 data bytes\n",
        "PYTHON-PING 192.168.1.2 (192.168.1.2): 55 data bytes\n",
        "PYTHON-PING 192.168.1.3 (192.168.1.3): 55 data bytes\n",
        "PYTHON-PING 192.168.1.6 (192.168.1.6): 55 data bytes\n",
        "      </p>\n",
        "    </div>\n",
        "  </body>\n",
        "</html>\n"
       ]
      }
     ],
     "prompt_number": 91
    },
    {
     "cell_type": "code",
     "collapsed": false,
     "input": [],
     "language": "python",
     "metadata": {},
     "outputs": []
    }
   ],
   "metadata": {}
  }
 ]
}