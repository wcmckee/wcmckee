{
 "cells": [
  {
   "cell_type": "markdown",
   "metadata": {},
   "source": [
    "<h3>Hamilton Libraries API</h3>\n",
    "\n",
    "JSON file returns libraries in Hamilton.\n",
    "\n",
    "JSON File looks like:\n",
    "\n",
    "{'name' : 'central library',\n",
    "'maoriname' : 'Te Kopa Mania o Kirikiriroa',\n",
    "'openhours' : {0 : {'openhr' : 0900, 'closehr' : 1530 }, ..}\n",
    "'currentlyopen' : True}\n",
    "\n",
    "For charges:\n",
    "\n",
    "{collections : 'adult, 'dayLoanPeriod' : 28, 'DailyOverDueCharge' : 0.50}\n",
    "\n",
    "Staff login:\n",
    "\n",
    "{'name' : William, 'id' : 8763, 'library' : garden-place, {'date' : '20151025', 'sigintime' : 1300, 'signouttime' : 1500, 'customershelped' : 3, 'tasks' : {0 : 'customerid' : 6534, 'description' : 'Helped with CV, Helped with email'}, {1 : 'customerid' : 3242, '\n"
   ]
  },
  {
   "cell_type": "code",
   "execution_count": null,
   "metadata": {
    "collapsed": true
   },
   "outputs": [],
   "source": []
  }
 ],
 "metadata": {
  "kernelspec": {
   "display_name": "Python 3",
   "language": "python",
   "name": "python3"
  },
  "language_info": {
   "codemirror_mode": {
    "name": "ipython",
    "version": 3
   },
   "file_extension": ".py",
   "mimetype": "text/x-python",
   "name": "python",
   "nbconvert_exporter": "python",
   "pygments_lexer": "ipython3",
   "version": "3.4.2"
  }
 },
 "nbformat": 4,
 "nbformat_minor": 0
}
