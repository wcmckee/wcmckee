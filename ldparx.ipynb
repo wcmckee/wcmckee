{
 "cells": [
  {
   "cell_type": "markdown",
   "metadata": {},
   "source": [
    "Ludum Dare Parse XML\n",
    "\n",
    "script to parse recent comments on ld"
   ]
  },
  {
   "cell_type": "code",
   "execution_count": 22,
   "metadata": {
    "collapsed": true
   },
   "outputs": [],
   "source": [
    "import requests\n",
    "import xmltodict\n",
    "import json\n",
    "import random"
   ]
  },
  {
   "cell_type": "code",
   "execution_count": null,
   "metadata": {
    "collapsed": true
   },
   "outputs": [],
   "source": []
  },
  {
   "cell_type": "code",
   "execution_count": 3,
   "metadata": {
    "collapsed": true
   },
   "outputs": [],
   "source": [
    "ldreq = requests.get('http://ludumdare.com/compo/feed/')"
   ]
  },
  {
   "cell_type": "code",
   "execution_count": 5,
   "metadata": {
    "collapsed": false
   },
   "outputs": [],
   "source": [
    "ldxmd = xmltodict.parse(ldreq.text)"
   ]
  },
  {
   "cell_type": "code",
   "execution_count": null,
   "metadata": {
    "collapsed": true
   },
   "outputs": [],
   "source": [
    "ldx"
   ]
  },
  {
   "cell_type": "code",
   "execution_count": 23,
   "metadata": {
    "collapsed": false
   },
   "outputs": [],
   "source": [
    "ldlen = ldxmd['rss']['channel']['item']"
   ]
  },
  {
   "cell_type": "code",
   "execution_count": 24,
   "metadata": {
    "collapsed": false
   },
   "outputs": [
    {
     "data": {
      "text/plain": [
       "20"
      ]
     },
     "execution_count": 24,
     "metadata": {},
     "output_type": "execute_result"
    }
   ],
   "source": [
    "len(ldlen)"
   ]
  },
  {
   "cell_type": "code",
   "execution_count": 25,
   "metadata": {
    "collapsed": true
   },
   "outputs": [],
   "source": [
    "ranld = random.randint(0, len(ldlen))"
   ]
  },
  {
   "cell_type": "code",
   "execution_count": 28,
   "metadata": {
    "collapsed": false
   },
   "outputs": [
    {
     "data": {
      "text/plain": [
       "'Monster Results'"
      ]
     },
     "execution_count": 28,
     "metadata": {},
     "output_type": "execute_result"
    }
   ],
   "source": [
    "ldlen[ranld]['title']"
   ]
  },
  {
   "cell_type": "code",
   "execution_count": 29,
   "metadata": {
    "collapsed": false
   },
   "outputs": [
    {
     "data": {
      "text/plain": [
       "'So monster started when I read one of the themes was &#8220;chain reaction&#8221;, and I said I got a cool idea that was inspired by the passive level from geometry wars. My original idea had you tossing &#8220;coins&#8221; in the middle of the road which caused nearby passengers to run into the middle of the [&#8230;]'"
      ]
     },
     "execution_count": 29,
     "metadata": {},
     "output_type": "execute_result"
    }
   ],
   "source": [
    "ldlen[ranld]['description']"
   ]
  },
  {
   "cell_type": "code",
   "execution_count": 31,
   "metadata": {
    "collapsed": false
   },
   "outputs": [
    {
     "data": {
      "text/plain": [
       "OrderedDict([('title', 'Monster Results'),\n",
       "             ('link',\n",
       "              'http://ludumdare.com/compo/2015/09/17/monster-results/'),\n",
       "             ('comments',\n",
       "              'http://ludumdare.com/compo/2015/09/17/monster-results/#comments'),\n",
       "             ('pubDate', 'Fri, 18 Sep 2015 04:39:48 +0000'),\n",
       "             ('dc:creator', 'Aiursrage2k'),\n",
       "             ('category', 'LD #33'),\n",
       "             ('guid',\n",
       "              OrderedDict([('@isPermaLink', 'false'),\n",
       "                           ('#text',\n",
       "                            'http://ludumdare.com/compo/?p=502241')])),\n",
       "             ('description',\n",
       "              'So monster started when I read one of the themes was &#8220;chain reaction&#8221;, and I said I got a cool idea that was inspired by the passive level from geometry wars. My original idea had you tossing &#8220;coins&#8221; in the middle of the road which caused nearby passengers to run into the middle of the [&#8230;]'),\n",
       "             ('content:encoded',\n",
       "              '<h3>So monster started when I read one of the themes was &#8220;chain reaction&#8221;, and I said I got a cool idea that was inspired by the passive level from geometry wars. My original idea had you tossing &#8220;coins&#8221; in the middle of the road which caused nearby passengers to run into the middle of the street\\xa0to get it, they run into the invincible mines planted by your minions which causes the whole car crash.\\xa0It turned out to be a real stinking mess, I dont even know why I left it in the virtual reality setting.</h3>\\n<table cellpadding=\"5\">\\n<tbody>\\n<tr>\\n<td align=\"center\">#461</td>\\n<td>Theme(Jam)</td>\\n<td align=\"right\">3.54</td>\\n</tr>\\n<tr>\\n<td align=\"center\">#472</td>\\n<td>Fun(Jam)</td>\\n<td align=\"right\">3.13</td>\\n</tr>\\n<tr>\\n<td align=\"center\">#599</td>\\n<td>Mood(Jam)</td>\\n<td align=\"right\">3.00</td>\\n</tr>\\n<tr>\\n<td align=\"center\">#609</td>\\n<td>Humor(Jam)</td>\\n<td align=\"right\">2.65</td>\\n</tr>\\n<tr>\\n<td align=\"center\">#625</td>\\n<td>Innovation(Jam)</td>\\n<td align=\"right\">2.88</td>\\n</tr>\\n<tr>\\n<td align=\"center\">#677</td>\\n<td>Overall(Jam)</td>\\n<td align=\"right\">3.04</td>\\n</tr>\\n<tr>\\n<td align=\"center\">#1504</td>\\n<td>Coolness</td>\\n<td align=\"right\">44%</td>\\n</tr>\\n</tbody>\\n</table>\\n<p>&nbsp;</p>'),\n",
       "             ('wfw:commentRss',\n",
       "              'http://ludumdare.com/compo/2015/09/17/monster-results/feed/'),\n",
       "             ('slash:comments', '0')])"
      ]
     },
     "execution_count": 31,
     "metadata": {},
     "output_type": "execute_result"
    }
   ],
   "source": [
    "ldlen[ranld]"
   ]
  },
  {
   "cell_type": "code",
   "execution_count": null,
   "metadata": {
    "collapsed": true
   },
   "outputs": [],
   "source": []
  },
  {
   "cell_type": "code",
   "execution_count": null,
   "metadata": {
    "collapsed": true
   },
   "outputs": [],
   "source": []
  },
  {
   "cell_type": "code",
   "execution_count": null,
   "metadata": {
    "collapsed": true
   },
   "outputs": [],
   "source": []
  },
  {
   "cell_type": "code",
   "execution_count": null,
   "metadata": {
    "collapsed": true
   },
   "outputs": [],
   "source": []
  }
 ],
 "metadata": {
  "kernelspec": {
   "display_name": "Python 3",
   "language": "python",
   "name": "python3"
  },
  "language_info": {
   "codemirror_mode": {
    "name": "ipython",
    "version": 3
   },
   "file_extension": ".py",
   "mimetype": "text/x-python",
   "name": "python",
   "nbconvert_exporter": "python",
   "pygments_lexer": "ipython3",
   "version": "3.4.2"
  }
 },
 "nbformat": 4,
 "nbformat_minor": 0
}
