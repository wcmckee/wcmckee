{
 "metadata": {
  "name": "",
  "signature": "sha256:473abace2032a6fba18daa59a9a9c4b2e6b561c76811d82ff2e78aef19e79b7b"
 },
 "nbformat": 3,
 "nbformat_minor": 0,
 "worksheets": [
  {
   "cells": [
    {
     "cell_type": "markdown",
     "metadata": {},
     "source": [
      "<h1>Reddit Gets Drawn Snatch Script</h1>\n",
      "\n",
      "Creates the website redditgetsdrawnrecentreference. It contains the 25 most recent posts on r/redditgetsdrawn. title, image url, and username\n",
      "\n",
      "TODO:\n",
      "Contains artwork replies to each thread\n",
      "\n",
      "This is a Python script that takes data from reddit and posts it to another subreddit. It also creates a html file with the images embed into. The images are the most recent 25 on r/redditgetsdrawn."
     ]
    },
    {
     "cell_type": "markdown",
     "metadata": {},
     "source": [
      "RedditGetsDrawn Snatch\n",
      " \n",
      "This is a Python script that takes data from reddit and posts it to another subreddit. It also creates a html file with the images embed into. The images are the most recent 25 on r/redditgetsdrawn.\n",
      " \n",
      "\n",
      "<markdowncell>\n",
      "\n",
      "TODO\n",
      " \n",
      "submit art to users via website\n",
      " \n",
      "fix image sizes (need to scale down to 550px)\n",
      " \n",
      "Save to server rather than imgur\n",
      " \n",
      "Archieve, snapshots of rgd\n",
      " \n",
      "more artcontrol\n",
      " \n",
      "itwillbemine comments to html - currently being saved in contact \n",
      " \n",
      "work on css, div up page, title, side, body, fo\n",
      "\n",
      "update twitter with ONE IMAGE and announce that the list has been updated.\n",
      " \n",
      "write blog post and submits to artcontroldrawsyou/blog \n",
      " \n",
      "gets sticked post on reddit\n",
      " \n",
      "delete about/contact page and have on all same page. can still have link to blog. \n",
      "about \n",
      "contact etc... along the top.\n",
      "other sections\n",
      " \n",
      "post images to blog for archieve - save body to wcmckee.com/blog - md format?\n",
      " \n",
      "nikola install - build site.\n",
      " \n",
      "cronjob to update site ever ?? hours? 4?\n",
      " \n",
      "photos section: latest 25 photos submitted to redditgetsdrawn.\n",
      "art section: latest 25 art submitted to redditgetsdrawn. "
     ]
    },
    {
     "cell_type": "code",
     "collapsed": false,
     "input": [
      "import os\n",
      "import random\n",
      "import requests\n",
      "from bs4 import BeautifulSoup\n",
      "import re\n",
      "import json\n",
      "import time\n",
      "import praw\n",
      "import dominate\n",
      "from dominate.tags import *\n",
      "from time import gmtime, strftime\n",
      "import nose\n",
      "import unittest\n",
      "\n",
      "# <codecell>"
     ],
     "language": "python",
     "metadata": {},
     "outputs": [],
     "prompt_number": 233
    },
    {
     "cell_type": "code",
     "collapsed": false,
     "input": [
      "chdira = ('/home/wcmckee/artcontroldrawsyou')\n",
      "os.chdir(chdira)"
     ],
     "language": "python",
     "metadata": {},
     "outputs": [],
     "prompt_number": 234
    },
    {
     "cell_type": "code",
     "collapsed": false,
     "input": [
      "r = praw.Reddit(user_agent='rgdsnatch')\n",
      "\n",
      "# <codecell>\n",
      "\n",
      "#r.login('artcontrol', 'taylor123vag!')\n",
      "\n",
      "# <codecell>\n",
      "\n",
      "rd = r.get_subreddit('redditgetsdrawn')\n",
      "\n",
      "# <codecell>\n",
      "\n",
      "subz = rd.get_hot().next()\n",
      "istit = (subz.title)\n",
      "istxt = (subz.selftext_html)\n",
      "istick = (subz.stickied)\n",
      "\n",
      "rdnewz = rd.get_new()\n",
      "\n",
      "rdnew = []"
     ],
     "language": "python",
     "metadata": {},
     "outputs": [],
     "prompt_number": 235
    },
    {
     "cell_type": "code",
     "collapsed": false,
     "input": [
      "reddraw = praw.Reddit(user_agent='rgdsnatch')"
     ],
     "language": "python",
     "metadata": {},
     "outputs": [],
     "prompt_number": 236
    },
    {
     "cell_type": "code",
     "collapsed": false,
     "input": [
      "getrddraw = reddraw.get_subreddit('redditgetsdrawn')"
     ],
     "language": "python",
     "metadata": {},
     "outputs": [],
     "prompt_number": 237
    },
    {
     "cell_type": "code",
     "collapsed": false,
     "input": [
      "subz = getrddraw.get_new()"
     ],
     "language": "python",
     "metadata": {},
     "outputs": [],
     "prompt_number": 238
    },
    {
     "cell_type": "code",
     "collapsed": false,
     "input": [
      "class TestRedditFunction(unittest.TestCase):\n",
      "    \n",
      "    def setUp(self):\n",
      "        self.seq = reddraw.get_subreddit('redditgetsdrawn')\n",
      "        \n",
      "    def testredit(self):\n",
      "        drawnew('redditgetsdrawn') "
     ],
     "language": "python",
     "metadata": {},
     "outputs": [],
     "prompt_number": 239
    },
    {
     "cell_type": "code",
     "collapsed": false,
     "input": [
      "def drawnew(subred):\n",
      "    getrdraw = reddraw.get_subreddit(subred)\n",
      "    return getrdraw"
     ],
     "language": "python",
     "metadata": {},
     "outputs": [],
     "prompt_number": 240
    },
    {
     "cell_type": "code",
     "collapsed": false,
     "input": [
      "rdrws = drawnew('redditgetsdrawn')"
     ],
     "language": "python",
     "metadata": {},
     "outputs": [],
     "prompt_number": 241
    },
    {
     "cell_type": "code",
     "collapsed": false,
     "input": [
      "rtohr = rdrws.get_controversial_from_all()"
     ],
     "language": "python",
     "metadata": {},
     "outputs": [],
     "prompt_number": 242
    },
    {
     "cell_type": "code",
     "collapsed": false,
     "input": [
      "for imgz in rtohr:\n",
      "    #print imgz.selftext\n",
      "    print imgz.num_comments"
     ],
     "language": "python",
     "metadata": {},
     "outputs": [
      {
       "output_type": "stream",
       "stream": "stdout",
       "text": [
        "8\n",
        "33\n",
        "26\n",
        "8\n",
        "71\n",
        "53\n",
        "7\n",
        "23\n",
        "5\n",
        "61\n",
        "6\n",
        "20\n",
        "59\n",
        "58\n",
        "14\n",
        "3\n",
        "7\n",
        "10\n",
        "26\n",
        "56\n",
        "37\n",
        "15\n",
        "2\n",
        "3\n",
        "0\n"
       ]
      }
     ],
     "prompt_number": 243
    },
    {
     "cell_type": "code",
     "collapsed": false,
     "input": [
      "rdnew = []"
     ],
     "language": "python",
     "metadata": {},
     "outputs": [],
     "prompt_number": 244
    },
    {
     "cell_type": "code",
     "collapsed": false,
     "input": [
      "rdnewz = getrddraw.get_new()\n",
      "\n",
      "# <codecell>\n",
      "\n",
      "rdnew = []\n",
      "\n",
      "# <codecell>\n",
      "\n",
      "rdnew\n",
      "\n",
      "# <codecell>\n",
      "\n",
      "for uz in rdnewz:\n",
      "    #print uz\n",
      "    rdnew.append(uz)\n"
     ],
     "language": "python",
     "metadata": {},
     "outputs": [],
     "prompt_number": 245
    },
    {
     "cell_type": "code",
     "collapsed": false,
     "input": [
      "datelis = []\n",
      "refdic = {}\n",
      "rgdef = {'test': 'testvalue'}\n",
      "comdefz = []\n"
     ],
     "language": "python",
     "metadata": {},
     "outputs": [],
     "prompt_number": 246
    },
    {
     "cell_type": "code",
     "collapsed": false,
     "input": [
      "for rdz in rdnew:\n",
      "    print rdz.name\n",
      "    print rdz.title\n",
      "    print rdz.url\n",
      "    print rdz.author\n",
      "    print rdz.secure_media\n",
      "    print rdz.num_comments\n",
      "    print rdz.comments\n",
      "    comdefz.append(rdz.comments)\n",
      "    datelis.append(rdz.title)\n",
      "    datelis.append(rdz.url)\n",
      "    datelis.append(rdz.author)\n",
      "    comdict = {'comtxt':rdz.comments}\n",
      "    rgdef.update({rdz.author: rdz.url})"
     ],
     "language": "python",
     "metadata": {},
     "outputs": [
      {
       "output_type": "stream",
       "stream": "stdout",
       "text": [
        "t3_2k9geu\n",
        "I would love if someone could draw me and my girlfriend like two silly cartoon characters!\n",
        "http://i.imgur.com/XYurNpE.jpg\n",
        "briel44\n",
        "None\n",
        "0\n",
        "[]"
       ]
      },
      {
       "output_type": "stream",
       "stream": "stdout",
       "text": [
        "\n",
        "t3_2k9bco\n",
        "Hi! I'm from NYC and am doing a show in NZ. Wondering if anyone could draw me in this costume! I'm open to interpretation and style! The wig is pretty horrendous so feel free to draw something different up there is the mood strikes you! There's a pic of my natural hair here too. Thanks guys!!!!\n",
        "http://imgur.com/59QboUz\n",
        "Ashloren712\n",
        "None\n",
        "0\n",
        "[]"
       ]
      },
      {
       "output_type": "stream",
       "stream": "stdout",
       "text": [
        "\n",
        "t3_2k96b0\n",
        "It would be so super sweet if someone could draw this terrifying picture of my best friend and I!\n",
        "http://i.imgur.com/0XhrlQl.jpg\n",
        "Mongostein\n",
        "None\n",
        "0\n",
        "[]"
       ]
      },
      {
       "output_type": "stream",
       "stream": "stdout",
       "text": [
        "\n",
        "t3_2k95ee\n",
        "This is my favorite picture of my dad. Any takers?\n",
        "http://i.imgur.com/rN226wf.jpg\n",
        "cocobug\n",
        "None\n",
        "0\n",
        "[]"
       ]
      },
      {
       "output_type": "stream",
       "stream": "stdout",
       "text": [
        "\n",
        "t3_2k93ve\n",
        "Could someone draw this picture of me and my brother last halloween, any style would be rad.\n",
        "http://i.imgur.com/dTH0ocz.jpg\n",
        "merryprankster2990\n",
        "None\n",
        "0\n",
        "[]"
       ]
      },
      {
       "output_type": "stream",
       "stream": "stdout",
       "text": [
        "\n",
        "t3_2k92j2\n",
        "Please draw me and my best friend for her birthday!\n",
        "http://i.imgur.com/yYE33gK.jpg\n",
        "Terreras\n",
        "None\n",
        "0\n",
        "[]"
       ]
      },
      {
       "output_type": "stream",
       "stream": "stdout",
       "text": [
        "\n",
        "t3_2k91tu\n",
        "In honor of Halloween could someone draw this picture of me and my sister from years ago I know she'd love it\n",
        "http://i.imgur.com/cEU7BHb.png\n",
        "nadnerb_\n",
        "None\n",
        "0\n",
        "[]"
       ]
      },
      {
       "output_type": "stream",
       "stream": "stdout",
       "text": [
        "\n",
        "t3_2k8q0q\n",
        "Someone care to draw my terrified looking cat in a princess hat? Go wild!\n",
        "http://i.imgur.com/zPD9QQP.jpg\n",
        "kristidoll23\n",
        "None\n",
        "0\n",
        "[]"
       ]
      },
      {
       "output_type": "stream",
       "stream": "stdout",
       "text": [
        "\n",
        "t3_2k8ri5\n",
        "My sister in law got married this summer, this is a picture of her dancing with my daughter. Would any one care to draw it?\n",
        "http://imgur.com/ZQureJX\n",
        "torn_rag_doll\n",
        "None\n",
        "0\n",
        "[]"
       ]
      },
      {
       "output_type": "stream",
       "stream": "stdout",
       "text": [
        "\n",
        "t3_2k8uor\n",
        "My doggy's ridiculously photogenic face. Draw her, please?\n",
        "http://i.imgur.com/yQhTBem.jpg\n",
        "KB246\n",
        "None\n",
        "1\n",
        "[<praw.objects.Comment object at 0x2d75170>, <praw.objects.Comment object at 0x2d759d0>]"
       ]
      },
      {
       "output_type": "stream",
       "stream": "stdout",
       "text": [
        "\n",
        "t3_2k8z7y\n",
        "Something different, can you guys draw me ?\n",
        "http://imgur.com/4kJExJC\n",
        "wafflz\n",
        "None\n",
        "0\n",
        "[]"
       ]
      },
      {
       "output_type": "stream",
       "stream": "stdout",
       "text": [
        "\n",
        "t3_2k8zg7\n",
        "Someone want to draw me? Thanks! http://imgur.com/8G5x9aj\n",
        "http://imgur.com/8G5x9aj\n",
        "Briand2714\n",
        "None\n",
        "0\n",
        "[]"
       ]
      },
      {
       "output_type": "stream",
       "stream": "stdout",
       "text": [
        "\n",
        "t3_2k8mjv\n",
        "Hi RGD artists, could you please draw my friend in a cartoon-ish way? :)\n",
        "http://i.imgur.com/uAPkNKK.jpg\n",
        "piratekab\n",
        "None\n",
        "4\n",
        "[<praw.objects.Comment object at 0x2f82450>, <praw.objects.Comment object at 0x2f8bdf0>, <praw.objects.Comment object at 0x2fdfa10>, <praw.objects.Comment object at 0x2f8bef0>]"
       ]
      },
      {
       "output_type": "stream",
       "stream": "stdout",
       "text": [
        "\n",
        "t3_2k8jvt\n",
        "Can someone please draw my favourite photo of my daughter?\n",
        "http://imgur.com/1ILhqlj\n",
        "run-by-fruiting\n",
        "None\n",
        "0\n",
        "[]"
       ]
      },
      {
       "output_type": "stream",
       "stream": "stdout",
       "text": [
        "\n",
        "t3_2k8io8\n",
        "Would anyone like to draw me and my SO on our first trip together in Vegas?\n",
        "http://i.imgur.com/YxLr2hg.jpg\n",
        "Nothing2SeaHere\n",
        "None\n",
        "0\n",
        "[]"
       ]
      },
      {
       "output_type": "stream",
       "stream": "stdout",
       "text": [
        "\n",
        "t3_2k8i36\n",
        "Me after cutting about 10 inches off my hair.\n",
        "http://i.imgur.com/Rojinf7.jpg\n",
        "KieraJo\n",
        "None\n",
        "3\n",
        "[<praw.objects.Comment object at 0x2e0c850>, <praw.objects.Comment object at 0x2d75f70>]"
       ]
      },
      {
       "output_type": "stream",
       "stream": "stdout",
       "text": [
        "\n",
        "t3_2k8g0z\n",
        "Would love if someone could make this picture of my boyfriend and son, would love to surmise him for birthday!\n",
        "http://imgur.com/SQT3Dzb\n",
        "Tarabee7\n",
        "None\n",
        "2\n",
        "[<praw.objects.Comment object at 0x2f64750>, <praw.objects.Comment object at 0x2f82370>]"
       ]
      },
      {
       "output_type": "stream",
       "stream": "stdout",
       "text": [
        "\n",
        "t3_2k8eja\n",
        "Try your hand at drawing my inception tradition of every time I meet my hero, Captain America? :)\n",
        "http://i.imgur.com/cspaP2M.jpg\n",
        "CaptainHawkIron\n",
        "None\n",
        "0\n",
        "[]"
       ]
      },
      {
       "output_type": "stream",
       "stream": "stdout",
       "text": [
        "\n",
        "t3_2k8d8j\n",
        "Our due date was yesterday, and we're still waiting -- so we're passing the time by DANCING!\n",
        "http://imgur.com/a/ii2ln#0\n",
        "heretodraw\n",
        "None\n",
        "1\n",
        "[<praw.objects.Comment object at 0x2d753f0>]"
       ]
      },
      {
       "output_type": "stream",
       "stream": "stdout",
       "text": [
        "\n",
        "t3_2k8br9\n",
        "Best Dad a girl could ask for. Can someone draw this for him to hang on his wall?\n",
        "http://i.imgur.com/r5nEnVR.jpg\n",
        "DuhKeeks\n",
        "None\n",
        "0\n",
        "[]"
       ]
      },
      {
       "output_type": "stream",
       "stream": "stdout",
       "text": [
        "\n",
        "t3_2k89zz\n",
        "my son's new haircut .\n",
        "http://i.imgur.com/odsASLP.jpg\n",
        "bomsna\n",
        "None\n",
        "1\n",
        "[<praw.objects.Comment object at 0x2f8b0d0>]"
       ]
      },
      {
       "output_type": "stream",
       "stream": "stdout",
       "text": [
        "\n",
        "t3_2k87fs\n",
        "Can someone draw this picture of me and my family?\n",
        "http://i.imgur.com/hzSZswm.jpeg\n",
        "Dazhaz\n",
        "None\n",
        "0\n",
        "[]"
       ]
      },
      {
       "output_type": "stream",
       "stream": "stdout",
       "text": [
        "\n",
        "t3_2k86dk\n",
        "A deer friend of mine did Halloween early I was hoping someone could capture her wild beauty.\n",
        "http://imgur.com/Hw8tWSz\n",
        "TheDirtyWriter\n",
        "None\n",
        "0\n",
        "[]"
       ]
      },
      {
       "output_type": "stream",
       "stream": "stdout",
       "text": [
        "\n",
        "t3_2k85xx\n",
        "Can someone please draw my grandfather? His passion is gardening\n",
        "http://imgur.com/ZdEcSYd\n",
        "hudsonator04\n",
        "None\n",
        "9\n",
        "[<praw.objects.Comment object at 0x2d757d0>, <praw.objects.Comment object at 0x2e15570>, <praw.objects.Comment object at 0x2e15c30>]"
       ]
      },
      {
       "output_type": "stream",
       "stream": "stdout",
       "text": [
        "\n",
        "t3_2k856b\n",
        "This is the last picture of me and my best friend before I threw him into the ocean (I'm the human, btw). It'd be real cool if you could draw us!\n",
        "http://i.imgur.com/ckdiobV.jpg\n",
        "CarettaSquared\n",
        "None\n",
        "15\n",
        "[<praw.objects.Comment object at 0x2e3b9f0>, <praw.objects.Comment object at 0x2f031b0>, <praw.objects.Comment object at 0x2f03210>]"
       ]
      },
      {
       "output_type": "stream",
       "stream": "stdout",
       "text": [
        "\n"
       ]
      }
     ],
     "prompt_number": 247
    },
    {
     "cell_type": "code",
     "collapsed": false,
     "input": [
      "comdict"
     ],
     "language": "python",
     "metadata": {},
     "outputs": [
      {
       "metadata": {},
       "output_type": "pyout",
       "prompt_number": 248,
       "text": [
        "{'comtxt': [<praw.objects.Comment at 0x2e3b9f0>,\n",
        "  <praw.objects.Comment at 0x2f031b0>,\n",
        "  <praw.objects.Comment at 0x2f03210>]}"
       ]
      }
     ],
     "prompt_number": 248
    },
    {
     "cell_type": "code",
     "collapsed": false,
     "input": [
      "comply = []"
     ],
     "language": "python",
     "metadata": {},
     "outputs": [],
     "prompt_number": 249
    },
    {
     "cell_type": "code",
     "collapsed": false,
     "input": [
      "fddict = {'test': 'test'}"
     ],
     "language": "python",
     "metadata": {},
     "outputs": [],
     "prompt_number": 255
    },
    {
     "cell_type": "code",
     "collapsed": false,
     "input": [
      "for comaq in comdefz:\n",
      "    for fdz in comaq:\n",
      "        print fdz\n",
      "        print fdz.author\n",
      "        print fdz.created_utc\n",
      "        print fdz.replies\n",
      "        fddict.update({fdz.author: fdz.body})\n",
      "        comply.append(fdz.replies)"
     ],
     "language": "python",
     "metadata": {},
     "outputs": [
      {
       "output_type": "stream",
       "stream": "stdout",
       "text": [
        "[deleted]\n",
        "None\n",
        "1414212594.0\n",
        "[]\n",
        "http://imgur.com/m907OZb\n",
        "greenmask\n",
        "1414212963.0\n",
        "[]\n",
        "[post it](http://imgur.com/b9du8oY)\n",
        "\n",
        "danimalod\n",
        "1414193352.0\n",
        "[]\n",
        "http://imgur.com/Q6pmUBJ\n",
        "TheShadowX\n",
        "1414197325.0\n",
        "[]\n",
        "http://i.imgur.com/VVBkg9b.jpg\n",
        "Quillworth\n",
        "1414197499.0\n",
        "[]\n",
        "http://imgur.com/F9JlvwG\n",
        "greenmask\n",
        "1414202263.0\n",
        "[]\n",
        "[DeviantArt Sketch](http://garrettvfinazzo.deviantart.com/art/S1024-3-490502440)\n",
        "redgarrett\n",
        "1414204659.0\n",
        "[<praw.objects.Comment object at 0x2f82c50>]\n",
        "Some sketches for You, I took some liberties to rotate the image:\n",
        "\n",
        "1/ First l...\n",
        "drawinglearner\n",
        "1414207475.0\n",
        "[]\n",
        "[Here you go!](http://i.imgur.com/fr9GCp1.jpg ) \n",
        "Quillworth\n",
        "1414199322.0\n",
        "[]\n",
        "OP, you broke our frequent posting rule, your last post was eight hours befor...\n",
        "ItWillBeMine\n",
        "1414200176.0\n",
        "[]\n",
        "[Sorry about the faces.  I was focusing on the forms.](http://i.imgur.com/OnH...\n",
        "tocilog\n",
        "1414214167.0\n",
        "[]\n",
        "[Here's a go at it.](http://i.imgur.com/Y1pmhPZ.jpg)\n",
        "My first post on this su...\n",
        "FalseAD\n",
        "1414196681.0\n",
        "[]\n",
        "Hello!\n",
        "\n",
        "I did a quick alla prima oil sketch for you.  Enjoy!\n",
        "\n",
        "[Garden Grandpa...\n",
        "cwda\n",
        "1414190515.0\n",
        "[<praw.objects.Comment object at 0x2eaa6b0>]\n",
        "[a fun sketch for you](http://imgur.com/i0PtIMI)\n",
        "\n",
        "Check out my other works on...\n",
        "Jubhubmubfub\n",
        "1414191946.0\n",
        "[<praw.objects.Comment object at 0x2e2e770>, <praw.objects.Comment object at 0x2e3bc50>]\n",
        "[DeviantArt Link](http://garrettvfinazzo.deviantart.com/art/S1024-1-490494235)\n",
        "redgarrett"
       ]
      },
      {
       "output_type": "stream",
       "stream": "stdout",
       "text": [
        "\n",
        "1414201709.0\n",
        "[]\n",
        "[you're the what](http://imgur.com/f7lZ4Rs)\n",
        "\n",
        "[happy end](http://imgur.com/fIe...\n",
        "TheShadowX\n",
        "1414181595.0\n",
        "[<praw.objects.Comment object at 0x2eaa510>, <praw.objects.Comment object at 0x2d75350>, <praw.objects.Comment object at 0x2eaabb0>]\n",
        "[here you go!](http://imgur.com/6uqQdlo)\n",
        "greenmask\n",
        "1414204559.0\n",
        "[<praw.objects.Comment object at 0x2e2e890>, <praw.objects.Comment object at 0x2f675d0>]\n",
        "There are very few feelings quite as happy and sad as letting a wild animal g...\n",
        "LadyParnassus\n",
        "1414204538.0\n",
        "[<praw.objects.Comment object at 0x2eaadf0>, <praw.objects.Comment object at 0x2f03990>]\n"
       ]
      }
     ],
     "prompt_number": 256
    },
    {
     "cell_type": "code",
     "collapsed": false,
     "input": [
      "for coaz in comply:\n",
      "    print coaz\n",
      "    for coa in coaz:\n",
      "        print coa.body\n",
      "        print coa.author"
     ],
     "language": "python",
     "metadata": {},
     "outputs": [
      {
       "output_type": "stream",
       "stream": "stdout",
       "text": [
        "[]\n",
        "[]\n",
        "[]\n",
        "[]\n",
        "[]\n",
        "[]\n",
        "[<praw.objects.Comment object at 0x2f82c50>]\n",
        "This is great! \n",
        "TeachersPen\n",
        "[]\n",
        "[]\n",
        "[]\n",
        "[]\n",
        "[]\n",
        "[<praw.objects.Comment object at 0x2eaa6b0>]\n",
        "So beautiful! You captured his lovely expression so well. \n",
        "Jigglypops\n",
        "[<praw.objects.Comment object at 0x2e2e770>, <praw.objects.Comment object at 0x2e3bc50>]\n",
        "He looks adorable!\n",
        "putty_cat\n",
        "Great caricature. And the eyebrow covering the eye, good detail.\n",
        "oekaki\n",
        "[]\n",
        "[<praw.objects.Comment object at 0x2eaa510>, <praw.objects.Comment object at 0x2d75350>, <praw.objects.Comment object at 0x2eaabb0>]\n",
        "Gotta be careful with the ole' switcheroo - this doesn't contain a likeness of OP, which is against our rules. I'll leave it 'cause humor....but please keep in mind for next time.\n",
        "ItWillBeMine\n",
        "creative! didn't expect this.\n",
        "Uber_Ober\n",
        "Real awesome!\n",
        "CarettaSquared\n",
        "[<praw.objects.Comment object at 0x2e2e890>, <praw.objects.Comment object at 0x2f675d0>]\n",
        "Awesome smile!\n",
        "CarettaSquared\n",
        "Hehehe he looks like he's from Spongebob, it's great!\n",
        "LucarioPrime\n",
        "[<praw.objects.Comment object at 0x2eaadf0>, <praw.objects.Comment object at 0x2f03990>]\n",
        "Great picture, thanks so much.  And yes, we did our best with this guy, but it's all up to him now.  He's been out in the water for a good four or five months now, hopefully we'll never hear from him again.\n",
        "CarettaSquared\n",
        "So cute.\n",
        "LucarioPrime\n",
        "[]\n",
        "[]\n",
        "[]\n",
        "[]\n",
        "[]\n",
        "[]\n",
        "[<praw.objects.Comment object at 0x2f82c50>]\n",
        "This is great! \n",
        "TeachersPen\n",
        "[]\n",
        "[]\n",
        "[]\n",
        "[]\n",
        "[]\n",
        "[<praw.objects.Comment object at 0x2eaa6b0>]\n",
        "So beautiful! You captured his lovely expression so well. \n",
        "Jigglypops\n",
        "[<praw.objects.Comment object at 0x2e2e770>, <praw.objects.Comment object at 0x2e3bc50>]\n",
        "He looks adorable!\n",
        "putty_cat\n",
        "Great caricature. And the eyebrow covering the eye, good detail.\n",
        "oekaki\n",
        "[]\n",
        "[<praw.objects.Comment object at 0x2eaa510>, <praw.objects.Comment object at 0x2d75350>, <praw.objects.Comment object at 0x2eaabb0>]\n",
        "Gotta be careful with the ole' switcheroo - this doesn't contain a likeness of OP, which is against our rules. I'll leave it 'cause humor....but please keep in mind for next time.\n",
        "ItWillBeMine\n",
        "creative! didn't expect this.\n",
        "Uber_Ober\n",
        "Real awesome!\n",
        "CarettaSquared\n",
        "[<praw.objects.Comment object at 0x2e2e890>, <praw.objects.Comment object at 0x2f675d0>]\n",
        "Awesome smile!\n",
        "CarettaSquared\n",
        "Hehehe he looks like he's from Spongebob, it's great!\n"
       ]
      },
      {
       "output_type": "stream",
       "stream": "stdout",
       "text": [
        "LucarioPrime\n",
        "[<praw.objects.Comment object at 0x2eaadf0>, <praw.objects.Comment object at 0x2f03990>]\n",
        "Great picture, thanks so much.  And yes, we did our best with this guy, but it's all up to him now.  He's been out in the water for a good four or five months now, hopefully we'll never hear from him again.\n",
        "CarettaSquared\n",
        "So cute.\n",
        "LucarioPrime\n",
        "[]\n",
        "[]\n",
        "[]\n",
        "[]\n",
        "[]\n",
        "[]\n",
        "[<praw.objects.Comment object at 0x2f82c50>]\n",
        "This is great! \n",
        "TeachersPen\n",
        "[]\n",
        "[]\n",
        "[]\n",
        "[]\n",
        "[]\n",
        "[<praw.objects.Comment object at 0x2eaa6b0>]\n",
        "So beautiful! You captured his lovely expression so well. \n",
        "Jigglypops\n",
        "[<praw.objects.Comment object at 0x2e2e770>, <praw.objects.Comment object at 0x2e3bc50>]\n",
        "He looks adorable!\n",
        "putty_cat\n",
        "Great caricature. And the eyebrow covering the eye, good detail.\n",
        "oekaki\n",
        "[]\n",
        "[<praw.objects.Comment object at 0x2eaa510>, <praw.objects.Comment object at 0x2d75350>, <praw.objects.Comment object at 0x2eaabb0>]\n",
        "Gotta be careful with the ole' switcheroo - this doesn't contain a likeness of OP, which is against our rules. I'll leave it 'cause humor....but please keep in mind for next time.\n",
        "ItWillBeMine\n",
        "creative! didn't expect this.\n",
        "Uber_Ober\n",
        "Real awesome!\n",
        "CarettaSquared\n",
        "[<praw.objects.Comment object at 0x2e2e890>, <praw.objects.Comment object at 0x2f675d0>]\n",
        "Awesome smile!\n",
        "CarettaSquared\n",
        "Hehehe he looks like he's from Spongebob, it's great!\n",
        "LucarioPrime\n",
        "[<praw.objects.Comment object at 0x2eaadf0>, <praw.objects.Comment object at 0x2f03990>]\n",
        "Great picture, thanks so much.  And yes, we did our best with this guy, but it's all up to him now.  He's been out in the water for a good four or five months now, hopefully we'll never hear from him again.\n",
        "CarettaSquared\n",
        "So cute.\n",
        "LucarioPrime\n"
       ]
      }
     ],
     "prompt_number": 257
    },
    {
     "cell_type": "code",
     "collapsed": false,
     "input": [
      "fddict.keys()"
     ],
     "language": "python",
     "metadata": {},
     "outputs": [
      {
       "metadata": {},
       "output_type": "pyout",
       "prompt_number": 259,
       "text": [
        "[Redditor(user_name='LadyParnassus'),\n",
        " Redditor(user_name='FalseAD'),\n",
        " Redditor(user_name='drawinglearner'),\n",
        " Redditor(user_name='TheShadowX'),\n",
        " None,\n",
        " Redditor(user_name='danimalod'),\n",
        " Redditor(user_name='greenmask'),\n",
        " Redditor(user_name='Quillworth'),\n",
        " Redditor(user_name='redgarrett'),\n",
        " Redditor(user_name='ItWillBeMine'),\n",
        " Redditor(user_name='greenmask'),\n",
        " Redditor(user_name='Quillworth'),\n",
        " Redditor(user_name='greenmask'),\n",
        " 'test',\n",
        " Redditor(user_name='Jubhubmubfub'),\n",
        " Redditor(user_name='cwda'),\n",
        " Redditor(user_name='TheShadowX'),\n",
        " Redditor(user_name='redgarrett'),\n",
        " Redditor(user_name='tocilog')]"
       ]
      }
     ],
     "prompt_number": 259
    },
    {
     "cell_type": "code",
     "collapsed": false,
     "input": [
      "fddict.values()"
     ],
     "language": "python",
     "metadata": {},
     "outputs": [
      {
       "metadata": {},
       "output_type": "pyout",
       "prompt_number": 260,
       "text": [
        "[u\"There are very few feelings quite as happy and sad as letting a wild animal go back to the wild. While you were caring for it, it was safe and healthy and happy, and now you're letting it go into the great unknown. It's scary, but at the same time, you've given your turtlebro so much care and love and given him the best possible chance at staying happy and healthy for the rest of his long, long life. Kudos to you for doing such a hard thing.\\n\\nAnyways, I drew you two [fistbumping like the bros you are.](http://imgur.com/b6pnUxJ)\",\n",
        " u\"[Here's a go at it.](http://i.imgur.com/Y1pmhPZ.jpg)\\nMy first post on this sub. So please be kindly. \",\n",
        " u'Some sketches for You, I took some liberties to rotate the image:\\n\\n1/ First line sketch:\\n\\nhttp://i.imgur.com/RhZH4V0.jpg\\n\\n2/ Light colorised drawing:\\n\\nhttp://i.imgur.com/plaZJ8r.jpg\\n\\n3/ Another version:\\n\\nhttp://i.imgur.com/iCaLPGZ.jpg\\n\\nRegards,',\n",
        " u'http://imgur.com/Q6pmUBJ',\n",
        " u'[deleted]',\n",
        " u'[post it](http://imgur.com/b9du8oY)\\n',\n",
        " u'[here you go!](http://imgur.com/6uqQdlo)',\n",
        " u'http://i.imgur.com/VVBkg9b.jpg',\n",
        " u'[DeviantArt Link](http://garrettvfinazzo.deviantart.com/art/S1024-1-490494235)',\n",
        " u\"OP, you broke our frequent posting rule, your last post was eight hours before this one:\\n\\nhttp://www.reddit.com/r/redditgetsdrawn/comments/2k6x41/can_someone_please_draw_my_son_or_as_he_calls/\\n\\nIf it happens again, you'll be banned.\",\n",
        " u'http://imgur.com/F9JlvwG',\n",
        " u'[Here you go!](http://i.imgur.com/fr9GCp1.jpg ) ',\n",
        " u'http://imgur.com/m907OZb',\n",
        " 'test',\n",
        " u'[a fun sketch for you](http://imgur.com/i0PtIMI)\\n\\nCheck out my other works on [my website](http://www.marcussakoda.com)',\n",
        " u'Hello!\\n\\nI did a quick alla prima oil sketch for you.  Enjoy!\\n\\n[Garden Grandpa](http://instagram.com/p/ujWUwrM2pU/)',\n",
        " u\"[you're the what](http://imgur.com/f7lZ4Rs)\\n\\n[happy end](http://imgur.com/fIeajX1)\",\n",
        " u'[DeviantArt Sketch](http://garrettvfinazzo.deviantart.com/art/S1024-3-490502440)',\n",
        " u'[Sorry about the faces.  I was focusing on the forms.](http://i.imgur.com/OnHRuEF.jpg)']"
       ]
      }
     ],
     "prompt_number": 260
    },
    {
     "cell_type": "code",
     "collapsed": false,
     "input": [
      "chedict = {'blah': 'testing'}"
     ],
     "language": "python",
     "metadata": {},
     "outputs": [],
     "prompt_number": 252
    },
    {
     "cell_type": "code",
     "collapsed": false,
     "input": [
      "for coma in comdefz:\n",
      "    #print coma\n",
      "    #chedict.update({'first': coma})\n",
      "    for co in coma:\n",
      "        print co\n",
      "        chedict.update({co.author: co.body})"
     ],
     "language": "python",
     "metadata": {},
     "outputs": [
      {
       "output_type": "stream",
       "stream": "stdout",
       "text": [
        "[you're the what](http://imgur.com/f7lZ4Rs)\n",
        "[Hope you like it](http://i.imgur.com/wxROf8X.jpg) :)\n",
        "http://i.imgur.com/Qk4j23A.png\n",
        "[Ink drawing](http://i.imgur.com/wF8wt4c.png)\n",
        "I hope you like [it](http://i.imgur.com/NsrK0ba.jpg) :)\n",
        "[I got a tablet tonight, and this was my first go at using one. It was hard. ...\n",
        "[I would have colored it but its getting really late here and I have work tom...\n",
        "A few sketch versions for You:\n",
        "\n",
        "1/ A line sketch:\n",
        "\n",
        "http://i.imgur.com/01fcvYq...\n",
        "Quick oil study:  http://imgur.com/EvDlCOo\n",
        "http://i.imgur.com/lL5SJL5.jpg Arrrrr!\n"
       ]
      }
     ],
     "prompt_number": 186
    },
    {
     "cell_type": "code",
     "collapsed": false,
     "input": [
      "rcoms = chedict.keys()\n",
      "rvals = chedict.values()\n",
      "imcom = []"
     ],
     "language": "python",
     "metadata": {},
     "outputs": [],
     "prompt_number": 187
    },
    {
     "cell_type": "code",
     "collapsed": false,
     "input": [
      "for rvs in rvals:\n",
      "    print rvs\n",
      "    if '.jpg' or '.png' in rvs:\n",
      "        imcom.append(rvs)\n",
      "        "
     ],
     "language": "python",
     "metadata": {},
     "outputs": [
      {
       "output_type": "stream",
       "stream": "stdout",
       "text": [
        "http://i.imgur.com/lL5SJL5.jpg Arrrrr!\n",
        "[Ink drawing](http://i.imgur.com/wF8wt4c.png)\n",
        "[you're the what](http://imgur.com/f7lZ4Rs)\n",
        "[I got a tablet tonight, and this was my first go at using one. It was hard. :D](https://31.media.tumblr.com/841c1de73711a8467f06835b16904535/tumblr_ndyss3MFhC1tixz5po1_500.png)\n",
        "I hope you like [it](http://i.imgur.com/NsrK0ba.jpg) :)\n",
        "A few sketch versions for You:\n",
        "\n",
        "1/ A line sketch:\n",
        "\n",
        "http://i.imgur.com/01fcvYq.jpg\n",
        "\n",
        "2/ Colorised drawing:\n",
        "\n",
        "http://i.imgur.com/zc1HHei.jpg\n",
        "\n",
        "3/ Experiment with canvas texture:\n",
        "\n",
        "http://i.imgur.com/j8qi5WS.jpg\n",
        "\n",
        "\n",
        "Quick oil study:  http://imgur.com/EvDlCOo\n",
        "testing\n",
        "http://i.imgur.com/Qk4j23A.png\n",
        "[Hope you like it](http://i.imgur.com/wxROf8X.jpg) :)\n",
        "[I would have colored it but its getting really late here and I have work tomorrow morning, maybe next time. \ud83d\ude09](http://i.imgur.com/G8qd5Va.jpg)\n"
       ]
      }
     ],
     "prompt_number": 188
    },
    {
     "cell_type": "code",
     "collapsed": false,
     "input": [
      "for docin in doc.head.children:\n",
      "    print docin"
     ],
     "language": "python",
     "metadata": {},
     "outputs": [
      {
       "output_type": "stream",
       "stream": "stdout",
       "text": [
        "<title>RedditGetsDrawn Recent Reference</title>\n",
        "<link href=\"style.css\" rel=\"stylesheet\">\n",
        "<script src=\"script.js\" type=\"text/javascript\"></script>\n",
        "<div class=\"header\">\n",
        "  <h1>RedditGetsDrawn Recent Reference</h1>\n",
        "  <p>updated Fri, 24 Oct 2014 22:34:39 +0000\n",
        "  </p>\n",
        "</div>\n"
       ]
      }
     ],
     "prompt_number": 219
    },
    {
     "cell_type": "code",
     "collapsed": false,
     "input": [
      "for pain in docin.parent.children:\n",
      "    print pain"
     ],
     "language": "python",
     "metadata": {},
     "outputs": [
      {
       "output_type": "stream",
       "stream": "stdout",
       "text": [
        "<title>RedditGetsDrawn Recent Reference</title>\n",
        "<link href=\"style.css\" rel=\"stylesheet\">\n",
        "<script src=\"script.js\" type=\"text/javascript\"></script>\n",
        "<div class=\"header\">\n",
        "  <h1>RedditGetsDrawn Recent Reference</h1>\n",
        "  <p>updated Fri, 24 Oct 2014 22:34:39 +0000\n",
        "  </p>\n",
        "</div>\n"
       ]
      }
     ],
     "prompt_number": 225
    },
    {
     "cell_type": "code",
     "collapsed": false,
     "input": [
      "doc.body.parent.children"
     ],
     "language": "python",
     "metadata": {},
     "outputs": [
      {
       "metadata": {},
       "output_type": "pyout",
       "prompt_number": 232,
       "text": [
        "[<dominate.tags.head at 3005190: 0 attributes, 4 children>,\n",
        " <dominate.tags.body at 2f82c10: 0 attributes, 2 children>]"
       ]
      }
     ],
     "prompt_number": 232
    },
    {
     "cell_type": "code",
     "collapsed": false,
     "input": [
      "soup = BeautifulSoup(doc)\n",
      "\n",
      "print(soup.prettify())"
     ],
     "language": "python",
     "metadata": {},
     "outputs": [
      {
       "ename": "TypeError",
       "evalue": "Only integer and string types are valid for accessing child tags and attributes, respectively.",
       "output_type": "pyerr",
       "traceback": [
        "\u001b[1;31m---------------------------------------------------------------------------\u001b[0m\n\u001b[1;31mTypeError\u001b[0m                                 Traceback (most recent call last)",
        "\u001b[1;32m<ipython-input-205-3ebea126c89f>\u001b[0m in \u001b[0;36m<module>\u001b[1;34m()\u001b[0m\n\u001b[1;32m----> 1\u001b[1;33m \u001b[0msoup\u001b[0m \u001b[1;33m=\u001b[0m \u001b[0mBeautifulSoup\u001b[0m\u001b[1;33m(\u001b[0m\u001b[0mdoc\u001b[0m\u001b[1;33m)\u001b[0m\u001b[1;33m\u001b[0m\u001b[0m\n\u001b[0m\u001b[0;32m      2\u001b[0m \u001b[1;33m\u001b[0m\u001b[0m\n\u001b[0;32m      3\u001b[0m \u001b[1;32mprint\u001b[0m\u001b[1;33m(\u001b[0m\u001b[0msoup\u001b[0m\u001b[1;33m.\u001b[0m\u001b[0mprettify\u001b[0m\u001b[1;33m(\u001b[0m\u001b[1;33m)\u001b[0m\u001b[1;33m)\u001b[0m\u001b[1;33m\u001b[0m\u001b[0m\n",
        "\u001b[1;32m/usr/local/lib/python2.7/dist-packages/bs4/__init__.pyc\u001b[0m in \u001b[0;36m__init__\u001b[1;34m(self, markup, features, builder, parse_only, from_encoding, **kwargs)\u001b[0m\n\u001b[0;32m    181\u001b[0m                 warnings.warn(\n\u001b[0;32m    182\u001b[0m                     '\"%s\" looks like a filename, not markup. You should probably open this file and pass the filehandle into Beautiful Soup.' % markup)\n\u001b[1;32m--> 183\u001b[1;33m             \u001b[1;32mif\u001b[0m \u001b[0mmarkup\u001b[0m\u001b[1;33m[\u001b[0m\u001b[1;33m:\u001b[0m\u001b[1;36m5\u001b[0m\u001b[1;33m]\u001b[0m \u001b[1;33m==\u001b[0m \u001b[1;34m\"http:\"\u001b[0m \u001b[1;32mor\u001b[0m \u001b[0mmarkup\u001b[0m\u001b[1;33m[\u001b[0m\u001b[1;33m:\u001b[0m\u001b[1;36m6\u001b[0m\u001b[1;33m]\u001b[0m \u001b[1;33m==\u001b[0m \u001b[1;34m\"https:\"\u001b[0m\u001b[1;33m:\u001b[0m\u001b[1;33m\u001b[0m\u001b[0m\n\u001b[0m\u001b[0;32m    184\u001b[0m                 \u001b[1;31m# TODO: This is ugly but I couldn't get it to work in\u001b[0m\u001b[1;33m\u001b[0m\u001b[1;33m\u001b[0m\u001b[0m\n\u001b[0;32m    185\u001b[0m                 \u001b[1;31m# Python 3 otherwise.\u001b[0m\u001b[1;33m\u001b[0m\u001b[1;33m\u001b[0m\u001b[0m\n",
        "\u001b[1;32m/usr/local/lib/python2.7/dist-packages/dominate/dom_tag.pyc\u001b[0m in \u001b[0;36m__getitem__\u001b[1;34m(self, key)\u001b[0m\n\u001b[0;32m    266\u001b[0m         \u001b[1;32mraise\u001b[0m \u001b[0mAttributeError\u001b[0m\u001b[1;33m(\u001b[0m\u001b[1;34m'Attribute \"%s\" does not exist.'\u001b[0m \u001b[1;33m%\u001b[0m \u001b[0mkey\u001b[0m\u001b[1;33m)\u001b[0m\u001b[1;33m\u001b[0m\u001b[0m\n\u001b[0;32m    267\u001b[0m     \u001b[1;32melse\u001b[0m\u001b[1;33m:\u001b[0m\u001b[1;33m\u001b[0m\u001b[0m\n\u001b[1;32m--> 268\u001b[1;33m       raise TypeError('Only integer and string types are valid for accessing '\n\u001b[0m\u001b[0;32m    269\u001b[0m           'child tags and attributes, respectively.')\n\u001b[0;32m    270\u001b[0m   \u001b[0m__getattr__\u001b[0m \u001b[1;33m=\u001b[0m \u001b[0m__getitem__\u001b[0m\u001b[1;33m\u001b[0m\u001b[0m\n",
        "\u001b[1;31mTypeError\u001b[0m: Only integer and string types are valid for accessing child tags and attributes, respectively."
       ]
      }
     ],
     "prompt_number": 205
    },
    {
     "cell_type": "code",
     "collapsed": false,
     "input": [
      "for imc in imcom:\n",
      "    print imc"
     ],
     "language": "python",
     "metadata": {},
     "outputs": [
      {
       "output_type": "stream",
       "stream": "stdout",
       "text": [
        "http://i.imgur.com/lL5SJL5.jpg Arrrrr!\n",
        "[Ink drawing](http://i.imgur.com/wF8wt4c.png)\n",
        "[you're the what](http://imgur.com/f7lZ4Rs)\n",
        "[I got a tablet tonight, and this was my first go at using one. It was hard. :D](https://31.media.tumblr.com/841c1de73711a8467f06835b16904535/tumblr_ndyss3MFhC1tixz5po1_500.png)\n",
        "I hope you like [it](http://i.imgur.com/NsrK0ba.jpg) :)\n",
        "A few sketch versions for You:\n",
        "\n",
        "1/ A line sketch:\n",
        "\n",
        "http://i.imgur.com/01fcvYq.jpg\n",
        "\n",
        "2/ Colorised drawing:\n",
        "\n",
        "http://i.imgur.com/zc1HHei.jpg\n",
        "\n",
        "3/ Experiment with canvas texture:\n",
        "\n",
        "http://i.imgur.com/j8qi5WS.jpg\n",
        "\n",
        "\n",
        "Quick oil study:  http://imgur.com/EvDlCOo\n",
        "testing\n",
        "http://i.imgur.com/Qk4j23A.png\n",
        "[Hope you like it](http://i.imgur.com/wxROf8X.jpg) :)\n",
        "[I would have colored it but its getting really late here and I have work tomorrow morning, maybe next time. \ud83d\ude09](http://i.imgur.com/G8qd5Va.jpg)\n"
       ]
      }
     ],
     "prompt_number": 189
    },
    {
     "cell_type": "code",
     "collapsed": false,
     "input": [
      "doc = dominate.document(title='Dominate your HTML')\n",
      "\n",
      "with doc.head:\n",
      "    link(rel='stylesheet', href='style.css')\n",
      "    script(type='text/javascript', src='script.js')\n",
      "\n",
      "with doc:\n",
      "    with div(id='header').add(ol()):\n",
      "        for imz in imcom:\n",
      "            #print imz\n",
      "            li(p(str(imz)))\n",
      "\n",
      "    #with div():\n",
      "     #   attr(cls='body')\n",
      "     #   p('Lorem ipsum..')\n",
      "\n",
      "#print doc"
     ],
     "language": "python",
     "metadata": {},
     "outputs": [
      {
       "ename": "UnicodeEncodeError",
       "evalue": "'ascii' codec can't encode character u'\\U0001f609' in position 109: ordinal not in range(128)",
       "output_type": "pyerr",
       "traceback": [
        "\u001b[1;31m---------------------------------------------------------------------------\u001b[0m\n\u001b[1;31mUnicodeEncodeError\u001b[0m                        Traceback (most recent call last)",
        "\u001b[1;32m<ipython-input-190-3252248d8da3>\u001b[0m in \u001b[0;36m<module>\u001b[1;34m()\u001b[0m\n\u001b[0;32m      9\u001b[0m         \u001b[1;32mfor\u001b[0m \u001b[0mimz\u001b[0m \u001b[1;32min\u001b[0m \u001b[0mimcom\u001b[0m\u001b[1;33m:\u001b[0m\u001b[1;33m\u001b[0m\u001b[0m\n\u001b[0;32m     10\u001b[0m             \u001b[1;31m#print imz\u001b[0m\u001b[1;33m\u001b[0m\u001b[1;33m\u001b[0m\u001b[0m\n\u001b[1;32m---> 11\u001b[1;33m             \u001b[0mli\u001b[0m\u001b[1;33m(\u001b[0m\u001b[0mp\u001b[0m\u001b[1;33m(\u001b[0m\u001b[0mstr\u001b[0m\u001b[1;33m(\u001b[0m\u001b[0mimz\u001b[0m\u001b[1;33m)\u001b[0m\u001b[1;33m)\u001b[0m\u001b[1;33m)\u001b[0m\u001b[1;33m\u001b[0m\u001b[0m\n\u001b[0m\u001b[0;32m     12\u001b[0m \u001b[1;33m\u001b[0m\u001b[0m\n\u001b[0;32m     13\u001b[0m     \u001b[1;31m#with div():\u001b[0m\u001b[1;33m\u001b[0m\u001b[1;33m\u001b[0m\u001b[0m\n",
        "\u001b[1;31mUnicodeEncodeError\u001b[0m: 'ascii' codec can't encode character u'\\U0001f609' in position 109: ordinal not in range(128)"
       ]
      }
     ],
     "prompt_number": 190
    },
    {
     "cell_type": "code",
     "collapsed": false,
     "input": [
      "for dicaz in doc.children:\n",
      "    print dicaz"
     ],
     "language": "python",
     "metadata": {},
     "outputs": [
      {
       "output_type": "stream",
       "stream": "stdout",
       "text": [
        "<head>\n",
        "  <title>Dominate your HTML</title>\n",
        "  <link href=\"style.css\" rel=\"stylesheet\">\n",
        "  <script src=\"script.js\" type=\"text/javascript\"></script>\n",
        "</head>\n",
        "<body>\n",
        "  <div id=\"header\">\n",
        "    <ol>\n",
        "      <li>\n",
        "        <p>http://i.imgur.com/lL5SJL5.jpg Arrrrr!</p>\n",
        "      </li>\n",
        "      <li>\n",
        "        <p>[Ink drawing](http://i.imgur.com/wF8wt4c.png)</p>\n",
        "      </li>\n",
        "      <li>\n",
        "        <p>[you're the what](http://imgur.com/f7lZ4Rs)</p>\n",
        "      </li>\n",
        "      <li>\n",
        "        <p>[I got a tablet tonight, and this was my first go at using one. It was hard. :D](https://31.media.tumblr.com/841c1de73711a8467f06835b16904535/tumblr_ndyss3MFhC1tixz5po1_500.png)</p>\n",
        "      </li>\n",
        "      <li>\n",
        "        <p>I hope you like [it](http://i.imgur.com/NsrK0ba.jpg) :)</p>\n",
        "      </li>\n",
        "      <li>\n",
        "        <p>A few sketch versions for You:\n",
        "\n",
        "1/ A line sketch:\n",
        "\n",
        "http://i.imgur.com/01fcvYq.jpg\n",
        "\n",
        "2/ Colorised drawing:\n",
        "\n",
        "http://i.imgur.com/zc1HHei.jpg\n",
        "\n",
        "3/ Experiment with canvas texture:\n",
        "\n",
        "http://i.imgur.com/j8qi5WS.jpg\n",
        "\n",
        "</p>\n",
        "      </li>\n",
        "      <li>\n",
        "        <p>Quick oil study:  http://imgur.com/EvDlCOo</p>\n",
        "      </li>\n",
        "      <li>\n",
        "        <p>testing</p>\n",
        "      </li>\n",
        "      <li>\n",
        "        <p>http://i.imgur.com/Qk4j23A.png</p>\n",
        "      </li>\n",
        "      <li>\n",
        "        <p>[Hope you like it](http://i.imgur.com/wxROf8X.jpg) :)</p>\n",
        "      </li>\n",
        "    </ol>\n",
        "  </div>\n",
        "</body>\n"
       ]
      }
     ],
     "prompt_number": 191
    },
    {
     "cell_type": "code",
     "collapsed": false,
     "input": [],
     "language": "python",
     "metadata": {},
     "outputs": []
    },
    {
     "cell_type": "code",
     "collapsed": false,
     "input": [
      "for imz in imcom:\n",
      "    \n",
      "    print imz"
     ],
     "language": "python",
     "metadata": {},
     "outputs": [
      {
       "output_type": "stream",
       "stream": "stdout",
       "text": [
        "http://i.imgur.com/lL5SJL5.jpg Arrrrr!\n",
        "[Ink drawing](http://i.imgur.com/wF8wt4c.png)\n",
        "[you're the what](http://imgur.com/f7lZ4Rs)\n",
        "[I got a tablet tonight, and this was my first go at using one. It was hard. :D](https://31.media.tumblr.com/841c1de73711a8467f06835b16904535/tumblr_ndyss3MFhC1tixz5po1_500.png)\n",
        "I hope you like [it](http://i.imgur.com/NsrK0ba.jpg) :)\n",
        "A few sketch versions for You:\n",
        "\n",
        "1/ A line sketch:\n",
        "\n",
        "http://i.imgur.com/01fcvYq.jpg\n",
        "\n",
        "2/ Colorised drawing:\n",
        "\n",
        "http://i.imgur.com/zc1HHei.jpg\n",
        "\n",
        "3/ Experiment with canvas texture:\n",
        "\n",
        "http://i.imgur.com/j8qi5WS.jpg\n",
        "\n",
        "\n",
        "Quick oil study:  http://imgur.com/EvDlCOo\n",
        "testing\n",
        "http://i.imgur.com/Qk4j23A.png\n",
        "[Hope you like it](http://i.imgur.com/wxROf8X.jpg) :)\n",
        "[I would have colored it but its getting really late here and I have work tomorrow morning, maybe next time. \ud83d\ude09](http://i.imgur.com/G8qd5Va.jpg)\n"
       ]
      }
     ],
     "prompt_number": 192
    },
    {
     "cell_type": "code",
     "collapsed": false,
     "input": [
      "for rez in rcoms:\n",
      "    print rez\n",
      "    "
     ],
     "language": "python",
     "metadata": {},
     "outputs": [
      {
       "output_type": "stream",
       "stream": "stdout",
       "text": [
        "Reeceepeeceepoop\n",
        "slam_nine\n",
        "TheShadowX\n",
        "sgt_mary_mary\n",
        "SwordofTeatime\n",
        "drawinglearner\n",
        "katfriday\n",
        "blah\n",
        "MrSlob\n",
        "Torkar\n",
        "Karitz\n"
       ]
      }
     ],
     "prompt_number": 193
    },
    {
     "cell_type": "code",
     "collapsed": false,
     "input": [],
     "language": "python",
     "metadata": {},
     "outputs": [],
     "prompt_number": 193
    },
    {
     "cell_type": "code",
     "collapsed": false,
     "input": [
      "for rgt in rgdef.values():\n",
      "    if '.jpg' in rgt:\n",
      "        print rgt"
     ],
     "language": "python",
     "metadata": {},
     "outputs": [
      {
       "output_type": "stream",
       "stream": "stdout",
       "text": [
        "http://i.imgur.com/YxLr2hg.jpg\n",
        "http://i.imgur.com/FJNqPdL.jpg\n",
        "http://i.imgur.com/lsLdTgn.jpg\n",
        "http://i.imgur.com/ckdiobV.jpg\n",
        "http://i.imgur.com/pIOXe75.jpg\n",
        "http://i.imgur.com/cspaP2M.jpg\n",
        "http://i.imgur.com/63wUsei.jpg\n",
        "http://i.imgur.com/TSZVoSF.jpg\n",
        "http://i.imgur.com/r5nEnVR.jpg\n",
        "http://i.imgur.com/Rojinf7.jpg\n",
        "http://i.imgur.com/odsASLP.jpg\n",
        "http://i.imgur.com/Sn8qNlC.jpg\n",
        "http://i.imgur.com/znQ5Yvn.jpg\n"
       ]
      }
     ],
     "prompt_number": 194
    },
    {
     "cell_type": "code",
     "collapsed": false,
     "input": [
      "import dominate\n",
      "from dominate.tags import *\n",
      "\n",
      "doc = dominate.document(title='RedditGetsDrawn Recent Reference')\n",
      "\n",
      "with doc.head:\n",
      "    link(rel='stylesheet', href='style.css')\n",
      "    script(type='text/javascript', src='script.js')\n",
      "    \n",
      "    with div():\n",
      "        attr(cls='header')\n",
      "        h1('RedditGetsDrawn Recent Reference')\n",
      "        p('updated ', strftime(\"%a, %d %b %Y %H:%M:%S +0000\", gmtime()))\n",
      "\n",
      "    \n",
      "    \n",
      "\n",
      "with doc:\n",
      "    with div(id='body').add(ol()):\n",
      "        for rdz in rdnew:\n",
      "            h1(rdz.title)\n",
      "            a(rdz.url)\n",
      "            if '.jpg' or '.png' in rdz.url:\n",
      "                print rdz.url\n",
      "                p(img(rdz.url, src='%s' % rdz.url))\n",
      "            #print rdz.url\n",
      "            #if '.jpg' in rdz.url:\n",
      "            #    img(rdz.urlz)\n",
      "            #else:\n",
      "            #    a(rdz.urlz)\n",
      "            p(str(rdz.author))\n",
      "            \n",
      "            #li(img(i.lower(), src='%s' % i))\n",
      "\n",
      "    with div():\n",
      "        attr(cls='body')\n",
      "        p('RGDRecentReference is open source')\n",
      "        a('http://github.com/wcmckee/wcmckee')\n",
      "\n",
      "#print doc"
     ],
     "language": "python",
     "metadata": {},
     "outputs": [
      {
       "output_type": "stream",
       "stream": "stdout",
       "text": [
        "http://imgur.com/1ILhqlj\n",
        "http://i.imgur.com/YxLr2hg.jpg\n",
        "http://i.imgur.com/Rojinf7.jpg\n",
        "http://imgur.com/SQT3Dzb\n",
        "http://i.imgur.com/cspaP2M.jpg\n",
        "http://imgur.com/a/ii2ln#0\n",
        "http://i.imgur.com/r5nEnVR.jpg\n",
        "http://i.imgur.com/odsASLP.jpg\n",
        "http://i.imgur.com/hzSZswm.jpeg\n",
        "http://imgur.com/Hw8tWSz"
       ]
      },
      {
       "output_type": "stream",
       "stream": "stdout",
       "text": [
        "\n",
        "http://imgur.com/ZdEcSYd\n",
        "http://i.imgur.com/ckdiobV.jpg\n",
        "http://imgur.com/vdQUKyE\n",
        "http://i.imgur.com/pIOXe75.jpg\n",
        "http://imgur.com/T4PDCDe\n",
        "http://i.imgur.com/63wUsei.jpg\n",
        "http://i.imgur.com/lsLdTgn.jpg\n",
        "http://imgur.com/CddBsaR\n",
        "http://i.imgur.com/znQ5Yvn.jpg\n",
        "http://imgur.com/pAtAyNu\n",
        "http://imgur.com/RBKTT7l\n",
        "http://i.imgur.com/TSZVoSF.jpg\n",
        "http://imgur.com/6JkwjHe\n",
        "http://i.imgur.com/Sn8qNlC.jpg\n",
        "http://i.imgur.com/FJNqPdL.jpg"
       ]
      },
      {
       "output_type": "stream",
       "stream": "stdout",
       "text": [
        "\n"
       ]
      }
     ],
     "prompt_number": 195
    },
    {
     "cell_type": "code",
     "collapsed": false,
     "input": [
      "rgdir = ('/home/wcmckee/rgdrecentReference/')"
     ],
     "language": "python",
     "metadata": {},
     "outputs": [],
     "prompt_number": 196
    },
    {
     "cell_type": "code",
     "collapsed": false,
     "input": [
      "os.chdir(rgdir)"
     ],
     "language": "python",
     "metadata": {},
     "outputs": [],
     "prompt_number": 197
    },
    {
     "cell_type": "code",
     "collapsed": false,
     "input": [
      "#mkindex = open('index.html', 'w')\n",
      "#mkindex.write(str(doc))\n",
      "#mkindex.close()"
     ],
     "language": "python",
     "metadata": {},
     "outputs": [],
     "prompt_number": 198
    },
    {
     "cell_type": "code",
     "collapsed": false,
     "input": [
      "#print str(doc)"
     ],
     "language": "python",
     "metadata": {},
     "outputs": [],
     "prompt_number": 199
    },
    {
     "cell_type": "code",
     "collapsed": false,
     "input": [
      "print strftime(\"%a, %d %b %Y %H:%M:%S +0000\")"
     ],
     "language": "python",
     "metadata": {},
     "outputs": [
      {
       "output_type": "stream",
       "stream": "stdout",
       "text": [
        "Fri, 24 Oct 2014 22:34:43 +0000\n"
       ]
      }
     ],
     "prompt_number": 200
    },
    {
     "cell_type": "code",
     "collapsed": false,
     "input": [
      "savedate = strftime(\"%d\" + \"-\" + \"%M\" + \"-\" + \"%Y\" + \"-\" + \"%H\")"
     ],
     "language": "python",
     "metadata": {},
     "outputs": [],
     "prompt_number": 201
    },
    {
     "cell_type": "code",
     "collapsed": false,
     "input": [
      "savedate"
     ],
     "language": "python",
     "metadata": {},
     "outputs": [
      {
       "metadata": {},
       "output_type": "pyout",
       "prompt_number": 202,
       "text": [
        "'24-34-2014-22'"
       ]
      }
     ],
     "prompt_number": 202
    },
    {
     "cell_type": "code",
     "collapsed": false,
     "input": [
      "deepone = str(savedate + '.md')"
     ],
     "language": "python",
     "metadata": {},
     "outputs": [],
     "prompt_number": 203
    },
    {
     "cell_type": "code",
     "collapsed": false,
     "input": [
      "deepone"
     ],
     "language": "python",
     "metadata": {},
     "outputs": [
      {
       "metadata": {},
       "output_type": "pyout",
       "prompt_number": 204,
       "text": [
        "'24-34-2014-22.md'"
       ]
      }
     ],
     "prompt_number": 204
    },
    {
     "cell_type": "code",
     "collapsed": false,
     "input": [
      "#os.chdir('/home/wcmckee/brobeur-blog-post/')"
     ],
     "language": "python",
     "metadata": {},
     "outputs": [],
     "prompt_number": 47
    },
    {
     "cell_type": "code",
     "collapsed": false,
     "input": [
      "#brobeind = open('\u00edndex.html', 'r')"
     ],
     "language": "python",
     "metadata": {},
     "outputs": [],
     "prompt_number": 48
    },
    {
     "cell_type": "code",
     "collapsed": false,
     "input": [
      "#brotest = open('\u00edndex.html', 'r')\n",
      "#brotest.read()"
     ],
     "language": "python",
     "metadata": {},
     "outputs": [],
     "prompt_number": 49
    },
    {
     "cell_type": "code",
     "collapsed": false,
     "input": [
      "redposts = ('/home/wcmckee/rgdrecentReference/posts')"
     ],
     "language": "python",
     "metadata": {},
     "outputs": [],
     "prompt_number": 50
    },
    {
     "cell_type": "code",
     "collapsed": false,
     "input": [
      "os.chdir(redposts)"
     ],
     "language": "python",
     "metadata": {},
     "outputs": [],
     "prompt_number": 51
    },
    {
     "cell_type": "code",
     "collapsed": false,
     "input": [
      "time.asctime()"
     ],
     "language": "python",
     "metadata": {},
     "outputs": [
      {
       "metadata": {},
       "output_type": "pyout",
       "prompt_number": 52,
       "text": [
        "'Fri Oct 24 10:58:47 2014'"
       ]
      }
     ],
     "prompt_number": 52
    },
    {
     "cell_type": "code",
     "collapsed": false,
     "input": [
      "savinx = open(str(deepone), 'w')"
     ],
     "language": "python",
     "metadata": {},
     "outputs": [],
     "prompt_number": 53
    },
    {
     "cell_type": "code",
     "collapsed": false,
     "input": [
      "savinx.write(str(rgdef))"
     ],
     "language": "python",
     "metadata": {},
     "outputs": [],
     "prompt_number": 54
    },
    {
     "cell_type": "code",
     "collapsed": false,
     "input": [
      "savinx.close()"
     ],
     "language": "python",
     "metadata": {},
     "outputs": [],
     "prompt_number": 55
    },
    {
     "cell_type": "code",
     "collapsed": false,
     "input": [],
     "language": "python",
     "metadata": {},
     "outputs": [],
     "prompt_number": 317
    },
    {
     "cell_type": "code",
     "collapsed": false,
     "input": [],
     "language": "python",
     "metadata": {},
     "outputs": [],
     "prompt_number": 317
    },
    {
     "cell_type": "code",
     "collapsed": false,
     "input": [],
     "language": "python",
     "metadata": {},
     "outputs": [],
     "prompt_number": 317
    }
   ],
   "metadata": {}
  }
 ]
}