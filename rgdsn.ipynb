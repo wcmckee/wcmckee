{
 "metadata": {
  "name": "",
  "signature": "sha256:9d7f2b0936faf6b2b07b666d8ef67fc2b9602bea115ab9470076fe0f2cb83a7f"
 },
 "nbformat": 3,
 "nbformat_minor": 0,
 "worksheets": [
  {
   "cells": [
    {
     "cell_type": "markdown",
     "metadata": {},
     "source": [
      "<h1>Reddit Gets Drawn Snatch Script</h1>\n",
      "\n",
      "Creates the website redditgetsdrawnrecentreference. It contains the 25 most recent posts on r/redditgetsdrawn. title, image url, and username\n",
      "\n",
      "TODO:\n",
      "Contains artwork replies to each thread\n",
      "\n",
      "This is a Python script that takes data from reddit and posts it to another subreddit. It also creates a html file with the images embed into. The images are the most recent 25 on r/redditgetsdrawn.\n",
      "\n",
      "The script returns the comments from the most recent 25 posts along with the comments of comments.\n",
      "\n",
      "Pandas is used to append everything into a series and DataFrame. \n",
      "The pandas allows youto easily append these together. \n",
      "\n",
      "get all artwork and append into reference image -> \n",
      "artwork. \n",
      "\n",
      "Generate sites again.\n",
      "\n"
     ]
    },
    {
     "cell_type": "markdown",
     "metadata": {},
     "source": [
      "RedditGetsDrawn Snatch\n",
      " \n",
      "This is a Python script that takes data from reddit and posts it to another subreddit. It also creates a html file with the images embed into. The images are the most recent 25 on r/redditgetsdrawn.\n",
      " \n",
      "\n",
      "<markdowncell>\n",
      "\n",
      "TODO\n",
      " \n",
      "submit art to users via website\n",
      " \n",
      "fix image sizes (need to scale down to 550px)\n",
      " \n",
      "Save to server rather than imgur\n",
      " \n",
      "Archieve, snapshots of rgd\n",
      " \n",
      "more artcontrol\n",
      " \n",
      "itwillbemine comments to html - currently being saved in contact \n",
      " \n",
      "work on css, div up page, title, side, body, fo\n",
      "\n",
      "update twitter with ONE IMAGE and announce that the list has been updated.\n",
      " \n",
      "write blog post and submits to artcontroldrawsyou/blog \n",
      " \n",
      "gets sticked post on reddit\n",
      " \n",
      "delete about/contact page and have on all same page. can still have link to blog. \n",
      "about \n",
      "contact etc... along the top.\n",
      "other sections\n",
      " \n",
      "post images to blog for archieve - save body to wcmckee.com/blog - md format?\n",
      " \n",
      "nikola install - build site.\n",
      " \n",
      "cronjob to update site ever ?? hours? 4?\n",
      " \n",
      "photos section: latest 25 photos submitted to redditgetsdrawn.\n",
      "art section: latest 25 art submitted to redditgetsdrawn. \n",
      "\n",
      "cleanup code \n",
      "\n",
      "import pandas into it and removed things i dont need like dominate"
     ]
    },
    {
     "cell_type": "code",
     "collapsed": false,
     "input": [
      "import os\n",
      "import random\n",
      "import requests\n",
      "from bs4 import BeautifulSoup\n",
      "import re\n",
      "import json\n",
      "import time\n",
      "import praw\n",
      "import dominate\n",
      "from dominate.tags import *\n",
      "from time import gmtime, strftime\n",
      "import nose\n",
      "import unittest\n",
      "import numpy as np\n",
      "import pandas as pd\n",
      "from pandas import *"
     ],
     "language": "python",
     "metadata": {},
     "outputs": [],
     "prompt_number": 427
    },
    {
     "cell_type": "code",
     "collapsed": false,
     "input": [
      "chdira = ('/home/wcmckee/artcontroldrawsyou')\n",
      "os.chdir(chdira)"
     ],
     "language": "python",
     "metadata": {},
     "outputs": [],
     "prompt_number": 428
    },
    {
     "cell_type": "code",
     "collapsed": false,
     "input": [
      "r = praw.Reddit(user_agent='rgdsnatch')\n",
      "\n",
      "# <codecell>\n",
      "\n",
      "#r.login('artcontrol', 'taylor123vag!')\n",
      "\n",
      "# <codecell>\n",
      "\n",
      "rd = r.get_subreddit('redditgetsdrawn')\n",
      "\n",
      "# <codecell>\n",
      "\n",
      "subz = rd.get_hot().next()\n",
      "istit = (subz.title)\n",
      "istxt = (subz.selftext_html)\n",
      "istick = (subz.stickied)\n",
      "\n",
      "rdnewz = rd.get_new()\n",
      "\n",
      "rdnew = []"
     ],
     "language": "python",
     "metadata": {},
     "outputs": [],
     "prompt_number": 429
    },
    {
     "cell_type": "code",
     "collapsed": false,
     "input": [
      "reddraw = praw.Reddit(user_agent='rgdsnatch')"
     ],
     "language": "python",
     "metadata": {},
     "outputs": [],
     "prompt_number": 430
    },
    {
     "cell_type": "code",
     "collapsed": false,
     "input": [
      "getrddraw = reddraw.get_subreddit('redditgetsdrawn')"
     ],
     "language": "python",
     "metadata": {},
     "outputs": [],
     "prompt_number": 431
    },
    {
     "cell_type": "code",
     "collapsed": false,
     "input": [
      "decict = {'example':'wcmckee'}"
     ],
     "language": "python",
     "metadata": {},
     "outputs": [],
     "prompt_number": 432
    },
    {
     "cell_type": "code",
     "collapsed": false,
     "input": [
      "subz = getrddraw.get_new()"
     ],
     "language": "python",
     "metadata": {},
     "outputs": [],
     "prompt_number": 433
    },
    {
     "cell_type": "code",
     "collapsed": false,
     "input": [
      "class TestRedditFunction(unittest.TestCase):\n",
      "    \n",
      "    def setUp(self):\n",
      "        self.seq = reddraw.get_subreddit('redditgetsdrawn')\n",
      "        \n",
      "    def testredit(self):\n",
      "        drawnew('redditgetsdrawn') "
     ],
     "language": "python",
     "metadata": {},
     "outputs": [],
     "prompt_number": 434
    },
    {
     "cell_type": "code",
     "collapsed": false,
     "input": [
      "def drawnew(subred):\n",
      "    getrdraw = reddraw.get_subreddit(subred)\n",
      "    return getrdraw\n",
      "\n",
      "def apred(deciz):\n",
      "    \n",
      "    return (deciz)"
     ],
     "language": "python",
     "metadata": {},
     "outputs": [],
     "prompt_number": 435
    },
    {
     "cell_type": "code",
     "collapsed": false,
     "input": [
      "apred('omg')"
     ],
     "language": "python",
     "metadata": {},
     "outputs": [
      {
       "metadata": {},
       "output_type": "pyout",
       "prompt_number": 436,
       "text": [
        "'omg'"
       ]
      }
     ],
     "prompt_number": 436
    },
    {
     "cell_type": "code",
     "collapsed": false,
     "input": [
      "rdrws = drawnew('redditgetsdrawn')"
     ],
     "language": "python",
     "metadata": {},
     "outputs": [],
     "prompt_number": 437
    },
    {
     "cell_type": "code",
     "collapsed": false,
     "input": [
      "rtohr = rdrws.get_controversial_from_all()"
     ],
     "language": "python",
     "metadata": {},
     "outputs": [],
     "prompt_number": 438
    },
    {
     "cell_type": "code",
     "collapsed": false,
     "input": [
      "for imgz in rtohr:\n",
      "    #print imgz.selftext\n",
      "    print imgz.num_comments"
     ],
     "language": "python",
     "metadata": {},
     "outputs": [
      {
       "output_type": "stream",
       "stream": "stdout",
       "text": [
        "3\n",
        "33\n",
        "26\n",
        "8\n",
        "71\n",
        "53\n",
        "7\n",
        "23\n",
        "61\n",
        "6\n",
        "20\n",
        "59\n",
        "58\n",
        "5\n",
        "14\n",
        "3\n",
        "21\n",
        "7\n",
        "10\n",
        "26\n",
        "56\n",
        "37\n",
        "15\n",
        "2\n",
        "0\n"
       ]
      }
     ],
     "prompt_number": 439
    },
    {
     "cell_type": "code",
     "collapsed": false,
     "input": [
      "rdnew = []"
     ],
     "language": "python",
     "metadata": {},
     "outputs": [],
     "prompt_number": 440
    },
    {
     "cell_type": "code",
     "collapsed": false,
     "input": [
      "rdnewz = getrddraw.get_new()\n",
      "\n",
      "# <codecell>\n",
      "\n",
      "rdnew = []\n",
      "\n",
      "# <codecell>\n",
      "\n",
      "rdnew\n",
      "\n",
      "# <codecell>\n",
      "\n",
      "for uz in rdnewz:\n",
      "    #print uz\n",
      "    rdnew.append(uz)\n"
     ],
     "language": "python",
     "metadata": {},
     "outputs": [],
     "prompt_number": 441
    },
    {
     "cell_type": "code",
     "collapsed": false,
     "input": [
      "datelis = []\n",
      "refdic = {}\n",
      "rgdef = {'testz': 'testvalue'}\n",
      "comdefz = []\n"
     ],
     "language": "python",
     "metadata": {},
     "outputs": [],
     "prompt_number": 442
    },
    {
     "cell_type": "code",
     "collapsed": false,
     "input": [
      "for rdz in rdnew:\n",
      "    print rdz.name\n",
      "    print rdz.title\n",
      "    print rdz.url\n",
      "    print rdz.author\n",
      "    print rdz.secure_media\n",
      "    print rdz.num_comments\n",
      "    print rdz.comments\n",
      "    comdefz.append(rdz.comments)\n",
      "    datelis.append(rdz.title)\n",
      "    datelis.append(rdz.url)\n",
      "    datelis.append(rdz.author)\n",
      "    comdict = {'comtxt':rdz.comments}\n",
      "    rgdef.update({rdz.author: rdz.url})\n",
      "    pandic = DataFrame(rdz.json_dict)\n",
      "    decict.update({'url':rdz.url})\n",
      "    decict.update({'title':rdz.title})\n",
      "    decict.update({'ups': rdz.ups})\n",
      "    decict.update({'downs': rdz.downs})"
     ],
     "language": "python",
     "metadata": {},
     "outputs": [
      {
       "output_type": "stream",
       "stream": "stdout",
       "text": [
        "t3_2nttp6\n",
        "Does anyone want to draw my handsome little son in his paperboy Thanksgiving outfit?\n",
        "http://imgur.com/hZUokhS\n",
        "Spursfan2014\n",
        "None\n",
        "0\n",
        "[]"
       ]
      },
      {
       "output_type": "stream",
       "stream": "stdout",
       "text": [
        "\n",
        "t3_2nttfq\n",
        "Would anyone want to draw me, at work, wearing a surgical mask? I'd love to see a fun interpretation of it.\n",
        "http://imgur.com/ErjMwpg\n",
        "limegreencake\n",
        "None\n",
        "0\n",
        "[]"
       ]
      },
      {
       "output_type": "stream",
       "stream": "stdout",
       "text": [
        "\n",
        "t3_2nttf9\n",
        "Can you talented people draw this picture of me? It's my grandmothers favorite. Any style would be great. :D\n",
        "http://imgur.com/qox5fLY\n",
        "patimusiclover\n",
        "None\n",
        "0\n",
        "[]"
       ]
      },
      {
       "output_type": "stream",
       "stream": "stdout",
       "text": [
        "\n",
        "t3_2ntsi6\n",
        "I'd be very very grateful if you would sketch this picture of me and my best friend..Thanks in advance..:)\n",
        "http://imgur.com/BFjG9nQ\n",
        "bittuhari\n",
        "None\n",
        "1\n",
        "[<praw.objects.Comment object at 0x1ca2510>]"
       ]
      },
      {
       "output_type": "stream",
       "stream": "stdout",
       "text": [
        "\n",
        "t3_2ntpvl\n",
        "My girlfriend's hair can get a bit... unruly. Would anyone like to give it a try?\n",
        "http://i.imgur.com/8zeG2Tj.jpg\n",
        "MassiveJammies\n",
        "None\n",
        "0\n",
        "[]"
       ]
      },
      {
       "output_type": "stream",
       "stream": "stdout",
       "text": [
        "\n",
        "t3_2ntpml\n",
        "Can someone please draw my boyfriend and I? Maybe turn us into mermen? all styles welcome!\n",
        "http://imgur.com/Hez71b9,d1FCSQ2\n",
        "dorkus713\n",
        "None\n",
        "0\n",
        "[]"
       ]
      },
      {
       "output_type": "stream",
       "stream": "stdout",
       "text": [
        "\n",
        "t3_2ntozu\n",
        "Could you please draw me in color?\n",
        "http://imgur.com/26Nt9GS\n",
        "mezzomacchiato\n",
        "None\n",
        "2\n",
        "[<praw.objects.Comment object at 0x1c901f0>]"
       ]
      },
      {
       "output_type": "stream",
       "stream": "stdout",
       "text": [
        "\n",
        "t3_2ntovq\n",
        "Took a selfie for my wife, and I thought it would be fun to draw. Anyone want to take a shot?\n",
        "http://i.imgur.com/4u0XE1O.jpg\n",
        "JustCallMeEro\n",
        "None\n",
        "0\n",
        "[]"
       ]
      },
      {
       "output_type": "stream",
       "stream": "stdout",
       "text": [
        "\n",
        "t3_2ntkkz\n",
        "Could you draw my nephew?\n",
        "http://imgur.com/wx9kLWd\n",
        "jessetyler1992\n",
        "None\n",
        "0\n",
        "[]"
       ]
      },
      {
       "output_type": "stream",
       "stream": "stdout",
       "text": [
        "\n",
        "t3_2ntk29\n",
        "Here's me in some tall grass! Draw away!\n",
        "http://imgur.com/a2pk2sm\n",
        "lonelyseahorse\n",
        "None\n",
        "0\n",
        "[]"
       ]
      },
      {
       "output_type": "stream",
       "stream": "stdout",
       "text": [
        "\n",
        "t3_2ntj2w\n",
        "Would love to see me drawn! Thanks in advance.\n",
        "http://i.imgur.com/AyqJerZ.png\n",
        "bsamora\n",
        "None\n",
        "0\n",
        "[]"
       ]
      },
      {
       "output_type": "stream",
       "stream": "stdout",
       "text": [
        "\n",
        "t3_2ntioh\n",
        "At Toys R Us. Suddenly, this finds its way onto my head.\n",
        "http://i.imgur.com/hNTjeP0.jpg\n",
        "PossiblePugilist\n",
        "None\n",
        "1\n",
        "[<praw.objects.Comment object at 0x1b85fb0>]"
       ]
      },
      {
       "output_type": "stream",
       "stream": "stdout",
       "text": [
        "\n",
        "t3_2ntih3\n",
        "my overly excited daughter in a snoopy car. Draw?\n",
        "http://imgur.com/ewQhvTe\n",
        "Jdandrews000\n",
        "None\n",
        "0\n",
        "[]"
       ]
      },
      {
       "output_type": "stream",
       "stream": "stdout",
       "text": [
        "\n",
        "t3_2ntho6\n",
        "Anyone want to draw me as a horribly disguised ninja?\n",
        "http://imgur.com/7pMgFV3&amp;qVr7XGY\n",
        "Nickachuu\n",
        "None\n",
        "0\n",
        "[]"
       ]
      },
      {
       "output_type": "stream",
       "stream": "stdout",
       "text": [
        "\n",
        "t3_2ntems\n",
        "My boyfriend has been browsing all of the great RGD art lately, he would love to see your take on this pic of him! Any and all styles welcomed!\n",
        "http://i.imgur.com/cHTAFuC.jpg\n",
        "paper-\n",
        "None\n",
        "0\n",
        "[]"
       ]
      },
      {
       "output_type": "stream",
       "stream": "stdout",
       "text": [
        "\n",
        "t3_2ntd3o\n",
        "Can you draw my sister as a fairy? :)\n",
        "http://i.imgur.com/wDqfqPG.png\n",
        "holocene21\n",
        "None\n",
        "0\n",
        "[]"
       ]
      },
      {
       "output_type": "stream",
       "stream": "stdout",
       "text": [
        "\n",
        "t3_2ntcdc\n",
        "Can you draw me and my son for my mom's bday, this is her favorite picture of us. Want her to be blown away since he's the one and only grandchild.\n",
        "http://imgur.com/pxfRyT9\n",
        "essequamvideri04\n",
        "None\n",
        "0\n",
        "[]"
       ]
      },
      {
       "output_type": "stream",
       "stream": "stdout",
       "text": [
        "\n",
        "t3_2ntbph\n",
        "Me at my favorite place, Chicano Park\n",
        "http://imgur.com/mnwYm9l\n",
        "choniz1\n",
        "None\n",
        "0\n",
        "[]"
       ]
      },
      {
       "output_type": "stream",
       "stream": "stdout",
       "text": [
        "\n",
        "t3_2nt9yz\n",
        "My two best friend's are quite stand up guys and I would love to get a picture of them to look like Bert and Ernie from Sesame Street.\n",
        "http://imgur.com/ItnTqVO\n",
        "Chimone\n",
        "None\n",
        "0\n",
        "[]"
       ]
      },
      {
       "output_type": "stream",
       "stream": "stdout",
       "text": [
        "\n",
        "t3_2nt9d8\n",
        "Hello. This is me and I've never been drawn before. It would really make my day if you could!\n",
        "http://imgur.com/nrfT2oy\n",
        "king-internet\n",
        "None\n",
        "1\n",
        "[<praw.objects.Comment object at 0x1ca23b0>]"
       ]
      },
      {
       "output_type": "stream",
       "stream": "stdout",
       "text": [
        "\n",
        "t3_2nt7rl\n",
        "My Grandpa needs some sugar to jumpstart his morning, can you draw him please?\n",
        "http://i.imgur.com/3EBj4HG.jpg\n",
        "mischiefismychicken\n",
        "None\n",
        "0\n",
        "[]"
       ]
      },
      {
       "output_type": "stream",
       "stream": "stdout",
       "text": [
        "\n",
        "t3_2nt3w9\n",
        "Just messing around with my moustache\n",
        "http://i.imgur.com/7ELKm4R.jpg\n",
        "chrisaltosax\n",
        "None\n",
        "0\n",
        "[]"
       ]
      },
      {
       "output_type": "stream",
       "stream": "stdout",
       "text": [
        "\n",
        "t3_2nsipo\n",
        "Hey this is crazy, but draw us please?\n",
        "http://i.imgur.com/GfR0c7c.jpg\n",
        "inthe_dark\n",
        "None\n",
        "0\n",
        "[]"
       ]
      },
      {
       "output_type": "stream",
       "stream": "stdout",
       "text": [
        "\n",
        "t3_2nsiqp\n",
        "Anyone wanna take a stab at our son enchanted by our first Christmas tree (that he's aware of) ?\n",
        "http://i.imgur.com/1ScQMsx.jpg\n",
        "writingforpennies\n",
        "None\n",
        "3\n",
        "[<praw.objects.Comment object at 0x19c0110>]"
       ]
      },
      {
       "output_type": "stream",
       "stream": "stdout",
       "text": [
        "\n",
        "t3_2nsslt\n",
        "They said you might like to see me. My first snow in 3 years!\n",
        "http://imgur.com/U0WgBSO\n",
        "LadyVenus\n",
        "None\n",
        "3\n",
        "[<praw.objects.Comment object at 0x1abdd10>, <praw.objects.Comment object at 0x1b81950>, <praw.objects.Comment object at 0x1ca2c70>]"
       ]
      },
      {
       "output_type": "stream",
       "stream": "stdout",
       "text": [
        "\n"
       ]
      }
     ],
     "prompt_number": 443
    },
    {
     "cell_type": "code",
     "collapsed": false,
     "input": [
      "pandic"
     ],
     "language": "python",
     "metadata": {},
     "outputs": [
      {
       "html": [
        "<div style=\"max-height:1000px;max-width:1500px;overflow:auto;\">\n",
        "<table border=\"1\">\n",
        "  <tbody>\n",
        "    <tr>\n",
        "      <td>Index([], dtype=object)</td>\n",
        "      <td>Empty DataFrame</td>\n",
        "    </tr>\n",
        "  </tbody>\n",
        "</table>\n",
        "</div>"
       ],
       "metadata": {},
       "output_type": "pyout",
       "prompt_number": 444,
       "text": [
        "Empty DataFrame\n",
        "Columns: array([], dtype=object)\n",
        "Index: array([], dtype=object)"
       ]
      }
     ],
     "prompt_number": 444
    },
    {
     "cell_type": "code",
     "collapsed": false,
     "input": [
      "comdict"
     ],
     "language": "python",
     "metadata": {},
     "outputs": [
      {
       "metadata": {},
       "output_type": "pyout",
       "prompt_number": 445,
       "text": [
        "{'comtxt': [<praw.objects.Comment at 0x1abdd10>,\n",
        "  <praw.objects.Comment at 0x1b81950>,\n",
        "  <praw.objects.Comment at 0x1ca2c70>]}"
       ]
      }
     ],
     "prompt_number": 445
    },
    {
     "cell_type": "code",
     "collapsed": false,
     "input": [
      "comply = []"
     ],
     "language": "python",
     "metadata": {},
     "outputs": [],
     "prompt_number": 446
    },
    {
     "cell_type": "code",
     "collapsed": false,
     "input": [
      "fddict = {'testblah': 'testblah'}"
     ],
     "language": "python",
     "metadata": {},
     "outputs": [],
     "prompt_number": 447
    },
    {
     "cell_type": "code",
     "collapsed": false,
     "input": [
      "for comaq in comdefz:\n",
      "    for fdz in comaq:\n",
      "        print fdz\n",
      "        print fdz.author\n",
      "        print fdz.creatted_utc\n",
      "        print fdz.replies\n",
      "        fddict.update({'combody': fdz.body})\n",
      "        fddict.update({'comauthor': fdz.author})\n",
      "        fddict.update({'comup': fdz.ups})\n",
      "        fddict.update({'comdown': fdz.downs})\n",
      "        \n",
      "        comply.append(fdz.replies)\n",
      "        decict.update({'created':fdz.created_utc})\n",
      "        decict.update({'author': fdz.author})\n",
      "        decict.update({'body':fdz.body})\n",
      "        decict.update({'replies':fdz.replies})"
     ],
     "language": "python",
     "metadata": {},
     "outputs": [
      {
       "output_type": "stream",
       "stream": "stdout",
       "text": [
        "all styles are welcomed...and it'd be awesome if its colored 'cause I'm plann...\n",
        "bittuhari\n"
       ]
      },
      {
       "ename": "AttributeError",
       "evalue": "'<class 'praw.objects.Comment'>' has no attribute 'creatted_utc'",
       "output_type": "pyerr",
       "traceback": [
        "\u001b[1;31m---------------------------------------------------------------------------\u001b[0m\n\u001b[1;31mAttributeError\u001b[0m                            Traceback (most recent call last)",
        "\u001b[1;32m<ipython-input-448-3fbc7abc628c>\u001b[0m in \u001b[0;36m<module>\u001b[1;34m()\u001b[0m\n\u001b[0;32m      3\u001b[0m         \u001b[1;32mprint\u001b[0m \u001b[0mfdz\u001b[0m\u001b[1;33m\u001b[0m\u001b[0m\n\u001b[0;32m      4\u001b[0m         \u001b[1;32mprint\u001b[0m \u001b[0mfdz\u001b[0m\u001b[1;33m.\u001b[0m\u001b[0mauthor\u001b[0m\u001b[1;33m\u001b[0m\u001b[0m\n\u001b[1;32m----> 5\u001b[1;33m         \u001b[1;32mprint\u001b[0m \u001b[0mfdz\u001b[0m\u001b[1;33m.\u001b[0m\u001b[0mcreatted_utc\u001b[0m\u001b[1;33m\u001b[0m\u001b[0m\n\u001b[0m\u001b[0;32m      6\u001b[0m         \u001b[1;32mprint\u001b[0m \u001b[0mfdz\u001b[0m\u001b[1;33m.\u001b[0m\u001b[0mreplies\u001b[0m\u001b[1;33m\u001b[0m\u001b[0m\n\u001b[0;32m      7\u001b[0m         \u001b[0mfddict\u001b[0m\u001b[1;33m.\u001b[0m\u001b[0mupdate\u001b[0m\u001b[1;33m(\u001b[0m\u001b[1;33m{\u001b[0m\u001b[1;34m'combody'\u001b[0m\u001b[1;33m:\u001b[0m \u001b[0mfdz\u001b[0m\u001b[1;33m.\u001b[0m\u001b[0mbody\u001b[0m\u001b[1;33m}\u001b[0m\u001b[1;33m)\u001b[0m\u001b[1;33m\u001b[0m\u001b[0m\n",
        "\u001b[1;32m/usr/local/lib/python2.7/dist-packages/praw/objects.pyc\u001b[0m in \u001b[0;36m__getattr__\u001b[1;34m(self, attr)\u001b[0m\n\u001b[0;32m     81\u001b[0m             \u001b[1;32mreturn\u001b[0m \u001b[0mgetattr\u001b[0m\u001b[1;33m(\u001b[0m\u001b[0mself\u001b[0m\u001b[1;33m,\u001b[0m \u001b[0mattr\u001b[0m\u001b[1;33m)\u001b[0m\u001b[1;33m\u001b[0m\u001b[0m\n\u001b[0;32m     82\u001b[0m         raise AttributeError('\\'%s\\' has no attribute \\'%s\\'' % (type(self),\n\u001b[1;32m---> 83\u001b[1;33m                                                                  attr))\n\u001b[0m\u001b[0;32m     84\u001b[0m \u001b[1;33m\u001b[0m\u001b[0m\n\u001b[0;32m     85\u001b[0m     \u001b[1;32mdef\u001b[0m \u001b[0m__ne__\u001b[0m\u001b[1;33m(\u001b[0m\u001b[0mself\u001b[0m\u001b[1;33m,\u001b[0m \u001b[0mother\u001b[0m\u001b[1;33m)\u001b[0m\u001b[1;33m:\u001b[0m\u001b[1;33m\u001b[0m\u001b[0m\n",
        "\u001b[1;31mAttributeError\u001b[0m: '<class 'praw.objects.Comment'>' has no attribute 'creatted_utc'"
       ]
      }
     ],
     "prompt_number": 448
    },
    {
     "cell_type": "code",
     "collapsed": false,
     "input": [
      "decict"
     ],
     "language": "python",
     "metadata": {},
     "outputs": []
    },
    {
     "cell_type": "code",
     "collapsed": false,
     "input": [
      "fddict"
     ],
     "language": "python",
     "metadata": {},
     "outputs": []
    },
    {
     "cell_type": "code",
     "collapsed": false,
     "input": [
      "for coaz in comply:\n",
      "    print coaz\n",
      "    for coa in coaz:\n",
      "        print coa.body\n",
      "        print coa.author"
     ],
     "language": "python",
     "metadata": {},
     "outputs": []
    },
    {
     "cell_type": "code",
     "collapsed": false,
     "input": [
      "serz = Series(fddict)"
     ],
     "language": "python",
     "metadata": {},
     "outputs": []
    },
    {
     "cell_type": "code",
     "collapsed": false,
     "input": [
      "fddict"
     ],
     "language": "python",
     "metadata": {},
     "outputs": []
    },
    {
     "cell_type": "code",
     "collapsed": false,
     "input": [
      "fddict.keys()"
     ],
     "language": "python",
     "metadata": {},
     "outputs": []
    },
    {
     "cell_type": "code",
     "collapsed": false,
     "input": [
      "def extractlinks(html):\n",
      "    soup = BeautifulSoup(html)\n",
      "    anchors = soup.findAll('a')\n",
      "    links = []\n",
      "    for a in anchors:\n",
      "        links.append(a['href'])\n",
      "    return links"
     ],
     "language": "python",
     "metadata": {},
     "outputs": []
    },
    {
     "cell_type": "code",
     "collapsed": false,
     "input": [
      "cydict = fddict.values()"
     ],
     "language": "python",
     "metadata": {},
     "outputs": []
    },
    {
     "cell_type": "code",
     "collapsed": false,
     "input": [
      "for itz in cydict:\n",
      "    print itz   "
     ],
     "language": "python",
     "metadata": {},
     "outputs": []
    },
    {
     "cell_type": "code",
     "collapsed": false,
     "input": [
      "chedict = {'blah': 'testing'}"
     ],
     "language": "python",
     "metadata": {},
     "outputs": []
    },
    {
     "cell_type": "code",
     "collapsed": false,
     "input": [
      "fixurl = BeautifulSoup(fddict.values())"
     ],
     "language": "python",
     "metadata": {},
     "outputs": []
    },
    {
     "cell_type": "code",
     "collapsed": false,
     "input": [
      "for coma in comdefz:\n",
      "    #print coma\n",
      "    #chedict.update({'first': coma})\n",
      "    for co in coma:\n",
      "        print co\n",
      "        chedict.update({co.author: co.body})"
     ],
     "language": "python",
     "metadata": {},
     "outputs": []
    },
    {
     "cell_type": "code",
     "collapsed": false,
     "input": [
      "chedict"
     ],
     "language": "python",
     "metadata": {},
     "outputs": []
    },
    {
     "cell_type": "code",
     "collapsed": false,
     "input": [
      "jsdum = json.loads(chedict)"
     ],
     "language": "python",
     "metadata": {},
     "outputs": []
    },
    {
     "cell_type": "code",
     "collapsed": false,
     "input": [
      "rcoms = chedict.keys()\n",
      "rvals = chedict.values()\n",
      "imcom = []"
     ],
     "language": "python",
     "metadata": {},
     "outputs": []
    },
    {
     "cell_type": "code",
     "collapsed": false,
     "input": [
      "for rvs in rvals:\n",
      "    print rvs\n",
      "    if '.jpg' or '.png' in rvs:\n",
      "        imcom.append(rvs)\n",
      "        "
     ],
     "language": "python",
     "metadata": {},
     "outputs": []
    },
    {
     "cell_type": "code",
     "collapsed": false,
     "input": [
      "imcom"
     ],
     "language": "python",
     "metadata": {},
     "outputs": []
    },
    {
     "cell_type": "code",
     "collapsed": false,
     "input": [
      "fuldoc = doc.render()"
     ],
     "language": "python",
     "metadata": {},
     "outputs": []
    },
    {
     "cell_type": "code",
     "collapsed": false,
     "input": [],
     "language": "python",
     "metadata": {},
     "outputs": []
    },
    {
     "cell_type": "code",
     "collapsed": false,
     "input": [
      "doc = dominate.document(title='Dominate your HTML')\n",
      "\n",
      "with doc.head:\n",
      "    link(rel='stylesheet', href='style.css')\n",
      "    script(type='text/javascript', src='script.js')\n",
      "\n",
      "with doc:\n",
      "    with div(id='header').add(ol()):\n",
      "        for imz in imcom:\n",
      "            #print imz\n",
      "            p(imz)\n",
      "\n",
      "    #with div():\n",
      "     #   attr(cls='body')\n",
      "     #   p('Lorem ipsum..')\n",
      "\n",
      "#print doc"
     ],
     "language": "python",
     "metadata": {},
     "outputs": []
    },
    {
     "cell_type": "code",
     "collapsed": false,
     "input": [
      "for docin in doc.head.children:\n",
      "    print docin"
     ],
     "language": "python",
     "metadata": {},
     "outputs": []
    },
    {
     "cell_type": "code",
     "collapsed": false,
     "input": [
      "for pain in docin.parent.children:\n",
      "    print pain"
     ],
     "language": "python",
     "metadata": {},
     "outputs": []
    },
    {
     "cell_type": "code",
     "collapsed": false,
     "input": [
      "doc.body.parent.children"
     ],
     "language": "python",
     "metadata": {},
     "outputs": []
    },
    {
     "cell_type": "code",
     "collapsed": false,
     "input": [],
     "language": "python",
     "metadata": {},
     "outputs": []
    },
    {
     "cell_type": "code",
     "collapsed": false,
     "input": [
      "soup = BeautifulSoup(doc)\n",
      "\n",
      "#print(soup.prettify())"
     ],
     "language": "python",
     "metadata": {},
     "outputs": []
    },
    {
     "cell_type": "code",
     "collapsed": false,
     "input": [
      "extractlinks()"
     ],
     "language": "python",
     "metadata": {},
     "outputs": []
    },
    {
     "cell_type": "code",
     "collapsed": false,
     "input": [
      "for imc in imcom:\n",
      "    print imc"
     ],
     "language": "python",
     "metadata": {},
     "outputs": []
    },
    {
     "cell_type": "code",
     "collapsed": false,
     "input": [
      "doc.body"
     ],
     "language": "python",
     "metadata": {},
     "outputs": []
    },
    {
     "cell_type": "code",
     "collapsed": false,
     "input": [],
     "language": "python",
     "metadata": {},
     "outputs": []
    },
    {
     "cell_type": "code",
     "collapsed": false,
     "input": [
      "doc.render()"
     ],
     "language": "python",
     "metadata": {},
     "outputs": []
    },
    {
     "cell_type": "code",
     "collapsed": false,
     "input": [
      "for dicaz in doc.children:\n",
      "    print dicaz"
     ],
     "language": "python",
     "metadata": {},
     "outputs": []
    },
    {
     "cell_type": "code",
     "collapsed": false,
     "input": [],
     "language": "python",
     "metadata": {},
     "outputs": []
    },
    {
     "cell_type": "code",
     "collapsed": false,
     "input": [
      "for imz in imcom:\n",
      "    \n",
      "    print imz"
     ],
     "language": "python",
     "metadata": {},
     "outputs": []
    },
    {
     "cell_type": "code",
     "collapsed": false,
     "input": [
      "for rez in rcoms:\n",
      "    print rez\n",
      "    "
     ],
     "language": "python",
     "metadata": {},
     "outputs": []
    },
    {
     "cell_type": "code",
     "collapsed": false,
     "input": [],
     "language": "python",
     "metadata": {},
     "outputs": []
    },
    {
     "cell_type": "code",
     "collapsed": false,
     "input": [
      "for rgt in rgdef.values():\n",
      "    if '.jpg' in rgt:\n",
      "        print rgt"
     ],
     "language": "python",
     "metadata": {},
     "outputs": []
    },
    {
     "cell_type": "code",
     "collapsed": false,
     "input": [
      "import dominate\n",
      "from dominate.tags import *\n",
      "\n",
      "doc = dominate.document(title='RedditGetsDrawn Recent Reference')\n",
      "\n",
      "with doc.head:\n",
      "    link(rel='stylesheet', href='style.css')\n",
      "    script(type='text/javascript', src='script.js')\n",
      "    \n",
      "    with div():\n",
      "        attr(cls='header')\n",
      "        h1('RedditGetsDrawn Recent Reference')\n",
      "        p('updated ', strftime(\"%a, %d %b %Y %H:%M:%S +0000\", gmtime()))\n",
      "\n",
      "    \n",
      "    \n",
      "\n",
      "with doc:\n",
      "    with div(id='body').add(ol()):\n",
      "        for rdz in rdnew:\n",
      "            h1(rdz.title)\n",
      "            a(rdz.url)\n",
      "            if '.jpg' or '.png' in rdz.url:\n",
      "                print rdz.url\n",
      "                p(img(rdz.url, src='%s' % rdz.url))\n",
      "            #print rdz.url\n",
      "            #if '.jpg' in rdz.url:\n",
      "            #    img(rdz.urlz)\n",
      "            #else:\n",
      "            #    a(rdz.urlz)\n",
      "            p(str(rdz.author))\n",
      "            \n",
      "            #li(img(i.lower(), src='%s' % i))\n",
      "\n",
      "    with div():\n",
      "        attr(cls='body')\n",
      "        p('RGDRecentReference is open source')\n",
      "        a('http://github.com/wcmckee/wcmckee')\n",
      "\n",
      "#print doc"
     ],
     "language": "python",
     "metadata": {},
     "outputs": []
    },
    {
     "cell_type": "code",
     "collapsed": false,
     "input": [
      "rgdir = ('/home/wcmckee/rgdrecentReference/')"
     ],
     "language": "python",
     "metadata": {},
     "outputs": []
    },
    {
     "cell_type": "code",
     "collapsed": false,
     "input": [
      "os.chdir(rgdir)"
     ],
     "language": "python",
     "metadata": {},
     "outputs": []
    },
    {
     "cell_type": "code",
     "collapsed": false,
     "input": [
      "#mkindex = open('index.html', 'w')\n",
      "#mkindex.write(str(doc))\n",
      "#mkindex.close()"
     ],
     "language": "python",
     "metadata": {},
     "outputs": []
    },
    {
     "cell_type": "code",
     "collapsed": false,
     "input": [
      "#print str(doc)"
     ],
     "language": "python",
     "metadata": {},
     "outputs": []
    },
    {
     "cell_type": "code",
     "collapsed": false,
     "input": [
      "print strftime(\"%a, %d %b %Y %H:%M:%S +0000\")"
     ],
     "language": "python",
     "metadata": {},
     "outputs": []
    },
    {
     "cell_type": "code",
     "collapsed": false,
     "input": [
      "savedate = strftime(\"%d\" + \"-\" + \"%m\" + \"-\" + \"%Y\" + \"-\" + \"%H\")"
     ],
     "language": "python",
     "metadata": {},
     "outputs": []
    },
    {
     "cell_type": "code",
     "collapsed": false,
     "input": [
      "def timeret():\n",
      "    return strftime(\"%d\" + \"-\" + \"%m\" + \"-\" + \"%Y\" + \"-\" + \"%H\")\n",
      "\n",
      "def givmd():\n",
      "    return str(savedate + '.md')\n",
      "\n",
      "def givdic():\n",
      "    return rgdir.replace('/', '-')"
     ],
     "language": "python",
     "metadata": {},
     "outputs": []
    },
    {
     "cell_type": "code",
     "collapsed": false,
     "input": [
      "givdic()"
     ],
     "language": "python",
     "metadata": {},
     "outputs": []
    },
    {
     "cell_type": "raw",
     "metadata": {},
     "source": [
      "timeret()"
     ]
    },
    {
     "cell_type": "code",
     "collapsed": false,
     "input": [
      "givmd()"
     ],
     "language": "python",
     "metadata": {},
     "outputs": []
    },
    {
     "cell_type": "code",
     "collapsed": false,
     "input": [
      "savedate"
     ],
     "language": "python",
     "metadata": {},
     "outputs": []
    },
    {
     "cell_type": "code",
     "collapsed": false,
     "input": [
      "deepone = str(savedate + '.md')"
     ],
     "language": "python",
     "metadata": {},
     "outputs": []
    },
    {
     "cell_type": "code",
     "collapsed": false,
     "input": [
      "deepone"
     ],
     "language": "python",
     "metadata": {},
     "outputs": []
    },
    {
     "cell_type": "code",
     "collapsed": false,
     "input": [
      "#os.chdir('/home/wcmckee/brobeur-blog-post/')"
     ],
     "language": "python",
     "metadata": {},
     "outputs": []
    },
    {
     "cell_type": "code",
     "collapsed": false,
     "input": [
      "#brobeind = open('\u00edndex.html', 'r')"
     ],
     "language": "python",
     "metadata": {},
     "outputs": []
    },
    {
     "cell_type": "code",
     "collapsed": false,
     "input": [
      "#brotest = open('\u00edndex.html', 'r')\n",
      "#brotest.read()"
     ],
     "language": "python",
     "metadata": {},
     "outputs": []
    },
    {
     "cell_type": "code",
     "collapsed": false,
     "input": [
      "redposts = ('/home/wcmckee/rgdrecentReference/posts')"
     ],
     "language": "python",
     "metadata": {},
     "outputs": []
    },
    {
     "cell_type": "code",
     "collapsed": false,
     "input": [
      "os.chdir(redposts)"
     ],
     "language": "python",
     "metadata": {},
     "outputs": []
    },
    {
     "cell_type": "code",
     "collapsed": false,
     "input": [
      "time.asctime()"
     ],
     "language": "python",
     "metadata": {},
     "outputs": []
    },
    {
     "cell_type": "code",
     "collapsed": false,
     "input": [
      "savinx = open(str(deepone), 'w')"
     ],
     "language": "python",
     "metadata": {},
     "outputs": []
    },
    {
     "cell_type": "code",
     "collapsed": false,
     "input": [
      "savinx.write(str(rgdef))"
     ],
     "language": "python",
     "metadata": {},
     "outputs": []
    },
    {
     "cell_type": "code",
     "collapsed": false,
     "input": [
      "savinx.close()"
     ],
     "language": "python",
     "metadata": {},
     "outputs": []
    },
    {
     "cell_type": "code",
     "collapsed": false,
     "input": [
      "deepone"
     ],
     "language": "python",
     "metadata": {},
     "outputs": []
    },
    {
     "cell_type": "code",
     "collapsed": false,
     "input": [
      "decict"
     ],
     "language": "python",
     "metadata": {},
     "outputs": []
    },
    {
     "cell_type": "code",
     "collapsed": false,
     "input": [
      "decict.update({'datehour': givmd()})"
     ],
     "language": "python",
     "metadata": {},
     "outputs": []
    },
    {
     "cell_type": "code",
     "collapsed": false,
     "input": [
      "depan = Series(decict)"
     ],
     "language": "python",
     "metadata": {},
     "outputs": []
    },
    {
     "cell_type": "code",
     "collapsed": false,
     "input": [
      "fepan = Series(fddict)"
     ],
     "language": "python",
     "metadata": {},
     "outputs": []
    },
    {
     "cell_type": "code",
     "collapsed": false,
     "input": [
      "mepan = (fepan)+(depan)"
     ],
     "language": "python",
     "metadata": {},
     "outputs": []
    },
    {
     "cell_type": "code",
     "collapsed": false,
     "input": [
      "depan"
     ],
     "language": "python",
     "metadata": {},
     "outputs": []
    },
    {
     "cell_type": "code",
     "collapsed": false,
     "input": [
      "feram = pd.DataFrame(fepan)"
     ],
     "language": "python",
     "metadata": {},
     "outputs": []
    },
    {
     "cell_type": "code",
     "collapsed": false,
     "input": [
      "fepan"
     ],
     "language": "python",
     "metadata": {},
     "outputs": []
    },
    {
     "cell_type": "code",
     "collapsed": false,
     "input": [
      "feram"
     ],
     "language": "python",
     "metadata": {},
     "outputs": []
    },
    {
     "cell_type": "code",
     "collapsed": false,
     "input": [
      "mepan"
     ],
     "language": "python",
     "metadata": {},
     "outputs": []
    },
    {
     "cell_type": "code",
     "collapsed": false,
     "input": [
      "defed = DataFrame(depan)"
     ],
     "language": "python",
     "metadata": {},
     "outputs": []
    },
    {
     "cell_type": "code",
     "collapsed": false,
     "input": [
      "defed.append(fepan)"
     ],
     "language": "python",
     "metadata": {},
     "outputs": []
    },
    {
     "cell_type": "code",
     "collapsed": false,
     "input": [
      "depan"
     ],
     "language": "python",
     "metadata": {},
     "outputs": []
    },
    {
     "cell_type": "code",
     "collapsed": false,
     "input": [
      "fepan"
     ],
     "language": "python",
     "metadata": {},
     "outputs": [
      {
       "metadata": {},
       "output_type": "pyout",
       "prompt_number": 449,
       "text": [
        "comauthor                                         AtomicMothra\n",
        "combody      First time poster... also, sorry for poor photo q\n",
        "comdown                                                      0\n",
        "comup                                                        1\n",
        "testblah                                              testblah"
       ]
      }
     ],
     "prompt_number": 449
    },
    {
     "cell_type": "code",
     "collapsed": false,
     "input": [
      "mergz = depan.append(fepan)"
     ],
     "language": "python",
     "metadata": {},
     "outputs": [],
     "prompt_number": 450
    },
    {
     "cell_type": "code",
     "collapsed": false,
     "input": [
      "mergz"
     ],
     "language": "python",
     "metadata": {},
     "outputs": [
      {
       "metadata": {},
       "output_type": "pyout",
       "prompt_number": 451,
       "text": [
        "author                                            AtomicMothra\n",
        "body         First time poster... also, sorry for poor photo q\n",
        "created                                           1.417328e+09\n",
        "datehour                                      30-11-2014-09.md\n",
        "downs                                                        0\n",
        "example                                                wcmckee\n",
        "replies                                                     []\n",
        "title        They said you might like to see me. My first snow\n",
        "ups                                                          9\n",
        "url                                   http://imgur.com/U0WgBSO\n",
        "comauthor                                         AtomicMothra\n",
        "combody      First time poster... also, sorry for poor photo q\n",
        "comdown                                                      0\n",
        "comup                                                        1\n",
        "testblah                                              testblah"
       ]
      }
     ],
     "prompt_number": 451
    },
    {
     "cell_type": "code",
     "collapsed": false,
     "input": [],
     "language": "python",
     "metadata": {},
     "outputs": [],
     "prompt_number": 451
    },
    {
     "cell_type": "code",
     "collapsed": false,
     "input": [
      "defed"
     ],
     "language": "python",
     "metadata": {},
     "outputs": [
      {
       "html": [
        "<div style=\"max-height:1000px;max-width:1500px;overflow:auto;\">\n",
        "<table border=\"1\">\n",
        "  <thead>\n",
        "    <tr>\n",
        "      <th></th>\n",
        "      <th>0</th>\n",
        "    </tr>\n",
        "  </thead>\n",
        "  <tbody>\n",
        "    <tr>\n",
        "      <td><strong>author</strong></td>\n",
        "      <td>                                      AtomicMothra</td>\n",
        "    </tr>\n",
        "    <tr>\n",
        "      <td><strong>body</strong></td>\n",
        "      <td> First time poster... also, sorry for poor photo q</td>\n",
        "    </tr>\n",
        "    <tr>\n",
        "      <td><strong>created</strong></td>\n",
        "      <td>                                      1.417328e+09</td>\n",
        "    </tr>\n",
        "    <tr>\n",
        "      <td><strong>datehour</strong></td>\n",
        "      <td>                                  30-11-2014-09.md</td>\n",
        "    </tr>\n",
        "    <tr>\n",
        "      <td><strong>downs</strong></td>\n",
        "      <td>                                                 0</td>\n",
        "    </tr>\n",
        "    <tr>\n",
        "      <td><strong>example</strong></td>\n",
        "      <td>                                           wcmckee</td>\n",
        "    </tr>\n",
        "    <tr>\n",
        "      <td><strong>replies</strong></td>\n",
        "      <td>                                                []</td>\n",
        "    </tr>\n",
        "    <tr>\n",
        "      <td><strong>title</strong></td>\n",
        "      <td> They said you might like to see me. My first snow</td>\n",
        "    </tr>\n",
        "    <tr>\n",
        "      <td><strong>ups</strong></td>\n",
        "      <td>                                                 9</td>\n",
        "    </tr>\n",
        "    <tr>\n",
        "      <td><strong>url</strong></td>\n",
        "      <td>                          http://imgur.com/U0WgBSO</td>\n",
        "    </tr>\n",
        "  </tbody>\n",
        "</table>\n",
        "</div>"
       ],
       "metadata": {},
       "output_type": "pyout",
       "prompt_number": 452,
       "text": [
        "                                                          0\n",
        "author                                         AtomicMothra\n",
        "body      First time poster... also, sorry for poor photo q\n",
        "created                                        1.417328e+09\n",
        "datehour                                   30-11-2014-09.md\n",
        "downs                                                     0\n",
        "example                                             wcmckee\n",
        "replies                                                  []\n",
        "title     They said you might like to see me. My first snow\n",
        "ups                                                       9\n",
        "url                                http://imgur.com/U0WgBSO"
       ]
      }
     ],
     "prompt_number": 452
    },
    {
     "cell_type": "code",
     "collapsed": false,
     "input": [
      "defhtml = mergz.to_html()"
     ],
     "language": "python",
     "metadata": {},
     "outputs": [
      {
       "ename": "AttributeError",
       "evalue": "'Series' object has no attribute 'to_html'",
       "output_type": "pyerr",
       "traceback": [
        "\u001b[1;31m---------------------------------------------------------------------------\u001b[0m\n\u001b[1;31mAttributeError\u001b[0m                            Traceback (most recent call last)",
        "\u001b[1;32m<ipython-input-453-f843e54efbef>\u001b[0m in \u001b[0;36m<module>\u001b[1;34m()\u001b[0m\n\u001b[1;32m----> 1\u001b[1;33m \u001b[0mdefhtml\u001b[0m \u001b[1;33m=\u001b[0m \u001b[0mmergz\u001b[0m\u001b[1;33m.\u001b[0m\u001b[0mto_html\u001b[0m\u001b[1;33m(\u001b[0m\u001b[1;33m)\u001b[0m\u001b[1;33m\u001b[0m\u001b[0m\n\u001b[0m",
        "\u001b[1;31mAttributeError\u001b[0m: 'Series' object has no attribute 'to_html'"
       ]
      }
     ],
     "prompt_number": 453
    },
    {
     "cell_type": "code",
     "collapsed": false,
     "input": [
      "wrhtm = open('index.html', 'w')\n",
      "wrhtm.write(defhtml)\n",
      "wrhtm.close()"
     ],
     "language": "python",
     "metadata": {},
     "outputs": [],
     "prompt_number": 454
    }
   ],
   "metadata": {}
  }
 ]
}