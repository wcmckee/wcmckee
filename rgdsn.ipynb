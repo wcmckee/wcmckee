{
 "metadata": {
  "name": "",
  "signature": "sha256:96efe80d17f5c69ef77e4241aa9552cc4b545290638d46f85744028cb70ca699"
 },
 "nbformat": 3,
 "nbformat_minor": 0,
 "worksheets": [
  {
   "cells": [
    {
     "cell_type": "markdown",
     "metadata": {},
     "source": [
      "<h1>Reddit Gets Drawn Snatch Script</h1>\n",
      "\n",
      "Creates the website redditgetsdrawnrecentreference. It contains the 25 most recent posts on r/redditgetsdrawn. title, image url, and username\n",
      "\n",
      "TODO:\n",
      "Contains artwork replies to each thread\n",
      "\n",
      "This is a Python script that takes data from reddit and posts it to another subreddit. It also creates a html file with the images embed into. The images are the most recent 25 on r/redditgetsdrawn.\n",
      "\n",
      "The script returns the comments from the most recent 25 posts along with the comments of comments.\n",
      "\n",
      "Pandas is used to append everything into a series and DataFrame. \n",
      "The pandas allows youto easily append these together. \n",
      "\n",
      "get all artwork and append into reference image -> \n",
      "artwork. \n",
      "\n",
      "Generate sites again.\n",
      "\n"
     ]
    },
    {
     "cell_type": "markdown",
     "metadata": {},
     "source": [
      "RedditGetsDrawn Snatch\n",
      " \n",
      "This is a Python script that takes data from reddit and posts it to another subreddit. It also creates a html file with the images embed into. The images are the most recent 25 on r/redditgetsdrawn.\n",
      " \n",
      "\n",
      "<markdowncell>\n",
      "\n",
      "TODO\n",
      " \n",
      "submit art to users via website\n",
      " \n",
      "fix image sizes (need to scale down to 550px)\n",
      " \n",
      "Save to server rather than imgur\n",
      " \n",
      "Archieve, snapshots of rgd\n",
      " \n",
      "more artcontrol\n",
      " \n",
      "itwillbemine comments to html - currently being saved in contact \n",
      " \n",
      "work on css, div up page, title, side, body, fo\n",
      "\n",
      "update twitter with ONE IMAGE and announce that the list has been updated.\n",
      " \n",
      "write blog post and submits to artcontroldrawsyou/blog \n",
      " \n",
      "gets sticked post on reddit\n",
      " \n",
      "delete about/contact page and have on all same page. can still have link to blog. \n",
      "about \n",
      "contact etc... along the top.\n",
      "other sections\n",
      " \n",
      "post images to blog for archieve - save body to wcmckee.com/blog - md format?\n",
      " \n",
      "nikola install - build site.\n",
      " \n",
      "cronjob to update site ever ?? hours? 4?\n",
      " \n",
      "photos section: latest 25 photos submitted to redditgetsdrawn.\n",
      "art section: latest 25 art submitted to redditgetsdrawn. \n",
      "\n",
      "cleanup code \n",
      "\n",
      "import pandas into it and removed things i dont need like dominate"
     ]
    },
    {
     "cell_type": "code",
     "collapsed": false,
     "input": [
      "import os\n",
      "import random\n",
      "import requests\n",
      "from bs4 import BeautifulSoup\n",
      "import re\n",
      "import json\n",
      "import time\n",
      "import praw\n",
      "import dominate\n",
      "from dominate.tags import *\n",
      "from time import gmtime, strftime\n",
      "import nose\n",
      "import unittest\n",
      "import numpy as np\n",
      "import pandas as pd\n",
      "from pandas import *"
     ],
     "language": "python",
     "metadata": {},
     "outputs": [],
     "prompt_number": 331
    },
    {
     "cell_type": "code",
     "collapsed": false,
     "input": [
      "chdira = ('/home/wcmckee/artcontroldrawsyou')\n",
      "os.chdir(chdira)"
     ],
     "language": "python",
     "metadata": {},
     "outputs": [],
     "prompt_number": 332
    },
    {
     "cell_type": "code",
     "collapsed": false,
     "input": [
      "r = praw.Reddit(user_agent='rgdsnatch')\n",
      "\n",
      "# <codecell>\n",
      "\n",
      "#r.login('artcontrol', 'taylor123vag!')\n",
      "\n",
      "# <codecell>\n",
      "\n",
      "rd = r.get_subreddit('redditgetsdrawn')\n",
      "\n",
      "# <codecell>\n",
      "\n",
      "subz = rd.get_hot().next()\n",
      "istit = (subz.title)\n",
      "istxt = (subz.selftext_html)\n",
      "istick = (subz.stickied)\n",
      "\n",
      "rdnewz = rd.get_new()\n",
      "\n",
      "rdnew = []"
     ],
     "language": "python",
     "metadata": {},
     "outputs": [],
     "prompt_number": 333
    },
    {
     "cell_type": "code",
     "collapsed": false,
     "input": [
      "reddraw = praw.Reddit(user_agent='rgdsnatch')"
     ],
     "language": "python",
     "metadata": {},
     "outputs": [],
     "prompt_number": 334
    },
    {
     "cell_type": "code",
     "collapsed": false,
     "input": [
      "getrddraw = reddraw.get_subreddit('redditgetsdrawn')"
     ],
     "language": "python",
     "metadata": {},
     "outputs": [],
     "prompt_number": 335
    },
    {
     "cell_type": "code",
     "collapsed": false,
     "input": [
      "decict = {'example':'wcmckee'}"
     ],
     "language": "python",
     "metadata": {},
     "outputs": [],
     "prompt_number": 336
    },
    {
     "cell_type": "code",
     "collapsed": false,
     "input": [
      "subz = getrddraw.get_new()"
     ],
     "language": "python",
     "metadata": {},
     "outputs": [],
     "prompt_number": 337
    },
    {
     "cell_type": "code",
     "collapsed": false,
     "input": [
      "class TestRedditFunction(unittest.TestCase):\n",
      "    \n",
      "    def setUp(self):\n",
      "        self.seq = reddraw.get_subreddit('redditgetsdrawn')\n",
      "        \n",
      "    def testredit(self):\n",
      "        drawnew('redditgetsdrawn') "
     ],
     "language": "python",
     "metadata": {},
     "outputs": [],
     "prompt_number": 338
    },
    {
     "cell_type": "code",
     "collapsed": false,
     "input": [
      "def drawnew(subred):\n",
      "    getrdraw = reddraw.get_subreddit(subred)\n",
      "    return getrdraw\n",
      "\n",
      "def apred(deciz):\n",
      "    \n",
      "    return (deciz)"
     ],
     "language": "python",
     "metadata": {},
     "outputs": [],
     "prompt_number": 339
    },
    {
     "cell_type": "code",
     "collapsed": false,
     "input": [
      "apred('omg')"
     ],
     "language": "python",
     "metadata": {},
     "outputs": [
      {
       "metadata": {},
       "output_type": "pyout",
       "prompt_number": 340,
       "text": [
        "'omg'"
       ]
      }
     ],
     "prompt_number": 340
    },
    {
     "cell_type": "code",
     "collapsed": false,
     "input": [
      "rdrws = drawnew('redditgetsdrawn')"
     ],
     "language": "python",
     "metadata": {},
     "outputs": [],
     "prompt_number": 341
    },
    {
     "cell_type": "code",
     "collapsed": false,
     "input": [
      "rtohr = rdrws.get_controversial_from_all()"
     ],
     "language": "python",
     "metadata": {},
     "outputs": [],
     "prompt_number": 342
    },
    {
     "cell_type": "code",
     "collapsed": false,
     "input": [
      "for imgz in rtohr:\n",
      "    #print imgz.selftext\n",
      "    print imgz.num_comments"
     ],
     "language": "python",
     "metadata": {},
     "outputs": [
      {
       "output_type": "stream",
       "stream": "stdout",
       "text": [
        "2\n",
        "33\n",
        "26\n",
        "8\n",
        "71\n",
        "53\n",
        "7\n",
        "23\n",
        "61\n",
        "6\n",
        "20\n",
        "59\n",
        "58\n",
        "5\n",
        "14\n",
        "3\n",
        "21\n",
        "7\n",
        "10\n",
        "26\n",
        "56\n",
        "37\n",
        "15\n",
        "2\n",
        "0\n"
       ]
      }
     ],
     "prompt_number": 343
    },
    {
     "cell_type": "code",
     "collapsed": false,
     "input": [
      "rdnew = []"
     ],
     "language": "python",
     "metadata": {},
     "outputs": [],
     "prompt_number": 344
    },
    {
     "cell_type": "code",
     "collapsed": false,
     "input": [
      "rdnewz = getrddraw.get_new()\n",
      "\n",
      "# <codecell>\n",
      "\n",
      "rdnew = []\n",
      "\n",
      "# <codecell>\n",
      "\n",
      "rdnew\n",
      "\n",
      "# <codecell>\n",
      "\n",
      "for uz in rdnewz:\n",
      "    #print uz\n",
      "    rdnew.append(uz)\n"
     ],
     "language": "python",
     "metadata": {},
     "outputs": [],
     "prompt_number": 345
    },
    {
     "cell_type": "code",
     "collapsed": false,
     "input": [
      "datelis = []\n",
      "refdic = {}\n",
      "rgdef = {'testz': 'testvalue'}\n",
      "comdefz = []\n"
     ],
     "language": "python",
     "metadata": {},
     "outputs": [],
     "prompt_number": 346
    },
    {
     "cell_type": "code",
     "collapsed": false,
     "input": [
      "for rdz in rdnew:\n",
      "    print rdz.name\n",
      "    print rdz.title\n",
      "    print rdz.url\n",
      "    print rdz.author\n",
      "    print rdz.secure_media\n",
      "    print rdz.num_comments\n",
      "    print rdz.comments\n",
      "    comdefz.append(rdz.comments)\n",
      "    datelis.append(rdz.title)\n",
      "    datelis.append(rdz.url)\n",
      "    datelis.append(rdz.author)\n",
      "    comdict = {'comtxt':rdz.comments}\n",
      "    rgdef.update({rdz.author: rdz.url})\n",
      "    pandic = DataFrame(rdz.json_dict)\n",
      "    decict.update({'url':rdz.url})\n",
      "    decict.update({'title':rdz.title})\n",
      "    decict.update({'ups': rdz.ups})\n",
      "    decict.update({'downs': rdz.downs})"
     ],
     "language": "python",
     "metadata": {},
     "outputs": [
      {
       "output_type": "stream",
       "stream": "stdout",
       "text": [
        "t3_2nttp6\n",
        "Does anyone want to draw my handsome little son in his paperboy Thanksgiving outfit?\n",
        "http://imgur.com/hZUokhS\n",
        "Spursfan2014\n",
        "None\n",
        "0\n",
        "[]"
       ]
      },
      {
       "output_type": "stream",
       "stream": "stdout",
       "text": [
        "\n",
        "t3_2nttfq\n",
        "Would anyone want to draw me, at work, wearing a surgical mask? I'd love to see a fun interpretation of it.\n",
        "http://imgur.com/ErjMwpg\n",
        "limegreencake\n",
        "None\n",
        "0\n",
        "[]"
       ]
      },
      {
       "output_type": "stream",
       "stream": "stdout",
       "text": [
        "\n",
        "t3_2nttf9\n",
        "Can you talented people draw this picture of me? It's my grandmothers favorite. Any style would be great. :D\n",
        "http://imgur.com/qox5fLY\n",
        "patimusiclover\n",
        "None\n",
        "0\n",
        "[]"
       ]
      },
      {
       "output_type": "stream",
       "stream": "stdout",
       "text": [
        "\n",
        "t3_2ntsi6\n",
        "I'd be very very grateful if you would sketch this picture of me and my best friend..Thanks in advance..:)\n",
        "http://imgur.com/BFjG9nQ\n",
        "bittuhari\n",
        "None\n",
        "1\n",
        "[<praw.objects.Comment object at 0x1be86f0>]"
       ]
      },
      {
       "output_type": "stream",
       "stream": "stdout",
       "text": [
        "\n",
        "t3_2ntpvl\n",
        "My girlfriend's hair can get a bit... unruly. Would anyone like to give it a try?\n",
        "http://i.imgur.com/8zeG2Tj.jpg\n",
        "MassiveJammies\n",
        "None\n",
        "0\n",
        "[]"
       ]
      },
      {
       "output_type": "stream",
       "stream": "stdout",
       "text": [
        "\n",
        "t3_2ntpml\n",
        "Can someone please draw my boyfriend and I? Maybe turn us into mermen? all styles welcome!\n",
        "http://imgur.com/Hez71b9,d1FCSQ2\n",
        "dorkus713\n",
        "None\n",
        "0\n",
        "[]"
       ]
      },
      {
       "output_type": "stream",
       "stream": "stdout",
       "text": [
        "\n",
        "t3_2ntozu\n",
        "Could you please draw me in color?\n",
        "http://imgur.com/26Nt9GS\n",
        "mezzomacchiato\n",
        "None\n",
        "2\n",
        "[<praw.objects.Comment object at 0x19c0af0>, <praw.objects.Comment object at 0x1aa65b0>]"
       ]
      },
      {
       "output_type": "stream",
       "stream": "stdout",
       "text": [
        "\n",
        "t3_2ntovq\n",
        "Took a selfie for my wife, and I thought it would be fun to draw. Anyone want to take a shot?\n",
        "http://i.imgur.com/4u0XE1O.jpg\n",
        "JustCallMeEro\n",
        "None\n",
        "0\n",
        "[]"
       ]
      },
      {
       "output_type": "stream",
       "stream": "stdout",
       "text": [
        "\n",
        "t3_2ntkkz\n",
        "Could you draw my nephew?\n",
        "http://imgur.com/wx9kLWd\n",
        "jessetyler1992\n",
        "None\n",
        "0\n",
        "[]"
       ]
      },
      {
       "output_type": "stream",
       "stream": "stdout",
       "text": [
        "\n",
        "t3_2ntk29\n",
        "Here's me in some tall grass! Draw away!\n",
        "http://imgur.com/a2pk2sm\n",
        "lonelyseahorse\n",
        "None\n",
        "0\n",
        "[]"
       ]
      },
      {
       "output_type": "stream",
       "stream": "stdout",
       "text": [
        "\n",
        "t3_2ntj2w\n",
        "Would love to see me drawn! Thanks in advance.\n",
        "http://i.imgur.com/AyqJerZ.png\n",
        "bsamora\n",
        "None\n",
        "0\n",
        "[]"
       ]
      },
      {
       "output_type": "stream",
       "stream": "stdout",
       "text": [
        "\n",
        "t3_2ntioh\n",
        "At Toys R Us. Suddenly, this finds its way onto my head.\n",
        "http://i.imgur.com/hNTjeP0.jpg\n",
        "PossiblePugilist\n",
        "None\n",
        "1\n",
        "[<praw.objects.Comment object at 0x1d21bd0>]"
       ]
      },
      {
       "output_type": "stream",
       "stream": "stdout",
       "text": [
        "\n",
        "t3_2ntih3\n",
        "my overly excited daughter in a snoopy car. Draw?\n",
        "http://imgur.com/ewQhvTe\n",
        "Jdandrews000\n",
        "None\n",
        "0\n",
        "[]"
       ]
      },
      {
       "output_type": "stream",
       "stream": "stdout",
       "text": [
        "\n",
        "t3_2ntho6\n",
        "Anyone want to draw me as a horribly disguised ninja?\n",
        "http://imgur.com/7pMgFV3&amp;qVr7XGY\n",
        "Nickachuu\n",
        "None\n",
        "0\n",
        "[]"
       ]
      },
      {
       "output_type": "stream",
       "stream": "stdout",
       "text": [
        "\n",
        "t3_2ntems\n",
        "My boyfriend has been browsing all of the great RGD art lately, he would love to see your take on this pic of him! Any and all styles welcomed!\n",
        "http://i.imgur.com/cHTAFuC.jpg\n",
        "paper-\n",
        "None\n",
        "0\n",
        "[]"
       ]
      },
      {
       "output_type": "stream",
       "stream": "stdout",
       "text": [
        "\n",
        "t3_2ntd3o\n",
        "Can you draw my sister as a fairy? :)\n",
        "http://i.imgur.com/wDqfqPG.png\n",
        "holocene21\n",
        "None\n",
        "0\n",
        "[]"
       ]
      },
      {
       "output_type": "stream",
       "stream": "stdout",
       "text": [
        "\n",
        "t3_2ntcdc\n",
        "Can you draw me and my son for my mom's bday, this is her favorite picture of us. Want her to be blown away since he's the one and only grandchild.\n",
        "http://imgur.com/pxfRyT9\n",
        "essequamvideri04\n",
        "None\n",
        "0\n",
        "[]"
       ]
      },
      {
       "output_type": "stream",
       "stream": "stdout",
       "text": [
        "\n",
        "t3_2ntbph\n",
        "Me at my favorite place, Chicano Park\n",
        "http://imgur.com/mnwYm9l\n",
        "choniz1\n",
        "None\n",
        "0\n",
        "[]"
       ]
      },
      {
       "output_type": "stream",
       "stream": "stdout",
       "text": [
        "\n",
        "t3_2nt9yz\n",
        "My two best friend's are quite stand up guys and I would love to get a picture of them to look like Bert and Ernie from Sesame Street.\n",
        "http://imgur.com/ItnTqVO\n",
        "Chimone\n",
        "None\n",
        "0\n",
        "[]"
       ]
      },
      {
       "output_type": "stream",
       "stream": "stdout",
       "text": [
        "\n",
        "t3_2nt9d8\n",
        "Hello. This is me and I've never been drawn before. It would really make my day if you could!\n",
        "http://imgur.com/nrfT2oy\n",
        "king-internet\n",
        "None\n",
        "1\n",
        "[<praw.objects.Comment object at 0x1be8130>]"
       ]
      },
      {
       "output_type": "stream",
       "stream": "stdout",
       "text": [
        "\n",
        "t3_2nt7rl\n",
        "My Grandpa needs some sugar to jumpstart his morning, can you draw him please?\n",
        "http://i.imgur.com/3EBj4HG.jpg\n",
        "mischiefismychicken\n",
        "None\n",
        "0\n",
        "[]"
       ]
      },
      {
       "output_type": "stream",
       "stream": "stdout",
       "text": [
        "\n",
        "t3_2nt3w9\n",
        "Just messing around with my moustache\n",
        "http://i.imgur.com/7ELKm4R.jpg\n",
        "chrisaltosax\n",
        "None\n",
        "0\n",
        "[]"
       ]
      },
      {
       "output_type": "stream",
       "stream": "stdout",
       "text": [
        "\n",
        "t3_2nsipo\n",
        "Hey this is crazy, but draw us please?\n",
        "http://i.imgur.com/GfR0c7c.jpg\n",
        "inthe_dark\n",
        "None\n",
        "0\n",
        "[]"
       ]
      },
      {
       "output_type": "stream",
       "stream": "stdout",
       "text": [
        "\n",
        "t3_2nsiqp\n",
        "Anyone wanna take a stab at our son enchanted by our first Christmas tree (that he's aware of) ?\n",
        "http://i.imgur.com/1ScQMsx.jpg\n",
        "writingforpennies\n",
        "None\n",
        "3\n",
        "[<praw.objects.Comment object at 0x1cacab0>]"
       ]
      },
      {
       "output_type": "stream",
       "stream": "stdout",
       "text": [
        "\n",
        "t3_2nsslt\n",
        "They said you might like to see me. My first snow in 3 years!\n",
        "http://imgur.com/U0WgBSO\n",
        "LadyVenus\n",
        "None\n",
        "3\n",
        "[<praw.objects.Comment object at 0x1aa6b90>, <praw.objects.Comment object at 0x1d1f2b0>, <praw.objects.Comment object at 0x1bcf790>]"
       ]
      },
      {
       "output_type": "stream",
       "stream": "stdout",
       "text": [
        "\n"
       ]
      }
     ],
     "prompt_number": 347
    },
    {
     "cell_type": "code",
     "collapsed": false,
     "input": [
      "pandic"
     ],
     "language": "python",
     "metadata": {},
     "outputs": [
      {
       "html": [
        "<div style=\"max-height:1000px;max-width:1500px;overflow:auto;\">\n",
        "<table border=\"1\">\n",
        "  <tbody>\n",
        "    <tr>\n",
        "      <td>Index([], dtype=object)</td>\n",
        "      <td>Empty DataFrame</td>\n",
        "    </tr>\n",
        "  </tbody>\n",
        "</table>\n",
        "</div>"
       ],
       "metadata": {},
       "output_type": "pyout",
       "prompt_number": 348,
       "text": [
        "Empty DataFrame\n",
        "Columns: array([], dtype=object)\n",
        "Index: array([], dtype=object)"
       ]
      }
     ],
     "prompt_number": 348
    },
    {
     "cell_type": "code",
     "collapsed": false,
     "input": [
      "comdict"
     ],
     "language": "python",
     "metadata": {},
     "outputs": [
      {
       "metadata": {},
       "output_type": "pyout",
       "prompt_number": 349,
       "text": [
        "{'comtxt': [<praw.objects.Comment at 0x1aa6b90>,\n",
        "  <praw.objects.Comment at 0x1d1f2b0>,\n",
        "  <praw.objects.Comment at 0x1bcf790>]}"
       ]
      }
     ],
     "prompt_number": 349
    },
    {
     "cell_type": "code",
     "collapsed": false,
     "input": [
      "comply = []"
     ],
     "language": "python",
     "metadata": {},
     "outputs": [],
     "prompt_number": 350
    },
    {
     "cell_type": "code",
     "collapsed": false,
     "input": [
      "fddict = {'testblah': 'testblah'}"
     ],
     "language": "python",
     "metadata": {},
     "outputs": [],
     "prompt_number": 351
    },
    {
     "cell_type": "code",
     "collapsed": false,
     "input": [
      "for comaq in comdefz:\n",
      "    for fdz in comaq:\n",
      "        print fdz\n",
      "        print fdz.author\n",
      "        print fdz.created_utc\n",
      "        print fdz.replies\n",
      "        fddict.update({'combody': fdz.body})\n",
      "        fddict.update({'comauthor': fdz.author})\n",
      "        fddict.update({'comup': fdz.ups})\n",
      "        fddict.update({'comdown': fdz.downs})\n",
      "        \n",
      "        comply.append(fdz.replies)\n",
      "        decict.update({'created':fdz.created_utc})\n",
      "        decict.update({'author': fdz.author})\n",
      "        decict.update({'body':fdz.body})\n",
      "        decict.update({'replies':fdz.replies})"
     ],
     "language": "python",
     "metadata": {},
     "outputs": [
      {
       "output_type": "stream",
       "stream": "stdout",
       "text": [
        "all styles are welcomed...and it'd be awesome if its colored 'cause I'm plann...\n",
        "bittuhari\n",
        "1417332014.0\n",
        "[]\n",
        "[here you are in color](http://i.imgur.com/3eyg2Rp.jpg)\n",
        "nibot2\n",
        "1417337268.0\n",
        "[]\n",
        "http://i.imgur.com/yPBcXbY.jpg\n",
        "milk4less\n",
        "1417332233.0\n",
        "[]\n",
        "http://imgur.com/E5NBcg1\n",
        "chromecoat\n",
        "1417331537.0\n",
        "[]\n",
        "[A dodgy sketch]( http://imgur.com/rrf4Rcy)\n",
        "erialc1205\n",
        "1417334993.0\n",
        "[]\n",
        "[Here's](http://i.imgur.com/wyVz7e0.jpg) a quick pencil sketch.\n",
        "Elwenaur\n",
        "1417319253.0\n",
        "[<praw.objects.Comment object at 0x1d1fbf0>]\n",
        "Love these colors! [Here's](http://i.imgur.com/S88cKTf.jpg) my lineart.\n",
        "\n",
        "EDIT...\n",
        "Elwenaur\n",
        "1417321837.0\n",
        "[]\n",
        "[Pencil](https://gs1.wac.edgecastcdn.net/8019B6/data.tumblr.com/ee71c77c559aa...\n",
        "LiamMeron\n",
        "1417328242.0\n",
        "[]\n",
        "First time poster... also, sorry for poor photo quality. [Here's my attempt.]...\n",
        "AtomicMothra\n",
        "1417327602.0\n",
        "[]\n"
       ]
      }
     ],
     "prompt_number": 352
    },
    {
     "cell_type": "code",
     "collapsed": false,
     "input": [
      "decict"
     ],
     "language": "python",
     "metadata": {},
     "outputs": [
      {
       "metadata": {},
       "output_type": "pyout",
       "prompt_number": 353,
       "text": [
        "{'author': Redditor(user_name='AtomicMothra'),\n",
        " 'body': u\"First time poster... also, sorry for poor photo quality. [Here's my attempt.](http://i.imgur.com/hBoOwvS.jpg)\",\n",
        " 'created': 1417327602.0,\n",
        " 'downs': 0,\n",
        " 'example': 'wcmckee',\n",
        " 'replies': [],\n",
        " 'title': u'They said you might like to see me. My first snow in 3 years!',\n",
        " 'ups': 9,\n",
        " 'url': u'http://imgur.com/U0WgBSO'}"
       ]
      }
     ],
     "prompt_number": 353
    },
    {
     "cell_type": "code",
     "collapsed": false,
     "input": [
      "fddict"
     ],
     "language": "python",
     "metadata": {},
     "outputs": [
      {
       "metadata": {},
       "output_type": "pyout",
       "prompt_number": 354,
       "text": [
        "{'comauthor': Redditor(user_name='AtomicMothra'),\n",
        " 'combody': u\"First time poster... also, sorry for poor photo quality. [Here's my attempt.](http://i.imgur.com/hBoOwvS.jpg)\",\n",
        " 'comdown': 0,\n",
        " 'comup': 1,\n",
        " 'testblah': 'testblah'}"
       ]
      }
     ],
     "prompt_number": 354
    },
    {
     "cell_type": "code",
     "collapsed": false,
     "input": [
      "for coaz in comply:\n",
      "    print coaz\n",
      "    for coa in coaz:\n",
      "        print coa.body\n",
      "        print coa.author"
     ],
     "language": "python",
     "metadata": {},
     "outputs": [
      {
       "output_type": "stream",
       "stream": "stdout",
       "text": [
        "[]\n",
        "[]\n",
        "[]\n",
        "[]\n",
        "[]\n",
        "[<praw.objects.Comment object at 0x1d1fbf0>]\n",
        "Oh man I love it!!! I'm pretty obsessed with our first (and only) child haha and this just makes me choke up. Thank you! \n",
        "writingforpennies\n",
        "[]\n",
        "[]\n",
        "[]\n"
       ]
      }
     ],
     "prompt_number": 355
    },
    {
     "cell_type": "code",
     "collapsed": false,
     "input": [
      "serz = Series(fddict)"
     ],
     "language": "python",
     "metadata": {},
     "outputs": [],
     "prompt_number": 356
    },
    {
     "cell_type": "code",
     "collapsed": false,
     "input": [
      "fddict"
     ],
     "language": "python",
     "metadata": {},
     "outputs": [
      {
       "metadata": {},
       "output_type": "pyout",
       "prompt_number": 357,
       "text": [
        "{'comauthor': Redditor(user_name='AtomicMothra'),\n",
        " 'combody': u\"First time poster... also, sorry for poor photo quality. [Here's my attempt.](http://i.imgur.com/hBoOwvS.jpg)\",\n",
        " 'comdown': 0,\n",
        " 'comup': 1,\n",
        " 'testblah': 'testblah'}"
       ]
      }
     ],
     "prompt_number": 357
    },
    {
     "cell_type": "code",
     "collapsed": false,
     "input": [
      "fddict.keys()"
     ],
     "language": "python",
     "metadata": {},
     "outputs": [
      {
       "metadata": {},
       "output_type": "pyout",
       "prompt_number": 358,
       "text": [
        "['testblah', 'comauthor', 'comdown', 'combody', 'comup']"
       ]
      }
     ],
     "prompt_number": 358
    },
    {
     "cell_type": "code",
     "collapsed": false,
     "input": [
      "def extractlinks(html):\n",
      "    soup = BeautifulSoup(html)\n",
      "    anchors = soup.findAll('a')\n",
      "    links = []\n",
      "    for a in anchors:\n",
      "        links.append(a['href'])\n",
      "    return links"
     ],
     "language": "python",
     "metadata": {},
     "outputs": [],
     "prompt_number": 359
    },
    {
     "cell_type": "code",
     "collapsed": false,
     "input": [
      "cydict = fddict.values()"
     ],
     "language": "python",
     "metadata": {},
     "outputs": [],
     "prompt_number": 360
    },
    {
     "cell_type": "code",
     "collapsed": false,
     "input": [
      "for itz in cydict:\n",
      "    print itz   "
     ],
     "language": "python",
     "metadata": {},
     "outputs": [
      {
       "output_type": "stream",
       "stream": "stdout",
       "text": [
        "testblah\n",
        "AtomicMothra\n",
        "0\n",
        "First time poster... also, sorry for poor photo quality. [Here's my attempt.](http://i.imgur.com/hBoOwvS.jpg)\n",
        "1\n"
       ]
      }
     ],
     "prompt_number": 361
    },
    {
     "cell_type": "code",
     "collapsed": false,
     "input": [
      "chedict = {'blah': 'testing'}"
     ],
     "language": "python",
     "metadata": {},
     "outputs": [],
     "prompt_number": 362
    },
    {
     "cell_type": "code",
     "collapsed": false,
     "input": [
      "fixurl = BeautifulSoup(fddict.values())"
     ],
     "language": "python",
     "metadata": {},
     "outputs": [
      {
       "ename": "TypeError",
       "evalue": "expected string or buffer",
       "output_type": "pyerr",
       "traceback": [
        "\u001b[1;31m---------------------------------------------------------------------------\u001b[0m\n\u001b[1;31mTypeError\u001b[0m                                 Traceback (most recent call last)",
        "\u001b[1;32m<ipython-input-363-da64889ea728>\u001b[0m in \u001b[0;36m<module>\u001b[1;34m()\u001b[0m\n\u001b[1;32m----> 1\u001b[1;33m \u001b[0mfixurl\u001b[0m \u001b[1;33m=\u001b[0m \u001b[0mBeautifulSoup\u001b[0m\u001b[1;33m(\u001b[0m\u001b[0mfddict\u001b[0m\u001b[1;33m.\u001b[0m\u001b[0mvalues\u001b[0m\u001b[1;33m(\u001b[0m\u001b[1;33m)\u001b[0m\u001b[1;33m)\u001b[0m\u001b[1;33m\u001b[0m\u001b[0m\n\u001b[0m",
        "\u001b[1;32m/usr/local/lib/python2.7/dist-packages/bs4/__init__.pyc\u001b[0m in \u001b[0;36m__init__\u001b[1;34m(self, markup, features, builder, parse_only, from_encoding, **kwargs)\u001b[0m\n\u001b[0;32m    191\u001b[0m         for (self.markup, self.original_encoding, self.declared_html_encoding,\n\u001b[0;32m    192\u001b[0m          \u001b[0mself\u001b[0m\u001b[1;33m.\u001b[0m\u001b[0mcontains_replacement_characters\u001b[0m\u001b[1;33m)\u001b[0m \u001b[1;32min\u001b[0m \u001b[1;33m(\u001b[0m\u001b[1;33m\u001b[0m\u001b[0m\n\u001b[1;32m--> 193\u001b[1;33m             self.builder.prepare_markup(markup, from_encoding)):\n\u001b[0m\u001b[0;32m    194\u001b[0m             \u001b[0mself\u001b[0m\u001b[1;33m.\u001b[0m\u001b[0mreset\u001b[0m\u001b[1;33m(\u001b[0m\u001b[1;33m)\u001b[0m\u001b[1;33m\u001b[0m\u001b[0m\n\u001b[0;32m    195\u001b[0m             \u001b[1;32mtry\u001b[0m\u001b[1;33m:\u001b[0m\u001b[1;33m\u001b[0m\u001b[0m\n",
        "\u001b[1;32m/usr/local/lib/python2.7/dist-packages/bs4/builder/_htmlparser.pyc\u001b[0m in \u001b[0;36mprepare_markup\u001b[1;34m(self, markup, user_specified_encoding, document_declared_encoding)\u001b[0m\n\u001b[0;32m    148\u001b[0m \u001b[1;33m\u001b[0m\u001b[0m\n\u001b[0;32m    149\u001b[0m         \u001b[0mtry_encodings\u001b[0m \u001b[1;33m=\u001b[0m \u001b[1;33m[\u001b[0m\u001b[0muser_specified_encoding\u001b[0m\u001b[1;33m,\u001b[0m \u001b[0mdocument_declared_encoding\u001b[0m\u001b[1;33m]\u001b[0m\u001b[1;33m\u001b[0m\u001b[0m\n\u001b[1;32m--> 150\u001b[1;33m         \u001b[0mdammit\u001b[0m \u001b[1;33m=\u001b[0m \u001b[0mUnicodeDammit\u001b[0m\u001b[1;33m(\u001b[0m\u001b[0mmarkup\u001b[0m\u001b[1;33m,\u001b[0m \u001b[0mtry_encodings\u001b[0m\u001b[1;33m,\u001b[0m \u001b[0mis_html\u001b[0m\u001b[1;33m=\u001b[0m\u001b[0mTrue\u001b[0m\u001b[1;33m)\u001b[0m\u001b[1;33m\u001b[0m\u001b[0m\n\u001b[0m\u001b[0;32m    151\u001b[0m         yield (dammit.markup, dammit.original_encoding,\n\u001b[0;32m    152\u001b[0m                \u001b[0mdammit\u001b[0m\u001b[1;33m.\u001b[0m\u001b[0mdeclared_html_encoding\u001b[0m\u001b[1;33m,\u001b[0m\u001b[1;33m\u001b[0m\u001b[0m\n",
        "\u001b[1;32m/usr/local/lib/python2.7/dist-packages/bs4/dammit.pyc\u001b[0m in \u001b[0;36m__init__\u001b[1;34m(self, markup, override_encodings, smart_quotes_to, is_html)\u001b[0m\n\u001b[0;32m    352\u001b[0m \u001b[1;33m\u001b[0m\u001b[0m\n\u001b[0;32m    353\u001b[0m         \u001b[0mu\u001b[0m \u001b[1;33m=\u001b[0m \u001b[0mNone\u001b[0m\u001b[1;33m\u001b[0m\u001b[0m\n\u001b[1;32m--> 354\u001b[1;33m         \u001b[1;32mfor\u001b[0m \u001b[0mencoding\u001b[0m \u001b[1;32min\u001b[0m \u001b[0mself\u001b[0m\u001b[1;33m.\u001b[0m\u001b[0mdetector\u001b[0m\u001b[1;33m.\u001b[0m\u001b[0mencodings\u001b[0m\u001b[1;33m:\u001b[0m\u001b[1;33m\u001b[0m\u001b[0m\n\u001b[0m\u001b[0;32m    355\u001b[0m             \u001b[0mmarkup\u001b[0m \u001b[1;33m=\u001b[0m \u001b[0mself\u001b[0m\u001b[1;33m.\u001b[0m\u001b[0mdetector\u001b[0m\u001b[1;33m.\u001b[0m\u001b[0mmarkup\u001b[0m\u001b[1;33m\u001b[0m\u001b[0m\n\u001b[0;32m    356\u001b[0m             \u001b[0mu\u001b[0m \u001b[1;33m=\u001b[0m \u001b[0mself\u001b[0m\u001b[1;33m.\u001b[0m\u001b[0m_convert_from\u001b[0m\u001b[1;33m(\u001b[0m\u001b[0mencoding\u001b[0m\u001b[1;33m)\u001b[0m\u001b[1;33m\u001b[0m\u001b[0m\n",
        "\u001b[1;32m/usr/local/lib/python2.7/dist-packages/bs4/dammit.pyc\u001b[0m in \u001b[0;36mencodings\u001b[1;34m(self)\u001b[0m\n\u001b[0;32m    247\u001b[0m         \u001b[1;32mif\u001b[0m \u001b[0mself\u001b[0m\u001b[1;33m.\u001b[0m\u001b[0mdeclared_encoding\u001b[0m \u001b[1;32mis\u001b[0m \u001b[0mNone\u001b[0m\u001b[1;33m:\u001b[0m\u001b[1;33m\u001b[0m\u001b[0m\n\u001b[0;32m    248\u001b[0m             self.declared_encoding = self.find_declared_encoding(\n\u001b[1;32m--> 249\u001b[1;33m                 self.markup, self.is_html)\n\u001b[0m\u001b[0;32m    250\u001b[0m         \u001b[1;32mif\u001b[0m \u001b[0mself\u001b[0m\u001b[1;33m.\u001b[0m\u001b[0m_usable\u001b[0m\u001b[1;33m(\u001b[0m\u001b[0mself\u001b[0m\u001b[1;33m.\u001b[0m\u001b[0mdeclared_encoding\u001b[0m\u001b[1;33m,\u001b[0m \u001b[0mtried\u001b[0m\u001b[1;33m)\u001b[0m\u001b[1;33m:\u001b[0m\u001b[1;33m\u001b[0m\u001b[0m\n\u001b[0;32m    251\u001b[0m             \u001b[1;32myield\u001b[0m \u001b[0mself\u001b[0m\u001b[1;33m.\u001b[0m\u001b[0mdeclared_encoding\u001b[0m\u001b[1;33m\u001b[0m\u001b[0m\n",
        "\u001b[1;32m/usr/local/lib/python2.7/dist-packages/bs4/dammit.pyc\u001b[0m in \u001b[0;36mfind_declared_encoding\u001b[1;34m(cls, markup, is_html, search_entire_document)\u001b[0m\n\u001b[0;32m    302\u001b[0m \u001b[1;33m\u001b[0m\u001b[0m\n\u001b[0;32m    303\u001b[0m         \u001b[0mdeclared_encoding\u001b[0m \u001b[1;33m=\u001b[0m \u001b[0mNone\u001b[0m\u001b[1;33m\u001b[0m\u001b[0m\n\u001b[1;32m--> 304\u001b[1;33m         \u001b[0mdeclared_encoding_match\u001b[0m \u001b[1;33m=\u001b[0m \u001b[0mxml_encoding_re\u001b[0m\u001b[1;33m.\u001b[0m\u001b[0msearch\u001b[0m\u001b[1;33m(\u001b[0m\u001b[0mmarkup\u001b[0m\u001b[1;33m,\u001b[0m \u001b[0mendpos\u001b[0m\u001b[1;33m=\u001b[0m\u001b[0mxml_endpos\u001b[0m\u001b[1;33m)\u001b[0m\u001b[1;33m\u001b[0m\u001b[0m\n\u001b[0m\u001b[0;32m    305\u001b[0m         \u001b[1;32mif\u001b[0m \u001b[1;32mnot\u001b[0m \u001b[0mdeclared_encoding_match\u001b[0m \u001b[1;32mand\u001b[0m \u001b[0mis_html\u001b[0m\u001b[1;33m:\u001b[0m\u001b[1;33m\u001b[0m\u001b[0m\n\u001b[0;32m    306\u001b[0m             \u001b[0mdeclared_encoding_match\u001b[0m \u001b[1;33m=\u001b[0m \u001b[0mhtml_meta_re\u001b[0m\u001b[1;33m.\u001b[0m\u001b[0msearch\u001b[0m\u001b[1;33m(\u001b[0m\u001b[0mmarkup\u001b[0m\u001b[1;33m,\u001b[0m \u001b[0mendpos\u001b[0m\u001b[1;33m=\u001b[0m\u001b[0mhtml_endpos\u001b[0m\u001b[1;33m)\u001b[0m\u001b[1;33m\u001b[0m\u001b[0m\n",
        "\u001b[1;31mTypeError\u001b[0m: expected string or buffer"
       ]
      }
     ],
     "prompt_number": 363
    },
    {
     "cell_type": "code",
     "collapsed": false,
     "input": [
      "for coma in comdefz:\n",
      "    #print coma\n",
      "    #chedict.update({'first': coma})\n",
      "    for co in coma:\n",
      "        print co\n",
      "        chedict.update({co.author: co.body})"
     ],
     "language": "python",
     "metadata": {},
     "outputs": []
    },
    {
     "cell_type": "code",
     "collapsed": false,
     "input": [
      "chedict"
     ],
     "language": "python",
     "metadata": {},
     "outputs": [
      {
       "metadata": {},
       "output_type": "pyout",
       "prompt_number": 364,
       "text": [
        "{'blah': 'testing'}"
       ]
      }
     ],
     "prompt_number": 364
    },
    {
     "cell_type": "code",
     "collapsed": false,
     "input": [
      "jsdum = json.loads(chedict)"
     ],
     "language": "python",
     "metadata": {},
     "outputs": [
      {
       "ename": "TypeError",
       "evalue": "expected string or buffer",
       "output_type": "pyerr",
       "traceback": [
        "\u001b[1;31m---------------------------------------------------------------------------\u001b[0m\n\u001b[1;31mTypeError\u001b[0m                                 Traceback (most recent call last)",
        "\u001b[1;32m<ipython-input-365-2476929ea770>\u001b[0m in \u001b[0;36m<module>\u001b[1;34m()\u001b[0m\n\u001b[1;32m----> 1\u001b[1;33m \u001b[0mjsdum\u001b[0m \u001b[1;33m=\u001b[0m \u001b[0mjson\u001b[0m\u001b[1;33m.\u001b[0m\u001b[0mloads\u001b[0m\u001b[1;33m(\u001b[0m\u001b[0mchedict\u001b[0m\u001b[1;33m)\u001b[0m\u001b[1;33m\u001b[0m\u001b[0m\n\u001b[0m",
        "\u001b[1;32m/usr/lib/python2.7/json/__init__.pyc\u001b[0m in \u001b[0;36mloads\u001b[1;34m(s, encoding, cls, object_hook, parse_float, parse_int, parse_constant, object_pairs_hook, **kw)\u001b[0m\n\u001b[0;32m    324\u001b[0m             \u001b[0mparse_int\u001b[0m \u001b[1;32mis\u001b[0m \u001b[0mNone\u001b[0m \u001b[1;32mand\u001b[0m \u001b[0mparse_float\u001b[0m \u001b[1;32mis\u001b[0m \u001b[0mNone\u001b[0m \u001b[1;32mand\u001b[0m\u001b[1;33m\u001b[0m\u001b[0m\n\u001b[0;32m    325\u001b[0m             parse_constant is None and object_pairs_hook is None and not kw):\n\u001b[1;32m--> 326\u001b[1;33m         \u001b[1;32mreturn\u001b[0m \u001b[0m_default_decoder\u001b[0m\u001b[1;33m.\u001b[0m\u001b[0mdecode\u001b[0m\u001b[1;33m(\u001b[0m\u001b[0ms\u001b[0m\u001b[1;33m)\u001b[0m\u001b[1;33m\u001b[0m\u001b[0m\n\u001b[0m\u001b[0;32m    327\u001b[0m     \u001b[1;32mif\u001b[0m \u001b[0mcls\u001b[0m \u001b[1;32mis\u001b[0m \u001b[0mNone\u001b[0m\u001b[1;33m:\u001b[0m\u001b[1;33m\u001b[0m\u001b[0m\n\u001b[0;32m    328\u001b[0m         \u001b[0mcls\u001b[0m \u001b[1;33m=\u001b[0m \u001b[0mJSONDecoder\u001b[0m\u001b[1;33m\u001b[0m\u001b[0m\n",
        "\u001b[1;32m/usr/lib/python2.7/json/decoder.pyc\u001b[0m in \u001b[0;36mdecode\u001b[1;34m(self, s, _w)\u001b[0m\n\u001b[0;32m    363\u001b[0m \u001b[1;33m\u001b[0m\u001b[0m\n\u001b[0;32m    364\u001b[0m         \"\"\"\n\u001b[1;32m--> 365\u001b[1;33m         \u001b[0mobj\u001b[0m\u001b[1;33m,\u001b[0m \u001b[0mend\u001b[0m \u001b[1;33m=\u001b[0m \u001b[0mself\u001b[0m\u001b[1;33m.\u001b[0m\u001b[0mraw_decode\u001b[0m\u001b[1;33m(\u001b[0m\u001b[0ms\u001b[0m\u001b[1;33m,\u001b[0m \u001b[0midx\u001b[0m\u001b[1;33m=\u001b[0m\u001b[0m_w\u001b[0m\u001b[1;33m(\u001b[0m\u001b[0ms\u001b[0m\u001b[1;33m,\u001b[0m \u001b[1;36m0\u001b[0m\u001b[1;33m)\u001b[0m\u001b[1;33m.\u001b[0m\u001b[0mend\u001b[0m\u001b[1;33m(\u001b[0m\u001b[1;33m)\u001b[0m\u001b[1;33m)\u001b[0m\u001b[1;33m\u001b[0m\u001b[0m\n\u001b[0m\u001b[0;32m    366\u001b[0m         \u001b[0mend\u001b[0m \u001b[1;33m=\u001b[0m \u001b[0m_w\u001b[0m\u001b[1;33m(\u001b[0m\u001b[0ms\u001b[0m\u001b[1;33m,\u001b[0m \u001b[0mend\u001b[0m\u001b[1;33m)\u001b[0m\u001b[1;33m.\u001b[0m\u001b[0mend\u001b[0m\u001b[1;33m(\u001b[0m\u001b[1;33m)\u001b[0m\u001b[1;33m\u001b[0m\u001b[0m\n\u001b[0;32m    367\u001b[0m         \u001b[1;32mif\u001b[0m \u001b[0mend\u001b[0m \u001b[1;33m!=\u001b[0m \u001b[0mlen\u001b[0m\u001b[1;33m(\u001b[0m\u001b[0ms\u001b[0m\u001b[1;33m)\u001b[0m\u001b[1;33m:\u001b[0m\u001b[1;33m\u001b[0m\u001b[0m\n",
        "\u001b[1;31mTypeError\u001b[0m: expected string or buffer"
       ]
      }
     ],
     "prompt_number": 365
    },
    {
     "cell_type": "code",
     "collapsed": false,
     "input": [
      "rcoms = chedict.keys()\n",
      "rvals = chedict.values()\n",
      "imcom = []"
     ],
     "language": "python",
     "metadata": {},
     "outputs": [],
     "prompt_number": 366
    },
    {
     "cell_type": "code",
     "collapsed": false,
     "input": [
      "for rvs in rvals:\n",
      "    print rvs\n",
      "    if '.jpg' or '.png' in rvs:\n",
      "        imcom.append(rvs)\n",
      "        "
     ],
     "language": "python",
     "metadata": {},
     "outputs": [
      {
       "output_type": "stream",
       "stream": "stdout",
       "text": [
        "testing\n"
       ]
      }
     ],
     "prompt_number": 367
    },
    {
     "cell_type": "code",
     "collapsed": false,
     "input": [
      "imcom"
     ],
     "language": "python",
     "metadata": {},
     "outputs": [
      {
       "metadata": {},
       "output_type": "pyout",
       "prompt_number": 368,
       "text": [
        "['testing']"
       ]
      }
     ],
     "prompt_number": 368
    },
    {
     "cell_type": "code",
     "collapsed": false,
     "input": [
      "fuldoc = doc.render()"
     ],
     "language": "python",
     "metadata": {},
     "outputs": [],
     "prompt_number": 369
    },
    {
     "cell_type": "code",
     "collapsed": false,
     "input": [],
     "language": "python",
     "metadata": {},
     "outputs": [],
     "prompt_number": 369
    },
    {
     "cell_type": "code",
     "collapsed": false,
     "input": [
      "doc = dominate.document(title='Dominate your HTML')\n",
      "\n",
      "with doc.head:\n",
      "    link(rel='stylesheet', href='style.css')\n",
      "    script(type='text/javascript', src='script.js')\n",
      "\n",
      "with doc:\n",
      "    with div(id='header').add(ol()):\n",
      "        for imz in imcom:\n",
      "            #print imz\n",
      "            p(imz)\n",
      "\n",
      "    #with div():\n",
      "     #   attr(cls='body')\n",
      "     #   p('Lorem ipsum..')\n",
      "\n",
      "#print doc"
     ],
     "language": "python",
     "metadata": {},
     "outputs": [],
     "prompt_number": 370
    },
    {
     "cell_type": "code",
     "collapsed": false,
     "input": [
      "for docin in doc.head.children:\n",
      "    print docin"
     ],
     "language": "python",
     "metadata": {},
     "outputs": [
      {
       "output_type": "stream",
       "stream": "stdout",
       "text": [
        "<title>Dominate your HTML</title>\n",
        "<link href=\"style.css\" rel=\"stylesheet\">\n",
        "<script src=\"script.js\" type=\"text/javascript\"></script>\n"
       ]
      }
     ],
     "prompt_number": 371
    },
    {
     "cell_type": "code",
     "collapsed": false,
     "input": [
      "for pain in docin.parent.children:\n",
      "    print pain"
     ],
     "language": "python",
     "metadata": {},
     "outputs": [
      {
       "output_type": "stream",
       "stream": "stdout",
       "text": [
        "<title>Dominate your HTML</title>\n",
        "<link href=\"style.css\" rel=\"stylesheet\">\n",
        "<script src=\"script.js\" type=\"text/javascript\"></script>\n"
       ]
      }
     ],
     "prompt_number": 372
    },
    {
     "cell_type": "code",
     "collapsed": false,
     "input": [
      "doc.body.parent.children"
     ],
     "language": "python",
     "metadata": {},
     "outputs": [
      {
       "metadata": {},
       "output_type": "pyout",
       "prompt_number": 373,
       "text": [
        "[<dominate.tags.head at 1bcf970: 0 attributes, 3 children>,\n",
        " <dominate.tags.body at 1bcff50: 0 attributes, 1 child>]"
       ]
      }
     ],
     "prompt_number": 373
    },
    {
     "cell_type": "code",
     "collapsed": false,
     "input": [],
     "language": "python",
     "metadata": {},
     "outputs": [],
     "prompt_number": 373
    },
    {
     "cell_type": "code",
     "collapsed": false,
     "input": [
      "soup = BeautifulSoup(doc)\n",
      "\n",
      "#print(soup.prettify())"
     ],
     "language": "python",
     "metadata": {},
     "outputs": [
      {
       "ename": "TypeError",
       "evalue": "Only integer and string types are valid for accessing child tags and attributes, respectively.",
       "output_type": "pyerr",
       "traceback": [
        "\u001b[1;31m---------------------------------------------------------------------------\u001b[0m\n\u001b[1;31mTypeError\u001b[0m                                 Traceback (most recent call last)",
        "\u001b[1;32m<ipython-input-374-dcac41a0ee2d>\u001b[0m in \u001b[0;36m<module>\u001b[1;34m()\u001b[0m\n\u001b[1;32m----> 1\u001b[1;33m \u001b[0msoup\u001b[0m \u001b[1;33m=\u001b[0m \u001b[0mBeautifulSoup\u001b[0m\u001b[1;33m(\u001b[0m\u001b[0mdoc\u001b[0m\u001b[1;33m)\u001b[0m\u001b[1;33m\u001b[0m\u001b[0m\n\u001b[0m\u001b[0;32m      2\u001b[0m \u001b[1;33m\u001b[0m\u001b[0m\n\u001b[0;32m      3\u001b[0m \u001b[1;31m#print(soup.prettify())\u001b[0m\u001b[1;33m\u001b[0m\u001b[1;33m\u001b[0m\u001b[0m\n",
        "\u001b[1;32m/usr/local/lib/python2.7/dist-packages/bs4/__init__.pyc\u001b[0m in \u001b[0;36m__init__\u001b[1;34m(self, markup, features, builder, parse_only, from_encoding, **kwargs)\u001b[0m\n\u001b[0;32m    181\u001b[0m                 warnings.warn(\n\u001b[0;32m    182\u001b[0m                     '\"%s\" looks like a filename, not markup. You should probably open this file and pass the filehandle into Beautiful Soup.' % markup)\n\u001b[1;32m--> 183\u001b[1;33m             \u001b[1;32mif\u001b[0m \u001b[0mmarkup\u001b[0m\u001b[1;33m[\u001b[0m\u001b[1;33m:\u001b[0m\u001b[1;36m5\u001b[0m\u001b[1;33m]\u001b[0m \u001b[1;33m==\u001b[0m \u001b[1;34m\"http:\"\u001b[0m \u001b[1;32mor\u001b[0m \u001b[0mmarkup\u001b[0m\u001b[1;33m[\u001b[0m\u001b[1;33m:\u001b[0m\u001b[1;36m6\u001b[0m\u001b[1;33m]\u001b[0m \u001b[1;33m==\u001b[0m \u001b[1;34m\"https:\"\u001b[0m\u001b[1;33m:\u001b[0m\u001b[1;33m\u001b[0m\u001b[0m\n\u001b[0m\u001b[0;32m    184\u001b[0m                 \u001b[1;31m# TODO: This is ugly but I couldn't get it to work in\u001b[0m\u001b[1;33m\u001b[0m\u001b[1;33m\u001b[0m\u001b[0m\n\u001b[0;32m    185\u001b[0m                 \u001b[1;31m# Python 3 otherwise.\u001b[0m\u001b[1;33m\u001b[0m\u001b[1;33m\u001b[0m\u001b[0m\n",
        "\u001b[1;32m/usr/local/lib/python2.7/dist-packages/dominate/dom_tag.pyc\u001b[0m in \u001b[0;36m__getitem__\u001b[1;34m(self, key)\u001b[0m\n\u001b[0;32m    266\u001b[0m         \u001b[1;32mraise\u001b[0m \u001b[0mAttributeError\u001b[0m\u001b[1;33m(\u001b[0m\u001b[1;34m'Attribute \"%s\" does not exist.'\u001b[0m \u001b[1;33m%\u001b[0m \u001b[0mkey\u001b[0m\u001b[1;33m)\u001b[0m\u001b[1;33m\u001b[0m\u001b[0m\n\u001b[0;32m    267\u001b[0m     \u001b[1;32melse\u001b[0m\u001b[1;33m:\u001b[0m\u001b[1;33m\u001b[0m\u001b[0m\n\u001b[1;32m--> 268\u001b[1;33m       raise TypeError('Only integer and string types are valid for accessing '\n\u001b[0m\u001b[0;32m    269\u001b[0m           'child tags and attributes, respectively.')\n\u001b[0;32m    270\u001b[0m   \u001b[0m__getattr__\u001b[0m \u001b[1;33m=\u001b[0m \u001b[0m__getitem__\u001b[0m\u001b[1;33m\u001b[0m\u001b[0m\n",
        "\u001b[1;31mTypeError\u001b[0m: Only integer and string types are valid for accessing child tags and attributes, respectively."
       ]
      }
     ],
     "prompt_number": 374
    },
    {
     "cell_type": "code",
     "collapsed": false,
     "input": [
      "extractlinks()"
     ],
     "language": "python",
     "metadata": {},
     "outputs": [
      {
       "ename": "TypeError",
       "evalue": "extractlinks() takes exactly 1 argument (0 given)",
       "output_type": "pyerr",
       "traceback": [
        "\u001b[1;31m---------------------------------------------------------------------------\u001b[0m\n\u001b[1;31mTypeError\u001b[0m                                 Traceback (most recent call last)",
        "\u001b[1;32m<ipython-input-375-223c42c7e2cf>\u001b[0m in \u001b[0;36m<module>\u001b[1;34m()\u001b[0m\n\u001b[1;32m----> 1\u001b[1;33m \u001b[0mextractlinks\u001b[0m\u001b[1;33m(\u001b[0m\u001b[1;33m)\u001b[0m\u001b[1;33m\u001b[0m\u001b[0m\n\u001b[0m",
        "\u001b[1;31mTypeError\u001b[0m: extractlinks() takes exactly 1 argument (0 given)"
       ]
      }
     ],
     "prompt_number": 375
    },
    {
     "cell_type": "code",
     "collapsed": false,
     "input": [
      "for imc in imcom:\n",
      "    print imc"
     ],
     "language": "python",
     "metadata": {},
     "outputs": []
    },
    {
     "cell_type": "code",
     "collapsed": false,
     "input": [
      "doc.body"
     ],
     "language": "python",
     "metadata": {},
     "outputs": [
      {
       "metadata": {},
       "output_type": "pyout",
       "prompt_number": 376,
       "text": [
        "<dominate.tags.body at 1bcff50: 0 attributes, 1 child>"
       ]
      }
     ],
     "prompt_number": 376
    },
    {
     "cell_type": "code",
     "collapsed": false,
     "input": [],
     "language": "python",
     "metadata": {},
     "outputs": [],
     "prompt_number": 376
    },
    {
     "cell_type": "code",
     "collapsed": false,
     "input": [
      "doc.render()"
     ],
     "language": "python",
     "metadata": {},
     "outputs": [
      {
       "metadata": {},
       "output_type": "pyout",
       "prompt_number": 377,
       "text": [
        "u'<!DOCTYPE html>\\n<html>\\n  <head>\\n    <title>Dominate your HTML</title>\\n    <link href=\"style.css\" rel=\"stylesheet\"><script src=\"script.js\" type=\"text/javascript\"></script></head>\\n  <body>\\n    <div id=\"header\">\\n      <ol>\\n        <p>testing</p>\\n      </ol>\\n    </div>\\n  </body>\\n</html>'"
       ]
      }
     ],
     "prompt_number": 377
    },
    {
     "cell_type": "code",
     "collapsed": false,
     "input": [
      "for dicaz in doc.children:\n",
      "    print dicaz"
     ],
     "language": "python",
     "metadata": {},
     "outputs": [
      {
       "output_type": "stream",
       "stream": "stdout",
       "text": [
        "<head>\n",
        "  <title>Dominate your HTML</title>\n",
        "  <link href=\"style.css\" rel=\"stylesheet\"><script src=\"script.js\" type=\"text/javascript\"></script></head>\n",
        "<body>\n",
        "  <div id=\"header\">\n",
        "    <ol>\n",
        "      <p>testing</p>\n",
        "    </ol>\n",
        "  </div>\n",
        "</body>\n"
       ]
      }
     ],
     "prompt_number": 378
    },
    {
     "cell_type": "code",
     "collapsed": false,
     "input": [],
     "language": "python",
     "metadata": {},
     "outputs": [],
     "prompt_number": 378
    },
    {
     "cell_type": "code",
     "collapsed": false,
     "input": [
      "for imz in imcom:\n",
      "    \n",
      "    print imz"
     ],
     "language": "python",
     "metadata": {},
     "outputs": [
      {
       "output_type": "stream",
       "stream": "stdout",
       "text": [
        "testing\n"
       ]
      }
     ],
     "prompt_number": 379
    },
    {
     "cell_type": "code",
     "collapsed": false,
     "input": [
      "for rez in rcoms:\n",
      "    print rez\n",
      "    "
     ],
     "language": "python",
     "metadata": {},
     "outputs": [
      {
       "output_type": "stream",
       "stream": "stdout",
       "text": [
        "blah\n"
       ]
      }
     ],
     "prompt_number": 380
    },
    {
     "cell_type": "code",
     "collapsed": false,
     "input": [],
     "language": "python",
     "metadata": {},
     "outputs": [],
     "prompt_number": 380
    },
    {
     "cell_type": "code",
     "collapsed": false,
     "input": [
      "for rgt in rgdef.values():\n",
      "    if '.jpg' in rgt:\n",
      "        print rgt"
     ],
     "language": "python",
     "metadata": {},
     "outputs": [
      {
       "output_type": "stream",
       "stream": "stdout",
       "text": [
        "http://i.imgur.com/4u0XE1O.jpg\n",
        "http://i.imgur.com/8zeG2Tj.jpg\n",
        "http://i.imgur.com/cHTAFuC.jpg\n",
        "http://i.imgur.com/3EBj4HG.jpg\n",
        "http://i.imgur.com/7ELKm4R.jpg\n",
        "http://i.imgur.com/1ScQMsx.jpg\n",
        "http://i.imgur.com/GfR0c7c.jpg\n",
        "http://i.imgur.com/hNTjeP0.jpg\n"
       ]
      }
     ],
     "prompt_number": 381
    },
    {
     "cell_type": "code",
     "collapsed": false,
     "input": [
      "import dominate\n",
      "from dominate.tags import *\n",
      "\n",
      "doc = dominate.document(title='RedditGetsDrawn Recent Reference')\n",
      "\n",
      "with doc.head:\n",
      "    link(rel='stylesheet', href='style.css')\n",
      "    script(type='text/javascript', src='script.js')\n",
      "    \n",
      "    with div():\n",
      "        attr(cls='header')\n",
      "        h1('RedditGetsDrawn Recent Reference')\n",
      "        p('updated ', strftime(\"%a, %d %b %Y %H:%M:%S +0000\", gmtime()))\n",
      "\n",
      "    \n",
      "    \n",
      "\n",
      "with doc:\n",
      "    with div(id='body').add(ol()):\n",
      "        for rdz in rdnew:\n",
      "            h1(rdz.title)\n",
      "            a(rdz.url)\n",
      "            if '.jpg' or '.png' in rdz.url:\n",
      "                print rdz.url\n",
      "                p(img(rdz.url, src='%s' % rdz.url))\n",
      "            #print rdz.url\n",
      "            #if '.jpg' in rdz.url:\n",
      "            #    img(rdz.urlz)\n",
      "            #else:\n",
      "            #    a(rdz.urlz)\n",
      "            p(str(rdz.author))\n",
      "            \n",
      "            #li(img(i.lower(), src='%s' % i))\n",
      "\n",
      "    with div():\n",
      "        attr(cls='body')\n",
      "        p('RGDRecentReference is open source')\n",
      "        a('http://github.com/wcmckee/wcmckee')\n",
      "\n",
      "#print doc"
     ],
     "language": "python",
     "metadata": {},
     "outputs": [
      {
       "output_type": "stream",
       "stream": "stdout",
       "text": [
        "http://imgur.com/hZUokhS\n",
        "http://imgur.com/ErjMwpg\n",
        "http://imgur.com/qox5fLY\n",
        "http://imgur.com/BFjG9nQ\n",
        "http://i.imgur.com/8zeG2Tj.jpg\n",
        "http://imgur.com/Hez71b9,d1FCSQ2\n",
        "http://imgur.com/26Nt9GS\n",
        "http://i.imgur.com/4u0XE1O.jpg\n",
        "http://imgur.com/wx9kLWd\n",
        "http://imgur.com/a2pk2sm"
       ]
      },
      {
       "output_type": "stream",
       "stream": "stdout",
       "text": [
        "\n",
        "http://i.imgur.com/AyqJerZ.png\n",
        "http://i.imgur.com/hNTjeP0.jpg\n",
        "http://imgur.com/ewQhvTe\n",
        "http://imgur.com/7pMgFV3&amp;qVr7XGY\n",
        "http://i.imgur.com/cHTAFuC.jpg\n",
        "http://i.imgur.com/wDqfqPG.png\n",
        "http://imgur.com/pxfRyT9\n",
        "http://imgur.com/mnwYm9l\n",
        "http://imgur.com/ItnTqVO\n",
        "http://imgur.com/nrfT2oy"
       ]
      },
      {
       "output_type": "stream",
       "stream": "stdout",
       "text": [
        "\n",
        "http://i.imgur.com/3EBj4HG.jpg\n",
        "http://i.imgur.com/7ELKm4R.jpg\n",
        "http://i.imgur.com/GfR0c7c.jpg\n",
        "http://i.imgur.com/1ScQMsx.jpg\n",
        "http://imgur.com/U0WgBSO\n"
       ]
      }
     ],
     "prompt_number": 382
    },
    {
     "cell_type": "code",
     "collapsed": false,
     "input": [
      "rgdir = ('/home/wcmckee/rgdrecentReference/')"
     ],
     "language": "python",
     "metadata": {},
     "outputs": [],
     "prompt_number": 383
    },
    {
     "cell_type": "code",
     "collapsed": false,
     "input": [
      "os.chdir(rgdir)"
     ],
     "language": "python",
     "metadata": {},
     "outputs": [],
     "prompt_number": 384
    },
    {
     "cell_type": "code",
     "collapsed": false,
     "input": [
      "#mkindex = open('index.html', 'w')\n",
      "#mkindex.write(str(doc))\n",
      "#mkindex.close()"
     ],
     "language": "python",
     "metadata": {},
     "outputs": [],
     "prompt_number": 385
    },
    {
     "cell_type": "code",
     "collapsed": false,
     "input": [
      "#print str(doc)"
     ],
     "language": "python",
     "metadata": {},
     "outputs": [],
     "prompt_number": 386
    },
    {
     "cell_type": "code",
     "collapsed": false,
     "input": [
      "print strftime(\"%a, %d %b %Y %H:%M:%S +0000\")"
     ],
     "language": "python",
     "metadata": {},
     "outputs": [
      {
       "output_type": "stream",
       "stream": "stdout",
       "text": [
        "Sun, 30 Nov 2014 09:33:49 +0000\n"
       ]
      }
     ],
     "prompt_number": 387
    },
    {
     "cell_type": "code",
     "collapsed": false,
     "input": [
      "savedate = strftime(\"%d\" + \"-\" + \"%m\" + \"-\" + \"%Y\" + \"-\" + \"%H\")"
     ],
     "language": "python",
     "metadata": {},
     "outputs": [],
     "prompt_number": 388
    },
    {
     "cell_type": "code",
     "collapsed": false,
     "input": [
      "def timeret():\n",
      "    return strftime(\"%d\" + \"-\" + \"%m\" + \"-\" + \"%Y\" + \"-\" + \"%H\")\n",
      "\n",
      "def givmd():\n",
      "    return str(savedate + '.md')\n",
      "\n",
      "def givdic():\n",
      "    return rgdir.replace('/', '-')"
     ],
     "language": "python",
     "metadata": {},
     "outputs": [],
     "prompt_number": 389
    },
    {
     "cell_type": "code",
     "collapsed": false,
     "input": [
      "givdic()"
     ],
     "language": "python",
     "metadata": {},
     "outputs": [
      {
       "metadata": {},
       "output_type": "pyout",
       "prompt_number": 390,
       "text": [
        "'-home-wcmckee-rgdrecentReference-'"
       ]
      }
     ],
     "prompt_number": 390
    },
    {
     "cell_type": "raw",
     "metadata": {},
     "source": [
      "timeret()"
     ]
    },
    {
     "cell_type": "code",
     "collapsed": false,
     "input": [
      "givmd()"
     ],
     "language": "python",
     "metadata": {},
     "outputs": [
      {
       "metadata": {},
       "output_type": "pyout",
       "prompt_number": 391,
       "text": [
        "'30-11-2014-09.md'"
       ]
      }
     ],
     "prompt_number": 391
    },
    {
     "cell_type": "code",
     "collapsed": false,
     "input": [
      "savedate"
     ],
     "language": "python",
     "metadata": {},
     "outputs": [
      {
       "metadata": {},
       "output_type": "pyout",
       "prompt_number": 392,
       "text": [
        "'30-11-2014-09'"
       ]
      }
     ],
     "prompt_number": 392
    },
    {
     "cell_type": "code",
     "collapsed": false,
     "input": [
      "deepone = str(savedate + '.md')"
     ],
     "language": "python",
     "metadata": {},
     "outputs": [],
     "prompt_number": 393
    },
    {
     "cell_type": "code",
     "collapsed": false,
     "input": [
      "deepone"
     ],
     "language": "python",
     "metadata": {},
     "outputs": [
      {
       "metadata": {},
       "output_type": "pyout",
       "prompt_number": 394,
       "text": [
        "'30-11-2014-09.md'"
       ]
      }
     ],
     "prompt_number": 394
    },
    {
     "cell_type": "code",
     "collapsed": false,
     "input": [
      "#os.chdir('/home/wcmckee/brobeur-blog-post/')"
     ],
     "language": "python",
     "metadata": {},
     "outputs": [],
     "prompt_number": 395
    },
    {
     "cell_type": "code",
     "collapsed": false,
     "input": [
      "#brobeind = open('\u00edndex.html', 'r')"
     ],
     "language": "python",
     "metadata": {},
     "outputs": [],
     "prompt_number": 396
    },
    {
     "cell_type": "code",
     "collapsed": false,
     "input": [
      "#brotest = open('\u00edndex.html', 'r')\n",
      "#brotest.read()"
     ],
     "language": "python",
     "metadata": {},
     "outputs": [],
     "prompt_number": 397
    },
    {
     "cell_type": "code",
     "collapsed": false,
     "input": [
      "redposts = ('/home/wcmckee/rgdrecentReference/posts')"
     ],
     "language": "python",
     "metadata": {},
     "outputs": [],
     "prompt_number": 398
    },
    {
     "cell_type": "code",
     "collapsed": false,
     "input": [
      "os.chdir(redposts)"
     ],
     "language": "python",
     "metadata": {},
     "outputs": [],
     "prompt_number": 399
    },
    {
     "cell_type": "code",
     "collapsed": false,
     "input": [
      "time.asctime()"
     ],
     "language": "python",
     "metadata": {},
     "outputs": [
      {
       "metadata": {},
       "output_type": "pyout",
       "prompt_number": 400,
       "text": [
        "'Sun Nov 30 09:34:03 2014'"
       ]
      }
     ],
     "prompt_number": 400
    },
    {
     "cell_type": "code",
     "collapsed": false,
     "input": [
      "savinx = open(str(deepone), 'w')"
     ],
     "language": "python",
     "metadata": {},
     "outputs": [],
     "prompt_number": 401
    },
    {
     "cell_type": "code",
     "collapsed": false,
     "input": [
      "savinx.write(str(rgdef))"
     ],
     "language": "python",
     "metadata": {},
     "outputs": [],
     "prompt_number": 402
    },
    {
     "cell_type": "code",
     "collapsed": false,
     "input": [
      "savinx.close()"
     ],
     "language": "python",
     "metadata": {},
     "outputs": [],
     "prompt_number": 403
    },
    {
     "cell_type": "code",
     "collapsed": false,
     "input": [
      "deepone"
     ],
     "language": "python",
     "metadata": {},
     "outputs": [
      {
       "metadata": {},
       "output_type": "pyout",
       "prompt_number": 404,
       "text": [
        "'30-11-2014-09.md'"
       ]
      }
     ],
     "prompt_number": 404
    },
    {
     "cell_type": "code",
     "collapsed": false,
     "input": [
      "decict"
     ],
     "language": "python",
     "metadata": {},
     "outputs": [
      {
       "metadata": {},
       "output_type": "pyout",
       "prompt_number": 405,
       "text": [
        "{'author': Redditor(user_name='AtomicMothra'),\n",
        " 'body': u\"First time poster... also, sorry for poor photo quality. [Here's my attempt.](http://i.imgur.com/hBoOwvS.jpg)\",\n",
        " 'created': 1417327602.0,\n",
        " 'downs': 0,\n",
        " 'example': 'wcmckee',\n",
        " 'replies': [],\n",
        " 'title': u'They said you might like to see me. My first snow in 3 years!',\n",
        " 'ups': 9,\n",
        " 'url': u'http://imgur.com/U0WgBSO'}"
       ]
      }
     ],
     "prompt_number": 405
    },
    {
     "cell_type": "code",
     "collapsed": false,
     "input": [
      "decict.update({'datehour': givmd()})"
     ],
     "language": "python",
     "metadata": {},
     "outputs": [],
     "prompt_number": 406
    },
    {
     "cell_type": "code",
     "collapsed": false,
     "input": [
      "depan = Series(decict)"
     ],
     "language": "python",
     "metadata": {},
     "outputs": [],
     "prompt_number": 407
    },
    {
     "cell_type": "code",
     "collapsed": false,
     "input": [
      "fepan = Series(fddict)"
     ],
     "language": "python",
     "metadata": {},
     "outputs": [],
     "prompt_number": 408
    },
    {
     "cell_type": "code",
     "collapsed": false,
     "input": [
      "mepan = (fepan)+(depan)"
     ],
     "language": "python",
     "metadata": {},
     "outputs": [],
     "prompt_number": 409
    },
    {
     "cell_type": "code",
     "collapsed": false,
     "input": [
      "depan"
     ],
     "language": "python",
     "metadata": {},
     "outputs": [
      {
       "metadata": {},
       "output_type": "pyout",
       "prompt_number": 410,
       "text": [
        "author                                           AtomicMothra\n",
        "body        First time poster... also, sorry for poor photo q\n",
        "created                                          1.417328e+09\n",
        "datehour                                     30-11-2014-09.md\n",
        "downs                                                       0\n",
        "example                                               wcmckee\n",
        "replies                                                    []\n",
        "title       They said you might like to see me. My first snow\n",
        "ups                                                         9\n",
        "url                                  http://imgur.com/U0WgBSO"
       ]
      }
     ],
     "prompt_number": 410
    },
    {
     "cell_type": "code",
     "collapsed": false,
     "input": [
      "feram = pd.DataFrame(fepan)"
     ],
     "language": "python",
     "metadata": {},
     "outputs": [],
     "prompt_number": 411
    },
    {
     "cell_type": "code",
     "collapsed": false,
     "input": [
      "fepan"
     ],
     "language": "python",
     "metadata": {},
     "outputs": [
      {
       "metadata": {},
       "output_type": "pyout",
       "prompt_number": 412,
       "text": [
        "comauthor                                         AtomicMothra\n",
        "combody      First time poster... also, sorry for poor photo q\n",
        "comdown                                                      0\n",
        "comup                                                        1\n",
        "testblah                                              testblah"
       ]
      }
     ],
     "prompt_number": 412
    },
    {
     "cell_type": "code",
     "collapsed": false,
     "input": [
      "feram"
     ],
     "language": "python",
     "metadata": {},
     "outputs": [
      {
       "html": [
        "<div style=\"max-height:1000px;max-width:1500px;overflow:auto;\">\n",
        "<table border=\"1\">\n",
        "  <thead>\n",
        "    <tr>\n",
        "      <th></th>\n",
        "      <th>0</th>\n",
        "    </tr>\n",
        "  </thead>\n",
        "  <tbody>\n",
        "    <tr>\n",
        "      <td><strong>comauthor</strong></td>\n",
        "      <td>                                      AtomicMothra</td>\n",
        "    </tr>\n",
        "    <tr>\n",
        "      <td><strong>combody</strong></td>\n",
        "      <td> First time poster... also, sorry for poor photo q</td>\n",
        "    </tr>\n",
        "    <tr>\n",
        "      <td><strong>comdown</strong></td>\n",
        "      <td>                                                 0</td>\n",
        "    </tr>\n",
        "    <tr>\n",
        "      <td><strong>comup</strong></td>\n",
        "      <td>                                                 1</td>\n",
        "    </tr>\n",
        "    <tr>\n",
        "      <td><strong>testblah</strong></td>\n",
        "      <td>                                          testblah</td>\n",
        "    </tr>\n",
        "  </tbody>\n",
        "</table>\n",
        "</div>"
       ],
       "metadata": {},
       "output_type": "pyout",
       "prompt_number": 413,
       "text": [
        "                                                           0\n",
        "comauthor                                       AtomicMothra\n",
        "combody    First time poster... also, sorry for poor photo q\n",
        "comdown                                                    0\n",
        "comup                                                      1\n",
        "testblah                                            testblah"
       ]
      }
     ],
     "prompt_number": 413
    },
    {
     "cell_type": "code",
     "collapsed": false,
     "input": [
      "mepan"
     ],
     "language": "python",
     "metadata": {},
     "outputs": [
      {
       "metadata": {},
       "output_type": "pyout",
       "prompt_number": 414,
       "text": [
        "author       NaN\n",
        "body         NaN\n",
        "comauthor    NaN\n",
        "combody      NaN\n",
        "comdown      NaN\n",
        "comup        NaN\n",
        "created      NaN\n",
        "datehour     NaN\n",
        "downs        NaN\n",
        "example      NaN\n",
        "replies      NaN\n",
        "testblah     NaN\n",
        "title        NaN\n",
        "ups          NaN\n",
        "url          NaN"
       ]
      }
     ],
     "prompt_number": 414
    },
    {
     "cell_type": "code",
     "collapsed": false,
     "input": [
      "defed = DataFrame(depan)"
     ],
     "language": "python",
     "metadata": {},
     "outputs": [],
     "prompt_number": 415
    },
    {
     "cell_type": "code",
     "collapsed": false,
     "input": [
      "defed.append(fepan)"
     ],
     "language": "python",
     "metadata": {},
     "outputs": [
      {
       "ename": "Exception",
       "evalue": "Can only append a Series if ignore_index=True",
       "output_type": "pyerr",
       "traceback": [
        "\u001b[1;31m---------------------------------------------------------------------------\u001b[0m\n\u001b[1;31mException\u001b[0m                                 Traceback (most recent call last)",
        "\u001b[1;32m<ipython-input-416-7d382e4b871a>\u001b[0m in \u001b[0;36m<module>\u001b[1;34m()\u001b[0m\n\u001b[1;32m----> 1\u001b[1;33m \u001b[0mdefed\u001b[0m\u001b[1;33m.\u001b[0m\u001b[0mappend\u001b[0m\u001b[1;33m(\u001b[0m\u001b[0mfepan\u001b[0m\u001b[1;33m)\u001b[0m\u001b[1;33m\u001b[0m\u001b[0m\n\u001b[0m",
        "\u001b[1;32m/usr/lib/pymodules/python2.7/pandas/core/frame.pyc\u001b[0m in \u001b[0;36mappend\u001b[1;34m(self, other, ignore_index, verify_integrity)\u001b[0m\n\u001b[0;32m   3692\u001b[0m                 \u001b[0mother\u001b[0m \u001b[1;33m=\u001b[0m \u001b[0mSeries\u001b[0m\u001b[1;33m(\u001b[0m\u001b[0mother\u001b[0m\u001b[1;33m)\u001b[0m\u001b[1;33m\u001b[0m\u001b[0m\n\u001b[0;32m   3693\u001b[0m             \u001b[1;32mif\u001b[0m \u001b[0mother\u001b[0m\u001b[1;33m.\u001b[0m\u001b[0mname\u001b[0m \u001b[1;32mis\u001b[0m \u001b[0mNone\u001b[0m \u001b[1;32mand\u001b[0m \u001b[1;32mnot\u001b[0m \u001b[0mignore_index\u001b[0m\u001b[1;33m:\u001b[0m\u001b[1;33m\u001b[0m\u001b[0m\n\u001b[1;32m-> 3694\u001b[1;33m                 raise Exception('Can only append a Series if '\n\u001b[0m\u001b[0;32m   3695\u001b[0m                                 'ignore_index=True')\n\u001b[0;32m   3696\u001b[0m \u001b[1;33m\u001b[0m\u001b[0m\n",
        "\u001b[1;31mException\u001b[0m: Can only append a Series if ignore_index=True"
       ]
      }
     ],
     "prompt_number": 416
    },
    {
     "cell_type": "code",
     "collapsed": false,
     "input": [
      "depan"
     ],
     "language": "python",
     "metadata": {},
     "outputs": []
    },
    {
     "cell_type": "code",
     "collapsed": false,
     "input": [
      "fepan"
     ],
     "language": "python",
     "metadata": {},
     "outputs": [
      {
       "metadata": {},
       "output_type": "pyout",
       "prompt_number": 417,
       "text": [
        "comauthor                                         AtomicMothra\n",
        "combody      First time poster... also, sorry for poor photo q\n",
        "comdown                                                      0\n",
        "comup                                                        1\n",
        "testblah                                              testblah"
       ]
      }
     ],
     "prompt_number": 417
    },
    {
     "cell_type": "code",
     "collapsed": false,
     "input": [
      "mergz = depan.append(fepan)"
     ],
     "language": "python",
     "metadata": {},
     "outputs": [],
     "prompt_number": 418
    },
    {
     "cell_type": "code",
     "collapsed": false,
     "input": [
      "mergz"
     ],
     "language": "python",
     "metadata": {},
     "outputs": [
      {
       "metadata": {},
       "output_type": "pyout",
       "prompt_number": 419,
       "text": [
        "author                                            AtomicMothra\n",
        "body         First time poster... also, sorry for poor photo q\n",
        "created                                           1.417328e+09\n",
        "datehour                                      30-11-2014-09.md\n",
        "downs                                                        0\n",
        "example                                                wcmckee\n",
        "replies                                                     []\n",
        "title        They said you might like to see me. My first snow\n",
        "ups                                                          9\n",
        "url                                   http://imgur.com/U0WgBSO\n",
        "comauthor                                         AtomicMothra\n",
        "combody      First time poster... also, sorry for poor photo q\n",
        "comdown                                                      0\n",
        "comup                                                        1\n",
        "testblah                                              testblah"
       ]
      }
     ],
     "prompt_number": 419
    },
    {
     "cell_type": "code",
     "collapsed": false,
     "input": [],
     "language": "python",
     "metadata": {},
     "outputs": [],
     "prompt_number": 419
    },
    {
     "cell_type": "code",
     "collapsed": false,
     "input": [
      "defed"
     ],
     "language": "python",
     "metadata": {},
     "outputs": [
      {
       "html": [
        "<div style=\"max-height:1000px;max-width:1500px;overflow:auto;\">\n",
        "<table border=\"1\">\n",
        "  <thead>\n",
        "    <tr>\n",
        "      <th></th>\n",
        "      <th>0</th>\n",
        "    </tr>\n",
        "  </thead>\n",
        "  <tbody>\n",
        "    <tr>\n",
        "      <td><strong>author</strong></td>\n",
        "      <td>                                      AtomicMothra</td>\n",
        "    </tr>\n",
        "    <tr>\n",
        "      <td><strong>body</strong></td>\n",
        "      <td> First time poster... also, sorry for poor photo q</td>\n",
        "    </tr>\n",
        "    <tr>\n",
        "      <td><strong>created</strong></td>\n",
        "      <td>                                      1.417328e+09</td>\n",
        "    </tr>\n",
        "    <tr>\n",
        "      <td><strong>datehour</strong></td>\n",
        "      <td>                                  30-11-2014-09.md</td>\n",
        "    </tr>\n",
        "    <tr>\n",
        "      <td><strong>downs</strong></td>\n",
        "      <td>                                                 0</td>\n",
        "    </tr>\n",
        "    <tr>\n",
        "      <td><strong>example</strong></td>\n",
        "      <td>                                           wcmckee</td>\n",
        "    </tr>\n",
        "    <tr>\n",
        "      <td><strong>replies</strong></td>\n",
        "      <td>                                                []</td>\n",
        "    </tr>\n",
        "    <tr>\n",
        "      <td><strong>title</strong></td>\n",
        "      <td> They said you might like to see me. My first snow</td>\n",
        "    </tr>\n",
        "    <tr>\n",
        "      <td><strong>ups</strong></td>\n",
        "      <td>                                                 9</td>\n",
        "    </tr>\n",
        "    <tr>\n",
        "      <td><strong>url</strong></td>\n",
        "      <td>                          http://imgur.com/U0WgBSO</td>\n",
        "    </tr>\n",
        "  </tbody>\n",
        "</table>\n",
        "</div>"
       ],
       "metadata": {},
       "output_type": "pyout",
       "prompt_number": 420,
       "text": [
        "                                                          0\n",
        "author                                         AtomicMothra\n",
        "body      First time poster... also, sorry for poor photo q\n",
        "created                                        1.417328e+09\n",
        "datehour                                   30-11-2014-09.md\n",
        "downs                                                     0\n",
        "example                                             wcmckee\n",
        "replies                                                  []\n",
        "title     They said you might like to see me. My first snow\n",
        "ups                                                       9\n",
        "url                                http://imgur.com/U0WgBSO"
       ]
      }
     ],
     "prompt_number": 420
    },
    {
     "cell_type": "code",
     "collapsed": false,
     "input": [
      "defhtml = mergz.to_html()"
     ],
     "language": "python",
     "metadata": {},
     "outputs": [
      {
       "ename": "AttributeError",
       "evalue": "'Series' object has no attribute 'to_html'",
       "output_type": "pyerr",
       "traceback": [
        "\u001b[1;31m---------------------------------------------------------------------------\u001b[0m\n\u001b[1;31mAttributeError\u001b[0m                            Traceback (most recent call last)",
        "\u001b[1;32m<ipython-input-424-f843e54efbef>\u001b[0m in \u001b[0;36m<module>\u001b[1;34m()\u001b[0m\n\u001b[1;32m----> 1\u001b[1;33m \u001b[0mdefhtml\u001b[0m \u001b[1;33m=\u001b[0m \u001b[0mmergz\u001b[0m\u001b[1;33m.\u001b[0m\u001b[0mto_html\u001b[0m\u001b[1;33m(\u001b[0m\u001b[1;33m)\u001b[0m\u001b[1;33m\u001b[0m\u001b[0m\n\u001b[0m",
        "\u001b[1;31mAttributeError\u001b[0m: 'Series' object has no attribute 'to_html'"
       ]
      }
     ],
     "prompt_number": 424
    },
    {
     "cell_type": "code",
     "collapsed": false,
     "input": [
      "wrhtm = open('index.html', 'w')\n",
      "wrhtm.write(defhtml)\n",
      "wrhtm.close()"
     ],
     "language": "python",
     "metadata": {},
     "outputs": [],
     "prompt_number": 425
    },
    {
     "cell_type": "code",
     "collapsed": false,
     "input": [
      "cat index.html"
     ],
     "language": "python",
     "metadata": {},
     "outputs": [
      {
       "output_type": "stream",
       "stream": "stdout",
       "text": [
        "<table border=\"1\">\r\n",
        "  <thead>\r\n",
        "    <tr>\r\n",
        "      <th></th>\r\n",
        "      <th>0</th>\r\n",
        "    </tr>\r\n",
        "  </thead>\r\n",
        "  <tbody>\r\n",
        "    <tr>\r\n",
        "      <td><strong>author</strong></td>\r\n",
        "      <td>                                         heyryaaan</td>\r\n",
        "    </tr>\r\n",
        "    <tr>\r\n",
        "      <td><strong>body</strong></td>\r\n",
        "      <td> Banned. \r\n",
        "\r\n",
        "http://www.reddit.com/r/redditgetsdrawn</td>\r\n",
        "    </tr>\r\n",
        "    <tr>\r\n",
        "      <td><strong>created</strong></td>\r\n",
        "      <td>                                      1.417245e+09</td>\r\n",
        "    </tr>\r\n",
        "    <tr>\r\n",
        "      <td><strong>datehour</strong></td>\r\n",
        "      <td>                                  29-11-2014-10.md</td>\r\n",
        "    </tr>\r\n",
        "    <tr>\r\n",
        "      <td><strong>downs</strong></td>\r\n",
        "      <td>                                                 0</td>\r\n",
        "    </tr>\r\n",
        "    <tr>\r\n",
        "      <td><strong>example</strong></td>\r\n",
        "      <td>                                           wcmckee</td>\r\n",
        "    </tr>\r\n",
        "    <tr>\r\n",
        "      <td><strong>replies</strong></td>\r\n",
        "      <td>                                                []</td>\r\n",
        "    </tr>\r\n",
        "    <tr>\r\n",
        "      <td><strong>title</strong></td>\r\n",
        "      <td> Anyone want to draw my beautiful nieces for a Chr</td>\r\n",
        "    </tr>\r\n",
        "    <tr>\r\n",
        "      <td><strong>ups</strong></td>\r\n",
        "      <td>                                                 2</td>\r\n",
        "    </tr>\r\n",
        "    <tr>\r\n",
        "      <td><strong>url</strong></td>\r\n",
        "      <td>                    http://i.imgur.com/OZ96VbQ.jpg</td>\r\n",
        "    </tr>\r\n",
        "  </tbody>\r\n",
        "</table>"
       ]
      }
     ],
     "prompt_number": 426
    },
    {
     "cell_type": "code",
     "collapsed": false,
     "input": [],
     "language": "python",
     "metadata": {},
     "outputs": [],
     "prompt_number": 423
    },
    {
     "cell_type": "code",
     "collapsed": false,
     "input": [],
     "language": "python",
     "metadata": {},
     "outputs": [],
     "prompt_number": 423
    },
    {
     "cell_type": "code",
     "collapsed": false,
     "input": [],
     "language": "python",
     "metadata": {},
     "outputs": []
    }
   ],
   "metadata": {}
  }
 ]
}