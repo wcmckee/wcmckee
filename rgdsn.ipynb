{
 "metadata": {
  "name": "",
  "signature": "sha256:6029c01a28567458ef2078738a30402904a0294c099dea7429fc57800d359313"
 },
 "nbformat": 3,
 "nbformat_minor": 0,
 "worksheets": [
  {
   "cells": [
    {
     "cell_type": "markdown",
     "metadata": {},
     "source": [
      "<h1>Reddit Gets Drawn Snatch Script</h1>\n",
      "\n",
      "Creates the website redditgetsdrawnrecentreference. It contains the 25 most recent posts on r/redditgetsdrawn. title, image url, and username\n",
      "\n",
      "TODO:\n",
      "Contains artwork replies to each thread\n",
      "\n",
      "This is a Python script that takes data from reddit and posts it to another subreddit. It also creates a html file with the images embed into. The images are the most recent 25 on r/redditgetsdrawn."
     ]
    },
    {
     "cell_type": "markdown",
     "metadata": {},
     "source": [
      "RedditGetsDrawn Snatch\n",
      " \n",
      "This is a Python script that takes data from reddit and posts it to another subreddit. It also creates a html file with the images embed into. The images are the most recent 25 on r/redditgetsdrawn.\n",
      " \n",
      "\n",
      "<markdowncell>\n",
      "\n",
      "TODO\n",
      " \n",
      "submit art to users via website\n",
      " \n",
      "fix image sizes (need to scale down to 550px)\n",
      " \n",
      "Save to server rather than imgur\n",
      " \n",
      "Archieve, snapshots of rgd\n",
      " \n",
      "more artcontrol\n",
      " \n",
      "itwillbemine comments to html - currently being saved in contact \n",
      " \n",
      "work on css, div up page, title, side, body, fo\n",
      "\n",
      "update twitter with ONE IMAGE and announce that the list has been updated.\n",
      " \n",
      "write blog post and submits to artcontroldrawsyou/blog \n",
      " \n",
      "gets sticked post on reddit\n",
      " \n",
      "delete about/contact page and have on all same page. can still have link to blog. \n",
      "about \n",
      "contact etc... along the top.\n",
      "other sections\n",
      " \n",
      "post images to blog for archieve - save body to wcmckee.com/blog - md format?\n",
      " \n",
      "nikola install - build site.\n",
      " \n",
      "cronjob to update site ever ?? hours? 4?\n",
      " \n",
      "photos section: latest 25 photos submitted to redditgetsdrawn.\n",
      "art section: latest 25 art submitted to redditgetsdrawn. \n",
      "\n",
      "cleanup code \n",
      "\n",
      "import pandas into it and removed things i dont need like dominate"
     ]
    },
    {
     "cell_type": "code",
     "collapsed": false,
     "input": [
      "import os\n",
      "import random\n",
      "import requests\n",
      "from bs4 import BeautifulSoup\n",
      "import re\n",
      "import json\n",
      "import time\n",
      "import praw\n",
      "import dominate\n",
      "from dominate.tags import *\n",
      "from time import gmtime, strftime\n",
      "import nose\n",
      "import unittest\n",
      "import numpy as np\n",
      "import pandas as pd\n",
      "from pandas import *"
     ],
     "language": "python",
     "metadata": {},
     "outputs": [],
     "prompt_number": 2
    },
    {
     "cell_type": "code",
     "collapsed": false,
     "input": [
      "chdira = ('/home/wcmckee/artcontroldrawsyou')\n",
      "os.chdir(chdira)"
     ],
     "language": "python",
     "metadata": {},
     "outputs": [],
     "prompt_number": 3
    },
    {
     "cell_type": "code",
     "collapsed": false,
     "input": [
      "r = praw.Reddit(user_agent='rgdsnatch')\n",
      "\n",
      "# <codecell>\n",
      "\n",
      "#r.login('artcontrol', 'taylor123vag!')\n",
      "\n",
      "# <codecell>\n",
      "\n",
      "rd = r.get_subreddit('redditgetsdrawn')\n",
      "\n",
      "# <codecell>\n",
      "\n",
      "subz = rd.get_hot().next()\n",
      "istit = (subz.title)\n",
      "istxt = (subz.selftext_html)\n",
      "istick = (subz.stickied)\n",
      "\n",
      "rdnewz = rd.get_new()\n",
      "\n",
      "rdnew = []"
     ],
     "language": "python",
     "metadata": {},
     "outputs": [],
     "prompt_number": 4
    },
    {
     "cell_type": "code",
     "collapsed": false,
     "input": [
      "reddraw = praw.Reddit(user_agent='rgdsnatch')"
     ],
     "language": "python",
     "metadata": {},
     "outputs": [],
     "prompt_number": 5
    },
    {
     "cell_type": "code",
     "collapsed": false,
     "input": [
      "getrddraw = reddraw.get_subreddit('redditgetsdrawn')"
     ],
     "language": "python",
     "metadata": {},
     "outputs": [],
     "prompt_number": 6
    },
    {
     "cell_type": "code",
     "collapsed": false,
     "input": [
      "decict = {'example':'wcmckee'}"
     ],
     "language": "python",
     "metadata": {},
     "outputs": [],
     "prompt_number": 7
    },
    {
     "cell_type": "code",
     "collapsed": false,
     "input": [
      "subz = getrddraw.get_new()"
     ],
     "language": "python",
     "metadata": {},
     "outputs": [],
     "prompt_number": 8
    },
    {
     "cell_type": "code",
     "collapsed": false,
     "input": [
      "class TestRedditFunction(unittest.TestCase):\n",
      "    \n",
      "    def setUp(self):\n",
      "        self.seq = reddraw.get_subreddit('redditgetsdrawn')\n",
      "        \n",
      "    def testredit(self):\n",
      "        drawnew('redditgetsdrawn') "
     ],
     "language": "python",
     "metadata": {},
     "outputs": [],
     "prompt_number": 9
    },
    {
     "cell_type": "code",
     "collapsed": false,
     "input": [
      "def drawnew(subred):\n",
      "    getrdraw = reddraw.get_subreddit(subred)\n",
      "    return getrdraw\n",
      "\n",
      "def apred(deciz):\n",
      "    \n",
      "    return (deciz)"
     ],
     "language": "python",
     "metadata": {},
     "outputs": [],
     "prompt_number": 10
    },
    {
     "cell_type": "code",
     "collapsed": false,
     "input": [
      "apred('omg')"
     ],
     "language": "python",
     "metadata": {},
     "outputs": [
      {
       "metadata": {},
       "output_type": "pyout",
       "prompt_number": 11,
       "text": [
        "'omg'"
       ]
      }
     ],
     "prompt_number": 11
    },
    {
     "cell_type": "code",
     "collapsed": false,
     "input": [
      "rdrws = drawnew('redditgetsdrawn')"
     ],
     "language": "python",
     "metadata": {},
     "outputs": [],
     "prompt_number": 12
    },
    {
     "cell_type": "code",
     "collapsed": false,
     "input": [
      "rtohr = rdrws.get_controversial_from_all()"
     ],
     "language": "python",
     "metadata": {},
     "outputs": [],
     "prompt_number": 13
    },
    {
     "cell_type": "code",
     "collapsed": false,
     "input": [
      "for imgz in rtohr:\n",
      "    #print imgz.selftext\n",
      "    print imgz.num_comments"
     ],
     "language": "python",
     "metadata": {},
     "outputs": [
      {
       "output_type": "stream",
       "stream": "stdout",
       "text": [
        "33\n",
        "26\n",
        "8\n",
        "71\n",
        "53\n",
        "7\n",
        "23\n",
        "61\n",
        "6\n",
        "20\n",
        "59\n",
        "58\n",
        "5\n",
        "14\n",
        "3\n",
        "21\n",
        "7\n",
        "10\n",
        "26\n",
        "56\n",
        "37\n",
        "15\n",
        "2\n",
        "0\n",
        "162\n"
       ]
      }
     ],
     "prompt_number": 14
    },
    {
     "cell_type": "code",
     "collapsed": false,
     "input": [
      "rdnew = []"
     ],
     "language": "python",
     "metadata": {},
     "outputs": [],
     "prompt_number": 15
    },
    {
     "cell_type": "code",
     "collapsed": false,
     "input": [
      "rdnewz = getrddraw.get_new()\n",
      "\n",
      "# <codecell>\n",
      "\n",
      "rdnew = []\n",
      "\n",
      "# <codecell>\n",
      "\n",
      "rdnew\n",
      "\n",
      "# <codecell>\n",
      "\n",
      "for uz in rdnewz:\n",
      "    #print uz\n",
      "    rdnew.append(uz)\n"
     ],
     "language": "python",
     "metadata": {},
     "outputs": [],
     "prompt_number": 97
    },
    {
     "cell_type": "code",
     "collapsed": false,
     "input": [
      "datelis = []\n",
      "refdic = {}\n",
      "rgdef = {'test': 'testvalue'}\n",
      "comdefz = []\n"
     ],
     "language": "python",
     "metadata": {},
     "outputs": [],
     "prompt_number": 98
    },
    {
     "cell_type": "code",
     "collapsed": false,
     "input": [
      "for rdz in rdnew:\n",
      "    print rdz.name\n",
      "    print rdz.title\n",
      "    print rdz.url\n",
      "    print rdz.author\n",
      "    print rdz.secure_media\n",
      "    print rdz.num_comments\n",
      "    print rdz.comments\n",
      "    comdefz.append(rdz.comments)\n",
      "    datelis.append(rdz.title)\n",
      "    datelis.append(rdz.url)\n",
      "    datelis.append(rdz.author)\n",
      "    comdict = {'comtxt':rdz.comments}\n",
      "    rgdef.update({rdz.author: rdz.url})\n",
      "    pandic = DataFrame(rdz.json_dict)\n",
      "    decict.update({'url':rdz.url})\n",
      "    decict.update({'title':rdz.title})\n",
      "    decict.update({'ups': rdz.ups})\n",
      "    decict.update({'downs': rdz.downs})"
     ],
     "language": "python",
     "metadata": {},
     "outputs": [
      {
       "output_type": "stream",
       "stream": "stdout",
       "text": [
        "t3_2nqnxs\n",
        "Draw my adorable girlfriend?\n",
        "http://i.imgur.com/yAADIG8.jpg\n",
        "PokeThePlacebo\n",
        "None\n",
        "0\n",
        "[]\n",
        "t3_2nqqma\n",
        "Please draw me\n",
        "http://i.imgur.com/RfZbp7h.jpg\n",
        "twiggystardust\n",
        "None\n",
        "1\n",
        "[<praw.objects.Comment object at 0x19c06d0>]"
       ]
      },
      {
       "output_type": "stream",
       "stream": "stdout",
       "text": [
        "\n",
        "t3_2nqnr6\n",
        "Recently lost 35 lbs. My favorite pic of myself right now :)\n",
        "http://i.imgur.com/apl9Jxj.jpg\n",
        "newsdaylaura18\n",
        "None\n",
        "0\n",
        "[]"
       ]
      },
      {
       "output_type": "stream",
       "stream": "stdout",
       "text": [
        "\n",
        "t3_2nqnhl\n",
        "Can someone please draw my son while he's making his cute fat face?\n",
        "http://i.imgur.com/gQUt5he.jpg\n",
        "maymer\n",
        "None\n",
        "0\n",
        "[]"
       ]
      },
      {
       "output_type": "stream",
       "stream": "stdout",
       "text": [
        "\n",
        "t3_2nqmo9\n",
        "Would y'all like to draw a picture of me and my awesome dad in the eighties? I think he'd really like to see that.\n",
        "http://imgur.com/a/xcrju\n",
        "Vaughnicorn\n",
        "None\n",
        "0\n",
        "[]"
       ]
      },
      {
       "output_type": "stream",
       "stream": "stdout",
       "text": [
        "\n",
        "t3_2nqkpg\n",
        "Would you guys draw my best friend and me at a haunted house?\n",
        "http://i.imgur.com/kszy3AJ.jpg\n",
        "Nomorisen\n",
        "None\n",
        "0\n",
        "[]"
       ]
      },
      {
       "output_type": "stream",
       "stream": "stdout",
       "text": [
        "\n",
        "t3_2nqjec\n",
        "Thought this would be an interesting picture. RGD will you draw me please?\n",
        "http://imgur.com/bKly5uF\n",
        "CloudlessTwo\n",
        "None\n",
        "0\n",
        "[]"
       ]
      },
      {
       "output_type": "stream",
       "stream": "stdout",
       "text": [
        "\n",
        "t3_2nqk4o\n",
        "An adventure for my kids! They want to take on the world. Could you please send them somewhere exciting?\n",
        "http://imgur.com/ARJuxbl\n",
        "michellefbaker\n",
        "None\n",
        "0\n",
        "[]"
       ]
      },
      {
       "output_type": "stream",
       "stream": "stdout",
       "text": [
        "\n",
        "t3_2nqfz9\n",
        "Can anyone draw my five month old daughter? Her ears crack me up, she looks like a cute gremlin/muppet. Someone once told me that means she'll be wise.\n",
        "http://imgur.com/vnVi94c\n",
        "ExposeTheBeauty\n",
        "None\n",
        "0\n",
        "[]"
       ]
      },
      {
       "output_type": "stream",
       "stream": "stdout",
       "text": [
        "\n",
        "t3_2nqef6\n",
        "My niece has the most amazing hair. I'd love to see what you guys come up with. (Long time admirer, first time poster)\n",
        "http://imgur.com/gjj3h1L\n",
        "daphnejune\n",
        "None\n",
        "1\n",
        "[<praw.objects.Comment object at 0x1aae830>]"
       ]
      },
      {
       "output_type": "stream",
       "stream": "stdout",
       "text": [
        "\n",
        "t3_2nqe37\n",
        "My son. Super loves the camera. Can you draw him?\n",
        "http://i.imgur.com/I8d7zAq.jpg\n",
        "idunnonada\n",
        "None\n",
        "0\n",
        "[]"
       ]
      },
      {
       "output_type": "stream",
       "stream": "stdout",
       "text": [
        "\n",
        "t3_2nqdv8\n",
        "Tomorrow is my girlfriend's birthday, and she would love to get drawn by you guys!\n",
        "http://imgur.com/gallery/HpZp73W/new\n",
        "qqnore\n",
        "None\n",
        "0\n",
        "[]"
       ]
      },
      {
       "output_type": "stream",
       "stream": "stdout",
       "text": [
        "\n",
        "t3_2nqc84\n",
        "Mom got us matching sweaters! Would anyone be interested in drawing us?\n",
        "http://i.imgur.com/WPzVeRp.jpg\n",
        "curves4days\n",
        "None\n",
        "0\n",
        "[]"
       ]
      },
      {
       "output_type": "stream",
       "stream": "stdout",
       "text": [
        "\n",
        "t3_2nq9zh\n",
        "Can someone draw my friend?\n",
        "http://i.imgur.com/X8R8IgZ.jpg\n",
        "pinkcatapult\n",
        "None\n",
        "0\n",
        "[]"
       ]
      },
      {
       "output_type": "stream",
       "stream": "stdout",
       "text": [
        "\n",
        "t3_2nq763\n",
        "Can someone please drawn my husband, children, and I? Thank you :)\n",
        "http://i.imgur.com/0FpXsfw.jpg\n",
        "alishadesanka92\n",
        "None\n",
        "0\n",
        "[<praw.objects.Comment object at 0x1ab6a70>]"
       ]
      },
      {
       "output_type": "stream",
       "stream": "stdout",
       "text": [
        "\n",
        "t3_2nq6vd\n",
        "Please draw my daughter and her curls.\n",
        "http://imgur.com/jhMPoPp\n",
        "Nattyzee3\n",
        "None\n",
        "0\n",
        "[]"
       ]
      },
      {
       "output_type": "stream",
       "stream": "stdout",
       "text": [
        "\n",
        "t3_2npt2m\n",
        "Can someone please draw my family friend? He's really awesome, in in the army, and I'd love to give him something as a birthday gift (multiple photo options).\n",
        "http://imgur.com/a/rwdYD\n",
        "blasejade\n",
        "None\n",
        "0\n",
        "[]"
       ]
      },
      {
       "output_type": "stream",
       "stream": "stdout",
       "text": [
        "\n",
        "t3_2npnkf\n",
        "Could someone draw my son as a dinosaur? He wants a picture of himself as a dinosaur in his mom's birthday card.\n",
        "http://i.imgur.com/fsAT7ty.jpg\n",
        "J3R4N\n",
        "None\n",
        "1\n",
        "[<praw.objects.Comment object at 0x1bff850>]"
       ]
      },
      {
       "output_type": "stream",
       "stream": "stdout",
       "text": [
        "\n",
        "t3_2nq8h8\n",
        "Draw me and/or my spouse?\n",
        "http://imgur.com/a/MEJA1\n",
        "thinmint86\n",
        "None\n",
        "0\n",
        "[]"
       ]
      },
      {
       "output_type": "stream",
       "stream": "stdout",
       "text": [
        "\n",
        "t3_2nq6h7\n",
        "Can someone please draw me and my boyfriend\n",
        "http://i.imgur.com/MOZVY3O.jpg\n",
        "SuziKaye07\n",
        "None\n",
        "0\n",
        "[]"
       ]
      },
      {
       "output_type": "stream",
       "stream": "stdout",
       "text": [
        "\n",
        "t3_2nq6ij\n",
        "Can someone draw us? Thanks\n",
        "http://imgur.com/Q5i4wfo\n",
        "fc-cch\n",
        "None\n",
        "1\n",
        "[<praw.objects.Comment object at 0x1aae810>]"
       ]
      },
      {
       "output_type": "stream",
       "stream": "stdout",
       "text": [
        "\n",
        "t3_2npq1t\n",
        "Hark! You talented collection of artists! Would you grace me with a drawing of my best friend and I? We love color, and though hard to see, her hair is purple here.\n",
        "http://imgur.com/DN3x640\n",
        "fusrodumbass\n",
        "None\n",
        "0\n",
        "[]"
       ]
      },
      {
       "output_type": "stream",
       "stream": "stdout",
       "text": [
        "\n",
        "t3_2npxkv\n",
        "This is my baby cousin. Wearing my sunglasses. With his pacifier. Can anyone draw this, please? Possible christmas gift :)\n",
        "http://imgur.com/lIOJmXs\n",
        "Downhill280Z\n",
        "None\n",
        "0\n",
        "[]"
       ]
      },
      {
       "output_type": "stream",
       "stream": "stdout",
       "text": [
        "\n",
        "t3_2npy4v\n",
        "My niece picking freesias. Would anyone like to draw? Thanks RGD!\n",
        "http://imgur.com/LzdaYBz\n",
        "secondprizepool\n",
        "None\n",
        "0\n",
        "[]"
       ]
      },
      {
       "output_type": "stream",
       "stream": "stdout",
       "text": [
        "\n",
        "t3_2npzvt\n",
        "Anyone want to draw my beautiful nieces for a Christmas gift? Thanks!\n",
        "http://i.imgur.com/OZ96VbQ.jpg\n",
        "tmaben\n",
        "None\n",
        "0\n",
        "[]"
       ]
      },
      {
       "output_type": "stream",
       "stream": "stdout",
       "text": [
        "\n"
       ]
      }
     ],
     "prompt_number": 101
    },
    {
     "cell_type": "code",
     "collapsed": false,
     "input": [
      "pandic"
     ],
     "language": "python",
     "metadata": {},
     "outputs": [
      {
       "html": [
        "<div style=\"max-height:1000px;max-width:1500px;overflow:auto;\">\n",
        "<table border=\"1\">\n",
        "  <tbody>\n",
        "    <tr>\n",
        "      <td>Index([], dtype=object)</td>\n",
        "      <td>Empty DataFrame</td>\n",
        "    </tr>\n",
        "  </tbody>\n",
        "</table>\n",
        "</div>"
       ],
       "metadata": {},
       "output_type": "pyout",
       "prompt_number": 102,
       "text": [
        "Empty DataFrame\n",
        "Columns: array([], dtype=object)\n",
        "Index: array([], dtype=object)"
       ]
      }
     ],
     "prompt_number": 102
    },
    {
     "cell_type": "code",
     "collapsed": false,
     "input": [
      "comdict"
     ],
     "language": "python",
     "metadata": {},
     "outputs": [
      {
       "metadata": {},
       "output_type": "pyout",
       "prompt_number": 103,
       "text": [
        "{'comtxt': []}"
       ]
      }
     ],
     "prompt_number": 103
    },
    {
     "cell_type": "code",
     "collapsed": false,
     "input": [
      "comply = []"
     ],
     "language": "python",
     "metadata": {},
     "outputs": [],
     "prompt_number": 124
    },
    {
     "cell_type": "code",
     "collapsed": false,
     "input": [
      "fddict = {'test': 'test'}"
     ],
     "language": "python",
     "metadata": {},
     "outputs": [],
     "prompt_number": 125
    },
    {
     "cell_type": "code",
     "collapsed": false,
     "input": [
      "for comaq in comdefz:\n",
      "    for fdz in comaq:\n",
      "        print fdz\n",
      "        print fdz.author\n",
      "        print fdz.created_utc\n",
      "        print fdz.replies\n",
      "        fddict.update({'combody': fdz.body})\n",
      "        fddict.update({'comauthor': fdz.author})\n",
      "        fddict.update({'comup': fdz.ups})\n",
      "        fddict.update({'comdown': fdz.downs})\n",
      "        \n",
      "        comply.append(fdz.replies)\n",
      "        decict.update({'created':fdz.created_utc})\n",
      "        decict.update({'author': fdz.author})\n",
      "        decict.update({'body':fdz.body})\n",
      "        decict.update({'replies':fdz.replies})"
     ],
     "language": "python",
     "metadata": {},
     "outputs": [
      {
       "output_type": "stream",
       "stream": "stdout",
       "text": [
        "Absolutely any style would be awesome! I would love to see a cartoon me.\n",
        "\n",
        "Als...\n",
        "twiggystardust\n",
        "1417247827.0\n",
        "[]\n",
        "[Here's another picture of her hair in all its glory.] (http://imgur.com/r6a6...\n",
        "daphnejune\n",
        "1417237599.0\n",
        "[]\n",
        "http://imgur.com/v3nMrxh http://imgur.com/e7l7W0H a couple clearer pictures o...\n",
        "alishadesanka92\n",
        "1417250060.0\n",
        "[]\n",
        "Here are some more reference photos:\n",
        "http://i.imgur.com/hI3QRT5.jpg\n",
        "http://i....\n",
        "J3R4N\n",
        "1417219548.0\n",
        "[]\n",
        "Banned. \n",
        "\n",
        "http://www.reddit.com/r/redditgetsdrawn/comments/2nmrvc/my_beautifu...\n",
        "heyryaaan\n",
        "1417244854.0\n",
        "[]\n"
       ]
      }
     ],
     "prompt_number": 126
    },
    {
     "cell_type": "code",
     "collapsed": false,
     "input": [
      "decict"
     ],
     "language": "python",
     "metadata": {},
     "outputs": [
      {
       "metadata": {},
       "output_type": "pyout",
       "prompt_number": 127,
       "text": [
        "{'author': Redditor(user_name='heyryaaan'),\n",
        " 'body': u'Banned. \\n\\nhttp://www.reddit.com/r/redditgetsdrawn/comments/2nmrvc/my_beautiful_girlfriend_can_i_get_a_draw_thanks/',\n",
        " 'created': 1417244854.0,\n",
        " 'datehour': '29-11-2014-08.md',\n",
        " 'downs': 0,\n",
        " 'example': 'wcmckee',\n",
        " 'replies': [],\n",
        " 'title': u'Anyone want to draw my beautiful nieces for a Christmas gift? Thanks!',\n",
        " 'ups': 2,\n",
        " 'url': u'http://i.imgur.com/OZ96VbQ.jpg'}"
       ]
      }
     ],
     "prompt_number": 127
    },
    {
     "cell_type": "code",
     "collapsed": false,
     "input": [
      "fddict"
     ],
     "language": "python",
     "metadata": {},
     "outputs": [
      {
       "metadata": {},
       "output_type": "pyout",
       "prompt_number": 128,
       "text": [
        "{'comauthor': Redditor(user_name='heyryaaan'),\n",
        " 'combody': u'Banned. \\n\\nhttp://www.reddit.com/r/redditgetsdrawn/comments/2nmrvc/my_beautiful_girlfriend_can_i_get_a_draw_thanks/',\n",
        " 'comdown': 0,\n",
        " 'comup': 1,\n",
        " 'test': 'test'}"
       ]
      }
     ],
     "prompt_number": 128
    },
    {
     "cell_type": "code",
     "collapsed": false,
     "input": [
      "for coaz in comply:\n",
      "    print coaz\n",
      "    for coa in coaz:\n",
      "        print coa.body\n",
      "        print coa.author"
     ],
     "language": "python",
     "metadata": {},
     "outputs": [
      {
       "output_type": "stream",
       "stream": "stdout",
       "text": [
        "[]\n",
        "[]\n",
        "[]\n",
        "[]\n",
        "[]\n",
        "[]\n",
        "[]\n",
        "[]\n",
        "[]\n",
        "[]\n"
       ]
      }
     ],
     "prompt_number": 113
    },
    {
     "cell_type": "code",
     "collapsed": false,
     "input": [
      "serz = Series(fddict)"
     ],
     "language": "python",
     "metadata": {},
     "outputs": [
      {
       "ename": "AttributeError",
       "evalue": "'str' object has no attribute 'name'",
       "output_type": "pyerr",
       "traceback": [
        "\u001b[1;31m---------------------------------------------------------------------------\u001b[0m\n\u001b[1;31mAttributeError\u001b[0m                            Traceback (most recent call last)",
        "\u001b[1;32m<ipython-input-114-b2dfef8839e2>\u001b[0m in \u001b[0;36m<module>\u001b[1;34m()\u001b[0m\n\u001b[1;32m----> 1\u001b[1;33m \u001b[0mserz\u001b[0m \u001b[1;33m=\u001b[0m \u001b[0mSeries\u001b[0m\u001b[1;33m(\u001b[0m\u001b[0mfddict\u001b[0m\u001b[1;33m)\u001b[0m\u001b[1;33m\u001b[0m\u001b[0m\n\u001b[0m",
        "\u001b[1;32m/usr/lib/pymodules/python2.7/pandas/core/series.pyc\u001b[0m in \u001b[0;36m__new__\u001b[1;34m(cls, data, index, dtype, name, copy)\u001b[0m\n\u001b[0;32m    307\u001b[0m         \u001b[1;32melif\u001b[0m \u001b[0misinstance\u001b[0m\u001b[1;33m(\u001b[0m\u001b[0mdata\u001b[0m\u001b[1;33m,\u001b[0m \u001b[0mdict\u001b[0m\u001b[1;33m)\u001b[0m\u001b[1;33m:\u001b[0m\u001b[1;33m\u001b[0m\u001b[0m\n\u001b[0;32m    308\u001b[0m             \u001b[1;32mif\u001b[0m \u001b[0mindex\u001b[0m \u001b[1;32mis\u001b[0m \u001b[0mNone\u001b[0m\u001b[1;33m:\u001b[0m\u001b[1;33m\u001b[0m\u001b[0m\n\u001b[1;32m--> 309\u001b[1;33m                 \u001b[0mindex\u001b[0m \u001b[1;33m=\u001b[0m \u001b[0mIndex\u001b[0m\u001b[1;33m(\u001b[0m\u001b[0msorted\u001b[0m\u001b[1;33m(\u001b[0m\u001b[0mdata\u001b[0m\u001b[1;33m)\u001b[0m\u001b[1;33m)\u001b[0m\u001b[1;33m\u001b[0m\u001b[0m\n\u001b[0m\u001b[0;32m    310\u001b[0m             \u001b[1;32mtry\u001b[0m\u001b[1;33m:\u001b[0m\u001b[1;33m\u001b[0m\u001b[0m\n\u001b[0;32m    311\u001b[0m                 \u001b[1;32mif\u001b[0m \u001b[0misinstance\u001b[0m\u001b[1;33m(\u001b[0m\u001b[0mindex\u001b[0m\u001b[1;33m,\u001b[0m \u001b[0mDatetimeIndex\u001b[0m\u001b[1;33m)\u001b[0m\u001b[1;33m:\u001b[0m\u001b[1;33m\u001b[0m\u001b[0m\n",
        "\u001b[1;32m/usr/local/lib/python2.7/dist-packages/praw/objects.pyc\u001b[0m in \u001b[0;36m__cmp__\u001b[1;34m(self, other)\u001b[0m\n\u001b[0;32m    671\u001b[0m \u001b[1;33m\u001b[0m\u001b[0m\n\u001b[0;32m    672\u001b[0m         \"\"\"\n\u001b[1;32m--> 673\u001b[1;33m         \u001b[1;32mreturn\u001b[0m \u001b[0mcmp\u001b[0m\u001b[1;33m(\u001b[0m\u001b[0mself\u001b[0m\u001b[1;33m.\u001b[0m\u001b[0mname\u001b[0m\u001b[1;33m.\u001b[0m\u001b[0mlower\u001b[0m\u001b[1;33m(\u001b[0m\u001b[1;33m)\u001b[0m\u001b[1;33m,\u001b[0m \u001b[0mother\u001b[0m\u001b[1;33m.\u001b[0m\u001b[0mname\u001b[0m\u001b[1;33m.\u001b[0m\u001b[0mlower\u001b[0m\u001b[1;33m(\u001b[0m\u001b[1;33m)\u001b[0m\u001b[1;33m)\u001b[0m\u001b[1;33m\u001b[0m\u001b[0m\n\u001b[0m\u001b[0;32m    674\u001b[0m \u001b[1;33m\u001b[0m\u001b[0m\n\u001b[0;32m    675\u001b[0m     \u001b[1;32mdef\u001b[0m \u001b[0m__repr__\u001b[0m\u001b[1;33m(\u001b[0m\u001b[0mself\u001b[0m\u001b[1;33m)\u001b[0m\u001b[1;33m:\u001b[0m\u001b[1;33m\u001b[0m\u001b[0m\n",
        "\u001b[1;31mAttributeError\u001b[0m: 'str' object has no attribute 'name'"
       ]
      }
     ],
     "prompt_number": 114
    },
    {
     "cell_type": "code",
     "collapsed": false,
     "input": [
      "fddict"
     ],
     "language": "python",
     "metadata": {},
     "outputs": [
      {
       "metadata": {},
       "output_type": "pyout",
       "prompt_number": 120,
       "text": [
        "{Redditor(user_name='daphnejune'): u\"[Here's another picture of her hair in all its glory.] (http://imgur.com/r6a6Z2N) \",\n",
        " Redditor(user_name='heyryaaan'): u'Banned. \\n\\nhttp://www.reddit.com/r/redditgetsdrawn/comments/2nmrvc/my_beautiful_girlfriend_can_i_get_a_draw_thanks/',\n",
        " Redditor(user_name='twiggystardust'): u'Absolutely any style would be awesome! I would love to see a cartoon me.\\n\\nAlso, feel free to add anything e.g different colour hair, but still look like me :)',\n",
        " 'test': 'test',\n",
        " Redditor(user_name='alishadesanka92'): u'http://imgur.com/v3nMrxh http://imgur.com/e7l7W0H a couple clearer pictures of all our faces. ',\n",
        " Redditor(user_name='J3R4N'): u'Here are some more reference photos:\\nhttp://i.imgur.com/hI3QRT5.jpg\\nhttp://i.imgur.com/WqT1x8t.jpg'}"
       ]
      }
     ],
     "prompt_number": 120
    },
    {
     "cell_type": "code",
     "collapsed": false,
     "input": [
      "fddict.keys()"
     ],
     "language": "python",
     "metadata": {},
     "outputs": [
      {
       "metadata": {},
       "output_type": "pyout",
       "prompt_number": 115,
       "text": [
        "[Redditor(user_name='heyryaaan'),\n",
        " Redditor(user_name='daphnejune'),\n",
        " Redditor(user_name='twiggystardust'),\n",
        " 'test',\n",
        " Redditor(user_name='alishadesanka92'),\n",
        " Redditor(user_name='J3R4N')]"
       ]
      }
     ],
     "prompt_number": 115
    },
    {
     "cell_type": "code",
     "collapsed": false,
     "input": [
      "def extractlinks(html):\n",
      "    soup = BeautifulSoup(html)\n",
      "    anchors = soup.findAll('a')\n",
      "    links = []\n",
      "    for a in anchors:\n",
      "        links.append(a['href'])\n",
      "    return links"
     ],
     "language": "python",
     "metadata": {},
     "outputs": [],
     "prompt_number": 116
    },
    {
     "cell_type": "code",
     "collapsed": false,
     "input": [
      "cydict = fddict.values()"
     ],
     "language": "python",
     "metadata": {},
     "outputs": [],
     "prompt_number": 117
    },
    {
     "cell_type": "code",
     "collapsed": false,
     "input": [
      "for itz in cydict:\n",
      "    print itz   "
     ],
     "language": "python",
     "metadata": {},
     "outputs": [
      {
       "output_type": "stream",
       "stream": "stdout",
       "text": [
        "Banned. \n",
        "\n",
        "http://www.reddit.com/r/redditgetsdrawn/comments/2nmrvc/my_beautiful_girlfriend_can_i_get_a_draw_thanks/\n",
        "[Here's another picture of her hair in all its glory.] (http://imgur.com/r6a6Z2N) \n",
        "Absolutely any style would be awesome! I would love to see a cartoon me.\n",
        "\n",
        "Also, feel free to add anything e.g different colour hair, but still look like me :)\n",
        "test\n",
        "http://imgur.com/v3nMrxh http://imgur.com/e7l7W0H a couple clearer pictures of all our faces. \n",
        "Here are some more reference photos:\n",
        "http://i.imgur.com/hI3QRT5.jpg\n",
        "http://i.imgur.com/WqT1x8t.jpg\n"
       ]
      }
     ],
     "prompt_number": 118
    },
    {
     "cell_type": "code",
     "collapsed": false,
     "input": [
      "chedict = {'blah': 'testing'}"
     ],
     "language": "python",
     "metadata": {},
     "outputs": [],
     "prompt_number": 119
    },
    {
     "cell_type": "code",
     "collapsed": false,
     "input": [
      "fixurl = BeautifulSoup(fddict.values())"
     ],
     "language": "python",
     "metadata": {},
     "outputs": []
    },
    {
     "cell_type": "code",
     "collapsed": false,
     "input": [
      "for coma in comdefz:\n",
      "    #print coma\n",
      "    #chedict.update({'first': coma})\n",
      "    for co in coma:\n",
      "        print co\n",
      "        chedict.update({co.author: co.body})"
     ],
     "language": "python",
     "metadata": {},
     "outputs": []
    },
    {
     "cell_type": "code",
     "collapsed": false,
     "input": [
      "chedict"
     ],
     "language": "python",
     "metadata": {},
     "outputs": []
    },
    {
     "cell_type": "code",
     "collapsed": false,
     "input": [
      "jsdum = json.loads(chedict)"
     ],
     "language": "python",
     "metadata": {},
     "outputs": []
    },
    {
     "cell_type": "code",
     "collapsed": false,
     "input": [
      "rcoms = chedict.keys()\n",
      "rvals = chedict.values()\n",
      "imcom = []"
     ],
     "language": "python",
     "metadata": {},
     "outputs": []
    },
    {
     "cell_type": "code",
     "collapsed": false,
     "input": [
      "for rvs in rvals:\n",
      "    print rvs\n",
      "    if '.jpg' or '.png' in rvs:\n",
      "        imcom.append(rvs)\n",
      "        "
     ],
     "language": "python",
     "metadata": {},
     "outputs": []
    },
    {
     "cell_type": "code",
     "collapsed": false,
     "input": [
      "imcom"
     ],
     "language": "python",
     "metadata": {},
     "outputs": []
    },
    {
     "cell_type": "code",
     "collapsed": false,
     "input": [
      "fuldoc = doc.render()"
     ],
     "language": "python",
     "metadata": {},
     "outputs": []
    },
    {
     "cell_type": "code",
     "collapsed": false,
     "input": [],
     "language": "python",
     "metadata": {},
     "outputs": []
    },
    {
     "cell_type": "code",
     "collapsed": false,
     "input": [
      "doc = dominate.document(title='Dominate your HTML')\n",
      "\n",
      "with doc.head:\n",
      "    link(rel='stylesheet', href='style.css')\n",
      "    script(type='text/javascript', src='script.js')\n",
      "\n",
      "with doc:\n",
      "    with div(id='header').add(ol()):\n",
      "        for imz in imcom:\n",
      "            #print imz\n",
      "            p(imz)\n",
      "\n",
      "    #with div():\n",
      "     #   attr(cls='body')\n",
      "     #   p('Lorem ipsum..')\n",
      "\n",
      "#print doc"
     ],
     "language": "python",
     "metadata": {},
     "outputs": []
    },
    {
     "cell_type": "code",
     "collapsed": false,
     "input": [
      "for docin in doc.head.children:\n",
      "    print docin"
     ],
     "language": "python",
     "metadata": {},
     "outputs": []
    },
    {
     "cell_type": "code",
     "collapsed": false,
     "input": [
      "for pain in docin.parent.children:\n",
      "    print pain"
     ],
     "language": "python",
     "metadata": {},
     "outputs": []
    },
    {
     "cell_type": "code",
     "collapsed": false,
     "input": [
      "doc.body.parent.children"
     ],
     "language": "python",
     "metadata": {},
     "outputs": []
    },
    {
     "cell_type": "code",
     "collapsed": false,
     "input": [],
     "language": "python",
     "metadata": {},
     "outputs": [],
     "prompt_number": 109
    },
    {
     "cell_type": "code",
     "collapsed": false,
     "input": [
      "soup = BeautifulSoup(doc)\n",
      "\n",
      "#print(soup.prettify())"
     ],
     "language": "python",
     "metadata": {},
     "outputs": []
    },
    {
     "cell_type": "code",
     "collapsed": false,
     "input": [
      "extractlinks()"
     ],
     "language": "python",
     "metadata": {},
     "outputs": []
    },
    {
     "cell_type": "code",
     "collapsed": false,
     "input": [
      "for imc in imcom:\n",
      "    print imc"
     ],
     "language": "python",
     "metadata": {},
     "outputs": [
      {
       "output_type": "stream",
       "stream": "stdout",
       "text": [
        "testing\n"
       ]
      }
     ],
     "prompt_number": 46
    },
    {
     "cell_type": "code",
     "collapsed": false,
     "input": [
      "doc.body"
     ],
     "language": "python",
     "metadata": {},
     "outputs": [
      {
       "metadata": {},
       "output_type": "pyout",
       "prompt_number": 47,
       "text": [
        "<dominate.tags.body at b67e30: 0 attributes, 1 child>"
       ]
      }
     ],
     "prompt_number": 47
    },
    {
     "cell_type": "code",
     "collapsed": false,
     "input": [],
     "language": "python",
     "metadata": {},
     "outputs": [],
     "prompt_number": 47
    },
    {
     "cell_type": "code",
     "collapsed": false,
     "input": [
      "doc.render()"
     ],
     "language": "python",
     "metadata": {},
     "outputs": [
      {
       "metadata": {},
       "output_type": "pyout",
       "prompt_number": 48,
       "text": [
        "u'<!DOCTYPE html>\\n<html>\\n  <head>\\n    <title>Dominate your HTML</title>\\n    <link href=\"style.css\" rel=\"stylesheet\"><script src=\"script.js\" type=\"text/javascript\"></script></head>\\n  <body>\\n    <div id=\"header\">\\n      <ol>\\n        <p>testing</p>\\n      </ol>\\n    </div>\\n  </body>\\n</html>'"
       ]
      }
     ],
     "prompt_number": 48
    },
    {
     "cell_type": "code",
     "collapsed": false,
     "input": [
      "for dicaz in doc.children:\n",
      "    print dicaz"
     ],
     "language": "python",
     "metadata": {},
     "outputs": [
      {
       "output_type": "stream",
       "stream": "stdout",
       "text": [
        "<head>\n",
        "  <title>Dominate your HTML</title>\n",
        "  <link href=\"style.css\" rel=\"stylesheet\"><script src=\"script.js\" type=\"text/javascript\"></script></head>\n",
        "<body>\n",
        "  <div id=\"header\">\n",
        "    <ol>\n",
        "      <p>testing</p>\n",
        "    </ol>\n",
        "  </div>\n",
        "</body>\n"
       ]
      }
     ],
     "prompt_number": 49
    },
    {
     "cell_type": "code",
     "collapsed": false,
     "input": [],
     "language": "python",
     "metadata": {},
     "outputs": [],
     "prompt_number": 49
    },
    {
     "cell_type": "code",
     "collapsed": false,
     "input": [
      "for imz in imcom:\n",
      "    \n",
      "    print imz"
     ],
     "language": "python",
     "metadata": {},
     "outputs": [
      {
       "output_type": "stream",
       "stream": "stdout",
       "text": [
        "testing\n"
       ]
      }
     ],
     "prompt_number": 50
    },
    {
     "cell_type": "code",
     "collapsed": false,
     "input": [
      "for rez in rcoms:\n",
      "    print rez\n",
      "    "
     ],
     "language": "python",
     "metadata": {},
     "outputs": [
      {
       "output_type": "stream",
       "stream": "stdout",
       "text": [
        "blah\n"
       ]
      }
     ],
     "prompt_number": 51
    },
    {
     "cell_type": "code",
     "collapsed": false,
     "input": [],
     "language": "python",
     "metadata": {},
     "outputs": [],
     "prompt_number": 51
    },
    {
     "cell_type": "code",
     "collapsed": false,
     "input": [
      "for rgt in rgdef.values():\n",
      "    if '.jpg' in rgt:\n",
      "        print rgt"
     ],
     "language": "python",
     "metadata": {},
     "outputs": [
      {
       "output_type": "stream",
       "stream": "stdout",
       "text": [
        "http://i.imgur.com/MOZVY3O.jpg\n",
        "http://i.imgur.com/WPzVeRp.jpg\n",
        "http://i.imgur.com/apl9Jxj.jpg\n",
        "http://i.imgur.com/gQUt5he.jpg\n",
        "http://i.imgur.com/0FpXsfw.jpg\n",
        "http://i.imgur.com/OZ96VbQ.jpg\n",
        "http://i.imgur.com/fsAT7ty.jpg\n",
        "http://i.imgur.com/Lw35P8A.jpg\n",
        "http://i.imgur.com/kszy3AJ.jpg\n",
        "http://i.imgur.com/j8Ar4In.jpg\n",
        "http://i.imgur.com/X8R8IgZ.jpg\n",
        "http://i.imgur.com/I8d7zAq.jpg\n"
       ]
      }
     ],
     "prompt_number": 52
    },
    {
     "cell_type": "code",
     "collapsed": false,
     "input": [
      "import dominate\n",
      "from dominate.tags import *\n",
      "\n",
      "doc = dominate.document(title='RedditGetsDrawn Recent Reference')\n",
      "\n",
      "with doc.head:\n",
      "    link(rel='stylesheet', href='style.css')\n",
      "    script(type='text/javascript', src='script.js')\n",
      "    \n",
      "    with div():\n",
      "        attr(cls='header')\n",
      "        h1('RedditGetsDrawn Recent Reference')\n",
      "        p('updated ', strftime(\"%a, %d %b %Y %H:%M:%S +0000\", gmtime()))\n",
      "\n",
      "    \n",
      "    \n",
      "\n",
      "with doc:\n",
      "    with div(id='body').add(ol()):\n",
      "        for rdz in rdnew:\n",
      "            h1(rdz.title)\n",
      "            a(rdz.url)\n",
      "            if '.jpg' or '.png' in rdz.url:\n",
      "                print rdz.url\n",
      "                p(img(rdz.url, src='%s' % rdz.url))\n",
      "            #print rdz.url\n",
      "            #if '.jpg' in rdz.url:\n",
      "            #    img(rdz.urlz)\n",
      "            #else:\n",
      "            #    a(rdz.urlz)\n",
      "            p(str(rdz.author))\n",
      "            \n",
      "            #li(img(i.lower(), src='%s' % i))\n",
      "\n",
      "    with div():\n",
      "        attr(cls='body')\n",
      "        p('RGDRecentReference is open source')\n",
      "        a('http://github.com/wcmckee/wcmckee')\n",
      "\n",
      "#print doc"
     ],
     "language": "python",
     "metadata": {},
     "outputs": [
      {
       "output_type": "stream",
       "stream": "stdout",
       "text": [
        "http://i.imgur.com/apl9Jxj.jpg\n",
        "http://i.imgur.com/gQUt5he.jpg\n",
        "http://imgur.com/a/xcrju\n",
        "http://i.imgur.com/kszy3AJ.jpg\n",
        "http://imgur.com/bKly5uF\n",
        "http://imgur.com/ARJuxbl"
       ]
      },
      {
       "output_type": "stream",
       "stream": "stdout",
       "text": [
        "\n",
        "http://imgur.com/vnVi94c\n",
        "http://imgur.com/gjj3h1L\n",
        "http://i.imgur.com/I8d7zAq.jpg\n",
        "http://imgur.com/gallery/HpZp73W/new\n",
        "http://i.imgur.com/WPzVeRp.jpg\n",
        "http://i.imgur.com/X8R8IgZ.jpg\n",
        "http://i.imgur.com/0FpXsfw.jpg\n",
        "http://imgur.com/jhMPoPp\n",
        "http://imgur.com/a/rwdYD\n",
        "http://i.imgur.com/fsAT7ty.jpg"
       ]
      },
      {
       "output_type": "stream",
       "stream": "stdout",
       "text": [
        "\n",
        "http://imgur.com/a/MEJA1\n",
        "http://i.imgur.com/MOZVY3O.jpg\n",
        "http://imgur.com/Q5i4wfo\n",
        "http://imgur.com/DN3x640\n",
        "http://imgur.com/lIOJmXs\n",
        "http://imgur.com/LzdaYBz\n",
        "http://i.imgur.com/OZ96VbQ.jpg\n",
        "http://i.imgur.com/Lw35P8A.jpg\n",
        "http://i.imgur.com/j8Ar4In.jpg\n"
       ]
      }
     ],
     "prompt_number": 53
    },
    {
     "cell_type": "code",
     "collapsed": false,
     "input": [
      "rgdir = ('/home/wcmckee/rgdrecentReference/')"
     ],
     "language": "python",
     "metadata": {},
     "outputs": [],
     "prompt_number": 54
    },
    {
     "cell_type": "code",
     "collapsed": false,
     "input": [
      "os.chdir(rgdir)"
     ],
     "language": "python",
     "metadata": {},
     "outputs": [],
     "prompt_number": 55
    },
    {
     "cell_type": "code",
     "collapsed": false,
     "input": [
      "#mkindex = open('index.html', 'w')\n",
      "#mkindex.write(str(doc))\n",
      "#mkindex.close()"
     ],
     "language": "python",
     "metadata": {},
     "outputs": [],
     "prompt_number": 56
    },
    {
     "cell_type": "code",
     "collapsed": false,
     "input": [
      "#print str(doc)"
     ],
     "language": "python",
     "metadata": {},
     "outputs": [],
     "prompt_number": 57
    },
    {
     "cell_type": "code",
     "collapsed": false,
     "input": [
      "print strftime(\"%a, %d %b %Y %H:%M:%S +0000\")"
     ],
     "language": "python",
     "metadata": {},
     "outputs": [
      {
       "output_type": "stream",
       "stream": "stdout",
       "text": [
        "Sat, 29 Nov 2014 08:45:04 +0000\n"
       ]
      }
     ],
     "prompt_number": 58
    },
    {
     "cell_type": "code",
     "collapsed": false,
     "input": [
      "savedate = strftime(\"%d\" + \"-\" + \"%m\" + \"-\" + \"%Y\" + \"-\" + \"%H\")"
     ],
     "language": "python",
     "metadata": {},
     "outputs": [],
     "prompt_number": 59
    },
    {
     "cell_type": "code",
     "collapsed": false,
     "input": [
      "def timeret():\n",
      "    return strftime(\"%d\" + \"-\" + \"%m\" + \"-\" + \"%Y\" + \"-\" + \"%H\")\n",
      "\n",
      "def givmd():\n",
      "    return str(savedate + '.md')\n",
      "\n",
      "def givdic():\n",
      "    return rgdir.replace('/', '-')"
     ],
     "language": "python",
     "metadata": {},
     "outputs": [],
     "prompt_number": 60
    },
    {
     "cell_type": "code",
     "collapsed": false,
     "input": [
      "givdic()"
     ],
     "language": "python",
     "metadata": {},
     "outputs": [
      {
       "metadata": {},
       "output_type": "pyout",
       "prompt_number": 61,
       "text": [
        "'-home-wcmckee-rgdrecentReference-'"
       ]
      }
     ],
     "prompt_number": 61
    },
    {
     "cell_type": "raw",
     "metadata": {},
     "source": [
      "timeret()"
     ]
    },
    {
     "cell_type": "code",
     "collapsed": false,
     "input": [
      "givmd()"
     ],
     "language": "python",
     "metadata": {},
     "outputs": [
      {
       "metadata": {},
       "output_type": "pyout",
       "prompt_number": 62,
       "text": [
        "'29-11-2014-08.md'"
       ]
      }
     ],
     "prompt_number": 62
    },
    {
     "cell_type": "code",
     "collapsed": false,
     "input": [
      "savedate"
     ],
     "language": "python",
     "metadata": {},
     "outputs": [
      {
       "metadata": {},
       "output_type": "pyout",
       "prompt_number": 63,
       "text": [
        "'29-11-2014-08'"
       ]
      }
     ],
     "prompt_number": 63
    },
    {
     "cell_type": "code",
     "collapsed": false,
     "input": [
      "deepone = str(savedate + '.md')"
     ],
     "language": "python",
     "metadata": {},
     "outputs": [],
     "prompt_number": 64
    },
    {
     "cell_type": "code",
     "collapsed": false,
     "input": [
      "deepone"
     ],
     "language": "python",
     "metadata": {},
     "outputs": [
      {
       "metadata": {},
       "output_type": "pyout",
       "prompt_number": 65,
       "text": [
        "'29-11-2014-08.md'"
       ]
      }
     ],
     "prompt_number": 65
    },
    {
     "cell_type": "code",
     "collapsed": false,
     "input": [
      "#os.chdir('/home/wcmckee/brobeur-blog-post/')"
     ],
     "language": "python",
     "metadata": {},
     "outputs": [],
     "prompt_number": 66
    },
    {
     "cell_type": "code",
     "collapsed": false,
     "input": [
      "#brobeind = open('\u00edndex.html', 'r')"
     ],
     "language": "python",
     "metadata": {},
     "outputs": [],
     "prompt_number": 67
    },
    {
     "cell_type": "code",
     "collapsed": false,
     "input": [
      "#brotest = open('\u00edndex.html', 'r')\n",
      "#brotest.read()"
     ],
     "language": "python",
     "metadata": {},
     "outputs": [],
     "prompt_number": 68
    },
    {
     "cell_type": "code",
     "collapsed": false,
     "input": [
      "redposts = ('/home/wcmckee/rgdrecentReference/posts')"
     ],
     "language": "python",
     "metadata": {},
     "outputs": [],
     "prompt_number": 69
    },
    {
     "cell_type": "code",
     "collapsed": false,
     "input": [
      "os.chdir(redposts)"
     ],
     "language": "python",
     "metadata": {},
     "outputs": [],
     "prompt_number": 70
    },
    {
     "cell_type": "code",
     "collapsed": false,
     "input": [
      "time.asctime()"
     ],
     "language": "python",
     "metadata": {},
     "outputs": [
      {
       "metadata": {},
       "output_type": "pyout",
       "prompt_number": 71,
       "text": [
        "'Sat Nov 29 08:45:14 2014'"
       ]
      }
     ],
     "prompt_number": 71
    },
    {
     "cell_type": "code",
     "collapsed": false,
     "input": [
      "savinx = open(str(deepone), 'w')"
     ],
     "language": "python",
     "metadata": {},
     "outputs": [],
     "prompt_number": 72
    },
    {
     "cell_type": "code",
     "collapsed": false,
     "input": [
      "savinx.write(str(rgdef))"
     ],
     "language": "python",
     "metadata": {},
     "outputs": [],
     "prompt_number": 73
    },
    {
     "cell_type": "code",
     "collapsed": false,
     "input": [
      "savinx.close()"
     ],
     "language": "python",
     "metadata": {},
     "outputs": [],
     "prompt_number": 74
    },
    {
     "cell_type": "code",
     "collapsed": false,
     "input": [
      "deepone"
     ],
     "language": "python",
     "metadata": {},
     "outputs": [
      {
       "metadata": {},
       "output_type": "pyout",
       "prompt_number": 90,
       "text": [
        "'29-11-2014-08.md'"
       ]
      }
     ],
     "prompt_number": 90
    },
    {
     "cell_type": "code",
     "collapsed": false,
     "input": [
      "decict"
     ],
     "language": "python",
     "metadata": {},
     "outputs": [
      {
       "metadata": {},
       "output_type": "pyout",
       "prompt_number": 75,
       "text": [
        "{'author': Redditor(user_name='hrystyna'),\n",
        " 'body': u'Anything at all is appreciated, very grateful :)',\n",
        " 'created': 1417228165.0,\n",
        " 'example': 'wcmckee',\n",
        " 'replies': [],\n",
        " 'title': u'My boyfriend and me at the maidan in Kyiv, January',\n",
        " 'url': u'http://i.imgur.com/j8Ar4In.jpg'}"
       ]
      }
     ],
     "prompt_number": 75
    },
    {
     "cell_type": "code",
     "collapsed": false,
     "input": [
      "decict.update({'datehour': givmd()})"
     ],
     "language": "python",
     "metadata": {},
     "outputs": [],
     "prompt_number": 135
    },
    {
     "cell_type": "code",
     "collapsed": false,
     "input": [
      "depan = Series(decict)"
     ],
     "language": "python",
     "metadata": {},
     "outputs": [],
     "prompt_number": 136
    },
    {
     "cell_type": "code",
     "collapsed": false,
     "input": [
      "fepan = Series(fddict)"
     ],
     "language": "python",
     "metadata": {},
     "outputs": [],
     "prompt_number": 137
    },
    {
     "cell_type": "code",
     "collapsed": false,
     "input": [
      "mepan = (fepan)+(depan)"
     ],
     "language": "python",
     "metadata": {},
     "outputs": [],
     "prompt_number": 142
    },
    {
     "cell_type": "code",
     "collapsed": false,
     "input": [
      "depan"
     ],
     "language": "python",
     "metadata": {},
     "outputs": [
      {
       "metadata": {},
       "output_type": "pyout",
       "prompt_number": 144,
       "text": [
        "author                                              heyryaaan\n",
        "body        Banned. \n",
        "\n",
        "http://www.reddit.com/r/redditgetsdrawn\n",
        "created                                          1.417245e+09\n",
        "datehour                                     29-11-2014-08.md\n",
        "downs                                                       0\n",
        "example                                               wcmckee\n",
        "replies                                                    []\n",
        "title       Anyone want to draw my beautiful nieces for a Chr\n",
        "ups                                                         2\n",
        "url                            http://i.imgur.com/OZ96VbQ.jpg"
       ]
      }
     ],
     "prompt_number": 144
    },
    {
     "cell_type": "code",
     "collapsed": false,
     "input": [
      "feram = pd.DataFrame(fepan)"
     ],
     "language": "python",
     "metadata": {},
     "outputs": [],
     "prompt_number": 146
    },
    {
     "cell_type": "code",
     "collapsed": false,
     "input": [
      "fepan"
     ],
     "language": "python",
     "metadata": {},
     "outputs": [
      {
       "metadata": {},
       "output_type": "pyout",
       "prompt_number": 145,
       "text": [
        "comauthor                                            heyryaaan\n",
        "combody      Banned. \n",
        "\n",
        "http://www.reddit.com/r/redditgetsdrawn\n",
        "comdown                                                      0\n",
        "comup                                                        1\n",
        "test                                                      test"
       ]
      }
     ],
     "prompt_number": 145
    },
    {
     "cell_type": "code",
     "collapsed": false,
     "input": [
      "mepan"
     ],
     "language": "python",
     "metadata": {},
     "outputs": [
      {
       "metadata": {},
       "output_type": "pyout",
       "prompt_number": 143,
       "text": [
        "author       NaN\n",
        "body         NaN\n",
        "comauthor    NaN\n",
        "combody      NaN\n",
        "comdown      NaN\n",
        "comup        NaN\n",
        "created      NaN\n",
        "datehour     NaN\n",
        "downs        NaN\n",
        "example      NaN\n",
        "replies      NaN\n",
        "test         NaN\n",
        "title        NaN\n",
        "ups          NaN\n",
        "url          NaN"
       ]
      }
     ],
     "prompt_number": 143
    },
    {
     "cell_type": "code",
     "collapsed": false,
     "input": [
      "defed = DataFrame(depan)"
     ],
     "language": "python",
     "metadata": {},
     "outputs": [],
     "prompt_number": 138
    },
    {
     "cell_type": "code",
     "collapsed": false,
     "input": [
      "defed.append(fepan)"
     ],
     "language": "python",
     "metadata": {},
     "outputs": [
      {
       "ename": "Exception",
       "evalue": "Can only append a Series if ignore_index=True",
       "output_type": "pyerr",
       "traceback": [
        "\u001b[1;31m---------------------------------------------------------------------------\u001b[0m\n\u001b[1;31mException\u001b[0m                                 Traceback (most recent call last)",
        "\u001b[1;32m<ipython-input-139-7d382e4b871a>\u001b[0m in \u001b[0;36m<module>\u001b[1;34m()\u001b[0m\n\u001b[1;32m----> 1\u001b[1;33m \u001b[0mdefed\u001b[0m\u001b[1;33m.\u001b[0m\u001b[0mappend\u001b[0m\u001b[1;33m(\u001b[0m\u001b[0mfepan\u001b[0m\u001b[1;33m)\u001b[0m\u001b[1;33m\u001b[0m\u001b[0m\n\u001b[0m",
        "\u001b[1;32m/usr/lib/pymodules/python2.7/pandas/core/frame.pyc\u001b[0m in \u001b[0;36mappend\u001b[1;34m(self, other, ignore_index, verify_integrity)\u001b[0m\n\u001b[0;32m   3692\u001b[0m                 \u001b[0mother\u001b[0m \u001b[1;33m=\u001b[0m \u001b[0mSeries\u001b[0m\u001b[1;33m(\u001b[0m\u001b[0mother\u001b[0m\u001b[1;33m)\u001b[0m\u001b[1;33m\u001b[0m\u001b[0m\n\u001b[0;32m   3693\u001b[0m             \u001b[1;32mif\u001b[0m \u001b[0mother\u001b[0m\u001b[1;33m.\u001b[0m\u001b[0mname\u001b[0m \u001b[1;32mis\u001b[0m \u001b[0mNone\u001b[0m \u001b[1;32mand\u001b[0m \u001b[1;32mnot\u001b[0m \u001b[0mignore_index\u001b[0m\u001b[1;33m:\u001b[0m\u001b[1;33m\u001b[0m\u001b[0m\n\u001b[1;32m-> 3694\u001b[1;33m                 raise Exception('Can only append a Series if '\n\u001b[0m\u001b[0;32m   3695\u001b[0m                                 'ignore_index=True')\n\u001b[0;32m   3696\u001b[0m \u001b[1;33m\u001b[0m\u001b[0m\n",
        "\u001b[1;31mException\u001b[0m: Can only append a Series if ignore_index=True"
       ]
      }
     ],
     "prompt_number": 139
    },
    {
     "cell_type": "code",
     "collapsed": false,
     "input": [
      "depan"
     ],
     "language": "python",
     "metadata": {},
     "outputs": [
      {
       "metadata": {},
       "output_type": "pyout",
       "prompt_number": 95,
       "text": [
        "author                                               hrystyna\n",
        "body         Anything at all is appreciated, very grateful :)\n",
        "created                                          1.417228e+09\n",
        "datehour                                     29-11-2014-08.md\n",
        "example                                               wcmckee\n",
        "replies                                                    []\n",
        "title       My boyfriend and me at the maidan in Kyiv, Januar\n",
        "url                            http://i.imgur.com/j8Ar4In.jpg"
       ]
      }
     ],
     "prompt_number": 95
    },
    {
     "cell_type": "code",
     "collapsed": false,
     "input": [
      "merfem = feram.join(defed)"
     ],
     "language": "python",
     "metadata": {},
     "outputs": [
      {
       "ename": "Exception",
       "evalue": "columns overlap: array([0], dtype=int64)",
       "output_type": "pyerr",
       "traceback": [
        "\u001b[1;31m---------------------------------------------------------------------------\u001b[0m\n\u001b[1;31mException\u001b[0m                                 Traceback (most recent call last)",
        "\u001b[1;32m<ipython-input-147-c8b270030731>\u001b[0m in \u001b[0;36m<module>\u001b[1;34m()\u001b[0m\n\u001b[1;32m----> 1\u001b[1;33m \u001b[0mmerfem\u001b[0m \u001b[1;33m=\u001b[0m \u001b[0mferam\u001b[0m\u001b[1;33m.\u001b[0m\u001b[0mjoin\u001b[0m\u001b[1;33m(\u001b[0m\u001b[0mdefed\u001b[0m\u001b[1;33m)\u001b[0m\u001b[1;33m\u001b[0m\u001b[0m\n\u001b[0m",
        "\u001b[1;32m/usr/lib/pymodules/python2.7/pandas/core/frame.pyc\u001b[0m in \u001b[0;36mjoin\u001b[1;34m(self, other, on, how, lsuffix, rsuffix, sort)\u001b[0m\n\u001b[0;32m   3756\u001b[0m         \u001b[1;31m# For SparseDataFrame's benefit\u001b[0m\u001b[1;33m\u001b[0m\u001b[1;33m\u001b[0m\u001b[0m\n\u001b[0;32m   3757\u001b[0m         return self._join_compat(other, on=on, how=how, lsuffix=lsuffix,\n\u001b[1;32m-> 3758\u001b[1;33m                                  rsuffix=rsuffix, sort=sort)\n\u001b[0m\u001b[0;32m   3759\u001b[0m \u001b[1;33m\u001b[0m\u001b[0m\n\u001b[0;32m   3760\u001b[0m     def _join_compat(self, other, on=None, how='left', lsuffix='', rsuffix='',\n",
        "\u001b[1;32m/usr/lib/pymodules/python2.7/pandas/core/frame.pyc\u001b[0m in \u001b[0;36m_join_compat\u001b[1;34m(self, other, on, how, lsuffix, rsuffix, sort)\u001b[0m\n\u001b[0;32m   3769\u001b[0m             return merge(self, other, left_on=on, how=how,\n\u001b[0;32m   3770\u001b[0m                          \u001b[0mleft_index\u001b[0m\u001b[1;33m=\u001b[0m\u001b[0mon\u001b[0m \u001b[1;32mis\u001b[0m \u001b[0mNone\u001b[0m\u001b[1;33m,\u001b[0m \u001b[0mright_index\u001b[0m\u001b[1;33m=\u001b[0m\u001b[0mTrue\u001b[0m\u001b[1;33m,\u001b[0m\u001b[1;33m\u001b[0m\u001b[0m\n\u001b[1;32m-> 3771\u001b[1;33m                          suffixes=(lsuffix, rsuffix), sort=sort)\n\u001b[0m\u001b[0;32m   3772\u001b[0m         \u001b[1;32melse\u001b[0m\u001b[1;33m:\u001b[0m\u001b[1;33m\u001b[0m\u001b[0m\n\u001b[0;32m   3773\u001b[0m             \u001b[1;32mif\u001b[0m \u001b[0mon\u001b[0m \u001b[1;32mis\u001b[0m \u001b[1;32mnot\u001b[0m \u001b[0mNone\u001b[0m\u001b[1;33m:\u001b[0m\u001b[1;33m\u001b[0m\u001b[0m\n",
        "\u001b[1;32m/usr/lib/pymodules/python2.7/pandas/tools/merge.pyc\u001b[0m in \u001b[0;36mmerge\u001b[1;34m(left, right, how, on, left_on, right_on, left_index, right_index, sort, suffixes, copy)\u001b[0m\n\u001b[0;32m     31\u001b[0m                          \u001b[0mright_index\u001b[0m\u001b[1;33m=\u001b[0m\u001b[0mright_index\u001b[0m\u001b[1;33m,\u001b[0m \u001b[0msort\u001b[0m\u001b[1;33m=\u001b[0m\u001b[0msort\u001b[0m\u001b[1;33m,\u001b[0m \u001b[0msuffixes\u001b[0m\u001b[1;33m=\u001b[0m\u001b[0msuffixes\u001b[0m\u001b[1;33m,\u001b[0m\u001b[1;33m\u001b[0m\u001b[0m\n\u001b[0;32m     32\u001b[0m                          copy=copy)\n\u001b[1;32m---> 33\u001b[1;33m     \u001b[1;32mreturn\u001b[0m \u001b[0mop\u001b[0m\u001b[1;33m.\u001b[0m\u001b[0mget_result\u001b[0m\u001b[1;33m(\u001b[0m\u001b[1;33m)\u001b[0m\u001b[1;33m\u001b[0m\u001b[0m\n\u001b[0m\u001b[0;32m     34\u001b[0m \u001b[1;32mif\u001b[0m \u001b[0m__debug__\u001b[0m\u001b[1;33m:\u001b[0m \u001b[0mmerge\u001b[0m\u001b[1;33m.\u001b[0m\u001b[0m__doc__\u001b[0m \u001b[1;33m=\u001b[0m \u001b[0m_merge_doc\u001b[0m \u001b[1;33m%\u001b[0m \u001b[1;34m'\\nleft : DataFrame'\u001b[0m\u001b[1;33m\u001b[0m\u001b[0m\n\u001b[0;32m     35\u001b[0m \u001b[1;33m\u001b[0m\u001b[0m\n",
        "\u001b[1;32m/usr/lib/pymodules/python2.7/pandas/tools/merge.pyc\u001b[0m in \u001b[0;36mget_result\u001b[1;34m(self)\u001b[0m\n\u001b[0;32m    182\u001b[0m \u001b[1;33m\u001b[0m\u001b[0m\n\u001b[0;32m    183\u001b[0m         \u001b[1;31m# this is a bit kludgy\u001b[0m\u001b[1;33m\u001b[0m\u001b[1;33m\u001b[0m\u001b[0m\n\u001b[1;32m--> 184\u001b[1;33m         \u001b[0mldata\u001b[0m\u001b[1;33m,\u001b[0m \u001b[0mrdata\u001b[0m \u001b[1;33m=\u001b[0m \u001b[0mself\u001b[0m\u001b[1;33m.\u001b[0m\u001b[0m_get_merge_data\u001b[0m\u001b[1;33m(\u001b[0m\u001b[1;33m)\u001b[0m\u001b[1;33m\u001b[0m\u001b[0m\n\u001b[0m\u001b[0;32m    185\u001b[0m \u001b[1;33m\u001b[0m\u001b[0m\n\u001b[0;32m    186\u001b[0m         \u001b[1;31m# TODO: more efficiently handle group keys to avoid extra consolidation!\u001b[0m\u001b[1;33m\u001b[0m\u001b[1;33m\u001b[0m\u001b[0m\n",
        "\u001b[1;32m/usr/lib/pymodules/python2.7/pandas/tools/merge.pyc\u001b[0m in \u001b[0;36m_get_merge_data\u001b[1;34m(self)\u001b[0m\n\u001b[0;32m    272\u001b[0m         \u001b[0mlsuf\u001b[0m\u001b[1;33m,\u001b[0m \u001b[0mrsuf\u001b[0m \u001b[1;33m=\u001b[0m \u001b[0mself\u001b[0m\u001b[1;33m.\u001b[0m\u001b[0msuffixes\u001b[0m\u001b[1;33m\u001b[0m\u001b[0m\n\u001b[0;32m    273\u001b[0m         ldata, rdata = ldata._maybe_rename_join(rdata, lsuf, rsuf,\n\u001b[1;32m--> 274\u001b[1;33m                                                 copydata=False)\n\u001b[0m\u001b[0;32m    275\u001b[0m         \u001b[1;32mreturn\u001b[0m \u001b[0mldata\u001b[0m\u001b[1;33m,\u001b[0m \u001b[0mrdata\u001b[0m\u001b[1;33m\u001b[0m\u001b[0m\n\u001b[0;32m    276\u001b[0m \u001b[1;33m\u001b[0m\u001b[0m\n",
        "\u001b[1;32m/usr/lib/pymodules/python2.7/pandas/core/internals.pyc\u001b[0m in \u001b[0;36m_maybe_rename_join\u001b[1;34m(self, other, lsuffix, rsuffix, copydata)\u001b[0m\n\u001b[0;32m   1106\u001b[0m         \u001b[1;32mif\u001b[0m \u001b[0mlen\u001b[0m\u001b[1;33m(\u001b[0m\u001b[0mto_rename\u001b[0m\u001b[1;33m)\u001b[0m \u001b[1;33m>\u001b[0m \u001b[1;36m0\u001b[0m\u001b[1;33m:\u001b[0m\u001b[1;33m\u001b[0m\u001b[0m\n\u001b[0;32m   1107\u001b[0m             \u001b[1;32mif\u001b[0m \u001b[1;32mnot\u001b[0m \u001b[0mlsuffix\u001b[0m \u001b[1;32mand\u001b[0m \u001b[1;32mnot\u001b[0m \u001b[0mrsuffix\u001b[0m\u001b[1;33m:\u001b[0m\u001b[1;33m\u001b[0m\u001b[0m\n\u001b[1;32m-> 1108\u001b[1;33m                 \u001b[1;32mraise\u001b[0m \u001b[0mException\u001b[0m\u001b[1;33m(\u001b[0m\u001b[1;34m'columns overlap: %s'\u001b[0m \u001b[1;33m%\u001b[0m \u001b[0mto_rename\u001b[0m\u001b[1;33m)\u001b[0m\u001b[1;33m\u001b[0m\u001b[0m\n\u001b[0m\u001b[0;32m   1109\u001b[0m \u001b[1;33m\u001b[0m\u001b[0m\n\u001b[0;32m   1110\u001b[0m             \u001b[1;32mdef\u001b[0m \u001b[0mlrenamer\u001b[0m\u001b[1;33m(\u001b[0m\u001b[0mx\u001b[0m\u001b[1;33m)\u001b[0m\u001b[1;33m:\u001b[0m\u001b[1;33m\u001b[0m\u001b[0m\n",
        "\u001b[1;31mException\u001b[0m: columns overlap: array([0], dtype=int64)"
       ]
      }
     ],
     "prompt_number": 147
    },
    {
     "cell_type": "code",
     "collapsed": false,
     "input": [
      "defed"
     ],
     "language": "python",
     "metadata": {},
     "outputs": [
      {
       "html": [
        "<div style=\"max-height:1000px;max-width:1500px;overflow:auto;\">\n",
        "<table border=\"1\">\n",
        "  <thead>\n",
        "    <tr>\n",
        "      <th></th>\n",
        "      <th>0</th>\n",
        "    </tr>\n",
        "  </thead>\n",
        "  <tbody>\n",
        "    <tr>\n",
        "      <td><strong>author</strong></td>\n",
        "      <td>                                          hrystyna</td>\n",
        "    </tr>\n",
        "    <tr>\n",
        "      <td><strong>body</strong></td>\n",
        "      <td>  Anything at all is appreciated, very grateful :)</td>\n",
        "    </tr>\n",
        "    <tr>\n",
        "      <td><strong>created</strong></td>\n",
        "      <td>                                      1.417228e+09</td>\n",
        "    </tr>\n",
        "    <tr>\n",
        "      <td><strong>example</strong></td>\n",
        "      <td>                                           wcmckee</td>\n",
        "    </tr>\n",
        "    <tr>\n",
        "      <td><strong>replies</strong></td>\n",
        "      <td>                                                []</td>\n",
        "    </tr>\n",
        "    <tr>\n",
        "      <td><strong>title</strong></td>\n",
        "      <td> My boyfriend and me at the maidan in Kyiv, Januar</td>\n",
        "    </tr>\n",
        "    <tr>\n",
        "      <td><strong>url</strong></td>\n",
        "      <td>                    http://i.imgur.com/j8Ar4In.jpg</td>\n",
        "    </tr>\n",
        "  </tbody>\n",
        "</table>\n",
        "</div>"
       ],
       "metadata": {},
       "output_type": "pyout",
       "prompt_number": 79,
       "text": [
        "                                                         0\n",
        "author                                            hrystyna\n",
        "body      Anything at all is appreciated, very grateful :)\n",
        "created                                       1.417228e+09\n",
        "example                                            wcmckee\n",
        "replies                                                 []\n",
        "title    My boyfriend and me at the maidan in Kyiv, Januar\n",
        "url                         http://i.imgur.com/j8Ar4In.jpg"
       ]
      }
     ],
     "prompt_number": 79
    },
    {
     "cell_type": "code",
     "collapsed": false,
     "input": [
      "defhtml = defed.to_html()"
     ],
     "language": "python",
     "metadata": {},
     "outputs": [],
     "prompt_number": 84
    },
    {
     "cell_type": "code",
     "collapsed": false,
     "input": [
      "wrhtm = open('index.html', 'w')\n",
      "wrhtm.write(defhtml)\n",
      "wrhtm.close()"
     ],
     "language": "python",
     "metadata": {},
     "outputs": [],
     "prompt_number": 86
    },
    {
     "cell_type": "code",
     "collapsed": false,
     "input": [
      "cat index.html"
     ],
     "language": "python",
     "metadata": {},
     "outputs": [
      {
       "output_type": "stream",
       "stream": "stdout",
       "text": [
        "<table border=\"1\">\r\n",
        "  <thead>\r\n",
        "    <tr>\r\n",
        "      <th></th>\r\n",
        "      <th>0</th>\r\n",
        "    </tr>\r\n",
        "  </thead>\r\n",
        "  <tbody>\r\n",
        "    <tr>\r\n",
        "      <td><strong>author</strong></td>\r\n",
        "      <td>                                          hrystyna</td>\r\n",
        "    </tr>\r\n",
        "    <tr>\r\n",
        "      <td><strong>body</strong></td>\r\n",
        "      <td>  Anything at all is appreciated, very grateful :)</td>\r\n",
        "    </tr>\r\n",
        "    <tr>\r\n",
        "      <td><strong>created</strong></td>\r\n",
        "      <td>                                      1.417228e+09</td>\r\n",
        "    </tr>\r\n",
        "    <tr>\r\n",
        "      <td><strong>example</strong></td>\r\n",
        "      <td>                                           wcmckee</td>\r\n",
        "    </tr>\r\n",
        "    <tr>\r\n",
        "      <td><strong>replies</strong></td>\r\n",
        "      <td>                                                []</td>\r\n",
        "    </tr>\r\n",
        "    <tr>\r\n",
        "      <td><strong>title</strong></td>\r\n",
        "      <td> My boyfriend and me at the maidan in Kyiv, Januar</td>\r\n",
        "    </tr>\r\n",
        "    <tr>\r\n",
        "      <td><strong>url</strong></td>\r\n",
        "      <td>                    http://i.imgur.com/j8Ar4In.jpg</td>\r\n",
        "    </tr>\r\n",
        "  </tbody>\r\n",
        "</table>"
       ]
      }
     ],
     "prompt_number": 88
    },
    {
     "cell_type": "code",
     "collapsed": false,
     "input": [],
     "language": "python",
     "metadata": {},
     "outputs": []
    }
   ],
   "metadata": {}
  }
 ]
}