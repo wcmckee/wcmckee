{
 "metadata": {
  "name": "",
  "signature": "sha256:632d8b03bf6aeec28146ac340d3107c50407c14161f9957355f183e2e733a889"
 },
 "nbformat": 3,
 "nbformat_minor": 0,
 "worksheets": [
  {
   "cells": [
    {
     "cell_type": "markdown",
     "metadata": {},
     "source": [
      "<h1>Reddit Gets Drawn Snatch Script</h1>\n",
      "\n",
      "Creates the website redditgetsdrawnrecentreference. It contains the 25 most recent posts on r/redditgetsdrawn. title, image url, and username\n",
      "\n",
      "TODO:\n",
      "Contains artwork replies to each thread\n",
      "\n",
      "This is a Python script that takes data from reddit and posts it to another subreddit. It also creates a html file with the images embed into. The images are the most recent 25 on r/redditgetsdrawn.\n",
      "\n",
      "The script returns the comments from the most recent 25 posts along with the comments of comments.\n",
      "\n",
      "Pandas is used to append everything into a series and DataFrame. \n",
      "The pandas allows youto easily append these together. \n",
      "\n",
      "get all artwork and append into reference image -> \n",
      "artwork. \n",
      "\n",
      "Generate sites again.\n",
      "\n"
     ]
    },
    {
     "cell_type": "markdown",
     "metadata": {},
     "source": [
      "RedditGetsDrawn Snatch\n",
      " \n",
      "This is a Python script that takes data from reddit and posts it to another subreddit. It also creates a html file with the images embed into. The images are the most recent 25 on r/redditgetsdrawn.\n",
      " \n",
      "\n",
      "<markdowncell>\n",
      "\n",
      "TODO\n",
      " \n",
      "submit art to users via website\n",
      " \n",
      "fix image sizes (need to scale down to 550px)\n",
      " \n",
      "Save to server rather than imgur\n",
      " \n",
      "Archieve, snapshots of rgd\n",
      " \n",
      "more artcontrol\n",
      " \n",
      "itwillbemine comments to html - currently being saved in contact \n",
      " \n",
      "work on css, div up page, title, side, body, fo\n",
      "\n",
      "update twitter with ONE IMAGE and announce that the list has been updated.\n",
      " \n",
      "write blog post and submits to artcontroldrawsyou/blog \n",
      " \n",
      "gets sticked post on reddit\n",
      " \n",
      "delete about/contact page and have on all same page. can still have link to blog. \n",
      "about \n",
      "contact etc... along the top.\n",
      "other sections\n",
      " \n",
      "post images to blog for archieve - save body to wcmckee.com/blog - md format?\n",
      " \n",
      "nikola install - build site.\n",
      " \n",
      "cronjob to update site ever ?? hours? 4?\n",
      " \n",
      "photos section: latest 25 photos submitted to redditgetsdrawn.\n",
      "art section: latest 25 art submitted to redditgetsdrawn. \n",
      "\n",
      "cleanup code \n",
      "\n",
      "import pandas into it and removed things i dont need like dominate"
     ]
    },
    {
     "cell_type": "code",
     "collapsed": false,
     "input": [
      "import os\n",
      "import random\n",
      "import requests\n",
      "from bs4 import BeautifulSoup\n",
      "import re\n",
      "import json\n",
      "import time\n",
      "import praw\n",
      "import dominate\n",
      "from dominate.tags import *\n",
      "from time import gmtime, strftime\n",
      "#import nose\n",
      "#import unittest\n",
      "import numpy as np\n",
      "import pandas as pd\n",
      "from pandas import *"
     ],
     "language": "python",
     "metadata": {},
     "outputs": [],
     "prompt_number": 1
    },
    {
     "cell_type": "code",
     "collapsed": false,
     "input": [
      "chdira = ('/home/wcmckee/artcontroldrawsyou')\n",
      "os.chdir(chdira)"
     ],
     "language": "python",
     "metadata": {},
     "outputs": [],
     "prompt_number": 2
    },
    {
     "cell_type": "code",
     "collapsed": false,
     "input": [
      "r = praw.Reddit(user_agent='rgdsnatch')\n",
      "\n",
      "# <codecell>\n",
      "\n",
      "#r.login('artcontrol', 'taylor123vag!')\n",
      "\n",
      "# <codecell>\n",
      "\n",
      "rd = r.get_subreddit('redditgetsdrawn')\n",
      "\n",
      "# <codecell>\n",
      "\n",
      "subz = rd.get_hot().next()\n",
      "istit = (subz.title)\n",
      "istxt = (subz.selftext_html)\n",
      "istick = (subz.stickied)\n",
      "\n",
      "rdnewz = rd.get_new()\n",
      "\n",
      "rdnew = []"
     ],
     "language": "python",
     "metadata": {},
     "outputs": [
      {
       "ename": "ConnectionError",
       "evalue": "('Connection aborted.', gaierror(-3, 'Temporary failure in name resolution'))",
       "output_type": "pyerr",
       "traceback": [
        "\u001b[1;31m---------------------------------------------------------------------------\u001b[0m\n\u001b[1;31mConnectionError\u001b[0m                           Traceback (most recent call last)",
        "\u001b[1;32m<ipython-input-3-bd8c7bbb7df4>\u001b[0m in \u001b[0;36m<module>\u001b[1;34m()\u001b[0m\n\u001b[0;32m     11\u001b[0m \u001b[1;31m# <codecell>\u001b[0m\u001b[1;33m\u001b[0m\u001b[1;33m\u001b[0m\u001b[0m\n\u001b[0;32m     12\u001b[0m \u001b[1;33m\u001b[0m\u001b[0m\n\u001b[1;32m---> 13\u001b[1;33m \u001b[0msubz\u001b[0m \u001b[1;33m=\u001b[0m \u001b[0mrd\u001b[0m\u001b[1;33m.\u001b[0m\u001b[0mget_hot\u001b[0m\u001b[1;33m(\u001b[0m\u001b[1;33m)\u001b[0m\u001b[1;33m.\u001b[0m\u001b[0mnext\u001b[0m\u001b[1;33m(\u001b[0m\u001b[1;33m)\u001b[0m\u001b[1;33m\u001b[0m\u001b[0m\n\u001b[0m\u001b[0;32m     14\u001b[0m \u001b[0mistit\u001b[0m \u001b[1;33m=\u001b[0m \u001b[1;33m(\u001b[0m\u001b[0msubz\u001b[0m\u001b[1;33m.\u001b[0m\u001b[0mtitle\u001b[0m\u001b[1;33m)\u001b[0m\u001b[1;33m\u001b[0m\u001b[0m\n\u001b[0;32m     15\u001b[0m \u001b[0mistxt\u001b[0m \u001b[1;33m=\u001b[0m \u001b[1;33m(\u001b[0m\u001b[0msubz\u001b[0m\u001b[1;33m.\u001b[0m\u001b[0mselftext_html\u001b[0m\u001b[1;33m)\u001b[0m\u001b[1;33m\u001b[0m\u001b[0m\n",
        "\u001b[1;32m/usr/local/lib/python2.7/dist-packages/praw/__init__.pyc\u001b[0m in \u001b[0;36mget_content\u001b[1;34m(self, url, params, limit, place_holder, root_field, thing_field, after_field, _use_oauth, object_filter)\u001b[0m\n\u001b[0;32m    478\u001b[0m                 \u001b[0mself\u001b[0m\u001b[1;33m.\u001b[0m\u001b[0m_use_oauth\u001b[0m \u001b[1;33m=\u001b[0m \u001b[0m_use_oauth\u001b[0m  \u001b[1;31m# pylint: disable-msg=W0201\u001b[0m\u001b[1;33m\u001b[0m\u001b[0m\n\u001b[0;32m    479\u001b[0m             \u001b[1;32mtry\u001b[0m\u001b[1;33m:\u001b[0m\u001b[1;33m\u001b[0m\u001b[0m\n\u001b[1;32m--> 480\u001b[1;33m                 \u001b[0mpage_data\u001b[0m \u001b[1;33m=\u001b[0m \u001b[0mself\u001b[0m\u001b[1;33m.\u001b[0m\u001b[0mrequest_json\u001b[0m\u001b[1;33m(\u001b[0m\u001b[0murl\u001b[0m\u001b[1;33m,\u001b[0m \u001b[0mparams\u001b[0m\u001b[1;33m=\u001b[0m\u001b[0mparams\u001b[0m\u001b[1;33m)\u001b[0m\u001b[1;33m\u001b[0m\u001b[0m\n\u001b[0m\u001b[0;32m    481\u001b[0m                 \u001b[1;32mif\u001b[0m \u001b[0mobject_filter\u001b[0m\u001b[1;33m:\u001b[0m\u001b[1;33m\u001b[0m\u001b[0m\n\u001b[0;32m    482\u001b[0m                     \u001b[0mpage_data\u001b[0m \u001b[1;33m=\u001b[0m \u001b[0mpage_data\u001b[0m\u001b[1;33m[\u001b[0m\u001b[0mobject_filter\u001b[0m\u001b[1;33m]\u001b[0m\u001b[1;33m\u001b[0m\u001b[0m\n",
        "\u001b[1;32m/usr/local/lib/python2.7/dist-packages/praw/decorators.pyc\u001b[0m in \u001b[0;36mwrapped\u001b[1;34m(reddit_session, *args, **kwargs)\u001b[0m\n\u001b[0;32m    159\u001b[0m     \u001b[1;33m@\u001b[0m\u001b[0mwraps\u001b[0m\u001b[1;33m(\u001b[0m\u001b[0mfunction\u001b[0m\u001b[1;33m)\u001b[0m\u001b[1;33m\u001b[0m\u001b[0m\n\u001b[0;32m    160\u001b[0m     \u001b[1;32mdef\u001b[0m \u001b[0mwrapped\u001b[0m\u001b[1;33m(\u001b[0m\u001b[0mreddit_session\u001b[0m\u001b[1;33m,\u001b[0m \u001b[1;33m*\u001b[0m\u001b[0margs\u001b[0m\u001b[1;33m,\u001b[0m \u001b[1;33m**\u001b[0m\u001b[0mkwargs\u001b[0m\u001b[1;33m)\u001b[0m\u001b[1;33m:\u001b[0m\u001b[1;33m\u001b[0m\u001b[0m\n\u001b[1;32m--> 161\u001b[1;33m         \u001b[0mreturn_value\u001b[0m \u001b[1;33m=\u001b[0m \u001b[0mfunction\u001b[0m\u001b[1;33m(\u001b[0m\u001b[0mreddit_session\u001b[0m\u001b[1;33m,\u001b[0m \u001b[1;33m*\u001b[0m\u001b[0margs\u001b[0m\u001b[1;33m,\u001b[0m \u001b[1;33m**\u001b[0m\u001b[0mkwargs\u001b[0m\u001b[1;33m)\u001b[0m\u001b[1;33m\u001b[0m\u001b[0m\n\u001b[0m\u001b[0;32m    162\u001b[0m         \u001b[1;32mif\u001b[0m \u001b[0misinstance\u001b[0m\u001b[1;33m(\u001b[0m\u001b[0mreturn_value\u001b[0m\u001b[1;33m,\u001b[0m \u001b[0mdict\u001b[0m\u001b[1;33m)\u001b[0m\u001b[1;33m:\u001b[0m\u001b[1;33m\u001b[0m\u001b[0m\n\u001b[0;32m    163\u001b[0m             \u001b[1;32mif\u001b[0m \u001b[0mreturn_value\u001b[0m\u001b[1;33m.\u001b[0m\u001b[0mget\u001b[0m\u001b[1;33m(\u001b[0m\u001b[1;34m'error'\u001b[0m\u001b[1;33m)\u001b[0m \u001b[1;33m==\u001b[0m \u001b[1;36m304\u001b[0m\u001b[1;33m:\u001b[0m  \u001b[1;31m# Not modified exception\u001b[0m\u001b[1;33m\u001b[0m\u001b[0m\n",
        "\u001b[1;32m/usr/local/lib/python2.7/dist-packages/praw/__init__.pyc\u001b[0m in \u001b[0;36mrequest_json\u001b[1;34m(self, url, params, data, as_objects, retry_on_error)\u001b[0m\n\u001b[0;32m    517\u001b[0m             \u001b[0murl\u001b[0m \u001b[1;33m+=\u001b[0m \u001b[1;34m'.json'\u001b[0m\u001b[1;33m\u001b[0m\u001b[0m\n\u001b[0;32m    518\u001b[0m         \u001b[1;32mif\u001b[0m \u001b[0mretry_on_error\u001b[0m \u001b[1;32mis\u001b[0m \u001b[0mNone\u001b[0m\u001b[1;33m:\u001b[0m\u001b[1;33m\u001b[0m\u001b[0m\n\u001b[1;32m--> 519\u001b[1;33m             \u001b[0mresponse\u001b[0m \u001b[1;33m=\u001b[0m \u001b[0mself\u001b[0m\u001b[1;33m.\u001b[0m\u001b[0m_request\u001b[0m\u001b[1;33m(\u001b[0m\u001b[0murl\u001b[0m\u001b[1;33m,\u001b[0m \u001b[0mparams\u001b[0m\u001b[1;33m,\u001b[0m \u001b[0mdata\u001b[0m\u001b[1;33m)\u001b[0m\u001b[1;33m\u001b[0m\u001b[0m\n\u001b[0m\u001b[0;32m    520\u001b[0m         \u001b[1;32melse\u001b[0m\u001b[1;33m:\u001b[0m\u001b[1;33m\u001b[0m\u001b[0m\n\u001b[0;32m    521\u001b[0m             response = self._request(url, params, data,\n",
        "\u001b[1;32m/usr/local/lib/python2.7/dist-packages/praw/__init__.pyc\u001b[0m in \u001b[0;36m_request\u001b[1;34m(self, url, params, data, files, auth, timeout, raw_response, retry_on_error)\u001b[0m\n\u001b[0;32m    380\u001b[0m         \u001b[1;32mwhile\u001b[0m \u001b[0mTrue\u001b[0m\u001b[1;33m:\u001b[0m\u001b[1;33m\u001b[0m\u001b[0m\n\u001b[0;32m    381\u001b[0m             \u001b[1;32mtry\u001b[0m\u001b[1;33m:\u001b[0m\u001b[1;33m\u001b[0m\u001b[0m\n\u001b[1;32m--> 382\u001b[1;33m                 \u001b[0mresponse\u001b[0m \u001b[1;33m=\u001b[0m \u001b[0mhandle_redirect\u001b[0m\u001b[1;33m(\u001b[0m\u001b[1;33m)\u001b[0m\u001b[1;33m\u001b[0m\u001b[0m\n\u001b[0m\u001b[0;32m    383\u001b[0m                 \u001b[0m_raise_response_exceptions\u001b[0m\u001b[1;33m(\u001b[0m\u001b[0mresponse\u001b[0m\u001b[1;33m)\u001b[0m\u001b[1;33m\u001b[0m\u001b[0m\n\u001b[0;32m    384\u001b[0m                 \u001b[0mself\u001b[0m\u001b[1;33m.\u001b[0m\u001b[0mhttp\u001b[0m\u001b[1;33m.\u001b[0m\u001b[0mcookies\u001b[0m\u001b[1;33m.\u001b[0m\u001b[0mupdate\u001b[0m\u001b[1;33m(\u001b[0m\u001b[0mresponse\u001b[0m\u001b[1;33m.\u001b[0m\u001b[0mcookies\u001b[0m\u001b[1;33m)\u001b[0m\u001b[1;33m\u001b[0m\u001b[0m\n",
        "\u001b[1;32m/usr/local/lib/python2.7/dist-packages/praw/__init__.pyc\u001b[0m in \u001b[0;36mhandle_redirect\u001b[1;34m()\u001b[0m\n\u001b[0;32m    353\u001b[0m                 response = self.handler.request(request=request.prepare(),\n\u001b[0;32m    354\u001b[0m                                                 \u001b[0mproxies\u001b[0m\u001b[1;33m=\u001b[0m\u001b[0mself\u001b[0m\u001b[1;33m.\u001b[0m\u001b[0mhttp\u001b[0m\u001b[1;33m.\u001b[0m\u001b[0mproxies\u001b[0m\u001b[1;33m,\u001b[0m\u001b[1;33m\u001b[0m\u001b[0m\n\u001b[1;32m--> 355\u001b[1;33m                                                 timeout=timeout, **kwargs)\n\u001b[0m\u001b[0;32m    356\u001b[0m                 \u001b[0murl\u001b[0m \u001b[1;33m=\u001b[0m \u001b[0m_raise_redirect_exceptions\u001b[0m\u001b[1;33m(\u001b[0m\u001b[0mresponse\u001b[0m\u001b[1;33m)\u001b[0m\u001b[1;33m\u001b[0m\u001b[0m\n\u001b[0;32m    357\u001b[0m             \u001b[1;32mreturn\u001b[0m \u001b[0mresponse\u001b[0m\u001b[1;33m\u001b[0m\u001b[0m\n",
        "\u001b[1;32m/usr/local/lib/python2.7/dist-packages/praw/handlers.pyc\u001b[0m in \u001b[0;36mwrapped\u001b[1;34m(cls, _cache_key, _cache_ignore, _cache_timeout, **kwargs)\u001b[0m\n\u001b[0;32m    134\u001b[0m             \u001b[1;31m# assumption only one request to a domain can be made at a\u001b[0m\u001b[1;33m\u001b[0m\u001b[1;33m\u001b[0m\u001b[0m\n\u001b[0;32m    135\u001b[0m             \u001b[1;31m# time), there isn't a better way to handle this.\u001b[0m\u001b[1;33m\u001b[0m\u001b[1;33m\u001b[0m\u001b[0m\n\u001b[1;32m--> 136\u001b[1;33m             \u001b[0mresult\u001b[0m \u001b[1;33m=\u001b[0m \u001b[0mfunction\u001b[0m\u001b[1;33m(\u001b[0m\u001b[0mcls\u001b[0m\u001b[1;33m,\u001b[0m \u001b[1;33m**\u001b[0m\u001b[0mkwargs\u001b[0m\u001b[1;33m)\u001b[0m\u001b[1;33m\u001b[0m\u001b[0m\n\u001b[0m\u001b[0;32m    137\u001b[0m             \u001b[1;31m# The handlers don't call `raise_for_status` so we need to ignore\u001b[0m\u001b[1;33m\u001b[0m\u001b[1;33m\u001b[0m\u001b[0m\n\u001b[0;32m    138\u001b[0m             \u001b[1;31m# status codes that will result in an exception that should not be\u001b[0m\u001b[1;33m\u001b[0m\u001b[1;33m\u001b[0m\u001b[0m\n",
        "\u001b[1;32m/usr/local/lib/python2.7/dist-packages/praw/handlers.pyc\u001b[0m in \u001b[0;36mwrapped\u001b[1;34m(cls, _rate_domain, _rate_delay, **kwargs)\u001b[0m\n\u001b[0;32m     53\u001b[0m                     \u001b[0mtime\u001b[0m\u001b[1;33m.\u001b[0m\u001b[0msleep\u001b[0m\u001b[1;33m(\u001b[0m\u001b[0mdelay\u001b[0m\u001b[1;33m)\u001b[0m\u001b[1;33m\u001b[0m\u001b[0m\n\u001b[0;32m     54\u001b[0m                 \u001b[0mlock_last\u001b[0m\u001b[1;33m[\u001b[0m\u001b[1;36m1\u001b[0m\u001b[1;33m]\u001b[0m \u001b[1;33m=\u001b[0m \u001b[0mnow\u001b[0m\u001b[1;33m\u001b[0m\u001b[0m\n\u001b[1;32m---> 55\u001b[1;33m                 \u001b[1;32mreturn\u001b[0m \u001b[0mfunction\u001b[0m\u001b[1;33m(\u001b[0m\u001b[0mcls\u001b[0m\u001b[1;33m,\u001b[0m \u001b[1;33m**\u001b[0m\u001b[0mkwargs\u001b[0m\u001b[1;33m)\u001b[0m\u001b[1;33m\u001b[0m\u001b[0m\n\u001b[0m\u001b[0;32m     56\u001b[0m         \u001b[1;32mreturn\u001b[0m \u001b[0mwrapped\u001b[0m\u001b[1;33m\u001b[0m\u001b[0m\n\u001b[0;32m     57\u001b[0m \u001b[1;33m\u001b[0m\u001b[0m\n",
        "\u001b[1;32m/usr/local/lib/python2.7/dist-packages/praw/handlers.pyc\u001b[0m in \u001b[0;36mrequest\u001b[1;34m(self, request, proxies, timeout, **_)\u001b[0m\n\u001b[0;32m     89\u001b[0m         \"\"\"\n\u001b[0;32m     90\u001b[0m         return self.http.send(request, proxies=proxies, timeout=timeout,\n\u001b[1;32m---> 91\u001b[1;33m                               allow_redirects=False)\n\u001b[0m\u001b[0;32m     92\u001b[0m RateLimitHandler.request = RateLimitHandler.rate_limit(\n\u001b[0;32m     93\u001b[0m     RateLimitHandler.request)\n",
        "\u001b[1;32m/usr/local/lib/python2.7/dist-packages/requests/sessions.pyc\u001b[0m in \u001b[0;36msend\u001b[1;34m(self, request, **kwargs)\u001b[0m\n\u001b[0;32m    571\u001b[0m \u001b[1;33m\u001b[0m\u001b[0m\n\u001b[0;32m    572\u001b[0m         \u001b[1;31m# Send the request\u001b[0m\u001b[1;33m\u001b[0m\u001b[1;33m\u001b[0m\u001b[0m\n\u001b[1;32m--> 573\u001b[1;33m         \u001b[0mr\u001b[0m \u001b[1;33m=\u001b[0m \u001b[0madapter\u001b[0m\u001b[1;33m.\u001b[0m\u001b[0msend\u001b[0m\u001b[1;33m(\u001b[0m\u001b[0mrequest\u001b[0m\u001b[1;33m,\u001b[0m \u001b[1;33m**\u001b[0m\u001b[0mkwargs\u001b[0m\u001b[1;33m)\u001b[0m\u001b[1;33m\u001b[0m\u001b[0m\n\u001b[0m\u001b[0;32m    574\u001b[0m \u001b[1;33m\u001b[0m\u001b[0m\n\u001b[0;32m    575\u001b[0m         \u001b[1;31m# Total elapsed time of the request (approximately)\u001b[0m\u001b[1;33m\u001b[0m\u001b[1;33m\u001b[0m\u001b[0m\n",
        "\u001b[1;32m/usr/local/lib/python2.7/dist-packages/requests/adapters.pyc\u001b[0m in \u001b[0;36msend\u001b[1;34m(self, request, stream, timeout, verify, cert, proxies)\u001b[0m\n\u001b[0;32m    413\u001b[0m \u001b[1;33m\u001b[0m\u001b[0m\n\u001b[0;32m    414\u001b[0m         \u001b[1;32mexcept\u001b[0m \u001b[1;33m(\u001b[0m\u001b[0mProtocolError\u001b[0m\u001b[1;33m,\u001b[0m \u001b[0msocket\u001b[0m\u001b[1;33m.\u001b[0m\u001b[0merror\u001b[0m\u001b[1;33m)\u001b[0m \u001b[1;32mas\u001b[0m \u001b[0merr\u001b[0m\u001b[1;33m:\u001b[0m\u001b[1;33m\u001b[0m\u001b[0m\n\u001b[1;32m--> 415\u001b[1;33m             \u001b[1;32mraise\u001b[0m \u001b[0mConnectionError\u001b[0m\u001b[1;33m(\u001b[0m\u001b[0merr\u001b[0m\u001b[1;33m,\u001b[0m \u001b[0mrequest\u001b[0m\u001b[1;33m=\u001b[0m\u001b[0mrequest\u001b[0m\u001b[1;33m)\u001b[0m\u001b[1;33m\u001b[0m\u001b[0m\n\u001b[0m\u001b[0;32m    416\u001b[0m \u001b[1;33m\u001b[0m\u001b[0m\n\u001b[0;32m    417\u001b[0m         \u001b[1;32mexcept\u001b[0m \u001b[0mMaxRetryError\u001b[0m \u001b[1;32mas\u001b[0m \u001b[0me\u001b[0m\u001b[1;33m:\u001b[0m\u001b[1;33m\u001b[0m\u001b[0m\n",
        "\u001b[1;31mConnectionError\u001b[0m: ('Connection aborted.', gaierror(-3, 'Temporary failure in name resolution'))"
       ]
      }
     ],
     "prompt_number": 3
    },
    {
     "cell_type": "code",
     "collapsed": false,
     "input": [
      "reddraw = praw.Reddit(user_agent='rgdsnatch')"
     ],
     "language": "python",
     "metadata": {},
     "outputs": []
    },
    {
     "cell_type": "code",
     "collapsed": false,
     "input": [
      "getrddraw = reddraw.get_subreddit('redditgetsdrawn')"
     ],
     "language": "python",
     "metadata": {},
     "outputs": []
    },
    {
     "cell_type": "code",
     "collapsed": false,
     "input": [
      "decict = dict()"
     ],
     "language": "python",
     "metadata": {},
     "outputs": []
    },
    {
     "cell_type": "code",
     "collapsed": false,
     "input": [
      "subz = getrddraw.get_new()"
     ],
     "language": "python",
     "metadata": {},
     "outputs": []
    },
    {
     "cell_type": "code",
     "collapsed": false,
     "input": [
      "#class TestRedditFunction(unittest.TestCase):\n",
      "    \n",
      "#    def setUp(self):\n",
      "#        self.seq = reddraw.get_subreddit('redditgetsdrawn')\n",
      "        \n",
      "#    def testredit(self):\n",
      "#        drawnew('redditgetsdrawn') "
     ],
     "language": "python",
     "metadata": {},
     "outputs": []
    },
    {
     "cell_type": "code",
     "collapsed": false,
     "input": [
      "def drawnew(subred):\n",
      "    getrdraw = reddraw.get_subreddit(subred)\n",
      "    return getrdraw\n",
      "\n",
      "def apred(deciz):\n",
      "    \n",
      "    return (deciz)"
     ],
     "language": "python",
     "metadata": {},
     "outputs": []
    },
    {
     "cell_type": "code",
     "collapsed": false,
     "input": [
      "apred('omg')"
     ],
     "language": "python",
     "metadata": {},
     "outputs": [
      {
       "ename": "NameError",
       "evalue": "name 'apred' is not defined",
       "output_type": "pyerr",
       "traceback": [
        "\u001b[1;31m---------------------------------------------------------------------------\u001b[0m\n\u001b[1;31mNameError\u001b[0m                                 Traceback (most recent call last)",
        "\u001b[1;32m<ipython-input-4-7e45b1d89c13>\u001b[0m in \u001b[0;36m<module>\u001b[1;34m()\u001b[0m\n\u001b[1;32m----> 1\u001b[1;33m \u001b[0mapred\u001b[0m\u001b[1;33m(\u001b[0m\u001b[1;34m'omg'\u001b[0m\u001b[1;33m)\u001b[0m\u001b[1;33m\u001b[0m\u001b[0m\n\u001b[0m",
        "\u001b[1;31mNameError\u001b[0m: name 'apred' is not defined"
       ]
      }
     ],
     "prompt_number": 4
    },
    {
     "cell_type": "code",
     "collapsed": false,
     "input": [
      "rdrws = drawnew('redditgetsdrawn')"
     ],
     "language": "python",
     "metadata": {},
     "outputs": [
      {
       "ename": "NameError",
       "evalue": "name 'drawnew' is not defined",
       "output_type": "pyerr",
       "traceback": [
        "\u001b[1;31m---------------------------------------------------------------------------\u001b[0m\n\u001b[1;31mNameError\u001b[0m                                 Traceback (most recent call last)",
        "\u001b[1;32m<ipython-input-5-d0e313c9aeb2>\u001b[0m in \u001b[0;36m<module>\u001b[1;34m()\u001b[0m\n\u001b[1;32m----> 1\u001b[1;33m \u001b[0mrdrws\u001b[0m \u001b[1;33m=\u001b[0m \u001b[0mdrawnew\u001b[0m\u001b[1;33m(\u001b[0m\u001b[1;34m'redditgetsdrawn'\u001b[0m\u001b[1;33m)\u001b[0m\u001b[1;33m\u001b[0m\u001b[0m\n\u001b[0m",
        "\u001b[1;31mNameError\u001b[0m: name 'drawnew' is not defined"
       ]
      }
     ],
     "prompt_number": 5
    },
    {
     "cell_type": "code",
     "collapsed": false,
     "input": [
      "rtohr = rdrws.get_controversial_from_all()"
     ],
     "language": "python",
     "metadata": {},
     "outputs": [
      {
       "ename": "NameError",
       "evalue": "name 'rdrws' is not defined",
       "output_type": "pyerr",
       "traceback": [
        "\u001b[1;31m---------------------------------------------------------------------------\u001b[0m\n\u001b[1;31mNameError\u001b[0m                                 Traceback (most recent call last)",
        "\u001b[1;32m<ipython-input-6-3197d4b61113>\u001b[0m in \u001b[0;36m<module>\u001b[1;34m()\u001b[0m\n\u001b[1;32m----> 1\u001b[1;33m \u001b[0mrtohr\u001b[0m \u001b[1;33m=\u001b[0m \u001b[0mrdrws\u001b[0m\u001b[1;33m.\u001b[0m\u001b[0mget_controversial_from_all\u001b[0m\u001b[1;33m(\u001b[0m\u001b[1;33m)\u001b[0m\u001b[1;33m\u001b[0m\u001b[0m\n\u001b[0m",
        "\u001b[1;31mNameError\u001b[0m: name 'rdrws' is not defined"
       ]
      }
     ],
     "prompt_number": 6
    },
    {
     "cell_type": "code",
     "collapsed": false,
     "input": [
      "for imgz in rtohr:\n",
      "    #print imgz.selftext\n",
      "    print imgz.num_comments"
     ],
     "language": "python",
     "metadata": {},
     "outputs": [
      {
       "output_type": "stream",
       "stream": "stdout",
       "text": [
        "6\n",
        "33\n",
        "26\n",
        "8\n",
        "71\n",
        "53\n",
        "7\n",
        "23\n",
        "61\n",
        "6\n",
        "20\n",
        "59\n",
        "58\n",
        "10\n",
        "5\n",
        "14\n",
        "3\n",
        "21\n",
        "7\n",
        "26\n",
        "56\n",
        "37\n",
        "4\n",
        "15\n",
        "2\n"
       ]
      }
     ],
     "prompt_number": 29
    },
    {
     "cell_type": "code",
     "collapsed": false,
     "input": [
      "rdnewz = getrddraw.get_new()\n",
      "\n",
      "# <codecell>\n",
      "\n",
      "rdnew = []\n",
      "\n",
      "# <codecell>\n",
      "\n",
      "rdnew\n",
      "\n",
      "# <codecell>\n",
      "\n",
      "for uz in rdnewz:\n",
      "    #print uz\n",
      "    rdnew.append(uz)\n"
     ],
     "language": "python",
     "metadata": {},
     "outputs": [],
     "prompt_number": 30
    },
    {
     "cell_type": "code",
     "collapsed": false,
     "input": [
      "datelis = []\n",
      "refdic = {}\n",
      "rgdef = dict()\n",
      "comdefz = []\n"
     ],
     "language": "python",
     "metadata": {},
     "outputs": [],
     "prompt_number": 31
    },
    {
     "cell_type": "code",
     "collapsed": false,
     "input": [
      "for rdz in rdnew:\n",
      "    print rdz.name\n",
      "    print rdz.title\n",
      "    print rdz.url\n",
      "    print rdz.author\n",
      "    print rdz.secure_media\n",
      "    print rdz.num_comments\n",
      "    print rdz.comments\n",
      "    comdefz.append(rdz.comments)\n",
      "    datelis.append(rdz.title)\n",
      "    datelis.append(rdz.url)\n",
      "    datelis.append(rdz.author)\n",
      "    comdict = {'comtxt':rdz.comments}\n",
      "    rgdef.update({rdz.author: rdz.url})\n",
      "    pandic = DataFrame(rdz.json_dict)\n",
      "    decict.update({'url':rdz.url})\n",
      "    decict.update({'title':rdz.title})\n",
      "    decict.update({'ups': rdz.ups})\n",
      "    decict.update({'downs': rdz.downs})"
     ],
     "language": "python",
     "metadata": {},
     "outputs": [
      {
       "output_type": "stream",
       "stream": "stdout",
       "text": [
        "t3_2pp1sn\n",
        "Could anyone draw my girlfriend and I on our first anniversary? All styles welcome!\n",
        "http://imgur.com/e3TO8WY\n",
        "RunOttawa613\n",
        "None\n",
        "0\n",
        "[]"
       ]
      },
      {
       "output_type": "stream",
       "stream": "stdout",
       "text": [
        "\n",
        "t3_2ppl64\n",
        "This was our first date as an actual couple. I would love to frame an awesome drawing of this picture!\n",
        "http://imgur.com/Pxbfj7t\n",
        "labatomi\n",
        "None\n",
        "0\n",
        "[]"
       ]
      },
      {
       "output_type": "stream",
       "stream": "stdout",
       "text": [
        "\n",
        "t3_2pptx4\n",
        "Hello all, i was wondering if you could draw my grandparents! It is their 50th anniversary on 12/30 and i would love to have a drawing of this to bring them when i go out to visit next week.\n",
        "http://imgur.com/K8FaNZe\n",
        "youwinabagel\n",
        "None\n",
        "0\n",
        "[]"
       ]
      },
      {
       "output_type": "stream",
       "stream": "stdout",
       "text": [
        "\n",
        "t3_2pq5u8\n",
        "My mom and even better grandmom with my daughter. All styles appreciated.\n",
        "http://i.imgur.com/GwMlzuY.jpg\n",
        "THORGNASH\n",
        "None\n",
        "0\n",
        "[]"
       ]
      },
      {
       "output_type": "stream",
       "stream": "stdout",
       "text": [
        "\n",
        "t3_2pq60d\n",
        "Please feel free to draw me and my ridiculous bed head hair\n",
        "http://i.imgur.com/ADUwATv.jpg\n",
        "neszero\n",
        "None\n",
        "0\n",
        "[]"
       ]
      },
      {
       "output_type": "stream",
       "stream": "stdout",
       "text": [
        "\n",
        "t3_2ppesu\n",
        "I would absolutely love it if someone could draw up these photos for me. My friend told me about \"Redditgetsdrawn\" the other day and I just had to get it checked out. This album is pictures of my family\n",
        "http://imgur.com/a/ozPX2\n",
        "Salerno1717\n",
        "None\n",
        "0\n",
        "[]"
       ]
      },
      {
       "output_type": "stream",
       "stream": "stdout",
       "text": [
        "\n",
        "t3_2pplo2\n",
        "I'd really love it if someone could draw me and my boyfriend in a picture together :)\n",
        "http://imgur.com/a/4krBq\n",
        "LongDistanceGuyy\n",
        "None\n",
        "0\n",
        "[]"
       ]
      },
      {
       "output_type": "stream",
       "stream": "stdout",
       "text": [
        "\n",
        "t3_2pq98z\n",
        "The first time my pup meets Santa! Would anyone like to draw my puppy and me?\n",
        "https://i.imgur.com/mNLTYgb.jpg\n",
        "seahorseVT\n",
        "None\n",
        "0\n",
        "[]"
       ]
      },
      {
       "output_type": "stream",
       "stream": "stdout",
       "text": [
        "\n",
        "t3_2pptlj\n",
        "Can you guys draw my kid?\n",
        "http://i.imgur.com/jyS6XBA.jpg\n",
        "The_Beaner\n",
        "None\n",
        "0\n",
        "[]"
       ]
      },
      {
       "output_type": "stream",
       "stream": "stdout",
       "text": [
        "\n",
        "t3_2pps2w\n",
        "Anyone interested in drawing my pet birds. This is Reina. The album also has pics of Princess\n",
        "http://imgur.com/a/gehdT#1\n",
        "JoisofLife\n",
        "None\n",
        "0\n",
        "[]"
       ]
      },
      {
       "output_type": "stream",
       "stream": "stdout",
       "text": [
        "\n",
        "t3_2pouou\n",
        "RDG please draw our oldest son and our youngest son - any style welcome, go nuts!\n",
        "http://imgur.com/dYJaJKc\n",
        "MrsEvil\n",
        "None\n",
        "0\n",
        "[]"
       ]
      },
      {
       "output_type": "stream",
       "stream": "stdout",
       "text": [
        "\n",
        "t3_2povgd\n",
        "Just me and my puppy. Maybe a cool last minute Christmas gift for my boyfriend :)\n",
        "http://i.imgur.com/RItRgwA.jpg\n",
        "koalapants\n",
        "None\n",
        "0\n",
        "[]"
       ]
      },
      {
       "output_type": "stream",
       "stream": "stdout",
       "text": [
        "\n",
        "t3_2pozvh\n",
        "Would you please draw my brother and sis-in-law on their wedding day? They would love a this!\n",
        "http://imgur.com/zSTlTX1\n",
        "meetvirginia5\n",
        "None\n",
        "0\n",
        "[]"
       ]
      },
      {
       "output_type": "stream",
       "stream": "stdout",
       "text": [
        "\n",
        "t3_2poq79\n",
        "Could you draw me, enjoying December on Whitsunday Island, Australia? I'd love a Christmas hat. Thanks.\n",
        "http://imgur.com/hnKTHQq\n",
        "Mrq001\n",
        "None\n",
        "0\n",
        "[]"
       ]
      },
      {
       "output_type": "stream",
       "stream": "stdout",
       "text": [
        "\n",
        "t3_2pp9gr\n",
        "Anyone want to take a shot at drawing my girlfriend and I being silly?\n",
        "http://imgur.com/qkLpt8H\n",
        "reldritch\n",
        "None\n",
        "2\n",
        "[<praw.objects.Comment object at 0x1ab4c70>, <praw.objects.Comment object at 0x197bd10>]"
       ]
      },
      {
       "output_type": "stream",
       "stream": "stdout",
       "text": [
        "\n",
        "t3_2ppc0s\n",
        "Would anyone be willing to take a stab at drawing my little guy with these pumpkins? We would just love it!\n",
        "http://i.imgur.com/uYJlhhj.jpg\n",
        "clareedward\n",
        "None\n",
        "0\n",
        "[]"
       ]
      },
      {
       "output_type": "stream",
       "stream": "stdout",
       "text": [
        "\n",
        "t3_2ppikn\n",
        "My grandad cleaning the courtyard.\n",
        "http://imgur.com/NQltHha\n",
        "ssdesv\n",
        "None\n",
        "0\n",
        "[]"
       ]
      },
      {
       "output_type": "stream",
       "stream": "stdout",
       "text": [
        "\n",
        "t3_2pph1d\n",
        "could some of you talented artists draw your version of me and my girlfriend?\n",
        "http://imgur.com/aCU1Uha\n",
        "hannahgendron\n",
        "None\n",
        "0\n",
        "[]"
       ]
      },
      {
       "output_type": "stream",
       "stream": "stdout",
       "text": [
        "\n",
        "t3_2ppaty\n",
        "Would anyone be kind enough to draw my wife and daughter? Sorry for potato quality.\n",
        "http://i.imgur.com/p5zvZkg.jpeg\n",
        "dizzle67\n",
        "None\n",
        "0\n",
        "[]"
       ]
      },
      {
       "output_type": "stream",
       "stream": "stdout",
       "text": [
        "\n",
        "t3_2pp8b2\n",
        "This is one of my happiest moments, and I would love to see it through your artist eyes! Thank you!!\n",
        "http://imgur.com/B0J5Pox\n",
        "Gabbylovesdogs\n",
        "None\n",
        "0\n",
        "[]"
       ]
      },
      {
       "output_type": "stream",
       "stream": "stdout",
       "text": [
        "\n",
        "t3_2ppc11\n",
        "People always tell me i look like a viking, but a friendly viking. Please draw me as a friendly viking :)\n",
        "http://imgur.com/MYY9B2c\n",
        "rallemand3000\n",
        "None\n",
        "0\n",
        "[]"
       ]
      },
      {
       "output_type": "stream",
       "stream": "stdout",
       "text": [
        "\n",
        "t3_2ppcqw\n",
        "My happy boy!\n",
        "http://i.imgur.com/FJq12JX.jpg\n",
        "SomeMomThings\n",
        "None\n",
        "0\n",
        "[]"
       ]
      },
      {
       "output_type": "stream",
       "stream": "stdout",
       "text": [
        "\n",
        "t3_2ppmqr\n",
        "DRAW ME PLEASE!\n",
        "http://imgur.com/W1ddJGH\n",
        "stever712\n",
        "None\n",
        "0\n",
        "[]"
       ]
      },
      {
       "output_type": "stream",
       "stream": "stdout",
       "text": [
        "\n",
        "t3_2ppse6\n",
        "My girlfriend and her dog Molly\n",
        "http://imgur.com/ZCDDTz8\n",
        "bogdy92\n",
        "None\n",
        "0\n",
        "[]"
       ]
      },
      {
       "output_type": "stream",
       "stream": "stdout",
       "text": [
        "\n",
        "t3_2ppuu6\n",
        "This photo of my SO and I seems timeless - I'd love to see our moment through your eyes!\n",
        "http://i.imgur.com/57pjRa3.png\n",
        "khanbot\n",
        "None\n",
        "0\n",
        "[]"
       ]
      },
      {
       "output_type": "stream",
       "stream": "stdout",
       "text": [
        "\n"
       ]
      }
     ],
     "prompt_number": 32
    },
    {
     "cell_type": "code",
     "collapsed": false,
     "input": [
      "decict"
     ],
     "language": "python",
     "metadata": {},
     "outputs": [
      {
       "metadata": {},
       "output_type": "pyout",
       "prompt_number": 36,
       "text": [
        "{'downs': 0,\n",
        " 'title': u\"This photo of my SO and I seems timeless - I'd love to see our moment through your eyes!\",\n",
        " 'ups': 0,\n",
        " 'url': u'http://i.imgur.com/57pjRa3.png'}"
       ]
      }
     ],
     "prompt_number": 36
    },
    {
     "cell_type": "code",
     "collapsed": false,
     "input": [
      "pandic"
     ],
     "language": "python",
     "metadata": {},
     "outputs": [
      {
       "metadata": {},
       "output_type": "pyout",
       "prompt_number": 37,
       "text": [
        "Empty DataFrame\n",
        "Columns: array([], dtype=object)\n",
        "Index: array([], dtype=object)"
       ]
      }
     ],
     "prompt_number": 37
    },
    {
     "cell_type": "code",
     "collapsed": false,
     "input": [
      "comdict"
     ],
     "language": "python",
     "metadata": {},
     "outputs": [
      {
       "metadata": {},
       "output_type": "pyout",
       "prompt_number": 38,
       "text": [
        "{'comtxt': []}"
       ]
      }
     ],
     "prompt_number": 38
    },
    {
     "cell_type": "code",
     "collapsed": false,
     "input": [
      "comply = []"
     ],
     "language": "python",
     "metadata": {},
     "outputs": [],
     "prompt_number": 39
    },
    {
     "cell_type": "code",
     "collapsed": false,
     "input": [
      "fddict = dict()"
     ],
     "language": "python",
     "metadata": {},
     "outputs": [],
     "prompt_number": 40
    },
    {
     "cell_type": "code",
     "collapsed": false,
     "input": [
      "fdz.body"
     ],
     "language": "python",
     "metadata": {},
     "outputs": [
      {
       "metadata": {},
       "output_type": "pyout",
       "prompt_number": 41,
       "text": [
        "u\"I drew a couple of pictures for users here back when this sub was starting out. I've been gone a while and damn has this place grown! I'm amazed at the level of talent here, and I'd be honored if anyone takes the time to draw us.\\n\\nAny and all styles appreciated. :)\""
       ]
      }
     ],
     "prompt_number": 41
    },
    {
     "cell_type": "code",
     "collapsed": false,
     "input": [
      "for comaq in comdefz:\n",
      "    for fdz in comaq:\n",
      "        print fdz\n",
      "        print fdz.author\n",
      "        print fdz.created_utc\n",
      "        print fdz.replies\n",
      "        fddict.update({'combody': fdz.body})\n",
      "        fddict.update({'comauthor': fdz.author})\n",
      "        fddict.update({'comup': fdz.ups})\n",
      "        fddict.update({'comdown': fdz.downs})\n",
      "        \n",
      "        comply.append(fdz.replies)\n",
      "        decict.update({'created':fdz.created_utc})\n",
      "        decict.update({'author': fdz.author})\n",
      "        decict.update({'body':fdz.body})\n",
      "        decict.update({'replies':fdz.replies})"
     ],
     "language": "python",
     "metadata": {},
     "outputs": [
      {
       "output_type": "stream",
       "stream": "stdout",
       "text": [
        "I drew a couple of pictures for users here back when this sub was starting ou...\n",
        "reldritch\n",
        "1418925056.0\n",
        "[]\n",
        "you were fun to draw reldritch, but i had a tough time with your lady. Had a ...\n",
        "jaynewk\n",
        "1418946590.0\n",
        "[]\n"
       ]
      }
     ],
     "prompt_number": 42
    },
    {
     "cell_type": "code",
     "collapsed": false,
     "input": [
      "decict"
     ],
     "language": "python",
     "metadata": {},
     "outputs": [
      {
       "metadata": {},
       "output_type": "pyout",
       "prompt_number": 43,
       "text": [
        "{'author': Redditor(user_name='jaynewk'),\n",
        " 'body': u'you were fun to draw reldritch, but i had a tough time with your lady. Had a hard time with the kissy face... :) Oh well, it was a quick sketch. Might visit it with color, but here ya go.\\n\\nhttp://imgur.com/XHw5X6t',\n",
        " 'created': 1418946590.0,\n",
        " 'downs': 0,\n",
        " 'replies': [],\n",
        " 'title': u\"This photo of my SO and I seems timeless - I'd love to see our moment through your eyes!\",\n",
        " 'ups': 0,\n",
        " 'url': u'http://i.imgur.com/57pjRa3.png'}"
       ]
      }
     ],
     "prompt_number": 43
    },
    {
     "cell_type": "code",
     "collapsed": false,
     "input": [
      "fddict"
     ],
     "language": "python",
     "metadata": {},
     "outputs": [
      {
       "metadata": {},
       "output_type": "pyout",
       "prompt_number": 28,
       "text": [
        "{'comauthor': Redditor(user_name='flylike'),\n",
        " 'combody': u'[sketch](http://flylikesart.blogspot.no/2014/12/ulaceandvinegar.html)',\n",
        " 'comdown': 0,\n",
        " 'comup': 4}"
       ]
      }
     ],
     "prompt_number": 28
    },
    {
     "cell_type": "code",
     "collapsed": false,
     "input": [
      "qwedict = decict.items() + fddict.items()"
     ],
     "language": "python",
     "metadata": {},
     "outputs": [],
     "prompt_number": 29
    },
    {
     "cell_type": "code",
     "collapsed": false,
     "input": [
      "alldixz = dict()"
     ],
     "language": "python",
     "metadata": {},
     "outputs": [],
     "prompt_number": 30
    },
    {
     "cell_type": "code",
     "collapsed": false,
     "input": [
      "for qwpz in qwedict:\n",
      "    print qwpz\n",
      "    alldixz.update({qwpz: 'test'})"
     ],
     "language": "python",
     "metadata": {},
     "outputs": [
      {
       "ename": "NameError",
       "evalue": "name 'qwedict' is not defined",
       "output_type": "pyerr",
       "traceback": [
        "\u001b[1;31m---------------------------------------------------------------------------\u001b[0m\n\u001b[1;31mNameError\u001b[0m                                 Traceback (most recent call last)",
        "\u001b[1;32m<ipython-input-33-8348bf85f7e4>\u001b[0m in \u001b[0;36m<module>\u001b[1;34m()\u001b[0m\n\u001b[1;32m----> 1\u001b[1;33m \u001b[1;32mfor\u001b[0m \u001b[0mqwpz\u001b[0m \u001b[1;32min\u001b[0m \u001b[0mqwedict\u001b[0m\u001b[1;33m:\u001b[0m\u001b[1;33m\u001b[0m\u001b[0m\n\u001b[0m\u001b[0;32m      2\u001b[0m     \u001b[1;32mprint\u001b[0m \u001b[0mqwpz\u001b[0m\u001b[1;33m\u001b[0m\u001b[0m\n\u001b[0;32m      3\u001b[0m     \u001b[0malldixz\u001b[0m\u001b[1;33m.\u001b[0m\u001b[0mupdate\u001b[0m\u001b[1;33m(\u001b[0m\u001b[1;33m{\u001b[0m\u001b[0mqwpz\u001b[0m\u001b[1;33m:\u001b[0m \u001b[1;34m'test'\u001b[0m\u001b[1;33m}\u001b[0m\u001b[1;33m)\u001b[0m\u001b[1;33m\u001b[0m\u001b[0m\n",
        "\u001b[1;31mNameError\u001b[0m: name 'qwedict' is not defined"
       ]
      }
     ],
     "prompt_number": 33
    },
    {
     "cell_type": "code",
     "collapsed": false,
     "input": [
      "alldixz"
     ],
     "language": "python",
     "metadata": {},
     "outputs": []
    },
    {
     "cell_type": "code",
     "collapsed": false,
     "input": [
      "qwedict"
     ],
     "language": "python",
     "metadata": {},
     "outputs": []
    },
    {
     "cell_type": "code",
     "collapsed": false,
     "input": [
      "for coaz in comply:\n",
      "    print coaz\n",
      "    for coa in coaz:\n",
      "        print coa.body\n",
      "        print coa.author"
     ],
     "language": "python",
     "metadata": {},
     "outputs": []
    },
    {
     "cell_type": "code",
     "collapsed": false,
     "input": [
      "serz = Series(fddict)"
     ],
     "language": "python",
     "metadata": {},
     "outputs": []
    },
    {
     "cell_type": "code",
     "collapsed": false,
     "input": [
      "fddict"
     ],
     "language": "python",
     "metadata": {},
     "outputs": []
    },
    {
     "cell_type": "code",
     "collapsed": false,
     "input": [
      "fddict.keys()"
     ],
     "language": "python",
     "metadata": {},
     "outputs": []
    },
    {
     "cell_type": "code",
     "collapsed": false,
     "input": [
      "def extractlinks(html):\n",
      "    soup = BeautifulSoup(html)\n",
      "    anchors = soup.findAll('a')\n",
      "    links = []\n",
      "    for a in anchors:\n",
      "        links.append(a['href'])\n",
      "    return links"
     ],
     "language": "python",
     "metadata": {},
     "outputs": []
    },
    {
     "cell_type": "code",
     "collapsed": false,
     "input": [
      "cydict = fddict.values()"
     ],
     "language": "python",
     "metadata": {},
     "outputs": [],
     "prompt_number": 232
    },
    {
     "cell_type": "code",
     "collapsed": false,
     "input": [
      "for itz in cydict:\n",
      "    print itz   "
     ],
     "language": "python",
     "metadata": {},
     "outputs": [
      {
       "output_type": "stream",
       "stream": "stdout",
       "text": [
        "testblah\n",
        "danceswithshamans\n",
        "0\n",
        "I just got sketchbook for my tablet. I've never used a digital program for drawing before or used anything but pencils. Came out dif than what I was going for but I'll learn! Lol http://imgur.com/cYEO26e\n",
        "2\n"
       ]
      }
     ],
     "prompt_number": 233
    },
    {
     "cell_type": "code",
     "collapsed": false,
     "input": [
      "chedict = {'blah': 'testing'}"
     ],
     "language": "python",
     "metadata": {},
     "outputs": [],
     "prompt_number": 234
    },
    {
     "cell_type": "code",
     "collapsed": false,
     "input": [
      "#fixurl = BeautifulSoup(fddict.values())"
     ],
     "language": "python",
     "metadata": {},
     "outputs": [],
     "prompt_number": 235
    },
    {
     "cell_type": "code",
     "collapsed": false,
     "input": [
      "for coma in comdefz:\n",
      "    #print coma\n",
      "    #chedict.update({'first': coma})\n",
      "    for co in coma:\n",
      "        print co\n",
      "        chedict.update({co.author: co.body})"
     ],
     "language": "python",
     "metadata": {},
     "outputs": [
      {
       "output_type": "stream",
       "stream": "stdout",
       "text": [
        "[Oil on canvas](http://i.imgur.com/ddwDjyc.jpg)\n",
        "What a fun sense of scale! I hope you don't mind being a [flower](http://i.im...\n",
        "Awesome pic! When I get home I'll be sure to draw it later :)\n",
        "Something different! http://imgur.com/AydhCrX\n",
        "[Woodburning and gouache](http://i.imgur.com/CyQpYKO.jpg)\n",
        "http://imgur.com/lukCRBH\n",
        "\n",
        "http://i.imgur.com/9SXs1JV.png?1\n",
        "\n",
        "I just traced it, I'm trying to learn how t...\n",
        "[Oil on Canvas](http://i.imgur.com/aqhEneN.jpg?1)\n",
        "\n",
        "[Full Size](http://i.imgur...\n",
        "I think this one turned out pretty well. Here you go: http://imgur.com/DAFuZI...\n",
        "https://i.imgur.com/vZqYg20.jpg\n",
        "[deleted]\n",
        "[mostly ballpoint](http://ugocapetoart.blogspot.com/2014/12/mostly-ballpoint-...\n",
        "I just got sketchbook for my tablet. I've never used a digital program for dr...\n"
       ]
      }
     ],
     "prompt_number": 236
    },
    {
     "cell_type": "code",
     "collapsed": false,
     "input": [
      "getsdrdir = ('/home/wcmckee/getsdrawndotcom/')"
     ],
     "language": "python",
     "metadata": {},
     "outputs": [],
     "prompt_number": 46
    },
    {
     "cell_type": "code",
     "collapsed": false,
     "input": [
      "os.listdir(getsdrdir)"
     ],
     "language": "python",
     "metadata": {},
     "outputs": [
      {
       "metadata": {},
       "output_type": "pyout",
       "prompt_number": 48,
       "text": [
        "['index.html']"
       ]
      }
     ],
     "prompt_number": 48
    },
    {
     "cell_type": "code",
     "collapsed": false,
     "input": [
      "chedict"
     ],
     "language": "python",
     "metadata": {},
     "outputs": [
      {
       "metadata": {},
       "output_type": "pyout",
       "prompt_number": 237,
       "text": [
        "{Redditor(user_name='clsanchez26'): u'I think this one turned out pretty well. Here you go: http://imgur.com/DAFuZIk :D',\n",
        " Redditor(user_name='seanmillsartist'): u'[Oil on Canvas](http://i.imgur.com/aqhEneN.jpg?1)\\n\\n[Full Size](http://i.imgur.com/bCb9YW9.jpg)',\n",
        " Redditor(user_name='TeachersPen'): u'http://imgur.com/lukCRBH\\n',\n",
        " None: u'[deleted]',\n",
        " Redditor(user_name='angryfishtaco'): u\"Awesome pic! When I get home I'll be sure to draw it later :)\",\n",
        " Redditor(user_name='Katlix'): u'[Woodburning and gouache](http://i.imgur.com/CyQpYKO.jpg)',\n",
        " 'blah': 'testing',\n",
        " Redditor(user_name='danceswithshamans'): u'Something different! http://imgur.com/AydhCrX',\n",
        " Redditor(user_name='seanmillsartist'): u'[Oil on canvas](http://i.imgur.com/ddwDjyc.jpg)',\n",
        " Redditor(user_name='piranhathon'): u\"http://i.imgur.com/9SXs1JV.png?1\\n\\nI just traced it, I'm trying to learn how to use the path tool on photoshop\",\n",
        " Redditor(user_name='ugocapeto'): u'[mostly ballpoint](http://ugocapetoart.blogspot.com/2014/12/mostly-ballpoint-sketch.html)',\n",
        " Redditor(user_name='danceswithshamans'): u\"I just got sketchbook for my tablet. I've never used a digital program for drawing before or used anything but pencils. Came out dif than what I was going for but I'll learn! Lol http://imgur.com/cYEO26e\",\n",
        " Redditor(user_name='koscheislittleducky'): u\"What a fun sense of scale! I hope you don't mind being a [flower](http://i.imgur.com/N9zG55O.jpg) fairy.\",\n",
        " Redditor(user_name='bcsketches'): u'https://i.imgur.com/vZqYg20.jpg'}"
       ]
      }
     ],
     "prompt_number": 237
    },
    {
     "cell_type": "code",
     "collapsed": false,
     "input": [
      "#jsdum = json.loads(chedict)"
     ],
     "language": "python",
     "metadata": {},
     "outputs": [],
     "prompt_number": 238
    },
    {
     "cell_type": "code",
     "collapsed": false,
     "input": [
      "rcoms = chedict.keys()\n",
      "rvals = chedict.values()\n",
      "imcom = []"
     ],
     "language": "python",
     "metadata": {},
     "outputs": [],
     "prompt_number": 239
    },
    {
     "cell_type": "code",
     "collapsed": false,
     "input": [
      "for rvs in rvals:\n",
      "    print rvs\n",
      "    if '.jpg' or '.png' in rvs:\n",
      "        imcom.append(rvs)\n",
      "        "
     ],
     "language": "python",
     "metadata": {},
     "outputs": [
      {
       "output_type": "stream",
       "stream": "stdout",
       "text": [
        "http://imgur.com/lukCRBH\n",
        "\n",
        "I think this one turned out pretty well. Here you go: http://imgur.com/DAFuZIk :D\n",
        "[Oil on Canvas](http://i.imgur.com/aqhEneN.jpg?1)\n",
        "\n",
        "[Full Size](http://i.imgur.com/bCb9YW9.jpg)\n",
        "[deleted]\n",
        "Awesome pic! When I get home I'll be sure to draw it later :)\n",
        "[Woodburning and gouache](http://i.imgur.com/CyQpYKO.jpg)\n",
        "testing\n",
        "Something different! http://imgur.com/AydhCrX\n",
        "[Oil on canvas](http://i.imgur.com/ddwDjyc.jpg)\n",
        "http://i.imgur.com/9SXs1JV.png?1\n",
        "\n",
        "I just traced it, I'm trying to learn how to use the path tool on photoshop\n",
        "[mostly ballpoint](http://ugocapetoart.blogspot.com/2014/12/mostly-ballpoint-sketch.html)\n",
        "I just got sketchbook for my tablet. I've never used a digital program for drawing before or used anything but pencils. Came out dif than what I was going for but I'll learn! Lol http://imgur.com/cYEO26e\n",
        "What a fun sense of scale! I hope you don't mind being a [flower](http://i.imgur.com/N9zG55O.jpg) fairy.\n",
        "https://i.imgur.com/vZqYg20.jpg\n"
       ]
      }
     ],
     "prompt_number": 240
    },
    {
     "cell_type": "code",
     "collapsed": false,
     "input": [
      "imcom"
     ],
     "language": "python",
     "metadata": {},
     "outputs": [
      {
       "metadata": {},
       "output_type": "pyout",
       "prompt_number": 241,
       "text": [
        "[u'http://imgur.com/lukCRBH\\n',\n",
        " u'I think this one turned out pretty well. Here you go: http://imgur.com/DAFuZIk :D',\n",
        " u'[Oil on Canvas](http://i.imgur.com/aqhEneN.jpg?1)\\n\\n[Full Size](http://i.imgur.com/bCb9YW9.jpg)',\n",
        " u'[deleted]',\n",
        " u\"Awesome pic! When I get home I'll be sure to draw it later :)\",\n",
        " u'[Woodburning and gouache](http://i.imgur.com/CyQpYKO.jpg)',\n",
        " 'testing',\n",
        " u'Something different! http://imgur.com/AydhCrX',\n",
        " u'[Oil on canvas](http://i.imgur.com/ddwDjyc.jpg)',\n",
        " u\"http://i.imgur.com/9SXs1JV.png?1\\n\\nI just traced it, I'm trying to learn how to use the path tool on photoshop\",\n",
        " u'[mostly ballpoint](http://ugocapetoart.blogspot.com/2014/12/mostly-ballpoint-sketch.html)',\n",
        " u\"I just got sketchbook for my tablet. I've never used a digital program for drawing before or used anything but pencils. Came out dif than what I was going for but I'll learn! Lol http://imgur.com/cYEO26e\",\n",
        " u\"What a fun sense of scale! I hope you don't mind being a [flower](http://i.imgur.com/N9zG55O.jpg) fairy.\",\n",
        " u'https://i.imgur.com/vZqYg20.jpg']"
       ]
      }
     ],
     "prompt_number": 241
    },
    {
     "cell_type": "code",
     "collapsed": false,
     "input": [
      "#fuldoc = doc.render()"
     ],
     "language": "python",
     "metadata": {},
     "outputs": [],
     "prompt_number": 242
    },
    {
     "cell_type": "code",
     "collapsed": false,
     "input": [],
     "language": "python",
     "metadata": {},
     "outputs": [],
     "prompt_number": 242
    },
    {
     "cell_type": "code",
     "collapsed": false,
     "input": [
      "doc = dominate.document(title='Dominate your HTML')\n",
      "\n",
      "with doc.head:\n",
      "    link(rel='stylesheet', href='style.css')\n",
      "    script(type='text/javascript', src='script.js')\n",
      "\n",
      "with doc:\n",
      "    with div(id='header').add(ol()):\n",
      "        for imz in imcom:\n",
      "            #print imz\n",
      "            p(imz)\n",
      "\n",
      "    #with div():\n",
      "     #   attr(cls='body')\n",
      "     #   p('Lorem ipsum..')\n",
      "\n",
      "#print doc"
     ],
     "language": "python",
     "metadata": {},
     "outputs": [],
     "prompt_number": 243
    },
    {
     "cell_type": "code",
     "collapsed": false,
     "input": [
      "for docin in doc.head.children:\n",
      "    print docin"
     ],
     "language": "python",
     "metadata": {},
     "outputs": [
      {
       "output_type": "stream",
       "stream": "stdout",
       "text": [
        "<title>Dominate your HTML</title>\n",
        "<link href=\"style.css\" rel=\"stylesheet\">\n",
        "<script src=\"script.js\" type=\"text/javascript\"></script>\n"
       ]
      }
     ],
     "prompt_number": 244
    },
    {
     "cell_type": "code",
     "collapsed": false,
     "input": [
      "for pain in docin.parent.children:\n",
      "    print pain"
     ],
     "language": "python",
     "metadata": {},
     "outputs": [
      {
       "output_type": "stream",
       "stream": "stdout",
       "text": [
        "<title>Dominate your HTML</title>\n",
        "<link href=\"style.css\" rel=\"stylesheet\">\n",
        "<script src=\"script.js\" type=\"text/javascript\"></script>\n"
       ]
      }
     ],
     "prompt_number": 245
    },
    {
     "cell_type": "code",
     "collapsed": false,
     "input": [
      "doc.body.parent.children"
     ],
     "language": "python",
     "metadata": {},
     "outputs": [
      {
       "metadata": {},
       "output_type": "pyout",
       "prompt_number": 246,
       "text": [
        "[<dominate.tags.head at 14f44d0: 0 attributes, 3 children>,\n",
        " <dominate.tags.body at 14f4430: 0 attributes, 1 child>]"
       ]
      }
     ],
     "prompt_number": 246
    },
    {
     "cell_type": "code",
     "collapsed": false,
     "input": [],
     "language": "python",
     "metadata": {},
     "outputs": [],
     "prompt_number": 246
    },
    {
     "cell_type": "code",
     "collapsed": false,
     "input": [
      "#soup = BeautifulSoup(doc)\n",
      "\n",
      "#print(soup.prettify())"
     ],
     "language": "python",
     "metadata": {},
     "outputs": [],
     "prompt_number": 247
    },
    {
     "cell_type": "code",
     "collapsed": false,
     "input": [
      "#extractlinks()"
     ],
     "language": "python",
     "metadata": {},
     "outputs": [],
     "prompt_number": 248
    },
    {
     "cell_type": "code",
     "collapsed": false,
     "input": [
      "#for imc in imcom:\n",
      "#    print imc"
     ],
     "language": "python",
     "metadata": {},
     "outputs": [],
     "prompt_number": 249
    },
    {
     "cell_type": "code",
     "collapsed": false,
     "input": [
      "#doc.body"
     ],
     "language": "python",
     "metadata": {},
     "outputs": [],
     "prompt_number": 250
    },
    {
     "cell_type": "code",
     "collapsed": false,
     "input": [],
     "language": "python",
     "metadata": {},
     "outputs": [],
     "prompt_number": 250
    },
    {
     "cell_type": "code",
     "collapsed": false,
     "input": [
      "#doc.render()"
     ],
     "language": "python",
     "metadata": {},
     "outputs": [],
     "prompt_number": 251
    },
    {
     "cell_type": "code",
     "collapsed": false,
     "input": [
      "#for dicaz in doc.children:\n",
      "#    print dicaz"
     ],
     "language": "python",
     "metadata": {},
     "outputs": [],
     "prompt_number": 252
    },
    {
     "cell_type": "code",
     "collapsed": false,
     "input": [],
     "language": "python",
     "metadata": {},
     "outputs": [],
     "prompt_number": 252
    },
    {
     "cell_type": "code",
     "collapsed": false,
     "input": [
      "#for imz in imcom:\n",
      "    \n",
      "#    print imz"
     ],
     "language": "python",
     "metadata": {},
     "outputs": [],
     "prompt_number": 253
    },
    {
     "cell_type": "code",
     "collapsed": false,
     "input": [
      "#for rez in rcoms:\n",
      "#    print rez\n",
      "    "
     ],
     "language": "python",
     "metadata": {},
     "outputs": [],
     "prompt_number": 254
    },
    {
     "cell_type": "code",
     "collapsed": false,
     "input": [],
     "language": "python",
     "metadata": {},
     "outputs": [],
     "prompt_number": 254
    },
    {
     "cell_type": "code",
     "collapsed": false,
     "input": [
      "#for rgt in rgdef.values():\n",
      "#    if '.jpg' in rgt:\n",
      "#        print rgt"
     ],
     "language": "python",
     "metadata": {},
     "outputs": [],
     "prompt_number": 255
    },
    {
     "cell_type": "code",
     "collapsed": false,
     "input": [
      "import dominate\n",
      "from dominate.tags import *\n",
      "\n",
      "doc = dominate.document(title='RedditGetsDrawn Recent Reference')\n",
      "\n",
      "with doc.head:\n",
      "    link(rel='stylesheet', href='style.css')\n",
      "    script(type='text/javascript', src='script.js')\n",
      "    \n",
      "    with div():\n",
      "        attr(cls='header')\n",
      "        h1('RedditGetsDrawn Recent Reference')\n",
      "        p('updated ', strftime(\"%a, %d %b %Y %H:%M:%S +0000\", gmtime()))\n",
      "\n",
      "    \n",
      "    \n",
      "\n",
      "with doc:\n",
      "    with div(id='body').add(ol()):\n",
      "        for rdz in rdnew:\n",
      "            h1(rdz.title)\n",
      "            a(rdz.url)\n",
      "            if '.jpg' or '.png' in rdz.url:\n",
      "                print rdz.url\n",
      "                p(img(rdz.url, src='%s' % rdz.url))\n",
      "            #print rdz.url\n",
      "            #if '.jpg' in rdz.url:\n",
      "            #    img(rdz.urlz)\n",
      "            #else:\n",
      "            #    a(rdz.urlz)\n",
      "            p(str(rdz.author))\n",
      "            \n",
      "            #li(img(i.lower(), src='%s' % i))\n",
      "\n",
      "    with div():\n",
      "        attr(cls='body')\n",
      "        p('RGDRecentReference is open source')\n",
      "        a('http://github.com/wcmckee/wcmckee')\n",
      "\n",
      "#print doc"
     ],
     "language": "python",
     "metadata": {},
     "outputs": [
      {
       "output_type": "stream",
       "stream": "stdout",
       "text": [
        "http://i.imgur.com/hUlG5Vc.jpg\n",
        "http://imgur.com/cOD4le7\n",
        "http://i.imgur.com/QrMunEg.jpg\n",
        "http://imgur.com/kbAy4Vw\n",
        "http://imgur.com/NoSvCbt\n",
        "http://imgur.com/zkAWMic\n",
        "http://i.imgur.com/eTVYxje.jpg\n",
        "http://i.imgur.com/occiAsF.jpg?1\n",
        "http://imgur.com/hWHlxKS\n",
        "http://imgur.com/a/g8Nx6\n",
        "http://m.imgur.com/Is2M1EA\n",
        "http://imgur.com/8NdHMRJ\n",
        "http://i.imgur.com/k40b2YB.jpg\n",
        "http://imgur.com/dMA1Ns3\n",
        "http://imgur.com/ndXEDmE\n",
        "http://imgur.com/9nplYrE\n",
        "http://imgur.com/7Q7rjdC\n",
        "http://imgur.com/3uQgoyL\n",
        "http://imgur.com/a/fnKuP\n",
        "http://imgur.com/a/x5gWO\n",
        "http://imgur.com/M2LjhZ8\n",
        "http://imgur.com/a/KjDMi\n",
        "http://imgur.com/cnE21iX\n",
        "http://i.imgur.com/aEDRodb.jpg\n",
        "http://i.imgur.com/eefMUpb.jpg\n"
       ]
      }
     ],
     "prompt_number": 256
    },
    {
     "cell_type": "code",
     "collapsed": false,
     "input": [
      "rgdir = ('/home/wcmckee/rgdrecentReference/')"
     ],
     "language": "python",
     "metadata": {},
     "outputs": [],
     "prompt_number": 257
    },
    {
     "cell_type": "code",
     "collapsed": false,
     "input": [
      "doc.render()"
     ],
     "language": "python",
     "metadata": {},
     "outputs": [
      {
       "metadata": {},
       "output_type": "pyout",
       "prompt_number": 258,
       "text": [
        "u'<!DOCTYPE html>\\n<html>\\n  <head>\\n    <title>RedditGetsDrawn Recent Reference</title>\\n    <link href=\"style.css\" rel=\"stylesheet\"><script src=\"script.js\" type=\"text/javascript\"></script>\\n    <div class=\"header\">\\n      <h1>RedditGetsDrawn Recent Reference</h1>\\n      <p>updated Sat, 06 Dec 2014 05:56:01 +0000</p>\\n    </div>\\n  </head>\\n  <body>\\n    <div id=\"body\">\\n      <ol>\\n        <h1>Could someone draw my girlfriend and me?</h1>\\n        <a>http://i.imgur.com/hUlG5Vc.jpg</a>\\n        <p>\\n          <img src=\"http://i.imgur.com/hUlG5Vc.jpg\">\\n        </p>\\n        <p>Girgir55</p>\\n        <h1>My favorite woman in the world is my mom. This is a picture of her as a young woman. Could you please draw her?</h1>\\n        <a>http://imgur.com/cOD4le7</a>\\n        <p>\\n          <img src=\"http://imgur.com/cOD4le7\">\\n        </p>\\n        <p>Nattyzee3</p>\\n        <h1>Care to draw us weirdos?</h1>\\n        <a>http://i.imgur.com/QrMunEg.jpg</a>\\n        <p>\\n          <img src=\"http://i.imgur.com/QrMunEg.jpg\">\\n        </p>\\n        <p>mischiefismychicken</p>\\n        <h1>Would anyone like to draw me?</h1>\\n        <a>http://imgur.com/kbAy4Vw</a>\\n        <p>\\n          <img src=\"http://imgur.com/kbAy4Vw\">\\n        </p>\\n        <p>CD5700</p>\\n        <h1>I love this picture of my inlaws, could someone draw it?</h1>\\n        <a>http://imgur.com/NoSvCbt</a>\\n        <p>\\n          <img src=\"http://imgur.com/NoSvCbt\">\\n        </p>\\n        <p>Sectr9goddess</p>\\n        <h1>Me with some lovely flowers</h1>\\n        <a>http://imgur.com/zkAWMic</a>\\n        <p>\\n          <img src=\"http://imgur.com/zkAWMic\">\\n        </p>\\n        <p>leannimals</p>\\n        <h1>Anyone want to draw me as a green witch? :)</h1>\\n        <a>http://i.imgur.com/eTVYxje.jpg</a>\\n        <p>\\n          <img src=\"http://i.imgur.com/eTVYxje.jpg\">\\n        </p>\\n        <p>autumnwolfmoon89</p>\\n        <h1>Would love someone to draw my dog.</h1>\\n        <a>http://i.imgur.com/occiAsF.jpg?1</a>\\n        <p>\\n          <img src=\"http://i.imgur.com/occiAsF.jpg?1\">\\n        </p>\\n        <p>asm1th</p>\\n        <h1>Me being a desert fox in the Mojave!</h1>\\n        <a>http://imgur.com/hWHlxKS</a>\\n        <p>\\n          <img src=\"http://imgur.com/hWHlxKS\">\\n        </p>\\n        <p>arianathefox</p>\\n        <h1>I got a new haircut - would anyone like to draw me with it?</h1>\\n        <a>http://imgur.com/a/g8Nx6</a>\\n        <p>\\n          <img src=\"http://imgur.com/a/g8Nx6\">\\n        </p>\\n        <p>MrsBoris</p>\\n        <h1>My nephews and I in Lake George. It would be so cool to see us drawn somewhere magical.</h1>\\n        <a>http://m.imgur.com/Is2M1EA</a>\\n        <p>\\n          <img src=\"http://m.imgur.com/Is2M1EA\">\\n        </p>\\n        <p>kachie1317</p>\\n        <h1>I\\'d love to give my big sister a drawing of us for Christmas! Anyone out there who wants to give iT a try?</h1>\\n        <a>http://imgur.com/8NdHMRJ</a>\\n        <p>\\n          <img src=\"http://imgur.com/8NdHMRJ\">\\n        </p>\\n        <p>SofieBuyse</p>\\n        <h1>Painting with my dog!</h1>\\n        <a>http://i.imgur.com/k40b2YB.jpg</a>\\n        <p>\\n          <img src=\"http://i.imgur.com/k40b2YB.jpg\">\\n        </p>\\n        <p>Taroh</p>\\n        <h1>My daughter and her sleeping cousin. Draw their first meeting?!</h1>\\n        <a>http://imgur.com/dMA1Ns3</a>\\n        <p>\\n          <img src=\"http://imgur.com/dMA1Ns3\">\\n        </p>\\n        <p>babydaisy611</p>\\n        <h1>My Son\\'s first ever baseball game with Daddy.</h1>\\n        <a>http://imgur.com/ndXEDmE</a>\\n        <p>\\n          <img src=\"http://imgur.com/ndXEDmE\">\\n        </p>\\n        <p>LiamsDaddy</p>\\n        <h1>Please, draw myself and my girlfriend. Selfie at the beach! Any styles welcome, thanks so much! ;)</h1>\\n        <a>http://imgur.com/9nplYrE</a>\\n        <p>\\n          <img src=\"http://imgur.com/9nplYrE\">\\n        </p>\\n        <p>jpesmeraldo</p>\\n        <h1>My daughter from a fun little photo project we did together :)</h1>\\n        <a>http://imgur.com/7Q7rjdC</a>\\n        <p>\\n          <img src=\"http://imgur.com/7Q7rjdC\">\\n        </p>\\n        <p>Lileaspirals</p>\\n        <h1>Me and my beautiful wife on the happiest day of my life</h1>\\n        <a>http://imgur.com/3uQgoyL</a>\\n        <p>\\n          <img src=\"http://imgur.com/3uQgoyL\">\\n        </p>\\n        <p>TylerMills</p>\\n        <h1>Anyone want draw my (hopefully) soon to be fiancee from her favorite picture?</h1>\\n        <a>http://imgur.com/a/fnKuP</a>\\n        <p>\\n          <img src=\"http://imgur.com/a/fnKuP\">\\n        </p>\\n        <p>sirwes</p>\\n        <h1>Please draw me and my soon to be SO as a surprise for him please?</h1>\\n        <a>http://imgur.com/a/x5gWO</a>\\n        <p>\\n          <img src=\"http://imgur.com/a/x5gWO\">\\n        </p>\\n        <p>fletchdoll</p>\\n        <h1>Would love a fun picture of my little boy please.</h1>\\n        <a>http://imgur.com/M2LjhZ8</a>\\n        <p>\\n          <img src=\"http://imgur.com/M2LjhZ8\">\\n        </p>\\n        <p>oldwesty</p>\\n        <h1>I was wondering if anyone could draw me? I just linked to the album that I save all my pictures in so you have multiple photo choices. Thanks!</h1>\\n        <a>http://imgur.com/a/KjDMi</a>\\n        <p>\\n          <img src=\"http://imgur.com/a/KjDMi\">\\n        </p>\\n        <p>blasejade</p>\\n        <h1>Running out of gift ideas for my boyfriend for Christmas. I\\'d love to give him a framed drawing of us on halloween for his desk</h1>\\n        <a>http://imgur.com/cnE21iX</a>\\n        <p>\\n          <img src=\"http://imgur.com/cnE21iX\">\\n        </p>\\n        <p>jazzillaa</p>\\n        <h1>My little man a few months ago. Would love to see any of the talented artists recreate it.</h1>\\n        <a>http://i.imgur.com/aEDRodb.jpg</a>\\n        <p>\\n          <img src=\"http://i.imgur.com/aEDRodb.jpg\">\\n        </p>\\n        <p>nickel45</p>\\n        <h1>Good afternoon, Reddit artists! Here is me waiting at the doctor\\'s office. All creative styles welcome! :)</h1>\\n        <a>http://i.imgur.com/eefMUpb.jpg</a>\\n        <p>\\n          <img src=\"http://i.imgur.com/eefMUpb.jpg\">\\n        </p>\\n        <p>Sarahbelle89</p>\\n      </ol>\\n    </div>\\n    <div class=\"body\">\\n      <p>RGDRecentReference is open source</p>\\n      <a>http://github.com/wcmckee/wcmckee</a>\\n    </div>\\n  </body>\\n</html>'"
       ]
      }
     ],
     "prompt_number": 258
    },
    {
     "cell_type": "code",
     "collapsed": false,
     "input": [
      "os.chdir(rgdir)"
     ],
     "language": "python",
     "metadata": {},
     "outputs": [],
     "prompt_number": 259
    },
    {
     "cell_type": "code",
     "collapsed": false,
     "input": [
      "mkindex = open('index.html', 'w')\n",
      "mkindex.write(str(doc))\n",
      "mkindex.close()"
     ],
     "language": "python",
     "metadata": {},
     "outputs": [],
     "prompt_number": 136
    },
    {
     "cell_type": "code",
     "collapsed": false,
     "input": [
      "#print str(doc)"
     ],
     "language": "python",
     "metadata": {},
     "outputs": [],
     "prompt_number": 137
    },
    {
     "cell_type": "code",
     "collapsed": false,
     "input": [
      "print strftime(\"%a, %d %b %Y %H:%M:%S +0000\")"
     ],
     "language": "python",
     "metadata": {},
     "outputs": [
      {
       "output_type": "stream",
       "stream": "stdout",
       "text": [
        "Sat, 06 Dec 2014 11:35:26 +0000\n"
       ]
      }
     ],
     "prompt_number": 138
    },
    {
     "cell_type": "code",
     "collapsed": false,
     "input": [
      "savedate = strftime(\"%d\" + \"-\" + \"%m\" + \"-\" + \"%Y\" + \"-\" + \"%H\")"
     ],
     "language": "python",
     "metadata": {},
     "outputs": [],
     "prompt_number": 139
    },
    {
     "cell_type": "code",
     "collapsed": false,
     "input": [
      "def timeret():\n",
      "    return strftime(\"%d\" + \"-\" + \"%m\" + \"-\" + \"%Y\" + \"-\" + \"%H\")\n",
      "\n",
      "def givmd():\n",
      "    return str(savedate + '.md')\n",
      "\n",
      "def givdic():\n",
      "    return rgdir.replace('/', '-')"
     ],
     "language": "python",
     "metadata": {},
     "outputs": [],
     "prompt_number": 140
    },
    {
     "cell_type": "code",
     "collapsed": false,
     "input": [
      "givdic()"
     ],
     "language": "python",
     "metadata": {},
     "outputs": [
      {
       "metadata": {},
       "output_type": "pyout",
       "prompt_number": 141,
       "text": [
        "'-home-wcmckee-rgdrecentReference-'"
       ]
      }
     ],
     "prompt_number": 141
    },
    {
     "cell_type": "raw",
     "metadata": {},
     "source": [
      "timeret()"
     ]
    },
    {
     "cell_type": "code",
     "collapsed": false,
     "input": [
      "givmd()"
     ],
     "language": "python",
     "metadata": {},
     "outputs": [
      {
       "metadata": {},
       "output_type": "pyout",
       "prompt_number": 142,
       "text": [
        "'06-12-2014-11.md'"
       ]
      }
     ],
     "prompt_number": 142
    },
    {
     "cell_type": "code",
     "collapsed": false,
     "input": [
      "savedate"
     ],
     "language": "python",
     "metadata": {},
     "outputs": [
      {
       "metadata": {},
       "output_type": "pyout",
       "prompt_number": 143,
       "text": [
        "'06-12-2014-11'"
       ]
      }
     ],
     "prompt_number": 143
    },
    {
     "cell_type": "code",
     "collapsed": false,
     "input": [
      "deepone = str(savedate + '.md')"
     ],
     "language": "python",
     "metadata": {},
     "outputs": [],
     "prompt_number": 144
    },
    {
     "cell_type": "code",
     "collapsed": false,
     "input": [
      "deepone"
     ],
     "language": "python",
     "metadata": {},
     "outputs": [
      {
       "metadata": {},
       "output_type": "pyout",
       "prompt_number": 145,
       "text": [
        "'06-12-2014-11.md'"
       ]
      }
     ],
     "prompt_number": 145
    },
    {
     "cell_type": "code",
     "collapsed": false,
     "input": [
      "#os.chdir('/home/wcmckee/brobeur-blog-post/')"
     ],
     "language": "python",
     "metadata": {},
     "outputs": [],
     "prompt_number": 146
    },
    {
     "cell_type": "code",
     "collapsed": false,
     "input": [
      "#brobeind = open('\u00edndex.html', 'r')"
     ],
     "language": "python",
     "metadata": {},
     "outputs": [],
     "prompt_number": 147
    },
    {
     "cell_type": "code",
     "collapsed": false,
     "input": [
      "#brotest = open('\u00edndex.html', 'r')\n",
      "#brotest.read()"
     ],
     "language": "python",
     "metadata": {},
     "outputs": [],
     "prompt_number": 148
    },
    {
     "cell_type": "code",
     "collapsed": false,
     "input": [
      "redposts = ('/home/wcmckee/rgdrecentReference/posts/pandas')"
     ],
     "language": "python",
     "metadata": {},
     "outputs": [],
     "prompt_number": 149
    },
    {
     "cell_type": "code",
     "collapsed": false,
     "input": [
      "os.chdir(redposts)"
     ],
     "language": "python",
     "metadata": {},
     "outputs": [],
     "prompt_number": 152
    },
    {
     "cell_type": "code",
     "collapsed": false,
     "input": [
      "time.asctime()"
     ],
     "language": "python",
     "metadata": {},
     "outputs": [
      {
       "metadata": {},
       "output_type": "pyout",
       "prompt_number": 153,
       "text": [
        "'Sat Dec  6 11:37:51 2014'"
       ]
      }
     ],
     "prompt_number": 153
    },
    {
     "cell_type": "code",
     "collapsed": false,
     "input": [
      "savinx = open(str(deepone), 'w')"
     ],
     "language": "python",
     "metadata": {},
     "outputs": [],
     "prompt_number": 154
    },
    {
     "cell_type": "code",
     "collapsed": false,
     "input": [
      "savinx.write(str(rgdef))"
     ],
     "language": "python",
     "metadata": {},
     "outputs": [],
     "prompt_number": 155
    },
    {
     "cell_type": "code",
     "collapsed": false,
     "input": [
      "savinx.close()"
     ],
     "language": "python",
     "metadata": {},
     "outputs": [],
     "prompt_number": 156
    },
    {
     "cell_type": "code",
     "collapsed": false,
     "input": [
      "deepone"
     ],
     "language": "python",
     "metadata": {},
     "outputs": [
      {
       "metadata": {},
       "output_type": "pyout",
       "prompt_number": 157,
       "text": [
        "'06-12-2014-11.md'"
       ]
      }
     ],
     "prompt_number": 157
    },
    {
     "cell_type": "code",
     "collapsed": false,
     "input": [
      "decict"
     ],
     "language": "python",
     "metadata": {},
     "outputs": [
      {
       "metadata": {},
       "output_type": "pyout",
       "prompt_number": 158,
       "text": [
        "{'downs': 0,\n",
        " 'example': 'wcmckee',\n",
        " 'title': u'My little sister (glasses) and her wife on their wedding day. Same-sex marriage was finally legalized in our home state!',\n",
        " 'ups': 1,\n",
        " 'url': u'http://imgur.com/khvU7zu'}"
       ]
      }
     ],
     "prompt_number": 158
    },
    {
     "cell_type": "code",
     "collapsed": false,
     "input": [
      "decict.update({'datehour': givmd()})"
     ],
     "language": "python",
     "metadata": {},
     "outputs": [],
     "prompt_number": 159
    },
    {
     "cell_type": "code",
     "collapsed": false,
     "input": [
      "depan = Series(decict)"
     ],
     "language": "python",
     "metadata": {},
     "outputs": [],
     "prompt_number": 160
    },
    {
     "cell_type": "code",
     "collapsed": false,
     "input": [
      "fepan = Series(fddict)"
     ],
     "language": "python",
     "metadata": {},
     "outputs": [],
     "prompt_number": 161
    },
    {
     "cell_type": "code",
     "collapsed": false,
     "input": [
      "mepan = (fepan)+(depan)"
     ],
     "language": "python",
     "metadata": {},
     "outputs": [],
     "prompt_number": 162
    },
    {
     "cell_type": "code",
     "collapsed": false,
     "input": [
      "depan"
     ],
     "language": "python",
     "metadata": {},
     "outputs": [
      {
       "metadata": {},
       "output_type": "pyout",
       "prompt_number": 163,
       "text": [
        "datehour                                                                                                            06-12-2014-11.md\n",
        "downs                                                                                                                              0\n",
        "example                                                                                                                      wcmckee\n",
        "title       My little sister (glasses) and her wife on their wedding day. Same-sex marriage was finally legalized in our home state!\n",
        "ups                                                                                                                                1\n",
        "url                                                                                                         http://imgur.com/khvU7zu"
       ]
      }
     ],
     "prompt_number": 163
    },
    {
     "cell_type": "code",
     "collapsed": false,
     "input": [
      "feram = pd.DataFrame(fepan)"
     ],
     "language": "python",
     "metadata": {},
     "outputs": [],
     "prompt_number": 164
    },
    {
     "cell_type": "code",
     "collapsed": false,
     "input": [
      "fepan"
     ],
     "language": "python",
     "metadata": {},
     "outputs": [
      {
       "metadata": {},
       "output_type": "pyout",
       "prompt_number": 165,
       "text": [
        "testblah    testblah"
       ]
      }
     ],
     "prompt_number": 165
    },
    {
     "cell_type": "code",
     "collapsed": false,
     "input": [
      "feram"
     ],
     "language": "python",
     "metadata": {},
     "outputs": [
      {
       "metadata": {},
       "output_type": "pyout",
       "prompt_number": 166,
       "text": [
        "                 0\n",
        "testblah  testblah"
       ]
      }
     ],
     "prompt_number": 166
    },
    {
     "cell_type": "code",
     "collapsed": false,
     "input": [
      "mepan"
     ],
     "language": "python",
     "metadata": {},
     "outputs": [
      {
       "metadata": {},
       "output_type": "pyout",
       "prompt_number": 167,
       "text": [
        "datehour    None\n",
        "downs       None\n",
        "example     None\n",
        "testblah    None\n",
        "title       None\n",
        "ups         None\n",
        "url         None"
       ]
      }
     ],
     "prompt_number": 167
    },
    {
     "cell_type": "code",
     "collapsed": false,
     "input": [
      "defed = DataFrame(depan)"
     ],
     "language": "python",
     "metadata": {},
     "outputs": [],
     "prompt_number": 168
    },
    {
     "cell_type": "code",
     "collapsed": false,
     "input": [
      "#defed.append(fepan)"
     ],
     "language": "python",
     "metadata": {},
     "outputs": [],
     "prompt_number": 169
    },
    {
     "cell_type": "code",
     "collapsed": false,
     "input": [
      "depan"
     ],
     "language": "python",
     "metadata": {},
     "outputs": [
      {
       "metadata": {},
       "output_type": "pyout",
       "prompt_number": 170,
       "text": [
        "datehour                                                                                                            06-12-2014-11.md\n",
        "downs                                                                                                                              0\n",
        "example                                                                                                                      wcmckee\n",
        "title       My little sister (glasses) and her wife on their wedding day. Same-sex marriage was finally legalized in our home state!\n",
        "ups                                                                                                                                1\n",
        "url                                                                                                         http://imgur.com/khvU7zu"
       ]
      }
     ],
     "prompt_number": 170
    },
    {
     "cell_type": "code",
     "collapsed": false,
     "input": [
      "fepan"
     ],
     "language": "python",
     "metadata": {},
     "outputs": [
      {
       "metadata": {},
       "output_type": "pyout",
       "prompt_number": 171,
       "text": [
        "testblah    testblah"
       ]
      }
     ],
     "prompt_number": 171
    },
    {
     "cell_type": "code",
     "collapsed": false,
     "input": [
      "mergz = depan.append(fepan)"
     ],
     "language": "python",
     "metadata": {},
     "outputs": [],
     "prompt_number": 172
    },
    {
     "cell_type": "code",
     "collapsed": false,
     "input": [
      "mergz"
     ],
     "language": "python",
     "metadata": {},
     "outputs": [
      {
       "metadata": {},
       "output_type": "pyout",
       "prompt_number": 173,
       "text": [
        "datehour                                                                                                            06-12-2014-11.md\n",
        "downs                                                                                                                              0\n",
        "example                                                                                                                      wcmckee\n",
        "title       My little sister (glasses) and her wife on their wedding day. Same-sex marriage was finally legalized in our home state!\n",
        "ups                                                                                                                                1\n",
        "url                                                                                                         http://imgur.com/khvU7zu\n",
        "testblah                                                                                                                    testblah"
       ]
      }
     ],
     "prompt_number": 173
    },
    {
     "cell_type": "code",
     "collapsed": false,
     "input": [],
     "language": "python",
     "metadata": {},
     "outputs": [],
     "prompt_number": 173
    },
    {
     "cell_type": "code",
     "collapsed": false,
     "input": [
      "defed"
     ],
     "language": "python",
     "metadata": {},
     "outputs": [
      {
       "metadata": {},
       "output_type": "pyout",
       "prompt_number": 174,
       "text": [
        "<class 'pandas.core.frame.DataFrame'>\n",
        "Index: 6 entries, datehour to url\n",
        "Data columns:\n",
        "0    6  non-null values\n",
        "dtypes: object(1)"
       ]
      }
     ],
     "prompt_number": 174
    },
    {
     "cell_type": "code",
     "collapsed": false,
     "input": [
      "defhtml = defed.to_html()"
     ],
     "language": "python",
     "metadata": {},
     "outputs": [],
     "prompt_number": 175
    },
    {
     "cell_type": "code",
     "collapsed": false,
     "input": [
      "wrhtm = open('index.html', 'w')\n",
      "wrhtm.write(defhtml)\n",
      "wrhtm.close()"
     ],
     "language": "python",
     "metadata": {},
     "outputs": [],
     "prompt_number": 176
    },
    {
     "cell_type": "code",
     "collapsed": false,
     "input": [],
     "language": "python",
     "metadata": {},
     "outputs": [],
     "prompt_number": 176
    },
    {
     "cell_type": "code",
     "collapsed": false,
     "input": [],
     "language": "python",
     "metadata": {},
     "outputs": [],
     "prompt_number": 176
    },
    {
     "cell_type": "code",
     "collapsed": false,
     "input": [],
     "language": "python",
     "metadata": {},
     "outputs": []
    }
   ],
   "metadata": {}
  }
 ]
}