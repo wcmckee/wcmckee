{
 "metadata": {
  "name": "",
  "signature": "sha256:505e0dd7d9c6484a03cd21f9c75b1c08fb964f8d35408929c8e0d751d8ef4f42"
 },
 "nbformat": 3,
 "nbformat_minor": 0,
 "worksheets": [
  {
   "cells": [
    {
     "cell_type": "markdown",
     "metadata": {},
     "source": [
      "Reddit Gets Drawn Snatch Script\n",
      "\n",
      "test"
     ]
    },
    {
     "cell_type": "code",
     "collapsed": false,
     "input": [
      "# -*- coding: utf-8 -*-\n",
      "# <nbformat>3.0</nbformat>\n",
      "\n",
      "# <markdowncell>\n",
      "\n",
      "# RedditGetsDrawn Snatch\n",
      "# \n",
      "# This is a Python script that takes data from reddit and posts it to another subreddit. It also creates a html file with the images embed into. The images are the most recent 25 on r/redditgetsdrawn.\n",
      "# \n",
      "\n",
      "# <markdowncell>\n",
      "\n",
      "# TODO\n",
      "# \n",
      "# submit art to users via website\n",
      "# \n",
      "# fix image sizes (need to scale down to 550px)\n",
      "# \n",
      "# Save to server rather than imgur\n",
      "# \n",
      "# Archieve, snapshots of rgd\n",
      "# \n",
      "# more artcontrol\n",
      "# \n",
      "# itwillbemine comments to html - currently being saved in contact \n",
      "# \n",
      "# work on css, div up page, title, side, body, fo\n",
      "# update twitter with ONE IMAGE and announce that the list has been updated.\n",
      "# \n",
      "# write blog post and submits to artcontroldrawsyou/blog \n",
      "# \n",
      "# gets sticked post on reddit\n",
      "# \n",
      "# delete about/contact page and have on all same page. can still have link to blog. \n",
      "# about \n",
      "# contact etc... along the top.\n",
      "# other sections\n",
      "# \n",
      "# post images to blog for archieve - save body to wcmckee.com/blog - md format?\n",
      "# \n",
      "# nikola install - build site.\n",
      "# \n",
      "# cronjob to update site ever ?? hours? 4?\n",
      "# \n",
      "# photos section: latest 25 photos submitted to redditgetsdrawn.\n",
      "# art section: latest 25 art submitted to redditgetsdrawn. \n",
      "\n",
      "# <codecell>\n",
      "\n",
      "import os\n",
      "import random\n",
      "import requests\n",
      "from bs4 import BeautifulSoup\n",
      "import re\n",
      "import json\n",
      "import time\n",
      "import praw\n",
      "import dominate\n",
      "from dominate.tags import *\n",
      "from time import gmtime, strftime\n",
      "\n",
      "# <codecell>\n",
      "\n",
      "os.chdir('/home/wcmckee/artcontroldrawsyou')"
     ],
     "language": "python",
     "metadata": {},
     "outputs": [],
     "prompt_number": 224
    },
    {
     "cell_type": "code",
     "collapsed": false,
     "input": [
      "r = praw.Reddit(user_agent='rgdsnatch')\n",
      "\n",
      "# <codecell>\n",
      "\n",
      "#r.login('artcontrol', 'taylor123vag!')\n",
      "\n",
      "# <codecell>\n",
      "\n",
      "rd = r.get_subreddit('redditgetsdrawn')\n",
      "\n",
      "# <codecell>\n",
      "\n",
      "subz = rd.get_hot().next()\n",
      "istit = (subz.title)\n",
      "istxt = (subz.selftext_html)\n",
      "istick = (subz.stickied)\n",
      "\n",
      "# <codecell>\n",
      "\n",
      "istit\n",
      "\n",
      "# <codecell>\n",
      "\n",
      "istxt\n",
      "\n",
      "# <codecell>\n",
      "\n",
      "rdnewz = rd.get_new()\n",
      "\n",
      "# <codecell>\n",
      "\n",
      "rdnew = []\n",
      "\n",
      "# <codecell>\n",
      "\n",
      "rdnew"
     ],
     "language": "python",
     "metadata": {},
     "outputs": [
      {
       "metadata": {},
       "output_type": "pyout",
       "prompt_number": 225,
       "text": [
        "[]"
       ]
      }
     ],
     "prompt_number": 225
    },
    {
     "cell_type": "code",
     "collapsed": false,
     "input": [
      "reddraw = praw.Reddit(user_agent='rgdsnatch')"
     ],
     "language": "python",
     "metadata": {},
     "outputs": [],
     "prompt_number": 226
    },
    {
     "cell_type": "code",
     "collapsed": false,
     "input": [
      "getrddraw = reddraw.get_subreddit('redditgetsdrawn')"
     ],
     "language": "python",
     "metadata": {},
     "outputs": [],
     "prompt_number": 227
    },
    {
     "cell_type": "code",
     "collapsed": false,
     "input": [
      "subz = getrddraw.get_new()"
     ],
     "language": "python",
     "metadata": {},
     "outputs": [],
     "prompt_number": 228
    },
    {
     "cell_type": "code",
     "collapsed": false,
     "input": [
      "rdnew = []"
     ],
     "language": "python",
     "metadata": {},
     "outputs": [],
     "prompt_number": 229
    },
    {
     "cell_type": "code",
     "collapsed": false,
     "input": [
      "rdnewz = getrddraw.get_new()\n",
      "\n",
      "# <codecell>\n",
      "\n",
      "rdnew = []\n",
      "\n",
      "# <codecell>\n",
      "\n",
      "rdnew\n",
      "\n",
      "# <codecell>\n",
      "\n",
      "for uz in rdnewz:\n",
      "    #print uz\n",
      "    rdnew.append(uz)\n"
     ],
     "language": "python",
     "metadata": {},
     "outputs": [],
     "prompt_number": 230
    },
    {
     "cell_type": "code",
     "collapsed": false,
     "input": [
      "datelis = []\n",
      "refdic = {}"
     ],
     "language": "python",
     "metadata": {},
     "outputs": [],
     "prompt_number": 231
    },
    {
     "cell_type": "code",
     "collapsed": false,
     "input": [
      "for rdz in rdnew:\n",
      "    print rdz.name\n",
      "    print rdz.title\n",
      "    print rdz.url\n",
      "    print rdz.author\n",
      "    print rdz.secure_media\n",
      "    print rdz.num_comments\n",
      "    datelis.append(rdz.title)\n",
      "    datelis.append(rdz.url)\n",
      "    datelis.append(rdz.author)"
     ],
     "language": "python",
     "metadata": {},
     "outputs": [
      {
       "output_type": "stream",
       "stream": "stdout",
       "text": [
        "t3_2h10z4\n",
        "Please draw me and my morning coffee!\n",
        "http://i.imgur.com/MFHy5xs.jpg\n",
        "Wiep3\n",
        "None\n",
        "0\n",
        "t3_2h0zaf\n",
        "I'd appreciate if someone drew my favourite picture of me!\n",
        "http://imgur.com/WjsWjzP\n",
        "dsotm25\n",
        "None\n",
        "0\n",
        "t3_2h0t33\n",
        "Me and my gf are gonna marry next year!\ud83d\ude0a this is one of our first pics, someone who likes to draw this one?\n",
        "http://i.imgur.com/2TC3dby.jpg\n",
        "kitja\n",
        "None\n",
        "0\n",
        "t3_2h0v1g\n",
        "Would you pretty please draw my boyfriend and I?\n",
        "http://i.imgur.com/z1YuPC6.jpg\n",
        "roxi527\n",
        "None\n",
        "0\n",
        "t3_2h0pgt\n",
        "Could Someone Immortalize Me Plz??\n",
        "http://i.imgur.com/q9fxyPI.jpg\n",
        "DontQuoteThisComedy\n",
        "None\n",
        "0\n",
        "t3_2h0kqk\n",
        "Hey RGD! I love drawing all of you and would Love if you could return the favor! My husband is in LOVE with Elsa! Have some fun!\n",
        "http://i.imgur.com/xgULRJF.jpg?1\n",
        "ilovecody\n",
        "None\n",
        "0\n",
        "t3_2h0bj1\n",
        "I would love to surprise my girlfriend with this picture of us she adores. Would you draw it?\n",
        "http://imgur.com/enuqMlb\n",
        "calebkaboom\n",
        "None\n",
        "0\n",
        "t3_2h0flq\n",
        "Hey RDG! I'd love for someone to take a shot at drawing me :)\n",
        "http://i.imgur.com/njJ2QAA.png\n",
        "mike1146l\n",
        "None\n",
        "1\n",
        "t3_2h0c76\n",
        "My beautiful girlfriend and I looking like we're ready for the ball !\n",
        "http://i.imgur.com/I4yKHe7.jpg\n",
        "Product2001\n",
        "None\n",
        "0\n",
        "t3_2h0e2k\n",
        "Been wanting to post here for a while. Draw me please? :]\n",
        "http://imgur.com/IjoOjR8\n",
        "samisglam\n",
        "None\n",
        "0\n",
        "t3_2h0atk\n",
        "Can someone draw me with an awesome background?\n",
        "http://i.imgur.com/bBAcUiS.jpg\n",
        "sleepieeskimo\n",
        "None\n",
        "0\n",
        "t3_2h09it\n",
        "i'd love to get a drawing of myself in the park, anything is super appreciated!!\n",
        "http://imgur.com/KFDXaaY\n",
        "wwdtpbd\n",
        "None\n",
        "0\n",
        "t3_2h060q\n",
        "I would love to be drawn, please\n",
        "http://i.imgur.com/ooUUXyb.jpg\n",
        "sabertoothshay\n",
        "None\n",
        "4\n",
        "t3_2h01oq\n",
        "My girlfriends birthday is coming up and I'd love to have this drawn/sketched out for her, If anyone could please!\n",
        "http://i.imgur.com/l4X89v4.jpg\n",
        "fknadderall_lys\n",
        "None\n",
        "3\n",
        "t3_2h006h\n",
        "This is my Dad. I'd love to put a drawn version onto canvas for him!\n",
        "http://imgur.com/BYrbEME\n",
        "spartan3hunge\n",
        "None\n",
        "0\n",
        "t3_2gzz7u\n",
        "Would love to have a pic of my son drawn from this.\n",
        "http://imgur.com/Imbzgbh\n",
        "grinch77\n",
        "None\n",
        "0\n",
        "t3_2gzydm\n",
        "My brother enjoying a tasty muffin.\n",
        "http://i.imgur.com/NtmCXnU.jpg\n",
        "alarcoz\n",
        "None\n",
        "0\n",
        "t3_2gzx10\n",
        "I went to my grandparents farm and got this awesome picture of myself with the sunset, care to draw it?\n",
        "http://imgur.com/a/kYAJM\n",
        "SomewhatSamantha\n",
        "None\n",
        "0\n",
        "t3_2gznf1\n",
        "Trying to get collection of pictures of my largely military family drawn for my grandfather. Can someone help draw me inside my helicopter to start the project?\n",
        "http://imgur.com/R67JSAv\n",
        "oorahaircrew\n",
        "None\n",
        "2\n",
        "t3_2gzv00\n",
        "Can you draw me, please? (NSFW ish)\n",
        "http://i.imgur.com/rlmzUrZ.jpg\n",
        "lolita_xx\n",
        "None\n",
        "5\n",
        "t3_2gzutp\n",
        "Would anyone draw my friend and his 7 year old cat?\n",
        "http://i.imgur.com/LbuPyUx.jpg\n",
        "Iriganelis\n",
        "None\n",
        "0\n",
        "t3_2gzq8b\n",
        "At my parents' wedding, almost 26 years ago!\n",
        "http://imgur.com/ql6D7Cr\n",
        "rachfaceishere\n",
        "None\n",
        "0\n",
        "t3_2gzpg4\n",
        "Me at the beach looking sleepy with messy hair. It would be very cool if someone had the time to draw me!\n",
        "http://i.imgur.com/xEEDShq.jpg\n",
        "throwawayidk12345\n",
        "None\n",
        "1\n",
        "t3_2gzmrq\n",
        "Draw me?\n",
        "http://i.imgur.com/Epwv3AF.jpg\n",
        "valoirlecoup\n",
        "None\n",
        "11\n",
        "t3_2gzm5e\n",
        "Myself - at a railing?\n",
        "http://i.imgur.com/nfkPtf7.jpg?1\n",
        "LeBeauMonde\n",
        "None\n",
        "0\n"
       ]
      }
     ],
     "prompt_number": 232
    },
    {
     "cell_type": "code",
     "collapsed": false,
     "input": [
      "import dominate\n",
      "from dominate.tags import *\n",
      "\n",
      "doc = dominate.document(title='RedditGetsDrawn Recent Reference')\n",
      "\n",
      "with doc.head:\n",
      "    link(rel='stylesheet', href='style.css')\n",
      "    script(type='text/javascript', src='script.js')\n",
      "    \n",
      "    with div():\n",
      "        attr(cls='header')\n",
      "        h1('RedditGetsDrawn Recent Reference')\n",
      "        p('updated ', strftime(\"%a, %d %b %Y %H:%M:%S +0000\", gmtime()))\n",
      "\n",
      "    \n",
      "    \n",
      "\n",
      "with doc:\n",
      "    with div(id='body').add(ol()):\n",
      "        for rdz in rdnew:\n",
      "            h1(rdz.title)\n",
      "            a(rdz.url)\n",
      "            if '.jpg' or '.png' in rdz.url:\n",
      "                print rdz.url\n",
      "                p(img(rdz.url, src='%s' % rdz.url))\n",
      "            #print rdz.url\n",
      "            #if '.jpg' in rdz.url:\n",
      "            #    img(rdz.urlz)\n",
      "            #else:\n",
      "            #    a(rdz.urlz)\n",
      "            p(str(rdz.author))\n",
      "            \n",
      "            #li(img(i.lower(), src='%s' % i))\n",
      "\n",
      "    with div():\n",
      "        attr(cls='body')\n",
      "        p('RGDRecentReference is open source')\n",
      "        a('http://github.com/wcmckee/wcmckee')\n",
      "\n",
      "print doc"
     ],
     "language": "python",
     "metadata": {},
     "outputs": [
      {
       "output_type": "stream",
       "stream": "stdout",
       "text": [
        "http://i.imgur.com/MFHy5xs.jpg\n",
        "http://imgur.com/WjsWjzP\n",
        "http://i.imgur.com/2TC3dby.jpg\n",
        "http://i.imgur.com/z1YuPC6.jpg\n",
        "http://i.imgur.com/q9fxyPI.jpg\n",
        "http://i.imgur.com/xgULRJF.jpg?1\n",
        "http://imgur.com/enuqMlb\n",
        "http://i.imgur.com/njJ2QAA.png\n",
        "http://i.imgur.com/I4yKHe7.jpg\n",
        "http://imgur.com/IjoOjR8\n",
        "http://i.imgur.com/bBAcUiS.jpg\n",
        "http://imgur.com/KFDXaaY\n",
        "http://i.imgur.com/ooUUXyb.jpg\n",
        "http://i.imgur.com/l4X89v4.jpg\n",
        "http://imgur.com/BYrbEME\n",
        "http://imgur.com/Imbzgbh\n",
        "http://i.imgur.com/NtmCXnU.jpg\n",
        "http://imgur.com/a/kYAJM\n",
        "http://imgur.com/R67JSAv\n",
        "http://i.imgur.com/rlmzUrZ.jpg\n",
        "http://i.imgur.com/LbuPyUx.jpg\n",
        "http://imgur.com/ql6D7Cr\n",
        "http://i.imgur.com/xEEDShq.jpg\n",
        "http://i.imgur.com/Epwv3AF.jpg\n",
        "http://i.imgur.com/nfkPtf7.jpg?1\n"
       ]
      },
      {
       "ename": "UnicodeEncodeError",
       "evalue": "'ascii' codec can't encode character u'\\U0001f60a' in position 846: ordinal not in range(128)",
       "output_type": "pyerr",
       "traceback": [
        "\u001b[1;31m---------------------------------------------------------------------------\u001b[0m\n\u001b[1;31mUnicodeEncodeError\u001b[0m                        Traceback (most recent call last)",
        "\u001b[1;32m<ipython-input-233-a6b841fa3c26>\u001b[0m in \u001b[0;36m<module>\u001b[1;34m()\u001b[0m\n\u001b[0;32m     38\u001b[0m         \u001b[0ma\u001b[0m\u001b[1;33m(\u001b[0m\u001b[1;34m'http://github.com/wcmckee/wcmckee'\u001b[0m\u001b[1;33m)\u001b[0m\u001b[1;33m\u001b[0m\u001b[0m\n\u001b[0;32m     39\u001b[0m \u001b[1;33m\u001b[0m\u001b[0m\n\u001b[1;32m---> 40\u001b[1;33m \u001b[1;32mprint\u001b[0m \u001b[0mdoc\u001b[0m\u001b[1;33m\u001b[0m\u001b[0m\n\u001b[0m",
        "\u001b[1;31mUnicodeEncodeError\u001b[0m: 'ascii' codec can't encode character u'\\U0001f60a' in position 846: ordinal not in range(128)"
       ]
      }
     ],
     "prompt_number": 233
    },
    {
     "cell_type": "code",
     "collapsed": false,
     "input": [
      "rgdir = ('/home/wcmckee/rgdrecentReference/')"
     ],
     "language": "python",
     "metadata": {},
     "outputs": []
    },
    {
     "cell_type": "code",
     "collapsed": false,
     "input": [
      "os.chdir(rgdir)"
     ],
     "language": "python",
     "metadata": {},
     "outputs": [],
     "prompt_number": 234
    },
    {
     "cell_type": "code",
     "collapsed": false,
     "input": [
      "mkindex = open('index.html', 'w')\n",
      "mkindex.write(str(doc))\n",
      "mkindex.close()"
     ],
     "language": "python",
     "metadata": {},
     "outputs": [
      {
       "ename": "UnicodeEncodeError",
       "evalue": "'ascii' codec can't encode character u'\\U0001f60a' in position 846: ordinal not in range(128)",
       "output_type": "pyerr",
       "traceback": [
        "\u001b[1;31m---------------------------------------------------------------------------\u001b[0m\n\u001b[1;31mUnicodeEncodeError\u001b[0m                        Traceback (most recent call last)",
        "\u001b[1;32m<ipython-input-235-37579473c5ef>\u001b[0m in \u001b[0;36m<module>\u001b[1;34m()\u001b[0m\n\u001b[0;32m      1\u001b[0m \u001b[0mmkindex\u001b[0m \u001b[1;33m=\u001b[0m \u001b[0mopen\u001b[0m\u001b[1;33m(\u001b[0m\u001b[1;34m'index.html'\u001b[0m\u001b[1;33m,\u001b[0m \u001b[1;34m'w'\u001b[0m\u001b[1;33m)\u001b[0m\u001b[1;33m\u001b[0m\u001b[0m\n\u001b[1;32m----> 2\u001b[1;33m \u001b[0mmkindex\u001b[0m\u001b[1;33m.\u001b[0m\u001b[0mwrite\u001b[0m\u001b[1;33m(\u001b[0m\u001b[0mstr\u001b[0m\u001b[1;33m(\u001b[0m\u001b[0mdoc\u001b[0m\u001b[1;33m)\u001b[0m\u001b[1;33m)\u001b[0m\u001b[1;33m\u001b[0m\u001b[0m\n\u001b[0m\u001b[0;32m      3\u001b[0m \u001b[0mmkindex\u001b[0m\u001b[1;33m.\u001b[0m\u001b[0mclose\u001b[0m\u001b[1;33m(\u001b[0m\u001b[1;33m)\u001b[0m\u001b[1;33m\u001b[0m\u001b[0m\n",
        "\u001b[1;31mUnicodeEncodeError\u001b[0m: 'ascii' codec can't encode character u'\\U0001f60a' in position 846: ordinal not in range(128)"
       ]
      }
     ],
     "prompt_number": 235
    },
    {
     "cell_type": "code",
     "collapsed": false,
     "input": [
      "pwd"
     ],
     "language": "python",
     "metadata": {},
     "outputs": [
      {
       "metadata": {},
       "output_type": "pyout",
       "prompt_number": 236,
       "text": [
        "u'/home/wcmckee/rgdrecentReference'"
       ]
      }
     ],
     "prompt_number": 236
    },
    {
     "cell_type": "code",
     "collapsed": false,
     "input": [
      "ls"
     ],
     "language": "python",
     "metadata": {},
     "outputs": [
      {
       "output_type": "stream",
       "stream": "stdout",
       "text": [
        "\u001b[0m\u001b[01;34mblog\u001b[0m/  \u001b[01;34mcss\u001b[0m/  \u001b[01;34mimg\u001b[0m/  index.html  \u001b[01;34mjs\u001b[0m/\r\n"
       ]
      }
     ],
     "prompt_number": 237
    },
    {
     "cell_type": "code",
     "collapsed": false,
     "input": [
      "print str(doc)"
     ],
     "language": "python",
     "metadata": {},
     "outputs": [
      {
       "ename": "UnicodeEncodeError",
       "evalue": "'ascii' codec can't encode character u'\\U0001f60a' in position 846: ordinal not in range(128)",
       "output_type": "pyerr",
       "traceback": [
        "\u001b[1;31m---------------------------------------------------------------------------\u001b[0m\n\u001b[1;31mUnicodeEncodeError\u001b[0m                        Traceback (most recent call last)",
        "\u001b[1;32m<ipython-input-238-ec4d28d07023>\u001b[0m in \u001b[0;36m<module>\u001b[1;34m()\u001b[0m\n\u001b[1;32m----> 1\u001b[1;33m \u001b[1;32mprint\u001b[0m \u001b[0mstr\u001b[0m\u001b[1;33m(\u001b[0m\u001b[0mdoc\u001b[0m\u001b[1;33m)\u001b[0m\u001b[1;33m\u001b[0m\u001b[0m\n\u001b[0m",
        "\u001b[1;31mUnicodeEncodeError\u001b[0m: 'ascii' codec can't encode character u'\\U0001f60a' in position 846: ordinal not in range(128)"
       ]
      }
     ],
     "prompt_number": 238
    },
    {
     "cell_type": "code",
     "collapsed": false,
     "input": [
      "print strftime(\"%a, %d %b %Y %H:%M:%S +0000\")"
     ],
     "language": "python",
     "metadata": {},
     "outputs": []
    },
    {
     "cell_type": "code",
     "collapsed": false,
     "input": [
      "strftime(\"%d\" + \"/\" + \"%M\" + \"/\" + \"%Y\")"
     ],
     "language": "python",
     "metadata": {},
     "outputs": []
    },
    {
     "cell_type": "code",
     "collapsed": false,
     "input": [
      "time.localtime()"
     ],
     "language": "python",
     "metadata": {},
     "outputs": [
      {
       "metadata": {},
       "output_type": "pyout",
       "prompt_number": 239,
       "text": [
        "time.struct_time(tm_year=2014, tm_mon=9, tm_mday=21, tm_hour=8, tm_min=31, tm_sec=44, tm_wday=6, tm_yday=264, tm_isdst=1)"
       ]
      }
     ],
     "prompt_number": 239
    },
    {
     "cell_type": "code",
     "collapsed": false,
     "input": [
      "time.asctime()"
     ],
     "language": "python",
     "metadata": {},
     "outputs": [
      {
       "metadata": {},
       "output_type": "pyout",
       "prompt_number": 240,
       "text": [
        "'Sun Sep 21 08:31:45 2014'"
       ]
      }
     ],
     "prompt_number": 240
    },
    {
     "cell_type": "code",
     "collapsed": false,
     "input": [
      "doc.TAB)\n",
      "\n",
      "\n",
      "import math\n",
      "\n",
      "math.pi"
     ],
     "language": "python",
     "metadata": {},
     "outputs": [
      {
       "ename": "SyntaxError",
       "evalue": "invalid syntax (<ipython-input-241-48bb62e92033>, line 1)",
       "output_type": "pyerr",
       "traceback": [
        "\u001b[1;36m  File \u001b[1;32m\"<ipython-input-241-48bb62e92033>\"\u001b[1;36m, line \u001b[1;32m1\u001b[0m\n\u001b[1;33m    doc.TAB)\u001b[0m\n\u001b[1;37m           ^\u001b[0m\n\u001b[1;31mSyntaxError\u001b[0m\u001b[1;31m:\u001b[0m invalid syntax\n"
       ]
      }
     ],
     "prompt_number": 241
    },
    {
     "cell_type": "code",
     "collapsed": false,
     "input": [
      "Doc"
     ],
     "language": "python",
     "metadata": {},
     "outputs": [
      {
       "ename": "NameError",
       "evalue": "name 'Doc' is not defined",
       "output_type": "pyerr",
       "traceback": [
        "\u001b[1;31m---------------------------------------------------------------------------\u001b[0m\n\u001b[1;31mNameError\u001b[0m                                 Traceback (most recent call last)",
        "\u001b[1;32m<ipython-input-242-0976c9c0f0be>\u001b[0m in \u001b[0;36m<module>\u001b[1;34m()\u001b[0m\n\u001b[1;32m----> 1\u001b[1;33m \u001b[0mDoc\u001b[0m\u001b[1;33m\u001b[0m\u001b[0m\n\u001b[0m",
        "\u001b[1;31mNameError\u001b[0m: name 'Doc' is not defined"
       ]
      }
     ],
     "prompt_number": 242
    },
    {
     "cell_type": "code",
     "collapsed": false,
     "input": [
      "print ('hell')\n",
      "import math"
     ],
     "language": "python",
     "metadata": {},
     "outputs": []
    },
    {
     "cell_type": "code",
     "collapsed": false,
     "input": [
      "I"
     ],
     "language": "python",
     "metadata": {},
     "outputs": []
    },
    {
     "cell_type": "code",
     "collapsed": false,
     "input": [
      "pim = math.pi"
     ],
     "language": "python",
     "metadata": {},
     "outputs": [],
     "prompt_number": 243
    },
    {
     "cell_type": "code",
     "collapsed": false,
     "input": [
      "\n",
      "\n",
      "pim"
     ],
     "language": "python",
     "metadata": {},
     "outputs": [
      {
       "metadata": {},
       "output_type": "pyout",
       "prompt_number": 244,
       "text": [
        "3.141592653589793"
       ]
      }
     ],
     "prompt_number": 244
    },
    {
     "cell_type": "code",
     "collapsed": false,
     "input": [
      "os.chdir('/home/wcmckee/brobeur-blog-post/')"
     ],
     "language": "python",
     "metadata": {},
     "outputs": [],
     "prompt_number": 245
    },
    {
     "cell_type": "code",
     "collapsed": false,
     "input": [
      "\n",
      "we"
     ],
     "language": "python",
     "metadata": {},
     "outputs": [
      {
       "ename": "NameError",
       "evalue": "name 'we' is not defined",
       "output_type": "pyerr",
       "traceback": [
        "\u001b[1;31m---------------------------------------------------------------------------\u001b[0m\n\u001b[1;31mNameError\u001b[0m                                 Traceback (most recent call last)",
        "\u001b[1;32m<ipython-input-246-457a0fd3ce7c>\u001b[0m in \u001b[0;36m<module>\u001b[1;34m()\u001b[0m\n\u001b[0;32m      1\u001b[0m \u001b[1;33m\u001b[0m\u001b[0m\n\u001b[1;32m----> 2\u001b[1;33m \u001b[0mwe\u001b[0m\u001b[1;33m\u001b[0m\u001b[0m\n\u001b[0m",
        "\u001b[1;31mNameError\u001b[0m: name 'we' is not defined"
       ]
      }
     ],
     "prompt_number": 246
    },
    {
     "cell_type": "code",
     "collapsed": false,
     "input": [
      "os.listdir('"
     ],
     "language": "python",
     "metadata": {},
     "outputs": [],
     "prompt_number": 246
    },
    {
     "cell_type": "code",
     "collapsed": false,
     "input": [
      "\n",
      "\n",
      "\n",
      "\n"
     ],
     "language": "python",
     "metadata": {},
     "outputs": [],
     "prompt_number": 246
    },
    {
     "cell_type": "code",
     "collapsed": false,
     "input": [
      "ls"
     ],
     "language": "python",
     "metadata": {},
     "outputs": [
      {
       "output_type": "stream",
       "stream": "stdout",
       "text": [
        "index.html\r\n"
       ]
      }
     ],
     "prompt_number": 247
    },
    {
     "cell_type": "code",
     "collapsed": false,
     "input": [
      "cat index.html"
     ],
     "language": "python",
     "metadata": {},
     "outputs": [
      {
       "output_type": "stream",
       "stream": "stdout",
       "text": [
        "<!DOCTYPE html>\r\n",
        "<html>\r\n",
        "  <head>\r\n",
        "    <title>BroBeur Blog Post</title>\r\n",
        "    <link href=\"style.css\" rel=\"stylesheet\">\r\n",
        "    <script src=\"script.js\" type=\"text/javascript\"></script>\r\n",
        "  </head>\r\n",
        "  <body>\r\n",
        "    <div id=\"header\">\r\n",
        "      <ol>\r\n",
        "        <li>\r\n",
        "          <a href=\"/2013-05-11 20:03:37\r\n",
        ".html\">2013-05-11 20:03:37\r\n",
        "</a>\r\n",
        "        </li>\r\n",
        "      </ol>\r\n",
        "    </div>\r\n",
        "    <div class=\"body\">\r\n",
        "      <p>2013-04-13 13:32:53\r\n",
        "</p>\r\n",
        "      <h1>137\r\n",
        "</h1>\r\n",
        "      <p>&lt;html&gt;&lt;body&gt;&lt;p style=&quot;text-align: center;&quot;&gt;&lt;a href=&quot;http://brobeur.com/&quot;&gt;&lt;img class=&quot;size-full wp-image-138 aligncenter&quot; alt=&quot;&quot; src=&quot;/wp-content/uploads/2013/04/brobeurlogo2.png&quot; width=&quot;234&quot; height=&quot;60&quot;&gt;&lt;/a&gt;\r\n",
        "\r\n",
        "\r\n",
        "\r\n",
        "\r\n",
        "&lt;a href=&quot;/wp-content/uploads/2013/04/brobeurlogo-2.png&quot;&gt;&lt;img class=&quot;alignnone size-full wp-image-139&quot; alt=&quot;brobeurlogo-2&quot; src=&quot;/wp-content/uploads/2013/04/brobeurlogo-2.png&quot; width=&quot;247&quot; height=&quot;167&quot;&gt;&lt;/a&gt;&lt;/p&gt;&lt;/body&gt;&lt;/html&gt;</p>\r\n",
        "    </div>\r\n",
        "  </body>\r\n",
        "</html>"
       ]
      }
     ],
     "prompt_number": 248
    },
    {
     "cell_type": "code",
     "collapsed": false,
     "input": [],
     "language": "python",
     "metadata": {},
     "outputs": [],
     "prompt_number": 246
    },
    {
     "cell_type": "code",
     "collapsed": false,
     "input": [],
     "language": "python",
     "metadata": {},
     "outputs": [],
     "prompt_number": 246
    },
    {
     "cell_type": "code",
     "collapsed": false,
     "input": [],
     "language": "python",
     "metadata": {},
     "outputs": [],
     "prompt_number": 246
    },
    {
     "cell_type": "code",
     "collapsed": false,
     "input": [],
     "language": "python",
     "metadata": {},
     "outputs": []
    }
   ],
   "metadata": {}
  }
 ]
}