{
 "metadata": {
  "name": "",
  "signature": "sha256:e19dbef24d568a88a24d3c81392b12f16ab49323355a8626190d999543c7e72e"
 },
 "nbformat": 3,
 "nbformat_minor": 0,
 "worksheets": [
  {
   "cells": [
    {
     "cell_type": "markdown",
     "metadata": {},
     "source": [
      "Reddit Gets Drawn Snatch Script\n",
      "\n",
      "test"
     ]
    },
    {
     "cell_type": "code",
     "collapsed": false,
     "input": [
      "# -*- coding: utf-8 -*-\n",
      "# <nbformat>3.0</nbformat>\n",
      "\n",
      "# <markdowncell>\n",
      "\n",
      "# RedditGetsDrawn Snatch\n",
      "# \n",
      "# This is a Python script that takes data from reddit and posts it to another subreddit. It also creates a html file with the images embed into. The images are the most recent 25 on r/redditgetsdrawn.\n",
      "# \n",
      "\n",
      "# <markdowncell>\n",
      "\n",
      "# TODO\n",
      "# \n",
      "# submit art to users via website\n",
      "# \n",
      "# fix image sizes (need to scale down to 550px)\n",
      "# \n",
      "# Save to server rather than imgur\n",
      "# \n",
      "# Archieve, snapshots of rgd\n",
      "# \n",
      "# more artcontrol\n",
      "# \n",
      "# itwillbemine comments to html - currently being saved in contact \n",
      "# \n",
      "# work on css, div up page, title, side, body, fo\n",
      "# update twitter with ONE IMAGE and announce that the list has been updated.\n",
      "# \n",
      "# write blog post and submits to artcontroldrawsyou/blog \n",
      "# \n",
      "# gets sticked post on reddit\n",
      "# \n",
      "# delete about/contact page and have on all same page. can still have link to blog. \n",
      "# about \n",
      "# contact etc... along the top.\n",
      "# other sections\n",
      "# \n",
      "# post images to blog for archieve - save body to wcmckee.com/blog - md format?\n",
      "# \n",
      "# nikola install - build site.\n",
      "# \n",
      "# cronjob to update site ever ?? hours? 4?\n",
      "# \n",
      "# photos section: latest 25 photos submitted to redditgetsdrawn.\n",
      "# art section: latest 25 art submitted to redditgetsdrawn. \n",
      "\n",
      "# <codecell>\n",
      "\n",
      "import os\n",
      "import random\n",
      "import requests\n",
      "from bs4 import BeautifulSoup\n",
      "import re\n",
      "import json\n",
      "import time\n",
      "import praw\n",
      "import dominate\n",
      "from dominate.tags import *\n",
      "from time import gmtime, strftime\n",
      "\n",
      "# <codecell>\n",
      "\n",
      "os.chdir('/home/wcmckee/artcontroldrawsyou')"
     ],
     "language": "python",
     "metadata": {},
     "outputs": [],
     "prompt_number": 1
    },
    {
     "cell_type": "code",
     "collapsed": false,
     "input": [
      "r = praw.Reddit(user_agent='rgdsnatch')\n",
      "\n",
      "# <codecell>\n",
      "\n",
      "#r.login('artcontrol', 'taylor123vag!')\n",
      "\n",
      "# <codecell>\n",
      "\n",
      "rd = r.get_subreddit('redditgetsdrawn')\n",
      "\n",
      "# <codecell>\n",
      "\n",
      "subz = rd.get_hot().next()\n",
      "istit = (subz.title)\n",
      "istxt = (subz.selftext_html)\n",
      "istick = (subz.stickied)\n",
      "\n",
      "# <codecell>\n",
      "\n",
      "istit\n",
      "\n",
      "# <codecell>\n",
      "\n",
      "istxt\n",
      "\n",
      "# <codecell>\n",
      "\n",
      "rdnewz = rd.get_new()\n",
      "\n",
      "# <codecell>\n",
      "\n",
      "rdnew = []\n",
      "\n",
      "# <codecell>\n",
      "\n",
      "rdnew"
     ],
     "language": "python",
     "metadata": {},
     "outputs": [
      {
       "metadata": {},
       "output_type": "pyout",
       "prompt_number": 2,
       "text": [
        "[]"
       ]
      }
     ],
     "prompt_number": 2
    },
    {
     "cell_type": "code",
     "collapsed": false,
     "input": [
      "reddraw = praw.Reddit(user_agent='rgdsnatch')"
     ],
     "language": "python",
     "metadata": {},
     "outputs": [],
     "prompt_number": 3
    },
    {
     "cell_type": "code",
     "collapsed": false,
     "input": [
      "getrddraw = reddraw.get_subreddit('redditgetsdrawn')"
     ],
     "language": "python",
     "metadata": {},
     "outputs": [],
     "prompt_number": 4
    },
    {
     "cell_type": "code",
     "collapsed": false,
     "input": [
      "subz = getrddraw.get_new()"
     ],
     "language": "python",
     "metadata": {},
     "outputs": [],
     "prompt_number": 5
    },
    {
     "cell_type": "code",
     "collapsed": false,
     "input": [
      "rdnew = []"
     ],
     "language": "python",
     "metadata": {},
     "outputs": [],
     "prompt_number": 6
    },
    {
     "cell_type": "code",
     "collapsed": false,
     "input": [
      "rdnewz = getrddraw.get_new()\n",
      "\n",
      "# <codecell>\n",
      "\n",
      "rdnew = []\n",
      "\n",
      "# <codecell>\n",
      "\n",
      "rdnew\n",
      "\n",
      "# <codecell>\n",
      "\n",
      "for uz in rdnewz:\n",
      "    #print uz\n",
      "    rdnew.append(uz)\n"
     ],
     "language": "python",
     "metadata": {},
     "outputs": [],
     "prompt_number": 7
    },
    {
     "cell_type": "code",
     "collapsed": false,
     "input": [
      "datelis = []\n",
      "refdic = {}"
     ],
     "language": "python",
     "metadata": {},
     "outputs": [],
     "prompt_number": 8
    },
    {
     "cell_type": "code",
     "collapsed": false,
     "input": [
      "for rdz in rdnew:\n",
      "    print rdz.name\n",
      "    print rdz.title\n",
      "    print rdz.url\n",
      "    print rdz.author\n",
      "    print rdz.secure_media\n",
      "    print rdz.num_comments\n",
      "    datelis.append(rdz.title)\n",
      "    datelis.append(rdz.url)\n",
      "    datelis.append(rdz.author)"
     ],
     "language": "python",
     "metadata": {},
     "outputs": [
      {
       "output_type": "stream",
       "stream": "stdout",
       "text": [
        "t3_2h2nf4\n",
        "It's time for RGD Mod Favorites (September 14 - September 20)! See inside for details!\n",
        "http://www.reddit.com/r/redditgetsdrawn/comments/2h2nf4/its_time_for_rgd_mod_favorites_september_14/\n",
        "ItWillBeMine\n",
        "None\n",
        "3\n",
        "t3_2h28v2\n",
        "Hey Reddit! I'm trying to do something special for my girlfriend, would anyone be willing to draw her favorite photo of us?\n",
        "http://imgur.com/VQrGIT4\n",
        "Wonderweiss_Margela\n",
        "None\n",
        "0\n",
        "t3_2h29wf\n",
        "Weird picture of me, if someone could draw me I'd be so grateful!\n",
        "http://imgur.com/C7lH6Jp\n",
        "ameliaee\n",
        "None\n",
        "0\n",
        "t3_2h2baf\n",
        "I did a creepy carnival photoshoot! Anybody fancy drawing me? All styles welcome! :D\n",
        "http://i.imgur.com/s9MoNZn.jpg\n",
        "TheAtkinsoj\n",
        "None\n",
        "0\n",
        "t3_2h2d8q\n",
        "Hey RGD I was wondering if you could draw my favorite picture of my fianc\u00e9 proposing to me!\n",
        "http://i.imgur.com/oQoB7OG.jpg\n",
        "G-lover41\n",
        "None\n",
        "0\n",
        "t3_2h2fkk\n",
        "This is my daughter on her second birthday. Look at that smile!\n",
        "http://i.imgur.com/CzVF3nO.jpg?1\n",
        "natmi\n",
        "None\n",
        "0\n",
        "t3_2h2fl4\n",
        "Would anyone be able to try and draw my favorite photo of me? All styles welcome!\n",
        "http://i.imgur.com/G09y3PH.jpg\n",
        "HaleyDara\n",
        "None\n",
        "0\n",
        "t3_2h2fmm\n",
        "Reddit, I would love if you could draw me!\n",
        "http://i.imgur.com/1MqLXh1.jpg\n",
        "vodkaradish\n",
        "None\n",
        "0\n",
        "t3_2h2g2d\n",
        "Make me look like some sort of game character, cyborg, or villain?\n",
        "http://i.imgur.com/BqU7cZY.jpg\n",
        "HAIRLESSCANCERPUSSY\n",
        "None\n",
        "0\n",
        "t3_2h2gmm\n",
        "Draw me (pictured) in the style of any era; past, present, or future. Be creative! Any styles welcome.\n",
        "http://i.imgur.com/WLi9G6i.jpg\n",
        "InTheMidstOfWinter\n",
        "None\n",
        "0\n",
        "t3_2h2gtv\n",
        "Can someone draw my son, he's dope\n",
        "http://i.imgur.com/kGDib6t.jpg\n",
        "maymer\n",
        "None\n",
        "0\n",
        "t3_2h2i06\n",
        "Can you please draw me looking dapper with my brandy?\n",
        "http://i.imgur.com/kaEarve.jpg\n",
        "FryDay444\n",
        "None\n",
        "0\n",
        "t3_2h2i17\n",
        "My father and I cycled through an industrial harbour\n",
        "http://i.imgur.com/wACPUfl.jpg\n",
        "Heisenberglington\n",
        "None\n",
        "0\n",
        "t3_2h271o\n",
        "Can anyone bring this old picture of my dad holding me and my twin brother back to life??\n",
        "http://i.imgur.com/nnpgmqj.jpg\n",
        "unclearry\n",
        "None\n",
        "0\n",
        "t3_2h2669\n",
        "I got a new headshot! Any takers?\n",
        "http://imgur.com/EGHiAse\n",
        "svidrigail0v\n",
        "None\n",
        "5\n",
        "t3_2h24sb\n",
        "Never had this done before, but would make my year....Would Reddit be kind enough to draw me? Other Choices of photos in comments...\n",
        "http://imgur.com/Z1KPX8W\n",
        "rlmonts\n",
        "None\n",
        "1\n",
        "t3_2h24o6\n",
        "If you folks wouldn't mind: Here is my tequila sombrero\n",
        "http://imgur.com/r9sBovm\n",
        "tackled_parsley\n",
        "None\n",
        "0\n",
        "t3_2h244r\n",
        "Hey Reddit! Can you draw me in a cave I found in Jamaica?\n",
        "http://i.imgur.com/7bs4D9e.jpg\n",
        "Fuck1_Marry1_Kill1\n",
        "None\n",
        "1\n",
        "t3_2h240b\n",
        "Care to draw me? All styles appreciated!\n",
        "https://i.imgur.com/nYiDhCY.jpg\n",
        "Samrojas0\n",
        "None\n",
        "0\n",
        "t3_2h23gh\n",
        "My first pic with my first girlfriend\n",
        "http://i.imgur.com/S6aj9Bh.jpg\n",
        "wiineeth\n",
        "None\n",
        "0\n",
        "t3_2h21mq\n",
        "Does anyone want to draw me in drag? :D\n",
        "http://i.imgur.com/na7Tiat.png\n",
        "nickbeiler\n",
        "None\n",
        "0\n",
        "t3_2h20jp\n",
        "I would if someone could draw this picture of my fianc\u00e9 and I\n",
        "http://i.imgur.com/kaVLl2Q.jpg\n",
        "Sharktopus12\n",
        "None\n",
        "0\n",
        "t3_2h1xh5\n",
        "I'd love it if someone could draw my boyfriend and I in some sci-fi, steampunk, futuristic style!\n",
        "http://i.imgur.com/eu0yULu.jpg\n",
        "vergissmeinnichtx\n",
        "None\n",
        "0\n",
        "t3_2h1xds\n",
        "Hi RGD! I haven't had much time to draw lately :( so I'm contributing with a photo this time. When I saw this picture of my girlfriend I instantly thought of you guys. I hope it may inspire you! :)\n",
        "http://imgur.com/WitbxbZ\n",
        "Bixnoodles\n",
        "None\n",
        "10\n",
        "t3_2h1wk3\n",
        "I'm quite fond of this pic taken while I was watching the sunset in Morocco. Would love to get it drawn.\n",
        "http://imgur.com/F5fmhIa\n",
        "ManaSyn\n",
        "None\n",
        "2\n"
       ]
      }
     ],
     "prompt_number": 9
    },
    {
     "cell_type": "code",
     "collapsed": false,
     "input": [
      "import dominate\n",
      "from dominate.tags import *\n",
      "\n",
      "doc = dominate.document(title='RedditGetsDrawn Recent Reference')\n",
      "\n",
      "with doc.head:\n",
      "    link(rel='stylesheet', href='style.css')\n",
      "    script(type='text/javascript', src='script.js')\n",
      "    \n",
      "    with div():\n",
      "        attr(cls='header')\n",
      "        h1('RedditGetsDrawn Recent Reference')\n",
      "        p('updated ', strftime(\"%a, %d %b %Y %H:%M:%S +0000\", gmtime()))\n",
      "\n",
      "    \n",
      "    \n",
      "\n",
      "with doc:\n",
      "    with div(id='body').add(ol()):\n",
      "        for rdz in rdnew:\n",
      "            h1(rdz.title)\n",
      "            a(rdz.url)\n",
      "            if '.jpg' or '.png' in rdz.url:\n",
      "                print rdz.url\n",
      "                p(img(rdz.url, src='%s' % rdz.url))\n",
      "            #print rdz.url\n",
      "            #if '.jpg' in rdz.url:\n",
      "            #    img(rdz.urlz)\n",
      "            #else:\n",
      "            #    a(rdz.urlz)\n",
      "            p(str(rdz.author))\n",
      "            \n",
      "            #li(img(i.lower(), src='%s' % i))\n",
      "\n",
      "    with div():\n",
      "        attr(cls='body')\n",
      "        p('RGDRecentReference is open source')\n",
      "        a('http://github.com/wcmckee/wcmckee')\n",
      "\n",
      "print doc"
     ],
     "language": "python",
     "metadata": {},
     "outputs": [
      {
       "output_type": "stream",
       "stream": "stdout",
       "text": [
        "http://www.reddit.com/r/redditgetsdrawn/comments/2h2nf4/its_time_for_rgd_mod_favorites_september_14/\n",
        "http://imgur.com/VQrGIT4\n",
        "http://imgur.com/C7lH6Jp\n",
        "http://i.imgur.com/s9MoNZn.jpg\n",
        "http://i.imgur.com/oQoB7OG.jpg\n",
        "http://i.imgur.com/CzVF3nO.jpg?1\n",
        "http://i.imgur.com/G09y3PH.jpg\n",
        "http://i.imgur.com/1MqLXh1.jpg\n",
        "http://i.imgur.com/BqU7cZY.jpg\n",
        "http://i.imgur.com/WLi9G6i.jpg\n",
        "http://i.imgur.com/kGDib6t.jpg\n",
        "http://i.imgur.com/kaEarve.jpg\n",
        "http://i.imgur.com/wACPUfl.jpg\n",
        "http://i.imgur.com/nnpgmqj.jpg\n",
        "http://imgur.com/EGHiAse\n",
        "http://imgur.com/Z1KPX8W\n",
        "http://imgur.com/r9sBovm\n",
        "http://i.imgur.com/7bs4D9e.jpg\n",
        "https://i.imgur.com/nYiDhCY.jpg\n",
        "http://i.imgur.com/S6aj9Bh.jpg\n",
        "http://i.imgur.com/na7Tiat.png\n",
        "http://i.imgur.com/kaVLl2Q.jpg\n",
        "http://i.imgur.com/eu0yULu.jpg\n",
        "http://imgur.com/WitbxbZ\n",
        "http://imgur.com/F5fmhIa\n"
       ]
      },
      {
       "ename": "UnicodeEncodeError",
       "evalue": "'ascii' codec can't encode character u'\\xe9' in position 1625: ordinal not in range(128)",
       "output_type": "pyerr",
       "traceback": [
        "\u001b[1;31m---------------------------------------------------------------------------\u001b[0m\n\u001b[1;31mUnicodeEncodeError\u001b[0m                        Traceback (most recent call last)",
        "\u001b[1;32m<ipython-input-10-a6b841fa3c26>\u001b[0m in \u001b[0;36m<module>\u001b[1;34m()\u001b[0m\n\u001b[0;32m     38\u001b[0m         \u001b[0ma\u001b[0m\u001b[1;33m(\u001b[0m\u001b[1;34m'http://github.com/wcmckee/wcmckee'\u001b[0m\u001b[1;33m)\u001b[0m\u001b[1;33m\u001b[0m\u001b[0m\n\u001b[0;32m     39\u001b[0m \u001b[1;33m\u001b[0m\u001b[0m\n\u001b[1;32m---> 40\u001b[1;33m \u001b[1;32mprint\u001b[0m \u001b[0mdoc\u001b[0m\u001b[1;33m\u001b[0m\u001b[0m\n\u001b[0m",
        "\u001b[1;31mUnicodeEncodeError\u001b[0m: 'ascii' codec can't encode character u'\\xe9' in position 1625: ordinal not in range(128)"
       ]
      }
     ],
     "prompt_number": 10
    },
    {
     "cell_type": "code",
     "collapsed": false,
     "input": [
      "rgdir = ('/home/wcmckee/rgdrecentReference/')"
     ],
     "language": "python",
     "metadata": {},
     "outputs": [],
     "prompt_number": 11
    },
    {
     "cell_type": "code",
     "collapsed": false,
     "input": [
      "os.chdir(rgdir)"
     ],
     "language": "python",
     "metadata": {},
     "outputs": [],
     "prompt_number": 12
    },
    {
     "cell_type": "code",
     "collapsed": false,
     "input": [
      "mkindex = open('index.html', 'w')\n",
      "mkindex.write(str(doc))\n",
      "mkindex.close()"
     ],
     "language": "python",
     "metadata": {},
     "outputs": [
      {
       "ename": "UnicodeEncodeError",
       "evalue": "'ascii' codec can't encode character u'\\xe9' in position 1625: ordinal not in range(128)",
       "output_type": "pyerr",
       "traceback": [
        "\u001b[1;31m---------------------------------------------------------------------------\u001b[0m\n\u001b[1;31mUnicodeEncodeError\u001b[0m                        Traceback (most recent call last)",
        "\u001b[1;32m<ipython-input-13-37579473c5ef>\u001b[0m in \u001b[0;36m<module>\u001b[1;34m()\u001b[0m\n\u001b[0;32m      1\u001b[0m \u001b[0mmkindex\u001b[0m \u001b[1;33m=\u001b[0m \u001b[0mopen\u001b[0m\u001b[1;33m(\u001b[0m\u001b[1;34m'index.html'\u001b[0m\u001b[1;33m,\u001b[0m \u001b[1;34m'w'\u001b[0m\u001b[1;33m)\u001b[0m\u001b[1;33m\u001b[0m\u001b[0m\n\u001b[1;32m----> 2\u001b[1;33m \u001b[0mmkindex\u001b[0m\u001b[1;33m.\u001b[0m\u001b[0mwrite\u001b[0m\u001b[1;33m(\u001b[0m\u001b[0mstr\u001b[0m\u001b[1;33m(\u001b[0m\u001b[0mdoc\u001b[0m\u001b[1;33m)\u001b[0m\u001b[1;33m)\u001b[0m\u001b[1;33m\u001b[0m\u001b[0m\n\u001b[0m\u001b[0;32m      3\u001b[0m \u001b[0mmkindex\u001b[0m\u001b[1;33m.\u001b[0m\u001b[0mclose\u001b[0m\u001b[1;33m(\u001b[0m\u001b[1;33m)\u001b[0m\u001b[1;33m\u001b[0m\u001b[0m\n",
        "\u001b[1;31mUnicodeEncodeError\u001b[0m: 'ascii' codec can't encode character u'\\xe9' in position 1625: ordinal not in range(128)"
       ]
      }
     ],
     "prompt_number": 13
    },
    {
     "cell_type": "code",
     "collapsed": false,
     "input": [
      "pwd"
     ],
     "language": "python",
     "metadata": {},
     "outputs": [
      {
       "metadata": {},
       "output_type": "pyout",
       "prompt_number": 14,
       "text": [
        "u'/home/wcmckee/rgdrecentReference'"
       ]
      }
     ],
     "prompt_number": 14
    },
    {
     "cell_type": "code",
     "collapsed": false,
     "input": [
      "ls"
     ],
     "language": "python",
     "metadata": {},
     "outputs": [
      {
       "output_type": "stream",
       "stream": "stdout",
       "text": [
        "\u001b[0m\u001b[01;34mblog\u001b[0m/  \u001b[01;34mcss\u001b[0m/  \u001b[01;34mimg\u001b[0m/  index.html  \u001b[01;34mjs\u001b[0m/\r\n"
       ]
      }
     ],
     "prompt_number": 15
    },
    {
     "cell_type": "code",
     "collapsed": false,
     "input": [
      "print str(doc)"
     ],
     "language": "python",
     "metadata": {},
     "outputs": [
      {
       "ename": "UnicodeEncodeError",
       "evalue": "'ascii' codec can't encode character u'\\xe9' in position 1625: ordinal not in range(128)",
       "output_type": "pyerr",
       "traceback": [
        "\u001b[1;31m---------------------------------------------------------------------------\u001b[0m\n\u001b[1;31mUnicodeEncodeError\u001b[0m                        Traceback (most recent call last)",
        "\u001b[1;32m<ipython-input-16-ec4d28d07023>\u001b[0m in \u001b[0;36m<module>\u001b[1;34m()\u001b[0m\n\u001b[1;32m----> 1\u001b[1;33m \u001b[1;32mprint\u001b[0m \u001b[0mstr\u001b[0m\u001b[1;33m(\u001b[0m\u001b[0mdoc\u001b[0m\u001b[1;33m)\u001b[0m\u001b[1;33m\u001b[0m\u001b[0m\n\u001b[0m",
        "\u001b[1;31mUnicodeEncodeError\u001b[0m: 'ascii' codec can't encode character u'\\xe9' in position 1625: ordinal not in range(128)"
       ]
      }
     ],
     "prompt_number": 16
    },
    {
     "cell_type": "code",
     "collapsed": false,
     "input": [
      "print strftime(\"%a, %d %b %Y %H:%M:%S +0000\")"
     ],
     "language": "python",
     "metadata": {},
     "outputs": [
      {
       "output_type": "stream",
       "stream": "stdout",
       "text": [
        "Sun, 21 Sep 2014 19:48:14 +0000\n"
       ]
      }
     ],
     "prompt_number": 17
    },
    {
     "cell_type": "code",
     "collapsed": false,
     "input": [
      "strftime(\"%d\" + \"/\" + \"%M\" + \"/\" + \"%Y\")"
     ],
     "language": "python",
     "metadata": {},
     "outputs": [
      {
       "metadata": {},
       "output_type": "pyout",
       "prompt_number": 18,
       "text": [
        "'21/48/2014'"
       ]
      }
     ],
     "prompt_number": 18
    },
    {
     "cell_type": "code",
     "collapsed": false,
     "input": [
      "time.localtime()"
     ],
     "language": "python",
     "metadata": {},
     "outputs": [
      {
       "metadata": {},
       "output_type": "pyout",
       "prompt_number": 19,
       "text": [
        "time.struct_time(tm_year=2014, tm_mon=9, tm_mday=21, tm_hour=19, tm_min=48, tm_sec=16, tm_wday=6, tm_yday=264, tm_isdst=1)"
       ]
      }
     ],
     "prompt_number": 19
    },
    {
     "cell_type": "code",
     "collapsed": false,
     "input": [
      "time.asctime()"
     ],
     "language": "python",
     "metadata": {},
     "outputs": [
      {
       "metadata": {},
       "output_type": "pyout",
       "prompt_number": 20,
       "text": [
        "'Sun Sep 21 19:48:17 2014'"
       ]
      }
     ],
     "prompt_number": 20
    },
    {
     "cell_type": "code",
     "collapsed": false,
     "input": [
      "doc.TAB)\n",
      "\n",
      "\n",
      "import math\n",
      "\n",
      "math.pi"
     ],
     "language": "python",
     "metadata": {},
     "outputs": [
      {
       "ename": "SyntaxError",
       "evalue": "invalid syntax (<ipython-input-21-48bb62e92033>, line 1)",
       "output_type": "pyerr",
       "traceback": [
        "\u001b[1;36m  File \u001b[1;32m\"<ipython-input-21-48bb62e92033>\"\u001b[1;36m, line \u001b[1;32m1\u001b[0m\n\u001b[1;33m    doc.TAB)\u001b[0m\n\u001b[1;37m           ^\u001b[0m\n\u001b[1;31mSyntaxError\u001b[0m\u001b[1;31m:\u001b[0m invalid syntax\n"
       ]
      }
     ],
     "prompt_number": 21
    },
    {
     "cell_type": "code",
     "collapsed": false,
     "input": [
      "Doc"
     ],
     "language": "python",
     "metadata": {},
     "outputs": [
      {
       "ename": "NameError",
       "evalue": "name 'Doc' is not defined",
       "output_type": "pyerr",
       "traceback": [
        "\u001b[1;31m---------------------------------------------------------------------------\u001b[0m\n\u001b[1;31mNameError\u001b[0m                                 Traceback (most recent call last)",
        "\u001b[1;32m<ipython-input-242-0976c9c0f0be>\u001b[0m in \u001b[0;36m<module>\u001b[1;34m()\u001b[0m\n\u001b[1;32m----> 1\u001b[1;33m \u001b[0mDoc\u001b[0m\u001b[1;33m\u001b[0m\u001b[0m\n\u001b[0m",
        "\u001b[1;31mNameError\u001b[0m: name 'Doc' is not defined"
       ]
      }
     ],
     "prompt_number": 242
    },
    {
     "cell_type": "code",
     "collapsed": false,
     "input": [
      "print ('hell')\n",
      "import math"
     ],
     "language": "python",
     "metadata": {},
     "outputs": []
    },
    {
     "cell_type": "code",
     "collapsed": false,
     "input": [
      "I"
     ],
     "language": "python",
     "metadata": {},
     "outputs": []
    },
    {
     "cell_type": "code",
     "collapsed": false,
     "input": [
      "pim = math.pi"
     ],
     "language": "python",
     "metadata": {},
     "outputs": [],
     "prompt_number": 243
    },
    {
     "cell_type": "code",
     "collapsed": false,
     "input": [
      "\n",
      "\n",
      "pim"
     ],
     "language": "python",
     "metadata": {},
     "outputs": [
      {
       "metadata": {},
       "output_type": "pyout",
       "prompt_number": 244,
       "text": [
        "3.141592653589793"
       ]
      }
     ],
     "prompt_number": 244
    },
    {
     "cell_type": "code",
     "collapsed": false,
     "input": [
      "os.chdir('/home/wcmckee/brobeur-blog-post/')"
     ],
     "language": "python",
     "metadata": {},
     "outputs": [],
     "prompt_number": 245
    },
    {
     "cell_type": "code",
     "collapsed": false,
     "input": [
      "\n",
      "we"
     ],
     "language": "python",
     "metadata": {},
     "outputs": [
      {
       "ename": "NameError",
       "evalue": "name 'we' is not defined",
       "output_type": "pyerr",
       "traceback": [
        "\u001b[1;31m---------------------------------------------------------------------------\u001b[0m\n\u001b[1;31mNameError\u001b[0m                                 Traceback (most recent call last)",
        "\u001b[1;32m<ipython-input-246-457a0fd3ce7c>\u001b[0m in \u001b[0;36m<module>\u001b[1;34m()\u001b[0m\n\u001b[0;32m      1\u001b[0m \u001b[1;33m\u001b[0m\u001b[0m\n\u001b[1;32m----> 2\u001b[1;33m \u001b[0mwe\u001b[0m\u001b[1;33m\u001b[0m\u001b[0m\n\u001b[0m",
        "\u001b[1;31mNameError\u001b[0m: name 'we' is not defined"
       ]
      }
     ],
     "prompt_number": 246
    },
    {
     "cell_type": "code",
     "collapsed": false,
     "input": [
      "os.listdir('"
     ],
     "language": "python",
     "metadata": {},
     "outputs": [],
     "prompt_number": 246
    },
    {
     "cell_type": "code",
     "collapsed": false,
     "input": [
      "\n",
      "\n",
      "\n",
      "\n"
     ],
     "language": "python",
     "metadata": {},
     "outputs": [],
     "prompt_number": 246
    },
    {
     "cell_type": "code",
     "collapsed": false,
     "input": [
      "ls"
     ],
     "language": "python",
     "metadata": {},
     "outputs": [
      {
       "output_type": "stream",
       "stream": "stdout",
       "text": [
        "index.html\r\n"
       ]
      }
     ],
     "prompt_number": 247
    },
    {
     "cell_type": "code",
     "collapsed": false,
     "input": [
      "cat index.html"
     ],
     "language": "python",
     "metadata": {},
     "outputs": [
      {
       "output_type": "stream",
       "stream": "stdout",
       "text": [
        "<!DOCTYPE html>\r\n",
        "<html>\r\n",
        "  <head>\r\n",
        "    <title>BroBeur Blog Post</title>\r\n",
        "    <link href=\"style.css\" rel=\"stylesheet\">\r\n",
        "    <script src=\"script.js\" type=\"text/javascript\"></script>\r\n",
        "  </head>\r\n",
        "  <body>\r\n",
        "    <div id=\"header\">\r\n",
        "      <ol>\r\n",
        "        <li>\r\n",
        "          <a href=\"/2013-05-11 20:03:37\r\n",
        ".html\">2013-05-11 20:03:37\r\n",
        "</a>\r\n",
        "        </li>\r\n",
        "      </ol>\r\n",
        "    </div>\r\n",
        "    <div class=\"body\">\r\n",
        "      <p>2013-04-13 13:32:53\r\n",
        "</p>\r\n",
        "      <h1>137\r\n",
        "</h1>\r\n",
        "      <p>&lt;html&gt;&lt;body&gt;&lt;p style=&quot;text-align: center;&quot;&gt;&lt;a href=&quot;http://brobeur.com/&quot;&gt;&lt;img class=&quot;size-full wp-image-138 aligncenter&quot; alt=&quot;&quot; src=&quot;/wp-content/uploads/2013/04/brobeurlogo2.png&quot; width=&quot;234&quot; height=&quot;60&quot;&gt;&lt;/a&gt;\r\n",
        "\r\n",
        "\r\n",
        "\r\n",
        "\r\n",
        "&lt;a href=&quot;/wp-content/uploads/2013/04/brobeurlogo-2.png&quot;&gt;&lt;img class=&quot;alignnone size-full wp-image-139&quot; alt=&quot;brobeurlogo-2&quot; src=&quot;/wp-content/uploads/2013/04/brobeurlogo-2.png&quot; width=&quot;247&quot; height=&quot;167&quot;&gt;&lt;/a&gt;&lt;/p&gt;&lt;/body&gt;&lt;/html&gt;</p>\r\n",
        "    </div>\r\n",
        "  </body>\r\n",
        "</html>"
       ]
      }
     ],
     "prompt_number": 248
    },
    {
     "cell_type": "code",
     "collapsed": false,
     "input": [],
     "language": "python",
     "metadata": {},
     "outputs": [],
     "prompt_number": 246
    },
    {
     "cell_type": "code",
     "collapsed": false,
     "input": [],
     "language": "python",
     "metadata": {},
     "outputs": [],
     "prompt_number": 246
    },
    {
     "cell_type": "code",
     "collapsed": false,
     "input": [],
     "language": "python",
     "metadata": {},
     "outputs": [],
     "prompt_number": 246
    },
    {
     "cell_type": "code",
     "collapsed": false,
     "input": [
      "brobeind = open('\u00edndex.html', 'r')"
     ],
     "language": "python",
     "metadata": {},
     "outputs": [
      {
       "ename": "IOError",
       "evalue": "[Errno 2] No such file or directory: '\\xc3\\xadndex.html'",
       "output_type": "pyerr",
       "traceback": [
        "\u001b[1;31m---------------------------------------------------------------------------\u001b[0m\n\u001b[1;31mIOError\u001b[0m                                   Traceback (most recent call last)",
        "\u001b[1;32m<ipython-input-23-c5d21ec2952d>\u001b[0m in \u001b[0;36m<module>\u001b[1;34m()\u001b[0m\n\u001b[1;32m----> 1\u001b[1;33m \u001b[0mbrobeind\u001b[0m \u001b[1;33m=\u001b[0m \u001b[0mopen\u001b[0m\u001b[1;33m(\u001b[0m\u001b[1;34m'\u00edndex.html'\u001b[0m\u001b[1;33m,\u001b[0m \u001b[1;34m'r'\u001b[0m\u001b[1;33m)\u001b[0m\u001b[1;33m\u001b[0m\u001b[0m\n\u001b[0m",
        "\u001b[1;31mIOError\u001b[0m: [Errno 2] No such file or directory: '\\xc3\\xadndex.html'"
       ]
      }
     ],
     "prompt_number": 23
    },
    {
     "cell_type": "code",
     "collapsed": false,
     "input": [],
     "language": "python",
     "metadata": {},
     "outputs": [],
     "prompt_number": 23
    },
    {
     "cell_type": "code",
     "collapsed": false,
     "input": [],
     "language": "python",
     "metadata": {},
     "outputs": [],
     "prompt_number": 23
    },
    {
     "cell_type": "code",
     "collapsed": false,
     "input": [],
     "language": "python",
     "metadata": {},
     "outputs": [],
     "prompt_number": 23
    },
    {
     "cell_type": "code",
     "collapsed": false,
     "input": [],
     "language": "python",
     "metadata": {},
     "outputs": [],
     "prompt_number": 23
    },
    {
     "cell_type": "code",
     "collapsed": false,
     "input": [],
     "language": "python",
     "metadata": {},
     "outputs": [],
     "prompt_number": 23
    },
    {
     "cell_type": "code",
     "collapsed": false,
     "input": [],
     "language": "python",
     "metadata": {},
     "outputs": [],
     "prompt_number": 23
    },
    {
     "cell_type": "code",
     "collapsed": false,
     "input": [
      "brotest = open('\u00edndex.html', 'r')\n",
      "brotest.read()"
     ],
     "language": "python",
     "metadata": {},
     "outputs": [
      {
       "ename": "IOError",
       "evalue": "[Errno 2] No such file or directory: '\\xc3\\xadndex.html'",
       "output_type": "pyerr",
       "traceback": [
        "\u001b[1;31m---------------------------------------------------------------------------\u001b[0m\n\u001b[1;31mIOError\u001b[0m                                   Traceback (most recent call last)",
        "\u001b[1;32m<ipython-input-24-dafca5df59bf>\u001b[0m in \u001b[0;36m<module>\u001b[1;34m()\u001b[0m\n\u001b[1;32m----> 1\u001b[1;33m \u001b[0mbrotest\u001b[0m \u001b[1;33m=\u001b[0m \u001b[0mopen\u001b[0m\u001b[1;33m(\u001b[0m\u001b[1;34m'\u00edndex.html'\u001b[0m\u001b[1;33m,\u001b[0m \u001b[1;34m'r'\u001b[0m\u001b[1;33m)\u001b[0m\u001b[1;33m\u001b[0m\u001b[0m\n\u001b[0m\u001b[0;32m      2\u001b[0m \u001b[0mbrotest\u001b[0m\u001b[1;33m.\u001b[0m\u001b[0mread\u001b[0m\u001b[1;33m(\u001b[0m\u001b[1;33m)\u001b[0m\u001b[1;33m\u001b[0m\u001b[0m\n",
        "\u001b[1;31mIOError\u001b[0m: [Errno 2] No such file or directory: '\\xc3\\xadndex.html'"
       ]
      }
     ],
     "prompt_number": 24
    },
    {
     "cell_type": "code",
     "collapsed": false,
     "input": [
      "ls"
     ],
     "language": "python",
     "metadata": {},
     "outputs": [
      {
       "output_type": "stream",
       "stream": "stdout",
       "text": [
        "\u001b[0m\u001b[01;34mblog\u001b[0m/  \u001b[01;34mcss\u001b[0m/  \u001b[01;34mimg\u001b[0m/  index.html  \u001b[01;34mjs\u001b[0m/\r\n"
       ]
      }
     ],
     "prompt_number": 26
    },
    {
     "cell_type": "code",
     "collapsed": false,
     "input": [],
     "language": "python",
     "metadata": {},
     "outputs": []
    }
   ],
   "metadata": {}
  }
 ]
}