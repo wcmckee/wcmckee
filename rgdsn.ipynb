{
 "metadata": {
  "name": "",
  "signature": "sha256:f0c5b858990402d19de3294a863008e2f3eece46d4637ba58656685ce8ec9862"
 },
 "nbformat": 3,
 "nbformat_minor": 0,
 "worksheets": [
  {
   "cells": [
    {
     "cell_type": "markdown",
     "metadata": {},
     "source": [
      "<h1>Reddit Gets Drawn Snatch Script</h1>\n",
      "\n",
      "Creates the website redditgetsdrawnrecentreference. It contains the 25 most recent posts on r/redditgetsdrawn. title, image url, and username\n",
      "\n",
      "TODO:\n",
      "Contains artwork replies to each thread\n",
      "\n",
      "This is a Python script that takes data from reddit and posts it to another subreddit. It also creates a html file with the images embed into. The images are the most recent 25 on r/redditgetsdrawn."
     ]
    },
    {
     "cell_type": "markdown",
     "metadata": {},
     "source": [
      "RedditGetsDrawn Snatch\n",
      " \n",
      "This is a Python script that takes data from reddit and posts it to another subreddit. It also creates a html file with the images embed into. The images are the most recent 25 on r/redditgetsdrawn.\n",
      " \n",
      "\n",
      "<markdowncell>\n",
      "\n",
      "TODO\n",
      " \n",
      "submit art to users via website\n",
      " \n",
      "fix image sizes (need to scale down to 550px)\n",
      " \n",
      "Save to server rather than imgur\n",
      " \n",
      "Archieve, snapshots of rgd\n",
      " \n",
      "more artcontrol\n",
      " \n",
      "itwillbemine comments to html - currently being saved in contact \n",
      " \n",
      "work on css, div up page, title, side, body, fo\n",
      "\n",
      "update twitter with ONE IMAGE and announce that the list has been updated.\n",
      " \n",
      "write blog post and submits to artcontroldrawsyou/blog \n",
      " \n",
      "gets sticked post on reddit\n",
      " \n",
      "delete about/contact page and have on all same page. can still have link to blog. \n",
      "about \n",
      "contact etc... along the top.\n",
      "other sections\n",
      " \n",
      "post images to blog for archieve - save body to wcmckee.com/blog - md format?\n",
      " \n",
      "nikola install - build site.\n",
      " \n",
      "cronjob to update site ever ?? hours? 4?\n",
      " \n",
      "photos section: latest 25 photos submitted to redditgetsdrawn.\n",
      "art section: latest 25 art submitted to redditgetsdrawn. "
     ]
    },
    {
     "cell_type": "code",
     "collapsed": false,
     "input": [
      "import os\n",
      "import random\n",
      "import requests\n",
      "from bs4 import BeautifulSoup\n",
      "import re\n",
      "import json\n",
      "import time\n",
      "import praw\n",
      "import dominate\n",
      "from dominate.tags import *\n",
      "from time import gmtime, strftime\n",
      "import nose\n",
      "import unittest\n",
      "\n",
      "# <codecell>"
     ],
     "language": "python",
     "metadata": {},
     "outputs": [],
     "prompt_number": 38
    },
    {
     "cell_type": "code",
     "collapsed": false,
     "input": [
      "chdira = ('/home/wcmckee/artcontroldrawsyou')\n",
      "os.chdir(chdira)"
     ],
     "language": "python",
     "metadata": {},
     "outputs": [],
     "prompt_number": 39
    },
    {
     "cell_type": "code",
     "collapsed": false,
     "input": [
      "r = praw.Reddit(user_agent='rgdsnatch')\n",
      "\n",
      "# <codecell>\n",
      "\n",
      "#r.login('artcontrol', 'taylor123vag!')\n",
      "\n",
      "# <codecell>\n",
      "\n",
      "rd = r.get_subreddit('redditgetsdrawn')\n",
      "\n",
      "# <codecell>\n",
      "\n",
      "subz = rd.get_hot().next()\n",
      "istit = (subz.title)\n",
      "istxt = (subz.selftext_html)\n",
      "istick = (subz.stickied)\n",
      "\n",
      "rdnewz = rd.get_new()\n",
      "\n",
      "rdnew = []"
     ],
     "language": "python",
     "metadata": {},
     "outputs": [],
     "prompt_number": 40
    },
    {
     "cell_type": "code",
     "collapsed": false,
     "input": [
      "reddraw = praw.Reddit(user_agent='rgdsnatch')"
     ],
     "language": "python",
     "metadata": {},
     "outputs": [],
     "prompt_number": 41
    },
    {
     "cell_type": "code",
     "collapsed": false,
     "input": [
      "getrddraw = reddraw.get_subreddit('redditgetsdrawn')"
     ],
     "language": "python",
     "metadata": {},
     "outputs": [],
     "prompt_number": 42
    },
    {
     "cell_type": "code",
     "collapsed": false,
     "input": [
      "subz = getrddraw.get_new()"
     ],
     "language": "python",
     "metadata": {},
     "outputs": [],
     "prompt_number": 43
    },
    {
     "cell_type": "code",
     "collapsed": false,
     "input": [
      "class TestRedditFunction(unittest.TestCase):\n",
      "    \n",
      "    def setUp(self):\n",
      "        self.seq = reddraw.get_subreddit('redditgetsdrawn')\n",
      "        \n",
      "    def testredit(self):\n",
      "        drawnew('redditgetsdrawn') "
     ],
     "language": "python",
     "metadata": {},
     "outputs": [],
     "prompt_number": 44
    },
    {
     "cell_type": "code",
     "collapsed": false,
     "input": [
      "def drawnew(subred):\n",
      "    getrdraw = reddraw.get_subreddit(subred)\n",
      "    return getrdraw"
     ],
     "language": "python",
     "metadata": {},
     "outputs": [],
     "prompt_number": 45
    },
    {
     "cell_type": "code",
     "collapsed": false,
     "input": [
      "rdrws = drawnew('redditgetsdrawn')"
     ],
     "language": "python",
     "metadata": {},
     "outputs": [],
     "prompt_number": 46
    },
    {
     "cell_type": "code",
     "collapsed": false,
     "input": [
      "rtohr = rdrws.get_controversial_from_all()"
     ],
     "language": "python",
     "metadata": {},
     "outputs": [],
     "prompt_number": 47
    },
    {
     "cell_type": "code",
     "collapsed": false,
     "input": [
      "for imgz in rtohr:\n",
      "    #print imgz.selftext\n",
      "    print imgz.num_comments"
     ],
     "language": "python",
     "metadata": {},
     "outputs": [
      {
       "output_type": "stream",
       "stream": "stdout",
       "text": [
        "8\n",
        "33\n",
        "26\n",
        "8\n",
        "71\n",
        "53\n",
        "7\n",
        "23\n",
        "5\n",
        "61\n",
        "6\n",
        "20\n",
        "59\n",
        "58\n",
        "14\n",
        "3\n",
        "7\n",
        "10\n",
        "26\n",
        "56\n",
        "37\n",
        "15\n",
        "2\n",
        "3\n",
        "0\n"
       ]
      }
     ],
     "prompt_number": 48
    },
    {
     "cell_type": "code",
     "collapsed": false,
     "input": [
      "rdnew = []"
     ],
     "language": "python",
     "metadata": {},
     "outputs": [],
     "prompt_number": 49
    },
    {
     "cell_type": "code",
     "collapsed": false,
     "input": [
      "rdnewz = getrddraw.get_new()\n",
      "\n",
      "# <codecell>\n",
      "\n",
      "rdnew = []\n",
      "\n",
      "# <codecell>\n",
      "\n",
      "rdnew\n",
      "\n",
      "# <codecell>\n",
      "\n",
      "for uz in rdnewz:\n",
      "    #print uz\n",
      "    rdnew.append(uz)\n"
     ],
     "language": "python",
     "metadata": {},
     "outputs": [],
     "prompt_number": 50
    },
    {
     "cell_type": "code",
     "collapsed": false,
     "input": [
      "datelis = []\n",
      "refdic = {}\n",
      "rgdef = {'test': 'testvalue'}\n",
      "comdefz = []\n"
     ],
     "language": "python",
     "metadata": {},
     "outputs": [],
     "prompt_number": 51
    },
    {
     "cell_type": "code",
     "collapsed": false,
     "input": [
      "for rdz in rdnew:\n",
      "    print rdz.name\n",
      "    print rdz.title\n",
      "    print rdz.url\n",
      "    print rdz.author\n",
      "    print rdz.secure_media\n",
      "    print rdz.num_comments\n",
      "    print rdz.comments\n",
      "    comdefz.append(rdz.comments)\n",
      "    datelis.append(rdz.title)\n",
      "    datelis.append(rdz.url)\n",
      "    datelis.append(rdz.author)\n",
      "    comdict = {'comtxt':rdz.comments}\n",
      "    rgdef.update({rdz.author: rdz.url})"
     ],
     "language": "python",
     "metadata": {},
     "outputs": [
      {
       "output_type": "stream",
       "stream": "stdout",
       "text": [
        "t3_2ke41n\n",
        "A year ago a bunch of you art monsters drew me performing stand up comedy. I loved it so much I selfishly demand round 2! Here I am performing more comedy, do whatever you want! &lt;3 u\n",
        "http://imgur.com/a/ZnI7d\n",
        "Cuboner\n",
        "None\n",
        "0\n",
        "[]"
       ]
      },
      {
       "output_type": "stream",
       "stream": "stdout",
       "text": [
        "\n",
        "t3_2kdx78\n",
        "A photo that sums up my relationship with my daughter. Might be fun for someone to draw!\n",
        "http://i.imgur.com/YcR3Kpd.jpg\n",
        "Raai\n",
        "None\n",
        "0\n",
        "[]"
       ]
      },
      {
       "output_type": "stream",
       "stream": "stdout",
       "text": [
        "\n",
        "t3_2kdvqj\n",
        "My sister's Halloween costume is still in-progress, but I think it looks awesome already! Anyone care to draw her?\n",
        "http://i.imgur.com/4u4WoNE.jpg\n",
        "Boldly_GoingNowhere\n",
        "None\n",
        "10\n",
        "[<praw.objects.Comment object at 0x22209f0>, <praw.objects.Comment object at 0x2228050>, <praw.objects.Comment object at 0x2079e90>, <praw.objects.Comment object at 0x20794b0>, <praw.objects.Comment object at 0x2079c30>]"
       ]
      },
      {
       "output_type": "stream",
       "stream": "stdout",
       "text": [
        "\n",
        "t3_2kdun6\n",
        "With a flower in her hair. You can draw me if you'd like.\n",
        "http://imgur.com/yVI5qbR\n",
        "Ryyna\n",
        "None\n",
        "2\n",
        "[<praw.objects.Comment object at 0x2228150>, <praw.objects.Comment object at 0x2079f70>]"
       ]
      },
      {
       "output_type": "stream",
       "stream": "stdout",
       "text": [
        "\n",
        "t3_2kdndz\n",
        "It's our 9th anniversary! Would you draw my wife and I?\n",
        "http://imgur.com/a/Ir7aL\n",
        "thefutureeye\n",
        "None\n",
        "0\n",
        "[]"
       ]
      },
      {
       "output_type": "stream",
       "stream": "stdout",
       "text": [
        "\n",
        "t3_2kdpal\n",
        "Anyone care to draw the coolest picture taken of me sandwiched between my two sisters poolside?\n",
        "http://i.imgur.com/U5R334x.jpg\n",
        "ssweens113\n",
        "None\n",
        "3\n",
        "[<praw.objects.Comment object at 0x22113f0>]"
       ]
      },
      {
       "output_type": "stream",
       "stream": "stdout",
       "text": [
        "\n",
        "t3_2kdsa4\n",
        "My parents' anniversary is on Friday, and I'd love to surprise them with an art-ified version of this family picture!\n",
        "http://imgur.com/zwARcl0\n",
        "lalafish\n",
        "None\n",
        "0\n",
        "[]"
       ]
      },
      {
       "output_type": "stream",
       "stream": "stdout",
       "text": [
        "\n",
        "t3_2kdsxa\n",
        "Would anyone like to draw an old photo of myself, my brother, and my grandparents on the beach? :)\n",
        "http://i.imgur.com/fU9NSwd.jpg\n",
        "QueenFluffybutt\n",
        "None\n",
        "0\n",
        "[]"
       ]
      },
      {
       "output_type": "stream",
       "stream": "stdout",
       "text": [
        "\n",
        "t3_2kdtu2\n",
        "I would love to see myself, as Ric Flair, drawn in a classic wrestling way! Lets see it!\n",
        "http://i.imgur.com/jY0n0Xq.jpg\n",
        "larrylightz\n",
        "None\n",
        "0\n",
        "[]"
       ]
      },
      {
       "output_type": "stream",
       "stream": "stdout",
       "text": [
        "\n",
        "t3_2kdu7d\n",
        "This is my grandma in the 70's. I would like to give an artistic version of this to my mom as a present. Thank you!\n",
        "http://imgur.com/xQuEHYA\n",
        "kenzbot\n",
        "None\n",
        "4\n",
        "[<praw.objects.Comment object at 0x22284d0>, <praw.objects.Comment object at 0x2079590>, <praw.objects.Comment object at 0x208bc70>]"
       ]
      },
      {
       "output_type": "stream",
       "stream": "stdout",
       "text": [
        "\n",
        "t3_2kdmzc\n",
        "So it's my mums birthday on the 30th and she loves portraits. This picture is of her and my dad on holidays. I you love it if you could draw them for her birthday!\n",
        "http://i.imgur.com/wfLxlW0.jpg\n",
        "BenDoesGames\n",
        "None\n",
        "2\n",
        "[<praw.objects.Comment object at 0x2069e10>]"
       ]
      },
      {
       "output_type": "stream",
       "stream": "stdout",
       "text": [
        "\n",
        "t3_2kdgez\n",
        "I'm sure this subreddit will soon be flooded by Halloween, but my girlfriend spent many hours and hers is quite clever - I know she would love to have us drawn!\n",
        "http://imgur.com/a/x3aOi#0\n",
        "MightierThanSwords\n",
        "None\n",
        "10\n",
        "[<praw.objects.Comment object at 0x22a5eb0>, <praw.objects.Comment object at 0x22282f0>]"
       ]
      },
      {
       "output_type": "stream",
       "stream": "stdout",
       "text": [
        "\n",
        "t3_2kdj3a\n",
        "I'd love to see how you wonderful artists interpret this photo of my boyfriend and I at his last homecoming game!\n",
        "http://imgur.com/ZKWizuQ\n",
        "ilikeeggs1234\n",
        "None\n",
        "0\n",
        "[]"
       ]
      },
      {
       "output_type": "stream",
       "stream": "stdout",
       "text": [
        "\n",
        "t3_2kdhvw\n",
        "I would really appreciate it if someone could draw this picture of my badass brother! Any styles welcome :)\n",
        "http://imgur.com/tPgU0kK\n",
        "CrazySpecialist\n",
        "None\n",
        "7\n",
        "[<praw.objects.Comment object at 0x2201330>, <praw.objects.Comment object at 0x231ab90>, <praw.objects.Comment object at 0x231aeb0>]"
       ]
      },
      {
       "output_type": "stream",
       "stream": "stdout",
       "text": [
        "\n",
        "t3_2kdgrm\n",
        "My girlfriend's birthday is soon, and I'm sure she'd love a drawing of us in any style. Help me out?\n",
        "http://imgur.com/a/axzhG\n",
        "johnboonelives\n",
        "None\n",
        "0\n",
        "[]"
       ]
      },
      {
       "output_type": "stream",
       "stream": "stdout",
       "text": [
        "\n",
        "t3_2kdf8p\n",
        "My niece, nephew and their dog (Coco)\n",
        "http://imgur.com/fPe0l1E\n",
        "tonydrago\n",
        "None\n",
        "5\n",
        "[<praw.objects.Comment object at 0x22f26d0>]"
       ]
      },
      {
       "output_type": "stream",
       "stream": "stdout",
       "text": [
        "\n",
        "t3_2kdf80\n",
        "It's time for RGD Mod Favorites (October 19 - October 25)! See inside for details.\n",
        "http://www.reddit.com/r/redditgetsdrawn/comments/2kdf80/its_time_for_rgd_mod_favorites_october_19_october/\n",
        "ItWillBeMine\n",
        "None\n",
        "14\n",
        "[<praw.objects.Comment object at 0x22f2590>, <praw.objects.Comment object at 0x2309d10>, <praw.objects.Comment object at 0x231aef0>, <praw.objects.Comment object at 0x230b170>, <praw.objects.Comment object at 0x230b670>, <praw.objects.Comment object at 0x230b430>, <praw.objects.Comment object at 0x231af30>]"
       ]
      },
      {
       "output_type": "stream",
       "stream": "stdout",
       "text": [
        "\n",
        "t3_2kdefg\n",
        "Nice bed head. Here's mine.\n",
        "http://imgur.com/PwZCpxB\n",
        "Dkcub23\n",
        "None\n",
        "3\n",
        "[<praw.objects.Comment object at 0x205f050>, <praw.objects.Comment object at 0x22280f0>]"
       ]
      },
      {
       "output_type": "stream",
       "stream": "stdout",
       "text": [
        "\n",
        "t3_2kczws\n",
        "I'd love to surprise my girlfriend with a wonderful drawing of us. Here's a few pictures, pick one and surprise me!\n",
        "http://imgur.com/a/RFbep\n",
        "Itaki\n",
        "None\n",
        "0\n",
        "[]"
       ]
      },
      {
       "output_type": "stream",
       "stream": "stdout",
       "text": [
        "\n",
        "t3_2kd3dj\n",
        "If somone could draw my mate i'd be very pleased\n",
        "http://i.imgur.com/EBNSWIA.png\n",
        "swedishwb\n",
        "None\n",
        "8\n",
        "[<praw.objects.Comment object at 0x2220950>, <praw.objects.Comment object at 0x2079470>, <praw.objects.Comment object at 0x2079750>, <praw.objects.Comment object at 0x22346f0>, <praw.objects.Comment object at 0x22282d0>]"
       ]
      },
      {
       "output_type": "stream",
       "stream": "stdout",
       "text": [
        "\n",
        "t3_2kd55n\n",
        "RGD needs more cat. Would you please draw my demon child fiercely guarding his territory?\n",
        "http://i.imgur.com/z5KyRuL.jpg\n",
        "TheChainsOfMarkov\n",
        "None\n",
        "5\n",
        "[<praw.objects.Comment object at 0x2234050>, <praw.objects.Comment object at 0x2166950>, <praw.objects.Comment object at 0x2079cf0>]"
       ]
      },
      {
       "output_type": "stream",
       "stream": "stdout",
       "text": [
        "\n",
        "t3_2kcsrg\n",
        "I would love to see any style of the windup doll costume I made and got to wear to work today! (guy in the first photo is my boss)\n",
        "http://imgur.com/a/6CMMb\n",
        "PrettyLittleBird\n",
        "None\n",
        "6\n",
        "[<praw.objects.Comment object at 0x2211b10>, <praw.objects.Comment object at 0x230bc50>, <praw.objects.Comment object at 0x230bf10>]"
       ]
      },
      {
       "output_type": "stream",
       "stream": "stdout",
       "text": [
        "\n",
        "t3_2kcm2a\n",
        "Someone please draw us in an anime style please?\n",
        "http://i.imgur.com/Vtlf9D5.jpg\n",
        "Onlythisguy\n",
        "None\n",
        "2\n",
        "[<praw.objects.Comment object at 0x22340f0>]"
       ]
      },
      {
       "output_type": "stream",
       "stream": "stdout",
       "text": [
        "\n",
        "t3_2kckpc\n",
        "Picture of me, have fun with it\n",
        "http://m.imgur.com/jbqBVSE\n",
        "ericrmischke\n",
        "None\n",
        "9\n",
        "[<praw.objects.Comment object at 0x2220ed0>, <praw.objects.Comment object at 0x2079390>, <praw.objects.Comment object at 0x2367410>]"
       ]
      },
      {
       "output_type": "stream",
       "stream": "stdout",
       "text": [
        "\n",
        "t3_2kcigk\n",
        "Could you draw me in a Boardwalk Empire-esqu way?\n",
        "http://i.imgur.com/M0XN9O6l.jpg\n",
        "bull88\n",
        "None\n",
        "7\n",
        "[<praw.objects.Comment object at 0x23671d0>, <praw.objects.Comment object at 0x230bff0>]"
       ]
      },
      {
       "output_type": "stream",
       "stream": "stdout",
       "text": [
        "\n"
       ]
      }
     ],
     "prompt_number": 53
    },
    {
     "cell_type": "code",
     "collapsed": false,
     "input": [
      "comdict"
     ],
     "language": "python",
     "metadata": {},
     "outputs": [
      {
       "metadata": {},
       "output_type": "pyout",
       "prompt_number": 55,
       "text": [
        "{'comtxt': [<praw.objects.Comment at 0x23671d0>,\n",
        "  <praw.objects.Comment at 0x230bff0>]}"
       ]
      }
     ],
     "prompt_number": 55
    },
    {
     "cell_type": "code",
     "collapsed": false,
     "input": [
      "comply = []"
     ],
     "language": "python",
     "metadata": {},
     "outputs": [],
     "prompt_number": 56
    },
    {
     "cell_type": "code",
     "collapsed": false,
     "input": [
      "fddict = {'test': 'test'}"
     ],
     "language": "python",
     "metadata": {},
     "outputs": [],
     "prompt_number": 57
    },
    {
     "cell_type": "code",
     "collapsed": false,
     "input": [
      "for comaq in comdefz:\n",
      "    for fdz in comaq:\n",
      "        print fdz\n",
      "        print fdz.author\n",
      "        print fdz.created_utc\n",
      "        print fdz.replies\n",
      "        fddict.update({fdz.author: fdz.body})\n",
      "        comply.append(fdz.replies)"
     ],
     "language": "python",
     "metadata": {},
     "outputs": [
      {
       "output_type": "stream",
       "stream": "stdout",
       "text": [
        "[Here ya go!](http://i.imgur.com/lOkPoLq.jpg)\n",
        "\n",
        "Timelapse: http://youtu.be/Q5Y...\n",
        "ObeyMyBrain\n",
        "1414360095.0\n",
        "[<praw.objects.Comment object at 0x22281f0>, <praw.objects.Comment object at 0x2220070>]\n",
        "http://i.imgur.com/Ufwq6mZ.png\n",
        "\n",
        "http://i.imgur.com/FeYJSrE.png\n",
        "Glynrick\n",
        "1414360837.0\n",
        "[<praw.objects.Comment object at 0x22208f0>]\n",
        "[The goggles.](http://jpscribbles.tumblr.com/post/101017281348/goggles-for)\n",
        "drawmenow\n",
        "1414351209.0\n",
        "[<praw.objects.Comment object at 0x2220790>]\n",
        "[Kinda looks like Hancock](http://i.imgur.com/t2H3b6Q.jpg)\n",
        "LumpySpacePirate\n",
        "1414361971.0\n",
        "[<praw.objects.Comment object at 0x2079d70>]\n",
        "http://i.imgur.com/nJ9oDAc.jpg\n",
        "half_truths_at_best\n",
        "1414363061.0\n",
        "[<praw.objects.Comment object at 0x2079f50>]\n",
        "http://i.imgur.com/ugf0vFL.png\n",
        "Magiimice\n",
        "1414355148.0\n",
        "[]\n",
        "http://m.imgur.com/3X7WiIl\n",
        "\n",
        "Quick paint on my tablet. Watching a prog about P...\n",
        "kolkurtz\n",
        "1414358086.0\n",
        "[]\n",
        "[SuperSloppy](http://i.imgur.com/YDzGrDi.jpg)\n",
        "\n",
        "[With Moar Color](http://i.img...\n",
        "GetsBetterAfterAFew\n",
        "1414349896.0\n",
        "[<praw.objects.Comment object at 0x2234e90>]\n",
        "[deleted]\n",
        "None\n",
        "1414345391.0\n",
        "[<praw.objects.Comment object at 0x22a5a50>]\n",
        "Very cool photo! :)\n",
        "\n",
        "http://i.imgur.com/aP3WC7e.jpg\n",
        "Reeceepeeceepoop\n",
        "1414353272.0\n",
        "[]\n",
        "http://i.imgur.com/Oki2kkR.png\n",
        "Magiimice\n",
        "1414355476.0\n",
        "[]\n",
        "[Much love!](http://i.imgur.com/WcOgng3.png?1) \n",
        "thedood9700\n",
        "1414359551.0\n",
        "[<praw.objects.Comment object at 0x22a5f70>]\n",
        "[Some creative liberties...](http://i.imgur.com/EsP4EJd.png)\n",
        "\n",
        "I'm actually a ...\n",
        "J-u-l-y\n",
        "1414361394.0\n",
        "[]\n",
        "[deleted]\n",
        "None\n",
        "1414350055.0\n",
        "[<praw.objects.Comment object at 0x22f2d50>]\n",
        "http://imgur.com/O1chAha\n",
        "half_truths_at_best\n",
        "1414352524.0\n",
        "[<praw.objects.Comment object at 0x2207610>]\n",
        "[Thanks for the great picture!](http://i.imgur.com/4IG1SIC.jpg)\n",
        "LumpySpacePirate\n",
        "1414351180.0\n",
        "[<praw.objects.Comment object at 0x22f2570>, <praw.objects.Comment object at 0x231a170>]\n",
        "[I can't draw, but I have a new touch screen, so I gave it a go.](http://i.im..."
       ]
      },
      {
       "output_type": "stream",
       "stream": "stdout",
       "text": [
        "\n",
        "JustAdolf-LikeCher\n",
        "1414357265.0\n",
        "[<praw.objects.Comment object at 0x22f2a70>]\n",
        "[deleted]\n",
        "None\n",
        "1414351418.0\n",
        "[<praw.objects.Comment object at 0x231ae50>, <praw.objects.Comment object at 0x2201b30>]\n",
        "Woohoo! A picture OF me and a picture BY me.  Thanks for all the love! Checki...\n",
        "heretodraw\n",
        "1414348616.0\n",
        "[]\n",
        "I was just doing my comment thing when I noticed the tag...\n",
        "I haven't been he...\n",
        "J-u-l-y\n",
        "1414338505.0\n",
        "[]\n",
        "Wow, thank you so much /u/orvane! There are so many incredibly brilliant arti...\n",
        "nugget_meal\n",
        "1414341470.0\n",
        "[]\n",
        "First of all, thank you *so much* /u/heyryaaan! I really, really was not expe...\n",
        "littlebutmighty\n",
        "1414347246.0\n",
        "[<praw.objects.Comment object at 0x2309430>]\n",
        "^Well ^at ^least ^my ^mom ^thinks ^i'm ^good ^:/   jk lol\n",
        "\n",
        "\n",
        "Can I just say th...\n",
        "who-died\n",
        "1414347759.0\n",
        "[<praw.objects.Comment object at 0x230b410>]\n",
        "Thank you so much, fivepmsomewhere! I've been in a bit of an art funk and thi...\n",
        "Inspector_Santini\n",
        "1414356789.0\n",
        "[]\n",
        "Nazis... I hate those guys.\n",
        "\n",
        "A few more caricature-ish drawings this week, I ...\n",
        "-OchreJelly-\n",
        "1414339247.0\n",
        "[<praw.objects.Comment object at 0x230b710>]\n",
        "http://i.imgur.com/FraCoYH.png\n",
        "\n",
        "Here ya go man~\n",
        "SFyr\n",
        "1414341378.0\n",
        "[<praw.objects.Comment object at 0x230b830>]\n",
        "http://i.imgur.com/V25KRZg.png\n",
        "Magiimice\n",
        "1414355466.0\n",
        "[]\n",
        "http://imgur.com/Prt2i0E\n",
        "\n",
        "Before I knew what happened, your mate turned into ...\n",
        "Middle_aged_jew\n",
        "1414337229.0\n",
        "[]\n",
        "[Pencil sketch](http://imgur.com/AnvTcx5) bad lighting :/ I had fun thanks :)\n",
        "MasterKeith123\n",
        "1414340903.0\n",
        "[<praw.objects.Comment object at 0x2079e30>]\n",
        "Tried something completely new for me. Here's the rough result.\n",
        "\n",
        "http://i.img...\n",
        "SFyr\n",
        "1414346589.0\n",
        "[<praw.objects.Comment object at 0x2309670>]\n",
        "http://i.imgur.com/jZpytmi.png\n",
        "\n",
        "\n",
        "I think the eyes are a bit too far apart...\n",
        "Magiimice\n",
        "1414355174.0\n",
        "[<praw.objects.Comment object at 0x2079090>]\n",
        "[Sorry I rushed through it](http://i.imgur.com/YvKo9O7.jpg), just could not p...\n",
        "maestro_chi\n",
        "1414361102.0\n",
        "[]\n",
        "http://i.imgur.com/ZPfw0UZ.jpg\n",
        "Artector\n",
        "1414341096.0\n",
        "[<praw.objects.Comment object at 0x2234230>, <praw.objects.Comment object at 0x2309dd0>]\n",
        "http://imgur.com/zpvHMfQ\n",
        "Cabanana\n",
        "1414358154.0\n",
        "[]\n",
        "[Kitty.](http://imgur.com/a/a9y02)\n",
        "\n",
        "Sorry it's so light! Using just a normal ...\n",
        "Kitheka\n",
        "1414357603.0\n",
        "[]\n",
        ":) [here we are](http://quokkastudio.com/wp-content/uploads/smalldoll-1024x98...\n",
        "MeiDrawsYou\n",
        "1414347117.0\n",
        "[<praw.objects.Comment object at 0x230bdb0>]\n",
        "Hope this coincides with the rules! It's inspired. If it's a problem I can ta...\n",
        "Reeceepeeceepoop\n",
        "1414342680.0\n",
        "[<praw.objects.Comment object at 0x230bbf0>]\n",
        "Ah this was awesome to draw! [I hope you like it!](http://imgur.com/oxdf4LQ)\n",
        "...\n",
        "Hasegawaitao\n",
        "1414343183.0"
       ]
      },
      {
       "output_type": "stream",
       "stream": "stdout",
       "text": [
        "\n",
        "[<praw.objects.Comment object at 0x230bf70>]\n",
        "[First post. Sorry for crappy camera quality](http://i.imgur.com/QXn1vfc.jpg)\n",
        "ThaisontheTan\n",
        "1414319077.0\n",
        "[<praw.objects.Comment object at 0x2201e70>]\n",
        "https://imgur.com/fYEv71p\n",
        "mistermannequin\n",
        "1414311687.0\n",
        "[<praw.objects.Comment object at 0x22019d0>]\n",
        "I tried doing something I normally don't, haha...\n",
        "http://i.imgur.com/aT8YHkZ.png\n",
        "SFyr\n",
        "1414344136.0\n",
        "[<praw.objects.Comment object at 0x2218150>, <praw.objects.Comment object at 0x2367330>]\n",
        "http://i.imgur.com/M2ZCI6P.png\n",
        "Magiimice\n",
        "1414356279.0\n",
        "[<praw.objects.Comment object at 0x230bc10>]\n",
        "http://imgur.com/GV7qJo9\n",
        "TeachersPen\n",
        "1414337810.0\n",
        "[<praw.objects.Comment object at 0x2079310>, <praw.objects.Comment object at 0x2367430>]\n",
        "Never seen the show, but here goes nothing http://imgur.com/X0R64vY\n",
        "MostHonorableLeader\n",
        "1414352000.0\n",
        "[]\n"
       ]
      }
     ],
     "prompt_number": 58
    },
    {
     "cell_type": "code",
     "collapsed": false,
     "input": [
      "for coaz in comply:\n",
      "    print coaz\n",
      "    for coa in coaz:\n",
      "        print coa.body\n",
      "        print coa.author"
     ],
     "language": "python",
     "metadata": {},
     "outputs": [
      {
       "output_type": "stream",
       "stream": "stdout",
       "text": [
        "[<praw.objects.Comment object at 0x22281f0>, <praw.objects.Comment object at 0x2220070>]\n",
        "Looks great! Love the time lapse as well\n",
        "TeachersPen\n",
        "Really cool! I love the airship in the reflection. And the timelapse was awesome, thank you!!\n",
        "Boldly_GoingNowhere\n",
        "[<praw.objects.Comment object at 0x22208f0>]\n",
        "Love these!! You really captured her personality, thank you for including both versions!\n",
        "Boldly_GoingNowhere\n",
        "[<praw.objects.Comment object at 0x2220790>]\n",
        "Thank you so much, this is great! I can't wait to show her!\n",
        "Boldly_GoingNowhere\n",
        "[<praw.objects.Comment object at 0x2079d70>]\n",
        "What a great piece! I love your style, and that you added some lights to her goggles. It turned out wonderful, thank you!\n",
        "Boldly_GoingNowhere\n",
        "[<praw.objects.Comment object at 0x2079f50>]\n",
        "I love it! She loves stories and will think this is great. She's actually keeping her full costume a secret for now, so she may be a steampunk explorer after all! Love your little details, thank you!!\n",
        "Boldly_GoingNowhere\n",
        "[]\n",
        "[]\n",
        "[<praw.objects.Comment object at 0x2234e90>]\n",
        "Pretty cool! I like the water ripples!\n",
        "ssweens113\n",
        "[<praw.objects.Comment object at 0x22a5a50>]\n",
        "Comment removed; does not contain art. See sub rules in the sidebar. Thanks.\n",
        "yowtfyo\n",
        "[]\n",
        "[]\n",
        "[<praw.objects.Comment object at 0x22a5f70>]\n",
        "Thanks! That looks so cool! :D\n",
        "BenDoesGames\n",
        "[]\n",
        "[<praw.objects.Comment object at 0x22f2d50>]\n",
        "Come here.\n",
        "\n",
        "Closer.\n",
        "\n",
        "\n",
        "Closer.\n",
        "\n",
        "&lt;boxes your ears&gt;\n",
        "\n",
        "Let that be a lesson to ye to read our rules. And try not to be such a broseph.\n",
        "ItWillBeMine\n",
        "[<praw.objects.Comment object at 0x2207610>]\n",
        "Haha oh man, this is awesome, really made us both laugh :D Thank you so much for your time :)\n",
        "CrazySpecialist\n",
        "[<praw.objects.Comment object at 0x22f2570>, <praw.objects.Comment object at 0x231a170>]\n",
        "This looks amazing, I really love it and he does too. Thank you so much! :)\n",
        "CrazySpecialist\n",
        "Great picture. Style reminds me of Bob Sabiston's work in [A Scanner Darkly](http://zquaderengl392b.files.wordpress.com/2013/06/snap-2013-06-25-15h22m59s109.png)\n",
        "half_truths_at_best\n",
        "[<praw.objects.Comment object at 0x22f2a70>]\n",
        "Haha you actually *can* draw. Simple, but still great, thank you so much, he loves it too :)\n",
        "CrazySpecialist\n",
        "[<praw.objects.Comment object at 0x231ae50>, <praw.objects.Comment object at 0x2201b30>]\n",
        "[deleted]\n",
        "None\n",
        "Your comment was removed. Please read the rules of the sub before participating.\n",
        "ItWillBeMine\n",
        "[]\n",
        "[]\n",
        "[]\n",
        "[<praw.objects.Comment object at 0x2309430>]\n",
        "You named at least one of every mod's picks except for mine. ;)\n",
        "\n",
        "\n",
        "I love my five, my five are awesomesauce...\n",
        "ItWillBeMine\n",
        "[<praw.objects.Comment object at 0x230b410>]\n",
        "*happy dance* Thank you!\n",
        "\n",
        "And you had some *great* work this week. Don't sell yourself short! I particularly liked the portrait of JetDog, and I upvoted the *hell* out of the \"digital watercolor\" portrait you did, where you highlighted the tattoo in red. Genius, I tell you!\n",
        "littlebutmighty\n",
        "[]\n",
        "[<praw.objects.Comment object at 0x230b710>]\n",
        "Me too, they are literally the worst. My feelings at being compared as such can only be described via [this Jennifer Lawrence reaction gif.](http://i.imgur.com/UjKzbJd.gif) And now, I'm going to go watch some Californication and try to heal my feeeeeelings.\n",
        "ItWillBeMine\n",
        "[<praw.objects.Comment object at 0x230b830>]\n",
        "Whoa, that is crazy! Thank you!\n",
        "Dkcub23\n",
        "[]\n",
        "[]"
       ]
      },
      {
       "output_type": "stream",
       "stream": "stdout",
       "text": [
        "\n",
        "[<praw.objects.Comment object at 0x2079e30>]\n",
        "looks really good :)\n",
        "swedishwb\n",
        "[<praw.objects.Comment object at 0x2309670>]\n",
        "That one looks really great\n",
        "swedishwb\n",
        "[<praw.objects.Comment object at 0x2079090>]\n",
        "Looks good! :)\n",
        "swedishwb\n",
        "[]\n",
        "[<praw.objects.Comment object at 0x2234230>, <praw.objects.Comment object at 0x2309dd0>]\n",
        "This is awesome. Those eyes give him that sorta 'I'm gonna be nice to ya, but I'll kill ya if you touch my stand' feel.\n",
        "jtcglasson\n",
        "Whoa.  I love this!\n",
        "TheChainsOfMarkov\n",
        "[]\n",
        "[]\n",
        "[<praw.objects.Comment object at 0x230bdb0>]\n",
        "I love it! It's beautiful. :) So glowy!\n",
        "PrettyLittleBird\n",
        "[<praw.objects.Comment object at 0x230bbf0>]\n",
        "I really like that!\n",
        "PrettyLittleBird\n",
        "[<praw.objects.Comment object at 0x230bf70>]\n",
        "That's awesome! I'd love to see it colored, so be sure to share it if you do! \n",
        "\n",
        "PrettyLittleBird\n",
        "[<praw.objects.Comment object at 0x2201e70>]\n",
        "Welcome to the sub! :)\n",
        "ItWillBeMine\n",
        "[<praw.objects.Comment object at 0x22019d0>]\n",
        "Very clever! It works perfectly for that\n",
        "ericrmischke\n",
        "[<praw.objects.Comment object at 0x2218150>, <praw.objects.Comment object at 0x2367330>]\n",
        "That is epic! hahaha! Looks like a hip-hop artist\n",
        "BenDoesGames\n",
        "Agreed!! Very epic, the style is perfect for the drawing\n",
        "ericrmischke\n",
        "[<praw.objects.Comment object at 0x230bc10>]\n",
        "Nice man!\n",
        "ericrmischke\n",
        "[<praw.objects.Comment object at 0x2079310>, <praw.objects.Comment object at 0x2367430>]\n",
        "Le gasp d'bleu! Have you gone digital, Teacher?! Welcome to the rockstars of art - and the dark side, and all that.\n",
        "ninjamonkeydog\n",
        "Holy crap that's stunning, well done and thank you!\n",
        "bull88\n",
        "[]\n"
       ]
      }
     ],
     "prompt_number": 59
    },
    {
     "cell_type": "code",
     "collapsed": false,
     "input": [
      "fddict.keys()"
     ],
     "language": "python",
     "metadata": {},
     "outputs": [
      {
       "metadata": {},
       "output_type": "pyout",
       "prompt_number": 60,
       "text": [
        "[Redditor(user_name='Magiimice'),\n",
        " Redditor(user_name='LumpySpacePirate'),\n",
        " Redditor(user_name='MasterKeith123'),\n",
        " Redditor(user_name='ObeyMyBrain'),\n",
        " Redditor(user_name='SFyr'),\n",
        " Redditor(user_name='thedood9700'),\n",
        " Redditor(user_name='kolkurtz'),\n",
        " Redditor(user_name='Magiimice'),\n",
        " Redditor(user_name='Cabanana'),\n",
        " Redditor(user_name='littlebutmighty'),\n",
        " Redditor(user_name='MostHonorableLeader'),\n",
        " Redditor(user_name='SFyr'),\n",
        " Redditor(user_name='MeiDrawsYou'),\n",
        " Redditor(user_name='Magiimice'),\n",
        " Redditor(user_name='Magiimice'),\n",
        " 'test',\n",
        " Redditor(user_name='Inspector_Santini'),\n",
        " Redditor(user_name='GetsBetterAfterAFew'),\n",
        " Redditor(user_name='J-u-l-y'),\n",
        " Redditor(user_name='drawmenow'),\n",
        " Redditor(user_name='who-died'),\n",
        " Redditor(user_name='half_truths_at_best'),\n",
        " Redditor(user_name='Reeceepeeceepoop'),\n",
        " Redditor(user_name='LumpySpacePirate'),\n",
        " Redditor(user_name='maestro_chi'),\n",
        " Redditor(user_name='half_truths_at_best'),\n",
        " Redditor(user_name='J-u-l-y'),\n",
        " Redditor(user_name='Middle_aged_jew'),\n",
        " Redditor(user_name='nugget_meal'),\n",
        " Redditor(user_name='-OchreJelly-'),\n",
        " Redditor(user_name='Kitheka'),\n",
        " Redditor(user_name='Artector'),\n",
        " None,\n",
        " Redditor(user_name='Reeceepeeceepoop'),\n",
        " Redditor(user_name='ThaisontheTan'),\n",
        " Redditor(user_name='heretodraw'),\n",
        " Redditor(user_name='Hasegawaitao'),\n",
        " Redditor(user_name='JustAdolf-LikeCher'),\n",
        " Redditor(user_name='SFyr'),\n",
        " Redditor(user_name='mistermannequin'),\n",
        " Redditor(user_name='Magiimice'),\n",
        " Redditor(user_name='TeachersPen'),\n",
        " Redditor(user_name='Glynrick')]"
       ]
      }
     ],
     "prompt_number": 60
    },
    {
     "cell_type": "code",
     "collapsed": false,
     "input": [
      "def extractlinks(html):\n",
      "    soup = BeautifulSoup(html)\n",
      "    anchors = soup.findAll('a')\n",
      "    links = []\n",
      "    for a in anchors:\n",
      "        links.append(a['href'])\n",
      "    return links"
     ],
     "language": "python",
     "metadata": {},
     "outputs": [],
     "prompt_number": 69
    },
    {
     "cell_type": "code",
     "collapsed": false,
     "input": [
      "parseText(\"The website google.com is often user to search the internet, I used it to discover news.ycombinator.com which in turn led me to www.paulgraham.com/articles.html\")"
     ],
     "language": "python",
     "metadata": {},
     "outputs": [
      {
       "output_type": "stream",
       "stream": "stderr",
       "text": [
        "WARNING:tldextract:unable to cache TLDs in file /usr/local/lib/python2.7/dist-packages/tldextract/.tld_set: [Errno 13] Permission denied: '/usr/local/lib/python2.7/dist-packages/tldextract/.tld_set'\n"
       ]
      },
      {
       "ename": "NameError",
       "evalue": "global name 'esm' is not defined",
       "output_type": "pyerr",
       "traceback": [
        "\u001b[1;31m---------------------------------------------------------------------------\u001b[0m\n\u001b[1;31mNameError\u001b[0m                                 Traceback (most recent call last)",
        "\u001b[1;32m<ipython-input-68-361aba322324>\u001b[0m in \u001b[0;36m<module>\u001b[1;34m()\u001b[0m\n\u001b[1;32m----> 1\u001b[1;33m \u001b[0mparseText\u001b[0m\u001b[1;33m(\u001b[0m\u001b[1;34m\"The website google.com is often user to search the internet, I used it to discover news.ycombinator.com which in turn led me to www.paulgraham.com/articles.html\"\u001b[0m\u001b[1;33m)\u001b[0m\u001b[1;33m\u001b[0m\u001b[0m\n\u001b[0m",
        "\u001b[1;32m<ipython-input-67-2e06bbb0bed3>\u001b[0m in \u001b[0;36mparseText\u001b[1;34m(text)\u001b[0m\n\u001b[0;32m     38\u001b[0m         \u001b[0mresults\u001b[0m \u001b[1;33m=\u001b[0m \u001b[1;33m[\u001b[0m\u001b[1;33m]\u001b[0m\u001b[1;33m\u001b[0m\u001b[0m\n\u001b[0;32m     39\u001b[0m         \u001b[0mtlds\u001b[0m \u001b[1;33m=\u001b[0m \u001b[1;33m(\u001b[0m\u001b[0mtldextract\u001b[0m\u001b[1;33m.\u001b[0m\u001b[0mTLDExtract\u001b[0m\u001b[1;33m(\u001b[0m\u001b[1;33m)\u001b[0m\u001b[1;33m.\u001b[0m\u001b[0m_get_tld_extractor\u001b[0m\u001b[1;33m(\u001b[0m\u001b[1;33m)\u001b[0m\u001b[1;33m.\u001b[0m\u001b[0mtlds\u001b[0m\u001b[1;33m)\u001b[0m\u001b[1;33m\u001b[0m\u001b[0m\n\u001b[1;32m---> 40\u001b[1;33m         \u001b[0mtldindex\u001b[0m \u001b[1;33m=\u001b[0m \u001b[0mesm\u001b[0m\u001b[1;33m.\u001b[0m\u001b[0mIndex\u001b[0m\u001b[1;33m(\u001b[0m\u001b[1;33m)\u001b[0m\u001b[1;33m\u001b[0m\u001b[0m\n\u001b[0m\u001b[0;32m     41\u001b[0m         \u001b[1;32mfor\u001b[0m \u001b[0mtld\u001b[0m \u001b[1;32min\u001b[0m \u001b[0mtlds\u001b[0m\u001b[1;33m:\u001b[0m\u001b[1;33m\u001b[0m\u001b[0m\n\u001b[0;32m     42\u001b[0m                 \u001b[0mtldindex\u001b[0m\u001b[1;33m.\u001b[0m\u001b[0menter\u001b[0m\u001b[1;33m(\u001b[0m\u001b[1;34m\".\"\u001b[0m \u001b[1;33m+\u001b[0m \u001b[0mtld\u001b[0m\u001b[1;33m.\u001b[0m\u001b[0mencode\u001b[0m\u001b[1;33m(\u001b[0m\u001b[1;34m\"idna\"\u001b[0m\u001b[1;33m)\u001b[0m\u001b[1;33m)\u001b[0m\u001b[1;33m\u001b[0m\u001b[0m\n",
        "\u001b[1;31mNameError\u001b[0m: global name 'esm' is not defined"
       ]
      }
     ],
     "prompt_number": 68
    },
    {
     "cell_type": "code",
     "collapsed": false,
     "input": [
      "cydict = fddict.values()"
     ],
     "language": "python",
     "metadata": {},
     "outputs": [],
     "prompt_number": 62
    },
    {
     "cell_type": "code",
     "collapsed": false,
     "input": [
      "for itz in cydict:\n",
      "    print itz   "
     ],
     "language": "python",
     "metadata": {},
     "outputs": [
      {
       "output_type": "stream",
       "stream": "stdout",
       "text": [
        "http://i.imgur.com/ugf0vFL.png\n",
        "[Thanks for the great picture!](http://i.imgur.com/4IG1SIC.jpg)\n",
        "[Pencil sketch](http://imgur.com/AnvTcx5) bad lighting :/ I had fun thanks :)\n",
        "[Here ya go!](http://i.imgur.com/lOkPoLq.jpg)\n",
        "\n",
        "Timelapse: http://youtu.be/Q5Yai68jTAE\n",
        "_______________\n",
        "*^http://ObeyMyBrain.com*\n",
        "Tried something completely new for me. Here's the rough result.\n",
        "\n",
        "http://i.imgur.com/Do9n1wL.png\n",
        "[Much love!](http://i.imgur.com/WcOgng3.png?1) \n",
        "http://m.imgur.com/3X7WiIl\n",
        "\n",
        "Quick paint on my tablet. Watching a prog about Picasso at the same time. It affected my interpretation.\n",
        "http://i.imgur.com/V25KRZg.png\n",
        "http://imgur.com/zpvHMfQ\n",
        "First of all, thank you *so much* /u/heyryaaan! I really, really was not expecting it this week.\n",
        "\n",
        "Second, congrats to all the other artists. I absolutely loved a ton of the work this week. I knew The_Drawist and saieu were going to get it as soon as I saw their drawings, but I'm really happy to see heyryaaan, orvane, bcsketches, katfriday, mickya, FoxtrotOscar23, LucarioPrime, and FlyinMayanLion up there. I know that's a ton of names, and I'm probably missing a few, but I loved y'all's work this week!\n",
        "\n",
        "And JetDog! You sly dog! Congrats on a TWOFER!!! It was totally deserved!\n",
        "Never seen the show, but here goes nothing http://imgur.com/X0R64vY\n",
        "I tried doing something I normally don't, haha...\n",
        "http://i.imgur.com/aT8YHkZ.png\n",
        ":) [here we are](http://quokkastudio.com/wp-content/uploads/smalldoll-1024x984.jpg)\n",
        "\n",
        "Mod: i changed host to my website, i hope this isn't going into spam anymore!\n",
        "http://i.imgur.com/Oki2kkR.png\n",
        "http://i.imgur.com/M2ZCI6P.png\n",
        "test\n",
        "Thank you so much, fivepmsomewhere! I've been in a bit of an art funk and this is encouraging! :)\n",
        "[SuperSloppy](http://i.imgur.com/YDzGrDi.jpg)\n",
        "\n",
        "[With Moar Color](http://i.imgur.com/lrBz4CN.jpg)\n",
        "[Some creative liberties...](http://i.imgur.com/EsP4EJd.png)\n",
        "\n",
        "I'm actually a bit stuck because I'm having trouble matching the cartoon style for the guy, also when I can get to my work scanner, i'll scan it and possibly add color :) \n",
        "[The goggles.](http://jpscribbles.tumblr.com/post/101017281348/goggles-for)\n",
        "^Well ^at ^least ^my ^mom ^thinks ^i'm ^good ^:/   jk lol\n",
        "\n",
        "\n",
        "Can I just say that /u/katfriday is amazing??? Fuckin hell, thats stunning! /u/littlebutmighty  as well!!!  You work that stuff gurl! I promise I'm gonna draw ya!  ^^^I ^^^hope....\n",
        "\n",
        "And the comment of the weeks has got to be the most original thing I have ever seen :DD SO INNOVATIVE!  Who could have ever thought of comparing  mods that do their fucking job awesomely to nazis??? No one thats who.\n",
        "http://i.imgur.com/nJ9oDAc.jpg\n",
        "Very cool photo! :)\n",
        "\n",
        "http://i.imgur.com/aP3WC7e.jpg\n",
        "[Kinda looks like Hancock](http://i.imgur.com/t2H3b6Q.jpg)\n",
        "[Sorry I rushed through it](http://i.imgur.com/YvKo9O7.jpg), just could not pass this up. That zombiepigman needs a lot of work but hope you like it. \n",
        "http://imgur.com/O1chAha\n",
        "I was just doing my comment thing when I noticed the tag...\n",
        "I haven't been here long, so I think I'm in a bit of shock\n",
        "\n",
        "*My sincerest Thank You* /u/orvane and the rest of the mods. It is a complete honor for my sketch to be featured among all the incredibly talented artists in this sub :)\n",
        "\n",
        "\n",
        "http://imgur.com/Prt2i0E\n",
        "\n",
        "Before I knew what happened, your mate turned into Blacula.  Bloody hell.\n",
        "Wow, thank you so much /u/orvane! There are so many incredibly brilliant artists here, it's truly a great source of inspiration :)!\n",
        "\n",
        "Congratulations to everyone!\n",
        "Nazis... I hate those guys.\n",
        "\n",
        "A few more caricature-ish drawings this week, I love those. [Good job](https://i.imgur.com/GwWvUbI.jpg), everyone.\n",
        "[Kitty.](http://imgur.com/a/a9y02)\n",
        "\n",
        "Sorry it's so light! Using just a normal pencil and was afraid to go too dark.\n",
        "http://i.imgur.com/ZPfw0UZ.jpg\n",
        "[deleted]\n",
        "Hope this coincides with the rules! It's inspired. If it's a problem I can take it down! :)\n",
        "\n",
        "http://i.imgur.com/tLVEmqb.jpg\n",
        "[First post. Sorry for crappy camera quality](http://i.imgur.com/QXn1vfc.jpg)\n",
        "Woohoo! A picture OF me and a picture BY me.  Thanks for all the love! Checking the Sunday roundup is a joy I look forward to every week -- so many great works I'd not seen. \n",
        "\n",
        "Thanks mods, for keeping RGD amazing, and thank you /u/bcsketches for the incredible piece.\n",
        "\n",
        ".\n",
        "Ah this was awesome to draw! [I hope you like it!](http://imgur.com/oxdf4LQ)\n",
        "PS. I might color it but I'm somewhat scared Im gonna screw it up so I just wanted to post this. \n",
        "[I can't draw, but I have a new touch screen, so I gave it a go.](http://i.imgur.com/LSYoRgj.jpg)\n",
        "http://i.imgur.com/FraCoYH.png\n",
        "\n",
        "Here ya go man~\n",
        "https://imgur.com/fYEv71p\n",
        "http://i.imgur.com/jZpytmi.png\n",
        "\n",
        "\n",
        "I think the eyes are a bit too far apart...\n",
        "http://imgur.com/GV7qJo9\n",
        "http://i.imgur.com/Ufwq6mZ.png\n",
        "\n",
        "http://i.imgur.com/FeYJSrE.png\n"
       ]
      }
     ],
     "prompt_number": 64
    },
    {
     "cell_type": "code",
     "collapsed": false,
     "input": [
      "chedict = {'blah': 'testing'}"
     ],
     "language": "python",
     "metadata": {},
     "outputs": [],
     "prompt_number": 24
    },
    {
     "cell_type": "code",
     "collapsed": false,
     "input": [
      "fixurl = BeautifulSoup(fddict.values())"
     ],
     "language": "python",
     "metadata": {},
     "outputs": [
      {
       "ename": "TypeError",
       "evalue": "expected string or buffer",
       "output_type": "pyerr",
       "traceback": [
        "\u001b[1;31m---------------------------------------------------------------------------\u001b[0m\n\u001b[1;31mTypeError\u001b[0m                                 Traceback (most recent call last)",
        "\u001b[1;32m<ipython-input-25-da64889ea728>\u001b[0m in \u001b[0;36m<module>\u001b[1;34m()\u001b[0m\n\u001b[1;32m----> 1\u001b[1;33m \u001b[0mfixurl\u001b[0m \u001b[1;33m=\u001b[0m \u001b[0mBeautifulSoup\u001b[0m\u001b[1;33m(\u001b[0m\u001b[0mfddict\u001b[0m\u001b[1;33m.\u001b[0m\u001b[0mvalues\u001b[0m\u001b[1;33m(\u001b[0m\u001b[1;33m)\u001b[0m\u001b[1;33m)\u001b[0m\u001b[1;33m\u001b[0m\u001b[0m\n\u001b[0m",
        "\u001b[1;32m/usr/local/lib/python2.7/dist-packages/bs4/__init__.pyc\u001b[0m in \u001b[0;36m__init__\u001b[1;34m(self, markup, features, builder, parse_only, from_encoding, **kwargs)\u001b[0m\n\u001b[0;32m    191\u001b[0m         for (self.markup, self.original_encoding, self.declared_html_encoding,\n\u001b[0;32m    192\u001b[0m          \u001b[0mself\u001b[0m\u001b[1;33m.\u001b[0m\u001b[0mcontains_replacement_characters\u001b[0m\u001b[1;33m)\u001b[0m \u001b[1;32min\u001b[0m \u001b[1;33m(\u001b[0m\u001b[1;33m\u001b[0m\u001b[0m\n\u001b[1;32m--> 193\u001b[1;33m             self.builder.prepare_markup(markup, from_encoding)):\n\u001b[0m\u001b[0;32m    194\u001b[0m             \u001b[0mself\u001b[0m\u001b[1;33m.\u001b[0m\u001b[0mreset\u001b[0m\u001b[1;33m(\u001b[0m\u001b[1;33m)\u001b[0m\u001b[1;33m\u001b[0m\u001b[0m\n\u001b[0;32m    195\u001b[0m             \u001b[1;32mtry\u001b[0m\u001b[1;33m:\u001b[0m\u001b[1;33m\u001b[0m\u001b[0m\n",
        "\u001b[1;32m/usr/local/lib/python2.7/dist-packages/bs4/builder/_htmlparser.pyc\u001b[0m in \u001b[0;36mprepare_markup\u001b[1;34m(self, markup, user_specified_encoding, document_declared_encoding)\u001b[0m\n\u001b[0;32m    148\u001b[0m \u001b[1;33m\u001b[0m\u001b[0m\n\u001b[0;32m    149\u001b[0m         \u001b[0mtry_encodings\u001b[0m \u001b[1;33m=\u001b[0m \u001b[1;33m[\u001b[0m\u001b[0muser_specified_encoding\u001b[0m\u001b[1;33m,\u001b[0m \u001b[0mdocument_declared_encoding\u001b[0m\u001b[1;33m]\u001b[0m\u001b[1;33m\u001b[0m\u001b[0m\n\u001b[1;32m--> 150\u001b[1;33m         \u001b[0mdammit\u001b[0m \u001b[1;33m=\u001b[0m \u001b[0mUnicodeDammit\u001b[0m\u001b[1;33m(\u001b[0m\u001b[0mmarkup\u001b[0m\u001b[1;33m,\u001b[0m \u001b[0mtry_encodings\u001b[0m\u001b[1;33m,\u001b[0m \u001b[0mis_html\u001b[0m\u001b[1;33m=\u001b[0m\u001b[0mTrue\u001b[0m\u001b[1;33m)\u001b[0m\u001b[1;33m\u001b[0m\u001b[0m\n\u001b[0m\u001b[0;32m    151\u001b[0m         yield (dammit.markup, dammit.original_encoding,\n\u001b[0;32m    152\u001b[0m                \u001b[0mdammit\u001b[0m\u001b[1;33m.\u001b[0m\u001b[0mdeclared_html_encoding\u001b[0m\u001b[1;33m,\u001b[0m\u001b[1;33m\u001b[0m\u001b[0m\n",
        "\u001b[1;32m/usr/local/lib/python2.7/dist-packages/bs4/dammit.pyc\u001b[0m in \u001b[0;36m__init__\u001b[1;34m(self, markup, override_encodings, smart_quotes_to, is_html)\u001b[0m\n\u001b[0;32m    352\u001b[0m \u001b[1;33m\u001b[0m\u001b[0m\n\u001b[0;32m    353\u001b[0m         \u001b[0mu\u001b[0m \u001b[1;33m=\u001b[0m \u001b[0mNone\u001b[0m\u001b[1;33m\u001b[0m\u001b[0m\n\u001b[1;32m--> 354\u001b[1;33m         \u001b[1;32mfor\u001b[0m \u001b[0mencoding\u001b[0m \u001b[1;32min\u001b[0m \u001b[0mself\u001b[0m\u001b[1;33m.\u001b[0m\u001b[0mdetector\u001b[0m\u001b[1;33m.\u001b[0m\u001b[0mencodings\u001b[0m\u001b[1;33m:\u001b[0m\u001b[1;33m\u001b[0m\u001b[0m\n\u001b[0m\u001b[0;32m    355\u001b[0m             \u001b[0mmarkup\u001b[0m \u001b[1;33m=\u001b[0m \u001b[0mself\u001b[0m\u001b[1;33m.\u001b[0m\u001b[0mdetector\u001b[0m\u001b[1;33m.\u001b[0m\u001b[0mmarkup\u001b[0m\u001b[1;33m\u001b[0m\u001b[0m\n\u001b[0;32m    356\u001b[0m             \u001b[0mu\u001b[0m \u001b[1;33m=\u001b[0m \u001b[0mself\u001b[0m\u001b[1;33m.\u001b[0m\u001b[0m_convert_from\u001b[0m\u001b[1;33m(\u001b[0m\u001b[0mencoding\u001b[0m\u001b[1;33m)\u001b[0m\u001b[1;33m\u001b[0m\u001b[0m\n",
        "\u001b[1;32m/usr/local/lib/python2.7/dist-packages/bs4/dammit.pyc\u001b[0m in \u001b[0;36mencodings\u001b[1;34m(self)\u001b[0m\n\u001b[0;32m    247\u001b[0m         \u001b[1;32mif\u001b[0m \u001b[0mself\u001b[0m\u001b[1;33m.\u001b[0m\u001b[0mdeclared_encoding\u001b[0m \u001b[1;32mis\u001b[0m \u001b[0mNone\u001b[0m\u001b[1;33m:\u001b[0m\u001b[1;33m\u001b[0m\u001b[0m\n\u001b[0;32m    248\u001b[0m             self.declared_encoding = self.find_declared_encoding(\n\u001b[1;32m--> 249\u001b[1;33m                 self.markup, self.is_html)\n\u001b[0m\u001b[0;32m    250\u001b[0m         \u001b[1;32mif\u001b[0m \u001b[0mself\u001b[0m\u001b[1;33m.\u001b[0m\u001b[0m_usable\u001b[0m\u001b[1;33m(\u001b[0m\u001b[0mself\u001b[0m\u001b[1;33m.\u001b[0m\u001b[0mdeclared_encoding\u001b[0m\u001b[1;33m,\u001b[0m \u001b[0mtried\u001b[0m\u001b[1;33m)\u001b[0m\u001b[1;33m:\u001b[0m\u001b[1;33m\u001b[0m\u001b[0m\n\u001b[0;32m    251\u001b[0m             \u001b[1;32myield\u001b[0m \u001b[0mself\u001b[0m\u001b[1;33m.\u001b[0m\u001b[0mdeclared_encoding\u001b[0m\u001b[1;33m\u001b[0m\u001b[0m\n",
        "\u001b[1;32m/usr/local/lib/python2.7/dist-packages/bs4/dammit.pyc\u001b[0m in \u001b[0;36mfind_declared_encoding\u001b[1;34m(cls, markup, is_html, search_entire_document)\u001b[0m\n\u001b[0;32m    302\u001b[0m \u001b[1;33m\u001b[0m\u001b[0m\n\u001b[0;32m    303\u001b[0m         \u001b[0mdeclared_encoding\u001b[0m \u001b[1;33m=\u001b[0m \u001b[0mNone\u001b[0m\u001b[1;33m\u001b[0m\u001b[0m\n\u001b[1;32m--> 304\u001b[1;33m         \u001b[0mdeclared_encoding_match\u001b[0m \u001b[1;33m=\u001b[0m \u001b[0mxml_encoding_re\u001b[0m\u001b[1;33m.\u001b[0m\u001b[0msearch\u001b[0m\u001b[1;33m(\u001b[0m\u001b[0mmarkup\u001b[0m\u001b[1;33m,\u001b[0m \u001b[0mendpos\u001b[0m\u001b[1;33m=\u001b[0m\u001b[0mxml_endpos\u001b[0m\u001b[1;33m)\u001b[0m\u001b[1;33m\u001b[0m\u001b[0m\n\u001b[0m\u001b[0;32m    305\u001b[0m         \u001b[1;32mif\u001b[0m \u001b[1;32mnot\u001b[0m \u001b[0mdeclared_encoding_match\u001b[0m \u001b[1;32mand\u001b[0m \u001b[0mis_html\u001b[0m\u001b[1;33m:\u001b[0m\u001b[1;33m\u001b[0m\u001b[0m\n\u001b[0;32m    306\u001b[0m             \u001b[0mdeclared_encoding_match\u001b[0m \u001b[1;33m=\u001b[0m \u001b[0mhtml_meta_re\u001b[0m\u001b[1;33m.\u001b[0m\u001b[0msearch\u001b[0m\u001b[1;33m(\u001b[0m\u001b[0mmarkup\u001b[0m\u001b[1;33m,\u001b[0m \u001b[0mendpos\u001b[0m\u001b[1;33m=\u001b[0m\u001b[0mhtml_endpos\u001b[0m\u001b[1;33m)\u001b[0m\u001b[1;33m\u001b[0m\u001b[0m\n",
        "\u001b[1;31mTypeError\u001b[0m: expected string or buffer"
       ]
      }
     ],
     "prompt_number": 25
    },
    {
     "cell_type": "code",
     "collapsed": false,
     "input": [
      "for coma in comdefz:\n",
      "    #print coma\n",
      "    #chedict.update({'first': coma})\n",
      "    for co in coma:\n",
      "        print co\n",
      "        chedict.update({co.author: co.body})"
     ],
     "language": "python",
     "metadata": {},
     "outputs": [
      {
       "output_type": "stream",
       "stream": "stdout",
       "text": [
        "[The goggles.](http://jpscribbles.tumblr.com/post/101017281348/goggles-for)\n",
        "http://i.imgur.com/ugf0vFL.png\n",
        "http://m.imgur.com/3X7WiIl\n",
        "\n",
        "Quick paint on my tablet. Watching a prog about P...\n",
        "[SuperSloppy](http://i.imgur.com/YDzGrDi.jpg)\n",
        "\n",
        "[With Moar Color](http://i.img...\n",
        "I can't draw, but that's an awesome photo!\n",
        "Very cool photo! :)\n",
        "\n",
        "http://i.imgur.com/aP3WC7e.jpg\n",
        "http://i.imgur.com/Oki2kkR.png\n",
        "[Much love!](http://i.imgur.com/WcOgng3.png?1) \n",
        "[deleted]\n",
        "http://imgur.com/O1chAha\n",
        "[Thanks for the great picture!](http://i.imgur.com/4IG1SIC.jpg)\n",
        "[I can't draw, but I have a new touch screen, so I gave it a go.](http://i.im...\n",
        "[deleted]\n",
        "Woohoo! A picture OF me and a picture BY me.  Thanks for all the love! Checki...\n",
        "I was just doing my comment thing when I noticed the tag...\n",
        "I haven't been he...\n",
        "Wow, thank you so much /u/orvane! There are so many incredibly brilliant arti...\n",
        "First of all, thank you *so much* /u/heyryaaan! I really, really was not expe...\n",
        "^Well ^at ^least ^my ^mom ^thinks ^i'm ^good ^:/   jk lol\n",
        "\n",
        "\n",
        "Can I just say th...\n",
        "Thank you so much, fivepmsomewhere! I've been in a bit of an art funk and thi...\n",
        "Nazis... I hate those guys.\n",
        "\n",
        "A few more caricature-ish drawings this week, I ...\n",
        "http://i.imgur.com/FraCoYH.png\n",
        "\n",
        "Here ya go man~\n",
        "http://i.imgur.com/V25KRZg.png\n",
        "http://imgur.com/Prt2i0E\n",
        "\n",
        "Before I knew what happened, your mate turned into ...\n",
        "[Pencil sketch](http://imgur.com/AnvTcx5) bad lighting :/ I had fun thanks :)\n",
        "Tried something completely new for me. Here's the rough result.\n",
        "\n",
        "http://i.img...\n",
        "http://i.imgur.com/jZpytmi.png\n",
        "\n",
        "\n",
        "I think the eyes are a bit too far apart...\n",
        "http://i.imgur.com/ZPfw0UZ.jpg\n",
        "http://imgur.com/zpvHMfQ\n",
        "[Kitty.](http://imgur.com/a/a9y02)\n",
        "\n",
        "Sorry it's so light! Using just a normal ...\n",
        ":) [here we are](http://quokkastudio.com/wp-content/uploads/smalldoll-1024x98...\n",
        "Hope this coincides with the rules! It's inspired. If it's a problem I can ta...\n",
        "Ah this was awesome to draw! [I hope you like it!](http://imgur.com/oxdf4LQ)\n",
        "...\n",
        "[First post. Sorry for crappy camera quality](http://i.imgur.com/QXn1vfc.jpg)\n",
        "https://imgur.com/fYEv71p\n",
        "I tried doing something I normally don't, haha...\n",
        "http://i.imgur.com/aT8YHkZ.png\n",
        "http://i.imgur.com/M2ZCI6P.png\n",
        "http://imgur.com/GV7qJo9\n",
        "Never seen the show, but here goes nothing http://imgur.com/X0R64vY\n",
        "http://i.imgur.com/i5y09QW.png\n"
       ]
      }
     ],
     "prompt_number": 26
    },
    {
     "cell_type": "code",
     "collapsed": false,
     "input": [
      "chedict"
     ],
     "language": "python",
     "metadata": {},
     "outputs": [
      {
       "metadata": {},
       "output_type": "pyout",
       "prompt_number": 32,
       "text": [
        "{Redditor(user_name='Hasegawaitao'): u\"Ah this was awesome to draw! [I hope you like it!](http://imgur.com/oxdf4LQ)\\nPS. I might color it but I'm somewhat scared Im gonna screw it up so I just wanted to post this. \",\n",
        " Redditor(user_name='Inspector_Santini'): u\"Thank you so much, fivepmsomewhere! I've been in a bit of an art funk and this is encouraging! :)\",\n",
        " Redditor(user_name='Kitheka'): u\"[Kitty.](http://imgur.com/a/a9y02)\\n\\nSorry it's so light! Using just a normal pencil and was afraid to go too dark.\",\n",
        " Redditor(user_name='kolkurtz'): u'http://m.imgur.com/3X7WiIl\\n\\nQuick paint on my tablet. Watching a prog about Picasso at the same time. It affected my interpretation.',\n",
        " Redditor(user_name='LumpySpacePirate'): u'[Thanks for the great picture!](http://i.imgur.com/4IG1SIC.jpg)',\n",
        " Redditor(user_name='Magiimice'): u'http://i.imgur.com/V25KRZg.png',\n",
        " Redditor(user_name='Magiimice'): u'http://i.imgur.com/jZpytmi.png\\n\\n\\nI think the eyes are a bit too far apart...',\n",
        " Redditor(user_name='MasterKeith123'): u'[Pencil sketch](http://imgur.com/AnvTcx5) bad lighting :/ I had fun thanks :)',\n",
        " Redditor(user_name='mistermannequin'): u'https://imgur.com/fYEv71p',\n",
        " Redditor(user_name='Reeceepeeceepoop'): u'Very cool photo! :)\\n\\nhttp://i.imgur.com/aP3WC7e.jpg',\n",
        " Redditor(user_name='TeachersPen'): u'http://imgur.com/GV7qJo9',\n",
        " 'blah': 'testing',\n",
        " Redditor(user_name='thedood9700'): u'[Much love!](http://i.imgur.com/WcOgng3.png?1) ',\n",
        " Redditor(user_name='Reeceepeeceepoop'): u\"Hope this coincides with the rules! It's inspired. If it's a problem I can take it down! :)\\n\\nhttp://i.imgur.com/tLVEmqb.jpg\",\n",
        " Redditor(user_name='Magiimice'): u'http://i.imgur.com/ugf0vFL.png',\n",
        " Redditor(user_name='MostHonorableLeader'): u'Never seen the show, but here goes nothing http://imgur.com/X0R64vY',\n",
        " Redditor(user_name='Artector'): u'http://i.imgur.com/ZPfw0UZ.jpg',\n",
        " Redditor(user_name='Magiimice'): u'http://i.imgur.com/M2ZCI6P.png',\n",
        " Redditor(user_name='Cabanana'): u'http://imgur.com/zpvHMfQ',\n",
        " Redditor(user_name='SFyr'): u'http://i.imgur.com/FraCoYH.png\\n\\nHere ya go man~',\n",
        " Redditor(user_name='littlebutmighty'): u\"First of all, thank you *so much* /u/heyryaaan! I really, really was not expecting it this week.\\n\\nSecond, congrats to all the other artists. I absolutely loved a ton of the work this week. I knew The_Drawist and saieu were going to get it as soon as I saw their drawings, but I'm really happy to see heyryaaan, orvane, bcsketches, katfriday, mickya, FoxtrotOscar23, LucarioPrime, and FlyinMayanLion up there. I know that's a ton of names, and I'm probably missing a few, but I loved y'all's work this week!\\n\\nAnd JetDog! You sly dog! Congrats on a TWOFER!!! It was totally deserved!\",\n",
        " Redditor(user_name='GetsBetterAfterAFew'): u'[SuperSloppy](http://i.imgur.com/YDzGrDi.jpg)\\n\\n[With Moar Color](http://i.imgur.com/lrBz4CN.jpg)',\n",
        " Redditor(user_name='Middle_aged_jew'): u'http://imgur.com/Prt2i0E\\n\\nBefore I knew what happened, your mate turned into Blacula.  Bloody hell.',\n",
        " None: u'[deleted]',\n",
        " Redditor(user_name='ThaisontheTan'): u'[First post. Sorry for crappy camera quality](http://i.imgur.com/QXn1vfc.jpg)',\n",
        " Redditor(user_name='-OchreJelly-'): u'Nazis... I hate those guys.\\n\\nA few more caricature-ish drawings this week, I love those. [Good job](https://i.imgur.com/GwWvUbI.jpg), everyone.',\n",
        " Redditor(user_name='nugget_meal'): u\"Wow, thank you so much /u/orvane! There are so many incredibly brilliant artists here, it's truly a great source of inspiration :)!\\n\\nCongratulations to everyone!\",\n",
        " Redditor(user_name='Magiimice'): u'http://i.imgur.com/Oki2kkR.png',\n",
        " Redditor(user_name='J-u-l-y'): u\"I was just doing my comment thing when I noticed the tag...\\nI haven't been here long, so I think I'm in a bit of shock\\n\\n*My sincerest Thank You* /u/orvane and the rest of the mods. It is a complete honor for my sketch to be featured among all the incredibly talented artists in this sub :)\\n\\n\",\n",
        " Redditor(user_name='JustAdolf-LikeCher'): u\"[I can't draw, but I have a new touch screen, so I gave it a go.](http://i.imgur.com/LSYoRgj.jpg)\",\n",
        " Redditor(user_name='MeiDrawsYou'): u\":) [here we are](http://quokkastudio.com/wp-content/uploads/smalldoll-1024x984.jpg)\\n\\nMod: i changed host to my website, i hope this isn't going into spam anymore!\",\n",
        " Redditor(user_name='Anchors_Away'): u\"I can't draw, but that's an awesome photo!\",\n",
        " Redditor(user_name='SFyr'): u\"Tried something completely new for me. Here's the rough result.\\n\\nhttp://i.imgur.com/Do9n1wL.png\",\n",
        " Redditor(user_name='heretodraw'): u\"Woohoo! A picture OF me and a picture BY me.  Thanks for all the love! Checking the Sunday roundup is a joy I look forward to every week -- so many great works I'd not seen. \\n\\nThanks mods, for keeping RGD amazing, and thank you /u/bcsketches for the incredible piece.\\n\\n.\",\n",
        " Redditor(user_name='SFyr'): u\"I tried doing something I normally don't, haha...\\nhttp://i.imgur.com/aT8YHkZ.png\",\n",
        " Redditor(user_name='Magiimice'): u'http://i.imgur.com/i5y09QW.png',\n",
        " Redditor(user_name='half_truths_at_best'): u'http://imgur.com/O1chAha',\n",
        " Redditor(user_name='drawmenow'): u'[The goggles.](http://jpscribbles.tumblr.com/post/101017281348/goggles-for)',\n",
        " Redditor(user_name='who-died'): u\"^Well ^at ^least ^my ^mom ^thinks ^i'm ^good ^:/   jk lol\\n\\n\\nCan I just say that /u/katfriday is amazing??? Fuckin hell, thats stunning! /u/littlebutmighty  as well!!!  You work that stuff gurl! I promise I'm gonna draw ya!  ^^^I ^^^hope....\\n\\nAnd the comment of the weeks has got to be the most original thing I have ever seen :DD SO INNOVATIVE!  Who could have ever thought of comparing  mods that do their fucking job awesomely to nazis??? No one thats who.\"}"
       ]
      }
     ],
     "prompt_number": 32
    },
    {
     "cell_type": "code",
     "collapsed": false,
     "input": [
      "jsdum = json.loads(chedict)"
     ],
     "language": "python",
     "metadata": {},
     "outputs": [
      {
       "ename": "TypeError",
       "evalue": "expected string or buffer",
       "output_type": "pyerr",
       "traceback": [
        "\u001b[1;31m---------------------------------------------------------------------------\u001b[0m\n\u001b[1;31mTypeError\u001b[0m                                 Traceback (most recent call last)",
        "\u001b[1;32m<ipython-input-37-2476929ea770>\u001b[0m in \u001b[0;36m<module>\u001b[1;34m()\u001b[0m\n\u001b[1;32m----> 1\u001b[1;33m \u001b[0mjsdum\u001b[0m \u001b[1;33m=\u001b[0m \u001b[0mjson\u001b[0m\u001b[1;33m.\u001b[0m\u001b[0mloads\u001b[0m\u001b[1;33m(\u001b[0m\u001b[0mchedict\u001b[0m\u001b[1;33m)\u001b[0m\u001b[1;33m\u001b[0m\u001b[0m\n\u001b[0m",
        "\u001b[1;32m/usr/lib/python2.7/json/__init__.pyc\u001b[0m in \u001b[0;36mloads\u001b[1;34m(s, encoding, cls, object_hook, parse_float, parse_int, parse_constant, object_pairs_hook, **kw)\u001b[0m\n\u001b[0;32m    324\u001b[0m             \u001b[0mparse_int\u001b[0m \u001b[1;32mis\u001b[0m \u001b[0mNone\u001b[0m \u001b[1;32mand\u001b[0m \u001b[0mparse_float\u001b[0m \u001b[1;32mis\u001b[0m \u001b[0mNone\u001b[0m \u001b[1;32mand\u001b[0m\u001b[1;33m\u001b[0m\u001b[0m\n\u001b[0;32m    325\u001b[0m             parse_constant is None and object_pairs_hook is None and not kw):\n\u001b[1;32m--> 326\u001b[1;33m         \u001b[1;32mreturn\u001b[0m \u001b[0m_default_decoder\u001b[0m\u001b[1;33m.\u001b[0m\u001b[0mdecode\u001b[0m\u001b[1;33m(\u001b[0m\u001b[0ms\u001b[0m\u001b[1;33m)\u001b[0m\u001b[1;33m\u001b[0m\u001b[0m\n\u001b[0m\u001b[0;32m    327\u001b[0m     \u001b[1;32mif\u001b[0m \u001b[0mcls\u001b[0m \u001b[1;32mis\u001b[0m \u001b[0mNone\u001b[0m\u001b[1;33m:\u001b[0m\u001b[1;33m\u001b[0m\u001b[0m\n\u001b[0;32m    328\u001b[0m         \u001b[0mcls\u001b[0m \u001b[1;33m=\u001b[0m \u001b[0mJSONDecoder\u001b[0m\u001b[1;33m\u001b[0m\u001b[0m\n",
        "\u001b[1;32m/usr/lib/python2.7/json/decoder.pyc\u001b[0m in \u001b[0;36mdecode\u001b[1;34m(self, s, _w)\u001b[0m\n\u001b[0;32m    363\u001b[0m \u001b[1;33m\u001b[0m\u001b[0m\n\u001b[0;32m    364\u001b[0m         \"\"\"\n\u001b[1;32m--> 365\u001b[1;33m         \u001b[0mobj\u001b[0m\u001b[1;33m,\u001b[0m \u001b[0mend\u001b[0m \u001b[1;33m=\u001b[0m \u001b[0mself\u001b[0m\u001b[1;33m.\u001b[0m\u001b[0mraw_decode\u001b[0m\u001b[1;33m(\u001b[0m\u001b[0ms\u001b[0m\u001b[1;33m,\u001b[0m \u001b[0midx\u001b[0m\u001b[1;33m=\u001b[0m\u001b[0m_w\u001b[0m\u001b[1;33m(\u001b[0m\u001b[0ms\u001b[0m\u001b[1;33m,\u001b[0m \u001b[1;36m0\u001b[0m\u001b[1;33m)\u001b[0m\u001b[1;33m.\u001b[0m\u001b[0mend\u001b[0m\u001b[1;33m(\u001b[0m\u001b[1;33m)\u001b[0m\u001b[1;33m)\u001b[0m\u001b[1;33m\u001b[0m\u001b[0m\n\u001b[0m\u001b[0;32m    366\u001b[0m         \u001b[0mend\u001b[0m \u001b[1;33m=\u001b[0m \u001b[0m_w\u001b[0m\u001b[1;33m(\u001b[0m\u001b[0ms\u001b[0m\u001b[1;33m,\u001b[0m \u001b[0mend\u001b[0m\u001b[1;33m)\u001b[0m\u001b[1;33m.\u001b[0m\u001b[0mend\u001b[0m\u001b[1;33m(\u001b[0m\u001b[1;33m)\u001b[0m\u001b[1;33m\u001b[0m\u001b[0m\n\u001b[0;32m    367\u001b[0m         \u001b[1;32mif\u001b[0m \u001b[0mend\u001b[0m \u001b[1;33m!=\u001b[0m \u001b[0mlen\u001b[0m\u001b[1;33m(\u001b[0m\u001b[0ms\u001b[0m\u001b[1;33m)\u001b[0m\u001b[1;33m:\u001b[0m\u001b[1;33m\u001b[0m\u001b[0m\n",
        "\u001b[1;31mTypeError\u001b[0m: expected string or buffer"
       ]
      }
     ],
     "prompt_number": 37
    },
    {
     "cell_type": "code",
     "collapsed": false,
     "input": [
      "rcoms = chedict.keys()\n",
      "rvals = chedict.values()\n",
      "imcom = []"
     ],
     "language": "python",
     "metadata": {},
     "outputs": [],
     "prompt_number": 71
    },
    {
     "cell_type": "code",
     "collapsed": false,
     "input": [
      "for rvs in rvals:\n",
      "    print rvs\n",
      "    if '.jpg' or '.png' in rvs:\n",
      "        imcom.append(rvs)\n",
      "        "
     ],
     "language": "python",
     "metadata": {},
     "outputs": [
      {
       "output_type": "stream",
       "stream": "stdout",
       "text": [
        "http://imgur.com/GV7qJo9\n",
        "Thank you so much, fivepmsomewhere! I've been in a bit of an art funk and this is encouraging! :)\n",
        "[Kitty.](http://imgur.com/a/a9y02)\n",
        "\n",
        "Sorry it's so light! Using just a normal pencil and was afraid to go too dark.\n",
        "http://i.imgur.com/V25KRZg.png\n",
        "http://i.imgur.com/jZpytmi.png\n",
        "\n",
        "\n",
        "I think the eyes are a bit too far apart...\n",
        "Very cool photo! :)\n",
        "\n",
        "http://i.imgur.com/aP3WC7e.jpg\n",
        "[Thanks for the great picture!](http://i.imgur.com/4IG1SIC.jpg)\n",
        "https://imgur.com/fYEv71p\n",
        "[Pencil sketch](http://imgur.com/AnvTcx5) bad lighting :/ I had fun thanks :)\n",
        "Ah this was awesome to draw! [I hope you like it!](http://imgur.com/oxdf4LQ)\n",
        "PS. I might color it but I'm somewhat scared Im gonna screw it up so I just wanted to post this. \n",
        "http://m.imgur.com/3X7WiIl\n",
        "\n",
        "Quick paint on my tablet. Watching a prog about Picasso at the same time. It affected my interpretation.\n",
        "testing\n",
        "[Much love!](http://i.imgur.com/WcOgng3.png?1) \n",
        "Hope this coincides with the rules! It's inspired. If it's a problem I can take it down! :)\n",
        "\n",
        "http://i.imgur.com/tLVEmqb.jpg\n",
        "http://i.imgur.com/ugf0vFL.png\n",
        "Never seen the show, but here goes nothing http://imgur.com/X0R64vY\n",
        "http://i.imgur.com/ZPfw0UZ.jpg\n",
        "http://i.imgur.com/M2ZCI6P.png\n",
        "http://imgur.com/zpvHMfQ\n",
        "http://i.imgur.com/FraCoYH.png\n",
        "\n",
        "Here ya go man~\n",
        "First of all, thank you *so much* /u/heyryaaan! I really, really was not expecting it this week.\n",
        "\n",
        "Second, congrats to all the other artists. I absolutely loved a ton of the work this week. I knew The_Drawist and saieu were going to get it as soon as I saw their drawings, but I'm really happy to see heyryaaan, orvane, bcsketches, katfriday, mickya, FoxtrotOscar23, LucarioPrime, and FlyinMayanLion up there. I know that's a ton of names, and I'm probably missing a few, but I loved y'all's work this week!\n",
        "\n",
        "And JetDog! You sly dog! Congrats on a TWOFER!!! It was totally deserved!\n",
        "[SuperSloppy](http://i.imgur.com/YDzGrDi.jpg)\n",
        "\n",
        "[With Moar Color](http://i.imgur.com/lrBz4CN.jpg)\n",
        "http://imgur.com/Prt2i0E\n",
        "\n",
        "Before I knew what happened, your mate turned into Blacula.  Bloody hell.\n",
        "[deleted]\n",
        "[First post. Sorry for crappy camera quality](http://i.imgur.com/QXn1vfc.jpg)\n",
        "Nazis... I hate those guys.\n",
        "\n",
        "A few more caricature-ish drawings this week, I love those. [Good job](https://i.imgur.com/GwWvUbI.jpg), everyone.\n",
        "Wow, thank you so much /u/orvane! There are so many incredibly brilliant artists here, it's truly a great source of inspiration :)!\n",
        "\n",
        "Congratulations to everyone!\n",
        "http://i.imgur.com/Oki2kkR.png\n",
        "I was just doing my comment thing when I noticed the tag...\n",
        "I haven't been here long, so I think I'm in a bit of shock\n",
        "\n",
        "*My sincerest Thank You* /u/orvane and the rest of the mods. It is a complete honor for my sketch to be featured among all the incredibly talented artists in this sub :)\n",
        "\n",
        "\n",
        "[I can't draw, but I have a new touch screen, so I gave it a go.](http://i.imgur.com/LSYoRgj.jpg)\n",
        ":) [here we are](http://quokkastudio.com/wp-content/uploads/smalldoll-1024x984.jpg)\n",
        "\n",
        "Mod: i changed host to my website, i hope this isn't going into spam anymore!\n",
        "I can't draw, but that's an awesome photo!\n",
        "Tried something completely new for me. Here's the rough result.\n",
        "\n",
        "http://i.imgur.com/Do9n1wL.png\n",
        "Woohoo! A picture OF me and a picture BY me.  Thanks for all the love! Checking the Sunday roundup is a joy I look forward to every week -- so many great works I'd not seen. \n",
        "\n",
        "Thanks mods, for keeping RGD amazing, and thank you /u/bcsketches for the incredible piece.\n",
        "\n",
        ".\n",
        "I tried doing something I normally don't, haha...\n",
        "http://i.imgur.com/aT8YHkZ.png\n",
        "http://i.imgur.com/i5y09QW.png\n",
        "http://imgur.com/O1chAha\n",
        "[The goggles.](http://jpscribbles.tumblr.com/post/101017281348/goggles-for)\n",
        "^Well ^at ^least ^my ^mom ^thinks ^i'm ^good ^:/   jk lol\n",
        "\n",
        "\n",
        "Can I just say that /u/katfriday is amazing??? Fuckin hell, thats stunning! /u/littlebutmighty  as well!!!  You work that stuff gurl! I promise I'm gonna draw ya!  ^^^I ^^^hope....\n",
        "\n",
        "And the comment of the weeks has got to be the most original thing I have ever seen :DD SO INNOVATIVE!  Who could have ever thought of comparing  mods that do their fucking job awesomely to nazis??? No one thats who.\n"
       ]
      }
     ],
     "prompt_number": 72
    },
    {
     "cell_type": "code",
     "collapsed": false,
     "input": [
      "imcom"
     ],
     "language": "python",
     "metadata": {},
     "outputs": [
      {
       "metadata": {},
       "output_type": "pyout",
       "prompt_number": 73,
       "text": [
        "[u'http://imgur.com/GV7qJo9',\n",
        " u\"Thank you so much, fivepmsomewhere! I've been in a bit of an art funk and this is encouraging! :)\",\n",
        " u\"[Kitty.](http://imgur.com/a/a9y02)\\n\\nSorry it's so light! Using just a normal pencil and was afraid to go too dark.\",\n",
        " u'http://i.imgur.com/V25KRZg.png',\n",
        " u'http://i.imgur.com/jZpytmi.png\\n\\n\\nI think the eyes are a bit too far apart...',\n",
        " u'Very cool photo! :)\\n\\nhttp://i.imgur.com/aP3WC7e.jpg',\n",
        " u'[Thanks for the great picture!](http://i.imgur.com/4IG1SIC.jpg)',\n",
        " u'https://imgur.com/fYEv71p',\n",
        " u'[Pencil sketch](http://imgur.com/AnvTcx5) bad lighting :/ I had fun thanks :)',\n",
        " u\"Ah this was awesome to draw! [I hope you like it!](http://imgur.com/oxdf4LQ)\\nPS. I might color it but I'm somewhat scared Im gonna screw it up so I just wanted to post this. \",\n",
        " u'http://m.imgur.com/3X7WiIl\\n\\nQuick paint on my tablet. Watching a prog about Picasso at the same time. It affected my interpretation.',\n",
        " 'testing',\n",
        " u'[Much love!](http://i.imgur.com/WcOgng3.png?1) ',\n",
        " u\"Hope this coincides with the rules! It's inspired. If it's a problem I can take it down! :)\\n\\nhttp://i.imgur.com/tLVEmqb.jpg\",\n",
        " u'http://i.imgur.com/ugf0vFL.png',\n",
        " u'Never seen the show, but here goes nothing http://imgur.com/X0R64vY',\n",
        " u'http://i.imgur.com/ZPfw0UZ.jpg',\n",
        " u'http://i.imgur.com/M2ZCI6P.png',\n",
        " u'http://imgur.com/zpvHMfQ',\n",
        " u'http://i.imgur.com/FraCoYH.png\\n\\nHere ya go man~',\n",
        " u\"First of all, thank you *so much* /u/heyryaaan! I really, really was not expecting it this week.\\n\\nSecond, congrats to all the other artists. I absolutely loved a ton of the work this week. I knew The_Drawist and saieu were going to get it as soon as I saw their drawings, but I'm really happy to see heyryaaan, orvane, bcsketches, katfriday, mickya, FoxtrotOscar23, LucarioPrime, and FlyinMayanLion up there. I know that's a ton of names, and I'm probably missing a few, but I loved y'all's work this week!\\n\\nAnd JetDog! You sly dog! Congrats on a TWOFER!!! It was totally deserved!\",\n",
        " u'[SuperSloppy](http://i.imgur.com/YDzGrDi.jpg)\\n\\n[With Moar Color](http://i.imgur.com/lrBz4CN.jpg)',\n",
        " u'http://imgur.com/Prt2i0E\\n\\nBefore I knew what happened, your mate turned into Blacula.  Bloody hell.',\n",
        " u'[deleted]',\n",
        " u'[First post. Sorry for crappy camera quality](http://i.imgur.com/QXn1vfc.jpg)',\n",
        " u'Nazis... I hate those guys.\\n\\nA few more caricature-ish drawings this week, I love those. [Good job](https://i.imgur.com/GwWvUbI.jpg), everyone.',\n",
        " u\"Wow, thank you so much /u/orvane! There are so many incredibly brilliant artists here, it's truly a great source of inspiration :)!\\n\\nCongratulations to everyone!\",\n",
        " u'http://i.imgur.com/Oki2kkR.png',\n",
        " u\"I was just doing my comment thing when I noticed the tag...\\nI haven't been here long, so I think I'm in a bit of shock\\n\\n*My sincerest Thank You* /u/orvane and the rest of the mods. It is a complete honor for my sketch to be featured among all the incredibly talented artists in this sub :)\\n\\n\",\n",
        " u\"[I can't draw, but I have a new touch screen, so I gave it a go.](http://i.imgur.com/LSYoRgj.jpg)\",\n",
        " u\":) [here we are](http://quokkastudio.com/wp-content/uploads/smalldoll-1024x984.jpg)\\n\\nMod: i changed host to my website, i hope this isn't going into spam anymore!\",\n",
        " u\"I can't draw, but that's an awesome photo!\",\n",
        " u\"Tried something completely new for me. Here's the rough result.\\n\\nhttp://i.imgur.com/Do9n1wL.png\",\n",
        " u\"Woohoo! A picture OF me and a picture BY me.  Thanks for all the love! Checking the Sunday roundup is a joy I look forward to every week -- so many great works I'd not seen. \\n\\nThanks mods, for keeping RGD amazing, and thank you /u/bcsketches for the incredible piece.\\n\\n.\",\n",
        " u\"I tried doing something I normally don't, haha...\\nhttp://i.imgur.com/aT8YHkZ.png\",\n",
        " u'http://i.imgur.com/i5y09QW.png',\n",
        " u'http://imgur.com/O1chAha',\n",
        " u'[The goggles.](http://jpscribbles.tumblr.com/post/101017281348/goggles-for)',\n",
        " u\"^Well ^at ^least ^my ^mom ^thinks ^i'm ^good ^:/   jk lol\\n\\n\\nCan I just say that /u/katfriday is amazing??? Fuckin hell, thats stunning! /u/littlebutmighty  as well!!!  You work that stuff gurl! I promise I'm gonna draw ya!  ^^^I ^^^hope....\\n\\nAnd the comment of the weeks has got to be the most original thing I have ever seen :DD SO INNOVATIVE!  Who could have ever thought of comparing  mods that do their fucking job awesomely to nazis??? No one thats who.\"]"
       ]
      }
     ],
     "prompt_number": 73
    },
    {
     "cell_type": "code",
     "collapsed": false,
     "input": [
      "fuldoc = doc.render()"
     ],
     "language": "python",
     "metadata": {},
     "outputs": [
      {
       "ename": "NameError",
       "evalue": "name 'doc' is not defined",
       "output_type": "pyerr",
       "traceback": [
        "\u001b[1;31m---------------------------------------------------------------------------\u001b[0m\n\u001b[1;31mNameError\u001b[0m                                 Traceback (most recent call last)",
        "\u001b[1;32m<ipython-input-75-cccfbe8b5f5b>\u001b[0m in \u001b[0;36m<module>\u001b[1;34m()\u001b[0m\n\u001b[1;32m----> 1\u001b[1;33m \u001b[0mfuldoc\u001b[0m \u001b[1;33m=\u001b[0m \u001b[0mdoc\u001b[0m\u001b[1;33m.\u001b[0m\u001b[0mrender\u001b[0m\u001b[1;33m(\u001b[0m\u001b[1;33m)\u001b[0m\u001b[1;33m\u001b[0m\u001b[0m\n\u001b[0m",
        "\u001b[1;31mNameError\u001b[0m: name 'doc' is not defined"
       ]
      }
     ],
     "prompt_number": 75
    },
    {
     "cell_type": "code",
     "collapsed": false,
     "input": [],
     "language": "python",
     "metadata": {},
     "outputs": [],
     "prompt_number": 75
    },
    {
     "cell_type": "code",
     "collapsed": false,
     "input": [
      "doc = dominate.document(title='Dominate your HTML')\n",
      "\n",
      "with doc.head:\n",
      "    link(rel='stylesheet', href='style.css')\n",
      "    script(type='text/javascript', src='script.js')\n",
      "\n",
      "with doc:\n",
      "    with div(id='header').add(ol()):\n",
      "        for imz in imcom:\n",
      "            #print imz\n",
      "            p(imz)\n",
      "\n",
      "    #with div():\n",
      "     #   attr(cls='body')\n",
      "     #   p('Lorem ipsum..')\n",
      "\n",
      "#print doc"
     ],
     "language": "python",
     "metadata": {},
     "outputs": [],
     "prompt_number": 77
    },
    {
     "cell_type": "code",
     "collapsed": false,
     "input": [
      "for docin in doc.head.children:\n",
      "    print docin"
     ],
     "language": "python",
     "metadata": {},
     "outputs": [
      {
       "output_type": "stream",
       "stream": "stdout",
       "text": [
        "<title>Dominate your HTML</title>\n",
        "<link href=\"style.css\" rel=\"stylesheet\">\n",
        "<script src=\"script.js\" type=\"text/javascript\"></script>\n"
       ]
      }
     ],
     "prompt_number": 78
    },
    {
     "cell_type": "code",
     "collapsed": false,
     "input": [
      "for pain in docin.parent.children:\n",
      "    print pain"
     ],
     "language": "python",
     "metadata": {},
     "outputs": [
      {
       "output_type": "stream",
       "stream": "stdout",
       "text": [
        "<title>Dominate your HTML</title>\n",
        "<link href=\"style.css\" rel=\"stylesheet\">\n",
        "<script src=\"script.js\" type=\"text/javascript\"></script>\n"
       ]
      }
     ],
     "prompt_number": 79
    },
    {
     "cell_type": "code",
     "collapsed": false,
     "input": [
      "doc.body.parent.children"
     ],
     "language": "python",
     "metadata": {},
     "outputs": [
      {
       "metadata": {},
       "output_type": "pyout",
       "prompt_number": 80,
       "text": [
        "[<dominate.tags.head at 237c550: 0 attributes, 3 children>,\n",
        " <dominate.tags.body at 18685b0: 0 attributes, 1 child>]"
       ]
      }
     ],
     "prompt_number": 80
    },
    {
     "cell_type": "code",
     "collapsed": false,
     "input": [],
     "language": "python",
     "metadata": {},
     "outputs": [],
     "prompt_number": 82
    },
    {
     "cell_type": "code",
     "collapsed": false,
     "input": [
      "soup = BeautifulSoup(doc)\n",
      "\n",
      "#print(soup.prettify())"
     ],
     "language": "python",
     "metadata": {},
     "outputs": [
      {
       "ename": "TypeError",
       "evalue": "Only integer and string types are valid for accessing child tags and attributes, respectively.",
       "output_type": "pyerr",
       "traceback": [
        "\u001b[1;31m---------------------------------------------------------------------------\u001b[0m\n\u001b[1;31mTypeError\u001b[0m                                 Traceback (most recent call last)",
        "\u001b[1;32m<ipython-input-84-dcac41a0ee2d>\u001b[0m in \u001b[0;36m<module>\u001b[1;34m()\u001b[0m\n\u001b[1;32m----> 1\u001b[1;33m \u001b[0msoup\u001b[0m \u001b[1;33m=\u001b[0m \u001b[0mBeautifulSoup\u001b[0m\u001b[1;33m(\u001b[0m\u001b[0mdoc\u001b[0m\u001b[1;33m)\u001b[0m\u001b[1;33m\u001b[0m\u001b[0m\n\u001b[0m\u001b[0;32m      2\u001b[0m \u001b[1;33m\u001b[0m\u001b[0m\n\u001b[0;32m      3\u001b[0m \u001b[1;31m#print(soup.prettify())\u001b[0m\u001b[1;33m\u001b[0m\u001b[1;33m\u001b[0m\u001b[0m\n",
        "\u001b[1;32m/usr/local/lib/python2.7/dist-packages/bs4/__init__.pyc\u001b[0m in \u001b[0;36m__init__\u001b[1;34m(self, markup, features, builder, parse_only, from_encoding, **kwargs)\u001b[0m\n\u001b[0;32m    181\u001b[0m                 warnings.warn(\n\u001b[0;32m    182\u001b[0m                     '\"%s\" looks like a filename, not markup. You should probably open this file and pass the filehandle into Beautiful Soup.' % markup)\n\u001b[1;32m--> 183\u001b[1;33m             \u001b[1;32mif\u001b[0m \u001b[0mmarkup\u001b[0m\u001b[1;33m[\u001b[0m\u001b[1;33m:\u001b[0m\u001b[1;36m5\u001b[0m\u001b[1;33m]\u001b[0m \u001b[1;33m==\u001b[0m \u001b[1;34m\"http:\"\u001b[0m \u001b[1;32mor\u001b[0m \u001b[0mmarkup\u001b[0m\u001b[1;33m[\u001b[0m\u001b[1;33m:\u001b[0m\u001b[1;36m6\u001b[0m\u001b[1;33m]\u001b[0m \u001b[1;33m==\u001b[0m \u001b[1;34m\"https:\"\u001b[0m\u001b[1;33m:\u001b[0m\u001b[1;33m\u001b[0m\u001b[0m\n\u001b[0m\u001b[0;32m    184\u001b[0m                 \u001b[1;31m# TODO: This is ugly but I couldn't get it to work in\u001b[0m\u001b[1;33m\u001b[0m\u001b[1;33m\u001b[0m\u001b[0m\n\u001b[0;32m    185\u001b[0m                 \u001b[1;31m# Python 3 otherwise.\u001b[0m\u001b[1;33m\u001b[0m\u001b[1;33m\u001b[0m\u001b[0m\n",
        "\u001b[1;32m/usr/local/lib/python2.7/dist-packages/dominate/dom_tag.pyc\u001b[0m in \u001b[0;36m__getitem__\u001b[1;34m(self, key)\u001b[0m\n\u001b[0;32m    266\u001b[0m         \u001b[1;32mraise\u001b[0m \u001b[0mAttributeError\u001b[0m\u001b[1;33m(\u001b[0m\u001b[1;34m'Attribute \"%s\" does not exist.'\u001b[0m \u001b[1;33m%\u001b[0m \u001b[0mkey\u001b[0m\u001b[1;33m)\u001b[0m\u001b[1;33m\u001b[0m\u001b[0m\n\u001b[0;32m    267\u001b[0m     \u001b[1;32melse\u001b[0m\u001b[1;33m:\u001b[0m\u001b[1;33m\u001b[0m\u001b[0m\n\u001b[1;32m--> 268\u001b[1;33m       raise TypeError('Only integer and string types are valid for accessing '\n\u001b[0m\u001b[0;32m    269\u001b[0m           'child tags and attributes, respectively.')\n\u001b[0;32m    270\u001b[0m   \u001b[0m__getattr__\u001b[0m \u001b[1;33m=\u001b[0m \u001b[0m__getitem__\u001b[0m\u001b[1;33m\u001b[0m\u001b[0m\n",
        "\u001b[1;31mTypeError\u001b[0m: Only integer and string types are valid for accessing child tags and attributes, respectively."
       ]
      }
     ],
     "prompt_number": 84
    },
    {
     "cell_type": "code",
     "collapsed": false,
     "input": [
      "extractlinks()"
     ],
     "language": "python",
     "metadata": {},
     "outputs": [
      {
       "ename": "TypeError",
       "evalue": "extractlinks() takes exactly 1 argument (0 given)",
       "output_type": "pyerr",
       "traceback": [
        "\u001b[1;31m---------------------------------------------------------------------------\u001b[0m\n\u001b[1;31mTypeError\u001b[0m                                 Traceback (most recent call last)",
        "\u001b[1;32m<ipython-input-82-223c42c7e2cf>\u001b[0m in \u001b[0;36m<module>\u001b[1;34m()\u001b[0m\n\u001b[1;32m----> 1\u001b[1;33m \u001b[0mextractlinks\u001b[0m\u001b[1;33m(\u001b[0m\u001b[1;33m)\u001b[0m\u001b[1;33m\u001b[0m\u001b[0m\n\u001b[0m",
        "\u001b[1;31mTypeError\u001b[0m: extractlinks() takes exactly 1 argument (0 given)"
       ]
      }
     ],
     "prompt_number": 82
    },
    {
     "cell_type": "code",
     "collapsed": false,
     "input": [
      "for imc in imcom:\n",
      "    print imc"
     ],
     "language": "python",
     "metadata": {},
     "outputs": [
      {
       "output_type": "stream",
       "stream": "stdout",
       "text": [
        "http://i.imgur.com/lL5SJL5.jpg Arrrrr!\n",
        "[Ink drawing](http://i.imgur.com/wF8wt4c.png)\n",
        "[you're the what](http://imgur.com/f7lZ4Rs)\n",
        "[I got a tablet tonight, and this was my first go at using one. It was hard. :D](https://31.media.tumblr.com/841c1de73711a8467f06835b16904535/tumblr_ndyss3MFhC1tixz5po1_500.png)\n",
        "I hope you like [it](http://i.imgur.com/NsrK0ba.jpg) :)\n",
        "A few sketch versions for You:\n",
        "\n",
        "1/ A line sketch:\n",
        "\n",
        "http://i.imgur.com/01fcvYq.jpg\n",
        "\n",
        "2/ Colorised drawing:\n",
        "\n",
        "http://i.imgur.com/zc1HHei.jpg\n",
        "\n",
        "3/ Experiment with canvas texture:\n",
        "\n",
        "http://i.imgur.com/j8qi5WS.jpg\n",
        "\n",
        "\n",
        "Quick oil study:  http://imgur.com/EvDlCOo\n",
        "testing\n",
        "http://i.imgur.com/Qk4j23A.png\n",
        "[Hope you like it](http://i.imgur.com/wxROf8X.jpg) :)\n",
        "[I would have colored it but its getting really late here and I have work tomorrow morning, maybe next time. \ud83d\ude09](http://i.imgur.com/G8qd5Va.jpg)\n"
       ]
      }
     ],
     "prompt_number": 189
    },
    {
     "cell_type": "code",
     "collapsed": false,
     "input": [
      "doc.body"
     ],
     "language": "python",
     "metadata": {},
     "outputs": [
      {
       "metadata": {},
       "output_type": "pyout",
       "prompt_number": 280,
       "text": [
        "<dominate.tags.body at 2f86250: 0 attributes, 1 child>"
       ]
      }
     ],
     "prompt_number": 280
    },
    {
     "cell_type": "code",
     "collapsed": false,
     "input": [],
     "language": "python",
     "metadata": {},
     "outputs": []
    },
    {
     "cell_type": "code",
     "collapsed": false,
     "input": [
      "doc.render()"
     ],
     "language": "python",
     "metadata": {},
     "outputs": [
      {
       "metadata": {},
       "output_type": "pyout",
       "prompt_number": 282,
       "text": [
        "u'<!DOCTYPE html>\\n<html>\\n  <head>\\n    <title>Dominate your HTML</title>\\n    <link href=\"style.css\" rel=\"stylesheet\">\\n    <script src=\"script.js\" type=\"text/javascript\"></script>\\n  </head>\\n  <body>\\n    <div id=\"header\">\\n      <ol>\\n        <p>http://i.imgur.com/lL5SJL5.jpg Arrrrr!</p>\\n        <p>[Ink drawing](http://i.imgur.com/wF8wt4c.png)</p>\\n        <p>[you\\'re the what](http://imgur.com/f7lZ4Rs)</p>\\n        <p>[I got a tablet tonight, and this was my first go at using one. It was hard. :D](https://31.media.tumblr.com/841c1de73711a8467f06835b16904535/tumblr_ndyss3MFhC1tixz5po1_500.png)</p>\\n        <p>I hope you like [it](http://i.imgur.com/NsrK0ba.jpg) :)</p>\\n        <p>A few sketch versions for You:\\n\\n1/ A line sketch:\\n\\nhttp://i.imgur.com/01fcvYq.jpg\\n\\n2/ Colorised drawing:\\n\\nhttp://i.imgur.com/zc1HHei.jpg\\n\\n3/ Experiment with canvas texture:\\n\\nhttp://i.imgur.com/j8qi5WS.jpg\\n\\n</p>\\n        <p>Quick oil study:  http://imgur.com/EvDlCOo</p>\\n        <p>testing</p>\\n        <p>http://i.imgur.com/Qk4j23A.png</p>\\n        <p>[Hope you like it](http://i.imgur.com/wxROf8X.jpg) :)</p>\\n        <p>[I would have colored it but its getting really late here and I have work tomorrow morning, maybe next time. \\U0001f609](http://i.imgur.com/G8qd5Va.jpg)</p>\\n      </ol>\\n    </div>\\n  </body>\\n</html>'"
       ]
      }
     ],
     "prompt_number": 282
    },
    {
     "cell_type": "code",
     "collapsed": false,
     "input": [
      "for dicaz in doc.children:\n",
      "    print dicaz"
     ],
     "language": "python",
     "metadata": {},
     "outputs": [
      {
       "output_type": "stream",
       "stream": "stdout",
       "text": [
        "<head>\n",
        "  <title>Dominate your HTML</title>\n",
        "  <link href=\"style.css\" rel=\"stylesheet\">\n",
        "  <script src=\"script.js\" type=\"text/javascript\"></script>\n",
        "</head>\n",
        "<body>\n",
        "  <div id=\"header\">\n",
        "    <ol>\n",
        "      <li>\n",
        "        <p>http://i.imgur.com/lL5SJL5.jpg Arrrrr!</p>\n",
        "      </li>\n",
        "      <li>\n",
        "        <p>[Ink drawing](http://i.imgur.com/wF8wt4c.png)</p>\n",
        "      </li>\n",
        "      <li>\n",
        "        <p>[you're the what](http://imgur.com/f7lZ4Rs)</p>\n",
        "      </li>\n",
        "      <li>\n",
        "        <p>[I got a tablet tonight, and this was my first go at using one. It was hard. :D](https://31.media.tumblr.com/841c1de73711a8467f06835b16904535/tumblr_ndyss3MFhC1tixz5po1_500.png)</p>\n",
        "      </li>\n",
        "      <li>\n",
        "        <p>I hope you like [it](http://i.imgur.com/NsrK0ba.jpg) :)</p>\n",
        "      </li>\n",
        "      <li>\n",
        "        <p>A few sketch versions for You:\n",
        "\n",
        "1/ A line sketch:\n",
        "\n",
        "http://i.imgur.com/01fcvYq.jpg\n",
        "\n",
        "2/ Colorised drawing:\n",
        "\n",
        "http://i.imgur.com/zc1HHei.jpg\n",
        "\n",
        "3/ Experiment with canvas texture:\n",
        "\n",
        "http://i.imgur.com/j8qi5WS.jpg\n",
        "\n",
        "</p>\n",
        "      </li>\n",
        "      <li>\n",
        "        <p>Quick oil study:  http://imgur.com/EvDlCOo</p>\n",
        "      </li>\n",
        "      <li>\n",
        "        <p>testing</p>\n",
        "      </li>\n",
        "      <li>\n",
        "        <p>http://i.imgur.com/Qk4j23A.png</p>\n",
        "      </li>\n",
        "      <li>\n",
        "        <p>[Hope you like it](http://i.imgur.com/wxROf8X.jpg) :)</p>\n",
        "      </li>\n",
        "    </ol>\n",
        "  </div>\n",
        "</body>\n"
       ]
      }
     ],
     "prompt_number": 191
    },
    {
     "cell_type": "code",
     "collapsed": false,
     "input": [],
     "language": "python",
     "metadata": {},
     "outputs": []
    },
    {
     "cell_type": "code",
     "collapsed": false,
     "input": [
      "for imz in imcom:\n",
      "    \n",
      "    print imz"
     ],
     "language": "python",
     "metadata": {},
     "outputs": [
      {
       "output_type": "stream",
       "stream": "stdout",
       "text": [
        "http://i.imgur.com/lL5SJL5.jpg Arrrrr!\n",
        "[Ink drawing](http://i.imgur.com/wF8wt4c.png)\n",
        "[you're the what](http://imgur.com/f7lZ4Rs)\n",
        "[I got a tablet tonight, and this was my first go at using one. It was hard. :D](https://31.media.tumblr.com/841c1de73711a8467f06835b16904535/tumblr_ndyss3MFhC1tixz5po1_500.png)\n",
        "I hope you like [it](http://i.imgur.com/NsrK0ba.jpg) :)\n",
        "A few sketch versions for You:\n",
        "\n",
        "1/ A line sketch:\n",
        "\n",
        "http://i.imgur.com/01fcvYq.jpg\n",
        "\n",
        "2/ Colorised drawing:\n",
        "\n",
        "http://i.imgur.com/zc1HHei.jpg\n",
        "\n",
        "3/ Experiment with canvas texture:\n",
        "\n",
        "http://i.imgur.com/j8qi5WS.jpg\n",
        "\n",
        "\n",
        "Quick oil study:  http://imgur.com/EvDlCOo\n",
        "testing\n",
        "http://i.imgur.com/Qk4j23A.png\n",
        "[Hope you like it](http://i.imgur.com/wxROf8X.jpg) :)\n",
        "[I would have colored it but its getting really late here and I have work tomorrow morning, maybe next time. \ud83d\ude09](http://i.imgur.com/G8qd5Va.jpg)\n"
       ]
      }
     ],
     "prompt_number": 192
    },
    {
     "cell_type": "code",
     "collapsed": false,
     "input": [
      "for rez in rcoms:\n",
      "    print rez\n",
      "    "
     ],
     "language": "python",
     "metadata": {},
     "outputs": [
      {
       "output_type": "stream",
       "stream": "stdout",
       "text": [
        "Reeceepeeceepoop\n",
        "slam_nine\n",
        "TheShadowX\n",
        "sgt_mary_mary\n",
        "SwordofTeatime\n",
        "drawinglearner\n",
        "katfriday\n",
        "blah\n",
        "MrSlob\n",
        "Torkar\n",
        "Karitz\n"
       ]
      }
     ],
     "prompt_number": 193
    },
    {
     "cell_type": "code",
     "collapsed": false,
     "input": [],
     "language": "python",
     "metadata": {},
     "outputs": [],
     "prompt_number": 193
    },
    {
     "cell_type": "code",
     "collapsed": false,
     "input": [
      "for rgt in rgdef.values():\n",
      "    if '.jpg' in rgt:\n",
      "        print rgt"
     ],
     "language": "python",
     "metadata": {},
     "outputs": [
      {
       "output_type": "stream",
       "stream": "stdout",
       "text": [
        "http://i.imgur.com/YxLr2hg.jpg\n",
        "http://i.imgur.com/FJNqPdL.jpg\n",
        "http://i.imgur.com/lsLdTgn.jpg\n",
        "http://i.imgur.com/ckdiobV.jpg\n",
        "http://i.imgur.com/pIOXe75.jpg\n",
        "http://i.imgur.com/cspaP2M.jpg\n",
        "http://i.imgur.com/63wUsei.jpg\n",
        "http://i.imgur.com/TSZVoSF.jpg\n",
        "http://i.imgur.com/r5nEnVR.jpg\n",
        "http://i.imgur.com/Rojinf7.jpg\n",
        "http://i.imgur.com/odsASLP.jpg\n",
        "http://i.imgur.com/Sn8qNlC.jpg\n",
        "http://i.imgur.com/znQ5Yvn.jpg\n"
       ]
      }
     ],
     "prompt_number": 194
    },
    {
     "cell_type": "code",
     "collapsed": false,
     "input": [
      "import dominate\n",
      "from dominate.tags import *\n",
      "\n",
      "doc = dominate.document(title='RedditGetsDrawn Recent Reference')\n",
      "\n",
      "with doc.head:\n",
      "    link(rel='stylesheet', href='style.css')\n",
      "    script(type='text/javascript', src='script.js')\n",
      "    \n",
      "    with div():\n",
      "        attr(cls='header')\n",
      "        h1('RedditGetsDrawn Recent Reference')\n",
      "        p('updated ', strftime(\"%a, %d %b %Y %H:%M:%S +0000\", gmtime()))\n",
      "\n",
      "    \n",
      "    \n",
      "\n",
      "with doc:\n",
      "    with div(id='body').add(ol()):\n",
      "        for rdz in rdnew:\n",
      "            h1(rdz.title)\n",
      "            a(rdz.url)\n",
      "            if '.jpg' or '.png' in rdz.url:\n",
      "                print rdz.url\n",
      "                p(img(rdz.url, src='%s' % rdz.url))\n",
      "            #print rdz.url\n",
      "            #if '.jpg' in rdz.url:\n",
      "            #    img(rdz.urlz)\n",
      "            #else:\n",
      "            #    a(rdz.urlz)\n",
      "            p(str(rdz.author))\n",
      "            \n",
      "            #li(img(i.lower(), src='%s' % i))\n",
      "\n",
      "    with div():\n",
      "        attr(cls='body')\n",
      "        p('RGDRecentReference is open source')\n",
      "        a('http://github.com/wcmckee/wcmckee')\n",
      "\n",
      "#print doc"
     ],
     "language": "python",
     "metadata": {},
     "outputs": [
      {
       "output_type": "stream",
       "stream": "stdout",
       "text": [
        "http://imgur.com/1ILhqlj\n",
        "http://i.imgur.com/YxLr2hg.jpg\n",
        "http://i.imgur.com/Rojinf7.jpg\n",
        "http://imgur.com/SQT3Dzb\n",
        "http://i.imgur.com/cspaP2M.jpg\n",
        "http://imgur.com/a/ii2ln#0\n",
        "http://i.imgur.com/r5nEnVR.jpg\n",
        "http://i.imgur.com/odsASLP.jpg\n",
        "http://i.imgur.com/hzSZswm.jpeg\n",
        "http://imgur.com/Hw8tWSz"
       ]
      },
      {
       "output_type": "stream",
       "stream": "stdout",
       "text": [
        "\n",
        "http://imgur.com/ZdEcSYd\n",
        "http://i.imgur.com/ckdiobV.jpg\n",
        "http://imgur.com/vdQUKyE\n",
        "http://i.imgur.com/pIOXe75.jpg\n",
        "http://imgur.com/T4PDCDe\n",
        "http://i.imgur.com/63wUsei.jpg\n",
        "http://i.imgur.com/lsLdTgn.jpg\n",
        "http://imgur.com/CddBsaR\n",
        "http://i.imgur.com/znQ5Yvn.jpg\n",
        "http://imgur.com/pAtAyNu\n",
        "http://imgur.com/RBKTT7l\n",
        "http://i.imgur.com/TSZVoSF.jpg\n",
        "http://imgur.com/6JkwjHe\n",
        "http://i.imgur.com/Sn8qNlC.jpg\n",
        "http://i.imgur.com/FJNqPdL.jpg"
       ]
      },
      {
       "output_type": "stream",
       "stream": "stdout",
       "text": [
        "\n"
       ]
      }
     ],
     "prompt_number": 195
    },
    {
     "cell_type": "code",
     "collapsed": false,
     "input": [
      "rgdir = ('/home/wcmckee/rgdrecentReference/')"
     ],
     "language": "python",
     "metadata": {},
     "outputs": [],
     "prompt_number": 196
    },
    {
     "cell_type": "code",
     "collapsed": false,
     "input": [
      "os.chdir(rgdir)"
     ],
     "language": "python",
     "metadata": {},
     "outputs": [],
     "prompt_number": 197
    },
    {
     "cell_type": "code",
     "collapsed": false,
     "input": [
      "#mkindex = open('index.html', 'w')\n",
      "#mkindex.write(str(doc))\n",
      "#mkindex.close()"
     ],
     "language": "python",
     "metadata": {},
     "outputs": [],
     "prompt_number": 198
    },
    {
     "cell_type": "code",
     "collapsed": false,
     "input": [
      "#print str(doc)"
     ],
     "language": "python",
     "metadata": {},
     "outputs": [],
     "prompt_number": 199
    },
    {
     "cell_type": "code",
     "collapsed": false,
     "input": [
      "print strftime(\"%a, %d %b %Y %H:%M:%S +0000\")"
     ],
     "language": "python",
     "metadata": {},
     "outputs": [
      {
       "output_type": "stream",
       "stream": "stdout",
       "text": [
        "Fri, 24 Oct 2014 22:34:43 +0000\n"
       ]
      }
     ],
     "prompt_number": 200
    },
    {
     "cell_type": "code",
     "collapsed": false,
     "input": [
      "savedate = strftime(\"%d\" + \"-\" + \"%M\" + \"-\" + \"%Y\" + \"-\" + \"%H\")"
     ],
     "language": "python",
     "metadata": {},
     "outputs": [],
     "prompt_number": 201
    },
    {
     "cell_type": "code",
     "collapsed": false,
     "input": [
      "savedate"
     ],
     "language": "python",
     "metadata": {},
     "outputs": [
      {
       "metadata": {},
       "output_type": "pyout",
       "prompt_number": 202,
       "text": [
        "'24-34-2014-22'"
       ]
      }
     ],
     "prompt_number": 202
    },
    {
     "cell_type": "code",
     "collapsed": false,
     "input": [
      "deepone = str(savedate + '.md')"
     ],
     "language": "python",
     "metadata": {},
     "outputs": [],
     "prompt_number": 203
    },
    {
     "cell_type": "code",
     "collapsed": false,
     "input": [
      "deepone"
     ],
     "language": "python",
     "metadata": {},
     "outputs": [
      {
       "metadata": {},
       "output_type": "pyout",
       "prompt_number": 204,
       "text": [
        "'24-34-2014-22.md'"
       ]
      }
     ],
     "prompt_number": 204
    },
    {
     "cell_type": "code",
     "collapsed": false,
     "input": [
      "#os.chdir('/home/wcmckee/brobeur-blog-post/')"
     ],
     "language": "python",
     "metadata": {},
     "outputs": [],
     "prompt_number": 47
    },
    {
     "cell_type": "code",
     "collapsed": false,
     "input": [
      "#brobeind = open('\u00edndex.html', 'r')"
     ],
     "language": "python",
     "metadata": {},
     "outputs": [],
     "prompt_number": 48
    },
    {
     "cell_type": "code",
     "collapsed": false,
     "input": [
      "#brotest = open('\u00edndex.html', 'r')\n",
      "#brotest.read()"
     ],
     "language": "python",
     "metadata": {},
     "outputs": [],
     "prompt_number": 49
    },
    {
     "cell_type": "code",
     "collapsed": false,
     "input": [
      "redposts = ('/home/wcmckee/rgdrecentReference/posts')"
     ],
     "language": "python",
     "metadata": {},
     "outputs": [],
     "prompt_number": 50
    },
    {
     "cell_type": "code",
     "collapsed": false,
     "input": [
      "os.chdir(redposts)"
     ],
     "language": "python",
     "metadata": {},
     "outputs": [],
     "prompt_number": 51
    },
    {
     "cell_type": "code",
     "collapsed": false,
     "input": [
      "time.asctime()"
     ],
     "language": "python",
     "metadata": {},
     "outputs": [
      {
       "metadata": {},
       "output_type": "pyout",
       "prompt_number": 52,
       "text": [
        "'Fri Oct 24 10:58:47 2014'"
       ]
      }
     ],
     "prompt_number": 52
    },
    {
     "cell_type": "code",
     "collapsed": false,
     "input": [
      "savinx = open(str(deepone), 'w')"
     ],
     "language": "python",
     "metadata": {},
     "outputs": [],
     "prompt_number": 53
    },
    {
     "cell_type": "code",
     "collapsed": false,
     "input": [
      "savinx.write(str(rgdef))"
     ],
     "language": "python",
     "metadata": {},
     "outputs": [],
     "prompt_number": 54
    },
    {
     "cell_type": "code",
     "collapsed": false,
     "input": [
      "savinx.close()"
     ],
     "language": "python",
     "metadata": {},
     "outputs": [],
     "prompt_number": 55
    },
    {
     "cell_type": "code",
     "collapsed": false,
     "input": [],
     "language": "python",
     "metadata": {},
     "outputs": [],
     "prompt_number": 317
    },
    {
     "cell_type": "code",
     "collapsed": false,
     "input": [],
     "language": "python",
     "metadata": {},
     "outputs": [],
     "prompt_number": 317
    },
    {
     "cell_type": "code",
     "collapsed": false,
     "input": [],
     "language": "python",
     "metadata": {},
     "outputs": [],
     "prompt_number": 317
    }
   ],
   "metadata": {}
  }
 ]
}