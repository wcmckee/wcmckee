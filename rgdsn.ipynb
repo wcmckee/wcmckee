{
 "metadata": {
  "name": "",
  "signature": "sha256:66d190f2d88d7e5bc78f6af334f63ab05c88c7f032cddc23d3289aa7d7e45f2e"
 },
 "nbformat": 3,
 "nbformat_minor": 0,
 "worksheets": [
  {
   "cells": [
    {
     "cell_type": "markdown",
     "metadata": {},
     "source": [
      "<h1>Reddit Gets Drawn Snatch Script</h1>\n",
      "\n",
      "Creates the website redditgetsdrawnrecentreference. It contains the 25 most recent posts on r/redditgetsdrawn. title, image url, and username\n",
      "\n",
      "TODO:\n",
      "Contains artwork replies to each thread\n",
      "\n",
      "This is a Python script that takes data from reddit and posts it to another subreddit. It also creates a html file with the images embed into. The images are the most recent 25 on r/redditgetsdrawn.\n",
      "\n",
      "The script returns the comments from the most recent 25 posts along with the comments of comments.\n",
      "\n",
      "Pandas is used to append everything into a series and DataFrame. \n",
      "The pandas allows youto easily append these together. \n",
      "\n",
      "get all artwork and append into reference image -> \n",
      "artwork. \n",
      "\n",
      "Generate sites again.\n",
      "\n"
     ]
    },
    {
     "cell_type": "markdown",
     "metadata": {},
     "source": [
      "RedditGetsDrawn Snatch\n",
      " \n",
      "This is a Python script that takes data from reddit and posts it to another subreddit. It also creates a html file with the images embed into. The images are the most recent 25 on r/redditgetsdrawn.\n",
      " \n",
      "\n",
      "<markdowncell>\n",
      "\n",
      "TODO\n",
      " \n",
      "submit art to users via website\n",
      " \n",
      "fix image sizes (need to scale down to 550px)\n",
      " \n",
      "Save to server rather than imgur\n",
      " \n",
      "Archieve, snapshots of rgd\n",
      " \n",
      "more artcontrol\n",
      " \n",
      "itwillbemine comments to html - currently being saved in contact \n",
      " \n",
      "work on css, div up page, title, side, body, fo\n",
      "\n",
      "update twitter with ONE IMAGE and announce that the list has been updated.\n",
      " \n",
      "write blog post and submits to artcontroldrawsyou/blog \n",
      " \n",
      "gets sticked post on reddit\n",
      " \n",
      "delete about/contact page and have on all same page. can still have link to blog. \n",
      "about \n",
      "contact etc... along the top.\n",
      "other sections\n",
      " \n",
      "post images to blog for archieve - save body to wcmckee.com/blog - md format?\n",
      " \n",
      "nikola install - build site.\n",
      " \n",
      "cronjob to update site ever ?? hours? 4?\n",
      " \n",
      "photos section: latest 25 photos submitted to redditgetsdrawn.\n",
      "art section: latest 25 art submitted to redditgetsdrawn. \n",
      "\n",
      "cleanup code \n",
      "\n",
      "import pandas into it and removed things i dont need like dominate"
     ]
    },
    {
     "cell_type": "code",
     "collapsed": false,
     "input": [
      "import os\n",
      "import random\n",
      "import requests\n",
      "from bs4 import BeautifulSoup\n",
      "import re\n",
      "import json\n",
      "import time\n",
      "import praw\n",
      "import dominate\n",
      "from dominate.tags import *\n",
      "from time import gmtime, strftime\n",
      "import nose\n",
      "import unittest\n",
      "import numpy as np\n",
      "import pandas as pd\n",
      "from pandas import *"
     ],
     "language": "python",
     "metadata": {},
     "outputs": [],
     "prompt_number": 192
    },
    {
     "cell_type": "code",
     "collapsed": false,
     "input": [
      "chdira = ('/home/wcmckee/artcontroldrawsyou')\n",
      "os.chdir(chdira)"
     ],
     "language": "python",
     "metadata": {},
     "outputs": [],
     "prompt_number": 178
    },
    {
     "cell_type": "code",
     "collapsed": false,
     "input": [
      "r = praw.Reddit(user_agent='rgdsnatch')\n",
      "\n",
      "# <codecell>\n",
      "\n",
      "#r.login('artcontrol', 'taylor123vag!')\n",
      "\n",
      "# <codecell>\n",
      "\n",
      "rd = r.get_subreddit('redditgetsdrawn')\n",
      "\n",
      "# <codecell>\n",
      "\n",
      "subz = rd.get_hot().next()\n",
      "istit = (subz.title)\n",
      "istxt = (subz.selftext_html)\n",
      "istick = (subz.stickied)\n",
      "\n",
      "rdnewz = rd.get_new()\n",
      "\n",
      "rdnew = []"
     ],
     "language": "python",
     "metadata": {},
     "outputs": [],
     "prompt_number": 179
    },
    {
     "cell_type": "code",
     "collapsed": false,
     "input": [
      "reddraw = praw.Reddit(user_agent='rgdsnatch')"
     ],
     "language": "python",
     "metadata": {},
     "outputs": [],
     "prompt_number": 180
    },
    {
     "cell_type": "code",
     "collapsed": false,
     "input": [
      "getrddraw = reddraw.get_subreddit('redditgetsdrawn')"
     ],
     "language": "python",
     "metadata": {},
     "outputs": [],
     "prompt_number": 181
    },
    {
     "cell_type": "code",
     "collapsed": false,
     "input": [
      "decict = {'example':'wcmckee'}"
     ],
     "language": "python",
     "metadata": {},
     "outputs": [],
     "prompt_number": 182
    },
    {
     "cell_type": "code",
     "collapsed": false,
     "input": [
      "subz = getrddraw.get_new()"
     ],
     "language": "python",
     "metadata": {},
     "outputs": [],
     "prompt_number": 183
    },
    {
     "cell_type": "code",
     "collapsed": false,
     "input": [
      "class TestRedditFunction(unittest.TestCase):\n",
      "    \n",
      "    def setUp(self):\n",
      "        self.seq = reddraw.get_subreddit('redditgetsdrawn')\n",
      "        \n",
      "    def testredit(self):\n",
      "        drawnew('redditgetsdrawn') "
     ],
     "language": "python",
     "metadata": {},
     "outputs": [],
     "prompt_number": 184
    },
    {
     "cell_type": "code",
     "collapsed": false,
     "input": [
      "def drawnew(subred):\n",
      "    getrdraw = reddraw.get_subreddit(subred)\n",
      "    return getrdraw\n",
      "\n",
      "def apred(deciz):\n",
      "    \n",
      "    return (deciz)"
     ],
     "language": "python",
     "metadata": {},
     "outputs": [],
     "prompt_number": 185
    },
    {
     "cell_type": "code",
     "collapsed": false,
     "input": [
      "apred('omg')"
     ],
     "language": "python",
     "metadata": {},
     "outputs": [
      {
       "metadata": {},
       "output_type": "pyout",
       "prompt_number": 186,
       "text": [
        "'omg'"
       ]
      }
     ],
     "prompt_number": 186
    },
    {
     "cell_type": "code",
     "collapsed": false,
     "input": [
      "rdrws = drawnew('redditgetsdrawn')"
     ],
     "language": "python",
     "metadata": {},
     "outputs": [],
     "prompt_number": 187
    },
    {
     "cell_type": "code",
     "collapsed": false,
     "input": [
      "rtohr = rdrws.get_controversial_from_all()"
     ],
     "language": "python",
     "metadata": {},
     "outputs": [],
     "prompt_number": 188
    },
    {
     "cell_type": "code",
     "collapsed": false,
     "input": [
      "for imgz in rtohr:\n",
      "    #print imgz.selftext\n",
      "    print imgz.num_comments"
     ],
     "language": "python",
     "metadata": {},
     "outputs": [
      {
       "output_type": "stream",
       "stream": "stdout",
       "text": [
        "6\n",
        "33\n",
        "26\n",
        "8\n",
        "71\n",
        "53\n",
        "7\n",
        "23\n",
        "61\n",
        "6\n",
        "20\n",
        "59\n",
        "58\n",
        "5\n",
        "14\n",
        "3\n",
        "21\n",
        "7\n",
        "10\n",
        "26\n",
        "56\n",
        "37\n",
        "15\n",
        "2\n",
        "0\n"
       ]
      }
     ],
     "prompt_number": 189
    },
    {
     "cell_type": "code",
     "collapsed": false,
     "input": [
      "rdnew = []"
     ],
     "language": "python",
     "metadata": {},
     "outputs": [],
     "prompt_number": 190
    },
    {
     "cell_type": "code",
     "collapsed": false,
     "input": [
      "rdnewz = getrddraw.get_new()\n",
      "\n",
      "# <codecell>\n",
      "\n",
      "rdnew = []\n",
      "\n",
      "# <codecell>\n",
      "\n",
      "rdnew\n",
      "\n",
      "# <codecell>\n",
      "\n",
      "for uz in rdnewz:\n",
      "    #print uz\n",
      "    rdnew.append(uz)\n"
     ],
     "language": "python",
     "metadata": {},
     "outputs": [],
     "prompt_number": 191
    },
    {
     "cell_type": "code",
     "collapsed": false,
     "input": [
      "datelis = []\n",
      "refdic = {}\n",
      "rgdef = {'testz': 'testvalue'}\n",
      "comdefz = []\n"
     ],
     "language": "python",
     "metadata": {},
     "outputs": [],
     "prompt_number": 75
    },
    {
     "cell_type": "code",
     "collapsed": false,
     "input": [
      "for rdz in rdnew:\n",
      "    print rdz.name\n",
      "    print rdz.title\n",
      "    print rdz.url\n",
      "    print rdz.author\n",
      "    print rdz.secure_media\n",
      "    print rdz.num_comments\n",
      "    print rdz.comments\n",
      "    comdefz.append(rdz.comments)\n",
      "    datelis.append(rdz.title)\n",
      "    datelis.append(rdz.url)\n",
      "    datelis.append(rdz.author)\n",
      "    comdict = {'comtxt':rdz.comments}\n",
      "    rgdef.update({rdz.author: rdz.url})\n",
      "    pandic = DataFrame(rdz.json_dict)\n",
      "    decict.update({'url':rdz.url})\n",
      "    decict.update({'title':rdz.title})\n",
      "    decict.update({'ups': rdz.ups})\n",
      "    decict.update({'downs': rdz.downs})"
     ],
     "language": "python",
     "metadata": {},
     "outputs": [
      {
       "output_type": "stream",
       "stream": "stdout",
       "text": [
        "t3_2oeo0c\n",
        "My daughter and her sleeping cousin. Draw their first meeting?!\n",
        "http://imgur.com/dMA1Ns3\n",
        "babydaisy611\n",
        "None\n",
        "0\n",
        "[]"
       ]
      },
      {
       "output_type": "stream",
       "stream": "stdout",
       "text": [
        "\n",
        "t3_2oelz3\n",
        "My Son's first ever baseball game with Daddy.\n",
        "http://imgur.com/ndXEDmE\n",
        "LiamsDaddy\n",
        "None\n",
        "0\n",
        "[]"
       ]
      },
      {
       "output_type": "stream",
       "stream": "stdout",
       "text": [
        "\n",
        "t3_2oeixy\n",
        "Please, draw myself and my girlfriend. Selfie at the beach! Any styles welcome, thanks so much! ;)\n",
        "http://imgur.com/9nplYrE\n",
        "jpesmeraldo\n",
        "None\n",
        "0\n",
        "[]"
       ]
      },
      {
       "output_type": "stream",
       "stream": "stdout",
       "text": [
        "\n",
        "t3_2oei8o\n",
        "My daughter from a fun little photo project we did together :)\n",
        "http://imgur.com/7Q7rjdC\n",
        "Lileaspirals\n",
        "None\n",
        "0\n",
        "[]"
       ]
      },
      {
       "output_type": "stream",
       "stream": "stdout",
       "text": [
        "\n",
        "t3_2oehed\n",
        "Me and my beautiful wife on the happiest day of my life\n",
        "http://imgur.com/3uQgoyL\n",
        "TylerMills\n",
        "None\n",
        "0\n",
        "[]"
       ]
      },
      {
       "output_type": "stream",
       "stream": "stdout",
       "text": [
        "\n",
        "t3_2oegan\n",
        "Anyone want draw my (hopefully) soon to be fiancee from her favorite picture?\n",
        "http://imgur.com/a/fnKuP\n",
        "sirwes\n",
        "None\n",
        "0\n",
        "[]"
       ]
      },
      {
       "output_type": "stream",
       "stream": "stdout",
       "text": [
        "\n",
        "t3_2oef1n\n",
        "Please draw me and my soon to be SO as a surprise for him please?\n",
        "http://imgur.com/a/x5gWO\n",
        "fletchdoll\n",
        "None\n",
        "0\n",
        "[]"
       ]
      },
      {
       "output_type": "stream",
       "stream": "stdout",
       "text": [
        "\n",
        "t3_2oebgk\n",
        "Would love a fun picture of my little boy please.\n",
        "http://imgur.com/M2LjhZ8\n",
        "oldwesty\n",
        "None\n",
        "0\n",
        "[]"
       ]
      },
      {
       "output_type": "stream",
       "stream": "stdout",
       "text": [
        "\n",
        "t3_2oe9hg\n",
        "I was wondering if anyone could draw me? I just linked to the album that I save all my pictures in so you have multiple photo choices. Thanks!\n",
        "http://imgur.com/a/KjDMi\n",
        "blasejade\n",
        "None\n",
        "0\n",
        "[<praw.objects.Comment object at 0x16343f0>]"
       ]
      },
      {
       "output_type": "stream",
       "stream": "stdout",
       "text": [
        "\n",
        "t3_2oe8kl\n",
        "Running out of gift ideas for my boyfriend for Christmas. I'd love to give him a framed drawing of us on halloween for his desk\n",
        "http://imgur.com/cnE21iX\n",
        "jazzillaa\n",
        "None\n",
        "0\n",
        "[<praw.objects.Comment object at 0x164d9b0>]"
       ]
      },
      {
       "output_type": "stream",
       "stream": "stdout",
       "text": [
        "\n",
        "t3_2oe876\n",
        "My little man a few months ago. Would love to see any of the talented artists recreate it.\n",
        "http://i.imgur.com/aEDRodb.jpg\n",
        "nickel45\n",
        "None\n",
        "0\n",
        "[]"
       ]
      },
      {
       "output_type": "stream",
       "stream": "stdout",
       "text": [
        "\n",
        "t3_2oe6ml\n",
        "Good afternoon, Reddit artists! Here is me waiting at the doctor's office. All creative styles welcome! :)\n",
        "http://i.imgur.com/eefMUpb.jpg\n",
        "Sarahbelle89\n",
        "None\n",
        "0\n",
        "[<praw.objects.Comment object at 0x1634310>, <praw.objects.Comment object at 0x16344f0>]"
       ]
      },
      {
       "output_type": "stream",
       "stream": "stdout",
       "text": [
        "\n",
        "t3_2oe5so\n",
        "My beautiful daughter.\n",
        "http://i.imgur.com/FBE0Ai4.jpg\n",
        "countrockulot\n",
        "None\n",
        "0\n",
        "[]"
       ]
      },
      {
       "output_type": "stream",
       "stream": "stdout",
       "text": [
        "\n",
        "t3_2oe4q2\n",
        "Please draw my friend with her pet praying mantis!\n",
        "http://imgur.com/a/Mu2BT\n",
        "martythemantis\n",
        "None\n",
        "0\n",
        "[]"
       ]
      },
      {
       "output_type": "stream",
       "stream": "stdout",
       "text": [
        "\n",
        "t3_2odxza\n",
        "Could someone draw my dogs for me? Thanks! :)\n",
        "http://imgur.com/VJSevtA\n",
        "desertdogs\n",
        "None\n",
        "0\n",
        "[]"
       ]
      },
      {
       "output_type": "stream",
       "stream": "stdout",
       "text": [
        "\n",
        "t3_2odxdu\n",
        "Would you draw us? (my husband &amp; me)\n",
        "http://imgur.com/a/DJ28E\n",
        "blueharbor\n",
        "None\n",
        "0\n",
        "[]"
       ]
      },
      {
       "output_type": "stream",
       "stream": "stdout",
       "text": [
        "\n",
        "t3_2odvyv\n",
        "Hey redditgetsdrawn! Can you please draw me and my dad? Here are some photos to choose from :)\n",
        "http://imgur.com/a/AatYX\n",
        "Selfsweden\n",
        "None\n",
        "0\n",
        "[]"
       ]
      },
      {
       "output_type": "stream",
       "stream": "stdout",
       "text": [
        "\n",
        "t3_2odui5\n",
        "Can somebody draw my ballerina girlfriend showing off how flexible she is?\n",
        "http://imgur.com/McgulWu\n",
        "late-night-throwaway\n",
        "None\n",
        "0\n",
        "[]"
       ]
      },
      {
       "output_type": "stream",
       "stream": "stdout",
       "text": [
        "\n",
        "t3_2odth1\n",
        "Would someone please be so kind to draw my baby girl? Many thanks in advance as well!\n",
        "http://i.imgur.com/xQcRKA1.jpg\n",
        "Jersey4ever12\n",
        "None\n",
        "0\n",
        "[]"
       ]
      },
      {
       "output_type": "stream",
       "stream": "stdout",
       "text": [
        "\n",
        "t3_2odqrg\n",
        "My girlfriend looking good in her regional dress. It would be great if anyone could draw her in these beautiful colours.\n",
        "http://imgur.com/7Beh2zG\n",
        "kesos23\n",
        "None\n",
        "0\n",
        "[]"
       ]
      },
      {
       "output_type": "stream",
       "stream": "stdout",
       "text": [
        "\n",
        "t3_2odpsb\n",
        "[Album] I would love a drawing of my friend for her Birthday!\n",
        "http://imgur.com/a/urwBg\n",
        "tjej\n",
        "None\n",
        "0\n",
        "[<praw.objects.Comment object at 0x14f70d0>]"
       ]
      },
      {
       "output_type": "stream",
       "stream": "stdout",
       "text": [
        "\n",
        "t3_2odonm\n",
        "Pirates ahoy! My stepdaughter with her funny fancy dress waiting for someone to draw her. Thank you!\n",
        "http://imgur.com/XjmyCOO\n",
        "sesica\n",
        "None\n",
        "0\n",
        "[]"
       ]
      },
      {
       "output_type": "stream",
       "stream": "stdout",
       "text": [
        "\n",
        "t3_2odo6i\n",
        "My kids in disguise\n",
        "http://i.imgur.com/i5w3FBm.jpg\n",
        "mojoman666\n",
        "None\n",
        "0\n",
        "[]"
       ]
      },
      {
       "output_type": "stream",
       "stream": "stdout",
       "text": [
        "\n",
        "t3_2odlba\n",
        "Would anyone like to draw/paint/render/whatever this pic of me and a mask I made? :)\n",
        "http://i.imgur.com/55MmnIQ.jpg\n",
        "TheMothFlock\n",
        "None\n",
        "0\n",
        "[]"
       ]
      },
      {
       "output_type": "stream",
       "stream": "stdout",
       "text": [
        "\n",
        "t3_2odj5k\n",
        "Anyone want to draw Paula Scholes and I? Thanks!\n",
        "http://imgur.com/9HWg1ua\n",
        "SirLaxersBiggestFan\n",
        "None\n",
        "0\n",
        "[]"
       ]
      },
      {
       "output_type": "stream",
       "stream": "stdout",
       "text": [
        "\n"
       ]
      }
     ],
     "prompt_number": 193
    },
    {
     "cell_type": "code",
     "collapsed": false,
     "input": [
      "decict"
     ],
     "language": "python",
     "metadata": {},
     "outputs": [
      {
       "metadata": {},
       "output_type": "pyout",
       "prompt_number": 194,
       "text": [
        "{'downs': 0,\n",
        " 'example': 'wcmckee',\n",
        " 'title': u'Anyone want to draw Paula Scholes and I? Thanks!',\n",
        " 'ups': 1,\n",
        " 'url': u'http://imgur.com/9HWg1ua'}"
       ]
      }
     ],
     "prompt_number": 194
    },
    {
     "cell_type": "code",
     "collapsed": false,
     "input": [
      "pandic"
     ],
     "language": "python",
     "metadata": {},
     "outputs": [
      {
       "metadata": {},
       "output_type": "pyout",
       "prompt_number": 93,
       "text": [
        "Empty DataFrame\n",
        "Columns: array([], dtype=object)\n",
        "Index: array([], dtype=object)"
       ]
      }
     ],
     "prompt_number": 93
    },
    {
     "cell_type": "code",
     "collapsed": false,
     "input": [
      "comdict"
     ],
     "language": "python",
     "metadata": {},
     "outputs": [
      {
       "metadata": {},
       "output_type": "pyout",
       "prompt_number": 94,
       "text": [
        "{'comtxt': []}"
       ]
      }
     ],
     "prompt_number": 94
    },
    {
     "cell_type": "code",
     "collapsed": false,
     "input": [
      "comply = []"
     ],
     "language": "python",
     "metadata": {},
     "outputs": [],
     "prompt_number": 95
    },
    {
     "cell_type": "code",
     "collapsed": false,
     "input": [
      "fddict = {'testblah': 'testblah'}"
     ],
     "language": "python",
     "metadata": {},
     "outputs": [],
     "prompt_number": 96
    },
    {
     "cell_type": "code",
     "collapsed": false,
     "input": [
      "for comaq in comdefz:\n",
      "    for fdz in comaq:\n",
      "        print fdz\n",
      "        print fdz.author\n",
      "        print fdz.created_utc\n",
      "        print fdz.replies\n",
      "        fddict.update({'combody': fdz.body})\n",
      "        fddict.update({'comauthor': fdz.author})\n",
      "        fddict.update({'comup': fdz.ups})\n",
      "        fddict.update({'comdown': fdz.downs})\n",
      "        \n",
      "        comply.append(fdz.replies)\n",
      "        decict.update({'created':fdz.created_utc})\n",
      "        decict.update({'author': fdz.author})\n",
      "        decict.update({'body':fdz.body})\n",
      "        decict.update({'replies':fdz.replies})"
     ],
     "language": "python",
     "metadata": {},
     "outputs": [],
     "prompt_number": 97
    },
    {
     "cell_type": "code",
     "collapsed": false,
     "input": [
      "decict"
     ],
     "language": "python",
     "metadata": {},
     "outputs": [
      {
       "metadata": {},
       "output_type": "pyout",
       "prompt_number": 98,
       "text": [
        "{'downs': 0,\n",
        " 'example': 'wcmckee',\n",
        " 'title': u'My little sister (glasses) and her wife on their wedding day. Same-sex marriage was finally legalized in our home state!',\n",
        " 'ups': 1,\n",
        " 'url': u'http://imgur.com/khvU7zu'}"
       ]
      }
     ],
     "prompt_number": 98
    },
    {
     "cell_type": "code",
     "collapsed": false,
     "input": [
      "fddict"
     ],
     "language": "python",
     "metadata": {},
     "outputs": [
      {
       "metadata": {},
       "output_type": "pyout",
       "prompt_number": 99,
       "text": [
        "{'testblah': 'testblah'}"
       ]
      }
     ],
     "prompt_number": 99
    },
    {
     "cell_type": "code",
     "collapsed": false,
     "input": [
      "qwedict = decict.items() + fddict.items()"
     ],
     "language": "python",
     "metadata": {},
     "outputs": [],
     "prompt_number": 100
    },
    {
     "cell_type": "code",
     "collapsed": false,
     "input": [
      "qwedict"
     ],
     "language": "python",
     "metadata": {},
     "outputs": [
      {
       "metadata": {},
       "output_type": "pyout",
       "prompt_number": 101,
       "text": [
        "[('title',\n",
        "  u'My little sister (glasses) and her wife on their wedding day. Same-sex marriage was finally legalized in our home state!'),\n",
        " ('url', u'http://imgur.com/khvU7zu'),\n",
        " ('downs', 0),\n",
        " ('ups', 1),\n",
        " ('example', 'wcmckee'),\n",
        " ('testblah', 'testblah')]"
       ]
      }
     ],
     "prompt_number": 101
    },
    {
     "cell_type": "code",
     "collapsed": false,
     "input": [
      "for coaz in comply:\n",
      "    print coaz\n",
      "    for coa in coaz:\n",
      "        print coa.body\n",
      "        print coa.author"
     ],
     "language": "python",
     "metadata": {},
     "outputs": [],
     "prompt_number": 102
    },
    {
     "cell_type": "code",
     "collapsed": false,
     "input": [
      "serz = Series(fddict)"
     ],
     "language": "python",
     "metadata": {},
     "outputs": [],
     "prompt_number": 103
    },
    {
     "cell_type": "code",
     "collapsed": false,
     "input": [
      "fddict"
     ],
     "language": "python",
     "metadata": {},
     "outputs": [
      {
       "metadata": {},
       "output_type": "pyout",
       "prompt_number": 104,
       "text": [
        "{'testblah': 'testblah'}"
       ]
      }
     ],
     "prompt_number": 104
    },
    {
     "cell_type": "code",
     "collapsed": false,
     "input": [
      "fddict.keys()"
     ],
     "language": "python",
     "metadata": {},
     "outputs": [
      {
       "metadata": {},
       "output_type": "pyout",
       "prompt_number": 105,
       "text": [
        "['testblah']"
       ]
      }
     ],
     "prompt_number": 105
    },
    {
     "cell_type": "code",
     "collapsed": false,
     "input": [
      "def extractlinks(html):\n",
      "    soup = BeautifulSoup(html)\n",
      "    anchors = soup.findAll('a')\n",
      "    links = []\n",
      "    for a in anchors:\n",
      "        links.append(a['href'])\n",
      "    return links"
     ],
     "language": "python",
     "metadata": {},
     "outputs": [],
     "prompt_number": 106
    },
    {
     "cell_type": "code",
     "collapsed": false,
     "input": [
      "cydict = fddict.values()"
     ],
     "language": "python",
     "metadata": {},
     "outputs": [],
     "prompt_number": 107
    },
    {
     "cell_type": "code",
     "collapsed": false,
     "input": [
      "for itz in cydict:\n",
      "    print itz   "
     ],
     "language": "python",
     "metadata": {},
     "outputs": [
      {
       "output_type": "stream",
       "stream": "stdout",
       "text": [
        "testblah\n"
       ]
      }
     ],
     "prompt_number": 108
    },
    {
     "cell_type": "code",
     "collapsed": false,
     "input": [
      "chedict = {'blah': 'testing'}"
     ],
     "language": "python",
     "metadata": {},
     "outputs": [],
     "prompt_number": 111
    },
    {
     "cell_type": "code",
     "collapsed": false,
     "input": [
      "#fixurl = BeautifulSoup(fddict.values())"
     ],
     "language": "python",
     "metadata": {},
     "outputs": [],
     "prompt_number": 112
    },
    {
     "cell_type": "code",
     "collapsed": false,
     "input": [
      "for coma in comdefz:\n",
      "    #print coma\n",
      "    #chedict.update({'first': coma})\n",
      "    for co in coma:\n",
      "        print co\n",
      "        chedict.update({co.author: co.body})"
     ],
     "language": "python",
     "metadata": {},
     "outputs": [],
     "prompt_number": 113
    },
    {
     "cell_type": "code",
     "collapsed": false,
     "input": [
      "chedict"
     ],
     "language": "python",
     "metadata": {},
     "outputs": [
      {
       "metadata": {},
       "output_type": "pyout",
       "prompt_number": 114,
       "text": [
        "{'blah': 'testing'}"
       ]
      }
     ],
     "prompt_number": 114
    },
    {
     "cell_type": "code",
     "collapsed": false,
     "input": [
      "#jsdum = json.loads(chedict)"
     ],
     "language": "python",
     "metadata": {},
     "outputs": [],
     "prompt_number": 115
    },
    {
     "cell_type": "code",
     "collapsed": false,
     "input": [
      "rcoms = chedict.keys()\n",
      "rvals = chedict.values()\n",
      "imcom = []"
     ],
     "language": "python",
     "metadata": {},
     "outputs": [],
     "prompt_number": 116
    },
    {
     "cell_type": "code",
     "collapsed": false,
     "input": [
      "for rvs in rvals:\n",
      "    print rvs\n",
      "    if '.jpg' or '.png' in rvs:\n",
      "        imcom.append(rvs)\n",
      "        "
     ],
     "language": "python",
     "metadata": {},
     "outputs": [
      {
       "output_type": "stream",
       "stream": "stdout",
       "text": [
        "testing\n"
       ]
      }
     ],
     "prompt_number": 117
    },
    {
     "cell_type": "code",
     "collapsed": false,
     "input": [
      "imcom"
     ],
     "language": "python",
     "metadata": {},
     "outputs": [
      {
       "metadata": {},
       "output_type": "pyout",
       "prompt_number": 118,
       "text": [
        "['testing']"
       ]
      }
     ],
     "prompt_number": 118
    },
    {
     "cell_type": "code",
     "collapsed": false,
     "input": [
      "#fuldoc = doc.render()"
     ],
     "language": "python",
     "metadata": {},
     "outputs": [],
     "prompt_number": 119
    },
    {
     "cell_type": "code",
     "collapsed": false,
     "input": [],
     "language": "python",
     "metadata": {},
     "outputs": [],
     "prompt_number": 119
    },
    {
     "cell_type": "code",
     "collapsed": false,
     "input": [
      "doc = dominate.document(title='Dominate your HTML')\n",
      "\n",
      "with doc.head:\n",
      "    link(rel='stylesheet', href='style.css')\n",
      "    script(type='text/javascript', src='script.js')\n",
      "\n",
      "with doc:\n",
      "    with div(id='header').add(ol()):\n",
      "        for imz in imcom:\n",
      "            #print imz\n",
      "            p(imz)\n",
      "\n",
      "    #with div():\n",
      "     #   attr(cls='body')\n",
      "     #   p('Lorem ipsum..')\n",
      "\n",
      "#print doc"
     ],
     "language": "python",
     "metadata": {},
     "outputs": [],
     "prompt_number": 120
    },
    {
     "cell_type": "code",
     "collapsed": false,
     "input": [
      "for docin in doc.head.children:\n",
      "    print docin"
     ],
     "language": "python",
     "metadata": {},
     "outputs": [
      {
       "output_type": "stream",
       "stream": "stdout",
       "text": [
        "<title>Dominate your HTML</title>\n",
        "<link href=\"style.css\" rel=\"stylesheet\">\n",
        "<script src=\"script.js\" type=\"text/javascript\"></script>\n"
       ]
      }
     ],
     "prompt_number": 121
    },
    {
     "cell_type": "code",
     "collapsed": false,
     "input": [
      "for pain in docin.parent.children:\n",
      "    print pain"
     ],
     "language": "python",
     "metadata": {},
     "outputs": [
      {
       "output_type": "stream",
       "stream": "stdout",
       "text": [
        "<title>Dominate your HTML</title>\n",
        "<link href=\"style.css\" rel=\"stylesheet\">\n",
        "<script src=\"script.js\" type=\"text/javascript\"></script>\n"
       ]
      }
     ],
     "prompt_number": 122
    },
    {
     "cell_type": "code",
     "collapsed": false,
     "input": [
      "doc.body.parent.children"
     ],
     "language": "python",
     "metadata": {},
     "outputs": [
      {
       "metadata": {},
       "output_type": "pyout",
       "prompt_number": 123,
       "text": [
        "[<dominate.tags.head at 1634750: 0 attributes, 3 children>,\n",
        " <dominate.tags.body at 16344d0: 0 attributes, 1 child>]"
       ]
      }
     ],
     "prompt_number": 123
    },
    {
     "cell_type": "code",
     "collapsed": false,
     "input": [],
     "language": "python",
     "metadata": {},
     "outputs": [],
     "prompt_number": 123
    },
    {
     "cell_type": "code",
     "collapsed": false,
     "input": [
      "#soup = BeautifulSoup(doc)\n",
      "\n",
      "#print(soup.prettify())"
     ],
     "language": "python",
     "metadata": {},
     "outputs": [],
     "prompt_number": 124
    },
    {
     "cell_type": "code",
     "collapsed": false,
     "input": [
      "#extractlinks()"
     ],
     "language": "python",
     "metadata": {},
     "outputs": [],
     "prompt_number": 125
    },
    {
     "cell_type": "code",
     "collapsed": false,
     "input": [
      "#for imc in imcom:\n",
      "#    print imc"
     ],
     "language": "python",
     "metadata": {},
     "outputs": [],
     "prompt_number": 126
    },
    {
     "cell_type": "code",
     "collapsed": false,
     "input": [
      "#doc.body"
     ],
     "language": "python",
     "metadata": {},
     "outputs": [],
     "prompt_number": 127
    },
    {
     "cell_type": "code",
     "collapsed": false,
     "input": [],
     "language": "python",
     "metadata": {},
     "outputs": [],
     "prompt_number": 127
    },
    {
     "cell_type": "code",
     "collapsed": false,
     "input": [
      "#doc.render()"
     ],
     "language": "python",
     "metadata": {},
     "outputs": [],
     "prompt_number": 128
    },
    {
     "cell_type": "code",
     "collapsed": false,
     "input": [
      "#for dicaz in doc.children:\n",
      "#    print dicaz"
     ],
     "language": "python",
     "metadata": {},
     "outputs": [],
     "prompt_number": 129
    },
    {
     "cell_type": "code",
     "collapsed": false,
     "input": [],
     "language": "python",
     "metadata": {},
     "outputs": [],
     "prompt_number": 129
    },
    {
     "cell_type": "code",
     "collapsed": false,
     "input": [
      "#for imz in imcom:\n",
      "    \n",
      "#    print imz"
     ],
     "language": "python",
     "metadata": {},
     "outputs": [],
     "prompt_number": 130
    },
    {
     "cell_type": "code",
     "collapsed": false,
     "input": [
      "#for rez in rcoms:\n",
      "#    print rez\n",
      "    "
     ],
     "language": "python",
     "metadata": {},
     "outputs": [],
     "prompt_number": 131
    },
    {
     "cell_type": "code",
     "collapsed": false,
     "input": [],
     "language": "python",
     "metadata": {},
     "outputs": [],
     "prompt_number": 131
    },
    {
     "cell_type": "code",
     "collapsed": false,
     "input": [
      "#for rgt in rgdef.values():\n",
      "#    if '.jpg' in rgt:\n",
      "#        print rgt"
     ],
     "language": "python",
     "metadata": {},
     "outputs": [],
     "prompt_number": 132
    },
    {
     "cell_type": "code",
     "collapsed": false,
     "input": [
      "import dominate\n",
      "from dominate.tags import *\n",
      "\n",
      "doc = dominate.document(title='RedditGetsDrawn Recent Reference')\n",
      "\n",
      "with doc.head:\n",
      "    link(rel='stylesheet', href='style.css')\n",
      "    script(type='text/javascript', src='script.js')\n",
      "    \n",
      "    with div():\n",
      "        attr(cls='header')\n",
      "        h1('RedditGetsDrawn Recent Reference')\n",
      "        p('updated ', strftime(\"%a, %d %b %Y %H:%M:%S +0000\", gmtime()))\n",
      "\n",
      "    \n",
      "    \n",
      "\n",
      "with doc:\n",
      "    with div(id='body').add(ol()):\n",
      "        for rdz in rdnew:\n",
      "            h1(rdz.title)\n",
      "            a(rdz.url)\n",
      "            if '.jpg' or '.png' in rdz.url:\n",
      "                print rdz.url\n",
      "                p(img(rdz.url, src='%s' % rdz.url))\n",
      "            #print rdz.url\n",
      "            #if '.jpg' in rdz.url:\n",
      "            #    img(rdz.urlz)\n",
      "            #else:\n",
      "            #    a(rdz.urlz)\n",
      "            p(str(rdz.author))\n",
      "            \n",
      "            #li(img(i.lower(), src='%s' % i))\n",
      "\n",
      "    with div():\n",
      "        attr(cls='body')\n",
      "        p('RGDRecentReference is open source')\n",
      "        a('http://github.com/wcmckee/wcmckee')\n",
      "\n",
      "#print doc"
     ],
     "language": "python",
     "metadata": {},
     "outputs": [
      {
       "output_type": "stream",
       "stream": "stdout",
       "text": [
        "http://imgur.com/ndXEDmE\n",
        "http://imgur.com/9nplYrE\n",
        "http://imgur.com/7Q7rjdC\n",
        "http://imgur.com/3uQgoyL\n",
        "http://imgur.com/a/fnKuP\n",
        "http://imgur.com/a/x5gWO\n",
        "http://imgur.com/M2LjhZ8\n",
        "http://imgur.com/a/KjDMi\n",
        "http://imgur.com/cnE21iX\n",
        "http://i.imgur.com/aEDRodb.jpg\n",
        "http://i.imgur.com/eefMUpb.jpg\n",
        "http://i.imgur.com/FBE0Ai4.jpg\n",
        "http://imgur.com/a/Mu2BT\n",
        "http://imgur.com/VJSevtA\n",
        "http://imgur.com/a/DJ28E\n",
        "http://imgur.com/a/AatYX\n",
        "http://imgur.com/McgulWu\n",
        "http://i.imgur.com/xQcRKA1.jpg\n",
        "http://imgur.com/7Beh2zG\n",
        "http://imgur.com/a/urwBg\n",
        "http://imgur.com/XjmyCOO\n",
        "http://i.imgur.com/i5w3FBm.jpg\n",
        "http://i.imgur.com/55MmnIQ.jpg\n",
        "http://imgur.com/9HWg1ua\n",
        "http://imgur.com/khvU7zu\n"
       ]
      }
     ],
     "prompt_number": 133
    },
    {
     "cell_type": "code",
     "collapsed": false,
     "input": [
      "rgdir = ('/home/wcmckee/rgdrecentReference/')"
     ],
     "language": "python",
     "metadata": {},
     "outputs": [],
     "prompt_number": 134
    },
    {
     "cell_type": "code",
     "collapsed": false,
     "input": [
      "doc.render()"
     ],
     "language": "python",
     "metadata": {},
     "outputs": [
      {
       "metadata": {},
       "output_type": "pyout",
       "prompt_number": 198,
       "text": [
        "u'<!DOCTYPE html>\\n<html>\\n  <head>\\n    <title>RedditGetsDrawn Recent Reference</title>\\n    <link href=\"style.css\" rel=\"stylesheet\"><script src=\"script.js\" type=\"text/javascript\"></script>\\n    <div class=\"header\">\\n      <h1>RedditGetsDrawn Recent Reference</h1>\\n      <p>updated Fri, 05 Dec 2014 22:35:20 +0000</p>\\n    </div>\\n  </head>\\n  <body>\\n    <div id=\"body\">\\n      <ol>\\n        <h1>My Son\\'s first ever baseball game with Daddy.</h1>\\n        <a>http://imgur.com/ndXEDmE</a>\\n        <p>\\n          <img src=\"http://imgur.com/ndXEDmE\">\\n        </p>\\n        <p>LiamsDaddy</p>\\n        <h1>Please, draw myself and my girlfriend. Selfie at the beach! Any styles welcome, thanks so much! ;)</h1>\\n        <a>http://imgur.com/9nplYrE</a>\\n        <p>\\n          <img src=\"http://imgur.com/9nplYrE\">\\n        </p>\\n        <p>jpesmeraldo</p>\\n        <h1>My daughter from a fun little photo project we did together :)</h1>\\n        <a>http://imgur.com/7Q7rjdC</a>\\n        <p>\\n          <img src=\"http://imgur.com/7Q7rjdC\">\\n        </p>\\n        <p>Lileaspirals</p>\\n        <h1>Me and my beautiful wife on the happiest day of my life</h1>\\n        <a>http://imgur.com/3uQgoyL</a>\\n        <p>\\n          <img src=\"http://imgur.com/3uQgoyL\">\\n        </p>\\n        <p>TylerMills</p>\\n        <h1>Anyone want draw my (hopefully) soon to be fiancee from her favorite picture?</h1>\\n        <a>http://imgur.com/a/fnKuP</a>\\n        <p>\\n          <img src=\"http://imgur.com/a/fnKuP\">\\n        </p>\\n        <p>sirwes</p>\\n        <h1>Please draw me and my soon to be SO as a surprise for him please?</h1>\\n        <a>http://imgur.com/a/x5gWO</a>\\n        <p>\\n          <img src=\"http://imgur.com/a/x5gWO\">\\n        </p>\\n        <p>fletchdoll</p>\\n        <h1>Would love a fun picture of my little boy please.</h1>\\n        <a>http://imgur.com/M2LjhZ8</a>\\n        <p>\\n          <img src=\"http://imgur.com/M2LjhZ8\">\\n        </p>\\n        <p>oldwesty</p>\\n        <h1>I was wondering if anyone could draw me? I just linked to the album that I save all my pictures in so you have multiple photo choices. Thanks!</h1>\\n        <a>http://imgur.com/a/KjDMi</a>\\n        <p>\\n          <img src=\"http://imgur.com/a/KjDMi\">\\n        </p>\\n        <p>blasejade</p>\\n        <h1>Running out of gift ideas for my boyfriend for Christmas. I\\'d love to give him a framed drawing of us on halloween for his desk</h1>\\n        <a>http://imgur.com/cnE21iX</a>\\n        <p>\\n          <img src=\"http://imgur.com/cnE21iX\">\\n        </p>\\n        <p>jazzillaa</p>\\n        <h1>My little man a few months ago. Would love to see any of the talented artists recreate it.</h1>\\n        <a>http://i.imgur.com/aEDRodb.jpg</a>\\n        <p>\\n          <img src=\"http://i.imgur.com/aEDRodb.jpg\">\\n        </p>\\n        <p>nickel45</p>\\n        <h1>Good afternoon, Reddit artists! Here is me waiting at the doctor\\'s office. All creative styles welcome! :)</h1>\\n        <a>http://i.imgur.com/eefMUpb.jpg</a>\\n        <p>\\n          <img src=\"http://i.imgur.com/eefMUpb.jpg\">\\n        </p>\\n        <p>Sarahbelle89</p>\\n        <h1>My beautiful daughter.</h1>\\n        <a>http://i.imgur.com/FBE0Ai4.jpg</a>\\n        <p>\\n          <img src=\"http://i.imgur.com/FBE0Ai4.jpg\">\\n        </p>\\n        <p>countrockulot</p>\\n        <h1>Please draw my friend with her pet praying mantis!</h1>\\n        <a>http://imgur.com/a/Mu2BT</a>\\n        <p>\\n          <img src=\"http://imgur.com/a/Mu2BT\">\\n        </p>\\n        <p>martythemantis</p>\\n        <h1>Could someone draw my dogs for me? Thanks! :)</h1>\\n        <a>http://imgur.com/VJSevtA</a>\\n        <p>\\n          <img src=\"http://imgur.com/VJSevtA\">\\n        </p>\\n        <p>desertdogs</p>\\n        <h1>Would you draw us? (my husband &amp;amp; me)</h1>\\n        <a>http://imgur.com/a/DJ28E</a>\\n        <p>\\n          <img src=\"http://imgur.com/a/DJ28E\">\\n        </p>\\n        <p>blueharbor</p>\\n        <h1>Hey redditgetsdrawn! Can you please draw me and my dad? Here are some photos to choose from :)</h1>\\n        <a>http://imgur.com/a/AatYX</a>\\n        <p>\\n          <img src=\"http://imgur.com/a/AatYX\">\\n        </p>\\n        <p>Selfsweden</p>\\n        <h1>Can somebody draw my ballerina girlfriend showing off how flexible she is?</h1>\\n        <a>http://imgur.com/McgulWu</a>\\n        <p>\\n          <img src=\"http://imgur.com/McgulWu\">\\n        </p>\\n        <p>late-night-throwaway</p>\\n        <h1>Would someone please be so kind to draw my baby girl? Many thanks in advance as well!</h1>\\n        <a>http://i.imgur.com/xQcRKA1.jpg</a>\\n        <p>\\n          <img src=\"http://i.imgur.com/xQcRKA1.jpg\">\\n        </p>\\n        <p>Jersey4ever12</p>\\n        <h1>My girlfriend looking good in her regional dress. It would be great if anyone could draw her in these beautiful colours.</h1>\\n        <a>http://imgur.com/7Beh2zG</a>\\n        <p>\\n          <img src=\"http://imgur.com/7Beh2zG\">\\n        </p>\\n        <p>kesos23</p>\\n        <h1>[Album] I would love a drawing of my friend for her Birthday!</h1>\\n        <a>http://imgur.com/a/urwBg</a>\\n        <p>\\n          <img src=\"http://imgur.com/a/urwBg\">\\n        </p>\\n        <p>tjej</p>\\n        <h1>Pirates ahoy! My stepdaughter with her funny fancy dress waiting for someone to draw her. Thank you!</h1>\\n        <a>http://imgur.com/XjmyCOO</a>\\n        <p>\\n          <img src=\"http://imgur.com/XjmyCOO\">\\n        </p>\\n        <p>sesica</p>\\n        <h1>My kids in disguise</h1>\\n        <a>http://i.imgur.com/i5w3FBm.jpg</a>\\n        <p>\\n          <img src=\"http://i.imgur.com/i5w3FBm.jpg\">\\n        </p>\\n        <p>mojoman666</p>\\n        <h1>Would anyone like to draw/paint/render/whatever this pic of me and a mask I made? :)</h1>\\n        <a>http://i.imgur.com/55MmnIQ.jpg</a>\\n        <p>\\n          <img src=\"http://i.imgur.com/55MmnIQ.jpg\">\\n        </p>\\n        <p>TheMothFlock</p>\\n        <h1>Anyone want to draw Paula Scholes and I? Thanks!</h1>\\n        <a>http://imgur.com/9HWg1ua</a>\\n        <p>\\n          <img src=\"http://imgur.com/9HWg1ua\">\\n        </p>\\n        <p>SirLaxersBiggestFan</p>\\n        <h1>My little sister (glasses) and her wife on their wedding day. Same-sex marriage was finally legalized in our home state!</h1>\\n        <a>http://imgur.com/khvU7zu</a>\\n        <p>\\n          <img src=\"http://imgur.com/khvU7zu\">\\n        </p>\\n        <p>oatmeal_pie</p>\\n      </ol>\\n    </div>\\n    <div class=\"body\">\\n      <p>RGDRecentReference is open source</p>\\n      <a>http://github.com/wcmckee/wcmckee</a>\\n    </div>\\n  </body>\\n</html>'"
       ]
      }
     ],
     "prompt_number": 198
    },
    {
     "cell_type": "code",
     "collapsed": false,
     "input": [
      "os.chdir(rgdir)"
     ],
     "language": "python",
     "metadata": {},
     "outputs": [],
     "prompt_number": 135
    },
    {
     "cell_type": "code",
     "collapsed": false,
     "input": [
      "mkindex = open('index.html', 'w')\n",
      "mkindex.write(str(doc))\n",
      "mkindex.close()"
     ],
     "language": "python",
     "metadata": {},
     "outputs": [],
     "prompt_number": 136
    },
    {
     "cell_type": "code",
     "collapsed": false,
     "input": [
      "#print str(doc)"
     ],
     "language": "python",
     "metadata": {},
     "outputs": [],
     "prompt_number": 137
    },
    {
     "cell_type": "code",
     "collapsed": false,
     "input": [
      "print strftime(\"%a, %d %b %Y %H:%M:%S +0000\")"
     ],
     "language": "python",
     "metadata": {},
     "outputs": [
      {
       "output_type": "stream",
       "stream": "stdout",
       "text": [
        "Sat, 06 Dec 2014 11:35:26 +0000\n"
       ]
      }
     ],
     "prompt_number": 138
    },
    {
     "cell_type": "code",
     "collapsed": false,
     "input": [
      "savedate = strftime(\"%d\" + \"-\" + \"%m\" + \"-\" + \"%Y\" + \"-\" + \"%H\")"
     ],
     "language": "python",
     "metadata": {},
     "outputs": [],
     "prompt_number": 139
    },
    {
     "cell_type": "code",
     "collapsed": false,
     "input": [
      "def timeret():\n",
      "    return strftime(\"%d\" + \"-\" + \"%m\" + \"-\" + \"%Y\" + \"-\" + \"%H\")\n",
      "\n",
      "def givmd():\n",
      "    return str(savedate + '.md')\n",
      "\n",
      "def givdic():\n",
      "    return rgdir.replace('/', '-')"
     ],
     "language": "python",
     "metadata": {},
     "outputs": [],
     "prompt_number": 140
    },
    {
     "cell_type": "code",
     "collapsed": false,
     "input": [
      "givdic()"
     ],
     "language": "python",
     "metadata": {},
     "outputs": [
      {
       "metadata": {},
       "output_type": "pyout",
       "prompt_number": 141,
       "text": [
        "'-home-wcmckee-rgdrecentReference-'"
       ]
      }
     ],
     "prompt_number": 141
    },
    {
     "cell_type": "raw",
     "metadata": {},
     "source": [
      "timeret()"
     ]
    },
    {
     "cell_type": "code",
     "collapsed": false,
     "input": [
      "givmd()"
     ],
     "language": "python",
     "metadata": {},
     "outputs": [
      {
       "metadata": {},
       "output_type": "pyout",
       "prompt_number": 142,
       "text": [
        "'06-12-2014-11.md'"
       ]
      }
     ],
     "prompt_number": 142
    },
    {
     "cell_type": "code",
     "collapsed": false,
     "input": [
      "savedate"
     ],
     "language": "python",
     "metadata": {},
     "outputs": [
      {
       "metadata": {},
       "output_type": "pyout",
       "prompt_number": 143,
       "text": [
        "'06-12-2014-11'"
       ]
      }
     ],
     "prompt_number": 143
    },
    {
     "cell_type": "code",
     "collapsed": false,
     "input": [
      "deepone = str(savedate + '.md')"
     ],
     "language": "python",
     "metadata": {},
     "outputs": [],
     "prompt_number": 144
    },
    {
     "cell_type": "code",
     "collapsed": false,
     "input": [
      "deepone"
     ],
     "language": "python",
     "metadata": {},
     "outputs": [
      {
       "metadata": {},
       "output_type": "pyout",
       "prompt_number": 145,
       "text": [
        "'06-12-2014-11.md'"
       ]
      }
     ],
     "prompt_number": 145
    },
    {
     "cell_type": "code",
     "collapsed": false,
     "input": [
      "#os.chdir('/home/wcmckee/brobeur-blog-post/')"
     ],
     "language": "python",
     "metadata": {},
     "outputs": [],
     "prompt_number": 146
    },
    {
     "cell_type": "code",
     "collapsed": false,
     "input": [
      "#brobeind = open('\u00edndex.html', 'r')"
     ],
     "language": "python",
     "metadata": {},
     "outputs": [],
     "prompt_number": 147
    },
    {
     "cell_type": "code",
     "collapsed": false,
     "input": [
      "#brotest = open('\u00edndex.html', 'r')\n",
      "#brotest.read()"
     ],
     "language": "python",
     "metadata": {},
     "outputs": [],
     "prompt_number": 148
    },
    {
     "cell_type": "code",
     "collapsed": false,
     "input": [
      "redposts = ('/home/wcmckee/rgdrecentReference/posts/pandas')"
     ],
     "language": "python",
     "metadata": {},
     "outputs": [],
     "prompt_number": 149
    },
    {
     "cell_type": "code",
     "collapsed": false,
     "input": [
      "os.chdir(redposts)"
     ],
     "language": "python",
     "metadata": {},
     "outputs": [],
     "prompt_number": 152
    },
    {
     "cell_type": "code",
     "collapsed": false,
     "input": [
      "time.asctime()"
     ],
     "language": "python",
     "metadata": {},
     "outputs": [
      {
       "metadata": {},
       "output_type": "pyout",
       "prompt_number": 153,
       "text": [
        "'Sat Dec  6 11:37:51 2014'"
       ]
      }
     ],
     "prompt_number": 153
    },
    {
     "cell_type": "code",
     "collapsed": false,
     "input": [
      "savinx = open(str(deepone), 'w')"
     ],
     "language": "python",
     "metadata": {},
     "outputs": [],
     "prompt_number": 154
    },
    {
     "cell_type": "code",
     "collapsed": false,
     "input": [
      "savinx.write(str(rgdef))"
     ],
     "language": "python",
     "metadata": {},
     "outputs": [],
     "prompt_number": 155
    },
    {
     "cell_type": "code",
     "collapsed": false,
     "input": [
      "savinx.close()"
     ],
     "language": "python",
     "metadata": {},
     "outputs": [],
     "prompt_number": 156
    },
    {
     "cell_type": "code",
     "collapsed": false,
     "input": [
      "deepone"
     ],
     "language": "python",
     "metadata": {},
     "outputs": [
      {
       "metadata": {},
       "output_type": "pyout",
       "prompt_number": 157,
       "text": [
        "'06-12-2014-11.md'"
       ]
      }
     ],
     "prompt_number": 157
    },
    {
     "cell_type": "code",
     "collapsed": false,
     "input": [
      "decict"
     ],
     "language": "python",
     "metadata": {},
     "outputs": [
      {
       "metadata": {},
       "output_type": "pyout",
       "prompt_number": 158,
       "text": [
        "{'downs': 0,\n",
        " 'example': 'wcmckee',\n",
        " 'title': u'My little sister (glasses) and her wife on their wedding day. Same-sex marriage was finally legalized in our home state!',\n",
        " 'ups': 1,\n",
        " 'url': u'http://imgur.com/khvU7zu'}"
       ]
      }
     ],
     "prompt_number": 158
    },
    {
     "cell_type": "code",
     "collapsed": false,
     "input": [
      "decict.update({'datehour': givmd()})"
     ],
     "language": "python",
     "metadata": {},
     "outputs": [],
     "prompt_number": 159
    },
    {
     "cell_type": "code",
     "collapsed": false,
     "input": [
      "depan = Series(decict)"
     ],
     "language": "python",
     "metadata": {},
     "outputs": [],
     "prompt_number": 160
    },
    {
     "cell_type": "code",
     "collapsed": false,
     "input": [
      "fepan = Series(fddict)"
     ],
     "language": "python",
     "metadata": {},
     "outputs": [],
     "prompt_number": 161
    },
    {
     "cell_type": "code",
     "collapsed": false,
     "input": [
      "mepan = (fepan)+(depan)"
     ],
     "language": "python",
     "metadata": {},
     "outputs": [],
     "prompt_number": 162
    },
    {
     "cell_type": "code",
     "collapsed": false,
     "input": [
      "depan"
     ],
     "language": "python",
     "metadata": {},
     "outputs": [
      {
       "metadata": {},
       "output_type": "pyout",
       "prompt_number": 163,
       "text": [
        "datehour                                                                                                            06-12-2014-11.md\n",
        "downs                                                                                                                              0\n",
        "example                                                                                                                      wcmckee\n",
        "title       My little sister (glasses) and her wife on their wedding day. Same-sex marriage was finally legalized in our home state!\n",
        "ups                                                                                                                                1\n",
        "url                                                                                                         http://imgur.com/khvU7zu"
       ]
      }
     ],
     "prompt_number": 163
    },
    {
     "cell_type": "code",
     "collapsed": false,
     "input": [
      "feram = pd.DataFrame(fepan)"
     ],
     "language": "python",
     "metadata": {},
     "outputs": [],
     "prompt_number": 164
    },
    {
     "cell_type": "code",
     "collapsed": false,
     "input": [
      "fepan"
     ],
     "language": "python",
     "metadata": {},
     "outputs": [
      {
       "metadata": {},
       "output_type": "pyout",
       "prompt_number": 165,
       "text": [
        "testblah    testblah"
       ]
      }
     ],
     "prompt_number": 165
    },
    {
     "cell_type": "code",
     "collapsed": false,
     "input": [
      "feram"
     ],
     "language": "python",
     "metadata": {},
     "outputs": [
      {
       "metadata": {},
       "output_type": "pyout",
       "prompt_number": 166,
       "text": [
        "                 0\n",
        "testblah  testblah"
       ]
      }
     ],
     "prompt_number": 166
    },
    {
     "cell_type": "code",
     "collapsed": false,
     "input": [
      "mepan"
     ],
     "language": "python",
     "metadata": {},
     "outputs": [
      {
       "metadata": {},
       "output_type": "pyout",
       "prompt_number": 167,
       "text": [
        "datehour    None\n",
        "downs       None\n",
        "example     None\n",
        "testblah    None\n",
        "title       None\n",
        "ups         None\n",
        "url         None"
       ]
      }
     ],
     "prompt_number": 167
    },
    {
     "cell_type": "code",
     "collapsed": false,
     "input": [
      "defed = DataFrame(depan)"
     ],
     "language": "python",
     "metadata": {},
     "outputs": [],
     "prompt_number": 168
    },
    {
     "cell_type": "code",
     "collapsed": false,
     "input": [
      "#defed.append(fepan)"
     ],
     "language": "python",
     "metadata": {},
     "outputs": [],
     "prompt_number": 169
    },
    {
     "cell_type": "code",
     "collapsed": false,
     "input": [
      "depan"
     ],
     "language": "python",
     "metadata": {},
     "outputs": [
      {
       "metadata": {},
       "output_type": "pyout",
       "prompt_number": 170,
       "text": [
        "datehour                                                                                                            06-12-2014-11.md\n",
        "downs                                                                                                                              0\n",
        "example                                                                                                                      wcmckee\n",
        "title       My little sister (glasses) and her wife on their wedding day. Same-sex marriage was finally legalized in our home state!\n",
        "ups                                                                                                                                1\n",
        "url                                                                                                         http://imgur.com/khvU7zu"
       ]
      }
     ],
     "prompt_number": 170
    },
    {
     "cell_type": "code",
     "collapsed": false,
     "input": [
      "fepan"
     ],
     "language": "python",
     "metadata": {},
     "outputs": [
      {
       "metadata": {},
       "output_type": "pyout",
       "prompt_number": 171,
       "text": [
        "testblah    testblah"
       ]
      }
     ],
     "prompt_number": 171
    },
    {
     "cell_type": "code",
     "collapsed": false,
     "input": [
      "mergz = depan.append(fepan)"
     ],
     "language": "python",
     "metadata": {},
     "outputs": [],
     "prompt_number": 172
    },
    {
     "cell_type": "code",
     "collapsed": false,
     "input": [
      "mergz"
     ],
     "language": "python",
     "metadata": {},
     "outputs": [
      {
       "metadata": {},
       "output_type": "pyout",
       "prompt_number": 173,
       "text": [
        "datehour                                                                                                            06-12-2014-11.md\n",
        "downs                                                                                                                              0\n",
        "example                                                                                                                      wcmckee\n",
        "title       My little sister (glasses) and her wife on their wedding day. Same-sex marriage was finally legalized in our home state!\n",
        "ups                                                                                                                                1\n",
        "url                                                                                                         http://imgur.com/khvU7zu\n",
        "testblah                                                                                                                    testblah"
       ]
      }
     ],
     "prompt_number": 173
    },
    {
     "cell_type": "code",
     "collapsed": false,
     "input": [],
     "language": "python",
     "metadata": {},
     "outputs": [],
     "prompt_number": 173
    },
    {
     "cell_type": "code",
     "collapsed": false,
     "input": [
      "defed"
     ],
     "language": "python",
     "metadata": {},
     "outputs": [
      {
       "metadata": {},
       "output_type": "pyout",
       "prompt_number": 174,
       "text": [
        "<class 'pandas.core.frame.DataFrame'>\n",
        "Index: 6 entries, datehour to url\n",
        "Data columns:\n",
        "0    6  non-null values\n",
        "dtypes: object(1)"
       ]
      }
     ],
     "prompt_number": 174
    },
    {
     "cell_type": "code",
     "collapsed": false,
     "input": [
      "defhtml = defed.to_html()"
     ],
     "language": "python",
     "metadata": {},
     "outputs": [],
     "prompt_number": 175
    },
    {
     "cell_type": "code",
     "collapsed": false,
     "input": [
      "wrhtm = open('index.html', 'w')\n",
      "wrhtm.write(defhtml)\n",
      "wrhtm.close()"
     ],
     "language": "python",
     "metadata": {},
     "outputs": [],
     "prompt_number": 176
    },
    {
     "cell_type": "code",
     "collapsed": false,
     "input": [],
     "language": "python",
     "metadata": {},
     "outputs": [],
     "prompt_number": 176
    },
    {
     "cell_type": "code",
     "collapsed": false,
     "input": [],
     "language": "python",
     "metadata": {},
     "outputs": [],
     "prompt_number": 176
    },
    {
     "cell_type": "code",
     "collapsed": false,
     "input": [],
     "language": "python",
     "metadata": {},
     "outputs": []
    }
   ],
   "metadata": {}
  }
 ]
}