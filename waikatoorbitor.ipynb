{
 "cells": [
  {
   "cell_type": "code",
   "execution_count": 4,
   "metadata": {
    "collapsed": true
   },
   "outputs": [],
   "source": [
    "import requests \n",
    "import bs4"
   ]
  },
  {
   "cell_type": "code",
   "execution_count": 2,
   "metadata": {
    "collapsed": true
   },
   "outputs": [],
   "source": [
    "orbreq = requests.get('http://busit.co.nz/Hamilton-routes/Orbiter/Orbiter/')"
   ]
  },
  {
   "cell_type": "code",
   "execution_count": 7,
   "metadata": {
    "collapsed": false
   },
   "outputs": [],
   "source": [
    "orbtxt = orbreq.text"
   ]
  },
  {
   "cell_type": "code",
   "execution_count": 9,
   "metadata": {
    "collapsed": false
   },
   "outputs": [
    {
     "name": "stderr",
     "output_type": "stream",
     "text": [
      "/home/pi/anaconda3/lib/python3.5/site-packages/bs4/__init__.py:166: UserWarning: No parser was explicitly specified, so I'm using the best available HTML parser for this system (\"lxml\"). This usually isn't a problem, but if you run this code on another system, or in a different virtual environment, it may use a different parser and behave differently.\n",
      "\n",
      "To get rid of this warning, change this:\n",
      "\n",
      " BeautifulSoup([your markup])\n",
      "\n",
      "to this:\n",
      "\n",
      " BeautifulSoup([your markup], \"lxml\")\n",
      "\n",
      "  markup_type=markup_type))\n"
     ]
    }
   ],
   "source": [
    "bbsorb = bs4.BeautifulSoup(orbtxt)"
   ]
  },
  {
   "cell_type": "code",
   "execution_count": 13,
   "metadata": {
    "collapsed": false
   },
   "outputs": [
    {
     "data": {
      "text/plain": [
       "[<td>\n",
       " <a href=\"/regional-services/total-mobility/\"><img alt=\"Total mobility\" border=\"0\" id=\"tm\" src=\"/templates/public/Images/total_mobility.png\" style=\"margin-right:42px\"/>\n",
       " </a>\n",
       " <script language=\"javascript\" type=\"text/javascript\">\n",
       "                          addSizeChangeUI();</script>\n",
       " <span><a href=\"/A-Z-listing/\" title=\"A-Z directory of services\">A - Z Index</a></span>\n",
       " </td>, <td>\n",
       " <div>\n",
       " <input class=\"txtSearch\" id=\"CompletePage_Search1_txtSearch\" name=\"ctl00$CompletePage$Search1$txtSearch\" style=\"border-style:None;\" type=\"text\"/> \n",
       " <input class=\"searchButton\" id=\"CompletePage_Search1_btnSearch1\" name=\"ctl00$CompletePage$Search1$btnSearch1\" style=\"width:109px;\" type=\"submit\" value=\"SEARCH\"/>\n",
       " </div>\n",
       " </td>, <td>\n",
       " </td>, <td>\n",
       " </td>, <td colspan=\"8\">Monday to Friday</td>, <td class=\"routeName\" colspan=\"4\">Orbiter clockwise</td>, <td style=\"text-align: center; width: 5%;\"><img alt=\"Route O\" height=\"26\" src=\"/Global/RouteNumbers/routeO.png\" width=\"27\"/></td>, <td class=\"stop\" style=\"width: 1%;\"> </td>, <td class=\"stop\" style=\"width: 10%;\">The Base</td>, <td class=\"stop\" style=\"width: 10%;\">Flagstaff</td>, <td class=\"stop\" style=\"width: 10%;\">Rototuna</td>, <td class=\"stop\" style=\"width: 10%;\">Chartwell</td>, <td class=\"stop\" style=\"width: 10%;\">University</td>, <td class=\"stop\" style=\"width: 10%;\">Hospital</td>, <td class=\"stop\" style=\"width: 10%;\">Dinsdale</td>, <td class=\"stop\" style=\"width: 10%;\">Wintec<br/>Rotokauri </td>, <td class=\"stop\" style=\"width: 10%;\">The Base</td>, <td class=\"empty\" style=\"width: 1%;\"> </td>, <td class=\"AM\" rowspan=\"32\">AM</td>, <td class=\"empty\"> </td>, <td class=\"stopsBG terminusIn\"> </td>, <td class=\"stopsBG stopPoint\"> </td>, <td class=\"stopsBG stopPoint\"> </td>, <td class=\"stopsBG stopPoint\"> </td>, <td class=\"stopsBG stopPoint\"> </td>, <td class=\"stopsBG stopPoint\"> </td>, <td class=\"stopsBG stopPoint\"> </td>, <td class=\"stopsBG stopPoint\"> </td>, <td class=\"stopsBG terminusOut\"> </td>, <td class=\"empty\"> </td>, <td class=\"empty\"> </td>, <td class=\"ArriveDepart\">Depart</td>, <td class=\"empty\" colspan=\"7\"> </td>, <td class=\"ArriveDepart\">Arrive</td>, <td class=\"empty\"> </td>, <td class=\"morning\"> </td>, <td class=\"morning\"> </td>, <td class=\"morning\"> </td>, <td class=\"morning\"> </td>, <td class=\"morning\"> </td>, <td class=\"morning\"> </td>, <td class=\"morning\"> </td>, <td class=\"morning\">6.15</td>, <td class=\"morning\">6.24</td>, <td class=\"morning\">6.30</td>, <td class=\"morning\"> </td>, <td class=\"morning\"> </td>, <td class=\"morning\"> </td>, <td class=\"morning\"> </td>, <td class=\"morning\"> </td>, <td class=\"morning\"> </td>, <td class=\"morning\"> </td>, <td class=\"morning\">6.15</td>, <td class=\"morning\">6.25</td>, <td class=\"morning\">6.35</td>, <td class=\"morning\">6.43</td>, <td class=\"morning\"> </td>, <td class=\"morning\"> </td>, <td class=\"morning\"> </td>, <td class=\"morning\"> </td>, <td class=\"morning\"> </td>, <td class=\"morning\"> </td>, <td class=\"morning\">6.20</td>, <td class=\"morning\">6.30</td>, <td class=\"morning\">6.40</td>, <td class=\"morning\">6.50</td>, <td class=\"morning\">6.58</td>, <td class=\"morning\"> </td>, <td class=\"morning\"> </td>, <td class=\"morning\"> </td>, <td class=\"morning\"> </td>, <td class=\"morning\"> </td>, <td class=\"morning\">6.20</td>, <td class=\"morning\">6.32</td>, <td class=\"morning\">6.44</td>, <td class=\"morning\">6.54</td>, <td class=\"morning\">7.04</td>, <td class=\"morning\">7.13</td>, <td class=\"morning\"> </td>, <td class=\"morning\"><strong> </strong></td>, <td class=\"morning\">6.15</td>, <td class=\"morning\">6.22</td>, <td class=\"morning\">6.26</td>, <td class=\"morning\">6.33</td>, <td class=\"morning\">6.47</td>, <td class=\"morning\">6.59</td>, <td class=\"morning\">7.09</td>, <td class=\"morning\">7.19</td>, <td class=\"morning\">7.28</td>, <td class=\"morning\"> </td>, <td class=\"morning\"> </td>, <td class=\"morning\">6.30</td>, <td class=\"morning\">6.37</td>, <td class=\"morning\">6.41</td>, <td class=\"morning\">6.48</td>, <td class=\"morning\">7.02</td>, <td class=\"morning\">7.14</td>, <td class=\"morning\">7.24</td>, <td class=\"morning\">7.34</td>, <td class=\"morning\">7.43</td>, <td class=\"morning\"> </td>, <td class=\"morning\"> </td>, <td class=\"morning\">6.45</td>, <td class=\"morning\">6.52</td>, <td class=\"morning\">6.56</td>, <td class=\"morning\">7.03</td>, <td class=\"morning\">7.17</td>, <td class=\"morning\">7.30</td>, <td class=\"morning\">7.41</td>, <td class=\"morning\">7.52</td>, <td class=\"morning\">8.02</td>, <td class=\"morning\"> </td>, <td class=\"morning\"> </td>, <td class=\"morning\"> </td>, <td class=\"morning\"> </td>, <td class=\"morning\"> </td>, <td class=\"morning\"> </td>, <td class=\"morning\">7.30</td>, <td class=\"morning\">7.44</td>, <td class=\"morning\">7.55</td>, <td class=\"morning\">8.07</td>, <td class=\"morning\">8.17</td>, <td class=\"morning\" rowspan=\"14\"> </td>, <td class=\"morning\"><strong> </strong></td>, <td class=\"morning\">7.00</td>, <td class=\"morning\">7.09</td>, <td class=\"morning\">7.15</td>, <td class=\"morning\">7.23</td>, <td class=\"morning\">7.43</td>, <td class=\"morning\">7.58</td>, <td class=\"morning\">8.10</td>, <td class=\"morning\">8.22</td>, <td class=\"morning\">8.33</td>, <td class=\"morning\"><strong> </strong></td>, <td class=\"morning\">7.15</td>, <td class=\"morning\">7.24</td>, <td class=\"morning\">7.30</td>, <td class=\"morning\">7.38</td>, <td class=\"morning\">7.58</td>, <td class=\"morning\">8.13</td>, <td class=\"morning\">8.25</td>, <td class=\"morning\">8.37</td>, <td class=\"morning\">8.50</td>, <td class=\"morning\" colspan=\"2\"><strong><span style=\"color: #932c8f;\"><strong><span>Depart <br/></span></strong><strong> </strong><strong><span>Church Rd</span></strong><strong> </strong></span></strong></td>, <td class=\"morning\"> </td>, <td class=\"morning\"> </td>, <td class=\"morning\"> </td>, <td class=\"morning\"> </td>, <td class=\"morning\"> </td>, <td class=\"morning\"> </td>, <td class=\"morning\"> </td>, <td class=\"morning\"> </td>, <td class=\"morning\"><strong><span style=\"color: #932c8f;\"><strong><span><img alt=\"key: term time only\" height=\"16\" src=\"/PageFiles/696/purplearrow.png\" width=\"16\"/></span></strong></span></strong></td>, <td class=\"morning\"><strong><span style=\"color: #932c8f;\">7.25</span></strong></td>, <td class=\"morning\"><strong><span style=\"color: #932c8f;\">7.35</span></strong></td>, <td class=\"morning\"><strong><span style=\"color: #932c8f;\">7.41</span></strong></td>, <td class=\"morning\"><strong><span style=\"color: #932c8f;\">7.50</span></strong></td>, <td class=\"morning\"><strong><span style=\"color: #932c8f;\">8.10</span></strong></td>, <td class=\"morning\"><strong><span style=\"color: #932c8f;\">8.25</span></strong></td>, <td class=\"morning\"> </td>, <td class=\"morning\"> </td>, <td class=\"morning\"> </td>, <td class=\"morning\"><strong> </strong></td>, <td class=\"morning\">7.30</td>, <td class=\"morning\">7.39</td>, <td class=\"morning\">7.45</td>, <td class=\"morning\">7.53</td>, <td class=\"morning\">8.13</td>, <td class=\"morning\">8.28</td>, <td class=\"morning\">8.40</td>, <td class=\"morning\">8.52</td>, <td class=\"morning\">9.05</td>, <td class=\"morning\"> </td>, <td class=\"morning\"> </td>, <td class=\"morning\"> </td>, <td class=\"morning\"> </td>, <td class=\"morning\"> </td>, <td class=\"morning\" colspan=\"2\"><strong><span style=\"color: #932c8f;\">Arrive SHGC </span></strong></td>, <td class=\"morning\"> </td>, <td class=\"morning\"> </td>, <td class=\"morning\"> </td>, <td class=\"morning\"> <strong><span><strong><strong><span><img alt=\"key: term time only\" height=\"16\" src=\"/PageFiles/696/purplearrow.png\" width=\"16\"/></span></strong></strong></span></strong></td>, <td class=\"morning\"> </td>, <td class=\"morning\"><span style=\"color: #932c8f;\"><strong>7.40</strong></span></td>, <td class=\"morning\"><span style=\"color: #932c8f;\"><strong>7.48</strong></span></td>, <td class=\"morning\"><span style=\"color: #932c8f;\"><strong>8.00</strong></span></td>, <td class=\"morning\"><span style=\"color: #932c8f;\"><strong>8.20</strong></span></td>, <td class=\"morning\"><strong><span style=\"color: #932c8f;\">8.35</span></strong></td>, <td class=\"morning\"> </td>, <td class=\"morning\"> </td>, <td class=\"morning\"> </td>, <td class=\"morning\"><strong> </strong></td>, <td class=\"morning\">7.45</td>, <td class=\"morning\">7.54</td>, <td class=\"morning\">8.00</td>, <td class=\"morning\">8.08</td>, <td class=\"morning\">8.28</td>, <td class=\"morning\">8.43</td>, <td class=\"morning\">8.55</td>, <td class=\"morning\">9.07</td>, <td class=\"morning\">9.18</td>, <td class=\"morning\" colspan=\"2\"><strong><span style=\"color: #932c8f;\"><strong><span>Depart <br/></span></strong><strong> </strong><strong><span>Church Rd</span></strong><strong> </strong></span></strong></td>, <td class=\"morning\"> </td>, <td class=\"morning\"> </td>, <td class=\"morning\"> </td>, <td class=\"morning\" colspan=\"2\"><strong><span style=\"color: #932c8f;\">Arrive SHGC<br/></span></strong></td>, <td class=\"morning\"> </td>, <td class=\"morning\"> </td>, <td class=\"morning\"> </td>, <td class=\"morning\"><strong><span style=\"color: #932c8f;\"><strong><span><img alt=\"key: term time only\" height=\"16\" src=\"/PageFiles/696/purplearrow.png\" width=\"16\"/></span></strong></span></strong></td>, <td class=\"morning\"><strong><span style=\"color: #932c8f;\">7.45</span></strong></td>, <td class=\"morning\"><strong><span style=\"color: #932c8f;\">7.55</span></strong></td>, <td class=\"morning\"><strong><span style=\"color: #932c8f;\">8.03</span></strong></td>, <td class=\"morning\"><strong><span style=\"color: #932c8f;\">8.15</span></strong></td>, <td class=\"morning\"> <strong><span style=\"color: #932c8f;\">-</span></strong></td>, <td class=\"morning\"><strong><span style=\"color: #932c8f;\">8.35</span></strong></td>, <td class=\"morning\"> </td>, <td class=\"morning\"> </td>, <td class=\"morning\"> </td>, <td class=\"morning\"><strong> </strong></td>, <td class=\"morning\">8.05</td>, <td class=\"morning\">8.14</td>, <td class=\"morning\">8.20</td>, <td class=\"morning\">8.28</td>, <td class=\"morning\">8.50</td>, <td class=\"morning\">9.05</td>, <td class=\"morning\">9.15</td>, <td class=\"morning\">9.25</td>, <td class=\"morning\">9.37</td>, <td class=\"morning\"><strong> </strong></td>, <td class=\"morning\">8.20</td>, <td class=\"morning\">8.29</td>, <td class=\"morning\">8.35</td>, <td class=\"morning\">8.43</td>, <td class=\"morning\">9.05</td>, <td class=\"morning\">9.20</td>, <td class=\"morning\">9.30</td>, <td class=\"morning\">9.40</td>, <td class=\"morning\">9.52</td>, <td class=\"morning\"><strong> </strong></td>, <td class=\"morning\">8.40</td>, <td class=\"morning\">8.48</td>, <td class=\"morning\">8.53</td>, <td class=\"morning\">9.00</td>, <td class=\"morning\">9.20</td>, <td class=\"morning\">9.35</td>, <td class=\"morning\">9.45</td>, <td class=\"morning\">9.55</td>, <td class=\"morning\">10.07</td>, <td class=\"morning\"><strong> </strong></td>, <td class=\"morning\">9.00</td>, <td class=\"morning\">9.08</td>, <td class=\"morning\">9.13</td>, <td class=\"morning\">9.20</td>, <td class=\"morning\">9.40</td>, <td class=\"morning\">9.55</td>, <td class=\"morning\">10.05</td>, <td class=\"morning\">10.15</td>, <td class=\"morning\">10.27</td>, <td class=\"morning\"> </td>, <td class=\"morning\"><strong> </strong></td>, <td class=\"morning\">9.22</td>, <td class=\"morning\">9.30</td>, <td class=\"morning\">9.35</td>, <td class=\"morning\">9.42</td>, <td class=\"morning\">10.02</td>, <td class=\"morning\">10.17</td>, <td class=\"morning\">10.27</td>, <td class=\"morning\">10.37</td>, <td class=\"morning\">10.49</td>, <td class=\"morning\"> </td>, <td class=\"morning\"><strong> </strong></td>, <td class=\"morning\">9.45</td>, <td class=\"morning\">9.53</td>, <td class=\"morning\">9.58</td>, <td class=\"morning\">10.05</td>, <td class=\"morning\">10.25</td>, <td class=\"morning\">10.40</td>, <td class=\"morning\">10.50</td>, <td class=\"morning\">11.00</td>, <td class=\"morning\">11.12</td>, <td class=\"morning\"> </td>, <td class=\"morning\"><strong> </strong></td>, <td class=\"morning\">10.07</td>, <td class=\"morning\">10.15</td>, <td class=\"morning\">10.20</td>, <td class=\"morning\">10.27</td>, <td class=\"morning\">10.47</td>, <td class=\"morning\">11.02</td>, <td class=\"morning\">11.12</td>, <td class=\"morning\">11.22</td>, <td class=\"morning\">11.34</td>, <td class=\"morning\"> </td>, <td class=\"morning\"><strong> </strong></td>, <td class=\"morning\">10.30</td>, <td class=\"morning\">10.38</td>, <td class=\"morning\">10.43</td>, <td class=\"morning\">10.50</td>, <td class=\"morning\">11.10</td>, <td class=\"morning\">11.25</td>, <td class=\"morning\">11.35</td>, <td class=\"morning\">11.45</td>, <td class=\"morning\">11.57</td>, <td class=\"morning\"> </td>, <td class=\"morning\"><strong> </strong></td>, <td class=\"morning\">10.52</td>, <td class=\"morning\">11.00</td>, <td class=\"morning\">11.05</td>, <td class=\"morning\">11.12</td>, <td class=\"morning\">11.32</td>, <td class=\"morning\">11.47</td>, <td class=\"morning\">11.57</td>, <td class=\"morning\">12.07</td>, <td class=\"morning\">12.19</td>, <td class=\"morning\"> </td>, <td class=\"morning\"><strong> </strong></td>, <td class=\"morning\">11.15</td>, <td class=\"morning\">11.23</td>, <td class=\"morning\">11.28</td>, <td class=\"morning\">11.35</td>, <td class=\"morning\">11.55</td>, <td class=\"afternoon\">12.10</td>, <td class=\"afternoon\">12.20</td>, <td class=\"afternoon\">12.30</td>, <td class=\"afternoon\">12.42</td>, <td class=\"afternoon\"> </td>, <td class=\"morning\"><strong> </strong></td>, <td class=\"morning\">11.37</td>, <td class=\"morning\">11.45</td>, <td class=\"morning\">11.50</td>, <td class=\"morning\">11.57</td>, <td class=\"afternoon\">12.17</td>, <td class=\"afternoon\">12.32</td>, <td class=\"afternoon\">12.42</td>, <td class=\"afternoon\">12.52</td>, <td class=\"afternoon\">1.04</td>, <td class=\"afternoon\"> </td>, <td class=\"morning\"><strong> </strong></td>, <td class=\"afternoon\">12.00</td>, <td class=\"afternoon\">12.08</td>, <td class=\"afternoon\">12.13</td>, <td class=\"afternoon\">12.20</td>, <td class=\"afternoon\">12.40</td>, <td class=\"afternoon\">12.55</td>, <td class=\"afternoon\">1.05</td>, <td class=\"afternoon\">1.15</td>, <td class=\"afternoon\">1.27</td>, <td class=\"afternoon\"> </td>, <td class=\"PM\" rowspan=\"26\">PM</td>, <td class=\"afternoon\"><strong> </strong></td>, <td class=\"afternoon\">12.22</td>, <td class=\"afternoon\">12.30</td>, <td class=\"afternoon\">12.35</td>, <td class=\"afternoon\">12.42</td>, <td class=\"afternoon\">1.02</td>, <td class=\"afternoon\">1.17</td>, <td class=\"afternoon\">1.27</td>, <td class=\"afternoon\">1.37</td>, <td class=\"afternoon\">1.49</td>, <td class=\"afternoon\"> </td>, <td class=\"afternoon\"><strong> </strong></td>, <td class=\"afternoon\">12.45</td>, <td class=\"afternoon\">12.53</td>, <td class=\"afternoon\">12.58</td>, <td class=\"afternoon\">1.05</td>, <td class=\"afternoon\">1.25</td>, <td class=\"afternoon\">1.40</td>, <td class=\"afternoon\">1.50</td>, <td class=\"afternoon\">2.00</td>, <td class=\"afternoon\">2.12</td>, <td class=\"afternoon\"> </td>, <td class=\"afternoon\"><strong> </strong></td>, <td class=\"afternoon\">1.07</td>, <td class=\"afternoon\">1.15</td>, <td class=\"afternoon\">1.20</td>, <td class=\"afternoon\">1.27</td>, <td class=\"afternoon\">1.47</td>, <td class=\"afternoon\">2.02</td>, <td class=\"afternoon\">2.12</td>, <td class=\"afternoon\">2.22</td>, <td class=\"afternoon\">2.34</td>, <td class=\"afternoon\"> </td>, <td class=\"afternoon\"><strong> </strong></td>, <td class=\"afternoon\">1.30</td>, <td class=\"afternoon\">1.38</td>, <td class=\"afternoon\">1.43</td>, <td class=\"afternoon\">1.50</td>, <td class=\"afternoon\">2.12</td>, <td class=\"afternoon\">2.27</td>, <td class=\"afternoon\">2.37</td>, <td class=\"afternoon\">2.47</td>, <td class=\"afternoon\">3.00</td>, <td class=\"afternoon\"> </td>, <td class=\"afternoon\"><strong> </strong></td>, <td class=\"afternoon\">1.52</td>, <td class=\"afternoon\">2.00</td>, <td class=\"afternoon\">2.06</td>, <td class=\"afternoon\">2.13</td>, <td class=\"afternoon\">2.36</td>, <td class=\"afternoon\">2.51</td>, <td class=\"afternoon\">3.02</td>, <td class=\"afternoon\">3.13</td>, <td class=\"afternoon\">3.26</td>, <td class=\"afternoon\"> </td>, <td class=\"afternoon\"><strong> </strong></td>, <td class=\"afternoon\">2.15</td>, <td class=\"afternoon\">2.23</td>, <td class=\"afternoon\">2.30</td>, <td class=\"afternoon\">2.37</td>, <td class=\"afternoon\">3.00</td>, <td class=\"afternoon\">3.15</td>, <td class=\"afternoon\">3.27</td>, <td class=\"afternoon\">3.39</td>, <td class=\"afternoon\">3.52</td>, <td class=\"afternoon\"> </td>, <td class=\"afternoon\"><strong> </strong></td>, <td class=\"afternoon\">2.37</td>, <td class=\"afternoon\">2.45</td>, <td class=\"afternoon\">2.52</td>, <td class=\"afternoon\">2.59</td>, <td class=\"afternoon\">3.22</td>, <td class=\"afternoon\">3.37</td>, <td class=\"afternoon\">3.49</td>, <td class=\"afternoon\">4.01</td>, <td class=\"afternoon\">4.14</td>, <td class=\"afternoon\"> </td>, <td class=\"afternoon\"><strong><span><img alt=\"key: term time only\" height=\"16\" src=\"/PageFiles/696/purplearrow.png\" width=\"16\"/></span></strong></td>, <td class=\"afternoon\"> </td>, <td class=\"afternoon\"> </td>, <td class=\"afternoon\" colspan=\"2\"><strong><span style=\"color: #932c8f;\">Depart HBHS</span></strong></td>, <td class=\"afternoon\"> </td>, <td class=\"afternoon\"> </td>, <td class=\"afternoon\" colspan=\"3\"><strong><span style=\"color: #932c8f;\"><br/></span></strong></td>, <td class=\"afternoon\"> </td>, <td class=\"afternoon\"> </td>, <td class=\"afternoon\"> </td>, <td class=\"afternoon\"> </td>, <td class=\"afternoon\"> </td>, <td class=\"afternoon\"><strong><span style=\"color: #932c8f;\">3.15</span></strong></td>, <td class=\"afternoon\"><strong><span style=\"color: #932c8f;\">   -</span></strong></td>, <td class=\"afternoon\"><strong><span style=\"color: #932c8f;\">3.41</span></strong></td>, <td class=\"afternoon\"><strong><span style=\"color: #932c8f;\">3.56</span></strong></td>, <td class=\"afternoon\"><strong><span style=\"color: #932c8f;\">4.10 </span></strong></td>, <td class=\"afternoon\"><strong><span style=\"color: #932c8f;\">4.15 </span></strong></td>, <td class=\"afternoon\"> </td>, <td class=\"afternoon\"> </td>, <td class=\"afternoon\">3.00</td>, <td class=\"afternoon\"> 3.08</td>, <td class=\"afternoon\"> 3.15</td>, <td class=\"afternoon\"> 3.22</td>, <td class=\"afternoon\">3.45</td>, <td class=\"afternoon\">4.00</td>, <td class=\"afternoon\">4.12</td>, <td class=\"afternoon\">4.24</td>, <td class=\"afternoon\">4.37</td>, <td class=\"afternoon\"> </td>, <td class=\"afternoon\"><strong> </strong></td>, <td class=\"afternoon\">3.20</td>, <td class=\"afternoon\">3.28</td>, <td class=\"afternoon\">3.35</td>, <td class=\"afternoon\">3.42</td>, <td class=\"afternoon\">4.05</td>, <td class=\"afternoon\">4.20</td>, <td class=\"afternoon\">4.32</td>, <td class=\"afternoon\">4.44</td>, <td class=\"afternoon\">4.57</td>, <td class=\"afternoon\"> </td>, <td class=\"afternoon\"><strong> </strong></td>, <td class=\"afternoon\">3.40</td>, <td class=\"afternoon\">3.48</td>, <td class=\"afternoon\">3.55</td>, <td class=\"afternoon\">4.02</td>, <td class=\"afternoon\">4.25</td>, <td class=\"afternoon\">4.40</td>, <td class=\"afternoon\">4.52</td>, <td class=\"afternoon\">5.04</td>, <td class=\"afternoon\">5.17</td>, <td class=\"afternoon\"> </td>, <td class=\"afternoon\"><strong> </strong></td>, <td class=\"afternoon\">4.00</td>, <td class=\"afternoon\">4.08</td>, <td class=\"afternoon\">4.15</td>, <td class=\"afternoon\">4.22</td>, <td class=\"afternoon\">4.45</td>, <td class=\"afternoon\">5.00</td>, <td class=\"afternoon\">5.12</td>, <td class=\"afternoon\">5.24</td>, <td class=\"afternoon\">5.37</td>, <td class=\"afternoon\"> </td>, <td class=\"afternoon\"><strong> </strong></td>, <td class=\"afternoon\">4.20</td>, <td class=\"afternoon\">4.28</td>, <td class=\"afternoon\">4.35</td>, <td class=\"afternoon\">4.42</td>, <td class=\"afternoon\">5.05</td>, <td class=\"afternoon\">5.20</td>, <td class=\"afternoon\">5.32</td>, <td class=\"afternoon\">5.44</td>, <td class=\"afternoon\">5.55</td>, <td class=\"afternoon\"> </td>, <td class=\"afternoon\"><strong> </strong></td>, <td class=\"afternoon\">4.40</td>, <td class=\"afternoon\">4.48</td>, <td class=\"afternoon\">4.55</td>, <td class=\"afternoon\">5.02</td>, <td class=\"afternoon\">5.25</td>, <td class=\"afternoon\">5.40</td>, <td class=\"afternoon\">5.52</td>, <td class=\"afternoon\">6.04</td>, <td class=\"afternoon\">6.17</td>, <td class=\"afternoon\"> </td>, <td class=\"afternoon\"><strong> </strong></td>, <td class=\"afternoon\">5.00</td>, <td class=\"afternoon\">5.08</td>, <td class=\"afternoon\">5.15</td>, <td class=\"afternoon\">5.22</td>, <td class=\"afternoon\">5.45</td>, <td class=\"afternoon\">6.00</td>, <td class=\"afternoon\">6.12</td>, <td class=\"afternoon\">6.24</td>, <td class=\"afternoon\">6.37</td>, <td class=\"afternoon\"> </td>, <td class=\"afternoon\"><strong> </strong></td>, <td class=\"afternoon\">5.20</td>, <td class=\"afternoon\">5.27</td>, <td class=\"afternoon\">5.33</td>, <td class=\"afternoon\">5.40</td>, <td class=\"afternoon\">6.02</td>, <td class=\"afternoon\">6.15</td>, <td class=\"afternoon\">6.25</td>, <td class=\"afternoon\">6.35</td>, <td class=\"afternoon\">6.47</td>, <td class=\"afternoon\"> </td>, <td class=\"afternoon\"><strong> </strong></td>, <td class=\"afternoon\">5.40</td>, <td class=\"afternoon\">5.47</td>, <td class=\"afternoon\">5.52</td>, <td class=\"afternoon\">5.59</td>, <td class=\"afternoon\">6.18</td>, <td class=\"afternoon\">6.30</td>, <td class=\"afternoon\">6.40</td>, <td class=\"afternoon\">6.50</td>, <td class=\"afternoon\">7.02</td>, <td class=\"afternoon\"> </td>, <td class=\"afternoon\"><strong> </strong></td>, <td class=\"afternoon\">6.00</td>, <td class=\"afternoon\">6.07</td>, <td class=\"afternoon\">6.12</td>, <td class=\"afternoon\">6.19</td>, <td class=\"afternoon\">6.38</td>, <td class=\"afternoon\">6.50</td>, <td class=\"afternoon\">7.00</td>, <td class=\"afternoon\">7.10 </td>, <td class=\"afternoon\">7.22</td>, <td class=\"afternoon\"> </td>, <td class=\"afternoon\"><strong> </strong></td>, <td class=\"afternoon\">6.20</td>, <td class=\"afternoon\">6.27</td>, <td class=\"afternoon\">6.31</td>, <td class=\"afternoon\">6.38</td>, <td class=\"afternoon\">6.53</td>, <td class=\"afternoon\">7.05</td>, <td class=\"afternoon\">7.13</td>, <td class=\"afternoon\">7.23</td>, <td class=\"afternoon\">7.33</td>, <td class=\"afternoon\"> </td>, <td class=\"afternoon\"><strong> </strong></td>, <td class=\"afternoon\">6.40</td>, <td class=\"afternoon\">6.47</td>, <td class=\"afternoon\">6.51</td>, <td class=\"afternoon\">6.58</td>, <td class=\"afternoon\">7.12</td>, <td class=\"afternoon\">7.24</td>, <td class=\"afternoon\">7.32</td>, <td class=\"afternoon\">7.42</td>, <td class=\"afternoon\">7.52</td>, <td class=\"afternoon\"> </td>, <td class=\"afternoon\"><strong> </strong></td>, <td class=\"afternoon\">7.05</td>, <td class=\"afternoon\">7.12</td>, <td class=\"afternoon\">7.16</td>, <td class=\"afternoon\">7.23</td>, <td class=\"afternoon\">7.37</td>, <td class=\"afternoon\">7.49</td>, <td class=\"afternoon\">7.57</td>, <td class=\"afternoon\">8.07</td>, <td class=\"afternoon\">8.17</td>, <td class=\"afternoon\"> </td>, <td class=\"afternoon\"><strong> </strong></td>, <td class=\"afternoon\">7.30</td>, <td class=\"afternoon\">7.37</td>, <td class=\"afternoon\">7.41</td>, <td class=\"afternoon\">7.48</td>, <td class=\"afternoon\">8.00</td>, <td class=\"afternoon\">8.12</td>, <td class=\"afternoon\">8.20</td>, <td class=\"afternoon\">8.30</td>, <td class=\"afternoon\">8.40</td>, <td class=\"afternoon\"> </td>, <td class=\"afternoon\"><strong> </strong></td>, <td class=\"afternoon\">7.55</td>, <td class=\"afternoon\">8.02</td>, <td class=\"afternoon\">8.06</td>, <td class=\"afternoon\">8.13</td>, <td class=\"afternoon\">8.25</td>, <td class=\"afternoon\">8.37</td>, <td class=\"afternoon\">8.45</td>, <td class=\"afternoon\">8.55</td>, <td class=\"afternoon\">9.05</td>, <td class=\"afternoon\"> </td>, <td class=\"afternoon\"><strong> </strong></td>, <td class=\"afternoon\">8.30</td>, <td class=\"afternoon\">8.37</td>, <td class=\"afternoon\">8.41</td>, <td class=\"afternoon\">8.48</td>, <td class=\"afternoon\">9.00</td>, <td class=\"afternoon\">9.12</td>, <td class=\"afternoon\">9.20</td>, <td class=\"afternoon\">9.28</td>, <td class=\"afternoon\">9.38</td>, <td class=\"afternoon\"> </td>, <td class=\"afternoon\"><strong> </strong></td>, <td class=\"afternoon\">9.10*</td>, <td class=\"afternoon\">9.17*</td>, <td class=\"afternoon\">9.21*</td>, <td class=\"afternoon\">9.28*</td>, <td class=\"afternoon\">9.40*</td>, <td class=\"afternoon\"> </td>, <td class=\"afternoon\"><br/></td>, <td class=\"afternoon\"><br/></td>, <td class=\"afternoon\"><br/></td>, <td class=\"afternoon\"> </td>, <td colspan=\"6\">Saturday, Sunday and public holidays<br/></td>, <td class=\"routeName\" colspan=\"4\">Orbiter clockwise</td>, <td style=\"text-align: center; width: 5%;\"><img alt=\"Route O\" height=\"26\" src=\"/Global/RouteNumbers/routeO.png\" width=\"27\"/></td>, <td class=\"stop\" style=\"width: 11%;\">The Base</td>, <td class=\"stop\" style=\"width: 11%;\">Flagstaff</td>, <td class=\"stop\" style=\"width: 11%;\">Rototuna</td>, <td class=\"stop\" style=\"width: 11%;\">Chartwell</td>, <td class=\"stop\" style=\"width: 11%;\">University</td>, <td class=\"stop\" style=\"width: 11%;\">Hospital</td>, <td class=\"stop\" style=\"width: 11%;\">Dinsdale</td>, <td class=\"stop\" style=\"width: 11%;\">Wintec<br/>Rotokauri </td>, <td class=\"stop\" style=\"width: 11%;\">The Base (arrive)</td>, <td class=\"AM\" rowspan=\"15\">AM</td>, <td class=\"stopsBG terminusIn\"> </td>, <td class=\"stopsBG stopPoint\"> </td>, <td class=\"stopsBG stopPoint\"> </td>, <td class=\"stopsBG stopPoint\"> </td>, <td class=\"stopsBG stopPoint\"> </td>, <td class=\"stopsBG stopPoint\"> </td>, <td class=\"stopsBG stopPoint\"> </td>, <td class=\"stopsBG stopPoint\"> </td>, <td class=\"stopsBG terminusOut\"> </td>, <td class=\"ArriveDepart\" style=\"border-bottom: 1px solid #a253a5;\">Depart</td>, <td class=\"empty\" style=\"border-bottom: 1px solid #a253a5;\"> </td>, <td class=\"empty\"> </td>, <td class=\"empty\"> </td>, <td class=\"empty\"> </td>, <td class=\"empty\"> </td>, <td class=\"empty\"> </td>, <td class=\"empty\"> </td>, <td class=\"ArriveDepart\" style=\"border-bottom: 1px solid #a253a5;\">Arrive</td>, <td class=\"morning\" colspan=\"2\" style=\"border-left: 1px solid #a253a5;\"> <strong><span style=\"color: #932c8f;\">Saturday only</span></strong> </td>, <td class=\"morning\" style=\"border-top: 1px solid #a253a5;\"> </td>, <td class=\"morning\" style=\"border-top: 1px solid #a253a5;\"> </td>, <td class=\"morning\" style=\"border-top: 1px solid #a253a5;\">7.10</td>, <td class=\"morning\" style=\"border-top: 1px solid #a253a5;\">7.22</td>, <td class=\"morning\" style=\"border-top: 1px solid #a253a5;\">7.30</td>, <td class=\"morning\" style=\"border-top: 1px solid #a253a5;\">7.40</td>, <td class=\"morning\" style=\"border-right: 1px solid #a253a5;\">7.47</td>, <td class=\"morning\" style=\"border-left: 1px solid #a253a5;\">7.15</td>, <td class=\"morning\">7.22</td>, <td class=\"morning\">7.26</td>, <td class=\"morning\">7.33</td>, <td class=\"morning\">7.45</td>, <td class=\"morning\">7.57</td>, <td class=\"morning\">8.05</td>, <td class=\"morning\">8.15</td>, <td class=\"morning\" style=\"border-right: 1px solid #a253a5;\">8.22</td>, <td class=\"morning\" style=\"border-left: 1px solid #a253a5;\">7.50</td>, <td class=\"morning\">7.57</td>, <td class=\"morning\">8.02</td>, <td class=\"morning\" style=\"border-right: 1px solid #a253a5;\">8.09</td>, <td class=\"morning\" style=\"border-top: 1px solid #a253a5;\">8.22</td>, <td class=\"morning\" style=\"border-top: 1px solid #a253a5;\">8.35</td>, <td class=\"morning\" style=\"border-top: 1px solid #a253a5;\">8.45</td>, <td class=\"morning\" style=\"border-top: 1px solid #a253a5;\">8.55</td>, <td class=\"morning\" style=\"border-top: 1px solid #a253a5;\">9.02</td>, <td class=\"morning\" style=\"border-top: 1px solid #a253a5;\">8.25</td>, <td class=\"morning\" style=\"border-top: 1px solid #a253a5;\">8.33</td>, <td class=\"morning\" style=\"border-top: 1px solid #a253a5;\">8.38</td>, <td class=\"morning\" style=\"border-top: 1px solid #a253a5;\">8.45</td>, <td class=\"morning\">9.00</td>, <td class=\"morning\">9.13</td>, <td class=\"morning\">9.23</td>, <td class=\"morning\">9.33</td>, <td class=\"morning\">9.42</td>, <td class=\"morning\"> </td>, <td class=\"morning\"> </td>, <td class=\"morning\"> </td>, <td class=\"morning\"> </td>, <td class=\"morning\"> </td>, <td class=\"morning\"> </td>, <td class=\"morning\">9.45</td>, <td class=\"morning\">9.55</td>, <td class=\"morning\">10.04</td>, <td class=\"morning\">9.05</td>, <td class=\"morning\">9.13</td>, <td class=\"morning\">9.18</td>, <td class=\"morning\">9.25</td>, <td class=\"morning\">9.43</td>, <td class=\"morning\">9.56</td>, <td class=\"morning\">10.06</td>, <td class=\"morning\">10.16</td>, <td class=\"morning\">10.27</td>, <td class=\"morning\"> </td>, <td class=\"morning\"> </td>, <td class=\"morning\"> </td>, <td class=\"morning\"> </td>, <td class=\"morning\">10.04</td>, <td class=\"morning\">10.18</td>, <td class=\"morning\">10.28</td>, <td class=\"morning\">10.38</td>, <td class=\"morning\">10.49</td>, <td class=\"morning\">9.45</td>, <td class=\"morning\">9.53</td>, <td class=\"morning\">9.58</td>, <td class=\"morning\">10.05</td>, <td class=\"morning\">10.25</td>, <td class=\"morning\">10.40</td>, <td class=\"morning\">10.50</td>, <td class=\"morning\">11.00</td>, <td class=\"morning\">11.12</td>, <td class=\"morning\">10.07</td>, <td class=\"morning\">10.15</td>, <td class=\"morning\">10.20</td>, <td class=\"morning\">10.27</td>, <td class=\"morning\">10.47</td>, <td class=\"morning\">11.02</td>, <td class=\"morning\">11.12</td>, <td class=\"morning\">11.22</td>, <td class=\"morning\">11.34</td>, <td class=\"morning\">10.30</td>, <td class=\"morning\">10.38</td>, <td class=\"morning\">10.43</td>, <td class=\"morning\">10.50</td>, <td class=\"morning\">11.10</td>, <td class=\"morning\">11.25</td>, <td class=\"morning\">11.35</td>, <td class=\"morning\">11.45</td>, <td class=\"morning\">11.57</td>, <td class=\"morning\">10.52</td>, <td class=\"morning\">11.00</td>, <td class=\"morning\">11.05</td>, <td class=\"morning\">11.12</td>, <td class=\"morning\">11.32</td>, <td class=\"morning\">11.47</td>, <td class=\"morning\">11.57</td>, <td class=\"afternoon\">12.07</td>, <td class=\"afternoon\">12.19</td>, <td class=\"morning\">11.15</td>, <td class=\"morning\">11.23</td>, <td class=\"morning\">11.28</td>, <td class=\"morning\">11.35</td>, <td class=\"morning\">11.55</td>, <td class=\"afternoon\">12.10</td>, <td class=\"afternoon\">12.20</td>, <td class=\"afternoon\">12.30</td>, <td class=\"afternoon\">12.42</td>, <td class=\"morning\">11.37</td>, <td class=\"morning\">11.45</td>, <td class=\"morning\">11.50</td>, <td class=\"morning\">11.57</td>, <td class=\"afternoon\">12.17</td>, <td class=\"afternoon\">12.32</td>, <td class=\"afternoon\">12.42</td>, <td class=\"afternoon\">12.52</td>, <td class=\"afternoon\">1.04</td>, <td class=\"PM\" rowspan=\"19\">PM</td>, <td class=\"afternoon\">12.00</td>, <td class=\"afternoon\">12.08</td>, <td class=\"afternoon\">12.13</td>, <td class=\"afternoon\">12.20</td>, <td class=\"afternoon\">12.40</td>, <td class=\"afternoon\">12.55</td>, <td class=\"afternoon\">1.05</td>, <td class=\"afternoon\">1.15</td>, <td class=\"afternoon\">1.27</td>, <td class=\"afternoon\">12.22</td>, <td class=\"afternoon\">12.30</td>, <td class=\"afternoon\">12.35</td>, <td class=\"afternoon\">12.42</td>, <td class=\"afternoon\">1.02</td>, <td class=\"afternoon\">1.17</td>, <td class=\"afternoon\">1.27</td>, <td class=\"afternoon\">1.37</td>, <td class=\"afternoon\">1.49</td>, <td class=\"afternoon\">12.45</td>, <td class=\"afternoon\">12.53</td>, <td class=\"afternoon\">12.58</td>, <td class=\"afternoon\">1.05</td>, <td class=\"afternoon\">1.25</td>, <td class=\"afternoon\">1.40</td>, <td class=\"afternoon\">1.50</td>, <td class=\"afternoon\">2.00</td>, <td class=\"afternoon\">2.12</td>, <td class=\"afternoon\">1.07</td>, <td class=\"afternoon\">1.15</td>, <td class=\"afternoon\">1.20</td>, <td class=\"afternoon\">1.27</td>, <td class=\"afternoon\">1.47</td>, <td class=\"afternoon\">2.02</td>, <td class=\"afternoon\">2.12</td>, <td class=\"afternoon\">2.22</td>, <td class=\"afternoon\">2.34</td>, <td class=\"afternoon\">1.30</td>, <td class=\"afternoon\">1.38</td>, <td class=\"afternoon\">1.43</td>, <td class=\"afternoon\">1.50</td>, <td class=\"afternoon\">2.10</td>, <td class=\"afternoon\">2.25</td>, <td class=\"afternoon\">2.35</td>, <td class=\"afternoon\">2.45</td>, <td class=\"afternoon\">2.57</td>, <td class=\"afternoon\">1.52</td>, <td class=\"afternoon\">2.00</td>, <td class=\"afternoon\">2.05</td>, <td class=\"afternoon\">2.12</td>, <td class=\"afternoon\">2.32</td>, <td class=\"afternoon\">2.47</td>, <td class=\"afternoon\">2.57</td>, <td class=\"afternoon\">3.07</td>, <td class=\"afternoon\">3.19</td>, <td class=\"afternoon\">2.15</td>, <td class=\"afternoon\">2.23</td>, <td class=\"afternoon\">2.28</td>, <td class=\"afternoon\">2.35</td>, <td class=\"afternoon\">2.55</td>, <td class=\"afternoon\">3.10</td>, <td class=\"afternoon\">3.20</td>, <td class=\"afternoon\">3.30</td>, <td class=\"afternoon\">3.42</td>, <td class=\"afternoon\">2.37</td>, <td class=\"afternoon\">2.45</td>, <td class=\"afternoon\">2.50</td>, <td class=\"afternoon\">2.57</td>, <td class=\"afternoon\">3.17</td>, <td class=\"afternoon\">3.32</td>, <td class=\"afternoon\">3.42</td>, <td class=\"afternoon\">3.52</td>, <td class=\"afternoon\">4.04</td>, <td class=\"afternoon\">3.00</td>, <td class=\"afternoon\">3.08</td>, <td class=\"afternoon\">3.13</td>, <td class=\"afternoon\">3.20</td>, <td class=\"afternoon\">3.40</td>, <td class=\"afternoon\">3.55</td>, <td class=\"afternoon\">4.05</td>, <td class=\"afternoon\">4.15</td>, <td class=\"afternoon\">4.27</td>, <td class=\"afternoon\">3.22</td>, <td class=\"afternoon\">3.30</td>, <td class=\"afternoon\">3.35</td>, <td class=\"afternoon\">3.42</td>, <td class=\"afternoon\">4.02</td>, <td class=\"afternoon\">4.17</td>, <td class=\"afternoon\">4.27</td>, <td class=\"afternoon\">4.37</td>, <td class=\"afternoon\">4.49</td>, <td class=\"afternoon\">3.45</td>, <td class=\"afternoon\">3.53</td>, <td class=\"afternoon\">3.58</td>, <td class=\"afternoon\">4.05</td>, <td class=\"afternoon\">4.25</td>, <td class=\"afternoon\">4.40</td>, <td class=\"afternoon\">4.50</td>, <td class=\"afternoon\">5.00</td>, <td class=\"afternoon\">5.12</td>, <td class=\"afternoon\">4.07</td>, <td class=\"afternoon\">4.15</td>, <td class=\"afternoon\">4.20</td>, <td class=\"afternoon\">4.27</td>, <td class=\"afternoon\">4.47</td>, <td class=\"afternoon\">5.02</td>, <td class=\"afternoon\">5.12</td>, <td class=\"afternoon\">5.22</td>, <td class=\"afternoon\">5.34</td>, <td class=\"afternoon\">4.30</td>, <td class=\"afternoon\">4.38</td>, <td class=\"afternoon\">4.43</td>, <td class=\"afternoon\">4.50</td>, <td class=\"afternoon\">5.10</td>, <td class=\"afternoon\">5.25</td>, <td class=\"afternoon\">5.35</td>, <td class=\"afternoon\">5.45</td>, <td class=\"afternoon\">5.57</td>, <td class=\"afternoon\">4.52</td>, <td class=\"afternoon\">5.00</td>, <td class=\"afternoon\">5.05</td>, <td class=\"afternoon\">5.12</td>, <td class=\"afternoon\">5.32</td>, <td class=\"afternoon\">5.47</td>, <td class=\"afternoon\">5.57</td>, <td class=\"afternoon\">6.07</td>, <td class=\"afternoon\">6.18</td>, <td class=\"afternoon\">5.15</td>, <td class=\"afternoon\">5.23</td>, <td class=\"afternoon\">5.28</td>, <td class=\"afternoon\">5.35</td>, <td class=\"afternoon\">5.55</td>, <td class=\"afternoon\">6.08</td>, <td class=\"afternoon\">6.16</td>, <td class=\"afternoon\">6.26</td>, <td class=\"afternoon\">6.37 </td>, <td class=\"afternoon\">5.37</td>, <td class=\"afternoon\">5.45</td>, <td class=\"afternoon\">5.50</td>, <td class=\"afternoon\">5.57</td>, <td class=\"afternoon\">6.17</td>, <td class=\"afternoon\">6.30</td>, <td class=\"afternoon\">6.38</td>, <td class=\"afternoon\">6.48</td>, <td class=\"afternoon\">6.59</td>, <td class=\"afternoon\">6.00</td>, <td class=\"afternoon\">6.07</td>, <td class=\"afternoon\">6.12</td>, <td class=\"afternoon\">6.19</td>, <td class=\"afternoon\">6.38</td>, <td class=\"afternoon\">6.50</td>, <td class=\"afternoon\">6.58</td>, <td class=\"afternoon\">7.08</td>, <td class=\"afternoon\"> 7.17</td>, <td class=\"afternoon\">6.40</td>, <td class=\"afternoon\">6.47</td>, <td class=\"afternoon\">6.51</td>, <td class=\"afternoon\">6.58</td>, <td class=\"afternoon\">7.15</td>, <td class=\"afternoon\">7.27</td>, <td class=\"afternoon\">7.35</td>, <td class=\"afternoon\">7.45</td>, <td class=\"afternoon\">7.54</td>, <td class=\"afternoon\">7.20*</td>, <td class=\"afternoon\">7.27*</td>, <td class=\"afternoon\">7.31*</td>, <td class=\"afternoon\">7.38*</td>, <td class=\"afternoon\">7.55*</td>, <td class=\"afternoon\"><br/></td>, <td class=\"afternoon\"><br/></td>, <td class=\"afternoon\"><br/></td>, <td class=\"afternoon\"><br/></td>, <td valign=\"top\">\n",
       " <p>Mahanga Dr (The Base)<br/>The Base outside Mitre 10 Mega<br/>Church Rd outside Cock and Bull<br/>50 Church Rd<br/>16 Church Rd<br/>29 Moreland Ave <br/>41 Moreland Ave<br/>Opp 199 Pukete Rd<br/>174 Pukete Rd near Totara Drive<br/>158 Pukete Rd<br/>Pukete Rd (roundabout - inbound)<br/>Opp 1114 River Rd near Flagstaff shops<br/>River Rd, Alandale retirement village<br/>3 Discovery Dr<br/>49 Discovery Dr<br/>Discovery Dr, opposite Discovery Park<br/>121 Discovery Dr<br/>256 Thomas Rd<br/>212 Thomas Rd<br/>192 Thomas Rd, near Cate Rd<br/>Hukanui Rd, opposite St James Countdown supermarket <br/>Opp 403 Hukanui Rd<br/>Opp 371 Hukanui Rd<br/>Opp 343 Hukanui Rd<br/>Hukanui Rd (north of Glen Lynne)<br/>248 Hukanui Rd<br/>Lynden Court, Westfield Chartwell<br/>Hukanui Rd, opposite St Paul's Collegiate<br/>30 Hukanui Rd<br/>356 Peachgrove Rd<br/>Peachgrove Rd, just north of Five Crossroads<br/>222 Peachgrove Rd<br/>Peachgrove Rd, outside Southwell Primary School<br/>Peachgrove Rd (rail crossing outbound)<br/>108 Peachgrove Rd<br/>Peachgrove Rd, outside Peachgrove Intermediate <br/>Peachgrove Rd, opposite Hamilton Boys High School<br/>171 Clyde Street<br/>221 Clyde Street<br/>271 Clyde Street<br/>31 Cameron Road<br/>55 Cameron Road<br/>75 Cameron Road<br/>191 Old Farm Rd<br/>Opp 228 Old Farm Rd<br/>Opp 187 Knighton Rd<br/>Knighton Rd, outside University of Waikato's Gate 2<br/>Clyde St, opposite Hillcrest Warehouse<br/>220 Clyde St<br/>166 Clyde St<br/>82 Clyde St, near Sacred Heart Girls College<br/>Bridge St, outside the police station. This is your opportunity to transfer onto the CBD Shuttle across the road.<br/>58 Anglesea St<br/>Palmerston St, opposite the St Peter's tennis courts<br/>73 Pembroke St<br/>Pembroke St, bottom of hospital hill <br/>Waikato Hospital, top of Hospital hill (Pembroke Street)<br/>243 Kahikatea Dr<br/>97 Kahikatea Dr (Gallaghers)<br/>97 Duke St<br/>44 Higgins Rd<br/>119 Killarney Rd<br/>165 Killarney Rd<br/>217 Killarney Rd<br/>Whatawhata Rd, outside Countdown car park, Dinsdale Shopping Centre<br/>99 Whatawhata Rd<br/>133 Whatawhata Rd<br/>185 Whatawhata Rd<br/>Opp 40 Newcastle Rd<br/>107 Newcastle Rd, near Western Heights Dr<br/>126 Ellicott Rd<br/>Ellicott Rd, opposite Aberfoyle St near Fraser High School<br/>26 Ellicott Rd<br/>Avalon Dr, near Mobil Avalon Dr<br/>Avalon Dr, opposite Turners Car Auctions<br/>Opp Fonterra on Foreman Rd<br/>Opp 28 Foreman Rd<br/>Opp 70 Foreman Rd<br/>Opp 27 Te Kowhai Rd<br/>The Base, opposite Mitre 10 Mega</p>\n",
       " </td>, <td valign=\"top\">\n",
       " <h2><img alt=\"Orbiter pole sign image\" height=\"821\" src=\"/PageFiles/697/oribter-pole-sign-CCW-2010.gif\" style=\"margin: 5px; float: left;\" width=\"196\"/></h2>\n",
       " <br/></td>, <td>\n",
       " <h2><a name=\"Transfers\"></a>Transfers - urban route connection points with the Orbiter</h2>\n",
       " <p>To help passengers easily identify which Orbiter bus stops connect with other bus services, a red ‘Transfer’ sign is placed on appropriate bus stop poles. The following urban routes connect with the Orbiter:</p>\n",
       " <h4>Chartwell/Lynden Court</h4>\n",
       " <ul>\n",
       " <li>Rototuna Direct East (RDE)</li>\n",
       " <li>Rototuna Direct West (RDW)</li>\n",
       " <li>Northerner (30)</li>\n",
       " <li>Chartwell (5)</li>\n",
       " <li>Claudelands (14)</li>\n",
       " <li>Flagstaff (4)</li>\n",
       " <li>Rototuna (16)</li>\n",
       " </ul>\n",
       " <h4>Countdown supermarket, Rototuna</h4>\n",
       " <ul>\n",
       " <li>Rototuna (16)</li>\n",
       " <li>Rototuna Direct East (RDE)</li>\n",
       " <li>Rototuna Direct West (RDW)</li>\n",
       " <li>Northerner (30) - connects with the Orbiter at 212 &amp; 192 Thomas Rd (clockwise bus) and opp 186 &amp; opp 256 Thomas Rd (anti-clockwise bus)</li>\n",
       " <li>All stops south of Callum Brae Dr on Hukanui Rd, will link with the Orbiter.</li>\n",
       " </ul>\n",
       " <p>Passengers need to check with the driver as to which direction the Orbiter bus is going, so they don’t get onto the bus going the wrong direction.</p>\n",
       " <h4>Flagstaff</h4>\n",
       " <ul>\n",
       " <li>Flagstaff (4)</li>\n",
       " </ul>\n",
       " <p>Passengers need to check with the driver as to which direction the Orbiter bus is going, so they don't get onto the bus going the wrong direction.</p>\n",
       " <h4>The Base</h4>\n",
       " <ul>\n",
       " <li>Northern Connector</li>\n",
       " </ul>\n",
       " <p>Passengers need to check with the driver as to which direction the Orbiter bus is going , so they don't get onto the bus going the wrong direction.</p>\n",
       " <h4>Wintec - Foreman Road</h4>\n",
       " <ul>\n",
       " <li>Nawton (9)</li>\n",
       " </ul>\n",
       " <h4>Dinsdale - Whatawhata Road</h4>\n",
       " <p>Bus stop outside Dinsdale Countdown supermarket.</p>\n",
       " <ul>\n",
       " <li>Bremworth/Templeview (26)</li>\n",
       " <li>Dinsdale (3)</li>\n",
       " <li>Raglan (23) </li>\n",
       " </ul>\n",
       " <h4>Hospital - Pembroke Street</h4>\n",
       " <p>Orbiter buses stop at the main Pembroke Street bus stops for eacy interchange with other bus services.</p>\n",
       " <ul>\n",
       " <li>Mahoe (6)</li>\n",
       " <li>Glenview (7)</li>\n",
       " <li>Te Awamutu</li>\n",
       " </ul>\n",
       " <h4>Police Station - Bridge Street</h4>\n",
       " <ul>\n",
       " <li>Hamilton East-Uni (17) - travels down Bridge Street and can stop at the Orbiter stop for an easy transfer</li>\n",
       " <li>CBD Shuttle </li>\n",
       " </ul>\n",
       " <h4>University - Knighton Road</h4>\n",
       " <p>Buses depart outside Gate 2 on Knighton Road (<strong>not</strong> at the bus stop inside Gate 1.)</p>\n",
       " <ul>\n",
       " <li>Ruakura (15)</li>\n",
       " <li>University (13)</li>\n",
       " <li>Hamilton East-Uni (17)</li>\n",
       " </ul>\n",
       " <br/></td>, <td>\n",
       " <div class=\"selectBox\" id=\"hourdropdown\">\n",
       " <span class=\"selected\"></span>\n",
       " <span class=\"selectArrow\"></span>\n",
       " <div class=\"selectOptions\">\n",
       " <span class=\"selectOption\" value=\"6h\">6</span>\n",
       " <span class=\"selectOption\" value=\"1h\">1</span>\n",
       " <span class=\"selectOption\" value=\"2h\">2</span>\n",
       " <span class=\"selectOption\" value=\"3h\">3</span>\n",
       " <span class=\"selectOption\" value=\"4h\">4</span>\n",
       " <span class=\"selectOption\" value=\"5h\">5</span>\n",
       " <span class=\"selectOption\" value=\"6h\">6</span>\n",
       " <span class=\"selectOption\" value=\"7h\">7</span>\n",
       " <span class=\"selectOption\" value=\"8h\">8</span>\n",
       " <span class=\"selectOption\" value=\"9h\">9</span>\n",
       " <span class=\"selectOption\" value=\"10h\">10</span>\n",
       " <span class=\"selectOption\" value=\"11h\">11</span>\n",
       " <span class=\"selectOption\" value=\"12h\">12</span>\n",
       " </div>\n",
       " </div>\n",
       " </td>, <td>\n",
       " <div class=\"selectBox\" id=\"CompletePage_GoogleTransit_minutedropdown\">\n",
       " <span class=\"selected\"></span>\n",
       " <span class=\"selectArrow\"></span>\n",
       " <div class=\"selectOptions\">\n",
       " <span class=\"selectOption\" value=\"03mi\">03</span>\n",
       " <span class=\"selectOption\" value=\"00mi\">00</span>\n",
       " <span class=\"selectOption\" value=\"05mi\">05</span>\n",
       " <span class=\"selectOption\" value=\"10mi\">10</span>\n",
       " <span class=\"selectOption\" value=\"15mi\">15</span>\n",
       " <span class=\"selectOption\" value=\"20mi\">20</span>\n",
       " <span class=\"selectOption\" value=\"25mi\">25</span>\n",
       " <span class=\"selectOption\" value=\"30mi\">30</span>\n",
       " <span class=\"selectOption\" value=\"35mi\">35</span>\n",
       " <span class=\"selectOption\" value=\"40mi\">40</span>\n",
       " <span class=\"selectOption\" value=\"45mi\">45</span>\n",
       " <span class=\"selectOption\" value=\"50mi\">50</span>\n",
       " <span class=\"selectOption\" value=\"55mi\">55</span>\n",
       " </div>\n",
       " </div>\n",
       " </td>, <td>\n",
       " <div class=\"selectBox\" id=\"CompletePage_GoogleTransit_ampmdropdown\">\n",
       " <span class=\"selected\"></span>\n",
       " <span class=\"selectArrow\"></span>\n",
       " <div class=\"selectOptions\">\n",
       " <span class=\"selectOption\" value=\"AM\">AM</span>\n",
       " <span class=\"selectOption\" value=\"PM\">PM</span>\n",
       " </div>\n",
       " </div>\n",
       " </td>]"
      ]
     },
     "execution_count": 13,
     "metadata": {},
     "output_type": "execute_result"
    }
   ],
   "source": [
    "bbsorb.find_all('td')"
   ]
  },
  {
   "cell_type": "code",
   "execution_count": null,
   "metadata": {
    "collapsed": true
   },
   "outputs": [],
   "source": []
  }
 ],
 "metadata": {
  "anaconda-cloud": {},
  "kernelspec": {
   "display_name": "Python [Root]",
   "language": "python",
   "name": "Python [Root]"
  },
  "language_info": {
   "codemirror_mode": {
    "name": "ipython",
    "version": 3
   },
   "file_extension": ".py",
   "mimetype": "text/x-python",
   "name": "python",
   "nbconvert_exporter": "python",
   "pygments_lexer": "ipython3",
   "version": "3.5.1"
  }
 },
 "nbformat": 4,
 "nbformat_minor": 0
}
