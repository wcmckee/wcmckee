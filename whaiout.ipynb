{
 "metadata": {
  "name": "",
  "signature": "sha256:e209b30fdf89e19bd94c95752f23565afcb3cc08762c5ff0b5ac7674c0a64ce5"
 },
 "nbformat": 3,
 "nbformat_minor": 0,
 "worksheets": [
  {
   "cells": [
    {
     "cell_type": "markdown",
     "metadata": {},
     "source": [
      "This is the signout script that opens the xl file and fill in signout info.\n",
      "\n",
      "creates date and time mark and asks for comment"
     ]
    },
    {
     "cell_type": "code",
     "collapsed": false,
     "input": [
      "import xlrd\n",
      "import os\n",
      "import time\n",
      "from xlutils.copy import copy\n",
      "from xlrd import *\n",
      "import dominate"
     ],
     "language": "python",
     "metadata": {},
     "outputs": [],
     "prompt_number": 28
    },
    {
     "cell_type": "code",
     "collapsed": false,
     "input": [
      "wrkbook = xlrd.open_workbook('/home/wcmckee/whai/index.xls')"
     ],
     "language": "python",
     "metadata": {},
     "outputs": [],
     "prompt_number": 21
    },
    {
     "cell_type": "code",
     "collapsed": false,
     "input": [
      "print wrkbook.sheet_names()\n",
      "\n",
      "worksheet = wrkbook.sheet_by_name('visitor sign database')\n",
      "swlis = []\n",
      "num_rows = worksheet.nrows - 1\n",
      "curr_row = -1\n",
      "while curr_row < num_rows:\n",
      "    curr_row += 1\n",
      "    row = worksheet.row(curr_row)\n",
      "    print row\n",
      "    swlis.append(row)"
     ],
     "language": "python",
     "metadata": {},
     "outputs": [
      {
       "output_type": "stream",
       "stream": "stdout",
       "text": [
        "[u'visitor sign database']\n",
        "[text:u'In Date', text:u'In Time', text:u'In Code', text:u'Name', text:u'Reason', text:u'Out Date', text:u'Out Time', text:u'Out Code']\n",
        "[text:u'09-Oct-2014', text:u'05:19', text:u'8f4dc416d7f78051a618f0c0a86c7d580b558ef3237deb3d3d4e75e6cb2b85c0cacdbfc793d86f9ed88ece0f721fe0e650cf95831f83eb67c07e72b0a381e4795c9d4c69073d620b96bb20925cdd5dde45e6099a28f85742e0ea99a8a40a2950c076ee5a4c8c3a9a35e7bc1a7972c11794018642a1e1af13fb8ce77e83f56ce8', text:u'william clifford mckee', text:u'esw', text:u'09-Oct-2014', text:u'05:46', text:u'f6f1f3aa78ebce001321b74175aa9ca44b319da7a98007fbf90dc9d2097a443094b31802ad97dafbfa9da121ad1ab859e7a1b55e9613328c8a591c62bf7589f60026789576c77815bdfd446a8fbecd18aa98fddd6b76002ecb363c3e359bc1ebbfd8cb9688947da9b23f05b4adc49768fed419c7ec0d8b18a0c6345f9667db20']\n"
       ]
      }
     ],
     "prompt_number": 22
    },
    {
     "cell_type": "code",
     "collapsed": false,
     "input": [
      "valis = []"
     ],
     "language": "python",
     "metadata": {},
     "outputs": [],
     "prompt_number": 23
    },
    {
     "cell_type": "code",
     "collapsed": false,
     "input": [
      "for swl in swlis[1]:\n",
      "    print swl.value\n",
      "    valis.append(swl.value)"
     ],
     "language": "python",
     "metadata": {},
     "outputs": [
      {
       "output_type": "stream",
       "stream": "stdout",
       "text": [
        "09-Oct-2014\n",
        "05:19\n",
        "8f4dc416d7f78051a618f0c0a86c7d580b558ef3237deb3d3d4e75e6cb2b85c0cacdbfc793d86f9ed88ece0f721fe0e650cf95831f83eb67c07e72b0a381e4795c9d4c69073d620b96bb20925cdd5dde45e6099a28f85742e0ea99a8a40a2950c076ee5a4c8c3a9a35e7bc1a7972c11794018642a1e1af13fb8ce77e83f56ce8\n",
        "william clifford mckee\n",
        "esw\n",
        "09-Oct-2014\n",
        "05:46\n",
        "f6f1f3aa78ebce001321b74175aa9ca44b319da7a98007fbf90dc9d2097a443094b31802ad97dafbfa9da121ad1ab859e7a1b55e9613328c8a591c62bf7589f60026789576c77815bdfd446a8fbecd18aa98fddd6b76002ecb363c3e359bc1ebbfd8cb9688947da9b23f05b4adc49768fed419c7ec0d8b18a0c6345f9667db20\n"
       ]
      }
     ],
     "prompt_number": 24
    },
    {
     "cell_type": "code",
     "collapsed": false,
     "input": [
      "valis"
     ],
     "language": "python",
     "metadata": {},
     "outputs": [
      {
       "metadata": {},
       "output_type": "pyout",
       "prompt_number": 25,
       "text": [
        "[u'09-Oct-2014',\n",
        " u'05:19',\n",
        " u'8f4dc416d7f78051a618f0c0a86c7d580b558ef3237deb3d3d4e75e6cb2b85c0cacdbfc793d86f9ed88ece0f721fe0e650cf95831f83eb67c07e72b0a381e4795c9d4c69073d620b96bb20925cdd5dde45e6099a28f85742e0ea99a8a40a2950c076ee5a4c8c3a9a35e7bc1a7972c11794018642a1e1af13fb8ce77e83f56ce8',\n",
        " u'william clifford mckee',\n",
        " u'esw',\n",
        " u'09-Oct-2014',\n",
        " u'05:46',\n",
        " u'f6f1f3aa78ebce001321b74175aa9ca44b319da7a98007fbf90dc9d2097a443094b31802ad97dafbfa9da121ad1ab859e7a1b55e9613328c8a591c62bf7589f60026789576c77815bdfd446a8fbecd18aa98fddd6b76002ecb363c3e359bc1ebbfd8cb9688947da9b23f05b4adc49768fed419c7ec0d8b18a0c6345f9667db20']"
       ]
      }
     ],
     "prompt_number": 25
    },
    {
     "cell_type": "code",
     "collapsed": false,
     "input": [
      "tiran = os.urandom(128).encode('hex')"
     ],
     "language": "python",
     "metadata": {},
     "outputs": [],
     "prompt_number": 26
    },
    {
     "cell_type": "code",
     "collapsed": false,
     "input": [
      "\n",
      "w = copy(open_workbook('/home/wcmckee/whai/index.xls'))\n",
      "w.get_sheet(0).write(1,5, time.strftime(\"%d\" + \"-\" + \"%b\" + \"-\" + \"%Y\"))\n",
      "w.get_sheet(0).write(1,6, time.strftime(\"%H:%M\"))\n",
      "w.get_sheet(0).write(1,7, tiran)\n",
      "\n",
      "w.save('/home/wcmckee/whai/index.xls')"
     ],
     "language": "python",
     "metadata": {},
     "outputs": [],
     "prompt_number": 27
    },
    {
     "cell_type": "code",
     "collapsed": false,
     "input": [
      "import dominate\n",
      "from dominate.tags import *\n",
      "\n",
      "doc = dominate.document(title=wrkbook.sheet_names())\n",
      "\n",
      "with doc.head:\n",
      "    link(rel='stylesheet', href='style.css')\n",
      "    script(type='text/javascript', src='script.js')\n",
      "\n",
      "with doc:\n",
      "    with div(id='header').add(ol()):\n",
      "        for i in valis:\n",
      "            li(a(i))\n",
      "\n",
      "    with div():\n",
      "        attr(cls='body')\n",
      "        p('visitor sign database is open source. Visit https://github.com/wcmckee/wcmckee ')\n",
      "\n",
      "print doc"
     ],
     "language": "python",
     "metadata": {},
     "outputs": [
      {
       "output_type": "stream",
       "stream": "stdout",
       "text": [
        "<!DOCTYPE html>\n",
        "<html>\n",
        "  <head>\n",
        "    <title>visitor sign database</title>\n",
        "    <link href=\"style.css\" rel=\"stylesheet\">\n",
        "    <script src=\"script.js\" type=\"text/javascript\"></script>\n",
        "  </head>\n",
        "  <body>\n",
        "    <div id=\"header\">\n",
        "      <ol>\n",
        "        <li>\n",
        "          <a>09-Oct-2014</a>\n",
        "        </li>\n",
        "        <li>\n",
        "          <a>05:19</a>\n",
        "        </li>\n",
        "        <li>\n",
        "          <a>8f4dc416d7f78051a618f0c0a86c7d580b558ef3237deb3d3d4e75e6cb2b85c0cacdbfc793d86f9ed88ece0f721fe0e650cf95831f83eb67c07e72b0a381e4795c9d4c69073d620b96bb20925cdd5dde45e6099a28f85742e0ea99a8a40a2950c076ee5a4c8c3a9a35e7bc1a7972c11794018642a1e1af13fb8ce77e83f56ce8</a>\n",
        "        </li>\n",
        "        <li>\n",
        "          <a>william clifford mckee</a>\n",
        "        </li>\n",
        "        <li>\n",
        "          <a>esw</a>\n",
        "        </li>\n",
        "        <li>\n",
        "          <a>09-Oct-2014</a>\n",
        "        </li>\n",
        "        <li>\n",
        "          <a>05:46</a>\n",
        "        </li>\n",
        "        <li>\n",
        "          <a>f6f1f3aa78ebce001321b74175aa9ca44b319da7a98007fbf90dc9d2097a443094b31802ad97dafbfa9da121ad1ab859e7a1b55e9613328c8a591c62bf7589f60026789576c77815bdfd446a8fbecd18aa98fddd6b76002ecb363c3e359bc1ebbfd8cb9688947da9b23f05b4adc49768fed419c7ec0d8b18a0c6345f9667db20</a>\n",
        "        </li>\n",
        "      </ol>\n",
        "    </div>\n",
        "    <div class=\"body\">\n",
        "      <p>visitor sign database is open source. Visit https://github.com/wcmckee/wcmckee </p>\n",
        "    </div>\n",
        "  </body>\n",
        "</html>\n"
       ]
      }
     ],
     "prompt_number": 34
    },
    {
     "cell_type": "code",
     "collapsed": false,
     "input": [
      "indsav = ('/home/wcmckee/whai/index.html')"
     ],
     "language": "python",
     "metadata": {},
     "outputs": [],
     "prompt_number": 35
    },
    {
     "cell_type": "code",
     "collapsed": false,
     "input": [
      "opind = open(indsav, 'w')"
     ],
     "language": "python",
     "metadata": {},
     "outputs": [],
     "prompt_number": 36
    },
    {
     "cell_type": "code",
     "collapsed": false,
     "input": [
      "opind.write(str(doc))\n"
     ],
     "language": "python",
     "metadata": {},
     "outputs": [],
     "prompt_number": 39
    },
    {
     "cell_type": "code",
     "collapsed": false,
     "input": [
      "opind.close()"
     ],
     "language": "python",
     "metadata": {},
     "outputs": [],
     "prompt_number": 40
    },
    {
     "cell_type": "code",
     "collapsed": false,
     "input": [
      "cat /home/wcmckee/whai/index.html"
     ],
     "language": "python",
     "metadata": {},
     "outputs": [
      {
       "output_type": "stream",
       "stream": "stdout",
       "text": [
        "<!DOCTYPE html>\r\n",
        "<html>\r\n",
        "  <head>\r\n",
        "    <title>visitor sign database</title>\r\n",
        "    <link href=\"style.css\" rel=\"stylesheet\">\r\n",
        "    <script src=\"script.js\" type=\"text/javascript\"></script>\r\n",
        "  </head>\r\n",
        "  <body>\r\n",
        "    <div id=\"header\">\r\n",
        "      <ol>\r\n",
        "        <li>\r\n",
        "          <a>09-Oct-2014</a>\r\n",
        "        </li>\r\n",
        "        <li>\r\n",
        "          <a>05:19</a>\r\n",
        "        </li>\r\n",
        "        <li>\r\n",
        "          <a>8f4dc416d7f78051a618f0c0a86c7d580b558ef3237deb3d3d4e75e6cb2b85c0cacdbfc793d86f9ed88ece0f721fe0e650cf95831f83eb67c07e72b0a381e4795c9d4c69073d620b96bb20925cdd5dde45e6099a28f85742e0ea99a8a40a2950c076ee5a4c8c3a9a35e7bc1a7972c11794018642a1e1af13fb8ce77e83f56ce8</a>\r\n",
        "        </li>\r\n",
        "        <li>\r\n",
        "          <a>william clifford mckee</a>\r\n",
        "        </li>\r\n",
        "        <li>\r\n",
        "          <a>esw</a>\r\n",
        "        </li>\r\n",
        "        <li>\r\n",
        "          <a>09-Oct-2014</a>\r\n",
        "        </li>\r\n",
        "        <li>\r\n",
        "          <a>05:46</a>\r\n",
        "        </li>\r\n",
        "        <li>\r\n",
        "          <a>f6f1f3aa78ebce001321b74175aa9ca44b319da7a98007fbf90dc9d2097a443094b31802ad97dafbfa9da121ad1ab859e7a1b55e9613328c8a591c62bf7589f60026789576c77815bdfd446a8fbecd18aa98fddd6b76002ecb363c3e359bc1ebbfd8cb9688947da9b23f05b4adc49768fed419c7ec0d8b18a0c6345f9667db20</a>\r\n",
        "        </li>\r\n",
        "      </ol>\r\n",
        "    </div>\r\n",
        "    <div class=\"body\">\r\n",
        "      <p>visitor sign database is open source. Visit https://github.com/wcmckee/wcmckee </p>\r\n",
        "    </div>\r\n",
        "  </body>\r\n",
        "</html>"
       ]
      }
     ],
     "prompt_number": 41
    },
    {
     "cell_type": "code",
     "collapsed": false,
     "input": [
      "lily allen live"
     ],
     "language": "python",
     "metadata": {},
     "outputs": []
    }
   ],
   "metadata": {}
  }
 ]
}