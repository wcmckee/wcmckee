{
 "metadata": {
  "name": "",
  "signature": "sha256:f786b2f825b80130cc678aca052b33673abe01974fa8373cc65f5fc264d6f4ca"
 },
 "nbformat": 3,
 "nbformat_minor": 0,
 "worksheets": [
  {
   "cells": [
    {
     "cell_type": "markdown",
     "metadata": {},
     "source": [
      "<h3>WhaiOut</h3>\n",
      "\n",
      "This is the signout script that opens the login file and fills in signout info.\n",
      "\n",
      "Opens up list of signin data. This is date of sign in, time, name, and reason.\n",
      "This is .meta. This script appends sign out data. This is signout date, signout time, and comments.\n",
      "\n",
      "8 urandom 128 keys are generated. Used these in saving the achieve, as .html, and .meta files.\n",
      "Why not save as yr-month-day-hr-min.meta /html\n",
      "\n",
      "Turn it into a Nikola blog. Three blog posts. login (whaxlu.py), logout (whaiout.py), and the result of both of them. Perhaps it\n",
      "\n",
      "creates date and time mark and asks for comment"
     ]
    },
    {
     "cell_type": "markdown",
     "metadata": {},
     "source": [
      "This needs rewriten to remove xl stuff opening. keep it to json and dict. "
     ]
    },
    {
     "cell_type": "code",
     "collapsed": false,
     "input": [
      "#import xlrd\n",
      "import os\n",
      "import time\n",
      "#from xlutils.copy import copy\n",
      "#from xlrd import *\n",
      "import dominate\n",
      "import json\n",
      "from dominate.tags import *\n",
      "from time import strftime, gmtime"
     ],
     "language": "python",
     "metadata": {},
     "outputs": [],
     "prompt_number": 1
    },
    {
     "cell_type": "code",
     "collapsed": false,
     "input": [
      "#wrkbook = xlrd.open_workbook('/home/wcmckee/whai/index.xls')"
     ],
     "language": "python",
     "metadata": {},
     "outputs": [],
     "prompt_number": 2
    },
    {
     "cell_type": "code",
     "collapsed": false,
     "input": [
      "jsopn = open('/home/wcmckee/visignsys/index.json', 'r')\n",
      "jsrdv = jsopn.read()"
     ],
     "language": "python",
     "metadata": {},
     "outputs": [],
     "prompt_number": 3
    },
    {
     "cell_type": "code",
     "collapsed": false,
     "input": [
      "jsrdv"
     ],
     "language": "python",
     "metadata": {},
     "outputs": [
      {
       "metadata": {},
       "output_type": "pyout",
       "prompt_number": 4,
       "text": [
        "'{\"signin hrmin\": \"18:14:35\", \"reason\": \"ESW\", \"firstname\": \"William\", \"signin comment\": \"testing locally\", \"lastname\": \"Mckee\", \"signin date\": \"07-Jan-2015\"}'"
       ]
      }
     ],
     "prompt_number": 4
    },
    {
     "cell_type": "code",
     "collapsed": false,
     "input": [
      "#print wrkbook.sheet_names()\n",
      "\n",
      "#worksheet = wrkbook.sheet_by_name('visitor sign database')\n",
      "#swlis = []\n",
      "#num_rows = worksheet.nrows - 1\n",
      "#curr_row = -1\n",
      "#while curr_row < num_rows:\n",
      "#    curr_row += 1\n",
      "#    row = worksheet.row(curr_row)\n",
      "    #print row\n",
      "#    swlis.append(row)"
     ],
     "language": "python",
     "metadata": {},
     "outputs": [],
     "prompt_number": 5
    },
    {
     "cell_type": "code",
     "collapsed": false,
     "input": [
      "#valis = []"
     ],
     "language": "python",
     "metadata": {},
     "outputs": [],
     "prompt_number": 6
    },
    {
     "cell_type": "code",
     "collapsed": false,
     "input": [
      "#for swl in swlis[1]:\n",
      "#    print swl.value\n",
      "#    valis.append(swl.value)\n"
     ],
     "language": "python",
     "metadata": {},
     "outputs": [],
     "prompt_number": 7
    },
    {
     "cell_type": "code",
     "collapsed": false,
     "input": [
      "tiran = os.urandom(128).encode('hex')\n",
      "reran = os.urandom(128).encode('hex')\n",
      "comran = os.urandom(128).encode('hex')"
     ],
     "language": "python",
     "metadata": {},
     "outputs": [],
     "prompt_number": 8
    },
    {
     "cell_type": "code",
     "collapsed": false,
     "input": [
      "inpcom = raw_input('comment: ')"
     ],
     "language": "python",
     "metadata": {},
     "outputs": [
      {
       "name": "stdout",
       "output_type": "stream",
       "stream": "stdout",
       "text": [
        "comment: chexk\n"
       ]
      }
     ],
     "prompt_number": 7
    },
    {
     "cell_type": "code",
     "collapsed": false,
     "input": [
      "endate = time.strftime(\"%d\" + \"-\" + \"%b\" + \"-\" + \"%Y\")\n",
      "          \n",
      "entim = time.strftime(\"%H:%M\")"
     ],
     "language": "python",
     "metadata": {},
     "outputs": [],
     "prompt_number": 8
    },
    {
     "cell_type": "code",
     "collapsed": false,
     "input": [
      "snoutm = {'out-date': endate}\n",
      "snoutm.update({'out-time': entim})\n",
      "snoutm.update({'out-comment': inpcom})"
     ],
     "language": "python",
     "metadata": {},
     "outputs": [],
     "prompt_number": 9
    },
    {
     "cell_type": "code",
     "collapsed": false,
     "input": [
      "signoutdic = {endate: tiran}\n",
      "timoutdic = {entim: reran}"
     ],
     "language": "python",
     "metadata": {},
     "outputs": [],
     "prompt_number": 10
    },
    {
     "cell_type": "code",
     "collapsed": false,
     "input": [
      "signoutdic.update({entim:reran})"
     ],
     "language": "python",
     "metadata": {},
     "outputs": [],
     "prompt_number": 11
    },
    {
     "cell_type": "code",
     "collapsed": false,
     "input": [
      "signoutdic.update({inpcom: comran})"
     ],
     "language": "python",
     "metadata": {},
     "outputs": [],
     "prompt_number": 12
    },
    {
     "cell_type": "code",
     "collapsed": false,
     "input": [
      "signkeys = signoutdic.keys()"
     ],
     "language": "python",
     "metadata": {},
     "outputs": [],
     "prompt_number": 13
    },
    {
     "cell_type": "code",
     "collapsed": false,
     "input": [
      "wha = open('/home/wcmckee/visignsys/index.json', 'a')\n",
      "\n",
      "#w = copy(open_workbook('/home/wcmckee/whai/index.xls'))\n",
      "#w.get_sheet(0).write(1,5, time.strftime(\"%d\" + \"-\" + \"%b\" + \"-\" + \"%Y\"))\n",
      "#w.get_sheet(0).write(1,6, time.strftime(\"%H:%M\"))\n",
      "#w.get_sheet(0).write(1,7, tiran)\n",
      "\n",
      "#w.save('/home/wcmckee/whai/index.xls')"
     ],
     "language": "python",
     "metadata": {},
     "outputs": [],
     "prompt_number": 14
    },
    {
     "cell_type": "code",
     "collapsed": false,
     "input": [
      "indsav = ('/home/wcmckee/whai/index.html')"
     ],
     "language": "python",
     "metadata": {},
     "outputs": [],
     "prompt_number": 15
    },
    {
     "cell_type": "code",
     "collapsed": false,
     "input": [
      "opind = open(indsav, 'w')"
     ],
     "language": "python",
     "metadata": {},
     "outputs": [],
     "prompt_number": 16
    },
    {
     "cell_type": "code",
     "collapsed": false,
     "input": [
      "doc = dominate.document(title=wrkbook.sheet_names())\n",
      "\n",
      "with doc.head:\n",
      "    link(rel='stylesheet', href='style.css')\n",
      "    script(type='text/javascript', src='script.js')\n",
      "\n",
      "with doc:\n",
      "    with div(id='header').add(ol()):\n",
      "        for i in valis:\n",
      "            li(a(i))\n",
      "\n",
      "    with div():\n",
      "        attr(cls='body')\n",
      "        p('visitor sign database is open source. Visit https://github.com/wcmckee/wcmckee ')\n",
      "\n",
      "#print doc"
     ],
     "language": "python",
     "metadata": {},
     "outputs": [],
     "prompt_number": 17
    },
    {
     "cell_type": "code",
     "collapsed": false,
     "input": [
      "opind.write(str(doc))\n"
     ],
     "language": "python",
     "metadata": {},
     "outputs": [],
     "prompt_number": 18
    },
    {
     "cell_type": "code",
     "collapsed": false,
     "input": [
      "opind.close()"
     ],
     "language": "python",
     "metadata": {},
     "outputs": [],
     "prompt_number": 19
    },
    {
     "cell_type": "code",
     "collapsed": false,
     "input": [
      "liop = open('/home/wcmckee/visignsys/index.meta', 'a+')\n",
      "liop.write(str(signkeys))\n",
      "liop.close()"
     ],
     "language": "python",
     "metadata": {},
     "outputs": [],
     "prompt_number": 20
    },
    {
     "cell_type": "code",
     "collapsed": false,
     "input": [],
     "language": "python",
     "metadata": {},
     "outputs": [],
     "prompt_number": 80
    },
    {
     "cell_type": "code",
     "collapsed": false,
     "input": [
      "oplis = open('/home/wcmckee/visignsys/index.meta', 'r')\n",
      "oplsav = oplis.read()\n",
      "oplis.close()"
     ],
     "language": "python",
     "metadata": {},
     "outputs": [],
     "prompt_number": 81
    },
    {
     "cell_type": "code",
     "collapsed": false,
     "input": [
      "trsor = tiran[0:12]"
     ],
     "language": "python",
     "metadata": {},
     "outputs": [],
     "prompt_number": 82
    },
    {
     "cell_type": "code",
     "collapsed": false,
     "input": [
      "yearz = strftime(\"%y\", gmtime())\n",
      "monthz = strftime(\"%m\", gmtime())\n",
      "dayz = strftime(\"%d\", gmtime())\n",
      "\n",
      "hurz = strftime(\"%H\", gmtime())\n",
      "minz = strftime(\"%M\", gmtime())\n"
     ],
     "language": "python",
     "metadata": {},
     "outputs": [],
     "prompt_number": 19
    },
    {
     "cell_type": "code",
     "collapsed": false,
     "input": [
      "dform = (yearz + monthz + dayz +hurz + minz)"
     ],
     "language": "python",
     "metadata": {},
     "outputs": [],
     "prompt_number": 21
    },
    {
     "cell_type": "code",
     "collapsed": false,
     "input": [
      "optrd = open('/home/wcmckee/visignsys/posts/' + dform + '.meta', 'w')\n",
      "optrd.write(oplsav)\n",
      "optrd.close()"
     ],
     "language": "python",
     "metadata": {},
     "outputs": [],
     "prompt_number": 84
    },
    {
     "cell_type": "code",
     "collapsed": false,
     "input": [
      "jsnrd = open('/home/wcmckee/visignsys/posts/' + dform + '.json', 'w')\n",
      "jsnrd.write(oplsav)\n",
      "jsnrd.close()"
     ],
     "language": "python",
     "metadata": {},
     "outputs": [],
     "prompt_number": 85
    },
    {
     "cell_type": "code",
     "collapsed": false,
     "input": [
      "savpos = open('/home/wcmckee/visignsys/index.json', 'r')\n",
      "signindi = savpos.read()"
     ],
     "language": "python",
     "metadata": {},
     "outputs": [],
     "prompt_number": 22
    },
    {
     "cell_type": "code",
     "collapsed": false,
     "input": [
      "jsnaccept = signindi.replace(\"'\", \"\\\"\")\n",
      "snoutm = json.loads(jsnaccept)"
     ],
     "language": "python",
     "metadata": {},
     "outputs": [],
     "prompt_number": 25
    },
    {
     "cell_type": "code",
     "collapsed": false,
     "input": [
      "snct = dict(d.items() + snoutm.items())"
     ],
     "language": "python",
     "metadata": {},
     "outputs": [],
     "prompt_number": 26
    },
    {
     "cell_type": "code",
     "collapsed": false,
     "input": [
      "savpos.close()"
     ],
     "language": "python",
     "metadata": {},
     "outputs": [],
     "prompt_number": 27
    },
    {
     "cell_type": "code",
     "collapsed": false,
     "input": [
      "os.chdir('/home/wcmckee/visignsys/posts')"
     ],
     "language": "python",
     "metadata": {},
     "outputs": [],
     "prompt_number": 28
    },
    {
     "cell_type": "code",
     "collapsed": false,
     "input": [
      "lismet = os.listdir('/home/wcmckee/visignsys/posts')"
     ],
     "language": "python",
     "metadata": {},
     "outputs": [],
     "prompt_number": 29
    },
    {
     "cell_type": "code",
     "collapsed": false,
     "input": [
      "lismet"
     ],
     "language": "python",
     "metadata": {},
     "outputs": [
      {
       "metadata": {},
       "output_type": "pyout",
       "prompt_number": 30,
       "text": [
        "['b9b5a2864917.meta',\n",
        " '2ce7b7e78b2d.json',\n",
        " 'f63a51c5660b.json',\n",
        " 'ec335a74fef8.json',\n",
        " 'd4da1b21b2ac.meta',\n",
        " '06fd12b77af5.html',\n",
        " 'bd18983ba81c.json',\n",
        " 'bc3f7ce010a0.meta',\n",
        " '4300bad9866e.meta',\n",
        " '8d73b8f33da2.json',\n",
        " 'cbbcc7a60aa1.meta',\n",
        " '624bf3800e42.meta',\n",
        " 'ec335a74fef8.meta',\n",
        " '8d73b8f33da2.meta',\n",
        " '417ca4249670.meta',\n",
        " '891149fcb0cc.meta',\n",
        " '086ef98a8bea.meta',\n",
        " 'a10ef30465fb.html',\n",
        " 'be7f3bba40a9.meta',\n",
        " 'ad81cda1984a.meta',\n",
        " '9479b52fcb96.json',\n",
        " '3342b7e37622.json',\n",
        " 'f51c0885211f.json',\n",
        " '8fb418bed294.meta',\n",
        " 'be7f3bba40a9.json',\n",
        " '20923a94e619.json',\n",
        " '91ece852eb61.meta',\n",
        " 'fab0f7427796.html',\n",
        " 'cbbcc7a60aa1.html',\n",
        " '8bf3b3c045b2.json',\n",
        " '1bca31594654.meta',\n",
        " 'd7bfad4d84af.json',\n",
        " '4be47b95b184.html',\n",
        " 'e51d650f3bd8.meta',\n",
        " 'c173782cc4ba.html',\n",
        " 'bc3f7ce010a0.json',\n",
        " '9cce0605ff95.meta',\n",
        " '891149fcb0cc.json',\n",
        " '4611a6b53369.json',\n",
        " '8fb418bed294.json',\n",
        " '68dc32243aee.html',\n",
        " '1e1b72c3728f.meta',\n",
        " '1ca6f0c7d074.json',\n",
        " '710d4ea76685.meta',\n",
        " '9479b52fcb96.meta',\n",
        " '50028413d505.meta',\n",
        " '231f0cbc6422.json',\n",
        " '710d4ea76685.json',\n",
        " 'f30478d49490.html',\n",
        " '1e1b72c3728f.json',\n",
        " '81ae6564478e.meta',\n",
        " 'e51d650f3bd8.html',\n",
        " 'd948bc2cb2d5.meta',\n",
        " '788ab4a4a085.html',\n",
        " '2f125041a9ff.html',\n",
        " '69ac885a08d4.html',\n",
        " '20923a94e619.meta',\n",
        " '046ddc95c545.meta',\n",
        " '175dea65c5bd.meta',\n",
        " 'd7bfad4d84af.meta',\n",
        " '50028413d505.html',\n",
        " '39848c9e2306.meta',\n",
        " 'a5fd59588711.json',\n",
        " '9c5044cb8c12.meta',\n",
        " '6ac58d43a79e.html',\n",
        " 'a10ef30465fb.meta',\n",
        " 'fab0f7427796.meta',\n",
        " 'faab1e3ed989.json',\n",
        " 'c02c3d6eb062.json',\n",
        " 'f31b6e50e61d.json',\n",
        " '2a107fb19ec7.json',\n",
        " '6e8165886873.json',\n",
        " 'd4da1b21b2ac.html',\n",
        " '4611a6b53369.meta',\n",
        " '1ca6f0c7d074.html',\n",
        " 'g\\xe9~\\xaf\"\\x80\\xa8\\x88\\xc7X\\xce\\x83\\x98\\xe6\\x15t.html',\n",
        " '1537f9b58c99.meta',\n",
        " '6ac58d43a79e.meta',\n",
        " '1bca31594654.json',\n",
        " 'faab1e3ed989.meta',\n",
        " 'a5fd59588711.meta',\n",
        " '06fd12b77af5.meta',\n",
        " 'df5aed94d944.html',\n",
        " '2a107fb19ec7.meta',\n",
        " '9c5044cb8c12.json',\n",
        " '1537f9b58c99.html',\n",
        " '5e98dfab4326.json',\n",
        " '2f6d172a9d5d.json',\n",
        " 'e8e05f2bf0c0.meta',\n",
        " '1ef070dc6543.meta',\n",
        " '125540ca4363.meta',\n",
        " '8457b8a9b2c0.json',\n",
        " 'b9b5a2864917.json',\n",
        " 'f63a51c5660b.meta',\n",
        " '046ddc95c545.html',\n",
        " '231f0cbc6422.html',\n",
        " 'be7f3bba40a9.html',\n",
        " 'g\\xe9~\\xaf\"\\x80\\xa8\\x88\\xc7X\\xce\\x83\\x98\\xe6\\x15t.json',\n",
        " '8f05ce526d45.meta',\n",
        " 'fde78ce1d94a.json',\n",
        " '0c4a69aa64c3.meta',\n",
        " 'd948bc2cb2d5.html',\n",
        " '2f125041a9ff.meta',\n",
        " 'ed90e8d91209.meta',\n",
        " 'f51c0885211f.meta',\n",
        " '\\xff\\xceX\\xa6\\x1b\\xc7\\xdf\\x051\\x81\\x9d+\\x95h\\xf16.html',\n",
        " '4300bad9866e.html',\n",
        " '03ba33c75d39.html',\n",
        " '5832e9b60262.html',\n",
        " '6e8165886873.meta',\n",
        " '086ef98a8bea.json',\n",
        " '4be47b95b184.meta',\n",
        " '68c7478ad623.meta',\n",
        " '81ae6564478e.html',\n",
        " '68dc32243aee.meta',\n",
        " '231f0cbc6422.meta',\n",
        " 'ce4b76e41145.meta',\n",
        " 'ce4b76e41145.html',\n",
        " 'bd18983ba81c.meta',\n",
        " '469b6be62e65.json',\n",
        " '6dbfbbb9c12e.meta',\n",
        " 'e8e05f2bf0c0.json',\n",
        " '1bca31594654.html',\n",
        " '175dea65c5bd.json',\n",
        " 'f30478d49490.meta',\n",
        " '0c4a69aa64c3.json',\n",
        " '9f223146a0a7.html',\n",
        " '39848c9e2306.html',\n",
        " 'f63a51c5660b.html',\n",
        " '3b572fbccfff.html',\n",
        " '5f866c12e733.html',\n",
        " 'df5aed94d944.meta',\n",
        " '3342b7e37622.meta',\n",
        " '08eed5e7841d.json',\n",
        " '9cce0605ff95.html',\n",
        " '69ac885a08d4.meta',\n",
        " '1ca6f0c7d074.meta',\n",
        " '63e5d8747f8f.html',\n",
        " 'ad81cda1984a.json',\n",
        " '63e5d8747f8f.meta',\n",
        " '5e98dfab4326.meta',\n",
        " '49f5eeb93b58.json',\n",
        " '4a1d7fbd4af7.html',\n",
        " 'a5fd59588711.html',\n",
        " '81ae6564478e.json',\n",
        " 'c9739e8e0ad8.meta',\n",
        " 'f78d6acee067.meta',\n",
        " '417ca4249670.json',\n",
        " '953205620074.meta',\n",
        " 'c173782cc4ba.meta',\n",
        " 'c81a54c3aa37.json',\n",
        " '8f05ce526d45.html',\n",
        " '49f5eeb93b58.meta',\n",
        " 'de3a5ee926b8.meta',\n",
        " '788ab4a4a085.meta',\n",
        " '4994b1705e91.meta',\n",
        " '5832e9b60262.meta',\n",
        " '469b6be62e65.meta',\n",
        " '8bf3b3c045b2.meta',\n",
        " '1ef070dc6543.json',\n",
        " 'f31b6e50e61d.meta',\n",
        " '5e98dfab4326.html',\n",
        " 'df5aed94d944.json',\n",
        " '624bf3800e42.html',\n",
        " '03ba33c75d39.meta',\n",
        " '68c7478ad623.json',\n",
        " '5f866c12e733.meta',\n",
        " 'c8840e55dd2b.json',\n",
        " '4a1d7fbd4af7.json',\n",
        " 'c02c3d6eb062.meta',\n",
        " '6dbfbbb9c12e.html',\n",
        " 'd948bc2cb2d5.json',\n",
        " 'ff09eb4188ad.html',\n",
        " '953205620074.json',\n",
        " 'cee5c35e8560.meta',\n",
        " 'dce45c4cde99.meta',\n",
        " '08eed5e7841d.meta',\n",
        " '2ce7b7e78b2d.meta',\n",
        " 'c9739e8e0ad8.json',\n",
        " '\\xff\\xceX\\xa6\\x1b\\xc7\\xdf\\x051\\x81\\x9d+\\x95h\\xf16.json',\n",
        " 'ff09eb4188ad.meta',\n",
        " '125540ca4363.json',\n",
        " '2f6d172a9d5d.meta',\n",
        " 'c81a54c3aa37.meta',\n",
        " '3b572fbccfff.meta',\n",
        " 'dce45c4cde99.json',\n",
        " '4994b1705e91.json',\n",
        " 'f78d6acee067.html',\n",
        " 'ed90e8d91209.json',\n",
        " '4a1d7fbd4af7.meta',\n",
        " 'fde78ce1d94a.meta',\n",
        " '8457b8a9b2c0.meta',\n",
        " '9f223146a0a7.meta',\n",
        " 'cee5c35e8560.json',\n",
        " 'de3a5ee926b8.html',\n",
        " 'c8840e55dd2b.meta']"
       ]
      }
     ],
     "prompt_number": 30
    },
    {
     "cell_type": "code",
     "collapsed": false,
     "input": [
      "opjsnz = []"
     ],
     "language": "python",
     "metadata": {},
     "outputs": [],
     "prompt_number": 31
    },
    {
     "cell_type": "code",
     "collapsed": false,
     "input": [
      "for beca in lismet:\n",
      "    if '.json' in beca:\n",
      "        print beca\n",
      "        opjsnz.append(beca)"
     ],
     "language": "python",
     "metadata": {},
     "outputs": [
      {
       "output_type": "stream",
       "stream": "stdout",
       "text": [
        "2ce7b7e78b2d.json\n",
        "f63a51c5660b.json\n",
        "ec335a74fef8.json\n",
        "bd18983ba81c.json\n",
        "8d73b8f33da2.json\n",
        "9479b52fcb96.json\n",
        "3342b7e37622.json\n",
        "f51c0885211f.json\n",
        "be7f3bba40a9.json\n",
        "20923a94e619.json\n",
        "8bf3b3c045b2.json\n",
        "d7bfad4d84af.json\n",
        "bc3f7ce010a0.json\n",
        "891149fcb0cc.json\n",
        "4611a6b53369.json\n",
        "8fb418bed294.json\n",
        "1ca6f0c7d074.json\n",
        "231f0cbc6422.json\n",
        "710d4ea76685.json\n",
        "1e1b72c3728f.json\n",
        "a5fd59588711.json\n",
        "faab1e3ed989.json\n",
        "c02c3d6eb062.json\n",
        "f31b6e50e61d.json\n",
        "2a107fb19ec7.json\n",
        "6e8165886873.json\n",
        "1bca31594654.json\n",
        "9c5044cb8c12.json\n",
        "5e98dfab4326.json\n",
        "2f6d172a9d5d.json\n",
        "8457b8a9b2c0.json\n",
        "b9b5a2864917.json\n",
        "g\ufffd~\ufffd\"\ufffd\ufffd\ufffd\ufffdX\u0383\ufffd\ufffd\u0015t.json\n",
        "fde78ce1d94a.json\n",
        "086ef98a8bea.json\n",
        "469b6be62e65.json\n",
        "e8e05f2bf0c0.json\n",
        "175dea65c5bd.json\n",
        "0c4a69aa64c3.json\n",
        "08eed5e7841d.json\n",
        "ad81cda1984a.json\n",
        "49f5eeb93b58.json\n",
        "81ae6564478e.json\n",
        "417ca4249670.json\n",
        "c81a54c3aa37.json\n",
        "1ef070dc6543.json\n",
        "df5aed94d944.json\n",
        "68c7478ad623.json\n",
        "c8840e55dd2b.json\n",
        "4a1d7fbd4af7.json\n",
        "d948bc2cb2d5.json\n",
        "953205620074.json\n",
        "c9739e8e0ad8.json\n",
        "\ufffd\ufffdX\ufffd\u001b\ufffd\ufffd\u00051\ufffd\ufffd+\ufffdh\ufffd6.json\n",
        "125540ca4363.json\n",
        "dce45c4cde99.json\n",
        "4994b1705e91.json\n",
        "ed90e8d91209.json\n",
        "cee5c35e8560.json\n"
       ]
      }
     ],
     "prompt_number": 32
    },
    {
     "cell_type": "code",
     "collapsed": false,
     "input": [
      "optjz = []\n",
      "optjsz = []"
     ],
     "language": "python",
     "metadata": {},
     "outputs": [],
     "prompt_number": 33
    },
    {
     "cell_type": "code",
     "collapsed": false,
     "input": [
      "apgpls = []"
     ],
     "language": "python",
     "metadata": {},
     "outputs": [],
     "prompt_number": 34
    },
    {
     "cell_type": "code",
     "collapsed": false,
     "input": [
      "#for opjw in opjsnz:\n",
      "#    print opjw\n",
      "#    optjsz.append(objw)\n",
      "    "
     ],
     "language": "python",
     "metadata": {},
     "outputs": [],
     "prompt_number": 35
    },
    {
     "cell_type": "code",
     "collapsed": false,
     "input": [
      "#for filop in opjsnz:\n",
      "    #print filop\n",
      "#    opt = open(opj, 'r')\n",
      "#    thedict = str(opt.read())\n",
      "#    thedict\n",
      "#    opt.close()"
     ],
     "language": "python",
     "metadata": {},
     "outputs": [],
     "prompt_number": 36
    },
    {
     "cell_type": "code",
     "collapsed": false,
     "input": [
      "#opt = open(opj, 'r')"
     ],
     "language": "python",
     "metadata": {},
     "outputs": [],
     "prompt_number": 37
    },
    {
     "cell_type": "code",
     "collapsed": false,
     "input": [
      "#thedict = opt.read()"
     ],
     "language": "python",
     "metadata": {},
     "outputs": [],
     "prompt_number": 38
    },
    {
     "cell_type": "code",
     "collapsed": false,
     "input": [
      "#thedict"
     ],
     "language": "python",
     "metadata": {},
     "outputs": [],
     "prompt_number": 39
    },
    {
     "cell_type": "code",
     "collapsed": false,
     "input": [
      "#convgpj = json.loads(thedict)"
     ],
     "language": "python",
     "metadata": {},
     "outputs": [],
     "prompt_number": 40
    },
    {
     "cell_type": "code",
     "collapsed": false,
     "input": [
      "#convgpj.values()"
     ],
     "language": "python",
     "metadata": {},
     "outputs": [],
     "prompt_number": 41
    },
    {
     "cell_type": "code",
     "collapsed": false,
     "input": [],
     "language": "python",
     "metadata": {},
     "outputs": [],
     "prompt_number": 41
    },
    {
     "cell_type": "code",
     "collapsed": false,
     "input": [],
     "language": "python",
     "metadata": {},
     "outputs": []
    }
   ],
   "metadata": {}
  }
 ]
}